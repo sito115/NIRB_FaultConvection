{
 "cells": [
  {
   "cell_type": "code",
   "execution_count": 91,
   "metadata": {},
   "outputs": [],
   "source": [
    "import numpy as np\n",
    "import plotly.express as px\n",
    "import plotly.graph_objects as go\n",
    "from pathlib import Path\n",
    "from helpers import load_pint_data, safe_parse_quantity\n",
    "import pandas as pd\n",
    "import pint\n",
    "from tqdm import tqdm"
   ]
  },
  {
   "cell_type": "markdown",
   "metadata": {},
   "source": [
    "### Import "
   ]
  },
  {
   "cell_type": "code",
   "execution_count": 92,
   "metadata": {},
   "outputs": [
    {
     "data": {
      "text/plain": [
       "PosixPath('/Users/thomassimader/Documents/NIRB')"
      ]
     },
     "execution_count": 92,
     "metadata": {},
     "output_type": "execute_result"
    }
   ],
   "source": [
    "ROOT = Path().cwd().parent\n",
    "VERSION = \"01\"\n",
    "DATA_TYPE = \"Test\"\n",
    "ROOT"
   ]
  },
  {
   "cell_type": "code",
   "execution_count": 93,
   "metadata": {},
   "outputs": [],
   "source": [
    "import sys\n",
    "sys.path.append(str(ROOT))\n",
    "from ComsolClasses.comsol_classes import COMSOL_VTU\n",
    "from ComsolClasses.entropy import calculate_S_therm"
   ]
  },
  {
   "cell_type": "code",
   "execution_count": 94,
   "metadata": {},
   "outputs": [
    {
     "data": {
      "text/plain": [
       "True"
      ]
     },
     "execution_count": 94,
     "metadata": {},
     "output_type": "execute_result"
    }
   ],
   "source": [
    "import_folder = ROOT / \"Snapshots\" / VERSION \n",
    "import_folder.exists()"
   ]
  },
  {
   "cell_type": "code",
   "execution_count": 95,
   "metadata": {},
   "outputs": [],
   "source": [
    "temperatures = np.load(import_folder      / \"Exports\" / f\"{DATA_TYPE}_temperatures.npy\" )\n",
    "temperatures_diff = np.load(import_folder / \"Exports\" / f\"{DATA_TYPE}_temperatures_diff.npy\" )"
   ]
  },
  {
   "cell_type": "code",
   "execution_count": 96,
   "metadata": {},
   "outputs": [],
   "source": [
    "# temperatures[41, -1, :] = temperatures[41, 10, :]"
   ]
  },
  {
   "cell_type": "markdown",
   "metadata": {},
   "source": [
    "### Plot"
   ]
  },
  {
   "cell_type": "code",
   "execution_count": 97,
   "metadata": {},
   "outputs": [],
   "source": [
    "comsol_data  = COMSOL_VTU(import_folder / DATA_TYPE / f\"{DATA_TYPE}_000.vtu\")"
   ]
  },
  {
   "cell_type": "code",
   "execution_count": 98,
   "metadata": {},
   "outputs": [
    {
     "data": {
      "application/vnd.plotly.v1+json": {
       "config": {
        "plotlyServerURL": "https://plot.ly"
       },
       "data": [
        {
         "legendgroup": "000",
         "line": {
          "color": "rgb(0, 0, 131)"
         },
         "name": "000",
         "opacity": 0.4,
         "type": "scatter",
         "x": [
          0,
          1000000000000,
          2000000000000,
          3000000000000,
          4000000000000,
          5000000000000,
          6000000000000,
          7000000000000,
          8000000000000,
          9000000000000,
          10000000000000,
          11000000000000,
          12000000000000,
          13000000000000,
          14000000000000,
          15000000000000,
          16000000000000,
          17000000000000,
          18000000000000,
          19000000000000,
          20000000000000,
          21000000000000,
          22000000000000,
          23000000000000,
          24000000000000,
          25000000000000,
          26000000000000,
          27000000000000,
          28000000000000,
          29000000000000,
          30000000000000,
          31000000000000,
          32000000000000,
          33000000000000,
          34000000000000,
          35000000000000,
          36000000000000,
          37000000000000,
          38000000000000,
          39000000000000,
          40000000000000
         ],
         "y": {
          "bdata": "AAAAAAAASD0QKlHA6Xo+QJAiUST+gT1AMNeQ4PLzPkAAZKVzz3o+QBAT/sVqcj5AADDArE55PkAgf0EOHn8+QJBFYk/TgD5AECCuYkaAPkAQPZj/hn8+QJA0UbhWfz5A8KZwDE1/PkDQf5QQcH8+QPBqFY6Pfz5AYOCKoa1/PkDQVQC1y38+QHDfEbLkfz5AYCazBOt/PkAgbVRX8X8+QBC09an3fz5A8NG5bvt/PkCAKXvU9X8+QBCBPDrwfz5AkNj9n+p/PkDw4wMS5X8+QHAXDbHffz5AAEsWUNp/PkCQfh/v1H8+QPDfKlzQfz5AkFoNvc5/PkBw1e8dzX8+QDBQ0n7Lfz5AsPNXPcp/PkBgMWtTyn8+QPBufmnKfz5AYKyRf8p/PkDwwxewyn8+QHDyp0HLfz5A8CA408t/PkBwT8hkzH8+QA==",
          "dtype": "f8"
         }
        },
        {
         "legendgroup": "000",
         "line": {
          "color": "rgb(0, 0, 131)"
         },
         "name": "000",
         "opacity": 0.4,
         "type": "scatter",
         "x": [
          0,
          1000000000000,
          2000000000000,
          3000000000000,
          4000000000000,
          5000000000000,
          6000000000000,
          7000000000000,
          8000000000000,
          9000000000000,
          10000000000000,
          11000000000000,
          12000000000000,
          13000000000000,
          14000000000000,
          15000000000000,
          16000000000000,
          17000000000000,
          18000000000000,
          19000000000000,
          20000000000000,
          21000000000000,
          22000000000000,
          23000000000000,
          24000000000000,
          25000000000000,
          26000000000000,
          27000000000000,
          28000000000000,
          29000000000000,
          30000000000000,
          31000000000000,
          32000000000000,
          33000000000000,
          34000000000000,
          35000000000000,
          36000000000000,
          37000000000000,
          38000000000000,
          39000000000000,
          40000000000000
         ],
         "y": {
          "bdata": "wPWs/oFlIsAgrFvC5uxBwLAfBlAj3T/AkDd/+xyFP8CQHivKZLg+wDB60sGdnT7AUAYoOpiCPsBgB61ySJA+wKCmHpZhkj7AkAhUF92PPsCQvQdUGI4+wPAATqnrjT7AkIANyvONPsCwl+8GOY4+wPAIA4tgjj7AoNY3I3yOPsBApGy7l44+wJBnK32sjj7AkO+DKKiOPsCwd9zTo44+wLD/NH+fjj7A8J/nkZqOPsBAXIp0k44+wGAYLVeMjj7AkNTPOYWOPsCQjQ5Rf44+wKD+lNR9jj7AsG8bWHyOPsCw4KHbeo4+wKD8v+55jj7A8Gy0EHuOPsCQ3agyfI4+wLBNnVR9jj7A8Go/ZH6OPsCQ2Kgwf44+wGBGEv1/jj7AsLN7yYCOPsBgJzh9gY4+wJDEa9aBjj7A8GGfL4KOPsCQ/9KIgo4+wA==",
          "dtype": "f8"
         }
        },
        {
         "legendgroup": "001",
         "line": {
          "color": "rgb(0, 15, 141)"
         },
         "name": "001",
         "opacity": 0.4,
         "type": "scatter",
         "x": [
          0,
          1000000000000,
          2000000000000,
          3000000000000,
          4000000000000,
          5000000000000,
          6000000000000,
          7000000000000,
          8000000000000,
          9000000000000,
          10000000000000,
          11000000000000,
          12000000000000,
          13000000000000,
          14000000000000,
          15000000000000,
          16000000000000,
          17000000000000,
          18000000000000,
          19000000000000,
          20000000000000,
          21000000000000,
          22000000000000,
          23000000000000,
          24000000000000,
          25000000000000,
          26000000000000,
          27000000000000,
          28000000000000,
          29000000000000,
          30000000000000,
          31000000000000,
          32000000000000,
          33000000000000,
          34000000000000,
          35000000000000,
          36000000000000,
          37000000000000,
          38000000000000,
          39000000000000,
          40000000000000
         ],
         "y": {
          "bdata": "AAAAAAAASD1wLV2GDN4+QODZbVomTz9A6APiuf0FQEBInZV/XA1AQIi2fPYKDUBAeOXhHsMNQEBI+U8+Dw9AQEhd8ZamD0BAyMxzX+gPQEBINvdQ6Q9AQAgZz3PTD0BAaC/cvbwPQEB4pIxdpw9AQHhiDpCcD0BAiCCQwpEPQECQ3hH1hg9AQPh0kFx9D0BAwEkvVH0PQECIHs5LfQ9AQEjzbEN9D0BAWD3SlX0PQEC4FG+3gA9AQADsC9mDD0BAWMOo+oYPQECY9DD4iQ9AQEiv2teLD0BACGqEt40PQEC4JC6Xjw9AQJigklKRD0BAQJ2X7pEPQEDomZyKkg9AQIiWoSaTD0BASOb/rZMPQEA4mb+Rkw9AQBhMf3WTD0BACP8+WZMPQED4pZ8ukw9AQEgDI5KSD0BAsGCm9ZEPQED4vSlZkQ9AQA==",
          "dtype": "f8"
         }
        },
        {
         "legendgroup": "001",
         "line": {
          "color": "rgb(0, 15, 141)"
         },
         "name": "001",
         "opacity": 0.4,
         "type": "scatter",
         "x": [
          0,
          1000000000000,
          2000000000000,
          3000000000000,
          4000000000000,
          5000000000000,
          6000000000000,
          7000000000000,
          8000000000000,
          9000000000000,
          10000000000000,
          11000000000000,
          12000000000000,
          13000000000000,
          14000000000000,
          15000000000000,
          16000000000000,
          17000000000000,
          18000000000000,
          19000000000000,
          20000000000000,
          21000000000000,
          22000000000000,
          23000000000000,
          24000000000000,
          25000000000000,
          26000000000000,
          27000000000000,
          28000000000000,
          29000000000000,
          30000000000000,
          31000000000000,
          32000000000000,
          33000000000000,
          34000000000000,
          35000000000000,
          36000000000000,
          37000000000000,
          38000000000000,
          39000000000000,
          40000000000000
         ],
         "y": {
          "bdata": "APKEalrcIsBgS4TBiY1DwDBOI5l4f0DAuAN1qik/QMC4olH1CRJAwLB6vMiz/z/AcHSijlD5P8AAc8e05fs/wLATNnpO/T/AUL9J8Nv9P8AgiRAN0P0/wHCePRGv/T/AIO3jTI39P8BQiZyHbv0/wACd4X9n/T/AcLAmeGD9P8BQxGtwWf0/wHA/g6pT/T/AcKNq2lf9P8BQB1IKXP0/wFBrOTpg/T/AUFF7TGT9P8BQQ9lzZ/0/wFA1N5tq/T/AUCeVwm39P8BQacSbcP0/wCA5gglx/T/AcAhAd3H9P8BQ2P3kcf0/wLC9ST9y/T/AYFuF/3H9P8Ag+cC/cf0/wHCW/H9x/T/AcC/4PXH9P8Bw9h/qcP0/wHC9R5Zw/T/AcIRvQnD9P8CwZI7vb/0/wHAKU6Rv/T/AYLAXWW/9P8BQVtwNb/0/wA==",
          "dtype": "f8"
         }
        },
        {
         "legendgroup": "002",
         "line": {
          "color": "rgb(0, 30, 150)"
         },
         "name": "002",
         "opacity": 0.4,
         "type": "scatter",
         "x": [
          0,
          1000000000000,
          2000000000000,
          3000000000000,
          4000000000000,
          5000000000000,
          6000000000000,
          7000000000000,
          8000000000000,
          9000000000000,
          10000000000000,
          11000000000000,
          12000000000000,
          13000000000000,
          14000000000000,
          15000000000000,
          16000000000000,
          17000000000000,
          18000000000000,
          19000000000000,
          20000000000000,
          21000000000000,
          22000000000000,
          23000000000000,
          24000000000000,
          25000000000000,
          26000000000000,
          27000000000000,
          28000000000000,
          29000000000000,
          30000000000000,
          31000000000000,
          32000000000000,
          33000000000000,
          34000000000000,
          35000000000000,
          36000000000000,
          37000000000000,
          38000000000000,
          39000000000000,
          40000000000000
         ],
         "y": {
          "bdata": "AAAAAAAAUD0AAAAAAABQPQAAAAAAAFA9AAAAAAAAUD0AAAAAAABQPQAAAAAAAFA9AAAAAAAAUD0AAAAAAABQPQAAAAAAAFA9AAAAAAAAUD0AAAAAAABQPQAAAAAAAFA9AAAAAAAAUD0AAAAAAABQPQAAAAAAAFA9AAAAAAAAUD0AAAAAAABQPQAAAAAAAFA9AAAAAAAAUD0AAAAAAABQPQAAAAAAAFA9AAAAAAAAUD0AAAAAAABQPQAAAAAAAFA9AAAAAAAAUD0AAAAAAABQPQAAAAAAAFA9AAAAAAAAUD0AAAAAAABQPQAAAAAAAFA9AAAAAAAAUD0AAAAAAABQPQAAAAAAAFA9AAAAAAAAUD0AAAAAAABQPQAAAAAAAFA9AAAAAAAAUD0AAAAAAABQPQAAAAAAAFA9AAAAAAAAUD0AAAAAAABQPQ==",
          "dtype": "f8"
         }
        },
        {
         "legendgroup": "002",
         "line": {
          "color": "rgb(0, 30, 150)"
         },
         "name": "002",
         "opacity": 0.4,
         "type": "scatter",
         "x": [
          0,
          1000000000000,
          2000000000000,
          3000000000000,
          4000000000000,
          5000000000000,
          6000000000000,
          7000000000000,
          8000000000000,
          9000000000000,
          10000000000000,
          11000000000000,
          12000000000000,
          13000000000000,
          14000000000000,
          15000000000000,
          16000000000000,
          17000000000000,
          18000000000000,
          19000000000000,
          20000000000000,
          21000000000000,
          22000000000000,
          23000000000000,
          24000000000000,
          25000000000000,
          26000000000000,
          27000000000000,
          28000000000000,
          29000000000000,
          30000000000000,
          31000000000000,
          32000000000000,
          33000000000000,
          34000000000000,
          35000000000000,
          36000000000000,
          37000000000000,
          38000000000000,
          39000000000000,
          40000000000000
         ],
         "y": {
          "bdata": "AHWJbD4JEcCA3a+wlR0RwACk/vmAJBHAgKowL2knEcCAodq59CgRwMBATIPxKRHAAFDl2TsqEcDAXn4whioRwIBuF4fQKhHAAGmICwArEcDAwAcJDisRwAAYhwYcKxHAwG4GBCorEcAAIPj1MisRwADNbJk1KxHAAHnhPDgrEcCAJVbgOisRwIC+YpA8KxHAwP4qED0rEcAAQPOPPSsRwMCAuw8+KxHAAP2CYT4rEcCAFsl5PisRwAAxD5I+KxHAwElVqj4rEcCAWuG5PisRwMDJhL4+KxHAgDkowz4rEcCAqcvHPisRwMAAxco+KxHAALSpyz4rEcAAaI7MPisRwMAbc80+KxHAgPEFzj4rEcAAdDLOPisRwMD1Xs4+KxHAwHiLzj4rEcBAGajOPisRwADhsM4+KxHAAKi5zj4rEcAAcMLOPisRwA==",
          "dtype": "f8"
         }
        },
        {
         "legendgroup": "003",
         "line": {
          "color": "rgb(0, 45, 160)"
         },
         "name": "003",
         "opacity": 0.4,
         "type": "scatter",
         "x": [
          0,
          1000000000000,
          2000000000000,
          3000000000000,
          4000000000000,
          5000000000000,
          6000000000000,
          7000000000000,
          8000000000000,
          9000000000000,
          10000000000000,
          11000000000000,
          12000000000000,
          13000000000000,
          14000000000000,
          15000000000000,
          16000000000000,
          17000000000000,
          18000000000000,
          19000000000000,
          20000000000000,
          21000000000000,
          22000000000000,
          23000000000000,
          24000000000000,
          25000000000000,
          26000000000000,
          27000000000000,
          28000000000000,
          29000000000000,
          30000000000000,
          31000000000000,
          32000000000000,
          33000000000000,
          34000000000000,
          35000000000000,
          36000000000000,
          37000000000000,
          38000000000000,
          39000000000000,
          40000000000000
         ],
         "y": {
          "bdata": "AAAAAAAAWD0AAAAAAABYPQAAAAAAAFg9AAAAAAAAWD0ASmLXgn7hP0Dp82gIJx1AINa+1TpcLEAgsOvNXYUwQOA2eAVpADFAAF1LEiogMUAAFdiCXSgxQGAzx5pEKzFA0JfmzykrMUAAlRb0CCsxQBBvNnb6KjFAEOHtCvIqMUCQz8sy7SoxQKCQC4frKjFA4FFL2+kqMUAAE4sv6CoxQGD8CxbnKjFA0IphfuYqMUAgGbfm5SoxQKCnDE/lKjFAIBvu8uQqMUCgnavL5CoxQCAgaaTkKjFAwKImfeQqMUAg7Ztm5CoxQABl6F7kKjFAoNw0V+QqMUBQVIFP5CoxQJDu3k7kKjFAgIKCVOQqMUCAFiZa5CoxQICqyV/kKjFA4Km2aOQqMUDAl4505CoxQKCFZoDkKjFAkHM+jOQqMUAgv22a5CoxQA==",
          "dtype": "f8"
         }
        },
        {
         "legendgroup": "003",
         "line": {
          "color": "rgb(0, 45, 160)"
         },
         "name": "003",
         "opacity": 0.4,
         "type": "scatter",
         "x": [
          0,
          1000000000000,
          2000000000000,
          3000000000000,
          4000000000000,
          5000000000000,
          6000000000000,
          7000000000000,
          8000000000000,
          9000000000000,
          10000000000000,
          11000000000000,
          12000000000000,
          13000000000000,
          14000000000000,
          15000000000000,
          16000000000000,
          17000000000000,
          18000000000000,
          19000000000000,
          20000000000000,
          21000000000000,
          22000000000000,
          23000000000000,
          24000000000000,
          25000000000000,
          26000000000000,
          27000000000000,
          28000000000000,
          29000000000000,
          30000000000000,
          31000000000000,
          32000000000000,
          33000000000000,
          34000000000000,
          35000000000000,
          36000000000000,
          37000000000000,
          38000000000000,
          39000000000000,
          40000000000000
         ],
         "y": {
          "bdata": "wEOYmZAYFMAAKGYqJy0UwAC10Z+S3xTAwHU8XG1/F8DgHTTubBIgwOBTHZ4MlynAIMtTQ4BaMcBgA9cWNNUywMCH4K7HATPAIAvRK74AM8AgSNJwe/0ywNAqYPsO/DLA4CIG/vn7MsDAkhP85/sywCAJM2vi+zLAsFRl9+D7MsDQBNtn4PsywLAC8qLg+zLAIAAJ3uD7MsDQ/R8Z4fsywFAzuDjh+zLAwA7oP+H7MsAg6hdH4fsywLDFR07h+zLAIIq4VOH7MsCwrH9a4fsywGDPRmDh+zLAIPINZuH7MsBQm91q4fsywFCV0W7h+zLAII/FcuH7MsAgibl24fsywLCHHXvh+zLAIPbkf+H7MsDQZKyE4fsywGDTc4nh+zLAMOzFjuH7MsDQHJOU4fsywGBNYJrh+zLAIH4toOH7MsCwuKqm4fsywA==",
          "dtype": "f8"
         }
        },
        {
         "legendgroup": "004",
         "line": {
          "color": "rgb(0, 60, 170)"
         },
         "name": "004",
         "opacity": 0.4,
         "type": "scatter",
         "x": [
          0,
          1000000000000,
          2000000000000,
          3000000000000,
          4000000000000,
          5000000000000,
          6000000000000,
          7000000000000,
          8000000000000,
          9000000000000,
          10000000000000,
          11000000000000,
          12000000000000,
          13000000000000,
          14000000000000,
          15000000000000,
          16000000000000,
          17000000000000,
          18000000000000,
          19000000000000,
          20000000000000,
          21000000000000,
          22000000000000,
          23000000000000,
          24000000000000,
          25000000000000,
          26000000000000,
          27000000000000,
          28000000000000,
          29000000000000,
          30000000000000,
          31000000000000,
          32000000000000,
          33000000000000,
          34000000000000,
          35000000000000,
          36000000000000,
          37000000000000,
          38000000000000,
          39000000000000,
          40000000000000
         ],
         "y": {
          "bdata": "AAAAAAAAMD0AAAAAAAAwPQAAAAAAADA9AAAAAAAAMD0AAAAAAAAwPQAAAAAAADA9AAAAAAAAMD0AAAAAAAAwPQAAAAAAADA9AAAAAAAAMD0AAAAAAAAwPQAAAAAAADA9AAAAAAAAMD0AAAAAAAAwPQAAAAAAADA9AAAAAAAAMD0AAAAAAAAwPQAAAAAAADA9AAAAAAAAMD0AAAAAAAAwPQAAAAAAADA9AAAAAAAAMD0AAAAAAAAwPQAAAAAAADA9AAAAAAAAMD0AAAAAAAAwPQAAAAAAADA9AAAAAAAAMD0AAAAAAAAwPQAAAAAAADA9AAAAAAAAMD0AAAAAAAAwPQAAAAAAADA9AAAAAAAAMD0AAAAAAAAwPQAAAAAAADA9AAAAAAAAMD0AAAAAAAAwPQAAAAAAADA9AAAAAAAAMD0AAAAAAAAwPQ==",
          "dtype": "f8"
         }
        },
        {
         "legendgroup": "004",
         "line": {
          "color": "rgb(0, 60, 170)"
         },
         "name": "004",
         "opacity": 0.4,
         "type": "scatter",
         "x": [
          0,
          1000000000000,
          2000000000000,
          3000000000000,
          4000000000000,
          5000000000000,
          6000000000000,
          7000000000000,
          8000000000000,
          9000000000000,
          10000000000000,
          11000000000000,
          12000000000000,
          13000000000000,
          14000000000000,
          15000000000000,
          16000000000000,
          17000000000000,
          18000000000000,
          19000000000000,
          20000000000000,
          21000000000000,
          22000000000000,
          23000000000000,
          24000000000000,
          25000000000000,
          26000000000000,
          27000000000000,
          28000000000000,
          29000000000000,
          30000000000000,
          31000000000000,
          32000000000000,
          33000000000000,
          34000000000000,
          35000000000000,
          36000000000000,
          37000000000000,
          38000000000000,
          39000000000000,
          40000000000000
         ],
         "y": {
          "bdata": "AA33luEJEMAA7vDyhBwQwACio9gaIxDAgPZW0kwmEMAAngjThicQwABFutPAKBDAwExxrhwpEMDALk9vWikQwEASLTCYKRDAAPUK8dUpEMDAdXaW5SkQwADNhfzuKRDAgCOVYvgpEMDAeqTIASoQwIBXXjMDKhDAAFo5iQMqEMCAWxTfAyoQwABe7zQEKhDAAI50HAUqEMCAirYXBioQwICG+BIHKhDAwII6DggqEMCA870zCCoQwMAOSzwIKhDAgCrYRAgqEMCARmVNCCoQwMB6kGUIKhDAAG7ZfwgqEMCAXyKaCCoQwABSa7QIKhDAQEJLuAgqEMAA1iG5CCoQwABq+LkIKhDAAP7OuggqEMDAZFW9CCoQwABOFsAIKhDAwDbXwggqEMAAIZjFCCoQwABm/sUIKhDAQAITxggqEMCAnifGCCoQwA==",
          "dtype": "f8"
         }
        },
        {
         "legendgroup": "005",
         "line": {
          "color": "rgb(1, 109, 191)"
         },
         "name": "005",
         "opacity": 0.4,
         "type": "scatter",
         "x": [
          0,
          1000000000000,
          2000000000000,
          3000000000000,
          4000000000000,
          5000000000000,
          6000000000000,
          7000000000000,
          8000000000000,
          9000000000000,
          10000000000000,
          11000000000000,
          12000000000000,
          13000000000000,
          14000000000000,
          15000000000000,
          16000000000000,
          17000000000000,
          18000000000000,
          19000000000000,
          20000000000000,
          21000000000000,
          22000000000000,
          23000000000000,
          24000000000000,
          25000000000000,
          26000000000000,
          27000000000000,
          28000000000000,
          29000000000000,
          30000000000000,
          31000000000000,
          32000000000000,
          33000000000000,
          34000000000000,
          35000000000000,
          36000000000000,
          37000000000000,
          38000000000000,
          39000000000000,
          40000000000000
         ],
         "y": {
          "bdata": "AAAAAAAAQD0gSU2vGNAyQPDfI8s1Vj5A8MX0Pzj8PkAAqYZfX9M/QNgM7/xWXUBAgHjmYpkNQUBgS7fFkK5EQFAlv8m370NAyBAbFtuvQ0CI4TjSnpdDQBCwfOtFj0NAgOfsxCSMQ0DoeuN1NItDQDAnIwEhi0NA+BM0/R6LQ0DIAEX5HItDQKBsFTQbi0NAgEwjeRmLQ0BwLDG+F4tDQGAMPwMWi0NAIBoybBWLQ0AgzMcEFYtDQCB+XZ0Ui0NAIDDzNRSLQ0B4pMwFFItDQEDqqt4Ti0NAEDCJtxOLQ0DodWeQE4tDQAB0m4ITi0NACN/xeBOLQ0AQSkhvE4tDQCC1nmUTi0NAIMrnYROLQ0A4XClfE4tDQEDualwTi0NAYICsWROLQ0B4PLpYE4tDQCARE1gTi0NAwOVrVxOLQ0BousRWE4tDQA==",
          "dtype": "f8"
         }
        },
        {
         "legendgroup": "005",
         "line": {
          "color": "rgb(1, 109, 191)"
         },
         "name": "005",
         "opacity": 0.4,
         "type": "scatter",
         "x": [
          0,
          1000000000000,
          2000000000000,
          3000000000000,
          4000000000000,
          5000000000000,
          6000000000000,
          7000000000000,
          8000000000000,
          9000000000000,
          10000000000000,
          11000000000000,
          12000000000000,
          13000000000000,
          14000000000000,
          15000000000000,
          16000000000000,
          17000000000000,
          18000000000000,
          19000000000000,
          20000000000000,
          21000000000000,
          22000000000000,
          23000000000000,
          24000000000000,
          25000000000000,
          26000000000000,
          27000000000000,
          28000000000000,
          29000000000000,
          30000000000000,
          31000000000000,
          32000000000000,
          33000000000000,
          34000000000000,
          35000000000000,
          36000000000000,
          37000000000000,
          38000000000000,
          39000000000000,
          40000000000000
         ],
         "y": {
          "bdata": "gMkgoNZMG8BAjHa6vSQ4wMA1PGXDtD7AAB+2a+5rPsAAxYLT+nw+wBBWQ6XGxz7AQGzRiE1FP8AYpYbm+p9BwNA00uRRukHAINbkPv66QcDYVdq11rtBwAg38WklvEHA0P96TTi8QcCIS0nbObxBwOiwZu02vEHAaLhKHza8QcAIwC5RNbxBwKC1gRg1vEHACJ03+DS8QcCIhO3XNLxBwOhro7c0vEHAwDWYrzS8QcBI64GrNLxBwNiga6c0vEHAiFZVozS8QcCIfkuiNLxBwMgDwaE0vEHA2Ig2oTS8QcAYDqygNLxBwBjcjaA0vEHA2FWBoDS8QcDAz3SgNLxBwIhJaKA0vEHAINFloDS8QcDA/GSgNLxBwEgoZKA0vEHA2FNjoDS8QcBobmOgNLxBwAiwY6A0vEHAoPFjoDS8QcBIM2SgNLxBwA==",
          "dtype": "f8"
         }
        },
        {
         "legendgroup": "006",
         "line": {
          "color": "rgb(2, 157, 212)"
         },
         "name": "006",
         "opacity": 0.4,
         "type": "scatter",
         "x": [
          0,
          1000000000000,
          2000000000000,
          3000000000000,
          4000000000000,
          5000000000000,
          6000000000000,
          7000000000000,
          8000000000000,
          9000000000000,
          10000000000000,
          11000000000000,
          12000000000000,
          13000000000000,
          14000000000000,
          15000000000000,
          16000000000000,
          17000000000000,
          18000000000000,
          19000000000000,
          20000000000000,
          21000000000000,
          22000000000000,
          23000000000000,
          24000000000000,
          25000000000000,
          26000000000000,
          27000000000000,
          28000000000000,
          29000000000000,
          30000000000000,
          31000000000000,
          32000000000000,
          33000000000000,
          34000000000000,
          35000000000000,
          36000000000000,
          37000000000000,
          38000000000000,
          39000000000000,
          40000000000000
         ],
         "y": {
          "bdata": "AAAAAAAAMD0AAAAAAAAwPQAAAAAAADA9AAAAAAAAMD0AAAAAAAAwPQAAAAAAADA9AAAAAAAAMD0AAAAAAAAwPQAAAAAAADA9AAAAAAAAMD0AAAAAAAAwPQAAAAAAADA9AAAAAAAAMD0AAAAAAAAwPQAAAAAAADA9AAAAAAAAMD0AAAAAAAAwPQAAAAAAADA9AAAAAAAAMD0AAAAAAAAwPQAAAAAAADA9AAAAAAAAMD0AAAAAAAAwPQAAAAAAADA9AAAAAAAAMD0AAAAAAAAwPQAAAAAAADA9AAAAAAAAMD0AAAAAAAAwPQAAAAAAADA9AAAAAAAAMD0AAAAAAAAwPQAAAAAAADA9AAAAAAAAMD0AAAAAAAAwPQAAAAAAADA9AAAAAAAAMD0AAAAAAAAwPQAAAAAAADA9AAAAAAAAMD0AAAAAAAAwPQ==",
          "dtype": "f8"
         }
        },
        {
         "legendgroup": "006",
         "line": {
          "color": "rgb(2, 157, 212)"
         },
         "name": "006",
         "opacity": 0.4,
         "type": "scatter",
         "x": [
          0,
          1000000000000,
          2000000000000,
          3000000000000,
          4000000000000,
          5000000000000,
          6000000000000,
          7000000000000,
          8000000000000,
          9000000000000,
          10000000000000,
          11000000000000,
          12000000000000,
          13000000000000,
          14000000000000,
          15000000000000,
          16000000000000,
          17000000000000,
          18000000000000,
          19000000000000,
          20000000000000,
          21000000000000,
          22000000000000,
          23000000000000,
          24000000000000,
          25000000000000,
          26000000000000,
          27000000000000,
          28000000000000,
          29000000000000,
          30000000000000,
          31000000000000,
          32000000000000,
          33000000000000,
          34000000000000,
          35000000000000,
          36000000000000,
          37000000000000,
          38000000000000,
          39000000000000,
          40000000000000
         ],
         "y": {
          "bdata": "gLbQuw3sD8DADJFXWggQwMDVbSbrDhDAQGR6KhgSEMBA0wgZXhMQwMBBlwekFBDAQMSCD/kUEMBACCM3ORUQwEBMw155FRDAQJBjhrkVEMAAB4OlxxUQwEDLqm7RFRDAQJDSN9sVEMDAVPoA5RUQwEAH6hzmFRDAQNdceOYVEMDApc/T5hUQwMB0Qi/nFRDAQIg5J+gVEMDA3MAs6RUQwMAxSDLqFRDAAIjPN+sVEMBAgxlV6xUQwIBYQ17rFRDAwC1tZ+sVEMBABJdw6xUQwMBhg4rrFRDAgJDjpesVEMBAv0PB6xUQwMDso9zrFRDAwJ2m3+sVEMDAxYzg6xUQwMDtcuHrFRDAQBdZ4usVEMDA8A/l6xUQwMAQ7+frFRDAQDDO6usVEMBAUK3t6xUQwAAZ/O3rFRDAAAIS7usVEMBA7Cfu6xUQwA==",
          "dtype": "f8"
         }
        },
        {
         "legendgroup": "007",
         "line": {
          "color": "rgb(4, 206, 234)"
         },
         "name": "007",
         "opacity": 0.4,
         "type": "scatter",
         "x": [
          0,
          1000000000000,
          2000000000000,
          3000000000000,
          4000000000000,
          5000000000000,
          6000000000000,
          7000000000000,
          8000000000000,
          9000000000000,
          10000000000000,
          11000000000000,
          12000000000000,
          13000000000000,
          14000000000000,
          15000000000000,
          16000000000000,
          17000000000000,
          18000000000000,
          19000000000000,
          20000000000000,
          21000000000000,
          22000000000000,
          23000000000000,
          24000000000000,
          25000000000000,
          26000000000000,
          27000000000000,
          28000000000000,
          29000000000000,
          30000000000000,
          31000000000000,
          32000000000000,
          33000000000000,
          34000000000000,
          35000000000000,
          36000000000000,
          37000000000000,
          38000000000000,
          39000000000000,
          40000000000000
         ],
         "y": {
          "bdata": "AAAAAAAAQD1wHiRU6iw2QKCkDjP+nTdAsJWO/EBtOEBwtHWz7YM4QJApp50FejhAcGdXqYOAOEDQI1LEaog4QNCq8kUdiThA8CDypyOIOEAwfaXsdIc4QNDOtxMthzhA8PGUPiOHOEAQFXJpGYc4QJAFFZwThzhAcBruuSCHOEAwL8fXLYc4QPBDoPU6hzhAcFYyQEaHOEBA0lX5SIc4QBBOebJLhzhAAMqca06HOEBw9QJzUIc4QHDYFjhPhzhAgLsq/U2HOECAnj7CTIc4QHD3gp5LhzhAAHeh50qHOECQ9r8wSoc4QDB23nlJhzhAsLRG5kiHOEBw+FP4SIc4QDA8YQpJhzhA8H9uHEmHOEBAsfY6SYc4QIAYFJRJhzhAkH8x7UmHOEDw5k5GSoc4QHDCUJNKhzhAcCN9p0qHOEBQhKm7Soc4QA==",
          "dtype": "f8"
         }
        },
        {
         "legendgroup": "007",
         "line": {
          "color": "rgb(4, 206, 234)"
         },
         "name": "007",
         "opacity": 0.4,
         "type": "scatter",
         "x": [
          0,
          1000000000000,
          2000000000000,
          3000000000000,
          4000000000000,
          5000000000000,
          6000000000000,
          7000000000000,
          8000000000000,
          9000000000000,
          10000000000000,
          11000000000000,
          12000000000000,
          13000000000000,
          14000000000000,
          15000000000000,
          16000000000000,
          17000000000000,
          18000000000000,
          19000000000000,
          20000000000000,
          21000000000000,
          22000000000000,
          23000000000000,
          24000000000000,
          25000000000000,
          26000000000000,
          27000000000000,
          28000000000000,
          29000000000000,
          30000000000000,
          31000000000000,
          32000000000000,
          33000000000000,
          34000000000000,
          35000000000000,
          36000000000000,
          37000000000000,
          38000000000000,
          39000000000000,
          40000000000000
         ],
         "y": {
          "bdata": "YOUHWQiLIcBA/cqJwZk9wBCmFXdsMjzAwA0dV8OtO8DQJ0yJqWw7wGD5gAiDbzvAINYlMAlnO8AQDWEdFV87wIBcO01mXzvAINEvjrZgO8CgH4nvYGE7wIApvPWhYTvAoAi6eqNhO8Dg57f/pGE7wKD6iTijYTvAoELD9pFhO8DAivy0gGE7wMDSNXNvYTvAgG9dWWBhO8AATlJeW2E7wGAsR2NWYTvAwAo8aFFhO8DA3v6FTWE7wBBP38lOYTvAYL+/DVBhO8CQL6BRUWE7wACNcYdSYTvAAJ5Ee1NhO8AQrxdvVGE7wCDA6mJVYTvAICL9TFZhO8CA6UcJV2E7wMCwksVXYTvAIHjdgVhhO8DgJbUaWWE7wJCvJQ1ZYTvAYDmW/1hhO8AAwwbyWGE7wBAF8eVYYTvAwFLI4FhhO8CAoJ/bWGE7wA==",
          "dtype": "f8"
         }
        },
        {
         "legendgroup": "008",
         "line": {
          "color": "rgb(5, 255, 255)"
         },
         "name": "008",
         "opacity": 0.4,
         "type": "scatter",
         "x": [
          0,
          1000000000000,
          2000000000000,
          3000000000000,
          4000000000000,
          5000000000000,
          6000000000000,
          7000000000000,
          8000000000000,
          9000000000000,
          10000000000000,
          11000000000000,
          12000000000000,
          13000000000000,
          14000000000000,
          15000000000000,
          16000000000000,
          17000000000000,
          18000000000000,
          19000000000000,
          20000000000000,
          21000000000000,
          22000000000000,
          23000000000000,
          24000000000000,
          25000000000000,
          26000000000000,
          27000000000000,
          28000000000000,
          29000000000000,
          30000000000000,
          31000000000000,
          32000000000000,
          33000000000000,
          34000000000000,
          35000000000000,
          36000000000000,
          37000000000000,
          38000000000000,
          39000000000000,
          40000000000000
         ],
         "y": {
          "bdata": "AAAAAAAAMD0wuATgVQ02QPAGuhfBiTdAUIV7/95IOEAglP7JN1o4QLAXmFmBSDhA4CupMIdOOEAw7U8NhFY4QJBybe9iWDhAIDBYb9JXOECQxM3xZFc4QCA+xrM+VzhAsLe+dRhXOECgN4yo8lY4QJDitDf7VjhAcI3dxgNXOEBQOAZWDFc4QNBNQN0UVzhAkIElIhpXOEAgtQpnH1c4QNDo76skVzhAkIyQ4ylXOEAQg5qnKVc4QJB5pGspVzhA4G+uLylXOEBQi0PyKFc4QFB3pRsoVzhAYGMHRSdXOEBwT2luJlc4QHD5DpolVzhAMFbpsyVXOEAQs8PNJVc4QNAPnuclVzhAsGKDASZXOECQq+kfJlc4QGD0Tz4mVzhAMD22XCZXOEAQxDB7Jlc4QNB2/KEmVzhAkCnIyCZXOEBg3JPvJlc4QA==",
          "dtype": "f8"
         }
        },
        {
         "legendgroup": "008",
         "line": {
          "color": "rgb(5, 255, 255)"
         },
         "name": "008",
         "opacity": 0.4,
         "type": "scatter",
         "x": [
          0,
          1000000000000,
          2000000000000,
          3000000000000,
          4000000000000,
          5000000000000,
          6000000000000,
          7000000000000,
          8000000000000,
          9000000000000,
          10000000000000,
          11000000000000,
          12000000000000,
          13000000000000,
          14000000000000,
          15000000000000,
          16000000000000,
          17000000000000,
          18000000000000,
          19000000000000,
          20000000000000,
          21000000000000,
          22000000000000,
          23000000000000,
          24000000000000,
          25000000000000,
          26000000000000,
          27000000000000,
          28000000000000,
          29000000000000,
          30000000000000,
          31000000000000,
          32000000000000,
          33000000000000,
          34000000000000,
          35000000000000,
          36000000000000,
          37000000000000,
          38000000000000,
          39000000000000,
          40000000000000
         ],
         "y": {
          "bdata": "wL+LrKN5IcBQJq2/Eoc9wEA/ZQXkITzAMMTPnYSGO8BAqh2n8D87wOA+TDuHRDvAANgaMQc7O8CAgeJjXjM7wKDz5NC0MjvAwKsn0n4zO8BgYGTHDzQ7wMDNY9wuNDvAQDtj8U00O8Dw8cecbDQ7wHA6FORfNDvA4IJgK1M0O8Bgy6xyRjQ7wGB8osc5NDvAcHWeuTI0O8CAbpqrKzQ7wIBnlp0kNDvAwMiuoB00O8AAd5yrHTQ7wGAlirYdNDvAgNN3wR00O8DA4pnNHTQ7wHAEcVgeNDvAQCZI4x40O8AASB9uHzQ7wABDTPkfNDvA4Fa/pyA0O8CAajJWITQ7wGB+pQQiNDvAQHvusSI0O8DApLzkIjQ7wGDOihcjNDvAAPhYSiM0O8AAvP98IzQ7wKCBdp8jNDvAYEftwSM0O8AADWTkIzQ7wA==",
          "dtype": "f8"
         }
        },
        {
         "legendgroup": "009",
         "line": {
          "color": "rgb(67, 255, 191)"
         },
         "name": "009",
         "opacity": 0.4,
         "type": "scatter",
         "x": [
          0,
          1000000000000,
          2000000000000,
          3000000000000,
          4000000000000,
          5000000000000,
          6000000000000,
          7000000000000,
          8000000000000,
          9000000000000,
          10000000000000,
          11000000000000,
          12000000000000,
          13000000000000,
          14000000000000,
          15000000000000,
          16000000000000,
          17000000000000,
          18000000000000,
          19000000000000,
          20000000000000,
          21000000000000,
          22000000000000,
          23000000000000,
          24000000000000,
          25000000000000,
          26000000000000,
          27000000000000,
          28000000000000,
          29000000000000,
          30000000000000,
          31000000000000,
          32000000000000,
          33000000000000,
          34000000000000,
          35000000000000,
          36000000000000,
          37000000000000,
          38000000000000,
          39000000000000,
          40000000000000
         ],
         "y": {
          "bdata": "AAAAAAAAQD1Q9okIJd0xQCDaEkaE0jNAILniZ45ENEBg/l0bEtczQDC8Pn7OmjNA0GEQHX7UM0Dg44DHR9AzQDDWI0jLozNAMOKkMfuiM0AgGWCQkKIzQPBTUOaxojNAkC9/yeuiM0CAumqa8qIzQLAwrX7/ojNAgHEw1wujM0CAfR1tEaMzQCAbxSIPozNAwNK58gOjM0CAz3o8/qIzQHDsImL5ojNAMAnLh/SiM0AwN67276IzQED4S4zrojNAgLnpIeeiM0AwMpDN5KIzQCD/mBblojNAEMyhX+WiM0AAmaqo5aIzQPC5ka3mojNAMJz0neiiM0CAfleO6qIzQKBgun7sojNAQAwj5+2iM0AA6hql7qIzQKDHEmPvojNAgKUKIfCiM0BAUSI78KIzQEAU0YfvojNAQNd/1O6iM0BAmi4h7qIzQA==",
          "dtype": "f8"
         }
        },
        {
         "legendgroup": "009",
         "line": {
          "color": "rgb(67, 255, 191)"
         },
         "name": "009",
         "opacity": 0.4,
         "type": "scatter",
         "x": [
          0,
          1000000000000,
          2000000000000,
          3000000000000,
          4000000000000,
          5000000000000,
          6000000000000,
          7000000000000,
          8000000000000,
          9000000000000,
          10000000000000,
          11000000000000,
          12000000000000,
          13000000000000,
          14000000000000,
          15000000000000,
          16000000000000,
          17000000000000,
          18000000000000,
          19000000000000,
          20000000000000,
          21000000000000,
          22000000000000,
          23000000000000,
          24000000000000,
          25000000000000,
          26000000000000,
          27000000000000,
          28000000000000,
          29000000000000,
          30000000000000,
          31000000000000,
          32000000000000,
          33000000000000,
          34000000000000,
          35000000000000,
          36000000000000,
          37000000000000,
          38000000000000,
          39000000000000,
          40000000000000
         ],
         "y": {
          "bdata": "QJp8hhrGHMBgrseFAqQ3wCCU9qj8ejjAUK6dGoqzN8AAJjHQOAw3wPC3vxlRMzfAcK6/IyA/N8BQe7uCAiE3wPD34gpo+DbAEMzXDJj1NsBgI7TOHfs2wFBlZij88jbA8OKrJmvtNsDQ/dZhL/c2wHCNFFXp9zbAcD+8DXX4NsDQ/C9KxPY2wFBQmY009TbAUBQ7IMrzNsBwTU77UfM2wNBwR9j/8jbAEJRAta3yNsBQHCegk/I2wLAfKDCX8jbA8CIpwJryNsCwEXDhofI2wNCddHut8jbA8Cl5FbnyNsAwtn2vxPI2wNAk8yTM8jbAMHINac7yNsBwvyet0PI2wNAMQvHS8jbAcJmO+9PyNsCw8IR80/I2wPBHe/3S8jbAUJ9xftLyNsDwaXcL0vI2wHAqm6fR8jbA8Oq+Q9HyNsBwq+Lf0PI2wA==",
          "dtype": "f8"
         }
        },
        {
         "legendgroup": "010",
         "line": {
          "color": "rgb(130, 255, 128)"
         },
         "name": "010",
         "opacity": 0.4,
         "type": "scatter",
         "x": [
          0,
          1000000000000,
          2000000000000,
          3000000000000,
          4000000000000,
          5000000000000,
          6000000000000,
          7000000000000,
          8000000000000,
          9000000000000,
          10000000000000,
          11000000000000,
          12000000000000,
          13000000000000,
          14000000000000,
          15000000000000,
          16000000000000,
          17000000000000,
          18000000000000,
          19000000000000,
          20000000000000,
          21000000000000,
          22000000000000,
          23000000000000,
          24000000000000,
          25000000000000,
          26000000000000,
          27000000000000,
          28000000000000,
          29000000000000,
          30000000000000,
          31000000000000,
          32000000000000,
          33000000000000,
          34000000000000,
          35000000000000,
          36000000000000,
          37000000000000,
          38000000000000,
          39000000000000,
          40000000000000
         ],
         "y": {
          "bdata": "AAAAAAAASD0AAAAAAABIPQAISALAdsE/sHJt7S1mMUCw5XLrQ5s4QDAWmQq6XTlAQCVfcOprOUDQmEJ6Ano5QNCkqNaLfzlA0KVJnd+AOUDwKV5RO4E5QMA+Cek3gTlAEDsUgA2BOUBwNx8X44A5QNAzKq64gDlA8DzC0ZyAOUBQBPnUlIA5QJDLL9iMgDlA4JJm24SAOUDwtfm8f4A5QKD9qYl+gDlAUEVaVn2AOUDwjAojfIA5QFCYSnd7gDlAYOW2hHuAOUBwMiOSe4A5QHB/j597gDlA0GAXunuAOUAQ4Ibme4A5QEBf9hJ8gDlAcN5lP3yAOUAQbOt4fIA5QEAMUcR8gDlAYKy2D32AOUCQTBxbfYA5QGBvIKt9gDlA8NdzAX6AOUBwQMdXfoA5QPCoGq5+gDlAMKBvCH+AOUBAeD1of4A5QA==",
          "dtype": "f8"
         }
        },
        {
         "legendgroup": "010",
         "line": {
          "color": "rgb(130, 255, 128)"
         },
         "name": "010",
         "opacity": 0.4,
         "type": "scatter",
         "x": [
          0,
          1000000000000,
          2000000000000,
          3000000000000,
          4000000000000,
          5000000000000,
          6000000000000,
          7000000000000,
          8000000000000,
          9000000000000,
          10000000000000,
          11000000000000,
          12000000000000,
          13000000000000,
          14000000000000,
          15000000000000,
          16000000000000,
          17000000000000,
          18000000000000,
          19000000000000,
          20000000000000,
          21000000000000,
          22000000000000,
          23000000000000,
          24000000000000,
          25000000000000,
          26000000000000,
          27000000000000,
          28000000000000,
          29000000000000,
          30000000000000,
          31000000000000,
          32000000000000,
          33000000000000,
          34000000000000,
          35000000000000,
          36000000000000,
          37000000000000,
          38000000000000,
          39000000000000,
          40000000000000
         ],
         "y": {
          "bdata": "AFrEwoqRFcAAlsO/mBIWwMBVYVV+4x7AcM4QlaYHM8CQuKwAl5A4wJC+t28ivjjAEIzwHpWnOMBAi2RRO584wEDkQ33anDjAEOljW8KcOMCAI8Bm45w4wDDE3Tb6nDjAkI3xgA2dOMCwVgXLIJ04wBAgGRU0nTjAsHm5p0CdOMCwfaINRJ04wJCBi3NHnTjAkIV02UqdOMCQ6VYcTZ04wEAMsdFNnTjAQC8Lh06dOMAQUmU8T504wDCqXbxPnTjAsPZq80+dOMCQQ3gqUJ04wECQhWFQnTjAEIO5kFCdOMAQwDS1UJ04wND8r9lQnTjAsDkr/lCdOMBArmUjUZ04wJBUpUlRnTjAEPvkb1GdOMCAoSSWUZ04wEDEf71RnTjAsCJe5lGdOMBAgTwPUp04wLDfGjhSnTjAkLjJYlKdOMCQB/OPUp04wA==",
          "dtype": "f8"
         }
        },
        {
         "legendgroup": "011",
         "line": {
          "color": "rgb(192, 255, 64)"
         },
         "name": "011",
         "opacity": 0.4,
         "type": "scatter",
         "x": [
          0,
          1000000000000,
          2000000000000,
          3000000000000,
          4000000000000,
          5000000000000,
          6000000000000,
          7000000000000,
          8000000000000,
          9000000000000,
          10000000000000,
          11000000000000,
          12000000000000,
          13000000000000,
          14000000000000,
          15000000000000,
          16000000000000,
          17000000000000,
          18000000000000,
          19000000000000,
          20000000000000,
          21000000000000,
          22000000000000,
          23000000000000,
          24000000000000,
          25000000000000,
          26000000000000,
          27000000000000,
          28000000000000,
          29000000000000,
          30000000000000,
          31000000000000,
          32000000000000,
          33000000000000,
          34000000000000,
          35000000000000,
          36000000000000,
          37000000000000,
          38000000000000,
          39000000000000,
          40000000000000
         ],
         "y": {
          "bdata": "AAAAAAAAMD0AAAAAAAAwPQAAAAAAADA9AAAAAAAAMD0AAAAAAAAwPQAAAAAAADA9AAAAAAAAMD0AAAAAAAAwPQAAAAAAADA9AAAAAAAAMD0AAAAAAAAwPQAAAAAAADA9AAAAAAAAMD0AAAAAAAAwPQAAAAAAADA9AAAAAAAAMD0AAAAAAAAwPQAAAAAAADA9AAAAAAAAMD0AAAAAAAAwPQAAAAAAADA9AAAAAAAAMD0AAAAAAAAwPQAAAAAAADA9AAAAAAAAMD0AAAAAAAAwPQAAAAAAADA9AAAAAAAAMD0AAAAAAAAwPQAAAAAAADA9AAAAAAAAMD0AAAAAAAAwPQAAAAAAADA9AAAAAAAAMD0AAAAAAAAwPQAAAAAAADA9AAAAAAAAMD0AAAAAAAAwPQAAAAAAADA9AAAAAAAAMD0AAAAAAAAwPQ==",
          "dtype": "f8"
         }
        },
        {
         "legendgroup": "011",
         "line": {
          "color": "rgb(192, 255, 64)"
         },
         "name": "011",
         "opacity": 0.4,
         "type": "scatter",
         "x": [
          0,
          1000000000000,
          2000000000000,
          3000000000000,
          4000000000000,
          5000000000000,
          6000000000000,
          7000000000000,
          8000000000000,
          9000000000000,
          10000000000000,
          11000000000000,
          12000000000000,
          13000000000000,
          14000000000000,
          15000000000000,
          16000000000000,
          17000000000000,
          18000000000000,
          19000000000000,
          20000000000000,
          21000000000000,
          22000000000000,
          23000000000000,
          24000000000000,
          25000000000000,
          26000000000000,
          27000000000000,
          28000000000000,
          29000000000000,
          30000000000000,
          31000000000000,
          32000000000000,
          33000000000000,
          34000000000000,
          35000000000000,
          36000000000000,
          37000000000000,
          38000000000000,
          39000000000000,
          40000000000000
         ],
         "y": {
          "bdata": "AGLadowsEsCAieqHPUESwMAx95qLSBLAgK1tb4VLEsDAsS06ME0SwEAR5d4/ThLAgDUDWH5OEsCAWSHRvE4SwAB+P0r7ThLAgMl9+x9PEsBAidPqIU8SwIBJKdojTxLAQAl/ySVPEsAAmnXOJE8SwMA5K+UfTxLAgNng+xpPEsCAeZYSFk8SwIAxz6oRTxLAAGaj8Q1PEsAAm3c4Ck8SwIDQS38GTxLAAAa6bgNPEsCA+XZBAU8SwIDsMxT/ThLAAN/w5vxOEsAAj/gl+04SwIDd//b5ThLAACsHyPhOEsCAeQ6Z904SwIAorab2ThLAAC/8BfZOEsAANktl9U4SwIA9msT0ThLAACpkRPROEsCALfjv804SwIAxjJvzThLAgDQgR/NOEsAAn9cD804SwAAbqtfyThLAAJd8q/JOEsBAFE9/8k4SwA==",
          "dtype": "f8"
         }
        },
        {
         "legendgroup": "012",
         "line": {
          "color": "rgb(255, 255, 0)"
         },
         "name": "012",
         "opacity": 0.4,
         "type": "scatter",
         "x": [
          0,
          1000000000000,
          2000000000000,
          3000000000000,
          4000000000000,
          5000000000000,
          6000000000000,
          7000000000000,
          8000000000000,
          9000000000000,
          10000000000000,
          11000000000000,
          12000000000000,
          13000000000000,
          14000000000000,
          15000000000000,
          16000000000000,
          17000000000000,
          18000000000000,
          19000000000000,
          20000000000000,
          21000000000000,
          22000000000000,
          23000000000000,
          24000000000000,
          25000000000000,
          26000000000000,
          27000000000000,
          28000000000000,
          29000000000000,
          30000000000000,
          31000000000000,
          32000000000000,
          33000000000000,
          34000000000000,
          35000000000000,
          36000000000000,
          37000000000000,
          38000000000000,
          39000000000000,
          40000000000000
         ],
         "y": {
          "bdata": "AAAAAAAAMD2AX2eiFzk5QFjmYqcpcURAaAYwajWRQ0AQGxQM7HBDQNhG8qxXbkNAWCoRmf5lQ0DA8KIQilpDQAhBpGqjTUNAQG89EnZAQ0CQ4CNMkjNDQKjf28HzKENAULG0nRAiQ0CYCA9RZR5DQNiknAkJG0NAGK0QeDcYQ0B4FYZp4RVDQFgP2QreE0NAIL7w+zUSQ0AgdGcstBBDQKhV0mNoD0NAEJ3znj0OQ0CYV6lwOQ1DQBjeI8ZQDENAENTqm4ULQ0CYaAYmzwpDQJCWOrgwCkNA+F2HUqoJQ0DQJxVnNwlDQBBJwBvRCENAqBWdK30IQ0DwjauWOwhDQDjWMrADCENAGFRY688HQ0CYIjK6pgdDQPhBwByIB0NAuHCfaWoHQ0CQcyZkTAdDQJgJykIyB0NA2DKKBRwHQ0AYhoPsBAdDQA==",
          "dtype": "f8"
         }
        },
        {
         "legendgroup": "012",
         "line": {
          "color": "rgb(255, 255, 0)"
         },
         "name": "012",
         "opacity": 0.4,
         "type": "scatter",
         "x": [
          0,
          1000000000000,
          2000000000000,
          3000000000000,
          4000000000000,
          5000000000000,
          6000000000000,
          7000000000000,
          8000000000000,
          9000000000000,
          10000000000000,
          11000000000000,
          12000000000000,
          13000000000000,
          14000000000000,
          15000000000000,
          16000000000000,
          17000000000000,
          18000000000000,
          19000000000000,
          20000000000000,
          21000000000000,
          22000000000000,
          23000000000000,
          24000000000000,
          25000000000000,
          26000000000000,
          27000000000000,
          28000000000000,
          29000000000000,
          30000000000000,
          31000000000000,
          32000000000000,
          33000000000000,
          34000000000000,
          35000000000000,
          36000000000000,
          37000000000000,
          38000000000000,
          39000000000000,
          40000000000000
         ],
         "y": {
          "bdata": "oIe71t4IIMAwO5vGC+VCwOAWtd/3BEXAAIAhxnlERMA4Ra2v7OtDwGBX8LWqs0PAcPJrp8WIQ8C4EPlcYGRDwBidKLxTREPACKpseCQoQ8CwxCq9ng9DwKDse15S+kLAQDF7BTLoQsAAAeTcrthCwFg6eXTQy0LA2GbrLvTAQsAwJ4stOrhCwDCrILnDsELAiMgW582qQsAw++J5j6VCwIgO1htBoULAOF+NuWqdQsC45EqmLJpCwPDWgr9Kl0LAmHNU8dGUQsBYK63Om5JCwNgkPuC2kELACGAHJiOPQsBIyLalzo1CwAgtmFKejELAAHcqzKiLQsA4pm0S7opCwIADLIROikLASL6r5LWJQsDIx3q0O4lCwCDTMl8liULAUIn2Wk+JQsB47P6neYlCwCAOX3WeiULAKO4Ww72JQsBQhuUe3olCwA==",
          "dtype": "f8"
         }
        },
        {
         "legendgroup": "013",
         "line": {
          "color": "rgb(254, 191, 0)"
         },
         "name": "013",
         "opacity": 0.4,
         "type": "scatter",
         "x": [
          0,
          1000000000000,
          2000000000000,
          3000000000000,
          4000000000000,
          5000000000000,
          6000000000000,
          7000000000000,
          8000000000000,
          9000000000000,
          10000000000000,
          11000000000000,
          12000000000000,
          13000000000000,
          14000000000000,
          15000000000000,
          16000000000000,
          17000000000000,
          18000000000000,
          19000000000000,
          20000000000000,
          21000000000000,
          22000000000000,
          23000000000000,
          24000000000000,
          25000000000000,
          26000000000000,
          27000000000000,
          28000000000000,
          29000000000000,
          30000000000000,
          31000000000000,
          32000000000000,
          33000000000000,
          34000000000000,
          35000000000000,
          36000000000000,
          37000000000000,
          38000000000000,
          39000000000000,
          40000000000000
         ],
         "y": {
          "bdata": "AAAAAAAAMD0AAAAAAAAwPQAAAAAAADA9AAAAAAAAMD0AAAAAAAAwPQAAAAAAADA9AAAAAAAAMD0AAAAAAAAwPQAAAAAAADA9AAAAAAAAMD0AAAAAAAAwPQAAAAAAADA9AAAAAAAAMD0AAAAAAAAwPQAAAAAAADA9AAAAAAAAMD0AAAAAAAAwPQAAAAAAADA9AAAAAAAAMD0AAAAAAAAwPQAAAAAAADA9AAAAAAAAMD0AAAAAAAAwPQAAAAAAADA9AAAAAAAAMD0AAAAAAAAwPQAAAAAAADA9AAAAAAAAMD0AAAAAAAAwPQAAAAAAADA9AAAAAAAAMD0AAAAAAAAwPQAAAAAAADA9AAAAAAAAMD0AAAAAAAAwPQAAAAAAADA9AAAAAAAAMD0AAAAAAAAwPQAAAAAAADA9AAAAAAAAMD0AAAAAAAAwPQ==",
          "dtype": "f8"
         }
        },
        {
         "legendgroup": "013",
         "line": {
          "color": "rgb(254, 191, 0)"
         },
         "name": "013",
         "opacity": 0.4,
         "type": "scatter",
         "x": [
          0,
          1000000000000,
          2000000000000,
          3000000000000,
          4000000000000,
          5000000000000,
          6000000000000,
          7000000000000,
          8000000000000,
          9000000000000,
          10000000000000,
          11000000000000,
          12000000000000,
          13000000000000,
          14000000000000,
          15000000000000,
          16000000000000,
          17000000000000,
          18000000000000,
          19000000000000,
          20000000000000,
          21000000000000,
          22000000000000,
          23000000000000,
          24000000000000,
          25000000000000,
          26000000000000,
          27000000000000,
          28000000000000,
          29000000000000,
          30000000000000,
          31000000000000,
          32000000000000,
          33000000000000,
          34000000000000,
          35000000000000,
          36000000000000,
          37000000000000,
          38000000000000,
          39000000000000,
          40000000000000
         ],
         "y": {
          "bdata": "gKnqJhmrEcCAFofSP78RwAAjwM1txhHAANdn4YzJEcCAlQVRK8sRwEA/3kNlzBHAgB0zD7DMEcAA+4fa+swRwEDZ3KVFzRHAAGcmH37NEcCA7mT+is0RwAB0o92XzRHAAPvhvKTNEcBAYhJjrs0RwMD2rF2wzRHAAItHWLLNEcAAIOJStM0RwEAmkse1zRHAwJaL/bXNEcAAB4Uzts0RwAB4fmm2zRHAgMETjrbNEcBAJ0WJts0RwICOdoS2zRHAAPSnf7bNEcCAHml6ts0RwIApH3S2zRHAQDTVbbbNEcBAP4tnts0RwADsMWK2zRHAAEgVX7bNEcAApPhbts0RwED/21i2zRHAgJZKVrbNEcCAiQRVts0RwEB7vlO2zRHAgG54UrbNEcAAKG5Rts0RwAAo8lC2zRHAACd2ULbNEcAAJ/pPts0RwA==",
          "dtype": "f8"
         }
        },
        {
         "legendgroup": "014",
         "line": {
          "color": "rgb(252, 128, 0)"
         },
         "name": "014",
         "opacity": 0.4,
         "type": "scatter",
         "x": [
          0,
          1000000000000,
          2000000000000,
          3000000000000,
          4000000000000,
          5000000000000,
          6000000000000,
          7000000000000,
          8000000000000,
          9000000000000,
          10000000000000,
          11000000000000,
          12000000000000,
          13000000000000,
          14000000000000,
          15000000000000,
          16000000000000,
          17000000000000,
          18000000000000,
          19000000000000,
          20000000000000,
          21000000000000,
          22000000000000,
          23000000000000,
          24000000000000,
          25000000000000,
          26000000000000,
          27000000000000,
          28000000000000,
          29000000000000,
          30000000000000,
          31000000000000,
          32000000000000,
          33000000000000,
          34000000000000,
          35000000000000,
          36000000000000,
          37000000000000,
          38000000000000,
          39000000000000,
          40000000000000
         ],
         "y": {
          "bdata": "AAAAAAAASD0AAAAAAABIPQAAAAAAAEg9AAAAAAAASD0AAAAAAABIPQAAAAAAAEg9AAAAAAAASD0AAAAAAABIPQAAAAAAAEg9AAAAAAAASD0AAAAAAABIPQAAAAAAAEg9AAAAAAAASD0AAAAAAABIPQAAAAAAAEg9AAAAAAAASD0AAAAAAABIPQAAAAAAAEg9AAAAAAAASD0AAAAAAABIPQAAAAAAAEg9AAAAAAAASD0AAAAAAABIPQAAAAAAAEg9AAAAAAAASD0AAAAAAABIPQAAAAAAAEg9AAAAAAAASD0AAAAAAABIPQAAAAAAAEg9AAAAAAAASD0AAAAAAABIPQAAAAAAAEg9AAAAAAAASD0AAAAAAABIPQAAAAAAAEg9AAAAAAAASD0AAAAAAABIPQAAAAAAAEg9AAAAAAAASD0AAAAAAABIPQ==",
          "dtype": "f8"
         }
        },
        {
         "legendgroup": "014",
         "line": {
          "color": "rgb(252, 128, 0)"
         },
         "name": "014",
         "opacity": 0.4,
         "type": "scatter",
         "x": [
          0,
          1000000000000,
          2000000000000,
          3000000000000,
          4000000000000,
          5000000000000,
          6000000000000,
          7000000000000,
          8000000000000,
          9000000000000,
          10000000000000,
          11000000000000,
          12000000000000,
          13000000000000,
          14000000000000,
          15000000000000,
          16000000000000,
          17000000000000,
          18000000000000,
          19000000000000,
          20000000000000,
          21000000000000,
          22000000000000,
          23000000000000,
          24000000000000,
          25000000000000,
          26000000000000,
          27000000000000,
          28000000000000,
          29000000000000,
          30000000000000,
          31000000000000,
          32000000000000,
          33000000000000,
          34000000000000,
          35000000000000,
          36000000000000,
          37000000000000,
          38000000000000,
          39000000000000,
          40000000000000
         ],
         "y": {
          "bdata": "wBJzB9aaEMAAofC4R64QwAAXhpIytRDAwKlIpt+3EMAAdSgvsLkQwADmM3SPuhDAQJST2Oa6EMDAQfM8PrsQwEDwUqGVuxDAAFq4pb+7EMCA+SEc0LsQwACZi5LguxDAQDj1CPG7EMDAzTz0+LsQwMDRvw/8uxDAANZCK/+7EMDA2sVGArwQwACOrcUDvBDAwC41XAS8EMBA0LzyBLwQwEBwRIkFvBDAwD3J0QW8EMDAtV7uBbwQwMAt9AoGvBDAgKWJJwa8EMAA2VI1BrwQwMCJxjoGvBDAwDo6QAa8EMAA7K1FBrwQwEAFUEgGvBDAwLlbSQa8EMDAbmdKBrwQwAAlc0sGvBDAQKz0Swa8EMBAYShMBrwQwMAWXEwGvBDAAM2PTAa8EMAA36hMBrwQwADyskwGvBDAQAW9TAa8EMBAGMdMBrwQwA==",
          "dtype": "f8"
         }
        },
        {
         "legendgroup": "015",
         "line": {
          "color": "rgb(251, 64, 0)"
         },
         "name": "015",
         "opacity": 0.4,
         "type": "scatter",
         "x": [
          0,
          1000000000000,
          2000000000000,
          3000000000000,
          4000000000000,
          5000000000000,
          6000000000000,
          7000000000000,
          8000000000000,
          9000000000000,
          10000000000000,
          11000000000000,
          12000000000000,
          13000000000000,
          14000000000000,
          15000000000000,
          16000000000000,
          17000000000000,
          18000000000000,
          19000000000000,
          20000000000000,
          21000000000000,
          22000000000000,
          23000000000000,
          24000000000000,
          25000000000000,
          26000000000000,
          27000000000000,
          28000000000000,
          29000000000000,
          30000000000000,
          31000000000000,
          32000000000000,
          33000000000000,
          34000000000000,
          35000000000000,
          36000000000000,
          37000000000000,
          38000000000000,
          39000000000000,
          40000000000000
         ],
         "y": {
          "bdata": "AAAAAAAAQD1AeZqFy8IzQICbVRhRbjVA4GU2AxyoNUDQIePOIdQ1QNC45pWbVjVAsJ91zP9INUCQpCbR2XQ1QDB1ki2lgjVAwJvszBF2NUBA3ACmK281QABaww0ecTVA4CUGyWp0NUCQnNxOnXQ1QDBuwKOmdDVAYCJALGF0NUDgsbdHDHQ1QHDK4HbpczVAUC8q7NpzNUAwlHNhzHM1QDD5vNa9czVAEFGXBL1zNUCwx4bAwXM1QHA+dnzGczVAMLVlOMtzNUCAr0+UzXM1QNB1EPrOczVAMDzRX9BzNUCQApLF0XM1QJCoKrfRczVAkNcXEtFzNUCQBgVt0HM1QLA18sfPczVAUNM4hM9zNUCQBulnz3M1QNA5mUvPczVAEG1JL89zNUCwi10Wz3M1QBAM0f7OczVAcIxE585zNUDgDLjPznM1QA==",
          "dtype": "f8"
         }
        },
        {
         "legendgroup": "015",
         "line": {
          "color": "rgb(251, 64, 0)"
         },
         "name": "015",
         "opacity": 0.4,
         "type": "scatter",
         "x": [
          0,
          1000000000000,
          2000000000000,
          3000000000000,
          4000000000000,
          5000000000000,
          6000000000000,
          7000000000000,
          8000000000000,
          9000000000000,
          10000000000000,
          11000000000000,
          12000000000000,
          13000000000000,
          14000000000000,
          15000000000000,
          16000000000000,
          17000000000000,
          18000000000000,
          19000000000000,
          20000000000000,
          21000000000000,
          22000000000000,
          23000000000000,
          24000000000000,
          25000000000000,
          26000000000000,
          27000000000000,
          28000000000000,
          29000000000000,
          30000000000000,
          31000000000000,
          32000000000000,
          33000000000000,
          34000000000000,
          35000000000000,
          36000000000000,
          37000000000000,
          38000000000000,
          39000000000000,
          40000000000000
         ],
         "y": {
          "bdata": "INvYjEe8IMAgEJmI5F87wABEPXvdbDvA8EnaWaeWOcCQEII/8jk5wDDk1/10ITnAcFi6R3AWOcDQheeQ1fw4wMC6ouTKAznAEJLt4SgSOcBQJlhdYRA5wFARk7PrCTnAMHO/WVcHOcDAJoHVnwg5wBAuOvz8CTnAEHCEUKkKOcDwxkIHMws5wEBxGARXCznAEOm20VELOcDQYFWfTAs5wHDY82xHCznAkNylRzsLOcBQyCJSLAs5wDC0n1wdCznA0J8cZw4LOcBws9EkBws5wDD9lQADCznA8EZa3P4KOcCwkB64+go5wLBjbfT4CjnAcEgbJ/gKOcAwLclZ9wo5wPARd4z2CjnAUFgYT/cKOcBQvKWz+Ao5wHAgMxj6CjnAkITAfPsKOcBwj4/2/Ao5wNCv+Xj+CjnAMNBj+/8KOcCQ8M19AQs5wA==",
          "dtype": "f8"
         }
        },
        {
         "legendgroup": "016",
         "line": {
          "color": "rgb(250, 0, 0)"
         },
         "name": "016",
         "opacity": 0.4,
         "type": "scatter",
         "x": [
          0,
          1000000000000,
          2000000000000,
          3000000000000,
          4000000000000,
          5000000000000,
          6000000000000,
          7000000000000,
          8000000000000,
          9000000000000,
          10000000000000,
          11000000000000,
          12000000000000,
          13000000000000,
          14000000000000,
          15000000000000,
          16000000000000,
          17000000000000,
          18000000000000,
          19000000000000,
          20000000000000,
          21000000000000,
          22000000000000,
          23000000000000,
          24000000000000,
          25000000000000,
          26000000000000,
          27000000000000,
          28000000000000,
          29000000000000,
          30000000000000,
          31000000000000,
          32000000000000,
          33000000000000,
          34000000000000,
          35000000000000,
          36000000000000,
          37000000000000,
          38000000000000,
          39000000000000,
          40000000000000
         ],
         "y": {
          "bdata": "AAAAAAAASD0AAAAAAABIPQAAAAAAAEg9AAAAAAAASD0AAAAAAABIPQAAAAAAAEg9AAAAAAAASD0AAAAAAABIPQAAAAAAAEg9AAAAAAAASD0AAAAAAABIPQAAAAAAAEg9AAAAAAAASD0AAAAAAABIPQAAAAAAAEg9AAAAAAAASD0AAAAAAABIPQAAAAAAAEg9AAAAAAAASD0AAAAAAABIPQAAAAAAAEg9AAAAAAAASD0AAAAAAABIPQAAAAAAAEg9AAAAAAAASD0AAAAAAABIPQAAAAAAAEg9AAAAAAAASD0AAAAAAABIPQAAAAAAAEg9AAAAAAAASD0AAAAAAABIPQAAAAAAAEg9AAAAAAAASD0AAAAAAABIPQAAAAAAAEg9AAAAAAAASD0AAAAAAABIPQAAAAAAAEg9AAAAAAAASD0AAAAAAABIPQ==",
          "dtype": "f8"
         }
        },
        {
         "legendgroup": "016",
         "line": {
          "color": "rgb(250, 0, 0)"
         },
         "name": "016",
         "opacity": 0.4,
         "type": "scatter",
         "x": [
          0,
          1000000000000,
          2000000000000,
          3000000000000,
          4000000000000,
          5000000000000,
          6000000000000,
          7000000000000,
          8000000000000,
          9000000000000,
          10000000000000,
          11000000000000,
          12000000000000,
          13000000000000,
          14000000000000,
          15000000000000,
          16000000000000,
          17000000000000,
          18000000000000,
          19000000000000,
          20000000000000,
          21000000000000,
          22000000000000,
          23000000000000,
          24000000000000,
          25000000000000,
          26000000000000,
          27000000000000,
          28000000000000,
          29000000000000,
          30000000000000,
          31000000000000,
          32000000000000,
          33000000000000,
          34000000000000,
          35000000000000,
          36000000000000,
          37000000000000,
          38000000000000,
          39000000000000,
          40000000000000
         ],
         "y": {
          "bdata": "QDuZqgDdEMDAj4OUyfIQwMD41EXV+hDAAGC7eeT8EMAAEkG2x/0QwMB/nsQb/hDAAFgRoWn+EMBAKyZ8ef4QwAD9OleJ/hDAwM9PMpn+EMBAXm3ip/4QwMDDNOKq/hDAQCr84a3+EMDAkMPhsP4QwECOCqmz/hDAQN7LOrT+EMBAL43MtP4QwIB/Tl61/hDAQPdY5bX+EMBAYiYBtv4QwMDM8xy2/hDAwDfBOLb+EMDAM4RStv4QwMAo2le2/hDAQB4wXbb+EMBAE4Zitv4QwMDzd2e2/hDAQCqAaLb+EMDAX4hptv4QwACVkGq2/hDAwHuFa7b+EMAAF7lrtv4QwACy7Gu2/hDAAEwgbLb+EMAAJFBstv4QwMBXWmy2/hDAwItkbLb+EMCAv25stv4QwAA1eGy2/hDAAEB6bLb+EMDAS3xstv4QwA==",
          "dtype": "f8"
         }
        },
        {
         "legendgroup": "017",
         "line": {
          "color": "rgb(220, 0, 0)"
         },
         "name": "017",
         "opacity": 0.4,
         "type": "scatter",
         "x": [
          0,
          1000000000000,
          2000000000000,
          3000000000000,
          4000000000000,
          5000000000000,
          6000000000000,
          7000000000000,
          8000000000000,
          9000000000000,
          10000000000000,
          11000000000000,
          12000000000000,
          13000000000000,
          14000000000000,
          15000000000000,
          16000000000000,
          17000000000000,
          18000000000000,
          19000000000000,
          20000000000000,
          21000000000000,
          22000000000000,
          23000000000000,
          24000000000000,
          25000000000000,
          26000000000000,
          27000000000000,
          28000000000000,
          29000000000000,
          30000000000000,
          31000000000000,
          32000000000000,
          33000000000000,
          34000000000000,
          35000000000000,
          36000000000000,
          37000000000000,
          38000000000000,
          39000000000000,
          40000000000000
         ],
         "y": {
          "bdata": "AAAAAAAAVD2AoIckfwQoQFB+Tx6aFkFAQPJ2G/0lRECY7XP2M7pDQBA732WZmENAyEHvp1WMQ0Dg9OspJodDQEDi0GNAhUNAACVXogeFQ0AoRDnR7YRDQCAAtgjdhENAwEEbi/GEQ0BY+6u49YRDQAC1POb5hENAoG7NE/6EQ0DAyteLAYVDQHAr+noChUNAGIwcagOFQ0DI7D5ZBIVDQGjpTxoFhUNAgHayNgWFQ0CQAxVTBYVDQKiQd28FhUNACCvUiwWFQ0AYghuoBYVDQDDZYsQFhUNAQDCq4AWFQ0DYjWf3BYVDQHADWPoFhUNACHlI/QWFQ0Cg7jgABoVDQOBMGQMGhUNAkCXABQaFQ0BA/mYIBoVDQOjWDQsGhUNA8JUuDQaFQ0AA9W8NBoVDQABUsQ0GhUNAALPyDQaFQ0DQCDIOBoVDQA==",
          "dtype": "f8"
         }
        },
        {
         "legendgroup": "017",
         "line": {
          "color": "rgb(220, 0, 0)"
         },
         "name": "017",
         "opacity": 0.4,
         "type": "scatter",
         "x": [
          0,
          1000000000000,
          2000000000000,
          3000000000000,
          4000000000000,
          5000000000000,
          6000000000000,
          7000000000000,
          8000000000000,
          9000000000000,
          10000000000000,
          11000000000000,
          12000000000000,
          13000000000000,
          14000000000000,
          15000000000000,
          16000000000000,
          17000000000000,
          18000000000000,
          19000000000000,
          20000000000000,
          21000000000000,
          22000000000000,
          23000000000000,
          24000000000000,
          25000000000000,
          26000000000000,
          27000000000000,
          28000000000000,
          29000000000000,
          30000000000000,
          31000000000000,
          32000000000000,
          33000000000000,
          34000000000000,
          35000000000000,
          36000000000000,
          37000000000000,
          38000000000000,
          39000000000000,
          40000000000000
         ],
         "y": {
          "bdata": "AOsZIQKiG8BQqajLnSAzwMBfGFZSSUDA0IcRPGzaQcDwUewxftBBwHin9lRvykHAQGJ4XmLJQcAoIQLvF8lBwIjZuFQJyUHAMA4qeA3JQcBAMZAyE8lBwMDuiYwVyUHAQPaJtBfJQcDAlZ0PGMlBwFA1sWoYyUHA0NTExRjJQcC4mAkRGclBwAjayyMZyUHAQBuONhnJQcCQXFBJGclBwCgG11gZyUHAiD/PXBnJQcAAecdgGclBwGCyv2QZyUHACGnpZxnJQcA45jBoGclBwHBjeGgZyUHAkOC/aBnJQcAABf9oGclBwPBSIGkZyUHA8KBBaRnJQcDg7mJpGclBwBD3fGkZyUHAwP98aRnJQcCQCH1pGclBwEARfWkZyUHAqE99aRnJQcAwTX5pGclBwMBKf2kZyUHAcEiAaRnJQcDwCoFpGclBwA==",
          "dtype": "f8"
         }
        },
        {
         "legendgroup": "018",
         "line": {
          "color": "rgb(189, 0, 0)"
         },
         "name": "018",
         "opacity": 0.4,
         "type": "scatter",
         "x": [
          0,
          1000000000000,
          2000000000000,
          3000000000000,
          4000000000000,
          5000000000000,
          6000000000000,
          7000000000000,
          8000000000000,
          9000000000000,
          10000000000000,
          11000000000000,
          12000000000000,
          13000000000000,
          14000000000000,
          15000000000000,
          16000000000000,
          17000000000000,
          18000000000000,
          19000000000000,
          20000000000000,
          21000000000000,
          22000000000000,
          23000000000000,
          24000000000000,
          25000000000000,
          26000000000000,
          27000000000000,
          28000000000000,
          29000000000000,
          30000000000000,
          31000000000000,
          32000000000000,
          33000000000000,
          34000000000000,
          35000000000000,
          36000000000000,
          37000000000000,
          38000000000000,
          39000000000000,
          40000000000000
         ],
         "y": {
          "bdata": "AAAAAAAAQD0AAAAAAABAPaDAZJuRvyNAIM2UsNDqOEBAaHYSDN07QIAPKI5JJjxAQIOky8s1PECwaGtzNjs8QEBxzKLjPDxAYGWkbDk9PECg6Ho4Yj08QLDyIQR3PTxAoG5k4IM9PEBwUw6xjz08QGAcCTSUPTxAUOUDt5g9PEBArv45nT08QBCSj1ehPTxAAKKNsKI9PEAAsosJpD08QODBiWKlPTxA0MOHnqY9PEDwKuYPpz08QACSRIGnPTxAIPmi8qc9PEDQYwxlqD08QOBrv96oPTxAAHRyWKk9PEAQfCXSqT08QIAf/0WqPTxAQIf6kKo9PEAA7/Xbqj08QMBW8SarPTxAsOgWdKs9PECgaFzQqz08QJDooSysPTxAgGjniKw9PEBwS7nirD08QDASaiutPTxA8NgadK09PECgn8u8rT08QA==",
          "dtype": "f8"
         }
        },
        {
         "legendgroup": "018",
         "line": {
          "color": "rgb(189, 0, 0)"
         },
         "name": "018",
         "opacity": 0.4,
         "type": "scatter",
         "x": [
          0,
          1000000000000,
          2000000000000,
          3000000000000,
          4000000000000,
          5000000000000,
          6000000000000,
          7000000000000,
          8000000000000,
          9000000000000,
          10000000000000,
          11000000000000,
          12000000000000,
          13000000000000,
          14000000000000,
          15000000000000,
          16000000000000,
          17000000000000,
          18000000000000,
          19000000000000,
          20000000000000,
          21000000000000,
          22000000000000,
          23000000000000,
          24000000000000,
          25000000000000,
          26000000000000,
          27000000000000,
          28000000000000,
          29000000000000,
          30000000000000,
          31000000000000,
          32000000000000,
          33000000000000,
          34000000000000,
          35000000000000,
          36000000000000,
          37000000000000,
          38000000000000,
          39000000000000,
          40000000000000
         ],
         "y": {
          "bdata": "AJjHgaCgFsBAI0tiP9EXwAAX4D7UqyrA0FJlDwE0OMDABH0nOOk6wED8LO+q0DrAwPxCOfS9OsDwz8VKxLg6wGA79KYutzrA8HVNrpi3OsDANMRfz7c6wGD9zUXltzrAwDGUAu63OsDA0Vvb9bc6wPBBJnv3tzrAQLLwGvm3OsBgIru6+rc6wEDbYzD8tzrAQCqtf/y3OsBAefbO/Lc6wEDIPx79tzrAUHKaaP23OsBgEH+Q/bc6wMCuY7j9tzrAwExI4P23OsBAsI4I/rc6wDAygDP+tzrA8LNxXv63OsDwNWOJ/rc6wIADPrT+tzrAQC563v63OsDwWLYI/7c6wGCD8jL/tzrAQBkLXf+3OsBgEyuG/7c6wGANS6//tzrAwAdr2P+3OsDwZbkBALg6wPDmSywAuDrA8GfeVgC4OsDA6HCBALg6wA==",
          "dtype": "f8"
         }
        },
        {
         "legendgroup": "019",
         "line": {
          "color": "rgb(159, 0, 0)"
         },
         "name": "019",
         "opacity": 0.4,
         "type": "scatter",
         "x": [
          0,
          1000000000000,
          2000000000000,
          3000000000000,
          4000000000000,
          5000000000000,
          6000000000000,
          7000000000000,
          8000000000000,
          9000000000000,
          10000000000000,
          11000000000000,
          12000000000000,
          13000000000000,
          14000000000000,
          15000000000000,
          16000000000000,
          17000000000000,
          18000000000000,
          19000000000000,
          20000000000000,
          21000000000000,
          22000000000000,
          23000000000000,
          24000000000000,
          25000000000000,
          26000000000000,
          27000000000000,
          28000000000000,
          29000000000000,
          30000000000000,
          31000000000000,
          32000000000000,
          33000000000000,
          34000000000000,
          35000000000000,
          36000000000000,
          37000000000000,
          38000000000000,
          39000000000000,
          40000000000000
         ],
         "y": {
          "bdata": "AAAAAAAASD0AAAAAAABIPQAAAAAAAEg9ACqwxgM4EEBw7iyiBnUzQPCfp7tTsjZAkFrE2JUeN0AQIFXvMTo3QOAoq3wdQzdAEE5K/8BFN0BwD9B4EkU3QPBy9BL3QjdAkJrFpQxBN0CQavFrmz83QPDSV/d7PjdA4FhG2Vs+N0BgKtziWz43QOB6mZFXPjdAwJro/Fc+N0AwqhkTWj43QOAqgrxbPjdA8DwMp14+N0Dgtbr3Xz43QNDhxbJgPjdAwMOf+WA+N0DQW0jMYD43QGCL4XdhPjdAMFA1NWI+N0DwFInyYj43QNDZ3K9jPjdAYIJIz2M+N0Dg9KbkYz43QFBnBfpjPjdA0NljD2Q+N0DQ4l4VZD43QAAoXxpkPjdAYG1fH2Q+N0DAsl8kZD43QODpkidkPjdAwMeoKmQ+N0CQpb4tZD43QA==",
          "dtype": "f8"
         }
        },
        {
         "legendgroup": "019",
         "line": {
          "color": "rgb(159, 0, 0)"
         },
         "name": "019",
         "opacity": 0.4,
         "type": "scatter",
         "x": [
          0,
          1000000000000,
          2000000000000,
          3000000000000,
          4000000000000,
          5000000000000,
          6000000000000,
          7000000000000,
          8000000000000,
          9000000000000,
          10000000000000,
          11000000000000,
          12000000000000,
          13000000000000,
          14000000000000,
          15000000000000,
          16000000000000,
          17000000000000,
          18000000000000,
          19000000000000,
          20000000000000,
          21000000000000,
          22000000000000,
          23000000000000,
          24000000000000,
          25000000000000,
          26000000000000,
          27000000000000,
          28000000000000,
          29000000000000,
          30000000000000,
          31000000000000,
          32000000000000,
          33000000000000,
          34000000000000,
          35000000000000,
          36000000000000,
          37000000000000,
          38000000000000,
          39000000000000,
          40000000000000
         ],
         "y": {
          "bdata": "gC8PZhdxFsCAuMaItosWwEBvhRCGcBjAQMBSQRw5J8AQEcYWso81wCCNQkQiujfAICT1zje3N8AgML4PPJk3wHB/zObXiTfAcI2idOSAN8AQ6DMwLXs3wFDNE5dzdzfAwLTc/a50N8AwZcr2jnI3wDBajk7icDfA0IOGZo5vN8AQvZs7l243wPAvmR3TbTfAwJsFm1ZtN8BwtmN5Am03wJBUC2DFbDfAwOMf4N1sN8CQHNuP/Ww3wDDIX10UbTfAQHvvNyBtN8DwNYofIW03wEAtEo4abTfAgBRg4RNtN8DA+600DW03wADj+4cGbTfAYEJObgNtN8AwjN+OAG03wPDVcK/9bDfA4B8C0PpsN8BAdPdj+Ww3wGDikA/4bDfAYFAqu/ZsN8BAvsNm9Ww3wBCW1r70bDfA4AfkIfRsN8CAefGE82w3wA==",
          "dtype": "f8"
         }
        }
       ],
       "layout": {
        "showlegend": false,
        "template": {
         "data": {
          "bar": [
           {
            "error_x": {
             "color": "#2a3f5f"
            },
            "error_y": {
             "color": "#2a3f5f"
            },
            "marker": {
             "line": {
              "color": "#E5ECF6",
              "width": 0.5
             },
             "pattern": {
              "fillmode": "overlay",
              "size": 10,
              "solidity": 0.2
             }
            },
            "type": "bar"
           }
          ],
          "barpolar": [
           {
            "marker": {
             "line": {
              "color": "#E5ECF6",
              "width": 0.5
             },
             "pattern": {
              "fillmode": "overlay",
              "size": 10,
              "solidity": 0.2
             }
            },
            "type": "barpolar"
           }
          ],
          "carpet": [
           {
            "aaxis": {
             "endlinecolor": "#2a3f5f",
             "gridcolor": "white",
             "linecolor": "white",
             "minorgridcolor": "white",
             "startlinecolor": "#2a3f5f"
            },
            "baxis": {
             "endlinecolor": "#2a3f5f",
             "gridcolor": "white",
             "linecolor": "white",
             "minorgridcolor": "white",
             "startlinecolor": "#2a3f5f"
            },
            "type": "carpet"
           }
          ],
          "choropleth": [
           {
            "colorbar": {
             "outlinewidth": 0,
             "ticks": ""
            },
            "type": "choropleth"
           }
          ],
          "contour": [
           {
            "colorbar": {
             "outlinewidth": 0,
             "ticks": ""
            },
            "colorscale": [
             [
              0,
              "#0d0887"
             ],
             [
              0.1111111111111111,
              "#46039f"
             ],
             [
              0.2222222222222222,
              "#7201a8"
             ],
             [
              0.3333333333333333,
              "#9c179e"
             ],
             [
              0.4444444444444444,
              "#bd3786"
             ],
             [
              0.5555555555555556,
              "#d8576b"
             ],
             [
              0.6666666666666666,
              "#ed7953"
             ],
             [
              0.7777777777777778,
              "#fb9f3a"
             ],
             [
              0.8888888888888888,
              "#fdca26"
             ],
             [
              1,
              "#f0f921"
             ]
            ],
            "type": "contour"
           }
          ],
          "contourcarpet": [
           {
            "colorbar": {
             "outlinewidth": 0,
             "ticks": ""
            },
            "type": "contourcarpet"
           }
          ],
          "heatmap": [
           {
            "colorbar": {
             "outlinewidth": 0,
             "ticks": ""
            },
            "colorscale": [
             [
              0,
              "#0d0887"
             ],
             [
              0.1111111111111111,
              "#46039f"
             ],
             [
              0.2222222222222222,
              "#7201a8"
             ],
             [
              0.3333333333333333,
              "#9c179e"
             ],
             [
              0.4444444444444444,
              "#bd3786"
             ],
             [
              0.5555555555555556,
              "#d8576b"
             ],
             [
              0.6666666666666666,
              "#ed7953"
             ],
             [
              0.7777777777777778,
              "#fb9f3a"
             ],
             [
              0.8888888888888888,
              "#fdca26"
             ],
             [
              1,
              "#f0f921"
             ]
            ],
            "type": "heatmap"
           }
          ],
          "histogram": [
           {
            "marker": {
             "pattern": {
              "fillmode": "overlay",
              "size": 10,
              "solidity": 0.2
             }
            },
            "type": "histogram"
           }
          ],
          "histogram2d": [
           {
            "colorbar": {
             "outlinewidth": 0,
             "ticks": ""
            },
            "colorscale": [
             [
              0,
              "#0d0887"
             ],
             [
              0.1111111111111111,
              "#46039f"
             ],
             [
              0.2222222222222222,
              "#7201a8"
             ],
             [
              0.3333333333333333,
              "#9c179e"
             ],
             [
              0.4444444444444444,
              "#bd3786"
             ],
             [
              0.5555555555555556,
              "#d8576b"
             ],
             [
              0.6666666666666666,
              "#ed7953"
             ],
             [
              0.7777777777777778,
              "#fb9f3a"
             ],
             [
              0.8888888888888888,
              "#fdca26"
             ],
             [
              1,
              "#f0f921"
             ]
            ],
            "type": "histogram2d"
           }
          ],
          "histogram2dcontour": [
           {
            "colorbar": {
             "outlinewidth": 0,
             "ticks": ""
            },
            "colorscale": [
             [
              0,
              "#0d0887"
             ],
             [
              0.1111111111111111,
              "#46039f"
             ],
             [
              0.2222222222222222,
              "#7201a8"
             ],
             [
              0.3333333333333333,
              "#9c179e"
             ],
             [
              0.4444444444444444,
              "#bd3786"
             ],
             [
              0.5555555555555556,
              "#d8576b"
             ],
             [
              0.6666666666666666,
              "#ed7953"
             ],
             [
              0.7777777777777778,
              "#fb9f3a"
             ],
             [
              0.8888888888888888,
              "#fdca26"
             ],
             [
              1,
              "#f0f921"
             ]
            ],
            "type": "histogram2dcontour"
           }
          ],
          "mesh3d": [
           {
            "colorbar": {
             "outlinewidth": 0,
             "ticks": ""
            },
            "type": "mesh3d"
           }
          ],
          "parcoords": [
           {
            "line": {
             "colorbar": {
              "outlinewidth": 0,
              "ticks": ""
             }
            },
            "type": "parcoords"
           }
          ],
          "pie": [
           {
            "automargin": true,
            "type": "pie"
           }
          ],
          "scatter": [
           {
            "fillpattern": {
             "fillmode": "overlay",
             "size": 10,
             "solidity": 0.2
            },
            "type": "scatter"
           }
          ],
          "scatter3d": [
           {
            "line": {
             "colorbar": {
              "outlinewidth": 0,
              "ticks": ""
             }
            },
            "marker": {
             "colorbar": {
              "outlinewidth": 0,
              "ticks": ""
             }
            },
            "type": "scatter3d"
           }
          ],
          "scattercarpet": [
           {
            "marker": {
             "colorbar": {
              "outlinewidth": 0,
              "ticks": ""
             }
            },
            "type": "scattercarpet"
           }
          ],
          "scattergeo": [
           {
            "marker": {
             "colorbar": {
              "outlinewidth": 0,
              "ticks": ""
             }
            },
            "type": "scattergeo"
           }
          ],
          "scattergl": [
           {
            "marker": {
             "colorbar": {
              "outlinewidth": 0,
              "ticks": ""
             }
            },
            "type": "scattergl"
           }
          ],
          "scattermap": [
           {
            "marker": {
             "colorbar": {
              "outlinewidth": 0,
              "ticks": ""
             }
            },
            "type": "scattermap"
           }
          ],
          "scattermapbox": [
           {
            "marker": {
             "colorbar": {
              "outlinewidth": 0,
              "ticks": ""
             }
            },
            "type": "scattermapbox"
           }
          ],
          "scatterpolar": [
           {
            "marker": {
             "colorbar": {
              "outlinewidth": 0,
              "ticks": ""
             }
            },
            "type": "scatterpolar"
           }
          ],
          "scatterpolargl": [
           {
            "marker": {
             "colorbar": {
              "outlinewidth": 0,
              "ticks": ""
             }
            },
            "type": "scatterpolargl"
           }
          ],
          "scatterternary": [
           {
            "marker": {
             "colorbar": {
              "outlinewidth": 0,
              "ticks": ""
             }
            },
            "type": "scatterternary"
           }
          ],
          "surface": [
           {
            "colorbar": {
             "outlinewidth": 0,
             "ticks": ""
            },
            "colorscale": [
             [
              0,
              "#0d0887"
             ],
             [
              0.1111111111111111,
              "#46039f"
             ],
             [
              0.2222222222222222,
              "#7201a8"
             ],
             [
              0.3333333333333333,
              "#9c179e"
             ],
             [
              0.4444444444444444,
              "#bd3786"
             ],
             [
              0.5555555555555556,
              "#d8576b"
             ],
             [
              0.6666666666666666,
              "#ed7953"
             ],
             [
              0.7777777777777778,
              "#fb9f3a"
             ],
             [
              0.8888888888888888,
              "#fdca26"
             ],
             [
              1,
              "#f0f921"
             ]
            ],
            "type": "surface"
           }
          ],
          "table": [
           {
            "cells": {
             "fill": {
              "color": "#EBF0F8"
             },
             "line": {
              "color": "white"
             }
            },
            "header": {
             "fill": {
              "color": "#C8D4E3"
             },
             "line": {
              "color": "white"
             }
            },
            "type": "table"
           }
          ]
         },
         "layout": {
          "annotationdefaults": {
           "arrowcolor": "#2a3f5f",
           "arrowhead": 0,
           "arrowwidth": 1
          },
          "autotypenumbers": "strict",
          "coloraxis": {
           "colorbar": {
            "outlinewidth": 0,
            "ticks": ""
           }
          },
          "colorscale": {
           "diverging": [
            [
             0,
             "#8e0152"
            ],
            [
             0.1,
             "#c51b7d"
            ],
            [
             0.2,
             "#de77ae"
            ],
            [
             0.3,
             "#f1b6da"
            ],
            [
             0.4,
             "#fde0ef"
            ],
            [
             0.5,
             "#f7f7f7"
            ],
            [
             0.6,
             "#e6f5d0"
            ],
            [
             0.7,
             "#b8e186"
            ],
            [
             0.8,
             "#7fbc41"
            ],
            [
             0.9,
             "#4d9221"
            ],
            [
             1,
             "#276419"
            ]
           ],
           "sequential": [
            [
             0,
             "#0d0887"
            ],
            [
             0.1111111111111111,
             "#46039f"
            ],
            [
             0.2222222222222222,
             "#7201a8"
            ],
            [
             0.3333333333333333,
             "#9c179e"
            ],
            [
             0.4444444444444444,
             "#bd3786"
            ],
            [
             0.5555555555555556,
             "#d8576b"
            ],
            [
             0.6666666666666666,
             "#ed7953"
            ],
            [
             0.7777777777777778,
             "#fb9f3a"
            ],
            [
             0.8888888888888888,
             "#fdca26"
            ],
            [
             1,
             "#f0f921"
            ]
           ],
           "sequentialminus": [
            [
             0,
             "#0d0887"
            ],
            [
             0.1111111111111111,
             "#46039f"
            ],
            [
             0.2222222222222222,
             "#7201a8"
            ],
            [
             0.3333333333333333,
             "#9c179e"
            ],
            [
             0.4444444444444444,
             "#bd3786"
            ],
            [
             0.5555555555555556,
             "#d8576b"
            ],
            [
             0.6666666666666666,
             "#ed7953"
            ],
            [
             0.7777777777777778,
             "#fb9f3a"
            ],
            [
             0.8888888888888888,
             "#fdca26"
            ],
            [
             1,
             "#f0f921"
            ]
           ]
          },
          "colorway": [
           "#636efa",
           "#EF553B",
           "#00cc96",
           "#ab63fa",
           "#FFA15A",
           "#19d3f3",
           "#FF6692",
           "#B6E880",
           "#FF97FF",
           "#FECB52"
          ],
          "font": {
           "color": "#2a3f5f"
          },
          "geo": {
           "bgcolor": "white",
           "lakecolor": "white",
           "landcolor": "#E5ECF6",
           "showlakes": true,
           "showland": true,
           "subunitcolor": "white"
          },
          "hoverlabel": {
           "align": "left"
          },
          "hovermode": "closest",
          "mapbox": {
           "style": "light"
          },
          "paper_bgcolor": "white",
          "plot_bgcolor": "#E5ECF6",
          "polar": {
           "angularaxis": {
            "gridcolor": "white",
            "linecolor": "white",
            "ticks": ""
           },
           "bgcolor": "#E5ECF6",
           "radialaxis": {
            "gridcolor": "white",
            "linecolor": "white",
            "ticks": ""
           }
          },
          "scene": {
           "xaxis": {
            "backgroundcolor": "#E5ECF6",
            "gridcolor": "white",
            "gridwidth": 2,
            "linecolor": "white",
            "showbackground": true,
            "ticks": "",
            "zerolinecolor": "white"
           },
           "yaxis": {
            "backgroundcolor": "#E5ECF6",
            "gridcolor": "white",
            "gridwidth": 2,
            "linecolor": "white",
            "showbackground": true,
            "ticks": "",
            "zerolinecolor": "white"
           },
           "zaxis": {
            "backgroundcolor": "#E5ECF6",
            "gridcolor": "white",
            "gridwidth": 2,
            "linecolor": "white",
            "showbackground": true,
            "ticks": "",
            "zerolinecolor": "white"
           }
          },
          "shapedefaults": {
           "line": {
            "color": "#2a3f5f"
           }
          },
          "ternary": {
           "aaxis": {
            "gridcolor": "white",
            "linecolor": "white",
            "ticks": ""
           },
           "baxis": {
            "gridcolor": "white",
            "linecolor": "white",
            "ticks": ""
           },
           "bgcolor": "#E5ECF6",
           "caxis": {
            "gridcolor": "white",
            "linecolor": "white",
            "ticks": ""
           }
          },
          "title": {
           "x": 0.05
          },
          "xaxis": {
           "automargin": true,
           "gridcolor": "white",
           "linecolor": "white",
           "ticks": "",
           "title": {
            "standoff": 15
           },
           "zerolinecolor": "white",
           "zerolinewidth": 2
          },
          "yaxis": {
           "automargin": true,
           "gridcolor": "white",
           "linecolor": "white",
           "ticks": "",
           "title": {
            "standoff": 15
           },
           "zerolinecolor": "white",
           "zerolinewidth": 2
          }
         }
        },
        "title": {
         "text": "Temperature Difference (T-T0) - Test Snapshots - Parameter Space 01"
        },
        "xaxis": {
         "tickformat": ".2e",
         "title": {
          "text": "Time [s]"
         }
        },
        "yaxis": {
         "tickformat": ".2f",
         "title": {
          "text": "Temperature [K]"
         }
        }
       }
      }
     },
     "metadata": {},
     "output_type": "display_data"
    }
   ],
   "source": [
    "N_SNAPS, N_TIMES, N_POINTS = temperatures_diff.shape\n",
    "\n",
    "colors = px.colors.sample_colorscale(\"jet\", [n/(N_SNAPS) for n in range(N_SNAPS)])\n",
    "\n",
    "fig = go.Figure()\n",
    "for idx_snap, temperature_array in enumerate(temperatures_diff):\n",
    "# customdata=np.stack(([t_h] * len(comsol_data.times), [host_k] * len(comsol_data.times)) , axis=-1),\n",
    "    input_args = {'x' : list(comsol_data.times.values()),\n",
    "                #   'customdata' : customdata,\n",
    "                #   'hovertemplate' : \"Time: %{x:.2e}<br>Temperature: %{y:.2f}<br>T_h: %{customdata[0]:.2f}<br><br>host_k: %{customdata[1]:.2e}<br>\",\n",
    "                    'legendgroup' : f\"{idx_snap:03d}\",\n",
    "                    'name' : f\"{idx_snap:03d}\",\n",
    "                    'line' : dict(color=colors[idx_snap]),\n",
    "                    'opacity': 0.4}\n",
    "    fig.add_trace(go.Scatter(y=np.max(temperature_array, axis=1), **input_args))\n",
    "    fig.add_trace(go.Scatter(y=np.min(temperature_array, axis=1), **input_args))\n",
    "\n",
    "fig.update_layout(\n",
    "    xaxis_tickformat='.2e',  # Format x-axis numbers to 2 decimal places\n",
    "    yaxis_tickformat='.2f',  # Format y-axis numbers to 2 decimal places\n",
    "    showlegend=False,        # Hide the legend\n",
    "    title_text=f'Temperature Difference (T-T0) - {DATA_TYPE} Snapshots - Parameter Space {VERSION}', # title of plot\n",
    "    xaxis_title=\"Time [s]\",    # Optional: label for x-axis\n",
    "    yaxis_title=\"Temperature [K]\"     # Optional: label for y-axis\n",
    ")\n",
    "fig.write_image(import_folder / \"Exports\" / f\"{DATA_TYPE}_MinMaxTemperatures.png\")\n",
    "fig.show()\n"
   ]
  },
  {
   "cell_type": "code",
   "execution_count": 99,
   "metadata": {},
   "outputs": [],
   "source": [
    "sim_times_path = import_folder / \"Exports\" / f\"{DATA_TYPE}_sim_times.npy\"\n",
    "sim_times = np.load(sim_times_path)"
   ]
  },
  {
   "cell_type": "code",
   "execution_count": 100,
   "metadata": {},
   "outputs": [
    {
     "data": {
      "application/vnd.plotly.v1+json": {
       "config": {
        "plotlyServerURL": "https://plot.ly"
       },
       "data": [
        {
         "histnorm": "percent",
         "marker": {
          "color": "#EB89B5"
         },
         "name": "control",
         "opacity": 0.75,
         "texttemplate": "%{x}",
         "type": "histogram",
         "x": {
          "bdata": "ZmZmEhOwIUC8u7tzGhskQJqZmSF+RyNAd3d3wzAdIEDe3d0F3wAZQM3MzHqMoCZAmpmZxQ/5GUBVVVWjrFkhQKuqqro4niJAiYiILsijIEBmZmZWzw4gQCIiIvpIkRlAzczMcqN3JUAzMzP/eDwZQImIiOSWrhlAMzMz04WlIUDNzMzgpncZQFVVVT969iNAVVVVvVDPIEAiIiLI6C4hQA==",
          "dtype": "f8"
         },
         "xbins": {
          "size": 2
         }
        }
       ],
       "layout": {
        "bargroupgap": 0.1,
        "template": {
         "data": {
          "bar": [
           {
            "error_x": {
             "color": "#2a3f5f"
            },
            "error_y": {
             "color": "#2a3f5f"
            },
            "marker": {
             "line": {
              "color": "#E5ECF6",
              "width": 0.5
             },
             "pattern": {
              "fillmode": "overlay",
              "size": 10,
              "solidity": 0.2
             }
            },
            "type": "bar"
           }
          ],
          "barpolar": [
           {
            "marker": {
             "line": {
              "color": "#E5ECF6",
              "width": 0.5
             },
             "pattern": {
              "fillmode": "overlay",
              "size": 10,
              "solidity": 0.2
             }
            },
            "type": "barpolar"
           }
          ],
          "carpet": [
           {
            "aaxis": {
             "endlinecolor": "#2a3f5f",
             "gridcolor": "white",
             "linecolor": "white",
             "minorgridcolor": "white",
             "startlinecolor": "#2a3f5f"
            },
            "baxis": {
             "endlinecolor": "#2a3f5f",
             "gridcolor": "white",
             "linecolor": "white",
             "minorgridcolor": "white",
             "startlinecolor": "#2a3f5f"
            },
            "type": "carpet"
           }
          ],
          "choropleth": [
           {
            "colorbar": {
             "outlinewidth": 0,
             "ticks": ""
            },
            "type": "choropleth"
           }
          ],
          "contour": [
           {
            "colorbar": {
             "outlinewidth": 0,
             "ticks": ""
            },
            "colorscale": [
             [
              0,
              "#0d0887"
             ],
             [
              0.1111111111111111,
              "#46039f"
             ],
             [
              0.2222222222222222,
              "#7201a8"
             ],
             [
              0.3333333333333333,
              "#9c179e"
             ],
             [
              0.4444444444444444,
              "#bd3786"
             ],
             [
              0.5555555555555556,
              "#d8576b"
             ],
             [
              0.6666666666666666,
              "#ed7953"
             ],
             [
              0.7777777777777778,
              "#fb9f3a"
             ],
             [
              0.8888888888888888,
              "#fdca26"
             ],
             [
              1,
              "#f0f921"
             ]
            ],
            "type": "contour"
           }
          ],
          "contourcarpet": [
           {
            "colorbar": {
             "outlinewidth": 0,
             "ticks": ""
            },
            "type": "contourcarpet"
           }
          ],
          "heatmap": [
           {
            "colorbar": {
             "outlinewidth": 0,
             "ticks": ""
            },
            "colorscale": [
             [
              0,
              "#0d0887"
             ],
             [
              0.1111111111111111,
              "#46039f"
             ],
             [
              0.2222222222222222,
              "#7201a8"
             ],
             [
              0.3333333333333333,
              "#9c179e"
             ],
             [
              0.4444444444444444,
              "#bd3786"
             ],
             [
              0.5555555555555556,
              "#d8576b"
             ],
             [
              0.6666666666666666,
              "#ed7953"
             ],
             [
              0.7777777777777778,
              "#fb9f3a"
             ],
             [
              0.8888888888888888,
              "#fdca26"
             ],
             [
              1,
              "#f0f921"
             ]
            ],
            "type": "heatmap"
           }
          ],
          "histogram": [
           {
            "marker": {
             "pattern": {
              "fillmode": "overlay",
              "size": 10,
              "solidity": 0.2
             }
            },
            "type": "histogram"
           }
          ],
          "histogram2d": [
           {
            "colorbar": {
             "outlinewidth": 0,
             "ticks": ""
            },
            "colorscale": [
             [
              0,
              "#0d0887"
             ],
             [
              0.1111111111111111,
              "#46039f"
             ],
             [
              0.2222222222222222,
              "#7201a8"
             ],
             [
              0.3333333333333333,
              "#9c179e"
             ],
             [
              0.4444444444444444,
              "#bd3786"
             ],
             [
              0.5555555555555556,
              "#d8576b"
             ],
             [
              0.6666666666666666,
              "#ed7953"
             ],
             [
              0.7777777777777778,
              "#fb9f3a"
             ],
             [
              0.8888888888888888,
              "#fdca26"
             ],
             [
              1,
              "#f0f921"
             ]
            ],
            "type": "histogram2d"
           }
          ],
          "histogram2dcontour": [
           {
            "colorbar": {
             "outlinewidth": 0,
             "ticks": ""
            },
            "colorscale": [
             [
              0,
              "#0d0887"
             ],
             [
              0.1111111111111111,
              "#46039f"
             ],
             [
              0.2222222222222222,
              "#7201a8"
             ],
             [
              0.3333333333333333,
              "#9c179e"
             ],
             [
              0.4444444444444444,
              "#bd3786"
             ],
             [
              0.5555555555555556,
              "#d8576b"
             ],
             [
              0.6666666666666666,
              "#ed7953"
             ],
             [
              0.7777777777777778,
              "#fb9f3a"
             ],
             [
              0.8888888888888888,
              "#fdca26"
             ],
             [
              1,
              "#f0f921"
             ]
            ],
            "type": "histogram2dcontour"
           }
          ],
          "mesh3d": [
           {
            "colorbar": {
             "outlinewidth": 0,
             "ticks": ""
            },
            "type": "mesh3d"
           }
          ],
          "parcoords": [
           {
            "line": {
             "colorbar": {
              "outlinewidth": 0,
              "ticks": ""
             }
            },
            "type": "parcoords"
           }
          ],
          "pie": [
           {
            "automargin": true,
            "type": "pie"
           }
          ],
          "scatter": [
           {
            "fillpattern": {
             "fillmode": "overlay",
             "size": 10,
             "solidity": 0.2
            },
            "type": "scatter"
           }
          ],
          "scatter3d": [
           {
            "line": {
             "colorbar": {
              "outlinewidth": 0,
              "ticks": ""
             }
            },
            "marker": {
             "colorbar": {
              "outlinewidth": 0,
              "ticks": ""
             }
            },
            "type": "scatter3d"
           }
          ],
          "scattercarpet": [
           {
            "marker": {
             "colorbar": {
              "outlinewidth": 0,
              "ticks": ""
             }
            },
            "type": "scattercarpet"
           }
          ],
          "scattergeo": [
           {
            "marker": {
             "colorbar": {
              "outlinewidth": 0,
              "ticks": ""
             }
            },
            "type": "scattergeo"
           }
          ],
          "scattergl": [
           {
            "marker": {
             "colorbar": {
              "outlinewidth": 0,
              "ticks": ""
             }
            },
            "type": "scattergl"
           }
          ],
          "scattermap": [
           {
            "marker": {
             "colorbar": {
              "outlinewidth": 0,
              "ticks": ""
             }
            },
            "type": "scattermap"
           }
          ],
          "scattermapbox": [
           {
            "marker": {
             "colorbar": {
              "outlinewidth": 0,
              "ticks": ""
             }
            },
            "type": "scattermapbox"
           }
          ],
          "scatterpolar": [
           {
            "marker": {
             "colorbar": {
              "outlinewidth": 0,
              "ticks": ""
             }
            },
            "type": "scatterpolar"
           }
          ],
          "scatterpolargl": [
           {
            "marker": {
             "colorbar": {
              "outlinewidth": 0,
              "ticks": ""
             }
            },
            "type": "scatterpolargl"
           }
          ],
          "scatterternary": [
           {
            "marker": {
             "colorbar": {
              "outlinewidth": 0,
              "ticks": ""
             }
            },
            "type": "scatterternary"
           }
          ],
          "surface": [
           {
            "colorbar": {
             "outlinewidth": 0,
             "ticks": ""
            },
            "colorscale": [
             [
              0,
              "#0d0887"
             ],
             [
              0.1111111111111111,
              "#46039f"
             ],
             [
              0.2222222222222222,
              "#7201a8"
             ],
             [
              0.3333333333333333,
              "#9c179e"
             ],
             [
              0.4444444444444444,
              "#bd3786"
             ],
             [
              0.5555555555555556,
              "#d8576b"
             ],
             [
              0.6666666666666666,
              "#ed7953"
             ],
             [
              0.7777777777777778,
              "#fb9f3a"
             ],
             [
              0.8888888888888888,
              "#fdca26"
             ],
             [
              1,
              "#f0f921"
             ]
            ],
            "type": "surface"
           }
          ],
          "table": [
           {
            "cells": {
             "fill": {
              "color": "#EBF0F8"
             },
             "line": {
              "color": "white"
             }
            },
            "header": {
             "fill": {
              "color": "#C8D4E3"
             },
             "line": {
              "color": "white"
             }
            },
            "type": "table"
           }
          ]
         },
         "layout": {
          "annotationdefaults": {
           "arrowcolor": "#2a3f5f",
           "arrowhead": 0,
           "arrowwidth": 1
          },
          "autotypenumbers": "strict",
          "coloraxis": {
           "colorbar": {
            "outlinewidth": 0,
            "ticks": ""
           }
          },
          "colorscale": {
           "diverging": [
            [
             0,
             "#8e0152"
            ],
            [
             0.1,
             "#c51b7d"
            ],
            [
             0.2,
             "#de77ae"
            ],
            [
             0.3,
             "#f1b6da"
            ],
            [
             0.4,
             "#fde0ef"
            ],
            [
             0.5,
             "#f7f7f7"
            ],
            [
             0.6,
             "#e6f5d0"
            ],
            [
             0.7,
             "#b8e186"
            ],
            [
             0.8,
             "#7fbc41"
            ],
            [
             0.9,
             "#4d9221"
            ],
            [
             1,
             "#276419"
            ]
           ],
           "sequential": [
            [
             0,
             "#0d0887"
            ],
            [
             0.1111111111111111,
             "#46039f"
            ],
            [
             0.2222222222222222,
             "#7201a8"
            ],
            [
             0.3333333333333333,
             "#9c179e"
            ],
            [
             0.4444444444444444,
             "#bd3786"
            ],
            [
             0.5555555555555556,
             "#d8576b"
            ],
            [
             0.6666666666666666,
             "#ed7953"
            ],
            [
             0.7777777777777778,
             "#fb9f3a"
            ],
            [
             0.8888888888888888,
             "#fdca26"
            ],
            [
             1,
             "#f0f921"
            ]
           ],
           "sequentialminus": [
            [
             0,
             "#0d0887"
            ],
            [
             0.1111111111111111,
             "#46039f"
            ],
            [
             0.2222222222222222,
             "#7201a8"
            ],
            [
             0.3333333333333333,
             "#9c179e"
            ],
            [
             0.4444444444444444,
             "#bd3786"
            ],
            [
             0.5555555555555556,
             "#d8576b"
            ],
            [
             0.6666666666666666,
             "#ed7953"
            ],
            [
             0.7777777777777778,
             "#fb9f3a"
            ],
            [
             0.8888888888888888,
             "#fdca26"
            ],
            [
             1,
             "#f0f921"
            ]
           ]
          },
          "colorway": [
           "#636efa",
           "#EF553B",
           "#00cc96",
           "#ab63fa",
           "#FFA15A",
           "#19d3f3",
           "#FF6692",
           "#B6E880",
           "#FF97FF",
           "#FECB52"
          ],
          "font": {
           "color": "#2a3f5f"
          },
          "geo": {
           "bgcolor": "white",
           "lakecolor": "white",
           "landcolor": "#E5ECF6",
           "showlakes": true,
           "showland": true,
           "subunitcolor": "white"
          },
          "hoverlabel": {
           "align": "left"
          },
          "hovermode": "closest",
          "mapbox": {
           "style": "light"
          },
          "paper_bgcolor": "white",
          "plot_bgcolor": "#E5ECF6",
          "polar": {
           "angularaxis": {
            "gridcolor": "white",
            "linecolor": "white",
            "ticks": ""
           },
           "bgcolor": "#E5ECF6",
           "radialaxis": {
            "gridcolor": "white",
            "linecolor": "white",
            "ticks": ""
           }
          },
          "scene": {
           "xaxis": {
            "backgroundcolor": "#E5ECF6",
            "gridcolor": "white",
            "gridwidth": 2,
            "linecolor": "white",
            "showbackground": true,
            "ticks": "",
            "zerolinecolor": "white"
           },
           "yaxis": {
            "backgroundcolor": "#E5ECF6",
            "gridcolor": "white",
            "gridwidth": 2,
            "linecolor": "white",
            "showbackground": true,
            "ticks": "",
            "zerolinecolor": "white"
           },
           "zaxis": {
            "backgroundcolor": "#E5ECF6",
            "gridcolor": "white",
            "gridwidth": 2,
            "linecolor": "white",
            "showbackground": true,
            "ticks": "",
            "zerolinecolor": "white"
           }
          },
          "shapedefaults": {
           "line": {
            "color": "#2a3f5f"
           }
          },
          "ternary": {
           "aaxis": {
            "gridcolor": "white",
            "linecolor": "white",
            "ticks": ""
           },
           "baxis": {
            "gridcolor": "white",
            "linecolor": "white",
            "ticks": ""
           },
           "bgcolor": "#E5ECF6",
           "caxis": {
            "gridcolor": "white",
            "linecolor": "white",
            "ticks": ""
           }
          },
          "title": {
           "x": 0.05
          },
          "xaxis": {
           "automargin": true,
           "gridcolor": "white",
           "linecolor": "white",
           "ticks": "",
           "title": {
            "standoff": 15
           },
           "zerolinecolor": "white",
           "zerolinewidth": 2
          },
          "yaxis": {
           "automargin": true,
           "gridcolor": "white",
           "linecolor": "white",
           "ticks": "",
           "title": {
            "standoff": 15
           },
           "zerolinecolor": "white",
           "zerolinewidth": 2
          }
         }
        },
        "title": {
         "text": "Simulation Time - Test Snapshots - Parameter Space 01"
        },
        "xaxis": {
         "title": {
          "text": "Time [min]"
         }
        },
        "yaxis": {
         "title": {
          "text": "Count"
         }
        }
       }
      }
     },
     "metadata": {},
     "output_type": "display_data"
    }
   ],
   "source": [
    "fig = go.Figure(data=[go.Histogram(\n",
    "    x=sim_times / 60,\n",
    "    histnorm='percent',\n",
    "    name='control', # name used in legend and hover labels\n",
    "    xbins=dict( # bins used for histogram\n",
    "        # start=-4.0,\n",
    "        # end=3.0,\n",
    "        size=2,\n",
    "        ),\n",
    "    marker_color='#EB89B5',\n",
    "    opacity=0.75,\n",
    "     texttemplate=\"%{x}\"\n",
    "    )])\n",
    "\n",
    "fig.update_layout(\n",
    "    title_text=f'Simulation Time - {DATA_TYPE} Snapshots - Parameter Space {VERSION}', # title of plot\n",
    "    xaxis_title_text='Time [min]', # xaxis label\n",
    "    yaxis_title_text='Count', # yaxis label\n",
    "    bargroupgap=0.1, # gap between bars of the same location coordinates\n",
    ")\n",
    "fig.write_image(import_folder / \"Exports\" / f\"{DATA_TYPE}_SimulationTime.png\")\n",
    "fig.show()\n"
   ]
  },
  {
   "cell_type": "markdown",
   "metadata": {},
   "source": [
    "### Entropy\n"
   ]
  },
  {
   "cell_type": "code",
   "execution_count": 101,
   "metadata": {},
   "outputs": [
    {
     "data": {
      "text/plain": [
       "[PosixPath('/Users/thomassimader/Documents/NIRB/Snapshots/01/Exports/Test_000_parameters.csv'),\n",
       " PosixPath('/Users/thomassimader/Documents/NIRB/Snapshots/01/Exports/Test_001_parameters.csv'),\n",
       " PosixPath('/Users/thomassimader/Documents/NIRB/Snapshots/01/Exports/Test_002_parameters.csv'),\n",
       " PosixPath('/Users/thomassimader/Documents/NIRB/Snapshots/01/Exports/Test_003_parameters.csv'),\n",
       " PosixPath('/Users/thomassimader/Documents/NIRB/Snapshots/01/Exports/Test_004_parameters.csv'),\n",
       " PosixPath('/Users/thomassimader/Documents/NIRB/Snapshots/01/Exports/Test_005_parameters.csv'),\n",
       " PosixPath('/Users/thomassimader/Documents/NIRB/Snapshots/01/Exports/Test_006_parameters.csv'),\n",
       " PosixPath('/Users/thomassimader/Documents/NIRB/Snapshots/01/Exports/Test_007_parameters.csv'),\n",
       " PosixPath('/Users/thomassimader/Documents/NIRB/Snapshots/01/Exports/Test_008_parameters.csv'),\n",
       " PosixPath('/Users/thomassimader/Documents/NIRB/Snapshots/01/Exports/Test_009_parameters.csv'),\n",
       " PosixPath('/Users/thomassimader/Documents/NIRB/Snapshots/01/Exports/Test_010_parameters.csv'),\n",
       " PosixPath('/Users/thomassimader/Documents/NIRB/Snapshots/01/Exports/Test_011_parameters.csv'),\n",
       " PosixPath('/Users/thomassimader/Documents/NIRB/Snapshots/01/Exports/Test_012_parameters.csv'),\n",
       " PosixPath('/Users/thomassimader/Documents/NIRB/Snapshots/01/Exports/Test_013_parameters.csv'),\n",
       " PosixPath('/Users/thomassimader/Documents/NIRB/Snapshots/01/Exports/Test_014_parameters.csv'),\n",
       " PosixPath('/Users/thomassimader/Documents/NIRB/Snapshots/01/Exports/Test_015_parameters.csv'),\n",
       " PosixPath('/Users/thomassimader/Documents/NIRB/Snapshots/01/Exports/Test_016_parameters.csv'),\n",
       " PosixPath('/Users/thomassimader/Documents/NIRB/Snapshots/01/Exports/Test_017_parameters.csv'),\n",
       " PosixPath('/Users/thomassimader/Documents/NIRB/Snapshots/01/Exports/Test_018_parameters.csv'),\n",
       " PosixPath('/Users/thomassimader/Documents/NIRB/Snapshots/01/Exports/Test_019_parameters.csv')]"
      ]
     },
     "execution_count": 101,
     "metadata": {},
     "output_type": "execute_result"
    }
   ],
   "source": [
    "param_folder = import_folder / \"Exports\"\n",
    "param_files = sorted([path for path in param_folder.rglob(f\"{DATA_TYPE}*.csv\")])\n",
    "param_files"
   ]
  },
  {
   "cell_type": "code",
   "execution_count": 102,
   "metadata": {},
   "outputs": [
    {
     "name": "stderr",
     "output_type": "stream",
     "text": [
      "WARNING:pint.util:Redefining 'degree_Celsius' (<class 'pint.delegates.txt_defparser.plain.UnitDefinition'>)\n"
     ]
    },
    {
     "data": {
      "text/plain": [
       "True"
      ]
     },
     "execution_count": 102,
     "metadata": {},
     "output_type": "execute_result"
    }
   ],
   "source": [
    "ureg = pint.UnitRegistry()\n",
    "# ureg.define('@alias degC = degree_Celsius')\n",
    "ureg.define('@alias degC = degree_Celsius')\n",
    "# ureg.define(\"degree_Celsius = degC = degC\")\n",
    "# ureg.define('degree_Celsius = kelvin - 273.15')\n",
    "\"degree_Celsius\" in ureg"
   ]
  },
  {
   "cell_type": "code",
   "execution_count": null,
   "metadata": {},
   "outputs": [
    {
     "data": {
      "text/plain": [
       "Index(['Unnamed: 0', 'quantity'], dtype='object')"
      ]
     },
     "execution_count": 103,
     "metadata": {},
     "output_type": "execute_result"
    }
   ],
   "source": [
    "df = pd.read_csv(param_files[0], index_col = 0)\n",
    "df.columns"
   ]
  },
  {
   "cell_type": "code",
   "execution_count": null,
   "metadata": {},
   "outputs": [
    {
     "data": {
      "application/vnd.microsoft.datawrangler.viewer.v0+json": {
       "columns": [
        {
         "name": "Unnamed: 0",
         "rawType": "object",
         "type": "string"
        },
        {
         "name": "quantity",
         "rawType": "object",
         "type": "string"
        },
        {
         "name": "quantity_pint",
         "rawType": "object",
         "type": "unknown"
        }
       ],
       "conversionMethod": "pd.DataFrame",
       "ref": "8bfcfb6e-d475-4290-80b1-bf6bf907b972",
       "rows": [
        [
         "aspect_ratio_dip",
         "1.0 dimensionless",
         "1.0 dimensionless"
        ],
        [
         "aspect_ratio_strike",
         "1.25 dimensionless",
         "1.25 dimensionless"
        ],
        [
         "beta",
         "0.00059 / kelvin",
         "0.00059 / kelvin"
        ],
        [
         "dip",
         "1.0471975511965976 radian",
         "1.0471975511965976 radian"
        ],
        [
         "faul_k_long",
         "9.483242595536296e-18 meter ** 2",
         "9.483242595536296e-18 meter ** 2"
        ],
        [
         "faul_k_trans",
         "1.2334510719803156e-16 meter ** 2",
         "1.2334510719803156e-16 meter ** 2"
        ],
        [
         "fault_Cp",
         "800.0 meter ** 2 / kelvin / second ** 2",
         "800.0 meter ** 2 / kelvin / second ** 2"
        ],
        [
         "fault_k_long",
         "1.5e-13 meter ** 2",
         "1.5e-13 meter ** 2"
        ],
        [
         "fault_k_trans",
         "1.5e-13 meter ** 2",
         "1.5e-13 meter ** 2"
        ],
        [
         "fault_lambda",
         "2.0 kilogram * meter / kelvin / second ** 3",
         "2.0 kilogram * meter / kelvin / second ** 3"
        ],
        [
         "fault_phi",
         "0.3 dimensionless",
         "0.3 dimensionless"
        ],
        [
         "fault_rho",
         "2500.0 kilogram / meter ** 3",
         "2500.0 kilogram / meter ** 3"
        ],
        [
         "fault_width",
         "50.0 meter",
         "50.0 meter"
        ],
        [
         "H",
         "4000.0 meter",
         "4000.0 meter"
        ],
        [
         "host_alpha",
         "0.7 dimensionless",
         "0.7 dimensionless"
        ],
        [
         "host_Cp",
         "800.0 meter ** 2 / kelvin / second ** 2",
         "800.0 meter ** 2 / kelvin / second ** 2"
        ],
        [
         "host_E",
         "30000000000.0 kilogram / meter / second ** 2",
         "30000000000.0 kilogram / meter / second ** 2"
        ],
        [
         "host_heat_gen_rate",
         "5e-07 kilogram / meter / second ** 3",
         "5e-07 kilogram / meter / second ** 3"
        ],
        [
         "host_k",
         "5.125298795489319e-16 meter ** 2",
         "5.125298795489319e-16 meter ** 2"
        ],
        [
         "host_lambda",
         "2.0 kilogram * meter / kelvin / second ** 3",
         "2.0 kilogram * meter / kelvin / second ** 3"
        ],
        [
         "host_phi",
         "0.001 dimensionless",
         "0.001 dimensionless"
        ],
        [
         "host_poisson",
         "0.25 dimensionless",
         "0.25 dimensionless"
        ],
        [
         "host_rho",
         "2500.0 kilogram / meter ** 3",
         "2500.0 kilogram / meter ** 3"
        ],
        [
         "lambda_ref",
         "4.1 kilogram * meter / kelvin / second ** 3",
         "4.1 kilogram * meter / kelvin / second ** 3"
        ],
        [
         "max_size_fault",
         "80.0 meter",
         "80.0 meter"
        ],
        [
         "max_t_step",
         "500000000000.0 second",
         "500000000000.0 second"
        ],
        [
         "mu0",
         "0.00117 kilogram / meter / second",
         "0.00117 kilogram / meter / second"
        ],
        [
         "rho0",
         "1022.38 kilogram / meter ** 3",
         "1022.38 kilogram / meter ** 3"
        ],
        [
         "SH_dir",
         "0.0 radian",
         "0.0 radian"
        ],
        [
         "Sh_grad",
         "15000.0 kilogram / meter ** 2 / second ** 2",
         "15000.0 kilogram / meter ** 2 / second ** 2"
        ],
        [
         "SH_grad",
         "20000.0 kilogram / meter ** 2 / second ** 2",
         "20000.0 kilogram / meter ** 2 / second ** 2"
        ],
        [
         "strike",
         "1.5707963267948966 radian",
         "1.5707963267948966 radian"
        ],
        [
         "Sv_grad",
         "host_rho*g_const",
         null
        ],
        [
         "T_c",
         "293.15 kelvin",
         "293.15 kelvin"
        ],
        [
         "t_end",
         "40000000000000.0 second",
         "40000000000000.0 second"
        ],
        [
         "T_h",
         "465.4861181976627 kelvin",
         "465.4861181976627 kelvin"
        ],
        [
         "T_v",
         "62.1 kelvin",
         "62.1 kelvin"
        ],
        [
         "Tgrad",
         "(T_h-T_c)/H",
         null
        ],
        [
         "theta0",
         "1.0 dimensionless",
         "1.0 dimensionless"
        ]
       ],
       "shape": {
        "columns": 2,
        "rows": 39
       }
      },
      "text/html": [
       "<div>\n",
       "<style scoped>\n",
       "    .dataframe tbody tr th:only-of-type {\n",
       "        vertical-align: middle;\n",
       "    }\n",
       "\n",
       "    .dataframe tbody tr th {\n",
       "        vertical-align: top;\n",
       "    }\n",
       "\n",
       "    .dataframe thead th {\n",
       "        text-align: right;\n",
       "    }\n",
       "</style>\n",
       "<table border=\"1\" class=\"dataframe\">\n",
       "  <thead>\n",
       "    <tr style=\"text-align: right;\">\n",
       "      <th></th>\n",
       "      <th>quantity</th>\n",
       "      <th>quantity_pint</th>\n",
       "    </tr>\n",
       "    <tr>\n",
       "      <th>Unnamed: 0</th>\n",
       "      <th></th>\n",
       "      <th></th>\n",
       "    </tr>\n",
       "  </thead>\n",
       "  <tbody>\n",
       "    <tr>\n",
       "      <th>aspect_ratio_dip</th>\n",
       "      <td>1.0 dimensionless</td>\n",
       "      <td>1.0 dimensionless</td>\n",
       "    </tr>\n",
       "    <tr>\n",
       "      <th>aspect_ratio_strike</th>\n",
       "      <td>1.25 dimensionless</td>\n",
       "      <td>1.25 dimensionless</td>\n",
       "    </tr>\n",
       "    <tr>\n",
       "      <th>beta</th>\n",
       "      <td>0.00059 / kelvin</td>\n",
       "      <td>0.00059 / kelvin</td>\n",
       "    </tr>\n",
       "    <tr>\n",
       "      <th>dip</th>\n",
       "      <td>1.0471975511965976 radian</td>\n",
       "      <td>1.0471975511965976 radian</td>\n",
       "    </tr>\n",
       "    <tr>\n",
       "      <th>faul_k_long</th>\n",
       "      <td>9.483242595536296e-18 meter ** 2</td>\n",
       "      <td>9.483242595536296e-18 meter ** 2</td>\n",
       "    </tr>\n",
       "    <tr>\n",
       "      <th>faul_k_trans</th>\n",
       "      <td>1.2334510719803156e-16 meter ** 2</td>\n",
       "      <td>1.2334510719803156e-16 meter ** 2</td>\n",
       "    </tr>\n",
       "    <tr>\n",
       "      <th>fault_Cp</th>\n",
       "      <td>800.0 meter ** 2 / kelvin / second ** 2</td>\n",
       "      <td>800.0 meter ** 2 / kelvin / second ** 2</td>\n",
       "    </tr>\n",
       "    <tr>\n",
       "      <th>fault_k_long</th>\n",
       "      <td>1.5e-13 meter ** 2</td>\n",
       "      <td>1.5e-13 meter ** 2</td>\n",
       "    </tr>\n",
       "    <tr>\n",
       "      <th>fault_k_trans</th>\n",
       "      <td>1.5e-13 meter ** 2</td>\n",
       "      <td>1.5e-13 meter ** 2</td>\n",
       "    </tr>\n",
       "    <tr>\n",
       "      <th>fault_lambda</th>\n",
       "      <td>2.0 kilogram * meter / kelvin / second ** 3</td>\n",
       "      <td>2.0 kilogram * meter / kelvin / second ** 3</td>\n",
       "    </tr>\n",
       "    <tr>\n",
       "      <th>fault_phi</th>\n",
       "      <td>0.3 dimensionless</td>\n",
       "      <td>0.3 dimensionless</td>\n",
       "    </tr>\n",
       "    <tr>\n",
       "      <th>fault_rho</th>\n",
       "      <td>2500.0 kilogram / meter ** 3</td>\n",
       "      <td>2500.0 kilogram / meter ** 3</td>\n",
       "    </tr>\n",
       "    <tr>\n",
       "      <th>fault_width</th>\n",
       "      <td>50.0 meter</td>\n",
       "      <td>50.0 meter</td>\n",
       "    </tr>\n",
       "    <tr>\n",
       "      <th>H</th>\n",
       "      <td>4000.0 meter</td>\n",
       "      <td>4000.0 meter</td>\n",
       "    </tr>\n",
       "    <tr>\n",
       "      <th>host_alpha</th>\n",
       "      <td>0.7 dimensionless</td>\n",
       "      <td>0.7 dimensionless</td>\n",
       "    </tr>\n",
       "    <tr>\n",
       "      <th>host_Cp</th>\n",
       "      <td>800.0 meter ** 2 / kelvin / second ** 2</td>\n",
       "      <td>800.0 meter ** 2 / kelvin / second ** 2</td>\n",
       "    </tr>\n",
       "    <tr>\n",
       "      <th>host_E</th>\n",
       "      <td>30000000000.0 kilogram / meter / second ** 2</td>\n",
       "      <td>30000000000.0 kilogram / meter / second ** 2</td>\n",
       "    </tr>\n",
       "    <tr>\n",
       "      <th>host_heat_gen_rate</th>\n",
       "      <td>5e-07 kilogram / meter / second ** 3</td>\n",
       "      <td>5e-07 kilogram / meter / second ** 3</td>\n",
       "    </tr>\n",
       "    <tr>\n",
       "      <th>host_k</th>\n",
       "      <td>5.125298795489319e-16 meter ** 2</td>\n",
       "      <td>5.125298795489319e-16 meter ** 2</td>\n",
       "    </tr>\n",
       "    <tr>\n",
       "      <th>host_lambda</th>\n",
       "      <td>2.0 kilogram * meter / kelvin / second ** 3</td>\n",
       "      <td>2.0 kilogram * meter / kelvin / second ** 3</td>\n",
       "    </tr>\n",
       "    <tr>\n",
       "      <th>host_phi</th>\n",
       "      <td>0.001 dimensionless</td>\n",
       "      <td>0.001 dimensionless</td>\n",
       "    </tr>\n",
       "    <tr>\n",
       "      <th>host_poisson</th>\n",
       "      <td>0.25 dimensionless</td>\n",
       "      <td>0.25 dimensionless</td>\n",
       "    </tr>\n",
       "    <tr>\n",
       "      <th>host_rho</th>\n",
       "      <td>2500.0 kilogram / meter ** 3</td>\n",
       "      <td>2500.0 kilogram / meter ** 3</td>\n",
       "    </tr>\n",
       "    <tr>\n",
       "      <th>lambda_ref</th>\n",
       "      <td>4.1 kilogram * meter / kelvin / second ** 3</td>\n",
       "      <td>4.1 kilogram * meter / kelvin / second ** 3</td>\n",
       "    </tr>\n",
       "    <tr>\n",
       "      <th>max_size_fault</th>\n",
       "      <td>80.0 meter</td>\n",
       "      <td>80.0 meter</td>\n",
       "    </tr>\n",
       "    <tr>\n",
       "      <th>max_t_step</th>\n",
       "      <td>500000000000.0 second</td>\n",
       "      <td>500000000000.0 second</td>\n",
       "    </tr>\n",
       "    <tr>\n",
       "      <th>mu0</th>\n",
       "      <td>0.00117 kilogram / meter / second</td>\n",
       "      <td>0.00117 kilogram / meter / second</td>\n",
       "    </tr>\n",
       "    <tr>\n",
       "      <th>rho0</th>\n",
       "      <td>1022.38 kilogram / meter ** 3</td>\n",
       "      <td>1022.38 kilogram / meter ** 3</td>\n",
       "    </tr>\n",
       "    <tr>\n",
       "      <th>SH_dir</th>\n",
       "      <td>0.0 radian</td>\n",
       "      <td>0.0 radian</td>\n",
       "    </tr>\n",
       "    <tr>\n",
       "      <th>Sh_grad</th>\n",
       "      <td>15000.0 kilogram / meter ** 2 / second ** 2</td>\n",
       "      <td>15000.0 kilogram / meter ** 2 / second ** 2</td>\n",
       "    </tr>\n",
       "    <tr>\n",
       "      <th>SH_grad</th>\n",
       "      <td>20000.0 kilogram / meter ** 2 / second ** 2</td>\n",
       "      <td>20000.0 kilogram / meter ** 2 / second ** 2</td>\n",
       "    </tr>\n",
       "    <tr>\n",
       "      <th>strike</th>\n",
       "      <td>1.5707963267948966 radian</td>\n",
       "      <td>1.5707963267948966 radian</td>\n",
       "    </tr>\n",
       "    <tr>\n",
       "      <th>Sv_grad</th>\n",
       "      <td>host_rho*g_const</td>\n",
       "      <td>NaN</td>\n",
       "    </tr>\n",
       "    <tr>\n",
       "      <th>T_c</th>\n",
       "      <td>293.15 kelvin</td>\n",
       "      <td>293.15 kelvin</td>\n",
       "    </tr>\n",
       "    <tr>\n",
       "      <th>t_end</th>\n",
       "      <td>40000000000000.0 second</td>\n",
       "      <td>40000000000000.0 second</td>\n",
       "    </tr>\n",
       "    <tr>\n",
       "      <th>T_h</th>\n",
       "      <td>465.4861181976627 kelvin</td>\n",
       "      <td>465.4861181976627 kelvin</td>\n",
       "    </tr>\n",
       "    <tr>\n",
       "      <th>T_v</th>\n",
       "      <td>62.1 kelvin</td>\n",
       "      <td>62.1 kelvin</td>\n",
       "    </tr>\n",
       "    <tr>\n",
       "      <th>Tgrad</th>\n",
       "      <td>(T_h-T_c)/H</td>\n",
       "      <td>NaN</td>\n",
       "    </tr>\n",
       "    <tr>\n",
       "      <th>theta0</th>\n",
       "      <td>1.0 dimensionless</td>\n",
       "      <td>1.0 dimensionless</td>\n",
       "    </tr>\n",
       "  </tbody>\n",
       "</table>\n",
       "</div>"
      ],
      "text/plain": [
       "                                                         quantity  \\\n",
       "Unnamed: 0                                                          \n",
       "aspect_ratio_dip                                1.0 dimensionless   \n",
       "aspect_ratio_strike                            1.25 dimensionless   \n",
       "beta                                             0.00059 / kelvin   \n",
       "dip                                     1.0471975511965976 radian   \n",
       "faul_k_long                      9.483242595536296e-18 meter ** 2   \n",
       "faul_k_trans                    1.2334510719803156e-16 meter ** 2   \n",
       "fault_Cp                  800.0 meter ** 2 / kelvin / second ** 2   \n",
       "fault_k_long                                   1.5e-13 meter ** 2   \n",
       "fault_k_trans                                  1.5e-13 meter ** 2   \n",
       "fault_lambda          2.0 kilogram * meter / kelvin / second ** 3   \n",
       "fault_phi                                       0.3 dimensionless   \n",
       "fault_rho                            2500.0 kilogram / meter ** 3   \n",
       "fault_width                                            50.0 meter   \n",
       "H                                                    4000.0 meter   \n",
       "host_alpha                                      0.7 dimensionless   \n",
       "host_Cp                   800.0 meter ** 2 / kelvin / second ** 2   \n",
       "host_E               30000000000.0 kilogram / meter / second ** 2   \n",
       "host_heat_gen_rate           5e-07 kilogram / meter / second ** 3   \n",
       "host_k                           5.125298795489319e-16 meter ** 2   \n",
       "host_lambda           2.0 kilogram * meter / kelvin / second ** 3   \n",
       "host_phi                                      0.001 dimensionless   \n",
       "host_poisson                                   0.25 dimensionless   \n",
       "host_rho                             2500.0 kilogram / meter ** 3   \n",
       "lambda_ref            4.1 kilogram * meter / kelvin / second ** 3   \n",
       "max_size_fault                                         80.0 meter   \n",
       "max_t_step                                  500000000000.0 second   \n",
       "mu0                             0.00117 kilogram / meter / second   \n",
       "rho0                                1022.38 kilogram / meter ** 3   \n",
       "SH_dir                                                 0.0 radian   \n",
       "Sh_grad               15000.0 kilogram / meter ** 2 / second ** 2   \n",
       "SH_grad               20000.0 kilogram / meter ** 2 / second ** 2   \n",
       "strike                                  1.5707963267948966 radian   \n",
       "Sv_grad                                          host_rho*g_const   \n",
       "T_c                                                 293.15 kelvin   \n",
       "t_end                                     40000000000000.0 second   \n",
       "T_h                                      465.4861181976627 kelvin   \n",
       "T_v                                                   62.1 kelvin   \n",
       "Tgrad                                                 (T_h-T_c)/H   \n",
       "theta0                                          1.0 dimensionless   \n",
       "\n",
       "                                                    quantity_pint  \n",
       "Unnamed: 0                                                         \n",
       "aspect_ratio_dip                                1.0 dimensionless  \n",
       "aspect_ratio_strike                            1.25 dimensionless  \n",
       "beta                                             0.00059 / kelvin  \n",
       "dip                                     1.0471975511965976 radian  \n",
       "faul_k_long                      9.483242595536296e-18 meter ** 2  \n",
       "faul_k_trans                    1.2334510719803156e-16 meter ** 2  \n",
       "fault_Cp                  800.0 meter ** 2 / kelvin / second ** 2  \n",
       "fault_k_long                                   1.5e-13 meter ** 2  \n",
       "fault_k_trans                                  1.5e-13 meter ** 2  \n",
       "fault_lambda          2.0 kilogram * meter / kelvin / second ** 3  \n",
       "fault_phi                                       0.3 dimensionless  \n",
       "fault_rho                            2500.0 kilogram / meter ** 3  \n",
       "fault_width                                            50.0 meter  \n",
       "H                                                    4000.0 meter  \n",
       "host_alpha                                      0.7 dimensionless  \n",
       "host_Cp                   800.0 meter ** 2 / kelvin / second ** 2  \n",
       "host_E               30000000000.0 kilogram / meter / second ** 2  \n",
       "host_heat_gen_rate           5e-07 kilogram / meter / second ** 3  \n",
       "host_k                           5.125298795489319e-16 meter ** 2  \n",
       "host_lambda           2.0 kilogram * meter / kelvin / second ** 3  \n",
       "host_phi                                      0.001 dimensionless  \n",
       "host_poisson                                   0.25 dimensionless  \n",
       "host_rho                             2500.0 kilogram / meter ** 3  \n",
       "lambda_ref            4.1 kilogram * meter / kelvin / second ** 3  \n",
       "max_size_fault                                         80.0 meter  \n",
       "max_t_step                                  500000000000.0 second  \n",
       "mu0                             0.00117 kilogram / meter / second  \n",
       "rho0                                1022.38 kilogram / meter ** 3  \n",
       "SH_dir                                                 0.0 radian  \n",
       "Sh_grad               15000.0 kilogram / meter ** 2 / second ** 2  \n",
       "SH_grad               20000.0 kilogram / meter ** 2 / second ** 2  \n",
       "strike                                  1.5707963267948966 radian  \n",
       "Sv_grad                                                       NaN  \n",
       "T_c                                                 293.15 kelvin  \n",
       "t_end                                     40000000000000.0 second  \n",
       "T_h                                      465.4861181976627 kelvin  \n",
       "T_v                                                   62.1 kelvin  \n",
       "Tgrad                                                         NaN  \n",
       "theta0                                          1.0 dimensionless  "
      ]
     },
     "execution_count": 104,
     "metadata": {},
     "output_type": "execute_result"
    }
   ],
   "source": [
    "df['quantity_pint'] = df[df.columns[-1]].apply(lambda x : safe_parse_quantity(x, ureg))\n",
    "df"
   ]
  },
  {
   "cell_type": "code",
   "execution_count": 105,
   "metadata": {},
   "outputs": [
    {
     "name": "stdout",
     "output_type": "stream",
     "text": [
      "lambda_therm=2.0022\n",
      "T0=<Quantity(379.318059, 'kelvin')>\n",
      "delta_T=<Quantity(172.336118, 'kelvin')>\n",
      "L=<Quantity(4000.0, 'meter')>\n"
     ]
    }
   ],
   "source": [
    "lambda_therm = (1 - df.loc['host_phi', \"quantity_pint\"]).magnitude * df.loc['host_lambda', \"quantity_pint\"].magnitude + \\\n",
    "                df.loc['host_phi', \"quantity_pint\"].magnitude * (4.2)\n",
    "T0 = 0.5 * (df.loc[\"T_h\", \"quantity_pint\"] + (20 + 273.15) * ureg.kelvin)\n",
    "delta_T = (df.loc['T_h', \"quantity_pint\"] - (20 + 273.15) * ureg.kelvin)\n",
    "L = df.loc[\"H\", \"quantity_pint\"]\n",
    "print(f\"{lambda_therm=}\")\n",
    "print(f\"{T0=}\")\n",
    "print(f\"{delta_T=}\")\n",
    "print(f\"{L=}\")"
   ]
  },
  {
   "cell_type": "code",
   "execution_count": 106,
   "metadata": {},
   "outputs": [],
   "source": [
    "entropy_gen_unit = np.zeros((temperatures.shape[0], temperatures.shape[1]))\n",
    "entropy_gen_number = np.zeros_like(entropy_gen_unit)\n",
    "comsol_data.mesh.clear_point_data()\n",
    "\n",
    "for idx_snap in range(temperatures.shape[0]):\n",
    "    for idx_time in range(temperatures.shape[1]):\n",
    "        comsol_data.mesh.point_data[\"temp_field\"] = temperatures[idx_snap, idx_time, :]\n",
    "        cell_mesh = comsol_data.mesh.point_data_to_cell_data()\n",
    "        cell_mesh.cell_data.keys()\n",
    "        temp_grad = cell_mesh.compute_derivative(\"temp_field\").cell_data[\"gradient\"]\n",
    "        s0 = calculate_S_therm(lambda_therm,\n",
    "                        T0.magnitude,\n",
    "                        temp_grad)\n",
    "\n",
    "        s0_total = np.sum(s0 * comsol_data.mesh.compute_cell_sizes()[\"Volume\"])\n",
    "\n",
    "        s0_characteristic = (lambda_therm * delta_T.magnitude**2) / (L.magnitude**2 * T0.magnitude**2)\n",
    "        entropy_number = s0_total / s0_characteristic / comsol_data.mesh.volume \n",
    "        #\n",
    "        entropy_gen_unit[idx_snap, idx_time] = s0_total\n",
    "        entropy_gen_number[idx_snap, idx_time] = entropy_number\n",
    "        \n",
    "         \n",
    "\n"
   ]
  },
  {
   "cell_type": "code",
   "execution_count": 107,
   "metadata": {},
   "outputs": [
    {
     "data": {
      "application/vnd.plotly.v1+json": {
       "config": {
        "plotlyServerURL": "https://plot.ly"
       },
       "data": [
        {
         "line": {
          "color": "rgb(0, 0, 131)"
         },
         "mode": "lines",
         "name": "000",
         "opacity": 0.4,
         "type": "scatter",
         "x": [
          0,
          1000000000000,
          2000000000000,
          3000000000000,
          4000000000000,
          5000000000000,
          6000000000000,
          7000000000000,
          8000000000000,
          9000000000000,
          10000000000000,
          11000000000000,
          12000000000000,
          13000000000000,
          14000000000000,
          15000000000000,
          16000000000000,
          17000000000000,
          18000000000000,
          19000000000000,
          20000000000000,
          21000000000000,
          22000000000000,
          23000000000000,
          24000000000000,
          25000000000000,
          26000000000000,
          27000000000000,
          28000000000000,
          29000000000000,
          30000000000000,
          31000000000000,
          32000000000000,
          33000000000000,
          34000000000000,
          35000000000000,
          36000000000000,
          37000000000000,
          38000000000000,
          39000000000000,
          40000000000000
         ],
         "y": {
          "bdata": "vqTaZR9fnkBfMh4DBkihQHYSyuUsN6FAafxUHqA1oUDsfWkNcTWhQOH4wgNfNaFAo8E3Zlc1oUBFaHjTWDWhQBERIVxYNaFAanrCRFc1oUDFtFvzVjWhQHQuePNWNaFAfKg+FFc1oUDdSBxbVzWhQGhGNpVXNaFAKH8/ylc1oUCPPzUAWDWhQMamrC1YNaFAddf2OFg1oUBmekZEWDWhQJSPm09YNaFAqXGEVVg1oUA5SX1HWDWhQATHgTlYNaFAA+uRK1g1oUDoBfMdWDWhQBwjWhFYNaFAX2LGBFg1oUC0wzf4VzWhQPQZpu1XNaFArjlP6lc1oUA4xPjmVzWhQJi5ouNXNaFAsGYA4Vc1oUCRIvDgVzWhQHPx3+BXNaFAVNPP4Fc1oUCpcifhVzWhQJqB++JXNaFAsanP5Fc1oUDw6qPmVzWhQA==",
          "dtype": "f8"
         }
        },
        {
         "line": {
          "color": "rgb(0, 15, 141)"
         },
         "mode": "lines",
         "name": "001",
         "opacity": 0.4,
         "type": "scatter",
         "x": [
          0,
          1000000000000,
          2000000000000,
          3000000000000,
          4000000000000,
          5000000000000,
          6000000000000,
          7000000000000,
          8000000000000,
          9000000000000,
          10000000000000,
          11000000000000,
          12000000000000,
          13000000000000,
          14000000000000,
          15000000000000,
          16000000000000,
          17000000000000,
          18000000000000,
          19000000000000,
          20000000000000,
          21000000000000,
          22000000000000,
          23000000000000,
          24000000000000,
          25000000000000,
          26000000000000,
          27000000000000,
          28000000000000,
          29000000000000,
          30000000000000,
          31000000000000,
          32000000000000,
          33000000000000,
          34000000000000,
          35000000000000,
          36000000000000,
          37000000000000,
          38000000000000,
          39000000000000,
          40000000000000
         ],
         "y": {
          "bdata": "xYGTlQQxn0CVGU8Zdd6hQPBDfSXv3aFAidb8hvHboUC2lV1+AdyhQJBLZYP626FAV1HfIfzboUDxz6lD/duhQIdtROf926FAIEeqFf7boUC0QUyz/duhQKZ0I17926FAzfOxCv3boUCg0di9/NuhQIi09Zv826FA1kRCevzboUCKgr5Y/NuhQDo4oTv826FAPVj9P/zboUCgIltE/NuhQF2Xukj826FA4Y4WTvzboUD4xjlb/NuhQBt8Ymj826FATq6QdfzboUChgQiC/NuhQDcXs4j826FAegFfj/zboUBrQAyW/NuhQPKsQ5z826FAI7vLnvzboUBe9FOh/NuhQKJY3KP826FAbgL9pfzboUDtleak/NuhQOYw0KP826FAVtO5ovzboUAcFH6h/NuhQO4FGp/826FATR+2nPzboUAyYFKa/NuhQA==",
          "dtype": "f8"
         }
        },
        {
         "line": {
          "color": "rgb(0, 30, 150)"
         },
         "mode": "lines",
         "name": "002",
         "opacity": 0.4,
         "type": "scatter",
         "x": [
          0,
          1000000000000,
          2000000000000,
          3000000000000,
          4000000000000,
          5000000000000,
          6000000000000,
          7000000000000,
          8000000000000,
          9000000000000,
          10000000000000,
          11000000000000,
          12000000000000,
          13000000000000,
          14000000000000,
          15000000000000,
          16000000000000,
          17000000000000,
          18000000000000,
          19000000000000,
          20000000000000,
          21000000000000,
          22000000000000,
          23000000000000,
          24000000000000,
          25000000000000,
          26000000000000,
          27000000000000,
          28000000000000,
          29000000000000,
          30000000000000,
          31000000000000,
          32000000000000,
          33000000000000,
          34000000000000,
          35000000000000,
          36000000000000,
          37000000000000,
          38000000000000,
          39000000000000,
          40000000000000
         ],
         "y": {
          "bdata": "ORWmLBDhikBLyeiAcuGKQCFI1fKK4YpAvk/c/ZThikDXYDxFmuGKQALXUaSd4YpAsPJdoJ7hikB3XHCcn+GKQFsUiZig4YpABHaQOaHhikCUXLtooeGKQPl85peh4YpAKtcRx6HhikBUiDPloeGKQDHHCO6h4YpAJgje9qHhikAwS7P/oeGKQBDOVwWi4YpAL1f/BqLhikBe4KYIouGKQKlpTgqi4YpAyvJcC6LhikBEOqwLouGKQMGB+wui4YpAPslKDKLhikDtbH0MouGKQJNDjAyi4YpANhqbDKLhikDc8KkMouGKQB9rswyi4YpA4zG2DKLhikCi+LgMouGKQGS/uwyi4YpAWIW9DKLhikBHCr4MouGKQDWPvgyi4YpAJhS/DKLhikAJab8MouGKQOSBvwyi4YpAvpq/DKLhikCas78MouGKQA==",
          "dtype": "f8"
         }
        },
        {
         "line": {
          "color": "rgb(0, 45, 160)"
         },
         "mode": "lines",
         "name": "003",
         "opacity": 0.4,
         "type": "scatter",
         "x": [
          0,
          1000000000000,
          2000000000000,
          3000000000000,
          4000000000000,
          5000000000000,
          6000000000000,
          7000000000000,
          8000000000000,
          9000000000000,
          10000000000000,
          11000000000000,
          12000000000000,
          13000000000000,
          14000000000000,
          15000000000000,
          16000000000000,
          17000000000000,
          18000000000000,
          19000000000000,
          20000000000000,
          21000000000000,
          22000000000000,
          23000000000000,
          24000000000000,
          25000000000000,
          26000000000000,
          27000000000000,
          28000000000000,
          29000000000000,
          30000000000000,
          31000000000000,
          32000000000000,
          33000000000000,
          34000000000000,
          35000000000000,
          36000000000000,
          37000000000000,
          38000000000000,
          39000000000000,
          40000000000000
         ],
         "y": {
          "bdata": "v1Uhxp36j0Aml+aMIPuPQLcmrwRc+49AqG21qNz8j0Cgn3B8mgaQQCuUo8AkPJBAjRsKU1uikEBuMnezIc6QQCuVs42R1ZBAa3at0LbWkECKuCjT0NaQQL+ZH7PV1pBAHriOlNPWkEBpSkJt0daQQETueK7Q1pBApq7eZtDWkECHGI9E0NaQQFylWUPQ1pBAQTckQtDWkEAuzu5A0NaQQJZ7sj/Q1pBAKQNwPtDWkEAYiy090NaQQGoT6zvQ1pBA6s58O9DWkEAY6co70NaQQE8DGTzQ1pBAkx1nPNDWkEDo/Lw80NaQQOrBGT3Q1pBA7oZ2PdDWkED1S9M90NaQQKbVRj7Q1pBAepXOPtDWkEBOVVY/0NaQQCcV3j/Q1pBAOvB2QNDWkEDF+h5B0NaQQFEFx0HQ1pBA3g9vQtDWkEAtuStD0NaQQA==",
          "dtype": "f8"
         }
        },
        {
         "line": {
          "color": "rgb(0, 60, 170)"
         },
         "mode": "lines",
         "name": "004",
         "opacity": 0.4,
         "type": "scatter",
         "x": [
          0,
          1000000000000,
          2000000000000,
          3000000000000,
          4000000000000,
          5000000000000,
          6000000000000,
          7000000000000,
          8000000000000,
          9000000000000,
          10000000000000,
          11000000000000,
          12000000000000,
          13000000000000,
          14000000000000,
          15000000000000,
          16000000000000,
          17000000000000,
          18000000000000,
          19000000000000,
          20000000000000,
          21000000000000,
          22000000000000,
          23000000000000,
          24000000000000,
          25000000000000,
          26000000000000,
          27000000000000,
          28000000000000,
          29000000000000,
          30000000000000,
          31000000000000,
          32000000000000,
          33000000000000,
          34000000000000,
          35000000000000,
          36000000000000,
          37000000000000,
          38000000000000,
          39000000000000,
          40000000000000
         ],
         "y": {
          "bdata": "IktMnew6iUAZHCLBQTuJQOin2PpXO4lA15fybGI7iUCo9qNaZjuJQJCXwEhqO4lA45V9bWs7iUBG64wxbDuJQJxdoPVsO4lA4uy3uW07iUCvgNDqbTuJQFbh/QduO4lA31krJW47iUBW6lhCbjuJQKyMpUZuO4lAwDCTR247iUDg1IBIbjuJQP94bkluO4lARkA5TG47iUCtrkRPbjuJQFcdUFJuO4lAQYxbVW47iUCii85VbjuJQCKD51VuO4lApHoAVm47iUAkchlWbjuJQJYLY1ZuO4lAADyzVm47iUBtbANXbjuJQNecU1duO4lA/RtgV247iUAIb2NXbjuJQBHCZlduO4lAHBVqV247iUBRXHFXbjuJQKsseVduO4lACv2AV247iUBizYhXbjuJQI1XilduO4lAEgiLV247iUCauItXbjuJQA==",
          "dtype": "f8"
         }
        },
        {
         "line": {
          "color": "rgb(1, 109, 191)"
         },
         "mode": "lines",
         "name": "005",
         "opacity": 0.4,
         "type": "scatter",
         "x": [
          0,
          1000000000000,
          2000000000000,
          3000000000000,
          4000000000000,
          5000000000000,
          6000000000000,
          7000000000000,
          8000000000000,
          9000000000000,
          10000000000000,
          11000000000000,
          12000000000000,
          13000000000000,
          14000000000000,
          15000000000000,
          16000000000000,
          17000000000000,
          18000000000000,
          19000000000000,
          20000000000000,
          21000000000000,
          22000000000000,
          23000000000000,
          24000000000000,
          25000000000000,
          26000000000000,
          27000000000000,
          28000000000000,
          29000000000000,
          30000000000000,
          31000000000000,
          32000000000000,
          33000000000000,
          34000000000000,
          35000000000000,
          36000000000000,
          37000000000000,
          38000000000000,
          39000000000000,
          40000000000000
         ],
         "y": {
          "bdata": "nWwZgOgalkCxLa+1vmyXQJZbCfVpuJhAmrZB/nOfmEBkuBJRWpmYQE6ZRxC4jZhARf7U4gJrmEAAryRjozqaQJrZyi3VM5pAyAdgY0wymkCk02xMIjKaQE0z0hAiMppAdGReNCIymkAJuAPYITKaQI4baLwhMppA6jAluCEymkAMIuSzITKaQLj/iLQhMppA6Gr6tSEymkDw72u3ITKaQM2O3bghMppA2Ym8uSEymkD2lYO6ITKaQO6jSrshMppAvbMRvCEymkAggGO8ITKaQIMporwhMppACdPgvCEymkC0fB+9ITKaQLa3Nb0hMppAj1lFvSEymkBr+1S9ITKaQEydZL0hMppA0tlpvSEymkAKZG29ITKaQEDucL0hMppAe3h0vSEymkBYoHW9ITKaQJhkdr0hMppA1yh3vSEymkAY7Xe9ITKaQA==",
          "dtype": "f8"
         }
        },
        {
         "line": {
          "color": "rgb(2, 157, 212)"
         },
         "mode": "lines",
         "name": "006",
         "opacity": 0.4,
         "type": "scatter",
         "x": [
          0,
          1000000000000,
          2000000000000,
          3000000000000,
          4000000000000,
          5000000000000,
          6000000000000,
          7000000000000,
          8000000000000,
          9000000000000,
          10000000000000,
          11000000000000,
          12000000000000,
          13000000000000,
          14000000000000,
          15000000000000,
          16000000000000,
          17000000000000,
          18000000000000,
          19000000000000,
          20000000000000,
          21000000000000,
          22000000000000,
          23000000000000,
          24000000000000,
          25000000000000,
          26000000000000,
          27000000000000,
          28000000000000,
          29000000000000,
          30000000000000,
          31000000000000,
          32000000000000,
          33000000000000,
          34000000000000,
          35000000000000,
          36000000000000,
          37000000000000,
          38000000000000,
          39000000000000,
          40000000000000
         ],
         "y": {
          "bdata": "P3aSfC0aiUDkCLRQgRqJQG08v46XGolAGo3M8qEaiUAi/nIEphqJQCBijRaqGolAQoFWJKsaiUDi5zDvqxqJQI7AD7qsGolARgvzhK0aiUDe6tawrRqJQGhg886tGolAwO8P7a0aiUDrmCwLrhqJQLQwcw6uGolAhW1mD64aiUBeqlkQrhqJQDznTBGuGolAsEZEFK4aiUCzYGgXrhqJQPx6jBquGolAjpWwHa4aiUCDfggerhqJQPpWIh6uGolAcC88Hq4aiUDjB1YerhqJQEMMpB6uGolACJb2Hq4aiUDLH0kfrhqJQJKpmx+uGolA64alH64aiUAFGKkfrhqJQByprB+uGolANzqwH64aiUCe1rcfrhqJQLrMvx+uGolA1sLHH64aiUDyuM8frhqJQEgS0R+uGolA8NjRH64aiUCVn9IfrhqJQA==",
          "dtype": "f8"
         }
        },
        {
         "line": {
          "color": "rgb(4, 206, 234)"
         },
         "mode": "lines",
         "name": "007",
         "opacity": 0.4,
         "type": "scatter",
         "x": [
          0,
          1000000000000,
          2000000000000,
          3000000000000,
          4000000000000,
          5000000000000,
          6000000000000,
          7000000000000,
          8000000000000,
          9000000000000,
          10000000000000,
          11000000000000,
          12000000000000,
          13000000000000,
          14000000000000,
          15000000000000,
          16000000000000,
          17000000000000,
          18000000000000,
          19000000000000,
          20000000000000,
          21000000000000,
          22000000000000,
          23000000000000,
          24000000000000,
          25000000000000,
          26000000000000,
          27000000000000,
          28000000000000,
          29000000000000,
          30000000000000,
          31000000000000,
          32000000000000,
          33000000000000,
          34000000000000,
          35000000000000,
          36000000000000,
          37000000000000,
          38000000000000,
          39000000000000,
          40000000000000
         ],
         "y": {
          "bdata": "+pAhzpDenEAL3CauKsGfQGusilI3p59AkrgaFeOjn0CQx/xcKaOfQGWBZ+X1op9AEF08sOWin0At7taz4qKfQMfham3iop9AXKuv5uGin0Car53R4aKfQKwYRsrhop9A8BaOyOGin0A059rG4aKfQEqWfsjhop9AF8DH2eGin0DYiSfr4aKfQJLznfzhop9A9ImxDOKin0CeqeMV4qKfQLZ3Fx/iop9APPRMKOKin0CvTNIv4qKfQCgNZC/iop9AT/v1LuKin0AtF4gu4qKfQPoz7C3iop9AsrB3LOKin0CxQgMr4qKfQPvpjiniop9Ay9YmKOKin0DBBfgm4qKfQFM5ySXiop9AhXGaJOKin0BtlpQj4qKfQNDCTiPiop9A7fAII+Kin0C6IMMi4qKfQLvAkiLiop9AvvvGIuKin0BhN/si4qKfQA==",
          "dtype": "f8"
         }
        },
        {
         "line": {
          "color": "rgb(5, 255, 255)"
         },
         "mode": "lines",
         "name": "008",
         "opacity": 0.4,
         "type": "scatter",
         "x": [
          0,
          1000000000000,
          2000000000000,
          3000000000000,
          4000000000000,
          5000000000000,
          6000000000000,
          7000000000000,
          8000000000000,
          9000000000000,
          10000000000000,
          11000000000000,
          12000000000000,
          13000000000000,
          14000000000000,
          15000000000000,
          16000000000000,
          17000000000000,
          18000000000000,
          19000000000000,
          20000000000000,
          21000000000000,
          22000000000000,
          23000000000000,
          24000000000000,
          25000000000000,
          26000000000000,
          27000000000000,
          28000000000000,
          29000000000000,
          30000000000000,
          31000000000000,
          32000000000000,
          33000000000000,
          34000000000000,
          35000000000000,
          36000000000000,
          37000000000000,
          38000000000000,
          39000000000000,
          40000000000000
         ],
         "y": {
          "bdata": "bXCDAwbAnECJhdZb0JmfQMPgbXVZfp9Auj/uBJR6n0DaDhWqv3mfQIW/xpiAeZ9AGJIktWt5n0AvECdraXmfQHgy4KxneZ9AwylVOGd5n0DbDQ7mZnmfQGR2KsdmeZ9AuiWhqGZ5n0Be1caKZnmfQOzi7o9meZ9AgmgilWZ5n0AeZmGaZnmfQGJZtZ9meZ9AV8P2qGZ5n0D0JDuyZnmfQEF+grtmeZ9A+qe5xGZ5n0B2rhPGZnmfQPfHbcdmeZ9AhPTHyGZ5n0AKcR3KZnmfQLQVfslmeZ9AScXeyGZ5n0DHfz/IZnmfQK9fn8dmeZ9ATf2gxmZ5n0CLnqLFZnmfQGZDpMRmeZ9AGLamw2Z5n0DqQfzCZnmfQEfPUcJmeZ9AMl6nwWZ5n0CyX/7AZnmfQEkE7cBmeZ9ATqnbwGZ5n0C8TsrAZnmfQA==",
          "dtype": "f8"
         }
        },
        {
         "line": {
          "color": "rgb(67, 255, 191)"
         },
         "mode": "lines",
         "name": "009",
         "opacity": 0.4,
         "type": "scatter",
         "x": [
          0,
          1000000000000,
          2000000000000,
          3000000000000,
          4000000000000,
          5000000000000,
          6000000000000,
          7000000000000,
          8000000000000,
          9000000000000,
          10000000000000,
          11000000000000,
          12000000000000,
          13000000000000,
          14000000000000,
          15000000000000,
          16000000000000,
          17000000000000,
          18000000000000,
          19000000000000,
          20000000000000,
          21000000000000,
          22000000000000,
          23000000000000,
          24000000000000,
          25000000000000,
          26000000000000,
          27000000000000,
          28000000000000,
          29000000000000,
          30000000000000,
          31000000000000,
          32000000000000,
          33000000000000,
          34000000000000,
          35000000000000,
          36000000000000,
          37000000000000,
          38000000000000,
          39000000000000,
          40000000000000
         ],
         "y": {
          "bdata": "SQ9eh7Bfl0DPxsFbrAKZQA1RL+eCDJlAwmJUcg8HmUApe/AlLQWZQPvfOiOgBJlAh1AR4ZMEmUA+JAMDigSZQCo0WCF+BJlAeUaNqH0EmUB+I15mgQSZQHdz/fx+BJlA8mJ3AnwEmUBmotPpegSZQAYM6gJ7BJlAvvJfensEmUDytD+bewSZQJCW8HV7BJlAaL8J+XoEmUD4gPoSewSZQK+H3kN7BJlASMu3d3sEmUAYQGGIewSZQK2haoV7BJlA5UB/gnsEmUBH52VtewSZQCaAfkF7BJlAQP+fFXsEmUCGZMrpegSZQFZw4dB6BJlAu+qoz3oEmUBON3HOegSZQA9WOs16BJlAmtajzHoEmUDtl9XMegSZQIhhB816BJlAXDM5zXoEmUDuklLNegSZQI1KTc16BJlAbghIzXoEmUCXzELNegSZQA==",
          "dtype": "f8"
         }
        },
        {
         "line": {
          "color": "rgb(130, 255, 128)"
         },
         "mode": "lines",
         "name": "010",
         "opacity": 0.4,
         "type": "scatter",
         "x": [
          0,
          1000000000000,
          2000000000000,
          3000000000000,
          4000000000000,
          5000000000000,
          6000000000000,
          7000000000000,
          8000000000000,
          9000000000000,
          10000000000000,
          11000000000000,
          12000000000000,
          13000000000000,
          14000000000000,
          15000000000000,
          16000000000000,
          17000000000000,
          18000000000000,
          19000000000000,
          20000000000000,
          21000000000000,
          22000000000000,
          23000000000000,
          24000000000000,
          25000000000000,
          26000000000000,
          27000000000000,
          28000000000000,
          29000000000000,
          30000000000000,
          31000000000000,
          32000000000000,
          33000000000000,
          34000000000000,
          35000000000000,
          36000000000000,
          37000000000000,
          38000000000000,
          39000000000000,
          40000000000000
         ],
         "y": {
          "bdata": "wPZ5ryw6kUCFWDp0fzqRQN3E57h4QJFARTdKe3AbkkDI3F08o+qSQPZFUKnv9pJAGAJqn+H2kkAUBW5x5PaSQBaDWUj29pJAQGRPaQL3kkBCUyiiB/eSQDwzPBoI95JA3SVmXgf3kkBWMKCiBveSQKRS6uYF95JAcHbGaQX3kkCKwAlCBfeSQKuXTRoF95JA1vuR8gT3kkDvIk/aBPeSQN77LdcE95JAKNkM1AT3kkDJuuvQBPeSQARupdAE95JAL2NF1AT3kkB2WOXXBPeSQNxNhdsE95JAt4wu3wT3kkAGe+TiBPeSQGNpmuYE95JA0ldQ6gT3kkAjabPuBPeSQCD6AvQE95JAM4tS+QT3kkBgHKL+BPeSQEKiQgQF95JAbL1RCgX3kkC42GAQBfeSQCf0bxYF95JAfjbgHAX3kkC1LdUjBfeSQA==",
          "dtype": "f8"
         }
        },
        {
         "line": {
          "color": "rgb(192, 255, 64)"
         },
         "mode": "lines",
         "name": "011",
         "opacity": 0.4,
         "type": "scatter",
         "x": [
          0,
          1000000000000,
          2000000000000,
          3000000000000,
          4000000000000,
          5000000000000,
          6000000000000,
          7000000000000,
          8000000000000,
          9000000000000,
          10000000000000,
          11000000000000,
          12000000000000,
          13000000000000,
          14000000000000,
          15000000000000,
          16000000000000,
          17000000000000,
          18000000000000,
          19000000000000,
          20000000000000,
          21000000000000,
          22000000000000,
          23000000000000,
          24000000000000,
          25000000000000,
          26000000000000,
          27000000000000,
          28000000000000,
          29000000000000,
          30000000000000,
          31000000000000,
          32000000000000,
          33000000000000,
          34000000000000,
          35000000000000,
          36000000000000,
          37000000000000,
          38000000000000,
          39000000000000,
          40000000000000
         ],
         "y": {
          "bdata": "m/cS/73EjEATHjFXKsWMQC5uXihHxYxA0JOw2VLFjEBn95OCWcWMQAHmHNtdxYxAPwIgE1/FjECYoXZLYMWMQBjEIIRhxYxAGkiGT2LFjEA0a1GHYsWMQHI8Mb9ixYxA3bsl92LFjECt7SsbY8WMQNg+QSRjxYxAwB1cLWPFjEBkinw2Y8WMQOB3JzxjxYxA4cEjPWPFjED6jSE+Y8WMQDbcID9jxYxAd/+eP2PFjEBHr20/Y8WMQCTIPD9jxYxAGEoMP2PFjECgqtc+Y8WMQG0enT5jxYxAxK5iPmPFjECyWyg+Y8WMQMNI9z1jxYxA1JXSPWPFjECk6q09Y8WMQD1HiT1jxYxATp5rPWPFjEAoV1c9Y8WMQCYSQz1jxYxAPs8uPWPFjECFlh49Y8WMQEDOEz1jxYxAkQYJPWPFjEBvP/48Y8WMQA==",
          "dtype": "f8"
         }
        },
        {
         "line": {
          "color": "rgb(255, 255, 0)"
         },
         "mode": "lines",
         "name": "012",
         "opacity": 0.4,
         "type": "scatter",
         "x": [
          0,
          1000000000000,
          2000000000000,
          3000000000000,
          4000000000000,
          5000000000000,
          6000000000000,
          7000000000000,
          8000000000000,
          9000000000000,
          10000000000000,
          11000000000000,
          12000000000000,
          13000000000000,
          14000000000000,
          15000000000000,
          16000000000000,
          17000000000000,
          18000000000000,
          19000000000000,
          20000000000000,
          21000000000000,
          22000000000000,
          23000000000000,
          24000000000000,
          25000000000000,
          26000000000000,
          27000000000000,
          28000000000000,
          29000000000000,
          30000000000000,
          31000000000000,
          32000000000000,
          33000000000000,
          34000000000000,
          35000000000000,
          36000000000000,
          37000000000000,
          38000000000000,
          39000000000000,
          40000000000000
         ],
         "y": {
          "bdata": "l3gXvxQ7mkBJvcO2WpmcQDX+6iqIaJ9AyOMkOGVan0DX3/LLrF2fQJmy5AuLYJ9AKM+hi0hin0BD3OyCj2OfQJVeHxl4ZJ9Am7dbAzZln0BzYGsammWfQLnk/hPoZZ9Af5XXvtVln0DKMjcT52WfQGWtdenYZZ9AC4O/zfZln0Bklh9RC2afQNvH8XsnZp9AwDohwjJmn0ABcJJoOmafQISS2/szZp9AbmTQkDJmn0AXqaZgLWafQM81udIsZp9A+3/uQSxmn0DiMfKoLGafQGoHy4IsZp9AATl1ICtmn0C1ZHxuKWafQJOT7FwpZp9AGG68zyhmn0DUmfSKJ2afQBBSYGsmZp9AwBmxDiZmn0DLUW+hJWafQD/uXRQlZp9AOTe+oCRmn0AkS/BOJGafQAAvJP4jZp9AQ+6qqiNmn0CDVP9dI2afQA==",
          "dtype": "f8"
         }
        },
        {
         "line": {
          "color": "rgb(254, 191, 0)"
         },
         "mode": "lines",
         "name": "013",
         "opacity": 0.4,
         "type": "scatter",
         "x": [
          0,
          1000000000000,
          2000000000000,
          3000000000000,
          4000000000000,
          5000000000000,
          6000000000000,
          7000000000000,
          8000000000000,
          9000000000000,
          10000000000000,
          11000000000000,
          12000000000000,
          13000000000000,
          14000000000000,
          15000000000000,
          16000000000000,
          17000000000000,
          18000000000000,
          19000000000000,
          20000000000000,
          21000000000000,
          22000000000000,
          23000000000000,
          24000000000000,
          25000000000000,
          26000000000000,
          27000000000000,
          28000000000000,
          29000000000000,
          30000000000000,
          31000000000000,
          32000000000000,
          33000000000000,
          34000000000000,
          35000000000000,
          36000000000000,
          37000000000000,
          38000000000000,
          39000000000000,
          40000000000000
         ],
         "y": {
          "bdata": "vF7wiofti0CNjEjv7e2LQFG22ysJ7otArQi1uRTui0Cii16qGu6LQHoYGS0f7otA/y73RiDui0D0euJgIe6LQF782noi7otAjKHqUCPui0DeI0GFI+6LQE+lmLkj7otA6CXx7SPui0Bb76gVJO6LQHQVUR8k7otAQlX5KCTui0C+rqEyJO6LQO8i8zkk7otATw6zOyTui0Ce/HI9JO6LQOjtMj8k7otAc5WFQCTui0DaHdRAJO6LQJmmIkEk7otAty9xQSTui0AzRqxBJO6LQBwTuUEk7otAEuDFQSTui0AWrdJBJO6LQBYz3EEk7otAL+zdQSTui0BIpd9BJO6LQGZe4UEk7otAe5viQSTui0BgseJBJO6LQETH4kEk7otAJt3iQSTui0B95+JBJO6LQEvW4kEk7otAFsXiQSTui0Djs+JBJO6LQA==",
          "dtype": "f8"
         }
        },
        {
         "line": {
          "color": "rgb(252, 128, 0)"
         },
         "mode": "lines",
         "name": "014",
         "opacity": 0.4,
         "type": "scatter",
         "x": [
          0,
          1000000000000,
          2000000000000,
          3000000000000,
          4000000000000,
          5000000000000,
          6000000000000,
          7000000000000,
          8000000000000,
          9000000000000,
          10000000000000,
          11000000000000,
          12000000000000,
          13000000000000,
          14000000000000,
          15000000000000,
          16000000000000,
          17000000000000,
          18000000000000,
          19000000000000,
          20000000000000,
          21000000000000,
          22000000000000,
          23000000000000,
          24000000000000,
          25000000000000,
          26000000000000,
          27000000000000,
          28000000000000,
          29000000000000,
          30000000000000,
          31000000000000,
          32000000000000,
          33000000000000,
          34000000000000,
          35000000000000,
          36000000000000,
          37000000000000,
          38000000000000,
          39000000000000,
          40000000000000
         ],
         "y": {
          "bdata": "CUgv3lQqikDm44+1sCqKQIrHNtvIKopAsvUD6tEqikAYBD/51yqKQPjjheDaKopA0WtwANwqikCIWWMg3SqKQB+tXkDeKopAIkyHyt4qikD5BEwA3yqKQGcJETbfKopAclnWa98qikCo9aSF3yqKQFvEs4/fKopAwJXCmd8qikDNadGj3yqKQNY1pajfKopAeeCGqt8qikA1i2is3yqKQAc2Sq7fKopAymYxr98qikC5houv3yqKQKqm5a/fKopAmcY/sN8qikCsCGuw3yqKQLLle7DfKopAusKMsN8qikC+n52w3yqKQM63pbDfKopAit+osN8qikBFB6yw3yqKQAAvr7DfKopAsbKwsN8qikDMSbGw3yqKQOfgsbDfKopACHiysN8qikCOwLKw3yqKQNHcsrDfKopAFPmysN8qikBaFbOw3yqKQA==",
          "dtype": "f8"
         }
        },
        {
         "line": {
          "color": "rgb(251, 64, 0)"
         },
         "mode": "lines",
         "name": "015",
         "opacity": 0.4,
         "type": "scatter",
         "x": [
          0,
          1000000000000,
          2000000000000,
          3000000000000,
          4000000000000,
          5000000000000,
          6000000000000,
          7000000000000,
          8000000000000,
          9000000000000,
          10000000000000,
          11000000000000,
          12000000000000,
          13000000000000,
          14000000000000,
          15000000000000,
          16000000000000,
          17000000000000,
          18000000000000,
          19000000000000,
          20000000000000,
          21000000000000,
          22000000000000,
          23000000000000,
          24000000000000,
          25000000000000,
          26000000000000,
          27000000000000,
          28000000000000,
          29000000000000,
          30000000000000,
          31000000000000,
          32000000000000,
          33000000000000,
          34000000000000,
          35000000000000,
          36000000000000,
          37000000000000,
          38000000000000,
          39000000000000,
          40000000000000
         ],
         "y": {
          "bdata": "yHAIJDl0m0A026vMEcOdQM1rsFBroJ1AXwACC+WZnUAITTdQG5mdQKIh1K60mJ1A3ePLT4KYnUAW29TTcJidQGIg+lZqmJ1AZuy6Um2YnUB4plE2b5idQJVjzaNvmJ1AuSevA2+YnUDGpri8bpidQPiTDotumJ1AHhDkU26YnUAB3aAebpidQMBUqQtumJ1AOkVzBW6YnUD04UX/bZidQOcqIfltmJ1A/mVm/m2YnUBGb1IIbpidQJNFShJumJ1A6ehNHG6YnUDL7MsibpidQN7J2idumJ1A48PqLG6YnUDX2vsxbpidQERNXDRumJ1AObWlNW6YnUBBLO82bpidQFayODhumJ1A2g3IN26YnUCrc6Q2bpidQCnugDVumJ1AVX1dNG6YnUDj7d8ybpidQHPvPTFumJ1A1wacL26YnUANNPotbpidQA==",
          "dtype": "f8"
         }
        },
        {
         "line": {
          "color": "rgb(250, 0, 0)"
         },
         "mode": "lines",
         "name": "016",
         "opacity": 0.4,
         "type": "scatter",
         "x": [
          0,
          1000000000000,
          2000000000000,
          3000000000000,
          4000000000000,
          5000000000000,
          6000000000000,
          7000000000000,
          8000000000000,
          9000000000000,
          10000000000000,
          11000000000000,
          12000000000000,
          13000000000000,
          14000000000000,
          15000000000000,
          16000000000000,
          17000000000000,
          18000000000000,
          19000000000000,
          20000000000000,
          21000000000000,
          22000000000000,
          23000000000000,
          24000000000000,
          25000000000000,
          26000000000000,
          27000000000000,
          28000000000000,
          29000000000000,
          30000000000000,
          31000000000000,
          32000000000000,
          33000000000000,
          34000000000000,
          35000000000000,
          36000000000000,
          37000000000000,
          38000000000000,
          39000000000000,
          40000000000000
         ],
         "y": {
          "bdata": "hQKGR82XikAEFV5uNJiKQDIKOmFPmIpAjEBpO1aYikDwGZowWZiKQCZd9EdamIpArbe2SluYikB4vw9/W5iKQJ4OabNbmIpAK6XC51uYikCVJD8YXJiKQH84DSJcmIpA8U7bK1yYikDwZ6k1XJiKQC00vj5cmIpADECUQFyYikADTGpCXJiKQApYQERcmIpAZrDzRVyYikCWs0tGXJiKQMS2o0ZcmIpA8rn7RlyYikChPU1HXJiKQJG3XUdcmIpAfDFuR1yYikBpq35HXJiKQOvtjUdcmIpAcQORR1yYikD2GJRHXJiKQH4ul0dcmIpAtwmaR1yYikB3nZpHXJiKQDgxm0dcmIpA+MSbR1yYikDSTZxHXJiKQHJpnEdcmIpAG4WcR1yYikC+oJxHXJiKQFq6nEdcmIpAg7+cR1yYikCwxJxHXJiKQA==",
          "dtype": "f8"
         }
        },
        {
         "line": {
          "color": "rgb(220, 0, 0)"
         },
         "mode": "lines",
         "name": "017",
         "opacity": 0.4,
         "type": "scatter",
         "x": [
          0,
          1000000000000,
          2000000000000,
          3000000000000,
          4000000000000,
          5000000000000,
          6000000000000,
          7000000000000,
          8000000000000,
          9000000000000,
          10000000000000,
          11000000000000,
          12000000000000,
          13000000000000,
          14000000000000,
          15000000000000,
          16000000000000,
          17000000000000,
          18000000000000,
          19000000000000,
          20000000000000,
          21000000000000,
          22000000000000,
          23000000000000,
          24000000000000,
          25000000000000,
          26000000000000,
          27000000000000,
          28000000000000,
          29000000000000,
          30000000000000,
          31000000000000,
          32000000000000,
          33000000000000,
          34000000000000,
          35000000000000,
          36000000000000,
          37000000000000,
          38000000000000,
          39000000000000,
          40000000000000
         ],
         "y": {
          "bdata": "aTyLORpklkCZIKo4YwWXQKXTxnWS0phATduk/DZ/mkDt48aAinmaQDUvUus8eZpAIYtru3B5mkAc+DT6gXmaQMhRQ1uEeZpAHyLkPYN5mkDsaZs8gnmaQAO6+QGCeZpA5/4ny4F5mkAeoWC2gXmaQFa0mqGBeZpAiTjWjIF5mkB4JhV8gXmaQA5GqHmBeZpAc3U7d4F5mkCmtM50gXmaQJUV6XKBeZpAZFTmcoF5mkCxk+NygXmaQH3T4HKBeZpAGP7NcoF5mkBJqYFygXmaQJBUNXKBeZpA5//ocYF5mkBQIaxxgXmaQKKHpnGBeZpA8u2gcYF5mkBFVJtxgXmaQLq/lXGBeZpAiz2QcYF5mkBdu4pxgXmaQC45hXGBeZpABNeAcYF5mkByeoBxgXmaQN0dgHGBeZpATcF/cYF5mkDIcH9xgXmaQA==",
          "dtype": "f8"
         }
        },
        {
         "line": {
          "color": "rgb(189, 0, 0)"
         },
         "mode": "lines",
         "name": "018",
         "opacity": 0.4,
         "type": "scatter",
         "x": [
          0,
          1000000000000,
          2000000000000,
          3000000000000,
          4000000000000,
          5000000000000,
          6000000000000,
          7000000000000,
          8000000000000,
          9000000000000,
          10000000000000,
          11000000000000,
          12000000000000,
          13000000000000,
          14000000000000,
          15000000000000,
          16000000000000,
          17000000000000,
          18000000000000,
          19000000000000,
          20000000000000,
          21000000000000,
          22000000000000,
          23000000000000,
          24000000000000,
          25000000000000,
          26000000000000,
          27000000000000,
          28000000000000,
          29000000000000,
          30000000000000,
          31000000000000,
          32000000000000,
          33000000000000,
          34000000000000,
          35000000000000,
          36000000000000,
          37000000000000,
          38000000000000,
          39000000000000,
          40000000000000
         ],
         "y": {
          "bdata": "xS/nKhIfkkCYIjZ8ix+SQKTFEqHvVpJA6HNcwvPCk0CEDBK4BzuUQBtEfG3+PJRAxO9xlr08lEAiZUUc3DyUQEksR2jxPJRAEzR9b/c8lEBoqgaw+TyUQPyiNTn6PJRAjg7aQfo8lECwsmVJ+jyUQKL0F0n6PJRA9qfKSPo8lECozH1I+jyUQAD0qUj6PJRA37YgTPo8lEC6f5dP+jyUQJZODlP6PJRA8B/8Vvo8lECbTile+jyUQJZ9VmX6PJRA2qyDbPo8lEBmQJ9z+jyUQNzKP3r6PJRAg1XggPo8lEBe4ICH+jyUQJHOTo76PJRAedtZlvo8lECR6GSe+jyUQNb1b6b6PJRAcAt0rvo8lEB7cUe2+jyUQLPXGr76PJRAGj7uxfo8lEDDNNfN+jyUQBjUVtb6PJRApHPW3vo8lEBiE1bn+jyUQA==",
          "dtype": "f8"
         }
        },
        {
         "line": {
          "color": "rgb(159, 0, 0)"
         },
         "mode": "lines",
         "name": "019",
         "opacity": 0.4,
         "type": "scatter",
         "x": [
          0,
          1000000000000,
          2000000000000,
          3000000000000,
          4000000000000,
          5000000000000,
          6000000000000,
          7000000000000,
          8000000000000,
          9000000000000,
          10000000000000,
          11000000000000,
          12000000000000,
          13000000000000,
          14000000000000,
          15000000000000,
          16000000000000,
          17000000000000,
          18000000000000,
          19000000000000,
          20000000000000,
          21000000000000,
          22000000000000,
          23000000000000,
          24000000000000,
          25000000000000,
          26000000000000,
          27000000000000,
          28000000000000,
          29000000000000,
          30000000000000,
          31000000000000,
          32000000000000,
          33000000000000,
          34000000000000,
          35000000000000,
          36000000000000,
          37000000000000,
          38000000000000,
          39000000000000,
          40000000000000
         ],
         "y": {
          "bdata": "SaFHK9/2kUCjyiPeL/eRQCToALaZ95FAJDN9mQ0XkkBYpXd2yBOTQAcL9LTYZ5NAPsKTGtZsk0B9NwZ9Hm2TQGKai21ZbZNAKIgCMoBtk0DqIhs2k22TQPpmfZeXbZNA5PtHC5dtk0Cii+lFlm2TQIPQv3aVbZNAuhK6MZVtk0B6/2GelG2TQBSedWqUbZNA4V9Z9ZNtk0AiUACKk22TQHFS2WaTbZNAZNBzTZNtk0AYrdE4k22TQDREdCmTbZNArhSwHpNtk0CyDx4Yk22TQAd9aCaTbZNA+djsNZNtk0CoE3tFk22TQA4tE1WTbZNAUH5UWJNtk0B7gM5ak22TQCWsSl2TbZNAUQHJX5Ntk0AwjaRgk22TQFnNZWGTbZNAWYAnYpNtk0Awpulik22TQJPCQGOTbZNA4iCRY5Ntk0D1leFjk22TQA==",
          "dtype": "f8"
         }
        }
       ],
       "layout": {
        "showlegend": false,
        "template": {
         "data": {
          "bar": [
           {
            "error_x": {
             "color": "#2a3f5f"
            },
            "error_y": {
             "color": "#2a3f5f"
            },
            "marker": {
             "line": {
              "color": "#E5ECF6",
              "width": 0.5
             },
             "pattern": {
              "fillmode": "overlay",
              "size": 10,
              "solidity": 0.2
             }
            },
            "type": "bar"
           }
          ],
          "barpolar": [
           {
            "marker": {
             "line": {
              "color": "#E5ECF6",
              "width": 0.5
             },
             "pattern": {
              "fillmode": "overlay",
              "size": 10,
              "solidity": 0.2
             }
            },
            "type": "barpolar"
           }
          ],
          "carpet": [
           {
            "aaxis": {
             "endlinecolor": "#2a3f5f",
             "gridcolor": "white",
             "linecolor": "white",
             "minorgridcolor": "white",
             "startlinecolor": "#2a3f5f"
            },
            "baxis": {
             "endlinecolor": "#2a3f5f",
             "gridcolor": "white",
             "linecolor": "white",
             "minorgridcolor": "white",
             "startlinecolor": "#2a3f5f"
            },
            "type": "carpet"
           }
          ],
          "choropleth": [
           {
            "colorbar": {
             "outlinewidth": 0,
             "ticks": ""
            },
            "type": "choropleth"
           }
          ],
          "contour": [
           {
            "colorbar": {
             "outlinewidth": 0,
             "ticks": ""
            },
            "colorscale": [
             [
              0,
              "#0d0887"
             ],
             [
              0.1111111111111111,
              "#46039f"
             ],
             [
              0.2222222222222222,
              "#7201a8"
             ],
             [
              0.3333333333333333,
              "#9c179e"
             ],
             [
              0.4444444444444444,
              "#bd3786"
             ],
             [
              0.5555555555555556,
              "#d8576b"
             ],
             [
              0.6666666666666666,
              "#ed7953"
             ],
             [
              0.7777777777777778,
              "#fb9f3a"
             ],
             [
              0.8888888888888888,
              "#fdca26"
             ],
             [
              1,
              "#f0f921"
             ]
            ],
            "type": "contour"
           }
          ],
          "contourcarpet": [
           {
            "colorbar": {
             "outlinewidth": 0,
             "ticks": ""
            },
            "type": "contourcarpet"
           }
          ],
          "heatmap": [
           {
            "colorbar": {
             "outlinewidth": 0,
             "ticks": ""
            },
            "colorscale": [
             [
              0,
              "#0d0887"
             ],
             [
              0.1111111111111111,
              "#46039f"
             ],
             [
              0.2222222222222222,
              "#7201a8"
             ],
             [
              0.3333333333333333,
              "#9c179e"
             ],
             [
              0.4444444444444444,
              "#bd3786"
             ],
             [
              0.5555555555555556,
              "#d8576b"
             ],
             [
              0.6666666666666666,
              "#ed7953"
             ],
             [
              0.7777777777777778,
              "#fb9f3a"
             ],
             [
              0.8888888888888888,
              "#fdca26"
             ],
             [
              1,
              "#f0f921"
             ]
            ],
            "type": "heatmap"
           }
          ],
          "histogram": [
           {
            "marker": {
             "pattern": {
              "fillmode": "overlay",
              "size": 10,
              "solidity": 0.2
             }
            },
            "type": "histogram"
           }
          ],
          "histogram2d": [
           {
            "colorbar": {
             "outlinewidth": 0,
             "ticks": ""
            },
            "colorscale": [
             [
              0,
              "#0d0887"
             ],
             [
              0.1111111111111111,
              "#46039f"
             ],
             [
              0.2222222222222222,
              "#7201a8"
             ],
             [
              0.3333333333333333,
              "#9c179e"
             ],
             [
              0.4444444444444444,
              "#bd3786"
             ],
             [
              0.5555555555555556,
              "#d8576b"
             ],
             [
              0.6666666666666666,
              "#ed7953"
             ],
             [
              0.7777777777777778,
              "#fb9f3a"
             ],
             [
              0.8888888888888888,
              "#fdca26"
             ],
             [
              1,
              "#f0f921"
             ]
            ],
            "type": "histogram2d"
           }
          ],
          "histogram2dcontour": [
           {
            "colorbar": {
             "outlinewidth": 0,
             "ticks": ""
            },
            "colorscale": [
             [
              0,
              "#0d0887"
             ],
             [
              0.1111111111111111,
              "#46039f"
             ],
             [
              0.2222222222222222,
              "#7201a8"
             ],
             [
              0.3333333333333333,
              "#9c179e"
             ],
             [
              0.4444444444444444,
              "#bd3786"
             ],
             [
              0.5555555555555556,
              "#d8576b"
             ],
             [
              0.6666666666666666,
              "#ed7953"
             ],
             [
              0.7777777777777778,
              "#fb9f3a"
             ],
             [
              0.8888888888888888,
              "#fdca26"
             ],
             [
              1,
              "#f0f921"
             ]
            ],
            "type": "histogram2dcontour"
           }
          ],
          "mesh3d": [
           {
            "colorbar": {
             "outlinewidth": 0,
             "ticks": ""
            },
            "type": "mesh3d"
           }
          ],
          "parcoords": [
           {
            "line": {
             "colorbar": {
              "outlinewidth": 0,
              "ticks": ""
             }
            },
            "type": "parcoords"
           }
          ],
          "pie": [
           {
            "automargin": true,
            "type": "pie"
           }
          ],
          "scatter": [
           {
            "fillpattern": {
             "fillmode": "overlay",
             "size": 10,
             "solidity": 0.2
            },
            "type": "scatter"
           }
          ],
          "scatter3d": [
           {
            "line": {
             "colorbar": {
              "outlinewidth": 0,
              "ticks": ""
             }
            },
            "marker": {
             "colorbar": {
              "outlinewidth": 0,
              "ticks": ""
             }
            },
            "type": "scatter3d"
           }
          ],
          "scattercarpet": [
           {
            "marker": {
             "colorbar": {
              "outlinewidth": 0,
              "ticks": ""
             }
            },
            "type": "scattercarpet"
           }
          ],
          "scattergeo": [
           {
            "marker": {
             "colorbar": {
              "outlinewidth": 0,
              "ticks": ""
             }
            },
            "type": "scattergeo"
           }
          ],
          "scattergl": [
           {
            "marker": {
             "colorbar": {
              "outlinewidth": 0,
              "ticks": ""
             }
            },
            "type": "scattergl"
           }
          ],
          "scattermap": [
           {
            "marker": {
             "colorbar": {
              "outlinewidth": 0,
              "ticks": ""
             }
            },
            "type": "scattermap"
           }
          ],
          "scattermapbox": [
           {
            "marker": {
             "colorbar": {
              "outlinewidth": 0,
              "ticks": ""
             }
            },
            "type": "scattermapbox"
           }
          ],
          "scatterpolar": [
           {
            "marker": {
             "colorbar": {
              "outlinewidth": 0,
              "ticks": ""
             }
            },
            "type": "scatterpolar"
           }
          ],
          "scatterpolargl": [
           {
            "marker": {
             "colorbar": {
              "outlinewidth": 0,
              "ticks": ""
             }
            },
            "type": "scatterpolargl"
           }
          ],
          "scatterternary": [
           {
            "marker": {
             "colorbar": {
              "outlinewidth": 0,
              "ticks": ""
             }
            },
            "type": "scatterternary"
           }
          ],
          "surface": [
           {
            "colorbar": {
             "outlinewidth": 0,
             "ticks": ""
            },
            "colorscale": [
             [
              0,
              "#0d0887"
             ],
             [
              0.1111111111111111,
              "#46039f"
             ],
             [
              0.2222222222222222,
              "#7201a8"
             ],
             [
              0.3333333333333333,
              "#9c179e"
             ],
             [
              0.4444444444444444,
              "#bd3786"
             ],
             [
              0.5555555555555556,
              "#d8576b"
             ],
             [
              0.6666666666666666,
              "#ed7953"
             ],
             [
              0.7777777777777778,
              "#fb9f3a"
             ],
             [
              0.8888888888888888,
              "#fdca26"
             ],
             [
              1,
              "#f0f921"
             ]
            ],
            "type": "surface"
           }
          ],
          "table": [
           {
            "cells": {
             "fill": {
              "color": "#EBF0F8"
             },
             "line": {
              "color": "white"
             }
            },
            "header": {
             "fill": {
              "color": "#C8D4E3"
             },
             "line": {
              "color": "white"
             }
            },
            "type": "table"
           }
          ]
         },
         "layout": {
          "annotationdefaults": {
           "arrowcolor": "#2a3f5f",
           "arrowhead": 0,
           "arrowwidth": 1
          },
          "autotypenumbers": "strict",
          "coloraxis": {
           "colorbar": {
            "outlinewidth": 0,
            "ticks": ""
           }
          },
          "colorscale": {
           "diverging": [
            [
             0,
             "#8e0152"
            ],
            [
             0.1,
             "#c51b7d"
            ],
            [
             0.2,
             "#de77ae"
            ],
            [
             0.3,
             "#f1b6da"
            ],
            [
             0.4,
             "#fde0ef"
            ],
            [
             0.5,
             "#f7f7f7"
            ],
            [
             0.6,
             "#e6f5d0"
            ],
            [
             0.7,
             "#b8e186"
            ],
            [
             0.8,
             "#7fbc41"
            ],
            [
             0.9,
             "#4d9221"
            ],
            [
             1,
             "#276419"
            ]
           ],
           "sequential": [
            [
             0,
             "#0d0887"
            ],
            [
             0.1111111111111111,
             "#46039f"
            ],
            [
             0.2222222222222222,
             "#7201a8"
            ],
            [
             0.3333333333333333,
             "#9c179e"
            ],
            [
             0.4444444444444444,
             "#bd3786"
            ],
            [
             0.5555555555555556,
             "#d8576b"
            ],
            [
             0.6666666666666666,
             "#ed7953"
            ],
            [
             0.7777777777777778,
             "#fb9f3a"
            ],
            [
             0.8888888888888888,
             "#fdca26"
            ],
            [
             1,
             "#f0f921"
            ]
           ],
           "sequentialminus": [
            [
             0,
             "#0d0887"
            ],
            [
             0.1111111111111111,
             "#46039f"
            ],
            [
             0.2222222222222222,
             "#7201a8"
            ],
            [
             0.3333333333333333,
             "#9c179e"
            ],
            [
             0.4444444444444444,
             "#bd3786"
            ],
            [
             0.5555555555555556,
             "#d8576b"
            ],
            [
             0.6666666666666666,
             "#ed7953"
            ],
            [
             0.7777777777777778,
             "#fb9f3a"
            ],
            [
             0.8888888888888888,
             "#fdca26"
            ],
            [
             1,
             "#f0f921"
            ]
           ]
          },
          "colorway": [
           "#636efa",
           "#EF553B",
           "#00cc96",
           "#ab63fa",
           "#FFA15A",
           "#19d3f3",
           "#FF6692",
           "#B6E880",
           "#FF97FF",
           "#FECB52"
          ],
          "font": {
           "color": "#2a3f5f"
          },
          "geo": {
           "bgcolor": "white",
           "lakecolor": "white",
           "landcolor": "#E5ECF6",
           "showlakes": true,
           "showland": true,
           "subunitcolor": "white"
          },
          "hoverlabel": {
           "align": "left"
          },
          "hovermode": "closest",
          "mapbox": {
           "style": "light"
          },
          "paper_bgcolor": "white",
          "plot_bgcolor": "#E5ECF6",
          "polar": {
           "angularaxis": {
            "gridcolor": "white",
            "linecolor": "white",
            "ticks": ""
           },
           "bgcolor": "#E5ECF6",
           "radialaxis": {
            "gridcolor": "white",
            "linecolor": "white",
            "ticks": ""
           }
          },
          "scene": {
           "xaxis": {
            "backgroundcolor": "#E5ECF6",
            "gridcolor": "white",
            "gridwidth": 2,
            "linecolor": "white",
            "showbackground": true,
            "ticks": "",
            "zerolinecolor": "white"
           },
           "yaxis": {
            "backgroundcolor": "#E5ECF6",
            "gridcolor": "white",
            "gridwidth": 2,
            "linecolor": "white",
            "showbackground": true,
            "ticks": "",
            "zerolinecolor": "white"
           },
           "zaxis": {
            "backgroundcolor": "#E5ECF6",
            "gridcolor": "white",
            "gridwidth": 2,
            "linecolor": "white",
            "showbackground": true,
            "ticks": "",
            "zerolinecolor": "white"
           }
          },
          "shapedefaults": {
           "line": {
            "color": "#2a3f5f"
           }
          },
          "ternary": {
           "aaxis": {
            "gridcolor": "white",
            "linecolor": "white",
            "ticks": ""
           },
           "baxis": {
            "gridcolor": "white",
            "linecolor": "white",
            "ticks": ""
           },
           "bgcolor": "#E5ECF6",
           "caxis": {
            "gridcolor": "white",
            "linecolor": "white",
            "ticks": ""
           }
          },
          "title": {
           "x": 0.05
          },
          "xaxis": {
           "automargin": true,
           "gridcolor": "white",
           "linecolor": "white",
           "ticks": "",
           "title": {
            "standoff": 15
           },
           "zerolinecolor": "white",
           "zerolinewidth": 2
          },
          "yaxis": {
           "automargin": true,
           "gridcolor": "white",
           "linecolor": "white",
           "ticks": "",
           "title": {
            "standoff": 15
           },
           "zerolinecolor": "white",
           "zerolinewidth": 2
          }
         }
        },
        "title": {
         "text": "Entropy generation - Test Snapshots - Parameter Space 01"
        },
        "xaxis": {
         "tickformat": ".2e",
         "title": {
          "text": "Time [s]"
         }
        },
        "yaxis": {
         "tickformat": ".2f",
         "title": {
          "text": "Entropy [W/K]"
         }
        }
       }
      }
     },
     "metadata": {},
     "output_type": "display_data"
    }
   ],
   "source": [
    "fig = go.Figure()\n",
    "\n",
    "for idx_snap, entropies in enumerate(entropy_gen_unit):\n",
    "    fig.add_trace(go.Scatter(x=list(comsol_data.times.values()),\n",
    "                             y=entropies,\n",
    "                                mode='lines',\n",
    "                                name=f\"{idx_snap:03d}\",\n",
    "                                opacity=0.4,\n",
    "                            line=dict(color=colors[idx_snap])\n",
    "                ))\n",
    "    \n",
    "fig.update_layout(\n",
    "    xaxis_tickformat='.2e',  # Format x-axis numbers to 2 decimal places\n",
    "    yaxis_tickformat='.2f',  # Format y-axis numbers to 2 decimal places\n",
    "    showlegend=False,        # Hide the legend\n",
    "    title=f\"Entropy generation - {DATA_TYPE} Snapshots - Parameter Space {VERSION}\",       # Optional: add a title\n",
    "    xaxis_title=\"Time [s]\",    # Optional: label for x-axis\n",
    "    yaxis_title=\"Entropy [W/K]\"     # Optional: label for y-axis\n",
    ")\n",
    "\n",
    "fig.write_image(import_folder / \"Exports\" / f\"{DATA_TYPE}_EntropyGeneration.png\")\n",
    "fig.show()"
   ]
  },
  {
   "cell_type": "code",
   "execution_count": 108,
   "metadata": {},
   "outputs": [
    {
     "data": {
      "application/vnd.plotly.v1+json": {
       "config": {
        "plotlyServerURL": "https://plot.ly"
       },
       "data": [
        {
         "line": {
          "color": "rgb(0, 0, 131)"
         },
         "mode": "lines",
         "name": "000",
         "opacity": 0.4,
         "type": "scatter",
         "x": [
          0,
          1000000000000,
          2000000000000,
          3000000000000,
          4000000000000,
          5000000000000,
          6000000000000,
          7000000000000,
          8000000000000,
          9000000000000,
          10000000000000,
          11000000000000,
          12000000000000,
          13000000000000,
          14000000000000,
          15000000000000,
          16000000000000,
          17000000000000,
          18000000000000,
          19000000000000,
          20000000000000,
          21000000000000,
          22000000000000,
          23000000000000,
          24000000000000,
          25000000000000,
          26000000000000,
          27000000000000,
          28000000000000,
          29000000000000,
          30000000000000,
          31000000000000,
          32000000000000,
          33000000000000,
          34000000000000,
          35000000000000,
          36000000000000,
          37000000000000,
          38000000000000,
          39000000000000,
          40000000000000
         ],
         "y": {
          "bdata": "unYSmbwZ7j8IVhYHiyDxP4E2XWfYD/E/XzZgKk8O8T/1TPuEIA7xP5geiqQODvE/H8VkGAcO8T/6+WKCCA7xP2dHHAwIDvE/3e079wYO8T/SH4+mBg7xP3NYq6YGDvE/3PEmxwYO8T90rGINBw7xP1jt90YHDvE/AfyHewcO8T/ydQKxBw7xPyb+Ed4HDvE//2NC6QcO8T+oL3j0Bw7xPx1hs/8HDvE/6cKOBQgO8T+4pqf3Bw7xPyUWzOkHDvE/KRH82wcO8T8bSnzOBw7xP8cuAMIHDvE/ySmJtQcO8T8jOxepBw7xP6q2nZ4HDvE/aXdOmwcO8T8Eov+XBw7xP4M2sZQHDvE/JegUkgcO8T8vyQSSBw7xPw+99JEHDvE/wsPkkQcO8T/pmjuSBw7xP4p8C5QHDvE/GHfblQcO8T+ViquXBw7xPw==",
          "dtype": "f8"
         }
        },
        {
         "line": {
          "color": "rgb(0, 15, 141)"
         },
         "mode": "lines",
         "name": "001",
         "opacity": 0.4,
         "type": "scatter",
         "x": [
          0,
          1000000000000,
          2000000000000,
          3000000000000,
          4000000000000,
          5000000000000,
          6000000000000,
          7000000000000,
          8000000000000,
          9000000000000,
          10000000000000,
          11000000000000,
          12000000000000,
          13000000000000,
          14000000000000,
          15000000000000,
          16000000000000,
          17000000000000,
          18000000000000,
          19000000000000,
          20000000000000,
          21000000000000,
          22000000000000,
          23000000000000,
          24000000000000,
          25000000000000,
          26000000000000,
          27000000000000,
          28000000000000,
          29000000000000,
          30000000000000,
          31000000000000,
          32000000000000,
          33000000000000,
          34000000000000,
          35000000000000,
          36000000000000,
          37000000000000,
          38000000000000,
          39000000000000,
          40000000000000
         ],
         "y": {
          "bdata": "W9CmQ8Lp7j8kgxBworXxP+qvRK4dtfE/jsYGnCSz8T+zoO1uNLPxPwnL54Mts/E/V+quHi+z8T/RXOM9MLPxP7M2COAws/E/iRAEDjGz8T8qxYasMLPxP4iFIFgws/E/gKZtBTCz8T/yFES5L7PxP75irpcvs/E/BfFHdi+z8T/EvxBVL7PxPwL5NTgvs/E/JyOIPC+z8T/f89tAL7PxPyNrMUUvs/E/TSSBSi+z8T/iWIZXL7PxP/v9kGQvs/E/mBOhcS+z8T/6avx9L7PxP8HFl4Qvs/E/KnI0iy+z8T84cNKRL7PxPwip+5cvs/E/se59mi+z8T8DXwCdL7PxP/z5gp8vs/E/dseeoS+z8T8J14qgL7PxPwTudp8vs/E/Zgxjni+z8T+FHiqdL7PxP5+Gy5ovs/E/7RVtmC+z8T9lzA6WL7PxPw==",
          "dtype": "f8"
         }
        },
        {
         "line": {
          "color": "rgb(0, 30, 150)"
         },
         "mode": "lines",
         "name": "002",
         "opacity": 0.4,
         "type": "scatter",
         "x": [
          0,
          1000000000000,
          2000000000000,
          3000000000000,
          4000000000000,
          5000000000000,
          6000000000000,
          7000000000000,
          8000000000000,
          9000000000000,
          10000000000000,
          11000000000000,
          12000000000000,
          13000000000000,
          14000000000000,
          15000000000000,
          16000000000000,
          17000000000000,
          18000000000000,
          19000000000000,
          20000000000000,
          21000000000000,
          22000000000000,
          23000000000000,
          24000000000000,
          25000000000000,
          26000000000000,
          27000000000000,
          28000000000000,
          29000000000000,
          30000000000000,
          31000000000000,
          32000000000000,
          33000000000000,
          34000000000000,
          35000000000000,
          36000000000000,
          37000000000000,
          38000000000000,
          39000000000000,
          40000000000000
         ],
         "y": {
          "bdata": "+dwe6qej2j9u0L1dCaTaP4Cn0ZchpNo/7f7miyuk2j/YwDfHMKTaP9dwmR40pNo/x7plGDWk2j9pRDgSNqTaP8ANEQw3pNo/xo2oqzek2j9nsmfaN6TaP1cQJwk4pNo/kKfmNzik2j9FgsNVOKTaPyqThF44pNo/IaZFZzik2j8puwZwOKTaP/RZnnU4pNo/ehtCdzik2j8R3eV4OKTaP8OeiXo4pNo/1b2Vezik2j8xUOR7OKTaP4/iMnw4pNo/7XSBfDik2j/spLN8OKTaP6xZwnw4pNo/aQ7RfDik2j8ow998OKTaP8Un6Xw4pNo/MejrfDik2j+YqO58OKTaPwJp8Xw4pNo/6SrzfDik2j+prvN8OKTaP2Yy9Hw4pNo/KLb0fDik2j9JCvV8OKTaP+si9Xw4pNo/jTv1fDik2j8wVPV8OKTaPw==",
          "dtype": "f8"
         }
        },
        {
         "line": {
          "color": "rgb(0, 45, 160)"
         },
         "mode": "lines",
         "name": "003",
         "opacity": 0.4,
         "type": "scatter",
         "x": [
          0,
          1000000000000,
          2000000000000,
          3000000000000,
          4000000000000,
          5000000000000,
          6000000000000,
          7000000000000,
          8000000000000,
          9000000000000,
          10000000000000,
          11000000000000,
          12000000000000,
          13000000000000,
          14000000000000,
          15000000000000,
          16000000000000,
          17000000000000,
          18000000000000,
          19000000000000,
          20000000000000,
          21000000000000,
          22000000000000,
          23000000000000,
          24000000000000,
          25000000000000,
          26000000000000,
          27000000000000,
          28000000000000,
          29000000000000,
          30000000000000,
          31000000000000,
          32000000000000,
          33000000000000,
          34000000000000,
          35000000000000,
          36000000000000,
          37000000000000,
          38000000000000,
          39000000000000,
          40000000000000
         ],
         "y": {
          "bdata": "JZ56446x3z+HVHt/ELLfP5YdaG9Lst8/O3OxpMiz3z/ks4Od+8PfP9hrDcINF+A/49Ug0Vp84D8R3dEvvafgP5oHkwwcr+A/zPySsT6w4D8yfaJ4WLDgPwdPdk1dsOA/1vS8M1uw4D/SAVwRWbDgPxuDRlRYsOA/M9hPDViw4D/IpE7rV7DgP5P0G+pXsOA/Yknp6Few4D8to7bnV7DgPz8jfeZXsOA/hos95Vew4D8p9P3jV7DgPy5dvuJXsOA/mBRR4lew4D9XfJ7iV7DgPyDk6+JXsOA/9ks541ew4D8dZ47jV7DgPy9Y6uNXsOA/QklG5Few4D9ZOqLkV7DgPxa8FOVXsOA/yUWb5Vew4D98zyHmV7DgPzRZqOZXsOA/Etc/51ew4D+2YebnV7DgP1rsjOhXsOA/AXcz6Vew4D9Oce7pV7DgPw==",
          "dtype": "f8"
         }
        },
        {
         "line": {
          "color": "rgb(0, 60, 170)"
         },
         "mode": "lines",
         "name": "004",
         "opacity": 0.4,
         "type": "scatter",
         "x": [
          0,
          1000000000000,
          2000000000000,
          3000000000000,
          4000000000000,
          5000000000000,
          6000000000000,
          7000000000000,
          8000000000000,
          9000000000000,
          10000000000000,
          11000000000000,
          12000000000000,
          13000000000000,
          14000000000000,
          15000000000000,
          16000000000000,
          17000000000000,
          18000000000000,
          19000000000000,
          20000000000000,
          21000000000000,
          22000000000000,
          23000000000000,
          24000000000000,
          25000000000000,
          26000000000000,
          27000000000000,
          28000000000000,
          29000000000000,
          30000000000000,
          31000000000000,
          32000000000000,
          33000000000000,
          34000000000000,
          35000000000000,
          36000000000000,
          37000000000000,
          38000000000000,
          39000000000000,
          40000000000000
         ],
         "y": {
          "bdata": "LByCwkgB2T9H2dUjnQHZPxrbxSqzAdk/KKAChb0B2T/8a7ppwQHZP96E3E7FAdk/XLv8cMYB2T81J0wzxwHZP5ymn/XHAdk/jjn3t8gB2T+Vo5/oyAHZP+1bigXJAdk/8it1IskB2T+uE2A/yQHZP4vjokPJAdk/tmiORMkB2T/u7XlFyQHZPyVzZUbJAdk/dtkpSckB2T8zUy5MyQHZPzPNMk/JAdk/cUc3UskB2T8aQKlSyQHZP5D+wVLJAdk/CL3aUskB2T9/e/NSyQHZP8xsPFPJAdk/BOaLU8kB2T8+X9tTyQHZP3XYKlTJAdk/Djs3VMkB2T+BhjpUyQHZP/LRPVTJAdk/ZB1BVMkB2T/5U0hUyQHZP3kSUFTJAdk//tBXVMkB2T98j19UyQHZPyMWYVTJAdk/FMVhVMkB2T8JdGJUyQHZPw==",
          "dtype": "f8"
         }
        },
        {
         "line": {
          "color": "rgb(1, 109, 191)"
         },
         "mode": "lines",
         "name": "005",
         "opacity": 0.4,
         "type": "scatter",
         "x": [
          0,
          1000000000000,
          2000000000000,
          3000000000000,
          4000000000000,
          5000000000000,
          6000000000000,
          7000000000000,
          8000000000000,
          9000000000000,
          10000000000000,
          11000000000000,
          12000000000000,
          13000000000000,
          14000000000000,
          15000000000000,
          16000000000000,
          17000000000000,
          18000000000000,
          19000000000000,
          20000000000000,
          21000000000000,
          22000000000000,
          23000000000000,
          24000000000000,
          25000000000000,
          26000000000000,
          27000000000000,
          28000000000000,
          29000000000000,
          30000000000000,
          31000000000000,
          32000000000000,
          33000000000000,
          34000000000000,
          35000000000000,
          36000000000000,
          37000000000000,
          38000000000000,
          39000000000000,
          40000000000000
         ],
         "y": {
          "bdata": "petTVmjo5T9WTD+8OjfnP48vLkPwf+g/APC1UjNn6D+ds0iVJ2HoPxR9g+ifVeg/E7zcBToz6D8p8ypWt/7pPxTfAq349+k/W4DzY3P26T+baCitSfbpP6XzFXJJ9uk/ye5QlUn26T+sP8k5SfbpP6K1bB5J9uk/RIczGkn26T9uMPwVSfbpP3OVnxZJ9uk/rbQNGEn26T+E7XsZSfbpP/Q/6hpJ9uk/lz3HG0n26T/3gowcSfbpPy3KUR1J9uk/OBMXHkn26T+7JGgeSfbpP/Y+ph5J9uk/VVnkHkn26T/XcyIfSfbpPxB8OB9J9uk/MvpHH0n26T9YeFcfSfbpP4L2Zh9J9uk/ESdsH0n26T8zqW8fSfbpP1Mrcx9J9uk/eK12H0n26T+x0ncfSfbpPzCVeB9J9uk/r1d5H0n26T8vGnofSfbpPw==",
          "dtype": "f8"
         }
        },
        {
         "line": {
          "color": "rgb(2, 157, 212)"
         },
         "mode": "lines",
         "name": "006",
         "opacity": 0.4,
         "type": "scatter",
         "x": [
          0,
          1000000000000,
          2000000000000,
          3000000000000,
          4000000000000,
          5000000000000,
          6000000000000,
          7000000000000,
          8000000000000,
          9000000000000,
          10000000000000,
          11000000000000,
          12000000000000,
          13000000000000,
          14000000000000,
          15000000000000,
          16000000000000,
          17000000000000,
          18000000000000,
          19000000000000,
          20000000000000,
          21000000000000,
          22000000000000,
          23000000000000,
          24000000000000,
          25000000000000,
          26000000000000,
          27000000000000,
          28000000000000,
          29000000000000,
          30000000000000,
          31000000000000,
          32000000000000,
          33000000000000,
          34000000000000,
          35000000000000,
          36000000000000,
          37000000000000,
          38000000000000,
          39000000000000,
          40000000000000
         ],
         "y": {
          "bdata": "7ZqccdTg2D8VCjuGJ+HYP9bOdZE94dg/Ww3G3Ufh2D/IxSDmS+HYP0ho7u5P4dg/ay9P+lDh2D98J1rDUeHYP3KHaYxS4dg/TE99VVPh2D/E6fyAU+HYP86U1J5T4dg/almsvFPh2D+fN4TaU+HYP5VTw91T4dg/tWS03lPh2D/cdaXfU+HYPwmHluBT4dg/pR+H41Ph2D+iDKTmU+HYP+T5wOlT4dg/b+fd7FPh2D+OBzXtU+HYP/mkTu1T4dg/Y0Jo7VPh2D/L34HtU+HYP+4xz+1T4dg/Iv8g7lPh2D9VzHLuU+HYP4yZxO5T4dg/W2DO7lPh2D9P6dHuU+HYP0By1e5T4dg/NfvY7lPh2D85huDuU+HYPyVq6O5T4dg/EU7w7lPh2D/8MfjuU+HYPz2I+e5T4dg/IE367lPh2D//EfvuU+HYPw==",
          "dtype": "f8"
         }
        },
        {
         "line": {
          "color": "rgb(4, 206, 234)"
         },
         "mode": "lines",
         "name": "007",
         "opacity": 0.4,
         "type": "scatter",
         "x": [
          0,
          1000000000000,
          2000000000000,
          3000000000000,
          4000000000000,
          5000000000000,
          6000000000000,
          7000000000000,
          8000000000000,
          9000000000000,
          10000000000000,
          11000000000000,
          12000000000000,
          13000000000000,
          14000000000000,
          15000000000000,
          16000000000000,
          17000000000000,
          18000000000000,
          19000000000000,
          20000000000000,
          21000000000000,
          22000000000000,
          23000000000000,
          24000000000000,
          25000000000000,
          26000000000000,
          27000000000000,
          28000000000000,
          29000000000000,
          30000000000000,
          31000000000000,
          32000000000000,
          33000000000000,
          34000000000000,
          35000000000000,
          36000000000000,
          37000000000000,
          38000000000000,
          39000000000000,
          40000000000000
         ],
         "y": {
          "bdata": "zEZUjZyc7D9f4NwKn3jvP65edfjmXu8/25EFVppb7z8JazFG4lrvP2GqMESvWu8/SZUMNJ9a7z8pd3k+nFrvPxNNrvibWu8/MuQmc5ta7z9cC0Vem1rvP3w6/labWu8/+CVKVZta7z902JpTm1rvP73IOlWbWu8/9HRcZpta7z9vjZR3m1rvPzIS44ibWu8/PO7RmJta7z++C++hm1rvP9fTDaubWu8/hUYutJta7z9kcKK7m1rvP7ssNbubWu8/WBbIupta7z9FLVu6m1rvPzSuwLmbWu8/831PuJta7z/LYt62m1rvP7tcbbWbWu8/KYAItJta7z/tYtyym1rvP0NKsLGbWu8/LTaEsJta7z9QsYCvm1rvPzl9O6+bWu8/2Er2rpta7z8jGrGum1rvP6goga6bWu8/WOy0rpta7z+nsOium1rvPw==",
          "dtype": "f8"
         }
        },
        {
         "line": {
          "color": "rgb(5, 255, 255)"
         },
         "mode": "lines",
         "name": "008",
         "opacity": 0.4,
         "type": "scatter",
         "x": [
          0,
          1000000000000,
          2000000000000,
          3000000000000,
          4000000000000,
          5000000000000,
          6000000000000,
          7000000000000,
          8000000000000,
          9000000000000,
          10000000000000,
          11000000000000,
          12000000000000,
          13000000000000,
          14000000000000,
          15000000000000,
          16000000000000,
          17000000000000,
          18000000000000,
          19000000000000,
          20000000000000,
          21000000000000,
          22000000000000,
          23000000000000,
          24000000000000,
          25000000000000,
          26000000000000,
          27000000000000,
          28000000000000,
          29000000000000,
          30000000000000,
          31000000000000,
          32000000000000,
          33000000000000,
          34000000000000,
          35000000000000,
          36000000000000,
          37000000000000,
          38000000000000,
          39000000000000,
          40000000000000
         ],
         "y": {
          "bdata": "0p9GiVd+7D+jsgagnlHvPzOYMHhmNu8/XsRNpaky7z+FOZgv1zHvP6r4Xq6YMe8/J9R1+oMx7z9eDrO1gTHvP3G9Z/t/Me8/6fTmh38x7z8f0Vs2fzHvPxbLvhd/Me8/nT17+X4x7z+lIOXbfjHvP3NmAeF+Me8/FQop5n4x7z+KC1zrfjHvP8TSo/B+Me8/ohfQ+X4x7z9gTf8CfzHvPwl0MQx/Me8/FpBTFX8x7z8OgKoWfzHvP9+CARh/Me8/kJhYGX8x7z/wCKsafzHvP6gZDRp/Me8/NDVvGX8x7z+RW9EYfzHvP0upMhh/Me8/EYw2F38x7z9ucjoWfzHvP2FcPhV/Me8/VRJDFH8x7z+SI5oTfzHvP1Q28RJ/Me8/okpIEn8x7z83zqARfzHvP3WajxF/Me8/H2d+EX8x7z80NG0RfzHvPw==",
          "dtype": "f8"
         }
        },
        {
         "line": {
          "color": "rgb(67, 255, 191)"
         },
         "mode": "lines",
         "name": "009",
         "opacity": 0.4,
         "type": "scatter",
         "x": [
          0,
          1000000000000,
          2000000000000,
          3000000000000,
          4000000000000,
          5000000000000,
          6000000000000,
          7000000000000,
          8000000000000,
          9000000000000,
          10000000000000,
          11000000000000,
          12000000000000,
          13000000000000,
          14000000000000,
          15000000000000,
          16000000000000,
          17000000000000,
          18000000000000,
          19000000000000,
          20000000000000,
          21000000000000,
          22000000000000,
          23000000000000,
          24000000000000,
          25000000000000,
          26000000000000,
          27000000000000,
          28000000000000,
          29000000000000,
          30000000000000,
          31000000000000,
          32000000000000,
          33000000000000,
          34000000000000,
          35000000000000,
          36000000000000,
          37000000000000,
          38000000000000,
          39000000000000,
          40000000000000
         ],
         "y": {
          "bdata": "ihpfYUoq5z/feVYDicnoP59h+hRJ0+g/J4AjFOLN6D/clZcVBMzoP7PzB1V4y+g/Ab3fLmzL6D/+glxnYsvoP9d41qBWy+g/soAfKVbL6D+OK2TeWcvoP5PshXpXy+g/rOXNhlTL6D8ZSatwU8voP0diiIlTy+g/jV7t/1PL6D9gBoIgVMvoPy4kiPtTy+g/vKW+f1PL6D8JJHSZU8voPwh56MlTy+g/80hL/VPL6D8Jrc4NVMvoP7vT3gpUy+g/Yx76B1TL6D+G+BDzU8voP5TejcdTy+g/iZYTnFPL6D9VIKJwU8voP7wU8ldTy+g/G1m8VlPL6D/IbYdVU8voP8NSU1RTy+g/ISu+U1PL6D/Ieu9TU8voP6XSIFRTy+g/qDJSVFPL6D9DWGtUU8voP/MbZlRTy+g/2OVgVFPL6D/1tVtUU8voPw==",
          "dtype": "f8"
         }
        },
        {
         "line": {
          "color": "rgb(130, 255, 128)"
         },
         "mode": "lines",
         "name": "010",
         "opacity": 0.4,
         "type": "scatter",
         "x": [
          0,
          1000000000000,
          2000000000000,
          3000000000000,
          4000000000000,
          5000000000000,
          6000000000000,
          7000000000000,
          8000000000000,
          9000000000000,
          10000000000000,
          11000000000000,
          12000000000000,
          13000000000000,
          14000000000000,
          15000000000000,
          16000000000000,
          17000000000000,
          18000000000000,
          19000000000000,
          20000000000000,
          21000000000000,
          22000000000000,
          23000000000000,
          24000000000000,
          25000000000000,
          26000000000000,
          27000000000000,
          28000000000000,
          29000000000000,
          30000000000000,
          31000000000000,
          32000000000000,
          33000000000000,
          34000000000000,
          35000000000000,
          36000000000000,
          37000000000000,
          38000000000000,
          39000000000000,
          40000000000000
         ],
         "y": {
          "bdata": "aMD8VtES4T/y+qVeIxPhPyGVm/0OGeE/QtzFgBLy4T8+8Qvma7/iP3AnMzqcy+I/92VfUI7L4j9u6vEbkcviP4L3G8qiy+I/BVpcz67L4j93Kkf8s8viPxi3SHO0y+I/mskfubPL4j8wzwb/ssviP9bH/USyy+I/v8/3yLHL4j8b4pWhscviPzqANHqxy+I/IqrTUrHL4j9VPsg6scviP489rjexy+I/GUGUNLHL4j/vSHoxscviP8WcNDGxy+I/9EnMNLHL4j8/92M4scviP6mk+zuxy+I/UYacP7HL4j9y+klDscviP6Bu90axy+I/3+KkSrHL4j937v1OscviP25dQVSxy+I/e8yEWbHL4j+iO8hescviP4vmW2Sxy+I/GSpdarHL4j/KbV5wscviP5yxX3axy+I/ZD7BfLHL4j/eUKaDscviPw==",
          "dtype": "f8"
         }
        },
        {
         "line": {
          "color": "rgb(192, 255, 64)"
         },
         "mode": "lines",
         "name": "011",
         "opacity": 0.4,
         "type": "scatter",
         "x": [
          0,
          1000000000000,
          2000000000000,
          3000000000000,
          4000000000000,
          5000000000000,
          6000000000000,
          7000000000000,
          8000000000000,
          9000000000000,
          10000000000000,
          11000000000000,
          12000000000000,
          13000000000000,
          14000000000000,
          15000000000000,
          16000000000000,
          17000000000000,
          18000000000000,
          19000000000000,
          20000000000000,
          21000000000000,
          22000000000000,
          23000000000000,
          24000000000000,
          25000000000000,
          26000000000000,
          27000000000000,
          28000000000000,
          29000000000000,
          30000000000000,
          31000000000000,
          32000000000000,
          33000000000000,
          34000000000000,
          35000000000000,
          36000000000000,
          37000000000000,
          38000000000000,
          39000000000000,
          40000000000000
         ],
         "y": {
          "bdata": "qBEevQSD3D/YKLcdcIPcP3zODq2Mg9w/0oGqQ5iD3D9V9lbdnoPcP3A78iujg9w/hYcsYaSD3D/sl7mWpYPcP69smcymg9w/UkQulqeD3D+d8HnNp4PcP88b2gSog9w/78VOPKiD3D8CqwJgqIPcP9Y7A2mog9w/tU0JcqiD3D+g4BR7qIPcP13bsoCog9w//uSsgaiD3D9HbaiCqIPcP0B0pYOog9w/VXcihKiD3D/Ol/GDqIPcP2MgwYOog9w/IBGRg6iD3D/h6VyDqIPcP3DjIoOog9w/R/nogqiD3D90K6+CqIPcP6GIfoKog9w/iSlagqiD3D8f0jWCqIPcP2yCEYKog9w/QB30gaiD3D9uBOCBqIPcP7vty4Gog9w/HNm3gaiD3D9yxaeBqIPcP9AVnYGog9w/wmaSgaiD3D8/uIeBqIPcPw==",
          "dtype": "f8"
         }
        },
        {
         "line": {
          "color": "rgb(255, 255, 0)"
         },
         "mode": "lines",
         "name": "012",
         "opacity": 0.4,
         "type": "scatter",
         "x": [
          0,
          1000000000000,
          2000000000000,
          3000000000000,
          4000000000000,
          5000000000000,
          6000000000000,
          7000000000000,
          8000000000000,
          9000000000000,
          10000000000000,
          11000000000000,
          12000000000000,
          13000000000000,
          14000000000000,
          15000000000000,
          16000000000000,
          17000000000000,
          18000000000000,
          19000000000000,
          20000000000000,
          21000000000000,
          22000000000000,
          23000000000000,
          24000000000000,
          25000000000000,
          26000000000000,
          27000000000000,
          28000000000000,
          29000000000000,
          30000000000000,
          31000000000000,
          32000000000000,
          33000000000000,
          34000000000000,
          35000000000000,
          36000000000000,
          37000000000000,
          38000000000000,
          39000000000000,
          40000000000000
         ],
         "y": {
          "bdata": "vq0jryf/6T8VtCeUBFjsP2CHqAXHIO8/UKOeXsQS7z+vM1p0BBbvP3Fj2ibcGO8/RKLRrJUa7z8vyCK52RvvP7wQ+TvAHO8/uLlVdHwd7z9uv7um3x3vP1StK+4sHu8/uzLmwhoe7z8Yna7vKx7vP1dhSOYdHu8/vglIhjse7z/A/MraTx7vP/OQQ8VrHu8/tlOx8XYe7z/3VqiGfh7vP93vnih4Hu8/syfRwHYe7z/ds4GccR7vP9Z+2A9xHu8/c5JYgHAe7z9o7HDmcB7vP7LroMBwHu8/DZ50YW8e7z8ROluzbR7vP++H86FtHu8/O/AFFm0e7z+7FyTUax7vP4nOILdqHu8/r1RFW2oe7z+bJ/3uaR7vP5ELLmNpHu8/HnuW8Gge7z9KcoOfaB7vP2vsb09oHu8/M1+1/Gce7z8L7riwZx7vPw==",
          "dtype": "f8"
         }
        },
        {
         "line": {
          "color": "rgb(254, 191, 0)"
         },
         "mode": "lines",
         "name": "013",
         "opacity": 0.4,
         "type": "scatter",
         "x": [
          0,
          1000000000000,
          2000000000000,
          3000000000000,
          4000000000000,
          5000000000000,
          6000000000000,
          7000000000000,
          8000000000000,
          9000000000000,
          10000000000000,
          11000000000000,
          12000000000000,
          13000000000000,
          14000000000000,
          15000000000000,
          16000000000000,
          17000000000000,
          18000000000000,
          19000000000000,
          20000000000000,
          21000000000000,
          22000000000000,
          23000000000000,
          24000000000000,
          25000000000000,
          26000000000000,
          27000000000000,
          28000000000000,
          29000000000000,
          30000000000000,
          31000000000000,
          32000000000000,
          33000000000000,
          34000000000000,
          35000000000000,
          36000000000000,
          37000000000000,
          38000000000000,
          39000000000000,
          40000000000000
         ],
         "y": {
          "bdata": "XHsI9Lmt2z8AxHRuH67bP62azmw6rts/gYRC4EWu2z/s+FnDS67bPzp3xjtQrts/qJsgU1Gu2z9a14dqUq7bP1Eq/IFTrts/9cUiVlSu2z92tgGKVK7bP9Kj4b1Urts/DY7C8VSu2z9/mh8ZVa7bP8ywsSJVrts/luBDLFWu2z/RKdY1Va7bP/nlFj1Vrts/C9LSPlWu2z8GwY5AVa7bP/aySkJVrts/0lSaQ1Wu2z/QKehDVa7bPyP/NURVrts/19SDRFWu2z9UZL5EVa7bP/8Ty0RVrts/t8PXRFWu2z99c+REVa7bP7vj7URVrts/5JjvRFWu2z8NTvFEVa7bPzsD80RVrts/fD30RFWu2z8wU/REVa7bP+Jo9ERVrts/kX70RFWu2z/QiPREVa7bP8Z39ERVrts/uWb0RFWu2z+tVfREVa7bPw==",
          "dtype": "f8"
         }
        },
        {
         "line": {
          "color": "rgb(252, 128, 0)"
         },
         "mode": "lines",
         "name": "014",
         "opacity": 0.4,
         "type": "scatter",
         "x": [
          0,
          1000000000000,
          2000000000000,
          3000000000000,
          4000000000000,
          5000000000000,
          6000000000000,
          7000000000000,
          8000000000000,
          9000000000000,
          10000000000000,
          11000000000000,
          12000000000000,
          13000000000000,
          14000000000000,
          15000000000000,
          16000000000000,
          17000000000000,
          18000000000000,
          19000000000000,
          20000000000000,
          21000000000000,
          22000000000000,
          23000000000000,
          24000000000000,
          25000000000000,
          26000000000000,
          27000000000000,
          28000000000000,
          29000000000000,
          30000000000000,
          31000000000000,
          32000000000000,
          33000000000000,
          34000000000000,
          35000000000000,
          36000000000000,
          37000000000000,
          38000000000000,
          39000000000000,
          40000000000000
         ],
         "y": {
          "bdata": "DzcvEo7u2T8Meb4X6e7ZP4H0OgYB79k/uKxWAArv2T+W1rkBEO/ZP1mlXuIS79k/lGm3/xPv2T9/gBgdFe/ZPxnqgToW79k/E+duwxbv2T93ybj4Fu/ZP8X2Ai4X79k/A29NYxfv2T/4FeF8F+/ZP1jq2IYX79k/ZMHQkBfv2T8Sm8iaF+/ZP9hfkZ8X79k/FL5uoRfv2T9qHEyjF+/ZP9V6KaUX79k/bJsOphfv2T927WemF+/ZP4I/waYX79k/i5Eapxfv2T/LcEWnF+/ZP0onVqcX79k/y91mpxfv2T9JlHenF+/ZP9uZf6cX79k/YrqCpxfv2T/n2oWnF+/ZP237iKcX79k/qHuKpxfv2T9qEYunF+/ZPyyni6cX79k/9DyMpxfv2T/UhIynF+/ZP9egjKcX79k/2byMpxfv2T/e2IynF+/ZPw==",
          "dtype": "f8"
         }
        },
        {
         "line": {
          "color": "rgb(251, 64, 0)"
         },
         "mode": "lines",
         "name": "015",
         "opacity": 0.4,
         "type": "scatter",
         "x": [
          0,
          1000000000000,
          2000000000000,
          3000000000000,
          4000000000000,
          5000000000000,
          6000000000000,
          7000000000000,
          8000000000000,
          9000000000000,
          10000000000000,
          11000000000000,
          12000000000000,
          13000000000000,
          14000000000000,
          15000000000000,
          16000000000000,
          17000000000000,
          18000000000000,
          19000000000000,
          20000000000000,
          21000000000000,
          22000000000000,
          23000000000000,
          24000000000000,
          25000000000000,
          26000000000000,
          27000000000000,
          28000000000000,
          29000000000000,
          30000000000000,
          31000000000000,
          32000000000000,
          33000000000000,
          34000000000000,
          35000000000000,
          36000000000000,
          37000000000000,
          38000000000000,
          39000000000000,
          40000000000000
         ],
         "y": {
          "bdata": "iMYIr4A16z9rR3uDE3/tP7teujC8XO0/Bdnl0kRW7T/mo/jkfFXtP5zSDC4XVe0/SCoYQuVU7T9+xxLu01TtP7NiCoDNVO0/E1b6dNBU7T96RUBU0lTtP03jwcDSVO0/cHQRItJU7T8bEr3b0VTtP3p1hKrRVO0/evnXc9FU7T/qdA4/0VTtP3NBQizRVO0/iWIaJtFU7T8NHPsf0VTtP/lt5BnRVO0/p54dH9FU7T8L/fIo0VTtP4AN1DLRVO0/CNDAPNFU7T/u/i9D0VTtP8xNM0jRVO0/Erc3TdFU7T+7Oj1S0VTtPx4/mFTRVO0/hrbeVdFU7T/ePCVX0VTtPyHSa1jRVO0//S78V9FU7T/9LttW0VTtP3tDulXRVO0/eGyZVNFU7T+6RB9T0VTtPzoBgVHRVO0/W9PiT9FU7T8du0RO0VTtPw==",
          "dtype": "f8"
         }
        },
        {
         "line": {
          "color": "rgb(250, 0, 0)"
         },
         "mode": "lines",
         "name": "016",
         "opacity": 0.4,
         "type": "scatter",
         "x": [
          0,
          1000000000000,
          2000000000000,
          3000000000000,
          4000000000000,
          5000000000000,
          6000000000000,
          7000000000000,
          8000000000000,
          9000000000000,
          10000000000000,
          11000000000000,
          12000000000000,
          13000000000000,
          14000000000000,
          15000000000000,
          16000000000000,
          17000000000000,
          18000000000000,
          19000000000000,
          20000000000000,
          21000000000000,
          22000000000000,
          23000000000000,
          24000000000000,
          25000000000000,
          26000000000000,
          27000000000000,
          28000000000000,
          29000000000000,
          30000000000000,
          31000000000000,
          32000000000000,
          33000000000000,
          34000000000000,
          35000000000000,
          36000000000000,
          37000000000000,
          38000000000000,
          39000000000000,
          40000000000000
         ],
         "y": {
          "bdata": "mTjWYwxb2j/sDAafclvaP5QXUVSNW9o/AcDYHpRb2j+0vkcNl1vaP7DOIyKYW9o/BgKXIplb2j8/cnhWmVvaPy8pWoqZW9o/5CY8vplb2j8a4UnumVvaP5OOAfiZW9o/jT65AZpb2j8P8XALmlvaPyP+cBSaW9o/J9hCFppb2j9EshQYmlvaP3CM5hmaW9o/OQKWG5pb2j9WPO0bmlvaP3J2RByaW9o/j7CbHJpb2j8DeuwcmlvaP1DO/ByaW9o/liINHZpb2j/fdh0dmlvaP4WWLB2aW9o//6QvHZpb2j95szIdmlvaP/TBNR2aW9o/p5Y4HZpb2j8WKTkdmlvaP4W7OR2aW9o/8006HZpb2j+V1TodmlvaP/XwOh2aW9o/Xww7HZpb2j/DJzsdmlvaPyVBOx2aW9o/QkY7HZpb2j9jSzsdmlvaPw==",
          "dtype": "f8"
         }
        },
        {
         "line": {
          "color": "rgb(220, 0, 0)"
         },
         "mode": "lines",
         "name": "017",
         "opacity": 0.4,
         "type": "scatter",
         "x": [
          0,
          1000000000000,
          2000000000000,
          3000000000000,
          4000000000000,
          5000000000000,
          6000000000000,
          7000000000000,
          8000000000000,
          9000000000000,
          10000000000000,
          11000000000000,
          12000000000000,
          13000000000000,
          14000000000000,
          15000000000000,
          16000000000000,
          17000000000000,
          18000000000000,
          19000000000000,
          20000000000000,
          21000000000000,
          22000000000000,
          23000000000000,
          24000000000000,
          25000000000000,
          26000000000000,
          27000000000000,
          28000000000000,
          29000000000000,
          30000000000000,
          31000000000000,
          32000000000000,
          33000000000000,
          34000000000000,
          35000000000000,
          36000000000000,
          37000000000000,
          38000000000000,
          39000000000000,
          40000000000000
         ],
         "y": {
          "bdata": "4ogo2PIw5j8rbb1fy9DmP98fTQHdmeg/iAqzRK5C6j8ekSG/Dj3qP22369rBPOo/U1WmNPU86j9V4AlMBj3qP9zLqKcIPeo/xo/VjAc96j8JoNiNBj3qP8jivFMGPeo/sWRoHQY96j9df9AIBj3qP78HOvQFPeo/0f2k3wU96j9tMgrPBT3qP3LcoswFPeo/IpY7ygU96j98X9THBT3qP9sV88UFPeo/9VrwxQU96j+LoO3FBT3qP6Dm6sUFPeo/QzzYxQU96j/WlYzFBT3qP3/vQMUFPeo/OEn1xAU96j+w9bjEBT3qP85os8QFPeo/6dutxAU96j8HT6jEBT3qPzvHosQFPeo/o1GdxAU96j8K3JfEBT3qP3FmksQFPeo/Sg6OxAU96j+Mso3EBT3qP8pWjcQFPeo/DvuMxAU96j9Bq4zEBT3qPw==",
          "dtype": "f8"
         }
        },
        {
         "line": {
          "color": "rgb(189, 0, 0)"
         },
         "mode": "lines",
         "name": "018",
         "opacity": 0.4,
         "type": "scatter",
         "x": [
          0,
          1000000000000,
          2000000000000,
          3000000000000,
          4000000000000,
          5000000000000,
          6000000000000,
          7000000000000,
          8000000000000,
          9000000000000,
          10000000000000,
          11000000000000,
          12000000000000,
          13000000000000,
          14000000000000,
          15000000000000,
          16000000000000,
          17000000000000,
          18000000000000,
          19000000000000,
          20000000000000,
          21000000000000,
          22000000000000,
          23000000000000,
          24000000000000,
          25000000000000,
          26000000000000,
          27000000000000,
          28000000000000,
          29000000000000,
          30000000000000,
          31000000000000,
          32000000000000,
          33000000000000,
          34000000000000,
          35000000000000,
          36000000000000,
          37000000000000,
          38000000000000,
          39000000000000,
          40000000000000
         ],
         "y": {
          "bdata": "N2x05Kv14T8A05ogJPbhP0P+9LkJLeI/5ieVPM6V4z+K4r/ezwzkP6MvsRfCDuQ/J4DI1IEO5D8YveAUoA7kP5QIOzC1DuQ/HX6rKbsO5D8U0Q9lvQ7kP/dhBe29DuQ/Gw+W9b0O5D9GdhD9vQ7kP9Rpw/y9DuQ/wM12/L0O5D8Hoir8vQ7kP4BkVvy9DuQ/gT3F/70O5D9xHDQDvg7kP1QBowa+DuQ/0tiHCr4O5D9SoqQRvg7kPyFswRi+DuQ/ODbeH74O5D/SjOkmvg7kP2vzei2+DuQ/NFoMNL4O5D8xwZ06vg7kP9QjXEG+DuQ/stBUSb4O5D+/fU1Rvg7kP/gqRlm+DuQ/cvA3Yb4O5D+Wdflovg7kP+f6unC+DuQ/Z4B8eL4O5D/lZFOAvg7kP96Zv4i+DuQ/Dc8rkb4O5D9vBJiZvg7kPw==",
          "dtype": "f8"
         }
        },
        {
         "line": {
          "color": "rgb(159, 0, 0)"
         },
         "mode": "lines",
         "name": "019",
         "opacity": 0.4,
         "type": "scatter",
         "x": [
          0,
          1000000000000,
          2000000000000,
          3000000000000,
          4000000000000,
          5000000000000,
          6000000000000,
          7000000000000,
          8000000000000,
          9000000000000,
          10000000000000,
          11000000000000,
          12000000000000,
          13000000000000,
          14000000000000,
          15000000000000,
          16000000000000,
          17000000000000,
          18000000000000,
          19000000000000,
          20000000000000,
          21000000000000,
          22000000000000,
          23000000000000,
          24000000000000,
          25000000000000,
          26000000000000,
          27000000000000,
          28000000000000,
          29000000000000,
          30000000000000,
          31000000000000,
          32000000000000,
          33000000000000,
          34000000000000,
          35000000000000,
          36000000000000,
          37000000000000,
          38000000000000,
          39000000000000,
          40000000000000
         ],
         "y": {
          "bdata": "wHVSu9TN4T+oCtK1JM7hPyXN4JuNzuE/Nd5FpLnt4T+M80QgM+jiPxnVSFKDO+M/8YmbUXVA4z8E7K8OvUDjP4+Mjnj3QOM/81t05B1B4z8Ddxu9MEHjP0TaexQ1QeM/J8CGiTRB4z8AN+vFM0HjPxHDmvgyQeM/BLUytDJB4z/cPysiMkHjP9F9te4xQeM/iMukejFB4z8n+kAQMUHjP0ZLau0wQeM/XM4+1DBB4z95zsu/MEHjP7p/kbAwQeM/5ejlpTBB4z+Z5mKfMEHjPwGujK0wQeM/05btvDBB4z/UR1jMMEHjPwHBzNswQeM/fqIG3zBB4z85/HrhMEHjP4R68eMwQeM/Xx1q5jBB4z+ss0PnMEHjP1c6A+gwQeM/0jLD6DBB4z8enYPpMEHjP37y2ekwQeM/Mpkp6jBB4z91VnnqMEHjPw==",
          "dtype": "f8"
         }
        }
       ],
       "layout": {
        "showlegend": false,
        "template": {
         "data": {
          "bar": [
           {
            "error_x": {
             "color": "#2a3f5f"
            },
            "error_y": {
             "color": "#2a3f5f"
            },
            "marker": {
             "line": {
              "color": "#E5ECF6",
              "width": 0.5
             },
             "pattern": {
              "fillmode": "overlay",
              "size": 10,
              "solidity": 0.2
             }
            },
            "type": "bar"
           }
          ],
          "barpolar": [
           {
            "marker": {
             "line": {
              "color": "#E5ECF6",
              "width": 0.5
             },
             "pattern": {
              "fillmode": "overlay",
              "size": 10,
              "solidity": 0.2
             }
            },
            "type": "barpolar"
           }
          ],
          "carpet": [
           {
            "aaxis": {
             "endlinecolor": "#2a3f5f",
             "gridcolor": "white",
             "linecolor": "white",
             "minorgridcolor": "white",
             "startlinecolor": "#2a3f5f"
            },
            "baxis": {
             "endlinecolor": "#2a3f5f",
             "gridcolor": "white",
             "linecolor": "white",
             "minorgridcolor": "white",
             "startlinecolor": "#2a3f5f"
            },
            "type": "carpet"
           }
          ],
          "choropleth": [
           {
            "colorbar": {
             "outlinewidth": 0,
             "ticks": ""
            },
            "type": "choropleth"
           }
          ],
          "contour": [
           {
            "colorbar": {
             "outlinewidth": 0,
             "ticks": ""
            },
            "colorscale": [
             [
              0,
              "#0d0887"
             ],
             [
              0.1111111111111111,
              "#46039f"
             ],
             [
              0.2222222222222222,
              "#7201a8"
             ],
             [
              0.3333333333333333,
              "#9c179e"
             ],
             [
              0.4444444444444444,
              "#bd3786"
             ],
             [
              0.5555555555555556,
              "#d8576b"
             ],
             [
              0.6666666666666666,
              "#ed7953"
             ],
             [
              0.7777777777777778,
              "#fb9f3a"
             ],
             [
              0.8888888888888888,
              "#fdca26"
             ],
             [
              1,
              "#f0f921"
             ]
            ],
            "type": "contour"
           }
          ],
          "contourcarpet": [
           {
            "colorbar": {
             "outlinewidth": 0,
             "ticks": ""
            },
            "type": "contourcarpet"
           }
          ],
          "heatmap": [
           {
            "colorbar": {
             "outlinewidth": 0,
             "ticks": ""
            },
            "colorscale": [
             [
              0,
              "#0d0887"
             ],
             [
              0.1111111111111111,
              "#46039f"
             ],
             [
              0.2222222222222222,
              "#7201a8"
             ],
             [
              0.3333333333333333,
              "#9c179e"
             ],
             [
              0.4444444444444444,
              "#bd3786"
             ],
             [
              0.5555555555555556,
              "#d8576b"
             ],
             [
              0.6666666666666666,
              "#ed7953"
             ],
             [
              0.7777777777777778,
              "#fb9f3a"
             ],
             [
              0.8888888888888888,
              "#fdca26"
             ],
             [
              1,
              "#f0f921"
             ]
            ],
            "type": "heatmap"
           }
          ],
          "histogram": [
           {
            "marker": {
             "pattern": {
              "fillmode": "overlay",
              "size": 10,
              "solidity": 0.2
             }
            },
            "type": "histogram"
           }
          ],
          "histogram2d": [
           {
            "colorbar": {
             "outlinewidth": 0,
             "ticks": ""
            },
            "colorscale": [
             [
              0,
              "#0d0887"
             ],
             [
              0.1111111111111111,
              "#46039f"
             ],
             [
              0.2222222222222222,
              "#7201a8"
             ],
             [
              0.3333333333333333,
              "#9c179e"
             ],
             [
              0.4444444444444444,
              "#bd3786"
             ],
             [
              0.5555555555555556,
              "#d8576b"
             ],
             [
              0.6666666666666666,
              "#ed7953"
             ],
             [
              0.7777777777777778,
              "#fb9f3a"
             ],
             [
              0.8888888888888888,
              "#fdca26"
             ],
             [
              1,
              "#f0f921"
             ]
            ],
            "type": "histogram2d"
           }
          ],
          "histogram2dcontour": [
           {
            "colorbar": {
             "outlinewidth": 0,
             "ticks": ""
            },
            "colorscale": [
             [
              0,
              "#0d0887"
             ],
             [
              0.1111111111111111,
              "#46039f"
             ],
             [
              0.2222222222222222,
              "#7201a8"
             ],
             [
              0.3333333333333333,
              "#9c179e"
             ],
             [
              0.4444444444444444,
              "#bd3786"
             ],
             [
              0.5555555555555556,
              "#d8576b"
             ],
             [
              0.6666666666666666,
              "#ed7953"
             ],
             [
              0.7777777777777778,
              "#fb9f3a"
             ],
             [
              0.8888888888888888,
              "#fdca26"
             ],
             [
              1,
              "#f0f921"
             ]
            ],
            "type": "histogram2dcontour"
           }
          ],
          "mesh3d": [
           {
            "colorbar": {
             "outlinewidth": 0,
             "ticks": ""
            },
            "type": "mesh3d"
           }
          ],
          "parcoords": [
           {
            "line": {
             "colorbar": {
              "outlinewidth": 0,
              "ticks": ""
             }
            },
            "type": "parcoords"
           }
          ],
          "pie": [
           {
            "automargin": true,
            "type": "pie"
           }
          ],
          "scatter": [
           {
            "fillpattern": {
             "fillmode": "overlay",
             "size": 10,
             "solidity": 0.2
            },
            "type": "scatter"
           }
          ],
          "scatter3d": [
           {
            "line": {
             "colorbar": {
              "outlinewidth": 0,
              "ticks": ""
             }
            },
            "marker": {
             "colorbar": {
              "outlinewidth": 0,
              "ticks": ""
             }
            },
            "type": "scatter3d"
           }
          ],
          "scattercarpet": [
           {
            "marker": {
             "colorbar": {
              "outlinewidth": 0,
              "ticks": ""
             }
            },
            "type": "scattercarpet"
           }
          ],
          "scattergeo": [
           {
            "marker": {
             "colorbar": {
              "outlinewidth": 0,
              "ticks": ""
             }
            },
            "type": "scattergeo"
           }
          ],
          "scattergl": [
           {
            "marker": {
             "colorbar": {
              "outlinewidth": 0,
              "ticks": ""
             }
            },
            "type": "scattergl"
           }
          ],
          "scattermap": [
           {
            "marker": {
             "colorbar": {
              "outlinewidth": 0,
              "ticks": ""
             }
            },
            "type": "scattermap"
           }
          ],
          "scattermapbox": [
           {
            "marker": {
             "colorbar": {
              "outlinewidth": 0,
              "ticks": ""
             }
            },
            "type": "scattermapbox"
           }
          ],
          "scatterpolar": [
           {
            "marker": {
             "colorbar": {
              "outlinewidth": 0,
              "ticks": ""
             }
            },
            "type": "scatterpolar"
           }
          ],
          "scatterpolargl": [
           {
            "marker": {
             "colorbar": {
              "outlinewidth": 0,
              "ticks": ""
             }
            },
            "type": "scatterpolargl"
           }
          ],
          "scatterternary": [
           {
            "marker": {
             "colorbar": {
              "outlinewidth": 0,
              "ticks": ""
             }
            },
            "type": "scatterternary"
           }
          ],
          "surface": [
           {
            "colorbar": {
             "outlinewidth": 0,
             "ticks": ""
            },
            "colorscale": [
             [
              0,
              "#0d0887"
             ],
             [
              0.1111111111111111,
              "#46039f"
             ],
             [
              0.2222222222222222,
              "#7201a8"
             ],
             [
              0.3333333333333333,
              "#9c179e"
             ],
             [
              0.4444444444444444,
              "#bd3786"
             ],
             [
              0.5555555555555556,
              "#d8576b"
             ],
             [
              0.6666666666666666,
              "#ed7953"
             ],
             [
              0.7777777777777778,
              "#fb9f3a"
             ],
             [
              0.8888888888888888,
              "#fdca26"
             ],
             [
              1,
              "#f0f921"
             ]
            ],
            "type": "surface"
           }
          ],
          "table": [
           {
            "cells": {
             "fill": {
              "color": "#EBF0F8"
             },
             "line": {
              "color": "white"
             }
            },
            "header": {
             "fill": {
              "color": "#C8D4E3"
             },
             "line": {
              "color": "white"
             }
            },
            "type": "table"
           }
          ]
         },
         "layout": {
          "annotationdefaults": {
           "arrowcolor": "#2a3f5f",
           "arrowhead": 0,
           "arrowwidth": 1
          },
          "autotypenumbers": "strict",
          "coloraxis": {
           "colorbar": {
            "outlinewidth": 0,
            "ticks": ""
           }
          },
          "colorscale": {
           "diverging": [
            [
             0,
             "#8e0152"
            ],
            [
             0.1,
             "#c51b7d"
            ],
            [
             0.2,
             "#de77ae"
            ],
            [
             0.3,
             "#f1b6da"
            ],
            [
             0.4,
             "#fde0ef"
            ],
            [
             0.5,
             "#f7f7f7"
            ],
            [
             0.6,
             "#e6f5d0"
            ],
            [
             0.7,
             "#b8e186"
            ],
            [
             0.8,
             "#7fbc41"
            ],
            [
             0.9,
             "#4d9221"
            ],
            [
             1,
             "#276419"
            ]
           ],
           "sequential": [
            [
             0,
             "#0d0887"
            ],
            [
             0.1111111111111111,
             "#46039f"
            ],
            [
             0.2222222222222222,
             "#7201a8"
            ],
            [
             0.3333333333333333,
             "#9c179e"
            ],
            [
             0.4444444444444444,
             "#bd3786"
            ],
            [
             0.5555555555555556,
             "#d8576b"
            ],
            [
             0.6666666666666666,
             "#ed7953"
            ],
            [
             0.7777777777777778,
             "#fb9f3a"
            ],
            [
             0.8888888888888888,
             "#fdca26"
            ],
            [
             1,
             "#f0f921"
            ]
           ],
           "sequentialminus": [
            [
             0,
             "#0d0887"
            ],
            [
             0.1111111111111111,
             "#46039f"
            ],
            [
             0.2222222222222222,
             "#7201a8"
            ],
            [
             0.3333333333333333,
             "#9c179e"
            ],
            [
             0.4444444444444444,
             "#bd3786"
            ],
            [
             0.5555555555555556,
             "#d8576b"
            ],
            [
             0.6666666666666666,
             "#ed7953"
            ],
            [
             0.7777777777777778,
             "#fb9f3a"
            ],
            [
             0.8888888888888888,
             "#fdca26"
            ],
            [
             1,
             "#f0f921"
            ]
           ]
          },
          "colorway": [
           "#636efa",
           "#EF553B",
           "#00cc96",
           "#ab63fa",
           "#FFA15A",
           "#19d3f3",
           "#FF6692",
           "#B6E880",
           "#FF97FF",
           "#FECB52"
          ],
          "font": {
           "color": "#2a3f5f"
          },
          "geo": {
           "bgcolor": "white",
           "lakecolor": "white",
           "landcolor": "#E5ECF6",
           "showlakes": true,
           "showland": true,
           "subunitcolor": "white"
          },
          "hoverlabel": {
           "align": "left"
          },
          "hovermode": "closest",
          "mapbox": {
           "style": "light"
          },
          "paper_bgcolor": "white",
          "plot_bgcolor": "#E5ECF6",
          "polar": {
           "angularaxis": {
            "gridcolor": "white",
            "linecolor": "white",
            "ticks": ""
           },
           "bgcolor": "#E5ECF6",
           "radialaxis": {
            "gridcolor": "white",
            "linecolor": "white",
            "ticks": ""
           }
          },
          "scene": {
           "xaxis": {
            "backgroundcolor": "#E5ECF6",
            "gridcolor": "white",
            "gridwidth": 2,
            "linecolor": "white",
            "showbackground": true,
            "ticks": "",
            "zerolinecolor": "white"
           },
           "yaxis": {
            "backgroundcolor": "#E5ECF6",
            "gridcolor": "white",
            "gridwidth": 2,
            "linecolor": "white",
            "showbackground": true,
            "ticks": "",
            "zerolinecolor": "white"
           },
           "zaxis": {
            "backgroundcolor": "#E5ECF6",
            "gridcolor": "white",
            "gridwidth": 2,
            "linecolor": "white",
            "showbackground": true,
            "ticks": "",
            "zerolinecolor": "white"
           }
          },
          "shapedefaults": {
           "line": {
            "color": "#2a3f5f"
           }
          },
          "ternary": {
           "aaxis": {
            "gridcolor": "white",
            "linecolor": "white",
            "ticks": ""
           },
           "baxis": {
            "gridcolor": "white",
            "linecolor": "white",
            "ticks": ""
           },
           "bgcolor": "#E5ECF6",
           "caxis": {
            "gridcolor": "white",
            "linecolor": "white",
            "ticks": ""
           }
          },
          "title": {
           "x": 0.05
          },
          "xaxis": {
           "automargin": true,
           "gridcolor": "white",
           "linecolor": "white",
           "ticks": "",
           "title": {
            "standoff": 15
           },
           "zerolinecolor": "white",
           "zerolinewidth": 2
          },
          "yaxis": {
           "automargin": true,
           "gridcolor": "white",
           "linecolor": "white",
           "ticks": "",
           "title": {
            "standoff": 15
           },
           "zerolinecolor": "white",
           "zerolinewidth": 2
          }
         }
        },
        "title": {
         "text": "Entropy generation number - Test Snapshots - Parameter Space 01"
        },
        "xaxis": {
         "tickformat": ".2e",
         "title": {
          "text": "Time [s]"
         }
        },
        "yaxis": {
         "tickformat": ".2f",
         "title": {
          "text": "Entropy [-]"
         }
        }
       }
      }
     },
     "metadata": {},
     "output_type": "display_data"
    }
   ],
   "source": [
    "fig = go.Figure()\n",
    "\n",
    "for idx_snap, entropies in enumerate(entropy_gen_number):\n",
    "    fig.add_trace(go.Scatter(x=list(comsol_data.times.values()),\n",
    "                             y=entropies,\n",
    "                                mode='lines',\n",
    "                                name=f\"{idx_snap:03d}\",\n",
    "                                opacity=0.4,\n",
    "                            line=dict(color=colors[idx_snap])\n",
    "                ))\n",
    "    \n",
    "fig.update_layout(\n",
    "    xaxis_tickformat='.2e',  # Format x-axis numbers to 2 decimal places\n",
    "    yaxis_tickformat='.2f',  # Format y-axis numbers to 2 decimal places\n",
    "    showlegend=False,        # Hide the legend\n",
    "    title=f\"Entropy generation number - {DATA_TYPE} Snapshots - Parameter Space {VERSION}\",       # Optional: add a title\n",
    "    xaxis_title=\"Time [s]\",    # Optional: label for x-axis\n",
    "    yaxis_title=\"Entropy [-]\"     # Optional: label for y-axis\n",
    ")\n",
    "\n",
    "fig.write_image(import_folder / \"Exports\" / f\"{DATA_TYPE}_EntropyGenerationNumber.png\")\n",
    "fig.show()"
   ]
  }
 ],
 "metadata": {
  "kernelspec": {
   "display_name": ".venv",
   "language": "python",
   "name": "python3"
  },
  "language_info": {
   "codemirror_mode": {
    "name": "ipython",
    "version": 3
   },
   "file_extension": ".py",
   "mimetype": "text/x-python",
   "name": "python",
   "nbconvert_exporter": "python",
   "pygments_lexer": "ipython3",
   "version": "3.12.4"
  }
 },
 "nbformat": 4,
 "nbformat_minor": 2
}
