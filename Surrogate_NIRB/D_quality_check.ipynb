{
 "cells": [
  {
   "cell_type": "code",
   "execution_count": 2,
   "metadata": {},
   "outputs": [],
   "source": [
    "import numpy as np\n",
    "from pathlib import Path\n",
    "from helpers import inverse_min_max_scaler\n",
    "import plotly.express as px\n",
    "import plotly.graph_objects as go\n",
    "from plotly.subplots import make_subplots\n",
    "import pyvista as pv\n"
   ]
  },
  {
   "cell_type": "code",
   "execution_count": 3,
   "metadata": {},
   "outputs": [],
   "source": [
    "import sys\n",
    "sys.path.append(str(Path().cwd().parent.parent))\n",
    "from ComsolClasses.comsol_classes import COMSOL_VTU\n",
    "from ComsolClasses.helper import calculate_normal"
   ]
  },
  {
   "cell_type": "code",
   "execution_count": 4,
   "metadata": {},
   "outputs": [
    {
     "data": {
      "text/plain": [
       "True"
      ]
     },
     "execution_count": 4,
     "metadata": {},
     "output_type": "execute_result"
    }
   ],
   "source": [
    "ROOT = Path().cwd().parent / \"Snapshots\" / \"01\" / \"BasisFunctions\"\n",
    "ROOT.exists()"
   ]
  },
  {
   "cell_type": "markdown",
   "metadata": {},
   "source": [
    "### Import"
   ]
  },
  {
   "cell_type": "code",
   "execution_count": 5,
   "metadata": {},
   "outputs": [],
   "source": [
    "min_max = np.load(ROOT / \"min_max.npy\")\n",
    "basis_functions = np.load(ROOT / \"basis_fts_matrix.npy\")"
   ]
  },
  {
   "cell_type": "code",
   "execution_count": 6,
   "metadata": {},
   "outputs": [],
   "source": [
    "basis_functions_scaled = inverse_min_max_scaler(basis_functions, min_max[0], min_max[1])"
   ]
  },
  {
   "cell_type": "code",
   "execution_count": 7,
   "metadata": {},
   "outputs": [],
   "source": [
    "comsol_data = COMSOL_VTU(\"/Users/thomassimader/Documents/NIRB/Snapshots/01/Training/Training_000.vtu\")"
   ]
  },
  {
   "cell_type": "code",
   "execution_count": 8,
   "metadata": {},
   "outputs": [
    {
     "data": {
      "text/plain": [
       "tuple"
      ]
     },
     "execution_count": 8,
     "metadata": {},
     "output_type": "execute_result"
    }
   ],
   "source": [
    "normal = calculate_normal(60, 90)\n",
    "type(normal)"
   ]
  },
  {
   "cell_type": "markdown",
   "metadata": {},
   "source": [
    "### Plot"
   ]
  },
  {
   "cell_type": "code",
   "execution_count": 25,
   "metadata": {},
   "outputs": [
    {
     "data": {
      "application/vnd.jupyter.widget-view+json": {
       "model_id": "d4b6bb73b6b445f7a7dee90aef2cfd2b",
       "version_major": 2,
       "version_minor": 0
      },
      "text/plain": [
       "Widget(value='<iframe src=\"http://localhost:56492/index.html?ui=P_0x6a81d2e10_15&reconnect=auto\" class=\"pyvist…"
      ]
     },
     "metadata": {},
     "output_type": "display_data"
    }
   ],
   "source": [
    "from turtle import title\n",
    "\n",
    "\n",
    "n_cols = 2  # number of columns you want\n",
    "n_rows = int(np.ceil(basis_functions.shape[0] / n_cols))  # calculate required number of rows\n",
    "\n",
    "plotter = pv.Plotter(shape=(n_rows, n_cols))\n",
    "counter = 0\n",
    "for i in range(n_rows):\n",
    "    for j in range(n_cols):\n",
    "        plotter.subplot(i, j)\n",
    "        field_name = f\"basis_function{i}\"\n",
    "        if counter >= basis_functions.shape[0]:\n",
    "            break\n",
    "        comsol_data.mesh.point_data[field_name] = basis_functions_scaled[counter, :]\n",
    "        clipped = comsol_data.mesh.clip(normal=-np.array(normal), origin = comsol_data.mesh.center)\n",
    "        \n",
    "        plotter.add_mesh(clipped, scalars=field_name,\n",
    "                            cmap='jet',\n",
    "                            scalar_bar_args={'title': f'Temperature [K] ({counter})',\n",
    "                                            'label_font_size': 10,\n",
    "                                            'title_font_size': 8,})\n",
    "        counter += 1\n",
    "    \n",
    "plotter.show()"
   ]
  }
 ],
 "metadata": {
  "kernelspec": {
   "display_name": ".venv",
   "language": "python",
   "name": "python3"
  },
  "language_info": {
   "codemirror_mode": {
    "name": "ipython",
    "version": 3
   },
   "file_extension": ".py",
   "mimetype": "text/x-python",
   "name": "python",
   "nbconvert_exporter": "python",
   "pygments_lexer": "ipython3",
   "version": "3.12.4"
  }
 },
 "nbformat": 4,
 "nbformat_minor": 2
}
