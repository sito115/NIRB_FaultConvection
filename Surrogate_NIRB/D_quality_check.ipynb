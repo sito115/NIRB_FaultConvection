{
 "cells": [
  {
   "cell_type": "code",
   "execution_count": 3,
   "metadata": {},
   "outputs": [],
   "source": [
    "import numpy as np\n",
    "from pathlib import Path\n",
    "from helpers import inverse_min_max_scaler\n",
    "import pyvista as pv"
   ]
  },
  {
   "cell_type": "code",
   "execution_count": 4,
   "metadata": {},
   "outputs": [],
   "source": [
    "import sys\n",
    "sys.path.append(str(Path().cwd().parent.parent))\n",
    "from ComsolClasses.comsol_classes import COMSOL_VTU\n",
    "from ComsolClasses.helper import calculate_normal"
   ]
  },
  {
   "cell_type": "code",
   "execution_count": 5,
   "metadata": {},
   "outputs": [
    {
     "data": {
      "text/plain": [
       "True"
      ]
     },
     "execution_count": 5,
     "metadata": {},
     "output_type": "execute_result"
    }
   ],
   "source": [
    "VERSION = \"01\"\n",
    "ROOT = Path().cwd().parent / \"Snapshots\" / VERSION / \"BasisFunctions\"\n",
    "ROOT.exists()"
   ]
  },
  {
   "cell_type": "markdown",
   "metadata": {},
   "source": [
    "### Import"
   ]
  },
  {
   "cell_type": "code",
   "execution_count": 6,
   "metadata": {},
   "outputs": [],
   "source": [
    "min_max = np.load(ROOT / \"min_max.npy\")\n",
    "basis_functions = np.load(ROOT / \"basis_fts_matrix.npy\")\n",
    "information_content = np.load(ROOT / \"information_content.npy\")"
   ]
  },
  {
   "cell_type": "code",
   "execution_count": 7,
   "metadata": {},
   "outputs": [],
   "source": [
    "basis_functions_scaled = inverse_min_max_scaler(basis_functions, min_max[0], min_max[1])"
   ]
  },
  {
   "cell_type": "code",
   "execution_count": 8,
   "metadata": {},
   "outputs": [],
   "source": [
    "comsol_data = COMSOL_VTU(\"/Users/thomassimader/Documents/NIRB/Snapshots/01/Training/Training_000.vtu\")"
   ]
  },
  {
   "cell_type": "code",
   "execution_count": 9,
   "metadata": {},
   "outputs": [],
   "source": [
    "normal = calculate_normal(60, 90)"
   ]
  },
  {
   "cell_type": "markdown",
   "metadata": {},
   "source": [
    "### Plot"
   ]
  },
  {
   "cell_type": "code",
   "execution_count": 10,
   "metadata": {},
   "outputs": [
    {
     "data": {
      "application/vnd.jupyter.widget-view+json": {
       "model_id": "398598ed26e343cc91f3d8bededa92a8",
       "version_major": 2,
       "version_minor": 0
      },
      "text/plain": [
       "Widget(value='<iframe src=\"http://localhost:61220/index.html?ui=P_0x1236b2ed0_0&reconnect=auto\" class=\"pyvista…"
      ]
     },
     "metadata": {},
     "output_type": "display_data"
    }
   ],
   "source": [
    "n_cols = 2  # number of columns you want\n",
    "n_rows = int(np.ceil(basis_functions.shape[0] / n_cols))  # calculate required number of rows\n",
    "\n",
    "plotter = pv.Plotter(shape=(n_rows, n_cols), window_size=(1300, 1200), title=f\"Basis functions - Parameter Space {VERSION}\")\n",
    "counter = 0\n",
    "for i in range(n_rows):\n",
    "    for j in range(n_cols):\n",
    "        plotter.subplot(i, j)\n",
    "        field_name = f\"basis_function{i}\"\n",
    "        if counter >= basis_functions.shape[0]:\n",
    "            break\n",
    "        comsol_data.mesh.point_data[field_name] = basis_functions_scaled[counter, :]\n",
    "        clipped = comsol_data.mesh.clip(normal=-np.array(normal), origin = comsol_data.mesh.center)\n",
    "        \n",
    "        plotter.add_mesh(clipped, scalars=field_name,\n",
    "                            cmap='jet',\n",
    "                            scalar_bar_args={'title': f'Temperature [K] ({counter})',\n",
    "                                            'label_font_size': 10,\n",
    "        \n",
    "                                            'title_font_size': 8,})\n",
    "        text_string = f\"Basis Function {counter + 1}\"\n",
    "        try:\n",
    "            text_string = text_string + f\"({information_content[counter] * 100:.2f} %)\"\n",
    "        except NameError:\n",
    "            pass\n",
    "        plotter.add_text(text_string)\n",
    "        plotter.add_axes(line_width=1.)\n",
    "        plotter.add_bounding_box()\n",
    "        plotter.show_grid(\n",
    "            font_size=6,\n",
    "            # location='outer',\n",
    "            n_xlabels=3,  # number of labels (ticks) on x-axis\n",
    "            n_ylabels=3,  # number of labels (ticks) on y-axis\n",
    "            n_zlabels=3,  # number of labels (ticks) on z-axis\n",
    "            color='gray',\n",
    "            xtitle='',\n",
    "            ytitle='',\n",
    "            ztitle='',\n",
    "                          )\n",
    "        counter += 1\n",
    "\n",
    "plotter.show(screenshot=ROOT / \"basis_functions.png\")"
   ]
  }
 ],
 "metadata": {
  "kernelspec": {
   "display_name": ".venv",
   "language": "python",
   "name": "python3"
  },
  "language_info": {
   "codemirror_mode": {
    "name": "ipython",
    "version": 3
   },
   "file_extension": ".py",
   "mimetype": "text/x-python",
   "name": "python",
   "nbconvert_exporter": "python",
   "pygments_lexer": "ipython3",
   "version": "3.12.4"
  }
 },
 "nbformat": 4,
 "nbformat_minor": 2
}
