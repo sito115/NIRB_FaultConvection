{
 "cells": [
  {
   "cell_type": "code",
   "execution_count": 2,
   "metadata": {},
   "outputs": [],
   "source": [
    "import lightning as L\n",
    "from E_coefficients_model import NirbModule\n",
    "import numpy as np\n",
    "import torch\n",
    "import random \n",
    "import plotly.graph_objects as go\n",
    "import plotly.express as px\n",
    "from pathlib import Path\n",
    "from helpers import load_pint_data, inverse_min_max_scaler\n",
    "import pyvista as pv\n",
    "import pickle"
   ]
  },
  {
   "cell_type": "code",
   "execution_count": 3,
   "metadata": {},
   "outputs": [],
   "source": [
    "import sys\n",
    "sys.path.append(str(Path().cwd().parent.parent))\n",
    "from ComsolClasses.comsol_classes import COMSOL_VTU\n",
    "from ComsolClasses.helper import calculate_normal"
   ]
  },
  {
   "cell_type": "code",
   "execution_count": 4,
   "metadata": {},
   "outputs": [
    {
     "data": {
      "text/plain": [
       "True"
      ]
     },
     "execution_count": 4,
     "metadata": {},
     "output_type": "execute_result"
    }
   ],
   "source": [
    "VERSION = \"01\"\n",
    "ROOT = Path.cwd().parent / \"Snapshots\" / VERSION\n",
    "ROOT.exists()"
   ]
  },
  {
   "cell_type": "code",
   "execution_count": 5,
   "metadata": {},
   "outputs": [
    {
     "name": "stdout",
     "output_type": "stream",
     "text": [
      "00 (version_14): epoch=19999-step=60000.ckpt\n",
      "01 (version_15): epoch=19999-step=60000.ckpt\n",
      "02 (version_16): epoch=39999-step=120000.ckpt\n",
      "03 (version_20): epoch=99999-step=300000.ckpt\n",
      "04 (version_22): epoch=63962-step=191889.ckpt\n",
      "05 (version_23): epoch=41471-step=82944.ckpt\n",
      "06 (version_24): epoch=199999-step=400000.ckpt\n",
      "07 (version_25): epoch=299999-step=600000.ckpt\n",
      "08 (version_26): epoch=52520-step=105042.ckpt\n",
      "09 (version_27): epoch=99999-step=200000.ckpt\n",
      "10 (version_28): epoch=249999-step=500000.ckpt\n",
      "11 (version_30): epoch=236356-step=236357.ckpt\n",
      "12 (version_33): epoch=7174-step=7175.ckpt\n",
      "13 (version_34): epoch=59529-step=59530.ckpt\n",
      "14 (version_35): epoch=199999-step=200000.ckpt\n",
      "15 (version_36): epoch=160489-step=160490.ckpt\n"
     ]
    }
   ],
   "source": [
    "chk_pt_paths = [path for path in (ROOT / \"nn_logs\").rglob(\"*.ckpt\")]\n",
    "chk_pt_paths = sorted(chk_pt_paths, key = lambda p: p.parent.parent.stem)\n",
    "\n",
    "for idx, path in enumerate(chk_pt_paths):\n",
    "    print(f\"{idx:02d} ({path.parent.parent.stem}): {path.name}\")"
   ]
  },
  {
   "cell_type": "code",
   "execution_count": 6,
   "metadata": {},
   "outputs": [],
   "source": [
    "# ckpt = torch.load(chk_pt_paths[10], map_location=\"cpu\")\n",
    "# for key in ckpt['state_dict'].keys():\n",
    "#     print(key)\n",
    "# for k, v in ckpt['state_dict'].items():\n",
    "#     print(k, v.shape)\n",
    "# print(ckpt.get(\"hyper_parameters\", {}))\n",
    "# print(ckpt.get(\"hyper_parameters\", {}))"
   ]
  },
  {
   "cell_type": "code",
   "execution_count": 7,
   "metadata": {},
   "outputs": [],
   "source": [
    "chk_pt_path = chk_pt_paths[11]"
   ]
  },
  {
   "cell_type": "code",
   "execution_count": 8,
   "metadata": {},
   "outputs": [
    {
     "name": "stderr",
     "output_type": "stream",
     "text": [
      "/Users/thomassimader/Documents/NIRB/.venv/lib/python3.12/site-packages/lightning/pytorch/utilities/parsing.py:209: Attribute 'activation' is an instance of `nn.Module` and is already saved during checkpointing. It is recommended to ignore them using `self.save_hyperparameters(ignore=['activation'])`.\n"
     ]
    },
    {
     "data": {
      "text/plain": [
       "NirbModule(\n",
       "  (loss): MSELoss()\n",
       "  (activation): Sigmoid()\n",
       "  (model): NIRB_NN(\n",
       "    (layers): Sequential(\n",
       "      (0): Linear(in_features=2, out_features=6, bias=True)\n",
       "      (1): Sigmoid()\n",
       "      (2): Linear(in_features=6, out_features=16, bias=True)\n",
       "      (3): Sigmoid()\n",
       "      (4): Linear(in_features=16, out_features=32, bias=True)\n",
       "      (5): Sigmoid()\n",
       "      (6): Linear(in_features=32, out_features=64, bias=True)\n",
       "      (7): Sigmoid()\n",
       "      (8): Linear(in_features=64, out_features=32, bias=True)\n",
       "      (9): Sigmoid()\n",
       "      (10): Linear(in_features=32, out_features=7, bias=True)\n",
       "    )\n",
       "  )\n",
       "  (msa_metric): MeanAbsoluteError()\n",
       ")"
      ]
     },
     "execution_count": 8,
     "metadata": {},
     "output_type": "execute_result"
    }
   ],
   "source": [
    "\n",
    "trained_model = NirbModule.load_from_checkpoint(chk_pt_path)\n",
    "trained_model = trained_model.to('cpu')\n",
    "trained_model.eval()"
   ]
  },
  {
   "cell_type": "code",
   "execution_count": 9,
   "metadata": {},
   "outputs": [],
   "source": [
    "def mse(predictions, targets):\n",
    "    return np.mean(np.square(predictions - targets))"
   ]
  },
  {
   "cell_type": "code",
   "execution_count": 10,
   "metadata": {},
   "outputs": [],
   "source": [
    "basis_functions             = np.load(ROOT / \"BasisFunctions\" / \"basis_fts_matrix.npy\")\n",
    "training_snapshots_npy      = np.load(ROOT / \"Exports\" / \"temperatures.npy\")\n",
    "training_parameters_npy     = load_pint_data(ROOT / \"training_samples.csv\", is_numpy = True)\n",
    "min_max                     = np.load(ROOT / \"BasisFunctions\" / \"min_max.npy\")\n",
    "\n",
    "\n",
    "# test_snapshots            = np.load('Data/GrSbk_val_snapshots.npy')[0, :, :]\n",
    "# test_parameters       = np.load('Data/GrSbk_ValidationParameters.npy')\n"
   ]
  },
  {
   "cell_type": "code",
   "execution_count": 11,
   "metadata": {},
   "outputs": [],
   "source": [
    "# Prepare data\n",
    "n_training = 80\n",
    "training_snapshots  = training_snapshots_npy[:n_training, -1, :] # last time step\n",
    "training_parameters = training_parameters_npy[:n_training, 2:]\n",
    "test_snapshots      = training_snapshots_npy[n_training:, -1, :]\n",
    "test_parameters     = training_parameters_npy[n_training:, 2:]"
   ]
  },
  {
   "cell_type": "code",
   "execution_count": 12,
   "metadata": {},
   "outputs": [],
   "source": [
    "training_vtus = list((ROOT / \"Training\").glob(\"Training_*\"))\n",
    "test_snapshots = sorted([p for p in training_vtus if int(p.stem.split(\"_\")[1]) >= n_training])\n"
   ]
  },
  {
   "cell_type": "code",
   "execution_count": 13,
   "metadata": {},
   "outputs": [],
   "source": [
    "# Calculate mean/var from training snapshots\n",
    "mean = np.mean(training_parameters, axis=0)\n",
    "var = np.var(training_parameters, axis=0)\n",
    "# Standardization\n",
    "training_parameters    = (training_parameters - mean)/np.sqrt(var)\n",
    "test_parameters        = (test_parameters - mean)/np.sqrt(var)"
   ]
  },
  {
   "cell_type": "code",
   "execution_count": 14,
   "metadata": {},
   "outputs": [],
   "source": [
    "predictions_train = trained_model(torch.from_numpy(training_parameters.astype(np.float32))) \n",
    "predictions_test  = trained_model(torch.from_numpy(test_parameters.astype(np.float32)))"
   ]
  },
  {
   "cell_type": "code",
   "execution_count": 15,
   "metadata": {},
   "outputs": [],
   "source": [
    "full_solution_train = np.matmul(predictions_train.detach().numpy(), basis_functions)\n",
    "full_solution_test = np.matmul(predictions_test.detach().numpy(), basis_functions)"
   ]
  },
  {
   "cell_type": "code",
   "execution_count": 16,
   "metadata": {},
   "outputs": [],
   "source": [
    "mse_train = mse(full_solution_train, training_snapshots)\n",
    "# mse_test = mse(full_solution_test, test_snapshots )"
   ]
  },
  {
   "cell_type": "code",
   "execution_count": 17,
   "metadata": {},
   "outputs": [
    {
     "name": "stdout",
     "output_type": "stream",
     "text": [
      "-66.97588766425872\n",
      "1.383e+05\n"
     ]
    }
   ],
   "source": [
    "# Variance of targets\n",
    "# var_val = np.var(test_snapshots, axis=0)\n",
    "var_train = np.var(training_snapshots, axis=0)\n",
    "\n",
    "# R² and Q²\n",
    "R2 = 1 - (np.sum((full_solution_train-training_snapshots)**2) / np.sum((training_snapshots-np.mean(training_snapshots))**2))\n",
    "# Q2 =  1 - (np.sum((full_solution_test-test_snapshots)**2) / np.sum((test_snapshots-np.mean(test_snapshots))**2))\n",
    "\n",
    "# Aggregated if needed\n",
    "toShowR2 = np.average(R2)\n",
    "# toReturnQ2 = np.average(Q2)\n",
    "print(toShowR2)\n",
    "# print(toReturnQ2)\n",
    "print(f\"{np.average(mse_train):.3e}\")\n",
    "# print(f\"{np.average(mse_test):.3e}\")"
   ]
  },
  {
   "cell_type": "code",
   "execution_count": 18,
   "metadata": {},
   "outputs": [],
   "source": [
    "comsol_data = COMSOL_VTU(\"/Users/thomassimader/Documents/NIRB/Snapshots/01/Training/Training_000.vtu\")\n",
    "normal = calculate_normal(60, 90)"
   ]
  },
  {
   "cell_type": "code",
   "execution_count": null,
   "metadata": {},
   "outputs": [
    {
     "data": {
      "application/vnd.jupyter.widget-view+json": {
       "model_id": "9125cf1cac2b41fe96f070e65d9d66e6",
       "version_major": 2,
       "version_minor": 0
      },
      "text/plain": [
       "Widget(value='<iframe src=\"http://localhost:52115/index.html?ui=P_0x1646c3b30_1&reconnect=auto\" class=\"pyvista…"
      ]
     },
     "metadata": {},
     "output_type": "display_data"
    }
   ],
   "source": [
    "N = 5\n",
    "random.seed(3123)\n",
    "samples = random.sample(range(len(test_snapshots)), N)\n",
    "colors = px.colors.sample_colorscale(\"thermal\", [n/(N -1) for n in range(N)])\n",
    "# Initialize the figure\n",
    "n_cols = 2  # number of columns you want\n",
    "\n",
    "plotter = pv.Plotter(shape=(N, n_cols), window_size=(1300, 1200))\n",
    "counter = 0\n",
    "# Loop through the samples and plot\n",
    "for i in range(N):\n",
    "    sample_idx = samples[i]\n",
    "    plotter.subplot(i, 0)\n",
    "    counter += 1\n",
    "    field_name = f\"Test Sample {sample_idx}\"\n",
    "    \n",
    "    param = test_parameters[sample_idx]\n",
    "    param_t = torch.from_numpy(param.astype(np.float32)).view(1, -1)\n",
    "    res = trained_model(param_t)\n",
    "    res_np = res.detach().numpy()\n",
    "    my_sol = np.dot(res_np.flatten(), basis_functions)\n",
    "    my_sol = inverse_min_max_scaler(my_sol, min_max[0], min_max[1])\n",
    "    \n",
    "    comsol_data.mesh.point_data[field_name] = my_sol\n",
    "    clipped = comsol_data.mesh.clip(normal=-np.array(normal), origin = comsol_data.mesh.center)\n",
    "    \n",
    "    plotter.add_mesh(clipped, scalars=field_name,\n",
    "                        cmap='jet',\n",
    "                        scalar_bar_args={'title': f'Temperature [K] ({counter})',\n",
    "                                        'label_font_size': 10,\n",
    "                                        'title_font_size': 8,})\n",
    "    plotter.add_text(f\"NIRB (Sample {sample_idx:03d})\")\n",
    "    plotter.add_axes(line_width=1.)\n",
    "    plotter.add_bounding_box()\n",
    "    plotter.show_grid(\n",
    "        font_size=6,\n",
    "        # location='outer',\n",
    "        n_xlabels=3,  # number of labels (ticks) on x-axis\n",
    "        n_ylabels=3,  # number of labels (ticks) on y-axis\n",
    "        n_zlabels=3,  # number of labels (ticks) on z-axis\n",
    "        color='gray',\n",
    "        xtitle='',\n",
    "        ytitle='',\n",
    "        ztitle='',\n",
    "                        )\n",
    "    plotter.subplot(i, 1)\n",
    "    counter += 1\n",
    "    test_snap = COMSOL_VTU(test_snapshots[sample_idx])\n",
    "    clipped = test_snap.mesh.clip(normal=-np.array(normal), origin = comsol_data.mesh.center)\n",
    "    plotter.add_mesh(clipped, scalars=test_snap.format_fied(\"Temperature\", -1),\n",
    "                    cmap='jet',\n",
    "                    scalar_bar_args={'title': f'Temperature [K] ({counter})',\n",
    "                                    'label_font_size': 10,\n",
    "                                    'title_font_size': 8,})\n",
    "    plotter.add_text(f\"Original (Sample {sample_idx:03d})\")\n",
    "    plotter.add_axes(line_width=1.)\n",
    "    plotter.add_bounding_box()\n",
    "    plotter.show_grid(\n",
    "        font_size=6,\n",
    "        # location='outer',\n",
    "        n_xlabels=3,  # number of labels (ticks) on x-axis\n",
    "        n_ylabels=3,  # number of labels (ticks) on y-axis\n",
    "        n_zlabels=3,  # number of labels (ticks) on z-axis\n",
    "        color='gray',\n",
    "        xtitle='',\n",
    "        ytitle='',\n",
    "        ztitle='',\n",
    "                        )\n",
    "    \n",
    "    \n",
    "\n",
    "plotter.show()\n"
   ]
  }
 ],
 "metadata": {
  "kernelspec": {
   "display_name": ".venv",
   "language": "python",
   "name": "python3"
  },
  "language_info": {
   "codemirror_mode": {
    "name": "ipython",
    "version": 3
   },
   "file_extension": ".py",
   "mimetype": "text/x-python",
   "name": "python",
   "nbconvert_exporter": "python",
   "pygments_lexer": "ipython3",
   "version": "3.12.4"
  }
 },
 "nbformat": 4,
 "nbformat_minor": 2
}
