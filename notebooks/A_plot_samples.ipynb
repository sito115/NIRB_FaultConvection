{
 "cells": [
  {
   "cell_type": "code",
   "execution_count": 1,
   "metadata": {},
   "outputs": [],
   "source": [
    "from pathlib import Path\n",
    "import pandas as pd\n",
    "import pint\n",
    "import pint_pandas\n",
    "import matplotlib.pyplot as plt\n",
    "import numpy as np\n",
    "import sys"
   ]
  },
  {
   "cell_type": "code",
   "execution_count": 56,
   "metadata": {},
   "outputs": [],
   "source": [
    "sys.path.append(str(Path.cwd().parent))"
   ]
  },
  {
   "cell_type": "code",
   "execution_count": 57,
   "metadata": {},
   "outputs": [],
   "source": [
    "from src.utils import load_pint_data\n",
    "from src.utils.pint_units import PREFERRED_UNITS"
   ]
  },
  {
   "cell_type": "code",
   "execution_count": 58,
   "metadata": {},
   "outputs": [
    {
     "name": "stdout",
     "output_type": "stream",
     "text": [
      "/Users/thomassimader/Documents/NIRB\n"
     ]
    }
   ],
   "source": [
    "ROOT = Path.cwd().parent\n",
    "IS_EXPORT = True\n",
    "VERSION = \"07\"\n",
    "DATA_TYPE = \"Test\"\n",
    "print(ROOT)"
   ]
  },
  {
   "cell_type": "code",
   "execution_count": 59,
   "metadata": {},
   "outputs": [
    {
     "data": {
      "application/vnd.microsoft.datawrangler.viewer.v0+json": {
       "columns": [
        {
         "name": "index",
         "rawType": "object",
         "type": "string"
        },
        {
         "name": "0",
         "rawType": "object",
         "type": "unknown"
        }
       ],
       "ref": "8a22ce76-c40f-4371-95c5-cb59384ff34a",
       "rows": [
        [
         "T_h",
         "pint[kelvin][float64]"
        ]
       ],
       "shape": {
        "columns": 1,
        "rows": 1
       }
      },
      "text/plain": [
       "T_h    pint[kelvin][float64]\n",
       "dtype: object"
      ]
     },
     "execution_count": 59,
     "metadata": {},
     "output_type": "execute_result"
    }
   ],
   "source": [
    "df_path = ROOT  / \"data\" / VERSION/ f\"{DATA_TYPE.lower()}_samples.csv\"\n",
    "assert df_path.exists()\n",
    "df_training = load_pint_data(df_path)\n",
    "df_training.dtypes"
   ]
  },
  {
   "cell_type": "code",
   "execution_count": 60,
   "metadata": {},
   "outputs": [],
   "source": [
    "for col in df_training.columns:\n",
    "    if df_training[col].pint.dimensionality in PREFERRED_UNITS:\n",
    "        unit = PREFERRED_UNITS[df_training[col].pint.dimensionality]\n",
    "        df_training[col] = df_training[col].pint.to(unit)\n",
    "units = df_training.dtypes\n",
    "col_names = [f\"{name} ({unit.units:~P})\" for name, unit in zip(df_training.columns, units)]\n",
    "df_training.columns = col_names"
   ]
  },
  {
   "cell_type": "code",
   "execution_count": 61,
   "metadata": {},
   "outputs": [
    {
     "data": {
      "application/vnd.microsoft.datawrangler.viewer.v0+json": {
       "columns": [
        {
         "name": "index",
         "rawType": "object",
         "type": "string"
        },
        {
         "name": "('T_h (°C)', 'degree_Celsius')",
         "rawType": "float64",
         "type": "float"
        }
       ],
       "ref": "4cdd9941-6d6e-458d-ab92-f60d0898a1f9",
       "rows": [
        [
         "count",
         "20.0"
        ],
        [
         "min",
         "132.857498218273"
        ],
        [
         "max",
         "219.50989016076562"
        ]
       ],
       "shape": {
        "columns": 1,
        "rows": 3
       }
      },
      "text/html": [
       "<div>\n",
       "<style scoped>\n",
       "    .dataframe tbody tr th:only-of-type {\n",
       "        vertical-align: middle;\n",
       "    }\n",
       "\n",
       "    .dataframe tbody tr th {\n",
       "        vertical-align: top;\n",
       "    }\n",
       "\n",
       "    .dataframe thead tr th {\n",
       "        text-align: left;\n",
       "    }\n",
       "</style>\n",
       "<table border=\"1\" class=\"dataframe\">\n",
       "  <thead>\n",
       "    <tr>\n",
       "      <th></th>\n",
       "      <th>T_h (°C)</th>\n",
       "    </tr>\n",
       "    <tr>\n",
       "      <th>unit</th>\n",
       "      <th>degree_Celsius</th>\n",
       "    </tr>\n",
       "  </thead>\n",
       "  <tbody>\n",
       "    <tr>\n",
       "      <th>count</th>\n",
       "      <td>20.000000</td>\n",
       "    </tr>\n",
       "    <tr>\n",
       "      <th>min</th>\n",
       "      <td>132.857498</td>\n",
       "    </tr>\n",
       "    <tr>\n",
       "      <th>max</th>\n",
       "      <td>219.509890</td>\n",
       "    </tr>\n",
       "  </tbody>\n",
       "</table>\n",
       "</div>"
      ],
      "text/plain": [
       "            T_h (°C)\n",
       "unit  degree_Celsius\n",
       "count      20.000000\n",
       "min       132.857498\n",
       "max       219.509890"
      ]
     },
     "execution_count": 61,
     "metadata": {},
     "output_type": "execute_result"
    }
   ],
   "source": [
    "temp = df_training.pint.dequantify().agg([\"count\" ,\"min\", \"max\"])\n",
    "temp"
   ]
  },
  {
   "cell_type": "code",
   "execution_count": 62,
   "metadata": {},
   "outputs": [],
   "source": [
    "for column in df_training.columns:  # Loop through the first level of the column multi-index\n",
    "    df_training[column] = df_training[column].apply(lambda x: x.magnitude)  # Apply unit (adjust 'meter' to fit your case)\n"
   ]
  },
  {
   "cell_type": "code",
   "execution_count": 63,
   "metadata": {},
   "outputs": [
    {
     "data": {
      "application/vnd.microsoft.datawrangler.viewer.v0+json": {
       "columns": [
        {
         "name": "index",
         "rawType": "object",
         "type": "string"
        },
        {
         "name": "T_h (°C)",
         "rawType": "float64",
         "type": "float"
        }
       ],
       "ref": "8d1a2d37-bf0a-4f7d-979f-e1d3675584d3",
       "rows": [
        [
         "count",
         "20.0"
        ],
        [
         "mean",
         "175.59562199855122"
        ],
        [
         "std",
         "27.615748552748954"
        ],
        [
         "min",
         "132.857498218273"
        ],
        [
         "25%",
         "154.67139339232295"
        ],
        [
         "50%",
         "167.63912787256416"
        ],
        [
         "75%",
         "200.67303808821742"
        ],
        [
         "max",
         "219.50989016076562"
        ]
       ],
       "shape": {
        "columns": 1,
        "rows": 8
       }
      },
      "text/html": [
       "<div>\n",
       "<style scoped>\n",
       "    .dataframe tbody tr th:only-of-type {\n",
       "        vertical-align: middle;\n",
       "    }\n",
       "\n",
       "    .dataframe tbody tr th {\n",
       "        vertical-align: top;\n",
       "    }\n",
       "\n",
       "    .dataframe thead th {\n",
       "        text-align: right;\n",
       "    }\n",
       "</style>\n",
       "<table border=\"1\" class=\"dataframe\">\n",
       "  <thead>\n",
       "    <tr style=\"text-align: right;\">\n",
       "      <th></th>\n",
       "      <th>T_h (°C)</th>\n",
       "    </tr>\n",
       "  </thead>\n",
       "  <tbody>\n",
       "    <tr>\n",
       "      <th>count</th>\n",
       "      <td>20.000000</td>\n",
       "    </tr>\n",
       "    <tr>\n",
       "      <th>mean</th>\n",
       "      <td>175.595622</td>\n",
       "    </tr>\n",
       "    <tr>\n",
       "      <th>std</th>\n",
       "      <td>27.615749</td>\n",
       "    </tr>\n",
       "    <tr>\n",
       "      <th>min</th>\n",
       "      <td>132.857498</td>\n",
       "    </tr>\n",
       "    <tr>\n",
       "      <th>25%</th>\n",
       "      <td>154.671393</td>\n",
       "    </tr>\n",
       "    <tr>\n",
       "      <th>50%</th>\n",
       "      <td>167.639128</td>\n",
       "    </tr>\n",
       "    <tr>\n",
       "      <th>75%</th>\n",
       "      <td>200.673038</td>\n",
       "    </tr>\n",
       "    <tr>\n",
       "      <th>max</th>\n",
       "      <td>219.509890</td>\n",
       "    </tr>\n",
       "  </tbody>\n",
       "</table>\n",
       "</div>"
      ],
      "text/plain": [
       "         T_h (°C)\n",
       "count   20.000000\n",
       "mean   175.595622\n",
       "std     27.615749\n",
       "min    132.857498\n",
       "25%    154.671393\n",
       "50%    167.639128\n",
       "75%    200.673038\n",
       "max    219.509890"
      ]
     },
     "execution_count": 63,
     "metadata": {},
     "output_type": "execute_result"
    }
   ],
   "source": [
    "df_training.describe()"
   ]
  },
  {
   "cell_type": "code",
   "execution_count": 64,
   "metadata": {},
   "outputs": [
    {
     "data": {
      "image/png": "[encoded data removed]",
      "text/plain": [
       "<Figure size 1000x600 with 1 Axes>"
      ]
     },
     "metadata": {},
     "output_type": "display_data"
    }
   ],
   "source": [
    "df_training.hist(figsize=(10, 6), alpha=0.7);\n",
    "if IS_EXPORT:\n",
    "    plt.savefig(df_path.parent / f\"{DATA_TYPE}_histogram.png\", dpi=300, bbox_inches='tight')  # You can change the filename and format\n",
    "plt.show()  # Close the figure if you're done with it\n"
   ]
  },
  {
   "cell_type": "code",
   "execution_count": 65,
   "metadata": {},
   "outputs": [
    {
     "data": {
      "text/plain": [
       "array([[<Axes: xlabel='T_h (°C)', ylabel='T_h (°C)'>]], dtype=object)"
      ]
     },
     "execution_count": 65,
     "metadata": {},
     "output_type": "execute_result"
    },
    {
     "data": {
      "image/png": "[encoded data removed]",
      "text/plain": [
       "<Figure size 640x480 with 1 Axes>"
      ]
     },
     "metadata": {},
     "output_type": "display_data"
    }
   ],
   "source": [
    "df_transformed = df_training.copy()\n",
    "first_col = df_training.columns[0]\n",
    "df_transformed[first_col] = np.log10(df_training[first_col])\n",
    "pd.plotting.scatter_matrix(df_transformed)"
   ]
  },
  {
   "cell_type": "code",
   "execution_count": 66,
   "metadata": {},
   "outputs": [
    {
     "data": {
      "image/png": "[encoded data removed]",
      "text/plain": [
       "<Figure size 1000x600 with 1 Axes>"
      ]
     },
     "metadata": {},
     "output_type": "display_data"
    }
   ],
   "source": [
    "df_training.apply(lambda x : np.log10(x)).hist(figsize=(10, 6), alpha=0.7);\n",
    "if IS_EXPORT:\n",
    "    plt.savefig(df_path.parent / f\"{DATA_TYPE}_histogram_log.png\", dpi=300, bbox_inches='tight')  # You can change the filename and format\n",
    "plt.show()  # Close the figure if you're done with it"
   ]
  }
 ],
 "metadata": {
  "kernelspec": {
   "display_name": ".venv",
   "language": "python",
   "name": "python3"
  },
  "language_info": {
   "codemirror_mode": {
    "name": "ipython",
    "version": 3
   },
   "file_extension": ".py",
   "mimetype": "text/x-python",
   "name": "python",
   "nbconvert_exporter": "python",
   "pygments_lexer": "ipython3",
   "version": "3.12.4"
  }
 },
 "nbformat": 4,
 "nbformat_minor": 2
}
