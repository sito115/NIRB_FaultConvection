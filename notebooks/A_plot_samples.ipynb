{
 "cells": [
  {
   "cell_type": "code",
   "execution_count": 1,
   "metadata": {},
   "outputs": [],
   "source": [
    "from pathlib import Path\n",
    "import pandas as pd\n",
    "import pint\n",
    "import pint_pandas\n",
    "import matplotlib.pyplot as plt\n",
    "import numpy as np\n",
    "import sys"
   ]
  },
  {
   "cell_type": "code",
   "execution_count": 2,
   "metadata": {},
   "outputs": [],
   "source": [
    "sys.path.append(str(Path.cwd().parent))"
   ]
  },
  {
   "cell_type": "code",
   "execution_count": 3,
   "metadata": {},
   "outputs": [],
   "source": [
    "from src.utils import load_pint_data\n",
    "from src.utils.pint_units import PREFERRED_UNITS"
   ]
  },
  {
   "cell_type": "code",
   "execution_count": 4,
   "metadata": {},
   "outputs": [
    {
     "name": "stdout",
     "output_type": "stream",
     "text": [
      "/Users/thomassimader/Documents/NIRB\n"
     ]
    }
   ],
   "source": [
    "ROOT = Path.cwd().parent\n",
    "VERSION = \"01\"\n",
    "DATA_TYPE = \"Training\"\n",
    "print(ROOT)"
   ]
  },
  {
   "cell_type": "code",
   "execution_count": 5,
   "metadata": {},
   "outputs": [
    {
     "data": {
      "text/plain": [
       "host_k    pint[meter ** 2][float64]\n",
       "T_h           pint[kelvin][float64]\n",
       "dtype: object"
      ]
     },
     "execution_count": 5,
     "metadata": {},
     "output_type": "execute_result"
    }
   ],
   "source": [
    "df_path = ROOT  / \"data\" / VERSION/ f\"{DATA_TYPE.lower()}_samples.csv\"\n",
    "assert df_path.exists()\n",
    "df_training = load_pint_data(df_path)\n",
    "df_training.dtypes"
   ]
  },
  {
   "cell_type": "code",
   "execution_count": 6,
   "metadata": {},
   "outputs": [],
   "source": [
    "for col in df_training.columns:\n",
    "    if df_training[col].pint.dimensionality in PREFERRED_UNITS:\n",
    "        unit = PREFERRED_UNITS[df_training[col].pint.dimensionality]\n",
    "        df_training[col] = df_training[col].pint.to(unit)\n",
    "units = df_training.dtypes\n",
    "col_names = [f\"{name} ({unit.units:~P})\" for name, unit in zip(df_training.columns, units)]\n",
    "df_training.columns = col_names"
   ]
  },
  {
   "cell_type": "code",
   "execution_count": null,
   "metadata": {},
   "outputs": [],
   "source": [
    "df_training"
   ]
  },
  {
   "cell_type": "code",
   "execution_count": 20,
   "metadata": {},
   "outputs": [
    {
     "data": {
      "application/vnd.microsoft.datawrangler.viewer.v0+json": {
       "columns": [
        {
         "name": "index",
         "rawType": "object",
         "type": "string"
        },
        {
         "name": "host_k (m²)",
         "rawType": "float64",
         "type": "float"
        },
        {
         "name": "T_h (°C)",
         "rawType": "float64",
         "type": "float"
        }
       ],
       "conversionMethod": "pd.DataFrame",
       "ref": "c3a8f165-149f-4f38-b611-7818b618ee95",
       "rows": [
        [
         "count",
         "160.0",
         "160.0"
        ],
        [
         "mean",
         "1.444824726453038e-16",
         "175.0"
        ],
        [
         "std",
         "2.270573507452324e-16",
         "22.84635965631663"
        ],
        [
         "min",
         "1.0351421666793452e-18",
         "130.45000000000005"
        ],
        [
         "25%",
         "5.623413251903491e-18",
         "156.8875"
        ],
        [
         "50%",
         "3.164164031001948e-17",
         "175.00000000000003"
        ],
        [
         "75%",
         "1.7782794100389228e-16",
         "193.1125"
        ],
        [
         "max",
         "9.660508789898122e-16",
         "219.55"
        ]
       ],
       "shape": {
        "columns": 2,
        "rows": 8
       }
      },
      "text/html": [
       "<div>\n",
       "<style scoped>\n",
       "    .dataframe tbody tr th:only-of-type {\n",
       "        vertical-align: middle;\n",
       "    }\n",
       "\n",
       "    .dataframe tbody tr th {\n",
       "        vertical-align: top;\n",
       "    }\n",
       "\n",
       "    .dataframe thead th {\n",
       "        text-align: right;\n",
       "    }\n",
       "</style>\n",
       "<table border=\"1\" class=\"dataframe\">\n",
       "  <thead>\n",
       "    <tr style=\"text-align: right;\">\n",
       "      <th></th>\n",
       "      <th>host_k (m²)</th>\n",
       "      <th>T_h (°C)</th>\n",
       "    </tr>\n",
       "  </thead>\n",
       "  <tbody>\n",
       "    <tr>\n",
       "      <th>count</th>\n",
       "      <td>1.600000e+02</td>\n",
       "      <td>160.00000</td>\n",
       "    </tr>\n",
       "    <tr>\n",
       "      <th>mean</th>\n",
       "      <td>1.444825e-16</td>\n",
       "      <td>175.00000</td>\n",
       "    </tr>\n",
       "    <tr>\n",
       "      <th>std</th>\n",
       "      <td>2.270574e-16</td>\n",
       "      <td>22.84636</td>\n",
       "    </tr>\n",
       "    <tr>\n",
       "      <th>min</th>\n",
       "      <td>1.035142e-18</td>\n",
       "      <td>130.45000</td>\n",
       "    </tr>\n",
       "    <tr>\n",
       "      <th>25%</th>\n",
       "      <td>5.623413e-18</td>\n",
       "      <td>156.88750</td>\n",
       "    </tr>\n",
       "    <tr>\n",
       "      <th>50%</th>\n",
       "      <td>3.164164e-17</td>\n",
       "      <td>175.00000</td>\n",
       "    </tr>\n",
       "    <tr>\n",
       "      <th>75%</th>\n",
       "      <td>1.778279e-16</td>\n",
       "      <td>193.11250</td>\n",
       "    </tr>\n",
       "    <tr>\n",
       "      <th>max</th>\n",
       "      <td>9.660509e-16</td>\n",
       "      <td>219.55000</td>\n",
       "    </tr>\n",
       "  </tbody>\n",
       "</table>\n",
       "</div>"
      ],
      "text/plain": [
       "        host_k (m²)   T_h (°C)\n",
       "count  1.600000e+02  160.00000\n",
       "mean   1.444825e-16  175.00000\n",
       "std    2.270574e-16   22.84636\n",
       "min    1.035142e-18  130.45000\n",
       "25%    5.623413e-18  156.88750\n",
       "50%    3.164164e-17  175.00000\n",
       "75%    1.778279e-16  193.11250\n",
       "max    9.660509e-16  219.55000"
      ]
     },
     "execution_count": 20,
     "metadata": {},
     "output_type": "execute_result"
    }
   ],
   "source": [
    "df_training.describe()"
   ]
  },
  {
   "cell_type": "code",
   "execution_count": 17,
   "metadata": {},
   "outputs": [],
   "source": [
    "for column in df_training.columns:  # Loop through the first level of the column multi-index\n",
    "    df_training[column] = df_training[column].apply(lambda x: x.magnitude)  # Apply unit (adjust 'meter' to fit your case)\n"
   ]
  },
  {
   "cell_type": "code",
   "execution_count": 18,
   "metadata": {},
   "outputs": [
    {
     "data": {
      "image/png": "[encoded data removed]",
      "text/plain": [
       "<Figure size 1000x600 with 2 Axes>"
      ]
     },
     "metadata": {},
     "output_type": "display_data"
    }
   ],
   "source": [
    "df_training.hist(figsize=(10, 6), alpha=0.7);\n",
    "plt.savefig(df_path.parent / f\"{DATA_TYPE}_histogram.png\", dpi=300, bbox_inches='tight')  # You can change the filename and format\n",
    "plt.show()  # Close the figure if you're done with it\n"
   ]
  },
  {
   "cell_type": "code",
   "execution_count": 19,
   "metadata": {},
   "outputs": [
    {
     "data": {
      "image/png": "[encoded data removed]",
      "text/plain": [
       "<Figure size 1000x600 with 2 Axes>"
      ]
     },
     "metadata": {},
     "output_type": "display_data"
    }
   ],
   "source": [
    "df_training.apply(lambda x : np.log10(x)).hist(figsize=(10, 6), alpha=0.7);\n",
    "plt.savefig(df_path.parent / f\"{DATA_TYPE}_histogram_log.png\", dpi=300, bbox_inches='tight')  # You can change the filename and format\n",
    "plt.show()  # Close the figure if you're done with it"
   ]
  }
 ],
 "metadata": {
  "kernelspec": {
   "display_name": ".venv",
   "language": "python",
   "name": "python3"
  },
  "language_info": {
   "codemirror_mode": {
    "name": "ipython",
    "version": 3
   },
   "file_extension": ".py",
   "mimetype": "text/x-python",
   "name": "python",
   "nbconvert_exporter": "python",
   "pygments_lexer": "ipython3",
   "version": "3.12.4"
  }
 },
 "nbformat": 4,
 "nbformat_minor": 2
}
