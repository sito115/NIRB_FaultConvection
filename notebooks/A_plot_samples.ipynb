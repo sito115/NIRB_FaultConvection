{
 "cells": [
  {
   "cell_type": "code",
   "execution_count": 13,
   "metadata": {},
   "outputs": [],
   "source": [
    "from pathlib import Path\n",
    "import pandas as pd\n",
    "import pint\n",
    "import pint_pandas\n",
    "import matplotlib.pyplot as plt\n",
    "import numpy as np\n",
    "import sys"
   ]
  },
  {
   "cell_type": "code",
   "execution_count": 14,
   "metadata": {},
   "outputs": [],
   "source": [
    "sys.path.append(str(Path.cwd().parent))"
   ]
  },
  {
   "cell_type": "code",
   "execution_count": 15,
   "metadata": {},
   "outputs": [],
   "source": [
    "from src.utils import load_pint_data\n",
    "from src.utils.pint_units import PREFERRED_UNITS"
   ]
  },
  {
   "cell_type": "code",
   "execution_count": 16,
   "metadata": {},
   "outputs": [
    {
     "name": "stdout",
     "output_type": "stream",
     "text": [
      "/Users/thomassimader/Documents/NIRB\n"
     ]
    }
   ],
   "source": [
    "ROOT = Path.cwd().parent\n",
    "VERSION = \"01\"\n",
    "DATA_TYPE = \"Training\"\n",
    "print(ROOT)"
   ]
  },
  {
   "cell_type": "code",
   "execution_count": 18,
   "metadata": {},
   "outputs": [
    {
     "data": {
      "text/plain": [
       "host_k    pint[meter ** 2][float64]\n",
       "T_h           pint[kelvin][float64]\n",
       "dtype: object"
      ]
     },
     "execution_count": 18,
     "metadata": {},
     "output_type": "execute_result"
    }
   ],
   "source": [
    "df_path = ROOT  / \"data\" / VERSION/ f\"{DATA_TYPE.lower()}_samples.csv\"\n",
    "assert df_path.exists()\n",
    "df_training = load_pint_data(df_path)\n",
    "df_training.dtypes"
   ]
  },
  {
   "cell_type": "code",
   "execution_count": 19,
   "metadata": {},
   "outputs": [
    {
     "data": {
      "application/vnd.microsoft.datawrangler.viewer.v0+json": {
       "columns": [
        {
         "name": "index",
         "rawType": "int64",
         "type": "integer"
        },
        {
         "name": "host_k",
         "rawType": "pint[meter ** 2][float64]",
         "type": "unknown"
        },
        {
         "name": "T_h",
         "rawType": "pint[kelvin][float64]",
         "type": "unknown"
        }
       ],
       "conversionMethod": "pd.DataFrame",
       "ref": "584da1f0-80ac-42bd-ba94-36c287530f30",
       "rows": [
        [
         "0",
         "5.069907082747025e-18 meter ** 2",
         "419.7999999999999 kelvin"
        ],
        [
         "1",
         "1.4288939585111065e-17 meter ** 2",
         "485.5 kelvin"
        ],
        [
         "2",
         "2.8510182675038976e-17 meter ** 2",
         "421.6 kelvin"
        ],
        [
         "3",
         "7.673614893618217e-18 meter ** 2",
         "487.2999999999999 kelvin"
        ],
        [
         "4",
         "3.3496543915782656e-18 meter ** 2",
         "473.7999999999999 kelvin"
        ],
        [
         "5",
         "1.9275249131909365e-18 meter ** 2",
         "463.9 kelvin"
        ],
        [
         "6",
         "1.9724227361148535e-16 meter ** 2",
         "445.9 kelvin"
        ],
        [
         "7",
         "1.0839269140212039e-17 meter ** 2",
         "427.0 kelvin"
        ],
        [
         "8",
         "4.9545019080479054e-17 meter ** 2",
         "447.7 kelvin"
        ],
        [
         "9",
         "1.1350108156723144e-16 meter ** 2",
         "435.1 kelvin"
        ],
        [
         "10",
         "3.427677865464505e-16 meter ** 2",
         "418.9 kelvin"
        ],
        [
         "11",
         "7.85235634610071e-16 meter ** 2",
         "409.9 kelvin"
        ],
        [
         "12",
         "1.7579236139586966e-17 meter ** 2",
         "454.0 kelvin"
        ],
        [
         "13",
         "4.841723675840999e-16 meter ** 2",
         "471.1 kelvin"
        ],
        [
         "14",
         "3.58921934645005e-18 meter ** 2",
         "486.4 kelvin"
        ],
        [
         "15",
         "5.432503314924325e-18 meter ** 2",
         "416.2 kelvin"
        ],
        [
         "16",
         "1.6788040181225661e-18 meter ** 2",
         "490.0 kelvin"
        ],
        [
         "17",
         "2.7861211686297724e-16 meter ** 2",
         "443.2 kelvin"
        ],
        [
         "18",
         "2.426610095082414e-16 meter ** 2",
         "404.5 kelvin"
        ],
        [
         "19",
         "8.609937521845982e-17 meter ** 2",
         "412.6 kelvin"
        ],
        [
         "20",
         "3.845917820453543e-18 meter ** 2",
         "422.5 kelvin"
        ],
        [
         "21",
         "6.237348354824218e-18 meter ** 2",
         "437.7999999999999 kelvin"
        ],
        [
         "22",
         "1.8407720014689582e-16 meter ** 2",
         "472.0 kelvin"
        ],
        [
         "23",
         "1.7988709151287837e-18 meter ** 2",
         "491.7999999999999 kelvin"
        ],
        [
         "24",
         "2.985382618917957e-16 meter ** 2",
         "430.6 kelvin"
        ],
        [
         "25",
         "3.7583740428844347e-17 meter ** 2",
         "465.7 kelvin"
        ],
        [
         "26",
         "2.9174270140011666e-18 meter ** 2",
         "458.5 kelvin"
        ],
        [
         "27",
         "9.88553094656941e-17 meter ** 2",
         "436.0 kelvin"
        ],
        [
         "28",
         "3.507518739525694e-17 meter ** 2",
         "455.7999999999999 kelvin"
        ],
        [
         "29",
         "4.315190768277668e-17 meter ** 2",
         "463.0 kelvin"
        ],
        [
         "30",
         "9.01571137605957e-16 meter ** 2",
         "482.7999999999999 kelvin"
        ],
        [
         "31",
         "7.328245331389045e-16 meter ** 2",
         "481.9 kelvin"
        ],
        [
         "32",
         "1.6405897731995386e-17 meter ** 2",
         "467.5 kelvin"
        ],
        [
         "33",
         "9.440608762859265e-18 meter ** 2",
         "417.1 kelvin"
        ],
        [
         "34",
         "2.0653801558105354e-18 meter ** 2",
         "407.2 kelvin"
        ],
        [
         "35",
         "1.0351421666793452e-18 meter ** 2",
         "424.2999999999999 kelvin"
        ],
        [
         "36",
         "1.2161860006463704e-16 meter ** 2",
         "438.7 kelvin"
        ],
        [
         "37",
         "4.623810213992594e-17 meter ** 2",
         "480.1 kelvin"
        ],
        [
         "38",
         "9.225714271547628e-17 meter ** 2",
         "410.7999999999999 kelvin"
        ],
        [
         "39",
         "6.839116472814307e-16 meter ** 2",
         "423.4 kelvin"
        ],
        [
         "40",
         "3.935500754557764e-16 meter ** 2",
         "479.2 kelvin"
        ],
        [
         "41",
         "3.05492111321551e-17 meter ** 2",
         "454.9 kelvin"
        ],
        [
         "42",
         "2.1627185237270244e-17 meter ** 2",
         "403.6 kelvin"
        ],
        [
         "43",
         "5.559042572704048e-16 meter ** 2",
         "460.2999999999999 kelvin"
        ],
        [
         "44",
         "1.7179083871575858e-16 meter ** 2",
         "456.7 kelvin"
        ],
        [
         "45",
         "1.2445146117713819e-17 meter ** 2",
         "449.5 kelvin"
        ],
        [
         "46",
         "1.1885022274370165e-18 meter ** 2",
         "420.7 kelvin"
        ],
        [
         "47",
         "1.1614486138403461e-17 meter ** 2",
         "431.5 kelvin"
        ],
        [
         "48",
         "4.120975190973287e-18 meter ** 2",
         "464.7999999999999 kelvin"
        ],
        [
         "49",
         "1.6032453906900414e-16 meter ** 2",
         "446.7999999999999 kelvin"
        ]
       ],
       "shape": {
        "columns": 2,
        "rows": 300
       }
      },
      "text/html": [
       "<div>\n",
       "<style scoped>\n",
       "    .dataframe tbody tr th:only-of-type {\n",
       "        vertical-align: middle;\n",
       "    }\n",
       "\n",
       "    .dataframe tbody tr th {\n",
       "        vertical-align: top;\n",
       "    }\n",
       "\n",
       "    .dataframe thead th {\n",
       "        text-align: right;\n",
       "    }\n",
       "</style>\n",
       "<table border=\"1\" class=\"dataframe\">\n",
       "  <thead>\n",
       "    <tr style=\"text-align: right;\">\n",
       "      <th></th>\n",
       "      <th>host_k</th>\n",
       "      <th>T_h</th>\n",
       "    </tr>\n",
       "  </thead>\n",
       "  <tbody>\n",
       "    <tr>\n",
       "      <th>0</th>\n",
       "      <td>5.069907082747025e-18</td>\n",
       "      <td>419.7999999999999</td>\n",
       "    </tr>\n",
       "    <tr>\n",
       "      <th>1</th>\n",
       "      <td>1.4288939585111065e-17</td>\n",
       "      <td>485.5</td>\n",
       "    </tr>\n",
       "    <tr>\n",
       "      <th>2</th>\n",
       "      <td>2.8510182675038976e-17</td>\n",
       "      <td>421.6</td>\n",
       "    </tr>\n",
       "    <tr>\n",
       "      <th>3</th>\n",
       "      <td>7.673614893618217e-18</td>\n",
       "      <td>487.2999999999999</td>\n",
       "    </tr>\n",
       "    <tr>\n",
       "      <th>4</th>\n",
       "      <td>3.3496543915782656e-18</td>\n",
       "      <td>473.7999999999999</td>\n",
       "    </tr>\n",
       "    <tr>\n",
       "      <th>...</th>\n",
       "      <td>...</td>\n",
       "      <td>...</td>\n",
       "    </tr>\n",
       "    <tr>\n",
       "      <th>295</th>\n",
       "      <td>1.0115794542598962e-17</td>\n",
       "      <td>457.6</td>\n",
       "    </tr>\n",
       "    <tr>\n",
       "      <th>296</th>\n",
       "      <td>2.426610095082414e-16</td>\n",
       "      <td>441.4</td>\n",
       "    </tr>\n",
       "    <tr>\n",
       "      <th>297</th>\n",
       "      <td>6.839116472814307e-16</td>\n",
       "      <td>460.2999999999999</td>\n",
       "    </tr>\n",
       "    <tr>\n",
       "      <th>298</th>\n",
       "      <td>7.498942093324558e-17</td>\n",
       "      <td>409.0</td>\n",
       "    </tr>\n",
       "    <tr>\n",
       "      <th>299</th>\n",
       "      <td>2.985382618917957e-16</td>\n",
       "      <td>462.1</td>\n",
       "    </tr>\n",
       "  </tbody>\n",
       "</table>\n",
       "<p>300 rows × 2 columns</p>\n",
       "</div>"
      ],
      "text/plain": [
       "                     host_k                T_h\n",
       "0     5.069907082747025e-18  419.7999999999999\n",
       "1    1.4288939585111065e-17              485.5\n",
       "2    2.8510182675038976e-17              421.6\n",
       "3     7.673614893618217e-18  487.2999999999999\n",
       "4    3.3496543915782656e-18  473.7999999999999\n",
       "..                      ...                ...\n",
       "295  1.0115794542598962e-17              457.6\n",
       "296   2.426610095082414e-16              441.4\n",
       "297   6.839116472814307e-16  460.2999999999999\n",
       "298   7.498942093324558e-17              409.0\n",
       "299   2.985382618917957e-16              462.1\n",
       "\n",
       "[300 rows x 2 columns]"
      ]
     },
     "execution_count": 19,
     "metadata": {},
     "output_type": "execute_result"
    }
   ],
   "source": [
    "df_training"
   ]
  },
  {
   "cell_type": "code",
   "execution_count": 6,
   "metadata": {},
   "outputs": [],
   "source": [
    "for col in df_training.columns:\n",
    "    if df_training[col].pint.dimensionality in PREFERRED_UNITS:\n",
    "        unit = PREFERRED_UNITS[df_training[col].pint.dimensionality]\n",
    "        df_training[col] = df_training[col].pint.to(unit)\n",
    "units = df_training.dtypes\n",
    "col_names = [f\"{name} ({unit.units:~P})\" for name, unit in zip(df_training.columns, units)]\n",
    "df_training.columns = col_names"
   ]
  },
  {
   "cell_type": "code",
   "execution_count": 7,
   "metadata": {},
   "outputs": [
    {
     "data": {
      "application/vnd.microsoft.datawrangler.viewer.v0+json": {
       "columns": [
        {
         "name": "index",
         "rawType": "int64",
         "type": "integer"
        },
        {
         "name": "host_k (m²)",
         "rawType": "pint[meter ** 2][float64]",
         "type": "unknown"
        },
        {
         "name": "T_h (°C)",
         "rawType": "pint[degree_Celsius][float64]",
         "type": "unknown"
        }
       ],
       "conversionMethod": "pd.DataFrame",
       "ref": "48243596-24cb-4a76-95c7-f8f84d7c27b0",
       "rows": [
        [
         "0",
         "5.069907082747025e-18 meter ** 2",
         "146.64999999999992 degree_Celsius"
        ],
        [
         "1",
         "1.4288939585111065e-17 meter ** 2",
         "212.35000000000002 degree_Celsius"
        ],
        [
         "2",
         "2.8510182675038976e-17 meter ** 2",
         "148.45000000000005 degree_Celsius"
        ],
        [
         "3",
         "7.673614893618217e-18 meter ** 2",
         "214.14999999999992 degree_Celsius"
        ],
        [
         "4",
         "3.3496543915782656e-18 meter ** 2",
         "200.64999999999992 degree_Celsius"
        ],
        [
         "5",
         "1.9275249131909365e-18 meter ** 2",
         "190.75 degree_Celsius"
        ],
        [
         "6",
         "1.9724227361148535e-16 meter ** 2",
         "172.75 degree_Celsius"
        ],
        [
         "7",
         "1.0839269140212039e-17 meter ** 2",
         "153.85000000000002 degree_Celsius"
        ],
        [
         "8",
         "4.9545019080479054e-17 meter ** 2",
         "174.55 degree_Celsius"
        ],
        [
         "9",
         "1.1350108156723144e-16 meter ** 2",
         "161.95000000000005 degree_Celsius"
        ],
        [
         "10",
         "3.427677865464505e-16 meter ** 2",
         "145.75 degree_Celsius"
        ],
        [
         "11",
         "7.85235634610071e-16 meter ** 2",
         "136.75 degree_Celsius"
        ],
        [
         "12",
         "1.7579236139586966e-17 meter ** 2",
         "180.85000000000002 degree_Celsius"
        ],
        [
         "13",
         "4.841723675840999e-16 meter ** 2",
         "197.95000000000005 degree_Celsius"
        ],
        [
         "14",
         "3.58921934645005e-18 meter ** 2",
         "213.25 degree_Celsius"
        ],
        [
         "15",
         "5.432503314924325e-18 meter ** 2",
         "143.05 degree_Celsius"
        ],
        [
         "16",
         "1.6788040181225661e-18 meter ** 2",
         "216.85000000000002 degree_Celsius"
        ],
        [
         "17",
         "2.7861211686297724e-16 meter ** 2",
         "170.05 degree_Celsius"
        ],
        [
         "18",
         "2.426610095082414e-16 meter ** 2",
         "131.35000000000002 degree_Celsius"
        ],
        [
         "19",
         "8.609937521845982e-17 meter ** 2",
         "139.45000000000005 degree_Celsius"
        ],
        [
         "20",
         "3.845917820453543e-18 meter ** 2",
         "149.35000000000002 degree_Celsius"
        ],
        [
         "21",
         "6.237348354824218e-18 meter ** 2",
         "164.64999999999992 degree_Celsius"
        ],
        [
         "22",
         "1.8407720014689582e-16 meter ** 2",
         "198.85000000000002 degree_Celsius"
        ],
        [
         "23",
         "1.7988709151287837e-18 meter ** 2",
         "218.64999999999992 degree_Celsius"
        ],
        [
         "24",
         "2.985382618917957e-16 meter ** 2",
         "157.45000000000005 degree_Celsius"
        ],
        [
         "25",
         "3.7583740428844347e-17 meter ** 2",
         "192.55 degree_Celsius"
        ],
        [
         "26",
         "2.9174270140011666e-18 meter ** 2",
         "185.35000000000002 degree_Celsius"
        ],
        [
         "27",
         "9.88553094656941e-17 meter ** 2",
         "162.85000000000002 degree_Celsius"
        ],
        [
         "28",
         "3.507518739525694e-17 meter ** 2",
         "182.64999999999992 degree_Celsius"
        ],
        [
         "29",
         "4.315190768277668e-17 meter ** 2",
         "189.85000000000002 degree_Celsius"
        ],
        [
         "30",
         "9.01571137605957e-16 meter ** 2",
         "209.64999999999992 degree_Celsius"
        ],
        [
         "31",
         "7.328245331389045e-16 meter ** 2",
         "208.75 degree_Celsius"
        ],
        [
         "32",
         "1.6405897731995386e-17 meter ** 2",
         "194.35000000000002 degree_Celsius"
        ],
        [
         "33",
         "9.440608762859265e-18 meter ** 2",
         "143.95000000000005 degree_Celsius"
        ],
        [
         "34",
         "2.0653801558105354e-18 meter ** 2",
         "134.05 degree_Celsius"
        ],
        [
         "35",
         "1.0351421666793452e-18 meter ** 2",
         "151.14999999999992 degree_Celsius"
        ],
        [
         "36",
         "1.2161860006463704e-16 meter ** 2",
         "165.55 degree_Celsius"
        ],
        [
         "37",
         "4.623810213992594e-17 meter ** 2",
         "206.95000000000005 degree_Celsius"
        ],
        [
         "38",
         "9.225714271547628e-17 meter ** 2",
         "137.64999999999992 degree_Celsius"
        ],
        [
         "39",
         "6.839116472814307e-16 meter ** 2",
         "150.25 degree_Celsius"
        ],
        [
         "40",
         "3.935500754557764e-16 meter ** 2",
         "206.05 degree_Celsius"
        ],
        [
         "41",
         "3.05492111321551e-17 meter ** 2",
         "181.75 degree_Celsius"
        ],
        [
         "42",
         "2.1627185237270244e-17 meter ** 2",
         "130.45000000000005 degree_Celsius"
        ],
        [
         "43",
         "5.559042572704048e-16 meter ** 2",
         "187.14999999999992 degree_Celsius"
        ],
        [
         "44",
         "1.7179083871575858e-16 meter ** 2",
         "183.55 degree_Celsius"
        ],
        [
         "45",
         "1.2445146117713819e-17 meter ** 2",
         "176.35000000000002 degree_Celsius"
        ],
        [
         "46",
         "1.1885022274370165e-18 meter ** 2",
         "147.55 degree_Celsius"
        ],
        [
         "47",
         "1.1614486138403461e-17 meter ** 2",
         "158.35000000000002 degree_Celsius"
        ],
        [
         "48",
         "4.120975190973287e-18 meter ** 2",
         "191.64999999999992 degree_Celsius"
        ],
        [
         "49",
         "1.6032453906900414e-16 meter ** 2",
         "173.64999999999992 degree_Celsius"
        ]
       ],
       "shape": {
        "columns": 2,
        "rows": 300
       }
      },
      "text/html": [
       "<div>\n",
       "<style scoped>\n",
       "    .dataframe tbody tr th:only-of-type {\n",
       "        vertical-align: middle;\n",
       "    }\n",
       "\n",
       "    .dataframe tbody tr th {\n",
       "        vertical-align: top;\n",
       "    }\n",
       "\n",
       "    .dataframe thead th {\n",
       "        text-align: right;\n",
       "    }\n",
       "</style>\n",
       "<table border=\"1\" class=\"dataframe\">\n",
       "  <thead>\n",
       "    <tr style=\"text-align: right;\">\n",
       "      <th></th>\n",
       "      <th>host_k (m²)</th>\n",
       "      <th>T_h (°C)</th>\n",
       "    </tr>\n",
       "  </thead>\n",
       "  <tbody>\n",
       "    <tr>\n",
       "      <th>0</th>\n",
       "      <td>5.069907082747025e-18</td>\n",
       "      <td>146.64999999999992</td>\n",
       "    </tr>\n",
       "    <tr>\n",
       "      <th>1</th>\n",
       "      <td>1.4288939585111065e-17</td>\n",
       "      <td>212.35000000000002</td>\n",
       "    </tr>\n",
       "    <tr>\n",
       "      <th>2</th>\n",
       "      <td>2.8510182675038976e-17</td>\n",
       "      <td>148.45000000000005</td>\n",
       "    </tr>\n",
       "    <tr>\n",
       "      <th>3</th>\n",
       "      <td>7.673614893618217e-18</td>\n",
       "      <td>214.14999999999992</td>\n",
       "    </tr>\n",
       "    <tr>\n",
       "      <th>4</th>\n",
       "      <td>3.3496543915782656e-18</td>\n",
       "      <td>200.64999999999992</td>\n",
       "    </tr>\n",
       "    <tr>\n",
       "      <th>...</th>\n",
       "      <td>...</td>\n",
       "      <td>...</td>\n",
       "    </tr>\n",
       "    <tr>\n",
       "      <th>295</th>\n",
       "      <td>1.0115794542598962e-17</td>\n",
       "      <td>184.45000000000005</td>\n",
       "    </tr>\n",
       "    <tr>\n",
       "      <th>296</th>\n",
       "      <td>2.426610095082414e-16</td>\n",
       "      <td>168.25</td>\n",
       "    </tr>\n",
       "    <tr>\n",
       "      <th>297</th>\n",
       "      <td>6.839116472814307e-16</td>\n",
       "      <td>187.14999999999992</td>\n",
       "    </tr>\n",
       "    <tr>\n",
       "      <th>298</th>\n",
       "      <td>7.498942093324558e-17</td>\n",
       "      <td>135.85000000000002</td>\n",
       "    </tr>\n",
       "    <tr>\n",
       "      <th>299</th>\n",
       "      <td>2.985382618917957e-16</td>\n",
       "      <td>188.95000000000005</td>\n",
       "    </tr>\n",
       "  </tbody>\n",
       "</table>\n",
       "<p>300 rows × 2 columns</p>\n",
       "</div>"
      ],
      "text/plain": [
       "                host_k (m²)            T_h (°C)\n",
       "0     5.069907082747025e-18  146.64999999999992\n",
       "1    1.4288939585111065e-17  212.35000000000002\n",
       "2    2.8510182675038976e-17  148.45000000000005\n",
       "3     7.673614893618217e-18  214.14999999999992\n",
       "4    3.3496543915782656e-18  200.64999999999992\n",
       "..                      ...                 ...\n",
       "295  1.0115794542598962e-17  184.45000000000005\n",
       "296   2.426610095082414e-16              168.25\n",
       "297   6.839116472814307e-16  187.14999999999992\n",
       "298   7.498942093324558e-17  135.85000000000002\n",
       "299   2.985382618917957e-16  188.95000000000005\n",
       "\n",
       "[300 rows x 2 columns]"
      ]
     },
     "execution_count": 7,
     "metadata": {},
     "output_type": "execute_result"
    }
   ],
   "source": [
    "df_training"
   ]
  },
  {
   "cell_type": "code",
   "execution_count": 9,
   "metadata": {},
   "outputs": [],
   "source": [
    "for column in df_training.columns:  # Loop through the first level of the column multi-index\n",
    "    df_training[column] = df_training[column].apply(lambda x: x.magnitude)  # Apply unit (adjust 'meter' to fit your case)\n"
   ]
  },
  {
   "cell_type": "code",
   "execution_count": 12,
   "metadata": {},
   "outputs": [
    {
     "data": {
      "application/vnd.microsoft.datawrangler.viewer.v0+json": {
       "columns": [
        {
         "name": "index",
         "rawType": "object",
         "type": "string"
        },
        {
         "name": "host_k (m²)",
         "rawType": "float64",
         "type": "float"
        },
        {
         "name": "T_h (°C)",
         "rawType": "float64",
         "type": "float"
        }
       ],
       "conversionMethod": "pd.DataFrame",
       "ref": "f4e8e91f-190e-40da-a0fb-13ddfee72f95",
       "rows": [
        [
         "count",
         "300.0",
         "300.0"
        ],
        [
         "mean",
         "1.441589870228158e-16",
         "176.25"
        ],
        [
         "std",
         "2.2556103807845314e-16",
         "23.815845374363217"
        ],
        [
         "min",
         "1.0351421666793452e-18",
         "130.45000000000005"
        ],
        [
         "25%",
         "5.623413251903491e-18",
         "156.53750000000002"
        ],
        [
         "50%",
         "3.164164031001948e-17",
         "178.14999999999992"
        ],
        [
         "75%",
         "1.7782794100389228e-16",
         "195.54166666666666"
        ],
        [
         "max",
         "9.660508789898122e-16",
         "219.55"
        ]
       ],
       "shape": {
        "columns": 2,
        "rows": 8
       }
      },
      "text/html": [
       "<div>\n",
       "<style scoped>\n",
       "    .dataframe tbody tr th:only-of-type {\n",
       "        vertical-align: middle;\n",
       "    }\n",
       "\n",
       "    .dataframe tbody tr th {\n",
       "        vertical-align: top;\n",
       "    }\n",
       "\n",
       "    .dataframe thead th {\n",
       "        text-align: right;\n",
       "    }\n",
       "</style>\n",
       "<table border=\"1\" class=\"dataframe\">\n",
       "  <thead>\n",
       "    <tr style=\"text-align: right;\">\n",
       "      <th></th>\n",
       "      <th>host_k (m²)</th>\n",
       "      <th>T_h (°C)</th>\n",
       "    </tr>\n",
       "  </thead>\n",
       "  <tbody>\n",
       "    <tr>\n",
       "      <th>count</th>\n",
       "      <td>3.000000e+02</td>\n",
       "      <td>300.000000</td>\n",
       "    </tr>\n",
       "    <tr>\n",
       "      <th>mean</th>\n",
       "      <td>1.441590e-16</td>\n",
       "      <td>176.250000</td>\n",
       "    </tr>\n",
       "    <tr>\n",
       "      <th>std</th>\n",
       "      <td>2.255610e-16</td>\n",
       "      <td>23.815845</td>\n",
       "    </tr>\n",
       "    <tr>\n",
       "      <th>min</th>\n",
       "      <td>1.035142e-18</td>\n",
       "      <td>130.450000</td>\n",
       "    </tr>\n",
       "    <tr>\n",
       "      <th>25%</th>\n",
       "      <td>5.623413e-18</td>\n",
       "      <td>156.537500</td>\n",
       "    </tr>\n",
       "    <tr>\n",
       "      <th>50%</th>\n",
       "      <td>3.164164e-17</td>\n",
       "      <td>178.150000</td>\n",
       "    </tr>\n",
       "    <tr>\n",
       "      <th>75%</th>\n",
       "      <td>1.778279e-16</td>\n",
       "      <td>195.541667</td>\n",
       "    </tr>\n",
       "    <tr>\n",
       "      <th>max</th>\n",
       "      <td>9.660509e-16</td>\n",
       "      <td>219.550000</td>\n",
       "    </tr>\n",
       "  </tbody>\n",
       "</table>\n",
       "</div>"
      ],
      "text/plain": [
       "        host_k (m²)    T_h (°C)\n",
       "count  3.000000e+02  300.000000\n",
       "mean   1.441590e-16  176.250000\n",
       "std    2.255610e-16   23.815845\n",
       "min    1.035142e-18  130.450000\n",
       "25%    5.623413e-18  156.537500\n",
       "50%    3.164164e-17  178.150000\n",
       "75%    1.778279e-16  195.541667\n",
       "max    9.660509e-16  219.550000"
      ]
     },
     "execution_count": 12,
     "metadata": {},
     "output_type": "execute_result"
    }
   ],
   "source": [
    "df_training.describe()"
   ]
  },
  {
   "cell_type": "code",
   "execution_count": 10,
   "metadata": {},
   "outputs": [
    {
     "data": {
      "image/png": "[encoded data removed]",
      "text/plain": [
       "<Figure size 1000x600 with 2 Axes>"
      ]
     },
     "metadata": {},
     "output_type": "display_data"
    }
   ],
   "source": [
    "df_training.hist(figsize=(10, 6), alpha=0.7);\n",
    "plt.savefig(df_path.parent / f\"{DATA_TYPE}_histogram.png\", dpi=300, bbox_inches='tight')  # You can change the filename and format\n",
    "plt.show()  # Close the figure if you're done with it\n"
   ]
  },
  {
   "cell_type": "code",
   "execution_count": 11,
   "metadata": {},
   "outputs": [
    {
     "data": {
      "image/png": "[encoded data removed]",
      "text/plain": [
       "<Figure size 1000x600 with 2 Axes>"
      ]
     },
     "metadata": {},
     "output_type": "display_data"
    }
   ],
   "source": [
    "df_training.apply(lambda x : np.log10(x)).hist(figsize=(10, 6), alpha=0.7);\n",
    "plt.savefig(df_path.parent / f\"{DATA_TYPE}_histogram_log.png\", dpi=300, bbox_inches='tight')  # You can change the filename and format\n",
    "plt.show()  # Close the figure if you're done with it"
   ]
  }
 ],
 "metadata": {
  "kernelspec": {
   "display_name": ".venv",
   "language": "python",
   "name": "python3"
  },
  "language_info": {
   "codemirror_mode": {
    "name": "ipython",
    "version": 3
   },
   "file_extension": ".py",
   "mimetype": "text/x-python",
   "name": "python",
   "nbconvert_exporter": "python",
   "pygments_lexer": "ipython3",
   "version": "3.12.4"
  }
 },
 "nbformat": 4,
 "nbformat_minor": 2
}
