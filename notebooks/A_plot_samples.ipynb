{
 "cells": [
  {
   "cell_type": "code",
   "execution_count": 95,
   "metadata": {},
   "outputs": [],
   "source": [
    "from pathlib import Path\n",
    "import pandas as pd\n",
    "import pint\n",
    "import pint_pandas\n",
    "import matplotlib.pyplot as plt\n",
    "import numpy as np\n",
    "import sys"
   ]
  },
  {
   "cell_type": "code",
   "execution_count": 96,
   "metadata": {},
   "outputs": [],
   "source": [
    "sys.path.append(str(Path.cwd().parent))"
   ]
  },
  {
   "cell_type": "code",
   "execution_count": 97,
   "metadata": {},
   "outputs": [],
   "source": [
    "from src.utils import load_pint_data\n",
    "from src.utils.pint_units import PREFERRED_UNITS"
   ]
  },
  {
   "cell_type": "code",
   "execution_count": 98,
   "metadata": {},
   "outputs": [
    {
     "name": "stdout",
     "output_type": "stream",
     "text": [
      "/Users/thomassimader/Documents/NIRB\n"
     ]
    }
   ],
   "source": [
    "ROOT = Path.cwd().parent\n",
    "IS_EXPORT = True\n",
    "VERSION = \"10\"\n",
    "DATA_TYPE = \"Training\"\n",
    "print(ROOT)"
   ]
  },
  {
   "cell_type": "code",
   "execution_count": 99,
   "metadata": {},
   "outputs": [
    {
     "data": {
      "application/vnd.microsoft.datawrangler.viewer.v0+json": {
       "columns": [
        {
         "name": "index",
         "rawType": "object",
         "type": "string"
        },
        {
         "name": "0",
         "rawType": "object",
         "type": "unknown"
        }
       ],
       "ref": "e205f172-5164-466b-b25d-1e01bd32669e",
       "rows": [
        [
         "dip",
         "pint[radian][float64]"
        ]
       ],
       "shape": {
        "columns": 1,
        "rows": 1
       }
      },
      "text/plain": [
       "dip    pint[radian][float64]\n",
       "dtype: object"
      ]
     },
     "execution_count": 99,
     "metadata": {},
     "output_type": "execute_result"
    }
   ],
   "source": [
    "df_path = ROOT  / \"data\" / VERSION/ f\"{DATA_TYPE.lower()}_samples.csv\"\n",
    "assert df_path.exists()\n",
    "df_training = load_pint_data(df_path)\n",
    "df_training.dtypes"
   ]
  },
  {
   "cell_type": "code",
   "execution_count": 100,
   "metadata": {},
   "outputs": [],
   "source": [
    "for col in df_training.columns:\n",
    "    if df_training[col].pint.dimensionality in PREFERRED_UNITS:\n",
    "        unit = PREFERRED_UNITS[df_training[col].pint.dimensionality]\n",
    "        df_training[col] = df_training[col].pint.to(unit)\n",
    "units = df_training.dtypes\n",
    "col_names = [f\"{name} ({unit.units:~P})\" for name, unit in zip(df_training.columns, units)]\n",
    "df_training.columns = col_names"
   ]
  },
  {
   "cell_type": "code",
   "execution_count": 101,
   "metadata": {},
   "outputs": [
    {
     "data": {
      "application/vnd.microsoft.datawrangler.viewer.v0+json": {
       "columns": [
        {
         "name": "index",
         "rawType": "object",
         "type": "string"
        },
        {
         "name": "('dip (deg)', 'degree')",
         "rawType": "float64",
         "type": "float"
        }
       ],
       "ref": "f244489b-3650-4990-b4b1-aca6ec8852ff",
       "rows": [
        [
         "count",
         "150.0"
        ],
        [
         "min",
         "55.17583567109828"
        ],
        [
         "max",
         "89.83978227651309"
        ]
       ],
       "shape": {
        "columns": 1,
        "rows": 3
       }
      },
      "text/html": [
       "<div>\n",
       "<style scoped>\n",
       "    .dataframe tbody tr th:only-of-type {\n",
       "        vertical-align: middle;\n",
       "    }\n",
       "\n",
       "    .dataframe tbody tr th {\n",
       "        vertical-align: top;\n",
       "    }\n",
       "\n",
       "    .dataframe thead tr th {\n",
       "        text-align: left;\n",
       "    }\n",
       "</style>\n",
       "<table border=\"1\" class=\"dataframe\">\n",
       "  <thead>\n",
       "    <tr>\n",
       "      <th></th>\n",
       "      <th>dip (deg)</th>\n",
       "    </tr>\n",
       "    <tr>\n",
       "      <th>unit</th>\n",
       "      <th>degree</th>\n",
       "    </tr>\n",
       "  </thead>\n",
       "  <tbody>\n",
       "    <tr>\n",
       "      <th>count</th>\n",
       "      <td>150.000000</td>\n",
       "    </tr>\n",
       "    <tr>\n",
       "      <th>min</th>\n",
       "      <td>55.175836</td>\n",
       "    </tr>\n",
       "    <tr>\n",
       "      <th>max</th>\n",
       "      <td>89.839782</td>\n",
       "    </tr>\n",
       "  </tbody>\n",
       "</table>\n",
       "</div>"
      ],
      "text/plain": [
       "        dip (deg)\n",
       "unit       degree\n",
       "count  150.000000\n",
       "min     55.175836\n",
       "max     89.839782"
      ]
     },
     "execution_count": 101,
     "metadata": {},
     "output_type": "execute_result"
    }
   ],
   "source": [
    "temp = df_training.pint.dequantify().agg([\"count\" ,\"min\", \"max\"])\n",
    "temp"
   ]
  },
  {
   "cell_type": "code",
   "execution_count": 102,
   "metadata": {},
   "outputs": [
    {
     "data": {
      "application/vnd.microsoft.datawrangler.viewer.v0+json": {
       "columns": [
        {
         "name": "index",
         "rawType": "object",
         "type": "string"
        },
        {
         "name": "('dip (deg)', 'degree')",
         "rawType": "float64",
         "type": "float"
        }
       ],
       "ref": "3584bccc-5c2b-4d13-8953-0e0e8e689422",
       "rows": [
        [
         "count",
         "150.0"
        ],
        [
         "mean",
         "72.53175860964215"
        ],
        [
         "std",
         "10.133808386316629"
        ],
        [
         "min",
         "55.17583567109828"
        ],
        [
         "25%",
         "63.98506177123469"
        ],
        [
         "50%",
         "72.47916108404914"
        ],
        [
         "75%",
         "81.05920406613322"
        ],
        [
         "max",
         "89.83978227651309"
        ]
       ],
       "shape": {
        "columns": 1,
        "rows": 8
       }
      },
      "text/html": [
       "<div>\n",
       "<style scoped>\n",
       "    .dataframe tbody tr th:only-of-type {\n",
       "        vertical-align: middle;\n",
       "    }\n",
       "\n",
       "    .dataframe tbody tr th {\n",
       "        vertical-align: top;\n",
       "    }\n",
       "\n",
       "    .dataframe thead tr th {\n",
       "        text-align: left;\n",
       "    }\n",
       "</style>\n",
       "<table border=\"1\" class=\"dataframe\">\n",
       "  <thead>\n",
       "    <tr>\n",
       "      <th></th>\n",
       "      <th>dip (deg)</th>\n",
       "    </tr>\n",
       "    <tr>\n",
       "      <th>unit</th>\n",
       "      <th>degree</th>\n",
       "    </tr>\n",
       "  </thead>\n",
       "  <tbody>\n",
       "    <tr>\n",
       "      <th>count</th>\n",
       "      <td>150.000000</td>\n",
       "    </tr>\n",
       "    <tr>\n",
       "      <th>mean</th>\n",
       "      <td>72.531759</td>\n",
       "    </tr>\n",
       "    <tr>\n",
       "      <th>std</th>\n",
       "      <td>10.133808</td>\n",
       "    </tr>\n",
       "    <tr>\n",
       "      <th>min</th>\n",
       "      <td>55.175836</td>\n",
       "    </tr>\n",
       "    <tr>\n",
       "      <th>25%</th>\n",
       "      <td>63.985062</td>\n",
       "    </tr>\n",
       "    <tr>\n",
       "      <th>50%</th>\n",
       "      <td>72.479161</td>\n",
       "    </tr>\n",
       "    <tr>\n",
       "      <th>75%</th>\n",
       "      <td>81.059204</td>\n",
       "    </tr>\n",
       "    <tr>\n",
       "      <th>max</th>\n",
       "      <td>89.839782</td>\n",
       "    </tr>\n",
       "  </tbody>\n",
       "</table>\n",
       "</div>"
      ],
      "text/plain": [
       "        dip (deg)\n",
       "unit       degree\n",
       "count  150.000000\n",
       "mean    72.531759\n",
       "std     10.133808\n",
       "min     55.175836\n",
       "25%     63.985062\n",
       "50%     72.479161\n",
       "75%     81.059204\n",
       "max     89.839782"
      ]
     },
     "execution_count": 102,
     "metadata": {},
     "output_type": "execute_result"
    }
   ],
   "source": [
    "df_training.pint.dequantify().describe()"
   ]
  },
  {
   "cell_type": "code",
   "execution_count": 103,
   "metadata": {},
   "outputs": [
    {
     "name": "stdout",
     "output_type": "stream",
     "text": [
      "dip (deg): 147\n"
     ]
    }
   ],
   "source": [
    "# Unique values for all columns\n",
    "unique_values = {col: df_training[col].unique() for col in df_training.columns}\n",
    "\n",
    "# Print result\n",
    "for col, vals in unique_values.items():\n",
    "    print(f\"{col}: {len(vals)}\")"
   ]
  },
  {
   "cell_type": "code",
   "execution_count": 104,
   "metadata": {},
   "outputs": [],
   "source": [
    "for column in df_training.columns:  # Loop through the first level of the column multi-index\n",
    "    df_training[column] = df_training[column].apply(lambda x: x.magnitude)  # Apply unit (adjust 'meter' to fit your case)\n"
   ]
  },
  {
   "cell_type": "code",
   "execution_count": 105,
   "metadata": {},
   "outputs": [
    {
     "data": {
      "application/vnd.microsoft.datawrangler.viewer.v0+json": {
       "columns": [
        {
         "name": "index",
         "rawType": "object",
         "type": "string"
        },
        {
         "name": "dip (deg)",
         "rawType": "float64",
         "type": "float"
        }
       ],
       "ref": "6c3dbf5e-9e48-40d7-ab6f-488fe3ad1780",
       "rows": [
        [
         "count",
         "150.0"
        ],
        [
         "mean",
         "72.53175860964215"
        ],
        [
         "std",
         "10.133808386316629"
        ],
        [
         "min",
         "55.17583567109828"
        ],
        [
         "25%",
         "63.98506177123469"
        ],
        [
         "50%",
         "72.47916108404914"
        ],
        [
         "75%",
         "81.05920406613322"
        ],
        [
         "max",
         "89.83978227651309"
        ]
       ],
       "shape": {
        "columns": 1,
        "rows": 8
       }
      },
      "text/html": [
       "<div>\n",
       "<style scoped>\n",
       "    .dataframe tbody tr th:only-of-type {\n",
       "        vertical-align: middle;\n",
       "    }\n",
       "\n",
       "    .dataframe tbody tr th {\n",
       "        vertical-align: top;\n",
       "    }\n",
       "\n",
       "    .dataframe thead th {\n",
       "        text-align: right;\n",
       "    }\n",
       "</style>\n",
       "<table border=\"1\" class=\"dataframe\">\n",
       "  <thead>\n",
       "    <tr style=\"text-align: right;\">\n",
       "      <th></th>\n",
       "      <th>dip (deg)</th>\n",
       "    </tr>\n",
       "  </thead>\n",
       "  <tbody>\n",
       "    <tr>\n",
       "      <th>count</th>\n",
       "      <td>150.000000</td>\n",
       "    </tr>\n",
       "    <tr>\n",
       "      <th>mean</th>\n",
       "      <td>72.531759</td>\n",
       "    </tr>\n",
       "    <tr>\n",
       "      <th>std</th>\n",
       "      <td>10.133808</td>\n",
       "    </tr>\n",
       "    <tr>\n",
       "      <th>min</th>\n",
       "      <td>55.175836</td>\n",
       "    </tr>\n",
       "    <tr>\n",
       "      <th>25%</th>\n",
       "      <td>63.985062</td>\n",
       "    </tr>\n",
       "    <tr>\n",
       "      <th>50%</th>\n",
       "      <td>72.479161</td>\n",
       "    </tr>\n",
       "    <tr>\n",
       "      <th>75%</th>\n",
       "      <td>81.059204</td>\n",
       "    </tr>\n",
       "    <tr>\n",
       "      <th>max</th>\n",
       "      <td>89.839782</td>\n",
       "    </tr>\n",
       "  </tbody>\n",
       "</table>\n",
       "</div>"
      ],
      "text/plain": [
       "        dip (deg)\n",
       "count  150.000000\n",
       "mean    72.531759\n",
       "std     10.133808\n",
       "min     55.175836\n",
       "25%     63.985062\n",
       "50%     72.479161\n",
       "75%     81.059204\n",
       "max     89.839782"
      ]
     },
     "execution_count": 105,
     "metadata": {},
     "output_type": "execute_result"
    }
   ],
   "source": [
    "df_training.describe()"
   ]
  },
  {
   "cell_type": "code",
   "execution_count": 106,
   "metadata": {},
   "outputs": [
    {
     "data": {
      "image/png": "[encoded data removed]",
      "text/plain": [
       "<Figure size 1000x600 with 1 Axes>"
      ]
     },
     "metadata": {},
     "output_type": "display_data"
    }
   ],
   "source": [
    "df_training.hist(figsize=(10, 6), alpha=0.7, bins=147);\n",
    "if IS_EXPORT:\n",
    "    plt.savefig(df_path.parent / f\"{DATA_TYPE}_histogram.png\", dpi=300, bbox_inches='tight')  # You can change the filename and format\n",
    "plt.show()  # Close the figure if you're done with it\n"
   ]
  },
  {
   "cell_type": "code",
   "execution_count": 107,
   "metadata": {},
   "outputs": [
    {
     "data": {
      "text/plain": [
       "array([[<Axes: xlabel='dip (deg)', ylabel='dip (deg)'>]], dtype=object)"
      ]
     },
     "execution_count": 107,
     "metadata": {},
     "output_type": "execute_result"
    },
    {
     "data": {
      "image/png": "[encoded data removed]",
      "text/plain": [
       "<Figure size 640x480 with 1 Axes>"
      ]
     },
     "metadata": {},
     "output_type": "display_data"
    }
   ],
   "source": [
    "df_transformed = df_training.copy()\n",
    "first_col = df_training.columns[0]\n",
    "df_transformed[first_col] = np.log10(df_training[first_col])\n",
    "pd.plotting.scatter_matrix(df_transformed)"
   ]
  },
  {
   "cell_type": "code",
   "execution_count": 108,
   "metadata": {},
   "outputs": [
    {
     "data": {
      "image/png": "[encoded data removed]",
      "text/plain": [
       "<Figure size 1000x600 with 1 Axes>"
      ]
     },
     "metadata": {},
     "output_type": "display_data"
    }
   ],
   "source": [
    "df_training.apply(lambda x : np.log10(x)).hist(figsize=(10, 6), alpha=0.7);\n",
    "if IS_EXPORT:\n",
    "    plt.savefig(df_path.parent / f\"{DATA_TYPE}_histogram_log.png\", dpi=300, bbox_inches='tight')  # You can change the filename and format\n",
    "plt.show()  # Close the figure if you're done with it"
   ]
  }
 ],
 "metadata": {
  "kernelspec": {
   "display_name": "nirb",
   "language": "python",
   "name": "python3"
  },
  "language_info": {
   "codemirror_mode": {
    "name": "ipython",
    "version": 3
   },
   "file_extension": ".py",
   "mimetype": "text/x-python",
   "name": "python",
   "nbconvert_exporter": "python",
   "pygments_lexer": "ipython3",
   "version": "3.12.4"
  }
 },
 "nbformat": 4,
 "nbformat_minor": 2
}
