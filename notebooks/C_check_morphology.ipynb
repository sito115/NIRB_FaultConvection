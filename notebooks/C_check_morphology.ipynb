{
 "cells": [
  {
   "cell_type": "code",
   "execution_count": 38,
   "id": "eebd3ccd",
   "metadata": {},
   "outputs": [],
   "source": [
    "import numpy as np\n",
    "import pandas as pd\n",
    "import plotly.graph_objects as go\n",
    "from pathlib import Path\n",
    "import pint\n",
    "import pint_pandas\n",
    "import sys\n"
   ]
  },
  {
   "cell_type": "code",
   "execution_count": 39,
   "id": "3e672184",
   "metadata": {},
   "outputs": [],
   "source": [
    "sys.path.append(str(Path.cwd().parent))"
   ]
  },
  {
   "cell_type": "code",
   "execution_count": 40,
   "id": "db98dc6d",
   "metadata": {},
   "outputs": [],
   "source": [
    "from src.utils import load_pint_data, PREFERRED_UNITS\n",
    "ureg = pint.get_application_registry()"
   ]
  },
  {
   "cell_type": "code",
   "execution_count": 41,
   "id": "3299094a",
   "metadata": {},
   "outputs": [],
   "source": [
    "ROOT = Path().cwd().parent\n",
    "PARAMETER_SPACE = \"07\"\n",
    "DATA_TYPE = \"Training\"\n",
    "param_file_training = ROOT / \"data\" / PARAMETER_SPACE / \"training_samples.csv\"\n",
    "assert param_file_training.exists()\n",
    "param_file_test = ROOT / \"data\" / PARAMETER_SPACE / \"test_samples.csv\"\n",
    "assert param_file_test.exists()\n",
    "\n",
    "zero_crossing_file_training = ROOT / \"data\" / PARAMETER_SPACE / \"Exports\" / \"Training_zero_crossings.npy\"\n",
    "assert zero_crossing_file_training.exists()\n",
    "zero_crossing_file_test = ROOT / \"data\" / PARAMETER_SPACE / \"Exports\" / \"Test_zero_crossings.npy\"\n",
    "assert zero_crossing_file_test.exists()"
   ]
  },
  {
   "cell_type": "code",
   "execution_count": 42,
   "id": "3a788e75",
   "metadata": {},
   "outputs": [],
   "source": [
    "parameters_training = load_pint_data(param_file_training)\n",
    "parameters_test     = load_pint_data(param_file_test)\n",
    "zero_crossings_training = np.load(zero_crossing_file_training)\n",
    "zero_crossings_test = np.load(zero_crossing_file_test)\n",
    "assert len(parameters_training) == len(zero_crossings_training)\n",
    "assert len(zero_crossings_test) == len(zero_crossings_test)"
   ]
  },
  {
   "cell_type": "code",
   "execution_count": 43,
   "id": "c5fa0d84",
   "metadata": {},
   "outputs": [],
   "source": [
    "for col in parameters_training.columns:\n",
    "    if parameters_training[col].pint.dimensionality in PREFERRED_UNITS:\n",
    "        unit = PREFERRED_UNITS[parameters_training[col].pint.dimensionality]\n",
    "        parameters_training[col] = parameters_training[col].pint.to(unit)   \n",
    "        parameters_test[col] = parameters_test[col].pint.to(unit) \n",
    "          \n",
    "parameters_training['zero_crossings'] = zero_crossings_training\n",
    "parameters_test['zero_crossings'] = zero_crossings_test"
   ]
  },
  {
   "cell_type": "code",
   "execution_count": 44,
   "id": "fccf2f48",
   "metadata": {},
   "outputs": [
    {
     "name": "stderr",
     "output_type": "stream",
     "text": [
      "/Users/thomassimader/Library/CloudStorage/OneDrive-geomeconGmbH/PhD/NIRB/.venv/lib/python3.12/site-packages/pandas/core/construction.py:629: UnitStrippedWarning:\n",
      "\n",
      "The unit of the quantity is stripped when downcasting to ndarray.\n",
      "\n",
      "/Users/thomassimader/Library/CloudStorage/OneDrive-geomeconGmbH/PhD/NIRB/.venv/lib/python3.12/site-packages/pandas/core/construction.py:629: UnitStrippedWarning:\n",
      "\n",
      "The unit of the quantity is stripped when downcasting to ndarray.\n",
      "\n",
      "/Users/thomassimader/Library/CloudStorage/OneDrive-geomeconGmbH/PhD/NIRB/.venv/lib/python3.12/site-packages/pandas/core/construction.py:629: UnitStrippedWarning:\n",
      "\n",
      "The unit of the quantity is stripped when downcasting to ndarray.\n",
      "\n",
      "/Users/thomassimader/Library/CloudStorage/OneDrive-geomeconGmbH/PhD/NIRB/.venv/lib/python3.12/site-packages/pandas/core/construction.py:629: UnitStrippedWarning:\n",
      "\n",
      "The unit of the quantity is stripped when downcasting to ndarray.\n",
      "\n"
     ]
    }
   ],
   "source": [
    "is_3d_plot = False\n",
    "if PARAMETER_SPACE == \"01\":\n",
    "    is_3d_plot = True\n",
    "    entropy_number_training = np.load(ROOT / \"data\" / PARAMETER_SPACE / \"TrainingMapped/s100_100_100_b0_4000_0_5000_-4000_0/Exports/Training_entropy_gen_number_therm.npy\")[:, -1]\n",
    "    entropy_number_test = np.load(ROOT / \"data\" / PARAMETER_SPACE / \"TestMapped/s100_100_100_b0_4000_0_5000_-4000_0/Exports/Test_entropy_gen_number_therm.npy\")[:, -1]\n",
    "    parameters_training['entropy_gen_number'] = entropy_number_training * ureg.dimensionless\n",
    "    parameters_test['entropy_gen_number'] = entropy_number_test * ureg.dimensionless\n",
    "    log_values_train = np.log10(parameters_training['host_k'].pint.magnitude) \n",
    "    log_values_test = np.log10(parameters_test['host_k'].pint.magnitude) \n",
    "    \n",
    "    parameters_training['log10_host_k'] = pd.Series(log_values_train, dtype=pint_pandas.PintType('m**2'))\n",
    "    parameters_test['log10_host_k'] = pd.Series(log_values_test, dtype=pint_pandas.PintType('m**2'))\n",
    "    \n",
    "    parameters_training = parameters_training.pint.dequantify()\n",
    "    parameters_test = parameters_test.pint.dequantify()\n",
    "    \n",
    "    indices_to_highlight_training = [64, 9, 27, 22, 60, 149, 70,213,\n",
    "                            73, 90, 238, 118, 50, 80, 278, 222, 14, 235,\n",
    "                            40, 209, 212, 220, 227, 267, 239, 134, 268]\n",
    "    \n",
    "    indices_to_highlight_test = [0, 1, 3, 12, 20, 22, 24, 26, 27, 29, 28, 33,]\n",
    "    \n",
    "    x_key = dict(key = parameters_training.columns[1])\n",
    "    y_key = dict(key = parameters_training.columns[-1]) \n",
    "    z_key = dict(key = parameters_training.columns[-2]) \n",
    "    \n",
    "elif PARAMETER_SPACE == \"03\":\n",
    "    parameters_training = parameters_training.pint.dequantify()\n",
    "    parameters_test = parameters_test.pint.dequantify()\n",
    "    parameters_training = parameters_training[:100]\n",
    "    parameters_test = parameters_test[:20]\n",
    "    x_key = dict(key = parameters_training.columns[0])\n",
    "    y_key = dict(key = parameters_training.columns[1])\n",
    "    indices_to_highlight_training = [] \n",
    "    indices_to_highlight_test = [] \n",
    "elif PARAMETER_SPACE == \"07\":\n",
    "    entropy_number_training = np.load(ROOT / \"data\" / PARAMETER_SPACE / \"TrainingOriginal\" / \"Training_entropy_gen_number_therm.npy\")[:, -1]\n",
    "    entropy_number_test = np.load(ROOT / \"data\" / PARAMETER_SPACE / \"TestOriginal\" / \"Test_entropy_gen_number_therm.npy\")[:, -1]\n",
    "    \n",
    "    entropy_number_test_vnc = np.load(ROOT / \"data\" / PARAMETER_SPACE /\"TestOriginalVNC\" / \"Test_entropy_gen_number_therm.npy\")[:, -1]\n",
    "    zero_crossings_test_vnc = np.load(ROOT / \"data\" / PARAMETER_SPACE / \"Exports\" / \"Test_zero_crossings_vnc.npy\")\n",
    "\n",
    "    parameters_training['entropy_gen_number'] = entropy_number_training * ureg.dimensionless\n",
    "    parameters_test['entropy_gen_number'] = entropy_number_test * ureg.dimensionless\n",
    "    parameters_test['entropy_gen_number_vnc'] = entropy_number_test_vnc * ureg.dimensionless\n",
    "    parameters_test['zero_crossings_vnc'] = zero_crossings_test_vnc * ureg.dimensionless\n",
    "    \n",
    "    parameters_training = parameters_training.pint.dequantify()\n",
    "    parameters_test = parameters_test.pint.dequantify()\n",
    "    x_key = dict(key = parameters_training.columns[0])\n",
    "    y_key = dict(key = parameters_training.columns[-2])\n",
    "    indices_to_highlight_training = [] \n",
    "    indices_to_highlight_test = [] \n",
    "else:\n",
    "    parameters_training = parameters_training.pint.dequantify()\n",
    "    parameters_test = parameters_test.pint.dequantify()\n",
    "    x_key = dict(key = parameters_training.columns[0])\n",
    "    y_key = dict(key = parameters_training.columns[1])\n",
    "    indices_to_highlight_training = [] \n",
    "    indices_to_highlight_test = [] \n",
    "    "
   ]
  },
  {
   "cell_type": "code",
   "execution_count": 45,
   "id": "2743cd80",
   "metadata": {},
   "outputs": [
    {
     "name": "stdout",
     "output_type": "stream",
     "text": [
      "{'key': ('T_h', 'degree_Celsius')}\n",
      "{'key': ('zero_crossings', 'No Unit')}\n"
     ]
    }
   ],
   "source": [
    "print(f'{x_key}')\n",
    "print(f'{y_key}')"
   ]
  },
  {
   "cell_type": "code",
   "execution_count": 50,
   "id": "4aa98682",
   "metadata": {},
   "outputs": [
    {
     "data": {
      "application/vnd.plotly.v1+json": {
       "config": {
        "plotlyServerURL": "https://plot.ly"
       },
       "data": [
        {
         "customdata": {
          "bdata": "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",
          "dtype": "f8",
          "shape": "150, 2"
         },
         "hovertemplate": "Training Idx: %{customdata[0]:03d}<br>('T_h', 'degree_Celsius'): %{x:.2f}<br>('zero_crossings', 'No Unit'): %{y:.2f}<br>zero_crossings: %{customdata[1]:d}<extra></extra>",
         "marker": {
          "cmax": 7,
          "cmin": 0,
          "color": {
           "bdata": "AAAAAAAAEEAAAAAAAAAQQAAAAAAAAAAAAAAAAAAAAAAAAAAAAAAAQAAAAAAAAAAAAAAAAAAACEAAAAAAAAAAQAAAAAAAABBAAAAAAAAAEEAAAAAAAAAQQAAAAAAAABhAAAAAAAAAEEAAAAAAAAAIQAAAAAAAABBAAAAAAAAACEAAAAAAAAAAQAAAAAAAAAAAAAAAAAAAGEAAAAAAAAAIQAAAAAAAAABAAAAAAAAAAEAAAAAAAAAQQAAAAAAAAABAAAAAAAAAEEAAAAAAAAAUQAAAAAAAABRAAAAAAAAAAEAAAAAAAAAIQAAAAAAAAAhAAAAAAAAAEEAAAAAAAAAUQAAAAAAAAABAAAAAAAAACEAAAAAAAAAAQAAAAAAAAAhAAAAAAAAAAAAAAAAAAAAAQAAAAAAAABBAAAAAAAAAHEAAAAAAAAAQQAAAAAAAAAhAAAAAAAAAAAAAAAAAAAAUQAAAAAAAABRAAAAAAAAAAEAAAAAAAAAUQAAAAAAAABBAAAAAAAAAAAAAAAAAAAAIQAAAAAAAAAAAAAAAAAAAFEAAAAAAAAAIQAAAAAAAABhAAAAAAAAAFEAAAAAAAAAAAAAAAAAAABRAAAAAAAAAEEAAAAAAAAAUQAAAAAAAAABAAAAAAAAAAEAAAAAAAAAAAAAAAAAAAABAAAAAAAAAEEAAAAAAAAAUQAAAAAAAABRAAAAAAAAAAAAAAAAAAAAAQAAAAAAAAABAAAAAAAAAEEAAAAAAAAAUQAAAAAAAABRAAAAAAAAAFEAAAAAAAAAAAAAAAAAAAABAAAAAAAAACEAAAAAAAAAUQAAAAAAAAAhAAAAAAAAAAAAAAAAAAAAQQAAAAAAAAAAAAAAAAAAAFEAAAAAAAAAAAAAAAAAAAABAAAAAAAAAEEAAAAAAAAAAQAAAAAAAAABAAAAAAAAACEAAAAAAAAAcQAAAAAAAAABAAAAAAAAAGEAAAAAAAAAQQAAAAAAAABRAAAAAAAAACEAAAAAAAAAAAAAAAAAAABRAAAAAAAAAFEAAAAAAAAAUQAAAAAAAAABAAAAAAAAAAEAAAAAAAAAUQAAAAAAAABxAAAAAAAAAAEAAAAAAAAAUQAAAAAAAABBAAAAAAAAAFEAAAAAAAAAAQAAAAAAAAAhAAAAAAAAAFEAAAAAAAAAUQAAAAAAAABRAAAAAAAAAAEAAAAAAAAAQQAAAAAAAABRAAAAAAAAAEEAAAAAAAAAAQAAAAAAAABRAAAAAAAAAFEAAAAAAAAAAQAAAAAAAABhAAAAAAAAAAAAAAAAAAAAAQAAAAAAAABRAAAAAAAAACEAAAAAAAAAUQAAAAAAAAABAAAAAAAAAAEAAAAAAAAAQQAAAAAAAABRAAAAAAAAAEEAAAAAAAAAAAAAAAAAAAAAAAAAAAAAAEEAAAAAAAAAUQAAAAAAAABBAAAAAAAAAGEAAAAAAAAAIQAAAAAAAABBAAAAAAAAACEAAAAAAAAAUQAAAAAAAAABAAAAAAAAAAEAAAAAAAAAUQAAAAAAAABBAAAAAAAAAAAAAAAAAAAAUQAAAAAAAAAAAAAAAAAAAFEAAAAAAAAAQQAAAAAAAABRA",
           "dtype": "f8"
          },
          "colorscale": [
           [
            0,
            "#440154"
           ],
           [
            0.1111111111111111,
            "#482878"
           ],
           [
            0.2222222222222222,
            "#3e4989"
           ],
           [
            0.3333333333333333,
            "#31688e"
           ],
           [
            0.4444444444444444,
            "#26828e"
           ],
           [
            0.5555555555555556,
            "#1f9e89"
           ],
           [
            0.6666666666666666,
            "#35b779"
           ],
           [
            0.7777777777777778,
            "#6ece58"
           ],
           [
            0.8888888888888888,
            "#b5de2b"
           ],
           [
            1,
            "#fde725"
           ]
          ],
          "opacity": 0.9,
          "showscale": true,
          "size": 8
         },
         "mode": "markers",
         "name": "Training Samples",
         "text": {
          "bdata": "AAAAAAAAAAAAAAAAAADwPwAAAAAAAABAAAAAAAAACEAAAAAAAAAQQAAAAAAAABRAAAAAAAAAGEAAAAAAAAAcQAAAAAAAACBAAAAAAAAAIkAAAAAAAAAkQAAAAAAAACZAAAAAAAAAKEAAAAAAAAAqQAAAAAAAACxAAAAAAAAALkAAAAAAAAAwQAAAAAAAADFAAAAAAAAAMkAAAAAAAAAzQAAAAAAAADRAAAAAAAAANUAAAAAAAAA2QAAAAAAAADdAAAAAAAAAOEAAAAAAAAA5QAAAAAAAADpAAAAAAAAAO0AAAAAAAAA8QAAAAAAAAD1AAAAAAAAAPkAAAAAAAAA/QAAAAAAAAEBAAAAAAACAQEAAAAAAAABBQAAAAAAAgEFAAAAAAAAAQkAAAAAAAIBCQAAAAAAAAENAAAAAAACAQ0AAAAAAAABEQAAAAAAAgERAAAAAAAAARUAAAAAAAIBFQAAAAAAAAEZAAAAAAACARkAAAAAAAABHQAAAAAAAgEdAAAAAAAAASEAAAAAAAIBIQAAAAAAAAElAAAAAAACASUAAAAAAAABKQAAAAAAAgEpAAAAAAAAAS0AAAAAAAIBLQAAAAAAAAExAAAAAAACATEAAAAAAAABNQAAAAAAAgE1AAAAAAAAATkAAAAAAAIBOQAAAAAAAAE9AAAAAAACAT0AAAAAAAABQQAAAAAAAQFBAAAAAAACAUEAAAAAAAMBQQAAAAAAAAFFAAAAAAABAUUAAAAAAAIBRQAAAAAAAwFFAAAAAAAAAUkAAAAAAAEBSQAAAAAAAgFJAAAAAAADAUkAAAAAAAABTQAAAAAAAQFNAAAAAAACAU0AAAAAAAMBTQAAAAAAAAFRAAAAAAABAVEAAAAAAAIBUQAAAAAAAwFRAAAAAAAAAVUAAAAAAAEBVQAAAAAAAgFVAAAAAAADAVUAAAAAAAABWQAAAAAAAQFZAAAAAAACAVkAAAAAAAMBWQAAAAAAAAFdAAAAAAABAV0AAAAAAAIBXQAAAAAAAwFdAAAAAAAAAWEAAAAAAAEBYQAAAAAAAgFhAAAAAAADAWEAAAAAAAABZQAAAAAAAQFlAAAAAAACAWUAAAAAAAMBZQAAAAAAAAFpAAAAAAABAWkAAAAAAAIBaQAAAAAAAwFpAAAAAAAAAW0AAAAAAAEBbQAAAAAAAgFtAAAAAAADAW0AAAAAAAABcQAAAAAAAQFxAAAAAAACAXEAAAAAAAMBcQAAAAAAAAF1AAAAAAABAXUAAAAAAAIBdQAAAAAAAwF1AAAAAAAAAXkAAAAAAAEBeQAAAAAAAgF5AAAAAAADAXkAAAAAAAABfQAAAAAAAQF9AAAAAAACAX0AAAAAAAMBfQAAAAAAAAGBAAAAAAAAgYEAAAAAAAEBgQAAAAAAAYGBAAAAAAACAYEAAAAAAAKBgQAAAAAAAwGBAAAAAAADgYEAAAAAAAABhQAAAAAAAIGFAAAAAAABAYUAAAAAAAGBhQAAAAAAAgGFAAAAAAACgYUAAAAAAAMBhQAAAAAAA4GFAAAAAAAAAYkAAAAAAACBiQAAAAAAAQGJAAAAAAABgYkAAAAAAAIBiQAAAAAAAoGJA",
          "dtype": "f8"
         },
         "type": "scatter",
         "x": {
          "bdata": "NDMzMzNDakA0MzMzM+NpQAAAAAAAcGBAmpmZmZkJYUA0MzMzM8NiQAAAAAAA0GBAaGZmZmY2ZkA0MzMzMyNjQMrMzMzMXGZANDMzMzNjZUAAAAAAADBqQMrMzMzMHGpAyszMzMy8aUA0MzMzM0NkQJqZmZmZiWVAmpmZmZkpaECamZmZmUljQMrMzMzMvGBAAAAAAADwakA0MzMzMyNmQJqZmZmZiWJAAAAAAABwY0AAAAAAANBpQAAAAAAAsGJAmpmZmZkpZUBoZmZmZlZnQJqZmZmZaWdAmpmZmZnpYkDKzMzMzPxlQAAAAAAAkGpANDMzMzMDZUBoZmZmZlZqQDQzMzMzo2RAyszMzMwcZEBoZmZmZjZjQAAAAAAAMGRAmpmZmZlpYUDKzMzMzPxiQDQzMzMzw2VAaGZmZmYWa0BoZmZmZrZnQGhmZmZmVmRAmpmZmZnJYUDKzMzMzJxoQGhmZmZmtmpAaGZmZmb2Y0DKzMzMzDxrQAAAAAAAUGVAaGZmZmaWYEAAAAAAAPBnQJqZmZmZqWBAmpmZmZkJZ0BoZmZmZtZlQMrMzMzMfGpANDMzMzPjZkBoZmZmZvZgQAAAAAAAUGtANDMzMzODaUDKzMzMzFxpQJqZmZmZKWJAyszMzMy8Y0DKzMzMzFxgQDQzMzMzA2JAmpmZmZlJaUCamZmZmYloQDQzMzMzY2hANDMzMzODYECamZmZmQlkQGhmZmZm1mJAAAAAAABwZkCamZmZmalmQGhmZmZm9mZAaGZmZmaWaUDKzMzMzBxhQGhmZmZmFmJAaGZmZma2ZEAAAAAAAFBoQAAAAAAAkGRAAAAAAAAwYUDKzMzMzJxlQMrMzMzMfGFAyszMzMwcZ0BoZmZmZrZhQMrMzMzMnGJAAAAAAACwZUDKzMzMzFxjQJqZmZmZSWZAmpmZmZnJZEA0MzMzMwNrQMrMzMzMPGJANDMzMzMjaUAAAAAAAPBkQMrMzMzMPGhAyszMzMx8ZEA0MzMzM+NgQGhmZmZmlmZAmpmZmZnJakAAAAAAALBoQGhmZmZmlmNANDMzMzODY0A0MzMzM0NnQGhmZmZmdmtANDMzMzNjYkA0MzMzM4NmQJqZmZmZ6WVAAAAAAADQZkAAAAAAABBjQJqZmZmZaWRANDMzMzOjakAAAAAAAHBpQGhmZmZm9mlAyszMzMzcYUBoZmZmZhZoQMrMzMzM3GdAmpmZmZlpakCamZmZmaljQJqZmZmZCWpAyszMzMz8aEAAAAAAANBjQGhmZmZmNmlANDMzMzNDYUAAAAAAAFBiQAAAAAAAEGlAmpmZmZnJZ0A0MzMzM8NoQAAAAAAA8GFAyszMzMzcZEDKzMzMzNxqQAAAAAAAMGdAAAAAAACQZ0CamZmZmUlgQGhmZmZmVmFAaGZmZmYWZUCamZmZmeloQDQzMzMzY2tAmpmZmZkpa0AAAAAAABBmQMrMzMzMPGVANDMzMzMDaECamZmZmalpQGhmZmZmdmJANDMzMzPjY0DKzMzMzHxnQDQzMzMzo2dAAAAAAACQYUBoZmZmZtZoQDQzMzMzo2FAaGZmZmZ2aEBoZmZmZnZlQMrMzMzMvGZA",
          "dtype": "f8"
         },
         "y": {
          "bdata": "AAAAAAAAEEAAAAAAAAAQQAAAAAAAAAAAAAAAAAAAAAAAAAAAAAAAQAAAAAAAAAAAAAAAAAAACEAAAAAAAAAAQAAAAAAAABBAAAAAAAAAEEAAAAAAAAAQQAAAAAAAABhAAAAAAAAAEEAAAAAAAAAIQAAAAAAAABBAAAAAAAAACEAAAAAAAAAAQAAAAAAAAAAAAAAAAAAAGEAAAAAAAAAIQAAAAAAAAABAAAAAAAAAAEAAAAAAAAAQQAAAAAAAAABAAAAAAAAAEEAAAAAAAAAUQAAAAAAAABRAAAAAAAAAAEAAAAAAAAAIQAAAAAAAAAhAAAAAAAAAEEAAAAAAAAAUQAAAAAAAAABAAAAAAAAACEAAAAAAAAAAQAAAAAAAAAhAAAAAAAAAAAAAAAAAAAAAQAAAAAAAABBAAAAAAAAAHEAAAAAAAAAQQAAAAAAAAAhAAAAAAAAAAAAAAAAAAAAUQAAAAAAAABRAAAAAAAAAAEAAAAAAAAAUQAAAAAAAABBAAAAAAAAAAAAAAAAAAAAIQAAAAAAAAAAAAAAAAAAAFEAAAAAAAAAIQAAAAAAAABhAAAAAAAAAFEAAAAAAAAAAAAAAAAAAABRAAAAAAAAAEEAAAAAAAAAUQAAAAAAAAABAAAAAAAAAAEAAAAAAAAAAAAAAAAAAAABAAAAAAAAAEEAAAAAAAAAUQAAAAAAAABRAAAAAAAAAAAAAAAAAAAAAQAAAAAAAAABAAAAAAAAAEEAAAAAAAAAUQAAAAAAAABRAAAAAAAAAFEAAAAAAAAAAAAAAAAAAAABAAAAAAAAACEAAAAAAAAAUQAAAAAAAAAhAAAAAAAAAAAAAAAAAAAAQQAAAAAAAAAAAAAAAAAAAFEAAAAAAAAAAAAAAAAAAAABAAAAAAAAAEEAAAAAAAAAAQAAAAAAAAABAAAAAAAAACEAAAAAAAAAcQAAAAAAAAABAAAAAAAAAGEAAAAAAAAAQQAAAAAAAABRAAAAAAAAACEAAAAAAAAAAAAAAAAAAABRAAAAAAAAAFEAAAAAAAAAUQAAAAAAAAABAAAAAAAAAAEAAAAAAAAAUQAAAAAAAABxAAAAAAAAAAEAAAAAAAAAUQAAAAAAAABBAAAAAAAAAFEAAAAAAAAAAQAAAAAAAAAhAAAAAAAAAFEAAAAAAAAAUQAAAAAAAABRAAAAAAAAAAEAAAAAAAAAQQAAAAAAAABRAAAAAAAAAEEAAAAAAAAAAQAAAAAAAABRAAAAAAAAAFEAAAAAAAAAAQAAAAAAAABhAAAAAAAAAAAAAAAAAAAAAQAAAAAAAABRAAAAAAAAACEAAAAAAAAAUQAAAAAAAAABAAAAAAAAAAEAAAAAAAAAQQAAAAAAAABRAAAAAAAAAEEAAAAAAAAAAAAAAAAAAAAAAAAAAAAAAEEAAAAAAAAAUQAAAAAAAABBAAAAAAAAAGEAAAAAAAAAIQAAAAAAAABBAAAAAAAAACEAAAAAAAAAUQAAAAAAAAABAAAAAAAAAAEAAAAAAAAAUQAAAAAAAABBAAAAAAAAAAAAAAAAAAAAUQAAAAAAAAAAAAAAAAAAAFEAAAAAAAAAQQAAAAAAAABRA",
          "dtype": "f8"
         }
        },
        {
         "customdata": {
          "bdata": "AAAAAAAAAAAAAAAAAAAIQAAAAAAAAPA/AAAAAAAAHEAAAAAAAAAAQAAAAAAAABRAAAAAAAAACEAAAAAAAAAAQAAAAAAAABBAAAAAAAAAEEAAAAAAAAAUQAAAAAAAAABAAAAAAAAAGEAAAAAAAAAAQAAAAAAAABxAAAAAAAAAEEAAAAAAAAAgQAAAAAAAABRAAAAAAAAAIkAAAAAAAAAAQAAAAAAAACRAAAAAAAAAAEAAAAAAAAAmQAAAAAAAABBAAAAAAAAAKEAAAAAAAAAAAAAAAAAAACpAAAAAAAAAAEAAAAAAAAAsQAAAAAAAABRAAAAAAAAALkAAAAAAAAAcQAAAAAAAADBAAAAAAAAAAAAAAAAAAAAxQAAAAAAAABRAAAAAAAAAMkAAAAAAAAAAQAAAAAAAADNAAAAAAAAAFEA=",
          "dtype": "f8",
          "shape": "20, 2"
         },
         "hovertemplate": "Test Idx: %{customdata[0]:03d}<br>('T_h', 'degree_Celsius'): %{x:.2f}<br>('zero_crossings', 'No Unit'): %{y:.2f}<br>zero_crossings: %{customdata[1]:d}<extra></extra>",
         "marker": {
          "color": "rgba(0,0,0,0)",
          "line": {
           "cmax": 7,
           "cmin": 0,
           "color": {
            "bdata": "AAAAAAAACEAAAAAAAAAcQAAAAAAAABRAAAAAAAAAAEAAAAAAAAAQQAAAAAAAAABAAAAAAAAAAEAAAAAAAAAQQAAAAAAAABRAAAAAAAAAAEAAAAAAAAAAQAAAAAAAABBAAAAAAAAAAAAAAAAAAAAAQAAAAAAAABRAAAAAAAAAHEAAAAAAAAAAAAAAAAAAABRAAAAAAAAAAEAAAAAAAAAUQA==",
            "dtype": "f8"
           },
           "colorscale": [
            [
             0,
             "#440154"
            ],
            [
             0.1111111111111111,
             "#482878"
            ],
            [
             0.2222222222222222,
             "#3e4989"
            ],
            [
             0.3333333333333333,
             "#31688e"
            ],
            [
             0.4444444444444444,
             "#26828e"
            ],
            [
             0.5555555555555556,
             "#1f9e89"
            ],
            [
             0.6666666666666666,
             "#35b779"
            ],
            [
             0.7777777777777778,
             "#6ece58"
            ],
            [
             0.8888888888888888,
             "#b5de2b"
            ],
            [
             1,
             "#fde725"
            ]
           ],
           "width": 3
          },
          "opacity": 0.9,
          "showscale": false,
          "size": 8
         },
         "mode": "markers",
         "name": "Test Samples",
         "text": {
          "bdata": "AAAAAAAAAAAAAAAAAADwPwAAAAAAAABAAAAAAAAACEAAAAAAAAAQQAAAAAAAABRAAAAAAAAAGEAAAAAAAAAcQAAAAAAAACBAAAAAAAAAIkAAAAAAAAAkQAAAAAAAACZAAAAAAAAAKEAAAAAAAAAqQAAAAAAAACxAAAAAAAAALkAAAAAAAAAwQAAAAAAAADFAAAAAAAAAMkAAAAAAAAAzQA==",
          "dtype": "f8"
         },
         "type": "scatter",
         "x": {
          "bdata": "4iKBx+drZEDgcEaJOdNqQJSNxX/qAWlARNaPZVHVZEDqMk/4XjxlQKxKlLDBlGJAAt9a8xLOZEC+0QcTlhNlQJ7wfj7Ra2lA2D2XpM94YkCE7Gie4rtjQKgECcNzTWpARCwvIoukYUCeXSItupVjQP7jmui28mhATKErBVFwa0CMexqgcJtgQNxEYJ1mUGlAZl7RxiboYUAU8P9JydRoQA==",
          "dtype": "f8"
         },
         "y": {
          "bdata": "AAAAAAAACEAAAAAAAAAcQAAAAAAAABRAAAAAAAAAAEAAAAAAAAAQQAAAAAAAAABAAAAAAAAAAEAAAAAAAAAQQAAAAAAAABRAAAAAAAAAAEAAAAAAAAAAQAAAAAAAABBAAAAAAAAAAAAAAAAAAAAAQAAAAAAAABRAAAAAAAAAHEAAAAAAAAAAAAAAAAAAABRAAAAAAAAAAEAAAAAAAAAUQA==",
          "dtype": "f8"
         }
        },
        {
         "customdata": {
          "bdata": "AAAAAAAAAAAAAAAAAAAIQAAAAAAAAPA/AAAAAAAAHEAAAAAAAAAAQAAAAAAAABRAAAAAAAAACEAAAAAAAAAAQAAAAAAAABBAAAAAAAAAEEAAAAAAAAAUQAAAAAAAAABAAAAAAAAAGEAAAAAAAAAAQAAAAAAAABxAAAAAAAAAEEAAAAAAAAAgQAAAAAAAABRAAAAAAAAAIkAAAAAAAAAAQAAAAAAAACRAAAAAAAAAAEAAAAAAAAAmQAAAAAAAABBAAAAAAAAAKEAAAAAAAAAAAAAAAAAAACpAAAAAAAAAAEAAAAAAAAAsQAAAAAAAABRAAAAAAAAALkAAAAAAAAAcQAAAAAAAADBAAAAAAAAAAAAAAAAAAAAxQAAAAAAAABRAAAAAAAAAMkAAAAAAAAAAQAAAAAAAADNAAAAAAAAAFEA=",
          "dtype": "f8",
          "shape": "20, 2"
         },
         "hovertemplate": "Test Idx: %{customdata[0]:03d}<br>('T_h', 'degree_Celsius'): %{x:.2f}<br>('zero_crossings', 'No Unit'): %{y:.2f}<br>zero_crossings: %{customdata[1]:d}<extra></extra>",
         "marker": {
          "color": "rgba(0,0,0,0)",
          "line": {
           "cmax": 7,
           "cmin": 0,
           "color": {
            "bdata": "AAAAAAAACEAAAAAAAAAYQAAAAAAAABRAAAAAAAAACEAAAAAAAAAQQAAAAAAAAABAAAAAAAAACEAAAAAAAAAIQAAAAAAAABRAAAAAAAAAAEAAAAAAAAAIQAAAAAAAAAhAAAAAAAAAAAAAAAAAAAAIQAAAAAAAABhAAAAAAAAAGEAAAAAAAAAAAAAAAAAAABhAAAAAAAAAAEAAAAAAAAAYQA==",
            "dtype": "f8"
           },
           "colorscale": [
            [
             0,
             "#440154"
            ],
            [
             0.1111111111111111,
             "#482878"
            ],
            [
             0.2222222222222222,
             "#3e4989"
            ],
            [
             0.3333333333333333,
             "#31688e"
            ],
            [
             0.4444444444444444,
             "#26828e"
            ],
            [
             0.5555555555555556,
             "#1f9e89"
            ],
            [
             0.6666666666666666,
             "#35b779"
            ],
            [
             0.7777777777777778,
             "#6ece58"
            ],
            [
             0.8888888888888888,
             "#b5de2b"
            ],
            [
             1,
             "#fde725"
            ]
           ],
           "width": 3
          },
          "opacity": 0.9,
          "showscale": false,
          "size": 8,
          "symbol": "square"
         },
         "mode": "markers",
         "name": "Test Samples VNC",
         "text": {
          "bdata": "AAAAAAAAAAAAAAAAAADwPwAAAAAAAABAAAAAAAAACEAAAAAAAAAQQAAAAAAAABRAAAAAAAAAGEAAAAAAAAAcQAAAAAAAACBAAAAAAAAAIkAAAAAAAAAkQAAAAAAAACZAAAAAAAAAKEAAAAAAAAAqQAAAAAAAACxAAAAAAAAALkAAAAAAAAAwQAAAAAAAADFAAAAAAAAAMkAAAAAAAAAzQA==",
          "dtype": "f8"
         },
         "type": "scatter",
         "x": {
          "bdata": "4iKBx+drZEDgcEaJOdNqQJSNxX/qAWlARNaPZVHVZEDqMk/4XjxlQKxKlLDBlGJAAt9a8xLOZEC+0QcTlhNlQJ7wfj7Ra2lA2D2XpM94YkCE7Gie4rtjQKgECcNzTWpARCwvIoukYUCeXSItupVjQP7jmui28mhATKErBVFwa0CMexqgcJtgQNxEYJ1mUGlAZl7RxiboYUAU8P9JydRoQA==",
          "dtype": "f8"
         },
         "y": {
          "bdata": "AAAAAAAACEAAAAAAAAAYQAAAAAAAABRAAAAAAAAACEAAAAAAAAAQQAAAAAAAAABAAAAAAAAACEAAAAAAAAAIQAAAAAAAABRAAAAAAAAAAEAAAAAAAAAIQAAAAAAAAAhAAAAAAAAAAAAAAAAAAAAIQAAAAAAAABhAAAAAAAAAGEAAAAAAAAAAAAAAAAAAABhAAAAAAAAAAEAAAAAAAAAYQA==",
          "dtype": "f8"
         }
        },
        {
         "hoverinfo": "skip",
         "marker": {
          "color": "rgba(0,0,0,0)",
          "line": {
           "color": "red",
           "width": 2
          },
          "showscale": false,
          "size": 14
         },
         "mode": "markers",
         "name": "Highlighted Training Samples",
         "type": "scatter",
         "x": [],
         "y": []
        },
        {
         "hoverinfo": "skip",
         "marker": {
          "color": "rgba(0,0,0,0)",
          "line": {
           "color": "magenta",
           "width": 2
          },
          "showscale": false,
          "size": 14
         },
         "mode": "markers",
         "name": "Critical Test Samples",
         "type": "scatter",
         "x": [],
         "y": []
        },
        {
         "hovertemplate": "skip",
         "mode": "text",
         "name": "Training Samples Idx Numbers",
         "text": {
          "bdata": "AAAAAAAAAAAAAAAAAADwPwAAAAAAAABAAAAAAAAACEAAAAAAAAAQQAAAAAAAABRAAAAAAAAAGEAAAAAAAAAcQAAAAAAAACBAAAAAAAAAIkAAAAAAAAAkQAAAAAAAACZAAAAAAAAAKEAAAAAAAAAqQAAAAAAAACxAAAAAAAAALkAAAAAAAAAwQAAAAAAAADFAAAAAAAAAMkAAAAAAAAAzQAAAAAAAADRAAAAAAAAANUAAAAAAAAA2QAAAAAAAADdAAAAAAAAAOEAAAAAAAAA5QAAAAAAAADpAAAAAAAAAO0AAAAAAAAA8QAAAAAAAAD1AAAAAAAAAPkAAAAAAAAA/QAAAAAAAAEBAAAAAAACAQEAAAAAAAABBQAAAAAAAgEFAAAAAAAAAQkAAAAAAAIBCQAAAAAAAAENAAAAAAACAQ0AAAAAAAABEQAAAAAAAgERAAAAAAAAARUAAAAAAAIBFQAAAAAAAAEZAAAAAAACARkAAAAAAAABHQAAAAAAAgEdAAAAAAAAASEAAAAAAAIBIQAAAAAAAAElAAAAAAACASUAAAAAAAABKQAAAAAAAgEpAAAAAAAAAS0AAAAAAAIBLQAAAAAAAAExAAAAAAACATEAAAAAAAABNQAAAAAAAgE1AAAAAAAAATkAAAAAAAIBOQAAAAAAAAE9AAAAAAACAT0AAAAAAAABQQAAAAAAAQFBAAAAAAACAUEAAAAAAAMBQQAAAAAAAAFFAAAAAAABAUUAAAAAAAIBRQAAAAAAAwFFAAAAAAAAAUkAAAAAAAEBSQAAAAAAAgFJAAAAAAADAUkAAAAAAAABTQAAAAAAAQFNAAAAAAACAU0AAAAAAAMBTQAAAAAAAAFRAAAAAAABAVEAAAAAAAIBUQAAAAAAAwFRAAAAAAAAAVUAAAAAAAEBVQAAAAAAAgFVAAAAAAADAVUAAAAAAAABWQAAAAAAAQFZAAAAAAACAVkAAAAAAAMBWQAAAAAAAAFdAAAAAAABAV0AAAAAAAIBXQAAAAAAAwFdAAAAAAAAAWEAAAAAAAEBYQAAAAAAAgFhAAAAAAADAWEAAAAAAAABZQAAAAAAAQFlAAAAAAACAWUAAAAAAAMBZQAAAAAAAAFpAAAAAAABAWkAAAAAAAIBaQAAAAAAAwFpAAAAAAAAAW0AAAAAAAEBbQAAAAAAAgFtAAAAAAADAW0AAAAAAAABcQAAAAAAAQFxAAAAAAACAXEAAAAAAAMBcQAAAAAAAAF1AAAAAAABAXUAAAAAAAIBdQAAAAAAAwF1AAAAAAAAAXkAAAAAAAEBeQAAAAAAAgF5AAAAAAADAXkAAAAAAAABfQAAAAAAAQF9AAAAAAACAX0AAAAAAAMBfQAAAAAAAAGBAAAAAAAAgYEAAAAAAAEBgQAAAAAAAYGBAAAAAAACAYEAAAAAAAKBgQAAAAAAAwGBAAAAAAADgYEAAAAAAAABhQAAAAAAAIGFAAAAAAABAYUAAAAAAAGBhQAAAAAAAgGFAAAAAAACgYUAAAAAAAMBhQAAAAAAA4GFAAAAAAAAAYkAAAAAAACBiQAAAAAAAQGJAAAAAAABgYkAAAAAAAIBiQAAAAAAAoGJA",
          "dtype": "f8"
         },
         "textposition": "top center",
         "type": "scatter",
         "visible": "legendonly",
         "x": {
          "bdata": "NDMzMzNDakA0MzMzM+NpQAAAAAAAcGBAmpmZmZkJYUA0MzMzM8NiQAAAAAAA0GBAaGZmZmY2ZkA0MzMzMyNjQMrMzMzMXGZANDMzMzNjZUAAAAAAADBqQMrMzMzMHGpAyszMzMy8aUA0MzMzM0NkQJqZmZmZiWVAmpmZmZkpaECamZmZmUljQMrMzMzMvGBAAAAAAADwakA0MzMzMyNmQJqZmZmZiWJAAAAAAABwY0AAAAAAANBpQAAAAAAAsGJAmpmZmZkpZUBoZmZmZlZnQJqZmZmZaWdAmpmZmZnpYkDKzMzMzPxlQAAAAAAAkGpANDMzMzMDZUBoZmZmZlZqQDQzMzMzo2RAyszMzMwcZEBoZmZmZjZjQAAAAAAAMGRAmpmZmZlpYUDKzMzMzPxiQDQzMzMzw2VAaGZmZmYWa0BoZmZmZrZnQGhmZmZmVmRAmpmZmZnJYUDKzMzMzJxoQGhmZmZmtmpAaGZmZmb2Y0DKzMzMzDxrQAAAAAAAUGVAaGZmZmaWYEAAAAAAAPBnQJqZmZmZqWBAmpmZmZkJZ0BoZmZmZtZlQMrMzMzMfGpANDMzMzPjZkBoZmZmZvZgQAAAAAAAUGtANDMzMzODaUDKzMzMzFxpQJqZmZmZKWJAyszMzMy8Y0DKzMzMzFxgQDQzMzMzA2JAmpmZmZlJaUCamZmZmYloQDQzMzMzY2hANDMzMzODYECamZmZmQlkQGhmZmZm1mJAAAAAAABwZkCamZmZmalmQGhmZmZm9mZAaGZmZmaWaUDKzMzMzBxhQGhmZmZmFmJAaGZmZma2ZEAAAAAAAFBoQAAAAAAAkGRAAAAAAAAwYUDKzMzMzJxlQMrMzMzMfGFAyszMzMwcZ0BoZmZmZrZhQMrMzMzMnGJAAAAAAACwZUDKzMzMzFxjQJqZmZmZSWZAmpmZmZnJZEA0MzMzMwNrQMrMzMzMPGJANDMzMzMjaUAAAAAAAPBkQMrMzMzMPGhAyszMzMx8ZEA0MzMzM+NgQGhmZmZmlmZAmpmZmZnJakAAAAAAALBoQGhmZmZmlmNANDMzMzODY0A0MzMzM0NnQGhmZmZmdmtANDMzMzNjYkA0MzMzM4NmQJqZmZmZ6WVAAAAAAADQZkAAAAAAABBjQJqZmZmZaWRANDMzMzOjakAAAAAAAHBpQGhmZmZm9mlAyszMzMzcYUBoZmZmZhZoQMrMzMzM3GdAmpmZmZlpakCamZmZmaljQJqZmZmZCWpAyszMzMz8aEAAAAAAANBjQGhmZmZmNmlANDMzMzNDYUAAAAAAAFBiQAAAAAAAEGlAmpmZmZnJZ0A0MzMzM8NoQAAAAAAA8GFAyszMzMzcZEDKzMzMzNxqQAAAAAAAMGdAAAAAAACQZ0CamZmZmUlgQGhmZmZmVmFAaGZmZmYWZUCamZmZmeloQDQzMzMzY2tAmpmZmZkpa0AAAAAAABBmQMrMzMzMPGVANDMzMzMDaECamZmZmalpQGhmZmZmdmJANDMzMzPjY0DKzMzMzHxnQDQzMzMzo2dAAAAAAACQYUBoZmZmZtZoQDQzMzMzo2FAaGZmZmZ2aEBoZmZmZnZlQMrMzMzMvGZA",
          "dtype": "f8"
         },
         "y": {
          "bdata": "AAAAAAAAEEAAAAAAAAAQQAAAAAAAAAAAAAAAAAAAAAAAAAAAAAAAQAAAAAAAAAAAAAAAAAAACEAAAAAAAAAAQAAAAAAAABBAAAAAAAAAEEAAAAAAAAAQQAAAAAAAABhAAAAAAAAAEEAAAAAAAAAIQAAAAAAAABBAAAAAAAAACEAAAAAAAAAAQAAAAAAAAAAAAAAAAAAAGEAAAAAAAAAIQAAAAAAAAABAAAAAAAAAAEAAAAAAAAAQQAAAAAAAAABAAAAAAAAAEEAAAAAAAAAUQAAAAAAAABRAAAAAAAAAAEAAAAAAAAAIQAAAAAAAAAhAAAAAAAAAEEAAAAAAAAAUQAAAAAAAAABAAAAAAAAACEAAAAAAAAAAQAAAAAAAAAhAAAAAAAAAAAAAAAAAAAAAQAAAAAAAABBAAAAAAAAAHEAAAAAAAAAQQAAAAAAAAAhAAAAAAAAAAAAAAAAAAAAUQAAAAAAAABRAAAAAAAAAAEAAAAAAAAAUQAAAAAAAABBAAAAAAAAAAAAAAAAAAAAIQAAAAAAAAAAAAAAAAAAAFEAAAAAAAAAIQAAAAAAAABhAAAAAAAAAFEAAAAAAAAAAAAAAAAAAABRAAAAAAAAAEEAAAAAAAAAUQAAAAAAAAABAAAAAAAAAAEAAAAAAAAAAAAAAAAAAAABAAAAAAAAAEEAAAAAAAAAUQAAAAAAAABRAAAAAAAAAAAAAAAAAAAAAQAAAAAAAAABAAAAAAAAAEEAAAAAAAAAUQAAAAAAAABRAAAAAAAAAFEAAAAAAAAAAAAAAAAAAAABAAAAAAAAACEAAAAAAAAAUQAAAAAAAAAhAAAAAAAAAAAAAAAAAAAAQQAAAAAAAAAAAAAAAAAAAFEAAAAAAAAAAAAAAAAAAAABAAAAAAAAAEEAAAAAAAAAAQAAAAAAAAABAAAAAAAAACEAAAAAAAAAcQAAAAAAAAABAAAAAAAAAGEAAAAAAAAAQQAAAAAAAABRAAAAAAAAACEAAAAAAAAAAAAAAAAAAABRAAAAAAAAAFEAAAAAAAAAUQAAAAAAAAABAAAAAAAAAAEAAAAAAAAAUQAAAAAAAABxAAAAAAAAAAEAAAAAAAAAUQAAAAAAAABBAAAAAAAAAFEAAAAAAAAAAQAAAAAAAAAhAAAAAAAAAFEAAAAAAAAAUQAAAAAAAABRAAAAAAAAAAEAAAAAAAAAQQAAAAAAAABRAAAAAAAAAEEAAAAAAAAAAQAAAAAAAABRAAAAAAAAAFEAAAAAAAAAAQAAAAAAAABhAAAAAAAAAAAAAAAAAAAAAQAAAAAAAABRAAAAAAAAACEAAAAAAAAAUQAAAAAAAAABAAAAAAAAAAEAAAAAAAAAQQAAAAAAAABRAAAAAAAAAEEAAAAAAAAAAAAAAAAAAAAAAAAAAAAAAEEAAAAAAAAAUQAAAAAAAABBAAAAAAAAAGEAAAAAAAAAIQAAAAAAAABBAAAAAAAAACEAAAAAAAAAUQAAAAAAAAABAAAAAAAAAAEAAAAAAAAAUQAAAAAAAABBAAAAAAAAAAAAAAAAAAAAUQAAAAAAAAAAAAAAAAAAAFEAAAAAAAAAQQAAAAAAAABRA",
          "dtype": "f8"
         }
        },
        {
         "hovertemplate": "skip",
         "mode": "text",
         "name": "Test Samples Idx Numbers",
         "text": {
          "bdata": "AAAAAAAAAAAAAAAAAADwPwAAAAAAAABAAAAAAAAACEAAAAAAAAAQQAAAAAAAABRAAAAAAAAAGEAAAAAAAAAcQAAAAAAAACBAAAAAAAAAIkAAAAAAAAAkQAAAAAAAACZAAAAAAAAAKEAAAAAAAAAqQAAAAAAAACxAAAAAAAAALkAAAAAAAAAwQAAAAAAAADFAAAAAAAAAMkAAAAAAAAAzQA==",
          "dtype": "f8"
         },
         "textposition": "top center",
         "type": "scatter",
         "visible": "legendonly",
         "x": {
          "bdata": "4iKBx+drZEDgcEaJOdNqQJSNxX/qAWlARNaPZVHVZEDqMk/4XjxlQKxKlLDBlGJAAt9a8xLOZEC+0QcTlhNlQJ7wfj7Ra2lA2D2XpM94YkCE7Gie4rtjQKgECcNzTWpARCwvIoukYUCeXSItupVjQP7jmui28mhATKErBVFwa0CMexqgcJtgQNxEYJ1mUGlAZl7RxiboYUAU8P9JydRoQA==",
          "dtype": "f8"
         },
         "y": {
          "bdata": "AAAAAAAACEAAAAAAAAAcQAAAAAAAABRAAAAAAAAAAEAAAAAAAAAQQAAAAAAAAABAAAAAAAAAAEAAAAAAAAAQQAAAAAAAABRAAAAAAAAAAEAAAAAAAAAAQAAAAAAAABBAAAAAAAAAAAAAAAAAAAAAQAAAAAAAABRAAAAAAAAAHEAAAAAAAAAAAAAAAAAAABRAAAAAAAAAAEAAAAAAAAAUQA==",
          "dtype": "f8"
         }
        }
       ],
       "layout": {
        "legend": {
         "itemwidth": 70,
         "orientation": "h",
         "traceorder": "normal",
         "x": 0,
         "xanchor": "left",
         "y": -0.5,
         "yanchor": "bottom"
        },
        "template": {
         "data": {
          "bar": [
           {
            "error_x": {
             "color": "#2a3f5f"
            },
            "error_y": {
             "color": "#2a3f5f"
            },
            "marker": {
             "line": {
              "color": "#E5ECF6",
              "width": 0.5
             },
             "pattern": {
              "fillmode": "overlay",
              "size": 10,
              "solidity": 0.2
             }
            },
            "type": "bar"
           }
          ],
          "barpolar": [
           {
            "marker": {
             "line": {
              "color": "#E5ECF6",
              "width": 0.5
             },
             "pattern": {
              "fillmode": "overlay",
              "size": 10,
              "solidity": 0.2
             }
            },
            "type": "barpolar"
           }
          ],
          "carpet": [
           {
            "aaxis": {
             "endlinecolor": "#2a3f5f",
             "gridcolor": "white",
             "linecolor": "white",
             "minorgridcolor": "white",
             "startlinecolor": "#2a3f5f"
            },
            "baxis": {
             "endlinecolor": "#2a3f5f",
             "gridcolor": "white",
             "linecolor": "white",
             "minorgridcolor": "white",
             "startlinecolor": "#2a3f5f"
            },
            "type": "carpet"
           }
          ],
          "choropleth": [
           {
            "colorbar": {
             "outlinewidth": 0,
             "ticks": ""
            },
            "type": "choropleth"
           }
          ],
          "contour": [
           {
            "colorbar": {
             "outlinewidth": 0,
             "ticks": ""
            },
            "colorscale": [
             [
              0,
              "#0d0887"
             ],
             [
              0.1111111111111111,
              "#46039f"
             ],
             [
              0.2222222222222222,
              "#7201a8"
             ],
             [
              0.3333333333333333,
              "#9c179e"
             ],
             [
              0.4444444444444444,
              "#bd3786"
             ],
             [
              0.5555555555555556,
              "#d8576b"
             ],
             [
              0.6666666666666666,
              "#ed7953"
             ],
             [
              0.7777777777777778,
              "#fb9f3a"
             ],
             [
              0.8888888888888888,
              "#fdca26"
             ],
             [
              1,
              "#f0f921"
             ]
            ],
            "type": "contour"
           }
          ],
          "contourcarpet": [
           {
            "colorbar": {
             "outlinewidth": 0,
             "ticks": ""
            },
            "type": "contourcarpet"
           }
          ],
          "heatmap": [
           {
            "colorbar": {
             "outlinewidth": 0,
             "ticks": ""
            },
            "colorscale": [
             [
              0,
              "#0d0887"
             ],
             [
              0.1111111111111111,
              "#46039f"
             ],
             [
              0.2222222222222222,
              "#7201a8"
             ],
             [
              0.3333333333333333,
              "#9c179e"
             ],
             [
              0.4444444444444444,
              "#bd3786"
             ],
             [
              0.5555555555555556,
              "#d8576b"
             ],
             [
              0.6666666666666666,
              "#ed7953"
             ],
             [
              0.7777777777777778,
              "#fb9f3a"
             ],
             [
              0.8888888888888888,
              "#fdca26"
             ],
             [
              1,
              "#f0f921"
             ]
            ],
            "type": "heatmap"
           }
          ],
          "histogram": [
           {
            "marker": {
             "pattern": {
              "fillmode": "overlay",
              "size": 10,
              "solidity": 0.2
             }
            },
            "type": "histogram"
           }
          ],
          "histogram2d": [
           {
            "colorbar": {
             "outlinewidth": 0,
             "ticks": ""
            },
            "colorscale": [
             [
              0,
              "#0d0887"
             ],
             [
              0.1111111111111111,
              "#46039f"
             ],
             [
              0.2222222222222222,
              "#7201a8"
             ],
             [
              0.3333333333333333,
              "#9c179e"
             ],
             [
              0.4444444444444444,
              "#bd3786"
             ],
             [
              0.5555555555555556,
              "#d8576b"
             ],
             [
              0.6666666666666666,
              "#ed7953"
             ],
             [
              0.7777777777777778,
              "#fb9f3a"
             ],
             [
              0.8888888888888888,
              "#fdca26"
             ],
             [
              1,
              "#f0f921"
             ]
            ],
            "type": "histogram2d"
           }
          ],
          "histogram2dcontour": [
           {
            "colorbar": {
             "outlinewidth": 0,
             "ticks": ""
            },
            "colorscale": [
             [
              0,
              "#0d0887"
             ],
             [
              0.1111111111111111,
              "#46039f"
             ],
             [
              0.2222222222222222,
              "#7201a8"
             ],
             [
              0.3333333333333333,
              "#9c179e"
             ],
             [
              0.4444444444444444,
              "#bd3786"
             ],
             [
              0.5555555555555556,
              "#d8576b"
             ],
             [
              0.6666666666666666,
              "#ed7953"
             ],
             [
              0.7777777777777778,
              "#fb9f3a"
             ],
             [
              0.8888888888888888,
              "#fdca26"
             ],
             [
              1,
              "#f0f921"
             ]
            ],
            "type": "histogram2dcontour"
           }
          ],
          "mesh3d": [
           {
            "colorbar": {
             "outlinewidth": 0,
             "ticks": ""
            },
            "type": "mesh3d"
           }
          ],
          "parcoords": [
           {
            "line": {
             "colorbar": {
              "outlinewidth": 0,
              "ticks": ""
             }
            },
            "type": "parcoords"
           }
          ],
          "pie": [
           {
            "automargin": true,
            "type": "pie"
           }
          ],
          "scatter": [
           {
            "fillpattern": {
             "fillmode": "overlay",
             "size": 10,
             "solidity": 0.2
            },
            "type": "scatter"
           }
          ],
          "scatter3d": [
           {
            "line": {
             "colorbar": {
              "outlinewidth": 0,
              "ticks": ""
             }
            },
            "marker": {
             "colorbar": {
              "outlinewidth": 0,
              "ticks": ""
             }
            },
            "type": "scatter3d"
           }
          ],
          "scattercarpet": [
           {
            "marker": {
             "colorbar": {
              "outlinewidth": 0,
              "ticks": ""
             }
            },
            "type": "scattercarpet"
           }
          ],
          "scattergeo": [
           {
            "marker": {
             "colorbar": {
              "outlinewidth": 0,
              "ticks": ""
             }
            },
            "type": "scattergeo"
           }
          ],
          "scattergl": [
           {
            "marker": {
             "colorbar": {
              "outlinewidth": 0,
              "ticks": ""
             }
            },
            "type": "scattergl"
           }
          ],
          "scattermap": [
           {
            "marker": {
             "colorbar": {
              "outlinewidth": 0,
              "ticks": ""
             }
            },
            "type": "scattermap"
           }
          ],
          "scattermapbox": [
           {
            "marker": {
             "colorbar": {
              "outlinewidth": 0,
              "ticks": ""
             }
            },
            "type": "scattermapbox"
           }
          ],
          "scatterpolar": [
           {
            "marker": {
             "colorbar": {
              "outlinewidth": 0,
              "ticks": ""
             }
            },
            "type": "scatterpolar"
           }
          ],
          "scatterpolargl": [
           {
            "marker": {
             "colorbar": {
              "outlinewidth": 0,
              "ticks": ""
             }
            },
            "type": "scatterpolargl"
           }
          ],
          "scatterternary": [
           {
            "marker": {
             "colorbar": {
              "outlinewidth": 0,
              "ticks": ""
             }
            },
            "type": "scatterternary"
           }
          ],
          "surface": [
           {
            "colorbar": {
             "outlinewidth": 0,
             "ticks": ""
            },
            "colorscale": [
             [
              0,
              "#0d0887"
             ],
             [
              0.1111111111111111,
              "#46039f"
             ],
             [
              0.2222222222222222,
              "#7201a8"
             ],
             [
              0.3333333333333333,
              "#9c179e"
             ],
             [
              0.4444444444444444,
              "#bd3786"
             ],
             [
              0.5555555555555556,
              "#d8576b"
             ],
             [
              0.6666666666666666,
              "#ed7953"
             ],
             [
              0.7777777777777778,
              "#fb9f3a"
             ],
             [
              0.8888888888888888,
              "#fdca26"
             ],
             [
              1,
              "#f0f921"
             ]
            ],
            "type": "surface"
           }
          ],
          "table": [
           {
            "cells": {
             "fill": {
              "color": "#EBF0F8"
             },
             "line": {
              "color": "white"
             }
            },
            "header": {
             "fill": {
              "color": "#C8D4E3"
             },
             "line": {
              "color": "white"
             }
            },
            "type": "table"
           }
          ]
         },
         "layout": {
          "annotationdefaults": {
           "arrowcolor": "#2a3f5f",
           "arrowhead": 0,
           "arrowwidth": 1
          },
          "autotypenumbers": "strict",
          "coloraxis": {
           "colorbar": {
            "outlinewidth": 0,
            "ticks": ""
           }
          },
          "colorscale": {
           "diverging": [
            [
             0,
             "#8e0152"
            ],
            [
             0.1,
             "#c51b7d"
            ],
            [
             0.2,
             "#de77ae"
            ],
            [
             0.3,
             "#f1b6da"
            ],
            [
             0.4,
             "#fde0ef"
            ],
            [
             0.5,
             "#f7f7f7"
            ],
            [
             0.6,
             "#e6f5d0"
            ],
            [
             0.7,
             "#b8e186"
            ],
            [
             0.8,
             "#7fbc41"
            ],
            [
             0.9,
             "#4d9221"
            ],
            [
             1,
             "#276419"
            ]
           ],
           "sequential": [
            [
             0,
             "#0d0887"
            ],
            [
             0.1111111111111111,
             "#46039f"
            ],
            [
             0.2222222222222222,
             "#7201a8"
            ],
            [
             0.3333333333333333,
             "#9c179e"
            ],
            [
             0.4444444444444444,
             "#bd3786"
            ],
            [
             0.5555555555555556,
             "#d8576b"
            ],
            [
             0.6666666666666666,
             "#ed7953"
            ],
            [
             0.7777777777777778,
             "#fb9f3a"
            ],
            [
             0.8888888888888888,
             "#fdca26"
            ],
            [
             1,
             "#f0f921"
            ]
           ],
           "sequentialminus": [
            [
             0,
             "#0d0887"
            ],
            [
             0.1111111111111111,
             "#46039f"
            ],
            [
             0.2222222222222222,
             "#7201a8"
            ],
            [
             0.3333333333333333,
             "#9c179e"
            ],
            [
             0.4444444444444444,
             "#bd3786"
            ],
            [
             0.5555555555555556,
             "#d8576b"
            ],
            [
             0.6666666666666666,
             "#ed7953"
            ],
            [
             0.7777777777777778,
             "#fb9f3a"
            ],
            [
             0.8888888888888888,
             "#fdca26"
            ],
            [
             1,
             "#f0f921"
            ]
           ]
          },
          "colorway": [
           "#636efa",
           "#EF553B",
           "#00cc96",
           "#ab63fa",
           "#FFA15A",
           "#19d3f3",
           "#FF6692",
           "#B6E880",
           "#FF97FF",
           "#FECB52"
          ],
          "font": {
           "color": "#2a3f5f"
          },
          "geo": {
           "bgcolor": "white",
           "lakecolor": "white",
           "landcolor": "#E5ECF6",
           "showlakes": true,
           "showland": true,
           "subunitcolor": "white"
          },
          "hoverlabel": {
           "align": "left"
          },
          "hovermode": "closest",
          "mapbox": {
           "style": "light"
          },
          "paper_bgcolor": "white",
          "plot_bgcolor": "#E5ECF6",
          "polar": {
           "angularaxis": {
            "gridcolor": "white",
            "linecolor": "white",
            "ticks": ""
           },
           "bgcolor": "#E5ECF6",
           "radialaxis": {
            "gridcolor": "white",
            "linecolor": "white",
            "ticks": ""
           }
          },
          "scene": {
           "xaxis": {
            "backgroundcolor": "#E5ECF6",
            "gridcolor": "white",
            "gridwidth": 2,
            "linecolor": "white",
            "showbackground": true,
            "ticks": "",
            "zerolinecolor": "white"
           },
           "yaxis": {
            "backgroundcolor": "#E5ECF6",
            "gridcolor": "white",
            "gridwidth": 2,
            "linecolor": "white",
            "showbackground": true,
            "ticks": "",
            "zerolinecolor": "white"
           },
           "zaxis": {
            "backgroundcolor": "#E5ECF6",
            "gridcolor": "white",
            "gridwidth": 2,
            "linecolor": "white",
            "showbackground": true,
            "ticks": "",
            "zerolinecolor": "white"
           }
          },
          "shapedefaults": {
           "line": {
            "color": "#2a3f5f"
           }
          },
          "ternary": {
           "aaxis": {
            "gridcolor": "white",
            "linecolor": "white",
            "ticks": ""
           },
           "baxis": {
            "gridcolor": "white",
            "linecolor": "white",
            "ticks": ""
           },
           "bgcolor": "#E5ECF6",
           "caxis": {
            "gridcolor": "white",
            "linecolor": "white",
            "ticks": ""
           }
          },
          "title": {
           "x": 0.05
          },
          "xaxis": {
           "automargin": true,
           "gridcolor": "white",
           "linecolor": "white",
           "ticks": "",
           "title": {
            "standoff": 15
           },
           "zerolinecolor": "white",
           "zerolinewidth": 2
          },
          "yaxis": {
           "automargin": true,
           "gridcolor": "white",
           "linecolor": "white",
           "ticks": "",
           "title": {
            "standoff": 15
           },
           "zerolinecolor": "white",
           "zerolinewidth": 2
          }
         }
        },
        "title": {
         "text": "Parameter Space 07 - Number of Convection Cells"
        },
        "xaxis": {
         "title": {
          "text": "T_h - degree_Celsius"
         }
        },
        "yaxis": {
         "title": {
          "text": "zero_crossings - No Unit"
         }
        }
       }
      }
     },
     "metadata": {},
     "output_type": "display_data"
    }
   ],
   "source": [
    "# Stack the custom data: [sample_idx, zero_crossings]\n",
    "custom_data_training = np.column_stack([\n",
    "    parameters_training.index.to_numpy(),\n",
    "    parameters_training['zero_crossings'].to_numpy()[:, 0]\n",
    "])\n",
    "\n",
    "custom_data_test = np.column_stack([\n",
    "    parameters_test.index.to_numpy(),\n",
    "    parameters_test['zero_crossings'].to_numpy()[:, 0]\n",
    "])\n",
    "\n",
    "vmin = min(parameters_training['zero_crossings'].values.min(), parameters_test['zero_crossings'].values.min())\n",
    "vmax = max(parameters_training['zero_crossings'].values.max(), parameters_test['zero_crossings'].values.max())\n",
    "cmap = 'viridis' #'portland'\n",
    "\n",
    "# All Training Samples\n",
    "fig = go.Figure(data=go.Scatter(\n",
    "    x=parameters_training[x_key.get('key')],\n",
    "    y=parameters_training[y_key.get('key')],\n",
    "    mode='markers',\n",
    "    text = parameters_training.index.to_numpy(),\n",
    "    name = 'Training Samples',\n",
    "    marker=dict(\n",
    "        size=8,\n",
    "        color=parameters_training['zero_crossings'].to_numpy()[:, 0],\n",
    "        colorscale=cmap,\n",
    "        showscale=True,\n",
    "        opacity=0.9,\n",
    "        cmin=vmin,\n",
    "        cmax=vmax,\n",
    "    ),\n",
    "    customdata=custom_data_training,\n",
    "    hovertemplate = (\n",
    "        'Training Idx: %{customdata[0]:03d}<br>' +\n",
    "        f'{x_key.get('key')}: %{{x:.2f}}<br>' +\n",
    "        f'{y_key.get('key')}: %{{y:.2f}}<br>' +\n",
    "        'zero_crossings: %{customdata[1]:d}<extra></extra>'\n",
    "    )\n",
    "))\n",
    "\n",
    "# All Test Samples\n",
    "fig.add_trace(go.Scatter(\n",
    "    x=parameters_test[x_key.get('key')],\n",
    "    y=parameters_test[y_key.get('key')],\n",
    "    mode='markers',\n",
    "    text = parameters_test.index.to_numpy(),\n",
    "    name = 'Test Samples',\n",
    "    marker=dict(\n",
    "        size=8,\n",
    "        color= 'rgba(0,0,0,0)',  # transparent fill\n",
    "        line=dict(\n",
    "            colorscale=cmap,\n",
    "            color=parameters_test['zero_crossings'].to_numpy()[:, 0],\n",
    "            width=3,\n",
    "            cmin=vmin,\n",
    "            cmax=vmax,\n",
    "        ),\n",
    "        showscale=False,\n",
    "        opacity=0.9,\n",
    "\n",
    "    ),\n",
    "    customdata=custom_data_test,\n",
    "    hovertemplate=(\n",
    "        'Test Idx: %{customdata[0]:03d}<br>' +\n",
    "        f'{x_key.get('key')}: %{{x:.2f}}<br>' +\n",
    "        f'{y_key.get('key')}: %{{y:.2f}}<br>' +\n",
    "        'zero_crossings: %{customdata[1]:d}<extra></extra>'\n",
    "    )\n",
    "))\n",
    "\n",
    "if PARAMETER_SPACE == \"07\":\n",
    "    fig.add_trace(go.Scatter(\n",
    "        x=parameters_test[x_key.get('key')],\n",
    "        y=parameters_test[('zero_crossings_vnc', 'No Unit')],  # entropy_gen_number_vnc\n",
    "        mode='markers',\n",
    "        text = parameters_test.index.to_numpy(),\n",
    "        name = 'Test Samples VNC',\n",
    "        marker_symbol = 'square',\n",
    "        marker=dict(\n",
    "            size=8,\n",
    "            color= 'rgba(0,0,0,0)',  # transparent fill\n",
    "            line=dict(\n",
    "                colorscale=cmap,\n",
    "                color=parameters_test['zero_crossings_vnc'].to_numpy()[:, 0],\n",
    "                width=3,\n",
    "                cmin=vmin,\n",
    "                cmax=vmax,\n",
    "            ),\n",
    "            showscale=False,\n",
    "            opacity=0.9,\n",
    "\n",
    "        ),\n",
    "        customdata=custom_data_test,\n",
    "        hovertemplate=(\n",
    "            'Test Idx: %{customdata[0]:03d}<br>' +\n",
    "            f'{x_key.get('key')}: %{{x:.2f}}<br>' +\n",
    "            f'{y_key.get('key')}: %{{y:.2f}}<br>' +\n",
    "            'zero_crossings: %{customdata[1]:d}<extra></extra>'\n",
    "        )\n",
    "    ))\n",
    "\n",
    "highlight_mask = parameters_training.index.isin(indices_to_highlight_training)\n",
    "# Highlighted points\n",
    "fig.add_trace(go.Scatter(\n",
    "    x=parameters_training.loc[highlight_mask, x_key.get('key')],\n",
    "    y=parameters_training.loc[highlight_mask, y_key.get('key')],\n",
    "    mode='markers',\n",
    "    name = 'Highlighted Training Samples',\n",
    "    marker=dict(\n",
    "        showscale = False,\n",
    "        size=14,\n",
    "        color='rgba(0,0,0,0)',  # Transparent fill\n",
    "        line=dict(color='red', width=2)  # Red outline\n",
    "    ),\n",
    "    hoverinfo = 'skip'\n",
    "))\n",
    "\n",
    "\n",
    "highlight_mask = parameters_test.index.isin(indices_to_highlight_test)\n",
    "# Highlighted points\n",
    "fig.add_trace(go.Scatter(\n",
    "    x=parameters_test.loc[highlight_mask, x_key.get('key')],\n",
    "    y=parameters_test.loc[highlight_mask, y_key.get('key')],\n",
    "    mode='markers',\n",
    "    name = 'Critical Test Samples',\n",
    "    marker=dict(\n",
    "        showscale = False,\n",
    "        size=14,\n",
    "        color='rgba(0,0,0,0)',  # Transparent fill\n",
    "        line=dict(color='magenta', width=2)  # Red outline\n",
    "    ),\n",
    "    hoverinfo = 'skip'\n",
    "))\n",
    "\n",
    "# All Training Samples\n",
    "fig.add_trace(go.Scatter(\n",
    "    x=parameters_training[x_key.get('key')],\n",
    "    y=parameters_training[y_key.get('key')],\n",
    "    mode='text',\n",
    "    textposition='top center',\n",
    "    text = parameters_training.index.to_numpy(),\n",
    "    name = 'Training Samples Idx Numbers',\n",
    "    hovertemplate='skip',\n",
    "    visible='legendonly' \n",
    "))\n",
    "\n",
    "fig.add_trace(go.Scatter(\n",
    "    x=parameters_test[x_key.get('key')],\n",
    "    y=parameters_test[y_key.get('key')],\n",
    "    mode='text',\n",
    "    textposition='top center',\n",
    "    text = parameters_test.index.to_numpy(),\n",
    "    name = 'Test Samples Idx Numbers',\n",
    "    hovertemplate='skip',\n",
    "    visible='legendonly' \n",
    "))\n",
    "\n",
    "fig.update_layout(\n",
    "    title=f'Parameter Space {PARAMETER_SPACE} - Number of Convection Cells',\n",
    "    xaxis_title=' - '.join(x_key.get('key')),\n",
    "    yaxis_title=' - '.join(y_key.get('key')),\n",
    "    legend=dict(\n",
    "        orientation=\"h\",\n",
    "        yanchor=\"bottom\",\n",
    "        y=-0.5,\n",
    "        xanchor=\"left\",\n",
    "        x=0,\n",
    "        traceorder=\"normal\",\n",
    "        itemwidth=70  # control spacing\n",
    "    )\n",
    ")\n",
    "\n",
    "fig.show()\n",
    "fig.write_html(ROOT / \"data\" / PARAMETER_SPACE / \"Exports\" / f\"Zero_Crossing_{PARAMETER_SPACE}_{x_key.get('key')}_{y_key.get('key')}.html\")\n"
   ]
  },
  {
   "cell_type": "code",
   "execution_count": 47,
   "id": "db581f28",
   "metadata": {},
   "outputs": [],
   "source": [
    "if is_3d_plot:\n",
    "\n",
    "    # Stack the custom data: [sample_idx, zero_crossings]\n",
    "    custom_data_training = np.column_stack([\n",
    "        parameters_training.index.to_numpy(),\n",
    "        parameters_training['zero_crossings'].to_numpy()[:, 0]\n",
    "    ])\n",
    "\n",
    "    custom_data_test = np.column_stack([\n",
    "        parameters_test.index.to_numpy(),\n",
    "        parameters_test['zero_crossings'].to_numpy()[:, 0]\n",
    "    ])\n",
    "\n",
    "    vmin = min(parameters_training['zero_crossings'].values.min(), parameters_test['zero_crossings'].values.min())\n",
    "    vmax = max(parameters_training['zero_crossings'].values.max(), parameters_test['zero_crossings'].values.max())\n",
    "    cmap = 'viridis' #'portland'\n",
    "\n",
    "    # All Training Samples\n",
    "    fig = go.Figure(data=go.Scatter3d(\n",
    "        x=parameters_training[x_key.get('key')].values,\n",
    "        y=parameters_training[y_key.get('key')].values,\n",
    "        z=parameters_training[z_key.get('key')].values,\n",
    "        mode='markers',\n",
    "        text = parameters_training.index.to_numpy(),\n",
    "        name = 'Training Samples',\n",
    "        marker=dict(\n",
    "            size=5,\n",
    "            color=parameters_training['zero_crossings'].to_numpy()[:, 0],\n",
    "            colorscale=cmap,\n",
    "            showscale=True,\n",
    "            opacity=0.9,\n",
    "            cmin=vmin,\n",
    "            cmax=vmax,\n",
    "        ),\n",
    "        customdata=custom_data_training,\n",
    "        hovertemplate = (\n",
    "            'Training Idx: %{customdata[0]:03d}<br>' +\n",
    "            f'{x_key.get('key')}: %{{x:.2f}}<br>' +\n",
    "            f'{y_key.get('key')}: %{{y:.2f}}<br>' +\n",
    "            'zero_crossings: %{customdata[1]:d}<extra></extra>'\n",
    "        )\n",
    "    ))\n",
    "\n",
    "    # All Test Samples\n",
    "    fig.add_trace(go.Scatter3d(\n",
    "        x=parameters_test[x_key.get('key')],\n",
    "        y=parameters_test[y_key.get('key')],\n",
    "        z=parameters_test[z_key.get('key')],\n",
    "        mode='markers',\n",
    "        text = parameters_test.index.to_numpy(),\n",
    "        name = 'Test Samples',\n",
    "        marker=dict(\n",
    "            size=5,\n",
    "            color= 'rgba(0,0,0,0)',  # transparent fill\n",
    "            line=dict(\n",
    "                colorscale=cmap,\n",
    "                color=parameters_test['zero_crossings'].to_numpy()[:, 0],\n",
    "                width=4,\n",
    "                cmin=vmin,\n",
    "                cmax=vmax,\n",
    "            ),\n",
    "            showscale=False,\n",
    "            opacity=0.9,\n",
    "\n",
    "        ),\n",
    "        customdata=custom_data_test,\n",
    "        hovertemplate=(\n",
    "            'Test Idx: %{customdata[0]:03d}<br>' +\n",
    "            f'{x_key.get('key')}: %{{x:.2f}}<br>' +\n",
    "            f'{y_key.get('key')}: %{{y:.2f}}<br>' +\n",
    "            'zero_crossings: %{customdata[1]:d}<extra></extra>'\n",
    "        )\n",
    "    ))\n",
    "\n",
    "    # # All Training Samples\n",
    "    fig.add_trace(go.Scatter3d(\n",
    "        x=parameters_training[x_key.get('key')],\n",
    "        y=parameters_training[y_key.get('key')],\n",
    "        z=parameters_training[z_key.get('key')],\n",
    "        mode='text',\n",
    "        textposition='top center',\n",
    "        text = parameters_training.index.to_numpy(),\n",
    "        name = 'Training Samples Idx Numbers',\n",
    "        hovertemplate='skip',\n",
    "        visible='legendonly' \n",
    "    ))\n",
    "\n",
    "    fig.add_trace(go.Scatter3d(\n",
    "        x=parameters_test[x_key.get('key')],\n",
    "        y=parameters_test[y_key.get('key')],\n",
    "        z=parameters_test[z_key.get('key')],\n",
    "        mode='text',\n",
    "        textposition='top center',\n",
    "        text = parameters_test.index.to_numpy(),\n",
    "        name = 'Test Samples Idx Numbers',\n",
    "        hovertemplate='skip',\n",
    "        visible='legendonly' \n",
    "    ))\n",
    "\n",
    "    fig.update_layout(\n",
    "        title=f'Parameter Space {PARAMETER_SPACE} - Number of Convection Cells',\n",
    "        scene=dict(\n",
    "            xaxis=dict(title = dict(text = '-'.join(x_key.get('key')))),\n",
    "            yaxis=dict(title = dict(text = '-'.join(y_key.get('key')))),\n",
    "            zaxis=dict(title = dict(text = '-'.join(z_key.get('key')))),\n",
    "        ),\n",
    "        legend=dict(\n",
    "        orientation=\"h\",\n",
    "        yanchor=\"bottom\",\n",
    "        y=-0.5,\n",
    "        xanchor=\"left\",\n",
    "        x=0,\n",
    "        )\n",
    "    )\n",
    "\n",
    "    fig.show()\n",
    "    fig.write_html(ROOT / \"data\" / PARAMETER_SPACE / \"Exports\" / f\"Zero_Crossing_{PARAMETER_SPACE}_3D.html\")\n"
   ]
  }
 ],
 "metadata": {
  "kernelspec": {
   "display_name": ".venv",
   "language": "python",
   "name": "python3"
  },
  "language_info": {
   "codemirror_mode": {
    "name": "ipython",
    "version": 3
   },
   "file_extension": ".py",
   "mimetype": "text/x-python",
   "name": "python",
   "nbconvert_exporter": "python",
   "pygments_lexer": "ipython3",
   "version": "3.12.4"
  }
 },
 "nbformat": 4,
 "nbformat_minor": 5
}
