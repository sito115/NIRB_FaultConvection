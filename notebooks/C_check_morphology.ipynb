{
 "cells": [
  {
   "cell_type": "code",
   "execution_count": 1,
   "id": "eebd3ccd",
   "metadata": {},
   "outputs": [],
   "source": [
    "import numpy as np\n",
    "import pandas as pd\n",
    "import plotly.graph_objects as go\n",
    "from pathlib import Path\n",
    "import pint\n",
    "import pint_pandas\n",
    "import sys\n"
   ]
  },
  {
   "cell_type": "code",
   "execution_count": 2,
   "id": "3e672184",
   "metadata": {},
   "outputs": [],
   "source": [
    "sys.path.append(str(Path.cwd().parent))"
   ]
  },
  {
   "cell_type": "code",
   "execution_count": 3,
   "id": "db98dc6d",
   "metadata": {},
   "outputs": [],
   "source": [
    "from src.utils import load_pint_data, PREFERRED_UNITS\n",
    "ureg = pint.get_application_registry()"
   ]
  },
  {
   "cell_type": "code",
   "execution_count": 4,
   "id": "3299094a",
   "metadata": {},
   "outputs": [],
   "source": [
    "ROOT = Path().cwd().parent\n",
    "PARAMETER_SPACE = \"10\"\n",
    "param_file_training = ROOT / \"data\" / PARAMETER_SPACE / \"training_samples.csv\"\n",
    "assert param_file_training.exists()\n",
    "param_file_test = ROOT / \"data\" / PARAMETER_SPACE / \"test_samples.csv\"\n",
    "assert param_file_test.exists()\n",
    "\n",
    "zero_crossing_file_training = ROOT / \"data\" / PARAMETER_SPACE / \"Exports\" / \"Training_zero_crossings.npy\"\n",
    "assert zero_crossing_file_training.exists()\n",
    "zero_crossing_file_test = ROOT / \"data\" / PARAMETER_SPACE / \"Exports\" / \"Test_zero_crossings.npy\"\n",
    "assert zero_crossing_file_test.exists()"
   ]
  },
  {
   "cell_type": "code",
   "execution_count": 5,
   "id": "3a788e75",
   "metadata": {},
   "outputs": [],
   "source": [
    "parameters_training = load_pint_data(param_file_training)\n",
    "parameters_test     = load_pint_data(param_file_test)\n",
    "zero_crossings_training = np.load(zero_crossing_file_training)\n",
    "zero_crossings_test = np.load(zero_crossing_file_test)\n",
    "assert len(parameters_training) == len(zero_crossings_training)\n",
    "assert len(zero_crossings_test) == len(zero_crossings_test)"
   ]
  },
  {
   "cell_type": "code",
   "execution_count": 6,
   "id": "c5fa0d84",
   "metadata": {},
   "outputs": [],
   "source": [
    "for col in parameters_training.columns:\n",
    "    if parameters_training[col].pint.dimensionality in PREFERRED_UNITS:\n",
    "        unit = PREFERRED_UNITS[parameters_training[col].pint.dimensionality]\n",
    "        parameters_training[col] = parameters_training[col].pint.to(unit)   \n",
    "        parameters_test[col] = parameters_test[col].pint.to(unit) \n",
    "          \n",
    "parameters_training['zero_crossings'] = zero_crossings_training\n",
    "parameters_test['zero_crossings'] = zero_crossings_test"
   ]
  },
  {
   "cell_type": "code",
   "execution_count": 7,
   "id": "fccf2f48",
   "metadata": {},
   "outputs": [
    {
     "name": "stderr",
     "output_type": "stream",
     "text": [
      "/Users/thomassimader/Documents/NIRB/.venv/lib/python3.12/site-packages/pandas/core/construction.py:629: UnitStrippedWarning: The unit of the quantity is stripped when downcasting to ndarray.\n",
      "  data = np.array(data, copy=copy)\n",
      "/Users/thomassimader/Documents/NIRB/.venv/lib/python3.12/site-packages/pandas/core/construction.py:629: UnitStrippedWarning: The unit of the quantity is stripped when downcasting to ndarray.\n",
      "  data = np.array(data, copy=copy)\n"
     ]
    }
   ],
   "source": [
    "is_3d_plot = False\n",
    "if PARAMETER_SPACE == \"01\":\n",
    "    is_3d_plot = True\n",
    "    entropy_number_training = np.load(ROOT / \"data\" / PARAMETER_SPACE / \"TrainingMapped/s100_100_100_b0_4000_0_5000_-4000_0/Exports/Training_entropy_gen_number_therm.npy\")[:, -1]\n",
    "    entropy_number_test = np.load(ROOT / \"data\" / PARAMETER_SPACE / \"TestMapped/s100_100_100_b0_4000_0_5000_-4000_0/Exports/Test_entropy_gen_number_therm.npy\")[:, -1]\n",
    "    parameters_training['entropy_gen_number'] = entropy_number_training * ureg.dimensionless\n",
    "    parameters_test['entropy_gen_number'] = entropy_number_test * ureg.dimensionless\n",
    "    log_values_train = np.log10(parameters_training['host_k'].pint.magnitude) \n",
    "    log_values_test = np.log10(parameters_test['host_k'].pint.magnitude) \n",
    "    \n",
    "    parameters_training['log10_host_k'] = pd.Series(log_values_train, dtype=pint_pandas.PintType('m**2'))\n",
    "    parameters_test['log10_host_k'] = pd.Series(log_values_test, dtype=pint_pandas.PintType('m**2'))\n",
    "    \n",
    "    parameters_training = parameters_training.pint.dequantify()\n",
    "    parameters_test = parameters_test.pint.dequantify()\n",
    "    \n",
    "    indices_to_highlight_training = [64, 9, 27, 22, 60, 149, 70,213,\n",
    "                            73, 90, 238, 118, 50, 80, 278, 222, 14, 235,\n",
    "                            40, 209, 212, 220, 227, 267, 239, 134, 268]\n",
    "    \n",
    "    indices_to_highlight_test = [0, 1, 3, 12, 20, 22, 24, 26, 27, 29, 28, 33,]\n",
    "    \n",
    "    x_key = dict(key = parameters_training.columns[1])\n",
    "    y_key = dict(key = parameters_training.columns[-1]) \n",
    "    z_key = dict(key = parameters_training.columns[-2]) \n",
    "    \n",
    "elif PARAMETER_SPACE == \"03\":\n",
    "    parameters_training = parameters_training.pint.dequantify()\n",
    "    parameters_test = parameters_test.pint.dequantify()\n",
    "    parameters_training = parameters_training[:100]\n",
    "    parameters_test = parameters_test[:20]\n",
    "    x_key = dict(key = parameters_training.columns[0])\n",
    "    y_key = dict(key = parameters_training.columns[1])\n",
    "    indices_to_highlight_training = [] \n",
    "    indices_to_highlight_test = [] \n",
    "elif PARAMETER_SPACE == \"07\":\n",
    "    entropy_number_training = np.load(ROOT / \"data\" / PARAMETER_SPACE / \"TrainingOriginal\" / \"Training_entropy_gen_number_therm.npy\")[:, -1]\n",
    "    entropy_number_test = np.load(ROOT / \"data\" / PARAMETER_SPACE / \"TestOriginal\" / \"Test_entropy_gen_number_therm.npy\")[:, -1]\n",
    "    \n",
    "    entropy_number_test_vnc = np.load(ROOT / \"data\" / PARAMETER_SPACE /\"TestOriginalVNC\" / \"Test_entropy_gen_number_therm.npy\")[:, -1]\n",
    "    zero_crossings_test_vnc = np.load(ROOT / \"data\" / PARAMETER_SPACE / \"Exports\" / \"Test_zero_crossings_vnc.npy\")\n",
    "\n",
    "    parameters_training['entropy_gen_number'] = entropy_number_training * ureg.dimensionless\n",
    "    parameters_test['entropy_gen_number'] = entropy_number_test * ureg.dimensionless\n",
    "    parameters_test['entropy_gen_number_vnc'] = entropy_number_test_vnc * ureg.dimensionless\n",
    "    parameters_test['zero_crossings_vnc'] = zero_crossings_test_vnc * ureg.dimensionless\n",
    "    \n",
    "    parameters_training = parameters_training.pint.dequantify()\n",
    "    parameters_test = parameters_test.pint.dequantify()\n",
    "    x_key = dict(key = parameters_training.columns[0])\n",
    "    y_key = dict(key = parameters_training.columns[-2])\n",
    "    indices_to_highlight_training = [] \n",
    "    indices_to_highlight_test = [] \n",
    "else:\n",
    "    parameters_training = parameters_training.pint.dequantify()\n",
    "    parameters_test = parameters_test.pint.dequantify()\n",
    "    entropy_number_training = np.load(ROOT / \"data\" / PARAMETER_SPACE / \"TrainingMapped/s50_50_50_b0_4000_0_5000_-4000_0/Exports/Training_entropy_gen_number_therm.npy\")[:, -1]\n",
    "    entropy_number_test = np.load(ROOT / \"data\" / PARAMETER_SPACE / \"TestMapped/s50_50_50_b0_4000_0_5000_-4000_0/Exports/Test_entropy_gen_number_therm.npy\")[:, -1]\n",
    "    parameters_training['entropy_gen_number'] = entropy_number_training * ureg.dimensionless\n",
    "    parameters_test['entropy_gen_number'] = entropy_number_test * ureg.dimensionless\n",
    "    x_key = dict(key = parameters_training.columns[0])\n",
    "    y_key = dict(key = parameters_training.columns[2])\n",
    "    indices_to_highlight_training = [] \n",
    "    indices_to_highlight_test = [] \n",
    "    "
   ]
  },
  {
   "cell_type": "code",
   "execution_count": 8,
   "id": "2743cd80",
   "metadata": {},
   "outputs": [
    {
     "name": "stdout",
     "output_type": "stream",
     "text": [
      "0 : ('dip', 'degree')\n",
      "1 : ('zero_crossings', 'No Unit')\n",
      "2 : ('entropy_gen_number', '')\n"
     ]
    }
   ],
   "source": [
    "for idx, col in enumerate(parameters_training.columns):\n",
    "    print(f\"{idx:01d} : {col}\")"
   ]
  },
  {
   "cell_type": "code",
   "execution_count": 11,
   "id": "4aa98682",
   "metadata": {},
   "outputs": [
    {
     "data": {
      "application/vnd.plotly.v1+json": {
       "config": {
        "plotlyServerURL": "https://plot.ly"
       },
       "data": [
        {
         "customdata": {
          "bdata": "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",
          "dtype": "f8",
          "shape": "200, 2"
         },
         "hovertemplate": "Training Idx: %{customdata[0]:03d}<br>('dip', 'degree'): %{x:.2f}<br>('entropy_gen_number', ''): %{y:.2f}<br>zero_crossings: %{customdata[1]:d}<extra></extra>",
         "marker": {
          "cmax": 6,
          "cmin": 2,
          "color": {
           "bdata": "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",
           "dtype": "f8"
          },
          "colorscale": [
           [
            0,
            "#440154"
           ],
           [
            0.1111111111111111,
            "#482878"
           ],
           [
            0.2222222222222222,
            "#3e4989"
           ],
           [
            0.3333333333333333,
            "#31688e"
           ],
           [
            0.4444444444444444,
            "#26828e"
           ],
           [
            0.5555555555555556,
            "#1f9e89"
           ],
           [
            0.6666666666666666,
            "#35b779"
           ],
           [
            0.7777777777777778,
            "#6ece58"
           ],
           [
            0.8888888888888888,
            "#b5de2b"
           ],
           [
            1,
            "#fde725"
           ]
          ],
          "opacity": 0.9,
          "showscale": true,
          "size": 8
         },
         "mode": "markers",
         "name": "Training Samples",
         "text": {
          "bdata": "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",
          "dtype": "f8"
         },
         "type": "scatter",
         "x": {
          "bdata": "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",
          "dtype": "f8"
         },
         "y": {
          "bdata": "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",
          "dtype": "f8"
         }
        },
        {
         "customdata": {
          "bdata": "AAAAAAAAAAAAAAAAAAAQQAAAAAAAAPA/AAAAAAAAFEAAAAAAAAAAQAAAAAAAABBAAAAAAAAACEAAAAAAAAAQQAAAAAAAABBAAAAAAAAACEAAAAAAAAAUQAAAAAAAABBAAAAAAAAAGEAAAAAAAAAQQAAAAAAAABxAAAAAAAAACEAAAAAAAAAgQAAAAAAAAABAAAAAAAAAIkAAAAAAAAAUQAAAAAAAACRAAAAAAAAAEEAAAAAAAAAmQAAAAAAAABBAAAAAAAAAKEAAAAAAAAAUQAAAAAAAACpAAAAAAAAAFEAAAAAAAAAsQAAAAAAAAAhAAAAAAAAALkAAAAAAAAAUQAAAAAAAADBAAAAAAAAACEAAAAAAAAAxQAAAAAAAABBAAAAAAAAAMkAAAAAAAAAQQAAAAAAAADNAAAAAAAAAEEAAAAAAAAA0QAAAAAAAABBAAAAAAAAANUAAAAAAAAAUQAAAAAAAADZAAAAAAAAAEEAAAAAAAAA3QAAAAAAAABBAAAAAAAAAOEAAAAAAAAAUQAAAAAAAADlAAAAAAAAACEAAAAAAAAA6QAAAAAAAABBAAAAAAAAAO0AAAAAAAAAUQAAAAAAAADxAAAAAAAAAEEAAAAAAAAA9QAAAAAAAABBA",
          "dtype": "f8",
          "shape": "30, 2"
         },
         "hovertemplate": "Test Idx: %{customdata[0]:03d}<br>('dip', 'degree'): %{x:.2f}<br>('entropy_gen_number', ''): %{y:.2f}<br>zero_crossings: %{customdata[1]:d}<extra></extra>",
         "marker": {
          "color": "rgba(0,0,0,0)",
          "line": {
           "cmax": 6,
           "cmin": 2,
           "color": {
            "bdata": "AAAAAAAAEEAAAAAAAAAUQAAAAAAAABBAAAAAAAAAEEAAAAAAAAAIQAAAAAAAABBAAAAAAAAAEEAAAAAAAAAIQAAAAAAAAABAAAAAAAAAFEAAAAAAAAAQQAAAAAAAABBAAAAAAAAAFEAAAAAAAAAUQAAAAAAAAAhAAAAAAAAAFEAAAAAAAAAIQAAAAAAAABBAAAAAAAAAEEAAAAAAAAAQQAAAAAAAABBAAAAAAAAAFEAAAAAAAAAQQAAAAAAAABBAAAAAAAAAFEAAAAAAAAAIQAAAAAAAABBAAAAAAAAAFEAAAAAAAAAQQAAAAAAAABBA",
            "dtype": "f8"
           },
           "colorscale": [
            [
             0,
             "#440154"
            ],
            [
             0.1111111111111111,
             "#482878"
            ],
            [
             0.2222222222222222,
             "#3e4989"
            ],
            [
             0.3333333333333333,
             "#31688e"
            ],
            [
             0.4444444444444444,
             "#26828e"
            ],
            [
             0.5555555555555556,
             "#1f9e89"
            ],
            [
             0.6666666666666666,
             "#35b779"
            ],
            [
             0.7777777777777778,
             "#6ece58"
            ],
            [
             0.8888888888888888,
             "#b5de2b"
            ],
            [
             1,
             "#fde725"
            ]
           ],
           "width": 3
          },
          "opacity": 0.9,
          "showscale": false,
          "size": 8
         },
         "mode": "markers",
         "name": "Test Samples",
         "text": {
          "bdata": "AAAAAAAAAAAAAAAAAADwPwAAAAAAAABAAAAAAAAACEAAAAAAAAAQQAAAAAAAABRAAAAAAAAAGEAAAAAAAAAcQAAAAAAAACBAAAAAAAAAIkAAAAAAAAAkQAAAAAAAACZAAAAAAAAAKEAAAAAAAAAqQAAAAAAAACxAAAAAAAAALkAAAAAAAAAwQAAAAAAAADFAAAAAAAAAMkAAAAAAAAAzQAAAAAAAADRAAAAAAAAANUAAAAAAAAA2QAAAAAAAADdAAAAAAAAAOEAAAAAAAAA5QAAAAAAAADpAAAAAAAAAO0AAAAAAAAA8QAAAAAAAAD1A",
          "dtype": "f8"
         },
         "type": "scatter",
         "x": {
          "bdata": "pxdX5bWGVEB/cSF1UBpRQDLv7uGhRVBAXzx2haULUUC2AGe43f1MQGChEqyzDVRAEWOdb06sUEBZN4P9q2tSQPoYCp2EMExAV9nhqFAlUUDuDiSNkfBOQIfiq/UKeFRA53O3IKYsUUDNSvqKp3lRQJqH/nHpe09AuM+J+vnbUEAqjFoFTV9QQFOzGOSLvE1A90fWfbVwVEAIFfoIEvlVQDCfQzGsdlJABrdYtLayVECJOVJ4swJUQJoGdgMQi1VADLVQav2WUUAY9w4Kh7RMQCSVXSG5NlVAi4n9KKnRUUABAhHdsuFTQDCYSF/5ulBA",
          "dtype": "f8"
         },
         "y": {
          "bdata": "YEdRPozg8z9UIhc4TfLxPyFqN1no1/I/3pJOv+od8z+unELyYYTzP0gprIpD0fM/Pcdv/c798j/ztZ4Isu30P3yZGLPTqvQ/EkMjYyz28T9+pBWw/4jyP4jkexmP4/M/rS427Jb38T+g32pZ7QvyP1x30VXjGfQ/0XuFULPj8T+yhqGMmlj0P3p6TgRYR/I/clIGK0vi8z8H547e9/nzP8Cn2DUEh/M/O9OhFx6b8j+YfhbVutHzP6O6lO5x+fM/VyK5/bQS8j+H+Kt/c3HzP6Xer07h9PM/PdsD6nMh8j/03rWu783zPxug/YKXA/M/",
          "dtype": "f8"
         }
        },
        {
         "hoverinfo": "skip",
         "marker": {
          "color": "rgba(0,0,0,0)",
          "line": {
           "color": "red",
           "width": 2
          },
          "showscale": false,
          "size": 14
         },
         "mode": "markers",
         "name": "Highlighted Training Samples",
         "type": "scatter",
         "x": [],
         "y": []
        },
        {
         "hoverinfo": "skip",
         "marker": {
          "color": "rgba(0,0,0,0)",
          "line": {
           "color": "magenta",
           "width": 2
          },
          "showscale": false,
          "size": 14
         },
         "mode": "markers",
         "name": "Critical Test Samples",
         "type": "scatter",
         "x": [],
         "y": []
        },
        {
         "hovertemplate": "skip",
         "mode": "text",
         "name": "Training Samples Idx Numbers",
         "text": {
          "bdata": "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",
          "dtype": "f8"
         },
         "textposition": "top center",
         "type": "scatter",
         "visible": "legendonly",
         "x": {
          "bdata": "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",
          "dtype": "f8"
         },
         "y": {
          "bdata": "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",
          "dtype": "f8"
         }
        },
        {
         "hovertemplate": "skip",
         "mode": "text",
         "name": "Test Samples Idx Numbers",
         "text": {
          "bdata": "AAAAAAAAAAAAAAAAAADwPwAAAAAAAABAAAAAAAAACEAAAAAAAAAQQAAAAAAAABRAAAAAAAAAGEAAAAAAAAAcQAAAAAAAACBAAAAAAAAAIkAAAAAAAAAkQAAAAAAAACZAAAAAAAAAKEAAAAAAAAAqQAAAAAAAACxAAAAAAAAALkAAAAAAAAAwQAAAAAAAADFAAAAAAAAAMkAAAAAAAAAzQAAAAAAAADRAAAAAAAAANUAAAAAAAAA2QAAAAAAAADdAAAAAAAAAOEAAAAAAAAA5QAAAAAAAADpAAAAAAAAAO0AAAAAAAAA8QAAAAAAAAD1A",
          "dtype": "f8"
         },
         "textposition": "top center",
         "type": "scatter",
         "visible": "legendonly",
         "x": {
          "bdata": "pxdX5bWGVEB/cSF1UBpRQDLv7uGhRVBAXzx2haULUUC2AGe43f1MQGChEqyzDVRAEWOdb06sUEBZN4P9q2tSQPoYCp2EMExAV9nhqFAlUUDuDiSNkfBOQIfiq/UKeFRA53O3IKYsUUDNSvqKp3lRQJqH/nHpe09AuM+J+vnbUEAqjFoFTV9QQFOzGOSLvE1A90fWfbVwVEAIFfoIEvlVQDCfQzGsdlJABrdYtLayVECJOVJ4swJUQJoGdgMQi1VADLVQav2WUUAY9w4Kh7RMQCSVXSG5NlVAi4n9KKnRUUABAhHdsuFTQDCYSF/5ulBA",
          "dtype": "f8"
         },
         "y": {
          "bdata": "YEdRPozg8z9UIhc4TfLxPyFqN1no1/I/3pJOv+od8z+unELyYYTzP0gprIpD0fM/Pcdv/c798j/ztZ4Isu30P3yZGLPTqvQ/EkMjYyz28T9+pBWw/4jyP4jkexmP4/M/rS427Jb38T+g32pZ7QvyP1x30VXjGfQ/0XuFULPj8T+yhqGMmlj0P3p6TgRYR/I/clIGK0vi8z8H547e9/nzP8Cn2DUEh/M/O9OhFx6b8j+YfhbVutHzP6O6lO5x+fM/VyK5/bQS8j+H+Kt/c3HzP6Xer07h9PM/PdsD6nMh8j/03rWu783zPxug/YKXA/M/",
          "dtype": "f8"
         }
        }
       ],
       "layout": {
        "legend": {
         "itemwidth": 70,
         "orientation": "h",
         "traceorder": "normal",
         "x": 0,
         "xanchor": "left",
         "y": -0.5,
         "yanchor": "bottom"
        },
        "template": {
         "data": {
          "bar": [
           {
            "error_x": {
             "color": "#2a3f5f"
            },
            "error_y": {
             "color": "#2a3f5f"
            },
            "marker": {
             "line": {
              "color": "#E5ECF6",
              "width": 0.5
             },
             "pattern": {
              "fillmode": "overlay",
              "size": 10,
              "solidity": 0.2
             }
            },
            "type": "bar"
           }
          ],
          "barpolar": [
           {
            "marker": {
             "line": {
              "color": "#E5ECF6",
              "width": 0.5
             },
             "pattern": {
              "fillmode": "overlay",
              "size": 10,
              "solidity": 0.2
             }
            },
            "type": "barpolar"
           }
          ],
          "carpet": [
           {
            "aaxis": {
             "endlinecolor": "#2a3f5f",
             "gridcolor": "white",
             "linecolor": "white",
             "minorgridcolor": "white",
             "startlinecolor": "#2a3f5f"
            },
            "baxis": {
             "endlinecolor": "#2a3f5f",
             "gridcolor": "white",
             "linecolor": "white",
             "minorgridcolor": "white",
             "startlinecolor": "#2a3f5f"
            },
            "type": "carpet"
           }
          ],
          "choropleth": [
           {
            "colorbar": {
             "outlinewidth": 0,
             "ticks": ""
            },
            "type": "choropleth"
           }
          ],
          "contour": [
           {
            "colorbar": {
             "outlinewidth": 0,
             "ticks": ""
            },
            "colorscale": [
             [
              0,
              "#0d0887"
             ],
             [
              0.1111111111111111,
              "#46039f"
             ],
             [
              0.2222222222222222,
              "#7201a8"
             ],
             [
              0.3333333333333333,
              "#9c179e"
             ],
             [
              0.4444444444444444,
              "#bd3786"
             ],
             [
              0.5555555555555556,
              "#d8576b"
             ],
             [
              0.6666666666666666,
              "#ed7953"
             ],
             [
              0.7777777777777778,
              "#fb9f3a"
             ],
             [
              0.8888888888888888,
              "#fdca26"
             ],
             [
              1,
              "#f0f921"
             ]
            ],
            "type": "contour"
           }
          ],
          "contourcarpet": [
           {
            "colorbar": {
             "outlinewidth": 0,
             "ticks": ""
            },
            "type": "contourcarpet"
           }
          ],
          "heatmap": [
           {
            "colorbar": {
             "outlinewidth": 0,
             "ticks": ""
            },
            "colorscale": [
             [
              0,
              "#0d0887"
             ],
             [
              0.1111111111111111,
              "#46039f"
             ],
             [
              0.2222222222222222,
              "#7201a8"
             ],
             [
              0.3333333333333333,
              "#9c179e"
             ],
             [
              0.4444444444444444,
              "#bd3786"
             ],
             [
              0.5555555555555556,
              "#d8576b"
             ],
             [
              0.6666666666666666,
              "#ed7953"
             ],
             [
              0.7777777777777778,
              "#fb9f3a"
             ],
             [
              0.8888888888888888,
              "#fdca26"
             ],
             [
              1,
              "#f0f921"
             ]
            ],
            "type": "heatmap"
           }
          ],
          "histogram": [
           {
            "marker": {
             "pattern": {
              "fillmode": "overlay",
              "size": 10,
              "solidity": 0.2
             }
            },
            "type": "histogram"
           }
          ],
          "histogram2d": [
           {
            "colorbar": {
             "outlinewidth": 0,
             "ticks": ""
            },
            "colorscale": [
             [
              0,
              "#0d0887"
             ],
             [
              0.1111111111111111,
              "#46039f"
             ],
             [
              0.2222222222222222,
              "#7201a8"
             ],
             [
              0.3333333333333333,
              "#9c179e"
             ],
             [
              0.4444444444444444,
              "#bd3786"
             ],
             [
              0.5555555555555556,
              "#d8576b"
             ],
             [
              0.6666666666666666,
              "#ed7953"
             ],
             [
              0.7777777777777778,
              "#fb9f3a"
             ],
             [
              0.8888888888888888,
              "#fdca26"
             ],
             [
              1,
              "#f0f921"
             ]
            ],
            "type": "histogram2d"
           }
          ],
          "histogram2dcontour": [
           {
            "colorbar": {
             "outlinewidth": 0,
             "ticks": ""
            },
            "colorscale": [
             [
              0,
              "#0d0887"
             ],
             [
              0.1111111111111111,
              "#46039f"
             ],
             [
              0.2222222222222222,
              "#7201a8"
             ],
             [
              0.3333333333333333,
              "#9c179e"
             ],
             [
              0.4444444444444444,
              "#bd3786"
             ],
             [
              0.5555555555555556,
              "#d8576b"
             ],
             [
              0.6666666666666666,
              "#ed7953"
             ],
             [
              0.7777777777777778,
              "#fb9f3a"
             ],
             [
              0.8888888888888888,
              "#fdca26"
             ],
             [
              1,
              "#f0f921"
             ]
            ],
            "type": "histogram2dcontour"
           }
          ],
          "mesh3d": [
           {
            "colorbar": {
             "outlinewidth": 0,
             "ticks": ""
            },
            "type": "mesh3d"
           }
          ],
          "parcoords": [
           {
            "line": {
             "colorbar": {
              "outlinewidth": 0,
              "ticks": ""
             }
            },
            "type": "parcoords"
           }
          ],
          "pie": [
           {
            "automargin": true,
            "type": "pie"
           }
          ],
          "scatter": [
           {
            "fillpattern": {
             "fillmode": "overlay",
             "size": 10,
             "solidity": 0.2
            },
            "type": "scatter"
           }
          ],
          "scatter3d": [
           {
            "line": {
             "colorbar": {
              "outlinewidth": 0,
              "ticks": ""
             }
            },
            "marker": {
             "colorbar": {
              "outlinewidth": 0,
              "ticks": ""
             }
            },
            "type": "scatter3d"
           }
          ],
          "scattercarpet": [
           {
            "marker": {
             "colorbar": {
              "outlinewidth": 0,
              "ticks": ""
             }
            },
            "type": "scattercarpet"
           }
          ],
          "scattergeo": [
           {
            "marker": {
             "colorbar": {
              "outlinewidth": 0,
              "ticks": ""
             }
            },
            "type": "scattergeo"
           }
          ],
          "scattergl": [
           {
            "marker": {
             "colorbar": {
              "outlinewidth": 0,
              "ticks": ""
             }
            },
            "type": "scattergl"
           }
          ],
          "scattermap": [
           {
            "marker": {
             "colorbar": {
              "outlinewidth": 0,
              "ticks": ""
             }
            },
            "type": "scattermap"
           }
          ],
          "scattermapbox": [
           {
            "marker": {
             "colorbar": {
              "outlinewidth": 0,
              "ticks": ""
             }
            },
            "type": "scattermapbox"
           }
          ],
          "scatterpolar": [
           {
            "marker": {
             "colorbar": {
              "outlinewidth": 0,
              "ticks": ""
             }
            },
            "type": "scatterpolar"
           }
          ],
          "scatterpolargl": [
           {
            "marker": {
             "colorbar": {
              "outlinewidth": 0,
              "ticks": ""
             }
            },
            "type": "scatterpolargl"
           }
          ],
          "scatterternary": [
           {
            "marker": {
             "colorbar": {
              "outlinewidth": 0,
              "ticks": ""
             }
            },
            "type": "scatterternary"
           }
          ],
          "surface": [
           {
            "colorbar": {
             "outlinewidth": 0,
             "ticks": ""
            },
            "colorscale": [
             [
              0,
              "#0d0887"
             ],
             [
              0.1111111111111111,
              "#46039f"
             ],
             [
              0.2222222222222222,
              "#7201a8"
             ],
             [
              0.3333333333333333,
              "#9c179e"
             ],
             [
              0.4444444444444444,
              "#bd3786"
             ],
             [
              0.5555555555555556,
              "#d8576b"
             ],
             [
              0.6666666666666666,
              "#ed7953"
             ],
             [
              0.7777777777777778,
              "#fb9f3a"
             ],
             [
              0.8888888888888888,
              "#fdca26"
             ],
             [
              1,
              "#f0f921"
             ]
            ],
            "type": "surface"
           }
          ],
          "table": [
           {
            "cells": {
             "fill": {
              "color": "#EBF0F8"
             },
             "line": {
              "color": "white"
             }
            },
            "header": {
             "fill": {
              "color": "#C8D4E3"
             },
             "line": {
              "color": "white"
             }
            },
            "type": "table"
           }
          ]
         },
         "layout": {
          "annotationdefaults": {
           "arrowcolor": "#2a3f5f",
           "arrowhead": 0,
           "arrowwidth": 1
          },
          "autotypenumbers": "strict",
          "coloraxis": {
           "colorbar": {
            "outlinewidth": 0,
            "ticks": ""
           }
          },
          "colorscale": {
           "diverging": [
            [
             0,
             "#8e0152"
            ],
            [
             0.1,
             "#c51b7d"
            ],
            [
             0.2,
             "#de77ae"
            ],
            [
             0.3,
             "#f1b6da"
            ],
            [
             0.4,
             "#fde0ef"
            ],
            [
             0.5,
             "#f7f7f7"
            ],
            [
             0.6,
             "#e6f5d0"
            ],
            [
             0.7,
             "#b8e186"
            ],
            [
             0.8,
             "#7fbc41"
            ],
            [
             0.9,
             "#4d9221"
            ],
            [
             1,
             "#276419"
            ]
           ],
           "sequential": [
            [
             0,
             "#0d0887"
            ],
            [
             0.1111111111111111,
             "#46039f"
            ],
            [
             0.2222222222222222,
             "#7201a8"
            ],
            [
             0.3333333333333333,
             "#9c179e"
            ],
            [
             0.4444444444444444,
             "#bd3786"
            ],
            [
             0.5555555555555556,
             "#d8576b"
            ],
            [
             0.6666666666666666,
             "#ed7953"
            ],
            [
             0.7777777777777778,
             "#fb9f3a"
            ],
            [
             0.8888888888888888,
             "#fdca26"
            ],
            [
             1,
             "#f0f921"
            ]
           ],
           "sequentialminus": [
            [
             0,
             "#0d0887"
            ],
            [
             0.1111111111111111,
             "#46039f"
            ],
            [
             0.2222222222222222,
             "#7201a8"
            ],
            [
             0.3333333333333333,
             "#9c179e"
            ],
            [
             0.4444444444444444,
             "#bd3786"
            ],
            [
             0.5555555555555556,
             "#d8576b"
            ],
            [
             0.6666666666666666,
             "#ed7953"
            ],
            [
             0.7777777777777778,
             "#fb9f3a"
            ],
            [
             0.8888888888888888,
             "#fdca26"
            ],
            [
             1,
             "#f0f921"
            ]
           ]
          },
          "colorway": [
           "#636efa",
           "#EF553B",
           "#00cc96",
           "#ab63fa",
           "#FFA15A",
           "#19d3f3",
           "#FF6692",
           "#B6E880",
           "#FF97FF",
           "#FECB52"
          ],
          "font": {
           "color": "#2a3f5f"
          },
          "geo": {
           "bgcolor": "white",
           "lakecolor": "white",
           "landcolor": "#E5ECF6",
           "showlakes": true,
           "showland": true,
           "subunitcolor": "white"
          },
          "hoverlabel": {
           "align": "left"
          },
          "hovermode": "closest",
          "mapbox": {
           "style": "light"
          },
          "paper_bgcolor": "white",
          "plot_bgcolor": "#E5ECF6",
          "polar": {
           "angularaxis": {
            "gridcolor": "white",
            "linecolor": "white",
            "ticks": ""
           },
           "bgcolor": "#E5ECF6",
           "radialaxis": {
            "gridcolor": "white",
            "linecolor": "white",
            "ticks": ""
           }
          },
          "scene": {
           "xaxis": {
            "backgroundcolor": "#E5ECF6",
            "gridcolor": "white",
            "gridwidth": 2,
            "linecolor": "white",
            "showbackground": true,
            "ticks": "",
            "zerolinecolor": "white"
           },
           "yaxis": {
            "backgroundcolor": "#E5ECF6",
            "gridcolor": "white",
            "gridwidth": 2,
            "linecolor": "white",
            "showbackground": true,
            "ticks": "",
            "zerolinecolor": "white"
           },
           "zaxis": {
            "backgroundcolor": "#E5ECF6",
            "gridcolor": "white",
            "gridwidth": 2,
            "linecolor": "white",
            "showbackground": true,
            "ticks": "",
            "zerolinecolor": "white"
           }
          },
          "shapedefaults": {
           "line": {
            "color": "#2a3f5f"
           }
          },
          "ternary": {
           "aaxis": {
            "gridcolor": "white",
            "linecolor": "white",
            "ticks": ""
           },
           "baxis": {
            "gridcolor": "white",
            "linecolor": "white",
            "ticks": ""
           },
           "bgcolor": "#E5ECF6",
           "caxis": {
            "gridcolor": "white",
            "linecolor": "white",
            "ticks": ""
           }
          },
          "title": {
           "x": 0.05
          },
          "xaxis": {
           "automargin": true,
           "gridcolor": "white",
           "linecolor": "white",
           "ticks": "",
           "title": {
            "standoff": 15
           },
           "zerolinecolor": "white",
           "zerolinewidth": 2
          },
          "yaxis": {
           "automargin": true,
           "gridcolor": "white",
           "linecolor": "white",
           "ticks": "",
           "title": {
            "standoff": 15
           },
           "zerolinecolor": "white",
           "zerolinewidth": 2
          }
         }
        },
        "title": {
         "text": "Parameter Space 10 - Number of Convection Cells"
        },
        "xaxis": {
         "title": {
          "text": "dip - degree"
         }
        },
        "yaxis": {
         "title": {
          "text": "entropy_gen_number - "
         }
        }
       }
      }
     },
     "metadata": {},
     "output_type": "display_data"
    }
   ],
   "source": [
    "# Stack the custom data: [sample_idx, zero_crossings]\n",
    "custom_data_training = np.column_stack([\n",
    "    parameters_training.index.to_numpy(),\n",
    "    parameters_training['zero_crossings'].to_numpy()[:, 0]\n",
    "])\n",
    "\n",
    "custom_data_test = np.column_stack([\n",
    "    parameters_test.index.to_numpy(),\n",
    "    parameters_test['zero_crossings'].to_numpy()[:, 0]\n",
    "])\n",
    "\n",
    "vmin = min(parameters_training['zero_crossings'].values.min(), parameters_test['zero_crossings'].values.min())\n",
    "vmax = max(parameters_training['zero_crossings'].values.max(), parameters_test['zero_crossings'].values.max())\n",
    "cmap = 'viridis' #'portland'\n",
    "\n",
    "# All Training Samples\n",
    "fig = go.Figure(data=go.Scatter(\n",
    "    x=parameters_training[x_key.get('key')],\n",
    "    y=parameters_training[y_key.get('key')],\n",
    "    mode='markers',\n",
    "    text = parameters_training.index.to_numpy(),\n",
    "    name = 'Training Samples',\n",
    "    marker=dict(\n",
    "        size=8,\n",
    "        color=parameters_training['zero_crossings'].to_numpy()[:, 0],\n",
    "        colorscale=cmap,\n",
    "        showscale=True,\n",
    "        opacity=0.9,\n",
    "        cmin=vmin,\n",
    "        cmax=vmax,\n",
    "    ),\n",
    "    customdata=custom_data_training,\n",
    "    hovertemplate = (\n",
    "        'Training Idx: %{customdata[0]:03d}<br>' +\n",
    "        f'{x_key.get('key')}: %{{x:.2f}}<br>' +\n",
    "        f'{y_key.get('key')}: %{{y:.2f}}<br>' +\n",
    "        'zero_crossings: %{customdata[1]:d}<extra></extra>'\n",
    "    )\n",
    "))\n",
    "\n",
    "# All Test Samples\n",
    "fig.add_trace(go.Scatter(\n",
    "    x=parameters_test[x_key.get('key')],\n",
    "    y=parameters_test[y_key.get('key')],\n",
    "    mode='markers',\n",
    "    text = parameters_test.index.to_numpy(),\n",
    "    name = 'Test Samples',\n",
    "    marker=dict(\n",
    "        size=8,\n",
    "        color= 'rgba(0,0,0,0)',  # transparent fill\n",
    "        line=dict(\n",
    "            colorscale=cmap,\n",
    "            color=parameters_test['zero_crossings'].to_numpy()[:, 0],\n",
    "            width=3,\n",
    "            cmin=vmin,\n",
    "            cmax=vmax,\n",
    "        ),\n",
    "        showscale=False,\n",
    "        opacity=0.9,\n",
    "\n",
    "    ),\n",
    "    customdata=custom_data_test,\n",
    "    hovertemplate=(\n",
    "        'Test Idx: %{customdata[0]:03d}<br>' +\n",
    "        f'{x_key.get('key')}: %{{x:.2f}}<br>' +\n",
    "        f'{y_key.get('key')}: %{{y:.2f}}<br>' +\n",
    "        'zero_crossings: %{customdata[1]:d}<extra></extra>'\n",
    "    )\n",
    "))\n",
    "\n",
    "if PARAMETER_SPACE == \"07\":\n",
    "    fig.add_trace(go.Scatter(\n",
    "        x=parameters_test[x_key.get('key')],\n",
    "        y=parameters_test[('zero_crossings_vnc', 'No Unit')],  # entropy_gen_number_vnc\n",
    "        mode='markers',\n",
    "        text = parameters_test.index.to_numpy(),\n",
    "        name = 'Test Samples VNC',\n",
    "        marker_symbol = 'square',\n",
    "        marker=dict(\n",
    "            size=8,\n",
    "            color= 'rgba(0,0,0,0)',  # transparent fill\n",
    "            line=dict(\n",
    "                colorscale=cmap,\n",
    "                color=parameters_test['zero_crossings_vnc'].to_numpy()[:, 0],\n",
    "                width=3,\n",
    "                cmin=vmin,\n",
    "                cmax=vmax,\n",
    "            ),\n",
    "            showscale=False,\n",
    "            opacity=0.9,\n",
    "\n",
    "        ),\n",
    "        customdata=custom_data_test,\n",
    "        hovertemplate=(\n",
    "            'Test Idx: %{customdata[0]:03d}<br>' +\n",
    "            f'{x_key.get('key')}: %{{x:.2f}}<br>' +\n",
    "            f'{y_key.get('key')}: %{{y:.2f}}<br>' +\n",
    "            'zero_crossings: %{customdata[1]:d}<extra></extra>'\n",
    "        )\n",
    "    ))\n",
    "\n",
    "highlight_mask = parameters_training.index.isin(indices_to_highlight_training)\n",
    "# Highlighted points\n",
    "fig.add_trace(go.Scatter(\n",
    "    x=parameters_training.loc[highlight_mask, x_key.get('key')],\n",
    "    y=parameters_training.loc[highlight_mask, y_key.get('key')],\n",
    "    mode='markers',\n",
    "    name = 'Highlighted Training Samples',\n",
    "    marker=dict(\n",
    "        showscale = False,\n",
    "        size=14,\n",
    "        color='rgba(0,0,0,0)',  # Transparent fill\n",
    "        line=dict(color='red', width=2)  # Red outline\n",
    "    ),\n",
    "    hoverinfo = 'skip'\n",
    "))\n",
    "\n",
    "\n",
    "highlight_mask = parameters_test.index.isin(indices_to_highlight_test)\n",
    "# Highlighted points\n",
    "fig.add_trace(go.Scatter(\n",
    "    x=parameters_test.loc[highlight_mask, x_key.get('key')],\n",
    "    y=parameters_test.loc[highlight_mask, y_key.get('key')],\n",
    "    mode='markers',\n",
    "    name = 'Critical Test Samples',\n",
    "    marker=dict(\n",
    "        showscale = False,\n",
    "        size=14,\n",
    "        color='rgba(0,0,0,0)',  # Transparent fill\n",
    "        line=dict(color='magenta', width=2)  # Red outline\n",
    "    ),\n",
    "    hoverinfo = 'skip'\n",
    "))\n",
    "\n",
    "# All Training Samples\n",
    "fig.add_trace(go.Scatter(\n",
    "    x=parameters_training[x_key.get('key')],\n",
    "    y=parameters_training[y_key.get('key')],\n",
    "    mode='text',\n",
    "    textposition='top center',\n",
    "    text = parameters_training.index.to_numpy(),\n",
    "    name = 'Training Samples Idx Numbers',\n",
    "    hovertemplate='skip',\n",
    "    visible='legendonly' \n",
    "))\n",
    "\n",
    "fig.add_trace(go.Scatter(\n",
    "    x=parameters_test[x_key.get('key')],\n",
    "    y=parameters_test[y_key.get('key')],\n",
    "    mode='text',\n",
    "    textposition='top center',\n",
    "    text = parameters_test.index.to_numpy(),\n",
    "    name = 'Test Samples Idx Numbers',\n",
    "    hovertemplate='skip',\n",
    "    visible='legendonly' \n",
    "))\n",
    "\n",
    "fig.update_layout(\n",
    "    title=f'Parameter Space {PARAMETER_SPACE} - Number of Convection Cells',\n",
    "    xaxis_title=' - '.join(x_key.get('key')),\n",
    "    yaxis_title=' - '.join(y_key.get('key')),\n",
    "    legend=dict(\n",
    "        orientation=\"h\",\n",
    "        yanchor=\"bottom\",\n",
    "        y=-0.5,\n",
    "        xanchor=\"left\",\n",
    "        x=0,\n",
    "        traceorder=\"normal\",\n",
    "        itemwidth=70  # control spacing\n",
    "    )\n",
    ")\n",
    "\n",
    "fig.show()\n",
    "fig.write_html(ROOT / \"data\" / PARAMETER_SPACE / \"Exports\" / f\"Zero_Crossing_{PARAMETER_SPACE}_{x_key.get('key')}_{y_key.get('key')}.html\")\n"
   ]
  },
  {
   "cell_type": "code",
   "execution_count": 10,
   "id": "db581f28",
   "metadata": {},
   "outputs": [],
   "source": [
    "if is_3d_plot:\n",
    "\n",
    "    # Stack the custom data: [sample_idx, zero_crossings]\n",
    "    custom_data_training = np.column_stack([\n",
    "        parameters_training.index.to_numpy(),\n",
    "        parameters_training['zero_crossings'].to_numpy()[:, 0]\n",
    "    ])\n",
    "\n",
    "    custom_data_test = np.column_stack([\n",
    "        parameters_test.index.to_numpy(),\n",
    "        parameters_test['zero_crossings'].to_numpy()[:, 0]\n",
    "    ])\n",
    "\n",
    "    vmin = min(parameters_training['zero_crossings'].values.min(), parameters_test['zero_crossings'].values.min())\n",
    "    vmax = max(parameters_training['zero_crossings'].values.max(), parameters_test['zero_crossings'].values.max())\n",
    "    cmap = 'viridis' #'portland'\n",
    "\n",
    "    # All Training Samples\n",
    "    fig = go.Figure(data=go.Scatter3d(\n",
    "        x=parameters_training[x_key.get('key')].values,\n",
    "        y=parameters_training[y_key.get('key')].values,\n",
    "        z=parameters_training[z_key.get('key')].values,\n",
    "        mode='markers',\n",
    "        text = parameters_training.index.to_numpy(),\n",
    "        name = 'Training Samples',\n",
    "        marker=dict(\n",
    "            size=5,\n",
    "            color=parameters_training['zero_crossings'].to_numpy()[:, 0],\n",
    "            colorscale=cmap,\n",
    "            showscale=True,\n",
    "            opacity=0.9,\n",
    "            cmin=vmin,\n",
    "            cmax=vmax,\n",
    "        ),\n",
    "        customdata=custom_data_training,\n",
    "        hovertemplate = (\n",
    "            'Training Idx: %{customdata[0]:03d}<br>' +\n",
    "            f'{x_key.get('key')}: %{{x:.2f}}<br>' +\n",
    "            f'{y_key.get('key')}: %{{y:.2f}}<br>' +\n",
    "            'zero_crossings: %{customdata[1]:d}<extra></extra>'\n",
    "        )\n",
    "    ))\n",
    "\n",
    "    # All Test Samples\n",
    "    fig.add_trace(go.Scatter3d(\n",
    "        x=parameters_test[x_key.get('key')],\n",
    "        y=parameters_test[y_key.get('key')],\n",
    "        z=parameters_test[z_key.get('key')],\n",
    "        mode='markers',\n",
    "        text = parameters_test.index.to_numpy(),\n",
    "        name = 'Test Samples',\n",
    "        marker=dict(\n",
    "            size=5,\n",
    "            color= 'rgba(0,0,0,0)',  # transparent fill\n",
    "            line=dict(\n",
    "                colorscale=cmap,\n",
    "                color=parameters_test['zero_crossings'].to_numpy()[:, 0],\n",
    "                width=4,\n",
    "                cmin=vmin,\n",
    "                cmax=vmax,\n",
    "            ),\n",
    "            showscale=False,\n",
    "            opacity=0.9,\n",
    "\n",
    "        ),\n",
    "        customdata=custom_data_test,\n",
    "        hovertemplate=(\n",
    "            'Test Idx: %{customdata[0]:03d}<br>' +\n",
    "            f'{x_key.get('key')}: %{{x:.2f}}<br>' +\n",
    "            f'{y_key.get('key')}: %{{y:.2f}}<br>' +\n",
    "            'zero_crossings: %{customdata[1]:d}<extra></extra>'\n",
    "        )\n",
    "    ))\n",
    "\n",
    "    # # All Training Samples\n",
    "    fig.add_trace(go.Scatter3d(\n",
    "        x=parameters_training[x_key.get('key')],\n",
    "        y=parameters_training[y_key.get('key')],\n",
    "        z=parameters_training[z_key.get('key')],\n",
    "        mode='text',\n",
    "        textposition='top center',\n",
    "        text = parameters_training.index.to_numpy(),\n",
    "        name = 'Training Samples Idx Numbers',\n",
    "        hovertemplate='skip',\n",
    "        visible='legendonly' \n",
    "    ))\n",
    "\n",
    "    fig.add_trace(go.Scatter3d(\n",
    "        x=parameters_test[x_key.get('key')],\n",
    "        y=parameters_test[y_key.get('key')],\n",
    "        z=parameters_test[z_key.get('key')],\n",
    "        mode='text',\n",
    "        textposition='top center',\n",
    "        text = parameters_test.index.to_numpy(),\n",
    "        name = 'Test Samples Idx Numbers',\n",
    "        hovertemplate='skip',\n",
    "        visible='legendonly' \n",
    "    ))\n",
    "\n",
    "    fig.update_layout(\n",
    "        title=f'Parameter Space {PARAMETER_SPACE} - Number of Convection Cells',\n",
    "        scene=dict(\n",
    "            xaxis=dict(title = dict(text = '-'.join(x_key.get('key')))),\n",
    "            yaxis=dict(title = dict(text = '-'.join(y_key.get('key')))),\n",
    "            zaxis=dict(title = dict(text = '-'.join(z_key.get('key')))),\n",
    "        ),\n",
    "        legend=dict(\n",
    "        orientation=\"h\",\n",
    "        yanchor=\"bottom\",\n",
    "        y=-0.5,\n",
    "        xanchor=\"left\",\n",
    "        x=0,\n",
    "        )\n",
    "    )\n",
    "\n",
    "    fig.show()\n",
    "    fig.write_html(ROOT / \"data\" / PARAMETER_SPACE / \"Exports\" / f\"Zero_Crossing_{PARAMETER_SPACE}_3D.html\")\n"
   ]
  }
 ],
 "metadata": {
  "kernelspec": {
   "display_name": "nirb",
   "language": "python",
   "name": "python3"
  },
  "language_info": {
   "codemirror_mode": {
    "name": "ipython",
    "version": 3
   },
   "file_extension": ".py",
   "mimetype": "text/x-python",
   "name": "python",
   "nbconvert_exporter": "python",
   "pygments_lexer": "ipython3",
   "version": "3.12.4"
  }
 },
 "nbformat": 4,
 "nbformat_minor": 5
}
