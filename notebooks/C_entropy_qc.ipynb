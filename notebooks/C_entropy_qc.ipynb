{
 "cells": [
  {
   "cell_type": "code",
   "execution_count": 1,
   "id": "1e0948df",
   "metadata": {},
   "outputs": [],
   "source": [
    "import numpy as np\n",
    "import plotly.graph_objects as go\n",
    "from pathlib import Path\n",
    "import sys\n",
    "from scipy.spatial import cKDTree\n",
    "import vtk\n",
    "import pyvista as pv"
   ]
  },
  {
   "cell_type": "code",
   "execution_count": 2,
   "id": "82d658ec",
   "metadata": {},
   "outputs": [],
   "source": [
    "sys.path.append(str(Path.cwd().parent))"
   ]
  },
  {
   "cell_type": "code",
   "execution_count": 3,
   "id": "db4f4e16",
   "metadata": {},
   "outputs": [],
   "source": [
    "from comsol_module.comsol_classes import COMSOL_VTU\n",
    "from comsol_module.helper import calculate_normal\n",
    "from src.utils import safe_parse_quantity, delete_comsol_fields, map_on_control_mesh, load_pint_data\n",
    "from scripts.C_map_on_control_mesh import handle_invalid_point_mask"
   ]
  },
  {
   "cell_type": "code",
   "execution_count": 4,
   "id": "196ca28e",
   "metadata": {},
   "outputs": [],
   "source": [
    "DATA_TYPE = \"Test\"\n",
    "ROOT = Path().cwd().parent\n",
    "vtu_path = ROOT / \"data/07/TestOriginal/Test_000.vtu\"\n",
    "comsol_data = COMSOL_VTU(vtu_path)\n",
    "entropy = np.load(ROOT / f\"data/07/{DATA_TYPE}Original/{DATA_TYPE}_entropy_gen_per_vol_thermal.npy\")\n",
    "entropy_num = np.load(ROOT / f\"data/07/{DATA_TYPE}Original/{DATA_TYPE}_entropy_gen_number_therm.npy\")\n",
    "field_name = comsol_data.format_field(\"Temperature\", -1)"
   ]
  },
  {
   "cell_type": "code",
   "execution_count": 17,
   "id": "c764aca4",
   "metadata": {},
   "outputs": [
    {
     "data": {
      "text/plain": [
       "(17367, 3)"
      ]
     },
     "execution_count": 17,
     "metadata": {},
     "output_type": "execute_result"
    }
   ],
   "source": [
    "points = comsol_data.mesh.points\n",
    "scalar_field = comsol_data.get_point_values(\"Temperature\", -1)\n",
    "points.shape"
   ]
  },
  {
   "cell_type": "code",
   "execution_count": 18,
   "id": "8aeecf28",
   "metadata": {},
   "outputs": [
    {
     "data": {
      "application/vnd.jupyter.widget-view+json": {
       "model_id": "c483fc59cf864d8fbaa1e4bdaa970622",
       "version_major": 2,
       "version_minor": 0
      },
      "text/plain": [
       "Widget(value='<iframe src=\"http://localhost:55094/index.html?ui=P_0x10802c200_1&reconnect=auto\" class=\"pyvista…"
      ]
     },
     "metadata": {},
     "output_type": "display_data"
    }
   ],
   "source": [
    "surf = comsol_data.mesh.compute_cell_sizes()\n",
    "surf.plot(show_edges=True, scalars='Volume')"
   ]
  },
  {
   "cell_type": "code",
   "execution_count": 19,
   "id": "ea8aa6de",
   "metadata": {},
   "outputs": [
    {
     "data": {
      "text/plain": [
       "pyvista_ndarray([0., 0., 0., ..., 0., 0., 0.], shape=(99243,))"
      ]
     },
     "execution_count": 19,
     "metadata": {},
     "output_type": "execute_result"
    }
   ],
   "source": [
    "surf.cell_data['Area']"
   ]
  },
  {
   "cell_type": "code",
   "execution_count": 20,
   "id": "e948e445",
   "metadata": {},
   "outputs": [],
   "source": [
    "tree = cKDTree(points)\n",
    "k = 15\n",
    "gradients = np.zeros_like(points)\n",
    "for i, point in enumerate(points):\n",
    "    # Find k nearest neighbors (including the point itself)\n",
    "    distances, indices = tree.query(point, k=k)\n",
    "\n",
    "    # Relative coordinates of neighbors\n",
    "    neighbors = points[indices]\n",
    "    relative_positions = neighbors - point\n",
    "\n",
    "    # Values of scalar field at neighbors\n",
    "    values = scalar_field[indices]\n",
    "\n",
    "    # Build design matrix A: [dx dy dz 1]\n",
    "    A = np.column_stack((relative_positions, np.ones(k)))\n",
    "\n",
    "    # Solve least squares: A * coeffs ≈ values\n",
    "    coeffs, *_ = np.linalg.lstsq(A, values, rcond=None)\n",
    "\n",
    "    # Gradient is first 3 coefficients: ∂T/∂x, ∂T/∂y, ∂T/∂z\n",
    "    gradients[i] = coeffs[:3]"
   ]
  },
  {
   "cell_type": "code",
   "execution_count": 21,
   "id": "ff607cec",
   "metadata": {},
   "outputs": [
    {
     "data": {
      "application/vnd.jupyter.widget-view+json": {
       "model_id": "97f104112d6b42668a4af7b116525dc1",
       "version_major": 2,
       "version_minor": 0
      },
      "text/plain": [
       "Widget(value='<iframe src=\"http://localhost:55094/index.html?ui=P_0x179292ae0_2&reconnect=auto\" class=\"pyvista…"
      ]
     },
     "metadata": {},
     "output_type": "display_data"
    }
   ],
   "source": [
    "comsol_data.mesh.point_data['kd_gradient'] = gradients\n",
    "comsol_data.mesh.clip(normal = -np.array(calculate_normal(60, 90))).plot(scalars = 'kd_gradient')"
   ]
  },
  {
   "cell_type": "code",
   "execution_count": 22,
   "id": "ac8227a2",
   "metadata": {},
   "outputs": [],
   "source": [
    "# Load or create your vtkUnstructuredGrid\n",
    "reader = vtk.vtkXMLUnstructuredGridReader()\n",
    "reader.SetFileName(vtu_path)\n",
    "reader.Update()\n",
    "grid = reader.GetOutput()\n",
    "\n",
    "# Apply gradient filter\n",
    "grad_filter = vtk.vtkGradientFilter()\n",
    "grad_filter.SetInputData(grid)\n",
    "grad_filter.SetInputScalars(vtk.vtkDataObject.FIELD_ASSOCIATION_POINTS, field_name)  # or FIELD_ASSOCIATION_CELLS\n",
    "grad_filter.SetResultArrayName(\"TemperatureGradient\")\n",
    "grad_filter.Update()\n",
    "\n",
    "# Get output with gradient vector field\n",
    "output = grad_filter.GetOutput()"
   ]
  },
  {
   "cell_type": "code",
   "execution_count": 23,
   "id": "72b39be7",
   "metadata": {},
   "outputs": [],
   "source": [
    "mesh = pv.wrap(output)\n"
   ]
  },
  {
   "cell_type": "code",
   "execution_count": 24,
   "id": "cd384fd1",
   "metadata": {},
   "outputs": [
    {
     "data": {
      "application/vnd.jupyter.widget-view+json": {
       "model_id": "53e30fefecd349b996676cfe8d0b7c0b",
       "version_major": 2,
       "version_minor": 0
      },
      "text/plain": [
       "Widget(value='<iframe src=\"http://localhost:55094/index.html?ui=P_0x1785070b0_3&reconnect=auto\" class=\"pyvista…"
      ]
     },
     "metadata": {},
     "output_type": "display_data"
    }
   ],
   "source": [
    "clipped = mesh.clip(normal = -np.array(calculate_normal(60, 90))).plot(scalars = 'TemperatureGradient')"
   ]
  },
  {
   "cell_type": "code",
   "execution_count": 25,
   "id": "7da214ff",
   "metadata": {},
   "outputs": [
    {
     "data": {
      "text/plain": [
       "17367"
      ]
     },
     "execution_count": 25,
     "metadata": {},
     "output_type": "execute_result"
    }
   ],
   "source": [
    "cleaned = comsol_data.mesh.clean()\n",
    "cleaned.n_points"
   ]
  },
  {
   "cell_type": "code",
   "execution_count": 26,
   "id": "0d3e3f37",
   "metadata": {},
   "outputs": [
    {
     "data": {
      "application/vnd.jupyter.widget-view+json": {
       "model_id": "6e02486442574995beec128d9cdc94db",
       "version_major": 2,
       "version_minor": 0
      },
      "text/plain": [
       "Widget(value='<iframe src=\"http://localhost:55094/index.html?ui=P_0x17d061ca0_4&reconnect=auto\" class=\"pyvista…"
      ]
     },
     "metadata": {},
     "output_type": "display_data"
    }
   ],
   "source": [
    "deriv  = cleaned.compute_derivative(scalars = field_name)\n",
    "deriv.clip(normal = -np.array(calculate_normal(60, 90))).plot(scalars = 'gradient')\n"
   ]
  },
  {
   "cell_type": "code",
   "execution_count": 27,
   "id": "f6774b78",
   "metadata": {},
   "outputs": [
    {
     "name": "stderr",
     "output_type": "stream",
     "text": [
      "Computing Derivative: 100%|██████████[00:00<00:00]\n"
     ]
    }
   ],
   "source": [
    "deriv = comsol_data.mesh.compute_derivative(scalars = field_name,\n",
    "                                            gradient = True,\n",
    "                                            preference = 'point',\n",
    "                                            progress_bar = True)"
   ]
  },
  {
   "cell_type": "code",
   "execution_count": 36,
   "id": "999be6cd",
   "metadata": {},
   "outputs": [],
   "source": [
    "deriv_integrated = deriv.integrate_data()"
   ]
  },
  {
   "cell_type": "code",
   "execution_count": 37,
   "id": "7e89634c",
   "metadata": {},
   "outputs": [
    {
     "data": {
      "text/html": [
       "<table style='width: 100%;'><tr><th>Header</th><th>Data Arrays</th></tr><tr><td>\n",
       "<table style='width: 100%;'>\n",
       "<tr><th>UnstructuredGrid</th><th>Information</th></tr>\n",
       "<tr><td>N Cells</td><td>1</td></tr>\n",
       "<tr><td>N Points</td><td>1</td></tr>\n",
       "<tr><td>X Bounds</td><td>2.000e+03, 2.000e+03</td></tr>\n",
       "<tr><td>Y Bounds</td><td>2.500e+03, 2.500e+03</td></tr>\n",
       "<tr><td>Z Bounds</td><td>-2.000e+03, -2.000e+03</td></tr>\n",
       "<tr><td>N Arrays</td><td>368</td></tr>\n",
       "</table>\n",
       "\n",
       "</td><td>\n",
       "<table style='width: 100%;'>\n",
       "<tr><th>Name</th><th>Field</th><th>Type</th><th>N Comp</th><th>Min</th><th>Max</th></tr>\n",
       "<tr><td>Dynamic_viscosity_@_t=0</td><td>Points</td><td>float64</td><td>1</td><td>3.296e+07</td><td>3.296e+07</td></tr>\n",
       "<tr><td>Dynamic_viscosity_@_t=1.1E13</td><td>Points</td><td>float64</td><td>1</td><td>3.191e+07</td><td>3.191e+07</td></tr>\n",
       "<tr><td>Dynamic_viscosity_@_t=1.2E13</td><td>Points</td><td>float64</td><td>1</td><td>3.190e+07</td><td>3.190e+07</td></tr>\n",
       "<tr><td>Dynamic_viscosity_@_t=1.3E13</td><td>Points</td><td>float64</td><td>1</td><td>3.190e+07</td><td>3.190e+07</td></tr>\n",
       "<tr><td>Dynamic_viscosity_@_t=1.4E13</td><td>Points</td><td>float64</td><td>1</td><td>3.190e+07</td><td>3.190e+07</td></tr>\n",
       "<tr><td>Dynamic_viscosity_@_t=1.5E13</td><td>Points</td><td>float64</td><td>1</td><td>3.190e+07</td><td>3.190e+07</td></tr>\n",
       "<tr><td>Dynamic_viscosity_@_t=1.6E13</td><td>Points</td><td>float64</td><td>1</td><td>3.190e+07</td><td>3.190e+07</td></tr>\n",
       "<tr><td>Dynamic_viscosity_@_t=1.7E13</td><td>Points</td><td>float64</td><td>1</td><td>3.190e+07</td><td>3.190e+07</td></tr>\n",
       "<tr><td>Dynamic_viscosity_@_t=1.8E13</td><td>Points</td><td>float64</td><td>1</td><td>3.190e+07</td><td>3.190e+07</td></tr>\n",
       "<tr><td>Dynamic_viscosity_@_t=1.9E13</td><td>Points</td><td>float64</td><td>1</td><td>3.190e+07</td><td>3.190e+07</td></tr>\n",
       "<tr><td>Dynamic_viscosity_@_t=1E12</td><td>Points</td><td>float64</td><td>1</td><td>3.296e+07</td><td>3.296e+07</td></tr>\n",
       "<tr><td>Dynamic_viscosity_@_t=1E13</td><td>Points</td><td>float64</td><td>1</td><td>3.191e+07</td><td>3.191e+07</td></tr>\n",
       "<tr><td>Dynamic_viscosity_@_t=2.1E13</td><td>Points</td><td>float64</td><td>1</td><td>3.190e+07</td><td>3.190e+07</td></tr>\n",
       "<tr><td>Dynamic_viscosity_@_t=2.2E13</td><td>Points</td><td>float64</td><td>1</td><td>3.190e+07</td><td>3.190e+07</td></tr>\n",
       "<tr><td>Dynamic_viscosity_@_t=2.3E13</td><td>Points</td><td>float64</td><td>1</td><td>3.190e+07</td><td>3.190e+07</td></tr>\n",
       "<tr><td>Dynamic_viscosity_@_t=2.4E13</td><td>Points</td><td>float64</td><td>1</td><td>3.190e+07</td><td>3.190e+07</td></tr>\n",
       "<tr><td>Dynamic_viscosity_@_t=2.5E13</td><td>Points</td><td>float64</td><td>1</td><td>3.190e+07</td><td>3.190e+07</td></tr>\n",
       "<tr><td>Dynamic_viscosity_@_t=2.6E13</td><td>Points</td><td>float64</td><td>1</td><td>3.190e+07</td><td>3.190e+07</td></tr>\n",
       "<tr><td>Dynamic_viscosity_@_t=2.7E13</td><td>Points</td><td>float64</td><td>1</td><td>3.190e+07</td><td>3.190e+07</td></tr>\n",
       "<tr><td>Dynamic_viscosity_@_t=2.8E13</td><td>Points</td><td>float64</td><td>1</td><td>3.190e+07</td><td>3.190e+07</td></tr>\n",
       "<tr><td>Dynamic_viscosity_@_t=2.9E13</td><td>Points</td><td>float64</td><td>1</td><td>3.190e+07</td><td>3.190e+07</td></tr>\n",
       "<tr><td>Dynamic_viscosity_@_t=2E12</td><td>Points</td><td>float64</td><td>1</td><td>3.253e+07</td><td>3.253e+07</td></tr>\n",
       "<tr><td>Dynamic_viscosity_@_t=2E13</td><td>Points</td><td>float64</td><td>1</td><td>3.190e+07</td><td>3.190e+07</td></tr>\n",
       "<tr><td>Dynamic_viscosity_@_t=3.1E13</td><td>Points</td><td>float64</td><td>1</td><td>3.190e+07</td><td>3.190e+07</td></tr>\n",
       "<tr><td>Dynamic_viscosity_@_t=3.2E13</td><td>Points</td><td>float64</td><td>1</td><td>3.190e+07</td><td>3.190e+07</td></tr>\n",
       "<tr><td>Dynamic_viscosity_@_t=3.3E13</td><td>Points</td><td>float64</td><td>1</td><td>3.190e+07</td><td>3.190e+07</td></tr>\n",
       "<tr><td>Dynamic_viscosity_@_t=3.4E13</td><td>Points</td><td>float64</td><td>1</td><td>3.190e+07</td><td>3.190e+07</td></tr>\n",
       "<tr><td>Dynamic_viscosity_@_t=3.5E13</td><td>Points</td><td>float64</td><td>1</td><td>3.190e+07</td><td>3.190e+07</td></tr>\n",
       "<tr><td>Dynamic_viscosity_@_t=3E12</td><td>Points</td><td>float64</td><td>1</td><td>3.210e+07</td><td>3.210e+07</td></tr>\n",
       "<tr><td>Dynamic_viscosity_@_t=3E13</td><td>Points</td><td>float64</td><td>1</td><td>3.190e+07</td><td>3.190e+07</td></tr>\n",
       "<tr><td>Dynamic_viscosity_@_t=4E12</td><td>Points</td><td>float64</td><td>1</td><td>3.198e+07</td><td>3.198e+07</td></tr>\n",
       "<tr><td>Dynamic_viscosity_@_t=5E12</td><td>Points</td><td>float64</td><td>1</td><td>3.194e+07</td><td>3.194e+07</td></tr>\n",
       "<tr><td>Dynamic_viscosity_@_t=6E12</td><td>Points</td><td>float64</td><td>1</td><td>3.192e+07</td><td>3.192e+07</td></tr>\n",
       "<tr><td>Dynamic_viscosity_@_t=7E12</td><td>Points</td><td>float64</td><td>1</td><td>3.192e+07</td><td>3.192e+07</td></tr>\n",
       "<tr><td>Dynamic_viscosity_@_t=8E12</td><td>Points</td><td>float64</td><td>1</td><td>3.191e+07</td><td>3.191e+07</td></tr>\n",
       "<tr><td>Dynamic_viscosity_@_t=9E12</td><td>Points</td><td>float64</td><td>1</td><td>3.191e+07</td><td>3.191e+07</td></tr>\n",
       "<tr><td>Fluid_density_@_t=0</td><td>Points</td><td>float64</td><td>1</td><td>7.780e+13</td><td>7.780e+13</td></tr>\n",
       "<tr><td>Fluid_density_@_t=1.1E13</td><td>Points</td><td>float64</td><td>1</td><td>7.768e+13</td><td>7.768e+13</td></tr>\n",
       "<tr><td>Fluid_density_@_t=1.2E13</td><td>Points</td><td>float64</td><td>1</td><td>7.768e+13</td><td>7.768e+13</td></tr>\n",
       "<tr><td>Fluid_density_@_t=1.3E13</td><td>Points</td><td>float64</td><td>1</td><td>7.768e+13</td><td>7.768e+13</td></tr>\n",
       "<tr><td>Fluid_density_@_t=1.4E13</td><td>Points</td><td>float64</td><td>1</td><td>7.768e+13</td><td>7.768e+13</td></tr>\n",
       "<tr><td>Fluid_density_@_t=1.5E13</td><td>Points</td><td>float64</td><td>1</td><td>7.768e+13</td><td>7.768e+13</td></tr>\n",
       "<tr><td>Fluid_density_@_t=1.6E13</td><td>Points</td><td>float64</td><td>1</td><td>7.768e+13</td><td>7.768e+13</td></tr>\n",
       "<tr><td>Fluid_density_@_t=1.7E13</td><td>Points</td><td>float64</td><td>1</td><td>7.768e+13</td><td>7.768e+13</td></tr>\n",
       "<tr><td>Fluid_density_@_t=1.8E13</td><td>Points</td><td>float64</td><td>1</td><td>7.768e+13</td><td>7.768e+13</td></tr>\n",
       "<tr><td>Fluid_density_@_t=1.9E13</td><td>Points</td><td>float64</td><td>1</td><td>7.768e+13</td><td>7.768e+13</td></tr>\n",
       "<tr><td>Fluid_density_@_t=1E12</td><td>Points</td><td>float64</td><td>1</td><td>7.779e+13</td><td>7.779e+13</td></tr>\n",
       "<tr><td>Fluid_density_@_t=1E13</td><td>Points</td><td>float64</td><td>1</td><td>7.768e+13</td><td>7.768e+13</td></tr>\n",
       "<tr><td>Fluid_density_@_t=2.1E13</td><td>Points</td><td>float64</td><td>1</td><td>7.768e+13</td><td>7.768e+13</td></tr>\n",
       "<tr><td>Fluid_density_@_t=2.2E13</td><td>Points</td><td>float64</td><td>1</td><td>7.768e+13</td><td>7.768e+13</td></tr>\n",
       "<tr><td>Fluid_density_@_t=2.3E13</td><td>Points</td><td>float64</td><td>1</td><td>7.768e+13</td><td>7.768e+13</td></tr>\n",
       "<tr><td>Fluid_density_@_t=2.4E13</td><td>Points</td><td>float64</td><td>1</td><td>7.768e+13</td><td>7.768e+13</td></tr>\n",
       "<tr><td>Fluid_density_@_t=2.5E13</td><td>Points</td><td>float64</td><td>1</td><td>7.768e+13</td><td>7.768e+13</td></tr>\n",
       "<tr><td>Fluid_density_@_t=2.6E13</td><td>Points</td><td>float64</td><td>1</td><td>7.768e+13</td><td>7.768e+13</td></tr>\n",
       "<tr><td>Fluid_density_@_t=2.7E13</td><td>Points</td><td>float64</td><td>1</td><td>7.768e+13</td><td>7.768e+13</td></tr>\n",
       "<tr><td>Fluid_density_@_t=2.8E13</td><td>Points</td><td>float64</td><td>1</td><td>7.768e+13</td><td>7.768e+13</td></tr>\n",
       "<tr><td>Fluid_density_@_t=2.9E13</td><td>Points</td><td>float64</td><td>1</td><td>7.768e+13</td><td>7.768e+13</td></tr>\n",
       "<tr><td>Fluid_density_@_t=2E12</td><td>Points</td><td>float64</td><td>1</td><td>7.778e+13</td><td>7.778e+13</td></tr>\n",
       "<tr><td>Fluid_density_@_t=2E13</td><td>Points</td><td>float64</td><td>1</td><td>7.768e+13</td><td>7.768e+13</td></tr>\n",
       "<tr><td>Fluid_density_@_t=3.1E13</td><td>Points</td><td>float64</td><td>1</td><td>7.768e+13</td><td>7.768e+13</td></tr>\n",
       "<tr><td>Fluid_density_@_t=3.2E13</td><td>Points</td><td>float64</td><td>1</td><td>7.768e+13</td><td>7.768e+13</td></tr>\n",
       "<tr><td>Fluid_density_@_t=3.3E13</td><td>Points</td><td>float64</td><td>1</td><td>7.768e+13</td><td>7.768e+13</td></tr>\n",
       "<tr><td>Fluid_density_@_t=3.4E13</td><td>Points</td><td>float64</td><td>1</td><td>7.768e+13</td><td>7.768e+13</td></tr>\n",
       "<tr><td>Fluid_density_@_t=3.5E13</td><td>Points</td><td>float64</td><td>1</td><td>7.768e+13</td><td>7.768e+13</td></tr>\n",
       "<tr><td>Fluid_density_@_t=3E12</td><td>Points</td><td>float64</td><td>1</td><td>7.773e+13</td><td>7.773e+13</td></tr>\n",
       "<tr><td>Fluid_density_@_t=3E13</td><td>Points</td><td>float64</td><td>1</td><td>7.768e+13</td><td>7.768e+13</td></tr>\n",
       "<tr><td>Fluid_density_@_t=4E12</td><td>Points</td><td>float64</td><td>1</td><td>7.770e+13</td><td>7.770e+13</td></tr>\n",
       "<tr><td>Fluid_density_@_t=5E12</td><td>Points</td><td>float64</td><td>1</td><td>7.769e+13</td><td>7.769e+13</td></tr>\n",
       "<tr><td>Fluid_density_@_t=6E12</td><td>Points</td><td>float64</td><td>1</td><td>7.769e+13</td><td>7.769e+13</td></tr>\n",
       "<tr><td>Fluid_density_@_t=7E12</td><td>Points</td><td>float64</td><td>1</td><td>7.769e+13</td><td>7.769e+13</td></tr>\n",
       "<tr><td>Fluid_density_@_t=8E12</td><td>Points</td><td>float64</td><td>1</td><td>7.768e+13</td><td>7.768e+13</td></tr>\n",
       "<tr><td>Fluid_density_@_t=9E12</td><td>Points</td><td>float64</td><td>1</td><td>7.768e+13</td><td>7.768e+13</td></tr>\n",
       "<tr><td>Permeability,_XX-component_@_t=0</td><td>Points</td><td>float64</td><td>1</td><td>8.000e-08</td><td>8.000e-08</td></tr>\n",
       "<tr><td>Permeability,_XX-component_@_t=1.1E13</td><td>Points</td><td>float64</td><td>1</td><td>8.000e-08</td><td>8.000e-08</td></tr>\n",
       "<tr><td>Permeability,_XX-component_@_t=1.2E13</td><td>Points</td><td>float64</td><td>1</td><td>8.000e-08</td><td>8.000e-08</td></tr>\n",
       "<tr><td>Permeability,_XX-component_@_t=1.3E13</td><td>Points</td><td>float64</td><td>1</td><td>8.000e-08</td><td>8.000e-08</td></tr>\n",
       "<tr><td>Permeability,_XX-component_@_t=1.4E13</td><td>Points</td><td>float64</td><td>1</td><td>8.000e-08</td><td>8.000e-08</td></tr>\n",
       "<tr><td>Permeability,_XX-component_@_t=1.5E13</td><td>Points</td><td>float64</td><td>1</td><td>8.000e-08</td><td>8.000e-08</td></tr>\n",
       "<tr><td>Permeability,_XX-component_@_t=1.6E13</td><td>Points</td><td>float64</td><td>1</td><td>8.000e-08</td><td>8.000e-08</td></tr>\n",
       "<tr><td>Permeability,_XX-component_@_t=1.7E13</td><td>Points</td><td>float64</td><td>1</td><td>8.000e-08</td><td>8.000e-08</td></tr>\n",
       "<tr><td>Permeability,_XX-component_@_t=1.8E13</td><td>Points</td><td>float64</td><td>1</td><td>8.000e-08</td><td>8.000e-08</td></tr>\n",
       "<tr><td>Permeability,_XX-component_@_t=1.9E13</td><td>Points</td><td>float64</td><td>1</td><td>8.000e-08</td><td>8.000e-08</td></tr>\n",
       "<tr><td>Permeability,_XX-component_@_t=1E12</td><td>Points</td><td>float64</td><td>1</td><td>8.000e-08</td><td>8.000e-08</td></tr>\n",
       "<tr><td>Permeability,_XX-component_@_t=1E13</td><td>Points</td><td>float64</td><td>1</td><td>8.000e-08</td><td>8.000e-08</td></tr>\n",
       "<tr><td>Permeability,_XX-component_@_t=2.1E13</td><td>Points</td><td>float64</td><td>1</td><td>8.000e-08</td><td>8.000e-08</td></tr>\n",
       "<tr><td>Permeability,_XX-component_@_t=2.2E13</td><td>Points</td><td>float64</td><td>1</td><td>8.000e-08</td><td>8.000e-08</td></tr>\n",
       "<tr><td>Permeability,_XX-component_@_t=2.3E13</td><td>Points</td><td>float64</td><td>1</td><td>8.000e-08</td><td>8.000e-08</td></tr>\n",
       "<tr><td>Permeability,_XX-component_@_t=2.4E13</td><td>Points</td><td>float64</td><td>1</td><td>8.000e-08</td><td>8.000e-08</td></tr>\n",
       "<tr><td>Permeability,_XX-component_@_t=2.5E13</td><td>Points</td><td>float64</td><td>1</td><td>8.000e-08</td><td>8.000e-08</td></tr>\n",
       "<tr><td>Permeability,_XX-component_@_t=2.6E13</td><td>Points</td><td>float64</td><td>1</td><td>8.000e-08</td><td>8.000e-08</td></tr>\n",
       "<tr><td>Permeability,_XX-component_@_t=2.7E13</td><td>Points</td><td>float64</td><td>1</td><td>8.000e-08</td><td>8.000e-08</td></tr>\n",
       "<tr><td>Permeability,_XX-component_@_t=2.8E13</td><td>Points</td><td>float64</td><td>1</td><td>8.000e-08</td><td>8.000e-08</td></tr>\n",
       "<tr><td>Permeability,_XX-component_@_t=2.9E13</td><td>Points</td><td>float64</td><td>1</td><td>8.000e-08</td><td>8.000e-08</td></tr>\n",
       "<tr><td>Permeability,_XX-component_@_t=2E12</td><td>Points</td><td>float64</td><td>1</td><td>8.000e-08</td><td>8.000e-08</td></tr>\n",
       "<tr><td>Permeability,_XX-component_@_t=2E13</td><td>Points</td><td>float64</td><td>1</td><td>8.000e-08</td><td>8.000e-08</td></tr>\n",
       "<tr><td>Permeability,_XX-component_@_t=3.1E13</td><td>Points</td><td>float64</td><td>1</td><td>8.000e-08</td><td>8.000e-08</td></tr>\n",
       "<tr><td>Permeability,_XX-component_@_t=3.2E13</td><td>Points</td><td>float64</td><td>1</td><td>8.000e-08</td><td>8.000e-08</td></tr>\n",
       "<tr><td>Permeability,_XX-component_@_t=3.3E13</td><td>Points</td><td>float64</td><td>1</td><td>8.000e-08</td><td>8.000e-08</td></tr>\n",
       "<tr><td>Permeability,_XX-component_@_t=3.4E13</td><td>Points</td><td>float64</td><td>1</td><td>8.000e-08</td><td>8.000e-08</td></tr>\n",
       "<tr><td>Permeability,_XX-component_@_t=3.5E13</td><td>Points</td><td>float64</td><td>1</td><td>8.000e-08</td><td>8.000e-08</td></tr>\n",
       "<tr><td>Permeability,_XX-component_@_t=3E12</td><td>Points</td><td>float64</td><td>1</td><td>8.000e-08</td><td>8.000e-08</td></tr>\n",
       "<tr><td>Permeability,_XX-component_@_t=3E13</td><td>Points</td><td>float64</td><td>1</td><td>8.000e-08</td><td>8.000e-08</td></tr>\n",
       "<tr><td>Permeability,_XX-component_@_t=4E12</td><td>Points</td><td>float64</td><td>1</td><td>8.000e-08</td><td>8.000e-08</td></tr>\n",
       "<tr><td>Permeability,_XX-component_@_t=5E12</td><td>Points</td><td>float64</td><td>1</td><td>8.000e-08</td><td>8.000e-08</td></tr>\n",
       "<tr><td>Permeability,_XX-component_@_t=6E12</td><td>Points</td><td>float64</td><td>1</td><td>8.000e-08</td><td>8.000e-08</td></tr>\n",
       "<tr><td>Permeability,_XX-component_@_t=7E12</td><td>Points</td><td>float64</td><td>1</td><td>8.000e-08</td><td>8.000e-08</td></tr>\n",
       "<tr><td>Permeability,_XX-component_@_t=8E12</td><td>Points</td><td>float64</td><td>1</td><td>8.000e-08</td><td>8.000e-08</td></tr>\n",
       "<tr><td>Permeability,_XX-component_@_t=9E12</td><td>Points</td><td>float64</td><td>1</td><td>8.000e-08</td><td>8.000e-08</td></tr>\n",
       "<tr><td>Permeability,_XY-component_@_t=0</td><td>Points</td><td>float64</td><td>1</td><td>0.000e+00</td><td>0.000e+00</td></tr>\n",
       "<tr><td>Permeability,_XY-component_@_t=1.1E13</td><td>Points</td><td>float64</td><td>1</td><td>0.000e+00</td><td>0.000e+00</td></tr>\n",
       "<tr><td>Permeability,_XY-component_@_t=1.2E13</td><td>Points</td><td>float64</td><td>1</td><td>0.000e+00</td><td>0.000e+00</td></tr>\n",
       "<tr><td>Permeability,_XY-component_@_t=1.3E13</td><td>Points</td><td>float64</td><td>1</td><td>0.000e+00</td><td>0.000e+00</td></tr>\n",
       "<tr><td>Permeability,_XY-component_@_t=1.4E13</td><td>Points</td><td>float64</td><td>1</td><td>0.000e+00</td><td>0.000e+00</td></tr>\n",
       "<tr><td>Permeability,_XY-component_@_t=1.5E13</td><td>Points</td><td>float64</td><td>1</td><td>0.000e+00</td><td>0.000e+00</td></tr>\n",
       "<tr><td>Permeability,_XY-component_@_t=1.6E13</td><td>Points</td><td>float64</td><td>1</td><td>0.000e+00</td><td>0.000e+00</td></tr>\n",
       "<tr><td>Permeability,_XY-component_@_t=1.7E13</td><td>Points</td><td>float64</td><td>1</td><td>0.000e+00</td><td>0.000e+00</td></tr>\n",
       "<tr><td>Permeability,_XY-component_@_t=1.8E13</td><td>Points</td><td>float64</td><td>1</td><td>0.000e+00</td><td>0.000e+00</td></tr>\n",
       "<tr><td>Permeability,_XY-component_@_t=1.9E13</td><td>Points</td><td>float64</td><td>1</td><td>0.000e+00</td><td>0.000e+00</td></tr>\n",
       "<tr><td>Permeability,_XY-component_@_t=1E12</td><td>Points</td><td>float64</td><td>1</td><td>0.000e+00</td><td>0.000e+00</td></tr>\n",
       "<tr><td>Permeability,_XY-component_@_t=1E13</td><td>Points</td><td>float64</td><td>1</td><td>0.000e+00</td><td>0.000e+00</td></tr>\n",
       "<tr><td>Permeability,_XY-component_@_t=2.1E13</td><td>Points</td><td>float64</td><td>1</td><td>0.000e+00</td><td>0.000e+00</td></tr>\n",
       "<tr><td>Permeability,_XY-component_@_t=2.2E13</td><td>Points</td><td>float64</td><td>1</td><td>0.000e+00</td><td>0.000e+00</td></tr>\n",
       "<tr><td>Permeability,_XY-component_@_t=2.3E13</td><td>Points</td><td>float64</td><td>1</td><td>0.000e+00</td><td>0.000e+00</td></tr>\n",
       "<tr><td>Permeability,_XY-component_@_t=2.4E13</td><td>Points</td><td>float64</td><td>1</td><td>0.000e+00</td><td>0.000e+00</td></tr>\n",
       "<tr><td>Permeability,_XY-component_@_t=2.5E13</td><td>Points</td><td>float64</td><td>1</td><td>0.000e+00</td><td>0.000e+00</td></tr>\n",
       "<tr><td>Permeability,_XY-component_@_t=2.6E13</td><td>Points</td><td>float64</td><td>1</td><td>0.000e+00</td><td>0.000e+00</td></tr>\n",
       "<tr><td>Permeability,_XY-component_@_t=2.7E13</td><td>Points</td><td>float64</td><td>1</td><td>0.000e+00</td><td>0.000e+00</td></tr>\n",
       "<tr><td>Permeability,_XY-component_@_t=2.8E13</td><td>Points</td><td>float64</td><td>1</td><td>0.000e+00</td><td>0.000e+00</td></tr>\n",
       "<tr><td>Permeability,_XY-component_@_t=2.9E13</td><td>Points</td><td>float64</td><td>1</td><td>0.000e+00</td><td>0.000e+00</td></tr>\n",
       "<tr><td>Permeability,_XY-component_@_t=2E12</td><td>Points</td><td>float64</td><td>1</td><td>0.000e+00</td><td>0.000e+00</td></tr>\n",
       "<tr><td>Permeability,_XY-component_@_t=2E13</td><td>Points</td><td>float64</td><td>1</td><td>0.000e+00</td><td>0.000e+00</td></tr>\n",
       "<tr><td>Permeability,_XY-component_@_t=3.1E13</td><td>Points</td><td>float64</td><td>1</td><td>0.000e+00</td><td>0.000e+00</td></tr>\n",
       "<tr><td>Permeability,_XY-component_@_t=3.2E13</td><td>Points</td><td>float64</td><td>1</td><td>0.000e+00</td><td>0.000e+00</td></tr>\n",
       "<tr><td>Permeability,_XY-component_@_t=3.3E13</td><td>Points</td><td>float64</td><td>1</td><td>0.000e+00</td><td>0.000e+00</td></tr>\n",
       "<tr><td>Permeability,_XY-component_@_t=3.4E13</td><td>Points</td><td>float64</td><td>1</td><td>0.000e+00</td><td>0.000e+00</td></tr>\n",
       "<tr><td>Permeability,_XY-component_@_t=3.5E13</td><td>Points</td><td>float64</td><td>1</td><td>0.000e+00</td><td>0.000e+00</td></tr>\n",
       "<tr><td>Permeability,_XY-component_@_t=3E12</td><td>Points</td><td>float64</td><td>1</td><td>0.000e+00</td><td>0.000e+00</td></tr>\n",
       "<tr><td>Permeability,_XY-component_@_t=3E13</td><td>Points</td><td>float64</td><td>1</td><td>0.000e+00</td><td>0.000e+00</td></tr>\n",
       "<tr><td>Permeability,_XY-component_@_t=4E12</td><td>Points</td><td>float64</td><td>1</td><td>0.000e+00</td><td>0.000e+00</td></tr>\n",
       "<tr><td>Permeability,_XY-component_@_t=5E12</td><td>Points</td><td>float64</td><td>1</td><td>0.000e+00</td><td>0.000e+00</td></tr>\n",
       "<tr><td>Permeability,_XY-component_@_t=6E12</td><td>Points</td><td>float64</td><td>1</td><td>0.000e+00</td><td>0.000e+00</td></tr>\n",
       "<tr><td>Permeability,_XY-component_@_t=7E12</td><td>Points</td><td>float64</td><td>1</td><td>0.000e+00</td><td>0.000e+00</td></tr>\n",
       "<tr><td>Permeability,_XY-component_@_t=8E12</td><td>Points</td><td>float64</td><td>1</td><td>0.000e+00</td><td>0.000e+00</td></tr>\n",
       "<tr><td>Permeability,_XY-component_@_t=9E12</td><td>Points</td><td>float64</td><td>1</td><td>0.000e+00</td><td>0.000e+00</td></tr>\n",
       "<tr><td>Permeability,_XZ-component_@_t=0</td><td>Points</td><td>float64</td><td>1</td><td>0.000e+00</td><td>0.000e+00</td></tr>\n",
       "<tr><td>Permeability,_XZ-component_@_t=1.1E13</td><td>Points</td><td>float64</td><td>1</td><td>0.000e+00</td><td>0.000e+00</td></tr>\n",
       "<tr><td>Permeability,_XZ-component_@_t=1.2E13</td><td>Points</td><td>float64</td><td>1</td><td>0.000e+00</td><td>0.000e+00</td></tr>\n",
       "<tr><td>Permeability,_XZ-component_@_t=1.3E13</td><td>Points</td><td>float64</td><td>1</td><td>0.000e+00</td><td>0.000e+00</td></tr>\n",
       "<tr><td>Permeability,_XZ-component_@_t=1.4E13</td><td>Points</td><td>float64</td><td>1</td><td>0.000e+00</td><td>0.000e+00</td></tr>\n",
       "<tr><td>Permeability,_XZ-component_@_t=1.5E13</td><td>Points</td><td>float64</td><td>1</td><td>0.000e+00</td><td>0.000e+00</td></tr>\n",
       "<tr><td>Permeability,_XZ-component_@_t=1.6E13</td><td>Points</td><td>float64</td><td>1</td><td>0.000e+00</td><td>0.000e+00</td></tr>\n",
       "<tr><td>Permeability,_XZ-component_@_t=1.7E13</td><td>Points</td><td>float64</td><td>1</td><td>0.000e+00</td><td>0.000e+00</td></tr>\n",
       "<tr><td>Permeability,_XZ-component_@_t=1.8E13</td><td>Points</td><td>float64</td><td>1</td><td>0.000e+00</td><td>0.000e+00</td></tr>\n",
       "<tr><td>Permeability,_XZ-component_@_t=1.9E13</td><td>Points</td><td>float64</td><td>1</td><td>0.000e+00</td><td>0.000e+00</td></tr>\n",
       "<tr><td>Permeability,_XZ-component_@_t=1E12</td><td>Points</td><td>float64</td><td>1</td><td>0.000e+00</td><td>0.000e+00</td></tr>\n",
       "<tr><td>Permeability,_XZ-component_@_t=1E13</td><td>Points</td><td>float64</td><td>1</td><td>0.000e+00</td><td>0.000e+00</td></tr>\n",
       "<tr><td>Permeability,_XZ-component_@_t=2.1E13</td><td>Points</td><td>float64</td><td>1</td><td>0.000e+00</td><td>0.000e+00</td></tr>\n",
       "<tr><td>Permeability,_XZ-component_@_t=2.2E13</td><td>Points</td><td>float64</td><td>1</td><td>0.000e+00</td><td>0.000e+00</td></tr>\n",
       "<tr><td>Permeability,_XZ-component_@_t=2.3E13</td><td>Points</td><td>float64</td><td>1</td><td>0.000e+00</td><td>0.000e+00</td></tr>\n",
       "<tr><td>Permeability,_XZ-component_@_t=2.4E13</td><td>Points</td><td>float64</td><td>1</td><td>0.000e+00</td><td>0.000e+00</td></tr>\n",
       "<tr><td>Permeability,_XZ-component_@_t=2.5E13</td><td>Points</td><td>float64</td><td>1</td><td>0.000e+00</td><td>0.000e+00</td></tr>\n",
       "<tr><td>Permeability,_XZ-component_@_t=2.6E13</td><td>Points</td><td>float64</td><td>1</td><td>0.000e+00</td><td>0.000e+00</td></tr>\n",
       "<tr><td>Permeability,_XZ-component_@_t=2.7E13</td><td>Points</td><td>float64</td><td>1</td><td>0.000e+00</td><td>0.000e+00</td></tr>\n",
       "<tr><td>Permeability,_XZ-component_@_t=2.8E13</td><td>Points</td><td>float64</td><td>1</td><td>0.000e+00</td><td>0.000e+00</td></tr>\n",
       "<tr><td>Permeability,_XZ-component_@_t=2.9E13</td><td>Points</td><td>float64</td><td>1</td><td>0.000e+00</td><td>0.000e+00</td></tr>\n",
       "<tr><td>Permeability,_XZ-component_@_t=2E12</td><td>Points</td><td>float64</td><td>1</td><td>0.000e+00</td><td>0.000e+00</td></tr>\n",
       "<tr><td>Permeability,_XZ-component_@_t=2E13</td><td>Points</td><td>float64</td><td>1</td><td>0.000e+00</td><td>0.000e+00</td></tr>\n",
       "<tr><td>Permeability,_XZ-component_@_t=3.1E13</td><td>Points</td><td>float64</td><td>1</td><td>0.000e+00</td><td>0.000e+00</td></tr>\n",
       "<tr><td>Permeability,_XZ-component_@_t=3.2E13</td><td>Points</td><td>float64</td><td>1</td><td>0.000e+00</td><td>0.000e+00</td></tr>\n",
       "<tr><td>Permeability,_XZ-component_@_t=3.3E13</td><td>Points</td><td>float64</td><td>1</td><td>0.000e+00</td><td>0.000e+00</td></tr>\n",
       "<tr><td>Permeability,_XZ-component_@_t=3.4E13</td><td>Points</td><td>float64</td><td>1</td><td>0.000e+00</td><td>0.000e+00</td></tr>\n",
       "<tr><td>Permeability,_XZ-component_@_t=3.5E13</td><td>Points</td><td>float64</td><td>1</td><td>0.000e+00</td><td>0.000e+00</td></tr>\n",
       "<tr><td>Permeability,_XZ-component_@_t=3E12</td><td>Points</td><td>float64</td><td>1</td><td>0.000e+00</td><td>0.000e+00</td></tr>\n",
       "<tr><td>Permeability,_XZ-component_@_t=3E13</td><td>Points</td><td>float64</td><td>1</td><td>0.000e+00</td><td>0.000e+00</td></tr>\n",
       "<tr><td>Permeability,_XZ-component_@_t=4E12</td><td>Points</td><td>float64</td><td>1</td><td>0.000e+00</td><td>0.000e+00</td></tr>\n",
       "<tr><td>Permeability,_XZ-component_@_t=5E12</td><td>Points</td><td>float64</td><td>1</td><td>0.000e+00</td><td>0.000e+00</td></tr>\n",
       "<tr><td>Permeability,_XZ-component_@_t=6E12</td><td>Points</td><td>float64</td><td>1</td><td>0.000e+00</td><td>0.000e+00</td></tr>\n",
       "<tr><td>Permeability,_XZ-component_@_t=7E12</td><td>Points</td><td>float64</td><td>1</td><td>0.000e+00</td><td>0.000e+00</td></tr>\n",
       "<tr><td>Permeability,_XZ-component_@_t=8E12</td><td>Points</td><td>float64</td><td>1</td><td>0.000e+00</td><td>0.000e+00</td></tr>\n",
       "<tr><td>Permeability,_XZ-component_@_t=9E12</td><td>Points</td><td>float64</td><td>1</td><td>0.000e+00</td><td>0.000e+00</td></tr>\n",
       "<tr><td>Permeability,_YY-component_@_t=0</td><td>Points</td><td>float64</td><td>1</td><td>8.000e-08</td><td>8.000e-08</td></tr>\n",
       "<tr><td>Permeability,_YY-component_@_t=1.1E13</td><td>Points</td><td>float64</td><td>1</td><td>8.000e-08</td><td>8.000e-08</td></tr>\n",
       "<tr><td>Permeability,_YY-component_@_t=1.2E13</td><td>Points</td><td>float64</td><td>1</td><td>8.000e-08</td><td>8.000e-08</td></tr>\n",
       "<tr><td>Permeability,_YY-component_@_t=1.3E13</td><td>Points</td><td>float64</td><td>1</td><td>8.000e-08</td><td>8.000e-08</td></tr>\n",
       "<tr><td>Permeability,_YY-component_@_t=1.4E13</td><td>Points</td><td>float64</td><td>1</td><td>8.000e-08</td><td>8.000e-08</td></tr>\n",
       "<tr><td>Permeability,_YY-component_@_t=1.5E13</td><td>Points</td><td>float64</td><td>1</td><td>8.000e-08</td><td>8.000e-08</td></tr>\n",
       "<tr><td>Permeability,_YY-component_@_t=1.6E13</td><td>Points</td><td>float64</td><td>1</td><td>8.000e-08</td><td>8.000e-08</td></tr>\n",
       "<tr><td>Permeability,_YY-component_@_t=1.7E13</td><td>Points</td><td>float64</td><td>1</td><td>8.000e-08</td><td>8.000e-08</td></tr>\n",
       "<tr><td>Permeability,_YY-component_@_t=1.8E13</td><td>Points</td><td>float64</td><td>1</td><td>8.000e-08</td><td>8.000e-08</td></tr>\n",
       "<tr><td>Permeability,_YY-component_@_t=1.9E13</td><td>Points</td><td>float64</td><td>1</td><td>8.000e-08</td><td>8.000e-08</td></tr>\n",
       "<tr><td>Permeability,_YY-component_@_t=1E12</td><td>Points</td><td>float64</td><td>1</td><td>8.000e-08</td><td>8.000e-08</td></tr>\n",
       "<tr><td>Permeability,_YY-component_@_t=1E13</td><td>Points</td><td>float64</td><td>1</td><td>8.000e-08</td><td>8.000e-08</td></tr>\n",
       "<tr><td>Permeability,_YY-component_@_t=2.1E13</td><td>Points</td><td>float64</td><td>1</td><td>8.000e-08</td><td>8.000e-08</td></tr>\n",
       "<tr><td>Permeability,_YY-component_@_t=2.2E13</td><td>Points</td><td>float64</td><td>1</td><td>8.000e-08</td><td>8.000e-08</td></tr>\n",
       "<tr><td>Permeability,_YY-component_@_t=2.3E13</td><td>Points</td><td>float64</td><td>1</td><td>8.000e-08</td><td>8.000e-08</td></tr>\n",
       "<tr><td>Permeability,_YY-component_@_t=2.4E13</td><td>Points</td><td>float64</td><td>1</td><td>8.000e-08</td><td>8.000e-08</td></tr>\n",
       "<tr><td>Permeability,_YY-component_@_t=2.5E13</td><td>Points</td><td>float64</td><td>1</td><td>8.000e-08</td><td>8.000e-08</td></tr>\n",
       "<tr><td>Permeability,_YY-component_@_t=2.6E13</td><td>Points</td><td>float64</td><td>1</td><td>8.000e-08</td><td>8.000e-08</td></tr>\n",
       "<tr><td>Permeability,_YY-component_@_t=2.7E13</td><td>Points</td><td>float64</td><td>1</td><td>8.000e-08</td><td>8.000e-08</td></tr>\n",
       "<tr><td>Permeability,_YY-component_@_t=2.8E13</td><td>Points</td><td>float64</td><td>1</td><td>8.000e-08</td><td>8.000e-08</td></tr>\n",
       "<tr><td>Permeability,_YY-component_@_t=2.9E13</td><td>Points</td><td>float64</td><td>1</td><td>8.000e-08</td><td>8.000e-08</td></tr>\n",
       "<tr><td>Permeability,_YY-component_@_t=2E12</td><td>Points</td><td>float64</td><td>1</td><td>8.000e-08</td><td>8.000e-08</td></tr>\n",
       "<tr><td>Permeability,_YY-component_@_t=2E13</td><td>Points</td><td>float64</td><td>1</td><td>8.000e-08</td><td>8.000e-08</td></tr>\n",
       "<tr><td>Permeability,_YY-component_@_t=3.1E13</td><td>Points</td><td>float64</td><td>1</td><td>8.000e-08</td><td>8.000e-08</td></tr>\n",
       "<tr><td>Permeability,_YY-component_@_t=3.2E13</td><td>Points</td><td>float64</td><td>1</td><td>8.000e-08</td><td>8.000e-08</td></tr>\n",
       "<tr><td>Permeability,_YY-component_@_t=3.3E13</td><td>Points</td><td>float64</td><td>1</td><td>8.000e-08</td><td>8.000e-08</td></tr>\n",
       "<tr><td>Permeability,_YY-component_@_t=3.4E13</td><td>Points</td><td>float64</td><td>1</td><td>8.000e-08</td><td>8.000e-08</td></tr>\n",
       "<tr><td>Permeability,_YY-component_@_t=3.5E13</td><td>Points</td><td>float64</td><td>1</td><td>8.000e-08</td><td>8.000e-08</td></tr>\n",
       "<tr><td>Permeability,_YY-component_@_t=3E12</td><td>Points</td><td>float64</td><td>1</td><td>8.000e-08</td><td>8.000e-08</td></tr>\n",
       "<tr><td>Permeability,_YY-component_@_t=3E13</td><td>Points</td><td>float64</td><td>1</td><td>8.000e-08</td><td>8.000e-08</td></tr>\n",
       "<tr><td>Permeability,_YY-component_@_t=4E12</td><td>Points</td><td>float64</td><td>1</td><td>8.000e-08</td><td>8.000e-08</td></tr>\n",
       "<tr><td>Permeability,_YY-component_@_t=5E12</td><td>Points</td><td>float64</td><td>1</td><td>8.000e-08</td><td>8.000e-08</td></tr>\n",
       "<tr><td>Permeability,_YY-component_@_t=6E12</td><td>Points</td><td>float64</td><td>1</td><td>8.000e-08</td><td>8.000e-08</td></tr>\n",
       "<tr><td>Permeability,_YY-component_@_t=7E12</td><td>Points</td><td>float64</td><td>1</td><td>8.000e-08</td><td>8.000e-08</td></tr>\n",
       "<tr><td>Permeability,_YY-component_@_t=8E12</td><td>Points</td><td>float64</td><td>1</td><td>8.000e-08</td><td>8.000e-08</td></tr>\n",
       "<tr><td>Permeability,_YY-component_@_t=9E12</td><td>Points</td><td>float64</td><td>1</td><td>8.000e-08</td><td>8.000e-08</td></tr>\n",
       "<tr><td>Permeability,_ZZ-component_@_t=0</td><td>Points</td><td>float64</td><td>1</td><td>8.000e-08</td><td>8.000e-08</td></tr>\n",
       "<tr><td>Permeability,_ZZ-component_@_t=1.1E13</td><td>Points</td><td>float64</td><td>1</td><td>8.000e-08</td><td>8.000e-08</td></tr>\n",
       "<tr><td>Permeability,_ZZ-component_@_t=1.2E13</td><td>Points</td><td>float64</td><td>1</td><td>8.000e-08</td><td>8.000e-08</td></tr>\n",
       "<tr><td>Permeability,_ZZ-component_@_t=1.3E13</td><td>Points</td><td>float64</td><td>1</td><td>8.000e-08</td><td>8.000e-08</td></tr>\n",
       "<tr><td>Permeability,_ZZ-component_@_t=1.4E13</td><td>Points</td><td>float64</td><td>1</td><td>8.000e-08</td><td>8.000e-08</td></tr>\n",
       "<tr><td>Permeability,_ZZ-component_@_t=1.5E13</td><td>Points</td><td>float64</td><td>1</td><td>8.000e-08</td><td>8.000e-08</td></tr>\n",
       "<tr><td>Permeability,_ZZ-component_@_t=1.6E13</td><td>Points</td><td>float64</td><td>1</td><td>8.000e-08</td><td>8.000e-08</td></tr>\n",
       "<tr><td>Permeability,_ZZ-component_@_t=1.7E13</td><td>Points</td><td>float64</td><td>1</td><td>8.000e-08</td><td>8.000e-08</td></tr>\n",
       "<tr><td>Permeability,_ZZ-component_@_t=1.8E13</td><td>Points</td><td>float64</td><td>1</td><td>8.000e-08</td><td>8.000e-08</td></tr>\n",
       "<tr><td>Permeability,_ZZ-component_@_t=1.9E13</td><td>Points</td><td>float64</td><td>1</td><td>8.000e-08</td><td>8.000e-08</td></tr>\n",
       "<tr><td>Permeability,_ZZ-component_@_t=1E12</td><td>Points</td><td>float64</td><td>1</td><td>8.000e-08</td><td>8.000e-08</td></tr>\n",
       "<tr><td>Permeability,_ZZ-component_@_t=1E13</td><td>Points</td><td>float64</td><td>1</td><td>8.000e-08</td><td>8.000e-08</td></tr>\n",
       "<tr><td>Permeability,_ZZ-component_@_t=2.1E13</td><td>Points</td><td>float64</td><td>1</td><td>8.000e-08</td><td>8.000e-08</td></tr>\n",
       "<tr><td>Permeability,_ZZ-component_@_t=2.2E13</td><td>Points</td><td>float64</td><td>1</td><td>8.000e-08</td><td>8.000e-08</td></tr>\n",
       "<tr><td>Permeability,_ZZ-component_@_t=2.3E13</td><td>Points</td><td>float64</td><td>1</td><td>8.000e-08</td><td>8.000e-08</td></tr>\n",
       "<tr><td>Permeability,_ZZ-component_@_t=2.4E13</td><td>Points</td><td>float64</td><td>1</td><td>8.000e-08</td><td>8.000e-08</td></tr>\n",
       "<tr><td>Permeability,_ZZ-component_@_t=2.5E13</td><td>Points</td><td>float64</td><td>1</td><td>8.000e-08</td><td>8.000e-08</td></tr>\n",
       "<tr><td>Permeability,_ZZ-component_@_t=2.6E13</td><td>Points</td><td>float64</td><td>1</td><td>8.000e-08</td><td>8.000e-08</td></tr>\n",
       "<tr><td>Permeability,_ZZ-component_@_t=2.7E13</td><td>Points</td><td>float64</td><td>1</td><td>8.000e-08</td><td>8.000e-08</td></tr>\n",
       "<tr><td>Permeability,_ZZ-component_@_t=2.8E13</td><td>Points</td><td>float64</td><td>1</td><td>8.000e-08</td><td>8.000e-08</td></tr>\n",
       "<tr><td>Permeability,_ZZ-component_@_t=2.9E13</td><td>Points</td><td>float64</td><td>1</td><td>8.000e-08</td><td>8.000e-08</td></tr>\n",
       "<tr><td>Permeability,_ZZ-component_@_t=2E12</td><td>Points</td><td>float64</td><td>1</td><td>8.000e-08</td><td>8.000e-08</td></tr>\n",
       "<tr><td>Permeability,_ZZ-component_@_t=2E13</td><td>Points</td><td>float64</td><td>1</td><td>8.000e-08</td><td>8.000e-08</td></tr>\n",
       "<tr><td>Permeability,_ZZ-component_@_t=3.1E13</td><td>Points</td><td>float64</td><td>1</td><td>8.000e-08</td><td>8.000e-08</td></tr>\n",
       "<tr><td>Permeability,_ZZ-component_@_t=3.2E13</td><td>Points</td><td>float64</td><td>1</td><td>8.000e-08</td><td>8.000e-08</td></tr>\n",
       "<tr><td>Permeability,_ZZ-component_@_t=3.3E13</td><td>Points</td><td>float64</td><td>1</td><td>8.000e-08</td><td>8.000e-08</td></tr>\n",
       "<tr><td>Permeability,_ZZ-component_@_t=3.4E13</td><td>Points</td><td>float64</td><td>1</td><td>8.000e-08</td><td>8.000e-08</td></tr>\n",
       "<tr><td>Permeability,_ZZ-component_@_t=3.5E13</td><td>Points</td><td>float64</td><td>1</td><td>8.000e-08</td><td>8.000e-08</td></tr>\n",
       "<tr><td>Permeability,_ZZ-component_@_t=3E12</td><td>Points</td><td>float64</td><td>1</td><td>8.000e-08</td><td>8.000e-08</td></tr>\n",
       "<tr><td>Permeability,_ZZ-component_@_t=3E13</td><td>Points</td><td>float64</td><td>1</td><td>8.000e-08</td><td>8.000e-08</td></tr>\n",
       "<tr><td>Permeability,_ZZ-component_@_t=4E12</td><td>Points</td><td>float64</td><td>1</td><td>8.000e-08</td><td>8.000e-08</td></tr>\n",
       "<tr><td>Permeability,_ZZ-component_@_t=5E12</td><td>Points</td><td>float64</td><td>1</td><td>8.000e-08</td><td>8.000e-08</td></tr>\n",
       "<tr><td>Permeability,_ZZ-component_@_t=6E12</td><td>Points</td><td>float64</td><td>1</td><td>8.000e-08</td><td>8.000e-08</td></tr>\n",
       "<tr><td>Permeability,_ZZ-component_@_t=7E12</td><td>Points</td><td>float64</td><td>1</td><td>8.000e-08</td><td>8.000e-08</td></tr>\n",
       "<tr><td>Permeability,_ZZ-component_@_t=8E12</td><td>Points</td><td>float64</td><td>1</td><td>8.000e-08</td><td>8.000e-08</td></tr>\n",
       "<tr><td>Permeability,_ZZ-component_@_t=9E12</td><td>Points</td><td>float64</td><td>1</td><td>8.000e-08</td><td>8.000e-08</td></tr>\n",
       "<tr><td>Pressure_@_t=0</td><td>Points</td><td>float64</td><td>1</td><td>1.568e+18</td><td>1.568e+18</td></tr>\n",
       "<tr><td>Pressure_@_t=1.1E13</td><td>Points</td><td>float64</td><td>1</td><td>1.542e+18</td><td>1.542e+18</td></tr>\n",
       "<tr><td>Pressure_@_t=1.2E13</td><td>Points</td><td>float64</td><td>1</td><td>1.542e+18</td><td>1.542e+18</td></tr>\n",
       "<tr><td>Pressure_@_t=1.3E13</td><td>Points</td><td>float64</td><td>1</td><td>1.542e+18</td><td>1.542e+18</td></tr>\n",
       "<tr><td>Pressure_@_t=1.4E13</td><td>Points</td><td>float64</td><td>1</td><td>1.542e+18</td><td>1.542e+18</td></tr>\n",
       "<tr><td>Pressure_@_t=1.5E13</td><td>Points</td><td>float64</td><td>1</td><td>1.542e+18</td><td>1.542e+18</td></tr>\n",
       "<tr><td>Pressure_@_t=1.6E13</td><td>Points</td><td>float64</td><td>1</td><td>1.542e+18</td><td>1.542e+18</td></tr>\n",
       "<tr><td>Pressure_@_t=1.7E13</td><td>Points</td><td>float64</td><td>1</td><td>1.542e+18</td><td>1.542e+18</td></tr>\n",
       "<tr><td>Pressure_@_t=1.8E13</td><td>Points</td><td>float64</td><td>1</td><td>1.542e+18</td><td>1.542e+18</td></tr>\n",
       "<tr><td>Pressure_@_t=1.9E13</td><td>Points</td><td>float64</td><td>1</td><td>1.542e+18</td><td>1.542e+18</td></tr>\n",
       "<tr><td>Pressure_@_t=1E12</td><td>Points</td><td>float64</td><td>1</td><td>1.547e+18</td><td>1.547e+18</td></tr>\n",
       "<tr><td>Pressure_@_t=1E13</td><td>Points</td><td>float64</td><td>1</td><td>1.543e+18</td><td>1.543e+18</td></tr>\n",
       "<tr><td>Pressure_@_t=2.1E13</td><td>Points</td><td>float64</td><td>1</td><td>1.542e+18</td><td>1.542e+18</td></tr>\n",
       "<tr><td>Pressure_@_t=2.2E13</td><td>Points</td><td>float64</td><td>1</td><td>1.542e+18</td><td>1.542e+18</td></tr>\n",
       "<tr><td>Pressure_@_t=2.3E13</td><td>Points</td><td>float64</td><td>1</td><td>1.542e+18</td><td>1.542e+18</td></tr>\n",
       "<tr><td>Pressure_@_t=2.4E13</td><td>Points</td><td>float64</td><td>1</td><td>1.542e+18</td><td>1.542e+18</td></tr>\n",
       "<tr><td>Pressure_@_t=2.5E13</td><td>Points</td><td>float64</td><td>1</td><td>1.542e+18</td><td>1.542e+18</td></tr>\n",
       "<tr><td>Pressure_@_t=2.6E13</td><td>Points</td><td>float64</td><td>1</td><td>1.542e+18</td><td>1.542e+18</td></tr>\n",
       "<tr><td>Pressure_@_t=2.7E13</td><td>Points</td><td>float64</td><td>1</td><td>1.542e+18</td><td>1.542e+18</td></tr>\n",
       "<tr><td>Pressure_@_t=2.8E13</td><td>Points</td><td>float64</td><td>1</td><td>1.542e+18</td><td>1.542e+18</td></tr>\n",
       "<tr><td>Pressure_@_t=2.9E13</td><td>Points</td><td>float64</td><td>1</td><td>1.542e+18</td><td>1.542e+18</td></tr>\n",
       "<tr><td>Pressure_@_t=2E12</td><td>Points</td><td>float64</td><td>1</td><td>1.602e+18</td><td>1.602e+18</td></tr>\n",
       "<tr><td>Pressure_@_t=2E13</td><td>Points</td><td>float64</td><td>1</td><td>1.542e+18</td><td>1.542e+18</td></tr>\n",
       "<tr><td>Pressure_@_t=3.1E13</td><td>Points</td><td>float64</td><td>1</td><td>1.542e+18</td><td>1.542e+18</td></tr>\n",
       "<tr><td>Pressure_@_t=3.2E13</td><td>Points</td><td>float64</td><td>1</td><td>1.542e+18</td><td>1.542e+18</td></tr>\n",
       "<tr><td>Pressure_@_t=3.3E13</td><td>Points</td><td>float64</td><td>1</td><td>1.542e+18</td><td>1.542e+18</td></tr>\n",
       "<tr><td>Pressure_@_t=3.4E13</td><td>Points</td><td>float64</td><td>1</td><td>1.542e+18</td><td>1.542e+18</td></tr>\n",
       "<tr><td>Pressure_@_t=3.5E13</td><td>Points</td><td>float64</td><td>1</td><td>1.542e+18</td><td>1.542e+18</td></tr>\n",
       "<tr><td>Pressure_@_t=3E12</td><td>Points</td><td>float64</td><td>1</td><td>1.585e+18</td><td>1.585e+18</td></tr>\n",
       "<tr><td>Pressure_@_t=3E13</td><td>Points</td><td>float64</td><td>1</td><td>1.542e+18</td><td>1.542e+18</td></tr>\n",
       "<tr><td>Pressure_@_t=4E12</td><td>Points</td><td>float64</td><td>1</td><td>1.559e+18</td><td>1.559e+18</td></tr>\n",
       "<tr><td>Pressure_@_t=5E12</td><td>Points</td><td>float64</td><td>1</td><td>1.548e+18</td><td>1.548e+18</td></tr>\n",
       "<tr><td>Pressure_@_t=6E12</td><td>Points</td><td>float64</td><td>1</td><td>1.544e+18</td><td>1.544e+18</td></tr>\n",
       "<tr><td>Pressure_@_t=7E12</td><td>Points</td><td>float64</td><td>1</td><td>1.543e+18</td><td>1.543e+18</td></tr>\n",
       "<tr><td>Pressure_@_t=8E12</td><td>Points</td><td>float64</td><td>1</td><td>1.543e+18</td><td>1.543e+18</td></tr>\n",
       "<tr><td>Pressure_@_t=9E12</td><td>Points</td><td>float64</td><td>1</td><td>1.543e+18</td><td>1.543e+18</td></tr>\n",
       "<tr><td>Temperature_@_t=0</td><td>Points</td><td>float64</td><td>1</td><td>2.885e+13</td><td>2.885e+13</td></tr>\n",
       "<tr><td>Temperature_@_t=1.1E13</td><td>Points</td><td>float64</td><td>1</td><td>2.902e+13</td><td>2.902e+13</td></tr>\n",
       "<tr><td>Temperature_@_t=1.2E13</td><td>Points</td><td>float64</td><td>1</td><td>2.902e+13</td><td>2.902e+13</td></tr>\n",
       "<tr><td>Temperature_@_t=1.3E13</td><td>Points</td><td>float64</td><td>1</td><td>2.902e+13</td><td>2.902e+13</td></tr>\n",
       "<tr><td>Temperature_@_t=1.4E13</td><td>Points</td><td>float64</td><td>1</td><td>2.902e+13</td><td>2.902e+13</td></tr>\n",
       "<tr><td>Temperature_@_t=1.5E13</td><td>Points</td><td>float64</td><td>1</td><td>2.902e+13</td><td>2.902e+13</td></tr>\n",
       "<tr><td>Temperature_@_t=1.6E13</td><td>Points</td><td>float64</td><td>1</td><td>2.902e+13</td><td>2.902e+13</td></tr>\n",
       "<tr><td>Temperature_@_t=1.7E13</td><td>Points</td><td>float64</td><td>1</td><td>2.902e+13</td><td>2.902e+13</td></tr>\n",
       "<tr><td>Temperature_@_t=1.8E13</td><td>Points</td><td>float64</td><td>1</td><td>2.902e+13</td><td>2.902e+13</td></tr>\n",
       "<tr><td>Temperature_@_t=1.9E13</td><td>Points</td><td>float64</td><td>1</td><td>2.902e+13</td><td>2.902e+13</td></tr>\n",
       "<tr><td>Temperature_@_t=1E12</td><td>Points</td><td>float64</td><td>1</td><td>2.884e+13</td><td>2.884e+13</td></tr>\n",
       "<tr><td>Temperature_@_t=1E13</td><td>Points</td><td>float64</td><td>1</td><td>2.902e+13</td><td>2.902e+13</td></tr>\n",
       "<tr><td>Temperature_@_t=2.1E13</td><td>Points</td><td>float64</td><td>1</td><td>2.902e+13</td><td>2.902e+13</td></tr>\n",
       "<tr><td>Temperature_@_t=2.2E13</td><td>Points</td><td>float64</td><td>1</td><td>2.902e+13</td><td>2.902e+13</td></tr>\n",
       "<tr><td>Temperature_@_t=2.3E13</td><td>Points</td><td>float64</td><td>1</td><td>2.902e+13</td><td>2.902e+13</td></tr>\n",
       "<tr><td>Temperature_@_t=2.4E13</td><td>Points</td><td>float64</td><td>1</td><td>2.902e+13</td><td>2.902e+13</td></tr>\n",
       "<tr><td>Temperature_@_t=2.5E13</td><td>Points</td><td>float64</td><td>1</td><td>2.902e+13</td><td>2.902e+13</td></tr>\n",
       "<tr><td>Temperature_@_t=2.6E13</td><td>Points</td><td>float64</td><td>1</td><td>2.902e+13</td><td>2.902e+13</td></tr>\n",
       "<tr><td>Temperature_@_t=2.7E13</td><td>Points</td><td>float64</td><td>1</td><td>2.902e+13</td><td>2.902e+13</td></tr>\n",
       "<tr><td>Temperature_@_t=2.8E13</td><td>Points</td><td>float64</td><td>1</td><td>2.902e+13</td><td>2.902e+13</td></tr>\n",
       "<tr><td>Temperature_@_t=2.9E13</td><td>Points</td><td>float64</td><td>1</td><td>2.902e+13</td><td>2.902e+13</td></tr>\n",
       "<tr><td>Temperature_@_t=2E12</td><td>Points</td><td>float64</td><td>1</td><td>2.891e+13</td><td>2.891e+13</td></tr>\n",
       "<tr><td>Temperature_@_t=2E13</td><td>Points</td><td>float64</td><td>1</td><td>2.902e+13</td><td>2.902e+13</td></tr>\n",
       "<tr><td>Temperature_@_t=3.1E13</td><td>Points</td><td>float64</td><td>1</td><td>2.902e+13</td><td>2.902e+13</td></tr>\n",
       "<tr><td>Temperature_@_t=3.2E13</td><td>Points</td><td>float64</td><td>1</td><td>2.902e+13</td><td>2.902e+13</td></tr>\n",
       "<tr><td>Temperature_@_t=3.3E13</td><td>Points</td><td>float64</td><td>1</td><td>2.902e+13</td><td>2.902e+13</td></tr>\n",
       "<tr><td>Temperature_@_t=3.4E13</td><td>Points</td><td>float64</td><td>1</td><td>2.902e+13</td><td>2.902e+13</td></tr>\n",
       "<tr><td>Temperature_@_t=3.5E13</td><td>Points</td><td>float64</td><td>1</td><td>2.902e+13</td><td>2.902e+13</td></tr>\n",
       "<tr><td>Temperature_@_t=3E12</td><td>Points</td><td>float64</td><td>1</td><td>2.898e+13</td><td>2.898e+13</td></tr>\n",
       "<tr><td>Temperature_@_t=3E13</td><td>Points</td><td>float64</td><td>1</td><td>2.902e+13</td><td>2.902e+13</td></tr>\n",
       "<tr><td>Temperature_@_t=4E12</td><td>Points</td><td>float64</td><td>1</td><td>2.901e+13</td><td>2.901e+13</td></tr>\n",
       "<tr><td>Temperature_@_t=5E12</td><td>Points</td><td>float64</td><td>1</td><td>2.902e+13</td><td>2.902e+13</td></tr>\n",
       "<tr><td>Temperature_@_t=6E12</td><td>Points</td><td>float64</td><td>1</td><td>2.902e+13</td><td>2.902e+13</td></tr>\n",
       "<tr><td>Temperature_@_t=7E12</td><td>Points</td><td>float64</td><td>1</td><td>2.902e+13</td><td>2.902e+13</td></tr>\n",
       "<tr><td>Temperature_@_t=8E12</td><td>Points</td><td>float64</td><td>1</td><td>2.902e+13</td><td>2.902e+13</td></tr>\n",
       "<tr><td>Temperature_@_t=9E12</td><td>Points</td><td>float64</td><td>1</td><td>2.902e+13</td><td>2.902e+13</td></tr>\n",
       "<tr><td>Total_Darcy_velocity_magnitude_@_t=0</td><td>Points</td><td>float64</td><td>1</td><td>4.367e-02</td><td>4.367e-02</td></tr>\n",
       "<tr><td>Total_Darcy_velocity_magnitude_@_t=1.1E13</td><td>Points</td><td>float64</td><td>1</td><td>6.204e-03</td><td>6.204e-03</td></tr>\n",
       "<tr><td>Total_Darcy_velocity_magnitude_@_t=1.2E13</td><td>Points</td><td>float64</td><td>1</td><td>6.202e-03</td><td>6.202e-03</td></tr>\n",
       "<tr><td>Total_Darcy_velocity_magnitude_@_t=1.3E13</td><td>Points</td><td>float64</td><td>1</td><td>6.201e-03</td><td>6.201e-03</td></tr>\n",
       "<tr><td>Total_Darcy_velocity_magnitude_@_t=1.4E13</td><td>Points</td><td>float64</td><td>1</td><td>6.199e-03</td><td>6.199e-03</td></tr>\n",
       "<tr><td>Total_Darcy_velocity_magnitude_@_t=1.5E13</td><td>Points</td><td>float64</td><td>1</td><td>6.199e-03</td><td>6.199e-03</td></tr>\n",
       "<tr><td>Total_Darcy_velocity_magnitude_@_t=1.6E13</td><td>Points</td><td>float64</td><td>1</td><td>6.198e-03</td><td>6.198e-03</td></tr>\n",
       "<tr><td>Total_Darcy_velocity_magnitude_@_t=1.7E13</td><td>Points</td><td>float64</td><td>1</td><td>6.197e-03</td><td>6.197e-03</td></tr>\n",
       "<tr><td>Total_Darcy_velocity_magnitude_@_t=1.8E13</td><td>Points</td><td>float64</td><td>1</td><td>6.197e-03</td><td>6.197e-03</td></tr>\n",
       "<tr><td>Total_Darcy_velocity_magnitude_@_t=1.9E13</td><td>Points</td><td>float64</td><td>1</td><td>6.197e-03</td><td>6.197e-03</td></tr>\n",
       "<tr><td>Total_Darcy_velocity_magnitude_@_t=1E12</td><td>Points</td><td>float64</td><td>1</td><td>4.420e-04</td><td>4.420e-04</td></tr>\n",
       "<tr><td>Total_Darcy_velocity_magnitude_@_t=1E13</td><td>Points</td><td>float64</td><td>1</td><td>6.207e-03</td><td>6.207e-03</td></tr>\n",
       "<tr><td>Total_Darcy_velocity_magnitude_@_t=2.1E13</td><td>Points</td><td>float64</td><td>1</td><td>6.196e-03</td><td>6.196e-03</td></tr>\n",
       "<tr><td>Total_Darcy_velocity_magnitude_@_t=2.2E13</td><td>Points</td><td>float64</td><td>1</td><td>6.196e-03</td><td>6.196e-03</td></tr>\n",
       "<tr><td>Total_Darcy_velocity_magnitude_@_t=2.3E13</td><td>Points</td><td>float64</td><td>1</td><td>6.196e-03</td><td>6.196e-03</td></tr>\n",
       "<tr><td>Total_Darcy_velocity_magnitude_@_t=2.4E13</td><td>Points</td><td>float64</td><td>1</td><td>6.196e-03</td><td>6.196e-03</td></tr>\n",
       "<tr><td>Total_Darcy_velocity_magnitude_@_t=2.5E13</td><td>Points</td><td>float64</td><td>1</td><td>6.195e-03</td><td>6.195e-03</td></tr>\n",
       "<tr><td>Total_Darcy_velocity_magnitude_@_t=2.6E13</td><td>Points</td><td>float64</td><td>1</td><td>6.195e-03</td><td>6.195e-03</td></tr>\n",
       "<tr><td>Total_Darcy_velocity_magnitude_@_t=2.7E13</td><td>Points</td><td>float64</td><td>1</td><td>6.195e-03</td><td>6.195e-03</td></tr>\n",
       "<tr><td>Total_Darcy_velocity_magnitude_@_t=2.8E13</td><td>Points</td><td>float64</td><td>1</td><td>6.195e-03</td><td>6.195e-03</td></tr>\n",
       "<tr><td>Total_Darcy_velocity_magnitude_@_t=2.9E13</td><td>Points</td><td>float64</td><td>1</td><td>6.195e-03</td><td>6.195e-03</td></tr>\n",
       "<tr><td>Total_Darcy_velocity_magnitude_@_t=2E12</td><td>Points</td><td>float64</td><td>1</td><td>6.206e-03</td><td>6.206e-03</td></tr>\n",
       "<tr><td>Total_Darcy_velocity_magnitude_@_t=2E13</td><td>Points</td><td>float64</td><td>1</td><td>6.196e-03</td><td>6.196e-03</td></tr>\n",
       "<tr><td>Total_Darcy_velocity_magnitude_@_t=3.1E13</td><td>Points</td><td>float64</td><td>1</td><td>6.195e-03</td><td>6.195e-03</td></tr>\n",
       "<tr><td>Total_Darcy_velocity_magnitude_@_t=3.2E13</td><td>Points</td><td>float64</td><td>1</td><td>6.195e-03</td><td>6.195e-03</td></tr>\n",
       "<tr><td>Total_Darcy_velocity_magnitude_@_t=3.3E13</td><td>Points</td><td>float64</td><td>1</td><td>6.195e-03</td><td>6.195e-03</td></tr>\n",
       "<tr><td>Total_Darcy_velocity_magnitude_@_t=3.4E13</td><td>Points</td><td>float64</td><td>1</td><td>6.195e-03</td><td>6.195e-03</td></tr>\n",
       "<tr><td>Total_Darcy_velocity_magnitude_@_t=3.5E13</td><td>Points</td><td>float64</td><td>1</td><td>6.195e-03</td><td>6.195e-03</td></tr>\n",
       "<tr><td>Total_Darcy_velocity_magnitude_@_t=3E12</td><td>Points</td><td>float64</td><td>1</td><td>6.412e-03</td><td>6.412e-03</td></tr>\n",
       "<tr><td>Total_Darcy_velocity_magnitude_@_t=3E13</td><td>Points</td><td>float64</td><td>1</td><td>6.195e-03</td><td>6.195e-03</td></tr>\n",
       "<tr><td>Total_Darcy_velocity_magnitude_@_t=4E12</td><td>Points</td><td>float64</td><td>1</td><td>6.288e-03</td><td>6.288e-03</td></tr>\n",
       "<tr><td>Total_Darcy_velocity_magnitude_@_t=5E12</td><td>Points</td><td>float64</td><td>1</td><td>6.247e-03</td><td>6.247e-03</td></tr>\n",
       "<tr><td>Total_Darcy_velocity_magnitude_@_t=6E12</td><td>Points</td><td>float64</td><td>1</td><td>6.231e-03</td><td>6.231e-03</td></tr>\n",
       "<tr><td>Total_Darcy_velocity_magnitude_@_t=7E12</td><td>Points</td><td>float64</td><td>1</td><td>6.222e-03</td><td>6.222e-03</td></tr>\n",
       "<tr><td>Total_Darcy_velocity_magnitude_@_t=8E12</td><td>Points</td><td>float64</td><td>1</td><td>6.216e-03</td><td>6.216e-03</td></tr>\n",
       "<tr><td>Total_Darcy_velocity_magnitude_@_t=9E12</td><td>Points</td><td>float64</td><td>1</td><td>6.211e-03</td><td>6.211e-03</td></tr>\n",
       "<tr><td>gradient</td><td>Points</td><td>float64</td><td>3</td><td>-2.867e+09</td><td>-4.245e+07</td></tr>\n",
       "<tr><td>gradient_norm</td><td>Points</td><td>float64</td><td>1</td><td>2.975e+09</td><td>2.975e+09</td></tr>\n",
       "<tr><td>kd_gradient</td><td>Points</td><td>float64</td><td>3</td><td>-2.867e+09</td><td>-4.321e+07</td></tr>\n",
       "<tr><td>Volume</td><td>Cells</td><td>float64</td><td>1</td><td>8.000e+10</td><td>8.000e+10</td></tr>\n",
       "<tr><td>SimTime</td><td>Fields</td><td>float64</td><td>1</td><td>3.193e+02</td><td>3.193e+02</td></tr>\n",
       "<tr><td>Parameters</td><td>Fields</td><td><U934</td><td>1</td><td>nan</td><td>nan</td></tr>\n",
       "<tr><td>Idx</td><td>Fields</td><td>int64</td><td>1</td><td>0.000e+00</td><td>0.000e+00</td></tr>\n",
       "<tr><td>PointMergeMap</td><td>Fields</td><td>int64</td><td>1</td><td>0.000e+00</td><td>1.737e+04</td></tr>\n",
       "</table>\n",
       "\n",
       "</td></tr> </table>"
      ],
      "text/plain": [
       "UnstructuredGrid (0x38c49df00)\n",
       "  N Cells:    1\n",
       "  N Points:   1\n",
       "  X Bounds:   2.000e+03, 2.000e+03\n",
       "  Y Bounds:   2.500e+03, 2.500e+03\n",
       "  Z Bounds:   -2.000e+03, -2.000e+03\n",
       "  N Arrays:   368"
      ]
     },
     "execution_count": 37,
     "metadata": {},
     "output_type": "execute_result"
    }
   ],
   "source": [
    "deriv_integrated"
   ]
  },
  {
   "cell_type": "code",
   "execution_count": 28,
   "id": "8b2aa0b7",
   "metadata": {},
   "outputs": [],
   "source": [
    "deriv.point_data['gradient_norm'] = np.linalg.norm(deriv.point_data['gradient'], axis = 1)\n"
   ]
  },
  {
   "cell_type": "code",
   "execution_count": 29,
   "id": "66c4e00d",
   "metadata": {},
   "outputs": [
    {
     "data": {
      "application/vnd.jupyter.widget-view+json": {
       "model_id": "c3a3a1aa816943ebbdcd714fb80a61b6",
       "version_major": 2,
       "version_minor": 0
      },
      "text/plain": [
       "Widget(value='<iframe src=\"http://localhost:55094/index.html?ui=P_0x3165c7d40_5&reconnect=auto\" class=\"pyvista…"
      ]
     },
     "metadata": {},
     "output_type": "display_data"
    }
   ],
   "source": [
    "deriv.slice(normal = -np.array(calculate_normal(60, 90))).plot(scalars = 'gradient')\n"
   ]
  },
  {
   "cell_type": "code",
   "execution_count": 30,
   "id": "2ca15bac",
   "metadata": {},
   "outputs": [
    {
     "data": {
      "application/vnd.jupyter.widget-view+json": {
       "model_id": "b6d9fef08fcd478a88a9b81c558bd25b",
       "version_major": 2,
       "version_minor": 0
      },
      "text/plain": [
       "Widget(value='<iframe src=\"http://localhost:55094/index.html?ui=P_0x3165c2060_6&reconnect=auto\" class=\"pyvista…"
      ]
     },
     "metadata": {},
     "output_type": "display_data"
    }
   ],
   "source": [
    "comsol_data.mesh.clip(normal = -np.array(calculate_normal(60, 90)), origin = comsol_data.mesh.center).plot(scalars = field_name)"
   ]
  },
  {
   "cell_type": "code",
   "execution_count": 31,
   "id": "1892311d",
   "metadata": {},
   "outputs": [
    {
     "data": {
      "application/vnd.jupyter.widget-view+json": {
       "model_id": "41bb44d0104c431e84c179c1af5c7aee",
       "version_major": 2,
       "version_minor": 0
      },
      "text/plain": [
       "Widget(value='<iframe src=\"http://localhost:55094/index.html?ui=P_0x31660e750_7&reconnect=auto\" class=\"pyvista…"
      ]
     },
     "metadata": {},
     "output_type": "display_data"
    }
   ],
   "source": [
    "comsol_data.mesh.point_data['temp'] = entropy[0, -1, :]\n",
    "normal = -calculate_normal(60, 90)\n",
    "clipped = comsol_data.mesh.clip(normal = normal, origin = comsol_data.mesh.center)\n",
    "line1 = pv.Line(-normal*100, normal*100)\n",
    "center = comsol_data.mesh.center\n",
    "plane = pv.Plane(direction=normal, center = comsol_data.mesh.center, i_size = 1000, j_size=1000)\n",
    "\n",
    "# Get two orthogonal vectors in the plane (i and j directions)\n",
    "# Arbitrary up vector for orientation\n",
    "up = np.array([0, 0, 1]) if abs(np.dot(normal, [0, 0, 1])) < 0.99 else np.array([1, 0, 0])\n",
    "\n",
    "# First in-plane direction (i)\n",
    "i_dir = np.cross(up, normal)\n",
    "i_dir /= np.linalg.norm(i_dir)\n",
    "\n",
    "# Second in-plane direction (j)\n",
    "j_dir = np.cross(normal, i_dir) # along dip\n",
    "j_dir /= np.linalg.norm(j_dir) # along dip\n",
    "\n",
    "# Create lines from the center\n",
    "line_i = pv.Line(center - 4000 * i_dir, center +4000 * i_dir)\n",
    "line_j = pv.Line(center - 4000 * j_dir, center +4000 * j_dir)\n",
    "\n",
    "line_translated1 = line_j.copy()\n",
    "line_translated1 = line_translated1.translate((0, -1000, 0))  # In-place translation\n",
    "\n",
    "line_translated2 = line_j.copy()\n",
    "line_translated2 = line_translated2.translate((0, 700, 0))  # In-place translation\n",
    "\n",
    "# plane_rotated = plane.copy()\n",
    "# plane_rotated.rotate_vector(angle = 30, vector = normal, point = comsol_data.mesh.center)  # Rotate in-place\n",
    "plotter = pv.Plotter()\n",
    "plotter.add_mesh(clipped, scalars = 'temp')\n",
    "plotter.add_mesh(plane, color=\"red\")\n",
    "plotter.add_mesh(line_i, color='red', line_width=4, label='i-direction')\n",
    "# plotter.add_mesh(line_j, color='green', line_width=4, label='j-direction')\n",
    "plotter.add_mesh(line_translated1, color='green', line_width=4, label='j-direction')\n",
    "plotter.add_mesh(line_translated2, color='green', line_width=4, label='j-direction')\n",
    "# plotter.add_mesh(plane_rotated, color=\"blue\")\n",
    "plotter.show()"
   ]
  },
  {
   "cell_type": "code",
   "execution_count": 32,
   "id": "8e7007f8",
   "metadata": {},
   "outputs": [
    {
     "data": {
      "image/png": "[encoded data removed]",
      "text/plain": [
       "<Figure size 640x480 with 1 Axes>"
      ]
     },
     "metadata": {},
     "output_type": "display_data"
    }
   ],
   "source": [
    "pointa = line_translated2.points[0]\n",
    "pointb = line_translated2.points[1]\n",
    "comsol_data.mesh.plot_over_line(pointa, pointb, scalars = 'temp')"
   ]
  },
  {
   "cell_type": "code",
   "execution_count": 33,
   "id": "8dcb56db",
   "metadata": {},
   "outputs": [
    {
     "data": {
      "image/png": "[encoded data removed]",
      "text/plain": [
       "<Figure size 640x480 with 1 Axes>"
      ]
     },
     "metadata": {},
     "output_type": "display_data"
    }
   ],
   "source": [
    "comsol_data.mesh.plot_over_line(pointa, pointb, scalars = field_name)"
   ]
  },
  {
   "cell_type": "code",
   "execution_count": 34,
   "id": "1214c8ea",
   "metadata": {},
   "outputs": [
    {
     "data": {
      "application/vnd.jupyter.widget-view+json": {
       "model_id": "2c7304fcab9047e0954e2f2a1846757c",
       "version_major": 2,
       "version_minor": 0
      },
      "text/plain": [
       "Widget(value='<iframe src=\"http://localhost:55094/index.html?ui=P_0x316622300_8&reconnect=auto\" class=\"pyvista…"
      ]
     },
     "metadata": {},
     "output_type": "display_data"
    }
   ],
   "source": [
    "import pyvista as pv\n",
    "import numpy as np\n",
    "\n",
    "# Define the plane\n",
    "center = np.array([0, 0, 0])\n",
    "normal = np.array([0.2, 0.5, 1.0])\n",
    "normal /= np.linalg.norm(normal)\n",
    "\n",
    "# Create the plane\n",
    "plane = pv.Plane(center=center, direction=normal, i_size=10, j_size=10)\n",
    "\n",
    "# Get two orthogonal vectors in the plane (i and j directions)\n",
    "# Arbitrary up vector for orientation\n",
    "up = np.array([0, 0, 1]) if abs(np.dot(normal, [0, 0, 1])) < 0.99 else np.array([1, 0, 0])\n",
    "\n",
    "# First in-plane direction (i)\n",
    "i_dir = np.cross(up, normal)\n",
    "i_dir /= np.linalg.norm(i_dir)\n",
    "\n",
    "# Second in-plane direction (j)\n",
    "j_dir = np.cross(normal, i_dir)\n",
    "j_dir /= np.linalg.norm(j_dir)\n",
    "\n",
    "# Create lines from the center\n",
    "line_i = pv.Line(center - 5 * i_dir, center + 5 * i_dir)\n",
    "line_j = pv.Line(center - 5 * j_dir, center + 5 * j_dir)\n",
    "\n",
    "# Plot\n",
    "plotter = pv.Plotter()\n",
    "plotter.add_mesh(plane, color='lightblue', opacity=0.5)\n",
    "plotter.add_mesh(line_i, color='red', line_width=4, label='i-direction')\n",
    "plotter.add_mesh(line_j, color='green', line_width=4, label='j-direction')\n",
    "plotter.add_legend()\n",
    "plotter.show()\n"
   ]
  },
  {
   "cell_type": "code",
   "execution_count": null,
   "id": "a581f97d",
   "metadata": {},
   "outputs": [],
   "source": []
  },
  {
   "cell_type": "code",
   "execution_count": 35,
   "id": "a8ad3b99",
   "metadata": {},
   "outputs": [
    {
     "data": {
      "application/vnd.plotly.v1+json": {
       "config": {
        "plotlyServerURL": "https://plot.ly"
       },
       "data": [
        {
         "type": "scatter",
         "x": {
          "bdata": "AAECAwQFBgcICQoLDA0ODxAREhMUFRYXGBkaGxwdHh8gISIj",
          "dtype": "i1"
         },
         "y": {
          "bdata": "vE1RfTo87j9xSlgQwkPuP7W+KY87YfA/I9KHPhts8D86F3iQf23wP9mY3L95bvA/cKVI05Ru8D9QaPIOX27wP+VTu+QfbvA/zG6xou5t8D8a+903yW3wP1LB44a6bfA/aRiaOKJt8D9uw6D3m23wP4GHCLyHbfA/XmZhnYNt8D8Z155cem3wP9zFusV4bfA/aP7mI3Vt8D8E5+VPdG3wP+I5I1FybfA/+K+an3Ft8D99PZOxcG3wP+KGKEFxbfA/crFOBnFt8D/Yt6AWb23wP/yeEc1vbfA/j2h17W9t8D8kh5Hdbm3wP1nXBuVtbfA/CseGLG5t8D8vJcsEbm3wP9lAwyJtbfA/W0moam1t8D9KJJKPbW3wP6vyLV5tbfA/",
          "dtype": "f8"
         }
        },
        {
         "type": "scatter",
         "x": {
          "bdata": "AAECAwQFBgcICQoLDA0ODxAREhMUFRYXGBkaGxwdHh8gISIj",
          "dtype": "i1"
         },
         "y": {
          "bdata": "5e+wc4Zg7j8t29geCNzwP0qTQX6P2vA/O9WtgDLd8D/a8HIdfN7wP8CpneTt3vA/FyceAhff8D9EXlOwJt/wP8svztgt3/A/4d8M1y7f8D8dhzfFL9/wP7z6giIw3/A/w+eRMjDf8D9T6ERCMN/wP/L10U8w3/A/Yw9qXTDf8D+jNA1rMN/wP4CLwXMw3/A/r7jeeTDf8D8b6Q6AMN/wP9xJKYQw3/A/OuI8fDDf8D/IDFh0MN/wP4TJemww3/A/V4SKazDf8D+mqFVuMN/wPyWhLXEw3/A/9LttczDf8D//2BtyMN/wP8qKzHAw3/A/WNF/bzDf8D+TrBxwMN/wP3BQv3Ew3/A/rD5jczDf8D/Vi4d0MN/wP8wy3HIw3/A/",
          "dtype": "f8"
         }
        },
        {
         "type": "scatter",
         "x": {
          "bdata": "AAECAwQFBgcICQoLDA0ODxAREhMUFRYXGBkaGxwdHh8gISIj",
          "dtype": "i1"
         },
         "y": {
          "bdata": "OjTIyIVV7j8ChPH0rYHxP8oqqrMPgfE/kd9SyimG8T8i9qmzKojxP8b62eHYiPE//3L/wxKJ8T+cMZ2OI4nxP6M81GUoifE/0je7RCmJ8T/eZJBKKYnxP58kf0UpifE/wILJRSmJ8T9AHAJJKYnxP/jyOkwpifE/4Wz4TimJ8T/SWeVOKYnxP2tT0k4pifE/qlm/TimJ8T/Ci3JOKYnxPy0ZBk4pifE/eKmZTSmJ8T/1dRJNKYnxP5Yq70spifE/SurLSimJ8T8WtahJKYnxP7Keo0gpifE/gwavRymJ8T9VeLpGKYnxP0cz1kUpifE/kK5QRSmJ8T+FLMtEKYnxPymtRUQpifE/7LIORCmJ8T+zqwJEKYnxP4Kk9kMpifE/",
          "dtype": "f8"
         }
        },
        {
         "type": "scatter",
         "x": {
          "bdata": "AAECAwQFBgcICQoLDA0ODxAREhMUFRYXGBkaGxwdHh8gISIj",
          "dtype": "i1"
         },
         "y": {
          "bdata": "8PDLtVg+7j8GMVFzW9HuP5uc4DH/z+8/ZUkUlXrA7z9264JbSsXvP1OYS7gsyO8/NYZ3rbjD7z8GfpB1YcbvP+M6bxATzu8/Mkarg1LQ7z8ueMJO79TvP2fUO3zh4u8/oYozlMj77z/6pJ6xsiTwP74J20Sw9fA/q8DPakuY8T8aFkOr/bHxP4htHhA4s/E/6lZtR/+z8T8La6bSZLTxP6907JyMtPE/iy2POpu08T8nUy3dn7TxP50nZImhtPE/9CcoE6O08T/qCPSjorTxPzF2zVahtPE/e9DREKC08T9aUOXknrTxP0iyI2ietPE/x+b385208T+52Wm7nbTxP0PmgI+dtPE/yIiKYp208T88kDVBnbTxPz3rWSudtPE/",
          "dtype": "f8"
         }
        },
        {
         "type": "scatter",
         "x": {
          "bdata": "AAECAwQFBgcICQoLDA0ODxAREhMUFRYXGBkaGxwdHh8gISIj",
          "dtype": "i1"
         },
         "y": {
          "bdata": "alDuj3JA7j8ELNCoqi7wP8XBrJRyGvA/JXcbD3MY8D+ovTy2BRjwP5py0PXDF/A/upzV67UX8D8y/jEUvBfwP2pszF64F/A/X7dQhrUX8D8Cm+qcthfwP7nGjtu3F/A/C5A1BLYX8D8V/rtrtBfwP43M0DS0F/A/56fD4LQX8D+KldLbtBfwP/SQgYC0F/A/5NLHSbQX8D8sX64itBfwP4pY7RO0F/A/xCnvDrQX8D9YEvcItBfwP2bkbf6zF/A/JjkZ9LMX8D+SEPnpsxfwP3tf5emzF/A/3Pdv7bMX8D8M0AfxsxfwP6/qffSzF/A/W6Fg97MX8D/39EP6sxfwP4jlJ/2zF/A/l62z/bMX8D8BRGf9sxfwPzcJG/2zF/A/",
          "dtype": "f8"
         }
        },
        {
         "type": "scatter",
         "x": {
          "bdata": "AAECAwQFBgcICQoLDA0ODxAREhMUFRYXGBkaGxwdHh8gISIj",
          "dtype": "i1"
         },
         "y": {
          "bdata": "fNQWKigz7j90Y/2ptjPuP0DbXkTcM+4/c9yHWPUz7j/FTxUGxjTuP58E85S+Pu4/aNf6ZA2L7j9Ki/sGOTnvP7VCSpTrj+8/aFYQJrSf7z87QFQBP6LvP+pxNtjRou8/ZgcVdvGi7z+Y8OTB/KLvP9Js9MQBo+8/cYUL5AGj7z/sfWHpAaPvP+zs5uABo+8/VkaN0gGj7z8I86bIAaPvP4/zKMQBo+8/0/SqvwGj7z/j9iy7AaPvPxdEAroBo+8/WwEDuQGj7z+qvgO4AaPvP3eldrcBo+8/YUN0twGj7z9T4XG3AaPvP0Z/b7cBo+8/OBdHtwGj7z+Cvhy3AaPvP81l8rYBo+8/M4rdtgGj7z/RyuK2AaPvP3cL6LYBo+8/",
          "dtype": "f8"
         }
        },
        {
         "type": "scatter",
         "x": {
          "bdata": "AAECAwQFBgcICQoLDA0ODxAREhMUFRYXGBkaGxwdHh8gISIj",
          "dtype": "i1"
         },
         "y": {
          "bdata": "qrrEMDM+7j+7glnHdLzuP7hYS+cgyu8/6MJVJ8a47z85nIzCyb7vP/GT4ovtw+8/wW5/J37A7z8OXi0lmMXvP/NAyBU01+8/CnHaYsb17z8YtujCp0XwPyTrCXxnC/E/dtu1mK2j8T8a0IsVBKzxPzuHfRIerfE//IMWgtmt8T/aMD/aPa7xPyzqwT1rrvE/sO1VoYCu8T913dEKjK7xPwZRmD6TrvE/5tkIcZmu8T9b/WEdnK7xP9WNaVOervE/LlQ6nJ6u8T8QVEpbn67xP5E916OfrvE/Xv8VAqCu8T9cM6BLoK7xP0Vtn5igrvE/wy05x6Cu8T9GoV7ZoK7xP5ERv/WgrvE/2yM9AaGu8T9pi7D6oK7xP3XlJPegrvE/",
          "dtype": "f8"
         }
        },
        {
         "type": "scatter",
         "x": {
          "bdata": "AAECAwQFBgcICQoLDA0ODxAREhMUFRYXGBkaGxwdHh8gISIj",
          "dtype": "i1"
         },
         "y": {
          "bdata": "kA2ZyZw/7j+GCCfCTMzvP3IbYOUEBfA/7SyiIOoB8D/Yx2gdswHwP5ECD+ZGAfA/DkIsGewA8D9lXRLZCQHwP3msiP0UAfA/ARqFqvoA8D9Z8I/4+QDwP5u2dRUCAfA/Dzmc+PwA8D+XNBTI8ADwPyGcMjnuAPA/nYMRZfIA8D9FC3PO8QDwPzfqpZPwAPA/KWidn/IA8D/82a089ADwPyC5D8rzAPA/ond6bfEA8D857G6I8ADwP5FaxZvwAPA/A730W/EA8D+G4BYB8QDwP8xGdMPwAPA/EGvSuvAA8D9WiAjD8ADwPyxBQM3wAPA//rElyvAA8D9tAE7H8ADwP2KUQcTwAPA/nTsbwfAA8D8RRQ++8ADwPzZAx7vwAPA/",
          "dtype": "f8"
         }
        },
        {
         "type": "scatter",
         "x": {
          "bdata": "AAECAwQFBgcICQoLDA0ODxAREhMUFRYXGBkaGxwdHh8gISIj",
          "dtype": "i1"
         },
         "y": {
          "bdata": "TGfy7vpX7j/ryaGWer7xP6Bw6WN3xvE/dEYT1FjM8T9X/10FeM7xPygLPo8lz/E/SpRwjFzP8T8SOa7KbM/xP+zaP8Nwz/E/gcBt8nHP8T+WWUXYcc/xPwpK2L1xz/E/S36xtXHP8T9fwYqvcc/xPycFZKlxz/E/v3c9pXHP8T9l5hKkcc/xPxpV6KJxz/E/0sO9oXHP8T9aKH6hcc/xP5FEWKFxz/E/yWAyoXHP8T+U5g2hcc/xP7SH66Bxz/E/2CjJoHHP8T/4yaagcc/xP3CdoqBxz/E/B7+hoHHP8T+i4KCgcc/xP1OIoKBxz/E/BvigoHHP8T+/Z6Ggcc/xP3bXoaBxz/E/cNKhoHHP8T+hwKGgcc/xP9WuoaBxz/E/",
          "dtype": "f8"
         }
        },
        {
         "type": "scatter",
         "x": {
          "bdata": "AAECAwQFBgcICQoLDA0ODxAREhMUFRYXGBkaGxwdHh8gISIj",
          "dtype": "i1"
         },
         "y": {
          "bdata": "bcsawaMy7j949iO1MDPuP7mdVKxVM+4/u5ntzmYz7j8qKfy+FzTuP5vhkDINPO4/VO2uciJx7j97lYN/c/nuP9ZaYNhEV+8/Jxt2z+Rw7z96dweA0HTvP+wo4Ft/de8/zFJamql17z/rtEQmsnXvP1vFUZmzde8/UZkoYrN17z8593bfsnXvP2h7aIKyde8/kpWsWrJ17z8H0/AysnXvP2atYBOyde8/p0WYCbJ17z+738//sXXvP5x7B/axde8/kfcx8rF17z8kNhzwsXXvP9N0Bu6xde8/HOBv7LF17z9VVCzssXXvP4nI6Ouxde8/xDyl67F17z9jt2jrsXXvP8hCLuuxde8/K87z6rF17z8n58bqsXXvP9Ahvuqxde8/",
          "dtype": "f8"
         }
        },
        {
         "type": "scatter",
         "x": {
          "bdata": "AAECAwQFBgcICQoLDA0ODxAREhMUFRYXGBkaGxwdHh8gISIj",
          "dtype": "i1"
         },
         "y": {
          "bdata": "2EnJScM47j8wueWfZTnuPzmvBBBqZe4/a4FuDpL27z+P4fS1Eu3vPxAaXppa6e8/+sHtTcLk7z+icBSzeJ3wP4Tip7VExvA/8NFRseLF8D8J5mbL3sXwP55vzkruxfA/UHmkd/fF8D+6lK+7+8XwP6UkGWv9xfA/r/WQJf7F8D/rEsm9/cXwPxfYdEX9xfA/CzD53fzF8D/wtQG//MXwP5eaCqD8xfA//t0TgfzF8D87mmVz/MXwPyK5im38xfA/qN2vZ/zF8D9MHrdi/MXwP4rbjGH8xfA/HZliYPzF8D8JVzhf/MXwP1AGvl78xfA/AmGTXvzF8D+8u2he/MXwPyn3QF78xfA/3pklXvzF8D+WPApe/MXwP0nf7l38xfA/",
          "dtype": "f8"
         }
        },
        {
         "type": "scatter",
         "x": {
          "bdata": "AAECAwQFBgcICQoLDA0ODxAREhMUFRYXGBkaGxwdHh8gISIj",
          "dtype": "i1"
         },
         "y": {
          "bdata": "tINT6k5d7j+0Mzzkv5HzP1ft1JaSovM/Nfn67o+s8z+xgZdQ7a/zP1TlpczmsPM/vS6w/y6x8z/C/HwCRrHzP7zWJc9LsfM/4PU01kyx8z92q6/0TLHzP4wKAr5MsfM/qLzUkkyx8z9klmxtTLHzP9WbJHNMsfM/DKWyekyx8z8KshaETLHzP87n+o5MsfM/0lgxmkyx8z+686SlTLHzP44V2bBMsfM/IbcKsUyx8z/GHUKxTLHzP4FJf7FMsfM/tEz9rUyx8z9OtuKkTLHzP/on45hMsfM/HS6Yikyx8z8/zH6BTLHzP9AVT3lMsfM/hfISckyx8z+1HY5vTLHzPycxb3BMsfM/shhWcUyx8z8oCz1yTLHzP4TKqHJMsfM/",
          "dtype": "f8"
         }
        },
        {
         "type": "scatter",
         "x": {
          "bdata": "AAECAwQFBgcICQoLDA0ODxAREhMUFRYXGBkaGxwdHh8gISIj",
          "dtype": "i1"
         },
         "y": {
          "bdata": "EiyNJMou7j/lLx5qSy/uPx1L9ThtL+4/0bBrQ3gv7j8OweHBei/uP2t0pZF7L+4/j75VPHwv7j+yzAOLfC/uP3wETKV8L+4/ZUmywXwv7j+Z9bnbfC/uP6hgu9p8L+4/uPcZ23wv7j/FutXcfC/uP4qo49t8L+4/2Y+W2Xwv7j8jUSrYfC/uPw0lcNd8L+4/twQ+1nwv7j8ArpzVfC/uP/MgjNV8L+4/hvfR1Xwv7j8iHUvWfC/uPxHx/dZ8L+4/7Xrf13wv7j+Qcf/YfC/uP9tmO9p8L+4/glyF23wv7j/q7/bcfC/uP3pPjd58L+4/gJot4Hwv7j87vs7hfC/uP8XVbON8L+4/7V7/5Hwv7j8F8H/mfC/uPyZM+ed8L+4/",
          "dtype": "f8"
         }
        },
        {
         "type": "scatter",
         "x": {
          "bdata": "AAECAwQFBgcICQoLDA0ODxAREhMUFRYXGBkaGxwdHh8gISIj",
          "dtype": "i1"
         },
         "y": {
          "bdata": "5a1YAQY47j/VgOT7pDjuPxJdz3DiTO4/ZVT5+fKw7z/x8/93Eb7vPwzPpHlTuu8/aNOFN5gk8D9vQnjCp6PwP/udaL3tpfA/tpElyNKl8D9W2pjc5KXwPzbhQ+HwpfA/JLj9Rfal8D99EmLV+KXwP2q+i9b5pfA/KtVLk/ql8D9GEPsA+6XwP+QWIDf7pfA/Fe+tX/ul8D+LXTVs+6XwP4bSvHj7pfA/BU5Ehful8D9ynreI+6XwP21gQ4r7pfA/qyLPi/ul8D+btt+M+6XwP/dO8oz7pfA/V+cEjful8D+5fxeN+6XwP+xBHY37pfA/wFIgjful8D+ZYyON+6XwP4vFJY37pfA/6L4mjful8D9FuCeN+6XwP6CxKI37pfA/",
          "dtype": "f8"
         }
        },
        {
         "type": "scatter",
         "x": {
          "bdata": "AAECAwQFBgcICQoLDA0ODxAREhMUFRYXGBkaGxwdHh8gISIj",
          "dtype": "i1"
         },
         "y": {
          "bdata": "beImDyxV7j8D1dw++HfxP5WvL6Jad/E/Mtr8pCl88T+01SlfFX7xP5/1dn6/fvE/BDBbpvR+8T9ZQJ5JBn/xP6fN4bsKf/E/jT8m1wt/8T/MLf8NDH/xP1uhn+kLf/E/BolAxQt/8T+fZAOzC3/xP3LZN6gLf/E//1JsnQt/8T9jsH2UC3/xPxFznJILf/E/1T27kAt/8T+xENqOC3/xP852I44Lf/E/XG/njQt/8T8AaauNC3/xP2Bnd40Lf/E/dL1hjQt/8T+OE0yNC3/xP6xpNo0Lf/E/jZZLjQt/8T/AWXKNC3/xPwMdmY0Lf/E/SH2+jQt/8T99nd6NC3/xP+C9/o0Lf/E/cd4ejgt/8T93VT+OC3/xP/bvX44Lf/E/",
          "dtype": "f8"
         }
        },
        {
         "type": "scatter",
         "x": {
          "bdata": "AAECAwQFBgcICQoLDA0ODxAREhMUFRYXGBkaGxwdHh8gISIj",
          "dtype": "i1"
         },
         "y": {
          "bdata": "tR34b1tk7j8JCH3nTSTxP9sM5EZjKvE/1SbWjkMu8T9i8TVpKTDxP1pIzKrcMPE/lC5bcBox8T+EfBgJLzHxP/paVlQ1MfE/iK2VXTcx8T8w1UZCODHxP4Y2VPU3MfE/gU5QtDcx8T9Q8G+1NzHxPzuwYbg3MfE/PI4lvTcx8T8MXp/FNzHxPwRfHtA3MfE/d4Bb2zcx8T/EiinjNzHxP8n3y9A3MfE/Uht8vjcx8T9f9TmsNzHxPwtLDqs3MfE/9Ienszcx8T+ZsES8NzHxPwYIMcQ3MfE/4Bylxzcx8T8EPxzLNzHxP3Vuls43MfE/Ny/izTcx8T/MXsjKNzHxPx2zrsc3MfE/rTBOxTcx8T9JyYTHNzHxP2Kzu8k3MfE/",
          "dtype": "f8"
         }
        },
        {
         "type": "scatter",
         "x": {
          "bdata": "AAECAwQFBgcICQoLDA0ODxAREhMUFRYXGBkaGxwdHh8gISIj",
          "dtype": "i1"
         },
         "y": {
          "bdata": "tsCVaC4q7j9CaodgoSruPzuG2S6/Ku4/VVIvEcgq7j/AOw26yiruP0l+AJ7LKu4/GFX4gcwq7j89QyrBzCruP10AD/LMKu4/jfPzIs0q7j/OBRtDzSruP1WYJkzNKu4/uywyVc0q7j/9wj1ezSruP91udGDNKu4/oU4TYs0q7j95LrJjzSruP72ns2TNKu4/ROPbZM0q7j/MHgRlzSruP09aLGXNKu4/noNTZc0q7j8ZlXplzSruP5qmoWXNKu4/yZy6Zc0q7j/LGsBlzSruP8qYxWXNKu4/yhbLZc0q7j9D+s5lzSruPyC60mXNKu4/9XnWZc0q7j+W79hlzSruP3ed2WXNKu4/X0vaZc0q7j9B+dplzSruPyiC22XNKu4/",
          "dtype": "f8"
         }
        },
        {
         "type": "scatter",
         "x": {
          "bdata": "AAECAwQFBgcICQoLDA0ODxAREhMUFRYXGBkaGxwdHh8gISIj",
          "dtype": "i1"
         },
         "y": {
          "bdata": "DVhYX1dX7j9BGFlJyq/xP2eucVWdtfE/agk5viq78T+9gJBrM73xP8ScP43bvfE/nUrkahK+8T9Rnk4YIr7xPzJGnXomvvE/AwyeGCe+8T+9SJMSJ77xP61MKwgnvvE/cgZ1BCe+8T9Jz5MDJ77xP6KasgInvvE/L6G+ASe+8T8Ry4AAJ77xPyX1Qv8mvvE/aB8F/ia+8T/aVIr9Jr7xP0oQYv0mvvE/NMw5/Sa+8T9PryD9Jr7xPzEsQ/0mvvE/7qll/Sa+8T+IKIj9Jr7xPzzFw/0mvvE/vwIK/ia+8T/TQFD+Jr7xPx3qkP4mvvE/MZ27/ia+8T9kUOb+Jr7xP7gDEf8mvvE/gA8j/ya+8T/lrCr/Jr7xP0dKMv8mvvE/",
          "dtype": "f8"
         }
        },
        {
         "type": "scatter",
         "x": {
          "bdata": "AAECAwQFBgcICQoLDA0ODxAREhMUFRYXGBkaGxwdHh8gISIj",
          "dtype": "i1"
         },
         "y": {
          "bdata": "d24XKwAw7j8/2EolhTDuPxDLkPGnMO4/vG/wPLMw7j9OD+u0tTDuPyGYtKy2MO4/7jxVvrgw7j+wTXxKvTDuP51WU9THMO4/g75Uzd0w7j/syO/8EjHuPxzZIghpMe4/cWOqlCoy7j/5F0mWWTPuPx1JrsFnNe4/op+SCq447j8jdNUmoj3uP+lKW4W2RO4/kayqgt1N7j9LBBYUQVjuP4GlcWWqYu4/uvy5VVZs7j/b1L/zXXXuP5Udj9TDfO4/O+i+dkOC7j937lN3E4buP9gHQK3ziO4/h+/mAriK7j+NMx9g0ovuP32Juh5YjO4/rtlEbJGM7j87z6q7pozuPyG6BvCijO4/4IDzkpmM7j9Z7Fohi4zuP45IWml/jO4/",
          "dtype": "f8"
         }
        },
        {
         "type": "scatter",
         "x": {
          "bdata": "AAECAwQFBgcICQoLDA0ODxAREhMUFRYXGBkaGxwdHh8gISIj",
          "dtype": "i1"
         },
         "y": {
          "bdata": "u5T413tU7j9h8vvJ7mXxP9hNmyA/ZPE/XL0avJ9o8T+eVCu9YWrxPwkv3Y3/avE/98j6jTJr8T9vDSnaQmvxP0DO7e5Ga/E/v+BR3Edr8T85V4sZSGvxP9QTSwFIa/E/FHIL6Udr8T/+ElTcR2vxP+Q7qtJHa/E/OIIAyUdr8T9bPXLBR2vxPxAjCL9Ha/E/WyOevEdr8T87PjS6R2vxP8s4i7lHa/E/NwRZuUdr8T820Sa5R2vxPzSTAblHa/E/zu/7uEdr8T98TPa4R2vxPz6p8LhHa/E/jmM8uUdr8T8mqJ25R2vxPwXt/rlHa/E/UepPukdr8T/vLXm6R2vxPwByorpHa/E/g7bLukdr8T+lFv66R2vxP/rfMrtHa/E/",
          "dtype": "f8"
         }
        }
       ],
       "layout": {
        "template": {
         "data": {
          "bar": [
           {
            "error_x": {
             "color": "#2a3f5f"
            },
            "error_y": {
             "color": "#2a3f5f"
            },
            "marker": {
             "line": {
              "color": "#E5ECF6",
              "width": 0.5
             },
             "pattern": {
              "fillmode": "overlay",
              "size": 10,
              "solidity": 0.2
             }
            },
            "type": "bar"
           }
          ],
          "barpolar": [
           {
            "marker": {
             "line": {
              "color": "#E5ECF6",
              "width": 0.5
             },
             "pattern": {
              "fillmode": "overlay",
              "size": 10,
              "solidity": 0.2
             }
            },
            "type": "barpolar"
           }
          ],
          "carpet": [
           {
            "aaxis": {
             "endlinecolor": "#2a3f5f",
             "gridcolor": "white",
             "linecolor": "white",
             "minorgridcolor": "white",
             "startlinecolor": "#2a3f5f"
            },
            "baxis": {
             "endlinecolor": "#2a3f5f",
             "gridcolor": "white",
             "linecolor": "white",
             "minorgridcolor": "white",
             "startlinecolor": "#2a3f5f"
            },
            "type": "carpet"
           }
          ],
          "choropleth": [
           {
            "colorbar": {
             "outlinewidth": 0,
             "ticks": ""
            },
            "type": "choropleth"
           }
          ],
          "contour": [
           {
            "colorbar": {
             "outlinewidth": 0,
             "ticks": ""
            },
            "colorscale": [
             [
              0,
              "#0d0887"
             ],
             [
              0.1111111111111111,
              "#46039f"
             ],
             [
              0.2222222222222222,
              "#7201a8"
             ],
             [
              0.3333333333333333,
              "#9c179e"
             ],
             [
              0.4444444444444444,
              "#bd3786"
             ],
             [
              0.5555555555555556,
              "#d8576b"
             ],
             [
              0.6666666666666666,
              "#ed7953"
             ],
             [
              0.7777777777777778,
              "#fb9f3a"
             ],
             [
              0.8888888888888888,
              "#fdca26"
             ],
             [
              1,
              "#f0f921"
             ]
            ],
            "type": "contour"
           }
          ],
          "contourcarpet": [
           {
            "colorbar": {
             "outlinewidth": 0,
             "ticks": ""
            },
            "type": "contourcarpet"
           }
          ],
          "heatmap": [
           {
            "colorbar": {
             "outlinewidth": 0,
             "ticks": ""
            },
            "colorscale": [
             [
              0,
              "#0d0887"
             ],
             [
              0.1111111111111111,
              "#46039f"
             ],
             [
              0.2222222222222222,
              "#7201a8"
             ],
             [
              0.3333333333333333,
              "#9c179e"
             ],
             [
              0.4444444444444444,
              "#bd3786"
             ],
             [
              0.5555555555555556,
              "#d8576b"
             ],
             [
              0.6666666666666666,
              "#ed7953"
             ],
             [
              0.7777777777777778,
              "#fb9f3a"
             ],
             [
              0.8888888888888888,
              "#fdca26"
             ],
             [
              1,
              "#f0f921"
             ]
            ],
            "type": "heatmap"
           }
          ],
          "histogram": [
           {
            "marker": {
             "pattern": {
              "fillmode": "overlay",
              "size": 10,
              "solidity": 0.2
             }
            },
            "type": "histogram"
           }
          ],
          "histogram2d": [
           {
            "colorbar": {
             "outlinewidth": 0,
             "ticks": ""
            },
            "colorscale": [
             [
              0,
              "#0d0887"
             ],
             [
              0.1111111111111111,
              "#46039f"
             ],
             [
              0.2222222222222222,
              "#7201a8"
             ],
             [
              0.3333333333333333,
              "#9c179e"
             ],
             [
              0.4444444444444444,
              "#bd3786"
             ],
             [
              0.5555555555555556,
              "#d8576b"
             ],
             [
              0.6666666666666666,
              "#ed7953"
             ],
             [
              0.7777777777777778,
              "#fb9f3a"
             ],
             [
              0.8888888888888888,
              "#fdca26"
             ],
             [
              1,
              "#f0f921"
             ]
            ],
            "type": "histogram2d"
           }
          ],
          "histogram2dcontour": [
           {
            "colorbar": {
             "outlinewidth": 0,
             "ticks": ""
            },
            "colorscale": [
             [
              0,
              "#0d0887"
             ],
             [
              0.1111111111111111,
              "#46039f"
             ],
             [
              0.2222222222222222,
              "#7201a8"
             ],
             [
              0.3333333333333333,
              "#9c179e"
             ],
             [
              0.4444444444444444,
              "#bd3786"
             ],
             [
              0.5555555555555556,
              "#d8576b"
             ],
             [
              0.6666666666666666,
              "#ed7953"
             ],
             [
              0.7777777777777778,
              "#fb9f3a"
             ],
             [
              0.8888888888888888,
              "#fdca26"
             ],
             [
              1,
              "#f0f921"
             ]
            ],
            "type": "histogram2dcontour"
           }
          ],
          "mesh3d": [
           {
            "colorbar": {
             "outlinewidth": 0,
             "ticks": ""
            },
            "type": "mesh3d"
           }
          ],
          "parcoords": [
           {
            "line": {
             "colorbar": {
              "outlinewidth": 0,
              "ticks": ""
             }
            },
            "type": "parcoords"
           }
          ],
          "pie": [
           {
            "automargin": true,
            "type": "pie"
           }
          ],
          "scatter": [
           {
            "fillpattern": {
             "fillmode": "overlay",
             "size": 10,
             "solidity": 0.2
            },
            "type": "scatter"
           }
          ],
          "scatter3d": [
           {
            "line": {
             "colorbar": {
              "outlinewidth": 0,
              "ticks": ""
             }
            },
            "marker": {
             "colorbar": {
              "outlinewidth": 0,
              "ticks": ""
             }
            },
            "type": "scatter3d"
           }
          ],
          "scattercarpet": [
           {
            "marker": {
             "colorbar": {
              "outlinewidth": 0,
              "ticks": ""
             }
            },
            "type": "scattercarpet"
           }
          ],
          "scattergeo": [
           {
            "marker": {
             "colorbar": {
              "outlinewidth": 0,
              "ticks": ""
             }
            },
            "type": "scattergeo"
           }
          ],
          "scattergl": [
           {
            "marker": {
             "colorbar": {
              "outlinewidth": 0,
              "ticks": ""
             }
            },
            "type": "scattergl"
           }
          ],
          "scattermap": [
           {
            "marker": {
             "colorbar": {
              "outlinewidth": 0,
              "ticks": ""
             }
            },
            "type": "scattermap"
           }
          ],
          "scattermapbox": [
           {
            "marker": {
             "colorbar": {
              "outlinewidth": 0,
              "ticks": ""
             }
            },
            "type": "scattermapbox"
           }
          ],
          "scatterpolar": [
           {
            "marker": {
             "colorbar": {
              "outlinewidth": 0,
              "ticks": ""
             }
            },
            "type": "scatterpolar"
           }
          ],
          "scatterpolargl": [
           {
            "marker": {
             "colorbar": {
              "outlinewidth": 0,
              "ticks": ""
             }
            },
            "type": "scatterpolargl"
           }
          ],
          "scatterternary": [
           {
            "marker": {
             "colorbar": {
              "outlinewidth": 0,
              "ticks": ""
             }
            },
            "type": "scatterternary"
           }
          ],
          "surface": [
           {
            "colorbar": {
             "outlinewidth": 0,
             "ticks": ""
            },
            "colorscale": [
             [
              0,
              "#0d0887"
             ],
             [
              0.1111111111111111,
              "#46039f"
             ],
             [
              0.2222222222222222,
              "#7201a8"
             ],
             [
              0.3333333333333333,
              "#9c179e"
             ],
             [
              0.4444444444444444,
              "#bd3786"
             ],
             [
              0.5555555555555556,
              "#d8576b"
             ],
             [
              0.6666666666666666,
              "#ed7953"
             ],
             [
              0.7777777777777778,
              "#fb9f3a"
             ],
             [
              0.8888888888888888,
              "#fdca26"
             ],
             [
              1,
              "#f0f921"
             ]
            ],
            "type": "surface"
           }
          ],
          "table": [
           {
            "cells": {
             "fill": {
              "color": "#EBF0F8"
             },
             "line": {
              "color": "white"
             }
            },
            "header": {
             "fill": {
              "color": "#C8D4E3"
             },
             "line": {
              "color": "white"
             }
            },
            "type": "table"
           }
          ]
         },
         "layout": {
          "annotationdefaults": {
           "arrowcolor": "#2a3f5f",
           "arrowhead": 0,
           "arrowwidth": 1
          },
          "autotypenumbers": "strict",
          "coloraxis": {
           "colorbar": {
            "outlinewidth": 0,
            "ticks": ""
           }
          },
          "colorscale": {
           "diverging": [
            [
             0,
             "#8e0152"
            ],
            [
             0.1,
             "#c51b7d"
            ],
            [
             0.2,
             "#de77ae"
            ],
            [
             0.3,
             "#f1b6da"
            ],
            [
             0.4,
             "#fde0ef"
            ],
            [
             0.5,
             "#f7f7f7"
            ],
            [
             0.6,
             "#e6f5d0"
            ],
            [
             0.7,
             "#b8e186"
            ],
            [
             0.8,
             "#7fbc41"
            ],
            [
             0.9,
             "#4d9221"
            ],
            [
             1,
             "#276419"
            ]
           ],
           "sequential": [
            [
             0,
             "#0d0887"
            ],
            [
             0.1111111111111111,
             "#46039f"
            ],
            [
             0.2222222222222222,
             "#7201a8"
            ],
            [
             0.3333333333333333,
             "#9c179e"
            ],
            [
             0.4444444444444444,
             "#bd3786"
            ],
            [
             0.5555555555555556,
             "#d8576b"
            ],
            [
             0.6666666666666666,
             "#ed7953"
            ],
            [
             0.7777777777777778,
             "#fb9f3a"
            ],
            [
             0.8888888888888888,
             "#fdca26"
            ],
            [
             1,
             "#f0f921"
            ]
           ],
           "sequentialminus": [
            [
             0,
             "#0d0887"
            ],
            [
             0.1111111111111111,
             "#46039f"
            ],
            [
             0.2222222222222222,
             "#7201a8"
            ],
            [
             0.3333333333333333,
             "#9c179e"
            ],
            [
             0.4444444444444444,
             "#bd3786"
            ],
            [
             0.5555555555555556,
             "#d8576b"
            ],
            [
             0.6666666666666666,
             "#ed7953"
            ],
            [
             0.7777777777777778,
             "#fb9f3a"
            ],
            [
             0.8888888888888888,
             "#fdca26"
            ],
            [
             1,
             "#f0f921"
            ]
           ]
          },
          "colorway": [
           "#636efa",
           "#EF553B",
           "#00cc96",
           "#ab63fa",
           "#FFA15A",
           "#19d3f3",
           "#FF6692",
           "#B6E880",
           "#FF97FF",
           "#FECB52"
          ],
          "font": {
           "color": "#2a3f5f"
          },
          "geo": {
           "bgcolor": "white",
           "lakecolor": "white",
           "landcolor": "#E5ECF6",
           "showlakes": true,
           "showland": true,
           "subunitcolor": "white"
          },
          "hoverlabel": {
           "align": "left"
          },
          "hovermode": "closest",
          "mapbox": {
           "style": "light"
          },
          "paper_bgcolor": "white",
          "plot_bgcolor": "#E5ECF6",
          "polar": {
           "angularaxis": {
            "gridcolor": "white",
            "linecolor": "white",
            "ticks": ""
           },
           "bgcolor": "#E5ECF6",
           "radialaxis": {
            "gridcolor": "white",
            "linecolor": "white",
            "ticks": ""
           }
          },
          "scene": {
           "xaxis": {
            "backgroundcolor": "#E5ECF6",
            "gridcolor": "white",
            "gridwidth": 2,
            "linecolor": "white",
            "showbackground": true,
            "ticks": "",
            "zerolinecolor": "white"
           },
           "yaxis": {
            "backgroundcolor": "#E5ECF6",
            "gridcolor": "white",
            "gridwidth": 2,
            "linecolor": "white",
            "showbackground": true,
            "ticks": "",
            "zerolinecolor": "white"
           },
           "zaxis": {
            "backgroundcolor": "#E5ECF6",
            "gridcolor": "white",
            "gridwidth": 2,
            "linecolor": "white",
            "showbackground": true,
            "ticks": "",
            "zerolinecolor": "white"
           }
          },
          "shapedefaults": {
           "line": {
            "color": "#2a3f5f"
           }
          },
          "ternary": {
           "aaxis": {
            "gridcolor": "white",
            "linecolor": "white",
            "ticks": ""
           },
           "baxis": {
            "gridcolor": "white",
            "linecolor": "white",
            "ticks": ""
           },
           "bgcolor": "#E5ECF6",
           "caxis": {
            "gridcolor": "white",
            "linecolor": "white",
            "ticks": ""
           }
          },
          "title": {
           "x": 0.05
          },
          "xaxis": {
           "automargin": true,
           "gridcolor": "white",
           "linecolor": "white",
           "ticks": "",
           "title": {
            "standoff": 15
           },
           "zerolinecolor": "white",
           "zerolinewidth": 2
          },
          "yaxis": {
           "automargin": true,
           "gridcolor": "white",
           "linecolor": "white",
           "ticks": "",
           "title": {
            "standoff": 15
           },
           "zerolinecolor": "white",
           "zerolinewidth": 2
          }
         }
        }
       }
      }
     },
     "metadata": {},
     "output_type": "display_data"
    }
   ],
   "source": [
    "fig = go.Figure()\n",
    "for data in entropy_num:\n",
    "    fig.add_trace(go.Scatter(\n",
    "        x=np.arange(len(data)),\n",
    "        y=data\n",
    "    ))\n",
    "fig.show()"
   ]
  },
  {
   "cell_type": "code",
   "execution_count": null,
   "id": "5b2679f5",
   "metadata": {},
   "outputs": [],
   "source": []
  }
 ],
 "metadata": {
  "kernelspec": {
   "display_name": ".venv",
   "language": "python",
   "name": "python3"
  },
  "language_info": {
   "codemirror_mode": {
    "name": "ipython",
    "version": 3
   },
   "file_extension": ".py",
   "mimetype": "text/x-python",
   "name": "python",
   "nbconvert_exporter": "python",
   "pygments_lexer": "ipython3",
   "version": "3.12.4"
  }
 },
 "nbformat": 4,
 "nbformat_minor": 5
}
