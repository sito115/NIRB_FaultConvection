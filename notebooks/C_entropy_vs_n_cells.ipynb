{
 "cells": [
  {
   "cell_type": "code",
   "execution_count": 36,
   "id": "28d43c53",
   "metadata": {},
   "outputs": [],
   "source": [
    "import numpy as np\n",
    "import plotly.express as px\n",
    "import plotly.graph_objects as go\n",
    "from pathlib import Path\n",
    "import pandas as pd\n",
    "import pint\n",
    "import sys\n",
    "from typing import List"
   ]
  },
  {
   "cell_type": "code",
   "execution_count": 37,
   "id": "fef9fc7b",
   "metadata": {},
   "outputs": [],
   "source": [
    "sys.path.append(str(Path.cwd().parent))"
   ]
  },
  {
   "cell_type": "code",
   "execution_count": 38,
   "id": "b248ebe4",
   "metadata": {},
   "outputs": [],
   "source": [
    "from src.utils import safe_parse_quantity, calculate_thermal_entropy_generation\n",
    "from comsol_module.comsol_classes import COMSOL_VTU"
   ]
  },
  {
   "cell_type": "code",
   "execution_count": 39,
   "id": "0bc51ba2",
   "metadata": {},
   "outputs": [],
   "source": [
    "ROOT = Path().cwd().parent\n",
    "PARAMETER_SPACE = \"01\"\n",
    "ROOT\n",
    "DATA_TYPE = \"Training\"\n",
    "time_step_idx = -1\n",
    "ureg = pint.get_application_registry()"
   ]
  },
  {
   "cell_type": "code",
   "execution_count": 40,
   "id": "22eef90e",
   "metadata": {},
   "outputs": [],
   "source": [
    "mapped_root = ROOT / \"data\" / PARAMETER_SPACE / f\"{DATA_TYPE}Mapped\"\n",
    "assert mapped_root.exists()\n",
    "mapped_folders : List[Path]= [folder for folder in mapped_root.iterdir() if not folder.is_file()]"
   ]
  },
  {
   "cell_type": "code",
   "execution_count": 41,
   "id": "0151230d",
   "metadata": {},
   "outputs": [],
   "source": [
    "mapped_dic = {}\n",
    "for folder in mapped_folders:\n",
    "    npy_file = folder / \"Exports\" / f\"{DATA_TYPE}_temperatures.npy\"\n",
    "    vti_file = [file for file in folder.rglob(\"*.vt*\")][0]\n",
    "    mapped_dic[folder.stem] = {\"npy\": npy_file, \"vti\" : vti_file, \"entropy_num\" : [], \"entropy_gen\" : []}"
   ]
  },
  {
   "cell_type": "code",
   "execution_count": 42,
   "id": "2c5f4a2f",
   "metadata": {},
   "outputs": [
    {
     "name": "stdout",
     "output_type": "stream",
     "text": [
      "280\n"
     ]
    }
   ],
   "source": [
    "joblib_file = ROOT / \"data\" / PARAMETER_SPACE / f\"{DATA_TYPE}Original\" / f\"{DATA_TYPE}_temperatures.joblib\"\n",
    "assert joblib_file.exists()\n",
    "vtu_file = sorted([file for file in joblib_file.parent.rglob(\"*.vtu\")])\n",
    "original_dic = {}\n",
    "original_dic[\"original\"] = {\"joblib\": joblib_file, \"vtu\" : vtu_file, \"entropy_num\" : [], \"entropy_gen\" : []}\n",
    "original_dic[\"original\"][\"n_cells\"] = []\n",
    "print(len(original_dic[\"original\"][\"vtu\"]))"
   ]
  },
  {
   "cell_type": "markdown",
   "id": "5cb1764b",
   "metadata": {},
   "source": [
    "## Calculate entropy number"
   ]
  },
  {
   "cell_type": "code",
   "execution_count": 43,
   "id": "b06b1401",
   "metadata": {},
   "outputs": [
    {
     "name": "stdout",
     "output_type": "stream",
     "text": [
      "280\n"
     ]
    },
    {
     "data": {
      "text/plain": [
       "[PosixPath('/Users/thomassimader/Documents/NIRB/data/01/Exports/Training_000_parameters.csv'),\n",
       " PosixPath('/Users/thomassimader/Documents/NIRB/data/01/Exports/Training_001_parameters.csv'),\n",
       " PosixPath('/Users/thomassimader/Documents/NIRB/data/01/Exports/Training_002_parameters.csv'),\n",
       " PosixPath('/Users/thomassimader/Documents/NIRB/data/01/Exports/Training_003_parameters.csv'),\n",
       " PosixPath('/Users/thomassimader/Documents/NIRB/data/01/Exports/Training_004_parameters.csv'),\n",
       " PosixPath('/Users/thomassimader/Documents/NIRB/data/01/Exports/Training_005_parameters.csv'),\n",
       " PosixPath('/Users/thomassimader/Documents/NIRB/data/01/Exports/Training_006_parameters.csv'),\n",
       " PosixPath('/Users/thomassimader/Documents/NIRB/data/01/Exports/Training_007_parameters.csv'),\n",
       " PosixPath('/Users/thomassimader/Documents/NIRB/data/01/Exports/Training_008_parameters.csv'),\n",
       " PosixPath('/Users/thomassimader/Documents/NIRB/data/01/Exports/Training_009_parameters.csv'),\n",
       " PosixPath('/Users/thomassimader/Documents/NIRB/data/01/Exports/Training_010_parameters.csv'),\n",
       " PosixPath('/Users/thomassimader/Documents/NIRB/data/01/Exports/Training_011_parameters.csv'),\n",
       " PosixPath('/Users/thomassimader/Documents/NIRB/data/01/Exports/Training_012_parameters.csv'),\n",
       " PosixPath('/Users/thomassimader/Documents/NIRB/data/01/Exports/Training_013_parameters.csv'),\n",
       " PosixPath('/Users/thomassimader/Documents/NIRB/data/01/Exports/Training_014_parameters.csv'),\n",
       " PosixPath('/Users/thomassimader/Documents/NIRB/data/01/Exports/Training_015_parameters.csv'),\n",
       " PosixPath('/Users/thomassimader/Documents/NIRB/data/01/Exports/Training_016_parameters.csv'),\n",
       " PosixPath('/Users/thomassimader/Documents/NIRB/data/01/Exports/Training_017_parameters.csv'),\n",
       " PosixPath('/Users/thomassimader/Documents/NIRB/data/01/Exports/Training_018_parameters.csv'),\n",
       " PosixPath('/Users/thomassimader/Documents/NIRB/data/01/Exports/Training_019_parameters.csv'),\n",
       " PosixPath('/Users/thomassimader/Documents/NIRB/data/01/Exports/Training_020_parameters.csv'),\n",
       " PosixPath('/Users/thomassimader/Documents/NIRB/data/01/Exports/Training_021_parameters.csv'),\n",
       " PosixPath('/Users/thomassimader/Documents/NIRB/data/01/Exports/Training_022_parameters.csv'),\n",
       " PosixPath('/Users/thomassimader/Documents/NIRB/data/01/Exports/Training_023_parameters.csv'),\n",
       " PosixPath('/Users/thomassimader/Documents/NIRB/data/01/Exports/Training_024_parameters.csv'),\n",
       " PosixPath('/Users/thomassimader/Documents/NIRB/data/01/Exports/Training_025_parameters.csv'),\n",
       " PosixPath('/Users/thomassimader/Documents/NIRB/data/01/Exports/Training_026_parameters.csv'),\n",
       " PosixPath('/Users/thomassimader/Documents/NIRB/data/01/Exports/Training_027_parameters.csv'),\n",
       " PosixPath('/Users/thomassimader/Documents/NIRB/data/01/Exports/Training_028_parameters.csv'),\n",
       " PosixPath('/Users/thomassimader/Documents/NIRB/data/01/Exports/Training_029_parameters.csv'),\n",
       " PosixPath('/Users/thomassimader/Documents/NIRB/data/01/Exports/Training_030_parameters.csv'),\n",
       " PosixPath('/Users/thomassimader/Documents/NIRB/data/01/Exports/Training_031_parameters.csv'),\n",
       " PosixPath('/Users/thomassimader/Documents/NIRB/data/01/Exports/Training_032_parameters.csv'),\n",
       " PosixPath('/Users/thomassimader/Documents/NIRB/data/01/Exports/Training_033_parameters.csv'),\n",
       " PosixPath('/Users/thomassimader/Documents/NIRB/data/01/Exports/Training_034_parameters.csv'),\n",
       " PosixPath('/Users/thomassimader/Documents/NIRB/data/01/Exports/Training_035_parameters.csv'),\n",
       " PosixPath('/Users/thomassimader/Documents/NIRB/data/01/Exports/Training_036_parameters.csv'),\n",
       " PosixPath('/Users/thomassimader/Documents/NIRB/data/01/Exports/Training_037_parameters.csv'),\n",
       " PosixPath('/Users/thomassimader/Documents/NIRB/data/01/Exports/Training_038_parameters.csv'),\n",
       " PosixPath('/Users/thomassimader/Documents/NIRB/data/01/Exports/Training_039_parameters.csv'),\n",
       " PosixPath('/Users/thomassimader/Documents/NIRB/data/01/Exports/Training_040_parameters.csv'),\n",
       " PosixPath('/Users/thomassimader/Documents/NIRB/data/01/Exports/Training_041_parameters.csv'),\n",
       " PosixPath('/Users/thomassimader/Documents/NIRB/data/01/Exports/Training_042_parameters.csv'),\n",
       " PosixPath('/Users/thomassimader/Documents/NIRB/data/01/Exports/Training_043_parameters.csv'),\n",
       " PosixPath('/Users/thomassimader/Documents/NIRB/data/01/Exports/Training_044_parameters.csv'),\n",
       " PosixPath('/Users/thomassimader/Documents/NIRB/data/01/Exports/Training_045_parameters.csv'),\n",
       " PosixPath('/Users/thomassimader/Documents/NIRB/data/01/Exports/Training_046_parameters.csv'),\n",
       " PosixPath('/Users/thomassimader/Documents/NIRB/data/01/Exports/Training_047_parameters.csv'),\n",
       " PosixPath('/Users/thomassimader/Documents/NIRB/data/01/Exports/Training_048_parameters.csv'),\n",
       " PosixPath('/Users/thomassimader/Documents/NIRB/data/01/Exports/Training_049_parameters.csv'),\n",
       " PosixPath('/Users/thomassimader/Documents/NIRB/data/01/Exports/Training_050_parameters.csv'),\n",
       " PosixPath('/Users/thomassimader/Documents/NIRB/data/01/Exports/Training_051_parameters.csv'),\n",
       " PosixPath('/Users/thomassimader/Documents/NIRB/data/01/Exports/Training_052_parameters.csv'),\n",
       " PosixPath('/Users/thomassimader/Documents/NIRB/data/01/Exports/Training_053_parameters.csv'),\n",
       " PosixPath('/Users/thomassimader/Documents/NIRB/data/01/Exports/Training_054_parameters.csv'),\n",
       " PosixPath('/Users/thomassimader/Documents/NIRB/data/01/Exports/Training_055_parameters.csv'),\n",
       " PosixPath('/Users/thomassimader/Documents/NIRB/data/01/Exports/Training_056_parameters.csv'),\n",
       " PosixPath('/Users/thomassimader/Documents/NIRB/data/01/Exports/Training_057_parameters.csv'),\n",
       " PosixPath('/Users/thomassimader/Documents/NIRB/data/01/Exports/Training_058_parameters.csv'),\n",
       " PosixPath('/Users/thomassimader/Documents/NIRB/data/01/Exports/Training_059_parameters.csv'),\n",
       " PosixPath('/Users/thomassimader/Documents/NIRB/data/01/Exports/Training_060_parameters.csv'),\n",
       " PosixPath('/Users/thomassimader/Documents/NIRB/data/01/Exports/Training_061_parameters.csv'),\n",
       " PosixPath('/Users/thomassimader/Documents/NIRB/data/01/Exports/Training_062_parameters.csv'),\n",
       " PosixPath('/Users/thomassimader/Documents/NIRB/data/01/Exports/Training_063_parameters.csv'),\n",
       " PosixPath('/Users/thomassimader/Documents/NIRB/data/01/Exports/Training_064_parameters.csv'),\n",
       " PosixPath('/Users/thomassimader/Documents/NIRB/data/01/Exports/Training_065_parameters.csv'),\n",
       " PosixPath('/Users/thomassimader/Documents/NIRB/data/01/Exports/Training_066_parameters.csv'),\n",
       " PosixPath('/Users/thomassimader/Documents/NIRB/data/01/Exports/Training_067_parameters.csv'),\n",
       " PosixPath('/Users/thomassimader/Documents/NIRB/data/01/Exports/Training_068_parameters.csv'),\n",
       " PosixPath('/Users/thomassimader/Documents/NIRB/data/01/Exports/Training_069_parameters.csv'),\n",
       " PosixPath('/Users/thomassimader/Documents/NIRB/data/01/Exports/Training_070_parameters.csv'),\n",
       " PosixPath('/Users/thomassimader/Documents/NIRB/data/01/Exports/Training_071_parameters.csv'),\n",
       " PosixPath('/Users/thomassimader/Documents/NIRB/data/01/Exports/Training_072_parameters.csv'),\n",
       " PosixPath('/Users/thomassimader/Documents/NIRB/data/01/Exports/Training_073_parameters.csv'),\n",
       " PosixPath('/Users/thomassimader/Documents/NIRB/data/01/Exports/Training_074_parameters.csv'),\n",
       " PosixPath('/Users/thomassimader/Documents/NIRB/data/01/Exports/Training_075_parameters.csv'),\n",
       " PosixPath('/Users/thomassimader/Documents/NIRB/data/01/Exports/Training_076_parameters.csv'),\n",
       " PosixPath('/Users/thomassimader/Documents/NIRB/data/01/Exports/Training_077_parameters.csv'),\n",
       " PosixPath('/Users/thomassimader/Documents/NIRB/data/01/Exports/Training_078_parameters.csv'),\n",
       " PosixPath('/Users/thomassimader/Documents/NIRB/data/01/Exports/Training_079_parameters.csv'),\n",
       " PosixPath('/Users/thomassimader/Documents/NIRB/data/01/Exports/Training_080_parameters.csv'),\n",
       " PosixPath('/Users/thomassimader/Documents/NIRB/data/01/Exports/Training_081_parameters.csv'),\n",
       " PosixPath('/Users/thomassimader/Documents/NIRB/data/01/Exports/Training_082_parameters.csv'),\n",
       " PosixPath('/Users/thomassimader/Documents/NIRB/data/01/Exports/Training_083_parameters.csv'),\n",
       " PosixPath('/Users/thomassimader/Documents/NIRB/data/01/Exports/Training_084_parameters.csv'),\n",
       " PosixPath('/Users/thomassimader/Documents/NIRB/data/01/Exports/Training_085_parameters.csv'),\n",
       " PosixPath('/Users/thomassimader/Documents/NIRB/data/01/Exports/Training_086_parameters.csv'),\n",
       " PosixPath('/Users/thomassimader/Documents/NIRB/data/01/Exports/Training_087_parameters.csv'),\n",
       " PosixPath('/Users/thomassimader/Documents/NIRB/data/01/Exports/Training_088_parameters.csv'),\n",
       " PosixPath('/Users/thomassimader/Documents/NIRB/data/01/Exports/Training_089_parameters.csv'),\n",
       " PosixPath('/Users/thomassimader/Documents/NIRB/data/01/Exports/Training_090_parameters.csv'),\n",
       " PosixPath('/Users/thomassimader/Documents/NIRB/data/01/Exports/Training_091_parameters.csv'),\n",
       " PosixPath('/Users/thomassimader/Documents/NIRB/data/01/Exports/Training_092_parameters.csv'),\n",
       " PosixPath('/Users/thomassimader/Documents/NIRB/data/01/Exports/Training_093_parameters.csv'),\n",
       " PosixPath('/Users/thomassimader/Documents/NIRB/data/01/Exports/Training_094_parameters.csv'),\n",
       " PosixPath('/Users/thomassimader/Documents/NIRB/data/01/Exports/Training_095_parameters.csv'),\n",
       " PosixPath('/Users/thomassimader/Documents/NIRB/data/01/Exports/Training_096_parameters.csv'),\n",
       " PosixPath('/Users/thomassimader/Documents/NIRB/data/01/Exports/Training_097_parameters.csv'),\n",
       " PosixPath('/Users/thomassimader/Documents/NIRB/data/01/Exports/Training_098_parameters.csv'),\n",
       " PosixPath('/Users/thomassimader/Documents/NIRB/data/01/Exports/Training_099_parameters.csv'),\n",
       " PosixPath('/Users/thomassimader/Documents/NIRB/data/01/Exports/Training_100_parameters.csv'),\n",
       " PosixPath('/Users/thomassimader/Documents/NIRB/data/01/Exports/Training_101_parameters.csv'),\n",
       " PosixPath('/Users/thomassimader/Documents/NIRB/data/01/Exports/Training_102_parameters.csv'),\n",
       " PosixPath('/Users/thomassimader/Documents/NIRB/data/01/Exports/Training_103_parameters.csv'),\n",
       " PosixPath('/Users/thomassimader/Documents/NIRB/data/01/Exports/Training_104_parameters.csv'),\n",
       " PosixPath('/Users/thomassimader/Documents/NIRB/data/01/Exports/Training_105_parameters.csv'),\n",
       " PosixPath('/Users/thomassimader/Documents/NIRB/data/01/Exports/Training_106_parameters.csv'),\n",
       " PosixPath('/Users/thomassimader/Documents/NIRB/data/01/Exports/Training_107_parameters.csv'),\n",
       " PosixPath('/Users/thomassimader/Documents/NIRB/data/01/Exports/Training_108_parameters.csv'),\n",
       " PosixPath('/Users/thomassimader/Documents/NIRB/data/01/Exports/Training_109_parameters.csv'),\n",
       " PosixPath('/Users/thomassimader/Documents/NIRB/data/01/Exports/Training_110_parameters.csv'),\n",
       " PosixPath('/Users/thomassimader/Documents/NIRB/data/01/Exports/Training_111_parameters.csv'),\n",
       " PosixPath('/Users/thomassimader/Documents/NIRB/data/01/Exports/Training_112_parameters.csv'),\n",
       " PosixPath('/Users/thomassimader/Documents/NIRB/data/01/Exports/Training_113_parameters.csv'),\n",
       " PosixPath('/Users/thomassimader/Documents/NIRB/data/01/Exports/Training_114_parameters.csv'),\n",
       " PosixPath('/Users/thomassimader/Documents/NIRB/data/01/Exports/Training_115_parameters.csv'),\n",
       " PosixPath('/Users/thomassimader/Documents/NIRB/data/01/Exports/Training_116_parameters.csv'),\n",
       " PosixPath('/Users/thomassimader/Documents/NIRB/data/01/Exports/Training_117_parameters.csv'),\n",
       " PosixPath('/Users/thomassimader/Documents/NIRB/data/01/Exports/Training_118_parameters.csv'),\n",
       " PosixPath('/Users/thomassimader/Documents/NIRB/data/01/Exports/Training_119_parameters.csv'),\n",
       " PosixPath('/Users/thomassimader/Documents/NIRB/data/01/Exports/Training_120_parameters.csv'),\n",
       " PosixPath('/Users/thomassimader/Documents/NIRB/data/01/Exports/Training_121_parameters.csv'),\n",
       " PosixPath('/Users/thomassimader/Documents/NIRB/data/01/Exports/Training_122_parameters.csv'),\n",
       " PosixPath('/Users/thomassimader/Documents/NIRB/data/01/Exports/Training_123_parameters.csv'),\n",
       " PosixPath('/Users/thomassimader/Documents/NIRB/data/01/Exports/Training_124_parameters.csv'),\n",
       " PosixPath('/Users/thomassimader/Documents/NIRB/data/01/Exports/Training_125_parameters.csv'),\n",
       " PosixPath('/Users/thomassimader/Documents/NIRB/data/01/Exports/Training_126_parameters.csv'),\n",
       " PosixPath('/Users/thomassimader/Documents/NIRB/data/01/Exports/Training_127_parameters.csv'),\n",
       " PosixPath('/Users/thomassimader/Documents/NIRB/data/01/Exports/Training_128_parameters.csv'),\n",
       " PosixPath('/Users/thomassimader/Documents/NIRB/data/01/Exports/Training_129_parameters.csv'),\n",
       " PosixPath('/Users/thomassimader/Documents/NIRB/data/01/Exports/Training_130_parameters.csv'),\n",
       " PosixPath('/Users/thomassimader/Documents/NIRB/data/01/Exports/Training_131_parameters.csv'),\n",
       " PosixPath('/Users/thomassimader/Documents/NIRB/data/01/Exports/Training_132_parameters.csv'),\n",
       " PosixPath('/Users/thomassimader/Documents/NIRB/data/01/Exports/Training_133_parameters.csv'),\n",
       " PosixPath('/Users/thomassimader/Documents/NIRB/data/01/Exports/Training_134_parameters.csv'),\n",
       " PosixPath('/Users/thomassimader/Documents/NIRB/data/01/Exports/Training_135_parameters.csv'),\n",
       " PosixPath('/Users/thomassimader/Documents/NIRB/data/01/Exports/Training_136_parameters.csv'),\n",
       " PosixPath('/Users/thomassimader/Documents/NIRB/data/01/Exports/Training_137_parameters.csv'),\n",
       " PosixPath('/Users/thomassimader/Documents/NIRB/data/01/Exports/Training_138_parameters.csv'),\n",
       " PosixPath('/Users/thomassimader/Documents/NIRB/data/01/Exports/Training_139_parameters.csv'),\n",
       " PosixPath('/Users/thomassimader/Documents/NIRB/data/01/Exports/Training_140_parameters.csv'),\n",
       " PosixPath('/Users/thomassimader/Documents/NIRB/data/01/Exports/Training_141_parameters.csv'),\n",
       " PosixPath('/Users/thomassimader/Documents/NIRB/data/01/Exports/Training_142_parameters.csv'),\n",
       " PosixPath('/Users/thomassimader/Documents/NIRB/data/01/Exports/Training_143_parameters.csv'),\n",
       " PosixPath('/Users/thomassimader/Documents/NIRB/data/01/Exports/Training_144_parameters.csv'),\n",
       " PosixPath('/Users/thomassimader/Documents/NIRB/data/01/Exports/Training_145_parameters.csv'),\n",
       " PosixPath('/Users/thomassimader/Documents/NIRB/data/01/Exports/Training_146_parameters.csv'),\n",
       " PosixPath('/Users/thomassimader/Documents/NIRB/data/01/Exports/Training_147_parameters.csv'),\n",
       " PosixPath('/Users/thomassimader/Documents/NIRB/data/01/Exports/Training_148_parameters.csv'),\n",
       " PosixPath('/Users/thomassimader/Documents/NIRB/data/01/Exports/Training_149_parameters.csv'),\n",
       " PosixPath('/Users/thomassimader/Documents/NIRB/data/01/Exports/Training_150_parameters.csv'),\n",
       " PosixPath('/Users/thomassimader/Documents/NIRB/data/01/Exports/Training_151_parameters.csv'),\n",
       " PosixPath('/Users/thomassimader/Documents/NIRB/data/01/Exports/Training_152_parameters.csv'),\n",
       " PosixPath('/Users/thomassimader/Documents/NIRB/data/01/Exports/Training_153_parameters.csv'),\n",
       " PosixPath('/Users/thomassimader/Documents/NIRB/data/01/Exports/Training_154_parameters.csv'),\n",
       " PosixPath('/Users/thomassimader/Documents/NIRB/data/01/Exports/Training_155_parameters.csv'),\n",
       " PosixPath('/Users/thomassimader/Documents/NIRB/data/01/Exports/Training_156_parameters.csv'),\n",
       " PosixPath('/Users/thomassimader/Documents/NIRB/data/01/Exports/Training_157_parameters.csv'),\n",
       " PosixPath('/Users/thomassimader/Documents/NIRB/data/01/Exports/Training_158_parameters.csv'),\n",
       " PosixPath('/Users/thomassimader/Documents/NIRB/data/01/Exports/Training_159_parameters.csv'),\n",
       " PosixPath('/Users/thomassimader/Documents/NIRB/data/01/Exports/Training_180_parameters.csv'),\n",
       " PosixPath('/Users/thomassimader/Documents/NIRB/data/01/Exports/Training_181_parameters.csv'),\n",
       " PosixPath('/Users/thomassimader/Documents/NIRB/data/01/Exports/Training_182_parameters.csv'),\n",
       " PosixPath('/Users/thomassimader/Documents/NIRB/data/01/Exports/Training_183_parameters.csv'),\n",
       " PosixPath('/Users/thomassimader/Documents/NIRB/data/01/Exports/Training_184_parameters.csv'),\n",
       " PosixPath('/Users/thomassimader/Documents/NIRB/data/01/Exports/Training_185_parameters.csv'),\n",
       " PosixPath('/Users/thomassimader/Documents/NIRB/data/01/Exports/Training_186_parameters.csv'),\n",
       " PosixPath('/Users/thomassimader/Documents/NIRB/data/01/Exports/Training_187_parameters.csv'),\n",
       " PosixPath('/Users/thomassimader/Documents/NIRB/data/01/Exports/Training_188_parameters.csv'),\n",
       " PosixPath('/Users/thomassimader/Documents/NIRB/data/01/Exports/Training_189_parameters.csv'),\n",
       " PosixPath('/Users/thomassimader/Documents/NIRB/data/01/Exports/Training_190_parameters.csv'),\n",
       " PosixPath('/Users/thomassimader/Documents/NIRB/data/01/Exports/Training_191_parameters.csv'),\n",
       " PosixPath('/Users/thomassimader/Documents/NIRB/data/01/Exports/Training_192_parameters.csv'),\n",
       " PosixPath('/Users/thomassimader/Documents/NIRB/data/01/Exports/Training_193_parameters.csv'),\n",
       " PosixPath('/Users/thomassimader/Documents/NIRB/data/01/Exports/Training_194_parameters.csv'),\n",
       " PosixPath('/Users/thomassimader/Documents/NIRB/data/01/Exports/Training_195_parameters.csv'),\n",
       " PosixPath('/Users/thomassimader/Documents/NIRB/data/01/Exports/Training_196_parameters.csv'),\n",
       " PosixPath('/Users/thomassimader/Documents/NIRB/data/01/Exports/Training_197_parameters.csv'),\n",
       " PosixPath('/Users/thomassimader/Documents/NIRB/data/01/Exports/Training_198_parameters.csv'),\n",
       " PosixPath('/Users/thomassimader/Documents/NIRB/data/01/Exports/Training_199_parameters.csv'),\n",
       " PosixPath('/Users/thomassimader/Documents/NIRB/data/01/Exports/Training_200_parameters.csv'),\n",
       " PosixPath('/Users/thomassimader/Documents/NIRB/data/01/Exports/Training_201_parameters.csv'),\n",
       " PosixPath('/Users/thomassimader/Documents/NIRB/data/01/Exports/Training_202_parameters.csv'),\n",
       " PosixPath('/Users/thomassimader/Documents/NIRB/data/01/Exports/Training_203_parameters.csv'),\n",
       " PosixPath('/Users/thomassimader/Documents/NIRB/data/01/Exports/Training_204_parameters.csv'),\n",
       " PosixPath('/Users/thomassimader/Documents/NIRB/data/01/Exports/Training_205_parameters.csv'),\n",
       " PosixPath('/Users/thomassimader/Documents/NIRB/data/01/Exports/Training_206_parameters.csv'),\n",
       " PosixPath('/Users/thomassimader/Documents/NIRB/data/01/Exports/Training_207_parameters.csv'),\n",
       " PosixPath('/Users/thomassimader/Documents/NIRB/data/01/Exports/Training_208_parameters.csv'),\n",
       " PosixPath('/Users/thomassimader/Documents/NIRB/data/01/Exports/Training_209_parameters.csv'),\n",
       " PosixPath('/Users/thomassimader/Documents/NIRB/data/01/Exports/Training_210_parameters.csv'),\n",
       " PosixPath('/Users/thomassimader/Documents/NIRB/data/01/Exports/Training_211_parameters.csv'),\n",
       " PosixPath('/Users/thomassimader/Documents/NIRB/data/01/Exports/Training_212_parameters.csv'),\n",
       " PosixPath('/Users/thomassimader/Documents/NIRB/data/01/Exports/Training_213_parameters.csv'),\n",
       " PosixPath('/Users/thomassimader/Documents/NIRB/data/01/Exports/Training_214_parameters.csv'),\n",
       " PosixPath('/Users/thomassimader/Documents/NIRB/data/01/Exports/Training_215_parameters.csv'),\n",
       " PosixPath('/Users/thomassimader/Documents/NIRB/data/01/Exports/Training_216_parameters.csv'),\n",
       " PosixPath('/Users/thomassimader/Documents/NIRB/data/01/Exports/Training_217_parameters.csv'),\n",
       " PosixPath('/Users/thomassimader/Documents/NIRB/data/01/Exports/Training_218_parameters.csv'),\n",
       " PosixPath('/Users/thomassimader/Documents/NIRB/data/01/Exports/Training_219_parameters.csv'),\n",
       " PosixPath('/Users/thomassimader/Documents/NIRB/data/01/Exports/Training_220_parameters.csv'),\n",
       " PosixPath('/Users/thomassimader/Documents/NIRB/data/01/Exports/Training_221_parameters.csv'),\n",
       " PosixPath('/Users/thomassimader/Documents/NIRB/data/01/Exports/Training_222_parameters.csv'),\n",
       " PosixPath('/Users/thomassimader/Documents/NIRB/data/01/Exports/Training_223_parameters.csv'),\n",
       " PosixPath('/Users/thomassimader/Documents/NIRB/data/01/Exports/Training_224_parameters.csv'),\n",
       " PosixPath('/Users/thomassimader/Documents/NIRB/data/01/Exports/Training_225_parameters.csv'),\n",
       " PosixPath('/Users/thomassimader/Documents/NIRB/data/01/Exports/Training_226_parameters.csv'),\n",
       " PosixPath('/Users/thomassimader/Documents/NIRB/data/01/Exports/Training_227_parameters.csv'),\n",
       " PosixPath('/Users/thomassimader/Documents/NIRB/data/01/Exports/Training_228_parameters.csv'),\n",
       " PosixPath('/Users/thomassimader/Documents/NIRB/data/01/Exports/Training_229_parameters.csv'),\n",
       " PosixPath('/Users/thomassimader/Documents/NIRB/data/01/Exports/Training_230_parameters.csv'),\n",
       " PosixPath('/Users/thomassimader/Documents/NIRB/data/01/Exports/Training_231_parameters.csv'),\n",
       " PosixPath('/Users/thomassimader/Documents/NIRB/data/01/Exports/Training_232_parameters.csv'),\n",
       " PosixPath('/Users/thomassimader/Documents/NIRB/data/01/Exports/Training_233_parameters.csv'),\n",
       " PosixPath('/Users/thomassimader/Documents/NIRB/data/01/Exports/Training_234_parameters.csv'),\n",
       " PosixPath('/Users/thomassimader/Documents/NIRB/data/01/Exports/Training_235_parameters.csv'),\n",
       " PosixPath('/Users/thomassimader/Documents/NIRB/data/01/Exports/Training_236_parameters.csv'),\n",
       " PosixPath('/Users/thomassimader/Documents/NIRB/data/01/Exports/Training_237_parameters.csv'),\n",
       " PosixPath('/Users/thomassimader/Documents/NIRB/data/01/Exports/Training_238_parameters.csv'),\n",
       " PosixPath('/Users/thomassimader/Documents/NIRB/data/01/Exports/Training_239_parameters.csv'),\n",
       " PosixPath('/Users/thomassimader/Documents/NIRB/data/01/Exports/Training_240_parameters.csv'),\n",
       " PosixPath('/Users/thomassimader/Documents/NIRB/data/01/Exports/Training_241_parameters.csv'),\n",
       " PosixPath('/Users/thomassimader/Documents/NIRB/data/01/Exports/Training_242_parameters.csv'),\n",
       " PosixPath('/Users/thomassimader/Documents/NIRB/data/01/Exports/Training_243_parameters.csv'),\n",
       " PosixPath('/Users/thomassimader/Documents/NIRB/data/01/Exports/Training_244_parameters.csv'),\n",
       " PosixPath('/Users/thomassimader/Documents/NIRB/data/01/Exports/Training_245_parameters.csv'),\n",
       " PosixPath('/Users/thomassimader/Documents/NIRB/data/01/Exports/Training_246_parameters.csv'),\n",
       " PosixPath('/Users/thomassimader/Documents/NIRB/data/01/Exports/Training_247_parameters.csv'),\n",
       " PosixPath('/Users/thomassimader/Documents/NIRB/data/01/Exports/Training_248_parameters.csv'),\n",
       " PosixPath('/Users/thomassimader/Documents/NIRB/data/01/Exports/Training_249_parameters.csv'),\n",
       " PosixPath('/Users/thomassimader/Documents/NIRB/data/01/Exports/Training_250_parameters.csv'),\n",
       " PosixPath('/Users/thomassimader/Documents/NIRB/data/01/Exports/Training_251_parameters.csv'),\n",
       " PosixPath('/Users/thomassimader/Documents/NIRB/data/01/Exports/Training_252_parameters.csv'),\n",
       " PosixPath('/Users/thomassimader/Documents/NIRB/data/01/Exports/Training_253_parameters.csv'),\n",
       " PosixPath('/Users/thomassimader/Documents/NIRB/data/01/Exports/Training_254_parameters.csv'),\n",
       " PosixPath('/Users/thomassimader/Documents/NIRB/data/01/Exports/Training_255_parameters.csv'),\n",
       " PosixPath('/Users/thomassimader/Documents/NIRB/data/01/Exports/Training_256_parameters.csv'),\n",
       " PosixPath('/Users/thomassimader/Documents/NIRB/data/01/Exports/Training_257_parameters.csv'),\n",
       " PosixPath('/Users/thomassimader/Documents/NIRB/data/01/Exports/Training_258_parameters.csv'),\n",
       " PosixPath('/Users/thomassimader/Documents/NIRB/data/01/Exports/Training_259_parameters.csv'),\n",
       " PosixPath('/Users/thomassimader/Documents/NIRB/data/01/Exports/Training_260_parameters.csv'),\n",
       " PosixPath('/Users/thomassimader/Documents/NIRB/data/01/Exports/Training_261_parameters.csv'),\n",
       " PosixPath('/Users/thomassimader/Documents/NIRB/data/01/Exports/Training_262_parameters.csv'),\n",
       " PosixPath('/Users/thomassimader/Documents/NIRB/data/01/Exports/Training_263_parameters.csv'),\n",
       " PosixPath('/Users/thomassimader/Documents/NIRB/data/01/Exports/Training_264_parameters.csv'),\n",
       " PosixPath('/Users/thomassimader/Documents/NIRB/data/01/Exports/Training_265_parameters.csv'),\n",
       " PosixPath('/Users/thomassimader/Documents/NIRB/data/01/Exports/Training_266_parameters.csv'),\n",
       " PosixPath('/Users/thomassimader/Documents/NIRB/data/01/Exports/Training_267_parameters.csv'),\n",
       " PosixPath('/Users/thomassimader/Documents/NIRB/data/01/Exports/Training_268_parameters.csv'),\n",
       " PosixPath('/Users/thomassimader/Documents/NIRB/data/01/Exports/Training_269_parameters.csv'),\n",
       " PosixPath('/Users/thomassimader/Documents/NIRB/data/01/Exports/Training_270_parameters.csv'),\n",
       " PosixPath('/Users/thomassimader/Documents/NIRB/data/01/Exports/Training_271_parameters.csv'),\n",
       " PosixPath('/Users/thomassimader/Documents/NIRB/data/01/Exports/Training_272_parameters.csv'),\n",
       " PosixPath('/Users/thomassimader/Documents/NIRB/data/01/Exports/Training_273_parameters.csv'),\n",
       " PosixPath('/Users/thomassimader/Documents/NIRB/data/01/Exports/Training_274_parameters.csv'),\n",
       " PosixPath('/Users/thomassimader/Documents/NIRB/data/01/Exports/Training_275_parameters.csv'),\n",
       " PosixPath('/Users/thomassimader/Documents/NIRB/data/01/Exports/Training_276_parameters.csv'),\n",
       " PosixPath('/Users/thomassimader/Documents/NIRB/data/01/Exports/Training_277_parameters.csv'),\n",
       " PosixPath('/Users/thomassimader/Documents/NIRB/data/01/Exports/Training_278_parameters.csv'),\n",
       " PosixPath('/Users/thomassimader/Documents/NIRB/data/01/Exports/Training_279_parameters.csv'),\n",
       " PosixPath('/Users/thomassimader/Documents/NIRB/data/01/Exports/Training_280_parameters.csv'),\n",
       " PosixPath('/Users/thomassimader/Documents/NIRB/data/01/Exports/Training_281_parameters.csv'),\n",
       " PosixPath('/Users/thomassimader/Documents/NIRB/data/01/Exports/Training_282_parameters.csv'),\n",
       " PosixPath('/Users/thomassimader/Documents/NIRB/data/01/Exports/Training_283_parameters.csv'),\n",
       " PosixPath('/Users/thomassimader/Documents/NIRB/data/01/Exports/Training_284_parameters.csv'),\n",
       " PosixPath('/Users/thomassimader/Documents/NIRB/data/01/Exports/Training_285_parameters.csv'),\n",
       " PosixPath('/Users/thomassimader/Documents/NIRB/data/01/Exports/Training_286_parameters.csv'),\n",
       " PosixPath('/Users/thomassimader/Documents/NIRB/data/01/Exports/Training_287_parameters.csv'),\n",
       " PosixPath('/Users/thomassimader/Documents/NIRB/data/01/Exports/Training_288_parameters.csv'),\n",
       " PosixPath('/Users/thomassimader/Documents/NIRB/data/01/Exports/Training_289_parameters.csv'),\n",
       " PosixPath('/Users/thomassimader/Documents/NIRB/data/01/Exports/Training_290_parameters.csv'),\n",
       " PosixPath('/Users/thomassimader/Documents/NIRB/data/01/Exports/Training_291_parameters.csv'),\n",
       " PosixPath('/Users/thomassimader/Documents/NIRB/data/01/Exports/Training_292_parameters.csv'),\n",
       " PosixPath('/Users/thomassimader/Documents/NIRB/data/01/Exports/Training_293_parameters.csv'),\n",
       " PosixPath('/Users/thomassimader/Documents/NIRB/data/01/Exports/Training_294_parameters.csv'),\n",
       " PosixPath('/Users/thomassimader/Documents/NIRB/data/01/Exports/Training_295_parameters.csv'),\n",
       " PosixPath('/Users/thomassimader/Documents/NIRB/data/01/Exports/Training_296_parameters.csv'),\n",
       " PosixPath('/Users/thomassimader/Documents/NIRB/data/01/Exports/Training_297_parameters.csv'),\n",
       " PosixPath('/Users/thomassimader/Documents/NIRB/data/01/Exports/Training_298_parameters.csv'),\n",
       " PosixPath('/Users/thomassimader/Documents/NIRB/data/01/Exports/Training_299_parameters.csv')]"
      ]
     },
     "execution_count": 43,
     "metadata": {},
     "output_type": "execute_result"
    }
   ],
   "source": [
    "param_folder = ROOT / \"data\" / PARAMETER_SPACE / \"Exports\"\n",
    "assert param_folder.exists()\n",
    "param_files = sorted([path for path in param_folder.rglob(f\"{DATA_TYPE}*.csv\")])\n",
    "print(len(param_files))\n",
    "param_files\n"
   ]
  },
  {
   "cell_type": "markdown",
   "id": "2c70c96f",
   "metadata": {},
   "source": [
    "### Mapped Meshes for different sizes"
   ]
  },
  {
   "cell_type": "code",
   "execution_count": null,
   "id": "06993e8e",
   "metadata": {},
   "outputs": [
    {
     "name": "stdout",
     "output_type": "stream",
     "text": [
      "(300, 41, 20161)\n",
      "(280, 41, 20161)\n"
     ]
    }
   ],
   "source": [
    "for idx_mesh, (key, values) in enumerate(mapped_dic.items()):\n",
    "    comsol_data = COMSOL_VTU(values[\"vti\"])\n",
    "    mapped_dic[key][\"n_cells\"] = comsol_data.mesh.n_cells\n",
    "    temperatures = np.load(values[\"npy\"])\n",
    "    print(temperatures.shape)\n",
    "    mask = ~(temperatures == 0).all(axis=(1, 2)) # omit indices that are not computed yet\n",
    "    temperatures = temperatures[mask]\n",
    "    print(temperatures.shape)\n",
    "    assert len(temperatures) == len(param_files)\n",
    "    for (temperature, param_file) in zip(temperatures, param_files):\n",
    "        param_df = pd.read_csv(param_file, index_col = 0)\n",
    "        param_df['quantity_pint'] = param_df[param_df.columns[-1]].apply(lambda x : safe_parse_quantity(x))\n",
    "        lambda_therm = (1 - param_df.loc['host_phi', \"quantity_pint\"]) * param_df.loc['host_lambda', \"quantity_pint\"] + \\\n",
    "                            param_df.loc['host_phi', \"quantity_pint\"] * (4.2 * ureg.watt / (ureg.meter * ureg.kelvin))\n",
    "        t0      = 0.5 * (param_df.loc[\"T_h\", \"quantity_pint\"] + param_df.loc[\"T_c\", \"quantity_pint\"])\n",
    "        delta_T = (param_df.loc['T_h', \"quantity_pint\"]  - param_df.loc[\"T_c\", \"quantity_pint\"])\n",
    "        s0_total, entropy_number = calculate_thermal_entropy_generation(\n",
    "            comsol_data.mesh,\n",
    "            temperature[time_step_idx],\n",
    "            lambda_therm,\n",
    "            t0,\n",
    "            delta_T,\n",
    "            ureg,\n",
    "        )\n",
    "        # L = (comsol_data.mesh.bounds.z_max - comsol_data.mesh.bounds.z_min) * ureg.meter\n",
    "        # print(f\"{idx_snap:03d} : {(lambda_therm * delta_T**2) / (L**2 * t0**2):.5e}\") #s0_characteristic =\n",
    "        mapped_dic[key][\"entropy_gen\"].append(s0_total.magnitude)\n",
    "        mapped_dic[key][\"entropy_num\"].append(entropy_number.magnitude)\n"
   ]
  },
  {
   "cell_type": "markdown",
   "id": "3f7af65e",
   "metadata": {},
   "source": [
    "### Original COMSOL data"
   ]
  },
  {
   "cell_type": "code",
   "execution_count": 45,
   "id": "fca35eb3",
   "metadata": {},
   "outputs": [],
   "source": [
    "idxs = []\n",
    "for file, param_file in zip(original_dic[\"original\"][\"vtu\"], param_files):\n",
    "    idx = int(file.stem.split(\"_\")[1])\n",
    "    assert idx == int(param_file.stem.split(\"_\")[1])\n",
    "    idxs.append(idx)\n",
    "    param_df = pd.read_csv(param_file, index_col = 0)\n",
    "    param_df['quantity_pint'] = param_df[param_df.columns[-1]].apply(lambda x : safe_parse_quantity(x))\n",
    "    lambda_therm = (1 - param_df.loc['host_phi', \"quantity_pint\"]) * param_df.loc['host_lambda', \"quantity_pint\"] + \\\n",
    "                         param_df.loc['host_phi', \"quantity_pint\"] * (4.2 * ureg.watt / (ureg.meter * ureg.kelvin))\n",
    "    t0      = 0.5 * (param_df.loc[\"T_h\", \"quantity_pint\"] + param_df.loc[\"T_c\", \"quantity_pint\"])\n",
    "    delta_T = (param_df.loc['T_h', \"quantity_pint\"]  - param_df.loc[\"T_c\", \"quantity_pint\"])\n",
    "    comsol_data = COMSOL_VTU(file)\n",
    "    assert int(file.stem.split('_')[-1]) == idx\n",
    "    temp_field = comsol_data.format_field(\"Temperature\", time_step_idx)\n",
    "    s0_total, entropy_number = calculate_thermal_entropy_generation(\n",
    "        comsol_data.mesh,\n",
    "        comsol_data.mesh.point_data[temp_field],\n",
    "        lambda_therm,\n",
    "        t0,\n",
    "        delta_T,\n",
    "        ureg,\n",
    "    )\n",
    "    # L = (comsol_data.mesh.bounds.z_max - comsol_data.mesh.bounds.z_min) * ureg.meter\n",
    "    # print(f\"{idx:03d} : {(lambda_therm * delta_T**2) / (L**2 * t0**2):.5e}\") #s0_characteristic =\n",
    "    original_dic[\"original\"][\"entropy_gen\"].append(s0_total.magnitude)\n",
    "    original_dic[\"original\"][\"entropy_num\"].append(entropy_number.magnitude)\n",
    "    original_dic[\"original\"][\"n_cells\"].append(comsol_data.mesh.n_cells)"
   ]
  },
  {
   "cell_type": "code",
   "execution_count": 46,
   "id": "7dc2f0b2",
   "metadata": {},
   "outputs": [
    {
     "name": "stdout",
     "output_type": "stream",
     "text": [
      "280\n",
      "280\n"
     ]
    }
   ],
   "source": [
    "print(len(original_dic[\"original\"][\"entropy_gen\"]))\n",
    "print(len(mapped_dic['s100_100_100_b0_4000_0_5000_-4000_0'][\"entropy_gen\"]))"
   ]
  },
  {
   "cell_type": "markdown",
   "id": "e3fa87c0",
   "metadata": {},
   "source": [
    "## Plot"
   ]
  },
  {
   "cell_type": "code",
   "execution_count": 47,
   "id": "8b4a527e",
   "metadata": {},
   "outputs": [
    {
     "name": "stdout",
     "output_type": "stream",
     "text": [
      "280\n"
     ]
    }
   ],
   "source": [
    "N_SNAPS = len(original_dic[\"original\"][\"vtu\"])\n",
    "colors = px.colors.sample_colorscale(\"turbo\", [n/(N_SNAPS) for n in range(N_SNAPS)])\n",
    "print(N_SNAPS)"
   ]
  },
  {
   "cell_type": "code",
   "execution_count": 55,
   "id": "b8eb251a",
   "metadata": {},
   "outputs": [
    {
     "data": {
      "application/vnd.plotly.v1+json": {
       "config": {
        "plotlyServerURL": "https://plot.ly"
       },
       "data": [
        {
         "customdata": [
          [
           "Original Comsol Mesh",
           0,
           0
          ],
          [
           "s100_100_100_b0_4000_0_5000_-4000_0",
           0.43984121844655244,
           0
          ]
         ],
         "hovertemplate": "Cells: %{x}<br>Entropy number: %{y}<br>Snap Idx: %{customdata[2]:03d}<br>Mapped: %{customdata[0]}<br>Rel Error: %{customdata[1]:.3f}%<extra></extra>",
         "line": {
          "color": "rgb(48, 18, 59)"
         },
         "mode": "markers+lines",
         "name": "000",
         "opacity": 0.4,
         "type": "scatter",
         "x": {
          "bdata": "iIIBAM2DAQA=",
          "dtype": "i4"
         },
         "y": {
          "bdata": "/2VYi1cgk0D/OyzL4DWTQA==",
          "dtype": "f8"
         }
        },
        {
         "customdata": [
          [
           "Original Comsol Mesh",
           0,
           1
          ],
          [
           "s100_100_100_b0_4000_0_5000_-4000_0",
           0.37800595302617246,
           1
          ]
         ],
         "hovertemplate": "Cells: %{x}<br>Entropy number: %{y}<br>Snap Idx: %{customdata[2]:03d}<br>Mapped: %{customdata[0]}<br>Rel Error: %{customdata[1]:.3f}%<extra></extra>",
         "line": {
          "color": "rgb(49, 21, 65)"
         },
         "mode": "markers+lines",
         "name": "001",
         "opacity": 0.4,
         "type": "scatter",
         "x": {
          "bdata": "iIIBAM2DAQA=",
          "dtype": "i4"
         },
         "y": {
          "bdata": "x3qJegq+pEAU1+D6HNKkQA==",
          "dtype": "f8"
         }
        },
        {
         "customdata": [
          [
           "Original Comsol Mesh",
           0,
           2
          ],
          [
           "s100_100_100_b0_4000_0_5000_-4000_0",
           0.35872198527006643,
           2
          ]
         ],
         "hovertemplate": "Cells: %{x}<br>Entropy number: %{y}<br>Snap Idx: %{customdata[2]:03d}<br>Mapped: %{customdata[0]}<br>Rel Error: %{customdata[1]:.3f}%<extra></extra>",
         "line": {
          "color": "rgb(50, 23, 70)"
         },
         "mode": "markers+lines",
         "name": "002",
         "opacity": 0.4,
         "type": "scatter",
         "x": {
          "bdata": "iIIBAM2DAQA=",
          "dtype": "i4"
         },
         "y": {
          "bdata": "Ou0Rt7TSk0Cswwn26OSTQA==",
          "dtype": "f8"
         }
        },
        {
         "customdata": [
          [
           "Original Comsol Mesh",
           0,
           3
          ],
          [
           "s100_100_100_b0_4000_0_5000_-4000_0",
           0.3736064627487061,
           3
          ]
         ],
         "hovertemplate": "Cells: %{x}<br>Entropy number: %{y}<br>Snap Idx: %{customdata[2]:03d}<br>Mapped: %{customdata[0]}<br>Rel Error: %{customdata[1]:.3f}%<extra></extra>",
         "line": {
          "color": "rgb(51, 26, 76)"
         },
         "mode": "markers+lines",
         "name": "003",
         "opacity": 0.4,
         "type": "scatter",
         "x": {
          "bdata": "iIIBAM2DAQA=",
          "dtype": "i4"
         },
         "y": {
          "bdata": "aG7Jvu4ypUASzH49NUelQA==",
          "dtype": "f8"
         }
        },
        {
         "customdata": [
          [
           "Original Comsol Mesh",
           0,
           4
          ],
          [
           "s100_100_100_b0_4000_0_5000_-4000_0",
           0.4024748093351522,
           4
          ]
         ],
         "hovertemplate": "Cells: %{x}<br>Entropy number: %{y}<br>Snap Idx: %{customdata[2]:03d}<br>Mapped: %{customdata[0]}<br>Rel Error: %{customdata[1]:.3f}%<extra></extra>",
         "line": {
          "color": "rgb(51, 28, 81)"
         },
         "mode": "markers+lines",
         "name": "004",
         "opacity": 0.4,
         "type": "scatter",
         "x": {
          "bdata": "iIIBAM2DAQA=",
          "dtype": "i4"
         },
         "y": {
          "bdata": "+G05mLr0oUAqwIPEOgeiQA==",
          "dtype": "f8"
         }
        },
        {
         "customdata": [
          [
           "Original Comsol Mesh",
           0,
           5
          ],
          [
           "s100_100_100_b0_4000_0_5000_-4000_0",
           0.31674427218098117,
           5
          ]
         ],
         "hovertemplate": "Cells: %{x}<br>Entropy number: %{y}<br>Snap Idx: %{customdata[2]:03d}<br>Mapped: %{customdata[0]}<br>Rel Error: %{customdata[1]:.3f}%<extra></extra>",
         "line": {
          "color": "rgb(52, 31, 87)"
         },
         "mode": "markers+lines",
         "name": "005",
         "opacity": 0.4,
         "type": "scatter",
         "x": {
          "bdata": "iIIBAM2DAQA=",
          "dtype": "i4"
         },
         "y": {
          "bdata": "N1PUHW3WokA1eG10s+WiQA==",
          "dtype": "f8"
         }
        },
        {
         "customdata": [
          [
           "Original Comsol Mesh",
           0,
           6
          ],
          [
           "s100_100_100_b0_4000_0_5000_-4000_0",
           0.3752800629288468,
           6
          ]
         ],
         "hovertemplate": "Cells: %{x}<br>Entropy number: %{y}<br>Snap Idx: %{customdata[2]:03d}<br>Mapped: %{customdata[0]}<br>Rel Error: %{customdata[1]:.3f}%<extra></extra>",
         "line": {
          "color": "rgb(53, 33, 93)"
         },
         "mode": "markers+lines",
         "name": "006",
         "opacity": 0.4,
         "type": "scatter",
         "x": {
          "bdata": "iIIBAM2DAQA=",
          "dtype": "i4"
         },
         "y": {
          "bdata": "Qfpn3E/JnkD3TC+S4+aeQA==",
          "dtype": "f8"
         }
        },
        {
         "customdata": [
          [
           "Original Comsol Mesh",
           0,
           7
          ],
          [
           "s100_100_100_b0_4000_0_5000_-4000_0",
           0.42954467811679165,
           7
          ]
         ],
         "hovertemplate": "Cells: %{x}<br>Entropy number: %{y}<br>Snap Idx: %{customdata[2]:03d}<br>Mapped: %{customdata[0]}<br>Rel Error: %{customdata[1]:.3f}%<extra></extra>",
         "line": {
          "color": "rgb(54, 36, 98)"
         },
         "mode": "markers+lines",
         "name": "007",
         "opacity": 0.4,
         "type": "scatter",
         "x": {
          "bdata": "iIIBAM2DAQA=",
          "dtype": "i4"
         },
         "y": {
          "bdata": "ZG/BTljvlUC0k0widweWQA==",
          "dtype": "f8"
         }
        },
        {
         "customdata": [
          [
           "Original Comsol Mesh",
           0,
           8
          ],
          [
           "s100_100_100_b0_4000_0_5000_-4000_0",
           0.34748744834565626,
           8
          ]
         ],
         "hovertemplate": "Cells: %{x}<br>Entropy number: %{y}<br>Snap Idx: %{customdata[2]:03d}<br>Mapped: %{customdata[0]}<br>Rel Error: %{customdata[1]:.3f}%<extra></extra>",
         "line": {
          "color": "rgb(55, 38, 104)"
         },
         "mode": "markers+lines",
         "name": "008",
         "opacity": 0.4,
         "type": "scatter",
         "x": {
          "bdata": "iIIBAM2DAQA=",
          "dtype": "i4"
         },
         "y": {
          "bdata": "6c29ixSenUBTFiJSbbidQA==",
          "dtype": "f8"
         }
        },
        {
         "customdata": [
          [
           "Original Comsol Mesh",
           0,
           9
          ],
          [
           "s100_100_100_b0_4000_0_5000_-4000_0",
           0.2933370007924635,
           9
          ]
         ],
         "hovertemplate": "Cells: %{x}<br>Entropy number: %{y}<br>Snap Idx: %{customdata[2]:03d}<br>Mapped: %{customdata[0]}<br>Rel Error: %{customdata[1]:.3f}%<extra></extra>",
         "line": {
          "color": "rgb(56, 41, 109)"
         },
         "mode": "markers+lines",
         "name": "009",
         "opacity": 0.4,
         "type": "scatter",
         "x": {
          "bdata": "iIIBAM2DAQA=",
          "dtype": "i4"
         },
         "y": {
          "bdata": "7ZOzDbCLmUCOWQL83p6ZQA==",
          "dtype": "f8"
         }
        },
        {
         "customdata": [
          [
           "Original Comsol Mesh",
           0,
           10
          ],
          [
           "s100_100_100_b0_4000_0_5000_-4000_0",
           0.4411966882760878,
           10
          ]
         ],
         "hovertemplate": "Cells: %{x}<br>Entropy number: %{y}<br>Snap Idx: %{customdata[2]:03d}<br>Mapped: %{customdata[0]}<br>Rel Error: %{customdata[1]:.3f}%<extra></extra>",
         "line": {
          "color": "rgb(56, 44, 115)"
         },
         "mode": "markers+lines",
         "name": "010",
         "opacity": 0.4,
         "type": "scatter",
         "x": {
          "bdata": "iIIBAM2DAQA=",
          "dtype": "i4"
         },
         "y": {
          "bdata": "gcAn+aIbk0BaVPzlNzGTQA==",
          "dtype": "f8"
         }
        },
        {
         "customdata": [
          [
           "Original Comsol Mesh",
           0,
           11
          ],
          [
           "s100_100_100_b0_4000_0_5000_-4000_0",
           0.42182869106630433,
           11
          ]
         ],
         "hovertemplate": "Cells: %{x}<br>Entropy number: %{y}<br>Snap Idx: %{customdata[2]:03d}<br>Mapped: %{customdata[0]}<br>Rel Error: %{customdata[1]:.3f}%<extra></extra>",
         "line": {
          "color": "rgb(57, 46, 121)"
         },
         "mode": "markers+lines",
         "name": "011",
         "opacity": 0.4,
         "type": "scatter",
         "x": {
          "bdata": "iIIBAM2DAQA=",
          "dtype": "i4"
         },
         "y": {
          "bdata": "ZUoJwEUjkEDuyd0IszSQQA==",
          "dtype": "f8"
         }
        },
        {
         "customdata": [
          [
           "Original Comsol Mesh",
           0,
           12
          ],
          [
           "s100_100_100_b0_4000_0_5000_-4000_0",
           0.446879595978367,
           12
          ]
         ],
         "hovertemplate": "Cells: %{x}<br>Entropy number: %{y}<br>Snap Idx: %{customdata[2]:03d}<br>Mapped: %{customdata[0]}<br>Rel Error: %{customdata[1]:.3f}%<extra></extra>",
         "line": {
          "color": "rgb(58, 49, 126)"
         },
         "mode": "markers+lines",
         "name": "012",
         "opacity": 0.4,
         "type": "scatter",
         "x": {
          "bdata": "iIIBAM2DAQA=",
          "dtype": "i4"
         },
         "y": {
          "bdata": "TaSC9s38nEAcEF1z9x2dQA==",
          "dtype": "f8"
         }
        },
        {
         "customdata": [
          [
           "Original Comsol Mesh",
           0,
           13
          ],
          [
           "s100_100_100_b0_4000_0_5000_-4000_0",
           0.4014289922861642,
           13
          ]
         ],
         "hovertemplate": "Cells: %{x}<br>Entropy number: %{y}<br>Snap Idx: %{customdata[2]:03d}<br>Mapped: %{customdata[0]}<br>Rel Error: %{customdata[1]:.3f}%<extra></extra>",
         "line": {
          "color": "rgb(59, 51, 132)"
         },
         "mode": "markers+lines",
         "name": "013",
         "opacity": 0.4,
         "type": "scatter",
         "x": {
          "bdata": "iIIBAM2DAQA=",
          "dtype": "i4"
         },
         "y": {
          "bdata": "YLR54oKNoUBesq+tjJ+hQA==",
          "dtype": "f8"
         }
        },
        {
         "customdata": [
          [
           "Original Comsol Mesh",
           0,
           14
          ],
          [
           "s100_100_100_b0_4000_0_5000_-4000_0",
           0.37580765122291004,
           14
          ]
         ],
         "hovertemplate": "Cells: %{x}<br>Entropy number: %{y}<br>Snap Idx: %{customdata[2]:03d}<br>Mapped: %{customdata[0]}<br>Rel Error: %{customdata[1]:.3f}%<extra></extra>",
         "line": {
          "color": "rgb(60, 54, 137)"
         },
         "mode": "markers+lines",
         "name": "014",
         "opacity": 0.4,
         "type": "scatter",
         "x": {
          "bdata": "iIIBAM2DAQA=",
          "dtype": "i4"
         },
         "y": {
          "bdata": "Jz6vMQn3pECoIDelNAulQA==",
          "dtype": "f8"
         }
        },
        {
         "customdata": [
          [
           "Original Comsol Mesh",
           0,
           15
          ],
          [
           "s100_100_100_b0_4000_0_5000_-4000_0",
           0.3944710197428646,
           15
          ]
         ],
         "hovertemplate": "Cells: %{x}<br>Entropy number: %{y}<br>Snap Idx: %{customdata[2]:03d}<br>Mapped: %{customdata[0]}<br>Rel Error: %{customdata[1]:.3f}%<extra></extra>",
         "line": {
          "color": "rgb(61, 56, 143)"
         },
         "mode": "markers+lines",
         "name": "015",
         "opacity": 0.4,
         "type": "scatter",
         "x": {
          "bdata": "iIIBAM2DAQA=",
          "dtype": "i4"
         },
         "y": {
          "bdata": "QeQ2Rc3OkUBo9xH1yOCRQA==",
          "dtype": "f8"
         }
        },
        {
         "customdata": [
          [
           "Original Comsol Mesh",
           0,
           16
          ],
          [
           "s100_100_100_b0_4000_0_5000_-4000_0",
           0.3524220902043094,
           16
          ]
         ],
         "hovertemplate": "Cells: %{x}<br>Entropy number: %{y}<br>Snap Idx: %{customdata[2]:03d}<br>Mapped: %{customdata[0]}<br>Rel Error: %{customdata[1]:.3f}%<extra></extra>",
         "line": {
          "color": "rgb(62, 59, 149)"
         },
         "mode": "markers+lines",
         "name": "016",
         "opacity": 0.4,
         "type": "scatter",
         "x": {
          "bdata": "iIIBAM2DAQA=",
          "dtype": "i4"
         },
         "y": {
          "bdata": "43lihfnopUDhUevwvfylQA==",
          "dtype": "f8"
         }
        },
        {
         "customdata": [
          [
           "Original Comsol Mesh",
           0,
           17
          ],
          [
           "s100_100_100_b0_4000_0_5000_-4000_0",
           0.36142728510669353,
           17
          ]
         ],
         "hovertemplate": "Cells: %{x}<br>Entropy number: %{y}<br>Snap Idx: %{customdata[2]:03d}<br>Mapped: %{customdata[0]}<br>Rel Error: %{customdata[1]:.3f}%<extra></extra>",
         "line": {
          "color": "rgb(62, 61, 154)"
         },
         "mode": "markers+lines",
         "name": "017",
         "opacity": 0.4,
         "type": "scatter",
         "x": {
          "bdata": "iIIBAM2DAQA=",
          "dtype": "i4"
         },
         "y": {
          "bdata": "jK6TEkHVm0D2xM69Ae+bQA==",
          "dtype": "f8"
         }
        },
        {
         "customdata": [
          [
           "Original Comsol Mesh",
           0,
           18
          ],
          [
           "s100_100_100_b0_4000_0_5000_-4000_0",
           0.4215829296771434,
           18
          ]
         ],
         "hovertemplate": "Cells: %{x}<br>Entropy number: %{y}<br>Snap Idx: %{customdata[2]:03d}<br>Mapped: %{customdata[0]}<br>Rel Error: %{customdata[1]:.3f}%<extra></extra>",
         "line": {
          "color": "rgb(63, 64, 160)"
         },
         "mode": "markers+lines",
         "name": "018",
         "opacity": 0.4,
         "type": "scatter",
         "x": {
          "bdata": "iIIBAM2DAQA=",
          "dtype": "i4"
         },
         "y": {
          "bdata": "wlcf9cLNjUCetyxl7e2NQA==",
          "dtype": "f8"
         }
        },
        {
         "customdata": [
          [
           "Original Comsol Mesh",
           0,
           19
          ],
          [
           "s100_100_100_b0_4000_0_5000_-4000_0",
           0.42208886950476904,
           19
          ]
         ],
         "hovertemplate": "Cells: %{x}<br>Entropy number: %{y}<br>Snap Idx: %{customdata[2]:03d}<br>Mapped: %{customdata[0]}<br>Rel Error: %{customdata[1]:.3f}%<extra></extra>",
         "line": {
          "color": "rgb(64, 66, 165)"
         },
         "mode": "markers+lines",
         "name": "019",
         "opacity": 0.4,
         "type": "scatter",
         "x": {
          "bdata": "iIIBAM2DAQA=",
          "dtype": "i4"
         },
         "y": {
          "bdata": "ei8ePWDEkECAeNdaftaQQA==",
          "dtype": "f8"
         }
        },
        {
         "customdata": [
          [
           "Original Comsol Mesh",
           0,
           20
          ],
          [
           "s100_100_100_b0_4000_0_5000_-4000_0",
           0.4372015926313553,
           20
          ]
         ],
         "hovertemplate": "Cells: %{x}<br>Entropy number: %{y}<br>Snap Idx: %{customdata[2]:03d}<br>Mapped: %{customdata[0]}<br>Rel Error: %{customdata[1]:.3f}%<extra></extra>",
         "line": {
          "color": "rgb(65, 69, 171)"
         },
         "mode": "markers+lines",
         "name": "020",
         "opacity": 0.4,
         "type": "scatter",
         "x": {
          "bdata": "iIIBAM2DAQA=",
          "dtype": "i4"
         },
         "y": {
          "bdata": "XHHFN54llEA4ml7PKjyUQA==",
          "dtype": "f8"
         }
        },
        {
         "customdata": [
          [
           "Original Comsol Mesh",
           0,
           21
          ],
          [
           "s100_100_100_b0_4000_0_5000_-4000_0",
           0.37806082499202015,
           21
          ]
         ],
         "hovertemplate": "Cells: %{x}<br>Entropy number: %{y}<br>Snap Idx: %{customdata[2]:03d}<br>Mapped: %{customdata[0]}<br>Rel Error: %{customdata[1]:.3f}%<extra></extra>",
         "line": {
          "color": "rgb(65, 71, 174)"
         },
         "mode": "markers+lines",
         "name": "021",
         "opacity": 0.4,
         "type": "scatter",
         "x": {
          "bdata": "iIIBAM2DAQA=",
          "dtype": "i4"
         },
         "y": {
          "bdata": "ZVYag9MlmUACpy5FKj6ZQA==",
          "dtype": "f8"
         }
        },
        {
         "customdata": [
          [
           "Original Comsol Mesh",
           0,
           22
          ],
          [
           "s100_100_100_b0_4000_0_5000_-4000_0",
           0.3152138762080101,
           22
          ]
         ],
         "hovertemplate": "Cells: %{x}<br>Entropy number: %{y}<br>Snap Idx: %{customdata[2]:03d}<br>Mapped: %{customdata[0]}<br>Rel Error: %{customdata[1]:.3f}%<extra></extra>",
         "line": {
          "color": "rgb(66, 74, 178)"
         },
         "mode": "markers+lines",
         "name": "022",
         "opacity": 0.4,
         "type": "scatter",
         "x": {
          "bdata": "iIIBAM2DAQA=",
          "dtype": "i4"
         },
         "y": {
          "bdata": "ClkXFWaWokDAbkjcZaWiQA==",
          "dtype": "f8"
         }
        },
        {
         "customdata": [
          [
           "Original Comsol Mesh",
           0,
           23
          ],
          [
           "s100_100_100_b0_4000_0_5000_-4000_0",
           0.36142515275374754,
           23
          ]
         ],
         "hovertemplate": "Cells: %{x}<br>Entropy number: %{y}<br>Snap Idx: %{customdata[2]:03d}<br>Mapped: %{customdata[0]}<br>Rel Error: %{customdata[1]:.3f}%<extra></extra>",
         "line": {
          "color": "rgb(66, 76, 181)"
         },
         "mode": "markers+lines",
         "name": "023",
         "opacity": 0.4,
         "type": "scatter",
         "x": {
          "bdata": "iIIBAM2DAQA=",
          "dtype": "i4"
         },
         "y": {
          "bdata": "CeF7W21ipkDGxwZtI3emQA==",
          "dtype": "f8"
         }
        },
        {
         "customdata": [
          [
           "Original Comsol Mesh",
           0,
           24
          ],
          [
           "s100_100_100_b0_4000_0_5000_-4000_0",
           0.4185946925164193,
           24
          ]
         ],
         "hovertemplate": "Cells: %{x}<br>Entropy number: %{y}<br>Snap Idx: %{customdata[2]:03d}<br>Mapped: %{customdata[0]}<br>Rel Error: %{customdata[1]:.3f}%<extra></extra>",
         "line": {
          "color": "rgb(66, 79, 184)"
         },
         "mode": "markers+lines",
         "name": "024",
         "opacity": 0.4,
         "type": "scatter",
         "x": {
          "bdata": "iIIBAM2DAQA=",
          "dtype": "i4"
         },
         "y": {
          "bdata": "VmKibCLal0D5LdXFsfOXQA==",
          "dtype": "f8"
         }
        },
        {
         "customdata": [
          [
           "Original Comsol Mesh",
           0,
           25
          ],
          [
           "s100_100_100_b0_4000_0_5000_-4000_0",
           0.4289685555696541,
           25
          ]
         ],
         "hovertemplate": "Cells: %{x}<br>Entropy number: %{y}<br>Snap Idx: %{customdata[2]:03d}<br>Mapped: %{customdata[0]}<br>Rel Error: %{customdata[1]:.3f}%<extra></extra>",
         "line": {
          "color": "rgb(66, 81, 188)"
         },
         "mode": "markers+lines",
         "name": "025",
         "opacity": 0.4,
         "type": "scatter",
         "x": {
          "bdata": "iIIBAM2DAQA=",
          "dtype": "i4"
         },
         "y": {
          "bdata": "UQ8Ftyf9oEAMDO3Hzw+hQA==",
          "dtype": "f8"
         }
        },
        {
         "customdata": [
          [
           "Original Comsol Mesh",
           0,
           26
          ],
          [
           "s100_100_100_b0_4000_0_5000_-4000_0",
           0.34286809994967155,
           26
          ]
         ],
         "hovertemplate": "Cells: %{x}<br>Entropy number: %{y}<br>Snap Idx: %{customdata[2]:03d}<br>Mapped: %{customdata[0]}<br>Rel Error: %{customdata[1]:.3f}%<extra></extra>",
         "line": {
          "color": "rgb(66, 83, 191)"
         },
         "mode": "markers+lines",
         "name": "026",
         "opacity": 0.4,
         "type": "scatter",
         "x": {
          "bdata": "iIIBAM2DAQA=",
          "dtype": "i4"
         },
         "y": {
          "bdata": "LwHRwHzSnkA5s2WRiu2eQA==",
          "dtype": "f8"
         }
        },
        {
         "customdata": [
          [
           "Original Comsol Mesh",
           0,
           27
          ],
          [
           "s100_100_100_b0_4000_0_5000_-4000_0",
           0.38107400697647176,
           27
          ]
         ],
         "hovertemplate": "Cells: %{x}<br>Entropy number: %{y}<br>Snap Idx: %{customdata[2]:03d}<br>Mapped: %{customdata[0]}<br>Rel Error: %{customdata[1]:.3f}%<extra></extra>",
         "line": {
          "color": "rgb(67, 86, 194)"
         },
         "mode": "markers+lines",
         "name": "027",
         "opacity": 0.4,
         "type": "scatter",
         "x": {
          "bdata": "iIIBAM2DAQA=",
          "dtype": "i4"
         },
         "y": {
          "bdata": "JAEg46p8mEAQZUxIjpSYQA==",
          "dtype": "f8"
         }
        },
        {
         "customdata": [
          [
           "Original Comsol Mesh",
           0,
           28
          ],
          [
           "s100_100_100_b0_4000_0_5000_-4000_0",
           0.31630008244819463,
           28
          ]
         ],
         "hovertemplate": "Cells: %{x}<br>Entropy number: %{y}<br>Snap Idx: %{customdata[2]:03d}<br>Mapped: %{customdata[0]}<br>Rel Error: %{customdata[1]:.3f}%<extra></extra>",
         "line": {
          "color": "rgb(67, 88, 197)"
         },
         "mode": "markers+lines",
         "name": "028",
         "opacity": 0.4,
         "type": "scatter",
         "x": {
          "bdata": "iIIBAM2DAQA=",
          "dtype": "i4"
         },
         "y": {
          "bdata": "GmeV77fIoEDIuiwcT9agQA==",
          "dtype": "f8"
         }
        },
        {
         "customdata": [
          [
           "Original Comsol Mesh",
           0,
           29
          ],
          [
           "s100_100_100_b0_4000_0_5000_-4000_0",
           0.3888929533803173,
           29
          ]
         ],
         "hovertemplate": "Cells: %{x}<br>Entropy number: %{y}<br>Snap Idx: %{customdata[2]:03d}<br>Mapped: %{customdata[0]}<br>Rel Error: %{customdata[1]:.3f}%<extra></extra>",
         "line": {
          "color": "rgb(67, 91, 201)"
         },
         "mode": "markers+lines",
         "name": "029",
         "opacity": 0.4,
         "type": "scatter",
         "x": {
          "bdata": "iIIBAM2DAQA=",
          "dtype": "i4"
         },
         "y": {
          "bdata": "1tyXVe5moUBcnBKDQXihQA==",
          "dtype": "f8"
         }
        },
        {
         "customdata": [
          [
           "Original Comsol Mesh",
           0,
           30
          ],
          [
           "s100_100_100_b0_4000_0_5000_-4000_0",
           0.3836015950729915,
           30
          ]
         ],
         "hovertemplate": "Cells: %{x}<br>Entropy number: %{y}<br>Snap Idx: %{customdata[2]:03d}<br>Mapped: %{customdata[0]}<br>Rel Error: %{customdata[1]:.3f}%<extra></extra>",
         "line": {
          "color": "rgb(68, 93, 204)"
         },
         "mode": "markers+lines",
         "name": "030",
         "opacity": 0.4,
         "type": "scatter",
         "x": {
          "bdata": "iIIBAM2DAQA=",
          "dtype": "i4"
         },
         "y": {
          "bdata": "N/fEvG3cpECKvEQl6vCkQA==",
          "dtype": "f8"
         }
        },
        {
         "customdata": [
          [
           "Original Comsol Mesh",
           0,
           31
          ],
          [
           "s100_100_100_b0_4000_0_5000_-4000_0",
           0.18510807887141364,
           31
          ]
         ],
         "hovertemplate": "Cells: %{x}<br>Entropy number: %{y}<br>Snap Idx: %{customdata[2]:03d}<br>Mapped: %{customdata[0]}<br>Rel Error: %{customdata[1]:.3f}%<extra></extra>",
         "line": {
          "color": "rgb(68, 95, 207)"
         },
         "mode": "markers+lines",
         "name": "031",
         "opacity": 0.4,
         "type": "scatter",
         "x": {
          "bdata": "iIIBAM2DAQA=",
          "dtype": "i4"
         },
         "y": {
          "bdata": "DqcLzbxup0AS8nh213mnQA==",
          "dtype": "f8"
         }
        },
        {
         "customdata": [
          [
           "Original Comsol Mesh",
           0,
           32
          ],
          [
           "s100_100_100_b0_4000_0_5000_-4000_0",
           0.4138291367859284,
           32
          ]
         ],
         "hovertemplate": "Cells: %{x}<br>Entropy number: %{y}<br>Snap Idx: %{customdata[2]:03d}<br>Mapped: %{customdata[0]}<br>Rel Error: %{customdata[1]:.3f}%<extra></extra>",
         "line": {
          "color": "rgb(68, 98, 211)"
         },
         "mode": "markers+lines",
         "name": "032",
         "opacity": 0.4,
         "type": "scatter",
         "x": {
          "bdata": "iIIBAM2DAQA=",
          "dtype": "i4"
         },
         "y": {
          "bdata": "/OoXloucoEBbXGe+JK6gQA==",
          "dtype": "f8"
         }
        },
        {
         "customdata": [
          [
           "Original Comsol Mesh",
           0,
           33
          ],
          [
           "s100_100_100_b0_4000_0_5000_-4000_0",
           0.4392599477553636,
           33
          ]
         ],
         "hovertemplate": "Cells: %{x}<br>Entropy number: %{y}<br>Snap Idx: %{customdata[2]:03d}<br>Mapped: %{customdata[0]}<br>Rel Error: %{customdata[1]:.3f}%<extra></extra>",
         "line": {
          "color": "rgb(68, 100, 214)"
         },
         "mode": "markers+lines",
         "name": "033",
         "opacity": 0.4,
         "type": "scatter",
         "x": {
          "bdata": "iIIBAM2DAQA=",
          "dtype": "i4"
         },
         "y": {
          "bdata": "i+tCTbAjkkCk/LQnFjiSQA==",
          "dtype": "f8"
         }
        },
        {
         "customdata": [
          [
           "Original Comsol Mesh",
           0,
           34
          ],
          [
           "s100_100_100_b0_4000_0_5000_-4000_0",
           0.4217563280386956,
           34
          ]
         ],
         "hovertemplate": "Cells: %{x}<br>Entropy number: %{y}<br>Snap Idx: %{customdata[2]:03d}<br>Mapped: %{customdata[0]}<br>Rel Error: %{customdata[1]:.3f}%<extra></extra>",
         "line": {
          "color": "rgb(68, 103, 217)"
         },
         "mode": "markers+lines",
         "name": "034",
         "opacity": 0.4,
         "type": "scatter",
         "x": {
          "bdata": "iIIBAM2DAQA=",
          "dtype": "i4"
         },
         "y": {
          "bdata": "/QyT8yoIj0DGyj09rCmPQA==",
          "dtype": "f8"
         }
        },
        {
         "customdata": [
          [
           "Original Comsol Mesh",
           0,
           35
          ],
          [
           "s100_100_100_b0_4000_0_5000_-4000_0",
           0.34687846319096877,
           35
          ]
         ],
         "hovertemplate": "Cells: %{x}<br>Entropy number: %{y}<br>Snap Idx: %{customdata[2]:03d}<br>Mapped: %{customdata[0]}<br>Rel Error: %{customdata[1]:.3f}%<extra></extra>",
         "line": {
          "color": "rgb(69, 105, 220)"
         },
         "mode": "markers+lines",
         "name": "035",
         "opacity": 0.4,
         "type": "scatter",
         "x": {
          "bdata": "iIIBAM2DAQA=",
          "dtype": "i4"
         },
         "y": {
          "bdata": "vOY8defWlEDjz27maOmUQA==",
          "dtype": "f8"
         }
        },
        {
         "customdata": [
          [
           "Original Comsol Mesh",
           0,
           36
          ],
          [
           "s100_100_100_b0_4000_0_5000_-4000_0",
           0.27679273145821603,
           36
          ]
         ],
         "hovertemplate": "Cells: %{x}<br>Entropy number: %{y}<br>Snap Idx: %{customdata[2]:03d}<br>Mapped: %{customdata[0]}<br>Rel Error: %{customdata[1]:.3f}%<extra></extra>",
         "line": {
          "color": "rgb(69, 107, 224)"
         },
         "mode": "markers+lines",
         "name": "036",
         "opacity": 0.4,
         "type": "scatter",
         "x": {
          "bdata": "iIIBAM2DAQA=",
          "dtype": "i4"
         },
         "y": {
          "bdata": "zMh+ijIzm0Bhor2WeEabQA==",
          "dtype": "f8"
         }
        },
        {
         "customdata": [
          [
           "Original Comsol Mesh",
           0,
           37
          ],
          [
           "s100_100_100_b0_4000_0_5000_-4000_0",
           0.3902536906310294,
           37
          ]
         ],
         "hovertemplate": "Cells: %{x}<br>Entropy number: %{y}<br>Snap Idx: %{customdata[2]:03d}<br>Mapped: %{customdata[0]}<br>Rel Error: %{customdata[1]:.3f}%<extra></extra>",
         "line": {
          "color": "rgb(69, 110, 227)"
         },
         "mode": "markers+lines",
         "name": "037",
         "opacity": 0.4,
         "type": "scatter",
         "x": {
          "bdata": "iIIBAM2DAQA=",
          "dtype": "i4"
         },
         "y": {
          "bdata": "VH4wmpFto0BIWoRx+oCjQA==",
          "dtype": "f8"
         }
        },
        {
         "customdata": [
          [
           "Original Comsol Mesh",
           0,
           38
          ],
          [
           "s100_100_100_b0_4000_0_5000_-4000_0",
           0.4219790947651958,
           38
          ]
         ],
         "hovertemplate": "Cells: %{x}<br>Entropy number: %{y}<br>Snap Idx: %{customdata[2]:03d}<br>Mapped: %{customdata[0]}<br>Rel Error: %{customdata[1]:.3f}%<extra></extra>",
         "line": {
          "color": "rgb(70, 112, 230)"
         },
         "mode": "markers+lines",
         "name": "038",
         "opacity": 0.4,
         "type": "scatter",
         "x": {
          "bdata": "iIIBAM2DAQA=",
          "dtype": "i4"
         },
         "y": {
          "bdata": "4JtvasJYkEAvFzUSa2qQQA==",
          "dtype": "f8"
         }
        },
        {
         "customdata": [
          [
           "Original Comsol Mesh",
           0,
           39
          ],
          [
           "s100_100_100_b0_4000_0_5000_-4000_0",
           0.32327828888148635,
           39
          ]
         ],
         "hovertemplate": "Cells: %{x}<br>Entropy number: %{y}<br>Snap Idx: %{customdata[2]:03d}<br>Mapped: %{customdata[0]}<br>Rel Error: %{customdata[1]:.3f}%<extra></extra>",
         "line": {
          "color": "rgb(70, 115, 234)"
         },
         "mode": "markers+lines",
         "name": "039",
         "opacity": 0.4,
         "type": "scatter",
         "x": {
          "bdata": "iIIBAM2DAQA=",
          "dtype": "i4"
         },
         "y": {
          "bdata": "Pwyoba5MlUCm3a4GT16VQA==",
          "dtype": "f8"
         }
        },
        {
         "customdata": [
          [
           "Original Comsol Mesh",
           0,
           40
          ],
          [
           "s100_100_100_b0_4000_0_5000_-4000_0",
           0.38157733040198505,
           40
          ]
         ],
         "hovertemplate": "Cells: %{x}<br>Entropy number: %{y}<br>Snap Idx: %{customdata[2]:03d}<br>Mapped: %{customdata[0]}<br>Rel Error: %{customdata[1]:.3f}%<extra></extra>",
         "line": {
          "color": "rgb(70, 117, 237)"
         },
         "mode": "markers+lines",
         "name": "040",
         "opacity": 0.4,
         "type": "scatter",
         "x": {
          "bdata": "iIIBAM2DAQA=",
          "dtype": "i4"
         },
         "y": {
          "bdata": "TWH8BrZpo0BtCjWhrHyjQA==",
          "dtype": "f8"
         }
        },
        {
         "customdata": [
          [
           "Original Comsol Mesh",
           0,
           41
          ],
          [
           "s100_100_100_b0_4000_0_5000_-4000_0",
           0.34560788436043755,
           41
          ]
         ],
         "hovertemplate": "Cells: %{x}<br>Entropy number: %{y}<br>Snap Idx: %{customdata[2]:03d}<br>Mapped: %{customdata[0]}<br>Rel Error: %{customdata[1]:.3f}%<extra></extra>",
         "line": {
          "color": "rgb(69, 119, 238)"
         },
         "mode": "markers+lines",
         "name": "041",
         "opacity": 0.4,
         "type": "scatter",
         "x": {
          "bdata": "iIIBAM2DAQA=",
          "dtype": "i4"
         },
         "y": {
          "bdata": "G8bAAUWIoECzM5SI5ZagQA==",
          "dtype": "f8"
         }
        },
        {
         "customdata": [
          [
           "Original Comsol Mesh",
           0,
           42
          ],
          [
           "s100_100_100_b0_4000_0_5000_-4000_0",
           0.421531780862019,
           42
          ]
         ],
         "hovertemplate": "Cells: %{x}<br>Entropy number: %{y}<br>Snap Idx: %{customdata[2]:03d}<br>Mapped: %{customdata[0]}<br>Rel Error: %{customdata[1]:.3f}%<extra></extra>",
         "line": {
          "color": "rgb(69, 122, 238)"
         },
         "mode": "markers+lines",
         "name": "042",
         "opacity": 0.4,
         "type": "scatter",
         "x": {
          "bdata": "iIIBAM2DAQA=",
          "dtype": "i4"
         },
         "y": {
          "bdata": "kPYdLttljUAKZwZ+lIWNQA==",
          "dtype": "f8"
         }
        },
        {
         "customdata": [
          [
           "Original Comsol Mesh",
           0,
           43
          ],
          [
           "s100_100_100_b0_4000_0_5000_-4000_0",
           0.443626037761265,
           43
          ]
         ],
         "hovertemplate": "Cells: %{x}<br>Entropy number: %{y}<br>Snap Idx: %{customdata[2]:03d}<br>Mapped: %{customdata[0]}<br>Rel Error: %{customdata[1]:.3f}%<extra></extra>",
         "line": {
          "color": "rgb(68, 124, 239)"
         },
         "mode": "markers+lines",
         "name": "043",
         "opacity": 0.4,
         "type": "scatter",
         "x": {
          "bdata": "iIIBAM2DAQA=",
          "dtype": "i4"
         },
         "y": {
          "bdata": "IuJhrlwAoECmVjfZiBKgQA==",
          "dtype": "f8"
         }
        },
        {
         "customdata": [
          [
           "Original Comsol Mesh",
           0,
           44
          ],
          [
           "s100_100_100_b0_4000_0_5000_-4000_0",
           0.19991010950077756,
           44
          ]
         ],
         "hovertemplate": "Cells: %{x}<br>Entropy number: %{y}<br>Snap Idx: %{customdata[2]:03d}<br>Mapped: %{customdata[0]}<br>Rel Error: %{customdata[1]:.3f}%<extra></extra>",
         "line": {
          "color": "rgb(67, 126, 240)"
         },
         "mode": "markers+lines",
         "name": "044",
         "opacity": 0.4,
         "type": "scatter",
         "x": {
          "bdata": "iIIBAM2DAQA=",
          "dtype": "i4"
         },
         "y": {
          "bdata": "GQ9JgqAcokCCfhxl5SWiQA==",
          "dtype": "f8"
         }
        },
        {
         "customdata": [
          [
           "Original Comsol Mesh",
           0,
           45
          ],
          [
           "s100_100_100_b0_4000_0_5000_-4000_0",
           0.3488123741317637,
           45
          ]
         ],
         "hovertemplate": "Cells: %{x}<br>Entropy number: %{y}<br>Snap Idx: %{customdata[2]:03d}<br>Mapped: %{customdata[0]}<br>Rel Error: %{customdata[1]:.3f}%<extra></extra>",
         "line": {
          "color": "rgb(67, 128, 241)"
         },
         "mode": "markers+lines",
         "name": "045",
         "opacity": 0.4,
         "type": "scatter",
         "x": {
          "bdata": "iIIBAM2DAQA=",
          "dtype": "i4"
         },
         "y": {
          "bdata": "vMOEkYmFnECfUwGMAZ+cQA==",
          "dtype": "f8"
         }
        },
        {
         "customdata": [
          [
           "Original Comsol Mesh",
           0,
           46
          ],
          [
           "s100_100_100_b0_4000_0_5000_-4000_0",
           0.3644031109950891,
           46
          ]
         ],
         "hovertemplate": "Cells: %{x}<br>Entropy number: %{y}<br>Snap Idx: %{customdata[2]:03d}<br>Mapped: %{customdata[0]}<br>Rel Error: %{customdata[1]:.3f}%<extra></extra>",
         "line": {
          "color": "rgb(66, 130, 242)"
         },
         "mode": "markers+lines",
         "name": "046",
         "opacity": 0.4,
         "type": "scatter",
         "x": {
          "bdata": "iIIBAM2DAQA=",
          "dtype": "i4"
         },
         "y": {
          "bdata": "QGrMiph0k0DEFOnMvoaTQA==",
          "dtype": "f8"
         }
        },
        {
         "customdata": [
          [
           "Original Comsol Mesh",
           0,
           47
          ],
          [
           "s100_100_100_b0_4000_0_5000_-4000_0",
           0.3141954187177538,
           47
          ]
         ],
         "hovertemplate": "Cells: %{x}<br>Entropy number: %{y}<br>Snap Idx: %{customdata[2]:03d}<br>Mapped: %{customdata[0]}<br>Rel Error: %{customdata[1]:.3f}%<extra></extra>",
         "line": {
          "color": "rgb(65, 133, 242)"
         },
         "mode": "markers+lines",
         "name": "047",
         "opacity": 0.4,
         "type": "scatter",
         "x": {
          "bdata": "iIIBAM2DAQA=",
          "dtype": "i4"
         },
         "y": {
          "bdata": "1LjC/ufOl0ARaKpfDuKXQA==",
          "dtype": "f8"
         }
        },
        {
         "customdata": [
          [
           "Original Comsol Mesh",
           0,
           48
          ],
          [
           "s100_100_100_b0_4000_0_5000_-4000_0",
           0.2960592824316114,
           48
          ]
         ],
         "hovertemplate": "Cells: %{x}<br>Entropy number: %{y}<br>Snap Idx: %{customdata[2]:03d}<br>Mapped: %{customdata[0]}<br>Rel Error: %{customdata[1]:.3f}%<extra></extra>",
         "line": {
          "color": "rgb(65, 135, 243)"
         },
         "mode": "markers+lines",
         "name": "048",
         "opacity": 0.4,
         "type": "scatter",
         "x": {
          "bdata": "iIIBAM2DAQA=",
          "dtype": "i4"
         },
         "y": {
          "bdata": "66cqO8zToUDHX+gvT+GhQA==",
          "dtype": "f8"
         }
        },
        {
         "customdata": [
          [
           "Original Comsol Mesh",
           0,
           49
          ],
          [
           "s100_100_100_b0_4000_0_5000_-4000_0",
           0.373500817756669,
           49
          ]
         ],
         "hovertemplate": "Cells: %{x}<br>Entropy number: %{y}<br>Snap Idx: %{customdata[2]:03d}<br>Mapped: %{customdata[0]}<br>Rel Error: %{customdata[1]:.3f}%<extra></extra>",
         "line": {
          "color": "rgb(64, 137, 244)"
         },
         "mode": "markers+lines",
         "name": "049",
         "opacity": 0.4,
         "type": "scatter",
         "x": {
          "bdata": "iIIBAM2DAQA=",
          "dtype": "i4"
         },
         "y": {
          "bdata": "2OTor+Mkn0C5JdAPq0KfQA==",
          "dtype": "f8"
         }
        },
        {
         "customdata": [
          [
           "Original Comsol Mesh",
           0,
           50
          ],
          [
           "s100_100_100_b0_4000_0_5000_-4000_0",
           0.3835357069515971,
           50
          ]
         ],
         "hovertemplate": "Cells: %{x}<br>Entropy number: %{y}<br>Snap Idx: %{customdata[2]:03d}<br>Mapped: %{customdata[0]}<br>Rel Error: %{customdata[1]:.3f}%<extra></extra>",
         "line": {
          "color": "rgb(64, 140, 244)"
         },
         "mode": "markers+lines",
         "name": "050",
         "opacity": 0.4,
         "type": "scatter",
         "x": {
          "bdata": "iIIBAM2DAQA=",
          "dtype": "i4"
         },
         "y": {
          "bdata": "xScrXWf3lkCYwJcQ9A2XQA==",
          "dtype": "f8"
         }
        },
        {
         "customdata": [
          [
           "Original Comsol Mesh",
           0,
           51
          ],
          [
           "s100_100_100_b0_4000_0_5000_-4000_0",
           0.34245657820875264,
           51
          ]
         ],
         "hovertemplate": "Cells: %{x}<br>Entropy number: %{y}<br>Snap Idx: %{customdata[2]:03d}<br>Mapped: %{customdata[0]}<br>Rel Error: %{customdata[1]:.3f}%<extra></extra>",
         "line": {
          "color": "rgb(63, 142, 245)"
         },
         "mode": "markers+lines",
         "name": "051",
         "opacity": 0.4,
         "type": "scatter",
         "x": {
          "bdata": "iIIBAM2DAQA=",
          "dtype": "i4"
         },
         "y": {
          "bdata": "q3VdybszpUDLSlI4UkalQA==",
          "dtype": "f8"
         }
        },
        {
         "customdata": [
          [
           "Original Comsol Mesh",
           0,
           52
          ],
          [
           "s100_100_100_b0_4000_0_5000_-4000_0",
           0.364404094461587,
           52
          ]
         ],
         "hovertemplate": "Cells: %{x}<br>Entropy number: %{y}<br>Snap Idx: %{customdata[2]:03d}<br>Mapped: %{customdata[0]}<br>Rel Error: %{customdata[1]:.3f}%<extra></extra>",
         "line": {
          "color": "rgb(62, 144, 246)"
         },
         "mode": "markers+lines",
         "name": "052",
         "opacity": 0.4,
         "type": "scatter",
         "x": {
          "bdata": "iIIBAM2DAQA=",
          "dtype": "i4"
         },
         "y": {
          "bdata": "bnOxv1guo0BLsWR8PUCjQA==",
          "dtype": "f8"
         }
        },
        {
         "customdata": [
          [
           "Original Comsol Mesh",
           0,
           53
          ],
          [
           "s100_100_100_b0_4000_0_5000_-4000_0",
           0.4156494474538872,
           53
          ]
         ],
         "hovertemplate": "Cells: %{x}<br>Entropy number: %{y}<br>Snap Idx: %{customdata[2]:03d}<br>Mapped: %{customdata[0]}<br>Rel Error: %{customdata[1]:.3f}%<extra></extra>",
         "line": {
          "color": "rgb(62, 146, 247)"
         },
         "mode": "markers+lines",
         "name": "053",
         "opacity": 0.4,
         "type": "scatter",
         "x": {
          "bdata": "iIIBAM2DAQA=",
          "dtype": "i4"
         },
         "y": {
          "bdata": "JyxJaKDol0CBbRojEQKYQA==",
          "dtype": "f8"
         }
        },
        {
         "customdata": [
          [
           "Original Comsol Mesh",
           0,
           54
          ],
          [
           "s100_100_100_b0_4000_0_5000_-4000_0",
           0.3539950165767036,
           54
          ]
         ],
         "hovertemplate": "Cells: %{x}<br>Entropy number: %{y}<br>Snap Idx: %{customdata[2]:03d}<br>Mapped: %{customdata[0]}<br>Rel Error: %{customdata[1]:.3f}%<extra></extra>",
         "line": {
          "color": "rgb(61, 148, 248)"
         },
         "mode": "markers+lines",
         "name": "054",
         "opacity": 0.4,
         "type": "scatter",
         "x": {
          "bdata": "iIIBAM2DAQA=",
          "dtype": "i4"
         },
         "y": {
          "bdata": "BrbHGAalnEC+Z5V7+76cQA==",
          "dtype": "f8"
         }
        },
        {
         "customdata": [
          [
           "Original Comsol Mesh",
           0,
           55
          ],
          [
           "s100_100_100_b0_4000_0_5000_-4000_0",
           0.38144216128417624,
           55
          ]
         ],
         "hovertemplate": "Cells: %{x}<br>Entropy number: %{y}<br>Snap Idx: %{customdata[2]:03d}<br>Mapped: %{customdata[0]}<br>Rel Error: %{customdata[1]:.3f}%<extra></extra>",
         "line": {
          "color": "rgb(60, 151, 248)"
         },
         "mode": "markers+lines",
         "name": "055",
         "opacity": 0.4,
         "type": "scatter",
         "x": {
          "bdata": "iIIBAM2DAQA=",
          "dtype": "i4"
         },
         "y": {
          "bdata": "07289ZH8lUAdWZg2ChKWQA==",
          "dtype": "f8"
         }
        },
        {
         "customdata": [
          [
           "Original Comsol Mesh",
           0,
           56
          ],
          [
           "s100_100_100_b0_4000_0_5000_-4000_0",
           0.38018235810910184,
           56
          ]
         ],
         "hovertemplate": "Cells: %{x}<br>Entropy number: %{y}<br>Snap Idx: %{customdata[2]:03d}<br>Mapped: %{customdata[0]}<br>Rel Error: %{customdata[1]:.3f}%<extra></extra>",
         "line": {
          "color": "rgb(60, 153, 249)"
         },
         "mode": "markers+lines",
         "name": "056",
         "opacity": 0.4,
         "type": "scatter",
         "x": {
          "bdata": "iIIBAM2DAQA=",
          "dtype": "i4"
         },
         "y": {
          "bdata": "fQDAfcCFpEDrXjHLuZmkQA==",
          "dtype": "f8"
         }
        },
        {
         "customdata": [
          [
           "Original Comsol Mesh",
           0,
           57
          ],
          [
           "s100_100_100_b0_4000_0_5000_-4000_0",
           0.34064805380286795,
           57
          ]
         ],
         "hovertemplate": "Cells: %{x}<br>Entropy number: %{y}<br>Snap Idx: %{customdata[2]:03d}<br>Mapped: %{customdata[0]}<br>Rel Error: %{customdata[1]:.3f}%<extra></extra>",
         "line": {
          "color": "rgb(59, 155, 250)"
         },
         "mode": "markers+lines",
         "name": "057",
         "opacity": 0.4,
         "type": "scatter",
         "x": {
          "bdata": "iIIBAM2DAQA=",
          "dtype": "i4"
         },
         "y": {
          "bdata": "QmVxBk4zn0CsMyRtg06fQA==",
          "dtype": "f8"
         }
        },
        {
         "customdata": [
          [
           "Original Comsol Mesh",
           0,
           58
          ],
          [
           "s100_100_100_b0_4000_0_5000_-4000_0",
           0.38247175214020207,
           58
          ]
         ],
         "hovertemplate": "Cells: %{x}<br>Entropy number: %{y}<br>Snap Idx: %{customdata[2]:03d}<br>Mapped: %{customdata[0]}<br>Rel Error: %{customdata[1]:.3f}%<extra></extra>",
         "line": {
          "color": "rgb(58, 158, 251)"
         },
         "mode": "markers+lines",
         "name": "058",
         "opacity": 0.4,
         "type": "scatter",
         "x": {
          "bdata": "iIIBAM2DAQA=",
          "dtype": "i4"
         },
         "y": {
          "bdata": "Kw7Q17STpUBjHsRB1ailQA==",
          "dtype": "f8"
         }
        },
        {
         "customdata": [
          [
           "Original Comsol Mesh",
           0,
           59
          ],
          [
           "s100_100_100_b0_4000_0_5000_-4000_0",
           0.23020251715106876,
           59
          ]
         ],
         "hovertemplate": "Cells: %{x}<br>Entropy number: %{y}<br>Snap Idx: %{customdata[2]:03d}<br>Mapped: %{customdata[0]}<br>Rel Error: %{customdata[1]:.3f}%<extra></extra>",
         "line": {
          "color": "rgb(58, 160, 251)"
         },
         "mode": "markers+lines",
         "name": "059",
         "opacity": 0.4,
         "type": "scatter",
         "x": {
          "bdata": "iIIBAM2DAQA=",
          "dtype": "i4"
         },
         "y": {
          "bdata": "Obmoge1ypUAd/1ZpkX+lQA==",
          "dtype": "f8"
         }
        },
        {
         "customdata": [
          [
           "Original Comsol Mesh",
           0,
           60
          ],
          [
           "s100_100_100_b0_4000_0_5000_-4000_0",
           0.2395030821273867,
           60
          ]
         ],
         "hovertemplate": "Cells: %{x}<br>Entropy number: %{y}<br>Snap Idx: %{customdata[2]:03d}<br>Mapped: %{customdata[0]}<br>Rel Error: %{customdata[1]:.3f}%<extra></extra>",
         "line": {
          "color": "rgb(57, 162, 252)"
         },
         "mode": "markers+lines",
         "name": "060",
         "opacity": 0.4,
         "type": "scatter",
         "x": {
          "bdata": "iIIBAM2DAQA=",
          "dtype": "i4"
         },
         "y": {
          "bdata": "ZSL9T3MnpkDWywujCDWmQA==",
          "dtype": "f8"
         }
        },
        {
         "customdata": [
          [
           "Original Comsol Mesh",
           0,
           61
          ],
          [
           "s100_100_100_b0_4000_0_5000_-4000_0",
           0.33858469950066344,
           61
          ]
         ],
         "hovertemplate": "Cells: %{x}<br>Entropy number: %{y}<br>Snap Idx: %{customdata[2]:03d}<br>Mapped: %{customdata[0]}<br>Rel Error: %{customdata[1]:.3f}%<extra></extra>",
         "line": {
          "color": "rgb(55, 164, 250)"
         },
         "mode": "markers+lines",
         "name": "061",
         "opacity": 0.4,
         "type": "scatter",
         "x": {
          "bdata": "iIIBAM2DAQA=",
          "dtype": "i4"
         },
         "y": {
          "bdata": "QKTzhfnVnkBlWm7Ws/CeQA==",
          "dtype": "f8"
         }
        },
        {
         "customdata": [
          [
           "Original Comsol Mesh",
           0,
           62
          ],
          [
           "s100_100_100_b0_4000_0_5000_-4000_0",
           0.4163413906511516,
           62
          ]
         ],
         "hovertemplate": "Cells: %{x}<br>Entropy number: %{y}<br>Snap Idx: %{customdata[2]:03d}<br>Mapped: %{customdata[0]}<br>Rel Error: %{customdata[1]:.3f}%<extra></extra>",
         "line": {
          "color": "rgb(54, 166, 248)"
         },
         "mode": "markers+lines",
         "name": "062",
         "opacity": 0.4,
         "type": "scatter",
         "x": {
          "bdata": "iIIBAM2DAQA=",
          "dtype": "i4"
         },
         "y": {
          "bdata": "QdOGfpqzl0DGr1aN3cyXQA==",
          "dtype": "f8"
         }
        },
        {
         "customdata": [
          [
           "Original Comsol Mesh",
           0,
           63
          ],
          [
           "s100_100_100_b0_4000_0_5000_-4000_0",
           0.3884561524719884,
           63
          ]
         ],
         "hovertemplate": "Cells: %{x}<br>Entropy number: %{y}<br>Snap Idx: %{customdata[2]:03d}<br>Mapped: %{customdata[0]}<br>Rel Error: %{customdata[1]:.3f}%<extra></extra>",
         "line": {
          "color": "rgb(52, 169, 246)"
         },
         "mode": "markers+lines",
         "name": "063",
         "opacity": 0.4,
         "type": "scatter",
         "x": {
          "bdata": "iIIBAM2DAQA=",
          "dtype": "i4"
         },
         "y": {
          "bdata": "LwE/LX2mo0Dy/DS8B7qjQA==",
          "dtype": "f8"
         }
        },
        {
         "customdata": [
          [
           "Original Comsol Mesh",
           0,
           64
          ],
          [
           "s100_100_100_b0_4000_0_5000_-4000_0",
           0.08209554344342038,
           64
          ]
         ],
         "hovertemplate": "Cells: %{x}<br>Entropy number: %{y}<br>Snap Idx: %{customdata[2]:03d}<br>Mapped: %{customdata[0]}<br>Rel Error: %{customdata[1]:.3f}%<extra></extra>",
         "line": {
          "color": "rgb(51, 171, 244)"
         },
         "mode": "markers+lines",
         "name": "064",
         "opacity": 0.4,
         "type": "scatter",
         "x": {
          "bdata": "iIIBAM2DAQA=",
          "dtype": "i4"
         },
         "y": {
          "bdata": "Qo5ORsDRq0Dh1bgDmderQA==",
          "dtype": "f8"
         }
        },
        {
         "customdata": [
          [
           "Original Comsol Mesh",
           0,
           65
          ],
          [
           "s100_100_100_b0_4000_0_5000_-4000_0",
           0.41764404262568683,
           65
          ]
         ],
         "hovertemplate": "Cells: %{x}<br>Entropy number: %{y}<br>Snap Idx: %{customdata[2]:03d}<br>Mapped: %{customdata[0]}<br>Rel Error: %{customdata[1]:.3f}%<extra></extra>",
         "line": {
          "color": "rgb(49, 173, 242)"
         },
         "mode": "markers+lines",
         "name": "065",
         "opacity": 0.4,
         "type": "scatter",
         "x": {
          "bdata": "iIIBAM2DAQA=",
          "dtype": "i4"
         },
         "y": {
          "bdata": "M8RrwtZNl0AWUns/wWaXQA==",
          "dtype": "f8"
         }
        },
        {
         "customdata": [
          [
           "Original Comsol Mesh",
           0,
           66
          ],
          [
           "s100_100_100_b0_4000_0_5000_-4000_0",
           0.42164374094039636,
           66
          ]
         ],
         "hovertemplate": "Cells: %{x}<br>Entropy number: %{y}<br>Snap Idx: %{customdata[2]:03d}<br>Mapped: %{customdata[0]}<br>Rel Error: %{customdata[1]:.3f}%<extra></extra>",
         "line": {
          "color": "rgb(48, 176, 240)"
         },
         "mode": "markers+lines",
         "name": "066",
         "opacity": 0.4,
         "type": "scatter",
         "x": {
          "bdata": "iIIBAM2DAQA=",
          "dtype": "i4"
         },
         "y": {
          "bdata": "ueN4mR02jkDE05fduVaOQA==",
          "dtype": "f8"
         }
        },
        {
         "customdata": [
          [
           "Original Comsol Mesh",
           0,
           67
          ],
          [
           "s100_100_100_b0_4000_0_5000_-4000_0",
           0.30166065659880936,
           67
          ]
         ],
         "hovertemplate": "Cells: %{x}<br>Entropy number: %{y}<br>Snap Idx: %{customdata[2]:03d}<br>Mapped: %{customdata[0]}<br>Rel Error: %{customdata[1]:.3f}%<extra></extra>",
         "line": {
          "color": "rgb(46, 178, 238)"
         },
         "mode": "markers+lines",
         "name": "067",
         "opacity": 0.4,
         "type": "scatter",
         "x": {
          "bdata": "iIIBAM2DAQA=",
          "dtype": "i4"
         },
         "y": {
          "bdata": "rNpQC9D/mECH0MdOHhOZQA==",
          "dtype": "f8"
         }
        },
        {
         "customdata": [
          [
           "Original Comsol Mesh",
           0,
           68
          ],
          [
           "s100_100_100_b0_4000_0_5000_-4000_0",
           0.3587844422255563,
           68
          ]
         ],
         "hovertemplate": "Cells: %{x}<br>Entropy number: %{y}<br>Snap Idx: %{customdata[2]:03d}<br>Mapped: %{customdata[0]}<br>Rel Error: %{customdata[1]:.3f}%<extra></extra>",
         "line": {
          "color": "rgb(45, 180, 236)"
         },
         "mode": "markers+lines",
         "name": "068",
         "opacity": 0.4,
         "type": "scatter",
         "x": {
          "bdata": "iIIBAM2DAQA=",
          "dtype": "i4"
         },
         "y": {
          "bdata": "YDMueYGhpkD4R2i9SramQA==",
          "dtype": "f8"
         }
        },
        {
         "customdata": [
          [
           "Original Comsol Mesh",
           0,
           69
          ],
          [
           "s100_100_100_b0_4000_0_5000_-4000_0",
           0.34867155395086247,
           69
          ]
         ],
         "hovertemplate": "Cells: %{x}<br>Entropy number: %{y}<br>Snap Idx: %{customdata[2]:03d}<br>Mapped: %{customdata[0]}<br>Rel Error: %{customdata[1]:.3f}%<extra></extra>",
         "line": {
          "color": "rgb(43, 182, 234)"
         },
         "mode": "markers+lines",
         "name": "069",
         "opacity": 0.4,
         "type": "scatter",
         "x": {
          "bdata": "iIIBAM2DAQA=",
          "dtype": "i4"
         },
         "y": {
          "bdata": "NeSWKJccoEBleL3D+CqgQA==",
          "dtype": "f8"
         }
        },
        {
         "customdata": [
          [
           "Original Comsol Mesh",
           0,
           70
          ],
          [
           "s100_100_100_b0_4000_0_5000_-4000_0",
           0.3480948859677621,
           70
          ]
         ],
         "hovertemplate": "Cells: %{x}<br>Entropy number: %{y}<br>Snap Idx: %{customdata[2]:03d}<br>Mapped: %{customdata[0]}<br>Rel Error: %{customdata[1]:.3f}%<extra></extra>",
         "line": {
          "color": "rgb(42, 184, 232)"
         },
         "mode": "markers+lines",
         "name": "070",
         "opacity": 0.4,
         "type": "scatter",
         "x": {
          "bdata": "iIIBAM2DAQA=",
          "dtype": "i4"
         },
         "y": {
          "bdata": "WIX49dCRnEDeBVR4RqucQA==",
          "dtype": "f8"
         }
        },
        {
         "customdata": [
          [
           "Original Comsol Mesh",
           0,
           71
          ],
          [
           "s100_100_100_b0_4000_0_5000_-4000_0",
           0.3462420693979654,
           71
          ]
         ],
         "hovertemplate": "Cells: %{x}<br>Entropy number: %{y}<br>Snap Idx: %{customdata[2]:03d}<br>Mapped: %{customdata[0]}<br>Rel Error: %{customdata[1]:.3f}%<extra></extra>",
         "line": {
          "color": "rgb(40, 187, 230)"
         },
         "mode": "markers+lines",
         "name": "071",
         "opacity": 0.4,
         "type": "scatter",
         "x": {
          "bdata": "iIIBAM2DAQA=",
          "dtype": "i4"
         },
         "y": {
          "bdata": "SxV7fhaOpkCEOkCHFKKmQA==",
          "dtype": "f8"
         }
        },
        {
         "customdata": [
          [
           "Original Comsol Mesh",
           0,
           72
          ],
          [
           "s100_100_100_b0_4000_0_5000_-4000_0",
           0.4218126817491818,
           72
          ]
         ],
         "hovertemplate": "Cells: %{x}<br>Entropy number: %{y}<br>Snap Idx: %{customdata[2]:03d}<br>Mapped: %{customdata[0]}<br>Rel Error: %{customdata[1]:.3f}%<extra></extra>",
         "line": {
          "color": "rgb(39, 189, 228)"
         },
         "mode": "markers+lines",
         "name": "072",
         "opacity": 0.4,
         "type": "scatter",
         "x": {
          "bdata": "iIIBAM2DAQA=",
          "dtype": "i4"
         },
         "y": {
          "bdata": "kISYEttxj0AWcvOhz5OPQA==",
          "dtype": "f8"
         }
        },
        {
         "customdata": [
          [
           "Original Comsol Mesh",
           0,
           73
          ],
          [
           "s100_100_100_b0_4000_0_5000_-4000_0",
           0.27046431134868326,
           73
          ]
         ],
         "hovertemplate": "Cells: %{x}<br>Entropy number: %{y}<br>Snap Idx: %{customdata[2]:03d}<br>Mapped: %{customdata[0]}<br>Rel Error: %{customdata[1]:.3f}%<extra></extra>",
         "line": {
          "color": "rgb(37, 191, 226)"
         },
         "mode": "markers+lines",
         "name": "073",
         "opacity": 0.4,
         "type": "scatter",
         "x": {
          "bdata": "iIIBAM2DAQA=",
          "dtype": "i4"
         },
         "y": {
          "bdata": "8cuNz3hCnEDbB33gCVacQA==",
          "dtype": "f8"
         }
        },
        {
         "customdata": [
          [
           "Original Comsol Mesh",
           0,
           74
          ],
          [
           "s100_100_100_b0_4000_0_5000_-4000_0",
           0.4221806429286508,
           74
          ]
         ],
         "hovertemplate": "Cells: %{x}<br>Entropy number: %{y}<br>Snap Idx: %{customdata[2]:03d}<br>Mapped: %{customdata[0]}<br>Rel Error: %{customdata[1]:.3f}%<extra></extra>",
         "line": {
          "color": "rgb(36, 194, 224)"
         },
         "mode": "markers+lines",
         "name": "074",
         "opacity": 0.4,
         "type": "scatter",
         "x": {
          "bdata": "iIIBAM2DAQA=",
          "dtype": "i4"
         },
         "y": {
          "bdata": "SGLZytIwkUDAVAQgZ0ORQA==",
          "dtype": "f8"
         }
        },
        {
         "customdata": [
          [
           "Original Comsol Mesh",
           0,
           75
          ],
          [
           "s100_100_100_b0_4000_0_5000_-4000_0",
           0.342408580478331,
           75
          ]
         ],
         "hovertemplate": "Cells: %{x}<br>Entropy number: %{y}<br>Snap Idx: %{customdata[2]:03d}<br>Mapped: %{customdata[0]}<br>Rel Error: %{customdata[1]:.3f}%<extra></extra>",
         "line": {
          "color": "rgb(34, 196, 222)"
         },
         "mode": "markers+lines",
         "name": "075",
         "opacity": 0.4,
         "type": "scatter",
         "x": {
          "bdata": "iIIBAM2DAQA=",
          "dtype": "i4"
         },
         "y": {
          "bdata": "kVuBka00lUBMbKopREeVQA==",
          "dtype": "f8"
         }
        },
        {
         "customdata": [
          [
           "Original Comsol Mesh",
           0,
           76
          ],
          [
           "s100_100_100_b0_4000_0_5000_-4000_0",
           0.4312292692726991,
           76
          ]
         ],
         "hovertemplate": "Cells: %{x}<br>Entropy number: %{y}<br>Snap Idx: %{customdata[2]:03d}<br>Mapped: %{customdata[0]}<br>Rel Error: %{customdata[1]:.3f}%<extra></extra>",
         "line": {
          "color": "rgb(33, 198, 220)"
         },
         "mode": "markers+lines",
         "name": "076",
         "opacity": 0.4,
         "type": "scatter",
         "x": {
          "bdata": "iIIBAM2DAQA=",
          "dtype": "i4"
         },
         "y": {
          "bdata": "oEDyfaqUlUDfOhZufayVQA==",
          "dtype": "f8"
         }
        },
        {
         "customdata": [
          [
           "Original Comsol Mesh",
           0,
           77
          ],
          [
           "s100_100_100_b0_4000_0_5000_-4000_0",
           0.43993691026754167,
           77
          ]
         ],
         "hovertemplate": "Cells: %{x}<br>Entropy number: %{y}<br>Snap Idx: %{customdata[2]:03d}<br>Mapped: %{customdata[0]}<br>Rel Error: %{customdata[1]:.3f}%<extra></extra>",
         "line": {
          "color": "rgb(31, 200, 218)"
         },
         "mode": "markers+lines",
         "name": "077",
         "opacity": 0.4,
         "type": "scatter",
         "x": {
          "bdata": "iIIBAM2DAQA=",
          "dtype": "i4"
         },
         "y": {
          "bdata": "Diux2rh1kkAVvPUkg4qSQA==",
          "dtype": "f8"
         }
        },
        {
         "customdata": [
          [
           "Original Comsol Mesh",
           0,
           78
          ],
          [
           "s100_100_100_b0_4000_0_5000_-4000_0",
           0.2647580137371634,
           78
          ]
         ],
         "hovertemplate": "Cells: %{x}<br>Entropy number: %{y}<br>Snap Idx: %{customdata[2]:03d}<br>Mapped: %{customdata[0]}<br>Rel Error: %{customdata[1]:.3f}%<extra></extra>",
         "line": {
          "color": "rgb(30, 203, 216)"
         },
         "mode": "markers+lines",
         "name": "078",
         "opacity": 0.4,
         "type": "scatter",
         "x": {
          "bdata": "iIIBAM2DAQA=",
          "dtype": "i4"
         },
         "y": {
          "bdata": "YQXtfUvoo0B8QUmpyfWjQA==",
          "dtype": "f8"
         }
        },
        {
         "customdata": [
          [
           "Original Comsol Mesh",
           0,
           79
          ],
          [
           "s100_100_100_b0_4000_0_5000_-4000_0",
           0.42169995706772595,
           79
          ]
         ],
         "hovertemplate": "Cells: %{x}<br>Entropy number: %{y}<br>Snap Idx: %{customdata[2]:03d}<br>Mapped: %{customdata[0]}<br>Rel Error: %{customdata[1]:.3f}%<extra></extra>",
         "line": {
          "color": "rgb(28, 205, 214)"
         },
         "mode": "markers+lines",
         "name": "079",
         "opacity": 0.4,
         "type": "scatter",
         "x": {
          "bdata": "iIIBAM2DAQA=",
          "dtype": "i4"
         },
         "y": {
          "bdata": "tq4CcuuejkDA50f3+b+OQA==",
          "dtype": "f8"
         }
        },
        {
         "customdata": [
          [
           "Original Comsol Mesh",
           0,
           80
          ],
          [
           "s100_100_100_b0_4000_0_5000_-4000_0",
           0.42071550350669823,
           80
          ]
         ],
         "hovertemplate": "Cells: %{x}<br>Entropy number: %{y}<br>Snap Idx: %{customdata[2]:03d}<br>Mapped: %{customdata[0]}<br>Rel Error: %{customdata[1]:.3f}%<extra></extra>",
         "line": {
          "color": "rgb(27, 207, 212)"
         },
         "mode": "markers+lines",
         "name": "080",
         "opacity": 0.4,
         "type": "scatter",
         "x": {
          "bdata": "iIIBAM2DAQA=",
          "dtype": "i4"
         },
         "y": {
          "bdata": "aOcySZRnkUBEFQIWU3qRQA==",
          "dtype": "f8"
         }
        },
        {
         "customdata": [
          [
           "Original Comsol Mesh",
           0,
           81
          ],
          [
           "s100_100_100_b0_4000_0_5000_-4000_0",
           0.2838986648677843,
           81
          ]
         ],
         "hovertemplate": "Cells: %{x}<br>Entropy number: %{y}<br>Snap Idx: %{customdata[2]:03d}<br>Mapped: %{customdata[0]}<br>Rel Error: %{customdata[1]:.3f}%<extra></extra>",
         "line": {
          "color": "rgb(27, 208, 210)"
         },
         "mode": "markers+lines",
         "name": "081",
         "opacity": 0.4,
         "type": "scatter",
         "x": {
          "bdata": "iIIBAM2DAQA=",
          "dtype": "i4"
         },
         "y": {
          "bdata": "gKwv3dZnmkDQh7HIB3uaQA==",
          "dtype": "f8"
         }
        },
        {
         "customdata": [
          [
           "Original Comsol Mesh",
           0,
           82
          ],
          [
           "s100_100_100_b0_4000_0_5000_-4000_0",
           0.37091773326587857,
           82
          ]
         ],
         "hovertemplate": "Cells: %{x}<br>Entropy number: %{y}<br>Snap Idx: %{customdata[2]:03d}<br>Mapped: %{customdata[0]}<br>Rel Error: %{customdata[1]:.3f}%<extra></extra>",
         "line": {
          "color": "rgb(28, 210, 207)"
         },
         "mode": "markers+lines",
         "name": "082",
         "opacity": 0.4,
         "type": "scatter",
         "x": {
          "bdata": "iIIBAM2DAQA=",
          "dtype": "i4"
         },
         "y": {
          "bdata": "cujcc2nMokCwck8TQ96iQA==",
          "dtype": "f8"
         }
        },
        {
         "customdata": [
          [
           "Original Comsol Mesh",
           0,
           83
          ],
          [
           "s100_100_100_b0_4000_0_5000_-4000_0",
           0.39900425896861264,
           83
          ]
         ],
         "hovertemplate": "Cells: %{x}<br>Entropy number: %{y}<br>Snap Idx: %{customdata[2]:03d}<br>Mapped: %{customdata[0]}<br>Rel Error: %{customdata[1]:.3f}%<extra></extra>",
         "line": {
          "color": "rgb(28, 211, 205)"
         },
         "mode": "markers+lines",
         "name": "083",
         "opacity": 0.4,
         "type": "scatter",
         "x": {
          "bdata": "iIIBAM2DAQA=",
          "dtype": "i4"
         },
         "y": {
          "bdata": "vgbBSsKgokAnhltYybOiQA==",
          "dtype": "f8"
         }
        },
        {
         "customdata": [
          [
           "Original Comsol Mesh",
           0,
           84
          ],
          [
           "s100_100_100_b0_4000_0_5000_-4000_0",
           0.3935029384604872,
           84
          ]
         ],
         "hovertemplate": "Cells: %{x}<br>Entropy number: %{y}<br>Snap Idx: %{customdata[2]:03d}<br>Mapped: %{customdata[0]}<br>Rel Error: %{customdata[1]:.3f}%<extra></extra>",
         "line": {
          "color": "rgb(29, 213, 203)"
         },
         "mode": "markers+lines",
         "name": "084",
         "opacity": 0.4,
         "type": "scatter",
         "x": {
          "bdata": "iIIBAM2DAQA=",
          "dtype": "i4"
         },
         "y": {
          "bdata": "QsQcDJX7okBmmr9utA6jQA==",
          "dtype": "f8"
         }
        },
        {
         "customdata": [
          [
           "Original Comsol Mesh",
           0,
           85
          ],
          [
           "s100_100_100_b0_4000_0_5000_-4000_0",
           0.3423270144623497,
           85
          ]
         ],
         "hovertemplate": "Cells: %{x}<br>Entropy number: %{y}<br>Snap Idx: %{customdata[2]:03d}<br>Mapped: %{customdata[0]}<br>Rel Error: %{customdata[1]:.3f}%<extra></extra>",
         "line": {
          "color": "rgb(29, 214, 201)"
         },
         "mode": "markers+lines",
         "name": "085",
         "opacity": 0.4,
         "type": "scatter",
         "x": {
          "bdata": "iIIBAM2DAQA=",
          "dtype": "i4"
         },
         "y": {
          "bdata": "sBabOgBnnUBIuO2RxICdQA==",
          "dtype": "f8"
         }
        },
        {
         "customdata": [
          [
           "Original Comsol Mesh",
           0,
           86
          ],
          [
           "s100_100_100_b0_4000_0_5000_-4000_0",
           0.37132651345292345,
           86
          ]
         ],
         "hovertemplate": "Cells: %{x}<br>Entropy number: %{y}<br>Snap Idx: %{customdata[2]:03d}<br>Mapped: %{customdata[0]}<br>Rel Error: %{customdata[1]:.3f}%<extra></extra>",
         "line": {
          "color": "rgb(30, 216, 198)"
         },
         "mode": "markers+lines",
         "name": "086",
         "opacity": 0.4,
         "type": "scatter",
         "x": {
          "bdata": "iIIBAM2DAQA=",
          "dtype": "i4"
         },
         "y": {
          "bdata": "qhl2NBdzpUA0kVYDe4elQA==",
          "dtype": "f8"
         }
        },
        {
         "customdata": [
          [
           "Original Comsol Mesh",
           0,
           87
          ],
          [
           "s100_100_100_b0_4000_0_5000_-4000_0",
           0.4218690746020668,
           87
          ]
         ],
         "hovertemplate": "Cells: %{x}<br>Entropy number: %{y}<br>Snap Idx: %{customdata[2]:03d}<br>Mapped: %{customdata[0]}<br>Rel Error: %{customdata[1]:.3f}%<extra></extra>",
         "line": {
          "color": "rgb(30, 217, 196)"
         },
         "mode": "markers+lines",
         "name": "087",
         "opacity": 0.4,
         "type": "scatter",
         "x": {
          "bdata": "iIIBAM2DAQA=",
          "dtype": "i4"
         },
         "y": {
          "bdata": "Rfyhv/rbj0A9WisVY/6PQA==",
          "dtype": "f8"
         }
        },
        {
         "customdata": [
          [
           "Original Comsol Mesh",
           0,
           88
          ],
          [
           "s100_100_100_b0_4000_0_5000_-4000_0",
           0.4436303032906234,
           88
          ]
         ],
         "hovertemplate": "Cells: %{x}<br>Entropy number: %{y}<br>Snap Idx: %{customdata[2]:03d}<br>Mapped: %{customdata[0]}<br>Rel Error: %{customdata[1]:.3f}%<extra></extra>",
         "line": {
          "color": "rgb(31, 219, 194)"
         },
         "mode": "markers+lines",
         "name": "088",
         "opacity": 0.4,
         "type": "scatter",
         "x": {
          "bdata": "iIIBAM2DAQA=",
          "dtype": "i4"
         },
         "y": {
          "bdata": "DotM00J6nkDCxZnN35yeQA==",
          "dtype": "f8"
         }
        },
        {
         "customdata": [
          [
           "Original Comsol Mesh",
           0,
           89
          ],
          [
           "s100_100_100_b0_4000_0_5000_-4000_0",
           0.374303294989216,
           89
          ]
         ],
         "hovertemplate": "Cells: %{x}<br>Entropy number: %{y}<br>Snap Idx: %{customdata[2]:03d}<br>Mapped: %{customdata[0]}<br>Rel Error: %{customdata[1]:.3f}%<extra></extra>",
         "line": {
          "color": "rgb(31, 220, 191)"
         },
         "mode": "markers+lines",
         "name": "089",
         "opacity": 0.4,
         "type": "scatter",
         "x": {
          "bdata": "iIIBAM2DAQA=",
          "dtype": "i4"
         },
         "y": {
          "bdata": "K1k55gDomUDBnUjL0wCaQA==",
          "dtype": "f8"
         }
        },
        {
         "customdata": [
          [
           "Original Comsol Mesh",
           0,
           90
          ],
          [
           "s100_100_100_b0_4000_0_5000_-4000_0",
           0.39589049050386116,
           90
          ]
         ],
         "hovertemplate": "Cells: %{x}<br>Entropy number: %{y}<br>Snap Idx: %{customdata[2]:03d}<br>Mapped: %{customdata[0]}<br>Rel Error: %{customdata[1]:.3f}%<extra></extra>",
         "line": {
          "color": "rgb(32, 222, 189)"
         },
         "mode": "markers+lines",
         "name": "090",
         "opacity": 0.4,
         "type": "scatter",
         "x": {
          "bdata": "iIIBAM2DAQA=",
          "dtype": "i4"
         },
         "y": {
          "bdata": "wIC459RHmkAW+/hsd2KaQA==",
          "dtype": "f8"
         }
        },
        {
         "customdata": [
          [
           "Original Comsol Mesh",
           0,
           91
          ],
          [
           "s100_100_100_b0_4000_0_5000_-4000_0",
           0.4221388216695162,
           91
          ]
         ],
         "hovertemplate": "Cells: %{x}<br>Entropy number: %{y}<br>Snap Idx: %{customdata[2]:03d}<br>Mapped: %{customdata[0]}<br>Rel Error: %{customdata[1]:.3f}%<extra></extra>",
         "line": {
          "color": "rgb(32, 223, 187)"
         },
         "mode": "markers+lines",
         "name": "091",
         "opacity": 0.4,
         "type": "scatter",
         "x": {
          "bdata": "iIIBAM2DAQA=",
          "dtype": "i4"
         },
         "y": {
          "bdata": "TXAQMX/6kEB/NgNY2AyRQA==",
          "dtype": "f8"
         }
        },
        {
         "customdata": [
          [
           "Original Comsol Mesh",
           0,
           92
          ],
          [
           "s100_100_100_b0_4000_0_5000_-4000_0",
           0.4377553354364422,
           92
          ]
         ],
         "hovertemplate": "Cells: %{x}<br>Entropy number: %{y}<br>Snap Idx: %{customdata[2]:03d}<br>Mapped: %{customdata[0]}<br>Rel Error: %{customdata[1]:.3f}%<extra></extra>",
         "line": {
          "color": "rgb(32, 224, 184)"
         },
         "mode": "markers+lines",
         "name": "092",
         "opacity": 0.4,
         "type": "scatter",
         "x": {
          "bdata": "iIIBAM2DAQA=",
          "dtype": "i4"
         },
         "y": {
          "bdata": "xIdYsuz9n0C5DwBi4xCgQA==",
          "dtype": "f8"
         }
        },
        {
         "customdata": [
          [
           "Original Comsol Mesh",
           0,
           93
          ],
          [
           "s100_100_100_b0_4000_0_5000_-4000_0",
           0.42203782903806164,
           93
          ]
         ],
         "hovertemplate": "Cells: %{x}<br>Entropy number: %{y}<br>Snap Idx: %{customdata[2]:03d}<br>Mapped: %{customdata[0]}<br>Rel Error: %{customdata[1]:.3f}%<extra></extra>",
         "line": {
          "color": "rgb(33, 226, 182)"
         },
         "mode": "markers+lines",
         "name": "093",
         "opacity": 0.4,
         "type": "scatter",
         "x": {
          "bdata": "iIIBAM2DAQA=",
          "dtype": "i4"
         },
         "y": {
          "bdata": "9zE/WnaOkEDX0JmoWaCQQA==",
          "dtype": "f8"
         }
        },
        {
         "customdata": [
          [
           "Original Comsol Mesh",
           0,
           94
          ],
          [
           "s100_100_100_b0_4000_0_5000_-4000_0",
           0.3618547160984506,
           94
          ]
         ],
         "hovertemplate": "Cells: %{x}<br>Entropy number: %{y}<br>Snap Idx: %{customdata[2]:03d}<br>Mapped: %{customdata[0]}<br>Rel Error: %{customdata[1]:.3f}%<extra></extra>",
         "line": {
          "color": "rgb(33, 227, 180)"
         },
         "mode": "markers+lines",
         "name": "094",
         "opacity": 0.4,
         "type": "scatter",
         "x": {
          "bdata": "iIIBAM2DAQA=",
          "dtype": "i4"
         },
         "y": {
          "bdata": "LWC3S1q5mkCqbgnFG9KaQA==",
          "dtype": "f8"
         }
        },
        {
         "customdata": [
          [
           "Original Comsol Mesh",
           0,
           95
          ],
          [
           "s100_100_100_b0_4000_0_5000_-4000_0",
           0.367155279766124,
           95
          ]
         ],
         "hovertemplate": "Cells: %{x}<br>Entropy number: %{y}<br>Snap Idx: %{customdata[2]:03d}<br>Mapped: %{customdata[0]}<br>Rel Error: %{customdata[1]:.3f}%<extra></extra>",
         "line": {
          "color": "rgb(34, 229, 177)"
         },
         "mode": "markers+lines",
         "name": "095",
         "opacity": 0.4,
         "type": "scatter",
         "x": {
          "bdata": "iIIBAM2DAQA=",
          "dtype": "i4"
         },
         "y": {
          "bdata": "XlixxnYWm0Co2qyZ7C+bQA==",
          "dtype": "f8"
         }
        },
        {
         "customdata": [
          [
           "Original Comsol Mesh",
           0,
           96
          ],
          [
           "s100_100_100_b0_4000_0_5000_-4000_0",
           0.36500566862398914,
           96
          ]
         ],
         "hovertemplate": "Cells: %{x}<br>Entropy number: %{y}<br>Snap Idx: %{customdata[2]:03d}<br>Mapped: %{customdata[0]}<br>Rel Error: %{customdata[1]:.3f}%<extra></extra>",
         "line": {
          "color": "rgb(34, 230, 175)"
         },
         "mode": "markers+lines",
         "name": "096",
         "opacity": 0.4,
         "type": "scatter",
         "x": {
          "bdata": "iIIBAM2DAQA=",
          "dtype": "i4"
         },
         "y": {
          "bdata": "oYgB0pxMmkBACQnfL2WaQA==",
          "dtype": "f8"
         }
        },
        {
         "customdata": [
          [
           "Original Comsol Mesh",
           0,
           97
          ],
          [
           "s100_100_100_b0_4000_0_5000_-4000_0",
           0.23733855557173197,
           97
          ]
         ],
         "hovertemplate": "Cells: %{x}<br>Entropy number: %{y}<br>Snap Idx: %{customdata[2]:03d}<br>Mapped: %{customdata[0]}<br>Rel Error: %{customdata[1]:.3f}%<extra></extra>",
         "line": {
          "color": "rgb(35, 232, 173)"
         },
         "mode": "markers+lines",
         "name": "097",
         "opacity": 0.4,
         "type": "scatter",
         "x": {
          "bdata": "iIIBAM2DAQA=",
          "dtype": "i4"
         },
         "y": {
          "bdata": "SBI1FdbWpUC61ScAG+SlQA==",
          "dtype": "f8"
         }
        },
        {
         "customdata": [
          [
           "Original Comsol Mesh",
           0,
           98
          ],
          [
           "s100_100_100_b0_4000_0_5000_-4000_0",
           0.30586880427673085,
           98
          ]
         ],
         "hovertemplate": "Cells: %{x}<br>Entropy number: %{y}<br>Snap Idx: %{customdata[2]:03d}<br>Mapped: %{customdata[0]}<br>Rel Error: %{customdata[1]:.3f}%<extra></extra>",
         "line": {
          "color": "rgb(35, 233, 171)"
         },
         "mode": "markers+lines",
         "name": "098",
         "opacity": 0.4,
         "type": "scatter",
         "x": {
          "bdata": "iIIBAM2DAQA=",
          "dtype": "i4"
         },
         "y": {
          "bdata": "B7cX/IAtoUCeTR5W9DqhQA==",
          "dtype": "f8"
         }
        },
        {
         "customdata": [
          [
           "Original Comsol Mesh",
           0,
           99
          ],
          [
           "s100_100_100_b0_4000_0_5000_-4000_0",
           0.40779384769028937,
           99
          ]
         ],
         "hovertemplate": "Cells: %{x}<br>Entropy number: %{y}<br>Snap Idx: %{customdata[2]:03d}<br>Mapped: %{customdata[0]}<br>Rel Error: %{customdata[1]:.3f}%<extra></extra>",
         "line": {
          "color": "rgb(36, 235, 168)"
         },
         "mode": "markers+lines",
         "name": "099",
         "opacity": 0.4,
         "type": "scatter",
         "x": {
          "bdata": "iIIBAM2DAQA=",
          "dtype": "i4"
         },
         "y": {
          "bdata": "lZI4Q6apokA/dobmIb2iQA==",
          "dtype": "f8"
         }
        },
        {
         "customdata": [
          [
           "Original Comsol Mesh",
           0,
           100
          ],
          [
           "s100_100_100_b0_4000_0_5000_-4000_0",
           0,
           100
          ]
         ],
         "hovertemplate": "Cells: %{x}<br>Entropy number: %{y}<br>Snap Idx: %{customdata[2]:03d}<br>Mapped: %{customdata[0]}<br>Rel Error: %{customdata[1]:.3f}%<extra></extra>",
         "line": {
          "color": "rgb(36, 236, 166)"
         },
         "mode": "markers+lines",
         "name": "100",
         "opacity": 0.4,
         "type": "scatter",
         "x": {
          "bdata": "zYMBAM2DAQA=",
          "dtype": "i4"
         },
         "y": {
          "bdata": "jrtFZyRbmkCOu0VnJFuaQA==",
          "dtype": "f8"
         }
        },
        {
         "customdata": [
          [
           "Original Comsol Mesh",
           0,
           101
          ],
          [
           "s100_100_100_b0_4000_0_5000_-4000_0",
           0,
           101
          ]
         ],
         "hovertemplate": "Cells: %{x}<br>Entropy number: %{y}<br>Snap Idx: %{customdata[2]:03d}<br>Mapped: %{customdata[0]}<br>Rel Error: %{customdata[1]:.3f}%<extra></extra>",
         "line": {
          "color": "rgb(39, 237, 163)"
         },
         "mode": "markers+lines",
         "name": "101",
         "opacity": 0.4,
         "type": "scatter",
         "x": {
          "bdata": "zYMBAM2DAQA=",
          "dtype": "i4"
         },
         "y": {
          "bdata": "1IMXzs75lUDUgxfOzvmVQA==",
          "dtype": "f8"
         }
        },
        {
         "customdata": [
          [
           "Original Comsol Mesh",
           0,
           102
          ],
          [
           "s100_100_100_b0_4000_0_5000_-4000_0",
           0,
           102
          ]
         ],
         "hovertemplate": "Cells: %{x}<br>Entropy number: %{y}<br>Snap Idx: %{customdata[2]:03d}<br>Mapped: %{customdata[0]}<br>Rel Error: %{customdata[1]:.3f}%<extra></extra>",
         "line": {
          "color": "rgb(42, 238, 160)"
         },
         "mode": "markers+lines",
         "name": "102",
         "opacity": 0.4,
         "type": "scatter",
         "x": {
          "bdata": "zYMBAM2DAQA=",
          "dtype": "i4"
         },
         "y": {
          "bdata": "UdmtsjHimkBR2a2yMeKaQA==",
          "dtype": "f8"
         }
        },
        {
         "customdata": [
          [
           "Original Comsol Mesh",
           0,
           103
          ],
          [
           "s100_100_100_b0_4000_0_5000_-4000_0",
           -1.7035832416627984e-14,
           103
          ]
         ],
         "hovertemplate": "Cells: %{x}<br>Entropy number: %{y}<br>Snap Idx: %{customdata[2]:03d}<br>Mapped: %{customdata[0]}<br>Rel Error: %{customdata[1]:.3f}%<extra></extra>",
         "line": {
          "color": "rgb(45, 238, 157)"
         },
         "mode": "markers+lines",
         "name": "103",
         "opacity": 0.4,
         "type": "scatter",
         "x": {
          "bdata": "zYMBAM2DAQA=",
          "dtype": "i4"
         },
         "y": {
          "bdata": "r+w9SLfalECu7D1It9qUQA==",
          "dtype": "f8"
         }
        },
        {
         "customdata": [
          [
           "Original Comsol Mesh",
           0,
           104
          ],
          [
           "s100_100_100_b0_4000_0_5000_-4000_0",
           0,
           104
          ]
         ],
         "hovertemplate": "Cells: %{x}<br>Entropy number: %{y}<br>Snap Idx: %{customdata[2]:03d}<br>Mapped: %{customdata[0]}<br>Rel Error: %{customdata[1]:.3f}%<extra></extra>",
         "line": {
          "color": "rgb(48, 239, 154)"
         },
         "mode": "markers+lines",
         "name": "104",
         "opacity": 0.4,
         "type": "scatter",
         "x": {
          "bdata": "zYMBAM2DAQA=",
          "dtype": "i4"
         },
         "y": {
          "bdata": "YDgADcn/l0BgOAANyf+XQA==",
          "dtype": "f8"
         }
        },
        {
         "customdata": [
          [
           "Original Comsol Mesh",
           0,
           105
          ],
          [
           "s100_100_100_b0_4000_0_5000_-4000_0",
           1.416647565957787e-14,
           105
          ]
         ],
         "hovertemplate": "Cells: %{x}<br>Entropy number: %{y}<br>Snap Idx: %{customdata[2]:03d}<br>Mapped: %{customdata[0]}<br>Rel Error: %{customdata[1]:.3f}%<extra></extra>",
         "line": {
          "color": "rgb(51, 240, 151)"
         },
         "mode": "markers+lines",
         "name": "105",
         "opacity": 0.4,
         "type": "scatter",
         "x": {
          "bdata": "zYMBAM2DAQA=",
          "dtype": "i4"
         },
         "y": {
          "bdata": "DkbWlQwUmUAPRtaVDBSZQA==",
          "dtype": "f8"
         }
        },
        {
         "customdata": [
          [
           "Original Comsol Mesh",
           0,
           106
          ],
          [
           "s100_100_100_b0_4000_0_5000_-4000_0",
           0,
           106
          ]
         ],
         "hovertemplate": "Cells: %{x}<br>Entropy number: %{y}<br>Snap Idx: %{customdata[2]:03d}<br>Mapped: %{customdata[0]}<br>Rel Error: %{customdata[1]:.3f}%<extra></extra>",
         "line": {
          "color": "rgb(54, 241, 149)"
         },
         "mode": "markers+lines",
         "name": "106",
         "opacity": 0.4,
         "type": "scatter",
         "x": {
          "bdata": "zYMBAM2DAQA=",
          "dtype": "i4"
         },
         "y": {
          "bdata": "6scDiARolUDqxwOIBGiVQA==",
          "dtype": "f8"
         }
        },
        {
         "customdata": [
          [
           "Original Comsol Mesh",
           0,
           107
          ],
          [
           "s100_100_100_b0_4000_0_5000_-4000_0",
           -1.3399345702890159e-14,
           107
          ]
         ],
         "hovertemplate": "Cells: %{x}<br>Entropy number: %{y}<br>Snap Idx: %{customdata[2]:03d}<br>Mapped: %{customdata[0]}<br>Rel Error: %{customdata[1]:.3f}%<extra></extra>",
         "line": {
          "color": "rgb(57, 242, 146)"
         },
         "mode": "markers+lines",
         "name": "107",
         "opacity": 0.4,
         "type": "scatter",
         "x": {
          "bdata": "zYMBAM2DAQA=",
          "dtype": "i4"
         },
         "y": {
          "bdata": "MC9A9pqDmkAvL0D2moOaQA==",
          "dtype": "f8"
         }
        },
        {
         "customdata": [
          [
           "Original Comsol Mesh",
           0,
           108
          ],
          [
           "s100_100_100_b0_4000_0_5000_-4000_0",
           0,
           108
          ]
         ],
         "hovertemplate": "Cells: %{x}<br>Entropy number: %{y}<br>Snap Idx: %{customdata[2]:03d}<br>Mapped: %{customdata[0]}<br>Rel Error: %{customdata[1]:.3f}%<extra></extra>",
         "line": {
          "color": "rgb(60, 242, 143)"
         },
         "mode": "markers+lines",
         "name": "108",
         "opacity": 0.4,
         "type": "scatter",
         "x": {
          "bdata": "zYMBAM2DAQA=",
          "dtype": "i4"
         },
         "y": {
          "bdata": "a+49rSJomEBr7j2tImiYQA==",
          "dtype": "f8"
         }
        },
        {
         "customdata": [
          [
           "Original Comsol Mesh",
           0,
           109
          ],
          [
           "s100_100_100_b0_4000_0_5000_-4000_0",
           0,
           109
          ]
         ],
         "hovertemplate": "Cells: %{x}<br>Entropy number: %{y}<br>Snap Idx: %{customdata[2]:03d}<br>Mapped: %{customdata[0]}<br>Rel Error: %{customdata[1]:.3f}%<extra></extra>",
         "line": {
          "color": "rgb(63, 243, 140)"
         },
         "mode": "markers+lines",
         "name": "109",
         "opacity": 0.4,
         "type": "scatter",
         "x": {
          "bdata": "zYMBAM2DAQA=",
          "dtype": "i4"
         },
         "y": {
          "bdata": "6qMT3NqYlEDqoxPc2piUQA==",
          "dtype": "f8"
         }
        },
        {
         "customdata": [
          [
           "Original Comsol Mesh",
           0,
           110
          ],
          [
           "s100_100_100_b0_4000_0_5000_-4000_0",
           0,
           110
          ]
         ],
         "hovertemplate": "Cells: %{x}<br>Entropy number: %{y}<br>Snap Idx: %{customdata[2]:03d}<br>Mapped: %{customdata[0]}<br>Rel Error: %{customdata[1]:.3f}%<extra></extra>",
         "line": {
          "color": "rgb(67, 244, 137)"
         },
         "mode": "markers+lines",
         "name": "110",
         "opacity": 0.4,
         "type": "scatter",
         "x": {
          "bdata": "zYMBAM2DAQA=",
          "dtype": "i4"
         },
         "y": {
          "bdata": "XT1jy6U4mkBdPWPLpTiaQA==",
          "dtype": "f8"
         }
        },
        {
         "customdata": [
          [
           "Original Comsol Mesh",
           0,
           111
          ],
          [
           "s100_100_100_b0_4000_0_5000_-4000_0",
           0,
           111
          ]
         ],
         "hovertemplate": "Cells: %{x}<br>Entropy number: %{y}<br>Snap Idx: %{customdata[2]:03d}<br>Mapped: %{customdata[0]}<br>Rel Error: %{customdata[1]:.3f}%<extra></extra>",
         "line": {
          "color": "rgb(70, 245, 134)"
         },
         "mode": "markers+lines",
         "name": "111",
         "opacity": 0.4,
         "type": "scatter",
         "x": {
          "bdata": "zYMBAM2DAQA=",
          "dtype": "i4"
         },
         "y": {
          "bdata": "43TsWfA1m0DjdOxZ8DWbQA==",
          "dtype": "f8"
         }
        },
        {
         "customdata": [
          [
           "Original Comsol Mesh",
           0,
           112
          ],
          [
           "s100_100_100_b0_4000_0_5000_-4000_0",
           0,
           112
          ]
         ],
         "hovertemplate": "Cells: %{x}<br>Entropy number: %{y}<br>Snap Idx: %{customdata[2]:03d}<br>Mapped: %{customdata[0]}<br>Rel Error: %{customdata[1]:.3f}%<extra></extra>",
         "line": {
          "color": "rgb(73, 246, 131)"
         },
         "mode": "markers+lines",
         "name": "112",
         "opacity": 0.4,
         "type": "scatter",
         "x": {
          "bdata": "zYMBAM2DAQA=",
          "dtype": "i4"
         },
         "y": {
          "bdata": "wA/it5bhl0DAD+K3luGXQA==",
          "dtype": "f8"
         }
        },
        {
         "customdata": [
          [
           "Original Comsol Mesh",
           0,
           113
          ],
          [
           "s100_100_100_b0_4000_0_5000_-4000_0",
           -1.531146059721788e-14,
           113
          ]
         ],
         "hovertemplate": "Cells: %{x}<br>Entropy number: %{y}<br>Snap Idx: %{customdata[2]:03d}<br>Mapped: %{customdata[0]}<br>Rel Error: %{customdata[1]:.3f}%<extra></extra>",
         "line": {
          "color": "rgb(76, 246, 128)"
         },
         "mode": "markers+lines",
         "name": "113",
         "opacity": 0.4,
         "type": "scatter",
         "x": {
          "bdata": "zYMBAM2DAQA=",
          "dtype": "i4"
         },
         "y": {
          "bdata": "AN0v3/Uzl0D/3C/f9TOXQA==",
          "dtype": "f8"
         }
        },
        {
         "customdata": [
          [
           "Original Comsol Mesh",
           0,
           114
          ],
          [
           "s100_100_100_b0_4000_0_5000_-4000_0",
           0,
           114
          ]
         ],
         "hovertemplate": "Cells: %{x}<br>Entropy number: %{y}<br>Snap Idx: %{customdata[2]:03d}<br>Mapped: %{customdata[0]}<br>Rel Error: %{customdata[1]:.3f}%<extra></extra>",
         "line": {
          "color": "rgb(79, 247, 125)"
         },
         "mode": "markers+lines",
         "name": "114",
         "opacity": 0.4,
         "type": "scatter",
         "x": {
          "bdata": "zYMBAM2DAQA=",
          "dtype": "i4"
         },
         "y": {
          "bdata": "HIr4Ix2ImkAcivgjHYiaQA==",
          "dtype": "f8"
         }
        },
        {
         "customdata": [
          [
           "Original Comsol Mesh",
           0,
           115
          ],
          [
           "s100_100_100_b0_4000_0_5000_-4000_0",
           3.002848970215961e-14,
           115
          ]
         ],
         "hovertemplate": "Cells: %{x}<br>Entropy number: %{y}<br>Snap Idx: %{customdata[2]:03d}<br>Mapped: %{customdata[0]}<br>Rel Error: %{customdata[1]:.3f}%<extra></extra>",
         "line": {
          "color": "rgb(82, 248, 122)"
         },
         "mode": "markers+lines",
         "name": "115",
         "opacity": 0.4,
         "type": "scatter",
         "x": {
          "bdata": "zYMBAM2DAQA=",
          "dtype": "i4"
         },
         "y": {
          "bdata": "ukvXoIupl0C8S9egi6mXQA==",
          "dtype": "f8"
         }
        },
        {
         "customdata": [
          [
           "Original Comsol Mesh",
           0,
           116
          ],
          [
           "s100_100_100_b0_4000_0_5000_-4000_0",
           0,
           116
          ]
         ],
         "hovertemplate": "Cells: %{x}<br>Entropy number: %{y}<br>Snap Idx: %{customdata[2]:03d}<br>Mapped: %{customdata[0]}<br>Rel Error: %{customdata[1]:.3f}%<extra></extra>",
         "line": {
          "color": "rgb(85, 249, 120)"
         },
         "mode": "markers+lines",
         "name": "116",
         "opacity": 0.4,
         "type": "scatter",
         "x": {
          "bdata": "zYMBAM2DAQA=",
          "dtype": "i4"
         },
         "y": {
          "bdata": "wHw56BjylkDAfDnoGPKWQA==",
          "dtype": "f8"
         }
        },
        {
         "customdata": [
          [
           "Original Comsol Mesh",
           0,
           117
          ],
          [
           "s100_100_100_b0_4000_0_5000_-4000_0",
           0,
           117
          ]
         ],
         "hovertemplate": "Cells: %{x}<br>Entropy number: %{y}<br>Snap Idx: %{customdata[2]:03d}<br>Mapped: %{customdata[0]}<br>Rel Error: %{customdata[1]:.3f}%<extra></extra>",
         "line": {
          "color": "rgb(88, 250, 117)"
         },
         "mode": "markers+lines",
         "name": "117",
         "opacity": 0.4,
         "type": "scatter",
         "x": {
          "bdata": "zYMBAM2DAQA=",
          "dtype": "i4"
         },
         "y": {
          "bdata": "mFs8eLOgl0CYWzx4s6CXQA==",
          "dtype": "f8"
         }
        },
        {
         "customdata": [
          [
           "Original Comsol Mesh",
           0,
           118
          ],
          [
           "s100_100_100_b0_4000_0_5000_-4000_0",
           1.4538790793526396e-14,
           118
          ]
         ],
         "hovertemplate": "Cells: %{x}<br>Entropy number: %{y}<br>Snap Idx: %{customdata[2]:03d}<br>Mapped: %{customdata[0]}<br>Rel Error: %{customdata[1]:.3f}%<extra></extra>",
         "line": {
          "color": "rgb(91, 250, 114)"
         },
         "mode": "markers+lines",
         "name": "118",
         "opacity": 0.4,
         "type": "scatter",
         "x": {
          "bdata": "zYMBAM2DAQA=",
          "dtype": "i4"
         },
         "y": {
          "bdata": "UDp7WaRvmEBROntZpG+YQA==",
          "dtype": "f8"
         }
        },
        {
         "customdata": [
          [
           "Original Comsol Mesh",
           0,
           119
          ],
          [
           "s100_100_100_b0_4000_0_5000_-4000_0",
           1.6824625334619875e-14,
           119
          ]
         ],
         "hovertemplate": "Cells: %{x}<br>Entropy number: %{y}<br>Snap Idx: %{customdata[2]:03d}<br>Mapped: %{customdata[0]}<br>Rel Error: %{customdata[1]:.3f}%<extra></extra>",
         "line": {
          "color": "rgb(94, 251, 111)"
         },
         "mode": "markers+lines",
         "name": "119",
         "opacity": 0.4,
         "type": "scatter",
         "x": {
          "bdata": "zYMBAM2DAQA=",
          "dtype": "i4"
         },
         "y": {
          "bdata": "ViIaObwdlUBXIho5vB2VQA==",
          "dtype": "f8"
         }
        },
        {
         "customdata": [
          [
           "Original Comsol Mesh",
           0,
           120
          ],
          [
           "s100_100_100_b0_4000_0_5000_-4000_0",
           0,
           120
          ]
         ],
         "hovertemplate": "Cells: %{x}<br>Entropy number: %{y}<br>Snap Idx: %{customdata[2]:03d}<br>Mapped: %{customdata[0]}<br>Rel Error: %{customdata[1]:.3f}%<extra></extra>",
         "line": {
          "color": "rgb(97, 252, 108)"
         },
         "mode": "markers+lines",
         "name": "120",
         "opacity": 0.4,
         "type": "scatter",
         "x": {
          "bdata": "zYMBAM2DAQA=",
          "dtype": "i4"
         },
         "y": {
          "bdata": "0KRcRcuLm0DQpFxFy4ubQA==",
          "dtype": "f8"
         }
        },
        {
         "customdata": [
          [
           "Original Comsol Mesh",
           0,
           121
          ],
          [
           "s100_100_100_b0_4000_0_5000_-4000_0",
           3.2803177779977245e-14,
           121
          ]
         ],
         "hovertemplate": "Cells: %{x}<br>Entropy number: %{y}<br>Snap Idx: %{customdata[2]:03d}<br>Mapped: %{customdata[0]}<br>Rel Error: %{customdata[1]:.3f}%<extra></extra>",
         "line": {
          "color": "rgb(100, 252, 106)"
         },
         "mode": "markers+lines",
         "name": "121",
         "opacity": 0.4,
         "type": "scatter",
         "x": {
          "bdata": "zYMBAM2DAQA=",
          "dtype": "i4"
         },
         "y": {
          "bdata": "nk24gymplUCgTbiDKamVQA==",
          "dtype": "f8"
         }
        },
        {
         "customdata": [
          [
           "Original Comsol Mesh",
           0,
           122
          ],
          [
           "s100_100_100_b0_4000_0_5000_-4000_0",
           2.9759175534735026e-14,
           122
          ]
         ],
         "hovertemplate": "Cells: %{x}<br>Entropy number: %{y}<br>Snap Idx: %{customdata[2]:03d}<br>Mapped: %{customdata[0]}<br>Rel Error: %{customdata[1]:.3f}%<extra></extra>",
         "line": {
          "color": "rgb(104, 252, 103)"
         },
         "mode": "markers+lines",
         "name": "122",
         "opacity": 0.4,
         "type": "scatter",
         "x": {
          "bdata": "zYMBAM2DAQA=",
          "dtype": "i4"
         },
         "y": {
          "bdata": "Gdfial3gl0Ab1+JqXeCXQA==",
          "dtype": "f8"
         }
        },
        {
         "customdata": [
          [
           "Original Comsol Mesh",
           0,
           123
          ],
          [
           "s100_100_100_b0_4000_0_5000_-4000_0",
           -1.5135711177595976e-14,
           123
          ]
         ],
         "hovertemplate": "Cells: %{x}<br>Entropy number: %{y}<br>Snap Idx: %{customdata[2]:03d}<br>Mapped: %{customdata[0]}<br>Rel Error: %{customdata[1]:.3f}%<extra></extra>",
         "line": {
          "color": "rgb(107, 252, 101)"
         },
         "mode": "markers+lines",
         "name": "123",
         "opacity": 0.4,
         "type": "scatter",
         "x": {
          "bdata": "zYMBAM2DAQA=",
          "dtype": "i4"
         },
         "y": {
          "bdata": "LzTrxu54l0AuNOvG7niXQA==",
          "dtype": "f8"
         }
        },
        {
         "customdata": [
          [
           "Original Comsol Mesh",
           0,
           124
          ],
          [
           "s100_100_100_b0_4000_0_5000_-4000_0",
           0,
           124
          ]
         ],
         "hovertemplate": "Cells: %{x}<br>Entropy number: %{y}<br>Snap Idx: %{customdata[2]:03d}<br>Mapped: %{customdata[0]}<br>Rel Error: %{customdata[1]:.3f}%<extra></extra>",
         "line": {
          "color": "rgb(110, 252, 98)"
         },
         "mode": "markers+lines",
         "name": "124",
         "opacity": 0.4,
         "type": "scatter",
         "x": {
          "bdata": "zYMBAM2DAQA=",
          "dtype": "i4"
         },
         "y": {
          "bdata": "HSM9ZmKQnEAdIz1mYpCcQA==",
          "dtype": "f8"
         }
        },
        {
         "customdata": [
          [
           "Original Comsol Mesh",
           0,
           125
          ],
          [
           "s100_100_100_b0_4000_0_5000_-4000_0",
           0,
           125
          ]
         ],
         "hovertemplate": "Cells: %{x}<br>Entropy number: %{y}<br>Snap Idx: %{customdata[2]:03d}<br>Mapped: %{customdata[0]}<br>Rel Error: %{customdata[1]:.3f}%<extra></extra>",
         "line": {
          "color": "rgb(114, 252, 96)"
         },
         "mode": "markers+lines",
         "name": "125",
         "opacity": 0.4,
         "type": "scatter",
         "x": {
          "bdata": "zYMBAM2DAQA=",
          "dtype": "i4"
         },
         "y": {
          "bdata": "vK/aVhK+mEC8r9pWEr6YQA==",
          "dtype": "f8"
         }
        },
        {
         "customdata": [
          [
           "Original Comsol Mesh",
           0,
           126
          ],
          [
           "s100_100_100_b0_4000_0_5000_-4000_0",
           0,
           126
          ]
         ],
         "hovertemplate": "Cells: %{x}<br>Entropy number: %{y}<br>Snap Idx: %{customdata[2]:03d}<br>Mapped: %{customdata[0]}<br>Rel Error: %{customdata[1]:.3f}%<extra></extra>",
         "line": {
          "color": "rgb(117, 252, 93)"
         },
         "mode": "markers+lines",
         "name": "126",
         "opacity": 0.4,
         "type": "scatter",
         "x": {
          "bdata": "zYMBAM2DAQA=",
          "dtype": "i4"
         },
         "y": {
          "bdata": "9GNqXuDjmUD0Y2pe4OOZQA==",
          "dtype": "f8"
         }
        },
        {
         "customdata": [
          [
           "Original Comsol Mesh",
           0,
           127
          ],
          [
           "s100_100_100_b0_4000_0_5000_-4000_0",
           0,
           127
          ]
         ],
         "hovertemplate": "Cells: %{x}<br>Entropy number: %{y}<br>Snap Idx: %{customdata[2]:03d}<br>Mapped: %{customdata[0]}<br>Rel Error: %{customdata[1]:.3f}%<extra></extra>",
         "line": {
          "color": "rgb(120, 252, 91)"
         },
         "mode": "markers+lines",
         "name": "127",
         "opacity": 0.4,
         "type": "scatter",
         "x": {
          "bdata": "zYMBAM2DAQA=",
          "dtype": "i4"
         },
         "y": {
          "bdata": "m3l7xDy0l0CbeXvEPLSXQA==",
          "dtype": "f8"
         }
        },
        {
         "customdata": [
          [
           "Original Comsol Mesh",
           0,
           128
          ],
          [
           "s100_100_100_b0_4000_0_5000_-4000_0",
           0,
           128
          ]
         ],
         "hovertemplate": "Cells: %{x}<br>Entropy number: %{y}<br>Snap Idx: %{customdata[2]:03d}<br>Mapped: %{customdata[0]}<br>Rel Error: %{customdata[1]:.3f}%<extra></extra>",
         "line": {
          "color": "rgb(124, 252, 88)"
         },
         "mode": "markers+lines",
         "name": "128",
         "opacity": 0.4,
         "type": "scatter",
         "x": {
          "bdata": "zYMBAM2DAQA=",
          "dtype": "i4"
         },
         "y": {
          "bdata": "LPggvMChmUAs+CC8wKGZQA==",
          "dtype": "f8"
         }
        },
        {
         "customdata": [
          [
           "Original Comsol Mesh",
           0,
           129
          ],
          [
           "s100_100_100_b0_4000_0_5000_-4000_0",
           0,
           129
          ]
         ],
         "hovertemplate": "Cells: %{x}<br>Entropy number: %{y}<br>Snap Idx: %{customdata[2]:03d}<br>Mapped: %{customdata[0]}<br>Rel Error: %{customdata[1]:.3f}%<extra></extra>",
         "line": {
          "color": "rgb(127, 252, 86)"
         },
         "mode": "markers+lines",
         "name": "129",
         "opacity": 0.4,
         "type": "scatter",
         "x": {
          "bdata": "zYMBAM2DAQA=",
          "dtype": "i4"
         },
         "y": {
          "bdata": "EirkpRsamEASKuSlGxqYQA==",
          "dtype": "f8"
         }
        },
        {
         "customdata": [
          [
           "Original Comsol Mesh",
           0,
           130
          ],
          [
           "s100_100_100_b0_4000_0_5000_-4000_0",
           0,
           130
          ]
         ],
         "hovertemplate": "Cells: %{x}<br>Entropy number: %{y}<br>Snap Idx: %{customdata[2]:03d}<br>Mapped: %{customdata[0]}<br>Rel Error: %{customdata[1]:.3f}%<extra></extra>",
         "line": {
          "color": "rgb(131, 252, 83)"
         },
         "mode": "markers+lines",
         "name": "130",
         "opacity": 0.4,
         "type": "scatter",
         "x": {
          "bdata": "zYMBAM2DAQA=",
          "dtype": "i4"
         },
         "y": {
          "bdata": "uhdr7DkboEC6F2vsORugQA==",
          "dtype": "f8"
         }
        },
        {
         "customdata": [
          [
           "Original Comsol Mesh",
           0,
           131
          ],
          [
           "s100_100_100_b0_4000_0_5000_-4000_0",
           0,
           131
          ]
         ],
         "hovertemplate": "Cells: %{x}<br>Entropy number: %{y}<br>Snap Idx: %{customdata[2]:03d}<br>Mapped: %{customdata[0]}<br>Rel Error: %{customdata[1]:.3f}%<extra></extra>",
         "line": {
          "color": "rgb(134, 252, 81)"
         },
         "mode": "markers+lines",
         "name": "131",
         "opacity": 0.4,
         "type": "scatter",
         "x": {
          "bdata": "zYMBAM2DAQA=",
          "dtype": "i4"
         },
         "y": {
          "bdata": "XAkJG7nSokBcCQkbudKiQA==",
          "dtype": "f8"
         }
        },
        {
         "customdata": [
          [
           "Original Comsol Mesh",
           0,
           132
          ],
          [
           "s100_100_100_b0_4000_0_5000_-4000_0",
           0,
           132
          ]
         ],
         "hovertemplate": "Cells: %{x}<br>Entropy number: %{y}<br>Snap Idx: %{customdata[2]:03d}<br>Mapped: %{customdata[0]}<br>Rel Error: %{customdata[1]:.3f}%<extra></extra>",
         "line": {
          "color": "rgb(137, 252, 79)"
         },
         "mode": "markers+lines",
         "name": "132",
         "opacity": 0.4,
         "type": "scatter",
         "x": {
          "bdata": "zYMBAM2DAQA=",
          "dtype": "i4"
         },
         "y": {
          "bdata": "T2KU86KSoUBPYpTzopKhQA==",
          "dtype": "f8"
         }
        },
        {
         "customdata": [
          [
           "Original Comsol Mesh",
           0,
           133
          ],
          [
           "s100_100_100_b0_4000_0_5000_-4000_0",
           0,
           133
          ]
         ],
         "hovertemplate": "Cells: %{x}<br>Entropy number: %{y}<br>Snap Idx: %{customdata[2]:03d}<br>Mapped: %{customdata[0]}<br>Rel Error: %{customdata[1]:.3f}%<extra></extra>",
         "line": {
          "color": "rgb(141, 252, 76)"
         },
         "mode": "markers+lines",
         "name": "133",
         "opacity": 0.4,
         "type": "scatter",
         "x": {
          "bdata": "zYMBAM2DAQA=",
          "dtype": "i4"
         },
         "y": {
          "bdata": "f1H2D0vvoUB/UfYPS++hQA==",
          "dtype": "f8"
         }
        },
        {
         "customdata": [
          [
           "Original Comsol Mesh",
           0,
           134
          ],
          [
           "s100_100_100_b0_4000_0_5000_-4000_0",
           -2.02428154561596e-14,
           134
          ]
         ],
         "hovertemplate": "Cells: %{x}<br>Entropy number: %{y}<br>Snap Idx: %{customdata[2]:03d}<br>Mapped: %{customdata[0]}<br>Rel Error: %{customdata[1]:.3f}%<extra></extra>",
         "line": {
          "color": "rgb(144, 252, 74)"
         },
         "mode": "markers+lines",
         "name": "134",
         "opacity": 0.4,
         "type": "scatter",
         "x": {
          "bdata": "zYMBAM2DAQA=",
          "dtype": "i4"
         },
         "y": {
          "bdata": "zPrVCO2MoUDL+tUI7YyhQA==",
          "dtype": "f8"
         }
        },
        {
         "customdata": [
          [
           "Original Comsol Mesh",
           0,
           135
          ],
          [
           "s100_100_100_b0_4000_0_5000_-4000_0",
           1.888878418714961e-14,
           135
          ]
         ],
         "hovertemplate": "Cells: %{x}<br>Entropy number: %{y}<br>Snap Idx: %{customdata[2]:03d}<br>Mapped: %{customdata[0]}<br>Rel Error: %{customdata[1]:.3f}%<extra></extra>",
         "line": {
          "color": "rgb(147, 252, 71)"
         },
         "mode": "markers+lines",
         "name": "135",
         "opacity": 0.4,
         "type": "scatter",
         "x": {
          "bdata": "zYMBAM2DAQA=",
          "dtype": "i4"
         },
         "y": {
          "bdata": "0Vnjpv/OokDSWeOm/86iQA==",
          "dtype": "f8"
         }
        },
        {
         "customdata": [
          [
           "Original Comsol Mesh",
           0,
           136
          ],
          [
           "s100_100_100_b0_4000_0_5000_-4000_0",
           0,
           136
          ]
         ],
         "hovertemplate": "Cells: %{x}<br>Entropy number: %{y}<br>Snap Idx: %{customdata[2]:03d}<br>Mapped: %{customdata[0]}<br>Rel Error: %{customdata[1]:.3f}%<extra></extra>",
         "line": {
          "color": "rgb(151, 252, 69)"
         },
         "mode": "markers+lines",
         "name": "136",
         "opacity": 0.4,
         "type": "scatter",
         "x": {
          "bdata": "zYMBAM2DAQA=",
          "dtype": "i4"
         },
         "y": {
          "bdata": "YmSYWgBqokBiZJhaAGqiQA==",
          "dtype": "f8"
         }
        },
        {
         "customdata": [
          [
           "Original Comsol Mesh",
           0,
           137
          ],
          [
           "s100_100_100_b0_4000_0_5000_-4000_0",
           0,
           137
          ]
         ],
         "hovertemplate": "Cells: %{x}<br>Entropy number: %{y}<br>Snap Idx: %{customdata[2]:03d}<br>Mapped: %{customdata[0]}<br>Rel Error: %{customdata[1]:.3f}%<extra></extra>",
         "line": {
          "color": "rgb(154, 252, 66)"
         },
         "mode": "markers+lines",
         "name": "137",
         "opacity": 0.4,
         "type": "scatter",
         "x": {
          "bdata": "zYMBAM2DAQA=",
          "dtype": "i4"
         },
         "y": {
          "bdata": "Cath7L6xoEAJq2HsvrGgQA==",
          "dtype": "f8"
         }
        },
        {
         "customdata": [
          [
           "Original Comsol Mesh",
           0,
           138
          ],
          [
           "s100_100_100_b0_4000_0_5000_-4000_0",
           -1.8558322702759925e-14,
           138
          ]
         ],
         "hovertemplate": "Cells: %{x}<br>Entropy number: %{y}<br>Snap Idx: %{customdata[2]:03d}<br>Mapped: %{customdata[0]}<br>Rel Error: %{customdata[1]:.3f}%<extra></extra>",
         "line": {
          "color": "rgb(157, 252, 64)"
         },
         "mode": "markers+lines",
         "name": "138",
         "opacity": 0.4,
         "type": "scatter",
         "x": {
          "bdata": "zYMBAM2DAQA=",
          "dtype": "i4"
         },
         "y": {
          "bdata": "Lz131Lwko0AuPXfUvCSjQA==",
          "dtype": "f8"
         }
        },
        {
         "customdata": [
          [
           "Original Comsol Mesh",
           0,
           139
          ],
          [
           "s100_100_100_b0_4000_0_5000_-4000_0",
           0,
           139
          ]
         ],
         "hovertemplate": "Cells: %{x}<br>Entropy number: %{y}<br>Snap Idx: %{customdata[2]:03d}<br>Mapped: %{customdata[0]}<br>Rel Error: %{customdata[1]:.3f}%<extra></extra>",
         "line": {
          "color": "rgb(161, 252, 61)"
         },
         "mode": "markers+lines",
         "name": "139",
         "opacity": 0.4,
         "type": "scatter",
         "x": {
          "bdata": "zYMBAM2DAQA=",
          "dtype": "i4"
         },
         "y": {
          "bdata": "17+AeDXIoUDXv4B4NcihQA==",
          "dtype": "f8"
         }
        },
        {
         "customdata": [
          [
           "Original Comsol Mesh",
           0,
           140
          ],
          [
           "s100_100_100_b0_4000_0_5000_-4000_0",
           -2.1466686222813175e-14,
           140
          ]
         ],
         "hovertemplate": "Cells: %{x}<br>Entropy number: %{y}<br>Snap Idx: %{customdata[2]:03d}<br>Mapped: %{customdata[0]}<br>Rel Error: %{customdata[1]:.3f}%<extra></extra>",
         "line": {
          "color": "rgb(164, 252, 59)"
         },
         "mode": "markers+lines",
         "name": "140",
         "opacity": 0.4,
         "type": "scatter",
         "x": {
          "bdata": "zYMBAM2DAQA=",
          "dtype": "i4"
         },
         "y": {
          "bdata": "MXrBz8WMoEAwesHPxYygQA==",
          "dtype": "f8"
         }
        },
        {
         "customdata": [
          [
           "Original Comsol Mesh",
           0,
           141
          ],
          [
           "s100_100_100_b0_4000_0_5000_-4000_0",
           -2.01297959113968e-14,
           141
          ]
         ],
         "hovertemplate": "Cells: %{x}<br>Entropy number: %{y}<br>Snap Idx: %{customdata[2]:03d}<br>Mapped: %{customdata[0]}<br>Rel Error: %{customdata[1]:.3f}%<extra></extra>",
         "line": {
          "color": "rgb(166, 251, 59)"
         },
         "mode": "markers+lines",
         "name": "141",
         "opacity": 0.4,
         "type": "scatter",
         "x": {
          "bdata": "zYMBAM2DAQA=",
          "dtype": "i4"
         },
         "y": {
          "bdata": "uSEf0SamoUC4IR/RJqahQA==",
          "dtype": "f8"
         }
        },
        {
         "customdata": [
          [
           "Original Comsol Mesh",
           0,
           142
          ],
          [
           "s100_100_100_b0_4000_0_5000_-4000_0",
           -1.111878993010735e-14,
           142
          ]
         ],
         "hovertemplate": "Cells: %{x}<br>Entropy number: %{y}<br>Snap Idx: %{customdata[2]:03d}<br>Mapped: %{customdata[0]}<br>Rel Error: %{customdata[1]:.3f}%<extra></extra>",
         "line": {
          "color": "rgb(168, 250, 58)"
         },
         "mode": "markers+lines",
         "name": "142",
         "opacity": 0.4,
         "type": "scatter",
         "x": {
          "bdata": "zYMBAM2DAQA=",
          "dtype": "i4"
         },
         "y": {
          "bdata": "Q8h0n8zzn0BCyHSfzPOfQA==",
          "dtype": "f8"
         }
        },
        {
         "customdata": [
          [
           "Original Comsol Mesh",
           0,
           143
          ],
          [
           "s100_100_100_b0_4000_0_5000_-4000_0",
           0,
           143
          ]
         ],
         "hovertemplate": "Cells: %{x}<br>Entropy number: %{y}<br>Snap Idx: %{customdata[2]:03d}<br>Mapped: %{customdata[0]}<br>Rel Error: %{customdata[1]:.3f}%<extra></extra>",
         "line": {
          "color": "rgb(171, 249, 58)"
         },
         "mode": "markers+lines",
         "name": "143",
         "opacity": 0.4,
         "type": "scatter",
         "x": {
          "bdata": "zYMBAM2DAQA=",
          "dtype": "i4"
         },
         "y": {
          "bdata": "SRNGTVdgoEBJE0ZNV2CgQA==",
          "dtype": "f8"
         }
        },
        {
         "customdata": [
          [
           "Original Comsol Mesh",
           0,
           144
          ],
          [
           "s100_100_100_b0_4000_0_5000_-4000_0",
           0,
           144
          ]
         ],
         "hovertemplate": "Cells: %{x}<br>Entropy number: %{y}<br>Snap Idx: %{customdata[2]:03d}<br>Mapped: %{customdata[0]}<br>Rel Error: %{customdata[1]:.3f}%<extra></extra>",
         "line": {
          "color": "rgb(173, 248, 58)"
         },
         "mode": "markers+lines",
         "name": "144",
         "opacity": 0.4,
         "type": "scatter",
         "x": {
          "bdata": "zYMBAM2DAQA=",
          "dtype": "i4"
         },
         "y": {
          "bdata": "GzZ8bs0moUAbNnxuzSahQA==",
          "dtype": "f8"
         }
        },
        {
         "customdata": [
          [
           "Original Comsol Mesh",
           0,
           145
          ],
          [
           "s100_100_100_b0_4000_0_5000_-4000_0",
           0,
           145
          ]
         ],
         "hovertemplate": "Cells: %{x}<br>Entropy number: %{y}<br>Snap Idx: %{customdata[2]:03d}<br>Mapped: %{customdata[0]}<br>Rel Error: %{customdata[1]:.3f}%<extra></extra>",
         "line": {
          "color": "rgb(175, 247, 57)"
         },
         "mode": "markers+lines",
         "name": "145",
         "opacity": 0.4,
         "type": "scatter",
         "x": {
          "bdata": "zYMBAM2DAQA=",
          "dtype": "i4"
         },
         "y": {
          "bdata": "vwWPsXv/oEC/BY+xe/+gQA==",
          "dtype": "f8"
         }
        },
        {
         "customdata": [
          [
           "Original Comsol Mesh",
           0,
           146
          ],
          [
           "s100_100_100_b0_4000_0_5000_-4000_0",
           0,
           146
          ]
         ],
         "hovertemplate": "Cells: %{x}<br>Entropy number: %{y}<br>Snap Idx: %{customdata[2]:03d}<br>Mapped: %{customdata[0]}<br>Rel Error: %{customdata[1]:.3f}%<extra></extra>",
         "line": {
          "color": "rgb(178, 246, 57)"
         },
         "mode": "markers+lines",
         "name": "146",
         "opacity": 0.4,
         "type": "scatter",
         "x": {
          "bdata": "zYMBAM2DAQA=",
          "dtype": "i4"
         },
         "y": {
          "bdata": "dET0WPyGnkB0RPRY/IaeQA==",
          "dtype": "f8"
         }
        },
        {
         "customdata": [
          [
           "Original Comsol Mesh",
           0,
           147
          ],
          [
           "s100_100_100_b0_4000_0_5000_-4000_0",
           -2.1607785117662053e-14,
           147
          ]
         ],
         "hovertemplate": "Cells: %{x}<br>Entropy number: %{y}<br>Snap Idx: %{customdata[2]:03d}<br>Mapped: %{customdata[0]}<br>Rel Error: %{customdata[1]:.3f}%<extra></extra>",
         "line": {
          "color": "rgb(180, 245, 57)"
         },
         "mode": "markers+lines",
         "name": "147",
         "opacity": 0.4,
         "type": "scatter",
         "x": {
          "bdata": "zYMBAM2DAQA=",
          "dtype": "i4"
         },
         "y": {
          "bdata": "uSjLRxtxoEC4KMtHG3GgQA==",
          "dtype": "f8"
         }
        },
        {
         "customdata": [
          [
           "Original Comsol Mesh",
           0,
           148
          ],
          [
           "s100_100_100_b0_4000_0_5000_-4000_0",
           0,
           148
          ]
         ],
         "hovertemplate": "Cells: %{x}<br>Entropy number: %{y}<br>Snap Idx: %{customdata[2]:03d}<br>Mapped: %{customdata[0]}<br>Rel Error: %{customdata[1]:.3f}%<extra></extra>",
         "line": {
          "color": "rgb(182, 244, 56)"
         },
         "mode": "markers+lines",
         "name": "148",
         "opacity": 0.4,
         "type": "scatter",
         "x": {
          "bdata": "zYMBAM2DAQA=",
          "dtype": "i4"
         },
         "y": {
          "bdata": "lJ0FH7w1oECUnQUfvDWgQA==",
          "dtype": "f8"
         }
        },
        {
         "customdata": [
          [
           "Original Comsol Mesh",
           0,
           149
          ],
          [
           "s100_100_100_b0_4000_0_5000_-4000_0",
           0,
           149
          ]
         ],
         "hovertemplate": "Cells: %{x}<br>Entropy number: %{y}<br>Snap Idx: %{customdata[2]:03d}<br>Mapped: %{customdata[0]}<br>Rel Error: %{customdata[1]:.3f}%<extra></extra>",
         "line": {
          "color": "rgb(184, 243, 56)"
         },
         "mode": "markers+lines",
         "name": "149",
         "opacity": 0.4,
         "type": "scatter",
         "x": {
          "bdata": "zYMBAM2DAQA=",
          "dtype": "i4"
         },
         "y": {
          "bdata": "RujYGTcvokBG6NgZNy+iQA==",
          "dtype": "f8"
         }
        },
        {
         "customdata": [
          [
           "Original Comsol Mesh",
           0,
           150
          ],
          [
           "s100_100_100_b0_4000_0_5000_-4000_0",
           0,
           150
          ]
         ],
         "hovertemplate": "Cells: %{x}<br>Entropy number: %{y}<br>Snap Idx: %{customdata[2]:03d}<br>Mapped: %{customdata[0]}<br>Rel Error: %{customdata[1]:.3f}%<extra></extra>",
         "line": {
          "color": "rgb(187, 242, 56)"
         },
         "mode": "markers+lines",
         "name": "150",
         "opacity": 0.4,
         "type": "scatter",
         "x": {
          "bdata": "zYMBAM2DAQA=",
          "dtype": "i4"
         },
         "y": {
          "bdata": "z/7+oWT4nUDP/v6hZPidQA==",
          "dtype": "f8"
         }
        },
        {
         "customdata": [
          [
           "Original Comsol Mesh",
           0,
           151
          ],
          [
           "s100_100_100_b0_4000_0_5000_-4000_0",
           0,
           151
          ]
         ],
         "hovertemplate": "Cells: %{x}<br>Entropy number: %{y}<br>Snap Idx: %{customdata[2]:03d}<br>Mapped: %{customdata[0]}<br>Rel Error: %{customdata[1]:.3f}%<extra></extra>",
         "line": {
          "color": "rgb(189, 241, 55)"
         },
         "mode": "markers+lines",
         "name": "151",
         "opacity": 0.4,
         "type": "scatter",
         "x": {
          "bdata": "zYMBAM2DAQA=",
          "dtype": "i4"
         },
         "y": {
          "bdata": "kzos0712okCTOizTvXaiQA==",
          "dtype": "f8"
         }
        },
        {
         "customdata": [
          [
           "Original Comsol Mesh",
           0,
           152
          ],
          [
           "s100_100_100_b0_4000_0_5000_-4000_0",
           0,
           152
          ]
         ],
         "hovertemplate": "Cells: %{x}<br>Entropy number: %{y}<br>Snap Idx: %{customdata[2]:03d}<br>Mapped: %{customdata[0]}<br>Rel Error: %{customdata[1]:.3f}%<extra></extra>",
         "line": {
          "color": "rgb(191, 240, 55)"
         },
         "mode": "markers+lines",
         "name": "152",
         "opacity": 0.4,
         "type": "scatter",
         "x": {
          "bdata": "zYMBAM2DAQA=",
          "dtype": "i4"
         },
         "y": {
          "bdata": "JCz0bR+7nkAkLPRtH7ueQA==",
          "dtype": "f8"
         }
        },
        {
         "customdata": [
          [
           "Original Comsol Mesh",
           0,
           153
          ],
          [
           "s100_100_100_b0_4000_0_5000_-4000_0",
           -1.9774108517363513e-14,
           153
          ]
         ],
         "hovertemplate": "Cells: %{x}<br>Entropy number: %{y}<br>Snap Idx: %{customdata[2]:03d}<br>Mapped: %{customdata[0]}<br>Rel Error: %{customdata[1]:.3f}%<extra></extra>",
         "line": {
          "color": "rgb(193, 239, 54)"
         },
         "mode": "markers+lines",
         "name": "153",
         "opacity": 0.4,
         "type": "scatter",
         "x": {
          "bdata": "zYMBAM2DAQA=",
          "dtype": "i4"
         },
         "y": {
          "bdata": "M82fCWz3oUAyzZ8JbPehQA==",
          "dtype": "f8"
         }
        },
        {
         "customdata": [
          [
           "Original Comsol Mesh",
           0,
           154
          ],
          [
           "s100_100_100_b0_4000_0_5000_-4000_0",
           0,
           154
          ]
         ],
         "hovertemplate": "Cells: %{x}<br>Entropy number: %{y}<br>Snap Idx: %{customdata[2]:03d}<br>Mapped: %{customdata[0]}<br>Rel Error: %{customdata[1]:.3f}%<extra></extra>",
         "line": {
          "color": "rgb(196, 238, 54)"
         },
         "mode": "markers+lines",
         "name": "154",
         "opacity": 0.4,
         "type": "scatter",
         "x": {
          "bdata": "zYMBAM2DAQA=",
          "dtype": "i4"
         },
         "y": {
          "bdata": "fIevR9MWn0B8h69H0xafQA==",
          "dtype": "f8"
         }
        },
        {
         "customdata": [
          [
           "Original Comsol Mesh",
           0,
           155
          ],
          [
           "s100_100_100_b0_4000_0_5000_-4000_0",
           2.058490011282421e-14,
           155
          ]
         ],
         "hovertemplate": "Cells: %{x}<br>Entropy number: %{y}<br>Snap Idx: %{customdata[2]:03d}<br>Mapped: %{customdata[0]}<br>Rel Error: %{customdata[1]:.3f}%<extra></extra>",
         "line": {
          "color": "rgb(198, 237, 54)"
         },
         "mode": "markers+lines",
         "name": "155",
         "opacity": 0.4,
         "type": "scatter",
         "x": {
          "bdata": "zYMBAM2DAQA=",
          "dtype": "i4"
         },
         "y": {
          "bdata": "wNL57EJCoUDB0vnsQkKhQA==",
          "dtype": "f8"
         }
        },
        {
         "customdata": [
          [
           "Original Comsol Mesh",
           0,
           156
          ],
          [
           "s100_100_100_b0_4000_0_5000_-4000_0",
           0,
           156
          ]
         ],
         "hovertemplate": "Cells: %{x}<br>Entropy number: %{y}<br>Snap Idx: %{customdata[2]:03d}<br>Mapped: %{customdata[0]}<br>Rel Error: %{customdata[1]:.3f}%<extra></extra>",
         "line": {
          "color": "rgb(200, 236, 53)"
         },
         "mode": "markers+lines",
         "name": "156",
         "opacity": 0.4,
         "type": "scatter",
         "x": {
          "bdata": "zYMBAM2DAQA=",
          "dtype": "i4"
         },
         "y": {
          "bdata": "b+BBAOtrokBv4EEA62uiQA==",
          "dtype": "f8"
         }
        },
        {
         "customdata": [
          [
           "Original Comsol Mesh",
           0,
           157
          ],
          [
           "s100_100_100_b0_4000_0_5000_-4000_0",
           1.1226272937163e-14,
           157
          ]
         ],
         "hovertemplate": "Cells: %{x}<br>Entropy number: %{y}<br>Snap Idx: %{customdata[2]:03d}<br>Mapped: %{customdata[0]}<br>Rel Error: %{customdata[1]:.3f}%<extra></extra>",
         "line": {
          "color": "rgb(202, 235, 53)"
         },
         "mode": "markers+lines",
         "name": "157",
         "opacity": 0.4,
         "type": "scatter",
         "x": {
          "bdata": "zYMBAM2DAQA=",
          "dtype": "i4"
         },
         "y": {
          "bdata": "QqAS5Xuln0BDoBLle6WfQA==",
          "dtype": "f8"
         }
        },
        {
         "customdata": [
          [
           "Original Comsol Mesh",
           0,
           158
          ],
          [
           "s100_100_100_b0_4000_0_5000_-4000_0",
           0,
           158
          ]
         ],
         "hovertemplate": "Cells: %{x}<br>Entropy number: %{y}<br>Snap Idx: %{customdata[2]:03d}<br>Mapped: %{customdata[0]}<br>Rel Error: %{customdata[1]:.3f}%<extra></extra>",
         "line": {
          "color": "rgb(204, 234, 53)"
         },
         "mode": "markers+lines",
         "name": "158",
         "opacity": 0.4,
         "type": "scatter",
         "x": {
          "bdata": "zYMBAM2DAQA=",
          "dtype": "i4"
         },
         "y": {
          "bdata": "aANIphgSn0BoA0imGBKfQA==",
          "dtype": "f8"
         }
        },
        {
         "customdata": [
          [
           "Original Comsol Mesh",
           0,
           159
          ],
          [
           "s100_100_100_b0_4000_0_5000_-4000_0",
           0,
           159
          ]
         ],
         "hovertemplate": "Cells: %{x}<br>Entropy number: %{y}<br>Snap Idx: %{customdata[2]:03d}<br>Mapped: %{customdata[0]}<br>Rel Error: %{customdata[1]:.3f}%<extra></extra>",
         "line": {
          "color": "rgb(207, 233, 52)"
         },
         "mode": "markers+lines",
         "name": "159",
         "opacity": 0.4,
         "type": "scatter",
         "x": {
          "bdata": "zYMBAM2DAQA=",
          "dtype": "i4"
         },
         "y": {
          "bdata": "za9OAZBen0DNr04BkF6fQA==",
          "dtype": "f8"
         }
        },
        {
         "customdata": [
          [
           "Original Comsol Mesh",
           0,
           160
          ],
          [
           "s100_100_100_b0_4000_0_5000_-4000_0",
           0.3151773879467288,
           160
          ]
         ],
         "hovertemplate": "Cells: %{x}<br>Entropy number: %{y}<br>Snap Idx: %{customdata[2]:03d}<br>Mapped: %{customdata[0]}<br>Rel Error: %{customdata[1]:.3f}%<extra></extra>",
         "line": {
          "color": "rgb(209, 232, 52)"
         },
         "mode": "markers+lines",
         "name": "180",
         "opacity": 0.4,
         "type": "scatter",
         "x": {
          "bdata": "q4MBAM2DAQA=",
          "dtype": "i4"
         },
         "y": {
          "bdata": "pJAOJDQYnkBuYyxPfDCeQA==",
          "dtype": "f8"
         }
        },
        {
         "customdata": [
          [
           "Original Comsol Mesh",
           0,
           161
          ],
          [
           "s100_100_100_b0_4000_0_5000_-4000_0",
           0.3380950429309063,
           161
          ]
         ],
         "hovertemplate": "Cells: %{x}<br>Entropy number: %{y}<br>Snap Idx: %{customdata[2]:03d}<br>Mapped: %{customdata[0]}<br>Rel Error: %{customdata[1]:.3f}%<extra></extra>",
         "line": {
          "color": "rgb(211, 230, 52)"
         },
         "mode": "markers+lines",
         "name": "181",
         "opacity": 0.4,
         "type": "scatter",
         "x": {
          "bdata": "q4MBAM2DAQA=",
          "dtype": "i4"
         },
         "y": {
          "bdata": "AHPBwm2enkA8G4Ma7rieQA==",
          "dtype": "f8"
         }
        },
        {
         "customdata": [
          [
           "Original Comsol Mesh",
           0,
           162
          ],
          [
           "s100_100_100_b0_4000_0_5000_-4000_0",
           0.2881728517078927,
           162
          ]
         ],
         "hovertemplate": "Cells: %{x}<br>Entropy number: %{y}<br>Snap Idx: %{customdata[2]:03d}<br>Mapped: %{customdata[0]}<br>Rel Error: %{customdata[1]:.3f}%<extra></extra>",
         "line": {
          "color": "rgb(212, 229, 53)"
         },
         "mode": "markers+lines",
         "name": "182",
         "opacity": 0.4,
         "type": "scatter",
         "x": {
          "bdata": "q4MBAM2DAQA=",
          "dtype": "i4"
         },
         "y": {
          "bdata": "dnjU4u01oEBd7tlh40GgQA==",
          "dtype": "f8"
         }
        },
        {
         "customdata": [
          [
           "Original Comsol Mesh",
           0,
           163
          ],
          [
           "s100_100_100_b0_4000_0_5000_-4000_0",
           0.31367213154082807,
           163
          ]
         ],
         "hovertemplate": "Cells: %{x}<br>Entropy number: %{y}<br>Snap Idx: %{customdata[2]:03d}<br>Mapped: %{customdata[0]}<br>Rel Error: %{customdata[1]:.3f}%<extra></extra>",
         "line": {
          "color": "rgb(214, 227, 53)"
         },
         "mode": "markers+lines",
         "name": "183",
         "opacity": 0.4,
         "type": "scatter",
         "x": {
          "bdata": "q4MBAM2DAQA=",
          "dtype": "i4"
         },
         "y": {
          "bdata": "98123Fikn0ByQ/txwb2fQA==",
          "dtype": "f8"
         }
        },
        {
         "customdata": [
          [
           "Original Comsol Mesh",
           0,
           164
          ],
          [
           "s100_100_100_b0_4000_0_5000_-4000_0",
           0.291682495626137,
           164
          ]
         ],
         "hovertemplate": "Cells: %{x}<br>Entropy number: %{y}<br>Snap Idx: %{customdata[2]:03d}<br>Mapped: %{customdata[0]}<br>Rel Error: %{customdata[1]:.3f}%<extra></extra>",
         "line": {
          "color": "rgb(216, 225, 53)"
         },
         "mode": "markers+lines",
         "name": "184",
         "opacity": 0.4,
         "type": "scatter",
         "x": {
          "bdata": "q4MBAM2DAQA=",
          "dtype": "i4"
         },
         "y": {
          "bdata": "Ihi2waicoEAEaXU/EKmgQA==",
          "dtype": "f8"
         }
        },
        {
         "customdata": [
          [
           "Original Comsol Mesh",
           0,
           165
          ],
          [
           "s100_100_100_b0_4000_0_5000_-4000_0",
           0.288420620838396,
           165
          ]
         ],
         "hovertemplate": "Cells: %{x}<br>Entropy number: %{y}<br>Snap Idx: %{customdata[2]:03d}<br>Mapped: %{customdata[0]}<br>Rel Error: %{customdata[1]:.3f}%<extra></extra>",
         "line": {
          "color": "rgb(218, 223, 54)"
         },
         "mode": "markers+lines",
         "name": "185",
         "opacity": 0.4,
         "type": "scatter",
         "x": {
          "bdata": "q4MBAM2DAQA=",
          "dtype": "i4"
         },
         "y": {
          "bdata": "hgR1KuTvn0AxvwFyvAOgQA==",
          "dtype": "f8"
         }
        },
        {
         "customdata": [
          [
           "Original Comsol Mesh",
           0,
           166
          ],
          [
           "s100_100_100_b0_4000_0_5000_-4000_0",
           0.3053264864213623,
           166
          ]
         ],
         "hovertemplate": "Cells: %{x}<br>Entropy number: %{y}<br>Snap Idx: %{customdata[2]:03d}<br>Mapped: %{customdata[0]}<br>Rel Error: %{customdata[1]:.3f}%<extra></extra>",
         "line": {
          "color": "rgb(219, 222, 54)"
         },
         "mode": "markers+lines",
         "name": "186",
         "opacity": 0.4,
         "type": "scatter",
         "x": {
          "bdata": "q4MBAM2DAQA=",
          "dtype": "i4"
         },
         "y": {
          "bdata": "Q7fZ6ZpHnUAxSDC/fV6dQA==",
          "dtype": "f8"
         }
        },
        {
         "customdata": [
          [
           "Original Comsol Mesh",
           0,
           167
          ],
          [
           "s100_100_100_b0_4000_0_5000_-4000_0",
           0.3168432947618811,
           167
          ]
         ],
         "hovertemplate": "Cells: %{x}<br>Entropy number: %{y}<br>Snap Idx: %{customdata[2]:03d}<br>Mapped: %{customdata[0]}<br>Rel Error: %{customdata[1]:.3f}%<extra></extra>",
         "line": {
          "color": "rgb(221, 220, 54)"
         },
         "mode": "markers+lines",
         "name": "187",
         "opacity": 0.4,
         "type": "scatter",
         "x": {
          "bdata": "q4MBAM2DAQA=",
          "dtype": "i4"
         },
         "y": {
          "bdata": "kGK7bzYBn0Ah+4h1XBqfQA==",
          "dtype": "f8"
         }
        },
        {
         "customdata": [
          [
           "Original Comsol Mesh",
           0,
           168
          ],
          [
           "s100_100_100_b0_4000_0_5000_-4000_0",
           0.2925359398376545,
           168
          ]
         ],
         "hovertemplate": "Cells: %{x}<br>Entropy number: %{y}<br>Snap Idx: %{customdata[2]:03d}<br>Mapped: %{customdata[0]}<br>Rel Error: %{customdata[1]:.3f}%<extra></extra>",
         "line": {
          "color": "rgb(223, 218, 54)"
         },
         "mode": "markers+lines",
         "name": "188",
         "opacity": 0.4,
         "type": "scatter",
         "x": {
          "bdata": "q4MBAM2DAQA=",
          "dtype": "i4"
         },
         "y": {
          "bdata": "2yKDglmOoEDPonOTv5qgQA==",
          "dtype": "f8"
         }
        },
        {
         "customdata": [
          [
           "Original Comsol Mesh",
           0,
           169
          ],
          [
           "s100_100_100_b0_4000_0_5000_-4000_0",
           0.3092295746480871,
           169
          ]
         ],
         "hovertemplate": "Cells: %{x}<br>Entropy number: %{y}<br>Snap Idx: %{customdata[2]:03d}<br>Mapped: %{customdata[0]}<br>Rel Error: %{customdata[1]:.3f}%<extra></extra>",
         "line": {
          "color": "rgb(224, 217, 55)"
         },
         "mode": "markers+lines",
         "name": "189",
         "opacity": 0.4,
         "type": "scatter",
         "x": {
          "bdata": "q4MBAM2DAQA=",
          "dtype": "i4"
         },
         "y": {
          "bdata": "8rgrzJQqnEBcIrrk4ECcQA==",
          "dtype": "f8"
         }
        },
        {
         "customdata": [
          [
           "Original Comsol Mesh",
           0,
           170
          ],
          [
           "s100_100_100_b0_4000_0_5000_-4000_0",
           0.30733547313698034,
           170
          ]
         ],
         "hovertemplate": "Cells: %{x}<br>Entropy number: %{y}<br>Snap Idx: %{customdata[2]:03d}<br>Mapped: %{customdata[0]}<br>Rel Error: %{customdata[1]:.3f}%<extra></extra>",
         "line": {
          "color": "rgb(226, 215, 55)"
         },
         "mode": "markers+lines",
         "name": "190",
         "opacity": 0.4,
         "type": "scatter",
         "x": {
          "bdata": "q4MBAM2DAQA=",
          "dtype": "i4"
         },
         "y": {
          "bdata": "HwBeBGYWo0BdWCiIaiWjQA==",
          "dtype": "f8"
         }
        },
        {
         "customdata": [
          [
           "Original Comsol Mesh",
           0,
           171
          ],
          [
           "s100_100_100_b0_4000_0_5000_-4000_0",
           0.31694544970032046,
           171
          ]
         ],
         "hovertemplate": "Cells: %{x}<br>Entropy number: %{y}<br>Snap Idx: %{customdata[2]:03d}<br>Mapped: %{customdata[0]}<br>Rel Error: %{customdata[1]:.3f}%<extra></extra>",
         "line": {
          "color": "rgb(228, 213, 55)"
         },
         "mode": "markers+lines",
         "name": "191",
         "opacity": 0.4,
         "type": "scatter",
         "x": {
          "bdata": "q4MBAM2DAQA=",
          "dtype": "i4"
         },
         "y": {
          "bdata": "U51L8py1o0DiAZfbmsWjQA==",
          "dtype": "f8"
         }
        },
        {
         "customdata": [
          [
           "Original Comsol Mesh",
           0,
           172
          ],
          [
           "s100_100_100_b0_4000_0_5000_-4000_0",
           0.31629543173002495,
           172
          ]
         ],
         "hovertemplate": "Cells: %{x}<br>Entropy number: %{y}<br>Snap Idx: %{customdata[2]:03d}<br>Mapped: %{customdata[0]}<br>Rel Error: %{customdata[1]:.3f}%<extra></extra>",
         "line": {
          "color": "rgb(229, 212, 56)"
         },
         "mode": "markers+lines",
         "name": "192",
         "opacity": 0.4,
         "type": "scatter",
         "x": {
          "bdata": "q4MBAM2DAQA=",
          "dtype": "i4"
         },
         "y": {
          "bdata": "32PGIu7LpUCxldtLlN2lQA==",
          "dtype": "f8"
         }
        },
        {
         "customdata": [
          [
           "Original Comsol Mesh",
           0,
           173
          ],
          [
           "s100_100_100_b0_4000_0_5000_-4000_0",
           0.31505175496230636,
           173
          ]
         ],
         "hovertemplate": "Cells: %{x}<br>Entropy number: %{y}<br>Snap Idx: %{customdata[2]:03d}<br>Mapped: %{customdata[0]}<br>Rel Error: %{customdata[1]:.3f}%<extra></extra>",
         "line": {
          "color": "rgb(231, 210, 56)"
         },
         "mode": "markers+lines",
         "name": "193",
         "opacity": 0.4,
         "type": "scatter",
         "x": {
          "bdata": "q4MBAM2DAQA=",
          "dtype": "i4"
         },
         "y": {
          "bdata": "5NSelqS4pEDeqor0WsmkQA==",
          "dtype": "f8"
         }
        },
        {
         "customdata": [
          [
           "Original Comsol Mesh",
           0,
           174
          ],
          [
           "s100_100_100_b0_4000_0_5000_-4000_0",
           0.3109417827870003,
           174
          ]
         ],
         "hovertemplate": "Cells: %{x}<br>Entropy number: %{y}<br>Snap Idx: %{customdata[2]:03d}<br>Mapped: %{customdata[0]}<br>Rel Error: %{customdata[1]:.3f}%<extra></extra>",
         "line": {
          "color": "rgb(233, 208, 56)"
         },
         "mode": "markers+lines",
         "name": "194",
         "opacity": 0.4,
         "type": "scatter",
         "x": {
          "bdata": "q4MBAM2DAQA=",
          "dtype": "i4"
         },
         "y": {
          "bdata": "Dg2rcDE0qEAjgIKtdUeoQA==",
          "dtype": "f8"
         }
        },
        {
         "customdata": [
          [
           "Original Comsol Mesh",
           0,
           175
          ],
          [
           "s100_100_100_b0_4000_0_5000_-4000_0",
           0.3064655400118009,
           175
          ]
         ],
         "hovertemplate": "Cells: %{x}<br>Entropy number: %{y}<br>Snap Idx: %{customdata[2]:03d}<br>Mapped: %{customdata[0]}<br>Rel Error: %{customdata[1]:.3f}%<extra></extra>",
         "line": {
          "color": "rgb(235, 206, 57)"
         },
         "mode": "markers+lines",
         "name": "195",
         "opacity": 0.4,
         "type": "scatter",
         "x": {
          "bdata": "q4MBAM2DAQA=",
          "dtype": "i4"
         },
         "y": {
          "bdata": "HDo5iNZnpEB2C0/n2HekQA==",
          "dtype": "f8"
         }
        },
        {
         "customdata": [
          [
           "Original Comsol Mesh",
           0,
           176
          ],
          [
           "s100_100_100_b0_4000_0_5000_-4000_0",
           0.3078575388682411,
           176
          ]
         ],
         "hovertemplate": "Cells: %{x}<br>Entropy number: %{y}<br>Snap Idx: %{customdata[2]:03d}<br>Mapped: %{customdata[0]}<br>Rel Error: %{customdata[1]:.3f}%<extra></extra>",
         "line": {
          "color": "rgb(236, 205, 57)"
         },
         "mode": "markers+lines",
         "name": "196",
         "opacity": 0.4,
         "type": "scatter",
         "x": {
          "bdata": "q4MBAM2DAQA=",
          "dtype": "i4"
         },
         "y": {
          "bdata": "tiKSBBh5okBfyMsWp4eiQA==",
          "dtype": "f8"
         }
        },
        {
         "customdata": [
          [
           "Original Comsol Mesh",
           0,
           177
          ],
          [
           "s100_100_100_b0_4000_0_5000_-4000_0",
           0.3223194520710996,
           177
          ]
         ],
         "hovertemplate": "Cells: %{x}<br>Entropy number: %{y}<br>Snap Idx: %{customdata[2]:03d}<br>Mapped: %{customdata[0]}<br>Rel Error: %{customdata[1]:.3f}%<extra></extra>",
         "line": {
          "color": "rgb(238, 203, 57)"
         },
         "mode": "markers+lines",
         "name": "197",
         "opacity": 0.4,
         "type": "scatter",
         "x": {
          "bdata": "q4MBAM2DAQA=",
          "dtype": "i4"
         },
         "y": {
          "bdata": "ADueZpzHqEAM1gbBDtyoQA==",
          "dtype": "f8"
         }
        },
        {
         "customdata": [
          [
           "Original Comsol Mesh",
           0,
           178
          ],
          [
           "s100_100_100_b0_4000_0_5000_-4000_0",
           0.30778798374879474,
           178
          ]
         ],
         "hovertemplate": "Cells: %{x}<br>Entropy number: %{y}<br>Snap Idx: %{customdata[2]:03d}<br>Mapped: %{customdata[0]}<br>Rel Error: %{customdata[1]:.3f}%<extra></extra>",
         "line": {
          "color": "rgb(240, 201, 57)"
         },
         "mode": "markers+lines",
         "name": "198",
         "opacity": 0.4,
         "type": "scatter",
         "x": {
          "bdata": "q4MBAM2DAQA=",
          "dtype": "i4"
         },
         "y": {
          "bdata": "tZ21nJTboUB5Zw27pumhQA==",
          "dtype": "f8"
         }
        },
        {
         "customdata": [
          [
           "Original Comsol Mesh",
           0,
           179
          ],
          [
           "s100_100_100_b0_4000_0_5000_-4000_0",
           0.30702463999146745,
           179
          ]
         ],
         "hovertemplate": "Cells: %{x}<br>Entropy number: %{y}<br>Snap Idx: %{customdata[2]:03d}<br>Mapped: %{customdata[0]}<br>Rel Error: %{customdata[1]:.3f}%<extra></extra>",
         "line": {
          "color": "rgb(241, 200, 58)"
         },
         "mode": "markers+lines",
         "name": "199",
         "opacity": 0.4,
         "type": "scatter",
         "x": {
          "bdata": "q4MBAM2DAQA=",
          "dtype": "i4"
         },
         "y": {
          "bdata": "G1Z9K9jmpkCvkzFE2PimQA==",
          "dtype": "f8"
         }
        },
        {
         "customdata": [
          [
           "Original Comsol Mesh",
           0,
           180
          ],
          [
           "s100_100_100_b0_4000_0_5000_-4000_0",
           0.3274450687353065,
           180
          ]
         ],
         "hovertemplate": "Cells: %{x}<br>Entropy number: %{y}<br>Snap Idx: %{customdata[2]:03d}<br>Mapped: %{customdata[0]}<br>Rel Error: %{customdata[1]:.3f}%<extra></extra>",
         "line": {
          "color": "rgb(243, 198, 58)"
         },
         "mode": "markers+lines",
         "name": "200",
         "opacity": 0.4,
         "type": "scatter",
         "x": {
          "bdata": "q4MBAM2DAQA=",
          "dtype": "i4"
         },
         "y": {
          "bdata": "YejB8mLamUAmTnHfDvCZQA==",
          "dtype": "f8"
         }
        },
        {
         "customdata": [
          [
           "Original Comsol Mesh",
           0,
           181
          ],
          [
           "s100_100_100_b0_4000_0_5000_-4000_0",
           0.30553625809244117,
           181
          ]
         ],
         "hovertemplate": "Cells: %{x}<br>Entropy number: %{y}<br>Snap Idx: %{customdata[2]:03d}<br>Mapped: %{customdata[0]}<br>Rel Error: %{customdata[1]:.3f}%<extra></extra>",
         "line": {
          "color": "rgb(244, 196, 57)"
         },
         "mode": "markers+lines",
         "name": "201",
         "opacity": 0.4,
         "type": "scatter",
         "x": {
          "bdata": "q4MBAM2DAQA=",
          "dtype": "i4"
         },
         "y": {
          "bdata": "d1VNoHJinUDpAPl6bnmdQA==",
          "dtype": "f8"
         }
        },
        {
         "customdata": [
          [
           "Original Comsol Mesh",
           0,
           182
          ],
          [
           "s100_100_100_b0_4000_0_5000_-4000_0",
           0.29559827723697607,
           182
          ]
         ],
         "hovertemplate": "Cells: %{x}<br>Entropy number: %{y}<br>Snap Idx: %{customdata[2]:03d}<br>Mapped: %{customdata[0]}<br>Rel Error: %{customdata[1]:.3f}%<extra></extra>",
         "line": {
          "color": "rgb(244, 194, 57)"
         },
         "mode": "markers+lines",
         "name": "202",
         "opacity": 0.4,
         "type": "scatter",
         "x": {
          "bdata": "q4MBAM2DAQA=",
          "dtype": "i4"
         },
         "y": {
          "bdata": "2kHjhLoik0CDM7GKNTGTQA==",
          "dtype": "f8"
         }
        },
        {
         "customdata": [
          [
           "Original Comsol Mesh",
           0,
           183
          ],
          [
           "s100_100_100_b0_4000_0_5000_-4000_0",
           0.29033389106642554,
           183
          ]
         ],
         "hovertemplate": "Cells: %{x}<br>Entropy number: %{y}<br>Snap Idx: %{customdata[2]:03d}<br>Mapped: %{customdata[0]}<br>Rel Error: %{customdata[1]:.3f}%<extra></extra>",
         "line": {
          "color": "rgb(245, 192, 56)"
         },
         "mode": "markers+lines",
         "name": "203",
         "opacity": 0.4,
         "type": "scatter",
         "x": {
          "bdata": "q4MBAM2DAQA=",
          "dtype": "i4"
         },
         "y": {
          "bdata": "G4mcBE9gl0BwmEjirnGXQA==",
          "dtype": "f8"
         }
        },
        {
         "customdata": [
          [
           "Original Comsol Mesh",
           0,
           184
          ],
          [
           "s100_100_100_b0_4000_0_5000_-4000_0",
           0.30769686757491127,
           184
          ]
         ],
         "hovertemplate": "Cells: %{x}<br>Entropy number: %{y}<br>Snap Idx: %{customdata[2]:03d}<br>Mapped: %{customdata[0]}<br>Rel Error: %{customdata[1]:.3f}%<extra></extra>",
         "line": {
          "color": "rgb(245, 189, 55)"
         },
         "mode": "markers+lines",
         "name": "204",
         "opacity": 0.4,
         "type": "scatter",
         "x": {
          "bdata": "q4MBAM2DAQA=",
          "dtype": "i4"
         },
         "y": {
          "bdata": "0BaeY2REokCSm3gAyFKiQA==",
          "dtype": "f8"
         }
        },
        {
         "customdata": [
          [
           "Original Comsol Mesh",
           0,
           185
          ],
          [
           "s100_100_100_b0_4000_0_5000_-4000_0",
           0.2925803380710298,
           185
          ]
         ],
         "hovertemplate": "Cells: %{x}<br>Entropy number: %{y}<br>Snap Idx: %{customdata[2]:03d}<br>Mapped: %{customdata[0]}<br>Rel Error: %{customdata[1]:.3f}%<extra></extra>",
         "line": {
          "color": "rgb(246, 187, 55)"
         },
         "mode": "markers+lines",
         "name": "205",
         "opacity": 0.4,
         "type": "scatter",
         "x": {
          "bdata": "q4MBAM2DAQA=",
          "dtype": "i4"
         },
         "y": {
          "bdata": "uudpQyDJmEDALXbMsNuYQA==",
          "dtype": "f8"
         }
        },
        {
         "customdata": [
          [
           "Original Comsol Mesh",
           0,
           186
          ],
          [
           "s100_100_100_b0_4000_0_5000_-4000_0",
           0.3180309720144376,
           186
          ]
         ],
         "hovertemplate": "Cells: %{x}<br>Entropy number: %{y}<br>Snap Idx: %{customdata[2]:03d}<br>Mapped: %{customdata[0]}<br>Rel Error: %{customdata[1]:.3f}%<extra></extra>",
         "line": {
          "color": "rgb(246, 185, 54)"
         },
         "mode": "markers+lines",
         "name": "206",
         "opacity": 0.4,
         "type": "scatter",
         "x": {
          "bdata": "q4MBAM2DAQA=",
          "dtype": "i4"
         },
         "y": {
          "bdata": "KT3dY63lpEA5/SrhsPakQA==",
          "dtype": "f8"
         }
        },
        {
         "customdata": [
          [
           "Original Comsol Mesh",
           0,
           187
          ],
          [
           "s100_100_100_b0_4000_0_5000_-4000_0",
           0.30823458462348446,
           187
          ]
         ],
         "hovertemplate": "Cells: %{x}<br>Entropy number: %{y}<br>Snap Idx: %{customdata[2]:03d}<br>Mapped: %{customdata[0]}<br>Rel Error: %{customdata[1]:.3f}%<extra></extra>",
         "line": {
          "color": "rgb(247, 183, 53)"
         },
         "mode": "markers+lines",
         "name": "207",
         "opacity": 0.4,
         "type": "scatter",
         "x": {
          "bdata": "q4MBAM2DAQA=",
          "dtype": "i4"
         },
         "y": {
          "bdata": "YoHM8rdMn0DDg/GgamWfQA==",
          "dtype": "f8"
         }
        },
        {
         "customdata": [
          [
           "Original Comsol Mesh",
           0,
           188
          ],
          [
           "s100_100_100_b0_4000_0_5000_-4000_0",
           0.3153369787479333,
           188
          ]
         ],
         "hovertemplate": "Cells: %{x}<br>Entropy number: %{y}<br>Snap Idx: %{customdata[2]:03d}<br>Mapped: %{customdata[0]}<br>Rel Error: %{customdata[1]:.3f}%<extra></extra>",
         "line": {
          "color": "rgb(247, 181, 53)"
         },
         "mode": "markers+lines",
         "name": "208",
         "opacity": 0.4,
         "type": "scatter",
         "x": {
          "bdata": "q4MBAM2DAQA=",
          "dtype": "i4"
         },
         "y": {
          "bdata": "tFGsNAiGpUAdELk/aJelQA==",
          "dtype": "f8"
         }
        },
        {
         "customdata": [
          [
           "Original Comsol Mesh",
           0,
           189
          ],
          [
           "s100_100_100_b0_4000_0_5000_-4000_0",
           0.3124475120961894,
           189
          ]
         ],
         "hovertemplate": "Cells: %{x}<br>Entropy number: %{y}<br>Snap Idx: %{customdata[2]:03d}<br>Mapped: %{customdata[0]}<br>Rel Error: %{customdata[1]:.3f}%<extra></extra>",
         "line": {
          "color": "rgb(248, 179, 52)"
         },
         "mode": "markers+lines",
         "name": "209",
         "opacity": 0.4,
         "type": "scatter",
         "x": {
          "bdata": "q4MBAM2DAQA=",
          "dtype": "i4"
         },
         "y": {
          "bdata": "Cq9+hTmUpUBE6K8ofKWlQA==",
          "dtype": "f8"
         }
        },
        {
         "customdata": [
          [
           "Original Comsol Mesh",
           0,
           190
          ],
          [
           "s100_100_100_b0_4000_0_5000_-4000_0",
           0.2948229390317181,
           190
          ]
         ],
         "hovertemplate": "Cells: %{x}<br>Entropy number: %{y}<br>Snap Idx: %{customdata[2]:03d}<br>Mapped: %{customdata[0]}<br>Rel Error: %{customdata[1]:.3f}%<extra></extra>",
         "line": {
          "color": "rgb(249, 176, 51)"
         },
         "mode": "markers+lines",
         "name": "210",
         "opacity": 0.4,
         "type": "scatter",
         "x": {
          "bdata": "q4MBAM2DAQA=",
          "dtype": "i4"
         },
         "y": {
          "bdata": "errCKPWqlkA05yjsELyWQA==",
          "dtype": "f8"
         }
        },
        {
         "customdata": [
          [
           "Original Comsol Mesh",
           0,
           191
          ],
          [
           "s100_100_100_b0_4000_0_5000_-4000_0",
           0.2923118569182154,
           191
          ]
         ],
         "hovertemplate": "Cells: %{x}<br>Entropy number: %{y}<br>Snap Idx: %{customdata[2]:03d}<br>Mapped: %{customdata[0]}<br>Rel Error: %{customdata[1]:.3f}%<extra></extra>",
         "line": {
          "color": "rgb(249, 174, 51)"
         },
         "mode": "markers+lines",
         "name": "211",
         "opacity": 0.4,
         "type": "scatter",
         "x": {
          "bdata": "q4MBAM2DAQA=",
          "dtype": "i4"
         },
         "y": {
          "bdata": "njWQJp4nmUB3WOkIcTqZQA==",
          "dtype": "f8"
         }
        },
        {
         "customdata": [
          [
           "Original Comsol Mesh",
           0,
           192
          ],
          [
           "s100_100_100_b0_4000_0_5000_-4000_0",
           0.30998423059000646,
           192
          ]
         ],
         "hovertemplate": "Cells: %{x}<br>Entropy number: %{y}<br>Snap Idx: %{customdata[2]:03d}<br>Mapped: %{customdata[0]}<br>Rel Error: %{customdata[1]:.3f}%<extra></extra>",
         "line": {
          "color": "rgb(250, 172, 50)"
         },
         "mode": "markers+lines",
         "name": "212",
         "opacity": 0.4,
         "type": "scatter",
         "x": {
          "bdata": "q4MBAM2DAQA=",
          "dtype": "i4"
         },
         "y": {
          "bdata": "hMJfSzAcqEBd8U5LUi+oQA==",
          "dtype": "f8"
         }
        },
        {
         "customdata": [
          [
           "Original Comsol Mesh",
           0,
           193
          ],
          [
           "s100_100_100_b0_4000_0_5000_-4000_0",
           0.2941438599939597,
           193
          ]
         ],
         "hovertemplate": "Cells: %{x}<br>Entropy number: %{y}<br>Snap Idx: %{customdata[2]:03d}<br>Mapped: %{customdata[0]}<br>Rel Error: %{customdata[1]:.3f}%<extra></extra>",
         "line": {
          "color": "rgb(250, 170, 50)"
         },
         "mode": "markers+lines",
         "name": "213",
         "opacity": 0.4,
         "type": "scatter",
         "x": {
          "bdata": "q4MBAM2DAQA=",
          "dtype": "i4"
         },
         "y": {
          "bdata": "0GdQ0tthoECvffTUMW6gQA==",
          "dtype": "f8"
         }
        },
        {
         "customdata": [
          [
           "Original Comsol Mesh",
           0,
           194
          ],
          [
           "s100_100_100_b0_4000_0_5000_-4000_0",
           0.30102117032349246,
           194
          ]
         ],
         "hovertemplate": "Cells: %{x}<br>Entropy number: %{y}<br>Snap Idx: %{customdata[2]:03d}<br>Mapped: %{customdata[0]}<br>Rel Error: %{customdata[1]:.3f}%<extra></extra>",
         "line": {
          "color": "rgb(251, 168, 49)"
         },
         "mode": "markers+lines",
         "name": "214",
         "opacity": 0.4,
         "type": "scatter",
         "x": {
          "bdata": "q4MBAM2DAQA=",
          "dtype": "i4"
         },
         "y": {
          "bdata": "rKgO1Jx7j0AoRiSu35OPQA==",
          "dtype": "f8"
         }
        },
        {
         "customdata": [
          [
           "Original Comsol Mesh",
           0,
           195
          ],
          [
           "s100_100_100_b0_4000_0_5000_-4000_0",
           0.29601166281125774,
           195
          ]
         ],
         "hovertemplate": "Cells: %{x}<br>Entropy number: %{y}<br>Snap Idx: %{customdata[2]:03d}<br>Mapped: %{customdata[0]}<br>Rel Error: %{customdata[1]:.3f}%<extra></extra>",
         "line": {
          "color": "rgb(251, 166, 48)"
         },
         "mode": "markers+lines",
         "name": "215",
         "opacity": 0.4,
         "type": "scatter",
         "x": {
          "bdata": "q4MBAM2DAQA=",
          "dtype": "i4"
         },
         "y": {
          "bdata": "KRiQ1qiDkkCGTAmBsJGSQA==",
          "dtype": "f8"
         }
        },
        {
         "customdata": [
          [
           "Original Comsol Mesh",
           0,
           196
          ],
          [
           "s100_100_100_b0_4000_0_5000_-4000_0",
           0.29490380992592513,
           196
          ]
         ],
         "hovertemplate": "Cells: %{x}<br>Entropy number: %{y}<br>Snap Idx: %{customdata[2]:03d}<br>Mapped: %{customdata[0]}<br>Rel Error: %{customdata[1]:.3f}%<extra></extra>",
         "line": {
          "color": "rgb(252, 164, 48)"
         },
         "mode": "markers+lines",
         "name": "216",
         "opacity": 0.4,
         "type": "scatter",
         "x": {
          "bdata": "q4MBAM2DAQA=",
          "dtype": "i4"
         },
         "y": {
          "bdata": "SEg7H79MlkBwni72lF2WQA==",
          "dtype": "f8"
         }
        },
        {
         "customdata": [
          [
           "Original Comsol Mesh",
           0,
           197
          ],
          [
           "s100_100_100_b0_4000_0_5000_-4000_0",
           0.30086140469447625,
           197
          ]
         ],
         "hovertemplate": "Cells: %{x}<br>Entropy number: %{y}<br>Snap Idx: %{customdata[2]:03d}<br>Mapped: %{customdata[0]}<br>Rel Error: %{customdata[1]:.3f}%<extra></extra>",
         "line": {
          "color": "rgb(252, 161, 47)"
         },
         "mode": "markers+lines",
         "name": "217",
         "opacity": 0.4,
         "type": "scatter",
         "x": {
          "bdata": "q4MBAM2DAQA=",
          "dtype": "i4"
         },
         "y": {
          "bdata": "i6IyzJyTkEB5fAJAYaCQQA==",
          "dtype": "f8"
         }
        },
        {
         "customdata": [
          [
           "Original Comsol Mesh",
           0,
           198
          ],
          [
           "s100_100_100_b0_4000_0_5000_-4000_0",
           0.30948293526645604,
           198
          ]
         ],
         "hovertemplate": "Cells: %{x}<br>Entropy number: %{y}<br>Snap Idx: %{customdata[2]:03d}<br>Mapped: %{customdata[0]}<br>Rel Error: %{customdata[1]:.3f}%<extra></extra>",
         "line": {
          "color": "rgb(253, 159, 46)"
         },
         "mode": "markers+lines",
         "name": "218",
         "opacity": 0.4,
         "type": "scatter",
         "x": {
          "bdata": "q4MBAM2DAQA=",
          "dtype": "i4"
         },
         "y": {
          "bdata": "Onb7VgzpnEDWz9QD9P+cQA==",
          "dtype": "f8"
         }
        },
        {
         "customdata": [
          [
           "Original Comsol Mesh",
           0,
           199
          ],
          [
           "s100_100_100_b0_4000_0_5000_-4000_0",
           0.300827575271015,
           199
          ]
         ],
         "hovertemplate": "Cells: %{x}<br>Entropy number: %{y}<br>Snap Idx: %{customdata[2]:03d}<br>Mapped: %{customdata[0]}<br>Rel Error: %{customdata[1]:.3f}%<extra></extra>",
         "line": {
          "color": "rgb(253, 157, 46)"
         },
         "mode": "markers+lines",
         "name": "219",
         "opacity": 0.4,
         "type": "scatter",
         "x": {
          "bdata": "q4MBAM2DAQA=",
          "dtype": "i4"
         },
         "y": {
          "bdata": "rmZYD5jJkEBrlou3hdaQQA==",
          "dtype": "f8"
         }
        },
        {
         "customdata": [
          [
           "Original Comsol Mesh",
           0,
           200
          ],
          [
           "s100_100_100_b0_4000_0_5000_-4000_0",
           0.33432415527926407,
           200
          ]
         ],
         "hovertemplate": "Cells: %{x}<br>Entropy number: %{y}<br>Snap Idx: %{customdata[2]:03d}<br>Mapped: %{customdata[0]}<br>Rel Error: %{customdata[1]:.3f}%<extra></extra>",
         "line": {
          "color": "rgb(254, 155, 45)"
         },
         "mode": "markers+lines",
         "name": "220",
         "opacity": 0.4,
         "type": "scatter",
         "x": {
          "bdata": "q4MBAM2DAQA=",
          "dtype": "i4"
         },
         "y": {
          "bdata": "ITbfMCNpo0BfIjMgwHmjQA==",
          "dtype": "f8"
         }
        },
        {
         "customdata": [
          [
           "Original Comsol Mesh",
           0,
           201
          ],
          [
           "s100_100_100_b0_4000_0_5000_-4000_0",
           0.30796299756757944,
           201
          ]
         ],
         "hovertemplate": "Cells: %{x}<br>Entropy number: %{y}<br>Snap Idx: %{customdata[2]:03d}<br>Mapped: %{customdata[0]}<br>Rel Error: %{customdata[1]:.3f}%<extra></extra>",
         "line": {
          "color": "rgb(253, 152, 44)"
         },
         "mode": "markers+lines",
         "name": "221",
         "opacity": 0.4,
         "type": "scatter",
         "x": {
          "bdata": "q4MBAM2DAQA=",
          "dtype": "i4"
         },
         "y": {
          "bdata": "9/vwnq8AoUAkc+Q2Fw6hQA==",
          "dtype": "f8"
         }
        },
        {
         "customdata": [
          [
           "Original Comsol Mesh",
           0,
           202
          ],
          [
           "s100_100_100_b0_4000_0_5000_-4000_0",
           0.31541175673463806,
           202
          ]
         ],
         "hovertemplate": "Cells: %{x}<br>Entropy number: %{y}<br>Snap Idx: %{customdata[2]:03d}<br>Mapped: %{customdata[0]}<br>Rel Error: %{customdata[1]:.3f}%<extra></extra>",
         "line": {
          "color": "rgb(253, 149, 43)"
         },
         "mode": "markers+lines",
         "name": "222",
         "opacity": 0.4,
         "type": "scatter",
         "x": {
          "bdata": "q4MBAM2DAQA=",
          "dtype": "i4"
         },
         "y": {
          "bdata": "UW+jprAFpEAcMA1p2xWkQA==",
          "dtype": "f8"
         }
        },
        {
         "customdata": [
          [
           "Original Comsol Mesh",
           0,
           203
          ],
          [
           "s100_100_100_b0_4000_0_5000_-4000_0",
           0.30891955049355074,
           203
          ]
         ],
         "hovertemplate": "Cells: %{x}<br>Entropy number: %{y}<br>Snap Idx: %{customdata[2]:03d}<br>Mapped: %{customdata[0]}<br>Rel Error: %{customdata[1]:.3f}%<extra></extra>",
         "line": {
          "color": "rgb(252, 147, 41)"
         },
         "mode": "markers+lines",
         "name": "223",
         "opacity": 0.4,
         "type": "scatter",
         "x": {
          "bdata": "q4MBAM2DAQA=",
          "dtype": "i4"
         },
         "y": {
          "bdata": "8od+mjtmm0Cco5iy5nubQA==",
          "dtype": "f8"
         }
        },
        {
         "customdata": [
          [
           "Original Comsol Mesh",
           0,
           204
          ],
          [
           "s100_100_100_b0_4000_0_5000_-4000_0",
           0.29293105565588007,
           204
          ]
         ],
         "hovertemplate": "Cells: %{x}<br>Entropy number: %{y}<br>Snap Idx: %{customdata[2]:03d}<br>Mapped: %{customdata[0]}<br>Rel Error: %{customdata[1]:.3f}%<extra></extra>",
         "line": {
          "color": "rgb(252, 144, 40)"
         },
         "mode": "markers+lines",
         "name": "224",
         "opacity": 0.4,
         "type": "scatter",
         "x": {
          "bdata": "q4MBAM2DAQA=",
          "dtype": "i4"
         },
         "y": {
          "bdata": "XRnoFbuznED/BrUsQcmcQA==",
          "dtype": "f8"
         }
        },
        {
         "customdata": [
          [
           "Original Comsol Mesh",
           0,
           205
          ],
          [
           "s100_100_100_b0_4000_0_5000_-4000_0",
           0.32309402785000807,
           205
          ]
         ],
         "hovertemplate": "Cells: %{x}<br>Entropy number: %{y}<br>Snap Idx: %{customdata[2]:03d}<br>Mapped: %{customdata[0]}<br>Rel Error: %{customdata[1]:.3f}%<extra></extra>",
         "line": {
          "color": "rgb(251, 141, 39)"
         },
         "mode": "markers+lines",
         "name": "225",
         "opacity": 0.4,
         "type": "scatter",
         "x": {
          "bdata": "q4MBAM2DAQA=",
          "dtype": "i4"
         },
         "y": {
          "bdata": "9mo6DJ3GoEBSsSU2fdSgQA==",
          "dtype": "f8"
         }
        },
        {
         "customdata": [
          [
           "Original Comsol Mesh",
           0,
           206
          ],
          [
           "s100_100_100_b0_4000_0_5000_-4000_0",
           0.3011299688806431,
           206
          ]
         ],
         "hovertemplate": "Cells: %{x}<br>Entropy number: %{y}<br>Snap Idx: %{customdata[2]:03d}<br>Mapped: %{customdata[0]}<br>Rel Error: %{customdata[1]:.3f}%<extra></extra>",
         "line": {
          "color": "rgb(251, 138, 38)"
         },
         "mode": "markers+lines",
         "name": "226",
         "opacity": 0.4,
         "type": "scatter",
         "x": {
          "bdata": "q4MBAM2DAQA=",
          "dtype": "i4"
         },
         "y": {
          "bdata": "l2Lutng/jkCe4bQZylaOQA==",
          "dtype": "f8"
         }
        },
        {
         "customdata": [
          [
           "Original Comsol Mesh",
           0,
           207
          ],
          [
           "s100_100_100_b0_4000_0_5000_-4000_0",
           0.3351240457429274,
           207
          ]
         ],
         "hovertemplate": "Cells: %{x}<br>Entropy number: %{y}<br>Snap Idx: %{customdata[2]:03d}<br>Mapped: %{customdata[0]}<br>Rel Error: %{customdata[1]:.3f}%<extra></extra>",
         "line": {
          "color": "rgb(250, 135, 37)"
         },
         "mode": "markers+lines",
         "name": "227",
         "opacity": 0.4,
         "type": "scatter",
         "x": {
          "bdata": "q4MBAM2DAQA=",
          "dtype": "i4"
         },
         "y": {
          "bdata": "93D/n42mo0CawsdsabejQA==",
          "dtype": "f8"
         }
        },
        {
         "customdata": [
          [
           "Original Comsol Mesh",
           0,
           208
          ],
          [
           "s100_100_100_b0_4000_0_5000_-4000_0",
           0.29277945674210126,
           208
          ]
         ],
         "hovertemplate": "Cells: %{x}<br>Entropy number: %{y}<br>Snap Idx: %{customdata[2]:03d}<br>Mapped: %{customdata[0]}<br>Rel Error: %{customdata[1]:.3f}%<extra></extra>",
         "line": {
          "color": "rgb(250, 133, 35)"
         },
         "mode": "markers+lines",
         "name": "228",
         "opacity": 0.4,
         "type": "scatter",
         "x": {
          "bdata": "q4MBAM2DAQA=",
          "dtype": "i4"
         },
         "y": {
          "bdata": "4gORxmAfnUCWAkWyNDWdQA==",
          "dtype": "f8"
         }
        },
        {
         "customdata": [
          [
           "Original Comsol Mesh",
           0,
           209
          ],
          [
           "s100_100_100_b0_4000_0_5000_-4000_0",
           0.3083249222542388,
           209
          ]
         ],
         "hovertemplate": "Cells: %{x}<br>Entropy number: %{y}<br>Snap Idx: %{customdata[2]:03d}<br>Mapped: %{customdata[0]}<br>Rel Error: %{customdata[1]:.3f}%<extra></extra>",
         "line": {
          "color": "rgb(249, 130, 34)"
         },
         "mode": "markers+lines",
         "name": "229",
         "opacity": 0.4,
         "type": "scatter",
         "x": {
          "bdata": "q4MBAM2DAQA=",
          "dtype": "i4"
         },
         "y": {
          "bdata": "FNU0XZHvnkD5xFdf/AefQA==",
          "dtype": "f8"
         }
        },
        {
         "customdata": [
          [
           "Original Comsol Mesh",
           0,
           210
          ],
          [
           "s100_100_100_b0_4000_0_5000_-4000_0",
           0.33705316348463066,
           210
          ]
         ],
         "hovertemplate": "Cells: %{x}<br>Entropy number: %{y}<br>Snap Idx: %{customdata[2]:03d}<br>Mapped: %{customdata[0]}<br>Rel Error: %{customdata[1]:.3f}%<extra></extra>",
         "line": {
          "color": "rgb(248, 127, 33)"
         },
         "mode": "markers+lines",
         "name": "230",
         "opacity": 0.4,
         "type": "scatter",
         "x": {
          "bdata": "q4MBAM2DAQA=",
          "dtype": "i4"
         },
         "y": {
          "bdata": "lwJRoqYZoED/spIGiyegQA==",
          "dtype": "f8"
         }
        },
        {
         "customdata": [
          [
           "Original Comsol Mesh",
           0,
           211
          ],
          [
           "s100_100_100_b0_4000_0_5000_-4000_0",
           0.2966584373212353,
           211
          ]
         ],
         "hovertemplate": "Cells: %{x}<br>Entropy number: %{y}<br>Snap Idx: %{customdata[2]:03d}<br>Mapped: %{customdata[0]}<br>Rel Error: %{customdata[1]:.3f}%<extra></extra>",
         "line": {
          "color": "rgb(248, 124, 32)"
         },
         "mode": "markers+lines",
         "name": "231",
         "opacity": 0.4,
         "type": "scatter",
         "x": {
          "bdata": "q4MBAM2DAQA=",
          "dtype": "i4"
         },
         "y": {
          "bdata": "fJd+LabhoUBfQjinOu+hQA==",
          "dtype": "f8"
         }
        },
        {
         "customdata": [
          [
           "Original Comsol Mesh",
           0,
           212
          ],
          [
           "s100_100_100_b0_4000_0_5000_-4000_0",
           0.31178717233700326,
           212
          ]
         ],
         "hovertemplate": "Cells: %{x}<br>Entropy number: %{y}<br>Snap Idx: %{customdata[2]:03d}<br>Mapped: %{customdata[0]}<br>Rel Error: %{customdata[1]:.3f}%<extra></extra>",
         "line": {
          "color": "rgb(247, 121, 31)"
         },
         "mode": "markers+lines",
         "name": "232",
         "opacity": 0.4,
         "type": "scatter",
         "x": {
          "bdata": "q4MBAM2DAQA=",
          "dtype": "i4"
         },
         "y": {
          "bdata": "KBSKIdfmmkA6UDIJUPyaQA==",
          "dtype": "f8"
         }
        },
        {
         "customdata": [
          [
           "Original Comsol Mesh",
           0,
           213
          ],
          [
           "s100_100_100_b0_4000_0_5000_-4000_0",
           0.2950783597802702,
           213
          ]
         ],
         "hovertemplate": "Cells: %{x}<br>Entropy number: %{y}<br>Snap Idx: %{customdata[2]:03d}<br>Mapped: %{customdata[0]}<br>Rel Error: %{customdata[1]:.3f}%<extra></extra>",
         "line": {
          "color": "rgb(247, 119, 29)"
         },
         "mode": "markers+lines",
         "name": "233",
         "opacity": 0.4,
         "type": "scatter",
         "x": {
          "bdata": "q4MBAM2DAQA=",
          "dtype": "i4"
         },
         "y": {
          "bdata": "im4we1Y1lUCs7mbOW0WVQA==",
          "dtype": "f8"
         }
        },
        {
         "customdata": [
          [
           "Original Comsol Mesh",
           0,
           214
          ],
          [
           "s100_100_100_b0_4000_0_5000_-4000_0",
           0.3283581714523378,
           214
          ]
         ],
         "hovertemplate": "Cells: %{x}<br>Entropy number: %{y}<br>Snap Idx: %{customdata[2]:03d}<br>Mapped: %{customdata[0]}<br>Rel Error: %{customdata[1]:.3f}%<extra></extra>",
         "line": {
          "color": "rgb(246, 116, 28)"
         },
         "mode": "markers+lines",
         "name": "234",
         "opacity": 0.4,
         "type": "scatter",
         "x": {
          "bdata": "q4MBAM2DAQA=",
          "dtype": "i4"
         },
         "y": {
          "bdata": "xjbJ0vx8mECTc9mDkpGYQA==",
          "dtype": "f8"
         }
        },
        {
         "customdata": [
          [
           "Original Comsol Mesh",
           0,
           215
          ],
          [
           "s100_100_100_b0_4000_0_5000_-4000_0",
           0.313956207152361,
           215
          ]
         ],
         "hovertemplate": "Cells: %{x}<br>Entropy number: %{y}<br>Snap Idx: %{customdata[2]:03d}<br>Mapped: %{customdata[0]}<br>Rel Error: %{customdata[1]:.3f}%<extra></extra>",
         "line": {
          "color": "rgb(246, 113, 27)"
         },
         "mode": "markers+lines",
         "name": "235",
         "opacity": 0.4,
         "type": "scatter",
         "x": {
          "bdata": "q4MBAM2DAQA=",
          "dtype": "i4"
         },
         "y": {
          "bdata": "J24h95GHpkAYr7mFrZmmQA==",
          "dtype": "f8"
         }
        },
        {
         "customdata": [
          [
           "Original Comsol Mesh",
           0,
           216
          ],
          [
           "s100_100_100_b0_4000_0_5000_-4000_0",
           0.3170020544734401,
           216
          ]
         ],
         "hovertemplate": "Cells: %{x}<br>Entropy number: %{y}<br>Snap Idx: %{customdata[2]:03d}<br>Mapped: %{customdata[0]}<br>Rel Error: %{customdata[1]:.3f}%<extra></extra>",
         "line": {
          "color": "rgb(245, 110, 26)"
         },
         "mode": "markers+lines",
         "name": "236",
         "opacity": 0.4,
         "type": "scatter",
         "x": {
          "bdata": "q4MBAM2DAQA=",
          "dtype": "i4"
         },
         "y": {
          "bdata": "PFVWic6coUAEpwyMGauhQA==",
          "dtype": "f8"
         }
        },
        {
         "customdata": [
          [
           "Original Comsol Mesh",
           0,
           217
          ],
          [
           "s100_100_100_b0_4000_0_5000_-4000_0",
           0.3170840133507936,
           217
          ]
         ],
         "hovertemplate": "Cells: %{x}<br>Entropy number: %{y}<br>Snap Idx: %{customdata[2]:03d}<br>Mapped: %{customdata[0]}<br>Rel Error: %{customdata[1]:.3f}%<extra></extra>",
         "line": {
          "color": "rgb(245, 107, 25)"
         },
         "mode": "markers+lines",
         "name": "237",
         "opacity": 0.4,
         "type": "scatter",
         "x": {
          "bdata": "q4MBAM2DAQA=",
          "dtype": "i4"
         },
         "y": {
          "bdata": "9xS6UT9go0BJZtq5+W+jQA==",
          "dtype": "f8"
         }
        },
        {
         "customdata": [
          [
           "Original Comsol Mesh",
           0,
           218
          ],
          [
           "s100_100_100_b0_4000_0_5000_-4000_0",
           0.30788118093398575,
           218
          ]
         ],
         "hovertemplate": "Cells: %{x}<br>Entropy number: %{y}<br>Snap Idx: %{customdata[2]:03d}<br>Mapped: %{customdata[0]}<br>Rel Error: %{customdata[1]:.3f}%<extra></extra>",
         "line": {
          "color": "rgb(244, 105, 23)"
         },
         "mode": "markers+lines",
         "name": "238",
         "opacity": 0.4,
         "type": "scatter",
         "x": {
          "bdata": "q4MBAM2DAQA=",
          "dtype": "i4"
         },
         "y": {
          "bdata": "gwjYu5fvmEDidZAgPwOZQA==",
          "dtype": "f8"
         }
        },
        {
         "customdata": [
          [
           "Original Comsol Mesh",
           0,
           219
          ],
          [
           "s100_100_100_b0_4000_0_5000_-4000_0",
           0.2885039865285559,
           219
          ]
         ],
         "hovertemplate": "Cells: %{x}<br>Entropy number: %{y}<br>Snap Idx: %{customdata[2]:03d}<br>Mapped: %{customdata[0]}<br>Rel Error: %{customdata[1]:.3f}%<extra></extra>",
         "line": {
          "color": "rgb(244, 102, 22)"
         },
         "mode": "markers+lines",
         "name": "239",
         "opacity": 0.4,
         "type": "scatter",
         "x": {
          "bdata": "q4MBAM2DAQA=",
          "dtype": "i4"
         },
         "y": {
          "bdata": "MoSqmU1hoECPfyWmZm2gQA==",
          "dtype": "f8"
         }
        },
        {
         "customdata": [
          [
           "Original Comsol Mesh",
           0,
           220
          ],
          [
           "s100_100_100_b0_4000_0_5000_-4000_0",
           0.3010576022111079,
           220
          ]
         ],
         "hovertemplate": "Cells: %{x}<br>Entropy number: %{y}<br>Snap Idx: %{customdata[2]:03d}<br>Mapped: %{customdata[0]}<br>Rel Error: %{customdata[1]:.3f}%<extra></extra>",
         "line": {
          "color": "rgb(243, 99, 21)"
         },
         "mode": "markers+lines",
         "name": "240",
         "opacity": 0.4,
         "type": "scatter",
         "x": {
          "bdata": "q4MBAM2DAQA=",
          "dtype": "i4"
         },
         "y": {
          "bdata": "pNAFVMoRj0D0GLBfvCmPQA==",
          "dtype": "f8"
         }
        },
        {
         "customdata": [
          [
           "Original Comsol Mesh",
           0,
           221
          ],
          [
           "s100_100_100_b0_4000_0_5000_-4000_0",
           0.31699490967266214,
           221
          ]
         ],
         "hovertemplate": "Cells: %{x}<br>Entropy number: %{y}<br>Snap Idx: %{customdata[2]:03d}<br>Mapped: %{customdata[0]}<br>Rel Error: %{customdata[1]:.3f}%<extra></extra>",
         "line": {
          "color": "rgb(242, 97, 20)"
         },
         "mode": "markers+lines",
         "name": "241",
         "opacity": 0.4,
         "type": "scatter",
         "x": {
          "bdata": "q4MBAM2DAQA=",
          "dtype": "i4"
         },
         "y": {
          "bdata": "LjMVfDybo0CKqEGhJaujQA==",
          "dtype": "f8"
         }
        },
        {
         "customdata": [
          [
           "Original Comsol Mesh",
           0,
           222
          ],
          [
           "s100_100_100_b0_4000_0_5000_-4000_0",
           0.2952626375483616,
           222
          ]
         ],
         "hovertemplate": "Cells: %{x}<br>Entropy number: %{y}<br>Snap Idx: %{customdata[2]:03d}<br>Mapped: %{customdata[0]}<br>Rel Error: %{customdata[1]:.3f}%<extra></extra>",
         "line": {
          "color": "rgb(240, 95, 20)"
         },
         "mode": "markers+lines",
         "name": "242",
         "opacity": 0.4,
         "type": "scatter",
         "x": {
          "bdata": "q4MBAM2DAQA=",
          "dtype": "i4"
         },
         "y": {
          "bdata": "h2p9nYsnlEAX/aiSxzaUQA==",
          "dtype": "f8"
         }
        },
        {
         "customdata": [
          [
           "Original Comsol Mesh",
           0,
           223
          ],
          [
           "s100_100_100_b0_4000_0_5000_-4000_0",
           0.2962982782840235,
           223
          ]
         ],
         "hovertemplate": "Cells: %{x}<br>Entropy number: %{y}<br>Snap Idx: %{customdata[2]:03d}<br>Mapped: %{customdata[0]}<br>Rel Error: %{customdata[1]:.3f}%<extra></extra>",
         "line": {
          "color": "rgb(239, 93, 19)"
         },
         "mode": "markers+lines",
         "name": "243",
         "opacity": 0.4,
         "type": "scatter",
         "x": {
          "bdata": "q4MBAM2DAQA=",
          "dtype": "i4"
         },
         "y": {
          "bdata": "4f8N7UkzkkCwhkAbGEGSQA==",
          "dtype": "f8"
         }
        },
        {
         "customdata": [
          [
           "Original Comsol Mesh",
           0,
           224
          ],
          [
           "s100_100_100_b0_4000_0_5000_-4000_0",
           0.3011646711474428,
           224
          ]
         ],
         "hovertemplate": "Cells: %{x}<br>Entropy number: %{y}<br>Snap Idx: %{customdata[2]:03d}<br>Mapped: %{customdata[0]}<br>Rel Error: %{customdata[1]:.3f}%<extra></extra>",
         "line": {
          "color": "rgb(238, 90, 18)"
         },
         "mode": "markers+lines",
         "name": "244",
         "opacity": 0.4,
         "type": "scatter",
         "x": {
          "bdata": "q4MBAM2DAQA=",
          "dtype": "i4"
         },
         "y": {
          "bdata": "yh22A/zWjUBCidaH/e2NQA==",
          "dtype": "f8"
         }
        },
        {
         "customdata": [
          [
           "Original Comsol Mesh",
           0,
           225
          ],
          [
           "s100_100_100_b0_4000_0_5000_-4000_0",
           0.2991704569785307,
           225
          ]
         ],
         "hovertemplate": "Cells: %{x}<br>Entropy number: %{y}<br>Snap Idx: %{customdata[2]:03d}<br>Mapped: %{customdata[0]}<br>Rel Error: %{customdata[1]:.3f}%<extra></extra>",
         "line": {
          "color": "rgb(236, 88, 17)"
         },
         "mode": "markers+lines",
         "name": "245",
         "opacity": 0.4,
         "type": "scatter",
         "x": {
          "bdata": "q4MBAM2DAQA=",
          "dtype": "i4"
         },
         "y": {
          "bdata": "kKUqTyljkECxZ8FItm+QQA==",
          "dtype": "f8"
         }
        },
        {
         "customdata": [
          [
           "Original Comsol Mesh",
           0,
           226
          ],
          [
           "s100_100_100_b0_4000_0_5000_-4000_0",
           0.31438124291939995,
           226
          ]
         ],
         "hovertemplate": "Cells: %{x}<br>Entropy number: %{y}<br>Snap Idx: %{customdata[2]:03d}<br>Mapped: %{customdata[0]}<br>Rel Error: %{customdata[1]:.3f}%<extra></extra>",
         "line": {
          "color": "rgb(235, 86, 16)"
         },
         "mode": "markers+lines",
         "name": "246",
         "opacity": 0.4,
         "type": "scatter",
         "x": {
          "bdata": "q4MBAM2DAQA=",
          "dtype": "i4"
         },
         "y": {
          "bdata": "wohjhwx/nkDeTEHEl5eeQA==",
          "dtype": "f8"
         }
        },
        {
         "customdata": [
          [
           "Original Comsol Mesh",
           0,
           227
          ],
          [
           "s100_100_100_b0_4000_0_5000_-4000_0",
           0.3283994464582891,
           227
          ]
         ],
         "hovertemplate": "Cells: %{x}<br>Entropy number: %{y}<br>Snap Idx: %{customdata[2]:03d}<br>Mapped: %{customdata[0]}<br>Rel Error: %{customdata[1]:.3f}%<extra></extra>",
         "line": {
          "color": "rgb(234, 84, 16)"
         },
         "mode": "markers+lines",
         "name": "247",
         "opacity": 0.4,
         "type": "scatter",
         "x": {
          "bdata": "q4MBAM2DAQA=",
          "dtype": "i4"
         },
         "y": {
          "bdata": "+jabh1d1pUAT+OPLYYelQA==",
          "dtype": "f8"
         }
        },
        {
         "customdata": [
          [
           "Original Comsol Mesh",
           0,
           228
          ],
          [
           "s100_100_100_b0_4000_0_5000_-4000_0",
           0.30639239025867465,
           228
          ]
         ],
         "hovertemplate": "Cells: %{x}<br>Entropy number: %{y}<br>Snap Idx: %{customdata[2]:03d}<br>Mapped: %{customdata[0]}<br>Rel Error: %{customdata[1]:.3f}%<extra></extra>",
         "line": {
          "color": "rgb(233, 82, 15)"
         },
         "mode": "markers+lines",
         "name": "248",
         "opacity": 0.4,
         "type": "scatter",
         "x": {
          "bdata": "q4MBAM2DAQA=",
          "dtype": "i4"
         },
         "y": {
          "bdata": "QMx9mNoWpEAs5MB3nCakQA==",
          "dtype": "f8"
         }
        },
        {
         "customdata": [
          [
           "Original Comsol Mesh",
           0,
           229
          ],
          [
           "s100_100_100_b0_4000_0_5000_-4000_0",
           0.29541950444918086,
           229
          ]
         ],
         "hovertemplate": "Cells: %{x}<br>Entropy number: %{y}<br>Snap Idx: %{customdata[2]:03d}<br>Mapped: %{customdata[0]}<br>Rel Error: %{customdata[1]:.3f}%<extra></extra>",
         "line": {
          "color": "rgb(231, 80, 14)"
         },
         "mode": "markers+lines",
         "name": "249",
         "opacity": 0.4,
         "type": "scatter",
         "x": {
          "bdata": "q4MBAM2DAQA=",
          "dtype": "i4"
         },
         "y": {
          "bdata": "VR9Xa0rZk0BLoVlETeiTQA==",
          "dtype": "f8"
         }
        },
        {
         "customdata": [
          [
           "Original Comsol Mesh",
           0,
           230
          ],
          [
           "s100_100_100_b0_4000_0_5000_-4000_0",
           0.30781381178422124,
           230
          ]
         ],
         "hovertemplate": "Cells: %{x}<br>Entropy number: %{y}<br>Snap Idx: %{customdata[2]:03d}<br>Mapped: %{customdata[0]}<br>Rel Error: %{customdata[1]:.3f}%<extra></extra>",
         "line": {
          "color": "rgb(230, 78, 14)"
         },
         "mode": "markers+lines",
         "name": "250",
         "opacity": 0.4,
         "type": "scatter",
         "x": {
          "bdata": "q4MBAM2DAQA=",
          "dtype": "i4"
         },
         "y": {
          "bdata": "/0L9tQZpoUCXHs7cvnahQA==",
          "dtype": "f8"
         }
        },
        {
         "customdata": [
          [
           "Original Comsol Mesh",
           0,
           231
          ],
          [
           "s100_100_100_b0_4000_0_5000_-4000_0",
           0.3149432471911469,
           231
          ]
         ],
         "hovertemplate": "Cells: %{x}<br>Entropy number: %{y}<br>Snap Idx: %{customdata[2]:03d}<br>Mapped: %{customdata[0]}<br>Rel Error: %{customdata[1]:.3f}%<extra></extra>",
         "line": {
          "color": "rgb(229, 75, 13)"
         },
         "mode": "markers+lines",
         "name": "251",
         "opacity": 0.4,
         "type": "scatter",
         "x": {
          "bdata": "q4MBAM2DAQA=",
          "dtype": "i4"
         },
         "y": {
          "bdata": "L9Q7sRzdpEDp+DX97u2kQA==",
          "dtype": "f8"
         }
        },
        {
         "customdata": [
          [
           "Original Comsol Mesh",
           0,
           232
          ],
          [
           "s100_100_100_b0_4000_0_5000_-4000_0",
           0.3073444733670353,
           232
          ]
         ],
         "hovertemplate": "Cells: %{x}<br>Entropy number: %{y}<br>Snap Idx: %{customdata[2]:03d}<br>Mapped: %{customdata[0]}<br>Rel Error: %{customdata[1]:.3f}%<extra></extra>",
         "line": {
          "color": "rgb(227, 73, 12)"
         },
         "mode": "markers+lines",
         "name": "252",
         "opacity": 0.4,
         "type": "scatter",
         "x": {
          "bdata": "q4MBAM2DAQA=",
          "dtype": "i4"
         },
         "y": {
          "bdata": "BOxeLqQqo0C5wlG8uDmjQA==",
          "dtype": "f8"
         }
        },
        {
         "customdata": [
          [
           "Original Comsol Mesh",
           0,
           233
          ],
          [
           "s100_100_100_b0_4000_0_5000_-4000_0",
           0.3152026608298411,
           233
          ]
         ],
         "hovertemplate": "Cells: %{x}<br>Entropy number: %{y}<br>Snap Idx: %{customdata[2]:03d}<br>Mapped: %{customdata[0]}<br>Rel Error: %{customdata[1]:.3f}%<extra></extra>",
         "line": {
          "color": "rgb(226, 71, 11)"
         },
         "mode": "markers+lines",
         "name": "253",
         "opacity": 0.4,
         "type": "scatter",
         "x": {
          "bdata": "q4MBAM2DAQA=",
          "dtype": "i4"
         },
         "y": {
          "bdata": "KtNIQ9mAoUDXDKXx+I6hQA==",
          "dtype": "f8"
         }
        },
        {
         "customdata": [
          [
           "Original Comsol Mesh",
           0,
           234
          ],
          [
           "s100_100_100_b0_4000_0_5000_-4000_0",
           0.31415165718120713,
           234
          ]
         ],
         "hovertemplate": "Cells: %{x}<br>Entropy number: %{y}<br>Snap Idx: %{customdata[2]:03d}<br>Mapped: %{customdata[0]}<br>Rel Error: %{customdata[1]:.3f}%<extra></extra>",
         "line": {
          "color": "rgb(225, 69, 10)"
         },
         "mode": "markers+lines",
         "name": "254",
         "opacity": 0.4,
         "type": "scatter",
         "x": {
          "bdata": "q4MBAM2DAQA=",
          "dtype": "i4"
         },
         "y": {
          "bdata": "JHCQouAfp0AtVFOReTKnQA==",
          "dtype": "f8"
         }
        },
        {
         "customdata": [
          [
           "Original Comsol Mesh",
           0,
           235
          ],
          [
           "s100_100_100_b0_4000_0_5000_-4000_0",
           0.30776817820939073,
           235
          ]
         ],
         "hovertemplate": "Cells: %{x}<br>Entropy number: %{y}<br>Snap Idx: %{customdata[2]:03d}<br>Mapped: %{customdata[0]}<br>Rel Error: %{customdata[1]:.3f}%<extra></extra>",
         "line": {
          "color": "rgb(223, 67, 10)"
         },
         "mode": "markers+lines",
         "name": "255",
         "opacity": 0.4,
         "type": "scatter",
         "x": {
          "bdata": "q4MBAM2DAQA=",
          "dtype": "i4"
         },
         "y": {
          "bdata": "i3fKvckMokDYgOdlAhuiQA==",
          "dtype": "f8"
         }
        },
        {
         "customdata": [
          [
           "Original Comsol Mesh",
           0,
           236
          ],
          [
           "s100_100_100_b0_4000_0_5000_-4000_0",
           0.33727365498602524,
           236
          ]
         ],
         "hovertemplate": "Cells: %{x}<br>Entropy number: %{y}<br>Snap Idx: %{customdata[2]:03d}<br>Mapped: %{customdata[0]}<br>Rel Error: %{customdata[1]:.3f}%<extra></extra>",
         "line": {
          "color": "rgb(222, 65, 9)"
         },
         "mode": "markers+lines",
         "name": "256",
         "opacity": 0.4,
         "type": "scatter",
         "x": {
          "bdata": "q4MBAM2DAQA=",
          "dtype": "i4"
         },
         "y": {
          "bdata": "5KHFJ6pPn0AK2IULs2qfQA==",
          "dtype": "f8"
         }
        },
        {
         "customdata": [
          [
           "Original Comsol Mesh",
           0,
           237
          ],
          [
           "s100_100_100_b0_4000_0_5000_-4000_0",
           0.29185844031917935,
           237
          ]
         ],
         "hovertemplate": "Cells: %{x}<br>Entropy number: %{y}<br>Snap Idx: %{customdata[2]:03d}<br>Mapped: %{customdata[0]}<br>Rel Error: %{customdata[1]:.3f}%<extra></extra>",
         "line": {
          "color": "rgb(221, 62, 8)"
         },
         "mode": "markers+lines",
         "name": "257",
         "opacity": 0.4,
         "type": "scatter",
         "x": {
          "bdata": "q4MBAM2DAQA=",
          "dtype": "i4"
         },
         "y": {
          "bdata": "LEvuo/romUAuLmiFVvyZQA==",
          "dtype": "f8"
         }
        },
        {
         "customdata": [
          [
           "Original Comsol Mesh",
           0,
           238
          ],
          [
           "s100_100_100_b0_4000_0_5000_-4000_0",
           0.3075670135004668,
           238
          ]
         ],
         "hovertemplate": "Cells: %{x}<br>Entropy number: %{y}<br>Snap Idx: %{customdata[2]:03d}<br>Mapped: %{customdata[0]}<br>Rel Error: %{customdata[1]:.3f}%<extra></extra>",
         "line": {
          "color": "rgb(220, 60, 7)"
         },
         "mode": "markers+lines",
         "name": "258",
         "opacity": 0.4,
         "type": "scatter",
         "x": {
          "bdata": "q4MBAM2DAQA=",
          "dtype": "i4"
         },
         "y": {
          "bdata": "io0O3Sd8okC55AvUtYqiQA==",
          "dtype": "f8"
         }
        },
        {
         "customdata": [
          [
           "Original Comsol Mesh",
           0,
           239
          ],
          [
           "s100_100_100_b0_4000_0_5000_-4000_0",
           0.31710908473919075,
           239
          ]
         ],
         "hovertemplate": "Cells: %{x}<br>Entropy number: %{y}<br>Snap Idx: %{customdata[2]:03d}<br>Mapped: %{customdata[0]}<br>Rel Error: %{customdata[1]:.3f}%<extra></extra>",
         "line": {
          "color": "rgb(218, 58, 7)"
         },
         "mode": "markers+lines",
         "name": "259",
         "opacity": 0.4,
         "type": "scatter",
         "x": {
          "bdata": "q4MBAM2DAQA=",
          "dtype": "i4"
         },
         "y": {
          "bdata": "jJ8gVNB7pEDum7RAcYykQA==",
          "dtype": "f8"
         }
        },
        {
         "customdata": [
          [
           "Original Comsol Mesh",
           0,
           240
          ],
          [
           "s100_100_100_b0_4000_0_5000_-4000_0",
           0.30078571350567546,
           240
          ]
         ],
         "hovertemplate": "Cells: %{x}<br>Entropy number: %{y}<br>Snap Idx: %{customdata[2]:03d}<br>Mapped: %{customdata[0]}<br>Rel Error: %{customdata[1]:.3f}%<extra></extra>",
         "line": {
          "color": "rgb(217, 56, 6)"
         },
         "mode": "markers+lines",
         "name": "260",
         "opacity": 0.4,
         "type": "scatter",
         "x": {
          "bdata": "q4MBAM2DAQA=",
          "dtype": "i4"
         },
         "y": {
          "bdata": "5BDdk8j/kECOeyiA3wyRQA==",
          "dtype": "f8"
         }
        },
        {
         "customdata": [
          [
           "Original Comsol Mesh",
           0,
           241
          ],
          [
           "s100_100_100_b0_4000_0_5000_-4000_0",
           0.29841180458595495,
           241
          ]
         ],
         "hovertemplate": "Cells: %{x}<br>Entropy number: %{y}<br>Snap Idx: %{customdata[2]:03d}<br>Mapped: %{customdata[0]}<br>Rel Error: %{customdata[1]:.3f}%<extra></extra>",
         "line": {
          "color": "rgb(215, 54, 6)"
         },
         "mode": "markers+lines",
         "name": "261",
         "opacity": 0.4,
         "type": "scatter",
         "x": {
          "bdata": "q4MBAM2DAQA=",
          "dtype": "i4"
         },
         "y": {
          "bdata": "YAlX0x55kUDO5sv+d4aRQA==",
          "dtype": "f8"
         }
        },
        {
         "customdata": [
          [
           "Original Comsol Mesh",
           0,
           242
          ],
          [
           "s100_100_100_b0_4000_0_5000_-4000_0",
           0.3308799018567492,
           242
          ]
         ],
         "hovertemplate": "Cells: %{x}<br>Entropy number: %{y}<br>Snap Idx: %{customdata[2]:03d}<br>Mapped: %{customdata[0]}<br>Rel Error: %{customdata[1]:.3f}%<extra></extra>",
         "line": {
          "color": "rgb(213, 53, 5)"
         },
         "mode": "markers+lines",
         "name": "262",
         "opacity": 0.4,
         "type": "scatter",
         "x": {
          "bdata": "q4MBAM2DAQA=",
          "dtype": "i4"
         },
         "y": {
          "bdata": "m4O21TySmECKqyP/DKeYQA==",
          "dtype": "f8"
         }
        },
        {
         "customdata": [
          [
           "Original Comsol Mesh",
           0,
           243
          ],
          [
           "s100_100_100_b0_4000_0_5000_-4000_0",
           0.30724450179144713,
           243
          ]
         ],
         "hovertemplate": "Cells: %{x}<br>Entropy number: %{y}<br>Snap Idx: %{customdata[2]:03d}<br>Mapped: %{customdata[0]}<br>Rel Error: %{customdata[1]:.3f}%<extra></extra>",
         "line": {
          "color": "rgb(211, 51, 5)"
         },
         "mode": "markers+lines",
         "name": "263",
         "opacity": 0.4,
         "type": "scatter",
         "x": {
          "bdata": "q4MBAM2DAQA=",
          "dtype": "i4"
         },
         "y": {
          "bdata": "9/d3s9b+n0DpfP6VAAygQA==",
          "dtype": "f8"
         }
        },
        {
         "customdata": [
          [
           "Original Comsol Mesh",
           0,
           244
          ],
          [
           "s100_100_100_b0_4000_0_5000_-4000_0",
           0.3078959184335651,
           244
          ]
         ],
         "hovertemplate": "Cells: %{x}<br>Entropy number: %{y}<br>Snap Idx: %{customdata[2]:03d}<br>Mapped: %{customdata[0]}<br>Rel Error: %{customdata[1]:.3f}%<extra></extra>",
         "line": {
          "color": "rgb(209, 50, 5)"
         },
         "mode": "markers+lines",
         "name": "264",
         "opacity": 0.4,
         "type": "scatter",
         "x": {
          "bdata": "q4MBAM2DAQA=",
          "dtype": "i4"
         },
         "y": {
          "bdata": "bx3k4kK6okDMObrJBcmiQA==",
          "dtype": "f8"
         }
        },
        {
         "customdata": [
          [
           "Original Comsol Mesh",
           0,
           245
          ],
          [
           "s100_100_100_b0_4000_0_5000_-4000_0",
           0.3086950678711189,
           245
          ]
         ],
         "hovertemplate": "Cells: %{x}<br>Entropy number: %{y}<br>Snap Idx: %{customdata[2]:03d}<br>Mapped: %{customdata[0]}<br>Rel Error: %{customdata[1]:.3f}%<extra></extra>",
         "line": {
          "color": "rgb(207, 48, 5)"
         },
         "mode": "markers+lines",
         "name": "265",
         "opacity": 0.4,
         "type": "scatter",
         "x": {
          "bdata": "q4MBAM2DAQA=",
          "dtype": "i4"
         },
         "y": {
          "bdata": "q9ESeeP5o0DtK3XFrAmkQA==",
          "dtype": "f8"
         }
        },
        {
         "customdata": [
          [
           "Original Comsol Mesh",
           0,
           246
          ],
          [
           "s100_100_100_b0_4000_0_5000_-4000_0",
           0.3009475324328959,
           246
          ]
         ],
         "hovertemplate": "Cells: %{x}<br>Entropy number: %{y}<br>Snap Idx: %{customdata[2]:03d}<br>Mapped: %{customdata[0]}<br>Rel Error: %{customdata[1]:.3f}%<extra></extra>",
         "line": {
          "color": "rgb(205, 47, 4)"
         },
         "mode": "markers+lines",
         "name": "266",
         "opacity": 0.4,
         "type": "scatter",
         "x": {
          "bdata": "q4MBAM2DAQA=",
          "dtype": "i4"
         },
         "y": {
          "bdata": "YZAq90cokEAYfKapujSQQA==",
          "dtype": "f8"
         }
        },
        {
         "customdata": [
          [
           "Original Comsol Mesh",
           0,
           247
          ],
          [
           "s100_100_100_b0_4000_0_5000_-4000_0",
           0.3236362739332396,
           247
          ]
         ],
         "hovertemplate": "Cells: %{x}<br>Entropy number: %{y}<br>Snap Idx: %{customdata[2]:03d}<br>Mapped: %{customdata[0]}<br>Rel Error: %{customdata[1]:.3f}%<extra></extra>",
         "line": {
          "color": "rgb(203, 45, 4)"
         },
         "mode": "markers+lines",
         "name": "267",
         "opacity": 0.4,
         "type": "scatter",
         "x": {
          "bdata": "q4MBAM2DAQA=",
          "dtype": "i4"
         },
         "y": {
          "bdata": "31v4/f3IpUBgk1mUCtulQA==",
          "dtype": "f8"
         }
        },
        {
         "customdata": [
          [
           "Original Comsol Mesh",
           0,
           248
          ],
          [
           "s100_100_100_b0_4000_0_5000_-4000_0",
           0.3154565097744096,
           248
          ]
         ],
         "hovertemplate": "Cells: %{x}<br>Entropy number: %{y}<br>Snap Idx: %{customdata[2]:03d}<br>Mapped: %{customdata[0]}<br>Rel Error: %{customdata[1]:.3f}%<extra></extra>",
         "line": {
          "color": "rgb(201, 44, 4)"
         },
         "mode": "markers+lines",
         "name": "268",
         "opacity": 0.4,
         "type": "scatter",
         "x": {
          "bdata": "q4MBAM2DAQA=",
          "dtype": "i4"
         },
         "y": {
          "bdata": "iaWoUZDGnUAeFAcQnN6dQA==",
          "dtype": "f8"
         }
        },
        {
         "customdata": [
          [
           "Original Comsol Mesh",
           0,
           249
          ],
          [
           "s100_100_100_b0_4000_0_5000_-4000_0",
           0.29465452423212957,
           249
          ]
         ],
         "hovertemplate": "Cells: %{x}<br>Entropy number: %{y}<br>Snap Idx: %{customdata[2]:03d}<br>Mapped: %{customdata[0]}<br>Rel Error: %{customdata[1]:.3f}%<extra></extra>",
         "line": {
          "color": "rgb(199, 42, 4)"
         },
         "mode": "markers+lines",
         "name": "269",
         "opacity": 0.4,
         "type": "scatter",
         "x": {
          "bdata": "q4MBAM2DAQA=",
          "dtype": "i4"
         },
         "y": {
          "bdata": "bH/piTpsl0C8NGKW5X2XQA==",
          "dtype": "f8"
         }
        },
        {
         "customdata": [
          [
           "Original Comsol Mesh",
           0,
           250
          ],
          [
           "s100_100_100_b0_4000_0_5000_-4000_0",
           0.2940097321850879,
           250
          ]
         ],
         "hovertemplate": "Cells: %{x}<br>Entropy number: %{y}<br>Snap Idx: %{customdata[2]:03d}<br>Mapped: %{customdata[0]}<br>Rel Error: %{customdata[1]:.3f}%<extra></extra>",
         "line": {
          "color": "rgb(197, 40, 3)"
         },
         "mode": "markers+lines",
         "name": "270",
         "opacity": 0.4,
         "type": "scatter",
         "x": {
          "bdata": "q4MBAM2DAQA=",
          "dtype": "i4"
         },
         "y": {
          "bdata": "CU4GqUFGm0DVA7H1yFqbQA==",
          "dtype": "f8"
         }
        },
        {
         "customdata": [
          [
           "Original Comsol Mesh",
           0,
           251
          ],
          [
           "s100_100_100_b0_4000_0_5000_-4000_0",
           0.3242549201048815,
           251
          ]
         ],
         "hovertemplate": "Cells: %{x}<br>Entropy number: %{y}<br>Snap Idx: %{customdata[2]:03d}<br>Mapped: %{customdata[0]}<br>Rel Error: %{customdata[1]:.3f}%<extra></extra>",
         "line": {
          "color": "rgb(195, 39, 3)"
         },
         "mode": "markers+lines",
         "name": "271",
         "opacity": 0.4,
         "type": "scatter",
         "x": {
          "bdata": "q4MBAM2DAQA=",
          "dtype": "i4"
         },
         "y": {
          "bdata": "9NBRllyclUBpIqv1TK6VQA==",
          "dtype": "f8"
         }
        },
        {
         "customdata": [
          [
           "Original Comsol Mesh",
           0,
           252
          ],
          [
           "s100_100_100_b0_4000_0_5000_-4000_0",
           0.3314911930191408,
           252
          ]
         ],
         "hovertemplate": "Cells: %{x}<br>Entropy number: %{y}<br>Snap Idx: %{customdata[2]:03d}<br>Mapped: %{customdata[0]}<br>Rel Error: %{customdata[1]:.3f}%<extra></extra>",
         "line": {
          "color": "rgb(193, 37, 3)"
         },
         "mode": "markers+lines",
         "name": "272",
         "opacity": 0.4,
         "type": "scatter",
         "x": {
          "bdata": "q4MBAM2DAQA=",
          "dtype": "i4"
         },
         "y": {
          "bdata": "lifw2hLDn0BjULgGB96fQA==",
          "dtype": "f8"
         }
        },
        {
         "customdata": [
          [
           "Original Comsol Mesh",
           0,
           253
          ],
          [
           "s100_100_100_b0_4000_0_5000_-4000_0",
           0.3299082732003893,
           253
          ]
         ],
         "hovertemplate": "Cells: %{x}<br>Entropy number: %{y}<br>Snap Idx: %{customdata[2]:03d}<br>Mapped: %{customdata[0]}<br>Rel Error: %{customdata[1]:.3f}%<extra></extra>",
         "line": {
          "color": "rgb(191, 36, 3)"
         },
         "mode": "markers+lines",
         "name": "273",
         "opacity": 0.4,
         "type": "scatter",
         "x": {
          "bdata": "q4MBAM2DAQA=",
          "dtype": "i4"
         },
         "y": {
          "bdata": "8l753Rcap0ALy0y0mi2nQA==",
          "dtype": "f8"
         }
        },
        {
         "customdata": [
          [
           "Original Comsol Mesh",
           0,
           254
          ],
          [
           "s100_100_100_b0_4000_0_5000_-4000_0",
           0.29498064812166097,
           254
          ]
         ],
         "hovertemplate": "Cells: %{x}<br>Entropy number: %{y}<br>Snap Idx: %{customdata[2]:03d}<br>Mapped: %{customdata[0]}<br>Rel Error: %{customdata[1]:.3f}%<extra></extra>",
         "line": {
          "color": "rgb(189, 34, 2)"
         },
         "mode": "markers+lines",
         "name": "274",
         "opacity": 0.4,
         "type": "scatter",
         "x": {
          "bdata": "q4MBAM2DAQA=",
          "dtype": "i4"
         },
         "y": {
          "bdata": "Ok/3od7vlUBVM5B1bwCWQA==",
          "dtype": "f8"
         }
        },
        {
         "customdata": [
          [
           "Original Comsol Mesh",
           0,
           255
          ],
          [
           "s100_100_100_b0_4000_0_5000_-4000_0",
           0.29487089025335395,
           255
          ]
         ],
         "hovertemplate": "Cells: %{x}<br>Entropy number: %{y}<br>Snap Idx: %{customdata[2]:03d}<br>Mapped: %{customdata[0]}<br>Rel Error: %{customdata[1]:.3f}%<extra></extra>",
         "line": {
          "color": "rgb(187, 33, 2)"
         },
         "mode": "markers+lines",
         "name": "275",
         "opacity": 0.4,
         "type": "scatter",
         "x": {
          "bdata": "q4MBAM2DAQA=",
          "dtype": "i4"
         },
         "y": {
          "bdata": "jyehZm8Xl0BX10vD3SiXQA==",
          "dtype": "f8"
         }
        },
        {
         "customdata": [
          [
           "Original Comsol Mesh",
           0,
           256
          ],
          [
           "s100_100_100_b0_4000_0_5000_-4000_0",
           0.31441816598313155,
           256
          ]
         ],
         "hovertemplate": "Cells: %{x}<br>Entropy number: %{y}<br>Snap Idx: %{customdata[2]:03d}<br>Mapped: %{customdata[0]}<br>Rel Error: %{customdata[1]:.3f}%<extra></extra>",
         "line": {
          "color": "rgb(185, 31, 2)"
         },
         "mode": "markers+lines",
         "name": "276",
         "opacity": 0.4,
         "type": "scatter",
         "x": {
          "bdata": "q4MBAM2DAQA=",
          "dtype": "i4"
         },
         "y": {
          "bdata": "8KuZrsWEpUAGDSrAF5alQA==",
          "dtype": "f8"
         }
        },
        {
         "customdata": [
          [
           "Original Comsol Mesh",
           0,
           257
          ],
          [
           "s100_100_100_b0_4000_0_5000_-4000_0",
           0.32719924075212375,
           257
          ]
         ],
         "hovertemplate": "Cells: %{x}<br>Entropy number: %{y}<br>Snap Idx: %{customdata[2]:03d}<br>Mapped: %{customdata[0]}<br>Rel Error: %{customdata[1]:.3f}%<extra></extra>",
         "line": {
          "color": "rgb(183, 30, 2)"
         },
         "mode": "markers+lines",
         "name": "277",
         "opacity": 0.4,
         "type": "scatter",
         "x": {
          "bdata": "q4MBAM2DAQA=",
          "dtype": "i4"
         },
         "y": {
          "bdata": "VhcdgzAHmUAUwd1dJxyZQA==",
          "dtype": "f8"
         }
        },
        {
         "customdata": [
          [
           "Original Comsol Mesh",
           0,
           258
          ],
          [
           "s100_100_100_b0_4000_0_5000_-4000_0",
           0.2969088234937952,
           258
          ]
         ],
         "hovertemplate": "Cells: %{x}<br>Entropy number: %{y}<br>Snap Idx: %{customdata[2]:03d}<br>Mapped: %{customdata[0]}<br>Rel Error: %{customdata[1]:.3f}%<extra></extra>",
         "line": {
          "color": "rgb(181, 28, 1)"
         },
         "mode": "markers+lines",
         "name": "278",
         "opacity": 0.4,
         "type": "scatter",
         "x": {
          "bdata": "q4MBAM2DAQA=",
          "dtype": "i4"
         },
         "y": {
          "bdata": "SG/aTbDWkUCCPQhiP+SRQA==",
          "dtype": "f8"
         }
        },
        {
         "customdata": [
          [
           "Original Comsol Mesh",
           0,
           259
          ],
          [
           "s100_100_100_b0_4000_0_5000_-4000_0",
           0.2974796166101709,
           259
          ]
         ],
         "hovertemplate": "Cells: %{x}<br>Entropy number: %{y}<br>Snap Idx: %{customdata[2]:03d}<br>Mapped: %{customdata[0]}<br>Rel Error: %{customdata[1]:.3f}%<extra></extra>",
         "line": {
          "color": "rgb(179, 27, 1)"
         },
         "mode": "markers+lines",
         "name": "279",
         "opacity": 0.4,
         "type": "scatter",
         "x": {
          "bdata": "q4MBAM2DAQA=",
          "dtype": "i4"
         },
         "y": {
          "bdata": "FAZZKiBXkUAcdpnFVGSRQA==",
          "dtype": "f8"
         }
        },
        {
         "customdata": [
          [
           "Original Comsol Mesh",
           0,
           260
          ],
          [
           "s100_100_100_b0_4000_0_5000_-4000_0",
           0.2955343418674533,
           260
          ]
         ],
         "hovertemplate": "Cells: %{x}<br>Entropy number: %{y}<br>Snap Idx: %{customdata[2]:03d}<br>Mapped: %{customdata[0]}<br>Rel Error: %{customdata[1]:.3f}%<extra></extra>",
         "line": {
          "color": "rgb(177, 25, 1)"
         },
         "mode": "markers+lines",
         "name": "280",
         "opacity": 0.4,
         "type": "scatter",
         "x": {
          "bdata": "q4MBAM2DAQA=",
          "dtype": "i4"
         },
         "y": {
          "bdata": "z5fC+wmGk0CXxuFWz5STQA==",
          "dtype": "f8"
         }
        },
        {
         "customdata": [
          [
           "Original Comsol Mesh",
           0,
           261
          ],
          [
           "s100_100_100_b0_4000_0_5000_-4000_0",
           0.3010937632626463,
           261
          ]
         ],
         "hovertemplate": "Cells: %{x}<br>Entropy number: %{y}<br>Snap Idx: %{customdata[2]:03d}<br>Mapped: %{customdata[0]}<br>Rel Error: %{customdata[1]:.3f}%<extra></extra>",
         "line": {
          "color": "rgb(174, 24, 1)"
         },
         "mode": "markers+lines",
         "name": "281",
         "opacity": 0.4,
         "type": "scatter",
         "x": {
          "bdata": "q4MBAM2DAQA=",
          "dtype": "i4"
         },
         "y": {
          "bdata": "nLTMnmiojkAlIoosCsCOQA==",
          "dtype": "f8"
         }
        },
        {
         "customdata": [
          [
           "Original Comsol Mesh",
           0,
           262
          ],
          [
           "s100_100_100_b0_4000_0_5000_-4000_0",
           0.3167879520618519,
           262
          ]
         ],
         "hovertemplate": "Cells: %{x}<br>Entropy number: %{y}<br>Snap Idx: %{customdata[2]:03d}<br>Mapped: %{customdata[0]}<br>Rel Error: %{customdata[1]:.3f}%<extra></extra>",
         "line": {
          "color": "rgb(171, 23, 1)"
         },
         "mode": "markers+lines",
         "name": "282",
         "opacity": 0.4,
         "type": "scatter",
         "x": {
          "bdata": "q4MBAM2DAQA=",
          "dtype": "i4"
         },
         "y": {
          "bdata": "nwBl54ExoUB5EwZtcz+hQA==",
          "dtype": "f8"
         }
        },
        {
         "customdata": [
          [
           "Original Comsol Mesh",
           0,
           263
          ],
          [
           "s100_100_100_b0_4000_0_5000_-4000_0",
           0.3178660069620909,
           263
          ]
         ],
         "hovertemplate": "Cells: %{x}<br>Entropy number: %{y}<br>Snap Idx: %{customdata[2]:03d}<br>Mapped: %{customdata[0]}<br>Rel Error: %{customdata[1]:.3f}%<extra></extra>",
         "line": {
          "color": "rgb(169, 22, 1)"
         },
         "mode": "markers+lines",
         "name": "283",
         "opacity": 0.4,
         "type": "scatter",
         "x": {
          "bdata": "q4MBAM2DAQA=",
          "dtype": "i4"
         },
         "y": {
          "bdata": "uJr8s5JwnEDk/bEst4ecQA==",
          "dtype": "f8"
         }
        },
        {
         "customdata": [
          [
           "Original Comsol Mesh",
           0,
           264
          ],
          [
           "s100_100_100_b0_4000_0_5000_-4000_0",
           0.30985668594548804,
           264
          ]
         ],
         "hovertemplate": "Cells: %{x}<br>Entropy number: %{y}<br>Snap Idx: %{customdata[2]:03d}<br>Mapped: %{customdata[0]}<br>Rel Error: %{customdata[1]:.3f}%<extra></extra>",
         "line": {
          "color": "rgb(166, 21, 1)"
         },
         "mode": "markers+lines",
         "name": "284",
         "opacity": 0.4,
         "type": "scatter",
         "x": {
          "bdata": "q4MBAM2DAQA=",
          "dtype": "i4"
         },
         "y": {
          "bdata": "fwzRLy2RnEDuV5Y91qecQA==",
          "dtype": "f8"
         }
        },
        {
         "customdata": [
          [
           "Original Comsol Mesh",
           0,
           265
          ],
          [
           "s100_100_100_b0_4000_0_5000_-4000_0",
           0.3149482442978791,
           265
          ]
         ],
         "hovertemplate": "Cells: %{x}<br>Entropy number: %{y}<br>Snap Idx: %{customdata[2]:03d}<br>Mapped: %{customdata[0]}<br>Rel Error: %{customdata[1]:.3f}%<extra></extra>",
         "line": {
          "color": "rgb(163, 20, 1)"
         },
         "mode": "markers+lines",
         "name": "285",
         "opacity": 0.4,
         "type": "scatter",
         "x": {
          "bdata": "q4MBAM2DAQA=",
          "dtype": "i4"
         },
         "y": {
          "bdata": "Wzq8rIMVpUB46OKDgyalQA==",
          "dtype": "f8"
         }
        },
        {
         "customdata": [
          [
           "Original Comsol Mesh",
           0,
           266
          ],
          [
           "s100_100_100_b0_4000_0_5000_-4000_0",
           0.3183858127055843,
           266
          ]
         ],
         "hovertemplate": "Cells: %{x}<br>Entropy number: %{y}<br>Snap Idx: %{customdata[2]:03d}<br>Mapped: %{customdata[0]}<br>Rel Error: %{customdata[1]:.3f}%<extra></extra>",
         "line": {
          "color": "rgb(160, 19, 1)"
         },
         "mode": "markers+lines",
         "name": "286",
         "opacity": 0.4,
         "type": "scatter",
         "x": {
          "bdata": "q4MBAM2DAQA=",
          "dtype": "i4"
         },
         "y": {
          "bdata": "X4/rEPXeoUBOlUb3he2hQA==",
          "dtype": "f8"
         }
        },
        {
         "customdata": [
          [
           "Original Comsol Mesh",
           0,
           267
          ],
          [
           "s100_100_100_b0_4000_0_5000_-4000_0",
           0.28554833780598177,
           267
          ]
         ],
         "hovertemplate": "Cells: %{x}<br>Entropy number: %{y}<br>Snap Idx: %{customdata[2]:03d}<br>Mapped: %{customdata[0]}<br>Rel Error: %{customdata[1]:.3f}%<extra></extra>",
         "line": {
          "color": "rgb(158, 18, 1)"
         },
         "mode": "markers+lines",
         "name": "287",
         "opacity": 0.4,
         "type": "scatter",
         "x": {
          "bdata": "q4MBAM2DAQA=",
          "dtype": "i4"
         },
         "y": {
          "bdata": "/Ik9/DIWo0BS3bDQJiSjQA==",
          "dtype": "f8"
         }
        },
        {
         "customdata": [
          [
           "Original Comsol Mesh",
           0,
           268
          ],
          [
           "s100_100_100_b0_4000_0_5000_-4000_0",
           0.3087652321975838,
           268
          ]
         ],
         "hovertemplate": "Cells: %{x}<br>Entropy number: %{y}<br>Snap Idx: %{customdata[2]:03d}<br>Mapped: %{customdata[0]}<br>Rel Error: %{customdata[1]:.3f}%<extra></extra>",
         "line": {
          "color": "rgb(155, 17, 1)"
         },
         "mode": "markers+lines",
         "name": "288",
         "opacity": 0.4,
         "type": "scatter",
         "x": {
          "bdata": "q4MBAM2DAQA=",
          "dtype": "i4"
         },
         "y": {
          "bdata": "5d6LEr4Im0BGQkZ/HB6bQA==",
          "dtype": "f8"
         }
        },
        {
         "customdata": [
          [
           "Original Comsol Mesh",
           0,
           269
          ],
          [
           "s100_100_100_b0_4000_0_5000_-4000_0",
           0.2951691657343437,
           269
          ]
         ],
         "hovertemplate": "Cells: %{x}<br>Entropy number: %{y}<br>Snap Idx: %{customdata[2]:03d}<br>Mapped: %{customdata[0]}<br>Rel Error: %{customdata[1]:.3f}%<extra></extra>",
         "line": {
          "color": "rgb(152, 16, 1)"
         },
         "mode": "markers+lines",
         "name": "289",
         "opacity": 0.4,
         "type": "scatter",
         "x": {
          "bdata": "q4MBAM2DAQA=",
          "dtype": "i4"
         },
         "y": {
          "bdata": "ZJRPw+ndlEBAIARKru2UQA==",
          "dtype": "f8"
         }
        },
        {
         "customdata": [
          [
           "Original Comsol Mesh",
           0,
           270
          ],
          [
           "s100_100_100_b0_4000_0_5000_-4000_0",
           0.31171837497250493,
           270
          ]
         ],
         "hovertemplate": "Cells: %{x}<br>Entropy number: %{y}<br>Snap Idx: %{customdata[2]:03d}<br>Mapped: %{customdata[0]}<br>Rel Error: %{customdata[1]:.3f}%<extra></extra>",
         "line": {
          "color": "rgb(149, 14, 2)"
         },
         "mode": "markers+lines",
         "name": "290",
         "opacity": 0.4,
         "type": "scatter",
         "x": {
          "bdata": "q4MBAM2DAQA=",
          "dtype": "i4"
         },
         "y": {
          "bdata": "0bSxuWImo0DzUAzTqjWjQA==",
          "dtype": "f8"
         }
        },
        {
         "customdata": [
          [
           "Original Comsol Mesh",
           0,
           271
          ],
          [
           "s100_100_100_b0_4000_0_5000_-4000_0",
           0.29531182317732607,
           271
          ]
         ],
         "hovertemplate": "Cells: %{x}<br>Entropy number: %{y}<br>Snap Idx: %{customdata[2]:03d}<br>Mapped: %{customdata[0]}<br>Rel Error: %{customdata[1]:.3f}%<extra></extra>",
         "line": {
          "color": "rgb(147, 13, 2)"
         },
         "mode": "markers+lines",
         "name": "291",
         "opacity": 0.4,
         "type": "scatter",
         "x": {
          "bdata": "q4MBAM2DAQA=",
          "dtype": "i4"
         },
         "y": {
          "bdata": "eHa+FKmMlEDch5ghMpyUQA==",
          "dtype": "f8"
         }
        },
        {
         "customdata": [
          [
           "Original Comsol Mesh",
           0,
           272
          ],
          [
           "s100_100_100_b0_4000_0_5000_-4000_0",
           0.30120114387701113,
           272
          ]
         ],
         "hovertemplate": "Cells: %{x}<br>Entropy number: %{y}<br>Snap Idx: %{customdata[2]:03d}<br>Mapped: %{customdata[0]}<br>Rel Error: %{customdata[1]:.3f}%<extra></extra>",
         "line": {
          "color": "rgb(144, 12, 2)"
         },
         "mode": "markers+lines",
         "name": "292",
         "opacity": 0.4,
         "type": "scatter",
         "x": {
          "bdata": "q4MBAM2DAQA=",
          "dtype": "i4"
         },
         "y": {
          "bdata": "+G7F6PJujUCj+17rpIWNQA==",
          "dtype": "f8"
         }
        },
        {
         "customdata": [
          [
           "Original Comsol Mesh",
           0,
           273
          ],
          [
           "s100_100_100_b0_4000_0_5000_-4000_0",
           0.2960280348592099,
           273
          ]
         ],
         "hovertemplate": "Cells: %{x}<br>Entropy number: %{y}<br>Snap Idx: %{customdata[2]:03d}<br>Mapped: %{customdata[0]}<br>Rel Error: %{customdata[1]:.3f}%<extra></extra>",
         "line": {
          "color": "rgb(141, 11, 2)"
         },
         "mode": "markers+lines",
         "name": "293",
         "opacity": 0.4,
         "type": "scatter",
         "x": {
          "bdata": "q4MBAM2DAQA=",
          "dtype": "i4"
         },
         "y": {
          "bdata": "XMARUM8Jk0B+NzfXPBiTQA==",
          "dtype": "f8"
         }
        },
        {
         "customdata": [
          [
           "Original Comsol Mesh",
           0,
           274
          ],
          [
           "s100_100_100_b0_4000_0_5000_-4000_0",
           0.2929278742455348,
           274
          ]
         ],
         "hovertemplate": "Cells: %{x}<br>Entropy number: %{y}<br>Snap Idx: %{customdata[2]:03d}<br>Mapped: %{customdata[0]}<br>Rel Error: %{customdata[1]:.3f}%<extra></extra>",
         "line": {
          "color": "rgb(139, 10, 2)"
         },
         "mode": "markers+lines",
         "name": "294",
         "opacity": 0.4,
         "type": "scatter",
         "x": {
          "bdata": "q4MBAM2DAQA=",
          "dtype": "i4"
         },
         "y": {
          "bdata": "UB64yXQMmEAhlGN8fR6YQA==",
          "dtype": "f8"
         }
        },
        {
         "customdata": [
          [
           "Original Comsol Mesh",
           0,
           275
          ],
          [
           "s100_100_100_b0_4000_0_5000_-4000_0",
           0.3064287361052585,
           275
          ]
         ],
         "hovertemplate": "Cells: %{x}<br>Entropy number: %{y}<br>Snap Idx: %{customdata[2]:03d}<br>Mapped: %{customdata[0]}<br>Rel Error: %{customdata[1]:.3f}%<extra></extra>",
         "line": {
          "color": "rgb(136, 9, 2)"
         },
         "mode": "markers+lines",
         "name": "295",
         "opacity": 0.4,
         "type": "scatter",
         "x": {
          "bdata": "q4MBAM2DAQA=",
          "dtype": "i4"
         },
         "y": {
          "bdata": "jWhZtWl6nkBZqcdeUpKeQA==",
          "dtype": "f8"
         }
        },
        {
         "customdata": [
          [
           "Original Comsol Mesh",
           0,
           276
          ],
          [
           "s100_100_100_b0_4000_0_5000_-4000_0",
           0.2938991099321404,
           276
          ]
         ],
         "hovertemplate": "Cells: %{x}<br>Entropy number: %{y}<br>Snap Idx: %{customdata[2]:03d}<br>Mapped: %{customdata[0]}<br>Rel Error: %{customdata[1]:.3f}%<extra></extra>",
         "line": {
          "color": "rgb(133, 8, 2)"
         },
         "mode": "markers+lines",
         "name": "296",
         "opacity": 0.4,
         "type": "scatter",
         "x": {
          "bdata": "q4MBAM2DAQA=",
          "dtype": "i4"
         },
         "y": {
          "bdata": "/sGB6Z+1nEAIvqiiOcucQA==",
          "dtype": "f8"
         }
        },
        {
         "customdata": [
          [
           "Original Comsol Mesh",
           0,
           277
          ],
          [
           "s100_100_100_b0_4000_0_5000_-4000_0",
           0.322127971076324,
           277
          ]
         ],
         "hovertemplate": "Cells: %{x}<br>Entropy number: %{y}<br>Snap Idx: %{customdata[2]:03d}<br>Mapped: %{customdata[0]}<br>Rel Error: %{customdata[1]:.3f}%<extra></extra>",
         "line": {
          "color": "rgb(130, 7, 2)"
         },
         "mode": "markers+lines",
         "name": "297",
         "opacity": 0.4,
         "type": "scatter",
         "x": {
          "bdata": "q4MBAM2DAQA=",
          "dtype": "i4"
         },
         "y": {
          "bdata": "LFhneoI7oUAw70VruEmhQA==",
          "dtype": "f8"
         }
        },
        {
         "customdata": [
          [
           "Original Comsol Mesh",
           0,
           278
          ],
          [
           "s100_100_100_b0_4000_0_5000_-4000_0",
           0.3009837216593653,
           278
          ]
         ],
         "hovertemplate": "Cells: %{x}<br>Entropy number: %{y}<br>Snap Idx: %{customdata[2]:03d}<br>Mapped: %{customdata[0]}<br>Rel Error: %{customdata[1]:.3f}%<extra></extra>",
         "line": {
          "color": "rgb(127, 6, 2)"
         },
         "mode": "markers+lines",
         "name": "298",
         "opacity": 0.4,
         "type": "scatter",
         "x": {
          "bdata": "q4MBAM2DAQA=",
          "dtype": "i4"
         },
         "y": {
          "bdata": "amTwJN/lj0C+xBoZc/6PQA==",
          "dtype": "f8"
         }
        },
        {
         "customdata": [
          [
           "Original Comsol Mesh",
           0,
           279
          ],
          [
           "s100_100_100_b0_4000_0_5000_-4000_0",
           0.31705946170447846,
           279
          ]
         ],
         "hovertemplate": "Cells: %{x}<br>Entropy number: %{y}<br>Snap Idx: %{customdata[2]:03d}<br>Mapped: %{customdata[0]}<br>Rel Error: %{customdata[1]:.3f}%<extra></extra>",
         "line": {
          "color": "rgb(125, 5, 2)"
         },
         "mode": "markers+lines",
         "name": "299",
         "opacity": 0.4,
         "type": "scatter",
         "x": {
          "bdata": "q4MBAM2DAQA=",
          "dtype": "i4"
         },
         "y": {
          "bdata": "r4zS/mBjoUBtk1UOfnGhQA==",
          "dtype": "f8"
         }
        }
       ],
       "layout": {
        "showlegend": false,
        "template": {
         "data": {
          "bar": [
           {
            "error_x": {
             "color": "#2a3f5f"
            },
            "error_y": {
             "color": "#2a3f5f"
            },
            "marker": {
             "line": {
              "color": "#E5ECF6",
              "width": 0.5
             },
             "pattern": {
              "fillmode": "overlay",
              "size": 10,
              "solidity": 0.2
             }
            },
            "type": "bar"
           }
          ],
          "barpolar": [
           {
            "marker": {
             "line": {
              "color": "#E5ECF6",
              "width": 0.5
             },
             "pattern": {
              "fillmode": "overlay",
              "size": 10,
              "solidity": 0.2
             }
            },
            "type": "barpolar"
           }
          ],
          "carpet": [
           {
            "aaxis": {
             "endlinecolor": "#2a3f5f",
             "gridcolor": "white",
             "linecolor": "white",
             "minorgridcolor": "white",
             "startlinecolor": "#2a3f5f"
            },
            "baxis": {
             "endlinecolor": "#2a3f5f",
             "gridcolor": "white",
             "linecolor": "white",
             "minorgridcolor": "white",
             "startlinecolor": "#2a3f5f"
            },
            "type": "carpet"
           }
          ],
          "choropleth": [
           {
            "colorbar": {
             "outlinewidth": 0,
             "ticks": ""
            },
            "type": "choropleth"
           }
          ],
          "contour": [
           {
            "colorbar": {
             "outlinewidth": 0,
             "ticks": ""
            },
            "colorscale": [
             [
              0,
              "#0d0887"
             ],
             [
              0.1111111111111111,
              "#46039f"
             ],
             [
              0.2222222222222222,
              "#7201a8"
             ],
             [
              0.3333333333333333,
              "#9c179e"
             ],
             [
              0.4444444444444444,
              "#bd3786"
             ],
             [
              0.5555555555555556,
              "#d8576b"
             ],
             [
              0.6666666666666666,
              "#ed7953"
             ],
             [
              0.7777777777777778,
              "#fb9f3a"
             ],
             [
              0.8888888888888888,
              "#fdca26"
             ],
             [
              1,
              "#f0f921"
             ]
            ],
            "type": "contour"
           }
          ],
          "contourcarpet": [
           {
            "colorbar": {
             "outlinewidth": 0,
             "ticks": ""
            },
            "type": "contourcarpet"
           }
          ],
          "heatmap": [
           {
            "colorbar": {
             "outlinewidth": 0,
             "ticks": ""
            },
            "colorscale": [
             [
              0,
              "#0d0887"
             ],
             [
              0.1111111111111111,
              "#46039f"
             ],
             [
              0.2222222222222222,
              "#7201a8"
             ],
             [
              0.3333333333333333,
              "#9c179e"
             ],
             [
              0.4444444444444444,
              "#bd3786"
             ],
             [
              0.5555555555555556,
              "#d8576b"
             ],
             [
              0.6666666666666666,
              "#ed7953"
             ],
             [
              0.7777777777777778,
              "#fb9f3a"
             ],
             [
              0.8888888888888888,
              "#fdca26"
             ],
             [
              1,
              "#f0f921"
             ]
            ],
            "type": "heatmap"
           }
          ],
          "histogram": [
           {
            "marker": {
             "pattern": {
              "fillmode": "overlay",
              "size": 10,
              "solidity": 0.2
             }
            },
            "type": "histogram"
           }
          ],
          "histogram2d": [
           {
            "colorbar": {
             "outlinewidth": 0,
             "ticks": ""
            },
            "colorscale": [
             [
              0,
              "#0d0887"
             ],
             [
              0.1111111111111111,
              "#46039f"
             ],
             [
              0.2222222222222222,
              "#7201a8"
             ],
             [
              0.3333333333333333,
              "#9c179e"
             ],
             [
              0.4444444444444444,
              "#bd3786"
             ],
             [
              0.5555555555555556,
              "#d8576b"
             ],
             [
              0.6666666666666666,
              "#ed7953"
             ],
             [
              0.7777777777777778,
              "#fb9f3a"
             ],
             [
              0.8888888888888888,
              "#fdca26"
             ],
             [
              1,
              "#f0f921"
             ]
            ],
            "type": "histogram2d"
           }
          ],
          "histogram2dcontour": [
           {
            "colorbar": {
             "outlinewidth": 0,
             "ticks": ""
            },
            "colorscale": [
             [
              0,
              "#0d0887"
             ],
             [
              0.1111111111111111,
              "#46039f"
             ],
             [
              0.2222222222222222,
              "#7201a8"
             ],
             [
              0.3333333333333333,
              "#9c179e"
             ],
             [
              0.4444444444444444,
              "#bd3786"
             ],
             [
              0.5555555555555556,
              "#d8576b"
             ],
             [
              0.6666666666666666,
              "#ed7953"
             ],
             [
              0.7777777777777778,
              "#fb9f3a"
             ],
             [
              0.8888888888888888,
              "#fdca26"
             ],
             [
              1,
              "#f0f921"
             ]
            ],
            "type": "histogram2dcontour"
           }
          ],
          "mesh3d": [
           {
            "colorbar": {
             "outlinewidth": 0,
             "ticks": ""
            },
            "type": "mesh3d"
           }
          ],
          "parcoords": [
           {
            "line": {
             "colorbar": {
              "outlinewidth": 0,
              "ticks": ""
             }
            },
            "type": "parcoords"
           }
          ],
          "pie": [
           {
            "automargin": true,
            "type": "pie"
           }
          ],
          "scatter": [
           {
            "fillpattern": {
             "fillmode": "overlay",
             "size": 10,
             "solidity": 0.2
            },
            "type": "scatter"
           }
          ],
          "scatter3d": [
           {
            "line": {
             "colorbar": {
              "outlinewidth": 0,
              "ticks": ""
             }
            },
            "marker": {
             "colorbar": {
              "outlinewidth": 0,
              "ticks": ""
             }
            },
            "type": "scatter3d"
           }
          ],
          "scattercarpet": [
           {
            "marker": {
             "colorbar": {
              "outlinewidth": 0,
              "ticks": ""
             }
            },
            "type": "scattercarpet"
           }
          ],
          "scattergeo": [
           {
            "marker": {
             "colorbar": {
              "outlinewidth": 0,
              "ticks": ""
             }
            },
            "type": "scattergeo"
           }
          ],
          "scattergl": [
           {
            "marker": {
             "colorbar": {
              "outlinewidth": 0,
              "ticks": ""
             }
            },
            "type": "scattergl"
           }
          ],
          "scattermap": [
           {
            "marker": {
             "colorbar": {
              "outlinewidth": 0,
              "ticks": ""
             }
            },
            "type": "scattermap"
           }
          ],
          "scattermapbox": [
           {
            "marker": {
             "colorbar": {
              "outlinewidth": 0,
              "ticks": ""
             }
            },
            "type": "scattermapbox"
           }
          ],
          "scatterpolar": [
           {
            "marker": {
             "colorbar": {
              "outlinewidth": 0,
              "ticks": ""
             }
            },
            "type": "scatterpolar"
           }
          ],
          "scatterpolargl": [
           {
            "marker": {
             "colorbar": {
              "outlinewidth": 0,
              "ticks": ""
             }
            },
            "type": "scatterpolargl"
           }
          ],
          "scatterternary": [
           {
            "marker": {
             "colorbar": {
              "outlinewidth": 0,
              "ticks": ""
             }
            },
            "type": "scatterternary"
           }
          ],
          "surface": [
           {
            "colorbar": {
             "outlinewidth": 0,
             "ticks": ""
            },
            "colorscale": [
             [
              0,
              "#0d0887"
             ],
             [
              0.1111111111111111,
              "#46039f"
             ],
             [
              0.2222222222222222,
              "#7201a8"
             ],
             [
              0.3333333333333333,
              "#9c179e"
             ],
             [
              0.4444444444444444,
              "#bd3786"
             ],
             [
              0.5555555555555556,
              "#d8576b"
             ],
             [
              0.6666666666666666,
              "#ed7953"
             ],
             [
              0.7777777777777778,
              "#fb9f3a"
             ],
             [
              0.8888888888888888,
              "#fdca26"
             ],
             [
              1,
              "#f0f921"
             ]
            ],
            "type": "surface"
           }
          ],
          "table": [
           {
            "cells": {
             "fill": {
              "color": "#EBF0F8"
             },
             "line": {
              "color": "white"
             }
            },
            "header": {
             "fill": {
              "color": "#C8D4E3"
             },
             "line": {
              "color": "white"
             }
            },
            "type": "table"
           }
          ]
         },
         "layout": {
          "annotationdefaults": {
           "arrowcolor": "#2a3f5f",
           "arrowhead": 0,
           "arrowwidth": 1
          },
          "autotypenumbers": "strict",
          "coloraxis": {
           "colorbar": {
            "outlinewidth": 0,
            "ticks": ""
           }
          },
          "colorscale": {
           "diverging": [
            [
             0,
             "#8e0152"
            ],
            [
             0.1,
             "#c51b7d"
            ],
            [
             0.2,
             "#de77ae"
            ],
            [
             0.3,
             "#f1b6da"
            ],
            [
             0.4,
             "#fde0ef"
            ],
            [
             0.5,
             "#f7f7f7"
            ],
            [
             0.6,
             "#e6f5d0"
            ],
            [
             0.7,
             "#b8e186"
            ],
            [
             0.8,
             "#7fbc41"
            ],
            [
             0.9,
             "#4d9221"
            ],
            [
             1,
             "#276419"
            ]
           ],
           "sequential": [
            [
             0,
             "#0d0887"
            ],
            [
             0.1111111111111111,
             "#46039f"
            ],
            [
             0.2222222222222222,
             "#7201a8"
            ],
            [
             0.3333333333333333,
             "#9c179e"
            ],
            [
             0.4444444444444444,
             "#bd3786"
            ],
            [
             0.5555555555555556,
             "#d8576b"
            ],
            [
             0.6666666666666666,
             "#ed7953"
            ],
            [
             0.7777777777777778,
             "#fb9f3a"
            ],
            [
             0.8888888888888888,
             "#fdca26"
            ],
            [
             1,
             "#f0f921"
            ]
           ],
           "sequentialminus": [
            [
             0,
             "#0d0887"
            ],
            [
             0.1111111111111111,
             "#46039f"
            ],
            [
             0.2222222222222222,
             "#7201a8"
            ],
            [
             0.3333333333333333,
             "#9c179e"
            ],
            [
             0.4444444444444444,
             "#bd3786"
            ],
            [
             0.5555555555555556,
             "#d8576b"
            ],
            [
             0.6666666666666666,
             "#ed7953"
            ],
            [
             0.7777777777777778,
             "#fb9f3a"
            ],
            [
             0.8888888888888888,
             "#fdca26"
            ],
            [
             1,
             "#f0f921"
            ]
           ]
          },
          "colorway": [
           "#636efa",
           "#EF553B",
           "#00cc96",
           "#ab63fa",
           "#FFA15A",
           "#19d3f3",
           "#FF6692",
           "#B6E880",
           "#FF97FF",
           "#FECB52"
          ],
          "font": {
           "color": "#2a3f5f"
          },
          "geo": {
           "bgcolor": "white",
           "lakecolor": "white",
           "landcolor": "#E5ECF6",
           "showlakes": true,
           "showland": true,
           "subunitcolor": "white"
          },
          "hoverlabel": {
           "align": "left"
          },
          "hovermode": "closest",
          "mapbox": {
           "style": "light"
          },
          "paper_bgcolor": "white",
          "plot_bgcolor": "#E5ECF6",
          "polar": {
           "angularaxis": {
            "gridcolor": "white",
            "linecolor": "white",
            "ticks": ""
           },
           "bgcolor": "#E5ECF6",
           "radialaxis": {
            "gridcolor": "white",
            "linecolor": "white",
            "ticks": ""
           }
          },
          "scene": {
           "xaxis": {
            "backgroundcolor": "#E5ECF6",
            "gridcolor": "white",
            "gridwidth": 2,
            "linecolor": "white",
            "showbackground": true,
            "ticks": "",
            "zerolinecolor": "white"
           },
           "yaxis": {
            "backgroundcolor": "#E5ECF6",
            "gridcolor": "white",
            "gridwidth": 2,
            "linecolor": "white",
            "showbackground": true,
            "ticks": "",
            "zerolinecolor": "white"
           },
           "zaxis": {
            "backgroundcolor": "#E5ECF6",
            "gridcolor": "white",
            "gridwidth": 2,
            "linecolor": "white",
            "showbackground": true,
            "ticks": "",
            "zerolinecolor": "white"
           }
          },
          "shapedefaults": {
           "line": {
            "color": "#2a3f5f"
           }
          },
          "ternary": {
           "aaxis": {
            "gridcolor": "white",
            "linecolor": "white",
            "ticks": ""
           },
           "baxis": {
            "gridcolor": "white",
            "linecolor": "white",
            "ticks": ""
           },
           "bgcolor": "#E5ECF6",
           "caxis": {
            "gridcolor": "white",
            "linecolor": "white",
            "ticks": ""
           }
          },
          "title": {
           "x": 0.05
          },
          "xaxis": {
           "automargin": true,
           "gridcolor": "white",
           "linecolor": "white",
           "ticks": "",
           "title": {
            "standoff": 15
           },
           "zerolinecolor": "white",
           "zerolinewidth": 2
          },
          "yaxis": {
           "automargin": true,
           "gridcolor": "white",
           "linecolor": "white",
           "ticks": "",
           "title": {
            "standoff": 15
           },
           "zerolinecolor": "white",
           "zerolinewidth": 2
          }
         }
        },
        "title": {
         "text": "Entropy generation number vs n_cells - Training Snapshots - Parameter Space 01"
        },
        "xaxis": {
         "tickformat": ".4e",
         "title": {
          "text": "n_cells [-]"
         },
         "type": "log"
        },
        "yaxis": {
         "tickformat": ".2f",
         "title": {
          "text": "entropy_gen"
         }
        }
       }
      }
     },
     "metadata": {},
     "output_type": "display_data"
    }
   ],
   "source": [
    "fig = go.Figure()\n",
    "plot_metric = \"entropy_gen\" #\"entropy_num\"\n",
    "squarred_errors = np.zeros((N_SNAPS, len(mapped_folders) + 1)) #! Only if original is also included\n",
    "for idx_snap in range(N_SNAPS):\n",
    "    entropies = []\n",
    "    cell_sizes = []\n",
    "    mapped_meshes = []\n",
    "\n",
    "\n",
    "    for key, value in mapped_dic.items():\n",
    "        entropies.append(value[plot_metric][idx_snap])\n",
    "        cell_sizes.append(value[\"n_cells\"])\n",
    "        mapped_meshes.append(key)\n",
    "        \n",
    "    sorted_indices = np.argsort(np.array(cell_sizes))\n",
    "    entropies = np.array(entropies)[sorted_indices]\n",
    "    cell_sizes = np.array(cell_sizes)[sorted_indices]\n",
    "    mapped_meshes_sorted = [mapped_meshes[i] for i in sorted_indices]\n",
    "    \n",
    "    original_n_cells = original_dic[\"original\"][\"n_cells\"][idx_snap]\n",
    "    original_entropy_num = original_dic[\"original\"][plot_metric][idx_snap]\n",
    "    \n",
    "    idx_org = np.searchsorted(cell_sizes, original_n_cells)\n",
    "    cell_sizes = np.insert(cell_sizes, idx_org, original_n_cells)\n",
    "    entropies = np.insert(entropies, idx_org, original_entropy_num)\n",
    "    mapped_meshes_sorted.insert(idx_org, \"Original Comsol Mesh\")\n",
    "    \n",
    "\n",
    "    rel_error = (entropies - original_entropy_num) / original_entropy_num\n",
    "    squarred_errors[idx_snap, :] = (entropies - original_entropy_num)**2\n",
    "    \n",
    "    mapped_meshes_sorted = np.array(mapped_meshes_sorted, dtype=object)\n",
    "    idx_snap_array = np.ones_like(rel_error) * idx_snap\n",
    "    # Stack into 2D array: shape (n_points, 2)\n",
    "    custom_data = np.column_stack((mapped_meshes_sorted, rel_error * 100, idx_snap_array))\n",
    "    \n",
    "\n",
    "    fig.add_trace(go.Scatter(x=cell_sizes,\n",
    "                             y=entropies,\n",
    "                                mode='markers+lines',\n",
    "                                name=f\"{idxs[idx_snap]:03d}\",\n",
    "                                opacity=0.4,#\n",
    "                                customdata=custom_data,\n",
    "                                hovertemplate=\n",
    "                                    'Cells: %{x}<br>'\n",
    "                                    'Entropy number: %{y}<br>'\n",
    "                                    'Snap Idx: %{customdata[2]:03d}<br>'\n",
    "                                    'Mapped: %{customdata[0]}<br>'\n",
    "                                    'Rel Error: %{customdata[1]:.3f}%<extra></extra>',\n",
    "                                line=dict(color=colors[idx_snap])\n",
    "                ))\n",
    "    \n",
    "fig.update_layout(\n",
    "    showlegend=False,        # Hide the legend\n",
    "    title=f\"Entropy generation number vs n_cells - Training Snapshots - Parameter Space {PARAMETER_SPACE}\",       # Optional: add a title\n",
    "    xaxis_title=\"n_cells [-]\",    # Optional: label for x-axis\n",
    "    yaxis_title=plot_metric,     # Optional: label for y-axis\n",
    "    xaxis=dict(\n",
    "        type='log',                               # Set x-axis to logarithmic scale\n",
    "        tickformat='.4e',                         # Format x-axis ticks to scientific notation with 2 decimal places\n",
    "    ),\n",
    "    yaxis=dict(\n",
    "        tickformat='.2f',                         # Format y-axis ticks to 2 decimal places (optional)\n",
    "    )\n",
    ")\n",
    "\n",
    "fig.write_image(mapped_root / f\"Training_Diff_{plot_metric}.png\")\n",
    "fig.write_html(mapped_root / f\"Training_Diff_{plot_metric}.html\")\n",
    "fig.show()"
   ]
  },
  {
   "cell_type": "code",
   "execution_count": 49,
   "id": "ea16243d",
   "metadata": {},
   "outputs": [
    {
     "data": {
      "application/vnd.plotly.v1+json": {
       "config": {
        "plotlyServerURL": "https://plot.ly"
       },
       "data": [
        {
         "hovertemplate": "x=%{x}<br>y=%{y}<extra></extra>",
         "legendgroup": "",
         "marker": {
          "color": "#636efa",
          "symbol": "circle"
         },
         "mode": "markers",
         "name": "",
         "orientation": "v",
         "showlegend": false,
         "type": "scatter",
         "x": {
          "bdata": "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",
          "dtype": "f8"
         },
         "xaxis": "x",
         "y": {
          "bdata": "EToXiVwi7z+3H9iwInPxP8thw57kgO8/WtWSOsGV8T9F5YOXdJ7wPyHvw4qd//I/o1Ke+ZN/8j8F9CWtjE7wPx8wrtC+dvE/aYDvsYA+8T8PLaZv0XjvP0vwDpAxDu4/MaCkcKoQ8D/ASZq56p/wP4ksvtNfg/E/+TxYEsVi7j+p569AaczxP0Zew2bJM/E/jbnejjgL7j8uq///tg/uP0/hqxWzre8/H3Jz16x78D9BJ/GYOnTxP/ZyzdSK8PE/DXxaJWn78D8K3JoOi+DwP5IUv8LYV/A/YSgzvWZg8D8YRKLDGkLyP7MmX7swtfE/KVJaNMvt8T+tdsNPhT70P6Tu/OnQPPA/0O9uJUmY7j/G+FB0sQzuP+3HB4fAAPA/OmKJXk+i8T/BnSyMlhDxP1Pcan6yDu4/NIQhuZ6J8D8d9kxy5izxP9FoaAyMJfI/noo81LsK7j8P8Qp/uLPwP2rk7QO0gvM/OZlJRUmD8D96k+wkrUfvP1iEJlVWwfA/oBljNIjU8T+LCOu9GYryP1CilWRYAfA/kV5ckLgH8z8UChwMLHLyP3aXH6DJY/E/QTi/iTEA8D9Baf26nKHvP3rZCw45Y/E/7FYn+2Vn8D+t0fMJb2nyPy8tAg5McPQ/QcoJ0vxQ9D956noLnbDxP1ckIPVBbfE/A5FpH3Yi8T/oFtqLd7H2P4cJ4kvxE/A/j8PNOrUL7j8nx1h08QzxPwK6tHK+A/I/4QqLTMUo8j/m/0VsKbHwP1WGbgFYMvI/YhzkoDAN7j8FZI8kB8rxP7dfz6m9EO4/RiwbQUUa8D8PQrlAmjjwP2iogEYfxO4/nlW4WAuW8z//ga79MgzuP/tXH/OHEe4/Hw5TUid38T+6VW7q6jjyP7JvMry22vA/5rgQk8Tr8D9xbJLmlLfwP6htClpZq/E/1Qm4gLAN7j+ip4PzplDwPx22rIOApfA/ky7DxNi58D/rXNQgOhDuPztSw/B1jvA/bfzDRDQP7j+bvjgK5jTwP9XZ58tl5/A/UqE3mNgZ8D8ygdk6p1X0P1Xwy5QQnPE/u44bCrAD8T+Ek4q9RGbxP4gIsMq+TfA/yKQ9xY988T9xPFRQUPrvPwgfO/hzNPA/p+Fumf118T+08CoJkyTwP3WPPW4ewPA/9YsgjSRb8D+CXpOqEtnvP+bPkrGLr/A/rOeKHNiR8T+zn/h12MHwP2/nzOtDE/E/HaWG179i8T+l/wKSBQDxP93zElchwPA/ERo4sKO18D+wZtCB+eHwP0KJL1dODvA/IrKQ/Ruo8T/AF+CZkTPwPwo+1+K6PvA/XDS++7oX8D9wr5BziurxP0ZIaQPydPA/AzOEDksC8D/CcdiXWOXwP98CZZ3D7O8/9SH+P0908T8zE8cXAY7wP4SON0JKf/E/0Trc8eMb8T+b80JPSCjxPw99B4mkNvM/s4OUOWKV8T9jpr1QPlDxP3yAlEHqvvA/oPXa0FIW8z+J+nlBVxzxPwdEl0Kfs/A/jRryMRgV8T+i/bczw4XwP3TMqyZrC/I/5/IUa9jl8D+YB0ICwtjwP/NsizqbSfA/QUFplZux8D9Ipt5xWvrxP+3+pSmuS/E/qHb/wAAy8D9f2i6jPxXyP4KZB74sgPA/AKIGyYVa8j96IRpRl3vwP2a71vvPxfI/FXr77phr8T/IwNW8UHfwP1Ge45qjXvA/XuAdBoZs8D9AnaL4WTzwP6LMx1nGsvE/hIW3u04A8j9BaHLUKDzxP4fhYouU0PI/zHRDcEno8T/IdVfsGhrwP0k+oxKEkfA/z16f7oTw8j8jPfvmEnHwP0+q0X9uj/E/Q668XFzC8T8qkbT3BHzyPweroXZT5/A/MDYW+5sg9D8ZspGAwALyP2Yt6G8xXPE/smqptSrW8z9IgsIpEybxP2YANh9Iz/M/SozviOxH8T+SrCMD2x7wP9z/wGbLGu8/1PjaaHMb8D+Oji03/kjxPzI4tKo2ZfA/sHDfY4M18j8rNd4lZnPwPzeRiuueWvI/FQi2d6Oq8j8ZEAGxp3fwPyWYeGU+efA/lSCVSbVp9D9caOaY9iHzP354keY/De4/lDjWGAjQ7j/Pg8MzVGDwPwaDUv5BD+4/AdiwnZmU8D9/59ckxA/uPz4qlLtSKvE/FH8hQtfe8D+8MyNUMLfwPzGKnr2+TPA/niRPEefl8T+OUQeTkevwPzwTxk7FC+4/VnuZ6DZA8T8YihtIq/zxP7mJmhzSZfA/ZdZpreT78T9E5NGZuyT0P4EWuplmTvA/EweXr9MY8D8hiImwcQ7xP9ApMER6rfI/ajIeFkUQ8T+NxHi3EqbxPzsAwKdltu8/P0t4iZcg8j/y4DYDwQzuP7GDQg+iufE/dtR82UOl7z9HYzt5aafuP091U8FIC+4/OJlO6WMY7j95uvvoyXHwP7FbkgkWMfE/ZcN7d0vk8T8W1uygQ4bvP6+BzB4YAPE/QzetxDHx8D+1xqO3qpbxP/6xKGY3zPE/6YpJrUDo8j83cJ65jDbxP6kM+VEwzfE/LzK9yKCi8D93KF5YP1vxPxwvd4tR3fA/AvpSv0YQ7j8tTjFzbCbuP4xOThyKS/E/I9h19GyJ8D8WnjrPGXPxP2Qa6kt77PE/JO2ytT8O7j84LPlNPrbyPyTrwx7/MfA/QkCCN+Sn8D/jYuSDca/xP5wp9Sr1OfA/3M6a0llw8z/Xf2vx6mzzP+8233xYSfA/SDT5ypyY8D9wvV3jJh/xP3dvW1AWE/E//91Ip6do7j96mPuPFkruPyTMUfs0Xu8/gWAu1EIM7j9UONOpt+zwPyyqBA+yw/A/MG2SkWGI8D9a8p+9LQHxPxOEeUKeLfE/KqWAIHkW8z+Q04MupzvwP6hTMkEFBPA/9J/9YUC18T96orsXyObvPx21rIvMCu4/oP4uqdpP7z+sF3K/yjvwP21X2zkHS/A/ab3YwJgT8j+e0U/fGPfxP+KMBIy/De4/CDaZrc3T8T8=",
          "dtype": "f8"
         },
         "yaxis": "y"
        }
       ],
       "layout": {
        "legend": {
         "tracegroupgap": 0
        },
        "shapes": [
         {
          "line": {
           "color": "red",
           "dash": "dash"
          },
          "name": "1:1 Line",
          "type": "line",
          "x0": 0.934869494963996,
          "x1": 1.4171634708047853,
          "y0": 0.934869494963996,
          "y1": 1.4171634708047853
         }
        ],
        "template": {
         "data": {
          "bar": [
           {
            "error_x": {
             "color": "#2a3f5f"
            },
            "error_y": {
             "color": "#2a3f5f"
            },
            "marker": {
             "line": {
              "color": "#E5ECF6",
              "width": 0.5
             },
             "pattern": {
              "fillmode": "overlay",
              "size": 10,
              "solidity": 0.2
             }
            },
            "type": "bar"
           }
          ],
          "barpolar": [
           {
            "marker": {
             "line": {
              "color": "#E5ECF6",
              "width": 0.5
             },
             "pattern": {
              "fillmode": "overlay",
              "size": 10,
              "solidity": 0.2
             }
            },
            "type": "barpolar"
           }
          ],
          "carpet": [
           {
            "aaxis": {
             "endlinecolor": "#2a3f5f",
             "gridcolor": "white",
             "linecolor": "white",
             "minorgridcolor": "white",
             "startlinecolor": "#2a3f5f"
            },
            "baxis": {
             "endlinecolor": "#2a3f5f",
             "gridcolor": "white",
             "linecolor": "white",
             "minorgridcolor": "white",
             "startlinecolor": "#2a3f5f"
            },
            "type": "carpet"
           }
          ],
          "choropleth": [
           {
            "colorbar": {
             "outlinewidth": 0,
             "ticks": ""
            },
            "type": "choropleth"
           }
          ],
          "contour": [
           {
            "colorbar": {
             "outlinewidth": 0,
             "ticks": ""
            },
            "colorscale": [
             [
              0,
              "#0d0887"
             ],
             [
              0.1111111111111111,
              "#46039f"
             ],
             [
              0.2222222222222222,
              "#7201a8"
             ],
             [
              0.3333333333333333,
              "#9c179e"
             ],
             [
              0.4444444444444444,
              "#bd3786"
             ],
             [
              0.5555555555555556,
              "#d8576b"
             ],
             [
              0.6666666666666666,
              "#ed7953"
             ],
             [
              0.7777777777777778,
              "#fb9f3a"
             ],
             [
              0.8888888888888888,
              "#fdca26"
             ],
             [
              1,
              "#f0f921"
             ]
            ],
            "type": "contour"
           }
          ],
          "contourcarpet": [
           {
            "colorbar": {
             "outlinewidth": 0,
             "ticks": ""
            },
            "type": "contourcarpet"
           }
          ],
          "heatmap": [
           {
            "colorbar": {
             "outlinewidth": 0,
             "ticks": ""
            },
            "colorscale": [
             [
              0,
              "#0d0887"
             ],
             [
              0.1111111111111111,
              "#46039f"
             ],
             [
              0.2222222222222222,
              "#7201a8"
             ],
             [
              0.3333333333333333,
              "#9c179e"
             ],
             [
              0.4444444444444444,
              "#bd3786"
             ],
             [
              0.5555555555555556,
              "#d8576b"
             ],
             [
              0.6666666666666666,
              "#ed7953"
             ],
             [
              0.7777777777777778,
              "#fb9f3a"
             ],
             [
              0.8888888888888888,
              "#fdca26"
             ],
             [
              1,
              "#f0f921"
             ]
            ],
            "type": "heatmap"
           }
          ],
          "histogram": [
           {
            "marker": {
             "pattern": {
              "fillmode": "overlay",
              "size": 10,
              "solidity": 0.2
             }
            },
            "type": "histogram"
           }
          ],
          "histogram2d": [
           {
            "colorbar": {
             "outlinewidth": 0,
             "ticks": ""
            },
            "colorscale": [
             [
              0,
              "#0d0887"
             ],
             [
              0.1111111111111111,
              "#46039f"
             ],
             [
              0.2222222222222222,
              "#7201a8"
             ],
             [
              0.3333333333333333,
              "#9c179e"
             ],
             [
              0.4444444444444444,
              "#bd3786"
             ],
             [
              0.5555555555555556,
              "#d8576b"
             ],
             [
              0.6666666666666666,
              "#ed7953"
             ],
             [
              0.7777777777777778,
              "#fb9f3a"
             ],
             [
              0.8888888888888888,
              "#fdca26"
             ],
             [
              1,
              "#f0f921"
             ]
            ],
            "type": "histogram2d"
           }
          ],
          "histogram2dcontour": [
           {
            "colorbar": {
             "outlinewidth": 0,
             "ticks": ""
            },
            "colorscale": [
             [
              0,
              "#0d0887"
             ],
             [
              0.1111111111111111,
              "#46039f"
             ],
             [
              0.2222222222222222,
              "#7201a8"
             ],
             [
              0.3333333333333333,
              "#9c179e"
             ],
             [
              0.4444444444444444,
              "#bd3786"
             ],
             [
              0.5555555555555556,
              "#d8576b"
             ],
             [
              0.6666666666666666,
              "#ed7953"
             ],
             [
              0.7777777777777778,
              "#fb9f3a"
             ],
             [
              0.8888888888888888,
              "#fdca26"
             ],
             [
              1,
              "#f0f921"
             ]
            ],
            "type": "histogram2dcontour"
           }
          ],
          "mesh3d": [
           {
            "colorbar": {
             "outlinewidth": 0,
             "ticks": ""
            },
            "type": "mesh3d"
           }
          ],
          "parcoords": [
           {
            "line": {
             "colorbar": {
              "outlinewidth": 0,
              "ticks": ""
             }
            },
            "type": "parcoords"
           }
          ],
          "pie": [
           {
            "automargin": true,
            "type": "pie"
           }
          ],
          "scatter": [
           {
            "fillpattern": {
             "fillmode": "overlay",
             "size": 10,
             "solidity": 0.2
            },
            "type": "scatter"
           }
          ],
          "scatter3d": [
           {
            "line": {
             "colorbar": {
              "outlinewidth": 0,
              "ticks": ""
             }
            },
            "marker": {
             "colorbar": {
              "outlinewidth": 0,
              "ticks": ""
             }
            },
            "type": "scatter3d"
           }
          ],
          "scattercarpet": [
           {
            "marker": {
             "colorbar": {
              "outlinewidth": 0,
              "ticks": ""
             }
            },
            "type": "scattercarpet"
           }
          ],
          "scattergeo": [
           {
            "marker": {
             "colorbar": {
              "outlinewidth": 0,
              "ticks": ""
             }
            },
            "type": "scattergeo"
           }
          ],
          "scattergl": [
           {
            "marker": {
             "colorbar": {
              "outlinewidth": 0,
              "ticks": ""
             }
            },
            "type": "scattergl"
           }
          ],
          "scattermap": [
           {
            "marker": {
             "colorbar": {
              "outlinewidth": 0,
              "ticks": ""
             }
            },
            "type": "scattermap"
           }
          ],
          "scattermapbox": [
           {
            "marker": {
             "colorbar": {
              "outlinewidth": 0,
              "ticks": ""
             }
            },
            "type": "scattermapbox"
           }
          ],
          "scatterpolar": [
           {
            "marker": {
             "colorbar": {
              "outlinewidth": 0,
              "ticks": ""
             }
            },
            "type": "scatterpolar"
           }
          ],
          "scatterpolargl": [
           {
            "marker": {
             "colorbar": {
              "outlinewidth": 0,
              "ticks": ""
             }
            },
            "type": "scatterpolargl"
           }
          ],
          "scatterternary": [
           {
            "marker": {
             "colorbar": {
              "outlinewidth": 0,
              "ticks": ""
             }
            },
            "type": "scatterternary"
           }
          ],
          "surface": [
           {
            "colorbar": {
             "outlinewidth": 0,
             "ticks": ""
            },
            "colorscale": [
             [
              0,
              "#0d0887"
             ],
             [
              0.1111111111111111,
              "#46039f"
             ],
             [
              0.2222222222222222,
              "#7201a8"
             ],
             [
              0.3333333333333333,
              "#9c179e"
             ],
             [
              0.4444444444444444,
              "#bd3786"
             ],
             [
              0.5555555555555556,
              "#d8576b"
             ],
             [
              0.6666666666666666,
              "#ed7953"
             ],
             [
              0.7777777777777778,
              "#fb9f3a"
             ],
             [
              0.8888888888888888,
              "#fdca26"
             ],
             [
              1,
              "#f0f921"
             ]
            ],
            "type": "surface"
           }
          ],
          "table": [
           {
            "cells": {
             "fill": {
              "color": "#EBF0F8"
             },
             "line": {
              "color": "white"
             }
            },
            "header": {
             "fill": {
              "color": "#C8D4E3"
             },
             "line": {
              "color": "white"
             }
            },
            "type": "table"
           }
          ]
         },
         "layout": {
          "annotationdefaults": {
           "arrowcolor": "#2a3f5f",
           "arrowhead": 0,
           "arrowwidth": 1
          },
          "autotypenumbers": "strict",
          "coloraxis": {
           "colorbar": {
            "outlinewidth": 0,
            "ticks": ""
           }
          },
          "colorscale": {
           "diverging": [
            [
             0,
             "#8e0152"
            ],
            [
             0.1,
             "#c51b7d"
            ],
            [
             0.2,
             "#de77ae"
            ],
            [
             0.3,
             "#f1b6da"
            ],
            [
             0.4,
             "#fde0ef"
            ],
            [
             0.5,
             "#f7f7f7"
            ],
            [
             0.6,
             "#e6f5d0"
            ],
            [
             0.7,
             "#b8e186"
            ],
            [
             0.8,
             "#7fbc41"
            ],
            [
             0.9,
             "#4d9221"
            ],
            [
             1,
             "#276419"
            ]
           ],
           "sequential": [
            [
             0,
             "#0d0887"
            ],
            [
             0.1111111111111111,
             "#46039f"
            ],
            [
             0.2222222222222222,
             "#7201a8"
            ],
            [
             0.3333333333333333,
             "#9c179e"
            ],
            [
             0.4444444444444444,
             "#bd3786"
            ],
            [
             0.5555555555555556,
             "#d8576b"
            ],
            [
             0.6666666666666666,
             "#ed7953"
            ],
            [
             0.7777777777777778,
             "#fb9f3a"
            ],
            [
             0.8888888888888888,
             "#fdca26"
            ],
            [
             1,
             "#f0f921"
            ]
           ],
           "sequentialminus": [
            [
             0,
             "#0d0887"
            ],
            [
             0.1111111111111111,
             "#46039f"
            ],
            [
             0.2222222222222222,
             "#7201a8"
            ],
            [
             0.3333333333333333,
             "#9c179e"
            ],
            [
             0.4444444444444444,
             "#bd3786"
            ],
            [
             0.5555555555555556,
             "#d8576b"
            ],
            [
             0.6666666666666666,
             "#ed7953"
            ],
            [
             0.7777777777777778,
             "#fb9f3a"
            ],
            [
             0.8888888888888888,
             "#fdca26"
            ],
            [
             1,
             "#f0f921"
            ]
           ]
          },
          "colorway": [
           "#636efa",
           "#EF553B",
           "#00cc96",
           "#ab63fa",
           "#FFA15A",
           "#19d3f3",
           "#FF6692",
           "#B6E880",
           "#FF97FF",
           "#FECB52"
          ],
          "font": {
           "color": "#2a3f5f"
          },
          "geo": {
           "bgcolor": "white",
           "lakecolor": "white",
           "landcolor": "#E5ECF6",
           "showlakes": true,
           "showland": true,
           "subunitcolor": "white"
          },
          "hoverlabel": {
           "align": "left"
          },
          "hovermode": "closest",
          "mapbox": {
           "style": "light"
          },
          "paper_bgcolor": "white",
          "plot_bgcolor": "#E5ECF6",
          "polar": {
           "angularaxis": {
            "gridcolor": "white",
            "linecolor": "white",
            "ticks": ""
           },
           "bgcolor": "#E5ECF6",
           "radialaxis": {
            "gridcolor": "white",
            "linecolor": "white",
            "ticks": ""
           }
          },
          "scene": {
           "xaxis": {
            "backgroundcolor": "#E5ECF6",
            "gridcolor": "white",
            "gridwidth": 2,
            "linecolor": "white",
            "showbackground": true,
            "ticks": "",
            "zerolinecolor": "white"
           },
           "yaxis": {
            "backgroundcolor": "#E5ECF6",
            "gridcolor": "white",
            "gridwidth": 2,
            "linecolor": "white",
            "showbackground": true,
            "ticks": "",
            "zerolinecolor": "white"
           },
           "zaxis": {
            "backgroundcolor": "#E5ECF6",
            "gridcolor": "white",
            "gridwidth": 2,
            "linecolor": "white",
            "showbackground": true,
            "ticks": "",
            "zerolinecolor": "white"
           }
          },
          "shapedefaults": {
           "line": {
            "color": "#2a3f5f"
           }
          },
          "ternary": {
           "aaxis": {
            "gridcolor": "white",
            "linecolor": "white",
            "ticks": ""
           },
           "baxis": {
            "gridcolor": "white",
            "linecolor": "white",
            "ticks": ""
           },
           "bgcolor": "#E5ECF6",
           "caxis": {
            "gridcolor": "white",
            "linecolor": "white",
            "ticks": ""
           }
          },
          "title": {
           "x": 0.05
          },
          "xaxis": {
           "automargin": true,
           "gridcolor": "white",
           "linecolor": "white",
           "ticks": "",
           "title": {
            "standoff": 15
           },
           "zerolinecolor": "white",
           "zerolinewidth": 2
          },
          "yaxis": {
           "automargin": true,
           "gridcolor": "white",
           "linecolor": "white",
           "ticks": "",
           "title": {
            "standoff": 15
           },
           "zerolinecolor": "white",
           "zerolinewidth": 2
          }
         }
        },
        "title": {
         "text": "Entropy generation number"
        },
        "xaxis": {
         "anchor": "y",
         "domain": [
          0,
          1
         ],
         "title": {
          "text": "Entropy number original"
         }
        },
        "yaxis": {
         "anchor": "x",
         "domain": [
          0,
          1
         ],
         "title": {
          "text": "Entroy number mapped"
         }
        }
       }
      }
     },
     "metadata": {},
     "output_type": "display_data"
    }
   ],
   "source": [
    "import plotly.express as px\n",
    "import pandas as pd\n",
    "\n",
    "\n",
    "df = pd.DataFrame({\n",
    "    \"x\": original_dic[\"original\"][\"entropy_num\"],\n",
    "    \"y\": mapped_dic['s100_100_100_b0_4000_0_5000_-4000_0'][\"entropy_num\"]\n",
    "})\n",
    "\n",
    "\n",
    "fig = px.scatter(df, x=\"x\", y=\"y\", title=\"Scatter Plot with 1:1 Line\")\n",
    "\n",
    "# Add 1:1 line\n",
    "fig.add_shape(\n",
    "    type=\"line\",\n",
    "    x0=min(df[\"x\"]), y0=min(df[\"x\"]),\n",
    "    x1=max(df[\"x\"]), y1=max(df[\"x\"]),\n",
    "    line=dict(color=\"red\", dash=\"dash\"),\n",
    "    name=\"1:1 Line\"\n",
    ")\n",
    "\n",
    "# Customize layout\n",
    "fig.update_layout(\n",
    "    title='Entropy generation number',\n",
    "    xaxis_title='Entropy number original',\n",
    "    yaxis_title='Entroy number mapped',\n",
    ")\n",
    "\n",
    "\n",
    "fig.write_image(mapped_root / \"Training_Diff_Scatter_EntropyGeneration.png\")\n",
    "\n",
    "fig.show()"
   ]
  },
  {
   "cell_type": "code",
   "execution_count": 50,
   "id": "b2a156c5",
   "metadata": {},
   "outputs": [
    {
     "name": "stdout",
     "output_type": "stream",
     "text": [
      "9.967777803183817e-06\n"
     ]
    }
   ],
   "source": [
    "org = np.asarray(original_dic[\"original\"][\"entropy_num\"])\n",
    "mapped = np.asarray(mapped_dic['s100_100_100_b0_4000_0_5000_-4000_0'][\"entropy_num\"])\n",
    "mse = np.mean((org - mapped)**2)\n",
    "print(mse)"
   ]
  },
  {
   "cell_type": "markdown",
   "id": "0eb4c70d",
   "metadata": {},
   "source": [
    "### Errors"
   ]
  },
  {
   "cell_type": "code",
   "execution_count": 51,
   "id": "a2299ce7",
   "metadata": {},
   "outputs": [
    {
     "name": "stdout",
     "output_type": "stream",
     "text": [
      "Original Comsol Mesh - MSE :    0.0e+00\n",
      "s100_100_100_b0_4000_0_5000_-4000_0 - MSE :    3.5e+01\n"
     ]
    }
   ],
   "source": [
    "mses = np.sum(squarred_errors, axis=0)/N_SNAPS\n",
    "meses_dic = {mesh: mse for (mse, mesh) in zip(mses, mapped_meshes_sorted) }\n",
    "for key, val in meses_dic.items():\n",
    "    print(f\"{key} - MSE : {val:>10.1e}\")"
   ]
  }
 ],
 "metadata": {
  "kernelspec": {
   "display_name": ".venv",
   "language": "python",
   "name": "python3"
  },
  "language_info": {
   "codemirror_mode": {
    "name": "ipython",
    "version": 3
   },
   "file_extension": ".py",
   "mimetype": "text/x-python",
   "name": "python",
   "nbconvert_exporter": "python",
   "pygments_lexer": "ipython3",
   "version": "3.12.4"
  }
 },
 "nbformat": 4,
 "nbformat_minor": 5
}
