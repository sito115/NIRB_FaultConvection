{
 "cells": [
  {
   "cell_type": "code",
   "execution_count": 20,
   "id": "28d43c53",
   "metadata": {},
   "outputs": [],
   "source": [
    "import numpy as np\n",
    "import plotly.express as px\n",
    "import plotly.graph_objects as go\n",
    "from pathlib import Path\n",
    "import pandas as pd\n",
    "import pint\n",
    "import sys\n",
    "from typing import List"
   ]
  },
  {
   "cell_type": "code",
   "execution_count": 21,
   "id": "fef9fc7b",
   "metadata": {},
   "outputs": [],
   "source": [
    "sys.path.append(str(Path.cwd().parent))"
   ]
  },
  {
   "cell_type": "code",
   "execution_count": 22,
   "id": "b248ebe4",
   "metadata": {},
   "outputs": [],
   "source": [
    "from src.utils import safe_parse_quantity, calculate_thermal_entropy_generation\n",
    "from comsol_module.comsol_classes import COMSOL_VTU"
   ]
  },
  {
   "cell_type": "code",
   "execution_count": 23,
   "id": "0bc51ba2",
   "metadata": {},
   "outputs": [],
   "source": [
    "ROOT = Path().cwd().parent\n",
    "PARAMETER_SPACE = \"03\"\n",
    "ROOT\n",
    "DATA_TYPE = \"Training\"\n",
    "time_step_idx = -1\n",
    "ureg = pint.get_application_registry()"
   ]
  },
  {
   "cell_type": "code",
   "execution_count": 24,
   "id": "22eef90e",
   "metadata": {},
   "outputs": [],
   "source": [
    "mapped_root = ROOT / \"data\" / PARAMETER_SPACE / f\"{DATA_TYPE}Mapped\"\n",
    "assert mapped_root.exists()\n",
    "mapped_folders : List[Path]= [folder for folder in mapped_root.iterdir() if not folder.is_file()]"
   ]
  },
  {
   "cell_type": "code",
   "execution_count": 25,
   "id": "0151230d",
   "metadata": {},
   "outputs": [],
   "source": [
    "mapped_dic = {}\n",
    "for folder in mapped_folders:\n",
    "    npy_file = folder / \"Exports\" / f\"{DATA_TYPE}_temperatures.npy\"\n",
    "    vti_file = [file for file in folder.rglob(\"*.vt*\")][0]\n",
    "    mapped_dic[folder.stem] = {\"npy\": npy_file, \"vti\" : vti_file, \"entropy_num\" : [], \"entropy_gen\" : []}"
   ]
  },
  {
   "cell_type": "code",
   "execution_count": 26,
   "id": "2c5f4a2f",
   "metadata": {},
   "outputs": [
    {
     "name": "stdout",
     "output_type": "stream",
     "text": [
      "0\n"
     ]
    }
   ],
   "source": [
    "original_root = ROOT / \"data\" / PARAMETER_SPACE / f\"{DATA_TYPE}Original\"\n",
    "vtu_file = sorted([file for file in original_root.rglob(\"*.vtu\")])\n",
    "original_dic = {}\n",
    "original_dic[\"original\"] = {\"vtu\" : vtu_file, \"entropy_num\" : [], \"entropy_gen\" : []}\n",
    "original_dic[\"original\"][\"n_cells\"] = []\n",
    "print(len(original_dic[\"original\"][\"vtu\"]))"
   ]
  },
  {
   "cell_type": "markdown",
   "id": "5cb1764b",
   "metadata": {},
   "source": [
    "## Calculate entropy number"
   ]
  },
  {
   "cell_type": "code",
   "execution_count": 27,
   "id": "b06b1401",
   "metadata": {},
   "outputs": [
    {
     "name": "stdout",
     "output_type": "stream",
     "text": [
      "300\n"
     ]
    },
    {
     "data": {
      "text/plain": [
       "[PosixPath('/Users/thomassimader/Documents/NIRB/data/03/Exports/Training_000_parameters.csv'),\n",
       " PosixPath('/Users/thomassimader/Documents/NIRB/data/03/Exports/Training_001_parameters.csv'),\n",
       " PosixPath('/Users/thomassimader/Documents/NIRB/data/03/Exports/Training_002_parameters.csv'),\n",
       " PosixPath('/Users/thomassimader/Documents/NIRB/data/03/Exports/Training_003_parameters.csv'),\n",
       " PosixPath('/Users/thomassimader/Documents/NIRB/data/03/Exports/Training_004_parameters.csv'),\n",
       " PosixPath('/Users/thomassimader/Documents/NIRB/data/03/Exports/Training_005_parameters.csv'),\n",
       " PosixPath('/Users/thomassimader/Documents/NIRB/data/03/Exports/Training_006_parameters.csv'),\n",
       " PosixPath('/Users/thomassimader/Documents/NIRB/data/03/Exports/Training_007_parameters.csv'),\n",
       " PosixPath('/Users/thomassimader/Documents/NIRB/data/03/Exports/Training_008_parameters.csv'),\n",
       " PosixPath('/Users/thomassimader/Documents/NIRB/data/03/Exports/Training_009_parameters.csv'),\n",
       " PosixPath('/Users/thomassimader/Documents/NIRB/data/03/Exports/Training_010_parameters.csv'),\n",
       " PosixPath('/Users/thomassimader/Documents/NIRB/data/03/Exports/Training_011_parameters.csv'),\n",
       " PosixPath('/Users/thomassimader/Documents/NIRB/data/03/Exports/Training_012_parameters.csv'),\n",
       " PosixPath('/Users/thomassimader/Documents/NIRB/data/03/Exports/Training_013_parameters.csv'),\n",
       " PosixPath('/Users/thomassimader/Documents/NIRB/data/03/Exports/Training_014_parameters.csv'),\n",
       " PosixPath('/Users/thomassimader/Documents/NIRB/data/03/Exports/Training_015_parameters.csv'),\n",
       " PosixPath('/Users/thomassimader/Documents/NIRB/data/03/Exports/Training_016_parameters.csv'),\n",
       " PosixPath('/Users/thomassimader/Documents/NIRB/data/03/Exports/Training_017_parameters.csv'),\n",
       " PosixPath('/Users/thomassimader/Documents/NIRB/data/03/Exports/Training_018_parameters.csv'),\n",
       " PosixPath('/Users/thomassimader/Documents/NIRB/data/03/Exports/Training_019_parameters.csv'),\n",
       " PosixPath('/Users/thomassimader/Documents/NIRB/data/03/Exports/Training_020_parameters.csv'),\n",
       " PosixPath('/Users/thomassimader/Documents/NIRB/data/03/Exports/Training_021_parameters.csv'),\n",
       " PosixPath('/Users/thomassimader/Documents/NIRB/data/03/Exports/Training_022_parameters.csv'),\n",
       " PosixPath('/Users/thomassimader/Documents/NIRB/data/03/Exports/Training_023_parameters.csv'),\n",
       " PosixPath('/Users/thomassimader/Documents/NIRB/data/03/Exports/Training_024_parameters.csv'),\n",
       " PosixPath('/Users/thomassimader/Documents/NIRB/data/03/Exports/Training_025_parameters.csv'),\n",
       " PosixPath('/Users/thomassimader/Documents/NIRB/data/03/Exports/Training_026_parameters.csv'),\n",
       " PosixPath('/Users/thomassimader/Documents/NIRB/data/03/Exports/Training_027_parameters.csv'),\n",
       " PosixPath('/Users/thomassimader/Documents/NIRB/data/03/Exports/Training_028_parameters.csv'),\n",
       " PosixPath('/Users/thomassimader/Documents/NIRB/data/03/Exports/Training_029_parameters.csv'),\n",
       " PosixPath('/Users/thomassimader/Documents/NIRB/data/03/Exports/Training_030_parameters.csv'),\n",
       " PosixPath('/Users/thomassimader/Documents/NIRB/data/03/Exports/Training_031_parameters.csv'),\n",
       " PosixPath('/Users/thomassimader/Documents/NIRB/data/03/Exports/Training_032_parameters.csv'),\n",
       " PosixPath('/Users/thomassimader/Documents/NIRB/data/03/Exports/Training_033_parameters.csv'),\n",
       " PosixPath('/Users/thomassimader/Documents/NIRB/data/03/Exports/Training_034_parameters.csv'),\n",
       " PosixPath('/Users/thomassimader/Documents/NIRB/data/03/Exports/Training_035_parameters.csv'),\n",
       " PosixPath('/Users/thomassimader/Documents/NIRB/data/03/Exports/Training_036_parameters.csv'),\n",
       " PosixPath('/Users/thomassimader/Documents/NIRB/data/03/Exports/Training_037_parameters.csv'),\n",
       " PosixPath('/Users/thomassimader/Documents/NIRB/data/03/Exports/Training_038_parameters.csv'),\n",
       " PosixPath('/Users/thomassimader/Documents/NIRB/data/03/Exports/Training_039_parameters.csv'),\n",
       " PosixPath('/Users/thomassimader/Documents/NIRB/data/03/Exports/Training_040_parameters.csv'),\n",
       " PosixPath('/Users/thomassimader/Documents/NIRB/data/03/Exports/Training_041_parameters.csv'),\n",
       " PosixPath('/Users/thomassimader/Documents/NIRB/data/03/Exports/Training_042_parameters.csv'),\n",
       " PosixPath('/Users/thomassimader/Documents/NIRB/data/03/Exports/Training_043_parameters.csv'),\n",
       " PosixPath('/Users/thomassimader/Documents/NIRB/data/03/Exports/Training_044_parameters.csv'),\n",
       " PosixPath('/Users/thomassimader/Documents/NIRB/data/03/Exports/Training_045_parameters.csv'),\n",
       " PosixPath('/Users/thomassimader/Documents/NIRB/data/03/Exports/Training_046_parameters.csv'),\n",
       " PosixPath('/Users/thomassimader/Documents/NIRB/data/03/Exports/Training_047_parameters.csv'),\n",
       " PosixPath('/Users/thomassimader/Documents/NIRB/data/03/Exports/Training_048_parameters.csv'),\n",
       " PosixPath('/Users/thomassimader/Documents/NIRB/data/03/Exports/Training_049_parameters.csv'),\n",
       " PosixPath('/Users/thomassimader/Documents/NIRB/data/03/Exports/Training_050_parameters.csv'),\n",
       " PosixPath('/Users/thomassimader/Documents/NIRB/data/03/Exports/Training_051_parameters.csv'),\n",
       " PosixPath('/Users/thomassimader/Documents/NIRB/data/03/Exports/Training_052_parameters.csv'),\n",
       " PosixPath('/Users/thomassimader/Documents/NIRB/data/03/Exports/Training_053_parameters.csv'),\n",
       " PosixPath('/Users/thomassimader/Documents/NIRB/data/03/Exports/Training_054_parameters.csv'),\n",
       " PosixPath('/Users/thomassimader/Documents/NIRB/data/03/Exports/Training_055_parameters.csv'),\n",
       " PosixPath('/Users/thomassimader/Documents/NIRB/data/03/Exports/Training_056_parameters.csv'),\n",
       " PosixPath('/Users/thomassimader/Documents/NIRB/data/03/Exports/Training_057_parameters.csv'),\n",
       " PosixPath('/Users/thomassimader/Documents/NIRB/data/03/Exports/Training_058_parameters.csv'),\n",
       " PosixPath('/Users/thomassimader/Documents/NIRB/data/03/Exports/Training_059_parameters.csv'),\n",
       " PosixPath('/Users/thomassimader/Documents/NIRB/data/03/Exports/Training_060_parameters.csv'),\n",
       " PosixPath('/Users/thomassimader/Documents/NIRB/data/03/Exports/Training_061_parameters.csv'),\n",
       " PosixPath('/Users/thomassimader/Documents/NIRB/data/03/Exports/Training_062_parameters.csv'),\n",
       " PosixPath('/Users/thomassimader/Documents/NIRB/data/03/Exports/Training_063_parameters.csv'),\n",
       " PosixPath('/Users/thomassimader/Documents/NIRB/data/03/Exports/Training_064_parameters.csv'),\n",
       " PosixPath('/Users/thomassimader/Documents/NIRB/data/03/Exports/Training_065_parameters.csv'),\n",
       " PosixPath('/Users/thomassimader/Documents/NIRB/data/03/Exports/Training_066_parameters.csv'),\n",
       " PosixPath('/Users/thomassimader/Documents/NIRB/data/03/Exports/Training_067_parameters.csv'),\n",
       " PosixPath('/Users/thomassimader/Documents/NIRB/data/03/Exports/Training_068_parameters.csv'),\n",
       " PosixPath('/Users/thomassimader/Documents/NIRB/data/03/Exports/Training_069_parameters.csv'),\n",
       " PosixPath('/Users/thomassimader/Documents/NIRB/data/03/Exports/Training_070_parameters.csv'),\n",
       " PosixPath('/Users/thomassimader/Documents/NIRB/data/03/Exports/Training_071_parameters.csv'),\n",
       " PosixPath('/Users/thomassimader/Documents/NIRB/data/03/Exports/Training_072_parameters.csv'),\n",
       " PosixPath('/Users/thomassimader/Documents/NIRB/data/03/Exports/Training_073_parameters.csv'),\n",
       " PosixPath('/Users/thomassimader/Documents/NIRB/data/03/Exports/Training_074_parameters.csv'),\n",
       " PosixPath('/Users/thomassimader/Documents/NIRB/data/03/Exports/Training_075_parameters.csv'),\n",
       " PosixPath('/Users/thomassimader/Documents/NIRB/data/03/Exports/Training_076_parameters.csv'),\n",
       " PosixPath('/Users/thomassimader/Documents/NIRB/data/03/Exports/Training_077_parameters.csv'),\n",
       " PosixPath('/Users/thomassimader/Documents/NIRB/data/03/Exports/Training_078_parameters.csv'),\n",
       " PosixPath('/Users/thomassimader/Documents/NIRB/data/03/Exports/Training_079_parameters.csv'),\n",
       " PosixPath('/Users/thomassimader/Documents/NIRB/data/03/Exports/Training_080_parameters.csv'),\n",
       " PosixPath('/Users/thomassimader/Documents/NIRB/data/03/Exports/Training_081_parameters.csv'),\n",
       " PosixPath('/Users/thomassimader/Documents/NIRB/data/03/Exports/Training_082_parameters.csv'),\n",
       " PosixPath('/Users/thomassimader/Documents/NIRB/data/03/Exports/Training_083_parameters.csv'),\n",
       " PosixPath('/Users/thomassimader/Documents/NIRB/data/03/Exports/Training_084_parameters.csv'),\n",
       " PosixPath('/Users/thomassimader/Documents/NIRB/data/03/Exports/Training_085_parameters.csv'),\n",
       " PosixPath('/Users/thomassimader/Documents/NIRB/data/03/Exports/Training_086_parameters.csv'),\n",
       " PosixPath('/Users/thomassimader/Documents/NIRB/data/03/Exports/Training_087_parameters.csv'),\n",
       " PosixPath('/Users/thomassimader/Documents/NIRB/data/03/Exports/Training_088_parameters.csv'),\n",
       " PosixPath('/Users/thomassimader/Documents/NIRB/data/03/Exports/Training_089_parameters.csv'),\n",
       " PosixPath('/Users/thomassimader/Documents/NIRB/data/03/Exports/Training_090_parameters.csv'),\n",
       " PosixPath('/Users/thomassimader/Documents/NIRB/data/03/Exports/Training_091_parameters.csv'),\n",
       " PosixPath('/Users/thomassimader/Documents/NIRB/data/03/Exports/Training_092_parameters.csv'),\n",
       " PosixPath('/Users/thomassimader/Documents/NIRB/data/03/Exports/Training_093_parameters.csv'),\n",
       " PosixPath('/Users/thomassimader/Documents/NIRB/data/03/Exports/Training_094_parameters.csv'),\n",
       " PosixPath('/Users/thomassimader/Documents/NIRB/data/03/Exports/Training_095_parameters.csv'),\n",
       " PosixPath('/Users/thomassimader/Documents/NIRB/data/03/Exports/Training_096_parameters.csv'),\n",
       " PosixPath('/Users/thomassimader/Documents/NIRB/data/03/Exports/Training_097_parameters.csv'),\n",
       " PosixPath('/Users/thomassimader/Documents/NIRB/data/03/Exports/Training_098_parameters.csv'),\n",
       " PosixPath('/Users/thomassimader/Documents/NIRB/data/03/Exports/Training_099_parameters.csv'),\n",
       " PosixPath('/Users/thomassimader/Documents/NIRB/data/03/Exports/Training_100_parameters.csv'),\n",
       " PosixPath('/Users/thomassimader/Documents/NIRB/data/03/Exports/Training_101_parameters.csv'),\n",
       " PosixPath('/Users/thomassimader/Documents/NIRB/data/03/Exports/Training_102_parameters.csv'),\n",
       " PosixPath('/Users/thomassimader/Documents/NIRB/data/03/Exports/Training_103_parameters.csv'),\n",
       " PosixPath('/Users/thomassimader/Documents/NIRB/data/03/Exports/Training_104_parameters.csv'),\n",
       " PosixPath('/Users/thomassimader/Documents/NIRB/data/03/Exports/Training_105_parameters.csv'),\n",
       " PosixPath('/Users/thomassimader/Documents/NIRB/data/03/Exports/Training_106_parameters.csv'),\n",
       " PosixPath('/Users/thomassimader/Documents/NIRB/data/03/Exports/Training_107_parameters.csv'),\n",
       " PosixPath('/Users/thomassimader/Documents/NIRB/data/03/Exports/Training_108_parameters.csv'),\n",
       " PosixPath('/Users/thomassimader/Documents/NIRB/data/03/Exports/Training_109_parameters.csv'),\n",
       " PosixPath('/Users/thomassimader/Documents/NIRB/data/03/Exports/Training_110_parameters.csv'),\n",
       " PosixPath('/Users/thomassimader/Documents/NIRB/data/03/Exports/Training_111_parameters.csv'),\n",
       " PosixPath('/Users/thomassimader/Documents/NIRB/data/03/Exports/Training_112_parameters.csv'),\n",
       " PosixPath('/Users/thomassimader/Documents/NIRB/data/03/Exports/Training_113_parameters.csv'),\n",
       " PosixPath('/Users/thomassimader/Documents/NIRB/data/03/Exports/Training_114_parameters.csv'),\n",
       " PosixPath('/Users/thomassimader/Documents/NIRB/data/03/Exports/Training_115_parameters.csv'),\n",
       " PosixPath('/Users/thomassimader/Documents/NIRB/data/03/Exports/Training_116_parameters.csv'),\n",
       " PosixPath('/Users/thomassimader/Documents/NIRB/data/03/Exports/Training_117_parameters.csv'),\n",
       " PosixPath('/Users/thomassimader/Documents/NIRB/data/03/Exports/Training_118_parameters.csv'),\n",
       " PosixPath('/Users/thomassimader/Documents/NIRB/data/03/Exports/Training_119_parameters.csv'),\n",
       " PosixPath('/Users/thomassimader/Documents/NIRB/data/03/Exports/Training_120_parameters.csv'),\n",
       " PosixPath('/Users/thomassimader/Documents/NIRB/data/03/Exports/Training_121_parameters.csv'),\n",
       " PosixPath('/Users/thomassimader/Documents/NIRB/data/03/Exports/Training_122_parameters.csv'),\n",
       " PosixPath('/Users/thomassimader/Documents/NIRB/data/03/Exports/Training_123_parameters.csv'),\n",
       " PosixPath('/Users/thomassimader/Documents/NIRB/data/03/Exports/Training_124_parameters.csv'),\n",
       " PosixPath('/Users/thomassimader/Documents/NIRB/data/03/Exports/Training_125_parameters.csv'),\n",
       " PosixPath('/Users/thomassimader/Documents/NIRB/data/03/Exports/Training_126_parameters.csv'),\n",
       " PosixPath('/Users/thomassimader/Documents/NIRB/data/03/Exports/Training_127_parameters.csv'),\n",
       " PosixPath('/Users/thomassimader/Documents/NIRB/data/03/Exports/Training_128_parameters.csv'),\n",
       " PosixPath('/Users/thomassimader/Documents/NIRB/data/03/Exports/Training_129_parameters.csv'),\n",
       " PosixPath('/Users/thomassimader/Documents/NIRB/data/03/Exports/Training_130_parameters.csv'),\n",
       " PosixPath('/Users/thomassimader/Documents/NIRB/data/03/Exports/Training_131_parameters.csv'),\n",
       " PosixPath('/Users/thomassimader/Documents/NIRB/data/03/Exports/Training_132_parameters.csv'),\n",
       " PosixPath('/Users/thomassimader/Documents/NIRB/data/03/Exports/Training_133_parameters.csv'),\n",
       " PosixPath('/Users/thomassimader/Documents/NIRB/data/03/Exports/Training_134_parameters.csv'),\n",
       " PosixPath('/Users/thomassimader/Documents/NIRB/data/03/Exports/Training_135_parameters.csv'),\n",
       " PosixPath('/Users/thomassimader/Documents/NIRB/data/03/Exports/Training_136_parameters.csv'),\n",
       " PosixPath('/Users/thomassimader/Documents/NIRB/data/03/Exports/Training_137_parameters.csv'),\n",
       " PosixPath('/Users/thomassimader/Documents/NIRB/data/03/Exports/Training_138_parameters.csv'),\n",
       " PosixPath('/Users/thomassimader/Documents/NIRB/data/03/Exports/Training_139_parameters.csv'),\n",
       " PosixPath('/Users/thomassimader/Documents/NIRB/data/03/Exports/Training_140_parameters.csv'),\n",
       " PosixPath('/Users/thomassimader/Documents/NIRB/data/03/Exports/Training_141_parameters.csv'),\n",
       " PosixPath('/Users/thomassimader/Documents/NIRB/data/03/Exports/Training_142_parameters.csv'),\n",
       " PosixPath('/Users/thomassimader/Documents/NIRB/data/03/Exports/Training_143_parameters.csv'),\n",
       " PosixPath('/Users/thomassimader/Documents/NIRB/data/03/Exports/Training_144_parameters.csv'),\n",
       " PosixPath('/Users/thomassimader/Documents/NIRB/data/03/Exports/Training_145_parameters.csv'),\n",
       " PosixPath('/Users/thomassimader/Documents/NIRB/data/03/Exports/Training_146_parameters.csv'),\n",
       " PosixPath('/Users/thomassimader/Documents/NIRB/data/03/Exports/Training_147_parameters.csv'),\n",
       " PosixPath('/Users/thomassimader/Documents/NIRB/data/03/Exports/Training_148_parameters.csv'),\n",
       " PosixPath('/Users/thomassimader/Documents/NIRB/data/03/Exports/Training_149_parameters.csv'),\n",
       " PosixPath('/Users/thomassimader/Documents/NIRB/data/03/Exports/Training_150_parameters.csv'),\n",
       " PosixPath('/Users/thomassimader/Documents/NIRB/data/03/Exports/Training_151_parameters.csv'),\n",
       " PosixPath('/Users/thomassimader/Documents/NIRB/data/03/Exports/Training_152_parameters.csv'),\n",
       " PosixPath('/Users/thomassimader/Documents/NIRB/data/03/Exports/Training_153_parameters.csv'),\n",
       " PosixPath('/Users/thomassimader/Documents/NIRB/data/03/Exports/Training_154_parameters.csv'),\n",
       " PosixPath('/Users/thomassimader/Documents/NIRB/data/03/Exports/Training_155_parameters.csv'),\n",
       " PosixPath('/Users/thomassimader/Documents/NIRB/data/03/Exports/Training_156_parameters.csv'),\n",
       " PosixPath('/Users/thomassimader/Documents/NIRB/data/03/Exports/Training_157_parameters.csv'),\n",
       " PosixPath('/Users/thomassimader/Documents/NIRB/data/03/Exports/Training_158_parameters.csv'),\n",
       " PosixPath('/Users/thomassimader/Documents/NIRB/data/03/Exports/Training_159_parameters.csv'),\n",
       " PosixPath('/Users/thomassimader/Documents/NIRB/data/03/Exports/Training_160_parameters.csv'),\n",
       " PosixPath('/Users/thomassimader/Documents/NIRB/data/03/Exports/Training_161_parameters.csv'),\n",
       " PosixPath('/Users/thomassimader/Documents/NIRB/data/03/Exports/Training_162_parameters.csv'),\n",
       " PosixPath('/Users/thomassimader/Documents/NIRB/data/03/Exports/Training_163_parameters.csv'),\n",
       " PosixPath('/Users/thomassimader/Documents/NIRB/data/03/Exports/Training_164_parameters.csv'),\n",
       " PosixPath('/Users/thomassimader/Documents/NIRB/data/03/Exports/Training_165_parameters.csv'),\n",
       " PosixPath('/Users/thomassimader/Documents/NIRB/data/03/Exports/Training_166_parameters.csv'),\n",
       " PosixPath('/Users/thomassimader/Documents/NIRB/data/03/Exports/Training_167_parameters.csv'),\n",
       " PosixPath('/Users/thomassimader/Documents/NIRB/data/03/Exports/Training_168_parameters.csv'),\n",
       " PosixPath('/Users/thomassimader/Documents/NIRB/data/03/Exports/Training_169_parameters.csv'),\n",
       " PosixPath('/Users/thomassimader/Documents/NIRB/data/03/Exports/Training_170_parameters.csv'),\n",
       " PosixPath('/Users/thomassimader/Documents/NIRB/data/03/Exports/Training_171_parameters.csv'),\n",
       " PosixPath('/Users/thomassimader/Documents/NIRB/data/03/Exports/Training_172_parameters.csv'),\n",
       " PosixPath('/Users/thomassimader/Documents/NIRB/data/03/Exports/Training_173_parameters.csv'),\n",
       " PosixPath('/Users/thomassimader/Documents/NIRB/data/03/Exports/Training_174_parameters.csv'),\n",
       " PosixPath('/Users/thomassimader/Documents/NIRB/data/03/Exports/Training_175_parameters.csv'),\n",
       " PosixPath('/Users/thomassimader/Documents/NIRB/data/03/Exports/Training_176_parameters.csv'),\n",
       " PosixPath('/Users/thomassimader/Documents/NIRB/data/03/Exports/Training_177_parameters.csv'),\n",
       " PosixPath('/Users/thomassimader/Documents/NIRB/data/03/Exports/Training_178_parameters.csv'),\n",
       " PosixPath('/Users/thomassimader/Documents/NIRB/data/03/Exports/Training_179_parameters.csv'),\n",
       " PosixPath('/Users/thomassimader/Documents/NIRB/data/03/Exports/Training_180_parameters.csv'),\n",
       " PosixPath('/Users/thomassimader/Documents/NIRB/data/03/Exports/Training_181_parameters.csv'),\n",
       " PosixPath('/Users/thomassimader/Documents/NIRB/data/03/Exports/Training_182_parameters.csv'),\n",
       " PosixPath('/Users/thomassimader/Documents/NIRB/data/03/Exports/Training_183_parameters.csv'),\n",
       " PosixPath('/Users/thomassimader/Documents/NIRB/data/03/Exports/Training_184_parameters.csv'),\n",
       " PosixPath('/Users/thomassimader/Documents/NIRB/data/03/Exports/Training_185_parameters.csv'),\n",
       " PosixPath('/Users/thomassimader/Documents/NIRB/data/03/Exports/Training_186_parameters.csv'),\n",
       " PosixPath('/Users/thomassimader/Documents/NIRB/data/03/Exports/Training_187_parameters.csv'),\n",
       " PosixPath('/Users/thomassimader/Documents/NIRB/data/03/Exports/Training_188_parameters.csv'),\n",
       " PosixPath('/Users/thomassimader/Documents/NIRB/data/03/Exports/Training_189_parameters.csv'),\n",
       " PosixPath('/Users/thomassimader/Documents/NIRB/data/03/Exports/Training_190_parameters.csv'),\n",
       " PosixPath('/Users/thomassimader/Documents/NIRB/data/03/Exports/Training_191_parameters.csv'),\n",
       " PosixPath('/Users/thomassimader/Documents/NIRB/data/03/Exports/Training_192_parameters.csv'),\n",
       " PosixPath('/Users/thomassimader/Documents/NIRB/data/03/Exports/Training_193_parameters.csv'),\n",
       " PosixPath('/Users/thomassimader/Documents/NIRB/data/03/Exports/Training_194_parameters.csv'),\n",
       " PosixPath('/Users/thomassimader/Documents/NIRB/data/03/Exports/Training_195_parameters.csv'),\n",
       " PosixPath('/Users/thomassimader/Documents/NIRB/data/03/Exports/Training_196_parameters.csv'),\n",
       " PosixPath('/Users/thomassimader/Documents/NIRB/data/03/Exports/Training_197_parameters.csv'),\n",
       " PosixPath('/Users/thomassimader/Documents/NIRB/data/03/Exports/Training_198_parameters.csv'),\n",
       " PosixPath('/Users/thomassimader/Documents/NIRB/data/03/Exports/Training_199_parameters.csv'),\n",
       " PosixPath('/Users/thomassimader/Documents/NIRB/data/03/Exports/Training_200_parameters.csv'),\n",
       " PosixPath('/Users/thomassimader/Documents/NIRB/data/03/Exports/Training_201_parameters.csv'),\n",
       " PosixPath('/Users/thomassimader/Documents/NIRB/data/03/Exports/Training_202_parameters.csv'),\n",
       " PosixPath('/Users/thomassimader/Documents/NIRB/data/03/Exports/Training_203_parameters.csv'),\n",
       " PosixPath('/Users/thomassimader/Documents/NIRB/data/03/Exports/Training_204_parameters.csv'),\n",
       " PosixPath('/Users/thomassimader/Documents/NIRB/data/03/Exports/Training_205_parameters.csv'),\n",
       " PosixPath('/Users/thomassimader/Documents/NIRB/data/03/Exports/Training_206_parameters.csv'),\n",
       " PosixPath('/Users/thomassimader/Documents/NIRB/data/03/Exports/Training_207_parameters.csv'),\n",
       " PosixPath('/Users/thomassimader/Documents/NIRB/data/03/Exports/Training_208_parameters.csv'),\n",
       " PosixPath('/Users/thomassimader/Documents/NIRB/data/03/Exports/Training_209_parameters.csv'),\n",
       " PosixPath('/Users/thomassimader/Documents/NIRB/data/03/Exports/Training_210_parameters.csv'),\n",
       " PosixPath('/Users/thomassimader/Documents/NIRB/data/03/Exports/Training_211_parameters.csv'),\n",
       " PosixPath('/Users/thomassimader/Documents/NIRB/data/03/Exports/Training_212_parameters.csv'),\n",
       " PosixPath('/Users/thomassimader/Documents/NIRB/data/03/Exports/Training_213_parameters.csv'),\n",
       " PosixPath('/Users/thomassimader/Documents/NIRB/data/03/Exports/Training_214_parameters.csv'),\n",
       " PosixPath('/Users/thomassimader/Documents/NIRB/data/03/Exports/Training_215_parameters.csv'),\n",
       " PosixPath('/Users/thomassimader/Documents/NIRB/data/03/Exports/Training_216_parameters.csv'),\n",
       " PosixPath('/Users/thomassimader/Documents/NIRB/data/03/Exports/Training_217_parameters.csv'),\n",
       " PosixPath('/Users/thomassimader/Documents/NIRB/data/03/Exports/Training_218_parameters.csv'),\n",
       " PosixPath('/Users/thomassimader/Documents/NIRB/data/03/Exports/Training_219_parameters.csv'),\n",
       " PosixPath('/Users/thomassimader/Documents/NIRB/data/03/Exports/Training_220_parameters.csv'),\n",
       " PosixPath('/Users/thomassimader/Documents/NIRB/data/03/Exports/Training_221_parameters.csv'),\n",
       " PosixPath('/Users/thomassimader/Documents/NIRB/data/03/Exports/Training_222_parameters.csv'),\n",
       " PosixPath('/Users/thomassimader/Documents/NIRB/data/03/Exports/Training_223_parameters.csv'),\n",
       " PosixPath('/Users/thomassimader/Documents/NIRB/data/03/Exports/Training_224_parameters.csv'),\n",
       " PosixPath('/Users/thomassimader/Documents/NIRB/data/03/Exports/Training_225_parameters.csv'),\n",
       " PosixPath('/Users/thomassimader/Documents/NIRB/data/03/Exports/Training_226_parameters.csv'),\n",
       " PosixPath('/Users/thomassimader/Documents/NIRB/data/03/Exports/Training_227_parameters.csv'),\n",
       " PosixPath('/Users/thomassimader/Documents/NIRB/data/03/Exports/Training_228_parameters.csv'),\n",
       " PosixPath('/Users/thomassimader/Documents/NIRB/data/03/Exports/Training_229_parameters.csv'),\n",
       " PosixPath('/Users/thomassimader/Documents/NIRB/data/03/Exports/Training_230_parameters.csv'),\n",
       " PosixPath('/Users/thomassimader/Documents/NIRB/data/03/Exports/Training_231_parameters.csv'),\n",
       " PosixPath('/Users/thomassimader/Documents/NIRB/data/03/Exports/Training_232_parameters.csv'),\n",
       " PosixPath('/Users/thomassimader/Documents/NIRB/data/03/Exports/Training_233_parameters.csv'),\n",
       " PosixPath('/Users/thomassimader/Documents/NIRB/data/03/Exports/Training_234_parameters.csv'),\n",
       " PosixPath('/Users/thomassimader/Documents/NIRB/data/03/Exports/Training_235_parameters.csv'),\n",
       " PosixPath('/Users/thomassimader/Documents/NIRB/data/03/Exports/Training_236_parameters.csv'),\n",
       " PosixPath('/Users/thomassimader/Documents/NIRB/data/03/Exports/Training_237_parameters.csv'),\n",
       " PosixPath('/Users/thomassimader/Documents/NIRB/data/03/Exports/Training_238_parameters.csv'),\n",
       " PosixPath('/Users/thomassimader/Documents/NIRB/data/03/Exports/Training_239_parameters.csv'),\n",
       " PosixPath('/Users/thomassimader/Documents/NIRB/data/03/Exports/Training_240_parameters.csv'),\n",
       " PosixPath('/Users/thomassimader/Documents/NIRB/data/03/Exports/Training_241_parameters.csv'),\n",
       " PosixPath('/Users/thomassimader/Documents/NIRB/data/03/Exports/Training_242_parameters.csv'),\n",
       " PosixPath('/Users/thomassimader/Documents/NIRB/data/03/Exports/Training_243_parameters.csv'),\n",
       " PosixPath('/Users/thomassimader/Documents/NIRB/data/03/Exports/Training_244_parameters.csv'),\n",
       " PosixPath('/Users/thomassimader/Documents/NIRB/data/03/Exports/Training_245_parameters.csv'),\n",
       " PosixPath('/Users/thomassimader/Documents/NIRB/data/03/Exports/Training_246_parameters.csv'),\n",
       " PosixPath('/Users/thomassimader/Documents/NIRB/data/03/Exports/Training_247_parameters.csv'),\n",
       " PosixPath('/Users/thomassimader/Documents/NIRB/data/03/Exports/Training_248_parameters.csv'),\n",
       " PosixPath('/Users/thomassimader/Documents/NIRB/data/03/Exports/Training_249_parameters.csv'),\n",
       " PosixPath('/Users/thomassimader/Documents/NIRB/data/03/Exports/Training_250_parameters.csv'),\n",
       " PosixPath('/Users/thomassimader/Documents/NIRB/data/03/Exports/Training_251_parameters.csv'),\n",
       " PosixPath('/Users/thomassimader/Documents/NIRB/data/03/Exports/Training_252_parameters.csv'),\n",
       " PosixPath('/Users/thomassimader/Documents/NIRB/data/03/Exports/Training_253_parameters.csv'),\n",
       " PosixPath('/Users/thomassimader/Documents/NIRB/data/03/Exports/Training_254_parameters.csv'),\n",
       " PosixPath('/Users/thomassimader/Documents/NIRB/data/03/Exports/Training_255_parameters.csv'),\n",
       " PosixPath('/Users/thomassimader/Documents/NIRB/data/03/Exports/Training_256_parameters.csv'),\n",
       " PosixPath('/Users/thomassimader/Documents/NIRB/data/03/Exports/Training_257_parameters.csv'),\n",
       " PosixPath('/Users/thomassimader/Documents/NIRB/data/03/Exports/Training_258_parameters.csv'),\n",
       " PosixPath('/Users/thomassimader/Documents/NIRB/data/03/Exports/Training_259_parameters.csv'),\n",
       " PosixPath('/Users/thomassimader/Documents/NIRB/data/03/Exports/Training_260_parameters.csv'),\n",
       " PosixPath('/Users/thomassimader/Documents/NIRB/data/03/Exports/Training_261_parameters.csv'),\n",
       " PosixPath('/Users/thomassimader/Documents/NIRB/data/03/Exports/Training_262_parameters.csv'),\n",
       " PosixPath('/Users/thomassimader/Documents/NIRB/data/03/Exports/Training_263_parameters.csv'),\n",
       " PosixPath('/Users/thomassimader/Documents/NIRB/data/03/Exports/Training_264_parameters.csv'),\n",
       " PosixPath('/Users/thomassimader/Documents/NIRB/data/03/Exports/Training_265_parameters.csv'),\n",
       " PosixPath('/Users/thomassimader/Documents/NIRB/data/03/Exports/Training_266_parameters.csv'),\n",
       " PosixPath('/Users/thomassimader/Documents/NIRB/data/03/Exports/Training_267_parameters.csv'),\n",
       " PosixPath('/Users/thomassimader/Documents/NIRB/data/03/Exports/Training_268_parameters.csv'),\n",
       " PosixPath('/Users/thomassimader/Documents/NIRB/data/03/Exports/Training_269_parameters.csv'),\n",
       " PosixPath('/Users/thomassimader/Documents/NIRB/data/03/Exports/Training_270_parameters.csv'),\n",
       " PosixPath('/Users/thomassimader/Documents/NIRB/data/03/Exports/Training_271_parameters.csv'),\n",
       " PosixPath('/Users/thomassimader/Documents/NIRB/data/03/Exports/Training_272_parameters.csv'),\n",
       " PosixPath('/Users/thomassimader/Documents/NIRB/data/03/Exports/Training_273_parameters.csv'),\n",
       " PosixPath('/Users/thomassimader/Documents/NIRB/data/03/Exports/Training_274_parameters.csv'),\n",
       " PosixPath('/Users/thomassimader/Documents/NIRB/data/03/Exports/Training_275_parameters.csv'),\n",
       " PosixPath('/Users/thomassimader/Documents/NIRB/data/03/Exports/Training_276_parameters.csv'),\n",
       " PosixPath('/Users/thomassimader/Documents/NIRB/data/03/Exports/Training_277_parameters.csv'),\n",
       " PosixPath('/Users/thomassimader/Documents/NIRB/data/03/Exports/Training_278_parameters.csv'),\n",
       " PosixPath('/Users/thomassimader/Documents/NIRB/data/03/Exports/Training_279_parameters.csv'),\n",
       " PosixPath('/Users/thomassimader/Documents/NIRB/data/03/Exports/Training_280_parameters.csv'),\n",
       " PosixPath('/Users/thomassimader/Documents/NIRB/data/03/Exports/Training_281_parameters.csv'),\n",
       " PosixPath('/Users/thomassimader/Documents/NIRB/data/03/Exports/Training_282_parameters.csv'),\n",
       " PosixPath('/Users/thomassimader/Documents/NIRB/data/03/Exports/Training_283_parameters.csv'),\n",
       " PosixPath('/Users/thomassimader/Documents/NIRB/data/03/Exports/Training_284_parameters.csv'),\n",
       " PosixPath('/Users/thomassimader/Documents/NIRB/data/03/Exports/Training_285_parameters.csv'),\n",
       " PosixPath('/Users/thomassimader/Documents/NIRB/data/03/Exports/Training_286_parameters.csv'),\n",
       " PosixPath('/Users/thomassimader/Documents/NIRB/data/03/Exports/Training_287_parameters.csv'),\n",
       " PosixPath('/Users/thomassimader/Documents/NIRB/data/03/Exports/Training_288_parameters.csv'),\n",
       " PosixPath('/Users/thomassimader/Documents/NIRB/data/03/Exports/Training_289_parameters.csv'),\n",
       " PosixPath('/Users/thomassimader/Documents/NIRB/data/03/Exports/Training_290_parameters.csv'),\n",
       " PosixPath('/Users/thomassimader/Documents/NIRB/data/03/Exports/Training_291_parameters.csv'),\n",
       " PosixPath('/Users/thomassimader/Documents/NIRB/data/03/Exports/Training_292_parameters.csv'),\n",
       " PosixPath('/Users/thomassimader/Documents/NIRB/data/03/Exports/Training_293_parameters.csv'),\n",
       " PosixPath('/Users/thomassimader/Documents/NIRB/data/03/Exports/Training_294_parameters.csv'),\n",
       " PosixPath('/Users/thomassimader/Documents/NIRB/data/03/Exports/Training_295_parameters.csv'),\n",
       " PosixPath('/Users/thomassimader/Documents/NIRB/data/03/Exports/Training_296_parameters.csv'),\n",
       " PosixPath('/Users/thomassimader/Documents/NIRB/data/03/Exports/Training_297_parameters.csv'),\n",
       " PosixPath('/Users/thomassimader/Documents/NIRB/data/03/Exports/Training_298_parameters.csv'),\n",
       " PosixPath('/Users/thomassimader/Documents/NIRB/data/03/Exports/Training_299_parameters.csv')]"
      ]
     },
     "execution_count": 27,
     "metadata": {},
     "output_type": "execute_result"
    }
   ],
   "source": [
    "param_folder = ROOT / \"data\" / PARAMETER_SPACE / \"Exports\"\n",
    "assert param_folder.exists()\n",
    "param_files = sorted([path for path in param_folder.rglob(f\"{DATA_TYPE}*.csv\")])\n",
    "print(len(param_files))\n",
    "param_files\n"
   ]
  },
  {
   "cell_type": "markdown",
   "id": "2c70c96f",
   "metadata": {},
   "source": [
    "### Mapped Meshes for different sizes"
   ]
  },
  {
   "cell_type": "code",
   "execution_count": 28,
   "id": "06993e8e",
   "metadata": {},
   "outputs": [
    {
     "ename": "FileNotFoundError",
     "evalue": "[Errno 2] No such file or directory: '/Users/thomassimader/Documents/NIRB/data/03/TrainingMapped/s100_100_100_b0_4000_0_5000_-4000_-0/Exports/Training_temperatures.npy'",
     "output_type": "error",
     "traceback": [
      "\u001b[31m---------------------------------------------------------------------------\u001b[39m",
      "\u001b[31mFileNotFoundError\u001b[39m                         Traceback (most recent call last)",
      "\u001b[36mCell\u001b[39m\u001b[36m \u001b[39m\u001b[32mIn[28]\u001b[39m\u001b[32m, line 4\u001b[39m\n\u001b[32m      2\u001b[39m comsol_data = COMSOL_VTU(values[\u001b[33m\"\u001b[39m\u001b[33mvti\u001b[39m\u001b[33m\"\u001b[39m])\n\u001b[32m      3\u001b[39m mapped_dic[key][\u001b[33m\"\u001b[39m\u001b[33mn_cells\u001b[39m\u001b[33m\"\u001b[39m] = comsol_data.mesh.n_cells\n\u001b[32m----> \u001b[39m\u001b[32m4\u001b[39m temperatures = \u001b[43mnp\u001b[49m\u001b[43m.\u001b[49m\u001b[43mload\u001b[49m\u001b[43m(\u001b[49m\u001b[43mvalues\u001b[49m\u001b[43m[\u001b[49m\u001b[33;43m\"\u001b[39;49m\u001b[33;43mnpy\u001b[39;49m\u001b[33;43m\"\u001b[39;49m\u001b[43m]\u001b[49m\u001b[43m)\u001b[49m\n\u001b[32m      5\u001b[39m \u001b[38;5;28mprint\u001b[39m(temperatures.shape)\n\u001b[32m      6\u001b[39m mask = ~(temperatures == \u001b[32m0\u001b[39m).all(axis=(\u001b[32m1\u001b[39m, \u001b[32m2\u001b[39m)) \u001b[38;5;66;03m# omit indices that are not computed yet\u001b[39;00m\n",
      "\u001b[36mFile \u001b[39m\u001b[32m~/Documents/NIRB/.venv/lib/python3.12/site-packages/numpy/lib/_npyio_impl.py:451\u001b[39m, in \u001b[36mload\u001b[39m\u001b[34m(file, mmap_mode, allow_pickle, fix_imports, encoding, max_header_size)\u001b[39m\n\u001b[32m    449\u001b[39m     own_fid = \u001b[38;5;28;01mFalse\u001b[39;00m\n\u001b[32m    450\u001b[39m \u001b[38;5;28;01melse\u001b[39;00m:\n\u001b[32m--> \u001b[39m\u001b[32m451\u001b[39m     fid = stack.enter_context(\u001b[38;5;28;43mopen\u001b[39;49m\u001b[43m(\u001b[49m\u001b[43mos\u001b[49m\u001b[43m.\u001b[49m\u001b[43mfspath\u001b[49m\u001b[43m(\u001b[49m\u001b[43mfile\u001b[49m\u001b[43m)\u001b[49m\u001b[43m,\u001b[49m\u001b[43m \u001b[49m\u001b[33;43m\"\u001b[39;49m\u001b[33;43mrb\u001b[39;49m\u001b[33;43m\"\u001b[39;49m\u001b[43m)\u001b[49m)\n\u001b[32m    452\u001b[39m     own_fid = \u001b[38;5;28;01mTrue\u001b[39;00m\n\u001b[32m    454\u001b[39m \u001b[38;5;66;03m# Code to distinguish from NumPy binary files and pickles.\u001b[39;00m\n",
      "\u001b[31mFileNotFoundError\u001b[39m: [Errno 2] No such file or directory: '/Users/thomassimader/Documents/NIRB/data/03/TrainingMapped/s100_100_100_b0_4000_0_5000_-4000_-0/Exports/Training_temperatures.npy'"
     ]
    }
   ],
   "source": [
    "for idx_mesh, (key, values) in enumerate(mapped_dic.items()):\n",
    "    comsol_data = COMSOL_VTU(values[\"vti\"])\n",
    "    mapped_dic[key][\"n_cells\"] = comsol_data.mesh.n_cells\n",
    "    temperatures = np.load(values[\"npy\"])\n",
    "    print(temperatures.shape)\n",
    "    mask = ~(temperatures == 0).all(axis=(1, 2)) # omit indices that are not computed yet\n",
    "    temperatures = temperatures[mask]\n",
    "    print(temperatures.shape)\n",
    "    assert len(temperatures) == len(param_files)\n",
    "    for (temperature, param_file) in zip(temperatures, param_files):\n",
    "        param_df = pd.read_csv(param_file, index_col = 0)\n",
    "        param_df['quantity_pint'] = param_df[param_df.columns[-1]].apply(lambda x : safe_parse_quantity(x))\n",
    "        lambda_therm = (1 - param_df.loc['host_phi', \"quantity_pint\"]) * param_df.loc['host_lambda', \"quantity_pint\"] + \\\n",
    "                            param_df.loc['host_phi', \"quantity_pint\"] * (4.2 * ureg.watt / (ureg.meter * ureg.kelvin))\n",
    "        t0      = 0.5 * (param_df.loc[\"T_h\", \"quantity_pint\"] + param_df.loc[\"T_c\", \"quantity_pint\"])\n",
    "        delta_T = (param_df.loc['T_h', \"quantity_pint\"]  - param_df.loc[\"T_c\", \"quantity_pint\"])\n",
    "        s0_total, entropy_number = calculate_thermal_entropy_generation(\n",
    "            comsol_data.mesh,\n",
    "            temperature[time_step_idx],\n",
    "            lambda_therm,\n",
    "            t0,\n",
    "            delta_T,\n",
    "        )\n",
    "        # L = (comsol_data.mesh.bounds.z_max - comsol_data.mesh.bounds.z_min) * ureg.meter\n",
    "        # print(f\"{idx_snap:03d} : {(lambda_therm * delta_T**2) / (L**2 * t0**2):.5e}\") #s0_characteristic =\n",
    "        mapped_dic[key][\"entropy_gen\"].append(s0_total.magnitude)\n",
    "        mapped_dic[key][\"entropy_num\"].append(entropy_number.magnitude)\n"
   ]
  },
  {
   "cell_type": "markdown",
   "id": "3f7af65e",
   "metadata": {},
   "source": [
    "### Original COMSOL data"
   ]
  },
  {
   "cell_type": "code",
   "execution_count": null,
   "id": "fca35eb3",
   "metadata": {},
   "outputs": [],
   "source": [
    "idxs = []\n",
    "for file, param_file in zip(original_dic[\"original\"][\"vtu\"], param_files):\n",
    "    idx = int(file.stem.split(\"_\")[1])\n",
    "    assert idx == int(param_file.stem.split(\"_\")[1])\n",
    "    idxs.append(idx)\n",
    "    param_df = pd.read_csv(param_file, index_col = 0)\n",
    "    param_df['quantity_pint'] = param_df[param_df.columns[-1]].apply(lambda x : safe_parse_quantity(x))\n",
    "    lambda_therm = (1 - param_df.loc['host_phi', \"quantity_pint\"]) * param_df.loc['host_lambda', \"quantity_pint\"] + \\\n",
    "                         param_df.loc['host_phi', \"quantity_pint\"] * (4.2 * ureg.watt / (ureg.meter * ureg.kelvin))\n",
    "    t0      = 0.5 * (param_df.loc[\"T_h\", \"quantity_pint\"] + param_df.loc[\"T_c\", \"quantity_pint\"])\n",
    "    delta_T = (param_df.loc['T_h', \"quantity_pint\"]  - param_df.loc[\"T_c\", \"quantity_pint\"])\n",
    "    comsol_data = COMSOL_VTU(file)\n",
    "    assert int(file.stem.split('_')[-1]) == idx\n",
    "    temp_field = comsol_data.format_field(\"Temperature\", time_step_idx)\n",
    "    s0_total, entropy_number = calculate_thermal_entropy_generation(\n",
    "        comsol_data.mesh,\n",
    "        comsol_data.mesh.point_data[temp_field],\n",
    "        lambda_therm,\n",
    "        t0,\n",
    "        delta_T,\n",
    "    )\n",
    "    # L = (comsol_data.mesh.bounds.z_max - comsol_data.mesh.bounds.z_min) * ureg.meter\n",
    "    # print(f\"{idx:03d} : {(lambda_therm * delta_T**2) / (L**2 * t0**2):.5e}\") #s0_characteristic =\n",
    "    original_dic[\"original\"][\"entropy_gen\"].append(s0_total.magnitude)\n",
    "    original_dic[\"original\"][\"entropy_num\"].append(entropy_number.magnitude)\n",
    "    original_dic[\"original\"][\"n_cells\"].append(comsol_data.mesh.n_cells)"
   ]
  },
  {
   "cell_type": "code",
   "execution_count": null,
   "id": "7dc2f0b2",
   "metadata": {},
   "outputs": [],
   "source": [
    "# print(len(original_dic[\"original\"][\"entropy_gen\"]))\n",
    "# print(len(mapped_dic['s100_100_100_b0_4000_0_5000_-4000_0'][\"entropy_gen\"]))"
   ]
  },
  {
   "cell_type": "markdown",
   "id": "e3fa87c0",
   "metadata": {},
   "source": [
    "## Plot"
   ]
  },
  {
   "cell_type": "code",
   "execution_count": null,
   "id": "8b4a527e",
   "metadata": {},
   "outputs": [
    {
     "name": "stdout",
     "output_type": "stream",
     "text": [
      "320\n"
     ]
    }
   ],
   "source": [
    "N_SNAPS = len(original_dic[\"original\"][\"vtu\"])\n",
    "colors = px.colors.sample_colorscale(\"turbo\", [n/(N_SNAPS) for n in range(N_SNAPS)])\n",
    "print(N_SNAPS)"
   ]
  },
  {
   "cell_type": "code",
   "execution_count": null,
   "id": "b8eb251a",
   "metadata": {},
   "outputs": [
    {
     "name": "stderr",
     "output_type": "stream",
     "text": [
      "python(27790) MallocStackLogging: can't turn off malloc stack logging because it was not enabled.\n"
     ]
    },
    {
     "data": {
      "application/vnd.plotly.v1+json": {
       "config": {
        "plotlyServerURL": "https://plot.ly"
       },
       "data": [
        {
         "customdata": [
          [
           "Original Comsol Mesh",
           0,
           0
          ],
          [
           "s100_100_100_b0_4000_0_5000_-4000_0",
           0.4398412184464855,
           0
          ]
         ],
         "hovertemplate": "Cells: %{x}<br>Entropy number: %{y}<br>Snap Idx: %{customdata[2]:03d}<br>Mapped: %{customdata[0]}<br>Rel Error: %{customdata[1]:.3f}%<extra></extra>",
         "line": {
          "color": "rgb(48, 18, 59)"
         },
         "mode": "markers+lines",
         "name": "000",
         "opacity": 0.4,
         "type": "scatter",
         "x": {
          "bdata": "iIIBAM2DAQA=",
          "dtype": "i4"
         },
         "y": {
          "bdata": "GTbcQnX/7j8ROheJXCLvPw==",
          "dtype": "f8"
         }
        },
        {
         "customdata": [
          [
           "Original Comsol Mesh",
           0,
           1
          ],
          [
           "s100_100_100_b0_4000_0_5000_-4000_0",
           0.3780059530261601,
           1
          ]
         ],
         "hovertemplate": "Cells: %{x}<br>Entropy number: %{y}<br>Snap Idx: %{customdata[2]:03d}<br>Mapped: %{customdata[0]}<br>Rel Error: %{customdata[1]:.3f}%<extra></extra>",
         "line": {
          "color": "rgb(49, 20, 64)"
         },
         "mode": "markers+lines",
         "name": "001",
         "opacity": 0.4,
         "type": "scatter",
         "x": {
          "bdata": "iIIBAM2DAQA=",
          "dtype": "i4"
         },
         "y": {
          "bdata": "AkPfJFBi8T+3H9iwInPxPw==",
          "dtype": "f8"
         }
        },
        {
         "customdata": [
          [
           "Original Comsol Mesh",
           0,
           2
          ],
          [
           "s100_100_100_b0_4000_0_5000_-4000_0",
           0.3587219852700202,
           2
          ]
         ],
         "hovertemplate": "Cells: %{x}<br>Entropy number: %{y}<br>Snap Idx: %{customdata[2]:03d}<br>Mapped: %{customdata[0]}<br>Rel Error: %{customdata[1]:.3f}%<extra></extra>",
         "line": {
          "color": "rgb(49, 22, 69)"
         },
         "mode": "markers+lines",
         "name": "002",
         "opacity": 0.4,
         "type": "scatter",
         "x": {
          "bdata": "iIIBAM2DAQA=",
          "dtype": "i4"
         },
         "y": {
          "bdata": "JtWh3xBk7z/LYcOe5IDvPw==",
          "dtype": "f8"
         }
        },
        {
         "customdata": [
          [
           "Original Comsol Mesh",
           0,
           3
          ],
          [
           "s100_100_100_b0_4000_0_5000_-4000_0",
           0.3736064627486315,
           3
          ]
         ],
         "hovertemplate": "Cells: %{x}<br>Entropy number: %{y}<br>Snap Idx: %{customdata[2]:03d}<br>Mapped: %{customdata[0]}<br>Rel Error: %{customdata[1]:.3f}%<extra></extra>",
         "line": {
          "color": "rgb(50, 25, 74)"
         },
         "mode": "markers+lines",
         "name": "003",
         "opacity": 0.4,
         "type": "scatter",
         "x": {
          "bdata": "iIIBAM2DAQA=",
          "dtype": "i4"
         },
         "y": {
          "bdata": "nDdWof+E8T9a1ZI6wZXxPw==",
          "dtype": "f8"
         }
        },
        {
         "customdata": [
          [
           "Original Comsol Mesh",
           0,
           4
          ],
          [
           "s100_100_100_b0_4000_0_5000_-4000_0",
           0.40247480933511365,
           4
          ]
         ],
         "hovertemplate": "Cells: %{x}<br>Entropy number: %{y}<br>Snap Idx: %{customdata[2]:03d}<br>Mapped: %{customdata[0]}<br>Rel Error: %{customdata[1]:.3f}%<extra></extra>",
         "line": {
          "color": "rgb(51, 27, 79)"
         },
         "mode": "markers+lines",
         "name": "004",
         "opacity": 0.4,
         "type": "scatter",
         "x": {
          "bdata": "iIIBAM2DAQA=",
          "dtype": "i4"
         },
         "y": {
          "bdata": "qICspWaN8D9F5YOXdJ7wPw==",
          "dtype": "f8"
         }
        },
        {
         "customdata": [
          [
           "Original Comsol Mesh",
           0,
           5
          ],
          [
           "s100_100_100_b0_4000_0_5000_-4000_0",
           0.3167442721809579,
           5
          ]
         ],
         "hovertemplate": "Cells: %{x}<br>Entropy number: %{y}<br>Snap Idx: %{customdata[2]:03d}<br>Mapped: %{customdata[0]}<br>Rel Error: %{customdata[1]:.3f}%<extra></extra>",
         "line": {
          "color": "rgb(52, 29, 84)"
         },
         "mode": "markers+lines",
         "name": "005",
         "opacity": 0.4,
         "type": "scatter",
         "x": {
          "bdata": "iIIBAM2DAQA=",
          "dtype": "i4"
         },
         "y": {
          "bdata": "JP3MQULw8j8h78OKnf/yPw==",
          "dtype": "f8"
         }
        },
        {
         "customdata": [
          [
           "Original Comsol Mesh",
           0,
           6
          ],
          [
           "s100_100_100_b0_4000_0_5000_-4000_0",
           0.37528006292881244,
           6
          ]
         ],
         "hovertemplate": "Cells: %{x}<br>Entropy number: %{y}<br>Snap Idx: %{customdata[2]:03d}<br>Mapped: %{customdata[0]}<br>Rel Error: %{customdata[1]:.3f}%<extra></extra>",
         "line": {
          "color": "rgb(52, 31, 88)"
         },
         "mode": "markers+lines",
         "name": "006",
         "opacity": 0.4,
         "type": "scatter",
         "x": {
          "bdata": "iIIBAM2DAQA=",
          "dtype": "i4"
         },
         "y": {
          "bdata": "o+5Fb99t8j+jUp75k3/yPw==",
          "dtype": "f8"
         }
        },
        {
         "customdata": [
          [
           "Original Comsol Mesh",
           0,
           7
          ],
          [
           "s100_100_100_b0_4000_0_5000_-4000_0",
           0.4295446781167618,
           7
          ]
         ],
         "hovertemplate": "Cells: %{x}<br>Entropy number: %{y}<br>Snap Idx: %{customdata[2]:03d}<br>Mapped: %{customdata[0]}<br>Rel Error: %{customdata[1]:.3f}%<extra></extra>",
         "line": {
          "color": "rgb(53, 34, 93)"
         },
         "mode": "markers+lines",
         "name": "007",
         "opacity": 0.4,
         "type": "scatter",
         "x": {
          "bdata": "iIIBAM2DAQA=",
          "dtype": "i4"
         },
         "y": {
          "bdata": "i6T/1LE88D8F9CWtjE7wPw==",
          "dtype": "f8"
         }
        },
        {
         "customdata": [
          [
           "Original Comsol Mesh",
           0,
           8
          ],
          [
           "s100_100_100_b0_4000_0_5000_-4000_0",
           0.3474874483456162,
           8
          ]
         ],
         "hovertemplate": "Cells: %{x}<br>Entropy number: %{y}<br>Snap Idx: %{customdata[2]:03d}<br>Mapped: %{customdata[0]}<br>Rel Error: %{customdata[1]:.3f}%<extra></extra>",
         "line": {
          "color": "rgb(54, 36, 98)"
         },
         "mode": "markers+lines",
         "name": "008",
         "opacity": 0.4,
         "type": "scatter",
         "x": {
          "bdata": "iIIBAM2DAQA=",
          "dtype": "i4"
         },
         "y": {
          "bdata": "riw5jkNn8T8fMK7QvnbxPw==",
          "dtype": "f8"
         }
        },
        {
         "customdata": [
          [
           "Original Comsol Mesh",
           0,
           9
          ],
          [
           "s100_100_100_b0_4000_0_5000_-4000_0",
           0.29333700079239694,
           9
          ]
         ],
         "hovertemplate": "Cells: %{x}<br>Entropy number: %{y}<br>Snap Idx: %{customdata[2]:03d}<br>Mapped: %{customdata[0]}<br>Rel Error: %{customdata[1]:.3f}%<extra></extra>",
         "line": {
          "color": "rgb(55, 38, 103)"
         },
         "mode": "markers+lines",
         "name": "009",
         "opacity": 0.4,
         "type": "scatter",
         "x": {
          "bdata": "iIIBAM2DAQA=",
          "dtype": "i4"
         },
         "y": {
          "bdata": "n8InWpcx8T9pgO+xgD7xPw==",
          "dtype": "f8"
         }
        },
        {
         "customdata": [
          [
           "Original Comsol Mesh",
           0,
           10
          ],
          [
           "s100_100_100_b0_4000_0_5000_-4000_0",
           0.4411966882760416,
           10
          ]
         ],
         "hovertemplate": "Cells: %{x}<br>Entropy number: %{y}<br>Snap Idx: %{customdata[2]:03d}<br>Mapped: %{customdata[0]}<br>Rel Error: %{customdata[1]:.3f}%<extra></extra>",
         "line": {
          "color": "rgb(55, 40, 108)"
         },
         "mode": "markers+lines",
         "name": "010",
         "opacity": 0.4,
         "type": "scatter",
         "x": {
          "bdata": "iIIBAM2DAQA=",
          "dtype": "i4"
         },
         "y": {
          "bdata": "/pKnhm1V7z8PLaZv0XjvPw==",
          "dtype": "f8"
         }
        },
        {
         "customdata": [
          [
           "Original Comsol Mesh",
           0,
           11
          ],
          [
           "s100_100_100_b0_4000_0_5000_-4000_0",
           0.42182869106625315,
           11
          ]
         ],
         "hovertemplate": "Cells: %{x}<br>Entropy number: %{y}<br>Snap Idx: %{customdata[2]:03d}<br>Mapped: %{customdata[0]}<br>Rel Error: %{customdata[1]:.3f}%<extra></extra>",
         "line": {
          "color": "rgb(56, 43, 113)"
         },
         "mode": "markers+lines",
         "name": "011",
         "opacity": 0.4,
         "type": "scatter",
         "x": {
          "bdata": "iIIBAM2DAQA=",
          "dtype": "i4"
         },
         "y": {
          "bdata": "3vbEpd/t7T9L8A6QMQ7uPw==",
          "dtype": "f8"
         }
        },
        {
         "customdata": [
          [
           "Original Comsol Mesh",
           0,
           12
          ],
          [
           "s100_100_100_b0_4000_0_5000_-4000_0",
           0.44687959597831706,
           12
          ]
         ],
         "hovertemplate": "Cells: %{x}<br>Entropy number: %{y}<br>Snap Idx: %{customdata[2]:03d}<br>Mapped: %{customdata[0]}<br>Rel Error: %{customdata[1]:.3f}%<extra></extra>",
         "line": {
          "color": "rgb(57, 45, 118)"
         },
         "mode": "markers+lines",
         "name": "012",
         "opacity": 0.4,
         "type": "scatter",
         "x": {
          "bdata": "iIIBAM2DAQA=",
          "dtype": "i4"
         },
         "y": {
          "bdata": "s/cf3rz87z8xoKRwqhDwPw==",
          "dtype": "f8"
         }
        },
        {
         "customdata": [
          [
           "Original Comsol Mesh",
           0,
           13
          ],
          [
           "s100_100_100_b0_4000_0_5000_-4000_0",
           0.4014289922861026,
           13
          ]
         ],
         "hovertemplate": "Cells: %{x}<br>Entropy number: %{y}<br>Snap Idx: %{customdata[2]:03d}<br>Mapped: %{customdata[0]}<br>Rel Error: %{customdata[1]:.3f}%<extra></extra>",
         "line": {
          "color": "rgb(58, 47, 123)"
         },
         "mode": "markers+lines",
         "name": "013",
         "opacity": 0.4,
         "type": "scatter",
         "x": {
          "bdata": "iIIBAM2DAQA=",
          "dtype": "i4"
         },
         "y": {
          "bdata": "pbZ2leaO8D/ASZq56p/wPw==",
          "dtype": "f8"
         }
        },
        {
         "customdata": [
          [
           "Original Comsol Mesh",
           0,
           14
          ],
          [
           "s100_100_100_b0_4000_0_5000_-4000_0",
           0.37580765122286136,
           14
          ]
         ],
         "hovertemplate": "Cells: %{x}<br>Entropy number: %{y}<br>Snap Idx: %{customdata[2]:03d}<br>Mapped: %{customdata[0]}<br>Rel Error: %{customdata[1]:.3f}%<extra></extra>",
         "line": {
          "color": "rgb(58, 49, 128)"
         },
         "mode": "markers+lines",
         "name": "014",
         "opacity": 0.4,
         "type": "scatter",
         "x": {
          "bdata": "iIIBAM2DAQA=",
          "dtype": "i4"
         },
         "y": {
          "bdata": "HlLEqpZy8T+JLL7TX4PxPw==",
          "dtype": "f8"
         }
        },
        {
         "customdata": [
          [
           "Original Comsol Mesh",
           0,
           15
          ],
          [
           "s100_100_100_b0_4000_0_5000_-4000_0",
           0.39447101974282217,
           15
          ]
         ],
         "hovertemplate": "Cells: %{x}<br>Entropy number: %{y}<br>Snap Idx: %{customdata[2]:03d}<br>Mapped: %{customdata[0]}<br>Rel Error: %{customdata[1]:.3f}%<extra></extra>",
         "line": {
          "color": "rgb(59, 51, 132)"
         },
         "mode": "markers+lines",
         "name": "015",
         "opacity": 0.4,
         "type": "scatter",
         "x": {
          "bdata": "iIIBAM2DAQA=",
          "dtype": "i4"
         },
         "y": {
          "bdata": "m3YzlDRE7j/5PFgSxWLuPw==",
          "dtype": "f8"
         }
        },
        {
         "customdata": [
          [
           "Original Comsol Mesh",
           0,
           16
          ],
          [
           "s100_100_100_b0_4000_0_5000_-4000_0",
           0.3524220902042673,
           16
          ]
         ],
         "hovertemplate": "Cells: %{x}<br>Entropy number: %{y}<br>Snap Idx: %{customdata[2]:03d}<br>Mapped: %{customdata[0]}<br>Rel Error: %{customdata[1]:.3f}%<extra></extra>",
         "line": {
          "color": "rgb(60, 54, 137)"
         },
         "mode": "markers+lines",
         "name": "016",
         "opacity": 0.4,
         "type": "scatter",
         "x": {
          "bdata": "iIIBAM2DAQA=",
          "dtype": "i4"
         },
         "y": {
          "bdata": "qBd85Gi88T+p569AaczxPw==",
          "dtype": "f8"
         }
        },
        {
         "customdata": [
          [
           "Original Comsol Mesh",
           0,
           17
          ],
          [
           "s100_100_100_b0_4000_0_5000_-4000_0",
           0.361427285106627,
           17
          ]
         ],
         "hovertemplate": "Cells: %{x}<br>Entropy number: %{y}<br>Snap Idx: %{customdata[2]:03d}<br>Mapped: %{customdata[0]}<br>Rel Error: %{customdata[1]:.3f}%<extra></extra>",
         "line": {
          "color": "rgb(61, 56, 142)"
         },
         "mode": "markers+lines",
         "name": "017",
         "opacity": 0.4,
         "type": "scatter",
         "x": {
          "bdata": "iIIBAM2DAQA=",
          "dtype": "i4"
         },
         "y": {
          "bdata": "qqBddO0j8T9GXsNmyTPxPw==",
          "dtype": "f8"
         }
        },
        {
         "customdata": [
          [
           "Original Comsol Mesh",
           0,
           18
          ],
          [
           "s100_100_100_b0_4000_0_5000_-4000_0",
           0.42158292967710137,
           18
          ]
         ],
         "hovertemplate": "Cells: %{x}<br>Entropy number: %{y}<br>Snap Idx: %{customdata[2]:03d}<br>Mapped: %{customdata[0]}<br>Rel Error: %{customdata[1]:.3f}%<extra></extra>",
         "line": {
          "color": "rgb(61, 58, 147)"
         },
         "mode": "markers+lines",
         "name": "018",
         "opacity": 0.4,
         "type": "scatter",
         "x": {
          "bdata": "iIIBAM2DAQA=",
          "dtype": "i4"
         },
         "y": {
          "bdata": "JXhOo+7q7T+Nud6OOAvuPw==",
          "dtype": "f8"
         }
        },
        {
         "customdata": [
          [
           "Original Comsol Mesh",
           0,
           19
          ],
          [
           "s100_100_100_b0_4000_0_5000_-4000_0",
           0.42208886950474034,
           19
          ]
         ],
         "hovertemplate": "Cells: %{x}<br>Entropy number: %{y}<br>Snap Idx: %{customdata[2]:03d}<br>Mapped: %{customdata[0]}<br>Rel Error: %{customdata[1]:.3f}%<extra></extra>",
         "line": {
          "color": "rgb(62, 60, 152)"
         },
         "mode": "markers+lines",
         "name": "019",
         "opacity": 0.4,
         "type": "scatter",
         "x": {
          "bdata": "iIIBAM2DAQA=",
          "dtype": "i4"
         },
         "y": {
          "bdata": "vN+7XV7v7T8uq///tg/uPw==",
          "dtype": "f8"
         }
        },
        {
         "customdata": [
          [
           "Original Comsol Mesh",
           0,
           20
          ],
          [
           "s100_100_100_b0_4000_0_5000_-4000_0",
           0.4372015926313277,
           20
          ]
         ],
         "hovertemplate": "Cells: %{x}<br>Entropy number: %{y}<br>Snap Idx: %{customdata[2]:03d}<br>Mapped: %{customdata[0]}<br>Rel Error: %{customdata[1]:.3f}%<extra></extra>",
         "line": {
          "color": "rgb(63, 63, 157)"
         },
         "mode": "markers+lines",
         "name": "020",
         "opacity": 0.4,
         "type": "scatter",
         "x": {
          "bdata": "iIIBAM2DAQA=",
          "dtype": "i4"
         },
         "y": {
          "bdata": "IQBM7WWK7z9P4asVs63vPw==",
          "dtype": "f8"
         }
        },
        {
         "customdata": [
          [
           "Original Comsol Mesh",
           0,
           21
          ],
          [
           "s100_100_100_b0_4000_0_5000_-4000_0",
           0.37806082499198335,
           21
          ]
         ],
         "hovertemplate": "Cells: %{x}<br>Entropy number: %{y}<br>Snap Idx: %{customdata[2]:03d}<br>Mapped: %{customdata[0]}<br>Rel Error: %{customdata[1]:.3f}%<extra></extra>",
         "line": {
          "color": "rgb(64, 65, 162)"
         },
         "mode": "markers+lines",
         "name": "021",
         "opacity": 0.4,
         "type": "scatter",
         "x": {
          "bdata": "iIIBAM2DAQA=",
          "dtype": "i4"
         },
         "y": {
          "bdata": "3MBdRchr8D8fcnPXrHvwPw==",
          "dtype": "f8"
         }
        },
        {
         "customdata": [
          [
           "Original Comsol Mesh",
           0,
           22
          ],
          [
           "s100_100_100_b0_4000_0_5000_-4000_0",
           0.3152138762079723,
           22
          ]
         ],
         "hovertemplate": "Cells: %{x}<br>Entropy number: %{y}<br>Snap Idx: %{customdata[2]:03d}<br>Mapped: %{customdata[0]}<br>Rel Error: %{customdata[1]:.3f}%<extra></extra>",
         "line": {
          "color": "rgb(64, 67, 167)"
         },
         "mode": "markers+lines",
         "name": "022",
         "opacity": 0.4,
         "type": "scatter",
         "x": {
          "bdata": "iIIBAM2DAQA=",
          "dtype": "i4"
         },
         "y": {
          "bdata": "gHsITTBm8T9BJ/GYOnTxPw==",
          "dtype": "f8"
         }
        },
        {
         "customdata": [
          [
           "Original Comsol Mesh",
           0,
           23
          ],
          [
           "s100_100_100_b0_4000_0_5000_-4000_0",
           0.36142515275370685,
           23
          ]
         ],
         "hovertemplate": "Cells: %{x}<br>Entropy number: %{y}<br>Snap Idx: %{customdata[2]:03d}<br>Mapped: %{customdata[0]}<br>Rel Error: %{customdata[1]:.3f}%<extra></extra>",
         "line": {
          "color": "rgb(65, 69, 171)"
         },
         "mode": "markers+lines",
         "name": "023",
         "opacity": 0.4,
         "type": "scatter",
         "x": {
          "bdata": "iIIBAM2DAQA=",
          "dtype": "i4"
         },
         "y": {
          "bdata": "V9Yy5ADg8T/2cs3UivDxPw==",
          "dtype": "f8"
         }
        },
        {
         "customdata": [
          [
           "Original Comsol Mesh",
           0,
           24
          ],
          [
           "s100_100_100_b0_4000_0_5000_-4000_0",
           0.4185946925163847,
           24
          ]
         ],
         "hovertemplate": "Cells: %{x}<br>Entropy number: %{y}<br>Snap Idx: %{customdata[2]:03d}<br>Mapped: %{customdata[0]}<br>Rel Error: %{customdata[1]:.3f}%<extra></extra>",
         "line": {
          "color": "rgb(65, 71, 174)"
         },
         "mode": "markers+lines",
         "name": "024",
         "opacity": 0.4,
         "type": "scatter",
         "x": {
          "bdata": "iIIBAM2DAQA=",
          "dtype": "i4"
         },
         "y": {
          "bdata": "6ZWu3knp8D8NfFolafvwPw==",
          "dtype": "f8"
         }
        },
        {
         "customdata": [
          [
           "Original Comsol Mesh",
           0,
           25
          ],
          [
           "s100_100_100_b0_4000_0_5000_-4000_0",
           0.4289685555696146,
           25
          ]
         ],
         "hovertemplate": "Cells: %{x}<br>Entropy number: %{y}<br>Snap Idx: %{customdata[2]:03d}<br>Mapped: %{customdata[0]}<br>Rel Error: %{customdata[1]:.3f}%<extra></extra>",
         "line": {
          "color": "rgb(65, 74, 177)"
         },
         "mode": "markers+lines",
         "name": "025",
         "opacity": 0.4,
         "type": "scatter",
         "x": {
          "bdata": "iIIBAM2DAQA=",
          "dtype": "i4"
         },
         "y": {
          "bdata": "mat2rRbO8D8K3JoOi+DwPw==",
          "dtype": "f8"
         }
        },
        {
         "customdata": [
          [
           "Original Comsol Mesh",
           0,
           26
          ],
          [
           "s100_100_100_b0_4000_0_5000_-4000_0",
           0.3428680999496113,
           26
          ]
         ],
         "hovertemplate": "Cells: %{x}<br>Entropy number: %{y}<br>Snap Idx: %{customdata[2]:03d}<br>Mapped: %{customdata[0]}<br>Rel Error: %{customdata[1]:.3f}%<extra></extra>",
         "line": {
          "color": "rgb(66, 76, 180)"
         },
         "mode": "markers+lines",
         "name": "026",
         "opacity": 0.4,
         "type": "scatter",
         "x": {
          "bdata": "iIIBAM2DAQA=",
          "dtype": "i4"
         },
         "y": {
          "bdata": "bw83+IxJ8D+SFL/C2FfwPw==",
          "dtype": "f8"
         }
        },
        {
         "customdata": [
          [
           "Original Comsol Mesh",
           0,
           27
          ],
          [
           "s100_100_100_b0_4000_0_5000_-4000_0",
           0.3810740069764298,
           27
          ]
         ],
         "hovertemplate": "Cells: %{x}<br>Entropy number: %{y}<br>Snap Idx: %{customdata[2]:03d}<br>Mapped: %{customdata[0]}<br>Rel Error: %{customdata[1]:.3f}%<extra></extra>",
         "line": {
          "color": "rgb(66, 78, 183)"
         },
         "mode": "markers+lines",
         "name": "027",
         "opacity": 0.4,
         "type": "scatter",
         "x": {
          "bdata": "iIIBAM2DAQA=",
          "dtype": "i4"
         },
         "y": {
          "bdata": "InTeXnxQ8D9hKDO9ZmDwPw==",
          "dtype": "f8"
         }
        },
        {
         "customdata": [
          [
           "Original Comsol Mesh",
           0,
           28
          ],
          [
           "s100_100_100_b0_4000_0_5000_-4000_0",
           0.3163000824481293,
           28
          ]
         ],
         "hovertemplate": "Cells: %{x}<br>Entropy number: %{y}<br>Snap Idx: %{customdata[2]:03d}<br>Mapped: %{customdata[0]}<br>Rel Error: %{customdata[1]:.3f}%<extra></extra>",
         "line": {
          "color": "rgb(66, 80, 186)"
         },
         "mode": "markers+lines",
         "name": "028",
         "opacity": 0.4,
         "type": "scatter",
         "x": {
          "bdata": "iIIBAM2DAQA=",
          "dtype": "i4"
         },
         "y": {
          "bdata": "EDJ98V0z8j8YRKLDGkLyPw==",
          "dtype": "f8"
         }
        },
        {
         "customdata": [
          [
           "Original Comsol Mesh",
           0,
           29
          ],
          [
           "s100_100_100_b0_4000_0_5000_-4000_0",
           0.38889295338028834,
           29
          ]
         ],
         "hovertemplate": "Cells: %{x}<br>Entropy number: %{y}<br>Snap Idx: %{customdata[2]:03d}<br>Mapped: %{customdata[0]}<br>Rel Error: %{customdata[1]:.3f}%<extra></extra>",
         "line": {
          "color": "rgb(66, 82, 189)"
         },
         "mode": "markers+lines",
         "name": "029",
         "opacity": 0.4,
         "type": "scatter",
         "x": {
          "bdata": "iIIBAM2DAQA=",
          "dtype": "i4"
         },
         "y": {
          "bdata": "iUsAIKGj8T+zJl+7MLXxPw==",
          "dtype": "f8"
         }
        },
        {
         "customdata": [
          [
           "Original Comsol Mesh",
           0,
           30
          ],
          [
           "s100_100_100_b0_4000_0_5000_-4000_0",
           0.38360159507294517,
           30
          ]
         ],
         "hovertemplate": "Cells: %{x}<br>Entropy number: %{y}<br>Snap Idx: %{customdata[2]:03d}<br>Mapped: %{customdata[0]}<br>Rel Error: %{customdata[1]:.3f}%<extra></extra>",
         "line": {
          "color": "rgb(67, 84, 192)"
         },
         "mode": "markers+lines",
         "name": "030",
         "opacity": 0.4,
         "type": "scatter",
         "x": {
          "bdata": "iIIBAM2DAQA=",
          "dtype": "i4"
         },
         "y": {
          "bdata": "MqmiKEHc8T8pUlo0y+3xPw==",
          "dtype": "f8"
         }
        },
        {
         "customdata": [
          [
           "Original Comsol Mesh",
           0,
           31
          ],
          [
           "s100_100_100_b0_4000_0_5000_-4000_0",
           0.1851080788713701,
           31
          ]
         ],
         "hovertemplate": "Cells: %{x}<br>Entropy number: %{y}<br>Snap Idx: %{customdata[2]:03d}<br>Mapped: %{customdata[0]}<br>Rel Error: %{customdata[1]:.3f}%<extra></extra>",
         "line": {
          "color": "rgb(67, 86, 195)"
         },
         "mode": "markers+lines",
         "name": "031",
         "opacity": 0.4,
         "type": "scatter",
         "x": {
          "bdata": "iIIBAM2DAQA=",
          "dtype": "i4"
         },
         "y": {
          "bdata": "ygA1+fE09D+tdsNPhT70Pw==",
          "dtype": "f8"
         }
        },
        {
         "customdata": [
          [
           "Original Comsol Mesh",
           0,
           32
          ],
          [
           "s100_100_100_b0_4000_0_5000_-4000_0",
           0.41382913678589384,
           32
          ]
         ],
         "hovertemplate": "Cells: %{x}<br>Entropy number: %{y}<br>Snap Idx: %{customdata[2]:03d}<br>Mapped: %{customdata[0]}<br>Rel Error: %{customdata[1]:.3f}%<extra></extra>",
         "line": {
          "color": "rgb(67, 88, 197)"
         },
         "mode": "markers+lines",
         "name": "032",
         "opacity": 0.4,
         "type": "scatter",
         "x": {
          "bdata": "iIIBAM2DAQA=",
          "dtype": "i4"
         },
         "y": {
          "bdata": "+Nw3Uq8r8D+k7vzp0DzwPw==",
          "dtype": "f8"
         }
        },
        {
         "customdata": [
          [
           "Original Comsol Mesh",
           0,
           33
          ],
          [
           "s100_100_100_b0_4000_0_5000_-4000_0",
           0.43925994775529525,
           33
          ]
         ],
         "hovertemplate": "Cells: %{x}<br>Entropy number: %{y}<br>Snap Idx: %{customdata[2]:03d}<br>Mapped: %{customdata[0]}<br>Rel Error: %{customdata[1]:.3f}%<extra></extra>",
         "line": {
          "color": "rgb(67, 90, 200)"
         },
         "mode": "markers+lines",
         "name": "033",
         "opacity": 0.4,
         "type": "scatter",
         "x": {
          "bdata": "iIIBAM2DAQA=",
          "dtype": "i4"
         },
         "y": {
          "bdata": "s/VsNwh27j/Q724lSZjuPw==",
          "dtype": "f8"
         }
        },
        {
         "customdata": [
          [
           "Original Comsol Mesh",
           0,
           34
          ],
          [
           "s100_100_100_b0_4000_0_5000_-4000_0",
           0.4217563280386437,
           34
          ]
         ],
         "hovertemplate": "Cells: %{x}<br>Entropy number: %{y}<br>Snap Idx: %{customdata[2]:03d}<br>Mapped: %{customdata[0]}<br>Rel Error: %{customdata[1]:.3f}%<extra></extra>",
         "line": {
          "color": "rgb(67, 92, 203)"
         },
         "mode": "markers+lines",
         "name": "034",
         "opacity": 0.4,
         "type": "scatter",
         "x": {
          "bdata": "iIIBAM2DAQA=",
          "dtype": "i4"
         },
         "y": {
          "bdata": "FdbVkGLs7T/G+FB0sQzuPw==",
          "dtype": "f8"
         }
        },
        {
         "customdata": [
          [
           "Original Comsol Mesh",
           0,
           35
          ],
          [
           "s100_100_100_b0_4000_0_5000_-4000_0",
           0.34687846319093707,
           35
          ]
         ],
         "hovertemplate": "Cells: %{x}<br>Entropy number: %{y}<br>Snap Idx: %{customdata[2]:03d}<br>Mapped: %{customdata[0]}<br>Rel Error: %{customdata[1]:.3f}%<extra></extra>",
         "line": {
          "color": "rgb(68, 94, 206)"
         },
         "mode": "markers+lines",
         "name": "035",
         "opacity": 0.4,
         "type": "scatter",
         "x": {
          "bdata": "iIIBAM2DAQA=",
          "dtype": "i4"
         },
         "y": {
          "bdata": "Yu1KTS7l7z/txweHwADwPw==",
          "dtype": "f8"
         }
        },
        {
         "customdata": [
          [
           "Original Comsol Mesh",
           0,
           36
          ],
          [
           "s100_100_100_b0_4000_0_5000_-4000_0",
           0.27679273145816724,
           36
          ]
         ],
         "hovertemplate": "Cells: %{x}<br>Entropy number: %{y}<br>Snap Idx: %{customdata[2]:03d}<br>Mapped: %{customdata[0]}<br>Rel Error: %{customdata[1]:.3f}%<extra></extra>",
         "line": {
          "color": "rgb(68, 97, 209)"
         },
         "mode": "markers+lines",
         "name": "036",
         "opacity": 0.4,
         "type": "scatter",
         "x": {
          "bdata": "iIIBAM2DAQA=",
          "dtype": "i4"
         },
         "y": {
          "bdata": "OgMbaNmV8T86YoleT6LxPw==",
          "dtype": "f8"
         }
        },
        {
         "customdata": [
          [
           "Original Comsol Mesh",
           0,
           37
          ],
          [
           "s100_100_100_b0_4000_0_5000_-4000_0",
           0.3902536906309929,
           37
          ]
         ],
         "hovertemplate": "Cells: %{x}<br>Entropy number: %{y}<br>Snap Idx: %{customdata[2]:03d}<br>Mapped: %{customdata[0]}<br>Rel Error: %{customdata[1]:.3f}%<extra></extra>",
         "line": {
          "color": "rgb(68, 99, 212)"
         },
         "mode": "markers+lines",
         "name": "037",
         "opacity": 0.4,
         "type": "scatter",
         "x": {
          "bdata": "iIIBAM2DAQA=",
          "dtype": "i4"
         },
         "y": {
          "bdata": "+IEFFJv/8D/BnSyMlhDxPw==",
          "dtype": "f8"
         }
        },
        {
         "customdata": [
          [
           "Original Comsol Mesh",
           0,
           38
          ],
          [
           "s100_100_100_b0_4000_0_5000_-4000_0",
           0.42197909476512596,
           38
          ]
         ],
         "hovertemplate": "Cells: %{x}<br>Entropy number: %{y}<br>Snap Idx: %{customdata[2]:03d}<br>Mapped: %{customdata[0]}<br>Rel Error: %{customdata[1]:.3f}%<extra></extra>",
         "line": {
          "color": "rgb(68, 101, 215)"
         },
         "mode": "markers+lines",
         "name": "038",
         "opacity": 0.4,
         "type": "scatter",
         "x": {
          "bdata": "iIIBAM2DAQA=",
          "dtype": "i4"
         },
         "y": {
          "bdata": "yCljGV3u7T9T3Gp+sg7uPw==",
          "dtype": "f8"
         }
        },
        {
         "customdata": [
          [
           "Original Comsol Mesh",
           0,
           39
          ],
          [
           "s100_100_100_b0_4000_0_5000_-4000_0",
           0.32327828888144405,
           39
          ]
         ],
         "hovertemplate": "Cells: %{x}<br>Entropy number: %{y}<br>Snap Idx: %{customdata[2]:03d}<br>Mapped: %{customdata[0]}<br>Rel Error: %{customdata[1]:.3f}%<extra></extra>",
         "line": {
          "color": "rgb(69, 103, 218)"
         },
         "mode": "markers+lines",
         "name": "039",
         "opacity": 0.4,
         "type": "scatter",
         "x": {
          "bdata": "iIIBAM2DAQA=",
          "dtype": "i4"
         },
         "y": {
          "bdata": "wUc0Tfp78D80hCG5nonwPw==",
          "dtype": "f8"
         }
        },
        {
         "customdata": [
          [
           "Original Comsol Mesh",
           0,
           40
          ],
          [
           "s100_100_100_b0_4000_0_5000_-4000_0",
           0.3815773304019428,
           40
          ]
         ],
         "hovertemplate": "Cells: %{x}<br>Entropy number: %{y}<br>Snap Idx: %{customdata[2]:03d}<br>Mapped: %{customdata[0]}<br>Rel Error: %{customdata[1]:.3f}%<extra></extra>",
         "line": {
          "color": "rgb(69, 105, 220)"
         },
         "mode": "markers+lines",
         "name": "040",
         "opacity": 0.4,
         "type": "scatter",
         "x": {
          "bdata": "iIIBAM2DAQA=",
          "dtype": "i4"
         },
         "y": {
          "bdata": "qDzRti8c8T8d9kxy5izxPw==",
          "dtype": "f8"
         }
        },
        {
         "customdata": [
          [
           "Original Comsol Mesh",
           0,
           41
          ],
          [
           "s100_100_100_b0_4000_0_5000_-4000_0",
           0.34560788436040196,
           41
          ]
         ],
         "hovertemplate": "Cells: %{x}<br>Entropy number: %{y}<br>Snap Idx: %{customdata[2]:03d}<br>Mapped: %{customdata[0]}<br>Rel Error: %{customdata[1]:.3f}%<extra></extra>",
         "line": {
          "color": "rgb(69, 107, 223)"
         },
         "mode": "markers+lines",
         "name": "041",
         "opacity": 0.4,
         "type": "scatter",
         "x": {
          "bdata": "iIIBAM2DAQA=",
          "dtype": "i4"
         },
         "y": {
          "bdata": "3HY0B4wV8j/RaGgMjCXyPw==",
          "dtype": "f8"
         }
        },
        {
         "customdata": [
          [
           "Original Comsol Mesh",
           0,
           42
          ],
          [
           "s100_100_100_b0_4000_0_5000_-4000_0",
           0.4215317808619504,
           42
          ]
         ],
         "hovertemplate": "Cells: %{x}<br>Entropy number: %{y}<br>Snap Idx: %{customdata[2]:03d}<br>Mapped: %{customdata[0]}<br>Rel Error: %{customdata[1]:.3f}%<extra></extra>",
         "line": {
          "color": "rgb(69, 109, 226)"
         },
         "mode": "markers+lines",
         "name": "042",
         "opacity": 0.4,
         "type": "scatter",
         "x": {
          "bdata": "iIIBAM2DAQA=",
          "dtype": "i4"
         },
         "y": {
          "bdata": "sL9cbnPq7T+eijzUuwruPw==",
          "dtype": "f8"
         }
        },
        {
         "customdata": [
          [
           "Original Comsol Mesh",
           0,
           43
          ],
          [
           "s100_100_100_b0_4000_0_5000_-4000_0",
           0.4436260377612234,
           43
          ]
         ],
         "hovertemplate": "Cells: %{x}<br>Entropy number: %{y}<br>Snap Idx: %{customdata[2]:03d}<br>Mapped: %{customdata[0]}<br>Rel Error: %{customdata[1]:.3f}%<extra></extra>",
         "line": {
          "color": "rgb(69, 111, 229)"
         },
         "mode": "markers+lines",
         "name": "043",
         "opacity": 0.4,
         "type": "scatter",
         "x": {
          "bdata": "iIIBAM2DAQA=",
          "dtype": "i4"
         },
         "y": {
          "bdata": "PoXGFNag8D8P8Qp/uLPwPw==",
          "dtype": "f8"
         }
        },
        {
         "customdata": [
          [
           "Original Comsol Mesh",
           0,
           44
          ],
          [
           "s100_100_100_b0_4000_0_5000_-4000_0",
           0.19991010950073784,
           44
          ]
         ],
         "hovertemplate": "Cells: %{x}<br>Entropy number: %{y}<br>Snap Idx: %{customdata[2]:03d}<br>Mapped: %{customdata[0]}<br>Rel Error: %{customdata[1]:.3f}%<extra></extra>",
         "line": {
          "color": "rgb(70, 113, 232)"
         },
         "mode": "markers+lines",
         "name": "044",
         "opacity": 0.4,
         "type": "scatter",
         "x": {
          "bdata": "iIIBAM2DAQA=",
          "dtype": "i4"
         },
         "y": {
          "bdata": "y7r6+bx48z9q5O0DtILzPw==",
          "dtype": "f8"
         }
        },
        {
         "customdata": [
          [
           "Original Comsol Mesh",
           0,
           45
          ],
          [
           "s100_100_100_b0_4000_0_5000_-4000_0",
           0.34881237413170557,
           45
          ]
         ],
         "hovertemplate": "Cells: %{x}<br>Entropy number: %{y}<br>Snap Idx: %{customdata[2]:03d}<br>Mapped: %{customdata[0]}<br>Rel Error: %{customdata[1]:.3f}%<extra></extra>",
         "line": {
          "color": "rgb(70, 116, 235)"
         },
         "mode": "markers+lines",
         "name": "045",
         "opacity": 0.4,
         "type": "scatter",
         "x": {
          "bdata": "iIIBAM2DAQA=",
          "dtype": "i4"
         },
         "y": {
          "bdata": "Nj+AmJd08D85mUlFSYPwPw==",
          "dtype": "f8"
         }
        },
        {
         "customdata": [
          [
           "Original Comsol Mesh",
           0,
           46
          ],
          [
           "s100_100_100_b0_4000_0_5000_-4000_0",
           0.36440311099505557,
           46
          ]
         ],
         "hovertemplate": "Cells: %{x}<br>Entropy number: %{y}<br>Snap Idx: %{customdata[2]:03d}<br>Mapped: %{customdata[0]}<br>Rel Error: %{customdata[1]:.3f}%<extra></extra>",
         "line": {
          "color": "rgb(70, 118, 237)"
         },
         "mode": "markers+lines",
         "name": "046",
         "opacity": 0.4,
         "type": "scatter",
         "x": {
          "bdata": "iIIBAM2DAQA=",
          "dtype": "i4"
         },
         "y": {
          "bdata": "SPhKIZoq7z96k+wkrUfvPw==",
          "dtype": "f8"
         }
        },
        {
         "customdata": [
          [
           "Original Comsol Mesh",
           0,
           47
          ],
          [
           "s100_100_100_b0_4000_0_5000_-4000_0",
           0.3141954187176837,
           47
          ]
         ],
         "hovertemplate": "Cells: %{x}<br>Entropy number: %{y}<br>Snap Idx: %{customdata[2]:03d}<br>Mapped: %{customdata[0]}<br>Rel Error: %{customdata[1]:.3f}%<extra></extra>",
         "line": {
          "color": "rgb(69, 120, 238)"
         },
         "mode": "markers+lines",
         "name": "047",
         "opacity": 0.4,
         "type": "scatter",
         "x": {
          "bdata": "iIIBAM2DAQA=",
          "dtype": "i4"
         },
         "y": {
          "bdata": "HvxPDeez8D9YhCZVVsHwPw==",
          "dtype": "f8"
         }
        },
        {
         "customdata": [
          [
           "Original Comsol Mesh",
           0,
           48
          ],
          [
           "s100_100_100_b0_4000_0_5000_-4000_0",
           0.29605928243158064,
           48
          ]
         ],
         "hovertemplate": "Cells: %{x}<br>Entropy number: %{y}<br>Snap Idx: %{customdata[2]:03d}<br>Mapped: %{customdata[0]}<br>Rel Error: %{customdata[1]:.3f}%<extra></extra>",
         "line": {
          "color": "rgb(69, 122, 238)"
         },
         "mode": "markers+lines",
         "name": "048",
         "opacity": 0.4,
         "type": "scatter",
         "x": {
          "bdata": "iIIBAM2DAQA=",
          "dtype": "i4"
         },
         "y": {
          "bdata": "2bNx5w7H8T+gGWM0iNTxPw==",
          "dtype": "f8"
         }
        },
        {
         "customdata": [
          [
           "Original Comsol Mesh",
           0,
           49
          ],
          [
           "s100_100_100_b0_4000_0_5000_-4000_0",
           0.37350081775662386,
           49
          ]
         ],
         "hovertemplate": "Cells: %{x}<br>Entropy number: %{y}<br>Snap Idx: %{customdata[2]:03d}<br>Mapped: %{customdata[0]}<br>Rel Error: %{customdata[1]:.3f}%<extra></extra>",
         "line": {
          "color": "rgb(68, 123, 239)"
         },
         "mode": "markers+lines",
         "name": "049",
         "opacity": 0.4,
         "type": "scatter",
         "x": {
          "bdata": "iIIBAM2DAQA=",
          "dtype": "i4"
         },
         "y": {
          "bdata": "ZRZElnB48j+LCOu9GYryPw==",
          "dtype": "f8"
         }
        },
        {
         "customdata": [
          [
           "Original Comsol Mesh",
           0,
           50
          ],
          [
           "s100_100_100_b0_4000_0_5000_-4000_0",
           0.38353570695154293,
           50
          ]
         ],
         "hovertemplate": "Cells: %{x}<br>Entropy number: %{y}<br>Snap Idx: %{customdata[2]:03d}<br>Mapped: %{customdata[0]}<br>Rel Error: %{customdata[1]:.3f}%<extra></extra>",
         "line": {
          "color": "rgb(68, 125, 240)"
         },
         "mode": "markers+lines",
         "name": "050",
         "opacity": 0.4,
         "type": "scatter",
         "x": {
          "bdata": "iIIBAM2DAQA=",
          "dtype": "i4"
         },
         "y": {
          "bdata": "2YL/jmHj7z9QopVkWAHwPw==",
          "dtype": "f8"
         }
        },
        {
         "customdata": [
          [
           "Original Comsol Mesh",
           0,
           51
          ],
          [
           "s100_100_100_b0_4000_0_5000_-4000_0",
           0.3424565782087137,
           51
          ]
         ],
         "hovertemplate": "Cells: %{x}<br>Entropy number: %{y}<br>Snap Idx: %{customdata[2]:03d}<br>Mapped: %{customdata[0]}<br>Rel Error: %{customdata[1]:.3f}%<extra></extra>",
         "line": {
          "color": "rgb(67, 127, 240)"
         },
         "mode": "markers+lines",
         "name": "051",
         "opacity": 0.4,
         "type": "scatter",
         "x": {
          "bdata": "iIIBAM2DAQA=",
          "dtype": "i4"
         },
         "y": {
          "bdata": "wzMoKBj38j+RXlyQuAfzPw==",
          "dtype": "f8"
         }
        },
        {
         "customdata": [
          [
           "Original Comsol Mesh",
           0,
           52
          ],
          [
           "s100_100_100_b0_4000_0_5000_-4000_0",
           0.3644040944615252,
           52
          ]
         ],
         "hovertemplate": "Cells: %{x}<br>Entropy number: %{y}<br>Snap Idx: %{customdata[2]:03d}<br>Mapped: %{customdata[0]}<br>Rel Error: %{customdata[1]:.3f}%<extra></extra>",
         "line": {
          "color": "rgb(66, 129, 241)"
         },
         "mode": "markers+lines",
         "name": "052",
         "opacity": 0.4,
         "type": "scatter",
         "x": {
          "bdata": "iIIBAM2DAQA=",
          "dtype": "i4"
         },
         "y": {
          "bdata": "g78Q2QZh8j8UChwMLHLyPw==",
          "dtype": "f8"
         }
        },
        {
         "customdata": [
          [
           "Original Comsol Mesh",
           0,
           53
          ],
          [
           "s100_100_100_b0_4000_0_5000_-4000_0",
           0.41564944745386045,
           53
          ]
         ],
         "hovertemplate": "Cells: %{x}<br>Entropy number: %{y}<br>Snap Idx: %{customdata[2]:03d}<br>Mapped: %{customdata[0]}<br>Rel Error: %{customdata[1]:.3f}%<extra></extra>",
         "line": {
          "color": "rgb(66, 131, 242)"
         },
         "mode": "markers+lines",
         "name": "053",
         "opacity": 0.4,
         "type": "scatter",
         "x": {
          "bdata": "iIIBAM2DAQA=",
          "dtype": "i4"
         },
         "y": {
          "bdata": "7vKpQFxR8T92lx+gyWPxPw==",
          "dtype": "f8"
         }
        },
        {
         "customdata": [
          [
           "Original Comsol Mesh",
           0,
           54
          ],
          [
           "s100_100_100_b0_4000_0_5000_-4000_0",
           0.35399501657665555,
           54
          ]
         ],
         "hovertemplate": "Cells: %{x}<br>Entropy number: %{y}<br>Snap Idx: %{customdata[2]:03d}<br>Mapped: %{customdata[0]}<br>Rel Error: %{customdata[1]:.3f}%<extra></extra>",
         "line": {
          "color": "rgb(65, 133, 242)"
         },
         "mode": "markers+lines",
         "name": "054",
         "opacity": 0.4,
         "type": "scatter",
         "x": {
          "bdata": "iIIBAM2DAQA=",
          "dtype": "i4"
         },
         "y": {
          "bdata": "O4SuGX3j7z9BOL+JMQDwPw==",
          "dtype": "f8"
         }
        },
        {
         "customdata": [
          [
           "Original Comsol Mesh",
           0,
           55
          ],
          [
           "s100_100_100_b0_4000_0_5000_-4000_0",
           0.3814421612841155,
           55
          ]
         ],
         "hovertemplate": "Cells: %{x}<br>Entropy number: %{y}<br>Snap Idx: %{customdata[2]:03d}<br>Mapped: %{customdata[0]}<br>Rel Error: %{customdata[1]:.3f}%<extra></extra>",
         "line": {
          "color": "rgb(65, 135, 243)"
         },
         "mode": "markers+lines",
         "name": "055",
         "opacity": 0.4,
         "type": "scatter",
         "x": {
          "bdata": "iIIBAM2DAQA=",
          "dtype": "i4"
         },
         "y": {
          "bdata": "xew+hteC7z9Baf26nKHvPw==",
          "dtype": "f8"
         }
        },
        {
         "customdata": [
          [
           "Original Comsol Mesh",
           0,
           56
          ],
          [
           "s100_100_100_b0_4000_0_5000_-4000_0",
           0.38018235810904577,
           56
          ]
         ],
         "hovertemplate": "Cells: %{x}<br>Entropy number: %{y}<br>Snap Idx: %{customdata[2]:03d}<br>Mapped: %{customdata[0]}<br>Rel Error: %{customdata[1]:.3f}%<extra></extra>",
         "line": {
          "color": "rgb(64, 137, 244)"
         },
         "mode": "markers+lines",
         "name": "056",
         "opacity": 0.4,
         "type": "scatter",
         "x": {
          "bdata": "iIIBAM2DAQA=",
          "dtype": "i4"
         },
         "y": {
          "bdata": "hlo5PF1S8T962QsOOWPxPw==",
          "dtype": "f8"
         }
        },
        {
         "customdata": [
          [
           "Original Comsol Mesh",
           0,
           57
          ],
          [
           "s100_100_100_b0_4000_0_5000_-4000_0",
           0.340648053802817,
           57
          ]
         ],
         "hovertemplate": "Cells: %{x}<br>Entropy number: %{y}<br>Snap Idx: %{customdata[2]:03d}<br>Mapped: %{customdata[0]}<br>Rel Error: %{customdata[1]:.3f}%<extra></extra>",
         "line": {
          "color": "rgb(64, 139, 244)"
         },
         "mode": "markers+lines",
         "name": "057",
         "opacity": 0.4,
         "type": "scatter",
         "x": {
          "bdata": "iIIBAM2DAQA=",
          "dtype": "i4"
         },
         "y": {
          "bdata": "8GRbSiRZ8D/sVif7ZWfwPw==",
          "dtype": "f8"
         }
        },
        {
         "customdata": [
          [
           "Original Comsol Mesh",
           0,
           58
          ],
          [
           "s100_100_100_b0_4000_0_5000_-4000_0",
           0.38247175214014634,
           58
          ]
         ],
         "hovertemplate": "Cells: %{x}<br>Entropy number: %{y}<br>Snap Idx: %{customdata[2]:03d}<br>Mapped: %{customdata[0]}<br>Rel Error: %{customdata[1]:.3f}%<extra></extra>",
         "line": {
          "color": "rgb(63, 141, 245)"
         },
         "mode": "markers+lines",
         "name": "058",
         "opacity": 0.4,
         "type": "scatter",
         "x": {
          "bdata": "iIIBAM2DAQA=",
          "dtype": "i4"
         },
         "y": {
          "bdata": "jM/FkXlX8j+t0fMJb2nyPw==",
          "dtype": "f8"
         }
        },
        {
         "customdata": [
          [
           "Original Comsol Mesh",
           0,
           59
          ],
          [
           "s100_100_100_b0_4000_0_5000_-4000_0",
           0.23020251715101053,
           59
          ]
         ],
         "hovertemplate": "Cells: %{x}<br>Entropy number: %{y}<br>Snap Idx: %{customdata[2]:03d}<br>Mapped: %{customdata[0]}<br>Rel Error: %{customdata[1]:.3f}%<extra></extra>",
         "line": {
          "color": "rgb(62, 143, 246)"
         },
         "mode": "markers+lines",
         "name": "059",
         "opacity": 0.4,
         "type": "scatter",
         "x": {
          "bdata": "iIIBAM2DAQA=",
          "dtype": "i4"
         },
         "y": {
          "bdata": "2ijDpUdk9D8vLQIOTHD0Pw==",
          "dtype": "f8"
         }
        },
        {
         "customdata": [
          [
           "Original Comsol Mesh",
           0,
           60
          ],
          [
           "s100_100_100_b0_4000_0_5000_-4000_0",
           0.23950308212734214,
           60
          ]
         ],
         "hovertemplate": "Cells: %{x}<br>Entropy number: %{y}<br>Snap Idx: %{customdata[2]:03d}<br>Mapped: %{customdata[0]}<br>Rel Error: %{customdata[1]:.3f}%<extra></extra>",
         "line": {
          "color": "rgb(62, 145, 246)"
         },
         "mode": "markers+lines",
         "name": "060",
         "opacity": 0.4,
         "type": "scatter",
         "x": {
          "bdata": "iIIBAM2DAQA=",
          "dtype": "i4"
         },
         "y": {
          "bdata": "fIKxkY9E9D9BygnS/FD0Pw==",
          "dtype": "f8"
         }
        },
        {
         "customdata": [
          [
           "Original Comsol Mesh",
           0,
           61
          ],
          [
           "s100_100_100_b0_4000_0_5000_-4000_0",
           0.3385846995006014,
           61
          ]
         ],
         "hovertemplate": "Cells: %{x}<br>Entropy number: %{y}<br>Snap Idx: %{customdata[2]:03d}<br>Mapped: %{customdata[0]}<br>Rel Error: %{customdata[1]:.3f}%<extra></extra>",
         "line": {
          "color": "rgb(61, 147, 247)"
         },
         "mode": "markers+lines",
         "name": "061",
         "opacity": 0.4,
         "type": "scatter",
         "x": {
          "bdata": "iIIBAM2DAQA=",
          "dtype": "i4"
         },
         "y": {
          "bdata": "aIdE/lSh8T956noLnbDxPw==",
          "dtype": "f8"
         }
        },
        {
         "customdata": [
          [
           "Original Comsol Mesh",
           0,
           62
          ],
          [
           "s100_100_100_b0_4000_0_5000_-4000_0",
           0.41634139065111303,
           62
          ]
         ],
         "hovertemplate": "Cells: %{x}<br>Entropy number: %{y}<br>Snap Idx: %{customdata[2]:03d}<br>Mapped: %{customdata[0]}<br>Rel Error: %{customdata[1]:.3f}%<extra></extra>",
         "line": {
          "color": "rgb(61, 149, 248)"
         },
         "mode": "markers+lines",
         "name": "062",
         "opacity": 0.4,
         "type": "scatter",
         "x": {
          "bdata": "iIIBAM2DAQA=",
          "dtype": "i4"
         },
         "y": {
          "bdata": "5gZgtsJa8T9XJCD1QW3xPw==",
          "dtype": "f8"
         }
        },
        {
         "customdata": [
          [
           "Original Comsol Mesh",
           0,
           63
          ],
          [
           "s100_100_100_b0_4000_0_5000_-4000_0",
           0.38845615247195286,
           63
          ]
         ],
         "hovertemplate": "Cells: %{x}<br>Entropy number: %{y}<br>Snap Idx: %{customdata[2]:03d}<br>Mapped: %{customdata[0]}<br>Rel Error: %{customdata[1]:.3f}%<extra></extra>",
         "line": {
          "color": "rgb(60, 151, 248)"
         },
         "mode": "markers+lines",
         "name": "063",
         "opacity": 0.4,
         "type": "scatter",
         "x": {
          "bdata": "iIIBAM2DAQA=",
          "dtype": "i4"
         },
         "y": {
          "bdata": "Jq4z5XwR8T8DkWkfdiLxPw==",
          "dtype": "f8"
         }
        },
        {
         "customdata": [
          [
           "Original Comsol Mesh",
           0,
           64
          ],
          [
           "s100_100_100_b0_4000_0_5000_-4000_0",
           0.08209554344336834,
           64
          ]
         ],
         "hovertemplate": "Cells: %{x}<br>Entropy number: %{y}<br>Snap Idx: %{customdata[2]:03d}<br>Mapped: %{customdata[0]}<br>Rel Error: %{customdata[1]:.3f}%<extra></extra>",
         "line": {
          "color": "rgb(60, 153, 249)"
         },
         "mode": "markers+lines",
         "name": "064",
         "opacity": 0.4,
         "type": "scatter",
         "x": {
          "bdata": "iIIBAM2DAQA=",
          "dtype": "i4"
         },
         "y": {
          "bdata": "FhSDmrOs9j/oFtqLd7H2Pw==",
          "dtype": "f8"
         }
        },
        {
         "customdata": [
          [
           "Original Comsol Mesh",
           0,
           65
          ],
          [
           "s100_100_100_b0_4000_0_5000_-4000_0",
           0.4176440426256262,
           65
          ]
         ],
         "hovertemplate": "Cells: %{x}<br>Entropy number: %{y}<br>Snap Idx: %{customdata[2]:03d}<br>Mapped: %{customdata[0]}<br>Rel Error: %{customdata[1]:.3f}%<extra></extra>",
         "line": {
          "color": "rgb(59, 155, 250)"
         },
         "mode": "markers+lines",
         "name": "065",
         "opacity": 0.4,
         "type": "scatter",
         "x": {
          "bdata": "iIIBAM2DAQA=",
          "dtype": "i4"
         },
         "y": {
          "bdata": "13g59tIC8D+HCeJL8RPwPw==",
          "dtype": "f8"
         }
        },
        {
         "customdata": [
          [
           "Original Comsol Mesh",
           0,
           66
          ],
          [
           "s100_100_100_b0_4000_0_5000_-4000_0",
           0.42164374094033663,
           66
          ]
         ],
         "hovertemplate": "Cells: %{x}<br>Entropy number: %{y}<br>Snap Idx: %{customdata[2]:03d}<br>Mapped: %{customdata[0]}<br>Rel Error: %{customdata[1]:.3f}%<extra></extra>",
         "line": {
          "color": "rgb(58, 157, 250)"
         },
         "mode": "markers+lines",
         "name": "066",
         "opacity": 0.4,
         "type": "scatter",
         "x": {
          "bdata": "iIIBAM2DAQA=",
          "dtype": "i4"
         },
         "y": {
          "bdata": "ZShImWnr7T+Pw806tQvuPw==",
          "dtype": "f8"
         }
        },
        {
         "customdata": [
          [
           "Original Comsol Mesh",
           0,
           67
          ],
          [
           "s100_100_100_b0_4000_0_5000_-4000_0",
           0.3016606565987697,
           67
          ]
         ],
         "hovertemplate": "Cells: %{x}<br>Entropy number: %{y}<br>Snap Idx: %{customdata[2]:03d}<br>Mapped: %{customdata[0]}<br>Rel Error: %{customdata[1]:.3f}%<extra></extra>",
         "line": {
          "color": "rgb(58, 159, 251)"
         },
         "mode": "markers+lines",
         "name": "067",
         "opacity": 0.4,
         "type": "scatter",
         "x": {
          "bdata": "iIIBAM2DAQA=",
          "dtype": "i4"
         },
         "y": {
          "bdata": "OspowtD/8D8nx1h08QzxPw==",
          "dtype": "f8"
         }
        },
        {
         "customdata": [
          [
           "Original Comsol Mesh",
           0,
           68
          ],
          [
           "s100_100_100_b0_4000_0_5000_-4000_0",
           0.3587844422254824,
           68
          ]
         ],
         "hovertemplate": "Cells: %{x}<br>Entropy number: %{y}<br>Snap Idx: %{customdata[2]:03d}<br>Mapped: %{customdata[0]}<br>Rel Error: %{customdata[1]:.3f}%<extra></extra>",
         "line": {
          "color": "rgb(57, 161, 252)"
         },
         "mode": "markers+lines",
         "name": "068",
         "opacity": 0.4,
         "type": "scatter",
         "x": {
          "bdata": "iIIBAM2DAQA=",
          "dtype": "i4"
         },
         "y": {
          "bdata": "RO5MwkHz8T8CurRyvgPyPw==",
          "dtype": "f8"
         }
        },
        {
         "customdata": [
          [
           "Original Comsol Mesh",
           0,
           69
          ],
          [
           "s100_100_100_b0_4000_0_5000_-4000_0",
           0.3486715539508335,
           69
          ]
         ],
         "hovertemplate": "Cells: %{x}<br>Entropy number: %{y}<br>Snap Idx: %{customdata[2]:03d}<br>Mapped: %{customdata[0]}<br>Rel Error: %{customdata[1]:.3f}%<extra></extra>",
         "line": {
          "color": "rgb(56, 163, 251)"
         },
         "mode": "markers+lines",
         "name": "069",
         "opacity": 0.4,
         "type": "scatter",
         "x": {
          "bdata": "iIIBAM2DAQA=",
          "dtype": "i4"
         },
         "y": {
          "bdata": "5ytYOp4Y8j/hCotMxSjyPw==",
          "dtype": "f8"
         }
        },
        {
         "customdata": [
          [
           "Original Comsol Mesh",
           0,
           70
          ],
          [
           "s100_100_100_b0_4000_0_5000_-4000_0",
           0.3480948859677198,
           70
          ]
         ],
         "hovertemplate": "Cells: %{x}<br>Entropy number: %{y}<br>Snap Idx: %{customdata[2]:03d}<br>Mapped: %{customdata[0]}<br>Rel Error: %{customdata[1]:.3f}%<extra></extra>",
         "line": {
          "color": "rgb(55, 165, 250)"
         },
         "mode": "markers+lines",
         "name": "070",
         "opacity": 0.4,
         "type": "scatter",
         "x": {
          "bdata": "iIIBAM2DAQA=",
          "dtype": "i4"
         },
         "y": {
          "bdata": "XnVAuFai8D/m/0VsKbHwPw==",
          "dtype": "f8"
         }
        },
        {
         "customdata": [
          [
           "Original Comsol Mesh",
           0,
           71
          ],
          [
           "s100_100_100_b0_4000_0_5000_-4000_0",
           0.34624206939791047,
           71
          ]
         ],
         "hovertemplate": "Cells: %{x}<br>Entropy number: %{y}<br>Snap Idx: %{customdata[2]:03d}<br>Mapped: %{customdata[0]}<br>Rel Error: %{customdata[1]:.3f}%<extra></extra>",
         "line": {
          "color": "rgb(54, 167, 248)"
         },
         "mode": "markers+lines",
         "name": "071",
         "opacity": 0.4,
         "type": "scatter",
         "x": {
          "bdata": "iIIBAM2DAQA=",
          "dtype": "i4"
         },
         "y": {
          "bdata": "Qu4DMUUi8j9Vhm4BWDLyPw==",
          "dtype": "f8"
         }
        },
        {
         "customdata": [
          [
           "Original Comsol Mesh",
           0,
           72
          ],
          [
           "s100_100_100_b0_4000_0_5000_-4000_0",
           0.42181268174913455,
           72
          ]
         ],
         "hovertemplate": "Cells: %{x}<br>Entropy number: %{y}<br>Snap Idx: %{customdata[2]:03d}<br>Mapped: %{customdata[0]}<br>Rel Error: %{customdata[1]:.3f}%<extra></extra>",
         "line": {
          "color": "rgb(52, 169, 246)"
         },
         "mode": "markers+lines",
         "name": "072",
         "opacity": 0.4,
         "type": "scatter",
         "x": {
          "bdata": "iIIBAM2DAQA=",
          "dtype": "i4"
         },
         "y": {
          "bdata": "MDTvGuDs7T9iHOSgMA3uPw==",
          "dtype": "f8"
         }
        },
        {
         "customdata": [
          [
           "Original Comsol Mesh",
           0,
           73
          ],
          [
           "s100_100_100_b0_4000_0_5000_-4000_0",
           0.270464311348654,
           73
          ]
         ],
         "hovertemplate": "Cells: %{x}<br>Entropy number: %{y}<br>Snap Idx: %{customdata[2]:03d}<br>Mapped: %{customdata[0]}<br>Rel Error: %{customdata[1]:.3f}%<extra></extra>",
         "line": {
          "color": "rgb(51, 171, 244)"
         },
         "mode": "markers+lines",
         "name": "073",
         "opacity": 0.4,
         "type": "scatter",
         "x": {
          "bdata": "iIIBAM2DAQA=",
          "dtype": "i4"
         },
         "y": {
          "bdata": "Jjulfb698T8FZI8kB8rxPw==",
          "dtype": "f8"
         }
        },
        {
         "customdata": [
          [
           "Original Comsol Mesh",
           0,
           74
          ],
          [
           "s100_100_100_b0_4000_0_5000_-4000_0",
           0.4221806429286057,
           74
          ]
         ],
         "hovertemplate": "Cells: %{x}<br>Entropy number: %{y}<br>Snap Idx: %{customdata[2]:03d}<br>Mapped: %{customdata[0]}<br>Rel Error: %{customdata[1]:.3f}%<extra></extra>",
         "line": {
          "color": "rgb(50, 173, 242)"
         },
         "mode": "markers+lines",
         "name": "074",
         "opacity": 0.4,
         "type": "scatter",
         "x": {
          "bdata": "iIIBAM2DAQA=",
          "dtype": "i4"
         },
         "y": {
          "bdata": "R03iIWLw7T+3X8+pvRDuPw==",
          "dtype": "f8"
         }
        },
        {
         "customdata": [
          [
           "Original Comsol Mesh",
           0,
           75
          ],
          [
           "s100_100_100_b0_4000_0_5000_-4000_0",
           0.34240858047828626,
           75
          ]
         ],
         "hovertemplate": "Cells: %{x}<br>Entropy number: %{y}<br>Snap Idx: %{customdata[2]:03d}<br>Mapped: %{customdata[0]}<br>Rel Error: %{customdata[1]:.3f}%<extra></extra>",
         "line": {
          "color": "rgb(49, 175, 241)"
         },
         "mode": "markers+lines",
         "name": "075",
         "opacity": 0.4,
         "type": "scatter",
         "x": {
          "bdata": "iIIBAM2DAQA=",
          "dtype": "i4"
         },
         "y": {
          "bdata": "afSNJDQM8D9GLBtBRRrwPw==",
          "dtype": "f8"
         }
        },
        {
         "customdata": [
          [
           "Original Comsol Mesh",
           0,
           76
          ],
          [
           "s100_100_100_b0_4000_0_5000_-4000_0",
           0.431229269272658,
           76
          ]
         ],
         "hovertemplate": "Cells: %{x}<br>Entropy number: %{y}<br>Snap Idx: %{customdata[2]:03d}<br>Mapped: %{customdata[0]}<br>Rel Error: %{customdata[1]:.3f}%<extra></extra>",
         "line": {
          "color": "rgb(47, 177, 239)"
         },
         "mode": "markers+lines",
         "name": "076",
         "opacity": 0.4,
         "type": "scatter",
         "x": {
          "bdata": "iIIBAM2DAQA=",
          "dtype": "i4"
         },
         "y": {
          "bdata": "y0kKr8Um8D8PQrlAmjjwPw==",
          "dtype": "f8"
         }
        },
        {
         "customdata": [
          [
           "Original Comsol Mesh",
           0,
           77
          ],
          [
           "s100_100_100_b0_4000_0_5000_-4000_0",
           0.4399369102674742,
           77
          ]
         ],
         "hovertemplate": "Cells: %{x}<br>Entropy number: %{y}<br>Snap Idx: %{customdata[2]:03d}<br>Mapped: %{customdata[0]}<br>Rel Error: %{customdata[1]:.3f}%<extra></extra>",
         "line": {
          "color": "rgb(46, 179, 237)"
         },
         "mode": "markers+lines",
         "name": "077",
         "opacity": 0.4,
         "type": "scatter",
         "x": {
          "bdata": "iIIBAM2DAQA=",
          "dtype": "i4"
         },
         "y": {
          "bdata": "a5uVvJ+h7j9oqIBGH8TuPw==",
          "dtype": "f8"
         }
        },
        {
         "customdata": [
          [
           "Original Comsol Mesh",
           0,
           78
          ],
          [
           "s100_100_100_b0_4000_0_5000_-4000_0",
           0.26475801373712926,
           78
          ]
         ],
         "hovertemplate": "Cells: %{x}<br>Entropy number: %{y}<br>Snap Idx: %{customdata[2]:03d}<br>Mapped: %{customdata[0]}<br>Rel Error: %{customdata[1]:.3f}%<extra></extra>",
         "line": {
          "color": "rgb(45, 181, 236)"
         },
         "mode": "markers+lines",
         "name": "078",
         "opacity": 0.4,
         "type": "scatter",
         "x": {
          "bdata": "iIIBAM2DAQA=",
          "dtype": "i4"
         },
         "y": {
          "bdata": "zj0b5s2I8z+eVbhYC5bzPw==",
          "dtype": "f8"
         }
        },
        {
         "customdata": [
          [
           "Original Comsol Mesh",
           0,
           79
          ],
          [
           "s100_100_100_b0_4000_0_5000_-4000_0",
           0.4216999570676852,
           79
          ]
         ],
         "hovertemplate": "Cells: %{x}<br>Entropy number: %{y}<br>Snap Idx: %{customdata[2]:03d}<br>Mapped: %{customdata[0]}<br>Rel Error: %{customdata[1]:.3f}%<extra></extra>",
         "line": {
          "color": "rgb(43, 183, 234)"
         },
         "mode": "markers+lines",
         "name": "079",
         "opacity": 0.4,
         "type": "scatter",
         "x": {
          "bdata": "iIIBAM2DAQA=",
          "dtype": "i4"
         },
         "y": {
          "bdata": "0Wj2u+Xr7T//ga79MgzuPw==",
          "dtype": "f8"
         }
        },
        {
         "customdata": [
          [
           "Original Comsol Mesh",
           0,
           80
          ],
          [
           "s100_100_100_b0_4000_0_5000_-4000_0",
           0.4207155035066649,
           80
          ]
         ],
         "hovertemplate": "Cells: %{x}<br>Entropy number: %{y}<br>Snap Idx: %{customdata[2]:03d}<br>Mapped: %{customdata[0]}<br>Rel Error: %{customdata[1]:.3f}%<extra></extra>",
         "line": {
          "color": "rgb(42, 184, 232)"
         },
         "mode": "markers+lines",
         "name": "080",
         "opacity": 0.4,
         "type": "scatter",
         "x": {
          "bdata": "iIIBAM2DAQA=",
          "dtype": "i4"
         },
         "y": {
          "bdata": "XZOzMkjx7T/7Vx/zhxHuPw==",
          "dtype": "f8"
         }
        },
        {
         "customdata": [
          [
           "Original Comsol Mesh",
           0,
           81
          ],
          [
           "s100_100_100_b0_4000_0_5000_-4000_0",
           0.2838986648677591,
           81
          ]
         ],
         "hovertemplate": "Cells: %{x}<br>Entropy number: %{y}<br>Snap Idx: %{customdata[2]:03d}<br>Mapped: %{customdata[0]}<br>Rel Error: %{customdata[1]:.3f}%<extra></extra>",
         "line": {
          "color": "rgb(41, 186, 230)"
         },
         "mode": "markers+lines",
         "name": "081",
         "opacity": 0.4,
         "type": "scatter",
         "x": {
          "bdata": "iIIBAM2DAQA=",
          "dtype": "i4"
         },
         "y": {
          "bdata": "3zEo+X5q8T8fDlNSJ3fxPw==",
          "dtype": "f8"
         }
        },
        {
         "customdata": [
          [
           "Original Comsol Mesh",
           0,
           82
          ],
          [
           "s100_100_100_b0_4000_0_5000_-4000_0",
           0.37091773326584077,
           82
          ]
         ],
         "hovertemplate": "Cells: %{x}<br>Entropy number: %{y}<br>Snap Idx: %{customdata[2]:03d}<br>Mapped: %{customdata[0]}<br>Rel Error: %{customdata[1]:.3f}%<extra></extra>",
         "line": {
          "color": "rgb(39, 188, 228)"
         },
         "mode": "markers+lines",
         "name": "082",
         "opacity": 0.4,
         "type": "scatter",
         "x": {
          "bdata": "iIIBAM2DAQA=",
          "dtype": "i4"
         },
         "y": {
          "bdata": "/pght60n8j+6VW7q6jjyPw==",
          "dtype": "f8"
         }
        },
        {
         "customdata": [
          [
           "Original Comsol Mesh",
           0,
           83
          ],
          [
           "s100_100_100_b0_4000_0_5000_-4000_0",
           0.3990042589685605,
           83
          ]
         ],
         "hovertemplate": "Cells: %{x}<br>Entropy number: %{y}<br>Snap Idx: %{customdata[2]:03d}<br>Mapped: %{customdata[0]}<br>Rel Error: %{customdata[1]:.3f}%<extra></extra>",
         "line": {
          "color": "rgb(38, 190, 227)"
         },
         "mode": "markers+lines",
         "name": "083",
         "opacity": 0.4,
         "type": "scatter",
         "x": {
          "bdata": "iIIBAM2DAQA=",
          "dtype": "i4"
         },
         "y": {
          "bdata": "P9ps+5DJ8D+ybzK8ttrwPw==",
          "dtype": "f8"
         }
        },
        {
         "customdata": [
          [
           "Original Comsol Mesh",
           0,
           84
          ],
          [
           "s100_100_100_b0_4000_0_5000_-4000_0",
           0.39350293846044154,
           84
          ]
         ],
         "hovertemplate": "Cells: %{x}<br>Entropy number: %{y}<br>Snap Idx: %{customdata[2]:03d}<br>Mapped: %{customdata[0]}<br>Rel Error: %{customdata[1]:.3f}%<extra></extra>",
         "line": {
          "color": "rgb(37, 192, 225)"
         },
         "mode": "markers+lines",
         "name": "084",
         "opacity": 0.4,
         "type": "scatter",
         "x": {
          "bdata": "iIIBAM2DAQA=",
          "dtype": "i4"
         },
         "y": {
          "bdata": "E88B/8na8D/muBCTxOvwPw==",
          "dtype": "f8"
         }
        },
        {
         "customdata": [
          [
           "Original Comsol Mesh",
           0,
           85
          ],
          [
           "s100_100_100_b0_4000_0_5000_-4000_0",
           0.3423270144623002,
           85
          ]
         ],
         "hovertemplate": "Cells: %{x}<br>Entropy number: %{y}<br>Snap Idx: %{customdata[2]:03d}<br>Mapped: %{customdata[0]}<br>Rel Error: %{customdata[1]:.3f}%<extra></extra>",
         "line": {
          "color": "rgb(35, 194, 223)"
         },
         "mode": "markers+lines",
         "name": "085",
         "opacity": 0.4,
         "type": "scatter",
         "x": {
          "bdata": "iIIBAM2DAQA=",
          "dtype": "i4"
         },
         "y": {
          "bdata": "k+LuQPuo8D9xbJLmlLfwPw==",
          "dtype": "f8"
         }
        },
        {
         "customdata": [
          [
           "Original Comsol Mesh",
           0,
           86
          ],
          [
           "s100_100_100_b0_4000_0_5000_-4000_0",
           0.37132651345287215,
           86
          ]
         ],
         "hovertemplate": "Cells: %{x}<br>Entropy number: %{y}<br>Snap Idx: %{customdata[2]:03d}<br>Mapped: %{customdata[0]}<br>Rel Error: %{customdata[1]:.3f}%<extra></extra>",
         "line": {
          "color": "rgb(34, 196, 222)"
         },
         "mode": "markers+lines",
         "name": "086",
         "opacity": 0.4,
         "type": "scatter",
         "x": {
          "bdata": "iIIBAM2DAQA=",
          "dtype": "i4"
         },
         "y": {
          "bdata": "VgPfYZ2a8T+obQpaWavxPw==",
          "dtype": "f8"
         }
        },
        {
         "customdata": [
          [
           "Original Comsol Mesh",
           0,
           87
          ],
          [
           "s100_100_100_b0_4000_0_5000_-4000_0",
           0.42186907460202655,
           87
          ]
         ],
         "hovertemplate": "Cells: %{x}<br>Entropy number: %{y}<br>Snap Idx: %{customdata[2]:03d}<br>Mapped: %{customdata[0]}<br>Rel Error: %{customdata[1]:.3f}%<extra></extra>",
         "line": {
          "color": "rgb(33, 198, 220)"
         },
         "mode": "markers+lines",
         "name": "087",
         "opacity": 0.4,
         "type": "scatter",
         "x": {
          "bdata": "iIIBAM2DAQA=",
          "dtype": "i4"
         },
         "y": {
          "bdata": "cD9NV17t7T/VCbiAsA3uPw==",
          "dtype": "f8"
         }
        },
        {
         "customdata": [
          [
           "Original Comsol Mesh",
           0,
           88
          ],
          [
           "s100_100_100_b0_4000_0_5000_-4000_0",
           0.44363030329057684,
           88
          ]
         ],
         "hovertemplate": "Cells: %{x}<br>Entropy number: %{y}<br>Snap Idx: %{customdata[2]:03d}<br>Mapped: %{customdata[0]}<br>Rel Error: %{customdata[1]:.3f}%<extra></extra>",
         "line": {
          "color": "rgb(31, 200, 218)"
         },
         "mode": "markers+lines",
         "name": "088",
         "opacity": 0.4,
         "type": "scatter",
         "x": {
          "bdata": "iIIBAM2DAQA=",
          "dtype": "i4"
         },
         "y": {
          "bdata": "5RohgTQ+8D+ip4PzplDwPw==",
          "dtype": "f8"
         }
        },
        {
         "customdata": [
          [
           "Original Comsol Mesh",
           0,
           89
          ],
          [
           "s100_100_100_b0_4000_0_5000_-4000_0",
           0.3743032949891802,
           89
          ]
         ],
         "hovertemplate": "Cells: %{x}<br>Entropy number: %{y}<br>Snap Idx: %{customdata[2]:03d}<br>Mapped: %{customdata[0]}<br>Rel Error: %{customdata[1]:.3f}%<extra></extra>",
         "line": {
          "color": "rgb(30, 202, 216)"
         },
         "mode": "markers+lines",
         "name": "089",
         "opacity": 0.4,
         "type": "scatter",
         "x": {
          "bdata": "iIIBAM2DAQA=",
          "dtype": "i4"
         },
         "y": {
          "bdata": "kMLwTJyV8D8dtqyDgKXwPw==",
          "dtype": "f8"
         }
        },
        {
         "customdata": [
          [
           "Original Comsol Mesh",
           0,
           90
          ],
          [
           "s100_100_100_b0_4000_0_5000_-4000_0",
           0.3958904905038453,
           90
          ]
         ],
         "hovertemplate": "Cells: %{x}<br>Entropy number: %{y}<br>Snap Idx: %{customdata[2]:03d}<br>Mapped: %{customdata[0]}<br>Rel Error: %{customdata[1]:.3f}%<extra></extra>",
         "line": {
          "color": "rgb(29, 204, 214)"
         },
         "mode": "markers+lines",
         "name": "090",
         "opacity": 0.4,
         "type": "scatter",
         "x": {
          "bdata": "iIIBAM2DAQA=",
          "dtype": "i4"
         },
         "y": {
          "bdata": "iBHzUPao8D+TLsPE2LnwPw==",
          "dtype": "f8"
         }
        },
        {
         "customdata": [
          [
           "Original Comsol Mesh",
           0,
           91
          ],
          [
           "s100_100_100_b0_4000_0_5000_-4000_0",
           0.4221388216694815,
           91
          ]
         ],
         "hovertemplate": "Cells: %{x}<br>Entropy number: %{y}<br>Snap Idx: %{customdata[2]:03d}<br>Mapped: %{customdata[0]}<br>Rel Error: %{customdata[1]:.3f}%<extra></extra>",
         "line": {
          "color": "rgb(28, 206, 213)"
         },
         "mode": "markers+lines",
         "name": "091",
         "opacity": 0.4,
         "type": "scatter",
         "x": {
          "bdata": "iIIBAM2DAQA=",
          "dtype": "i4"
         },
         "y": {
          "bdata": "qoii99/v7T/rXNQgOhDuPw==",
          "dtype": "f8"
         }
        },
        {
         "customdata": [
          [
           "Original Comsol Mesh",
           0,
           92
          ],
          [
           "s100_100_100_b0_4000_0_5000_-4000_0",
           0.4377553354364033,
           92
          ]
         ],
         "hovertemplate": "Cells: %{x}<br>Entropy number: %{y}<br>Snap Idx: %{customdata[2]:03d}<br>Mapped: %{customdata[0]}<br>Rel Error: %{customdata[1]:.3f}%<extra></extra>",
         "line": {
          "color": "rgb(27, 208, 211)"
         },
         "mode": "markers+lines",
         "name": "092",
         "opacity": 0.4,
         "type": "scatter",
         "x": {
          "bdata": "iIIBAM2DAQA=",
          "dtype": "i4"
         },
         "y": {
          "bdata": "vvrKy/x78D87UsPwdY7wPw==",
          "dtype": "f8"
         }
        },
        {
         "customdata": [
          [
           "Original Comsol Mesh",
           0,
           93
          ],
          [
           "s100_100_100_b0_4000_0_5000_-4000_0",
           0.4220378290380116,
           93
          ]
         ],
         "hovertemplate": "Cells: %{x}<br>Entropy number: %{y}<br>Snap Idx: %{customdata[2]:03d}<br>Mapped: %{customdata[0]}<br>Rel Error: %{customdata[1]:.3f}%<extra></extra>",
         "line": {
          "color": "rgb(28, 209, 209)"
         },
         "mode": "markers+lines",
         "name": "093",
         "opacity": 0.4,
         "type": "scatter",
         "x": {
          "bdata": "iIIBAM2DAQA=",
          "dtype": "i4"
         },
         "y": {
          "bdata": "CLppLt3u7T9t/MNENA/uPw==",
          "dtype": "f8"
         }
        },
        {
         "customdata": [
          [
           "Original Comsol Mesh",
           0,
           94
          ],
          [
           "s100_100_100_b0_4000_0_5000_-4000_0",
           0.3618547160984098,
           94
          ]
         ],
         "hovertemplate": "Cells: %{x}<br>Entropy number: %{y}<br>Snap Idx: %{customdata[2]:03d}<br>Mapped: %{customdata[0]}<br>Rel Error: %{customdata[1]:.3f}%<extra></extra>",
         "line": {
          "color": "rgb(28, 210, 207)"
         },
         "mode": "markers+lines",
         "name": "094",
         "opacity": 0.4,
         "type": "scatter",
         "x": {
          "bdata": "iIIBAM2DAQA=",
          "dtype": "i4"
         },
         "y": {
          "bdata": "+i2kkvAl8D+bvjgK5jTwPw==",
          "dtype": "f8"
         }
        },
        {
         "customdata": [
          [
           "Original Comsol Mesh",
           0,
           95
          ],
          [
           "s100_100_100_b0_4000_0_5000_-4000_0",
           0.36715527976608475,
           95
          ]
         ],
         "hovertemplate": "Cells: %{x}<br>Entropy number: %{y}<br>Snap Idx: %{customdata[2]:03d}<br>Mapped: %{customdata[0]}<br>Rel Error: %{customdata[1]:.3f}%<extra></extra>",
         "line": {
          "color": "rgb(28, 212, 205)"
         },
         "mode": "markers+lines",
         "name": "095",
         "opacity": 0.4,
         "type": "scatter",
         "x": {
          "bdata": "iIIBAM2DAQA=",
          "dtype": "i4"
         },
         "y": {
          "bdata": "HZtYR5HX8D/V2efLZefwPw==",
          "dtype": "f8"
         }
        },
        {
         "customdata": [
          [
           "Original Comsol Mesh",
           0,
           96
          ],
          [
           "s100_100_100_b0_4000_0_5000_-4000_0",
           0.3650056686239537,
           96
          ]
         ],
         "hovertemplate": "Cells: %{x}<br>Entropy number: %{y}<br>Snap Idx: %{customdata[2]:03d}<br>Mapped: %{customdata[0]}<br>Rel Error: %{customdata[1]:.3f}%<extra></extra>",
         "line": {
          "color": "rgb(29, 213, 203)"
         },
         "mode": "markers+lines",
         "name": "096",
         "opacity": 0.4,
         "type": "scatter",
         "x": {
          "bdata": "iIIBAM2DAQA=",
          "dtype": "i4"
         },
         "y": {
          "bdata": "zOnDFtsK8D9SoTeY2BnwPw==",
          "dtype": "f8"
         }
        },
        {
         "customdata": [
          [
           "Original Comsol Mesh",
           0,
           97
          ],
          [
           "s100_100_100_b0_4000_0_5000_-4000_0",
           0.23733855557167907,
           97
          ]
         ],
         "hovertemplate": "Cells: %{x}<br>Entropy number: %{y}<br>Snap Idx: %{customdata[2]:03d}<br>Mapped: %{customdata[0]}<br>Rel Error: %{customdata[1]:.3f}%<extra></extra>",
         "line": {
          "color": "rgb(29, 214, 201)"
         },
         "mode": "markers+lines",
         "name": "097",
         "opacity": 0.4,
         "type": "scatter",
         "x": {
          "bdata": "iIIBAM2DAQA=",
          "dtype": "i4"
         },
         "y": {
          "bdata": "u4BK1VNJ9D8ygdk6p1X0Pw==",
          "dtype": "f8"
         }
        },
        {
         "customdata": [
          [
           "Original Comsol Mesh",
           0,
           98
          ],
          [
           "s100_100_100_b0_4000_0_5000_-4000_0",
           0.305868804276685,
           98
          ]
         ],
         "hovertemplate": "Cells: %{x}<br>Entropy number: %{y}<br>Snap Idx: %{customdata[2]:03d}<br>Mapped: %{customdata[0]}<br>Rel Error: %{customdata[1]:.3f}%<extra></extra>",
         "line": {
          "color": "rgb(30, 215, 199)"
         },
         "mode": "markers+lines",
         "name": "098",
         "opacity": 0.4,
         "type": "scatter",
         "x": {
          "bdata": "iIIBAM2DAQA=",
          "dtype": "i4"
         },
         "y": {
          "bdata": "1l71a1GO8T9V8MuUEJzxPw==",
          "dtype": "f8"
         }
        },
        {
         "customdata": [
          [
           "Original Comsol Mesh",
           0,
           99
          ],
          [
           "s100_100_100_b0_4000_0_5000_-4000_0",
           0.4077938476902363,
           99
          ]
         ],
         "hovertemplate": "Cells: %{x}<br>Entropy number: %{y}<br>Snap Idx: %{customdata[2]:03d}<br>Mapped: %{customdata[0]}<br>Rel Error: %{customdata[1]:.3f}%<extra></extra>",
         "line": {
          "color": "rgb(30, 217, 197)"
         },
         "mode": "markers+lines",
         "name": "099",
         "opacity": 0.4,
         "type": "scatter",
         "x": {
          "bdata": "iIIBAM2DAQA=",
          "dtype": "i4"
         },
         "y": {
          "bdata": "jLCNYP/x8D+7jhsKsAPxPw==",
          "dtype": "f8"
         }
        },
        {
         "customdata": [
          [
           "Original Comsol Mesh",
           0,
           100
          ],
          [
           "s100_100_100_b0_4000_0_5000_-4000_0",
           0,
           100
          ]
         ],
         "hovertemplate": "Cells: %{x}<br>Entropy number: %{y}<br>Snap Idx: %{customdata[2]:03d}<br>Mapped: %{customdata[0]}<br>Rel Error: %{customdata[1]:.3f}%<extra></extra>",
         "line": {
          "color": "rgb(30, 218, 195)"
         },
         "mode": "markers+lines",
         "name": "100",
         "opacity": 0.4,
         "type": "scatter",
         "x": {
          "bdata": "zYMBAM2DAQA=",
          "dtype": "i4"
         },
         "y": {
          "bdata": "hJOKvURm8T+Ek4q9RGbxPw==",
          "dtype": "f8"
         }
        },
        {
         "customdata": [
          [
           "Original Comsol Mesh",
           0,
           101
          ],
          [
           "s100_100_100_b0_4000_0_5000_-4000_0",
           0,
           101
          ]
         ],
         "hovertemplate": "Cells: %{x}<br>Entropy number: %{y}<br>Snap Idx: %{customdata[2]:03d}<br>Mapped: %{customdata[0]}<br>Rel Error: %{customdata[1]:.3f}%<extra></extra>",
         "line": {
          "color": "rgb(31, 219, 193)"
         },
         "mode": "markers+lines",
         "name": "101",
         "opacity": 0.4,
         "type": "scatter",
         "x": {
          "bdata": "zYMBAM2DAQA=",
          "dtype": "i4"
         },
         "y": {
          "bdata": "iAiwyr5N8D+ICLDKvk3wPw==",
          "dtype": "f8"
         }
        },
        {
         "customdata": [
          [
           "Original Comsol Mesh",
           0,
           102
          ],
          [
           "s100_100_100_b0_4000_0_5000_-4000_0",
           0,
           102
          ]
         ],
         "hovertemplate": "Cells: %{x}<br>Entropy number: %{y}<br>Snap Idx: %{customdata[2]:03d}<br>Mapped: %{customdata[0]}<br>Rel Error: %{customdata[1]:.3f}%<extra></extra>",
         "line": {
          "color": "rgb(31, 220, 191)"
         },
         "mode": "markers+lines",
         "name": "102",
         "opacity": 0.4,
         "type": "scatter",
         "x": {
          "bdata": "zYMBAM2DAQA=",
          "dtype": "i4"
         },
         "y": {
          "bdata": "yKQ9xY988T/IpD3Fj3zxPw==",
          "dtype": "f8"
         }
        },
        {
         "customdata": [
          [
           "Original Comsol Mesh",
           0,
           103
          ],
          [
           "s100_100_100_b0_4000_0_5000_-4000_0",
           -1.1109941937785845e-14,
           103
          ]
         ],
         "hovertemplate": "Cells: %{x}<br>Entropy number: %{y}<br>Snap Idx: %{customdata[2]:03d}<br>Mapped: %{customdata[0]}<br>Rel Error: %{customdata[1]:.3f}%<extra></extra>",
         "line": {
          "color": "rgb(32, 222, 189)"
         },
         "mode": "markers+lines",
         "name": "103",
         "opacity": 0.4,
         "type": "scatter",
         "x": {
          "bdata": "zYMBAM2DAQA=",
          "dtype": "i4"
         },
         "y": {
          "bdata": "cjxUUFD67z9xPFRQUPrvPw==",
          "dtype": "f8"
         }
        },
        {
         "customdata": [
          [
           "Original Comsol Mesh",
           0,
           104
          ],
          [
           "s100_100_100_b0_4000_0_5000_-4000_0",
           0,
           104
          ]
         ],
         "hovertemplate": "Cells: %{x}<br>Entropy number: %{y}<br>Snap Idx: %{customdata[2]:03d}<br>Mapped: %{customdata[0]}<br>Rel Error: %{customdata[1]:.3f}%<extra></extra>",
         "line": {
          "color": "rgb(32, 223, 187)"
         },
         "mode": "markers+lines",
         "name": "104",
         "opacity": 0.4,
         "type": "scatter",
         "x": {
          "bdata": "zYMBAM2DAQA=",
          "dtype": "i4"
         },
         "y": {
          "bdata": "CB87+HM08D8IHzv4czTwPw==",
          "dtype": "f8"
         }
        },
        {
         "customdata": [
          [
           "Original Comsol Mesh",
           0,
           105
          ],
          [
           "s100_100_100_b0_4000_0_5000_-4000_0",
           2.034668030855211e-14,
           105
          ]
         ],
         "hovertemplate": "Cells: %{x}<br>Entropy number: %{y}<br>Snap Idx: %{customdata[2]:03d}<br>Mapped: %{customdata[0]}<br>Rel Error: %{customdata[1]:.3f}%<extra></extra>",
         "line": {
          "color": "rgb(32, 224, 185)"
         },
         "mode": "markers+lines",
         "name": "105",
         "opacity": 0.4,
         "type": "scatter",
         "x": {
          "bdata": "zYMBAM2DAQA=",
          "dtype": "i4"
         },
         "y": {
          "bdata": "puFumf118T+n4W6Z/XXxPw==",
          "dtype": "f8"
         }
        },
        {
         "customdata": [
          [
           "Original Comsol Mesh",
           0,
           106
          ],
          [
           "s100_100_100_b0_4000_0_5000_-4000_0",
           0,
           106
          ]
         ],
         "hovertemplate": "Cells: %{x}<br>Entropy number: %{y}<br>Snap Idx: %{customdata[2]:03d}<br>Mapped: %{customdata[0]}<br>Rel Error: %{customdata[1]:.3f}%<extra></extra>",
         "line": {
          "color": "rgb(33, 225, 183)"
         },
         "mode": "markers+lines",
         "name": "106",
         "opacity": 0.4,
         "type": "scatter",
         "x": {
          "bdata": "zYMBAM2DAQA=",
          "dtype": "i4"
         },
         "y": {
          "bdata": "tPAqCZMk8D+08CoJkyTwPw==",
          "dtype": "f8"
         }
        },
        {
         "customdata": [
          [
           "Original Comsol Mesh",
           0,
           107
          ],
          [
           "s100_100_100_b0_4000_0_5000_-4000_0",
           -2.120964295586596e-14,
           107
          ]
         ],
         "hovertemplate": "Cells: %{x}<br>Entropy number: %{y}<br>Snap Idx: %{customdata[2]:03d}<br>Mapped: %{customdata[0]}<br>Rel Error: %{customdata[1]:.3f}%<extra></extra>",
         "line": {
          "color": "rgb(33, 227, 181)"
         },
         "mode": "markers+lines",
         "name": "107",
         "opacity": 0.4,
         "type": "scatter",
         "x": {
          "bdata": "zYMBAM2DAQA=",
          "dtype": "i4"
         },
         "y": {
          "bdata": "do89bh7A8D91jz1uHsDwPw==",
          "dtype": "f8"
         }
        },
        {
         "customdata": [
          [
           "Original Comsol Mesh",
           0,
           108
          ],
          [
           "s100_100_100_b0_4000_0_5000_-4000_0",
           0,
           108
          ]
         ],
         "hovertemplate": "Cells: %{x}<br>Entropy number: %{y}<br>Snap Idx: %{customdata[2]:03d}<br>Mapped: %{customdata[0]}<br>Rel Error: %{customdata[1]:.3f}%<extra></extra>",
         "line": {
          "color": "rgb(34, 228, 179)"
         },
         "mode": "markers+lines",
         "name": "108",
         "opacity": 0.4,
         "type": "scatter",
         "x": {
          "bdata": "zYMBAM2DAQA=",
          "dtype": "i4"
         },
         "y": {
          "bdata": "9YsgjSRb8D/1iyCNJFvwPw==",
          "dtype": "f8"
         }
        },
        {
         "customdata": [
          [
           "Original Comsol Mesh",
           0,
           109
          ],
          [
           "s100_100_100_b0_4000_0_5000_-4000_0",
           0,
           109
          ]
         ],
         "hovertemplate": "Cells: %{x}<br>Entropy number: %{y}<br>Snap Idx: %{customdata[2]:03d}<br>Mapped: %{customdata[0]}<br>Rel Error: %{customdata[1]:.3f}%<extra></extra>",
         "line": {
          "color": "rgb(34, 229, 177)"
         },
         "mode": "markers+lines",
         "name": "109",
         "opacity": 0.4,
         "type": "scatter",
         "x": {
          "bdata": "zYMBAM2DAQA=",
          "dtype": "i4"
         },
         "y": {
          "bdata": "gl6TqhLZ7z+CXpOqEtnvPw==",
          "dtype": "f8"
         }
        },
        {
         "customdata": [
          [
           "Original Comsol Mesh",
           0,
           110
          ],
          [
           "s100_100_100_b0_4000_0_5000_-4000_0",
           0,
           110
          ]
         ],
         "hovertemplate": "Cells: %{x}<br>Entropy number: %{y}<br>Snap Idx: %{customdata[2]:03d}<br>Mapped: %{customdata[0]}<br>Rel Error: %{customdata[1]:.3f}%<extra></extra>",
         "line": {
          "color": "rgb(34, 231, 175)"
         },
         "mode": "markers+lines",
         "name": "110",
         "opacity": 0.4,
         "type": "scatter",
         "x": {
          "bdata": "zYMBAM2DAQA=",
          "dtype": "i4"
         },
         "y": {
          "bdata": "5s+SsYuv8D/mz5Kxi6/wPw==",
          "dtype": "f8"
         }
        },
        {
         "customdata": [
          [
           "Original Comsol Mesh",
           0,
           111
          ],
          [
           "s100_100_100_b0_4000_0_5000_-4000_0",
           0,
           111
          ]
         ],
         "hovertemplate": "Cells: %{x}<br>Entropy number: %{y}<br>Snap Idx: %{customdata[2]:03d}<br>Mapped: %{customdata[0]}<br>Rel Error: %{customdata[1]:.3f}%<extra></extra>",
         "line": {
          "color": "rgb(35, 232, 173)"
         },
         "mode": "markers+lines",
         "name": "111",
         "opacity": 0.4,
         "type": "scatter",
         "x": {
          "bdata": "zYMBAM2DAQA=",
          "dtype": "i4"
         },
         "y": {
          "bdata": "rOeKHNiR8T+s54oc2JHxPw==",
          "dtype": "f8"
         }
        },
        {
         "customdata": [
          [
           "Original Comsol Mesh",
           0,
           112
          ],
          [
           "s100_100_100_b0_4000_0_5000_-4000_0",
           0,
           112
          ]
         ],
         "hovertemplate": "Cells: %{x}<br>Entropy number: %{y}<br>Snap Idx: %{customdata[2]:03d}<br>Mapped: %{customdata[0]}<br>Rel Error: %{customdata[1]:.3f}%<extra></extra>",
         "line": {
          "color": "rgb(35, 233, 171)"
         },
         "mode": "markers+lines",
         "name": "112",
         "opacity": 0.4,
         "type": "scatter",
         "x": {
          "bdata": "zYMBAM2DAQA=",
          "dtype": "i4"
         },
         "y": {
          "bdata": "s5/4ddjB8D+zn/h12MHwPw==",
          "dtype": "f8"
         }
        },
        {
         "customdata": [
          [
           "Original Comsol Mesh",
           0,
           113
          ],
          [
           "s100_100_100_b0_4000_0_5000_-4000_0",
           -2.0806211379618714e-14,
           113
          ]
         ],
         "hovertemplate": "Cells: %{x}<br>Entropy number: %{y}<br>Snap Idx: %{customdata[2]:03d}<br>Mapped: %{customdata[0]}<br>Rel Error: %{customdata[1]:.3f}%<extra></extra>",
         "line": {
          "color": "rgb(35, 234, 169)"
         },
         "mode": "markers+lines",
         "name": "113",
         "opacity": 0.4,
         "type": "scatter",
         "x": {
          "bdata": "zYMBAM2DAQA=",
          "dtype": "i4"
         },
         "y": {
          "bdata": "cOfM60MT8T9v58zrQxPxPw==",
          "dtype": "f8"
         }
        },
        {
         "customdata": [
          [
           "Original Comsol Mesh",
           0,
           114
          ],
          [
           "s100_100_100_b0_4000_0_5000_-4000_0",
           0,
           114
          ]
         ],
         "hovertemplate": "Cells: %{x}<br>Entropy number: %{y}<br>Snap Idx: %{customdata[2]:03d}<br>Mapped: %{customdata[0]}<br>Rel Error: %{customdata[1]:.3f}%<extra></extra>",
         "line": {
          "color": "rgb(36, 236, 167)"
         },
         "mode": "markers+lines",
         "name": "114",
         "opacity": 0.4,
         "type": "scatter",
         "x": {
          "bdata": "zYMBAM2DAQA=",
          "dtype": "i4"
         },
         "y": {
          "bdata": "HaWG179i8T8dpYbXv2LxPw==",
          "dtype": "f8"
         }
        },
        {
         "customdata": [
          [
           "Original Comsol Mesh",
           0,
           115
          ],
          [
           "s100_100_100_b0_4000_0_5000_-4000_0",
           4.1796422540755874e-14,
           115
          ]
         ],
         "hovertemplate": "Cells: %{x}<br>Entropy number: %{y}<br>Snap Idx: %{customdata[2]:03d}<br>Mapped: %{customdata[0]}<br>Rel Error: %{customdata[1]:.3f}%<extra></extra>",
         "line": {
          "color": "rgb(38, 236, 164)"
         },
         "mode": "markers+lines",
         "name": "115",
         "opacity": 0.4,
         "type": "scatter",
         "x": {
          "bdata": "zYMBAM2DAQA=",
          "dtype": "i4"
         },
         "y": {
          "bdata": "o/8CkgUA8T+l/wKSBQDxPw==",
          "dtype": "f8"
         }
        },
        {
         "customdata": [
          [
           "Original Comsol Mesh",
           0,
           116
          ],
          [
           "s100_100_100_b0_4000_0_5000_-4000_0",
           0,
           116
          ]
         ],
         "hovertemplate": "Cells: %{x}<br>Entropy number: %{y}<br>Snap Idx: %{customdata[2]:03d}<br>Mapped: %{customdata[0]}<br>Rel Error: %{customdata[1]:.3f}%<extra></extra>",
         "line": {
          "color": "rgb(41, 237, 162)"
         },
         "mode": "markers+lines",
         "name": "116",
         "opacity": 0.4,
         "type": "scatter",
         "x": {
          "bdata": "zYMBAM2DAQA=",
          "dtype": "i4"
         },
         "y": {
          "bdata": "3fMSVyHA8D/d8xJXIcDwPw==",
          "dtype": "f8"
         }
        },
        {
         "customdata": [
          [
           "Original Comsol Mesh",
           0,
           117
          ],
          [
           "s100_100_100_b0_4000_0_5000_-4000_0",
           0,
           117
          ]
         ],
         "hovertemplate": "Cells: %{x}<br>Entropy number: %{y}<br>Snap Idx: %{customdata[2]:03d}<br>Mapped: %{customdata[0]}<br>Rel Error: %{customdata[1]:.3f}%<extra></extra>",
         "line": {
          "color": "rgb(43, 238, 159)"
         },
         "mode": "markers+lines",
         "name": "117",
         "opacity": 0.4,
         "type": "scatter",
         "x": {
          "bdata": "zYMBAM2DAQA=",
          "dtype": "i4"
         },
         "y": {
          "bdata": "ERo4sKO18D8RGjiwo7XwPw==",
          "dtype": "f8"
         }
        },
        {
         "customdata": [
          [
           "Original Comsol Mesh",
           0,
           118
          ],
          [
           "s100_100_100_b0_4000_0_5000_-4000_0",
           2.104349928329431e-14,
           118
          ]
         ],
         "hovertemplate": "Cells: %{x}<br>Entropy number: %{y}<br>Snap Idx: %{customdata[2]:03d}<br>Mapped: %{customdata[0]}<br>Rel Error: %{customdata[1]:.3f}%<extra></extra>",
         "line": {
          "color": "rgb(46, 239, 157)"
         },
         "mode": "markers+lines",
         "name": "118",
         "opacity": 0.4,
         "type": "scatter",
         "x": {
          "bdata": "zYMBAM2DAQA=",
          "dtype": "i4"
         },
         "y": {
          "bdata": "r2bQgfnh8D+wZtCB+eHwPw==",
          "dtype": "f8"
         }
        },
        {
         "customdata": [
          [
           "Original Comsol Mesh",
           0,
           119
          ],
          [
           "s100_100_100_b0_4000_0_5000_-4000_0",
           2.2127177339683818e-14,
           119
          ]
         ],
         "hovertemplate": "Cells: %{x}<br>Entropy number: %{y}<br>Snap Idx: %{customdata[2]:03d}<br>Mapped: %{customdata[0]}<br>Rel Error: %{customdata[1]:.3f}%<extra></extra>",
         "line": {
          "color": "rgb(49, 239, 154)"
         },
         "mode": "markers+lines",
         "name": "119",
         "opacity": 0.4,
         "type": "scatter",
         "x": {
          "bdata": "zYMBAM2DAQA=",
          "dtype": "i4"
         },
         "y": {
          "bdata": "QYkvV04O8D9CiS9XTg7wPw==",
          "dtype": "f8"
         }
        },
        {
         "customdata": [
          [
           "Original Comsol Mesh",
           0,
           120
          ],
          [
           "s100_100_100_b0_4000_0_5000_-4000_0",
           0,
           120
          ]
         ],
         "hovertemplate": "Cells: %{x}<br>Entropy number: %{y}<br>Snap Idx: %{customdata[2]:03d}<br>Mapped: %{customdata[0]}<br>Rel Error: %{customdata[1]:.3f}%<extra></extra>",
         "line": {
          "color": "rgb(51, 240, 151)"
         },
         "mode": "markers+lines",
         "name": "120",
         "opacity": 0.4,
         "type": "scatter",
         "x": {
          "bdata": "zYMBAM2DAQA=",
          "dtype": "i4"
         },
         "y": {
          "bdata": "IrKQ/Ruo8T8ispD9G6jxPw==",
          "dtype": "f8"
         }
        },
        {
         "customdata": [
          [
           "Original Comsol Mesh",
           0,
           121
          ],
          [
           "s100_100_100_b0_4000_0_5000_-4000_0",
           4.3856763114610917e-14,
           121
          ]
         ],
         "hovertemplate": "Cells: %{x}<br>Entropy number: %{y}<br>Snap Idx: %{customdata[2]:03d}<br>Mapped: %{customdata[0]}<br>Rel Error: %{customdata[1]:.3f}%<extra></extra>",
         "line": {
          "color": "rgb(54, 241, 149)"
         },
         "mode": "markers+lines",
         "name": "121",
         "opacity": 0.4,
         "type": "scatter",
         "x": {
          "bdata": "zYMBAM2DAQA=",
          "dtype": "i4"
         },
         "y": {
          "bdata": "vhfgmZEz8D/AF+CZkTPwPw==",
          "dtype": "f8"
         }
        },
        {
         "customdata": [
          [
           "Original Comsol Mesh",
           0,
           122
          ],
          [
           "s100_100_100_b0_4000_0_5000_-4000_0",
           2.1869529797907804e-14,
           122
          ]
         ],
         "hovertemplate": "Cells: %{x}<br>Entropy number: %{y}<br>Snap Idx: %{customdata[2]:03d}<br>Mapped: %{customdata[0]}<br>Rel Error: %{customdata[1]:.3f}%<extra></extra>",
         "line": {
          "color": "rgb(57, 241, 146)"
         },
         "mode": "markers+lines",
         "name": "122",
         "opacity": 0.4,
         "type": "scatter",
         "x": {
          "bdata": "zYMBAM2DAQA=",
          "dtype": "i4"
         },
         "y": {
          "bdata": "CT7X4ro+8D8KPtfiuj7wPw==",
          "dtype": "f8"
         }
        },
        {
         "customdata": [
          [
           "Original Comsol Mesh",
           0,
           123
          ],
          [
           "s100_100_100_b0_4000_0_5000_-4000_0",
           -2.2076558721792472e-14,
           123
          ]
         ],
         "hovertemplate": "Cells: %{x}<br>Entropy number: %{y}<br>Snap Idx: %{customdata[2]:03d}<br>Mapped: %{customdata[0]}<br>Rel Error: %{customdata[1]:.3f}%<extra></extra>",
         "line": {
          "color": "rgb(59, 242, 144)"
         },
         "mode": "markers+lines",
         "name": "123",
         "opacity": 0.4,
         "type": "scatter",
         "x": {
          "bdata": "zYMBAM2DAQA=",
          "dtype": "i4"
         },
         "y": {
          "bdata": "XTS++7oX8D9cNL77uhfwPw==",
          "dtype": "f8"
         }
        },
        {
         "customdata": [
          [
           "Original Comsol Mesh",
           0,
           124
          ],
          [
           "s100_100_100_b0_4000_0_5000_-4000_0",
           0,
           124
          ]
         ],
         "hovertemplate": "Cells: %{x}<br>Entropy number: %{y}<br>Snap Idx: %{customdata[2]:03d}<br>Mapped: %{customdata[0]}<br>Rel Error: %{customdata[1]:.3f}%<extra></extra>",
         "line": {
          "color": "rgb(62, 243, 141)"
         },
         "mode": "markers+lines",
         "name": "124",
         "opacity": 0.4,
         "type": "scatter",
         "x": {
          "bdata": "zYMBAM2DAQA=",
          "dtype": "i4"
         },
         "y": {
          "bdata": "cK+Qc4rq8T9wr5BziurxPw==",
          "dtype": "f8"
         }
        },
        {
         "customdata": [
          [
           "Original Comsol Mesh",
           0,
           125
          ],
          [
           "s100_100_100_b0_4000_0_5000_-4000_0",
           0,
           125
          ]
         ],
         "hovertemplate": "Cells: %{x}<br>Entropy number: %{y}<br>Snap Idx: %{customdata[2]:03d}<br>Mapped: %{customdata[0]}<br>Rel Error: %{customdata[1]:.3f}%<extra></extra>",
         "line": {
          "color": "rgb(65, 244, 139)"
         },
         "mode": "markers+lines",
         "name": "125",
         "opacity": 0.4,
         "type": "scatter",
         "x": {
          "bdata": "zYMBAM2DAQA=",
          "dtype": "i4"
         },
         "y": {
          "bdata": "RkhpA/J08D9GSGkD8nTwPw==",
          "dtype": "f8"
         }
        },
        {
         "customdata": [
          [
           "Original Comsol Mesh",
           0,
           126
          ],
          [
           "s100_100_100_b0_4000_0_5000_-4000_0",
           0,
           126
          ]
         ],
         "hovertemplate": "Cells: %{x}<br>Entropy number: %{y}<br>Snap Idx: %{customdata[2]:03d}<br>Mapped: %{customdata[0]}<br>Rel Error: %{customdata[1]:.3f}%<extra></extra>",
         "line": {
          "color": "rgb(67, 244, 136)"
         },
         "mode": "markers+lines",
         "name": "126",
         "opacity": 0.4,
         "type": "scatter",
         "x": {
          "bdata": "zYMBAM2DAQA=",
          "dtype": "i4"
         },
         "y": {
          "bdata": "AzOEDksC8D8DM4QOSwLwPw==",
          "dtype": "f8"
         }
        },
        {
         "customdata": [
          [
           "Original Comsol Mesh",
           0,
           127
          ],
          [
           "s100_100_100_b0_4000_0_5000_-4000_0",
           0,
           127
          ]
         ],
         "hovertemplate": "Cells: %{x}<br>Entropy number: %{y}<br>Snap Idx: %{customdata[2]:03d}<br>Mapped: %{customdata[0]}<br>Rel Error: %{customdata[1]:.3f}%<extra></extra>",
         "line": {
          "color": "rgb(70, 245, 134)"
         },
         "mode": "markers+lines",
         "name": "127",
         "opacity": 0.4,
         "type": "scatter",
         "x": {
          "bdata": "zYMBAM2DAQA=",
          "dtype": "i4"
         },
         "y": {
          "bdata": "wnHYl1jl8D/CcdiXWOXwPw==",
          "dtype": "f8"
         }
        },
        {
         "customdata": [
          [
           "Original Comsol Mesh",
           0,
           128
          ],
          [
           "s100_100_100_b0_4000_0_5000_-4000_0",
           0,
           128
          ]
         ],
         "hovertemplate": "Cells: %{x}<br>Entropy number: %{y}<br>Snap Idx: %{customdata[2]:03d}<br>Mapped: %{customdata[0]}<br>Rel Error: %{customdata[1]:.3f}%<extra></extra>",
         "line": {
          "color": "rgb(73, 246, 131)"
         },
         "mode": "markers+lines",
         "name": "128",
         "opacity": 0.4,
         "type": "scatter",
         "x": {
          "bdata": "zYMBAM2DAQA=",
          "dtype": "i4"
         },
         "y": {
          "bdata": "3wJlncPs7z/fAmWdw+zvPw==",
          "dtype": "f8"
         }
        },
        {
         "customdata": [
          [
           "Original Comsol Mesh",
           0,
           129
          ],
          [
           "s100_100_100_b0_4000_0_5000_-4000_0",
           0,
           129
          ]
         ],
         "hovertemplate": "Cells: %{x}<br>Entropy number: %{y}<br>Snap Idx: %{customdata[2]:03d}<br>Mapped: %{customdata[0]}<br>Rel Error: %{customdata[1]:.3f}%<extra></extra>",
         "line": {
          "color": "rgb(75, 246, 129)"
         },
         "mode": "markers+lines",
         "name": "129",
         "opacity": 0.4,
         "type": "scatter",
         "x": {
          "bdata": "zYMBAM2DAQA=",
          "dtype": "i4"
         },
         "y": {
          "bdata": "9SH+P0908T/1If4/T3TxPw==",
          "dtype": "f8"
         }
        },
        {
         "customdata": [
          [
           "Original Comsol Mesh",
           0,
           130
          ],
          [
           "s100_100_100_b0_4000_0_5000_-4000_0",
           0,
           130
          ]
         ],
         "hovertemplate": "Cells: %{x}<br>Entropy number: %{y}<br>Snap Idx: %{customdata[2]:03d}<br>Mapped: %{customdata[0]}<br>Rel Error: %{customdata[1]:.3f}%<extra></extra>",
         "line": {
          "color": "rgb(78, 247, 126)"
         },
         "mode": "markers+lines",
         "name": "130",
         "opacity": 0.4,
         "type": "scatter",
         "x": {
          "bdata": "zYMBAM2DAQA=",
          "dtype": "i4"
         },
         "y": {
          "bdata": "MxPHFwGO8D8zE8cXAY7wPw==",
          "dtype": "f8"
         }
        },
        {
         "customdata": [
          [
           "Original Comsol Mesh",
           0,
           131
          ],
          [
           "s100_100_100_b0_4000_0_5000_-4000_0",
           0,
           131
          ]
         ],
         "hovertemplate": "Cells: %{x}<br>Entropy number: %{y}<br>Snap Idx: %{customdata[2]:03d}<br>Mapped: %{customdata[0]}<br>Rel Error: %{customdata[1]:.3f}%<extra></extra>",
         "line": {
          "color": "rgb(81, 248, 124)"
         },
         "mode": "markers+lines",
         "name": "131",
         "opacity": 0.4,
         "type": "scatter",
         "x": {
          "bdata": "zYMBAM2DAQA=",
          "dtype": "i4"
         },
         "y": {
          "bdata": "hI43Qkp/8T+EjjdCSn/xPw==",
          "dtype": "f8"
         }
        },
        {
         "customdata": [
          [
           "Original Comsol Mesh",
           0,
           132
          ],
          [
           "s100_100_100_b0_4000_0_5000_-4000_0",
           0,
           132
          ]
         ],
         "hovertemplate": "Cells: %{x}<br>Entropy number: %{y}<br>Snap Idx: %{customdata[2]:03d}<br>Mapped: %{customdata[0]}<br>Rel Error: %{customdata[1]:.3f}%<extra></extra>",
         "line": {
          "color": "rgb(83, 248, 121)"
         },
         "mode": "markers+lines",
         "name": "132",
         "opacity": 0.4,
         "type": "scatter",
         "x": {
          "bdata": "zYMBAM2DAQA=",
          "dtype": "i4"
         },
         "y": {
          "bdata": "0Trc8eMb8T/ROtzx4xvxPw==",
          "dtype": "f8"
         }
        },
        {
         "customdata": [
          [
           "Original Comsol Mesh",
           0,
           133
          ],
          [
           "s100_100_100_b0_4000_0_5000_-4000_0",
           0,
           133
          ]
         ],
         "hovertemplate": "Cells: %{x}<br>Entropy number: %{y}<br>Snap Idx: %{customdata[2]:03d}<br>Mapped: %{customdata[0]}<br>Rel Error: %{customdata[1]:.3f}%<extra></extra>",
         "line": {
          "color": "rgb(86, 249, 119)"
         },
         "mode": "markers+lines",
         "name": "133",
         "opacity": 0.4,
         "type": "scatter",
         "x": {
          "bdata": "zYMBAM2DAQA=",
          "dtype": "i4"
         },
         "y": {
          "bdata": "m/NCT0go8T+b80JPSCjxPw==",
          "dtype": "f8"
         }
        },
        {
         "customdata": [
          [
           "Original Comsol Mesh",
           0,
           134
          ],
          [
           "s100_100_100_b0_4000_0_5000_-4000_0",
           -1.849076573162781e-14,
           134
          ]
         ],
         "hovertemplate": "Cells: %{x}<br>Entropy number: %{y}<br>Snap Idx: %{customdata[2]:03d}<br>Mapped: %{customdata[0]}<br>Rel Error: %{customdata[1]:.3f}%<extra></extra>",
         "line": {
          "color": "rgb(89, 250, 116)"
         },
         "mode": "markers+lines",
         "name": "134",
         "opacity": 0.4,
         "type": "scatter",
         "x": {
          "bdata": "zYMBAM2DAQA=",
          "dtype": "i4"
         },
         "y": {
          "bdata": "EH0HiaQ28z8PfQeJpDbzPw==",
          "dtype": "f8"
         }
        },
        {
         "customdata": [
          [
           "Original Comsol Mesh",
           0,
           135
          ],
          [
           "s100_100_100_b0_4000_0_5000_-4000_0",
           2.020478066712069e-14,
           135
          ]
         ],
         "hovertemplate": "Cells: %{x}<br>Entropy number: %{y}<br>Snap Idx: %{customdata[2]:03d}<br>Mapped: %{customdata[0]}<br>Rel Error: %{customdata[1]:.3f}%<extra></extra>",
         "line": {
          "color": "rgb(91, 251, 113)"
         },
         "mode": "markers+lines",
         "name": "135",
         "opacity": 0.4,
         "type": "scatter",
         "x": {
          "bdata": "zYMBAM2DAQA=",
          "dtype": "i4"
         },
         "y": {
          "bdata": "soOUOWKV8T+zg5Q5YpXxPw==",
          "dtype": "f8"
         }
        },
        {
         "customdata": [
          [
           "Original Comsol Mesh",
           0,
           136
          ],
          [
           "s100_100_100_b0_4000_0_5000_-4000_0",
           0,
           136
          ]
         ],
         "hovertemplate": "Cells: %{x}<br>Entropy number: %{y}<br>Snap Idx: %{customdata[2]:03d}<br>Mapped: %{customdata[0]}<br>Rel Error: %{customdata[1]:.3f}%<extra></extra>",
         "line": {
          "color": "rgb(94, 251, 111)"
         },
         "mode": "markers+lines",
         "name": "136",
         "opacity": 0.4,
         "type": "scatter",
         "x": {
          "bdata": "zYMBAM2DAQA=",
          "dtype": "i4"
         },
         "y": {
          "bdata": "Y6a9UD5Q8T9jpr1QPlDxPw==",
          "dtype": "f8"
         }
        },
        {
         "customdata": [
          [
           "Original Comsol Mesh",
           0,
           137
          ],
          [
           "s100_100_100_b0_4000_0_5000_-4000_0",
           0,
           137
          ]
         ],
         "hovertemplate": "Cells: %{x}<br>Entropy number: %{y}<br>Snap Idx: %{customdata[2]:03d}<br>Mapped: %{customdata[0]}<br>Rel Error: %{customdata[1]:.3f}%<extra></extra>",
         "line": {
          "color": "rgb(97, 252, 108)"
         },
         "mode": "markers+lines",
         "name": "137",
         "opacity": 0.4,
         "type": "scatter",
         "x": {
          "bdata": "zYMBAM2DAQA=",
          "dtype": "i4"
         },
         "y": {
          "bdata": "fICUQeq+8D98gJRB6r7wPw==",
          "dtype": "f8"
         }
        },
        {
         "customdata": [
          [
           "Original Comsol Mesh",
           0,
           138
          ],
          [
           "s100_100_100_b0_4000_0_5000_-4000_0",
           -1.8613067716218373e-14,
           138
          ]
         ],
         "hovertemplate": "Cells: %{x}<br>Entropy number: %{y}<br>Snap Idx: %{customdata[2]:03d}<br>Mapped: %{customdata[0]}<br>Rel Error: %{customdata[1]:.3f}%<extra></extra>",
         "line": {
          "color": "rgb(100, 252, 106)"
         },
         "mode": "markers+lines",
         "name": "138",
         "opacity": 0.4,
         "type": "scatter",
         "x": {
          "bdata": "zYMBAM2DAQA=",
          "dtype": "i4"
         },
         "y": {
          "bdata": "ofXa0FIW8z+g9drQUhbzPw==",
          "dtype": "f8"
         }
        },
        {
         "customdata": [
          [
           "Original Comsol Mesh",
           0,
           139
          ],
          [
           "s100_100_100_b0_4000_0_5000_-4000_0",
           0,
           139
          ]
         ],
         "hovertemplate": "Cells: %{x}<br>Entropy number: %{y}<br>Snap Idx: %{customdata[2]:03d}<br>Mapped: %{customdata[0]}<br>Rel Error: %{customdata[1]:.3f}%<extra></extra>",
         "line": {
          "color": "rgb(102, 252, 104)"
         },
         "mode": "markers+lines",
         "name": "139",
         "opacity": 0.4,
         "type": "scatter",
         "x": {
          "bdata": "zYMBAM2DAQA=",
          "dtype": "i4"
         },
         "y": {
          "bdata": "ifp5QVcc8T+J+nlBVxzxPw==",
          "dtype": "f8"
         }
        },
        {
         "customdata": [
          [
           "Original Comsol Mesh",
           0,
           140
          ],
          [
           "s100_100_100_b0_4000_0_5000_-4000_0",
           0,
           140
          ]
         ],
         "hovertemplate": "Cells: %{x}<br>Entropy number: %{y}<br>Snap Idx: %{customdata[2]:03d}<br>Mapped: %{customdata[0]}<br>Rel Error: %{customdata[1]:.3f}%<extra></extra>",
         "line": {
          "color": "rgb(105, 252, 102)"
         },
         "mode": "markers+lines",
         "name": "140",
         "opacity": 0.4,
         "type": "scatter",
         "x": {
          "bdata": "zYMBAM2DAQA=",
          "dtype": "i4"
         },
         "y": {
          "bdata": "B0SXQp+z8D8HRJdCn7PwPw==",
          "dtype": "f8"
         }
        },
        {
         "customdata": [
          [
           "Original Comsol Mesh",
           0,
           141
          ],
          [
           "s100_100_100_b0_4000_0_5000_-4000_0",
           0,
           141
          ]
         ],
         "hovertemplate": "Cells: %{x}<br>Entropy number: %{y}<br>Snap Idx: %{customdata[2]:03d}<br>Mapped: %{customdata[0]}<br>Rel Error: %{customdata[1]:.3f}%<extra></extra>",
         "line": {
          "color": "rgb(108, 252, 100)"
         },
         "mode": "markers+lines",
         "name": "141",
         "opacity": 0.4,
         "type": "scatter",
         "x": {
          "bdata": "zYMBAM2DAQA=",
          "dtype": "i4"
         },
         "y": {
          "bdata": "jRryMRgV8T+NGvIxGBXxPw==",
          "dtype": "f8"
         }
        },
        {
         "customdata": [
          [
           "Original Comsol Mesh",
           0,
           142
          ],
          [
           "s100_100_100_b0_4000_0_5000_-4000_0",
           -2.1502264017685046e-14,
           142
          ]
         ],
         "hovertemplate": "Cells: %{x}<br>Entropy number: %{y}<br>Snap Idx: %{customdata[2]:03d}<br>Mapped: %{customdata[0]}<br>Rel Error: %{customdata[1]:.3f}%<extra></extra>",
         "line": {
          "color": "rgb(111, 252, 98)"
         },
         "mode": "markers+lines",
         "name": "142",
         "opacity": 0.4,
         "type": "scatter",
         "x": {
          "bdata": "zYMBAM2DAQA=",
          "dtype": "i4"
         },
         "y": {
          "bdata": "o/23M8OF8D+i/bczw4XwPw==",
          "dtype": "f8"
         }
        },
        {
         "customdata": [
          [
           "Original Comsol Mesh",
           0,
           143
          ],
          [
           "s100_100_100_b0_4000_0_5000_-4000_0",
           0,
           143
          ]
         ],
         "hovertemplate": "Cells: %{x}<br>Entropy number: %{y}<br>Snap Idx: %{customdata[2]:03d}<br>Mapped: %{customdata[0]}<br>Rel Error: %{customdata[1]:.3f}%<extra></extra>",
         "line": {
          "color": "rgb(114, 252, 95)"
         },
         "mode": "markers+lines",
         "name": "143",
         "opacity": 0.4,
         "type": "scatter",
         "x": {
          "bdata": "zYMBAM2DAQA=",
          "dtype": "i4"
         },
         "y": {
          "bdata": "dMyrJmsL8j90zKsmawvyPw==",
          "dtype": "f8"
         }
        },
        {
         "customdata": [
          [
           "Original Comsol Mesh",
           0,
           144
          ],
          [
           "s100_100_100_b0_4000_0_5000_-4000_0",
           0,
           144
          ]
         ],
         "hovertemplate": "Cells: %{x}<br>Entropy number: %{y}<br>Snap Idx: %{customdata[2]:03d}<br>Mapped: %{customdata[0]}<br>Rel Error: %{customdata[1]:.3f}%<extra></extra>",
         "line": {
          "color": "rgb(117, 252, 93)"
         },
         "mode": "markers+lines",
         "name": "144",
         "opacity": 0.4,
         "type": "scatter",
         "x": {
          "bdata": "zYMBAM2DAQA=",
          "dtype": "i4"
         },
         "y": {
          "bdata": "5/IUa9jl8D/n8hRr2OXwPw==",
          "dtype": "f8"
         }
        },
        {
         "customdata": [
          [
           "Original Comsol Mesh",
           0,
           145
          ],
          [
           "s100_100_100_b0_4000_0_5000_-4000_0",
           0,
           145
          ]
         ],
         "hovertemplate": "Cells: %{x}<br>Entropy number: %{y}<br>Snap Idx: %{customdata[2]:03d}<br>Mapped: %{customdata[0]}<br>Rel Error: %{customdata[1]:.3f}%<extra></extra>",
         "line": {
          "color": "rgb(120, 252, 91)"
         },
         "mode": "markers+lines",
         "name": "145",
         "opacity": 0.4,
         "type": "scatter",
         "x": {
          "bdata": "zYMBAM2DAQA=",
          "dtype": "i4"
         },
         "y": {
          "bdata": "mAdCAsLY8D+YB0ICwtjwPw==",
          "dtype": "f8"
         }
        },
        {
         "customdata": [
          [
           "Original Comsol Mesh",
           0,
           146
          ],
          [
           "s100_100_100_b0_4000_0_5000_-4000_0",
           0,
           146
          ]
         ],
         "hovertemplate": "Cells: %{x}<br>Entropy number: %{y}<br>Snap Idx: %{customdata[2]:03d}<br>Mapped: %{customdata[0]}<br>Rel Error: %{customdata[1]:.3f}%<extra></extra>",
         "line": {
          "color": "rgb(123, 252, 89)"
         },
         "mode": "markers+lines",
         "name": "146",
         "opacity": 0.4,
         "type": "scatter",
         "x": {
          "bdata": "zYMBAM2DAQA=",
          "dtype": "i4"
         },
         "y": {
          "bdata": "82yLOptJ8D/zbIs6m0nwPw==",
          "dtype": "f8"
         }
        },
        {
         "customdata": [
          [
           "Original Comsol Mesh",
           0,
           147
          ],
          [
           "s100_100_100_b0_4000_0_5000_-4000_0",
           -2.128166072504983e-14,
           147
          ]
         ],
         "hovertemplate": "Cells: %{x}<br>Entropy number: %{y}<br>Snap Idx: %{customdata[2]:03d}<br>Mapped: %{customdata[0]}<br>Rel Error: %{customdata[1]:.3f}%<extra></extra>",
         "line": {
          "color": "rgb(126, 252, 87)"
         },
         "mode": "markers+lines",
         "name": "147",
         "opacity": 0.4,
         "type": "scatter",
         "x": {
          "bdata": "zYMBAM2DAQA=",
          "dtype": "i4"
         },
         "y": {
          "bdata": "QkFplZux8D9BQWmVm7HwPw==",
          "dtype": "f8"
         }
        },
        {
         "customdata": [
          [
           "Original Comsol Mesh",
           0,
           148
          ],
          [
           "s100_100_100_b0_4000_0_5000_-4000_0",
           0,
           148
          ]
         ],
         "hovertemplate": "Cells: %{x}<br>Entropy number: %{y}<br>Snap Idx: %{customdata[2]:03d}<br>Mapped: %{customdata[0]}<br>Rel Error: %{customdata[1]:.3f}%<extra></extra>",
         "line": {
          "color": "rgb(129, 252, 85)"
         },
         "mode": "markers+lines",
         "name": "148",
         "opacity": 0.4,
         "type": "scatter",
         "x": {
          "bdata": "zYMBAM2DAQA=",
          "dtype": "i4"
         },
         "y": {
          "bdata": "SKbecVr68T9Ipt5xWvrxPw==",
          "dtype": "f8"
         }
        },
        {
         "customdata": [
          [
           "Original Comsol Mesh",
           0,
           149
          ],
          [
           "s100_100_100_b0_4000_0_5000_-4000_0",
           0,
           149
          ]
         ],
         "hovertemplate": "Cells: %{x}<br>Entropy number: %{y}<br>Snap Idx: %{customdata[2]:03d}<br>Mapped: %{customdata[0]}<br>Rel Error: %{customdata[1]:.3f}%<extra></extra>",
         "line": {
          "color": "rgb(132, 252, 83)"
         },
         "mode": "markers+lines",
         "name": "149",
         "opacity": 0.4,
         "type": "scatter",
         "x": {
          "bdata": "zYMBAM2DAQA=",
          "dtype": "i4"
         },
         "y": {
          "bdata": "7f6lKa5L8T/t/qUprkvxPw==",
          "dtype": "f8"
         }
        },
        {
         "customdata": [
          [
           "Original Comsol Mesh",
           0,
           150
          ],
          [
           "s100_100_100_b0_4000_0_5000_-4000_0",
           0,
           150
          ]
         ],
         "hovertemplate": "Cells: %{x}<br>Entropy number: %{y}<br>Snap Idx: %{customdata[2]:03d}<br>Mapped: %{customdata[0]}<br>Rel Error: %{customdata[1]:.3f}%<extra></extra>",
         "line": {
          "color": "rgb(135, 252, 80)"
         },
         "mode": "markers+lines",
         "name": "150",
         "opacity": 0.4,
         "type": "scatter",
         "x": {
          "bdata": "zYMBAM2DAQA=",
          "dtype": "i4"
         },
         "y": {
          "bdata": "qHb/wAAy8D+odv/AADLwPw==",
          "dtype": "f8"
         }
        },
        {
         "customdata": [
          [
           "Original Comsol Mesh",
           0,
           151
          ],
          [
           "s100_100_100_b0_4000_0_5000_-4000_0",
           0,
           151
          ]
         ],
         "hovertemplate": "Cells: %{x}<br>Entropy number: %{y}<br>Snap Idx: %{customdata[2]:03d}<br>Mapped: %{customdata[0]}<br>Rel Error: %{customdata[1]:.3f}%<extra></extra>",
         "line": {
          "color": "rgb(138, 252, 78)"
         },
         "mode": "markers+lines",
         "name": "151",
         "opacity": 0.4,
         "type": "scatter",
         "x": {
          "bdata": "zYMBAM2DAQA=",
          "dtype": "i4"
         },
         "y": {
          "bdata": "X9ouoz8V8j9f2i6jPxXyPw==",
          "dtype": "f8"
         }
        },
        {
         "customdata": [
          [
           "Original Comsol Mesh",
           0,
           152
          ],
          [
           "s100_100_100_b0_4000_0_5000_-4000_0",
           0,
           152
          ]
         ],
         "hovertemplate": "Cells: %{x}<br>Entropy number: %{y}<br>Snap Idx: %{customdata[2]:03d}<br>Mapped: %{customdata[0]}<br>Rel Error: %{customdata[1]:.3f}%<extra></extra>",
         "line": {
          "color": "rgb(141, 252, 76)"
         },
         "mode": "markers+lines",
         "name": "152",
         "opacity": 0.4,
         "type": "scatter",
         "x": {
          "bdata": "zYMBAM2DAQA=",
          "dtype": "i4"
         },
         "y": {
          "bdata": "gpkHviyA8D+CmQe+LIDwPw==",
          "dtype": "f8"
         }
        },
        {
         "customdata": [
          [
           "Original Comsol Mesh",
           0,
           153
          ],
          [
           "s100_100_100_b0_4000_0_5000_-4000_0",
           -1.9357035805934726e-14,
           153
          ]
         ],
         "hovertemplate": "Cells: %{x}<br>Entropy number: %{y}<br>Snap Idx: %{customdata[2]:03d}<br>Mapped: %{customdata[0]}<br>Rel Error: %{customdata[1]:.3f}%<extra></extra>",
         "line": {
          "color": "rgb(143, 252, 74)"
         },
         "mode": "markers+lines",
         "name": "153",
         "opacity": 0.4,
         "type": "scatter",
         "x": {
          "bdata": "zYMBAM2DAQA=",
          "dtype": "i4"
         },
         "y": {
          "bdata": "AaIGyYVa8j8AogbJhVryPw==",
          "dtype": "f8"
         }
        },
        {
         "customdata": [
          [
           "Original Comsol Mesh",
           0,
           154
          ],
          [
           "s100_100_100_b0_4000_0_5000_-4000_0",
           0,
           154
          ]
         ],
         "hovertemplate": "Cells: %{x}<br>Entropy number: %{y}<br>Snap Idx: %{customdata[2]:03d}<br>Mapped: %{customdata[0]}<br>Rel Error: %{customdata[1]:.3f}%<extra></extra>",
         "line": {
          "color": "rgb(146, 252, 72)"
         },
         "mode": "markers+lines",
         "name": "154",
         "opacity": 0.4,
         "type": "scatter",
         "x": {
          "bdata": "zYMBAM2DAQA=",
          "dtype": "i4"
         },
         "y": {
          "bdata": "eiEaUZd78D96IRpRl3vwPw==",
          "dtype": "f8"
         }
        },
        {
         "customdata": [
          [
           "Original Comsol Mesh",
           0,
           155
          ],
          [
           "s100_100_100_b0_4000_0_5000_-4000_0",
           1.8924889678681217e-14,
           155
          ]
         ],
         "hovertemplate": "Cells: %{x}<br>Entropy number: %{y}<br>Snap Idx: %{customdata[2]:03d}<br>Mapped: %{customdata[0]}<br>Rel Error: %{customdata[1]:.3f}%<extra></extra>",
         "line": {
          "color": "rgb(149, 252, 70)"
         },
         "mode": "markers+lines",
         "name": "155",
         "opacity": 0.4,
         "type": "scatter",
         "x": {
          "bdata": "zYMBAM2DAQA=",
          "dtype": "i4"
         },
         "y": {
          "bdata": "ZbvW+8/F8j9mu9b7z8XyPw==",
          "dtype": "f8"
         }
        },
        {
         "customdata": [
          [
           "Original Comsol Mesh",
           0,
           156
          ],
          [
           "s100_100_100_b0_4000_0_5000_-4000_0",
           0,
           156
          ]
         ],
         "hovertemplate": "Cells: %{x}<br>Entropy number: %{y}<br>Snap Idx: %{customdata[2]:03d}<br>Mapped: %{customdata[0]}<br>Rel Error: %{customdata[1]:.3f}%<extra></extra>",
         "line": {
          "color": "rgb(152, 252, 68)"
         },
         "mode": "markers+lines",
         "name": "156",
         "opacity": 0.4,
         "type": "scatter",
         "x": {
          "bdata": "zYMBAM2DAQA=",
          "dtype": "i4"
         },
         "y": {
          "bdata": "FXr77phr8T8VevvumGvxPw==",
          "dtype": "f8"
         }
        },
        {
         "customdata": [
          [
           "Original Comsol Mesh",
           0,
           157
          ],
          [
           "s100_100_100_b0_4000_0_5000_-4000_0",
           2.1575958605317244e-14,
           157
          ]
         ],
         "hovertemplate": "Cells: %{x}<br>Entropy number: %{y}<br>Snap Idx: %{customdata[2]:03d}<br>Mapped: %{customdata[0]}<br>Rel Error: %{customdata[1]:.3f}%<extra></extra>",
         "line": {
          "color": "rgb(155, 252, 65)"
         },
         "mode": "markers+lines",
         "name": "157",
         "opacity": 0.4,
         "type": "scatter",
         "x": {
          "bdata": "zYMBAM2DAQA=",
          "dtype": "i4"
         },
         "y": {
          "bdata": "x8DVvFB38D/IwNW8UHfwPw==",
          "dtype": "f8"
         }
        },
        {
         "customdata": [
          [
           "Original Comsol Mesh",
           0,
           158
          ],
          [
           "s100_100_100_b0_4000_0_5000_-4000_0",
           0,
           158
          ]
         ],
         "hovertemplate": "Cells: %{x}<br>Entropy number: %{y}<br>Snap Idx: %{customdata[2]:03d}<br>Mapped: %{customdata[0]}<br>Rel Error: %{customdata[1]:.3f}%<extra></extra>",
         "line": {
          "color": "rgb(158, 252, 63)"
         },
         "mode": "markers+lines",
         "name": "158",
         "opacity": 0.4,
         "type": "scatter",
         "x": {
          "bdata": "zYMBAM2DAQA=",
          "dtype": "i4"
         },
         "y": {
          "bdata": "UZ7jmqNe8D9RnuOao17wPw==",
          "dtype": "f8"
         }
        },
        {
         "customdata": [
          [
           "Original Comsol Mesh",
           0,
           159
          ],
          [
           "s100_100_100_b0_4000_0_5000_-4000_0",
           0,
           159
          ]
         ],
         "hovertemplate": "Cells: %{x}<br>Entropy number: %{y}<br>Snap Idx: %{customdata[2]:03d}<br>Mapped: %{customdata[0]}<br>Rel Error: %{customdata[1]:.3f}%<extra></extra>",
         "line": {
          "color": "rgb(161, 252, 61)"
         },
         "mode": "markers+lines",
         "name": "159",
         "opacity": 0.4,
         "type": "scatter",
         "x": {
          "bdata": "zYMBAM2DAQA=",
          "dtype": "i4"
         },
         "y": {
          "bdata": "XuAdBoZs8D9e4B0GhmzwPw==",
          "dtype": "f8"
         }
        },
        {
         "customdata": [
          [
           "Original Comsol Mesh",
           0,
           160
          ],
          [
           "s100_100_100_b0_4000_0_5000_-4000_0",
           0,
           160
          ]
         ],
         "hovertemplate": "Cells: %{x}<br>Entropy number: %{y}<br>Snap Idx: %{customdata[2]:03d}<br>Mapped: %{customdata[0]}<br>Rel Error: %{customdata[1]:.3f}%<extra></extra>",
         "line": {
          "color": "rgb(164, 252, 59)"
         },
         "mode": "markers+lines",
         "name": "160",
         "opacity": 0.4,
         "type": "scatter",
         "x": {
          "bdata": "zYMBAM2DAQA=",
          "dtype": "i4"
         },
         "y": {
          "bdata": "vZZsg7zm8T+9lmyDvObxPw==",
          "dtype": "f8"
         }
        },
        {
         "customdata": [
          [
           "Original Comsol Mesh",
           0,
           161
          ],
          [
           "s100_100_100_b0_4000_0_5000_-4000_0",
           0,
           161
          ]
         ],
         "hovertemplate": "Cells: %{x}<br>Entropy number: %{y}<br>Snap Idx: %{customdata[2]:03d}<br>Mapped: %{customdata[0]}<br>Rel Error: %{customdata[1]:.3f}%<extra></extra>",
         "line": {
          "color": "rgb(166, 251, 59)"
         },
         "mode": "markers+lines",
         "name": "161",
         "opacity": 0.4,
         "type": "scatter",
         "x": {
          "bdata": "zYMBAM2DAQA=",
          "dtype": "i4"
         },
         "y": {
          "bdata": "a77QkWJe8T9rvtCRYl7xPw==",
          "dtype": "f8"
         }
        },
        {
         "customdata": [
          [
           "Original Comsol Mesh",
           0,
           162
          ],
          [
           "s100_100_100_b0_4000_0_5000_-4000_0",
           -2.0695956075043718e-14,
           162
          ]
         ],
         "hovertemplate": "Cells: %{x}<br>Entropy number: %{y}<br>Snap Idx: %{customdata[2]:03d}<br>Mapped: %{customdata[0]}<br>Rel Error: %{customdata[1]:.3f}%<extra></extra>",
         "line": {
          "color": "rgb(168, 250, 58)"
         },
         "mode": "markers+lines",
         "name": "162",
         "opacity": 0.4,
         "type": "scatter",
         "x": {
          "bdata": "zYMBAM2DAQA=",
          "dtype": "i4"
         },
         "y": {
          "bdata": "CNFrf40q8T8H0Wt/jSrxPw==",
          "dtype": "f8"
         }
        },
        {
         "customdata": [
          [
           "Original Comsol Mesh",
           0,
           163
          ],
          [
           "s100_100_100_b0_4000_0_5000_-4000_0",
           0,
           163
          ]
         ],
         "hovertemplate": "Cells: %{x}<br>Entropy number: %{y}<br>Snap Idx: %{customdata[2]:03d}<br>Mapped: %{customdata[0]}<br>Rel Error: %{customdata[1]:.3f}%<extra></extra>",
         "line": {
          "color": "rgb(170, 249, 58)"
         },
         "mode": "markers+lines",
         "name": "163",
         "opacity": 0.4,
         "type": "scatter",
         "x": {
          "bdata": "zYMBAM2DAQA=",
          "dtype": "i4"
         },
         "y": {
          "bdata": "1tLa+egY8T/W0tr56BjxPw==",
          "dtype": "f8"
         }
        },
        {
         "customdata": [
          [
           "Original Comsol Mesh",
           0,
           164
          ],
          [
           "s100_100_100_b0_4000_0_5000_-4000_0",
           0,
           164
          ]
         ],
         "hovertemplate": "Cells: %{x}<br>Entropy number: %{y}<br>Snap Idx: %{customdata[2]:03d}<br>Mapped: %{customdata[0]}<br>Rel Error: %{customdata[1]:.3f}%<extra></extra>",
         "line": {
          "color": "rgb(172, 249, 58)"
         },
         "mode": "markers+lines",
         "name": "164",
         "opacity": 0.4,
         "type": "scatter",
         "x": {
          "bdata": "zYMBAM2DAQA=",
          "dtype": "i4"
         },
         "y": {
          "bdata": "8v7G1KzI8D/y/sbUrMjwPw==",
          "dtype": "f8"
         }
        },
        {
         "customdata": [
          [
           "Original Comsol Mesh",
           0,
           165
          ],
          [
           "s100_100_100_b0_4000_0_5000_-4000_0",
           0,
           165
          ]
         ],
         "hovertemplate": "Cells: %{x}<br>Entropy number: %{y}<br>Snap Idx: %{customdata[2]:03d}<br>Mapped: %{customdata[0]}<br>Rel Error: %{customdata[1]:.3f}%<extra></extra>",
         "line": {
          "color": "rgb(174, 248, 57)"
         },
         "mode": "markers+lines",
         "name": "165",
         "opacity": 0.4,
         "type": "scatter",
         "x": {
          "bdata": "zYMBAM2DAQA=",
          "dtype": "i4"
         },
         "y": {
          "bdata": "WmJak9vv8D9aYlqT2+/wPw==",
          "dtype": "f8"
         }
        },
        {
         "customdata": [
          [
           "Original Comsol Mesh",
           0,
           166
          ],
          [
           "s100_100_100_b0_4000_0_5000_-4000_0",
           -3.942455569465493e-14,
           166
          ]
         ],
         "hovertemplate": "Cells: %{x}<br>Entropy number: %{y}<br>Snap Idx: %{customdata[2]:03d}<br>Mapped: %{customdata[0]}<br>Rel Error: %{customdata[1]:.3f}%<extra></extra>",
         "line": {
          "color": "rgb(176, 247, 57)"
         },
         "mode": "markers+lines",
         "name": "166",
         "opacity": 0.4,
         "type": "scatter",
         "x": {
          "bdata": "zYMBAM2DAQA=",
          "dtype": "i4"
         },
         "y": {
          "bdata": "xOk8TdkF8j/C6TxN2QXyPw==",
          "dtype": "f8"
         }
        },
        {
         "customdata": [
          [
           "Original Comsol Mesh",
           0,
           167
          ],
          [
           "s100_100_100_b0_4000_0_5000_-4000_0",
           0,
           167
          ]
         ],
         "hovertemplate": "Cells: %{x}<br>Entropy number: %{y}<br>Snap Idx: %{customdata[2]:03d}<br>Mapped: %{customdata[0]}<br>Rel Error: %{customdata[1]:.3f}%<extra></extra>",
         "line": {
          "color": "rgb(178, 246, 57)"
         },
         "mode": "markers+lines",
         "name": "167",
         "opacity": 0.4,
         "type": "scatter",
         "x": {
          "bdata": "zYMBAM2DAQA=",
          "dtype": "i4"
         },
         "y": {
          "bdata": "YmT+g7QA8T9iZP6DtADxPw==",
          "dtype": "f8"
         }
        },
        {
         "customdata": [
          [
           "Original Comsol Mesh",
           0,
           168
          ],
          [
           "s100_100_100_b0_4000_0_5000_-4000_0",
           0,
           168
          ]
         ],
         "hovertemplate": "Cells: %{x}<br>Entropy number: %{y}<br>Snap Idx: %{customdata[2]:03d}<br>Mapped: %{customdata[0]}<br>Rel Error: %{customdata[1]:.3f}%<extra></extra>",
         "line": {
          "color": "rgb(180, 245, 57)"
         },
         "mode": "markers+lines",
         "name": "168",
         "opacity": 0.4,
         "type": "scatter",
         "x": {
          "bdata": "zYMBAM2DAQA=",
          "dtype": "i4"
         },
         "y": {
          "bdata": "SqnNwqX28T9Kqc3CpfbxPw==",
          "dtype": "f8"
         }
        },
        {
         "customdata": [
          [
           "Original Comsol Mesh",
           0,
           169
          ],
          [
           "s100_100_100_b0_4000_0_5000_-4000_0",
           0,
           169
          ]
         ],
         "hovertemplate": "Cells: %{x}<br>Entropy number: %{y}<br>Snap Idx: %{customdata[2]:03d}<br>Mapped: %{customdata[0]}<br>Rel Error: %{customdata[1]:.3f}%<extra></extra>",
         "line": {
          "color": "rgb(182, 244, 56)"
         },
         "mode": "markers+lines",
         "name": "169",
         "opacity": 0.4,
         "type": "scatter",
         "x": {
          "bdata": "zYMBAM2DAQA=",
          "dtype": "i4"
         },
         "y": {
          "bdata": "8QJA19Pa8z/xAkDX09rzPw==",
          "dtype": "f8"
         }
        },
        {
         "customdata": [
          [
           "Original Comsol Mesh",
           0,
           170
          ],
          [
           "s100_100_100_b0_4000_0_5000_-4000_0",
           0,
           170
          ]
         ],
         "hovertemplate": "Cells: %{x}<br>Entropy number: %{y}<br>Snap Idx: %{customdata[2]:03d}<br>Mapped: %{customdata[0]}<br>Rel Error: %{customdata[1]:.3f}%<extra></extra>",
         "line": {
          "color": "rgb(184, 243, 56)"
         },
         "mode": "markers+lines",
         "name": "170",
         "opacity": 0.4,
         "type": "scatter",
         "x": {
          "bdata": "zYMBAM2DAQA=",
          "dtype": "i4"
         },
         "y": {
          "bdata": "NvwGwx6O8D82/AbDHo7wPw==",
          "dtype": "f8"
         }
        },
        {
         "customdata": [
          [
           "Original Comsol Mesh",
           0,
           171
          ],
          [
           "s100_100_100_b0_4000_0_5000_-4000_0",
           -2.2150289164489815e-14,
           171
          ]
         ],
         "hovertemplate": "Cells: %{x}<br>Entropy number: %{y}<br>Snap Idx: %{customdata[2]:03d}<br>Mapped: %{customdata[0]}<br>Rel Error: %{customdata[1]:.3f}%<extra></extra>",
         "line": {
          "color": "rgb(186, 242, 56)"
         },
         "mode": "markers+lines",
         "name": "171",
         "opacity": 0.4,
         "type": "scatter",
         "x": {
          "bdata": "zYMBAM2DAQA=",
          "dtype": "i4"
         },
         "y": {
          "bdata": "sErKbAQK8D+vSspsBArwPw==",
          "dtype": "f8"
         }
        },
        {
         "customdata": [
          [
           "Original Comsol Mesh",
           0,
           172
          ],
          [
           "s100_100_100_b0_4000_0_5000_-4000_0",
           4.427116029582778e-14,
           172
          ]
         ],
         "hovertemplate": "Cells: %{x}<br>Entropy number: %{y}<br>Snap Idx: %{customdata[2]:03d}<br>Mapped: %{customdata[0]}<br>Rel Error: %{customdata[1]:.3f}%<extra></extra>",
         "line": {
          "color": "rgb(188, 242, 55)"
         },
         "mode": "markers+lines",
         "name": "172",
         "opacity": 0.4,
         "type": "scatter",
         "x": {
          "bdata": "zYMBAM2DAQA=",
          "dtype": "i4"
         },
         "y": {
          "bdata": "cQV2574M8D9zBXbnvgzwPw==",
          "dtype": "f8"
         }
        },
        {
         "customdata": [
          [
           "Original Comsol Mesh",
           0,
           173
          ],
          [
           "s100_100_100_b0_4000_0_5000_-4000_0",
           0,
           173
          ]
         ],
         "hovertemplate": "Cells: %{x}<br>Entropy number: %{y}<br>Snap Idx: %{customdata[2]:03d}<br>Mapped: %{customdata[0]}<br>Rel Error: %{customdata[1]:.3f}%<extra></extra>",
         "line": {
          "color": "rgb(190, 241, 55)"
         },
         "mode": "markers+lines",
         "name": "173",
         "opacity": 0.4,
         "type": "scatter",
         "x": {
          "bdata": "zYMBAM2DAQA=",
          "dtype": "i4"
         },
         "y": {
          "bdata": "lQz69HX08D+VDPr0dfTwPw==",
          "dtype": "f8"
         }
        },
        {
         "customdata": [
          [
           "Original Comsol Mesh",
           0,
           174
          ],
          [
           "s100_100_100_b0_4000_0_5000_-4000_0",
           0,
           174
          ]
         ],
         "hovertemplate": "Cells: %{x}<br>Entropy number: %{y}<br>Snap Idx: %{customdata[2]:03d}<br>Mapped: %{customdata[0]}<br>Rel Error: %{customdata[1]:.3f}%<extra></extra>",
         "line": {
          "color": "rgb(192, 240, 55)"
         },
         "mode": "markers+lines",
         "name": "174",
         "opacity": 0.4,
         "type": "scatter",
         "x": {
          "bdata": "zYMBAM2DAQA=",
          "dtype": "i4"
         },
         "y": {
          "bdata": "rNEl2Gmp8D+s0SXYaanwPw==",
          "dtype": "f8"
         }
        },
        {
         "customdata": [
          [
           "Original Comsol Mesh",
           0,
           175
          ],
          [
           "s100_100_100_b0_4000_0_5000_-4000_0",
           0,
           175
          ]
         ],
         "hovertemplate": "Cells: %{x}<br>Entropy number: %{y}<br>Snap Idx: %{customdata[2]:03d}<br>Mapped: %{customdata[0]}<br>Rel Error: %{customdata[1]:.3f}%<extra></extra>",
         "line": {
          "color": "rgb(194, 239, 54)"
         },
         "mode": "markers+lines",
         "name": "175",
         "opacity": 0.4,
         "type": "scatter",
         "x": {
          "bdata": "zYMBAM2DAQA=",
          "dtype": "i4"
         },
         "y": {
          "bdata": "T6mFSek88D9PqYVJ6TzwPw==",
          "dtype": "f8"
         }
        },
        {
         "customdata": [
          [
           "Original Comsol Mesh",
           0,
           176
          ],
          [
           "s100_100_100_b0_4000_0_5000_-4000_0",
           0,
           176
          ]
         ],
         "hovertemplate": "Cells: %{x}<br>Entropy number: %{y}<br>Snap Idx: %{customdata[2]:03d}<br>Mapped: %{customdata[0]}<br>Rel Error: %{customdata[1]:.3f}%<extra></extra>",
         "line": {
          "color": "rgb(196, 238, 54)"
         },
         "mode": "markers+lines",
         "name": "176",
         "opacity": 0.4,
         "type": "scatter",
         "x": {
          "bdata": "zYMBAM2DAQA=",
          "dtype": "i4"
         },
         "y": {
          "bdata": "W3ONW8ux8D9bc41by7HwPw==",
          "dtype": "f8"
         }
        },
        {
         "customdata": [
          [
           "Original Comsol Mesh",
           0,
           177
          ],
          [
           "s100_100_100_b0_4000_0_5000_-4000_0",
           2.1584353146011095e-14,
           177
          ]
         ],
         "hovertemplate": "Cells: %{x}<br>Entropy number: %{y}<br>Snap Idx: %{customdata[2]:03d}<br>Mapped: %{customdata[0]}<br>Rel Error: %{customdata[1]:.3f}%<extra></extra>",
         "line": {
          "color": "rgb(197, 237, 54)"
         },
         "mode": "markers+lines",
         "name": "177",
         "opacity": 0.4,
         "type": "scatter",
         "x": {
          "bdata": "zYMBAM2DAQA=",
          "dtype": "i4"
         },
         "y": {
          "bdata": "jRtdDK118D+OG10MrXXwPw==",
          "dtype": "f8"
         }
        },
        {
         "customdata": [
          [
           "Original Comsol Mesh",
           0,
           178
          ],
          [
           "s100_100_100_b0_4000_0_5000_-4000_0",
           0,
           178
          ]
         ],
         "hovertemplate": "Cells: %{x}<br>Entropy number: %{y}<br>Snap Idx: %{customdata[2]:03d}<br>Mapped: %{customdata[0]}<br>Rel Error: %{customdata[1]:.3f}%<extra></extra>",
         "line": {
          "color": "rgb(199, 236, 53)"
         },
         "mode": "markers+lines",
         "name": "178",
         "opacity": 0.4,
         "type": "scatter",
         "x": {
          "bdata": "zYMBAM2DAQA=",
          "dtype": "i4"
         },
         "y": {
          "bdata": "pEe2aYP38D+kR7Zpg/fwPw==",
          "dtype": "f8"
         }
        },
        {
         "customdata": [
          [
           "Original Comsol Mesh",
           0,
           179
          ],
          [
           "s100_100_100_b0_4000_0_5000_-4000_0",
           2.2267086943274615e-14,
           179
          ]
         ],
         "hovertemplate": "Cells: %{x}<br>Entropy number: %{y}<br>Snap Idx: %{customdata[2]:03d}<br>Mapped: %{customdata[0]}<br>Rel Error: %{customdata[1]:.3f}%<extra></extra>",
         "line": {
          "color": "rgb(201, 235, 53)"
         },
         "mode": "markers+lines",
         "name": "179",
         "opacity": 0.4,
         "type": "scatter",
         "x": {
          "bdata": "zYMBAM2DAQA=",
          "dtype": "i4"
         },
         "y": {
          "bdata": "u5gUvPXo7z+9mBS89ejvPw==",
          "dtype": "f8"
         }
        },
        {
         "customdata": [
          [
           "Original Comsol Mesh",
           0,
           180
          ],
          [
           "s100_100_100_b0_4000_0_5000_-4000_0",
           0.3151773879467425,
           180
          ]
         ],
         "hovertemplate": "Cells: %{x}<br>Entropy number: %{y}<br>Snap Idx: %{customdata[2]:03d}<br>Mapped: %{customdata[0]}<br>Rel Error: %{customdata[1]:.3f}%<extra></extra>",
         "line": {
          "color": "rgb(203, 234, 53)"
         },
         "mode": "markers+lines",
         "name": "180",
         "opacity": 0.4,
         "type": "scatter",
         "x": {
          "bdata": "q4MBAM2DAQA=",
          "dtype": "i4"
         },
         "y": {
          "bdata": "VFs+8Eov8D9AnaL4WTzwPw==",
          "dtype": "f8"
         }
        },
        {
         "customdata": [
          [
           "Original Comsol Mesh",
           0,
           181
          ],
          [
           "s100_100_100_b0_4000_0_5000_-4000_0",
           0.33809504293091114,
           181
          ]
         ],
         "hovertemplate": "Cells: %{x}<br>Entropy number: %{y}<br>Snap Idx: %{customdata[2]:03d}<br>Mapped: %{customdata[0]}<br>Rel Error: %{customdata[1]:.3f}%<extra></extra>",
         "line": {
          "color": "rgb(205, 234, 53)"
         },
         "mode": "markers+lines",
         "name": "181",
         "opacity": 0.4,
         "type": "scatter",
         "x": {
          "bdata": "q4MBAM2DAQA=",
          "dtype": "i4"
         },
         "y": {
          "bdata": "24+8EoKj8T+izMdZxrLxPw==",
          "dtype": "f8"
         }
        },
        {
         "customdata": [
          [
           "Original Comsol Mesh",
           0,
           182
          ],
          [
           "s100_100_100_b0_4000_0_5000_-4000_0",
           0.2881728517078873,
           182
          ]
         ],
         "hovertemplate": "Cells: %{x}<br>Entropy number: %{y}<br>Snap Idx: %{customdata[2]:03d}<br>Mapped: %{customdata[0]}<br>Rel Error: %{customdata[1]:.3f}%<extra></extra>",
         "line": {
          "color": "rgb(207, 233, 52)"
         },
         "mode": "markers+lines",
         "name": "182",
         "opacity": 0.4,
         "type": "scatter",
         "x": {
          "bdata": "q4MBAM2DAQA=",
          "dtype": "i4"
         },
         "y": {
          "bdata": "EASO2RDz8T+Ehbe7TgDyPw==",
          "dtype": "f8"
         }
        },
        {
         "customdata": [
          [
           "Original Comsol Mesh",
           0,
           183
          ],
          [
           "s100_100_100_b0_4000_0_5000_-4000_0",
           0.3136721315408008,
           183
          ]
         ],
         "hovertemplate": "Cells: %{x}<br>Entropy number: %{y}<br>Snap Idx: %{customdata[2]:03d}<br>Mapped: %{customdata[0]}<br>Rel Error: %{customdata[1]:.3f}%<extra></extra>",
         "line": {
          "color": "rgb(209, 232, 52)"
         },
         "mode": "markers+lines",
         "name": "183",
         "opacity": 0.4,
         "type": "scatter",
         "x": {
          "bdata": "q4MBAM2DAQA=",
          "dtype": "i4"
         },
         "y": {
          "bdata": "gO0C8Vwu8T9BaHLUKDzxPw==",
          "dtype": "f8"
         }
        },
        {
         "customdata": [
          [
           "Original Comsol Mesh",
           0,
           184
          ],
          [
           "s100_100_100_b0_4000_0_5000_-4000_0",
           0.2916824956261363,
           184
          ]
         ],
         "hovertemplate": "Cells: %{x}<br>Entropy number: %{y}<br>Snap Idx: %{customdata[2]:03d}<br>Mapped: %{customdata[0]}<br>Rel Error: %{customdata[1]:.3f}%<extra></extra>",
         "line": {
          "color": "rgb(211, 230, 52)"
         },
         "mode": "markers+lines",
         "name": "184",
         "opacity": 0.4,
         "type": "scatter",
         "x": {
          "bdata": "q4MBAM2DAQA=",
          "dtype": "i4"
         },
         "y": {
          "bdata": "akvwbZLC8j+H4WKLlNDyPw==",
          "dtype": "f8"
         }
        },
        {
         "customdata": [
          [
           "Original Comsol Mesh",
           0,
           185
          ],
          [
           "s100_100_100_b0_4000_0_5000_-4000_0",
           0.2884206208383827,
           185
          ]
         ],
         "hovertemplate": "Cells: %{x}<br>Entropy number: %{y}<br>Snap Idx: %{customdata[2]:03d}<br>Mapped: %{customdata[0]}<br>Rel Error: %{customdata[1]:.3f}%<extra></extra>",
         "line": {
          "color": "rgb(212, 229, 53)"
         },
         "mode": "markers+lines",
         "name": "185",
         "opacity": 0.4,
         "type": "scatter",
         "x": {
          "bdata": "q4MBAM2DAQA=",
          "dtype": "i4"
         },
         "y": {
          "bdata": "Mu5sVRrb8T/MdENwSejxPw==",
          "dtype": "f8"
         }
        },
        {
         "customdata": [
          [
           "Original Comsol Mesh",
           0,
           186
          ],
          [
           "s100_100_100_b0_4000_0_5000_-4000_0",
           0.30532648642134996,
           186
          ]
         ],
         "hovertemplate": "Cells: %{x}<br>Entropy number: %{y}<br>Snap Idx: %{customdata[2]:03d}<br>Mapped: %{customdata[0]}<br>Rel Error: %{customdata[1]:.3f}%<extra></extra>",
         "line": {
          "color": "rgb(214, 227, 53)"
         },
         "mode": "markers+lines",
         "name": "186",
         "opacity": 0.4,
         "type": "scatter",
         "x": {
          "bdata": "q4MBAM2DAQA=",
          "dtype": "i4"
         },
         "y": {
          "bdata": "mrHvvo4N8D/IdVfsGhrwPw==",
          "dtype": "f8"
         }
        },
        {
         "customdata": [
          [
           "Original Comsol Mesh",
           0,
           187
          ],
          [
           "s100_100_100_b0_4000_0_5000_-4000_0",
           0.3168432947618873,
           187
          ]
         ],
         "hovertemplate": "Cells: %{x}<br>Entropy number: %{y}<br>Snap Idx: %{customdata[2]:03d}<br>Mapped: %{customdata[0]}<br>Rel Error: %{customdata[1]:.3f}%<extra></extra>",
         "line": {
          "color": "rgb(215, 226, 53)"
         },
         "mode": "markers+lines",
         "name": "187",
         "opacity": 0.4,
         "type": "scatter",
         "x": {
          "bdata": "q4MBAM2DAQA=",
          "dtype": "i4"
         },
         "y": {
          "bdata": "o07GkB6E8D9JPqMShJHwPw==",
          "dtype": "f8"
         }
        },
        {
         "customdata": [
          [
           "Original Comsol Mesh",
           0,
           188
          ],
          [
           "s100_100_100_b0_4000_0_5000_-4000_0",
           0.2925359398376432,
           188
          ]
         ],
         "hovertemplate": "Cells: %{x}<br>Entropy number: %{y}<br>Snap Idx: %{customdata[2]:03d}<br>Mapped: %{customdata[0]}<br>Rel Error: %{customdata[1]:.3f}%<extra></extra>",
         "line": {
          "color": "rgb(217, 224, 53)"
         },
         "mode": "markers+lines",
         "name": "188",
         "opacity": 0.4,
         "type": "scatter",
         "x": {
          "bdata": "q4MBAM2DAQA=",
          "dtype": "i4"
         },
         "y": {
          "bdata": "gkJ/gWDi8j/PXp/uhPDyPw==",
          "dtype": "f8"
         }
        },
        {
         "customdata": [
          [
           "Original Comsol Mesh",
           0,
           189
          ],
          [
           "s100_100_100_b0_4000_0_5000_-4000_0",
           0.3092295746480665,
           189
          ]
         ],
         "hovertemplate": "Cells: %{x}<br>Entropy number: %{y}<br>Snap Idx: %{customdata[2]:03d}<br>Mapped: %{customdata[0]}<br>Rel Error: %{customdata[1]:.3f}%<extra></extra>",
         "line": {
          "color": "rgb(218, 223, 54)"
         },
         "mode": "markers+lines",
         "name": "189",
         "opacity": 0.4,
         "type": "scatter",
         "x": {
          "bdata": "q4MBAM2DAQA=",
          "dtype": "i4"
         },
         "y": {
          "bdata": "m4KUJxlk8D8jPfvmEnHwPw==",
          "dtype": "f8"
         }
        },
        {
         "customdata": [
          [
           "Original Comsol Mesh",
           0,
           190
          ],
          [
           "s100_100_100_b0_4000_0_5000_-4000_0",
           0.30733547313697235,
           190
          ]
         ],
         "hovertemplate": "Cells: %{x}<br>Entropy number: %{y}<br>Snap Idx: %{customdata[2]:03d}<br>Mapped: %{customdata[0]}<br>Rel Error: %{customdata[1]:.3f}%<extra></extra>",
         "line": {
          "color": "rgb(220, 221, 54)"
         },
         "mode": "markers+lines",
         "name": "190",
         "opacity": 0.4,
         "type": "scatter",
         "x": {
          "bdata": "q4MBAM2DAQA=",
          "dtype": "i4"
         },
         "y": {
          "bdata": "Q7oBbaiB8T9PqtF/bo/xPw==",
          "dtype": "f8"
         }
        },
        {
         "customdata": [
          [
           "Original Comsol Mesh",
           0,
           191
          ],
          [
           "s100_100_100_b0_4000_0_5000_-4000_0",
           0.31694544970032523,
           191
          ]
         ],
         "hovertemplate": "Cells: %{x}<br>Entropy number: %{y}<br>Snap Idx: %{customdata[2]:03d}<br>Mapped: %{customdata[0]}<br>Rel Error: %{customdata[1]:.3f}%<extra></extra>",
         "line": {
          "color": "rgb(221, 220, 54)"
         },
         "mode": "markers+lines",
         "name": "191",
         "opacity": 0.4,
         "type": "scatter",
         "x": {
          "bdata": "q4MBAM2DAQA=",
          "dtype": "i4"
         },
         "y": {
          "bdata": "VQ1nMP+z8T9DrrxcXMLxPw==",
          "dtype": "f8"
         }
        },
        {
         "customdata": [
          [
           "Original Comsol Mesh",
           0,
           192
          ],
          [
           "s100_100_100_b0_4000_0_5000_-4000_0",
           0.316295431729999,
           192
          ]
         ],
         "hovertemplate": "Cells: %{x}<br>Entropy number: %{y}<br>Snap Idx: %{customdata[2]:03d}<br>Mapped: %{customdata[0]}<br>Rel Error: %{customdata[1]:.3f}%<extra></extra>",
         "line": {
          "color": "rgb(223, 218, 54)"
         },
         "mode": "markers+lines",
         "name": "192",
         "opacity": 0.4,
         "type": "scatter",
         "x": {
          "bdata": "q4MBAM2DAQA=",
          "dtype": "i4"
         },
         "y": {
          "bdata": "ZMuMdBlt8j8qkbT3BHzyPw==",
          "dtype": "f8"
         }
        },
        {
         "customdata": [
          [
           "Original Comsol Mesh",
           0,
           193
          ],
          [
           "s100_100_100_b0_4000_0_5000_-4000_0",
           0.31505175496229726,
           193
          ]
         ],
         "hovertemplate": "Cells: %{x}<br>Entropy number: %{y}<br>Snap Idx: %{customdata[2]:03d}<br>Mapped: %{customdata[0]}<br>Rel Error: %{customdata[1]:.3f}%<extra></extra>",
         "line": {
          "color": "rgb(224, 217, 55)"
         },
         "mode": "markers+lines",
         "name": "193",
         "opacity": 0.4,
         "type": "scatter",
         "x": {
          "bdata": "q4MBAM2DAQA=",
          "dtype": "i4"
         },
         "y": {
          "bdata": "jS2oS7zZ8D8Hq6F2U+fwPw==",
          "dtype": "f8"
         }
        },
        {
         "customdata": [
          [
           "Original Comsol Mesh",
           0,
           194
          ],
          [
           "s100_100_100_b0_4000_0_5000_-4000_0",
           0.3109417827870047,
           194
          ]
         ],
         "hovertemplate": "Cells: %{x}<br>Entropy number: %{y}<br>Snap Idx: %{customdata[2]:03d}<br>Mapped: %{customdata[0]}<br>Rel Error: %{customdata[1]:.3f}%<extra></extra>",
         "line": {
          "color": "rgb(226, 215, 55)"
         },
         "mode": "markers+lines",
         "name": "194",
         "opacity": 0.4,
         "type": "scatter",
         "x": {
          "bdata": "q4MBAM2DAQA=",
          "dtype": "i4"
         },
         "y": {
          "bdata": "ldNBKaMQ9D8wNhb7myD0Pw==",
          "dtype": "f8"
         }
        },
        {
         "customdata": [
          [
           "Original Comsol Mesh",
           0,
           195
          ],
          [
           "s100_100_100_b0_4000_0_5000_-4000_0",
           0.3064655400117976,
           195
          ]
         ],
         "hovertemplate": "Cells: %{x}<br>Entropy number: %{y}<br>Snap Idx: %{customdata[2]:03d}<br>Mapped: %{customdata[0]}<br>Rel Error: %{customdata[1]:.3f}%<extra></extra>",
         "line": {
          "color": "rgb(227, 214, 55)"
         },
         "mode": "markers+lines",
         "name": "195",
         "opacity": 0.4,
         "type": "scatter",
         "x": {
          "bdata": "q4MBAM2DAQA=",
          "dtype": "i4"
         },
         "y": {
          "bdata": "625BLqr08T8ZspGAwALyPw==",
          "dtype": "f8"
         }
        },
        {
         "customdata": [
          [
           "Original Comsol Mesh",
           0,
           196
          ],
          [
           "s100_100_100_b0_4000_0_5000_-4000_0",
           0.3078575388682388,
           196
          ]
         ],
         "hovertemplate": "Cells: %{x}<br>Entropy number: %{y}<br>Snap Idx: %{customdata[2]:03d}<br>Mapped: %{customdata[0]}<br>Rel Error: %{customdata[1]:.3f}%<extra></extra>",
         "line": {
          "color": "rgb(229, 212, 55)"
         },
         "mode": "markers+lines",
         "name": "196",
         "opacity": 0.4,
         "type": "scatter",
         "x": {
          "bdata": "q4MBAM2DAQA=",
          "dtype": "i4"
         },
         "y": {
          "bdata": "Jal4po1O8T9mLehvMVzxPw==",
          "dtype": "f8"
         }
        },
        {
         "customdata": [
          [
           "Original Comsol Mesh",
           0,
           197
          ],
          [
           "s100_100_100_b0_4000_0_5000_-4000_0",
           0.32231945207108137,
           197
          ]
         ],
         "hovertemplate": "Cells: %{x}<br>Entropy number: %{y}<br>Snap Idx: %{customdata[2]:03d}<br>Mapped: %{customdata[0]}<br>Rel Error: %{customdata[1]:.3f}%<extra></extra>",
         "line": {
          "color": "rgb(230, 211, 56)"
         },
         "mode": "markers+lines",
         "name": "197",
         "opacity": 0.4,
         "type": "scatter",
         "x": {
          "bdata": "q4MBAM2DAQA=",
          "dtype": "i4"
         },
         "y": {
          "bdata": "YuIP/NnF8z+yaqm1KtbzPw==",
          "dtype": "f8"
         }
        },
        {
         "customdata": [
          [
           "Original Comsol Mesh",
           0,
           198
          ],
          [
           "s100_100_100_b0_4000_0_5000_-4000_0",
           0.3077879837487886,
           198
          ]
         ],
         "hovertemplate": "Cells: %{x}<br>Entropy number: %{y}<br>Snap Idx: %{customdata[2]:03d}<br>Mapped: %{customdata[0]}<br>Rel Error: %{customdata[1]:.3f}%<extra></extra>",
         "line": {
          "color": "rgb(232, 209, 56)"
         },
         "mode": "markers+lines",
         "name": "198",
         "opacity": 0.4,
         "type": "scatter",
         "x": {
          "bdata": "q4MBAM2DAQA=",
          "dtype": "i4"
         },
         "y": {
          "bdata": "wLp3rJoY8T9IgsIpEybxPw==",
          "dtype": "f8"
         }
        },
        {
         "customdata": [
          [
           "Original Comsol Mesh",
           0,
           199
          ],
          [
           "s100_100_100_b0_4000_0_5000_-4000_0",
           0.3070246399914817,
           199
          ]
         ],
         "hovertemplate": "Cells: %{x}<br>Entropy number: %{y}<br>Snap Idx: %{customdata[2]:03d}<br>Mapped: %{customdata[0]}<br>Rel Error: %{customdata[1]:.3f}%<extra></extra>",
         "line": {
          "color": "rgb(233, 208, 56)"
         },
         "mode": "markers+lines",
         "name": "199",
         "opacity": 0.4,
         "type": "scatter",
         "x": {
          "bdata": "q4MBAM2DAQA=",
          "dtype": "i4"
         },
         "y": {
          "bdata": "du9yYcK/8z9mADYfSM/zPw==",
          "dtype": "f8"
         }
        },
        {
         "customdata": [
          [
           "Original Comsol Mesh",
           0,
           200
          ],
          [
           "s100_100_100_b0_4000_0_5000_-4000_0",
           0.32744506873530443,
           200
          ]
         ],
         "hovertemplate": "Cells: %{x}<br>Entropy number: %{y}<br>Snap Idx: %{customdata[2]:03d}<br>Mapped: %{customdata[0]}<br>Rel Error: %{customdata[1]:.3f}%<extra></extra>",
         "line": {
          "color": "rgb(235, 206, 57)"
         },
         "mode": "markers+lines",
         "name": "200",
         "opacity": 0.4,
         "type": "scatter",
         "x": {
          "bdata": "q4MBAM2DAQA=",
          "dtype": "i4"
         },
         "y": {
          "bdata": "m94TPnw58T9KjO+I7EfxPw==",
          "dtype": "f8"
         }
        },
        {
         "customdata": [
          [
           "Original Comsol Mesh",
           0,
           201
          ],
          [
           "s100_100_100_b0_4000_0_5000_-4000_0",
           0.3055362580924579,
           201
          ]
         ],
         "hovertemplate": "Cells: %{x}<br>Entropy number: %{y}<br>Snap Idx: %{customdata[2]:03d}<br>Mapped: %{customdata[0]}<br>Rel Error: %{customdata[1]:.3f}%<extra></extra>",
         "line": {
          "color": "rgb(236, 205, 57)"
         },
         "mode": "markers+lines",
         "name": "201",
         "opacity": 0.4,
         "type": "scatter",
         "x": {
          "bdata": "q4MBAM2DAQA=",
          "dtype": "i4"
         },
         "y": {
          "bdata": "kPMx7kgS8D+SrCMD2x7wPw==",
          "dtype": "f8"
         }
        },
        {
         "customdata": [
          [
           "Original Comsol Mesh",
           0,
           202
          ],
          [
           "s100_100_100_b0_4000_0_5000_-4000_0",
           0.29559827723697096,
           202
          ]
         ],
         "hovertemplate": "Cells: %{x}<br>Entropy number: %{y}<br>Snap Idx: %{customdata[2]:03d}<br>Mapped: %{customdata[0]}<br>Rel Error: %{customdata[1]:.3f}%<extra></extra>",
         "line": {
          "color": "rgb(237, 204, 57)"
         },
         "mode": "markers+lines",
         "name": "202",
         "opacity": 0.4,
         "type": "scatter",
         "x": {
          "bdata": "q4MBAM2DAQA=",
          "dtype": "i4"
         },
         "y": {
          "bdata": "Qn1rdlMD7z/c/8BmyxrvPw==",
          "dtype": "f8"
         }
        },
        {
         "customdata": [
          [
           "Original Comsol Mesh",
           0,
           203
          ],
          [
           "s100_100_100_b0_4000_0_5000_-4000_0",
           0.29033389106643354,
           203
          ]
         ],
         "hovertemplate": "Cells: %{x}<br>Entropy number: %{y}<br>Snap Idx: %{customdata[2]:03d}<br>Mapped: %{customdata[0]}<br>Rel Error: %{customdata[1]:.3f}%<extra></extra>",
         "line": {
          "color": "rgb(239, 202, 57)"
         },
         "mode": "markers+lines",
         "name": "203",
         "opacity": 0.4,
         "type": "scatter",
         "x": {
          "bdata": "q4MBAM2DAQA=",
          "dtype": "i4"
         },
         "y": {
          "bdata": "erzogYMP8D/U+NpocxvwPw==",
          "dtype": "f8"
         }
        },
        {
         "customdata": [
          [
           "Original Comsol Mesh",
           0,
           204
          ],
          [
           "s100_100_100_b0_4000_0_5000_-4000_0",
           0.3076968675749311,
           204
          ]
         ],
         "hovertemplate": "Cells: %{x}<br>Entropy number: %{y}<br>Snap Idx: %{customdata[2]:03d}<br>Mapped: %{customdata[0]}<br>Rel Error: %{customdata[1]:.3f}%<extra></extra>",
         "line": {
          "color": "rgb(240, 201, 58)"
         },
         "mode": "markers+lines",
         "name": "204",
         "opacity": 0.4,
         "type": "scatter",
         "x": {
          "bdata": "q4MBAM2DAQA=",
          "dtype": "i4"
         },
         "y": {
          "bdata": "JlizUms78T+Oji03/kjxPw==",
          "dtype": "f8"
         }
        },
        {
         "customdata": [
          [
           "Original Comsol Mesh",
           0,
           205
          ],
          [
           "s100_100_100_b0_4000_0_5000_-4000_0",
           0.29258033807101247,
           205
          ]
         ],
         "hovertemplate": "Cells: %{x}<br>Entropy number: %{y}<br>Snap Idx: %{customdata[2]:03d}<br>Mapped: %{customdata[0]}<br>Rel Error: %{customdata[1]:.3f}%<extra></extra>",
         "line": {
          "color": "rgb(242, 199, 58)"
         },
         "mode": "markers+lines",
         "name": "205",
         "opacity": 0.4,
         "type": "scatter",
         "x": {
          "bdata": "q4MBAM2DAQA=",
          "dtype": "i4"
         },
         "y": {
          "bdata": "ixTpGfhY8D8yOLSqNmXwPw==",
          "dtype": "f8"
         }
        },
        {
         "customdata": [
          [
           "Original Comsol Mesh",
           0,
           206
          ],
          [
           "s100_100_100_b0_4000_0_5000_-4000_0",
           0.3180309720144426,
           206
          ]
         ],
         "hovertemplate": "Cells: %{x}<br>Entropy number: %{y}<br>Snap Idx: %{customdata[2]:03d}<br>Mapped: %{customdata[0]}<br>Rel Error: %{customdata[1]:.3f}%<extra></extra>",
         "line": {
          "color": "rgb(243, 197, 58)"
         },
         "mode": "markers+lines",
         "name": "206",
         "opacity": 0.4,
         "type": "scatter",
         "x": {
          "bdata": "q4MBAM2DAQA=",
          "dtype": "i4"
         },
         "y": {
          "bdata": "ZskfNbwm8j+wcN9jgzXyPw==",
          "dtype": "f8"
         }
        },
        {
         "customdata": [
          [
           "Original Comsol Mesh",
           0,
           207
          ],
          [
           "s100_100_100_b0_4000_0_5000_-4000_0",
           0.3082345846235039,
           207
          ]
         ],
         "hovertemplate": "Cells: %{x}<br>Entropy number: %{y}<br>Snap Idx: %{customdata[2]:03d}<br>Mapped: %{customdata[0]}<br>Rel Error: %{customdata[1]:.3f}%<extra></extra>",
         "line": {
          "color": "rgb(244, 196, 57)"
         },
         "mode": "markers+lines",
         "name": "207",
         "opacity": 0.4,
         "type": "scatter",
         "x": {
          "bdata": "q4MBAM2DAQA=",
          "dtype": "i4"
         },
         "y": {
          "bdata": "J6z7OXVm8D8rNd4lZnPwPw==",
          "dtype": "f8"
         }
        },
        {
         "customdata": [
          [
           "Original Comsol Mesh",
           0,
           208
          ],
          [
           "s100_100_100_b0_4000_0_5000_-4000_0",
           0.3153369787479225,
           208
          ]
         ],
         "hovertemplate": "Cells: %{x}<br>Entropy number: %{y}<br>Snap Idx: %{customdata[2]:03d}<br>Mapped: %{customdata[0]}<br>Rel Error: %{customdata[1]:.3f}%<extra></extra>",
         "line": {
          "color": "rgb(244, 194, 57)"
         },
         "mode": "markers+lines",
         "name": "208",
         "opacity": 0.4,
         "type": "scatter",
         "x": {
          "bdata": "q4MBAM2DAQA=",
          "dtype": "i4"
         },
         "y": {
          "bdata": "Hi940tlL8j83kYrrnlryPw==",
          "dtype": "f8"
         }
        },
        {
         "customdata": [
          [
           "Original Comsol Mesh",
           0,
           209
          ],
          [
           "s100_100_100_b0_4000_0_5000_-4000_0",
           0.31244751209618726,
           209
          ]
         ],
         "hovertemplate": "Cells: %{x}<br>Entropy number: %{y}<br>Snap Idx: %{customdata[2]:03d}<br>Mapped: %{customdata[0]}<br>Rel Error: %{customdata[1]:.3f}%<extra></extra>",
         "line": {
          "color": "rgb(245, 192, 56)"
         },
         "mode": "markers+lines",
         "name": "209",
         "opacity": 0.4,
         "type": "scatter",
         "x": {
          "bdata": "q4MBAM2DAQA=",
          "dtype": "i4"
         },
         "y": {
          "bdata": "RIqxGsGb8j8VCLZ3o6ryPw==",
          "dtype": "f8"
         }
        },
        {
         "customdata": [
          [
           "Original Comsol Mesh",
           0,
           210
          ],
          [
           "s100_100_100_b0_4000_0_5000_-4000_0",
           0.2948229390317189,
           210
          ]
         ],
         "hovertemplate": "Cells: %{x}<br>Entropy number: %{y}<br>Snap Idx: %{customdata[2]:03d}<br>Mapped: %{customdata[0]}<br>Rel Error: %{customdata[1]:.3f}%<extra></extra>",
         "line": {
          "color": "rgb(245, 190, 56)"
         },
         "mode": "markers+lines",
         "name": "210",
         "opacity": 0.4,
         "type": "scatter",
         "x": {
          "bdata": "q4MBAM2DAQA=",
          "dtype": "i4"
         },
         "y": {
          "bdata": "UGzkSkNr8D8ZEAGxp3fwPw==",
          "dtype": "f8"
         }
        },
        {
         "customdata": [
          [
           "Original Comsol Mesh",
           0,
           211
          ],
          [
           "s100_100_100_b0_4000_0_5000_-4000_0",
           0.2923118569182111,
           211
          ]
         ],
         "hovertemplate": "Cells: %{x}<br>Entropy number: %{y}<br>Snap Idx: %{customdata[2]:03d}<br>Mapped: %{customdata[0]}<br>Rel Error: %{customdata[1]:.3f}%<extra></extra>",
         "line": {
          "color": "rgb(246, 188, 55)"
         },
         "mode": "markers+lines",
         "name": "211",
         "opacity": 0.4,
         "type": "scatter",
         "x": {
          "bdata": "q4MBAM2DAQA=",
          "dtype": "i4"
         },
         "y": {
          "bdata": "StrkwPNs8D8lmHhlPnnwPw==",
          "dtype": "f8"
         }
        },
        {
         "customdata": [
          [
           "Original Comsol Mesh",
           0,
           212
          ],
          [
           "s100_100_100_b0_4000_0_5000_-4000_0",
           0.3099842305900133,
           212
          ]
         ],
         "hovertemplate": "Cells: %{x}<br>Entropy number: %{y}<br>Snap Idx: %{customdata[2]:03d}<br>Mapped: %{customdata[0]}<br>Rel Error: %{customdata[1]:.3f}%<extra></extra>",
         "line": {
          "color": "rgb(246, 186, 54)"
         },
         "mode": "markers+lines",
         "name": "212",
         "opacity": 0.4,
         "type": "scatter",
         "x": {
          "bdata": "q4MBAM2DAQA=",
          "dtype": "i4"
         },
         "y": {
          "bdata": "TaQCMY9Z9D+VIJVJtWn0Pw==",
          "dtype": "f8"
         }
        },
        {
         "customdata": [
          [
           "Original Comsol Mesh",
           0,
           213
          ],
          [
           "s100_100_100_b0_4000_0_5000_-4000_0",
           0.2941438599939615,
           213
          ]
         ],
         "hovertemplate": "Cells: %{x}<br>Entropy number: %{y}<br>Snap Idx: %{customdata[2]:03d}<br>Mapped: %{customdata[0]}<br>Rel Error: %{customdata[1]:.3f}%<extra></extra>",
         "line": {
          "color": "rgb(247, 184, 54)"
         },
         "mode": "markers+lines",
         "name": "213",
         "opacity": 0.4,
         "type": "scatter",
         "x": {
          "bdata": "q4MBAM2DAQA=",
          "dtype": "i4"
         },
         "y": {
          "bdata": "opEJNZkT8z9caOaY9iHzPw==",
          "dtype": "f8"
         }
        },
        {
         "customdata": [
          [
           "Original Comsol Mesh",
           0,
           214
          ],
          [
           "s100_100_100_b0_4000_0_5000_-4000_0",
           0.3010211703234835,
           214
          ]
         ],
         "hovertemplate": "Cells: %{x}<br>Entropy number: %{y}<br>Snap Idx: %{customdata[2]:03d}<br>Mapped: %{customdata[0]}<br>Rel Error: %{customdata[1]:.3f}%<extra></extra>",
         "line": {
          "color": "rgb(247, 182, 53)"
         },
         "mode": "markers+lines",
         "name": "214",
         "opacity": 0.4,
         "type": "scatter",
         "x": {
          "bdata": "q4MBAM2DAQA=",
          "dtype": "i4"
         },
         "y": {
          "bdata": "aIV1Kin27T9+eJHmPw3uPw==",
          "dtype": "f8"
         }
        },
        {
         "customdata": [
          [
           "Original Comsol Mesh",
           0,
           215
          ],
          [
           "s100_100_100_b0_4000_0_5000_-4000_0",
           0.2960116628112442,
           215
          ]
         ],
         "hovertemplate": "Cells: %{x}<br>Entropy number: %{y}<br>Snap Idx: %{customdata[2]:03d}<br>Mapped: %{customdata[0]}<br>Rel Error: %{customdata[1]:.3f}%<extra></extra>",
         "line": {
          "color": "rgb(247, 181, 53)"
         },
         "mode": "markers+lines",
         "name": "215",
         "opacity": 0.4,
         "type": "scatter",
         "x": {
          "bdata": "q4MBAM2DAQA=",
          "dtype": "i4"
         },
         "y": {
          "bdata": "9v+4RMC47j+UONYYCNDuPw==",
          "dtype": "f8"
         }
        },
        {
         "customdata": [
          [
           "Original Comsol Mesh",
           0,
           216
          ],
          [
           "s100_100_100_b0_4000_0_5000_-4000_0",
           0.2949038099259433,
           216
          ]
         ],
         "hovertemplate": "Cells: %{x}<br>Entropy number: %{y}<br>Snap Idx: %{customdata[2]:03d}<br>Mapped: %{customdata[0]}<br>Rel Error: %{customdata[1]:.3f}%<extra></extra>",
         "line": {
          "color": "rgb(248, 179, 52)"
         },
         "mode": "markers+lines",
         "name": "216",
         "opacity": 0.4,
         "type": "scatter",
         "x": {
          "bdata": "q4MBAM2DAQA=",
          "dtype": "i4"
         },
         "y": {
          "bdata": "THF6fgBU8D/Pg8MzVGDwPw==",
          "dtype": "f8"
         }
        },
        {
         "customdata": [
          [
           "Original Comsol Mesh",
           0,
           217
          ],
          [
           "s100_100_100_b0_4000_0_5000_-4000_0",
           0.3008614046944736,
           217
          ]
         ],
         "hovertemplate": "Cells: %{x}<br>Entropy number: %{y}<br>Snap Idx: %{customdata[2]:03d}<br>Mapped: %{customdata[0]}<br>Rel Error: %{customdata[1]:.3f}%<extra></extra>",
         "line": {
          "color": "rgb(248, 177, 52)"
         },
         "mode": "markers+lines",
         "name": "217",
         "opacity": 0.4,
         "type": "scatter",
         "x": {
          "bdata": "q4MBAM2DAQA=",
          "dtype": "i4"
         },
         "y": {
          "bdata": "x6gh2Cz47T8Gg1L+QQ/uPw==",
          "dtype": "f8"
         }
        },
        {
         "customdata": [
          [
           "Original Comsol Mesh",
           0,
           218
          ],
          [
           "s100_100_100_b0_4000_0_5000_-4000_0",
           0.30948293526646653,
           218
          ]
         ],
         "hovertemplate": "Cells: %{x}<br>Entropy number: %{y}<br>Snap Idx: %{customdata[2]:03d}<br>Mapped: %{customdata[0]}<br>Rel Error: %{customdata[1]:.3f}%<extra></extra>",
         "line": {
          "color": "rgb(249, 175, 51)"
         },
         "mode": "markers+lines",
         "name": "218",
         "opacity": 0.4,
         "type": "scatter",
         "x": {
          "bdata": "q4MBAM2DAQA=",
          "dtype": "i4"
         },
         "y": {
          "bdata": "5+RpGIGH8D8B2LCdmZTwPw==",
          "dtype": "f8"
         }
        },
        {
         "customdata": [
          [
           "Original Comsol Mesh",
           0,
           219
          ],
          [
           "s100_100_100_b0_4000_0_5000_-4000_0",
           0.30082757527099696,
           219
          ]
         ],
         "hovertemplate": "Cells: %{x}<br>Entropy number: %{y}<br>Snap Idx: %{customdata[2]:03d}<br>Mapped: %{customdata[0]}<br>Rel Error: %{customdata[1]:.3f}%<extra></extra>",
         "line": {
          "color": "rgb(249, 173, 50)"
         },
         "mode": "markers+lines",
         "name": "219",
         "opacity": 0.4,
         "type": "scatter",
         "x": {
          "bdata": "q4MBAM2DAQA=",
          "dtype": "i4"
         },
         "y": {
          "bdata": "iqpORK/47T9/59ckxA/uPw==",
          "dtype": "f8"
         }
        },
        {
         "customdata": [
          [
           "Original Comsol Mesh",
           0,
           220
          ],
          [
           "s100_100_100_b0_4000_0_5000_-4000_0",
           0.3343241552792536,
           220
          ]
         ],
         "hovertemplate": "Cells: %{x}<br>Entropy number: %{y}<br>Snap Idx: %{customdata[2]:03d}<br>Mapped: %{customdata[0]}<br>Rel Error: %{customdata[1]:.3f}%<extra></extra>",
         "line": {
          "color": "rgb(250, 171, 50)"
         },
         "mode": "markers+lines",
         "name": "220",
         "opacity": 0.4,
         "type": "scatter",
         "x": {
          "bdata": "q4MBAM2DAQA=",
          "dtype": "i4"
         },
         "y": {
          "bdata": "fH3GS64b8T8+KpS7UirxPw==",
          "dtype": "f8"
         }
        },
        {
         "customdata": [
          [
           "Original Comsol Mesh",
           0,
           221
          ],
          [
           "s100_100_100_b0_4000_0_5000_-4000_0",
           0.3079629975675765,
           221
          ]
         ],
         "hovertemplate": "Cells: %{x}<br>Entropy number: %{y}<br>Snap Idx: %{customdata[2]:03d}<br>Mapped: %{customdata[0]}<br>Rel Error: %{customdata[1]:.3f}%<extra></extra>",
         "line": {
          "color": "rgb(250, 169, 49)"
         },
         "mode": "markers+lines",
         "name": "221",
         "opacity": 0.4,
         "type": "scatter",
         "x": {
          "bdata": "q4MBAM2DAQA=",
          "dtype": "i4"
         },
         "y": {
          "bdata": "rekszZTR8D8UfyFC197wPw==",
          "dtype": "f8"
         }
        },
        {
         "customdata": [
          [
           "Original Comsol Mesh",
           0,
           222
          ],
          [
           "s100_100_100_b0_4000_0_5000_-4000_0",
           0.3154117567346256,
           222
          ]
         ],
         "hovertemplate": "Cells: %{x}<br>Entropy number: %{y}<br>Snap Idx: %{customdata[2]:03d}<br>Mapped: %{customdata[0]}<br>Rel Error: %{customdata[1]:.3f}%<extra></extra>",
         "line": {
          "color": "rgb(251, 167, 49)"
         },
         "mode": "markers+lines",
         "name": "222",
         "opacity": 0.4,
         "type": "scatter",
         "x": {
          "bdata": "q4MBAM2DAQA=",
          "dtype": "i4"
         },
         "y": {
          "bdata": "SiCz8bup8D+8MyNUMLfwPw==",
          "dtype": "f8"
         }
        },
        {
         "customdata": [
          [
           "Original Comsol Mesh",
           0,
           223
          ],
          [
           "s100_100_100_b0_4000_0_5000_-4000_0",
           0.3089195504935424,
           223
          ]
         ],
         "hovertemplate": "Cells: %{x}<br>Entropy number: %{y}<br>Snap Idx: %{customdata[2]:03d}<br>Mapped: %{customdata[0]}<br>Rel Error: %{customdata[1]:.3f}%<extra></extra>",
         "line": {
          "color": "rgb(251, 165, 48)"
         },
         "mode": "markers+lines",
         "name": "223",
         "opacity": 0.4,
         "type": "scatter",
         "x": {
          "bdata": "q4MBAM2DAQA=",
          "dtype": "i4"
         },
         "y": {
          "bdata": "wexg9OQ/8D8xip69vkzwPw==",
          "dtype": "f8"
         }
        },
        {
         "customdata": [
          [
           "Original Comsol Mesh",
           0,
           224
          ],
          [
           "s100_100_100_b0_4000_0_5000_-4000_0",
           0.29293105565587724,
           224
          ]
         ],
         "hovertemplate": "Cells: %{x}<br>Entropy number: %{y}<br>Snap Idx: %{customdata[2]:03d}<br>Mapped: %{customdata[0]}<br>Rel Error: %{customdata[1]:.3f}%<extra></extra>",
         "line": {
          "color": "rgb(252, 164, 48)"
         },
         "mode": "markers+lines",
         "name": "224",
         "opacity": 0.4,
         "type": "scatter",
         "x": {
          "bdata": "q4MBAM2DAQA=",
          "dtype": "i4"
         },
         "y": {
          "bdata": "nv9THoXY8T+eJE8R5+XxPw==",
          "dtype": "f8"
         }
        },
        {
         "customdata": [
          [
           "Original Comsol Mesh",
           0,
           225
          ],
          [
           "s100_100_100_b0_4000_0_5000_-4000_0",
           0.32309402785000574,
           225
          ]
         ],
         "hovertemplate": "Cells: %{x}<br>Entropy number: %{y}<br>Snap Idx: %{customdata[2]:03d}<br>Mapped: %{customdata[0]}<br>Rel Error: %{customdata[1]:.3f}%<extra></extra>",
         "line": {
          "color": "rgb(252, 162, 47)"
         },
         "mode": "markers+lines",
         "name": "225",
         "opacity": 0.4,
         "type": "scatter",
         "x": {
          "bdata": "q4MBAM2DAQA=",
          "dtype": "i4"
         },
         "y": {
          "bdata": "gjfrYZ7d8D+OUQeTkevwPw==",
          "dtype": "f8"
         }
        },
        {
         "customdata": [
          [
           "Original Comsol Mesh",
           0,
           226
          ],
          [
           "s100_100_100_b0_4000_0_5000_-4000_0",
           0.30112996888062815,
           226
          ]
         ],
         "hovertemplate": "Cells: %{x}<br>Entropy number: %{y}<br>Snap Idx: %{customdata[2]:03d}<br>Mapped: %{customdata[0]}<br>Rel Error: %{customdata[1]:.3f}%<extra></extra>",
         "line": {
          "color": "rgb(253, 160, 46)"
         },
         "mode": "markers+lines",
         "name": "226",
         "opacity": 0.4,
         "type": "scatter",
         "x": {
          "bdata": "q4MBAM2DAQA=",
          "dtype": "i4"
         },
         "y": {
          "bdata": "/qJilK307T88E8ZOxQvuPw==",
          "dtype": "f8"
         }
        },
        {
         "customdata": [
          [
           "Original Comsol Mesh",
           0,
           227
          ],
          [
           "s100_100_100_b0_4000_0_5000_-4000_0",
           0.33512404574291643,
           227
          ]
         ],
         "hovertemplate": "Cells: %{x}<br>Entropy number: %{y}<br>Snap Idx: %{customdata[2]:03d}<br>Mapped: %{customdata[0]}<br>Rel Error: %{customdata[1]:.3f}%<extra></extra>",
         "line": {
          "color": "rgb(253, 158, 46)"
         },
         "mode": "markers+lines",
         "name": "227",
         "opacity": 0.4,
         "type": "scatter",
         "x": {
          "bdata": "q4MBAM2DAQA=",
          "dtype": "i4"
         },
         "y": {
          "bdata": "MOCz0HYx8T9We5noNkDxPw==",
          "dtype": "f8"
         }
        },
        {
         "customdata": [
          [
           "Original Comsol Mesh",
           0,
           228
          ],
          [
           "s100_100_100_b0_4000_0_5000_-4000_0",
           0.2927794567421105,
           228
          ]
         ],
         "hovertemplate": "Cells: %{x}<br>Entropy number: %{y}<br>Snap Idx: %{customdata[2]:03d}<br>Mapped: %{customdata[0]}<br>Rel Error: %{customdata[1]:.3f}%<extra></extra>",
         "line": {
          "color": "rgb(254, 156, 45)"
         },
         "mode": "markers+lines",
         "name": "228",
         "opacity": 0.4,
         "type": "scatter",
         "x": {
          "bdata": "q4MBAM2DAQA=",
          "dtype": "i4"
         },
         "y": {
          "bdata": "ascbFjrv8T8YihtIq/zxPw==",
          "dtype": "f8"
         }
        },
        {
         "customdata": [
          [
           "Original Comsol Mesh",
           0,
           229
          ],
          [
           "s100_100_100_b0_4000_0_5000_-4000_0",
           0.308324922254227,
           229
          ]
         ],
         "hovertemplate": "Cells: %{x}<br>Entropy number: %{y}<br>Snap Idx: %{customdata[2]:03d}<br>Mapped: %{customdata[0]}<br>Rel Error: %{customdata[1]:.3f}%<extra></extra>",
         "line": {
          "color": "rgb(254, 154, 45)"
         },
         "mode": "markers+lines",
         "name": "229",
         "opacity": 0.4,
         "type": "scatter",
         "x": {
          "bdata": "q4MBAM2DAQA=",
          "dtype": "i4"
         },
         "y": {
          "bdata": "JmAp6OpY8D+5iZoc0mXwPw==",
          "dtype": "f8"
         }
        },
        {
         "customdata": [
          [
           "Original Comsol Mesh",
           0,
           230
          ],
          [
           "s100_100_100_b0_4000_0_5000_-4000_0",
           0.3370531634846379,
           230
          ]
         ],
         "hovertemplate": "Cells: %{x}<br>Entropy number: %{y}<br>Snap Idx: %{customdata[2]:03d}<br>Mapped: %{customdata[0]}<br>Rel Error: %{customdata[1]:.3f}%<extra></extra>",
         "line": {
          "color": "rgb(253, 151, 43)"
         },
         "mode": "markers+lines",
         "name": "230",
         "opacity": 0.4,
         "type": "scatter",
         "x": {
          "bdata": "q4MBAM2DAQA=",
          "dtype": "i4"
         },
         "y": {
          "bdata": "mAtDhm3s8T9l1mmt5PvxPw==",
          "dtype": "f8"
         }
        },
        {
         "customdata": [
          [
           "Original Comsol Mesh",
           0,
           231
          ],
          [
           "s100_100_100_b0_4000_0_5000_-4000_0",
           0.29665843732122066,
           231
          ]
         ],
         "hovertemplate": "Cells: %{x}<br>Entropy number: %{y}<br>Snap Idx: %{customdata[2]:03d}<br>Mapped: %{customdata[0]}<br>Rel Error: %{customdata[1]:.3f}%<extra></extra>",
         "line": {
          "color": "rgb(253, 149, 42)"
         },
         "mode": "markers+lines",
         "name": "231",
         "opacity": 0.4,
         "type": "scatter",
         "x": {
          "bdata": "q4MBAM2DAQA=",
          "dtype": "i4"
         },
         "y": {
          "bdata": "cvIl7XoV9D9E5NGZuyT0Pw==",
          "dtype": "f8"
         }
        },
        {
         "customdata": [
          [
           "Original Comsol Mesh",
           0,
           232
          ],
          [
           "s100_100_100_b0_4000_0_5000_-4000_0",
           0.3117871723370044,
           232
          ]
         ],
         "hovertemplate": "Cells: %{x}<br>Entropy number: %{y}<br>Snap Idx: %{customdata[2]:03d}<br>Mapped: %{customdata[0]}<br>Rel Error: %{customdata[1]:.3f}%<extra></extra>",
         "line": {
          "color": "rgb(252, 147, 41)"
         },
         "mode": "markers+lines",
         "name": "232",
         "opacity": 0.4,
         "type": "scatter",
         "x": {
          "bdata": "q4MBAM2DAQA=",
          "dtype": "i4"
         },
         "y": {
          "bdata": "ogK7DW1B8D+BFrqZZk7wPw==",
          "dtype": "f8"
         }
        },
        {
         "customdata": [
          [
           "Original Comsol Mesh",
           0,
           233
          ],
          [
           "s100_100_100_b0_4000_0_5000_-4000_0",
           0.29507835978027447,
           233
          ]
         ],
         "hovertemplate": "Cells: %{x}<br>Entropy number: %{y}<br>Snap Idx: %{customdata[2]:03d}<br>Mapped: %{customdata[0]}<br>Rel Error: %{customdata[1]:.3f}%<extra></extra>",
         "line": {
          "color": "rgb(252, 144, 40)"
         },
         "mode": "markers+lines",
         "name": "233",
         "opacity": 0.4,
         "type": "scatter",
         "x": {
          "bdata": "q4MBAM2DAQA=",
          "dtype": "i4"
         },
         "y": {
          "bdata": "2h4c+LMM8D8TB5ev0xjwPw==",
          "dtype": "f8"
         }
        },
        {
         "customdata": [
          [
           "Original Comsol Mesh",
           0,
           234
          ],
          [
           "s100_100_100_b0_4000_0_5000_-4000_0",
           0.3283581714523446,
           234
          ]
         ],
         "hovertemplate": "Cells: %{x}<br>Entropy number: %{y}<br>Snap Idx: %{customdata[2]:03d}<br>Mapped: %{customdata[0]}<br>Rel Error: %{customdata[1]:.3f}%<extra></extra>",
         "line": {
          "color": "rgb(251, 142, 39)"
         },
         "mode": "markers+lines",
         "name": "234",
         "opacity": 0.4,
         "type": "scatter",
         "x": {
          "bdata": "q4MBAM2DAQA=",
          "dtype": "i4"
         },
         "y": {
          "bdata": "+NRmSCcA8T8hiImwcQ7xPw==",
          "dtype": "f8"
         }
        },
        {
         "customdata": [
          [
           "Original Comsol Mesh",
           0,
           235
          ],
          [
           "s100_100_100_b0_4000_0_5000_-4000_0",
           0.31395620715237477,
           235
          ]
         ],
         "hovertemplate": "Cells: %{x}<br>Entropy number: %{y}<br>Snap Idx: %{customdata[2]:03d}<br>Mapped: %{customdata[0]}<br>Rel Error: %{customdata[1]:.3f}%<extra></extra>",
         "line": {
          "color": "rgb(251, 139, 38)"
         },
         "mode": "markers+lines",
         "name": "235",
         "opacity": 0.4,
         "type": "scatter",
         "x": {
          "bdata": "q4MBAM2DAQA=",
          "dtype": "i4"
         },
         "y": {
          "bdata": "ISp8SYOe8j/QKTBEeq3yPw==",
          "dtype": "f8"
         }
        },
        {
         "customdata": [
          [
           "Original Comsol Mesh",
           0,
           236
          ],
          [
           "s100_100_100_b0_4000_0_5000_-4000_0",
           0.3170020544734388,
           236
          ]
         ],
         "hovertemplate": "Cells: %{x}<br>Entropy number: %{y}<br>Snap Idx: %{customdata[2]:03d}<br>Mapped: %{customdata[0]}<br>Rel Error: %{customdata[1]:.3f}%<extra></extra>",
         "line": {
          "color": "rgb(250, 137, 37)"
         },
         "mode": "markers+lines",
         "name": "236",
         "opacity": 0.4,
         "type": "scatter",
         "x": {
          "bdata": "q4MBAM2DAQA=",
          "dtype": "i4"
         },
         "y": {
          "bdata": "HwvAU3cC8T9qMh4WRRDxPw==",
          "dtype": "f8"
         }
        },
        {
         "customdata": [
          [
           "Original Comsol Mesh",
           0,
           237
          ],
          [
           "s100_100_100_b0_4000_0_5000_-4000_0",
           0.31708401335081243,
           237
          ]
         ],
         "hovertemplate": "Cells: %{x}<br>Entropy number: %{y}<br>Snap Idx: %{customdata[2]:03d}<br>Mapped: %{customdata[0]}<br>Rel Error: %{customdata[1]:.3f}%<extra></extra>",
         "line": {
          "color": "rgb(250, 134, 36)"
         },
         "mode": "markers+lines",
         "name": "237",
         "opacity": 0.4,
         "type": "scatter",
         "x": {
          "bdata": "q4MBAM2DAQA=",
          "dtype": "i4"
         },
         "y": {
          "bdata": "le+b1MqX8T+NxHi3EqbxPw==",
          "dtype": "f8"
         }
        },
        {
         "customdata": [
          [
           "Original Comsol Mesh",
           0,
           238
          ],
          [
           "s100_100_100_b0_4000_0_5000_-4000_0",
           0.3078811809339856,
           238
          ]
         ],
         "hovertemplate": "Cells: %{x}<br>Entropy number: %{y}<br>Snap Idx: %{customdata[2]:03d}<br>Mapped: %{customdata[0]}<br>Rel Error: %{customdata[1]:.3f}%<extra></extra>",
         "line": {
          "color": "rgb(249, 132, 35)"
         },
         "mode": "markers+lines",
         "name": "238",
         "opacity": 0.4,
         "type": "scatter",
         "x": {
          "bdata": "q4MBAM2DAQA=",
          "dtype": "i4"
         },
         "y": {
          "bdata": "6Kgqknqd7z87AMCnZbbvPw==",
          "dtype": "f8"
         }
        },
        {
         "customdata": [
          [
           "Original Comsol Mesh",
           0,
           239
          ],
          [
           "s100_100_100_b0_4000_0_5000_-4000_0",
           0.28850398652855047,
           239
          ]
         ],
         "hovertemplate": "Cells: %{x}<br>Entropy number: %{y}<br>Snap Idx: %{customdata[2]:03d}<br>Mapped: %{customdata[0]}<br>Rel Error: %{customdata[1]:.3f}%<extra></extra>",
         "line": {
          "color": "rgb(249, 129, 34)"
         },
         "mode": "markers+lines",
         "name": "239",
         "opacity": 0.4,
         "type": "scatter",
         "x": {
          "bdata": "q4MBAM2DAQA=",
          "dtype": "i4"
         },
         "y": {
          "bdata": "TW9p/j0T8j8/S3iJlyDyPw==",
          "dtype": "f8"
         }
        },
        {
         "customdata": [
          [
           "Original Comsol Mesh",
           0,
           240
          ],
          [
           "s100_100_100_b0_4000_0_5000_-4000_0",
           0.3010576022111081,
           240
          ]
         ],
         "hovertemplate": "Cells: %{x}<br>Entropy number: %{y}<br>Snap Idx: %{customdata[2]:03d}<br>Mapped: %{customdata[0]}<br>Rel Error: %{customdata[1]:.3f}%<extra></extra>",
         "line": {
          "color": "rgb(248, 127, 33)"
         },
         "mode": "markers+lines",
         "name": "240",
         "opacity": 0.4,
         "type": "scatter",
         "x": {
          "bdata": "q4MBAM2DAQA=",
          "dtype": "i4"
         },
         "y": {
          "bdata": "KK0F8qn17T/y4DYDwQzuPw==",
          "dtype": "f8"
         }
        },
        {
         "customdata": [
          [
           "Original Comsol Mesh",
           0,
           241
          ],
          [
           "s100_100_100_b0_4000_0_5000_-4000_0",
           0.3169949096726782,
           241
          ]
         ],
         "hovertemplate": "Cells: %{x}<br>Entropy number: %{y}<br>Snap Idx: %{customdata[2]:03d}<br>Mapped: %{customdata[0]}<br>Rel Error: %{customdata[1]:.3f}%<extra></extra>",
         "line": {
          "color": "rgb(248, 125, 32)"
         },
         "mode": "markers+lines",
         "name": "241",
         "opacity": 0.4,
         "type": "scatter",
         "x": {
          "bdata": "q4MBAM2DAQA=",
          "dtype": "i4"
         },
         "y": {
          "bdata": "W2bpX0ur8T+xg0IPornxPw==",
          "dtype": "f8"
         }
        },
        {
         "customdata": [
          [
           "Original Comsol Mesh",
           0,
           242
          ],
          [
           "s100_100_100_b0_4000_0_5000_-4000_0",
           0.2952626375483448,
           242
          ]
         ],
         "hovertemplate": "Cells: %{x}<br>Entropy number: %{y}<br>Snap Idx: %{customdata[2]:03d}<br>Mapped: %{customdata[0]}<br>Rel Error: %{customdata[1]:.3f}%<extra></extra>",
         "line": {
          "color": "rgb(248, 122, 31)"
         },
         "mode": "markers+lines",
         "name": "242",
         "opacity": 0.4,
         "type": "scatter",
         "x": {
          "bdata": "q4MBAM2DAQA=",
          "dtype": "i4"
         },
         "y": {
          "bdata": "oaLDWmqN7z921HzZQ6XvPw==",
          "dtype": "f8"
         }
        },
        {
         "customdata": [
          [
           "Original Comsol Mesh",
           0,
           243
          ],
          [
           "s100_100_100_b0_4000_0_5000_-4000_0",
           0.2962982782840137,
           243
          ]
         ],
         "hovertemplate": "Cells: %{x}<br>Entropy number: %{y}<br>Snap Idx: %{customdata[2]:03d}<br>Mapped: %{customdata[0]}<br>Rel Error: %{customdata[1]:.3f}%<extra></extra>",
         "line": {
          "color": "rgb(247, 120, 30)"
         },
         "mode": "markers+lines",
         "name": "243",
         "opacity": 0.4,
         "type": "scatter",
         "x": {
          "bdata": "q4MBAM2DAQA=",
          "dtype": "i4"
         },
         "y": {
          "bdata": "/uJ+nDqQ7j9HYzt5aafuPw==",
          "dtype": "f8"
         }
        },
        {
         "customdata": [
          [
           "Original Comsol Mesh",
           0,
           244
          ],
          [
           "s100_100_100_b0_4000_0_5000_-4000_0",
           0.30116467114743245,
           244
          ]
         ],
         "hovertemplate": "Cells: %{x}<br>Entropy number: %{y}<br>Snap Idx: %{customdata[2]:03d}<br>Mapped: %{customdata[0]}<br>Rel Error: %{customdata[1]:.3f}%<extra></extra>",
         "line": {
          "color": "rgb(247, 117, 29)"
         },
         "mode": "markers+lines",
         "name": "244",
         "opacity": 0.4,
         "type": "scatter",
         "x": {
          "bdata": "q4MBAM2DAQA=",
          "dtype": "i4"
         },
         "y": {
          "bdata": "pr7LuDD07T9PdVPBSAvuPw==",
          "dtype": "f8"
         }
        },
        {
         "customdata": [
          [
           "Original Comsol Mesh",
           0,
           245
          ],
          [
           "s100_100_100_b0_4000_0_5000_-4000_0",
           0.2991704569785438,
           245
          ]
         ],
         "hovertemplate": "Cells: %{x}<br>Entropy number: %{y}<br>Snap Idx: %{customdata[2]:03d}<br>Mapped: %{customdata[0]}<br>Rel Error: %{customdata[1]:.3f}%<extra></extra>",
         "line": {
          "color": "rgb(246, 115, 28)"
         },
         "mode": "markers+lines",
         "name": "245",
         "opacity": 0.4,
         "type": "scatter",
         "x": {
          "bdata": "q4MBAM2DAQA=",
          "dtype": "i4"
         },
         "y": {
          "bdata": "dCiw5mgB7j84mU7pYxjuPw==",
          "dtype": "f8"
         }
        },
        {
         "customdata": [
          [
           "Original Comsol Mesh",
           0,
           246
          ],
          [
           "s100_100_100_b0_4000_0_5000_-4000_0",
           0.3143812429194164,
           246
          ]
         ],
         "hovertemplate": "Cells: %{x}<br>Entropy number: %{y}<br>Snap Idx: %{customdata[2]:03d}<br>Mapped: %{customdata[0]}<br>Rel Error: %{customdata[1]:.3f}%<extra></extra>",
         "line": {
          "color": "rgb(246, 112, 27)"
         },
         "mode": "markers+lines",
         "name": "246",
         "opacity": 0.4,
         "type": "scatter",
         "x": {
          "bdata": "q4MBAM2DAQA=",
          "dtype": "i4"
         },
         "y": {
          "bdata": "knVMbJhk8D95uvvoyXHwPw==",
          "dtype": "f8"
         }
        },
        {
         "customdata": [
          [
           "Original Comsol Mesh",
           0,
           247
          ],
          [
           "s100_100_100_b0_4000_0_5000_-4000_0",
           0.32839944645829033,
           247
          ]
         ],
         "hovertemplate": "Cells: %{x}<br>Entropy number: %{y}<br>Snap Idx: %{customdata[2]:03d}<br>Mapped: %{customdata[0]}<br>Rel Error: %{customdata[1]:.3f}%<extra></extra>",
         "line": {
          "color": "rgb(245, 110, 26)"
         },
         "mode": "markers+lines",
         "name": "247",
         "opacity": 0.4,
         "type": "scatter",
         "x": {
          "bdata": "q4MBAM2DAQA=",
          "dtype": "i4"
         },
         "y": {
          "bdata": "nWjbJK4i8T+xW5IJFjHxPw==",
          "dtype": "f8"
         }
        },
        {
         "customdata": [
          [
           "Original Comsol Mesh",
           0,
           248
          ],
          [
           "s100_100_100_b0_4000_0_5000_-4000_0",
           0.3063923902586898,
           248
          ]
         ],
         "hovertemplate": "Cells: %{x}<br>Entropy number: %{y}<br>Snap Idx: %{customdata[2]:03d}<br>Mapped: %{customdata[0]}<br>Rel Error: %{customdata[1]:.3f}%<extra></extra>",
         "line": {
          "color": "rgb(245, 107, 25)"
         },
         "mode": "markers+lines",
         "name": "248",
         "opacity": 0.4,
         "type": "scatter",
         "x": {
          "bdata": "q4MBAM2DAQA=",
          "dtype": "i4"
         },
         "y": {
          "bdata": "Qjnl0U3W8T9lw3t3S+TxPw==",
          "dtype": "f8"
         }
        },
        {
         "customdata": [
          [
           "Original Comsol Mesh",
           0,
           249
          ],
          [
           "s100_100_100_b0_4000_0_5000_-4000_0",
           0.29541950444918347,
           249
          ]
         ],
         "hovertemplate": "Cells: %{x}<br>Entropy number: %{y}<br>Snap Idx: %{customdata[2]:03d}<br>Mapped: %{customdata[0]}<br>Rel Error: %{customdata[1]:.3f}%<extra></extra>",
         "line": {
          "color": "rgb(244, 105, 24)"
         },
         "mode": "markers+lines",
         "name": "249",
         "opacity": 0.4,
         "type": "scatter",
         "x": {
          "bdata": "q4MBAM2DAQA=",
          "dtype": "i4"
         },
         "y": {
          "bdata": "yG+IRn5u7z8W1uygQ4bvPw==",
          "dtype": "f8"
         }
        },
        {
         "customdata": [
          [
           "Original Comsol Mesh",
           0,
           250
          ],
          [
           "s100_100_100_b0_4000_0_5000_-4000_0",
           0.3078138117842122,
           250
          ]
         ],
         "hovertemplate": "Cells: %{x}<br>Entropy number: %{y}<br>Snap Idx: %{customdata[2]:03d}<br>Mapped: %{customdata[0]}<br>Rel Error: %{customdata[1]:.3f}%<extra></extra>",
         "line": {
          "color": "rgb(244, 102, 22)"
         },
         "mode": "markers+lines",
         "name": "250",
         "opacity": 0.4,
         "type": "scatter",
         "x": {
          "bdata": "q4MBAM2DAQA=",
          "dtype": "i4"
         },
         "y": {
          "bdata": "jnbuLb3y8D+vgcweGADxPw==",
          "dtype": "f8"
         }
        },
        {
         "customdata": [
          [
           "Original Comsol Mesh",
           0,
           251
          ],
          [
           "s100_100_100_b0_4000_0_5000_-4000_0",
           0.31494324719113537,
           251
          ]
         ],
         "hovertemplate": "Cells: %{x}<br>Entropy number: %{y}<br>Snap Idx: %{customdata[2]:03d}<br>Mapped: %{customdata[0]}<br>Rel Error: %{customdata[1]:.3f}%<extra></extra>",
         "line": {
          "color": "rgb(243, 100, 21)"
         },
         "mode": "markers+lines",
         "name": "251",
         "opacity": 0.4,
         "type": "scatter",
         "x": {
          "bdata": "q4MBAM2DAQA=",
          "dtype": "i4"
         },
         "y": {
          "bdata": "o58L3ZPj8D9DN63EMfHwPw==",
          "dtype": "f8"
         }
        },
        {
         "customdata": [
          [
           "Original Comsol Mesh",
           0,
           252
          ],
          [
           "s100_100_100_b0_4000_0_5000_-4000_0",
           0.30734447336703996,
           252
          ]
         ],
         "hovertemplate": "Cells: %{x}<br>Entropy number: %{y}<br>Snap Idx: %{customdata[2]:03d}<br>Mapped: %{customdata[0]}<br>Rel Error: %{customdata[1]:.3f}%<extra></extra>",
         "line": {
          "color": "rgb(242, 98, 21)"
         },
         "mode": "markers+lines",
         "name": "252",
         "opacity": 0.4,
         "type": "scatter",
         "x": {
          "bdata": "q4MBAM2DAQA=",
          "dtype": "i4"
         },
         "y": {
          "bdata": "31Gc3d6I8T+1xqO3qpbxPw==",
          "dtype": "f8"
         }
        },
        {
         "customdata": [
          [
           "Original Comsol Mesh",
           0,
           253
          ],
          [
           "s100_100_100_b0_4000_0_5000_-4000_0",
           0.31520266082982884,
           253
          ]
         ],
         "hovertemplate": "Cells: %{x}<br>Entropy number: %{y}<br>Snap Idx: %{customdata[2]:03d}<br>Mapped: %{customdata[0]}<br>Rel Error: %{customdata[1]:.3f}%<extra></extra>",
         "line": {
          "color": "rgb(241, 96, 20)"
         },
         "mode": "markers+lines",
         "name": "253",
         "opacity": 0.4,
         "type": "scatter",
         "x": {
          "bdata": "q4MBAM2DAQA=",
          "dtype": "i4"
         },
         "y": {
          "bdata": "6WBPdOa98T/+sShmN8zxPw==",
          "dtype": "f8"
         }
        },
        {
         "customdata": [
          [
           "Original Comsol Mesh",
           0,
           254
          ],
          [
           "s100_100_100_b0_4000_0_5000_-4000_0",
           0.3141516571811961,
           254
          ]
         ],
         "hovertemplate": "Cells: %{x}<br>Entropy number: %{y}<br>Snap Idx: %{customdata[2]:03d}<br>Mapped: %{customdata[0]}<br>Rel Error: %{customdata[1]:.3f}%<extra></extra>",
         "line": {
          "color": "rgb(240, 94, 19)"
         },
         "mode": "markers+lines",
         "name": "254",
         "opacity": 0.4,
         "type": "scatter",
         "x": {
          "bdata": "q4MBAM2DAQA=",
          "dtype": "i4"
         },
         "y": {
          "bdata": "gKsZMxjZ8j/pikmtQOjyPw==",
          "dtype": "f8"
         }
        },
        {
         "customdata": [
          [
           "Original Comsol Mesh",
           0,
           255
          ],
          [
           "s100_100_100_b0_4000_0_5000_-4000_0",
           0.307768178209386,
           255
          ]
         ],
         "hovertemplate": "Cells: %{x}<br>Entropy number: %{y}<br>Snap Idx: %{customdata[2]:03d}<br>Mapped: %{customdata[0]}<br>Rel Error: %{customdata[1]:.3f}%<extra></extra>",
         "line": {
          "color": "rgb(239, 92, 19)"
         },
         "mode": "markers+lines",
         "name": "255",
         "opacity": 0.4,
         "type": "scatter",
         "x": {
          "bdata": "q4MBAM2DAQA=",
          "dtype": "i4"
         },
         "y": {
          "bdata": "TPMxhAcp8T83cJ65jDbxPw==",
          "dtype": "f8"
         }
        },
        {
         "customdata": [
          [
           "Original Comsol Mesh",
           0,
           256
          ],
          [
           "s100_100_100_b0_4000_0_5000_-4000_0",
           0.33727365498602513,
           256
          ]
         ],
         "hovertemplate": "Cells: %{x}<br>Entropy number: %{y}<br>Snap Idx: %{customdata[2]:03d}<br>Mapped: %{customdata[0]}<br>Rel Error: %{customdata[1]:.3f}%<extra></extra>",
         "line": {
          "color": "rgb(238, 90, 18)"
         },
         "mode": "markers+lines",
         "name": "256",
         "opacity": 0.4,
         "type": "scatter",
         "x": {
          "bdata": "q4MBAM2DAQA=",
          "dtype": "i4"
         },
         "y": {
          "bdata": "qQmuxt698T+pDPlRMM3xPw==",
          "dtype": "f8"
         }
        },
        {
         "customdata": [
          [
           "Original Comsol Mesh",
           0,
           257
          ],
          [
           "s100_100_100_b0_4000_0_5000_-4000_0",
           0.29185844031918307,
           257
          ]
         ],
         "hovertemplate": "Cells: %{x}<br>Entropy number: %{y}<br>Snap Idx: %{customdata[2]:03d}<br>Mapped: %{customdata[0]}<br>Rel Error: %{customdata[1]:.3f}%<extra></extra>",
         "line": {
          "color": "rgb(237, 89, 17)"
         },
         "mode": "markers+lines",
         "name": "257",
         "opacity": 0.4,
         "type": "scatter",
         "x": {
          "bdata": "q4MBAM2DAQA=",
          "dtype": "i4"
         },
         "y": {
          "bdata": "ec1jLTyW8D8vMr3IoKLwPw==",
          "dtype": "f8"
         }
        },
        {
         "customdata": [
          [
           "Original Comsol Mesh",
           0,
           258
          ],
          [
           "s100_100_100_b0_4000_0_5000_-4000_0",
           0.30756701350047055,
           258
          ]
         ],
         "hovertemplate": "Cells: %{x}<br>Entropy number: %{y}<br>Snap Idx: %{customdata[2]:03d}<br>Mapped: %{customdata[0]}<br>Rel Error: %{customdata[1]:.3f}%<extra></extra>",
         "line": {
          "color": "rgb(236, 87, 17)"
         },
         "mode": "markers+lines",
         "name": "258",
         "opacity": 0.4,
         "type": "scatter",
         "x": {
          "bdata": "q4MBAM2DAQA=",
          "dtype": "i4"
         },
         "y": {
          "bdata": "R/XylZ9N8T93KF5YP1vxPw==",
          "dtype": "f8"
         }
        },
        {
         "customdata": [
          [
           "Original Comsol Mesh",
           0,
           259
          ],
          [
           "s100_100_100_b0_4000_0_5000_-4000_0",
           0.3171090847391768,
           259
          ]
         ],
         "hovertemplate": "Cells: %{x}<br>Entropy number: %{y}<br>Snap Idx: %{customdata[2]:03d}<br>Mapped: %{customdata[0]}<br>Rel Error: %{customdata[1]:.3f}%<extra></extra>",
         "line": {
          "color": "rgb(234, 85, 16)"
         },
         "mode": "markers+lines",
         "name": "259",
         "opacity": 0.4,
         "type": "scatter",
         "x": {
          "bdata": "q4MBAM2DAQA=",
          "dtype": "i4"
         },
         "y": {
          "bdata": "rWDk06vP8D8cL3eLUd3wPw==",
          "dtype": "f8"
         }
        },
        {
         "customdata": [
          [
           "Original Comsol Mesh",
           0,
           260
          ],
          [
           "s100_100_100_b0_4000_0_5000_-4000_0",
           0.3007857135056631,
           260
          ]
         ],
         "hovertemplate": "Cells: %{x}<br>Entropy number: %{y}<br>Snap Idx: %{customdata[2]:03d}<br>Mapped: %{customdata[0]}<br>Rel Error: %{customdata[1]:.3f}%<extra></extra>",
         "line": {
          "color": "rgb(233, 83, 15)"
         },
         "mode": "markers+lines",
         "name": "260",
         "opacity": 0.4,
         "type": "scatter",
         "x": {
          "bdata": "q4MBAM2DAQA=",
          "dtype": "i4"
         },
         "y": {
          "bdata": "RYJjTDL57T8C+lK/RhDuPw==",
          "dtype": "f8"
         }
        },
        {
         "customdata": [
          [
           "Original Comsol Mesh",
           0,
           261
          ],
          [
           "s100_100_100_b0_4000_0_5000_-4000_0",
           0.29841180458595806,
           261
          ]
         ],
         "hovertemplate": "Cells: %{x}<br>Entropy number: %{y}<br>Snap Idx: %{customdata[2]:03d}<br>Mapped: %{customdata[0]}<br>Rel Error: %{customdata[1]:.3f}%<extra></extra>",
         "line": {
          "color": "rgb(232, 81, 15)"
         },
         "mode": "markers+lines",
         "name": "261",
         "opacity": 0.4,
         "type": "scatter",
         "x": {
          "bdata": "q4MBAM2DAQA=",
          "dtype": "i4"
         },
         "y": {
          "bdata": "HV0JoHUP7j8tTjFzbCbuPw==",
          "dtype": "f8"
         }
        },
        {
         "customdata": [
          [
           "Original Comsol Mesh",
           0,
           262
          ],
          [
           "s100_100_100_b0_4000_0_5000_-4000_0",
           0.3308799018567542,
           262
          ]
         ],
         "hovertemplate": "Cells: %{x}<br>Entropy number: %{y}<br>Snap Idx: %{customdata[2]:03d}<br>Mapped: %{customdata[0]}<br>Rel Error: %{customdata[1]:.3f}%<extra></extra>",
         "line": {
          "color": "rgb(231, 79, 14)"
         },
         "mode": "markers+lines",
         "name": "262",
         "opacity": 0.4,
         "type": "scatter",
         "x": {
          "bdata": "q4MBAM2DAQA=",
          "dtype": "i4"
         },
         "y": {
          "bdata": "+GzGHvA88T+MTk4cikvxPw==",
          "dtype": "f8"
         }
        },
        {
         "customdata": [
          [
           "Original Comsol Mesh",
           0,
           263
          ],
          [
           "s100_100_100_b0_4000_0_5000_-4000_0",
           0.3072445017914627,
           263
          ]
         ],
         "hovertemplate": "Cells: %{x}<br>Entropy number: %{y}<br>Snap Idx: %{customdata[2]:03d}<br>Mapped: %{customdata[0]}<br>Rel Error: %{customdata[1]:.3f}%<extra></extra>",
         "line": {
          "color": "rgb(230, 77, 13)"
         },
         "mode": "markers+lines",
         "name": "263",
         "opacity": 0.4,
         "type": "scatter",
         "x": {
          "bdata": "q4MBAM2DAQA=",
          "dtype": "i4"
         },
         "y": {
          "bdata": "movZXnV88D8j2HX0bInwPw==",
          "dtype": "f8"
         }
        },
        {
         "customdata": [
          [
           "Original Comsol Mesh",
           0,
           264
          ],
          [
           "s100_100_100_b0_4000_0_5000_-4000_0",
           0.3078959184335512,
           264
          ]
         ],
         "hovertemplate": "Cells: %{x}<br>Entropy number: %{y}<br>Snap Idx: %{customdata[2]:03d}<br>Mapped: %{customdata[0]}<br>Rel Error: %{customdata[1]:.3f}%<extra></extra>",
         "line": {
          "color": "rgb(229, 75, 13)"
         },
         "mode": "markers+lines",
         "name": "264",
         "opacity": 0.4,
         "type": "scatter",
         "x": {
          "bdata": "q4MBAM2DAQA=",
          "dtype": "i4"
         },
         "y": {
          "bdata": "ksSBlmNl8T8WnjrPGXPxPw==",
          "dtype": "f8"
         }
        },
        {
         "customdata": [
          [
           "Original Comsol Mesh",
           0,
           265
          ],
          [
           "s100_100_100_b0_4000_0_5000_-4000_0",
           0.30869506787110806,
           265
          ]
         ],
         "hovertemplate": "Cells: %{x}<br>Entropy number: %{y}<br>Snap Idx: %{customdata[2]:03d}<br>Mapped: %{customdata[0]}<br>Rel Error: %{customdata[1]:.3f}%<extra></extra>",
         "line": {
          "color": "rgb(228, 73, 12)"
         },
         "mode": "markers+lines",
         "name": "265",
         "opacity": 0.4,
         "type": "scatter",
         "x": {
          "bdata": "q4MBAM2DAQA=",
          "dtype": "i4"
         },
         "y": {
          "bdata": "mzJzXVze8T9kGupLe+zxPw==",
          "dtype": "f8"
         }
        },
        {
         "customdata": [
          [
           "Original Comsol Mesh",
           0,
           266
          ],
          [
           "s100_100_100_b0_4000_0_5000_-4000_0",
           0.30094753243290046,
           266
          ]
         ],
         "hovertemplate": "Cells: %{x}<br>Entropy number: %{y}<br>Snap Idx: %{customdata[2]:03d}<br>Mapped: %{customdata[0]}<br>Rel Error: %{customdata[1]:.3f}%<extra></extra>",
         "line": {
          "color": "rgb(226, 72, 11)"
         },
         "mode": "markers+lines",
         "name": "266",
         "opacity": 0.4,
         "type": "scatter",
         "x": {
          "bdata": "q4MBAM2DAQA=",
          "dtype": "i4"
         },
         "y": {
          "bdata": "3jUlpin37T8k7bK1Pw7uPw==",
          "dtype": "f8"
         }
        },
        {
         "customdata": [
          [
           "Original Comsol Mesh",
           0,
           267
          ],
          [
           "s100_100_100_b0_4000_0_5000_-4000_0",
           0.32363627393321676,
           267
          ]
         ],
         "hovertemplate": "Cells: %{x}<br>Entropy number: %{y}<br>Snap Idx: %{customdata[2]:03d}<br>Mapped: %{customdata[0]}<br>Rel Error: %{customdata[1]:.3f}%<extra></extra>",
         "line": {
          "color": "rgb(225, 70, 11)"
         },
         "mode": "markers+lines",
         "name": "267",
         "opacity": 0.4,
         "type": "scatter",
         "x": {
          "bdata": "q4MBAM2DAQA=",
          "dtype": "i4"
         },
         "y": {
          "bdata": "1S8xWcqm8j84LPlNPrbyPw==",
          "dtype": "f8"
         }
        },
        {
         "customdata": [
          [
           "Original Comsol Mesh",
           0,
           268
          ],
          [
           "s100_100_100_b0_4000_0_5000_-4000_0",
           0.3154565097744161,
           268
          ]
         ],
         "hovertemplate": "Cells: %{x}<br>Entropy number: %{y}<br>Snap Idx: %{customdata[2]:03d}<br>Mapped: %{customdata[0]}<br>Rel Error: %{customdata[1]:.3f}%<extra></extra>",
         "line": {
          "color": "rgb(224, 68, 10)"
         },
         "mode": "markers+lines",
         "name": "268",
         "opacity": 0.4,
         "type": "scatter",
         "x": {
          "bdata": "q4MBAM2DAQA=",
          "dtype": "i4"
         },
         "y": {
          "bdata": "hz7bePUk8D8k68Me/zHwPw==",
          "dtype": "f8"
         }
        },
        {
         "customdata": [
          [
           "Original Comsol Mesh",
           0,
           269
          ],
          [
           "s100_100_100_b0_4000_0_5000_-4000_0",
           0.29465452423212296,
           269
          ]
         ],
         "hovertemplate": "Cells: %{x}<br>Entropy number: %{y}<br>Snap Idx: %{customdata[2]:03d}<br>Mapped: %{customdata[0]}<br>Rel Error: %{customdata[1]:.3f}%<extra></extra>",
         "line": {
          "color": "rgb(223, 66, 9)"
         },
         "mode": "markers+lines",
         "name": "269",
         "opacity": 0.4,
         "type": "scatter",
         "x": {
          "bdata": "q4MBAM2DAQA=",
          "dtype": "i4"
         },
         "y": {
          "bdata": "uGKjWF2b8D9CQII35KfwPw==",
          "dtype": "f8"
         }
        },
        {
         "customdata": [
          [
           "Original Comsol Mesh",
           0,
           270
          ],
          [
           "s100_100_100_b0_4000_0_5000_-4000_0",
           0.29400973218508586,
           270
          ]
         ],
         "hovertemplate": "Cells: %{x}<br>Entropy number: %{y}<br>Snap Idx: %{customdata[2]:03d}<br>Mapped: %{customdata[0]}<br>Rel Error: %{customdata[1]:.3f}%<extra></extra>",
         "line": {
          "color": "rgb(222, 64, 9)"
         },
         "mode": "markers+lines",
         "name": "270",
         "opacity": 0.4,
         "type": "scatter",
         "x": {
          "bdata": "q4MBAM2DAQA=",
          "dtype": "i4"
         },
         "y": {
          "bdata": "f6ZZ2yui8T/jYuSDca/xPw==",
          "dtype": "f8"
         }
        },
        {
         "customdata": [
          [
           "Original Comsol Mesh",
           0,
           271
          ],
          [
           "s100_100_100_b0_4000_0_5000_-4000_0",
           0.3242549201048971,
           271
          ]
         ],
         "hovertemplate": "Cells: %{x}<br>Entropy number: %{y}<br>Snap Idx: %{customdata[2]:03d}<br>Mapped: %{customdata[0]}<br>Rel Error: %{customdata[1]:.3f}%<extra></extra>",
         "line": {
          "color": "rgb(221, 62, 8)"
         },
         "mode": "markers+lines",
         "name": "271",
         "opacity": 0.4,
         "type": "scatter",
         "x": {
          "bdata": "q4MBAM2DAQA=",
          "dtype": "i4"
         },
         "y": {
          "bdata": "yiecJIgs8D+cKfUq9TnwPw==",
          "dtype": "f8"
         }
        },
        {
         "customdata": [
          [
           "Original Comsol Mesh",
           0,
           272
          ],
          [
           "s100_100_100_b0_4000_0_5000_-4000_0",
           0.3314911930191287,
           272
          ]
         ],
         "hovertemplate": "Cells: %{x}<br>Entropy number: %{y}<br>Snap Idx: %{customdata[2]:03d}<br>Mapped: %{customdata[0]}<br>Rel Error: %{customdata[1]:.3f}%<extra></extra>",
         "line": {
          "color": "rgb(220, 60, 7)"
         },
         "mode": "markers+lines",
         "name": "272",
         "opacity": 0.4,
         "type": "scatter",
         "x": {
          "bdata": "q4MBAM2DAQA=",
          "dtype": "i4"
         },
         "y": {
          "bdata": "g5jUwehf8z/czprSWXDzPw==",
          "dtype": "f8"
         }
        },
        {
         "customdata": [
          [
           "Original Comsol Mesh",
           0,
           273
          ],
          [
           "s100_100_100_b0_4000_0_5000_-4000_0",
           0.3299082732003953,
           273
          ]
         ],
         "hovertemplate": "Cells: %{x}<br>Entropy number: %{y}<br>Snap Idx: %{customdata[2]:03d}<br>Mapped: %{customdata[0]}<br>Rel Error: %{customdata[1]:.3f}%<extra></extra>",
         "line": {
          "color": "rgb(218, 58, 7)"
         },
         "mode": "markers+lines",
         "name": "273",
         "opacity": 0.4,
         "type": "scatter",
         "x": {
          "bdata": "q4MBAM2DAQA=",
          "dtype": "i4"
         },
         "y": {
          "bdata": "zRHhzJBc8z/Xf2vx6mzzPw==",
          "dtype": "f8"
         }
        },
        {
         "customdata": [
          [
           "Original Comsol Mesh",
           0,
           274
          ],
          [
           "s100_100_100_b0_4000_0_5000_-4000_0",
           0.29498064812166347,
           274
          ]
         ],
         "hovertemplate": "Cells: %{x}<br>Entropy number: %{y}<br>Snap Idx: %{customdata[2]:03d}<br>Mapped: %{customdata[0]}<br>Rel Error: %{customdata[1]:.3f}%<extra></extra>",
         "line": {
          "color": "rgb(217, 57, 6)"
         },
         "mode": "markers+lines",
         "name": "274",
         "opacity": 0.4,
         "type": "scatter",
         "x": {
          "bdata": "q4MBAM2DAQA=",
          "dtype": "i4"
         },
         "y": {
          "bdata": "7oq8QxU98D/vNt98WEnwPw==",
          "dtype": "f8"
         }
        },
        {
         "customdata": [
          [
           "Original Comsol Mesh",
           0,
           275
          ],
          [
           "s100_100_100_b0_4000_0_5000_-4000_0",
           0.2948708902533486,
           275
          ]
         ],
         "hovertemplate": "Cells: %{x}<br>Entropy number: %{y}<br>Snap Idx: %{customdata[2]:03d}<br>Mapped: %{customdata[0]}<br>Rel Error: %{customdata[1]:.3f}%<extra></extra>",
         "line": {
          "color": "rgb(216, 55, 6)"
         },
         "mode": "markers+lines",
         "name": "275",
         "opacity": 0.4,
         "type": "scatter",
         "x": {
          "bdata": "q4MBAM2DAQA=",
          "dtype": "i4"
         },
         "y": {
          "bdata": "9r35Eh+M8D9INPnKnJjwPw==",
          "dtype": "f8"
         }
        },
        {
         "customdata": [
          [
           "Original Comsol Mesh",
           0,
           276
          ],
          [
           "s100_100_100_b0_4000_0_5000_-4000_0",
           0.31441816598312927,
           276
          ]
         ],
         "hovertemplate": "Cells: %{x}<br>Entropy number: %{y}<br>Snap Idx: %{customdata[2]:03d}<br>Mapped: %{customdata[0]}<br>Rel Error: %{customdata[1]:.3f}%<extra></extra>",
         "line": {
          "color": "rgb(214, 54, 6)"
         },
         "mode": "markers+lines",
         "name": "276",
         "opacity": 0.4,
         "type": "scatter",
         "x": {
          "bdata": "q4MBAM2DAQA=",
          "dtype": "i4"
         },
         "y": {
          "bdata": "NMWz5mkR8T9wvV3jJh/xPw==",
          "dtype": "f8"
         }
        },
        {
         "customdata": [
          [
           "Original Comsol Mesh",
           0,
           277
          ],
          [
           "s100_100_100_b0_4000_0_5000_-4000_0",
           0.32719924075214957,
           277
          ]
         ],
         "hovertemplate": "Cells: %{x}<br>Entropy number: %{y}<br>Snap Idx: %{customdata[2]:03d}<br>Mapped: %{customdata[0]}<br>Rel Error: %{customdata[1]:.3f}%<extra></extra>",
         "line": {
          "color": "rgb(212, 52, 5)"
         },
         "mode": "markers+lines",
         "name": "277",
         "opacity": 0.4,
         "type": "scatter",
         "x": {
          "bdata": "q4MBAM2DAQA=",
          "dtype": "i4"
         },
         "y": {
          "bdata": "6zeY5tQE8T93b1tQFhPxPw==",
          "dtype": "f8"
         }
        },
        {
         "customdata": [
          [
           "Original Comsol Mesh",
           0,
           278
          ],
          [
           "s100_100_100_b0_4000_0_5000_-4000_0",
           0.29690882349377556,
           278
          ]
         ],
         "hovertemplate": "Cells: %{x}<br>Entropy number: %{y}<br>Snap Idx: %{customdata[2]:03d}<br>Mapped: %{customdata[0]}<br>Rel Error: %{customdata[1]:.3f}%<extra></extra>",
         "line": {
          "color": "rgb(210, 51, 5)"
         },
         "mode": "markers+lines",
         "name": "278",
         "opacity": 0.4,
         "type": "scatter",
         "x": {
          "bdata": "q4MBAM2DAQA=",
          "dtype": "i4"
         },
         "y": {
          "bdata": "pH9lKJxR7j//3Uinp2juPw==",
          "dtype": "f8"
         }
        },
        {
         "customdata": [
          [
           "Original Comsol Mesh",
           0,
           279
          ],
          [
           "s100_100_100_b0_4000_0_5000_-4000_0",
           0.29747961661016886,
           279
          ]
         ],
         "hovertemplate": "Cells: %{x}<br>Entropy number: %{y}<br>Snap Idx: %{customdata[2]:03d}<br>Mapped: %{customdata[0]}<br>Rel Error: %{customdata[1]:.3f}%<extra></extra>",
         "line": {
          "color": "rgb(209, 50, 5)"
         },
         "mode": "markers+lines",
         "name": "279",
         "opacity": 0.4,
         "type": "scatter",
         "x": {
          "bdata": "q4MBAM2DAQA=",
          "dtype": "i4"
         },
         "y": {
          "bdata": "wsvJ9xYz7j96mPuPFkruPw==",
          "dtype": "f8"
         }
        },
        {
         "customdata": [
          [
           "Original Comsol Mesh",
           0,
           280
          ],
          [
           "s100_100_100_b0_4000_0_5000_-4000_0",
           0.2955343418674568,
           280
          ]
         ],
         "hovertemplate": "Cells: %{x}<br>Entropy number: %{y}<br>Snap Idx: %{customdata[2]:03d}<br>Mapped: %{customdata[0]}<br>Rel Error: %{customdata[1]:.3f}%<extra></extra>",
         "line": {
          "color": "rgb(207, 48, 5)"
         },
         "mode": "markers+lines",
         "name": "280",
         "opacity": 0.4,
         "type": "scatter",
         "x": {
          "bdata": "q4MBAM2DAQA=",
          "dtype": "i4"
         },
         "y": {
          "bdata": "3xWcfItG7z8kzFH7NF7vPw==",
          "dtype": "f8"
         }
        },
        {
         "customdata": [
          [
           "Original Comsol Mesh",
           0,
           281
          ],
          [
           "s100_100_100_b0_4000_0_5000_-4000_0",
           0.30109376326263987,
           281
          ]
         ],
         "hovertemplate": "Cells: %{x}<br>Entropy number: %{y}<br>Snap Idx: %{customdata[2]:03d}<br>Mapped: %{customdata[0]}<br>Rel Error: %{customdata[1]:.3f}%<extra></extra>",
         "line": {
          "color": "rgb(205, 47, 5)"
         },
         "mode": "markers+lines",
         "name": "281",
         "opacity": 0.4,
         "type": "scatter",
         "x": {
          "bdata": "q4MBAM2DAQA=",
          "dtype": "i4"
         },
         "y": {
          "bdata": "Cta+biv17T+BYC7UQgzuPw==",
          "dtype": "f8"
         }
        },
        {
         "customdata": [
          [
           "Original Comsol Mesh",
           0,
           282
          ],
          [
           "s100_100_100_b0_4000_0_5000_-4000_0",
           0.3167879520618481,
           282
          ]
         ],
         "hovertemplate": "Cells: %{x}<br>Entropy number: %{y}<br>Snap Idx: %{customdata[2]:03d}<br>Mapped: %{customdata[0]}<br>Rel Error: %{customdata[1]:.3f}%<extra></extra>",
         "line": {
          "color": "rgb(203, 46, 4)"
         },
         "mode": "markers+lines",
         "name": "282",
         "opacity": 0.4,
         "type": "scatter",
         "x": {
          "bdata": "q4MBAM2DAQA=",
          "dtype": "i4"
         },
         "y": {
          "bdata": "ykJCBgnf8D9UONOpt+zwPw==",
          "dtype": "f8"
         }
        },
        {
         "customdata": [
          [
           "Original Comsol Mesh",
           0,
           283
          ],
          [
           "s100_100_100_b0_4000_0_5000_-4000_0",
           0.3178660069621066,
           283
          ]
         ],
         "hovertemplate": "Cells: %{x}<br>Entropy number: %{y}<br>Snap Idx: %{customdata[2]:03d}<br>Mapped: %{customdata[0]}<br>Rel Error: %{customdata[1]:.3f}%<extra></extra>",
         "line": {
          "color": "rgb(202, 44, 4)"
         },
         "mode": "markers+lines",
         "name": "283",
         "opacity": 0.4,
         "type": "scatter",
         "x": {
          "bdata": "q4MBAM2DAQA=",
          "dtype": "i4"
         },
         "y": {
          "bdata": "MeEg0Bi28D8sqgQPssPwPw==",
          "dtype": "f8"
         }
        },
        {
         "customdata": [
          [
           "Original Comsol Mesh",
           0,
           284
          ],
          [
           "s100_100_100_b0_4000_0_5000_-4000_0",
           0.30985668594549476,
           284
          ]
         ],
         "hovertemplate": "Cells: %{x}<br>Entropy number: %{y}<br>Snap Idx: %{customdata[2]:03d}<br>Mapped: %{customdata[0]}<br>Rel Error: %{customdata[1]:.3f}%<extra></extra>",
         "line": {
          "color": "rgb(200, 43, 4)"
         },
         "mode": "markers+lines",
         "name": "284",
         "opacity": 0.4,
         "type": "scatter",
         "x": {
          "bdata": "q4MBAM2DAQA=",
          "dtype": "i4"
         },
         "y": {
          "bdata": "BPahrE578D8wbZKRYYjwPw==",
          "dtype": "f8"
         }
        },
        {
         "customdata": [
          [
           "Original Comsol Mesh",
           0,
           285
          ],
          [
           "s100_100_100_b0_4000_0_5000_-4000_0",
           0.3149482442978761,
           285
          ]
         ],
         "hovertemplate": "Cells: %{x}<br>Entropy number: %{y}<br>Snap Idx: %{customdata[2]:03d}<br>Mapped: %{customdata[0]}<br>Rel Error: %{customdata[1]:.3f}%<extra></extra>",
         "line": {
          "color": "rgb(198, 41, 4)"
         },
         "mode": "markers+lines",
         "name": "285",
         "opacity": 0.4,
         "type": "scatter",
         "x": {
          "bdata": "q4MBAM2DAQA=",
          "dtype": "i4"
         },
         "y": {
          "bdata": "HTUD74Lz8D9a8p+9LQHxPw==",
          "dtype": "f8"
         }
        },
        {
         "customdata": [
          [
           "Original Comsol Mesh",
           0,
           286
          ],
          [
           "s100_100_100_b0_4000_0_5000_-4000_0",
           0.3183858127055607,
           286
          ]
         ],
         "hovertemplate": "Cells: %{x}<br>Entropy number: %{y}<br>Snap Idx: %{customdata[2]:03d}<br>Mapped: %{customdata[0]}<br>Rel Error: %{customdata[1]:.3f}%<extra></extra>",
         "line": {
          "color": "rgb(196, 40, 3)"
         },
         "mode": "markers+lines",
         "name": "286",
         "opacity": 0.4,
         "type": "scatter",
         "x": {
          "bdata": "q4MBAM2DAQA=",
          "dtype": "i4"
         },
         "y": {
          "bdata": "gqJwR6kf8T8ThHlCni3xPw==",
          "dtype": "f8"
         }
        },
        {
         "customdata": [
          [
           "Original Comsol Mesh",
           0,
           287
          ],
          [
           "s100_100_100_b0_4000_0_5000_-4000_0",
           0.28554833780597433,
           287
          ]
         ],
         "hovertemplate": "Cells: %{x}<br>Entropy number: %{y}<br>Snap Idx: %{customdata[2]:03d}<br>Mapped: %{customdata[0]}<br>Rel Error: %{customdata[1]:.3f}%<extra></extra>",
         "line": {
          "color": "rgb(195, 39, 3)"
         },
         "mode": "markers+lines",
         "name": "287",
         "opacity": 0.4,
         "type": "scatter",
         "x": {
          "bdata": "q4MBAM2DAQA=",
          "dtype": "i4"
         },
         "y": {
          "bdata": "2b+CRI8I8z8qpYAgeRbzPw==",
          "dtype": "f8"
         }
        },
        {
         "customdata": [
          [
           "Original Comsol Mesh",
           0,
           288
          ],
          [
           "s100_100_100_b0_4000_0_5000_-4000_0",
           0.3087652321975975,
           288
          ]
         ],
         "hovertemplate": "Cells: %{x}<br>Entropy number: %{y}<br>Snap Idx: %{customdata[2]:03d}<br>Mapped: %{customdata[0]}<br>Rel Error: %{customdata[1]:.3f}%<extra></extra>",
         "line": {
          "color": "rgb(193, 37, 3)"
         },
         "mode": "markers+lines",
         "name": "288",
         "opacity": 0.4,
         "type": "scatter",
         "x": {
          "bdata": "q4MBAM2DAQA=",
          "dtype": "i4"
         },
         "y": {
          "bdata": "UgungNwu8D+Q04MupzvwPw==",
          "dtype": "f8"
         }
        },
        {
         "customdata": [
          [
           "Original Comsol Mesh",
           0,
           289
          ],
          [
           "s100_100_100_b0_4000_0_5000_-4000_0",
           0.29516916573434804,
           289
          ]
         ],
         "hovertemplate": "Cells: %{x}<br>Entropy number: %{y}<br>Snap Idx: %{customdata[2]:03d}<br>Mapped: %{customdata[0]}<br>Rel Error: %{customdata[1]:.3f}%<extra></extra>",
         "line": {
          "color": "rgb(191, 36, 3)"
         },
         "mode": "markers+lines",
         "name": "289",
         "opacity": 0.4,
         "type": "scatter",
         "x": {
          "bdata": "q4MBAM2DAQA=",
          "dtype": "i4"
         },
         "y": {
          "bdata": "unzQhejv7z+oUzJBBQTwPw==",
          "dtype": "f8"
         }
        },
        {
         "customdata": [
          [
           "Original Comsol Mesh",
           0,
           290
          ],
          [
           "s100_100_100_b0_4000_0_5000_-4000_0",
           0.31171837497249905,
           290
          ]
         ],
         "hovertemplate": "Cells: %{x}<br>Entropy number: %{y}<br>Snap Idx: %{customdata[2]:03d}<br>Mapped: %{customdata[0]}<br>Rel Error: %{customdata[1]:.3f}%<extra></extra>",
         "line": {
          "color": "rgb(189, 35, 3)"
         },
         "mode": "markers+lines",
         "name": "290",
         "opacity": 0.4,
         "type": "scatter",
         "x": {
          "bdata": "q4MBAM2DAQA=",
          "dtype": "i4"
         },
         "y": {
          "bdata": "L9sJGCqn8T/0n/1hQLXxPw==",
          "dtype": "f8"
         }
        },
        {
         "customdata": [
          [
           "Original Comsol Mesh",
           0,
           291
          ],
          [
           "s100_100_100_b0_4000_0_5000_-4000_0",
           0.29531182317730964,
           291
          ]
         ],
         "hovertemplate": "Cells: %{x}<br>Entropy number: %{y}<br>Snap Idx: %{customdata[2]:03d}<br>Mapped: %{customdata[0]}<br>Rel Error: %{customdata[1]:.3f}%<extra></extra>",
         "line": {
          "color": "rgb(188, 33, 2)"
         },
         "mode": "markers+lines",
         "name": "291",
         "opacity": 0.4,
         "type": "scatter",
         "x": {
          "bdata": "q4MBAM2DAQA=",
          "dtype": "i4"
         },
         "y": {
          "bdata": "EUz0MrzO7z96orsXyObvPw==",
          "dtype": "f8"
         }
        },
        {
         "customdata": [
          [
           "Original Comsol Mesh",
           0,
           292
          ],
          [
           "s100_100_100_b0_4000_0_5000_-4000_0",
           0.3012011438770145,
           292
          ]
         ],
         "hovertemplate": "Cells: %{x}<br>Entropy number: %{y}<br>Snap Idx: %{customdata[2]:03d}<br>Mapped: %{customdata[0]}<br>Rel Error: %{customdata[1]:.3f}%<extra></extra>",
         "line": {
          "color": "rgb(186, 32, 2)"
         },
         "mode": "markers+lines",
         "name": "292",
         "opacity": 0.4,
         "type": "scatter",
         "x": {
          "bdata": "q4MBAM2DAQA=",
          "dtype": "i4"
         },
         "y": {
          "bdata": "ryfkK7Tz7T8dtayLzAruPw==",
          "dtype": "f8"
         }
        },
        {
         "customdata": [
          [
           "Original Comsol Mesh",
           0,
           293
          ],
          [
           "s100_100_100_b0_4000_0_5000_-4000_0",
           0.2960280348591882,
           293
          ]
         ],
         "hovertemplate": "Cells: %{x}<br>Entropy number: %{y}<br>Snap Idx: %{customdata[2]:03d}<br>Mapped: %{customdata[0]}<br>Rel Error: %{customdata[1]:.3f}%<extra></extra>",
         "line": {
          "color": "rgb(184, 31, 2)"
         },
         "mode": "markers+lines",
         "name": "293",
         "opacity": 0.4,
         "type": "scatter",
         "x": {
          "bdata": "q4MBAM2DAQA=",
          "dtype": "i4"
         },
         "y": {
          "bdata": "YW7t6zE47z+g/i6p2k/vPw==",
          "dtype": "f8"
         }
        },
        {
         "customdata": [
          [
           "Original Comsol Mesh",
           0,
           294
          ],
          [
           "s100_100_100_b0_4000_0_5000_-4000_0",
           0.29292787424554645,
           294
          ]
         ],
         "hovertemplate": "Cells: %{x}<br>Entropy number: %{y}<br>Snap Idx: %{customdata[2]:03d}<br>Mapped: %{customdata[0]}<br>Rel Error: %{customdata[1]:.3f}%<extra></extra>",
         "line": {
          "color": "rgb(182, 29, 2)"
         },
         "mode": "markers+lines",
         "name": "294",
         "opacity": 0.4,
         "type": "scatter",
         "x": {
          "bdata": "q4MBAM2DAQA=",
          "dtype": "i4"
         },
         "y": {
          "bdata": "jNndcKcv8D+sF3K/yjvwPw==",
          "dtype": "f8"
         }
        },
        {
         "customdata": [
          [
           "Original Comsol Mesh",
           0,
           295
          ],
          [
           "s100_100_100_b0_4000_0_5000_-4000_0",
           0.3064287361052574,
           295
          ]
         ],
         "hovertemplate": "Cells: %{x}<br>Entropy number: %{y}<br>Snap Idx: %{customdata[2]:03d}<br>Mapped: %{customdata[0]}<br>Rel Error: %{customdata[1]:.3f}%<extra></extra>",
         "line": {
          "color": "rgb(181, 28, 1)"
         },
         "mode": "markers+lines",
         "name": "295",
         "opacity": 0.4,
         "type": "scatter",
         "x": {
          "bdata": "q4MBAM2DAQA=",
          "dtype": "i4"
         },
         "y": {
          "bdata": "e7MgOkk+8D9tV9s5B0vwPw==",
          "dtype": "f8"
         }
        },
        {
         "customdata": [
          [
           "Original Comsol Mesh",
           0,
           296
          ],
          [
           "s100_100_100_b0_4000_0_5000_-4000_0",
           0.29389910993213547,
           296
          ]
         ],
         "hovertemplate": "Cells: %{x}<br>Entropy number: %{y}<br>Snap Idx: %{customdata[2]:03d}<br>Mapped: %{customdata[0]}<br>Rel Error: %{customdata[1]:.3f}%<extra></extra>",
         "line": {
          "color": "rgb(179, 27, 1)"
         },
         "mode": "markers+lines",
         "name": "296",
         "opacity": 0.4,
         "type": "scatter",
         "x": {
          "bdata": "q4MBAM2DAQA=",
          "dtype": "i4"
         },
         "y": {
          "bdata": "UU6lPAkG8j9pvdjAmBPyPw==",
          "dtype": "f8"
         }
        },
        {
         "customdata": [
          [
           "Original Comsol Mesh",
           0,
           297
          ],
          [
           "s100_100_100_b0_4000_0_5000_-4000_0",
           0.32212797107632635,
           297
          ]
         ],
         "hovertemplate": "Cells: %{x}<br>Entropy number: %{y}<br>Snap Idx: %{customdata[2]:03d}<br>Mapped: %{customdata[0]}<br>Rel Error: %{customdata[1]:.3f}%<extra></extra>",
         "line": {
          "color": "rgb(177, 25, 1)"
         },
         "mode": "markers+lines",
         "name": "297",
         "opacity": 0.4,
         "type": "scatter",
         "x": {
          "bdata": "q4MBAM2DAQA=",
          "dtype": "i4"
         },
         "y": {
          "bdata": "LjJvalTo8T+e0U/fGPfxPw==",
          "dtype": "f8"
         }
        },
        {
         "customdata": [
          [
           "Original Comsol Mesh",
           0,
           298
          ],
          [
           "s100_100_100_b0_4000_0_5000_-4000_0",
           0.3009837216593722,
           298
          ]
         ],
         "hovertemplate": "Cells: %{x}<br>Entropy number: %{y}<br>Snap Idx: %{customdata[2]:03d}<br>Mapped: %{customdata[0]}<br>Rel Error: %{customdata[1]:.3f}%<extra></extra>",
         "line": {
          "color": "rgb(175, 24, 1)"
         },
         "mode": "markers+lines",
         "name": "298",
         "opacity": 0.4,
         "type": "scatter",
         "x": {
          "bdata": "q4MBAM2DAQA=",
          "dtype": "i4"
         },
         "y": {
          "bdata": "IGSHKan27T/ijASMvw3uPw==",
          "dtype": "f8"
         }
        },
        {
         "customdata": [
          [
           "Original Comsol Mesh",
           0,
           299
          ],
          [
           "s100_100_100_b0_4000_0_5000_-4000_0",
           0.3170594617044929,
           299
          ]
         ],
         "hovertemplate": "Cells: %{x}<br>Entropy number: %{y}<br>Snap Idx: %{customdata[2]:03d}<br>Mapped: %{customdata[0]}<br>Rel Error: %{customdata[1]:.3f}%<extra></extra>",
         "line": {
          "color": "rgb(173, 23, 1)"
         },
         "mode": "markers+lines",
         "name": "299",
         "opacity": 0.4,
         "type": "scatter",
         "x": {
          "bdata": "q4MBAM2DAQA=",
          "dtype": "i4"
         },
         "y": {
          "bdata": "m2fKEmHF8T8INpmtzdPxPw==",
          "dtype": "f8"
         }
        },
        {
         "customdata": [
          [
           "Original Comsol Mesh",
           0,
           300
          ],
          [
           "s100_100_100_b0_4000_0_5000_-4000_0",
           0,
           300
          ]
         ],
         "hovertemplate": "Cells: %{x}<br>Entropy number: %{y}<br>Snap Idx: %{customdata[2]:03d}<br>Mapped: %{customdata[0]}<br>Rel Error: %{customdata[1]:.3f}%<extra></extra>",
         "line": {
          "color": "rgb(170, 22, 1)"
         },
         "mode": "markers+lines",
         "name": "300",
         "opacity": 0.4,
         "type": "scatter",
         "x": {
          "bdata": "zYMBAM2DAQA=",
          "dtype": "i4"
         },
         "y": {
          "bdata": "I62lKl/c8D8jraUqX9zwPw==",
          "dtype": "f8"
         }
        },
        {
         "customdata": [
          [
           "Original Comsol Mesh",
           0,
           301
          ],
          [
           "s100_100_100_b0_4000_0_5000_-4000_0",
           1.941278241795018e-14,
           301
          ]
         ],
         "hovertemplate": "Cells: %{x}<br>Entropy number: %{y}<br>Snap Idx: %{customdata[2]:03d}<br>Mapped: %{customdata[0]}<br>Rel Error: %{customdata[1]:.3f}%<extra></extra>",
         "line": {
          "color": "rgb(168, 21, 1)"
         },
         "mode": "markers+lines",
         "name": "301",
         "opacity": 0.4,
         "type": "scatter",
         "x": {
          "bdata": "zYMBAM2DAQA=",
          "dtype": "i4"
         },
         "y": {
          "bdata": "4yxktQdN8j/kLGS1B03yPw==",
          "dtype": "f8"
         }
        },
        {
         "customdata": [
          [
           "Original Comsol Mesh",
           0,
           302
          ],
          [
           "s100_100_100_b0_4000_0_5000_-4000_0",
           0,
           302
          ]
         ],
         "hovertemplate": "Cells: %{x}<br>Entropy number: %{y}<br>Snap Idx: %{customdata[2]:03d}<br>Mapped: %{customdata[0]}<br>Rel Error: %{customdata[1]:.3f}%<extra></extra>",
         "line": {
          "color": "rgb(165, 21, 1)"
         },
         "mode": "markers+lines",
         "name": "302",
         "opacity": 0.4,
         "type": "scatter",
         "x": {
          "bdata": "zYMBAM2DAQA=",
          "dtype": "i4"
         },
         "y": {
          "bdata": "sIwJFZYz8T+wjAkVljPxPw==",
          "dtype": "f8"
         }
        },
        {
         "customdata": [
          [
           "Original Comsol Mesh",
           0,
           303
          ],
          [
           "s100_100_100_b0_4000_0_5000_-4000_0",
           -1.9345674418480152e-14,
           303
          ]
         ],
         "hovertemplate": "Cells: %{x}<br>Entropy number: %{y}<br>Snap Idx: %{customdata[2]:03d}<br>Mapped: %{customdata[0]}<br>Rel Error: %{customdata[1]:.3f}%<extra></extra>",
         "line": {
          "color": "rgb(163, 20, 1)"
         },
         "mode": "markers+lines",
         "name": "303",
         "opacity": 0.4,
         "type": "scatter",
         "x": {
          "bdata": "zYMBAM2DAQA=",
          "dtype": "i4"
         },
         "y": {
          "bdata": "VouhLkhd8j9Vi6EuSF3yPw==",
          "dtype": "f8"
         }
        },
        {
         "customdata": [
          [
           "Original Comsol Mesh",
           0,
           304
          ],
          [
           "s100_100_100_b0_4000_0_5000_-4000_0",
           0,
           304
          ]
         ],
         "hovertemplate": "Cells: %{x}<br>Entropy number: %{y}<br>Snap Idx: %{customdata[2]:03d}<br>Mapped: %{customdata[0]}<br>Rel Error: %{customdata[1]:.3f}%<extra></extra>",
         "line": {
          "color": "rgb(160, 19, 1)"
         },
         "mode": "markers+lines",
         "name": "304",
         "opacity": 0.4,
         "type": "scatter",
         "x": {
          "bdata": "zYMBAM2DAQA=",
          "dtype": "i4"
         },
         "y": {
          "bdata": "iS76vpUj8z+JLvq+lSPzPw==",
          "dtype": "f8"
         }
        },
        {
         "customdata": [
          [
           "Original Comsol Mesh",
           0,
           305
          ],
          [
           "s100_100_100_b0_4000_0_5000_-4000_0",
           0,
           305
          ]
         ],
         "hovertemplate": "Cells: %{x}<br>Entropy number: %{y}<br>Snap Idx: %{customdata[2]:03d}<br>Mapped: %{customdata[0]}<br>Rel Error: %{customdata[1]:.3f}%<extra></extra>",
         "line": {
          "color": "rgb(158, 18, 1)"
         },
         "mode": "markers+lines",
         "name": "305",
         "opacity": 0.4,
         "type": "scatter",
         "x": {
          "bdata": "zYMBAM2DAQA=",
          "dtype": "i4"
         },
         "y": {
          "bdata": "vr5Uw8ym9D++vlTDzKb0Pw==",
          "dtype": "f8"
         }
        },
        {
         "customdata": [
          [
           "Original Comsol Mesh",
           0,
           306
          ],
          [
           "s100_100_100_b0_4000_0_5000_-4000_0",
           0,
           306
          ]
         ],
         "hovertemplate": "Cells: %{x}<br>Entropy number: %{y}<br>Snap Idx: %{customdata[2]:03d}<br>Mapped: %{customdata[0]}<br>Rel Error: %{customdata[1]:.3f}%<extra></extra>",
         "line": {
          "color": "rgb(156, 17, 1)"
         },
         "mode": "markers+lines",
         "name": "306",
         "opacity": 0.4,
         "type": "scatter",
         "x": {
          "bdata": "zYMBAM2DAQA=",
          "dtype": "i4"
         },
         "y": {
          "bdata": "zujhLBJO8T/O6OEsEk7xPw==",
          "dtype": "f8"
         }
        },
        {
         "customdata": [
          [
           "Original Comsol Mesh",
           0,
           307
          ],
          [
           "s100_100_100_b0_4000_0_5000_-4000_0",
           0,
           307
          ]
         ],
         "hovertemplate": "Cells: %{x}<br>Entropy number: %{y}<br>Snap Idx: %{customdata[2]:03d}<br>Mapped: %{customdata[0]}<br>Rel Error: %{customdata[1]:.3f}%<extra></extra>",
         "line": {
          "color": "rgb(153, 16, 1)"
         },
         "mode": "markers+lines",
         "name": "307",
         "opacity": 0.4,
         "type": "scatter",
         "x": {
          "bdata": "zYMBAM2DAQA=",
          "dtype": "i4"
         },
         "y": {
          "bdata": "MPeFGQ/08D8w94UZD/TwPw==",
          "dtype": "f8"
         }
        },
        {
         "customdata": [
          [
           "Original Comsol Mesh",
           0,
           308
          ],
          [
           "s100_100_100_b0_4000_0_5000_-4000_0",
           -4.0272304947084993e-14,
           308
          ]
         ],
         "hovertemplate": "Cells: %{x}<br>Entropy number: %{y}<br>Snap Idx: %{customdata[2]:03d}<br>Mapped: %{customdata[0]}<br>Rel Error: %{customdata[1]:.3f}%<extra></extra>",
         "line": {
          "color": "rgb(151, 15, 1)"
         },
         "mode": "markers+lines",
         "name": "308",
         "opacity": 0.4,
         "type": "scatter",
         "x": {
          "bdata": "zYMBAM2DAQA=",
          "dtype": "i4"
         },
         "y": {
          "bdata": "cnYLsLmk8T9wdguwuaTxPw==",
          "dtype": "f8"
         }
        },
        {
         "customdata": [
          [
           "Original Comsol Mesh",
           0,
           309
          ],
          [
           "s100_100_100_b0_4000_0_5000_-4000_0",
           0,
           309
          ]
         ],
         "hovertemplate": "Cells: %{x}<br>Entropy number: %{y}<br>Snap Idx: %{customdata[2]:03d}<br>Mapped: %{customdata[0]}<br>Rel Error: %{customdata[1]:.3f}%<extra></extra>",
         "line": {
          "color": "rgb(148, 14, 2)"
         },
         "mode": "markers+lines",
         "name": "309",
         "opacity": 0.4,
         "type": "scatter",
         "x": {
          "bdata": "zYMBAM2DAQA=",
          "dtype": "i4"
         },
         "y": {
          "bdata": "yscvKRnB8z/Kxy8pGcHzPw==",
          "dtype": "f8"
         }
        },
        {
         "customdata": [
          [
           "Original Comsol Mesh",
           0,
           310
          ],
          [
           "s100_100_100_b0_4000_0_5000_-4000_0",
           0,
           310
          ]
         ],
         "hovertemplate": "Cells: %{x}<br>Entropy number: %{y}<br>Snap Idx: %{customdata[2]:03d}<br>Mapped: %{customdata[0]}<br>Rel Error: %{customdata[1]:.3f}%<extra></extra>",
         "line": {
          "color": "rgb(146, 13, 2)"
         },
         "mode": "markers+lines",
         "name": "310",
         "opacity": 0.4,
         "type": "scatter",
         "x": {
          "bdata": "zYMBAM2DAQA=",
          "dtype": "i4"
         },
         "y": {
          "bdata": "KHtwPtGD8T8oe3A+0YPxPw==",
          "dtype": "f8"
         }
        },
        {
         "customdata": [
          [
           "Original Comsol Mesh",
           0,
           311
          ],
          [
           "s100_100_100_b0_4000_0_5000_-4000_0",
           0,
           311
          ]
         ],
         "hovertemplate": "Cells: %{x}<br>Entropy number: %{y}<br>Snap Idx: %{customdata[2]:03d}<br>Mapped: %{customdata[0]}<br>Rel Error: %{customdata[1]:.3f}%<extra></extra>",
         "line": {
          "color": "rgb(144, 12, 2)"
         },
         "mode": "markers+lines",
         "name": "311",
         "opacity": 0.4,
         "type": "scatter",
         "x": {
          "bdata": "zYMBAM2DAQA=",
          "dtype": "i4"
         },
         "y": {
          "bdata": "72MocGYZ8T/vYyhwZhnxPw==",
          "dtype": "f8"
         }
        },
        {
         "customdata": [
          [
           "Original Comsol Mesh",
           0,
           312
          ],
          [
           "s100_100_100_b0_4000_0_5000_-4000_0",
           0,
           312
          ]
         ],
         "hovertemplate": "Cells: %{x}<br>Entropy number: %{y}<br>Snap Idx: %{customdata[2]:03d}<br>Mapped: %{customdata[0]}<br>Rel Error: %{customdata[1]:.3f}%<extra></extra>",
         "line": {
          "color": "rgb(141, 11, 2)"
         },
         "mode": "markers+lines",
         "name": "312",
         "opacity": 0.4,
         "type": "scatter",
         "x": {
          "bdata": "zYMBAM2DAQA=",
          "dtype": "i4"
         },
         "y": {
          "bdata": "997gd4lz8T/33uB3iXPxPw==",
          "dtype": "f8"
         }
        },
        {
         "customdata": [
          [
           "Original Comsol Mesh",
           0,
           313
          ],
          [
           "s100_100_100_b0_4000_0_5000_-4000_0",
           -3.7490725208571644e-14,
           313
          ]
         ],
         "hovertemplate": "Cells: %{x}<br>Entropy number: %{y}<br>Snap Idx: %{customdata[2]:03d}<br>Mapped: %{customdata[0]}<br>Rel Error: %{customdata[1]:.3f}%<extra></extra>",
         "line": {
          "color": "rgb(139, 10, 2)"
         },
         "mode": "markers+lines",
         "name": "313",
         "opacity": 0.4,
         "type": "scatter",
         "x": {
          "bdata": "zYMBAM2DAQA=",
          "dtype": "i4"
         },
         "y": {
          "bdata": "oj2iodbz8j+gPaKh1vPyPw==",
          "dtype": "f8"
         }
        },
        {
         "customdata": [
          [
           "Original Comsol Mesh",
           0,
           314
          ],
          [
           "s100_100_100_b0_4000_0_5000_-4000_0",
           3.838416858931926e-14,
           314
          ]
         ],
         "hovertemplate": "Cells: %{x}<br>Entropy number: %{y}<br>Snap Idx: %{customdata[2]:03d}<br>Mapped: %{customdata[0]}<br>Rel Error: %{customdata[1]:.3f}%<extra></extra>",
         "line": {
          "color": "rgb(136, 10, 2)"
         },
         "mode": "markers+lines",
         "name": "314",
         "opacity": 0.4,
         "type": "scatter",
         "x": {
          "bdata": "zYMBAM2DAQA=",
          "dtype": "i4"
         },
         "y": {
          "bdata": "RltowueC8j9IW2jC54LyPw==",
          "dtype": "f8"
         }
        },
        {
         "customdata": [
          [
           "Original Comsol Mesh",
           0,
           315
          ],
          [
           "s100_100_100_b0_4000_0_5000_-4000_0",
           -1.73632651536922e-14,
           315
          ]
         ],
         "hovertemplate": "Cells: %{x}<br>Entropy number: %{y}<br>Snap Idx: %{customdata[2]:03d}<br>Mapped: %{customdata[0]}<br>Rel Error: %{customdata[1]:.3f}%<extra></extra>",
         "line": {
          "color": "rgb(134, 9, 2)"
         },
         "mode": "markers+lines",
         "name": "315",
         "opacity": 0.4,
         "type": "scatter",
         "x": {
          "bdata": "zYMBAM2DAQA=",
          "dtype": "i4"
         },
         "y": {
          "bdata": "lEIoIgp29D+TQigiCnb0Pw==",
          "dtype": "f8"
         }
        },
        {
         "customdata": [
          [
           "Original Comsol Mesh",
           0,
           316
          ],
          [
           "s100_100_100_b0_4000_0_5000_-4000_0",
           0,
           316
          ]
         ],
         "hovertemplate": "Cells: %{x}<br>Entropy number: %{y}<br>Snap Idx: %{customdata[2]:03d}<br>Mapped: %{customdata[0]}<br>Rel Error: %{customdata[1]:.3f}%<extra></extra>",
         "line": {
          "color": "rgb(132, 8, 2)"
         },
         "mode": "markers+lines",
         "name": "316",
         "opacity": 0.4,
         "type": "scatter",
         "x": {
          "bdata": "zYMBAM2DAQA=",
          "dtype": "i4"
         },
         "y": {
          "bdata": "kgwC2fSa9D+SDALZ9Jr0Pw==",
          "dtype": "f8"
         }
        },
        {
         "customdata": [
          [
           "Original Comsol Mesh",
           0,
           317
          ],
          [
           "s100_100_100_b0_4000_0_5000_-4000_0",
           0,
           317
          ]
         ],
         "hovertemplate": "Cells: %{x}<br>Entropy number: %{y}<br>Snap Idx: %{customdata[2]:03d}<br>Mapped: %{customdata[0]}<br>Rel Error: %{customdata[1]:.3f}%<extra></extra>",
         "line": {
          "color": "rgb(129, 7, 2)"
         },
         "mode": "markers+lines",
         "name": "317",
         "opacity": 0.4,
         "type": "scatter",
         "x": {
          "bdata": "zYMBAM2DAQA=",
          "dtype": "i4"
         },
         "y": {
          "bdata": "r6TKQxTI8D+vpMpDFMjwPw==",
          "dtype": "f8"
         }
        },
        {
         "customdata": [
          [
           "Original Comsol Mesh",
           0,
           318
          ],
          [
           "s100_100_100_b0_4000_0_5000_-4000_0",
           -2.0846981347014038e-14,
           318
          ]
         ],
         "hovertemplate": "Cells: %{x}<br>Entropy number: %{y}<br>Snap Idx: %{customdata[2]:03d}<br>Mapped: %{customdata[0]}<br>Rel Error: %{customdata[1]:.3f}%<extra></extra>",
         "line": {
          "color": "rgb(127, 6, 2)"
         },
         "mode": "markers+lines",
         "name": "318",
         "opacity": 0.4,
         "type": "scatter",
         "x": {
          "bdata": "zYMBAM2DAQA=",
          "dtype": "i4"
         },
         "y": {
          "bdata": "6RiubrcK8T/oGK5utwrxPw==",
          "dtype": "f8"
         }
        },
        {
         "customdata": [
          [
           "Original Comsol Mesh",
           0,
           319
          ],
          [
           "s100_100_100_b0_4000_0_5000_-4000_0",
           4.011012506573776e-14,
           319
          ]
         ],
         "hovertemplate": "Cells: %{x}<br>Entropy number: %{y}<br>Snap Idx: %{customdata[2]:03d}<br>Mapped: %{customdata[0]}<br>Rel Error: %{customdata[1]:.3f}%<extra></extra>",
         "line": {
          "color": "rgb(124, 5, 2)"
         },
         "mode": "markers+lines",
         "name": "319",
         "opacity": 0.4,
         "type": "scatter",
         "x": {
          "bdata": "zYMBAM2DAQA=",
          "dtype": "i4"
         },
         "y": {
          "bdata": "OOfs9Py28T865+z0/LbxPw==",
          "dtype": "f8"
         }
        }
       ],
       "layout": {
        "showlegend": false,
        "template": {
         "data": {
          "bar": [
           {
            "error_x": {
             "color": "#2a3f5f"
            },
            "error_y": {
             "color": "#2a3f5f"
            },
            "marker": {
             "line": {
              "color": "#E5ECF6",
              "width": 0.5
             },
             "pattern": {
              "fillmode": "overlay",
              "size": 10,
              "solidity": 0.2
             }
            },
            "type": "bar"
           }
          ],
          "barpolar": [
           {
            "marker": {
             "line": {
              "color": "#E5ECF6",
              "width": 0.5
             },
             "pattern": {
              "fillmode": "overlay",
              "size": 10,
              "solidity": 0.2
             }
            },
            "type": "barpolar"
           }
          ],
          "carpet": [
           {
            "aaxis": {
             "endlinecolor": "#2a3f5f",
             "gridcolor": "white",
             "linecolor": "white",
             "minorgridcolor": "white",
             "startlinecolor": "#2a3f5f"
            },
            "baxis": {
             "endlinecolor": "#2a3f5f",
             "gridcolor": "white",
             "linecolor": "white",
             "minorgridcolor": "white",
             "startlinecolor": "#2a3f5f"
            },
            "type": "carpet"
           }
          ],
          "choropleth": [
           {
            "colorbar": {
             "outlinewidth": 0,
             "ticks": ""
            },
            "type": "choropleth"
           }
          ],
          "contour": [
           {
            "colorbar": {
             "outlinewidth": 0,
             "ticks": ""
            },
            "colorscale": [
             [
              0,
              "#0d0887"
             ],
             [
              0.1111111111111111,
              "#46039f"
             ],
             [
              0.2222222222222222,
              "#7201a8"
             ],
             [
              0.3333333333333333,
              "#9c179e"
             ],
             [
              0.4444444444444444,
              "#bd3786"
             ],
             [
              0.5555555555555556,
              "#d8576b"
             ],
             [
              0.6666666666666666,
              "#ed7953"
             ],
             [
              0.7777777777777778,
              "#fb9f3a"
             ],
             [
              0.8888888888888888,
              "#fdca26"
             ],
             [
              1,
              "#f0f921"
             ]
            ],
            "type": "contour"
           }
          ],
          "contourcarpet": [
           {
            "colorbar": {
             "outlinewidth": 0,
             "ticks": ""
            },
            "type": "contourcarpet"
           }
          ],
          "heatmap": [
           {
            "colorbar": {
             "outlinewidth": 0,
             "ticks": ""
            },
            "colorscale": [
             [
              0,
              "#0d0887"
             ],
             [
              0.1111111111111111,
              "#46039f"
             ],
             [
              0.2222222222222222,
              "#7201a8"
             ],
             [
              0.3333333333333333,
              "#9c179e"
             ],
             [
              0.4444444444444444,
              "#bd3786"
             ],
             [
              0.5555555555555556,
              "#d8576b"
             ],
             [
              0.6666666666666666,
              "#ed7953"
             ],
             [
              0.7777777777777778,
              "#fb9f3a"
             ],
             [
              0.8888888888888888,
              "#fdca26"
             ],
             [
              1,
              "#f0f921"
             ]
            ],
            "type": "heatmap"
           }
          ],
          "histogram": [
           {
            "marker": {
             "pattern": {
              "fillmode": "overlay",
              "size": 10,
              "solidity": 0.2
             }
            },
            "type": "histogram"
           }
          ],
          "histogram2d": [
           {
            "colorbar": {
             "outlinewidth": 0,
             "ticks": ""
            },
            "colorscale": [
             [
              0,
              "#0d0887"
             ],
             [
              0.1111111111111111,
              "#46039f"
             ],
             [
              0.2222222222222222,
              "#7201a8"
             ],
             [
              0.3333333333333333,
              "#9c179e"
             ],
             [
              0.4444444444444444,
              "#bd3786"
             ],
             [
              0.5555555555555556,
              "#d8576b"
             ],
             [
              0.6666666666666666,
              "#ed7953"
             ],
             [
              0.7777777777777778,
              "#fb9f3a"
             ],
             [
              0.8888888888888888,
              "#fdca26"
             ],
             [
              1,
              "#f0f921"
             ]
            ],
            "type": "histogram2d"
           }
          ],
          "histogram2dcontour": [
           {
            "colorbar": {
             "outlinewidth": 0,
             "ticks": ""
            },
            "colorscale": [
             [
              0,
              "#0d0887"
             ],
             [
              0.1111111111111111,
              "#46039f"
             ],
             [
              0.2222222222222222,
              "#7201a8"
             ],
             [
              0.3333333333333333,
              "#9c179e"
             ],
             [
              0.4444444444444444,
              "#bd3786"
             ],
             [
              0.5555555555555556,
              "#d8576b"
             ],
             [
              0.6666666666666666,
              "#ed7953"
             ],
             [
              0.7777777777777778,
              "#fb9f3a"
             ],
             [
              0.8888888888888888,
              "#fdca26"
             ],
             [
              1,
              "#f0f921"
             ]
            ],
            "type": "histogram2dcontour"
           }
          ],
          "mesh3d": [
           {
            "colorbar": {
             "outlinewidth": 0,
             "ticks": ""
            },
            "type": "mesh3d"
           }
          ],
          "parcoords": [
           {
            "line": {
             "colorbar": {
              "outlinewidth": 0,
              "ticks": ""
             }
            },
            "type": "parcoords"
           }
          ],
          "pie": [
           {
            "automargin": true,
            "type": "pie"
           }
          ],
          "scatter": [
           {
            "fillpattern": {
             "fillmode": "overlay",
             "size": 10,
             "solidity": 0.2
            },
            "type": "scatter"
           }
          ],
          "scatter3d": [
           {
            "line": {
             "colorbar": {
              "outlinewidth": 0,
              "ticks": ""
             }
            },
            "marker": {
             "colorbar": {
              "outlinewidth": 0,
              "ticks": ""
             }
            },
            "type": "scatter3d"
           }
          ],
          "scattercarpet": [
           {
            "marker": {
             "colorbar": {
              "outlinewidth": 0,
              "ticks": ""
             }
            },
            "type": "scattercarpet"
           }
          ],
          "scattergeo": [
           {
            "marker": {
             "colorbar": {
              "outlinewidth": 0,
              "ticks": ""
             }
            },
            "type": "scattergeo"
           }
          ],
          "scattergl": [
           {
            "marker": {
             "colorbar": {
              "outlinewidth": 0,
              "ticks": ""
             }
            },
            "type": "scattergl"
           }
          ],
          "scattermap": [
           {
            "marker": {
             "colorbar": {
              "outlinewidth": 0,
              "ticks": ""
             }
            },
            "type": "scattermap"
           }
          ],
          "scattermapbox": [
           {
            "marker": {
             "colorbar": {
              "outlinewidth": 0,
              "ticks": ""
             }
            },
            "type": "scattermapbox"
           }
          ],
          "scatterpolar": [
           {
            "marker": {
             "colorbar": {
              "outlinewidth": 0,
              "ticks": ""
             }
            },
            "type": "scatterpolar"
           }
          ],
          "scatterpolargl": [
           {
            "marker": {
             "colorbar": {
              "outlinewidth": 0,
              "ticks": ""
             }
            },
            "type": "scatterpolargl"
           }
          ],
          "scatterternary": [
           {
            "marker": {
             "colorbar": {
              "outlinewidth": 0,
              "ticks": ""
             }
            },
            "type": "scatterternary"
           }
          ],
          "surface": [
           {
            "colorbar": {
             "outlinewidth": 0,
             "ticks": ""
            },
            "colorscale": [
             [
              0,
              "#0d0887"
             ],
             [
              0.1111111111111111,
              "#46039f"
             ],
             [
              0.2222222222222222,
              "#7201a8"
             ],
             [
              0.3333333333333333,
              "#9c179e"
             ],
             [
              0.4444444444444444,
              "#bd3786"
             ],
             [
              0.5555555555555556,
              "#d8576b"
             ],
             [
              0.6666666666666666,
              "#ed7953"
             ],
             [
              0.7777777777777778,
              "#fb9f3a"
             ],
             [
              0.8888888888888888,
              "#fdca26"
             ],
             [
              1,
              "#f0f921"
             ]
            ],
            "type": "surface"
           }
          ],
          "table": [
           {
            "cells": {
             "fill": {
              "color": "#EBF0F8"
             },
             "line": {
              "color": "white"
             }
            },
            "header": {
             "fill": {
              "color": "#C8D4E3"
             },
             "line": {
              "color": "white"
             }
            },
            "type": "table"
           }
          ]
         },
         "layout": {
          "annotationdefaults": {
           "arrowcolor": "#2a3f5f",
           "arrowhead": 0,
           "arrowwidth": 1
          },
          "autotypenumbers": "strict",
          "coloraxis": {
           "colorbar": {
            "outlinewidth": 0,
            "ticks": ""
           }
          },
          "colorscale": {
           "diverging": [
            [
             0,
             "#8e0152"
            ],
            [
             0.1,
             "#c51b7d"
            ],
            [
             0.2,
             "#de77ae"
            ],
            [
             0.3,
             "#f1b6da"
            ],
            [
             0.4,
             "#fde0ef"
            ],
            [
             0.5,
             "#f7f7f7"
            ],
            [
             0.6,
             "#e6f5d0"
            ],
            [
             0.7,
             "#b8e186"
            ],
            [
             0.8,
             "#7fbc41"
            ],
            [
             0.9,
             "#4d9221"
            ],
            [
             1,
             "#276419"
            ]
           ],
           "sequential": [
            [
             0,
             "#0d0887"
            ],
            [
             0.1111111111111111,
             "#46039f"
            ],
            [
             0.2222222222222222,
             "#7201a8"
            ],
            [
             0.3333333333333333,
             "#9c179e"
            ],
            [
             0.4444444444444444,
             "#bd3786"
            ],
            [
             0.5555555555555556,
             "#d8576b"
            ],
            [
             0.6666666666666666,
             "#ed7953"
            ],
            [
             0.7777777777777778,
             "#fb9f3a"
            ],
            [
             0.8888888888888888,
             "#fdca26"
            ],
            [
             1,
             "#f0f921"
            ]
           ],
           "sequentialminus": [
            [
             0,
             "#0d0887"
            ],
            [
             0.1111111111111111,
             "#46039f"
            ],
            [
             0.2222222222222222,
             "#7201a8"
            ],
            [
             0.3333333333333333,
             "#9c179e"
            ],
            [
             0.4444444444444444,
             "#bd3786"
            ],
            [
             0.5555555555555556,
             "#d8576b"
            ],
            [
             0.6666666666666666,
             "#ed7953"
            ],
            [
             0.7777777777777778,
             "#fb9f3a"
            ],
            [
             0.8888888888888888,
             "#fdca26"
            ],
            [
             1,
             "#f0f921"
            ]
           ]
          },
          "colorway": [
           "#636efa",
           "#EF553B",
           "#00cc96",
           "#ab63fa",
           "#FFA15A",
           "#19d3f3",
           "#FF6692",
           "#B6E880",
           "#FF97FF",
           "#FECB52"
          ],
          "font": {
           "color": "#2a3f5f"
          },
          "geo": {
           "bgcolor": "white",
           "lakecolor": "white",
           "landcolor": "#E5ECF6",
           "showlakes": true,
           "showland": true,
           "subunitcolor": "white"
          },
          "hoverlabel": {
           "align": "left"
          },
          "hovermode": "closest",
          "mapbox": {
           "style": "light"
          },
          "paper_bgcolor": "white",
          "plot_bgcolor": "#E5ECF6",
          "polar": {
           "angularaxis": {
            "gridcolor": "white",
            "linecolor": "white",
            "ticks": ""
           },
           "bgcolor": "#E5ECF6",
           "radialaxis": {
            "gridcolor": "white",
            "linecolor": "white",
            "ticks": ""
           }
          },
          "scene": {
           "xaxis": {
            "backgroundcolor": "#E5ECF6",
            "gridcolor": "white",
            "gridwidth": 2,
            "linecolor": "white",
            "showbackground": true,
            "ticks": "",
            "zerolinecolor": "white"
           },
           "yaxis": {
            "backgroundcolor": "#E5ECF6",
            "gridcolor": "white",
            "gridwidth": 2,
            "linecolor": "white",
            "showbackground": true,
            "ticks": "",
            "zerolinecolor": "white"
           },
           "zaxis": {
            "backgroundcolor": "#E5ECF6",
            "gridcolor": "white",
            "gridwidth": 2,
            "linecolor": "white",
            "showbackground": true,
            "ticks": "",
            "zerolinecolor": "white"
           }
          },
          "shapedefaults": {
           "line": {
            "color": "#2a3f5f"
           }
          },
          "ternary": {
           "aaxis": {
            "gridcolor": "white",
            "linecolor": "white",
            "ticks": ""
           },
           "baxis": {
            "gridcolor": "white",
            "linecolor": "white",
            "ticks": ""
           },
           "bgcolor": "#E5ECF6",
           "caxis": {
            "gridcolor": "white",
            "linecolor": "white",
            "ticks": ""
           }
          },
          "title": {
           "x": 0.05
          },
          "xaxis": {
           "automargin": true,
           "gridcolor": "white",
           "linecolor": "white",
           "ticks": "",
           "title": {
            "standoff": 15
           },
           "zerolinecolor": "white",
           "zerolinewidth": 2
          },
          "yaxis": {
           "automargin": true,
           "gridcolor": "white",
           "linecolor": "white",
           "ticks": "",
           "title": {
            "standoff": 15
           },
           "zerolinecolor": "white",
           "zerolinewidth": 2
          }
         }
        },
        "title": {
         "text": "Entropy generation number vs n_cells - Training Snapshots - Parameter Space 01"
        },
        "xaxis": {
         "tickformat": ".4e",
         "title": {
          "text": "n_cells [-]"
         },
         "type": "log"
        },
        "yaxis": {
         "tickformat": ".2f",
         "title": {
          "text": "entropy_num"
         }
        }
       }
      }
     },
     "metadata": {},
     "output_type": "display_data"
    }
   ],
   "source": [
    "fig = go.Figure()\n",
    "plot_metric = \"entropy_num\" #\"entropy_num\"\n",
    "squarred_errors = np.zeros((N_SNAPS, len(mapped_folders) + 1)) #! Only if original is also included\n",
    "for idx_snap in range(N_SNAPS):\n",
    "    entropies = []\n",
    "    cell_sizes = []\n",
    "    mapped_meshes = []\n",
    "\n",
    "\n",
    "    for key, value in mapped_dic.items():\n",
    "        entropies.append(value[plot_metric][idx_snap])\n",
    "        cell_sizes.append(value[\"n_cells\"])\n",
    "        mapped_meshes.append(key)\n",
    "        \n",
    "    sorted_indices = np.argsort(np.array(cell_sizes))\n",
    "    entropies = np.array(entropies)[sorted_indices]\n",
    "    cell_sizes = np.array(cell_sizes)[sorted_indices]\n",
    "    mapped_meshes_sorted = [mapped_meshes[i] for i in sorted_indices]\n",
    "    \n",
    "    original_n_cells = original_dic[\"original\"][\"n_cells\"][idx_snap]\n",
    "    original_entropy_num = original_dic[\"original\"][plot_metric][idx_snap]\n",
    "    \n",
    "    idx_org = np.searchsorted(cell_sizes, original_n_cells)\n",
    "    cell_sizes = np.insert(cell_sizes, idx_org, original_n_cells)\n",
    "    entropies = np.insert(entropies, idx_org, original_entropy_num)\n",
    "    mapped_meshes_sorted.insert(idx_org, \"Original Comsol Mesh\")\n",
    "    \n",
    "\n",
    "    rel_error = (entropies - original_entropy_num) / original_entropy_num\n",
    "    squarred_errors[idx_snap, :] = (entropies - original_entropy_num)**2\n",
    "    \n",
    "    mapped_meshes_sorted = np.array(mapped_meshes_sorted, dtype=object)\n",
    "    idx_snap_array = np.ones_like(rel_error) * idx_snap\n",
    "    # Stack into 2D array: shape (n_points, 2)\n",
    "    custom_data = np.column_stack((mapped_meshes_sorted, rel_error * 100, idx_snap_array))\n",
    "    \n",
    "\n",
    "    fig.add_trace(go.Scatter(x=cell_sizes,\n",
    "                             y=entropies,\n",
    "                                mode='markers+lines',\n",
    "                                name=f\"{idxs[idx_snap]:03d}\",\n",
    "                                opacity=0.4,#\n",
    "                                customdata=custom_data,\n",
    "                                hovertemplate=\n",
    "                                    'Cells: %{x}<br>'\n",
    "                                    'Entropy number: %{y}<br>'\n",
    "                                    'Snap Idx: %{customdata[2]:03d}<br>'\n",
    "                                    'Mapped: %{customdata[0]}<br>'\n",
    "                                    'Rel Error: %{customdata[1]:.3f}%<extra></extra>',\n",
    "                                line=dict(color=colors[idx_snap])\n",
    "                ))\n",
    "    \n",
    "fig.update_layout(\n",
    "    showlegend=False,        # Hide the legend\n",
    "    title=f\"Entropy generation number vs n_cells - Training Snapshots - Parameter Space {PARAMETER_SPACE}\",       # Optional: add a title\n",
    "    xaxis_title=\"n_cells [-]\",    # Optional: label for x-axis\n",
    "    yaxis_title=plot_metric,     # Optional: label for y-axis\n",
    "    xaxis=dict(\n",
    "        type='log',                               # Set x-axis to logarithmic scale\n",
    "        tickformat='.4e',                         # Format x-axis ticks to scientific notation with 2 decimal places\n",
    "    ),\n",
    "    yaxis=dict(\n",
    "        tickformat='.2f',                         # Format y-axis ticks to 2 decimal places (optional)\n",
    "    )\n",
    ")\n",
    "\n",
    "fig.write_image(mapped_root / f\"Training_Diff_{plot_metric}.png\")\n",
    "fig.write_html(mapped_root / f\"Training_Diff_{plot_metric}.html\")\n",
    "fig.show()"
   ]
  },
  {
   "cell_type": "code",
   "execution_count": null,
   "id": "ea16243d",
   "metadata": {},
   "outputs": [
    {
     "data": {
      "application/vnd.plotly.v1+json": {
       "config": {
        "plotlyServerURL": "https://plot.ly"
       },
       "data": [
        {
         "hovertemplate": "x=%{x}<br>y=%{y}<br>text=%{text}<extra></extra>",
         "legendgroup": "",
         "marker": {
          "color": "#636efa",
          "symbol": "circle"
         },
         "mode": "markers+text",
         "name": "",
         "orientation": "v",
         "showlegend": false,
         "text": {
          "bdata": "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",
          "dtype": "f8"
         },
         "type": "scatter",
         "x": {
          "bdata": "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",
          "dtype": "f8"
         },
         "xaxis": "x",
         "y": {
          "bdata": "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",
          "dtype": "f8"
         },
         "yaxis": "y"
        }
       ],
       "layout": {
        "legend": {
         "tracegroupgap": 0
        },
        "margin": {
         "t": 60
        },
        "shapes": [
         {
          "line": {
           "color": "red",
           "dash": "dash"
          },
          "name": "1:1 Line",
          "type": "line",
          "x0": 0.934869494963996,
          "x1": 1.4171634708047853,
          "y0": 0.934869494963996,
          "y1": 1.4171634708047853
         }
        ],
        "template": {
         "data": {
          "bar": [
           {
            "error_x": {
             "color": "#2a3f5f"
            },
            "error_y": {
             "color": "#2a3f5f"
            },
            "marker": {
             "line": {
              "color": "#E5ECF6",
              "width": 0.5
             },
             "pattern": {
              "fillmode": "overlay",
              "size": 10,
              "solidity": 0.2
             }
            },
            "type": "bar"
           }
          ],
          "barpolar": [
           {
            "marker": {
             "line": {
              "color": "#E5ECF6",
              "width": 0.5
             },
             "pattern": {
              "fillmode": "overlay",
              "size": 10,
              "solidity": 0.2
             }
            },
            "type": "barpolar"
           }
          ],
          "carpet": [
           {
            "aaxis": {
             "endlinecolor": "#2a3f5f",
             "gridcolor": "white",
             "linecolor": "white",
             "minorgridcolor": "white",
             "startlinecolor": "#2a3f5f"
            },
            "baxis": {
             "endlinecolor": "#2a3f5f",
             "gridcolor": "white",
             "linecolor": "white",
             "minorgridcolor": "white",
             "startlinecolor": "#2a3f5f"
            },
            "type": "carpet"
           }
          ],
          "choropleth": [
           {
            "colorbar": {
             "outlinewidth": 0,
             "ticks": ""
            },
            "type": "choropleth"
           }
          ],
          "contour": [
           {
            "colorbar": {
             "outlinewidth": 0,
             "ticks": ""
            },
            "colorscale": [
             [
              0,
              "#0d0887"
             ],
             [
              0.1111111111111111,
              "#46039f"
             ],
             [
              0.2222222222222222,
              "#7201a8"
             ],
             [
              0.3333333333333333,
              "#9c179e"
             ],
             [
              0.4444444444444444,
              "#bd3786"
             ],
             [
              0.5555555555555556,
              "#d8576b"
             ],
             [
              0.6666666666666666,
              "#ed7953"
             ],
             [
              0.7777777777777778,
              "#fb9f3a"
             ],
             [
              0.8888888888888888,
              "#fdca26"
             ],
             [
              1,
              "#f0f921"
             ]
            ],
            "type": "contour"
           }
          ],
          "contourcarpet": [
           {
            "colorbar": {
             "outlinewidth": 0,
             "ticks": ""
            },
            "type": "contourcarpet"
           }
          ],
          "heatmap": [
           {
            "colorbar": {
             "outlinewidth": 0,
             "ticks": ""
            },
            "colorscale": [
             [
              0,
              "#0d0887"
             ],
             [
              0.1111111111111111,
              "#46039f"
             ],
             [
              0.2222222222222222,
              "#7201a8"
             ],
             [
              0.3333333333333333,
              "#9c179e"
             ],
             [
              0.4444444444444444,
              "#bd3786"
             ],
             [
              0.5555555555555556,
              "#d8576b"
             ],
             [
              0.6666666666666666,
              "#ed7953"
             ],
             [
              0.7777777777777778,
              "#fb9f3a"
             ],
             [
              0.8888888888888888,
              "#fdca26"
             ],
             [
              1,
              "#f0f921"
             ]
            ],
            "type": "heatmap"
           }
          ],
          "histogram": [
           {
            "marker": {
             "pattern": {
              "fillmode": "overlay",
              "size": 10,
              "solidity": 0.2
             }
            },
            "type": "histogram"
           }
          ],
          "histogram2d": [
           {
            "colorbar": {
             "outlinewidth": 0,
             "ticks": ""
            },
            "colorscale": [
             [
              0,
              "#0d0887"
             ],
             [
              0.1111111111111111,
              "#46039f"
             ],
             [
              0.2222222222222222,
              "#7201a8"
             ],
             [
              0.3333333333333333,
              "#9c179e"
             ],
             [
              0.4444444444444444,
              "#bd3786"
             ],
             [
              0.5555555555555556,
              "#d8576b"
             ],
             [
              0.6666666666666666,
              "#ed7953"
             ],
             [
              0.7777777777777778,
              "#fb9f3a"
             ],
             [
              0.8888888888888888,
              "#fdca26"
             ],
             [
              1,
              "#f0f921"
             ]
            ],
            "type": "histogram2d"
           }
          ],
          "histogram2dcontour": [
           {
            "colorbar": {
             "outlinewidth": 0,
             "ticks": ""
            },
            "colorscale": [
             [
              0,
              "#0d0887"
             ],
             [
              0.1111111111111111,
              "#46039f"
             ],
             [
              0.2222222222222222,
              "#7201a8"
             ],
             [
              0.3333333333333333,
              "#9c179e"
             ],
             [
              0.4444444444444444,
              "#bd3786"
             ],
             [
              0.5555555555555556,
              "#d8576b"
             ],
             [
              0.6666666666666666,
              "#ed7953"
             ],
             [
              0.7777777777777778,
              "#fb9f3a"
             ],
             [
              0.8888888888888888,
              "#fdca26"
             ],
             [
              1,
              "#f0f921"
             ]
            ],
            "type": "histogram2dcontour"
           }
          ],
          "mesh3d": [
           {
            "colorbar": {
             "outlinewidth": 0,
             "ticks": ""
            },
            "type": "mesh3d"
           }
          ],
          "parcoords": [
           {
            "line": {
             "colorbar": {
              "outlinewidth": 0,
              "ticks": ""
             }
            },
            "type": "parcoords"
           }
          ],
          "pie": [
           {
            "automargin": true,
            "type": "pie"
           }
          ],
          "scatter": [
           {
            "fillpattern": {
             "fillmode": "overlay",
             "size": 10,
             "solidity": 0.2
            },
            "type": "scatter"
           }
          ],
          "scatter3d": [
           {
            "line": {
             "colorbar": {
              "outlinewidth": 0,
              "ticks": ""
             }
            },
            "marker": {
             "colorbar": {
              "outlinewidth": 0,
              "ticks": ""
             }
            },
            "type": "scatter3d"
           }
          ],
          "scattercarpet": [
           {
            "marker": {
             "colorbar": {
              "outlinewidth": 0,
              "ticks": ""
             }
            },
            "type": "scattercarpet"
           }
          ],
          "scattergeo": [
           {
            "marker": {
             "colorbar": {
              "outlinewidth": 0,
              "ticks": ""
             }
            },
            "type": "scattergeo"
           }
          ],
          "scattergl": [
           {
            "marker": {
             "colorbar": {
              "outlinewidth": 0,
              "ticks": ""
             }
            },
            "type": "scattergl"
           }
          ],
          "scattermap": [
           {
            "marker": {
             "colorbar": {
              "outlinewidth": 0,
              "ticks": ""
             }
            },
            "type": "scattermap"
           }
          ],
          "scattermapbox": [
           {
            "marker": {
             "colorbar": {
              "outlinewidth": 0,
              "ticks": ""
             }
            },
            "type": "scattermapbox"
           }
          ],
          "scatterpolar": [
           {
            "marker": {
             "colorbar": {
              "outlinewidth": 0,
              "ticks": ""
             }
            },
            "type": "scatterpolar"
           }
          ],
          "scatterpolargl": [
           {
            "marker": {
             "colorbar": {
              "outlinewidth": 0,
              "ticks": ""
             }
            },
            "type": "scatterpolargl"
           }
          ],
          "scatterternary": [
           {
            "marker": {
             "colorbar": {
              "outlinewidth": 0,
              "ticks": ""
             }
            },
            "type": "scatterternary"
           }
          ],
          "surface": [
           {
            "colorbar": {
             "outlinewidth": 0,
             "ticks": ""
            },
            "colorscale": [
             [
              0,
              "#0d0887"
             ],
             [
              0.1111111111111111,
              "#46039f"
             ],
             [
              0.2222222222222222,
              "#7201a8"
             ],
             [
              0.3333333333333333,
              "#9c179e"
             ],
             [
              0.4444444444444444,
              "#bd3786"
             ],
             [
              0.5555555555555556,
              "#d8576b"
             ],
             [
              0.6666666666666666,
              "#ed7953"
             ],
             [
              0.7777777777777778,
              "#fb9f3a"
             ],
             [
              0.8888888888888888,
              "#fdca26"
             ],
             [
              1,
              "#f0f921"
             ]
            ],
            "type": "surface"
           }
          ],
          "table": [
           {
            "cells": {
             "fill": {
              "color": "#EBF0F8"
             },
             "line": {
              "color": "white"
             }
            },
            "header": {
             "fill": {
              "color": "#C8D4E3"
             },
             "line": {
              "color": "white"
             }
            },
            "type": "table"
           }
          ]
         },
         "layout": {
          "annotationdefaults": {
           "arrowcolor": "#2a3f5f",
           "arrowhead": 0,
           "arrowwidth": 1
          },
          "autotypenumbers": "strict",
          "coloraxis": {
           "colorbar": {
            "outlinewidth": 0,
            "ticks": ""
           }
          },
          "colorscale": {
           "diverging": [
            [
             0,
             "#8e0152"
            ],
            [
             0.1,
             "#c51b7d"
            ],
            [
             0.2,
             "#de77ae"
            ],
            [
             0.3,
             "#f1b6da"
            ],
            [
             0.4,
             "#fde0ef"
            ],
            [
             0.5,
             "#f7f7f7"
            ],
            [
             0.6,
             "#e6f5d0"
            ],
            [
             0.7,
             "#b8e186"
            ],
            [
             0.8,
             "#7fbc41"
            ],
            [
             0.9,
             "#4d9221"
            ],
            [
             1,
             "#276419"
            ]
           ],
           "sequential": [
            [
             0,
             "#0d0887"
            ],
            [
             0.1111111111111111,
             "#46039f"
            ],
            [
             0.2222222222222222,
             "#7201a8"
            ],
            [
             0.3333333333333333,
             "#9c179e"
            ],
            [
             0.4444444444444444,
             "#bd3786"
            ],
            [
             0.5555555555555556,
             "#d8576b"
            ],
            [
             0.6666666666666666,
             "#ed7953"
            ],
            [
             0.7777777777777778,
             "#fb9f3a"
            ],
            [
             0.8888888888888888,
             "#fdca26"
            ],
            [
             1,
             "#f0f921"
            ]
           ],
           "sequentialminus": [
            [
             0,
             "#0d0887"
            ],
            [
             0.1111111111111111,
             "#46039f"
            ],
            [
             0.2222222222222222,
             "#7201a8"
            ],
            [
             0.3333333333333333,
             "#9c179e"
            ],
            [
             0.4444444444444444,
             "#bd3786"
            ],
            [
             0.5555555555555556,
             "#d8576b"
            ],
            [
             0.6666666666666666,
             "#ed7953"
            ],
            [
             0.7777777777777778,
             "#fb9f3a"
            ],
            [
             0.8888888888888888,
             "#fdca26"
            ],
            [
             1,
             "#f0f921"
            ]
           ]
          },
          "colorway": [
           "#636efa",
           "#EF553B",
           "#00cc96",
           "#ab63fa",
           "#FFA15A",
           "#19d3f3",
           "#FF6692",
           "#B6E880",
           "#FF97FF",
           "#FECB52"
          ],
          "font": {
           "color": "#2a3f5f"
          },
          "geo": {
           "bgcolor": "white",
           "lakecolor": "white",
           "landcolor": "#E5ECF6",
           "showlakes": true,
           "showland": true,
           "subunitcolor": "white"
          },
          "hoverlabel": {
           "align": "left"
          },
          "hovermode": "closest",
          "mapbox": {
           "style": "light"
          },
          "paper_bgcolor": "white",
          "plot_bgcolor": "#E5ECF6",
          "polar": {
           "angularaxis": {
            "gridcolor": "white",
            "linecolor": "white",
            "ticks": ""
           },
           "bgcolor": "#E5ECF6",
           "radialaxis": {
            "gridcolor": "white",
            "linecolor": "white",
            "ticks": ""
           }
          },
          "scene": {
           "xaxis": {
            "backgroundcolor": "#E5ECF6",
            "gridcolor": "white",
            "gridwidth": 2,
            "linecolor": "white",
            "showbackground": true,
            "ticks": "",
            "zerolinecolor": "white"
           },
           "yaxis": {
            "backgroundcolor": "#E5ECF6",
            "gridcolor": "white",
            "gridwidth": 2,
            "linecolor": "white",
            "showbackground": true,
            "ticks": "",
            "zerolinecolor": "white"
           },
           "zaxis": {
            "backgroundcolor": "#E5ECF6",
            "gridcolor": "white",
            "gridwidth": 2,
            "linecolor": "white",
            "showbackground": true,
            "ticks": "",
            "zerolinecolor": "white"
           }
          },
          "shapedefaults": {
           "line": {
            "color": "#2a3f5f"
           }
          },
          "ternary": {
           "aaxis": {
            "gridcolor": "white",
            "linecolor": "white",
            "ticks": ""
           },
           "baxis": {
            "gridcolor": "white",
            "linecolor": "white",
            "ticks": ""
           },
           "bgcolor": "#E5ECF6",
           "caxis": {
            "gridcolor": "white",
            "linecolor": "white",
            "ticks": ""
           }
          },
          "title": {
           "x": 0.05
          },
          "xaxis": {
           "automargin": true,
           "gridcolor": "white",
           "linecolor": "white",
           "ticks": "",
           "title": {
            "standoff": 15
           },
           "zerolinecolor": "white",
           "zerolinewidth": 2
          },
          "yaxis": {
           "automargin": true,
           "gridcolor": "white",
           "linecolor": "white",
           "ticks": "",
           "title": {
            "standoff": 15
           },
           "zerolinecolor": "white",
           "zerolinewidth": 2
          }
         }
        },
        "title": {
         "text": "Entropy generation number R2 = 99.98%"
        },
        "xaxis": {
         "anchor": "y",
         "domain": [
          0,
          1
         ],
         "title": {
          "text": "Entropy number original"
         }
        },
        "yaxis": {
         "anchor": "x",
         "domain": [
          0,
          1
         ],
         "title": {
          "text": "Entroy number mapped"
         }
        }
       }
      }
     },
     "metadata": {},
     "output_type": "display_data"
    }
   ],
   "source": [
    "import plotly.express as px\n",
    "import pandas as pd\n",
    "\n",
    "\n",
    "df = pd.DataFrame({\n",
    "    \"x\": original_dic[\"original\"][\"entropy_num\"],\n",
    "    \"y\": mapped_dic['s100_100_100_b0_4000_0_5000_-4000_0'][\"entropy_num\"]\n",
    "})\n",
    "\n",
    "\n",
    "fig = px.scatter(df, x=\"x\", y=\"y\", text = np.arange(len(original_dic[\"original\"][\"entropy_num\"])))\n",
    "\n",
    "# Add 1:1 line\n",
    "fig.add_shape(\n",
    "    type=\"line\",\n",
    "    x0=min(df[\"x\"]), y0=min(df[\"x\"]),\n",
    "    x1=max(df[\"x\"]), y1=max(df[\"x\"]),\n",
    "    line=dict(color=\"red\", dash=\"dash\"),\n",
    "    name=\"1:1 Line\"\n",
    ")\n",
    "\n",
    "# Customize layout\n",
    "r2 = np.corrcoef(df.x, df.y)[0, 1]\n",
    "fig.update_layout(\n",
    "    title=f'Entropy generation number R2 = {r2 * 100:.2f}%',\n",
    "    xaxis_title='Entropy number original',\n",
    "    yaxis_title='Entroy number mapped',\n",
    ")\n",
    "\n",
    "\n",
    "fig.write_image(mapped_root / \"Training_Diff_Scatter_EntropyGeneration.png\")\n",
    "\n",
    "fig.show()"
   ]
  },
  {
   "cell_type": "code",
   "execution_count": null,
   "id": "b2a156c5",
   "metadata": {},
   "outputs": [
    {
     "name": "stdout",
     "output_type": "stream",
     "text": [
      "8.72180557778584e-06\n"
     ]
    }
   ],
   "source": [
    "org = np.asarray(original_dic[\"original\"][\"entropy_num\"])\n",
    "mapped = np.asarray(mapped_dic['s100_100_100_b0_4000_0_5000_-4000_0'][\"entropy_num\"])\n",
    "mse = np.mean((org - mapped)**2)\n",
    "print(mse)"
   ]
  },
  {
   "cell_type": "markdown",
   "id": "0eb4c70d",
   "metadata": {},
   "source": [
    "### Errors"
   ]
  },
  {
   "cell_type": "code",
   "execution_count": null,
   "id": "a2299ce7",
   "metadata": {},
   "outputs": [
    {
     "name": "stdout",
     "output_type": "stream",
     "text": [
      "Original Comsol Mesh - MSE :    0.0e+00\n",
      "s100_100_100_b0_4000_0_5000_-4000_0 - MSE :    8.7e-06\n"
     ]
    }
   ],
   "source": [
    "mses = np.sum(squarred_errors, axis=0)/N_SNAPS\n",
    "meses_dic = {mesh: mse for (mse, mesh) in zip(mses, mapped_meshes_sorted) }\n",
    "for key, val in meses_dic.items():\n",
    "    print(f\"{key} - MSE : {val:>10.1e}\")"
   ]
  }
 ],
 "metadata": {
  "kernelspec": {
   "display_name": ".venv",
   "language": "python",
   "name": "python3"
  },
  "language_info": {
   "codemirror_mode": {
    "name": "ipython",
    "version": 3
   },
   "file_extension": ".py",
   "mimetype": "text/x-python",
   "name": "python",
   "nbconvert_exporter": "python",
   "pygments_lexer": "ipython3",
   "version": "3.12.4"
  }
 },
 "nbformat": 4,
 "nbformat_minor": 5
}
