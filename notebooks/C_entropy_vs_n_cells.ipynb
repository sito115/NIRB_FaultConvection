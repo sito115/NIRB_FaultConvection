{
 "cells": [
  {
   "cell_type": "code",
   "execution_count": null,
   "id": "28d43c53",
   "metadata": {},
   "outputs": [],
   "source": [
    "import numpy as np\n",
    "import plotly.express as px\n",
    "import plotly.graph_objects as go\n",
    "from pathlib import Path\n",
    "import pandas as pd\n",
    "import pint\n",
    "import sys\n",
    "from typing import List"
   ]
  },
  {
   "cell_type": "code",
   "execution_count": null,
   "id": "fef9fc7b",
   "metadata": {},
   "outputs": [],
   "source": [
    "sys.path.append(str(Path.cwd().parent))"
   ]
  },
  {
   "cell_type": "code",
   "execution_count": null,
   "id": "b248ebe4",
   "metadata": {},
   "outputs": [],
   "source": [
    "from src.utils import safe_parse_quantity, calculate_thermal_entropy_generation\n",
    "from comsol_module.comsol_classes import COMSOL_VTU"
   ]
  },
  {
   "cell_type": "code",
   "execution_count": null,
   "id": "0bc51ba2",
   "metadata": {},
   "outputs": [],
   "source": [
    "ROOT = Path().cwd().parent\n",
    "PARAMETER_SPACE = \"01\"\n",
    "ROOT\n",
    "DATA_TYPE = \"Test\""
   ]
  },
  {
   "cell_type": "code",
   "execution_count": null,
   "id": "22eef90e",
   "metadata": {},
   "outputs": [],
   "source": [
    "mapped_root = ROOT / \"data\" / PARAMETER_SPACE / f\"{DATA_TYPE}Mapped\"\n",
    "assert mapped_root.exists()\n",
    "mapped_folders : List[Path]= [folder for folder in mapped_root.iterdir() if not folder.is_file()]"
   ]
  },
  {
   "cell_type": "code",
   "execution_count": null,
   "id": "0151230d",
   "metadata": {},
   "outputs": [],
   "source": [
    "mapped_dic = {}\n",
    "for folder in mapped_folders:\n",
    "    npy_file = folder / \"Exports\" / f\"{DATA_TYPE}_temperatures.npy\"\n",
    "    vti_file = [file for file in folder.rglob(\"*.vt*\")][0]\n",
    "    mapped_dic[folder.stem] = {\"npy\": npy_file, \"vti\" : vti_file, \"entropy_num\" : [], \"entropy_gen\" : []}"
   ]
  },
  {
   "cell_type": "code",
   "execution_count": null,
   "id": "2c5f4a2f",
   "metadata": {},
   "outputs": [],
   "source": [
    "joblib_file = ROOT / \"data\" / PARAMETER_SPACE / f\"{DATA_TYPE}Original\" / f\"{DATA_TYPE}_temperatures.joblib\"\n",
    "assert joblib_file.exists()\n",
    "vtu_file = sorted([file for file in joblib_file.parent.rglob(\"*.vtu\")])\n",
    "original_dic = {}\n",
    "original_dic[\"original\"] = {\"joblib\": joblib_file, \"vtu\" : vtu_file, \"entropy_num\" : [], \"entropy_gen\" : []}\n",
    "original_dic[\"original\"][\"n_cells\"] = []\n",
    "print(len(original_dic[\"original\"][\"vtu\"]))"
   ]
  },
  {
   "cell_type": "markdown",
   "id": "5cb1764b",
   "metadata": {},
   "source": [
    "## Calculate entropy number"
   ]
  },
  {
   "cell_type": "code",
   "execution_count": null,
   "id": "b06b1401",
   "metadata": {},
   "outputs": [],
   "source": [
    "param_folder = ROOT / \"data\" / PARAMETER_SPACE / \"Exports\"\n",
    "assert param_folder.exists()\n",
    "param_files = sorted([path for path in param_folder.rglob(f\"{DATA_TYPE}*.csv\")])\n",
    "print(len(param_files))\n",
    "time_step_idx = -1"
   ]
  },
  {
   "cell_type": "markdown",
   "id": "2c70c96f",
   "metadata": {},
   "source": [
    "### Mapped Meshes for different sizes"
   ]
  },
  {
   "cell_type": "code",
   "execution_count": null,
   "id": "06993e8e",
   "metadata": {},
   "outputs": [],
   "source": [
    "for idx_mesh, (key, values) in enumerate(mapped_dic.items()):\n",
    "    comsol_data = COMSOL_VTU(values[\"vti\"])\n",
    "    mapped_dic[key][\"n_cells\"] = comsol_data.mesh.n_cells\n",
    "    temperatures = np.load(values[\"npy\"])\n",
    "    print(temperatures.shape)\n",
    "    for idx_snap, temperature in enumerate(temperatures):\n",
    "        param_df = pd.read_csv(param_files[idx_snap], index_col = 0)\n",
    "        ureg = pint.UnitRegistry()\n",
    "        param_df['quantity_pint'] = param_df[param_df.columns[-1]].apply(lambda x : safe_parse_quantity(x, ureg))\n",
    "        lambda_therm = (1 - param_df.loc['host_phi', \"quantity_pint\"]) * param_df.loc['host_lambda', \"quantity_pint\"] + \\\n",
    "                            param_df.loc['host_phi', \"quantity_pint\"] * (4.2 * ureg.watt / (ureg.meter * ureg.kelvin))\n",
    "        t0      = 0.5 * (param_df.loc[\"T_h\", \"quantity_pint\"] + param_df.loc[\"T_c\", \"quantity_pint\"])\n",
    "        delta_T = (param_df.loc['T_h', \"quantity_pint\"]  - param_df.loc[\"T_c\", \"quantity_pint\"])\n",
    "        s0_total, entropy_number = calculate_thermal_entropy_generation(\n",
    "            comsol_data.mesh,\n",
    "            temperature[time_step_idx],\n",
    "            lambda_therm,\n",
    "            t0,\n",
    "            delta_T,\n",
    "            ureg,\n",
    "        )\n",
    "        # L = (comsol_data.mesh.bounds.z_max - comsol_data.mesh.bounds.z_min) * ureg.meter\n",
    "        # print(f\"{idx_snap:03d} : {(lambda_therm * delta_T**2) / (L**2 * t0**2):.5e}\") #s0_characteristic =\n",
    "        mapped_dic[key][\"entropy_gen\"].append(s0_total.magnitude)\n",
    "        mapped_dic[key][\"entropy_num\"].append(entropy_number.magnitude)\n"
   ]
  },
  {
   "cell_type": "markdown",
   "id": "3f7af65e",
   "metadata": {},
   "source": [
    "### Original COMSOL data"
   ]
  },
  {
   "cell_type": "code",
   "execution_count": null,
   "id": "fca35eb3",
   "metadata": {},
   "outputs": [],
   "source": [
    "for idx, file in enumerate(original_dic[\"original\"][\"vtu\"]):\n",
    "    param_df = pd.read_csv(param_files[idx], index_col = 0)\n",
    "    ureg = pint.UnitRegistry()\n",
    "    param_df['quantity_pint'] = param_df[param_df.columns[-1]].apply(lambda x : safe_parse_quantity(x, ureg))\n",
    "    lambda_therm = (1 - param_df.loc['host_phi', \"quantity_pint\"]) * param_df.loc['host_lambda', \"quantity_pint\"] + \\\n",
    "                         param_df.loc['host_phi', \"quantity_pint\"] * (4.2 * ureg.watt / (ureg.meter * ureg.kelvin))\n",
    "    t0      = 0.5 * (param_df.loc[\"T_h\", \"quantity_pint\"] + param_df.loc[\"T_c\", \"quantity_pint\"])\n",
    "    delta_T = (param_df.loc['T_h', \"quantity_pint\"]  - param_df.loc[\"T_c\", \"quantity_pint\"])\n",
    "    comsol_data = COMSOL_VTU(file)\n",
    "    assert int(file.stem.split('_')[-1]) == idx\n",
    "    temp_field = comsol_data.format_field(\"Temperature\", time_step_idx)\n",
    "    s0_total, entropy_number = calculate_thermal_entropy_generation(\n",
    "        comsol_data.mesh,\n",
    "        comsol_data.mesh.point_data[temp_field],\n",
    "        lambda_therm,\n",
    "        t0,\n",
    "        delta_T,\n",
    "        ureg,\n",
    "    )\n",
    "    # L = (comsol_data.mesh.bounds.z_max - comsol_data.mesh.bounds.z_min) * ureg.meter\n",
    "    # print(f\"{idx:03d} : {(lambda_therm * delta_T**2) / (L**2 * t0**2):.5e}\") #s0_characteristic =\n",
    "    original_dic[\"original\"][\"entropy_gen\"].append(s0_total.magnitude)\n",
    "    original_dic[\"original\"][\"entropy_num\"].append(entropy_number.magnitude)\n",
    "    original_dic[\"original\"][\"n_cells\"].append(comsol_data.mesh.n_cells)"
   ]
  },
  {
   "cell_type": "code",
   "execution_count": null,
   "id": "7dc2f0b2",
   "metadata": {},
   "outputs": [],
   "source": [
    "print(len(original_dic[\"original\"][\"entropy_gen\"]))\n",
    "print(len(mapped_dic['s100_100_100_b0_4000_0_5000_-4000_0'][\"entropy_gen\"]))"
   ]
  },
  {
   "cell_type": "markdown",
   "id": "e3fa87c0",
   "metadata": {},
   "source": [
    "## Plot"
   ]
  },
  {
   "cell_type": "code",
   "execution_count": null,
   "id": "8b4a527e",
   "metadata": {},
   "outputs": [],
   "source": [
    "N_SNAPS = len(original_dic[\"original\"][\"vtu\"])\n",
    "colors = px.colors.sample_colorscale(\"turbo\", [n/(N_SNAPS) for n in range(N_SNAPS)])\n",
    "print(N_SNAPS)"
   ]
  },
  {
   "cell_type": "code",
   "execution_count": null,
   "id": "b8eb251a",
   "metadata": {},
   "outputs": [],
   "source": [
    "fig = go.Figure()\n",
    "\n",
    "squarred_errors = np.zeros((N_SNAPS, len(mapped_folders) + 1)) #! Only if original is also included\n",
    "for idx_snap in range(N_SNAPS):\n",
    "    entropies = []\n",
    "    cell_sizes = []\n",
    "    mapped_meshes = []\n",
    "\n",
    "\n",
    "    for key, value in mapped_dic.items():\n",
    "        entropies.append(value[\"entropy_num\"][idx_snap])\n",
    "        cell_sizes.append(value[\"n_cells\"])\n",
    "        mapped_meshes.append(key)\n",
    "        \n",
    "    sorted_indices = np.argsort(np.array(cell_sizes))\n",
    "    entropies = np.array(entropies)[sorted_indices]\n",
    "    cell_sizes = np.array(cell_sizes)[sorted_indices]\n",
    "    mapped_meshes_sorted = [mapped_meshes[i] for i in sorted_indices]\n",
    "    \n",
    "    original_n_cells = original_dic[\"original\"][\"n_cells\"][idx_snap]\n",
    "    original_entropy_num = original_dic[\"original\"][\"entropy_num\"][idx_snap]\n",
    "    \n",
    "    idx_org = np.searchsorted(cell_sizes, original_n_cells)\n",
    "    cell_sizes = np.insert(cell_sizes, idx_org, original_n_cells)\n",
    "    entropies = np.insert(entropies, idx_org, original_entropy_num)\n",
    "    mapped_meshes_sorted.insert(idx_org, \"Original Comsol Mesh\")\n",
    "    \n",
    "\n",
    "    rel_error = (entropies - original_entropy_num) / original_entropy_num\n",
    "    squarred_errors[idx_snap, :] = (entropies - original_entropy_num)**2\n",
    "    \n",
    "    mapped_meshes_sorted = np.array(mapped_meshes_sorted, dtype=object)\n",
    "    idx_snap_array = np.ones_like(rel_error) * idx_snap\n",
    "    # Stack into 2D array: shape (n_points, 2)\n",
    "    custom_data = np.column_stack((mapped_meshes_sorted, rel_error * 100, idx_snap_array))\n",
    "    \n",
    "    fig.add_trace(go.Scatter(x=cell_sizes,\n",
    "                             y=entropies,\n",
    "                                mode='markers+lines',\n",
    "                                name=f\"{idx_snap:03d}\",\n",
    "                                opacity=0.4,#\n",
    "                                customdata=custom_data,\n",
    "                                hovertemplate=\n",
    "                                    'Cells: %{x}<br>'\n",
    "                                    'Entropy number: %{y}<br>'\n",
    "                                    'Snap Idx: %{customdata[2]:03d}<br>'\n",
    "                                    'Mapped: %{customdata[0]}<br>'\n",
    "                                    'Rel Error: %{customdata[1]:.3f}%<extra></extra>',\n",
    "                                line=dict(color=colors[idx_snap])\n",
    "                ))\n",
    "    \n",
    "fig.update_layout(\n",
    "    showlegend=False,        # Hide the legend\n",
    "    title=f\"Entropy generation number vs n_cells - Training Snapshots - Parameter Space {PARAMETER_SPACE}\",       # Optional: add a title\n",
    "    xaxis_title=\"n_cells [-]\",    # Optional: label for x-axis\n",
    "    yaxis_title=\"Entropy number [-]\",     # Optional: label for y-axis\n",
    "    xaxis=dict(\n",
    "        type='log',                               # Set x-axis to logarithmic scale\n",
    "        tickformat='.4e',                         # Format x-axis ticks to scientific notation with 2 decimal places\n",
    "    ),\n",
    "    yaxis=dict(\n",
    "        tickformat='.2f',                         # Format y-axis ticks to 2 decimal places (optional)\n",
    "    )\n",
    ")\n",
    "\n",
    "fig.write_image(mapped_root / \"Training_Diff_EntropyGeneration.png\")\n",
    "fig.write_html(mapped_root / \"Training_Diff_EntropyGeneration.html\")\n",
    "fig.show()"
   ]
  },
  {
   "cell_type": "code",
   "execution_count": null,
   "id": "ea16243d",
   "metadata": {},
   "outputs": [],
   "source": [
    "import plotly.express as px\n",
    "import pandas as pd\n",
    "\n",
    "\n",
    "df = pd.DataFrame({\n",
    "    \"x\": original_dic[\"original\"][\"entropy_num\"],\n",
    "    \"y\": mapped_dic['s100_100_100_b0_4000_0_5000_-4000_0'][\"entropy_num\"]\n",
    "})\n",
    "\n",
    "\n",
    "fig = px.scatter(df, x=\"x\", y=\"y\", title=\"Scatter Plot with 1:1 Line\")\n",
    "\n",
    "# Add 1:1 line\n",
    "fig.add_shape(\n",
    "    type=\"line\",\n",
    "    x0=min(df[\"x\"]), y0=min(df[\"x\"]),\n",
    "    x1=max(df[\"x\"]), y1=max(df[\"x\"]),\n",
    "    line=dict(color=\"red\", dash=\"dash\"),\n",
    "    name=\"1:1 Line\"\n",
    ")\n",
    "\n",
    "# Customize layout\n",
    "fig.update_layout(\n",
    "    title='Entropy generation number',\n",
    "    xaxis_title='Entropy number original',\n",
    "    yaxis_title='Entroy number mapped',\n",
    ")\n",
    "\n",
    "\n",
    "fig.write_image(mapped_root / \"Training_Diff_Scatter_EntropyGeneration.png\")\n",
    "\n",
    "fig.show()"
   ]
  },
  {
   "cell_type": "code",
   "execution_count": null,
   "id": "b2a156c5",
   "metadata": {},
   "outputs": [],
   "source": [
    "org = np.asarray(original_dic[\"original\"][\"entropy_num\"])\n",
    "mapped = np.asarray(mapped_dic['s100_100_100_b0_4000_0_5000_-4000_0'][\"entropy_num\"])\n",
    "mse = np.mean((org - mapped)**2)\n",
    "print(mse)"
   ]
  },
  {
   "cell_type": "markdown",
   "id": "0eb4c70d",
   "metadata": {},
   "source": [
    "### Errors"
   ]
  },
  {
   "cell_type": "code",
   "execution_count": null,
   "id": "a2299ce7",
   "metadata": {},
   "outputs": [],
   "source": [
    "mses = np.sum(squarred_errors, axis=0)/N_SNAPS\n",
    "meses_dic = {mesh: mse for (mse, mesh) in zip(mses, mapped_meshes_sorted) }\n",
    "for key, val in meses_dic.items():\n",
    "    print(f\"{key} - MSE : {val:>10.1e}\")"
   ]
  }
 ],
 "metadata": {
  "kernelspec": {
   "display_name": ".venv",
   "language": "python",
   "name": "python3"
  },
  "language_info": {
   "codemirror_mode": {
    "name": "ipython",
    "version": 3
   },
   "file_extension": ".py",
   "mimetype": "text/x-python",
   "name": "python",
   "nbconvert_exporter": "python",
   "pygments_lexer": "ipython3",
   "version": "3.12.4"
  }
 },
 "nbformat": 4,
 "nbformat_minor": 5
}
