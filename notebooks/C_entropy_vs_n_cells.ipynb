{
 "cells": [
  {
   "cell_type": "code",
   "execution_count": 1,
   "id": "28d43c53",
   "metadata": {},
   "outputs": [],
   "source": [
    "import numpy as np\n",
    "import plotly.express as px\n",
    "import plotly.graph_objects as go\n",
    "from pathlib import Path\n",
    "import pandas as pd\n",
    "import pint\n",
    "import sys\n",
    "from typing import List"
   ]
  },
  {
   "cell_type": "code",
   "execution_count": 2,
   "id": "fef9fc7b",
   "metadata": {},
   "outputs": [],
   "source": [
    "sys.path.append(str(Path.cwd().parent))"
   ]
  },
  {
   "cell_type": "code",
   "execution_count": 3,
   "id": "b248ebe4",
   "metadata": {},
   "outputs": [],
   "source": [
    "from scr.utils import safe_parse_quantity\n",
    "from scr.comsol_module.comsol_classes import COMSOL_VTU\n",
    "from scr.comsol_module.entropy import calculate_S_therm"
   ]
  },
  {
   "cell_type": "code",
   "execution_count": 4,
   "id": "0bc51ba2",
   "metadata": {},
   "outputs": [
    {
     "data": {
      "text/plain": [
       "PosixPath('/Users/thomassimader/Documents/NIRB')"
      ]
     },
     "execution_count": 4,
     "metadata": {},
     "output_type": "execute_result"
    }
   ],
   "source": [
    "ROOT = Path().cwd().parent\n",
    "PARAMETER_SPACE = \"03\"\n",
    "ROOT"
   ]
  },
  {
   "cell_type": "code",
   "execution_count": null,
   "id": "22eef90e",
   "metadata": {},
   "outputs": [],
   "source": [
    "mapped_root = ROOT / \"data\" / PARAMETER_SPACE / \"TrainingMapped\"\n",
    "assert mapped_root.exists()\n",
    "mapped_folders : List[Path]= []\n",
    "mapped_folders.append(mapped_root / \"s50_50_25_b50_3950_50_4950_-3975_0\")\n",
    "mapped_folders.append(mapped_root / \"s50_50_50_b50_3950_50_4950_-3950_0\")\n",
    "mapped_folders.append(mapped_root / \"s50_50_50_b0_4000_0_5000_-4000_0\")\n",
    "mapped_folders.append(mapped_root / \"s100_100_100_b100_3900_100_4900_-3900_0\")\n",
    "mapped_folders.append(mapped_root / \"s200_200_200_b200_3800_200_4800_-3800_0\")\n",
    "mapped_folders.append(mapped_root / \"s25_25_25_b25_3975_25_4975_-3975_0\")\n",
    "mapped_folders.append(mapped_root / \"s100_100_100_b0_4000_0_5000_-4000_0\")"
   ]
  },
  {
   "cell_type": "code",
   "execution_count": 6,
   "id": "0151230d",
   "metadata": {},
   "outputs": [],
   "source": [
    "mapped_dic = {}\n",
    "for folder in mapped_folders:\n",
    "    npy_file = folder / \"Training_temperatures.npy\"\n",
    "    vti_file = [file for file in folder.rglob(\"*.vt*\")][0]\n",
    "    mapped_dic[folder.stem] = {\"npy\": npy_file, \"vti\" : vti_file, \"entropy_num\" : [], \"entropy_gen\" : []}"
   ]
  },
  {
   "cell_type": "code",
   "execution_count": 7,
   "id": "2c5f4a2f",
   "metadata": {},
   "outputs": [],
   "source": [
    "joblib_file = ROOT / \"data\" / PARAMETER_SPACE / \"Training_Original\" / \"Training_temperatures.joblib\"\n",
    "assert joblib_file.exists()\n",
    "vtu_file = sorted([file for file in joblib_file.parent.rglob(\"*.vtu\")])\n",
    "original_dic = {}\n",
    "original_dic[\"original\"] = {\"joblib\": joblib_file, \"vtu\" : vtu_file, \"entropy_num\" : [], \"entropy_gen\" : []}\n",
    "original_dic[\"original\"][\"n_cells\"] = []"
   ]
  },
  {
   "cell_type": "markdown",
   "id": "5cb1764b",
   "metadata": {},
   "source": [
    "## Calculate entropy number"
   ]
  },
  {
   "cell_type": "code",
   "execution_count": 8,
   "id": "b06b1401",
   "metadata": {},
   "outputs": [
    {
     "name": "stdout",
     "output_type": "stream",
     "text": [
      "100\n"
     ]
    }
   ],
   "source": [
    "param_folder = ROOT / \"data\" / PARAMETER_SPACE / \"Exports\"\n",
    "assert param_folder.exists()\n",
    "param_files = sorted([path for path in param_folder.rglob(\"Training*.csv\")])\n",
    "print(len(param_files))"
   ]
  },
  {
   "cell_type": "markdown",
   "id": "2c70c96f",
   "metadata": {},
   "source": [
    "### Mapped Meshes for different sizes"
   ]
  },
  {
   "cell_type": "code",
   "execution_count": 9,
   "id": "06993e8e",
   "metadata": {},
   "outputs": [],
   "source": [
    "for idx, (key, values) in enumerate(mapped_dic.items()):\n",
    "    param_df = pd.read_csv(param_files[idx], index_col = 0)\n",
    "    ureg = pint.UnitRegistry()\n",
    "    param_df['quantity_pint'] = param_df[param_df.columns[-1]].apply(lambda x : safe_parse_quantity(x, ureg))\n",
    "    lambda_therm = (1 - param_df.loc['host_phi', \"quantity_pint\"]).magnitude * param_df.loc['host_lambda', \"quantity_pint\"].magnitude + \\\n",
    "                param_df.loc['host_phi', \"quantity_pint\"].magnitude * (4.2)\n",
    "    T0 = 0.5 * (param_df.loc[\"T_h\", \"quantity_pint\"] + (20 + 273.15) * ureg.kelvin)\n",
    "    delta_T = (param_df.loc['T_h', \"quantity_pint\"] - (20 + 273.15) * ureg.kelvin)\n",
    "    comsol_data = COMSOL_VTU(values[\"vti\"])\n",
    "    mapped_dic[key][\"n_cells\"] = comsol_data.mesh.n_cells\n",
    "    temperatures = np.load(values[\"npy\"])\n",
    "    for temperature in temperatures:\n",
    "        comsol_data.mesh.point_data[\"temp_field\"] = temperature[0]\n",
    "        cell_mesh = comsol_data.mesh.point_data_to_cell_data()\n",
    "        cell_mesh.cell_data.keys()\n",
    "        temp_grad = cell_mesh.compute_derivative(\"temp_field\").cell_data[\"gradient\"]\n",
    "        s0 = calculate_S_therm(lambda_therm,\n",
    "                        T0.magnitude,\n",
    "                        temp_grad)\n",
    "        s0_total = np.sum(s0 * comsol_data.mesh.compute_cell_sizes()[\"Volume\"])\n",
    "        L = comsol_data.mesh.bounds.z_max - comsol_data.mesh.bounds.z_min\n",
    "        s0_characteristic = (lambda_therm * delta_T.magnitude**2) / (L**2 * T0.magnitude**2)\n",
    "        entropy_number = s0_total / s0_characteristic / comsol_data.mesh.volume \n",
    "        mapped_dic[key][\"entropy_gen\"].append(s0_total)\n",
    "        mapped_dic[key][\"entropy_num\"].append(entropy_number)\n"
   ]
  },
  {
   "cell_type": "markdown",
   "id": "3f7af65e",
   "metadata": {},
   "source": [
    "### Original COMSOL data"
   ]
  },
  {
   "cell_type": "code",
   "execution_count": 14,
   "id": "fca35eb3",
   "metadata": {},
   "outputs": [],
   "source": [
    "for idx, file in enumerate(original_dic[\"original\"][\"vtu\"]):\n",
    "    param_df = pd.read_csv(param_files[idx], index_col = 0)\n",
    "    ureg = pint.UnitRegistry()\n",
    "    param_df['quantity_pint'] = param_df[param_df.columns[-1]].apply(lambda x : safe_parse_quantity(x, ureg))\n",
    "    lambda_therm = (1 - param_df.loc['host_phi', \"quantity_pint\"]).magnitude * param_df.loc['host_lambda', \"quantity_pint\"].magnitude + \\\n",
    "                param_df.loc['host_phi', \"quantity_pint\"].magnitude * (4.2)\n",
    "    T0 = 0.5 * (param_df.loc[\"T_h\", \"quantity_pint\"] + (20 + 273.15) * ureg.kelvin)\n",
    "    delta_T = (param_df.loc['T_h', \"quantity_pint\"] - (20 + 273.15) * ureg.kelvin)\n",
    "    comsol_data = COMSOL_VTU(file)\n",
    "    temp_field = comsol_data.format_field(\"Temperature\", -1)\n",
    "    cell_mesh = comsol_data.mesh.point_data_to_cell_data()\n",
    "    cell_mesh.cell_data.keys()\n",
    "    temp_grad = cell_mesh.compute_derivative(temp_field).cell_data[\"gradient\"]\n",
    "    s0 = calculate_S_therm(lambda_therm,\n",
    "                    T0.magnitude,\n",
    "                    temp_grad)\n",
    "    s0_total = np.sum(s0 * comsol_data.mesh.compute_cell_sizes()[\"Volume\"])\n",
    "    L = comsol_data.mesh.bounds.z_max - comsol_data.mesh.bounds.z_min\n",
    "    s0_characteristic = (lambda_therm * delta_T.magnitude**2) / (L**2 * T0.magnitude**2)\n",
    "    entropy_number = s0_total / s0_characteristic / comsol_data.mesh.volume \n",
    "    original_dic[\"original\"][\"entropy_gen\"].append(s0_total)\n",
    "    original_dic[\"original\"][\"entropy_num\"].append(entropy_number)\n",
    "    original_dic[\"original\"][\"n_cells\"].append(comsol_data.mesh.n_cells)"
   ]
  },
  {
   "cell_type": "markdown",
   "id": "e3fa87c0",
   "metadata": {},
   "source": [
    "## Plot"
   ]
  },
  {
   "cell_type": "code",
   "execution_count": 15,
   "id": "8b4a527e",
   "metadata": {},
   "outputs": [
    {
     "name": "stdout",
     "output_type": "stream",
     "text": [
      "100\n"
     ]
    }
   ],
   "source": [
    "N_SNAPS = len(original_dic[\"original\"][\"vtu\"])\n",
    "colors = px.colors.sample_colorscale(\"jet\", [n/(N_SNAPS) for n in range(N_SNAPS)])\n",
    "print(N_SNAPS)"
   ]
  },
  {
   "cell_type": "code",
   "execution_count": 16,
   "id": "b8eb251a",
   "metadata": {},
   "outputs": [
    {
     "data": {
      "application/vnd.plotly.v1+json": {
       "config": {
        "plotlyServerURL": "https://plot.ly"
       },
       "data": [
        {
         "customdata": [
          [
           "s200_200_200_b200_3800_200_4800_-3800_0",
           -0.1340445032710006
          ],
          [
           "s100_100_100_b100_3900_100_4900_-3900_0",
           -0.017319831423481008
          ],
          [
           "s100_100_100_b0_4000_0_5000_-4000_0",
           0.0036622527860865977
          ],
          [
           "s50_50_50_b50_3950_50_4950_-3950_0",
           0.0559477247769044
          ],
          [
           "s50_50_25_b50_3950_50_4950_-3975_0",
           0.08520542604190201
          ],
          [
           "s25_25_25_b25_3975_25_4975_-3975_0",
           0.09830916003354867
          ]
         ],
         "hovertemplate": "Cells: %{x}<br>Entropy number: %{y}<br>Mapped: %{customdata[0]}<br>Rel Error: %{customdata[1]:.3f}<extra></extra>",
         "line": {
          "color": "rgb(0, 0, 131)"
         },
         "mode": "lines+markers",
         "name": "000",
         "opacity": 0.4,
         "type": "scatter",
         "x": {
          "bdata": "uh4AAOAVAQAAUwcA5DYJAKSLEgBM5ksA",
          "dtype": "i4"
         },
         "y": {
          "bdata": "IZgaLykM8D9yMDpx6TXyP612mdlzmfI/gVB5uX+R8z8ty9C8TBz0PxneoAN3WvQ/",
          "dtype": "f8"
         }
        },
        {
         "line": {
          "color": "rgb(0, 0, 131)"
         },
         "mode": "markers",
         "name": "000 - org",
         "type": "scatter",
         "x": [
          95866
         ],
         "y": [
          1.158222295962275
         ]
        },
        {
         "customdata": [
          [
           "s200_200_200_b200_3800_200_4800_-3800_0",
           -0.1303608235330676
          ],
          [
           "s100_100_100_b100_3900_100_4900_-3900_0",
           -0.014469385108347449
          ],
          [
           "s100_100_100_b0_4000_0_5000_-4000_0",
           0.006490608574096575
          ],
          [
           "s50_50_50_b50_3950_50_4950_-3950_0",
           0.05864277224888392
          ],
          [
           "s50_50_25_b50_3950_50_4950_-3975_0",
           0.0876651915171114
          ],
          [
           "s25_25_25_b25_3975_25_4975_-3975_0",
           0.10016949219097528
          ]
         ],
         "hovertemplate": "Cells: %{x}<br>Entropy number: %{y}<br>Mapped: %{customdata[0]}<br>Rel Error: %{customdata[1]:.3f}<extra></extra>",
         "line": {
          "color": "rgb(0, 3, 133)"
         },
         "mode": "lines+markers",
         "name": "001",
         "opacity": 0.4,
         "type": "scatter",
         "x": {
          "bdata": "uh4AAOAVAQAAUwcA5DYJAKSLEgBM5ksA",
          "dtype": "i4"
         },
         "y": {
          "bdata": "N02yNbzq7z9E4SSezBXyP8BdyrtDePI/g0mXfENt8z9EgYK3mvXzP8/xW8NYMPQ/",
          "dtype": "f8"
         }
        },
        {
         "line": {
          "color": "rgb(0, 3, 133)"
         },
         "mode": "markers",
         "name": "001 - org",
         "type": "scatter",
         "x": [
          96454
         ],
         "y": [
          1.1469172796243914
         ]
        },
        {
         "customdata": [
          [
           "s200_200_200_b200_3800_200_4800_-3800_0",
           -0.16171766343099192
          ],
          [
           "s100_100_100_b100_3900_100_4900_-3900_0",
           -0.027550697777875315
          ],
          [
           "s100_100_100_b0_4000_0_5000_-4000_0",
           -0.0021404463720036747
          ],
          [
           "s50_50_50_b50_3950_50_4950_-3950_0",
           0.05683078160043635
          ],
          [
           "s50_50_25_b50_3950_50_4950_-3975_0",
           0.08752905754242633
          ],
          [
           "s25_25_25_b25_3975_25_4975_-3975_0",
           0.10673180192448058
          ]
         ],
         "hovertemplate": "Cells: %{x}<br>Entropy number: %{y}<br>Mapped: %{customdata[0]}<br>Rel Error: %{customdata[1]:.3f}<extra></extra>",
         "line": {
          "color": "rgb(0, 6, 135)"
         },
         "mode": "lines+markers",
         "name": "002",
         "opacity": 0.4,
         "type": "scatter",
         "x": {
          "bdata": "uh4AAOAVAQAAUwcA5DYJAKSLEgBM5ksA",
          "dtype": "i4"
         },
         "y": {
          "bdata": "2SmmcROa8D9SqxTMTELzP0H2hCYhw/M//2LCzhzu9D8AUZeRwIn1PzqglRoc6/U/",
          "dtype": "f8"
         }
        },
        {
         "line": {
          "color": "rgb(0, 6, 135)"
         },
         "mode": "markers",
         "name": "002 - org",
         "type": "scatter",
         "x": [
          88207
         ],
         "y": [
          1.237788456434206
         ]
        },
        {
         "customdata": [
          [
           "s200_200_200_b200_3800_200_4800_-3800_0",
           -0.13803643839247484
          ],
          [
           "s100_100_100_b100_3900_100_4900_-3900_0",
           -0.007908412584551501
          ],
          [
           "s100_100_100_b0_4000_0_5000_-4000_0",
           0.015183978982184838
          ],
          [
           "s50_50_50_b50_3950_50_4950_-3950_0",
           0.0736520994728831
          ],
          [
           "s50_50_25_b50_3950_50_4950_-3975_0",
           0.10736124893973564
          ],
          [
           "s25_25_25_b25_3975_25_4975_-3975_0",
           0.11792529096013792
          ]
         ],
         "hovertemplate": "Cells: %{x}<br>Entropy number: %{y}<br>Mapped: %{customdata[0]}<br>Rel Error: %{customdata[1]:.3f}<extra></extra>",
         "line": {
          "color": "rgb(0, 9, 137)"
         },
         "mode": "lines+markers",
         "name": "003",
         "opacity": 0.4,
         "type": "scatter",
         "x": {
          "bdata": "uh4AAOAVAQAAUwcA5DYJAKSLEgBM5ksA",
          "dtype": "i4"
         },
         "y": {
          "bdata": "Hq2a69Af8T+jljmloLXzP4sgxGkSK/Q/mcXzkm5U9T87gmIe3//1P2WTv0KZNfY/",
          "dtype": "f8"
         }
        },
        {
         "line": {
          "color": "rgb(0, 9, 137)"
         },
         "mode": "markers",
         "name": "003 - org",
         "type": "scatter",
         "x": [
          102849
         ],
         "y": [
          1.2416622337617902
         ]
        },
        {
         "customdata": [
          [
           "s200_200_200_b200_3800_200_4800_-3800_0",
           -0.14098467931237
          ],
          [
           "s100_100_100_b100_3900_100_4900_-3900_0",
           -0.020187270859882242
          ],
          [
           "s100_100_100_b0_4000_0_5000_-4000_0",
           0.005897597790145878
          ],
          [
           "s50_50_50_b50_3950_50_4950_-3950_0",
           0.05498734836269055
          ],
          [
           "s50_50_25_b50_3950_50_4950_-3975_0",
           0.08271342086780155
          ],
          [
           "s25_25_25_b25_3975_25_4975_-3975_0",
           0.09837153712928855
          ]
         ],
         "hovertemplate": "Cells: %{x}<br>Entropy number: %{y}<br>Mapped: %{customdata[0]}<br>Rel Error: %{customdata[1]:.3f}<extra></extra>",
         "line": {
          "color": "rgb(0, 12, 139)"
         },
         "mode": "lines+markers",
         "name": "004",
         "opacity": 0.4,
         "type": "scatter",
         "x": {
          "bdata": "uh4AAOAVAQAAUwcA5DYJAKSLEgBM5ksA",
          "dtype": "i4"
         },
         "y": {
          "bdata": "ikS/lNQh7z+hwgNQScHxPxHf09dKOvI/OOqeNgQe8z/SoZPIop7zP7eOsNhF5/M/",
          "dtype": "f8"
         }
        },
        {
         "line": {
          "color": "rgb(0, 12, 139)"
         },
         "mode": "markers",
         "name": "004 - org",
         "type": "scatter",
         "x": [
          90789
         ],
         "y": [
          1.1325521948483994
         ]
        },
        {
         "customdata": [
          [
           "s200_200_200_b200_3800_200_4800_-3800_0",
           -0.130584821230544
          ],
          [
           "s100_100_100_b100_3900_100_4900_-3900_0",
           -0.020611782813845358
          ],
          [
           "s100_100_100_b0_4000_0_5000_-4000_0",
           0.006991221283832543
          ],
          [
           "s50_50_50_b50_3950_50_4950_-3950_0",
           0.04602787976946696
          ],
          [
           "s50_50_25_b50_3950_50_4950_-3975_0",
           0.07093091208958145
          ],
          [
           "s25_25_25_b25_3975_25_4975_-3975_0",
           0.08419077389379429
          ]
         ],
         "hovertemplate": "Cells: %{x}<br>Entropy number: %{y}<br>Mapped: %{customdata[0]}<br>Rel Error: %{customdata[1]:.3f}<extra></extra>",
         "line": {
          "color": "rgb(0, 15, 141)"
         },
         "mode": "lines+markers",
         "name": "005",
         "opacity": 0.4,
         "type": "scatter",
         "x": {
          "bdata": "uh4AAOAVAQAAUwcA5DYJAKSLEgBM5ksA",
          "dtype": "i4"
         },
         "y": {
          "bdata": "KQpps7va7T+05WQBvNDwP1ukeQcPSvE/lAaGQKP18T+2hmZBGGPyP3Gusk9gnfI/",
          "dtype": "f8"
         }
        },
        {
         "line": {
          "color": "rgb(0, 15, 141)"
         },
         "mode": "markers",
         "name": "005 - org",
         "type": "scatter",
         "x": [
          92578
         ],
         "y": [
          1.0730786092000377
         ]
        },
        {
         "customdata": [
          [
           "s200_200_200_b200_3800_200_4800_-3800_0",
           -0.1711718556744013
          ],
          [
           "s100_100_100_b100_3900_100_4900_-3900_0",
           -0.023386497124972056
          ],
          [
           "s100_100_100_b0_4000_0_5000_-4000_0",
           0.0043717030530772884
          ],
          [
           "s50_50_50_b50_3950_50_4950_-3950_0",
           0.06970884493727815
          ],
          [
           "s50_50_25_b50_3950_50_4950_-3975_0",
           0.10410571390086357
          ],
          [
           "s25_25_25_b25_3975_25_4975_-3975_0",
           0.12253230617167164
          ]
         ],
         "hovertemplate": "Cells: %{x}<br>Entropy number: %{y}<br>Mapped: %{customdata[0]}<br>Rel Error: %{customdata[1]:.3f}<extra></extra>",
         "line": {
          "color": "rgb(0, 18, 143)"
         },
         "mode": "lines+markers",
         "name": "006",
         "opacity": 0.4,
         "type": "scatter",
         "x": {
          "bdata": "uh4AAOAVAQAAUwcA5DYJAKSLEgBM5ksA",
          "dtype": "i4"
         },
         "y": {
          "bdata": "bC5rYEz/8T//m4chzzT1P5p4hZYcz/U/0mUb9k469z8Dd6Wcg/n3P/OUe6zxX/g/",
          "dtype": "f8"
         }
        },
        {
         "line": {
          "color": "rgb(0, 18, 143)"
         },
         "mode": "markers",
         "name": "006 - org",
         "type": "scatter",
         "x": [
          88758
         ],
         "y": [
          1.357131397517709
         ]
        },
        {
         "customdata": [
          [
           "s200_200_200_b200_3800_200_4800_-3800_0",
           -0.15035488374140124
          ],
          [
           "s100_100_100_b100_3900_100_4900_-3900_0",
           -0.026420234745996116
          ],
          [
           "s100_100_100_b0_4000_0_5000_-4000_0",
           0.00015588103910852614
          ],
          [
           "s50_50_50_b50_3950_50_4950_-3950_0",
           0.057993543185732147
          ],
          [
           "s50_50_25_b50_3950_50_4950_-3975_0",
           0.0888098874347713
          ],
          [
           "s25_25_25_b25_3975_25_4975_-3975_0",
           0.10904035060484818
          ]
         ],
         "hovertemplate": "Cells: %{x}<br>Entropy number: %{y}<br>Mapped: %{customdata[0]}<br>Rel Error: %{customdata[1]:.3f}<extra></extra>",
         "line": {
          "color": "rgb(0, 21, 145)"
         },
         "mode": "lines+markers",
         "name": "007",
         "opacity": 0.4,
         "type": "scatter",
         "x": {
          "bdata": "uh4AAOAVAQAAUwcA5DYJAKSLEgBM5ksA",
          "dtype": "i4"
         },
         "y": {
          "bdata": "ZJXLxabb8D9EMB7tKFHzPypKa0Mm2PM/kyrVee399D/xU7dydJr1PyaHMG82AfY/",
          "dtype": "f8"
         }
        },
        {
         "line": {
          "color": "rgb(0, 21, 145)"
         },
         "mode": "markers",
         "name": "007 - org",
         "type": "scatter",
         "x": [
          87136
         ],
         "y": [
          1.240077561200929
         ]
        },
        {
         "customdata": [
          [
           "s200_200_200_b200_3800_200_4800_-3800_0",
           -0.1352390219326185
          ],
          [
           "s100_100_100_b100_3900_100_4900_-3900_0",
           -0.014105338278293968
          ],
          [
           "s100_100_100_b0_4000_0_5000_-4000_0",
           0.010146277061958066
          ],
          [
           "s50_50_50_b50_3950_50_4950_-3950_0",
           0.060484865970665096
          ],
          [
           "s50_50_25_b50_3950_50_4950_-3975_0",
           0.089647538925791
          ],
          [
           "s25_25_25_b25_3975_25_4975_-3975_0",
           0.10258083596908793
          ]
         ],
         "hovertemplate": "Cells: %{x}<br>Entropy number: %{y}<br>Mapped: %{customdata[0]}<br>Rel Error: %{customdata[1]:.3f}<extra></extra>",
         "line": {
          "color": "rgb(0, 24, 147)"
         },
         "mode": "lines+markers",
         "name": "008",
         "opacity": 0.4,
         "type": "scatter",
         "x": {
          "bdata": "uh4AAOAVAQAAUwcA5DYJAKSLEgBM5ksA",
          "dtype": "i4"
         },
         "y": {
          "bdata": "h/XWFMOU7z+yfYLUoADyPyr5vnX+cfI/YmJdEk5d8z8Y0ja1oOXzP3loB9YVIvQ/",
          "dtype": "f8"
         }
        },
        {
         "line": {
          "color": "rgb(0, 24, 147)"
         },
         "mode": "markers",
         "name": "008 - org",
         "type": "scatter",
         "x": [
          97303
         ],
         "y": [
          1.1412511125541174
         ]
        },
        {
         "customdata": [
          [
           "s200_200_200_b200_3800_200_4800_-3800_0",
           -0.16205635091818668
          ],
          [
           "s100_100_100_b100_3900_100_4900_-3900_0",
           -0.026244140407857146
          ],
          [
           "s100_100_100_b0_4000_0_5000_-4000_0",
           -0.0032588740016668565
          ],
          [
           "s50_50_50_b50_3950_50_4950_-3950_0",
           0.06172323866782
          ],
          [
           "s50_50_25_b50_3950_50_4950_-3975_0",
           0.09442855577637445
          ],
          [
           "s25_25_25_b25_3975_25_4975_-3975_0",
           0.11198353904232428
          ]
         ],
         "hovertemplate": "Cells: %{x}<br>Entropy number: %{y}<br>Mapped: %{customdata[0]}<br>Rel Error: %{customdata[1]:.3f}<extra></extra>",
         "line": {
          "color": "rgb(0, 27, 149)"
         },
         "mode": "lines+markers",
         "name": "009",
         "opacity": 0.4,
         "type": "scatter",
         "x": {
          "bdata": "uh4AAOAVAQAAUwcA5DYJAKSLEgBM5ksA",
          "dtype": "i4"
         },
         "y": {
          "bdata": "KX0EBlA+8T9tQFSDxgn0P2BGTc7cgvQ/LVpFtTDZ9T8GYlqde4X2P063wYr24fY/",
          "dtype": "f8"
         }
        },
        {
         "line": {
          "color": "rgb(0, 27, 149)"
         },
         "mode": "markers",
         "name": "009 - org",
         "type": "scatter",
         "x": [
          89922
         ],
         "y": [
          1.2861402270824456
         ]
        },
        {
         "customdata": [
          [
           "s200_200_200_b200_3800_200_4800_-3800_0",
           -0.15160844478109647
          ],
          [
           "s100_100_100_b100_3900_100_4900_-3900_0",
           -0.022719333607314533
          ],
          [
           "s100_100_100_b0_4000_0_5000_-4000_0",
           0.010438583738582719
          ],
          [
           "s50_50_50_b50_3950_50_4950_-3950_0",
           0.060122155542663036
          ],
          [
           "s50_50_25_b50_3950_50_4950_-3975_0",
           0.09136507951326937
          ],
          [
           "s25_25_25_b25_3975_25_4975_-3975_0",
           0.10872600201155626
          ]
         ],
         "hovertemplate": "Cells: %{x}<br>Entropy number: %{y}<br>Mapped: %{customdata[0]}<br>Rel Error: %{customdata[1]:.3f}<extra></extra>",
         "line": {
          "color": "rgb(0, 30, 150)"
         },
         "mode": "lines+markers",
         "name": "010",
         "opacity": 0.4,
         "type": "scatter",
         "x": {
          "bdata": "uh4AAOAVAQAAUwcA5DYJAKSLEgBM5ksA",
          "dtype": "i4"
         },
         "y": {
          "bdata": "EcvrvnjM8D+MECqHzlnzPy12uRziAfQ/+flmUbr99D8YzBTmGJz1P+0LR2kZ9PU/",
          "dtype": "f8"
         }
        },
        {
         "line": {
          "color": "rgb(0, 30, 150)"
         },
         "mode": "markers",
         "name": "010 - org",
         "type": "scatter",
         "x": [
          87147
         ],
         "y": [
          1.2375415964430083
         ]
        },
        {
         "customdata": [
          [
           "s200_200_200_b200_3800_200_4800_-3800_0",
           -0.11995285365344699
          ],
          [
           "s100_100_100_b100_3900_100_4900_-3900_0",
           -0.01416962304804835
          ],
          [
           "s100_100_100_b0_4000_0_5000_-4000_0",
           0.011417574571123069
          ],
          [
           "s50_50_50_b50_3950_50_4950_-3950_0",
           0.049435405048346565
          ],
          [
           "s50_50_25_b50_3950_50_4950_-3975_0",
           0.07374551669063079
          ],
          [
           "s25_25_25_b25_3975_25_4975_-3975_0",
           0.08584617839147853
          ]
         ],
         "hovertemplate": "Cells: %{x}<br>Entropy number: %{y}<br>Mapped: %{customdata[0]}<br>Rel Error: %{customdata[1]:.3f}<extra></extra>",
         "line": {
          "color": "rgb(0, 33, 152)"
         },
         "mode": "lines+markers",
         "name": "011",
         "opacity": 0.4,
         "type": "scatter",
         "x": {
          "bdata": "uh4AAOAVAQAAUwcA5DYJAKSLEgBM5ksA",
          "dtype": "i4"
         },
         "y": {
          "bdata": "Zu7Z6MnV7T9Axlyn7rXwP1/Wf0H3JPE/8MN08fDJ8T+KmVvXbjPyPyOsQl3xZ/I/",
          "dtype": "f8"
         }
        },
        {
         "line": {
          "color": "rgb(0, 33, 152)"
         },
         "mode": "markers",
         "name": "011 - org",
         "type": "scatter",
         "x": [
          94488
         ],
         "y": [
          1.059428757221927
         ]
        },
        {
         "customdata": [
          [
           "s200_200_200_b200_3800_200_4800_-3800_0",
           -0.11522908737387123
          ],
          [
           "s100_100_100_b100_3900_100_4900_-3900_0",
           -0.005248811454553698
          ],
          [
           "s100_100_100_b0_4000_0_5000_-4000_0",
           0.019928538925557363
          ],
          [
           "s50_50_50_b50_3950_50_4950_-3950_0",
           0.06181967084576347
          ],
          [
           "s50_50_25_b50_3950_50_4950_-3975_0",
           0.08969262733214312
          ],
          [
           "s25_25_25_b25_3975_25_4975_-3975_0",
           0.09922399816674733
          ]
         ],
         "hovertemplate": "Cells: %{x}<br>Entropy number: %{y}<br>Mapped: %{customdata[0]}<br>Rel Error: %{customdata[1]:.3f}<extra></extra>",
         "line": {
          "color": "rgb(0, 36, 154)"
         },
         "mode": "lines+markers",
         "name": "012",
         "opacity": 0.4,
         "type": "scatter",
         "x": {
          "bdata": "uh4AAOAVAQAAUwcA5DYJAKSLEgBM5ksA",
          "dtype": "i4"
         },
         "y": {
          "bdata": "8Ja7MdvK7j8+uW2zXE/xPw5VH1GFv/E/QktykiJ68j/+nuBLTfbyP2tqlgLDIPM/",
          "dtype": "f8"
         }
        },
        {
         "line": {
          "color": "rgb(0, 36, 154)"
         },
         "mode": "markers",
         "name": "012 - org",
         "type": "scatter",
         "x": [
          103577
         ],
         "y": [
          1.0875840393995515
         ]
        },
        {
         "customdata": [
          [
           "s200_200_200_b200_3800_200_4800_-3800_0",
           -0.15304919067228254
          ],
          [
           "s100_100_100_b100_3900_100_4900_-3900_0",
           -0.011061257861230895
          ],
          [
           "s100_100_100_b0_4000_0_5000_-4000_0",
           0.008713850074799127
          ],
          [
           "s50_50_50_b50_3950_50_4950_-3950_0",
           0.07642350194952227
          ],
          [
           "s50_50_25_b50_3950_50_4950_-3975_0",
           0.11185268861821186
          ],
          [
           "s25_25_25_b25_3975_25_4975_-3975_0",
           0.1243107844265221
          ]
         ],
         "hovertemplate": "Cells: %{x}<br>Entropy number: %{y}<br>Mapped: %{customdata[0]}<br>Rel Error: %{customdata[1]:.3f}<extra></extra>",
         "line": {
          "color": "rgb(0, 39, 156)"
         },
         "mode": "lines+markers",
         "name": "013",
         "opacity": 0.4,
         "type": "scatter",
         "x": {
          "bdata": "uh4AAOAVAQAAUwcA5DYJAKSLEgBM5ksA",
          "dtype": "i4"
         },
         "y": {
          "bdata": "lyHDry6b8j8cVBgAtrn1P24rWa7sKPY//+qT1bel9z9FofMN+Gz4P5Y4cEMIs/g/",
          "dtype": "f8"
         }
        },
        {
         "line": {
          "color": "rgb(0, 39, 156)"
         },
         "mode": "markers",
         "name": "013 - org",
         "type": "scatter",
         "x": [
          95445
         ],
         "y": [
          1.3730269902946923
         ]
        },
        {
         "customdata": [
          [
           "s200_200_200_b200_3800_200_4800_-3800_0",
           -0.11284706917339014
          ],
          [
           "s100_100_100_b100_3900_100_4900_-3900_0",
           0.00438579851488368
          ],
          [
           "s100_100_100_b0_4000_0_5000_-4000_0",
           0.02365416052572813
          ],
          [
           "s50_50_50_b50_3950_50_4950_-3950_0",
           0.07918589326840475
          ],
          [
           "s50_50_25_b50_3950_50_4950_-3975_0",
           0.11241386782294413
          ],
          [
           "s25_25_25_b25_3975_25_4975_-3975_0",
           0.12070886180418632
          ]
         ],
         "hovertemplate": "Cells: %{x}<br>Entropy number: %{y}<br>Mapped: %{customdata[0]}<br>Rel Error: %{customdata[1]:.3f}<extra></extra>",
         "line": {
          "color": "rgb(0, 42, 158)"
         },
         "mode": "lines+markers",
         "name": "014",
         "opacity": 0.4,
         "type": "scatter",
         "x": {
          "bdata": "uh4AAOAVAQAAUwcA5DYJAKSLEgBM5ksA",
          "dtype": "i4"
         },
         "y": {
          "bdata": "alFq6PsP8T9qlq4EMVHzP8LJvqYPsPM/YUt1H3rB9D+AvgwGFGX1P8DJu1/rjfU/",
          "dtype": "f8"
         }
        },
        {
         "line": {
          "color": "rgb(0, 42, 158)"
         },
         "mode": "markers",
         "name": "014 - org",
         "type": "scatter",
         "x": [
          106098
         ],
         "y": [
          1.2020501881781211
         ]
        },
        {
         "customdata": [
          [
           "s200_200_200_b200_3800_200_4800_-3800_0",
           -0.1267205629890961
          ],
          [
           "s100_100_100_b100_3900_100_4900_-3900_0",
           -0.016084263860531973
          ],
          [
           "s100_100_100_b0_4000_0_5000_-4000_0",
           0.009153383965818789
          ],
          [
           "s50_50_50_b50_3950_50_4950_-3950_0",
           0.05019214147984743
          ],
          [
           "s50_50_25_b50_3950_50_4950_-3975_0",
           0.07495005976772047
          ],
          [
           "s25_25_25_b25_3975_25_4975_-3975_0",
           0.08875579718461207
          ]
         ],
         "hovertemplate": "Cells: %{x}<br>Entropy number: %{y}<br>Mapped: %{customdata[0]}<br>Rel Error: %{customdata[1]:.3f}<extra></extra>",
         "line": {
          "color": "rgb(0, 45, 160)"
         },
         "mode": "lines+markers",
         "name": "015",
         "opacity": 0.4,
         "type": "scatter",
         "x": {
          "bdata": "uh4AAOAVAQAAUwcA5DYJAKSLEgBM5ksA",
          "dtype": "i4"
         },
         "y": {
          "bdata": "yD3lNBgQ7j8xA7kHj+/wP9UhZEfEXvE/dnlY65kT8j/lGrkCsoDyPyUYbYeHvfI/",
          "dtype": "f8"
         }
        },
        {
         "line": {
          "color": "rgb(0, 45, 160)"
         },
         "mode": "markers",
         "name": "015 - org",
         "type": "scatter",
         "x": [
          92209
         ],
         "y": [
          1.0757892924090053
         ]
        },
        {
         "customdata": [
          [
           "s200_200_200_b200_3800_200_4800_-3800_0",
           -0.11843924219018605
          ],
          [
           "s100_100_100_b100_3900_100_4900_-3900_0",
           -0.009553982931898849
          ],
          [
           "s100_100_100_b0_4000_0_5000_-4000_0",
           0.012143506856008976
          ],
          [
           "s50_50_50_b50_3950_50_4950_-3950_0",
           0.05727437297433506
          ],
          [
           "s50_50_25_b50_3950_50_4950_-3975_0",
           0.08514295294472692
          ],
          [
           "s25_25_25_b25_3975_25_4975_-3975_0",
           0.0949681473762216
          ]
         ],
         "hovertemplate": "Cells: %{x}<br>Entropy number: %{y}<br>Mapped: %{customdata[0]}<br>Rel Error: %{customdata[1]:.3f}<extra></extra>",
         "line": {
          "color": "rgb(0, 48, 162)"
         },
         "mode": "lines+markers",
         "name": "016",
         "opacity": 0.4,
         "type": "scatter",
         "x": {
          "bdata": "uh4AAOAVAQAAUwcA5DYJAKSLEgBM5ksA",
          "dtype": "i4"
         },
         "y": {
          "bdata": "BB0lht0z7z88If1wPYfxP4gRAYCK6fE/pNFf7AG28j+0A/FMRDTzP8vgkLPHYPM/",
          "dtype": "f8"
         }
        },
        {
         "line": {
          "color": "rgb(0, 48, 162)"
         },
         "mode": "markers",
         "name": "016 - org",
         "type": "scatter",
         "x": [
          100932
         ],
         "y": [
          1.1060850975677277
         ]
        },
        {
         "customdata": [
          [
           "s200_200_200_b200_3800_200_4800_-3800_0",
           -0.16092490034639434
          ],
          [
           "s100_100_100_b100_3900_100_4900_-3900_0",
           -0.026056519598173174
          ],
          [
           "s100_100_100_b0_4000_0_5000_-4000_0",
           0.0018507009419073581
          ],
          [
           "s50_50_50_b50_3950_50_4950_-3950_0",
           0.06009514269227905
          ],
          [
           "s50_50_25_b50_3950_50_4950_-3975_0",
           0.09132398616917303
          ],
          [
           "s25_25_25_b25_3975_25_4975_-3975_0",
           0.11023431846872372
          ]
         ],
         "hovertemplate": "Cells: %{x}<br>Entropy number: %{y}<br>Mapped: %{customdata[0]}<br>Rel Error: %{customdata[1]:.3f}<extra></extra>",
         "line": {
          "color": "rgb(0, 51, 164)"
         },
         "mode": "lines+markers",
         "name": "017",
         "opacity": 0.4,
         "type": "scatter",
         "x": {
          "bdata": "uh4AAOAVAQAAUwcA5DYJAKSLEgBM5ksA",
          "dtype": "i4"
         },
         "y": {
          "bdata": "FmzZkw5c8D8Wh+v1OP3yP/8mu+ODiPM/GgHyuDqr9D8cn3fpGUf1P7SatOl8pfU/",
          "dtype": "f8"
         }
        },
        {
         "line": {
          "color": "rgb(0, 51, 164)"
         },
         "mode": "markers",
         "name": "017 - org",
         "type": "scatter",
         "x": [
          88592
         ],
         "y": [
          1.218573689225339
         ]
        },
        {
         "customdata": [
          [
           "s200_200_200_b200_3800_200_4800_-3800_0",
           -0.10524394387323961
          ],
          [
           "s100_100_100_b100_3900_100_4900_-3900_0",
           -0.0032166146588050214
          ],
          [
           "s100_100_100_b0_4000_0_5000_-4000_0",
           0.01997397901690301
          ],
          [
           "s50_50_50_b50_3950_50_4950_-3950_0",
           0.060282433448482664
          ],
          [
           "s50_50_25_b50_3950_50_4950_-3975_0",
           0.08736225594567162
          ],
          [
           "s25_25_25_b25_3975_25_4975_-3975_0",
           0.0957240320977407
          ]
         ],
         "hovertemplate": "Cells: %{x}<br>Entropy number: %{y}<br>Mapped: %{customdata[0]}<br>Rel Error: %{customdata[1]:.3f}<extra></extra>",
         "line": {
          "color": "rgb(0, 54, 166)"
         },
         "mode": "lines+markers",
         "name": "018",
         "opacity": 0.4,
         "type": "scatter",
         "x": {
          "bdata": "uh4AAOAVAQAAUwcA5DYJAKSLEgBM5ksA",
          "dtype": "i4"
         },
         "y": {
          "bdata": "eJs8Tv3S7j9xHWZZZCvxP2QLgxWnkfE/s0ImV2VD8j8tXc9vzrryPzmVxKOt3/I/",
          "dtype": "f8"
         }
        },
        {
         "line": {
          "color": "rgb(0, 54, 166)"
         },
         "mode": "markers",
         "name": "018 - org",
         "type": "scatter",
         "x": [
          105385
         ],
         "y": [
          1.0765566151327155
         ]
        },
        {
         "customdata": [
          [
           "s200_200_200_b200_3800_200_4800_-3800_0",
           -0.1599034047037824
          ],
          [
           "s100_100_100_b100_3900_100_4900_-3900_0",
           -0.018140009006535014
          ],
          [
           "s100_100_100_b0_4000_0_5000_-4000_0",
           0.0044322793703594114
          ],
          [
           "s50_50_50_b50_3950_50_4950_-3950_0",
           0.06888434794958931
          ],
          [
           "s50_50_25_b50_3950_50_4950_-3975_0",
           0.10320676234935702
          ],
          [
           "s25_25_25_b25_3975_25_4975_-3975_0",
           0.11720859359613212
          ]
         ],
         "hovertemplate": "Cells: %{x}<br>Entropy number: %{y}<br>Mapped: %{customdata[0]}<br>Rel Error: %{customdata[1]:.3f}<extra></extra>",
         "line": {
          "color": "rgb(0, 57, 168)"
         },
         "mode": "lines+markers",
         "name": "019",
         "opacity": 0.4,
         "type": "scatter",
         "x": {
          "bdata": "uh4AAOAVAQAAUwcA5DYJAKSLEgBM5ksA",
          "dtype": "i4"
         },
         "y": {
          "bdata": "aoIeMxKb8T8C7HCun5P0P8akeAq5DPU/oNQCKoFm9j8e8qhypB73P2Hw/uvCafc/",
          "dtype": "f8"
         }
        },
        {
         "line": {
          "color": "rgb(0, 57, 168)"
         },
         "mode": "markers",
         "name": "019 - org",
         "type": "scatter",
         "x": [
          94785
         ],
         "y": [
          1.309800753398465
         ]
        },
        {
         "customdata": [
          [
           "s200_200_200_b200_3800_200_4800_-3800_0",
           -0.14740490053325295
          ],
          [
           "s100_100_100_b100_3900_100_4900_-3900_0",
           -0.02672064475629728
          ],
          [
           "s100_100_100_b0_4000_0_5000_-4000_0",
           0.0032275240698304577
          ],
          [
           "s50_50_50_b50_3950_50_4950_-3950_0",
           0.04607123097866354
          ],
          [
           "s50_50_25_b50_3950_50_4950_-3975_0",
           0.07210085973653897
          ],
          [
           "s25_25_25_b25_3975_25_4975_-3975_0",
           0.08965432425267926
          ]
         ],
         "hovertemplate": "Cells: %{x}<br>Entropy number: %{y}<br>Mapped: %{customdata[0]}<br>Rel Error: %{customdata[1]:.3f}<extra></extra>",
         "line": {
          "color": "rgb(0, 60, 170)"
         },
         "mode": "lines+markers",
         "name": "020",
         "opacity": 0.4,
         "type": "scatter",
         "x": {
          "bdata": "uh4AAOAVAQAAUwcA5DYJAKSLEgBM5ksA",
          "dtype": "i4"
         },
         "y": {
          "bdata": "2LYGq5RS7j9cQ0Mzr07xPyMt56cE1/E/ByHbgg6a8j84UIxRjRDzPxmIOQt2YPM/",
          "dtype": "f8"
         }
        },
        {
         "line": {
          "color": "rgb(0, 60, 170)"
         },
         "mode": "markers",
         "name": "020 - org",
         "type": "scatter",
         "x": [
          87813
         ],
         "y": [
          1.1114075798444636
         ]
        },
        {
         "customdata": [
          [
           "s200_200_200_b200_3800_200_4800_-3800_0",
           -0.16082931666111544
          ],
          [
           "s100_100_100_b100_3900_100_4900_-3900_0",
           -0.02751398148785693
          ],
          [
           "s100_100_100_b0_4000_0_5000_-4000_0",
           -0.000872314886700918
          ],
          [
           "s50_50_50_b50_3950_50_4950_-3950_0",
           0.056770706181459324
          ],
          [
           "s50_50_25_b50_3950_50_4950_-3975_0",
           0.08743661011400758
          ],
          [
           "s25_25_25_b25_3975_25_4975_-3975_0",
           0.10561642444314964
          ]
         ],
         "hovertemplate": "Cells: %{x}<br>Entropy number: %{y}<br>Mapped: %{customdata[0]}<br>Rel Error: %{customdata[1]:.3f}<extra></extra>",
         "line": {
          "color": "rgb(0, 70, 174)"
         },
         "mode": "lines+markers",
         "name": "021",
         "opacity": 0.4,
         "type": "scatter",
         "x": {
          "bdata": "uh4AAOAVAQAAUwcA5DYJAKSLEgBM5ksA",
          "dtype": "i4"
         },
         "y": {
          "bdata": "JQ7rQydS8D/PyIcK6+nyP1nT8ISQbvM/tDbdVZCN9D8nE6QbPyb1P143KBvDgPU/",
          "dtype": "f8"
         }
        },
        {
         "line": {
          "color": "rgb(0, 70, 174)"
         },
         "mode": "markers",
         "name": "021 - org",
         "type": "scatter",
         "x": [
          88909
         ],
         "y": [
          1.2155536386289147
         ]
        },
        {
         "customdata": [
          [
           "s200_200_200_b200_3800_200_4800_-3800_0",
           -0.11149885551280633
          ],
          [
           "s100_100_100_b100_3900_100_4900_-3900_0",
           0.004624608078803107
          ],
          [
           "s100_100_100_b0_4000_0_5000_-4000_0",
           0.024225605117285838
          ],
          [
           "s50_50_50_b50_3950_50_4950_-3950_0",
           0.07961858527385482
          ],
          [
           "s50_50_25_b50_3950_50_4950_-3975_0",
           0.1126628058902029
          ],
          [
           "s25_25_25_b25_3975_25_4975_-3975_0",
           0.12092693498949413
          ]
         ],
         "hovertemplate": "Cells: %{x}<br>Entropy number: %{y}<br>Mapped: %{customdata[0]}<br>Rel Error: %{customdata[1]:.3f}<extra></extra>",
         "line": {
          "color": "rgb(0, 79, 178)"
         },
         "mode": "lines+markers",
         "name": "022",
         "opacity": 0.4,
         "type": "scatter",
         "x": {
          "bdata": "uh4AAOAVAQAAUwcA5DYJAKSLEgBM5ksA",
          "dtype": "i4"
         },
         "y": {
          "bdata": "/ZT/O94C8T/ZUy8TCDzzP1jzymkanPM/IlgauJqr9D8BYPvukE31P/v/GVgSdvU/",
          "dtype": "f8"
         }
        },
        {
         "line": {
          "color": "rgb(0, 79, 178)"
         },
         "mode": "markers",
         "name": "022 - org",
         "type": "scatter",
         "x": [
          106477
         ],
         "y": [
          1.1966222295337758
         ]
        },
        {
         "customdata": [
          [
           "s200_200_200_b200_3800_200_4800_-3800_0",
           -0.10737553595251217
          ],
          [
           "s100_100_100_b100_3900_100_4900_-3900_0",
           -0.002095554851201716
          ],
          [
           "s100_100_100_b0_4000_0_5000_-4000_0",
           0.02034398987982359
          ],
          [
           "s50_50_50_b50_3950_50_4950_-3950_0",
           0.062816827073444
          ],
          [
           "s50_50_25_b50_3950_50_4950_-3975_0",
           0.09041012167057302
          ],
          [
           "s25_25_25_b25_3975_25_4975_-3975_0",
           0.09929663722043744
          ]
         ],
         "hovertemplate": "Cells: %{x}<br>Entropy number: %{y}<br>Mapped: %{customdata[0]}<br>Rel Error: %{customdata[1]:.3f}<extra></extra>",
         "line": {
          "color": "rgb(1, 89, 183)"
         },
         "mode": "lines+markers",
         "name": "023",
         "opacity": 0.4,
         "type": "scatter",
         "x": {
          "bdata": "uh4AAOAVAQAAUwcA5DYJAKSLEgBM5ksA",
          "dtype": "i4"
         },
         "y": {
          "bdata": "zPChSn347j+Rw9MJzk/xP3b1bRt2s/E/IEN3hBZw8j+vn8UCouryP3hI7U4ZEvM/",
          "dtype": "f8"
         }
        },
        {
         "line": {
          "color": "rgb(1, 89, 183)"
         },
         "mode": "markers",
         "name": "023 - org",
         "type": "scatter",
         "x": [
          103375
         ],
         "y": [
          1.0842557202278298
         ]
        },
        {
         "customdata": [
          [
           "s200_200_200_b200_3800_200_4800_-3800_0",
           -0.16653302268059592
          ],
          [
           "s100_100_100_b100_3900_100_4900_-3900_0",
           -0.026989256356856554
          ],
          [
           "s100_100_100_b0_4000_0_5000_-4000_0",
           -0.0025625710579776522
          ],
          [
           "s50_50_50_b50_3950_50_4950_-3950_0",
           0.06270460926121227
          ],
          [
           "s50_50_25_b50_3950_50_4950_-3975_0",
           0.09579160076198003
          ],
          [
           "s25_25_25_b25_3975_25_4975_-3975_0",
           0.11392085132523985
          ]
         ],
         "hovertemplate": "Cells: %{x}<br>Entropy number: %{y}<br>Mapped: %{customdata[0]}<br>Rel Error: %{customdata[1]:.3f}<extra></extra>",
         "line": {
          "color": "rgb(1, 99, 187)"
         },
         "mode": "lines+markers",
         "name": "024",
         "opacity": 0.4,
         "type": "scatter",
         "x": {
          "bdata": "uh4AAOAVAQAAUwcA5DYJAKSLEgBM5ksA",
          "dtype": "i4"
         },
         "y": {
          "bdata": "zZFzEQZC8T/FNPLatiX0PzZ5Wtkxp/Q/+I46XSkB9j9xKhRjjLD2PzTcPMSlEPc/",
          "dtype": "f8"
         }
        },
        {
         "line": {
          "color": "rgb(1, 99, 187)"
         },
         "mode": "markers",
         "name": "024 - org",
         "type": "scatter",
         "x": [
          88500
         ],
         "y": [
          1.2941353378830263
         ]
        },
        {
         "customdata": [
          [
           "s200_200_200_b200_3800_200_4800_-3800_0",
           -0.16519051027409223
          ],
          [
           "s100_100_100_b100_3900_100_4900_-3900_0",
           -0.025604062596935023
          ],
          [
           "s100_100_100_b0_4000_0_5000_-4000_0",
           0.0025495524570523414
          ],
          [
           "s50_50_50_b50_3950_50_4950_-3950_0",
           0.06633675173837822
          ],
          [
           "s50_50_25_b50_3950_50_4950_-3975_0",
           0.09933587943947683
          ],
          [
           "s25_25_25_b25_3975_25_4975_-3975_0",
           0.11918144662024466
          ]
         ],
         "hovertemplate": "Cells: %{x}<br>Entropy number: %{y}<br>Mapped: %{customdata[0]}<br>Rel Error: %{customdata[1]:.3f}<extra></extra>",
         "line": {
          "color": "rgb(1, 109, 191)"
         },
         "mode": "lines+markers",
         "name": "025",
         "opacity": 0.4,
         "type": "scatter",
         "x": {
          "bdata": "uh4AAOAVAQAAUwcA5DYJAKSLEgBM5ksA",
          "dtype": "i4"
         },
         "y": {
          "bdata": "xl+7MrFl8T+EPbcUYk70P5EVLQWV5PQ/0WMrtOI49j+9Qw5t7+j2P4yllJvPUvc/",
          "dtype": "f8"
         }
        },
        {
         "line": {
          "color": "rgb(1, 109, 191)"
         },
         "mode": "markers",
         "name": "025 - org",
         "type": "scatter",
         "x": [
          86499
         ],
         "y": [
          1.3024854243417527
         ]
        },
        {
         "customdata": [
          [
           "s200_200_200_b200_3800_200_4800_-3800_0",
           -0.16958559600234602
          ],
          [
           "s100_100_100_b100_3900_100_4900_-3900_0",
           -0.022942405031662536
          ],
          [
           "s100_100_100_b0_4000_0_5000_-4000_0",
           0.005116622885532431
          ],
          [
           "s50_50_50_b50_3950_50_4950_-3950_0",
           0.0710475194580373
          ],
          [
           "s50_50_25_b50_3950_50_4950_-3975_0",
           0.10566081406838036
          ],
          [
           "s25_25_25_b25_3975_25_4975_-3975_0",
           0.12370613794131434
          ]
         ],
         "hovertemplate": "Cells: %{x}<br>Entropy number: %{y}<br>Mapped: %{customdata[0]}<br>Rel Error: %{customdata[1]:.3f}<extra></extra>",
         "line": {
          "color": "rgb(2, 118, 195)"
         },
         "mode": "lines+markers",
         "name": "026",
         "opacity": 0.4,
         "type": "scatter",
         "x": {
          "bdata": "uh4AAOAVAQAAUwcA5DYJAKSLEgBM5ksA",
          "dtype": "i4"
         },
         "y": {
          "bdata": "/5NRSHkK8j+sz/lADTr1P9fwEjMb1vU/JIJ1cMpE9z+8Acg7TAX4Pzr9X9ioafg/",
          "dtype": "f8"
         }
        },
        {
         "line": {
          "color": "rgb(2, 118, 195)"
         },
         "mode": "markers",
         "name": "026 - org",
         "type": "scatter",
         "x": [
          88139
         ],
         "y": [
          1.3578245570189915
         ]
        },
        {
         "customdata": [
          [
           "s200_200_200_b200_3800_200_4800_-3800_0",
           -0.1604720749986611
          ],
          [
           "s100_100_100_b100_3900_100_4900_-3900_0",
           -0.02742746061771671
          ],
          [
           "s100_100_100_b0_4000_0_5000_-4000_0",
           0.0011098737771515
          ],
          [
           "s50_50_50_b50_3950_50_4950_-3950_0",
           0.0662424462227369
          ],
          [
           "s50_50_25_b50_3950_50_4950_-3975_0",
           0.09938667762827438
          ],
          [
           "s25_25_25_b25_3975_25_4975_-3975_0",
           0.11836349451294476
          ]
         ],
         "hovertemplate": "Cells: %{x}<br>Entropy number: %{y}<br>Mapped: %{customdata[0]}<br>Rel Error: %{customdata[1]:.3f}<extra></extra>",
         "line": {
          "color": "rgb(2, 128, 200)"
         },
         "mode": "lines+markers",
         "name": "027",
         "opacity": 0.4,
         "type": "scatter",
         "x": {
          "bdata": "uh4AAOAVAQAAUwcA5DYJAKSLEgBM5ksA",
          "dtype": "i4"
         },
         "y": {
          "bdata": "kPvfGmCM8T8iBgiQTlT0P5/D6iID7fQ/7FxJmopJ9j9T1V8M5vr2P++DHOlxYPc/",
          "dtype": "f8"
         }
        },
        {
         "line": {
          "color": "rgb(2, 128, 200)"
         },
         "mode": "markers",
         "name": "027 - org",
         "type": "scatter",
         "x": [
          87320
         ],
         "y": [
          1.3064143641791908
         ]
        },
        {
         "customdata": [
          [
           "s200_200_200_b200_3800_200_4800_-3800_0",
           -0.1317102076798936
          ],
          [
           "s100_100_100_b100_3900_100_4900_-3900_0",
           -0.005122813012595814
          ],
          [
           "s100_100_100_b0_4000_0_5000_-4000_0",
           0.01848698099704355
          ],
          [
           "s50_50_50_b50_3950_50_4950_-3950_0",
           0.07475550516658322
          ],
          [
           "s50_50_25_b50_3950_50_4950_-3975_0",
           0.1085578708619323
          ],
          [
           "s25_25_25_b25_3975_25_4975_-3975_0",
           0.1182840260981368
          ]
         ],
         "hovertemplate": "Cells: %{x}<br>Entropy number: %{y}<br>Mapped: %{customdata[0]}<br>Rel Error: %{customdata[1]:.3f}<extra></extra>",
         "line": {
          "color": "rgb(2, 138, 204)"
         },
         "mode": "lines+markers",
         "name": "028",
         "opacity": 0.4,
         "type": "scatter",
         "x": {
          "bdata": "uh4AAOAVAQAAUwcA5DYJAKSLEgBM5ksA",
          "dtype": "i4"
         },
         "y": {
          "bdata": "blISjtQH8T85fhFzcoPzP+iu4e/++fM/Ohcgl4cU9T/ugrHOQb71P4uVA/8X7/U/",
          "dtype": "f8"
         }
        },
        {
         "line": {
          "color": "rgb(2, 138, 204)"
         },
         "mode": "markers",
         "name": "028 - org",
         "type": "scatter",
         "x": [
          104826
         ],
         "y": [
          1.225871479778391
         ]
        },
        {
         "customdata": [
          [
           "s200_200_200_b200_3800_200_4800_-3800_0",
           -0.1611112176473365
          ],
          [
           "s100_100_100_b100_3900_100_4900_-3900_0",
           -0.02615426041235418
          ],
          [
           "s100_100_100_b0_4000_0_5000_-4000_0",
           -0.0002536141423634569
          ],
          [
           "s50_50_50_b50_3950_50_4950_-3950_0",
           0.05821715718063807
          ],
          [
           "s50_50_25_b50_3950_50_4950_-3975_0",
           0.08880083371256922
          ],
          [
           "s25_25_25_b25_3975_25_4975_-3975_0",
           0.10902607193909193
          ]
         ],
         "hovertemplate": "Cells: %{x}<br>Entropy number: %{y}<br>Mapped: %{customdata[0]}<br>Rel Error: %{customdata[1]:.3f}<extra></extra>",
         "line": {
          "color": "rgb(2, 148, 208)"
         },
         "mode": "lines+markers",
         "name": "029",
         "opacity": 0.4,
         "type": "scatter",
         "x": {
          "bdata": "uh4AAOAVAQAAUwcA5DYJAKSLEgBM5ksA",
          "dtype": "i4"
         },
         "y": {
          "bdata": "k1tXaCif8D/2SM7EtUvzPxXwYnoWz/M/skJ6Zqz39D8c5JMnzpL1PwCuUjBl+fU/",
          "dtype": "f8"
         }
        },
        {
         "line": {
          "color": "rgb(2, 148, 208)"
         },
         "mode": "markers",
         "name": "029 - org",
         "type": "scatter",
         "x": [
          87261
         ],
         "y": [
          1.2383726149437775
         ]
        },
        {
         "customdata": [
          [
           "s200_200_200_b200_3800_200_4800_-3800_0",
           -0.1307851259878684
          ],
          [
           "s100_100_100_b100_3900_100_4900_-3900_0",
           -0.018299882953810385
          ],
          [
           "s100_100_100_b0_4000_0_5000_-4000_0",
           0.009240760825396049
          ],
          [
           "s50_50_50_b50_3950_50_4950_-3950_0",
           0.049520919334388416
          ],
          [
           "s50_50_25_b50_3950_50_4950_-3975_0",
           0.07498372595282557
          ],
          [
           "s25_25_25_b25_3975_25_4975_-3975_0",
           0.08872766771562164
          ]
         ],
         "hovertemplate": "Cells: %{x}<br>Entropy number: %{y}<br>Mapped: %{customdata[0]}<br>Rel Error: %{customdata[1]:.3f}<extra></extra>",
         "line": {
          "color": "rgb(2, 157, 212)"
         },
         "mode": "lines+markers",
         "name": "030",
         "opacity": 0.4,
         "type": "scatter",
         "x": {
          "bdata": "uh4AAOAVAQAAUwcA5DYJAKSLEgBM5ksA",
          "dtype": "i4"
         },
         "y": {
          "bdata": "CTzv+pLv7T+D6pLGqOfwP4Crm0sRYfE/UrhwxqIS8j9rry9j4oLyP9xoXuB4v/I/",
          "dtype": "f8"
         }
        },
        {
         "line": {
          "color": "rgb(2, 157, 212)"
         },
         "mode": "markers",
         "name": "030 - org",
         "type": "scatter",
         "x": [
          90199
         ],
         "y": [
          1.0762527405870053
         ]
        },
        {
         "customdata": [
          [
           "s200_200_200_b200_3800_200_4800_-3800_0",
           -0.14513632136688506
          ],
          [
           "s100_100_100_b100_3900_100_4900_-3900_0",
           -0.026914115461389738
          ],
          [
           "s100_100_100_b0_4000_0_5000_-4000_0",
           0.0013632068255107115
          ],
          [
           "s50_50_50_b50_3950_50_4950_-3950_0",
           0.04602303567529649
          ],
          [
           "s50_50_25_b50_3950_50_4950_-3975_0",
           0.07195095571433416
          ],
          [
           "s25_25_25_b25_3975_25_4975_-3975_0",
           0.08947213004554971
          ]
         ],
         "hovertemplate": "Cells: %{x}<br>Entropy number: %{y}<br>Mapped: %{customdata[0]}<br>Rel Error: %{customdata[1]:.3f}<extra></extra>",
         "line": {
          "color": "rgb(3, 167, 217)"
         },
         "mode": "lines+markers",
         "name": "031",
         "opacity": 0.4,
         "type": "scatter",
         "x": {
          "bdata": "uh4AAOAVAQAAUwcA5DYJAKSLEgBM5ksA",
          "dtype": "i4"
         },
         "y": {
          "bdata": "HV7JzJx67j84hs4C1VjxP6b3ElDh2fE/Ys0gPrGl8j+5ouO+BBzzP/tA7qz6a/M/",
          "dtype": "f8"
         }
        },
        {
         "line": {
          "color": "rgb(3, 167, 217)"
         },
         "mode": "markers",
         "name": "031 - org",
         "type": "scatter",
         "x": [
          87939
         ],
         "y": [
          1.1141745403072698
         ]
        },
        {
         "customdata": [
          [
           "s200_200_200_b200_3800_200_4800_-3800_0",
           -0.1711823532622239
          ],
          [
           "s100_100_100_b100_3900_100_4900_-3900_0",
           -0.025876834321228784
          ],
          [
           "s100_100_100_b0_4000_0_5000_-4000_0",
           0.0019556988179320004
          ],
          [
           "s50_50_50_b50_3950_50_4950_-3950_0",
           0.06788930957728061
          ],
          [
           "s50_50_25_b50_3950_50_4950_-3975_0",
           0.10212965596113284
          ],
          [
           "s25_25_25_b25_3975_25_4975_-3975_0",
           0.12048388216120495
          ]
         ],
         "hovertemplate": "Cells: %{x}<br>Entropy number: %{y}<br>Mapped: %{customdata[0]}<br>Rel Error: %{customdata[1]:.3f}<extra></extra>",
         "line": {
          "color": "rgb(3, 177, 221)"
         },
         "mode": "lines+markers",
         "name": "032",
         "opacity": 0.4,
         "type": "scatter",
         "x": {
          "bdata": "uh4AAOAVAQAAUwcA5DYJAKSLEgBM5ksA",
          "dtype": "i4"
         },
         "y": {
          "bdata": "v1XRaC4M8j+CiZoILTb1P9chAYZT0fU/UT+zQd5A9z9VV4UIvf/3PzPe7noNZvg/",
          "dtype": "f8"
         }
        },
        {
         "line": {
          "color": "rgb(3, 177, 221)"
         },
         "mode": "markers",
         "name": "032 - org",
         "type": "scatter",
         "x": [
          87972
         ],
         "y": [
          1.360943449303562
         ]
        },
        {
         "customdata": [
          [
           "s200_200_200_b200_3800_200_4800_-3800_0",
           -0.16929240606750773
          ],
          [
           "s100_100_100_b100_3900_100_4900_-3900_0",
           -0.026172237985978904
          ],
          [
           "s100_100_100_b0_4000_0_5000_-4000_0",
           0.0016511452342813679
          ],
          [
           "s50_50_50_b50_3950_50_4950_-3950_0",
           0.06473745408628333
          ],
          [
           "s50_50_25_b50_3950_50_4950_-3975_0",
           0.09755020921121563
          ],
          [
           "s25_25_25_b25_3975_25_4975_-3975_0",
           0.1166945516241928
          ]
         ],
         "hovertemplate": "Cells: %{x}<br>Entropy number: %{y}<br>Mapped: %{customdata[0]}<br>Rel Error: %{customdata[1]:.3f}<extra></extra>",
         "line": {
          "color": "rgb(3, 187, 225)"
         },
         "mode": "lines+markers",
         "name": "033",
         "opacity": 0.4,
         "type": "scatter",
         "x": {
          "bdata": "uh4AAOAVAQAAUwcA5DYJAKSLEgBM5ksA",
          "dtype": "i4"
         },
         "y": {
          "bdata": "NX7OqTRO8T/L5U0LeUn0P4XFPDnb3fQ/71rYf0wu9j+wfT15St32P4PvTH9jQ/c/",
          "dtype": "f8"
         }
        },
        {
         "line": {
          "color": "rgb(3, 187, 225)"
         },
         "mode": "markers",
         "name": "033 - org",
         "type": "scatter",
         "x": [
          88060
         ],
         "y": [
          1.3020143312681431
         ]
        },
        {
         "customdata": [
          [
           "s200_200_200_b200_3800_200_4800_-3800_0",
           -0.10264934458435213
          ],
          [
           "s100_100_100_b100_3900_100_4900_-3900_0",
           0.011188897353331468
          ],
          [
           "s100_100_100_b0_4000_0_5000_-4000_0",
           0.031110657179248533
          ],
          [
           "s50_50_50_b50_3950_50_4950_-3950_0",
           0.08398999211139192
          ],
          [
           "s50_50_25_b50_3950_50_4950_-3975_0",
           0.11721349210461754
          ],
          [
           "s25_25_25_b25_3975_25_4975_-3975_0",
           0.12488052454128835
          ]
         ],
         "hovertemplate": "Cells: %{x}<br>Entropy number: %{y}<br>Mapped: %{customdata[0]}<br>Rel Error: %{customdata[1]:.3f}<extra></extra>",
         "line": {
          "color": "rgb(4, 196, 230)"
         },
         "mode": "lines+markers",
         "name": "034",
         "opacity": 0.4,
         "type": "scatter",
         "x": {
          "bdata": "uh4AAOAVAQAAUwcA5DYJAKSLEgBM5ksA",
          "dtype": "i4"
         },
         "y": {
          "bdata": "9uqoZmro8D9NAvsihQ3zPyMyRRmdbfM/C0PEBa5s9D/62CBb7wz1P5xKAtTqMfU/",
          "dtype": "f8"
         }
        },
        {
         "line": {
          "color": "rgb(4, 196, 230)"
         },
         "mode": "markers",
         "name": "034 - org",
         "type": "scatter",
         "x": [
          107881
         ],
         "y": [
          1.177624477719638
         ]
        },
        {
         "customdata": [
          [
           "s200_200_200_b200_3800_200_4800_-3800_0",
           -0.1469644714912691
          ],
          [
           "s100_100_100_b100_3900_100_4900_-3900_0",
           -0.0211806194688113
          ],
          [
           "s100_100_100_b0_4000_0_5000_-4000_0",
           0.0009403516301269071
          ],
          [
           "s50_50_50_b50_3950_50_4950_-3950_0",
           0.05808865550996432
          ],
          [
           "s50_50_25_b50_3950_50_4950_-3975_0",
           0.08832123742131334
          ],
          [
           "s25_25_25_b25_3975_25_4975_-3975_0",
           0.10480463545289483
          ]
         ],
         "hovertemplate": "Cells: %{x}<br>Entropy number: %{y}<br>Mapped: %{customdata[0]}<br>Rel Error: %{customdata[1]:.3f}<extra></extra>",
         "line": {
          "color": "rgb(4, 206, 234)"
         },
         "mode": "lines+markers",
         "name": "035",
         "opacity": 0.4,
         "type": "scatter",
         "x": {
          "bdata": "uh4AAOAVAQAAUwcA5DYJAKSLEgBM5ksA",
          "dtype": "i4"
         },
         "y": {
          "bdata": "0AgeTkVb8D/bOZnHs8TyP0y73m1JMfM/dhELHs9J9D+d+zH6Nd70P9EgUVcfL/U/",
          "dtype": "f8"
         }
        },
        {
         "line": {
          "color": "rgb(4, 206, 234)"
         },
         "mode": "markers",
         "name": "035 - org",
         "type": "scatter",
         "x": [
          91350
         ],
         "y": [
          1.19840599511685
         ]
        },
        {
         "customdata": [
          [
           "s200_200_200_b200_3800_200_4800_-3800_0",
           -0.14941213659632166
          ],
          [
           "s100_100_100_b100_3900_100_4900_-3900_0",
           -0.02642961250493129
          ],
          [
           "s100_100_100_b0_4000_0_5000_-4000_0",
           0.0005379928813757256
          ],
          [
           "s50_50_50_b50_3950_50_4950_-3950_0",
           0.055585176578547384
          ],
          [
           "s50_50_25_b50_3950_50_4950_-3975_0",
           0.08648198955710219
          ],
          [
           "s25_25_25_b25_3975_25_4975_-3975_0",
           0.10732617137518145
          ]
         ],
         "hovertemplate": "Cells: %{x}<br>Entropy number: %{y}<br>Mapped: %{customdata[0]}<br>Rel Error: %{customdata[1]:.3f}<extra></extra>",
         "line": {
          "color": "rgb(4, 216, 238)"
         },
         "mode": "lines+markers",
         "name": "036",
         "opacity": 0.4,
         "type": "scatter",
         "x": {
          "bdata": "uh4AAOAVAQAAUwcA5DYJAKSLEgBM5ksA",
          "dtype": "i4"
         },
         "y": {
          "bdata": "v8mei1zq8D9XDHfed1zzP//o/srC5fM/hAiB4AH+9D///Vm+TZv1P37T5v9rBfY/",
          "dtype": "f8"
         }
        },
        {
         "line": {
          "color": "rgb(4, 216, 238)"
         },
         "mode": "markers",
         "name": "036 - org",
         "type": "scatter",
         "x": [
          86839
         ],
         "y": [
          1.2429252872038563
         ]
        },
        {
         "customdata": [
          [
           "s200_200_200_b200_3800_200_4800_-3800_0",
           -0.12593197057441566
          ],
          [
           "s100_100_100_b100_3900_100_4900_-3900_0",
           -0.00009381351783809538
          ],
          [
           "s100_100_100_b0_4000_0_5000_-4000_0",
           0.023613033471832055
          ],
          [
           "s50_50_50_b50_3950_50_4950_-3950_0",
           0.0774424420340808
          ],
          [
           "s50_50_25_b50_3950_50_4950_-3975_0",
           0.11109361250663527
          ],
          [
           "s25_25_25_b25_3975_25_4975_-3975_0",
           0.12028077880453343
          ]
         ],
         "hovertemplate": "Cells: %{x}<br>Entropy number: %{y}<br>Mapped: %{customdata[0]}<br>Rel Error: %{customdata[1]:.3f}<extra></extra>",
         "line": {
          "color": "rgb(4, 226, 242)"
         },
         "mode": "lines+markers",
         "name": "037",
         "opacity": 0.4,
         "type": "scatter",
         "x": {
          "bdata": "uh4AAOAVAQAAUwcA5DYJAKSLEgBM5ksA",
          "dtype": "i4"
         },
         "y": {
          "bdata": "brllrArc8D/AcrlLaknzP6SeFwx6vvM/8sCKokfI9D8OXob5cW71P+TsaHHPm/U/",
          "dtype": "f8"
         }
        },
        {
         "line": {
          "color": "rgb(4, 226, 242)"
         },
         "mode": "markers",
         "name": "037 - org",
         "type": "scatter",
         "x": [
          105607
         ],
         "y": [
          1.2055367328397293
         ]
        },
        {
         "customdata": [
          [
           "s200_200_200_b200_3800_200_4800_-3800_0",
           -0.10613612468253908
          ],
          [
           "s100_100_100_b100_3900_100_4900_-3900_0",
           -0.00508645138718147
          ],
          [
           "s100_100_100_b0_4000_0_5000_-4000_0",
           0.018171998853632135
          ],
          [
           "s50_50_50_b50_3950_50_4950_-3950_0",
           0.057796650867538296
          ],
          [
           "s50_50_25_b50_3950_50_4950_-3975_0",
           0.08476268461917744
          ],
          [
           "s25_25_25_b25_3975_25_4975_-3975_0",
           0.09288071616677694
          ]
         ],
         "hovertemplate": "Cells: %{x}<br>Entropy number: %{y}<br>Mapped: %{customdata[0]}<br>Rel Error: %{customdata[1]:.3f}<extra></extra>",
         "line": {
          "color": "rgb(4, 235, 246)"
         },
         "mode": "lines+markers",
         "name": "038",
         "opacity": 0.4,
         "type": "scatter",
         "x": {
          "bdata": "uh4AAOAVAQAAUwcA5DYJAKSLEgBM5ksA",
          "dtype": "i4"
         },
         "y": {
          "bdata": "igtfXrjC7j+ObUCweB7xP5O+BwvshPE/ZaweuHYz8j9FCKzsPqryP2W/vTUBzvI/",
          "dtype": "f8"
         }
        },
        {
         "line": {
          "color": "rgb(4, 235, 246)"
         },
         "mode": "markers",
         "name": "038 - org",
         "type": "scatter",
         "x": [
          104739
         ],
         "y": [
          1.0754093335530501
         ]
        },
        {
         "customdata": [
          [
           "s200_200_200_b200_3800_200_4800_-3800_0",
           -0.18370565726599428
          ],
          [
           "s100_100_100_b100_3900_100_4900_-3900_0",
           -0.0317320272774475
          ],
          [
           "s100_100_100_b0_4000_0_5000_-4000_0",
           -0.002758513532568351
          ],
          [
           "s50_50_50_b50_3950_50_4950_-3950_0",
           0.06312039540326989
          ],
          [
           "s50_50_25_b50_3950_50_4950_-3975_0",
           0.09726553209977533
          ],
          [
           "s25_25_25_b25_3975_25_4975_-3975_0",
           0.11609677595889961
          ]
         ],
         "hovertemplate": "Cells: %{x}<br>Entropy number: %{y}<br>Mapped: %{customdata[0]}<br>Rel Error: %{customdata[1]:.3f}<extra></extra>",
         "line": {
          "color": "rgb(5, 245, 251)"
         },
         "mode": "lines+markers",
         "name": "039",
         "opacity": 0.4,
         "type": "scatter",
         "x": {
          "bdata": "uh4AAOAVAQAAUwcA5DYJAKSLEgBM5ksA",
          "dtype": "i4"
         },
         "y": {
          "bdata": "Anm0EmXn8T8Mt4NhtTz1P4wQxS1k3/U/3r12IktR9z9Km9+rAxH4P1nZU+C/evg/",
          "dtype": "f8"
         }
        },
        {
         "line": {
          "color": "rgb(5, 245, 251)"
         },
         "mode": "markers",
         "name": "039 - org",
         "type": "scatter",
         "x": [
          86913
         ],
         "y": [
          1.37082032372609
         ]
        },
        {
         "customdata": [
          [
           "s200_200_200_b200_3800_200_4800_-3800_0",
           -0.15527230670637565
          ],
          [
           "s100_100_100_b100_3900_100_4900_-3900_0",
           -0.02410550791808757
          ],
          [
           "s100_100_100_b0_4000_0_5000_-4000_0",
           0.0019628096367829448
          ],
          [
           "s50_50_50_b50_3950_50_4950_-3950_0",
           0.059127534422257814
          ],
          [
           "s50_50_25_b50_3950_50_4950_-3975_0",
           0.09004666962284551
          ],
          [
           "s25_25_25_b25_3975_25_4975_-3975_0",
           0.10701668157244847
          ]
         ],
         "hovertemplate": "Cells: %{x}<br>Entropy number: %{y}<br>Mapped: %{customdata[0]}<br>Rel Error: %{customdata[1]:.3f}<extra></extra>",
         "line": {
          "color": "rgb(5, 255, 255)"
         },
         "mode": "lines+markers",
         "name": "040",
         "opacity": 0.4,
         "type": "scatter",
         "x": {
          "bdata": "uh4AAOAVAQAAUwcA5DYJAKSLEgBM5ksA",
          "dtype": "i4"
         },
         "y": {
          "bdata": "E11M/0E68D9+LP6NUb/yP+Di4OGEP/M/bbxIxaVY9D/6w4ImtPD0P6VmO/MoRPU/",
          "dtype": "f8"
         }
        },
        {
         "line": {
          "color": "rgb(5, 255, 255)"
         },
         "mode": "markers",
         "name": "040 - org",
         "type": "scatter",
         "x": [
          90406
         ],
         "y": [
          1.2006509366188003
         ]
        },
        {
         "customdata": [
          [
           "s200_200_200_b200_3800_200_4800_-3800_0",
           -0.15030817249227552
          ],
          [
           "s100_100_100_b100_3900_100_4900_-3900_0",
           -0.023253669689755934
          ],
          [
           "s100_100_100_b0_4000_0_5000_-4000_0",
           0.001612115114307788
          ],
          [
           "s50_50_50_b50_3950_50_4950_-3950_0",
           0.05627405197958267
          ],
          [
           "s50_50_25_b50_3950_50_4950_-3975_0",
           0.08626158783019942
          ],
          [
           "s25_25_25_b25_3975_25_4975_-3975_0",
           0.10172181632296615
          ]
         ],
         "hovertemplate": "Cells: %{x}<br>Entropy number: %{y}<br>Mapped: %{customdata[0]}<br>Rel Error: %{customdata[1]:.3f}<extra></extra>",
         "line": {
          "color": "rgb(17, 255, 242)"
         },
         "mode": "lines+markers",
         "name": "041",
         "opacity": 0.4,
         "type": "scatter",
         "x": {
          "bdata": "uh4AAOAVAQAAUwcA5DYJAKSLEgBM5ksA",
          "dtype": "i4"
         },
         "y": {
          "bdata": "6WnEMbIS8D+VbBmM93nyP6gPaaNh8vI/EwAH/hX78z8PA3aDTYz0PzsgfYsr1/Q/",
          "dtype": "f8"
         }
        },
        {
         "line": {
          "color": "rgb(17, 255, 242)"
         },
         "mode": "markers",
         "name": "041 - org",
         "type": "scatter",
         "x": [
          93165
         ],
         "y": [
          1.1822691923756419
         ]
        },
        {
         "customdata": [
          [
           "s200_200_200_b200_3800_200_4800_-3800_0",
           -0.16271826702198053
          ],
          [
           "s100_100_100_b100_3900_100_4900_-3900_0",
           -0.027340346072598578
          ],
          [
           "s100_100_100_b0_4000_0_5000_-4000_0",
           -0.00029191605716117784
          ],
          [
           "s50_50_50_b50_3950_50_4950_-3950_0",
           0.05683892722370423
          ],
          [
           "s50_50_25_b50_3950_50_4950_-3975_0",
           0.08746774674141873
          ],
          [
           "s25_25_25_b25_3975_25_4975_-3975_0",
           0.10625608103607483
          ]
         ],
         "hovertemplate": "Cells: %{x}<br>Entropy number: %{y}<br>Mapped: %{customdata[0]}<br>Rel Error: %{customdata[1]:.3f}<extra></extra>",
         "line": {
          "color": "rgb(30, 255, 230)"
         },
         "mode": "lines+markers",
         "name": "042",
         "opacity": 0.4,
         "type": "scatter",
         "x": {
          "bdata": "uh4AAOAVAQAAUwcA5DYJAKSLEgBM5ksA",
          "dtype": "i4"
         },
         "y": {
          "bdata": "dsPtjThS8D9nQNZiyfXyP6a3vanDfPM/AmfHHtyZ9D+/tyJVtDL1PyOUjl12kPU/",
          "dtype": "f8"
         }
        },
        {
         "line": {
          "color": "rgb(30, 255, 230)"
         },
         "mode": "markers",
         "name": "042 - org",
         "type": "scatter",
         "x": [
          88664
         ],
         "y": [
          1.218315682236847
         ]
        },
        {
         "customdata": [
          [
           "s200_200_200_b200_3800_200_4800_-3800_0",
           -0.14263997390420563
          ],
          [
           "s100_100_100_b100_3900_100_4900_-3900_0",
           -0.02489322775631062
          ],
          [
           "s100_100_100_b0_4000_0_5000_-4000_0",
           0.0007402232858651181
          ],
          [
           "s50_50_50_b50_3950_50_4950_-3950_0",
           0.048175646286859546
          ],
          [
           "s50_50_25_b50_3950_50_4950_-3975_0",
           0.07576319635748503
          ],
          [
           "s25_25_25_b25_3975_25_4975_-3975_0",
           0.09039823475316687
          ]
         ],
         "hovertemplate": "Cells: %{x}<br>Entropy number: %{y}<br>Mapped: %{customdata[0]}<br>Rel Error: %{customdata[1]:.3f}<extra></extra>",
         "line": {
          "color": "rgb(42, 255, 217)"
         },
         "mode": "lines+markers",
         "name": "043",
         "opacity": 0.4,
         "type": "scatter",
         "x": {
          "bdata": "uh4AAOAVAQAAUwcA5DYJAKSLEgBM5ksA",
          "dtype": "i4"
         },
         "y": {
          "bdata": "6ikswBb77j+7x8d2KJ7xP7IOoWq4FPI/RkY1jx/w8j8WkkZQuW/zPzDuc09qs/M/",
          "dtype": "f8"
         }
        },
        {
         "line": {
          "color": "rgb(42, 255, 217)"
         },
         "mode": "markers",
         "name": "043 - org",
         "type": "scatter",
         "x": [
          92307
         ],
         "y": [
          1.1292228087806946
         ]
        },
        {
         "customdata": [
          [
           "s200_200_200_b200_3800_200_4800_-3800_0",
           -0.15026211580914328
          ],
          [
           "s100_100_100_b100_3900_100_4900_-3900_0",
           -0.016154674937067046
          ],
          [
           "s100_100_100_b0_4000_0_5000_-4000_0",
           0.0008855102383540712
          ],
          [
           "s50_50_50_b50_3950_50_4950_-3950_0",
           0.0684136248741976
          ],
          [
           "s50_50_25_b50_3950_50_4950_-3975_0",
           0.10194225682796068
          ],
          [
           "s25_25_25_b25_3975_25_4975_-3975_0",
           0.11583750393491625
          ]
         ],
         "hovertemplate": "Cells: %{x}<br>Entropy number: %{y}<br>Mapped: %{customdata[0]}<br>Rel Error: %{customdata[1]:.3f}<extra></extra>",
         "line": {
          "color": "rgb(55, 255, 204)"
         },
         "mode": "lines+markers",
         "name": "044",
         "opacity": 0.4,
         "type": "scatter",
         "x": {
          "bdata": "uh4AAOAVAQAAUwcA5DYJAKSLEgBM5ksA",
          "dtype": "i4"
         },
         "y": {
          "bdata": "rEL6e+Dl8T+xX4ea/7j0P9sDPoXhFPU/teGM7P+A9j++ZkcmyjX3Pwre/du2gPc/",
          "dtype": "f8"
         }
        },
        {
         "line": {
          "color": "rgb(55, 255, 204)"
         },
         "mode": "markers",
         "name": "044 - org",
         "type": "scatter",
         "x": [
          94680
         ],
         "y": [
          1.3164321714213467
         ]
        },
        {
         "customdata": [
          [
           "s200_200_200_b200_3800_200_4800_-3800_0",
           -0.15211884367223902
          ],
          [
           "s100_100_100_b100_3900_100_4900_-3900_0",
           -0.024100755979027527
          ],
          [
           "s100_100_100_b0_4000_0_5000_-4000_0",
           -0.001520790873775254
          ],
          [
           "s50_50_50_b50_3950_50_4950_-3950_0",
           0.05786251928623037
          ],
          [
           "s50_50_25_b50_3950_50_4950_-3975_0",
           0.08774014659614367
          ],
          [
           "s25_25_25_b25_3975_25_4975_-3975_0",
           0.10605828901151201
          ]
         ],
         "hovertemplate": "Cells: %{x}<br>Entropy number: %{y}<br>Mapped: %{customdata[0]}<br>Rel Error: %{customdata[1]:.3f}<extra></extra>",
         "line": {
          "color": "rgb(67, 255, 191)"
         },
         "mode": "lines+markers",
         "name": "045",
         "opacity": 0.4,
         "type": "scatter",
         "x": {
          "bdata": "uh4AAOAVAQAAUwcA5DYJAKSLEgBM5ksA",
          "dtype": "i4"
         },
         "y": {
          "bdata": "ZZN20h+D8D8V4hdEXAHzP/5mSuTucfM/6uDRU/2Z9D8nrmzm8S71P/OuPDJFivU/",
          "dtype": "f8"
         }
        },
        {
         "line": {
          "color": "rgb(67, 255, 191)"
         },
         "mode": "markers",
         "name": "045 - org",
         "type": "scatter",
         "x": [
          89857
         ],
         "y": [
          1.2171667716794214
         ]
        },
        {
         "customdata": [
          [
           "s200_200_200_b200_3800_200_4800_-3800_0",
           -0.15598871327339778
          ],
          [
           "s100_100_100_b100_3900_100_4900_-3900_0",
           -0.02816520761836441
          ],
          [
           "s100_100_100_b0_4000_0_5000_-4000_0",
           -0.0015544884807306874
          ],
          [
           "s50_50_50_b50_3950_50_4950_-3950_0",
           0.058253591701881935
          ],
          [
           "s50_50_25_b50_3950_50_4950_-3975_0",
           0.08874052905619675
          ],
          [
           "s25_25_25_b25_3975_25_4975_-3975_0",
           0.10916746320552818
          ]
         ],
         "hovertemplate": "Cells: %{x}<br>Entropy number: %{y}<br>Mapped: %{customdata[0]}<br>Rel Error: %{customdata[1]:.3f}<extra></extra>",
         "line": {
          "color": "rgb(80, 255, 179)"
         },
         "mode": "lines+markers",
         "name": "046",
         "opacity": 0.4,
         "type": "scatter",
         "x": {
          "bdata": "uh4AAOAVAQAAUwcA5DYJAKSLEgBM5ksA",
          "dtype": "i4"
         },
         "y": {
          "bdata": "qSk/8dG68D9gCeRpcUPzP/gpW7l5yvM/rdoGo/b59D8ISWFMqpT1P2w1lKRR/PU/",
          "dtype": "f8"
         }
        },
        {
         "line": {
          "color": "rgb(80, 255, 179)"
         },
         "mode": "markers",
         "name": "046 - org",
         "type": "scatter",
         "x": [
          87122
         ],
         "y": [
          1.2388582822766572
         ]
        },
        {
         "customdata": [
          [
           "s200_200_200_b200_3800_200_4800_-3800_0",
           -0.12017194962335445
          ],
          [
           "s100_100_100_b100_3900_100_4900_-3900_0",
           -0.005916590613536189
          ],
          [
           "s100_100_100_b0_4000_0_5000_-4000_0",
           0.01888603136686876
          ],
          [
           "s50_50_50_b50_3950_50_4950_-3950_0",
           0.06369563126780055
          ],
          [
           "s50_50_25_b50_3950_50_4950_-3975_0",
           0.09207478751958463
          ],
          [
           "s25_25_25_b25_3975_25_4975_-3975_0",
           0.10254777084602311
          ]
         ],
         "hovertemplate": "Cells: %{x}<br>Entropy number: %{y}<br>Mapped: %{customdata[0]}<br>Rel Error: %{customdata[1]:.3f}<extra></extra>",
         "line": {
          "color": "rgb(92, 255, 166)"
         },
         "mode": "lines+markers",
         "name": "047",
         "opacity": 0.4,
         "type": "scatter",
         "x": {
          "bdata": "uh4AAOAVAQAAUwcA5DYJAKSLEgBM5ksA",
          "dtype": "i4"
         },
         "y": {
          "bdata": "uLq0nxAD7z/f/kocBYXxP0SMuBvs9PE/aI8OJBe/8j+X/AEIIT/zP2xXaFBhbvM/",
          "dtype": "f8"
         }
        },
        {
         "line": {
          "color": "rgb(92, 255, 166)"
         },
         "mode": "markers",
         "name": "047 - org",
         "type": "scatter",
         "x": [
          101127
         ],
         "y": [
          1.1014926580173443
         ]
        },
        {
         "customdata": [
          [
           "s200_200_200_b200_3800_200_4800_-3800_0",
           -0.10353555119331721
          ],
          [
           "s100_100_100_b100_3900_100_4900_-3900_0",
           0.008238680919998917
          ],
          [
           "s100_100_100_b0_4000_0_5000_-4000_0",
           0.028808470785556515
          ],
          [
           "s50_50_50_b50_3950_50_4950_-3950_0",
           0.08109506683569188
          ],
          [
           "s50_50_25_b50_3950_50_4950_-3975_0",
           0.11379005849685987
          ],
          [
           "s25_25_25_b25_3975_25_4975_-3975_0",
           0.12127641832487424
          ]
         ],
         "hovertemplate": "Cells: %{x}<br>Entropy number: %{y}<br>Mapped: %{customdata[0]}<br>Rel Error: %{customdata[1]:.3f}<extra></extra>",
         "line": {
          "color": "rgb(105, 255, 153)"
         },
         "mode": "lines+markers",
         "name": "048",
         "opacity": 0.4,
         "type": "scatter",
         "x": {
          "bdata": "uh4AAOAVAQAAUwcA5DYJAKSLEgBM5ksA",
          "dtype": "i4"
         },
         "y": {
          "bdata": "otdtJ13g8D8wzGChCvvyPwInopwsXvM/K405NSla9D9Qd7Oouvf0PxOa4/TOG/U/",
          "dtype": "f8"
         }
        },
        {
         "line": {
          "color": "rgb(105, 255, 153)"
         },
         "mode": "markers",
         "name": "048 - org",
         "type": "scatter",
         "x": [
          108222
         ],
         "y": [
          1.176595837124624
         ]
        },
        {
         "customdata": [
          [
           "s200_200_200_b200_3800_200_4800_-3800_0",
           -0.14246441639476326
          ],
          [
           "s100_100_100_b100_3900_100_4900_-3900_0",
           -0.015498246948116162
          ],
          [
           "s100_100_100_b0_4000_0_5000_-4000_0",
           0.006410693275349288
          ],
          [
           "s50_50_50_b50_3950_50_4950_-3950_0",
           0.06427379029102201
          ],
          [
           "s50_50_25_b50_3950_50_4950_-3975_0",
           0.09565850272759227
          ],
          [
           "s25_25_25_b25_3975_25_4975_-3975_0",
           0.10950869635408247
          ]
         ],
         "hovertemplate": "Cells: %{x}<br>Entropy number: %{y}<br>Mapped: %{customdata[0]}<br>Rel Error: %{customdata[1]:.3f}<extra></extra>",
         "line": {
          "color": "rgb(117, 255, 140)"
         },
         "mode": "lines+markers",
         "name": "049",
         "opacity": 0.4,
         "type": "scatter",
         "x": {
          "bdata": "uh4AAOAVAQAAUwcA5DYJAKSLEgBM5ksA",
          "dtype": "i4"
         },
         "y": {
          "bdata": "MHIrbrnW8D9eSwKp91TzPzZSktYZw/M/4on7s/jl9D8tVy4QvYP1P1Za25lcyfU/",
          "dtype": "f8"
         }
        },
        {
         "line": {
          "color": "rgb(117, 255, 140)"
         },
         "mode": "markers",
         "name": "049 - org",
         "type": "scatter",
         "x": [
          96176
         ],
         "y": [
          1.227264447135957
         ]
        },
        {
         "customdata": [
          [
           "s200_200_200_b200_3800_200_4800_-3800_0",
           -0.172772046149655
          ],
          [
           "s100_100_100_b100_3900_100_4900_-3900_0",
           -0.027111353416683207
          ],
          [
           "s100_100_100_b0_4000_0_5000_-4000_0",
           0.0011902684654288677
          ],
          [
           "s50_50_50_b50_3950_50_4950_-3950_0",
           0.06623503631513672
          ],
          [
           "s50_50_25_b50_3950_50_4950_-3975_0",
           0.10046942444470643
          ],
          [
           "s25_25_25_b25_3975_25_4975_-3975_0",
           0.11819601893694451
          ]
         ],
         "hovertemplate": "Cells: %{x}<br>Entropy number: %{y}<br>Mapped: %{customdata[0]}<br>Rel Error: %{customdata[1]:.3f}<extra></extra>",
         "line": {
          "color": "rgb(130, 255, 128)"
         },
         "mode": "lines+markers",
         "name": "050",
         "opacity": 0.4,
         "type": "scatter",
         "x": {
          "bdata": "uh4AAOAVAQAAUwcA5DYJAKSLEgBM5ksA",
          "dtype": "i4"
         },
         "y": {
          "bdata": "CtxFIaUB8j+0a04eUy31P7OVAFsIy/U/ggJC9Hw19z+MFIF8QfT3PyV5RxUJV/g/",
          "dtype": "f8"
         }
        },
        {
         "line": {
          "color": "rgb(130, 255, 128)"
         },
         "mode": "markers",
         "name": "050 - org",
         "type": "scatter",
         "x": [
          88368
         ],
         "y": [
          1.3604492154794552
         ]
        },
        {
         "customdata": [
          [
           "s200_200_200_b200_3800_200_4800_-3800_0",
           -0.1061738679138468
          ],
          [
           "s100_100_100_b100_3900_100_4900_-3900_0",
           0.008129324646576197
          ],
          [
           "s100_100_100_b0_4000_0_5000_-4000_0",
           0.027641577552634588
          ],
          [
           "s50_50_50_b50_3950_50_4950_-3950_0",
           0.08163110090429099
          ],
          [
           "s50_50_25_b50_3950_50_4950_-3975_0",
           0.11445847700623729
          ],
          [
           "s25_25_25_b25_3975_25_4975_-3975_0",
           0.12240508545812268
          ]
         ],
         "hovertemplate": "Cells: %{x}<br>Entropy number: %{y}<br>Mapped: %{customdata[0]}<br>Rel Error: %{customdata[1]:.3f}<extra></extra>",
         "line": {
          "color": "rgb(142, 255, 115)"
         },
         "mode": "lines+markers",
         "name": "051",
         "opacity": 0.4,
         "type": "scatter",
         "x": {
          "bdata": "uh4AAOAVAQAAUwcA5DYJAKSLEgBM5ksA",
          "dtype": "i4"
         },
         "y": {
          "bdata": "D/Ad77X18D9GjXSc7iDzP23qtjW2f/M/UfsUfvaF9D/Z/v6FayX1P8hyPS0FTPU/",
          "dtype": "f8"
         }
        },
        {
         "line": {
          "color": "rgb(142, 255, 115)"
         },
         "mode": "markers",
         "name": "051 - org",
         "type": "scatter",
         "x": [
          107894
         ],
         "y": [
          1.185899495332872
         ]
        },
        {
         "customdata": [
          [
           "s200_200_200_b200_3800_200_4800_-3800_0",
           -0.13929007951455333
          ],
          [
           "s100_100_100_b100_3900_100_4900_-3900_0",
           -0.005127970524493468
          ],
          [
           "s100_100_100_b0_4000_0_5000_-4000_0",
           0.01768704077718202
          ],
          [
           "s50_50_50_b50_3950_50_4950_-3950_0",
           0.0783823124761666
          ],
          [
           "s50_50_25_b50_3950_50_4950_-3975_0",
           0.11263490563451865
          ],
          [
           "s25_25_25_b25_3975_25_4975_-3975_0",
           0.12415882317871231
          ]
         ],
         "hovertemplate": "Cells: %{x}<br>Entropy number: %{y}<br>Mapped: %{customdata[0]}<br>Rel Error: %{customdata[1]:.3f}<extra></extra>",
         "line": {
          "color": "rgb(155, 255, 102)"
         },
         "mode": "lines+markers",
         "name": "052",
         "opacity": 0.4,
         "type": "scatter",
         "x": {
          "bdata": "uh4AAOAVAQAAUwcA5DYJAKSLEgBM5ksA",
          "dtype": "i4"
         },
         "y": {
          "bdata": "QPAosCJC8T+dM2iWzvLzP3d3LV3rZ/Q/Gwp44Hmf9T+sb2eQTE/2PxdnTu1zivY/",
          "dtype": "f8"
         }
        },
        {
         "line": {
          "color": "rgb(155, 255, 102)"
         },
         "mode": "markers",
         "name": "052 - org",
         "type": "scatter",
         "x": [
          100661
         ],
         "y": [
          1.2532054490730387
         ]
        },
        {
         "customdata": [
          [
           "s200_200_200_b200_3800_200_4800_-3800_0",
           -0.17624749468450868
          ],
          [
           "s100_100_100_b100_3900_100_4900_-3900_0",
           -0.026031350081239007
          ],
          [
           "s100_100_100_b0_4000_0_5000_-4000_0",
           0.0009013017385687152
          ],
          [
           "s50_50_50_b50_3950_50_4950_-3950_0",
           0.06656078141358861
          ],
          [
           "s50_50_25_b50_3950_50_4950_-3975_0",
           0.1007211751219845
          ],
          [
           "s25_25_25_b25_3975_25_4975_-3975_0",
           0.11850906149046242
          ]
         ],
         "hovertemplate": "Cells: %{x}<br>Entropy number: %{y}<br>Mapped: %{customdata[0]}<br>Rel Error: %{customdata[1]:.3f}<extra></extra>",
         "line": {
          "color": "rgb(167, 255, 89)"
         },
         "mode": "lines+markers",
         "name": "053",
         "opacity": 0.4,
         "type": "scatter",
         "x": {
          "bdata": "uh4AAOAVAQAAUwcA5DYJAKSLEgBM5ksA",
          "dtype": "i4"
         },
         "y": {
          "bdata": "l8YGHIHc8T/WvQfbUx71P0KAB3HTs/U/PyV2Q0og9z+STEKM6N33PzXBDVOlQPg/",
          "dtype": "f8"
         }
        },
        {
         "line": {
          "color": "rgb(167, 255, 89)"
         },
         "mode": "markers",
         "name": "053 - org",
         "type": "scatter",
         "x": [
          89170
         ],
         "y": [
          1.3551813908790442
         ]
        },
        {
         "customdata": [
          [
           "s200_200_200_b200_3800_200_4800_-3800_0",
           -0.14510421959960362
          ],
          [
           "s100_100_100_b100_3900_100_4900_-3900_0",
           -0.009323558874992331
          ],
          [
           "s100_100_100_b0_4000_0_5000_-4000_0",
           0.012783549600398333
          ],
          [
           "s50_50_50_b50_3950_50_4950_-3950_0",
           0.0747720768354427
          ],
          [
           "s50_50_25_b50_3950_50_4950_-3975_0",
           0.10893109544749334
          ],
          [
           "s25_25_25_b25_3975_25_4975_-3975_0",
           0.121086351908479
          ]
         ],
         "hovertemplate": "Cells: %{x}<br>Entropy number: %{y}<br>Mapped: %{customdata[0]}<br>Rel Error: %{customdata[1]:.3f}<extra></extra>",
         "line": {
          "color": "rgb(180, 255, 77)"
         },
         "mode": "lines+markers",
         "name": "054",
         "opacity": 0.4,
         "type": "scatter",
         "x": {
          "bdata": "uh4AAOAVAQAAUwcA5DYJAKSLEgBM5ksA",
          "dtype": "i4"
         },
         "y": {
          "bdata": "Gmtr+FFg8T9am06P1SL0P9fDb33dlfQ/T/z/vmnY9T/0ySeCJ4r2P/cN9gBnyfY/",
          "dtype": "f8"
         }
        },
        {
         "line": {
          "color": "rgb(180, 255, 77)"
         },
         "mode": "markers",
         "name": "054 - org",
         "type": "scatter",
         "x": [
          99237
         ],
         "y": [
          1.2703486178702659
         ]
        },
        {
         "customdata": [
          [
           "s200_200_200_b200_3800_200_4800_-3800_0",
           -0.11877887541714541
          ],
          [
           "s100_100_100_b100_3900_100_4900_-3900_0",
           -0.0090830701072041
          ],
          [
           "s100_100_100_b0_4000_0_5000_-4000_0",
           0.01636352029734717
          ],
          [
           "s50_50_50_b50_3950_50_4950_-3950_0",
           0.05721171994994097
          ],
          [
           "s50_50_25_b50_3950_50_4950_-3975_0",
           0.08366761392841127
          ],
          [
           "s25_25_25_b25_3975_25_4975_-3975_0",
           0.09464663661283446
          ]
         ],
         "hovertemplate": "Cells: %{x}<br>Entropy number: %{y}<br>Mapped: %{customdata[0]}<br>Rel Error: %{customdata[1]:.3f}<extra></extra>",
         "line": {
          "color": "rgb(192, 255, 64)"
         },
         "mode": "lines+markers",
         "name": "055",
         "opacity": 0.4,
         "type": "scatter",
         "x": {
          "bdata": "uh4AAOAVAQAAUwcA5DYJAKSLEgBM5ksA",
          "dtype": "i4"
         },
         "y": {
          "bdata": "fOeQrdVU7j/Pz/bxtA3xP9OHUkbRffE/0Mr6i8gx8j/eECQ8V6byP3VRUxi21vI/",
          "dtype": "f8"
         }
        },
        {
         "line": {
          "color": "rgb(192, 255, 64)"
         },
         "mode": "markers",
         "name": "055 - org",
         "type": "scatter",
         "x": [
          97983
         ],
         "y": [
          1.0756162890503942
         ]
        },
        {
         "customdata": [
          [
           "s200_200_200_b200_3800_200_4800_-3800_0",
           -0.1621262735399606
          ],
          [
           "s100_100_100_b100_3900_100_4900_-3900_0",
           -0.03195973459213041
          ],
          [
           "s100_100_100_b0_4000_0_5000_-4000_0",
           -0.008597656156427602
          ],
          [
           "s50_50_50_b50_3950_50_4950_-3950_0",
           0.050821969908850066
          ],
          [
           "s50_50_25_b50_3950_50_4950_-3975_0",
           0.08155224862639793
          ],
          [
           "s25_25_25_b25_3975_25_4975_-3975_0",
           0.09990163019905171
          ]
         ],
         "hovertemplate": "Cells: %{x}<br>Entropy number: %{y}<br>Mapped: %{customdata[0]}<br>Rel Error: %{customdata[1]:.3f}<extra></extra>",
         "line": {
          "color": "rgb(205, 255, 51)"
         },
         "mode": "lines+markers",
         "name": "056",
         "opacity": 0.4,
         "type": "scatter",
         "x": {
          "bdata": "uh4AAOAVAQAAUwcA5DYJAKSLEgBM5ksA",
          "dtype": "i4"
         },
         "y": {
          "bdata": "UnCeqo2T8D9RDh/KzSbzP9cBdgQgnfM/CFcN2hDK9D86fvNbtGX1P9oOHlmjwvU/",
          "dtype": "f8"
         }
        },
        {
         "line": {
          "color": "rgb(205, 255, 51)"
         },
         "mode": "markers",
         "name": "056 - org",
         "type": "scatter",
         "x": [
          88696
         ],
         "y": [
          1.236491541435107
         ]
        },
        {
         "customdata": [
          [
           "s200_200_200_b200_3800_200_4800_-3800_0",
           -0.14104039060746876
          ],
          [
           "s100_100_100_b100_3900_100_4900_-3900_0",
           -0.020398918209641754
          ],
          [
           "s100_100_100_b0_4000_0_5000_-4000_0",
           0.005772886946604801
          ],
          [
           "s50_50_50_b50_3950_50_4950_-3950_0",
           0.05393140556425488
          ],
          [
           "s50_50_25_b50_3950_50_4950_-3975_0",
           0.08128213118442364
          ],
          [
           "s25_25_25_b25_3975_25_4975_-3975_0",
           0.09729300257486273
          ]
         ],
         "hovertemplate": "Cells: %{x}<br>Entropy number: %{y}<br>Mapped: %{customdata[0]}<br>Rel Error: %{customdata[1]:.3f}<extra></extra>",
         "line": {
          "color": "rgb(217, 255, 38)"
         },
         "mode": "lines+markers",
         "name": "057",
         "opacity": 0.4,
         "type": "scatter",
         "x": {
          "bdata": "uh4AAOAVAQAAUwcA5DYJAKSLEgBM5ksA",
          "dtype": "i4"
         },
         "y": {
          "bdata": "ZKnI3F8e7z/RrnDuoL7xP/uZDT7+N/I/xgnNnlAX8z+VQEp2JZbzPwC1325k4PM/",
          "dtype": "f8"
         }
        },
        {
         "line": {
          "color": "rgb(217, 255, 38)"
         },
         "mode": "markers",
         "name": "057 - org",
         "type": "scatter",
         "x": [
          90480
         ],
         "y": [
          1.1321345142581318
         ]
        },
        {
         "customdata": [
          [
           "s200_200_200_b200_3800_200_4800_-3800_0",
           -0.13664406457255018
          ],
          [
           "s100_100_100_b100_3900_100_4900_-3900_0",
           -0.012769046593926432
          ],
          [
           "s100_100_100_b0_4000_0_5000_-4000_0",
           0.007601983487718744
          ],
          [
           "s50_50_50_b50_3950_50_4950_-3950_0",
           0.06563168840085445
          ],
          [
           "s50_50_25_b50_3950_50_4950_-3975_0",
           0.0974832161585491
          ],
          [
           "s25_25_25_b25_3975_25_4975_-3975_0",
           0.10960223026374613
          ]
         ],
         "hovertemplate": "Cells: %{x}<br>Entropy number: %{y}<br>Mapped: %{customdata[0]}<br>Rel Error: %{customdata[1]:.3f}<extra></extra>",
         "line": {
          "color": "rgb(230, 255, 26)"
         },
         "mode": "lines+markers",
         "name": "058",
         "opacity": 0.4,
         "type": "scatter",
         "x": {
          "bdata": "uh4AAOAVAQAAUwcA5DYJAKSLEgBM5ksA",
          "dtype": "i4"
         },
         "y": {
          "bdata": "1LWiwz6X8D/lj4W1pPjyP03YJ53bXPM/9mk/K1V69D/k8ltnBhf1P7C2pd6kUvU/",
          "dtype": "f8"
         }
        },
        {
         "line": {
          "color": "rgb(230, 255, 26)"
         },
         "mode": "markers",
         "name": "058 - org",
         "type": "scatter",
         "x": [
          99055
         ],
         "y": [
          1.20104009068819
         ]
        },
        {
         "customdata": [
          [
           "s200_200_200_b200_3800_200_4800_-3800_0",
           -0.12776298214969453
          ],
          [
           "s100_100_100_b100_3900_100_4900_-3900_0",
           0.004554222557365068
          ],
          [
           "s100_100_100_b0_4000_0_5000_-4000_0",
           0.023184064799004266
          ],
          [
           "s50_50_50_b50_3950_50_4950_-3950_0",
           0.08650622543480062
          ],
          [
           "s50_50_25_b50_3950_50_4950_-3975_0",
           0.1219112935244479
          ],
          [
           "s25_25_25_b25_3975_25_4975_-3975_0",
           0.13099023921088493
          ]
         ],
         "hovertemplate": "Cells: %{x}<br>Entropy number: %{y}<br>Mapped: %{customdata[0]}<br>Rel Error: %{customdata[1]:.3f}<extra></extra>",
         "line": {
          "color": "rgb(242, 255, 13)"
         },
         "mode": "lines+markers",
         "name": "059",
         "opacity": 0.4,
         "type": "scatter",
         "x": {
          "bdata": "uh4AAOAVAQAAUwcA5DYJAKSLEgBM5ksA",
          "dtype": "i4"
         },
         "y": {
          "bdata": "CnX2CCAu8j9mMepXJvD0Pz/zVkmOU/U/e0Dr7G6l9j8vFZNyWWL3P9Tu/BTLkvc/",
          "dtype": "f8"
         }
        },
        {
         "line": {
          "color": "rgb(242, 255, 13)"
         },
         "mode": "markers",
         "name": "059 - org",
         "type": "scatter",
         "x": [
          103760
         ],
         "y": [
          1.3026975425983103
         ]
        },
        {
         "customdata": [
          [
           "s200_200_200_b200_3800_200_4800_-3800_0",
           -0.1701181326302901
          ],
          [
           "s100_100_100_b100_3900_100_4900_-3900_0",
           -0.024111123866511326
          ],
          [
           "s100_100_100_b0_4000_0_5000_-4000_0",
           0.00046406922828996864
          ],
          [
           "s50_50_50_b50_3950_50_4950_-3950_0",
           0.0670502330814669
          ],
          [
           "s50_50_25_b50_3950_50_4950_-3975_0",
           0.10121988720703609
          ],
          [
           "s25_25_25_b25_3975_25_4975_-3975_0",
           0.11820023417470575
          ]
         ],
         "hovertemplate": "Cells: %{x}<br>Entropy number: %{y}<br>Mapped: %{customdata[0]}<br>Rel Error: %{customdata[1]:.3f}<extra></extra>",
         "line": {
          "color": "rgb(255, 255, 0)"
         },
         "mode": "lines+markers",
         "name": "060",
         "opacity": 0.4,
         "type": "scatter",
         "x": {
          "bdata": "uh4AAOAVAQAAUwcA5DYJAKSLEgBM5ksA",
          "dtype": "i4"
         },
         "y": {
          "bdata": "uC7QFYHc8T9UzBs1+gD1P1a1y+RhiPU/2Y2fskL39j/IJq2Eh7P3P7rfyI4WEfg/",
          "dtype": "f8"
         }
        },
        {
         "line": {
          "color": "rgb(255, 255, 0)"
         },
         "mode": "markers",
         "name": "060 - org",
         "type": "scatter",
         "x": [
          90706
         ],
         "y": [
          1.3451722307002079
         ]
        },
        {
         "customdata": [
          [
           "s200_200_200_b200_3800_200_4800_-3800_0",
           -0.15831606028776146
          ],
          [
           "s100_100_100_b100_3900_100_4900_-3900_0",
           -0.021731890805768667
          ],
          [
           "s100_100_100_b0_4000_0_5000_-4000_0",
           0.00169144578227797
          ],
          [
           "s50_50_50_b50_3950_50_4950_-3950_0",
           0.06492265497127563
          ],
          [
           "s50_50_25_b50_3950_50_4950_-3975_0",
           0.09803748880658769
          ],
          [
           "s25_25_25_b25_3975_25_4975_-3975_0",
           0.11527336115709068
          ]
         ],
         "hovertemplate": "Cells: %{x}<br>Entropy number: %{y}<br>Mapped: %{customdata[0]}<br>Rel Error: %{customdata[1]:.3f}<extra></extra>",
         "line": {
          "color": "rgb(255, 242, 0)"
         },
         "mode": "lines+markers",
         "name": "061",
         "opacity": 0.4,
         "type": "scatter",
         "x": {
          "bdata": "uh4AAOAVAQAAUwcA5DYJAKSLEgBM5ksA",
          "dtype": "i4"
         },
         "y": {
          "bdata": "iNsYmjY28T+uWF8nOwH0P/XWRyjae/Q/ko23Dd7G9T/ybjE1OXT2PyGl9QV0zvY/",
          "dtype": "f8"
         }
        },
        {
         "line": {
          "color": "rgb(255, 242, 0)"
         },
         "mode": "markers",
         "name": "061 - org",
         "type": "scatter",
         "x": [
          90288
         ],
         "y": [
          1.2780755524304024
         ]
        },
        {
         "customdata": [
          [
           "s200_200_200_b200_3800_200_4800_-3800_0",
           -0.1303115890507093
          ],
          [
           "s100_100_100_b100_3900_100_4900_-3900_0",
           -0.020620011450531155
          ],
          [
           "s100_100_100_b0_4000_0_5000_-4000_0",
           0.0070351687221799466
          ],
          [
           "s50_50_50_b50_3950_50_4950_-3950_0",
           0.045668887402838795
          ],
          [
           "s50_50_25_b50_3950_50_4950_-3975_0",
           0.07044589936315926
          ],
          [
           "s25_25_25_b25_3975_25_4975_-3975_0",
           0.0835688645005511
          ]
         ],
         "hovertemplate": "Cells: %{x}<br>Entropy number: %{y}<br>Mapped: %{customdata[0]}<br>Rel Error: %{customdata[1]:.3f}<extra></extra>",
         "line": {
          "color": "rgb(254, 230, 0)"
         },
         "mode": "lines+markers",
         "name": "062",
         "opacity": 0.4,
         "type": "scatter",
         "x": {
          "bdata": "uh4AAOAVAQAAUwcA5DYJAKSLEgBM5ksA",
          "dtype": "i4"
         },
         "y": {
          "bdata": "ifDgcwrV7T9A9QYBJMzwPyJpa8qQRfE/tQNomTHv8T/3QnZJ+1vyP9F0LqyZlfI/",
          "dtype": "f8"
         }
        },
        {
         "line": {
          "color": "rgb(254, 230, 0)"
         },
         "mode": "markers",
         "name": "062 - org",
         "type": "scatter",
         "x": [
          92482
         ],
         "y": [
          1.0719424900204662
         ]
        },
        {
         "customdata": [
          [
           "s200_200_200_b200_3800_200_4800_-3800_0",
           -0.18179421834430756
          ],
          [
           "s100_100_100_b100_3900_100_4900_-3900_0",
           -0.028148117524184557
          ],
          [
           "s100_100_100_b0_4000_0_5000_-4000_0",
           0.0011161103537472312
          ],
          [
           "s50_50_50_b50_3950_50_4950_-3950_0",
           0.06603565611971615
          ],
          [
           "s50_50_25_b50_3950_50_4950_-3975_0",
           0.10057849864833937
          ],
          [
           "s25_25_25_b25_3975_25_4975_-3975_0",
           0.11912807308454594
          ]
         ],
         "hovertemplate": "Cells: %{x}<br>Entropy number: %{y}<br>Mapped: %{customdata[0]}<br>Rel Error: %{customdata[1]:.3f}<extra></extra>",
         "line": {
          "color": "rgb(254, 217, 0)"
         },
         "mode": "lines+markers",
         "name": "063",
         "opacity": 0.4,
         "type": "scatter",
         "x": {
          "bdata": "uh4AAOAVAQAAUwcA5DYJAKSLEgBM5ksA",
          "dtype": "i4"
         },
         "y": {
          "bdata": "uOCN00vs8T+38GPX50n1PydEph8D7vU/+tDhoxBa9z+rZFjSxRv4Px9IS0/Lg/g/",
          "dtype": "f8"
         }
        },
        {
         "line": {
          "color": "rgb(254, 217, 0)"
         },
         "mode": "markers",
         "name": "063 - org",
         "type": "scatter",
         "x": [
          87198
         ],
         "y": [
          1.3690804028636918
         ]
        },
        {
         "customdata": [
          [
           "s200_200_200_b200_3800_200_4800_-3800_0",
           -0.13760242014339466
          ],
          [
           "s100_100_100_b100_3900_100_4900_-3900_0",
           -0.012382454358970542
          ],
          [
           "s100_100_100_b0_4000_0_5000_-4000_0",
           0.009595699809141179
          ],
          [
           "s50_50_50_b50_3950_50_4950_-3950_0",
           0.0664003999157427
          ],
          [
           "s50_50_25_b50_3950_50_4950_-3975_0",
           0.0978866468123578
          ],
          [
           "s25_25_25_b25_3975_25_4975_-3975_0",
           0.11056119708618331
          ]
         ],
         "hovertemplate": "Cells: %{x}<br>Entropy number: %{y}<br>Mapped: %{customdata[0]}<br>Rel Error: %{customdata[1]:.3f}<extra></extra>",
         "line": {
          "color": "rgb(254, 204, 0)"
         },
         "mode": "lines+markers",
         "name": "064",
         "opacity": 0.4,
         "type": "scatter",
         "x": {
          "bdata": "uh4AAOAVAQAAUwcA5DYJAKSLEgBM5ksA",
          "dtype": "i4"
         },
         "y": {
          "bdata": "uRXQkRyc8D/ygGx0hAXzPwbEtNnhcfM/UaD0NvaJ9D/f2Kb4NCX1P+OC9h2zY/U/",
          "dtype": "f8"
         }
        },
        {
         "line": {
          "color": "rgb(254, 204, 0)"
         },
         "mode": "markers",
         "name": "064 - org",
         "type": "scatter",
         "x": [
          98134
         ],
         "y": [
          1.2037524313885453
         ]
        },
        {
         "customdata": [
          [
           "s200_200_200_b200_3800_200_4800_-3800_0",
           -0.12927407102194108
          ],
          [
           "s100_100_100_b100_3900_100_4900_-3900_0",
           -0.017961367470008458
          ],
          [
           "s100_100_100_b0_4000_0_5000_-4000_0",
           0.005961790024614617
          ],
          [
           "s50_50_50_b50_3950_50_4950_-3950_0",
           0.05060023646481353
          ],
          [
           "s50_50_25_b50_3950_50_4950_-3975_0",
           0.07697503288512605
          ],
          [
           "s25_25_25_b25_3975_25_4975_-3975_0",
           0.08960112305244487
          ]
         ],
         "hovertemplate": "Cells: %{x}<br>Entropy number: %{y}<br>Mapped: %{customdata[0]}<br>Rel Error: %{customdata[1]:.3f}<extra></extra>",
         "line": {
          "color": "rgb(254, 191, 0)"
         },
         "mode": "lines+markers",
         "name": "065",
         "opacity": 0.4,
         "type": "scatter",
         "x": {
          "bdata": "uh4AAOAVAQAAUwcA5DYJAKSLEgBM5ksA",
          "dtype": "i4"
         },
         "y": {
          "bdata": "yGheVz+Z7j9P9tgiUkHxP90Kvw7urPE/TiZM/Ld18j+KSsQCW+zyPytX7yomJfM/",
          "dtype": "f8"
         }
        },
        {
         "line": {
          "color": "rgb(254, 191, 0)"
         },
         "mode": "markers",
         "name": "065 - org",
         "type": "scatter",
         "x": [
          95637
         ],
         "y": [
          1.0981721451809527
         ]
        },
        {
         "customdata": [
          [
           "s200_200_200_b200_3800_200_4800_-3800_0",
           -0.1264058285125292
          ],
          [
           "s100_100_100_b100_3900_100_4900_-3900_0",
           -0.0005625815872118336
          ],
          [
           "s100_100_100_b0_4000_0_5000_-4000_0",
           0.022955994860663645
          ],
          [
           "s50_50_50_b50_3950_50_4950_-3950_0",
           0.07775956607242651
          ],
          [
           "s50_50_25_b50_3950_50_4950_-3975_0",
           0.1113885905789368
          ],
          [
           "s25_25_25_b25_3975_25_4975_-3975_0",
           0.1206506725433081
          ]
         ],
         "hovertemplate": "Cells: %{x}<br>Entropy number: %{y}<br>Mapped: %{customdata[0]}<br>Rel Error: %{customdata[1]:.3f}<extra></extra>",
         "line": {
          "color": "rgb(254, 179, 0)"
         },
         "mode": "lines+markers",
         "name": "066",
         "opacity": 0.4,
         "type": "scatter",
         "x": {
          "bdata": "uh4AAOAVAQAAUwcA5DYJAKSLEgBM5ksA",
          "dtype": "i4"
         },
         "y": {
          "bdata": "eV+DVGzn8D/RNqhkzFbzP38iC7hMy/M/nK2RGsba9D8XCjarW4H1P4dydRQ9r/U/",
          "dtype": "f8"
         }
        },
        {
         "line": {
          "color": "rgb(254, 179, 0)"
         },
         "mode": "markers",
         "name": "066 - org",
         "type": "scatter",
         "x": [
          104788
         ],
         "y": [
          1.209371388362608
         ]
        },
        {
         "customdata": [
          [
           "s200_200_200_b200_3800_200_4800_-3800_0",
           -0.14420400641753156
          ],
          [
           "s100_100_100_b100_3900_100_4900_-3900_0",
           -0.007959567441109464
          ],
          [
           "s100_100_100_b0_4000_0_5000_-4000_0",
           0.011994247110445277
          ],
          [
           "s50_50_50_b50_3950_50_4950_-3950_0",
           0.07631861110003728
          ],
          [
           "s50_50_25_b50_3950_50_4950_-3975_0",
           0.11149914105672583
          ],
          [
           "s25_25_25_b25_3975_25_4975_-3975_0",
           0.12211010029263393
          ]
         ],
         "hovertemplate": "Cells: %{x}<br>Entropy number: %{y}<br>Mapped: %{customdata[0]}<br>Rel Error: %{customdata[1]:.3f}<extra></extra>",
         "line": {
          "color": "rgb(253, 166, 0)"
         },
         "mode": "lines+markers",
         "name": "067",
         "opacity": 0.4,
         "type": "scatter",
         "x": {
          "bdata": "uh4AAOAVAQAAUwcA5DYJAKSLEgBM5ksA",
          "dtype": "i4"
         },
         "y": {
          "bdata": "25Bjamlk8j9EA+4YAFL1P0lqNjnIv/U/JcT5cK4h9z+XXN/EPOP3P7PTP96dHfg/",
          "dtype": "f8"
         }
        },
        {
         "line": {
          "color": "rgb(253, 166, 0)"
         },
         "mode": "markers",
         "name": "067 - org",
         "type": "scatter",
         "x": [
          100309
         ],
         "y": [
          1.3432110026840123
         ]
        },
        {
         "customdata": [
          [
           "s200_200_200_b200_3800_200_4800_-3800_0",
           -0.14716298245542558
          ],
          [
           "s100_100_100_b100_3900_100_4900_-3900_0",
           -0.02131301343026623
          ],
          [
           "s100_100_100_b0_4000_0_5000_-4000_0",
           0.003523447992007331
          ],
          [
           "s50_50_50_b50_3950_50_4950_-3950_0",
           0.05661685505116793
          ],
          [
           "s50_50_25_b50_3950_50_4950_-3975_0",
           0.08649747138997918
          ],
          [
           "s25_25_25_b25_3975_25_4975_-3975_0",
           0.10100843153855091
          ]
         ],
         "hovertemplate": "Cells: %{x}<br>Entropy number: %{y}<br>Mapped: %{customdata[0]}<br>Rel Error: %{customdata[1]:.3f}<extra></extra>",
         "line": {
          "color": "rgb(253, 153, 0)"
         },
         "mode": "lines+markers",
         "name": "068",
         "opacity": 0.4,
         "type": "scatter",
         "x": {
          "bdata": "uh4AAOAVAQAAUwcA5DYJAKSLEgBM5ksA",
          "dtype": "i4"
         },
         "y": {
          "bdata": "3QcxAqnu7z8WmJFre1LyP1+UmZaDyfI/r3pKj/jH8z8xjhV3LVf0Py0LOCW5nPQ/",
          "dtype": "f8"
         }
        },
        {
         "line": {
          "color": "rgb(253, 153, 0)"
         },
         "mode": "markers",
         "name": "068 - org",
         "type": "scatter",
         "x": [
          94152
         ],
         "y": [
          1.1700750593704343
         ]
        },
        {
         "customdata": [
          [
           "s200_200_200_b200_3800_200_4800_-3800_0",
           -0.1668161761075015
          ],
          [
           "s100_100_100_b100_3900_100_4900_-3900_0",
           -0.02733691173653581
          ],
          [
           "s100_100_100_b0_4000_0_5000_-4000_0",
           -0.001915872606556615
          ],
          [
           "s50_50_50_b50_3950_50_4950_-3950_0",
           0.061853300689557585
          ],
          [
           "s50_50_25_b50_3950_50_4950_-3975_0",
           0.09438688049341508
          ],
          [
           "s25_25_25_b25_3975_25_4975_-3975_0",
           0.11347799296437346
          ]
         ],
         "hovertemplate": "Cells: %{x}<br>Entropy number: %{y}<br>Mapped: %{customdata[0]}<br>Rel Error: %{customdata[1]:.3f}<extra></extra>",
         "line": {
          "color": "rgb(253, 140, 0)"
         },
         "mode": "lines+markers",
         "name": "069",
         "opacity": 0.4,
         "type": "scatter",
         "x": {
          "bdata": "uh4AAOAVAQAAUwcA5DYJAKSLEgBM5ksA",
          "dtype": "i4"
         },
         "y": {
          "bdata": "7EGpOLZF8T8mBOjb7Sn0P+UObLjWsPQ/EiCnHEMD9j8CopAG66/2PzqvzxY8Ffc/",
          "dtype": "f8"
         }
        },
        {
         "line": {
          "color": "rgb(253, 140, 0)"
         },
         "mode": "markers",
         "name": "069 - org",
         "type": "scatter",
         "x": [
          88373
         ],
         "y": [
          1.2956558348510958
         ]
        },
        {
         "customdata": [
          [
           "s200_200_200_b200_3800_200_4800_-3800_0",
           -0.1561677344370659
          ],
          [
           "s100_100_100_b100_3900_100_4900_-3900_0",
           -0.028622712981499186
          ],
          [
           "s100_100_100_b0_4000_0_5000_-4000_0",
           0.0009047661715643632
          ],
          [
           "s50_50_50_b50_3950_50_4950_-3950_0",
           0.05096474341413096
          ],
          [
           "s50_50_25_b50_3950_50_4950_-3975_0",
           0.07937328595312203
          ],
          [
           "s25_25_25_b25_3975_25_4975_-3975_0",
           0.09871528286532125
          ]
         ],
         "hovertemplate": "Cells: %{x}<br>Entropy number: %{y}<br>Mapped: %{customdata[0]}<br>Rel Error: %{customdata[1]:.3f}<extra></extra>",
         "line": {
          "color": "rgb(252, 128, 0)"
         },
         "mode": "lines+markers",
         "name": "070",
         "opacity": 0.4,
         "type": "scatter",
         "x": {
          "bdata": "uh4AAOAVAQAAUwcA5DYJAKSLEgBM5ksA",
          "dtype": "i4"
         },
         "y": {
          "bdata": "qKNgogen7z/WdIJ65jfyPx+t0eCrxfI/Ex6clga28z/L84+obD70P0hJMq1Km/Q/",
          "dtype": "f8"
         }
        },
        {
         "line": {
          "color": "rgb(252, 128, 0)"
         },
         "mode": "markers",
         "name": "070 - org",
         "type": "scatter",
         "x": [
          87522
         ],
         "y": [
          1.1721990528999198
         ]
        },
        {
         "customdata": [
          [
           "s200_200_200_b200_3800_200_4800_-3800_0",
           -0.15964000186283664
          ],
          [
           "s100_100_100_b100_3900_100_4900_-3900_0",
           -0.027905361834712643
          ],
          [
           "s100_100_100_b0_4000_0_5000_-4000_0",
           -0.003518235835000289
          ],
          [
           "s50_50_50_b50_3950_50_4950_-3950_0",
           0.05581164754025232
          ],
          [
           "s50_50_25_b50_3950_50_4950_-3975_0",
           0.08672204748707386
          ],
          [
           "s25_25_25_b25_3975_25_4975_-3975_0",
           0.10629161299037798
          ]
         ],
         "hovertemplate": "Cells: %{x}<br>Entropy number: %{y}<br>Mapped: %{customdata[0]}<br>Rel Error: %{customdata[1]:.3f}<extra></extra>",
         "line": {
          "color": "rgb(252, 115, 0)"
         },
         "mode": "lines+markers",
         "name": "071",
         "opacity": 0.4,
         "type": "scatter",
         "x": {
          "bdata": "uh4AAOAVAQAAUwcA5DYJAKSLEgBM5ksA",
          "dtype": "i4"
         },
         "y": {
          "bdata": "Bbx342Gj8D8toK0JFT/zP2JN6lewuvM/eLLHUmfn9D/J5tPYEoT1P8KbHCtD5/U/",
          "dtype": "f8"
         }
        },
        {
         "line": {
          "color": "rgb(252, 115, 0)"
         },
         "mode": "markers",
         "name": "071 - org",
         "type": "scatter",
         "x": [
          88366
         ],
         "y": [
          1.2374319077206057
         ]
        },
        {
         "customdata": [
          [
           "s200_200_200_b200_3800_200_4800_-3800_0",
           -0.13589293003514064
          ],
          [
           "s100_100_100_b100_3900_100_4900_-3900_0",
           0.0003392010639830189
          ],
          [
           "s100_100_100_b0_4000_0_5000_-4000_0",
           0.01877043694920469
          ],
          [
           "s50_50_50_b50_3950_50_4950_-3950_0",
           0.08395622391306222
          ],
          [
           "s50_50_25_b50_3950_50_4950_-3975_0",
           0.11948602634578731
          ],
          [
           "s25_25_25_b25_3975_25_4975_-3975_0",
           0.12941408577741637
          ]
         ],
         "hovertemplate": "Cells: %{x}<br>Entropy number: %{y}<br>Mapped: %{customdata[0]}<br>Rel Error: %{customdata[1]:.3f}<extra></extra>",
         "line": {
          "color": "rgb(252, 102, 0)"
         },
         "mode": "lines+markers",
         "name": "072",
         "opacity": 0.4,
         "type": "scatter",
         "x": {
          "bdata": "uh4AAOAVAQAAUwcA5DYJAKSLEgBM5ksA",
          "dtype": "i4"
         },
         "y": {
          "bdata": "h0RRPSND8j/5hYckNCT1P9oJ4Wfsh/U/00InQ5ro9j/9nhP41Kj3PwI66t6L3vc/",
          "dtype": "f8"
         }
        },
        {
         "line": {
          "color": "rgb(252, 102, 0)"
         },
         "mode": "markers",
         "name": "072 - org",
         "type": "scatter",
         "x": [
          101709
         ],
         "y": [
          1.3208907421019016
         ]
        },
        {
         "customdata": [
          [
           "s200_200_200_b200_3800_200_4800_-3800_0",
           -0.11288377299044475
          ],
          [
           "s100_100_100_b100_3900_100_4900_-3900_0",
           -0.009979587482827058
          ],
          [
           "s100_100_100_b0_4000_0_5000_-4000_0",
           0.017621146206018092
          ],
          [
           "s50_50_50_b50_3950_50_4950_-3950_0",
           0.051164220349638294
          ],
          [
           "s50_50_25_b50_3950_50_4950_-3975_0",
           0.07526146598503668
          ],
          [
           "s25_25_25_b25_3975_25_4975_-3975_0",
           0.08584107257361713
          ]
         ],
         "hovertemplate": "Cells: %{x}<br>Entropy number: %{y}<br>Mapped: %{customdata[0]}<br>Rel Error: %{customdata[1]:.3f}<extra></extra>",
         "line": {
          "color": "rgb(252, 89, 0)"
         },
         "mode": "lines+markers",
         "name": "073",
         "opacity": 0.4,
         "type": "scatter",
         "x": {
          "bdata": "uh4AAOAVAQAAUwcA5DYJAKSLEgBM5ksA",
          "dtype": "i4"
         },
         "y": {
          "bdata": "EapVyHuK7T9rd0o73HvwP0NTGW2B8fA/euUOv3qA8T9cjuEGMefxPwZaHTdJFPI/",
          "dtype": "f8"
         }
        },
        {
         "line": {
          "color": "rgb(252, 89, 0)"
         },
         "mode": "markers",
         "name": "073 - org",
         "type": "scatter",
         "x": [
          96056
         ],
         "y": [
          1.0406243276145544
         ]
        },
        {
         "customdata": [
          [
           "s200_200_200_b200_3800_200_4800_-3800_0",
           -0.16275631601960497
          ],
          [
           "s100_100_100_b100_3900_100_4900_-3900_0",
           -0.030532462181296974
          ],
          [
           "s100_100_100_b0_4000_0_5000_-4000_0",
           -0.0038114457186261587
          ],
          [
           "s50_50_50_b50_3950_50_4950_-3950_0",
           0.054226491081330166
          ],
          [
           "s50_50_25_b50_3950_50_4950_-3975_0",
           0.08477893558111328
          ],
          [
           "s25_25_25_b25_3975_25_4975_-3975_0",
           0.10405002938326909
          ]
         ],
         "hovertemplate": "Cells: %{x}<br>Entropy number: %{y}<br>Mapped: %{customdata[0]}<br>Rel Error: %{customdata[1]:.3f}<extra></extra>",
         "line": {
          "color": "rgb(251, 77, 0)"
         },
         "mode": "lines+markers",
         "name": "074",
         "opacity": 0.4,
         "type": "scatter",
         "x": {
          "bdata": "uh4AAOAVAQAAUwcA5DYJAKSLEgBM5ksA",
          "dtype": "i4"
         },
         "y": {
          "bdata": "AEYXVGGr8D+QqwQwUU3zP6O0lTWD1fM/4PNSEFT99D8x2lRlDZn1P8AvzqJG+/U/",
          "dtype": "f8"
         }
        },
        {
         "line": {
          "color": "rgb(251, 77, 0)"
         },
         "mode": "markers",
         "name": "074 - org",
         "type": "scatter",
         "x": [
          87107
         ],
         "y": [
          1.244369932531071
         ]
        },
        {
         "customdata": [
          [
           "s200_200_200_b200_3800_200_4800_-3800_0",
           -0.13804326124855246
          ],
          [
           "s100_100_100_b100_3900_100_4900_-3900_0",
           -0.017810608408409524
          ],
          [
           "s100_100_100_b0_4000_0_5000_-4000_0",
           0.0063792066811473765
          ],
          [
           "s50_50_50_b50_3950_50_4950_-3950_0",
           0.05593277994049623
          ],
          [
           "s50_50_25_b50_3950_50_4950_-3975_0",
           0.08485404020099638
          ],
          [
           "s25_25_25_b25_3975_25_4975_-3975_0",
           0.09763532834048588
          ]
         ],
         "hovertemplate": "Cells: %{x}<br>Entropy number: %{y}<br>Mapped: %{customdata[0]}<br>Rel Error: %{customdata[1]:.3f}<extra></extra>",
         "line": {
          "color": "rgb(251, 64, 0)"
         },
         "mode": "lines+markers",
         "name": "075",
         "opacity": 0.4,
         "type": "scatter",
         "x": {
          "bdata": "uh4AAOAVAQAAUwcA5DYJAKSLEgBM5ksA",
          "dtype": "i4"
         },
         "y": {
          "bdata": "MvHbJBGG7z/diGJU3/XxPxzhrGQcZ/I/c+mWXxVP8z+tGEyZeNbzP0doV7BNEvQ/",
          "dtype": "f8"
         }
        },
        {
         "line": {
          "color": "rgb(251, 64, 0)"
         },
         "mode": "markers",
         "name": "075 - org",
         "type": "scatter",
         "x": [
          97416
         ],
         "y": [
          1.1428828762208576
         ]
        },
        {
         "customdata": [
          [
           "s200_200_200_b200_3800_200_4800_-3800_0",
           -0.1610802242969091
          ],
          [
           "s100_100_100_b100_3900_100_4900_-3900_0",
           -0.01792119263618827
          ],
          [
           "s100_100_100_b0_4000_0_5000_-4000_0",
           0.005312148248878966
          ],
          [
           "s50_50_50_b50_3950_50_4950_-3950_0",
           0.07012275258544566
          ],
          [
           "s50_50_25_b50_3950_50_4950_-3975_0",
           0.10459584178034712
          ],
          [
           "s25_25_25_b25_3975_25_4975_-3975_0",
           0.11906032402973014
          ]
         ],
         "hovertemplate": "Cells: %{x}<br>Entropy number: %{y}<br>Mapped: %{customdata[0]}<br>Rel Error: %{customdata[1]:.3f}<extra></extra>",
         "line": {
          "color": "rgb(251, 51, 0)"
         },
         "mode": "lines+markers",
         "name": "076",
         "opacity": 0.4,
         "type": "scatter",
         "x": {
          "bdata": "uh4AAOAVAQAAUwcA5DYJAKSLEgBM5ksA",
          "dtype": "i4"
         },
         "y": {
          "bdata": "fSuWwgKf8T9Fd772zKD0PyTcQuy6HfU/ud7bPzp69j+k+oxVmDP3P6RjVHtfgfc/",
          "dtype": "f8"
         }
        },
        {
         "line": {
          "color": "rgb(251, 51, 0)"
         },
         "mode": "markers",
         "name": "076 - org",
         "type": "scatter",
         "x": [
          94167
         ],
         "y": [
          1.3127846350888595
         ]
        },
        {
         "customdata": [
          [
           "s200_200_200_b200_3800_200_4800_-3800_0",
           -0.16427134881812072
          ],
          [
           "s100_100_100_b100_3900_100_4900_-3900_0",
           -0.029285751818960513
          ],
          [
           "s100_100_100_b0_4000_0_5000_-4000_0",
           -0.001969835963925745
          ],
          [
           "s50_50_50_b50_3950_50_4950_-3950_0",
           0.05661649827047902
          ],
          [
           "s50_50_25_b50_3950_50_4950_-3975_0",
           0.08724948229898886
          ],
          [
           "s25_25_25_b25_3975_25_4975_-3975_0",
           0.10608924716218825
          ]
         ],
         "hovertemplate": "Cells: %{x}<br>Entropy number: %{y}<br>Mapped: %{customdata[0]}<br>Rel Error: %{customdata[1]:.3f}<extra></extra>",
         "line": {
          "color": "rgb(251, 38, 0)"
         },
         "mode": "lines+markers",
         "name": "077",
         "opacity": 0.4,
         "type": "scatter",
         "x": {
          "bdata": "uh4AAOAVAQAAUwcA5DYJAKSLEgBM5ksA",
          "dtype": "i4"
         },
         "y": {
          "bdata": "KDThWK5g8D/Dgh9b4AXzP6QZITDqjvM/Sr2xntS09D9jwRGQgk71P/M2RHkGrfU/",
          "dtype": "f8"
         }
        },
        {
         "line": {
          "color": "rgb(251, 38, 0)"
         },
         "mode": "markers",
         "name": "077 - org",
         "type": "scatter",
         "x": [
          88486
         ],
         "y": [
          1.2248039707459786
         ]
        },
        {
         "customdata": [
          [
           "s200_200_200_b200_3800_200_4800_-3800_0",
           -0.17003484882401634
          ],
          [
           "s100_100_100_b100_3900_100_4900_-3900_0",
           -0.02557351948285969
          ],
          [
           "s100_100_100_b0_4000_0_5000_-4000_0",
           0.004678376009067427
          ],
          [
           "s50_50_50_b50_3950_50_4950_-3950_0",
           0.07186463197478757
          ],
          [
           "s50_50_25_b50_3950_50_4950_-3975_0",
           0.10622092728030223
          ],
          [
           "s25_25_25_b25_3975_25_4975_-3975_0",
           0.12481843765083973
          ]
         ],
         "hovertemplate": "Cells: %{x}<br>Entropy number: %{y}<br>Mapped: %{customdata[0]}<br>Rel Error: %{customdata[1]:.3f}<extra></extra>",
         "line": {
          "color": "rgb(250, 26, 0)"
         },
         "mode": "lines+markers",
         "name": "078",
         "opacity": 0.4,
         "type": "scatter",
         "x": {
          "bdata": "uh4AAOAVAQAAUwcA5DYJAKSLEgBM5ksA",
          "dtype": "i4"
         },
         "y": {
          "bdata": "YFbyakMR8j8NovfCUjb1P6Qaxorp3vU/WxNpn1RV9z+vIvnuyhT4PzMAxwRvfPg/",
          "dtype": "f8"
         }
        },
        {
         "line": {
          "color": "rgb(250, 26, 0)"
         },
         "mode": "markers",
         "name": "078 - org",
         "type": "scatter",
         "x": [
          87057
         ],
         "y": [
          1.3605567458000516
         ]
        },
        {
         "customdata": [
          [
           "s200_200_200_b200_3800_200_4800_-3800_0",
           -0.15993427554329315
          ],
          [
           "s100_100_100_b100_3900_100_4900_-3900_0",
           -0.024390422102539583
          ],
          [
           "s100_100_100_b0_4000_0_5000_-4000_0",
           -0.0017815369754667163
          ],
          [
           "s50_50_50_b50_3950_50_4950_-3950_0",
           0.06249968844404696
          ],
          [
           "s50_50_25_b50_3950_50_4950_-3975_0",
           0.09512888010359964
          ],
          [
           "s25_25_25_b25_3975_25_4975_-3975_0",
           0.11295036046226221
          ]
         ],
         "hovertemplate": "Cells: %{x}<br>Entropy number: %{y}<br>Mapped: %{customdata[0]}<br>Rel Error: %{customdata[1]:.3f}<extra></extra>",
         "line": {
          "color": "rgb(250, 13, 0)"
         },
         "mode": "lines+markers",
         "name": "079",
         "opacity": 0.4,
         "type": "scatter",
         "x": {
          "bdata": "uh4AAOAVAQAAUwcA5DYJAKSLEgBM5ksA",
          "dtype": "i4"
         },
         "y": {
          "bdata": "a0koO5k88T8xZYJAkQT0P+SYqR5Te/Q/aQEDO/nM9T/s8YFFXXj2P/pmY5T51fY/",
          "dtype": "f8"
         }
        },
        {
         "line": {
          "color": "rgb(250, 13, 0)"
         },
         "mode": "markers",
         "name": "079 - org",
         "type": "scatter",
         "x": [
          90306
         ],
         "y": [
          1.2823931969674196
         ]
        },
        {
         "customdata": [
          [
           "s200_200_200_b200_3800_200_4800_-3800_0",
           -0.14104080165025032
          ],
          [
           "s100_100_100_b100_3900_100_4900_-3900_0",
           -0.01857799080062725
          ],
          [
           "s100_100_100_b0_4000_0_5000_-4000_0",
           0.002485336179786031
          ],
          [
           "s50_50_50_b50_3950_50_4950_-3950_0",
           0.05848944767127093
          ],
          [
           "s50_50_25_b50_3950_50_4950_-3975_0",
           0.08843258066273152
          ],
          [
           "s25_25_25_b25_3975_25_4975_-3975_0",
           0.10311374789220976
          ]
         ],
         "hovertemplate": "Cells: %{x}<br>Entropy number: %{y}<br>Mapped: %{customdata[0]}<br>Rel Error: %{customdata[1]:.3f}<extra></extra>",
         "line": {
          "color": "rgb(250, 0, 0)"
         },
         "mode": "lines+markers",
         "name": "080",
         "opacity": 0.4,
         "type": "scatter",
         "x": {
          "bdata": "uh4AAOAVAQAAUwcA5DYJAKSLEgBM5ksA",
          "dtype": "i4"
         },
         "y": {
          "bdata": "Sb2I5LQv8D/ctS3Men7yPy+cMWAX5PI/gdXUxkLy8z9BKEGmtYL0PylUj3OIyfQ/",
          "dtype": "f8"
         }
        },
        {
         "line": {
          "color": "rgb(250, 0, 0)"
         },
         "mode": "markers",
         "name": "080 - org",
         "type": "scatter",
         "x": [
          93655
         ],
         "y": [
          1.1777592277392905
         ]
        },
        {
         "customdata": [
          [
           "s200_200_200_b200_3800_200_4800_-3800_0",
           -0.11968244443831047
          ],
          [
           "s100_100_100_b100_3900_100_4900_-3900_0",
           0.0028935527183094516
          ],
          [
           "s100_100_100_b0_4000_0_5000_-4000_0",
           0.027377866134650524
          ],
          [
           "s50_50_50_b50_3950_50_4950_-3950_0",
           0.07967996002984538
          ],
          [
           "s50_50_25_b50_3950_50_4950_-3975_0",
           0.11332984907548346
          ],
          [
           "s25_25_25_b25_3975_25_4975_-3975_0",
           0.12178264833560426
          ]
         ],
         "hovertemplate": "Cells: %{x}<br>Entropy number: %{y}<br>Mapped: %{customdata[0]}<br>Rel Error: %{customdata[1]:.3f}<extra></extra>",
         "line": {
          "color": "rgb(244, 0, 0)"
         },
         "mode": "lines+markers",
         "name": "081",
         "opacity": 0.4,
         "type": "scatter",
         "x": {
          "bdata": "uh4AAOAVAQAAUwcA5DYJAKSLEgBM5ksA",
          "dtype": "i4"
         },
         "y": {
          "bdata": "UU25QQnB8D/b1OaPPhbzP2QTmhmJjfM/419c6FuM9D9p2YBjTjD1P0lnvU59WfU/",
          "dtype": "f8"
         }
        },
        {
         "line": {
          "color": "rgb(244, 0, 0)"
         },
         "mode": "markers",
         "name": "081 - org",
         "type": "scatter",
         "x": [
          106760
         ],
         "y": [
          1.1894889087678058
         ]
        },
        {
         "customdata": [
          [
           "s200_200_200_b200_3800_200_4800_-3800_0",
           -0.13550363496499399
          ],
          [
           "s100_100_100_b100_3900_100_4900_-3900_0",
           -0.018377624386402083
          ],
          [
           "s100_100_100_b0_4000_0_5000_-4000_0",
           0.005923250930184476
          ],
          [
           "s50_50_50_b50_3950_50_4950_-3950_0",
           0.053782399618790645
          ],
          [
           "s50_50_25_b50_3950_50_4950_-3975_0",
           0.08147599585113012
          ],
          [
           "s25_25_25_b25_3975_25_4975_-3975_0",
           0.09566586051478194
          ]
         ],
         "hovertemplate": "Cells: %{x}<br>Entropy number: %{y}<br>Mapped: %{customdata[0]}<br>Rel Error: %{customdata[1]:.3f}<extra></extra>",
         "line": {
          "color": "rgb(238, 0, 0)"
         },
         "mode": "lines+markers",
         "name": "082",
         "opacity": 0.4,
         "type": "scatter",
         "x": {
          "bdata": "uh4AAOAVAQAAUwcA5DYJAKSLEgBM5ksA",
          "dtype": "i4"
         },
         "y": {
          "bdata": "ASAUK17q7j+wUWRbUo3xP39Ker+O/PE/srduVKHX8j+9FgBmZVbzPzzga3JZl/M/",
          "dtype": "f8"
         }
        },
        {
         "line": {
          "color": "rgb(238, 0, 0)"
         },
         "mode": "markers",
         "name": "082 - org",
         "type": "scatter",
         "x": [
          93018
         ],
         "y": [
          1.1175401021135822
         ]
        },
        {
         "customdata": [
          [
           "s200_200_200_b200_3800_200_4800_-3800_0",
           -0.1315621218933156
          ],
          [
           "s100_100_100_b100_3900_100_4900_-3900_0",
           -0.011540467354399337
          ],
          [
           "s100_100_100_b0_4000_0_5000_-4000_0",
           0.013196288205057376
          ],
          [
           "s50_50_50_b50_3950_50_4950_-3950_0",
           0.06182232591566074
          ],
          [
           "s50_50_25_b50_3950_50_4950_-3975_0",
           0.09085643487513193
          ],
          [
           "s25_25_25_b25_3975_25_4975_-3975_0",
           0.10329305007997788
          ]
         ],
         "hovertemplate": "Cells: %{x}<br>Entropy number: %{y}<br>Mapped: %{customdata[0]}<br>Rel Error: %{customdata[1]:.3f}<extra></extra>",
         "line": {
          "color": "rgb(232, 0, 0)"
         },
         "mode": "lines+markers",
         "name": "083",
         "opacity": 0.4,
         "type": "scatter",
         "x": {
          "bdata": "uh4AAOAVAQAAUwcA5DYJAKSLEgBM5ksA",
          "dtype": "i4"
         },
         "y": {
          "bdata": "80jJQHZq7z/GQM1B++DxP3Z60uOFU/I/2IJUkq408z9RIGw7H7vzPzePs2+19PM/",
          "dtype": "f8"
         }
        },
        {
         "line": {
          "color": "rgb(232, 0, 0)"
         },
         "mode": "markers",
         "name": "083 - org",
         "type": "scatter",
         "x": [
          97854
         ],
         "y": [
          1.1304733076864877
         ]
        },
        {
         "customdata": [
          [
           "s200_200_200_b200_3800_200_4800_-3800_0",
           -0.13113163166672298
          ],
          [
           "s100_100_100_b100_3900_100_4900_-3900_0",
           -0.019739213593812
          ],
          [
           "s100_100_100_b0_4000_0_5000_-4000_0",
           0.007641227968468974
          ],
          [
           "s50_50_50_b50_3950_50_4950_-3950_0",
           0.04740315857537595
          ],
          [
           "s50_50_25_b50_3950_50_4950_-3975_0",
           0.07239141063807034
          ],
          [
           "s25_25_25_b25_3975_25_4975_-3975_0",
           0.08593742015153828
          ]
         ],
         "hovertemplate": "Cells: %{x}<br>Entropy number: %{y}<br>Mapped: %{customdata[0]}<br>Rel Error: %{customdata[1]:.3f}<extra></extra>",
         "line": {
          "color": "rgb(226, 0, 0)"
         },
         "mode": "lines+markers",
         "name": "084",
         "opacity": 0.4,
         "type": "scatter",
         "x": {
          "bdata": "uh4AAOAVAQAAUwcA5DYJAKSLEgBM5ksA",
          "dtype": "i4"
         },
         "y": {
          "bdata": "9TWNuPni7T+n1rE+7tvwP1wmvXl7VPE/GGn/NowD8j/4k/wkkXHyP04KJTc1rfI/",
          "dtype": "f8"
         }
        },
        {
         "line": {
          "color": "rgb(226, 0, 0)"
         },
         "mode": "markers",
         "name": "084 - org",
         "type": "scatter",
         "x": [
          91738
         ],
         "y": [
          1.0749119209197637
         ]
        },
        {
         "customdata": [
          [
           "s200_200_200_b200_3800_200_4800_-3800_0",
           -0.12015137136395874
          ],
          [
           "s100_100_100_b100_3900_100_4900_-3900_0",
           -0.009560725346381398
          ],
          [
           "s100_100_100_b0_4000_0_5000_-4000_0",
           0.012359628086009135
          ],
          [
           "s50_50_50_b50_3950_50_4950_-3950_0",
           0.05916822505575274
          ],
          [
           "s50_50_25_b50_3950_50_4950_-3975_0",
           0.08728766297560384
          ],
          [
           "s25_25_25_b25_3975_25_4975_-3975_0",
           0.0977000189747878
          ]
         ],
         "hovertemplate": "Cells: %{x}<br>Entropy number: %{y}<br>Mapped: %{customdata[0]}<br>Rel Error: %{customdata[1]:.3f}<extra></extra>",
         "line": {
          "color": "rgb(220, 0, 0)"
         },
         "mode": "lines+markers",
         "name": "085",
         "opacity": 0.4,
         "type": "scatter",
         "x": {
          "bdata": "uh4AAOAVAQAAUwcA5DYJAKSLEgBM5ksA",
          "dtype": "i4"
         },
         "y": {
          "bdata": "HgfpfW9Z7z/DgBloFqXxPxH9bzoPCfI/cfwl/one8j8DSm15yF7zP26cw0hFjvM/",
          "dtype": "f8"
         }
        },
        {
         "line": {
          "color": "rgb(220, 0, 0)"
         },
         "mode": "markers",
         "name": "085 - org",
         "type": "scatter",
         "x": [
          100769
         ],
         "y": [
          1.1134499610255737
         ]
        },
        {
         "customdata": [
          [
           "s200_200_200_b200_3800_200_4800_-3800_0",
           -0.1651663375562355
          ],
          [
           "s100_100_100_b100_3900_100_4900_-3900_0",
           -0.02858197339067846
          ],
          [
           "s100_100_100_b0_4000_0_5000_-4000_0",
           -0.0019360069792374048
          ],
          [
           "s50_50_50_b50_3950_50_4950_-3950_0",
           0.06213184613877029
          ],
          [
           "s50_50_25_b50_3950_50_4950_-3975_0",
           0.09475664172257389
          ],
          [
           "s25_25_25_b25_3975_25_4975_-3975_0",
           0.11449809952133405
          ]
         ],
         "hovertemplate": "Cells: %{x}<br>Entropy number: %{y}<br>Mapped: %{customdata[0]}<br>Rel Error: %{customdata[1]:.3f}<extra></extra>",
         "line": {
          "color": "rgb(213, 0, 0)"
         },
         "mode": "lines+markers",
         "name": "086",
         "opacity": 0.4,
         "type": "scatter",
         "x": {
          "bdata": "uh4AAOAVAQAAUwcA5DYJAKSLEgBM5ksA",
          "dtype": "i4"
         },
         "y": {
          "bdata": "6DEKZdNk8T8Z8SZ6Vj30P1i3ZDR2y/Q/q0kXoy8h9j+V/rwnM8/2P8Cukx9/OPc/",
          "dtype": "f8"
         }
        },
        {
         "line": {
          "color": "rgb(213, 0, 0)"
         },
         "mode": "markers",
         "name": "086 - org",
         "type": "scatter",
         "x": [
          88241
         ],
         "y": [
          1.3021943329419439
         ]
        },
        {
         "customdata": [
          [
           "s200_200_200_b200_3800_200_4800_-3800_0",
           -0.161748559572563
          ],
          [
           "s100_100_100_b100_3900_100_4900_-3900_0",
           -0.02623511699617129
          ],
          [
           "s100_100_100_b0_4000_0_5000_-4000_0",
           -0.00302628278004009
          ],
          [
           "s50_50_50_b50_3950_50_4950_-3950_0",
           0.06138290628091961
          ],
          [
           "s50_50_25_b50_3950_50_4950_-3975_0",
           0.09392707057401106
          ],
          [
           "s25_25_25_b25_3975_25_4975_-3975_0",
           0.11187002381373104
          ]
         ],
         "hovertemplate": "Cells: %{x}<br>Entropy number: %{y}<br>Mapped: %{customdata[0]}<br>Rel Error: %{customdata[1]:.3f}<extra></extra>",
         "line": {
          "color": "rgb(207, 0, 0)"
         },
         "mode": "lines+markers",
         "name": "087",
         "opacity": 0.4,
         "type": "scatter",
         "x": {
          "bdata": "uh4AAOAVAQAAUwcA5DYJAKSLEgBM5ksA",
          "dtype": "i4"
         },
         "y": {
          "bdata": "fYS44gA78T95i7NlGAT0P1U85T85fvQ/bRjmgifR9T+IXHsUaHz2P+/BIzbT2vY/",
          "dtype": "f8"
         }
        },
        {
         "line": {
          "color": "rgb(207, 0, 0)"
         },
         "mode": "markers",
         "name": "087 - org",
         "type": "scatter",
         "x": [
          89770
         ],
         "y": [
          1.2847041943960882
         ]
        },
        {
         "customdata": [
          [
           "s200_200_200_b200_3800_200_4800_-3800_0",
           -0.15738054986251665
          ],
          [
           "s100_100_100_b100_3900_100_4900_-3900_0",
           -0.02656468239449155
          ],
          [
           "s100_100_100_b0_4000_0_5000_-4000_0",
           -0.002833985142611105
          ],
          [
           "s50_50_50_b50_3950_50_4950_-3950_0",
           0.056255660196225035
          ],
          [
           "s50_50_25_b50_3950_50_4950_-3975_0",
           0.08670111396581191
          ],
          [
           "s25_25_25_b25_3975_25_4975_-3975_0",
           0.10586994495361797
          ]
         ],
         "hovertemplate": "Cells: %{x}<br>Entropy number: %{y}<br>Mapped: %{customdata[0]}<br>Rel Error: %{customdata[1]:.3f}<extra></extra>",
         "line": {
          "color": "rgb(201, 0, 0)"
         },
         "mode": "lines+markers",
         "name": "088",
         "opacity": 0.4,
         "type": "scatter",
         "x": {
          "bdata": "uh4AAOAVAQAAUwcA5DYJAKSLEgBM5ksA",
          "dtype": "i4"
         },
         "y": {
          "bdata": "DDel0lCW8D9K/BVcjSnzP8Nj+SUkofM/HM/rPevK9D8KHZSvWGT1P4ugBD/yxPU/",
          "dtype": "f8"
         }
        },
        {
         "line": {
          "color": "rgb(201, 0, 0)"
         },
         "mode": "markers",
         "name": "088 - org",
         "type": "scatter",
         "x": [
          87739
         ],
         "y": [
          1.2303278451990642
         ]
        },
        {
         "customdata": [
          [
           "s200_200_200_b200_3800_200_4800_-3800_0",
           -0.14989596008364334
          ],
          [
           "s100_100_100_b100_3900_100_4900_-3900_0",
           -0.022039383504862113
          ],
          [
           "s100_100_100_b0_4000_0_5000_-4000_0",
           0.0009907842726230582
          ],
          [
           "s50_50_50_b50_3950_50_4950_-3950_0",
           0.060581293784255086
          ],
          [
           "s50_50_25_b50_3950_50_4950_-3975_0",
           0.09137368154163758
          ],
          [
           "s25_25_25_b25_3975_25_4975_-3975_0",
           0.10914427012177516
          ]
         ],
         "hovertemplate": "Cells: %{x}<br>Entropy number: %{y}<br>Mapped: %{customdata[0]}<br>Rel Error: %{customdata[1]:.3f}<extra></extra>",
         "line": {
          "color": "rgb(195, 0, 0)"
         },
         "mode": "lines+markers",
         "name": "089",
         "opacity": 0.4,
         "type": "scatter",
         "x": {
          "bdata": "uh4AAOAVAQAAUwcA5DYJAKSLEgBM5ksA",
          "dtype": "i4"
         },
         "y": {
          "bdata": "J8b//Ex88D/QNj7gCffyPyiH5+heafM/djXGeDSR9D+EW0KCEir1P3lJGSVLgvU/",
          "dtype": "f8"
         }
        },
        {
         "line": {
          "color": "rgb(195, 0, 0)"
         },
         "mode": "markers",
         "name": "089 - org",
         "type": "scatter",
         "x": [
          89451
         ],
         "y": [
          1.2120244239100215
         ]
        },
        {
         "customdata": [
          [
           "s200_200_200_b200_3800_200_4800_-3800_0",
           -0.13485069551973347
          ],
          [
           "s100_100_100_b100_3900_100_4900_-3900_0",
           0.0008557010843946954
          ],
          [
           "s100_100_100_b0_4000_0_5000_-4000_0",
           0.01959385681421843
          ],
          [
           "s50_50_50_b50_3950_50_4950_-3950_0",
           0.08405557833614077
          ],
          [
           "s50_50_25_b50_3950_50_4950_-3975_0",
           0.11961826432621384
          ],
          [
           "s25_25_25_b25_3975_25_4975_-3975_0",
           0.12897933843494797
          ]
         ],
         "hovertemplate": "Cells: %{x}<br>Entropy number: %{y}<br>Mapped: %{customdata[0]}<br>Rel Error: %{customdata[1]:.3f}<extra></extra>",
         "line": {
          "color": "rgb(189, 0, 0)"
         },
         "mode": "lines+markers",
         "name": "090",
         "opacity": 0.4,
         "type": "scatter",
         "x": {
          "bdata": "uh4AAOAVAQAAUwcA5DYJAKSLEgBM5ksA",
          "dtype": "i4"
         },
         "y": {
          "bdata": "v4IrxL4/8j/IGj/WjBz1P2s48x+8gfU/MSoJ2NLd9j/iD/UO3J33P3GRXKNo0Pc/",
          "dtype": "f8"
         }
        },
        {
         "line": {
          "color": "rgb(189, 0, 0)"
         },
         "mode": "markers",
         "name": "090 - org",
         "type": "scatter",
         "x": [
          101524
         ],
         "y": [
          1.318342143233146
         ]
        },
        {
         "customdata": [
          [
           "s200_200_200_b200_3800_200_4800_-3800_0",
           -0.12179978663919953
          ],
          [
           "s100_100_100_b100_3900_100_4900_-3900_0",
           -0.008619948078459559
          ],
          [
           "s100_100_100_b0_4000_0_5000_-4000_0",
           0.01276407328541097
          ],
          [
           "s50_50_50_b50_3950_50_4950_-3950_0",
           0.06171405199842092
          ],
          [
           "s50_50_25_b50_3950_50_4950_-3975_0",
           0.09014575097349216
          ],
          [
           "s25_25_25_b25_3975_25_4975_-3975_0",
           0.1017733765651818
          ]
         ],
         "hovertemplate": "Cells: %{x}<br>Entropy number: %{y}<br>Mapped: %{customdata[0]}<br>Rel Error: %{customdata[1]:.3f}<extra></extra>",
         "line": {
          "color": "rgb(183, 0, 0)"
         },
         "mode": "lines+markers",
         "name": "091",
         "opacity": 0.4,
         "type": "scatter",
         "x": {
          "bdata": "uh4AAOAVAQAAUwcA5DYJAKSLEgBM5ksA",
          "dtype": "i4"
         },
         "y": {
          "bdata": "6JtHh/aV7z/mTzRqB9TxPzbNI5B5NvI/EnY5ldMX8z9Gn1fGt5rzP0vrq4Q/0PM/",
          "dtype": "f8"
         }
        },
        {
         "line": {
          "color": "rgb(183, 0, 0)"
         },
         "mode": "markers",
         "name": "091 - org",
         "type": "scatter",
         "x": [
          99732
         ],
         "y": [
          1.1239533029764983
         ]
        },
        {
         "customdata": [
          [
           "s200_200_200_b200_3800_200_4800_-3800_0",
           -0.15523056285450948
          ],
          [
           "s100_100_100_b100_3900_100_4900_-3900_0",
           -0.023754831041231085
          ],
          [
           "s100_100_100_b0_4000_0_5000_-4000_0",
           0.006160761423148349
          ],
          [
           "s50_50_50_b50_3950_50_4950_-3950_0",
           0.0624930926070053
          ],
          [
           "s50_50_25_b50_3950_50_4950_-3975_0",
           0.095484775943041
          ],
          [
           "s25_25_25_b25_3975_25_4975_-3975_0",
           0.11454889495032142
          ]
         ],
         "hovertemplate": "Cells: %{x}<br>Entropy number: %{y}<br>Mapped: %{customdata[0]}<br>Rel Error: %{customdata[1]:.3f}<extra></extra>",
         "line": {
          "color": "rgb(177, 0, 0)"
         },
         "mode": "lines+markers",
         "name": "092",
         "opacity": 0.4,
         "type": "scatter",
         "x": {
          "bdata": "uh4AAOAVAQAAUwcA5DYJAKSLEgBM5ksA",
          "dtype": "i4"
         },
         "y": {
          "bdata": "qp3CbIax8T8LFxhbenL0PwpUZHzhEvU/fm6WGu1A9j/Q9uyT0vH2Pxi0+p0KWPc/",
          "dtype": "f8"
         }
        },
        {
         "line": {
          "color": "rgb(177, 0, 0)"
         },
         "mode": "markers",
         "name": "092 - org",
         "type": "scatter",
         "x": [
          87047
         ],
         "y": [
          1.3090448583029535
         ]
        },
        {
         "customdata": [
          [
           "s200_200_200_b200_3800_200_4800_-3800_0",
           -0.16020311609708798
          ],
          [
           "s100_100_100_b100_3900_100_4900_-3900_0",
           -0.025226240910039305
          ],
          [
           "s100_100_100_b0_4000_0_5000_-4000_0",
           0.00020380423423845817
          ],
          [
           "s50_50_50_b50_3950_50_4950_-3950_0",
           0.06077129468169969
          ],
          [
           "s50_50_25_b50_3950_50_4950_-3975_0",
           0.09178633436208003
          ],
          [
           "s25_25_25_b25_3975_25_4975_-3975_0",
           0.11097125699790446
          ]
         ],
         "hovertemplate": "Cells: %{x}<br>Entropy number: %{y}<br>Mapped: %{customdata[0]}<br>Rel Error: %{customdata[1]:.3f}<extra></extra>",
         "line": {
          "color": "rgb(171, 0, 0)"
         },
         "mode": "lines+markers",
         "name": "093",
         "opacity": 0.4,
         "type": "scatter",
         "x": {
          "bdata": "uh4AAOAVAQAAUwcA5DYJAKSLEgBM5ksA",
          "dtype": "i4"
         },
         "y": {
          "bdata": "p9c7mGCZ8D9vnvtyXETzP06vSI0JxfM/YUatWYL39D/nVUwKcpT1P2PNjXOF9fU/",
          "dtype": "f8"
         }
        },
        {
         "line": {
          "color": "rgb(171, 0, 0)"
         },
         "mode": "markers",
         "name": "093 - org",
         "type": "scatter",
         "x": [
          87044
         ],
         "y": [
          1.235353042336675
         ]
        },
        {
         "customdata": [
          [
           "s200_200_200_b200_3800_200_4800_-3800_0",
           -0.11563318499753489
          ],
          [
           "s100_100_100_b100_3900_100_4900_-3900_0",
           -0.010715806419782137
          ],
          [
           "s100_100_100_b0_4000_0_5000_-4000_0",
           0.014983210207089214
          ],
          [
           "s50_50_50_b50_3950_50_4950_-3950_0",
           0.05242789647597577
          ],
          [
           "s50_50_25_b50_3950_50_4950_-3975_0",
           0.07813954350032144
          ],
          [
           "s25_25_25_b25_3975_25_4975_-3975_0",
           0.08801020713033371
          ]
         ],
         "hovertemplate": "Cells: %{x}<br>Entropy number: %{y}<br>Mapped: %{customdata[0]}<br>Rel Error: %{customdata[1]:.3f}<extra></extra>",
         "line": {
          "color": "rgb(165, 0, 0)"
         },
         "mode": "lines+markers",
         "name": "094",
         "opacity": 0.4,
         "type": "scatter",
         "x": {
          "bdata": "uh4AAOAVAQAAUwcA5DYJAKSLEgBM5ksA",
          "dtype": "i4"
         },
         "y": {
          "bdata": "at4Emvcj7j/Q62iBrdvwP4+U7KvJS/E/3nbJLCPv8T9klkdyTV/yP136KtBcivI/",
          "dtype": "f8"
         }
        },
        {
         "line": {
          "color": "rgb(165, 0, 0)"
         },
         "mode": "markers",
         "name": "094 - org",
         "type": "scatter",
         "x": [
          99386
         ],
         "y": [
          1.0650450815431478
         ]
        },
        {
         "customdata": [
          [
           "s200_200_200_b200_3800_200_4800_-3800_0",
           -0.16082318850878038
          ],
          [
           "s100_100_100_b100_3900_100_4900_-3900_0",
           -0.023344921917210968
          ],
          [
           "s100_100_100_b0_4000_0_5000_-4000_0",
           0.0021387945949072544
          ],
          [
           "s50_50_50_b50_3950_50_4950_-3950_0",
           0.06751090889876744
          ],
          [
           "s50_50_25_b50_3950_50_4950_-3975_0",
           0.10074184310150465
          ],
          [
           "s25_25_25_b25_3975_25_4975_-3975_0",
           0.11991338414791054
          ]
         ],
         "hovertemplate": "Cells: %{x}<br>Entropy number: %{y}<br>Mapped: %{customdata[0]}<br>Rel Error: %{customdata[1]:.3f}<extra></extra>",
         "line": {
          "color": "rgb(159, 0, 0)"
         },
         "mode": "lines+markers",
         "name": "095",
         "opacity": 0.4,
         "type": "scatter",
         "x": {
          "bdata": "uh4AAOAVAQAAUwcA5DYJAKSLEgBM5ksA",
          "dtype": "i4"
         },
         "y": {
          "bdata": "lA11XLNg8T+3DRN6gjn0PwEhJw2bwPQ/ArA8JSkb9j/g0JCoU8v2P4loTNP1MPc/",
          "dtype": "f8"
         }
        },
        {
         "line": {
          "color": "rgb(159, 0, 0)"
         },
         "mode": "markers",
         "name": "095 - org",
         "type": "scatter",
         "x": [
          86935
         ],
         "y": [
          1.294254723510141
         ]
        },
        {
         "customdata": [
          [
           "s200_200_200_b200_3800_200_4800_-3800_0",
           -0.16336235296826856
          ],
          [
           "s100_100_100_b100_3900_100_4900_-3900_0",
           -0.02912649142756939
          ],
          [
           "s100_100_100_b0_4000_0_5000_-4000_0",
           -0.002529033631144193
          ],
          [
           "s50_50_50_b50_3950_50_4950_-3950_0",
           0.05473727426873694
          ],
          [
           "s50_50_25_b50_3950_50_4950_-3975_0",
           0.08566855427243995
          ],
          [
           "s25_25_25_b25_3975_25_4975_-3975_0",
           0.10369406256213064
          ]
         ],
         "hovertemplate": "Cells: %{x}<br>Entropy number: %{y}<br>Mapped: %{customdata[0]}<br>Rel Error: %{customdata[1]:.3f}<extra></extra>",
         "line": {
          "color": "rgb(152, 0, 0)"
         },
         "mode": "lines+markers",
         "name": "096",
         "opacity": 0.4,
         "type": "scatter",
         "x": {
          "bdata": "uh4AAOAVAQAAUwcA5DYJAKSLEgBM5ksA",
          "dtype": "i4"
         },
         "y": {
          "bdata": "6lApEIxR8D+vKbdC0u/yP0s/uBihdPM/6+B6H5OS9D9Ja03FBS31PxwUsU4Hh/U/",
          "dtype": "f8"
         }
        },
        {
         "line": {
          "color": "rgb(152, 0, 0)"
         },
         "mode": "markers",
         "name": "096 - org",
         "type": "scatter",
         "x": [
          89248
         ],
         "y": [
          1.2190569822594741
         ]
        },
        {
         "customdata": [
          [
           "s200_200_200_b200_3800_200_4800_-3800_0",
           -0.15126518240659145
          ],
          [
           "s100_100_100_b100_3900_100_4900_-3900_0",
           -0.018394337376209893
          ],
          [
           "s100_100_100_b0_4000_0_5000_-4000_0",
           0.00354902634444447
          ],
          [
           "s50_50_50_b50_3950_50_4950_-3950_0",
           0.06578001688424284
          ],
          [
           "s50_50_25_b50_3950_50_4950_-3975_0",
           0.09789377852931828
          ],
          [
           "s25_25_25_b25_3975_25_4975_-3975_0",
           0.11376971822228805
          ]
         ],
         "hovertemplate": "Cells: %{x}<br>Entropy number: %{y}<br>Mapped: %{customdata[0]}<br>Rel Error: %{customdata[1]:.3f}<extra></extra>",
         "line": {
          "color": "rgb(146, 0, 0)"
         },
         "mode": "lines+markers",
         "name": "097",
         "opacity": 0.4,
         "type": "scatter",
         "x": {
          "bdata": "uh4AAOAVAQAAUwcA5DYJAKSLEgBM5ksA",
          "dtype": "i4"
         },
         "y": {
          "bdata": "RekJDD0A8T9kDwmwlqnzPxH25L4cGvQ/Lh82NzpZ9T/jgK5r5/31P+0JUH5QT/Y/",
          "dtype": "f8"
         }
        },
        {
         "line": {
          "color": "rgb(146, 0, 0)"
         },
         "mode": "markers",
         "name": "097 - org",
         "type": "scatter",
         "x": [
          93441
         ],
         "y": [
          1.2519319308637533
         ]
        },
        {
         "customdata": [
          [
           "s200_200_200_b200_3800_200_4800_-3800_0",
           -0.12191028583478612
          ],
          [
           "s100_100_100_b100_3900_100_4900_-3900_0",
           -0.016159720632652655
          ],
          [
           "s100_100_100_b0_4000_0_5000_-4000_0",
           0.00943870834950045
          ],
          [
           "s50_50_50_b50_3950_50_4950_-3950_0",
           0.04764539792328284
          ],
          [
           "s50_50_25_b50_3950_50_4950_-3975_0",
           0.07227820531349119
          ],
          [
           "s25_25_25_b25_3975_25_4975_-3975_0",
           0.08441872604655291
          ]
         ],
         "hovertemplate": "Cells: %{x}<br>Entropy number: %{y}<br>Mapped: %{customdata[0]}<br>Rel Error: %{customdata[1]:.3f}<extra></extra>",
         "line": {
          "color": "rgb(140, 0, 0)"
         },
         "mode": "lines+markers",
         "name": "098",
         "opacity": 0.4,
         "type": "scatter",
         "x": {
          "bdata": "uh4AAOAVAQAAUwcA5DYJAKSLEgBM5ksA",
          "dtype": "i4"
         },
         "y": {
          "bdata": "8PyQ81Le7T+/yYlXmLvwP9f6iKkMK/E/tb6bTWbR8T/ecXNUpjzyP7ZkTU2CcfI/",
          "dtype": "f8"
         }
        },
        {
         "line": {
          "color": "rgb(140, 0, 0)"
         },
         "mode": "markers",
         "name": "098 - org",
         "type": "scatter",
         "x": [
          93665
         ],
         "y": [
          1.062976992717685
         ]
        },
        {
         "customdata": [
          [
           "s200_200_200_b200_3800_200_4800_-3800_0",
           -0.15979154924790584
          ],
          [
           "s100_100_100_b100_3900_100_4900_-3900_0",
           -0.02314242726801708
          ],
          [
           "s100_100_100_b0_4000_0_5000_-4000_0",
           -0.00006671942436873
          ],
          [
           "s50_50_50_b50_3950_50_4950_-3950_0",
           0.06362302327148485
          ],
          [
           "s50_50_25_b50_3950_50_4950_-3975_0",
           0.09599214895279318
          ],
          [
           "s25_25_25_b25_3975_25_4975_-3975_0",
           0.11350268748683276
          ]
         ],
         "hovertemplate": "Cells: %{x}<br>Entropy number: %{y}<br>Mapped: %{customdata[0]}<br>Rel Error: %{customdata[1]:.3f}<extra></extra>",
         "line": {
          "color": "rgb(134, 0, 0)"
         },
         "mode": "lines+markers",
         "name": "099",
         "opacity": 0.4,
         "type": "scatter",
         "x": {
          "bdata": "uh4AAOAVAQAAUwcA5DYJAKSLEgBM5ksA",
          "dtype": "i4"
         },
         "y": {
          "bdata": "XLfu4Low8T8u19rGc/zzP5qpYqhQdfQ//joYjObC9T+8+ixvcGz2PxdcRk0nyPY/",
          "dtype": "f8"
         }
        },
        {
         "line": {
          "color": "rgb(134, 0, 0)"
         },
         "mode": "markers",
         "name": "099 - org",
         "type": "scatter",
         "x": [
          90354
         ],
         "y": [
          1.2787266902635104
         ]
        }
       ],
       "layout": {
        "showlegend": false,
        "template": {
         "data": {
          "bar": [
           {
            "error_x": {
             "color": "#2a3f5f"
            },
            "error_y": {
             "color": "#2a3f5f"
            },
            "marker": {
             "line": {
              "color": "#E5ECF6",
              "width": 0.5
             },
             "pattern": {
              "fillmode": "overlay",
              "size": 10,
              "solidity": 0.2
             }
            },
            "type": "bar"
           }
          ],
          "barpolar": [
           {
            "marker": {
             "line": {
              "color": "#E5ECF6",
              "width": 0.5
             },
             "pattern": {
              "fillmode": "overlay",
              "size": 10,
              "solidity": 0.2
             }
            },
            "type": "barpolar"
           }
          ],
          "carpet": [
           {
            "aaxis": {
             "endlinecolor": "#2a3f5f",
             "gridcolor": "white",
             "linecolor": "white",
             "minorgridcolor": "white",
             "startlinecolor": "#2a3f5f"
            },
            "baxis": {
             "endlinecolor": "#2a3f5f",
             "gridcolor": "white",
             "linecolor": "white",
             "minorgridcolor": "white",
             "startlinecolor": "#2a3f5f"
            },
            "type": "carpet"
           }
          ],
          "choropleth": [
           {
            "colorbar": {
             "outlinewidth": 0,
             "ticks": ""
            },
            "type": "choropleth"
           }
          ],
          "contour": [
           {
            "colorbar": {
             "outlinewidth": 0,
             "ticks": ""
            },
            "colorscale": [
             [
              0,
              "#0d0887"
             ],
             [
              0.1111111111111111,
              "#46039f"
             ],
             [
              0.2222222222222222,
              "#7201a8"
             ],
             [
              0.3333333333333333,
              "#9c179e"
             ],
             [
              0.4444444444444444,
              "#bd3786"
             ],
             [
              0.5555555555555556,
              "#d8576b"
             ],
             [
              0.6666666666666666,
              "#ed7953"
             ],
             [
              0.7777777777777778,
              "#fb9f3a"
             ],
             [
              0.8888888888888888,
              "#fdca26"
             ],
             [
              1,
              "#f0f921"
             ]
            ],
            "type": "contour"
           }
          ],
          "contourcarpet": [
           {
            "colorbar": {
             "outlinewidth": 0,
             "ticks": ""
            },
            "type": "contourcarpet"
           }
          ],
          "heatmap": [
           {
            "colorbar": {
             "outlinewidth": 0,
             "ticks": ""
            },
            "colorscale": [
             [
              0,
              "#0d0887"
             ],
             [
              0.1111111111111111,
              "#46039f"
             ],
             [
              0.2222222222222222,
              "#7201a8"
             ],
             [
              0.3333333333333333,
              "#9c179e"
             ],
             [
              0.4444444444444444,
              "#bd3786"
             ],
             [
              0.5555555555555556,
              "#d8576b"
             ],
             [
              0.6666666666666666,
              "#ed7953"
             ],
             [
              0.7777777777777778,
              "#fb9f3a"
             ],
             [
              0.8888888888888888,
              "#fdca26"
             ],
             [
              1,
              "#f0f921"
             ]
            ],
            "type": "heatmap"
           }
          ],
          "histogram": [
           {
            "marker": {
             "pattern": {
              "fillmode": "overlay",
              "size": 10,
              "solidity": 0.2
             }
            },
            "type": "histogram"
           }
          ],
          "histogram2d": [
           {
            "colorbar": {
             "outlinewidth": 0,
             "ticks": ""
            },
            "colorscale": [
             [
              0,
              "#0d0887"
             ],
             [
              0.1111111111111111,
              "#46039f"
             ],
             [
              0.2222222222222222,
              "#7201a8"
             ],
             [
              0.3333333333333333,
              "#9c179e"
             ],
             [
              0.4444444444444444,
              "#bd3786"
             ],
             [
              0.5555555555555556,
              "#d8576b"
             ],
             [
              0.6666666666666666,
              "#ed7953"
             ],
             [
              0.7777777777777778,
              "#fb9f3a"
             ],
             [
              0.8888888888888888,
              "#fdca26"
             ],
             [
              1,
              "#f0f921"
             ]
            ],
            "type": "histogram2d"
           }
          ],
          "histogram2dcontour": [
           {
            "colorbar": {
             "outlinewidth": 0,
             "ticks": ""
            },
            "colorscale": [
             [
              0,
              "#0d0887"
             ],
             [
              0.1111111111111111,
              "#46039f"
             ],
             [
              0.2222222222222222,
              "#7201a8"
             ],
             [
              0.3333333333333333,
              "#9c179e"
             ],
             [
              0.4444444444444444,
              "#bd3786"
             ],
             [
              0.5555555555555556,
              "#d8576b"
             ],
             [
              0.6666666666666666,
              "#ed7953"
             ],
             [
              0.7777777777777778,
              "#fb9f3a"
             ],
             [
              0.8888888888888888,
              "#fdca26"
             ],
             [
              1,
              "#f0f921"
             ]
            ],
            "type": "histogram2dcontour"
           }
          ],
          "mesh3d": [
           {
            "colorbar": {
             "outlinewidth": 0,
             "ticks": ""
            },
            "type": "mesh3d"
           }
          ],
          "parcoords": [
           {
            "line": {
             "colorbar": {
              "outlinewidth": 0,
              "ticks": ""
             }
            },
            "type": "parcoords"
           }
          ],
          "pie": [
           {
            "automargin": true,
            "type": "pie"
           }
          ],
          "scatter": [
           {
            "fillpattern": {
             "fillmode": "overlay",
             "size": 10,
             "solidity": 0.2
            },
            "type": "scatter"
           }
          ],
          "scatter3d": [
           {
            "line": {
             "colorbar": {
              "outlinewidth": 0,
              "ticks": ""
             }
            },
            "marker": {
             "colorbar": {
              "outlinewidth": 0,
              "ticks": ""
             }
            },
            "type": "scatter3d"
           }
          ],
          "scattercarpet": [
           {
            "marker": {
             "colorbar": {
              "outlinewidth": 0,
              "ticks": ""
             }
            },
            "type": "scattercarpet"
           }
          ],
          "scattergeo": [
           {
            "marker": {
             "colorbar": {
              "outlinewidth": 0,
              "ticks": ""
             }
            },
            "type": "scattergeo"
           }
          ],
          "scattergl": [
           {
            "marker": {
             "colorbar": {
              "outlinewidth": 0,
              "ticks": ""
             }
            },
            "type": "scattergl"
           }
          ],
          "scattermap": [
           {
            "marker": {
             "colorbar": {
              "outlinewidth": 0,
              "ticks": ""
             }
            },
            "type": "scattermap"
           }
          ],
          "scattermapbox": [
           {
            "marker": {
             "colorbar": {
              "outlinewidth": 0,
              "ticks": ""
             }
            },
            "type": "scattermapbox"
           }
          ],
          "scatterpolar": [
           {
            "marker": {
             "colorbar": {
              "outlinewidth": 0,
              "ticks": ""
             }
            },
            "type": "scatterpolar"
           }
          ],
          "scatterpolargl": [
           {
            "marker": {
             "colorbar": {
              "outlinewidth": 0,
              "ticks": ""
             }
            },
            "type": "scatterpolargl"
           }
          ],
          "scatterternary": [
           {
            "marker": {
             "colorbar": {
              "outlinewidth": 0,
              "ticks": ""
             }
            },
            "type": "scatterternary"
           }
          ],
          "surface": [
           {
            "colorbar": {
             "outlinewidth": 0,
             "ticks": ""
            },
            "colorscale": [
             [
              0,
              "#0d0887"
             ],
             [
              0.1111111111111111,
              "#46039f"
             ],
             [
              0.2222222222222222,
              "#7201a8"
             ],
             [
              0.3333333333333333,
              "#9c179e"
             ],
             [
              0.4444444444444444,
              "#bd3786"
             ],
             [
              0.5555555555555556,
              "#d8576b"
             ],
             [
              0.6666666666666666,
              "#ed7953"
             ],
             [
              0.7777777777777778,
              "#fb9f3a"
             ],
             [
              0.8888888888888888,
              "#fdca26"
             ],
             [
              1,
              "#f0f921"
             ]
            ],
            "type": "surface"
           }
          ],
          "table": [
           {
            "cells": {
             "fill": {
              "color": "#EBF0F8"
             },
             "line": {
              "color": "white"
             }
            },
            "header": {
             "fill": {
              "color": "#C8D4E3"
             },
             "line": {
              "color": "white"
             }
            },
            "type": "table"
           }
          ]
         },
         "layout": {
          "annotationdefaults": {
           "arrowcolor": "#2a3f5f",
           "arrowhead": 0,
           "arrowwidth": 1
          },
          "autotypenumbers": "strict",
          "coloraxis": {
           "colorbar": {
            "outlinewidth": 0,
            "ticks": ""
           }
          },
          "colorscale": {
           "diverging": [
            [
             0,
             "#8e0152"
            ],
            [
             0.1,
             "#c51b7d"
            ],
            [
             0.2,
             "#de77ae"
            ],
            [
             0.3,
             "#f1b6da"
            ],
            [
             0.4,
             "#fde0ef"
            ],
            [
             0.5,
             "#f7f7f7"
            ],
            [
             0.6,
             "#e6f5d0"
            ],
            [
             0.7,
             "#b8e186"
            ],
            [
             0.8,
             "#7fbc41"
            ],
            [
             0.9,
             "#4d9221"
            ],
            [
             1,
             "#276419"
            ]
           ],
           "sequential": [
            [
             0,
             "#0d0887"
            ],
            [
             0.1111111111111111,
             "#46039f"
            ],
            [
             0.2222222222222222,
             "#7201a8"
            ],
            [
             0.3333333333333333,
             "#9c179e"
            ],
            [
             0.4444444444444444,
             "#bd3786"
            ],
            [
             0.5555555555555556,
             "#d8576b"
            ],
            [
             0.6666666666666666,
             "#ed7953"
            ],
            [
             0.7777777777777778,
             "#fb9f3a"
            ],
            [
             0.8888888888888888,
             "#fdca26"
            ],
            [
             1,
             "#f0f921"
            ]
           ],
           "sequentialminus": [
            [
             0,
             "#0d0887"
            ],
            [
             0.1111111111111111,
             "#46039f"
            ],
            [
             0.2222222222222222,
             "#7201a8"
            ],
            [
             0.3333333333333333,
             "#9c179e"
            ],
            [
             0.4444444444444444,
             "#bd3786"
            ],
            [
             0.5555555555555556,
             "#d8576b"
            ],
            [
             0.6666666666666666,
             "#ed7953"
            ],
            [
             0.7777777777777778,
             "#fb9f3a"
            ],
            [
             0.8888888888888888,
             "#fdca26"
            ],
            [
             1,
             "#f0f921"
            ]
           ]
          },
          "colorway": [
           "#636efa",
           "#EF553B",
           "#00cc96",
           "#ab63fa",
           "#FFA15A",
           "#19d3f3",
           "#FF6692",
           "#B6E880",
           "#FF97FF",
           "#FECB52"
          ],
          "font": {
           "color": "#2a3f5f"
          },
          "geo": {
           "bgcolor": "white",
           "lakecolor": "white",
           "landcolor": "#E5ECF6",
           "showlakes": true,
           "showland": true,
           "subunitcolor": "white"
          },
          "hoverlabel": {
           "align": "left"
          },
          "hovermode": "closest",
          "mapbox": {
           "style": "light"
          },
          "paper_bgcolor": "white",
          "plot_bgcolor": "#E5ECF6",
          "polar": {
           "angularaxis": {
            "gridcolor": "white",
            "linecolor": "white",
            "ticks": ""
           },
           "bgcolor": "#E5ECF6",
           "radialaxis": {
            "gridcolor": "white",
            "linecolor": "white",
            "ticks": ""
           }
          },
          "scene": {
           "xaxis": {
            "backgroundcolor": "#E5ECF6",
            "gridcolor": "white",
            "gridwidth": 2,
            "linecolor": "white",
            "showbackground": true,
            "ticks": "",
            "zerolinecolor": "white"
           },
           "yaxis": {
            "backgroundcolor": "#E5ECF6",
            "gridcolor": "white",
            "gridwidth": 2,
            "linecolor": "white",
            "showbackground": true,
            "ticks": "",
            "zerolinecolor": "white"
           },
           "zaxis": {
            "backgroundcolor": "#E5ECF6",
            "gridcolor": "white",
            "gridwidth": 2,
            "linecolor": "white",
            "showbackground": true,
            "ticks": "",
            "zerolinecolor": "white"
           }
          },
          "shapedefaults": {
           "line": {
            "color": "#2a3f5f"
           }
          },
          "ternary": {
           "aaxis": {
            "gridcolor": "white",
            "linecolor": "white",
            "ticks": ""
           },
           "baxis": {
            "gridcolor": "white",
            "linecolor": "white",
            "ticks": ""
           },
           "bgcolor": "#E5ECF6",
           "caxis": {
            "gridcolor": "white",
            "linecolor": "white",
            "ticks": ""
           }
          },
          "title": {
           "x": 0.05
          },
          "xaxis": {
           "automargin": true,
           "gridcolor": "white",
           "linecolor": "white",
           "ticks": "",
           "title": {
            "standoff": 15
           },
           "zerolinecolor": "white",
           "zerolinewidth": 2
          },
          "yaxis": {
           "automargin": true,
           "gridcolor": "white",
           "linecolor": "white",
           "ticks": "",
           "title": {
            "standoff": 15
           },
           "zerolinecolor": "white",
           "zerolinewidth": 2
          }
         }
        },
        "title": {
         "text": "Entropy number vs cell size - Snapshots - Parameter Space 03"
        },
        "xaxis": {
         "title": {
          "text": "n_cells [-]"
         }
        },
        "yaxis": {
         "title": {
          "text": "Entropy number"
         }
        }
       }
      }
     },
     "metadata": {},
     "output_type": "display_data"
    }
   ],
   "source": [
    "fig = go.Figure()\n",
    "\n",
    "squarred_errors = np.zeros((N_SNAPS, len(mapped_folders)))\n",
    "for idx_snap in range(N_SNAPS):\n",
    "    entropies = []\n",
    "    cell_sizes = []\n",
    "    mapped_meshes = []\n",
    "\n",
    "\n",
    "    for key, value in mapped_dic.items():\n",
    "        entropies.append(value[\"entropy_num\"][idx_snap])\n",
    "        cell_sizes.append(value[\"n_cells\"])\n",
    "        mapped_meshes.append(key)\n",
    "        \n",
    "    sorted_indices = np.argsort(np.array(cell_sizes))\n",
    "    entropies = np.array(entropies)[sorted_indices]\n",
    "    cell_sizes = np.array(cell_sizes)[sorted_indices]\n",
    "    mapped_meshes_sorted = [mapped_meshes[i] for i in sorted_indices]\n",
    "    \n",
    "    original_n_cells = original_dic[\"original\"][\"n_cells\"][idx_snap]\n",
    "    original_entropy_num = original_dic[\"original\"][\"entropy_num\"][idx_snap]\n",
    "    \n",
    "    rel_error = (entropies - original_entropy_num) / original_entropy_num\n",
    "    squarred_errors[idx_snap, :] = (entropies - original_entropy_num)**2\n",
    "    \n",
    "    mapped_meshes_sorted = np.array(mapped_meshes_sorted, dtype=object)\n",
    "    # Stack into 2D array: shape (n_points, 2)\n",
    "    custom_data = np.column_stack((mapped_meshes_sorted, rel_error))\n",
    "    \n",
    "    fig.add_trace(go.Scatter(x=cell_sizes,\n",
    "                             y=entropies,\n",
    "                                mode='lines + markers',\n",
    "                                name=f\"{idx_snap:03d}\",\n",
    "                                opacity=0.4,#\n",
    "                                customdata=custom_data,\n",
    "                                hovertemplate=\n",
    "                                    'Cells: %{x}<br>'\n",
    "                                    'Entropy number: %{y}<br>'\n",
    "                                    'Mapped: %{customdata[0]}<br>'\n",
    "                                    'Rel Error: %{customdata[1]:.3f}<extra></extra>',\n",
    "                                line=dict(color=colors[idx_snap])\n",
    "                ))\n",
    "    \n",
    "    fig.add_trace(go.Scatter(x=[original_n_cells],\n",
    "                             y=[original_entropy_num],\n",
    "                             mode='markers',\n",
    "                             name=f\"{idx_snap:03d} - org\",\n",
    "                            #  opacity=0.4,\n",
    "                             line=dict(color=colors[idx_snap] ) #\"black\")\n",
    "                ))\n",
    "    \n",
    "fig.update_layout(\n",
    "    # xaxis_tickformat='.2e',  # Format x-axis numbers to 2 decimal places\n",
    "    # yaxis_tickformat='.2f',  # Format y-axis numbers to 2 decimal places\n",
    "    showlegend=False,        # Hide the legend\n",
    "    title=f\"Entropy number vs cell size - Snapshots - Parameter Space {PARAMETER_SPACE}\",       # Optional: add a title\n",
    "    xaxis_title=\"n_cells [-]\",    # Optional: label for x-axis\n",
    "    yaxis_title=\"Entropy number\"     # Optional: label for y-axis\n",
    ")\n",
    "\n",
    "fig.write_image(mapped_root / \"Training_Diff_EntropyGeneration.png\")\n",
    "fig.show()"
   ]
  },
  {
   "cell_type": "markdown",
   "id": "0eb4c70d",
   "metadata": {},
   "source": [
    "### Errors"
   ]
  },
  {
   "cell_type": "code",
   "execution_count": 13,
   "id": "a2299ce7",
   "metadata": {},
   "outputs": [
    {
     "name": "stdout",
     "output_type": "stream",
     "text": [
      "s200_200_200_b200_3800_200_4800_-3800_0 - MSE :    3.2e-02\n",
      "s100_100_100_b100_3900_100_4900_-3900_0 - MSE :    6.4e-04\n",
      "s100_100_100_b0_4000_0_5000_-4000_0 - MSE :    1.8e-04\n",
      "s50_50_50_b50_3950_50_4950_-3950_0 - MSE :    6.1e-03\n",
      "s50_50_25_b50_3950_50_4950_-3975_0 - MSE :    1.3e-02\n",
      "s25_25_25_b25_3975_25_4975_-3975_0 - MSE :    1.8e-02\n"
     ]
    }
   ],
   "source": [
    "mses = np.sum(squarred_errors, axis=0)/N_SNAPS\n",
    "meses_dic = {mesh: mse for (mse, mesh) in zip(mses, mapped_meshes_sorted) }\n",
    "for key, val in meses_dic.items():\n",
    "    print(f\"{key} - MSE : {val:>10.1e}\")"
   ]
  }
 ],
 "metadata": {
  "kernelspec": {
   "display_name": ".venv",
   "language": "python",
   "name": "python3"
  },
  "language_info": {
   "codemirror_mode": {
    "name": "ipython",
    "version": 3
   },
   "file_extension": ".py",
   "mimetype": "text/x-python",
   "name": "python",
   "nbconvert_exporter": "python",
   "pygments_lexer": "ipython3",
   "version": "3.12.4"
  }
 },
 "nbformat": 4,
 "nbformat_minor": 5
}
