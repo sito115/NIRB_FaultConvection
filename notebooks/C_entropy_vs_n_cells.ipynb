{
 "cells": [
  {
   "cell_type": "code",
   "execution_count": 1,
   "id": "28d43c53",
   "metadata": {},
   "outputs": [],
   "source": [
    "import numpy as np\n",
    "import plotly.express as px\n",
    "import plotly.graph_objects as go\n",
    "from pathlib import Path\n",
    "import pandas as pd\n",
    "import pint\n",
    "import sys\n",
    "from typing import List"
   ]
  },
  {
   "cell_type": "code",
   "execution_count": 2,
   "id": "fef9fc7b",
   "metadata": {},
   "outputs": [],
   "source": [
    "sys.path.append(str(Path.cwd().parent))"
   ]
  },
  {
   "cell_type": "code",
   "execution_count": 3,
   "id": "b248ebe4",
   "metadata": {},
   "outputs": [],
   "source": [
    "from scr.utils import safe_parse_quantity\n",
    "from scr.comsol_module.comsol_classes import COMSOL_VTU\n",
    "from scr.comsol_module.entropy import calculate_S_therm"
   ]
  },
  {
   "cell_type": "code",
   "execution_count": 4,
   "id": "0bc51ba2",
   "metadata": {},
   "outputs": [
    {
     "data": {
      "text/plain": [
       "PosixPath('/Users/thomassimader/Documents/NIRB')"
      ]
     },
     "execution_count": 4,
     "metadata": {},
     "output_type": "execute_result"
    }
   ],
   "source": [
    "ROOT = Path().cwd().parent\n",
    "PARAMETER_SPACE = \"03\"\n",
    "ROOT"
   ]
  },
  {
   "cell_type": "code",
   "execution_count": 5,
   "id": "22eef90e",
   "metadata": {},
   "outputs": [],
   "source": [
    "mapped_root = ROOT / \"data\" / PARAMETER_SPACE / \"TrainingMapped\"\n",
    "assert mapped_root.exists()\n",
    "mapped_folders : List[Path]= [folder for folder in mapped_root.iterdir() if not folder.is_file()]"
   ]
  },
  {
   "cell_type": "code",
   "execution_count": 6,
   "id": "0151230d",
   "metadata": {},
   "outputs": [],
   "source": [
    "mapped_dic = {}\n",
    "for folder in mapped_folders:\n",
    "    npy_file = folder / \"Exports\" / \"Training_temperatures.npy\"\n",
    "    vti_file = [file for file in folder.rglob(\"*.vt*\")][0]\n",
    "    mapped_dic[folder.stem] = {\"npy\": npy_file, \"vti\" : vti_file, \"entropy_num\" : [], \"entropy_gen\" : []}"
   ]
  },
  {
   "cell_type": "code",
   "execution_count": 7,
   "id": "2c5f4a2f",
   "metadata": {},
   "outputs": [],
   "source": [
    "joblib_file = ROOT / \"data\" / PARAMETER_SPACE / \"Training_Original\" / \"Training_temperatures.joblib\"\n",
    "assert joblib_file.exists()\n",
    "vtu_file = sorted([file for file in joblib_file.parent.rglob(\"*.vtu\")])\n",
    "original_dic = {}\n",
    "original_dic[\"original\"] = {\"joblib\": joblib_file, \"vtu\" : vtu_file, \"entropy_num\" : [], \"entropy_gen\" : []}\n",
    "original_dic[\"original\"][\"n_cells\"] = []"
   ]
  },
  {
   "cell_type": "markdown",
   "id": "5cb1764b",
   "metadata": {},
   "source": [
    "## Calculate entropy number"
   ]
  },
  {
   "cell_type": "code",
   "execution_count": 8,
   "id": "b06b1401",
   "metadata": {},
   "outputs": [
    {
     "name": "stdout",
     "output_type": "stream",
     "text": [
      "100\n"
     ]
    }
   ],
   "source": [
    "param_folder = ROOT / \"data\" / PARAMETER_SPACE / \"Exports\"\n",
    "assert param_folder.exists()\n",
    "param_files = sorted([path for path in param_folder.rglob(\"Training*.csv\")])\n",
    "print(len(param_files))"
   ]
  },
  {
   "cell_type": "markdown",
   "id": "2c70c96f",
   "metadata": {},
   "source": [
    "### Mapped Meshes for different sizes"
   ]
  },
  {
   "cell_type": "code",
   "execution_count": 10,
   "id": "06993e8e",
   "metadata": {},
   "outputs": [],
   "source": [
    "for idx, (key, values) in enumerate(mapped_dic.items()):\n",
    "    param_df = pd.read_csv(param_files[idx], index_col = 0)\n",
    "    ureg = pint.UnitRegistry()\n",
    "    param_df['quantity_pint'] = param_df[param_df.columns[-1]].apply(lambda x : safe_parse_quantity(x, ureg))\n",
    "    lambda_therm = (1 - param_df.loc['host_phi', \"quantity_pint\"]).magnitude * param_df.loc['host_lambda', \"quantity_pint\"].magnitude + \\\n",
    "                param_df.loc['host_phi', \"quantity_pint\"].magnitude * (4.2)\n",
    "    T0 = 0.5 * (param_df.loc[\"T_h\", \"quantity_pint\"] + param_df.loc[\"T_c\", \"quantity_pint\"])\n",
    "    delta_T = (param_df.loc['T_h', \"quantity_pint\"]  - param_df.loc[\"T_c\", \"quantity_pint\"])\n",
    "    comsol_data = COMSOL_VTU(values[\"vti\"])\n",
    "    mapped_dic[key][\"n_cells\"] = comsol_data.mesh.n_cells\n",
    "    temperatures = np.load(values[\"npy\"])\n",
    "    for temperature in temperatures:\n",
    "        comsol_data.mesh.point_data[\"temp_field\"] = temperature[0]\n",
    "        cell_mesh = comsol_data.mesh.point_data_to_cell_data()\n",
    "        cell_mesh.cell_data.keys()\n",
    "        temp_grad = cell_mesh.compute_derivative(\"temp_field\").cell_data[\"gradient\"]\n",
    "        s0 = calculate_S_therm(lambda_therm,\n",
    "                        T0.magnitude,\n",
    "                        temp_grad)\n",
    "        s0_total = np.sum(s0 * comsol_data.mesh.compute_cell_sizes()[\"Volume\"])\n",
    "        L = comsol_data.mesh.bounds.z_max - comsol_data.mesh.bounds.z_min\n",
    "        s0_characteristic = (lambda_therm * delta_T.magnitude**2) / (L**2 * T0.magnitude**2)\n",
    "        entropy_number = s0_total / s0_characteristic / comsol_data.mesh.volume \n",
    "        mapped_dic[key][\"entropy_gen\"].append(s0_total)\n",
    "        mapped_dic[key][\"entropy_num\"].append(entropy_number)\n"
   ]
  },
  {
   "cell_type": "markdown",
   "id": "3f7af65e",
   "metadata": {},
   "source": [
    "### Original COMSOL data"
   ]
  },
  {
   "cell_type": "code",
   "execution_count": 11,
   "id": "fca35eb3",
   "metadata": {},
   "outputs": [],
   "source": [
    "for idx, file in enumerate(original_dic[\"original\"][\"vtu\"]):\n",
    "    param_df = pd.read_csv(param_files[idx], index_col = 0)\n",
    "    ureg = pint.UnitRegistry()\n",
    "    param_df['quantity_pint'] = param_df[param_df.columns[-1]].apply(lambda x : safe_parse_quantity(x, ureg))\n",
    "    lambda_therm = (1 - param_df.loc['host_phi', \"quantity_pint\"]).magnitude * param_df.loc['host_lambda', \"quantity_pint\"].magnitude + \\\n",
    "                param_df.loc['host_phi', \"quantity_pint\"].magnitude * (4.2)\n",
    "    T0 = 0.5 * (param_df.loc[\"T_h\", \"quantity_pint\"] + (20 + 273.15) * ureg.kelvin)\n",
    "    delta_T = (param_df.loc['T_h', \"quantity_pint\"] - (20 + 273.15) * ureg.kelvin)\n",
    "    comsol_data = COMSOL_VTU(file)\n",
    "    temp_field = comsol_data.format_field(\"Temperature\", -1)\n",
    "    cell_mesh = comsol_data.mesh.point_data_to_cell_data()\n",
    "    cell_mesh.cell_data.keys()\n",
    "    temp_grad = cell_mesh.compute_derivative(temp_field).cell_data[\"gradient\"]\n",
    "    s0 = calculate_S_therm(lambda_therm,\n",
    "                    T0.magnitude,\n",
    "                    temp_grad)\n",
    "    s0_total = np.sum(s0 * comsol_data.mesh.compute_cell_sizes()[\"Volume\"])\n",
    "    L = comsol_data.mesh.bounds.z_max - comsol_data.mesh.bounds.z_min\n",
    "    s0_characteristic = (lambda_therm * delta_T.magnitude**2) / (L**2 * T0.magnitude**2)\n",
    "    entropy_number = s0_total / s0_characteristic / comsol_data.mesh.volume \n",
    "    original_dic[\"original\"][\"entropy_gen\"].append(s0_total)\n",
    "    original_dic[\"original\"][\"entropy_num\"].append(entropy_number)\n",
    "    original_dic[\"original\"][\"n_cells\"].append(comsol_data.mesh.n_cells)"
   ]
  },
  {
   "cell_type": "markdown",
   "id": "e3fa87c0",
   "metadata": {},
   "source": [
    "## Plot"
   ]
  },
  {
   "cell_type": "code",
   "execution_count": 12,
   "id": "8b4a527e",
   "metadata": {},
   "outputs": [
    {
     "name": "stdout",
     "output_type": "stream",
     "text": [
      "100\n"
     ]
    }
   ],
   "source": [
    "N_SNAPS = len(original_dic[\"original\"][\"vtu\"])\n",
    "colors = px.colors.sample_colorscale(\"jet\", [n/(N_SNAPS) for n in range(N_SNAPS)])\n",
    "print(N_SNAPS)"
   ]
  },
  {
   "cell_type": "code",
   "execution_count": 27,
   "id": "b8eb251a",
   "metadata": {},
   "outputs": [
    {
     "data": {
      "application/vnd.plotly.v1+json": {
       "config": {
        "plotlyServerURL": "https://plot.ly"
       },
       "data": [
        {
         "customdata": [
          [
           "s200_200_200_b0_4000_0_5000_-4000_-0",
           -9.329811458444548,
           0
          ],
          [
           "Original Comsol Mesh",
           0,
           0
          ],
          [
           "s100_100_100_b0_4000_0_5000_-4000_-0",
           0.3662252786086598,
           0
          ],
          [
           "s50_50_50_b0_4000_0_5000_-4000_-0",
           6.592226143208861,
           0
          ],
          [
           "s25_25_25_b0_4000_0_5000_-4000_-0",
           10.273291481266105,
           0
          ]
         ],
         "hovertemplate": "Cells: %{x}<br>Entropy number: %{y}<br>Snap Idx: %{customdata[2]:03d}<br>Mapped: %{customdata[0]}<br>Rel Error: %{customdata[1]:.3f}%<extra></extra>",
         "line": {
          "color": "rgb(0, 0, 131)"
         },
         "mode": "lines+markers",
         "name": "000",
         "opacity": 0.4,
         "type": "scatter",
         "x": {
          "bdata": "YOoAAHp2AQAAUwcAAJg6AADA1AE=",
          "dtype": "i4"
         },
         "y": {
          "bdata": "et94BnfN8D/+fioaFIjyP612mdlzmfI/5wsFpNHA8z/NABKYc2/0Pw==",
          "dtype": "f8"
         }
        },
        {
         "customdata": [
          [
           "s200_200_200_b0_4000_0_5000_-4000_-0",
           -8.922852249534348,
           1
          ],
          [
           "Original Comsol Mesh",
           0,
           1
          ],
          [
           "s100_100_100_b0_4000_0_5000_-4000_-0",
           0.6490608574096575,
           1
          ],
          [
           "s50_50_50_b0_4000_0_5000_-4000_-0",
           6.850644992389372,
           1
          ],
          [
           "s25_25_25_b0_4000_0_5000_-4000_-0",
           10.457844828427515,
           1
          ]
         ],
         "hovertemplate": "Cells: %{x}<br>Entropy number: %{y}<br>Snap Idx: %{customdata[2]:03d}<br>Mapped: %{customdata[0]}<br>Rel Error: %{customdata[1]:.3f}%<extra></extra>",
         "line": {
          "color": "rgb(0, 3, 133)"
         },
         "mode": "lines+markers",
         "name": "001",
         "opacity": 0.4,
         "type": "scatter",
         "x": {
          "bdata": "YOoAAMZ4AQAAUwcAAJg6AADA1AE=",
          "dtype": "i4"
         },
         "y": {
          "bdata": "bNWUCpm28D/IQ/PuxVnyP8BdyrtDePI/n7E415mb8z9yzA4bD0X0Pw==",
          "dtype": "f8"
         }
        },
        {
         "customdata": [
          [
           "s200_200_200_b0_4000_0_5000_-4000_-0",
           -11.840387455803512,
           2
          ],
          [
           "Original Comsol Mesh",
           0,
           2
          ],
          [
           "s100_100_100_b0_4000_0_5000_-4000_-0",
           -0.21404463720036745,
           2
          ],
          [
           "s50_50_50_b0_4000_0_5000_-4000_-0",
           7.061725931034172,
           2
          ],
          [
           "s25_25_25_b0_4000_0_5000_-4000_-0",
           11.301328167788343,
           2
          ]
         ],
         "hovertemplate": "Cells: %{x}<br>Entropy number: %{y}<br>Snap Idx: %{customdata[2]:03d}<br>Mapped: %{customdata[0]}<br>Rel Error: %{customdata[1]:.3f}%<extra></extra>",
         "line": {
          "color": "rgb(0, 6, 135)"
         },
         "mode": "lines+markers",
         "name": "002",
         "opacity": 0.4,
         "type": "scatter",
         "x": {
          "bdata": "YOoAAI9YAQAAUwcAAJg6AADA1AE=",
          "dtype": "i4"
         },
         "y": {
          "bdata": "nitlEq118T8QBbxE+83zP0H2hCYhw/M/fYXRfAI09T+A76zu9Ar2Pw==",
          "dtype": "f8"
         }
        },
        {
         "customdata": [
          [
           "s200_200_200_b0_4000_0_5000_-4000_-0",
           -9.436429721524092,
           3
          ],
          [
           "Original Comsol Mesh",
           0,
           3
          ],
          [
           "s100_100_100_b0_4000_0_5000_-4000_-0",
           1.5183978982184838,
           3
          ],
          [
           "s50_50_50_b0_4000_0_5000_-4000_-0",
           8.350103364227365,
           3
          ],
          [
           "s25_25_25_b0_4000_0_5000_-4000_-0",
           12.222664361612658,
           3
          ]
         ],
         "hovertemplate": "Cells: %{x}<br>Entropy number: %{y}<br>Snap Idx: %{customdata[2]:03d}<br>Mapped: %{customdata[0]}<br>Rel Error: %{customdata[1]:.3f}%<extra></extra>",
         "line": {
          "color": "rgb(0, 9, 137)"
         },
         "mode": "lines+markers",
         "name": "003",
         "opacity": 0.4,
         "type": "scatter",
         "x": {
          "bdata": "YOoAAMGRAQAAUwcAAJg6AADA1AE=",
          "dtype": "i4"
         },
         "y": {
          "bdata": "4++fDe398T+Q9uo32d3zP4sgxGkSK/Q/slN1qYWG9T8NdR6GeUv2Pw==",
          "dtype": "f8"
         }
        },
        {
         "customdata": [
          [
           "s200_200_200_b0_4000_0_5000_-4000_-0",
           -8.893445681922543,
           4
          ],
          [
           "Original Comsol Mesh",
           0,
           4
          ],
          [
           "s100_100_100_b0_4000_0_5000_-4000_-0",
           0.5897597790145878,
           4
          ],
          [
           "s50_50_50_b0_4000_0_5000_-4000_-0",
           6.788096211342102,
           4
          ],
          [
           "s25_25_25_b0_4000_0_5000_-4000_-0",
           10.428431028476794,
           4
          ]
         ],
         "hovertemplate": "Cells: %{x}<br>Entropy number: %{y}<br>Snap Idx: %{customdata[2]:03d}<br>Mapped: %{customdata[0]}<br>Rel Error: %{customdata[1]:.3f}%<extra></extra>",
         "line": {
          "color": "rgb(0, 12, 139)"
         },
         "mode": "lines+markers",
         "name": "004",
         "opacity": 0.4,
         "type": "scatter",
         "x": {
          "bdata": "YOoAAKViAQAAUwcAAJg6AADA1AE=",
          "dtype": "i4"
         },
         "y": {
          "bdata": "qVlya1+C8D+5MN4M7x7yPxHf09dKOvI/LaaEPtRZ8z/NjTipswL0Pw==",
          "dtype": "f8"
         }
        },
        {
         "customdata": [
          [
           "s200_200_200_b0_4000_0_5000_-4000_-0",
           -7.293765576877252,
           5
          ],
          [
           "Original Comsol Mesh",
           0,
           5
          ],
          [
           "s100_100_100_b0_4000_0_5000_-4000_-0",
           0.6991221283832543,
           5
          ],
          [
           "s50_50_50_b0_4000_0_5000_-4000_-0",
           5.938965508164992,
           5
          ],
          [
           "s25_25_25_b0_4000_0_5000_-4000_-0",
           9.040237484564273,
           5
          ]
         ],
         "hovertemplate": "Cells: %{x}<br>Entropy number: %{y}<br>Snap Idx: %{customdata[2]:03d}<br>Mapped: %{customdata[0]}<br>Rel Error: %{customdata[1]:.3f}%<extra></extra>",
         "line": {
          "color": "rgb(0, 15, 141)"
         },
         "mode": "lines+markers",
         "name": "005",
         "opacity": 0.4,
         "type": "scatter",
         "x": {
          "bdata": "YOoAAKJpAQAAUwcAAJg6AADA1AE=",
          "dtype": "i4"
         },
         "y": {
          "bdata": "6XPjZX3V7z880sh5VCvxP1ukeQcPSvE/mP0++10w8j/hWOyhrbjyPw==",
          "dtype": "f8"
         }
        },
        {
         "customdata": [
          [
           "s200_200_200_b0_4000_0_5000_-4000_-0",
           -12.38414622497938,
           6
          ],
          [
           "Original Comsol Mesh",
           0,
           6
          ],
          [
           "s100_100_100_b0_4000_0_5000_-4000_-0",
           0.4371703053077288,
           6
          ],
          [
           "s50_50_50_b0_4000_0_5000_-4000_-0",
           8.329306776567709,
           6
          ],
          [
           "s25_25_25_b0_4000_0_5000_-4000_-0",
           12.861762956846299,
           6
          ]
         ],
         "hovertemplate": "Cells: %{x}<br>Entropy number: %{y}<br>Snap Idx: %{customdata[2]:03d}<br>Mapped: %{customdata[0]}<br>Rel Error: %{customdata[1]:.3f}%<extra></extra>",
         "line": {
          "color": "rgb(0, 18, 143)"
         },
         "mode": "lines+markers",
         "name": "006",
         "opacity": 0.4,
         "type": "scatter",
         "x": {
          "bdata": "YOoAALZaAQAAUwcAAJg6AADA1AE=",
          "dtype": "i4"
         },
         "y": {
          "bdata": "MpovJmYG8z/TaYtpz7b1P5p4hZYcz/U/AB4sENKF9z9ojxhtxYH4Pw==",
          "dtype": "f8"
         }
        },
        {
         "customdata": [
          [
           "s200_200_200_b0_4000_0_5000_-4000_-0",
           -10.724246670790647,
           7
          ],
          [
           "Original Comsol Mesh",
           0,
           7
          ],
          [
           "s100_100_100_b0_4000_0_5000_-4000_-0",
           0.015588103910852615,
           7
          ],
          [
           "s50_50_50_b0_4000_0_5000_-4000_-0",
           7.348457655658061,
           7
          ],
          [
           "s25_25_25_b0_4000_0_5000_-4000_-0",
           11.61126176593457,
           7
          ]
         ],
         "hovertemplate": "Cells: %{x}<br>Entropy number: %{y}<br>Snap Idx: %{customdata[2]:03d}<br>Mapped: %{customdata[0]}<br>Rel Error: %{customdata[1]:.3f}%<extra></extra>",
         "line": {
          "color": "rgb(0, 21, 145)"
         },
         "mode": "lines+markers",
         "name": "007",
         "opacity": 0.4,
         "type": "scatter",
         "x": {
          "bdata": "YOoAAGBUAQAAUwcAAJg6AADA1AE=",
          "dtype": "i4"
         },
         "y": {
          "bdata": "zxMMhaK28T9pyJ2RW9fzPypKa0Mm2PM/CPEwtZxM9T9ZtACdIiX2Pw==",
          "dtype": "f8"
         }
        },
        {
         "customdata": [
          [
           "s200_200_200_b0_4000_0_5000_-4000_-0",
           -8.609659457837452,
           8
          ],
          [
           "Original Comsol Mesh",
           0,
           8
          ],
          [
           "s100_100_100_b0_4000_0_5000_-4000_-0",
           1.0145965291596146,
           8
          ],
          [
           "s50_50_50_b0_4000_0_5000_-4000_-0",
           7.185179471650372,
           8
          ],
          [
           "s25_25_25_b0_4000_0_5000_-4000_-0",
           10.766095793300737,
           8
          ]
         ],
         "hovertemplate": "Cells: %{x}<br>Entropy number: %{y}<br>Snap Idx: %{customdata[2]:03d}<br>Mapped: %{customdata[0]}<br>Rel Error: %{customdata[1]:.3f}%<extra></extra>",
         "line": {
          "color": "rgb(0, 24, 147)"
         },
         "mode": "lines+markers",
         "name": "008",
         "opacity": 0.4,
         "type": "scatter",
         "x": {
          "bdata": "YOoAABd8AQAAUwcAAJg6AADA1AE=",
          "dtype": "i4"
         },
         "y": {
          "bdata": "nF89uBmw8D/HGM+GkELyP9cDPBb+cfI/5A61vnCS8z9kT+Mo1Tn0Pw==",
          "dtype": "f8"
         }
        },
        {
         "customdata": [
          [
           "s200_200_200_b0_4000_0_5000_-4000_-0",
           -12.418727049941628,
           9
          ],
          [
           "Original Comsol Mesh",
           0,
           9
          ],
          [
           "s100_100_100_b0_4000_0_5000_-4000_-0",
           -0.32588740016668566,
           9
          ],
          [
           "s50_50_50_b0_4000_0_5000_-4000_-0",
           7.309116212962088,
           9
          ],
          [
           "s25_25_25_b0_4000_0_5000_-4000_-0",
           11.70372166495537,
           9
          ]
         ],
         "hovertemplate": "Cells: %{x}<br>Entropy number: %{y}<br>Snap Idx: %{customdata[2]:03d}<br>Mapped: %{customdata[0]}<br>Rel Error: %{customdata[1]:.3f}%<extra></extra>",
         "line": {
          "color": "rgb(0, 27, 149)"
         },
         "mode": "lines+markers",
         "name": "009",
         "opacity": 0.4,
         "type": "scatter",
         "x": {
          "bdata": "YOoAAEJfAQAAUwcAAJg6AADA1AE=",
          "dtype": "i4"
         },
         "y": {
          "bdata": "ISXc3M4F8j/TOVbGB5T0P2BGTc7cgvQ/pFZDqxMV9j8nfegClvz2Pw==",
          "dtype": "f8"
         }
        },
        {
         "customdata": [
          [
           "s200_200_200_b0_4000_0_5000_-4000_-0",
           -9.636716864293476,
           10
          ],
          [
           "Original Comsol Mesh",
           0,
           10
          ],
          [
           "s100_100_100_b0_4000_0_5000_-4000_-0",
           1.0437816148367676,
           10
          ],
          [
           "s50_50_50_b0_4000_0_5000_-4000_-0",
           7.7891086444438455,
           10
          ],
          [
           "s25_25_25_b0_4000_0_5000_-4000_-0",
           11.681556434947485,
           10
          ]
         ],
         "hovertemplate": "Cells: %{x}<br>Entropy number: %{y}<br>Snap Idx: %{customdata[2]:03d}<br>Mapped: %{customdata[0]}<br>Rel Error: %{customdata[1]:.3f}%<extra></extra>",
         "line": {
          "color": "rgb(0, 30, 150)"
         },
         "mode": "lines+markers",
         "name": "010",
         "opacity": 0.4,
         "type": "scatter",
         "x": {
          "bdata": "YOoAAGtUAQAAUwcAAJg6AADA1AE=",
          "dtype": "i4"
         },
         "y": {
          "bdata": "w1438Xzk8T/9mMJq+MzzPwMgux3hAfQ/oPMBScxX9T91ajviGh32Pw==",
          "dtype": "f8"
         }
        },
        {
         "customdata": [
          [
           "s200_200_200_b0_4000_0_5000_-4000_-0",
           -6.620949162316638,
           11
          ],
          [
           "Original Comsol Mesh",
           0,
           11
          ],
          [
           "s100_100_100_b0_4000_0_5000_-4000_-0",
           1.1417574571123068,
           11
          ],
          [
           "s50_50_50_b0_4000_0_5000_-4000_-0",
           6.187742697515542,
           11
          ],
          [
           "s25_25_25_b0_4000_0_5000_-4000_-0",
           9.171435731251615,
           11
          ]
         ],
         "hovertemplate": "Cells: %{x}<br>Entropy number: %{y}<br>Snap Idx: %{customdata[2]:03d}<br>Mapped: %{customdata[0]}<br>Rel Error: %{customdata[1]:.3f}%<extra></extra>",
         "line": {
          "color": "rgb(0, 33, 152)"
         },
         "mode": "lines+markers",
         "name": "011",
         "opacity": 0.4,
         "type": "scatter",
         "x": {
          "bdata": "YOoAABhxAQAAUwcAAJg6AADA1AE=",
          "dtype": "i4"
         },
         "y": {
          "bdata": "ltZLATio7z+SXIuRa/PwP1/Wf0H3JPE/ZnExru7/8T/MSFhGaIHyPw==",
          "dtype": "f8"
         }
        },
        {
         "customdata": [
          [
           "s200_200_200_b0_4000_0_5000_-4000_-0",
           -6.422394365084684,
           12
          ],
          [
           "Original Comsol Mesh",
           0,
           12
          ],
          [
           "s100_100_100_b0_4000_0_5000_-4000_-0",
           1.9928538925557362,
           12
          ],
          [
           "s50_50_50_b0_4000_0_5000_-4000_-0",
           7.340831077149968,
           12
          ],
          [
           "s25_25_25_b0_4000_0_5000_-4000_-0",
           10.44444187912565,
           12
          ]
         ],
         "hovertemplate": "Cells: %{x}<br>Entropy number: %{y}<br>Snap Idx: %{customdata[2]:03d}<br>Mapped: %{customdata[0]}<br>Rel Error: %{customdata[1]:.3f}%<extra></extra>",
         "line": {
          "color": "rgb(0, 36, 154)"
         },
         "mode": "lines+markers",
         "name": "012",
         "opacity": 0.4,
         "type": "scatter",
         "x": {
          "bdata": "YOoAAJmUAQAAUwcAAJg6AADA1AE=",
          "dtype": "i4"
         },
         "y": {
          "bdata": "5zeNmqRI8D9f9o2FvmbxPw5VH1GFv/E/kWnhbMKt8j+L8h50BDjzPw==",
          "dtype": "f8"
         }
        },
        {
         "customdata": [
          [
           "s200_200_200_b0_4000_0_5000_-4000_-0",
           -11.369722370973646,
           13
          ],
          [
           "Original Comsol Mesh",
           0,
           13
          ],
          [
           "s100_100_100_b0_4000_0_5000_-4000_-0",
           0.8713850074799128,
           13
          ],
          [
           "s50_50_50_b0_4000_0_5000_-4000_-0",
           8.494713555197524,
           13
          ],
          [
           "s25_25_25_b0_4000_0_5000_-4000_-0",
           12.789819339611471,
           13
          ]
         ],
         "hovertemplate": "Cells: %{x}<br>Entropy number: %{y}<br>Snap Idx: %{customdata[2]:03d}<br>Mapped: %{customdata[0]}<br>Rel Error: %{customdata[1]:.3f}%<extra></extra>",
         "line": {
          "color": "rgb(0, 39, 156)"
         },
         "mode": "lines+markers",
         "name": "013",
         "opacity": 0.4,
         "type": "scatter",
         "x": {
          "bdata": "YOoAANV0AQAAUwcAAJg6AADA1AE=",
          "dtype": "i4"
         },
         "y": {
          "bdata": "7GjXn3548z/KdD0m6/f1P24rWa7sKPY/dV3EgafV9z9atKAjNcf4Pw==",
          "dtype": "f8"
         }
        },
        {
         "customdata": [
          [
           "s200_200_200_b0_4000_0_5000_-4000_-0",
           -8.079531594443354,
           14
          ],
          [
           "Original Comsol Mesh",
           0,
           14
          ],
          [
           "s100_100_100_b0_4000_0_5000_-4000_-0",
           2.365416052572813,
           14
          ],
          [
           "s50_50_50_b0_4000_0_5000_-4000_-0",
           8.786703694065338,
           14
          ],
          [
           "s25_25_25_b0_4000_0_5000_-4000_-0",
           12.450411423959682,
           14
          ]
         ],
         "hovertemplate": "Cells: %{x}<br>Entropy number: %{y}<br>Snap Idx: %{customdata[2]:03d}<br>Mapped: %{customdata[0]}<br>Rel Error: %{customdata[1]:.3f}%<extra></extra>",
         "line": {
          "color": "rgb(0, 42, 158)"
         },
         "mode": "lines+markers",
         "name": "014",
         "opacity": 0.4,
         "type": "scatter",
         "x": {
          "bdata": "YOoAAHKeAQAAUwcAAJg6AADA1AE=",
          "dtype": "i4"
         },
         "y": {
          "bdata": "06NFQMut8T/FAmb6mDvzP8LJvqYPsPM/c8otMTjs9D8fgs4Qm6D1Pw==",
          "dtype": "f8"
         }
        },
        {
         "customdata": [
          [
           "s200_200_200_b0_4000_0_5000_-4000_-0",
           -7.327243282030532,
           15
          ],
          [
           "Original Comsol Mesh",
           0,
           15
          ],
          [
           "s100_100_100_b0_4000_0_5000_-4000_-0",
           0.9153383965818789,
           15
          ],
          [
           "s50_50_50_b0_4000_0_5000_-4000_-0",
           6.291259991749619,
           15
          ],
          [
           "s25_25_25_b0_4000_0_5000_-4000_-0",
           9.475613364381754,
           15
          ]
         ],
         "hovertemplate": "Cells: %{x}<br>Entropy number: %{y}<br>Snap Idx: %{customdata[2]:03d}<br>Mapped: %{customdata[0]}<br>Rel Error: %{customdata[1]:.3f}%<extra></extra>",
         "line": {
          "color": "rgb(0, 45, 160)"
         },
         "mode": "lines+markers",
         "name": "015",
         "opacity": 0.4,
         "type": "scatter",
         "x": {
          "bdata": "YOoAADFoAQAAUwcAAJg6AADA1AE=",
          "dtype": "i4"
         },
         "y": {
          "bdata": "PfvOMSDn7z/eiUTVbjbxP9UhZEfEXvE/d1syMadL8j/RQYYw+NfyPw==",
          "dtype": "f8"
         }
        },
        {
         "customdata": [
          [
           "s200_200_200_b0_4000_0_5000_-4000_-0",
           -7.477617918464877,
           16
          ],
          [
           "Original Comsol Mesh",
           0,
           16
          ],
          [
           "s100_100_100_b0_4000_0_5000_-4000_-0",
           1.2143506856008977,
           16
          ],
          [
           "s50_50_50_b0_4000_0_5000_-4000_-0",
           6.745045214962773,
           16
          ],
          [
           "s25_25_25_b0_4000_0_5000_-4000_-0",
           9.960656263477302,
           16
          ]
         ],
         "hovertemplate": "Cells: %{x}<br>Entropy number: %{y}<br>Snap Idx: %{customdata[2]:03d}<br>Mapped: %{customdata[0]}<br>Rel Error: %{customdata[1]:.3f}%<extra></extra>",
         "line": {
          "color": "rgb(0, 48, 162)"
         },
         "mode": "lines+markers",
         "name": "016",
         "opacity": 0.4,
         "type": "scatter",
         "x": {
          "bdata": "YOoAAESKAQAAUwcAAJg6AADA1AE=",
          "dtype": "i4"
         },
         "y": {
          "bdata": "oMdpzr9f8D99V4pJhrLxP4gRAYCK6fE/B+QMSRzk8j+B5dZmy3XzPw==",
          "dtype": "f8"
         }
        },
        {
         "customdata": [
          [
           "s200_200_200_b0_4000_0_5000_-4000_-0",
           -11.132598677558054,
           17
          ],
          [
           "Original Comsol Mesh",
           0,
           17
          ],
          [
           "s100_100_100_b0_4000_0_5000_-4000_-0",
           0.1850700941907358,
           17
          ],
          [
           "s50_50_50_b0_4000_0_5000_-4000_-0",
           7.44912477109096,
           17
          ],
          [
           "s25_25_25_b0_4000_0_5000_-4000_-0",
           11.661592817482497,
           17
          ]
         ],
         "hovertemplate": "Cells: %{x}<br>Entropy number: %{y}<br>Snap Idx: %{customdata[2]:03d}<br>Mapped: %{customdata[0]}<br>Rel Error: %{customdata[1]:.3f}%<extra></extra>",
         "line": {
          "color": "rgb(0, 51, 164)"
         },
         "mode": "lines+markers",
         "name": "017",
         "opacity": 0.4,
         "type": "scatter",
         "x": {
          "bdata": "YOoAABBaAQAAUwcAAJg6AADA1AE=",
          "dtype": "i4"
         },
         "y": {
          "bdata": "af5PcJ5T8T+H0u8fR3/zP/8mu+ODiPM/GsyXlxXz9D8XTb4fV8X1Pw==",
          "dtype": "f8"
         }
        },
        {
         "customdata": [
          [
           "s200_200_200_b0_4000_0_5000_-4000_-0",
           -6.030922027692729,
           18
          ],
          [
           "Original Comsol Mesh",
           0,
           18
          ],
          [
           "s100_100_100_b0_4000_0_5000_-4000_-0",
           1.997397901690301,
           18
          ],
          [
           "s50_50_50_b0_4000_0_5000_-4000_-0",
           7.1225242495929875,
           18
          ],
          [
           "s25_25_25_b0_4000_0_5000_-4000_-0",
           10.080961947323072,
           18
          ]
         ],
         "hovertemplate": "Cells: %{x}<br>Entropy number: %{y}<br>Snap Idx: %{customdata[2]:03d}<br>Mapped: %{customdata[0]}<br>Rel Error: %{customdata[1]:.3f}%<extra></extra>",
         "line": {
          "color": "rgb(0, 54, 166)"
         },
         "mode": "lines+markers",
         "name": "018",
         "opacity": 0.4,
         "type": "scatter",
         "x": {
          "bdata": "YOoAAKmbAQAAUwcAAJg6AADA1AE=",
          "dtype": "i4"
         },
         "y": {
          "bdata": "9nWeR6Mv8D98meRtkznxP2QLgxWnkfE/0kBkJaZz8j9b0iWDGvbyPw==",
          "dtype": "f8"
         }
        },
        {
         "customdata": [
          [
           "s200_200_200_b0_4000_0_5000_-4000_-0",
           -11.585003488649996,
           19
          ],
          [
           "Original Comsol Mesh",
           0,
           19
          ],
          [
           "s100_100_100_b0_4000_0_5000_-4000_-0",
           0.44322793703594116,
           19
          ],
          [
           "s50_50_50_b0_4000_0_5000_-4000_-0",
           7.887841089012617,
           19
          ],
          [
           "s25_25_25_b0_4000_0_5000_-4000_-0",
           12.153958801467104,
           19
          ]
         ],
         "hovertemplate": "Cells: %{x}<br>Entropy number: %{y}<br>Snap Idx: %{customdata[2]:03d}<br>Mapped: %{customdata[0]}<br>Rel Error: %{customdata[1]:.3f}%<extra></extra>",
         "line": {
          "color": "rgb(0, 57, 168)"
         },
         "mode": "lines+markers",
         "name": "019",
         "opacity": 0.4,
         "type": "scatter",
         "x": {
          "bdata": "YOoAAEFyAQAAUwcAAJg6AADA1AE=",
          "dtype": "i4"
         },
         "y": {
          "bdata": "45kiOmqH8j8K9oGi8fT0P8akeAq5DPU/jx4vRB+c9j+SYXo4/4D3Pw==",
          "dtype": "f8"
         }
        },
        {
         "customdata": [
          [
           "s200_200_200_b0_4000_0_5000_-4000_-0",
           -8.860386427344395,
           20
          ],
          [
           "Original Comsol Mesh",
           0,
           20
          ],
          [
           "s100_100_100_b0_4000_0_5000_-4000_-0",
           0.32275240698304575,
           20
          ],
          [
           "s50_50_50_b0_4000_0_5000_-4000_-0",
           6.186932981793421,
           20
          ],
          [
           "s25_25_25_b0_4000_0_5000_-4000_-0",
           9.705352044820772,
           20
          ]
         ],
         "hovertemplate": "Cells: %{x}<br>Entropy number: %{y}<br>Snap Idx: %{customdata[2]:03d}<br>Mapped: %{customdata[0]}<br>Rel Error: %{customdata[1]:.3f}%<extra></extra>",
         "line": {
          "color": "rgb(0, 60, 170)"
         },
         "mode": "lines+markers",
         "name": "020",
         "opacity": 0.4,
         "type": "scatter",
         "x": {
          "bdata": "YOoAAAVXAQAAUwcAAJg6AADA1AE=",
          "dtype": "i4"
         },
         "y": {
          "bdata": "ROhCyfg08D/vVX9QU8jxPyMt56cE1/E/Axehivnh8j+B6EwIJYLzPw==",
          "dtype": "f8"
         }
        },
        {
         "customdata": [
          [
           "s200_200_200_b0_4000_0_5000_-4000_-0",
           -11.071743640876651,
           21
          ],
          [
           "Original Comsol Mesh",
           0,
           21
          ],
          [
           "s100_100_100_b0_4000_0_5000_-4000_-0",
           -0.0872314886700918,
           21
          ],
          [
           "s50_50_50_b0_4000_0_5000_-4000_-0",
           7.027545683458785,
           21
          ],
          [
           "s25_25_25_b0_4000_0_5000_-4000_-0",
           11.167828246510853,
           21
          ]
         ],
         "hovertemplate": "Cells: %{x}<br>Entropy number: %{y}<br>Snap Idx: %{customdata[2]:03d}<br>Mapped: %{customdata[0]}<br>Rel Error: %{customdata[1]:.3f}%<extra></extra>",
         "line": {
          "color": "rgb(0, 70, 174)"
         },
         "mode": "lines+markers",
         "name": "021",
         "opacity": 0.4,
         "type": "scatter",
         "x": {
          "bdata": "YOoAAE1bAQAAUwcAAJg6AADA1AE=",
          "dtype": "i4"
         },
         "y": {
          "bdata": "JVjz4qdL8T+vHkdf6HLzP1nT8ISQbvM/Bqbgfs3Q9D9icXWN8Z71Pw==",
          "dtype": "f8"
         }
        },
        {
         "customdata": [
          [
           "s200_200_200_b0_4000_0_5000_-4000_-0",
           -7.916899181066854,
           22
          ],
          [
           "Original Comsol Mesh",
           0,
           22
          ],
          [
           "s100_100_100_b0_4000_0_5000_-4000_-0",
           2.4225605117285838,
           22
          ],
          [
           "s50_50_50_b0_4000_0_5000_-4000_-0",
           8.846999091375404,
           22
          ],
          [
           "s25_25_25_b0_4000_0_5000_-4000_-0",
           12.476089876832733,
           22
          ]
         ],
         "hovertemplate": "Cells: %{x}<br>Entropy number: %{y}<br>Snap Idx: %{customdata[2]:03d}<br>Mapped: %{customdata[0]}<br>Rel Error: %{customdata[1]:.3f}%<extra></extra>",
         "line": {
          "color": "rgb(0, 79, 178)"
         },
         "mode": "lines+markers",
         "name": "022",
         "opacity": 0.4,
         "type": "scatter",
         "x": {
          "bdata": "YOoAAO2fAQAAUwcAAJg6AADA1AE=",
          "dtype": "i4"
         },
         "y": {
          "bdata": "6iIgHFSh8T8NOthZXSXzP1jzymkanPM/lAi/A/3W9D8TRfkB3Yj1Pw==",
          "dtype": "f8"
         }
        },
        {
         "customdata": [
          [
           "s200_200_200_b0_4000_0_5000_-4000_-0",
           -6.309433052736062,
           23
          ],
          [
           "Original Comsol Mesh",
           0,
           23
          ],
          [
           "s100_100_100_b0_4000_0_5000_-4000_-0",
           2.034398987982359,
           23
          ],
          [
           "s50_50_50_b0_4000_0_5000_-4000_-0",
           7.336760381248096,
           23
          ],
          [
           "s25_25_25_b0_4000_0_5000_-4000_-0",
           10.409539159651317,
           23
          ]
         ],
         "hovertemplate": "Cells: %{x}<br>Entropy number: %{y}<br>Snap Idx: %{customdata[2]:03d}<br>Mapped: %{customdata[0]}<br>Rel Error: %{customdata[1]:.3f}%<extra></extra>",
         "line": {
          "color": "rgb(1, 89, 183)"
         },
         "mode": "lines+markers",
         "name": "023",
         "opacity": 0.4,
         "type": "scatter",
         "x": {
          "bdata": "YOoAAM+TAQAAUwcAAJg6AADA1AE=",
          "dtype": "i4"
         },
         "y": {
          "bdata": "xDzFCOdA8D8/Eq6GHFnxP3b1bRt2s/E/a0RM9PGe8j8IDD4haSfzPw==",
          "dtype": "f8"
         }
        },
        {
         "customdata": [
          [
           "s200_200_200_b0_4000_0_5000_-4000_-0",
           -12.660662046248921,
           24
          ],
          [
           "Original Comsol Mesh",
           0,
           24
          ],
          [
           "s100_100_100_b0_4000_0_5000_-4000_-0",
           -0.25625710579776523,
           24
          ],
          [
           "s50_50_50_b0_4000_0_5000_-4000_-0",
           7.498358250683382,
           24
          ],
          [
           "s25_25_25_b0_4000_0_5000_-4000_-0",
           11.936552583558232,
           24
          ]
         ],
         "hovertemplate": "Cells: %{x}<br>Entropy number: %{y}<br>Snap Idx: %{customdata[2]:03d}<br>Mapped: %{customdata[0]}<br>Rel Error: %{customdata[1]:.3f}%<extra></extra>",
         "line": {
          "color": "rgb(1, 99, 187)"
         },
         "mode": "lines+markers",
         "name": "024",
         "opacity": 0.4,
         "type": "scatter",
         "x": {
          "bdata": "YOoAALRZAQAAUwcAAJg6AADA1AE=",
          "dtype": "i4"
         },
         "y": {
          "bdata": "ihuRKqoV8j9c44xBx7T0PzZ5Wtkxp/Q/Isb26z9C9j/Re5Evgi33Pw==",
          "dtype": "f8"
         }
        },
        {
         "customdata": [
          [
           "s200_200_200_b0_4000_0_5000_-4000_-0",
           -12.359800850373585,
           25
          ],
          [
           "Original Comsol Mesh",
           0,
           25
          ],
          [
           "s100_100_100_b0_4000_0_5000_-4000_-0",
           0.25495524570523415,
           25
          ],
          [
           "s50_50_50_b0_4000_0_5000_-4000_-0",
           8.117135699809694,
           25
          ],
          [
           "s25_25_25_b0_4000_0_5000_-4000_-0",
           12.581820515726013,
           25
          ]
         ],
         "hovertemplate": "Cells: %{x}<br>Entropy number: %{y}<br>Snap Idx: %{customdata[2]:03d}<br>Mapped: %{customdata[0]}<br>Rel Error: %{customdata[1]:.3f}%<extra></extra>",
         "line": {
          "color": "rgb(1, 109, 191)"
         },
         "mode": "lines+markers",
         "name": "025",
         "opacity": 0.4,
         "type": "scatter",
         "x": {
          "bdata": "YOoAAONRAQAAUwcAAJg6AADA1AE=",
          "dtype": "i4"
         },
         "y": {
          "bdata": "VIsVXZZD8j88CNH0+tb0P5EVLQWV5PQ/a7OyIweI9j8WjCnLN3b3Pw==",
          "dtype": "f8"
         }
        },
        {
         "customdata": [
          [
           "s200_200_200_b0_4000_0_5000_-4000_-0",
           -11.974395626083297,
           26
          ],
          [
           "Original Comsol Mesh",
           0,
           26
          ],
          [
           "s100_100_100_b0_4000_0_5000_-4000_-0",
           0.511662288553243,
           26
          ],
          [
           "s50_50_50_b0_4000_0_5000_-4000_-0",
           8.49641938853508,
           26
          ],
          [
           "s25_25_25_b0_4000_0_5000_-4000_-0",
           12.994777286277943,
           26
          ]
         ],
         "hovertemplate": "Cells: %{x}<br>Entropy number: %{y}<br>Snap Idx: %{customdata[2]:03d}<br>Mapped: %{customdata[0]}<br>Rel Error: %{customdata[1]:.3f}%<extra></extra>",
         "line": {
          "color": "rgb(2, 118, 195)"
         },
         "mode": "lines+markers",
         "name": "026",
         "opacity": 0.4,
         "type": "scatter",
         "x": {
          "bdata": "YOoAAEtYAQAAUwcAAJg6AADA1AE=",
          "dtype": "i4"
         },
         "y": {
          "bdata": "PTOS7Kwf8z/XoiE+prn1P9fwEjMb1vU/LQjTwDCS9z9hi/2SX4z4Pw==",
          "dtype": "f8"
         }
        },
        {
         "customdata": [
          [
           "s200_200_200_b0_4000_0_5000_-4000_-0",
           -11.410824414288783,
           27
          ],
          [
           "Original Comsol Mesh",
           0,
           27
          ],
          [
           "s100_100_100_b0_4000_0_5000_-4000_-0",
           0.11098737771514999,
           27
          ],
          [
           "s50_50_50_b0_4000_0_5000_-4000_-0",
           8.17642709490787,
           27
          ],
          [
           "s25_25_25_b0_4000_0_5000_-4000_-0",
           12.532999935792164,
           27
          ]
         ],
         "hovertemplate": "Cells: %{x}<br>Entropy number: %{y}<br>Snap Idx: %{customdata[2]:03d}<br>Mapped: %{customdata[0]}<br>Rel Error: %{customdata[1]:.3f}%<extra></extra>",
         "line": {
          "color": "rgb(2, 128, 200)"
         },
         "mode": "lines+markers",
         "name": "027",
         "opacity": 0.4,
         "type": "scatter",
         "x": {
          "bdata": "YOoAABhVAQAAUwcAAJg6AADA1AE=",
          "dtype": "i4"
         },
         "y": {
          "bdata": "vsUAv3iE8j/DyZK/Euf0P5/D6iID7fQ/q8j0jpmc9j9kSlAmuYX3Pw==",
          "dtype": "f8"
         }
        },
        {
         "customdata": [
          [
           "s200_200_200_b0_4000_0_5000_-4000_-0",
           -8.857239646950875,
           28
          ],
          [
           "Original Comsol Mesh",
           0,
           28
          ],
          [
           "s100_100_100_b0_4000_0_5000_-4000_-0",
           1.848698099704355,
           28
          ],
          [
           "s50_50_50_b0_4000_0_5000_-4000_-0",
           8.488443497374734,
           28
          ],
          [
           "s25_25_25_b0_4000_0_5000_-4000_-0",
           12.273091035474048,
           28
          ]
         ],
         "hovertemplate": "Cells: %{x}<br>Entropy number: %{y}<br>Snap Idx: %{customdata[2]:03d}<br>Mapped: %{customdata[0]}<br>Rel Error: %{customdata[1]:.3f}%<extra></extra>",
         "line": {
          "color": "rgb(2, 138, 204)"
         },
         "mode": "lines+markers",
         "name": "028",
         "opacity": 0.4,
         "type": "scatter",
         "x": {
          "bdata": "YOoAAHqZAQAAUwcAAJg6AADA1AE=",
          "dtype": "i4"
         },
         "y": {
          "bdata": "1dQjvG7g8T8A9atpK53zP+iu4e/++fM/ZCJqg2NH9T+aAYUbbAX2Pw==",
          "dtype": "f8"
         }
        },
        {
         "customdata": [
          [
           "s200_200_200_b0_4000_0_5000_-4000_-0",
           -11.970401811615236,
           29
          ],
          [
           "Original Comsol Mesh",
           0,
           29
          ],
          [
           "s100_100_100_b0_4000_0_5000_-4000_-0",
           -0.02536141423634569,
           29
          ],
          [
           "s50_50_50_b0_4000_0_5000_-4000_-0",
           7.277164353036292,
           29
          ],
          [
           "s25_25_25_b0_4000_0_5000_-4000_-0",
           11.574774841685127,
           29
          ]
         ],
         "hovertemplate": "Cells: %{x}<br>Entropy number: %{y}<br>Snap Idx: %{customdata[2]:03d}<br>Mapped: %{customdata[0]}<br>Rel Error: %{customdata[1]:.3f}%<extra></extra>",
         "line": {
          "color": "rgb(2, 148, 208)"
         },
         "mode": "lines+markers",
         "name": "029",
         "opacity": 0.4,
         "type": "scatter",
         "x": {
          "bdata": "YOoAAN1UAQAAUwcAAJg6AADA1AE=",
          "dtype": "i4"
         },
         "y": {
          "bdata": "oDizzjBx8T/fIJfNX9DzPxXwYnoWz/M/I3M0zn9B9T+SH/l4fRv2Pw==",
          "dtype": "f8"
         }
        },
        {
         "customdata": [
          [
           "s200_200_200_b0_4000_0_5000_-4000_-0",
           -7.303027276982248,
           30
          ],
          [
           "Original Comsol Mesh",
           0,
           30
          ],
          [
           "s100_100_100_b0_4000_0_5000_-4000_-0",
           0.9240760825396049,
           30
          ],
          [
           "s50_50_50_b0_4000_0_5000_-4000_-0",
           6.318404230683836,
           30
          ],
          [
           "s25_25_25_b0_4000_0_5000_-4000_-0",
           9.508635661002689,
           30
          ]
         ],
         "hovertemplate": "Cells: %{x}<br>Entropy number: %{y}<br>Snap Idx: %{customdata[2]:03d}<br>Mapped: %{customdata[0]}<br>Rel Error: %{customdata[1]:.3f}%<extra></extra>",
         "line": {
          "color": "rgb(2, 157, 212)"
         },
         "mode": "lines+markers",
         "name": "030",
         "opacity": 0.4,
         "type": "scatter",
         "x": {
          "bdata": "YOoAAFdgAQAAUwcAAJg6AADA1AE=",
          "dtype": "i4"
         },
         "y": {
          "bdata": "Y6PPeMfs7z8w0zDLVDjxP4Crm0sRYfE/7hW4Dt5O8j9xvIndgNvyPw==",
          "dtype": "f8"
         }
        },
        {
         "customdata": [
          [
           "s200_200_200_b0_4000_0_5000_-4000_-0",
           -9.136372878570608,
           31
          ],
          [
           "Original Comsol Mesh",
           0,
           31
          ],
          [
           "s100_100_100_b0_4000_0_5000_-4000_-0",
           0.13632068255107116,
           31
          ],
          [
           "s50_50_50_b0_4000_0_5000_-4000_-0",
           6.1397753888245425,
           31
          ],
          [
           "s25_25_25_b0_4000_0_5000_-4000_-0",
           9.666393194639143,
           31
          ]
         ],
         "hovertemplate": "Cells: %{x}<br>Entropy number: %{y}<br>Snap Idx: %{customdata[2]:03d}<br>Mapped: %{customdata[0]}<br>Rel Error: %{customdata[1]:.3f}%<extra></extra>",
         "line": {
          "color": "rgb(3, 167, 217)"
         },
         "mode": "lines+markers",
         "name": "031",
         "opacity": 0.4,
         "type": "scatter",
         "x": {
          "bdata": "YOoAAINXAQAAUwcAAJg6AADA1AE=",
          "dtype": "i4"
         },
         "y": {
          "bdata": "yqXTvbQy8D8qfcquqNPxP6b3ElDh2fE/lvOXedvr8j9z3HTVzIzzPw==",
          "dtype": "f8"
         }
        },
        {
         "customdata": [
          [
           "s200_200_200_b0_4000_0_5000_-4000_-0",
           -12.211975656422137,
           32
          ],
          [
           "Original Comsol Mesh",
           0,
           32
          ],
          [
           "s100_100_100_b0_4000_0_5000_-4000_-0",
           0.19556988179320003,
           32
          ],
          [
           "s50_50_50_b0_4000_0_5000_-4000_-0",
           8.176402396693977,
           32
          ],
          [
           "s25_25_25_b0_4000_0_5000_-4000_-0",
           12.684627780747903,
           32
          ]
         ],
         "hovertemplate": "Cells: %{x}<br>Entropy number: %{y}<br>Snap Idx: %{customdata[2]:03d}<br>Mapped: %{customdata[0]}<br>Rel Error: %{customdata[1]:.3f}%<extra></extra>",
         "line": {
          "color": "rgb(3, 177, 221)"
         },
         "mode": "lines+markers",
         "name": "032",
         "opacity": 0.4,
         "type": "scatter",
         "x": {
          "bdata": "YOoAAKRXAQAAUwcAAJg6AADA1AE=",
          "dtype": "i4"
         },
         "y": {
          "bdata": "gu1HUa0d8z9/bWejbMb1P9chAYZT0fU/lKdUNDaO9z/usiX0hIn4Pw==",
          "dtype": "f8"
         }
        },
        {
         "customdata": [
          [
           "s200_200_200_b0_4000_0_5000_-4000_-0",
           -12.204978453544374,
           33
          ],
          [
           "Original Comsol Mesh",
           0,
           33
          ],
          [
           "s100_100_100_b0_4000_0_5000_-4000_-0",
           0.1651145234281368,
           33
          ],
          [
           "s50_50_50_b0_4000_0_5000_-4000_-0",
           7.890814803251925,
           33
          ],
          [
           "s25_25_25_b0_4000_0_5000_-4000_-0",
           12.315576858733204,
           33
          ]
         ],
         "hovertemplate": "Cells: %{x}<br>Entropy number: %{y}<br>Snap Idx: %{customdata[2]:03d}<br>Mapped: %{customdata[0]}<br>Rel Error: %{customdata[1]:.3f}%<extra></extra>",
         "line": {
          "color": "rgb(3, 187, 225)"
         },
         "mode": "lines+markers",
         "name": "033",
         "opacity": 0.4,
         "type": "scatter",
         "x": {
          "bdata": "YOoAAPxXAQAAUwcAAJg6AADA1AE=",
          "dtype": "i4"
         },
         "y": {
          "bdata": "JvfJKydK8j8Phbv6DNX0P4XFPDnb3fQ/IGTkMd959j8agKK+2GX3Pw==",
          "dtype": "f8"
         }
        },
        {
         "customdata": [
          [
           "s200_200_200_b0_4000_0_5000_-4000_-0",
           -7.006837566886719,
           34
          ],
          [
           "Original Comsol Mesh",
           0,
           34
          ],
          [
           "s100_100_100_b0_4000_0_5000_-4000_-0",
           3.1110657179248533,
           34
          ],
          [
           "s50_50_50_b0_4000_0_5000_-4000_-0",
           9.341231032334386,
           34
          ],
          [
           "s25_25_25_b0_4000_0_5000_-4000_-0",
           12.904832784051917,
           34
          ]
         ],
         "hovertemplate": "Cells: %{x}<br>Entropy number: %{y}<br>Snap Idx: %{customdata[2]:03d}<br>Mapped: %{customdata[0]}<br>Rel Error: %{customdata[1]:.3f}%<extra></extra>",
         "line": {
          "color": "rgb(4, 196, 230)"
         },
         "mode": "lines+markers",
         "name": "034",
         "opacity": 0.4,
         "type": "scatter",
         "x": {
          "bdata": "YOoAAGmlAQAAUwcAAJg6AADA1AE=",
          "dtype": "i4"
         },
         "y": {
          "bdata": "1OmPUZKF8T8ZZqzDjNfyPyMyRRmdbfM/5Uva+CCa9D+WtP9ZBUb1Pw==",
          "dtype": "f8"
         }
        },
        {
         "customdata": [
          [
           "s200_200_200_b0_4000_0_5000_-4000_-0",
           -10.636534769463955,
           35
          ],
          [
           "Original Comsol Mesh",
           0,
           35
          ],
          [
           "s100_100_100_b0_4000_0_5000_-4000_-0",
           0.09403516301269071,
           35
          ],
          [
           "s50_50_50_b0_4000_0_5000_-4000_-0",
           6.92829016970843,
           35
          ],
          [
           "s25_25_25_b0_4000_0_5000_-4000_-0",
           10.962535436506094,
           35
          ]
         ],
         "hovertemplate": "Cells: %{x}<br>Entropy number: %{y}<br>Snap Idx: %{customdata[2]:03d}<br>Mapped: %{customdata[0]}<br>Rel Error: %{customdata[1]:.3f}%<extra></extra>",
         "line": {
          "color": "rgb(4, 206, 234)"
         },
         "mode": "lines+markers",
         "name": "035",
         "opacity": 0.4,
         "type": "scatter",
         "x": {
          "bdata": "YOoAANZkAQAAUwcAAJg6AADA1AE=",
          "dtype": "i4"
         },
         "y": {
          "bdata": "WyNv944i8T8et8XDqyzzP0y73m1JMfM/4AVDB8KA9D8J49gmyUb1Pw==",
          "dtype": "f8"
         }
        },
        {
         "customdata": [
          [
           "s200_200_200_b0_4000_0_5000_-4000_-0",
           -10.591313473421193,
           36
          ],
          [
           "Original Comsol Mesh",
           0,
           36
          ],
          [
           "s100_100_100_b0_4000_0_5000_-4000_-0",
           0.05379928813757256,
           36
          ],
          [
           "s50_50_50_b0_4000_0_5000_-4000_-0",
           7.08192071561069,
           36
          ],
          [
           "s25_25_25_b0_4000_0_5000_-4000_-0",
           11.434462986221922,
           36
          ]
         ],
         "hovertemplate": "Cells: %{x}<br>Entropy number: %{y}<br>Snap Idx: %{customdata[2]:03d}<br>Mapped: %{customdata[0]}<br>Rel Error: %{customdata[1]:.3f}%<extra></extra>",
         "line": {
          "color": "rgb(4, 216, 238)"
         },
         "mode": "lines+markers",
         "name": "036",
         "opacity": 0.4,
         "type": "scatter",
         "x": {
          "bdata": "YOoAADdTAQAAUwcAAJg6AADA1AE=",
          "dtype": "i4"
         },
         "y": {
          "bdata": "mcKA3dDH8T9ulz6gBePzP//o/srC5fM/KSzuaZBL9T+VUwArJyn2Pw==",
          "dtype": "f8"
         }
        },
        {
         "customdata": [
          [
           "s200_200_200_b0_4000_0_5000_-4000_-0",
           -8.111602995427116,
           37
          ],
          [
           "Original Comsol Mesh",
           0,
           37
          ],
          [
           "s100_100_100_b0_4000_0_5000_-4000_-0",
           2.3613033471832057,
           37
          ],
          [
           "s50_50_50_b0_4000_0_5000_-4000_-0",
           8.825002058989682,
           37
          ],
          [
           "s25_25_25_b0_4000_0_5000_-4000_-0",
           12.502976273485384,
           37
          ]
         ],
         "hovertemplate": "Cells: %{x}<br>Entropy number: %{y}<br>Snap Idx: %{customdata[2]:03d}<br>Mapped: %{customdata[0]}<br>Rel Error: %{customdata[1]:.3f}%<extra></extra>",
         "line": {
          "color": "rgb(4, 226, 242)"
         },
         "mode": "lines+markers",
         "name": "037",
         "opacity": 0.4,
         "type": "scatter",
         "x": {
          "bdata": "YOoAAIecAQAAUwcAAJg6AADA1AE=",
          "dtype": "i4"
         },
         "y": {
          "bdata": "aW9HXVa58T/yxZri4EnzP6SeFwx6vvM/XfYYdqX99D/Pw2meQrP1Pw==",
          "dtype": "f8"
         }
        },
        {
         "customdata": [
          [
           "s200_200_200_b0_4000_0_5000_-4000_-0",
           -6.085375644822108,
           38
          ],
          [
           "Original Comsol Mesh",
           0,
           38
          ],
          [
           "s100_100_100_b0_4000_0_5000_-4000_-0",
           1.8171901432322397,
           38
          ],
          [
           "s50_50_50_b0_4000_0_5000_-4000_-0",
           6.874569607924561,
           38
          ],
          [
           "s25_25_25_b0_4000_0_5000_-4000_-0",
           9.790644065377526,
           38
          ]
         ],
         "hovertemplate": "Cells: %{x}<br>Entropy number: %{y}<br>Snap Idx: %{customdata[2]:03d}<br>Mapped: %{customdata[0]}<br>Rel Error: %{customdata[1]:.3f}%<extra></extra>",
         "line": {
          "color": "rgb(4, 235, 246)"
         },
         "mode": "lines+markers",
         "name": "038",
         "opacity": 0.4,
         "type": "scatter",
         "x": {
          "bdata": "YOoAACOZAQAAUwcAAJg6AADA1AE=",
          "dtype": "i4"
         },
         "y": {
          "bdata": "wfZyxtIo8D+uxtZq4DTxPzIo6O7rhPE/kXSJZLFj8j9fCM91JOTyPw==",
          "dtype": "f8"
         }
        },
        {
         "customdata": [
          [
           "s200_200_200_b0_4000_0_5000_-4000_-0",
           -13.322437543491667,
           39
          ],
          [
           "Original Comsol Mesh",
           0,
           39
          ],
          [
           "s100_100_100_b0_4000_0_5000_-4000_-0",
           -0.27585135325683513,
           39
          ],
          [
           "s50_50_50_b0_4000_0_5000_-4000_-0",
           7.753738809783288,
           39
          ],
          [
           "s25_25_25_b0_4000_0_5000_-4000_-0",
           12.259070640649055,
           39
          ]
         ],
         "hovertemplate": "Cells: %{x}<br>Entropy number: %{y}<br>Snap Idx: %{customdata[2]:03d}<br>Mapped: %{customdata[0]}<br>Rel Error: %{customdata[1]:.3f}%<extra></extra>",
         "line": {
          "color": "rgb(5, 245, 251)"
         },
         "mode": "lines+markers",
         "name": "039",
         "opacity": 0.4,
         "type": "scatter",
         "x": {
          "bdata": "YOoAAIFTAQAAUwcAAJg6AADA1AE=",
          "dtype": "i4"
         },
         "y": {
          "bdata": "7W8tVtcC8z/yh7FK4e71P4wQxS1k3/U/lHj+QD6i9z9zSO9PNp/4Pw==",
          "dtype": "f8"
         }
        },
        {
         "customdata": [
          [
           "s200_200_200_b0_4000_0_5000_-4000_-0",
           -10.720891375229042,
           40
          ],
          [
           "Original Comsol Mesh",
           0,
           40
          ],
          [
           "s100_100_100_b0_4000_0_5000_-4000_-0",
           0.19628096367829448,
           40
          ],
          [
           "s50_50_50_b0_4000_0_5000_-4000_-0",
           7.202570801047557,
           40
          ],
          [
           "s25_25_25_b0_4000_0_5000_-4000_-0",
           11.259411939760778,
           40
          ]
         ],
         "hovertemplate": "Cells: %{x}<br>Entropy number: %{y}<br>Snap Idx: %{customdata[2]:03d}<br>Mapped: %{customdata[0]}<br>Rel Error: %{customdata[1]:.3f}%<extra></extra>",
         "line": {
          "color": "rgb(5, 255, 255)"
         },
         "mode": "lines+markers",
         "name": "040",
         "opacity": 0.4,
         "type": "scatter",
         "x": {
          "bdata": "YOoAACZhAQAAUwcAAJg6AADA1AE=",
          "dtype": "i4"
         },
         "y": {
          "bdata": "2fQxjKAm8T9CCKvB3TXzP+Di4OGEP/M/e/GROxSY9D80IUjMll/1Pw==",
          "dtype": "f8"
         }
        },
        {
         "customdata": [
          [
           "s200_200_200_b0_4000_0_5000_-4000_-0",
           -10.233981608062603,
           41
          ],
          [
           "Original Comsol Mesh",
           0,
           41
          ],
          [
           "s100_100_100_b0_4000_0_5000_-4000_-0",
           0.1612115114307788,
           41
          ],
          [
           "s50_50_50_b0_4000_0_5000_-4000_-0",
           6.819920250243307,
           41
          ],
          [
           "s25_25_25_b0_4000_0_5000_-4000_-0",
           10.698737004488176,
           41
          ]
         ],
         "hovertemplate": "Cells: %{x}<br>Entropy number: %{y}<br>Snap Idx: %{customdata[2]:03d}<br>Mapped: %{customdata[0]}<br>Rel Error: %{customdata[1]:.3f}%<extra></extra>",
         "line": {
          "color": "rgb(17, 255, 242)"
         },
         "mode": "lines+markers",
         "name": "041",
         "opacity": 0.4,
         "type": "scatter",
         "x": {
          "bdata": "YOoAAO1rAQAAUwcAAJg6AADA1AE=",
          "dtype": "i4"
         },
         "y": {
          "bdata": "8CLQhfz68D++JcUZk+ryP6gPaaNh8vI/2lQ2l9U09D/LZEE/q/D0Pw==",
          "dtype": "f8"
         }
        },
        {
         "customdata": [
          [
           "s200_200_200_b0_4000_0_5000_-4000_-0",
           -11.255174166190587,
           42
          ],
          [
           "Original Comsol Mesh",
           0,
           42
          ],
          [
           "s100_100_100_b0_4000_0_5000_-4000_-0",
           -0.029191605716117786,
           42
          ],
          [
           "s50_50_50_b0_4000_0_5000_-4000_-0",
           7.075200894100367,
           42
          ],
          [
           "s25_25_25_b0_4000_0_5000_-4000_-0",
           11.257289554018014,
           42
          ]
         ],
         "hovertemplate": "Cells: %{x}<br>Entropy number: %{y}<br>Snap Idx: %{customdata[2]:03d}<br>Mapped: %{customdata[0]}<br>Rel Error: %{customdata[1]:.3f}%<extra></extra>",
         "line": {
          "color": "rgb(30, 255, 230)"
         },
         "mode": "lines+markers",
         "name": "042",
         "opacity": 0.4,
         "type": "scatter",
         "x": {
          "bdata": "YOoAAFhaAQAAUwcAAJg6AADA1AE=",
          "dtype": "i4"
         },
         "y": {
          "bdata": "kMiFHpBM8T84lLaVOH7zP6a3vanDfPM/cRbcCErf9D+2tgwT/K/1Pw==",
          "dtype": "f8"
         }
        },
        {
         "customdata": [
          [
           "s200_200_200_b0_4000_0_5000_-4000_-0",
           -9.04304241720394,
           43
          ],
          [
           "Original Comsol Mesh",
           0,
           43
          ],
          [
           "s100_100_100_b0_4000_0_5000_-4000_-0",
           0.07403727162096821,
           43
          ],
          [
           "s50_50_50_b0_4000_0_5000_-4000_-0",
           6.086264686153344,
           43
          ],
          [
           "s25_25_25_b0_4000_0_5000_-4000_-0",
           9.620977674064363,
           43
          ]
         ],
         "hovertemplate": "Cells: %{x}<br>Entropy number: %{y}<br>Snap Idx: %{customdata[2]:03d}<br>Mapped: %{customdata[0]}<br>Rel Error: %{customdata[1]:.3f}%<extra></extra>",
         "line": {
          "color": "rgb(42, 255, 217)"
         },
         "mode": "lines+markers",
         "name": "043",
         "opacity": 0.4,
         "type": "scatter",
         "x": {
          "bdata": "YOoAAJNoAQAAUwcAAJg6AADA1AE=",
          "dtype": "i4"
         },
         "y": {
          "bdata": "+I1hcgdv8D/5w5nvSxHyP97K7Je4FPI/QOR17s0q8z/FqgyeS87zPw==",
          "dtype": "f8"
         }
        },
        {
         "customdata": [
          [
           "s200_200_200_b0_4000_0_5000_-4000_-0",
           -11.994522568678107,
           44
          ],
          [
           "Original Comsol Mesh",
           0,
           44
          ],
          [
           "s100_100_100_b0_4000_0_5000_-4000_-0",
           0.08855102383540712,
           44
          ],
          [
           "s50_50_50_b0_4000_0_5000_-4000_-0",
           7.60321444330062,
           44
          ],
          [
           "s25_25_25_b0_4000_0_5000_-4000_-0",
           11.89530580210699,
           44
          ]
         ],
         "hovertemplate": "Cells: %{x}<br>Entropy number: %{y}<br>Snap Idx: %{customdata[2]:03d}<br>Mapped: %{customdata[0]}<br>Rel Error: %{customdata[1]:.3f}%<extra></extra>",
         "line": {
          "color": "rgb(55, 255, 204)"
         },
         "mode": "lines+markers",
         "name": "044",
         "opacity": 0.4,
         "type": "scatter",
         "x": {
          "bdata": "YOoAANhxAQAAUwcAAJg6AADA1AE=",
          "dtype": "i4"
         },
         "y": {
          "bdata": "EZfJSVmJ8j/egjouGxD1P9sDPoXhFPU/wearXhSq9j/U5F2Bg5H3Pw==",
          "dtype": "f8"
         }
        },
        {
         "customdata": [
          [
           "s200_200_200_b0_4000_0_5000_-4000_-0",
           -11.145551408489702,
           45
          ],
          [
           "Original Comsol Mesh",
           0,
           45
          ],
          [
           "s100_100_100_b0_4000_0_5000_-4000_-0",
           -0.1520790873775254,
           45
          ],
          [
           "s50_50_50_b0_4000_0_5000_-4000_-0",
           6.975121292625197,
           45
          ],
          [
           "s25_25_25_b0_4000_0_5000_-4000_-0",
           11.137451184051589,
           45
          ]
         ],
         "hovertemplate": "Cells: %{x}<br>Entropy number: %{y}<br>Snap Idx: %{customdata[2]:03d}<br>Mapped: %{customdata[0]}<br>Rel Error: %{customdata[1]:.3f}%<extra></extra>",
         "line": {
          "color": "rgb(67, 255, 191)"
         },
         "mode": "lines+markers",
         "name": "045",
         "opacity": 0.4,
         "type": "scatter",
         "x": {
          "bdata": "YOoAAAFfAQAAUwcAAJg6AADA1AE=",
          "dtype": "i4"
         },
         "y": {
          "bdata": "LXtPGdpN8T+YQWLdg3nzP/5mSuTucfM/s7o4xULV9D8SJok/xqT1Pw==",
          "dtype": "f8"
         }
        },
        {
         "customdata": [
          [
           "s200_200_200_b0_4000_0_5000_-4000_-0",
           -11.428584861988659,
           46
          ],
          [
           "Original Comsol Mesh",
           0,
           46
          ],
          [
           "s100_100_100_b0_4000_0_5000_-4000_-0",
           -0.15544884807306875,
           46
          ],
          [
           "s50_50_50_b0_4000_0_5000_-4000_-0",
           7.298364198549204,
           46
          ],
          [
           "s25_25_25_b0_4000_0_5000_-4000_-0",
           11.591275835026522,
           46
          ]
         ],
         "hovertemplate": "Cells: %{x}<br>Entropy number: %{y}<br>Snap Idx: %{customdata[2]:03d}<br>Mapped: %{customdata[0]}<br>Rel Error: %{customdata[1]:.3f}%<extra></extra>",
         "line": {
          "color": "rgb(80, 255, 179)"
         },
         "mode": "lines+markers",
         "name": "046",
         "opacity": 0.4,
         "type": "scatter",
         "x": {
          "bdata": "YOoAAFJUAQAAUwcAAJg6AADA1AE=",
          "dtype": "i4"
         },
         "y": {
          "bdata": "m/ZXgm+O8T+WHOwPXdLzP/gpW7l5yvM/WTighLVE9T+jogEIjB72Pw==",
          "dtype": "f8"
         }
        },
        {
         "customdata": [
          [
           "s200_200_200_b0_4000_0_5000_-4000_-0",
           -6.909193305788226,
           47
          ],
          [
           "Original Comsol Mesh",
           0,
           47
          ],
          [
           "s100_100_100_b0_4000_0_5000_-4000_-0",
           1.8886031366868758,
           47
          ],
          [
           "s50_50_50_b0_4000_0_5000_-4000_-0",
           7.505616144166437,
           47
          ],
          [
           "s25_25_25_b0_4000_0_5000_-4000_-0",
           10.76696038421222,
           47
          ]
         ],
         "hovertemplate": "Cells: %{x}<br>Entropy number: %{y}<br>Snap Idx: %{customdata[2]:03d}<br>Mapped: %{customdata[0]}<br>Rel Error: %{customdata[1]:.3f}%<extra></extra>",
         "line": {
          "color": "rgb(92, 255, 166)"
         },
         "mode": "lines+markers",
         "name": "047",
         "opacity": 0.4,
         "type": "scatter",
         "x": {
          "bdata": "YOoAAAeLAQAAUwcAAJg6AADA1AE=",
          "dtype": "i4"
         },
         "y": {
          "bdata": "MakBq/1n8D9pf+/Dtp/xP0SMuBvs9PE/kywHiljy8j97eV4GfYXzPw==",
          "dtype": "f8"
         }
        },
        {
         "customdata": [
          [
           "s200_200_200_b0_4000_0_5000_-4000_-0",
           -7.100296465886815,
           48
          ],
          [
           "Original Comsol Mesh",
           0,
           48
          ],
          [
           "s100_100_100_b0_4000_0_5000_-4000_-0",
           2.8808476619651384,
           48
          ],
          [
           "s50_50_50_b0_4000_0_5000_-4000_-0",
           9.051921914022058,
           48
          ],
          [
           "s25_25_25_b0_4000_0_5000_-4000_-0",
           12.546148241993354,
           48
          ]
         ],
         "hovertemplate": "Cells: %{x}<br>Entropy number: %{y}<br>Snap Idx: %{customdata[2]:03d}<br>Mapped: %{customdata[0]}<br>Rel Error: %{customdata[1]:.3f}%<extra></extra>",
         "line": {
          "color": "rgb(105, 255, 153)"
         },
         "mode": "lines+markers",
         "name": "048",
         "opacity": 0.4,
         "type": "scatter",
         "x": {
          "bdata": "YOoAAL6mAQAAUwcAAJg6AADA1AE=",
          "dtype": "i4"
         },
         "y": {
          "bdata": "+BLdPCZ98T/F9RAoVtPyP1DeeZ4sXvM/a8PdQZSH9D8jVrNH+i/1Pw==",
          "dtype": "f8"
         }
        },
        {
         "customdata": [
          [
           "s200_200_200_b0_4000_0_5000_-4000_-0",
           -10.057803644413193,
           49
          ],
          [
           "Original Comsol Mesh",
           0,
           49
          ],
          [
           "s100_100_100_b0_4000_0_5000_-4000_-0",
           0.6410693270537187,
           49
          ],
          [
           "s50_50_50_b0_4000_0_5000_-4000_-0",
           7.431775529414095,
           49
          ],
          [
           "s25_25_25_b0_4000_0_5000_-4000_-0",
           11.376424033269508,
           49
          ]
         ],
         "hovertemplate": "Cells: %{x}<br>Entropy number: %{y}<br>Snap Idx: %{customdata[2]:03d}<br>Mapped: %{customdata[0]}<br>Rel Error: %{customdata[1]:.3f}%<extra></extra>",
         "line": {
          "color": "rgb(117, 255, 140)"
         },
         "mode": "lines+markers",
         "name": "049",
         "opacity": 0.4,
         "type": "scatter",
         "x": {
          "bdata": "YOoAALB3AQAAUwcAAJg6AADA1AE=",
          "dtype": "i4"
         },
         "y": {
          "bdata": "EuJGLUip8T8a4X8L4KLzP1HqkdYZw/M/NPTIFHYY9T+i3cL5wN71Pw==",
          "dtype": "f8"
         }
        },
        {
         "customdata": [
          [
           "s200_200_200_b0_4000_0_5000_-4000_-0",
           -12.519238820121572,
           50
          ],
          [
           "Original Comsol Mesh",
           0,
           50
          ],
          [
           "s100_100_100_b0_4000_0_5000_-4000_-0",
           0.11902325553347264,
           50
          ],
          [
           "s50_50_50_b0_4000_0_5000_-4000_-0",
           7.97414450154144,
           50
          ],
          [
           "s25_25_25_b0_4000_0_5000_-4000_-0",
           12.43713553585135,
           50
          ]
         ],
         "hovertemplate": "Cells: %{x}<br>Entropy number: %{y}<br>Snap Idx: %{customdata[2]:03d}<br>Mapped: %{customdata[0]}<br>Rel Error: %{customdata[1]:.3f}%<extra></extra>",
         "line": {
          "color": "rgb(130, 255, 128)"
         },
         "mode": "lines+markers",
         "name": "050",
         "opacity": 0.4,
         "type": "scatter",
         "x": {
          "bdata": "YOoAADBZAQAAUwcAAJg6AADA1AE=",
          "dtype": "i4"
         },
         "y": {
          "bdata": "7nsLJscK8z9epoVlZsT1P4Rf400Iy/U/hiuLT8CA9z9yR7Zpcnn4Pw==",
          "dtype": "f8"
         }
        },
        {
         "customdata": [
          [
           "s200_200_200_b0_4000_0_5000_-4000_-0",
           -7.40770259241663,
           51
          ],
          [
           "Original Comsol Mesh",
           0,
           51
          ],
          [
           "s100_100_100_b0_4000_0_5000_-4000_-0",
           2.764157755263459,
           51
          ],
          [
           "s50_50_50_b0_4000_0_5000_-4000_-0",
           9.079849989946267,
           51
          ],
          [
           "s25_25_25_b0_4000_0_5000_-4000_-0",
           12.652014692169052,
           51
          ]
         ],
         "hovertemplate": "Cells: %{x}<br>Entropy number: %{y}<br>Snap Idx: %{customdata[2]:03d}<br>Mapped: %{customdata[0]}<br>Rel Error: %{customdata[1]:.3f}%<extra></extra>",
         "line": {
          "color": "rgb(142, 255, 115)"
         },
         "mode": "lines+markers",
         "name": "051",
         "opacity": 0.4,
         "type": "scatter",
         "x": {
          "bdata": "YOoAAHalAQAAUwcAAJg6AADA1AE=",
          "dtype": "i4"
         },
         "y": {
          "bdata": "GRGmip6R8T/uwsy/cfnyP23qtjW2f/M/4XizNH6y9D9mrYBHAmD1Pw==",
          "dtype": "f8"
         }
        },
        {
         "customdata": [
          [
           "s200_200_200_b0_4000_0_5000_-4000_-0",
           -9.50454432392345,
           52
          ],
          [
           "Original Comsol Mesh",
           0,
           52
          ],
          [
           "s100_100_100_b0_4000_0_5000_-4000_-0",
           1.7687040777182022,
           52
          ],
          [
           "s50_50_50_b0_4000_0_5000_-4000_-0",
           8.83213694928265,
           52
          ],
          [
           "s25_25_25_b0_4000_0_5000_-4000_-0",
           12.84435971330785,
           52
          ]
         ],
         "hovertemplate": "Cells: %{x}<br>Entropy number: %{y}<br>Snap Idx: %{customdata[2]:03d}<br>Mapped: %{customdata[0]}<br>Rel Error: %{customdata[1]:.3f}%<extra></extra>",
         "line": {
          "color": "rgb(155, 255, 102)"
         },
         "mode": "lines+markers",
         "name": "052",
         "opacity": 0.4,
         "type": "scatter",
         "x": {
          "bdata": "YOoAADWJAQAAUwcAAJg6AADA1AE=",
          "dtype": "i4"
         },
         "y": {
          "bdata": "vZkfuz8l8j/MAC8oIQ30P3d3LV3rZ/Q/fla4mn7S9T9quLp3cqD2Pw==",
          "dtype": "f8"
         }
        },
        {
         "customdata": [
          [
           "s200_200_200_b0_4000_0_5000_-4000_-0",
           -12.71393141941641,
           53
          ],
          [
           "Original Comsol Mesh",
           0,
           53
          ],
          [
           "s100_100_100_b0_4000_0_5000_-4000_-0",
           0.09013017385687151,
           53
          ],
          [
           "s50_50_50_b0_4000_0_5000_-4000_-0",
           7.922674009978374,
           53
          ],
          [
           "s25_25_25_b0_4000_0_5000_-4000_-0",
           12.412391244682839,
           53
          ]
         ],
         "hovertemplate": "Cells: %{x}<br>Entropy number: %{y}<br>Snap Idx: %{customdata[2]:03d}<br>Mapped: %{customdata[0]}<br>Rel Error: %{customdata[1]:.3f}%<extra></extra>",
         "line": {
          "color": "rgb(167, 255, 89)"
         },
         "mode": "lines+markers",
         "name": "053",
         "opacity": 0.4,
         "type": "scatter",
         "x": {
          "bdata": "YOoAAFJcAQAAUwcAAJg6AADA1AE=",
          "dtype": "i4"
         },
         "y": {
          "bdata": "K+/IWxjt8j+Wkp+u0q71P0KAB3HTs/U/7pniuZhm9z8ZA24W0F/4Pw==",
          "dtype": "f8"
         }
        },
        {
         "customdata": [
          [
           "s200_200_200_b0_4000_0_5000_-4000_-0",
           -10.204275272653414,
           54
          ],
          [
           "Original Comsol Mesh",
           0,
           54
          ],
          [
           "s100_100_100_b0_4000_0_5000_-4000_-0",
           1.2782980381638465,
           54
          ],
          [
           "s50_50_50_b0_4000_0_5000_-4000_-0",
           8.42963519280469,
           54
          ],
          [
           "s25_25_25_b0_4000_0_5000_-4000_-0",
           12.517658608316799,
           54
          ]
         ],
         "hovertemplate": "Cells: %{x}<br>Entropy number: %{y}<br>Snap Idx: %{customdata[2]:03d}<br>Mapped: %{customdata[0]}<br>Rel Error: %{customdata[1]:.3f}%<extra></extra>",
         "line": {
          "color": "rgb(180, 255, 77)"
         },
         "mode": "lines+markers",
         "name": "054",
         "opacity": 0.4,
         "type": "scatter",
         "x": {
          "bdata": "YOoAAKWDAQAAUwcAAJg6AADA1AE=",
          "dtype": "i4"
         },
         "y": {
          "bdata": "HilITWJA8j9yWIQSWVP0P+ZHVLvclfQ/0FPEn/gJ9j+wcNptr972Pw==",
          "dtype": "f8"
         }
        },
        {
         "customdata": [
          [
           "s200_200_200_b0_4000_0_5000_-4000_-0",
           -6.486157173626528,
           55
          ],
          [
           "Original Comsol Mesh",
           0,
           55
          ],
          [
           "s100_100_100_b0_4000_0_5000_-4000_-0",
           1.6363541482120645,
           55
          ],
          [
           "s50_50_50_b0_4000_0_5000_-4000_-0",
           6.908664654921369,
           55
          ],
          [
           "s25_25_25_b0_4000_0_5000_-4000_-0",
           10.004712686476509,
           55
          ]
         ],
         "hovertemplate": "Cells: %{x}<br>Entropy number: %{y}<br>Snap Idx: %{customdata[2]:03d}<br>Mapped: %{customdata[0]}<br>Rel Error: %{customdata[1]:.3f}%<extra></extra>",
         "line": {
          "color": "rgb(192, 255, 64)"
         },
         "mode": "lines+markers",
         "name": "055",
         "opacity": 0.4,
         "type": "scatter",
         "x": {
          "bdata": "YOoAAL9+AQAAUwcAAJg6AADA1AE=",
          "dtype": "i4"
         },
         "y": {
          "bdata": "2KI6TfYX8D/fQghtuTXxP3hrcEzRffE/sWCu3Rlm8j/D2wofge7yPw==",
          "dtype": "f8"
         }
        },
        {
         "customdata": [
          [
           "s200_200_200_b0_4000_0_5000_-4000_-0",
           -12.268182704191007,
           56
          ],
          [
           "Original Comsol Mesh",
           0,
           56
          ],
          [
           "s100_100_100_b0_4000_0_5000_-4000_-0",
           -0.8599209269528421,
           56
          ],
          [
           "s50_50_50_b0_4000_0_5000_-4000_-0",
           6.375068965908216,
           56
          ],
          [
           "s25_25_25_b0_4000_0_5000_-4000_-0",
           10.565516914897229,
           56
          ]
         ],
         "hovertemplate": "Cells: %{x}<br>Entropy number: %{y}<br>Snap Idx: %{customdata[2]:03d}<br>Mapped: %{customdata[0]}<br>Rel Error: %{customdata[1]:.3f}%<extra></extra>",
         "line": {
          "color": "rgb(205, 255, 51)"
         },
         "mode": "lines+markers",
         "name": "056",
         "opacity": 0.4,
         "type": "scatter",
         "x": {
          "bdata": "YOoAAHhaAQAAUwcAAJg6AADA1AE=",
          "dtype": "i4"
         },
         "y": {
          "bdata": "5rolk1Nb8T8e6cNaq8jzP4Ra9AAenfM/gtsPp4sL9T+iuD0hx9/1Pw==",
          "dtype": "f8"
         }
        },
        {
         "customdata": [
          [
           "s200_200_200_b0_4000_0_5000_-4000_-0",
           -8.86590863238159,
           57
          ],
          [
           "Original Comsol Mesh",
           0,
           57
          ],
          [
           "s100_100_100_b0_4000_0_5000_-4000_-0",
           0.5772271336385868,
           57
          ],
          [
           "s50_50_50_b0_4000_0_5000_-4000_-0",
           6.674674232044536,
           57
          ],
          [
           "s25_25_25_b0_4000_0_5000_-4000_-0",
           10.314984373116523,
           57
          ]
         ],
         "hovertemplate": "Cells: %{x}<br>Entropy number: %{y}<br>Snap Idx: %{customdata[2]:03d}<br>Mapped: %{customdata[0]}<br>Rel Error: %{customdata[1]:.3f}%<extra></extra>",
         "line": {
          "color": "rgb(217, 255, 38)"
         },
         "mode": "lines+markers",
         "name": "057",
         "opacity": 0.4,
         "type": "scatter",
         "x": {
          "bdata": "YOoAAHBhAQAAUwcAAJg6AADA1AE=",
          "dtype": "i4"
         },
         "y": {
          "bdata": "E34BTReC8D+YlZYUOR3yPwFR94L9N/I/NQtKFL5S8z/kVHJCjfvzPw==",
          "dtype": "f8"
         }
        },
        {
         "customdata": [
          [
           "s200_200_200_b0_4000_0_5000_-4000_-0",
           -9.925786269653116,
           58
          ],
          [
           "Original Comsol Mesh",
           0,
           58
          ],
          [
           "s100_100_100_b0_4000_0_5000_-4000_-0",
           0.7601983487718744,
           58
          ],
          [
           "s50_50_50_b0_4000_0_5000_-4000_-0",
           7.489674462432407,
           58
          ],
          [
           "s25_25_25_b0_4000_0_5000_-4000_-0",
           11.360466751441054,
           58
          ]
         ],
         "hovertemplate": "Cells: %{x}<br>Entropy number: %{y}<br>Snap Idx: %{customdata[2]:03d}<br>Mapped: %{customdata[0]}<br>Rel Error: %{customdata[1]:.3f}%<extra></extra>",
         "line": {
          "color": "rgb(230, 255, 26)"
         },
         "mode": "lines+markers",
         "name": "058",
         "opacity": 0.4,
         "type": "scatter",
         "x": {
          "bdata": "YOoAAO+CAQAAUwcAAJg6AADA1AE=",
          "dtype": "i4"
         },
         "y": {
          "bdata": "/GtWRCpP8T/nDGvQdTfzP03YJ53bXPM/RkqJaemn9D+DG2Z3VWb1Pw==",
          "dtype": "f8"
         }
        },
        {
         "customdata": [
          [
           "s200_200_200_b0_4000_0_5000_-4000_-0",
           -9.494908025222335,
           59
          ],
          [
           "Original Comsol Mesh",
           0,
           59
          ],
          [
           "s100_100_100_b0_4000_0_5000_-4000_-0",
           2.3184064799004265,
           59
          ],
          [
           "s50_50_50_b0_4000_0_5000_-4000_-0",
           9.459106639390836,
           59
          ],
          [
           "s25_25_25_b0_4000_0_5000_-4000_-0",
           13.441466445369043,
           59
          ]
         ],
         "hovertemplate": "Cells: %{x}<br>Entropy number: %{y}<br>Snap Idx: %{customdata[2]:03d}<br>Mapped: %{customdata[0]}<br>Rel Error: %{customdata[1]:.3f}%<extra></extra>",
         "line": {
          "color": "rgb(242, 255, 13)"
         },
         "mode": "lines+markers",
         "name": "059",
         "opacity": 0.4,
         "type": "scatter",
         "x": {
          "bdata": "YOoAAFCVAQAAUwcAAJg6AADA1AE=",
          "dtype": "i4"
         },
         "y": {
          "bdata": "k9wrFTfd8j8DoeBg2df0Pz/zVkmOU/U/8YakopLQ9j//affEEKX3Pw==",
          "dtype": "f8"
         }
        },
        {
         "customdata": [
          [
           "s200_200_200_b0_4000_0_5000_-4000_-0",
           -12.519664086033574,
           60
          ],
          [
           "Original Comsol Mesh",
           0,
           60
          ],
          [
           "s100_100_100_b0_4000_0_5000_-4000_-0",
           0.04640692282899686,
           60
          ],
          [
           "s50_50_50_b0_4000_0_5000_-4000_-0",
           7.871907472140976,
           60
          ],
          [
           "s25_25_25_b0_4000_0_5000_-4000_-0",
           12.33556106996746,
           60
          ]
         ],
         "hovertemplate": "Cells: %{x}<br>Entropy number: %{y}<br>Snap Idx: %{customdata[2]:03d}<br>Mapped: %{customdata[0]}<br>Rel Error: %{customdata[1]:.3f}%<extra></extra>",
         "line": {
          "color": "rgb(255, 255, 0)"
         },
         "mode": "lines+markers",
         "name": "060",
         "opacity": 0.4,
         "type": "scatter",
         "x": {
          "bdata": "YOoAAFJiAQAAUwcAAJg6AADA1AE=",
          "dtype": "i4"
         },
         "y": {
          "bdata": "BcOTiQPU8j8jhCVR04X1P1a1y+RhiPU/dY4Rx4039z8ZKplLfi34Pw==",
          "dtype": "f8"
         }
        },
        {
         "customdata": [
          [
           "s200_200_200_b0_4000_0_5000_-4000_-0",
           -11.681115178928016,
           61
          ],
          [
           "Original Comsol Mesh",
           0,
           61
          ],
          [
           "s100_100_100_b0_4000_0_5000_-4000_-0",
           0.169144578227797,
           61
          ],
          [
           "s50_50_50_b0_4000_0_5000_-4000_-0",
           7.682145165599243,
           61
          ],
          [
           "s25_25_25_b0_4000_0_5000_-4000_-0",
           12.039421041614833,
           61
          ]
         ],
         "hovertemplate": "Cells: %{x}<br>Entropy number: %{y}<br>Snap Idx: %{customdata[2]:03d}<br>Mapped: %{customdata[0]}<br>Rel Error: %{customdata[1]:.3f}%<extra></extra>",
         "line": {
          "color": "rgb(255, 242, 0)"
         },
         "mode": "lines+markers",
         "name": "061",
         "opacity": 0.4,
         "type": "scatter",
         "x": {
          "bdata": "YOoAALBgAQAAUwcAAJg6AADA1AE=",
          "dtype": "i4"
         },
         "y": {
          "bdata": "k0kMy30P8j9lF7hZ/3L0P/XWRyjae/Q/LvFTVigF9j+t5PzGQun2Pw==",
          "dtype": "f8"
         }
        },
        {
         "customdata": [
          [
           "s200_200_200_b0_4000_0_5000_-4000_-0",
           -7.2862145460195284,
           62
          ],
          [
           "Original Comsol Mesh",
           0,
           62
          ],
          [
           "s100_100_100_b0_4000_0_5000_-4000_-0",
           0.7034818627011229,
           62
          ],
          [
           "s50_50_50_b0_4000_0_5000_-4000_-0",
           5.901202897486718,
           62
          ],
          [
           "s25_25_25_b0_4000_0_5000_-4000_-0",
           8.985118505496787,
           62
          ]
         ],
         "hovertemplate": "Cells: %{x}<br>Entropy number: %{y}<br>Snap Idx: %{customdata[2]:03d}<br>Mapped: %{customdata[0]}<br>Rel Error: %{customdata[1]:.3f}%<extra></extra>",
         "line": {
          "color": "rgb(254, 230, 0)"
         },
         "mode": "lines+markers",
         "name": "062",
         "opacity": 0.4,
         "type": "scatter",
         "x": {
          "bdata": "YOoAAEJpAQAAUwcAAJg6AADA1AE=",
          "dtype": "i4"
         },
         "y": {
          "bdata": "VeabUIbN7z+VSh0rrSbxP1w8rmWQRfE/p+lQd8cp8j/yzmcVL7HyPw==",
          "dtype": "f8"
         }
        },
        {
         "customdata": [
          [
           "s200_200_200_b0_4000_0_5000_-4000_-0",
           -13.20983507362701,
           63
          ],
          [
           "Original Comsol Mesh",
           0,
           63
          ],
          [
           "s100_100_100_b0_4000_0_5000_-4000_-0",
           0.11160865077143324,
           63
          ],
          [
           "s50_50_50_b0_4000_0_5000_-4000_-0",
           8.088891295362364,
           63
          ],
          [
           "s25_25_25_b0_4000_0_5000_-4000_-0",
           12.586799459362252,
           63
          ]
         ],
         "hovertemplate": "Cells: %{x}<br>Entropy number: %{y}<br>Snap Idx: %{customdata[2]:03d}<br>Mapped: %{customdata[0]}<br>Rel Error: %{customdata[1]:.3f}%<extra></extra>",
         "line": {
          "color": "rgb(254, 217, 0)"
         },
         "mode": "lines+markers",
         "name": "063",
         "opacity": 0.4,
         "type": "scatter",
         "x": {
          "bdata": "YOoAAJ5UAQAAUwcAAJg6AADA1AE=",
          "dtype": "i4"
         },
         "y": {
          "bdata": "LzQOdvoC8z8TTj7awOf1P6jF4hYD7vU/yu8swFut9z/TzvkJl6n4Pw==",
          "dtype": "f8"
         }
        },
        {
         "customdata": [
          [
           "s200_200_200_b0_4000_0_5000_-4000_-0",
           -9.511032273244894,
           64
          ],
          [
           "Original Comsol Mesh",
           0,
           64
          ],
          [
           "s100_100_100_b0_4000_0_5000_-4000_-0",
           0.9595673377471666,
           64
          ],
          [
           "s50_50_50_b0_4000_0_5000_-4000_-0",
           7.612338003356147,
           64
          ],
          [
           "s25_25_25_b0_4000_0_5000_-4000_-0",
           11.482101984801302,
           64
          ]
         ],
         "hovertemplate": "Cells: %{x}<br>Entropy number: %{y}<br>Snap Idx: %{customdata[2]:03d}<br>Mapped: %{customdata[0]}<br>Rel Error: %{customdata[1]:.3f}%<extra></extra>",
         "line": {
          "color": "rgb(254, 204, 0)"
         },
         "mode": "lines+markers",
         "name": "064",
         "opacity": 0.4,
         "type": "scatter",
         "x": {
          "bdata": "YOoAAFZ/AQAAUwcAAJg6AADA1AE=",
          "dtype": "i4"
         },
         "y": {
          "bdata": "XlclMp9t8T9ltdTokULzPylOKtHhcfM/+0nlz+a59D+CpMf5s3j1Pw==",
          "dtype": "f8"
         }
        },
        {
         "customdata": [
          [
           "s200_200_200_b0_4000_0_5000_-4000_-0",
           -8.040713345638622,
           65
          ],
          [
           "Original Comsol Mesh",
           0,
           65
          ],
          [
           "s100_100_100_b0_4000_0_5000_-4000_-0",
           0.5961790024614617,
           65
          ],
          [
           "s50_50_50_b0_4000_0_5000_-4000_-0",
           6.202696965231317,
           65
          ],
          [
           "s25_25_25_b0_4000_0_5000_-4000_-0",
           9.47961777438732,
           65
          ]
         ],
         "hovertemplate": "Cells: %{x}<br>Entropy number: %{y}<br>Snap Idx: %{customdata[2]:03d}<br>Mapped: %{customdata[0]}<br>Rel Error: %{customdata[1]:.3f}%<extra></extra>",
         "line": {
          "color": "rgb(254, 191, 0)"
         },
         "mode": "lines+markers",
         "name": "065",
         "opacity": 0.4,
         "type": "scatter",
         "x": {
          "bdata": "YOoAAJV1AQAAUwcAAJg6AADA1AE=",
          "dtype": "i4"
         },
         "y": {
          "bdata": "lxQex24o8D+94o70HJLxP90Kvw7urPE/iQUDEB6p8j9/jHxchDzzPw==",
          "dtype": "f8"
         }
        },
        {
         "customdata": [
          [
           "s200_200_200_b0_4000_0_5000_-4000_-0",
           -8.176130139796548,
           66
          ],
          [
           "Original Comsol Mesh",
           0,
           66
          ],
          [
           "s100_100_100_b0_4000_0_5000_-4000_-0",
           2.295466033097877,
           66
          ],
          [
           "s50_50_50_b0_4000_0_5000_-4000_-0",
           8.815853905077631,
           66
          ],
          [
           "s25_25_25_b0_4000_0_5000_-4000_-0",
           12.52627512179219,
           66
          ]
         ],
         "hovertemplate": "Cells: %{x}<br>Entropy number: %{y}<br>Snap Idx: %{customdata[2]:03d}<br>Mapped: %{customdata[0]}<br>Rel Error: %{customdata[1]:.3f}%<extra></extra>",
         "line": {
          "color": "rgb(254, 179, 0)"
         },
         "mode": "lines+markers",
         "name": "066",
         "opacity": 0.4,
         "type": "scatter",
         "x": {
          "bdata": "YOoAAFSZAQAAUwcAAJg6AADA1AE=",
          "dtype": "i4"
         },
         "y": {
          "bdata": "QpGn2ZLE8T+txBvQlVnzP0HizQZLy/M/bhUGOkkO9T+8qDG9Fcb1Pw==",
          "dtype": "f8"
         }
        },
        {
         "customdata": [
          [
           "s200_200_200_b0_4000_0_5000_-4000_-0",
           -10.573321601997403,
           67
          ],
          [
           "Original Comsol Mesh",
           0,
           67
          ],
          [
           "s100_100_100_b0_4000_0_5000_-4000_-0",
           1.1988065578385232,
           67
          ],
          [
           "s50_50_50_b0_4000_0_5000_-4000_-0",
           8.446241411940932,
           67
          ],
          [
           "s25_25_25_b0_4000_0_5000_-4000_-0",
           12.545848436684127,
           67
          ]
         ],
         "hovertemplate": "Cells: %{x}<br>Entropy number: %{y}<br>Snap Idx: %{customdata[2]:03d}<br>Mapped: %{customdata[0]}<br>Rel Error: %{customdata[1]:.3f}%<extra></extra>",
         "line": {
          "color": "rgb(253, 166, 0)"
         },
         "mode": "lines+markers",
         "name": "067",
         "opacity": 0.4,
         "type": "scatter",
         "x": {
          "bdata": "YOoAANWHAQAAUwcAAJg6AADA1AE=",
          "dtype": "i4"
         },
         "y": {
          "bdata": "VXKM8BE48z+0ewLSyn31P1SZXYS/v/U/qZAKp3xO9z9h+uLtCTD4Pw==",
          "dtype": "f8"
         }
        },
        {
         "customdata": [
          [
           "s200_200_200_b0_4000_0_5000_-4000_-0",
           -9.833142733884587,
           68
          ],
          [
           "Original Comsol Mesh",
           0,
           68
          ],
          [
           "s100_100_100_b0_4000_0_5000_-4000_-0",
           0.35234479920073314,
           68
          ],
          [
           "s50_50_50_b0_4000_0_5000_-4000_-0",
           6.823978386075187,
           68
          ],
          [
           "s25_25_25_b0_4000_0_5000_-4000_-0",
           10.61850604617228,
           68
          ]
         ],
         "hovertemplate": "Cells: %{x}<br>Entropy number: %{y}<br>Snap Idx: %{customdata[2]:03d}<br>Mapped: %{customdata[0]}<br>Rel Error: %{customdata[1]:.3f}%<extra></extra>",
         "line": {
          "color": "rgb(253, 153, 0)"
         },
         "mode": "lines+markers",
         "name": "068",
         "opacity": 0.4,
         "type": "scatter",
         "x": {
          "bdata": "YOoAAMhvAQAAUwcAAJg6AADA1AE=",
          "dtype": "i4"
         },
         "y": {
          "bdata": "3ypHjlzh8D/Hxx2goLjyP1+UmZaDyfI/1o+54Kz/8z+aaLFqiLX0Pw==",
          "dtype": "f8"
         }
        },
        {
         "customdata": [
          [
           "s200_200_200_b0_4000_0_5000_-4000_-0",
           -12.310987676887136,
           69
          ],
          [
           "Original Comsol Mesh",
           0,
           69
          ],
          [
           "s100_100_100_b0_4000_0_5000_-4000_-0",
           -0.1915872606556615,
           69
          ],
          [
           "s50_50_50_b0_4000_0_5000_-4000_-0",
           7.486924674687441,
           69
          ],
          [
           "s25_25_25_b0_4000_0_5000_-4000_-0",
           11.922536901308996,
           69
          ]
         ],
         "hovertemplate": "Cells: %{x}<br>Entropy number: %{y}<br>Snap Idx: %{customdata[2]:03d}<br>Mapped: %{customdata[0]}<br>Rel Error: %{customdata[1]:.3f}%<extra></extra>",
         "line": {
          "color": "rgb(253, 140, 0)"
         },
         "mode": "lines+markers",
         "name": "069",
         "opacity": 0.4,
         "type": "scatter",
         "x": {
          "bdata": "YOoAADVZAQAAUwcAAJg6AADA1AE=",
          "dtype": "i4"
         },
         "y": {
          "bdata": "+uQIUqkt8j+c6dicAbv0P+UObLjWsPQ/5eg7flZI9j/avP9vvDP3Pw==",
          "dtype": "f8"
         }
        },
        {
         "customdata": [
          [
           "s200_200_200_b0_4000_0_5000_-4000_-0",
           -10.424389676586857,
           70
          ],
          [
           "Original Comsol Mesh",
           0,
           70
          ],
          [
           "s100_100_100_b0_4000_0_5000_-4000_-0",
           0.09047661715643632,
           70
          ],
          [
           "s50_50_50_b0_4000_0_5000_-4000_-0",
           6.689140996146802,
           70
          ],
          [
           "s25_25_25_b0_4000_0_5000_-4000_-0",
           10.616116289292222,
           70
          ]
         ],
         "hovertemplate": "Cells: %{x}<br>Entropy number: %{y}<br>Snap Idx: %{customdata[2]:03d}<br>Mapped: %{customdata[0]}<br>Rel Error: %{customdata[1]:.3f}%<extra></extra>",
         "line": {
          "color": "rgb(252, 128, 0)"
         },
         "mode": "lines+markers",
         "name": "070",
         "opacity": 0.4,
         "type": "scatter",
         "x": {
          "bdata": "YOoAAOJVAQAAUwcAAJg6AADA1AE=",
          "dtype": "i4"
         },
         "y": {
          "bdata": "mtHneNHM8D+ft0nLU8HyPx+t0eCrxfI/yykesH4C9D+22ji0Cr/0Pw==",
          "dtype": "f8"
         }
        },
        {
         "customdata": [
          [
           "s200_200_200_b0_4000_0_5000_-4000_-0",
           -11.736039341598826,
           71
          ],
          [
           "Original Comsol Mesh",
           0,
           71
          ],
          [
           "s100_100_100_b0_4000_0_5000_-4000_-0",
           -0.3518235835000289,
           71
          ],
          [
           "s50_50_50_b0_4000_0_5000_-4000_-0",
           6.973551291668068,
           71
          ],
          [
           "s25_25_25_b0_4000_0_5000_-4000_-0",
           11.248167566596114,
           71
          ]
         ],
         "hovertemplate": "Cells: %{x}<br>Entropy number: %{y}<br>Snap Idx: %{customdata[2]:03d}<br>Mapped: %{customdata[0]}<br>Rel Error: %{customdata[1]:.3f}%<extra></extra>",
         "line": {
          "color": "rgb(252, 115, 0)"
         },
         "mode": "lines+markers",
         "name": "071",
         "opacity": 0.4,
         "type": "scatter",
         "x": {
          "bdata": "YOoAAC5ZAQAAUwcAAJg6AADA1AE=",
          "dtype": "i4"
         },
         "y": {
          "bdata": "zG5Obq158T+C/WpmhczzP2JN6lewuvM/SXV5Hfot9T+IWO8Howb2Pw==",
          "dtype": "f8"
         }
        },
        {
         "customdata": [
          [
           "s200_200_200_b0_4000_0_5000_-4000_-0",
           -10.205420173706404,
           72
          ],
          [
           "Original Comsol Mesh",
           0,
           72
          ],
          [
           "s100_100_100_b0_4000_0_5000_-4000_-0",
           1.8770436949204687,
           72
          ],
          [
           "s50_50_50_b0_4000_0_5000_-4000_-0",
           9.174488079675536,
           72
          ],
          [
           "s25_25_25_b0_4000_0_5000_-4000_-0",
           13.262774516326886,
           72
          ]
         ],
         "hovertemplate": "Cells: %{x}<br>Entropy number: %{y}<br>Snap Idx: %{customdata[2]:03d}<br>Mapped: %{customdata[0]}<br>Rel Error: %{customdata[1]:.3f}%<extra></extra>",
         "line": {
          "color": "rgb(252, 102, 0)"
         },
         "mode": "lines+markers",
         "name": "072",
         "opacity": 0.4,
         "type": "scatter",
         "x": {
          "bdata": "YOoAAE2NAQAAUwcAAJg6AADA1AE=",
          "dtype": "i4"
         },
         "y": {
          "bdata": "oJV5tzf68j9eq65UXiL1P9oJ4Wfsh/U/CQKr+b0S9z+EP6/27u/3Pw==",
          "dtype": "f8"
         }
        },
        {
         "customdata": [
          [
           "s200_200_200_b0_4000_0_5000_-4000_-0",
           -5.434376816754641,
           73
          ],
          [
           "Original Comsol Mesh",
           0,
           73
          ],
          [
           "s100_100_100_b0_4000_0_5000_-4000_-0",
           1.7621146206018092,
           73
          ],
          [
           "s50_50_50_b0_4000_0_5000_-4000_-0",
           6.423461219662912,
           73
          ],
          [
           "s25_25_25_b0_4000_0_5000_-4000_-0",
           9.195674331118845,
           73
          ]
         ],
         "hovertemplate": "Cells: %{x}<br>Entropy number: %{y}<br>Snap Idx: %{customdata[2]:03d}<br>Mapped: %{customdata[0]}<br>Rel Error: %{customdata[1]:.3f}%<extra></extra>",
         "line": {
          "color": "rgb(252, 89, 0)"
         },
         "mode": "lines+markers",
         "name": "073",
         "opacity": 0.4,
         "type": "scatter",
         "x": {
          "bdata": "YOoAADh3AQAAUwcAAJg6AADA1AE=",
          "dtype": "i4"
         },
         "y": {
          "bdata": "1A/HaIZ97z+MbOixZabwP0NTGW2B8fA/AQVo0DC48T8Zhm15Wi7yPw==",
          "dtype": "f8"
         }
        },
        {
         "customdata": [
          [
           "s200_200_200_b0_4000_0_5000_-4000_-0",
           -12.184937615195093,
           74
          ],
          [
           "Original Comsol Mesh",
           0,
           74
          ],
          [
           "s100_100_100_b0_4000_0_5000_-4000_-0",
           -0.38114457186261586,
           74
          ],
          [
           "s50_50_50_b0_4000_0_5000_-4000_-0",
           6.887528607079988,
           74
          ],
          [
           "s25_25_25_b0_4000_0_5000_-4000_-0",
           11.084634883142297,
           74
          ]
         ],
         "hovertemplate": "Cells: %{x}<br>Entropy number: %{y}<br>Snap Idx: %{customdata[2]:03d}<br>Mapped: %{customdata[0]}<br>Rel Error: %{customdata[1]:.3f}%<extra></extra>",
         "line": {
          "color": "rgb(251, 77, 0)"
         },
         "mode": "lines+markers",
         "name": "074",
         "opacity": 0.4,
         "type": "scatter",
         "x": {
          "bdata": "YOoAAENUAQAAUwcAAJg6AADA1AE=",
          "dtype": "i4"
         },
         "y": {
          "bdata": "rxxbYOF78T/9i0Vy8OjzP6O0lTWD1fM/o0VpDf5H9T+cddmV6h32Pw==",
          "dtype": "f8"
         }
        },
        {
         "customdata": [
          [
           "s200_200_200_b0_4000_0_5000_-4000_-0",
           -8.907880052700744,
           75
          ],
          [
           "Original Comsol Mesh",
           0,
           75
          ],
          [
           "s100_100_100_b0_4000_0_5000_-4000_-0",
           0.6379206681147377,
           75
          ],
          [
           "s50_50_50_b0_4000_0_5000_-4000_-0",
           6.711509326421486,
           75
          ],
          [
           "s25_25_25_b0_4000_0_5000_-4000_-0",
           10.267337481737812,
           75
          ]
         ],
         "hovertemplate": "Cells: %{x}<br>Entropy number: %{y}<br>Snap Idx: %{customdata[2]:03d}<br>Mapped: %{customdata[0]}<br>Rel Error: %{customdata[1]:.3f}%<extra></extra>",
         "line": {
          "color": "rgb(251, 64, 0)"
         },
         "mode": "lines+markers",
         "name": "075",
         "opacity": 0.4,
         "type": "scatter",
         "x": {
          "bdata": "YOoAAIh8AQAAUwcAAJg6AADA1AE=",
          "dtype": "i4"
         },
         "y": {
          "bdata": "NfxWjz+o8D+XbgiOP0nyPxzhrGQcZ/I/yk2xQG6D8z8Upg9I4yn0Pw==",
          "dtype": "f8"
         }
        },
        {
         "customdata": [
          [
           "s200_200_200_b0_4000_0_5000_-4000_-0",
           -11.645784756220495,
           76
          ],
          [
           "Original Comsol Mesh",
           0,
           76
          ],
          [
           "s100_100_100_b0_4000_0_5000_-4000_-0",
           0.5312148248878966,
           76
          ],
          [
           "s50_50_50_b0_4000_0_5000_-4000_-0",
           8.042106804526398,
           76
          ],
          [
           "s25_25_25_b0_4000_0_5000_-4000_-0",
           12.351023891737558,
           76
          ]
         ],
         "hovertemplate": "Cells: %{x}<br>Entropy number: %{y}<br>Snap Idx: %{customdata[2]:03d}<br>Mapped: %{customdata[0]}<br>Rel Error: %{customdata[1]:.3f}%<extra></extra>",
         "line": {
          "color": "rgb(251, 51, 0)"
         },
         "mode": "lines+markers",
         "name": "076",
         "opacity": 0.4,
         "type": "scatter",
         "x": {
          "bdata": "YOoAANdvAQAAUwcAAJg6AADA1AE=",
          "dtype": "i4"
         },
         "y": {
          "bdata": "BV5S5POO8j/8XSZ2KgH1PyTcQuy6HfU/ItYIcZqx9j9txS0ITZn3Pw==",
          "dtype": "f8"
         }
        },
        {
         "customdata": [
          [
           "s200_200_200_b0_4000_0_5000_-4000_-0",
           -11.534426118752915,
           77
          ],
          [
           "Original Comsol Mesh",
           0,
           77
          ],
          [
           "s100_100_100_b0_4000_0_5000_-4000_-0",
           -0.19698359639257448,
           77
          ],
          [
           "s50_50_50_b0_4000_0_5000_-4000_-0",
           7.067325529220795,
           77
          ],
          [
           "s25_25_25_b0_4000_0_5000_-4000_-0",
           11.248615947227822,
           77
          ]
         ],
         "hovertemplate": "Cells: %{x}<br>Entropy number: %{y}<br>Snap Idx: %{customdata[2]:03d}<br>Mapped: %{customdata[0]}<br>Rel Error: %{customdata[1]:.3f}%<extra></extra>",
         "line": {
          "color": "rgb(251, 38, 0)"
         },
         "mode": "lines+markers",
         "name": "077",
         "opacity": 0.4,
         "type": "scatter",
         "x": {
          "bdata": "YOoAAKZZAQAAUwcAAJg6AADA1AE=",
          "dtype": "i4"
         },
         "y": {
          "bdata": "FMh/aCNW8T+11mUMzJjzP6QZITDqjvM/DwWwtln79D+l6EoHHs31Pw==",
          "dtype": "f8"
         }
        },
        {
         "customdata": [
          [
           "s200_200_200_b0_4000_0_5000_-4000_-0",
           -11.852145919161886,
           78
          ],
          [
           "Original Comsol Mesh",
           0,
           78
          ],
          [
           "s100_100_100_b0_4000_0_5000_-4000_-0",
           0.4678376009067427,
           78
          ],
          [
           "s50_50_50_b0_4000_0_5000_-4000_-0",
           8.73147945491737,
           78
          ],
          [
           "s25_25_25_b0_4000_0_5000_-4000_-0",
           13.197270376817647,
           78
          ]
         ],
         "hovertemplate": "Cells: %{x}<br>Entropy number: %{y}<br>Snap Idx: %{customdata[2]:03d}<br>Mapped: %{customdata[0]}<br>Rel Error: %{customdata[1]:.3f}%<extra></extra>",
         "line": {
          "color": "rgb(250, 26, 0)"
         },
         "mode": "lines+markers",
         "name": "078",
         "opacity": 0.4,
         "type": "scatter",
         "x": {
          "bdata": "YOoAABFUAQAAUwcAAJg6AADA1AE=",
          "dtype": "i4"
         },
         "y": {
          "bdata": "Ue4o2VYw8z+3A3km18T1P6Qaxorp3vU/Pk6YjW6r9z/musyhTaT4Pw==",
          "dtype": "f8"
         }
        },
        {
         "customdata": [
          [
           "s200_200_200_b0_4000_0_5000_-4000_-0",
           -12.289805235931695,
           79
          ],
          [
           "Original Comsol Mesh",
           0,
           79
          ],
          [
           "s100_100_100_b0_4000_0_5000_-4000_-0",
           -0.17815369754667162,
           79
          ],
          [
           "s50_50_50_b0_4000_0_5000_-4000_-0",
           7.386754421457992,
           79
          ],
          [
           "s25_25_25_b0_4000_0_5000_-4000_-0",
           11.79206761999997,
           79
          ]
         ],
         "hovertemplate": "Cells: %{x}<br>Entropy number: %{y}<br>Snap Idx: %{customdata[2]:03d}<br>Mapped: %{customdata[0]}<br>Rel Error: %{customdata[1]:.3f}%<extra></extra>",
         "line": {
          "color": "rgb(250, 13, 0)"
         },
         "mode": "lines+markers",
         "name": "079",
         "opacity": 0.4,
         "type": "scatter",
         "x": {
          "bdata": "YOoAAMJgAQAAUwcAAJg6AADA1AE=",
          "dtype": "i4"
         },
         "y": {
          "bdata": "07NQWSP/8T9CaJm6roT0P+SYqR5Te/Q/mStwb68I9j9xjuUYFfD2Pw==",
          "dtype": "f8"
         }
        },
        {
         "customdata": [
          [
           "s200_200_200_b0_4000_0_5000_-4000_-0",
           -10.123346297543595,
           80
          ],
          [
           "Original Comsol Mesh",
           0,
           80
          ],
          [
           "s100_100_100_b0_4000_0_5000_-4000_-0",
           0.2485336179786031,
           80
          ],
          [
           "s50_50_50_b0_4000_0_5000_-4000_-0",
           6.895723113024954,
           80
          ],
          [
           "s25_25_25_b0_4000_0_5000_-4000_-0",
           10.768620365182668,
           80
          ]
         ],
         "hovertemplate": "Cells: %{x}<br>Entropy number: %{y}<br>Snap Idx: %{customdata[2]:03d}<br>Mapped: %{customdata[0]}<br>Rel Error: %{customdata[1]:.3f}%<extra></extra>",
         "line": {
          "color": "rgb(250, 0, 0)"
         },
         "mode": "lines+markers",
         "name": "080",
         "opacity": 0.4,
         "type": "scatter",
         "x": {
          "bdata": "YOoAANdtAQAAUwcAAJg6AADA1AE=",
          "dtype": "i4"
         },
         "y": {
          "bdata": "XNmew73v8D9QPVsPGtjyPy+cMWAX5PI/+5cELcIk9D+CaCBMl9/0Pw==",
          "dtype": "f8"
         }
        },
        {
         "customdata": [
          [
           "s200_200_200_b0_4000_0_5000_-4000_-0",
           -7.484873172268684,
           81
          ],
          [
           "Original Comsol Mesh",
           0,
           81
          ],
          [
           "s100_100_100_b0_4000_0_5000_-4000_-0",
           2.7377866134650524,
           81
          ],
          [
           "s50_50_50_b0_4000_0_5000_-4000_-0",
           9.077701068175323,
           81
          ],
          [
           "s25_25_25_b0_4000_0_5000_-4000_-0",
           12.6720936113699,
           81
          ]
         ],
         "hovertemplate": "Cells: %{x}<br>Entropy number: %{y}<br>Snap Idx: %{customdata[2]:03d}<br>Mapped: %{customdata[0]}<br>Rel Error: %{customdata[1]:.3f}%<extra></extra>",
         "line": {
          "color": "rgb(244, 0, 0)"
         },
         "mode": "lines+markers",
         "name": "081",
         "opacity": 0.4,
         "type": "scatter",
         "x": {
          "bdata": "YOoAAAihAQAAUwcAAJg6AADA1AE=",
          "dtype": "i4"
         },
         "y": {
          "bdata": "Rebr+nib8T+czKGFJQjzP2QTmhmJjfM/gmu062zC9D8lOfSujHH1Pw==",
          "dtype": "f8"
         }
        },
        {
         "customdata": [
          [
           "s200_200_200_b0_4000_0_5000_-4000_-0",
           -8.76201966717584,
           82
          ],
          [
           "Original Comsol Mesh",
           0,
           82
          ],
          [
           "s100_100_100_b0_4000_0_5000_-4000_-0",
           0.5922878460065605,
           82
          ],
          [
           "s50_50_50_b0_4000_0_5000_-4000_-0",
           6.5804705380186785,
           82
          ],
          [
           "s25_25_25_b0_4000_0_5000_-4000_-0",
           10.10815917095933,
           82
          ]
         ],
         "hovertemplate": "Cells: %{x}<br>Entropy number: %{y}<br>Snap Idx: %{customdata[2]:03d}<br>Mapped: %{customdata[0]}<br>Rel Error: %{customdata[1]:.3f}%<extra></extra>",
         "line": {
          "color": "rgb(238, 0, 0)"
         },
         "mode": "lines+markers",
         "name": "082",
         "opacity": 0.4,
         "type": "scatter",
         "x": {
          "bdata": "YOoAAFprAQAAUwcAAJg6AADA1AE=",
          "dtype": "i4"
         },
         "y": {
          "bdata": "1bERIV5Q8D/Lvei6ceHxP9/JvU+O/PE/48CFYKkO8z9ggXi9I7DzPw==",
          "dtype": "f8"
         }
        },
        {
         "customdata": [
          [
           "s200_200_200_b0_4000_0_5000_-4000_-0",
           -8.157836756766132,
           83
          ],
          [
           "Original Comsol Mesh",
           0,
           83
          ],
          [
           "s100_100_100_b0_4000_0_5000_-4000_-0",
           1.3196288205057376,
           83
          ],
          [
           "s50_50_50_b0_4000_0_5000_-4000_-0",
           7.327332511111706,
           83
          ],
          [
           "s25_25_25_b0_4000_0_5000_-4000_-0",
           10.842824238866616,
           83
          ]
         ],
         "hovertemplate": "Cells: %{x}<br>Entropy number: %{y}<br>Snap Idx: %{customdata[2]:03d}<br>Mapped: %{customdata[0]}<br>Rel Error: %{customdata[1]:.3f}%<extra></extra>",
         "line": {
          "color": "rgb(232, 0, 0)"
         },
         "mode": "lines+markers",
         "name": "083",
         "opacity": 0.4,
         "type": "scatter",
         "x": {
          "bdata": "YOoAAD5+AQAAUwcAAJg6AADA1AE=",
          "dtype": "i4"
         },
         "y": {
          "bdata": "HypjOq2c8D8GO9gtaxbyP3Z60uOFU/I/JsVxcLRp8z/RHaGgfAz0Pw==",
          "dtype": "f8"
         }
        },
        {
         "customdata": [
          [
           "s200_200_200_b0_4000_0_5000_-4000_-0",
           -7.34892860402176,
           84
          ],
          [
           "Original Comsol Mesh",
           0,
           84
          ],
          [
           "s100_100_100_b0_4000_0_5000_-4000_-0",
           0.7641227968468974,
           84
          ],
          [
           "s50_50_50_b0_4000_0_5000_-4000_-0",
           6.084162232043525,
           84
          ],
          [
           "s25_25_25_b0_4000_0_5000_-4000_-0",
           9.225674123010569,
           84
          ]
         ],
         "hovertemplate": "Cells: %{x}<br>Entropy number: %{y}<br>Snap Idx: %{customdata[2]:03d}<br>Mapped: %{customdata[0]}<br>Rel Error: %{customdata[1]:.3f}%<extra></extra>",
         "line": {
          "color": "rgb(226, 0, 0)"
         },
         "mode": "lines+markers",
         "name": "084",
         "opacity": 0.4,
         "type": "scatter",
         "x": {
          "bdata": "YOoAAFpmAQAAUwcAAJg6AADA1AE=",
          "dtype": "i4"
         },
         "y": {
          "bdata": "d/bgMI7e7z8Q5abX1jLxP1wmvXl7VPE/YzhrEbc+8j/1dk7kB8nyPw==",
          "dtype": "f8"
         }
        },
        {
         "customdata": [
          [
           "s200_200_200_b0_4000_0_5000_-4000_-0",
           -7.665819145866559,
           85
          ],
          [
           "Original Comsol Mesh",
           0,
           85
          ],
          [
           "s100_100_100_b0_4000_0_5000_-4000_-0",
           1.2359628086009136,
           85
          ],
          [
           "s50_50_50_b0_4000_0_5000_-4000_-0",
           6.92523615810676,
           85
          ],
          [
           "s25_25_25_b0_4000_0_5000_-4000_-0",
           10.230664130216056,
           85
          ]
         ],
         "hovertemplate": "Cells: %{x}<br>Entropy number: %{y}<br>Snap Idx: %{customdata[2]:03d}<br>Mapped: %{customdata[0]}<br>Rel Error: %{customdata[1]:.3f}%<extra></extra>",
         "line": {
          "color": "rgb(220, 0, 0)"
         },
         "mode": "lines+markers",
         "name": "085",
         "opacity": 0.4,
         "type": "scatter",
         "x": {
          "bdata": "YOoAAKGJAQAAUwcAAJg6AADA1AE=",
          "dtype": "i4"
         },
         "y": {
          "bdata": "cl19oxNz8D+jZQXosNDxPxH9bzoPCfI/r/AlmIcM8z9Jm5GvR6PzPw==",
          "dtype": "f8"
         }
        },
        {
         "customdata": [
          [
           "s200_200_200_b0_4000_0_5000_-4000_-0",
           -12.145838264254866,
           86
          ],
          [
           "Original Comsol Mesh",
           0,
           86
          ],
          [
           "s100_100_100_b0_4000_0_5000_-4000_-0",
           -0.1936006979237405,
           86
          ],
          [
           "s50_50_50_b0_4000_0_5000_-4000_-0",
           7.59059547847592,
           86
          ],
          [
           "s25_25_25_b0_4000_0_5000_-4000_-0",
           12.07229990066126,
           86
          ]
         ],
         "hovertemplate": "Cells: %{x}<br>Entropy number: %{y}<br>Snap Idx: %{customdata[2]:03d}<br>Mapped: %{customdata[0]}<br>Rel Error: %{customdata[1]:.3f}%<extra></extra>",
         "line": {
          "color": "rgb(213, 0, 0)"
         },
         "mode": "lines+markers",
         "name": "086",
         "opacity": 0.4,
         "type": "scatter",
         "x": {
          "bdata": "YOoAALFYAQAAUwcAAJg6AADA1AE=",
          "dtype": "i4"
         },
         "y": {
          "bdata": "X/XhaPRN8j/eWpC5ydX0P1i3ZDR2y/Q/PmBsfadq9j/gex/psln3Pw==",
          "dtype": "f8"
         }
        },
        {
         "customdata": [
          [
           "s200_200_200_b0_4000_0_5000_-4000_-0",
           -12.415112355049619,
           87
          ],
          [
           "Original Comsol Mesh",
           0,
           87
          ],
          [
           "s100_100_100_b0_4000_0_5000_-4000_-0",
           -0.30262827800400904,
           87
          ],
          [
           "s50_50_50_b0_4000_0_5000_-4000_-0",
           7.2801387560761,
           87
          ],
          [
           "s25_25_25_b0_4000_0_5000_-4000_-0",
           11.684943555786989,
           87
          ]
         ],
         "hovertemplate": "Cells: %{x}<br>Entropy number: %{y}<br>Snap Idx: %{customdata[2]:03d}<br>Mapped: %{customdata[0]}<br>Rel Error: %{customdata[1]:.3f}%<extra></extra>",
         "line": {
          "color": "rgb(207, 0, 0)"
         },
         "mode": "lines+markers",
         "name": "087",
         "opacity": 0.4,
         "type": "scatter",
         "x": {
          "bdata": "YOoAAKpeAQAAUwcAAJg6AADA1AE=",
          "dtype": "i4"
         },
         "y": {
          "bdata": "h8FhxNgA8j+QcT/8JY70P1U85T85fvQ/Rxgjdj0N9j+DDtoGB/X2Pw==",
          "dtype": "f8"
         }
        },
        {
         "customdata": [
          [
           "s200_200_200_b0_4000_0_5000_-4000_-0",
           -11.776736497172667,
           88
          ],
          [
           "Original Comsol Mesh",
           0,
           88
          ],
          [
           "s100_100_100_b0_4000_0_5000_-4000_-0",
           -0.2833985142611105,
           88
          ],
          [
           "s50_50_50_b0_4000_0_5000_-4000_-0",
           6.924030241792425,
           88
          ],
          [
           "s25_25_25_b0_4000_0_5000_-4000_-0",
           11.164074333569452,
           88
          ]
         ],
         "hovertemplate": "Cells: %{x}<br>Entropy number: %{y}<br>Snap Idx: %{customdata[2]:03d}<br>Mapped: %{customdata[0]}<br>Rel Error: %{customdata[1]:.3f}%<extra></extra>",
         "line": {
          "color": "rgb(201, 0, 0)"
         },
         "mode": "lines+markers",
         "name": "088",
         "opacity": 0.4,
         "type": "scatter",
         "x": {
          "bdata": "YOoAALtWAQAAUwcAAJg6AADA1AE=",
          "dtype": "i4"
         },
         "y": {
          "bdata": "F7hVfPFd8T9jzydAbK/zP8Nj+SUkofM/LtXQoFoM9T8dhcIbB+L1Pw==",
          "dtype": "f8"
         }
        },
        {
         "customdata": [
          [
           "s200_200_200_b0_4000_0_5000_-4000_-0",
           -10.94811063807908,
           89
          ],
          [
           "Original Comsol Mesh",
           0,
           89
          ],
          [
           "s100_100_100_b0_4000_0_5000_-4000_-0",
           0.09907842726230583,
           89
          ],
          [
           "s50_50_50_b0_4000_0_5000_-4000_-0",
           7.269418923228567,
           89
          ],
          [
           "s25_25_25_b0_4000_0_5000_-4000_-0",
           11.443371761874294,
           89
          ]
         ],
         "hovertemplate": "Cells: %{x}<br>Entropy number: %{y}<br>Snap Idx: %{customdata[2]:03d}<br>Mapped: %{customdata[0]}<br>Rel Error: %{customdata[1]:.3f}%<extra></extra>",
         "line": {
          "color": "rgb(195, 0, 0)"
         },
         "mode": "lines+markers",
         "name": "089",
         "opacity": 0.4,
         "type": "scatter",
         "x": {
          "bdata": "YOoAAGtdAQAAUwcAAJg6AADA1AE=",
          "dtype": "i4"
         },
         "y": {
          "bdata": "zMTxNvBE8T85Weq4c2TzPyiH5+heafM/89lKv1bN9D8T6pSAjZz1Pw==",
          "dtype": "f8"
         }
        },
        {
         "customdata": [
          [
           "s200_200_200_b0_4000_0_5000_-4000_-0",
           -10.103953755122093,
           90
          ],
          [
           "Original Comsol Mesh",
           0,
           90
          ],
          [
           "s100_100_100_b0_4000_0_5000_-4000_-0",
           1.959373221742849,
           90
          ],
          [
           "s50_50_50_b0_4000_0_5000_-4000_-0",
           9.1766093475043,
           90
          ],
          [
           "s25_25_25_b0_4000_0_5000_-4000_-0",
           13.230009564421335,
           90
          ]
         ],
         "hovertemplate": "Cells: %{x}<br>Entropy number: %{y}<br>Snap Idx: %{customdata[2]:03d}<br>Mapped: %{customdata[0]}<br>Rel Error: %{customdata[1]:.3f}%<extra></extra>",
         "line": {
          "color": "rgb(189, 0, 0)"
         },
         "mode": "lines+markers",
         "name": "090",
         "opacity": 0.4,
         "type": "scatter",
         "x": {
          "bdata": "YOoAAJSMAQAAUwcAAJg6AADA1AE=",
          "dtype": "i4"
         },
         "y": {
          "bdata": "CC08s1L28j+h/2Hu7Rf1P9hG2/O7gfU/lal/uHUH9z/Jk2ExV+L3Pw==",
          "dtype": "f8"
         }
        },
        {
         "customdata": [
          [
           "s200_200_200_b0_4000_0_5000_-4000_-0",
           -7.972825212014452,
           91
          ],
          [
           "Original Comsol Mesh",
           0,
           91
          ],
          [
           "s100_100_100_b0_4000_0_5000_-4000_-0",
           1.2762083580175807,
           91
          ],
          [
           "s50_50_50_b0_4000_0_5000_-4000_-0",
           7.190470918085018,
           91
          ],
          [
           "s25_25_25_b0_4000_0_5000_-4000_-0",
           10.632369696896449,
           91
          ]
         ],
         "hovertemplate": "Cells: %{x}<br>Entropy number: %{y}<br>Snap Idx: %{customdata[2]:03d}<br>Mapped: %{customdata[0]}<br>Rel Error: %{customdata[1]:.3f}%<extra></extra>",
         "line": {
          "color": "rgb(183, 0, 0)"
         },
         "mode": "lines+markers",
         "name": "091",
         "opacity": 0.4,
         "type": "scatter",
         "x": {
          "bdata": "YOoAAJSFAQAAUwcAAJg6AADA1AE=",
          "dtype": "i4"
         },
         "y": {
          "bdata": "tfTFsKqM8D9sPmh1tvvxP0X60zd3NvI/CeJeyb1G8z/BGOpMMuXzPw==",
          "dtype": "f8"
         }
        },
        {
         "customdata": [
          [
           "s200_200_200_b0_4000_0_5000_-4000_-0",
           -10.62000713203216,
           92
          ],
          [
           "Original Comsol Mesh",
           0,
           92
          ],
          [
           "s100_100_100_b0_4000_0_5000_-4000_-0",
           0.6160761423148349,
           92
          ],
          [
           "s50_50_50_b0_4000_0_5000_-4000_-0",
           7.822582752233748,
           92
          ],
          [
           "s25_25_25_b0_4000_0_5000_-4000_-0",
           12.168166332087699,
           92
          ]
         ],
         "hovertemplate": "Cells: %{x}<br>Entropy number: %{y}<br>Snap Idx: %{customdata[2]:03d}<br>Mapped: %{customdata[0]}<br>Rel Error: %{customdata[1]:.3f}%<extra></extra>",
         "line": {
          "color": "rgb(177, 0, 0)"
         },
         "mode": "lines+markers",
         "name": "092",
         "opacity": 0.4,
         "type": "scatter",
         "x": {
          "bdata": "YOoAAAdUAQAAUwcAAJg6AADA1AE=",
          "dtype": "i4"
         },
         "y": {
          "bdata": "n3fsS2u48j+9h3YF2fH0PwpUZHzhEvU/f+IUYEiV9j91lF5KSX73Pw==",
          "dtype": "f8"
         }
        },
        {
         "customdata": [
          [
           "s200_200_200_b0_4000_0_5000_-4000_-0",
           -11.830747754424213,
           93
          ],
          [
           "Original Comsol Mesh",
           0,
           93
          ],
          [
           "s100_100_100_b0_4000_0_5000_-4000_-0",
           0.020380423423845818,
           93
          ],
          [
           "s50_50_50_b0_4000_0_5000_-4000_-0",
           7.50714152478289,
           93
          ],
          [
           "s25_25_25_b0_4000_0_5000_-4000_-0",
           11.74290609574135,
           93
          ]
         ],
         "hovertemplate": "Cells: %{x}<br>Entropy number: %{y}<br>Snap Idx: %{customdata[2]:03d}<br>Mapped: %{customdata[0]}<br>Rel Error: %{customdata[1]:.3f}%<extra></extra>",
         "line": {
          "color": "rgb(171, 0, 0)"
         },
         "mode": "lines+markers",
         "name": "093",
         "opacity": 0.4,
         "type": "scatter",
         "x": {
          "bdata": "YOoAAARUAQAAUwcAAJg6AADA1AE=",
          "dtype": "i4"
         },
         "y": {
          "bdata": "rk0SmF5t8T8amj2NAcTzP06vSI0JxfM//QQ6Ld4/9T/8Z3CkMhb2Pw==",
          "dtype": "f8"
         }
        },
        {
         "customdata": [
          [
           "s200_200_200_b0_4000_0_5000_-4000_-0",
           -6.148490504321188,
           94
          ],
          [
           "Original Comsol Mesh",
           0,
           94
          ],
          [
           "s100_100_100_b0_4000_0_5000_-4000_-0",
           1.4983210207089215,
           94
          ],
          [
           "s50_50_50_b0_4000_0_5000_-4000_-0",
           6.449251709237223,
           94
          ],
          [
           "s25_25_25_b0_4000_0_5000_-4000_-0",
           9.36206677310183,
           94
          ]
         ],
         "hovertemplate": "Cells: %{x}<br>Entropy number: %{y}<br>Snap Idx: %{customdata[2]:03d}<br>Mapped: %{customdata[0]}<br>Rel Error: %{customdata[1]:.3f}%<extra></extra>",
         "line": {
          "color": "rgb(165, 0, 0)"
         },
         "mode": "lines+markers",
         "name": "094",
         "opacity": 0.4,
         "type": "scatter",
         "x": {
          "bdata": "YOoAADqEAQAAUwcAAJg6AADA1AE=",
          "dtype": "i4"
         },
         "y": {
          "bdata": "IRVhHGf87z9E5R+2bArxP4+U7KvJS/E/lDjmtcQj8j8kY6N31qLyPw==",
          "dtype": "f8"
         }
        },
        {
         "customdata": [
          [
           "s200_200_200_b0_4000_0_5000_-4000_-0",
           -12.132715430751626,
           95
          ],
          [
           "Original Comsol Mesh",
           0,
           95
          ],
          [
           "s100_100_100_b0_4000_0_5000_-4000_-0",
           0.21387945949072543,
           95
          ],
          [
           "s50_50_50_b0_4000_0_5000_-4000_-0",
           8.091577548409896,
           95
          ],
          [
           "s25_25_25_b0_4000_0_5000_-4000_-0",
           12.579804615441292,
           95
          ]
         ],
         "hovertemplate": "Cells: %{x}<br>Entropy number: %{y}<br>Snap Idx: %{customdata[2]:03d}<br>Mapped: %{customdata[0]}<br>Rel Error: %{customdata[1]:.3f}%<extra></extra>",
         "line": {
          "color": "rgb(159, 0, 0)"
         },
         "mode": "lines+markers",
         "name": "095",
         "opacity": 0.4,
         "type": "scatter",
         "x": {
          "bdata": "YOoAAJdTAQAAUwcAAJg6AADA1AE=",
          "dtype": "i4"
         },
         "y": {
          "bdata": "grr9ZBQy8j+XtuJwRLX0PwEhJw2bwPQ/meqvNzli9j+87EQLKFD3Pw==",
          "dtype": "f8"
         }
        },
        {
         "customdata": [
          [
           "s200_200_200_b0_4000_0_5000_-4000_-0",
           -11.338165360394038,
           96
          ],
          [
           "Original Comsol Mesh",
           0,
           96
          ],
          [
           "s100_100_100_b0_4000_0_5000_-4000_-0",
           -0.2529033631144193,
           96
          ],
          [
           "s50_50_50_b0_4000_0_5000_-4000_-0",
           6.855517998465278,
           96
          ],
          [
           "s25_25_25_b0_4000_0_5000_-4000_-0",
           10.984259939203591,
           96
          ]
         ],
         "hovertemplate": "Cells: %{x}<br>Entropy number: %{y}<br>Snap Idx: %{customdata[2]:03d}<br>Mapped: %{customdata[0]}<br>Rel Error: %{customdata[1]:.3f}%<extra></extra>",
         "line": {
          "color": "rgb(152, 0, 0)"
         },
         "mode": "lines+markers",
         "name": "096",
         "opacity": 0.4,
         "type": "scatter",
         "x": {
          "bdata": "YOoAAKBcAQAAUwcAAJg6AADA1AE=",
          "dtype": "i4"
         },
         "y": {
          "bdata": "eZYaFh1L8T8BPezkQYHzP0s/uBihdPM/MCHtMJLX9D9oRk7SuqX1Pw==",
          "dtype": "f8"
         }
        },
        {
         "customdata": [
          [
           "s200_200_200_b0_4000_0_5000_-4000_-0",
           -11.015811178297632,
           97
          ],
          [
           "Original Comsol Mesh",
           0,
           97
          ],
          [
           "s100_100_100_b0_4000_0_5000_-4000_-0",
           0.35490263444444703,
           97
          ],
          [
           "s50_50_50_b0_4000_0_5000_-4000_-0",
           7.610761209355023,
           97
          ],
          [
           "s25_25_25_b0_4000_0_5000_-4000_-0",
           11.824201474356935,
           97
          ]
         ],
         "hovertemplate": "Cells: %{x}<br>Entropy number: %{y}<br>Snap Idx: %{customdata[2]:03d}<br>Mapped: %{customdata[0]}<br>Rel Error: %{customdata[1]:.3f}%<extra></extra>",
         "line": {
          "color": "rgb(146, 0, 0)"
         },
         "mode": "lines+markers",
         "name": "097",
         "opacity": 0.4,
         "type": "scatter",
         "x": {
          "bdata": "YOoAAAFtAQAAUwcAAJg6AADA1AE=",
          "dtype": "i4"
         },
         "y": {
          "bdata": "V2YsLgjT8T8ZDL7G6Qf0PxH25L4cGvQ/WEQAuS+O9T9zx1V7P2b2Pw==",
          "dtype": "f8"
         }
        },
        {
         "customdata": [
          [
           "s200_200_200_b0_4000_0_5000_-4000_-0",
           -6.857734013872556,
           98
          ],
          [
           "Original Comsol Mesh",
           0,
           98
          ],
          [
           "s100_100_100_b0_4000_0_5000_-4000_-0",
           0.943870834950045,
           98
          ],
          [
           "s50_50_50_b0_4000_0_5000_-4000_-0",
           6.022976027600951,
           98
          ],
          [
           "s25_25_25_b0_4000_0_5000_-4000_-0",
           9.027703717112885,
           98
          ]
         ],
         "hovertemplate": "Cells: %{x}<br>Entropy number: %{y}<br>Snap Idx: %{customdata[2]:03d}<br>Mapped: %{customdata[0]}<br>Rel Error: %{customdata[1]:.3f}%<extra></extra>",
         "line": {
          "color": "rgb(140, 0, 0)"
         },
         "mode": "lines+markers",
         "name": "098",
         "opacity": 0.4,
         "type": "scatter",
         "x": {
          "bdata": "YOoAAOFtAQAAUwcAAJg6AADA1AE=",
          "dtype": "i4"
         },
         "y": {
          "bdata": "algmDb6u7z9Z98Ep9AHxP9f6iKkMK/E/qFaL/DAI8j+H4voLBIvyPw==",
          "dtype": "f8"
         }
        },
        {
         "customdata": [
          [
           "s200_200_200_b0_4000_0_5000_-4000_-0",
           -11.837022725422539,
           99
          ],
          [
           "Original Comsol Mesh",
           0,
           99
          ],
          [
           "s100_100_100_b0_4000_0_5000_-4000_-0",
           -0.006671942436873,
           99
          ],
          [
           "s50_50_50_b0_4000_0_5000_-4000_-0",
           7.505787732105716,
           99
          ],
          [
           "s25_25_25_b0_4000_0_5000_-4000_-0",
           11.857091674658154,
           99
          ]
         ],
         "hovertemplate": "Cells: %{x}<br>Entropy number: %{y}<br>Snap Idx: %{customdata[2]:03d}<br>Mapped: %{customdata[0]}<br>Rel Error: %{customdata[1]:.3f}%<extra></extra>",
         "line": {
          "color": "rgb(134, 0, 0)"
         },
         "mode": "lines+markers",
         "name": "099",
         "opacity": 0.4,
         "type": "scatter",
         "x": {
          "bdata": "YOoAAPJgAQAAUwcAAJg6AADA1AE=",
          "dtype": "i4"
         },
         "y": {
          "bdata": "Ys7tVK4J8j/9QzMeqnX0P5qpYqhQdfQ/9iyU4cr+9T9dl0L/suL2Pw==",
          "dtype": "f8"
         }
        }
       ],
       "layout": {
        "showlegend": false,
        "template": {
         "data": {
          "bar": [
           {
            "error_x": {
             "color": "#2a3f5f"
            },
            "error_y": {
             "color": "#2a3f5f"
            },
            "marker": {
             "line": {
              "color": "#E5ECF6",
              "width": 0.5
             },
             "pattern": {
              "fillmode": "overlay",
              "size": 10,
              "solidity": 0.2
             }
            },
            "type": "bar"
           }
          ],
          "barpolar": [
           {
            "marker": {
             "line": {
              "color": "#E5ECF6",
              "width": 0.5
             },
             "pattern": {
              "fillmode": "overlay",
              "size": 10,
              "solidity": 0.2
             }
            },
            "type": "barpolar"
           }
          ],
          "carpet": [
           {
            "aaxis": {
             "endlinecolor": "#2a3f5f",
             "gridcolor": "white",
             "linecolor": "white",
             "minorgridcolor": "white",
             "startlinecolor": "#2a3f5f"
            },
            "baxis": {
             "endlinecolor": "#2a3f5f",
             "gridcolor": "white",
             "linecolor": "white",
             "minorgridcolor": "white",
             "startlinecolor": "#2a3f5f"
            },
            "type": "carpet"
           }
          ],
          "choropleth": [
           {
            "colorbar": {
             "outlinewidth": 0,
             "ticks": ""
            },
            "type": "choropleth"
           }
          ],
          "contour": [
           {
            "colorbar": {
             "outlinewidth": 0,
             "ticks": ""
            },
            "colorscale": [
             [
              0,
              "#0d0887"
             ],
             [
              0.1111111111111111,
              "#46039f"
             ],
             [
              0.2222222222222222,
              "#7201a8"
             ],
             [
              0.3333333333333333,
              "#9c179e"
             ],
             [
              0.4444444444444444,
              "#bd3786"
             ],
             [
              0.5555555555555556,
              "#d8576b"
             ],
             [
              0.6666666666666666,
              "#ed7953"
             ],
             [
              0.7777777777777778,
              "#fb9f3a"
             ],
             [
              0.8888888888888888,
              "#fdca26"
             ],
             [
              1,
              "#f0f921"
             ]
            ],
            "type": "contour"
           }
          ],
          "contourcarpet": [
           {
            "colorbar": {
             "outlinewidth": 0,
             "ticks": ""
            },
            "type": "contourcarpet"
           }
          ],
          "heatmap": [
           {
            "colorbar": {
             "outlinewidth": 0,
             "ticks": ""
            },
            "colorscale": [
             [
              0,
              "#0d0887"
             ],
             [
              0.1111111111111111,
              "#46039f"
             ],
             [
              0.2222222222222222,
              "#7201a8"
             ],
             [
              0.3333333333333333,
              "#9c179e"
             ],
             [
              0.4444444444444444,
              "#bd3786"
             ],
             [
              0.5555555555555556,
              "#d8576b"
             ],
             [
              0.6666666666666666,
              "#ed7953"
             ],
             [
              0.7777777777777778,
              "#fb9f3a"
             ],
             [
              0.8888888888888888,
              "#fdca26"
             ],
             [
              1,
              "#f0f921"
             ]
            ],
            "type": "heatmap"
           }
          ],
          "histogram": [
           {
            "marker": {
             "pattern": {
              "fillmode": "overlay",
              "size": 10,
              "solidity": 0.2
             }
            },
            "type": "histogram"
           }
          ],
          "histogram2d": [
           {
            "colorbar": {
             "outlinewidth": 0,
             "ticks": ""
            },
            "colorscale": [
             [
              0,
              "#0d0887"
             ],
             [
              0.1111111111111111,
              "#46039f"
             ],
             [
              0.2222222222222222,
              "#7201a8"
             ],
             [
              0.3333333333333333,
              "#9c179e"
             ],
             [
              0.4444444444444444,
              "#bd3786"
             ],
             [
              0.5555555555555556,
              "#d8576b"
             ],
             [
              0.6666666666666666,
              "#ed7953"
             ],
             [
              0.7777777777777778,
              "#fb9f3a"
             ],
             [
              0.8888888888888888,
              "#fdca26"
             ],
             [
              1,
              "#f0f921"
             ]
            ],
            "type": "histogram2d"
           }
          ],
          "histogram2dcontour": [
           {
            "colorbar": {
             "outlinewidth": 0,
             "ticks": ""
            },
            "colorscale": [
             [
              0,
              "#0d0887"
             ],
             [
              0.1111111111111111,
              "#46039f"
             ],
             [
              0.2222222222222222,
              "#7201a8"
             ],
             [
              0.3333333333333333,
              "#9c179e"
             ],
             [
              0.4444444444444444,
              "#bd3786"
             ],
             [
              0.5555555555555556,
              "#d8576b"
             ],
             [
              0.6666666666666666,
              "#ed7953"
             ],
             [
              0.7777777777777778,
              "#fb9f3a"
             ],
             [
              0.8888888888888888,
              "#fdca26"
             ],
             [
              1,
              "#f0f921"
             ]
            ],
            "type": "histogram2dcontour"
           }
          ],
          "mesh3d": [
           {
            "colorbar": {
             "outlinewidth": 0,
             "ticks": ""
            },
            "type": "mesh3d"
           }
          ],
          "parcoords": [
           {
            "line": {
             "colorbar": {
              "outlinewidth": 0,
              "ticks": ""
             }
            },
            "type": "parcoords"
           }
          ],
          "pie": [
           {
            "automargin": true,
            "type": "pie"
           }
          ],
          "scatter": [
           {
            "fillpattern": {
             "fillmode": "overlay",
             "size": 10,
             "solidity": 0.2
            },
            "type": "scatter"
           }
          ],
          "scatter3d": [
           {
            "line": {
             "colorbar": {
              "outlinewidth": 0,
              "ticks": ""
             }
            },
            "marker": {
             "colorbar": {
              "outlinewidth": 0,
              "ticks": ""
             }
            },
            "type": "scatter3d"
           }
          ],
          "scattercarpet": [
           {
            "marker": {
             "colorbar": {
              "outlinewidth": 0,
              "ticks": ""
             }
            },
            "type": "scattercarpet"
           }
          ],
          "scattergeo": [
           {
            "marker": {
             "colorbar": {
              "outlinewidth": 0,
              "ticks": ""
             }
            },
            "type": "scattergeo"
           }
          ],
          "scattergl": [
           {
            "marker": {
             "colorbar": {
              "outlinewidth": 0,
              "ticks": ""
             }
            },
            "type": "scattergl"
           }
          ],
          "scattermap": [
           {
            "marker": {
             "colorbar": {
              "outlinewidth": 0,
              "ticks": ""
             }
            },
            "type": "scattermap"
           }
          ],
          "scattermapbox": [
           {
            "marker": {
             "colorbar": {
              "outlinewidth": 0,
              "ticks": ""
             }
            },
            "type": "scattermapbox"
           }
          ],
          "scatterpolar": [
           {
            "marker": {
             "colorbar": {
              "outlinewidth": 0,
              "ticks": ""
             }
            },
            "type": "scatterpolar"
           }
          ],
          "scatterpolargl": [
           {
            "marker": {
             "colorbar": {
              "outlinewidth": 0,
              "ticks": ""
             }
            },
            "type": "scatterpolargl"
           }
          ],
          "scatterternary": [
           {
            "marker": {
             "colorbar": {
              "outlinewidth": 0,
              "ticks": ""
             }
            },
            "type": "scatterternary"
           }
          ],
          "surface": [
           {
            "colorbar": {
             "outlinewidth": 0,
             "ticks": ""
            },
            "colorscale": [
             [
              0,
              "#0d0887"
             ],
             [
              0.1111111111111111,
              "#46039f"
             ],
             [
              0.2222222222222222,
              "#7201a8"
             ],
             [
              0.3333333333333333,
              "#9c179e"
             ],
             [
              0.4444444444444444,
              "#bd3786"
             ],
             [
              0.5555555555555556,
              "#d8576b"
             ],
             [
              0.6666666666666666,
              "#ed7953"
             ],
             [
              0.7777777777777778,
              "#fb9f3a"
             ],
             [
              0.8888888888888888,
              "#fdca26"
             ],
             [
              1,
              "#f0f921"
             ]
            ],
            "type": "surface"
           }
          ],
          "table": [
           {
            "cells": {
             "fill": {
              "color": "#EBF0F8"
             },
             "line": {
              "color": "white"
             }
            },
            "header": {
             "fill": {
              "color": "#C8D4E3"
             },
             "line": {
              "color": "white"
             }
            },
            "type": "table"
           }
          ]
         },
         "layout": {
          "annotationdefaults": {
           "arrowcolor": "#2a3f5f",
           "arrowhead": 0,
           "arrowwidth": 1
          },
          "autotypenumbers": "strict",
          "coloraxis": {
           "colorbar": {
            "outlinewidth": 0,
            "ticks": ""
           }
          },
          "colorscale": {
           "diverging": [
            [
             0,
             "#8e0152"
            ],
            [
             0.1,
             "#c51b7d"
            ],
            [
             0.2,
             "#de77ae"
            ],
            [
             0.3,
             "#f1b6da"
            ],
            [
             0.4,
             "#fde0ef"
            ],
            [
             0.5,
             "#f7f7f7"
            ],
            [
             0.6,
             "#e6f5d0"
            ],
            [
             0.7,
             "#b8e186"
            ],
            [
             0.8,
             "#7fbc41"
            ],
            [
             0.9,
             "#4d9221"
            ],
            [
             1,
             "#276419"
            ]
           ],
           "sequential": [
            [
             0,
             "#0d0887"
            ],
            [
             0.1111111111111111,
             "#46039f"
            ],
            [
             0.2222222222222222,
             "#7201a8"
            ],
            [
             0.3333333333333333,
             "#9c179e"
            ],
            [
             0.4444444444444444,
             "#bd3786"
            ],
            [
             0.5555555555555556,
             "#d8576b"
            ],
            [
             0.6666666666666666,
             "#ed7953"
            ],
            [
             0.7777777777777778,
             "#fb9f3a"
            ],
            [
             0.8888888888888888,
             "#fdca26"
            ],
            [
             1,
             "#f0f921"
            ]
           ],
           "sequentialminus": [
            [
             0,
             "#0d0887"
            ],
            [
             0.1111111111111111,
             "#46039f"
            ],
            [
             0.2222222222222222,
             "#7201a8"
            ],
            [
             0.3333333333333333,
             "#9c179e"
            ],
            [
             0.4444444444444444,
             "#bd3786"
            ],
            [
             0.5555555555555556,
             "#d8576b"
            ],
            [
             0.6666666666666666,
             "#ed7953"
            ],
            [
             0.7777777777777778,
             "#fb9f3a"
            ],
            [
             0.8888888888888888,
             "#fdca26"
            ],
            [
             1,
             "#f0f921"
            ]
           ]
          },
          "colorway": [
           "#636efa",
           "#EF553B",
           "#00cc96",
           "#ab63fa",
           "#FFA15A",
           "#19d3f3",
           "#FF6692",
           "#B6E880",
           "#FF97FF",
           "#FECB52"
          ],
          "font": {
           "color": "#2a3f5f"
          },
          "geo": {
           "bgcolor": "white",
           "lakecolor": "white",
           "landcolor": "#E5ECF6",
           "showlakes": true,
           "showland": true,
           "subunitcolor": "white"
          },
          "hoverlabel": {
           "align": "left"
          },
          "hovermode": "closest",
          "mapbox": {
           "style": "light"
          },
          "paper_bgcolor": "white",
          "plot_bgcolor": "#E5ECF6",
          "polar": {
           "angularaxis": {
            "gridcolor": "white",
            "linecolor": "white",
            "ticks": ""
           },
           "bgcolor": "#E5ECF6",
           "radialaxis": {
            "gridcolor": "white",
            "linecolor": "white",
            "ticks": ""
           }
          },
          "scene": {
           "xaxis": {
            "backgroundcolor": "#E5ECF6",
            "gridcolor": "white",
            "gridwidth": 2,
            "linecolor": "white",
            "showbackground": true,
            "ticks": "",
            "zerolinecolor": "white"
           },
           "yaxis": {
            "backgroundcolor": "#E5ECF6",
            "gridcolor": "white",
            "gridwidth": 2,
            "linecolor": "white",
            "showbackground": true,
            "ticks": "",
            "zerolinecolor": "white"
           },
           "zaxis": {
            "backgroundcolor": "#E5ECF6",
            "gridcolor": "white",
            "gridwidth": 2,
            "linecolor": "white",
            "showbackground": true,
            "ticks": "",
            "zerolinecolor": "white"
           }
          },
          "shapedefaults": {
           "line": {
            "color": "#2a3f5f"
           }
          },
          "ternary": {
           "aaxis": {
            "gridcolor": "white",
            "linecolor": "white",
            "ticks": ""
           },
           "baxis": {
            "gridcolor": "white",
            "linecolor": "white",
            "ticks": ""
           },
           "bgcolor": "#E5ECF6",
           "caxis": {
            "gridcolor": "white",
            "linecolor": "white",
            "ticks": ""
           }
          },
          "title": {
           "x": 0.05
          },
          "xaxis": {
           "automargin": true,
           "gridcolor": "white",
           "linecolor": "white",
           "ticks": "",
           "title": {
            "standoff": 15
           },
           "zerolinecolor": "white",
           "zerolinewidth": 2
          },
          "yaxis": {
           "automargin": true,
           "gridcolor": "white",
           "linecolor": "white",
           "ticks": "",
           "title": {
            "standoff": 15
           },
           "zerolinecolor": "white",
           "zerolinewidth": 2
          }
         }
        },
        "title": {
         "text": "Entropy generation number vs n_cells - Training Snapshots - Parameter Space 03"
        },
        "xaxis": {
         "tickformat": ".1e",
         "title": {
          "text": "n_cells [-]"
         },
         "type": "log"
        },
        "yaxis": {
         "tickformat": ".2f",
         "title": {
          "text": "Entropy number [-]"
         }
        }
       }
      }
     },
     "metadata": {},
     "output_type": "display_data"
    }
   ],
   "source": [
    "fig = go.Figure()\n",
    "\n",
    "squarred_errors = np.zeros((N_SNAPS, len(mapped_folders) + 1)) #! Only if original is also included\n",
    "for idx_snap in range(N_SNAPS):\n",
    "    entropies = []\n",
    "    cell_sizes = []\n",
    "    mapped_meshes = []\n",
    "\n",
    "\n",
    "    for key, value in mapped_dic.items():\n",
    "        entropies.append(value[\"entropy_num\"][idx_snap])\n",
    "        cell_sizes.append(value[\"n_cells\"])\n",
    "        mapped_meshes.append(key)\n",
    "        \n",
    "    sorted_indices = np.argsort(np.array(cell_sizes))\n",
    "    entropies = np.array(entropies)[sorted_indices]\n",
    "    cell_sizes = np.array(cell_sizes)[sorted_indices]\n",
    "    mapped_meshes_sorted = [mapped_meshes[i] for i in sorted_indices]\n",
    "    \n",
    "    original_n_cells = original_dic[\"original\"][\"n_cells\"][idx_snap]\n",
    "    original_entropy_num = original_dic[\"original\"][\"entropy_num\"][idx_snap]\n",
    "    \n",
    "    idx_org = np.searchsorted(cell_sizes, original_n_cells)\n",
    "    cell_sizes = np.insert(cell_sizes, idx_org, original_n_cells)\n",
    "    entropies = np.insert(entropies, idx_org, original_entropy_num)\n",
    "    mapped_meshes_sorted.insert(idx_org, \"Original Comsol Mesh\")\n",
    "    \n",
    "\n",
    "    rel_error = (entropies - original_entropy_num) / original_entropy_num\n",
    "    squarred_errors[idx_snap, :] = (entropies - original_entropy_num)**2\n",
    "    \n",
    "    mapped_meshes_sorted = np.array(mapped_meshes_sorted, dtype=object)\n",
    "    idx_snap_array = np.ones_like(rel_error) * idx_snap\n",
    "    # Stack into 2D array: shape (n_points, 2)\n",
    "    custom_data = np.column_stack((mapped_meshes_sorted, rel_error * 100, idx_snap_array))\n",
    "    \n",
    "    fig.add_trace(go.Scatter(x=cell_sizes,\n",
    "                             y=entropies,\n",
    "                                mode='lines + markers',\n",
    "                                name=f\"{idx_snap:03d}\",\n",
    "                                opacity=0.4,#\n",
    "                                customdata=custom_data,\n",
    "                                hovertemplate=\n",
    "                                    'Cells: %{x}<br>'\n",
    "                                    'Entropy number: %{y}<br>'\n",
    "                                    'Snap Idx: %{customdata[2]:03d}<br>'\n",
    "                                    'Mapped: %{customdata[0]}<br>'\n",
    "                                    'Rel Error: %{customdata[1]:.3f}%<extra></extra>',\n",
    "                                line=dict(color=colors[idx_snap])\n",
    "                ))\n",
    "    \n",
    "    # fig.add_trace(go.Scatter(x=[original_n_cells],\n",
    "    #                          y=[original_entropy_num],\n",
    "    #                          mode='markers',\n",
    "    #                          name=f\"{idx_snap:03d} - org\",\n",
    "    #                         #  opacity=0.4,\n",
    "    #                          line=dict(color= \"black\"),  #colors[idx_snap] ) )\n",
    "    #             ))\n",
    "    \n",
    "fig.update_layout(\n",
    "    showlegend=False,        # Hide the legend\n",
    "    title=f\"Entropy generation number vs n_cells - Training Snapshots - Parameter Space {PARAMETER_SPACE}\",       # Optional: add a title\n",
    "    xaxis_title=\"n_cells [-]\",    # Optional: label for x-axis\n",
    "    yaxis_title=\"Entropy number [-]\",     # Optional: label for y-axis\n",
    "    xaxis=dict(\n",
    "        type='log',                               # Set x-axis to logarithmic scale\n",
    "        tickformat='.1e',                         # Format x-axis ticks to scientific notation with 2 decimal places\n",
    "    ),\n",
    "    yaxis=dict(\n",
    "        tickformat='.2f',                         # Format y-axis ticks to 2 decimal places (optional)\n",
    "    )\n",
    ")\n",
    "\n",
    "fig.write_image(mapped_root / \"Training_Diff_EntropyGeneration.png\")\n",
    "fig.write_html(mapped_root / \"Training_Diff_EntropyGeneration.html\")\n",
    "fig.show()"
   ]
  },
  {
   "cell_type": "markdown",
   "id": "0eb4c70d",
   "metadata": {},
   "source": [
    "### Errors"
   ]
  },
  {
   "cell_type": "code",
   "execution_count": 28,
   "id": "a2299ce7",
   "metadata": {},
   "outputs": [
    {
     "name": "stdout",
     "output_type": "stream",
     "text": [
      "s200_200_200_b0_4000_0_5000_-4000_-0 - MSE :    1.6e-02\n",
      "Original Comsol Mesh - MSE :    0.0e+00\n",
      "s100_100_100_b0_4000_0_5000_-4000_-0 - MSE :    1.8e-04\n",
      "s50_50_50_b0_4000_0_5000_-4000_-0 - MSE :    8.5e-03\n",
      "s25_25_25_b0_4000_0_5000_-4000_-0 - MSE :    2.0e-02\n"
     ]
    }
   ],
   "source": [
    "mses = np.sum(squarred_errors, axis=0)/N_SNAPS\n",
    "meses_dic = {mesh: mse for (mse, mesh) in zip(mses, mapped_meshes_sorted) }\n",
    "for key, val in meses_dic.items():\n",
    "    print(f\"{key} - MSE : {val:>10.1e}\")"
   ]
  }
 ],
 "metadata": {
  "kernelspec": {
   "display_name": ".venv",
   "language": "python",
   "name": "python3"
  },
  "language_info": {
   "codemirror_mode": {
    "name": "ipython",
    "version": 3
   },
   "file_extension": ".py",
   "mimetype": "text/x-python",
   "name": "python",
   "nbconvert_exporter": "python",
   "pygments_lexer": "ipython3",
   "version": "3.12.4"
  }
 },
 "nbformat": 4,
 "nbformat_minor": 5
}
