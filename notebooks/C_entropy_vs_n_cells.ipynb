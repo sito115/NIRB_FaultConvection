{
 "cells": [
  {
   "cell_type": "code",
   "execution_count": 33,
   "id": "28d43c53",
   "metadata": {},
   "outputs": [],
   "source": [
    "import numpy as np\n",
    "import plotly.express as px\n",
    "import plotly.graph_objects as go\n",
    "from pathlib import Path\n",
    "import pyvista as pv\n",
    "import pint\n",
    "from typing import List"
   ]
  },
  {
   "cell_type": "code",
   "execution_count": 34,
   "id": "0bc51ba2",
   "metadata": {},
   "outputs": [],
   "source": [
    "ROOT = Path().cwd().parent\n",
    "PARAMETER_SPACE = \"09\"\n",
    "ROOT\n",
    "DATA_TYPE = \"Training\"\n",
    "time_step_idx = -1\n",
    "ureg = pint.get_application_registry()"
   ]
  },
  {
   "cell_type": "code",
   "execution_count": 35,
   "id": "22eef90e",
   "metadata": {},
   "outputs": [],
   "source": [
    "mapped_root = ROOT / \"data\" / PARAMETER_SPACE / f\"{DATA_TYPE}Mapped\"\n",
    "assert mapped_root.exists()\n",
    "mapped_folders : List[Path]= [folder for folder in mapped_root.iterdir() if not folder.is_file()]"
   ]
  },
  {
   "cell_type": "code",
   "execution_count": 36,
   "id": "0151230d",
   "metadata": {},
   "outputs": [
    {
     "name": "stdout",
     "output_type": "stream",
     "text": [
      "No entropy export found in /Users/thomassimader/Documents/NIRB/data/09/TrainingMapped/s100_100_100_b0_4000_0_5000_-4000_0\n"
     ]
    }
   ],
   "source": [
    "mapped_dic = {}\n",
    "for folder in mapped_folders:\n",
    "    path = folder / \"Exports\" /  \"Training_entropy_gen_number_therm.npy\"\n",
    "    if not path.exists():\n",
    "        print(f\"No entropy export found in {folder}\")\n",
    "        continue\n",
    "    entropy_num = np.load(path)\n",
    "    vtk_file = [file for file in folder.rglob(\"*.vt*\")][0]\n",
    "    mesh = pv.read(vtk_file)\n",
    "    surf = mesh.compute_cell_sizes()\n",
    "    n_cells = mesh.n_cells\n",
    "    n_points = mesh.n_points\n",
    "    cell_lengths = np.cbrt(np.unique(surf.cell_data['Volume']))\n",
    "    assert cell_lengths.shape[0] == 1\n",
    "    mapped_dic[folder.stem] = {\"entropy_num\" : entropy_num,\n",
    "                               \"n_cells\": n_cells,\n",
    "                               \"cell_size\": cell_lengths[0],\n",
    "                               \"n_points\" : n_points}"
   ]
  },
  {
   "cell_type": "code",
   "execution_count": 37,
   "id": "2c5f4a2f",
   "metadata": {},
   "outputs": [],
   "source": [
    "original_root = ROOT / \"data\" / PARAMETER_SPACE / f\"{DATA_TYPE}Original\"\n",
    "entropy_num_org = np.load(original_root / \"Training_entropy_gen_number_therm.npy\")\n",
    "vtu_files = sorted([file for file in original_root.rglob(\"*.vtu\")])\n",
    "N_SNAPS = len(vtu_files)\n",
    "n_cells_org = np.zeros((N_SNAPS, ))\n",
    "n_points_org = np.zeros_like(n_cells_org)\n",
    "for idx, file in enumerate(vtu_files):\n",
    "    mesh = pv.read(file)\n",
    "    n_cells_org[idx] = mesh.n_cells\n",
    "    n_points_org[idx] = mesh.n_points"
   ]
  },
  {
   "cell_type": "markdown",
   "id": "e3fa87c0",
   "metadata": {},
   "source": [
    "## Plot"
   ]
  },
  {
   "cell_type": "code",
   "execution_count": 38,
   "id": "8b4a527e",
   "metadata": {},
   "outputs": [
    {
     "name": "stdout",
     "output_type": "stream",
     "text": [
      "100\n"
     ]
    }
   ],
   "source": [
    "colors = px.colors.sample_colorscale(\"turbo\", [n/(N_SNAPS) for n in range(N_SNAPS)])\n",
    "print(N_SNAPS)"
   ]
  },
  {
   "cell_type": "code",
   "execution_count": 39,
   "id": "b8eb251a",
   "metadata": {},
   "outputs": [
    {
     "data": {
      "application/vnd.plotly.v1+json": {
       "config": {
        "plotlyServerURL": "https://plot.ly"
       },
       "data": [
        {
         "customdata": [
          [
           "s200_200_200_b0_4000_0_5000_-4000_0",
           -2.793147479367251,
           0
          ],
          [
           "s125_125_125_b0_4000_0_5000_-4000_0",
           -1.5212750969653581,
           0
          ],
          [
           "s100_100_100_b0_4000_0_5000_-4000_0_vtk",
           -1.0624090019791608,
           0
          ],
          [
           "Original Comsol Mesh",
           0,
           0
          ],
          [
           "s50_50_50_b0_4000_0_5000_-4000_0",
           -0.07364315705206817,
           0
          ],
          [
           "s25_25_25_b0_4000_0_5000_-4000_0_vtk",
           0.4933793326249843,
           0
          ]
         ],
         "hovertemplate": "Cells: %{x}<br>Entropy number: %{y}<br>Snap Idx: %{customdata[2]:03d}<br>Mapped: %{customdata[0]}<br>Rel Error: %{customdata[1]:.3f}%<extra></extra>",
         "line": {
          "color": "rgb(48, 18, 59)"
         },
         "mode": "markers+lines",
         "name": "000",
         "opacity": 0.4,
         "type": "scatter",
         "x": {
          "bdata": "ECcAAACgAACAOAEA9WgBAADECQAAIE4A",
          "dtype": "i4"
         },
         "y": {
          "bdata": "jvknMwp88T9RVqrsmrbxP4+c2P+7y/E/3L5blqf88T+RZu18Q/nxP2YEXIBfE/I/",
          "dtype": "f8"
         }
        },
        {
         "customdata": [
          [
           "s200_200_200_b0_4000_0_5000_-4000_0",
           -2.4065338011153616,
           1
          ],
          [
           "s125_125_125_b0_4000_0_5000_-4000_0",
           -1.2700297640117941,
           1
          ],
          [
           "s100_100_100_b0_4000_0_5000_-4000_0_vtk",
           -0.8851190474867046,
           1
          ],
          [
           "Original Comsol Mesh",
           0,
           1
          ],
          [
           "s50_50_50_b0_4000_0_5000_-4000_0",
           -0.03779050324101762,
           1
          ],
          [
           "s25_25_25_b0_4000_0_5000_-4000_0_vtk",
           0.4278638415350238,
           1
          ]
         ],
         "hovertemplate": "Cells: %{x}<br>Entropy number: %{y}<br>Snap Idx: %{customdata[2]:03d}<br>Mapped: %{customdata[0]}<br>Rel Error: %{customdata[1]:.3f}%<extra></extra>",
         "line": {
          "color": "rgb(50, 25, 75)"
         },
         "mode": "markers+lines",
         "name": "001",
         "opacity": 0.4,
         "type": "scatter",
         "x": {
          "bdata": "ECcAAACgAACAOAEArIYBAADECQAAIE4A",
          "dtype": "i4"
         },
         "y": {
          "bdata": "+4k/ScW48T9uVE1Hmu3xP1k81+p+//E/Y78BTKQo8j/zVvWR4ibyP940shmIPPI/",
          "dtype": "f8"
         }
        },
        {
         "customdata": [
          [
           "s200_200_200_b0_4000_0_5000_-4000_0",
           -3.822257149909062,
           2
          ],
          [
           "s125_125_125_b0_4000_0_5000_-4000_0",
           -2.1536725401877956,
           2
          ],
          [
           "s100_100_100_b0_4000_0_5000_-4000_0_vtk",
           -1.5608226072400642,
           2
          ],
          [
           "Original Comsol Mesh",
           0,
           2
          ],
          [
           "s50_50_50_b0_4000_0_5000_-4000_0",
           -0.25807449284234846,
           2
          ],
          [
           "s25_25_25_b0_4000_0_5000_-4000_0_vtk",
           0.5118478444992657,
           2
          ]
         ],
         "hovertemplate": "Cells: %{x}<br>Entropy number: %{y}<br>Snap Idx: %{customdata[2]:03d}<br>Mapped: %{customdata[0]}<br>Rel Error: %{customdata[1]:.3f}%<extra></extra>",
         "line": {
          "color": "rgb(53, 32, 90)"
         },
         "mode": "markers+lines",
         "name": "002",
         "opacity": 0.4,
         "type": "scatter",
         "x": {
          "bdata": "ECcAAACgAACAOAEAZFkBAADECQAAIE4A",
          "dtype": "i4"
         },
         "y": {
          "bdata": "Xl5tme7i8T/ejKcsXzLyPzaXIciYTvI/pqdV9ueY8j8LljGSnozyP5QFmFJGsfI/",
          "dtype": "f8"
         }
        },
        {
         "customdata": [
          [
           "s200_200_200_b0_4000_0_5000_-4000_0",
           -2.7290690555052213,
           3
          ],
          [
           "s125_125_125_b0_4000_0_5000_-4000_0",
           -1.521669195561246,
           3
          ],
          [
           "s100_100_100_b0_4000_0_5000_-4000_0_vtk",
           -1.0785760327799567,
           3
          ],
          [
           "Original Comsol Mesh",
           0,
           3
          ],
          [
           "s50_50_50_b0_4000_0_5000_-4000_0",
           -0.1066537051662675,
           3
          ],
          [
           "s25_25_25_b0_4000_0_5000_-4000_0_vtk",
           0.4268989803639205,
           3
          ]
         ],
         "hovertemplate": "Cells: %{x}<br>Entropy number: %{y}<br>Snap Idx: %{customdata[2]:03d}<br>Mapped: %{customdata[0]}<br>Rel Error: %{customdata[1]:.3f}%<extra></extra>",
         "line": {
          "color": "rgb(55, 39, 106)"
         },
         "mode": "markers+lines",
         "name": "003",
         "opacity": 0.4,
         "type": "scatter",
         "x": {
          "bdata": "ECcAAACgAACAOAEA7X0BAADECQAAIE4A",
          "dtype": "i4"
         },
         "y": {
          "bdata": "5Pi2qFX58T+Dld0nczLyPwLss/hoR/I/aiOJbG568j+0g5nbYnXyP2+gNiGgjvI/",
          "dtype": "f8"
         }
        },
        {
         "customdata": [
          [
           "s200_200_200_b0_4000_0_5000_-4000_0",
           -4.713166882077897,
           4
          ],
          [
           "s125_125_125_b0_4000_0_5000_-4000_0",
           -2.675745428756573,
           4
          ],
          [
           "s100_100_100_b0_4000_0_5000_-4000_0_vtk",
           -2.0279104928042457,
           4
          ],
          [
           "Original Comsol Mesh",
           0,
           4
          ],
          [
           "s50_50_50_b0_4000_0_5000_-4000_0",
           -0.4827501164853057,
           4
          ],
          [
           "s25_25_25_b0_4000_0_5000_-4000_0_vtk",
           0.38115668899028193,
           4
          ]
         ],
         "hovertemplate": "Cells: %{x}<br>Entropy number: %{y}<br>Snap Idx: %{customdata[2]:03d}<br>Mapped: %{customdata[0]}<br>Rel Error: %{customdata[1]:.3f}%<extra></extra>",
         "line": {
          "color": "rgb(58, 47, 122)"
         },
         "mode": "markers+lines",
         "name": "004",
         "opacity": 0.4,
         "type": "scatter",
         "x": {
          "bdata": "ECcAAACgAACAOAEAEGABAADECQAAIE4A",
          "dtype": "i4"
         },
         "y": {
          "bdata": "kI4kGCMQ9D+pIdk39X30P5FRhpzgoPQ/x+Slfi8O9T9VNxMWKvT0P7p5OAe7IvU/",
          "dtype": "f8"
         }
        },
        {
         "customdata": [
          [
           "s200_200_200_b0_4000_0_5000_-4000_0",
           -4.1879701856608875,
           5
          ],
          [
           "s125_125_125_b0_4000_0_5000_-4000_0",
           -2.539841625573148,
           5
          ],
          [
           "s100_100_100_b0_4000_0_5000_-4000_0_vtk",
           -1.855146010296024,
           5
          ],
          [
           "Original Comsol Mesh",
           0,
           5
          ],
          [
           "s50_50_50_b0_4000_0_5000_-4000_0",
           -0.3651366638197181,
           5
          ],
          [
           "s25_25_25_b0_4000_0_5000_-4000_0_vtk",
           0.49021177565652846,
           5
          ]
         ],
         "hovertemplate": "Cells: %{x}<br>Entropy number: %{y}<br>Snap Idx: %{customdata[2]:03d}<br>Mapped: %{customdata[0]}<br>Rel Error: %{customdata[1]:.3f}%<extra></extra>",
         "line": {
          "color": "rgb(60, 54, 137)"
         },
         "mode": "markers+lines",
         "name": "005",
         "opacity": 0.4,
         "type": "scatter",
         "x": {
          "bdata": "ECcAAACgAACAOAEAaF0BAADECQAAIE4A",
          "dtype": "i4"
         },
         "y": {
          "bdata": "LKSREqrn8j+/bUAs6jrzP11RvQiAXfM/65SPGDW78z8E6QN7w6jzPzoRqhH40/M/",
          "dtype": "f8"
         }
        },
        {
         "customdata": [
          [
           "s200_200_200_b0_4000_0_5000_-4000_0",
           -4.278192303027739,
           6
          ],
          [
           "s125_125_125_b0_4000_0_5000_-4000_0",
           -2.451700767070566,
           6
          ],
          [
           "s100_100_100_b0_4000_0_5000_-4000_0_vtk",
           -1.806626757939224,
           6
          ],
          [
           "Original Comsol Mesh",
           0,
           6
          ],
          [
           "s50_50_50_b0_4000_0_5000_-4000_0",
           -0.34803566235572514,
           6
          ],
          [
           "s25_25_25_b0_4000_0_5000_-4000_0_vtk",
           0.4809705278534559,
           6
          ]
         ],
         "hovertemplate": "Cells: %{x}<br>Entropy number: %{y}<br>Snap Idx: %{customdata[2]:03d}<br>Mapped: %{customdata[0]}<br>Rel Error: %{customdata[1]:.3f}%<extra></extra>",
         "line": {
          "color": "rgb(62, 61, 153)"
         },
         "mode": "markers+lines",
         "name": "006",
         "opacity": 0.4,
         "type": "scatter",
         "x": {
          "bdata": "ECcAAACgAACAOAEA4V4BAADECQAAIE4A",
          "dtype": "i4"
         },
         "y": {
          "bdata": "Y38wZYPU8j9j6MKifjDzP62UJvj6UPM/3+WmHPar8z8aFwM3b5rzP5aTONAuxPM/",
          "dtype": "f8"
         }
        },
        {
         "customdata": [
          [
           "s200_200_200_b0_4000_0_5000_-4000_0",
           -4.322814467721806,
           7
          ],
          [
           "s125_125_125_b0_4000_0_5000_-4000_0",
           -2.471895716875332,
           7
          ],
          [
           "s100_100_100_b0_4000_0_5000_-4000_0_vtk",
           -1.8605470971107363,
           7
          ],
          [
           "Original Comsol Mesh",
           0,
           7
          ],
          [
           "s50_50_50_b0_4000_0_5000_-4000_0",
           -0.35116897331000047,
           7
          ],
          [
           "s25_25_25_b0_4000_0_5000_-4000_0_vtk",
           0.516297157429833,
           7
          ]
         ],
         "hovertemplate": "Cells: %{x}<br>Entropy number: %{y}<br>Snap Idx: %{customdata[2]:03d}<br>Mapped: %{customdata[0]}<br>Rel Error: %{customdata[1]:.3f}%<extra></extra>",
         "line": {
          "color": "rgb(65, 68, 169)"
         },
         "mode": "markers+lines",
         "name": "007",
         "opacity": 0.4,
         "type": "scatter",
         "x": {
          "bdata": "ECcAAACgAACAOAEAQlsBAADECQAAIE4A",
          "dtype": "i4"
         },
         "y": {
          "bdata": "VxHOn1jv8j9Fm5XMHk3zP+xtO+kXbPM/Jobh9lrK8z/mAjxZkLjzP/njbUWD5PM/",
          "dtype": "f8"
         }
        },
        {
         "customdata": [
          [
           "s200_200_200_b0_4000_0_5000_-4000_0",
           -3.3572480498923083,
           8
          ],
          [
           "s125_125_125_b0_4000_0_5000_-4000_0",
           -1.8877868674883755,
           8
          ],
          [
           "s100_100_100_b0_4000_0_5000_-4000_0_vtk",
           -1.3819638934777148,
           8
          ],
          [
           "Original Comsol Mesh",
           0,
           8
          ],
          [
           "s50_50_50_b0_4000_0_5000_-4000_0",
           -0.30527535542496537,
           8
          ],
          [
           "s25_25_25_b0_4000_0_5000_-4000_0_vtk",
           0.27085831838663615,
           8
          ]
         ],
         "hovertemplate": "Cells: %{x}<br>Entropy number: %{y}<br>Snap Idx: %{customdata[2]:03d}<br>Mapped: %{customdata[0]}<br>Rel Error: %{customdata[1]:.3f}%<extra></extra>",
         "line": {
          "color": "rgb(66, 75, 179)"
         },
         "mode": "markers+lines",
         "name": "008",
         "opacity": 0.4,
         "type": "scatter",
         "x": {
          "bdata": "ECcAAACgAACAOAEAxIYBAADECQAAIE4A",
          "dtype": "i4"
         },
         "y": {
          "bdata": "hxaWeEJC9D/h76z+HZH0P4s0egNDrPQ/xO7kfmz29D/rh++bCub0P9gsN4/1BPU/",
          "dtype": "f8"
         }
        },
        {
         "customdata": [
          [
           "s200_200_200_b0_4000_0_5000_-4000_0",
           -3.0820625107649913,
           9
          ],
          [
           "s125_125_125_b0_4000_0_5000_-4000_0",
           -1.7107556012611664,
           9
          ],
          [
           "s100_100_100_b0_4000_0_5000_-4000_0_vtk",
           -1.2199686953808033,
           9
          ],
          [
           "Original Comsol Mesh",
           0,
           9
          ],
          [
           "s50_50_50_b0_4000_0_5000_-4000_0",
           -0.23138489115106298,
           9
          ],
          [
           "s25_25_25_b0_4000_0_5000_-4000_0_vtk",
           0.2916771017560335,
           9
          ]
         ],
         "hovertemplate": "Cells: %{x}<br>Entropy number: %{y}<br>Snap Idx: %{customdata[2]:03d}<br>Mapped: %{customdata[0]}<br>Rel Error: %{customdata[1]:.3f}%<extra></extra>",
         "line": {
          "color": "rgb(66, 81, 188)"
         },
         "mode": "markers+lines",
         "name": "009",
         "opacity": 0.4,
         "type": "scatter",
         "x": {
          "bdata": "ECcAAACgAACAOAEAcpEBAADECQAAIE4A",
          "dtype": "i4"
         },
         "y": {
          "bdata": "qKXybYn88z/kFy937kT0P8lDJ2PXXvQ/m7pgGz+f9D8bLVD4B5P0P8q72hWlrvQ/",
          "dtype": "f8"
         }
        },
        {
         "customdata": [
          [
           "s200_200_200_b0_4000_0_5000_-4000_0",
           -2.8719112100080113,
           10
          ],
          [
           "s125_125_125_b0_4000_0_5000_-4000_0",
           -1.6389408154487681,
           10
          ],
          [
           "s100_100_100_b0_4000_0_5000_-4000_0_vtk",
           -1.178201526081862,
           10
          ],
          [
           "Original Comsol Mesh",
           0,
           10
          ],
          [
           "s50_50_50_b0_4000_0_5000_-4000_0",
           -0.1268892338895286,
           10
          ],
          [
           "s25_25_25_b0_4000_0_5000_-4000_0_vtk",
           0.49144376839079795,
           10
          ]
         ],
         "hovertemplate": "Cells: %{x}<br>Entropy number: %{y}<br>Snap Idx: %{customdata[2]:03d}<br>Mapped: %{customdata[0]}<br>Rel Error: %{customdata[1]:.3f}%<extra></extra>",
         "line": {
          "color": "rgb(67, 88, 197)"
         },
         "mode": "markers+lines",
         "name": "010",
         "opacity": 0.4,
         "type": "scatter",
         "x": {
          "bdata": "ECcAAACgAACAOAEAhGUBAADECQAAIE4A",
          "dtype": "i4"
         },
         "y": {
          "bdata": "9abby+Gh8T/ZsfG1LtvxPwFJrTmY8PE/vpHsilkn8j9E2wPqcyHyPzPh5FowPvI/",
          "dtype": "f8"
         }
        },
        {
         "customdata": [
          [
           "s200_200_200_b0_4000_0_5000_-4000_0",
           -4.519022359052511,
           11
          ],
          [
           "s125_125_125_b0_4000_0_5000_-4000_0",
           -2.648365029147204,
           11
          ],
          [
           "s100_100_100_b0_4000_0_5000_-4000_0_vtk",
           -2.039416431117364,
           11
          ],
          [
           "Original Comsol Mesh",
           0,
           11
          ],
          [
           "s50_50_50_b0_4000_0_5000_-4000_0",
           -0.4177809771729551,
           11
          ],
          [
           "s25_25_25_b0_4000_0_5000_-4000_0_vtk",
           0.49476310497105835,
           11
          ]
         ],
         "hovertemplate": "Cells: %{x}<br>Entropy number: %{y}<br>Snap Idx: %{customdata[2]:03d}<br>Mapped: %{customdata[0]}<br>Rel Error: %{customdata[1]:.3f}%<extra></extra>",
         "line": {
          "color": "rgb(68, 95, 207)"
         },
         "mode": "markers+lines",
         "name": "011",
         "opacity": 0.4,
         "type": "scatter",
         "x": {
          "bdata": "ECcAAACgAACAOAEASlkBAADECQAAIE4A",
          "dtype": "i4"
         },
         "y": {
          "bdata": "JBI9ifoO8z9KpZ06kW7zP9PvvBavjfM/xEM2YOX18z8CSFE+jODzPwS1gYktD/Q/",
          "dtype": "f8"
         }
        },
        {
         "customdata": [
          [
           "s200_200_200_b0_4000_0_5000_-4000_0",
           -5.295338820963831,
           12
          ],
          [
           "s125_125_125_b0_4000_0_5000_-4000_0",
           -3.098703844033045,
           12
          ],
          [
           "s100_100_100_b0_4000_0_5000_-4000_0_vtk",
           -2.3468596386379184,
           12
          ],
          [
           "Original Comsol Mesh",
           0,
           12
          ],
          [
           "s50_50_50_b0_4000_0_5000_-4000_0",
           -0.6070987059925171,
           12
          ],
          [
           "s25_25_25_b0_4000_0_5000_-4000_0_vtk",
           0.38282939051030646,
           12
          ]
         ],
         "hovertemplate": "Cells: %{x}<br>Entropy number: %{y}<br>Snap Idx: %{customdata[2]:03d}<br>Mapped: %{customdata[0]}<br>Rel Error: %{customdata[1]:.3f}%<extra></extra>",
         "line": {
          "color": "rgb(68, 102, 216)"
         },
         "mode": "markers+lines",
         "name": "012",
         "opacity": 0.4,
         "type": "scatter",
         "x": {
          "bdata": "ECcAAACgAACAOAEA5lcBAADECQAAIE4A",
          "dtype": "i4"
         },
         "y": {
          "bdata": "48edaJ9O9D9X8XXbM8f0P2q4hTp58PQ//c2yuUxx9T/FR9xn+U/1P8vu+HlQhvU/",
          "dtype": "f8"
         }
        },
        {
         "customdata": [
          [
           "s200_200_200_b0_4000_0_5000_-4000_0",
           -2.4884610137034953,
           13
          ],
          [
           "s125_125_125_b0_4000_0_5000_-4000_0",
           -1.4174825254766334,
           13
          ],
          [
           "s100_100_100_b0_4000_0_5000_-4000_0_vtk",
           -0.9764833566201413,
           13
          ],
          [
           "Original Comsol Mesh",
           0,
           13
          ],
          [
           "s50_50_50_b0_4000_0_5000_-4000_0",
           -0.07229202612897663,
           13
          ],
          [
           "s25_25_25_b0_4000_0_5000_-4000_0_vtk",
           0.4510400701621102,
           13
          ]
         ],
         "hovertemplate": "Cells: %{x}<br>Entropy number: %{y}<br>Snap Idx: %{customdata[2]:03d}<br>Mapped: %{customdata[0]}<br>Rel Error: %{customdata[1]:.3f}%<extra></extra>",
         "line": {
          "color": "rgb(69, 108, 225)"
         },
         "mode": "markers+lines",
         "name": "013",
         "opacity": 0.4,
         "type": "scatter",
         "x": {
          "bdata": "ECcAAACgAACAOAEAjG8BAADECQAAIE4A",
          "dtype": "i4"
         },
         "y": {
          "bdata": "En7P6E5i8T/5wsK3L5PxP+2w+yRQp/E/WaaO6uDT8T/caE1KlNDxP00L86d26PE/",
          "dtype": "f8"
         }
        },
        {
         "customdata": [
          [
           "s200_200_200_b0_4000_0_5000_-4000_0",
           -3.4799929509906464,
           14
          ],
          [
           "s125_125_125_b0_4000_0_5000_-4000_0",
           -1.929879028703254,
           14
          ],
          [
           "s100_100_100_b0_4000_0_5000_-4000_0_vtk",
           -1.3969025894166136,
           14
          ],
          [
           "Original Comsol Mesh",
           0,
           14
          ],
          [
           "s50_50_50_b0_4000_0_5000_-4000_0",
           -0.2001060591061528,
           14
          ],
          [
           "s25_25_25_b0_4000_0_5000_-4000_0_vtk",
           0.470990166160156,
           14
          ]
         ],
         "hovertemplate": "Cells: %{x}<br>Entropy number: %{y}<br>Snap Idx: %{customdata[2]:03d}<br>Mapped: %{customdata[0]}<br>Rel Error: %{customdata[1]:.3f}%<extra></extra>",
         "line": {
          "color": "rgb(70, 115, 234)"
         },
         "mode": "markers+lines",
         "name": "014",
         "opacity": 0.4,
         "type": "scatter",
         "x": {
          "bdata": "ECcAAACgAACAOAEAxG0BAADECQAAIE4A",
          "dtype": "i4"
         },
         "y": {
          "bdata": "KipMrXRn8j/kZUkzH7PyP7/dg2AjzfI/f4uKV1MR8z+S/ibHjgfzP7CpGe1QKPM/",
          "dtype": "f8"
         }
        },
        {
         "customdata": [
          [
           "s200_200_200_b0_4000_0_5000_-4000_0",
           -2.9755801969513427,
           15
          ],
          [
           "s125_125_125_b0_4000_0_5000_-4000_0",
           -1.6392554700924833,
           15
          ],
          [
           "s100_100_100_b0_4000_0_5000_-4000_0_vtk",
           -1.1745953569938383,
           15
          ],
          [
           "Original Comsol Mesh",
           0,
           15
          ],
          [
           "s50_50_50_b0_4000_0_5000_-4000_0",
           -0.18749820672302994,
           15
          ],
          [
           "s25_25_25_b0_4000_0_5000_-4000_0_vtk",
           0.3417431012838769,
           15
          ]
         ],
         "hovertemplate": "Cells: %{x}<br>Entropy number: %{y}<br>Snap Idx: %{customdata[2]:03d}<br>Mapped: %{customdata[0]}<br>Rel Error: %{customdata[1]:.3f}%<extra></extra>",
         "line": {
          "color": "rgb(69, 122, 238)"
         },
         "mode": "markers+lines",
         "name": "015",
         "opacity": 0.4,
         "type": "scatter",
         "x": {
          "bdata": "ECcAAACgAACAOAEAa5ABAADECQAAIE4A",
          "dtype": "i4"
         },
         "y": {
          "bdata": "8hJvc+gS9D/KGOfDr1n0P++bQR9McvQ/XkuOiYKw9D+DgaQ8lKb0P8v1HkGcwvQ/",
          "dtype": "f8"
         }
        },
        {
         "customdata": [
          [
           "s200_200_200_b0_4000_0_5000_-4000_0",
           -2.266838347921703,
           16
          ],
          [
           "s125_125_125_b0_4000_0_5000_-4000_0",
           -1.2486548352505873,
           16
          ],
          [
           "s100_100_100_b0_4000_0_5000_-4000_0_vtk",
           -0.884805041658604,
           16
          ],
          [
           "Original Comsol Mesh",
           0,
           16
          ],
          [
           "s50_50_50_b0_4000_0_5000_-4000_0",
           -0.0439693961643465,
           16
          ],
          [
           "s25_25_25_b0_4000_0_5000_-4000_0_vtk",
           0.41827625886609493,
           16
          ]
         ],
         "hovertemplate": "Cells: %{x}<br>Entropy number: %{y}<br>Snap Idx: %{customdata[2]:03d}<br>Mapped: %{customdata[0]}<br>Rel Error: %{customdata[1]:.3f}%<extra></extra>",
         "line": {
          "color": "rgb(67, 128, 241)"
         },
         "mode": "markers+lines",
         "name": "016",
         "opacity": 0.4,
         "type": "scatter",
         "x": {
          "bdata": "ECcAAACgAACAOAEAUHcBAADECQAAIE4A",
          "dtype": "i4"
         },
         "y": {
          "bdata": "nIyZUj5G8T8I1Il5UHTxP5GKHyPHhPE/QPL1S9Cs8T9P++j50qrxPwuozGi9v/E/",
          "dtype": "f8"
         }
        },
        {
         "customdata": [
          [
           "s200_200_200_b0_4000_0_5000_-4000_0",
           -2.659921855733111,
           17
          ],
          [
           "s125_125_125_b0_4000_0_5000_-4000_0",
           -1.5031789707626486,
           17
          ],
          [
           "s100_100_100_b0_4000_0_5000_-4000_0_vtk",
           -1.0358746461298398,
           17
          ],
          [
           "Original Comsol Mesh",
           0,
           17
          ],
          [
           "s50_50_50_b0_4000_0_5000_-4000_0",
           -0.08959844298794559,
           17
          ],
          [
           "s25_25_25_b0_4000_0_5000_-4000_0_vtk",
           0.4355141777705447,
           17
          ]
         ],
         "hovertemplate": "Cells: %{x}<br>Entropy number: %{y}<br>Snap Idx: %{customdata[2]:03d}<br>Mapped: %{customdata[0]}<br>Rel Error: %{customdata[1]:.3f}%<extra></extra>",
         "line": {
          "color": "rgb(65, 134, 243)"
         },
         "mode": "markers+lines",
         "name": "017",
         "opacity": 0.4,
         "type": "scatter",
         "x": {
          "bdata": "ECcAAACgAACAOAEAe30BAADECQAAIE4A",
          "dtype": "i4"
         },
         "y": {
          "bdata": "Gsk9Pevx8T9hVibGgijyP5ElnqaQPvI/r4hB4XNv8j/NhZpeOWvyP0wGsawBhPI/",
          "dtype": "f8"
         }
        },
        {
         "customdata": [
          [
           "s200_200_200_b0_4000_0_5000_-4000_0",
           -4.27811936301851,
           18
          ],
          [
           "s125_125_125_b0_4000_0_5000_-4000_0",
           -2.5468742024038233,
           18
          ],
          [
           "s100_100_100_b0_4000_0_5000_-4000_0_vtk",
           -1.8866982904293859,
           18
          ],
          [
           "Original Comsol Mesh",
           0,
           18
          ],
          [
           "s50_50_50_b0_4000_0_5000_-4000_0",
           -0.382664968756814,
           18
          ],
          [
           "s25_25_25_b0_4000_0_5000_-4000_0_vtk",
           0.4805756090391644,
           18
          ]
         ],
         "hovertemplate": "Cells: %{x}<br>Entropy number: %{y}<br>Snap Idx: %{customdata[2]:03d}<br>Mapped: %{customdata[0]}<br>Rel Error: %{customdata[1]:.3f}%<extra></extra>",
         "line": {
          "color": "rgb(63, 140, 245)"
         },
         "mode": "markers+lines",
         "name": "018",
         "opacity": 0.4,
         "type": "scatter",
         "x": {
          "bdata": "ECcAAACgAACAOAEARFsBAADECQAAIE4A",
          "dtype": "i4"
         },
         "y": {
          "bdata": "g3RElMfv8j8D4iYgdUfzPyd/0EnkaPM/4cjFR3HI8z9PUhkKELXzP3+bGO7H4PM/",
          "dtype": "f8"
         }
        },
        {
         "customdata": [
          [
           "s200_200_200_b0_4000_0_5000_-4000_0",
           -2.415604267532421,
           19
          ],
          [
           "s125_125_125_b0_4000_0_5000_-4000_0",
           -1.3787320922843127,
           19
          ],
          [
           "s100_100_100_b0_4000_0_5000_-4000_0_vtk",
           -0.9454874550682971,
           19
          ],
          [
           "Original Comsol Mesh",
           0,
           19
          ],
          [
           "s50_50_50_b0_4000_0_5000_-4000_0",
           -0.05667465280692061,
           19
          ],
          [
           "s25_25_25_b0_4000_0_5000_-4000_0_vtk",
           0.44666426554420313,
           19
          ]
         ],
         "hovertemplate": "Cells: %{x}<br>Entropy number: %{y}<br>Snap Idx: %{customdata[2]:03d}<br>Mapped: %{customdata[0]}<br>Rel Error: %{customdata[1]:.3f}%<extra></extra>",
         "line": {
          "color": "rgb(61, 147, 247)"
         },
         "mode": "markers+lines",
         "name": "019",
         "opacity": 0.4,
         "type": "scatter",
         "x": {
          "bdata": "ECcAAACgAACAOAEAPnABAADECQAAIE4A",
          "dtype": "i4"
         },
         "y": {
          "bdata": "wunftQBe8T9G4+ZHPo3xP2WQQ2/7oPE/BeloIw/M8T8afOQcesnxPy2B489o4PE/",
          "dtype": "f8"
         }
        },
        {
         "customdata": [
          [
           "s200_200_200_b0_4000_0_5000_-4000_0",
           -4.436643787263797,
           20
          ],
          [
           "s125_125_125_b0_4000_0_5000_-4000_0",
           -2.764689218629781,
           20
          ],
          [
           "s100_100_100_b0_4000_0_5000_-4000_0_vtk",
           -1.9826690199402173,
           20
          ],
          [
           "Original Comsol Mesh",
           0,
           20
          ],
          [
           "s50_50_50_b0_4000_0_5000_-4000_0",
           -0.42610207285127394,
           20
          ],
          [
           "s25_25_25_b0_4000_0_5000_-4000_0_vtk",
           0.5022312138081936,
           20
          ]
         ],
         "hovertemplate": "Cells: %{x}<br>Entropy number: %{y}<br>Snap Idx: %{customdata[2]:03d}<br>Mapped: %{customdata[0]}<br>Rel Error: %{customdata[1]:.3f}%<extra></extra>",
         "line": {
          "color": "rgb(60, 153, 249)"
         },
         "mode": "markers+lines",
         "name": "020",
         "opacity": 0.4,
         "type": "scatter",
         "x": {
          "bdata": "ECcAAACgAACAOAEA0VkBAADECQAAIE4A",
          "dtype": "i4"
         },
         "y": {
          "bdata": "4MA4cWcZ8z8sc8Ot8m7zP/5IYZH1lvM/0SGoiWb88z9OLYF1mebzPymiO8EYFvQ/",
          "dtype": "f8"
         }
        },
        {
         "customdata": [
          [
           "s200_200_200_b0_4000_0_5000_-4000_0",
           -2.3291732268103056,
           21
          ],
          [
           "s125_125_125_b0_4000_0_5000_-4000_0",
           -1.273477440739494,
           21
          ],
          [
           "s100_100_100_b0_4000_0_5000_-4000_0_vtk",
           -0.8797434591364792,
           21
          ],
          [
           "Original Comsol Mesh",
           0,
           21
          ],
          [
           "s50_50_50_b0_4000_0_5000_-4000_0",
           -0.049314669476445104,
           21
          ],
          [
           "s25_25_25_b0_4000_0_5000_-4000_0_vtk",
           0.42290997696446386,
           21
          ]
         ],
         "hovertemplate": "Cells: %{x}<br>Entropy number: %{y}<br>Snap Idx: %{customdata[2]:03d}<br>Mapped: %{customdata[0]}<br>Rel Error: %{customdata[1]:.3f}%<extra></extra>",
         "line": {
          "color": "rgb(58, 159, 251)"
         },
         "mode": "markers+lines",
         "name": "021",
         "opacity": 0.4,
         "type": "scatter",
         "x": {
          "bdata": "ECcAAACgAACAOAEA6HUBAADECQAAIE4A",
          "dtype": "i4"
         },
         "y": {
          "bdata": "2y1aLGhJ8T/Kr1doPXnxP2ND4WgUi/E/2R2LvPCy8T8KJrW5tLDxP9BIMigaxvE/",
          "dtype": "f8"
         }
        },
        {
         "customdata": [
          [
           "s200_200_200_b0_4000_0_5000_-4000_0",
           -2.6928381276310565,
           22
          ],
          [
           "s125_125_125_b0_4000_0_5000_-4000_0",
           -1.7082711806511992,
           22
          ],
          [
           "s100_100_100_b0_4000_0_5000_-4000_0_vtk",
           -1.14738950733183,
           22
          ],
          [
           "Original Comsol Mesh",
           0,
           22
          ],
          [
           "s50_50_50_b0_4000_0_5000_-4000_0",
           -0.12620339195186792,
           22
          ],
          [
           "s25_25_25_b0_4000_0_5000_-4000_0_vtk",
           0.49335882470181414,
           22
          ]
         ],
         "hovertemplate": "Cells: %{x}<br>Entropy number: %{y}<br>Snap Idx: %{customdata[2]:03d}<br>Mapped: %{customdata[0]}<br>Rel Error: %{customdata[1]:.3f}%<extra></extra>",
         "line": {
          "color": "rgb(55, 166, 249)"
         },
         "mode": "markers+lines",
         "name": "022",
         "opacity": 0.4,
         "type": "scatter",
         "x": {
          "bdata": "ECcAAACgAACAOAEAv1YBAADECQAAIE4A",
          "dtype": "i4"
         },
         "y": {
          "bdata": "NrY/1CI28T+2fSPKt2LxP6TWUXMdfPE/1mW30xGw8T8AzyrlWqrxP0FsyMVoxvE/",
          "dtype": "f8"
         }
        },
        {
         "customdata": [
          [
           "s200_200_200_b0_4000_0_5000_-4000_0",
           -2.776565560508337,
           23
          ],
          [
           "s125_125_125_b0_4000_0_5000_-4000_0",
           -1.553293911693434,
           23
          ],
          [
           "s100_100_100_b0_4000_0_5000_-4000_0_vtk",
           -1.084559811120166,
           23
          ],
          [
           "Original Comsol Mesh",
           0,
           23
          ],
          [
           "s50_50_50_b0_4000_0_5000_-4000_0",
           -0.10464362136031456,
           23
          ],
          [
           "s25_25_25_b0_4000_0_5000_-4000_0_vtk",
           0.48670972116568406,
           23
          ]
         ],
         "hovertemplate": "Cells: %{x}<br>Entropy number: %{y}<br>Snap Idx: %{customdata[2]:03d}<br>Mapped: %{customdata[0]}<br>Rel Error: %{customdata[1]:.3f}%<extra></extra>",
         "line": {
          "color": "rgb(50, 172, 243)"
         },
         "mode": "markers+lines",
         "name": "023",
         "opacity": 0.4,
         "type": "scatter",
         "x": {
          "bdata": "ECcAAACgAACAOAEAm1kBAADECQAAIE4A",
          "dtype": "i4"
         },
         "y": {
          "bdata": "fly19qEg8T/O9IDnzFfxP1768IrwbPE/RBlOBtqd8T8d0hbkIZnxP0X2DzLNs/E/",
          "dtype": "f8"
         }
        },
        {
         "customdata": [
          [
           "s200_200_200_b0_4000_0_5000_-4000_0",
           -3.859443727787422,
           24
          ],
          [
           "s125_125_125_b0_4000_0_5000_-4000_0",
           -2.2555545783337365,
           24
          ],
          [
           "s100_100_100_b0_4000_0_5000_-4000_0_vtk",
           -1.6878876997432897,
           24
          ],
          [
           "Original Comsol Mesh",
           0,
           24
          ],
          [
           "s50_50_50_b0_4000_0_5000_-4000_0",
           -0.26228789014748555,
           24
          ],
          [
           "s25_25_25_b0_4000_0_5000_-4000_0_vtk",
           0.5513981347139834,
           24
          ]
         ],
         "hovertemplate": "Cells: %{x}<br>Entropy number: %{y}<br>Snap Idx: %{customdata[2]:03d}<br>Mapped: %{customdata[0]}<br>Rel Error: %{customdata[1]:.3f}%<extra></extra>",
         "line": {
          "color": "rgb(46, 178, 238)"
         },
         "mode": "markers+lines",
         "name": "024",
         "opacity": 0.4,
         "type": "scatter",
         "x": {
          "bdata": "ECcAAACgAACAOAEA5FUBAADECQAAIE4A",
          "dtype": "i4"
         },
         "y": {
          "bdata": "4HWlDzD38T80ybYz6kPyP/ANmiwSX/I/xyFeAtGv8j+KBdnhRKPyP7Fxwr4xyvI/",
          "dtype": "f8"
         }
        },
        {
         "customdata": [
          [
           "s200_200_200_b0_4000_0_5000_-4000_0",
           -4.618199246915966,
           25
          ],
          [
           "s125_125_125_b0_4000_0_5000_-4000_0",
           -2.6456036459615513,
           25
          ],
          [
           "s100_100_100_b0_4000_0_5000_-4000_0_vtk",
           -2.0586882333269543,
           25
          ],
          [
           "Original Comsol Mesh",
           0,
           25
          ],
          [
           "s50_50_50_b0_4000_0_5000_-4000_0",
           -0.4176682374290635,
           25
          ],
          [
           "s25_25_25_b0_4000_0_5000_-4000_0_vtk",
           0.5080190313794755,
           25
          ]
         ],
         "hovertemplate": "Cells: %{x}<br>Entropy number: %{y}<br>Snap Idx: %{customdata[2]:03d}<br>Mapped: %{customdata[0]}<br>Rel Error: %{customdata[1]:.3f}%<extra></extra>",
         "line": {
          "color": "rgb(42, 184, 232)"
         },
         "mode": "markers+lines",
         "name": "025",
         "opacity": 0.4,
         "type": "scatter",
         "x": {
          "bdata": "ECcAAACgAACAOAEAEVcBAADECQAAIE4A",
          "dtype": "i4"
         },
         "y": {
          "bdata": "bPqJ1JML8z9SD9/VaHDzP+gO4xhpjvM/OwWpsaT38z9hVQYrS+LzP8qFb4icEfQ/",
          "dtype": "f8"
         }
        },
        {
         "customdata": [
          [
           "s200_200_200_b0_4000_0_5000_-4000_0",
           -4.489241636448923,
           26
          ],
          [
           "s125_125_125_b0_4000_0_5000_-4000_0",
           -2.575942065996073,
           26
          ],
          [
           "s100_100_100_b0_4000_0_5000_-4000_0_vtk",
           -1.948071505678093,
           26
          ],
          [
           "Original Comsol Mesh",
           0,
           26
          ],
          [
           "s50_50_50_b0_4000_0_5000_-4000_0",
           -0.40065420128206153,
           26
          ],
          [
           "s25_25_25_b0_4000_0_5000_-4000_0_vtk",
           0.47788344087279194,
           26
          ]
         ],
         "hovertemplate": "Cells: %{x}<br>Entropy number: %{y}<br>Snap Idx: %{customdata[2]:03d}<br>Mapped: %{customdata[0]}<br>Rel Error: %{customdata[1]:.3f}%<extra></extra>",
         "line": {
          "color": "rgb(38, 191, 226)"
         },
         "mode": "markers+lines",
         "name": "026",
         "opacity": 0.4,
         "type": "scatter",
         "x": {
          "bdata": "ECcAAACgAACAOAEAKVoBAADECQAAIE4A",
          "dtype": "i4"
         },
         "y": {
          "bdata": "/a65cvHw8j8P0NMfFFLzP5GsqWb0cfM/KcHV/9rU8z9sgf/Lg8DzP2uOU+4d7fM/",
          "dtype": "f8"
         }
        },
        {
         "customdata": [
          [
           "s200_200_200_b0_4000_0_5000_-4000_0",
           -2.5535958335843567,
           27
          ],
          [
           "s125_125_125_b0_4000_0_5000_-4000_0",
           -1.3626525113296257,
           27
          ],
          [
           "s100_100_100_b0_4000_0_5000_-4000_0_vtk",
           -0.938962861849547,
           27
          ],
          [
           "Original Comsol Mesh",
           0,
           27
          ],
          [
           "s50_50_50_b0_4000_0_5000_-4000_0",
           -0.04252284655869931,
           27
          ],
          [
           "s25_25_25_b0_4000_0_5000_-4000_0_vtk",
           0.45170404827737837,
           27
          ]
         ],
         "hovertemplate": "Cells: %{x}<br>Entropy number: %{y}<br>Snap Idx: %{customdata[2]:03d}<br>Mapped: %{customdata[0]}<br>Rel Error: %{customdata[1]:.3f}%<extra></extra>",
         "line": {
          "color": "rgb(34, 197, 221)"
         },
         "mode": "markers+lines",
         "name": "027",
         "opacity": 0.4,
         "type": "scatter",
         "x": {
          "bdata": "ECcAAACgAACAOAEAtYQBAADECQAAIE4A",
          "dtype": "i4"
         },
         "y": {
          "bdata": "ok4R9jbP8T975GVr7wbyP7qNmSPCGvI/TMDmg7BG8j+v0j4zs0TyP1F6lMbSW/I/",
          "dtype": "f8"
         }
        },
        {
         "customdata": [
          [
           "s200_200_200_b0_4000_0_5000_-4000_0",
           -4.331145546201631,
           28
          ],
          [
           "s125_125_125_b0_4000_0_5000_-4000_0",
           -2.4494737738418535,
           28
          ],
          [
           "s100_100_100_b0_4000_0_5000_-4000_0_vtk",
           -1.8178097954399723,
           28
          ],
          [
           "Original Comsol Mesh",
           0,
           28
          ],
          [
           "s50_50_50_b0_4000_0_5000_-4000_0",
           -0.39101158446166845,
           28
          ],
          [
           "s25_25_25_b0_4000_0_5000_-4000_0_vtk",
           0.4285990309506964,
           28
          ]
         ],
         "hovertemplate": "Cells: %{x}<br>Entropy number: %{y}<br>Snap Idx: %{customdata[2]:03d}<br>Mapped: %{customdata[0]}<br>Rel Error: %{customdata[1]:.3f}%<extra></extra>",
         "line": {
          "color": "rgb(29, 203, 215)"
         },
         "mode": "markers+lines",
         "name": "028",
         "opacity": 0.4,
         "type": "scatter",
         "x": {
          "bdata": "ECcAAACgAACAOAEAz2ABAADECQAAIE4A",
          "dtype": "i4"
         },
         "y": {
          "bdata": "OiOepBfK8j/3LBU6syjzP32FIZJ1SPM/vrnRKtuj8z/8qNVVMpDzPw94icxnufM/",
          "dtype": "f8"
         }
        },
        {
         "customdata": [
          [
           "s200_200_200_b0_4000_0_5000_-4000_0",
           -2.7846165140756103,
           29
          ],
          [
           "s125_125_125_b0_4000_0_5000_-4000_0",
           -1.5071507129122415,
           29
          ],
          [
           "s100_100_100_b0_4000_0_5000_-4000_0_vtk",
           -1.070802716728773,
           29
          ],
          [
           "Original Comsol Mesh",
           0,
           29
          ],
          [
           "s50_50_50_b0_4000_0_5000_-4000_0",
           -0.08492397276032464,
           29
          ],
          [
           "s25_25_25_b0_4000_0_5000_-4000_0_vtk",
           0.47288329156910947,
           29
          ]
         ],
         "hovertemplate": "Cells: %{x}<br>Entropy number: %{y}<br>Snap Idx: %{customdata[2]:03d}<br>Mapped: %{customdata[0]}<br>Rel Error: %{customdata[1]:.3f}%<extra></extra>",
         "line": {
          "color": "rgb(28, 209, 209)"
         },
         "mode": "markers+lines",
         "name": "029",
         "opacity": 0.4,
         "type": "scatter",
         "x": {
          "bdata": "ECcAAACgAACAOAEAymoBAADECQAAIE4A",
          "dtype": "i4"
         },
         "y": {
          "bdata": "PTde/2N38T/09A6yJbLxP7m+E4k3xvE/Suiw2Xf38T/eB7rmj/PxP7C0UuE3DfI/",
          "dtype": "f8"
         }
        },
        {
         "customdata": [
          [
           "s200_200_200_b0_4000_0_5000_-4000_0",
           -2.8053189273208208,
           30
          ],
          [
           "s125_125_125_b0_4000_0_5000_-4000_0",
           -1.551526878274307,
           30
          ],
          [
           "s100_100_100_b0_4000_0_5000_-4000_0_vtk",
           -1.0883517732650143,
           30
          ],
          [
           "Original Comsol Mesh",
           0,
           30
          ],
          [
           "s50_50_50_b0_4000_0_5000_-4000_0",
           -0.07825093046498302,
           30
          ],
          [
           "s25_25_25_b0_4000_0_5000_-4000_0_vtk",
           0.49598230263410537,
           30
          ]
         ],
         "hovertemplate": "Cells: %{x}<br>Entropy number: %{y}<br>Snap Idx: %{customdata[2]:03d}<br>Mapped: %{customdata[0]}<br>Rel Error: %{customdata[1]:.3f}%<extra></extra>",
         "line": {
          "color": "rgb(29, 213, 203)"
         },
         "mode": "markers+lines",
         "name": "030",
         "opacity": 0.4,
         "type": "scatter",
         "x": {
          "bdata": "ECcAAACgAACAOAEAxWoBAADECQAAIE4A",
          "dtype": "i4"
         },
         "y": {
          "bdata": "Qe66wD+B8T+nGsRmDrvxPxetLU9p0PE/tEdoP5cC8j9Nj6Wk+/7xP+1h8WF1GfI/",
          "dtype": "f8"
         }
        },
        {
         "customdata": [
          [
           "s200_200_200_b0_4000_0_5000_-4000_0",
           -2.1162486591179435,
           31
          ],
          [
           "s125_125_125_b0_4000_0_5000_-4000_0",
           -1.349622600015296,
           31
          ],
          [
           "s100_100_100_b0_4000_0_5000_-4000_0_vtk",
           -1.0318036745679866,
           31
          ],
          [
           "Original Comsol Mesh",
           0,
           31
          ],
          [
           "s50_50_50_b0_4000_0_5000_-4000_0",
           -0.12627561778684263,
           31
          ],
          [
           "s25_25_25_b0_4000_0_5000_-4000_0_vtk",
           0.5378861810010133,
           31
          ]
         ],
         "hovertemplate": "Cells: %{x}<br>Entropy number: %{y}<br>Snap Idx: %{customdata[2]:03d}<br>Mapped: %{customdata[0]}<br>Rel Error: %{customdata[1]:.3f}%<extra></extra>",
         "line": {
          "color": "rgb(30, 217, 196)"
         },
         "mode": "markers+lines",
         "name": "031",
         "opacity": 0.4,
         "type": "scatter",
         "x": {
          "bdata": "ECcAAACgAACAOAEAKFIBAADECQAAIE4A",
          "dtype": "i4"
         },
         "y": {
          "bdata": "RVCNFQhb8T9Cgj5V1H3xP5LASWlBjPE/mN/qChe78T9p+wi2W7XxPzs9ZVGB0/E/",
          "dtype": "f8"
         }
        },
        {
         "customdata": [
          [
           "s200_200_200_b0_4000_0_5000_-4000_0",
           -3.8472295098593694,
           32
          ],
          [
           "s125_125_125_b0_4000_0_5000_-4000_0",
           -2.3550417748635093,
           32
          ],
          [
           "s100_100_100_b0_4000_0_5000_-4000_0_vtk",
           -1.6398331919724105,
           32
          ],
          [
           "Original Comsol Mesh",
           0,
           32
          ],
          [
           "s50_50_50_b0_4000_0_5000_-4000_0",
           -0.29896560061445365,
           32
          ],
          [
           "s25_25_25_b0_4000_0_5000_-4000_0_vtk",
           0.5242078993773763,
           32
          ]
         ],
         "hovertemplate": "Cells: %{x}<br>Entropy number: %{y}<br>Snap Idx: %{customdata[2]:03d}<br>Mapped: %{customdata[0]}<br>Rel Error: %{customdata[1]:.3f}%<extra></extra>",
         "line": {
          "color": "rgb(31, 221, 190)"
         },
         "mode": "markers+lines",
         "name": "032",
         "opacity": 0.4,
         "type": "scatter",
         "x": {
          "bdata": "ECcAAACgAACAOAEAm1QBAADECQAAIE4A",
          "dtype": "i4"
         },
         "y": {
          "bdata": "PSfTXKUB8j9X25LFLknyP3Ph9Wx4a/I/cljb3RW68j+Xpz20wKvyP8UWZmU30/I/",
          "dtype": "f8"
         }
        },
        {
         "customdata": [
          [
           "s200_200_200_b0_4000_0_5000_-4000_0",
           -2.563920867673664,
           33
          ],
          [
           "s125_125_125_b0_4000_0_5000_-4000_0",
           -1.4185747614126987,
           33
          ],
          [
           "s100_100_100_b0_4000_0_5000_-4000_0_vtk",
           -1.0160807478477132,
           33
          ],
          [
           "Original Comsol Mesh",
           0,
           33
          ],
          [
           "s50_50_50_b0_4000_0_5000_-4000_0",
           -0.09347340969665131,
           33
          ],
          [
           "s25_25_25_b0_4000_0_5000_-4000_0_vtk",
           0.42849184154626974,
           33
          ]
         ],
         "hovertemplate": "Cells: %{x}<br>Entropy number: %{y}<br>Snap Idx: %{customdata[2]:03d}<br>Mapped: %{customdata[0]}<br>Rel Error: %{customdata[1]:.3f}%<extra></extra>",
         "line": {
          "color": "rgb(33, 225, 183)"
         },
         "mode": "markers+lines",
         "name": "033",
         "opacity": 0.4,
         "type": "scatter",
         "x": {
          "bdata": "ECcAAACgAACAOAEAHnABAADECQAAIE4A",
          "dtype": "i4"
         },
         "y": {
          "bdata": "46htShVm8T+c1dOycJrxP30WC+LWrPE/aWpBkEnb8T9Z8/qwA9fxP4l5xvzf7vE/",
          "dtype": "f8"
         }
        },
        {
         "customdata": [
          [
           "s200_200_200_b0_4000_0_5000_-4000_0",
           -4.757862067241565,
           34
          ],
          [
           "s125_125_125_b0_4000_0_5000_-4000_0",
           -2.7547718878224137,
           34
          ],
          [
           "s100_100_100_b0_4000_0_5000_-4000_0_vtk",
           -1.9748461465664149,
           34
          ],
          [
           "Original Comsol Mesh",
           0,
           34
          ],
          [
           "s50_50_50_b0_4000_0_5000_-4000_0",
           -0.4310790702345875,
           34
          ],
          [
           "s25_25_25_b0_4000_0_5000_-4000_0_vtk",
           0.4745693262427785,
           34
          ]
         ],
         "hovertemplate": "Cells: %{x}<br>Entropy number: %{y}<br>Snap Idx: %{customdata[2]:03d}<br>Mapped: %{customdata[0]}<br>Rel Error: %{customdata[1]:.3f}%<extra></extra>",
         "line": {
          "color": "rgb(34, 229, 177)"
         },
         "mode": "markers+lines",
         "name": "034",
         "opacity": 0.4,
         "type": "scatter",
         "x": {
          "bdata": "ECcAAACgAACAOAEA2VkBAADECQAAIE4A",
          "dtype": "i4"
         },
         "y": {
          "bdata": "SWwaBkD18j/mH9pMUlvzPxHX+GoQg/M/t69VQLLn8z/pfhbVutHzP2Zz9//g//M/",
          "dtype": "f8"
         }
        },
        {
         "customdata": [
          [
           "s200_200_200_b0_4000_0_5000_-4000_0",
           -5.614647448607355,
           35
          ],
          [
           "s125_125_125_b0_4000_0_5000_-4000_0",
           -3.027637856199778,
           35
          ],
          [
           "s100_100_100_b0_4000_0_5000_-4000_0_vtk",
           -2.3505320259562676,
           35
          ],
          [
           "Original Comsol Mesh",
           0,
           35
          ],
          [
           "s50_50_50_b0_4000_0_5000_-4000_0",
           -0.6439444678554002,
           35
          ],
          [
           "s25_25_25_b0_4000_0_5000_-4000_0_vtk",
           0.3540162992439197,
           35
          ]
         ],
         "hovertemplate": "Cells: %{x}<br>Entropy number: %{y}<br>Snap Idx: %{customdata[2]:03d}<br>Mapped: %{customdata[0]}<br>Rel Error: %{customdata[1]:.3f}%<extra></extra>",
         "line": {
          "color": "rgb(35, 233, 171)"
         },
         "mode": "markers+lines",
         "name": "035",
         "opacity": 0.4,
         "type": "scatter",
         "x": {
          "bdata": "ECcAAACgAACAOAEAhFMBAADECQAAIE4A",
          "dtype": "i4"
         },
         "y": {
          "bdata": "inwSo4dA9D8OcwP4oc70P3OVIGHT8/Q/mN+1YfB09T9KHpxIkVH1P7dWK4hiiPU/",
          "dtype": "f8"
         }
        },
        {
         "customdata": [
          [
           "s200_200_200_b0_4000_0_5000_-4000_0",
           -3.6371568894453685,
           36
          ],
          [
           "s125_125_125_b0_4000_0_5000_-4000_0",
           -2.0905572618946295,
           36
          ],
          [
           "s100_100_100_b0_4000_0_5000_-4000_0_vtk",
           -1.5457352932313368,
           36
          ],
          [
           "Original Comsol Mesh",
           0,
           36
          ],
          [
           "s50_50_50_b0_4000_0_5000_-4000_0",
           -0.31638090323243884,
           36
          ],
          [
           "s25_25_25_b0_4000_0_5000_-4000_0_vtk",
           0.38077540126214965,
           36
          ]
         ],
         "hovertemplate": "Cells: %{x}<br>Entropy number: %{y}<br>Snap Idx: %{customdata[2]:03d}<br>Mapped: %{customdata[0]}<br>Rel Error: %{customdata[1]:.3f}%<extra></extra>",
         "line": {
          "color": "rgb(38, 237, 164)"
         },
         "mode": "markers+lines",
         "name": "036",
         "opacity": 0.4,
         "type": "scatter",
         "x": {
          "bdata": "ECcAAACgAACAOAEAd3UBAADECQAAIE4A",
          "dtype": "i4"
         },
         "y": {
          "bdata": "snkZjCOG8z9Rv9qUW9bzP0EM5tOd8vM/BmmYYspC9D8ezdxrYTL0PyZ5E2SKVvQ/",
          "dtype": "f8"
         }
        },
        {
         "customdata": [
          [
           "s200_200_200_b0_4000_0_5000_-4000_0",
           -4.31701848257842,
           37
          ],
          [
           "s125_125_125_b0_4000_0_5000_-4000_0",
           -2.4547912607973204,
           37
          ],
          [
           "s100_100_100_b0_4000_0_5000_-4000_0_vtk",
           -1.8130982181924575,
           37
          ],
          [
           "Original Comsol Mesh",
           0,
           37
          ],
          [
           "s50_50_50_b0_4000_0_5000_-4000_0",
           -0.3628666895039148,
           37
          ],
          [
           "s25_25_25_b0_4000_0_5000_-4000_0_vtk",
           0.47957578304551496,
           37
          ]
         ],
         "hovertemplate": "Cells: %{x}<br>Entropy number: %{y}<br>Snap Idx: %{customdata[2]:03d}<br>Mapped: %{customdata[0]}<br>Rel Error: %{customdata[1]:.3f}%<extra></extra>",
         "line": {
          "color": "rgb(47, 239, 156)"
         },
         "mode": "markers+lines",
         "name": "037",
         "opacity": 0.4,
         "type": "scatter",
         "x": {
          "bdata": "ECcAAACgAACAOAEAbmABAADECQAAIE4A",
          "dtype": "i4"
         },
         "y": {
          "bdata": "sGsRudTO8j+HBroZiizzP6zBmHLUTPM/YlPl8BCo8z+Zdbl1zpXzPyWzDeEywPM/",
          "dtype": "f8"
         }
        },
        {
         "customdata": [
          [
           "s200_200_200_b0_4000_0_5000_-4000_0",
           -3.7937412710923013,
           38
          ],
          [
           "s125_125_125_b0_4000_0_5000_-4000_0",
           -2.216048523480245,
           38
          ],
          [
           "s100_100_100_b0_4000_0_5000_-4000_0_vtk",
           -1.601502621353776,
           38
          ],
          [
           "Original Comsol Mesh",
           0,
           38
          ],
          [
           "s50_50_50_b0_4000_0_5000_-4000_0",
           -0.2665840009677475,
           38
          ],
          [
           "s25_25_25_b0_4000_0_5000_-4000_0_vtk",
           0.5035680165766528,
           38
          ]
         ],
         "hovertemplate": "Cells: %{x}<br>Entropy number: %{y}<br>Snap Idx: %{customdata[2]:03d}<br>Mapped: %{customdata[0]}<br>Rel Error: %{customdata[1]:.3f}%<extra></extra>",
         "line": {
          "color": "rgb(56, 241, 147)"
         },
         "mode": "markers+lines",
         "name": "038",
         "opacity": 0.4,
         "type": "scatter",
         "x": {
          "bdata": "ECcAAACgAACAOAEAEWIBAADECQAAIE4A",
          "dtype": "i4"
         },
         "y": {
          "bdata": "anNbvga18j/8/6DYjwPzPzQKbDknIvM/PRCivt9x8z8qP8eRmmTzP2kvU+TwivM/",
          "dtype": "f8"
         }
        },
        {
         "customdata": [
          [
           "s200_200_200_b0_4000_0_5000_-4000_0",
           -3.061697692033474,
           39
          ],
          [
           "s125_125_125_b0_4000_0_5000_-4000_0",
           -1.7054405080435444,
           39
          ],
          [
           "s100_100_100_b0_4000_0_5000_-4000_0_vtk",
           -1.1929624804795456,
           39
          ],
          [
           "Original Comsol Mesh",
           0,
           39
          ],
          [
           "s50_50_50_b0_4000_0_5000_-4000_0",
           -0.16163090138623623,
           39
          ],
          [
           "s25_25_25_b0_4000_0_5000_-4000_0_vtk",
           0.3986797332710824,
           39
          ]
         ],
         "hovertemplate": "Cells: %{x}<br>Entropy number: %{y}<br>Snap Idx: %{customdata[2]:03d}<br>Mapped: %{customdata[0]}<br>Rel Error: %{customdata[1]:.3f}%<extra></extra>",
         "line": {
          "color": "rgb(64, 243, 139)"
         },
         "mode": "markers+lines",
         "name": "039",
         "opacity": 0.4,
         "type": "scatter",
         "x": {
          "bdata": "ECcAAACgAACAOAEA34cBAADECQAAIE4A",
          "dtype": "i4"
         },
         "y": {
          "bdata": "8Rwp5T/z8j8U/AWDHzfzP/r2xBjFUPM/BA8JrHiM8z/OzELyYYTzP+mGD1ZsoPM/",
          "dtype": "f8"
         }
        },
        {
         "customdata": [
          [
           "s200_200_200_b0_4000_0_5000_-4000_0",
           -3.3363050367261198,
           40
          ],
          [
           "s125_125_125_b0_4000_0_5000_-4000_0",
           -1.985330295427705,
           40
          ],
          [
           "s100_100_100_b0_4000_0_5000_-4000_0_vtk",
           -1.4280596461576127,
           40
          ],
          [
           "Original Comsol Mesh",
           0,
           40
          ],
          [
           "s50_50_50_b0_4000_0_5000_-4000_0",
           -0.19669995825034925,
           40
          ],
          [
           "s25_25_25_b0_4000_0_5000_-4000_0_vtk",
           0.5158319493361566,
           40
          ]
         ],
         "hovertemplate": "Cells: %{x}<br>Entropy number: %{y}<br>Snap Idx: %{customdata[2]:03d}<br>Mapped: %{customdata[0]}<br>Rel Error: %{customdata[1]:.3f}%<extra></extra>",
         "line": {
          "color": "rgb(73, 246, 131)"
         },
         "mode": "markers+lines",
         "name": "040",
         "opacity": 0.4,
         "type": "scatter",
         "x": {
          "bdata": "ECcAAACgAACAOAEAXFwBAADECQAAIE4A",
          "dtype": "i4"
         },
         "y": {
          "bdata": "qND+p9TP8T/M+/wbjw/yPx04Wr7YKfI/NO4iFDZt8j99NM+37mPyPwMy8EuLhfI/",
          "dtype": "f8"
         }
        },
        {
         "customdata": [
          [
           "s200_200_200_b0_4000_0_5000_-4000_0",
           -2.0819970784574693,
           41
          ],
          [
           "s125_125_125_b0_4000_0_5000_-4000_0",
           -1.1266628169786244,
           41
          ],
          [
           "s100_100_100_b0_4000_0_5000_-4000_0_vtk",
           -0.7835065442742941,
           41
          ],
          [
           "Original Comsol Mesh",
           0,
           41
          ],
          [
           "s50_50_50_b0_4000_0_5000_-4000_0",
           -0.009773488023093356,
           41
          ],
          [
           "s25_25_25_b0_4000_0_5000_-4000_0_vtk",
           0.42668650927335333,
           41
          ]
         ],
         "hovertemplate": "Cells: %{x}<br>Entropy number: %{y}<br>Snap Idx: %{customdata[2]:03d}<br>Mapped: %{customdata[0]}<br>Rel Error: %{customdata[1]:.3f}%<extra></extra>",
         "line": {
          "color": "rgb(81, 248, 123)"
         },
         "mode": "markers+lines",
         "name": "041",
         "opacity": 0.4,
         "type": "scatter",
         "x": {
          "bdata": "ECcAAACgAACAOAEADXgBAADECQAAIE4A",
          "dtype": "i4"
         },
         "y": {
          "bdata": "xdymdrQx8T90S3dpplzxP9MmznATbPE/htqsAEyP8T/lQZyH247xP+j/Pkt6ovE/",
          "dtype": "f8"
         }
        },
        {
         "customdata": [
          [
           "s200_200_200_b0_4000_0_5000_-4000_0",
           -3.649655569085053,
           42
          ],
          [
           "s125_125_125_b0_4000_0_5000_-4000_0",
           -2.1200604164005976,
           42
          ],
          [
           "s100_100_100_b0_4000_0_5000_-4000_0_vtk",
           -1.533347488939007,
           42
          ],
          [
           "Original Comsol Mesh",
           0,
           42
          ],
          [
           "s50_50_50_b0_4000_0_5000_-4000_0",
           -0.23673107142866714,
           42
          ],
          [
           "s25_25_25_b0_4000_0_5000_-4000_0_vtk",
           0.5064016125518734,
           42
          ]
         ],
         "hovertemplate": "Cells: %{x}<br>Entropy number: %{y}<br>Snap Idx: %{customdata[2]:03d}<br>Mapped: %{customdata[0]}<br>Rel Error: %{customdata[1]:.3f}%<extra></extra>",
         "line": {
          "color": "rgb(90, 250, 115)"
         },
         "mode": "markers+lines",
         "name": "042",
         "opacity": 0.4,
         "type": "scatter",
         "x": {
          "bdata": "ECcAAACgAACAOAEAjWMBAADECQAAIE4A",
          "dtype": "i4"
         },
         "y": {
          "bdata": "FQMgm4u18j+CAGK+lAHzPx7behC/HvM/v0IA9Pdq8z+MVa5jM1/zP7jZ/EEkhPM/",
          "dtype": "f8"
         }
        },
        {
         "customdata": [
          [
           "s200_200_200_b0_4000_0_5000_-4000_0",
           -3.223596268566406,
           43
          ],
          [
           "s125_125_125_b0_4000_0_5000_-4000_0",
           -1.7892467663835645,
           43
          ],
          [
           "s100_100_100_b0_4000_0_5000_-4000_0_vtk",
           -1.2979974681256503,
           43
          ],
          [
           "Original Comsol Mesh",
           0,
           43
          ],
          [
           "s50_50_50_b0_4000_0_5000_-4000_0",
           -0.15183736571460504,
           43
          ],
          [
           "s25_25_25_b0_4000_0_5000_-4000_0_vtk",
           0.4880005646815254,
           43
          ]
         ],
         "hovertemplate": "Cells: %{x}<br>Entropy number: %{y}<br>Snap Idx: %{customdata[2]:03d}<br>Mapped: %{customdata[0]}<br>Rel Error: %{customdata[1]:.3f}%<extra></extra>",
         "line": {
          "color": "rgb(98, 252, 107)"
         },
         "mode": "markers+lines",
         "name": "043",
         "opacity": 0.4,
         "type": "scatter",
         "x": {
          "bdata": "ECcAAACgAACAOAEAC3IBAADECQAAIE4A",
          "dtype": "i4"
         },
         "y": {
          "bdata": "dH8VElVI8j/zAPxms43yP/5QrHB1pfI/1DxmoTvk8j+IB+DE49zyP5UPUHLV+/I/",
          "dtype": "f8"
         }
        },
        {
         "customdata": [
          [
           "s200_200_200_b0_4000_0_5000_-4000_0",
           -2.3346182912743,
           44
          ],
          [
           "s125_125_125_b0_4000_0_5000_-4000_0",
           -1.524913998966889,
           44
          ],
          [
           "s100_100_100_b0_4000_0_5000_-4000_0_vtk",
           -1.1711189737186003,
           44
          ],
          [
           "Original Comsol Mesh",
           0,
           44
          ],
          [
           "s50_50_50_b0_4000_0_5000_-4000_0",
           -0.16279711100709457,
           44
          ],
          [
           "s25_25_25_b0_4000_0_5000_-4000_0_vtk",
           0.4851956408590385,
           44
          ]
         ],
         "hovertemplate": "Cells: %{x}<br>Entropy number: %{y}<br>Snap Idx: %{customdata[2]:03d}<br>Mapped: %{customdata[0]}<br>Rel Error: %{customdata[1]:.3f}%<extra></extra>",
         "line": {
          "color": "rgb(108, 252, 100)"
         },
         "mode": "markers+lines",
         "name": "044",
         "opacity": 0.4,
         "type": "scatter",
         "x": {
          "bdata": "ECcAAACgAACAOAEAXFQBAADECQAAIE4A",
          "dtype": "i4"
         },
         "y": {
          "bdata": "Upt7yGBT8T9jeLxlJnjxP+5HbZ03iPE/vUBmCGe98T9zkexaArbxP96moulv0/E/",
          "dtype": "f8"
         }
        },
        {
         "customdata": [
          [
           "s200_200_200_b0_4000_0_5000_-4000_0",
           -2.895259641601514,
           45
          ],
          [
           "s125_125_125_b0_4000_0_5000_-4000_0",
           -1.602830794172155,
           45
          ],
          [
           "s100_100_100_b0_4000_0_5000_-4000_0_vtk",
           -1.1630638024971802,
           45
          ],
          [
           "Original Comsol Mesh",
           0,
           45
          ],
          [
           "s50_50_50_b0_4000_0_5000_-4000_0",
           -0.11786270867431034,
           45
          ],
          [
           "s25_25_25_b0_4000_0_5000_-4000_0_vtk",
           0.4806942230543349,
           45
          ]
         ],
         "hovertemplate": "Cells: %{x}<br>Entropy number: %{y}<br>Snap Idx: %{customdata[2]:03d}<br>Mapped: %{customdata[0]}<br>Rel Error: %{customdata[1]:.3f}%<extra></extra>",
         "line": {
          "color": "rgb(117, 252, 93)"
         },
         "mode": "markers+lines",
         "name": "045",
         "opacity": 0.4,
         "type": "scatter",
         "x": {
          "bdata": "ECcAAACgAACAOAEADWgBAADECQAAIE4A",
          "dtype": "i4"
         },
         "y": {
          "bdata": "z99aR/qP8T+oU35G0cvxP97bOcct4PE/FyhgbQcW8j9Qa1ZqkhDyP5F0EglJLPI/",
          "dtype": "f8"
         }
        },
        {
         "customdata": [
          [
           "s200_200_200_b0_4000_0_5000_-4000_0",
           -2.722546952168116,
           46
          ],
          [
           "s125_125_125_b0_4000_0_5000_-4000_0",
           -1.467714370637732,
           46
          ],
          [
           "s100_100_100_b0_4000_0_5000_-4000_0_vtk",
           -1.034524037141349,
           46
          ],
          [
           "Original Comsol Mesh",
           0,
           46
          ],
          [
           "s50_50_50_b0_4000_0_5000_-4000_0",
           -0.07539691074084456,
           46
          ],
          [
           "s25_25_25_b0_4000_0_5000_-4000_0_vtk",
           0.4713124404881428,
           46
          ]
         ],
         "hovertemplate": "Cells: %{x}<br>Entropy number: %{y}<br>Snap Idx: %{customdata[2]:03d}<br>Mapped: %{customdata[0]}<br>Rel Error: %{customdata[1]:.3f}%<extra></extra>",
         "line": {
          "color": "rgb(126, 252, 86)"
         },
         "mode": "markers+lines",
         "name": "046",
         "opacity": 0.4,
         "type": "scatter",
         "x": {
          "bdata": "ECcAAACgAACAOAEAEmwBAADECQAAIE4A",
          "dtype": "i4"
         },
         "y": {
          "bdata": "1LakUydw8T8ZEVwzvanxP4+p/VqevfE/lWDgBhjt8T/S2gVCounxP30EEgu5AvI/",
          "dtype": "f8"
         }
        },
        {
         "customdata": [
          [
           "s200_200_200_b0_4000_0_5000_-4000_0",
           -2.3916339947695078,
           47
          ],
          [
           "s125_125_125_b0_4000_0_5000_-4000_0",
           -1.286476034629391,
           47
          ],
          [
           "s100_100_100_b0_4000_0_5000_-4000_0_vtk",
           -0.9058179018488346,
           47
          ],
          [
           "Original Comsol Mesh",
           0,
           47
          ],
          [
           "s50_50_50_b0_4000_0_5000_-4000_0",
           -0.06954790178349124,
           47
          ],
          [
           "s25_25_25_b0_4000_0_5000_-4000_0_vtk",
           0.4120164361460384,
           47
          ]
         ],
         "hovertemplate": "Cells: %{x}<br>Entropy number: %{y}<br>Snap Idx: %{customdata[2]:03d}<br>Mapped: %{customdata[0]}<br>Rel Error: %{customdata[1]:.3f}%<extra></extra>",
         "line": {
          "color": "rgb(136, 252, 80)"
         },
         "mode": "markers+lines",
         "name": "047",
         "opacity": 0.4,
         "type": "scatter",
         "x": {
          "bdata": "ECcAAACgAACAOAEAUHMBAADECQAAIE4A",
          "dtype": "i4"
         },
         "y": {
          "bdata": "y+2aBipN8T/V8FoTUH/xP25IF/yVkPE/O+5nZ7C58T8YfniAiLbxP7G1FpZizPE/",
          "dtype": "f8"
         }
        },
        {
         "customdata": [
          [
           "s200_200_200_b0_4000_0_5000_-4000_0",
           -4.1916591831625585,
           48
          ],
          [
           "s125_125_125_b0_4000_0_5000_-4000_0",
           -2.5326651007924936,
           48
          ],
          [
           "s100_100_100_b0_4000_0_5000_-4000_0_vtk",
           -1.8585558760398775,
           48
          ],
          [
           "Original Comsol Mesh",
           0,
           48
          ],
          [
           "s50_50_50_b0_4000_0_5000_-4000_0",
           -0.38867994864745536,
           48
          ],
          [
           "s25_25_25_b0_4000_0_5000_-4000_0_vtk",
           0.4515245022969622,
           48
          ]
         ],
         "hovertemplate": "Cells: %{x}<br>Entropy number: %{y}<br>Snap Idx: %{customdata[2]:03d}<br>Mapped: %{customdata[0]}<br>Rel Error: %{customdata[1]:.3f}%<extra></extra>",
         "line": {
          "color": "rgb(145, 252, 73)"
         },
         "mode": "markers+lines",
         "name": "048",
         "opacity": 0.4,
         "type": "scatter",
         "x": {
          "bdata": "ECcAAACgAACAOAEA+F0BAADECQAAIE4A",
          "dtype": "i4"
         },
         "y": {
          "bdata": "+bTfh8Hj8j/R1o+ifTfzP2UuBeaDWfM/Uf7ckVK38z9fAylhtKPzP0fancgczvM/",
          "dtype": "f8"
         }
        },
        {
         "customdata": [
          [
           "s200_200_200_b0_4000_0_5000_-4000_0",
           -4.2443449515339005,
           49
          ],
          [
           "s125_125_125_b0_4000_0_5000_-4000_0",
           -2.516072895479567,
           49
          ],
          [
           "s100_100_100_b0_4000_0_5000_-4000_0_vtk",
           -1.8505188425825947,
           49
          ],
          [
           "Original Comsol Mesh",
           0,
           49
          ],
          [
           "s50_50_50_b0_4000_0_5000_-4000_0",
           -0.35194651891149265,
           49
          ],
          [
           "s25_25_25_b0_4000_0_5000_-4000_0_vtk",
           0.5087277115344281,
           49
          ]
         ],
         "hovertemplate": "Cells: %{x}<br>Entropy number: %{y}<br>Snap Idx: %{customdata[2]:03d}<br>Mapped: %{customdata[0]}<br>Rel Error: %{customdata[1]:.3f}%<extra></extra>",
         "line": {
          "color": "rgb(155, 252, 66)"
         },
         "mode": "markers+lines",
         "name": "049",
         "opacity": 0.4,
         "type": "scatter",
         "x": {
          "bdata": "ECcAAACgAACAOAEAmFoBAADECQAAIE4A",
          "dtype": "i4"
         },
         "y": {
          "bdata": "xg1dpmHq8j8vG/7Nx0HzP3Tg0AtwY/M/kJHPzQTB8z/P8PuDOK/zP1sQ0sa+2vM/",
          "dtype": "f8"
         }
        },
        {
         "customdata": [
          [
           "s200_200_200_b0_4000_0_5000_-4000_0",
           -4.593705207244897,
           50
          ],
          [
           "s125_125_125_b0_4000_0_5000_-4000_0",
           -2.905458572572735,
           50
          ],
          [
           "s100_100_100_b0_4000_0_5000_-4000_0_vtk",
           -2.060837434164879,
           50
          ],
          [
           "Original Comsol Mesh",
           0,
           50
          ],
          [
           "s50_50_50_b0_4000_0_5000_-4000_0",
           -0.483501025215681,
           50
          ],
          [
           "s25_25_25_b0_4000_0_5000_-4000_0_vtk",
           0.4519810272827983,
           50
          ]
         ],
         "hovertemplate": "Cells: %{x}<br>Entropy number: %{y}<br>Snap Idx: %{customdata[2]:03d}<br>Mapped: %{customdata[0]}<br>Rel Error: %{customdata[1]:.3f}%<extra></extra>",
         "line": {
          "color": "rgb(164, 252, 59)"
         },
         "mode": "markers+lines",
         "name": "050",
         "opacity": 0.4,
         "type": "scatter",
         "x": {
          "bdata": "ECcAAACgAACAOAEAYFcBAADECQAAIE4A",
          "dtype": "i4"
         },
         "y": {
          "bdata": "amyrWLca8z9G7ZpSQnHzPwVwAViOnPM/gpjM2jIG9D/wKmzWae3zP+VkkTteHfQ/",
          "dtype": "f8"
         }
        },
        {
         "customdata": [
          [
           "s200_200_200_b0_4000_0_5000_-4000_0",
           -2.0372477562011277,
           51
          ],
          [
           "s125_125_125_b0_4000_0_5000_-4000_0",
           -1.069363992113476,
           51
          ],
          [
           "s100_100_100_b0_4000_0_5000_-4000_0_vtk",
           -0.7354654684047418,
           51
          ],
          [
           "Original Comsol Mesh",
           0,
           51
          ],
          [
           "s50_50_50_b0_4000_0_5000_-4000_0",
           -0.02257043025567375,
           51
          ],
          [
           "s25_25_25_b0_4000_0_5000_-4000_0_vtk",
           0.36431872030463824,
           51
          ]
         ],
         "hovertemplate": "Cells: %{x}<br>Entropy number: %{y}<br>Snap Idx: %{customdata[2]:03d}<br>Mapped: %{customdata[0]}<br>Rel Error: %{customdata[1]:.3f}%<extra></extra>",
         "line": {
          "color": "rgb(170, 249, 58)"
         },
         "mode": "markers+lines",
         "name": "051",
         "opacity": 0.4,
         "type": "scatter",
         "x": {
          "bdata": "ECcAAACgAACAOAEArpEBAADECQAAIE4A",
          "dtype": "i4"
         },
         "y": {
          "bdata": "vvKRP4Nv8T++tufbnJvxPz2QfobTqvE/RGpVKFbM8T+hGRzkTsvxP89m3qbv3PE/",
          "dtype": "f8"
         }
        },
        {
         "customdata": [
          [
           "s200_200_200_b0_4000_0_5000_-4000_0",
           -4.687959979547999,
           52
          ],
          [
           "s125_125_125_b0_4000_0_5000_-4000_0",
           -2.70962685227919,
           52
          ],
          [
           "s100_100_100_b0_4000_0_5000_-4000_0_vtk",
           -1.9835815126759706,
           52
          ],
          [
           "Original Comsol Mesh",
           0,
           52
          ],
          [
           "s50_50_50_b0_4000_0_5000_-4000_0",
           -0.40840482934634437,
           52
          ],
          [
           "s25_25_25_b0_4000_0_5000_-4000_0_vtk",
           0.4817705212600611,
           52
          ]
         ],
         "hovertemplate": "Cells: %{x}<br>Entropy number: %{y}<br>Snap Idx: %{customdata[2]:03d}<br>Mapped: %{customdata[0]}<br>Rel Error: %{customdata[1]:.3f}%<extra></extra>",
         "line": {
          "color": "rgb(177, 246, 57)"
         },
         "mode": "markers+lines",
         "name": "052",
         "opacity": 0.4,
         "type": "scatter",
         "x": {
          "bdata": "ECcAAACgAACAOAEAGFkBAADECQAAIE4A",
          "dtype": "i4"
         },
         "y": {
          "bdata": "A3d6ULbx8j94GrXoX1bzP8DE7k9Re/M/qbeaRT/g8z+LeR1td8vzP3COzMXC+PM/",
          "dtype": "f8"
         }
        },
        {
         "customdata": [
          [
           "s200_200_200_b0_4000_0_5000_-4000_0",
           -4.284302776030476,
           53
          ],
          [
           "s125_125_125_b0_4000_0_5000_-4000_0",
           -2.5185491792476844,
           53
          ],
          [
           "s100_100_100_b0_4000_0_5000_-4000_0_vtk",
           -1.8599765818886158,
           53
          ],
          [
           "Original Comsol Mesh",
           0,
           53
          ],
          [
           "s50_50_50_b0_4000_0_5000_-4000_0",
           -0.36004654058916763,
           53
          ],
          [
           "s25_25_25_b0_4000_0_5000_-4000_0_vtk",
           0.5085193219625516,
           53
          ]
         ],
         "hovertemplate": "Cells: %{x}<br>Entropy number: %{y}<br>Snap Idx: %{customdata[2]:03d}<br>Mapped: %{customdata[0]}<br>Rel Error: %{customdata[1]:.3f}%<extra></extra>",
         "line": {
          "color": "rgb(183, 244, 56)"
         },
         "mode": "markers+lines",
         "name": "053",
         "opacity": 0.4,
         "type": "scatter",
         "x": {
          "bdata": "ECcAAACgAACAOAEAjFoBAADECQAAIE4A",
          "dtype": "i4"
         },
         "y": {
          "bdata": "CfbUQenx8j+VqwPAYUvzP5T8l27AbPM/08yxI//K8z9nIqjKwLjzPxwKU2fD5PM/",
          "dtype": "f8"
         }
        },
        {
         "customdata": [
          [
           "s200_200_200_b0_4000_0_5000_-4000_0",
           -4.520169248484705,
           54
          ],
          [
           "s125_125_125_b0_4000_0_5000_-4000_0",
           -2.558253753157262,
           54
          ],
          [
           "s100_100_100_b0_4000_0_5000_-4000_0_vtk",
           -1.9196425805885609,
           54
          ],
          [
           "Original Comsol Mesh",
           0,
           54
          ],
          [
           "s50_50_50_b0_4000_0_5000_-4000_0",
           -0.368866999351534,
           54
          ],
          [
           "s25_25_25_b0_4000_0_5000_-4000_0_vtk",
           0.5089441861635725,
           54
          ]
         ],
         "hovertemplate": "Cells: %{x}<br>Entropy number: %{y}<br>Snap Idx: %{customdata[2]:03d}<br>Mapped: %{customdata[0]}<br>Rel Error: %{customdata[1]:.3f}%<extra></extra>",
         "line": {
          "color": "rgb(189, 241, 55)"
         },
         "mode": "markers+lines",
         "name": "054",
         "opacity": 0.4,
         "type": "scatter",
         "x": {
          "bdata": "ECcAAACgAACAOAEAkFgBAADECQAAIE4A",
          "dtype": "i4"
         },
         "y": {
          "bdata": "8huF1enw8j+vAlV2jFTzP/aJM/j6dPM/PoQ6A3jW8z+ylb5qvMPzP2fJJrxQ8PM/",
          "dtype": "f8"
         }
        },
        {
         "customdata": [
          [
           "s200_200_200_b0_4000_0_5000_-4000_0",
           -2.891255211152247,
           55
          ],
          [
           "s125_125_125_b0_4000_0_5000_-4000_0",
           -1.6145806820826138,
           55
          ],
          [
           "s100_100_100_b0_4000_0_5000_-4000_0_vtk",
           -1.1370742929615565,
           55
          ],
          [
           "Original Comsol Mesh",
           0,
           55
          ],
          [
           "s50_50_50_b0_4000_0_5000_-4000_0",
           -0.10881631138829771,
           55
          ],
          [
           "s25_25_25_b0_4000_0_5000_-4000_0_vtk",
           0.4683613075728053,
           55
          ]
         ],
         "hovertemplate": "Cells: %{x}<br>Entropy number: %{y}<br>Snap Idx: %{customdata[2]:03d}<br>Mapped: %{customdata[0]}<br>Rel Error: %{customdata[1]:.3f}%<extra></extra>",
         "line": {
          "color": "rgb(196, 238, 54)"
         },
         "mode": "markers+lines",
         "name": "055",
         "opacity": 0.4,
         "type": "scatter",
         "x": {
          "bdata": "ECcAAACgAACAOAEA5XkBAADECQAAIE4A",
          "dtype": "i4"
         },
         "y": {
          "bdata": "woVLu5AT8j+lo749Z1DyPzWmo3koZ/I/9UVg9led8j9k/1Z7KJjyP7jXCaKps/I/",
          "dtype": "f8"
         }
        },
        {
         "customdata": [
          [
           "s200_200_200_b0_4000_0_5000_-4000_0",
           -4.181119259346079,
           56
          ],
          [
           "s125_125_125_b0_4000_0_5000_-4000_0",
           -2.4857360412881313,
           56
          ],
          [
           "s100_100_100_b0_4000_0_5000_-4000_0_vtk",
           -1.8225039457321024,
           56
          ],
          [
           "Original Comsol Mesh",
           0,
           56
          ],
          [
           "s50_50_50_b0_4000_0_5000_-4000_0",
           -0.3585318766574024,
           56
          ],
          [
           "s25_25_25_b0_4000_0_5000_-4000_0_vtk",
           0.47131337338605145,
           56
          ]
         ],
         "hovertemplate": "Cells: %{x}<br>Entropy number: %{y}<br>Snap Idx: %{customdata[2]:03d}<br>Mapped: %{customdata[0]}<br>Rel Error: %{customdata[1]:.3f}%<extra></extra>",
         "line": {
          "color": "rgb(202, 235, 53)"
         },
         "mode": "markers+lines",
         "name": "056",
         "opacity": 0.4,
         "type": "scatter",
         "x": {
          "bdata": "ECcAAACgAACAOAEAZl8BAADECQAAIE4A",
          "dtype": "i4"
         },
         "y": {
          "bdata": "wXKMaS7b8j9EzOR0lzDzP4xs2gkBUvM/4D8NidGt8z91sK6dwZvzP4qvFvqPxfM/",
          "dtype": "f8"
         }
        },
        {
         "customdata": [
          [
           "s200_200_200_b0_4000_0_5000_-4000_0",
           -2.877169495084747,
           57
          ],
          [
           "s125_125_125_b0_4000_0_5000_-4000_0",
           -1.6306804589991448,
           57
          ],
          [
           "s100_100_100_b0_4000_0_5000_-4000_0_vtk",
           -1.1771788305219892,
           57
          ],
          [
           "Original Comsol Mesh",
           0,
           57
          ],
          [
           "s50_50_50_b0_4000_0_5000_-4000_0",
           -0.1007480374531791,
           57
          ],
          [
           "s25_25_25_b0_4000_0_5000_-4000_0_vtk",
           0.5073219010724412,
           57
          ]
         ],
         "hovertemplate": "Cells: %{x}<br>Entropy number: %{y}<br>Snap Idx: %{customdata[2]:03d}<br>Mapped: %{customdata[0]}<br>Rel Error: %{customdata[1]:.3f}%<extra></extra>",
         "line": {
          "color": "rgb(208, 232, 52)"
         },
         "mode": "markers+lines",
         "name": "057",
         "opacity": 0.4,
         "type": "scatter",
         "x": {
          "bdata": "ECcAAACgAACAOAEAnWYBAADECQAAIE4A",
          "dtype": "i4"
         },
         "y": {
          "bdata": "cDTzQvWa8T8L9mMQzdTxP1kKcXzY6fE/qWsT6Xgg8j9ZkioQzBvyP7OEQrIDOPI/",
          "dtype": "f8"
         }
        },
        {
         "customdata": [
          [
           "s200_200_200_b0_4000_0_5000_-4000_0",
           -4.71263941912938,
           58
          ],
          [
           "s125_125_125_b0_4000_0_5000_-4000_0",
           -2.6986222686269956,
           58
          ],
          [
           "s100_100_100_b0_4000_0_5000_-4000_0_vtk",
           -1.9422582076733248,
           58
          ],
          [
           "Original Comsol Mesh",
           0,
           58
          ],
          [
           "s50_50_50_b0_4000_0_5000_-4000_0",
           -0.3807470422012251,
           58
          ],
          [
           "s25_25_25_b0_4000_0_5000_-4000_0_vtk",
           0.5141196936370112,
           58
          ]
         ],
         "hovertemplate": "Cells: %{x}<br>Entropy number: %{y}<br>Snap Idx: %{customdata[2]:03d}<br>Mapped: %{customdata[0]}<br>Rel Error: %{customdata[1]:.3f}%<extra></extra>",
         "line": {
          "color": "rgb(213, 228, 53)"
         },
         "mode": "markers+lines",
         "name": "058",
         "opacity": 0.4,
         "type": "scatter",
         "x": {
          "bdata": "ECcAAACgAACAOAEAZVgBAADECQAAIE4A",
          "dtype": "i4"
         },
         "y": {
          "bdata": "pHAWli7z8j8T6t6+t1nzP0qHx505gPM/0HxChhvj8z8oaJ8ouc/zP7pN2CpI/fM/",
          "dtype": "f8"
         }
        },
        {
         "customdata": [
          [
           "s200_200_200_b0_4000_0_5000_-4000_0",
           -3.779976363828139,
           59
          ],
          [
           "s125_125_125_b0_4000_0_5000_-4000_0",
           -2.147905620761683,
           59
          ],
          [
           "s100_100_100_b0_4000_0_5000_-4000_0_vtk",
           -1.5666243837891332,
           59
          ],
          [
           "Original Comsol Mesh",
           0,
           59
          ],
          [
           "s50_50_50_b0_4000_0_5000_-4000_0",
           -0.23743063515796206,
           59
          ],
          [
           "s25_25_25_b0_4000_0_5000_-4000_0_vtk",
           0.5094198979777382,
           59
          ]
         ],
         "hovertemplate": "Cells: %{x}<br>Entropy number: %{y}<br>Snap Idx: %{customdata[2]:03d}<br>Mapped: %{customdata[0]}<br>Rel Error: %{customdata[1]:.3f}%<extra></extra>",
         "line": {
          "color": "rgb(218, 223, 54)"
         },
         "mode": "markers+lines",
         "name": "059",
         "opacity": 0.4,
         "type": "scatter",
         "x": {
          "bdata": "ECcAAACgAACAOAEAG2cBAADECQAAIE4A",
          "dtype": "i4"
         },
         "y": {
          "bdata": "9OM/WH6h8j8NvzydZPLyP0qPI9I0D/M/uZO8mtxc8z9ab3S2F1HzP3hOAOwcdvM/",
          "dtype": "f8"
         }
        },
        {
         "customdata": [
          [
           "s200_200_200_b0_4000_0_5000_-4000_0",
           -2.423015708771572,
           60
          ],
          [
           "s125_125_125_b0_4000_0_5000_-4000_0",
           -1.3527251730130685,
           60
          ],
          [
           "s100_100_100_b0_4000_0_5000_-4000_0_vtk",
           -0.957357807097022,
           60
          ],
          [
           "Original Comsol Mesh",
           0,
           60
          ],
          [
           "s50_50_50_b0_4000_0_5000_-4000_0",
           -0.06718569971771257,
           60
          ],
          [
           "s25_25_25_b0_4000_0_5000_-4000_0_vtk",
           0.43283014034237766,
           60
          ]
         ],
         "hovertemplate": "Cells: %{x}<br>Entropy number: %{y}<br>Snap Idx: %{customdata[2]:03d}<br>Mapped: %{customdata[0]}<br>Rel Error: %{customdata[1]:.3f}%<extra></extra>",
         "line": {
          "color": "rgb(223, 218, 54)"
         },
         "mode": "markers+lines",
         "name": "060",
         "opacity": 0.4,
         "type": "scatter",
         "x": {
          "bdata": "ECcAAACgAACAOAEAP3EBAADECQAAIE4A",
          "dtype": "i4"
         },
         "y": {
          "bdata": "nwaKFT1Y8T9xq0Yx8YjxP5apfO/umvE/ejygdX/G8T+swnjLcMPxP8u5250x2vE/",
          "dtype": "f8"
         }
        },
        {
         "customdata": [
          [
           "s200_200_200_b0_4000_0_5000_-4000_0",
           -4.729399187144662,
           61
          ],
          [
           "s125_125_125_b0_4000_0_5000_-4000_0",
           -2.7200013455897816,
           61
          ],
          [
           "s100_100_100_b0_4000_0_5000_-4000_0_vtk",
           -2.026373469861733,
           61
          ],
          [
           "Original Comsol Mesh",
           0,
           61
          ],
          [
           "s50_50_50_b0_4000_0_5000_-4000_0",
           -0.4895281356440624,
           61
          ],
          [
           "s25_25_25_b0_4000_0_5000_-4000_0_vtk",
           0.3615269820897281,
           61
          ]
         ],
         "hovertemplate": "Cells: %{x}<br>Entropy number: %{y}<br>Snap Idx: %{customdata[2]:03d}<br>Mapped: %{customdata[0]}<br>Rel Error: %{customdata[1]:.3f}%<extra></extra>",
         "line": {
          "color": "rgb(227, 214, 55)"
         },
         "mode": "markers+lines",
         "name": "061",
         "opacity": 0.4,
         "type": "scatter",
         "x": {
          "bdata": "ECcAAACgAACAOAEAj18BAADECQAAIE4A",
          "dtype": "i4"
         },
         "y": {
          "bdata": "WL5nGCcC9D+qGdu9L270P0xmlpd6k/Q/03uQ4mwA9T/MWxAxG+b0P3o7wdDcE/U/",
          "dtype": "f8"
         }
        },
        {
         "customdata": [
          [
           "s200_200_200_b0_4000_0_5000_-4000_0",
           -4.2458720822826175,
           62
          ],
          [
           "s125_125_125_b0_4000_0_5000_-4000_0",
           -2.385651732259598,
           62
          ],
          [
           "s100_100_100_b0_4000_0_5000_-4000_0_vtk",
           -1.765110149634324,
           62
          ],
          [
           "Original Comsol Mesh",
           0,
           62
          ],
          [
           "s50_50_50_b0_4000_0_5000_-4000_0",
           -0.3421599596515032,
           62
          ],
          [
           "s25_25_25_b0_4000_0_5000_-4000_0_vtk",
           0.4640008415932396,
           62
          ]
         ],
         "hovertemplate": "Cells: %{x}<br>Entropy number: %{y}<br>Snap Idx: %{customdata[2]:03d}<br>Mapped: %{customdata[0]}<br>Rel Error: %{customdata[1]:.3f}%<extra></extra>",
         "line": {
          "color": "rgb(232, 209, 56)"
         },
         "mode": "markers+lines",
         "name": "062",
         "opacity": 0.4,
         "type": "scatter",
         "x": {
          "bdata": "ECcAAACgAACAOAEAKmEBAADECQAAIE4A",
          "dtype": "i4"
         },
         "y": {
          "bdata": "MlkrlG/A8j+BMf60sR3zP3tX/cHNPPM/9LMUPUuV8z+t+FPyI4TzP9CCjD2OrPM/",
          "dtype": "f8"
         }
        },
        {
         "customdata": [
          [
           "s200_200_200_b0_4000_0_5000_-4000_0",
           -4.119503501273992,
           63
          ],
          [
           "s125_125_125_b0_4000_0_5000_-4000_0",
           -2.3811985578882955,
           63
          ],
          [
           "s100_100_100_b0_4000_0_5000_-4000_0_vtk",
           -1.7130965034237036,
           63
          ],
          [
           "Original Comsol Mesh",
           0,
           63
          ],
          [
           "s50_50_50_b0_4000_0_5000_-4000_0",
           -0.32647763640691385,
           63
          ],
          [
           "s25_25_25_b0_4000_0_5000_-4000_0_vtk",
           0.4572407602542218,
           63
          ]
         ],
         "hovertemplate": "Cells: %{x}<br>Entropy number: %{y}<br>Snap Idx: %{customdata[2]:03d}<br>Mapped: %{customdata[0]}<br>Rel Error: %{customdata[1]:.3f}%<extra></extra>",
         "line": {
          "color": "rgb(237, 204, 57)"
         },
         "mode": "markers+lines",
         "name": "063",
         "opacity": 0.4,
         "type": "scatter",
         "x": {
          "bdata": "ECcAAACgAACAOAEA/2EBAADECQAAIE4A",
          "dtype": "i4"
         },
         "y": {
          "bdata": "hagebZK18j+/+w0QaAzzPyOJbtPHLfM/7DATGFuD8z8ktdIPDHPzP6bG8FYymvM/",
          "dtype": "f8"
         }
        },
        {
         "customdata": [
          [
           "s200_200_200_b0_4000_0_5000_-4000_0",
           -2.6189247262478266,
           64
          ],
          [
           "s125_125_125_b0_4000_0_5000_-4000_0",
           -1.442608381672442,
           64
          ],
          [
           "s100_100_100_b0_4000_0_5000_-4000_0_vtk",
           -1.0175235891377266,
           64
          ],
          [
           "Original Comsol Mesh",
           0,
           64
          ],
          [
           "s50_50_50_b0_4000_0_5000_-4000_0",
           -0.09303684482211247,
           64
          ],
          [
           "s25_25_25_b0_4000_0_5000_-4000_0_vtk",
           0.4164367454877819,
           64
          ]
         ],
         "hovertemplate": "Cells: %{x}<br>Entropy number: %{y}<br>Snap Idx: %{customdata[2]:03d}<br>Mapped: %{customdata[0]}<br>Rel Error: %{customdata[1]:.3f}%<extra></extra>",
         "line": {
          "color": "rgb(242, 199, 58)"
         },
         "mode": "markers+lines",
         "name": "064",
         "opacity": 0.4,
         "type": "scatter",
         "x": {
          "bdata": "ECcAAACgAACAOAEASYIBAADECQAAIE4A",
          "dtype": "i4"
         },
         "y": {
          "bdata": "fZZLf4Lh8T/V+drJzRjyP6XXDRTJLPI/hWBnhp1c8j+PT4r1PVjyP7pAeL8wcPI/",
          "dtype": "f8"
         }
        },
        {
         "customdata": [
          [
           "s200_200_200_b0_4000_0_5000_-4000_0",
           -2.4650672038993307,
           65
          ],
          [
           "s125_125_125_b0_4000_0_5000_-4000_0",
           -1.5982197690683309,
           65
          ],
          [
           "s100_100_100_b0_4000_0_5000_-4000_0_vtk",
           -1.2143095481938198,
           65
          ],
          [
           "Original Comsol Mesh",
           0,
           65
          ],
          [
           "s50_50_50_b0_4000_0_5000_-4000_0",
           -0.10016906300949022,
           65
          ],
          [
           "s25_25_25_b0_4000_0_5000_-4000_0_vtk",
           0.5181475727993545,
           65
          ]
         ],
         "hovertemplate": "Cells: %{x}<br>Entropy number: %{y}<br>Snap Idx: %{customdata[2]:03d}<br>Mapped: %{customdata[0]}<br>Rel Error: %{customdata[1]:.3f}%<extra></extra>",
         "line": {
          "color": "rgb(244, 194, 57)"
         },
         "mode": "markers+lines",
         "name": "065",
         "opacity": 0.4,
         "type": "scatter",
         "x": {
          "bdata": "ECcAAACgAACAOAEAUFIBAADECQAAIE4A",
          "dtype": "i4"
         },
         "y": {
          "bdata": "6NoT8chL8T/dNr0aI3PxP+wGYMKQhPE/95S8/bC78T8kwondJLfxP2B9O7M20/E/",
          "dtype": "f8"
         }
        },
        {
         "customdata": [
          [
           "s200_200_200_b0_4000_0_5000_-4000_0",
           -3.6189160075865203,
           66
          ],
          [
           "s125_125_125_b0_4000_0_5000_-4000_0",
           -2.336025582803571,
           66
          ],
          [
           "s100_100_100_b0_4000_0_5000_-4000_0_vtk",
           -1.7258191198087902,
           66
          ],
          [
           "Original Comsol Mesh",
           0,
           66
          ],
          [
           "s50_50_50_b0_4000_0_5000_-4000_0",
           -0.3021788118872275,
           66
          ],
          [
           "s25_25_25_b0_4000_0_5000_-4000_0_vtk",
           0.5394859471783373,
           66
          ]
         ],
         "hovertemplate": "Cells: %{x}<br>Entropy number: %{y}<br>Snap Idx: %{customdata[2]:03d}<br>Mapped: %{customdata[0]}<br>Rel Error: %{customdata[1]:.3f}%<extra></extra>",
         "line": {
          "color": "rgb(246, 188, 55)"
         },
         "mode": "markers+lines",
         "name": "066",
         "opacity": 0.4,
         "type": "scatter",
         "x": {
          "bdata": "ECcAAACgAACAOAEAX1MBAADECQAAIE4A",
          "dtype": "i4"
         },
         "y": {
          "bdata": "FGcG9JoO8j9KylGMIkzyP+VhK8pmafI/K25MwSy88j92mXiKrq3yP7G97awM1vI/",
          "dtype": "f8"
         }
        },
        {
         "customdata": [
          [
           "s200_200_200_b0_4000_0_5000_-4000_0",
           -3.2005485752937455,
           67
          ],
          [
           "s125_125_125_b0_4000_0_5000_-4000_0",
           -1.7793366757585212,
           67
          ],
          [
           "s100_100_100_b0_4000_0_5000_-4000_0_vtk",
           -1.2822324503165727,
           67
          ],
          [
           "Original Comsol Mesh",
           0,
           67
          ],
          [
           "s50_50_50_b0_4000_0_5000_-4000_0",
           -0.25100114126080786,
           67
          ],
          [
           "s25_25_25_b0_4000_0_5000_-4000_0_vtk",
           0.30543130499062915,
           67
          ]
         ],
         "hovertemplate": "Cells: %{x}<br>Entropy number: %{y}<br>Snap Idx: %{customdata[2]:03d}<br>Mapped: %{customdata[0]}<br>Rel Error: %{customdata[1]:.3f}%<extra></extra>",
         "line": {
          "color": "rgb(247, 182, 53)"
         },
         "mode": "markers+lines",
         "name": "067",
         "opacity": 0.4,
         "type": "scatter",
         "x": {
          "bdata": "ECcAAACgAACAOAEAsYwBAADECQAAIE4A",
          "dtype": "i4"
         },
         "y": {
          "bdata": "/C07ITgm9D+YkLXN83H0P1/e9h9xjPQ/ptjG48TQ9D/n5f/RZMP0P+zm83kL4fQ/",
          "dtype": "f8"
         }
        },
        {
         "customdata": [
          [
           "s200_200_200_b0_4000_0_5000_-4000_0",
           -4.555116328453858,
           68
          ],
          [
           "s125_125_125_b0_4000_0_5000_-4000_0",
           -2.7187825877118628,
           68
          ],
          [
           "s100_100_100_b0_4000_0_5000_-4000_0_vtk",
           -2.0388165737867716,
           68
          ],
          [
           "Original Comsol Mesh",
           0,
           68
          ],
          [
           "s50_50_50_b0_4000_0_5000_-4000_0",
           -0.41667498167129263,
           68
          ],
          [
           "s25_25_25_b0_4000_0_5000_-4000_0_vtk",
           0.5119627535431269,
           68
          ]
         ],
         "hovertemplate": "Cells: %{x}<br>Entropy number: %{y}<br>Snap Idx: %{customdata[2]:03d}<br>Mapped: %{customdata[0]}<br>Rel Error: %{customdata[1]:.3f}%<extra></extra>",
         "line": {
          "color": "rgb(249, 176, 51)"
         },
         "mode": "markers+lines",
         "name": "068",
         "opacity": 0.4,
         "type": "scatter",
         "x": {
          "bdata": "ECcAAACgAACAOAEAmVgBAADECQAAIE4A",
          "dtype": "i4"
         },
         "y": {
          "bdata": "qK6PUu8T8z+pAimD5nHzP6d6CsexlPM/IXL9ZwX98z9wrTQks+fzP56xdOY3F/Q/",
          "dtype": "f8"
         }
        },
        {
         "customdata": [
          [
           "s200_200_200_b0_4000_0_5000_-4000_0",
           -2.5718987500718034,
           69
          ],
          [
           "s125_125_125_b0_4000_0_5000_-4000_0",
           -1.428740312052599,
           69
          ],
          [
           "s100_100_100_b0_4000_0_5000_-4000_0_vtk",
           -1.0043171572239724,
           69
          ],
          [
           "Original Comsol Mesh",
           0,
           69
          ],
          [
           "s50_50_50_b0_4000_0_5000_-4000_0",
           -0.08866138363580393,
           69
          ],
          [
           "s25_25_25_b0_4000_0_5000_-4000_0_vtk",
           0.4113374324022122,
           69
          ]
         ],
         "hovertemplate": "Cells: %{x}<br>Entropy number: %{y}<br>Snap Idx: %{customdata[2]:03d}<br>Mapped: %{customdata[0]}<br>Rel Error: %{customdata[1]:.3f}%<extra></extra>",
         "line": {
          "color": "rgb(250, 170, 49)"
         },
         "mode": "markers+lines",
         "name": "069",
         "opacity": 0.4,
         "type": "scatter",
         "x": {
          "bdata": "ECcAAACgAACAOAEASYABAADECQAAIE4A",
          "dtype": "i4"
         },
         "y": {
          "bdata": "MgaOWjHa8T9sv80E0Q/yP9Skvbi5I/I/+0z/GtZS8j8wJF5prU7yP0mm+6ohZvI/",
          "dtype": "f8"
         }
        },
        {
         "customdata": [
          [
           "s200_200_200_b0_4000_0_5000_-4000_0",
           -2.7859544748352385,
           70
          ],
          [
           "s125_125_125_b0_4000_0_5000_-4000_0",
           -1.5001313418713613,
           70
          ],
          [
           "s100_100_100_b0_4000_0_5000_-4000_0_vtk",
           -1.0810450289493476,
           70
          ],
          [
           "Original Comsol Mesh",
           0,
           70
          ],
          [
           "s50_50_50_b0_4000_0_5000_-4000_0",
           -0.08710178838397792,
           70
          ],
          [
           "s25_25_25_b0_4000_0_5000_-4000_0_vtk",
           0.45108553875485474,
           70
          ]
         ],
         "hovertemplate": "Cells: %{x}<br>Entropy number: %{y}<br>Snap Idx: %{customdata[2]:03d}<br>Mapped: %{customdata[0]}<br>Rel Error: %{customdata[1]:.3f}%<extra></extra>",
         "line": {
          "color": "rgb(252, 164, 48)"
         },
         "mode": "markers+lines",
         "name": "070",
         "opacity": 0.4,
         "type": "scatter",
         "x": {
          "bdata": "ECcAAACgAACAOAEAAYABAADECQAAIE4A",
          "dtype": "i4"
         },
         "y": {
          "bdata": "8IlWUcr+8T/wH/gYuTvyP2FW7i6VT/I/mh0Pus+C8j+WaVoQr37yP7n9sQEwmPI/",
          "dtype": "f8"
         }
        },
        {
         "customdata": [
          [
           "s200_200_200_b0_4000_0_5000_-4000_0",
           -2.782446352823168,
           71
          ],
          [
           "s125_125_125_b0_4000_0_5000_-4000_0",
           -1.7296033012637102,
           71
          ],
          [
           "s100_100_100_b0_4000_0_5000_-4000_0_vtk",
           -1.1942692105059816,
           71
          ],
          [
           "Original Comsol Mesh",
           0,
           71
          ],
          [
           "s50_50_50_b0_4000_0_5000_-4000_0",
           -0.14945412689288923,
           71
          ],
          [
           "s25_25_25_b0_4000_0_5000_-4000_0_vtk",
           0.47483311924350224,
           71
          ]
         ],
         "hovertemplate": "Cells: %{x}<br>Entropy number: %{y}<br>Snap Idx: %{customdata[2]:03d}<br>Mapped: %{customdata[0]}<br>Rel Error: %{customdata[1]:.3f}%<extra></extra>",
         "line": {
          "color": "rgb(253, 158, 46)"
         },
         "mode": "markers+lines",
         "name": "071",
         "opacity": 0.4,
         "type": "scatter",
         "x": {
          "bdata": "ECcAAACgAACAOAEA+VgBAADECQAAIE4A",
          "dtype": "i4"
         },
         "y": {
          "bdata": "tyvJa1818T/kmR72FGXxP0lJQR9XffE/RDkASHWz8T8m3qOIr6zxPwnzMpn5yPE/",
          "dtype": "f8"
         }
        },
        {
         "customdata": [
          [
           "s200_200_200_b0_4000_0_5000_-4000_0",
           -4.628825435956789,
           72
          ],
          [
           "s125_125_125_b0_4000_0_5000_-4000_0",
           -2.6568646851592894,
           72
          ],
          [
           "s100_100_100_b0_4000_0_5000_-4000_0_vtk",
           -1.9819392584997426,
           72
          ],
          [
           "Original Comsol Mesh",
           0,
           72
          ],
          [
           "s50_50_50_b0_4000_0_5000_-4000_0",
           -0.41069428432685556,
           72
          ],
          [
           "s25_25_25_b0_4000_0_5000_-4000_0_vtk",
           0.4767570015863259,
           72
          ]
         ],
         "hovertemplate": "Cells: %{x}<br>Entropy number: %{y}<br>Snap Idx: %{customdata[2]:03d}<br>Mapped: %{customdata[0]}<br>Rel Error: %{customdata[1]:.3f}%<extra></extra>",
         "line": {
          "color": "rgb(253, 151, 43)"
         },
         "mode": "markers+lines",
         "name": "072",
         "opacity": 0.4,
         "type": "scatter",
         "x": {
          "bdata": "ECcAAACgAACAOAEAPlsBAADECQAAIE4A",
          "dtype": "i4"
         },
         "y": {
          "bdata": "/x+nxS7x8j/Ln5qhclXzP7ZgmL3Dd/M/H6Pze4nc8z9u3I23p8fzP+lXribH9PM/",
          "dtype": "f8"
         }
        },
        {
         "customdata": [
          [
           "s200_200_200_b0_4000_0_5000_-4000_0",
           -2.7988352956007603,
           73
          ],
          [
           "s125_125_125_b0_4000_0_5000_-4000_0",
           -1.5844403392339235,
           73
          ],
          [
           "s100_100_100_b0_4000_0_5000_-4000_0_vtk",
           -1.1022804198263767,
           73
          ],
          [
           "Original Comsol Mesh",
           0,
           73
          ],
          [
           "s50_50_50_b0_4000_0_5000_-4000_0",
           -0.08500648956181696,
           73
          ],
          [
           "s25_25_25_b0_4000_0_5000_-4000_0_vtk",
           0.5030840671550794,
           73
          ]
         ],
         "hovertemplate": "Cells: %{x}<br>Entropy number: %{y}<br>Snap Idx: %{customdata[2]:03d}<br>Mapped: %{customdata[0]}<br>Rel Error: %{customdata[1]:.3f}%<extra></extra>",
         "line": {
          "color": "rgb(252, 143, 40)"
         },
         "mode": "markers+lines",
         "name": "073",
         "opacity": 0.4,
         "type": "scatter",
         "x": {
          "bdata": "ECcAAACgAACAOAEAyGoBAADECQAAIE4A",
          "dtype": "i4"
         },
         "y": {
          "bdata": "9GWPbCyI8T/vTFxBP8DxP2aOHKiC1vE/4IsnO2gJ8j8xrRRoewXyPxj2tveiIPI/",
          "dtype": "f8"
         }
        },
        {
         "customdata": [
          [
           "s200_200_200_b0_4000_0_5000_-4000_0",
           -2.8389680421236942,
           74
          ],
          [
           "s125_125_125_b0_4000_0_5000_-4000_0",
           -1.5587134124053046,
           74
          ],
          [
           "s100_100_100_b0_4000_0_5000_-4000_0_vtk",
           -1.104865845250333,
           74
          ],
          [
           "Original Comsol Mesh",
           0,
           74
          ],
          [
           "s50_50_50_b0_4000_0_5000_-4000_0",
           -0.12011160362015527,
           74
          ],
          [
           "s25_25_25_b0_4000_0_5000_-4000_0_vtk",
           0.4442697784697927,
           74
          ]
         ],
         "hovertemplate": "Cells: %{x}<br>Entropy number: %{y}<br>Snap Idx: %{customdata[2]:03d}<br>Mapped: %{customdata[0]}<br>Rel Error: %{customdata[1]:.3f}%<extra></extra>",
         "line": {
          "color": "rgb(250, 135, 36)"
         },
         "mode": "markers+lines",
         "name": "074",
         "opacity": 0.4,
         "type": "scatter",
         "x": {
          "bdata": "ECcAAACgAACAOAEAk3YBAADECQAAIE4A",
          "dtype": "i4"
         },
         "y": {
          "bdata": "ipLrctAo8j87nsPnEWbyP6p51fLIe/I/E+HDHqaw8j8oX7bo5qryP1f6EtnnxfI/",
          "dtype": "f8"
         }
        },
        {
         "customdata": [
          [
           "s200_200_200_b0_4000_0_5000_-4000_0",
           -2.214960032701819,
           75
          ],
          [
           "s125_125_125_b0_4000_0_5000_-4000_0",
           -1.2031810694807155,
           75
          ],
          [
           "s100_100_100_b0_4000_0_5000_-4000_0_vtk",
           -0.8353519178478966,
           75
          ],
          [
           "Original Comsol Mesh",
           0,
           75
          ],
          [
           "s50_50_50_b0_4000_0_5000_-4000_0",
           -0.042557535089255735,
           75
          ],
          [
           "s25_25_25_b0_4000_0_5000_-4000_0_vtk",
           0.38818657986169613,
           75
          ]
         ],
         "hovertemplate": "Cells: %{x}<br>Entropy number: %{y}<br>Snap Idx: %{customdata[2]:03d}<br>Mapped: %{customdata[0]}<br>Rel Error: %{customdata[1]:.3f}%<extra></extra>",
         "line": {
          "color": "rgb(248, 127, 33)"
         },
         "mode": "markers+lines",
         "name": "075",
         "opacity": 0.4,
         "type": "scatter",
         "x": {
          "bdata": "ECcAAACgAACAOAEAcYwBAADECQAAIE4A",
          "dtype": "i4"
         },
         "y": {
          "bdata": "K0j1ZPaZ8T/+4v3llcjxPwhwsgOJ2fE/UDyaSQcA8j9LIVtBEf7xPw3wD43qEfI/",
          "dtype": "f8"
         }
        },
        {
         "customdata": [
          [
           "s200_200_200_b0_4000_0_5000_-4000_0",
           -3.4188430890229533,
           76
          ],
          [
           "s125_125_125_b0_4000_0_5000_-4000_0",
           -2.155648128668845,
           76
          ],
          [
           "s100_100_100_b0_4000_0_5000_-4000_0_vtk",
           -1.65612546122405,
           76
          ],
          [
           "Original Comsol Mesh",
           0,
           76
          ],
          [
           "s50_50_50_b0_4000_0_5000_-4000_0",
           -0.36254766158783086,
           76
          ],
          [
           "s25_25_25_b0_4000_0_5000_-4000_0_vtk",
           0.48776525080004113,
           76
          ]
         ],
         "hovertemplate": "Cells: %{x}<br>Entropy number: %{y}<br>Snap Idx: %{customdata[2]:03d}<br>Mapped: %{customdata[0]}<br>Rel Error: %{customdata[1]:.3f}%<extra></extra>",
         "line": {
          "color": "rgb(247, 119, 30)"
         },
         "mode": "markers+lines",
         "name": "076",
         "opacity": 0.4,
         "type": "scatter",
         "x": {
          "bdata": "ECcAAACgAACAOAEAmlIBAADECQAAIE4A",
          "dtype": "i4"
         },
         "y": {
          "bdata": "/HufDSxo8z8xSe+8JqnzP3UUWtLYwvM/UQ7e5wkY9D90zjScYwX0P13qtighMfQ/",
          "dtype": "f8"
         }
        },
        {
         "customdata": [
          [
           "s200_200_200_b0_4000_0_5000_-4000_0",
           -5.55373344269293,
           77
          ],
          [
           "s125_125_125_b0_4000_0_5000_-4000_0",
           -3.0894550184162863,
           77
          ],
          [
           "s100_100_100_b0_4000_0_5000_-4000_0_vtk",
           -2.4357987282155666,
           77
          ],
          [
           "Original Comsol Mesh",
           0,
           77
          ],
          [
           "s50_50_50_b0_4000_0_5000_-4000_0",
           -0.6449267066154644,
           77
          ],
          [
           "s25_25_25_b0_4000_0_5000_-4000_0_vtk",
           0.32775700988995815,
           77
          ]
         ],
         "hovertemplate": "Cells: %{x}<br>Entropy number: %{y}<br>Snap Idx: %{customdata[2]:03d}<br>Mapped: %{customdata[0]}<br>Rel Error: %{customdata[1]:.3f}%<extra></extra>",
         "line": {
          "color": "rgb(245, 111, 26)"
         },
         "mode": "markers+lines",
         "name": "077",
         "opacity": 0.4,
         "type": "scatter",
         "x": {
          "bdata": "ECcAAACgAACAOAEA/1QBAADECQAAIE4A",
          "dtype": "i4"
         },
         "y": {
          "bdata": "m2w9gcBD9D+QMlYsHMv0P8FmZp4D7/Q/yCg90c509T+gh6MfYlH1P3OL95nPhvU/",
          "dtype": "f8"
         }
        },
        {
         "customdata": [
          [
           "s200_200_200_b0_4000_0_5000_-4000_0",
           -2.4525051170914423,
           78
          ],
          [
           "s125_125_125_b0_4000_0_5000_-4000_0",
           -1.474353825215787,
           78
          ],
          [
           "s100_100_100_b0_4000_0_5000_-4000_0_vtk",
           -1.0843803160257712,
           78
          ],
          [
           "Original Comsol Mesh",
           0,
           78
          ],
          [
           "s50_50_50_b0_4000_0_5000_-4000_0",
           -0.047076930961556775,
           78
          ],
          [
           "s25_25_25_b0_4000_0_5000_-4000_0_vtk",
           0.6048984467191739,
           78
          ]
         ],
         "hovertemplate": "Cells: %{x}<br>Entropy number: %{y}<br>Snap Idx: %{customdata[2]:03d}<br>Mapped: %{customdata[0]}<br>Rel Error: %{customdata[1]:.3f}%<extra></extra>",
         "line": {
          "color": "rgb(244, 103, 23)"
         },
         "mode": "markers+lines",
         "name": "078",
         "opacity": 0.4,
         "type": "scatter",
         "x": {
          "bdata": "ECcAAACgAACAOAEAyVMBAADECQAAIE4A",
          "dtype": "i4"
         },
         "y": {
          "bdata": "LOG2+MlI8j9zn+2quXfyP11U7SJwivI/BDBcwni+8j9Hl0p2NrzyP7Q1fWJ/2/I/",
          "dtype": "f8"
         }
        },
        {
         "customdata": [
          [
           "s200_200_200_b0_4000_0_5000_-4000_0",
           -4.6842017889776235,
           79
          ],
          [
           "s125_125_125_b0_4000_0_5000_-4000_0",
           -2.666273917083617,
           79
          ],
          [
           "s100_100_100_b0_4000_0_5000_-4000_0_vtk",
           -2.068567067493198,
           79
          ],
          [
           "Original Comsol Mesh",
           0,
           79
          ],
          [
           "s50_50_50_b0_4000_0_5000_-4000_0",
           -0.4374469920726926,
           79
          ],
          [
           "s25_25_25_b0_4000_0_5000_-4000_0_vtk",
           0.486862520469469,
           79
          ]
         ],
         "hovertemplate": "Cells: %{x}<br>Entropy number: %{y}<br>Snap Idx: %{customdata[2]:03d}<br>Mapped: %{customdata[0]}<br>Rel Error: %{customdata[1]:.3f}%<extra></extra>",
         "line": {
          "color": "rgb(241, 96, 20)"
         },
         "mode": "markers+lines",
         "name": "079",
         "opacity": 0.4,
         "type": "scatter",
         "x": {
          "bdata": "ECcAAACgAACAOAEAGlkBAADECQAAIE4A",
          "dtype": "i4"
         },
         "y": {
          "bdata": "EIr2iE8H8z92me/ocG7zP9fe7fP8jPM/h3ls3LT28z8JnTOQWeDzP5OwrK6WD/Q/",
          "dtype": "f8"
         }
        },
        {
         "customdata": [
          [
           "s200_200_200_b0_4000_0_5000_-4000_0",
           -2.527973773531707,
           80
          ],
          [
           "s125_125_125_b0_4000_0_5000_-4000_0",
           -1.325188396169325,
           80
          ],
          [
           "s100_100_100_b0_4000_0_5000_-4000_0_vtk",
           -0.9351402910012719,
           80
          ],
          [
           "Original Comsol Mesh",
           0,
           80
          ],
          [
           "s50_50_50_b0_4000_0_5000_-4000_0",
           -0.05725087346023515,
           80
          ],
          [
           "s25_25_25_b0_4000_0_5000_-4000_0_vtk",
           0.4186181866766542,
           80
          ]
         ],
         "hovertemplate": "Cells: %{x}<br>Entropy number: %{y}<br>Snap Idx: %{customdata[2]:03d}<br>Mapped: %{customdata[0]}<br>Rel Error: %{customdata[1]:.3f}%<extra></extra>",
         "line": {
          "color": "rgb(238, 90, 18)"
         },
         "mode": "markers+lines",
         "name": "080",
         "opacity": 0.4,
         "type": "scatter",
         "x": {
          "bdata": "ECcAAACgAACAOAEAJIQBAADECQAAIE4A",
          "dtype": "i4"
         },
         "y": {
          "bdata": "AKHxZYjH8T8DYOOjsv/xP76pi1LpEfI/N91HGpQ98j+XiwK45zryP8MhrFAgUfI/",
          "dtype": "f8"
         }
        },
        {
         "customdata": [
          [
           "s200_200_200_b0_4000_0_5000_-4000_0",
           -3.9444719788512175,
           81
          ],
          [
           "s125_125_125_b0_4000_0_5000_-4000_0",
           -2.328597656442515,
           81
          ],
          [
           "s100_100_100_b0_4000_0_5000_-4000_0_vtk",
           -1.608010512044182,
           81
          ],
          [
           "Original Comsol Mesh",
           0,
           81
          ],
          [
           "s50_50_50_b0_4000_0_5000_-4000_0",
           -0.28962710878146286,
           81
          ],
          [
           "s25_25_25_b0_4000_0_5000_-4000_0_vtk",
           0.5078375827492662,
           81
          ]
         ],
         "hovertemplate": "Cells: %{x}<br>Entropy number: %{y}<br>Snap Idx: %{customdata[2]:03d}<br>Mapped: %{customdata[0]}<br>Rel Error: %{customdata[1]:.3f}%<extra></extra>",
         "line": {
          "color": "rgb(234, 84, 16)"
         },
         "mode": "markers+lines",
         "name": "081",
         "opacity": 0.4,
         "type": "scatter",
         "x": {
          "bdata": "ECcAAACgAACAOAEAMFUBAADECQAAIE4A",
          "dtype": "i4"
         },
         "y": {
          "bdata": "3LkXIZn88T9Fh1TdDkryPzFWo8mZbPI/o+MEBa+58j8g7dDDzKvyPw2Ivh0H0vI/",
          "dtype": "f8"
         }
        },
        {
         "customdata": [
          [
           "s200_200_200_b0_4000_0_5000_-4000_0",
           -3.9858649928521213,
           82
          ],
          [
           "s125_125_125_b0_4000_0_5000_-4000_0",
           -2.228143347092515,
           82
          ],
          [
           "s100_100_100_b0_4000_0_5000_-4000_0_vtk",
           -1.5984344881664343,
           82
          ],
          [
           "Original Comsol Mesh",
           0,
           82
          ],
          [
           "s50_50_50_b0_4000_0_5000_-4000_0",
           -0.27690421362955886,
           82
          ],
          [
           "s25_25_25_b0_4000_0_5000_-4000_0_vtk",
           0.5300283282197974,
           82
          ]
         ],
         "hovertemplate": "Cells: %{x}<br>Entropy number: %{y}<br>Snap Idx: %{customdata[2]:03d}<br>Mapped: %{customdata[0]}<br>Rel Error: %{customdata[1]:.3f}%<extra></extra>",
         "line": {
          "color": "rgb(231, 78, 14)"
         },
         "mode": "markers+lines",
         "name": "082",
         "opacity": 0.4,
         "type": "scatter",
         "x": {
          "bdata": "ECcAAACgAACAOAEASlQBAADECQAAIE4A",
          "dtype": "i4"
         },
         "y": {
          "bdata": "9eyfGv348T9C7OfyN03yP0D3e+Zka/I/Wk/CsP238j98aNXEuKryP/kGtM9j0fI/",
          "dtype": "f8"
         }
        },
        {
         "customdata": [
          [
           "s200_200_200_b0_4000_0_5000_-4000_0",
           -2.880009457209887,
           83
          ],
          [
           "s125_125_125_b0_4000_0_5000_-4000_0",
           -1.622718133702861,
           83
          ],
          [
           "s100_100_100_b0_4000_0_5000_-4000_0_vtk",
           -1.1579607569181107,
           83
          ],
          [
           "Original Comsol Mesh",
           0,
           83
          ],
          [
           "s50_50_50_b0_4000_0_5000_-4000_0",
           -0.12756774377311372,
           83
          ],
          [
           "s25_25_25_b0_4000_0_5000_-4000_0_vtk",
           0.4605510630566284,
           83
          ]
         ],
         "hovertemplate": "Cells: %{x}<br>Entropy number: %{y}<br>Snap Idx: %{customdata[2]:03d}<br>Mapped: %{customdata[0]}<br>Rel Error: %{customdata[1]:.3f}%<extra></extra>",
         "line": {
          "color": "rgb(227, 72, 12)"
         },
         "mode": "markers+lines",
         "name": "083",
         "opacity": 0.4,
         "type": "scatter",
         "x": {
          "bdata": "ECcAAACgAACAOAEAJmgBAADECQAAIE4A",
          "dtype": "i4"
         },
         "y": {
          "bdata": "CvuGmpqM8T9AeD+Zw8bxP87UtE9D3PE//JyXBdQR8j843mpZ7QvyP+YuQ+whJ/I/",
          "dtype": "f8"
         }
        },
        {
         "customdata": [
          [
           "s200_200_200_b0_4000_0_5000_-4000_0",
           -2.835219567527295,
           84
          ],
          [
           "s125_125_125_b0_4000_0_5000_-4000_0",
           -1.5149586764477172,
           84
          ],
          [
           "s100_100_100_b0_4000_0_5000_-4000_0_vtk",
           -1.0731580492532748,
           84
          ],
          [
           "Original Comsol Mesh",
           0,
           84
          ],
          [
           "s50_50_50_b0_4000_0_5000_-4000_0",
           -0.08855127387633874,
           84
          ],
          [
           "s25_25_25_b0_4000_0_5000_-4000_0_vtk",
           0.4639676119913119,
           84
          ]
         ],
         "hovertemplate": "Cells: %{x}<br>Entropy number: %{y}<br>Snap Idx: %{customdata[2]:03d}<br>Mapped: %{customdata[0]}<br>Rel Error: %{customdata[1]:.3f}%<extra></extra>",
         "line": {
          "color": "rgb(223, 66, 10)"
         },
         "mode": "markers+lines",
         "name": "084",
         "opacity": 0.4,
         "type": "scatter",
         "x": {
          "bdata": "ECcAAACgAACAOAEAl3sBAADECQAAIE4A",
          "dtype": "i4"
         },
         "y": {
          "bdata": "qObEFEAE8j/Te0jA60LyPwt/IXfkV/I/jrcsXtWK8j9UR11NoYbyP05C9XPboPI/",
          "dtype": "f8"
         }
        },
        {
         "customdata": [
          [
           "s200_200_200_b0_4000_0_5000_-4000_0",
           -2.8725833915666263,
           85
          ],
          [
           "s125_125_125_b0_4000_0_5000_-4000_0",
           -1.5735514530137698,
           85
          ],
          [
           "s100_100_100_b0_4000_0_5000_-4000_0_vtk",
           -1.1205243683729345,
           85
          ],
          [
           "Original Comsol Mesh",
           0,
           85
          ],
          [
           "s50_50_50_b0_4000_0_5000_-4000_0",
           -0.13092298373937472,
           85
          ],
          [
           "s25_25_25_b0_4000_0_5000_-4000_0_vtk",
           0.43171958938699473,
           85
          ]
         ],
         "hovertemplate": "Cells: %{x}<br>Entropy number: %{y}<br>Snap Idx: %{customdata[2]:03d}<br>Mapped: %{customdata[0]}<br>Rel Error: %{customdata[1]:.3f}%<extra></extra>",
         "line": {
          "color": "rgb(220, 60, 7)"
         },
         "mode": "markers+lines",
         "name": "085",
         "opacity": 0.4,
         "type": "scatter",
         "x": {
          "bdata": "ECcAAACgAACAOAEAv3YBAADECQAAIE4A",
          "dtype": "i4"
         },
         "y": {
          "bdata": "lwf2hF4y8j8fFQEyrHDyP7yLr4RmhvI/bx/BdCS88j/ZiKX33LXyP1UduCnZ0PI/",
          "dtype": "f8"
         }
        },
        {
         "customdata": [
          [
           "s200_200_200_b0_4000_0_5000_-4000_0",
           -3.0889620896530077,
           86
          ],
          [
           "s125_125_125_b0_4000_0_5000_-4000_0",
           -1.7476803389091535,
           86
          ],
          [
           "s100_100_100_b0_4000_0_5000_-4000_0_vtk",
           -1.2744022600059788,
           86
          ],
          [
           "Original Comsol Mesh",
           0,
           86
          ],
          [
           "s50_50_50_b0_4000_0_5000_-4000_0",
           -0.26221658769998274,
           86
          ],
          [
           "s25_25_25_b0_4000_0_5000_-4000_0_vtk",
           0.2652400258037709,
           86
          ]
         ],
         "hovertemplate": "Cells: %{x}<br>Entropy number: %{y}<br>Snap Idx: %{customdata[2]:03d}<br>Mapped: %{customdata[0]}<br>Rel Error: %{customdata[1]:.3f}%<extra></extra>",
         "line": {
          "color": "rgb(215, 55, 6)"
         },
         "mode": "markers+lines",
         "name": "086",
         "opacity": 0.4,
         "type": "scatter",
         "x": {
          "bdata": "ECcAAACgAACAOAEATY8BAADECQAAIE4A",
          "dtype": "i4"
         },
         "y": {
          "bdata": "V+WTX10I9D/E2FXSV0/0PxG2SVtjaPQ/yrt/yNOr9D9O2cGD8530PyFYrgLdufQ/",
          "dtype": "f8"
         }
        },
        {
         "customdata": [
          [
           "s200_200_200_b0_4000_0_5000_-4000_0",
           -3.3489657643625264,
           87
          ],
          [
           "s125_125_125_b0_4000_0_5000_-4000_0",
           -1.863383161914087,
           87
          ],
          [
           "s100_100_100_b0_4000_0_5000_-4000_0_vtk",
           -1.334063803511762,
           87
          ],
          [
           "Original Comsol Mesh",
           0,
           87
          ],
          [
           "s50_50_50_b0_4000_0_5000_-4000_0",
           -0.2272133536612696,
           87
          ],
          [
           "s25_25_25_b0_4000_0_5000_-4000_0_vtk",
           0.3749898319466412,
           87
          ]
         ],
         "hovertemplate": "Cells: %{x}<br>Entropy number: %{y}<br>Snap Idx: %{customdata[2]:03d}<br>Mapped: %{customdata[0]}<br>Rel Error: %{customdata[1]:.3f}%<extra></extra>",
         "line": {
          "color": "rgb(210, 50, 5)"
         },
         "mode": "markers+lines",
         "name": "087",
         "opacity": 0.4,
         "type": "scatter",
         "x": {
          "bdata": "ECcAAACgAACAOAEA1oIBAADECQAAIE4A",
          "dtype": "i4"
         },
         "y": {
          "bdata": "V03b2H0e8z9V5poHuWnzP8TKaCiHhPM/GRGmChbI8z92fxdvlLzzP1Hxs24T2/M/",
          "dtype": "f8"
         }
        },
        {
         "customdata": [
          [
           "s200_200_200_b0_4000_0_5000_-4000_0",
           -4.383548863394802,
           88
          ],
          [
           "s125_125_125_b0_4000_0_5000_-4000_0",
           -2.8933454725989964,
           88
          ],
          [
           "s100_100_100_b0_4000_0_5000_-4000_0_vtk",
           -2.218880755220707,
           88
          ],
          [
           "Original Comsol Mesh",
           0,
           88
          ],
          [
           "s50_50_50_b0_4000_0_5000_-4000_0",
           -0.4523386610004913,
           88
          ],
          [
           "s25_25_25_b0_4000_0_5000_-4000_0_vtk",
           0.48311387612885753,
           88
          ]
         ],
         "hovertemplate": "Cells: %{x}<br>Entropy number: %{y}<br>Snap Idx: %{customdata[2]:03d}<br>Mapped: %{customdata[0]}<br>Rel Error: %{customdata[1]:.3f}%<extra></extra>",
         "line": {
          "color": "rgb(204, 46, 4)"
         },
         "mode": "markers+lines",
         "name": "088",
         "opacity": 0.4,
         "type": "scatter",
         "x": {
          "bdata": "ECcAAACgAACAOAEA1VMBAADECQAAIE4A",
          "dtype": "i4"
         },
         "y": {
          "bdata": "tAK2ksI18z/YdSyIZ4LzPzyj1fUXpfM/uk87JTcX9D9daXZe8//zP1AXtyAQMPQ/",
          "dtype": "f8"
         }
        },
        {
         "customdata": [
          [
           "s200_200_200_b0_4000_0_5000_-4000_0",
           -2.8610029956409377,
           89
          ],
          [
           "s125_125_125_b0_4000_0_5000_-4000_0",
           -1.6016675935623064,
           89
          ],
          [
           "s100_100_100_b0_4000_0_5000_-4000_0_vtk",
           -1.1498511832975238,
           89
          ],
          [
           "Original Comsol Mesh",
           0,
           89
          ],
          [
           "s50_50_50_b0_4000_0_5000_-4000_0",
           -0.1713611256474568,
           89
          ],
          [
           "s25_25_25_b0_4000_0_5000_-4000_0_vtk",
           0.3621371582882106,
           89
          ]
         ],
         "hovertemplate": "Cells: %{x}<br>Entropy number: %{y}<br>Snap Idx: %{customdata[2]:03d}<br>Mapped: %{customdata[0]}<br>Rel Error: %{customdata[1]:.3f}%<extra></extra>",
         "line": {
          "color": "rgb(199, 42, 4)"
         },
         "mode": "markers+lines",
         "name": "089",
         "opacity": 0.4,
         "type": "scatter",
         "x": {
          "bdata": "ECcAAACgAACAOAEAVI4BAADECQAAIE4A",
          "dtype": "i4"
         },
         "y": {
          "bdata": "MuMexrLO8j/L4mIKHg3zP+kPJvuCI/M/upltCoFc8z8pgwazAlTzP3m2kRJ0bvM/",
          "dtype": "f8"
         }
        },
        {
         "customdata": [
          [
           "s200_200_200_b0_4000_0_5000_-4000_0",
           -3.034404325667689,
           90
          ],
          [
           "s125_125_125_b0_4000_0_5000_-4000_0",
           -1.5803404316795353,
           90
          ],
          [
           "s100_100_100_b0_4000_0_5000_-4000_0_vtk",
           -1.1842516132038505,
           90
          ],
          [
           "Original Comsol Mesh",
           0,
           90
          ],
          [
           "s50_50_50_b0_4000_0_5000_-4000_0",
           -0.15933113147202416,
           90
          ],
          [
           "s25_25_25_b0_4000_0_5000_-4000_0_vtk",
           0.4955006788563705,
           90
          ]
         ],
         "hovertemplate": "Cells: %{x}<br>Entropy number: %{y}<br>Snap Idx: %{customdata[2]:03d}<br>Mapped: %{customdata[0]}<br>Rel Error: %{customdata[1]:.3f}%<extra></extra>",
         "line": {
          "color": "rgb(193, 37, 3)"
         },
         "mode": "markers+lines",
         "name": "090",
         "opacity": 0.4,
         "type": "scatter",
         "x": {
          "bdata": "ECcAAACgAACAOAEAMlYBAADECQAAIE4A",
          "dtype": "i4"
         },
         "y": {
          "bdata": "PNZYhrQu8T/x7LisqnDxP5R6pXuigvE/JL2BSFu48T/C1I31ILHxP71ulpHVzvE/",
          "dtype": "f8"
         }
        },
        {
         "customdata": [
          [
           "s200_200_200_b0_4000_0_5000_-4000_0",
           -4.722139344592209,
           91
          ],
          [
           "s125_125_125_b0_4000_0_5000_-4000_0",
           -2.677378437537631,
           91
          ],
          [
           "s100_100_100_b0_4000_0_5000_-4000_0_vtk",
           -2.028711748980659,
           91
          ],
          [
           "Original Comsol Mesh",
           0,
           91
          ],
          [
           "s50_50_50_b0_4000_0_5000_-4000_0",
           -0.4266058078821616,
           91
          ],
          [
           "s25_25_25_b0_4000_0_5000_-4000_0_vtk",
           0.48951291060076063,
           91
          ]
         ],
         "hovertemplate": "Cells: %{x}<br>Entropy number: %{y}<br>Snap Idx: %{customdata[2]:03d}<br>Mapped: %{customdata[0]}<br>Rel Error: %{customdata[1]:.3f}%<extra></extra>",
         "line": {
          "color": "rgb(187, 33, 2)"
         },
         "mode": "markers+lines",
         "name": "091",
         "opacity": 0.4,
         "type": "scatter",
         "x": {
          "bdata": "ECcAAACgAACAOAEALVcBAADECQAAIE4A",
          "dtype": "i4"
         },
         "y": {
          "bdata": "VY2iMrkA8z9gthkaIGnzP6V4jcU+ivM/yxoL5tPx8z+Uc8bEC9zzPyiGPkjSCvQ/",
          "dtype": "f8"
         }
        },
        {
         "customdata": [
          [
           "s200_200_200_b0_4000_0_5000_-4000_0",
           -2.676547892906677,
           92
          ],
          [
           "s125_125_125_b0_4000_0_5000_-4000_0",
           -1.4325821739398235,
           92
          ],
          [
           "s100_100_100_b0_4000_0_5000_-4000_0_vtk",
           -1.0107411019556412,
           92
          ],
          [
           "Original Comsol Mesh",
           0,
           92
          ],
          [
           "s50_50_50_b0_4000_0_5000_-4000_0",
           -0.06853655829782992,
           92
          ],
          [
           "s25_25_25_b0_4000_0_5000_-4000_0_vtk",
           0.47232311741885297,
           92
          ]
         ],
         "hovertemplate": "Cells: %{x}<br>Entropy number: %{y}<br>Snap Idx: %{customdata[2]:03d}<br>Mapped: %{customdata[0]}<br>Rel Error: %{customdata[1]:.3f}%<extra></extra>",
         "line": {
          "color": "rgb(182, 29, 2)"
         },
         "mode": "markers+lines",
         "name": "092",
         "opacity": 0.4,
         "type": "scatter",
         "x": {
          "bdata": "ECcAAACgAACAOAEA9GwBAADECQAAIE4A",
          "dtype": "i4"
         },
         "y": {
          "bdata": "OefM7i1s8T+UQwY7MKXxP6Q/G02FuPE/kBL4Y9fm8T9TfYVQs+PxP5OkYLh8/PE/",
          "dtype": "f8"
         }
        },
        {
         "customdata": [
          [
           "s200_200_200_b0_4000_0_5000_-4000_0",
           -2.0884280957732404,
           93
          ],
          [
           "s125_125_125_b0_4000_0_5000_-4000_0",
           -1.1205757803260008,
           93
          ],
          [
           "s100_100_100_b0_4000_0_5000_-4000_0_vtk",
           -0.7608162449248181,
           93
          ],
          [
           "Original Comsol Mesh",
           0,
           93
          ],
          [
           "s50_50_50_b0_4000_0_5000_-4000_0",
           -0.023832748268447453,
           93
          ],
          [
           "s25_25_25_b0_4000_0_5000_-4000_0_vtk",
           0.39126251595635925,
           93
          ]
         ],
         "hovertemplate": "Cells: %{x}<br>Entropy number: %{y}<br>Snap Idx: %{customdata[2]:03d}<br>Mapped: %{customdata[0]}<br>Rel Error: %{customdata[1]:.3f}%<extra></extra>",
         "line": {
          "color": "rgb(176, 25, 1)"
         },
         "mode": "markers+lines",
         "name": "093",
         "opacity": 0.4,
         "type": "scatter",
         "x": {
          "bdata": "ECcAAACgAACAOAEAvHsBAADECQAAIE4A",
          "dtype": "i4"
         },
         "y": {
          "bdata": "dC/ZSLwl8T/oBYu7IFHxPweWFNhBYfE/l+FSDV6D8T9kcnmDTILxP42nibzolPE/",
          "dtype": "f8"
         }
        },
        {
         "customdata": [
          [
           "s200_200_200_b0_4000_0_5000_-4000_0",
           -4.213915031160513,
           94
          ],
          [
           "s125_125_125_b0_4000_0_5000_-4000_0",
           -2.356211683841212,
           94
          ],
          [
           "s100_100_100_b0_4000_0_5000_-4000_0_vtk",
           -1.726420376293248,
           94
          ],
          [
           "Original Comsol Mesh",
           0,
           94
          ],
          [
           "s50_50_50_b0_4000_0_5000_-4000_0",
           -0.3039853930555819,
           94
          ],
          [
           "s25_25_25_b0_4000_0_5000_-4000_0_vtk",
           0.49714952357565795,
           94
          ]
         ],
         "hovertemplate": "Cells: %{x}<br>Entropy number: %{y}<br>Snap Idx: %{customdata[2]:03d}<br>Mapped: %{customdata[0]}<br>Rel Error: %{customdata[1]:.3f}%<extra></extra>",
         "line": {
          "color": "rgb(168, 22, 1)"
         },
         "mode": "markers+lines",
         "name": "094",
         "opacity": 0.4,
         "type": "scatter",
         "x": {
          "bdata": "ECcAAACgAACAOAEACWEBAADECQAAIE4A",
          "dtype": "i4"
         },
         "y": {
          "bdata": "v3WeGMS78j8o7f3HxhjzP3yqgPxOOPM/v55s+76O8z+fdiW4hn/zP9YI6xSjp/M/",
          "dtype": "f8"
         }
        },
        {
         "customdata": [
          [
           "s200_200_200_b0_4000_0_5000_-4000_0",
           -3.607135188603202,
           95
          ],
          [
           "s125_125_125_b0_4000_0_5000_-4000_0",
           -1.9717357967345612,
           95
          ],
          [
           "s100_100_100_b0_4000_0_5000_-4000_0_vtk",
           -1.4348834438126767,
           95
          ],
          [
           "Original Comsol Mesh",
           0,
           95
          ],
          [
           "s50_50_50_b0_4000_0_5000_-4000_0",
           -0.20372356613768544,
           95
          ],
          [
           "s25_25_25_b0_4000_0_5000_-4000_0_vtk",
           0.483791712303313,
           95
          ]
         ],
         "hovertemplate": "Cells: %{x}<br>Entropy number: %{y}<br>Snap Idx: %{customdata[2]:03d}<br>Mapped: %{customdata[0]}<br>Rel Error: %{customdata[1]:.3f}%<extra></extra>",
         "line": {
          "color": "rgb(160, 19, 1)"
         },
         "mode": "markers+lines",
         "name": "095",
         "opacity": 0.4,
         "type": "scatter",
         "x": {
          "bdata": "ECcAAACgAACAOAEAMWsBAADECQAAIE4A",
          "dtype": "i4"
         },
         "y": {
          "bdata": "xUqcJSV18j/kA4XTT8XyP8uwuc2g3/I/B1yvM/cl8z9YVRir+hvzP0os0FGuPfM/",
          "dtype": "f8"
         }
        },
        {
         "customdata": [
          [
           "s200_200_200_b0_4000_0_5000_-4000_0",
           -4.9880943552357175,
           96
          ],
          [
           "s125_125_125_b0_4000_0_5000_-4000_0",
           -2.7353042481397893,
           96
          ],
          [
           "s100_100_100_b0_4000_0_5000_-4000_0_vtk",
           -2.147493771709613,
           96
          ],
          [
           "Original Comsol Mesh",
           0,
           96
          ],
          [
           "s50_50_50_b0_4000_0_5000_-4000_0",
           -0.43596626293389773,
           96
          ],
          [
           "s25_25_25_b0_4000_0_5000_-4000_0_vtk",
           0.5023457876551809,
           96
          ]
         ],
         "hovertemplate": "Cells: %{x}<br>Entropy number: %{y}<br>Snap Idx: %{customdata[2]:03d}<br>Mapped: %{customdata[0]}<br>Rel Error: %{customdata[1]:.3f}%<extra></extra>",
         "line": {
          "color": "rgb(153, 16, 1)"
         },
         "mode": "markers+lines",
         "name": "096",
         "opacity": 0.4,
         "type": "scatter",
         "x": {
          "bdata": "ECcAAACgAACAOAEAWlQBAADECQAAIE4A",
          "dtype": "i4"
         },
         "y": {
          "bdata": "wFoYEq0M8z+LQXAVToDzP2/de755nvM/wUCRMbMM9D+Tqfa4UvbzPx9oYN97JvQ/",
          "dtype": "f8"
         }
        },
        {
         "customdata": [
          [
           "s200_200_200_b0_4000_0_5000_-4000_0",
           -3.7575569431838227,
           97
          ],
          [
           "s125_125_125_b0_4000_0_5000_-4000_0",
           -2.358902434594756,
           97
          ],
          [
           "s100_100_100_b0_4000_0_5000_-4000_0_vtk",
           -1.7092573070955857,
           97
          ],
          [
           "Original Comsol Mesh",
           0,
           97
          ],
          [
           "s50_50_50_b0_4000_0_5000_-4000_0",
           -0.328942539856412,
           97
          ],
          [
           "s25_25_25_b0_4000_0_5000_-4000_0_vtk",
           0.5218456038965914,
           97
          ]
         ],
         "hovertemplate": "Cells: %{x}<br>Entropy number: %{y}<br>Snap Idx: %{customdata[2]:03d}<br>Mapped: %{customdata[0]}<br>Rel Error: %{customdata[1]:.3f}%<extra></extra>",
         "line": {
          "color": "rgb(145, 13, 2)"
         },
         "mode": "markers+lines",
         "name": "097",
         "opacity": 0.4,
         "type": "scatter",
         "x": {
          "bdata": "ECcAAACgAACAOAEAv1MBAADECQAAIE4A",
          "dtype": "i4"
         },
         "y": {
          "bdata": "9orSVzIH8j9IaDB9REryPyQfpadrafI/pVe50WK78j8bQqGonKvyP85OFRhp1PI/",
          "dtype": "f8"
         }
        },
        {
         "customdata": [
          [
           "s200_200_200_b0_4000_0_5000_-4000_0",
           -3.997825562903476,
           98
          ],
          [
           "s125_125_125_b0_4000_0_5000_-4000_0",
           -2.332341183809779,
           98
          ],
          [
           "s100_100_100_b0_4000_0_5000_-4000_0_vtk",
           -1.6921213816341405,
           98
          ],
          [
           "Original Comsol Mesh",
           0,
           98
          ],
          [
           "s50_50_50_b0_4000_0_5000_-4000_0",
           -0.3072058420835039,
           98
          ],
          [
           "s25_25_25_b0_4000_0_5000_-4000_0_vtk",
           0.47736825096991625,
           98
          ]
         ],
         "hovertemplate": "Cells: %{x}<br>Entropy number: %{y}<br>Snap Idx: %{customdata[2]:03d}<br>Mapped: %{customdata[0]}<br>Rel Error: %{customdata[1]:.3f}%<extra></extra>",
         "line": {
          "color": "rgb(137, 10, 2)"
         },
         "mode": "markers+lines",
         "name": "098",
         "opacity": 0.4,
         "type": "scatter",
         "x": {
          "bdata": "ECcAAACgAACAOAEAWGIBAADECQAAIE4A",
          "dtype": "i4"
         },
         "y": {
          "bdata": "ih8NtTi08j+UnSkdSgfzP3iyJKI4J/M/Mus6Jp578z/Y1AunS2zzP3gzwlRtk/M/",
          "dtype": "f8"
         }
        },
        {
         "customdata": [
          [
           "s200_200_200_b0_4000_0_5000_-4000_0",
           -3.251961361696437,
           99
          ],
          [
           "s125_125_125_b0_4000_0_5000_-4000_0",
           -1.828449152836209,
           99
          ],
          [
           "s100_100_100_b0_4000_0_5000_-4000_0_vtk",
           -1.3274610292849673,
           99
          ],
          [
           "Original Comsol Mesh",
           0,
           99
          ],
          [
           "s50_50_50_b0_4000_0_5000_-4000_0",
           -0.2798225897748511,
           99
          ],
          [
           "s25_25_25_b0_4000_0_5000_-4000_0_vtk",
           0.27548826116875386,
           99
          ]
         ],
         "hovertemplate": "Cells: %{x}<br>Entropy number: %{y}<br>Snap Idx: %{customdata[2]:03d}<br>Mapped: %{customdata[0]}<br>Rel Error: %{customdata[1]:.3f}%<extra></extra>",
         "line": {
          "color": "rgb(130, 7, 2)"
         },
         "mode": "markers+lines",
         "name": "099",
         "opacity": 0.4,
         "type": "scatter",
         "x": {
          "bdata": "ECcAAACgAACAOAEAOooBAADECQAAIE4A",
          "dtype": "i4"
         },
         "y": {
          "bdata": "OqRrSAYv9D/PcKTSDHv0P7GdbG7OlfQ/NAiXvbPc9D9FK27zwc30PxbiPUVq6/Q/",
          "dtype": "f8"
         }
        }
       ],
       "layout": {
        "showlegend": false,
        "template": {
         "data": {
          "bar": [
           {
            "error_x": {
             "color": "#2a3f5f"
            },
            "error_y": {
             "color": "#2a3f5f"
            },
            "marker": {
             "line": {
              "color": "#E5ECF6",
              "width": 0.5
             },
             "pattern": {
              "fillmode": "overlay",
              "size": 10,
              "solidity": 0.2
             }
            },
            "type": "bar"
           }
          ],
          "barpolar": [
           {
            "marker": {
             "line": {
              "color": "#E5ECF6",
              "width": 0.5
             },
             "pattern": {
              "fillmode": "overlay",
              "size": 10,
              "solidity": 0.2
             }
            },
            "type": "barpolar"
           }
          ],
          "carpet": [
           {
            "aaxis": {
             "endlinecolor": "#2a3f5f",
             "gridcolor": "white",
             "linecolor": "white",
             "minorgridcolor": "white",
             "startlinecolor": "#2a3f5f"
            },
            "baxis": {
             "endlinecolor": "#2a3f5f",
             "gridcolor": "white",
             "linecolor": "white",
             "minorgridcolor": "white",
             "startlinecolor": "#2a3f5f"
            },
            "type": "carpet"
           }
          ],
          "choropleth": [
           {
            "colorbar": {
             "outlinewidth": 0,
             "ticks": ""
            },
            "type": "choropleth"
           }
          ],
          "contour": [
           {
            "colorbar": {
             "outlinewidth": 0,
             "ticks": ""
            },
            "colorscale": [
             [
              0,
              "#0d0887"
             ],
             [
              0.1111111111111111,
              "#46039f"
             ],
             [
              0.2222222222222222,
              "#7201a8"
             ],
             [
              0.3333333333333333,
              "#9c179e"
             ],
             [
              0.4444444444444444,
              "#bd3786"
             ],
             [
              0.5555555555555556,
              "#d8576b"
             ],
             [
              0.6666666666666666,
              "#ed7953"
             ],
             [
              0.7777777777777778,
              "#fb9f3a"
             ],
             [
              0.8888888888888888,
              "#fdca26"
             ],
             [
              1,
              "#f0f921"
             ]
            ],
            "type": "contour"
           }
          ],
          "contourcarpet": [
           {
            "colorbar": {
             "outlinewidth": 0,
             "ticks": ""
            },
            "type": "contourcarpet"
           }
          ],
          "heatmap": [
           {
            "colorbar": {
             "outlinewidth": 0,
             "ticks": ""
            },
            "colorscale": [
             [
              0,
              "#0d0887"
             ],
             [
              0.1111111111111111,
              "#46039f"
             ],
             [
              0.2222222222222222,
              "#7201a8"
             ],
             [
              0.3333333333333333,
              "#9c179e"
             ],
             [
              0.4444444444444444,
              "#bd3786"
             ],
             [
              0.5555555555555556,
              "#d8576b"
             ],
             [
              0.6666666666666666,
              "#ed7953"
             ],
             [
              0.7777777777777778,
              "#fb9f3a"
             ],
             [
              0.8888888888888888,
              "#fdca26"
             ],
             [
              1,
              "#f0f921"
             ]
            ],
            "type": "heatmap"
           }
          ],
          "histogram": [
           {
            "marker": {
             "pattern": {
              "fillmode": "overlay",
              "size": 10,
              "solidity": 0.2
             }
            },
            "type": "histogram"
           }
          ],
          "histogram2d": [
           {
            "colorbar": {
             "outlinewidth": 0,
             "ticks": ""
            },
            "colorscale": [
             [
              0,
              "#0d0887"
             ],
             [
              0.1111111111111111,
              "#46039f"
             ],
             [
              0.2222222222222222,
              "#7201a8"
             ],
             [
              0.3333333333333333,
              "#9c179e"
             ],
             [
              0.4444444444444444,
              "#bd3786"
             ],
             [
              0.5555555555555556,
              "#d8576b"
             ],
             [
              0.6666666666666666,
              "#ed7953"
             ],
             [
              0.7777777777777778,
              "#fb9f3a"
             ],
             [
              0.8888888888888888,
              "#fdca26"
             ],
             [
              1,
              "#f0f921"
             ]
            ],
            "type": "histogram2d"
           }
          ],
          "histogram2dcontour": [
           {
            "colorbar": {
             "outlinewidth": 0,
             "ticks": ""
            },
            "colorscale": [
             [
              0,
              "#0d0887"
             ],
             [
              0.1111111111111111,
              "#46039f"
             ],
             [
              0.2222222222222222,
              "#7201a8"
             ],
             [
              0.3333333333333333,
              "#9c179e"
             ],
             [
              0.4444444444444444,
              "#bd3786"
             ],
             [
              0.5555555555555556,
              "#d8576b"
             ],
             [
              0.6666666666666666,
              "#ed7953"
             ],
             [
              0.7777777777777778,
              "#fb9f3a"
             ],
             [
              0.8888888888888888,
              "#fdca26"
             ],
             [
              1,
              "#f0f921"
             ]
            ],
            "type": "histogram2dcontour"
           }
          ],
          "mesh3d": [
           {
            "colorbar": {
             "outlinewidth": 0,
             "ticks": ""
            },
            "type": "mesh3d"
           }
          ],
          "parcoords": [
           {
            "line": {
             "colorbar": {
              "outlinewidth": 0,
              "ticks": ""
             }
            },
            "type": "parcoords"
           }
          ],
          "pie": [
           {
            "automargin": true,
            "type": "pie"
           }
          ],
          "scatter": [
           {
            "fillpattern": {
             "fillmode": "overlay",
             "size": 10,
             "solidity": 0.2
            },
            "type": "scatter"
           }
          ],
          "scatter3d": [
           {
            "line": {
             "colorbar": {
              "outlinewidth": 0,
              "ticks": ""
             }
            },
            "marker": {
             "colorbar": {
              "outlinewidth": 0,
              "ticks": ""
             }
            },
            "type": "scatter3d"
           }
          ],
          "scattercarpet": [
           {
            "marker": {
             "colorbar": {
              "outlinewidth": 0,
              "ticks": ""
             }
            },
            "type": "scattercarpet"
           }
          ],
          "scattergeo": [
           {
            "marker": {
             "colorbar": {
              "outlinewidth": 0,
              "ticks": ""
             }
            },
            "type": "scattergeo"
           }
          ],
          "scattergl": [
           {
            "marker": {
             "colorbar": {
              "outlinewidth": 0,
              "ticks": ""
             }
            },
            "type": "scattergl"
           }
          ],
          "scattermap": [
           {
            "marker": {
             "colorbar": {
              "outlinewidth": 0,
              "ticks": ""
             }
            },
            "type": "scattermap"
           }
          ],
          "scattermapbox": [
           {
            "marker": {
             "colorbar": {
              "outlinewidth": 0,
              "ticks": ""
             }
            },
            "type": "scattermapbox"
           }
          ],
          "scatterpolar": [
           {
            "marker": {
             "colorbar": {
              "outlinewidth": 0,
              "ticks": ""
             }
            },
            "type": "scatterpolar"
           }
          ],
          "scatterpolargl": [
           {
            "marker": {
             "colorbar": {
              "outlinewidth": 0,
              "ticks": ""
             }
            },
            "type": "scatterpolargl"
           }
          ],
          "scatterternary": [
           {
            "marker": {
             "colorbar": {
              "outlinewidth": 0,
              "ticks": ""
             }
            },
            "type": "scatterternary"
           }
          ],
          "surface": [
           {
            "colorbar": {
             "outlinewidth": 0,
             "ticks": ""
            },
            "colorscale": [
             [
              0,
              "#0d0887"
             ],
             [
              0.1111111111111111,
              "#46039f"
             ],
             [
              0.2222222222222222,
              "#7201a8"
             ],
             [
              0.3333333333333333,
              "#9c179e"
             ],
             [
              0.4444444444444444,
              "#bd3786"
             ],
             [
              0.5555555555555556,
              "#d8576b"
             ],
             [
              0.6666666666666666,
              "#ed7953"
             ],
             [
              0.7777777777777778,
              "#fb9f3a"
             ],
             [
              0.8888888888888888,
              "#fdca26"
             ],
             [
              1,
              "#f0f921"
             ]
            ],
            "type": "surface"
           }
          ],
          "table": [
           {
            "cells": {
             "fill": {
              "color": "#EBF0F8"
             },
             "line": {
              "color": "white"
             }
            },
            "header": {
             "fill": {
              "color": "#C8D4E3"
             },
             "line": {
              "color": "white"
             }
            },
            "type": "table"
           }
          ]
         },
         "layout": {
          "annotationdefaults": {
           "arrowcolor": "#2a3f5f",
           "arrowhead": 0,
           "arrowwidth": 1
          },
          "autotypenumbers": "strict",
          "coloraxis": {
           "colorbar": {
            "outlinewidth": 0,
            "ticks": ""
           }
          },
          "colorscale": {
           "diverging": [
            [
             0,
             "#8e0152"
            ],
            [
             0.1,
             "#c51b7d"
            ],
            [
             0.2,
             "#de77ae"
            ],
            [
             0.3,
             "#f1b6da"
            ],
            [
             0.4,
             "#fde0ef"
            ],
            [
             0.5,
             "#f7f7f7"
            ],
            [
             0.6,
             "#e6f5d0"
            ],
            [
             0.7,
             "#b8e186"
            ],
            [
             0.8,
             "#7fbc41"
            ],
            [
             0.9,
             "#4d9221"
            ],
            [
             1,
             "#276419"
            ]
           ],
           "sequential": [
            [
             0,
             "#0d0887"
            ],
            [
             0.1111111111111111,
             "#46039f"
            ],
            [
             0.2222222222222222,
             "#7201a8"
            ],
            [
             0.3333333333333333,
             "#9c179e"
            ],
            [
             0.4444444444444444,
             "#bd3786"
            ],
            [
             0.5555555555555556,
             "#d8576b"
            ],
            [
             0.6666666666666666,
             "#ed7953"
            ],
            [
             0.7777777777777778,
             "#fb9f3a"
            ],
            [
             0.8888888888888888,
             "#fdca26"
            ],
            [
             1,
             "#f0f921"
            ]
           ],
           "sequentialminus": [
            [
             0,
             "#0d0887"
            ],
            [
             0.1111111111111111,
             "#46039f"
            ],
            [
             0.2222222222222222,
             "#7201a8"
            ],
            [
             0.3333333333333333,
             "#9c179e"
            ],
            [
             0.4444444444444444,
             "#bd3786"
            ],
            [
             0.5555555555555556,
             "#d8576b"
            ],
            [
             0.6666666666666666,
             "#ed7953"
            ],
            [
             0.7777777777777778,
             "#fb9f3a"
            ],
            [
             0.8888888888888888,
             "#fdca26"
            ],
            [
             1,
             "#f0f921"
            ]
           ]
          },
          "colorway": [
           "#636efa",
           "#EF553B",
           "#00cc96",
           "#ab63fa",
           "#FFA15A",
           "#19d3f3",
           "#FF6692",
           "#B6E880",
           "#FF97FF",
           "#FECB52"
          ],
          "font": {
           "color": "#2a3f5f"
          },
          "geo": {
           "bgcolor": "white",
           "lakecolor": "white",
           "landcolor": "#E5ECF6",
           "showlakes": true,
           "showland": true,
           "subunitcolor": "white"
          },
          "hoverlabel": {
           "align": "left"
          },
          "hovermode": "closest",
          "mapbox": {
           "style": "light"
          },
          "paper_bgcolor": "white",
          "plot_bgcolor": "#E5ECF6",
          "polar": {
           "angularaxis": {
            "gridcolor": "white",
            "linecolor": "white",
            "ticks": ""
           },
           "bgcolor": "#E5ECF6",
           "radialaxis": {
            "gridcolor": "white",
            "linecolor": "white",
            "ticks": ""
           }
          },
          "scene": {
           "xaxis": {
            "backgroundcolor": "#E5ECF6",
            "gridcolor": "white",
            "gridwidth": 2,
            "linecolor": "white",
            "showbackground": true,
            "ticks": "",
            "zerolinecolor": "white"
           },
           "yaxis": {
            "backgroundcolor": "#E5ECF6",
            "gridcolor": "white",
            "gridwidth": 2,
            "linecolor": "white",
            "showbackground": true,
            "ticks": "",
            "zerolinecolor": "white"
           },
           "zaxis": {
            "backgroundcolor": "#E5ECF6",
            "gridcolor": "white",
            "gridwidth": 2,
            "linecolor": "white",
            "showbackground": true,
            "ticks": "",
            "zerolinecolor": "white"
           }
          },
          "shapedefaults": {
           "line": {
            "color": "#2a3f5f"
           }
          },
          "ternary": {
           "aaxis": {
            "gridcolor": "white",
            "linecolor": "white",
            "ticks": ""
           },
           "baxis": {
            "gridcolor": "white",
            "linecolor": "white",
            "ticks": ""
           },
           "bgcolor": "#E5ECF6",
           "caxis": {
            "gridcolor": "white",
            "linecolor": "white",
            "ticks": ""
           }
          },
          "title": {
           "x": 0.05
          },
          "xaxis": {
           "automargin": true,
           "gridcolor": "white",
           "linecolor": "white",
           "ticks": "",
           "title": {
            "standoff": 15
           },
           "zerolinecolor": "white",
           "zerolinewidth": 2
          },
          "yaxis": {
           "automargin": true,
           "gridcolor": "white",
           "linecolor": "white",
           "ticks": "",
           "title": {
            "standoff": 15
           },
           "zerolinecolor": "white",
           "zerolinewidth": 2
          }
         }
        },
        "title": {
         "text": "Entropy generation number vs n_cells - Training Snapshots - Parameter Space 09"
        },
        "xaxis": {
         "tickformat": ".1e",
         "ticktext": [
          "1.00e+04 (200 m)",
          "4.10e+04 (125 m)",
          "8.00e+04 (100 m)",
          "6.40e+05 (50 m)",
          "5.12e+06 (25 m)"
         ],
         "tickvals": {
          "bdata": "ECcAAACgAACAOAEAAMQJAAAgTgA=",
          "dtype": "i4"
         },
         "title": {
          "text": "Total cells (min. cell size)"
         },
         "type": "log"
        },
        "yaxis": {
         "tickformat": ".2f",
         "title": {
          "text": "entropy_num"
         }
        }
       }
      }
     },
     "metadata": {},
     "output_type": "display_data"
    }
   ],
   "source": [
    "fig = go.Figure()\n",
    "plot_metric = \"entropy_num\" #\"entropy_num\"\n",
    "squarred_errors = np.zeros((N_SNAPS, len(mapped_dic) + 1)) #! Only if original is also included\n",
    "for idx_snap in range(N_SNAPS):\n",
    "    entropies = []\n",
    "    n_cells = []\n",
    "    cell_sizes = []\n",
    "    mapped_meshes = []\n",
    "\n",
    "    for key, value in mapped_dic.items():\n",
    "        entropies.append(value[plot_metric][idx_snap][time_step_idx])\n",
    "        n_cells.append(value[\"n_cells\"])\n",
    "        cell_sizes.append(value[\"cell_size\"])\n",
    "        mapped_meshes.append(key)\n",
    "        \n",
    "    sorted_indices = np.argsort(np.array(n_cells))\n",
    "    entropies = np.array(entropies)[sorted_indices]\n",
    "    cell_sizes = np.array(cell_sizes)[sorted_indices]\n",
    "    n_cells = np.array(n_cells)[sorted_indices]\n",
    "    mapped_meshes_sorted = [mapped_meshes[i] for i in sorted_indices]\n",
    "    \n",
    "    original_n_cells = n_cells_org[idx_snap]\n",
    "    original_entropy_num = entropy_num_org[idx_snap][time_step_idx]\n",
    "    \n",
    "    idx_org = np.searchsorted(n_cells, original_n_cells)\n",
    "    n_cells = np.insert(n_cells, idx_org, original_n_cells)\n",
    "    cell_sizes = np.insert(cell_sizes, idx_org, np.nan)\n",
    "    entropies = np.insert(entropies, idx_org, original_entropy_num)\n",
    "    mapped_meshes_sorted.insert(idx_org, \"Original Comsol Mesh\")\n",
    "    \n",
    "\n",
    "    rel_error = (entropies - original_entropy_num) / original_entropy_num\n",
    "    squarred_errors[idx_snap, :] = (entropies - original_entropy_num)**2\n",
    "    \n",
    "    mapped_meshes_sorted = np.array(mapped_meshes_sorted, dtype=object)\n",
    "    idx_snap_array = np.ones_like(rel_error) * idx_snap\n",
    "    # Stack into 2D array: shape (n_points, 2)\n",
    "    custom_data = np.column_stack((mapped_meshes_sorted, rel_error * 100, idx_snap_array))\n",
    "    \n",
    "\n",
    "    fig.add_trace(go.Scatter(x=n_cells,\n",
    "                             y=entropies,\n",
    "                                mode='markers+lines',\n",
    "                                name=f\"{idx_snap:03d}\",\n",
    "                                opacity=0.4,#\n",
    "                                customdata=custom_data,\n",
    "                                hovertemplate=\n",
    "                                    'Cells: %{x}<br>'\n",
    "                                    'Entropy number: %{y}<br>'\n",
    "                                    'Snap Idx: %{customdata[2]:03d}<br>'\n",
    "                                    'Mapped: %{customdata[0]}<br>'\n",
    "                                    'Rel Error: %{customdata[1]:.3f}%<extra></extra>',\n",
    "                                line=dict(color=colors[idx_snap])\n",
    "                ))\n",
    "    \n",
    "fig.update_layout(\n",
    "    showlegend=False,        # Hide the legend\n",
    "    title=f\"Entropy generation number vs n_cells - Training Snapshots - Parameter Space {PARAMETER_SPACE}\",       # Optional: add a title\n",
    "    xaxis_title=\"Total cells (min. cell size)\",    # Optional: label for x-axis\n",
    "    yaxis_title=plot_metric,     # Optional: label for y-axis    \n",
    "    xaxis=dict(\n",
    "        type='log',                               # Set x-axis to logarithmic scale\n",
    "        tickformat='.1e',                         # Format x-axis ticks to scientific notation with 2 decimal places\n",
    "        tickvals = np.delete(n_cells, idx_org),\n",
    "        ticktext = [f\"{n_cell:.2e} ({cell_size:.0f} m)\" for (cell_size, n_cell) in zip(np.delete(cell_sizes, idx_org), np.delete(n_cells, idx_org))]\n",
    "    ),\n",
    "    yaxis=dict(\n",
    "        tickformat='.2f',                         # Format y-axis ticks to 2 decimal places (optional)\n",
    "    )\n",
    ")\n",
    "\n",
    "fig.write_image(mapped_root / f\"Training_Diff_{plot_metric}.png\")\n",
    "fig.write_html(mapped_root / f\"Training_Diff_{plot_metric}.html\")\n",
    "fig.show()"
   ]
  },
  {
   "cell_type": "markdown",
   "id": "0eb4c70d",
   "metadata": {},
   "source": [
    "### Errors"
   ]
  },
  {
   "cell_type": "code",
   "execution_count": 40,
   "id": "a2299ce7",
   "metadata": {},
   "outputs": [
    {
     "name": "stdout",
     "output_type": "stream",
     "text": [
      "s200_200_200_b0_4000_0_5000_-4000_0 - MSE :    1.9e-03\n",
      "s125_125_125_b0_4000_0_5000_-4000_0 - MSE :    6.4e-04\n",
      "s100_100_100_b0_4000_0_5000_-4000_0_vtk - MSE :    3.5e-04\n",
      "Original Comsol Mesh - MSE :    0.0e+00\n",
      "s50_50_50_b0_4000_0_5000_-4000_0 - MSE :    1.3e-05\n",
      "s25_25_25_b0_4000_0_5000_-4000_0_vtk - MSE :    3.0e-05\n"
     ]
    }
   ],
   "source": [
    "mses = np.sum(squarred_errors, axis=0)/N_SNAPS\n",
    "meses_dic = {mesh: mse for (mse, mesh) in zip(mses, mapped_meshes_sorted) }\n",
    "for key, val in meses_dic.items():\n",
    "    print(f\"{key} - MSE : {val:>10.1e}\")"
   ]
  },
  {
   "cell_type": "code",
   "execution_count": 41,
   "id": "5f20c97f",
   "metadata": {},
   "outputs": [
    {
     "data": {
      "application/vnd.plotly.v1+json": {
       "config": {
        "plotlyServerURL": "https://plot.ly"
       },
       "data": [
        {
         "type": "scatter",
         "x": {
          "bdata": "AAAAAAAAaUAAAAAAAEBfQAAAAAAAAFlAAAAAAAAASUAAAAAAAAA5QA==",
          "dtype": "f8"
         },
         "y": {
          "bdata": "94UA/VaBXz8dT9xqROREP5btOB9coTY/DWndu7yb6j4GTjigJWb/Pg==",
          "dtype": "f8"
         }
        }
       ],
       "layout": {
        "template": {
         "data": {
          "bar": [
           {
            "error_x": {
             "color": "#2a3f5f"
            },
            "error_y": {
             "color": "#2a3f5f"
            },
            "marker": {
             "line": {
              "color": "#E5ECF6",
              "width": 0.5
             },
             "pattern": {
              "fillmode": "overlay",
              "size": 10,
              "solidity": 0.2
             }
            },
            "type": "bar"
           }
          ],
          "barpolar": [
           {
            "marker": {
             "line": {
              "color": "#E5ECF6",
              "width": 0.5
             },
             "pattern": {
              "fillmode": "overlay",
              "size": 10,
              "solidity": 0.2
             }
            },
            "type": "barpolar"
           }
          ],
          "carpet": [
           {
            "aaxis": {
             "endlinecolor": "#2a3f5f",
             "gridcolor": "white",
             "linecolor": "white",
             "minorgridcolor": "white",
             "startlinecolor": "#2a3f5f"
            },
            "baxis": {
             "endlinecolor": "#2a3f5f",
             "gridcolor": "white",
             "linecolor": "white",
             "minorgridcolor": "white",
             "startlinecolor": "#2a3f5f"
            },
            "type": "carpet"
           }
          ],
          "choropleth": [
           {
            "colorbar": {
             "outlinewidth": 0,
             "ticks": ""
            },
            "type": "choropleth"
           }
          ],
          "contour": [
           {
            "colorbar": {
             "outlinewidth": 0,
             "ticks": ""
            },
            "colorscale": [
             [
              0,
              "#0d0887"
             ],
             [
              0.1111111111111111,
              "#46039f"
             ],
             [
              0.2222222222222222,
              "#7201a8"
             ],
             [
              0.3333333333333333,
              "#9c179e"
             ],
             [
              0.4444444444444444,
              "#bd3786"
             ],
             [
              0.5555555555555556,
              "#d8576b"
             ],
             [
              0.6666666666666666,
              "#ed7953"
             ],
             [
              0.7777777777777778,
              "#fb9f3a"
             ],
             [
              0.8888888888888888,
              "#fdca26"
             ],
             [
              1,
              "#f0f921"
             ]
            ],
            "type": "contour"
           }
          ],
          "contourcarpet": [
           {
            "colorbar": {
             "outlinewidth": 0,
             "ticks": ""
            },
            "type": "contourcarpet"
           }
          ],
          "heatmap": [
           {
            "colorbar": {
             "outlinewidth": 0,
             "ticks": ""
            },
            "colorscale": [
             [
              0,
              "#0d0887"
             ],
             [
              0.1111111111111111,
              "#46039f"
             ],
             [
              0.2222222222222222,
              "#7201a8"
             ],
             [
              0.3333333333333333,
              "#9c179e"
             ],
             [
              0.4444444444444444,
              "#bd3786"
             ],
             [
              0.5555555555555556,
              "#d8576b"
             ],
             [
              0.6666666666666666,
              "#ed7953"
             ],
             [
              0.7777777777777778,
              "#fb9f3a"
             ],
             [
              0.8888888888888888,
              "#fdca26"
             ],
             [
              1,
              "#f0f921"
             ]
            ],
            "type": "heatmap"
           }
          ],
          "histogram": [
           {
            "marker": {
             "pattern": {
              "fillmode": "overlay",
              "size": 10,
              "solidity": 0.2
             }
            },
            "type": "histogram"
           }
          ],
          "histogram2d": [
           {
            "colorbar": {
             "outlinewidth": 0,
             "ticks": ""
            },
            "colorscale": [
             [
              0,
              "#0d0887"
             ],
             [
              0.1111111111111111,
              "#46039f"
             ],
             [
              0.2222222222222222,
              "#7201a8"
             ],
             [
              0.3333333333333333,
              "#9c179e"
             ],
             [
              0.4444444444444444,
              "#bd3786"
             ],
             [
              0.5555555555555556,
              "#d8576b"
             ],
             [
              0.6666666666666666,
              "#ed7953"
             ],
             [
              0.7777777777777778,
              "#fb9f3a"
             ],
             [
              0.8888888888888888,
              "#fdca26"
             ],
             [
              1,
              "#f0f921"
             ]
            ],
            "type": "histogram2d"
           }
          ],
          "histogram2dcontour": [
           {
            "colorbar": {
             "outlinewidth": 0,
             "ticks": ""
            },
            "colorscale": [
             [
              0,
              "#0d0887"
             ],
             [
              0.1111111111111111,
              "#46039f"
             ],
             [
              0.2222222222222222,
              "#7201a8"
             ],
             [
              0.3333333333333333,
              "#9c179e"
             ],
             [
              0.4444444444444444,
              "#bd3786"
             ],
             [
              0.5555555555555556,
              "#d8576b"
             ],
             [
              0.6666666666666666,
              "#ed7953"
             ],
             [
              0.7777777777777778,
              "#fb9f3a"
             ],
             [
              0.8888888888888888,
              "#fdca26"
             ],
             [
              1,
              "#f0f921"
             ]
            ],
            "type": "histogram2dcontour"
           }
          ],
          "mesh3d": [
           {
            "colorbar": {
             "outlinewidth": 0,
             "ticks": ""
            },
            "type": "mesh3d"
           }
          ],
          "parcoords": [
           {
            "line": {
             "colorbar": {
              "outlinewidth": 0,
              "ticks": ""
             }
            },
            "type": "parcoords"
           }
          ],
          "pie": [
           {
            "automargin": true,
            "type": "pie"
           }
          ],
          "scatter": [
           {
            "fillpattern": {
             "fillmode": "overlay",
             "size": 10,
             "solidity": 0.2
            },
            "type": "scatter"
           }
          ],
          "scatter3d": [
           {
            "line": {
             "colorbar": {
              "outlinewidth": 0,
              "ticks": ""
             }
            },
            "marker": {
             "colorbar": {
              "outlinewidth": 0,
              "ticks": ""
             }
            },
            "type": "scatter3d"
           }
          ],
          "scattercarpet": [
           {
            "marker": {
             "colorbar": {
              "outlinewidth": 0,
              "ticks": ""
             }
            },
            "type": "scattercarpet"
           }
          ],
          "scattergeo": [
           {
            "marker": {
             "colorbar": {
              "outlinewidth": 0,
              "ticks": ""
             }
            },
            "type": "scattergeo"
           }
          ],
          "scattergl": [
           {
            "marker": {
             "colorbar": {
              "outlinewidth": 0,
              "ticks": ""
             }
            },
            "type": "scattergl"
           }
          ],
          "scattermap": [
           {
            "marker": {
             "colorbar": {
              "outlinewidth": 0,
              "ticks": ""
             }
            },
            "type": "scattermap"
           }
          ],
          "scattermapbox": [
           {
            "marker": {
             "colorbar": {
              "outlinewidth": 0,
              "ticks": ""
             }
            },
            "type": "scattermapbox"
           }
          ],
          "scatterpolar": [
           {
            "marker": {
             "colorbar": {
              "outlinewidth": 0,
              "ticks": ""
             }
            },
            "type": "scatterpolar"
           }
          ],
          "scatterpolargl": [
           {
            "marker": {
             "colorbar": {
              "outlinewidth": 0,
              "ticks": ""
             }
            },
            "type": "scatterpolargl"
           }
          ],
          "scatterternary": [
           {
            "marker": {
             "colorbar": {
              "outlinewidth": 0,
              "ticks": ""
             }
            },
            "type": "scatterternary"
           }
          ],
          "surface": [
           {
            "colorbar": {
             "outlinewidth": 0,
             "ticks": ""
            },
            "colorscale": [
             [
              0,
              "#0d0887"
             ],
             [
              0.1111111111111111,
              "#46039f"
             ],
             [
              0.2222222222222222,
              "#7201a8"
             ],
             [
              0.3333333333333333,
              "#9c179e"
             ],
             [
              0.4444444444444444,
              "#bd3786"
             ],
             [
              0.5555555555555556,
              "#d8576b"
             ],
             [
              0.6666666666666666,
              "#ed7953"
             ],
             [
              0.7777777777777778,
              "#fb9f3a"
             ],
             [
              0.8888888888888888,
              "#fdca26"
             ],
             [
              1,
              "#f0f921"
             ]
            ],
            "type": "surface"
           }
          ],
          "table": [
           {
            "cells": {
             "fill": {
              "color": "#EBF0F8"
             },
             "line": {
              "color": "white"
             }
            },
            "header": {
             "fill": {
              "color": "#C8D4E3"
             },
             "line": {
              "color": "white"
             }
            },
            "type": "table"
           }
          ]
         },
         "layout": {
          "annotationdefaults": {
           "arrowcolor": "#2a3f5f",
           "arrowhead": 0,
           "arrowwidth": 1
          },
          "autotypenumbers": "strict",
          "coloraxis": {
           "colorbar": {
            "outlinewidth": 0,
            "ticks": ""
           }
          },
          "colorscale": {
           "diverging": [
            [
             0,
             "#8e0152"
            ],
            [
             0.1,
             "#c51b7d"
            ],
            [
             0.2,
             "#de77ae"
            ],
            [
             0.3,
             "#f1b6da"
            ],
            [
             0.4,
             "#fde0ef"
            ],
            [
             0.5,
             "#f7f7f7"
            ],
            [
             0.6,
             "#e6f5d0"
            ],
            [
             0.7,
             "#b8e186"
            ],
            [
             0.8,
             "#7fbc41"
            ],
            [
             0.9,
             "#4d9221"
            ],
            [
             1,
             "#276419"
            ]
           ],
           "sequential": [
            [
             0,
             "#0d0887"
            ],
            [
             0.1111111111111111,
             "#46039f"
            ],
            [
             0.2222222222222222,
             "#7201a8"
            ],
            [
             0.3333333333333333,
             "#9c179e"
            ],
            [
             0.4444444444444444,
             "#bd3786"
            ],
            [
             0.5555555555555556,
             "#d8576b"
            ],
            [
             0.6666666666666666,
             "#ed7953"
            ],
            [
             0.7777777777777778,
             "#fb9f3a"
            ],
            [
             0.8888888888888888,
             "#fdca26"
            ],
            [
             1,
             "#f0f921"
            ]
           ],
           "sequentialminus": [
            [
             0,
             "#0d0887"
            ],
            [
             0.1111111111111111,
             "#46039f"
            ],
            [
             0.2222222222222222,
             "#7201a8"
            ],
            [
             0.3333333333333333,
             "#9c179e"
            ],
            [
             0.4444444444444444,
             "#bd3786"
            ],
            [
             0.5555555555555556,
             "#d8576b"
            ],
            [
             0.6666666666666666,
             "#ed7953"
            ],
            [
             0.7777777777777778,
             "#fb9f3a"
            ],
            [
             0.8888888888888888,
             "#fdca26"
            ],
            [
             1,
             "#f0f921"
            ]
           ]
          },
          "colorway": [
           "#636efa",
           "#EF553B",
           "#00cc96",
           "#ab63fa",
           "#FFA15A",
           "#19d3f3",
           "#FF6692",
           "#B6E880",
           "#FF97FF",
           "#FECB52"
          ],
          "font": {
           "color": "#2a3f5f"
          },
          "geo": {
           "bgcolor": "white",
           "lakecolor": "white",
           "landcolor": "#E5ECF6",
           "showlakes": true,
           "showland": true,
           "subunitcolor": "white"
          },
          "hoverlabel": {
           "align": "left"
          },
          "hovermode": "closest",
          "mapbox": {
           "style": "light"
          },
          "paper_bgcolor": "white",
          "plot_bgcolor": "#E5ECF6",
          "polar": {
           "angularaxis": {
            "gridcolor": "white",
            "linecolor": "white",
            "ticks": ""
           },
           "bgcolor": "#E5ECF6",
           "radialaxis": {
            "gridcolor": "white",
            "linecolor": "white",
            "ticks": ""
           }
          },
          "scene": {
           "xaxis": {
            "backgroundcolor": "#E5ECF6",
            "gridcolor": "white",
            "gridwidth": 2,
            "linecolor": "white",
            "showbackground": true,
            "ticks": "",
            "zerolinecolor": "white"
           },
           "yaxis": {
            "backgroundcolor": "#E5ECF6",
            "gridcolor": "white",
            "gridwidth": 2,
            "linecolor": "white",
            "showbackground": true,
            "ticks": "",
            "zerolinecolor": "white"
           },
           "zaxis": {
            "backgroundcolor": "#E5ECF6",
            "gridcolor": "white",
            "gridwidth": 2,
            "linecolor": "white",
            "showbackground": true,
            "ticks": "",
            "zerolinecolor": "white"
           }
          },
          "shapedefaults": {
           "line": {
            "color": "#2a3f5f"
           }
          },
          "ternary": {
           "aaxis": {
            "gridcolor": "white",
            "linecolor": "white",
            "ticks": ""
           },
           "baxis": {
            "gridcolor": "white",
            "linecolor": "white",
            "ticks": ""
           },
           "bgcolor": "#E5ECF6",
           "caxis": {
            "gridcolor": "white",
            "linecolor": "white",
            "ticks": ""
           }
          },
          "title": {
           "x": 0.05
          },
          "xaxis": {
           "automargin": true,
           "gridcolor": "white",
           "linecolor": "white",
           "ticks": "",
           "title": {
            "standoff": 15
           },
           "zerolinecolor": "white",
           "zerolinewidth": 2
          },
          "yaxis": {
           "automargin": true,
           "gridcolor": "white",
           "linecolor": "white",
           "ticks": "",
           "title": {
            "standoff": 15
           },
           "zerolinecolor": "white",
           "zerolinewidth": 2
          }
         }
        },
        "title": {
         "text": "PS 09 - Entropy Generation Number MSE Training"
        },
        "xaxis": {
         "title": {
          "text": "Control mesh cell size [m]"
         }
        },
        "yaxis": {
         "tickformat": ".1e",
         "title": {
          "text": "Mean squarred error "
         },
         "type": "log"
        }
       }
      }
     },
     "metadata": {},
     "output_type": "display_data"
    }
   ],
   "source": [
    "fig = go.Figure()\n",
    "fig.add_trace(go.Scatter(\n",
    "    x = np.delete(cell_sizes, idx_org),\n",
    "    y = np.delete(mses, idx_org)\n",
    "))\n",
    "\n",
    "fig.update_layout(\n",
    "    title=f\"PS {PARAMETER_SPACE} - Entropy Generation Number MSE {DATA_TYPE}\",\n",
    "    xaxis_title=\"Control mesh cell size [m]\",\n",
    "    yaxis_title=\"Mean squarred error \",\n",
    "    yaxis_type=\"log\",\n",
    "    yaxis_tickformat=\".1e\"\n",
    ")\n",
    "\n",
    "fig.write_image(mapped_root / \"ControlMesh_MSEs.png\")\n",
    "fig.show()"
   ]
  }
 ],
 "metadata": {
  "kernelspec": {
   "display_name": "nirb",
   "language": "python",
   "name": "python3"
  },
  "language_info": {
   "codemirror_mode": {
    "name": "ipython",
    "version": 3
   },
   "file_extension": ".py",
   "mimetype": "text/x-python",
   "name": "python",
   "nbconvert_exporter": "python",
   "pygments_lexer": "ipython3",
   "version": "3.12.4"
  }
 },
 "nbformat": 4,
 "nbformat_minor": 5
}
