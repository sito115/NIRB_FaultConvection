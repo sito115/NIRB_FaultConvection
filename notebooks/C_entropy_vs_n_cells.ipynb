{
 "cells": [
  {
   "cell_type": "code",
   "execution_count": 4,
   "id": "28d43c53",
   "metadata": {},
   "outputs": [],
   "source": [
    "import numpy as np\n",
    "import plotly.express as px\n",
    "import plotly.graph_objects as go\n",
    "from pathlib import Path\n",
    "import pandas as pd\n",
    "import pint\n",
    "import sys\n",
    "import pyvista as pv\n",
    "from tqdm import tqdm\n",
    "from typing import List\n",
    "import ast\n",
    "from joblib import dump, load"
   ]
  },
  {
   "cell_type": "code",
   "execution_count": 5,
   "id": "fef9fc7b",
   "metadata": {},
   "outputs": [],
   "source": [
    "sys.path.append(str(Path.cwd().parent))"
   ]
  },
  {
   "cell_type": "code",
   "execution_count": 6,
   "id": "b248ebe4",
   "metadata": {},
   "outputs": [],
   "source": [
    "from scr.utils import safe_parse_quantity , delete_comsol_fields\n",
    "from scr.comsol_module.comsol_classes import COMSOL_VTU\n",
    "from scr.comsol_module.entropy import calculate_S_therm"
   ]
  },
  {
   "cell_type": "code",
   "execution_count": 7,
   "id": "0bc51ba2",
   "metadata": {},
   "outputs": [
    {
     "data": {
      "text/plain": [
       "PosixPath('/Users/thomassimader/Documents/NIRB')"
      ]
     },
     "execution_count": 7,
     "metadata": {},
     "output_type": "execute_result"
    }
   ],
   "source": [
    "ROOT = Path().cwd().parent\n",
    "PARAMETER_SPACE = \"03\"\n",
    "ROOT"
   ]
  },
  {
   "cell_type": "code",
   "execution_count": 8,
   "id": "22eef90e",
   "metadata": {},
   "outputs": [],
   "source": [
    "mapped_root = ROOT / \"data\" / PARAMETER_SPACE / \"TrainingMapped\"\n",
    "assert mapped_root.exists()\n",
    "mapped_folders : List[Path]= []\n",
    "mapped_folders.append(mapped_root / \"s50_50_25_b50_3950_50_4950_-3975_0\")\n",
    "mapped_folders.append(mapped_root / \"s50_50_50_b50_3950_50_4950_-3950_0\")\n",
    "mapped_folders.append(mapped_root / \"s100_100_100_b100_3900_100_4900_-3900_0\")\n",
    "mapped_folders.append(mapped_root / \"s200_200_200_b200_3800_200_4800_-3800_0\")"
   ]
  },
  {
   "cell_type": "code",
   "execution_count": 23,
   "id": "0151230d",
   "metadata": {},
   "outputs": [],
   "source": [
    "mapped_dic = {}\n",
    "for folder in mapped_folders:\n",
    "    npy_file = folder / \"Training_temperatures.npy\"\n",
    "    vti_file = [file for file in folder.rglob(\"*.vti\")][0]\n",
    "    mapped_dic[folder.stem] = {\"npy\": npy_file, \"vti\" : vti_file, \"entropy_num\" : [], \"entropy_gen\" : []}"
   ]
  },
  {
   "cell_type": "code",
   "execution_count": 47,
   "id": "2c5f4a2f",
   "metadata": {},
   "outputs": [],
   "source": [
    "joblib_file = ROOT / \"data\" / PARAMETER_SPACE / \"Training_Original\" / \"Training_temperatures.joblib\"\n",
    "vtu_file = sorted([file for file in npy_file.parent.rglob(\"*.vtu\")])\n",
    "original_dic = {}\n",
    "original_dic[\"original\"] = {\"joblib\": joblib_file, \"vtu\" : vtu_file, \"entropy_num\" : [], \"entropy_gen\" : []}\n",
    "original_dic[\"original\"][\"n_cells\"] = []"
   ]
  },
  {
   "cell_type": "markdown",
   "id": "5cb1764b",
   "metadata": {},
   "source": [
    "## Calculate entropy number"
   ]
  },
  {
   "cell_type": "code",
   "execution_count": 16,
   "id": "b06b1401",
   "metadata": {},
   "outputs": [
    {
     "name": "stdout",
     "output_type": "stream",
     "text": [
      "100\n"
     ]
    }
   ],
   "source": [
    "param_folder = ROOT / \"data\" / PARAMETER_SPACE / \"Exports\"\n",
    "param_files = sorted([path for path in param_folder.rglob(\"Training*.csv\")])\n",
    "print(len(param_files))"
   ]
  },
  {
   "cell_type": "code",
   "execution_count": 42,
   "id": "06993e8e",
   "metadata": {},
   "outputs": [],
   "source": [
    "for idx, (key, values) in enumerate(mapped_dic.items()):\n",
    "    param_df = pd.read_csv(param_files[idx], index_col = 0)\n",
    "    ureg = pint.UnitRegistry()\n",
    "    param_df['quantity_pint'] = param_df[param_df.columns[-1]].apply(lambda x : safe_parse_quantity(x, ureg))\n",
    "    lambda_therm = (1 - param_df.loc['host_phi', \"quantity_pint\"]).magnitude * param_df.loc['host_lambda', \"quantity_pint\"].magnitude + \\\n",
    "                param_df.loc['host_phi', \"quantity_pint\"].magnitude * (4.2)\n",
    "    T0 = 0.5 * (param_df.loc[\"T_h\", \"quantity_pint\"] + (20 + 273.15) * ureg.kelvin)\n",
    "    delta_T = (param_df.loc['T_h', \"quantity_pint\"] - (20 + 273.15) * ureg.kelvin)\n",
    "    comsol_data = COMSOL_VTU(values[\"vti\"])\n",
    "    mapped_dic[key][\"n_cells\"] = comsol_data.mesh.n_cells\n",
    "    temperatures = np.load(values[\"npy\"])\n",
    "    for temperature in temperatures:\n",
    "        comsol_data.mesh.point_data[\"temp_field\"] = temperature[0]\n",
    "        cell_mesh = comsol_data.mesh.point_data_to_cell_data()\n",
    "        cell_mesh.cell_data.keys()\n",
    "        temp_grad = cell_mesh.compute_derivative(\"temp_field\").cell_data[\"gradient\"]\n",
    "        s0 = calculate_S_therm(lambda_therm,\n",
    "                        T0.magnitude,\n",
    "                        temp_grad)\n",
    "        s0_total = np.sum(s0 * comsol_data.mesh.compute_cell_sizes()[\"Volume\"])\n",
    "        L = comsol_data.mesh.bounds.z_max - comsol_data.mesh.bounds.z_min\n",
    "        s0_characteristic = (lambda_therm * delta_T.magnitude**2) / (L**2 * T0.magnitude**2)\n",
    "        entropy_number = s0_total / s0_characteristic / comsol_data.mesh.volume \n",
    "        mapped_dic[key][\"entropy_gen\"].append(s0_total)\n",
    "        mapped_dic[key][\"entropy_num\"].append(entropy_number)\n"
   ]
  },
  {
   "cell_type": "code",
   "execution_count": 48,
   "id": "fca35eb3",
   "metadata": {},
   "outputs": [],
   "source": [
    "for idx, file in enumerate(original_dic[\"original\"][\"vtu\"]):\n",
    "    param_df = pd.read_csv(param_files[idx], index_col = 0)\n",
    "    ureg = pint.UnitRegistry()\n",
    "    param_df['quantity_pint'] = param_df[param_df.columns[-1]].apply(lambda x : safe_parse_quantity(x, ureg))\n",
    "    lambda_therm = (1 - param_df.loc['host_phi', \"quantity_pint\"]).magnitude * param_df.loc['host_lambda', \"quantity_pint\"].magnitude + \\\n",
    "                param_df.loc['host_phi', \"quantity_pint\"].magnitude * (4.2)\n",
    "    T0 = 0.5 * (param_df.loc[\"T_h\", \"quantity_pint\"] + (20 + 273.15) * ureg.kelvin)\n",
    "    delta_T = (param_df.loc['T_h', \"quantity_pint\"] - (20 + 273.15) * ureg.kelvin)\n",
    "    comsol_data = COMSOL_VTU(file)\n",
    "    temp_field = comsol_data.format_field(\"Temperature\", -1)\n",
    "    cell_mesh = comsol_data.mesh.point_data_to_cell_data()\n",
    "    cell_mesh.cell_data.keys()\n",
    "    temp_grad = cell_mesh.compute_derivative(temp_field).cell_data[\"gradient\"]\n",
    "    s0 = calculate_S_therm(lambda_therm,\n",
    "                    T0.magnitude,\n",
    "                    temp_grad)\n",
    "    s0_total = np.sum(s0 * comsol_data.mesh.compute_cell_sizes()[\"Volume\"])\n",
    "    L = comsol_data.mesh.bounds.z_max - comsol_data.mesh.bounds.z_min\n",
    "    s0_characteristic = (lambda_therm * delta_T.magnitude**2) / (L**2 * T0.magnitude**2)\n",
    "    entropy_number = s0_total / s0_characteristic / comsol_data.mesh.volume \n",
    "    original_dic[\"original\"][\"entropy_gen\"].append(s0_total)\n",
    "    original_dic[\"original\"][\"entropy_num\"].append(entropy_number)\n",
    "    original_dic[\"original\"][\"n_cells\"].append(comsol_data.mesh.n_cells)"
   ]
  },
  {
   "cell_type": "code",
   "execution_count": 50,
   "id": "8b4a527e",
   "metadata": {},
   "outputs": [],
   "source": [
    "N_SNAPS = len(original_dic[\"original\"][\"vtu\"])\n",
    "colors = px.colors.sample_colorscale(\"jet\", [n/(N_SNAPS) for n in range(N_SNAPS)])\n"
   ]
  },
  {
   "cell_type": "code",
   "execution_count": 65,
   "id": "b8eb251a",
   "metadata": {},
   "outputs": [
    {
     "data": {
      "application/vnd.plotly.v1+json": {
       "config": {
        "plotlyServerURL": "https://plot.ly"
       },
       "data": [
        {
         "line": {
          "color": "rgb(0, 0, 131)"
         },
         "mode": "lines+markers",
         "name": "000",
         "opacity": 0.4,
         "type": "scatter",
         "x": [
          1215396,
          603876,
          71136,
          7866
         ],
         "y": [
          1.2569091201409706,
          1.2230221982072467,
          1.1381620810452913,
          1.002968963622614
         ]
        },
        {
         "line": {
          "color": "black"
         },
         "mode": "markers",
         "name": "000 - org",
         "opacity": 0.4,
         "type": "scatter",
         "x": [
          95866
         ],
         "y": [
          1.158222295962275
         ]
        },
        {
         "line": {
          "color": "rgb(0, 3, 133)"
         },
         "mode": "lines+markers",
         "name": "001",
         "opacity": 0.4,
         "type": "scatter",
         "x": [
          1215396,
          603876,
          71136,
          7866
         ],
         "y": [
          1.247462002596948,
          1.214175688441714,
          1.1303220918180878,
          0.9974041985282501
         ]
        },
        {
         "line": {
          "color": "black"
         },
         "mode": "markers",
         "name": "001 - org",
         "opacity": 0.4,
         "type": "scatter",
         "x": [
          96454
         ],
         "y": [
          1.1469172796243914
         ]
        },
        {
         "line": {
          "color": "rgb(0, 6, 135)"
         },
         "mode": "lines+markers",
         "name": "002",
         "opacity": 0.4,
         "type": "scatter",
         "x": [
          1215396,
          603876,
          71136,
          7866
         ],
         "y": [
          1.3461309134627868,
          1.3081329418693597,
          1.2036865207580445,
          1.0376161994378121
         ]
        },
        {
         "line": {
          "color": "black"
         },
         "mode": "markers",
         "name": "002 - org",
         "opacity": 0.4,
         "type": "scatter",
         "x": [
          88207
         ],
         "y": [
          1.237788456434206
         ]
        },
        {
         "line": {
          "color": "rgb(0, 9, 137)"
         },
         "mode": "lines+markers",
         "name": "003",
         "opacity": 0.4,
         "type": "scatter",
         "x": [
          1215396,
          603876,
          71136,
          7866
         ],
         "y": [
          1.374968641939758,
          1.3331132641145358,
          1.2318426565265461,
          1.0702676013268682
         ]
        },
        {
         "line": {
          "color": "black"
         },
         "mode": "markers",
         "name": "003 - org",
         "opacity": 0.4,
         "type": "scatter",
         "x": [
          102849
         ],
         "y": [
          1.2416622337617902
         ]
        },
        {
         "line": {
          "color": "rgb(0, 12, 139)"
         },
         "mode": "lines+markers",
         "name": "004",
         "opacity": 0.4,
         "type": "scatter",
         "x": [
          1215396,
          603876,
          71136,
          7866
         ],
         "y": [
          1.2262294611956475,
          1.1948282369254581,
          1.1096890569280407,
          0.972879686853177
         ]
        },
        {
         "line": {
          "color": "black"
         },
         "mode": "markers",
         "name": "004 - org",
         "opacity": 0.4,
         "type": "scatter",
         "x": [
          90789
         ],
         "y": [
          1.1325521948483994
         ]
        },
        {
         "line": {
          "color": "rgb(0, 15, 141)"
         },
         "mode": "lines+markers",
         "name": "005",
         "opacity": 0.4,
         "type": "scatter",
         "x": [
          1215396,
          603876,
          71136,
          7866
         ],
         "y": [
          1.149193053694416,
          1.1224701424074839,
          1.0509605459650233,
          0.93295083085133
         ]
        },
        {
         "line": {
          "color": "black"
         },
         "mode": "markers",
         "name": "005 - org",
         "opacity": 0.4,
         "type": "scatter",
         "x": [
          92578
         ],
         "y": [
          1.0730786092000377
         ]
        },
        {
         "line": {
          "color": "rgb(0, 18, 143)"
         },
         "mode": "lines+markers",
         "name": "006",
         "opacity": 0.4,
         "type": "scatter",
         "x": [
          1215396,
          603876,
          71136,
          7866
         ],
         "y": [
          1.4984165305135668,
          1.4517354596667826,
          1.3253928479914519,
          1.1248286978106092
         ]
        },
        {
         "line": {
          "color": "black"
         },
         "mode": "markers",
         "name": "006 - org",
         "opacity": 0.4,
         "type": "scatter",
         "x": [
          88758
         ],
         "y": [
          1.357131397517709
         ]
        },
        {
         "line": {
          "color": "rgb(0, 21, 145)"
         },
         "mode": "lines+markers",
         "name": "007",
         "opacity": 0.4,
         "type": "scatter",
         "x": [
          1215396,
          603876,
          71136,
          7866
         ],
         "y": [
          1.3502087098215692,
          1.3119940528000924,
          1.207314420930758,
          1.053625843656243
         ]
        },
        {
         "line": {
          "color": "black"
         },
         "mode": "markers",
         "name": "007 - org",
         "opacity": 0.4,
         "type": "scatter",
         "x": [
          87136
         ],
         "y": [
          1.240077561200929
         ]
        },
        {
         "line": {
          "color": "rgb(0, 24, 147)"
         },
         "mode": "lines+markers",
         "name": "008",
         "opacity": 0.4,
         "type": "scatter",
         "x": [
          1215396,
          603876,
          71136,
          7866
         ],
         "y": [
          1.243561466090915,
          1.2102795331358256,
          1.1251533795510622,
          0.9869094283127858
         ]
        },
        {
         "line": {
          "color": "black"
         },
         "mode": "markers",
         "name": "008 - org",
         "opacity": 0.4,
         "type": "scatter",
         "x": [
          97303
         ],
         "y": [
          1.1412511125541174
         ]
        },
        {
         "line": {
          "color": "rgb(0, 27, 149)"
         },
         "mode": "lines+markers",
         "name": "009",
         "opacity": 0.4,
         "type": "scatter",
         "x": [
          1215396,
          603876,
          71136,
          7866
         ],
         "y": [
          1.4075885912517392,
          1.3655249672789396,
          1.2523865823787006,
          1.0777130351123765
         ]
        },
        {
         "line": {
          "color": "black"
         },
         "mode": "markers",
         "name": "009 - org",
         "opacity": 0.4,
         "type": "scatter",
         "x": [
          89922
         ],
         "y": [
          1.2861402270824456
         ]
        },
        {
         "line": {
          "color": "rgb(0, 30, 150)"
         },
         "mode": "lines+markers",
         "name": "010",
         "opacity": 0.4,
         "type": "scatter",
         "x": [
          1215396,
          603876,
          71136,
          7866
         ],
         "y": [
          1.350609682803002,
          1.3119452647948704,
          1.209425476060491,
          1.0499198396543685
         ]
        },
        {
         "line": {
          "color": "black"
         },
         "mode": "markers",
         "name": "010 - org",
         "opacity": 0.4,
         "type": "scatter",
         "x": [
          87147
         ],
         "y": [
          1.2375415964430083
         ]
        },
        {
         "line": {
          "color": "rgb(0, 33, 152)"
         },
         "mode": "lines+markers",
         "name": "011",
         "opacity": 0.4,
         "type": "scatter",
         "x": [
          1215396,
          603876,
          71136,
          7866
         ],
         "y": [
          1.1375568783201708,
          1.1118020469550594,
          1.04441705108583,
          0.9323472545506319
         ]
        },
        {
         "line": {
          "color": "black"
         },
         "mode": "markers",
         "name": "011 - org",
         "opacity": 0.4,
         "type": "scatter",
         "x": [
          94488
         ],
         "y": [
          1.059428757221927
         ]
        },
        {
         "line": {
          "color": "rgb(0, 36, 154)"
         },
         "mode": "lines+markers",
         "name": "012",
         "opacity": 0.4,
         "type": "scatter",
         "x": [
          1215396,
          603876,
          71136,
          7866
         ],
         "y": [
          1.1851323093378023,
          1.1548181267323376,
          1.0818755158357614,
          0.9622627230971528
         ]
        },
        {
         "line": {
          "color": "black"
         },
         "mode": "markers",
         "name": "012 - org",
         "opacity": 0.4,
         "type": "scatter",
         "x": [
          103577
         ],
         "y": [
          1.0875840393995515
         ]
        },
        {
         "line": {
          "color": "rgb(0, 39, 156)"
         },
         "mode": "lines+markers",
         "name": "013",
         "opacity": 0.4,
         "type": "scatter",
         "x": [
          1215396,
          603876,
          71136,
          7866
         ],
         "y": [
          1.5266037507045251,
          1.4779585211642254,
          1.357839584704613,
          1.1628863206588897
         ]
        },
        {
         "line": {
          "color": "black"
         },
         "mode": "markers",
         "name": "013 - org",
         "opacity": 0.4,
         "type": "scatter",
         "x": [
          95445
         ],
         "y": [
          1.3730269902946923
         ]
        },
        {
         "line": {
          "color": "rgb(0, 42, 158)"
         },
         "mode": "lines+markers",
         "name": "014",
         "opacity": 0.4,
         "type": "scatter",
         "x": [
          1215396,
          603876,
          71136,
          7866
         ],
         "y": [
          1.3371772991485216,
          1.2972356060824597,
          1.2073221381082484,
          1.066402347442898
         ]
        },
        {
         "line": {
          "color": "black"
         },
         "mode": "markers",
         "name": "014 - org",
         "opacity": 0.4,
         "type": "scatter",
         "x": [
          106098
         ],
         "y": [
          1.2020501881781211
         ]
        },
        {
         "line": {
          "color": "rgb(0, 45, 160)"
         },
         "mode": "lines+markers",
         "name": "015",
         "opacity": 0.4,
         "type": "scatter",
         "x": [
          1215396,
          603876,
          71136,
          7866
         ],
         "y": [
          1.156419764172534,
          1.129785460776103,
          1.058486013571564,
          0.9394646676172949
         ]
        },
        {
         "line": {
          "color": "black"
         },
         "mode": "markers",
         "name": "015 - org",
         "opacity": 0.4,
         "type": "scatter",
         "x": [
          92209
         ],
         "y": [
          1.0757892924090053
         ]
        },
        {
         "line": {
          "color": "rgb(0, 48, 162)"
         },
         "mode": "lines+markers",
         "name": "016",
         "opacity": 0.4,
         "type": "scatter",
         "x": [
          1215396,
          603876,
          71136,
          7866
         ],
         "y": [
          1.2002604489828004,
          1.1694354279871755,
          1.095517579424338,
          0.975081216813948
         ]
        },
        {
         "line": {
          "color": "black"
         },
         "mode": "markers",
         "name": "016 - org",
         "opacity": 0.4,
         "type": "scatter",
         "x": [
          100932
         ],
         "y": [
          1.1060850975677277
         ]
        },
        {
         "line": {
          "color": "rgb(0, 51, 164)"
         },
         "mode": "lines+markers",
         "name": "017",
         "opacity": 0.4,
         "type": "scatter",
         "x": [
          1215396,
          603876,
          71136,
          7866
         ],
         "y": [
          1.329858695966272,
          1.2918040489603926,
          1.1868219000102207,
          1.0224748397220131
         ]
        },
        {
         "line": {
          "color": "black"
         },
         "mode": "markers",
         "name": "017 - org",
         "opacity": 0.4,
         "type": "scatter",
         "x": [
          88592
         ],
         "y": [
          1.218573689225339
         ]
        },
        {
         "line": {
          "color": "rgb(0, 54, 166)"
         },
         "mode": "lines+markers",
         "name": "018",
         "opacity": 0.4,
         "type": "scatter",
         "x": [
          1215396,
          603876,
          71136,
          7866
         ],
         "y": [
          1.1706070296839457,
          1.1414540676379772,
          1.073093747343446,
          0.9632555511533232
         ]
        },
        {
         "line": {
          "color": "black"
         },
         "mode": "markers",
         "name": "018 - org",
         "opacity": 0.4,
         "type": "scatter",
         "x": [
          105385
         ],
         "y": [
          1.0765566151327155
         ]
        },
        {
         "line": {
          "color": "rgb(0, 57, 168)"
         },
         "mode": "lines+markers",
         "name": "019",
         "opacity": 0.4,
         "type": "scatter",
         "x": [
          1215396,
          603876,
          71136,
          7866
         ],
         "y": [
          1.4449810484794692,
          1.400025524240199,
          1.2860409559350505,
          1.1003591534464712
         ]
        },
        {
         "line": {
          "color": "black"
         },
         "mode": "markers",
         "name": "019 - org",
         "opacity": 0.4,
         "type": "scatter",
         "x": [
          94785
         ],
         "y": [
          1.309800753398465
         ]
        },
        {
         "line": {
          "color": "rgb(0, 60, 170)"
         },
         "mode": "lines+markers",
         "name": "020",
         "opacity": 0.4,
         "type": "scatter",
         "x": [
          1215396,
          603876,
          71136,
          7866
         ],
         "y": [
          1.1915410218689555,
          1.1626114951669153,
          1.0817100527239836,
          0.9475806560855871
         ]
        },
        {
         "line": {
          "color": "black"
         },
         "mode": "markers",
         "name": "020 - org",
         "opacity": 0.4,
         "type": "scatter",
         "x": [
          87813
         ],
         "y": [
          1.1114075798444636
         ]
        },
        {
         "line": {
          "color": "rgb(0, 70, 174)"
         },
         "mode": "lines+markers",
         "name": "021",
         "opacity": 0.4,
         "type": "scatter",
         "x": [
          1215396,
          603876,
          71136,
          7866
         ],
         "y": [
          1.3218375282023744,
          1.2845614770953206,
          1.1821089183181817,
          1.020056977563294
         ]
        },
        {
         "line": {
          "color": "black"
         },
         "mode": "markers",
         "name": "021 - org",
         "opacity": 0.4,
         "type": "scatter",
         "x": [
          88909
         ],
         "y": [
          1.2155536386289147
         ]
        },
        {
         "line": {
          "color": "rgb(0, 79, 178)"
         },
         "mode": "lines+markers",
         "name": "022",
         "opacity": 0.4,
         "type": "scatter",
         "x": [
          1215396,
          603876,
          71136,
          7866
         ],
         "y": [
          1.3314370475036414,
          1.291895598556501,
          1.2021561383637531,
          1.0632002204595772
         ]
        },
        {
         "line": {
          "color": "black"
         },
         "mode": "markers",
         "name": "022 - org",
         "opacity": 0.4,
         "type": "scatter",
         "x": [
          106477
         ],
         "y": [
          1.1966222295337758
         ]
        },
        {
         "line": {
          "color": "rgb(1, 89, 183)"
         },
         "mode": "lines+markers",
         "name": "023",
         "opacity": 0.4,
         "type": "scatter",
         "x": [
          1215396,
          603876,
          71136,
          7866
         ],
         "y": [
          1.1822834118156427,
          1.1523652243087739,
          1.0819836028933631,
          0.9678331811587895
         ]
        },
        {
         "line": {
          "color": "black"
         },
         "mode": "markers",
         "name": "023 - org",
         "opacity": 0.4,
         "type": "scatter",
         "x": [
          103375
         ],
         "y": [
          1.0842557202278298
         ]
        },
        {
         "line": {
          "color": "rgb(1, 99, 187)"
         },
         "mode": "lines+markers",
         "name": "024",
         "opacity": 0.4,
         "type": "scatter",
         "x": [
          1215396,
          603876,
          71136,
          7866
         ],
         "y": [
          1.4181026335014872,
          1.3752835885761083,
          1.259207587488434,
          1.0786190683075916
         ]
        },
        {
         "line": {
          "color": "black"
         },
         "mode": "markers",
         "name": "024 - org",
         "opacity": 0.4,
         "type": "scatter",
         "x": [
          88500
         ],
         "y": [
          1.2941353378830263
         ]
        },
        {
         "line": {
          "color": "rgb(1, 109, 191)"
         },
         "mode": "lines+markers",
         "name": "025",
         "opacity": 0.4,
         "type": "scatter",
         "x": [
          1215396,
          603876,
          71136,
          7866
         ],
         "y": [
          1.431868959425841,
          1.3888880765791678,
          1.269136506005311,
          1.087327192470171
         ]
        },
        {
         "line": {
          "color": "black"
         },
         "mode": "markers",
         "name": "025 - org",
         "opacity": 0.4,
         "type": "scatter",
         "x": [
          86499
         ],
         "y": [
          1.3024854243417527
         ]
        },
        {
         "line": {
          "color": "rgb(2, 118, 195)"
         },
         "mode": "lines+markers",
         "name": "026",
         "opacity": 0.4,
         "type": "scatter",
         "x": [
          1215396,
          603876,
          71136,
          7866
         ],
         "y": [
          1.5012934050756561,
          1.4542946236543992,
          1.326672796069924,
          1.1275570702503044
         ]
        },
        {
         "line": {
          "color": "black"
         },
         "mode": "markers",
         "name": "026 - org",
         "opacity": 0.4,
         "type": "scatter",
         "x": [
          88139
         ],
         "y": [
          1.3578245570189915
         ]
        },
        {
         "line": {
          "color": "rgb(2, 128, 200)"
         },
         "mode": "lines+markers",
         "name": "027",
         "opacity": 0.4,
         "type": "scatter",
         "x": [
          1215396,
          603876,
          71136,
          7866
         ],
         "y": [
          1.436254547440815,
          1.3929544474429418,
          1.2705827356552466,
          1.0967713403512995
         ]
        },
        {
         "line": {
          "color": "black"
         },
         "mode": "markers",
         "name": "027 - org",
         "opacity": 0.4,
         "type": "scatter",
         "x": [
          87320
         ],
         "y": [
          1.3064143641791908
         ]
        },
        {
         "line": {
          "color": "rgb(2, 138, 204)"
         },
         "mode": "lines+markers",
         "name": "028",
         "opacity": 0.4,
         "type": "scatter",
         "x": [
          1215396,
          603876,
          71136,
          7866
         ],
         "y": [
          1.3589494775734994,
          1.3175121215185315,
          1.2195915694100121,
          1.0644116925879206
         ]
        },
        {
         "line": {
          "color": "black"
         },
         "mode": "markers",
         "name": "028 - org",
         "opacity": 0.4,
         "type": "scatter",
         "x": [
          104826
         ],
         "y": [
          1.225871479778391
         ]
        },
        {
         "line": {
          "color": "rgb(2, 148, 208)"
         },
         "mode": "lines+markers",
         "name": "029",
         "opacity": 0.4,
         "type": "scatter",
         "x": [
          1215396,
          603876,
          71136,
          7866
         ],
         "y": [
          1.3483411355975994,
          1.3104671481161572,
          1.20598389508501,
          1.0388568950490693
         ]
        },
        {
         "line": {
          "color": "black"
         },
         "mode": "markers",
         "name": "029 - org",
         "opacity": 0.4,
         "type": "scatter",
         "x": [
          87261
         ],
         "y": [
          1.2383726149437775
         ]
        },
        {
         "line": {
          "color": "rgb(2, 157, 212)"
         },
         "mode": "lines+markers",
         "name": "030",
         "opacity": 0.4,
         "type": "scatter",
         "x": [
          1215396,
          603876,
          71136,
          7866
         ],
         "y": [
          1.1569541811431587,
          1.1295497657370288,
          1.0565574414055454,
          0.9354948903145451
         ]
        },
        {
         "line": {
          "color": "black"
         },
         "mode": "markers",
         "name": "030 - org",
         "opacity": 0.4,
         "type": "scatter",
         "x": [
          90199
         ],
         "y": [
          1.0762527405870053
         ]
        },
        {
         "line": {
          "color": "rgb(3, 167, 217)"
         },
         "mode": "lines+markers",
         "name": "031",
         "opacity": 0.4,
         "type": "scatter",
         "x": [
          1215396,
          603876,
          71136,
          7866
         ],
         "y": [
          1.1943404633149568,
          1.1654522349243384,
          1.0841875180852991,
          0.9524673461664325
         ]
        },
        {
         "line": {
          "color": "black"
         },
         "mode": "markers",
         "name": "031 - org",
         "opacity": 0.4,
         "type": "scatter",
         "x": [
          87939
         ],
         "y": [
          1.1141745403072698
         ]
        },
        {
         "line": {
          "color": "rgb(3, 177, 221)"
         },
         "mode": "lines+markers",
         "name": "032",
         "opacity": 0.4,
         "type": "scatter",
         "x": [
          1215396,
          603876,
          71136,
          7866
         ],
         "y": [
          1.4999361355634921,
          1.4533369604505035,
          1.325726541145372,
          1.1279739469949701
         ]
        },
        {
         "line": {
          "color": "black"
         },
         "mode": "markers",
         "name": "032 - org",
         "opacity": 0.4,
         "type": "scatter",
         "x": [
          87972
         ],
         "y": [
          1.360943449303562
         ]
        },
        {
         "line": {
          "color": "rgb(3, 187, 225)"
         },
         "mode": "lines+markers",
         "name": "033",
         "opacity": 0.4,
         "type": "scatter",
         "x": [
          1215396,
          603876,
          71136,
          7866
         ],
         "y": [
          1.4290261016793515,
          1.3863034242582974,
          1.2679377023290381,
          1.0815931923933821
         ]
        },
        {
         "line": {
          "color": "black"
         },
         "mode": "markers",
         "name": "033 - org",
         "opacity": 0.4,
         "type": "scatter",
         "x": [
          88060
         ],
         "y": [
          1.3020143312681431
         ]
        },
        {
         "line": {
          "color": "rgb(4, 196, 230)"
         },
         "mode": "lines+markers",
         "name": "034",
         "opacity": 0.4,
         "type": "scatter",
         "x": [
          1215396,
          603876,
          71136,
          7866
         ],
         "y": [
          1.3156579551410332,
          1.2765331483134925,
          1.1908007971216137,
          1.0567420969152272
         ]
        },
        {
         "line": {
          "color": "black"
         },
         "mode": "markers",
         "name": "034 - org",
         "opacity": 0.4,
         "type": "scatter",
         "x": [
          107881
         ],
         "y": [
          1.177624477719638
         ]
        },
        {
         "line": {
          "color": "rgb(4, 206, 234)"
         },
         "mode": "lines+markers",
         "name": "035",
         "opacity": 0.4,
         "type": "scatter",
         "x": [
          1215396,
          603876,
          71136,
          7866
         ],
         "y": [
          1.3042506955386906,
          1.2680197881282687,
          1.1730230137651378,
          1.0222828914125337
         ]
        },
        {
         "line": {
          "color": "black"
         },
         "mode": "markers",
         "name": "035 - org",
         "opacity": 0.4,
         "type": "scatter",
         "x": [
          91350
         ],
         "y": [
          1.19840599511685
         ]
        },
        {
         "line": {
          "color": "rgb(4, 216, 238)"
         },
         "mode": "lines+markers",
         "name": "036",
         "opacity": 0.4,
         "type": "scatter",
         "x": [
          1215396,
          603876,
          71136,
          7866
         ],
         "y": [
          1.3504159389120785,
          1.3120135087670244,
          1.210075253490478,
          1.0572171644131314
         ]
        },
        {
         "line": {
          "color": "black"
         },
         "mode": "markers",
         "name": "036 - org",
         "opacity": 0.4,
         "type": "scatter",
         "x": [
          86839
         ],
         "y": [
          1.2429252872038563
         ]
        },
        {
         "line": {
          "color": "rgb(4, 226, 242)"
         },
         "mode": "lines+markers",
         "name": "037",
         "opacity": 0.4,
         "type": "scatter",
         "x": [
          1215396,
          603876,
          71136,
          7866
         ],
         "y": [
          1.3394641635003413,
          1.2988964413926252,
          1.2054236371979385,
          1.0537211164733793
         ]
        },
        {
         "line": {
          "color": "black"
         },
         "mode": "markers",
         "name": "037 - org",
         "opacity": 0.4,
         "type": "scatter",
         "x": [
          105607
         ],
         "y": [
          1.2055367328397293
         ]
        },
        {
         "line": {
          "color": "rgb(4, 235, 246)"
         },
         "mode": "lines+markers",
         "name": "038",
         "opacity": 0.4,
         "type": "scatter",
         "x": [
          1215396,
          603876,
          71136,
          7866
         ],
         "y": [
          1.1665639157295271,
          1.1375643913441078,
          1.0699393162566113,
          0.9612695544422973
         ]
        },
        {
         "line": {
          "color": "black"
         },
         "mode": "markers",
         "name": "038 - org",
         "opacity": 0.4,
         "type": "scatter",
         "x": [
          104739
         ],
         "y": [
          1.0754093335530501
         ]
        },
        {
         "line": {
          "color": "rgb(5, 245, 251)"
         },
         "mode": "lines+markers",
         "name": "039",
         "opacity": 0.4,
         "type": "scatter",
         "x": [
          1215396,
          603876,
          71136,
          7866
         ],
         "y": [
          1.5041538919264945,
          1.4573470445865193,
          1.3273214158211344,
          1.1189928751624056
         ]
        },
        {
         "line": {
          "color": "black"
         },
         "mode": "markers",
         "name": "039 - org",
         "opacity": 0.4,
         "type": "scatter",
         "x": [
          86913
         ],
         "y": [
          1.37082032372609
         ]
        },
        {
         "line": {
          "color": "rgb(5, 255, 255)"
         },
         "mode": "lines+markers",
         "name": "040",
         "opacity": 0.4,
         "type": "scatter",
         "x": [
          1215396,
          603876,
          71136,
          7866
         ],
         "y": [
          1.3087655548408734,
          1.2716424662028445,
          1.1717086359592765,
          1.0142230961408287
         ]
        },
        {
         "line": {
          "color": "black"
         },
         "mode": "markers",
         "name": "040 - org",
         "opacity": 0.4,
         "type": "scatter",
         "x": [
          90406
         ],
         "y": [
          1.2006509366188003
         ]
        },
        {
         "line": {
          "color": "rgb(17, 255, 242)"
         },
         "mode": "lines+markers",
         "name": "041",
         "opacity": 0.4,
         "type": "scatter",
         "x": [
          1215396,
          603876,
          71136,
          7866
         ],
         "y": [
          1.2842536101526922,
          1.248800270361248,
          1.1547770950917642,
          1.0045644706757406
         ]
        },
        {
         "line": {
          "color": "black"
         },
         "mode": "markers",
         "name": "041 - org",
         "opacity": 0.4,
         "type": "scatter",
         "x": [
          93165
         ],
         "y": [
          1.1822691923756419
         ]
        },
        {
         "line": {
          "color": "rgb(30, 255, 230)"
         },
         "mode": "lines+markers",
         "name": "042",
         "opacity": 0.4,
         "type": "scatter",
         "x": [
          1215396,
          603876,
          71136,
          7866
         ],
         "y": [
          1.3248790097818384,
          1.2875634386350048,
          1.1850065098588176,
          1.0200734657375654
         ]
        },
        {
         "line": {
          "color": "black"
         },
         "mode": "markers",
         "name": "042 - org",
         "opacity": 0.4,
         "type": "scatter",
         "x": [
          88664
         ],
         "y": [
          1.218315682236847
         ]
        },
        {
         "line": {
          "color": "rgb(42, 255, 217)"
         },
         "mode": "lines+markers",
         "name": "043",
         "opacity": 0.4,
         "type": "scatter",
         "x": [
          1215396,
          603876,
          71136,
          7866
         ],
         "y": [
          1.2147763381736971,
          1.1836238473955674,
          1.101112808214096,
          0.9681504968041825
         ]
        },
        {
         "line": {
          "color": "black"
         },
         "mode": "markers",
         "name": "043 - org",
         "opacity": 0.4,
         "type": "scatter",
         "x": [
          92307
         ],
         "y": [
          1.1292228087806946
         ]
        },
        {
         "line": {
          "color": "rgb(55, 255, 204)"
         },
         "mode": "lines+markers",
         "name": "044",
         "opacity": 0.4,
         "type": "scatter",
         "x": [
          1215396,
          603876,
          71136,
          7866
         ],
         "y": [
          1.4506322379369716,
          1.4064940681692921,
          1.2951656376153375,
          1.1186222880243504
         ]
        },
        {
         "line": {
          "color": "black"
         },
         "mode": "markers",
         "name": "044 - org",
         "opacity": 0.4,
         "type": "scatter",
         "x": [
          94680
         ],
         "y": [
          1.3164321714213467
         ]
        },
        {
         "line": {
          "color": "rgb(67, 255, 191)"
         },
         "mode": "lines+markers",
         "name": "045",
         "opacity": 0.4,
         "type": "scatter",
         "x": [
          1215396,
          603876,
          71136,
          7866
         ],
         "y": [
          1.3239611626585288,
          1.2875951074802807,
          1.187832132329395,
          1.0320127698152757
         ]
        },
        {
         "line": {
          "color": "black"
         },
         "mode": "markers",
         "name": "045 - org",
         "opacity": 0.4,
         "type": "scatter",
         "x": [
          89857
         ],
         "y": [
          1.2171667716794214
         ]
        },
        {
         "line": {
          "color": "rgb(80, 255, 179)"
         },
         "mode": "lines+markers",
         "name": "046",
         "opacity": 0.4,
         "type": "scatter",
         "x": [
          1215396,
          603876,
          71136,
          7866
         ],
         "y": [
          1.3487952216715389,
          1.3110262268288964,
          1.2039655815466048,
          1.0456103728962296
         ]
        },
        {
         "line": {
          "color": "black"
         },
         "mode": "markers",
         "name": "046 - org",
         "opacity": 0.4,
         "type": "scatter",
         "x": [
          87122
         ],
         "y": [
          1.2388582822766572
         ]
        },
        {
         "line": {
          "color": "rgb(92, 255, 166)"
         },
         "mode": "lines+markers",
         "name": "047",
         "opacity": 0.4,
         "type": "scatter",
         "x": [
          1215396,
          603876,
          71136,
          7866
         ],
         "y": [
          1.2029123604586738,
          1.1716529282066066,
          1.0949755768960399,
          0.9691241378075892
         ]
        },
        {
         "line": {
          "color": "black"
         },
         "mode": "markers",
         "name": "047 - org",
         "opacity": 0.4,
         "type": "scatter",
         "x": [
          101127
         ],
         "y": [
          1.1014926580173443
         ]
        },
        {
         "line": {
          "color": "rgb(105, 255, 153)"
         },
         "mode": "lines+markers",
         "name": "048",
         "opacity": 0.4,
         "type": "scatter",
         "x": [
          1215396,
          603876,
          71136,
          7866
         ],
         "y": [
          1.3104807462581967,
          1.2720119551748421,
          1.1862894347984927,
          1.0547763385961635
         ]
        },
        {
         "line": {
          "color": "black"
         },
         "mode": "markers",
         "name": "048 - org",
         "opacity": 0.4,
         "type": "scatter",
         "x": [
          108222
         ],
         "y": [
          1.176595837124624
         ]
        },
        {
         "line": {
          "color": "rgb(117, 255, 140)"
         },
         "mode": "lines+markers",
         "name": "049",
         "opacity": 0.4,
         "type": "scatter",
         "x": [
          1215396,
          603876,
          71136,
          7866
         ],
         "y": [
          1.344662726599789,
          1.3061453848428006,
          1.2082439996636007,
          1.0524229339126911
         ]
        },
        {
         "line": {
          "color": "black"
         },
         "mode": "markers",
         "name": "049 - org",
         "opacity": 0.4,
         "type": "scatter",
         "x": [
          96176
         ],
         "y": [
          1.227264447135957
         ]
        },
        {
         "line": {
          "color": "rgb(130, 255, 128)"
         },
         "mode": "lines+markers",
         "name": "050",
         "opacity": 0.4,
         "type": "scatter",
         "x": [
          1215396,
          603876,
          71136,
          7866
         ],
         "y": [
          1.4971327651449284,
          1.4505586186716362,
          1.3235655959931423,
          1.1254016208383768
         ]
        },
        {
         "line": {
          "color": "black"
         },
         "mode": "markers",
         "name": "050 - org",
         "opacity": 0.4,
         "type": "scatter",
         "x": [
          88368
         ],
         "y": [
          1.3604492154794552
         ]
        },
        {
         "line": {
          "color": "rgb(142, 255, 115)"
         },
         "mode": "lines+markers",
         "name": "051",
         "opacity": 0.4,
         "type": "scatter",
         "x": [
          1215396,
          603876,
          71136,
          7866
         ],
         "y": [
          1.321635745451138,
          1.2827057766987375,
          1.1955400573286439,
          1.0599879589563022
         ]
        },
        {
         "line": {
          "color": "black"
         },
         "mode": "markers",
         "name": "051 - org",
         "opacity": 0.4,
         "type": "scatter",
         "x": [
          107894
         ],
         "y": [
          1.185899495332872
         ]
        },
        {
         "line": {
          "color": "rgb(155, 255, 102)"
         },
         "mode": "lines+markers",
         "name": "052",
         "opacity": 0.4,
         "type": "scatter",
         "x": [
          1215396,
          603876,
          71136,
          7866
         ],
         "y": [
          1.394360126570045,
          1.3514345901791163,
          1.2467790484690575,
          1.0786463624235836
         ]
        },
        {
         "line": {
          "color": "black"
         },
         "mode": "markers",
         "name": "052 - org",
         "opacity": 0.4,
         "type": "scatter",
         "x": [
          100661
         ],
         "y": [
          1.2532054490730387
         ]
        },
        {
         "line": {
          "color": "rgb(167, 255, 89)"
         },
         "mode": "lines+markers",
         "name": "053",
         "opacity": 0.4,
         "type": "scatter",
         "x": [
          1215396,
          603876,
          71136,
          7866
         ],
         "y": [
          1.491676853071827,
          1.4453833232131073,
          1.3199041896694914,
          1.1163340658935448
         ]
        },
        {
         "line": {
          "color": "black"
         },
         "mode": "markers",
         "name": "053 - org",
         "opacity": 0.4,
         "type": "scatter",
         "x": [
          89170
         ],
         "y": [
          1.3551813908790442
         ]
        },
        {
         "line": {
          "color": "rgb(180, 255, 77)"
         },
         "mode": "lines+markers",
         "name": "054",
         "opacity": 0.4,
         "type": "scatter",
         "x": [
          1215396,
          603876,
          71136,
          7866
         ],
         "y": [
          1.408729084415083,
          1.3653352223334598,
          1.2585044477397873,
          1.0860156730547659
         ]
        },
        {
         "line": {
          "color": "black"
         },
         "mode": "markers",
         "name": "054 - org",
         "opacity": 0.4,
         "type": "scatter",
         "x": [
          99237
         ],
         "y": [
          1.2703486178702659
         ]
        },
        {
         "line": {
          "color": "rgb(192, 255, 64)"
         },
         "mode": "lines+markers",
         "name": "055",
         "opacity": 0.4,
         "type": "scatter",
         "x": [
          1215396,
          603876,
          71136,
          7866
         ],
         "y": [
          1.165610537457773,
          1.13715414695314,
          1.0658463908884988,
          0.9478557958566252
         ]
        },
        {
         "line": {
          "color": "black"
         },
         "mode": "markers",
         "name": "055 - org",
         "opacity": 0.4,
         "type": "scatter",
         "x": [
          97983
         ],
         "y": [
          1.0756162890503942
         ]
        },
        {
         "line": {
          "color": "rgb(205, 255, 51)"
         },
         "mode": "lines+markers",
         "name": "056",
         "opacity": 0.4,
         "type": "scatter",
         "x": [
          1215396,
          603876,
          71136,
          7866
         ],
         "y": [
          1.3373302070466608,
          1.2993324773464696,
          1.1969735999454267,
          1.0360237755585513
         ]
        },
        {
         "line": {
          "color": "black"
         },
         "mode": "markers",
         "name": "056 - org",
         "opacity": 0.4,
         "type": "scatter",
         "x": [
          88696
         ],
         "y": [
          1.236491541435107
         ]
        },
        {
         "line": {
          "color": "rgb(217, 255, 38)"
         },
         "mode": "lines+markers",
         "name": "057",
         "opacity": 0.4,
         "type": "scatter",
         "x": [
          1215396,
          603876,
          71136,
          7866
         ],
         "y": [
          1.224156820364475,
          1.1931921198998778,
          1.1090401948994677,
          0.972457820146968
         ]
        },
        {
         "line": {
          "color": "black"
         },
         "mode": "markers",
         "name": "057 - org",
         "opacity": 0.4,
         "type": "scatter",
         "x": [
          90480
         ],
         "y": [
          1.1321345142581318
         ]
        },
        {
         "line": {
          "color": "rgb(230, 255, 26)"
         },
         "mode": "lines+markers",
         "name": "058",
         "opacity": 0.4,
         "type": "scatter",
         "x": [
          1215396,
          603876,
          71136,
          7866
         ],
         "y": [
          1.3181213414638302,
          1.2798663796771712,
          1.1857039538090188,
          1.0369250909819714
         ]
        },
        {
         "line": {
          "color": "black"
         },
         "mode": "markers",
         "name": "058 - org",
         "opacity": 0.4,
         "type": "scatter",
         "x": [
          99055
         ],
         "y": [
          1.20104009068819
         ]
        },
        {
         "line": {
          "color": "rgb(242, 255, 13)"
         },
         "mode": "lines+markers",
         "name": "059",
         "opacity": 0.4,
         "type": "scatter",
         "x": [
          1215396,
          603876,
          71136,
          7866
         ],
         "y": [
          1.4615110850875899,
          1.4153889898916805,
          1.3086303171322355,
          1.1362610197168714
         ]
        },
        {
         "line": {
          "color": "black"
         },
         "mode": "markers",
         "name": "059 - org",
         "opacity": 0.4,
         "type": "scatter",
         "x": [
          103760
         ],
         "y": [
          1.3026975425983103
         ]
        },
        {
         "line": {
          "color": "rgb(255, 255, 0)"
         },
         "mode": "lines+markers",
         "name": "060",
         "opacity": 0.4,
         "type": "scatter",
         "x": [
          1215396,
          603876,
          71136,
          7866
         ],
         "y": [
          1.48133041216572,
          1.4353663423033736,
          1.3127386164240038,
          1.1163340427473667
         ]
        },
        {
         "line": {
          "color": "black"
         },
         "mode": "markers",
         "name": "060 - org",
         "opacity": 0.4,
         "type": "scatter",
         "x": [
          90706
         ],
         "y": [
          1.3451722307002079
         ]
        },
        {
         "line": {
          "color": "rgb(255, 242, 0)"
         },
         "mode": "lines+markers",
         "name": "061",
         "opacity": 0.4,
         "type": "scatter",
         "x": [
          1215396,
          603876,
          71136,
          7866
         ],
         "y": [
          1.4033748700957713,
          1.361051610548064,
          1.2503005540834624,
          1.0757356662195168
         ]
        },
        {
         "line": {
          "color": "black"
         },
         "mode": "markers",
         "name": "061 - org",
         "opacity": 0.4,
         "type": "scatter",
         "x": [
          90288
         ],
         "y": [
          1.2780755524304024
         ]
        },
        {
         "line": {
          "color": "rgb(254, 230, 0)"
         },
         "mode": "lines+markers",
         "name": "062",
         "opacity": 0.4,
         "type": "scatter",
         "x": [
          1215396,
          603876,
          71136,
          7866
         ],
         "y": [
          1.1474564427955423,
          1.1208969108995295,
          1.0498390236019333,
          0.9322559607749251
         ]
        },
        {
         "line": {
          "color": "black"
         },
         "mode": "markers",
         "name": "062 - org",
         "opacity": 0.4,
         "type": "scatter",
         "x": [
          92482
         ],
         "y": [
          1.0719424900204662
         ]
        },
        {
         "line": {
          "color": "rgb(254, 217, 0)"
         },
         "mode": "lines+markers",
         "name": "063",
         "opacity": 0.4,
         "type": "scatter",
         "x": [
          1215396,
          603876,
          71136,
          7866
         ],
         "y": [
          1.5067804543125856,
          1.459488525547441,
          1.3305433667838267,
          1.1201895011745773
         ]
        },
        {
         "line": {
          "color": "black"
         },
         "mode": "markers",
         "name": "063 - org",
         "opacity": 0.4,
         "type": "scatter",
         "x": [
          87198
         ],
         "y": [
          1.3690804028636918
         ]
        },
        {
         "line": {
          "color": "rgb(254, 204, 0)"
         },
         "mode": "lines+markers",
         "name": "064",
         "opacity": 0.4,
         "type": "scatter",
         "x": [
          1215396,
          603876,
          71136,
          7866
         ],
         "y": [
          1.3215837204893928,
          1.2836820742322923,
          1.1888470218473768,
          1.0381131835759858
         ]
        },
        {
         "line": {
          "color": "black"
         },
         "mode": "markers",
         "name": "064 - org",
         "opacity": 0.4,
         "type": "scatter",
         "x": [
          98134
         ],
         "y": [
          1.2037524313885453
         ]
        },
        {
         "line": {
          "color": "rgb(254, 191, 0)"
         },
         "mode": "lines+markers",
         "name": "065",
         "opacity": 0.4,
         "type": "scatter",
         "x": [
          1215396,
          603876,
          71136,
          7866
         ],
         "y": [
          1.182703982169786,
          1.1537399154061805,
          1.0784474717360302,
          0.9562069612905129
         ]
        },
        {
         "line": {
          "color": "black"
         },
         "mode": "markers",
         "name": "065 - org",
         "opacity": 0.4,
         "type": "scatter",
         "x": [
          95637
         ],
         "y": [
          1.0981721451809527
         ]
        },
        {
         "line": {
          "color": "rgb(254, 179, 0)"
         },
         "mode": "lines+markers",
         "name": "066",
         "opacity": 0.4,
         "type": "scatter",
         "x": [
          1215396,
          603876,
          71136,
          7866
         ],
         "y": [
          1.344081562798811,
          1.3034115827420925,
          1.2086910182874144,
          1.0564997960372848
         ]
        },
        {
         "line": {
          "color": "black"
         },
         "mode": "markers",
         "name": "066 - org",
         "opacity": 0.4,
         "type": "scatter",
         "x": [
          104788
         ],
         "y": [
          1.209371388362608
         ]
        },
        {
         "line": {
          "color": "rgb(253, 166, 0)"
         },
         "mode": "lines+markers",
         "name": "067",
         "opacity": 0.4,
         "type": "scatter",
         "x": [
          1215396,
          603876,
          71136,
          7866
         ],
         "y": [
          1.492977875741223,
          1.4457230008231445,
          1.3325196241205086,
          1.149514594632868
         ]
        },
        {
         "line": {
          "color": "black"
         },
         "mode": "markers",
         "name": "067 - org",
         "opacity": 0.4,
         "type": "scatter",
         "x": [
          100309
         ],
         "y": [
          1.3432110026840123
         ]
        },
        {
         "line": {
          "color": "rgb(253, 153, 0)"
         },
         "mode": "lines+markers",
         "name": "068",
         "opacity": 0.4,
         "type": "scatter",
         "x": [
          1215396,
          603876,
          71136,
          7866
         ],
         "y": [
          1.2712835933424567,
          1.236321029405797,
          1.1451372339156527,
          0.997883323936772
         ]
        },
        {
         "line": {
          "color": "black"
         },
         "mode": "markers",
         "name": "068 - org",
         "opacity": 0.4,
         "type": "scatter",
         "x": [
          94152
         ],
         "y": [
          1.1700750593704343
         ]
        },
        {
         "line": {
          "color": "rgb(253, 140, 0)"
         },
         "mode": "lines+markers",
         "name": "069",
         "opacity": 0.4,
         "type": "scatter",
         "x": [
          1215396,
          603876,
          71136,
          7866
         ],
         "y": [
          1.4179487472957821,
          1.3757964247943204,
          1.2602366056528438,
          1.0795194829298635
         ]
        },
        {
         "line": {
          "color": "black"
         },
         "mode": "markers",
         "name": "069 - org",
         "opacity": 0.4,
         "type": "scatter",
         "x": [
          88373
         ],
         "y": [
          1.2956558348510958
         ]
        },
        {
         "line": {
          "color": "rgb(252, 128, 0)"
         },
         "mode": "lines+markers",
         "name": "070",
         "opacity": 0.4,
         "type": "scatter",
         "x": [
          1215396,
          603876,
          71136,
          7866
         ],
         "y": [
          1.265240343519724,
          1.2319398768612515,
          1.1386475358515802,
          0.9891393824992649
         ]
        },
        {
         "line": {
          "color": "black"
         },
         "mode": "markers",
         "name": "070 - org",
         "opacity": 0.4,
         "type": "scatter",
         "x": [
          87522
         ],
         "y": [
          1.1721990528999198
         ]
        },
        {
         "line": {
          "color": "rgb(252, 115, 0)"
         },
         "mode": "lines+markers",
         "name": "071",
         "opacity": 0.4,
         "type": "scatter",
         "x": [
          1215396,
          603876,
          71136,
          7866
         ],
         "y": [
          1.3447445363839725,
          1.3064950212093702,
          1.2029009225898435,
          1.0398882756669547
         ]
        },
        {
         "line": {
          "color": "black"
         },
         "mode": "markers",
         "name": "071 - org",
         "opacity": 0.4,
         "type": "scatter",
         "x": [
          88366
         ],
         "y": [
          1.2374319077206057
         ]
        },
        {
         "line": {
          "color": "rgb(252, 102, 0)"
         },
         "mode": "lines+markers",
         "name": "072",
         "opacity": 0.4,
         "type": "scatter",
         "x": [
          1215396,
          603876,
          71136,
          7866
         ],
         "y": [
          1.478718728112596,
          1.4317877410104998,
          1.321338789647028,
          1.1413910289013829
         ]
        },
        {
         "line": {
          "color": "black"
         },
         "mode": "markers",
         "name": "072 - org",
         "opacity": 0.4,
         "type": "scatter",
         "x": [
          101709
         ],
         "y": [
          1.3208907421019016
         ]
        },
        {
         "line": {
          "color": "rgb(252, 89, 0)"
         },
         "mode": "lines+markers",
         "name": "073",
         "opacity": 0.4,
         "type": "scatter",
         "x": [
          1215396,
          603876,
          71136,
          7866
         ],
         "y": [
          1.1189432400505188,
          1.0938670600138196,
          1.0302393261003668,
          0.9231547272477788
         ]
        },
        {
         "line": {
          "color": "black"
         },
         "mode": "markers",
         "name": "073 - org",
         "opacity": 0.4,
         "type": "scatter",
         "x": [
          96056
         ],
         "y": [
          1.0406243276145544
         ]
        },
        {
         "line": {
          "color": "rgb(251, 77, 0)"
         },
         "mode": "lines+markers",
         "name": "074",
         "opacity": 0.4,
         "type": "scatter",
         "x": [
          1215396,
          603876,
          71136,
          7866
         ],
         "y": [
          1.349866290880197,
          1.3118477475793426,
          1.206376254626523,
          1.0418408665467496
         ]
        },
        {
         "line": {
          "color": "black"
         },
         "mode": "markers",
         "name": "074 - org",
         "opacity": 0.4,
         "type": "scatter",
         "x": [
          87107
         ],
         "y": [
          1.244369932531071
         ]
        },
        {
         "line": {
          "color": "rgb(251, 64, 0)"
         },
         "mode": "lines+markers",
         "name": "075",
         "opacity": 0.4,
         "type": "scatter",
         "x": [
          1215396,
          603876,
          71136,
          7866
         ],
         "y": [
          1.2398611057447326,
          1.2068074926342802,
          1.1225274368558111,
          0.9851155967622047
         ]
        },
        {
         "line": {
          "color": "black"
         },
         "mode": "markers",
         "name": "075 - org",
         "opacity": 0.4,
         "type": "scatter",
         "x": [
          97416
         ],
         "y": [
          1.1428828762208576
         ]
        },
        {
         "line": {
          "color": "rgb(251, 51, 0)"
         },
         "mode": "lines+markers",
         "name": "076",
         "opacity": 0.4,
         "type": "scatter",
         "x": [
          1215396,
          603876,
          71136,
          7866
         ],
         "y": [
          1.4500964490722845,
          1.4048407072531701,
          1.2892579687536039,
          1.10132099161521
         ]
        },
        {
         "line": {
          "color": "black"
         },
         "mode": "markers",
         "name": "076 - org",
         "opacity": 0.4,
         "type": "scatter",
         "x": [
          94167
         ],
         "y": [
          1.3127846350888595
         ]
        },
        {
         "line": {
          "color": "rgb(251, 38, 0)"
         },
         "mode": "lines+markers",
         "name": "077",
         "opacity": 0.4,
         "type": "scatter",
         "x": [
          1215396,
          603876,
          71136,
          7866
         ],
         "y": [
          1.3316674831113111,
          1.2941480826373941,
          1.1889346656318345,
          1.0236037704337466
         ]
        },
        {
         "line": {
          "color": "black"
         },
         "mode": "markers",
         "name": "077 - org",
         "opacity": 0.4,
         "type": "scatter",
         "x": [
          88486
         ],
         "y": [
          1.2248039707459786
         ]
        },
        {
         "line": {
          "color": "rgb(250, 26, 0)"
         },
         "mode": "lines+markers",
         "name": "078",
         "opacity": 0.4,
         "type": "scatter",
         "x": [
          1215396,
          603876,
          71136,
          7866
         ],
         "y": [
          1.5050763449564035,
          1.458332655617787,
          1.3257625213537978,
          1.1292146852114442
         ]
        },
        {
         "line": {
          "color": "black"
         },
         "mode": "markers",
         "name": "078 - org",
         "opacity": 0.4,
         "type": "scatter",
         "x": [
          87057
         ],
         "y": [
          1.3605567458000516
         ]
        },
        {
         "line": {
          "color": "rgb(250, 13, 0)"
         },
         "mode": "lines+markers",
         "name": "079",
         "opacity": 0.4,
         "type": "scatter",
         "x": [
          1215396,
          603876,
          71136,
          7866
         ],
         "y": [
          1.404385825647405,
          1.3625423722406487,
          1.251115085591959,
          1.0772945700487877
         ]
        },
        {
         "line": {
          "color": "black"
         },
         "mode": "markers",
         "name": "079 - org",
         "opacity": 0.4,
         "type": "scatter",
         "x": [
          90306
         ],
         "y": [
          1.2823931969674196
         ]
        },
        {
         "line": {
          "color": "rgb(250, 0, 0)"
         },
         "mode": "lines+markers",
         "name": "080",
         "opacity": 0.4,
         "type": "scatter",
         "x": [
          1215396,
          603876,
          71136,
          7866
         ],
         "y": [
          1.2819115156476217,
          1.2466457144595042,
          1.1558788276409961,
          1.0116471221079613
         ]
        },
        {
         "line": {
          "color": "black"
         },
         "mode": "markers",
         "name": "080 - org",
         "opacity": 0.4,
         "type": "scatter",
         "x": [
          93655
         ],
         "y": [
          1.1777592277392905
         ]
        },
        {
         "line": {
          "color": "rgb(244, 0, 0)"
         },
         "mode": "lines+markers",
         "name": "081",
         "opacity": 0.4,
         "type": "scatter",
         "x": [
          1215396,
          603876,
          71136,
          7866
         ],
         "y": [
          1.3242935072754227,
          1.284267337474369,
          1.1929307576331698,
          1.0471279685342163
         ]
        },
        {
         "line": {
          "color": "black"
         },
         "mode": "markers",
         "name": "081 - org",
         "opacity": 0.4,
         "type": "scatter",
         "x": [
          106760
         ],
         "y": [
          1.1894889087678058
         ]
        },
        {
         "line": {
          "color": "rgb(238, 0, 0)"
         },
         "mode": "lines+markers",
         "name": "082",
         "opacity": 0.4,
         "type": "scatter",
         "x": [
          1215396,
          603876,
          71136,
          7866
         ],
         "y": [
          1.20859279483686,
          1.177644090475479,
          1.0970023698801974,
          0.9661093560580413
         ]
        },
        {
         "line": {
          "color": "black"
         },
         "mode": "markers",
         "name": "082 - org",
         "opacity": 0.4,
         "type": "scatter",
         "x": [
          93018
         ],
         "y": [
          1.1175401021135822
         ]
        },
        {
         "line": {
          "color": "rgb(232, 0, 0)"
         },
         "mode": "lines+markers",
         "name": "083",
         "opacity": 0.4,
         "type": "scatter",
         "x": [
          1215396,
          603876,
          71136,
          7866
         ],
         "y": [
          1.23318408214438,
          1.2003617969532367,
          1.117427117384112,
          0.9817458405834983
         ]
        },
        {
         "line": {
          "color": "black"
         },
         "mode": "markers",
         "name": "083 - org",
         "opacity": 0.4,
         "type": "scatter",
         "x": [
          97854
         ],
         "y": [
          1.1304733076864877
         ]
        },
        {
         "line": {
          "color": "rgb(226, 0, 0)"
         },
         "mode": "lines+markers",
         "name": "084",
         "opacity": 0.4,
         "type": "scatter",
         "x": [
          1215396,
          603876,
          71136,
          7866
         ],
         "y": [
          1.1527263111868233,
          1.1258661411616853,
          1.0536940049181938,
          0.9339569668315436
         ]
        },
        {
         "line": {
          "color": "black"
         },
         "mode": "markers",
         "name": "084 - org",
         "opacity": 0.4,
         "type": "scatter",
         "x": [
          91738
         ],
         "y": [
          1.0749119209197637
         ]
        },
        {
         "line": {
          "color": "rgb(220, 0, 0)"
         },
         "mode": "lines+markers",
         "name": "085",
         "opacity": 0.4,
         "type": "scatter",
         "x": [
          1215396,
          603876,
          71136,
          7866
         ],
         "y": [
          1.2106404059637732,
          1.179330818907854,
          1.1028045717612691,
          0.9796674212632046
         ]
        },
        {
         "line": {
          "color": "black"
         },
         "mode": "markers",
         "name": "085 - org",
         "opacity": 0.4,
         "type": "scatter",
         "x": [
          100769
         ],
         "y": [
          1.1134499610255737
         ]
        },
        {
         "line": {
          "color": "rgb(213, 0, 0)"
         },
         "mode": "lines+markers",
         "name": "086",
         "opacity": 0.4,
         "type": "scatter",
         "x": [
          1215396,
          603876,
          71136,
          7866
         ],
         "y": [
          1.4255858948016897,
          1.3831020708790713,
          1.264975049168305,
          1.0871156641834379
         ]
        },
        {
         "line": {
          "color": "black"
         },
         "mode": "markers",
         "name": "086 - org",
         "opacity": 0.4,
         "type": "scatter",
         "x": [
          88241
         ],
         "y": [
          1.3021943329419439
         ]
        },
        {
         "line": {
          "color": "rgb(207, 0, 0)"
         },
         "mode": "lines+markers",
         "name": "087",
         "opacity": 0.4,
         "type": "scatter",
         "x": [
          1215396,
          603876,
          71136,
          7866
         ],
         "y": [
          1.4053726959298576,
          1.3635630715594076,
          1.2509998295506348,
          1.076905141475691
         ]
        },
        {
         "line": {
          "color": "black"
         },
         "mode": "markers",
         "name": "087 - org",
         "opacity": 0.4,
         "type": "scatter",
         "x": [
          89770
         ],
         "y": [
          1.2847041943960882
         ]
        },
        {
         "line": {
          "color": "rgb(201, 0, 0)"
         },
         "mode": "lines+markers",
         "name": "088",
         "opacity": 0.4,
         "type": "scatter",
         "x": [
          1215396,
          603876,
          71136,
          7866
         ],
         "y": [
          1.3369986399209801,
          1.2995407503885366,
          1.197644576750252,
          1.0366981724104702
         ]
        },
        {
         "line": {
          "color": "black"
         },
         "mode": "markers",
         "name": "088 - org",
         "opacity": 0.4,
         "type": "scatter",
         "x": [
          87739
         ],
         "y": [
          1.2303278451990642
         ]
        },
        {
         "line": {
          "color": "rgb(195, 0, 0)"
         },
         "mode": "lines+markers",
         "name": "089",
         "opacity": 0.4,
         "type": "scatter",
         "x": [
          1215396,
          603876,
          71136,
          7866
         ],
         "y": [
          1.3227715576410626,
          1.285450431608607,
          1.185312152814209,
          1.0303468592432041
         ]
        },
        {
         "line": {
          "color": "black"
         },
         "mode": "markers",
         "name": "089 - org",
         "opacity": 0.4,
         "type": "scatter",
         "x": [
          89451
         ],
         "y": [
          1.2120244239100215
         ]
        },
        {
         "line": {
          "color": "rgb(189, 0, 0)"
         },
         "mode": "lines+markers",
         "name": "090",
         "opacity": 0.4,
         "type": "scatter",
         "x": [
          1215396,
          603876,
          71136,
          7866
         ],
         "y": [
          1.4760399421947956,
          1.4291561545275153,
          1.3194702500347137,
          1.14056278828518
         ]
        },
        {
         "line": {
          "color": "black"
         },
         "mode": "markers",
         "name": "090 - org",
         "opacity": 0.4,
         "type": "scatter",
         "x": [
          101524
         ],
         "y": [
          1.318342143233146
         ]
        },
        {
         "line": {
          "color": "rgb(183, 0, 0)"
         },
         "mode": "lines+markers",
         "name": "091",
         "opacity": 0.4,
         "type": "scatter",
         "x": [
          1215396,
          603876,
          71136,
          7866
         ],
         "y": [
          1.2252729175324517,
          1.1933170155601869,
          1.1142648838622278,
          0.9870560304815372
         ]
        },
        {
         "line": {
          "color": "black"
         },
         "mode": "markers",
         "name": "091 - org",
         "opacity": 0.4,
         "type": "scatter",
         "x": [
          99732
         ],
         "y": [
          1.1239533029764983
         ]
        },
        {
         "line": {
          "color": "rgb(177, 0, 0)"
         },
         "mode": "lines+markers",
         "name": "092",
         "opacity": 0.4,
         "type": "scatter",
         "x": [
          1215396,
          603876,
          71136,
          7866
         ],
         "y": [
          1.4340387132974008,
          1.390851119859604,
          1.2779487188685745,
          1.1058410881467844
         ]
        },
        {
         "line": {
          "color": "black"
         },
         "mode": "markers",
         "name": "092 - org",
         "opacity": 0.4,
         "type": "scatter",
         "x": [
          87047
         ],
         "y": [
          1.3090448583029535
         ]
        },
        {
         "line": {
          "color": "rgb(171, 0, 0)"
         },
         "mode": "lines+markers",
         "name": "093",
         "opacity": 0.4,
         "type": "scatter",
         "x": [
          1215396,
          603876,
          71136,
          7866
         ],
         "y": [
          1.3487415697358018,
          1.3104270461084513,
          1.20418972888174,
          1.0374456354743218
         ]
        },
        {
         "line": {
          "color": "black"
         },
         "mode": "markers",
         "name": "093 - org",
         "opacity": 0.4,
         "type": "scatter",
         "x": [
          87044
         ],
         "y": [
          1.235353042336675
         ]
        },
        {
         "line": {
          "color": "rgb(165, 0, 0)"
         },
         "mode": "lines+markers",
         "name": "094",
         "opacity": 0.4,
         "type": "scatter",
         "x": [
          1215396,
          603876,
          71136,
          7866
         ],
         "y": [
          1.148267218022192,
          1.1208831548205391,
          1.0536322646209904,
          0.9418905265983544
         ]
        },
        {
         "line": {
          "color": "black"
         },
         "mode": "markers",
         "name": "094 - org",
         "opacity": 0.4,
         "type": "scatter",
         "x": [
          99386
         ],
         "y": [
          1.0650450815431478
         ]
        },
        {
         "line": {
          "color": "rgb(159, 0, 0)"
         },
         "mode": "lines+markers",
         "name": "095",
         "opacity": 0.4,
         "type": "scatter",
         "x": [
          1215396,
          603876,
          71136,
          7866
         ],
         "y": [
          1.4246403297993808,
          1.3816310362408335,
          1.2640404480488152,
          1.08610855213269
         ]
        },
        {
         "line": {
          "color": "black"
         },
         "mode": "markers",
         "name": "095 - org",
         "opacity": 0.4,
         "type": "scatter",
         "x": [
          86935
         ],
         "y": [
          1.294254723510141
         ]
        },
        {
         "line": {
          "color": "rgb(152, 0, 0)"
         },
         "mode": "lines+markers",
         "name": "096",
         "opacity": 0.4,
         "type": "scatter",
         "x": [
          1215396,
          603876,
          71136,
          7866
         ],
         "y": [
          1.3234918315053668,
          1.2857848386466297,
          1.183550129515975,
          1.0199089652351696
         ]
        },
        {
         "line": {
          "color": "black"
         },
         "mode": "markers",
         "name": "096 - org",
         "opacity": 0.4,
         "type": "scatter",
         "x": [
          89248
         ],
         "y": [
          1.2190569822594741
         ]
        },
        {
         "line": {
          "color": "rgb(146, 0, 0)"
         },
         "mode": "lines+markers",
         "name": "097",
         "opacity": 0.4,
         "type": "scatter",
         "x": [
          1215396,
          603876,
          71136,
          7866
         ],
         "y": [
          1.3744882780375114,
          1.3342840344138938,
          1.2289034725553956,
          1.0625582189810114
         ]
        },
        {
         "line": {
          "color": "black"
         },
         "mode": "markers",
         "name": "097 - org",
         "opacity": 0.4,
         "type": "scatter",
         "x": [
          93441
         ],
         "y": [
          1.2519319308637533
         ]
        },
        {
         "line": {
          "color": "rgb(140, 0, 0)"
         },
         "mode": "lines+markers",
         "name": "098",
         "opacity": 0.4,
         "type": "scatter",
         "x": [
          1215396,
          603876,
          71136,
          7866
         ],
         "y": [
          1.1398070620408514,
          1.1136229545190137,
          1.04579958147643,
          0.9333891636996707
         ]
        },
        {
         "line": {
          "color": "black"
         },
         "mode": "markers",
         "name": "098 - org",
         "opacity": 0.4,
         "type": "scatter",
         "x": [
          93665
         ],
         "y": [
          1.062976992717685
         ]
        },
        {
         "line": {
          "color": "rgb(134, 0, 0)"
         },
         "mode": "lines+markers",
         "name": "099",
         "opacity": 0.4,
         "type": "scatter",
         "x": [
          1215396,
          603876,
          71136,
          7866
         ],
         "y": [
          1.4014744131851975,
          1.3600831482360145,
          1.2491338508384149,
          1.074396971361657
         ]
        },
        {
         "line": {
          "color": "black"
         },
         "mode": "markers",
         "name": "099 - org",
         "opacity": 0.4,
         "type": "scatter",
         "x": [
          90354
         ],
         "y": [
          1.2787266902635104
         ]
        }
       ],
       "layout": {
        "showlegend": false,
        "template": {
         "data": {
          "bar": [
           {
            "error_x": {
             "color": "#2a3f5f"
            },
            "error_y": {
             "color": "#2a3f5f"
            },
            "marker": {
             "line": {
              "color": "#E5ECF6",
              "width": 0.5
             },
             "pattern": {
              "fillmode": "overlay",
              "size": 10,
              "solidity": 0.2
             }
            },
            "type": "bar"
           }
          ],
          "barpolar": [
           {
            "marker": {
             "line": {
              "color": "#E5ECF6",
              "width": 0.5
             },
             "pattern": {
              "fillmode": "overlay",
              "size": 10,
              "solidity": 0.2
             }
            },
            "type": "barpolar"
           }
          ],
          "carpet": [
           {
            "aaxis": {
             "endlinecolor": "#2a3f5f",
             "gridcolor": "white",
             "linecolor": "white",
             "minorgridcolor": "white",
             "startlinecolor": "#2a3f5f"
            },
            "baxis": {
             "endlinecolor": "#2a3f5f",
             "gridcolor": "white",
             "linecolor": "white",
             "minorgridcolor": "white",
             "startlinecolor": "#2a3f5f"
            },
            "type": "carpet"
           }
          ],
          "choropleth": [
           {
            "colorbar": {
             "outlinewidth": 0,
             "ticks": ""
            },
            "type": "choropleth"
           }
          ],
          "contour": [
           {
            "colorbar": {
             "outlinewidth": 0,
             "ticks": ""
            },
            "colorscale": [
             [
              0,
              "#0d0887"
             ],
             [
              0.1111111111111111,
              "#46039f"
             ],
             [
              0.2222222222222222,
              "#7201a8"
             ],
             [
              0.3333333333333333,
              "#9c179e"
             ],
             [
              0.4444444444444444,
              "#bd3786"
             ],
             [
              0.5555555555555556,
              "#d8576b"
             ],
             [
              0.6666666666666666,
              "#ed7953"
             ],
             [
              0.7777777777777778,
              "#fb9f3a"
             ],
             [
              0.8888888888888888,
              "#fdca26"
             ],
             [
              1,
              "#f0f921"
             ]
            ],
            "type": "contour"
           }
          ],
          "contourcarpet": [
           {
            "colorbar": {
             "outlinewidth": 0,
             "ticks": ""
            },
            "type": "contourcarpet"
           }
          ],
          "heatmap": [
           {
            "colorbar": {
             "outlinewidth": 0,
             "ticks": ""
            },
            "colorscale": [
             [
              0,
              "#0d0887"
             ],
             [
              0.1111111111111111,
              "#46039f"
             ],
             [
              0.2222222222222222,
              "#7201a8"
             ],
             [
              0.3333333333333333,
              "#9c179e"
             ],
             [
              0.4444444444444444,
              "#bd3786"
             ],
             [
              0.5555555555555556,
              "#d8576b"
             ],
             [
              0.6666666666666666,
              "#ed7953"
             ],
             [
              0.7777777777777778,
              "#fb9f3a"
             ],
             [
              0.8888888888888888,
              "#fdca26"
             ],
             [
              1,
              "#f0f921"
             ]
            ],
            "type": "heatmap"
           }
          ],
          "histogram": [
           {
            "marker": {
             "pattern": {
              "fillmode": "overlay",
              "size": 10,
              "solidity": 0.2
             }
            },
            "type": "histogram"
           }
          ],
          "histogram2d": [
           {
            "colorbar": {
             "outlinewidth": 0,
             "ticks": ""
            },
            "colorscale": [
             [
              0,
              "#0d0887"
             ],
             [
              0.1111111111111111,
              "#46039f"
             ],
             [
              0.2222222222222222,
              "#7201a8"
             ],
             [
              0.3333333333333333,
              "#9c179e"
             ],
             [
              0.4444444444444444,
              "#bd3786"
             ],
             [
              0.5555555555555556,
              "#d8576b"
             ],
             [
              0.6666666666666666,
              "#ed7953"
             ],
             [
              0.7777777777777778,
              "#fb9f3a"
             ],
             [
              0.8888888888888888,
              "#fdca26"
             ],
             [
              1,
              "#f0f921"
             ]
            ],
            "type": "histogram2d"
           }
          ],
          "histogram2dcontour": [
           {
            "colorbar": {
             "outlinewidth": 0,
             "ticks": ""
            },
            "colorscale": [
             [
              0,
              "#0d0887"
             ],
             [
              0.1111111111111111,
              "#46039f"
             ],
             [
              0.2222222222222222,
              "#7201a8"
             ],
             [
              0.3333333333333333,
              "#9c179e"
             ],
             [
              0.4444444444444444,
              "#bd3786"
             ],
             [
              0.5555555555555556,
              "#d8576b"
             ],
             [
              0.6666666666666666,
              "#ed7953"
             ],
             [
              0.7777777777777778,
              "#fb9f3a"
             ],
             [
              0.8888888888888888,
              "#fdca26"
             ],
             [
              1,
              "#f0f921"
             ]
            ],
            "type": "histogram2dcontour"
           }
          ],
          "mesh3d": [
           {
            "colorbar": {
             "outlinewidth": 0,
             "ticks": ""
            },
            "type": "mesh3d"
           }
          ],
          "parcoords": [
           {
            "line": {
             "colorbar": {
              "outlinewidth": 0,
              "ticks": ""
             }
            },
            "type": "parcoords"
           }
          ],
          "pie": [
           {
            "automargin": true,
            "type": "pie"
           }
          ],
          "scatter": [
           {
            "fillpattern": {
             "fillmode": "overlay",
             "size": 10,
             "solidity": 0.2
            },
            "type": "scatter"
           }
          ],
          "scatter3d": [
           {
            "line": {
             "colorbar": {
              "outlinewidth": 0,
              "ticks": ""
             }
            },
            "marker": {
             "colorbar": {
              "outlinewidth": 0,
              "ticks": ""
             }
            },
            "type": "scatter3d"
           }
          ],
          "scattercarpet": [
           {
            "marker": {
             "colorbar": {
              "outlinewidth": 0,
              "ticks": ""
             }
            },
            "type": "scattercarpet"
           }
          ],
          "scattergeo": [
           {
            "marker": {
             "colorbar": {
              "outlinewidth": 0,
              "ticks": ""
             }
            },
            "type": "scattergeo"
           }
          ],
          "scattergl": [
           {
            "marker": {
             "colorbar": {
              "outlinewidth": 0,
              "ticks": ""
             }
            },
            "type": "scattergl"
           }
          ],
          "scattermap": [
           {
            "marker": {
             "colorbar": {
              "outlinewidth": 0,
              "ticks": ""
             }
            },
            "type": "scattermap"
           }
          ],
          "scattermapbox": [
           {
            "marker": {
             "colorbar": {
              "outlinewidth": 0,
              "ticks": ""
             }
            },
            "type": "scattermapbox"
           }
          ],
          "scatterpolar": [
           {
            "marker": {
             "colorbar": {
              "outlinewidth": 0,
              "ticks": ""
             }
            },
            "type": "scatterpolar"
           }
          ],
          "scatterpolargl": [
           {
            "marker": {
             "colorbar": {
              "outlinewidth": 0,
              "ticks": ""
             }
            },
            "type": "scatterpolargl"
           }
          ],
          "scatterternary": [
           {
            "marker": {
             "colorbar": {
              "outlinewidth": 0,
              "ticks": ""
             }
            },
            "type": "scatterternary"
           }
          ],
          "surface": [
           {
            "colorbar": {
             "outlinewidth": 0,
             "ticks": ""
            },
            "colorscale": [
             [
              0,
              "#0d0887"
             ],
             [
              0.1111111111111111,
              "#46039f"
             ],
             [
              0.2222222222222222,
              "#7201a8"
             ],
             [
              0.3333333333333333,
              "#9c179e"
             ],
             [
              0.4444444444444444,
              "#bd3786"
             ],
             [
              0.5555555555555556,
              "#d8576b"
             ],
             [
              0.6666666666666666,
              "#ed7953"
             ],
             [
              0.7777777777777778,
              "#fb9f3a"
             ],
             [
              0.8888888888888888,
              "#fdca26"
             ],
             [
              1,
              "#f0f921"
             ]
            ],
            "type": "surface"
           }
          ],
          "table": [
           {
            "cells": {
             "fill": {
              "color": "#EBF0F8"
             },
             "line": {
              "color": "white"
             }
            },
            "header": {
             "fill": {
              "color": "#C8D4E3"
             },
             "line": {
              "color": "white"
             }
            },
            "type": "table"
           }
          ]
         },
         "layout": {
          "annotationdefaults": {
           "arrowcolor": "#2a3f5f",
           "arrowhead": 0,
           "arrowwidth": 1
          },
          "autotypenumbers": "strict",
          "coloraxis": {
           "colorbar": {
            "outlinewidth": 0,
            "ticks": ""
           }
          },
          "colorscale": {
           "diverging": [
            [
             0,
             "#8e0152"
            ],
            [
             0.1,
             "#c51b7d"
            ],
            [
             0.2,
             "#de77ae"
            ],
            [
             0.3,
             "#f1b6da"
            ],
            [
             0.4,
             "#fde0ef"
            ],
            [
             0.5,
             "#f7f7f7"
            ],
            [
             0.6,
             "#e6f5d0"
            ],
            [
             0.7,
             "#b8e186"
            ],
            [
             0.8,
             "#7fbc41"
            ],
            [
             0.9,
             "#4d9221"
            ],
            [
             1,
             "#276419"
            ]
           ],
           "sequential": [
            [
             0,
             "#0d0887"
            ],
            [
             0.1111111111111111,
             "#46039f"
            ],
            [
             0.2222222222222222,
             "#7201a8"
            ],
            [
             0.3333333333333333,
             "#9c179e"
            ],
            [
             0.4444444444444444,
             "#bd3786"
            ],
            [
             0.5555555555555556,
             "#d8576b"
            ],
            [
             0.6666666666666666,
             "#ed7953"
            ],
            [
             0.7777777777777778,
             "#fb9f3a"
            ],
            [
             0.8888888888888888,
             "#fdca26"
            ],
            [
             1,
             "#f0f921"
            ]
           ],
           "sequentialminus": [
            [
             0,
             "#0d0887"
            ],
            [
             0.1111111111111111,
             "#46039f"
            ],
            [
             0.2222222222222222,
             "#7201a8"
            ],
            [
             0.3333333333333333,
             "#9c179e"
            ],
            [
             0.4444444444444444,
             "#bd3786"
            ],
            [
             0.5555555555555556,
             "#d8576b"
            ],
            [
             0.6666666666666666,
             "#ed7953"
            ],
            [
             0.7777777777777778,
             "#fb9f3a"
            ],
            [
             0.8888888888888888,
             "#fdca26"
            ],
            [
             1,
             "#f0f921"
            ]
           ]
          },
          "colorway": [
           "#636efa",
           "#EF553B",
           "#00cc96",
           "#ab63fa",
           "#FFA15A",
           "#19d3f3",
           "#FF6692",
           "#B6E880",
           "#FF97FF",
           "#FECB52"
          ],
          "font": {
           "color": "#2a3f5f"
          },
          "geo": {
           "bgcolor": "white",
           "lakecolor": "white",
           "landcolor": "#E5ECF6",
           "showlakes": true,
           "showland": true,
           "subunitcolor": "white"
          },
          "hoverlabel": {
           "align": "left"
          },
          "hovermode": "closest",
          "mapbox": {
           "style": "light"
          },
          "paper_bgcolor": "white",
          "plot_bgcolor": "#E5ECF6",
          "polar": {
           "angularaxis": {
            "gridcolor": "white",
            "linecolor": "white",
            "ticks": ""
           },
           "bgcolor": "#E5ECF6",
           "radialaxis": {
            "gridcolor": "white",
            "linecolor": "white",
            "ticks": ""
           }
          },
          "scene": {
           "xaxis": {
            "backgroundcolor": "#E5ECF6",
            "gridcolor": "white",
            "gridwidth": 2,
            "linecolor": "white",
            "showbackground": true,
            "ticks": "",
            "zerolinecolor": "white"
           },
           "yaxis": {
            "backgroundcolor": "#E5ECF6",
            "gridcolor": "white",
            "gridwidth": 2,
            "linecolor": "white",
            "showbackground": true,
            "ticks": "",
            "zerolinecolor": "white"
           },
           "zaxis": {
            "backgroundcolor": "#E5ECF6",
            "gridcolor": "white",
            "gridwidth": 2,
            "linecolor": "white",
            "showbackground": true,
            "ticks": "",
            "zerolinecolor": "white"
           }
          },
          "shapedefaults": {
           "line": {
            "color": "#2a3f5f"
           }
          },
          "ternary": {
           "aaxis": {
            "gridcolor": "white",
            "linecolor": "white",
            "ticks": ""
           },
           "baxis": {
            "gridcolor": "white",
            "linecolor": "white",
            "ticks": ""
           },
           "bgcolor": "#E5ECF6",
           "caxis": {
            "gridcolor": "white",
            "linecolor": "white",
            "ticks": ""
           }
          },
          "title": {
           "x": 0.05
          },
          "xaxis": {
           "automargin": true,
           "gridcolor": "white",
           "linecolor": "white",
           "ticks": "",
           "title": {
            "standoff": 15
           },
           "zerolinecolor": "white",
           "zerolinewidth": 2
          },
          "yaxis": {
           "automargin": true,
           "gridcolor": "white",
           "linecolor": "white",
           "ticks": "",
           "title": {
            "standoff": 15
           },
           "zerolinecolor": "white",
           "zerolinewidth": 2
          }
         }
        },
        "title": {
         "text": "Entropy number vs cell size - Snapshots - Parameter Space 03"
        },
        "xaxis": {
         "title": {
          "text": "n_cels [-]"
         }
        },
        "yaxis": {
         "title": {
          "text": "Entropy number"
         }
        }
       }
      }
     },
     "metadata": {},
     "output_type": "display_data"
    }
   ],
   "source": [
    "fig = go.Figure()\n",
    "\n",
    "for idx_snap in range(N_SNAPS):\n",
    "    entropies = []\n",
    "    cell_sizes = []\n",
    "    for key, value in mapped_dic.items():\n",
    "        entropies.append(value[\"entropy_num\"][idx_snap])\n",
    "        cell_sizes.append(value[\"n_cells\"])\n",
    "\n",
    "    fig.add_trace(go.Scatter(x=cell_sizes,\n",
    "                             y=entropies,\n",
    "                                mode='lines + markers',\n",
    "                                name=f\"{idx_snap:03d}\",\n",
    "                                opacity=0.4,\n",
    "                            line=dict(color=colors[idx_snap])\n",
    "                ))\n",
    "    \n",
    "    fig.add_trace(go.Scatter(x=[original_dic[\"original\"][\"n_cells\"][idx_snap]],\n",
    "                             y=[original_dic[\"original\"][\"entropy_num\"][idx_snap]],\n",
    "                             mode='markers',\n",
    "                             name=f\"{idx_snap:03d} - org\",\n",
    "                             opacity=0.4,\n",
    "                             line=dict(color=\"black\")\n",
    "                ))\n",
    "    \n",
    "fig.update_layout(\n",
    "    # xaxis_tickformat='.2e',  # Format x-axis numbers to 2 decimal places\n",
    "    # yaxis_tickformat='.2f',  # Format y-axis numbers to 2 decimal places\n",
    "    showlegend=False,        # Hide the legend\n",
    "    title=f\"Entropy number vs cell size - Snapshots - Parameter Space {PARAMETER_SPACE}\",       # Optional: add a title\n",
    "    xaxis_title=\"n_cels [-]\",    # Optional: label for x-axis\n",
    "    yaxis_title=\"Entropy number\"     # Optional: label for y-axis\n",
    ")\n",
    "\n",
    "# fig.write_image(export_folder / f\"{DATA_TYPE}_Diff_EntropyGeneration.png\")\n",
    "fig.show()"
   ]
  }
 ],
 "metadata": {
  "kernelspec": {
   "display_name": ".venv",
   "language": "python",
   "name": "python3"
  },
  "language_info": {
   "codemirror_mode": {
    "name": "ipython",
    "version": 3
   },
   "file_extension": ".py",
   "mimetype": "text/x-python",
   "name": "python",
   "nbconvert_exporter": "python",
   "pygments_lexer": "ipython3",
   "version": "3.12.4"
  }
 },
 "nbformat": 4,
 "nbformat_minor": 5
}
