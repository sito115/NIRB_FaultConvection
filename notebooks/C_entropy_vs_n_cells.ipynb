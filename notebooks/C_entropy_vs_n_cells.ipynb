{
 "cells": [
  {
   "cell_type": "code",
   "execution_count": 1,
   "id": "28d43c53",
   "metadata": {},
   "outputs": [],
   "source": [
    "import numpy as np\n",
    "import plotly.express as px\n",
    "import plotly.graph_objects as go\n",
    "from pathlib import Path\n",
    "import pyvista as pv\n",
    "import pint\n",
    "from typing import List"
   ]
  },
  {
   "cell_type": "code",
   "execution_count": 2,
   "id": "0bc51ba2",
   "metadata": {},
   "outputs": [],
   "source": [
    "ROOT = Path().cwd().parent\n",
    "PARAMETER_SPACE = \"10\"\n",
    "ROOT\n",
    "DATA_TYPE = \"Training\"\n",
    "time_step_idx = -1\n",
    "ureg = pint.get_application_registry()"
   ]
  },
  {
   "cell_type": "code",
   "execution_count": 10,
   "id": "22eef90e",
   "metadata": {},
   "outputs": [],
   "source": [
    "mapped_root = ROOT / \"data\" / PARAMETER_SPACE / f\"{DATA_TYPE}Mapped\"\n",
    "assert mapped_root.exists()\n",
    "mapped_folders : List[Path]= [folder for folder in mapped_root.iterdir() if not folder.is_file()]"
   ]
  },
  {
   "cell_type": "code",
   "execution_count": 11,
   "id": "0151230d",
   "metadata": {},
   "outputs": [],
   "source": [
    "mapped_dic = {}\n",
    "for folder in mapped_folders:\n",
    "    path = folder / \"Exports\" /  \"Training_entropy_gen_number_therm.npy\"\n",
    "    if not path.exists():\n",
    "        print(f\"No entropy export found in {folder}\")\n",
    "        continue\n",
    "    entropy_num = np.load(path)\n",
    "    vtk_file = [file for file in folder.rglob(\"*.vt*\")][0]\n",
    "    mesh = pv.read(vtk_file)\n",
    "    surf = mesh.compute_cell_sizes()\n",
    "    n_cells = mesh.n_cells\n",
    "    n_points = mesh.n_points\n",
    "    cell_lengths = np.cbrt(np.unique(surf.cell_data['Volume']))\n",
    "    assert cell_lengths.shape[0] == 1\n",
    "    mapped_dic[folder.stem] = {\"entropy_num\" : entropy_num,\n",
    "                               \"n_cells\": n_cells,\n",
    "                               \"cell_size\": cell_lengths[0],\n",
    "                               \"n_points\" : n_points}"
   ]
  },
  {
   "cell_type": "code",
   "execution_count": 5,
   "id": "2c5f4a2f",
   "metadata": {},
   "outputs": [],
   "source": [
    "original_root = ROOT / \"data\" / PARAMETER_SPACE / f\"{DATA_TYPE}Original\"\n",
    "entropy_num_org = np.load(original_root / \"Training_entropy_gen_number_therm.npy\")\n",
    "vtu_files = sorted([file for file in original_root.rglob(\"*.vtu\")])\n",
    "N_SNAPS = len(vtu_files)\n",
    "n_cells_org = np.zeros((N_SNAPS, ))\n",
    "n_points_org = np.zeros_like(n_cells_org)\n",
    "for idx, file in enumerate(vtu_files):\n",
    "    mesh = pv.read(file)\n",
    "    n_cells_org[idx] = mesh.n_cells\n",
    "    n_points_org[idx] = mesh.n_points"
   ]
  },
  {
   "cell_type": "markdown",
   "id": "e3fa87c0",
   "metadata": {},
   "source": [
    "## Plot"
   ]
  },
  {
   "cell_type": "code",
   "execution_count": 6,
   "id": "8b4a527e",
   "metadata": {},
   "outputs": [
    {
     "name": "stdout",
     "output_type": "stream",
     "text": [
      "200\n"
     ]
    }
   ],
   "source": [
    "colors = px.colors.sample_colorscale(\"turbo\", [n/(N_SNAPS) for n in range(N_SNAPS)])\n",
    "print(N_SNAPS)"
   ]
  },
  {
   "cell_type": "code",
   "execution_count": 12,
   "id": "b8eb251a",
   "metadata": {},
   "outputs": [
    {
     "data": {
      "application/vnd.plotly.v1+json": {
       "config": {
        "plotlyServerURL": "https://plot.ly"
       },
       "data": [
        {
         "customdata": [
          [
           "s100_100_100_b0_4000_0_5000_-4000_0",
           -2.1390659751547707,
           0
          ],
          [
           "Original Comsol Mesh",
           0,
           0
          ],
          [
           "s50_50_50_b0_4000_0_5000_-4000_0",
           -1.1610600611196287,
           0
          ]
         ],
         "hovertemplate": "Cells: %{x}<br>Entropy number: %{y}<br>Snap Idx: %{customdata[2]:03d}<br>Mapped: %{customdata[0]}<br>Rel Error: %{customdata[1]:.3f}%<extra></extra>",
         "line": {
          "color": "rgb(48, 18, 59)"
         },
         "mode": "markers+lines",
         "name": "000",
         "opacity": 0.4,
         "type": "scatter",
         "x": {
          "bdata": "gDgBAPVoAQAAxAkA",
          "dtype": "i4"
         },
         "y": {
          "bdata": "bZzY/7vL8T9kjy+LUC/yP3tm7XxD+fE/",
          "dtype": "f8"
         }
        },
        {
         "customdata": [
          [
           "s100_100_100_b0_4000_0_5000_-4000_0",
           -1.8838119166097507,
           1
          ],
          [
           "Original Comsol Mesh",
           0,
           1
          ],
          [
           "s50_50_50_b0_4000_0_5000_-4000_0",
           -1.0450211516291583,
           1
          ]
         ],
         "hovertemplate": "Cells: %{x}<br>Entropy number: %{y}<br>Snap Idx: %{customdata[2]:03d}<br>Mapped: %{customdata[0]}<br>Rel Error: %{customdata[1]:.3f}%<extra></extra>",
         "line": {
          "color": "rgb(49, 22, 67)"
         },
         "mode": "markers+lines",
         "name": "001",
         "opacity": 0.4,
         "type": "scatter",
         "x": {
          "bdata": "gDgBAKyGAQAAxAkA",
          "dtype": "i4"
         },
         "y": {
          "bdata": "SDzX6n7/8T91ChN09VfyP9VV9ZHiJvI/",
          "dtype": "f8"
         }
        },
        {
         "customdata": [
          [
           "s100_100_100_b0_4000_0_5000_-4000_0",
           -2.8676603195056516,
           2
          ],
          [
           "Original Comsol Mesh",
           0,
           2
          ],
          [
           "s50_50_50_b0_4000_0_5000_-4000_0",
           -1.5822069490348527,
           2
          ]
         ],
         "hovertemplate": "Cells: %{x}<br>Entropy number: %{y}<br>Snap Idx: %{customdata[2]:03d}<br>Mapped: %{customdata[0]}<br>Rel Error: %{customdata[1]:.3f}%<extra></extra>",
         "line": {
          "color": "rgb(50, 25, 75)"
         },
         "mode": "markers+lines",
         "name": "002",
         "opacity": 0.4,
         "type": "scatter",
         "x": {
          "bdata": "gDgBAGRZAQAAxAkA",
          "dtype": "i4"
         },
         "y": {
          "bdata": "9JchyJhO8j9YEJXU9djyP/6WMZKejPI/",
          "dtype": "f8"
         }
        },
        {
         "customdata": [
          [
           "s100_100_100_b0_4000_0_5000_-4000_0",
           -2.208936110386692,
           3
          ],
          [
           "Original Comsol Mesh",
           0,
           3
          ],
          [
           "s50_50_50_b0_4000_0_5000_-4000_0",
           -1.2481197915079427,
           3
          ]
         ],
         "hovertemplate": "Cells: %{x}<br>Entropy number: %{y}<br>Snap Idx: %{customdata[2]:03d}<br>Mapped: %{customdata[0]}<br>Rel Error: %{customdata[1]:.3f}%<extra></extra>",
         "line": {
          "color": "rgb(52, 29, 83)"
         },
         "mode": "markers+lines",
         "name": "003",
         "opacity": 0.4,
         "type": "scatter",
         "x": {
          "bdata": "gDgBAO19AQAAxAkA",
          "dtype": "i4"
         },
         "y": {
          "bdata": "Duyz+GhH8j8syX0tHLHyP7WBmdtidfI/",
          "dtype": "f8"
         }
        },
        {
         "customdata": [
          [
           "s100_100_100_b0_4000_0_5000_-4000_0",
           -3.662272306729751,
           4
          ],
          [
           "Original Comsol Mesh",
           0,
           4
          ],
          [
           "s50_50_50_b0_4000_0_5000_-4000_0",
           -2.142888160448536,
           4
          ]
         ],
         "hovertemplate": "Cells: %{x}<br>Entropy number: %{y}<br>Snap Idx: %{customdata[2]:03d}<br>Mapped: %{customdata[0]}<br>Rel Error: %{customdata[1]:.3f}%<extra></extra>",
         "line": {
          "color": "rgb(53, 32, 90)"
         },
         "mode": "markers+lines",
         "name": "004",
         "opacity": 0.4,
         "type": "scatter",
         "x": {
          "bdata": "gDgBABBgAQAAxAkA",
          "dtype": "i4"
         },
         "y": {
          "bdata": "o1GGnOCg9D98g90soWn1PxQ1ExYq9PQ/",
          "dtype": "f8"
         }
        },
        {
         "customdata": [
          [
           "s100_100_100_b0_4000_0_5000_-4000_0",
           -3.3787485829160064,
           5
          ],
          [
           "Original Comsol Mesh",
           0,
           5
          ],
          [
           "s50_50_50_b0_4000_0_5000_-4000_0",
           -1.9118701697601774,
           5
          ]
         ],
         "hovertemplate": "Cells: %{x}<br>Entropy number: %{y}<br>Snap Idx: %{customdata[2]:03d}<br>Mapped: %{customdata[0]}<br>Rel Error: %{customdata[1]:.3f}%<extra></extra>",
         "line": {
          "color": "rgb(54, 36, 98)"
         },
         "mode": "markers+lines",
         "name": "005",
         "opacity": 0.4,
         "type": "scatter",
         "x": {
          "bdata": "gDgBAGhdAQAAxAkA",
          "dtype": "i4"
         },
         "y": {
          "bdata": "JlG9CIBd8z+ngabk2wr0PxrpA3vDqPM/",
          "dtype": "f8"
         }
        },
        {
         "customdata": [
          [
           "s100_100_100_b0_4000_0_5000_-4000_0",
           -3.3063996320943105,
           6
          ],
          [
           "Original Comsol Mesh",
           0,
           6
          ],
          [
           "s50_50_50_b0_4000_0_5000_-4000_0",
           -1.8700865710359413,
           6
          ]
         ],
         "hovertemplate": "Cells: %{x}<br>Entropy number: %{y}<br>Snap Idx: %{customdata[2]:03d}<br>Mapped: %{customdata[0]}<br>Rel Error: %{customdata[1]:.3f}%<extra></extra>",
         "line": {
          "color": "rgb(55, 39, 106)"
         },
         "mode": "markers+lines",
         "name": "006",
         "opacity": 0.4,
         "type": "scatter",
         "x": {
          "bdata": "gDgBAOFeAQAAxAkA",
          "dtype": "i4"
         },
         "y": {
          "bdata": "jpQm+PpQ8z+wDg1vEvrzP+gXAzdvmvM/",
          "dtype": "f8"
         }
        },
        {
         "customdata": [
          [
           "s100_100_100_b0_4000_0_5000_-4000_0",
           -3.417898151022742,
           7
          ],
          [
           "Original Comsol Mesh",
           0,
           7
          ],
          [
           "s50_50_50_b0_4000_0_5000_-4000_0",
           -1.9324719807070634,
           7
          ]
         ],
         "hovertemplate": "Cells: %{x}<br>Entropy number: %{y}<br>Snap Idx: %{customdata[2]:03d}<br>Mapped: %{customdata[0]}<br>Rel Error: %{customdata[1]:.3f}%<extra></extra>",
         "line": {
          "color": "rgb(56, 43, 114)"
         },
         "mode": "markers+lines",
         "name": "007",
         "opacity": 0.4,
         "type": "scatter",
         "x": {
          "bdata": "gDgBAEJbAQAAxAkA",
          "dtype": "i4"
         },
         "y": {
          "bdata": "q2076Rds8z/4gZVnDBz0P5wEPFmQuPM/",
          "dtype": "f8"
         }
        },
        {
         "customdata": [
          [
           "s100_100_100_b0_4000_0_5000_-4000_0",
           -2.6962590135480973,
           8
          ],
          [
           "Original Comsol Mesh",
           0,
           8
          ],
          [
           "s50_50_50_b0_4000_0_5000_-4000_0",
           -1.6339196407025616,
           8
          ]
         ],
         "hovertemplate": "Cells: %{x}<br>Entropy number: %{y}<br>Snap Idx: %{customdata[2]:03d}<br>Mapped: %{customdata[0]}<br>Rel Error: %{customdata[1]:.3f}%<extra></extra>",
         "line": {
          "color": "rgb(58, 47, 122)"
         },
         "mode": "markers+lines",
         "name": "008",
         "opacity": 0.4,
         "type": "scatter",
         "x": {
          "bdata": "gDgBAMSGAQAAxAkA",
          "dtype": "i4"
         },
         "y": {
          "bdata": "kTR6A0Os9D9+Zdmp6D71P1OF75sK5vQ/",
          "dtype": "f8"
         }
        },
        {
         "customdata": [
          [
           "s100_100_100_b0_4000_0_5000_-4000_0",
           -2.4391281073694597,
           9
          ],
          [
           "Original Comsol Mesh",
           0,
           9
          ],
          [
           "s50_50_50_b0_4000_0_5000_-4000_0",
           -1.4627455672318315,
           9
          ]
         ],
         "hovertemplate": "Cells: %{x}<br>Entropy number: %{y}<br>Snap Idx: %{customdata[2]:03d}<br>Mapped: %{customdata[0]}<br>Rel Error: %{customdata[1]:.3f}%<extra></extra>",
         "line": {
          "color": "rgb(59, 50, 130)"
         },
         "mode": "markers+lines",
         "name": "009",
         "opacity": 0.4,
         "type": "scatter",
         "x": {
          "bdata": "gDgBAHKRAQAAxAkA",
          "dtype": "i4"
         },
         "y": {
          "bdata": "PUMnY9de9D9vC6TTN+H0P7ItUPgHk/Q/",
          "dtype": "f8"
         }
        },
        {
         "customdata": [
          [
           "s100_100_100_b0_4000_0_5000_-4000_0",
           -2.310358604849473,
           10
          ],
          [
           "Original Comsol Mesh",
           0,
           10
          ],
          [
           "s50_50_50_b0_4000_0_5000_-4000_0",
           -1.2710907266645228,
           10
          ]
         ],
         "hovertemplate": "Cells: %{x}<br>Entropy number: %{y}<br>Snap Idx: %{customdata[2]:03d}<br>Mapped: %{customdata[0]}<br>Rel Error: %{customdata[1]:.3f}%<extra></extra>",
         "line": {
          "color": "rgb(60, 54, 137)"
         },
         "mode": "markers+lines",
         "name": "010",
         "opacity": 0.4,
         "type": "scatter",
         "x": {
          "bdata": "gDgBAIRlAQAAxAkA",
          "dtype": "i4"
         },
         "y": {
          "bdata": "kUmtOZjw8T80SvucNV3yP3vbA+pzIfI/",
          "dtype": "f8"
         }
        },
        {
         "customdata": [
          [
           "s100_100_100_b0_4000_0_5000_-4000_0",
           -3.6407701216550388,
           11
          ],
          [
           "Original Comsol Mesh",
           0,
           11
          ],
          [
           "s50_50_50_b0_4000_0_5000_-4000_0",
           -2.0456434105533656,
           11
          ]
         ],
         "hovertemplate": "Cells: %{x}<br>Entropy number: %{y}<br>Snap Idx: %{customdata[2]:03d}<br>Mapped: %{customdata[0]}<br>Rel Error: %{customdata[1]:.3f}%<extra></extra>",
         "line": {
          "color": "rgb(61, 57, 145)"
         },
         "mode": "markers+lines",
         "name": "011",
         "opacity": 0.4,
         "type": "scatter",
         "x": {
          "bdata": "gDgBAEpZAQAAxAkA",
          "dtype": "i4"
         },
         "y": {
          "bdata": "9O68Fq+N8z/hWFWy0Er0P99HUT6M4PM/",
          "dtype": "f8"
         }
        },
        {
         "customdata": [
          [
           "s100_100_100_b0_4000_0_5000_-4000_0",
           -4.059964271636119,
           12
          ],
          [
           "Original Comsol Mesh",
           0,
           12
          ],
          [
           "s50_50_50_b0_4000_0_5000_-4000_0",
           -2.3507235301654874,
           12
          ]
         ],
         "hovertemplate": "Cells: %{x}<br>Entropy number: %{y}<br>Snap Idx: %{customdata[2]:03d}<br>Mapped: %{customdata[0]}<br>Rel Error: %{customdata[1]:.3f}%<extra></extra>",
         "line": {
          "color": "rgb(62, 61, 153)"
         },
         "mode": "markers+lines",
         "name": "012",
         "opacity": 0.4,
         "type": "scatter",
         "x": {
          "bdata": "gDgBAOZXAQAAxAkA",
          "dtype": "i4"
         },
         "y": {
          "bdata": "r7eFOnnw9D+q0ysNUdP1P2pK3Gf5T/U/",
          "dtype": "f8"
         }
        },
        {
         "customdata": [
          [
           "s100_100_100_b0_4000_0_5000_-4000_0",
           -1.958725352108984,
           13
          ],
          [
           "Original Comsol Mesh",
           0,
           13
          ],
          [
           "s50_50_50_b0_4000_0_5000_-4000_0",
           -1.0635029486605676,
           13
          ]
         ],
         "hovertemplate": "Cells: %{x}<br>Entropy number: %{y}<br>Snap Idx: %{customdata[2]:03d}<br>Mapped: %{customdata[0]}<br>Rel Error: %{customdata[1]:.3f}%<extra></extra>",
         "line": {
          "color": "rgb(63, 64, 161)"
         },
         "mode": "markers+lines",
         "name": "013",
         "opacity": 0.4,
         "type": "scatter",
         "x": {
          "bdata": "gDgBAIxvAQAAxAkA",
          "dtype": "i4"
         },
         "y": {
          "bdata": "jrD7JFCn8T+QjpU+mgHyP29pTUqU0PE/",
          "dtype": "f8"
         }
        },
        {
         "customdata": [
          [
           "s100_100_100_b0_4000_0_5000_-4000_0",
           -2.7149405621954044,
           14
          ],
          [
           "Original Comsol Mesh",
           0,
           14
          ],
          [
           "s50_50_50_b0_4000_0_5000_-4000_0",
           -1.534141736987394,
           14
          ]
         ],
         "hovertemplate": "Cells: %{x}<br>Entropy number: %{y}<br>Snap Idx: %{customdata[2]:03d}<br>Mapped: %{customdata[0]}<br>Rel Error: %{customdata[1]:.3f}%<extra></extra>",
         "line": {
          "color": "rgb(65, 68, 169)"
         },
         "mode": "markers+lines",
         "name": "014",
         "opacity": 0.4,
         "type": "scatter",
         "x": {
          "bdata": "gDgBAMRtAQAAxAkA",
          "dtype": "i4"
         },
         "y": {
          "bdata": "Lt2DYCPN8j9C0AhxdVPzP9r5JseOB/M/",
          "dtype": "f8"
         }
        },
        {
         "customdata": [
          [
           "s100_100_100_b0_4000_0_5000_-4000_0",
           -2.414882416459083,
           15
          ],
          [
           "Original Comsol Mesh",
           0,
           15
          ],
          [
           "s50_50_50_b0_4000_0_5000_-4000_0",
           -1.44017361740894,
           15
          ]
         ],
         "hovertemplate": "Cells: %{x}<br>Entropy number: %{y}<br>Snap Idx: %{customdata[2]:03d}<br>Mapped: %{customdata[0]}<br>Rel Error: %{customdata[1]:.3f}%<extra></extra>",
         "line": {
          "color": "rgb(65, 71, 174)"
         },
         "mode": "markers+lines",
         "name": "015",
         "opacity": 0.4,
         "type": "scatter",
         "x": {
          "bdata": "gDgBAGuQAQAAxAkA",
          "dtype": "i4"
         },
         "y": {
          "bdata": "7pxBH0xy9D87k6LV0/P0P8KBpDyUpvQ/",
          "dtype": "f8"
         }
        },
        {
         "customdata": [
          [
           "s100_100_100_b0_4000_0_5000_-4000_0",
           -1.8000047042207565,
           16
          ],
          [
           "Original Comsol Mesh",
           0,
           16
          ],
          [
           "s50_50_50_b0_4000_0_5000_-4000_0",
           -0.9669330801674216,
           16
          ]
         ],
         "hovertemplate": "Cells: %{x}<br>Entropy number: %{y}<br>Snap Idx: %{customdata[2]:03d}<br>Mapped: %{customdata[0]}<br>Rel Error: %{customdata[1]:.3f}%<extra></extra>",
         "line": {
          "color": "rgb(66, 75, 179)"
         },
         "mode": "markers+lines",
         "name": "016",
         "opacity": 0.4,
         "type": "scatter",
         "x": {
          "bdata": "gDgBAFB3AQAAxAkA",
          "dtype": "i4"
         },
         "y": {
          "bdata": "FoofI8eE8T84IoPa+9bxP1H76PnSqvE/",
          "dtype": "f8"
         }
        },
        {
         "customdata": [
          [
           "s100_100_100_b0_4000_0_5000_-4000_0",
           -2.147363473735273,
           17
          ],
          [
           "Original Comsol Mesh",
           0,
           17
          ],
          [
           "s50_50_50_b0_4000_0_5000_-4000_0",
           -1.2117151160337678,
           17
          ]
         ],
         "hovertemplate": "Cells: %{x}<br>Entropy number: %{y}<br>Snap Idx: %{customdata[2]:03d}<br>Mapped: %{customdata[0]}<br>Rel Error: %{customdata[1]:.3f}%<extra></extra>",
         "line": {
          "color": "rgb(66, 78, 184)"
         },
         "mode": "markers+lines",
         "name": "017",
         "opacity": 0.4,
         "type": "scatter",
         "x": {
          "bdata": "gDgBAHt9AQAAxAkA",
          "dtype": "i4"
         },
         "y": {
          "bdata": "RCWeppA+8j+ATHNbD6XyP+CDml45a/I/",
          "dtype": "f8"
         }
        },
        {
         "customdata": [
          [
           "s100_100_100_b0_4000_0_5000_-4000_0",
           -3.4327106699621788,
           18
          ],
          [
           "Original Comsol Mesh",
           0,
           18
          ],
          [
           "s50_50_50_b0_4000_0_5000_-4000_0",
           -1.9523770311333173,
           18
          ]
         ],
         "hovertemplate": "Cells: %{x}<br>Entropy number: %{y}<br>Snap Idx: %{customdata[2]:03d}<br>Mapped: %{customdata[0]}<br>Rel Error: %{customdata[1]:.3f}%<extra></extra>",
         "line": {
          "color": "rgb(66, 81, 188)"
         },
         "mode": "markers+lines",
         "name": "018",
         "opacity": 0.4,
         "type": "scatter",
         "x": {
          "bdata": "gDgBAERbAQAAxAkA",
          "dtype": "i4"
         },
         "y": {
          "bdata": "X37QSeRo8z+5RtLMhRn0P2BUGQoQtfM/",
          "dtype": "f8"
         }
        },
        {
         "customdata": [
          [
           "s100_100_100_b0_4000_0_5000_-4000_0",
           -1.9240687841192272,
           19
          ],
          [
           "Original Comsol Mesh",
           0,
           19
          ],
          [
           "s50_50_50_b0_4000_0_5000_-4000_0",
           -1.044036759145369,
           19
          ]
         ],
         "hovertemplate": "Cells: %{x}<br>Entropy number: %{y}<br>Snap Idx: %{customdata[2]:03d}<br>Mapped: %{customdata[0]}<br>Rel Error: %{customdata[1]:.3f}%<extra></extra>",
         "line": {
          "color": "rgb(67, 85, 193)"
         },
         "mode": "markers+lines",
         "name": "019",
         "opacity": 0.4,
         "type": "scatter",
         "x": {
          "bdata": "gDgBAD5wAQAAxAkA",
          "dtype": "i4"
         },
         "y": {
          "bdata": "G5BDb/ug8T8yBJi/hPnxP3t65Bx6yfE/",
          "dtype": "f8"
         }
        },
        {
         "customdata": [
          [
           "s100_100_100_b0_4000_0_5000_-4000_0",
           -3.587064207311233,
           20
          ],
          [
           "Original Comsol Mesh",
           0,
           20
          ],
          [
           "s50_50_50_b0_4000_0_5000_-4000_0",
           -2.0559759025754367,
           20
          ]
         ],
         "hovertemplate": "Cells: %{x}<br>Entropy number: %{y}<br>Snap Idx: %{customdata[2]:03d}<br>Mapped: %{customdata[0]}<br>Rel Error: %{customdata[1]:.3f}%<extra></extra>",
         "line": {
          "color": "rgb(67, 88, 197)"
         },
         "mode": "markers+lines",
         "name": "020",
         "opacity": 0.4,
         "type": "scatter",
         "x": {
          "bdata": "gDgBANFZAQAAxAkA",
          "dtype": "i4"
         },
         "y": {
          "bdata": "e0lhkfWW8z+sTca5ilH0P+EpgXWZ5vM/",
          "dtype": "f8"
         }
        },
        {
         "customdata": [
          [
           "s100_100_100_b0_4000_0_5000_-4000_0",
           -1.8110946347440187,
           21
          ],
          [
           "Original Comsol Mesh",
           0,
           21
          ],
          [
           "s50_50_50_b0_4000_0_5000_-4000_0",
           -0.9884686984778253,
           21
          ]
         ],
         "hovertemplate": "Cells: %{x}<br>Entropy number: %{y}<br>Snap Idx: %{customdata[2]:03d}<br>Mapped: %{customdata[0]}<br>Rel Error: %{customdata[1]:.3f}%<extra></extra>",
         "line": {
          "color": "rgb(67, 92, 202)"
         },
         "mode": "markers+lines",
         "name": "021",
         "opacity": 0.4,
         "type": "scatter",
         "x": {
          "bdata": "gDgBAOh1AQAAxAkA",
          "dtype": "i4"
         },
         "y": {
          "bdata": "uUPhaBSL8T+zRZ3u6t3xPxwltbm0sPE/",
          "dtype": "f8"
         }
        },
        {
         "customdata": [
          [
           "s100_100_100_b0_4000_0_5000_-4000_0",
           -2.1700299326735615,
           22
          ],
          [
           "Original Comsol Mesh",
           0,
           22
          ],
          [
           "s50_50_50_b0_4000_0_5000_-4000_0",
           -1.1594080927194652,
           22
          ]
         ],
         "hovertemplate": "Cells: %{x}<br>Entropy number: %{y}<br>Snap Idx: %{customdata[2]:03d}<br>Mapped: %{customdata[0]}<br>Rel Error: %{customdata[1]:.3f}%<extra></extra>",
         "line": {
          "color": "rgb(68, 95, 207)"
         },
         "mode": "markers+lines",
         "name": "022",
         "opacity": 0.4,
         "type": "scatter",
         "x": {
          "bdata": "gDgBAL9WAQAAxAkA",
          "dtype": "i4"
         },
         "y": {
          "bdata": "KNdRcx188T8tmO4TZ9/xP63OKuVaqvE/",
          "dtype": "f8"
         }
        },
        {
         "customdata": [
          [
           "s100_100_100_b0_4000_0_5000_-4000_0",
           -2.0719443224442666,
           23
          ],
          [
           "Original Comsol Mesh",
           0,
           23
          ],
          [
           "s50_50_50_b0_4000_0_5000_-4000_0",
           -1.101809760978348,
           23
          ]
         ],
         "hovertemplate": "Cells: %{x}<br>Entropy number: %{y}<br>Snap Idx: %{customdata[2]:03d}<br>Mapped: %{customdata[0]}<br>Rel Error: %{customdata[1]:.3f}%<extra></extra>",
         "line": {
          "color": "rgb(68, 98, 211)"
         },
         "mode": "markers+lines",
         "name": "023",
         "opacity": 0.4,
         "type": "scatter",
         "x": {
          "bdata": "gDgBAJtZAQAAxAkA",
          "dtype": "i4"
         },
         "y": {
          "bdata": "qPrwivBs8T9fXFDJUsvxP9PRFuQhmfE/",
          "dtype": "f8"
         }
        },
        {
         "customdata": [
          [
           "s100_100_100_b0_4000_0_5000_-4000_0",
           -3.0324959271274734,
           24
          ],
          [
           "Original Comsol Mesh",
           0,
           24
          ],
          [
           "s50_50_50_b0_4000_0_5000_-4000_0",
           -1.6263939514071217,
           24
          ]
         ],
         "hovertemplate": "Cells: %{x}<br>Entropy number: %{y}<br>Snap Idx: %{customdata[2]:03d}<br>Mapped: %{customdata[0]}<br>Rel Error: %{customdata[1]:.3f}%<extra></extra>",
         "line": {
          "color": "rgb(68, 102, 216)"
         },
         "mode": "markers+lines",
         "name": "024",
         "opacity": 0.4,
         "type": "scatter",
         "x": {
          "bdata": "gDgBAORVAQAAxAkA",
          "dtype": "i4"
         },
         "y": {
          "bdata": "2Q2aLBJf8j8hcSbSJvLyPxoE2eFEo/I/",
          "dtype": "f8"
         }
        },
        {
         "customdata": [
          [
           "s100_100_100_b0_4000_0_5000_-4000_0",
           -3.6643803084071975,
           25
          ],
          [
           "Original Comsol Mesh",
           0,
           25
          ],
          [
           "s50_50_50_b0_4000_0_5000_-4000_0",
           -2.0502639015644886,
           25
          ]
         ],
         "hovertemplate": "Cells: %{x}<br>Entropy number: %{y}<br>Snap Idx: %{customdata[2]:03d}<br>Mapped: %{customdata[0]}<br>Rel Error: %{customdata[1]:.3f}%<extra></extra>",
         "line": {
          "color": "rgb(69, 105, 220)"
         },
         "mode": "markers+lines",
         "name": "025",
         "opacity": 0.4,
         "type": "scatter",
         "x": {
          "bdata": "gDgBABFXAQAAxAkA",
          "dtype": "i4"
         },
         "y": {
          "bdata": "ag7jGGmO8z8QpoK110z0P/pSBitL4vM/",
          "dtype": "f8"
         }
        },
        {
         "customdata": [
          [
           "s100_100_100_b0_4000_0_5000_-4000_0",
           -3.496119337327209,
           26
          ],
          [
           "Original Comsol Mesh",
           0,
           26
          ],
          [
           "s50_50_50_b0_4000_0_5000_-4000_0",
           -1.9731327201959452,
           26
          ]
         ],
         "hovertemplate": "Cells: %{x}<br>Entropy number: %{y}<br>Snap Idx: %{customdata[2]:03d}<br>Mapped: %{customdata[0]}<br>Rel Error: %{customdata[1]:.3f}%<extra></extra>",
         "line": {
          "color": "rgb(69, 108, 225)"
         },
         "mode": "markers+lines",
         "name": "026",
         "opacity": 0.4,
         "type": "scatter",
         "x": {
          "bdata": "gDgBAClaAQAAxAkA",
          "dtype": "i4"
         },
         "y": {
          "bdata": "jKypZvRx8z/Be0l6Syb0P92F/8uDwPM/",
          "dtype": "f8"
         }
        },
        {
         "customdata": [
          [
           "s100_100_100_b0_4000_0_5000_-4000_0",
           -2.0045169146570285,
           27
          ],
          [
           "Original Comsol Mesh",
           0,
           27
          ],
          [
           "s50_50_50_b0_4000_0_5000_-4000_0",
           -1.1177194926584637,
           27
          ]
         ],
         "hovertemplate": "Cells: %{x}<br>Entropy number: %{y}<br>Snap Idx: %{customdata[2]:03d}<br>Mapped: %{customdata[0]}<br>Rel Error: %{customdata[1]:.3f}%<extra></extra>",
         "line": {
          "color": "rgb(69, 112, 230)"
         },
         "mode": "markers+lines",
         "name": "027",
         "opacity": 0.4,
         "type": "scatter",
         "x": {
          "bdata": "gDgBALWEAQAAxAkA",
          "dtype": "i4"
         },
         "y": {
          "bdata": "g42ZI8Ia8j+30DgxkHnyP73QPjOzRPI/",
          "dtype": "f8"
         }
        },
        {
         "customdata": [
          [
           "s100_100_100_b0_4000_0_5000_-4000_0",
           -3.296830418997886,
           28
          ],
          [
           "Original Comsol Mesh",
           0,
           28
          ],
          [
           "s50_50_50_b0_4000_0_5000_-4000_0",
           -1.8915255560046627,
           28
          ]
         ],
         "hovertemplate": "Cells: %{x}<br>Entropy number: %{y}<br>Snap Idx: %{customdata[2]:03d}<br>Mapped: %{customdata[0]}<br>Rel Error: %{customdata[1]:.3f}%<extra></extra>",
         "line": {
          "color": "rgb(70, 115, 234)"
         },
         "mode": "markers+lines",
         "name": "028",
         "opacity": 0.4,
         "type": "scatter",
         "x": {
          "bdata": "gDgBAM9gAQAAxAkA",
          "dtype": "i4"
         },
         "y": {
          "bdata": "goUhknVI8z/YGHAdwfDzP0+o1VUykPM/",
          "dtype": "f8"
         }
        },
        {
         "customdata": [
          [
           "s100_100_100_b0_4000_0_5000_-4000_0",
           -2.1277789933635547,
           29
          ],
          [
           "Original Comsol Mesh",
           0,
           29
          ],
          [
           "s50_50_50_b0_4000_0_5000_-4000_0",
           -1.1524335446476976,
           29
          ]
         ],
         "hovertemplate": "Cells: %{x}<br>Entropy number: %{y}<br>Snap Idx: %{customdata[2]:03d}<br>Mapped: %{customdata[0]}<br>Rel Error: %{customdata[1]:.3f}%<extra></extra>",
         "line": {
          "color": "rgb(70, 118, 237)"
         },
         "mode": "markers+lines",
         "name": "029",
         "opacity": 0.4,
         "type": "scatter",
         "x": {
          "bdata": "gDgBAMpqAQAAxAkA",
          "dtype": "i4"
         },
         "y": {
          "bdata": "T74TiTfG8T86vR/vIynyP00HuuaP8/E/",
          "dtype": "f8"
         }
        },
        {
         "customdata": [
          [
           "s100_100_100_b0_4000_0_5000_-4000_0",
           -2.1698746201964854,
           30
          ],
          [
           "Original Comsol Mesh",
           0,
           30
          ],
          [
           "s50_50_50_b0_4000_0_5000_-4000_0",
           -1.1708184537170947,
           30
          ]
         ],
         "hovertemplate": "Cells: %{x}<br>Entropy number: %{y}<br>Snap Idx: %{customdata[2]:03d}<br>Mapped: %{customdata[0]}<br>Rel Error: %{customdata[1]:.3f}%<extra></extra>",
         "line": {
          "color": "rgb(69, 122, 238)"
         },
         "mode": "markers+lines",
         "name": "030",
         "opacity": 0.4,
         "type": "scatter",
         "x": {
          "bdata": "gDgBAMVqAQAAxAkA",
          "dtype": "i4"
         },
         "y": {
          "bdata": "ZK0tT2nQ8T/JxA24jzXyP/yPpaT7/vE/",
          "dtype": "f8"
         }
        },
        {
         "customdata": [
          [
           "s100_100_100_b0_4000_0_5000_-4000_0",
           -2.0880952035019757,
           31
          ],
          [
           "Original Comsol Mesh",
           0,
           31
          ],
          [
           "s50_50_50_b0_4000_0_5000_-4000_0",
           -1.1922318839907016,
           31
          ]
         ],
         "hovertemplate": "Cells: %{x}<br>Entropy number: %{y}<br>Snap Idx: %{customdata[2]:03d}<br>Mapped: %{customdata[0]}<br>Rel Error: %{customdata[1]:.3f}%<extra></extra>",
         "line": {
          "color": "rgb(68, 125, 240)"
         },
         "mode": "markers+lines",
         "name": "031",
         "opacity": 0.4,
         "type": "scatter",
         "x": {
          "bdata": "gDgBAChSAQAAxAkA",
          "dtype": "i4"
         },
         "y": {
          "bdata": "DsBJaUGM8T9Dy6/8DuzxP/T6CLZbtfE/",
          "dtype": "f8"
         }
        },
        {
         "customdata": [
          [
           "s100_100_100_b0_4000_0_5000_-4000_0",
           -3.0034940493112035,
           32
          ],
          [
           "Original Comsol Mesh",
           0,
           32
          ],
          [
           "s50_50_50_b0_4000_0_5000_-4000_0",
           -1.6812161849775884,
           32
          ]
         ],
         "hovertemplate": "Cells: %{x}<br>Entropy number: %{y}<br>Snap Idx: %{customdata[2]:03d}<br>Mapped: %{customdata[0]}<br>Rel Error: %{customdata[1]:.3f}%<extra></extra>",
         "line": {
          "color": "rgb(67, 128, 241)"
         },
         "mode": "markers+lines",
         "name": "032",
         "opacity": 0.4,
         "type": "scatter",
         "x": {
          "bdata": "gDgBAJtUAQAAxAkA",
          "dtype": "i4"
         },
         "y": {
          "bdata": "C+H1bHhr8j9F0CcdfP3yP1CjPbTAq/I/",
          "dtype": "f8"
         }
        },
        {
         "customdata": [
          [
           "s100_100_100_b0_4000_0_5000_-4000_0",
           -2.011114798057035,
           33
          ],
          [
           "Original Comsol Mesh",
           0,
           33
          ],
          [
           "s50_50_50_b0_4000_0_5000_-4000_0",
           -1.0977819534163604,
           33
          ]
         ],
         "hovertemplate": "Cells: %{x}<br>Entropy number: %{y}<br>Snap Idx: %{customdata[2]:03d}<br>Mapped: %{customdata[0]}<br>Rel Error: %{customdata[1]:.3f}%<extra></extra>",
         "line": {
          "color": "rgb(66, 131, 242)"
         },
         "mode": "markers+lines",
         "name": "033",
         "opacity": 0.4,
         "type": "scatter",
         "x": {
          "bdata": "gDgBAB5wAQAAxAkA",
          "dtype": "i4"
         },
         "y": {
          "bdata": "WhYL4tas8T++J+/utAnyP5ry+rAD1/E/",
          "dtype": "f8"
         }
        },
        {
         "customdata": [
          [
           "s100_100_100_b0_4000_0_5000_-4000_0",
           -3.5328955949896823,
           34
          ],
          [
           "Original Comsol Mesh",
           0,
           34
          ],
          [
           "s50_50_50_b0_4000_0_5000_-4000_0",
           -2.0136657455547766,
           34
          ]
         ],
         "hovertemplate": "Cells: %{x}<br>Entropy number: %{y}<br>Snap Idx: %{customdata[2]:03d}<br>Mapped: %{customdata[0]}<br>Rel Error: %{customdata[1]:.3f}%<extra></extra>",
         "line": {
          "color": "rgb(65, 134, 243)"
         },
         "mode": "markers+lines",
         "name": "034",
         "opacity": 0.4,
         "type": "scatter",
         "x": {
          "bdata": "gDgBANlZAQAAxAkA",
          "dtype": "i4"
         },
         "y": {
          "bdata": "UNf4ahCD8z+hkdxT/zn0P09/FtW60fM/",
          "dtype": "f8"
         }
        },
        {
         "customdata": [
          [
           "s100_100_100_b0_4000_0_5000_-4000_0",
           -4.079288787810785,
           35
          ],
          [
           "Original Comsol Mesh",
           0,
           35
          ],
          [
           "s50_50_50_b0_4000_0_5000_-4000_0",
           -2.402914141695612,
           35
          ]
         ],
         "hovertemplate": "Cells: %{x}<br>Entropy number: %{y}<br>Snap Idx: %{customdata[2]:03d}<br>Mapped: %{customdata[0]}<br>Rel Error: %{customdata[1]:.3f}%<extra></extra>",
         "line": {
          "color": "rgb(64, 137, 244)"
         },
         "mode": "markers+lines",
         "name": "035",
         "opacity": 0.4,
         "type": "scatter",
         "x": {
          "bdata": "gDgBAIRTAQAAxAkA",
          "dtype": "i4"
         },
         "y": {
          "bdata": "kZYgYdPz9D/jRH3c79f1P/wdnEiRUfU/",
          "dtype": "f8"
         }
        },
        {
         "customdata": [
          [
           "s100_100_100_b0_4000_0_5000_-4000_0",
           -2.9890521089436515,
           36
          ],
          [
           "Original Comsol Mesh",
           0,
           36
          ],
          [
           "s50_50_50_b0_4000_0_5000_-4000_0",
           -1.7777197707989658,
           36
          ]
         ],
         "hovertemplate": "Cells: %{x}<br>Entropy number: %{y}<br>Snap Idx: %{customdata[2]:03d}<br>Mapped: %{customdata[0]}<br>Rel Error: %{customdata[1]:.3f}%<extra></extra>",
         "line": {
          "color": "rgb(63, 140, 245)"
         },
         "mode": "markers+lines",
         "name": "036",
         "opacity": 0.4,
         "type": "scatter",
         "x": {
          "bdata": "gDgBAHd1AQAAxAkA",
          "dtype": "i4"
         },
         "y": {
          "bdata": "UQvm053y8z+z/nyA9Y/0P5PL3GthMvQ/",
          "dtype": "f8"
         }
        },
        {
         "customdata": [
          [
           "s100_100_100_b0_4000_0_5000_-4000_0",
           -3.303040121199757,
           37
          ],
          [
           "Original Comsol Mesh",
           0,
           37
          ],
          [
           "s50_50_50_b0_4000_0_5000_-4000_0",
           -1.8748152011859358,
           37
          ]
         ],
         "hovertemplate": "Cells: %{x}<br>Entropy number: %{y}<br>Snap Idx: %{customdata[2]:03d}<br>Mapped: %{customdata[0]}<br>Rel Error: %{customdata[1]:.3f}%<extra></extra>",
         "line": {
          "color": "rgb(62, 144, 246)"
         },
         "mode": "markers+lines",
         "name": "037",
         "opacity": 0.4,
         "type": "scatter",
         "x": {
          "bdata": "gDgBAG5gAQAAxAkA",
          "dtype": "i4"
         },
         "y": {
          "bdata": "mMGYctRM8z8IKfAhmvXzP6RzuXXOlfM/",
          "dtype": "f8"
         }
        },
        {
         "customdata": [
          [
           "s100_100_100_b0_4000_0_5000_-4000_0",
           -3.060884193516707,
           38
          ],
          [
           "Original Comsol Mesh",
           0,
           38
          ],
          [
           "s50_50_50_b0_4000_0_5000_-4000_0",
           -1.745764205108772,
           38
          ]
         ],
         "hovertemplate": "Cells: %{x}<br>Entropy number: %{y}<br>Snap Idx: %{customdata[2]:03d}<br>Mapped: %{customdata[0]}<br>Rel Error: %{customdata[1]:.3f}%<extra></extra>",
         "line": {
          "color": "rgb(61, 147, 247)"
         },
         "mode": "markers+lines",
         "name": "038",
         "opacity": 0.4,
         "type": "scatter",
         "x": {
          "bdata": "gDgBABFiAQAAxAkA",
          "dtype": "i4"
         },
         "y": {
          "bdata": "hApsOSci8z+aQ6Ri0LzzP1w7x5GaZPM/",
          "dtype": "f8"
         }
        },
        {
         "customdata": [
          [
           "s100_100_100_b0_4000_0_5000_-4000_0",
           -2.4486216795936246,
           39
          ],
          [
           "Original Comsol Mesh",
           0,
           39
          ],
          [
           "s50_50_50_b0_4000_0_5000_-4000_0",
           -1.4303964643574185,
           39
          ]
         ],
         "hovertemplate": "Cells: %{x}<br>Entropy number: %{y}<br>Snap Idx: %{customdata[2]:03d}<br>Mapped: %{customdata[0]}<br>Rel Error: %{customdata[1]:.3f}%<extra></extra>",
         "line": {
          "color": "rgb(61, 150, 248)"
         },
         "mode": "markers+lines",
         "name": "039",
         "opacity": 0.4,
         "type": "scatter",
         "x": {
          "bdata": "gDgBAN+HAQAAxAkA",
          "dtype": "i4"
         },
         "y": {
          "bdata": "TffEGMVQ8z/HsYJG48zzP3zLQvJhhPM/",
          "dtype": "f8"
         }
        },
        {
         "customdata": [
          [
           "s100_100_100_b0_4000_0_5000_-4000_0",
           -2.6795537828522322,
           40
          ],
          [
           "Original Comsol Mesh",
           0,
           40
          ],
          [
           "s50_50_50_b0_4000_0_5000_-4000_0",
           -1.4638277471160765,
           40
          ]
         ],
         "hovertemplate": "Cells: %{x}<br>Entropy number: %{y}<br>Snap Idx: %{customdata[2]:03d}<br>Mapped: %{customdata[0]}<br>Rel Error: %{customdata[1]:.3f}%<extra></extra>",
         "line": {
          "color": "rgb(60, 153, 249)"
         },
         "mode": "markers+lines",
         "name": "040",
         "opacity": 0.4,
         "type": "scatter",
         "x": {
          "bdata": "gDgBAFxcAQAAxAkA",
          "dtype": "i4"
         },
         "y": {
          "bdata": "iTdavtgp8j9iCeVP36nyP280z7fuY/I/",
          "dtype": "f8"
         }
        },
        {
         "customdata": [
          [
           "s100_100_100_b0_4000_0_5000_-4000_0",
           -1.6539058278482035,
           41
          ],
          [
           "Original Comsol Mesh",
           0,
           41
          ],
          [
           "s50_50_50_b0_4000_0_5000_-4000_0",
           -0.8869605210459149,
           41
          ]
         ],
         "hovertemplate": "Cells: %{x}<br>Entropy number: %{y}<br>Snap Idx: %{customdata[2]:03d}<br>Mapped: %{customdata[0]}<br>Rel Error: %{customdata[1]:.3f}%<extra></extra>",
         "line": {
          "color": "rgb(59, 156, 250)"
         },
         "mode": "markers+lines",
         "name": "041",
         "opacity": 0.4,
         "type": "scatter",
         "x": {
          "bdata": "gDgBAA14AQAAxAkA",
          "dtype": "i4"
         },
         "y": {
          "bdata": "sCbOcBNs8T8jF/34FLfxP+o/nIfbjvE/",
          "dtype": "f8"
         }
        },
        {
         "customdata": [
          [
           "s100_100_100_b0_4000_0_5000_-4000_0",
           -2.9751812368185924,
           42
          ],
          [
           "Original Comsol Mesh",
           0,
           42
          ],
          [
           "s50_50_50_b0_4000_0_5000_-4000_0",
           -1.6975509964655195,
           42
          ]
         ],
         "hovertemplate": "Cells: %{x}<br>Entropy number: %{y}<br>Snap Idx: %{customdata[2]:03d}<br>Mapped: %{customdata[0]}<br>Rel Error: %{customdata[1]:.3f}%<extra></extra>",
         "line": {
          "color": "rgb(58, 159, 251)"
         },
         "mode": "markers+lines",
         "name": "042",
         "opacity": 0.4,
         "type": "scatter",
         "x": {
          "bdata": "gDgBAI1jAQAAxAkA",
          "dtype": "i4"
         },
         "y": {
          "bdata": "Ktt6EL8e8z9DvADn1rTzP/RVrmMzX/M/",
          "dtype": "f8"
         }
        },
        {
         "customdata": [
          [
           "s100_100_100_b0_4000_0_5000_-4000_0",
           -2.5687107399498093,
           43
          ],
          [
           "Original Comsol Mesh",
           0,
           43
          ],
          [
           "s50_50_50_b0_4000_0_5000_-4000_0",
           -1.4373065778148968,
           43
          ]
         ],
         "hovertemplate": "Cells: %{x}<br>Entropy number: %{y}<br>Snap Idx: %{customdata[2]:03d}<br>Mapped: %{customdata[0]}<br>Rel Error: %{customdata[1]:.3f}%<extra></extra>",
         "line": {
          "color": "rgb(57, 162, 252)"
         },
         "mode": "markers+lines",
         "name": "043",
         "opacity": 0.4,
         "type": "scatter",
         "x": {
          "bdata": "gDgBAAtyAQAAxAkA",
          "dtype": "i4"
         },
         "y": {
          "bdata": "u1CscHWl8j/GvLjLTiPzP7gF4MTj3PI/",
          "dtype": "f8"
         }
        },
        {
         "customdata": [
          [
           "s100_100_100_b0_4000_0_5000_-4000_0",
           -2.219031773438135,
           44
          ],
          [
           "Original Comsol Mesh",
           0,
           44
          ],
          [
           "s50_50_50_b0_4000_0_5000_-4000_0",
           -1.2214014553043637,
           44
          ]
         ],
         "hovertemplate": "Cells: %{x}<br>Entropy number: %{y}<br>Snap Idx: %{customdata[2]:03d}<br>Mapped: %{customdata[0]}<br>Rel Error: %{customdata[1]:.3f}%<extra></extra>",
         "line": {
          "color": "rgb(55, 166, 249)"
         },
         "mode": "markers+lines",
         "name": "044",
         "opacity": 0.4,
         "type": "scatter",
         "x": {
          "bdata": "gDgBAFxUAQAAxAkA",
          "dtype": "i4"
         },
         "y": {
          "bdata": "0UhtnTeI8T+lAYmJEu7xP5OQ7FoCtvE/",
          "dtype": "f8"
         }
        },
        {
         "customdata": [
          [
           "s100_100_100_b0_4000_0_5000_-4000_0",
           -2.2691199897989662,
           45
          ],
          [
           "Original Comsol Mesh",
           0,
           45
          ],
          [
           "s50_50_50_b0_4000_0_5000_-4000_0",
           -1.2356154456759285,
           45
          ]
         ],
         "hovertemplate": "Cells: %{x}<br>Entropy number: %{y}<br>Snap Idx: %{customdata[2]:03d}<br>Mapped: %{customdata[0]}<br>Rel Error: %{customdata[1]:.3f}%<extra></extra>",
         "line": {
          "color": "rgb(52, 169, 246)"
         },
         "mode": "markers+lines",
         "name": "045",
         "opacity": 0.4,
         "type": "scatter",
         "x": {
          "bdata": "gDgBAA1oAQAAxAkA",
          "dtype": "i4"
         },
         "y": {
          "bdata": "dts5xy3g8T9si2zCbUryP69rVmqSEPI/",
          "dtype": "f8"
         }
        },
        {
         "customdata": [
          [
           "s100_100_100_b0_4000_0_5000_-4000_0",
           -2.0904621823674767,
           46
          ],
          [
           "Original Comsol Mesh",
           0,
           46
          ],
          [
           "s50_50_50_b0_4000_0_5000_-4000_0",
           -1.1415687148182325,
           46
          ]
         ],
         "hovertemplate": "Cells: %{x}<br>Entropy number: %{y}<br>Snap Idx: %{customdata[2]:03d}<br>Mapped: %{customdata[0]}<br>Rel Error: %{customdata[1]:.3f}%<extra></extra>",
         "line": {
          "color": "rgb(50, 172, 243)"
         },
         "mode": "markers+lines",
         "name": "046",
         "opacity": 0.4,
         "type": "scatter",
         "x": {
          "bdata": "gDgBABJsAQAAxAkA",
          "dtype": "i4"
         },
         "y": {
          "bdata": "Bar9Wp698T+PxwUjlh7yP/LaBUKi6fE/",
          "dtype": "f8"
         }
        },
        {
         "customdata": [
          [
           "s100_100_100_b0_4000_0_5000_-4000_0",
           -1.8504670049405976,
           47
          ],
          [
           "Original Comsol Mesh",
           0,
           47
          ],
          [
           "s50_50_50_b0_4000_0_5000_-4000_0",
           -1.0221690340001242,
           47
          ]
         ],
         "hovertemplate": "Cells: %{x}<br>Entropy number: %{y}<br>Snap Idx: %{customdata[2]:03d}<br>Mapped: %{customdata[0]}<br>Rel Error: %{customdata[1]:.3f}%<extra></extra>",
         "line": {
          "color": "rgb(48, 175, 240)"
         },
         "mode": "markers+lines",
         "name": "047",
         "opacity": 0.4,
         "type": "scatter",
         "x": {
          "bdata": "gDgBAFBzAQAAxAkA",
          "dtype": "i4"
         },
         "y": {
          "bdata": "dEgX/JWQ8T8W02rLXOXxP4x9eICItvE/",
          "dtype": "f8"
         }
        },
        {
         "customdata": [
          [
           "s100_100_100_b0_4000_0_5000_-4000_0",
           -3.3877223063695645,
           48
          ],
          [
           "Original Comsol Mesh",
           0,
           48
          ],
          [
           "s50_50_50_b0_4000_0_5000_-4000_0",
           -1.9407488840780318,
           48
          ]
         ],
         "hovertemplate": "Cells: %{x}<br>Entropy number: %{y}<br>Snap Idx: %{customdata[2]:03d}<br>Mapped: %{customdata[0]}<br>Rel Error: %{customdata[1]:.3f}%<extra></extra>",
         "line": {
          "color": "rgb(46, 178, 238)"
         },
         "mode": "markers+lines",
         "name": "048",
         "opacity": 0.4,
         "type": "scatter",
         "x": {
          "bdata": "gDgBAPhdAQAAxAkA",
          "dtype": "i4"
         },
         "y": {
          "bdata": "vC4F5oNZ8z9fQET9NQf0P00EKWG0o/M/",
          "dtype": "f8"
         }
        },
        {
         "customdata": [
          [
           "s100_100_100_b0_4000_0_5000_-4000_0",
           -3.388099393076812,
           49
          ],
          [
           "Original Comsol Mesh",
           0,
           49
          ],
          [
           "s50_50_50_b0_4000_0_5000_-4000_0",
           -1.9130032572862081,
           49
          ]
         ],
         "hovertemplate": "Cells: %{x}<br>Entropy number: %{y}<br>Snap Idx: %{customdata[2]:03d}<br>Mapped: %{customdata[0]}<br>Rel Error: %{customdata[1]:.3f}%<extra></extra>",
         "line": {
          "color": "rgb(44, 181, 235)"
         },
         "mode": "markers+lines",
         "name": "049",
         "opacity": 0.4,
         "type": "scatter",
         "x": {
          "bdata": "gDgBAJhaAQAAxAkA",
          "dtype": "i4"
         },
         "y": {
          "bdata": "UuDQC3Bj8z/y1EZXgBH0P/3s+4M4r/M/",
          "dtype": "f8"
         }
        },
        {
         "customdata": [
          [
           "s100_100_100_b0_4000_0_5000_-4000_0",
           -3.663296299864654,
           50
          ],
          [
           "Original Comsol Mesh",
           0,
           50
          ],
          [
           "s50_50_50_b0_4000_0_5000_-4000_0",
           -2.111767919544505,
           50
          ]
         ],
         "hovertemplate": "Cells: %{x}<br>Entropy number: %{y}<br>Snap Idx: %{customdata[2]:03d}<br>Mapped: %{customdata[0]}<br>Rel Error: %{customdata[1]:.3f}%<extra></extra>",
         "line": {
          "color": "rgb(42, 184, 232)"
         },
         "mode": "markers+lines",
         "name": "050",
         "opacity": 0.4,
         "type": "scatter",
         "x": {
          "bdata": "gDgBAGBXAQAAxAkA",
          "dtype": "i4"
         },
         "y": {
          "bdata": "BXABWI6c8z8YNOGvd1v0P+0tbNZp7fM/",
          "dtype": "f8"
         }
        },
        {
         "customdata": [
          [
           "s100_100_100_b0_4000_0_5000_-4000_0",
           -1.593576029840899,
           51
          ],
          [
           "Original Comsol Mesh",
           0,
           51
          ],
          [
           "s50_50_50_b0_4000_0_5000_-4000_0",
           -0.8868437442152103,
           51
          ]
         ],
         "hovertemplate": "Cells: %{x}<br>Entropy number: %{y}<br>Snap Idx: %{customdata[2]:03d}<br>Mapped: %{customdata[0]}<br>Rel Error: %{customdata[1]:.3f}%<extra></extra>",
         "line": {
          "color": "rgb(40, 188, 229)"
         },
         "mode": "markers+lines",
         "name": "051",
         "opacity": 0.4,
         "type": "scatter",
         "x": {
          "bdata": "gDgBAK6RAQAAxAkA",
          "dtype": "i4"
         },
         "y": {
          "bdata": "sJB+htOq8T8j6LNvEfTxP5obHOROy/E/",
          "dtype": "f8"
         }
        },
        {
         "customdata": [
          [
           "s100_100_100_b0_4000_0_5000_-4000_0",
           -3.554182665996715,
           52
          ],
          [
           "Original Comsol Mesh",
           0,
           52
          ],
          [
           "s50_50_50_b0_4000_0_5000_-4000_0",
           -2.004246389862558,
           52
          ]
         ],
         "hovertemplate": "Cells: %{x}<br>Entropy number: %{y}<br>Snap Idx: %{customdata[2]:03d}<br>Mapped: %{customdata[0]}<br>Rel Error: %{customdata[1]:.3f}%<extra></extra>",
         "line": {
          "color": "rgb(38, 191, 226)"
         },
         "mode": "markers+lines",
         "name": "052",
         "opacity": 0.4,
         "type": "scatter",
         "x": {
          "bdata": "gDgBABhZAQAAxAkA",
          "dtype": "i4"
         },
         "y": {
          "bdata": "zMTuT1F78z9E+eG2GzP0P/57HW13y/M/",
          "dtype": "f8"
         }
        },
        {
         "customdata": [
          [
           "s100_100_100_b0_4000_0_5000_-4000_0",
           -3.412996233973625,
           53
          ],
          [
           "Original Comsol Mesh",
           0,
           53
          ],
          [
           "s50_50_50_b0_4000_0_5000_-4000_0",
           -1.9368018792175972,
           53
          ]
         ],
         "hovertemplate": "Cells: %{x}<br>Entropy number: %{y}<br>Snap Idx: %{customdata[2]:03d}<br>Mapped: %{customdata[0]}<br>Rel Error: %{customdata[1]:.3f}%<extra></extra>",
         "line": {
          "color": "rgb(36, 194, 224)"
         },
         "mode": "markers+lines",
         "name": "053",
         "opacity": 0.4,
         "type": "scatter",
         "x": {
          "bdata": "gDgBAIxaAQAAxAkA",
          "dtype": "i4"
         },
         "y": {
          "bdata": "L/2XbsBs8z/dkcj+dxz0P8cdqMrAuPM/",
          "dtype": "f8"
         }
        },
        {
         "customdata": [
          [
           "s100_100_100_b0_4000_0_5000_-4000_0",
           -3.4838158125467165,
           54
          ],
          [
           "Original Comsol Mesh",
           0,
           54
          ],
          [
           "s50_50_50_b0_4000_0_5000_-4000_0",
           -1.9577718056877196,
           54
          ]
         ],
         "hovertemplate": "Cells: %{x}<br>Entropy number: %{y}<br>Snap Idx: %{customdata[2]:03d}<br>Mapped: %{customdata[0]}<br>Rel Error: %{customdata[1]:.3f}%<extra></extra>",
         "line": {
          "color": "rgb(34, 197, 221)"
         },
         "mode": "markers+lines",
         "name": "054",
         "opacity": 0.4,
         "type": "scatter",
         "x": {
          "bdata": "gDgBAJBYAQAAxAkA",
          "dtype": "i4"
         },
         "y": {
          "bdata": "JIkz+Pp08z93J1mrxSj0P0GRvmq8w/M/",
          "dtype": "f8"
         }
        },
        {
         "customdata": [
          [
           "s100_100_100_b0_4000_0_5000_-4000_0",
           -2.319735602132016,
           55
          ],
          [
           "Original Comsol Mesh",
           0,
           55
          ],
          [
           "s50_50_50_b0_4000_0_5000_-4000_0",
           -1.3037782977028272,
           55
          ]
         ],
         "hovertemplate": "Cells: %{x}<br>Entropy number: %{y}<br>Snap Idx: %{customdata[2]:03d}<br>Mapped: %{customdata[0]}<br>Rel Error: %{customdata[1]:.3f}%<extra></extra>",
         "line": {
          "color": "rgb(31, 200, 218)"
         },
         "mode": "markers+lines",
         "name": "055",
         "opacity": 0.4,
         "type": "scatter",
         "x": {
          "bdata": "gDgBAOV5AQAAxAkA",
          "dtype": "i4"
         },
         "y": {
          "bdata": "DqajeShn8j/x0YY1CtfyP0P/VnsomPI/",
          "dtype": "f8"
         }
        },
        {
         "customdata": [
          [
           "s100_100_100_b0_4000_0_5000_-4000_0",
           -3.3314331961387866,
           56
          ],
          [
           "Original Comsol Mesh",
           0,
           56
          ],
          [
           "s50_50_50_b0_4000_0_5000_-4000_0",
           -1.8899615000155408,
           56
          ]
         ],
         "hovertemplate": "Cells: %{x}<br>Entropy number: %{y}<br>Snap Idx: %{customdata[2]:03d}<br>Mapped: %{customdata[0]}<br>Rel Error: %{customdata[1]:.3f}%<extra></extra>",
         "line": {
          "color": "rgb(29, 203, 215)"
         },
         "mode": "markers+lines",
         "name": "056",
         "opacity": 0.4,
         "type": "scatter",
         "x": {
          "bdata": "gDgBAGZfAQAAxAkA",
          "dtype": "i4"
         },
         "y": {
          "bdata": "oWzaCQFS8z8u5riRdPzzP92wrp3Bm/M/",
          "dtype": "f8"
         }
        },
        {
         "customdata": [
          [
           "s100_100_100_b0_4000_0_5000_-4000_0",
           -2.3154711256845464,
           57
          ],
          [
           "Original Comsol Mesh",
           0,
           57
          ],
          [
           "s50_50_50_b0_4000_0_5000_-4000_0",
           -1.2514392184741885,
           57
          ]
         ],
         "hovertemplate": "Cells: %{x}<br>Entropy number: %{y}<br>Snap Idx: %{customdata[2]:03d}<br>Mapped: %{customdata[0]}<br>Rel Error: %{customdata[1]:.3f}%<extra></extra>",
         "line": {
          "color": "rgb(27, 207, 212)"
         },
         "mode": "markers+lines",
         "name": "057",
         "opacity": 0.4,
         "type": "scatter",
         "x": {
          "bdata": "gDgBAJ1mAQAAxAkA",
          "dtype": "i4"
         },
         "y": {
          "bdata": "VQpxfNjp8T8kZZnoi1byP4eOKhDMG/I/",
          "dtype": "f8"
         }
        },
        {
         "customdata": [
          [
           "s100_100_100_b0_4000_0_5000_-4000_0",
           -3.51914045460126,
           58
          ],
          [
           "Original Comsol Mesh",
           0,
           58
          ],
          [
           "s50_50_50_b0_4000_0_5000_-4000_0",
           -1.9827402002229426,
           58
          ]
         ],
         "hovertemplate": "Cells: %{x}<br>Entropy number: %{y}<br>Snap Idx: %{customdata[2]:03d}<br>Mapped: %{customdata[0]}<br>Rel Error: %{customdata[1]:.3f}%<extra></extra>",
         "line": {
          "color": "rgb(28, 209, 209)"
         },
         "mode": "markers+lines",
         "name": "058",
         "opacity": 0.4,
         "type": "scatter",
         "x": {
          "bdata": "gDgBAGVYAQAAxAkA",
          "dtype": "i4"
         },
         "y": {
          "bdata": "WofHnTmA8z+erxwIUTb0P/llnyi5z/M/",
          "dtype": "f8"
         }
        },
        {
         "customdata": [
          [
           "s100_100_100_b0_4000_0_5000_-4000_0",
           -2.987121805615423,
           59
          ],
          [
           "Original Comsol Mesh",
           0,
           59
          ],
          [
           "s50_50_50_b0_4000_0_5000_-4000_0",
           -1.6771097246145894,
           59
          ]
         ],
         "hovertemplate": "Cells: %{x}<br>Entropy number: %{y}<br>Snap Idx: %{customdata[2]:03d}<br>Mapped: %{customdata[0]}<br>Rel Error: %{customdata[1]:.3f}%<extra></extra>",
         "line": {
          "color": "rgb(28, 211, 206)"
         },
         "mode": "markers+lines",
         "name": "059",
         "opacity": 0.4,
         "type": "scatter",
         "x": {
          "bdata": "gDgBABtnAQAAxAkA",
          "dtype": "i4"
         },
         "y": {
          "bdata": "UY8j0jQP8z+itn0fcaXzP4JrdLYXUfM/",
          "dtype": "f8"
         }
        },
        {
         "customdata": [
          [
           "s100_100_100_b0_4000_0_5000_-4000_0",
           -1.9124329779181608,
           60
          ],
          [
           "Original Comsol Mesh",
           0,
           60
          ],
          [
           "s50_50_50_b0_4000_0_5000_-4000_0",
           -1.0308448628397997,
           60
          ]
         ],
         "hovertemplate": "Cells: %{x}<br>Entropy number: %{y}<br>Snap Idx: %{customdata[2]:03d}<br>Mapped: %{customdata[0]}<br>Rel Error: %{customdata[1]:.3f}%<extra></extra>",
         "line": {
          "color": "rgb(29, 213, 203)"
         },
         "mode": "markers+lines",
         "name": "060",
         "opacity": 0.4,
         "type": "scatter",
         "x": {
          "bdata": "gDgBAD9xAQAAxAkA",
          "dtype": "i4"
         },
         "y": {
          "bdata": "v6l87+6a8T9layNRzvLxP8XBeMtww/E/",
          "dtype": "f8"
         }
        },
        {
         "customdata": [
          [
           "s100_100_100_b0_4000_0_5000_-4000_0",
           -3.635516551420489,
           61
          ],
          [
           "Original Comsol Mesh",
           0,
           61
          ],
          [
           "s50_50_50_b0_4000_0_5000_-4000_0",
           -2.123912745192974,
           61
          ]
         ],
         "hovertemplate": "Cells: %{x}<br>Entropy number: %{y}<br>Snap Idx: %{customdata[2]:03d}<br>Mapped: %{customdata[0]}<br>Rel Error: %{customdata[1]:.3f}%<extra></extra>",
         "line": {
          "color": "rgb(29, 215, 200)"
         },
         "mode": "markers+lines",
         "name": "061",
         "opacity": 0.4,
         "type": "scatter",
         "x": {
          "bdata": "gDgBAI9fAQAAxAkA",
          "dtype": "i4"
         },
         "y": {
          "bdata": "gGWWl3qT9D8Sx/QfNFr1P3xcEDEb5vQ/",
          "dtype": "f8"
         }
        },
        {
         "customdata": [
          [
           "s100_100_100_b0_4000_0_5000_-4000_0",
           -3.23812278673042,
           62
          ],
          [
           "Original Comsol Mesh",
           0,
           62
          ],
          [
           "s50_50_50_b0_4000_0_5000_-4000_0",
           -1.8365094518592837,
           62
          ]
         ],
         "hovertemplate": "Cells: %{x}<br>Entropy number: %{y}<br>Snap Idx: %{customdata[2]:03d}<br>Mapped: %{customdata[0]}<br>Rel Error: %{customdata[1]:.3f}%<extra></extra>",
         "line": {
          "color": "rgb(30, 217, 196)"
         },
         "mode": "markers+lines",
         "name": "062",
         "opacity": 0.4,
         "type": "scatter",
         "x": {
          "bdata": "gDgBACphAQAAxAkA",
          "dtype": "i4"
         },
         "y": {
          "bdata": "X1f9wc088z+UxMiSnOHzP+j4U/IjhPM/",
          "dtype": "f8"
         }
        },
        {
         "customdata": [
          [
           "s100_100_100_b0_4000_0_5000_-4000_0",
           -3.1667391889135033,
           63
          ],
          [
           "Original Comsol Mesh",
           0,
           63
          ],
          [
           "s50_50_50_b0_4000_0_5000_-4000_0",
           -1.800628124068887,
           63
          ]
         ],
         "hovertemplate": "Cells: %{x}<br>Entropy number: %{y}<br>Snap Idx: %{customdata[2]:03d}<br>Mapped: %{customdata[0]}<br>Rel Error: %{customdata[1]:.3f}%<extra></extra>",
         "line": {
          "color": "rgb(31, 219, 193)"
         },
         "mode": "markers+lines",
         "name": "063",
         "opacity": 0.4,
         "type": "scatter",
         "x": {
          "bdata": "gDgBAP9hAQAAxAkA",
          "dtype": "i4"
         },
         "y": {
          "bdata": "YIhu08ct8z+uzJBdWM7zP6a10g8Mc/M/",
          "dtype": "f8"
         }
        },
        {
         "customdata": [
          [
           "s100_100_100_b0_4000_0_5000_-4000_0",
           -2.1020955816139324,
           64
          ],
          [
           "Original Comsol Mesh",
           0,
           64
          ],
          [
           "s50_50_50_b0_4000_0_5000_-4000_0",
           -1.1877386346896386,
           64
          ]
         ],
         "hovertemplate": "Cells: %{x}<br>Entropy number: %{y}<br>Snap Idx: %{customdata[2]:03d}<br>Mapped: %{customdata[0]}<br>Rel Error: %{customdata[1]:.3f}%<extra></extra>",
         "line": {
          "color": "rgb(31, 221, 190)"
         },
         "mode": "markers+lines",
         "name": "064",
         "opacity": 0.4,
         "type": "scatter",
         "x": {
          "bdata": "gDgBAEmCAQAAxAkA",
          "dtype": "i4"
         },
         "y": {
          "bdata": "ytcNFMks8j9dqYQLsZDyP5NNivU9WPI/",
          "dtype": "f8"
         }
        },
        {
         "customdata": [
          [
           "s100_100_100_b0_4000_0_5000_-4000_0",
           -2.266628181901378,
           65
          ],
          [
           "Original Comsol Mesh",
           0,
           65
          ],
          [
           "s50_50_50_b0_4000_0_5000_-4000_0",
           -1.164356124090306,
           65
          ]
         ],
         "hovertemplate": "Cells: %{x}<br>Entropy number: %{y}<br>Snap Idx: %{customdata[2]:03d}<br>Mapped: %{customdata[0]}<br>Rel Error: %{customdata[1]:.3f}%<extra></extra>",
         "line": {
          "color": "rgb(32, 223, 187)"
         },
         "mode": "markers+lines",
         "name": "065",
         "opacity": 0.4,
         "type": "scatter",
         "x": {
          "bdata": "gDgBAFBSAQAAxAkA",
          "dtype": "i4"
         },
         "y": {
          "bdata": "XQdgwpCE8T8q7sxBkuzxP43Did0kt/E/",
          "dtype": "f8"
         }
        },
        {
         "customdata": [
          [
           "s100_100_100_b0_4000_0_5000_-4000_0",
           -3.1000334772149007,
           66
          ],
          [
           "Original Comsol Mesh",
           0,
           66
          ],
          [
           "s50_50_50_b0_4000_0_5000_-4000_0",
           -1.696300605140436,
           66
          ]
         ],
         "hovertemplate": "Cells: %{x}<br>Entropy number: %{y}<br>Snap Idx: %{customdata[2]:03d}<br>Mapped: %{customdata[0]}<br>Rel Error: %{customdata[1]:.3f}%<extra></extra>",
         "line": {
          "color": "rgb(33, 225, 183)"
         },
         "mode": "markers+lines",
         "name": "066",
         "opacity": 0.4,
         "type": "scatter",
         "x": {
          "bdata": "gDgBAF9TAQAAxAkA",
          "dtype": "i4"
         },
         "y": {
          "bdata": "jGErymZp8j/ujn5xMQDzP1KYeIqurfI/",
          "dtype": "f8"
         }
        },
        {
         "customdata": [
          [
           "s100_100_100_b0_4000_0_5000_-4000_0",
           -2.571759681674559,
           67
          ],
          [
           "Original Comsol Mesh",
           0,
           67
          ],
          [
           "s50_50_50_b0_4000_0_5000_-4000_0",
           -1.553999107303567,
           67
          ]
         ],
         "hovertemplate": "Cells: %{x}<br>Entropy number: %{y}<br>Snap Idx: %{customdata[2]:03d}<br>Mapped: %{customdata[0]}<br>Rel Error: %{customdata[1]:.3f}%<extra></extra>",
         "line": {
          "color": "rgb(33, 227, 180)"
         },
         "mode": "markers+lines",
         "name": "067",
         "opacity": 0.4,
         "type": "scatter",
         "x": {
          "bdata": "gDgBALGMAQAAxAkA",
          "dtype": "i4"
         },
         "y": {
          "bdata": "qN72H3GM9D8fD8iDTBf1PxHl/9Fkw/Q/",
          "dtype": "f8"
         }
        },
        {
         "customdata": [
          [
           "s100_100_100_b0_4000_0_5000_-4000_0",
           -3.639094078952397,
           68
          ],
          [
           "Original Comsol Mesh",
           0,
           68
          ],
          [
           "s50_50_50_b0_4000_0_5000_-4000_0",
           -2.0434515205119848,
           68
          ]
         ],
         "hovertemplate": "Cells: %{x}<br>Entropy number: %{y}<br>Snap Idx: %{customdata[2]:03d}<br>Mapped: %{customdata[0]}<br>Rel Error: %{customdata[1]:.3f}%<extra></extra>",
         "line": {
          "color": "rgb(34, 229, 177)"
         },
         "mode": "markers+lines",
         "name": "068",
         "opacity": 0.4,
         "type": "scatter",
         "x": {
          "bdata": "gDgBAJlYAQAAxAkA",
          "dtype": "i4"
         },
         "y": {
          "bdata": "mXkKx7GU8z9hV/sHAFL0PwGwNCSz5/M/",
          "dtype": "f8"
         }
        },
        {
         "customdata": [
          [
           "s100_100_100_b0_4000_0_5000_-4000_0",
           -2.051890373541784,
           69
          ],
          [
           "Original Comsol Mesh",
           0,
           69
          ],
          [
           "s50_50_50_b0_4000_0_5000_-4000_0",
           -1.1459240776891881,
           69
          ]
         ],
         "hovertemplate": "Cells: %{x}<br>Entropy number: %{y}<br>Snap Idx: %{customdata[2]:03d}<br>Mapped: %{customdata[0]}<br>Rel Error: %{customdata[1]:.3f}%<extra></extra>",
         "line": {
          "color": "rgb(34, 231, 174)"
         },
         "mode": "markers+lines",
         "name": "069",
         "opacity": 0.4,
         "type": "scatter",
         "x": {
          "bdata": "gDgBAEmAAQAAxAkA",
          "dtype": "i4"
         },
         "y": {
          "bdata": "+qS9uLkj8j/tk4p2AYXyPzAiXmmtTvI/",
          "dtype": "f8"
         }
        },
        {
         "customdata": [
          [
           "s100_100_100_b0_4000_0_5000_-4000_0",
           -2.2149238204633335,
           70
          ],
          [
           "Original Comsol Mesh",
           0,
           70
          ],
          [
           "s50_50_50_b0_4000_0_5000_-4000_0",
           -1.2323738579480692,
           70
          ]
         ],
         "hovertemplate": "Cells: %{x}<br>Entropy number: %{y}<br>Snap Idx: %{customdata[2]:03d}<br>Mapped: %{customdata[0]}<br>Rel Error: %{customdata[1]:.3f}%<extra></extra>",
         "line": {
          "color": "rgb(35, 233, 171)"
         },
         "mode": "markers+lines",
         "name": "070",
         "opacity": 0.4,
         "type": "scatter",
         "x": {
          "bdata": "gDgBAAGAAQAAxAkA",
          "dtype": "i4"
         },
         "y": {
          "bdata": "TlbuLpVP8j/w4U3KwrnyP79tWhCvfvI/",
          "dtype": "f8"
         }
        },
        {
         "customdata": [
          [
           "s100_100_100_b0_4000_0_5000_-4000_0",
           -2.2113287623632507,
           71
          ],
          [
           "Original Comsol Mesh",
           0,
           71
          ],
          [
           "s50_50_50_b0_4000_0_5000_-4000_0",
           -1.1772685120238073,
           71
          ]
         ],
         "hovertemplate": "Cells: %{x}<br>Entropy number: %{y}<br>Snap Idx: %{customdata[2]:03d}<br>Mapped: %{customdata[0]}<br>Rel Error: %{customdata[1]:.3f}%<extra></extra>",
         "line": {
          "color": "rgb(36, 235, 167)"
         },
         "mode": "markers+lines",
         "name": "071",
         "opacity": 0.4,
         "type": "scatter",
         "x": {
          "bdata": "gDgBAPlYAQAAxAkA",
          "dtype": "i4"
         },
         "y": {
          "bdata": "BklBH1d98T9jHBaEluLxPxLdo4ivrPE/",
          "dtype": "f8"
         }
        },
        {
         "customdata": [
          [
           "s100_100_100_b0_4000_0_5000_-4000_0",
           -3.530039645447202,
           72
          ],
          [
           "Original Comsol Mesh",
           0,
           72
          ],
          [
           "s50_50_50_b0_4000_0_5000_-4000_0",
           -1.9836109646608895,
           72
          ]
         ],
         "hovertemplate": "Cells: %{x}<br>Entropy number: %{y}<br>Snap Idx: %{customdata[2]:03d}<br>Mapped: %{customdata[0]}<br>Rel Error: %{customdata[1]:.3f}%<extra></extra>",
         "line": {
          "color": "rgb(38, 237, 164)"
         },
         "mode": "markers+lines",
         "name": "072",
         "opacity": 0.4,
         "type": "scatter",
         "x": {
          "bdata": "gDgBAD5bAQAAxAkA",
          "dtype": "i4"
         },
         "y": {
          "bdata": "9l+YvcN38z8YRO+OIS70P5Xbjbenx/M/",
          "dtype": "f8"
         }
        },
        {
         "customdata": [
          [
           "s100_100_100_b0_4000_0_5000_-4000_0",
           -2.1880640817613615,
           73
          ],
          [
           "Original Comsol Mesh",
           0,
           73
          ],
          [
           "s50_50_50_b0_4000_0_5000_-4000_0",
           -1.1819586538529456,
           73
          ]
         ],
         "hovertemplate": "Cells: %{x}<br>Entropy number: %{y}<br>Snap Idx: %{customdata[2]:03d}<br>Mapped: %{customdata[0]}<br>Rel Error: %{customdata[1]:.3f}%<extra></extra>",
         "line": {
          "color": "rgb(43, 238, 160)"
         },
         "mode": "markers+lines",
         "name": "073",
         "opacity": 0.4,
         "type": "scatter",
         "x": {
          "bdata": "gDgBAMhqAQAAxAkA",
          "dtype": "i4"
         },
         "y": {
          "bdata": "nY4cqILW8T8xXFXqqTzyP3mrFGh7BfI/",
          "dtype": "f8"
         }
        },
        {
         "customdata": [
          [
           "s100_100_100_b0_4000_0_5000_-4000_0",
           -2.3136003267246013,
           74
          ],
          [
           "Original Comsol Mesh",
           0,
           74
          ],
          [
           "s50_50_50_b0_4000_0_5000_-4000_0",
           -1.3408821313371064,
           74
          ]
         ],
         "hovertemplate": "Cells: %{x}<br>Entropy number: %{y}<br>Snap Idx: %{customdata[2]:03d}<br>Mapped: %{customdata[0]}<br>Rel Error: %{customdata[1]:.3f}%<extra></extra>",
         "line": {
          "color": "rgb(47, 239, 156)"
         },
         "mode": "markers+lines",
         "name": "074",
         "opacity": 0.4,
         "type": "scatter",
         "x": {
          "bdata": "gDgBAJN2AQAAxAkA",
          "dtype": "i4"
         },
         "y": {
          "bdata": "pXnV8sh78j9CqOEy2uvyP6letujmqvI/",
          "dtype": "f8"
         }
        },
        {
         "customdata": [
          [
           "s100_100_100_b0_4000_0_5000_-4000_0",
           -1.7791530961064075,
           75
          ],
          [
           "Original Comsol Mesh",
           0,
           75
          ],
          [
           "s50_50_50_b0_4000_0_5000_-4000_0",
           -0.9939041470083145,
           75
          ]
         ],
         "hovertemplate": "Cells: %{x}<br>Entropy number: %{y}<br>Snap Idx: %{customdata[2]:03d}<br>Mapped: %{customdata[0]}<br>Rel Error: %{customdata[1]:.3f}%<extra></extra>",
         "line": {
          "color": "rgb(51, 240, 151)"
         },
         "mode": "markers+lines",
         "name": "075",
         "opacity": 0.4,
         "type": "scatter",
         "x": {
          "bdata": "gDgBAHGMAQAAxAkA",
          "dtype": "i4"
         },
         "y": {
          "bdata": "02+yA4nZ8T/dFlOPTizyPwwfW0ER/vE/",
          "dtype": "f8"
         }
        },
        {
         "customdata": [
          [
           "s100_100_100_b0_4000_0_5000_-4000_0",
           -3.2986199196874537,
           76
          ],
          [
           "Original Comsol Mesh",
           0,
           76
          ],
          [
           "s50_50_50_b0_4000_0_5000_-4000_0",
           -2.0266468654277365,
           76
          ]
         ],
         "hovertemplate": "Cells: %{x}<br>Entropy number: %{y}<br>Snap Idx: %{customdata[2]:03d}<br>Mapped: %{customdata[0]}<br>Rel Error: %{customdata[1]:.3f}%<extra></extra>",
         "line": {
          "color": "rgb(56, 241, 147)"
         },
         "mode": "markers+lines",
         "name": "076",
         "opacity": 0.4,
         "type": "scatter",
         "x": {
          "bdata": "gDgBAJpSAQAAxAkA",
          "dtype": "i4"
         },
         "y": {
          "bdata": "LxRa0tjC8z9tFlNNaW/0P0/LNJxjBfQ/",
          "dtype": "f8"
         }
        },
        {
         "customdata": [
          [
           "s100_100_100_b0_4000_0_5000_-4000_0",
           -4.148155870257985,
           77
          ],
          [
           "Original Comsol Mesh",
           0,
           77
          ],
          [
           "s50_50_50_b0_4000_0_5000_-4000_0",
           -2.3887155875299335,
           77
          ]
         ],
         "hovertemplate": "Cells: %{x}<br>Entropy number: %{y}<br>Snap Idx: %{customdata[2]:03d}<br>Mapped: %{customdata[0]}<br>Rel Error: %{customdata[1]:.3f}%<extra></extra>",
         "line": {
          "color": "rgb(60, 242, 143)"
         },
         "mode": "markers+lines",
         "name": "077",
         "opacity": 0.4,
         "type": "scatter",
         "x": {
          "bdata": "gDgBAP9UAQAAxAkA",
          "dtype": "i4"
         },
         "y": {
          "bdata": "bGZmngPv9D8X/dFQ79b1P+qEox9iUfU/",
          "dtype": "f8"
         }
        },
        {
         "customdata": [
          [
           "s100_100_100_b0_4000_0_5000_-4000_0",
           -2.4545873834950074,
           78
          ],
          [
           "Original Comsol Mesh",
           0,
           78
          ],
          [
           "s50_50_50_b0_4000_0_5000_-4000_0",
           -1.4316530175538307,
           78
          ]
         ],
         "hovertemplate": "Cells: %{x}<br>Entropy number: %{y}<br>Snap Idx: %{customdata[2]:03d}<br>Mapped: %{customdata[0]}<br>Rel Error: %{customdata[1]:.3f}%<extra></extra>",
         "line": {
          "color": "rgb(64, 243, 139)"
         },
         "mode": "markers+lines",
         "name": "078",
         "opacity": 0.4,
         "type": "scatter",
         "x": {
          "bdata": "gDgBAMlTAQAAxAkA",
          "dtype": "i4"
         },
         "y": {
          "bdata": "1lTtInCK8j9As4wM4AHzP6CUSnY2vPI/",
          "dtype": "f8"
         }
        },
        {
         "customdata": [
          [
           "s100_100_100_b0_4000_0_5000_-4000_0",
           -3.6589835054801725,
           79
          ],
          [
           "Original Comsol Mesh",
           0,
           79
          ],
          [
           "s50_50_50_b0_4000_0_5000_-4000_0",
           -2.0543529860913186,
           79
          ]
         ],
         "hovertemplate": "Cells: %{x}<br>Entropy number: %{y}<br>Snap Idx: %{customdata[2]:03d}<br>Mapped: %{customdata[0]}<br>Rel Error: %{customdata[1]:.3f}%<extra></extra>",
         "line": {
          "color": "rgb(68, 244, 135)"
         },
         "mode": "markers+lines",
         "name": "079",
         "opacity": 0.4,
         "type": "scatter",
         "x": {
          "bdata": "gDgBABpZAQAAxAkA",
          "dtype": "i4"
         },
         "y": {
          "bdata": "wd7t8/yM8z9/c4o1E0v0P8GdM5BZ4PM/",
          "dtype": "f8"
         }
        },
        {
         "customdata": [
          [
           "s100_100_100_b0_4000_0_5000_-4000_0",
           -1.9709083465771695,
           80
          ],
          [
           "Original Comsol Mesh",
           0,
           80
          ],
          [
           "s50_50_50_b0_4000_0_5000_-4000_0",
           -1.1021976612201274,
           80
          ]
         ],
         "hovertemplate": "Cells: %{x}<br>Entropy number: %{y}<br>Snap Idx: %{customdata[2]:03d}<br>Mapped: %{customdata[0]}<br>Rel Error: %{customdata[1]:.3f}%<extra></extra>",
         "line": {
          "color": "rgb(73, 246, 131)"
         },
         "mode": "markers+lines",
         "name": "080",
         "opacity": 0.4,
         "type": "scatter",
         "x": {
          "bdata": "gDgBACSEAQAAxAkA",
          "dtype": "i4"
         },
         "y": {
          "bdata": "8amLUukR8j9SodK86m7yP4yJArjnOvI/",
          "dtype": "f8"
         }
        },
        {
         "customdata": [
          [
           "s100_100_100_b0_4000_0_5000_-4000_0",
           -2.959050553062235,
           81
          ],
          [
           "Original Comsol Mesh",
           0,
           81
          ],
          [
           "s50_50_50_b0_4000_0_5000_-4000_0",
           -1.6587701353972264,
           81
          ]
         ],
         "hovertemplate": "Cells: %{x}<br>Entropy number: %{y}<br>Snap Idx: %{customdata[2]:03d}<br>Mapped: %{customdata[0]}<br>Rel Error: %{customdata[1]:.3f}%<extra></extra>",
         "line": {
          "color": "rgb(77, 247, 127)"
         },
         "mode": "markers+lines",
         "name": "081",
         "opacity": 0.4,
         "type": "scatter",
         "x": {
          "bdata": "gDgBADBVAQAAxAkA",
          "dtype": "i4"
         },
         "y": {
          "bdata": "kFajyZls8j89eu5QbPzyP4Pq0MPMq/I/",
          "dtype": "f8"
         }
        },
        {
         "customdata": [
          [
           "s100_100_100_b0_4000_0_5000_-4000_0",
           -2.9518552724575784,
           82
          ],
          [
           "Original Comsol Mesh",
           0,
           82
          ],
          [
           "s50_50_50_b0_4000_0_5000_-4000_0",
           -1.6485014012309958,
           82
          ]
         ],
         "hovertemplate": "Cells: %{x}<br>Entropy number: %{y}<br>Snap Idx: %{customdata[2]:03d}<br>Mapped: %{customdata[0]}<br>Rel Error: %{customdata[1]:.3f}%<extra></extra>",
         "line": {
          "color": "rgb(81, 248, 123)"
         },
         "mode": "markers+lines",
         "name": "082",
         "opacity": 0.4,
         "type": "scatter",
         "x": {
          "bdata": "gDgBAEpUAQAAxAkA",
          "dtype": "i4"
         },
         "y": {
          "bdata": "s/Z75mRr8j9c8ibI0fryP+lm1cS4qvI/",
          "dtype": "f8"
         }
        },
        {
         "customdata": [
          [
           "s100_100_100_b0_4000_0_5000_-4000_0",
           -2.251112334675607,
           83
          ],
          [
           "Original Comsol Mesh",
           0,
           83
          ],
          [
           "s50_50_50_b0_4000_0_5000_-4000_0",
           -1.2321150369136062,
           83
          ]
         ],
         "hovertemplate": "Cells: %{x}<br>Entropy number: %{y}<br>Snap Idx: %{customdata[2]:03d}<br>Mapped: %{customdata[0]}<br>Rel Error: %{customdata[1]:.3f}%<extra></extra>",
         "line": {
          "color": "rgb(85, 249, 119)"
         },
         "mode": "markers+lines",
         "name": "083",
         "opacity": 0.4,
         "type": "scatter",
         "x": {
          "bdata": "gDgBACZoAQAAxAkA",
          "dtype": "i4"
         },
         "y": {
          "bdata": "RdS0T0Pc8T/ZNoZgj0XyP5ffalntC/I/",
          "dtype": "f8"
         }
        },
        {
         "customdata": [
          [
           "s100_100_100_b0_4000_0_5000_-4000_0",
           -2.236370822642328,
           84
          ],
          [
           "Original Comsol Mesh",
           0,
           84
          ],
          [
           "s50_50_50_b0_4000_0_5000_-4000_0",
           -1.2633413619377019,
           84
          ]
         ],
         "hovertemplate": "Cells: %{x}<br>Entropy number: %{y}<br>Snap Idx: %{customdata[2]:03d}<br>Mapped: %{customdata[0]}<br>Rel Error: %{customdata[1]:.3f}%<extra></extra>",
         "line": {
          "color": "rgb(90, 250, 115)"
         },
         "mode": "markers+lines",
         "name": "084",
         "opacity": 0.4,
         "type": "scatter",
         "x": {
          "bdata": "gDgBAJd7AQAAxAkA",
          "dtype": "i4"
         },
         "y": {
          "bdata": "pX4hd+RX8j/lahL0T8PyPwNFXU2hhvI/",
          "dtype": "f8"
         }
        },
        {
         "customdata": [
          [
           "s100_100_100_b0_4000_0_5000_-4000_0",
           -2.3294470189992276,
           85
          ],
          [
           "Original Comsol Mesh",
           0,
           85
          ],
          [
           "s50_50_50_b0_4000_0_5000_-4000_0",
           -1.351944722883722,
           85
          ]
         ],
         "hovertemplate": "Cells: %{x}<br>Entropy number: %{y}<br>Snap Idx: %{customdata[2]:03d}<br>Mapped: %{customdata[0]}<br>Rel Error: %{customdata[1]:.3f}%<extra></extra>",
         "line": {
          "color": "rgb(94, 251, 111)"
         },
         "mode": "markers+lines",
         "name": "085",
         "opacity": 0.4,
         "type": "scatter",
         "x": {
          "bdata": "gDgBAL92AQAAxAkA",
          "dtype": "i4"
         },
         "y": {
          "bdata": "xouvhGaG8j+Pg7vFgffyP1eKpffctfI/",
          "dtype": "f8"
         }
        },
        {
         "customdata": [
          [
           "s100_100_100_b0_4000_0_5000_-4000_0",
           -2.492540219970795,
           86
          ],
          [
           "Original Comsol Mesh",
           0,
           86
          ],
          [
           "s50_50_50_b0_4000_0_5000_-4000_0",
           -1.4928435253778853,
           86
          ]
         ],
         "hovertemplate": "Cells: %{x}<br>Entropy number: %{y}<br>Snap Idx: %{customdata[2]:03d}<br>Mapped: %{customdata[0]}<br>Rel Error: %{customdata[1]:.3f}%<extra></extra>",
         "line": {
          "color": "rgb(98, 252, 107)"
         },
         "mode": "markers+lines",
         "name": "086",
         "opacity": 0.4,
         "type": "scatter",
         "x": {
          "bdata": "gDgBAE2PAQAAxAkA",
          "dtype": "i4"
         },
         "y": {
          "bdata": "+rVJW2No9D8fLejU7+30P2jZwYPznfQ/",
          "dtype": "f8"
         }
        },
        {
         "customdata": [
          [
           "s100_100_100_b0_4000_0_5000_-4000_0",
           -2.6427815324657455,
           87
          ],
          [
           "Original Comsol Mesh",
           0,
           87
          ],
          [
           "s50_50_50_b0_4000_0_5000_-4000_0",
           -1.5506124900282268,
           87
          ]
         ],
         "hovertemplate": "Cells: %{x}<br>Entropy number: %{y}<br>Snap Idx: %{customdata[2]:03d}<br>Mapped: %{customdata[0]}<br>Rel Error: %{customdata[1]:.3f}%<extra></extra>",
         "line": {
          "color": "rgb(103, 252, 104)"
         },
         "mode": "markers+lines",
         "name": "087",
         "opacity": 0.4,
         "type": "scatter",
         "x": {
          "bdata": "gDgBANaCAQAAxAkA",
          "dtype": "i4"
         },
         "y": {
          "bdata": "ycpoKIeE8z+cIw/kKAz0P1d/F2+UvPM/",
          "dtype": "f8"
         }
        },
        {
         "customdata": [
          [
           "s100_100_100_b0_4000_0_5000_-4000_0",
           -3.8426573904635957,
           88
          ],
          [
           "Original Comsol Mesh",
           0,
           88
          ],
          [
           "s50_50_50_b0_4000_0_5000_-4000_0",
           -2.105450916434654,
           88
          ]
         ],
         "hovertemplate": "Cells: %{x}<br>Entropy number: %{y}<br>Snap Idx: %{customdata[2]:03d}<br>Mapped: %{customdata[0]}<br>Rel Error: %{customdata[1]:.3f}%<extra></extra>",
         "line": {
          "color": "rgb(108, 252, 100)"
         },
         "mode": "markers+lines",
         "name": "088",
         "opacity": 0.4,
         "type": "scatter",
         "x": {
          "bdata": "gDgBANVTAQAAxAkA",
          "dtype": "i4"
         },
         "y": {
          "bdata": "hqPV9Rel8z9O4DMxEW70P59tdl7z//M/",
          "dtype": "f8"
         }
        },
        {
         "customdata": [
          [
           "s100_100_100_b0_4000_0_5000_-4000_0",
           -2.3384354614614327,
           89
          ],
          [
           "Original Comsol Mesh",
           0,
           89
          ],
          [
           "s50_50_50_b0_4000_0_5000_-4000_0",
           -1.3717108681251284,
           89
          ]
         ],
         "hovertemplate": "Cells: %{x}<br>Entropy number: %{y}<br>Snap Idx: %{customdata[2]:03d}<br>Mapped: %{customdata[0]}<br>Rel Error: %{customdata[1]:.3f}%<extra></extra>",
         "line": {
          "color": "rgb(112, 252, 97)"
         },
         "mode": "markers+lines",
         "name": "089",
         "opacity": 0.4,
         "type": "scatter",
         "x": {
          "bdata": "gDgBAFSOAQAAxAkA",
          "dtype": "i4"
         },
         "y": {
          "bdata": "chAm+4Ij8z+HiPyv05jzP+aEBrMCVPM/",
          "dtype": "f8"
         }
        },
        {
         "customdata": [
          [
           "s100_100_100_b0_4000_0_5000_-4000_0",
           -2.2179175785789655,
           90
          ],
          [
           "Original Comsol Mesh",
           0,
           90
          ],
          [
           "s50_50_50_b0_4000_0_5000_-4000_0",
           -1.2037183172526174,
           90
          ]
         ],
         "hovertemplate": "Cells: %{x}<br>Entropy number: %{y}<br>Snap Idx: %{customdata[2]:03d}<br>Mapped: %{customdata[0]}<br>Rel Error: %{customdata[1]:.3f}%<extra></extra>",
         "line": {
          "color": "rgb(117, 252, 93)"
         },
         "mode": "markers+lines",
         "name": "090",
         "opacity": 0.4,
         "type": "scatter",
         "x": {
          "bdata": "gDgBADJWAQAAxAkA",
          "dtype": "i4"
         },
         "y": {
          "bdata": "w3qle6KC8T8twJaZT+jxP1PXjfUgsfE/",
          "dtype": "f8"
         }
        },
        {
         "customdata": [
          [
           "s100_100_100_b0_4000_0_5000_-4000_0",
           -3.622914417126392,
           91
          ],
          [
           "Original Comsol Mesh",
           0,
           91
          ],
          [
           "s50_50_50_b0_4000_0_5000_-4000_0",
           -2.046878170643442,
           91
          ]
         ],
         "hovertemplate": "Cells: %{x}<br>Entropy number: %{y}<br>Snap Idx: %{customdata[2]:03d}<br>Mapped: %{customdata[0]}<br>Rel Error: %{customdata[1]:.3f}%<extra></extra>",
         "line": {
          "color": "rgb(122, 252, 90)"
         },
         "mode": "markers+lines",
         "name": "091",
         "opacity": 0.4,
         "type": "scatter",
         "x": {
          "bdata": "gDgBAC1XAQAAxAkA",
          "dtype": "i4"
         },
         "y": {
          "bdata": "/niNxT6K8z9pBiznSEb0P0l0xsQL3PM/",
          "dtype": "f8"
         }
        },
        {
         "customdata": [
          [
           "s100_100_100_b0_4000_0_5000_-4000_0",
           -2.037845128395302,
           92
          ],
          [
           "Original Comsol Mesh",
           0,
           92
          ],
          [
           "s50_50_50_b0_4000_0_5000_-4000_0",
           -1.1054168179565098,
           92
          ]
         ],
         "hovertemplate": "Cells: %{x}<br>Entropy number: %{y}<br>Snap Idx: %{customdata[2]:03d}<br>Mapped: %{customdata[0]}<br>Rel Error: %{customdata[1]:.3f}%<extra></extra>",
         "line": {
          "color": "rgb(126, 252, 86)"
         },
         "mode": "markers+lines",
         "name": "092",
         "opacity": 0.4,
         "type": "scatter",
         "x": {
          "bdata": "gDgBAPRsAQAAxAkA",
          "dtype": "i4"
         },
         "y": {
          "bdata": "cD8bTYW48T8C9OQe5BbyP9N7hVCz4/E/",
          "dtype": "f8"
         }
        },
        {
         "customdata": [
          [
           "s100_100_100_b0_4000_0_5000_-4000_0",
           -1.5900468891500736,
           93
          ],
          [
           "Original Comsol Mesh",
           0,
           93
          ],
          [
           "s50_50_50_b0_4000_0_5000_-4000_0",
           -0.8592215376630068,
           93
          ]
         ],
         "hovertemplate": "Cells: %{x}<br>Entropy number: %{y}<br>Snap Idx: %{customdata[2]:03d}<br>Mapped: %{customdata[0]}<br>Rel Error: %{customdata[1]:.3f}%<extra></extra>",
         "line": {
          "color": "rgb(131, 252, 83)"
         },
         "mode": "markers+lines",
         "name": "093",
         "opacity": 0.4,
         "type": "scatter",
         "x": {
          "bdata": "gDgBALx7AQAAxAkA",
          "dtype": "i4"
         },
         "y": {
          "bdata": "hJYU2EFh8T/Sfe9BJanxPzxyeYNMgvE/",
          "dtype": "f8"
         }
        },
        {
         "customdata": [
          [
           "s100_100_100_b0_4000_0_5000_-4000_0",
           -3.2035000640043205,
           94
          ],
          [
           "Original Comsol Mesh",
           0,
           94
          ],
          [
           "s50_50_50_b0_4000_0_5000_-4000_0",
           -1.8024446807483157,
           94
          ]
         ],
         "hovertemplate": "Cells: %{x}<br>Entropy number: %{y}<br>Snap Idx: %{customdata[2]:03d}<br>Mapped: %{customdata[0]}<br>Rel Error: %{customdata[1]:.3f}%<extra></extra>",
         "line": {
          "color": "rgb(136, 252, 80)"
         },
         "mode": "markers+lines",
         "name": "094",
         "opacity": 0.4,
         "type": "scatter",
         "x": {
          "bdata": "gDgBAAlhAQAAxAkA",
          "dtype": "i4"
         },
         "y": {
          "bdata": "C6qA/E448z/KgXmsJdvzP4d1JbiGf/M/",
          "dtype": "f8"
         }
        },
        {
         "customdata": [
          [
           "s100_100_100_b0_4000_0_5000_-4000_0",
           -2.791638434013697,
           95
          ],
          [
           "Original Comsol Mesh",
           0,
           95
          ],
          [
           "s50_50_50_b0_4000_0_5000_-4000_0",
           -1.5774255490147753,
           95
          ]
         ],
         "hovertemplate": "Cells: %{x}<br>Entropy number: %{y}<br>Snap Idx: %{customdata[2]:03d}<br>Mapped: %{customdata[0]}<br>Rel Error: %{customdata[1]:.3f}%<extra></extra>",
         "line": {
          "color": "rgb(141, 252, 76)"
         },
         "mode": "markers+lines",
         "name": "095",
         "opacity": 0.4,
         "type": "scatter",
         "x": {
          "bdata": "gDgBADFrAQAAxAkA",
          "dtype": "i4"
         },
         "y": {
          "bdata": "RrC5zaDf8j/J6eYdYmrzP3hTGKv6G/M/",
          "dtype": "f8"
         }
        },
        {
         "customdata": [
          [
           "s100_100_100_b0_4000_0_5000_-4000_0",
           -3.7787268243697545,
           96
          ],
          [
           "Original Comsol Mesh",
           0,
           96
          ],
          [
           "s50_50_50_b0_4000_0_5000_-4000_0",
           -2.0957310349113487,
           96
          ]
         ],
         "hovertemplate": "Cells: %{x}<br>Entropy number: %{y}<br>Snap Idx: %{customdata[2]:03d}<br>Mapped: %{customdata[0]}<br>Rel Error: %{customdata[1]:.3f}%<extra></extra>",
         "line": {
          "color": "rgb(145, 252, 73)"
         },
         "mode": "markers+lines",
         "name": "096",
         "opacity": 0.4,
         "type": "scatter",
         "x": {
          "bdata": "gDgBAFpUAQAAxAkA",
          "dtype": "i4"
         },
         "y": {
          "bdata": "Ot17vnme8z/oJNvctmP0P9uq9rhS9vM/",
          "dtype": "f8"
         }
        },
        {
         "customdata": [
          [
           "s100_100_100_b0_4000_0_5000_-4000_0",
           -3.072541246684992,
           97
          ],
          [
           "Original Comsol Mesh",
           0,
           97
          ],
          [
           "s50_50_50_b0_4000_0_5000_-4000_0",
           -1.7113713236243853,
           97
          ]
         ],
         "hovertemplate": "Cells: %{x}<br>Entropy number: %{y}<br>Snap Idx: %{customdata[2]:03d}<br>Mapped: %{customdata[0]}<br>Rel Error: %{customdata[1]:.3f}%<extra></extra>",
         "line": {
          "color": "rgb(150, 252, 69)"
         },
         "mode": "markers+lines",
         "name": "097",
         "opacity": 0.4,
         "type": "scatter",
         "x": {
          "bdata": "gDgBAL9TAQAAxAkA",
          "dtype": "i4"
         },
         "y": {
          "bdata": "bh+lp2tp8j+c76hE1f7yP+VDoaicq/I/",
          "dtype": "f8"
         }
        },
        {
         "customdata": [
          [
           "s100_100_100_b0_4000_0_5000_-4000_0",
           -3.1460298189693057,
           98
          ],
          [
           "Original Comsol Mesh",
           0,
           98
          ],
          [
           "s50_50_50_b0_4000_0_5000_-4000_0",
           -1.7815962633359044,
           98
          ]
         ],
         "hovertemplate": "Cells: %{x}<br>Entropy number: %{y}<br>Snap Idx: %{customdata[2]:03d}<br>Mapped: %{customdata[0]}<br>Rel Error: %{customdata[1]:.3f}%<extra></extra>",
         "line": {
          "color": "rgb(155, 252, 66)"
         },
         "mode": "markers+lines",
         "name": "098",
         "opacity": 0.4,
         "type": "scatter",
         "x": {
          "bdata": "gDgBAFhiAQAAxAkA",
          "dtype": "i4"
         },
         "y": {
          "bdata": "xLIkojgn8z+qpJUWfcbzP0TTC6dLbPM/",
          "dtype": "f8"
         }
        },
        {
         "customdata": [
          [
           "s100_100_100_b0_4000_0_5000_-4000_0",
           -2.6310697135493015,
           99
          ],
          [
           "Original Comsol Mesh",
           0,
           99
          ],
          [
           "s50_50_50_b0_4000_0_5000_-4000_0",
           -1.5972721114373578,
           99
          ]
         ],
         "hovertemplate": "Cells: %{x}<br>Entropy number: %{y}<br>Snap Idx: %{customdata[2]:03d}<br>Mapped: %{customdata[0]}<br>Rel Error: %{customdata[1]:.3f}%<extra></extra>",
         "line": {
          "color": "rgb(159, 252, 62)"
         },
         "mode": "markers+lines",
         "name": "099",
         "opacity": 0.4,
         "type": "scatter",
         "x": {
          "bdata": "gDgBADqKAQAAxAkA",
          "dtype": "i4"
         },
         "y": {
          "bdata": "ZJ5sbs6V9D+IiFCMNCT1P1gsbvPBzfQ/",
          "dtype": "f8"
         }
        },
        {
         "customdata": [
          [
           "s100_100_100_b0_4000_0_5000_-4000_0",
           -3.3880993930756533,
           100
          ],
          [
           "Original Comsol Mesh",
           0,
           100
          ],
          [
           "s50_50_50_b0_4000_0_5000_-4000_0",
           -1.9130032572859865,
           100
          ]
         ],
         "hovertemplate": "Cells: %{x}<br>Entropy number: %{y}<br>Snap Idx: %{customdata[2]:03d}<br>Mapped: %{customdata[0]}<br>Rel Error: %{customdata[1]:.3f}%<extra></extra>",
         "line": {
          "color": "rgb(164, 252, 59)"
         },
         "mode": "markers+lines",
         "name": "100",
         "opacity": 0.4,
         "type": "scatter",
         "x": {
          "bdata": "gDgBAJhaAQAAxAkA",
          "dtype": "i4"
         },
         "y": {
          "bdata": "E+HQC3Bj8z921UZXgBH0P4vt+4M4r/M/",
          "dtype": "f8"
         }
        },
        {
         "customdata": [
          [
           "s100_100_100_b0_4000_0_5000_-4000_0",
           -2.310358604849955,
           101
          ],
          [
           "Original Comsol Mesh",
           0,
           101
          ],
          [
           "s50_50_50_b0_4000_0_5000_-4000_0",
           -1.2710907266642617,
           101
          ]
         ],
         "hovertemplate": "Cells: %{x}<br>Entropy number: %{y}<br>Snap Idx: %{customdata[2]:03d}<br>Mapped: %{customdata[0]}<br>Rel Error: %{customdata[1]:.3f}%<extra></extra>",
         "line": {
          "color": "rgb(167, 251, 59)"
         },
         "mode": "markers+lines",
         "name": "101",
         "opacity": 0.4,
         "type": "scatter",
         "x": {
          "bdata": "gDgBAIRlAQAAxAkA",
          "dtype": "i4"
         },
         "y": {
          "bdata": "UkmtOZjw8T8NSvucNV3yP2LbA+pzIfI/",
          "dtype": "f8"
         }
        },
        {
         "customdata": [
          [
           "s100_100_100_b0_4000_0_5000_-4000_0",
           -1.7791530961083928,
           102
          ],
          [
           "Original Comsol Mesh",
           0,
           102
          ],
          [
           "s50_50_50_b0_4000_0_5000_-4000_0",
           -0.9939041470093958,
           102
          ]
         ],
         "hovertemplate": "Cells: %{x}<br>Entropy number: %{y}<br>Snap Idx: %{customdata[2]:03d}<br>Mapped: %{customdata[0]}<br>Rel Error: %{customdata[1]:.3f}%<extra></extra>",
         "line": {
          "color": "rgb(170, 249, 58)"
         },
         "mode": "markers+lines",
         "name": "102",
         "opacity": 0.4,
         "type": "scatter",
         "x": {
          "bdata": "gDgBAHGMAQAAxAkA",
          "dtype": "i4"
         },
         "y": {
          "bdata": "T2+yA4nZ8T++FlOPTizyP7YeW0ER/vE/",
          "dtype": "f8"
         }
        },
        {
         "customdata": [
          [
           "s100_100_100_b0_4000_0_5000_-4000_0",
           -2.975181236819862,
           103
          ],
          [
           "Original Comsol Mesh",
           0,
           103
          ],
          [
           "s50_50_50_b0_4000_0_5000_-4000_0",
           -1.6975509964652384,
           103
          ]
         ],
         "hovertemplate": "Cells: %{x}<br>Entropy number: %{y}<br>Snap Idx: %{customdata[2]:03d}<br>Mapped: %{customdata[0]}<br>Rel Error: %{customdata[1]:.3f}%<extra></extra>",
         "line": {
          "color": "rgb(173, 248, 58)"
         },
         "mode": "markers+lines",
         "name": "103",
         "opacity": 0.4,
         "type": "scatter",
         "x": {
          "bdata": "gDgBAI1jAQAAxAkA",
          "dtype": "i4"
         },
         "y": {
          "bdata": "eNt6EL8e8z/cvADn1rTzP5pWrmMzX/M/",
          "dtype": "f8"
         }
        },
        {
         "customdata": [
          [
           "s100_100_100_b0_4000_0_5000_-4000_0",
           -2.867660319505416,
           104
          ],
          [
           "Original Comsol Mesh",
           0,
           104
          ],
          [
           "s50_50_50_b0_4000_0_5000_-4000_0",
           -1.5822069490358879,
           104
          ]
         ],
         "hovertemplate": "Cells: %{x}<br>Entropy number: %{y}<br>Snap Idx: %{customdata[2]:03d}<br>Mapped: %{customdata[0]}<br>Rel Error: %{customdata[1]:.3f}%<extra></extra>",
         "line": {
          "color": "rgb(177, 246, 57)"
         },
         "mode": "markers+lines",
         "name": "104",
         "opacity": 0.4,
         "type": "scatter",
         "x": {
          "bdata": "gDgBAGRZAQAAxAkA",
          "dtype": "i4"
         },
         "y": {
          "bdata": "ipchyJhO8j/eD5XU9djyP0+WMZKejPI/",
          "dtype": "f8"
         }
        },
        {
         "customdata": [
          [
           "s100_100_100_b0_4000_0_5000_-4000_0",
           -2.642781532400791,
           105
          ],
          [
           "Original Comsol Mesh",
           0,
           105
          ],
          [
           "s50_50_50_b0_4000_0_5000_-4000_0",
           -1.550612489998889,
           105
          ]
         ],
         "hovertemplate": "Cells: %{x}<br>Entropy number: %{y}<br>Snap Idx: %{customdata[2]:03d}<br>Mapped: %{customdata[0]}<br>Rel Error: %{customdata[1]:.3f}%<extra></extra>",
         "line": {
          "color": "rgb(180, 245, 57)"
         },
         "mode": "markers+lines",
         "name": "105",
         "opacity": 0.4,
         "type": "scatter",
         "x": {
          "bdata": "gDgBANaCAQAAxAkA",
          "dtype": "i4"
         },
         "y": {
          "bdata": "WmtoKIeE8z/hsg7kKAz0P9MWF2+UvPM/",
          "dtype": "f8"
         }
        },
        {
         "customdata": [
          [
           "s100_100_100_b0_4000_0_5000_-4000_0",
           -2.0719443224447454,
           106
          ],
          [
           "Original Comsol Mesh",
           0,
           106
          ],
          [
           "s50_50_50_b0_4000_0_5000_-4000_0",
           -1.1018097609776198,
           106
          ]
         ],
         "hovertemplate": "Cells: %{x}<br>Entropy number: %{y}<br>Snap Idx: %{customdata[2]:03d}<br>Mapped: %{customdata[0]}<br>Rel Error: %{customdata[1]:.3f}%<extra></extra>",
         "line": {
          "color": "rgb(183, 244, 56)"
         },
         "mode": "markers+lines",
         "name": "106",
         "opacity": 0.4,
         "type": "scatter",
         "x": {
          "bdata": "gDgBAJtZAQAAxAkA",
          "dtype": "i4"
         },
         "y": {
          "bdata": "YvrwivBs8T8wXFDJUsvxP8nRFuQhmfE/",
          "dtype": "f8"
         }
        },
        {
         "customdata": [
          [
           "s100_100_100_b0_4000_0_5000_-4000_0",
           -2.2666281819013654,
           107
          ],
          [
           "Original Comsol Mesh",
           0,
           107
          ],
          [
           "s50_50_50_b0_4000_0_5000_-4000_0",
           -1.164356124090844,
           107
          ]
         ],
         "hovertemplate": "Cells: %{x}<br>Entropy number: %{y}<br>Snap Idx: %{customdata[2]:03d}<br>Mapped: %{customdata[0]}<br>Rel Error: %{customdata[1]:.3f}%<extra></extra>",
         "line": {
          "color": "rgb(186, 242, 56)"
         },
         "mode": "markers+lines",
         "name": "107",
         "opacity": 0.4,
         "type": "scatter",
         "x": {
          "bdata": "gDgBAFBSAQAAxAkA",
          "dtype": "i4"
         },
         "y": {
          "bdata": "pQdgwpCE8T9z7sxBkuzxP7rDid0kt/E/",
          "dtype": "f8"
         }
        },
        {
         "customdata": [
          [
           "s100_100_100_b0_4000_0_5000_-4000_0",
           -3.6643803084021944,
           108
          ],
          [
           "Original Comsol Mesh",
           0,
           108
          ],
          [
           "s50_50_50_b0_4000_0_5000_-4000_0",
           -2.0502639015621886,
           108
          ]
         ],
         "hovertemplate": "Cells: %{x}<br>Entropy number: %{y}<br>Snap Idx: %{customdata[2]:03d}<br>Mapped: %{customdata[0]}<br>Rel Error: %{customdata[1]:.3f}%<extra></extra>",
         "line": {
          "color": "rgb(189, 241, 55)"
         },
         "mode": "markers+lines",
         "name": "108",
         "opacity": 0.4,
         "type": "scatter",
         "x": {
          "bdata": "gDgBABFXAQAAxAkA",
          "dtype": "i4"
         },
         "y": {
          "bdata": "xg3jGGmO8z89pIK110z0P7RRBitL4vM/",
          "dtype": "f8"
         }
        },
        {
         "customdata": [
          [
           "s100_100_100_b0_4000_0_5000_-4000_0",
           -2.6795537828524707,
           109
          ],
          [
           "Original Comsol Mesh",
           0,
           109
          ],
          [
           "s50_50_50_b0_4000_0_5000_-4000_0",
           -1.4638277471157775,
           109
          ]
         ],
         "hovertemplate": "Cells: %{x}<br>Entropy number: %{y}<br>Snap Idx: %{customdata[2]:03d}<br>Mapped: %{customdata[0]}<br>Rel Error: %{customdata[1]:.3f}%<extra></extra>",
         "line": {
          "color": "rgb(192, 239, 55)"
         },
         "mode": "markers+lines",
         "name": "109",
         "opacity": 0.4,
         "type": "scatter",
         "x": {
          "bdata": "gDgBAFxcAQAAxAkA",
          "dtype": "i4"
         },
         "y": {
          "bdata": "aTdavtgp8j9OCeVP36nyP2s0z7fuY/I/",
          "dtype": "f8"
         }
        },
        {
         "customdata": [
          [
           "s100_100_100_b0_4000_0_5000_-4000_0",
           -3.1667391889126546,
           110
          ],
          [
           "Original Comsol Mesh",
           0,
           110
          ],
          [
           "s50_50_50_b0_4000_0_5000_-4000_0",
           -1.8006281240714932,
           110
          ]
         ],
         "hovertemplate": "Cells: %{x}<br>Entropy number: %{y}<br>Snap Idx: %{customdata[2]:03d}<br>Mapped: %{customdata[0]}<br>Rel Error: %{customdata[1]:.3f}%<extra></extra>",
         "line": {
          "color": "rgb(196, 238, 54)"
         },
         "mode": "markers+lines",
         "name": "110",
         "opacity": 0.4,
         "type": "scatter",
         "x": {
          "bdata": "gDgBAP9hAQAAxAkA",
          "dtype": "i4"
         },
         "y": {
          "bdata": "Y4pu08ct8z+RzpBdWM7zP++20g8Mc/M/",
          "dtype": "f8"
         }
        },
        {
         "customdata": [
          [
           "s100_100_100_b0_4000_0_5000_-4000_0",
           -3.306399632095147,
           111
          ],
          [
           "Original Comsol Mesh",
           0,
           111
          ],
          [
           "s50_50_50_b0_4000_0_5000_-4000_0",
           -1.8700865710315238,
           111
          ]
         ],
         "hovertemplate": "Cells: %{x}<br>Entropy number: %{y}<br>Snap Idx: %{customdata[2]:03d}<br>Mapped: %{customdata[0]}<br>Rel Error: %{customdata[1]:.3f}%<extra></extra>",
         "line": {
          "color": "rgb(199, 237, 54)"
         },
         "mode": "markers+lines",
         "name": "111",
         "opacity": 0.4,
         "type": "scatter",
         "x": {
          "bdata": "gDgBAOFeAQAAxAkA",
          "dtype": "i4"
         },
         "y": {
          "bdata": "QJQm+PpQ8z+QDg1vEvrzP8EYAzdvmvM/",
          "dtype": "f8"
         }
        },
        {
         "customdata": [
          [
           "s100_100_100_b0_4000_0_5000_-4000_0",
           -2.1277789933631537,
           112
          ],
          [
           "Original Comsol Mesh",
           0,
           112
          ],
          [
           "s50_50_50_b0_4000_0_5000_-4000_0",
           -1.1524335446471072,
           112
          ]
         ],
         "hovertemplate": "Cells: %{x}<br>Entropy number: %{y}<br>Snap Idx: %{customdata[2]:03d}<br>Mapped: %{customdata[0]}<br>Rel Error: %{customdata[1]:.3f}%<extra></extra>",
         "line": {
          "color": "rgb(202, 235, 53)"
         },
         "mode": "markers+lines",
         "name": "112",
         "opacity": 0.4,
         "type": "scatter",
         "x": {
          "bdata": "gDgBAMpqAQAAxAkA",
          "dtype": "i4"
         },
         "y": {
          "bdata": "Hr4TiTfG8T/zvB/vIynyPyUHuuaP8/E/",
          "dtype": "f8"
         }
        },
        {
         "customdata": [
          [
           "s100_100_100_b0_4000_0_5000_-4000_0",
           -1.970908346576401,
           113
          ],
          [
           "Original Comsol Mesh",
           0,
           113
          ],
          [
           "s50_50_50_b0_4000_0_5000_-4000_0",
           -1.1021976612198037,
           113
          ]
         ],
         "hovertemplate": "Cells: %{x}<br>Entropy number: %{y}<br>Snap Idx: %{customdata[2]:03d}<br>Mapped: %{customdata[0]}<br>Rel Error: %{customdata[1]:.3f}%<extra></extra>",
         "line": {
          "color": "rgb(205, 234, 53)"
         },
         "mode": "markers+lines",
         "name": "113",
         "opacity": 0.4,
         "type": "scatter",
         "x": {
          "bdata": "gDgBACSEAQAAxAkA",
          "dtype": "i4"
         },
         "y": {
          "bdata": "r6mLUukR8j/moNK86m7yPzKJArjnOvI/",
          "dtype": "f8"
         }
        },
        {
         "customdata": [
          [
           "s100_100_100_b0_4000_0_5000_-4000_0",
           -3.2381227867309876,
           114
          ],
          [
           "Original Comsol Mesh",
           0,
           114
          ],
          [
           "s50_50_50_b0_4000_0_5000_-4000_0",
           -1.8365094518607135,
           114
          ]
         ],
         "hovertemplate": "Cells: %{x}<br>Entropy number: %{y}<br>Snap Idx: %{customdata[2]:03d}<br>Mapped: %{customdata[0]}<br>Rel Error: %{customdata[1]:.3f}%<extra></extra>",
         "line": {
          "color": "rgb(208, 232, 52)"
         },
         "mode": "markers+lines",
         "name": "114",
         "opacity": 0.4,
         "type": "scatter",
         "x": {
          "bdata": "gDgBACphAQAAxAkA",
          "dtype": "i4"
         },
         "y": {
          "bdata": "3Ff9wc088z82xciSnOHzPzf5U/IjhPM/",
          "dtype": "f8"
         }
        },
        {
         "customdata": [
          [
           "s100_100_100_b0_4000_0_5000_-4000_0",
           -1.8110946347425791,
           115
          ],
          [
           "Original Comsol Mesh",
           0,
           115
          ],
          [
           "s50_50_50_b0_4000_0_5000_-4000_0",
           -0.9884686984772678,
           115
          ]
         ],
         "hovertemplate": "Cells: %{x}<br>Entropy number: %{y}<br>Snap Idx: %{customdata[2]:03d}<br>Mapped: %{customdata[0]}<br>Rel Error: %{customdata[1]:.3f}%<extra></extra>",
         "line": {
          "color": "rgb(211, 230, 52)"
         },
         "mode": "markers+lines",
         "name": "115",
         "opacity": 0.4,
         "type": "scatter",
         "x": {
          "bdata": "gDgBAOh1AQAAxAkA",
          "dtype": "i4"
         },
         "y": {
          "bdata": "PkPhaBSL8T/sRJ3u6t3xP3Mktbm0sPE/",
          "dtype": "f8"
         }
        },
        {
         "customdata": [
          [
           "s100_100_100_b0_4000_0_5000_-4000_0",
           -3.0324959271261682,
           116
          ],
          [
           "Original Comsol Mesh",
           0,
           116
          ],
          [
           "s50_50_50_b0_4000_0_5000_-4000_0",
           -1.6263939514053933,
           116
          ]
         ],
         "hovertemplate": "Cells: %{x}<br>Entropy number: %{y}<br>Snap Idx: %{customdata[2]:03d}<br>Mapped: %{customdata[0]}<br>Rel Error: %{customdata[1]:.3f}%<extra></extra>",
         "line": {
          "color": "rgb(213, 228, 53)"
         },
         "mode": "markers+lines",
         "name": "116",
         "opacity": 0.4,
         "type": "scatter",
         "x": {
          "bdata": "gDgBAORVAQAAxAkA",
          "dtype": "i4"
         },
         "y": {
          "bdata": "sg2aLBJf8j+xcCbSJvLyPwgE2eFEo/I/",
          "dtype": "f8"
         }
        },
        {
         "customdata": [
          [
           "s100_100_100_b0_4000_0_5000_-4000_0",
           -3.412996233977069,
           117
          ],
          [
           "Original Comsol Mesh",
           0,
           117
          ],
          [
           "s50_50_50_b0_4000_0_5000_-4000_0",
           -1.9368018792215513,
           117
          ]
         ],
         "hovertemplate": "Cells: %{x}<br>Entropy number: %{y}<br>Snap Idx: %{customdata[2]:03d}<br>Mapped: %{customdata[0]}<br>Rel Error: %{customdata[1]:.3f}%<extra></extra>",
         "line": {
          "color": "rgb(215, 226, 53)"
         },
         "mode": "markers+lines",
         "name": "117",
         "opacity": 0.4,
         "type": "scatter",
         "x": {
          "bdata": "gDgBAIxaAQAAxAkA",
          "dtype": "i4"
         },
         "y": {
          "bdata": "pvyXbsBs8z8Zksj+dxz0PyIdqMrAuPM/",
          "dtype": "f8"
         }
        },
        {
         "customdata": [
          [
           "s100_100_100_b0_4000_0_5000_-4000_0",
           -2.037845128394166,
           118
          ],
          [
           "Original Comsol Mesh",
           0,
           118
          ],
          [
           "s50_50_50_b0_4000_0_5000_-4000_0",
           -1.1054168179549724,
           118
          ]
         ],
         "hovertemplate": "Cells: %{x}<br>Entropy number: %{y}<br>Snap Idx: %{customdata[2]:03d}<br>Mapped: %{customdata[0]}<br>Rel Error: %{customdata[1]:.3f}%<extra></extra>",
         "line": {
          "color": "rgb(218, 223, 54)"
         },
         "mode": "markers+lines",
         "name": "118",
         "opacity": 0.4,
         "type": "scatter",
         "x": {
          "bdata": "gDgBAPRsAQAAxAkA",
          "dtype": "i4"
         },
         "y": {
          "bdata": "Ej8bTYW48T9n8+Qe5BbyP4h7hVCz4/E/",
          "dtype": "f8"
         }
        },
        {
         "customdata": [
          [
           "s100_100_100_b0_4000_0_5000_-4000_0",
           -1.9587253521085817,
           119
          ],
          [
           "Original Comsol Mesh",
           0,
           119
          ],
          [
           "s50_50_50_b0_4000_0_5000_-4000_0",
           -1.0635029486593885,
           119
          ]
         ],
         "hovertemplate": "Cells: %{x}<br>Entropy number: %{y}<br>Snap Idx: %{customdata[2]:03d}<br>Mapped: %{customdata[0]}<br>Rel Error: %{customdata[1]:.3f}%<extra></extra>",
         "line": {
          "color": "rgb(220, 221, 54)"
         },
         "mode": "markers+lines",
         "name": "119",
         "opacity": 0.4,
         "type": "scatter",
         "x": {
          "bdata": "gDgBAIxvAQAAxAkA",
          "dtype": "i4"
         },
         "y": {
          "bdata": "6LD7JFCn8T/XjpU+mgHyP/FpTUqU0PE/",
          "dtype": "f8"
         }
        },
        {
         "customdata": [
          [
           "s100_100_100_b0_4000_0_5000_-4000_0",
           -2.4545873831975857,
           120
          ],
          [
           "Original Comsol Mesh",
           0,
           120
          ],
          [
           "s50_50_50_b0_4000_0_5000_-4000_0",
           -1.4316530170753932,
           120
          ]
         ],
         "hovertemplate": "Cells: %{x}<br>Entropy number: %{y}<br>Snap Idx: %{customdata[2]:03d}<br>Mapped: %{customdata[0]}<br>Rel Error: %{customdata[1]:.3f}%<extra></extra>",
         "line": {
          "color": "rgb(223, 218, 54)"
         },
         "mode": "markers+lines",
         "name": "120",
         "opacity": 0.4,
         "type": "scatter",
         "x": {
          "bdata": "gDgBAMlTAQAAxAkA",
          "dtype": "i4"
         },
         "y": {
          "bdata": "JLTrInCK8j9ZyIoM4AHzP70USXY2vPI/",
          "dtype": "f8"
         }
        },
        {
         "customdata": [
          [
           "s100_100_100_b0_4000_0_5000_-4000_0",
           -3.6407701216546253,
           121
          ],
          [
           "Original Comsol Mesh",
           0,
           121
          ],
          [
           "s50_50_50_b0_4000_0_5000_-4000_0",
           -2.0456434105528767,
           121
          ]
         ],
         "hovertemplate": "Cells: %{x}<br>Entropy number: %{y}<br>Snap Idx: %{customdata[2]:03d}<br>Mapped: %{customdata[0]}<br>Rel Error: %{customdata[1]:.3f}%<extra></extra>",
         "line": {
          "color": "rgb(225, 216, 55)"
         },
         "mode": "markers+lines",
         "name": "121",
         "opacity": 0.4,
         "type": "scatter",
         "x": {
          "bdata": "gDgBAEpZAQAAxAkA",
          "dtype": "i4"
         },
         "y": {
          "bdata": "N++8Fq+N8z8OWVWy0Er0PydIUT6M4PM/",
          "dtype": "f8"
         }
        },
        {
         "customdata": [
          [
           "s100_100_100_b0_4000_0_5000_-4000_0",
           -3.1460298189712117,
           122
          ],
          [
           "Original Comsol Mesh",
           0,
           122
          ],
          [
           "s50_50_50_b0_4000_0_5000_-4000_0",
           -1.7815962633367297,
           122
          ]
         ],
         "hovertemplate": "Cells: %{x}<br>Entropy number: %{y}<br>Snap Idx: %{customdata[2]:03d}<br>Mapped: %{customdata[0]}<br>Rel Error: %{customdata[1]:.3f}%<extra></extra>",
         "line": {
          "color": "rgb(227, 214, 55)"
         },
         "mode": "markers+lines",
         "name": "122",
         "opacity": 0.4,
         "type": "scatter",
         "x": {
          "bdata": "gDgBAFhiAQAAxAkA",
          "dtype": "i4"
         },
         "y": {
          "bdata": "lLIkojgn8z/mpJUWfcbzP1HTC6dLbPM/",
          "dtype": "f8"
         }
        },
        {
         "customdata": [
          [
           "s100_100_100_b0_4000_0_5000_-4000_0",
           -2.188064081761789,
           123
          ],
          [
           "Original Comsol Mesh",
           0,
           123
          ],
          [
           "s50_50_50_b0_4000_0_5000_-4000_0",
           -1.1819586538537046,
           123
          ]
         ],
         "hovertemplate": "Cells: %{x}<br>Entropy number: %{y}<br>Snap Idx: %{customdata[2]:03d}<br>Mapped: %{customdata[0]}<br>Rel Error: %{customdata[1]:.3f}%<extra></extra>",
         "line": {
          "color": "rgb(230, 211, 56)"
         },
         "mode": "markers+lines",
         "name": "123",
         "opacity": 0.4,
         "type": "scatter",
         "x": {
          "bdata": "gDgBAMhqAQAAxAkA",
          "dtype": "i4"
         },
         "y": {
          "bdata": "io4cqILW8T80XFXqqTzyP1WrFGh7BfI/",
          "dtype": "f8"
         }
        },
        {
         "customdata": [
          [
           "s100_100_100_b0_4000_0_5000_-4000_0",
           -3.1000334772154337,
           124
          ],
          [
           "Original Comsol Mesh",
           0,
           124
          ],
          [
           "s50_50_50_b0_4000_0_5000_-4000_0",
           -1.6963006051399327,
           124
          ]
         ],
         "hovertemplate": "Cells: %{x}<br>Entropy number: %{y}<br>Snap Idx: %{customdata[2]:03d}<br>Mapped: %{customdata[0]}<br>Rel Error: %{customdata[1]:.3f}%<extra></extra>",
         "line": {
          "color": "rgb(232, 209, 56)"
         },
         "mode": "markers+lines",
         "name": "124",
         "opacity": 0.4,
         "type": "scatter",
         "x": {
          "bdata": "gDgBAF9TAQAAxAkA",
          "dtype": "i4"
         },
         "y": {
          "bdata": "3WErymZp8j9fj35xMQDzP9yYeIqurfI/",
          "dtype": "f8"
         }
        },
        {
         "customdata": [
          [
           "s100_100_100_b0_4000_0_5000_-4000_0",
           -3.2968304189979483,
           125
          ],
          [
           "Original Comsol Mesh",
           0,
           125
          ],
          [
           "s50_50_50_b0_4000_0_5000_-4000_0",
           -1.891525556007052,
           125
          ]
         ],
         "hovertemplate": "Cells: %{x}<br>Entropy number: %{y}<br>Snap Idx: %{customdata[2]:03d}<br>Mapped: %{customdata[0]}<br>Rel Error: %{customdata[1]:.3f}%<extra></extra>",
         "line": {
          "color": "rgb(235, 206, 57)"
         },
         "mode": "markers+lines",
         "name": "125",
         "opacity": 0.4,
         "type": "scatter",
         "x": {
          "bdata": "gDgBAM9gAQAAxAkA",
          "dtype": "i4"
         },
         "y": {
          "bdata": "rIUhknVI8z8HGXAdwfDzP/en1VUykPM/",
          "dtype": "f8"
         }
        },
        {
         "customdata": [
          [
           "s100_100_100_b0_4000_0_5000_-4000_0",
           -3.5191404546017067,
           126
          ],
          [
           "Original Comsol Mesh",
           0,
           126
          ],
          [
           "s50_50_50_b0_4000_0_5000_-4000_0",
           -1.982740200224645,
           126
          ]
         ],
         "hovertemplate": "Cells: %{x}<br>Entropy number: %{y}<br>Snap Idx: %{customdata[2]:03d}<br>Mapped: %{customdata[0]}<br>Rel Error: %{customdata[1]:.3f}%<extra></extra>",
         "line": {
          "color": "rgb(237, 204, 57)"
         },
         "mode": "markers+lines",
         "name": "126",
         "opacity": 0.4,
         "type": "scatter",
         "x": {
          "bdata": "gDgBAGVYAQAAxAkA",
          "dtype": "i4"
         },
         "y": {
          "bdata": "I4bHnTmA8z92rhwIUTb0P3Zknyi5z/M/",
          "dtype": "f8"
         }
        },
        {
         "customdata": [
          [
           "s100_100_100_b0_4000_0_5000_-4000_0",
           -4.07928878781443,
           127
          ],
          [
           "Original Comsol Mesh",
           0,
           127
          ],
          [
           "s50_50_50_b0_4000_0_5000_-4000_0",
           -2.4029141416870314,
           127
          ]
         ],
         "hovertemplate": "Cells: %{x}<br>Entropy number: %{y}<br>Snap Idx: %{customdata[2]:03d}<br>Mapped: %{customdata[0]}<br>Rel Error: %{customdata[1]:.3f}%<extra></extra>",
         "line": {
          "color": "rgb(239, 202, 57)"
         },
         "mode": "markers+lines",
         "name": "127",
         "opacity": 0.4,
         "type": "scatter",
         "x": {
          "bdata": "gDgBAIRTAQAAxAkA",
          "dtype": "i4"
         },
         "y": {
          "bdata": "5pggYdPz9D87SH3c79f1P08jnEiRUfU/",
          "dtype": "f8"
         }
        },
        {
         "customdata": [
          [
           "s100_100_100_b0_4000_0_5000_-4000_0",
           -2.2190317734385996,
           128
          ],
          [
           "Original Comsol Mesh",
           0,
           128
          ],
          [
           "s50_50_50_b0_4000_0_5000_-4000_0",
           -1.2214014553049035,
           128
          ]
         ],
         "hovertemplate": "Cells: %{x}<br>Entropy number: %{y}<br>Snap Idx: %{customdata[2]:03d}<br>Mapped: %{customdata[0]}<br>Rel Error: %{customdata[1]:.3f}%<extra></extra>",
         "line": {
          "color": "rgb(242, 199, 58)"
         },
         "mode": "markers+lines",
         "name": "128",
         "opacity": 0.4,
         "type": "scatter",
         "x": {
          "bdata": "gDgBAFxUAQAAxAkA",
          "dtype": "i4"
         },
         "y": {
          "bdata": "pkhtnTeI8T+RAYmJEu7xP2SQ7FoCtvE/",
          "dtype": "f8"
         }
        },
        {
         "customdata": [
          [
           "s100_100_100_b0_4000_0_5000_-4000_0",
           -2.989052108938375,
           129
          ],
          [
           "Original Comsol Mesh",
           0,
           129
          ],
          [
           "s50_50_50_b0_4000_0_5000_-4000_0",
           -1.7777197708065864,
           129
          ]
         ],
         "hovertemplate": "Cells: %{x}<br>Entropy number: %{y}<br>Snap Idx: %{customdata[2]:03d}<br>Mapped: %{customdata[0]}<br>Rel Error: %{customdata[1]:.3f}%<extra></extra>",
         "line": {
          "color": "rgb(243, 197, 58)"
         },
         "mode": "markers+lines",
         "name": "129",
         "opacity": 0.4,
         "type": "scatter",
         "x": {
          "bdata": "gDgBAHd1AQAAxAkA",
          "dtype": "i4"
         },
         "y": {
          "bdata": "jR3m053y8z9EEH2A9Y/0Pxvb3GthMvQ/",
          "dtype": "f8"
         }
        },
        {
         "customdata": [
          [
           "s100_100_100_b0_4000_0_5000_-4000_0",
           -1.8504670049407528,
           130
          ],
          [
           "Original Comsol Mesh",
           0,
           130
          ],
          [
           "s50_50_50_b0_4000_0_5000_-4000_0",
           -1.0221690340011342,
           130
          ]
         ],
         "hovertemplate": "Cells: %{x}<br>Entropy number: %{y}<br>Snap Idx: %{customdata[2]:03d}<br>Mapped: %{customdata[0]}<br>Rel Error: %{customdata[1]:.3f}%<extra></extra>",
         "line": {
          "color": "rgb(244, 194, 57)"
         },
         "mode": "markers+lines",
         "name": "130",
         "opacity": 0.4,
         "type": "scatter",
         "x": {
          "bdata": "gDgBAFBzAQAAxAkA",
          "dtype": "i4"
         },
         "y": {
          "bdata": "d0gX/JWQ8T8h02rLXOXxP2R9eICItvE/",
          "dtype": "f8"
         }
        },
        {
         "customdata": [
          [
           "s100_100_100_b0_4000_0_5000_-4000_0",
           -2.3136003267253433,
           131
          ],
          [
           "Original Comsol Mesh",
           0,
           131
          ],
          [
           "s50_50_50_b0_4000_0_5000_-4000_0",
           -1.3408821313365331,
           131
          ]
         ],
         "hovertemplate": "Cells: %{x}<br>Entropy number: %{y}<br>Snap Idx: %{customdata[2]:03d}<br>Mapped: %{customdata[0]}<br>Rel Error: %{customdata[1]:.3f}%<extra></extra>",
         "line": {
          "color": "rgb(245, 191, 56)"
         },
         "mode": "markers+lines",
         "name": "131",
         "opacity": 0.4,
         "type": "scatter",
         "x": {
          "bdata": "gDgBAJN2AQAAxAkA",
          "dtype": "i4"
         },
         "y": {
          "bdata": "E3nV8sh78j/Vp+Ey2uvyP1xetujmqvI/",
          "dtype": "f8"
         }
        },
        {
         "customdata": [
          [
           "s100_100_100_b0_4000_0_5000_-4000_0",
           -2.319735602132689,
           132
          ],
          [
           "Original Comsol Mesh",
           0,
           132
          ],
          [
           "s50_50_50_b0_4000_0_5000_-4000_0",
           -1.3037782977041148,
           132
          ]
         ],
         "hovertemplate": "Cells: %{x}<br>Entropy number: %{y}<br>Snap Idx: %{customdata[2]:03d}<br>Mapped: %{customdata[0]}<br>Rel Error: %{customdata[1]:.3f}%<extra></extra>",
         "line": {
          "color": "rgb(246, 188, 55)"
         },
         "mode": "markers+lines",
         "name": "132",
         "opacity": 0.4,
         "type": "scatter",
         "x": {
          "bdata": "gDgBAOV5AQAAxAkA",
          "dtype": "i4"
         },
         "y": {
          "bdata": "IaajeShn8j8p0oY1CtfyPzb/VnsomPI/",
          "dtype": "f8"
         }
        },
        {
         "customdata": [
          [
           "s100_100_100_b0_4000_0_5000_-4000_0",
           -2.0880952035016183,
           133
          ],
          [
           "Original Comsol Mesh",
           0,
           133
          ],
          [
           "s50_50_50_b0_4000_0_5000_-4000_0",
           -1.1922318839905341,
           133
          ]
         ],
         "hovertemplate": "Cells: %{x}<br>Entropy number: %{y}<br>Snap Idx: %{customdata[2]:03d}<br>Mapped: %{customdata[0]}<br>Rel Error: %{customdata[1]:.3f}%<extra></extra>",
         "line": {
          "color": "rgb(246, 185, 54)"
         },
         "mode": "markers+lines",
         "name": "133",
         "opacity": 0.4,
         "type": "scatter",
         "x": {
          "bdata": "gDgBAChSAQAAxAkA",
          "dtype": "i4"
         },
         "y": {
          "bdata": "879JaUGM8T8Vy6/8DuzxP8/6CLZbtfE/",
          "dtype": "f8"
         }
        },
        {
         "customdata": [
          [
           "s100_100_100_b0_4000_0_5000_-4000_0",
           -3.0034940493098072,
           134
          ],
          [
           "Original Comsol Mesh",
           0,
           134
          ],
          [
           "s50_50_50_b0_4000_0_5000_-4000_0",
           -1.6812161849757903,
           134
          ]
         ],
         "hovertemplate": "Cells: %{x}<br>Entropy number: %{y}<br>Snap Idx: %{customdata[2]:03d}<br>Mapped: %{customdata[0]}<br>Rel Error: %{customdata[1]:.3f}%<extra></extra>",
         "line": {
          "color": "rgb(247, 182, 53)"
         },
         "mode": "markers+lines",
         "name": "134",
         "opacity": 0.4,
         "type": "scatter",
         "x": {
          "bdata": "gDgBAJtUAQAAxAkA",
          "dtype": "i4"
         },
         "y": {
          "bdata": "6eD1bHhr8j/VzycdfP3yP0KjPbTAq/I/",
          "dtype": "f8"
         }
        },
        {
         "customdata": [
          [
           "s100_100_100_b0_4000_0_5000_-4000_0",
           -3.060884193516543,
           135
          ],
          [
           "Original Comsol Mesh",
           0,
           135
          ],
          [
           "s50_50_50_b0_4000_0_5000_-4000_0",
           -1.7457642051084779,
           135
          ]
         ],
         "hovertemplate": "Cells: %{x}<br>Entropy number: %{y}<br>Snap Idx: %{customdata[2]:03d}<br>Mapped: %{customdata[0]}<br>Rel Error: %{customdata[1]:.3f}%<extra></extra>",
         "line": {
          "color": "rgb(248, 179, 52)"
         },
         "mode": "markers+lines",
         "name": "135",
         "opacity": 0.4,
         "type": "scatter",
         "x": {
          "bdata": "gDgBABFiAQAAxAkA",
          "dtype": "i4"
         },
         "y": {
          "bdata": "MQpsOSci8z87Q6Ri0LzzPw87x5GaZPM/",
          "dtype": "f8"
         }
        },
        {
         "customdata": [
          [
           "s100_100_100_b0_4000_0_5000_-4000_0",
           -3.6589835054782527,
           136
          ],
          [
           "Original Comsol Mesh",
           0,
           136
          ],
          [
           "s50_50_50_b0_4000_0_5000_-4000_0",
           -2.0543529860884946,
           136
          ]
         ],
         "hovertemplate": "Cells: %{x}<br>Entropy number: %{y}<br>Snap Idx: %{customdata[2]:03d}<br>Mapped: %{customdata[0]}<br>Rel Error: %{customdata[1]:.3f}%<extra></extra>",
         "line": {
          "color": "rgb(249, 176, 51)"
         },
         "mode": "markers+lines",
         "name": "136",
         "opacity": 0.4,
         "type": "scatter",
         "x": {
          "bdata": "gDgBABpZAQAAxAkA",
          "dtype": "i4"
         },
         "y": {
          "bdata": "nuHt8/yM8z8Gdoo1E0v0P9ygM5BZ4PM/",
          "dtype": "f8"
         }
        },
        {
         "customdata": [
          [
           "s100_100_100_b0_4000_0_5000_-4000_0",
           -2.269119989799064,
           137
          ],
          [
           "Original Comsol Mesh",
           0,
           137
          ],
          [
           "s50_50_50_b0_4000_0_5000_-4000_0",
           -1.2356154456753956,
           137
          ]
         ],
         "hovertemplate": "Cells: %{x}<br>Entropy number: %{y}<br>Snap Idx: %{customdata[2]:03d}<br>Mapped: %{customdata[0]}<br>Rel Error: %{customdata[1]:.3f}%<extra></extra>",
         "line": {
          "color": "rgb(249, 173, 50)"
         },
         "mode": "markers+lines",
         "name": "137",
         "opacity": 0.4,
         "type": "scatter",
         "x": {
          "bdata": "gDgBAA1oAQAAxAkA",
          "dtype": "i4"
         },
         "y": {
          "bdata": "Rds5xy3g8T8/i2zCbUryP55rVmqSEPI/",
          "dtype": "f8"
         }
        },
        {
         "customdata": [
          [
           "s100_100_100_b0_4000_0_5000_-4000_0",
           -3.6390940789519997,
           138
          ],
          [
           "Original Comsol Mesh",
           0,
           138
          ],
          [
           "s50_50_50_b0_4000_0_5000_-4000_0",
           -2.043451520514058,
           138
          ]
         ],
         "hovertemplate": "Cells: %{x}<br>Entropy number: %{y}<br>Snap Idx: %{customdata[2]:03d}<br>Mapped: %{customdata[0]}<br>Rel Error: %{customdata[1]:.3f}%<extra></extra>",
         "line": {
          "color": "rgb(250, 170, 49)"
         },
         "mode": "markers+lines",
         "name": "138",
         "opacity": 0.4,
         "type": "scatter",
         "x": {
          "bdata": "gDgBAJlYAQAAxAkA",
          "dtype": "i4"
         },
         "y": {
          "bdata": "w3kKx7GU8z91V/sHAFL0P56vNCSz5/M/",
          "dtype": "f8"
         }
        },
        {
         "customdata": [
          [
           "s100_100_100_b0_4000_0_5000_-4000_0",
           -3.6622723067278242,
           139
          ],
          [
           "Original Comsol Mesh",
           0,
           139
          ],
          [
           "s50_50_50_b0_4000_0_5000_-4000_0",
           -2.142888160443899,
           139
          ]
         ],
         "hovertemplate": "Cells: %{x}<br>Entropy number: %{y}<br>Snap Idx: %{customdata[2]:03d}<br>Mapped: %{customdata[0]}<br>Rel Error: %{customdata[1]:.3f}%<extra></extra>",
         "line": {
          "color": "rgb(251, 167, 49)"
         },
         "mode": "markers+lines",
         "name": "139",
         "opacity": 0.4,
         "type": "scatter",
         "x": {
          "bdata": "gDgBABBgAQAAxAkA",
          "dtype": "i4"
         },
         "y": {
          "bdata": "xFCGnOCg9D8cgt0soWn1P9M0ExYq9PQ/",
          "dtype": "f8"
         }
        },
        {
         "customdata": [
          [
           "s100_100_100_b0_4000_0_5000_-4000_0",
           -1.9240687841192397,
           140
          ],
          [
           "Original Comsol Mesh",
           0,
           140
          ],
          [
           "s50_50_50_b0_4000_0_5000_-4000_0",
           -1.0440367591453972,
           140
          ]
         ],
         "hovertemplate": "Cells: %{x}<br>Entropy number: %{y}<br>Snap Idx: %{customdata[2]:03d}<br>Mapped: %{customdata[0]}<br>Rel Error: %{customdata[1]:.3f}%<extra></extra>",
         "line": {
          "color": "rgb(252, 164, 48)"
         },
         "mode": "markers+lines",
         "name": "140",
         "opacity": 0.4,
         "type": "scatter",
         "x": {
          "bdata": "gDgBAD5wAQAAxAkA",
          "dtype": "i4"
         },
         "y": {
          "bdata": "lI9Db/ug8T+pA5i/hPnxP/J55Bx6yfE/",
          "dtype": "f8"
         }
        },
        {
         "customdata": [
          [
           "s100_100_100_b0_4000_0_5000_-4000_0",
           -3.2035000640041416,
           141
          ],
          [
           "Original Comsol Mesh",
           0,
           141
          ],
          [
           "s50_50_50_b0_4000_0_5000_-4000_0",
           -1.8024446807514034,
           141
          ]
         ],
         "hovertemplate": "Cells: %{x}<br>Entropy number: %{y}<br>Snap Idx: %{customdata[2]:03d}<br>Mapped: %{customdata[0]}<br>Rel Error: %{customdata[1]:.3f}%<extra></extra>",
         "line": {
          "color": "rgb(253, 161, 47)"
         },
         "mode": "markers+lines",
         "name": "141",
         "opacity": 0.4,
         "type": "scatter",
         "x": {
          "bdata": "gDgBAAlhAQAAxAkA",
          "dtype": "i4"
         },
         "y": {
          "bdata": "96mA/E448z+rgXmsJdvzP7x0JbiGf/M/",
          "dtype": "f8"
         }
        },
        {
         "customdata": [
          [
           "s100_100_100_b0_4000_0_5000_-4000_0",
           -3.6632962998658356,
           142
          ],
          [
           "Original Comsol Mesh",
           0,
           142
          ],
          [
           "s50_50_50_b0_4000_0_5000_-4000_0",
           -2.111767919540035,
           142
          ]
         ],
         "hovertemplate": "Cells: %{x}<br>Entropy number: %{y}<br>Snap Idx: %{customdata[2]:03d}<br>Mapped: %{customdata[0]}<br>Rel Error: %{customdata[1]:.3f}%<extra></extra>",
         "line": {
          "color": "rgb(253, 158, 46)"
         },
         "mode": "markers+lines",
         "name": "142",
         "opacity": 0.4,
         "type": "scatter",
         "x": {
          "bdata": "gDgBAGBXAQAAxAkA",
          "dtype": "i4"
         },
         "y": {
          "bdata": "WW4BWI6c8z+iMuGvd1v0P38tbNZp7fM/",
          "dtype": "f8"
         }
        },
        {
         "customdata": [
          [
           "s100_100_100_b0_4000_0_5000_-4000_0",
           -1.912432977918271,
           143
          ],
          [
           "Original Comsol Mesh",
           0,
           143
          ],
          [
           "s50_50_50_b0_4000_0_5000_-4000_0",
           -1.0308448628402505,
           143
          ]
         ],
         "hovertemplate": "Cells: %{x}<br>Entropy number: %{y}<br>Snap Idx: %{customdata[2]:03d}<br>Mapped: %{customdata[0]}<br>Rel Error: %{customdata[1]:.3f}%<extra></extra>",
         "line": {
          "color": "rgb(254, 154, 45)"
         },
         "mode": "markers+lines",
         "name": "143",
         "opacity": 0.4,
         "type": "scatter",
         "x": {
          "bdata": "gDgBAD9xAQAAxAkA",
          "dtype": "i4"
         },
         "y": {
          "bdata": "z6l87+6a8T97ayNRzvLxP8TBeMtww/E/",
          "dtype": "f8"
         }
        },
        {
         "customdata": [
          [
           "s100_100_100_b0_4000_0_5000_-4000_0",
           -2.251112334676085,
           144
          ],
          [
           "Original Comsol Mesh",
           0,
           144
          ],
          [
           "s50_50_50_b0_4000_0_5000_-4000_0",
           -1.232115036913641,
           144
          ]
         ],
         "hovertemplate": "Cells: %{x}<br>Entropy number: %{y}<br>Snap Idx: %{customdata[2]:03d}<br>Mapped: %{customdata[0]}<br>Rel Error: %{customdata[1]:.3f}%<extra></extra>",
         "line": {
          "color": "rgb(253, 151, 43)"
         },
         "mode": "markers+lines",
         "name": "144",
         "opacity": 0.4,
         "type": "scatter",
         "x": {
          "bdata": "gDgBACZoAQAAxAkA",
          "dtype": "i4"
         },
         "y": {
          "bdata": "PtS0T0Pc8T/rNoZgj0XyP6ffalntC/I/",
          "dtype": "f8"
         }
        },
        {
         "customdata": [
          [
           "s100_100_100_b0_4000_0_5000_-4000_0",
           -1.6539058278482066,
           145
          ],
          [
           "Original Comsol Mesh",
           0,
           145
          ],
          [
           "s50_50_50_b0_4000_0_5000_-4000_0",
           -0.8869605210469392,
           145
          ]
         ],
         "hovertemplate": "Cells: %{x}<br>Entropy number: %{y}<br>Snap Idx: %{customdata[2]:03d}<br>Mapped: %{customdata[0]}<br>Rel Error: %{customdata[1]:.3f}%<extra></extra>",
         "line": {
          "color": "rgb(252, 147, 41)"
         },
         "mode": "markers+lines",
         "name": "145",
         "opacity": 0.4,
         "type": "scatter",
         "x": {
          "bdata": "gDgBAA14AQAAxAkA",
          "dtype": "i4"
         },
         "y": {
          "bdata": "pybOcBNs8T8aF/34FLfxP64/nIfbjvE/",
          "dtype": "f8"
         }
        },
        {
         "customdata": [
          [
           "s100_100_100_b0_4000_0_5000_-4000_0",
           -3.2986199196847696,
           146
          ],
          [
           "Original Comsol Mesh",
           0,
           146
          ],
          [
           "s50_50_50_b0_4000_0_5000_-4000_0",
           -2.026646865428008,
           146
          ]
         ],
         "hovertemplate": "Cells: %{x}<br>Entropy number: %{y}<br>Snap Idx: %{customdata[2]:03d}<br>Mapped: %{customdata[0]}<br>Rel Error: %{customdata[1]:.3f}%<extra></extra>",
         "line": {
          "color": "rgb(252, 143, 40)"
         },
         "mode": "markers+lines",
         "name": "146",
         "opacity": 0.4,
         "type": "scatter",
         "x": {
          "bdata": "gDgBAJpSAQAAxAkA",
          "dtype": "i4"
         },
         "y": {
          "bdata": "fRRa0tjC8z8eFlNNaW/0P/LKNJxjBfQ/",
          "dtype": "f8"
         }
        },
        {
         "customdata": [
          [
           "s100_100_100_b0_4000_0_5000_-4000_0",
           -2.0493936709795118,
           147
          ],
          [
           "Original Comsol Mesh",
           0,
           147
          ],
          [
           "s50_50_50_b0_4000_0_5000_-4000_0",
           -1.1444869712123842,
           147
          ]
         ],
         "hovertemplate": "Cells: %{x}<br>Entropy number: %{y}<br>Snap Idx: %{customdata[2]:03d}<br>Mapped: %{customdata[0]}<br>Rel Error: %{customdata[1]:.3f}%<extra></extra>",
         "line": {
          "color": "rgb(251, 139, 38)"
         },
         "mode": "markers+lines",
         "name": "147",
         "opacity": 0.4,
         "type": "scatter",
         "x": {
          "bdata": "gDgBAEmAAQAAxAkA",
          "dtype": "i4"
         },
         "y": {
          "bdata": "v6msOx0j8j/yQ5DDQoTyP4X8TFYCTvI/",
          "dtype": "f8"
         }
        },
        {
         "customdata": [
          [
           "s100_100_100_b0_4000_0_5000_-4000_0",
           -2.004516914657365,
           148
          ],
          [
           "Original Comsol Mesh",
           0,
           148
          ],
          [
           "s50_50_50_b0_4000_0_5000_-4000_0",
           -1.117719492658343,
           148
          ]
         ],
         "hovertemplate": "Cells: %{x}<br>Entropy number: %{y}<br>Snap Idx: %{customdata[2]:03d}<br>Mapped: %{customdata[0]}<br>Rel Error: %{customdata[1]:.3f}%<extra></extra>",
         "line": {
          "color": "rgb(250, 135, 36)"
         },
         "mode": "markers+lines",
         "name": "148",
         "opacity": 0.4,
         "type": "scatter",
         "x": {
          "bdata": "gDgBALWEAQAAxAkA",
          "dtype": "i4"
         },
         "y": {
          "bdata": "io2ZI8Ia8j/Q0DgxkHnyP9zQPjOzRPI/",
          "dtype": "f8"
         }
        },
        {
         "customdata": [
          [
           "s100_100_100_b0_4000_0_5000_-4000_0",
           -3.432710669963009,
           149
          ],
          [
           "Original Comsol Mesh",
           0,
           149
          ],
          [
           "s50_50_50_b0_4000_0_5000_-4000_0",
           -1.9523770311340016,
           149
          ]
         ],
         "hovertemplate": "Cells: %{x}<br>Entropy number: %{y}<br>Snap Idx: %{customdata[2]:03d}<br>Mapped: %{customdata[0]}<br>Rel Error: %{customdata[1]:.3f}%<extra></extra>",
         "line": {
          "color": "rgb(249, 131, 35)"
         },
         "mode": "markers+lines",
         "name": "149",
         "opacity": 0.4,
         "type": "scatter",
         "x": {
          "bdata": "gDgBAERbAQAAxAkA",
          "dtype": "i4"
         },
         "y": {
          "bdata": "oX7QSeRo8z8uR9LMhRn0P6xUGQoQtfM/",
          "dtype": "f8"
         }
        },
        {
         "customdata": [
          [
           "s100_100_100_b0_4000_0_5000_-4000_0",
           -2.9518552724579097,
           150
          ],
          [
           "Original Comsol Mesh",
           0,
           150
          ],
          [
           "s50_50_50_b0_4000_0_5000_-4000_0",
           -1.6485014012324797,
           150
          ]
         ],
         "hovertemplate": "Cells: %{x}<br>Entropy number: %{y}<br>Snap Idx: %{customdata[2]:03d}<br>Mapped: %{customdata[0]}<br>Rel Error: %{customdata[1]:.3f}%<extra></extra>",
         "line": {
          "color": "rgb(248, 127, 33)"
         },
         "mode": "markers+lines",
         "name": "150",
         "opacity": 0.4,
         "type": "scatter",
         "x": {
          "bdata": "gDgBAEpUAQAAxAkA",
          "dtype": "i4"
         },
         "y": {
          "bdata": "zPZ75mRr8j+I8ibI0fryP8Vm1cS4qvI/",
          "dtype": "f8"
         }
        },
        {
         "customdata": [
          [
           "s100_100_100_b0_4000_0_5000_-4000_0",
           -2.2179175785796463,
           151
          ],
          [
           "Original Comsol Mesh",
           0,
           151
          ],
          [
           "s50_50_50_b0_4000_0_5000_-4000_0",
           -1.2037183172532846,
           151
          ]
         ],
         "hovertemplate": "Cells: %{x}<br>Entropy number: %{y}<br>Snap Idx: %{customdata[2]:03d}<br>Mapped: %{customdata[0]}<br>Rel Error: %{customdata[1]:.3f}%<extra></extra>",
         "line": {
          "color": "rgb(248, 123, 31)"
         },
         "mode": "markers+lines",
         "name": "151",
         "opacity": 0.4,
         "type": "scatter",
         "x": {
          "bdata": "gDgBADJWAQAAxAkA",
          "dtype": "i4"
         },
         "y": {
          "bdata": "v3qle6KC8T9MwJaZT+jxP1DXjfUgsfE/",
          "dtype": "f8"
         }
        },
        {
         "customdata": [
          [
           "s100_100_100_b0_4000_0_5000_-4000_0",
           -2.2113287623624274,
           152
          ],
          [
           "Original Comsol Mesh",
           0,
           152
          ],
          [
           "s50_50_50_b0_4000_0_5000_-4000_0",
           -1.1772685120232873,
           152
          ]
         ],
         "hovertemplate": "Cells: %{x}<br>Entropy number: %{y}<br>Snap Idx: %{customdata[2]:03d}<br>Mapped: %{customdata[0]}<br>Rel Error: %{customdata[1]:.3f}%<extra></extra>",
         "line": {
          "color": "rgb(247, 119, 30)"
         },
         "mode": "markers+lines",
         "name": "152",
         "opacity": 0.4,
         "type": "scatter",
         "x": {
          "bdata": "gDgBAPlYAQAAxAkA",
          "dtype": "i4"
         },
         "y": {
          "bdata": "60hBH1d98T8dHBaEluLxP+fco4ivrPE/",
          "dtype": "f8"
         }
        },
        {
         "customdata": [
          [
           "s100_100_100_b0_4000_0_5000_-4000_0",
           -2.4486216794769264,
           153
          ],
          [
           "Original Comsol Mesh",
           0,
           153
          ],
          [
           "s50_50_50_b0_4000_0_5000_-4000_0",
           -1.4303964643042413,
           153
          ]
         ],
         "hovertemplate": "Cells: %{x}<br>Entropy number: %{y}<br>Snap Idx: %{customdata[2]:03d}<br>Mapped: %{customdata[0]}<br>Rel Error: %{customdata[1]:.3f}%<extra></extra>",
         "line": {
          "color": "rgb(246, 115, 28)"
         },
         "mode": "markers+lines",
         "name": "153",
         "opacity": 0.4,
         "type": "scatter",
         "x": {
          "bdata": "gDgBAN+HAQAAxAkA",
          "dtype": "i4"
         },
         "y": {
          "bdata": "3LLEGMVQ8z+TUYJG48zzPzx4QvJhhPM/",
          "dtype": "f8"
         }
        },
        {
         "customdata": [
          [
           "s100_100_100_b0_4000_0_5000_-4000_0",
           -3.303040121202313,
           154
          ],
          [
           "Original Comsol Mesh",
           0,
           154
          ],
          [
           "s50_50_50_b0_4000_0_5000_-4000_0",
           -1.874815201186908,
           154
          ]
         ],
         "hovertemplate": "Cells: %{x}<br>Entropy number: %{y}<br>Snap Idx: %{customdata[2]:03d}<br>Mapped: %{customdata[0]}<br>Rel Error: %{customdata[1]:.3f}%<extra></extra>",
         "line": {
          "color": "rgb(245, 111, 26)"
         },
         "mode": "markers+lines",
         "name": "154",
         "opacity": 0.4,
         "type": "scatter",
         "x": {
          "bdata": "gDgBAG5gAQAAxAkA",
          "dtype": "i4"
         },
         "y": {
          "bdata": "UMGYctRM8z9SKfAhmvXzP7ZzuXXOlfM/",
          "dtype": "f8"
         }
        },
        {
         "customdata": [
          [
           "s100_100_100_b0_4000_0_5000_-4000_0",
           -3.5300396454463403,
           155
          ],
          [
           "Original Comsol Mesh",
           0,
           155
          ],
          [
           "s50_50_50_b0_4000_0_5000_-4000_0",
           -1.9836109646593658,
           155
          ]
         ],
         "hovertemplate": "Cells: %{x}<br>Entropy number: %{y}<br>Snap Idx: %{customdata[2]:03d}<br>Mapped: %{customdata[0]}<br>Rel Error: %{customdata[1]:.3f}%<extra></extra>",
         "line": {
          "color": "rgb(245, 107, 25)"
         },
         "mode": "markers+lines",
         "name": "155",
         "opacity": 0.4,
         "type": "scatter",
         "x": {
          "bdata": "gDgBAD5bAQAAxAkA",
          "dtype": "i4"
         },
         "y": {
          "bdata": "QmCYvcN38z80RO+OIS70Pwfcjbenx/M/",
          "dtype": "f8"
         }
        },
        {
         "customdata": [
          [
           "s100_100_100_b0_4000_0_5000_-4000_0",
           -2.2149238204634734,
           156
          ],
          [
           "Original Comsol Mesh",
           0,
           156
          ],
          [
           "s50_50_50_b0_4000_0_5000_-4000_0",
           -1.2323738579483174,
           156
          ]
         ],
         "hovertemplate": "Cells: %{x}<br>Entropy number: %{y}<br>Snap Idx: %{customdata[2]:03d}<br>Mapped: %{customdata[0]}<br>Rel Error: %{customdata[1]:.3f}%<extra></extra>",
         "line": {
          "color": "rgb(244, 103, 23)"
         },
         "mode": "markers+lines",
         "name": "156",
         "opacity": 0.4,
         "type": "scatter",
         "x": {
          "bdata": "gDgBAAGAAQAAxAkA",
          "dtype": "i4"
         },
         "y": {
          "bdata": "j1buLpVP8j864k3KwrnyP/ttWhCvfvI/",
          "dtype": "f8"
         }
        },
        {
         "customdata": [
          [
           "s100_100_100_b0_4000_0_5000_-4000_0",
           -2.571759681674555,
           157
          ],
          [
           "Original Comsol Mesh",
           0,
           157
          ],
          [
           "s50_50_50_b0_4000_0_5000_-4000_0",
           -1.5539991073019888,
           157
          ]
         ],
         "hovertemplate": "Cells: %{x}<br>Entropy number: %{y}<br>Snap Idx: %{customdata[2]:03d}<br>Mapped: %{customdata[0]}<br>Rel Error: %{customdata[1]:.3f}%<extra></extra>",
         "line": {
          "color": "rgb(243, 100, 21)"
         },
         "mode": "markers+lines",
         "name": "157",
         "opacity": 0.4,
         "type": "scatter",
         "x": {
          "bdata": "gDgBALGMAQAAxAkA",
          "dtype": "i4"
         },
         "y": {
          "bdata": "XN32H3GM9D/KDciDTBf1Px/k/9Fkw/Q/",
          "dtype": "f8"
         }
        },
        {
         "customdata": [
          [
           "s100_100_100_b0_4000_0_5000_-4000_0",
           -2.568710739946666,
           158
          ],
          [
           "Original Comsol Mesh",
           0,
           158
          ],
          [
           "s50_50_50_b0_4000_0_5000_-4000_0",
           -1.4373065778139469,
           158
          ]
         ],
         "hovertemplate": "Cells: %{x}<br>Entropy number: %{y}<br>Snap Idx: %{customdata[2]:03d}<br>Mapped: %{customdata[0]}<br>Rel Error: %{customdata[1]:.3f}%<extra></extra>",
         "line": {
          "color": "rgb(241, 96, 20)"
         },
         "mode": "markers+lines",
         "name": "158",
         "opacity": 0.4,
         "type": "scatter",
         "x": {
          "bdata": "gDgBAAtyAQAAxAkA",
          "dtype": "i4"
         },
         "y": {
          "bdata": "cFGscHWl8j/SvLjLTiPzP/cF4MTj3PI/",
          "dtype": "f8"
         }
        },
        {
         "customdata": [
          [
           "s100_100_100_b0_4000_0_5000_-4000_0",
           -3.4178981510233672,
           159
          ],
          [
           "Original Comsol Mesh",
           0,
           159
          ],
          [
           "s50_50_50_b0_4000_0_5000_-4000_0",
           -1.9324719807100061,
           159
          ]
         ],
         "hovertemplate": "Cells: %{x}<br>Entropy number: %{y}<br>Snap Idx: %{customdata[2]:03d}<br>Mapped: %{customdata[0]}<br>Rel Error: %{customdata[1]:.3f}%<extra></extra>",
         "line": {
          "color": "rgb(240, 93, 19)"
         },
         "mode": "markers+lines",
         "name": "159",
         "opacity": 0.4,
         "type": "scatter",
         "x": {
          "bdata": "gDgBAEJbAQAAxAkA",
          "dtype": "i4"
         },
         "y": {
          "bdata": "l2476Rds8z8Rg5VnDBz0PwkFPFmQuPM/",
          "dtype": "f8"
         }
        },
        {
         "customdata": [
          [
           "s100_100_100_b0_4000_0_5000_-4000_0",
           -1.8838119166087166,
           160
          ],
          [
           "Original Comsol Mesh",
           0,
           160
          ],
          [
           "s50_50_50_b0_4000_0_5000_-4000_0",
           -1.0450211516276455,
           160
          ]
         ],
         "hovertemplate": "Cells: %{x}<br>Entropy number: %{y}<br>Snap Idx: %{customdata[2]:03d}<br>Mapped: %{customdata[0]}<br>Rel Error: %{customdata[1]:.3f}%<extra></extra>",
         "line": {
          "color": "rgb(238, 90, 18)"
         },
         "mode": "markers+lines",
         "name": "160",
         "opacity": 0.4,
         "type": "scatter",
         "x": {
          "bdata": "gDgBAKyGAQAAxAkA",
          "dtype": "i4"
         },
         "y": {
          "bdata": "KjzX6n7/8T8gChN09VfyP89V9ZHiJvI/",
          "dtype": "f8"
         }
        },
        {
         "customdata": [
          [
           "s100_100_100_b0_4000_0_5000_-4000_0",
           -3.0725412466853856,
           161
          ],
          [
           "Original Comsol Mesh",
           0,
           161
          ],
          [
           "s50_50_50_b0_4000_0_5000_-4000_0",
           -1.7113713236260417,
           161
          ]
         ],
         "hovertemplate": "Cells: %{x}<br>Entropy number: %{y}<br>Snap Idx: %{customdata[2]:03d}<br>Mapped: %{customdata[0]}<br>Rel Error: %{customdata[1]:.3f}%<extra></extra>",
         "line": {
          "color": "rgb(236, 87, 17)"
         },
         "mode": "markers+lines",
         "name": "161",
         "opacity": 0.4,
         "type": "scatter",
         "x": {
          "bdata": "gDgBAL9TAQAAxAkA",
          "dtype": "i4"
         },
         "y": {
          "bdata": "OR+lp2tp8j9776hE1f7yP2xDoaicq/I/",
          "dtype": "f8"
         }
        },
        {
         "customdata": [
          [
           "s100_100_100_b0_4000_0_5000_-4000_0",
           -2.3294470189988745,
           162
          ],
          [
           "Original Comsol Mesh",
           0,
           162
          ],
          [
           "s50_50_50_b0_4000_0_5000_-4000_0",
           -1.351944722883694,
           162
          ]
         ],
         "hovertemplate": "Cells: %{x}<br>Entropy number: %{y}<br>Snap Idx: %{customdata[2]:03d}<br>Mapped: %{customdata[0]}<br>Rel Error: %{customdata[1]:.3f}%<extra></extra>",
         "line": {
          "color": "rgb(234, 84, 16)"
         },
         "mode": "markers+lines",
         "name": "162",
         "opacity": 0.4,
         "type": "scatter",
         "x": {
          "bdata": "gDgBAL92AQAAxAkA",
          "dtype": "i4"
         },
         "y": {
          "bdata": "/IuvhGaG8j+zg7vFgffyP3yKpffctfI/",
          "dtype": "f8"
         }
        },
        {
         "customdata": [
          [
           "s100_100_100_b0_4000_0_5000_-4000_0",
           -3.5870642073140035,
           163
          ],
          [
           "Original Comsol Mesh",
           0,
           163
          ],
          [
           "s50_50_50_b0_4000_0_5000_-4000_0",
           -2.0559759025745015,
           163
          ]
         ],
         "hovertemplate": "Cells: %{x}<br>Entropy number: %{y}<br>Snap Idx: %{customdata[2]:03d}<br>Mapped: %{customdata[0]}<br>Rel Error: %{customdata[1]:.3f}%<extra></extra>",
         "line": {
          "color": "rgb(232, 81, 15)"
         },
         "mode": "markers+lines",
         "name": "163",
         "opacity": 0.4,
         "type": "scatter",
         "x": {
          "bdata": "gDgBANFZAQAAxAkA",
          "dtype": "i4"
         },
         "y": {
          "bdata": "mUphkfWW8z95T8a5ilH0P9orgXWZ5vM/",
          "dtype": "f8"
         }
        },
        {
         "customdata": [
          [
           "s100_100_100_b0_4000_0_5000_-4000_0",
           -2.10209558161386,
           164
          ],
          [
           "Original Comsol Mesh",
           0,
           164
          ],
          [
           "s50_50_50_b0_4000_0_5000_-4000_0",
           -1.1877386346895562,
           164
          ]
         ],
         "hovertemplate": "Cells: %{x}<br>Entropy number: %{y}<br>Snap Idx: %{customdata[2]:03d}<br>Mapped: %{customdata[0]}<br>Rel Error: %{customdata[1]:.3f}%<extra></extra>",
         "line": {
          "color": "rgb(231, 78, 14)"
         },
         "mode": "markers+lines",
         "name": "164",
         "opacity": 0.4,
         "type": "scatter",
         "x": {
          "bdata": "gDgBAEmCAQAAxAkA",
          "dtype": "i4"
         },
         "y": {
          "bdata": "lNcNFMks8j8iqYQLsZDyP11NivU9WPI/",
          "dtype": "f8"
         }
        },
        {
         "customdata": [
          [
           "s100_100_100_b0_4000_0_5000_-4000_0",
           -2.1390659751546184,
           165
          ],
          [
           "Original Comsol Mesh",
           0,
           165
          ],
          [
           "s50_50_50_b0_4000_0_5000_-4000_0",
           -1.1610600611197002,
           165
          ]
         ],
         "hovertemplate": "Cells: %{x}<br>Entropy number: %{y}<br>Snap Idx: %{customdata[2]:03d}<br>Mapped: %{customdata[0]}<br>Rel Error: %{customdata[1]:.3f}%<extra></extra>",
         "line": {
          "color": "rgb(229, 75, 13)"
         },
         "mode": "markers+lines",
         "name": "165",
         "opacity": 0.4,
         "type": "scatter",
         "x": {
          "bdata": "gDgBAPVoAQAAxAkA",
          "dtype": "i4"
         },
         "y": {
          "bdata": "PZzY/7vL8T8rjy+LUC/yPz9m7XxD+fE/",
          "dtype": "f8"
         }
        },
        {
         "customdata": [
          [
           "s100_100_100_b0_4000_0_5000_-4000_0",
           -3.3877223063695094,
           166
          ],
          [
           "Original Comsol Mesh",
           0,
           166
          ],
          [
           "s50_50_50_b0_4000_0_5000_-4000_0",
           -1.9407488840786389,
           166
          ]
         ],
         "hovertemplate": "Cells: %{x}<br>Entropy number: %{y}<br>Snap Idx: %{customdata[2]:03d}<br>Mapped: %{customdata[0]}<br>Rel Error: %{customdata[1]:.3f}%<extra></extra>",
         "line": {
          "color": "rgb(227, 72, 12)"
         },
         "mode": "markers+lines",
         "name": "166",
         "opacity": 0.4,
         "type": "scatter",
         "x": {
          "bdata": "gDgBAPhdAQAAxAkA",
          "dtype": "i4"
         },
         "y": {
          "bdata": "UC4F5oNZ8z/sP0T9NQf0P7oDKWG0o/M/",
          "dtype": "f8"
         }
        },
        {
         "customdata": [
          [
           "s100_100_100_b0_4000_0_5000_-4000_0",
           -3.842657390463028,
           167
          ],
          [
           "Original Comsol Mesh",
           0,
           167
          ],
          [
           "s50_50_50_b0_4000_0_5000_-4000_0",
           -2.105450916434428,
           167
          ]
         ],
         "hovertemplate": "Cells: %{x}<br>Entropy number: %{y}<br>Snap Idx: %{customdata[2]:03d}<br>Mapped: %{customdata[0]}<br>Rel Error: %{customdata[1]:.3f}%<extra></extra>",
         "line": {
          "color": "rgb(225, 69, 11)"
         },
         "mode": "markers+lines",
         "name": "167",
         "opacity": 0.4,
         "type": "scatter",
         "x": {
          "bdata": "gDgBANVTAQAAxAkA",
          "dtype": "i4"
         },
         "y": {
          "bdata": "AqTV9Rel8z+t4DMxEW70Pwludl7z//M/",
          "dtype": "f8"
         }
        },
        {
         "customdata": [
          [
           "s100_100_100_b0_4000_0_5000_-4000_0",
           -2.414882416460674,
           168
          ],
          [
           "Original Comsol Mesh",
           0,
           168
          ],
          [
           "s50_50_50_b0_4000_0_5000_-4000_0",
           -1.4401736174059812,
           168
          ]
         ],
         "hovertemplate": "Cells: %{x}<br>Entropy number: %{y}<br>Snap Idx: %{customdata[2]:03d}<br>Mapped: %{customdata[0]}<br>Rel Error: %{customdata[1]:.3f}%<extra></extra>",
         "line": {
          "color": "rgb(223, 66, 10)"
         },
         "mode": "markers+lines",
         "name": "168",
         "opacity": 0.4,
         "type": "scatter",
         "x": {
          "bdata": "gDgBAGuQAQAAxAkA",
          "dtype": "i4"
         },
         "y": {
          "bdata": "OZ1BH0xy9D/ok6LV0/P0PxuDpDyUpvQ/",
          "dtype": "f8"
         }
        },
        {
         "customdata": [
          [
           "s100_100_100_b0_4000_0_5000_-4000_0",
           -2.1700299326797508,
           169
          ],
          [
           "Original Comsol Mesh",
           0,
           169
          ],
          [
           "s50_50_50_b0_4000_0_5000_-4000_0",
           -1.1594080927231394,
           169
          ]
         ],
         "hovertemplate": "Cells: %{x}<br>Entropy number: %{y}<br>Snap Idx: %{customdata[2]:03d}<br>Mapped: %{customdata[0]}<br>Rel Error: %{customdata[1]:.3f}%<extra></extra>",
         "line": {
          "color": "rgb(221, 63, 9)"
         },
         "mode": "markers+lines",
         "name": "169",
         "opacity": 0.4,
         "type": "scatter",
         "x": {
          "bdata": "gDgBAL9WAQAAxAkA",
          "dtype": "i4"
         },
         "y": {
          "bdata": "R9pRcx188T+cnO4TZ9/xP1bSKuVaqvE/",
          "dtype": "f8"
         }
        },
        {
         "customdata": [
          [
           "s100_100_100_b0_4000_0_5000_-4000_0",
           -3.378748582911905,
           170
          ],
          [
           "Original Comsol Mesh",
           0,
           170
          ],
          [
           "s50_50_50_b0_4000_0_5000_-4000_0",
           -1.9118701697563376,
           170
          ]
         ],
         "hovertemplate": "Cells: %{x}<br>Entropy number: %{y}<br>Snap Idx: %{customdata[2]:03d}<br>Mapped: %{customdata[0]}<br>Rel Error: %{customdata[1]:.3f}%<extra></extra>",
         "line": {
          "color": "rgb(220, 60, 7)"
         },
         "mode": "markers+lines",
         "name": "170",
         "opacity": 0.4,
         "type": "scatter",
         "x": {
          "bdata": "gDgBAGhdAQAAxAkA",
          "dtype": "i4"
         },
         "y": {
          "bdata": "H1a9CIBd8z/dhabk2wr0PxTuA3vDqPM/",
          "dtype": "f8"
         }
        },
        {
         "customdata": [
          [
           "s100_100_100_b0_4000_0_5000_-4000_0",
           -3.496119337329361,
           171
          ],
          [
           "Original Comsol Mesh",
           0,
           171
          ],
          [
           "s50_50_50_b0_4000_0_5000_-4000_0",
           -1.9731327201959834,
           171
          ]
         ],
         "hovertemplate": "Cells: %{x}<br>Entropy number: %{y}<br>Snap Idx: %{customdata[2]:03d}<br>Mapped: %{customdata[0]}<br>Rel Error: %{customdata[1]:.3f}%<extra></extra>",
         "line": {
          "color": "rgb(218, 57, 6)"
         },
         "mode": "markers+lines",
         "name": "171",
         "opacity": 0.4,
         "type": "scatter",
         "x": {
          "bdata": "gDgBAClaAQAAxAkA",
          "dtype": "i4"
         },
         "y": {
          "bdata": "2aupZvRx8z+Ge0l6Syb0P6GF/8uDwPM/",
          "dtype": "f8"
         }
        },
        {
         "customdata": [
          [
           "s100_100_100_b0_4000_0_5000_-4000_0",
           -2.4391281073697155,
           172
          ],
          [
           "Original Comsol Mesh",
           0,
           172
          ],
          [
           "s50_50_50_b0_4000_0_5000_-4000_0",
           -1.4627455672304879,
           172
          ]
         ],
         "hovertemplate": "Cells: %{x}<br>Entropy number: %{y}<br>Snap Idx: %{customdata[2]:03d}<br>Mapped: %{customdata[0]}<br>Rel Error: %{customdata[1]:.3f}%<extra></extra>",
         "line": {
          "color": "rgb(215, 55, 6)"
         },
         "mode": "markers+lines",
         "name": "172",
         "opacity": 0.4,
         "type": "scatter",
         "x": {
          "bdata": "gDgBAHKRAQAAxAkA",
          "dtype": "i4"
         },
         "y": {
          "bdata": "LEMnY9de9D9tC6TTN+H0P/8tUPgHk/Q/",
          "dtype": "f8"
         }
        },
        {
         "customdata": [
          [
           "s100_100_100_b0_4000_0_5000_-4000_0",
           -2.1698746201954373,
           173
          ],
          [
           "Original Comsol Mesh",
           0,
           173
          ],
          [
           "s50_50_50_b0_4000_0_5000_-4000_0",
           -1.1708184537167075,
           173
          ]
         ],
         "hovertemplate": "Cells: %{x}<br>Entropy number: %{y}<br>Snap Idx: %{customdata[2]:03d}<br>Mapped: %{customdata[0]}<br>Rel Error: %{customdata[1]:.3f}%<extra></extra>",
         "line": {
          "color": "rgb(213, 53, 5)"
         },
         "mode": "markers+lines",
         "name": "173",
         "opacity": 0.4,
         "type": "scatter",
         "x": {
          "bdata": "gDgBAMVqAQAAxAkA",
          "dtype": "i4"
         },
         "y": {
          "bdata": "ja0tT2nQ8T+8xA24jzXyPwOQpaT7/vE/",
          "dtype": "f8"
         }
        },
        {
         "customdata": [
          [
           "s100_100_100_b0_4000_0_5000_-4000_0",
           -4.148155871309981,
           174
          ],
          [
           "Original Comsol Mesh",
           0,
           174
          ],
          [
           "s50_50_50_b0_4000_0_5000_-4000_0",
           -2.3887155880114452,
           174
          ]
         ],
         "hovertemplate": "Cells: %{x}<br>Entropy number: %{y}<br>Snap Idx: %{customdata[2]:03d}<br>Mapped: %{customdata[0]}<br>Rel Error: %{customdata[1]:.3f}%<extra></extra>",
         "line": {
          "color": "rgb(210, 50, 5)"
         },
         "mode": "markers+lines",
         "name": "174",
         "opacity": 0.4,
         "type": "scatter",
         "x": {
          "bdata": "gDgBAP9UAQAAxAkA",
          "dtype": "i4"
         },
         "y": {
          "bdata": "McdrngPv9D/9oNhQ79b1P5WMqR9iUfU/",
          "dtype": "f8"
         }
        },
        {
         "customdata": [
          [
           "s100_100_100_b0_4000_0_5000_-4000_0",
           -3.331433196134964,
           175
          ],
          [
           "Original Comsol Mesh",
           0,
           175
          ],
          [
           "s50_50_50_b0_4000_0_5000_-4000_0",
           -1.8899615000115375,
           175
          ]
         ],
         "hovertemplate": "Cells: %{x}<br>Entropy number: %{y}<br>Snap Idx: %{customdata[2]:03d}<br>Mapped: %{customdata[0]}<br>Rel Error: %{customdata[1]:.3f}%<extra></extra>",
         "line": {
          "color": "rgb(207, 48, 5)"
         },
         "mode": "markers+lines",
         "name": "175",
         "opacity": 0.4,
         "type": "scatter",
         "x": {
          "bdata": "gDgBAGZfAQAAxAkA",
          "dtype": "i4"
         },
         "y": {
          "bdata": "6WzaCQFS8z+a5biRdPzzPy2xrp3Bm/M/",
          "dtype": "f8"
         }
        },
        {
         "customdata": [
          [
           "s100_100_100_b0_4000_0_5000_-4000_0",
           -2.315471125685195,
           176
          ],
          [
           "Original Comsol Mesh",
           0,
           176
          ],
          [
           "s50_50_50_b0_4000_0_5000_-4000_0",
           -1.251439218473815,
           176
          ]
         ],
         "hovertemplate": "Cells: %{x}<br>Entropy number: %{y}<br>Snap Idx: %{customdata[2]:03d}<br>Mapped: %{customdata[0]}<br>Rel Error: %{customdata[1]:.3f}%<extra></extra>",
         "line": {
          "color": "rgb(204, 46, 4)"
         },
         "mode": "markers+lines",
         "name": "176",
         "opacity": 0.4,
         "type": "scatter",
         "x": {
          "bdata": "gDgBAJ1mAQAAxAkA",
          "dtype": "i4"
         },
         "y": {
          "bdata": "SQpxfNjp8T86ZZnoi1byP7COKhDMG/I/",
          "dtype": "f8"
         }
        },
        {
         "customdata": [
          [
           "s100_100_100_b0_4000_0_5000_-4000_0",
           -2.6962590135482793,
           177
          ],
          [
           "Original Comsol Mesh",
           0,
           177
          ],
          [
           "s50_50_50_b0_4000_0_5000_-4000_0",
           -1.6339196407056353,
           177
          ]
         ],
         "hovertemplate": "Cells: %{x}<br>Entropy number: %{y}<br>Snap Idx: %{customdata[2]:03d}<br>Mapped: %{customdata[0]}<br>Rel Error: %{customdata[1]:.3f}%<extra></extra>",
         "line": {
          "color": "rgb(201, 44, 4)"
         },
         "mode": "markers+lines",
         "name": "177",
         "opacity": 0.4,
         "type": "scatter",
         "x": {
          "bdata": "gDgBAMSGAQAAxAkA",
          "dtype": "i4"
         },
         "y": {
          "bdata": "qDZ6A0Os9D+vZ9mp6D71P8OG75sK5vQ/",
          "dtype": "f8"
         }
        },
        {
         "customdata": [
          [
           "s100_100_100_b0_4000_0_5000_-4000_0",
           -3.778730792616971,
           178
          ],
          [
           "Original Comsol Mesh",
           0,
           178
          ],
          [
           "s50_50_50_b0_4000_0_5000_-4000_0",
           -2.0957334611338783,
           178
          ]
         ],
         "hovertemplate": "Cells: %{x}<br>Entropy number: %{y}<br>Snap Idx: %{customdata[2]:03d}<br>Mapped: %{customdata[0]}<br>Rel Error: %{customdata[1]:.3f}%<extra></extra>",
         "line": {
          "color": "rgb(199, 42, 4)"
         },
         "mode": "markers+lines",
         "name": "178",
         "opacity": 0.4,
         "type": "scatter",
         "x": {
          "bdata": "gDgBAFpUAQAAxAkA",
          "dtype": "i4"
         },
         "y": {
          "bdata": "YAZg1Xme8z8B/8ACt2P0PwN/xNVS9vM/",
          "dtype": "f8"
         }
        },
        {
         "customdata": [
          [
           "s100_100_100_b0_4000_0_5000_-4000_0",
           -2.9590505530635176,
           179
          ],
          [
           "Original Comsol Mesh",
           0,
           179
          ],
          [
           "s50_50_50_b0_4000_0_5000_-4000_0",
           -1.65877013539948,
           179
          ]
         ],
         "hovertemplate": "Cells: %{x}<br>Entropy number: %{y}<br>Snap Idx: %{customdata[2]:03d}<br>Mapped: %{customdata[0]}<br>Rel Error: %{customdata[1]:.3f}%<extra></extra>",
         "line": {
          "color": "rgb(196, 40, 3)"
         },
         "mode": "markers+lines",
         "name": "179",
         "opacity": 0.4,
         "type": "scatter",
         "x": {
          "bdata": "gDgBADBVAQAAxAkA",
          "dtype": "i4"
         },
         "y": {
          "bdata": "+FWjyZls8j/nee5QbPzyP7bp0MPMq/I/",
          "dtype": "f8"
         }
        },
        {
         "customdata": [
          [
           "s100_100_100_b0_4000_0_5000_-4000_0",
           -3.483815812544036,
           180
          ],
          [
           "Original Comsol Mesh",
           0,
           180
          ],
          [
           "s50_50_50_b0_4000_0_5000_-4000_0",
           -1.9577718056811304,
           180
          ]
         ],
         "hovertemplate": "Cells: %{x}<br>Entropy number: %{y}<br>Snap Idx: %{customdata[2]:03d}<br>Mapped: %{customdata[0]}<br>Rel Error: %{customdata[1]:.3f}%<extra></extra>",
         "line": {
          "color": "rgb(193, 37, 3)"
         },
         "mode": "markers+lines",
         "name": "180",
         "opacity": 0.4,
         "type": "scatter",
         "x": {
          "bdata": "gDgBAJBYAQAAxAkA",
          "dtype": "i4"
         },
         "y": {
          "bdata": "j4gz+Pp08z8/JlmrxSj0P4WRvmq8w/M/",
          "dtype": "f8"
         }
        },
        {
         "customdata": [
          [
           "s100_100_100_b0_4000_0_5000_-4000_0",
           -2.3384354616089107,
           181
          ],
          [
           "Original Comsol Mesh",
           0,
           181
          ],
          [
           "s50_50_50_b0_4000_0_5000_-4000_0",
           -1.37171086820746,
           181
          ]
         ],
         "hovertemplate": "Cells: %{x}<br>Entropy number: %{y}<br>Snap Idx: %{customdata[2]:03d}<br>Mapped: %{customdata[0]}<br>Rel Error: %{customdata[1]:.3f}%<extra></extra>",
         "line": {
          "color": "rgb(190, 35, 3)"
         },
         "mode": "markers+lines",
         "name": "181",
         "opacity": 0.4,
         "type": "scatter",
         "x": {
          "bdata": "gDgBAFSOAQAAxAkA",
          "dtype": "i4"
         },
         "y": {
          "bdata": "3aAm+4Ij8z/xPP2v05jzPxklB7MCVPM/",
          "dtype": "f8"
         }
        },
        {
         "customdata": [
          [
           "s100_100_100_b0_4000_0_5000_-4000_0",
           -4.059964271638835,
           182
          ],
          [
           "Original Comsol Mesh",
           0,
           182
          ],
          [
           "s50_50_50_b0_4000_0_5000_-4000_0",
           -2.350723530172187,
           182
          ]
         ],
         "hovertemplate": "Cells: %{x}<br>Entropy number: %{y}<br>Snap Idx: %{customdata[2]:03d}<br>Mapped: %{customdata[0]}<br>Rel Error: %{customdata[1]:.3f}%<extra></extra>",
         "line": {
          "color": "rgb(187, 33, 2)"
         },
         "mode": "markers+lines",
         "name": "182",
         "opacity": 0.4,
         "type": "scatter",
         "x": {
          "bdata": "gDgBAOZXAQAAxAkA",
          "dtype": "i4"
         },
         "y": {
          "bdata": "TraFOnnw9D/o0isNUdP1PxFI3Gf5T/U/",
          "dtype": "f8"
         }
        },
        {
         "customdata": [
          [
           "s100_100_100_b0_4000_0_5000_-4000_0",
           -2.4925402199590394,
           183
          ],
          [
           "Original Comsol Mesh",
           0,
           183
          ],
          [
           "s50_50_50_b0_4000_0_5000_-4000_0",
           -1.492843525347064,
           183
          ]
         ],
         "hovertemplate": "Cells: %{x}<br>Entropy number: %{y}<br>Snap Idx: %{customdata[2]:03d}<br>Mapped: %{customdata[0]}<br>Rel Error: %{customdata[1]:.3f}%<extra></extra>",
         "line": {
          "color": "rgb(185, 31, 2)"
         },
         "mode": "markers+lines",
         "name": "183",
         "opacity": 0.4,
         "type": "scatter",
         "x": {
          "bdata": "gDgBAE2PAQAAxAkA",
          "dtype": "i4"
         },
         "y": {
          "bdata": "FLdJW2No9D96K+jU7+30P+HewYPznfQ/",
          "dtype": "f8"
         }
        },
        {
         "customdata": [
          [
           "s100_100_100_b0_4000_0_5000_-4000_0",
           -1.8000047042215022,
           184
          ],
          [
           "Original Comsol Mesh",
           0,
           184
          ],
          [
           "s50_50_50_b0_4000_0_5000_-4000_0",
           -0.9669330801682228,
           184
          ]
         ],
         "hovertemplate": "Cells: %{x}<br>Entropy number: %{y}<br>Snap Idx: %{customdata[2]:03d}<br>Mapped: %{customdata[0]}<br>Rel Error: %{customdata[1]:.3f}%<extra></extra>",
         "line": {
          "color": "rgb(182, 29, 2)"
         },
         "mode": "markers+lines",
         "name": "184",
         "opacity": 0.4,
         "type": "scatter",
         "x": {
          "bdata": "gDgBAFB3AQAAxAkA",
          "dtype": "i4"
         },
         "y": {
          "bdata": "2YkfI8eE8T8gIoPa+9bxPxH76PnSqvE/",
          "dtype": "f8"
         }
        },
        {
         "customdata": [
          [
           "s100_100_100_b0_4000_0_5000_-4000_0",
           -2.7149405621959057,
           185
          ],
          [
           "Original Comsol Mesh",
           0,
           185
          ],
          [
           "s50_50_50_b0_4000_0_5000_-4000_0",
           -1.5341417369878279,
           185
          ]
         ],
         "hovertemplate": "Cells: %{x}<br>Entropy number: %{y}<br>Snap Idx: %{customdata[2]:03d}<br>Mapped: %{customdata[0]}<br>Rel Error: %{customdata[1]:.3f}%<extra></extra>",
         "line": {
          "color": "rgb(179, 27, 1)"
         },
         "mode": "markers+lines",
         "name": "185",
         "opacity": 0.4,
         "type": "scatter",
         "x": {
          "bdata": "gDgBAMRtAQAAxAkA",
          "dtype": "i4"
         },
         "y": {
          "bdata": "LN2DYCPN8j9c0AhxdVPzP9z5JseOB/M/",
          "dtype": "f8"
         }
        },
        {
         "customdata": [
          [
           "s100_100_100_b0_4000_0_5000_-4000_0",
           -2.0111147980567963,
           186
          ],
          [
           "Original Comsol Mesh",
           0,
           186
          ],
          [
           "s50_50_50_b0_4000_0_5000_-4000_0",
           -1.0977819534174709,
           186
          ]
         ],
         "hovertemplate": "Cells: %{x}<br>Entropy number: %{y}<br>Snap Idx: %{customdata[2]:03d}<br>Mapped: %{customdata[0]}<br>Rel Error: %{customdata[1]:.3f}%<extra></extra>",
         "line": {
          "color": "rgb(176, 25, 1)"
         },
         "mode": "markers+lines",
         "name": "186",
         "opacity": 0.4,
         "type": "scatter",
         "x": {
          "bdata": "gDgBAB5wAQAAxAkA",
          "dtype": "i4"
         },
         "y": {
          "bdata": "nRYL4tas8T/2J+/utAnyP5ny+rAD1/E/",
          "dtype": "f8"
         }
        },
        {
         "customdata": [
          [
           "s100_100_100_b0_4000_0_5000_-4000_0",
           -3.5541826659968785,
           187
          ],
          [
           "Original Comsol Mesh",
           0,
           187
          ],
          [
           "s50_50_50_b0_4000_0_5000_-4000_0",
           -2.00424638986293,
           187
          ]
         ],
         "hovertemplate": "Cells: %{x}<br>Entropy number: %{y}<br>Snap Idx: %{customdata[2]:03d}<br>Mapped: %{customdata[0]}<br>Rel Error: %{customdata[1]:.3f}%<extra></extra>",
         "line": {
          "color": "rgb(172, 23, 1)"
         },
         "mode": "markers+lines",
         "name": "187",
         "opacity": 0.4,
         "type": "scatter",
         "x": {
          "bdata": "gDgBABhZAQAAxAkA",
          "dtype": "i4"
         },
         "y": {
          "bdata": "u8TuT1F78z88+eG2GzP0P+F7HW13y/M/",
          "dtype": "f8"
         }
        },
        {
         "customdata": [
          [
           "s100_100_100_b0_4000_0_5000_-4000_0",
           -2.20893611038676,
           188
          ],
          [
           "Original Comsol Mesh",
           0,
           188
          ],
          [
           "s50_50_50_b0_4000_0_5000_-4000_0",
           -1.2481197915074256,
           188
          ]
         ],
         "hovertemplate": "Cells: %{x}<br>Entropy number: %{y}<br>Snap Idx: %{customdata[2]:03d}<br>Mapped: %{customdata[0]}<br>Rel Error: %{customdata[1]:.3f}%<extra></extra>",
         "line": {
          "color": "rgb(168, 22, 1)"
         },
         "mode": "markers+lines",
         "name": "188",
         "opacity": 0.4,
         "type": "scatter",
         "x": {
          "bdata": "gDgBAO19AQAAxAkA",
          "dtype": "i4"
         },
         "y": {
          "bdata": "G+yz+GhH8j89yX0tHLHyP+GBmdtidfI/",
          "dtype": "f8"
         }
        },
        {
         "customdata": [
          [
           "s100_100_100_b0_4000_0_5000_-4000_0",
           -2.9871218056764777,
           189
          ],
          [
           "Original Comsol Mesh",
           0,
           189
          ],
          [
           "s50_50_50_b0_4000_0_5000_-4000_0",
           -1.6771097246382156,
           189
          ]
         ],
         "hovertemplate": "Cells: %{x}<br>Entropy number: %{y}<br>Snap Idx: %{customdata[2]:03d}<br>Mapped: %{customdata[0]}<br>Rel Error: %{customdata[1]:.3f}%<extra></extra>",
         "line": {
          "color": "rgb(164, 20, 1)"
         },
         "mode": "markers+lines",
         "name": "189",
         "opacity": 0.4,
         "type": "scatter",
         "x": {
          "bdata": "gDgBABtnAQAAxAkA",
          "dtype": "i4"
         },
         "y": {
          "bdata": "67Ej0jQP8z/l530fcaXzP9eWdLYXUfM/",
          "dtype": "f8"
         }
        },
        {
         "customdata": [
          [
           "s100_100_100_b0_4000_0_5000_-4000_0",
           -3.532895594991159,
           190
          ],
          [
           "Original Comsol Mesh",
           0,
           190
          ],
          [
           "s50_50_50_b0_4000_0_5000_-4000_0",
           -2.0136657455540146,
           190
          ]
         ],
         "hovertemplate": "Cells: %{x}<br>Entropy number: %{y}<br>Snap Idx: %{customdata[2]:03d}<br>Mapped: %{customdata[0]}<br>Rel Error: %{customdata[1]:.3f}%<extra></extra>",
         "line": {
          "color": "rgb(160, 19, 1)"
         },
         "mode": "markers+lines",
         "name": "190",
         "opacity": 0.4,
         "type": "scatter",
         "x": {
          "bdata": "gDgBANlZAQAAxAkA",
          "dtype": "i4"
         },
         "y": {
          "bdata": "39b4ahCD8z+DkdxT/zn0P11/FtW60fM/",
          "dtype": "f8"
         }
        },
        {
         "customdata": [
          [
           "s100_100_100_b0_4000_0_5000_-4000_0",
           -3.6229144171310375,
           191
          ],
          [
           "Original Comsol Mesh",
           0,
           191
          ],
          [
           "s50_50_50_b0_4000_0_5000_-4000_0",
           -2.0468781706416874,
           191
          ]
         ],
         "hovertemplate": "Cells: %{x}<br>Entropy number: %{y}<br>Snap Idx: %{customdata[2]:03d}<br>Mapped: %{customdata[0]}<br>Rel Error: %{customdata[1]:.3f}%<extra></extra>",
         "line": {
          "color": "rgb(157, 17, 1)"
         },
         "mode": "markers+lines",
         "name": "191",
         "opacity": 0.4,
         "type": "scatter",
         "x": {
          "bdata": "gDgBAC1XAQAAxAkA",
          "dtype": "i4"
         },
         "y": {
          "bdata": "FnmNxT6K8z+VByznSEb0P9N1xsQL3PM/",
          "dtype": "f8"
         }
        },
        {
         "customdata": [
          [
           "s100_100_100_b0_4000_0_5000_-4000_0",
           -2.2363708226416192,
           192
          ],
          [
           "Original Comsol Mesh",
           0,
           192
          ],
          [
           "s50_50_50_b0_4000_0_5000_-4000_0",
           -1.2633413619366263,
           192
          ]
         ],
         "hovertemplate": "Cells: %{x}<br>Entropy number: %{y}<br>Snap Idx: %{customdata[2]:03d}<br>Mapped: %{customdata[0]}<br>Rel Error: %{customdata[1]:.3f}%<extra></extra>",
         "line": {
          "color": "rgb(153, 16, 1)"
         },
         "mode": "markers+lines",
         "name": "192",
         "opacity": 0.4,
         "type": "scatter",
         "x": {
          "bdata": "gDgBAJd7AQAAxAkA",
          "dtype": "i4"
         },
         "y": {
          "bdata": "CX8hd+RX8j8laxL0T8PyP3tFXU2hhvI/",
          "dtype": "f8"
         }
        },
        {
         "customdata": [
          [
           "s100_100_100_b0_4000_0_5000_-4000_0",
           -3.6355165514309373,
           193
          ],
          [
           "Original Comsol Mesh",
           0,
           193
          ],
          [
           "s50_50_50_b0_4000_0_5000_-4000_0",
           -2.1239127451975803,
           193
          ]
         ],
         "hovertemplate": "Cells: %{x}<br>Entropy number: %{y}<br>Snap Idx: %{customdata[2]:03d}<br>Mapped: %{customdata[0]}<br>Rel Error: %{customdata[1]:.3f}%<extra></extra>",
         "line": {
          "color": "rgb(149, 14, 2)"
         },
         "mode": "markers+lines",
         "name": "193",
         "opacity": 0.4,
         "type": "scatter",
         "x": {
          "bdata": "gDgBAI9fAQAAxAkA",
          "dtype": "i4"
         },
         "y": {
          "bdata": "a3yWl3qT9D9m4fQfNFr1Pyx1EDEb5vQ/",
          "dtype": "f8"
         }
        },
        {
         "customdata": [
          [
           "s100_100_100_b0_4000_0_5000_-4000_0",
           -1.5900468891496136,
           194
          ],
          [
           "Original Comsol Mesh",
           0,
           194
          ],
          [
           "s50_50_50_b0_4000_0_5000_-4000_0",
           -0.8592215376622436,
           194
          ]
         ],
         "hovertemplate": "Cells: %{x}<br>Entropy number: %{y}<br>Snap Idx: %{customdata[2]:03d}<br>Mapped: %{customdata[0]}<br>Rel Error: %{customdata[1]:.3f}%<extra></extra>",
         "line": {
          "color": "rgb(145, 13, 2)"
         },
         "mode": "markers+lines",
         "name": "194",
         "opacity": 0.4,
         "type": "scatter",
         "x": {
          "bdata": "gDgBALx7AQAAxAkA",
          "dtype": "i4"
         },
         "y": {
          "bdata": "k5YU2EFh8T/Kfe9BJanxP1pyeYNMgvE/",
          "dtype": "f8"
         }
        },
        {
         "customdata": [
          [
           "s100_100_100_b0_4000_0_5000_-4000_0",
           -2.0904621823684626,
           195
          ],
          [
           "Original Comsol Mesh",
           0,
           195
          ],
          [
           "s50_50_50_b0_4000_0_5000_-4000_0",
           -1.1415687148197133,
           195
          ]
         ],
         "hovertemplate": "Cells: %{x}<br>Entropy number: %{y}<br>Snap Idx: %{customdata[2]:03d}<br>Mapped: %{customdata[0]}<br>Rel Error: %{customdata[1]:.3f}%<extra></extra>",
         "line": {
          "color": "rgb(141, 11, 2)"
         },
         "mode": "markers+lines",
         "name": "195",
         "opacity": 0.4,
         "type": "scatter",
         "x": {
          "bdata": "gDgBABJsAQAAxAkA",
          "dtype": "i4"
         },
         "y": {
          "bdata": "Uqr9Wp698T8RyAUjlh7yPyfbBUKi6fE/",
          "dtype": "f8"
         }
        },
        {
         "customdata": [
          [
           "s100_100_100_b0_4000_0_5000_-4000_0",
           -2.147363473736277,
           196
          ],
          [
           "Original Comsol Mesh",
           0,
           196
          ],
          [
           "s50_50_50_b0_4000_0_5000_-4000_0",
           -1.211715116033737,
           196
          ]
         ],
         "hovertemplate": "Cells: %{x}<br>Entropy number: %{y}<br>Snap Idx: %{customdata[2]:03d}<br>Mapped: %{customdata[0]}<br>Rel Error: %{customdata[1]:.3f}%<extra></extra>",
         "line": {
          "color": "rgb(137, 10, 2)"
         },
         "mode": "markers+lines",
         "name": "196",
         "opacity": 0.4,
         "type": "scatter",
         "x": {
          "bdata": "gDgBAHt9AQAAxAkA",
          "dtype": "i4"
         },
         "y": {
          "bdata": "8SSeppA+8j9hTHNbD6XyP8ODml45a/I/",
          "dtype": "f8"
         }
        },
        {
         "customdata": [
          [
           "s100_100_100_b0_4000_0_5000_-4000_0",
           -1.5935760298396457,
           197
          ],
          [
           "Original Comsol Mesh",
           0,
           197
          ],
          [
           "s50_50_50_b0_4000_0_5000_-4000_0",
           -0.886843744213648,
           197
          ]
         ],
         "hovertemplate": "Cells: %{x}<br>Entropy number: %{y}<br>Snap Idx: %{customdata[2]:03d}<br>Mapped: %{customdata[0]}<br>Rel Error: %{customdata[1]:.3f}%<extra></extra>",
         "line": {
          "color": "rgb(134, 8, 2)"
         },
         "mode": "markers+lines",
         "name": "197",
         "opacity": 0.4,
         "type": "scatter",
         "x": {
          "bdata": "gDgBAK6RAQAAxAkA",
          "dtype": "i4"
         },
         "y": {
          "bdata": "DJB+htOq8T8857NvEfTxPwQbHOROy/E/",
          "dtype": "f8"
         }
        },
        {
         "customdata": [
          [
           "s100_100_100_b0_4000_0_5000_-4000_0",
           -2.6310697135483294,
           198
          ],
          [
           "Original Comsol Mesh",
           0,
           198
          ],
          [
           "s50_50_50_b0_4000_0_5000_-4000_0",
           -1.5972721114354809,
           198
          ]
         ],
         "hovertemplate": "Cells: %{x}<br>Entropy number: %{y}<br>Snap Idx: %{customdata[2]:03d}<br>Mapped: %{customdata[0]}<br>Rel Error: %{customdata[1]:.3f}%<extra></extra>",
         "line": {
          "color": "rgb(130, 7, 2)"
         },
         "mode": "markers+lines",
         "name": "198",
         "opacity": 0.4,
         "type": "scatter",
         "x": {
          "bdata": "gDgBADqKAQAAxAkA",
          "dtype": "i4"
         },
         "y": {
          "bdata": "Tp5sbs6V9D82iFCMNCT1P3csbvPBzfQ/",
          "dtype": "f8"
         }
        },
        {
         "customdata": [
          [
           "s100_100_100_b0_4000_0_5000_-4000_0",
           -2.7916384340115536,
           199
          ],
          [
           "Original Comsol Mesh",
           0,
           199
          ],
          [
           "s50_50_50_b0_4000_0_5000_-4000_0",
           -1.5774255490135218,
           199
          ]
         ],
         "hovertemplate": "Cells: %{x}<br>Entropy number: %{y}<br>Snap Idx: %{customdata[2]:03d}<br>Mapped: %{customdata[0]}<br>Rel Error: %{customdata[1]:.3f}%<extra></extra>",
         "line": {
          "color": "rgb(126, 5, 2)"
         },
         "mode": "markers+lines",
         "name": "199",
         "opacity": 0.4,
         "type": "scatter",
         "x": {
          "bdata": "gDgBADFrAQAAxAkA",
          "dtype": "i4"
         },
         "y": {
          "bdata": "nbC5zaDf8j+q6eYdYmrzP55TGKv6G/M/",
          "dtype": "f8"
         }
        }
       ],
       "layout": {
        "showlegend": false,
        "template": {
         "data": {
          "bar": [
           {
            "error_x": {
             "color": "#2a3f5f"
            },
            "error_y": {
             "color": "#2a3f5f"
            },
            "marker": {
             "line": {
              "color": "#E5ECF6",
              "width": 0.5
             },
             "pattern": {
              "fillmode": "overlay",
              "size": 10,
              "solidity": 0.2
             }
            },
            "type": "bar"
           }
          ],
          "barpolar": [
           {
            "marker": {
             "line": {
              "color": "#E5ECF6",
              "width": 0.5
             },
             "pattern": {
              "fillmode": "overlay",
              "size": 10,
              "solidity": 0.2
             }
            },
            "type": "barpolar"
           }
          ],
          "carpet": [
           {
            "aaxis": {
             "endlinecolor": "#2a3f5f",
             "gridcolor": "white",
             "linecolor": "white",
             "minorgridcolor": "white",
             "startlinecolor": "#2a3f5f"
            },
            "baxis": {
             "endlinecolor": "#2a3f5f",
             "gridcolor": "white",
             "linecolor": "white",
             "minorgridcolor": "white",
             "startlinecolor": "#2a3f5f"
            },
            "type": "carpet"
           }
          ],
          "choropleth": [
           {
            "colorbar": {
             "outlinewidth": 0,
             "ticks": ""
            },
            "type": "choropleth"
           }
          ],
          "contour": [
           {
            "colorbar": {
             "outlinewidth": 0,
             "ticks": ""
            },
            "colorscale": [
             [
              0,
              "#0d0887"
             ],
             [
              0.1111111111111111,
              "#46039f"
             ],
             [
              0.2222222222222222,
              "#7201a8"
             ],
             [
              0.3333333333333333,
              "#9c179e"
             ],
             [
              0.4444444444444444,
              "#bd3786"
             ],
             [
              0.5555555555555556,
              "#d8576b"
             ],
             [
              0.6666666666666666,
              "#ed7953"
             ],
             [
              0.7777777777777778,
              "#fb9f3a"
             ],
             [
              0.8888888888888888,
              "#fdca26"
             ],
             [
              1,
              "#f0f921"
             ]
            ],
            "type": "contour"
           }
          ],
          "contourcarpet": [
           {
            "colorbar": {
             "outlinewidth": 0,
             "ticks": ""
            },
            "type": "contourcarpet"
           }
          ],
          "heatmap": [
           {
            "colorbar": {
             "outlinewidth": 0,
             "ticks": ""
            },
            "colorscale": [
             [
              0,
              "#0d0887"
             ],
             [
              0.1111111111111111,
              "#46039f"
             ],
             [
              0.2222222222222222,
              "#7201a8"
             ],
             [
              0.3333333333333333,
              "#9c179e"
             ],
             [
              0.4444444444444444,
              "#bd3786"
             ],
             [
              0.5555555555555556,
              "#d8576b"
             ],
             [
              0.6666666666666666,
              "#ed7953"
             ],
             [
              0.7777777777777778,
              "#fb9f3a"
             ],
             [
              0.8888888888888888,
              "#fdca26"
             ],
             [
              1,
              "#f0f921"
             ]
            ],
            "type": "heatmap"
           }
          ],
          "histogram": [
           {
            "marker": {
             "pattern": {
              "fillmode": "overlay",
              "size": 10,
              "solidity": 0.2
             }
            },
            "type": "histogram"
           }
          ],
          "histogram2d": [
           {
            "colorbar": {
             "outlinewidth": 0,
             "ticks": ""
            },
            "colorscale": [
             [
              0,
              "#0d0887"
             ],
             [
              0.1111111111111111,
              "#46039f"
             ],
             [
              0.2222222222222222,
              "#7201a8"
             ],
             [
              0.3333333333333333,
              "#9c179e"
             ],
             [
              0.4444444444444444,
              "#bd3786"
             ],
             [
              0.5555555555555556,
              "#d8576b"
             ],
             [
              0.6666666666666666,
              "#ed7953"
             ],
             [
              0.7777777777777778,
              "#fb9f3a"
             ],
             [
              0.8888888888888888,
              "#fdca26"
             ],
             [
              1,
              "#f0f921"
             ]
            ],
            "type": "histogram2d"
           }
          ],
          "histogram2dcontour": [
           {
            "colorbar": {
             "outlinewidth": 0,
             "ticks": ""
            },
            "colorscale": [
             [
              0,
              "#0d0887"
             ],
             [
              0.1111111111111111,
              "#46039f"
             ],
             [
              0.2222222222222222,
              "#7201a8"
             ],
             [
              0.3333333333333333,
              "#9c179e"
             ],
             [
              0.4444444444444444,
              "#bd3786"
             ],
             [
              0.5555555555555556,
              "#d8576b"
             ],
             [
              0.6666666666666666,
              "#ed7953"
             ],
             [
              0.7777777777777778,
              "#fb9f3a"
             ],
             [
              0.8888888888888888,
              "#fdca26"
             ],
             [
              1,
              "#f0f921"
             ]
            ],
            "type": "histogram2dcontour"
           }
          ],
          "mesh3d": [
           {
            "colorbar": {
             "outlinewidth": 0,
             "ticks": ""
            },
            "type": "mesh3d"
           }
          ],
          "parcoords": [
           {
            "line": {
             "colorbar": {
              "outlinewidth": 0,
              "ticks": ""
             }
            },
            "type": "parcoords"
           }
          ],
          "pie": [
           {
            "automargin": true,
            "type": "pie"
           }
          ],
          "scatter": [
           {
            "fillpattern": {
             "fillmode": "overlay",
             "size": 10,
             "solidity": 0.2
            },
            "type": "scatter"
           }
          ],
          "scatter3d": [
           {
            "line": {
             "colorbar": {
              "outlinewidth": 0,
              "ticks": ""
             }
            },
            "marker": {
             "colorbar": {
              "outlinewidth": 0,
              "ticks": ""
             }
            },
            "type": "scatter3d"
           }
          ],
          "scattercarpet": [
           {
            "marker": {
             "colorbar": {
              "outlinewidth": 0,
              "ticks": ""
             }
            },
            "type": "scattercarpet"
           }
          ],
          "scattergeo": [
           {
            "marker": {
             "colorbar": {
              "outlinewidth": 0,
              "ticks": ""
             }
            },
            "type": "scattergeo"
           }
          ],
          "scattergl": [
           {
            "marker": {
             "colorbar": {
              "outlinewidth": 0,
              "ticks": ""
             }
            },
            "type": "scattergl"
           }
          ],
          "scattermap": [
           {
            "marker": {
             "colorbar": {
              "outlinewidth": 0,
              "ticks": ""
             }
            },
            "type": "scattermap"
           }
          ],
          "scattermapbox": [
           {
            "marker": {
             "colorbar": {
              "outlinewidth": 0,
              "ticks": ""
             }
            },
            "type": "scattermapbox"
           }
          ],
          "scatterpolar": [
           {
            "marker": {
             "colorbar": {
              "outlinewidth": 0,
              "ticks": ""
             }
            },
            "type": "scatterpolar"
           }
          ],
          "scatterpolargl": [
           {
            "marker": {
             "colorbar": {
              "outlinewidth": 0,
              "ticks": ""
             }
            },
            "type": "scatterpolargl"
           }
          ],
          "scatterternary": [
           {
            "marker": {
             "colorbar": {
              "outlinewidth": 0,
              "ticks": ""
             }
            },
            "type": "scatterternary"
           }
          ],
          "surface": [
           {
            "colorbar": {
             "outlinewidth": 0,
             "ticks": ""
            },
            "colorscale": [
             [
              0,
              "#0d0887"
             ],
             [
              0.1111111111111111,
              "#46039f"
             ],
             [
              0.2222222222222222,
              "#7201a8"
             ],
             [
              0.3333333333333333,
              "#9c179e"
             ],
             [
              0.4444444444444444,
              "#bd3786"
             ],
             [
              0.5555555555555556,
              "#d8576b"
             ],
             [
              0.6666666666666666,
              "#ed7953"
             ],
             [
              0.7777777777777778,
              "#fb9f3a"
             ],
             [
              0.8888888888888888,
              "#fdca26"
             ],
             [
              1,
              "#f0f921"
             ]
            ],
            "type": "surface"
           }
          ],
          "table": [
           {
            "cells": {
             "fill": {
              "color": "#EBF0F8"
             },
             "line": {
              "color": "white"
             }
            },
            "header": {
             "fill": {
              "color": "#C8D4E3"
             },
             "line": {
              "color": "white"
             }
            },
            "type": "table"
           }
          ]
         },
         "layout": {
          "annotationdefaults": {
           "arrowcolor": "#2a3f5f",
           "arrowhead": 0,
           "arrowwidth": 1
          },
          "autotypenumbers": "strict",
          "coloraxis": {
           "colorbar": {
            "outlinewidth": 0,
            "ticks": ""
           }
          },
          "colorscale": {
           "diverging": [
            [
             0,
             "#8e0152"
            ],
            [
             0.1,
             "#c51b7d"
            ],
            [
             0.2,
             "#de77ae"
            ],
            [
             0.3,
             "#f1b6da"
            ],
            [
             0.4,
             "#fde0ef"
            ],
            [
             0.5,
             "#f7f7f7"
            ],
            [
             0.6,
             "#e6f5d0"
            ],
            [
             0.7,
             "#b8e186"
            ],
            [
             0.8,
             "#7fbc41"
            ],
            [
             0.9,
             "#4d9221"
            ],
            [
             1,
             "#276419"
            ]
           ],
           "sequential": [
            [
             0,
             "#0d0887"
            ],
            [
             0.1111111111111111,
             "#46039f"
            ],
            [
             0.2222222222222222,
             "#7201a8"
            ],
            [
             0.3333333333333333,
             "#9c179e"
            ],
            [
             0.4444444444444444,
             "#bd3786"
            ],
            [
             0.5555555555555556,
             "#d8576b"
            ],
            [
             0.6666666666666666,
             "#ed7953"
            ],
            [
             0.7777777777777778,
             "#fb9f3a"
            ],
            [
             0.8888888888888888,
             "#fdca26"
            ],
            [
             1,
             "#f0f921"
            ]
           ],
           "sequentialminus": [
            [
             0,
             "#0d0887"
            ],
            [
             0.1111111111111111,
             "#46039f"
            ],
            [
             0.2222222222222222,
             "#7201a8"
            ],
            [
             0.3333333333333333,
             "#9c179e"
            ],
            [
             0.4444444444444444,
             "#bd3786"
            ],
            [
             0.5555555555555556,
             "#d8576b"
            ],
            [
             0.6666666666666666,
             "#ed7953"
            ],
            [
             0.7777777777777778,
             "#fb9f3a"
            ],
            [
             0.8888888888888888,
             "#fdca26"
            ],
            [
             1,
             "#f0f921"
            ]
           ]
          },
          "colorway": [
           "#636efa",
           "#EF553B",
           "#00cc96",
           "#ab63fa",
           "#FFA15A",
           "#19d3f3",
           "#FF6692",
           "#B6E880",
           "#FF97FF",
           "#FECB52"
          ],
          "font": {
           "color": "#2a3f5f"
          },
          "geo": {
           "bgcolor": "white",
           "lakecolor": "white",
           "landcolor": "#E5ECF6",
           "showlakes": true,
           "showland": true,
           "subunitcolor": "white"
          },
          "hoverlabel": {
           "align": "left"
          },
          "hovermode": "closest",
          "mapbox": {
           "style": "light"
          },
          "paper_bgcolor": "white",
          "plot_bgcolor": "#E5ECF6",
          "polar": {
           "angularaxis": {
            "gridcolor": "white",
            "linecolor": "white",
            "ticks": ""
           },
           "bgcolor": "#E5ECF6",
           "radialaxis": {
            "gridcolor": "white",
            "linecolor": "white",
            "ticks": ""
           }
          },
          "scene": {
           "xaxis": {
            "backgroundcolor": "#E5ECF6",
            "gridcolor": "white",
            "gridwidth": 2,
            "linecolor": "white",
            "showbackground": true,
            "ticks": "",
            "zerolinecolor": "white"
           },
           "yaxis": {
            "backgroundcolor": "#E5ECF6",
            "gridcolor": "white",
            "gridwidth": 2,
            "linecolor": "white",
            "showbackground": true,
            "ticks": "",
            "zerolinecolor": "white"
           },
           "zaxis": {
            "backgroundcolor": "#E5ECF6",
            "gridcolor": "white",
            "gridwidth": 2,
            "linecolor": "white",
            "showbackground": true,
            "ticks": "",
            "zerolinecolor": "white"
           }
          },
          "shapedefaults": {
           "line": {
            "color": "#2a3f5f"
           }
          },
          "ternary": {
           "aaxis": {
            "gridcolor": "white",
            "linecolor": "white",
            "ticks": ""
           },
           "baxis": {
            "gridcolor": "white",
            "linecolor": "white",
            "ticks": ""
           },
           "bgcolor": "#E5ECF6",
           "caxis": {
            "gridcolor": "white",
            "linecolor": "white",
            "ticks": ""
           }
          },
          "title": {
           "x": 0.05
          },
          "xaxis": {
           "automargin": true,
           "gridcolor": "white",
           "linecolor": "white",
           "ticks": "",
           "title": {
            "standoff": 15
           },
           "zerolinecolor": "white",
           "zerolinewidth": 2
          },
          "yaxis": {
           "automargin": true,
           "gridcolor": "white",
           "linecolor": "white",
           "ticks": "",
           "title": {
            "standoff": 15
           },
           "zerolinecolor": "white",
           "zerolinewidth": 2
          }
         }
        },
        "title": {
         "text": "Entropy generation number vs n_cells - Training Snapshots - Parameter Space 10"
        },
        "xaxis": {
         "tickformat": ".1e",
         "ticktext": [
          "8.00e+04 (100 m)",
          "6.40e+05 (50 m)"
         ],
         "tickvals": {
          "bdata": "gDgBAADECQA=",
          "dtype": "i4"
         },
         "title": {
          "text": "Total cells (min. cell size)"
         },
         "type": "log"
        },
        "yaxis": {
         "tickformat": ".2f",
         "title": {
          "text": "entropy_num"
         }
        }
       }
      }
     },
     "metadata": {},
     "output_type": "display_data"
    }
   ],
   "source": [
    "fig = go.Figure()\n",
    "plot_metric = \"entropy_num\" #\"entropy_num\"\n",
    "squarred_errors = np.zeros((N_SNAPS, len(mapped_dic) + 1)) #! Only if original is also included\n",
    "for idx_snap in range(N_SNAPS):\n",
    "    entropies = []\n",
    "    n_cells = []\n",
    "    cell_sizes = []\n",
    "    mapped_meshes = []\n",
    "\n",
    "    for key, value in mapped_dic.items():\n",
    "        entropies.append(value[plot_metric][idx_snap][time_step_idx])\n",
    "        n_cells.append(value[\"n_cells\"])\n",
    "        cell_sizes.append(value[\"cell_size\"])\n",
    "        mapped_meshes.append(key)\n",
    "        \n",
    "    sorted_indices = np.argsort(np.array(n_cells))\n",
    "    entropies = np.array(entropies)[sorted_indices]\n",
    "    cell_sizes = np.array(cell_sizes)[sorted_indices]\n",
    "    n_cells = np.array(n_cells)[sorted_indices]\n",
    "    mapped_meshes_sorted = [mapped_meshes[i] for i in sorted_indices]\n",
    "    \n",
    "    original_n_cells = n_cells_org[idx_snap]\n",
    "    original_entropy_num = entropy_num_org[idx_snap][time_step_idx]\n",
    "    \n",
    "    idx_org = np.searchsorted(n_cells, original_n_cells)\n",
    "    n_cells = np.insert(n_cells, idx_org, original_n_cells)\n",
    "    cell_sizes = np.insert(cell_sizes, idx_org, np.nan)\n",
    "    entropies = np.insert(entropies, idx_org, original_entropy_num)\n",
    "    mapped_meshes_sorted.insert(idx_org, \"Original Comsol Mesh\")\n",
    "    \n",
    "\n",
    "    rel_error = (entropies - original_entropy_num) / original_entropy_num\n",
    "    squarred_errors[idx_snap, :] = (entropies - original_entropy_num)**2\n",
    "    \n",
    "    mapped_meshes_sorted = np.array(mapped_meshes_sorted, dtype=object)\n",
    "    idx_snap_array = np.ones_like(rel_error) * idx_snap\n",
    "    # Stack into 2D array: shape (n_points, 2)\n",
    "    custom_data = np.column_stack((mapped_meshes_sorted, rel_error * 100, idx_snap_array))\n",
    "    \n",
    "\n",
    "    fig.add_trace(go.Scatter(x=n_cells,\n",
    "                             y=entropies,\n",
    "                                mode='markers+lines',\n",
    "                                name=f\"{idx_snap:03d}\",\n",
    "                                opacity=0.4,#\n",
    "                                customdata=custom_data,\n",
    "                                hovertemplate=\n",
    "                                    'Cells: %{x}<br>'\n",
    "                                    'Entropy number: %{y}<br>'\n",
    "                                    'Snap Idx: %{customdata[2]:03d}<br>'\n",
    "                                    'Mapped: %{customdata[0]}<br>'\n",
    "                                    'Rel Error: %{customdata[1]:.3f}%<extra></extra>',\n",
    "                                line=dict(color=colors[idx_snap])\n",
    "                ))\n",
    "    \n",
    "fig.update_layout(\n",
    "    showlegend=False,        # Hide the legend\n",
    "    title=f\"Entropy generation number vs n_cells - Training Snapshots - Parameter Space {PARAMETER_SPACE}\",       # Optional: add a title\n",
    "    xaxis_title=\"Total cells (min. cell size)\",    # Optional: label for x-axis\n",
    "    yaxis_title=plot_metric,     # Optional: label for y-axis    \n",
    "    xaxis=dict(\n",
    "        type='log',                               # Set x-axis to logarithmic scale\n",
    "        tickformat='.1e',                         # Format x-axis ticks to scientific notation with 2 decimal places\n",
    "        tickvals = np.delete(n_cells, idx_org),\n",
    "        ticktext = [f\"{n_cell:.2e} ({cell_size:.0f} m)\" for (cell_size, n_cell) in zip(np.delete(cell_sizes, idx_org), np.delete(n_cells, idx_org))]\n",
    "    ),\n",
    "    yaxis=dict(\n",
    "        tickformat='.2f',                         # Format y-axis ticks to 2 decimal places (optional)\n",
    "    )\n",
    ")\n",
    "\n",
    "fig.write_image(mapped_root / f\"Training_Diff_{plot_metric}.png\")\n",
    "fig.write_html(mapped_root / f\"Training_Diff_{plot_metric}.html\")\n",
    "fig.show()"
   ]
  },
  {
   "cell_type": "markdown",
   "id": "0eb4c70d",
   "metadata": {},
   "source": [
    "### Errors"
   ]
  },
  {
   "cell_type": "code",
   "execution_count": 13,
   "id": "a2299ce7",
   "metadata": {},
   "outputs": [
    {
     "name": "stdout",
     "output_type": "stream",
     "text": [
      "s100_100_100_b0_4000_0_5000_-4000_0 - MSE :    1.2e-03\n",
      "Original Comsol Mesh - MSE :    0.0e+00\n",
      "s50_50_50_b0_4000_0_5000_-4000_0 - MSE :    4.0e-04\n"
     ]
    }
   ],
   "source": [
    "mses = np.sum(squarred_errors, axis=0)/N_SNAPS\n",
    "meses_dic = {mesh: mse for (mse, mesh) in zip(mses, mapped_meshes_sorted) }\n",
    "for key, val in meses_dic.items():\n",
    "    print(f\"{key} - MSE : {val:>10.1e}\")"
   ]
  },
  {
   "cell_type": "code",
   "execution_count": 14,
   "id": "5f20c97f",
   "metadata": {},
   "outputs": [
    {
     "data": {
      "application/vnd.plotly.v1+json": {
       "config": {
        "plotlyServerURL": "https://plot.ly"
       },
       "data": [
        {
         "type": "scatter",
         "x": {
          "bdata": "AAAAAAAAWUAAAAAAAABJQA==",
          "dtype": "f8"
         },
         "y": {
          "bdata": "nJ6m1FIjVD9qNjOa4uo5Pw==",
          "dtype": "f8"
         }
        }
       ],
       "layout": {
        "template": {
         "data": {
          "bar": [
           {
            "error_x": {
             "color": "#2a3f5f"
            },
            "error_y": {
             "color": "#2a3f5f"
            },
            "marker": {
             "line": {
              "color": "#E5ECF6",
              "width": 0.5
             },
             "pattern": {
              "fillmode": "overlay",
              "size": 10,
              "solidity": 0.2
             }
            },
            "type": "bar"
           }
          ],
          "barpolar": [
           {
            "marker": {
             "line": {
              "color": "#E5ECF6",
              "width": 0.5
             },
             "pattern": {
              "fillmode": "overlay",
              "size": 10,
              "solidity": 0.2
             }
            },
            "type": "barpolar"
           }
          ],
          "carpet": [
           {
            "aaxis": {
             "endlinecolor": "#2a3f5f",
             "gridcolor": "white",
             "linecolor": "white",
             "minorgridcolor": "white",
             "startlinecolor": "#2a3f5f"
            },
            "baxis": {
             "endlinecolor": "#2a3f5f",
             "gridcolor": "white",
             "linecolor": "white",
             "minorgridcolor": "white",
             "startlinecolor": "#2a3f5f"
            },
            "type": "carpet"
           }
          ],
          "choropleth": [
           {
            "colorbar": {
             "outlinewidth": 0,
             "ticks": ""
            },
            "type": "choropleth"
           }
          ],
          "contour": [
           {
            "colorbar": {
             "outlinewidth": 0,
             "ticks": ""
            },
            "colorscale": [
             [
              0,
              "#0d0887"
             ],
             [
              0.1111111111111111,
              "#46039f"
             ],
             [
              0.2222222222222222,
              "#7201a8"
             ],
             [
              0.3333333333333333,
              "#9c179e"
             ],
             [
              0.4444444444444444,
              "#bd3786"
             ],
             [
              0.5555555555555556,
              "#d8576b"
             ],
             [
              0.6666666666666666,
              "#ed7953"
             ],
             [
              0.7777777777777778,
              "#fb9f3a"
             ],
             [
              0.8888888888888888,
              "#fdca26"
             ],
             [
              1,
              "#f0f921"
             ]
            ],
            "type": "contour"
           }
          ],
          "contourcarpet": [
           {
            "colorbar": {
             "outlinewidth": 0,
             "ticks": ""
            },
            "type": "contourcarpet"
           }
          ],
          "heatmap": [
           {
            "colorbar": {
             "outlinewidth": 0,
             "ticks": ""
            },
            "colorscale": [
             [
              0,
              "#0d0887"
             ],
             [
              0.1111111111111111,
              "#46039f"
             ],
             [
              0.2222222222222222,
              "#7201a8"
             ],
             [
              0.3333333333333333,
              "#9c179e"
             ],
             [
              0.4444444444444444,
              "#bd3786"
             ],
             [
              0.5555555555555556,
              "#d8576b"
             ],
             [
              0.6666666666666666,
              "#ed7953"
             ],
             [
              0.7777777777777778,
              "#fb9f3a"
             ],
             [
              0.8888888888888888,
              "#fdca26"
             ],
             [
              1,
              "#f0f921"
             ]
            ],
            "type": "heatmap"
           }
          ],
          "histogram": [
           {
            "marker": {
             "pattern": {
              "fillmode": "overlay",
              "size": 10,
              "solidity": 0.2
             }
            },
            "type": "histogram"
           }
          ],
          "histogram2d": [
           {
            "colorbar": {
             "outlinewidth": 0,
             "ticks": ""
            },
            "colorscale": [
             [
              0,
              "#0d0887"
             ],
             [
              0.1111111111111111,
              "#46039f"
             ],
             [
              0.2222222222222222,
              "#7201a8"
             ],
             [
              0.3333333333333333,
              "#9c179e"
             ],
             [
              0.4444444444444444,
              "#bd3786"
             ],
             [
              0.5555555555555556,
              "#d8576b"
             ],
             [
              0.6666666666666666,
              "#ed7953"
             ],
             [
              0.7777777777777778,
              "#fb9f3a"
             ],
             [
              0.8888888888888888,
              "#fdca26"
             ],
             [
              1,
              "#f0f921"
             ]
            ],
            "type": "histogram2d"
           }
          ],
          "histogram2dcontour": [
           {
            "colorbar": {
             "outlinewidth": 0,
             "ticks": ""
            },
            "colorscale": [
             [
              0,
              "#0d0887"
             ],
             [
              0.1111111111111111,
              "#46039f"
             ],
             [
              0.2222222222222222,
              "#7201a8"
             ],
             [
              0.3333333333333333,
              "#9c179e"
             ],
             [
              0.4444444444444444,
              "#bd3786"
             ],
             [
              0.5555555555555556,
              "#d8576b"
             ],
             [
              0.6666666666666666,
              "#ed7953"
             ],
             [
              0.7777777777777778,
              "#fb9f3a"
             ],
             [
              0.8888888888888888,
              "#fdca26"
             ],
             [
              1,
              "#f0f921"
             ]
            ],
            "type": "histogram2dcontour"
           }
          ],
          "mesh3d": [
           {
            "colorbar": {
             "outlinewidth": 0,
             "ticks": ""
            },
            "type": "mesh3d"
           }
          ],
          "parcoords": [
           {
            "line": {
             "colorbar": {
              "outlinewidth": 0,
              "ticks": ""
             }
            },
            "type": "parcoords"
           }
          ],
          "pie": [
           {
            "automargin": true,
            "type": "pie"
           }
          ],
          "scatter": [
           {
            "fillpattern": {
             "fillmode": "overlay",
             "size": 10,
             "solidity": 0.2
            },
            "type": "scatter"
           }
          ],
          "scatter3d": [
           {
            "line": {
             "colorbar": {
              "outlinewidth": 0,
              "ticks": ""
             }
            },
            "marker": {
             "colorbar": {
              "outlinewidth": 0,
              "ticks": ""
             }
            },
            "type": "scatter3d"
           }
          ],
          "scattercarpet": [
           {
            "marker": {
             "colorbar": {
              "outlinewidth": 0,
              "ticks": ""
             }
            },
            "type": "scattercarpet"
           }
          ],
          "scattergeo": [
           {
            "marker": {
             "colorbar": {
              "outlinewidth": 0,
              "ticks": ""
             }
            },
            "type": "scattergeo"
           }
          ],
          "scattergl": [
           {
            "marker": {
             "colorbar": {
              "outlinewidth": 0,
              "ticks": ""
             }
            },
            "type": "scattergl"
           }
          ],
          "scattermap": [
           {
            "marker": {
             "colorbar": {
              "outlinewidth": 0,
              "ticks": ""
             }
            },
            "type": "scattermap"
           }
          ],
          "scattermapbox": [
           {
            "marker": {
             "colorbar": {
              "outlinewidth": 0,
              "ticks": ""
             }
            },
            "type": "scattermapbox"
           }
          ],
          "scatterpolar": [
           {
            "marker": {
             "colorbar": {
              "outlinewidth": 0,
              "ticks": ""
             }
            },
            "type": "scatterpolar"
           }
          ],
          "scatterpolargl": [
           {
            "marker": {
             "colorbar": {
              "outlinewidth": 0,
              "ticks": ""
             }
            },
            "type": "scatterpolargl"
           }
          ],
          "scatterternary": [
           {
            "marker": {
             "colorbar": {
              "outlinewidth": 0,
              "ticks": ""
             }
            },
            "type": "scatterternary"
           }
          ],
          "surface": [
           {
            "colorbar": {
             "outlinewidth": 0,
             "ticks": ""
            },
            "colorscale": [
             [
              0,
              "#0d0887"
             ],
             [
              0.1111111111111111,
              "#46039f"
             ],
             [
              0.2222222222222222,
              "#7201a8"
             ],
             [
              0.3333333333333333,
              "#9c179e"
             ],
             [
              0.4444444444444444,
              "#bd3786"
             ],
             [
              0.5555555555555556,
              "#d8576b"
             ],
             [
              0.6666666666666666,
              "#ed7953"
             ],
             [
              0.7777777777777778,
              "#fb9f3a"
             ],
             [
              0.8888888888888888,
              "#fdca26"
             ],
             [
              1,
              "#f0f921"
             ]
            ],
            "type": "surface"
           }
          ],
          "table": [
           {
            "cells": {
             "fill": {
              "color": "#EBF0F8"
             },
             "line": {
              "color": "white"
             }
            },
            "header": {
             "fill": {
              "color": "#C8D4E3"
             },
             "line": {
              "color": "white"
             }
            },
            "type": "table"
           }
          ]
         },
         "layout": {
          "annotationdefaults": {
           "arrowcolor": "#2a3f5f",
           "arrowhead": 0,
           "arrowwidth": 1
          },
          "autotypenumbers": "strict",
          "coloraxis": {
           "colorbar": {
            "outlinewidth": 0,
            "ticks": ""
           }
          },
          "colorscale": {
           "diverging": [
            [
             0,
             "#8e0152"
            ],
            [
             0.1,
             "#c51b7d"
            ],
            [
             0.2,
             "#de77ae"
            ],
            [
             0.3,
             "#f1b6da"
            ],
            [
             0.4,
             "#fde0ef"
            ],
            [
             0.5,
             "#f7f7f7"
            ],
            [
             0.6,
             "#e6f5d0"
            ],
            [
             0.7,
             "#b8e186"
            ],
            [
             0.8,
             "#7fbc41"
            ],
            [
             0.9,
             "#4d9221"
            ],
            [
             1,
             "#276419"
            ]
           ],
           "sequential": [
            [
             0,
             "#0d0887"
            ],
            [
             0.1111111111111111,
             "#46039f"
            ],
            [
             0.2222222222222222,
             "#7201a8"
            ],
            [
             0.3333333333333333,
             "#9c179e"
            ],
            [
             0.4444444444444444,
             "#bd3786"
            ],
            [
             0.5555555555555556,
             "#d8576b"
            ],
            [
             0.6666666666666666,
             "#ed7953"
            ],
            [
             0.7777777777777778,
             "#fb9f3a"
            ],
            [
             0.8888888888888888,
             "#fdca26"
            ],
            [
             1,
             "#f0f921"
            ]
           ],
           "sequentialminus": [
            [
             0,
             "#0d0887"
            ],
            [
             0.1111111111111111,
             "#46039f"
            ],
            [
             0.2222222222222222,
             "#7201a8"
            ],
            [
             0.3333333333333333,
             "#9c179e"
            ],
            [
             0.4444444444444444,
             "#bd3786"
            ],
            [
             0.5555555555555556,
             "#d8576b"
            ],
            [
             0.6666666666666666,
             "#ed7953"
            ],
            [
             0.7777777777777778,
             "#fb9f3a"
            ],
            [
             0.8888888888888888,
             "#fdca26"
            ],
            [
             1,
             "#f0f921"
            ]
           ]
          },
          "colorway": [
           "#636efa",
           "#EF553B",
           "#00cc96",
           "#ab63fa",
           "#FFA15A",
           "#19d3f3",
           "#FF6692",
           "#B6E880",
           "#FF97FF",
           "#FECB52"
          ],
          "font": {
           "color": "#2a3f5f"
          },
          "geo": {
           "bgcolor": "white",
           "lakecolor": "white",
           "landcolor": "#E5ECF6",
           "showlakes": true,
           "showland": true,
           "subunitcolor": "white"
          },
          "hoverlabel": {
           "align": "left"
          },
          "hovermode": "closest",
          "mapbox": {
           "style": "light"
          },
          "paper_bgcolor": "white",
          "plot_bgcolor": "#E5ECF6",
          "polar": {
           "angularaxis": {
            "gridcolor": "white",
            "linecolor": "white",
            "ticks": ""
           },
           "bgcolor": "#E5ECF6",
           "radialaxis": {
            "gridcolor": "white",
            "linecolor": "white",
            "ticks": ""
           }
          },
          "scene": {
           "xaxis": {
            "backgroundcolor": "#E5ECF6",
            "gridcolor": "white",
            "gridwidth": 2,
            "linecolor": "white",
            "showbackground": true,
            "ticks": "",
            "zerolinecolor": "white"
           },
           "yaxis": {
            "backgroundcolor": "#E5ECF6",
            "gridcolor": "white",
            "gridwidth": 2,
            "linecolor": "white",
            "showbackground": true,
            "ticks": "",
            "zerolinecolor": "white"
           },
           "zaxis": {
            "backgroundcolor": "#E5ECF6",
            "gridcolor": "white",
            "gridwidth": 2,
            "linecolor": "white",
            "showbackground": true,
            "ticks": "",
            "zerolinecolor": "white"
           }
          },
          "shapedefaults": {
           "line": {
            "color": "#2a3f5f"
           }
          },
          "ternary": {
           "aaxis": {
            "gridcolor": "white",
            "linecolor": "white",
            "ticks": ""
           },
           "baxis": {
            "gridcolor": "white",
            "linecolor": "white",
            "ticks": ""
           },
           "bgcolor": "#E5ECF6",
           "caxis": {
            "gridcolor": "white",
            "linecolor": "white",
            "ticks": ""
           }
          },
          "title": {
           "x": 0.05
          },
          "xaxis": {
           "automargin": true,
           "gridcolor": "white",
           "linecolor": "white",
           "ticks": "",
           "title": {
            "standoff": 15
           },
           "zerolinecolor": "white",
           "zerolinewidth": 2
          },
          "yaxis": {
           "automargin": true,
           "gridcolor": "white",
           "linecolor": "white",
           "ticks": "",
           "title": {
            "standoff": 15
           },
           "zerolinecolor": "white",
           "zerolinewidth": 2
          }
         }
        },
        "title": {
         "text": "PS 10 - Entropy Generation Number MSE Training"
        },
        "xaxis": {
         "title": {
          "text": "Control mesh cell size [m]"
         }
        },
        "yaxis": {
         "tickformat": ".1e",
         "title": {
          "text": "Mean squarred error "
         },
         "type": "log"
        }
       }
      }
     },
     "metadata": {},
     "output_type": "display_data"
    }
   ],
   "source": [
    "fig = go.Figure()\n",
    "fig.add_trace(go.Scatter(\n",
    "    x = np.delete(cell_sizes, idx_org),\n",
    "    y = np.delete(mses, idx_org)\n",
    "))\n",
    "\n",
    "fig.update_layout(\n",
    "    title=f\"PS {PARAMETER_SPACE} - Entropy Generation Number MSE {DATA_TYPE}\",\n",
    "    xaxis_title=\"Control mesh cell size [m]\",\n",
    "    yaxis_title=\"Mean squarred error \",\n",
    "    yaxis_type=\"log\",\n",
    "    yaxis_tickformat=\".1e\"\n",
    ")\n",
    "\n",
    "fig.write_image(mapped_root / \"ControlMesh_MSEs.png\")\n",
    "fig.show()"
   ]
  }
 ],
 "metadata": {
  "kernelspec": {
   "display_name": "nirb",
   "language": "python",
   "name": "python3"
  },
  "language_info": {
   "codemirror_mode": {
    "name": "ipython",
    "version": 3
   },
   "file_extension": ".py",
   "mimetype": "text/x-python",
   "name": "python",
   "nbconvert_exporter": "python",
   "pygments_lexer": "ipython3",
   "version": "3.12.4"
  }
 },
 "nbformat": 4,
 "nbformat_minor": 5
}
