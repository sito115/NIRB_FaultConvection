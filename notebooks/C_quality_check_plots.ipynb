{
 "cells": [
  {
   "cell_type": "markdown",
   "metadata": {},
   "source": [
    "### Add venv modules"
   ]
  },
  {
   "cell_type": "code",
   "execution_count": 22,
   "metadata": {},
   "outputs": [],
   "source": [
    "import numpy as np\n",
    "import plotly.express as px\n",
    "import plotly.graph_objects as go\n",
    "from pathlib import Path\n",
    "import pandas as pd\n",
    "import pint\n",
    "import sys\n",
    "from tqdm import tqdm\n",
    "from joblib import dump, load"
   ]
  },
  {
   "cell_type": "code",
   "execution_count": 23,
   "metadata": {},
   "outputs": [],
   "source": [
    "sys.path.append(str(Path.cwd().parent))"
   ]
  },
  {
   "cell_type": "markdown",
   "metadata": {},
   "source": [
    "### Add local modules"
   ]
  },
  {
   "cell_type": "code",
   "execution_count": 24,
   "metadata": {},
   "outputs": [],
   "source": [
    "from scr.utils import safe_parse_quantity , delete_comsol_fields, calculate_thermal_entropy_generation\n",
    "from scr.comsol_module.comsol_classes import COMSOL_VTU\n",
    "from scr.comsol_module.entropy import calculate_S_therm"
   ]
  },
  {
   "cell_type": "markdown",
   "metadata": {},
   "source": [
    "### Import "
   ]
  },
  {
   "cell_type": "code",
   "execution_count": 25,
   "metadata": {},
   "outputs": [
    {
     "data": {
      "text/plain": [
       "PosixPath('/Users/thomassimader/Documents/NIRB')"
      ]
     },
     "execution_count": 25,
     "metadata": {},
     "output_type": "execute_result"
    }
   ],
   "source": [
    "ROOT = Path().cwd().parent\n",
    "PARAMETER_SPACE = \"01\"\n",
    "DATA_TYPE = \"Test\"\n",
    "IS_LOAD_NPY : bool = True\n",
    "IS_LOAD_JOBLIB : bool = False\n",
    "IS_EXPORT = True\n",
    "IS_LOAD_VTU = False # For entropy\n",
    "assert IS_LOAD_NPY != IS_LOAD_JOBLIB\n",
    "ROOT"
   ]
  },
  {
   "cell_type": "code",
   "execution_count": 26,
   "metadata": {},
   "outputs": [],
   "source": [
    "export_folder = ROOT / \"data\" / PARAMETER_SPACE / \"TestMapped\" # \"TrainingMapped\" / \"s50_50_50_b50_3950_50_4950_-3950_0\"\n",
    "assert export_folder.exists()\n",
    "import_folder = export_folder #ROOT / \"data\" / PARAMETER_SPACE / \"\"\n",
    "assert import_folder.exists()\n"
   ]
  },
  {
   "cell_type": "code",
   "execution_count": 27,
   "metadata": {},
   "outputs": [],
   "source": [
    "if IS_LOAD_NPY:\n",
    "    temperatures      = np.load(import_folder  / f\"{DATA_TYPE}_temperatures.npy\" )\n",
    "    try:\n",
    "        temperatures_diff = np.load(import_folder  / f\"{DATA_TYPE}_temperatures_diff.npy\" )\n",
    "    except FileNotFoundError:\n",
    "        temperatures_diff = None\n",
    "    sim_times_path = import_folder  / f\"{DATA_TYPE}_sim_times.npy\"\n",
    "    sim_times = np.load(sim_times_path)\n",
    "if IS_LOAD_JOBLIB:\n",
    "    temperatures      = load(import_folder / f\"{DATA_TYPE}_temperatures.joblib\" )\n",
    "    temperatures_diff = load(import_folder / f\"{DATA_TYPE}_temperatures_diff.joblib\" )"
   ]
  },
  {
   "cell_type": "code",
   "execution_count": 28,
   "metadata": {},
   "outputs": [],
   "source": [
    "N_SNAPS = len(temperatures)\n",
    "colors = px.colors.sample_colorscale(\"jet\", [n/(N_SNAPS) for n in range(N_SNAPS)])"
   ]
  },
  {
   "cell_type": "code",
   "execution_count": 29,
   "metadata": {},
   "outputs": [],
   "source": [
    "# comsol_data  = COMSOL_VTU( ROOT / \"data\" / PARAMETER_SPACE / \"Training\" / f\"{DATA_TYPE}_000.vtu\")\n",
    "# comsol_data  = COMSOL_VTU(import_folder / \"Training_000_s50_50_50_b50_3950_50_4950_-3950_0.vti\")\n",
    "comsol_data = COMSOL_VTU(\"/Users/thomassimader/Documents/NIRB/data/01/TrainingMapped/Training_000_s100_100_100_b0_4000_0_5000_-4000_0.vtu\")\n"
   ]
  },
  {
   "cell_type": "markdown",
   "metadata": {},
   "source": [
    "## Plot"
   ]
  },
  {
   "cell_type": "markdown",
   "metadata": {},
   "source": [
    "### Min max temperature difference"
   ]
  },
  {
   "cell_type": "code",
   "execution_count": 30,
   "metadata": {},
   "outputs": [],
   "source": [
    "if temperatures_diff is not None:\n",
    "    fig = go.Figure()\n",
    "    for idx_snap, temperature_array in enumerate(temperatures_diff):\n",
    "    # customdata=np.stack(([t_h] * len(comsol_data.times), [host_k] * len(comsol_data.times)) , axis=-1),\n",
    "        input_args = {'x' : list(comsol_data.times.values()),\n",
    "                    #   'customdata' : customdata,\n",
    "                    #   'hovertemplate' : \"Time: %{x:.2e}<br>Temperature: %{y:.2f}<br>T_h: %{customdata[0]:.2f}<br><br>host_k: %{customdata[1]:.2e}<br>\",\n",
    "                        'legendgroup' : f\"{idx_snap:03d}\",\n",
    "                        'name' : f\"{idx_snap:03d}\",\n",
    "                        'line' : dict(color=colors[idx_snap]),\n",
    "                        'opacity': 0.4}\n",
    "        fig.add_trace(go.Scatter(y=np.max(temperature_array, axis=1), **input_args)) \n",
    "        fig.add_trace(go.Scatter(y=np.min(temperature_array, axis=1), **input_args)) \n",
    "\n",
    "    fig.update_layout(\n",
    "        xaxis_tickformat='.2e',  # Format x-axis numbers to 2 decimal places\n",
    "        yaxis_tickformat='.2f',  # Format y-axis numbers to 2 decimal places\n",
    "        showlegend=False,        # Hide the legend\n",
    "        title_text=f'Temperature Difference (T-T0) - {DATA_TYPE} Snapshots - Parameter Space {PARAMETER_SPACE}', # title of plot\n",
    "        xaxis_title=\"Time [s]\",    # Optional: label for x-axis\n",
    "        yaxis_title=\"Temperature [K]\"     # Optional: label for y-axis\n",
    "    )\n",
    "    if IS_EXPORT:\n",
    "        fig.write_html(export_folder / f\"{DATA_TYPE}_MinMaxTemperatures.html\")\n",
    "        fig.write_image(export_folder / f\"{DATA_TYPE}_MinMaxTemperatures.png\")\n",
    "    fig.show()\n"
   ]
  },
  {
   "cell_type": "markdown",
   "metadata": {},
   "source": [
    "### Simulation Time"
   ]
  },
  {
   "cell_type": "code",
   "execution_count": 31,
   "metadata": {},
   "outputs": [
    {
     "data": {
      "application/vnd.plotly.v1+json": {
       "config": {
        "plotlyServerURL": "https://plot.ly"
       },
       "data": [
        {
         "histnorm": "percent",
         "marker": {
          "color": "#EB89B5"
         },
         "name": "control",
         "opacity": 0.75,
         "texttemplate": "%{x}",
         "type": "histogram",
         "x": {
          "bdata": "ZmZmEhOwIUC8u7tzGhskQJqZmSF+RyNAd3d3wzAdIEDe3d0F3wAZQM3MzHqMoCZAmpmZxQ/5GUBVVVWjrFkhQKuqqro4niJAiYiILsijIEBmZmZWzw4gQCIiIvpIkRlAzczMcqN3JUAzMzP/eDwZQImIiOSWrhlAMzMz04WlIUDNzMzgpncZQFVVVT969iNAVVVVvVDPIEAiIiLI6C4hQA==",
          "dtype": "f8"
         },
         "xbins": {
          "size": 2
         }
        }
       ],
       "layout": {
        "bargroupgap": 0.1,
        "template": {
         "data": {
          "bar": [
           {
            "error_x": {
             "color": "#2a3f5f"
            },
            "error_y": {
             "color": "#2a3f5f"
            },
            "marker": {
             "line": {
              "color": "#E5ECF6",
              "width": 0.5
             },
             "pattern": {
              "fillmode": "overlay",
              "size": 10,
              "solidity": 0.2
             }
            },
            "type": "bar"
           }
          ],
          "barpolar": [
           {
            "marker": {
             "line": {
              "color": "#E5ECF6",
              "width": 0.5
             },
             "pattern": {
              "fillmode": "overlay",
              "size": 10,
              "solidity": 0.2
             }
            },
            "type": "barpolar"
           }
          ],
          "carpet": [
           {
            "aaxis": {
             "endlinecolor": "#2a3f5f",
             "gridcolor": "white",
             "linecolor": "white",
             "minorgridcolor": "white",
             "startlinecolor": "#2a3f5f"
            },
            "baxis": {
             "endlinecolor": "#2a3f5f",
             "gridcolor": "white",
             "linecolor": "white",
             "minorgridcolor": "white",
             "startlinecolor": "#2a3f5f"
            },
            "type": "carpet"
           }
          ],
          "choropleth": [
           {
            "colorbar": {
             "outlinewidth": 0,
             "ticks": ""
            },
            "type": "choropleth"
           }
          ],
          "contour": [
           {
            "colorbar": {
             "outlinewidth": 0,
             "ticks": ""
            },
            "colorscale": [
             [
              0,
              "#0d0887"
             ],
             [
              0.1111111111111111,
              "#46039f"
             ],
             [
              0.2222222222222222,
              "#7201a8"
             ],
             [
              0.3333333333333333,
              "#9c179e"
             ],
             [
              0.4444444444444444,
              "#bd3786"
             ],
             [
              0.5555555555555556,
              "#d8576b"
             ],
             [
              0.6666666666666666,
              "#ed7953"
             ],
             [
              0.7777777777777778,
              "#fb9f3a"
             ],
             [
              0.8888888888888888,
              "#fdca26"
             ],
             [
              1,
              "#f0f921"
             ]
            ],
            "type": "contour"
           }
          ],
          "contourcarpet": [
           {
            "colorbar": {
             "outlinewidth": 0,
             "ticks": ""
            },
            "type": "contourcarpet"
           }
          ],
          "heatmap": [
           {
            "colorbar": {
             "outlinewidth": 0,
             "ticks": ""
            },
            "colorscale": [
             [
              0,
              "#0d0887"
             ],
             [
              0.1111111111111111,
              "#46039f"
             ],
             [
              0.2222222222222222,
              "#7201a8"
             ],
             [
              0.3333333333333333,
              "#9c179e"
             ],
             [
              0.4444444444444444,
              "#bd3786"
             ],
             [
              0.5555555555555556,
              "#d8576b"
             ],
             [
              0.6666666666666666,
              "#ed7953"
             ],
             [
              0.7777777777777778,
              "#fb9f3a"
             ],
             [
              0.8888888888888888,
              "#fdca26"
             ],
             [
              1,
              "#f0f921"
             ]
            ],
            "type": "heatmap"
           }
          ],
          "histogram": [
           {
            "marker": {
             "pattern": {
              "fillmode": "overlay",
              "size": 10,
              "solidity": 0.2
             }
            },
            "type": "histogram"
           }
          ],
          "histogram2d": [
           {
            "colorbar": {
             "outlinewidth": 0,
             "ticks": ""
            },
            "colorscale": [
             [
              0,
              "#0d0887"
             ],
             [
              0.1111111111111111,
              "#46039f"
             ],
             [
              0.2222222222222222,
              "#7201a8"
             ],
             [
              0.3333333333333333,
              "#9c179e"
             ],
             [
              0.4444444444444444,
              "#bd3786"
             ],
             [
              0.5555555555555556,
              "#d8576b"
             ],
             [
              0.6666666666666666,
              "#ed7953"
             ],
             [
              0.7777777777777778,
              "#fb9f3a"
             ],
             [
              0.8888888888888888,
              "#fdca26"
             ],
             [
              1,
              "#f0f921"
             ]
            ],
            "type": "histogram2d"
           }
          ],
          "histogram2dcontour": [
           {
            "colorbar": {
             "outlinewidth": 0,
             "ticks": ""
            },
            "colorscale": [
             [
              0,
              "#0d0887"
             ],
             [
              0.1111111111111111,
              "#46039f"
             ],
             [
              0.2222222222222222,
              "#7201a8"
             ],
             [
              0.3333333333333333,
              "#9c179e"
             ],
             [
              0.4444444444444444,
              "#bd3786"
             ],
             [
              0.5555555555555556,
              "#d8576b"
             ],
             [
              0.6666666666666666,
              "#ed7953"
             ],
             [
              0.7777777777777778,
              "#fb9f3a"
             ],
             [
              0.8888888888888888,
              "#fdca26"
             ],
             [
              1,
              "#f0f921"
             ]
            ],
            "type": "histogram2dcontour"
           }
          ],
          "mesh3d": [
           {
            "colorbar": {
             "outlinewidth": 0,
             "ticks": ""
            },
            "type": "mesh3d"
           }
          ],
          "parcoords": [
           {
            "line": {
             "colorbar": {
              "outlinewidth": 0,
              "ticks": ""
             }
            },
            "type": "parcoords"
           }
          ],
          "pie": [
           {
            "automargin": true,
            "type": "pie"
           }
          ],
          "scatter": [
           {
            "fillpattern": {
             "fillmode": "overlay",
             "size": 10,
             "solidity": 0.2
            },
            "type": "scatter"
           }
          ],
          "scatter3d": [
           {
            "line": {
             "colorbar": {
              "outlinewidth": 0,
              "ticks": ""
             }
            },
            "marker": {
             "colorbar": {
              "outlinewidth": 0,
              "ticks": ""
             }
            },
            "type": "scatter3d"
           }
          ],
          "scattercarpet": [
           {
            "marker": {
             "colorbar": {
              "outlinewidth": 0,
              "ticks": ""
             }
            },
            "type": "scattercarpet"
           }
          ],
          "scattergeo": [
           {
            "marker": {
             "colorbar": {
              "outlinewidth": 0,
              "ticks": ""
             }
            },
            "type": "scattergeo"
           }
          ],
          "scattergl": [
           {
            "marker": {
             "colorbar": {
              "outlinewidth": 0,
              "ticks": ""
             }
            },
            "type": "scattergl"
           }
          ],
          "scattermap": [
           {
            "marker": {
             "colorbar": {
              "outlinewidth": 0,
              "ticks": ""
             }
            },
            "type": "scattermap"
           }
          ],
          "scattermapbox": [
           {
            "marker": {
             "colorbar": {
              "outlinewidth": 0,
              "ticks": ""
             }
            },
            "type": "scattermapbox"
           }
          ],
          "scatterpolar": [
           {
            "marker": {
             "colorbar": {
              "outlinewidth": 0,
              "ticks": ""
             }
            },
            "type": "scatterpolar"
           }
          ],
          "scatterpolargl": [
           {
            "marker": {
             "colorbar": {
              "outlinewidth": 0,
              "ticks": ""
             }
            },
            "type": "scatterpolargl"
           }
          ],
          "scatterternary": [
           {
            "marker": {
             "colorbar": {
              "outlinewidth": 0,
              "ticks": ""
             }
            },
            "type": "scatterternary"
           }
          ],
          "surface": [
           {
            "colorbar": {
             "outlinewidth": 0,
             "ticks": ""
            },
            "colorscale": [
             [
              0,
              "#0d0887"
             ],
             [
              0.1111111111111111,
              "#46039f"
             ],
             [
              0.2222222222222222,
              "#7201a8"
             ],
             [
              0.3333333333333333,
              "#9c179e"
             ],
             [
              0.4444444444444444,
              "#bd3786"
             ],
             [
              0.5555555555555556,
              "#d8576b"
             ],
             [
              0.6666666666666666,
              "#ed7953"
             ],
             [
              0.7777777777777778,
              "#fb9f3a"
             ],
             [
              0.8888888888888888,
              "#fdca26"
             ],
             [
              1,
              "#f0f921"
             ]
            ],
            "type": "surface"
           }
          ],
          "table": [
           {
            "cells": {
             "fill": {
              "color": "#EBF0F8"
             },
             "line": {
              "color": "white"
             }
            },
            "header": {
             "fill": {
              "color": "#C8D4E3"
             },
             "line": {
              "color": "white"
             }
            },
            "type": "table"
           }
          ]
         },
         "layout": {
          "annotationdefaults": {
           "arrowcolor": "#2a3f5f",
           "arrowhead": 0,
           "arrowwidth": 1
          },
          "autotypenumbers": "strict",
          "coloraxis": {
           "colorbar": {
            "outlinewidth": 0,
            "ticks": ""
           }
          },
          "colorscale": {
           "diverging": [
            [
             0,
             "#8e0152"
            ],
            [
             0.1,
             "#c51b7d"
            ],
            [
             0.2,
             "#de77ae"
            ],
            [
             0.3,
             "#f1b6da"
            ],
            [
             0.4,
             "#fde0ef"
            ],
            [
             0.5,
             "#f7f7f7"
            ],
            [
             0.6,
             "#e6f5d0"
            ],
            [
             0.7,
             "#b8e186"
            ],
            [
             0.8,
             "#7fbc41"
            ],
            [
             0.9,
             "#4d9221"
            ],
            [
             1,
             "#276419"
            ]
           ],
           "sequential": [
            [
             0,
             "#0d0887"
            ],
            [
             0.1111111111111111,
             "#46039f"
            ],
            [
             0.2222222222222222,
             "#7201a8"
            ],
            [
             0.3333333333333333,
             "#9c179e"
            ],
            [
             0.4444444444444444,
             "#bd3786"
            ],
            [
             0.5555555555555556,
             "#d8576b"
            ],
            [
             0.6666666666666666,
             "#ed7953"
            ],
            [
             0.7777777777777778,
             "#fb9f3a"
            ],
            [
             0.8888888888888888,
             "#fdca26"
            ],
            [
             1,
             "#f0f921"
            ]
           ],
           "sequentialminus": [
            [
             0,
             "#0d0887"
            ],
            [
             0.1111111111111111,
             "#46039f"
            ],
            [
             0.2222222222222222,
             "#7201a8"
            ],
            [
             0.3333333333333333,
             "#9c179e"
            ],
            [
             0.4444444444444444,
             "#bd3786"
            ],
            [
             0.5555555555555556,
             "#d8576b"
            ],
            [
             0.6666666666666666,
             "#ed7953"
            ],
            [
             0.7777777777777778,
             "#fb9f3a"
            ],
            [
             0.8888888888888888,
             "#fdca26"
            ],
            [
             1,
             "#f0f921"
            ]
           ]
          },
          "colorway": [
           "#636efa",
           "#EF553B",
           "#00cc96",
           "#ab63fa",
           "#FFA15A",
           "#19d3f3",
           "#FF6692",
           "#B6E880",
           "#FF97FF",
           "#FECB52"
          ],
          "font": {
           "color": "#2a3f5f"
          },
          "geo": {
           "bgcolor": "white",
           "lakecolor": "white",
           "landcolor": "#E5ECF6",
           "showlakes": true,
           "showland": true,
           "subunitcolor": "white"
          },
          "hoverlabel": {
           "align": "left"
          },
          "hovermode": "closest",
          "mapbox": {
           "style": "light"
          },
          "paper_bgcolor": "white",
          "plot_bgcolor": "#E5ECF6",
          "polar": {
           "angularaxis": {
            "gridcolor": "white",
            "linecolor": "white",
            "ticks": ""
           },
           "bgcolor": "#E5ECF6",
           "radialaxis": {
            "gridcolor": "white",
            "linecolor": "white",
            "ticks": ""
           }
          },
          "scene": {
           "xaxis": {
            "backgroundcolor": "#E5ECF6",
            "gridcolor": "white",
            "gridwidth": 2,
            "linecolor": "white",
            "showbackground": true,
            "ticks": "",
            "zerolinecolor": "white"
           },
           "yaxis": {
            "backgroundcolor": "#E5ECF6",
            "gridcolor": "white",
            "gridwidth": 2,
            "linecolor": "white",
            "showbackground": true,
            "ticks": "",
            "zerolinecolor": "white"
           },
           "zaxis": {
            "backgroundcolor": "#E5ECF6",
            "gridcolor": "white",
            "gridwidth": 2,
            "linecolor": "white",
            "showbackground": true,
            "ticks": "",
            "zerolinecolor": "white"
           }
          },
          "shapedefaults": {
           "line": {
            "color": "#2a3f5f"
           }
          },
          "ternary": {
           "aaxis": {
            "gridcolor": "white",
            "linecolor": "white",
            "ticks": ""
           },
           "baxis": {
            "gridcolor": "white",
            "linecolor": "white",
            "ticks": ""
           },
           "bgcolor": "#E5ECF6",
           "caxis": {
            "gridcolor": "white",
            "linecolor": "white",
            "ticks": ""
           }
          },
          "title": {
           "x": 0.05
          },
          "xaxis": {
           "automargin": true,
           "gridcolor": "white",
           "linecolor": "white",
           "ticks": "",
           "title": {
            "standoff": 15
           },
           "zerolinecolor": "white",
           "zerolinewidth": 2
          },
          "yaxis": {
           "automargin": true,
           "gridcolor": "white",
           "linecolor": "white",
           "ticks": "",
           "title": {
            "standoff": 15
           },
           "zerolinecolor": "white",
           "zerolinewidth": 2
          }
         }
        },
        "title": {
         "text": "Simulation Time - Test Snapshots - Parameter Space 01"
        },
        "xaxis": {
         "title": {
          "text": "Time [min]"
         }
        },
        "yaxis": {
         "title": {
          "text": "Count"
         }
        }
       }
      }
     },
     "metadata": {},
     "output_type": "display_data"
    }
   ],
   "source": [
    "fig = go.Figure(data=[go.Histogram(\n",
    "    x=sim_times / 60,\n",
    "    histnorm='percent',\n",
    "    name='control', # name used in legend and hover labels\n",
    "    xbins=dict( # bins used for histogram\n",
    "        # start=-4.0,\n",
    "        # end=3.0,\n",
    "        size=2,\n",
    "        ),\n",
    "    marker_color='#EB89B5',\n",
    "    opacity=0.75,\n",
    "     texttemplate=\"%{x}\"\n",
    "    )])\n",
    "\n",
    "fig.update_layout(\n",
    "    title_text=f'Simulation Time - {DATA_TYPE} Snapshots - Parameter Space {PARAMETER_SPACE}', # title of plot\n",
    "    xaxis_title_text='Time [min]', # xaxis label\n",
    "    yaxis_title_text='Count', # yaxis label\n",
    "    bargroupgap=0.1, # gap between bars of the same location coordinates\n",
    ")\n",
    "if IS_EXPORT:\n",
    "    fig.write_html(export_folder / f\"{DATA_TYPE}_SimulationTime.html\")\n",
    "    fig.write_image(export_folder / f\"{DATA_TYPE}_SimulationTime.png\")\n",
    "fig.show()\n"
   ]
  },
  {
   "cell_type": "markdown",
   "metadata": {},
   "source": [
    "## Calculate Entropy\n"
   ]
  },
  {
   "cell_type": "code",
   "execution_count": 32,
   "metadata": {},
   "outputs": [],
   "source": [
    "param_folder = ROOT / \"data\" / PARAMETER_SPACE / \"Exports\"\n",
    "param_files = sorted([path for path in param_folder.rglob(f\"{DATA_TYPE}*.csv\")])\n",
    "assert len(param_files) == N_SNAPS"
   ]
  },
  {
   "cell_type": "code",
   "execution_count": null,
   "metadata": {},
   "outputs": [
    {
     "name": "stderr",
     "output_type": "stream",
     "text": [
      "100%|██████████| 20/20 [03:50<00:00, 11.54s/it]  \n"
     ]
    }
   ],
   "source": [
    "comsol_data_ref = comsol_data\n",
    "\n",
    "if not IS_LOAD_VTU:\n",
    "    N_SNAPS = len(temperatures)\n",
    "    N_TIME_STEPS = len(comsol_data_ref.times)\n",
    "    entropy_gen_unit = np.zeros((N_SNAPS, N_TIME_STEPS))\n",
    "    entropy_gen_number = np.zeros_like(entropy_gen_unit)\n",
    "    comsol_data.mesh.clear_point_data()\n",
    "\n",
    "    for idx_snap in tqdm(range(N_SNAPS), total = N_SNAPS):\n",
    "        param_df = pd.read_csv(param_files[idx_snap], index_col = 0)\n",
    "        ureg = pint.UnitRegistry()\n",
    "        param_df['quantity_pint'] = param_df[param_df.columns[-1]].apply(lambda x : safe_parse_quantity(x, ureg))\n",
    "        lambda_therm = (1 - param_df.loc['host_phi', \"quantity_pint\"]) * param_df.loc['host_lambda', \"quantity_pint\"] + \\\n",
    "                            param_df.loc['host_phi', \"quantity_pint\"] * (4.2 * ureg.watt / (ureg.meter * ureg.kelvin))\n",
    "        t0      = 0.5 * (param_df.loc[\"T_h\", \"quantity_pint\"] + param_df.loc[\"T_c\", \"quantity_pint\"])\n",
    "        delta_T = (param_df.loc['T_h', \"quantity_pint\"]  - param_df.loc[\"T_c\", \"quantity_pint\"])\n",
    "                    \n",
    "        for idx_time in range(N_TIME_STEPS):\n",
    "            entrop_gener , entrpy_num = calculate_thermal_entropy_generation(comsol_data.mesh,\n",
    "                                                                            temperatures[idx_snap, idx_time, :],\n",
    "                                                                            lambda_therm, t0, delta_T, ureg = ureg)\n",
    "            entropy_gen_unit[idx_snap, idx_time] = entrop_gener.magnitude\n",
    "            entropy_gen_number[idx_snap, idx_time] = entrpy_num.magnitude"
   ]
  },
  {
   "cell_type": "code",
   "execution_count": null,
   "metadata": {},
   "outputs": [],
   "source": [
    "if IS_LOAD_VTU:\n",
    "    vtu_files = sorted([path for path in import_folder.iterdir() if (path.suffix in [\".vtu\"] and DATA_TYPE.lower() in path.stem.lower())])\n",
    "    N_SNAPS = len(vtu_files)\n",
    "    N_TIME_STEPS = len(COMSOL_VTU( vtu_files[0]).times)\n",
    "    entropy_gen_unit = np.zeros((N_SNAPS, N_TIME_STEPS))\n",
    "    entropy_gen_number = np.zeros_like(entropy_gen_unit)\n",
    "    comsol_data.mesh.clear_point_data()\n",
    "\n",
    "    for idx_snap, vtu_file in tqdm(enumerate(vtu_files), total = len(vtu_files)): # TODO: Include TQDM\n",
    "            comsol_data = COMSOL_VTU(vtu_file)\n",
    "            temperatures = comsol_data.get_array(\"Temperature\")\n",
    "            comsol_data.mesh.clear_data()\n",
    "            param_df = pd.read_csv(param_files[idx_snap], index_col = 0)\n",
    "            ureg = pint.UnitRegistry()\n",
    "            param_df['quantity_pint'] = param_df[param_df.columns[-1]].apply(lambda x : safe_parse_quantity(x, ureg))\n",
    "            lambda_therm = (1 - param_df.loc['host_phi', \"quantity_pint\"]) * param_df.loc['host_lambda', \"quantity_pint\"] + \\\n",
    "                                param_df.loc['host_phi', \"quantity_pint\"] * (4.2 * ureg.watt / (ureg.meter * ureg.kelvin))\n",
    "            t0      = 0.5 * (param_df.loc[\"T_h\", \"quantity_pint\"] + param_df.loc[\"T_c\", \"quantity_pint\"])\n",
    "            delta_T = (param_df.loc['T_h', \"quantity_pint\"]  - param_df.loc[\"T_c\", \"quantity_pint\"])\n",
    "            \n",
    "\n",
    "            for idx_time, time_key in enumerate(comsol_data.times.keys()):\n",
    "                entrop_gener , entrpy_num = calculate_thermal_entropy_generation(comsol_data.mesh,\n",
    "                                                                                temperatures[idx_time, :],\n",
    "                                                                                lambda_therm, t0, delta_T, ureg = ureg)\n",
    "                entropy_gen_unit[idx_snap, idx_time] = entrop_gener.magnitude\n",
    "                entropy_gen_number[idx_snap, idx_time] = entrpy_num.magnitude"
   ]
  },
  {
   "cell_type": "code",
   "execution_count": 35,
   "metadata": {},
   "outputs": [],
   "source": [
    "np.save(export_folder / \"entropy_gen_unit.npy\", entropy_gen_unit)\n",
    "np.save(export_folder / \"entropy_gen_number.npy\", entropy_gen_number)"
   ]
  },
  {
   "cell_type": "markdown",
   "metadata": {},
   "source": [
    "### Plot entropy generation"
   ]
  },
  {
   "cell_type": "code",
   "execution_count": 36,
   "metadata": {},
   "outputs": [
    {
     "data": {
      "application/vnd.plotly.v1+json": {
       "config": {
        "plotlyServerURL": "https://plot.ly"
       },
       "data": [
        {
         "line": {
          "color": "rgb(0, 0, 131)"
         },
         "mode": "lines",
         "name": "000",
         "opacity": 0.4,
         "type": "scatter",
         "x": [
          0,
          1000000000000,
          2000000000000,
          3000000000000,
          4000000000000,
          5000000000000,
          6000000000000,
          7000000000000,
          8000000000000,
          9000000000000,
          10000000000000,
          11000000000000,
          12000000000000,
          13000000000000,
          14000000000000,
          15000000000000,
          16000000000000,
          17000000000000,
          18000000000000,
          19000000000000,
          20000000000000,
          21000000000000,
          22000000000000,
          23000000000000,
          24000000000000,
          25000000000000,
          26000000000000,
          27000000000000,
          28000000000000,
          29000000000000,
          30000000000000,
          31000000000000,
          32000000000000,
          33000000000000,
          34000000000000,
          35000000000000,
          36000000000000,
          37000000000000,
          38000000000000,
          39000000000000,
          40000000000000
         ],
         "y": {
          "bdata": "oPoaMHKLnkC1HNhdV1+hQBfyLafkT6FApqohWqdOoUDk1Occgk6hQOfO6/h9TqFASnsinH9OoUCcfNbdg06hQC2iomyDTqFAO8IEyoFOoUAokM89gU6hQJ9TskKBTqFARhQeboFOoUCvl2vGgU6hQJUe8AmCTqFAYGcsRYJOoUDTRlSBgk6hQNx4k7OCTqFAiCV3voJOoUDCPWDJgk6hQIzBTtSCTqFAFtKO2YJOoUCp0+vJgk6hQEZuVLqCTqFA4aHIqoJOoUAbk72bgk6hQAP5Z46CTqFAA3wXgYJOoUAZHMxzgk6hQGC1pGiCTqFA1E5HZYJOoUCYUuphgk6hQKrAjV6CTqFARjDqW4JOoUB3F+xbgk6hQJAR7luCTqFAjh7wW4JOoUA/Vlxcgk6hQELlTV6CTqFAVI0/YIJOoUBvTjFigk6hQA==",
          "dtype": "f8"
         }
        },
        {
         "line": {
          "color": "rgb(0, 15, 141)"
         },
         "mode": "lines",
         "name": "001",
         "opacity": 0.4,
         "type": "scatter",
         "x": [
          0,
          1000000000000,
          2000000000000,
          3000000000000,
          4000000000000,
          5000000000000,
          6000000000000,
          7000000000000,
          8000000000000,
          9000000000000,
          10000000000000,
          11000000000000,
          12000000000000,
          13000000000000,
          14000000000000,
          15000000000000,
          16000000000000,
          17000000000000,
          18000000000000,
          19000000000000,
          20000000000000,
          21000000000000,
          22000000000000,
          23000000000000,
          24000000000000,
          25000000000000,
          26000000000000,
          27000000000000,
          28000000000000,
          29000000000000,
          30000000000000,
          31000000000000,
          32000000000000,
          33000000000000,
          34000000000000,
          35000000000000,
          36000000000000,
          37000000000000,
          38000000000000,
          39000000000000,
          40000000000000
         ],
         "y": {
          "bdata": "qhip4Tkun0B2i4XzvNqhQBpoiobW26FAuk3ESILaoUAghns3xdqhQNN8uv7L2qFAJEDioNLaoUAVaYOK1dqhQG0XdVrW2qFAEK/MjdbaoUABPuIb1tqhQKPo9rzV2qFA5G72X9XaoUAlIl4K1dqhQJKcRObU2qFAhUJawtTaoUD8E5+e1NqhQNXvnX/U2qFASiOwhNTaoUDd+8OJ1NqhQI552Y7U2qFA1LvvlNTaoUD4F++i1NqhQM7h87DU2qFAWxn+vtTaoUAU1UHM1NqhQKQZOdPU2qFAKa8x2tTaoUColSvh1NqhQO9FqefU2qFAyhJF6tTaoUAvCuHs1NqhQCEsfe/U2qFAnzut8dTaoUAbzoPw1NqhQP5nWu/U2qFAQQkx7tTaoUCU7ODs1NqhQP25XerU2qFAgq7a59TaoUAfylfl1NqhQA==",
          "dtype": "f8"
         }
        },
        {
         "line": {
          "color": "rgb(0, 30, 150)"
         },
         "mode": "lines",
         "name": "002",
         "opacity": 0.4,
         "type": "scatter",
         "x": [
          0,
          1000000000000,
          2000000000000,
          3000000000000,
          4000000000000,
          5000000000000,
          6000000000000,
          7000000000000,
          8000000000000,
          9000000000000,
          10000000000000,
          11000000000000,
          12000000000000,
          13000000000000,
          14000000000000,
          15000000000000,
          16000000000000,
          17000000000000,
          18000000000000,
          19000000000000,
          20000000000000,
          21000000000000,
          22000000000000,
          23000000000000,
          24000000000000,
          25000000000000,
          26000000000000,
          27000000000000,
          28000000000000,
          29000000000000,
          30000000000000,
          31000000000000,
          32000000000000,
          33000000000000,
          34000000000000,
          35000000000000,
          36000000000000,
          37000000000000,
          38000000000000,
          39000000000000,
          40000000000000
         ],
         "y": {
          "bdata": "NXfu6Fukj0BddTZIzqSPQIc+Yt/qpI9AVLEPn/akj0AqOi/M/KSPQJuTBr4ApY9Aqy365AGlj0DSKfULA6WPQB6I9zIEpY9Ayfpo7wSlj0CzTZ0mBaWPQFfk0V0FpY9Apr4GlQWlj0Aj4Uq4BaWPQJWuocIFpY9Acn74zAWlj0DHUE/XBaWPQEgi6t0FpY9Am+fZ3wWlj0AFrcnhBaWPQIdyueMFpY9APB/25AWlj0A361LlBaWPQDG3r+UFpY9AL4MM5gWlj0DXyEfmBaWPQEkmWeYFpY9AvoNq5gWlj0Av4XvmBaWPQG34huYFpY9A2TeK5gWlj0BGd43mBaWPQLC2kOYFpY9AqMmS5gWlj0AIZZPmBaWPQGkAlOYFpY9AyZuU5gWlj0AB/5TmBaWPQAkcleYFpY9ACTmV5gWlj0ANVpXmBaWPQA==",
          "dtype": "f8"
         }
        },
        {
         "line": {
          "color": "rgb(0, 45, 160)"
         },
         "mode": "lines",
         "name": "003",
         "opacity": 0.4,
         "type": "scatter",
         "x": [
          0,
          1000000000000,
          2000000000000,
          3000000000000,
          4000000000000,
          5000000000000,
          6000000000000,
          7000000000000,
          8000000000000,
          9000000000000,
          10000000000000,
          11000000000000,
          12000000000000,
          13000000000000,
          14000000000000,
          15000000000000,
          16000000000000,
          17000000000000,
          18000000000000,
          19000000000000,
          20000000000000,
          21000000000000,
          22000000000000,
          23000000000000,
          24000000000000,
          25000000000000,
          26000000000000,
          27000000000000,
          28000000000000,
          29000000000000,
          30000000000000,
          31000000000000,
          32000000000000,
          33000000000000,
          34000000000000,
          35000000000000,
          36000000000000,
          37000000000000,
          38000000000000,
          39000000000000,
          40000000000000
         ],
         "y": {
          "bdata": "4a7F5wpHkkAStonRVUeSQPjfjA98R5JAJfdaLGZIkkCrNBFH8FGSQIWxknasj5JAazrKu2gFk0C3+uYWYziTQHzZWxhKQZNASdKxD7RCk0C6cxWM1kKTQBKoaCzdQpNA4Sy9aNpCk0CKtN2a10KTQHDWxJ3WQpNA0KNTOtZCk0B9irkJ1kKTQM10QAbWQpNA22THAtZCk0CoWk7/1UKTQBxny/zVQpNAQuQi+9VCk0DSYXr51UKTQNXf0ffVQpNABK8399VCk0AgdI331UKTQEc54/fVQpNAeP44+NVCk0AR25r41UKTQHJzB/nVQpNA0wt0+dVCk0A4pOD51UKTQLbOZ/rVQpNAdY8G+9VCk0AzUKX71UKTQO8QRPzVQpNAwcT2/NVCk0AkLrv91UKTQImXf/7VQpNA7gBE/9VCk0CgeyAA1kKTQA==",
          "dtype": "f8"
         }
        },
        {
         "line": {
          "color": "rgb(0, 60, 170)"
         },
         "mode": "lines",
         "name": "004",
         "opacity": 0.4,
         "type": "scatter",
         "x": [
          0,
          1000000000000,
          2000000000000,
          3000000000000,
          4000000000000,
          5000000000000,
          6000000000000,
          7000000000000,
          8000000000000,
          9000000000000,
          10000000000000,
          11000000000000,
          12000000000000,
          13000000000000,
          14000000000000,
          15000000000000,
          16000000000000,
          17000000000000,
          18000000000000,
          19000000000000,
          20000000000000,
          21000000000000,
          22000000000000,
          23000000000000,
          24000000000000,
          25000000000000,
          26000000000000,
          27000000000000,
          28000000000000,
          29000000000000,
          30000000000000,
          31000000000000,
          32000000000000,
          33000000000000,
          34000000000000,
          35000000000000,
          36000000000000,
          37000000000000,
          38000000000000,
          39000000000000,
          40000000000000
         ],
         "y": {
          "bdata": "9vm7EWABjkA3VQ8VxAGOQLMPhFLeAY5AgXPUp+oBjkDyCShL7wGOQIx++u7zAY5AFH6NSPUBjkCtrfsv9gGOQLe6bhf3AY5AH6Xm/vcBjkC6V9c4+AGOQKh0RFv4AY5A2a2xffgBjkBNAx+g+AGOQFdtMKX4AY5AMW5HpvgBjkAVb16n+AGOQPxvdaj4AY5AQs7Aq/gBjkBmpViv+AGOQOB88LL4AY5Ao1SItvgBjkDp1Q+3+AGOQDIQLbf4AY5AdkpKt/gBjkC2hGe3+AGOQPFdvrf4AY5A6gUduPgBjkDmrXu4+AGOQONV2rj4AY5ArA3puPgBjkCb8Oy4+AGOQIbT8Lj4AY5AdLb0uPgBjkC6Tf24+AGOQDSIBrn4AY5Aq8IPufgBjkAl/Ri5+AGOQAHNGrn4AY5AmZsbufgBjkAzahy5+AGOQA==",
          "dtype": "f8"
         }
        },
        {
         "line": {
          "color": "rgb(1, 109, 191)"
         },
         "mode": "lines",
         "name": "005",
         "opacity": 0.4,
         "type": "scatter",
         "x": [
          0,
          1000000000000,
          2000000000000,
          3000000000000,
          4000000000000,
          5000000000000,
          6000000000000,
          7000000000000,
          8000000000000,
          9000000000000,
          10000000000000,
          11000000000000,
          12000000000000,
          13000000000000,
          14000000000000,
          15000000000000,
          16000000000000,
          17000000000000,
          18000000000000,
          19000000000000,
          20000000000000,
          21000000000000,
          22000000000000,
          23000000000000,
          24000000000000,
          25000000000000,
          26000000000000,
          27000000000000,
          28000000000000,
          29000000000000,
          30000000000000,
          31000000000000,
          32000000000000,
          33000000000000,
          34000000000000,
          35000000000000,
          36000000000000,
          37000000000000,
          38000000000000,
          39000000000000,
          40000000000000
         ],
         "y": {
          "bdata": "HqnmPCvIl0AyjEU4BjKZQGKxpwAqnppA1a5092mGmkA4tkDCOICaQOU6uVHLc5pAC5SBw9ZOmkAUcFH+XkOcQGjaYW1ZPpxAPGNg3uk8nEBAhcvFwDycQLQyZni/PJxAd6Suc788nED4N+ozvzycQLtvOy6/PJxA4qSqL788nEBI1xsxvzycQMi8WTO/PJxAgfS4Nb88nEDhRxg4vzycQO62dzq/PJxAhvOkO788nEA5N6A8vzycQOl8mz2/PJxAlMSWPr88nEBehfs+vzycQHi1Rz+/PJxAveWTP788nEAgFuA/vzycQGfm+j+/PJxA4KcNQL88nEBgaSBAvzycQN8qM0C/PJxAHUs5QL88nECyWz1AvzycQExsQUC/PJxA53xFQL88nECFuEZAvzycQNJ9R0C/PJxAI0NIQL88nEByCElAvzycQA==",
          "dtype": "f8"
         }
        },
        {
         "line": {
          "color": "rgb(2, 157, 212)"
         },
         "mode": "lines",
         "name": "006",
         "opacity": 0.4,
         "type": "scatter",
         "x": [
          0,
          1000000000000,
          2000000000000,
          3000000000000,
          4000000000000,
          5000000000000,
          6000000000000,
          7000000000000,
          8000000000000,
          9000000000000,
          10000000000000,
          11000000000000,
          12000000000000,
          13000000000000,
          14000000000000,
          15000000000000,
          16000000000000,
          17000000000000,
          18000000000000,
          19000000000000,
          20000000000000,
          21000000000000,
          22000000000000,
          23000000000000,
          24000000000000,
          25000000000000,
          26000000000000,
          27000000000000,
          28000000000000,
          29000000000000,
          30000000000000,
          31000000000000,
          32000000000000,
          33000000000000,
          34000000000000,
          35000000000000,
          36000000000000,
          37000000000000,
          38000000000000,
          39000000000000,
          40000000000000
         ],
         "y": {
          "bdata": "OPb0mZrgjUDi5NdH/eCNQARwNJQX4Y1A6KQa3SPhjUDcsVOsKOGNQDECFnwt4Y1A8hzoui7hjUAiqpuqL+GNQIN6VJow4Y1AGo4SijHhjUAVV+m9MeGNQHBtd+Ex4Y1AW6IFBTLhjUDU9ZMoMuGNQN5JcCwy4Y1AonaNLTLhjUBvo6ouMuGNQEHQxy8y4Y1AXIpIMzLhjUDWQ/42MuGNQKX9szoy4Y1Ax7dpPjLhjUAcPtE+MuGNQL1v7z4y4Y1AXqENPzLhjUAE0ys/MuGNQG34hz8y4Y1ANHzpPzLhjUAAAEtAMuGNQM2DrEAy4Y1A7B64QDLhjUAzSLxAMuGNQHFxwEAy4Y1AuJrEQDLhjUA0mc1AMuGNQO8C10Ay4Y1AomzgQDLhjUBX1ulAMuGNQCts60Ay4Y1AWlTsQDLhjUCDPO1AMuGNQA==",
          "dtype": "f8"
         }
        },
        {
         "line": {
          "color": "rgb(4, 206, 234)"
         },
         "mode": "lines",
         "name": "007",
         "opacity": 0.4,
         "type": "scatter",
         "x": [
          0,
          1000000000000,
          2000000000000,
          3000000000000,
          4000000000000,
          5000000000000,
          6000000000000,
          7000000000000,
          8000000000000,
          9000000000000,
          10000000000000,
          11000000000000,
          12000000000000,
          13000000000000,
          14000000000000,
          15000000000000,
          16000000000000,
          17000000000000,
          18000000000000,
          19000000000000,
          20000000000000,
          21000000000000,
          22000000000000,
          23000000000000,
          24000000000000,
          25000000000000,
          26000000000000,
          27000000000000,
          28000000000000,
          29000000000000,
          30000000000000,
          31000000000000,
          32000000000000,
          33000000000000,
          34000000000000,
          35000000000000,
          36000000000000,
          37000000000000,
          38000000000000,
          39000000000000,
          40000000000000
         ],
         "y": {
          "bdata": "BfGDN1hdnUBQ1HCr3CSgQBp/TFLEGKBAUB87i04XoEBHS82n+RagQBry2ubiFqBAzL9Aed0WoEBTRj7t3BagQLe5Bm3cFqBAZmft8tsWoECY9+rX2xagQDCE8M7bFqBA5qZ+z9sWoEBPNw/Q2xagQImlYtLbFqBAHMf23NsWoEBXT5bn2xagQDc+QfLbFqBAQWvr+9sWoEBICrAA3BagQHeCdQXcFqBAz9M7CtwWoEAocBgO3BagQMZuqA3cFqBAXoQ4DdwWoED4sMgM3BagQBdFSAzcFqBAdJZ5C9wWoECI8qoK3BagQFpZ3AncFqBAjpUWCdwWoEBGHHoI3BagQFKl3QfcFqBAsjBBB9wWoEAqxLsG3BagQMdqogbcFqBAPxKJBtwWoECRum8G3BagQI57XwbcFqBA8et5BtwWoECjXJQG3BagQA==",
          "dtype": "f8"
         }
        },
        {
         "line": {
          "color": "rgb(5, 255, 255)"
         },
         "mode": "lines",
         "name": "008",
         "opacity": 0.4,
         "type": "scatter",
         "x": [
          0,
          1000000000000,
          2000000000000,
          3000000000000,
          4000000000000,
          5000000000000,
          6000000000000,
          7000000000000,
          8000000000000,
          9000000000000,
          10000000000000,
          11000000000000,
          12000000000000,
          13000000000000,
          14000000000000,
          15000000000000,
          16000000000000,
          17000000000000,
          18000000000000,
          19000000000000,
          20000000000000,
          21000000000000,
          22000000000000,
          23000000000000,
          24000000000000,
          25000000000000,
          26000000000000,
          27000000000000,
          28000000000000,
          29000000000000,
          30000000000000,
          31000000000000,
          32000000000000,
          33000000000000,
          34000000000000,
          35000000000000,
          36000000000000,
          37000000000000,
          38000000000000,
          39000000000000,
          40000000000000
         ],
         "y": {
          "bdata": "ftZIjyFFnUBAeJLIjBSgQCg1XmqsB6BAhaTiTP4FoEDXvLS8mQWgQE5NX3R8BaBAQgji7XQFoECKajyGdAWgQG3zOoBzBaBA61IELnMFoECFX3v0cgWgQPUScONyBaBASE6S0nIFoECcDhXCcgWgQLuRpMZyBaBA9Nw5y3IFoEBD8NTPcgWgQFQGd9RyBaBAsAWe2XIFoEB6hMbecgWgQLCC8ONyBaBAatoQ6XIFoEC0Vp3pcgWgQJbcKepyBaBAC2y26nIFoECsxkDrcgWgQMUj3+pyBaBAXoZ96nIFoEB17hvqcgWgQCf/uelyBaBAQOgx6XIFoEAv06nocgWgQPG/IehyBaBA+TKa53IFoEA6EknncgWgQEPy9+ZyBaBAFNOm5nIFoEBBYFbmcgWgQO1tTOZyBaBA0ntC5nIFoEDriTjmcgWgQA==",
          "dtype": "f8"
         }
        },
        {
         "line": {
          "color": "rgb(67, 255, 191)"
         },
         "mode": "lines",
         "name": "009",
         "opacity": 0.4,
         "type": "scatter",
         "x": [
          0,
          1000000000000,
          2000000000000,
          3000000000000,
          4000000000000,
          5000000000000,
          6000000000000,
          7000000000000,
          8000000000000,
          9000000000000,
          10000000000000,
          11000000000000,
          12000000000000,
          13000000000000,
          14000000000000,
          15000000000000,
          16000000000000,
          17000000000000,
          18000000000000,
          19000000000000,
          20000000000000,
          21000000000000,
          22000000000000,
          23000000000000,
          24000000000000,
          25000000000000,
          26000000000000,
          27000000000000,
          28000000000000,
          29000000000000,
          30000000000000,
          31000000000000,
          32000000000000,
          33000000000000,
          34000000000000,
          35000000000000,
          36000000000000,
          37000000000000,
          38000000000000,
          39000000000000,
          40000000000000
         ],
         "y": {
          "bdata": "s0hqcYvdmECQ4B7tB5yaQLTJQdHeqZpANjIsS2SkmkC4xs4naKKaQBn+jqPXoZpAepQE3dShmkA7wpoR06GaQFb1lK7JoZpA2LKV9MehmkBRI85MyaGaQODtclHEoZpAwFPV1b+hmkC6OVSbvqGaQJ/ex2G/oZpAB+GehcChmkCg9Pn/wKGaQG1KiBDBoZpAhcbQoMChmkA53X65wKGaQNl00ubAoZpA2nlFF8GhmkDfDSsjwaGaQMwqqRrBoZpAGiozEsGhmkC1Ol/4wKGaQIq8wcjAoZpA36ItmcChmkCv7aJpwKGaQGfEyU7AoZpAqUXYTcChmkD7pOdMwKGaQFji90vAoZpAYLaZS8ChmkDyNPFLwKGaQDq8SEzAoZpAOUygTMChmkCmBsxMwKGaQLPLwEzAoZpAXJe1TMChmkCjaapMwKGaQA==",
          "dtype": "f8"
         }
        },
        {
         "line": {
          "color": "rgb(130, 255, 128)"
         },
         "mode": "lines",
         "name": "010",
         "opacity": 0.4,
         "type": "scatter",
         "x": [
          0,
          1000000000000,
          2000000000000,
          3000000000000,
          4000000000000,
          5000000000000,
          6000000000000,
          7000000000000,
          8000000000000,
          9000000000000,
          10000000000000,
          11000000000000,
          12000000000000,
          13000000000000,
          14000000000000,
          15000000000000,
          16000000000000,
          17000000000000,
          18000000000000,
          19000000000000,
          20000000000000,
          21000000000000,
          22000000000000,
          23000000000000,
          24000000000000,
          25000000000000,
          26000000000000,
          27000000000000,
          28000000000000,
          29000000000000,
          30000000000000,
          31000000000000,
          32000000000000,
          33000000000000,
          34000000000000,
          35000000000000,
          36000000000000,
          37000000000000,
          38000000000000,
          39000000000000,
          40000000000000
         ],
         "y": {
          "bdata": "BqXVRM5uk0BIzVq/LW+TQMQI64MGdpNAYFTP/rltlEDBACS8eVqVQMKeVLLNaZVA7Z+R5wNqlUBiTji+E2qVQKqIdtopapVA9mPbkjZqlUAgC5HlO2qVQB5EP1E8apVAZX9abjtqlUAAv4eLOmqVQO4Cx6g5apVAiOCzETlqlUDsgO3hOGqVQDS/J7I4apVAXJtigjhqlUD/JhtlOGqVQO4cFWE4apVAuRcPXThqlUBiFwlZOGqVQCa+c1g4apVAeFGRXDhqlUDo5K5gOGqVQHp4zGQ4apVABNP+aDhqlUAIj01tOGqVQB9LnHE4apVARwfrdThqlUA0cgJ7OGqVQHb9K4E4apVA14hVhzhqlUBRFH+NOGqVQAkTCJQ4apVAenMTmzhqlUAS1B6iOGqVQMs0Kqk4apVAwZSmsDhqlUBfTr24OGqVQA==",
          "dtype": "f8"
         }
        },
        {
         "line": {
          "color": "rgb(192, 255, 64)"
         },
         "mode": "lines",
         "name": "011",
         "opacity": 0.4,
         "type": "scatter",
         "x": [
          0,
          1000000000000,
          2000000000000,
          3000000000000,
          4000000000000,
          5000000000000,
          6000000000000,
          7000000000000,
          8000000000000,
          9000000000000,
          10000000000000,
          11000000000000,
          12000000000000,
          13000000000000,
          14000000000000,
          15000000000000,
          16000000000000,
          17000000000000,
          18000000000000,
          19000000000000,
          20000000000000,
          21000000000000,
          22000000000000,
          23000000000000,
          24000000000000,
          25000000000000,
          26000000000000,
          27000000000000,
          28000000000000,
          29000000000000,
          30000000000000,
          31000000000000,
          32000000000000,
          33000000000000,
          34000000000000,
          35000000000000,
          36000000000000,
          37000000000000,
          38000000000000,
          39000000000000,
          40000000000000
         ],
         "y": {
          "bdata": "abWOiWW+kEBrWogFpL6QQMMFjb60vpBAJk2yjLu+kEDRBGdwv76QQN55r/vBvpBACI+CtcK+kEBOAIZvw76QQLLNuSnEvpBAel2vo8S+kEAYbt3GxL6QQIh3F+rEvpBAx3ldDcW+kECgXogkxb6QQBSlVivFvpBAfSIoMsW+kEDX1vw4xb6QQBePgT3FvpBAO2HlPsW+kEDeEkpAxb6QQP2jr0HFvpBAIxmgQsW+kECv6fFCxb6QQA/3Q0PFvpBAQEGWQ8W+kEAxxc9Dxb6QQMyt50PFvpBA76b/Q8W+kECesBdExb6QQARWKUTFvpBAEE8yRMW+kECZTDtExb6QQKNORETFvpBA8TRLRMW+kECtP09Exb6QQKJLU0TFvpBA01hXRMW+kEAthlpExb6QQLiEXETFvpBAmYNeRMW+kEDMgmBExb6QQA==",
          "dtype": "f8"
         }
        },
        {
         "line": {
          "color": "rgb(255, 255, 0)"
         },
         "mode": "lines",
         "name": "012",
         "opacity": 0.4,
         "type": "scatter",
         "x": [
          0,
          1000000000000,
          2000000000000,
          3000000000000,
          4000000000000,
          5000000000000,
          6000000000000,
          7000000000000,
          8000000000000,
          9000000000000,
          10000000000000,
          11000000000000,
          12000000000000,
          13000000000000,
          14000000000000,
          15000000000000,
          16000000000000,
          17000000000000,
          18000000000000,
          19000000000000,
          20000000000000,
          21000000000000,
          22000000000000,
          23000000000000,
          24000000000000,
          25000000000000,
          26000000000000,
          27000000000000,
          28000000000000,
          29000000000000,
          30000000000000,
          31000000000000,
          32000000000000,
          33000000000000,
          34000000000000,
          35000000000000,
          36000000000000,
          37000000000000,
          38000000000000,
          39000000000000,
          40000000000000
         ],
         "y": {
          "bdata": "PmoTxec9m0AjN7OWoLOdQGLhRQU7VKBA7r8aIsxNoEBj78gB6E+gQMascb2XUaBAaVWOLqFSoECaratNZlOgQHKeGtD2U6BAvbg6N25UoEAfQZvFtFSgQD2tV63tVKBAXqah3PJUoEDyvkZZCFWgQGBYhpsLVaBAPeD64iNVoEDT4/GkNVWgQLaoGFRKVaBA3r21IlVVoECYv998XVWgQG0ppdhdVaBANhByZWBVoEB6U92FYFWgQC+/HbdiVaBAy1gDjWRVoEAr/cqkZlWgQCjA6StoVaBAvJR9yGhVoECAsMcFaVWgQOADRv1pVaBANXVAg2pVoEB1Oup4alWgQIlMW2tqVaBAoKdJvWpVoEBUOIXtalWgQBxrOvRqVaBA/5vNBWtVoEDhXX0pa1WgQKa+aURrVaBAAnSuVGtVoEAb09Jpa1WgQA==",
          "dtype": "f8"
         }
        },
        {
         "line": {
          "color": "rgb(254, 191, 0)"
         },
         "mode": "lines",
         "name": "013",
         "opacity": 0.4,
         "type": "scatter",
         "x": [
          0,
          1000000000000,
          2000000000000,
          3000000000000,
          4000000000000,
          5000000000000,
          6000000000000,
          7000000000000,
          8000000000000,
          9000000000000,
          10000000000000,
          11000000000000,
          12000000000000,
          13000000000000,
          14000000000000,
          15000000000000,
          16000000000000,
          17000000000000,
          18000000000000,
          19000000000000,
          20000000000000,
          21000000000000,
          22000000000000,
          23000000000000,
          24000000000000,
          25000000000000,
          26000000000000,
          27000000000000,
          28000000000000,
          29000000000000,
          30000000000000,
          31000000000000,
          32000000000000,
          33000000000000,
          34000000000000,
          35000000000000,
          36000000000000,
          37000000000000,
          38000000000000,
          39000000000000,
          40000000000000
         ],
         "y": {
          "bdata": "jTJe/cdVkEAIxFxOA1aQQDmKxioTVpBATtfX5hlWkEDjaEZeHVaQQI5SWgAgVpBALNaEpSBWkEAqCrdKIVaQQIju8O8hVpBAn4VybSJWkEDA51yMIlaQQGLeR6siVpBAhWkzyiJWkEDDM7DhIlaQQCtoe+ciVpBAg6tG7SJWkEDQ/RHzIlaQQKZ5ePciVpBATJeN+CJWkECmtqL5IlaQQLjXt/oiVpBAe0SK+yJWkEA97b37IlaQQDOW8fsiVpBAZT8l/CJWkEC1dUz8IlaQQCELVvwiVpBAlqBf/CJWkEAMNmn8IlaQQCZ7cPwiVpBAYz5y/CJWkEChAXT8IlaQQN/EdfwiVpBAyhp3/CJWkECBbHf8IlaQQDq+d/wiVpBA8Q94/CJWkEDATXj8IlaQQCFcePwiVpBAhGp4/CJWkEDjeHj8IlaQQA==",
          "dtype": "f8"
         }
        },
        {
         "line": {
          "color": "rgb(252, 128, 0)"
         },
         "mode": "lines",
         "name": "014",
         "opacity": 0.4,
         "type": "scatter",
         "x": [
          0,
          1000000000000,
          2000000000000,
          3000000000000,
          4000000000000,
          5000000000000,
          6000000000000,
          7000000000000,
          8000000000000,
          9000000000000,
          10000000000000,
          11000000000000,
          12000000000000,
          13000000000000,
          14000000000000,
          15000000000000,
          16000000000000,
          17000000000000,
          18000000000000,
          19000000000000,
          20000000000000,
          21000000000000,
          22000000000000,
          23000000000000,
          24000000000000,
          25000000000000,
          26000000000000,
          27000000000000,
          28000000000000,
          29000000000000,
          30000000000000,
          31000000000000,
          32000000000000,
          33000000000000,
          34000000000000,
          35000000000000,
          36000000000000,
          37000000000000,
          38000000000000,
          39000000000000,
          40000000000000
         ],
         "y": {
          "bdata": "b3iElMbvjkAE6mrkMfCOQCv9AkBO8I5AIMBu41jwjkCEemEBYPCOQBFZWmpj8I5A/u57vGTwjkA3ZacOZvCOQLW73GBn8I5AdiwcA2jwjkAyyj5CaPCOQNjAYYFo8I5AZxCFwGjwjkDdFtLeaPCOQECroOpo8I5Ay0Jv9mjwjkB53T0CafCOQAxy6Adp8I5AFq0dCmnwjkA+6FIMafCOQH4jiA5p8I5AjWeXD2nwjkC0HAEQafCOQOHRahBp8I5AEYfUEGnwjkCpQQcRafCOQKYFGxFp8I5AqskuEWnwjkCqjUIRafCOQMQJTBFp8I5AobtPEWnwjkCAbVMRafCOQF8fVxFp8I5ANeVYEWnwjkDvlVkRafCOQKtGWhFp8I5AbPdaEWnwjkAxTFsRafCOQDZtWxFp8I5ANY5bEWnwjkA4r1sRafCOQA==",
          "dtype": "f8"
         }
        },
        {
         "line": {
          "color": "rgb(251, 64, 0)"
         },
         "mode": "lines",
         "name": "015",
         "opacity": 0.4,
         "type": "scatter",
         "x": [
          0,
          1000000000000,
          2000000000000,
          3000000000000,
          4000000000000,
          5000000000000,
          6000000000000,
          7000000000000,
          8000000000000,
          9000000000000,
          10000000000000,
          11000000000000,
          12000000000000,
          13000000000000,
          14000000000000,
          15000000000000,
          16000000000000,
          17000000000000,
          18000000000000,
          19000000000000,
          20000000000000,
          21000000000000,
          22000000000000,
          23000000000000,
          24000000000000,
          25000000000000,
          26000000000000,
          27000000000000,
          28000000000000,
          29000000000000,
          30000000000000,
          31000000000000,
          32000000000000,
          33000000000000,
          34000000000000,
          35000000000000,
          36000000000000,
          37000000000000,
          38000000000000,
          39000000000000,
          40000000000000
         ],
         "y": {
          "bdata": "9+SVd+07nEDTm+2GA5ieQJ4va0sYdp5AAIZYiyVwnkDhqmbdXW+eQKr/xBHmbp5AZApRL71unkAKjUbLsm6eQFRNlTKpbp5ARLqWtqhunkDd8ymXq26eQEo6DXatbp5AM12RJq1unkDLKCKPrG6eQB5fjwysbp5Auo35sqtunkAR5nJkq26eQC9bh0urbp5AVEUpR6tunkCUBtRCq26eQOuehz6rbp5AeawLRqtunkDtMGBSq26eQCy+wF6rbp5ASFQta6tunkA9vJpyq26eQJ8XAHirbp5A35VmfatunkD5Ns6Cq26eQCWJOoWrbp5AAJVxhqtunkA1sKiHq26eQMja34irbp5A3xxGiKtunkCANPCGq26eQDthmoWrbp5ADKNEhKtunkCsKZ2Cq26eQACn1ICrbp5AnjoMf6tunkCA5EN9q26eQA==",
          "dtype": "f8"
         }
        },
        {
         "line": {
          "color": "rgb(250, 0, 0)"
         },
         "mode": "lines",
         "name": "016",
         "opacity": 0.4,
         "type": "scatter",
         "x": [
          0,
          1000000000000,
          2000000000000,
          3000000000000,
          4000000000000,
          5000000000000,
          6000000000000,
          7000000000000,
          8000000000000,
          9000000000000,
          10000000000000,
          11000000000000,
          12000000000000,
          13000000000000,
          14000000000000,
          15000000000000,
          16000000000000,
          17000000000000,
          18000000000000,
          19000000000000,
          20000000000000,
          21000000000000,
          22000000000000,
          23000000000000,
          24000000000000,
          25000000000000,
          26000000000000,
          27000000000000,
          28000000000000,
          29000000000000,
          30000000000000,
          31000000000000,
          32000000000000,
          33000000000000,
          34000000000000,
          35000000000000,
          36000000000000,
          37000000000000,
          38000000000000,
          39000000000000,
          40000000000000
         ],
         "y": {
          "bdata": "0nKMthlcj0AoTTbokVyPQDLh0nyxXI9Aw6+JhLlcj0DIHdL7vFyPQKncJEO+XI9AATdWcr9cj0ArUqqvv1yPQAbB/uy/XI9AoINTKsBcj0BCcCFjwFyPQCSCnW7AXI9A/ZYZesBcj0DQrpWFwFyPQGu3OJDAXI9AfhlfksBcj0Cte4WUwFyPQPvdq5bAXI9AEJ2pmMBcj0C/nRCZwFyPQGied5nAXI9AFp/emcBcj0CdBD6awFyPQEJJUZrAXI9A7o1kmsBcj0CW0neawFyPQPiqiZrAXI9AR0WNmsBcj0Cc35CawFyPQPB5lJrAXI9AINCXmsBcj0B7fJiawFyPQM8omZrAXI9AKtWZmsBcj0DGdJqawFyPQPSUmprAXI9AJLWamsBcj0BO1ZqawFyPQB7zmprAXI9AHPmamsBcj0Ad/5qawFyPQA==",
          "dtype": "f8"
         }
        },
        {
         "line": {
          "color": "rgb(220, 0, 0)"
         },
         "mode": "lines",
         "name": "017",
         "opacity": 0.4,
         "type": "scatter",
         "x": [
          0,
          1000000000000,
          2000000000000,
          3000000000000,
          4000000000000,
          5000000000000,
          6000000000000,
          7000000000000,
          8000000000000,
          9000000000000,
          10000000000000,
          11000000000000,
          12000000000000,
          13000000000000,
          14000000000000,
          15000000000000,
          16000000000000,
          17000000000000,
          18000000000000,
          19000000000000,
          20000000000000,
          21000000000000,
          22000000000000,
          23000000000000,
          24000000000000,
          25000000000000,
          26000000000000,
          27000000000000,
          28000000000000,
          29000000000000,
          30000000000000,
          31000000000000,
          32000000000000,
          33000000000000,
          34000000000000,
          35000000000000,
          36000000000000,
          37000000000000,
          38000000000000,
          39000000000000,
          40000000000000
         ],
         "y": {
          "bdata": "wg6mXBYHmECqMlQST7SYQB3AVE55q5pA5awIeid7nEAEb6Zd8HacQBwQDVXMdpxAechh5QV3nEB/Dt27GHecQGQRaHgbd5xA3dIqTxp3nEAThTM2GXecQPcjO/EYd5xATCLNsBh3nEB8MA2ZGHecQM7IToEYd5xAQOuRaRh3nECwVWNWGHecQLwNeVMYd5xAr9aOUBh3nECCsKRNGHecQEjUWUsYd5xAqi1ISxh3nECUhzZLGHecQAHiJEsYd5xASk4ESxh3nEDSWa5KGHecQGxlWEoYd5xAFXECShh3nEBUtb1JGHecQO6ItkkYd5xAh1yvSRh3nEAiMKhJGHecQAM3oUkYd5xAOfWaSRh3nEBts5RJGHecQKBxjkkYd5xA/XOJSRh3nEAq/YhJGHecQFSGiEkYd5xAgA+ISRh3nEBZqYdJGHecQA==",
          "dtype": "f8"
         }
        },
        {
         "line": {
          "color": "rgb(189, 0, 0)"
         },
         "mode": "lines",
         "name": "018",
         "opacity": 0.4,
         "type": "scatter",
         "x": [
          0,
          1000000000000,
          2000000000000,
          3000000000000,
          4000000000000,
          5000000000000,
          6000000000000,
          7000000000000,
          8000000000000,
          9000000000000,
          10000000000000,
          11000000000000,
          12000000000000,
          13000000000000,
          14000000000000,
          15000000000000,
          16000000000000,
          17000000000000,
          18000000000000,
          19000000000000,
          20000000000000,
          21000000000000,
          22000000000000,
          23000000000000,
          24000000000000,
          25000000000000,
          26000000000000,
          27000000000000,
          28000000000000,
          29000000000000,
          30000000000000,
          31000000000000,
          32000000000000,
          33000000000000,
          34000000000000,
          35000000000000,
          36000000000000,
          37000000000000,
          38000000000000,
          39000000000000,
          40000000000000
         ],
         "y": {
          "bdata": "TkGdZehAlEBXEGovaUGUQCacRJCSfpRAk0fvX5sXlkDSUm7GIaKWQGBQj0pOpZZAk8SFXyullkD3iGaqUqWWQHIcbo9rpZZARwWFWnGllkCoPrRtc6WWQLTrc99zpZZA8pla3HOllkCHBWrZc6WWQM5pYddzpZZAtEtZ1XOllkApq1HTc6WWQCx5DtJzpZZAuIok1nOllkDrojrac6WWQL7BUN5zpZZA1wPw4nOllkDuR03rc6WWQFmMqvNzpZZAFtEH/HOllkDbJVAEdKWWQKwuBgx0pZZAtje8E3SllkD3QHIbdKWWQG77XCN0pZZAMt23LHSllkAovxI2dKWWQFOhbT90pZZArAXBSHSllkAvEeBRdKWWQOMc/1p0pZZAyygeZHSllkDQbFZtdKWWQEvkPnd0pZZAAFwngXSllkDt0w+LdKWWQA==",
          "dtype": "f8"
         }
        },
        {
         "line": {
          "color": "rgb(159, 0, 0)"
         },
         "mode": "lines",
         "name": "019",
         "opacity": 0.4,
         "type": "scatter",
         "x": [
          0,
          1000000000000,
          2000000000000,
          3000000000000,
          4000000000000,
          5000000000000,
          6000000000000,
          7000000000000,
          8000000000000,
          9000000000000,
          10000000000000,
          11000000000000,
          12000000000000,
          13000000000000,
          14000000000000,
          15000000000000,
          16000000000000,
          17000000000000,
          18000000000000,
          19000000000000,
          20000000000000,
          21000000000000,
          22000000000000,
          23000000000000,
          24000000000000,
          25000000000000,
          26000000000000,
          27000000000000,
          28000000000000,
          29000000000000,
          30000000000000,
          31000000000000,
          32000000000000,
          33000000000000,
          34000000000000,
          35000000000000,
          36000000000000,
          37000000000000,
          38000000000000,
          39000000000000,
          40000000000000
         ],
         "y": {
          "bdata": "gu+rvzcclECdrdwekRyUQPeN2IUGHZRAc3yVlStAlEAAM1gNKFuVQOOLTN1Ku5VAqWVP1XjBlUBAwMUF3MGVQDDJ0wIcwpVAs6dICETClUA8ygIBVsKVQP4bQwhYwpVAZaVQXVXClUBRmQwDU8KVQKGQPPpQwpVAJUmi00/ClUAyXgufTsKVQJ9qPO5NwpVAF78RJk3ClUCOZNCBTMKVQHDieDZMwpVAbFLNC0zClUA04ZniS8KVQPI/kMRLwpVAWlgeskvClUB2pNGqS8KVQC57Rr5LwpVA2nAa00vClUCvXvnnS8KVQKRE4/xLwpVAzGtRAkzClUCNOMUGTMKVQFZsOwtMwpVAKQe0D0zClUAZOn4RTMKVQJMiHRNMwpVAqYq8FEzClUBaclwWTMKVQDfnGxdMwpVAuCbNF0zClUCEf34YTMKVQA==",
          "dtype": "f8"
         }
        }
       ],
       "layout": {
        "showlegend": false,
        "template": {
         "data": {
          "bar": [
           {
            "error_x": {
             "color": "#2a3f5f"
            },
            "error_y": {
             "color": "#2a3f5f"
            },
            "marker": {
             "line": {
              "color": "#E5ECF6",
              "width": 0.5
             },
             "pattern": {
              "fillmode": "overlay",
              "size": 10,
              "solidity": 0.2
             }
            },
            "type": "bar"
           }
          ],
          "barpolar": [
           {
            "marker": {
             "line": {
              "color": "#E5ECF6",
              "width": 0.5
             },
             "pattern": {
              "fillmode": "overlay",
              "size": 10,
              "solidity": 0.2
             }
            },
            "type": "barpolar"
           }
          ],
          "carpet": [
           {
            "aaxis": {
             "endlinecolor": "#2a3f5f",
             "gridcolor": "white",
             "linecolor": "white",
             "minorgridcolor": "white",
             "startlinecolor": "#2a3f5f"
            },
            "baxis": {
             "endlinecolor": "#2a3f5f",
             "gridcolor": "white",
             "linecolor": "white",
             "minorgridcolor": "white",
             "startlinecolor": "#2a3f5f"
            },
            "type": "carpet"
           }
          ],
          "choropleth": [
           {
            "colorbar": {
             "outlinewidth": 0,
             "ticks": ""
            },
            "type": "choropleth"
           }
          ],
          "contour": [
           {
            "colorbar": {
             "outlinewidth": 0,
             "ticks": ""
            },
            "colorscale": [
             [
              0,
              "#0d0887"
             ],
             [
              0.1111111111111111,
              "#46039f"
             ],
             [
              0.2222222222222222,
              "#7201a8"
             ],
             [
              0.3333333333333333,
              "#9c179e"
             ],
             [
              0.4444444444444444,
              "#bd3786"
             ],
             [
              0.5555555555555556,
              "#d8576b"
             ],
             [
              0.6666666666666666,
              "#ed7953"
             ],
             [
              0.7777777777777778,
              "#fb9f3a"
             ],
             [
              0.8888888888888888,
              "#fdca26"
             ],
             [
              1,
              "#f0f921"
             ]
            ],
            "type": "contour"
           }
          ],
          "contourcarpet": [
           {
            "colorbar": {
             "outlinewidth": 0,
             "ticks": ""
            },
            "type": "contourcarpet"
           }
          ],
          "heatmap": [
           {
            "colorbar": {
             "outlinewidth": 0,
             "ticks": ""
            },
            "colorscale": [
             [
              0,
              "#0d0887"
             ],
             [
              0.1111111111111111,
              "#46039f"
             ],
             [
              0.2222222222222222,
              "#7201a8"
             ],
             [
              0.3333333333333333,
              "#9c179e"
             ],
             [
              0.4444444444444444,
              "#bd3786"
             ],
             [
              0.5555555555555556,
              "#d8576b"
             ],
             [
              0.6666666666666666,
              "#ed7953"
             ],
             [
              0.7777777777777778,
              "#fb9f3a"
             ],
             [
              0.8888888888888888,
              "#fdca26"
             ],
             [
              1,
              "#f0f921"
             ]
            ],
            "type": "heatmap"
           }
          ],
          "histogram": [
           {
            "marker": {
             "pattern": {
              "fillmode": "overlay",
              "size": 10,
              "solidity": 0.2
             }
            },
            "type": "histogram"
           }
          ],
          "histogram2d": [
           {
            "colorbar": {
             "outlinewidth": 0,
             "ticks": ""
            },
            "colorscale": [
             [
              0,
              "#0d0887"
             ],
             [
              0.1111111111111111,
              "#46039f"
             ],
             [
              0.2222222222222222,
              "#7201a8"
             ],
             [
              0.3333333333333333,
              "#9c179e"
             ],
             [
              0.4444444444444444,
              "#bd3786"
             ],
             [
              0.5555555555555556,
              "#d8576b"
             ],
             [
              0.6666666666666666,
              "#ed7953"
             ],
             [
              0.7777777777777778,
              "#fb9f3a"
             ],
             [
              0.8888888888888888,
              "#fdca26"
             ],
             [
              1,
              "#f0f921"
             ]
            ],
            "type": "histogram2d"
           }
          ],
          "histogram2dcontour": [
           {
            "colorbar": {
             "outlinewidth": 0,
             "ticks": ""
            },
            "colorscale": [
             [
              0,
              "#0d0887"
             ],
             [
              0.1111111111111111,
              "#46039f"
             ],
             [
              0.2222222222222222,
              "#7201a8"
             ],
             [
              0.3333333333333333,
              "#9c179e"
             ],
             [
              0.4444444444444444,
              "#bd3786"
             ],
             [
              0.5555555555555556,
              "#d8576b"
             ],
             [
              0.6666666666666666,
              "#ed7953"
             ],
             [
              0.7777777777777778,
              "#fb9f3a"
             ],
             [
              0.8888888888888888,
              "#fdca26"
             ],
             [
              1,
              "#f0f921"
             ]
            ],
            "type": "histogram2dcontour"
           }
          ],
          "mesh3d": [
           {
            "colorbar": {
             "outlinewidth": 0,
             "ticks": ""
            },
            "type": "mesh3d"
           }
          ],
          "parcoords": [
           {
            "line": {
             "colorbar": {
              "outlinewidth": 0,
              "ticks": ""
             }
            },
            "type": "parcoords"
           }
          ],
          "pie": [
           {
            "automargin": true,
            "type": "pie"
           }
          ],
          "scatter": [
           {
            "fillpattern": {
             "fillmode": "overlay",
             "size": 10,
             "solidity": 0.2
            },
            "type": "scatter"
           }
          ],
          "scatter3d": [
           {
            "line": {
             "colorbar": {
              "outlinewidth": 0,
              "ticks": ""
             }
            },
            "marker": {
             "colorbar": {
              "outlinewidth": 0,
              "ticks": ""
             }
            },
            "type": "scatter3d"
           }
          ],
          "scattercarpet": [
           {
            "marker": {
             "colorbar": {
              "outlinewidth": 0,
              "ticks": ""
             }
            },
            "type": "scattercarpet"
           }
          ],
          "scattergeo": [
           {
            "marker": {
             "colorbar": {
              "outlinewidth": 0,
              "ticks": ""
             }
            },
            "type": "scattergeo"
           }
          ],
          "scattergl": [
           {
            "marker": {
             "colorbar": {
              "outlinewidth": 0,
              "ticks": ""
             }
            },
            "type": "scattergl"
           }
          ],
          "scattermap": [
           {
            "marker": {
             "colorbar": {
              "outlinewidth": 0,
              "ticks": ""
             }
            },
            "type": "scattermap"
           }
          ],
          "scattermapbox": [
           {
            "marker": {
             "colorbar": {
              "outlinewidth": 0,
              "ticks": ""
             }
            },
            "type": "scattermapbox"
           }
          ],
          "scatterpolar": [
           {
            "marker": {
             "colorbar": {
              "outlinewidth": 0,
              "ticks": ""
             }
            },
            "type": "scatterpolar"
           }
          ],
          "scatterpolargl": [
           {
            "marker": {
             "colorbar": {
              "outlinewidth": 0,
              "ticks": ""
             }
            },
            "type": "scatterpolargl"
           }
          ],
          "scatterternary": [
           {
            "marker": {
             "colorbar": {
              "outlinewidth": 0,
              "ticks": ""
             }
            },
            "type": "scatterternary"
           }
          ],
          "surface": [
           {
            "colorbar": {
             "outlinewidth": 0,
             "ticks": ""
            },
            "colorscale": [
             [
              0,
              "#0d0887"
             ],
             [
              0.1111111111111111,
              "#46039f"
             ],
             [
              0.2222222222222222,
              "#7201a8"
             ],
             [
              0.3333333333333333,
              "#9c179e"
             ],
             [
              0.4444444444444444,
              "#bd3786"
             ],
             [
              0.5555555555555556,
              "#d8576b"
             ],
             [
              0.6666666666666666,
              "#ed7953"
             ],
             [
              0.7777777777777778,
              "#fb9f3a"
             ],
             [
              0.8888888888888888,
              "#fdca26"
             ],
             [
              1,
              "#f0f921"
             ]
            ],
            "type": "surface"
           }
          ],
          "table": [
           {
            "cells": {
             "fill": {
              "color": "#EBF0F8"
             },
             "line": {
              "color": "white"
             }
            },
            "header": {
             "fill": {
              "color": "#C8D4E3"
             },
             "line": {
              "color": "white"
             }
            },
            "type": "table"
           }
          ]
         },
         "layout": {
          "annotationdefaults": {
           "arrowcolor": "#2a3f5f",
           "arrowhead": 0,
           "arrowwidth": 1
          },
          "autotypenumbers": "strict",
          "coloraxis": {
           "colorbar": {
            "outlinewidth": 0,
            "ticks": ""
           }
          },
          "colorscale": {
           "diverging": [
            [
             0,
             "#8e0152"
            ],
            [
             0.1,
             "#c51b7d"
            ],
            [
             0.2,
             "#de77ae"
            ],
            [
             0.3,
             "#f1b6da"
            ],
            [
             0.4,
             "#fde0ef"
            ],
            [
             0.5,
             "#f7f7f7"
            ],
            [
             0.6,
             "#e6f5d0"
            ],
            [
             0.7,
             "#b8e186"
            ],
            [
             0.8,
             "#7fbc41"
            ],
            [
             0.9,
             "#4d9221"
            ],
            [
             1,
             "#276419"
            ]
           ],
           "sequential": [
            [
             0,
             "#0d0887"
            ],
            [
             0.1111111111111111,
             "#46039f"
            ],
            [
             0.2222222222222222,
             "#7201a8"
            ],
            [
             0.3333333333333333,
             "#9c179e"
            ],
            [
             0.4444444444444444,
             "#bd3786"
            ],
            [
             0.5555555555555556,
             "#d8576b"
            ],
            [
             0.6666666666666666,
             "#ed7953"
            ],
            [
             0.7777777777777778,
             "#fb9f3a"
            ],
            [
             0.8888888888888888,
             "#fdca26"
            ],
            [
             1,
             "#f0f921"
            ]
           ],
           "sequentialminus": [
            [
             0,
             "#0d0887"
            ],
            [
             0.1111111111111111,
             "#46039f"
            ],
            [
             0.2222222222222222,
             "#7201a8"
            ],
            [
             0.3333333333333333,
             "#9c179e"
            ],
            [
             0.4444444444444444,
             "#bd3786"
            ],
            [
             0.5555555555555556,
             "#d8576b"
            ],
            [
             0.6666666666666666,
             "#ed7953"
            ],
            [
             0.7777777777777778,
             "#fb9f3a"
            ],
            [
             0.8888888888888888,
             "#fdca26"
            ],
            [
             1,
             "#f0f921"
            ]
           ]
          },
          "colorway": [
           "#636efa",
           "#EF553B",
           "#00cc96",
           "#ab63fa",
           "#FFA15A",
           "#19d3f3",
           "#FF6692",
           "#B6E880",
           "#FF97FF",
           "#FECB52"
          ],
          "font": {
           "color": "#2a3f5f"
          },
          "geo": {
           "bgcolor": "white",
           "lakecolor": "white",
           "landcolor": "#E5ECF6",
           "showlakes": true,
           "showland": true,
           "subunitcolor": "white"
          },
          "hoverlabel": {
           "align": "left"
          },
          "hovermode": "closest",
          "mapbox": {
           "style": "light"
          },
          "paper_bgcolor": "white",
          "plot_bgcolor": "#E5ECF6",
          "polar": {
           "angularaxis": {
            "gridcolor": "white",
            "linecolor": "white",
            "ticks": ""
           },
           "bgcolor": "#E5ECF6",
           "radialaxis": {
            "gridcolor": "white",
            "linecolor": "white",
            "ticks": ""
           }
          },
          "scene": {
           "xaxis": {
            "backgroundcolor": "#E5ECF6",
            "gridcolor": "white",
            "gridwidth": 2,
            "linecolor": "white",
            "showbackground": true,
            "ticks": "",
            "zerolinecolor": "white"
           },
           "yaxis": {
            "backgroundcolor": "#E5ECF6",
            "gridcolor": "white",
            "gridwidth": 2,
            "linecolor": "white",
            "showbackground": true,
            "ticks": "",
            "zerolinecolor": "white"
           },
           "zaxis": {
            "backgroundcolor": "#E5ECF6",
            "gridcolor": "white",
            "gridwidth": 2,
            "linecolor": "white",
            "showbackground": true,
            "ticks": "",
            "zerolinecolor": "white"
           }
          },
          "shapedefaults": {
           "line": {
            "color": "#2a3f5f"
           }
          },
          "ternary": {
           "aaxis": {
            "gridcolor": "white",
            "linecolor": "white",
            "ticks": ""
           },
           "baxis": {
            "gridcolor": "white",
            "linecolor": "white",
            "ticks": ""
           },
           "bgcolor": "#E5ECF6",
           "caxis": {
            "gridcolor": "white",
            "linecolor": "white",
            "ticks": ""
           }
          },
          "title": {
           "x": 0.05
          },
          "xaxis": {
           "automargin": true,
           "gridcolor": "white",
           "linecolor": "white",
           "ticks": "",
           "title": {
            "standoff": 15
           },
           "zerolinecolor": "white",
           "zerolinewidth": 2
          },
          "yaxis": {
           "automargin": true,
           "gridcolor": "white",
           "linecolor": "white",
           "ticks": "",
           "title": {
            "standoff": 15
           },
           "zerolinecolor": "white",
           "zerolinewidth": 2
          }
         }
        },
        "title": {
         "text": "Entropy generation - Test Snapshots - Parameter Space 01"
        },
        "xaxis": {
         "tickformat": ".2e",
         "title": {
          "text": "Time [s]"
         }
        },
        "yaxis": {
         "tickformat": ".2f",
         "title": {
          "text": "Entropy [W/K]"
         }
        }
       }
      }
     },
     "metadata": {},
     "output_type": "display_data"
    }
   ],
   "source": [
    "# comsol_data_ref  = COMSOL_VTU( ROOT / \"data\" / PARAMETER_SPACE / \"Training\" / f\"{DATA_TYPE}_000.vtu\")\n",
    "fig = go.Figure()\n",
    "\n",
    "for idx_snap, entropies in enumerate(entropy_gen_unit):\n",
    "    fig.add_trace(go.Scatter(x=list(comsol_data_ref.times.values()),\n",
    "                             y=entropies,\n",
    "                                mode='lines',\n",
    "                                name=f\"{idx_snap:03d}\",\n",
    "                                opacity=0.4,\n",
    "                            line=dict(color=colors[idx_snap])\n",
    "                ))\n",
    "    \n",
    "fig.update_layout(\n",
    "    xaxis_tickformat='.2e',  # Format x-axis numbers to 2 decimal places\n",
    "    yaxis_tickformat='.2f',  # Format y-axis numbers to 2 decimal places\n",
    "    showlegend=False,        # Hide the legend\n",
    "    title=f\"Entropy generation - {DATA_TYPE} Snapshots - Parameter Space {PARAMETER_SPACE}\",       # Optional: add a title\n",
    "    xaxis_title=\"Time [s]\",    # Optional: label for x-axis\n",
    "    yaxis_title=\"Entropy [W/K]\"     # Optional: label for y-axis\n",
    ")\n",
    "if IS_EXPORT:\n",
    "    fig.write_image(export_folder / f\"{DATA_TYPE}_EntropyGeneration.png\")\n",
    "    fig.write_html(export_folder / f\"{DATA_TYPE}_EntropyGeneration.html\")\n",
    "fig.show()"
   ]
  },
  {
   "cell_type": "markdown",
   "metadata": {},
   "source": [
    "### Plot entropy generation number"
   ]
  },
  {
   "cell_type": "code",
   "execution_count": 37,
   "metadata": {},
   "outputs": [
    {
     "data": {
      "application/vnd.plotly.v1+json": {
       "config": {
        "plotlyServerURL": "https://plot.ly"
       },
       "data": [
        {
         "line": {
          "color": "rgb(0, 0, 131)"
         },
         "mode": "lines",
         "name": "000",
         "opacity": 0.4,
         "type": "scatter",
         "x": [
          0,
          1000000000000,
          2000000000000,
          3000000000000,
          4000000000000,
          5000000000000,
          6000000000000,
          7000000000000,
          8000000000000,
          9000000000000,
          10000000000000,
          11000000000000,
          12000000000000,
          13000000000000,
          14000000000000,
          15000000000000,
          16000000000000,
          17000000000000,
          18000000000000,
          19000000000000,
          20000000000000,
          21000000000000,
          22000000000000,
          23000000000000,
          24000000000000,
          25000000000000,
          26000000000000,
          27000000000000,
          28000000000000,
          29000000000000,
          30000000000000,
          31000000000000,
          32000000000000,
          33000000000000,
          34000000000000,
          35000000000000,
          36000000000000,
          37000000000000,
          38000000000000,
          39000000000000,
          40000000000000
         ],
         "y": {
          "bdata": "KgrOIKpF7j+wK2ocpzfxP1JVkLBXKPE/8F9pOB0n8T/T2EJQ+CbxPz9uvDX0JvE/x2E11fUm8T+74i8N+ibxP8Gm/pz5JvE/liId/vcm8T/6QChz9ybxP/3a/3f3JvE/8WgIo/cm8T+CMIz69ybxP7h3dj34JvE/q2wrePgm8T8O3smz+CbxPz1FluX4JvE/RxFh8Pgm8T99PDH7+CbxP+HGBgb5JvE/z9g6C/km8T9/k7v7+CbxP7vMR+z4JvE/dYTf3Pgm8T+w0/bN+CbxPzOwv8D4JvE/IJ6Ns/gm8T91nWCm+CbxPxiyUpv4JvE/efv8l/gm8T84rqeU+CbxP1HKUpH4JvE/TUG1jvgm8T8lJLeO+CbxP7oZuY74JvE/CCK7jvgm8T9+YiaP+CbxP82AE5H4JvE/8LcAk/gm8T/kB+6U+CbxPw==",
          "dtype": "f8"
         }
        },
        {
         "line": {
          "color": "rgb(0, 15, 141)"
         },
         "mode": "lines",
         "name": "001",
         "opacity": 0.4,
         "type": "scatter",
         "x": [
          0,
          1000000000000,
          2000000000000,
          3000000000000,
          4000000000000,
          5000000000000,
          6000000000000,
          7000000000000,
          8000000000000,
          9000000000000,
          10000000000000,
          11000000000000,
          12000000000000,
          13000000000000,
          14000000000000,
          15000000000000,
          16000000000000,
          17000000000000,
          18000000000000,
          19000000000000,
          20000000000000,
          21000000000000,
          22000000000000,
          23000000000000,
          24000000000000,
          25000000000000,
          26000000000000,
          27000000000000,
          28000000000000,
          29000000000000,
          30000000000000,
          31000000000000,
          32000000000000,
          33000000000000,
          34000000000000,
          35000000000000,
          36000000000000,
          37000000000000,
          38000000000000,
          39000000000000,
          40000000000000
         ],
         "y": {
          "bdata": "Fh4Ol05H7j/7yTiuglbxP0GF8BuUV/E/aWzytUlW8T89P/i0ilbxP4A2BEqRVvE/jqoLu5dW8T9VyxqPmlbxPzR4CFmbVvE/K9TjiptW8T85CEUcm1bxP3KoGMCaVvE/EfHIZZpW8T/ci6oSmlbxP8BfnO+ZVvE/1AG8zJlW8T8XcgmqmVbxP1br7YuZVvE/fpDakJlW8T+VzsiVmVbxP5yluJqZVvE/oNOhoJlW8T/jhTmumVbxP6N91ruZVvE/5rp4yZlW8T9IOlrWmVbxPzToHd2ZVvE/Vd3i45lW8T+xGanqmVbxP7q39vCZVvE/8TJ/85lW8T941wf2mVbxP1ClkPiZVvE/E4Gw+plW8T9Fro/5mVbxP6fibviZVvE/Mh5O95lW8T+4ugf2mVbxP5Ejl/OZVvE/Y7Im8ZlW8T8sZ7bumVbxPw==",
          "dtype": "f8"
         }
        },
        {
         "line": {
          "color": "rgb(0, 30, 150)"
         },
         "mode": "lines",
         "name": "002",
         "opacity": 0.4,
         "type": "scatter",
         "x": [
          0,
          1000000000000,
          2000000000000,
          3000000000000,
          4000000000000,
          5000000000000,
          6000000000000,
          7000000000000,
          8000000000000,
          9000000000000,
          10000000000000,
          11000000000000,
          12000000000000,
          13000000000000,
          14000000000000,
          15000000000000,
          16000000000000,
          17000000000000,
          18000000000000,
          19000000000000,
          20000000000000,
          21000000000000,
          22000000000000,
          23000000000000,
          24000000000000,
          25000000000000,
          26000000000000,
          27000000000000,
          28000000000000,
          29000000000000,
          30000000000000,
          31000000000000,
          32000000000000,
          33000000000000,
          34000000000000,
          35000000000000,
          36000000000000,
          37000000000000,
          38000000000000,
          39000000000000,
          40000000000000
         ],
         "y": {
          "bdata": "1mBu2GQh7j9XZgDB0SHuPwiihvrsIe4/pMqFKvgh7j+1CB0M/iHuP5aQts0BIu4/ARGT5gIi7j85mXb/AyLuP0opYRgFIu4/0QzSywUi7j/2QGMABiLuP5i19DQGIu4/qWqGaQYi7j/hQxuLBiLuP1mg85QGIu4/HP/LngYi7j87YKSoBiLuP+1r7q4GIu4/PoLGsAYi7j+kmJ6yBiLuPx+vdrQGIu4/EjuktQYi7j8ymPy1BiLuP1H1VLYGIu4/dFKttgYi7j8+w+W2BiLuP1JM9rYGIu4/atUGtwYi7j9+Xhe3BiLuPxruIbcGIu4/zgUltwYi7j+CHSi3BiLuPzQ1K7cGIu4/zy4ttwYi7j/Ewi23BiLuP7hWLrcGIu4/reoutwYi7j8mSS+3BiLuP8tkL7cGIu4/aIAvtwYi7j8JnC+3BiLuPw==",
          "dtype": "f8"
         }
        },
        {
         "line": {
          "color": "rgb(0, 45, 160)"
         },
         "mode": "lines",
         "name": "003",
         "opacity": 0.4,
         "type": "scatter",
         "x": [
          0,
          1000000000000,
          2000000000000,
          3000000000000,
          4000000000000,
          5000000000000,
          6000000000000,
          7000000000000,
          8000000000000,
          9000000000000,
          10000000000000,
          11000000000000,
          12000000000000,
          13000000000000,
          14000000000000,
          15000000000000,
          16000000000000,
          17000000000000,
          18000000000000,
          19000000000000,
          20000000000000,
          21000000000000,
          22000000000000,
          23000000000000,
          24000000000000,
          25000000000000,
          26000000000000,
          27000000000000,
          28000000000000,
          29000000000000,
          30000000000000,
          31000000000000,
          32000000000000,
          33000000000000,
          34000000000000,
          35000000000000,
          36000000000000,
          37000000000000,
          38000000000000,
          39000000000000,
          40000000000000
         ],
         "y": {
          "bdata": "pdn4VDUn7j/kcFHrsCfuPyJ/TQLwJ+4/UEXoO3Ip7j+USdkSLznuP/ZD4OIHn+4/SXOEhkNh7z+Hpn87XbXvP3g3YgANxO8/Dd/iJmLG7z+/D3ELm8bvP31E8Pmlxu8/xHJ3aqHG7z8jhinKnMbvPzcTniibxu8/60qQhJrG7z9cDWI0msbvP+1Kpy6axu8/+ZHsKJrG7z994jEjmsbvP3ouDR+axu8/HtlQHJrG7z9xhJQZmsbvP4Mw2Baaxu8/ltDZFZrG7z8iUGcWmsbvP7/P9Baaxu8/bE+CF5rG7z+5wSMYmsbvPyTp1hiaxu8/kRCKGZrG7z8FOD0amsbvPys1HBuaxu8/4BsiHJrG7z+SAigdmsbvP0LpLR6axu8/T7lUH5rG7z+UwJggmsbvP9rH3CGaxu8/Ic8gI5rG7z/0iowkmsbvPw==",
          "dtype": "f8"
         }
        },
        {
         "line": {
          "color": "rgb(0, 60, 170)"
         },
         "mode": "lines",
         "name": "004",
         "opacity": 0.4,
         "type": "scatter",
         "x": [
          0,
          1000000000000,
          2000000000000,
          3000000000000,
          4000000000000,
          5000000000000,
          6000000000000,
          7000000000000,
          8000000000000,
          9000000000000,
          10000000000000,
          11000000000000,
          12000000000000,
          13000000000000,
          14000000000000,
          15000000000000,
          16000000000000,
          17000000000000,
          18000000000000,
          19000000000000,
          20000000000000,
          21000000000000,
          22000000000000,
          23000000000000,
          24000000000000,
          25000000000000,
          26000000000000,
          27000000000000,
          28000000000000,
          29000000000000,
          30000000000000,
          31000000000000,
          32000000000000,
          33000000000000,
          34000000000000,
          35000000000000,
          36000000000000,
          37000000000000,
          38000000000000,
          39000000000000,
          40000000000000
         ],
         "y": {
          "bdata": "/m4Ag3of7j82q6rq3h/uP1fGckL5H+4/O8gipAUg7j8ukh1MCiDuP5K5l/QOIO4/zWyFTxAg7j/sy9s3ESDuP18NNyASIO4/EjGXCBMg7j/IBMJCEyDuP5SrUWUTIO4/wm7hhxMg7j9OTnGqEyDuP/3Nh68TIO4/weafsBMg7j+Q/7exEyDuP2EY0LITIO4/xsQethMg7j/BNrq5EyDuPxOpVb0TIO4/rhvxwBMg7j/mJHnBEyDuP4J8lsETIO4/GdSzwRMg7j+sK9HBEyDuPwlcKMITIO4/+GKHwhMg7j/raebCEyDuP+BwRcMTIO4/bTdUwxMg7j9BHljDEyDuPxQFXMMTIO4/6OtfwxMg7j/Li2jDEyDuP4nPccMTIO4/QRN7wxMg7j/9VoTDEyDuP6oohsMTIO4/EviGwxMg7j97x4fDEyDuPw==",
          "dtype": "f8"
         }
        },
        {
         "line": {
          "color": "rgb(1, 109, 191)"
         },
         "mode": "lines",
         "name": "005",
         "opacity": 0.4,
         "type": "scatter",
         "x": [
          0,
          1000000000000,
          2000000000000,
          3000000000000,
          4000000000000,
          5000000000000,
          6000000000000,
          7000000000000,
          8000000000000,
          9000000000000,
          10000000000000,
          11000000000000,
          12000000000000,
          13000000000000,
          14000000000000,
          15000000000000,
          16000000000000,
          17000000000000,
          18000000000000,
          19000000000000,
          20000000000000,
          21000000000000,
          22000000000000,
          23000000000000,
          24000000000000,
          25000000000000,
          26000000000000,
          27000000000000,
          28000000000000,
          29000000000000,
          30000000000000,
          31000000000000,
          32000000000000,
          33000000000000,
          34000000000000,
          35000000000000,
          36000000000000,
          37000000000000,
          38000000000000,
          39000000000000,
          40000000000000
         ],
         "y": {
          "bdata": "FI6Eg5U07j8u9IybFgDwP2lID9ZV5/A/C2iAtUDY8D8nkc0FUtTwP+xfN6ZtzPA/Jd8RufW08D8HHqmk0vLxPxw2jT6i7/E/Lz2D07ju8T9/r2q6nu7xP+CXsead7vE/KLyy453u8T+f6DO7ne7xP5YMmLed7vE/kT6BuJ3u8T/ws2u5ne7xP+gn2Lqd7vE//sRZvJ3u8T+kc9u9ne7xP9wzXb+d7vE/woAcwJ3u8T+HEbzAne7xP4+jW8Gd7vE/2Tb7wZ3u8T+PMjvCne7xP6SUa8Kd7vE/1Pabwp3u8T8XWczCne7xP0Bg3cKd7vE/bEnpwp3u8T+eMvXCne7xP88bAcOd7vE/uP8Ew53u8T+KlAfDne7xP2ApCsOd7vE/Nr4Mw53u8T+mhg3Dne7xP/EDDsOd7vE/P4EOw53u8T+M/g7Dne7xPw==",
          "dtype": "f8"
         }
        },
        {
         "line": {
          "color": "rgb(2, 157, 212)"
         },
         "mode": "lines",
         "name": "006",
         "opacity": 0.4,
         "type": "scatter",
         "x": [
          0,
          1000000000000,
          2000000000000,
          3000000000000,
          4000000000000,
          5000000000000,
          6000000000000,
          7000000000000,
          8000000000000,
          9000000000000,
          10000000000000,
          11000000000000,
          12000000000000,
          13000000000000,
          14000000000000,
          15000000000000,
          16000000000000,
          17000000000000,
          18000000000000,
          19000000000000,
          20000000000000,
          21000000000000,
          22000000000000,
          23000000000000,
          24000000000000,
          25000000000000,
          26000000000000,
          27000000000000,
          28000000000000,
          29000000000000,
          30000000000000,
          31000000000000,
          32000000000000,
          33000000000000,
          34000000000000,
          35000000000000,
          36000000000000,
          37000000000000,
          38000000000000,
          39000000000000,
          40000000000000
         ],
         "y": {
          "bdata": "0m3nRlQf7j+U0PXDtx/uP3JziEfSH+4/zSM5qt4f7j8lDYuD4x/uPwpaZ13oH+4/8MvWnukf7j9XlYGQ6h/uP/2sMYLrH+4/5RLnc+wf7j/msCqo7B/uP2hsA8zsH+4/vEbc7+wf7j/cP7UT7R/uP9OumRftH+4/SzK5GO0f7j/MtdgZ7R/uP1M5+BrtH+4/Ck6AHu0f7j9k0T0i7R/uPxRV+yXtH+4/F9m4Ke0f7j/EOCEq7R/uP8ipPyrtH+4/zxpeKu0f7j/Yi3wq7R/uP7Vy2SrtH+4/NsM7K+0f7j+7E54r7R/uP0NkACztH+4/vxcMLO0f7j/BSRAs7R/uP717FCztH+4/wK0YLO0f7j8evyEs7R/uP5s8KyztH+4/Ero0LO0f7j+JNz4s7R/uP7HQPyztH+4/yLpALO0f7j/YpEEs7R/uPw==",
          "dtype": "f8"
         }
        },
        {
         "line": {
          "color": "rgb(4, 206, 234)"
         },
         "mode": "lines",
         "name": "007",
         "opacity": 0.4,
         "type": "scatter",
         "x": [
          0,
          1000000000000,
          2000000000000,
          3000000000000,
          4000000000000,
          5000000000000,
          6000000000000,
          7000000000000,
          8000000000000,
          9000000000000,
          10000000000000,
          11000000000000,
          12000000000000,
          13000000000000,
          14000000000000,
          15000000000000,
          16000000000000,
          17000000000000,
          18000000000000,
          19000000000000,
          20000000000000,
          21000000000000,
          22000000000000,
          23000000000000,
          24000000000000,
          25000000000000,
          26000000000000,
          27000000000000,
          28000000000000,
          29000000000000,
          30000000000000,
          31000000000000,
          32000000000000,
          33000000000000,
          34000000000000,
          35000000000000,
          36000000000000,
          37000000000000,
          38000000000000,
          39000000000000,
          40000000000000
         ],
         "y": {
          "bdata": "sko8DKJC7j/K0sFg66LwP/SJVpZ0lvA/Pu+xaPOU8D9zKG7um5TwP1TD0HuElPA/aBvU436U8D9uZIxTfpTwPw2va899lPA/kvmYUX2U8D+ho8M1fZTwPzAVgyx9lPA/vY0VLX2U8D/zhqotfZTwP34eEDB9lPA/Bdr2On2U8D85VelFfZTwPxmQ51B9lPA/TDTdWn2U8D9TDsdffZTwPyLIsWR9lPA/uWGdaX2U8D91JZhtfZTwP4G5JG19lPA/OWWxbH2U8D+nKD5sfZTwPwXSuWt9lPA/i9Xkan2U8D8b5A9qfZTwP739Oml9lPA/uzFvaH2U8D+n8s1nfZTwP/m1LGd9lPA/snuLZn2U8D9Z/QFmfZTwPwbe52V9lPA/lr/NZX2U8D8GorNlfZTwPyjkomV9lPA//SK+ZX2U8D8jYtllfZTwPw==",
          "dtype": "f8"
         }
        },
        {
         "line": {
          "color": "rgb(5, 255, 255)"
         },
         "mode": "lines",
         "name": "008",
         "opacity": 0.4,
         "type": "scatter",
         "x": [
          0,
          1000000000000,
          2000000000000,
          3000000000000,
          4000000000000,
          5000000000000,
          6000000000000,
          7000000000000,
          8000000000000,
          9000000000000,
          10000000000000,
          11000000000000,
          12000000000000,
          13000000000000,
          14000000000000,
          15000000000000,
          16000000000000,
          17000000000000,
          18000000000000,
          19000000000000,
          20000000000000,
          21000000000000,
          22000000000000,
          23000000000000,
          24000000000000,
          25000000000000,
          26000000000000,
          27000000000000,
          28000000000000,
          29000000000000,
          30000000000000,
          31000000000000,
          32000000000000,
          33000000000000,
          34000000000000,
          35000000000000,
          36000000000000,
          37000000000000,
          38000000000000,
          39000000000000,
          40000000000000
         ],
         "y": {
          "bdata": "ESV2FWRC7j/nx4BYr5/wP805YpBfkvA/o1BR6aKQ8D+iLwPzOpDwP+yDT60ckPA/Sj615RSQ8D+50Y56FJDwP5lXsmsTkPA/kVy0FhOQ8D+DljnbEpDwP2LQmskSkPA/GhwruBKQ8D/1Lx+nEpDwPwIp1qsSkPA/MByTsBKQ8D97CVa1EpDwPzE2ILoSkPA/N8pzvxKQ8D+f6sjEEpDwP2uXH8oSkPA/OUpszxKQ8D8Rhv3PEpDwP9TLjtASkPA/fRsg0RKQ8D87I6/REpDwP4czStESkPA/gknl0BKQ8D8sZYDQEpDwP3smG9ASkPA/EHaOzxKQ8D+KxwHPEpDwP+cadc4SkPA/FPnozRKQ8D9fGpXNEpDwP3g8Qc0SkPA/YV/tzBKQ8D94NJrMEpDwPxTsj8wSkPA/66OFzBKQ8D/3W3vMEpDwPw==",
          "dtype": "f8"
         }
        },
        {
         "line": {
          "color": "rgb(67, 255, 191)"
         },
         "mode": "lines",
         "name": "009",
         "opacity": 0.4,
         "type": "scatter",
         "x": [
          0,
          1000000000000,
          2000000000000,
          3000000000000,
          4000000000000,
          5000000000000,
          6000000000000,
          7000000000000,
          8000000000000,
          9000000000000,
          10000000000000,
          11000000000000,
          12000000000000,
          13000000000000,
          14000000000000,
          15000000000000,
          16000000000000,
          17000000000000,
          18000000000000,
          19000000000000,
          20000000000000,
          21000000000000,
          22000000000000,
          23000000000000,
          24000000000000,
          25000000000000,
          26000000000000,
          27000000000000,
          28000000000000,
          29000000000000,
          30000000000000,
          31000000000000,
          32000000000000,
          33000000000000,
          34000000000000,
          35000000000000,
          36000000000000,
          37000000000000,
          38000000000000,
          39000000000000,
          40000000000000
         ],
         "y": {
          "bdata": "ORpf10U37j+vgNGp6irwPwqVLklTM/A/b86lIP8v8D+4YWVjyi7wP06a35RyLvA/DRYo5XAu8D8RoAXOby7wPyKm+BlqLvA/fSlrDWku8D8qMZDeaS7wP0ymq9dmLvA/T0BkHmQu8D+RW01fYy7wP9Aa4ddjLvA/orUyiWQu8D8DRorTZC7wP7dwmd1kLvA/zK64mWQu8D9HfLeoZC7wPwO0QcRkLvA/8KSx4WQu8D/UGuzoZC7wPxfYwONkLvA/3s2c3mQu8D+uduvOZC7wP05C/bFkLvA/4sIUlWQu8D9k+DF4ZC7wP1np4WdkLvA/hS5PZ2Qu8D+c+rxmZC7wP5xNK2ZkLvA/3hXyZWQu8D8APydmZC7wP2xtXGZkLvA/I6GRZmQu8D/AMqxmZC7wP/ZfpWZkLvA/MJGeZmQu8D9wxpdmZC7wPw==",
          "dtype": "f8"
         }
        },
        {
         "line": {
          "color": "rgb(130, 255, 128)"
         },
         "mode": "lines",
         "name": "010",
         "opacity": 0.4,
         "type": "scatter",
         "x": [
          0,
          1000000000000,
          2000000000000,
          3000000000000,
          4000000000000,
          5000000000000,
          6000000000000,
          7000000000000,
          8000000000000,
          9000000000000,
          10000000000000,
          11000000000000,
          12000000000000,
          13000000000000,
          14000000000000,
          15000000000000,
          16000000000000,
          17000000000000,
          18000000000000,
          19000000000000,
          20000000000000,
          21000000000000,
          22000000000000,
          23000000000000,
          24000000000000,
          25000000000000,
          26000000000000,
          27000000000000,
          28000000000000,
          29000000000000,
          30000000000000,
          31000000000000,
          32000000000000,
          33000000000000,
          34000000000000,
          35000000000000,
          36000000000000,
          37000000000000,
          38000000000000,
          39000000000000,
          40000000000000
         ],
         "y": {
          "bdata": "TcBJ6Pkp7j/Q1V8cjiruP5rQRMkuNe4/hz/eI6u17z9QS5+9k5LwP6/H9Sh5nvA/zzozO6Oe8D/JbQyGr57wP/ygAq/AnvA/ESBTjsqe8D+fWO+vzp7wP4W4gQPPnvA/JKZpU86e8D9uj1+jzZ7wP2J0Y/PMnvA/elwjfsye8D9GRA9ZzJ7wP5um+zPMnvA/eIPoDsye8D+dOi/4y57wP4/OD/XLnvA/R2bw8cue8D/GAdHuy57wP6QYXe7LnvA/8siO8cue8D9XecD0y57wP9Up8vfLnvA/bfoz+8ue8D/R0Yv+y57wP0Op4wHMnvA/w4A7Bcye8D+mGC8JzJ7wP/dw9w3MnvA/Ycm/Esye8D/eIYgXzJ7wP8GOmhzMnvA/XiwSIsye8D8YyoknzJ7wP+1nAS3MnvA/bbjQMsye8D/O0xc5zJ7wPw==",
          "dtype": "f8"
         }
        },
        {
         "line": {
          "color": "rgb(192, 255, 64)"
         },
         "mode": "lines",
         "name": "011",
         "opacity": 0.4,
         "type": "scatter",
         "x": [
          0,
          1000000000000,
          2000000000000,
          3000000000000,
          4000000000000,
          5000000000000,
          6000000000000,
          7000000000000,
          8000000000000,
          9000000000000,
          10000000000000,
          11000000000000,
          12000000000000,
          13000000000000,
          14000000000000,
          15000000000000,
          16000000000000,
          17000000000000,
          18000000000000,
          19000000000000,
          20000000000000,
          21000000000000,
          22000000000000,
          23000000000000,
          24000000000000,
          25000000000000,
          26000000000000,
          27000000000000,
          28000000000000,
          29000000000000,
          30000000000000,
          31000000000000,
          32000000000000,
          33000000000000,
          34000000000000,
          35000000000000,
          36000000000000,
          37000000000000,
          38000000000000,
          39000000000000,
          40000000000000
         ],
         "y": {
          "bdata": "Ie7iDZEj7j8Rn9aGASTuP9dLuaAfJO4/1Xqb4Csk7j955+PgMiTuPystNXU3JO4/wLWxwzgk7j+rSoUSOiTuP/brr2E7JO4/zh03PTwk7j/bJIp8PCTuP5248rs8JO4/Etlw+zwk7j+phyQlPSTuP46lZDE9JO4/yYyqPT0k7j9SPfZJPSTuP2pZGFI9JO4/yNSYVD0k7j9z4hpXPSTuP2WCnlk9JO4/BVZPWz0k7j91muJbPSTuP2RMdlw9JO4/zGsKXT0k7j8T83FdPSTuPz38nF09JO4/KSPIXT0k7j/eZ/NdPSTuPz4rE149JO4/9FEjXj0k7j++gDNePSTuP6S3Q149JO4/AyNQXj0k7j+LaVdePSTuP0myXl49JO4/Pf1lXj0k7j9ItWtePSTuP0NMb149JO4/2+NyXj0k7j8FfHZePSTuPw==",
          "dtype": "f8"
         }
        },
        {
         "line": {
          "color": "rgb(255, 255, 0)"
         },
         "mode": "lines",
         "name": "012",
         "opacity": 0.4,
         "type": "scatter",
         "x": [
          0,
          1000000000000,
          2000000000000,
          3000000000000,
          4000000000000,
          5000000000000,
          6000000000000,
          7000000000000,
          8000000000000,
          9000000000000,
          10000000000000,
          11000000000000,
          12000000000000,
          13000000000000,
          14000000000000,
          15000000000000,
          16000000000000,
          17000000000000,
          18000000000000,
          19000000000000,
          20000000000000,
          21000000000000,
          22000000000000,
          23000000000000,
          24000000000000,
          25000000000000,
          26000000000000,
          27000000000000,
          28000000000000,
          29000000000000,
          30000000000000,
          31000000000000,
          32000000000000,
          33000000000000,
          34000000000000,
          35000000000000,
          36000000000000,
          37000000000000,
          38000000000000,
          39000000000000,
          40000000000000
         ],
         "y": {
          "bdata": "ONTh4zs97j88o8AjH3zwP0eSp9ksIPI/9lMbwggZ8j8ZbZMIYBvyP4zN/UQ/HfI/CYHi6mUe8j96zGG6QB/yP/A7QiPhH/I/9+KjrWUg8j8r6GT/syDyPxgy/ynzIPI/bVJT6/gg8j8DwzLFECHyPzDkPGMUIfI/pguSVi8h8j/ho7gMQyHyP0+OfQJaIfI/MLCCAWYh8j/xA+9GbyHyP+tfzaxvIfI/eedtgXIh8j+bUmqlciHyP5KwaxR1IfI/uQQFHnch8j+ZIsBweSHyP6Oy5yJ7IfI/s+S10Hsh8j+KXL4UfCHyPzXpdyd9IfI/PykwvH0h8j9XxbawfSHyP7HwqaF9IfI/3RKc/H0h8j80OSYyfiHyP9ZcmDl+IfI/zpcaTX4h8j9bi7d0fiHyP9dHmpJ+IfI/0DmppH4h8j/UHCG8fiHyPw==",
          "dtype": "f8"
         }
        },
        {
         "line": {
          "color": "rgb(254, 191, 0)"
         },
         "mode": "lines",
         "name": "013",
         "opacity": 0.4,
         "type": "scatter",
         "x": [
          0,
          1000000000000,
          2000000000000,
          3000000000000,
          4000000000000,
          5000000000000,
          6000000000000,
          7000000000000,
          8000000000000,
          9000000000000,
          10000000000000,
          11000000000000,
          12000000000000,
          13000000000000,
          14000000000000,
          15000000000000,
          16000000000000,
          17000000000000,
          18000000000000,
          19000000000000,
          20000000000000,
          21000000000000,
          22000000000000,
          23000000000000,
          24000000000000,
          25000000000000,
          26000000000000,
          27000000000000,
          28000000000000,
          29000000000000,
          30000000000000,
          31000000000000,
          32000000000000,
          33000000000000,
          34000000000000,
          35000000000000,
          36000000000000,
          37000000000000,
          38000000000000,
          39000000000000,
          40000000000000
         ],
         "y": {
          "bdata": "ayLWSZoi7j8eOU63ByPuP0nJAfokI+4/ma2WZjEj7j/P8bvLNyPuP6wGSKc8I+4/VFf71z0j7j9E17wIPyPuP3yGjDlAI+4/LJkVIUEj7j8GJx5aQSPuP9bGJ5NBI+4/nHgyzEEj7j8k8Yb3QSPuPzwtNwJCI+4/4oTnDEIj7j8h+JcXQiPuP+Qeth9CI+4/71i1IUIj7j8flrQjQiPuP3zWsyVCI+4/Qgg4J0Ij7j91VZcnQiPuPwij9idCI+4/CfFVKEIj7j/YR54oQiPuP/L1ryhCI+4/HqTBKEIj7j9JUtMoQiPuP6y74ChCI+4/H/zjKEIj7j+VPOcoQiPuPwp96ihCI+4/z/PsKEIj7j+Qiu0oQiPuP1Mh7ihCI+4/ErjuKEIj7j8aKu8oQiPuP59E7yhCI+4/Kl/vKEIj7j+uee8oQiPuPw==",
          "dtype": "f8"
         }
        },
        {
         "line": {
          "color": "rgb(252, 128, 0)"
         },
         "mode": "lines",
         "name": "014",
         "opacity": 0.4,
         "type": "scatter",
         "x": [
          0,
          1000000000000,
          2000000000000,
          3000000000000,
          4000000000000,
          5000000000000,
          6000000000000,
          7000000000000,
          8000000000000,
          9000000000000,
          10000000000000,
          11000000000000,
          12000000000000,
          13000000000000,
          14000000000000,
          15000000000000,
          16000000000000,
          17000000000000,
          18000000000000,
          19000000000000,
          20000000000000,
          21000000000000,
          22000000000000,
          23000000000000,
          24000000000000,
          25000000000000,
          26000000000000,
          27000000000000,
          28000000000000,
          29000000000000,
          30000000000000,
          31000000000000,
          32000000000000,
          33000000000000,
          34000000000000,
          35000000000000,
          36000000000000,
          37000000000000,
          38000000000000,
          39000000000000,
          40000000000000
         ],
         "y": {
          "bdata": "kuFZK5Eg7j/O3H2s+SDuP8JRJkoVIe4/RQlRph8h7j9ypJiUJiHuP1J7uuYpIe4/X1EDMCsh7j+SxVV5LCHuP+XXscItIe4/zpKyYC4h7j/iUS6eLiHuP4xnqtsuIe4/zNMmGS8h7j/t5qg2LyHuP41mKEIvIe4/P+mnTS8h7j8AbydZLyHuP9EPrF4vIe4/B4HSYC8h7j9b8vhiLyHuP8VjH2UvIe4/744nZi8h7j8TgI5mLyHuPz1x9WYvIe4/aWJcZy8h7j87yY1nLyHuP9QIoWcvIe4/dUi0Zy8h7j8TiMdnLyHuP6bE0GcvIe4/w13UZy8h7j/j9tdnLyHuPwKQ22cvIe4/+UndZy8h7j8T9t1nLyHuPy+i3mcvIe4/UU7fZy8h7j/eoN9nLyHuPwXB32cvIe4/KOHfZy8h7j9NAeBnLyHuPw==",
          "dtype": "f8"
         }
        },
        {
         "line": {
          "color": "rgb(251, 64, 0)"
         },
         "mode": "lines",
         "name": "015",
         "opacity": 0.4,
         "type": "scatter",
         "x": [
          0,
          1000000000000,
          2000000000000,
          3000000000000,
          4000000000000,
          5000000000000,
          6000000000000,
          7000000000000,
          8000000000000,
          9000000000000,
          10000000000000,
          11000000000000,
          12000000000000,
          13000000000000,
          14000000000000,
          15000000000000,
          16000000000000,
          17000000000000,
          18000000000000,
          19000000000000,
          20000000000000,
          21000000000000,
          22000000000000,
          23000000000000,
          24000000000000,
          25000000000000,
          26000000000000,
          27000000000000,
          28000000000000,
          29000000000000,
          30000000000000,
          31000000000000,
          32000000000000,
          33000000000000,
          34000000000000,
          35000000000000,
          36000000000000,
          37000000000000,
          38000000000000,
          39000000000000,
          40000000000000
         ],
         "y": {
          "bdata": "VLKtu78/7j8CdcgOeWPwP07VFZpNUfA/qrAk5B1O8D9SYSftsk3wPzAoCsFyTfA/aQFY2lxN8D9kBGhJV03wP8kuZiVSTfA/jz364lFN8D+dQ4xtU03wP/xoFG5UTfA/TGqAQ1RN8D9UgGHyU03wP/dab6xTTfA/JRxyfFNN8D8WeGFSU03wP0cPCEVTTfA/8h6xQlNN8D/s6l5AU03wPzFzET5TTfA/qyEYQlNN8D/QBbNIU03wP0lcVE9TTfA/HyX8VVNN8D/tsfZZU03wP+6p2lxTTfA/wD2/X1NN8D9gbaRiU03wP+y48GNTTfA/LFiXZFNN8D+l/z1lU03wP1uv5GVTTfA/AlSSZVNN8D+XLNtkU03wP3oQJGRTTfA/qP9sY1NN8D+mJopiU03wPzeblWFTTfA/uRuhYFNN8D8oqKxfU03wPw==",
          "dtype": "f8"
         }
        },
        {
         "line": {
          "color": "rgb(250, 0, 0)"
         },
         "mode": "lines",
         "name": "016",
         "opacity": 0.4,
         "type": "scatter",
         "x": [
          0,
          1000000000000,
          2000000000000,
          3000000000000,
          4000000000000,
          5000000000000,
          6000000000000,
          7000000000000,
          8000000000000,
          9000000000000,
          10000000000000,
          11000000000000,
          12000000000000,
          13000000000000,
          14000000000000,
          15000000000000,
          16000000000000,
          17000000000000,
          18000000000000,
          19000000000000,
          20000000000000,
          21000000000000,
          22000000000000,
          23000000000000,
          24000000000000,
          25000000000000,
          26000000000000,
          27000000000000,
          28000000000000,
          29000000000000,
          30000000000000,
          31000000000000,
          32000000000000,
          33000000000000,
          34000000000000,
          35000000000000,
          36000000000000,
          37000000000000,
          38000000000000,
          39000000000000,
          40000000000000
         ],
         "y": {
          "bdata": "Kd9jFRAh7j9dPpiPgyHuP1F88+ahIe4/e8L+nakh7j9ynnXyrCHuP0ca8CyuIe4/J5s7UK8h7j9anCeLryHuP/ftE8avIe4/CZAAAbAh7j+01ZM3sCHuP+SHnEKwIe4/7TylTbAh7j/R9K1YsCHuPw0i5mKwIe4/B+v2ZLAh7j8atAdnsCHuP0x9GGmwIe4/gTsCa7Ah7j9uMWVrsCHuP1YnyGuwIe4/Qx0rbLAh7j9yxIZssCHuP4VHmWywIe4/oMqrbLAh7j+3Tb5ssCHuP9Ryz2ywIe4/8ejSbLAh7j8UX9ZssCHuPzjV2WywIe4/4wndbLAh7j96r91ssCHuPwpV3mywIe4/ovrebLAh7j/6k99ssCHuP+Sy32ywIe4/0dHfbLAh7j+48N9ssCHuP10N4GywIe4/HxPgbLAh7j/kGOBssCHuPw==",
          "dtype": "f8"
         }
        },
        {
         "line": {
          "color": "rgb(220, 0, 0)"
         },
         "mode": "lines",
         "name": "017",
         "opacity": 0.4,
         "type": "scatter",
         "x": [
          0,
          1000000000000,
          2000000000000,
          3000000000000,
          4000000000000,
          5000000000000,
          6000000000000,
          7000000000000,
          8000000000000,
          9000000000000,
          10000000000000,
          11000000000000,
          12000000000000,
          13000000000000,
          14000000000000,
          15000000000000,
          16000000000000,
          17000000000000,
          18000000000000,
          19000000000000,
          20000000000000,
          21000000000000,
          22000000000000,
          23000000000000,
          24000000000000,
          25000000000000,
          26000000000000,
          27000000000000,
          28000000000000,
          29000000000000,
          30000000000000,
          31000000000000,
          32000000000000,
          33000000000000,
          34000000000000,
          35000000000000,
          36000000000000,
          37000000000000,
          38000000000000,
          39000000000000,
          40000000000000
         ],
         "y": {
          "bdata": "IKZqPTE17j+dQ1a89w7vP+u2rHTGw/A/RVLeEz/n8T8PKpq+mOTxP2s3/BeC5PE/gRFMR6bk8T/VD7oesuTxP6A5F9ez5PE/Prs+HLPk8T+U9qBrsuTxPx0ZRkCy5PE/o+fFF7Lk8T9+B9gIsuTxPxof6/mx5PE/di7/6rHk8T/BXvDeseTxP09BG92x5PE/fC5G27Hk8T9GJnHZseTxPzo/ANix5PE/zyb117Hk8T+4DurXseTxP/X23tex5PE/lXzK17Hk8T9+dJTXseTxP3JsXtex5PE/cGQo17Hk8T+uL/3WseTxP1Ct+Nax5PE/8ir01rHk8T+VqO/WseTxP3NG69ax5PE/jlfn1rHk8T+paOPWseTxP8N539ax5PE/olbc1rHk8T/xC9zWseTxPz7B29ax5PE/i3bb1rHk8T9VNtvWseTxPw==",
          "dtype": "f8"
         }
        },
        {
         "line": {
          "color": "rgb(189, 0, 0)"
         },
         "mode": "lines",
         "name": "018",
         "opacity": 0.4,
         "type": "scatter",
         "x": [
          0,
          1000000000000,
          2000000000000,
          3000000000000,
          4000000000000,
          5000000000000,
          6000000000000,
          7000000000000,
          8000000000000,
          9000000000000,
          10000000000000,
          11000000000000,
          12000000000000,
          13000000000000,
          14000000000000,
          15000000000000,
          16000000000000,
          17000000000000,
          18000000000000,
          19000000000000,
          20000000000000,
          21000000000000,
          22000000000000,
          23000000000000,
          24000000000000,
          25000000000000,
          26000000000000,
          27000000000000,
          28000000000000,
          29000000000000,
          30000000000000,
          31000000000000,
          32000000000000,
          33000000000000,
          34000000000000,
          35000000000000,
          36000000000000,
          37000000000000,
          38000000000000,
          39000000000000,
          40000000000000
         ],
         "y": {
          "bdata": "0IKKi/Qr7j9g3qNmtCzuPwlfFDHRh+4/8YsE6pN08D8g7JkTwtvwP+RIcEcf3vA/N8UyRQXe8D8IQI2JIt7wP4BugBQ13vA/Oj0uZTne8D+cUdXwOt7wP6caj0U73vA/SDNAQzve8D80pA9BO97wP8/diz873vA/+3QIPjve8D+saYU8O97wP0yulDs73vA/RdifPjve8D80B6tBO97wPxE7tkQ73vA/lJQnSDve8D+AgGJOO97wP6psnVQ73vA/ElnYWjve8D8arQNhO97wPw4JwmY73vA/LGWAbDve8D90wT5yO97wPytdJHg73vA/+DAcfzve8D/qBBSGO97wPwPZC4073vA/nxj+kzve8D+gWsmaO97wP8SclKE73vA/EN9fqDve8D8y6j2vO97wP5szn7Y73vA/MH0Avjve8D/vxmHFO97wPw==",
          "dtype": "f8"
         }
        },
        {
         "line": {
          "color": "rgb(159, 0, 0)"
         },
         "mode": "lines",
         "name": "019",
         "opacity": 0.4,
         "type": "scatter",
         "x": [
          0,
          1000000000000,
          2000000000000,
          3000000000000,
          4000000000000,
          5000000000000,
          6000000000000,
          7000000000000,
          8000000000000,
          9000000000000,
          10000000000000,
          11000000000000,
          12000000000000,
          13000000000000,
          14000000000000,
          15000000000000,
          16000000000000,
          17000000000000,
          18000000000000,
          19000000000000,
          20000000000000,
          21000000000000,
          22000000000000,
          23000000000000,
          24000000000000,
          25000000000000,
          26000000000000,
          27000000000000,
          28000000000000,
          29000000000000,
          30000000000000,
          31000000000000,
          32000000000000,
          33000000000000,
          34000000000000,
          35000000000000,
          36000000000000,
          37000000000000,
          38000000000000,
          39000000000000,
          40000000000000
         ],
         "y": {
          "bdata": "FI4D4Jsr7j8HdH/0ISzuPz+VdRbSLO4/J8e464th7j+H6jhVDAXwP+jkyIEpTfA/Zfw5LsxR8D9aRLyVFlLwPxYGkZVGUvA/bE3vmmRS8D9Ukw0WclLwP2xejptzUvA/ub9Cm3FS8D9ig3zXb1LwP1niz1BuUvA/Y8jSc21S8D+uwVeMbFLwPwHotgdsUvA/vIWQcWtS8D9LRVr2alLwP9E81r1qUvA/jzTUnWpS8D9kT+x+alLwP00hZGhqUvA/Eh2OWmpS8D+UWhRValLwP2iarGNqUvA/pTxMc2pS8D9aGfSCalLwP4EwpJJqUvA/MPq2lmpS8D8X+A2aalLwP1jDZp1qUvA/81vBoGpS8D/DEBmialLwP1lMUKNqUvA/qOeHpGpS8D+v4r+lalLwP2+AT6ZqUvA/tnXUpmpS8D/3fVmnalLwPw==",
          "dtype": "f8"
         }
        }
       ],
       "layout": {
        "showlegend": false,
        "template": {
         "data": {
          "bar": [
           {
            "error_x": {
             "color": "#2a3f5f"
            },
            "error_y": {
             "color": "#2a3f5f"
            },
            "marker": {
             "line": {
              "color": "#E5ECF6",
              "width": 0.5
             },
             "pattern": {
              "fillmode": "overlay",
              "size": 10,
              "solidity": 0.2
             }
            },
            "type": "bar"
           }
          ],
          "barpolar": [
           {
            "marker": {
             "line": {
              "color": "#E5ECF6",
              "width": 0.5
             },
             "pattern": {
              "fillmode": "overlay",
              "size": 10,
              "solidity": 0.2
             }
            },
            "type": "barpolar"
           }
          ],
          "carpet": [
           {
            "aaxis": {
             "endlinecolor": "#2a3f5f",
             "gridcolor": "white",
             "linecolor": "white",
             "minorgridcolor": "white",
             "startlinecolor": "#2a3f5f"
            },
            "baxis": {
             "endlinecolor": "#2a3f5f",
             "gridcolor": "white",
             "linecolor": "white",
             "minorgridcolor": "white",
             "startlinecolor": "#2a3f5f"
            },
            "type": "carpet"
           }
          ],
          "choropleth": [
           {
            "colorbar": {
             "outlinewidth": 0,
             "ticks": ""
            },
            "type": "choropleth"
           }
          ],
          "contour": [
           {
            "colorbar": {
             "outlinewidth": 0,
             "ticks": ""
            },
            "colorscale": [
             [
              0,
              "#0d0887"
             ],
             [
              0.1111111111111111,
              "#46039f"
             ],
             [
              0.2222222222222222,
              "#7201a8"
             ],
             [
              0.3333333333333333,
              "#9c179e"
             ],
             [
              0.4444444444444444,
              "#bd3786"
             ],
             [
              0.5555555555555556,
              "#d8576b"
             ],
             [
              0.6666666666666666,
              "#ed7953"
             ],
             [
              0.7777777777777778,
              "#fb9f3a"
             ],
             [
              0.8888888888888888,
              "#fdca26"
             ],
             [
              1,
              "#f0f921"
             ]
            ],
            "type": "contour"
           }
          ],
          "contourcarpet": [
           {
            "colorbar": {
             "outlinewidth": 0,
             "ticks": ""
            },
            "type": "contourcarpet"
           }
          ],
          "heatmap": [
           {
            "colorbar": {
             "outlinewidth": 0,
             "ticks": ""
            },
            "colorscale": [
             [
              0,
              "#0d0887"
             ],
             [
              0.1111111111111111,
              "#46039f"
             ],
             [
              0.2222222222222222,
              "#7201a8"
             ],
             [
              0.3333333333333333,
              "#9c179e"
             ],
             [
              0.4444444444444444,
              "#bd3786"
             ],
             [
              0.5555555555555556,
              "#d8576b"
             ],
             [
              0.6666666666666666,
              "#ed7953"
             ],
             [
              0.7777777777777778,
              "#fb9f3a"
             ],
             [
              0.8888888888888888,
              "#fdca26"
             ],
             [
              1,
              "#f0f921"
             ]
            ],
            "type": "heatmap"
           }
          ],
          "histogram": [
           {
            "marker": {
             "pattern": {
              "fillmode": "overlay",
              "size": 10,
              "solidity": 0.2
             }
            },
            "type": "histogram"
           }
          ],
          "histogram2d": [
           {
            "colorbar": {
             "outlinewidth": 0,
             "ticks": ""
            },
            "colorscale": [
             [
              0,
              "#0d0887"
             ],
             [
              0.1111111111111111,
              "#46039f"
             ],
             [
              0.2222222222222222,
              "#7201a8"
             ],
             [
              0.3333333333333333,
              "#9c179e"
             ],
             [
              0.4444444444444444,
              "#bd3786"
             ],
             [
              0.5555555555555556,
              "#d8576b"
             ],
             [
              0.6666666666666666,
              "#ed7953"
             ],
             [
              0.7777777777777778,
              "#fb9f3a"
             ],
             [
              0.8888888888888888,
              "#fdca26"
             ],
             [
              1,
              "#f0f921"
             ]
            ],
            "type": "histogram2d"
           }
          ],
          "histogram2dcontour": [
           {
            "colorbar": {
             "outlinewidth": 0,
             "ticks": ""
            },
            "colorscale": [
             [
              0,
              "#0d0887"
             ],
             [
              0.1111111111111111,
              "#46039f"
             ],
             [
              0.2222222222222222,
              "#7201a8"
             ],
             [
              0.3333333333333333,
              "#9c179e"
             ],
             [
              0.4444444444444444,
              "#bd3786"
             ],
             [
              0.5555555555555556,
              "#d8576b"
             ],
             [
              0.6666666666666666,
              "#ed7953"
             ],
             [
              0.7777777777777778,
              "#fb9f3a"
             ],
             [
              0.8888888888888888,
              "#fdca26"
             ],
             [
              1,
              "#f0f921"
             ]
            ],
            "type": "histogram2dcontour"
           }
          ],
          "mesh3d": [
           {
            "colorbar": {
             "outlinewidth": 0,
             "ticks": ""
            },
            "type": "mesh3d"
           }
          ],
          "parcoords": [
           {
            "line": {
             "colorbar": {
              "outlinewidth": 0,
              "ticks": ""
             }
            },
            "type": "parcoords"
           }
          ],
          "pie": [
           {
            "automargin": true,
            "type": "pie"
           }
          ],
          "scatter": [
           {
            "fillpattern": {
             "fillmode": "overlay",
             "size": 10,
             "solidity": 0.2
            },
            "type": "scatter"
           }
          ],
          "scatter3d": [
           {
            "line": {
             "colorbar": {
              "outlinewidth": 0,
              "ticks": ""
             }
            },
            "marker": {
             "colorbar": {
              "outlinewidth": 0,
              "ticks": ""
             }
            },
            "type": "scatter3d"
           }
          ],
          "scattercarpet": [
           {
            "marker": {
             "colorbar": {
              "outlinewidth": 0,
              "ticks": ""
             }
            },
            "type": "scattercarpet"
           }
          ],
          "scattergeo": [
           {
            "marker": {
             "colorbar": {
              "outlinewidth": 0,
              "ticks": ""
             }
            },
            "type": "scattergeo"
           }
          ],
          "scattergl": [
           {
            "marker": {
             "colorbar": {
              "outlinewidth": 0,
              "ticks": ""
             }
            },
            "type": "scattergl"
           }
          ],
          "scattermap": [
           {
            "marker": {
             "colorbar": {
              "outlinewidth": 0,
              "ticks": ""
             }
            },
            "type": "scattermap"
           }
          ],
          "scattermapbox": [
           {
            "marker": {
             "colorbar": {
              "outlinewidth": 0,
              "ticks": ""
             }
            },
            "type": "scattermapbox"
           }
          ],
          "scatterpolar": [
           {
            "marker": {
             "colorbar": {
              "outlinewidth": 0,
              "ticks": ""
             }
            },
            "type": "scatterpolar"
           }
          ],
          "scatterpolargl": [
           {
            "marker": {
             "colorbar": {
              "outlinewidth": 0,
              "ticks": ""
             }
            },
            "type": "scatterpolargl"
           }
          ],
          "scatterternary": [
           {
            "marker": {
             "colorbar": {
              "outlinewidth": 0,
              "ticks": ""
             }
            },
            "type": "scatterternary"
           }
          ],
          "surface": [
           {
            "colorbar": {
             "outlinewidth": 0,
             "ticks": ""
            },
            "colorscale": [
             [
              0,
              "#0d0887"
             ],
             [
              0.1111111111111111,
              "#46039f"
             ],
             [
              0.2222222222222222,
              "#7201a8"
             ],
             [
              0.3333333333333333,
              "#9c179e"
             ],
             [
              0.4444444444444444,
              "#bd3786"
             ],
             [
              0.5555555555555556,
              "#d8576b"
             ],
             [
              0.6666666666666666,
              "#ed7953"
             ],
             [
              0.7777777777777778,
              "#fb9f3a"
             ],
             [
              0.8888888888888888,
              "#fdca26"
             ],
             [
              1,
              "#f0f921"
             ]
            ],
            "type": "surface"
           }
          ],
          "table": [
           {
            "cells": {
             "fill": {
              "color": "#EBF0F8"
             },
             "line": {
              "color": "white"
             }
            },
            "header": {
             "fill": {
              "color": "#C8D4E3"
             },
             "line": {
              "color": "white"
             }
            },
            "type": "table"
           }
          ]
         },
         "layout": {
          "annotationdefaults": {
           "arrowcolor": "#2a3f5f",
           "arrowhead": 0,
           "arrowwidth": 1
          },
          "autotypenumbers": "strict",
          "coloraxis": {
           "colorbar": {
            "outlinewidth": 0,
            "ticks": ""
           }
          },
          "colorscale": {
           "diverging": [
            [
             0,
             "#8e0152"
            ],
            [
             0.1,
             "#c51b7d"
            ],
            [
             0.2,
             "#de77ae"
            ],
            [
             0.3,
             "#f1b6da"
            ],
            [
             0.4,
             "#fde0ef"
            ],
            [
             0.5,
             "#f7f7f7"
            ],
            [
             0.6,
             "#e6f5d0"
            ],
            [
             0.7,
             "#b8e186"
            ],
            [
             0.8,
             "#7fbc41"
            ],
            [
             0.9,
             "#4d9221"
            ],
            [
             1,
             "#276419"
            ]
           ],
           "sequential": [
            [
             0,
             "#0d0887"
            ],
            [
             0.1111111111111111,
             "#46039f"
            ],
            [
             0.2222222222222222,
             "#7201a8"
            ],
            [
             0.3333333333333333,
             "#9c179e"
            ],
            [
             0.4444444444444444,
             "#bd3786"
            ],
            [
             0.5555555555555556,
             "#d8576b"
            ],
            [
             0.6666666666666666,
             "#ed7953"
            ],
            [
             0.7777777777777778,
             "#fb9f3a"
            ],
            [
             0.8888888888888888,
             "#fdca26"
            ],
            [
             1,
             "#f0f921"
            ]
           ],
           "sequentialminus": [
            [
             0,
             "#0d0887"
            ],
            [
             0.1111111111111111,
             "#46039f"
            ],
            [
             0.2222222222222222,
             "#7201a8"
            ],
            [
             0.3333333333333333,
             "#9c179e"
            ],
            [
             0.4444444444444444,
             "#bd3786"
            ],
            [
             0.5555555555555556,
             "#d8576b"
            ],
            [
             0.6666666666666666,
             "#ed7953"
            ],
            [
             0.7777777777777778,
             "#fb9f3a"
            ],
            [
             0.8888888888888888,
             "#fdca26"
            ],
            [
             1,
             "#f0f921"
            ]
           ]
          },
          "colorway": [
           "#636efa",
           "#EF553B",
           "#00cc96",
           "#ab63fa",
           "#FFA15A",
           "#19d3f3",
           "#FF6692",
           "#B6E880",
           "#FF97FF",
           "#FECB52"
          ],
          "font": {
           "color": "#2a3f5f"
          },
          "geo": {
           "bgcolor": "white",
           "lakecolor": "white",
           "landcolor": "#E5ECF6",
           "showlakes": true,
           "showland": true,
           "subunitcolor": "white"
          },
          "hoverlabel": {
           "align": "left"
          },
          "hovermode": "closest",
          "mapbox": {
           "style": "light"
          },
          "paper_bgcolor": "white",
          "plot_bgcolor": "#E5ECF6",
          "polar": {
           "angularaxis": {
            "gridcolor": "white",
            "linecolor": "white",
            "ticks": ""
           },
           "bgcolor": "#E5ECF6",
           "radialaxis": {
            "gridcolor": "white",
            "linecolor": "white",
            "ticks": ""
           }
          },
          "scene": {
           "xaxis": {
            "backgroundcolor": "#E5ECF6",
            "gridcolor": "white",
            "gridwidth": 2,
            "linecolor": "white",
            "showbackground": true,
            "ticks": "",
            "zerolinecolor": "white"
           },
           "yaxis": {
            "backgroundcolor": "#E5ECF6",
            "gridcolor": "white",
            "gridwidth": 2,
            "linecolor": "white",
            "showbackground": true,
            "ticks": "",
            "zerolinecolor": "white"
           },
           "zaxis": {
            "backgroundcolor": "#E5ECF6",
            "gridcolor": "white",
            "gridwidth": 2,
            "linecolor": "white",
            "showbackground": true,
            "ticks": "",
            "zerolinecolor": "white"
           }
          },
          "shapedefaults": {
           "line": {
            "color": "#2a3f5f"
           }
          },
          "ternary": {
           "aaxis": {
            "gridcolor": "white",
            "linecolor": "white",
            "ticks": ""
           },
           "baxis": {
            "gridcolor": "white",
            "linecolor": "white",
            "ticks": ""
           },
           "bgcolor": "#E5ECF6",
           "caxis": {
            "gridcolor": "white",
            "linecolor": "white",
            "ticks": ""
           }
          },
          "title": {
           "x": 0.05
          },
          "xaxis": {
           "automargin": true,
           "gridcolor": "white",
           "linecolor": "white",
           "ticks": "",
           "title": {
            "standoff": 15
           },
           "zerolinecolor": "white",
           "zerolinewidth": 2
          },
          "yaxis": {
           "automargin": true,
           "gridcolor": "white",
           "linecolor": "white",
           "ticks": "",
           "title": {
            "standoff": 15
           },
           "zerolinecolor": "white",
           "zerolinewidth": 2
          }
         }
        },
        "title": {
         "text": "Entropy generation number - Test Snapshots - Parameter Space 01"
        },
        "xaxis": {
         "tickformat": ".2e",
         "title": {
          "text": "Time [s]"
         }
        },
        "yaxis": {
         "tickformat": ".2f",
         "title": {
          "text": "Entropy [-]"
         }
        }
       }
      }
     },
     "metadata": {},
     "output_type": "display_data"
    }
   ],
   "source": [
    "fig = go.Figure()\n",
    "\n",
    "for idx_snap, entropies in enumerate(entropy_gen_number):\n",
    "    fig.add_trace(go.Scatter(x=list(comsol_data_ref.times.values()),\n",
    "                             y=entropies,\n",
    "                                mode='lines',\n",
    "                                name=f\"{idx_snap:03d}\",\n",
    "                                opacity=0.4,\n",
    "                            line=dict(color=colors[idx_snap])\n",
    "                ))\n",
    "    \n",
    "fig.update_layout(\n",
    "    xaxis_tickformat='.2e',  # Format x-axis numbers to 2 decimal places\n",
    "    yaxis_tickformat='.2f',  # Format y-axis numbers to 2 decimal places\n",
    "    showlegend=False,        # Hide the legend\n",
    "    title=f\"Entropy generation number - {DATA_TYPE} Snapshots - Parameter Space {PARAMETER_SPACE}\",       # Optional: add a title\n",
    "    xaxis_title=\"Time [s]\",    # Optional: label for x-axis\n",
    "    yaxis_title=\"Entropy [-]\"     # Optional: label for y-axis\n",
    ")\n",
    "if IS_EXPORT:\n",
    "    fig.write_image(export_folder/ f\"{DATA_TYPE}_EntropyGenerationNumber.png\")\n",
    "    fig.write_html(export_folder/ f\"{DATA_TYPE}_EntropyGenerationNumber.html\")\n",
    "fig.show()"
   ]
  }
 ],
 "metadata": {
  "kernelspec": {
   "display_name": ".venv",
   "language": "python",
   "name": "python3"
  },
  "language_info": {
   "codemirror_mode": {
    "name": "ipython",
    "version": 3
   },
   "file_extension": ".py",
   "mimetype": "text/x-python",
   "name": "python",
   "nbconvert_exporter": "python",
   "pygments_lexer": "ipython3",
   "version": "3.12.4"
  }
 },
 "nbformat": 4,
 "nbformat_minor": 2
}
