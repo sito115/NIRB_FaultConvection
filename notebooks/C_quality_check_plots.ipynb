{
 "cells": [
  {
   "cell_type": "markdown",
   "metadata": {},
   "source": [
    "### Add venv modules"
   ]
  },
  {
   "cell_type": "code",
   "execution_count": 1,
   "metadata": {},
   "outputs": [],
   "source": [
    "import numpy as np\n",
    "import plotly.express as px\n",
    "import plotly.graph_objects as go\n",
    "from pathlib import Path\n",
    "import pandas as pd\n",
    "import pint\n",
    "import sys\n",
    "import pyvista as pv\n",
    "from tqdm import tqdm\n",
    "import logging\n",
    "import ast\n",
    "from joblib import dump, load"
   ]
  },
  {
   "cell_type": "code",
   "execution_count": 2,
   "metadata": {},
   "outputs": [],
   "source": [
    "sys.path.append(str(Path.cwd().parent))"
   ]
  },
  {
   "cell_type": "markdown",
   "metadata": {},
   "source": [
    "### Add local modules"
   ]
  },
  {
   "cell_type": "code",
   "execution_count": null,
   "metadata": {},
   "outputs": [],
   "source": [
    "from scr.utils import safe_parse_quantity , delete_comsol_fields\n",
    "from scr.comsol_module.comsol_classes import COMSOL_VTU\n",
    "from scr.comsol_module.entropy import calculate_S_therm"
   ]
  },
  {
   "cell_type": "markdown",
   "metadata": {},
   "source": [
    "### Import "
   ]
  },
  {
   "cell_type": "code",
   "execution_count": 15,
   "metadata": {},
   "outputs": [
    {
     "data": {
      "text/plain": [
       "PosixPath('/Users/thomassimader/Documents/NIRB')"
      ]
     },
     "execution_count": 15,
     "metadata": {},
     "output_type": "execute_result"
    }
   ],
   "source": [
    "ROOT = Path().cwd().parent\n",
    "PARAMETER_SPACE = \"03\"\n",
    "DATA_TYPE = \"Training\"\n",
    "IS_LOAD_NPY : bool = False\n",
    "IS_LOAD_JOBLIB : bool = True\n",
    "assert IS_LOAD_NPY != IS_LOAD_JOBLIB\n",
    "ROOT"
   ]
  },
  {
   "cell_type": "code",
   "execution_count": 14,
   "metadata": {},
   "outputs": [],
   "source": [
    "export_folder = ROOT / \"data\" / PARAMETER_SPACE / \"Training_Original\" # \"TrainingMapped\" / \"s50_50_50_b50_3950_50_4950_-3950_0\"\n",
    "assert export_folder.exists()\n",
    "import_folder = export_folder #ROOT / \"data\" / PARAMETER_SPACE / \"\"\n",
    "assert import_folder.exists()\n"
   ]
  },
  {
   "cell_type": "code",
   "execution_count": 17,
   "metadata": {},
   "outputs": [],
   "source": [
    "if IS_LOAD_NPY:\n",
    "    temperatures      = np.load(import_folder  / f\"{DATA_TYPE}_temperatures.npy\" )\n",
    "    temperatures_diff = np.load(import_folder  / f\"{DATA_TYPE}_temperatures_diff.npy\" )\n",
    "    sim_times_path = import_folder  / f\"{DATA_TYPE}_sim_times.npy\"\n",
    "    sim_times = np.load(sim_times_path)\n",
    "if IS_LOAD_JOBLIB:\n",
    "    temperatures      = load(import_folder / f\"{DATA_TYPE}_temperatures.joblib\" )\n",
    "    temperatures_diff = load(import_folder / f\"{DATA_TYPE}_temperatures_diff.joblib\" )"
   ]
  },
  {
   "cell_type": "code",
   "execution_count": 18,
   "metadata": {},
   "outputs": [],
   "source": [
    "comsol_data  = COMSOL_VTU( ROOT / \"data\" / PARAMETER_SPACE / \"Training_Original\" / f\"{DATA_TYPE}_000.vtu\")\n",
    "# comsol_data  = COMSOL_VTU(import_folder / \"Training_000_s50_50_50_b50_3950_50_4950_-3950_0.vti\")\n"
   ]
  },
  {
   "cell_type": "markdown",
   "metadata": {},
   "source": [
    "## Plot"
   ]
  },
  {
   "cell_type": "markdown",
   "metadata": {},
   "source": [
    "### Min max temperature difference"
   ]
  },
  {
   "cell_type": "code",
   "execution_count": 19,
   "metadata": {},
   "outputs": [
    {
     "data": {
      "application/vnd.plotly.v1+json": {
       "config": {
        "plotlyServerURL": "https://plot.ly"
       },
       "data": [
        {
         "legendgroup": "000",
         "line": {
          "color": "rgb(0, 0, 131)"
         },
         "name": "000",
         "opacity": 0.4,
         "type": "scatter",
         "x": [
          0,
          1000000000000,
          2000000000000,
          3000000000000,
          4000000000000,
          5000000000000,
          6000000000000,
          7000000000000,
          8000000000000,
          9000000000000,
          10000000000000,
          11000000000000,
          12000000000000,
          13000000000000,
          14000000000000,
          15000000000000,
          16000000000000,
          17000000000000,
          18000000000000,
          19000000000000,
          20000000000000,
          21000000000000,
          22000000000000,
          23000000000000,
          24000000000000,
          25000000000000,
          26000000000000,
          27000000000000,
          28000000000000,
          29000000000000,
          30000000000000,
          31000000000000,
          32000000000000,
          33000000000000,
          34000000000000,
          35000000000000
         ],
         "y": {
          "bdata": "AAAAAAAAQD1geAdRp/5DQNhn0TwPcUVA8J2pzgL1RUA4i4lqwBtGQJgfPnDUJkZAgACBXBwqRkDwyey/7SpGQPiAU1MnK0ZAuPHc4icrRkBIrHOvJytGQIC3+I8nK0ZAmGRxkycrRkC4EeqWJytGQLi+YponK0ZAuM97licrRkConWmRJytGQJhrV4wnK0ZAON5KiScrRkBAE8qJJytGQEhISYonK0ZAcH3IiicrRkAAfKGKJytGQJggYIonK0ZAQMUeiicrRkA4AiWLJytGQPC6aY4nK0ZAuHOukScrRkB4LPOUJytGQDgK8ZUnK0ZAGICSlicrRkD49TOXJytGQPj2qZcnK0ZA+MLTlycrRkD4jv2XJytGQPBaJ5gnK0ZA",
          "dtype": "f8"
         }
        },
        {
         "legendgroup": "000",
         "line": {
          "color": "rgb(0, 0, 131)"
         },
         "name": "000",
         "opacity": 0.4,
         "type": "scatter",
         "x": [
          0,
          1000000000000,
          2000000000000,
          3000000000000,
          4000000000000,
          5000000000000,
          6000000000000,
          7000000000000,
          8000000000000,
          9000000000000,
          10000000000000,
          11000000000000,
          12000000000000,
          13000000000000,
          14000000000000,
          15000000000000,
          16000000000000,
          17000000000000,
          18000000000000,
          19000000000000,
          20000000000000,
          21000000000000,
          22000000000000,
          23000000000000,
          24000000000000,
          25000000000000,
          26000000000000,
          27000000000000,
          28000000000000,
          29000000000000,
          30000000000000,
          31000000000000,
          32000000000000,
          33000000000000,
          34000000000000,
          35000000000000
         ],
         "y": {
          "bdata": "4Gjl2XRYKMDAgHHy7ClHwOBhnK7x8EXAyHS18b+7RcDwKmOYa7FFwAg4rjVgrkXAoGPS2HatRcCodbsLPa1FwLjJHjotrUXAGNlU+iytRcBorF/bLK1FwIA4T8ssrUXAeOpc1SytRcBwnGrfLK1FwGhOeOksrUXAyF3O8SytRcAIut75LK1FwEgW7wEtrUXAmL2BCC2tRcBoBHcMLa1FwEhLbBAtrUXAGJJhFC2tRcAoig8TLa1FwMhF5xAtrUXAcAG/Di2tRcDYEWoMLa1FwPDMxgktrUXAGIgjBy2tRcA4Q4AELa1FwMht6gEtrUXAmLlW/yytRcBYBcP8LK1FwLhM6fosrUXAyLlV+iytRcDYJsL5LK1FwNiTLvksrUXA",
          "dtype": "f8"
         }
        },
        {
         "legendgroup": "001",
         "line": {
          "color": "rgb(0, 3, 133)"
         },
         "name": "001",
         "opacity": 0.4,
         "type": "scatter",
         "x": [
          0,
          1000000000000,
          2000000000000,
          3000000000000,
          4000000000000,
          5000000000000,
          6000000000000,
          7000000000000,
          8000000000000,
          9000000000000,
          10000000000000,
          11000000000000,
          12000000000000,
          13000000000000,
          14000000000000,
          15000000000000,
          16000000000000,
          17000000000000,
          18000000000000,
          19000000000000,
          20000000000000,
          21000000000000,
          22000000000000,
          23000000000000,
          24000000000000,
          25000000000000,
          26000000000000,
          27000000000000,
          28000000000000,
          29000000000000,
          30000000000000,
          31000000000000,
          32000000000000,
          33000000000000,
          34000000000000,
          35000000000000
         ],
         "y": {
          "bdata": "AAAAAAAAQD24cB0NbHpDQJhEFz3r+ERAwO+zLrl3RUDAGkvvxJ1FQEh4jgzmqEVAUK0jxy6sRUBgH2CqAK1FQEiQPFw1rUVAoC6PVzitRUBQemiDOa1FQGCccTc6rUVAUL0elTqtRUBA3svyOq1FQMB4ZUk7rUVAkA3aTzutRUBwok5WO61FQEg3w1w7rUVAsE0aLzutRUAIDuHbOq1FQHDOp4g6rUVAwGxjNzqtRUBgxUf8Oa1FQDAeLME5rUVA4HYQhjmtRUAINnNcOa1FQMDqcT85rUVAUJ9wIjmtRUBAzd8HOa1FQFCp7wg5rUVAiIX/CTmtRUDAYQ8LOa1FQAA66Bc5rUVA4AIbNTmtRUDA+z1cOa1FQKB5GYw5rUVA",
          "dtype": "f8"
         }
        },
        {
         "legendgroup": "001",
         "line": {
          "color": "rgb(0, 3, 133)"
         },
         "name": "001",
         "opacity": 0.4,
         "type": "scatter",
         "x": [
          0,
          1000000000000,
          2000000000000,
          3000000000000,
          4000000000000,
          5000000000000,
          6000000000000,
          7000000000000,
          8000000000000,
          9000000000000,
          10000000000000,
          11000000000000,
          12000000000000,
          13000000000000,
          14000000000000,
          15000000000000,
          16000000000000,
          17000000000000,
          18000000000000,
          19000000000000,
          20000000000000,
          21000000000000,
          22000000000000,
          23000000000000,
          24000000000000,
          25000000000000,
          26000000000000,
          27000000000000,
          28000000000000,
          29000000000000,
          30000000000000,
          31000000000000,
          32000000000000,
          33000000000000,
          34000000000000,
          35000000000000
         ],
         "y": {
          "bdata": "wL5f9sRtKMB42qQRmB5GwKhM+fM8jEXAGH3qm4hnRcDI0zLL/lxFwJjBmtDvWUXA2DxGjghZRcCgDP8I0FhFwACR+UfBWEXAeDlwNcBYRcDIM6vNv1hFwNjLGZS/WEXACIzVe79YRcA4TJFjv1hFwNjvck6/WEXACO77XL9YRcA47IRrv1hFwGDqDXq/WEXASHh8iL9YRcCY99eWv1hFwOh2M6W/WEXA+PDYs79YRcDYS8TFv1hFwLimr9e/WEXAoAGb6b9YRcDYqNTzv1hFwDCVgvi/WEXAmIEw/b9YRcB4lVQBwFhFwPBxX/+/WEXAaE5q/b9YRcDYKnX7v1hFwCj8Jve/WEXAOOGW779YRcDw6wvmv1hFwACJvtq/WEXA",
          "dtype": "f8"
         }
        },
        {
         "legendgroup": "002",
         "line": {
          "color": "rgb(0, 6, 135)"
         },
         "name": "002",
         "opacity": 0.4,
         "type": "scatter",
         "x": [
          0,
          1000000000000,
          2000000000000,
          3000000000000,
          4000000000000,
          5000000000000,
          6000000000000,
          7000000000000,
          8000000000000,
          9000000000000,
          10000000000000,
          11000000000000,
          12000000000000,
          13000000000000,
          14000000000000,
          15000000000000,
          16000000000000,
          17000000000000,
          18000000000000,
          19000000000000,
          20000000000000,
          21000000000000,
          22000000000000,
          23000000000000,
          24000000000000,
          25000000000000,
          26000000000000,
          27000000000000,
          28000000000000,
          29000000000000,
          30000000000000,
          31000000000000,
          32000000000000,
          33000000000000,
          34000000000000,
          35000000000000
         ],
         "y": {
          "bdata": "AAAAAAAAMD0YuyTjHaNIQPhKnXSj/0lA6M0KKK1eSkDo+YqVcHdKQGC9ksLFfUpAGILL60F/SkCYXIm7m39KQOiZv1W1f0pA4J3kKbB/SkAgnmfuqH9KQGie6rKhf0pAmCg2M59/SkDwKNKcnX9KQGgpbgacf0pAcKHx35p/SkBgVBiUmn9KQCgHP0iaf0pA+Lll/Jl/SkCAMv7cmX9KQGBSJcaZf0pAAHJMr5l/SkCoF8mcmX9KQHiEvZKZf0pAYPGxiJl/SkAwXqZ+mX9KQDC0fHuZf0pAMEameZl/SkBQ2M93mX9KQOBdWHiZf0pA8L6CfZl/SkD4H62CmX9KQCCB14eZf0pAKFtNjpl/SkBgBwOVmX9KQJizuJuZf0pA",
          "dtype": "f8"
         }
        },
        {
         "legendgroup": "002",
         "line": {
          "color": "rgb(0, 6, 135)"
         },
         "name": "002",
         "opacity": 0.4,
         "type": "scatter",
         "x": [
          0,
          1000000000000,
          2000000000000,
          3000000000000,
          4000000000000,
          5000000000000,
          6000000000000,
          7000000000000,
          8000000000000,
          9000000000000,
          10000000000000,
          11000000000000,
          12000000000000,
          13000000000000,
          14000000000000,
          15000000000000,
          16000000000000,
          17000000000000,
          18000000000000,
          19000000000000,
          20000000000000,
          21000000000000,
          22000000000000,
          23000000000000,
          24000000000000,
          25000000000000,
          26000000000000,
          27000000000000,
          28000000000000,
          29000000000000,
          30000000000000,
          31000000000000,
          32000000000000,
          33000000000000,
          34000000000000,
          35000000000000
         ],
         "y": {
          "bdata": "4G4L5zh2KMC4BgnWrcVJwEjc2a/GW0nA2OCUxbZAScC4v552szlJwDglSN7mN0nAWP5cyHs3ScDo+VG3YTdJwCgajm5aN0nAqAA2H1w3ScDoVrVLXjdJwEitNHhgN0nAgEfNImE3ScAQ6hiDYTdJwKiMZONhN0nACEY1LGI3ScCI6yVHYjdJwAiRFmJiN0nAkDYHfWI3ScBorzeJYjdJwMAZkZJiN0nAAITqm2I3ScDAaX+jYjdJwAgvoKdiN0nAWPTAq2I3ScCoueGvYjdJwNhllLJiN0nAMJUAtWI3ScCQxGy3YjdJwJCq57hiN0nAECSLuGI3ScCQnS64YjdJwAgX0rdiN0nA+J0XtmI3ScAIxBm0YjdJwCjqG7JiN0nA",
          "dtype": "f8"
         }
        },
        {
         "legendgroup": "003",
         "line": {
          "color": "rgb(0, 9, 137)"
         },
         "name": "003",
         "opacity": 0.4,
         "type": "scatter",
         "x": [
          0,
          1000000000000,
          2000000000000,
          3000000000000,
          4000000000000,
          5000000000000,
          6000000000000,
          7000000000000,
          8000000000000,
          9000000000000,
          10000000000000,
          11000000000000,
          12000000000000,
          13000000000000,
          14000000000000,
          15000000000000,
          16000000000000,
          17000000000000,
          18000000000000,
          19000000000000,
          20000000000000,
          21000000000000,
          22000000000000,
          23000000000000,
          24000000000000,
          25000000000000,
          26000000000000,
          27000000000000,
          28000000000000,
          29000000000000,
          30000000000000,
          31000000000000,
          32000000000000,
          33000000000000,
          34000000000000,
          35000000000000
         ],
         "y": {
          "bdata": "AAAAAAAAMD0oURK+dZdMQOju8jo9ZUtAwHb3swBuS0CIpBBLMIFLQLDXy5UejUtAyGjWr6iQS0CYgsXpjZFLQIC3ODXOkUtA+Pqi2NWRS0CI09ka2ZFLQJjgCRTbkUtAOCBznNyRS0AQd3gR3ZFLQPjNfYbdkUtA8CSD+92RS0BQuE3u3ZFLQLAHYM7dkUtA+FZyrt2RS0CYsPN73ZFLQPhzbCrdkUtAODfl2NyRS0CA+l2H3JFLQHDfrzDckUtAuC9E2duRS0AIgNiB25FLQLjkuTXbkUtACBR//NqRS0BQQ0TD2pFLQLByCYrakUtACDbYdtqRS0DIsh5p2pFLQIgvZVvakUtAAGaJVtqRS0AwX+Zo2pFLQIB7fYfakUtA",
          "dtype": "f8"
         }
        },
        {
         "legendgroup": "003",
         "line": {
          "color": "rgb(0, 9, 137)"
         },
         "name": "003",
         "opacity": 0.4,
         "type": "scatter",
         "x": [
          0,
          1000000000000,
          2000000000000,
          3000000000000,
          4000000000000,
          5000000000000,
          6000000000000,
          7000000000000,
          8000000000000,
          9000000000000,
          10000000000000,
          11000000000000,
          12000000000000,
          13000000000000,
          14000000000000,
          15000000000000,
          16000000000000,
          17000000000000,
          18000000000000,
          19000000000000,
          20000000000000,
          21000000000000,
          22000000000000,
          23000000000000,
          24000000000000,
          25000000000000,
          26000000000000,
          27000000000000,
          28000000000000,
          29000000000000,
          30000000000000,
          31000000000000,
          32000000000000,
          33000000000000,
          34000000000000,
          35000000000000
         ],
         "y": {
          "bdata": "YBDWFy9hKMBwiczaQKVNwMAGJzhngkvAqCADpnAIS8Cosjrjo+NKwEAHU6k42UrAiJw089vVSsDA7gn909RKwIjN3pVw1ErAKLROOFDUSsBA2UpoN9RKwOBhpkcq1ErAqFYyCCDUSsAoKKaMHNRKwIj5GREZ1ErACMuNlRXUSsDgCPvXFtRKwKjX6MgY1ErAiKbWuRrUSsCoOrR9HdRKwAiZJqIh1ErAQPeYxiXUSsCoVQvrKdRKwCihGP4t1ErAiNGlDjLUSsAIAjMfNtRKwEDFCn051ErAYDgssDvUSsCIq03jPdRKwLAebxZA1ErAqMwxtUDUSsCoN9QZQdRKwMCidn5B1ErAYBpDhUHUSsDgYUqWQNRKwOBr6SU/1ErA",
          "dtype": "f8"
         }
        },
        {
         "legendgroup": "004",
         "line": {
          "color": "rgb(0, 12, 139)"
         },
         "name": "004",
         "opacity": 0.4,
         "type": "scatter",
         "x": [
          0,
          1000000000000,
          2000000000000,
          3000000000000,
          4000000000000,
          5000000000000,
          6000000000000,
          7000000000000,
          8000000000000,
          9000000000000,
          10000000000000,
          11000000000000,
          12000000000000,
          13000000000000,
          14000000000000,
          15000000000000,
          16000000000000,
          17000000000000,
          18000000000000,
          19000000000000,
          20000000000000,
          21000000000000,
          22000000000000,
          23000000000000,
          24000000000000,
          25000000000000,
          26000000000000,
          27000000000000,
          28000000000000,
          29000000000000,
          30000000000000,
          31000000000000,
          32000000000000,
          33000000000000,
          34000000000000,
          35000000000000
         ],
         "y": {
          "bdata": "AAAAAAAAVD14aVoqKOJCQBBHiycEUURAoCIXJdbOREDIcNTM1fREQKB9F46N/0RAUBnDMasCRUCQ/kpKfwNFQKgMqqusA0VAkBJqNLIDRUA48FW1rgNFQBArOLKrA0VAUE3qDasDRUCQb5xpqgNFQNCRTsWpA0VAUJngZqkDRUDgxusqqQNFQJD09u6oA0VA4ChIsqgDRUDI/wpyqANFQJjWzTGoA0VAaK2Q8acDRUDYvB4MqANFQBALeFOoA0VAUFnRmqgDRUA4TVTJqANFQChHQn6oA0VAKEEwM6gDRUAgOx7opwNFQNgUH/GnA0VA0G2aI6gDRUDIxhVWqANFQNA1bIKoA0VA4AWvkKgDRUDo1fGeqANFQBCmNK2oA0VA",
          "dtype": "f8"
         }
        },
        {
         "legendgroup": "004",
         "line": {
          "color": "rgb(0, 12, 139)"
         },
         "name": "004",
         "opacity": 0.4,
         "type": "scatter",
         "x": [
          0,
          1000000000000,
          2000000000000,
          3000000000000,
          4000000000000,
          5000000000000,
          6000000000000,
          7000000000000,
          8000000000000,
          9000000000000,
          10000000000000,
          11000000000000,
          12000000000000,
          13000000000000,
          14000000000000,
          15000000000000,
          16000000000000,
          17000000000000,
          18000000000000,
          19000000000000,
          20000000000000,
          21000000000000,
          22000000000000,
          23000000000000,
          24000000000000,
          25000000000000,
          26000000000000,
          27000000000000,
          28000000000000,
          29000000000000,
          30000000000000,
          31000000000000,
          32000000000000,
          33000000000000,
          34000000000000,
          35000000000000
         ],
         "y": {
          "bdata": "oFEyUIZtKMCQZC2T3zxFwHhYgp3pi0TAWHBOndhiRMA4FQQF+lZEwFglSyWnU0TAEPWQfalSRMD4mUKpaVJEwLiyDNdWUkTAWJD7o1dSRMC4DS4kWlJEwJC/cipcUkTAOMrb21tSRMD41ESNW1JEwJDfrT5bUkTA+Jx46lpSRMD4wH2TWlJEwPjkgjxaUkTACOPOAVpSRMBYBIZRWlJEwIglPaFaUkTA2Eb08FpSRMDA9B3iWlJEwHiqoaRaUkTAEGAlZ1pSRMCIxyBHWlJEwICQW7daUkTAeFmWJ1tSRMB4ItGXW1JEwFgM4HNbUkTAePHUBltSRMB41smZWlJEwDjKD0paUkTAEP3XiVpSRMAIMKDJWlJEwABjaAlbUkTA",
          "dtype": "f8"
         }
        },
        {
         "legendgroup": "005",
         "line": {
          "color": "rgb(0, 15, 141)"
         },
         "name": "005",
         "opacity": 0.4,
         "type": "scatter",
         "x": [
          0,
          1000000000000,
          2000000000000,
          3000000000000,
          4000000000000,
          5000000000000,
          6000000000000,
          7000000000000,
          8000000000000,
          9000000000000,
          10000000000000,
          11000000000000,
          12000000000000,
          13000000000000,
          14000000000000,
          15000000000000,
          16000000000000,
          17000000000000,
          18000000000000,
          19000000000000,
          20000000000000,
          21000000000000,
          22000000000000,
          23000000000000,
          24000000000000,
          25000000000000,
          26000000000000,
          27000000000000,
          28000000000000,
          29000000000000,
          30000000000000,
          31000000000000,
          32000000000000,
          33000000000000,
          34000000000000,
          35000000000000
         ],
         "y": {
          "bdata": "AAAAAAAAMD3wPVoR+H49QEjYRcVnDUBAMPiHkox/QECY1yAXCKNAQGD6XDIVr0BA+FTd7umyQED4DvdvhbRAQBD1CdiKtEBAYN1N7JC0QEB4vzTCdbRAQHhhMYi8tEBAMOqdzb+0QEDguBQltbRAQJBgRjGxtEBAePqYDJ60QEAAN6kCqrRAQGAiZw3dtEBAYPaF49i0QEBAj+0owrRAQIAwsWurtEBAgDI827q0QEB4jVYYwbRAQBA3VtuytEBAeK5PZKu0QECQuEsNrrRAQBD6ruOwtEBAEE7hs660QEDgU82fs7RAQHilnLy0tEBAEBzx3rS0QECQgi3btLRAQJBVSD+wtEBA4K7ojKi0QEAQCInaoLRAQJDYfBObtEBA",
          "dtype": "f8"
         }
        },
        {
         "legendgroup": "005",
         "line": {
          "color": "rgb(0, 15, 141)"
         },
         "name": "005",
         "opacity": 0.4,
         "type": "scatter",
         "x": [
          0,
          1000000000000,
          2000000000000,
          3000000000000,
          4000000000000,
          5000000000000,
          6000000000000,
          7000000000000,
          8000000000000,
          9000000000000,
          10000000000000,
          11000000000000,
          12000000000000,
          13000000000000,
          14000000000000,
          15000000000000,
          16000000000000,
          17000000000000,
          18000000000000,
          19000000000000,
          20000000000000,
          21000000000000,
          22000000000000,
          23000000000000,
          24000000000000,
          25000000000000,
          26000000000000,
          27000000000000,
          28000000000000,
          29000000000000,
          30000000000000,
          31000000000000,
          32000000000000,
          33000000000000,
          34000000000000,
          35000000000000
         ],
         "y": {
          "bdata": "IG9696dpKMAorqQ+DMFBwJCc+kiPOEHAyC/FxewKQcDI2Iyssf1AwDBIQUtb+UDAyNSu3kn4QMAQ6gu+kfhAwEjuAK1C+EDASLLAxFP4QMDoOc6cOfhAwAAtCg8r+EDAyPNK3ZP4QMCQUJeypvdAwOjSJPij90DAaAGhx9/3QMAwLiGsO/hAwGgr1Q9b+EDAyNkLA0j4QMDoqumxJPhAwLBbSDLo90DAsK19gZv3QMAQSILJd/dAwMjeTXiG90DASGXWeqf3QMA4ElzSxPdAwHiYtSHT90DAMCNbAub3QMBIftQj4PdAwBDvcoTd90DAyLb4FtX3QMC40JJAy/dAwOhCxmTF90DAOI6TNcL3QMCQ2WAGv/dAwBD2JQi790DA",
          "dtype": "f8"
         }
        },
        {
         "legendgroup": "006",
         "line": {
          "color": "rgb(0, 18, 143)"
         },
         "name": "006",
         "opacity": 0.4,
         "type": "scatter",
         "x": [
          0,
          1000000000000,
          2000000000000,
          3000000000000,
          4000000000000,
          5000000000000,
          6000000000000,
          7000000000000,
          8000000000000,
          9000000000000,
          10000000000000,
          11000000000000,
          12000000000000,
          13000000000000,
          14000000000000,
          15000000000000,
          16000000000000,
          17000000000000,
          18000000000000,
          19000000000000,
          20000000000000,
          21000000000000,
          22000000000000,
          23000000000000,
          24000000000000,
          25000000000000,
          26000000000000,
          27000000000000,
          28000000000000,
          29000000000000,
          30000000000000,
          31000000000000,
          32000000000000,
          33000000000000,
          34000000000000,
          35000000000000
         ],
         "y": {
          "bdata": "AAAAAAAAMD24Go446kBQQBjlH/wij1BAyL+jQf2UUEAc9K694ZdQQEB5wyK4mlBAgJHch0ybUEBM1uncfptQQCAB1ySOm1BAnKAp4IObUEDcCSqXfZtQQCDNaON9m1BAtCIjhX2bUEBcOE+SfJtQQIwMLY57m1BAsOAKinqbUEBUNziLeZtQQNwVgpR4m1BAXPTLnXebUEDg0hWndptQQPBd5yl2m1BAYDPhunWbUEDQCNtLdZtQQLh0lQl1m1BA8GowNHWbUEBQ5dyYdZtQQPDjmjd2m1BAMEy7tXabUEA42bI3d5tQQJCyqsV3m1BAsNWdTnibUEB4LCm6eJtQQFxdnxt5m1BAXGgAc3mbUECQK+vjeZtQQPjDDWB6m1BA",
          "dtype": "f8"
         }
        },
        {
         "legendgroup": "006",
         "line": {
          "color": "rgb(0, 18, 143)"
         },
         "name": "006",
         "opacity": 0.4,
         "type": "scatter",
         "x": [
          0,
          1000000000000,
          2000000000000,
          3000000000000,
          4000000000000,
          5000000000000,
          6000000000000,
          7000000000000,
          8000000000000,
          9000000000000,
          10000000000000,
          11000000000000,
          12000000000000,
          13000000000000,
          14000000000000,
          15000000000000,
          16000000000000,
          17000000000000,
          18000000000000,
          19000000000000,
          20000000000000,
          21000000000000,
          22000000000000,
          23000000000000,
          24000000000000,
          25000000000000,
          26000000000000,
          27000000000000,
          28000000000000,
          29000000000000,
          30000000000000,
          31000000000000,
          32000000000000,
          33000000000000,
          34000000000000,
          35000000000000
         ],
         "y": {
          "bdata": "IBnKg5tdKMAkpU2KeD9QwIh0t9kwyU/AsMTMSV2BT8AIQSbK0GRPwNConwK/WU/AyESNNfVZT8CIsCHnFVxPwOAzxBPrXE/AwCsicQJdT8BYEYJV9FxPwIgXqhoSXU/AEAMgDjldT8BgILbqZV1PwMD4kHeTXU/AANFrBMFdT8BI28nW611PwFgpR34SXk/AiHfEJTleT8CgxUHNX15PwGjVQ8V6Xk/AEFvJYJReT8DI4E78rV5PwJiOpB/DXk/AyO1NY81eT8DAAFPa0V5PwEjHs4TQXk/A0BnFssdeT8BIFRASuF5PwAhkbcmhXk/AKAJfZoZeT8BI+nkiaF5PwNi4cDpFXk/AAD5Drh1eT8AI3xXM+V1PwFgALT3WXU/A",
          "dtype": "f8"
         }
        },
        {
         "legendgroup": "007",
         "line": {
          "color": "rgb(0, 21, 145)"
         },
         "name": "007",
         "opacity": 0.4,
         "type": "scatter",
         "x": [
          0,
          1000000000000,
          2000000000000,
          3000000000000,
          4000000000000,
          5000000000000,
          6000000000000,
          7000000000000,
          8000000000000,
          9000000000000,
          10000000000000,
          11000000000000,
          12000000000000,
          13000000000000,
          14000000000000,
          15000000000000,
          16000000000000,
          17000000000000,
          18000000000000,
          19000000000000,
          20000000000000,
          21000000000000,
          22000000000000,
          23000000000000,
          24000000000000,
          25000000000000,
          26000000000000,
          27000000000000,
          28000000000000,
          29000000000000,
          30000000000000,
          31000000000000,
          32000000000000,
          33000000000000,
          34000000000000,
          35000000000000
         ],
         "y": {
          "bdata": "AAAAAAAAQD3YG3JGiNFIQAiyXZzgUkpA6Dh5ICixSkCgwFGdMslKQCAbkVb/zkpAcCydhH3QSkCII+SjwdBKQIi32+fO0EpA6A2gSM7QSkAwHnX8y9BKQKgLDG7K0EpAqK0BuMnQSkCoT/cBydBKQKjx7EvI0EpAaO2IecfQSkD4EC+mxtBKQKA01dLF0EpAwOiM7cTQSkBoY9Lzw9BKQPjdF/rC0EpAqFhdAMLQSkAo71mnwdBKQOgxyFPB0EpAoHQ2AMHQSkAIj7CCwNBKQCg+VNW/0EpASO33J7/QSkBonJt6vtBKQMBPzCO/0EpAwIGX2L/QSkCos2KNwNBKQKgKv43A0EpA6HNewL/QSkAI3f3yvtBKQEBGnSW+0EpA",
          "dtype": "f8"
         }
        },
        {
         "legendgroup": "007",
         "line": {
          "color": "rgb(0, 21, 145)"
         },
         "name": "007",
         "opacity": 0.4,
         "type": "scatter",
         "x": [
          0,
          1000000000000,
          2000000000000,
          3000000000000,
          4000000000000,
          5000000000000,
          6000000000000,
          7000000000000,
          8000000000000,
          9000000000000,
          10000000000000,
          11000000000000,
          12000000000000,
          13000000000000,
          14000000000000,
          15000000000000,
          16000000000000,
          17000000000000,
          18000000000000,
          19000000000000,
          20000000000000,
          21000000000000,
          22000000000000,
          23000000000000,
          24000000000000,
          25000000000000,
          26000000000000,
          27000000000000,
          28000000000000,
          29000000000000,
          30000000000000,
          31000000000000,
          32000000000000,
          33000000000000,
          34000000000000,
          35000000000000
         ],
         "y": {
          "bdata": "YLW9o5JdKMDIRn6MMulJwGjyA2s4iUnAyH9WS/twScAwzdnARGpJwHipy8aiaEnAuK+NozNoScCwN7FlHmhJwPjohTgeaEnAOMJ5xSFoScBwkQHKJGhJwHihCocmaEnAaOqmziZoScA4M0MWJ2hJwCh8310naEnAyBvytyZoScD44PgJJmhJwCim/1slaEnAIKOsniRoScAotdjPI2hJwDDHBAEjaEnAMNkwMiJoScDI+9/AIWhJwHgGulIhaEnAMBGU5CBoScAoX4F/IGhJwGjExyQgaEnAqCkOyh9oScDojlRvH2hJwPBGrqofaEnAaGcd6x9oScDoh4wrIGhJwCisBUIgaEnAoE+mKCBoScAI80YPIGhJwHCW5/UfaEnA",
          "dtype": "f8"
         }
        },
        {
         "legendgroup": "008",
         "line": {
          "color": "rgb(0, 24, 147)"
         },
         "name": "008",
         "opacity": 0.4,
         "type": "scatter",
         "x": [
          0,
          1000000000000,
          2000000000000,
          3000000000000,
          4000000000000,
          5000000000000,
          6000000000000,
          7000000000000,
          8000000000000,
          9000000000000,
          10000000000000,
          11000000000000,
          12000000000000,
          13000000000000,
          14000000000000,
          15000000000000,
          16000000000000,
          17000000000000,
          18000000000000,
          19000000000000,
          20000000000000,
          21000000000000,
          22000000000000,
          23000000000000,
          24000000000000,
          25000000000000,
          26000000000000,
          27000000000000,
          28000000000000,
          29000000000000,
          30000000000000,
          31000000000000,
          32000000000000,
          33000000000000,
          34000000000000,
          35000000000000
         ],
         "y": {
          "bdata": "AAAAAAAAWD0IrorLkEFDQKiCvBKs5kRASKA3NXB3RUCoBoPJSaJFQNgTuHwZr0VAiFE1rq+yRUB4b3OpyLNFQCBiqO8EtEVASAmayg+0RUBIKStGELRFQFioQKINtEVAeCdW/gq0RUAIpb7rCbRFQKhl4FIJtEVAWCYCugi0RUDYXlNFCLRFQKBo1zMItEVAiHJbIgi0RUBQfN8QCLRFQND5YgwItEVACLPXCwi0RUAgbEwLCLRFQNhTxAoItEVAePRECgi0RUAIlcUJCLRFQKA1RgkItEVA2Fd2CQi0RUCItdsJCLRFQCATQQoItEVAmJR4Cgi0RUDIXTIKCLRFQNgm7AkItEVACPClCQi0RUCQlbYJCLRFQJCT4QkItEVA",
          "dtype": "f8"
         }
        },
        {
         "legendgroup": "008",
         "line": {
          "color": "rgb(0, 24, 147)"
         },
         "name": "008",
         "opacity": 0.4,
         "type": "scatter",
         "x": [
          0,
          1000000000000,
          2000000000000,
          3000000000000,
          4000000000000,
          5000000000000,
          6000000000000,
          7000000000000,
          8000000000000,
          9000000000000,
          10000000000000,
          11000000000000,
          12000000000000,
          13000000000000,
          14000000000000,
          15000000000000,
          16000000000000,
          17000000000000,
          18000000000000,
          19000000000000,
          20000000000000,
          21000000000000,
          22000000000000,
          23000000000000,
          24000000000000,
          25000000000000,
          26000000000000,
          27000000000000,
          28000000000000,
          29000000000000,
          30000000000000,
          31000000000000,
          32000000000000,
          33000000000000,
          34000000000000,
          35000000000000
         ],
         "y": {
          "bdata": "wCdExLOPKMCgCsRusX1GwPA26D5HZ0XAEAdADqw2RcAYFaK2tSlFwIj8mX/lJUXAiGKV2dUkRcCY8pzQgiRFwPB04+VwJEXAOKt4sW0kRcCIR4mXbSRFwBCI3mJuJEXAkMgzLm8kRcAIV2l5byRFwJiUwp1vJEXASNIbwm8kRcDgKx3fbyRFwIj//OdvJEXASNPc8G8kRcAQp7z5byRFwHBIi/1vJEXAcHfQ/28kRcBwphUCcCRFwJjJwANwJEXAuJ/FA3AkRcDwdcoDcCRFwBBMzwNwJEXACHAiBHAkRcAYVI0EcCRFwBg4+ARwJEXACEE/BXAkRcDw/SMFcCRFwLi6CAVwJEXAmHftBHAkRcAIxQQFcCRFwHBoKwVwJEXA",
          "dtype": "f8"
         }
        },
        {
         "legendgroup": "009",
         "line": {
          "color": "rgb(0, 27, 149)"
         },
         "name": "009",
         "opacity": 0.4,
         "type": "scatter",
         "x": [
          0,
          1000000000000,
          2000000000000,
          3000000000000,
          4000000000000,
          5000000000000,
          6000000000000,
          7000000000000,
          8000000000000,
          9000000000000,
          10000000000000,
          11000000000000,
          12000000000000,
          13000000000000,
          14000000000000,
          15000000000000,
          16000000000000,
          17000000000000,
          18000000000000,
          19000000000000,
          20000000000000,
          21000000000000,
          22000000000000,
          23000000000000,
          24000000000000,
          25000000000000,
          26000000000000,
          27000000000000,
          28000000000000,
          29000000000000,
          30000000000000,
          31000000000000,
          32000000000000,
          33000000000000,
          34000000000000,
          35000000000000
         ],
         "y": {
          "bdata": "AAAAAAAAQD2II3G1QVxMQCB3c7/jm0xAcHRhpS7jTEBIxqT1cAFNQGCV9jrdCU1AWLUpzv0LTUBI2bw2UgxNQPihdZd7DE1AOLcpB5sMTUCYMGc8swxNQCBhRubEDE1AWEWmT84MTUBoKQa51wxNQKANZiLhDE1AaDpM194MTUCIiLXU2wxNQKjWHtLYDE1A6Gw2a9MMTUAY4DgAywxNQDhTO5XCDE1AaMY9KroMTUAYWpV/sQxNQBjgBtGoDE1A+GV4IqAMTUDodfN+mQxNQFj1726VDE1AqHTsXpEMTUAI9OhOjQxNQGi5RPiMDE1AaJgB3IwMTUCId76/jAxNQIh9EIONDE1AaAk+GZAMTUBYy96vkwxNQEjD8kaYDE1A",
          "dtype": "f8"
         }
        },
        {
         "legendgroup": "009",
         "line": {
          "color": "rgb(0, 27, 149)"
         },
         "name": "009",
         "opacity": 0.4,
         "type": "scatter",
         "x": [
          0,
          1000000000000,
          2000000000000,
          3000000000000,
          4000000000000,
          5000000000000,
          6000000000000,
          7000000000000,
          8000000000000,
          9000000000000,
          10000000000000,
          11000000000000,
          12000000000000,
          13000000000000,
          14000000000000,
          15000000000000,
          16000000000000,
          17000000000000,
          18000000000000,
          19000000000000,
          20000000000000,
          21000000000000,
          22000000000000,
          23000000000000,
          24000000000000,
          25000000000000,
          26000000000000,
          27000000000000,
          28000000000000,
          29000000000000,
          30000000000000,
          31000000000000,
          32000000000000,
          33000000000000,
          34000000000000,
          35000000000000
         ],
         "y": {
          "bdata": "IBOxAQtlKMB4wNxZrTlNwNg2F7PN70vAkLzRNM6hS8B4P+FasZhLwDC/P3lDmkvAyHIv3beaS8Cow7awtJpLwLAX4+fGmkvAoPG1i+iaS8D4v7pRBZtLwKg6ezgam0vA+BUnMiWbS8A48dIrMJtLwHjMfiU7m0vA6G6BhDmbS8C4zO4dN5tLwHgqXLc0m0vACDuTwC+bS8CIx1yOJ5tLwPhTJlwfm0vAcODvKRebS8BIgmbDDptLwOjoqFkGm0vAcE/r7/2aS8Cg4gNr95pLwCDycknzmkvAeAHiJ++aS8DwEFEG65pLwHjgYnbqmkvAyOBmHuqaS8Ao4WrG6ZpLwEgInFLqmkvA6EhAu+yaS8B4n5wp8JpLwDgMsZ30mkvA",
          "dtype": "f8"
         }
        },
        {
         "legendgroup": "010",
         "line": {
          "color": "rgb(0, 30, 150)"
         },
         "name": "010",
         "opacity": 0.4,
         "type": "scatter",
         "x": [
          0,
          1000000000000,
          2000000000000,
          3000000000000,
          4000000000000,
          5000000000000,
          6000000000000,
          7000000000000,
          8000000000000,
          9000000000000,
          10000000000000,
          11000000000000,
          12000000000000,
          13000000000000,
          14000000000000,
          15000000000000,
          16000000000000,
          17000000000000,
          18000000000000,
          19000000000000,
          20000000000000,
          21000000000000,
          22000000000000,
          23000000000000,
          24000000000000,
          25000000000000,
          26000000000000,
          27000000000000,
          28000000000000,
          29000000000000,
          30000000000000,
          31000000000000,
          32000000000000,
          33000000000000,
          34000000000000,
          35000000000000
         ],
         "y": {
          "bdata": "AAAAAAAAMD0AbV35Jw5JQDgrm627HEpAWN+R8UuBSkDoIDTrtppKQADI2ID7oEpAuKnAeJGiSkCwLjdO2aJKQDhaW03rokpA6FGJYeeiSkDoA7Vu46JKQKiGWBHiokpAEGOkI+GiSkBwP/A14KJKQAgxVWvfokpAaB5W4N6iSkDIC1dV3qJKQDj5V8rdokpAKIY9Rt2iSkCw8kzD3KJKQDhfXEDcokpACEgcxtuiSkAotJtb26JKQFggG/HaokpAkIyahtqiSkAwWlNZ2qJKQJDdYTbaokpA6GBwE9qiSkAQ6Cj22aJKQCBZJePZokpAKMoh0NmiSkAoOx692aJKQDDarO3ZokpAMHSjKdqiSkAoDppl2qJKQBAfuYzaokpA",
          "dtype": "f8"
         }
        },
        {
         "legendgroup": "010",
         "line": {
          "color": "rgb(0, 30, 150)"
         },
         "name": "010",
         "opacity": 0.4,
         "type": "scatter",
         "x": [
          0,
          1000000000000,
          2000000000000,
          3000000000000,
          4000000000000,
          5000000000000,
          6000000000000,
          7000000000000,
          8000000000000,
          9000000000000,
          10000000000000,
          11000000000000,
          12000000000000,
          13000000000000,
          14000000000000,
          15000000000000,
          16000000000000,
          17000000000000,
          18000000000000,
          19000000000000,
          20000000000000,
          21000000000000,
          22000000000000,
          23000000000000,
          24000000000000,
          25000000000000,
          26000000000000,
          27000000000000,
          28000000000000,
          29000000000000,
          30000000000000,
          31000000000000,
          32000000000000,
          33000000000000,
          34000000000000,
          35000000000000
         ],
         "y": {
          "bdata": "gCiHaFJgKMD4Az+XoUVKwGggx/GeYknAMH4MpwBEScC4PWH6NzxJwEiCgitKOknAsNBLP805ScAAhLMdtzlJwGhVEHqxOUnAkMFma7I5ScB4LcNeszlJwEii4KWzOUnAML3qz7M5ScAw2PT5szlJwMgQjiu0OUnAyF3aarQ5ScDoqiaqtDlJwAD4cum0OUnAsAb9LrU5ScAAypR1tTlJwEiNLLy1OUnAaHQ2/bU5ScBIeC80tjlJwEh8KGu2OUnAMIAhorY5ScDIQIO+tjlJwMjrZ9a2OUnAsJZM7rY5ScDIbC4BtzlJwEhX+wq3OUnAyEHIFLc5ScA4LJUetzlJwJBazAi3OUnAAKSu7bY5ScBo7ZDStjlJwOgpWb+2OUnA",
          "dtype": "f8"
         }
        },
        {
         "legendgroup": "011",
         "line": {
          "color": "rgb(0, 33, 152)"
         },
         "name": "011",
         "opacity": 0.4,
         "type": "scatter",
         "x": [
          0,
          1000000000000,
          2000000000000,
          3000000000000,
          4000000000000,
          5000000000000,
          6000000000000,
          7000000000000,
          8000000000000,
          9000000000000,
          10000000000000,
          11000000000000,
          12000000000000,
          13000000000000,
          14000000000000,
          15000000000000,
          16000000000000,
          17000000000000,
          18000000000000,
          19000000000000,
          20000000000000,
          21000000000000,
          22000000000000,
          23000000000000,
          24000000000000,
          25000000000000,
          26000000000000,
          27000000000000,
          28000000000000,
          29000000000000,
          30000000000000,
          31000000000000,
          32000000000000,
          33000000000000,
          34000000000000,
          35000000000000
         ],
         "y": {
          "bdata": "AAAAAAAAAACw+ro06hQ8QED7a+o0AT9A8EG68HFWP0DAG4RGqM8/QHD50O4M/D9AAFjhckT3P0BQy5tum/w/QPAMDYb0/T9AAGlcTZr9P0Bwo74tK/4/QMBq9xVQ/j9A0GroXDL+P0BQRCz1O/4/QOB/UVpF/j9AYHQUg07+P0DQJSzNPv4/QGA7UtRL/j9AgFHtI2T+P0DQ0cnUUv4/QPBhzTU+/j9AUCG2ZUL+P0DwHD+wdf4/QGBpjnNe/j9A4NrrpUH+P0BAf3O1L/4/QOC+Grpz/j9AgDFCM27+P0CAsOEzSf4/QOCvagEh/j9AwE7Humz+P0BARLWyWv4/QMDlWZcC/j9AQIvlDUL+P0CAEW3HSP4/QPAXggVN/j9A",
          "dtype": "f8"
         }
        },
        {
         "legendgroup": "011",
         "line": {
          "color": "rgb(0, 33, 152)"
         },
         "name": "011",
         "opacity": 0.4,
         "type": "scatter",
         "x": [
          0,
          1000000000000,
          2000000000000,
          3000000000000,
          4000000000000,
          5000000000000,
          6000000000000,
          7000000000000,
          8000000000000,
          9000000000000,
          10000000000000,
          11000000000000,
          12000000000000,
          13000000000000,
          14000000000000,
          15000000000000,
          16000000000000,
          17000000000000,
          18000000000000,
          19000000000000,
          20000000000000,
          21000000000000,
          22000000000000,
          23000000000000,
          24000000000000,
          25000000000000,
          26000000000000,
          27000000000000,
          28000000000000,
          29000000000000,
          30000000000000,
          31000000000000,
          32000000000000,
          33000000000000,
          34000000000000,
          35000000000000
         ],
         "y": {
          "bdata": "YKl8WUtVKMBgxh4S0HVBwIDxPsxI1EDAeF10dakPQcC4hUu9WaNAwOC6wyeBm0DASCnjXAKlQMAYAp+IhZ9AwNibTLnln0DAKD9dE7GeQMBQbJFtZ55AwCj+2a1Dn0DAuDukBPqeQMA4jkCGlZ5AwJinYxiLnkDACKLcx7eeQMB4WVWltZ5AwCj9IGgYn0DAiCGgCo6fQMCgrD/mEJ9AwCj2QkvInkDAYAD1LACfQMBQW2YGBaBAwPic3Ylun0DAuMjC0+aeQMCYCPV+t55AwBjzJc0NoEDAyAvU69SfQMAQ6UJlDZ9AwPjk6792nkDA2Ok2rAKgQMAwIg05pp9AwOBrx0a9nUDAyLKpKWieQMD430SR/p5AwIiZk/X9nkDA",
          "dtype": "f8"
         }
        },
        {
         "legendgroup": "012",
         "line": {
          "color": "rgb(0, 36, 154)"
         },
         "name": "012",
         "opacity": 0.4,
         "type": "scatter",
         "x": [
          0,
          1000000000000,
          2000000000000,
          3000000000000,
          4000000000000,
          5000000000000,
          6000000000000,
          7000000000000,
          8000000000000,
          9000000000000,
          10000000000000,
          11000000000000,
          12000000000000,
          13000000000000,
          14000000000000,
          15000000000000,
          16000000000000,
          17000000000000,
          18000000000000,
          19000000000000,
          20000000000000,
          21000000000000,
          22000000000000,
          23000000000000,
          24000000000000,
          25000000000000,
          26000000000000,
          27000000000000,
          28000000000000,
          29000000000000,
          30000000000000,
          31000000000000,
          32000000000000,
          33000000000000,
          34000000000000,
          35000000000000
         ],
         "y": {
          "bdata": "AAAAAAAAMD1QsInf2KpIQOArw05ilUFAiAqL94ThQUDoViE9HBxCQOjBCwV7LkJAiNtd2gM1QkDQ/pd2AjdCQLBbB0WjN0JAsN77oNA3QkDokib31TdCQNA2rgjYN0JACDOIoNk3QkDo6IrY2TdCQNCejRDaN0JAiFSQSNo3QkDorklJ2jdCQIjpQjjaN0JAMCQ8J9o3QkDQCUIZ2jdCQLBJGRTaN0JAmInwDto3QkBoyccJ2jdCQBitCw7aN0JA6CxWFdo3QkDQrKAc2jdCQJgjySHaN0JA6LTGINo3QkBQRsQf2jdCQIjXwR7aN0JAUBIYI9o3QkBouiUp2jdCQGhiMy/aN0JA6NQfNNo3QkCIAsg12jdCQDAwcDfaN0JA",
          "dtype": "f8"
         }
        },
        {
         "legendgroup": "012",
         "line": {
          "color": "rgb(0, 36, 154)"
         },
         "name": "012",
         "opacity": 0.4,
         "type": "scatter",
         "x": [
          0,
          1000000000000,
          2000000000000,
          3000000000000,
          4000000000000,
          5000000000000,
          6000000000000,
          7000000000000,
          8000000000000,
          9000000000000,
          10000000000000,
          11000000000000,
          12000000000000,
          13000000000000,
          14000000000000,
          15000000000000,
          16000000000000,
          17000000000000,
          18000000000000,
          19000000000000,
          20000000000000,
          21000000000000,
          22000000000000,
          23000000000000,
          24000000000000,
          25000000000000,
          26000000000000,
          27000000000000,
          28000000000000,
          29000000000000,
          30000000000000,
          31000000000000,
          32000000000000,
          33000000000000,
          34000000000000,
          35000000000000
         ],
         "y": {
          "bdata": "ABzxghZVKMDY0NzFdZ1GwOB310U6rEPAqFEOhu/wQsB4tteQfeJCwEix+2Vn3ELA+OwKt8DaQsDYmpJZOtpCwEj6bzwU2kLAKI8/UQfaQsBYTLErBtpCwKh83z8G2kLAeO/qTgbaQsD4uRxPBtpCwHiETk8G2kLA+E6ATwbaQsB46PIwBtpCwFhbhggG2kLASM4Z4AXaQsD4nnDCBdpCwKjC5sMF2kLASOZcxQXaQsDYCdPGBdpCwHiy+8oF2kLAWA4C0AXaQsBIagjVBdpCwEgkgtcF2kLAeL2c0gXaQsDIVrfNBdpCwNjv0cgF2kLA0OO9zAXaQsDImH7TBdpCwHhNP9oF2kLA2DvU3gXaQsBYGiLdBdpCwNj4b9sF2kLA",
          "dtype": "f8"
         }
        },
        {
         "legendgroup": "013",
         "line": {
          "color": "rgb(0, 39, 156)"
         },
         "name": "013",
         "opacity": 0.4,
         "type": "scatter",
         "x": [
          0,
          1000000000000,
          2000000000000,
          3000000000000,
          4000000000000,
          5000000000000,
          6000000000000,
          7000000000000,
          8000000000000,
          9000000000000,
          10000000000000,
          11000000000000,
          12000000000000,
          13000000000000,
          14000000000000,
          15000000000000,
          16000000000000,
          17000000000000,
          18000000000000,
          19000000000000,
          20000000000000,
          21000000000000,
          22000000000000,
          23000000000000,
          24000000000000,
          25000000000000,
          26000000000000,
          27000000000000,
          28000000000000,
          29000000000000,
          30000000000000,
          31000000000000,
          32000000000000,
          33000000000000,
          34000000000000,
          35000000000000
         ],
         "y": {
          "bdata": "AAAAAAAAMD2YijhwBeNSQDyrmbLxK1JATBo5lSXaUUD8mv5Cx6xRQGSgxg6PklFAfJim0F7OUUB8H75y68RRQGx78arvulFA0OkCB4GzUUAsKXEg7a1RQOiK1z93qVFAvHjORASmUUCcb399iKNRQDiOurzLoVFAaHFrir+gUUBsiy+gKqBRQLiio2/rn1FApBI+3+KfUUC80vDP159RQLxLLtXIn1FA/NOVnKmfUUBAXP1jip9RQCyznktnn1FAZAlZhDqfUUCkXxO9DZ9RQGBZdLvgnlFA/NPiM7GeUUCMTlGsgZ5RQCDJvyRSnlFA/AY4YSaeUUD8TqpP/Z1RQPyWHD7UnVFAwEU6JKydUUA8ryTAjp1RQLAYD1xxnVFA",
          "dtype": "f8"
         }
        },
        {
         "legendgroup": "013",
         "line": {
          "color": "rgb(0, 39, 156)"
         },
         "name": "013",
         "opacity": 0.4,
         "type": "scatter",
         "x": [
          0,
          1000000000000,
          2000000000000,
          3000000000000,
          4000000000000,
          5000000000000,
          6000000000000,
          7000000000000,
          8000000000000,
          9000000000000,
          10000000000000,
          11000000000000,
          12000000000000,
          13000000000000,
          14000000000000,
          15000000000000,
          16000000000000,
          17000000000000,
          18000000000000,
          19000000000000,
          20000000000000,
          21000000000000,
          22000000000000,
          23000000000000,
          24000000000000,
          25000000000000,
          26000000000000,
          27000000000000,
          28000000000000,
          29000000000000,
          30000000000000,
          31000000000000,
          32000000000000,
          33000000000000,
          34000000000000,
          35000000000000
         ],
         "y": {
          "bdata": "YExKto9RKMDMSdK9bklRwDAYjcQG2FDAXHWdUG+iUMCkfifyroRQwEye/hkCc1DA4MywFLeyUMC4Wen3aqRQwHi6ODjvmlDAQM2Krp2UUMCAjPgiSpBQwOBVZkjpjFDAYKDVR0SKUMCIxmLLTYhQwCjWzwDthlDAkGqK8haGUMDIUOsuoYVQwJhNrRhwhVDAcE89KmuFUMDYrk2rZIVQwKggm3ZahVDAiO36WUKFUMBkulo9KoVQwNDknhUPhVDAyC+JUuyEUMDIenOPyYRQwNC60qimhFDA5Pm3OIKEUMAAOZ3IXYRQwBh4glg5hFDAuJhiEBiEUMDIT4sK+YNQwNgGtATag1DAAONQuLuDUMCQcvlwpYNQwCQCoimPg1DA",
          "dtype": "f8"
         }
        },
        {
         "legendgroup": "014",
         "line": {
          "color": "rgb(0, 42, 158)"
         },
         "name": "014",
         "opacity": 0.4,
         "type": "scatter",
         "x": [
          0,
          1000000000000,
          2000000000000,
          3000000000000,
          4000000000000,
          5000000000000,
          6000000000000,
          7000000000000,
          8000000000000,
          9000000000000,
          10000000000000,
          11000000000000,
          12000000000000,
          13000000000000,
          14000000000000,
          15000000000000,
          16000000000000,
          17000000000000,
          18000000000000,
          19000000000000,
          20000000000000,
          21000000000000,
          22000000000000,
          23000000000000,
          24000000000000,
          25000000000000,
          26000000000000,
          27000000000000,
          28000000000000,
          29000000000000,
          30000000000000,
          31000000000000,
          32000000000000,
          33000000000000,
          34000000000000,
          35000000000000
         ],
         "y": {
          "bdata": "AAAAAAAAMD0w7ffx1IZKQOCKcVoPFEpAuBKy40DUSUDY+LK5D7VJQKAPs4OurElAmHo6L7apSUB4umDh1KdJQKCgY+gdp0lAmObzydimSUB4d2PhoKZJQChn8+V9pklAUHGgqmGmSUBYe01vRaZJQKjDiiovpklAWEPq7yKmSUAQw0m1FqZJQKhCqXoKpklAqIhxJgmmSUAAw4FpCaZJQFD9kawJpklA2K7yXwymSUAwC20uE6ZJQKhn5/wZpklAGMRhyyCmSUCgcE16KKZJQCBw+0kwpklAoG+pGTimSUCgSAPPPqZJQKB2CKlDpklAqKQNg0imSUCo0hJdTaZJQLCtAHtPpklAOI2/MlGmSUC4bH7qUqZJQCizffNTpklA",
          "dtype": "f8"
         }
        },
        {
         "legendgroup": "014",
         "line": {
          "color": "rgb(0, 42, 158)"
         },
         "name": "014",
         "opacity": 0.4,
         "type": "scatter",
         "x": [
          0,
          1000000000000,
          2000000000000,
          3000000000000,
          4000000000000,
          5000000000000,
          6000000000000,
          7000000000000,
          8000000000000,
          9000000000000,
          10000000000000,
          11000000000000,
          12000000000000,
          13000000000000,
          14000000000000,
          15000000000000,
          16000000000000,
          17000000000000,
          18000000000000,
          19000000000000,
          20000000000000,
          21000000000000,
          22000000000000,
          23000000000000,
          24000000000000,
          25000000000000,
          26000000000000,
          27000000000000,
          28000000000000,
          29000000000000,
          30000000000000,
          31000000000000,
          32000000000000,
          33000000000000,
          34000000000000,
          35000000000000
         ],
         "y": {
          "bdata": "AK9rVfZMKMCY1MNYFcdPwNjMB16RCEzAeBbo0DdNSsDI0lvtGrFJwFg/2grRhUnA8OIyu094ScA44H8TenhJwFjpa7GKeEnAODObXJN4ScA4xGxPlnhJwNgLX4+YeEnAEMnjqaR4ScCAeyhrwXhJwNhQhX/YeEnA2KzCBeZ4ScDYCACM83hJwMBkPRIBeUnAaIuUuQJ5ScCQ4l6lAnlJwMg5KZECeUnAMGh43P94ScBo35W7+HhJwJhWs5rxeEnA2M3Qeep4ScDIVkxx4nhJwPDl+EbaeEnAEHWlHNJ4ScAQoosFy3hJwJDH0L3FeEnAGO0VdsB4ScCYElsuu3hJwGg0X8G4eEnAaL4Lv7Z4ScBoSLi8tHhJwBhV5nOzeEnA",
          "dtype": "f8"
         }
        },
        {
         "legendgroup": "015",
         "line": {
          "color": "rgb(0, 45, 160)"
         },
         "name": "015",
         "opacity": 0.4,
         "type": "scatter",
         "x": [
          0,
          1000000000000,
          2000000000000,
          3000000000000,
          4000000000000,
          5000000000000,
          6000000000000,
          7000000000000,
          8000000000000,
          9000000000000,
          10000000000000,
          11000000000000,
          12000000000000,
          13000000000000,
          14000000000000,
          15000000000000,
          16000000000000,
          17000000000000,
          18000000000000,
          19000000000000,
          20000000000000,
          21000000000000,
          22000000000000,
          23000000000000,
          24000000000000,
          25000000000000,
          26000000000000,
          27000000000000,
          28000000000000,
          29000000000000,
          30000000000000,
          31000000000000,
          32000000000000,
          33000000000000,
          34000000000000,
          35000000000000
         ],
         "y": {
          "bdata": "AAAAAAAAMD3gK2KSLPw+QGCgJjCvvkBA2A7OYEAkQUDgSg3ruUVBQHgb9jD+T0FA+FvY/Y5TQUDoYeu3+lRBQOB2hAYDVUFAKNI7SeFUQUAojFKNuVRBQOBHWyDGVEFAqLBDzixVQUCg06Jvw1VBQKD2ARFaVkFAIHsaJPJUQUDYHvG0mVRBQGAYtjp+VEFAYETKlyVVQUD49per7VRBQFhRpVr9VEFAWAmGTAZVQUDYwkL9CVVBQKBq5lQOVUFA+LMQ0P5UQUBgIgx6AlVBQFgfAMQDVUFAOFzoegJVQUAgS3nmAVVBQHhZMXoEVUFAMPjTSwNVQUC4dQDhAVVBQLjiLHIAVUFAuBYgdARVQUCYXX58ClVBQGCk3IQQVUFA",
          "dtype": "f8"
         }
        },
        {
         "legendgroup": "015",
         "line": {
          "color": "rgb(0, 45, 160)"
         },
         "name": "015",
         "opacity": 0.4,
         "type": "scatter",
         "x": [
          0,
          1000000000000,
          2000000000000,
          3000000000000,
          4000000000000,
          5000000000000,
          6000000000000,
          7000000000000,
          8000000000000,
          9000000000000,
          10000000000000,
          11000000000000,
          12000000000000,
          13000000000000,
          14000000000000,
          15000000000000,
          16000000000000,
          17000000000000,
          18000000000000,
          19000000000000,
          20000000000000,
          21000000000000,
          22000000000000,
          23000000000000,
          24000000000000,
          25000000000000,
          26000000000000,
          27000000000000,
          28000000000000,
          29000000000000,
          30000000000000,
          31000000000000,
          32000000000000,
          33000000000000,
          34000000000000,
          35000000000000
         ],
         "y": {
          "bdata": "oM2rSUNbKMBoD/vkL1JCwChWJFCvrkHA2EsOWiGCQcAIH0ahE3VBwFjuYRqgcEHAuJ49X0FxQcCwKIYzrm9BwOicI150b0HAgBMvCjFwQcBIImnTsXBBwAhat64YcUHA+MUtupluQcBg8MsAkGpBwLgaakeGZkHAaL6Tkk1rQcCob0icLnBBwODhV4PSckHAsKM5wxByQcB4tu65pXBBwJiO0nY1cEHAGP0e9+ZvQcAo5wKNq29BwCA7lnN3b0HAqNf+u7RvQcAAFZhgyG9BwKijhqbHb0HASMfy6M5vQcBYVlNJ129BwMixs6jJb0HAOOB6NMxvQcDgsBK2029BwBj5rYvbb0HAyGPoBL1vQcCIQs02kG9BwFghsmhjb0HA",
          "dtype": "f8"
         }
        },
        {
         "legendgroup": "016",
         "line": {
          "color": "rgb(0, 48, 162)"
         },
         "name": "016",
         "opacity": 0.4,
         "type": "scatter",
         "x": [
          0,
          1000000000000,
          2000000000000,
          3000000000000,
          4000000000000,
          5000000000000,
          6000000000000,
          7000000000000,
          8000000000000,
          9000000000000,
          10000000000000,
          11000000000000,
          12000000000000,
          13000000000000,
          14000000000000,
          15000000000000,
          16000000000000,
          17000000000000,
          18000000000000,
          19000000000000,
          20000000000000,
          21000000000000,
          22000000000000,
          23000000000000,
          24000000000000,
          25000000000000,
          26000000000000,
          27000000000000,
          28000000000000,
          29000000000000,
          30000000000000,
          31000000000000,
          32000000000000,
          33000000000000,
          34000000000000,
          35000000000000
         ],
         "y": {
          "bdata": "AAAAAAAAMD1Y1Z8CRvNAQJAgCS2qRUJAUM4EFA3BQkDICjblEO1CQMBolkCr+0JAUJW7hkQAQ0Dwi62HugFDQHC4DcUvAkNAcDcMQkYCQ0BwIK+wTAJDQEAV38VLAkNAUAIopEkCQ0Co73CCRwJDQMC9QNZGAkNAUFgKUEYCQ0BA89PJRQJDQMBNpXBFAkNAQP3gWEUCQ0DArBxBRQJDQEBcWClFAkNA8EcoJUUCQ0BQyfUiRQJDQMBKwyBFAkNAUD5WH0UCQ0CABggfRQJDQMDOuR5FAkNA0JZrHkUCQ0AoBrYeRQJDQFD6Dx9FAkNAwO5pH0UCQ0CAdGcfRQJDQCi03h5FAkNAwPNVHkUCQ0BAM80dRQJDQFAznR1FAkNA",
          "dtype": "f8"
         }
        },
        {
         "legendgroup": "016",
         "line": {
          "color": "rgb(0, 48, 162)"
         },
         "name": "016",
         "opacity": 0.4,
         "type": "scatter",
         "x": [
          0,
          1000000000000,
          2000000000000,
          3000000000000,
          4000000000000,
          5000000000000,
          6000000000000,
          7000000000000,
          8000000000000,
          9000000000000,
          10000000000000,
          11000000000000,
          12000000000000,
          13000000000000,
          14000000000000,
          15000000000000,
          16000000000000,
          17000000000000,
          18000000000000,
          19000000000000,
          20000000000000,
          21000000000000,
          22000000000000,
          23000000000000,
          24000000000000,
          25000000000000,
          26000000000000,
          27000000000000,
          28000000000000,
          29000000000000,
          30000000000000,
          31000000000000,
          32000000000000,
          33000000000000,
          34000000000000,
          35000000000000
         ],
         "y": {
          "bdata": "oK/ZddBcKMCANbwlYolEwEh1rsAivkPACDh5VTWXQ8A4H7v514tDwMB9L9taiEPAcFG9VkmHQ8CIrRhn9IZDwPCpN+zZhkPAOHt4q9SGQ8A4gGgj04ZDwEhDz2zThkPAGLSF7dOGQ8D4JDxu1IZDwLhdVIrUhkPAQMwxnNSGQ8DIOg+u1IZDwAhkWbnUhkPA8EQWu9SGQ8DAJdO81IZDwJgGkL7UhkPACGH1wNSGQ8CA3GvD1IZDwPBX4sXUhkPA2FGdx9SGQ8BI6EfI1IZDwMB+8sjUhkPAOBWdydSGQ8B4iHHK1IZDwDg9SsvUhkPAAPIizNSGQ8BYp3/M1IZDwAg7KMzUhkPAwM7Qy9SGQ8B4YnnL1IZDwDBATMvUhkPA",
          "dtype": "f8"
         }
        },
        {
         "legendgroup": "017",
         "line": {
          "color": "rgb(0, 51, 164)"
         },
         "name": "017",
         "opacity": 0.4,
         "type": "scatter",
         "x": [
          0,
          1000000000000,
          2000000000000,
          3000000000000,
          4000000000000,
          5000000000000,
          6000000000000,
          7000000000000,
          8000000000000,
          9000000000000,
          10000000000000,
          11000000000000,
          12000000000000,
          13000000000000,
          14000000000000,
          15000000000000,
          16000000000000,
          17000000000000,
          18000000000000,
          19000000000000,
          20000000000000,
          21000000000000,
          22000000000000,
          23000000000000,
          24000000000000,
          25000000000000,
          26000000000000,
          27000000000000,
          28000000000000,
          29000000000000,
          30000000000000,
          31000000000000,
          32000000000000,
          33000000000000,
          34000000000000,
          35000000000000
         ],
         "y": {
          "bdata": "AAAAAAAAMD04MCrd9eRHQEAF6HaFW0lAMPzJcRvDSUCQywJwrN5JQGChaNCY5UlAQMmMImTnSUDwjm8Sw+dJQGCipOrO50lAcEyZ28znSUDwS0CfyOdJQHBL52LE50lAwFJ5z8PnSUBAX/09w+dJQMBrgazC50lAsORilMLnSUBAX6T2wudJQPDZ5VjD50lAkFQnu8PnSUDgIKQmxOdJQIjVJZLE50lAEIqn/cTnSUC4jFxCxedJQLAy8l/F50lAkNiHfcXnSUCIfh2bxedJQDDJQrLF50lAsKdkycXnSUAwhobgxedJQJgKjM/F50lAwL4flsXnSUAoc7NcxedJQFAnRyPF50lAQOM9J8XnSUCoQFUrxedJQPCdbC/F50lA",
          "dtype": "f8"
         }
        },
        {
         "legendgroup": "017",
         "line": {
          "color": "rgb(0, 51, 164)"
         },
         "name": "017",
         "opacity": 0.4,
         "type": "scatter",
         "x": [
          0,
          1000000000000,
          2000000000000,
          3000000000000,
          4000000000000,
          5000000000000,
          6000000000000,
          7000000000000,
          8000000000000,
          9000000000000,
          10000000000000,
          11000000000000,
          12000000000000,
          13000000000000,
          14000000000000,
          15000000000000,
          16000000000000,
          17000000000000,
          18000000000000,
          19000000000000,
          20000000000000,
          21000000000000,
          22000000000000,
          23000000000000,
          24000000000000,
          25000000000000,
          26000000000000,
          27000000000000,
          28000000000000,
          29000000000000,
          30000000000000,
          31000000000000,
          32000000000000,
          33000000000000,
          34000000000000,
          35000000000000
         ],
         "y": {
          "bdata": "YCrnk/lmKMCoLfJ2ETJJwMgQmvZKs0jAUAby17qVSMAovtkyBY5IwHjFsPwYjEjAECNcMZqLSMBYIc+lgItIwMg1Qo98i0jAyOqBH3yLSMAQcbTSfItIwHj35oV9i0jAKI+2v32LSMDYoEX5fYtIwKiy1DJ+i0jAWNg1Zn6LSMDQ51uTfotIwEj3gcB+i0jAqAao7X6LSMBYlbYOf4tIwMi2vi9/i0jAKNjGUH+LSMBQK8dmf4tIwNAvqHF/i0jAUDSJfH+LSMDQOGqHf4tIwMhWa41/i0jAWN1pk3+LSMAoZGiZf4tIwFioe5R/i0jAeGaMhH+LSMDIJJ10f4tIwNjirWR/i0jAEOSBY3+LSMD4vV1if4tIwPiXOWF/i0jA",
          "dtype": "f8"
         }
        },
        {
         "legendgroup": "018",
         "line": {
          "color": "rgb(0, 54, 166)"
         },
         "name": "018",
         "opacity": 0.4,
         "type": "scatter",
         "x": [
          0,
          1000000000000,
          2000000000000,
          3000000000000,
          4000000000000,
          5000000000000,
          6000000000000,
          7000000000000,
          8000000000000,
          9000000000000,
          10000000000000,
          11000000000000,
          12000000000000,
          13000000000000,
          14000000000000,
          15000000000000,
          16000000000000,
          17000000000000,
          18000000000000,
          19000000000000,
          20000000000000,
          21000000000000,
          22000000000000,
          23000000000000,
          24000000000000,
          25000000000000,
          26000000000000,
          27000000000000,
          28000000000000,
          29000000000000,
          30000000000000,
          31000000000000,
          32000000000000,
          33000000000000,
          34000000000000,
          35000000000000
         ],
         "y": {
          "bdata": "AAAAAAAAQD1wU8T9Ev4+QNgM5ZPOgUBAkNTr5gsCQUBYPWt/JDBBQNicKbf1PUFA8FDuMYNCQUBw3gJcPURBQOAGkLSkREFAOLvMl79EQUC4NDWo6ERBQLgsos/3REFAkLskQO9EQUBwSqew5kRBQDhtWHfeREFAOOOQ69pEQUA4Wclf10RBQDjPAdTTREFAuNWpaNJEQUC4Ddyc0kRBQNhFDtHSREFA2JYVCdNEQUDwml1200RBQPCepePTREFAEKPtUNREQUDYBASC1ERBQPAEKYXUREFAEAVOiNREQUA44WWK1ERBQBDw4X3UREFA8P5dcdREQUDYDdpk1ERBQBDepGPUREFAWBkRa9REQUCQVH1y1ERBQNjSMHfUREFA",
          "dtype": "f8"
         }
        },
        {
         "legendgroup": "018",
         "line": {
          "color": "rgb(0, 54, 166)"
         },
         "name": "018",
         "opacity": 0.4,
         "type": "scatter",
         "x": [
          0,
          1000000000000,
          2000000000000,
          3000000000000,
          4000000000000,
          5000000000000,
          6000000000000,
          7000000000000,
          8000000000000,
          9000000000000,
          10000000000000,
          11000000000000,
          12000000000000,
          13000000000000,
          14000000000000,
          15000000000000,
          16000000000000,
          17000000000000,
          18000000000000,
          19000000000000,
          20000000000000,
          21000000000000,
          22000000000000,
          23000000000000,
          24000000000000,
          25000000000000,
          26000000000000,
          27000000000000,
          28000000000000,
          29000000000000,
          30000000000000,
          31000000000000,
          32000000000000,
          33000000000000,
          34000000000000,
          35000000000000
         ],
         "y": {
          "bdata": "gAzbxsNqKMAw9kZFTYhDwFB8ikkpr0LAUBuXSgRvQsBA7q4V0F5CwLDTwp/oWkLAAPSZD6lZQsC49Fm+71hCwECQY0PtWELAOOGv4NBYQsC4pD6bwVhCwHC7dwzWWELAgFw6HdpYQsCg/fwt3lhCwDAQydLhWELAMJxlm99YQsAwKAJk3VhCwDC0nizbWELAACtxytlYQsAwM/8K2VhCwFA7jUvYWELAQFl+oNdYQsDAf7gQ2FhCwFCm8oDYWELA0Mws8dhYQsDQrNkS2VhCwLgskvjYWELAsKxK3thYQsDQEL/F2FhCwDh9S8XYWELAoOnXxNhYQsAAVmTE2FhCwAB2XtbYWELAcF1p9thYQsDQRHQW2VhCwDBJmTDZWELA",
          "dtype": "f8"
         }
        },
        {
         "legendgroup": "019",
         "line": {
          "color": "rgb(0, 57, 168)"
         },
         "name": "019",
         "opacity": 0.4,
         "type": "scatter",
         "x": [
          0,
          1000000000000,
          2000000000000,
          3000000000000,
          4000000000000,
          5000000000000,
          6000000000000,
          7000000000000,
          8000000000000,
          9000000000000,
          10000000000000,
          11000000000000,
          12000000000000,
          13000000000000,
          14000000000000,
          15000000000000,
          16000000000000,
          17000000000000,
          18000000000000,
          19000000000000,
          20000000000000,
          21000000000000,
          22000000000000,
          23000000000000,
          24000000000000,
          25000000000000,
          26000000000000,
          27000000000000,
          28000000000000,
          29000000000000,
          30000000000000,
          31000000000000,
          32000000000000,
          33000000000000,
          34000000000000,
          35000000000000
         ],
         "y": {
          "bdata": "AAAAAAAAWD1InUshN7FNQLizlujrjk5AuDgD/W2mTkBoLet5BKdOQEg6GlkAp05AuECZR/ijTkB4FN0RraROQGhXE0yvpE5ACNSgD0+kTkBoFc5k8aNOQHBoKyUSpE5AcLuI5TKkTkB4DualU6ROQEh4DLxZpE5AWFXxMkekTkCIMtapNKROQMgICEUjpE5ASP4CEUqkTkC48/3ccKROQCjp+KiXpE5AKGW+yqikTkAI/TPrpaROQNiUqQujpE5AUPOyYqCkTkBYZJs3qKROQHDVgwywpE5AeEZs4bekTkCouMI0taROQAisk9SopE5AWJ9kdJykTkDYT9xckKROQHCIqjySpE5ACMF4HJSkTkCY+Ub8laROQPhWR3iUpE5A",
          "dtype": "f8"
         }
        },
        {
         "legendgroup": "019",
         "line": {
          "color": "rgb(0, 57, 168)"
         },
         "name": "019",
         "opacity": 0.4,
         "type": "scatter",
         "x": [
          0,
          1000000000000,
          2000000000000,
          3000000000000,
          4000000000000,
          5000000000000,
          6000000000000,
          7000000000000,
          8000000000000,
          9000000000000,
          10000000000000,
          11000000000000,
          12000000000000,
          13000000000000,
          14000000000000,
          15000000000000,
          16000000000000,
          17000000000000,
          18000000000000,
          19000000000000,
          20000000000000,
          21000000000000,
          22000000000000,
          23000000000000,
          24000000000000,
          25000000000000,
          26000000000000,
          27000000000000,
          28000000000000,
          29000000000000,
          30000000000000,
          31000000000000,
          32000000000000,
          33000000000000,
          34000000000000,
          35000000000000
         ],
         "y": {
          "bdata": "gAnDgSVVKMAoe6zFi69OwBg/V9Gwr03AiC6/QdxkTcBIDXRp4E1NwNgnBmNgTk3AQF9uxDdPTcBgwo6vok9NwOgDZ3nYT03AENmRpvNPTcCIHfmCDlBNwPB3zNgZUE3AaNKfLiVQTcDYLHOEMFBNwJB2WGYwUE3A6GbttCVQTcBQV4IDG1BNwFg68VMQUE3AwDJ8/wVQTcAYKwer+09NwHAjklbxT03ACNi5u+hPTcBAR6m44U9NwGi2mLXaT03A6DgS29NPTcCQlpTL1E9NwFD0FrzVT03A6FGZrNZPTcDYQLse2E9NwNiMjgjaT03A6Nhh8ttPTcBAA8bc3U9NwJB8A+PfT03A2PVA6eFPTcA4b37v409NwGi4qSblT03A",
          "dtype": "f8"
         }
        },
        {
         "legendgroup": "020",
         "line": {
          "color": "rgb(0, 60, 170)"
         },
         "name": "020",
         "opacity": 0.4,
         "type": "scatter",
         "x": [
          0,
          1000000000000,
          2000000000000,
          3000000000000,
          4000000000000,
          5000000000000,
          6000000000000,
          7000000000000,
          8000000000000,
          9000000000000,
          10000000000000,
          11000000000000,
          12000000000000,
          13000000000000,
          14000000000000,
          15000000000000,
          16000000000000,
          17000000000000,
          18000000000000,
          19000000000000,
          20000000000000,
          21000000000000,
          22000000000000,
          23000000000000,
          24000000000000,
          25000000000000,
          26000000000000,
          27000000000000,
          28000000000000,
          29000000000000,
          30000000000000,
          31000000000000,
          32000000000000,
          33000000000000,
          34000000000000,
          35000000000000
         ],
         "y": {
          "bdata": "AAAAAAAAQD1wRPMCkHNBQFjL8koT9EJAUH1pVbBwQ0BIQhULgJhDQNjbtkBtpENAUF8I17+nQ0CoEav+2KhDQBi+nzsLqUNA6HcjXxSpQ0D4n/1oFKlDQDjOzvAVqUNAUB5oGhGpQ0BImr4kBalDQEgWFS/5qENAOJJrOe2oQ0DYTc9i86hDQKiYlRH6qENAaONbwACpQ0BogkYRC6lDQMgUenIZqUNAKKet0yepQ0CIOeE0NqlDQEhsIrwqqUNAWA4bhR6pQ0B4sBNOEqlDQEgY3ZgGqUNAiIrWdPuoQ0DY/M9Q8KhDQBhvySzlqENA2BpYj+6oQ0B4D/yI+KhDQBgEoIICqUNAuIKdnQypQ0AIhefdFqlDQFCHMR4hqUNA",
          "dtype": "f8"
         }
        },
        {
         "legendgroup": "020",
         "line": {
          "color": "rgb(0, 60, 170)"
         },
         "name": "020",
         "opacity": 0.4,
         "type": "scatter",
         "x": [
          0,
          1000000000000,
          2000000000000,
          3000000000000,
          4000000000000,
          5000000000000,
          6000000000000,
          7000000000000,
          8000000000000,
          9000000000000,
          10000000000000,
          11000000000000,
          12000000000000,
          13000000000000,
          14000000000000,
          15000000000000,
          16000000000000,
          17000000000000,
          18000000000000,
          19000000000000,
          20000000000000,
          21000000000000,
          22000000000000,
          23000000000000,
          24000000000000,
          25000000000000,
          26000000000000,
          27000000000000,
          28000000000000,
          29000000000000,
          30000000000000,
          31000000000000,
          32000000000000,
          33000000000000,
          34000000000000,
          35000000000000
         ],
         "y": {
          "bdata": "4ABXQqprKMBo811vcbVDwEhtTHeZJUPA6Bi8Ybn7QsBIM/O7B+9CwGhrKhJo60LA6JYVYT/qQsBIIV/c4OlCwEiHflXh6ULAOOLX1NXpQsBoFlU/z+lCwJBinPLK6ULA6D68rM/pQsCQZlh/3ulCwCCO9FHt6ULAuLWQJPzpQsD41Jiq8ulCwKBKxX3o6ULA+L/xUN7pQsDoQH7m1ulCwCAWEJLS6ULASOuhPc7pQsCgwDPpyelCwLiUSdnO6ULAuLqWDdTpQsCg4ONB2elCwEB5hsjc6ULASHqdbt7pQsBoe7QU4OlCwKB8y7rh6ULAaNNc1d/pQsA4MNbV3elCwPiMT9bb6ULAaHI8/9vpQsBIEAiS3ulCwDiu0yTh6ULA",
          "dtype": "f8"
         }
        },
        {
         "legendgroup": "021",
         "line": {
          "color": "rgb(0, 70, 174)"
         },
         "name": "021",
         "opacity": 0.4,
         "type": "scatter",
         "x": [
          0,
          1000000000000,
          2000000000000,
          3000000000000,
          4000000000000,
          5000000000000,
          6000000000000,
          7000000000000,
          8000000000000,
          9000000000000,
          10000000000000,
          11000000000000,
          12000000000000,
          13000000000000,
          14000000000000,
          15000000000000,
          16000000000000,
          17000000000000,
          18000000000000,
          19000000000000,
          20000000000000,
          21000000000000,
          22000000000000,
          23000000000000,
          24000000000000,
          25000000000000,
          26000000000000,
          27000000000000,
          28000000000000,
          29000000000000,
          30000000000000,
          31000000000000,
          32000000000000,
          33000000000000,
          34000000000000,
          35000000000000
         ],
         "y": {
          "bdata": "AAAAAAAAMD2IDUf0htBHQNh7fHha7EhA0NJbvZJZSUBwVoGwBXdJQFiwGi3OfklAeMS4WvGASUAIcDN9aoFJQJjQ9W93gUlAUIs6PXWBSUA4zBZMcIFJQBgN81prgUlAKEsZNmmBSUC4Nb5VaIFJQDggY3VngUlAuE0S0GaBSUDI8WMpZ4FJQNiVtYJngUlA+DkH3GeBSUA4e3lQaIFJQNDMNdFogUlAeB7yUWmBSUAY4Y7CaYFJQNjYoe1pgUlAuNC0GGqBSUB4yMdDaoFJQLjhK3pqgUlAyHGwtWqBSUD4ATXxaoFJQIh4RRVrgUlAqMku1GqBSUC4GhiTaoFJQMhrAVJqgUlAyN38VGqBSUAIvM52aoFJQECaoJhqgUlA",
          "dtype": "f8"
         }
        },
        {
         "legendgroup": "021",
         "line": {
          "color": "rgb(0, 70, 174)"
         },
         "name": "021",
         "opacity": 0.4,
         "type": "scatter",
         "x": [
          0,
          1000000000000,
          2000000000000,
          3000000000000,
          4000000000000,
          5000000000000,
          6000000000000,
          7000000000000,
          8000000000000,
          9000000000000,
          10000000000000,
          11000000000000,
          12000000000000,
          13000000000000,
          14000000000000,
          15000000000000,
          16000000000000,
          17000000000000,
          18000000000000,
          19000000000000,
          20000000000000,
          21000000000000,
          22000000000000,
          23000000000000,
          24000000000000,
          25000000000000,
          26000000000000,
          27000000000000,
          28000000000000,
          29000000000000,
          30000000000000,
          31000000000000,
          32000000000000,
          33000000000000,
          34000000000000,
          35000000000000
         ],
         "y": {
          "bdata": "4LOlzsFWKMD4dt74RE1JwDBVBKy+d0jA0ICqoapVSMCYeZX6s0xIwLApzBRrSkjAMPBhTdNJSMAY2+WHs0lIwPgUTomwSUjAGO98zK9JSMD4zgVusElIwNCujg+xSUjAmPOMXLFJSMCYoz6DsUlIwJhT8KmxSUjA0LAC0rFJSMCwHgYAsklIwJiMCS6ySUjAePoMXLJJSMCwAzeHsklIwKCeFrGySUjAmDn22rJJSMB45XAAs0lIwPjT9xKzSUjAmMJ+JbNJSMAYsQU4s0lIwBib3EizSUjAYM7vWLNJSMCwAQNps0lIwJiTRnOzSUjAUCB6ZLNJSMAwra1Vs0lIwCA64UazSUjA+G50Q7NJSMBQry5Fs0lIwLDv6EazSUjA",
          "dtype": "f8"
         }
        },
        {
         "legendgroup": "022",
         "line": {
          "color": "rgb(0, 79, 178)"
         },
         "name": "022",
         "opacity": 0.4,
         "type": "scatter",
         "x": [
          0,
          1000000000000,
          2000000000000,
          3000000000000,
          4000000000000,
          5000000000000,
          6000000000000,
          7000000000000,
          8000000000000,
          9000000000000,
          10000000000000,
          11000000000000,
          12000000000000,
          13000000000000,
          14000000000000,
          15000000000000,
          16000000000000,
          17000000000000,
          18000000000000,
          19000000000000,
          20000000000000,
          21000000000000,
          22000000000000,
          23000000000000,
          24000000000000,
          25000000000000,
          26000000000000,
          27000000000000,
          28000000000000,
          29000000000000,
          30000000000000,
          31000000000000,
          32000000000000,
          33000000000000,
          34000000000000,
          35000000000000
         ],
         "y": {
          "bdata": "AAAAAAAAMD04telUSddHQLibD1h0zEhAcLW48cQtSUCY9LgCMk5JQPhOErJQV0lAWDSQDqpZSUCYjIfcTVpJQEjKH8p3WklA6FvVw3xaSUCI3+IAe1pJQBjmTsZ2WklAyOy6i3JaSUC42k54cFpJQBBz/RBvWklAWAusqW1aSUBo19unbFpJQIj+5cNsWklAkCXw32xaSUCYTPr7bFpJQPi41oVtWklAiB7+MW5aSUAIhCXeblpJQMhSsYxvWklAOMb5QXBaSUCoOUL3cFpJQBitiqxxWklASH2xJ3JaSUAIW7GQclpJQMg4sflyWklAyFBVWnNaSUBYem+jc1pJQAikiexzWklAiM2jNXRaSUC4OHNCdFpJQJhDuRt0WklA",
          "dtype": "f8"
         }
        },
        {
         "legendgroup": "022",
         "line": {
          "color": "rgb(0, 79, 178)"
         },
         "name": "022",
         "opacity": 0.4,
         "type": "scatter",
         "x": [
          0,
          1000000000000,
          2000000000000,
          3000000000000,
          4000000000000,
          5000000000000,
          6000000000000,
          7000000000000,
          8000000000000,
          9000000000000,
          10000000000000,
          11000000000000,
          12000000000000,
          13000000000000,
          14000000000000,
          15000000000000,
          16000000000000,
          17000000000000,
          18000000000000,
          19000000000000,
          20000000000000,
          21000000000000,
          22000000000000,
          23000000000000,
          24000000000000,
          25000000000000,
          26000000000000,
          27000000000000,
          28000000000000,
          29000000000000,
          30000000000000,
          31000000000000,
          32000000000000,
          33000000000000,
          34000000000000,
          35000000000000
         ],
         "y": {
          "bdata": "YOvLBtJbKMDgywqslpZKwIhWX3rMpknAGCINzcZqScDQcaxZnFpJwCBM+xTqVUnAwNwjEWxUScA4pe8d61NJwNAxBVzEU0nA0Gn/UrhTScCQb/POsVNJwAjdVSKuU0nAgEq4dapTScD4M6ZSqFNJwPiQd6qmU0nA8O1IAqVTScBY+07Uo1NJwAiRe/6jU0nAuCaoKKRTScBwvNRSpFNJwEBkSRelU0nAWBvrC6ZTScBo0owAp1NJwDhGvvenU0nAiGIm9qhTScDYfo70qVNJwCCb9vKqU0nAuMe8qqtTScB4rnRMrFNJwDCVLO6sU0nAmDi1fK1TScBQ+zbVrVNJwAi+uC2uU0nAuIA6hq5TScCQxdCbrlNJwLBPM3iuU0nA",
          "dtype": "f8"
         }
        },
        {
         "legendgroup": "023",
         "line": {
          "color": "rgb(1, 89, 183)"
         },
         "name": "023",
         "opacity": 0.4,
         "type": "scatter",
         "x": [
          0,
          1000000000000,
          2000000000000,
          3000000000000,
          4000000000000,
          5000000000000,
          6000000000000,
          7000000000000,
          8000000000000,
          9000000000000,
          10000000000000,
          11000000000000,
          12000000000000,
          13000000000000,
          14000000000000,
          15000000000000,
          16000000000000,
          17000000000000,
          18000000000000,
          19000000000000,
          20000000000000,
          21000000000000,
          22000000000000,
          23000000000000,
          24000000000000,
          25000000000000,
          26000000000000,
          27000000000000,
          28000000000000,
          29000000000000,
          30000000000000,
          31000000000000,
          32000000000000,
          33000000000000,
          34000000000000,
          35000000000000
         ],
         "y": {
          "bdata": "AAAAAAAAMD1oyIi0gQ9AQKhjlXcxJEFAsJpkB82iQUCojyL7vs9BQKh65aW/3kFAyDsOBWfjQUBgeBDMFuVBQMgRWSGB5UFA0J7fm6jlQUAohyr3uOVBQIAsuLC15UFA4NFFarLlQUAo3uOvr+VBQFAiTvus5UFAyD35wKvlQUCAkpZvq+VBQCjnMx6r5UFAGN5Q3arlQUBImrkWq+VBQGBWIlCr5UFAkBKLiavlQUDQ5biWq+VBQMiKqYir5UFAqC+aeqvlQUComtRzq+VBQIAbFaOr5UFASJxV0qvlQUAoHZYBrOVBQOC4quyr5UFAAKLDravlQUAYi9xuq+VBQODx/j2r5UFAyCwudavlQUCoZ12sq+VBQGCijOOr5UFA",
          "dtype": "f8"
         }
        },
        {
         "legendgroup": "023",
         "line": {
          "color": "rgb(1, 89, 183)"
         },
         "name": "023",
         "opacity": 0.4,
         "type": "scatter",
         "x": [
          0,
          1000000000000,
          2000000000000,
          3000000000000,
          4000000000000,
          5000000000000,
          6000000000000,
          7000000000000,
          8000000000000,
          9000000000000,
          10000000000000,
          11000000000000,
          12000000000000,
          13000000000000,
          14000000000000,
          15000000000000,
          16000000000000,
          17000000000000,
          18000000000000,
          19000000000000,
          20000000000000,
          21000000000000,
          22000000000000,
          23000000000000,
          24000000000000,
          25000000000000,
          26000000000000,
          27000000000000,
          28000000000000,
          29000000000000,
          30000000000000,
          31000000000000,
          32000000000000,
          33000000000000,
          34000000000000,
          35000000000000
         ],
         "y": {
          "bdata": "4AYlRNphKMA4pCNMgBlEwJjw/Nc9+0LAYJDybe3sQsBosAAEn9xCwJi+f8+E2ELAMLFpZEnXQsCoKqUD1NZCwBieU6a51kLAyMTbKKrWQsAgonq1qdZCwMAZGvmr1kLAYJG5PK7WQsDYRTeordZCwIgskfWs1kLASAfneqzWQsDYLLcirNZCwFhSh8qr1kLASDFBf6vWQsC4z7KTq9ZCwDBuJKir1kLAqAyWvKvWQsBwIZDFq9ZCwJheeser1kLAuJtkyavWQsCoPX3Pq9ZCwAgwlPSr1kLAWCKrGazWQsCwFMI+rNZCwCALFS2s1kLA8Nat+avWQsDAokbGq9ZCwLCP/p6r1kLAGH+Q0avWQsCYbiIErNZCwAhetDas1kLA",
          "dtype": "f8"
         }
        },
        {
         "legendgroup": "024",
         "line": {
          "color": "rgb(1, 99, 187)"
         },
         "name": "024",
         "opacity": 0.4,
         "type": "scatter",
         "x": [
          0,
          1000000000000,
          2000000000000,
          3000000000000,
          4000000000000,
          5000000000000,
          6000000000000,
          7000000000000,
          8000000000000,
          9000000000000,
          10000000000000,
          11000000000000,
          12000000000000,
          13000000000000,
          14000000000000,
          15000000000000,
          16000000000000,
          17000000000000,
          18000000000000,
          19000000000000,
          20000000000000,
          21000000000000,
          22000000000000,
          23000000000000,
          24000000000000,
          25000000000000,
          26000000000000,
          27000000000000,
          28000000000000,
          29000000000000,
          30000000000000,
          31000000000000,
          32000000000000,
          33000000000000,
          34000000000000,
          35000000000000
         ],
         "y": {
          "bdata": "AAAAAAAAMD2QuRom7wo8QGCmv9JvtU5ASJxSGqauTUCw4zyGb4RNQDBkcklXe01AgOBvCMx4TUA4VrG3SnpNQPjMtHQ8ek1AwAktqap5TUDA0hJRrHlNQMBTAm7ReU1AuHvqogZ6TUD4QxS+OHpNQDAMPtlqek1AwMs9zo56TUCwRGMepXpNQIi9iG67ek1AcIqYiNF6TUCACwWZ0HpNQJCMcanPek1AuA3euc56TUBI22EUyHpNQNCqLe27ek1AcHr5xa96TUB4SaWco3pNQIilmIuWek1AqAGMeol6TUC4XX9pfHpNQIjmecZxek1AQMJGe2l6TUD4nRMwYXpNQPA7NfJYek1ASKoFYlZ6TUC4GNbRU3pNQAiHpkFRek1A",
          "dtype": "f8"
         }
        },
        {
         "legendgroup": "024",
         "line": {
          "color": "rgb(1, 99, 187)"
         },
         "name": "024",
         "opacity": 0.4,
         "type": "scatter",
         "x": [
          0,
          1000000000000,
          2000000000000,
          3000000000000,
          4000000000000,
          5000000000000,
          6000000000000,
          7000000000000,
          8000000000000,
          9000000000000,
          10000000000000,
          11000000000000,
          12000000000000,
          13000000000000,
          14000000000000,
          15000000000000,
          16000000000000,
          17000000000000,
          18000000000000,
          19000000000000,
          20000000000000,
          21000000000000,
          22000000000000,
          23000000000000,
          24000000000000,
          25000000000000,
          26000000000000,
          27000000000000,
          28000000000000,
          29000000000000,
          30000000000000,
          31000000000000,
          32000000000000,
          33000000000000,
          34000000000000,
          35000000000000
         ],
         "y": {
          "bdata": "IDlioRJnKMAIqVAT0PVFwPjPxBidvU7AwAoRnnSLTMB4r/lx/xNMwMAVrH6X9kvACElCMCnwS8B4YFCSt+1LwNgV4Bt57UvAuPvSVlXuS8AIHIlviO5LwAD6onhd7kvAuHFsuwLuS8BIfKJro+1LwOiG2BtE7UvAeDft/P3sS8CI6aYo0OxLwIibYFSi7EvAGB8X6HTsS8C4NBXHc+xLwEBKE6Zy7EvAyF8RhXHsS8D4wDUvfOxLwBjBtziS7EvASME5QqjsS8CoEIpSvuxLwFi8/0jX7EvAAGh1P/DsS8C4E+s1Ce1LwNj/C+sd7UvAaM+7hS7tS8D4nmsgP+1LwIg+xKFP7UvAyFfcV1XtS8AIcfQNW+1LwEiKDMRg7UvA",
          "dtype": "f8"
         }
        },
        {
         "legendgroup": "025",
         "line": {
          "color": "rgb(1, 109, 191)"
         },
         "name": "025",
         "opacity": 0.4,
         "type": "scatter",
         "x": [
          0,
          1000000000000,
          2000000000000,
          3000000000000,
          4000000000000,
          5000000000000,
          6000000000000,
          7000000000000,
          8000000000000,
          9000000000000,
          10000000000000,
          11000000000000,
          12000000000000,
          13000000000000,
          14000000000000,
          15000000000000,
          16000000000000,
          17000000000000,
          18000000000000,
          19000000000000,
          20000000000000,
          21000000000000,
          22000000000000,
          23000000000000,
          24000000000000,
          25000000000000,
          26000000000000,
          27000000000000,
          28000000000000,
          29000000000000,
          30000000000000,
          31000000000000,
          32000000000000,
          33000000000000,
          34000000000000,
          35000000000000
         ],
         "y": {
          "bdata": "AAAAAAAAQD2Iphf/t3JNQOije84UtU1AkL9CQrTyTUAwIzPW3g5OQHB9EAY3Fk5AEImmDd0XTkCwPuECJRhOQDCk8YhyGE5AsJhwZKYYTkCgqrJb0RhOQHg4VDztGE5AsHrSyfsYTkDgvFBXChlOQCBDkDIYGU5AILbIUBAZTkAwKQFvCBlOQDCcOY0AGU5AcGau6vMYTkAwt5gV4xhOQPAHg0DSGE5A4OcUf8EYTkBYL0ojsxhOQMB2f8ekGE5AML60a5YYTkAocpbsixhOQKCJlNaEGE5A8KCSwH0YTkBwKabedhhOQJD511Z2GE5AoMkJz3UYTkCwmTtHdRhOQGBViKN2GE5A8B2ZBXsYTkD4fvcrgRhOQKCRcgWJGE5A",
          "dtype": "f8"
         }
        },
        {
         "legendgroup": "025",
         "line": {
          "color": "rgb(1, 109, 191)"
         },
         "name": "025",
         "opacity": 0.4,
         "type": "scatter",
         "x": [
          0,
          1000000000000,
          2000000000000,
          3000000000000,
          4000000000000,
          5000000000000,
          6000000000000,
          7000000000000,
          8000000000000,
          9000000000000,
          10000000000000,
          11000000000000,
          12000000000000,
          13000000000000,
          14000000000000,
          15000000000000,
          16000000000000,
          17000000000000,
          18000000000000,
          19000000000000,
          20000000000000,
          21000000000000,
          22000000000000,
          23000000000000,
          24000000000000,
          25000000000000,
          26000000000000,
          27000000000000,
          28000000000000,
          29000000000000,
          30000000000000,
          31000000000000,
          32000000000000,
          33000000000000,
          34000000000000,
          35000000000000
         ],
         "y": {
          "bdata": "wOA3+1tjKMC4VKo/DghOwEikO8bU2EzAoDR1xjKNTMBQ5x681n9MwFDtKxKLf0zA+JB7ilV/TMCwnTkhTn9MwFAaqqxpf0zA4Hi/vIN/TMCYCb0ymn9MwFAQLtOnf0zAeMhqpq1/TMCggKd5s39MwBghs/64f0zAmMKA+rR/TMD4Y072sH9MwHgFHPKsf0zAMPt3Pqd/TMAwWtANoH9MwDC5KN2Yf0zA+GKVuJF/TMB4KiMNjH9MwBjysGGGf0zAmLk+toB/TMB4gY6HfH9MwHjjHql5f0zAeEWvynZ/TMCYmeEAdH9MwHi0QLtzf0zAUM+fdXN/TMAw6v4vc39MwPhDWa5zf0zAmHLyZXV/TMD4AKfUd39MwHhTE/R6f0zA",
          "dtype": "f8"
         }
        },
        {
         "legendgroup": "026",
         "line": {
          "color": "rgb(2, 118, 195)"
         },
         "name": "026",
         "opacity": 0.4,
         "type": "scatter",
         "x": [
          0,
          1000000000000,
          2000000000000,
          3000000000000,
          4000000000000,
          5000000000000,
          6000000000000,
          7000000000000,
          8000000000000,
          9000000000000,
          10000000000000,
          11000000000000,
          12000000000000,
          13000000000000,
          14000000000000,
          15000000000000,
          16000000000000,
          17000000000000,
          18000000000000,
          19000000000000,
          20000000000000,
          21000000000000,
          22000000000000,
          23000000000000,
          24000000000000,
          25000000000000,
          26000000000000,
          27000000000000,
          28000000000000,
          29000000000000,
          30000000000000,
          31000000000000,
          32000000000000,
          33000000000000,
          34000000000000,
          35000000000000
         ],
         "y": {
          "bdata": "AAAAAAAAQD2MtmPicKFQQCyXQi5ZslBANPwHwpWuUEDISPxIkadQQNBdrKh3qFBAbNfk1TqoUEB0THA0/KdQQDTNXPD0p1BA9B/YKsGnUECQgXtduadQQFDSLMKep1BAtOy0VpynUEDoQHlKnadQQNhgd82Zp1BA0IB1UJanUEDIoHPTkqdQQLTjhUeLp1BAkMJj7oKnUEB4oUGVeqdQQOAUthp5p1BAKBYAsX6nUEBoF0pHhKdQQKgYlN2Jp1BAxAYEzIenUEDEmY2shadQQLgsF42Dp1BA+CzP04OnUEDM9EGShqdQQKC8tFCJp1BAeIQnD4ynUEA0iSfxj6dQQCjnONWTp1BAEEVKuZenUEB0Vce6madQQBBU5suZp1BA",
          "dtype": "f8"
         }
        },
        {
         "legendgroup": "026",
         "line": {
          "color": "rgb(2, 118, 195)"
         },
         "name": "026",
         "opacity": 0.4,
         "type": "scatter",
         "x": [
          0,
          1000000000000,
          2000000000000,
          3000000000000,
          4000000000000,
          5000000000000,
          6000000000000,
          7000000000000,
          8000000000000,
          9000000000000,
          10000000000000,
          11000000000000,
          12000000000000,
          13000000000000,
          14000000000000,
          15000000000000,
          16000000000000,
          17000000000000,
          18000000000000,
          19000000000000,
          20000000000000,
          21000000000000,
          22000000000000,
          23000000000000,
          24000000000000,
          25000000000000,
          26000000000000,
          27000000000000,
          28000000000000,
          29000000000000,
          30000000000000,
          31000000000000,
          32000000000000,
          33000000000000,
          34000000000000,
          35000000000000
         ],
         "y": {
          "bdata": "APQCpP5TKMDc/jwUGF9QwEAcfAYfA1DASD+LzN+4T8C4CrXw05dPwPAasD4/ik/AWP+EM56ET8C4qL/YKYJPwEieKkApgU/ASJ0abHqAT8B4Qbfw039PwEiG6Fguf0/AADF8c7h+T8AYuDsNVH5PwAgcR0YZfk/A+H9Sf959T8DY4124o31PwMjyniyAfU/AANiMN2F9T8A4vXpCQn1PwNC9JjcyfU/AyEClgjF9T8C4wyPOMH1PwLhGohkwfU/AODvMykZ9T8AILnGmXX1PwPggFoJ0fU/AyGoWWY99T8DIAJJIrn1PwNiWDTjNfU/A+CyJJ+x9T8A4fAoaD35PwHh71BMyfk/AuHqeDVV+T8AAp1x3dH5PwAj0/zaQfk/A",
          "dtype": "f8"
         }
        },
        {
         "legendgroup": "027",
         "line": {
          "color": "rgb(2, 128, 200)"
         },
         "name": "027",
         "opacity": 0.4,
         "type": "scatter",
         "x": [
          0,
          1000000000000,
          2000000000000,
          3000000000000,
          4000000000000,
          5000000000000,
          6000000000000,
          7000000000000,
          8000000000000,
          9000000000000,
          10000000000000,
          11000000000000,
          12000000000000,
          13000000000000,
          14000000000000,
          15000000000000,
          16000000000000,
          17000000000000,
          18000000000000,
          19000000000000,
          20000000000000,
          21000000000000,
          22000000000000,
          23000000000000,
          24000000000000,
          25000000000000,
          26000000000000,
          27000000000000,
          28000000000000,
          29000000000000,
          30000000000000,
          31000000000000,
          32000000000000,
          33000000000000,
          34000000000000,
          35000000000000
         ],
         "y": {
          "bdata": "AAAAAAAAMD1YGWJUSOdNQFB41mR0A05AMFiU6jYYTkBAcXaYsSdOQNiEWwoyLk5AAEXSKJIvTkAoeeW8GDBOQNi6M0deME5AUBX08I0wTkAwBRckrjBOQFhimTTIME5AiL8bReIwTkBYuICd9zBOQMiZYNP7ME5AKHtACQAxTkCAXCA/BDFOQNhWBAf9ME5A2B/9RfEwTkDY6PWE5TBOQFA5qCfYME5AYH5u8cQwTkCIwzS7sTBOQMAI+4SeME5AWMR9soswTkCozpIHeTBOQMjYp1xmME5ASA075VQwTkD4d0bKRzBOQLDiUa86ME5AWE1dlC0wTkCwkt+3JTBOQNhQBfAfME5AAA8rKBowTkBACNGNFTBOQFhODQMXME5A",
          "dtype": "f8"
         }
        },
        {
         "legendgroup": "027",
         "line": {
          "color": "rgb(2, 128, 200)"
         },
         "name": "027",
         "opacity": 0.4,
         "type": "scatter",
         "x": [
          0,
          1000000000000,
          2000000000000,
          3000000000000,
          4000000000000,
          5000000000000,
          6000000000000,
          7000000000000,
          8000000000000,
          9000000000000,
          10000000000000,
          11000000000000,
          12000000000000,
          13000000000000,
          14000000000000,
          15000000000000,
          16000000000000,
          17000000000000,
          18000000000000,
          19000000000000,
          20000000000000,
          21000000000000,
          22000000000000,
          23000000000000,
          24000000000000,
          25000000000000,
          26000000000000,
          27000000000000,
          28000000000000,
          29000000000000,
          30000000000000,
          31000000000000,
          32000000000000,
          33000000000000,
          34000000000000,
          35000000000000
         ],
         "y": {
          "bdata": "gP6tvIhdKMDI+10OEjBOwBBdTdPj9kzA+JsgQ4GsTMBYkOcBLptMwDALGWm8lkzAMPzbydCVTMAQ/ih5ZJVMwHjCzCoblUzAeDlyBuKUTMCwb5IavJRMwNjK9M6dlEzA+CVXg3+UTMCQlb2aZpRMwDCcLkFhlEzA2KKf51uUTMB4qRCOVpRMwLDA9pJdlEzAsCcxgGmUTMCwjmttdZRMwFiYaB6DlEzAkDWvN5eUTMDA0vVQq5RMwABwPGq/lEzAWERgmdOUTMB42zDR55RMwLByAQn8lEzA+MVACw+VTMAAh3+pHZVMwBBIvkcslUzAMAn95TqVTMCQq3PnQ5VMwLDp2q5KlUzA2CdCdlGVTMCw6wkBV5VMwIAiaS5WlUzA",
          "dtype": "f8"
         }
        },
        {
         "legendgroup": "028",
         "line": {
          "color": "rgb(2, 138, 204)"
         },
         "name": "028",
         "opacity": 0.4,
         "type": "scatter",
         "x": [
          0,
          1000000000000,
          2000000000000,
          3000000000000,
          4000000000000,
          5000000000000,
          6000000000000,
          7000000000000,
          8000000000000,
          9000000000000,
          10000000000000,
          11000000000000,
          12000000000000,
          13000000000000,
          14000000000000,
          15000000000000,
          16000000000000,
          17000000000000,
          18000000000000,
          19000000000000,
          20000000000000,
          21000000000000,
          22000000000000,
          23000000000000,
          24000000000000,
          25000000000000,
          26000000000000,
          27000000000000,
          28000000000000,
          29000000000000,
          30000000000000,
          31000000000000,
          32000000000000,
          33000000000000,
          34000000000000,
          35000000000000
         ],
         "y": {
          "bdata": "AAAAAAAAQD34YI/9ZXdKQKBzI3w9e0pAKAyPgHypSkDYVnJFW7pKQIix/gH8xEpAkKyAZdzHSkAIrdXenMhKQBhL7PjRyEpAGFe1CdbISkCYNa8F1shKQBigzmfUyEpACC62C9PISkDYu52v0chKQMgCO7nQyEpAmBm7jtDISkCIMDtk0MhKQFBHuznQyEpACFVHNtDISkBY56k60MhKQKh5DD/QyEpAWIBpQdDISkBQELk/0MhKQEigCD7QyEpASDBYPNDISkCYm8I30MhKQFBBmDLQyEpAEOdtLdDISkAQ4H4n0MhKQMiYBSDQyEpAeFGMGNDISkAYChMR0MhKQFiVKwvQyEpASMmUBdDISkAo/f3/z8hKQNi88frPyEpA",
          "dtype": "f8"
         }
        },
        {
         "legendgroup": "028",
         "line": {
          "color": "rgb(2, 138, 204)"
         },
         "name": "028",
         "opacity": 0.4,
         "type": "scatter",
         "x": [
          0,
          1000000000000,
          2000000000000,
          3000000000000,
          4000000000000,
          5000000000000,
          6000000000000,
          7000000000000,
          8000000000000,
          9000000000000,
          10000000000000,
          11000000000000,
          12000000000000,
          13000000000000,
          14000000000000,
          15000000000000,
          16000000000000,
          17000000000000,
          18000000000000,
          19000000000000,
          20000000000000,
          21000000000000,
          22000000000000,
          23000000000000,
          24000000000000,
          25000000000000,
          26000000000000,
          27000000000000,
          28000000000000,
          29000000000000,
          30000000000000,
          31000000000000,
          32000000000000,
          33000000000000,
          34000000000000,
          35000000000000
         ],
         "y": {
          "bdata": "ADj8d/JiKMBwNHAILwhMwIiTZTyFt0rAaJCsYlhhSsBoaTNh4klKwDA4DLH7QkrAIDjhofFASsCIVz6jRUBKwNBJMgIMQErA6KmwngNASsAg6LZeAEBKwFBtIhL/P0rAUEpUz/w/SsAwJ4aM+j9KwLBxZ0v4P0rAaJGpDfY/SsBQsevP8z9KwDDRLZLxP0rA0NsxV/A/SsDo0yZQ7z9KwOjLG0nuP0rAMMLXm+0/SsCIEYui7T9KwOhgPqntP0rAULDxr+0/SsCwKVAG7j9KwLCdrGzuP0rAsBEJ0+4/SsAwU9o+7z9KwOiWm7XvP0rAiNpcLPA/SsBQHh6j8D9KwCC09hfxP0rA0DFtjPE/SsBor+MA8j9KwGhMSmfyP0rA",
          "dtype": "f8"
         }
        },
        {
         "legendgroup": "029",
         "line": {
          "color": "rgb(2, 148, 208)"
         },
         "name": "029",
         "opacity": 0.4,
         "type": "scatter",
         "x": [
          0,
          1000000000000,
          2000000000000,
          3000000000000,
          4000000000000,
          5000000000000,
          6000000000000,
          7000000000000,
          8000000000000,
          9000000000000,
          10000000000000,
          11000000000000,
          12000000000000,
          13000000000000,
          14000000000000,
          15000000000000,
          16000000000000,
          17000000000000,
          18000000000000,
          19000000000000,
          20000000000000,
          21000000000000,
          22000000000000,
          23000000000000,
          24000000000000,
          25000000000000,
          26000000000000,
          27000000000000,
          28000000000000,
          29000000000000,
          30000000000000,
          31000000000000,
          32000000000000,
          33000000000000,
          34000000000000,
          35000000000000
         ],
         "y": {
          "bdata": "AAAAAAAAQD2Y+YAk291IQCimmQUpLUpAwIuJVUyISkD4juFsKqBKQBCPRbIipkpASKYZC5ynSkDwPkFN+KdKQChB7y0EqEpAyG/XeACoSkAokCdH+qdKQKCwdxX0p0pAEOUGGvGnSkCQtxKy76dKQBiKHkrup0pAkEbrIe2nSkCglS8v7adKQMDkczztp0pA0DO4Se2nSkCQpJWN7adKQMjWPeztp0pAIAnmSu6nSkCY6G2o7qdKQMg5fgDvp0pAEIuOWO+nSkBA3J6w76dKQCBrBuzvp0pAaLxdGfCnSkCQDbVG8KdKQKj9HXDwp0pAiNpxhvCnSkAot8Wc8KdKQPiTGbPwp0pAaCTxrfCnSkCI/+GK8KdKQJAZLVTwp0pA",
          "dtype": "f8"
         }
        },
        {
         "legendgroup": "029",
         "line": {
          "color": "rgb(2, 148, 208)"
         },
         "name": "029",
         "opacity": 0.4,
         "type": "scatter",
         "x": [
          0,
          1000000000000,
          2000000000000,
          3000000000000,
          4000000000000,
          5000000000000,
          6000000000000,
          7000000000000,
          8000000000000,
          9000000000000,
          10000000000000,
          11000000000000,
          12000000000000,
          13000000000000,
          14000000000000,
          15000000000000,
          16000000000000,
          17000000000000,
          18000000000000,
          19000000000000,
          20000000000000,
          21000000000000,
          22000000000000,
          23000000000000,
          24000000000000,
          25000000000000,
          26000000000000,
          27000000000000,
          28000000000000,
          29000000000000,
          30000000000000,
          31000000000000,
          32000000000000,
          33000000000000,
          34000000000000,
          35000000000000
         ],
         "y": {
          "bdata": "wOEyYpVlKMDo4g+SxRlKwFhDdpSVeEnAUILyqTdYScBwkgIHqlBJwGiwiXTbTknAONxqv2dOScC4Qm+bT05JwOgAAxFMTknACCs48kpOScAY7M5rS05JwCitZeVLTknAqHJwHUxOScCAEVE1TE5JwGiwMU1MTknAmBIhb0xOScA4puLBTE5JwOg5pBRNTknAmM1lZ01OScB4Rqi8TU5JwDA+JRNOTknA6DWiaU5OScCAQ9C8Tk5JwOhL7/9OTknASFQOQ09OScCwXC2GT05JwEDBk7JPTknAGNnT009OScDw8BP1T05JwPhuNRJQTknACMZXG1BOScAYHXokUE5JwBh0nC1QTknA+OkJJVBOScBAGzQJUE5JwBgQtuBPTknA",
          "dtype": "f8"
         }
        },
        {
         "legendgroup": "030",
         "line": {
          "color": "rgb(2, 157, 212)"
         },
         "name": "030",
         "opacity": 0.4,
         "type": "scatter",
         "x": [
          0,
          1000000000000,
          2000000000000,
          3000000000000,
          4000000000000,
          5000000000000,
          6000000000000,
          7000000000000,
          8000000000000,
          9000000000000,
          10000000000000,
          11000000000000,
          12000000000000,
          13000000000000,
          14000000000000,
          15000000000000,
          16000000000000,
          17000000000000,
          18000000000000,
          19000000000000,
          20000000000000,
          21000000000000,
          22000000000000,
          23000000000000,
          24000000000000,
          25000000000000,
          26000000000000,
          27000000000000,
          28000000000000,
          29000000000000,
          30000000000000,
          31000000000000,
          32000000000000,
          33000000000000,
          34000000000000,
          35000000000000
         ],
         "y": {
          "bdata": "AAAAAAAAMD0wnreGzis/QCBAcerBm0BA6EFpOJQIQUCQd4FiKTBBQIifBa14PUFAyJXtCm9BQUA4EmFR3EJBQNhiMtkoQ0FACBvZq6NDQUDojA6+tkNBQHjiiSRXQ0FAyO07qUpDQUBIJv58PENBQOiROYItQ0FAeP10hx5DQUC4B+dbRUNBQDDvIaN0Q0FAoNZc6qNDQUCgGQEQu0NBQCA+P+S0Q0FAEI8gErxDQUAQzVTjr0NBQMjIqOCcQ0FAeDHU65tDQUBYvbAmpUNBQFh7T1StQ0FAuPb5CbBDQUAgcqS/skNBQOjBsPezQ0FAeHTrZLBDQUAIJybSrENBQKDZYD+pQ0FAaE3igaNDQUCQrCgunUNBQMgLb9qWQ0FA",
          "dtype": "f8"
         }
        },
        {
         "legendgroup": "030",
         "line": {
          "color": "rgb(2, 157, 212)"
         },
         "name": "030",
         "opacity": 0.4,
         "type": "scatter",
         "x": [
          0,
          1000000000000,
          2000000000000,
          3000000000000,
          4000000000000,
          5000000000000,
          6000000000000,
          7000000000000,
          8000000000000,
          9000000000000,
          10000000000000,
          11000000000000,
          12000000000000,
          13000000000000,
          14000000000000,
          15000000000000,
          16000000000000,
          17000000000000,
          18000000000000,
          19000000000000,
          20000000000000,
          21000000000000,
          22000000000000,
          23000000000000,
          24000000000000,
          25000000000000,
          26000000000000,
          27000000000000,
          28000000000000,
          29000000000000,
          30000000000000,
          31000000000000,
          32000000000000,
          33000000000000,
          34000000000000,
          35000000000000
         ],
         "y": {
          "bdata": "gKRAN81bKMCAtMJBM2JCwHCUJajWvkHAAJmrQJZjQcBoK9V/qVdBwGhyTjOwU0HA6MRAkuFRQcAggejEQVFBwMjw2VrtUEHAINlkol5RQcDoLBlfX1FBwHDnkXbHUEHA6EzvFVJQQcCATna69U9BwOgCfE6lT0HAILeB4lRPQcAAHqjswU9BwMin6LVMUEHAcDEpf9dQQcAg4N5xN1FBwICN64dHUUHA6E2ZSFJRQcDwWcZIKFFBwKBR2a7rUEHAIAuVJ+FQQcAAJL3g8lBBwADCOKgDUUHAAIwXhw9RQcAAVvZlG1FBwIA/1BYjUUHAgNPdVx1RQcCAZ+eYF1FBwHD78NkRUUHA6N/HFQFRQcBIpJRV7VBBwLBoYZXZUEHA",
          "dtype": "f8"
         }
        },
        {
         "legendgroup": "031",
         "line": {
          "color": "rgb(3, 167, 217)"
         },
         "name": "031",
         "opacity": 0.4,
         "type": "scatter",
         "x": [
          0,
          1000000000000,
          2000000000000,
          3000000000000,
          4000000000000,
          5000000000000,
          6000000000000,
          7000000000000,
          8000000000000,
          9000000000000,
          10000000000000,
          11000000000000,
          12000000000000,
          13000000000000,
          14000000000000,
          15000000000000,
          16000000000000,
          17000000000000,
          18000000000000,
          19000000000000,
          20000000000000,
          21000000000000,
          22000000000000,
          23000000000000,
          24000000000000,
          25000000000000,
          26000000000000,
          27000000000000,
          28000000000000,
          29000000000000,
          30000000000000,
          31000000000000,
          32000000000000,
          33000000000000,
          34000000000000,
          35000000000000
         ],
         "y": {
          "bdata": "AAAAAAAAQD0YlUSFCbpBQEhHyrB4HENAALRNolmSQ0CA4WBzk7VDQOAVbpVDwENAqOBoBZPDQ0AA5qWFH8RDQNB+mh4UxENAUJ+NjmbEQ0DgYMq3iMRDQOCLvCmXxENAuDTnq5LEQ0BY3REujsRDQBi/t6iJxENAUIIWQYLEQ0BYRXXZesRDQGAI1HFzxENAUNP0KHDEQ0DgOibVcMRDQLiiV4FxxENAAEe3LHLEQ0BQwKGHcsRDQIA5jOJyxENA0LJ2PXPEQ0BQ7V9Kc8RDQNBDXQxzxENAUJpaznLEQ0CAOLCRcsRDQKilE9lyxENAuBJ3IHPEQ0DQf9pnc8RDQGCq01lzxENAAOrC+XLEQ0C4KbKZcsRDQFBHzjlyxENA",
          "dtype": "f8"
         }
        },
        {
         "legendgroup": "031",
         "line": {
          "color": "rgb(3, 167, 217)"
         },
         "name": "031",
         "opacity": 0.4,
         "type": "scatter",
         "x": [
          0,
          1000000000000,
          2000000000000,
          3000000000000,
          4000000000000,
          5000000000000,
          6000000000000,
          7000000000000,
          8000000000000,
          9000000000000,
          10000000000000,
          11000000000000,
          12000000000000,
          13000000000000,
          14000000000000,
          15000000000000,
          16000000000000,
          17000000000000,
          18000000000000,
          19000000000000,
          20000000000000,
          21000000000000,
          22000000000000,
          23000000000000,
          24000000000000,
          25000000000000,
          26000000000000,
          27000000000000,
          28000000000000,
          29000000000000,
          30000000000000,
          31000000000000,
          32000000000000,
          33000000000000,
          34000000000000,
          35000000000000
         ],
         "y": {
          "bdata": "oFiB1s5cKMBIyKDsp+VDwBhXnsNvRkPAaNbCEtsfQ8BIO/uNmRNDwHAWe4gnEEPA+BSuX2EPQ8BIB4WutQ5DwHALtqrwDkPA+GqrseAOQ8CYfLzlyA5DwKhaFL26DkPAyOUr1rUOQ8DIcEPvsA5DwJinniqsDkPAeCR8irQOQ8BooVnqvA5DwEgeN0rFDkPAmAqXAskOQ8DodJJCyA5DwPjejYLHDkPAGCIsxsYOQ8CY2NRuxw5DwDiPfRfIDkPAqEUmwMgOQ8D41ylryQ5DwJhxcBjKDkPASAu3xcoOQ8D4bWBwyw5DwJjSWRrLDkPASDdTxMoOQ8Dom0xuyg5DwEhm8n7KDkPAmJo18soOQ8Doznhlyw5DwGhjzNjLDkPA",
          "dtype": "f8"
         }
        },
        {
         "legendgroup": "032",
         "line": {
          "color": "rgb(3, 177, 221)"
         },
         "name": "032",
         "opacity": 0.4,
         "type": "scatter",
         "x": [
          0,
          1000000000000,
          2000000000000,
          3000000000000,
          4000000000000,
          5000000000000,
          6000000000000,
          7000000000000,
          8000000000000,
          9000000000000,
          10000000000000,
          11000000000000,
          12000000000000,
          13000000000000,
          14000000000000,
          15000000000000,
          16000000000000,
          17000000000000,
          18000000000000,
          19000000000000,
          20000000000000,
          21000000000000,
          22000000000000,
          23000000000000,
          24000000000000,
          25000000000000,
          26000000000000,
          27000000000000,
          28000000000000,
          29000000000000,
          30000000000000,
          31000000000000,
          32000000000000,
          33000000000000,
          34000000000000,
          35000000000000
         ],
         "y": {
          "bdata": "AAAAAAAAMD0oMpaFwIJQQASfgX7Gv1BAfAwaUZS2UEAU7tbCPqpQQHybVn8sqlBA7BlyU6GpUEAEuhAO26hQQDyQTm21qFBAhPBvAZKoUEBsy3i+W6hQQMz5PWw9qFBANJsvDTmoUEDwXVcuWKhQQLAPm4dlqFBAlBTDJlyoUED8VvQhUqhQQBDb58VNqFBAcLHazUqoUEDMh83VR6hQQNDxkApFqFBAnF6AQEKoUECsSZ+wQKhQQCyor/4/qFBAtLFihj+oUECscjj4P6hQQKwzDmpAqFBAnPTj20CoUEBQ4PaZQahQQJDEGHlCqFBA1Kg6WEOoUEDMq3UvRKhQQOwFl+ZEqFBA9F+4nUWoUEAUutlURqhQQPxPOtxGqFBA",
          "dtype": "f8"
         }
        },
        {
         "legendgroup": "032",
         "line": {
          "color": "rgb(3, 177, 221)"
         },
         "name": "032",
         "opacity": 0.4,
         "type": "scatter",
         "x": [
          0,
          1000000000000,
          2000000000000,
          3000000000000,
          4000000000000,
          5000000000000,
          6000000000000,
          7000000000000,
          8000000000000,
          9000000000000,
          10000000000000,
          11000000000000,
          12000000000000,
          13000000000000,
          14000000000000,
          15000000000000,
          16000000000000,
          17000000000000,
          18000000000000,
          19000000000000,
          20000000000000,
          21000000000000,
          22000000000000,
          23000000000000,
          24000000000000,
          25000000000000,
          26000000000000,
          27000000000000,
          28000000000000,
          29000000000000,
          30000000000000,
          31000000000000,
          32000000000000,
          33000000000000,
          34000000000000,
          35000000000000
         ],
         "y": {
          "bdata": "wD72pOlQKMAs9i6duIFQwHQUBdp6FVDA0DPRW9/JT8DI0uXqCJpPwEiSVH3UgU/A6AUHjuN2T8D4KzD/kXFPwMiPsDSsb0/AeA7SPzJxT8AYwF0i+HFPwMhX9CUzck/AiG49yOVxT8A4UluOTHFPwLiaC0M3cU/AOGoICptxT8B489o8MXJPwHALCrOjck/AQNU2mOpyT8Aon2N9MXNPwHg2FilBc0/ASPQVY09zT8A4GAvFSHNPwFAblG0zc0/AcJgPChxzT8A4dKdV/HJPwAhQP6Hcck/A0CvX7LxyT8BAgn7goXJPwLiVC9mIck/ACKmY0W9yT8BweowTWXJPwHAdnJ9Lck/AcMCrKz5yT8BwY7u3MHJPwJjf/ewqck/A",
          "dtype": "f8"
         }
        },
        {
         "legendgroup": "033",
         "line": {
          "color": "rgb(3, 187, 225)"
         },
         "name": "033",
         "opacity": 0.4,
         "type": "scatter",
         "x": [
          0,
          1000000000000,
          2000000000000,
          3000000000000,
          4000000000000,
          5000000000000,
          6000000000000,
          7000000000000,
          8000000000000,
          9000000000000,
          10000000000000,
          11000000000000,
          12000000000000,
          13000000000000,
          14000000000000,
          15000000000000,
          16000000000000,
          17000000000000,
          18000000000000,
          19000000000000,
          20000000000000,
          21000000000000,
          22000000000000,
          23000000000000,
          24000000000000,
          25000000000000,
          26000000000000,
          27000000000000,
          28000000000000,
          29000000000000,
          30000000000000,
          31000000000000,
          32000000000000,
          33000000000000,
          34000000000000,
          35000000000000
         ],
         "y": {
          "bdata": "AAAAAAAAMD1YZwyRoMJNQGCFth6gnU1AeDOS04fXTUDIwWoE6ulNQJD3vfqv8U1AMCOCT2f1TUAY94em1fVNQNi4vuMA9k1AsMclZDv2TUCg0i5YPfZNQGAWchUw9k1ASLU4GCr2TUCY5dVpK/ZNQAi9zG8v9k1ACAvRQjL2TUAIWdUVNfZNQDA2SV429k1A0MH3ZTb2TUBwTaZtNvZNQEhf1GU29k1AIB74QDX2TUAQ3RscNPZNQACcP/cy9k1AIOYLFzL2TUAIeqluMfZNQNgNR8Yw9k1AwMg5JTD2TUDIowALMPZNQNh+x/Av9k1A8FmO1i/2TUAYPeT8L/ZNQMgvtlcw9k1AcCKIsjD2TUBIVW8PMfZNQCC/mJ4x9k1A",
          "dtype": "f8"
         }
        },
        {
         "legendgroup": "033",
         "line": {
          "color": "rgb(3, 187, 225)"
         },
         "name": "033",
         "opacity": 0.4,
         "type": "scatter",
         "x": [
          0,
          1000000000000,
          2000000000000,
          3000000000000,
          4000000000000,
          5000000000000,
          6000000000000,
          7000000000000,
          8000000000000,
          9000000000000,
          10000000000000,
          11000000000000,
          12000000000000,
          13000000000000,
          14000000000000,
          15000000000000,
          16000000000000,
          17000000000000,
          18000000000000,
          19000000000000,
          20000000000000,
          21000000000000,
          22000000000000,
          23000000000000,
          24000000000000,
          25000000000000,
          26000000000000,
          27000000000000,
          28000000000000,
          29000000000000,
          30000000000000,
          31000000000000,
          32000000000000,
          33000000000000,
          34000000000000,
          35000000000000
         ],
         "y": {
          "bdata": "AKXrkiBeKMBIlTIw0hlOwMhmt4Xkq0zAqGUY6o9pTMDw5x7fPXBMwLip9qQmckzAcKN2oPZzTMBw2vAPFXRMwEC1nwktdEzA+C/A8El0TMAIkuOxTnRMwFhHRkBGdEzA4JZO/T90TMDAowDOPnRMwOBD7aRAdEzAYFiiFEN0TMDYbFeERXRMwDhAIeJGdEzAEKM6YUd0TMDgBVTgR3RMwKi98E1IdEzAiMACekd0TMBgwxSmRnRMwEDGJtJFdEzA8BM0CUV0TMAo5C5JRHRMwFi0KYlDdEzAaHDszkJ0TMDAN/t+QnRMwAj/CS9CdEzAYMYY30F0TMB401XTQXRMwNjCAP9BdEzAQLKrKkJ0TMA4gw5ZQnRMwLB5B8lCdEzA",
          "dtype": "f8"
         }
        },
        {
         "legendgroup": "034",
         "line": {
          "color": "rgb(4, 196, 230)"
         },
         "name": "034",
         "opacity": 0.4,
         "type": "scatter",
         "x": [
          0,
          1000000000000,
          2000000000000,
          3000000000000,
          4000000000000,
          5000000000000,
          6000000000000,
          7000000000000,
          8000000000000,
          9000000000000,
          10000000000000,
          11000000000000,
          12000000000000,
          13000000000000,
          14000000000000,
          15000000000000,
          16000000000000,
          17000000000000,
          18000000000000,
          19000000000000,
          20000000000000,
          21000000000000,
          22000000000000,
          23000000000000,
          24000000000000,
          25000000000000,
          26000000000000,
          27000000000000,
          28000000000000,
          29000000000000,
          30000000000000,
          31000000000000,
          32000000000000,
          33000000000000,
          34000000000000,
          35000000000000
         ],
         "y": {
          "bdata": "AAAAAAAAMD0YeqYi81pHQNhwCP5aMEhAMHTvWUh2SEBY+68OOY9IQLiXHdgElkhAyLvGDwCYSEBYtXpDjphIQFiKfliamEhAGFfFnpaYSEAob31uiJhIQAhS38KAmEhA2Dtyb3uYSEDgA9kcd5hIQJhEU3h4mEhA2LMC8HuYSECgasQzf5hIQBiU375+mEhAaL36SX6YSEDY5hXVfZhIQGh071B8mEhA4Fdc8HmYSEBYO8mPd5hIQEhq7mR3mEhAqCmtB3qYSEAY6WuqfJhIQJioKk1/mEhASKPqoIGYSEBoeXm0g5hIQLhPCMiFmEhAqMXx0YeYSEAAj+UqiZhIQEhY2YOKmEhAiCHN3IuYSEBYm5fLjJhIQEitaxqNmEhA",
          "dtype": "f8"
         }
        },
        {
         "legendgroup": "034",
         "line": {
          "color": "rgb(4, 196, 230)"
         },
         "name": "034",
         "opacity": 0.4,
         "type": "scatter",
         "x": [
          0,
          1000000000000,
          2000000000000,
          3000000000000,
          4000000000000,
          5000000000000,
          6000000000000,
          7000000000000,
          8000000000000,
          9000000000000,
          10000000000000,
          11000000000000,
          12000000000000,
          13000000000000,
          14000000000000,
          15000000000000,
          16000000000000,
          17000000000000,
          18000000000000,
          19000000000000,
          20000000000000,
          21000000000000,
          22000000000000,
          23000000000000,
          24000000000000,
          25000000000000,
          26000000000000,
          27000000000000,
          28000000000000,
          29000000000000,
          30000000000000,
          31000000000000,
          32000000000000,
          33000000000000,
          34000000000000,
          35000000000000
         ],
         "y": {
          "bdata": "QA8ELQRfKMD4nA6Fs19LwLBdxn4Hi0nAyPs6LOIEScD4Y5m4iuNIwADC3/Ka2UjACJ7T6hjWSMD4gxqy5tRIwACy4Bt31EjAsF5C4UrUSMBY1t2KNNRIwIhnzjYn1EjASB92HR7USMBABEbXFtRIwMg5swwR1EjAWG8gQgvUSMBIJH/JBdRIwFhWJjAG1EjAeIjNlgbUSMCAunT9BtRIwDBnxUoJ1EjAmPqMIw3USMAIjlT8ENRIwACXGdsU1EjAAInCJxnUSMAIe2t0HdRIwAhtFMEh1EjAyHhBnCXUSMB4xTYbKdRIwAgSLJos1EjAyEu5CDDUSMDIgUpKMtRIwNi324s01EjA8O1szTbUSMDIrLxnONRIwJijBwY51EjA",
          "dtype": "f8"
         }
        },
        {
         "legendgroup": "035",
         "line": {
          "color": "rgb(4, 206, 234)"
         },
         "name": "035",
         "opacity": 0.4,
         "type": "scatter",
         "x": [
          0,
          1000000000000,
          2000000000000,
          3000000000000,
          4000000000000,
          5000000000000,
          6000000000000,
          7000000000000,
          8000000000000,
          9000000000000,
          10000000000000,
          11000000000000,
          12000000000000,
          13000000000000,
          14000000000000,
          15000000000000,
          16000000000000,
          17000000000000,
          18000000000000,
          19000000000000,
          20000000000000,
          21000000000000,
          22000000000000,
          23000000000000,
          24000000000000,
          25000000000000,
          26000000000000,
          27000000000000,
          28000000000000,
          29000000000000,
          30000000000000,
          31000000000000,
          32000000000000,
          33000000000000,
          34000000000000,
          35000000000000
         ],
         "y": {
          "bdata": "AAAAAAAAQD3wJWrpI4NGQMCX/7L38kdAeDSsrrNXSECQh5Gf0HNIQCgh1Y+Ee0hAkGV33GV9SECYQFH33n1IQNj+CYTqfUhAGChzfe59SEBoT/T3731IQJgMKdHwfUhA2MldqvF9SEBYrSj/8X1IQGDVjSvyfUhAeP3yV/J9SEDgNgl88n1IQKhlOYnyfUhAeJRplvJ9SEBYw5mj8n1IQOA4yqvyfUhAyEF0svJ9SECYSh658n1IQGia8r7yfUhA2N95wvJ9SEAoJQHG8n1IQJBqiMnyfUhA2HzoyvJ9SEBoZaDL8n1IQBhOWMzyfUhAuCRSzPJ9SEAgIUDK8n1IQJAdLsjyfUhA6BkcxvJ9SEBIIfbD8n1IQOARysHyfUhA",
          "dtype": "f8"
         }
        },
        {
         "legendgroup": "035",
         "line": {
          "color": "rgb(4, 206, 234)"
         },
         "name": "035",
         "opacity": 0.4,
         "type": "scatter",
         "x": [
          0,
          1000000000000,
          2000000000000,
          3000000000000,
          4000000000000,
          5000000000000,
          6000000000000,
          7000000000000,
          8000000000000,
          9000000000000,
          10000000000000,
          11000000000000,
          12000000000000,
          13000000000000,
          14000000000000,
          15000000000000,
          16000000000000,
          17000000000000,
          18000000000000,
          19000000000000,
          20000000000000,
          21000000000000,
          22000000000000,
          23000000000000,
          24000000000000,
          25000000000000,
          26000000000000,
          27000000000000,
          28000000000000,
          29000000000000,
          30000000000000,
          31000000000000,
          32000000000000,
          33000000000000,
          34000000000000,
          35000000000000
         ],
         "y": {
          "bdata": "4NFHfQxZKMBAvrkewiZIwAib4rqyp0fAiD3opgiKR8CIi2e0GIJHwOhcnA/qf0fAaHhZQmJ/R8AwoVQ+QH9HwDAFZx09f0fAaBwHyTt/R8AIdPpSO39HwLCjDhU7f0fAUNMi1zp/R8DQ5mG/On9HwIjuRbM6f0fAUPYppzp/R8DoWCKdOn9HwFD11Zg6f0fAoJGJlDp/R8DoLT2QOn9HwGiQp406f0fA6M+Xizp/R8CID4iJOn9HwIjc0Ic6f0fAiLgNhzp/R8CglEqGOn9HwLBwh4U6f0fAMIA7hTp/R8Bo7ROFOn9HwLBa7IQ6f0fA0MfwhDp/R8AIeW6FOn9HwFgq7IU6f0fAsNtphjp/R8CwlwKHOn9HwIiTo4c6f0fA",
          "dtype": "f8"
         }
        },
        {
         "legendgroup": "036",
         "line": {
          "color": "rgb(4, 216, 238)"
         },
         "name": "036",
         "opacity": 0.4,
         "type": "scatter",
         "x": [
          0,
          1000000000000,
          2000000000000,
          3000000000000,
          4000000000000,
          5000000000000,
          6000000000000,
          7000000000000,
          8000000000000,
          9000000000000,
          10000000000000,
          11000000000000,
          12000000000000,
          13000000000000,
          14000000000000,
          15000000000000,
          16000000000000,
          17000000000000,
          18000000000000,
          19000000000000,
          20000000000000,
          21000000000000,
          22000000000000,
          23000000000000,
          24000000000000,
          25000000000000,
          26000000000000,
          27000000000000,
          28000000000000,
          29000000000000,
          30000000000000,
          31000000000000,
          32000000000000,
          33000000000000,
          34000000000000,
          35000000000000
         ],
         "y": {
          "bdata": "AAAAAAAAMD1wB9sIRvpIQGh0w0juQUpAmIhhnxGbSkCIhUnKZLJKQGhsiYYruEpAEFNvkZS5SkAIL7+237lKQEil8a/uuUpACIZ43uq5SkCgKHwc5blKQKBbMnXfuUpA2DhGbd25SkAoFlpl27lKQGjzbV3ZuUpAKGIi1Ne5SkCoPgu81rlKQCgb9KPVuUpASHYuj9S5SkBI4qzt07lKQFhOK0zTuUpAWLqpqtK5SkD4ljwu0rlKQIiy9dLRuUpACM6ud9G5SkBQwVIe0blKQMijkAfRuUpAQIbO8NC5SkCgaAza0LlKQCg5wOLQuUpAWMsuHtG5SkAgdDN30blKQKAqYO3RuUpAIBS7bdK5SkCI8vYC07lKQNjFE63TuUpA",
          "dtype": "f8"
         }
        },
        {
         "legendgroup": "036",
         "line": {
          "color": "rgb(4, 216, 238)"
         },
         "name": "036",
         "opacity": 0.4,
         "type": "scatter",
         "x": [
          0,
          1000000000000,
          2000000000000,
          3000000000000,
          4000000000000,
          5000000000000,
          6000000000000,
          7000000000000,
          8000000000000,
          9000000000000,
          10000000000000,
          11000000000000,
          12000000000000,
          13000000000000,
          14000000000000,
          15000000000000,
          16000000000000,
          17000000000000,
          18000000000000,
          19000000000000,
          20000000000000,
          21000000000000,
          22000000000000,
          23000000000000,
          24000000000000,
          25000000000000,
          26000000000000,
          27000000000000,
          28000000000000,
          29000000000000,
          30000000000000,
          31000000000000,
          32000000000000,
          33000000000000,
          34000000000000,
          35000000000000
         ],
         "y": {
          "bdata": "oJ3YrnJiKMDI9bmc9R1KwJAKxDFZeknA8KvjLexgScCgn7yaYlpJwDCS7PCqWEnAABCSIkNYScBwpjToKlhJwDDxRSYkWEnA0JL/tCRYScBgV1dQJlhJwJD/OOcnWEnAsD0i4yhYScDgewvfKVhJwBC69NoqWEnAkGLoxStYScAAqrKhLFhJwGjxfH0tWEnA4Bu1Vi5YScCgBqHWLlhJwFDxjFYvWEnAENx41i9YScDwO4o1MFhJwGiUPHcwWEnA4OzuuDBYScBA7zj5MFhJwEBKnggxWEnAQKUDGDFYScBAAGknMVhJwFBUEyAxWEnAAKAW9DBYScBglbmyMFhJwEDxQFwwWEnA8GaH/C9YScDQD96ML1hJwNDrRA0vWEnA",
          "dtype": "f8"
         }
        },
        {
         "legendgroup": "037",
         "line": {
          "color": "rgb(4, 226, 242)"
         },
         "name": "037",
         "opacity": 0.4,
         "type": "scatter",
         "x": [
          0,
          1000000000000,
          2000000000000,
          3000000000000,
          4000000000000,
          5000000000000,
          6000000000000,
          7000000000000,
          8000000000000,
          9000000000000,
          10000000000000,
          11000000000000,
          12000000000000,
          13000000000000,
          14000000000000,
          15000000000000,
          16000000000000,
          17000000000000,
          18000000000000,
          19000000000000,
          20000000000000,
          21000000000000,
          22000000000000,
          23000000000000,
          24000000000000,
          25000000000000,
          26000000000000,
          27000000000000,
          28000000000000,
          29000000000000,
          30000000000000,
          31000000000000,
          32000000000000,
          33000000000000,
          34000000000000,
          35000000000000
         ],
         "y": {
          "bdata": "AAAAAAAAWD0otR/8MMBIQOCcDYRhgUlAcIUPqYO9SUAAsd2fy9pJQACaDwxD5UlAkLslkjHoSUCwhqFJ9ehJQACvVv8s6UlAoDvdWTLpSUAQWOuuMOlJQBBsN+0u6UlAQCsBMC7pSUBQNgnPLelJQIhBEW4t6UlA8NRCQy3pSUCwGJQsLelJQFBc5RUt6UlAkKgYAy3pSUCAtVz9LOlJQHDCoPcs6UlAUM/k8SzpSUAIyKbuLOlJQBDFVews6UlAEMIE6izpSUDQedTnLOlJQJBSEuYs6UlAQCtQ5CzpSUDwA47iLOlJQBDVUeEs6UlA8GxH4CzpSUDQBD3fLOlJQMAxbN4s6UlA0Pav3izpSUAAiHrfLOlJQEjly+As6UlA",
          "dtype": "f8"
         }
        },
        {
         "legendgroup": "037",
         "line": {
          "color": "rgb(4, 226, 242)"
         },
         "name": "037",
         "opacity": 0.4,
         "type": "scatter",
         "x": [
          0,
          1000000000000,
          2000000000000,
          3000000000000,
          4000000000000,
          5000000000000,
          6000000000000,
          7000000000000,
          8000000000000,
          9000000000000,
          10000000000000,
          11000000000000,
          12000000000000,
          13000000000000,
          14000000000000,
          15000000000000,
          16000000000000,
          17000000000000,
          18000000000000,
          19000000000000,
          20000000000000,
          21000000000000,
          22000000000000,
          23000000000000,
          24000000000000,
          25000000000000,
          26000000000000,
          27000000000000,
          28000000000000,
          29000000000000,
          30000000000000,
          31000000000000,
          32000000000000,
          33000000000000,
          34000000000000,
          35000000000000
         ],
         "y": {
          "bdata": "ADTlX0l1KMBoRqv2O09LwFCyiF5tEUrAOFe+Hj28ScBQaom+2KVJwCh0+s2On0nAWCqS/V+gScAoIQyBtKBJwEg/oY3ToEnASGrH1digScDY6qDi3KBJwFj82YvioEnAWCsBVeagScDYjCh06aBJwFjuT5PsoEnAKP2jBe6gScAo76PY7qBJwEjho6vvoEnAyL5oKvCgScDQhcGN76BJwNhMGvHuoEnA+BNzVO6gScDI/PJ47aBJwMgiGYbsoEnAyEg/k+ugScDIvSyp6qBJwNgCpNzpoEnA2EcbEOmgScD4jJJD6KBJwEiTP6LnoEnAEI76EOegScDQiLV/5qBJwCiMcP3loEnAqAg5w+WgScAQ3B6s5aBJwFAGIrjloEnA",
          "dtype": "f8"
         }
        },
        {
         "legendgroup": "038",
         "line": {
          "color": "rgb(4, 235, 246)"
         },
         "name": "038",
         "opacity": 0.4,
         "type": "scatter",
         "x": [
          0,
          1000000000000,
          2000000000000,
          3000000000000,
          4000000000000,
          5000000000000,
          6000000000000,
          7000000000000,
          8000000000000,
          9000000000000,
          10000000000000,
          11000000000000,
          12000000000000,
          13000000000000,
          14000000000000,
          15000000000000,
          16000000000000,
          17000000000000,
          18000000000000,
          19000000000000,
          20000000000000,
          21000000000000,
          22000000000000,
          23000000000000,
          24000000000000,
          25000000000000,
          26000000000000,
          27000000000000,
          28000000000000,
          29000000000000,
          30000000000000,
          31000000000000,
          32000000000000,
          33000000000000,
          34000000000000,
          35000000000000
         ],
         "y": {
          "bdata": "AAAAAAAAQD3Q/spT28o+QAhplbOGQEBA+BvKxZ2sQEDYnfCltNhAQLAb/Ix55kBA2HMQVL3rQEDIQwGVQ+1AQLADMe7x7UBAyEFPWOntQEB4qT6lA+5AQEh6QWEf7kBA2E8UXBruQEB4JedWFe5AQLDbHKAQ7kBAyMirBAzuQEDYtTppB+5AQFh77MID7kBA2HAtHwPuQEBYZm57Au5AQNhbr9cB7kBAWC1GlQLuQEDYzyPOA+5AQHhyAQcF7kBAePedywXuQEBQlcsiBe5AQDAz+XkE7kBA2NAm0QPuQED4w0gIBO5AQHigjY0E7kBAIH3SEgXuQECwvGtxBe5AQEiadlYF7kBA2HeBOwXuQEB4VYwgBe5AQNiuEsoE7kBA",
          "dtype": "f8"
         }
        },
        {
         "legendgroup": "038",
         "line": {
          "color": "rgb(4, 235, 246)"
         },
         "name": "038",
         "opacity": 0.4,
         "type": "scatter",
         "x": [
          0,
          1000000000000,
          2000000000000,
          3000000000000,
          4000000000000,
          5000000000000,
          6000000000000,
          7000000000000,
          8000000000000,
          9000000000000,
          10000000000000,
          11000000000000,
          12000000000000,
          13000000000000,
          14000000000000,
          15000000000000,
          16000000000000,
          17000000000000,
          18000000000000,
          19000000000000,
          20000000000000,
          21000000000000,
          22000000000000,
          23000000000000,
          24000000000000,
          25000000000000,
          26000000000000,
          27000000000000,
          28000000000000,
          29000000000000,
          30000000000000,
          31000000000000,
          32000000000000,
          33000000000000,
          34000000000000,
          35000000000000
         ],
         "y": {
          "bdata": "AKrwj8BOKMBQwim6x5pDwKhIwrSuo0LAoJVKYBc2QsAoepIOnSxCwOh0952QKELASM6Q9UknQsA4jr+WsSZCwOh/h6ijJkLAoPgiHZ0mQsBwDGd8dyZCwLgAeNl8JkLAKDskeYcmQsCgddAYkiZCwMhJWL2TJkLAqOW3P5ImQsCIgRfCkCZCwCglddGOJkLAyBRPd4smQsB4BCkdiCZCwCj0AsOEJkLAyK4WEYUmQsA4Ls+lhiZCwLithzqIJkLAqL+kMIkmQsDgQTE0iCZCwCDEvTeHJkLAaEZKO4YmQsCI9JWthiZCwIhQ1p+HJkLAiKwWkogmQsAIxhNBiSZCwLj1oRyJJkLAcCUw+IgmQsAoVb7TiCZCwGB/kkaIJkLA",
          "dtype": "f8"
         }
        },
        {
         "legendgroup": "039",
         "line": {
          "color": "rgb(5, 245, 251)"
         },
         "name": "039",
         "opacity": 0.4,
         "type": "scatter",
         "x": [
          0,
          1000000000000,
          2000000000000,
          3000000000000,
          4000000000000,
          5000000000000,
          6000000000000,
          7000000000000,
          8000000000000,
          9000000000000,
          10000000000000,
          11000000000000,
          12000000000000,
          13000000000000,
          14000000000000,
          15000000000000,
          16000000000000,
          17000000000000,
          18000000000000,
          19000000000000,
          20000000000000,
          21000000000000,
          22000000000000,
          23000000000000,
          24000000000000,
          25000000000000,
          26000000000000,
          27000000000000,
          28000000000000,
          29000000000000,
          30000000000000,
          31000000000000,
          32000000000000,
          33000000000000,
          34000000000000,
          35000000000000
         ],
         "y": {
          "bdata": "AAAAAAAAMD3craGH+PRQQIRqmhI22lBA5ExQCGTIUEAE7tQpZL1QQEw3ho49ulBAHFKibFC6UED8y2i2U7pQQLTD2XQuulBAzIM7ih66UEBE4Q1kFLpQQAxYupQLulBATG01ZAO6UEAU8QCQBLpQQAyGz64EulBAJCeDawW6UECsUTQpBrpQQGyuMgMHulBANClyNgi6UEAEpLFpCbpQQMQe8ZwKulBAjFdTugu6UEBonQ7QDLpQQETjyeUNulBANCIY1w66UEDEHYZVD7pQQEgZ9NMPulBAzBRiUhC6UEAIiASKELpQQLwApYEQulBAjLkyTBC6UEA0gVnlD7pQQIzczz0PulBAhGqWXw66UEAkK61KDbpQQIh6bjoMulBA",
          "dtype": "f8"
         }
        },
        {
         "legendgroup": "039",
         "line": {
          "color": "rgb(5, 245, 251)"
         },
         "name": "039",
         "opacity": 0.4,
         "type": "scatter",
         "x": [
          0,
          1000000000000,
          2000000000000,
          3000000000000,
          4000000000000,
          5000000000000,
          6000000000000,
          7000000000000,
          8000000000000,
          9000000000000,
          10000000000000,
          11000000000000,
          12000000000000,
          13000000000000,
          14000000000000,
          15000000000000,
          16000000000000,
          17000000000000,
          18000000000000,
          19000000000000,
          20000000000000,
          21000000000000,
          22000000000000,
          23000000000000,
          24000000000000,
          25000000000000,
          26000000000000,
          27000000000000,
          28000000000000,
          29000000000000,
          30000000000000,
          31000000000000,
          32000000000000,
          33000000000000,
          34000000000000,
          35000000000000
         ],
         "y": {
          "bdata": "gAo3DI1jKMAYiW0f1GdQwMS/TYr7IVDAWJvFfWjkT8BQteIxhLpPwECzwgejp0/A6O9cZkKfT8CgK08rbJxPwOBDVD9am0/AyOWPJmaaT8CYs2X6l5lPwCjxt5zSmE/AmKwPPBSYT8BAh8H965dPwCC8ZecDmE/AEJz/IjOYT8AIqQuEYphPwIiIaZSQmE/AoCD+frqYT8CouJJp5JhPwMhQJ1QOmU/AyHTHHCyZT8Dg+l6mRZlPwAiB9i9fmU/AmPMjdHSZT8BImQZAfJlPwNg+6QuEmU/AiOTL14uZT8Bgga5BiplPwNht2i+AmU/AoPO8JHCZT8AQDwTBWplPwICnHDxCmU/AWGfBIiWZT8DITvJ0A5lPwMg0vxnkmE/A",
          "dtype": "f8"
         }
        },
        {
         "legendgroup": "040",
         "line": {
          "color": "rgb(5, 255, 255)"
         },
         "name": "040",
         "opacity": 0.4,
         "type": "scatter",
         "x": [
          0,
          1000000000000,
          2000000000000,
          3000000000000,
          4000000000000,
          5000000000000,
          6000000000000,
          7000000000000,
          8000000000000,
          9000000000000,
          10000000000000,
          11000000000000,
          12000000000000,
          13000000000000,
          14000000000000,
          15000000000000,
          16000000000000,
          17000000000000,
          18000000000000,
          19000000000000,
          20000000000000,
          21000000000000,
          22000000000000,
          23000000000000,
          24000000000000,
          25000000000000,
          26000000000000,
          27000000000000,
          28000000000000,
          29000000000000,
          30000000000000,
          31000000000000,
          32000000000000,
          33000000000000,
          34000000000000,
          35000000000000
         ],
         "y": {
          "bdata": "AAAAAAAAQD3gYhDuKWdHQNhSXt+ZQkhAEGAI0SazSEDg/b93+9BIQIiXB5IJ2UhA6KXJhv/aSEA4hyYdhdtIQHDs2G2W20hAOAnuV5nbSEBYSOqZlNtIQBD8dxqQ20hAUIhg9YvbSEDgJZwei9tIQHDD10eK20hAGGETcYnbSEDoeR8aidtIQLidpBmJ20hAYMEpGYnbSEAQYtYaidtIQLCesDCJ20hAONuKRonbSEC4F2VcidtIQDhGt22J20hA4J74e4nbSECQ9zmKidtIQOB6a5eJ20hA6NCqmonbSEDoJuqdidtIQOh8KaGJ20hAWGMTn4nbSEBogGGZidtIQHCdr5OJ20hAkJmnjYnbSEDwoGiDidtIQFghOXeJ20hA",
          "dtype": "f8"
         }
        },
        {
         "legendgroup": "040",
         "line": {
          "color": "rgb(5, 255, 255)"
         },
         "name": "040",
         "opacity": 0.4,
         "type": "scatter",
         "x": [
          0,
          1000000000000,
          2000000000000,
          3000000000000,
          4000000000000,
          5000000000000,
          6000000000000,
          7000000000000,
          8000000000000,
          9000000000000,
          10000000000000,
          11000000000000,
          12000000000000,
          13000000000000,
          14000000000000,
          15000000000000,
          16000000000000,
          17000000000000,
          18000000000000,
          19000000000000,
          20000000000000,
          21000000000000,
          22000000000000,
          23000000000000,
          24000000000000,
          25000000000000,
          26000000000000,
          27000000000000,
          28000000000000,
          29000000000000,
          30000000000000,
          31000000000000,
          32000000000000,
          33000000000000,
          34000000000000,
          35000000000000
         ],
         "y": {
          "bdata": "4KaesWh2KMC4HpOCZ+tIwChxUiVj2UfAsFNbKfG2R8AQkrFZZ65HwGDZhHMUrEfAOAkTC4OrR8CQ4dk/XKtHwJBodSxXq0fAwD7efFarR8CAFErdV6tHwIApKB5Zq0fAMN9FRVqrR8CQ/C57WqtHwOAZGLFaq0fAODcB51qrR8C4OBj+WqtHwLAsVQBbq0fAYCCSAlurR8AwwigEW6tHwMCEqf9aq0fAYEcq+1qrR8AQCqv2WqtHwEApDfNaq0fAsMAH8FqrR8DAVwLtWqtHwGAvP+paq0fAYJXo6VqrR8Bg+5HpWqtHwGBhO+laq0fAYDkY6lqrR8DgEcXrWqtHwEDqce1aq0fA+MYv71qrR8DgzcLxWqtHwMDtt/Raq0fA",
          "dtype": "f8"
         }
        },
        {
         "legendgroup": "041",
         "line": {
          "color": "rgb(17, 255, 242)"
         },
         "name": "041",
         "opacity": 0.4,
         "type": "scatter",
         "x": [
          0,
          1000000000000,
          2000000000000,
          3000000000000,
          4000000000000,
          5000000000000,
          6000000000000,
          7000000000000,
          8000000000000,
          9000000000000,
          10000000000000,
          11000000000000,
          12000000000000,
          13000000000000,
          14000000000000,
          15000000000000,
          16000000000000,
          17000000000000,
          18000000000000,
          19000000000000,
          20000000000000,
          21000000000000,
          22000000000000,
          23000000000000,
          24000000000000,
          25000000000000,
          26000000000000,
          27000000000000,
          28000000000000,
          29000000000000,
          30000000000000,
          31000000000000,
          32000000000000,
          33000000000000,
          34000000000000,
          35000000000000
         ],
         "y": {
          "bdata": "AAAAAAAAQD3wcC2NdohFQAjgb/G0CEdAgGLjuyx1R0AQLlzdVJNHQBiCo7TOm0dAiJ1pWwWeR0C4Qounlp5HQGBoYG6lnkdAYNTgq6eeR0DYcL2aqJ5HQAixOyWpnkdAGErJVameR0A441aGqZ5HQLj9+6qpnkdAEGlgq6meR0B41MSrqZ5HQNg/KaypnkdAuJ7RpqmeR0DYdYmfqZ5HQNhMQZipnkdAuCCGkameR0D4K3iMqZ5HQBA3aoepnkdAWEJcgqmeR0Bw3ld/qZ5HQIjiA32pnkdAwOaveqmeR0BYlhV5qZ5HQPCDsHmpnkdAgHFLeqmeR0AQX+Z6qZ5HQPi+znypnkdAeHjff6meR0DYUcKDqZ5HQMDES4ipnkdA",
          "dtype": "f8"
         }
        },
        {
         "legendgroup": "041",
         "line": {
          "color": "rgb(17, 255, 242)"
         },
         "name": "041",
         "opacity": 0.4,
         "type": "scatter",
         "x": [
          0,
          1000000000000,
          2000000000000,
          3000000000000,
          4000000000000,
          5000000000000,
          6000000000000,
          7000000000000,
          8000000000000,
          9000000000000,
          10000000000000,
          11000000000000,
          12000000000000,
          13000000000000,
          14000000000000,
          15000000000000,
          16000000000000,
          17000000000000,
          18000000000000,
          19000000000000,
          20000000000000,
          21000000000000,
          22000000000000,
          23000000000000,
          24000000000000,
          25000000000000,
          26000000000000,
          27000000000000,
          28000000000000,
          29000000000000,
          30000000000000,
          31000000000000,
          32000000000000,
          33000000000000,
          34000000000000,
          35000000000000
         ],
         "y": {
          "bdata": "wJsgdnp1KMBAq2C90dFHwEB/uEG59EbA2O6g5prRRsCw41gB/MhGwHg4uXB2xkbAMDkob8zFRsBY0z/7ocVGwFhRILmdxUbAWBVZspzFRsAwFGdInMVGwPjqZAqcxUbAWOzB85vFRsDQ7R7dm8VGwDAjzcybxUbAeK22z5vFRsDQN6DSm8VGwEjCidWbxUbAWDZv25vFRsB4Clfim8VGwLDePumbxUbAeBPz75vFRsBYIAr2m8VGwEgtIfybxUbAMDo4ApzFRsBQewsGnMVGwFiiGgmcxUbAsMkpDJzFRsBQbnkOnMVGwFgNgg6cxUbAeKyKDpzFRsCgS5MOnMVGwMhDCw2cxUbAeCcfCpzFRsDIkTYGnMVGwEiXgAGcxUbA",
          "dtype": "f8"
         }
        },
        {
         "legendgroup": "042",
         "line": {
          "color": "rgb(30, 255, 230)"
         },
         "name": "042",
         "opacity": 0.4,
         "type": "scatter",
         "x": [
          0,
          1000000000000,
          2000000000000,
          3000000000000,
          4000000000000,
          5000000000000,
          6000000000000,
          7000000000000,
          8000000000000,
          9000000000000,
          10000000000000,
          11000000000000,
          12000000000000,
          13000000000000,
          14000000000000,
          15000000000000,
          16000000000000,
          17000000000000,
          18000000000000,
          19000000000000,
          20000000000000,
          21000000000000,
          22000000000000,
          23000000000000,
          24000000000000,
          25000000000000,
          26000000000000,
          27000000000000,
          28000000000000,
          29000000000000,
          30000000000000,
          31000000000000,
          32000000000000,
          33000000000000,
          34000000000000,
          35000000000000
         ],
         "y": {
          "bdata": "AAAAAAAAMD0ALl3A9rRHQNhkz8M6KElAMEwvGGSXSUAQgGt977NJQLDAoyhvu0lA4LpojC+9SUAgbm5Sk71JQJCVLZmevUlAIHWebKO9SUDwJU+3pL1JQNjW/wGmvUlAINkX7aa9SUCw+a4pp71JQGAaRmanvUlAADvdoqe9SUCAVPCzp71JQJDbkb2nvUlAoGIzx6e9SUAgAgXOp71JQGCBtM+nvUlAoABk0ae9SUDYfxPTp71JQFiBMtenvUlAkCq826e9SUC400Xgp71JQCCufOOnvUlAIBFJ5Ke9SUAgdBXlp71JQBDX4eWnvUlAWBmR56e9SUBgKmfpp71JQIA7PeunvUlAsIbl66e9SUBg9Wbqp71JQBBk6OinvUlA",
          "dtype": "f8"
         }
        },
        {
         "legendgroup": "042",
         "line": {
          "color": "rgb(30, 255, 230)"
         },
         "name": "042",
         "opacity": 0.4,
         "type": "scatter",
         "x": [
          0,
          1000000000000,
          2000000000000,
          3000000000000,
          4000000000000,
          5000000000000,
          6000000000000,
          7000000000000,
          8000000000000,
          9000000000000,
          10000000000000,
          11000000000000,
          12000000000000,
          13000000000000,
          14000000000000,
          15000000000000,
          16000000000000,
          17000000000000,
          18000000000000,
          19000000000000,
          20000000000000,
          21000000000000,
          22000000000000,
          23000000000000,
          24000000000000,
          25000000000000,
          26000000000000,
          27000000000000,
          28000000000000,
          29000000000000,
          30000000000000,
          31000000000000,
          32000000000000,
          33000000000000,
          34000000000000,
          35000000000000
         ],
         "y": {
          "bdata": "gAhDpGphKMA4lzqdXgpJwAjiklaAjkjAOBK5qAJxSMC41ZXYaWlIwDiyw8RpZ0jACEt7X/NmSMCIYs/j2GZIwAiMl/TVZkjAGCL2htRmSMA4j50t1GZIwGj8RNTTZkjAOBq/ktNmSMCI4bV802ZIwLiorGbTZkjAEHCjUNNmSMCYfapG02ZIwBjQwT7TZkjAkCLZNtNmSMCIAe8w02ZIwIjXqC7TZkjAmK1iLNNmSMCYgxwq02ZIwIjFzynTZkjACHzZKdNmSMBoMuMp02ZIwLhKSyrTZkjAuKxfK9NmSMC4DnQs02ZIwLhwiC3TZkjA6H1XLtNmSMAQrxov02ZIwDjg3S/TZkjAuBmaMNNmSMA4m0kx02ZIwOgc+THTZkjA",
          "dtype": "f8"
         }
        },
        {
         "legendgroup": "043",
         "line": {
          "color": "rgb(42, 255, 217)"
         },
         "name": "043",
         "opacity": 0.4,
         "type": "scatter",
         "x": [
          0,
          1000000000000,
          2000000000000,
          3000000000000,
          4000000000000,
          5000000000000,
          6000000000000,
          7000000000000,
          8000000000000,
          9000000000000,
          10000000000000,
          11000000000000,
          12000000000000,
          13000000000000,
          14000000000000,
          15000000000000,
          16000000000000,
          17000000000000,
          18000000000000,
          19000000000000,
          20000000000000,
          21000000000000,
          22000000000000,
          23000000000000,
          24000000000000,
          25000000000000,
          26000000000000,
          27000000000000,
          28000000000000,
          29000000000000,
          30000000000000,
          31000000000000,
          32000000000000,
          33000000000000,
          34000000000000,
          35000000000000
         ],
         "y": {
          "bdata": "AAAAAAAAMD34NOiSpUNCQNhfvzZ40ENAkMURGmRTREBIxr29sHlEQAAuYFtAhURAAPfCfaCIREC49tAHjolEQABqoAjSiURAgDNiAOmJRECAluBb6YlEQDB7oEbkiURAyF9gMd+JREBAgnrC2olEQFhKthfZiURAgBLybNeJRECY2i3C1YlEQGAWotrUiURAgHGzStSJRECIzMS604lEQJhjmELTiURAMOmOL9OJREC4boUc04lEQED0ewnTiURA2PHwB9OJREBI2D8O04lEQLC+jhTTiURAiAXKHNOJREAIQTUt04lEQIh8oD3TiURAALgLTtOJREDg7axY04lEQIAEtWDTiURAEBu9aNOJREAQVD1w04lEQHgye3XTiURA",
          "dtype": "f8"
         }
        },
        {
         "legendgroup": "043",
         "line": {
          "color": "rgb(42, 255, 217)"
         },
         "name": "043",
         "opacity": 0.4,
         "type": "scatter",
         "x": [
          0,
          1000000000000,
          2000000000000,
          3000000000000,
          4000000000000,
          5000000000000,
          6000000000000,
          7000000000000,
          8000000000000,
          9000000000000,
          10000000000000,
          11000000000000,
          12000000000000,
          13000000000000,
          14000000000000,
          15000000000000,
          16000000000000,
          17000000000000,
          18000000000000,
          19000000000000,
          20000000000000,
          21000000000000,
          22000000000000,
          23000000000000,
          24000000000000,
          25000000000000,
          26000000000000,
          27000000000000,
          28000000000000,
          29000000000000,
          30000000000000,
          31000000000000,
          32000000000000,
          33000000000000,
          34000000000000,
          35000000000000
         ],
         "y": {
          "bdata": "QM2K/uNfKMCIgQUP87NEwADS7TMLH0TAiCO+z4z7Q8D4ydxNRfFDwDC/rdIj7kPA8PW/6zntQ8B4zW+7++xDwNgKL/ro7EPAGBKKtuLsQ8C4K0Hq4exDwOgmSFPj7EPAICJPvOTsQ8B4Orj+5exDwID1vpzm7EPAmLDFOufsQ8Cwa8zY5+xDwGiCoi3o7EPAiLWfYejsQ8Co6JyV6OxDwNgLX8Ho7EPAYNAXyujsQ8DolNDS6OxDwHhZidvo7EPAsCm42ejsQ8CoJizT6OxDwKAjoMzo7EPAKAJYxujsQ8AY1jDB6OxDwOipCbzo7EPAyH3itujsQ8CwJOWw6OxDwMish6ro7EPA2DQqpOjsQ8AYKnKe6OxDwPBPepvo7EPA",
          "dtype": "f8"
         }
        },
        {
         "legendgroup": "044",
         "line": {
          "color": "rgb(55, 255, 204)"
         },
         "name": "044",
         "opacity": 0.4,
         "type": "scatter",
         "x": [
          0,
          1000000000000,
          2000000000000,
          3000000000000,
          4000000000000,
          5000000000000,
          6000000000000,
          7000000000000,
          8000000000000,
          9000000000000,
          10000000000000,
          11000000000000,
          12000000000000,
          13000000000000,
          14000000000000,
          15000000000000,
          16000000000000,
          17000000000000,
          18000000000000,
          19000000000000,
          20000000000000,
          21000000000000,
          22000000000000,
          23000000000000,
          24000000000000,
          25000000000000,
          26000000000000,
          27000000000000,
          28000000000000,
          29000000000000,
          30000000000000,
          31000000000000,
          32000000000000,
          33000000000000,
          34000000000000,
          35000000000000
         ],
         "y": {
          "bdata": "AAAAAAAAQD1QJhg2fKM9QMh+QXwxZE9AUJrnwN3CTkBw+AXTUdpOQAgQ+Jgq4E5AYP8pLEHhTkAQqfsLCuFOQCDfMEmP4E5A4GkWGQrgTkAgjX71sN9OQBDlXg1u305AYFhHVDjfTkCgIUKqEd9OQPDqPADr3k5ASLQ3VsTeTkDYPIUWt95OQAh6O7aq3k5AILfxVZ7eTkCgEnXwmt5OQHCHvMyh3k5AUPwDqajeTkAgcUuFr95OQJAZ59nD3k5AINdnx97eTkBgxufx/95OQBD6X/0l305AKEKhpE/fTkAgD/wQft9OQNBgcEKx305AaCcT4ODfTkDAKzUsEeBOQFhYyV9C4E5AkEktYGrgTkAIarsTh+BOQHCKScej4E5A",
          "dtype": "f8"
         }
        },
        {
         "legendgroup": "044",
         "line": {
          "color": "rgb(55, 255, 204)"
         },
         "name": "044",
         "opacity": 0.4,
         "type": "scatter",
         "x": [
          0,
          1000000000000,
          2000000000000,
          3000000000000,
          4000000000000,
          5000000000000,
          6000000000000,
          7000000000000,
          8000000000000,
          9000000000000,
          10000000000000,
          11000000000000,
          12000000000000,
          13000000000000,
          14000000000000,
          15000000000000,
          16000000000000,
          17000000000000,
          18000000000000,
          19000000000000,
          20000000000000,
          21000000000000,
          22000000000000,
          23000000000000,
          24000000000000,
          25000000000000,
          26000000000000,
          27000000000000,
          28000000000000,
          29000000000000,
          30000000000000,
          31000000000000,
          32000000000000,
          33000000000000,
          34000000000000,
          35000000000000
         ],
         "y": {
          "bdata": "wBzuikhcKMCICRNKkGZDwJhYY8+eX0/AoD8N9nK8TcAQJcPrt3hNwMDEh3lleU3ACNzPQ354TcCIQKmxuHdNwFiCDmRmd03AqJIcPQ93TcAIFbGBtHZNwHjpB39idk3AOERiux12TcDoThAZ6HVNwIhZvnaydU3AOGRs1Hx1TcAIXqUoZnVNwMA9C41QdU3AeB1x8Tp1TcB4RoyPMXVNwGhVgiQ2dU3AaGR4uTp1TcBgc25OP3VNwOhGb2ZVdU3AyDMbEnR1TcCYG/nZmnVNwMCKZQLIdU3AgE7b7Pl1TcCAw1gUMnZNwLjp3Xhwdk3AALJ6Ual2TcA4nYKh4nZNwChvXLkcd03AiC2zI0t3TcCI5VmIa3dNwICdAO2Ld03A",
          "dtype": "f8"
         }
        },
        {
         "legendgroup": "045",
         "line": {
          "color": "rgb(67, 255, 191)"
         },
         "name": "045",
         "opacity": 0.4,
         "type": "scatter",
         "x": [
          0,
          1000000000000,
          2000000000000,
          3000000000000,
          4000000000000,
          5000000000000,
          6000000000000,
          7000000000000,
          8000000000000,
          9000000000000,
          10000000000000,
          11000000000000,
          12000000000000,
          13000000000000,
          14000000000000,
          15000000000000,
          16000000000000,
          17000000000000,
          18000000000000,
          19000000000000,
          20000000000000,
          21000000000000,
          22000000000000,
          23000000000000,
          24000000000000,
          25000000000000,
          26000000000000,
          27000000000000,
          28000000000000,
          29000000000000,
          30000000000000,
          31000000000000,
          32000000000000,
          33000000000000,
          34000000000000,
          35000000000000
         ],
         "y": {
          "bdata": "AAAAAAAAMD04apD8X4pHQBhZ2lwp9khACMS4u6xeSUBYIYqjRHpJQGiDmUKlgUlACC2BdmSDSUBoix2N2oNJQFiTUBH5g0lA2CmxcviDSUAY8BXK8YNJQFi2eiHrg0lA6GINtOeDSUDY8eKL5YNJQLiAuGPjg0lAiB4AU+KDSUBYmH5I4YNJQBgS/T3gg0lA2AD8dt+DSUDoep/53oNJQBj1Qnzeg0lAOG/m/t2DSUA4Ntu+3YNJQGgQLYDdg0lA2Op+Qd2DSUCIIL4a3YNJQMDyFw7dg0lA4MRxAd2DSUAIl8v03INJQOjhdg/dg0lAuAICK92DSUBoI41G3YNJQOj7MWzdg0lAaM60pN2DSUAgv9Xn3YNJQBjOlDXeg0lA",
          "dtype": "f8"
         }
        },
        {
         "legendgroup": "045",
         "line": {
          "color": "rgb(67, 255, 191)"
         },
         "name": "045",
         "opacity": 0.4,
         "type": "scatter",
         "x": [
          0,
          1000000000000,
          2000000000000,
          3000000000000,
          4000000000000,
          5000000000000,
          6000000000000,
          7000000000000,
          8000000000000,
          9000000000000,
          10000000000000,
          11000000000000,
          12000000000000,
          13000000000000,
          14000000000000,
          15000000000000,
          16000000000000,
          17000000000000,
          18000000000000,
          19000000000000,
          20000000000000,
          21000000000000,
          22000000000000,
          23000000000000,
          24000000000000,
          25000000000000,
          26000000000000,
          27000000000000,
          28000000000000,
          29000000000000,
          30000000000000,
          31000000000000,
          32000000000000,
          33000000000000,
          34000000000000,
          35000000000000
         ],
         "y": {
          "bdata": "IEujrz1sKMDIKynhShJJwFhs5id/bkjAmIiCV/9SSMB4ZnZImEtIwFi2VBSWSUjAiK/XVR1JSMBIi56o/EhIwPhW3Cr0SEjAyHVIbPRISMBI77cf9khIwLhoJ9P3SEjASGyRtvhISMA4QC9I+UhIwDgUzdn5SEjAGK7GOfpISMAYraWY+khIwCishPf6SEjAWLoJSvtISMB4LxWP+0hIwJikINT7SEjAqBksGfxISMDY4QFE/EhIwHB0Qm78SEjACAeDmPxISMD4b1i1/EhIwOArisP8SEjAyOe70fxISMCoo+3f/EhIwFAqRNb8SEjAOOESzPxISMAImOHB/EhIwGgtP7D8SEjAOBW2kPxISMBwTlpp/EhIwBjZKzr8SEjA",
          "dtype": "f8"
         }
        },
        {
         "legendgroup": "046",
         "line": {
          "color": "rgb(80, 255, 179)"
         },
         "name": "046",
         "opacity": 0.4,
         "type": "scatter",
         "x": [
          0,
          1000000000000,
          2000000000000,
          3000000000000,
          4000000000000,
          5000000000000,
          6000000000000,
          7000000000000,
          8000000000000,
          9000000000000,
          10000000000000,
          11000000000000,
          12000000000000,
          13000000000000,
          14000000000000,
          15000000000000,
          16000000000000,
          17000000000000,
          18000000000000,
          19000000000000,
          20000000000000,
          21000000000000,
          22000000000000,
          23000000000000,
          24000000000000,
          25000000000000,
          26000000000000,
          27000000000000,
          28000000000000,
          29000000000000,
          30000000000000,
          31000000000000,
          32000000000000,
          33000000000000,
          34000000000000,
          35000000000000
         ],
         "y": {
          "bdata": "AAAAAAAAMD2AIQlwnANJQGBK1ie8NEpA0M8RGEGRSkCQ1sGcfKlKQBBrWCvGr0pA0H1OnTexSkBQ18SMkbFKQID5qB+ysUpAEKpbGK6xSkCg1aOsp7FKQFCg5IihsUpAIMjH1p6xSkAA8KoknLFKQNDat6SZsUpAgGBnb5exSkAQ5hY6lbFKQMBrxgSTsUpAEG1WUpGxSkCAhCCuj7FKQPCb6gmOsUpAUJbqnIyxSkAQqA+Ci7FKQNC5NGeKsUpAkMtZTImxSkCQr9bdiLFKQMiYD4KIsUpACIJIJoixSkDgmjf8h7FKQEDvjEiIsUpAYHVG1IixSkBALWSfibFKQIgwmb+KsUpA4F3zK4yxSkBwBqDijbFKQNCB+qqPsUpA",
          "dtype": "f8"
         }
        },
        {
         "legendgroup": "046",
         "line": {
          "color": "rgb(80, 255, 179)"
         },
         "name": "046",
         "opacity": 0.4,
         "type": "scatter",
         "x": [
          0,
          1000000000000,
          2000000000000,
          3000000000000,
          4000000000000,
          5000000000000,
          6000000000000,
          7000000000000,
          8000000000000,
          9000000000000,
          10000000000000,
          11000000000000,
          12000000000000,
          13000000000000,
          14000000000000,
          15000000000000,
          16000000000000,
          17000000000000,
          18000000000000,
          19000000000000,
          20000000000000,
          21000000000000,
          22000000000000,
          23000000000000,
          24000000000000,
          25000000000000,
          26000000000000,
          27000000000000,
          28000000000000,
          29000000000000,
          30000000000000,
          31000000000000,
          32000000000000,
          33000000000000,
          34000000000000,
          35000000000000
         ],
         "y": {
          "bdata": "oPPZpglSKMDo4HXF73pKwPgTDPpKgknAqGk9PRBcScB4Omb9eVNJwCBeP9F8UUnAoAwSvABRScBIb5s25FBJwPhmTIrgUEnAYCbQWuZQScC4qO4C61BJwEiiUU7vUEnACIC/Ke9QScC4XS0F71BJwDgVqlfuUEnASA1n3uxQScBIBSRl61BJwEj94OvpUEnAaE8IrOhQScAwaG1y51BJwPiA0jjmUEnA4HhEK+VQScAouUBf5FBJwHj5PJPjUEnAyDk5x+JQScAgKxV54lBJwCD4nzjiUEnAIMUq+OFQScCo3aDe4VBJwKjByCHiUEnAsKeRluJQScB4j/s841BJwKjC7xPkUEnA+CfhG+VQScCwKedU5lBJwCj/AZ3nUEnA",
          "dtype": "f8"
         }
        },
        {
         "legendgroup": "047",
         "line": {
          "color": "rgb(92, 255, 166)"
         },
         "name": "047",
         "opacity": 0.4,
         "type": "scatter",
         "x": [
          0,
          1000000000000,
          2000000000000,
          3000000000000,
          4000000000000,
          5000000000000,
          6000000000000,
          7000000000000,
          8000000000000,
          9000000000000,
          10000000000000,
          11000000000000,
          12000000000000,
          13000000000000,
          14000000000000,
          15000000000000,
          16000000000000,
          17000000000000,
          18000000000000,
          19000000000000,
          20000000000000,
          21000000000000,
          22000000000000,
          23000000000000,
          24000000000000,
          25000000000000,
          26000000000000,
          27000000000000,
          28000000000000,
          29000000000000,
          30000000000000,
          31000000000000,
          32000000000000,
          33000000000000,
          34000000000000,
          35000000000000
         ],
         "y": {
          "bdata": "AAAAAAAAMD2I/PMxEc5BQNin+izFfkJAMBW4cM0NQ0BwSZSKIj9DQHC/qasTT0NA8JhDfRpUQ0AAb1YyqFVDQADO1MUkVkNAsCVl3UJWQ0B4rp6HR1ZDQHCoaStHVkNAUL0hcEVWQ0BA0tm0Q1ZDQJDGdKNCVkNAADxhQkJWQ0BwsU3hQVZDQPAmOoBBVkNAwASCdkFWQ0BAlJttQVZDQLAjtWRBVkNA8JP9XkFWQ0AAv5NcQVZDQDDqKVpBVkNAYBXAV0FWQ0CA3h1WQVZDQPCGfVRBVkNAMC/dUkFWQ0DAL8VRQVZDQACyOlFBVkNAYDSwUEFWQ0CgtiVQQVZDQDDxllBBVkNAAIgKUUFWQ0DAHn5RQVZDQAAW1VFBVkNA",
          "dtype": "f8"
         }
        },
        {
         "legendgroup": "047",
         "line": {
          "color": "rgb(92, 255, 166)"
         },
         "name": "047",
         "opacity": 0.4,
         "type": "scatter",
         "x": [
          0,
          1000000000000,
          2000000000000,
          3000000000000,
          4000000000000,
          5000000000000,
          6000000000000,
          7000000000000,
          8000000000000,
          9000000000000,
          10000000000000,
          11000000000000,
          12000000000000,
          13000000000000,
          14000000000000,
          15000000000000,
          16000000000000,
          17000000000000,
          18000000000000,
          19000000000000,
          20000000000000,
          21000000000000,
          22000000000000,
          23000000000000,
          24000000000000,
          25000000000000,
          26000000000000,
          27000000000000,
          28000000000000,
          29000000000000,
          30000000000000,
          31000000000000,
          32000000000000,
          33000000000000,
          34000000000000,
          35000000000000
         ],
         "y": {
          "bdata": "AOLgi7xcKMDQssDdds1FwCAePLIO6kPACHnE9w+lQ8BoXkioBZhDwKDdFe2+k0PAUHSze3WSQ8AIMbQsD5JDwKBgJlLwkUPAiOLVuuiRQ8AQy7xQ55FDwJAPMFXnkUPACEnm1OeRQ8BogpxU6JFDwMD7QKXokUPAUHwLxeiRQ8Do/NXk6JFDwGh9oATpkUPAkNK6C+mRQ8Cg5JkS6ZFDwMD2eBnpkUPACCH4HOmRQ8DorfYc6ZFDwMA69RzpkUPAoMfzHOmRQ8CQ2n0c6ZFDwOjVBhzpkUPAINGPG+mRQ8CgZkgb6ZFDwMBjMhvpkUPA6GAcG+mRQ8AIXgYb6ZFDwMDgQhvpkUPAkCmAG+mRQ8Bocr0b6ZFDwJDqBxzpkUPA",
          "dtype": "f8"
         }
        },
        {
         "legendgroup": "048",
         "line": {
          "color": "rgb(105, 255, 153)"
         },
         "name": "048",
         "opacity": 0.4,
         "type": "scatter",
         "x": [
          0,
          1000000000000,
          2000000000000,
          3000000000000,
          4000000000000,
          5000000000000,
          6000000000000,
          7000000000000,
          8000000000000,
          9000000000000,
          10000000000000,
          11000000000000,
          12000000000000,
          13000000000000,
          14000000000000,
          15000000000000,
          16000000000000,
          17000000000000,
          18000000000000,
          19000000000000,
          20000000000000,
          21000000000000,
          22000000000000,
          23000000000000,
          24000000000000,
          25000000000000,
          26000000000000,
          27000000000000,
          28000000000000,
          29000000000000,
          30000000000000,
          31000000000000,
          32000000000000,
          33000000000000,
          34000000000000,
          35000000000000
         ],
         "y": {
          "bdata": "AAAAAAAAQD2go5wJ8nJGQEBhoR5isEdASHAIbsMlSECQHA6y70lIQBi5AvbgVEhAGDrx34tYSECQ5bj7oFlIQDgUd2HtWUhACATsV/xZSEA4twzVAVpIQGirTIIBWkhAiJ+MLwFaSECYEtELAVpIQDjSdAUBWkhAyJEY/wBaSEDooFDyAFpIQAiyXLQAWkhAOMNodgBaSEBo1HQ4AFpIQIDfi+7/WUhAeKsqnf9ZSEBId8lL/1lIQMirDPz+WUhAyIXjuP5ZSEDIX7p1/llIQNg5kTL+WUhAaEAdBf5ZSEC44zjl/VlIQAiHVMX9WUhAeAkMqP1ZSED4Wr6e/VlIQHiscJX9WUhA+P0ijP1ZSEB4aEyS/VlIQIAR/Kv9WUhA",
          "dtype": "f8"
         }
        },
        {
         "legendgroup": "048",
         "line": {
          "color": "rgb(105, 255, 153)"
         },
         "name": "048",
         "opacity": 0.4,
         "type": "scatter",
         "x": [
          0,
          1000000000000,
          2000000000000,
          3000000000000,
          4000000000000,
          5000000000000,
          6000000000000,
          7000000000000,
          8000000000000,
          9000000000000,
          10000000000000,
          11000000000000,
          12000000000000,
          13000000000000,
          14000000000000,
          15000000000000,
          16000000000000,
          17000000000000,
          18000000000000,
          19000000000000,
          20000000000000,
          21000000000000,
          22000000000000,
          23000000000000,
          24000000000000,
          25000000000000,
          26000000000000,
          27000000000000,
          28000000000000,
          29000000000000,
          30000000000000,
          31000000000000,
          32000000000000,
          33000000000000,
          34000000000000,
          35000000000000
         ],
         "y": {
          "bdata": "oPyBHv5OKMBASbFVyMxJwLi1z1X/3kjAqM+/rNqrSMAIDCM0oqJIwHgsiUhZo0jAyC583bCjSMBYvWME0KNIwFjq9xzXo0jA4ABVi9mjSMCwulRp3KNIwMhvQD7eo0jA2CQsE+CjSMDolIMY4aNIwNjZLZzho0jAuB7YH+KjSMCIH36M4qNIwBjv3kjio0jAuL4/BeKjSMBIjqDB4aNIwDjN7V3ho0jA+DYx5uCjSMCYoHRu4KNIwOBW0vjfo0jAkIxKk9+jSMBIwsIt36NIwAj4Osjeo0jAuKX6gN6jSMCwu6RM3qNIwKDRThjeo0jAsD+s6N2jSMBgVwnd3aNIwBhvZtHdo0jA0IbDxd2jSMCwoUbO3aNIwKCTOfDdo0jA",
          "dtype": "f8"
         }
        },
        {
         "legendgroup": "049",
         "line": {
          "color": "rgb(117, 255, 140)"
         },
         "name": "049",
         "opacity": 0.4,
         "type": "scatter",
         "x": [
          0,
          1000000000000,
          2000000000000,
          3000000000000,
          4000000000000,
          5000000000000,
          6000000000000,
          7000000000000,
          8000000000000,
          9000000000000,
          10000000000000,
          11000000000000,
          12000000000000,
          13000000000000,
          14000000000000,
          15000000000000,
          16000000000000,
          17000000000000,
          18000000000000,
          19000000000000,
          20000000000000,
          21000000000000,
          22000000000000,
          23000000000000,
          24000000000000,
          25000000000000,
          26000000000000,
          27000000000000,
          28000000000000,
          29000000000000,
          30000000000000,
          31000000000000,
          32000000000000,
          33000000000000,
          34000000000000,
          35000000000000
         ],
         "y": {
          "bdata": "AAAAAAAAWD04fycMeBFQQBgM18qFSElAGKjv+KPFSUAwjCz/+vVJQDCqOccqA0pACNbpgscGSkAgo9qMrAdKQCDJBSLZB0pA0ER3ZOAHSkBoItpI3gdKQLi2twjdB0pAGIR7utwHSkBgUT9s3AdKQLAeAx7cB0pAqJzAJNwHSkAYz5st3AdKQFgBdzbcB0pAKKPGQ9wHSkCIM/9V3AdKQNjDN2jcB0pAKFRwetwHSkAYTFOD3AdKQLDC+ovcB0pAWDmilNwHSkDgcTuZ3AdKQKhdXJncB0pAiEl9mdwHSkBYNZ6Z3AdKQKhOZ5LcB0pAeJgBi9wHSkBQ4puD3AdKQKDiqHrcB0pAOAQAcNwHSkDoJVdl3AdKQJhHrlrcB0pA",
          "dtype": "f8"
         }
        },
        {
         "legendgroup": "049",
         "line": {
          "color": "rgb(117, 255, 140)"
         },
         "name": "049",
         "opacity": 0.4,
         "type": "scatter",
         "x": [
          0,
          1000000000000,
          2000000000000,
          3000000000000,
          4000000000000,
          5000000000000,
          6000000000000,
          7000000000000,
          8000000000000,
          9000000000000,
          10000000000000,
          11000000000000,
          12000000000000,
          13000000000000,
          14000000000000,
          15000000000000,
          16000000000000,
          17000000000000,
          18000000000000,
          19000000000000,
          20000000000000,
          21000000000000,
          22000000000000,
          23000000000000,
          24000000000000,
          25000000000000,
          26000000000000,
          27000000000000,
          28000000000000,
          29000000000000,
          30000000000000,
          31000000000000,
          32000000000000,
          33000000000000,
          34000000000000,
          35000000000000
         ],
         "y": {
          "bdata": "IMDNgueIKMBIvKn6TL9NwPBKwIs+pknAmG5mfM9QScAYS5gTmkJJwCjMih4yP0nAKJtGBE0+ScCgV066FD5JwBjpC9MJPknASCl4fgg+ScCor+UsCT5JwEiVlo4JPknAqCO0mwk+ScAostGoCT5JwKhA77UJPknAIMQupQk+ScAo4a+TCT5JwEj+MIIJPknAeG7qcQk+ScAoGfxiCT5JwODDDVQJPknAoG4fRQk+ScCocRg/CT5JwCg3SjkJPknAqPx7Mwk+ScAYZfcxCT5JwPiPLDUJPknAyLphOAk+ScCo5ZY7CT5JwMh+y0IJPknAGJQZSgk+ScBIqWdRCT5JwEh/d1gJPknAKLpCXwk+ScAo9Q1mCT5JwBgw2WwJPknA",
          "dtype": "f8"
         }
        },
        {
         "legendgroup": "050",
         "line": {
          "color": "rgb(130, 255, 128)"
         },
         "name": "050",
         "opacity": 0.4,
         "type": "scatter",
         "x": [
          0,
          1000000000000,
          2000000000000,
          3000000000000,
          4000000000000,
          5000000000000,
          6000000000000,
          7000000000000,
          8000000000000,
          9000000000000,
          10000000000000,
          11000000000000,
          12000000000000,
          13000000000000,
          14000000000000,
          15000000000000,
          16000000000000,
          17000000000000,
          18000000000000,
          19000000000000,
          20000000000000,
          21000000000000,
          22000000000000,
          23000000000000,
          24000000000000,
          25000000000000,
          26000000000000,
          27000000000000,
          28000000000000,
          29000000000000,
          30000000000000,
          31000000000000,
          32000000000000,
          33000000000000,
          34000000000000,
          35000000000000
         ],
         "y": {
          "bdata": "AAAAAAAAQD2IGp9IL51QQMjOIyCDrFBAHB4G+8KeUECcSsNoXJRQQJxF2kVslVBAPG+xxwuVUEDESsZgsJRQQEzuVQdxlFBAIH3dNyCUUEDI5QBHBJRQQET9gbEQlFBAWPL6TTmUUEDcj10tT5RQQNhD0btNlFBAyNfL4jqUUECcs8RdJJRQQHwrzTAQlFBAXKPVA/yTUEA8G97W55NQQKTWWuPXk1BAiN1A/suTUEBk5CYZwJNQQCQHNEa0k1BAiGgnXa+TUEDkyRp0qpNQQEwrDoulk1BACIIyqqOTUEBcK6OypJNQQJzUE7ulk1BA9BWBzKaTUEDkZuBIrJNQQJwWnL2zk1BA5CS0Kr2TUEAY4tz2x5NQQFx7B7fTk1BA",
          "dtype": "f8"
         }
        },
        {
         "legendgroup": "050",
         "line": {
          "color": "rgb(130, 255, 128)"
         },
         "name": "050",
         "opacity": 0.4,
         "type": "scatter",
         "x": [
          0,
          1000000000000,
          2000000000000,
          3000000000000,
          4000000000000,
          5000000000000,
          6000000000000,
          7000000000000,
          8000000000000,
          9000000000000,
          10000000000000,
          11000000000000,
          12000000000000,
          13000000000000,
          14000000000000,
          15000000000000,
          16000000000000,
          17000000000000,
          18000000000000,
          19000000000000,
          20000000000000,
          21000000000000,
          22000000000000,
          23000000000000,
          24000000000000,
          25000000000000,
          26000000000000,
          27000000000000,
          28000000000000,
          29000000000000,
          30000000000000,
          31000000000000,
          32000000000000,
          33000000000000,
          34000000000000,
          35000000000000
         ],
         "y": {
          "bdata": "wIhfmTFUKMDwhmFzimBQwAgIYqRs9k/AiLEF7mCXT8A4pTvUO2lPwBhlxUIsUk/AgMtqioxVT8DQz3lSyFdPwFBy83bvWE/AyLRQ41tZT8CQhGaXc1lPwFj6v09DWU/AiEh9SetYT8BgXQlnzFhPwKjKkx3iWE/A2G192BRZT8CYQ/a6TVlPwFgFy+GFWU/AGMefCL5ZT8DYiHQv9llPwIhzweAmWk/A4MqGaFBaT8BQIkzweVpPwEgnVTOjWk/AEH+gSLJaT8D41utdwVpPwMguN3PQWk/AiLEGMtZaT8AQFX/50lpPwJh498DPWk/AiNaibcxaT8BQe4Htu1pPwNiROo2lWk/AGBrOTIlaT8BY1BegaFpPwAAeyopEWk/A",
          "dtype": "f8"
         }
        },
        {
         "legendgroup": "051",
         "line": {
          "color": "rgb(142, 255, 115)"
         },
         "name": "051",
         "opacity": 0.4,
         "type": "scatter",
         "x": [
          0,
          1000000000000,
          2000000000000,
          3000000000000,
          4000000000000,
          5000000000000,
          6000000000000,
          7000000000000,
          8000000000000,
          9000000000000,
          10000000000000,
          11000000000000,
          12000000000000,
          13000000000000,
          14000000000000,
          15000000000000,
          16000000000000,
          17000000000000,
          18000000000000,
          19000000000000,
          20000000000000,
          21000000000000,
          22000000000000,
          23000000000000,
          24000000000000,
          25000000000000,
          26000000000000,
          27000000000000,
          28000000000000,
          29000000000000,
          30000000000000,
          31000000000000,
          32000000000000,
          33000000000000,
          34000000000000,
          35000000000000
         ],
         "y": {
          "bdata": "AAAAAAAAMD3Y/5vegt1GQHjXUitQSkhAsJiOwZ3FSEBYjAu5i+tIQJiHChBZ9khAcHGcL1z5SEAYpNODPPpIQJCMIcB8+khAYI8TVYf6SEDQtpGXifpIQGijxKyH+khAGK/twIX6SEBYi8mAhPpIQFCyuAWE+khAMNmnioP6SEAYAJcPg/pIQLBjjxGD+khA6F38F4P6SEAwWGkeg/pIQNgwzDOD+khA2PRaWoP6SEDYuOmAg/pIQNB8eKeD+khA8N7xzYP6SEAwfmr0g/pIQGgd4xqE+khA2J4GOoT6SEDgkr9QhPpIQOiGeGeE+khA+HoxfoT6SEAwMC2MhPpIQBgt2ZmE+khA+CmFp4T6SEBg4GSuhPpIQDC2EaiE+khA",
          "dtype": "f8"
         }
        },
        {
         "legendgroup": "051",
         "line": {
          "color": "rgb(142, 255, 115)"
         },
         "name": "051",
         "opacity": 0.4,
         "type": "scatter",
         "x": [
          0,
          1000000000000,
          2000000000000,
          3000000000000,
          4000000000000,
          5000000000000,
          6000000000000,
          7000000000000,
          8000000000000,
          9000000000000,
          10000000000000,
          11000000000000,
          12000000000000,
          13000000000000,
          14000000000000,
          15000000000000,
          16000000000000,
          17000000000000,
          18000000000000,
          19000000000000,
          20000000000000,
          21000000000000,
          22000000000000,
          23000000000000,
          24000000000000,
          25000000000000,
          26000000000000,
          27000000000000,
          28000000000000,
          29000000000000,
          30000000000000,
          31000000000000,
          32000000000000,
          33000000000000,
          34000000000000,
          35000000000000
         ],
         "y": {
          "bdata": "YNcPgTBeKMAY8qhP9j9KwIiaZe8pNEnA2GWfpDgJScDgYKprogJJwED+FqUtAUnAAAmzn9IAScCYV4vyuABJwADGlJmxAEnAkLEARLAAScBQFbGzrwBJwGD5n26vAEnAUGHnJ68AScDwuwborgBJwBD5ALCuAEnAIDb7d64AScAwc/U/rgBJwAA3EjiuAEnA0BHmMa4AScCQ7LkrrgBJwPC0FTSuAEnAIDgfTa4AScBguyhmrgBJwJA+Mn+uAEnAEFQMnq4AScBgdBu9rgBJwMCUKtyuAEnAAKsG+K4AScCAqTYQrwBJwACoZiivAEnAgKaWQK8AScDQ6etQrwBJwBCH+WCvAEnAUCQHca8AScDgv3R8rwBJwJiE536vAEnA",
          "dtype": "f8"
         }
        },
        {
         "legendgroup": "052",
         "line": {
          "color": "rgb(155, 255, 102)"
         },
         "name": "052",
         "opacity": 0.4,
         "type": "scatter",
         "x": [
          0,
          1000000000000,
          2000000000000,
          3000000000000,
          4000000000000,
          5000000000000,
          6000000000000,
          7000000000000,
          8000000000000,
          9000000000000,
          10000000000000,
          11000000000000,
          12000000000000,
          13000000000000,
          14000000000000,
          15000000000000,
          16000000000000,
          17000000000000,
          18000000000000,
          19000000000000,
          20000000000000,
          21000000000000,
          22000000000000,
          23000000000000,
          24000000000000,
          25000000000000,
          26000000000000,
          27000000000000,
          28000000000000,
          29000000000000,
          30000000000000,
          31000000000000,
          32000000000000,
          33000000000000,
          34000000000000,
          35000000000000
         ],
         "y": {
          "bdata": "AAAAAAAAQD3oWIZGh/hKQJCqUBWV9UtACBFy035HTEDIjCo0ImFMQFhUqUSHZ0xAQFnKGilpTEDglAsFkGlMQAjXYsyeaUxASJsA7pxpTEAozvaOl2lMQKiWAFSSaUxAYM26iJBpTEBIBHW9jmlMQCA7L/KMaUxAkJVREIxpTEDACcT1i2lMQNB9NtuLaUxA0Axax4tpTECQ8qlWjGlMQFDY+eWMaUxAIL5JdY1pTEDAGmEcjmlMQNi6xteOaUxAIFssk49pTEAohGVLkGlMQDCHO7aQaUxAQIoRIZFpTEBIjeeLkWlMQChGVdiRaUxAUMPLCpJpTECIQEI9kmlMQCCZH2+SaUxACB3xjZJpTEBo/S2kkmlMQFg61rGSaUxA",
          "dtype": "f8"
         }
        },
        {
         "legendgroup": "052",
         "line": {
          "color": "rgb(155, 255, 102)"
         },
         "name": "052",
         "opacity": 0.4,
         "type": "scatter",
         "x": [
          0,
          1000000000000,
          2000000000000,
          3000000000000,
          4000000000000,
          5000000000000,
          6000000000000,
          7000000000000,
          8000000000000,
          9000000000000,
          10000000000000,
          11000000000000,
          12000000000000,
          13000000000000,
          14000000000000,
          15000000000000,
          16000000000000,
          17000000000000,
          18000000000000,
          19000000000000,
          20000000000000,
          21000000000000,
          22000000000000,
          23000000000000,
          24000000000000,
          25000000000000,
          26000000000000,
          27000000000000,
          28000000000000,
          29000000000000,
          30000000000000,
          31000000000000,
          32000000000000,
          33000000000000,
          34000000000000,
          35000000000000
         ],
         "y": {
          "bdata": "YCCc6B1bKMCILcwL3plMwLguUVGf0kvAWLeVYfqXS8BYhA2oC4hLwLjBwCyRg0vACDXEeSCCS8AI0g6hq4FLwAhgNAaFgUvAOKWg2nOBS8BYWWs/aoFLwDDsjdBggUvAOGf0mluBS8A44lplVoFLwDhdwS9RgUvAqKNakE6BS8CIY2wmToFLwGgjfrxNgUvAKCAubU2BS8CIbuymT4FLwLi8quBRgUvAKAtpGlSBS8A46LKeVoFLwFjHpGJZgUvAiKaWJlyBS8CojUfgXoFLwCg58Z9ggUvAsOSaX2KBS8A4kEQfZIFLwLiHK3tlgUvAWEDigWaBS8DY+JiIZ4FLwPh1EotogUvAOOiTBmmBS8C4HEdFaYFLwFgTLEdpgUvA",
          "dtype": "f8"
         }
        },
        {
         "legendgroup": "053",
         "line": {
          "color": "rgb(167, 255, 89)"
         },
         "name": "053",
         "opacity": 0.4,
         "type": "scatter",
         "x": [
          0,
          1000000000000,
          2000000000000,
          3000000000000,
          4000000000000,
          5000000000000,
          6000000000000,
          7000000000000,
          8000000000000,
          9000000000000,
          10000000000000,
          11000000000000,
          12000000000000,
          13000000000000,
          14000000000000,
          15000000000000,
          16000000000000,
          17000000000000,
          18000000000000,
          19000000000000,
          20000000000000,
          21000000000000,
          22000000000000,
          23000000000000,
          24000000000000,
          25000000000000,
          26000000000000,
          27000000000000,
          28000000000000,
          29000000000000,
          30000000000000,
          31000000000000,
          32000000000000,
          33000000000000,
          34000000000000,
          35000000000000
         ],
         "y": {
          "bdata": "AAAAAAAAWD1Y6gupt3VQQCwCPVMrelBA7KypY6dzUECAM2bz3WxQQFgZUnNlbVBA4OnDhepsUEDYA+OrymxQQPjjWceabFBAqOPynUFsUEB4VAE1MGxQQECLnZQ7bFBA+Bdi0U1sUEDctNbqWWxQQBg+HEVgbFBAiLR5EmVsUEAAK9ffaWxQQIChNK1ubFBAqMYKiW5sUEDYDZcSa2xQQAhVI5xnbFBA0KJaRGRsUEDAQm8GYmxQQLzig8hfbFBAuIKYil1sUEA498H0WWxQQECd2HdVbFBAWEPv+lBsUEDAmHpUTGxQQDi5MjBGbFBAqNnqC0BsUEAY+qLnOWxQQOCtiIk1bFBAuA+WXDJsUECAcaMvL2xQQNj8aTQsbFBA",
          "dtype": "f8"
         }
        },
        {
         "legendgroup": "053",
         "line": {
          "color": "rgb(167, 255, 89)"
         },
         "name": "053",
         "opacity": 0.4,
         "type": "scatter",
         "x": [
          0,
          1000000000000,
          2000000000000,
          3000000000000,
          4000000000000,
          5000000000000,
          6000000000000,
          7000000000000,
          8000000000000,
          9000000000000,
          10000000000000,
          11000000000000,
          12000000000000,
          13000000000000,
          14000000000000,
          15000000000000,
          16000000000000,
          17000000000000,
          18000000000000,
          19000000000000,
          20000000000000,
          21000000000000,
          22000000000000,
          23000000000000,
          24000000000000,
          25000000000000,
          26000000000000,
          27000000000000,
          28000000000000,
          29000000000000,
          30000000000000,
          31000000000000,
          32000000000000,
          33000000000000,
          34000000000000,
          35000000000000
         ],
         "y": {
          "bdata": "gGEWnaRpKMBMoycd/zNQwDiTe+zsnE/A6Ctoej5LT8B4JSYMOilPwCgvqvE8GU/A+Fp+EP4aT8B4Hp3ADR5PwDgAl1UqIE/AmNXyoUQhT8DQuEEFmCFPwBC/OsdvIU/AMClskgMhT8CwkqnGliBPwDjzTGYvIE/AwOJqaQggT8Bw0ohs4R9PwPjBpm+6H0/A2OrNTbMfT8CQSTKTwR9PwFioltjPH0/AMG6TfOEfT8DAVYQYEiBPwHA9dbRCIE/ACCVmUHMgT8DAUdUtrSBPwBjbSkPtIE/AgGTAWC0hT8AIO5nvbCFPwDD3xvqnIU/AULP0BeMhT8B4byIRHiJPwJiLm3lNIk/AiFq8EHUiT8B4Kd2nnCJPwJAteunBIk/A",
          "dtype": "f8"
         }
        },
        {
         "legendgroup": "054",
         "line": {
          "color": "rgb(180, 255, 77)"
         },
         "name": "054",
         "opacity": 0.4,
         "type": "scatter",
         "x": [
          0,
          1000000000000,
          2000000000000,
          3000000000000,
          4000000000000,
          5000000000000,
          6000000000000,
          7000000000000,
          8000000000000,
          9000000000000,
          10000000000000,
          11000000000000,
          12000000000000,
          13000000000000,
          14000000000000,
          15000000000000,
          16000000000000,
          17000000000000,
          18000000000000,
          19000000000000,
          20000000000000,
          21000000000000,
          22000000000000,
          23000000000000,
          24000000000000,
          25000000000000,
          26000000000000,
          27000000000000,
          28000000000000,
          29000000000000,
          30000000000000,
          31000000000000,
          32000000000000,
          33000000000000,
          34000000000000,
          35000000000000
         ],
         "y": {
          "bdata": "AAAAAAAASD1gO6iLZvNAQGjDODeLm05A6A+ZXRlBTUCYt3c3RQNNQAiNVR66EU1AgEAkHXIWTUCIovEgUBdNQMA6VDWgF01AkMg6XogXTUD4XW+ZhxdNQMhgKwmOF01AEFU7EJIXTUCwo33skBdNQEDyv8iPF01ASFQoqo4XTUCAmjqijRdNQLjgTJqMF01A+CZfkosXTUBYz9YsixdNQFgu8RGLF01AYI0L94oXTUDAYoPpihdNQIDFzxaLF01AOCgcRIsXTUD4imhxixdNQDDvFpqLF01AyBemwIsXTUB4QDXnixdNQJAXTQuMF01AwACKJIwXTUDY6cY9jBdNQAjTA1eMF01AEOa/YowXTUD4PkdojBdNQMCXzm2MF01A",
          "dtype": "f8"
         }
        },
        {
         "legendgroup": "054",
         "line": {
          "color": "rgb(180, 255, 77)"
         },
         "name": "054",
         "opacity": 0.4,
         "type": "scatter",
         "x": [
          0,
          1000000000000,
          2000000000000,
          3000000000000,
          4000000000000,
          5000000000000,
          6000000000000,
          7000000000000,
          8000000000000,
          9000000000000,
          10000000000000,
          11000000000000,
          12000000000000,
          13000000000000,
          14000000000000,
          15000000000000,
          16000000000000,
          17000000000000,
          18000000000000,
          19000000000000,
          20000000000000,
          21000000000000,
          22000000000000,
          23000000000000,
          24000000000000,
          25000000000000,
          26000000000000,
          27000000000000,
          28000000000000,
          29000000000000,
          30000000000000,
          31000000000000,
          32000000000000,
          33000000000000,
          34000000000000,
          35000000000000
         ],
         "y": {
          "bdata": "wEAAvspXKMAQh2i04ZxDwHhuuqovk03ACMW8AXmCTMBYRHo4cyVMwHi2o6MEBUzAWOjhjBr7S8AISzjAd/dLwJhByzSd9kvAmJIqsSb3S8BwFEYFK/dLwBi1o9kp90vAyMZmCz33S8A4qyDaX/dLwJiP2qiC90vAaJvuZqP3S8D4vQMOu/dLwMjgGLXS90vAeAMuXOr3S8B4uxGt9/dLwHh6yz0A+EvAcDmFzgj4S8Dwh3YzD/hLwPB/9wkM+EvA+Hd44Aj4S8D4b/m2BfhLwMiN2ej+90vAmDwZbvb3S8CY61jz7fdLwGgI7G3l90vA6PGCudz3S8B42xkF1PdLwPjEsFDL90vASFyd+sT3S8DoSTS7v/dLwGg3y3u690vA",
          "dtype": "f8"
         }
        },
        {
         "legendgroup": "055",
         "line": {
          "color": "rgb(192, 255, 64)"
         },
         "name": "055",
         "opacity": 0.4,
         "type": "scatter",
         "x": [
          0,
          1000000000000,
          2000000000000,
          3000000000000,
          4000000000000,
          5000000000000,
          6000000000000,
          7000000000000,
          8000000000000,
          9000000000000,
          10000000000000,
          11000000000000,
          12000000000000,
          13000000000000,
          14000000000000,
          15000000000000,
          16000000000000,
          17000000000000,
          18000000000000,
          19000000000000,
          20000000000000,
          21000000000000,
          22000000000000,
          23000000000000,
          24000000000000,
          25000000000000,
          26000000000000,
          27000000000000,
          28000000000000,
          29000000000000,
          30000000000000,
          31000000000000,
          32000000000000,
          33000000000000,
          34000000000000,
          35000000000000
         ],
         "y": {
          "bdata": "AAAAAAAAQD1AYVOwCfU+QKgnwwEal0BAQGbdd+kUQUDolRX/Sz5BQMD5yxkkS0FAmH1Bt55OQUCohIG5dlBBQFC2mGt0UEFA+KST7dBQQUBAqS5N2lBBQEBzSfDJUEFAwINpJblQQUBQQb0kqFBBQGh7+gKmUEFASKg+QbFQQUBA1YJ/vFBBQOihzWfHUEFAwJnB9sVQQUBokbWFxFBBQECJqRTDUEFA0IOBR8JQQUBIusENwlBBQKjwAdTBUEFA0OMOfMFQQUDA957NvFBBQGgLLx+4UEFAQB+/cLNQQUBAq5i6sFBBQNCLA8qvUEFAqGxu2a5QQUDI4GLfrVBBQEjPZImrUEFAwL1mM6lQQUBArGjdplBBQFCjGKCnUEFA",
          "dtype": "f8"
         }
        },
        {
         "legendgroup": "055",
         "line": {
          "color": "rgb(192, 255, 64)"
         },
         "name": "055",
         "opacity": 0.4,
         "type": "scatter",
         "x": [
          0,
          1000000000000,
          2000000000000,
          3000000000000,
          4000000000000,
          5000000000000,
          6000000000000,
          7000000000000,
          8000000000000,
          9000000000000,
          10000000000000,
          11000000000000,
          12000000000000,
          13000000000000,
          14000000000000,
          15000000000000,
          16000000000000,
          17000000000000,
          18000000000000,
          19000000000000,
          20000000000000,
          21000000000000,
          22000000000000,
          23000000000000,
          24000000000000,
          25000000000000,
          26000000000000,
          27000000000000,
          28000000000000,
          29000000000000,
          30000000000000,
          31000000000000,
          32000000000000,
          33000000000000,
          34000000000000,
          35000000000000
         ],
         "y": {
          "bdata": "QEGIb/BfKMDwFuZPFP9CwPg0YGvHF0LAgJXYgwfoQcCwGErtTdhBwFARK8mR00HAgNLBBXTSQcCYCa0pIdJBwDB08/3x0UHAyNOQX93RQcCof0/IC9JBwChpT8cq0kHA8J86Yw/SQcBwvoxv19FBwPAJz8LL0UHACPv66OfRQcAY7CYPBNJBwOh6rZcf0kHAgM1teyTSQcAYIC5fKdJBwLhy7kIu0kHAOO5mpi/SQcAwk7zjLdJBwBg4EiEs0kHAUN178CnSQcDYk/r1F9JBwHhKefsF0kHACAH4APTRQcAYudAb6tFBwNjH4nvn0UHAgNb02+TRQcDIGekK4tFBwFiV0CvY0UHA2BC4TM7RQcBwjJ9txNFBwLDMUfPF0UHA",
          "dtype": "f8"
         }
        },
        {
         "legendgroup": "056",
         "line": {
          "color": "rgb(205, 255, 51)"
         },
         "name": "056",
         "opacity": 0.4,
         "type": "scatter",
         "x": [
          0,
          1000000000000,
          2000000000000,
          3000000000000,
          4000000000000,
          5000000000000,
          6000000000000,
          7000000000000,
          8000000000000,
          9000000000000,
          10000000000000,
          11000000000000,
          12000000000000,
          13000000000000,
          14000000000000,
          15000000000000,
          16000000000000,
          17000000000000,
          18000000000000,
          19000000000000,
          20000000000000,
          21000000000000,
          22000000000000,
          23000000000000,
          24000000000000,
          25000000000000,
          26000000000000,
          27000000000000,
          28000000000000,
          29000000000000,
          30000000000000,
          31000000000000,
          32000000000000,
          33000000000000,
          34000000000000,
          35000000000000
         ],
         "y": {
          "bdata": "AAAAAAAAMD3Al8MSnhhIQEAV/3nBk0lA0IBl4CLzSUDQcOs/GwxKQFAZtFxwEkpA+Oqe3f4TSkAYJYuiWhRKQAAIghxfFEpA8LDEDF4USkBIHShiWxRKQAA2LwJZFEpA0KSS+lYUSkDwaGpzVhRKQEgtQuxVFEpAePEZZVUUSkBwVroyVRRKQCDfACdVFEpA6GdHG1UUSkDQ10MUVRRKQFAfvyFVFEpA4GY6L1UUSkBorrU8VRRKQNCMvUVVFEpAeAO+TFUUSkBQer5TVRRKQPgxTlxVFEpA6A2na1UUSkDQ6f96VRRKQJjFWIpVFEpA0NY/jVUUSkBopnqKVRRKQBh2tYdVFEpASOW7hlUUSkDoIZKNVRRKQHheaJRVFEpA",
          "dtype": "f8"
         }
        },
        {
         "legendgroup": "056",
         "line": {
          "color": "rgb(205, 255, 51)"
         },
         "name": "056",
         "opacity": 0.4,
         "type": "scatter",
         "x": [
          0,
          1000000000000,
          2000000000000,
          3000000000000,
          4000000000000,
          5000000000000,
          6000000000000,
          7000000000000,
          8000000000000,
          9000000000000,
          10000000000000,
          11000000000000,
          12000000000000,
          13000000000000,
          14000000000000,
          15000000000000,
          16000000000000,
          17000000000000,
          18000000000000,
          19000000000000,
          20000000000000,
          21000000000000,
          22000000000000,
          23000000000000,
          24000000000000,
          25000000000000,
          26000000000000,
          27000000000000,
          28000000000000,
          29000000000000,
          30000000000000,
          31000000000000,
          32000000000000,
          33000000000000,
          34000000000000,
          35000000000000
         ],
         "y": {
          "bdata": "gBR/I0JmKMDIna8Y5mZJwNiXjMV35kjA2PVwSprKSMAoA/PVLsNIwMgGqdZFwUjA4JluEM7ASMCYBTLHscBIwFjlVUewwEjAyIqE8LDASMAY3j/yscBIwBjYP8GywEjAGJdtbLPASMB49r97s8BIwOhVEouzwEjAaLVkmrPASMBo5TmVs8BIwKALuIazwEjA4DE2eLPASMCIcHVps8BIwCD9olmzwEjAyInQSbPASMBoFv45s8BIwKhdNTCzwEjAWEUtKbPASMD4LCUis8BIwBjtIByzwEjAyEGHGrPASMB4lu0Ys8BIwCjrUxezwEjA2KxDGrPASMBY30Qfs8BIwOgRRiSzwEjAYFzoKLPASMC4t+0rs8BIwAgT8y6zwEjA",
          "dtype": "f8"
         }
        },
        {
         "legendgroup": "057",
         "line": {
          "color": "rgb(217, 255, 38)"
         },
         "name": "057",
         "opacity": 0.4,
         "type": "scatter",
         "x": [
          0,
          1000000000000,
          2000000000000,
          3000000000000,
          4000000000000,
          5000000000000,
          6000000000000,
          7000000000000,
          8000000000000,
          9000000000000,
          10000000000000,
          11000000000000,
          12000000000000,
          13000000000000,
          14000000000000,
          15000000000000,
          16000000000000,
          17000000000000,
          18000000000000,
          19000000000000,
          20000000000000,
          21000000000000,
          22000000000000,
          23000000000000,
          24000000000000,
          25000000000000,
          26000000000000,
          27000000000000,
          28000000000000,
          29000000000000,
          30000000000000,
          31000000000000,
          32000000000000,
          33000000000000,
          34000000000000,
          35000000000000
         ],
         "y": {
          "bdata": "AAAAAAAAWD0gP0q9JjZDQGiVMnvBQURAgDdQYuG9RECAqslDC+VEQOCh8FSm8ERAwFy6KN3zRECIYOZZ0fREQADYDtr/9ERAALsFzv/0REDI1JZZ/vREQGhrsWX89ERAAALMcfr0REB4SrRv+fREQAAUteP49ERAkN21V/j0RECAEPLR9/REQGDQNWr39ERAQJB5Avf0REAQUL2a9vREQLDqxGf29ERA4LGRTvb0REAAeV419vREQOAPjyX29ERA4IH+Qvb0REAA9G1g9vREQABm3X329ERAuAyKiPb0REDACQ2K9vREQMAGkIv29ERA4E/giPb0REC4GfZx9vREQJDjC1v29ERAgK0hRPb0REB4oEte9vREQLjabZD29ERA",
          "dtype": "f8"
         }
        },
        {
         "legendgroup": "057",
         "line": {
          "color": "rgb(217, 255, 38)"
         },
         "name": "057",
         "opacity": 0.4,
         "type": "scatter",
         "x": [
          0,
          1000000000000,
          2000000000000,
          3000000000000,
          4000000000000,
          5000000000000,
          6000000000000,
          7000000000000,
          8000000000000,
          9000000000000,
          10000000000000,
          11000000000000,
          12000000000000,
          13000000000000,
          14000000000000,
          15000000000000,
          16000000000000,
          17000000000000,
          18000000000000,
          19000000000000,
          20000000000000,
          21000000000000,
          22000000000000,
          23000000000000,
          24000000000000,
          25000000000000,
          26000000000000,
          27000000000000,
          28000000000000,
          29000000000000,
          30000000000000,
          31000000000000,
          32000000000000,
          33000000000000,
          34000000000000,
          35000000000000
         ],
         "y": {
          "bdata": "oIwh/iFxKMD47HJTSbNFwFBhn+y8jETAUAj2xzlgRMAwmc+s6VNEwBgZrEFAUETA0KJOSTtPRMB46O/o705EwBi8BnriTkTAMOUnsN9ORMAwI7W5305EwBh7rhDhTkTA4NKnZ+JORMCwQ58P405EwCCpHWLjTkTAoA6ctONORMCYlAr2405EwBhXQuXjTkTAeBl61ONORMD427HD405EwHi3Rr7jTkTAUF1ovuNORMAwA4q+405EwJizoL7jTkTA+JWCvuNORMBgeGS+405EwLBaRr7jTkTAGGD0w+NORMDQPXfM405EwHgb+tTjTkTA+B0S2uNORMD4mLLO405EwPgTU8PjTkTAGI/zt+NORMAYXfa8405EwHio+cnjTkTA",
          "dtype": "f8"
         }
        },
        {
         "legendgroup": "058",
         "line": {
          "color": "rgb(230, 255, 26)"
         },
         "name": "058",
         "opacity": 0.4,
         "type": "scatter",
         "x": [
          0,
          1000000000000,
          2000000000000,
          3000000000000,
          4000000000000,
          5000000000000,
          6000000000000,
          7000000000000,
          8000000000000,
          9000000000000,
          10000000000000,
          11000000000000,
          12000000000000,
          13000000000000,
          14000000000000,
          15000000000000,
          16000000000000,
          17000000000000,
          18000000000000,
          19000000000000,
          20000000000000,
          21000000000000,
          22000000000000,
          23000000000000,
          24000000000000,
          25000000000000,
          26000000000000,
          27000000000000,
          28000000000000,
          29000000000000,
          30000000000000,
          31000000000000,
          32000000000000,
          33000000000000,
          34000000000000,
          35000000000000
         ],
         "y": {
          "bdata": "AAAAAAAAQD3Y3ogyT2RHQOiqgm6rJ0hASJIXE0WwSEDgCB3d9dRIQKjqmzOg30hAqH0tZnDiSED4LyJRQuNIQEhLN09t40hAyNWspHDjSED4/+UUbeNIQHjnFrBp40hA8M5HS2bjSED4GYTlZONIQNAkD39k40hAeC+aGGTjSEB4oNzdY+NIQNDsaH1k40hA+Dj1HGXjSEBQhYG8ZeNIQOh5uWxm40hA6HdFJWfjSEDgddHdZ+NIQHhnBodo40hAUHqi42jjSED4jD5AaeNIQNCf2pxp40hAqAHY52njSED47wcqauNIQGjeN2xq40hAaBy0oWrjSEDIPYp/auNIQEju2jNq40hA0C2mvmnjSEAoNpBOaeNIQEiDPOho40hA",
          "dtype": "f8"
         }
        },
        {
         "legendgroup": "058",
         "line": {
          "color": "rgb(230, 255, 26)"
         },
         "name": "058",
         "opacity": 0.4,
         "type": "scatter",
         "x": [
          0,
          1000000000000,
          2000000000000,
          3000000000000,
          4000000000000,
          5000000000000,
          6000000000000,
          7000000000000,
          8000000000000,
          9000000000000,
          10000000000000,
          11000000000000,
          12000000000000,
          13000000000000,
          14000000000000,
          15000000000000,
          16000000000000,
          17000000000000,
          18000000000000,
          19000000000000,
          20000000000000,
          21000000000000,
          22000000000000,
          23000000000000,
          24000000000000,
          25000000000000,
          26000000000000,
          27000000000000,
          28000000000000,
          29000000000000,
          30000000000000,
          31000000000000,
          32000000000000,
          33000000000000,
          34000000000000,
          35000000000000
         ],
         "y": {
          "bdata": "AKHYdDNdKMD4PzBtR8dJwFjm1aWqkEjAeDDdJVJfSMBIIeA4hFJIwEjQeotnT0jA2NFhF7FOSMBIQnvMgE5IwGDkbDd6TkjA4NlMAnhOSMAYrLN6dU5IwHgCqJJ0TkjA2FicqnNOSMAoIGRxc05IwBjUgo9zTkjA+IehrXNOSMB4mObgc05IwAgex310TkjAiKOnGnVOSMAIKYi3dU5IwHgQdFF2TkjAKPrl6XZOSMDo41eCd05IwLiOEhB4TkjAOGpLaHhOSMCoRYTAeE5IwCghvRh5TkjA2BiHUHlOSMBYGx14eU5IwNgds595TkjAIFULv3lOSMCYBoWleU5IwGgEDnF5TkjAoE6mIXlOSMAoVQXHeE5IwPg7u2J4TkjA",
          "dtype": "f8"
         }
        },
        {
         "legendgroup": "059",
         "line": {
          "color": "rgb(242, 255, 13)"
         },
         "name": "059",
         "opacity": 0.4,
         "type": "scatter",
         "x": [
          0,
          1000000000000,
          2000000000000,
          3000000000000,
          4000000000000,
          5000000000000,
          6000000000000,
          7000000000000,
          8000000000000,
          9000000000000,
          10000000000000,
          11000000000000,
          12000000000000,
          13000000000000,
          14000000000000,
          15000000000000,
          16000000000000,
          17000000000000,
          18000000000000,
          19000000000000,
          20000000000000,
          21000000000000,
          22000000000000,
          23000000000000,
          24000000000000,
          25000000000000,
          26000000000000,
          27000000000000,
          28000000000000,
          29000000000000,
          30000000000000,
          31000000000000,
          32000000000000,
          33000000000000,
          34000000000000,
          35000000000000
         ],
         "y": {
          "bdata": "AAAAAAAAMD2kgBhLn3ZQQKDq1pRhQFBAWKzFen84UECgc9LXjC9QQOi+qqYTJ1BAeMxcLQIgUEDcU2Vs/BpQQPy7f+vHF1BAaM1SOMQVUECEiJ/jVBRQQMiLa+1ME1BAFA0HxJMSUEBMU3a2ExJQQEgBPq3SEVBALP6A6bIRUEC0g4oPsxFQQKyGz2bTEVBALPzvOOsRUEBEzTFcDhJQQGDA5jgPElBABKY4NPURUECoi4ov2xFQQOB474u/EVBAVMFZ3ZYRUEC8CcQubhFQQChSLoBFEVBAIBBFRhwRUEDY5Hqz8hBQQJS5sCDJEFBAmBqdeqAQUEAUjWhFfxBQQJT/MxBeEFBAFHL/2jwQUED4z4etIBBQQLRNiLUHEFBA",
          "dtype": "f8"
         }
        },
        {
         "legendgroup": "059",
         "line": {
          "color": "rgb(242, 255, 13)"
         },
         "name": "059",
         "opacity": 0.4,
         "type": "scatter",
         "x": [
          0,
          1000000000000,
          2000000000000,
          3000000000000,
          4000000000000,
          5000000000000,
          6000000000000,
          7000000000000,
          8000000000000,
          9000000000000,
          10000000000000,
          11000000000000,
          12000000000000,
          13000000000000,
          14000000000000,
          15000000000000,
          16000000000000,
          17000000000000,
          18000000000000,
          19000000000000,
          20000000000000,
          21000000000000,
          22000000000000,
          23000000000000,
          24000000000000,
          25000000000000,
          26000000000000,
          27000000000000,
          28000000000000,
          29000000000000,
          30000000000000,
          31000000000000,
          32000000000000,
          33000000000000,
          34000000000000,
          35000000000000
         ],
         "y": {
          "bdata": "YFD6TktkKMDYzhoLNu1PwPiMSu0VPk/AKFLThF3+TsAI/4+IIN9OwHBezgcHzU7AgKqwkInATsBABiAVELhOwCiG1+j7sk7A8O9rK/evTsDY+YuT2K1OwEAz5dBTrE7A0Fu+zkerTsBINubPiKpOwHhoxskhqk7AuIy/tO2pTsCIDPff6qlOwEjnpgsYqk7AuEfY8TiqTsDIHsDwaqpOwLg8zCpvqk7AMGbJnk6qTsCoj8YSLqpOwPjErswKqk7AEOkAldGpTsA4DVNdmKlOwFAxpSVfqU7A0HPqLyWpTsA4PfPA6qhOwIgG/FGwqE7AWEdZDneoTsC4JXkzR6hOwAAEmVgXqE7AUOK4feenTsD421tYvqdOwAjsn3qZp07A",
          "dtype": "f8"
         }
        },
        {
         "legendgroup": "060",
         "line": {
          "color": "rgb(255, 255, 0)"
         },
         "name": "060",
         "opacity": 0.4,
         "type": "scatter",
         "x": [
          0,
          1000000000000,
          2000000000000,
          3000000000000,
          4000000000000,
          5000000000000,
          6000000000000,
          7000000000000,
          8000000000000,
          9000000000000,
          10000000000000,
          11000000000000,
          12000000000000,
          13000000000000,
          14000000000000,
          15000000000000,
          16000000000000,
          17000000000000,
          18000000000000,
          19000000000000,
          20000000000000,
          21000000000000,
          22000000000000,
          23000000000000,
          24000000000000,
          25000000000000,
          26000000000000,
          27000000000000,
          28000000000000,
          29000000000000,
          30000000000000,
          31000000000000,
          32000000000000,
          33000000000000,
          34000000000000,
          35000000000000
         ],
         "y": {
          "bdata": "AAAAAAAAMD3Q5Q/21kpPQNAn96HR+09AeK6e9zsdUEAYAEcEniRQQJBz4XsaJ1BAlEvvxzgoUEAMZ0tZiyhQQHCN77edKFBARKMFDqgoUECck2basyhQQDSynZe+KFBAIIStWcgoUEAMVr0b0ihQQDTKn8XbKFBA0Jh9meAoUEBsZ1tt5ShQQPw1OUHqKFBAjK4ituwoUEBUu+H47ChQQCzIoDvtKFBAsClGb+0oUEAEHbKd6ihQQFwQHsznKFBAsAOK+uQoUEA8geii4ShQQLDoHc/dKFBAJFBT+9koUEBUxfIn1ihQQPzPyGnSKFBAoNqeq84oUEBE5XTtyihQQDwWwx3IKFBADIfwKsYoUEDc9x04xChQQGRsLE3CKFBA",
          "dtype": "f8"
         }
        },
        {
         "legendgroup": "060",
         "line": {
          "color": "rgb(255, 255, 0)"
         },
         "name": "060",
         "opacity": 0.4,
         "type": "scatter",
         "x": [
          0,
          1000000000000,
          2000000000000,
          3000000000000,
          4000000000000,
          5000000000000,
          6000000000000,
          7000000000000,
          8000000000000,
          9000000000000,
          10000000000000,
          11000000000000,
          12000000000000,
          13000000000000,
          14000000000000,
          15000000000000,
          16000000000000,
          17000000000000,
          18000000000000,
          19000000000000,
          20000000000000,
          21000000000000,
          22000000000000,
          23000000000000,
          24000000000000,
          25000000000000,
          26000000000000,
          27000000000000,
          28000000000000,
          29000000000000,
          30000000000000,
          31000000000000,
          32000000000000,
          33000000000000,
          34000000000000,
          35000000000000
         ],
         "y": {
          "bdata": "wOMZEf53KMBIxHkCT2JPwAgpi8S71k7ACNfJnNG1TsB48F4GCrNOwLA2tWpks07AmLY1I+uzTsBYB3DQObROwDjEwURVtE7AICKAXGS0TsBYtHFLdLROwNj7R8KCtE7A2PbD3I+0TsDQ8T/3nLROwNj9N/KptE7AaIFpn7C0TsD4BJtMt7ROwJiIzPm9tE7AGE6Ki8G0TsC4I4c8wrROwGj5g+3CtE7A6MRdi8O0TsDgW0tVwLROwNjyOB+9tE7AuIkm6bm0TsDYuoQBtrROwGjLbXWxtE7AINxW6ay0TsAwckteqLROwNC5wgiktE7AWAE6s5+0TsDYSLFdm7ROwAi3BASYtE7AWG+ek5W0TsCYJzgjk7ROwGhb7ruQtE7A",
          "dtype": "f8"
         }
        },
        {
         "legendgroup": "061",
         "line": {
          "color": "rgb(255, 242, 0)"
         },
         "name": "061",
         "opacity": 0.4,
         "type": "scatter",
         "x": [
          0,
          1000000000000,
          2000000000000,
          3000000000000,
          4000000000000,
          5000000000000,
          6000000000000,
          7000000000000,
          8000000000000,
          9000000000000,
          10000000000000,
          11000000000000,
          12000000000000,
          13000000000000,
          14000000000000,
          15000000000000,
          16000000000000,
          17000000000000,
          18000000000000,
          19000000000000,
          20000000000000,
          21000000000000,
          22000000000000,
          23000000000000,
          24000000000000,
          25000000000000,
          26000000000000,
          27000000000000,
          28000000000000,
          29000000000000,
          30000000000000,
          31000000000000,
          32000000000000,
          33000000000000,
          34000000000000,
          35000000000000
         ],
         "y": {
          "bdata": "AAAAAAAAMD3w4DmyG4FLQMje+AAbiUxAsI1K1SLPTEBIRm6truFMQPCH5+iG5kxAQOmWlZvnTEDIOjix2+dMQHD6z6r050xAADxqFvbnTECwyXmX8udMQHBXiRjv50xAANVs7eznTED4aVAQ6+dMQPj+MzPp50xA8BxJKefnTEDINyu95OdMQLhSDVHi50xAsG3v5N/nTEAwIqCe3edMQMhb/mDb50xASJVcI9nnTEBI+ZIU1+dMQADAc2zV50xAuIZUxNPnTEB4TTUc0udMQACMPyDR50xAQO7NS9DnTEBwUFx3z+dMQABketTO50xAMJmx1M7nTEBoNt8nz+dMQMg7A87P50xAIIjK39DnTEBwS/NW0udMQDDDIy/U50xA",
          "dtype": "f8"
         }
        },
        {
         "legendgroup": "061",
         "line": {
          "color": "rgb(255, 242, 0)"
         },
         "name": "061",
         "opacity": 0.4,
         "type": "scatter",
         "x": [
          0,
          1000000000000,
          2000000000000,
          3000000000000,
          4000000000000,
          5000000000000,
          6000000000000,
          7000000000000,
          8000000000000,
          9000000000000,
          10000000000000,
          11000000000000,
          12000000000000,
          13000000000000,
          14000000000000,
          15000000000000,
          16000000000000,
          17000000000000,
          18000000000000,
          19000000000000,
          20000000000000,
          21000000000000,
          22000000000000,
          23000000000000,
          24000000000000,
          25000000000000,
          26000000000000,
          27000000000000,
          28000000000000,
          29000000000000,
          30000000000000,
          31000000000000,
          32000000000000,
          33000000000000,
          34000000000000,
          35000000000000
         ],
         "y": {
          "bdata": "gFLox0xlKMCwmD5Du01MwNg9bE+vsUvAiE12SH2KS8DYBiJJNIFLwDDimJ0af0vAiPghxJl+S8A4otSQen5LwAjTMUl3fkvAuClgwH5+S8BYhTvtg35LwADhFhqJfkvAMBZE44l+S8AwfIaqiX5LwBjiyHGJfkvASDG4ooh+S8AY0zKKhn5LwPB0rXGEfkvAuBYoWYJ+S8CI5LU9gH5LwMjRlyF+fkvACL95BXx+S8BYdLkSen5LwMgKonp4fkvAOKGK4nZ+S8CwN3NKdX5LwLhlPFJ0fkvAeOC3fnN+S8AwWzOrcn5LwPgQQgdyfkvAOKTg/3F+S8B4fSJIcn5LwIicB+ByfkvAgK/l2XN+S8DYgBYxdX5LwLB/XuJ2fkvA",
          "dtype": "f8"
         }
        },
        {
         "legendgroup": "062",
         "line": {
          "color": "rgb(254, 230, 0)"
         },
         "name": "062",
         "opacity": 0.4,
         "type": "scatter",
         "x": [
          0,
          1000000000000,
          2000000000000,
          3000000000000,
          4000000000000,
          5000000000000,
          6000000000000,
          7000000000000,
          8000000000000,
          9000000000000,
          10000000000000,
          11000000000000,
          12000000000000,
          13000000000000,
          14000000000000,
          15000000000000,
          16000000000000,
          17000000000000,
          18000000000000,
          19000000000000,
          20000000000000,
          21000000000000,
          22000000000000,
          23000000000000,
          24000000000000,
          25000000000000,
          26000000000000,
          27000000000000,
          28000000000000,
          29000000000000,
          30000000000000,
          31000000000000,
          32000000000000,
          33000000000000,
          34000000000000,
          35000000000000
         ],
         "y": {
          "bdata": "AAAAAAAAQD1wBpIA6rw9QMAtD36R0T9AQMOFZaBbQEAwS5xAD4BAQLCcum/Xi0BA4LXwEqCPQEDgidvUwZBAQOB4/8FbkUBAkMP8ClWRQECwikz8TpFAQDDEZWVykUBAwPocPJCRQEBgV5zbl5FAQBBgessrkUBAMP1GdD2RQECw47Z+Q5FAQMBzrPtBkUBAYDDCm0ORQEAQU8zHQpFAQDD9GdhCkUBAwEiO5EKRQEDgrDh6QpFAQBAR4w9CkUBAMHWNpUGRQEAQw1yOQZFAQJAKyahBkUBAAFI1w0GRQEDA4scFQpFAQECcIF5DkUBAsFV5tkSRQEAQD9IORpFAQJDrq31HkUBAMIbz+UiRQEC4IDt2SpFAQJBw5A5MkUBA",
          "dtype": "f8"
         }
        },
        {
         "legendgroup": "062",
         "line": {
          "color": "rgb(254, 230, 0)"
         },
         "name": "062",
         "opacity": 0.4,
         "type": "scatter",
         "x": [
          0,
          1000000000000,
          2000000000000,
          3000000000000,
          4000000000000,
          5000000000000,
          6000000000000,
          7000000000000,
          8000000000000,
          9000000000000,
          10000000000000,
          11000000000000,
          12000000000000,
          13000000000000,
          14000000000000,
          15000000000000,
          16000000000000,
          17000000000000,
          18000000000000,
          19000000000000,
          20000000000000,
          21000000000000,
          22000000000000,
          23000000000000,
          24000000000000,
          25000000000000,
          26000000000000,
          27000000000000,
          28000000000000,
          29000000000000,
          30000000000000,
          31000000000000,
          32000000000000,
          33000000000000,
          34000000000000,
          35000000000000
         ],
         "y": {
          "bdata": "4BB+T5BqKMDQNdnuNP9BwCBwyePpNkHAuIrgC1sEQcCYZSLsCvRAwBgYFJ/Z70DACONBbnbuQMCYIVoclO5AwDhqvZBG7kDA6Gs2LpHuQMDon27UuO1AwOhszvqg7UDAmNbJrLTtQMCYQIf7HO5AwJC3YGbU7kDAmCXkjDHuQMA4fwmkMO5AwBjDPJQy7kDAiN5XSTXuQMCYIwS5Nu5AwIi7UNU17kDACDZjlTTuQMCI6u2tN+5AwOieeMY67kDAOFMD3z3uQMBoQutuOu5AwJgAvhgz7kDACL+QwivuQMBoTbcKJu5AwAhGYoUr7kDAmD4NADHuQMBQN7h6Nu5AwGg3uH877kDAaHaBPkDuQMBQtUr9RO5AwLgZomhK7kDA",
          "dtype": "f8"
         }
        },
        {
         "legendgroup": "063",
         "line": {
          "color": "rgb(254, 217, 0)"
         },
         "name": "063",
         "opacity": 0.4,
         "type": "scatter",
         "x": [
          0,
          1000000000000,
          2000000000000,
          3000000000000,
          4000000000000,
          5000000000000,
          6000000000000,
          7000000000000,
          8000000000000,
          9000000000000,
          10000000000000,
          11000000000000,
          12000000000000,
          13000000000000,
          14000000000000,
          15000000000000,
          16000000000000,
          17000000000000,
          18000000000000,
          19000000000000,
          20000000000000,
          21000000000000,
          22000000000000,
          23000000000000,
          24000000000000,
          25000000000000,
          26000000000000,
          27000000000000,
          28000000000000,
          29000000000000,
          30000000000000,
          31000000000000,
          32000000000000,
          33000000000000,
          34000000000000,
          35000000000000
         ],
         "y": {
          "bdata": "AAAAAAAAQD3cjgit92RQQCT9yJkfs1BAoGp3HxLEUEA0SBAYXctQQDT2m9DWzFBAcESgoDvNUECM8tPbOc1QQPxRiusuzVBAdHTm1CjNUED0cV9+Js1QQPRw9rgmzVBAsCiaGybNUEBk4D1+Jc1QQPA5NvMkzVBAFOuhlCTNUEA8nA02JM1QQCD0h/AjzVBAFNVnxyPNUEAMtkeeI81QQASXJ3UjzVBAsE9D2iPNUEDMEvVDJM1QQPTVpq0kzVBAfBeiYyXNUEC8jBFwJs1QQPwBgXwnzVBAPHfwiCjNUEDwXq0TKc1QQHy2O5opzVBAFA7KICrNUEB8kqxlKs1QQPS9ImAqzVBAZOmYWirNUEDUFA9VKs1QQHSjF0UqzVBA",
          "dtype": "f8"
         }
        },
        {
         "legendgroup": "063",
         "line": {
          "color": "rgb(254, 217, 0)"
         },
         "name": "063",
         "opacity": 0.4,
         "type": "scatter",
         "x": [
          0,
          1000000000000,
          2000000000000,
          3000000000000,
          4000000000000,
          5000000000000,
          6000000000000,
          7000000000000,
          8000000000000,
          9000000000000,
          10000000000000,
          11000000000000,
          12000000000000,
          13000000000000,
          14000000000000,
          15000000000000,
          16000000000000,
          17000000000000,
          18000000000000,
          19000000000000,
          20000000000000,
          21000000000000,
          22000000000000,
          23000000000000,
          24000000000000,
          25000000000000,
          26000000000000,
          27000000000000,
          28000000000000,
          29000000000000,
          30000000000000,
          31000000000000,
          32000000000000,
          33000000000000,
          34000000000000,
          35000000000000
         ],
         "y": {
          "bdata": "ADIG5qxlKMAsnHfemFFQwPi6auSpBlDAkMf5LlnWT8BI/ELUjMBPwLC27f2Qt0/A0H0t3+GyT8Cwp//IX7BPwKjDai9Hr0/AUEVsJQevT8AY1GgjWq9PwFCwCWLKr0/AEPrV2OmvT8DQQ6JPCbBPwGAROLwVsE/A4L0j/fOvT8BYag8+0q9PwJByZ7ihr0/A4JcQdGCvT8AwvbkvH69PwIDiYuvdrk/AKFCuWpSuT8Aw0pM5aK5PwKB7p56grk/AoLLjt9WuT8Dg4dIUB69PwEgRwnE4r0/AkECxzmmvT8DQi1hti69PwGCqDIqsr0/AEMnAps2vT8BgoUGw5a9PwNDq8XDzr0/AUDSiMQGwT8CofVLyDrBPwFD7l6oNsE/A",
          "dtype": "f8"
         }
        },
        {
         "legendgroup": "064",
         "line": {
          "color": "rgb(254, 204, 0)"
         },
         "name": "064",
         "opacity": 0.4,
         "type": "scatter",
         "x": [
          0,
          1000000000000,
          2000000000000,
          3000000000000,
          4000000000000,
          5000000000000,
          6000000000000,
          7000000000000,
          8000000000000,
          9000000000000,
          10000000000000,
          11000000000000,
          12000000000000,
          13000000000000,
          14000000000000,
          15000000000000,
          16000000000000,
          17000000000000,
          18000000000000,
          19000000000000,
          20000000000000,
          21000000000000,
          22000000000000,
          23000000000000,
          24000000000000,
          25000000000000,
          26000000000000,
          27000000000000,
          28000000000000,
          29000000000000,
          30000000000000,
          31000000000000,
          32000000000000,
          33000000000000,
          34000000000000,
          35000000000000
         ],
         "y": {
          "bdata": "AAAAAAAAQD3QCX4uvapIQNh+KRQ2dUhAkKc6CW3QSECQfM9vxflIQLgbb4CPBElA2BMoOnIHSUC4ouAoMQhJQChklQRWCElAuMewnV4ISUAomeHvWwhJQGhqEkJZCElAOL6JZFgISUCQJp+IVwhJQLiOtKxWCElAqNPRBlYISUA4Y7iXVQhJQLjynihVCElAaIKFuVQISUDYUml2VAhJQCBfdDNUCElAOGt/8FMISUBI6wG7UwhJQCgVLJNTCElA6D5Wa1MISUCwaIBDUwhJQBC5fDtTCElAsGqVM1MISUBoHK4rUwhJQBBNQy1TCElAaGaeP1MISUCoGYlbUwhJQKhmA4FTCElA6KsXrVMISUC4VGfhUwhJQLhu9B1UCElA",
          "dtype": "f8"
         }
        },
        {
         "legendgroup": "064",
         "line": {
          "color": "rgb(254, 204, 0)"
         },
         "name": "064",
         "opacity": 0.4,
         "type": "scatter",
         "x": [
          0,
          1000000000000,
          2000000000000,
          3000000000000,
          4000000000000,
          5000000000000,
          6000000000000,
          7000000000000,
          8000000000000,
          9000000000000,
          10000000000000,
          11000000000000,
          12000000000000,
          13000000000000,
          14000000000000,
          15000000000000,
          16000000000000,
          17000000000000,
          18000000000000,
          19000000000000,
          20000000000000,
          21000000000000,
          22000000000000,
          23000000000000,
          24000000000000,
          25000000000000,
          26000000000000,
          27000000000000,
          28000000000000,
          29000000000000,
          30000000000000,
          31000000000000,
          32000000000000,
          33000000000000,
          34000000000000,
          35000000000000
         ],
         "y": {
          "bdata": "wOpn2tJ0KMDwh3L/RwdMwDgSZcbA20jA4P/sBJx8SMAo0Lqqym5IwKjSUE7ta0jAyNZLAS9rSMBIYkNP/WpIwMiFhL70akjAELkSr/JqSMDI0+Uz82pIwIjuuLjzakjAYD9Dx/NqSMBgEWTV82pIwGDjhOPzakjASAdk9/NqSMCIDBYR9GpIwNgRyCr0akjASBd6RPRqSMAQ74pj9GpIwCiRoIL0akjAKDO2ofRqSMBgVDm89GpIwKiWGdL0akjA0Nj55/RqSMAAG9r99GpIwKg10Qf1akjAyLC9EfVqSMDQK6ob9WpIwMjy2CD1akjAyLulHfVqSMAoRKsV9WpIwBCM6Qj1akjAYFv39/RqSMBgn4Hi9GpIwGDvh8j0akjA",
          "dtype": "f8"
         }
        },
        {
         "legendgroup": "065",
         "line": {
          "color": "rgb(254, 191, 0)"
         },
         "name": "065",
         "opacity": 0.4,
         "type": "scatter",
         "x": [
          0,
          1000000000000,
          2000000000000,
          3000000000000,
          4000000000000,
          5000000000000,
          6000000000000,
          7000000000000,
          8000000000000,
          9000000000000,
          10000000000000,
          11000000000000,
          12000000000000,
          13000000000000,
          14000000000000,
          15000000000000,
          16000000000000,
          17000000000000,
          18000000000000,
          19000000000000,
          20000000000000,
          21000000000000,
          22000000000000,
          23000000000000,
          24000000000000,
          25000000000000,
          26000000000000,
          27000000000000,
          28000000000000,
          29000000000000,
          30000000000000,
          31000000000000,
          32000000000000,
          33000000000000,
          34000000000000,
          35000000000000
         ],
         "y": {
          "bdata": "AAAAAAAAMD3wtmYCF0ZBQMjVeOvzvkFAaN8QZGc5QkC4SxGiWGVCQOiDOwomc0JAmC4lqH13QkDofNd/mnhCQMgv7q41eUJAwEfJgSJ5QkBAob6h+3hCQID9aKYCeUJA6JHweQp5QkC4qcHQFHlCQGjBkicfeUJAONljfil5QkCY3aujLHlCQDgGEE0teUJAyC509i15QkBAFkAkLnlCQGgFtNEseUJAuPQnfyt5QkDo45ssKnlCQGhftQopeUJASB6b+Sd5QkBI3YDoJnlCQLjoYzEmeUJAaDwekiZ5QkA4kNjyJnlCQMjjklMneUJAyPlhrSd5QkC4cc0EKHlCQJjpOFwoeUJAuInBjSh5QkAYl3lJKHlCQGikMQUoeUJA",
          "dtype": "f8"
         }
        },
        {
         "legendgroup": "065",
         "line": {
          "color": "rgb(254, 191, 0)"
         },
         "name": "065",
         "opacity": 0.4,
         "type": "scatter",
         "x": [
          0,
          1000000000000,
          2000000000000,
          3000000000000,
          4000000000000,
          5000000000000,
          6000000000000,
          7000000000000,
          8000000000000,
          9000000000000,
          10000000000000,
          11000000000000,
          12000000000000,
          13000000000000,
          14000000000000,
          15000000000000,
          16000000000000,
          17000000000000,
          18000000000000,
          19000000000000,
          20000000000000,
          21000000000000,
          22000000000000,
          23000000000000,
          24000000000000,
          25000000000000,
          26000000000000,
          27000000000000,
          28000000000000,
          29000000000000,
          30000000000000,
          31000000000000,
          32000000000000,
          33000000000000,
          34000000000000,
          35000000000000
         ],
         "y": {
          "bdata": "wJNw/7FmKMCQjmYD/yRGwFjzReYK8kLAkJHZzlKjQsBAJTtLlZRCwECpdu3oj0LAYMo7cJ2OQsDghmOnEo5CwJDkiLcBjkLAYKv9bgCOQsCAWV4hA45CwAAxCakGjkLAYGGk0geOQsBAKZOfAY5CwBDxgWz7jULA4LhwOfWNQsAgfSa48Y1CwKAdCyXvjULAIL7vkeyNQsCQlen3641CwICCjIDxjULAUG8vCfeNQsBAXNKR/I1CwEAuk+b8jULAwFNsb/uNQsBQeUX4+Y1CwKCNm9v4jULAQNJV2PiNQsDAFhDV+I1CwGBbytH4jULAANAwh/mNQsAQ8Ft8+o1CwCAQh3H7jULAoO7sJ/yNQsBAGSAb/I1CwMBDUw78jULA",
          "dtype": "f8"
         }
        },
        {
         "legendgroup": "066",
         "line": {
          "color": "rgb(254, 179, 0)"
         },
         "name": "066",
         "opacity": 0.4,
         "type": "scatter",
         "x": [
          0,
          1000000000000,
          2000000000000,
          3000000000000,
          4000000000000,
          5000000000000,
          6000000000000,
          7000000000000,
          8000000000000,
          9000000000000,
          10000000000000,
          11000000000000,
          12000000000000,
          13000000000000,
          14000000000000,
          15000000000000,
          16000000000000,
          17000000000000,
          18000000000000,
          19000000000000,
          20000000000000,
          21000000000000,
          22000000000000,
          23000000000000,
          24000000000000,
          25000000000000,
          26000000000000,
          27000000000000,
          28000000000000,
          29000000000000,
          30000000000000,
          31000000000000,
          32000000000000,
          33000000000000,
          34000000000000,
          35000000000000
         ],
         "y": {
          "bdata": "AAAAAAAAWD3QE3sOILpJQEhUFKKSxElAEDXTFsPtSUAIBM/1NwpKQGDdKURcFEpAiN1kriEXSkBQIg5A8hdKQAgFrlwfGEpASLzr6SoYSkDgvN55KhhKQODizekoGEpAmJOVBCgYSkCYA++gJxhKQKhzSD0nGEpAYMfD3iYYSkAIetLFJhhKQMgs4awmGEpAgN/vkyYYSkCAfbR+JhhKQGCGSWwmGEpAYI/eWSYYSkCAYLFHJhhKQJi4yTgmGEpA4BDiKSYYSkAQafoaJhhKQKiy3A0mGEpACEoaAiYYSkBg4Vf2JRhKQNiJT+slGEpASI8h6iUYSkColPPoJRhKQBiaxeclGEpAaIgu6yUYSkCYgxLyJRhKQNh+9vglGEpA",
          "dtype": "f8"
         }
        },
        {
         "legendgroup": "066",
         "line": {
          "color": "rgb(254, 179, 0)"
         },
         "name": "066",
         "opacity": 0.4,
         "type": "scatter",
         "x": [
          0,
          1000000000000,
          2000000000000,
          3000000000000,
          4000000000000,
          5000000000000,
          6000000000000,
          7000000000000,
          8000000000000,
          9000000000000,
          10000000000000,
          11000000000000,
          12000000000000,
          13000000000000,
          14000000000000,
          15000000000000,
          16000000000000,
          17000000000000,
          18000000000000,
          19000000000000,
          20000000000000,
          21000000000000,
          22000000000000,
          23000000000000,
          24000000000000,
          25000000000000,
          26000000000000,
          27000000000000,
          28000000000000,
          29000000000000,
          30000000000000,
          31000000000000,
          32000000000000,
          33000000000000,
          34000000000000,
          35000000000000
         ],
         "y": {
          "bdata": "ALia/FRfKMBQnlMWabdLwGh22nmvP0rAKEUcVRncScDI5PkitsNJwECFsYlvw0nAiIQzBavEScDAT07nJMVJwED+8phNxUnAsDx8XWDFScCw/LB8acVJwGAhIB5yxUnA4BxrDHjFScAo7ozue8VJwEC/rtB/xUnAwOeaa4PFScBgzTFBg8VJwCizyBaDxUnAwJhf7ILFScDgSZ65gcVJwKhzYr5/xUnAQJ0mw33FScDgPz7Fe8VJwOBIFqN5xUnA4FHugHfFScDgWsZedcVJwOApfbhzxUnAwGMlcHLFScConc0nccVJwGDtmehvxUnACPNQJW/FScDA+AdibsVJwGD+vp5txUnA4J08jm3FScAIlU8FbsVJwAiMYnxuxUnA",
          "dtype": "f8"
         }
        },
        {
         "legendgroup": "067",
         "line": {
          "color": "rgb(253, 166, 0)"
         },
         "name": "067",
         "opacity": 0.4,
         "type": "scatter",
         "x": [
          0,
          1000000000000,
          2000000000000,
          3000000000000,
          4000000000000,
          5000000000000,
          6000000000000,
          7000000000000,
          8000000000000,
          9000000000000,
          10000000000000,
          11000000000000,
          12000000000000,
          13000000000000,
          14000000000000,
          15000000000000,
          16000000000000,
          17000000000000,
          18000000000000,
          19000000000000,
          20000000000000,
          21000000000000,
          22000000000000,
          23000000000000,
          24000000000000,
          25000000000000,
          26000000000000,
          27000000000000,
          28000000000000,
          29000000000000,
          30000000000000,
          31000000000000,
          32000000000000,
          33000000000000,
          34000000000000,
          35000000000000
         ],
         "y": {
          "bdata": "AAAAAAAAMD3oRXQ7L6ZQQMTqKse/3VBA/JcTSvnpUEDc5vq+7edQQDzW9/292VBAVNhxYCbQUEAY3qVFS8xQQMQGsKldylBAZAu5j97IUEAkU1IOt8dQQLTBhIOSyFBAfBW9MeTKUEBUxpVI9MtQQEDhpsE4zFBARLnyOFLMUEDcfg93UsxQQCQBZFd7zFBA/Hy+L8DMUEDE+BgIBc1QQHxhBWBJzVBAhPBgAorNUECcf7ykys1QQKTItHIJzlBAwBRRhkDOUEDcYO2Zd85QQPSsia2uzlBAjCBsttzOUED8Ok+2Bs9QQHRVMrYwz1BAlAMQvFfPUEAkwlQvcs9QQLCAmaKMz1BAPD/eFafPUEAUNG4kuM9QQJy1XYa/z1BA",
          "dtype": "f8"
         }
        },
        {
         "legendgroup": "067",
         "line": {
          "color": "rgb(253, 166, 0)"
         },
         "name": "067",
         "opacity": 0.4,
         "type": "scatter",
         "x": [
          0,
          1000000000000,
          2000000000000,
          3000000000000,
          4000000000000,
          5000000000000,
          6000000000000,
          7000000000000,
          8000000000000,
          9000000000000,
          10000000000000,
          11000000000000,
          12000000000000,
          13000000000000,
          14000000000000,
          15000000000000,
          16000000000000,
          17000000000000,
          18000000000000,
          19000000000000,
          20000000000000,
          21000000000000,
          22000000000000,
          23000000000000,
          24000000000000,
          25000000000000,
          26000000000000,
          27000000000000,
          28000000000000,
          29000000000000,
          30000000000000,
          31000000000000,
          32000000000000,
          33000000000000,
          34000000000000,
          35000000000000
         ],
         "y": {
          "bdata": "oPeAredbKMDQhcCobS1RwKDH6/UOvVDAAEzIz4R/UMB4m8d2MFJQwECrFBs4LlDA6Nq6cdMTUMBoyEcEwQJQwBhFemQU7E/AcP3VnaDXT8CAkgzWZ8hPwJgjfk7XvU/AGAu7PnC3T8BYPXxbcbdPwLg3zfIcuE/AyJ3jK2W4T8DItG4oZrhPwDhm8Y9/uE/AsGxkxtW4T8AQc9f8K7lPwBjpx2uDuU/ASBsp4eO5T8CwTYpWRLpPwPh+t62iuk/AuGDBEvi6T8B4Qst3TbtPwDgk1dyiu0/AyBrRwum7T8CYSakwKrxPwEh4gZ5qvE/AyNiNWaa8T8DIn0Y8zrxPwNhm/x72vE/A2C24AR69T8DIUrhdOL1PwLB3b8tEvU/A",
          "dtype": "f8"
         }
        },
        {
         "legendgroup": "068",
         "line": {
          "color": "rgb(253, 153, 0)"
         },
         "name": "068",
         "opacity": 0.4,
         "type": "scatter",
         "x": [
          0,
          1000000000000,
          2000000000000,
          3000000000000,
          4000000000000,
          5000000000000,
          6000000000000,
          7000000000000,
          8000000000000,
          9000000000000,
          10000000000000,
          11000000000000,
          12000000000000,
          13000000000000,
          14000000000000,
          15000000000000,
          16000000000000,
          17000000000000,
          18000000000000,
          19000000000000,
          20000000000000,
          21000000000000,
          22000000000000,
          23000000000000,
          24000000000000,
          25000000000000,
          26000000000000,
          27000000000000,
          28000000000000,
          29000000000000,
          30000000000000,
          31000000000000,
          32000000000000,
          33000000000000,
          34000000000000,
          35000000000000
         ],
         "y": {
          "bdata": "AAAAAAAAQD04Z0oEjq1EQAAvN99nVkZAIPF+U3LSRkDQHg8oZvdGQOCDXA2MAUdAkJqB2XQER0CQjjXeJwVHQNCwzzdTBUdAmBE6wVMFR0CQKZ+mUQVHQPBk7fZQBUdAkD+oaVAFR0AgelFcUAVHQNC0+k5QBUdAYO+jQVAFR0AQoRY9UAVHQJD1mz9QBUdAEEohQlAFR0AQXZlEUAVHQNhnKUZQBUdAoHK5R1AFR0CAfUlJUAVHQOBjRklQBUdAIMv+R1AFR0CAMrdGUAVHQBA6VUVQBUdAyJglQlAFR0CQ9/U+UAVHQFBWxjtQBUdAsJymOFAFR0CQsJM1UAVHQGDEgDJQBUdAUMZ7L1AFR0BgnWotUAVHQHB0WStQBUdA",
          "dtype": "f8"
         }
        },
        {
         "legendgroup": "068",
         "line": {
          "color": "rgb(253, 153, 0)"
         },
         "name": "068",
         "opacity": 0.4,
         "type": "scatter",
         "x": [
          0,
          1000000000000,
          2000000000000,
          3000000000000,
          4000000000000,
          5000000000000,
          6000000000000,
          7000000000000,
          8000000000000,
          9000000000000,
          10000000000000,
          11000000000000,
          12000000000000,
          13000000000000,
          14000000000000,
          15000000000000,
          16000000000000,
          17000000000000,
          18000000000000,
          19000000000000,
          20000000000000,
          21000000000000,
          22000000000000,
          23000000000000,
          24000000000000,
          25000000000000,
          26000000000000,
          27000000000000,
          28000000000000,
          29000000000000,
          30000000000000,
          31000000000000,
          32000000000000,
          33000000000000,
          34000000000000,
          35000000000000
         ],
         "y": {
          "bdata": "QHzv30ZcKMBoLl43cTxHwFhhPvj5ekbAmJJIxvBORsCING+NIEVGwHBpO3xlQkbAuLoAwppBRsDwWwTPakFGwIid9/9eQUbA8HDUnl5BRsCYLlgCX0FGwPD4Dz5fQUbACIhtdF9BRsAIwiaBX0FGwBj8341fQUbAODaZml9BRsAY11GhX0FGwLihNaNfQUbAcGwZpV9BRsA4BuumX0FGwJg2fqdfQUbACGcRqF9BRsBwl6SoX0FGwAg0yKhfQUbACAGSqF9BRsAIzluoX0FGwLibIKhfQUbAiPKNp19BRsAYSfumX0FGwAigaKZfQUbA8OvNpV9BRsC4viylX0FGwIiRi6RfQUbAuKLso19BRsAI+nSjX0FGwHBR/aJfQUbA",
          "dtype": "f8"
         }
        },
        {
         "legendgroup": "069",
         "line": {
          "color": "rgb(253, 140, 0)"
         },
         "name": "069",
         "opacity": 0.4,
         "type": "scatter",
         "x": [
          0,
          1000000000000,
          2000000000000,
          3000000000000,
          4000000000000,
          5000000000000,
          6000000000000,
          7000000000000,
          8000000000000,
          9000000000000,
          10000000000000,
          11000000000000,
          12000000000000,
          13000000000000,
          14000000000000,
          15000000000000,
          16000000000000,
          17000000000000,
          18000000000000,
          19000000000000,
          20000000000000,
          21000000000000,
          22000000000000,
          23000000000000,
          24000000000000,
          25000000000000,
          26000000000000,
          27000000000000,
          28000000000000,
          29000000000000,
          30000000000000,
          31000000000000,
          32000000000000,
          33000000000000,
          34000000000000,
          35000000000000
         ],
         "y": {
          "bdata": "AAAAAAAAMD0oKWUUskBMQJheKLiSHE1AoGBpzn9gTUDwsb5T+nFNQDDOhPoTd01AmI0jgEB4TUAoIOhIjHhNQKi4vHCZeE1A8F9Dd6B4TUDwXlu2onhNQPBdc/WkeE1A8FyLNKd4TUCoH2RapnhNQDCC036leE1AuORCo6R4TUCYXehTo3hNQCCN8I+heE1AqLz4y594TUA47AAInnhNQGg5HE6ceE1AiB08lJp4TUCgAVzamHhNQFjJoyWXeE1AKN4cdpV4TUAQ85XGk3hNQOAHDxeSeE1AsKjRPpF4TUBoXfZmkHhNQBgSG4+PeE1AMNEo3o54TUCwomZUjnhNQDh0pMqNeE1AuEXiQI14TUBgg+6EjXhNQFjK7iSOeE1A",
          "dtype": "f8"
         }
        },
        {
         "legendgroup": "069",
         "line": {
          "color": "rgb(253, 140, 0)"
         },
         "name": "069",
         "opacity": 0.4,
         "type": "scatter",
         "x": [
          0,
          1000000000000,
          2000000000000,
          3000000000000,
          4000000000000,
          5000000000000,
          6000000000000,
          7000000000000,
          8000000000000,
          9000000000000,
          10000000000000,
          11000000000000,
          12000000000000,
          13000000000000,
          14000000000000,
          15000000000000,
          16000000000000,
          17000000000000,
          18000000000000,
          19000000000000,
          20000000000000,
          21000000000000,
          22000000000000,
          23000000000000,
          24000000000000,
          25000000000000,
          26000000000000,
          27000000000000,
          28000000000000,
          29000000000000,
          30000000000000,
          31000000000000,
          32000000000000,
          33000000000000,
          34000000000000,
          35000000000000
         ],
         "y": {
          "bdata": "gLEI5/5fKMAwxfjAMeNMwOheQUCEJkzAoOoG6pUITMAI/yHh2QVMwJgmOk4JBUzAwLcA9tkETMBIQ4KZ3wRMwEhrPnnpBEzAOOnsE/AETMBIb7Vy8gRMwHj1fdH0BEzAiHtGMPcETMB4YzJc9gRMwPg/qYb1BEzAaBwgsfQETMAA5v9Y8wRMwBg4Wn3xBEzAKIq0oe8ETMBA3A7G7QRMwLiP9tvrBEzAOK7X8ekETMC4zLgH6ARMwBhxRi7mBEzAqAufZeQETMA4pvec4gRMwLhAUNTgBEzAmOKoz98ETMDozlrL3gRMwDi7DMfdBEzA2JaPAt0ETMAY4Vd+3ARMwGgrIPrbBEzAmHXoddsETMBAmUO02wRMwID7jUncBEzA",
          "dtype": "f8"
         }
        },
        {
         "legendgroup": "070",
         "line": {
          "color": "rgb(252, 128, 0)"
         },
         "name": "070",
         "opacity": 0.4,
         "type": "scatter",
         "x": [
          0,
          1000000000000,
          2000000000000,
          3000000000000,
          4000000000000,
          5000000000000,
          6000000000000,
          7000000000000,
          8000000000000,
          9000000000000,
          10000000000000,
          11000000000000,
          12000000000000,
          13000000000000,
          14000000000000,
          15000000000000,
          16000000000000,
          17000000000000,
          18000000000000,
          19000000000000,
          20000000000000,
          21000000000000,
          22000000000000,
          23000000000000,
          24000000000000,
          25000000000000,
          26000000000000,
          27000000000000,
          28000000000000,
          29000000000000,
          30000000000000,
          31000000000000,
          32000000000000,
          33000000000000,
          34000000000000,
          35000000000000
         ],
         "y": {
          "bdata": "AAAAAAAAQD1wZv2mARhFQCj9bUPeokZA8AO2SQ0QR0Ao+iOWXy5HQNBxbO9vNkdAoGkujKU4R0AYsqYsKDlHQFA3S6A9OUdA+Jgr4zs5R0Ao+/2ENjlHQHjwOHwxOUdAELS9FzE5R0Cod0KzMDlHQFg7x04wOUdA0DcrfjA5R0AYf3UeMTlHQHjGv74xOUdAiGwqWzI5R0CIhrDBMjlHQHigNigzOUdAeLq8jjM5R0CQxWPUMzlHQJj08QA0OUdAqCOALTQ5R0BQRrVWNDlHQBhKVlE0OUdA+E33SzQ5R0DIUZhGNDlHQKCAAy40OUdAEFy2+TM5R0B4bMC0MzlHQFAc02AzOUdAKKBYGzM5R0AQXF3TMjlHQPhP4YgyOUdA",
          "dtype": "f8"
         }
        },
        {
         "legendgroup": "070",
         "line": {
          "color": "rgb(252, 128, 0)"
         },
         "name": "070",
         "opacity": 0.4,
         "type": "scatter",
         "x": [
          0,
          1000000000000,
          2000000000000,
          3000000000000,
          4000000000000,
          5000000000000,
          6000000000000,
          7000000000000,
          8000000000000,
          9000000000000,
          10000000000000,
          11000000000000,
          12000000000000,
          13000000000000,
          14000000000000,
          15000000000000,
          16000000000000,
          17000000000000,
          18000000000000,
          19000000000000,
          20000000000000,
          21000000000000,
          22000000000000,
          23000000000000,
          24000000000000,
          25000000000000,
          26000000000000,
          27000000000000,
          28000000000000,
          29000000000000,
          30000000000000,
          31000000000000,
          32000000000000,
          33000000000000,
          34000000000000,
          35000000000000
         ],
         "y": {
          "bdata": "oE3RxxlnKMBQo5w6f6RGwOgHP901J0bAuAdxSBkIRsB4XLU2Pf9FwKj/YQHf/EXAOEkkSDn8RcBgn8ZWEfxFwLj+jp4M/EXAMIbFnw78RcDgA+ScEPxFwKiPq3QS/EXA8ITxRBL8RcAwejcVEvxFwHhvfeUR/EXACGSMixH8RcBoP2AREfxFwLgaNJcQ/EXA8M2wIBD8RcAozRfdD/xFwGjMfpkP/EXAqMvlVQ/8RcDII5UmD/xFwHDRwAYP/EXAIH/s5g78RcBIfLbJDvxFwHiC7tAO/EXAoIgm2A78RcDIjl7fDvxFwHgKgvQO/EXAMIW7HQ/8RcAwRAdTD/xFwIjjL5MP/EXAyPw1yQ/8RcD4XjMBEPxFwCAKKDsQ/EXA",
          "dtype": "f8"
         }
        },
        {
         "legendgroup": "071",
         "line": {
          "color": "rgb(252, 115, 0)"
         },
         "name": "071",
         "opacity": 0.4,
         "type": "scatter",
         "x": [
          0,
          1000000000000,
          2000000000000,
          3000000000000,
          4000000000000,
          5000000000000,
          6000000000000,
          7000000000000,
          8000000000000,
          9000000000000,
          10000000000000,
          11000000000000,
          12000000000000,
          13000000000000,
          14000000000000,
          15000000000000,
          16000000000000,
          17000000000000,
          18000000000000,
          19000000000000,
          20000000000000,
          21000000000000,
          22000000000000,
          23000000000000,
          24000000000000,
          25000000000000,
          26000000000000,
          27000000000000,
          28000000000000,
          29000000000000,
          30000000000000,
          31000000000000,
          32000000000000,
          33000000000000,
          34000000000000,
          35000000000000
         ],
         "y": {
          "bdata": "AAAAAAAAMD3IK41wAdNIQLDXLOviAUpAKHrnORJZSkCYbt7SB3FKQJj9RyNqd0pAcAQdcOF4SkCwGNUiO3lKQBgl7yJZeUpAmAlrAlR5SkCw1ricTHlKQNijBjdFeUpAODk3X0J5SkDQt7ctQHlKQFg2OPw9eUpAoEEFFjx5SkBwBDytOnlKQDDHckQ5eUpAEIqp2zd5SkAYdvbENnlKQNgG+bk1eUpAmJf7rjR5SkDY1S/GM3lKQJicVxYzeUpAKGN/ZjJ5SkDoKae2MXlKQJB882QxeUpAuLitIDF5SkAQ9WfcMHlKQPhLhLcweUpA2DGV5DB5SkAooNI8MXlKQPCWPMAxeUpAWBCGbDJ5SkAQlodCM3lKQHD5gUI0eUpA",
          "dtype": "f8"
         }
        },
        {
         "legendgroup": "071",
         "line": {
          "color": "rgb(252, 115, 0)"
         },
         "name": "071",
         "opacity": 0.4,
         "type": "scatter",
         "x": [
          0,
          1000000000000,
          2000000000000,
          3000000000000,
          4000000000000,
          5000000000000,
          6000000000000,
          7000000000000,
          8000000000000,
          9000000000000,
          10000000000000,
          11000000000000,
          12000000000000,
          13000000000000,
          14000000000000,
          15000000000000,
          16000000000000,
          17000000000000,
          18000000000000,
          19000000000000,
          20000000000000,
          21000000000000,
          22000000000000,
          23000000000000,
          24000000000000,
          25000000000000,
          26000000000000,
          27000000000000,
          28000000000000,
          29000000000000,
          30000000000000,
          31000000000000,
          32000000000000,
          33000000000000,
          34000000000000,
          35000000000000
         ],
         "y": {
          "bdata": "gIpSZxRrKMCgRJ7DT9xJwEgGnMhdPUnAYJRW+HsfScDIjcsL/hdJwHADTlYjFknAYA14LrIVScBw2IIvmRVJwBALy4mSFUnAkAJWbJUVScBgQntImBVJwBCCoCSbFUnAEOYcvpsVScDIwA0FnBVJwHCb/kucFUnAcL/1XJwVScBwCgcUnBVJwGhVGMubFUnAaKApgpsVScDwy5s5mxVJwGDJG/GaFUnAyMabqJoVScDgg8BomhVJwMioSjeaFUnAcM3UBZoVScBg8l7UmRVJwGCG3b2ZFUnA8HA0q5kVScCQW4uYmRVJwPA07Y6ZFUnAcFvsnJkVScBgKly3mRVJwHChPN6ZFUnASKz7D5oVScCQGi1NmhVJwPAr/ZWaFUnA",
          "dtype": "f8"
         }
        },
        {
         "legendgroup": "072",
         "line": {
          "color": "rgb(252, 102, 0)"
         },
         "name": "072",
         "opacity": 0.4,
         "type": "scatter",
         "x": [
          0,
          1000000000000,
          2000000000000,
          3000000000000,
          4000000000000,
          5000000000000,
          6000000000000,
          7000000000000,
          8000000000000,
          9000000000000,
          10000000000000,
          11000000000000,
          12000000000000,
          13000000000000,
          14000000000000,
          15000000000000,
          16000000000000,
          17000000000000,
          18000000000000,
          19000000000000,
          20000000000000,
          21000000000000,
          22000000000000,
          23000000000000,
          24000000000000,
          25000000000000,
          26000000000000,
          27000000000000,
          28000000000000,
          29000000000000,
          30000000000000,
          31000000000000,
          32000000000000,
          33000000000000,
          34000000000000,
          35000000000000
         ],
         "y": {
          "bdata": "AAAAAAAAMD2o5ihC++JPQNSDHHHiUFBA4JvczPtuUEDIhT4VK3dQQCgofySmd1BAJFRXDIB2UEBg9PudhXVQQGgc6wjkdFBAAO73iHB0UECs7MIQKnRQQEA7N935c1BA2PchXNhzUECEgGBBvXNQQOBrHMOrc1BAPASqhaJzUECgbPaXm3NQQJig7Wqac1BASFZoKZ5zUEAowwlRoXNQQLTDUvGmc1BA6E51oa1zUEBAlf3TqHNQQKDbhQakc1BA9CEOOZ9zUEDYPntKlXNQQCSDpvKHc1BAdMfRmnpzUEAAsajlbHNQQFDO/+1bc1BAoOtW9kpzUED0CK7+OXNQQDxX3Kooc1BAIK7AGRdzUEAEBaWIBXNQQChb20r0clBA",
          "dtype": "f8"
         }
        },
        {
         "legendgroup": "072",
         "line": {
          "color": "rgb(252, 102, 0)"
         },
         "name": "072",
         "opacity": 0.4,
         "type": "scatter",
         "x": [
          0,
          1000000000000,
          2000000000000,
          3000000000000,
          4000000000000,
          5000000000000,
          6000000000000,
          7000000000000,
          8000000000000,
          9000000000000,
          10000000000000,
          11000000000000,
          12000000000000,
          13000000000000,
          14000000000000,
          15000000000000,
          16000000000000,
          17000000000000,
          18000000000000,
          19000000000000,
          20000000000000,
          21000000000000,
          22000000000000,
          23000000000000,
          24000000000000,
          25000000000000,
          26000000000000,
          27000000000000,
          28000000000000,
          29000000000000,
          30000000000000,
          31000000000000,
          32000000000000,
          33000000000000,
          34000000000000,
          35000000000000
         ],
         "y": {
          "bdata": "AID0U51bKMAQg/IQIzBQwCgUqRaDvE/AWAqd0oGBT8AgruKBKWRPwEAuYq0/UU/A2NTsefpET8CAu1ZzhT1PwBi6CtwbOU/AwLD44Ds2T8CADg6FHTRPwKgxtDU2NE/AaNvmXcE0T8DQCDutKzVPwNhqURFrNU/AGBpVk4U1T8CoyHKblTVPwDDgi96LNU/A2NB/oG01T8Cokba3XTVPwKBUt8lINU/AGKqjDTM1T8CwFJLAQDVPwGB/gHNONU/AGOpuJlw1T8Aon5kGeTVPwJhfkv6fNU/A6B+L9sY1T8Aw1FwW7zVPwCAje4shNk/AGHKZAFQ2T8D4wLd1hjZPwOhQKUO5Nk/AaBRYS+w2T8Dg14ZTHzdPwFAsUYBRN0/A",
          "dtype": "f8"
         }
        },
        {
         "legendgroup": "073",
         "line": {
          "color": "rgb(252, 89, 0)"
         },
         "name": "073",
         "opacity": 0.4,
         "type": "scatter",
         "x": [
          0,
          1000000000000,
          2000000000000,
          3000000000000,
          4000000000000,
          5000000000000,
          6000000000000,
          7000000000000,
          8000000000000,
          9000000000000,
          10000000000000,
          11000000000000,
          12000000000000,
          13000000000000,
          14000000000000,
          15000000000000,
          16000000000000,
          17000000000000,
          18000000000000,
          19000000000000,
          20000000000000,
          21000000000000,
          22000000000000,
          23000000000000,
          24000000000000,
          25000000000000,
          26000000000000,
          27000000000000,
          28000000000000,
          29000000000000,
          30000000000000,
          31000000000000,
          32000000000000,
          33000000000000,
          34000000000000,
          35000000000000
         ],
         "y": {
          "bdata": "AAAAAAAAMD0wwWRS6DI6QMBw/ZCxmjtAkEN263m6PEBwH7wnLus8QJDnivwgyTxAkK8n8/vZPEBQAsZvW+g8QFDfcLtcyTxAwOu7HUjQPEBgU7IqAMA8QJD+61njzzxAALehF6nCPECQvLBYhMU8QDDw8ZzBwDxAsHZJSuTBPEAwW7e978E8QLCFT1bpwDxA0CqY0qjBPEAwVO5AwME8QKC7ovTKwTxAsLHV9NPBPEBw5J5y4sE8QDCStMDOwTxAEAxboczBPEAwPkXVxME8QKB0R5HHwTxAcM/Lv6zBPECglSx2usE8QHAn3QnBwTxAsMIuHcjBPEDwk8JF0sE8QCCgwpu9wTxAcOBvIOnBPEAw+rofncE8QFCN2VwcwjxA",
          "dtype": "f8"
         }
        },
        {
         "legendgroup": "073",
         "line": {
          "color": "rgb(252, 89, 0)"
         },
         "name": "073",
         "opacity": 0.4,
         "type": "scatter",
         "x": [
          0,
          1000000000000,
          2000000000000,
          3000000000000,
          4000000000000,
          5000000000000,
          6000000000000,
          7000000000000,
          8000000000000,
          9000000000000,
          10000000000000,
          11000000000000,
          12000000000000,
          13000000000000,
          14000000000000,
          15000000000000,
          16000000000000,
          17000000000000,
          18000000000000,
          19000000000000,
          20000000000000,
          21000000000000,
          22000000000000,
          23000000000000,
          24000000000000,
          25000000000000,
          26000000000000,
          27000000000000,
          28000000000000,
          29000000000000,
          30000000000000,
          31000000000000,
          32000000000000,
          33000000000000,
          34000000000000,
          35000000000000
         ],
         "y": {
          "bdata": "QKmZIE5cKMDYAjPa6MFAwNDqKlsRij/AsJd0l0VfP8Ag2tU6SFk/wLDTIkHX5D7A4OE6VM7SPsDQ4Vb33Q4/wNDpqOWD3j7AQKCjYEPPPsBwZO02j+Y+wCCainOu6j7AILpJJAvcPsDAViIINd0+wHBMjLwD4j7AsA/fM6fhPsDQqm+gNeE+wLCmZ7QD4D7AsCXBfF3hPsCwS7MHoOE+wLBSGmWn4T7AIDnEEMnhPsCwtQcBtuE+wNAnKzKT4T7AIF+da4nhPsCwC9zrk+E+wHDCMUiE4T7AsG8eEOrhPsDQH9eIpuE+wCC2bauZ4T7AIPcv8nvhPsAgqWQaYOE+wLDS6Dmj4T7AsLift0DhPsDQtRd44uE+wFCWljy74D7A",
          "dtype": "f8"
         }
        },
        {
         "legendgroup": "074",
         "line": {
          "color": "rgb(251, 77, 0)"
         },
         "name": "074",
         "opacity": 0.4,
         "type": "scatter",
         "x": [
          0,
          1000000000000,
          2000000000000,
          3000000000000,
          4000000000000,
          5000000000000,
          6000000000000,
          7000000000000,
          8000000000000,
          9000000000000,
          10000000000000,
          11000000000000,
          12000000000000,
          13000000000000,
          14000000000000,
          15000000000000,
          16000000000000,
          17000000000000,
          18000000000000,
          19000000000000,
          20000000000000,
          21000000000000,
          22000000000000,
          23000000000000,
          24000000000000,
          25000000000000,
          26000000000000,
          27000000000000,
          28000000000000,
          29000000000000,
          30000000000000,
          31000000000000,
          32000000000000,
          33000000000000,
          34000000000000,
          35000000000000
         ],
         "y": {
          "bdata": "AAAAAAAAMD2QtbwEFuxIQOi9nWwwO0pAyBcLxCGVSkCoCTxApKxKQDiezJuLskpA8BoZx/+zSkBAtvwXTLRKQCgWNHxQtEpAQHHfVE20SkDAK6q4SbRKQEjmdBxGtEpAKKDjA0S0SkCI6e5BQ7RKQPgy+n9CtEpA+ClbxUG0SkBoaEzxQbRKQMimPR1CtEpAQOUuSUK0SkBg7muQQrRKQBgLye9CtEpA6CcmT0O0SkBwG8SsQ7RKQPisedNDtEpAsD4v+kO0SkBg0OQgRLRKQHg62lhEtEpAaIkOoES0SkBA2ELnRLRKQAhOKytFtEpA6KV1B0W0SkCo/b/jRLRKQGhVCsBEtEpAaEUUyUS0SkCYGav5RLRKQOjtQSpFtEpA",
          "dtype": "f8"
         }
        },
        {
         "legendgroup": "074",
         "line": {
          "color": "rgb(251, 77, 0)"
         },
         "name": "074",
         "opacity": 0.4,
         "type": "scatter",
         "x": [
          0,
          1000000000000,
          2000000000000,
          3000000000000,
          4000000000000,
          5000000000000,
          6000000000000,
          7000000000000,
          8000000000000,
          9000000000000,
          10000000000000,
          11000000000000,
          12000000000000,
          13000000000000,
          14000000000000,
          15000000000000,
          16000000000000,
          17000000000000,
          18000000000000,
          19000000000000,
          20000000000000,
          21000000000000,
          22000000000000,
          23000000000000,
          24000000000000,
          25000000000000,
          26000000000000,
          27000000000000,
          28000000000000,
          29000000000000,
          30000000000000,
          31000000000000,
          32000000000000,
          33000000000000,
          34000000000000,
          35000000000000
         ],
         "y": {
          "bdata": "INmbzTRpKMC4ANS6I/5JwBiMjsdgc0nAGGT1HNpVScCokzZ/oE5JwGiuTUbhTEnA0FDDn29MScAwS36jWkxJwOhuqe5aTEnAqOqrslpMScB4wdfEWkxJwFCYA9daTEnAKKMU0VpMScCwsde1WkxJwEjAmppaTEnAKNVngVpMScDonE6oWkxJwKhkNc9aTEnAcCwc9lpMScBoMDEoW0xJwPD0J2RbTEnAmLkeoFtMScAYS3jbW0xJwMBWhANcTEnAcGKQK1xMScAYbpxTXExJwIBT3H1cTEnAMJMOqlxMScDo0kDWXExJwGgB+wBdTEnA8KCH/VxMScCIQBT6XExJwCjgoPZcTEnA6D/5+1xMScCYzhcJXUxJwEhdNhZdTEnA",
          "dtype": "f8"
         }
        },
        {
         "legendgroup": "075",
         "line": {
          "color": "rgb(251, 64, 0)"
         },
         "name": "075",
         "opacity": 0.4,
         "type": "scatter",
         "x": [
          0,
          1000000000000,
          2000000000000,
          3000000000000,
          4000000000000,
          5000000000000,
          6000000000000,
          7000000000000,
          8000000000000,
          9000000000000,
          10000000000000,
          11000000000000,
          12000000000000,
          13000000000000,
          14000000000000,
          15000000000000,
          16000000000000,
          17000000000000,
          18000000000000,
          19000000000000,
          20000000000000,
          21000000000000,
          22000000000000,
          23000000000000,
          24000000000000,
          25000000000000,
          26000000000000,
          27000000000000,
          28000000000000,
          29000000000000,
          30000000000000,
          31000000000000,
          32000000000000,
          33000000000000,
          34000000000000,
          35000000000000
         ],
         "y": {
          "bdata": "AAAAAAAAQD0otlQmBypFQFhKLdnKr0RAoGuQeSRDRUDAlgQXOG9FQAiSFwQXfEVAiI3rr/B/RUAIAumN9oBFQEBX5vAzgUVAaI9CZDuBRUA4vyaNPYFFQIgbvvU+gUVAwAtvTz+BRUAQ/B+pP4FFQGjs0AJAgUVAmEJ0JUCBRUCYOrg4QIFFQIgy/EtAgUVAAIhyWkCBRUAIwalcQIFFQBj64F5AgUVAODMYYUCBRUAIbjZiQIFFQIgyBmNAgUVACPfVY0CBRUAAlkVkQIFFQGARwGNAgUVAmIw6Y0CBRUAQCLViQIFFQMBRpmJAgUVAEMi4YkCBRUBwPstiQIFFQOi692JAgUVAYJFmY0CBRUDAZ9VjQIFFQDg+RGRAgUVA",
          "dtype": "f8"
         }
        },
        {
         "legendgroup": "075",
         "line": {
          "color": "rgb(251, 64, 0)"
         },
         "name": "075",
         "opacity": 0.4,
         "type": "scatter",
         "x": [
          0,
          1000000000000,
          2000000000000,
          3000000000000,
          4000000000000,
          5000000000000,
          6000000000000,
          7000000000000,
          8000000000000,
          9000000000000,
          10000000000000,
          11000000000000,
          12000000000000,
          13000000000000,
          14000000000000,
          15000000000000,
          16000000000000,
          17000000000000,
          18000000000000,
          19000000000000,
          20000000000000,
          21000000000000,
          22000000000000,
          23000000000000,
          24000000000000,
          25000000000000,
          26000000000000,
          27000000000000,
          28000000000000,
          29000000000000,
          30000000000000,
          31000000000000,
          32000000000000,
          33000000000000,
          34000000000000,
          35000000000000
         ],
         "y": {
          "bdata": "YDCrOm9dKMBgG6vaa6FGwLDCGe1XRUXAsL3GOGgbRcAw0XlxhQ5FwLA6B6PKCkXAmHn8ILIJRcD48g4uZwlFwDBPaTFWCUXA0L41yFMJRcAwNzICUwlFwDCzVo1SCUXAGNmjdlIJRcDQ/vBfUglFwLAkPklSCUXAoKoxQVIJRcAYaTw9UglFwJgnRzlSCUXAUOM0NlIJRcAwXGU1UglFwBjVlTRSCUXAGE7GM1IJRcAwwG0zUglFwCBrNjNSCUXAGBb/MlIJRcD4UMkyUglFwNCHlzJSCUXAoL5lMlIJRcB49TMyUglFwJgACzJSCUXAsILkMVIJRcD4BL4xUglFwNAKojFSCUXAsN+gMVIJRcCwtJ8xUglFwJiJnjFSCUXA",
          "dtype": "f8"
         }
        },
        {
         "legendgroup": "076",
         "line": {
          "color": "rgb(251, 51, 0)"
         },
         "name": "076",
         "opacity": 0.4,
         "type": "scatter",
         "x": [
          0,
          1000000000000,
          2000000000000,
          3000000000000,
          4000000000000,
          5000000000000,
          6000000000000,
          7000000000000,
          8000000000000,
          9000000000000,
          10000000000000,
          11000000000000,
          12000000000000,
          13000000000000,
          14000000000000,
          15000000000000,
          16000000000000,
          17000000000000,
          18000000000000,
          19000000000000,
          20000000000000,
          21000000000000,
          22000000000000,
          23000000000000,
          24000000000000,
          25000000000000,
          26000000000000,
          27000000000000,
          28000000000000,
          29000000000000,
          30000000000000,
          31000000000000,
          32000000000000,
          33000000000000,
          34000000000000,
          35000000000000
         ],
         "y": {
          "bdata": "AAAAAAAAWD1AntGuBXNNQDgEl6Qee05AKOAl5FDKTkCAOa01rd5OQDDRF0Xl405AiFKzrzrlTkAAuC+3eeVOQNARp1aG5U5A2FFouoPlTkCwgpUKgeVOQKCvSWmA5U5AiJNa13/lTkCAd2tFf+VOQCjxkep+5U5AMDJtzX7lTkAwc0iwfuVOQDi0I5N+5U5AMDUtjX7lTkAA2uOHfuVOQLB+moJ+5U5AgCL6f37lTkCAolSAfuVOQIgir4B+5U5AmKIJgX7lTkCg3AyFfuVOQDBrK4l+5U5A0PlJjX7lTkAwc7SRfuVOQKD3c5Z+5U5AAHwzm37lTkBIAPOffuVOQKBFFaR+5U5AgPQyqH7lTkA4o1CsfuVOQCCTCLB+5U5A",
          "dtype": "f8"
         }
        },
        {
         "legendgroup": "076",
         "line": {
          "color": "rgb(251, 51, 0)"
         },
         "name": "076",
         "opacity": 0.4,
         "type": "scatter",
         "x": [
          0,
          1000000000000,
          2000000000000,
          3000000000000,
          4000000000000,
          5000000000000,
          6000000000000,
          7000000000000,
          8000000000000,
          9000000000000,
          10000000000000,
          11000000000000,
          12000000000000,
          13000000000000,
          14000000000000,
          15000000000000,
          16000000000000,
          17000000000000,
          18000000000000,
          19000000000000,
          20000000000000,
          21000000000000,
          22000000000000,
          23000000000000,
          24000000000000,
          25000000000000,
          26000000000000,
          27000000000000,
          28000000000000,
          29000000000000,
          30000000000000,
          31000000000000,
          32000000000000,
          33000000000000,
          34000000000000,
          35000000000000
         ],
         "y": {
          "bdata": "QIUKW99bKMC4mMUVCxVOwHglVxMkoU3A2DcP7gWETcDwrbCzy3xNwGicfCf3ek3ASMDxzX96TcCwAsBnanpNwGgsCLdmek3AGMJRW2h6TcCotXcHanpNwPhlnqBqek3AMBe/MWt6TcBoyN/Ca3pNwOhhwiFsek3A+LJcSGx6TcAIBPdubHpNwChVkZVsek3AMDuPlmx6TcAYNXSWbHpNwPguWZZsek3A8NwUjGx6TcBoiW52bHpNwLg1yGBsek3AKOIhS2x6TcD4i7ombHpNwMgC5QFsek3AiHkP3Wt6TcCYr2m2a3pNwLjVu41rek3A6PsNZWt6TcAIImA8a3pNwKiOERRrek3A2MLF62p6TcD49nnDanpNwNjAVJ9qek3A",
          "dtype": "f8"
         }
        },
        {
         "legendgroup": "077",
         "line": {
          "color": "rgb(251, 38, 0)"
         },
         "name": "077",
         "opacity": 0.4,
         "type": "scatter",
         "x": [
          0,
          1000000000000,
          2000000000000,
          3000000000000,
          4000000000000,
          5000000000000,
          6000000000000,
          7000000000000,
          8000000000000,
          9000000000000,
          10000000000000,
          11000000000000,
          12000000000000,
          13000000000000,
          14000000000000,
          15000000000000,
          16000000000000,
          17000000000000,
          18000000000000,
          19000000000000,
          20000000000000,
          21000000000000,
          22000000000000,
          23000000000000,
          24000000000000,
          25000000000000,
          26000000000000,
          27000000000000,
          28000000000000,
          29000000000000,
          30000000000000,
          31000000000000,
          32000000000000,
          33000000000000,
          34000000000000,
          35000000000000
         ],
         "y": {
          "bdata": "AAAAAAAAMD24sHR9JVtIQOhi5L4hX0lAABFoSY7NSUBoapaE2elJQKCsNV0w8UlAsNqzlffySUBwVM6TVPNJQIhqbx1i80lAaJrQlV7zSUCwuR6HXPNJQMDMAUhb80lAqEbH3FrzSUAwrmmaWvNJQLgVDFha80lAaFKLKVrzSUC4K+MhWvNJQPgEOxpa80lAWN6SElrzSUD4WCoVWvNJQMDOuxla80lAiERNHlrzSUAA8eQjWvNJQOhvfSta80lA2O4VM1rzSUCwba46WvNJQFh/2kJa80lAwAYjS1rzSUA4jmtTWvNJQLhozlpa80lAwBNwYFrzSUC4vhFmWvNJQLhps2ta80lAqKnublrzSUAoa7NxWvNJQKgseHRa80lA",
          "dtype": "f8"
         }
        },
        {
         "legendgroup": "077",
         "line": {
          "color": "rgb(251, 38, 0)"
         },
         "name": "077",
         "opacity": 0.4,
         "type": "scatter",
         "x": [
          0,
          1000000000000,
          2000000000000,
          3000000000000,
          4000000000000,
          5000000000000,
          6000000000000,
          7000000000000,
          8000000000000,
          9000000000000,
          10000000000000,
          11000000000000,
          12000000000000,
          13000000000000,
          14000000000000,
          15000000000000,
          16000000000000,
          17000000000000,
          18000000000000,
          19000000000000,
          20000000000000,
          21000000000000,
          22000000000000,
          23000000000000,
          24000000000000,
          25000000000000,
          26000000000000,
          27000000000000,
          28000000000000,
          29000000000000,
          30000000000000,
          31000000000000,
          32000000000000,
          33000000000000,
          34000000000000,
          35000000000000
         ],
         "y": {
          "bdata": "IPI/VX9aKMCIof0mY69JwIBe4fmFzUjAgCHRTk+vSMCAY/xzl6dIwKhAz3GXpUjASExgzhqlSMCAANHeAaVIwMhR4Qb+pEjAYNPk5f6kSMDIvZ93/6RIwODPyt7/pEjAyKbHAQClSMAYWp4XAKVIwGANdS0ApUjAGFIgPAClSMDg9cU8AKVIwOCZaz0ApUjA0D0RPgClSMCQGlI8AKVIwADKHDoApUjAYHnnNwClSMBIt4c1AKVIwKjy1DIApUjAKC4iMAClSMCQaW8tAKVIwACU3ioApUjAyElUKAClSMCA/8klAKVIwCj7gyMApUjA4HzDIQClSMDI/gIgAKVIwKiAQh4ApUjAyAlAHQClSMDgOGIcAKVIwOBnhBsApUjA",
          "dtype": "f8"
         }
        },
        {
         "legendgroup": "078",
         "line": {
          "color": "rgb(250, 26, 0)"
         },
         "name": "078",
         "opacity": 0.4,
         "type": "scatter",
         "x": [
          0,
          1000000000000,
          2000000000000,
          3000000000000,
          4000000000000,
          5000000000000,
          6000000000000,
          7000000000000,
          8000000000000,
          9000000000000,
          10000000000000,
          11000000000000,
          12000000000000,
          13000000000000,
          14000000000000,
          15000000000000,
          16000000000000,
          17000000000000,
          18000000000000,
          19000000000000,
          20000000000000,
          21000000000000,
          22000000000000,
          23000000000000,
          24000000000000,
          25000000000000,
          26000000000000,
          27000000000000,
          28000000000000,
          29000000000000,
          30000000000000,
          31000000000000,
          32000000000000,
          33000000000000,
          34000000000000,
          35000000000000
         ],
         "y": {
          "bdata": "AAAAAAAAVD3opu9dmlVQQADqfmNrmlBAlFpHxp6yUEBEJpaMM7pQQDj7hwTxvFBAHJ0rxcy9UEDI//YAA75QQGTsxE0HvlBArEFRFhi+UEB4unQ8Kr5QQHjxxhw8vlBAlCDk4Ee+UEC4TwGlU75QQNR+HmlfvlBATFiJBGe+UEDo3uUea75QQIhlQjlvvlBA1NerDXO+UEDEfurCcL5QQLAlKXhuvlBAnMxnLWy+UEB4MS/9Z75QQESW7zNivlBABPuvaly+UECk6VidVr5QQIQ/VnRQvlBAZJVTS0q+UEBI61AiRL5QQCSELPk+vlBAUMmcpzq+UECEDg1WNr5QQMSjeB8yvlBADG5lRTC+UEBYOFJrLr5QQKQCP5EsvlBA",
          "dtype": "f8"
         }
        },
        {
         "legendgroup": "078",
         "line": {
          "color": "rgb(250, 26, 0)"
         },
         "name": "078",
         "opacity": 0.4,
         "type": "scatter",
         "x": [
          0,
          1000000000000,
          2000000000000,
          3000000000000,
          4000000000000,
          5000000000000,
          6000000000000,
          7000000000000,
          8000000000000,
          9000000000000,
          10000000000000,
          11000000000000,
          12000000000000,
          13000000000000,
          14000000000000,
          15000000000000,
          16000000000000,
          17000000000000,
          18000000000000,
          19000000000000,
          20000000000000,
          21000000000000,
          22000000000000,
          23000000000000,
          24000000000000,
          25000000000000,
          26000000000000,
          27000000000000,
          28000000000000,
          29000000000000,
          30000000000000,
          31000000000000,
          32000000000000,
          33000000000000,
          34000000000000,
          35000000000000
         ],
         "y": {
          "bdata": "oHg0UqdbKMCMTDnSMChQwHDDkfm81k/AmHuxycGxT8A4nAiKO6dPwOgT+tzip0/AgOwWXV6oT8A4g9hvjKhPwKhvo7ScqE/AGAvxurioT8DIc+Mu16hPwOga2CH1qE/AeN/YygepT8AIpNlzGqlPwIho2hwtqU/AqDyKiTipT8AAq5DdPalPwGgZlzFDqU/AuIwjK0ipT8CYDKE5RalPwHiMHkhCqU/ASAycVj+pT8DYTqIROqlPwHh889YyqU/AAKpEnCupT8Co8BxbJKlPwPiO84gcqU/AQC3KthSpT8CIy6DkDKlPwEDpky8GqU/AADO/agCpT8C4fOql+qhPwPhY3AL1qE/AuDmGVPKoT8B4GjCm76hPwDj72ffsqE/A",
          "dtype": "f8"
         }
        },
        {
         "legendgroup": "079",
         "line": {
          "color": "rgb(250, 13, 0)"
         },
         "name": "079",
         "opacity": 0.4,
         "type": "scatter",
         "x": [
          0,
          1000000000000,
          2000000000000,
          3000000000000,
          4000000000000,
          5000000000000,
          6000000000000,
          7000000000000,
          8000000000000,
          9000000000000,
          10000000000000,
          11000000000000,
          12000000000000,
          13000000000000,
          14000000000000,
          15000000000000,
          16000000000000,
          17000000000000,
          18000000000000,
          19000000000000,
          20000000000000,
          21000000000000,
          22000000000000,
          23000000000000,
          24000000000000,
          25000000000000,
          26000000000000,
          27000000000000,
          28000000000000,
          29000000000000,
          30000000000000,
          31000000000000,
          32000000000000,
          33000000000000,
          34000000000000,
          35000000000000
         ],
         "y": {
          "bdata": "AAAAAAAAMD34FoVaJG5LQFACgdHEgUxA6OqDq3vNTEC4hGQdPeBMQEietqka5UxA4LlYvSLmTEAYpZg4VeZMQCirHVdJ5kxAmPAXkUDmTEBoM+zjOuZMQCiOR5Q35kxACA2hrDTmTEDYi/rEMeZMQDhescYw5kxAYI0CSzHmTECIvFPPMeZMQGBPAXMy5kxAUNP6DTXmTEA4V/SoN+ZMQBjb7UM65kxAYDHTEj3mTEA4NL0KQOZMQAg3pwJD5kxAKIUd80XmTECI7ftrSOZMQMhV2uRK5kxAGL64XU3mTEAArN4sT+ZMQFDc73VQ5kxAqAwBv1HmTECYoNb1UuZMQJDZDwhT5kxAkBJJGlPmTECIS4IsU+ZMQIDOA9BS5kxA",
          "dtype": "f8"
         }
        },
        {
         "legendgroup": "079",
         "line": {
          "color": "rgb(250, 13, 0)"
         },
         "name": "079",
         "opacity": 0.4,
         "type": "scatter",
         "x": [
          0,
          1000000000000,
          2000000000000,
          3000000000000,
          4000000000000,
          5000000000000,
          6000000000000,
          7000000000000,
          8000000000000,
          9000000000000,
          10000000000000,
          11000000000000,
          12000000000000,
          13000000000000,
          14000000000000,
          15000000000000,
          16000000000000,
          17000000000000,
          18000000000000,
          19000000000000,
          20000000000000,
          21000000000000,
          22000000000000,
          23000000000000,
          24000000000000,
          25000000000000,
          26000000000000,
          27000000000000,
          28000000000000,
          29000000000000,
          30000000000000,
          31000000000000,
          32000000000000,
          33000000000000,
          34000000000000,
          35000000000000
         ],
         "y": {
          "bdata": "gHF4qBZwKMCAbEW4yUhMwIhFNJlvn0vA8LxPAdyHS8AobrDAFIJLwEjtZgGagEvAQCbZZEqAS8BIdhmpPIBLwNDJ5bZBgEvAKHtQhkWAS8Com2QYSIBLwHDmuYxJgEvA0Fb8z0qAS8BQxz4TTIBLwKiDWpRMgEvAoJsUfEyAS8Bws85jTIBLwEDuVT5MgEvAcFILRUuAS8DAtsBLSoBLwPAadlJJgEvA8LgJNUiAS8Bw7BH7RoBLwPAfGsFFgEvAoH24ikSAS8BwDeaNQ4BLwFCdE5FCgEvASC1BlEGAS8BwkrXSQIBLwKA9/j9AgEvAoOhGrT+AS8BwL/4hP4BLwCiQ+w0/gEvAwPD4+T6AS8BQUfblPoBLwMCkHP4+gEvA",
          "dtype": "f8"
         }
        },
        {
         "legendgroup": "080",
         "line": {
          "color": "rgb(250, 0, 0)"
         },
         "name": "080",
         "opacity": 0.4,
         "type": "scatter",
         "x": [
          0,
          1000000000000,
          2000000000000,
          3000000000000,
          4000000000000,
          5000000000000,
          6000000000000,
          7000000000000,
          8000000000000,
          9000000000000,
          10000000000000,
          11000000000000,
          12000000000000,
          13000000000000,
          14000000000000,
          15000000000000,
          16000000000000,
          17000000000000,
          18000000000000,
          19000000000000,
          20000000000000,
          21000000000000,
          22000000000000,
          23000000000000,
          24000000000000,
          25000000000000,
          26000000000000,
          27000000000000,
          28000000000000,
          29000000000000,
          30000000000000,
          31000000000000,
          32000000000000,
          33000000000000,
          34000000000000,
          35000000000000
         ],
         "y": {
          "bdata": "AAAAAAAAWD0IKEcm2jtFQOBxOpW0w0ZA6Gctiew0R0AwqFrEk1VHQJBusi3GXkdAgMoS7SVhR0A4md1AuWFHQIBAODLMYUdA6PkhbNBhR0DAsDE00mFHQEhR6ULTYUdAsGSZs9NhR0AgeEkk1GFHQJBcJHLUYUdAEDN7hNRhR0CgCdKW1GFHQCDgKKnUYUdA8M7EqdRhR0DwqbWn1GFHQACFpqXUYUdAgE/Wo9RhR0BoonGi1GFHQDD1DKHUYUdA+Eeon9RhR0AwTUCe1GFHQDDT15zUYUdAEFlvm9RhR0B4Opqa1GFHQMDiwJrUYUdAAIvnmtRhR0BIMw6b1GFHQBB/05vUYUdAoL/+nNRhR0DIi32e1GFHQNCZ3p/UYUdA",
          "dtype": "f8"
         }
        },
        {
         "legendgroup": "080",
         "line": {
          "color": "rgb(250, 0, 0)"
         },
         "name": "080",
         "opacity": 0.4,
         "type": "scatter",
         "x": [
          0,
          1000000000000,
          2000000000000,
          3000000000000,
          4000000000000,
          5000000000000,
          6000000000000,
          7000000000000,
          8000000000000,
          9000000000000,
          10000000000000,
          11000000000000,
          12000000000000,
          13000000000000,
          14000000000000,
          15000000000000,
          16000000000000,
          17000000000000,
          18000000000000,
          19000000000000,
          20000000000000,
          21000000000000,
          22000000000000,
          23000000000000,
          24000000000000,
          25000000000000,
          26000000000000,
          27000000000000,
          28000000000000,
          29000000000000,
          30000000000000,
          31000000000000,
          32000000000000,
          33000000000000,
          34000000000000,
          35000000000000
         ],
         "y": {
          "bdata": "gPpP1FxaKMAInxU9tmpHwNBEyFd330bASH3vowO9RsA4MBgWgbNGwMiZ1VvNsEbAKLFrvBuwRsCYwIQj769GwOgwfALpr0bA2KJuf+evRsDIz3BU569GwDjNp0Tnr0bAUC8RTOevRsBokXpT569GwEib5Fbnr0bA2CN6U+evRsB4rA9Q569GwBA1pUznr0bAuB/6SOevRsD4UEVF569GwDiCkEHnr0bAqGMVPuevRsBo1vw6569GwDhJ5Dfnr0bA6LvLNOevRsB4xmcz569GwFCFRTLnr0bAKEQjMeevRsBQWnIw569GwGgYgzDnr0bAkNaTMOevRsColKQw569GwDhaVjHnr0bAaJ1vMuevRsCort0z569GwKhcRzXnr0bA",
          "dtype": "f8"
         }
        },
        {
         "legendgroup": "081",
         "line": {
          "color": "rgb(244, 0, 0)"
         },
         "name": "081",
         "opacity": 0.4,
         "type": "scatter",
         "x": [
          0,
          1000000000000,
          2000000000000,
          3000000000000,
          4000000000000,
          5000000000000,
          6000000000000,
          7000000000000,
          8000000000000,
          9000000000000,
          10000000000000,
          11000000000000,
          12000000000000,
          13000000000000,
          14000000000000,
          15000000000000,
          16000000000000,
          17000000000000,
          18000000000000,
          19000000000000,
          20000000000000,
          21000000000000,
          22000000000000,
          23000000000000,
          24000000000000,
          25000000000000,
          26000000000000,
          27000000000000,
          28000000000000,
          29000000000000,
          30000000000000,
          31000000000000,
          32000000000000,
          33000000000000,
          34000000000000,
          35000000000000
         ],
         "y": {
          "bdata": "AAAAAAAAWD1glMaEd1RHQBh9HF0ugUhAKBsNrI/tSEBIjwdOTRVJQOhop8OjIElAKIEA39AjSUDoV71vwSRJQKgT0ywBJUlAeH4v0Q0lSUBIP/5oECVJQHhU99cOJUlAuGnwRg0lSUAoyYqbDCVJQGhiRkAMJUlAmPsB5QslSUB4VK6dCyVJQPivC5ULJUlAeAtpjAslSUD4ZsaDCyVJQGhwM4ILJUlAsEQXgwslSUD4GPuDCyVJQJjRsYQLJUlA+LjahAslSUBYoAOFCyVJQLCHLIULJUlAyJ2vhQslSUD4K1KGCyVJQDi69IYLJUlAuBhdhwslSUAIiA6HCyVJQGj3v4YLJUlAsGZxhgslSUD47imGCyVJQLDf6IULJUlA",
          "dtype": "f8"
         }
        },
        {
         "legendgroup": "081",
         "line": {
          "color": "rgb(244, 0, 0)"
         },
         "name": "081",
         "opacity": 0.4,
         "type": "scatter",
         "x": [
          0,
          1000000000000,
          2000000000000,
          3000000000000,
          4000000000000,
          5000000000000,
          6000000000000,
          7000000000000,
          8000000000000,
          9000000000000,
          10000000000000,
          11000000000000,
          12000000000000,
          13000000000000,
          14000000000000,
          15000000000000,
          16000000000000,
          17000000000000,
          18000000000000,
          19000000000000,
          20000000000000,
          21000000000000,
          22000000000000,
          23000000000000,
          24000000000000,
          25000000000000,
          26000000000000,
          27000000000000,
          28000000000000,
          29000000000000,
          30000000000000,
          31000000000000,
          32000000000000,
          33000000000000,
          34000000000000,
          35000000000000
         ],
         "y": {
          "bdata": "wJNzIA1YKMD4Xkhp6y1KwAg518bJW0nACE1AQtAsScDA45ruxSFJwPgjmaomH0nAwCOA9ngeScCIvJk7Rx5JwNjPRHU7HknAeDPsuzgeScD4jS88Nx5JwKhYwYU2HknAeCNTzzUeScDYi0tsNR5JwHhJXiY1HknAKAdx4DQeScCAXyqyNB5JwHgDP840HknAeKdT6jQeScBYS2gGNR5JwKjUkzY1HknAWP3BbTUeScD4JfCkNR5JwPjfPNo1HknAWAKgCTYeScCoJAM5Nh5JwAhHZmg2HknAwB6QhjYeScAoVbeeNh5JwIiL3rY2HknA2Ee+yjYeScCo5ynRNh5JwHiHldc2HknAWCcB3jYeScBYT5HYNh5JwAAdbcg2HknA",
          "dtype": "f8"
         }
        },
        {
         "legendgroup": "082",
         "line": {
          "color": "rgb(238, 0, 0)"
         },
         "name": "082",
         "opacity": 0.4,
         "type": "scatter",
         "x": [
          0,
          1000000000000,
          2000000000000,
          3000000000000,
          4000000000000,
          5000000000000,
          6000000000000,
          7000000000000,
          8000000000000,
          9000000000000,
          10000000000000,
          11000000000000,
          12000000000000,
          13000000000000,
          14000000000000,
          15000000000000,
          16000000000000,
          17000000000000,
          18000000000000,
          19000000000000,
          20000000000000,
          21000000000000,
          22000000000000,
          23000000000000,
          24000000000000,
          25000000000000,
          26000000000000,
          27000000000000,
          28000000000000,
          29000000000000,
          30000000000000,
          31000000000000,
          32000000000000,
          33000000000000,
          34000000000000,
          35000000000000
         ],
         "y": {
          "bdata": "AAAAAAAAMD14CcbovAhCQGhclixJWENA0Ggbku3TQ0DIzLli+/lDQIBQvHVgBURAYEfCsMUIREBglWBosQlEQEjPNbvvCURAKEqQZvIJREAox2378glEQGCm4hzzCURA4GlOu/IJREBQLbpZ8glEQMjwJfjxCURASI+Xl/EJRECowBE38QlEQADyi9bwCURASMepwvAJREDI2csF8QlEQGDs7UjxCURA4P4PjPEJRECAZgSy8QlEQAA6BNfxCURAgA0E/PEJREDIxoc78glEQICDJpnyCURAUEDF9vIJREAo/WNU8wlEQCga/mrzCURA0O1Ef/MJRECAwYuT8wlEQKjBO3/zCURAgPXVPPMJREBgKXD68glEQFBdCrjyCURA",
          "dtype": "f8"
         }
        },
        {
         "legendgroup": "082",
         "line": {
          "color": "rgb(238, 0, 0)"
         },
         "name": "082",
         "opacity": 0.4,
         "type": "scatter",
         "x": [
          0,
          1000000000000,
          2000000000000,
          3000000000000,
          4000000000000,
          5000000000000,
          6000000000000,
          7000000000000,
          8000000000000,
          9000000000000,
          10000000000000,
          11000000000000,
          12000000000000,
          13000000000000,
          14000000000000,
          15000000000000,
          16000000000000,
          17000000000000,
          18000000000000,
          19000000000000,
          20000000000000,
          21000000000000,
          22000000000000,
          23000000000000,
          24000000000000,
          25000000000000,
          26000000000000,
          27000000000000,
          28000000000000,
          29000000000000,
          30000000000000,
          31000000000000,
          32000000000000,
          33000000000000,
          34000000000000,
          35000000000000
         ],
         "y": {
          "bdata": "gN8wryNJKMBI2WJu4ddEwCj0ux8p5UPAqP3IRcy6Q8B4Z18ez61DwCgmixDzqUPAeP5kd8WoQ8B4A0GpfqhDwGgGfYpmqEPA4F98CWOoQ8CYAIqBY6hDwHg3eyNkqEPAKAz89GSoQ8DI4HzGZahDwJi1/ZdmqEPAKIQlS2aoQ8D4Gu30ZahDwMixtJ5lqEPA+LVjaWWoQ8Coum5ZZahDwJi/eUllqEPASMSEOWWoQ8CoE4wMZahDwKguoN5kqEPAqEm0sGSoQ8AoNe+KZKhDwBiCa25kqEPAqM7nUWSoQ8CYG2Q1ZKhDwEg4M1NkqEPA4DXrcmSoQ8B4M6OSZKhDwChGxKBkqEPAoLbsmmSoQ8AYJxWVZKhDwHiXPY9kqEPA",
          "dtype": "f8"
         }
        },
        {
         "legendgroup": "083",
         "line": {
          "color": "rgb(232, 0, 0)"
         },
         "name": "083",
         "opacity": 0.4,
         "type": "scatter",
         "x": [
          0,
          1000000000000,
          2000000000000,
          3000000000000,
          4000000000000,
          5000000000000,
          6000000000000,
          7000000000000,
          8000000000000,
          9000000000000,
          10000000000000,
          11000000000000,
          12000000000000,
          13000000000000,
          14000000000000,
          15000000000000,
          16000000000000,
          17000000000000,
          18000000000000,
          19000000000000,
          20000000000000,
          21000000000000,
          22000000000000,
          23000000000000,
          24000000000000,
          25000000000000,
          26000000000000,
          27000000000000,
          28000000000000,
          29000000000000,
          30000000000000,
          31000000000000,
          32000000000000,
          33000000000000,
          34000000000000,
          35000000000000
         ],
         "y": {
          "bdata": "AAAAAAAAMD0oBho+Nt1CQICivwDTWURAYLibTNLTRECgnYLHIvtEQADVN2O/BkVAQHxsFSsKRUA4FLKeLAtFQAASt6ZkC0VAAFtzaHQLRUD4Ala4cAtFQNiqOAhtC0VAkNf8i2sLRUD4HUi5agtFQDhkk+ZpC0VAoFOiRmkLRUAApL8waQtFQGD03BppC0VAwET6BGkLRUCgSiABaQtFQJBNsgJpC0VAkFBEBGkLRUBY6iMFaQtFQEBRHgRpC0VAILgYA2kLRUAQHxMCaQtFQNj0xQJpC0VAgDT9A2kLRUAQdDQFaQtFQEDYlgVpC0VA+Fu2A2kLRUCQ39UBaQtFQEBj9f9oC0VAuBrfAGkLRUDAip8CaQtFQMD6XwRpC0VA",
          "dtype": "f8"
         }
        },
        {
         "legendgroup": "083",
         "line": {
          "color": "rgb(232, 0, 0)"
         },
         "name": "083",
         "opacity": 0.4,
         "type": "scatter",
         "x": [
          0,
          1000000000000,
          2000000000000,
          3000000000000,
          4000000000000,
          5000000000000,
          6000000000000,
          7000000000000,
          8000000000000,
          9000000000000,
          10000000000000,
          11000000000000,
          12000000000000,
          13000000000000,
          14000000000000,
          15000000000000,
          16000000000000,
          17000000000000,
          18000000000000,
          19000000000000,
          20000000000000,
          21000000000000,
          22000000000000,
          23000000000000,
          24000000000000,
          25000000000000,
          26000000000000,
          27000000000000,
          28000000000000,
          29000000000000,
          30000000000000,
          31000000000000,
          32000000000000,
          33000000000000,
          34000000000000,
          35000000000000
         ],
         "y": {
          "bdata": "4Oz3jlhnKMBQppyfKrJFwDBMzeWk9ETAWJUeNbrORMBQ2kjmsMNEwMhOJJx8wETAWKi+KIy/RMDY8cWWRb9EwNj27D82v0TASCgG5zG/RMAwQ+nOMr9EwPhdzLYzv0TAWOd4FjS/RMBYyzFNNL9EwEiv6oM0v0TAoJUqrzS/RMAwLze7NL9EwMjIQ8c0v0TAWGJQ0zS/RMBImfXXNL9EwLD5YNo0v0TAMFrM3DS/RMD4/5HeNL9EwNjwlN40v0TAyOGX3jS/RMCw0preNL9EwHi4qt40v0TAsIO+3jS/RMDITtLeNL9EwLAW8940v0TAWDA33zS/RMBISnvfNL9EwDBkv980v0TA2H933zS/RMD4hAXfNL9EwEiKk940v0TA",
          "dtype": "f8"
         }
        },
        {
         "legendgroup": "084",
         "line": {
          "color": "rgb(226, 0, 0)"
         },
         "name": "084",
         "opacity": 0.4,
         "type": "scatter",
         "x": [
          0,
          1000000000000,
          2000000000000,
          3000000000000,
          4000000000000,
          5000000000000,
          6000000000000,
          7000000000000,
          8000000000000,
          9000000000000,
          10000000000000,
          11000000000000,
          12000000000000,
          13000000000000,
          14000000000000,
          15000000000000,
          16000000000000,
          17000000000000,
          18000000000000,
          19000000000000,
          20000000000000,
          21000000000000,
          22000000000000,
          23000000000000,
          24000000000000,
          25000000000000,
          26000000000000,
          27000000000000,
          28000000000000,
          29000000000000,
          30000000000000,
          31000000000000,
          32000000000000,
          33000000000000,
          34000000000000,
          35000000000000
         ],
         "y": {
          "bdata": "AAAAAAAAMD2AGeSxrx4+QJjjiG43YkBAmI/5G5/PQEAoGxYg3PNAQKiA3auV/0BASPVDHiEDQUBI8q+KdARBQADgwLMDBUFAYJ82XQ8FQUBIbKEw/gRBQEj6IhjjBEFASDsKNuAEQUDg6fhD6gRBQKjAunD0BEFAKFy2TAUFQUAooz4AFwVBQABkBX0qBUFAYCelvEAFQUAQUc1KXgVBQMh69dh7BUFAyDfiD3QFQUAoNkwwZgVBQOBfbvEKBUFAgHxGKpcEQUCAHjNXwQRBQChoTVs9BUFA4JT4McAEQUAAQpuw3gRBQIDnyxLrBEFAqOnbyd8EQUCAZGu14gRBQCj3zdPeBEFAyK8qCd0EQUDIQ+gg2wRBQNBvncbYBEFA",
          "dtype": "f8"
         }
        },
        {
         "legendgroup": "084",
         "line": {
          "color": "rgb(226, 0, 0)"
         },
         "name": "084",
         "opacity": 0.4,
         "type": "scatter",
         "x": [
          0,
          1000000000000,
          2000000000000,
          3000000000000,
          4000000000000,
          5000000000000,
          6000000000000,
          7000000000000,
          8000000000000,
          9000000000000,
          10000000000000,
          11000000000000,
          12000000000000,
          13000000000000,
          14000000000000,
          15000000000000,
          16000000000000,
          17000000000000,
          18000000000000,
          19000000000000,
          20000000000000,
          21000000000000,
          22000000000000,
          23000000000000,
          24000000000000,
          25000000000000,
          26000000000000,
          27000000000000,
          28000000000000,
          29000000000000,
          30000000000000,
          31000000000000,
          32000000000000,
          33000000000000,
          34000000000000,
          35000000000000
         ],
         "y": {
          "bdata": "ABGd6CxaKMBoFl2eYQlCwBi0PPVJdUHAsDof09ZIQcCYuKlXPztBwEjrY+4bN0HAePbn2xA2QcD4+uTX2DVBwHgD2dSENUHAGP2jkgc2QcDIFjNe6DVBwEj36celNUHAmANWR3I1QcB4bI9rizVBwOjy4FLhNUHAmAaKEss1QcDwds0fuDVBwEjg1i6sNUHAME71dak1QcDId5EivzVBwEihLc/UNUHAcKfEykQ2QcBo0Jx/wzZBwEg0YCgfNkHAaJzhiB41QcDo4JoF7zRBwHD6BNsrNUHASFpFrjc2QcDoi83ZbzVBwHiqXlaYNUHAyEG4eIs1QcBI9phbhjVBwPhfcKmONUHA+M5y5pA1QcD4ZDyxkjVBwPgcT8SSNUHA",
          "dtype": "f8"
         }
        },
        {
         "legendgroup": "085",
         "line": {
          "color": "rgb(220, 0, 0)"
         },
         "name": "085",
         "opacity": 0.4,
         "type": "scatter",
         "x": [
          0,
          1000000000000,
          2000000000000,
          3000000000000,
          4000000000000,
          5000000000000,
          6000000000000,
          7000000000000,
          8000000000000,
          9000000000000,
          10000000000000,
          11000000000000,
          12000000000000,
          13000000000000,
          14000000000000,
          15000000000000,
          16000000000000,
          17000000000000,
          18000000000000,
          19000000000000,
          20000000000000,
          21000000000000,
          22000000000000,
          23000000000000,
          24000000000000,
          25000000000000,
          26000000000000,
          27000000000000,
          28000000000000,
          29000000000000,
          30000000000000,
          31000000000000,
          32000000000000,
          33000000000000,
          34000000000000,
          35000000000000
         ],
         "y": {
          "bdata": "AAAAAAAAMD3oaaQThqJBQIjs5ZSy3EJAsHMF6U1cQ0AweRhVOoVDQLAynSDdkUNAMCRmmt+VQ0CQTsU2GZdDQEg3PEhsl0NAsMeQJoKXQ0Cw2MVBgZdDQDhMcYGAl0NA+ElI8ICXQ0AwqJ9ZgZdDQGhPP5aBl0NAyPbe0oGXQ0AQnn4PgpdDQLAKIimCl0NASD1bLIKXQ0Dob5QvgpdDQBDREy2Cl0NAyDMC/IGXQ0CwlvDKgZdDQGj53pmBl0NAaO95d4GXQ0CwuHtegZdDQMiBfUWBl0NA6BAYLoGXQ0BICa8jgZdDQJABRhmBl0NA6PncDoGXQ0AwfeEKgZdDQJBLBAuBl0NA6BknC4GXQ0CQ54MMgZdDQDBV2heBl0NA",
          "dtype": "f8"
         }
        },
        {
         "legendgroup": "085",
         "line": {
          "color": "rgb(220, 0, 0)"
         },
         "name": "085",
         "opacity": 0.4,
         "type": "scatter",
         "x": [
          0,
          1000000000000,
          2000000000000,
          3000000000000,
          4000000000000,
          5000000000000,
          6000000000000,
          7000000000000,
          8000000000000,
          9000000000000,
          10000000000000,
          11000000000000,
          12000000000000,
          13000000000000,
          14000000000000,
          15000000000000,
          16000000000000,
          17000000000000,
          18000000000000,
          19000000000000,
          20000000000000,
          21000000000000,
          22000000000000,
          23000000000000,
          24000000000000,
          25000000000000,
          26000000000000,
          27000000000000,
          28000000000000,
          29000000000000,
          30000000000000,
          31000000000000,
          32000000000000,
          33000000000000,
          34000000000000,
          35000000000000
         ],
         "y": {
          "bdata": "wMHTfVRfKMA4183rtD1FwPimYa6RKUTAkJv7Agf8Q8Bg9pZvD/BDwPjz3SJ27EPAsKWbq1PrQ8CAGwS9++pDwIhYUiTl6kPAsIALIt/qQ8C4j0/23upDwPiHGtLe6kPAEPd67N7qQ8DIfY0G3+pDwGBrJh7f6kPA+Fi/Nd/qQ8CIRlhN3+pDwHglCFnf6kPACH8WXd/qQ8CY2CRh3+pDwOALJGPf6kPACB9kVN/qQ8AwMqRF3+pDwFBF5Dbf6kPASFycM9/qQ8CYi6033+pDwPi6vjvf6kPAGGUpP9/qQ8AAz0k93+pDwPA4ajvf6kPAyKKKOd/qQ8CYLZI43+pDwLjNLTjf6kPAyG3JN9/qQ8C42tU33+pDwPikdzvf6kPA",
          "dtype": "f8"
         }
        },
        {
         "legendgroup": "086",
         "line": {
          "color": "rgb(213, 0, 0)"
         },
         "name": "086",
         "opacity": 0.4,
         "type": "scatter",
         "x": [
          0,
          1000000000000,
          2000000000000,
          3000000000000,
          4000000000000,
          5000000000000,
          6000000000000,
          7000000000000,
          8000000000000,
          9000000000000,
          10000000000000,
          11000000000000,
          12000000000000,
          13000000000000,
          14000000000000,
          15000000000000,
          16000000000000,
          17000000000000,
          18000000000000,
          19000000000000,
          20000000000000,
          21000000000000,
          22000000000000,
          23000000000000,
          24000000000000,
          25000000000000,
          26000000000000,
          27000000000000,
          28000000000000,
          29000000000000,
          30000000000000,
          31000000000000,
          32000000000000,
          33000000000000,
          34000000000000,
          35000000000000
         ],
         "y": {
          "bdata": "AAAAAAAAQD2gcFkTxv5MQMguYC+meE1A+KExkre7TUCICeqRkcxNQKhtzxG80E1AiDh5b8LRTUAgBB2L/tFNQEDJs+cA0k1AKP3qAfHRTUCgSd6a5dFNQLj7YXna0U1A4LL5jNfRTUDoaZGg1NFNQAghKbTR0U1AMPbpJdHRTUC42M2s0tFNQGi7sTPU0U1AoGknxNXRTUAwf6V12NFNQMiUIyfb0U1AgKqh2N3RTUAAh04w4NFNQDgk/Dji0U1AgMGpQeTRTUCwd9Y/5tFNQADoxADn0U1AOFizwefRTUCAyKGC6NFNQPhVZ9To0U1AwGIFdejRTUCgMgGu59FNQOgkKYLm0U1AiAYGXeXRTUDAdNUB5NFNQKhvl3Di0U1A",
          "dtype": "f8"
         }
        },
        {
         "legendgroup": "086",
         "line": {
          "color": "rgb(213, 0, 0)"
         },
         "name": "086",
         "opacity": 0.4,
         "type": "scatter",
         "x": [
          0,
          1000000000000,
          2000000000000,
          3000000000000,
          4000000000000,
          5000000000000,
          6000000000000,
          7000000000000,
          8000000000000,
          9000000000000,
          10000000000000,
          11000000000000,
          12000000000000,
          13000000000000,
          14000000000000,
          15000000000000,
          16000000000000,
          17000000000000,
          18000000000000,
          19000000000000,
          20000000000000,
          21000000000000,
          22000000000000,
          23000000000000,
          24000000000000,
          25000000000000,
          26000000000000,
          27000000000000,
          28000000000000,
          29000000000000,
          30000000000000,
          31000000000000,
          32000000000000,
          33000000000000,
          34000000000000,
          35000000000000
         ],
         "y": {
          "bdata": "AF0sFFVdKMBwcL/jeI1NwODjOex4iUzA4I5+dCZMTMC4cht+FklMwHh90GJQSUzA6Aok/W9JTMAI3PQIWElMwJgVjQ9aSUzAyL3LsnZJTMB49EJPjElMwIgVJmyhSUzA2DS4e6dJTMAYVEqLrUlMwGhz3JqzSUzAyNpEd7RJTMA4w+DAsElMwLirfAqtSUzAWFDRPKlJTMCYRQ+woklMwMg6TSOcSUzACDCLlpVJTMAALMHfj0lMwIBbKOWKSUzAAIuP6oVJTMA4Pw4JgUlMwAi3aR1/SUzA2C7FMX1JTMC4piBGe0lMwBggImh6SUzAuCXgN3tJTMDIjwIDfUlMwDjm2sJ/SUzA+DNed4JJTMAI9zexhUlMwEgvaHCJSUzA",
          "dtype": "f8"
         }
        },
        {
         "legendgroup": "087",
         "line": {
          "color": "rgb(207, 0, 0)"
         },
         "name": "087",
         "opacity": 0.4,
         "type": "scatter",
         "x": [
          0,
          1000000000000,
          2000000000000,
          3000000000000,
          4000000000000,
          5000000000000,
          6000000000000,
          7000000000000,
          8000000000000,
          9000000000000,
          10000000000000,
          11000000000000,
          12000000000000,
          13000000000000,
          14000000000000,
          15000000000000,
          16000000000000,
          17000000000000,
          18000000000000,
          19000000000000,
          20000000000000,
          21000000000000,
          22000000000000,
          23000000000000,
          24000000000000,
          25000000000000,
          26000000000000,
          27000000000000,
          28000000000000,
          29000000000000,
          30000000000000,
          31000000000000,
          32000000000000,
          33000000000000,
          34000000000000,
          35000000000000
         ],
         "y": {
          "bdata": "AAAAAAAAQD34Sw1MIEFLQLiYn9XEgExAeDKskevZTEA4msQwA/BMQLiznwi/9UxACNJ4vAr3TECIDqURXfdMQLjnvlpq90xAyMzH7HH3TECIDeJAdfdMQDhO/JR490xA6I4W6Xv3TEAI7/4zfPdMQDjk6gV890xAQNnW13v3TEC47/vsevdMQJjSIbp490xAgLVHh3b3TEBomG1UdPdMQLhe88tx90xAiNYkNm/3TEBoTlagbPdMQOjqgkFq90xAOOA2Qmj3TECI1epCZvdMQMjKnkNk90xAyP6vnmL3TEB4WtIHYfdMQAi29HBf90xAqIdEJl73TED4cZipXfdMQMgJ05hd90xASE/08133TEDYKCKSXvdMQIBCroFf90xA",
          "dtype": "f8"
         }
        },
        {
         "legendgroup": "087",
         "line": {
          "color": "rgb(207, 0, 0)"
         },
         "name": "087",
         "opacity": 0.4,
         "type": "scatter",
         "x": [
          0,
          1000000000000,
          2000000000000,
          3000000000000,
          4000000000000,
          5000000000000,
          6000000000000,
          7000000000000,
          8000000000000,
          9000000000000,
          10000000000000,
          11000000000000,
          12000000000000,
          13000000000000,
          14000000000000,
          15000000000000,
          16000000000000,
          17000000000000,
          18000000000000,
          19000000000000,
          20000000000000,
          21000000000000,
          22000000000000,
          23000000000000,
          24000000000000,
          25000000000000,
          26000000000000,
          27000000000000,
          28000000000000,
          29000000000000,
          30000000000000,
          31000000000000,
          32000000000000,
          33000000000000,
          34000000000000,
          35000000000000
         ],
         "y": {
          "bdata": "AO48/gJyKMC4pbQd2TFMwEAd9rh9s0vAiFKbTd+bS8Cw5J/56JVLwMCH2FxdlEvACK+7pgSUS8BAqrjR9pNLwAj0cx35k0vAqF3hw/qTS8AwLpCS+5NLwOD+PmH8k0vAcM/tL/2TS8DA//w+/ZNLwGCxNzD9k0vAKGNyIf2TS8DADjXk/JNLwLCROlb8k0vAqBRAyPuTS8CIl0U6+5NLwED/OJn6k0vAiGc09fmTS8DAzy9R+ZNLwKjotLn4k0vAwMoCOPiTS8DwrFC295NLwCiPnjT3k0vAKFa/zvaTS8Bg7zRt9pNLwKiIqgv2k0vAKMOMu/WTS8CwZY6a9ZNLwMBAPpL1k0vAqFScovWTS8BATE/H9ZNLwOBj3QH2k0vA",
          "dtype": "f8"
         }
        },
        {
         "legendgroup": "088",
         "line": {
          "color": "rgb(201, 0, 0)"
         },
         "name": "088",
         "opacity": 0.4,
         "type": "scatter",
         "x": [
          0,
          1000000000000,
          2000000000000,
          3000000000000,
          4000000000000,
          5000000000000,
          6000000000000,
          7000000000000,
          8000000000000,
          9000000000000,
          10000000000000,
          11000000000000,
          12000000000000,
          13000000000000,
          14000000000000,
          15000000000000,
          16000000000000,
          17000000000000,
          18000000000000,
          19000000000000,
          20000000000000,
          21000000000000,
          22000000000000,
          23000000000000,
          24000000000000,
          25000000000000,
          26000000000000,
          27000000000000,
          28000000000000,
          29000000000000,
          30000000000000,
          31000000000000,
          32000000000000,
          33000000000000,
          34000000000000,
          35000000000000
         ],
         "y": {
          "bdata": "AAAAAAAAXD1YNWG6dilIQFjuao6Jl0lACLwFJ6j1SUBgVRo78g1KQIiSlm0eFEpACL5wZq8VSkBYaHUiARZKQMAKdkYHFkpAqKucVAYWSkCoRJJUAxZKQKDdh1QAFkpAAJWs0f4VSkAgGRo3/hVKQEidh5z9FUpAKLBOE/0VSkDAvbIH/RVKQEjLFvz8FUpAyNh68PwVSkDgEyXy/BVKQKAT5vv8FUpAUBOnBf0VSkDAhzYO/RVKQCDWIQ79FUpAiCQNDv0VSkDgcvgN/RVKQOiDKBL9FUpA2HvyGP0VSkDIc7wf/RVKQOCgHyX9FUpAACRdIP0VSkAIp5ob/RVKQCAq2Bb9FUpAIFiXF/0VSkCgirEb/RVKQCC9yx/9FUpA",
          "dtype": "f8"
         }
        },
        {
         "legendgroup": "088",
         "line": {
          "color": "rgb(201, 0, 0)"
         },
         "name": "088",
         "opacity": 0.4,
         "type": "scatter",
         "x": [
          0,
          1000000000000,
          2000000000000,
          3000000000000,
          4000000000000,
          5000000000000,
          6000000000000,
          7000000000000,
          8000000000000,
          9000000000000,
          10000000000000,
          11000000000000,
          12000000000000,
          13000000000000,
          14000000000000,
          15000000000000,
          16000000000000,
          17000000000000,
          18000000000000,
          19000000000000,
          20000000000000,
          21000000000000,
          22000000000000,
          23000000000000,
          24000000000000,
          25000000000000,
          26000000000000,
          27000000000000,
          28000000000000,
          29000000000000,
          30000000000000,
          31000000000000,
          32000000000000,
          33000000000000,
          34000000000000,
          35000000000000
         ],
         "y": {
          "bdata": "oC4Vt9tXKMCIDBzCp1xJwEgZZ7Qa/kjA6Iiw967iSMDoEWDAZNtIwPCnsOeH2UjAOJdx4Q7ZSMBozAUk9thIwOjVLUj02EjAyLlUd/TYSMAwzTo29dhIwIjgIPX12EjAWCnwTvbYSMDoiCVr9thIwGjoWof22EjA+GanofbYSMDwZyCu9thIwNhombr22EjAyGkSx/bYSMA4T2TQ9thIwNhfytf22EjAWHAw3/bYSMDwix3m9thIwGjsnun22EjA8Ewg7fbYSMBwraHw9thIwIi0EfT22EjAKCl39/bYSMC4ndz69thIwGhduv322EjACJfB/PbYSMDY0Mj79thIwIgK0Pr22EjA2COB+vbYSMBYwZn69thIwNhesvr22EjA",
          "dtype": "f8"
         }
        },
        {
         "legendgroup": "089",
         "line": {
          "color": "rgb(195, 0, 0)"
         },
         "name": "089",
         "opacity": 0.4,
         "type": "scatter",
         "x": [
          0,
          1000000000000,
          2000000000000,
          3000000000000,
          4000000000000,
          5000000000000,
          6000000000000,
          7000000000000,
          8000000000000,
          9000000000000,
          10000000000000,
          11000000000000,
          12000000000000,
          13000000000000,
          14000000000000,
          15000000000000,
          16000000000000,
          17000000000000,
          18000000000000,
          19000000000000,
          20000000000000,
          21000000000000,
          22000000000000,
          23000000000000,
          24000000000000,
          25000000000000,
          26000000000000,
          27000000000000,
          28000000000000,
          29000000000000,
          30000000000000,
          31000000000000,
          32000000000000,
          33000000000000,
          34000000000000,
          35000000000000
         ],
         "y": {
          "bdata": "AAAAAAAAQD0w+1i/MmFHQPC1/KB820hAuCr6jN1GSUAQlN66zmJJQNg1TSMcaklAIALLReNrSUCoes+QXmxJQDjCSQV6bElAqEsToHVsSUCgyOxZbWxJQKBFxhNlbElAyPKPCGFsSUC4gGQKYGxJQKgOOQxfbElAqH/zR19sSUCozNbnX2xJQKgZuodgbElAuDXuJGFsSUC4CGu6YWxJQNjb509ibElA6K5k5WJsSUDoqm1IY2xJQEhsXZtjbElAuC1N7mNsSUCo6uEuZGxJQLijszpkbElAyFyFRmRsSUDoFVdSZGxJQCj59DNkbElAiIkbCGRsSUAAGkLcY2xJQKhDgaljbElAiL/zWWNsSUCoAir8YmxJQCANJJBibElA",
          "dtype": "f8"
         }
        },
        {
         "legendgroup": "089",
         "line": {
          "color": "rgb(195, 0, 0)"
         },
         "name": "089",
         "opacity": 0.4,
         "type": "scatter",
         "x": [
          0,
          1000000000000,
          2000000000000,
          3000000000000,
          4000000000000,
          5000000000000,
          6000000000000,
          7000000000000,
          8000000000000,
          9000000000000,
          10000000000000,
          11000000000000,
          12000000000000,
          13000000000000,
          14000000000000,
          15000000000000,
          16000000000000,
          17000000000000,
          18000000000000,
          19000000000000,
          20000000000000,
          21000000000000,
          22000000000000,
          23000000000000,
          24000000000000,
          25000000000000,
          26000000000000,
          27000000000000,
          28000000000000,
          29000000000000,
          30000000000000,
          31000000000000,
          32000000000000,
          33000000000000,
          34000000000000,
          35000000000000
         ],
         "y": {
          "bdata": "oHL4FcJyKMD4wOPFLdhIwHgnXsGtXkjAuAGqOotGSMBo9cJLqT9IwCiXuu7CPUjA0BU77E89SMBo6sx1Lz1IwMidiBEmPUjA6Fn6SyU9SMBolrbeJj1IwNjScnEoPUjAmLdbmSk9SMC4Azl0Kj1IwMhPFk8rPUjAGAueCyw9SMC46Xe+LD1IwFjIUXEtPUjAiNf/Ei49SMCQb1KDLj1IwLgHpfMuPUjA0J/3Yy89SMDQdTGsLz1IwLj7n+cvPUjAmIEOIzA9SMBYHvVRMD1IwEjO1lwwPUjAGH64ZzA9SMD4LZpyMD1IwOh7ZWAwPUjA2MXoRDA9SMCoD2wpMD1IwDgxvQgwPUjA0Jhh0i89SMA4Vk+RLz1IwGhphkUvPUjA",
          "dtype": "f8"
         }
        },
        {
         "legendgroup": "090",
         "line": {
          "color": "rgb(189, 0, 0)"
         },
         "name": "090",
         "opacity": 0.4,
         "type": "scatter",
         "x": [
          0,
          1000000000000,
          2000000000000,
          3000000000000,
          4000000000000,
          5000000000000,
          6000000000000,
          7000000000000,
          8000000000000,
          9000000000000,
          10000000000000,
          11000000000000,
          12000000000000,
          13000000000000,
          14000000000000,
          15000000000000,
          16000000000000,
          17000000000000,
          18000000000000,
          19000000000000,
          20000000000000,
          21000000000000,
          22000000000000,
          23000000000000,
          24000000000000,
          25000000000000,
          26000000000000,
          27000000000000,
          28000000000000,
          29000000000000,
          30000000000000,
          31000000000000,
          32000000000000,
          33000000000000,
          34000000000000,
          35000000000000
         ],
         "y": {
          "bdata": "AAAAAAAAQD1YViLXFLRPQLRZmqMyM1BAxMT18nVVUEBUyXxbw19QQMBH4gKOYlBAjNKmGVJjUEAg9ZhWlmNQQEjotACyY1BAgFhDLMBjUECoBlVdyWNQQIC6H7vQY1BAUG7qGNhjUEAEYlI932NQQEiyrMXkY1BAiAIHTupjUEDIUmHW72NQQKBidOfzY1BA4K+zFPdjUEAU/fJB+mNQQGhcVyn9Y1BA+O8kG/5jUECEg/IM/2NQQBAXwP7/Y1BAZGpwCQBkUEDoeaf1/mNQQGx4qi39Y1BA6F2AsvpjUEAE5xyN92NQQLgjKbjzY1BA+BOlM+9jUEAwHFSO6mNQQECIaOrlY1BAzDk9BuFjUEAwVE0q3GNQQERpnDrZY1BA",
          "dtype": "f8"
         }
        },
        {
         "legendgroup": "090",
         "line": {
          "color": "rgb(189, 0, 0)"
         },
         "name": "090",
         "opacity": 0.4,
         "type": "scatter",
         "x": [
          0,
          1000000000000,
          2000000000000,
          3000000000000,
          4000000000000,
          5000000000000,
          6000000000000,
          7000000000000,
          8000000000000,
          9000000000000,
          10000000000000,
          11000000000000,
          12000000000000,
          13000000000000,
          14000000000000,
          15000000000000,
          16000000000000,
          17000000000000,
          18000000000000,
          19000000000000,
          20000000000000,
          21000000000000,
          22000000000000,
          23000000000000,
          24000000000000,
          25000000000000,
          26000000000000,
          27000000000000,
          28000000000000,
          29000000000000,
          30000000000000,
          31000000000000,
          32000000000000,
          33000000000000,
          34000000000000,
          35000000000000
         ],
         "y": {
          "bdata": "wKksgnNqKMCgzF7HHLtPwOi22RljQE/A2HmM7ngjT8CY8sLRQhxPwFBC4H3MGk/AGC/EqKAaT8DIdBgHsRpPwAguaJvKGk/A2KS+8uAaT8DQ4BX78BpPwEjnbtf9Gk/AoO3HswobT8DoF38gFxtPwMh0pWsgG0/AmNHLtikbT8BoLvIBMxtPwDikUcI5G0/AQM+c9z4bT8BA+ucsRBtPwEgSBvFIG0/AQJB9iEobT8A4DvUfTBtPwCCMbLdNG0/AaNCY6k0bT8BIyCFkTBtPwJDw28dJG0/AUP7uFUYbT8DA/bRPQRtPwDiHX3Q7G0/AyJrugzQbT8DoWVxNLRtPwFiuPAImG0/AGKljQx4bT8AIfo2CFhtPwIi4l78RG0/A",
          "dtype": "f8"
         }
        },
        {
         "legendgroup": "091",
         "line": {
          "color": "rgb(183, 0, 0)"
         },
         "name": "091",
         "opacity": 0.4,
         "type": "scatter",
         "x": [
          0,
          1000000000000,
          2000000000000,
          3000000000000,
          4000000000000,
          5000000000000,
          6000000000000,
          7000000000000,
          8000000000000,
          9000000000000,
          10000000000000,
          11000000000000,
          12000000000000,
          13000000000000,
          14000000000000,
          15000000000000,
          16000000000000,
          17000000000000,
          18000000000000,
          19000000000000,
          20000000000000,
          21000000000000,
          22000000000000,
          23000000000000,
          24000000000000,
          25000000000000,
          26000000000000,
          27000000000000,
          28000000000000,
          29000000000000,
          30000000000000,
          31000000000000,
          32000000000000,
          33000000000000,
          34000000000000,
          35000000000000
         ],
         "y": {
          "bdata": "AAAAAAAAMD1QBoE9y2NEQHirmIcNo0NA0IsNs2YnRECIu1cYDF1EQICOXQc0bkRASOFoQUVzREDI/+eJ0HREQGDUbF9BdURACKW64Vh1REBA5++UXnVEQCiAvVpcdURAyH3SyFl1REBQe+c2V3VEQOCC/KFWdURAECxeGlZ1REBI1b+SVXVEQMhPskdVdURAwIu1P1V1RECYx7g3VXVEQIgDvC9VdURAiJe9MFV1RECYU/sxVXVEQKAPOTNVdURA4CI0NFV1REAAZuU0VXVEQAipljVVdURACOxHNlV1REDgQpk1VXVEQMhn4TRVdURAoIwpNFV1REBIB5czVXVEQGDZLTNVdURAgKvEMlV1RECIfVsyVXVEQMAxgTFVdURA",
          "dtype": "f8"
         }
        },
        {
         "legendgroup": "091",
         "line": {
          "color": "rgb(183, 0, 0)"
         },
         "name": "091",
         "opacity": 0.4,
         "type": "scatter",
         "x": [
          0,
          1000000000000,
          2000000000000,
          3000000000000,
          4000000000000,
          5000000000000,
          6000000000000,
          7000000000000,
          8000000000000,
          9000000000000,
          10000000000000,
          11000000000000,
          12000000000000,
          13000000000000,
          14000000000000,
          15000000000000,
          16000000000000,
          17000000000000,
          18000000000000,
          19000000000000,
          20000000000000,
          21000000000000,
          22000000000000,
          23000000000000,
          24000000000000,
          25000000000000,
          26000000000000,
          27000000000000,
          28000000000000,
          29000000000000,
          30000000000000,
          31000000000000,
          32000000000000,
          33000000000000,
          34000000000000,
          35000000000000
         ],
         "y": {
          "bdata": "oG69MdBjKMDALLJVba5IwPBe5KdBAEXAaM4mxw6kRMAoeSjaxJNEwDDBIW5Yj0TAsINrqBiORMDY6rWIuI1EwEC9JsadjUTAaNtIVpeNRMAwhADrlY1EwGjyi5KWjUTAKDKLIpeNRMDwcYqyl41EwCjOMOaXjUTAqHdtF5iNRMBAIapImI1EwFAs72mYjUTAmOyFeZiNRMDorByJmI1EwChts5iYjUTAmHCZmJiNRMCIgBaYmI1EwHiQk5eYjUTA0KUIlpiNRMAYbFmTmI1EwGgyqpCYjUTAqPj6jZiNRMDAaiCMmI1EwFhrS4qYjUTA+Gt2iJiNRMBIT1+HmI1EwAh2GoeYjUTA0JzVhpiNRMCYw5CGmI1EwHAZ24aYjUTA",
          "dtype": "f8"
         }
        },
        {
         "legendgroup": "092",
         "line": {
          "color": "rgb(177, 0, 0)"
         },
         "name": "092",
         "opacity": 0.4,
         "type": "scatter",
         "x": [
          0,
          1000000000000,
          2000000000000,
          3000000000000,
          4000000000000,
          5000000000000,
          6000000000000,
          7000000000000,
          8000000000000,
          9000000000000,
          10000000000000,
          11000000000000,
          12000000000000,
          13000000000000,
          14000000000000,
          15000000000000,
          16000000000000,
          17000000000000,
          18000000000000,
          19000000000000,
          20000000000000,
          21000000000000,
          22000000000000,
          23000000000000,
          24000000000000,
          25000000000000,
          26000000000000,
          27000000000000,
          28000000000000,
          29000000000000,
          30000000000000,
          31000000000000,
          32000000000000,
          33000000000000,
          34000000000000,
          35000000000000
         ],
         "y": {
          "bdata": "AAAAAAAAMD2QmF+vjcZNQKDgfKGj3k1AWOTQENECTkCg4P8hAhZOQNDF3oPxHE5AYG1f/HoeTkAIBpeeih5OQHj2j1XAHk5A2FiqSgEfTkDoKzHQKB9OQBD/t1VQH05AWBgPrFsfTkCIC6DaZh9OQKD+MAlyH05A0L30DnMfTkAIykCyaR9OQDjWjFVgH05AaOLY+FYfTkCg4dJARh9OQLgda341H05AyFkDvCQfTkC4oY6mFR9OQKi7j0cIH05AoNWQ6PoeTkCg75GJ7R5OQOAckkHnHk5A4KGTA+EeTkDgJpXF2h5OQHgNwB3XHk5AmEu9D9geTkBgaCag2x5OQNhj+87hHk5AYKqy5OceTkCIpKRe7x5OQKB7zD/4Hk5A",
          "dtype": "f8"
         }
        },
        {
         "legendgroup": "092",
         "line": {
          "color": "rgb(177, 0, 0)"
         },
         "name": "092",
         "opacity": 0.4,
         "type": "scatter",
         "x": [
          0,
          1000000000000,
          2000000000000,
          3000000000000,
          4000000000000,
          5000000000000,
          6000000000000,
          7000000000000,
          8000000000000,
          9000000000000,
          10000000000000,
          11000000000000,
          12000000000000,
          13000000000000,
          14000000000000,
          15000000000000,
          16000000000000,
          17000000000000,
          18000000000000,
          19000000000000,
          20000000000000,
          21000000000000,
          22000000000000,
          23000000000000,
          24000000000000,
          25000000000000,
          26000000000000,
          27000000000000,
          28000000000000,
          29000000000000,
          30000000000000,
          31000000000000,
          32000000000000,
          33000000000000,
          34000000000000,
          35000000000000
         ],
         "y": {
          "bdata": "oHi+FhZVKMAQf/XbpiVOwAhPfCOZ5kzAWKxS6eCZTMAwIXz8NpFMwIh40rEik0zAeBd5H7eTTMDwfPLvl5NMwDgAIeOwk0zAQMUVovWTTMBAX2ozJ5RMwDj5vsRYlEzA6AdmUGiUTMB45Qmsd5RMwAjDrQeHlEzAcDiZi4qUTMDQ0pP0gZRMwDBtjl15lEzAmAeJxnCUTMD4QKFJX5RMwCjnKsBNlEzAaI20NjyUTMAoeLZMLJRMwIjqZgselEzA8FwXyg+UTMBYz8eIAZRMwMjBHW/6k0zAKIuMX/OTTMBwVPtP7JNMwFi6GeDnk0zA2Hn7GuiTTMAove396pNMwACE8Ijwk0zAuLhSrfaTTMAo4tmL/pNMwJjmxyYIlEzA",
          "dtype": "f8"
         }
        },
        {
         "legendgroup": "093",
         "line": {
          "color": "rgb(171, 0, 0)"
         },
         "name": "093",
         "opacity": 0.4,
         "type": "scatter",
         "x": [
          0,
          1000000000000,
          2000000000000,
          3000000000000,
          4000000000000,
          5000000000000,
          6000000000000,
          7000000000000,
          8000000000000,
          9000000000000,
          10000000000000,
          11000000000000,
          12000000000000,
          13000000000000,
          14000000000000,
          15000000000000,
          16000000000000,
          17000000000000,
          18000000000000,
          19000000000000,
          20000000000000,
          21000000000000,
          22000000000000,
          23000000000000,
          24000000000000,
          25000000000000,
          26000000000000,
          27000000000000,
          28000000000000,
          29000000000000,
          30000000000000,
          31000000000000,
          32000000000000,
          33000000000000,
          34000000000000,
          35000000000000
         ],
         "y": {
          "bdata": "AAAAAAAAMD2oNe1b6q1IQBhxGu/yHkpA6D+qYn99SkBAjbJgkpVKQPgBr4+rm0pA2H7VuSOdSkDYqPGFdZ1KQOColUF0nUpAeOTkoG2dSkDwy+JHa51KQOBUoWdpnUpA8AK0P2mdSkAYscYXaZ1KQEBf2e9onUpA4Dwj/midSkBgNT83aZ1KQOAtW3BpnUpAyJ+yqWmdSkBYicPmaZ1KQOBy1CNqnUpAWFzlYGqdSkDIHZaTap1KQFj6FL5qnUpAyNaT6GqdSkDw278Ra51KQPi2syVrnUpAGJKnOWudSkA4bZtNa51KQJA5xVVrnUpA4MeETGudSkBwg944a51KQMDV0RprnUpAYOhS8mqdSkA4hWi/ap1KQEisEoJqnUpA",
          "dtype": "f8"
         }
        },
        {
         "legendgroup": "093",
         "line": {
          "color": "rgb(171, 0, 0)"
         },
         "name": "093",
         "opacity": 0.4,
         "type": "scatter",
         "x": [
          0,
          1000000000000,
          2000000000000,
          3000000000000,
          4000000000000,
          5000000000000,
          6000000000000,
          7000000000000,
          8000000000000,
          9000000000000,
          10000000000000,
          11000000000000,
          12000000000000,
          13000000000000,
          14000000000000,
          15000000000000,
          16000000000000,
          17000000000000,
          18000000000000,
          19000000000000,
          20000000000000,
          21000000000000,
          22000000000000,
          23000000000000,
          24000000000000,
          25000000000000,
          26000000000000,
          27000000000000,
          28000000000000,
          29000000000000,
          30000000000000,
          31000000000000,
          32000000000000,
          33000000000000,
          34000000000000,
          35000000000000
         ],
         "y": {
          "bdata": "QJkj6iJkKMDok+eGg9hJwHiA44DwaUnASN+amLdNScCoEsaHfUZJwJjx6s+qREnAOHvQFzxEScA4D2r/IkRJwBjtywIiREnAGO3LwSJEScC4y1IPI0RJwDj921EjREnAyGUTfyNEScBozkqsI0RJwPg2gtkjREnAiF/lCSREScCoq8k8JERJwMj3rW8kREnA+EVMoiREScCofojQJERJwGi3xP4kREnAGPAALSVEScBombhTJURJwJgygHQlREnA6MtHlSVEScB4ORa1JURJwPgLSsUlREnAmN591SVEScAYsbHlJURJwMgwbO0lREnAuC+i6CVEScDI6V7cJURJwPCZl8glREnAyMxzrCVEScBopW+IJURJwMgji1wlREnA",
          "dtype": "f8"
         }
        },
        {
         "legendgroup": "094",
         "line": {
          "color": "rgb(165, 0, 0)"
         },
         "name": "094",
         "opacity": 0.4,
         "type": "scatter",
         "x": [
          0,
          1000000000000,
          2000000000000,
          3000000000000,
          4000000000000,
          5000000000000,
          6000000000000,
          7000000000000,
          8000000000000,
          9000000000000,
          10000000000000,
          11000000000000,
          12000000000000,
          13000000000000,
          14000000000000,
          15000000000000,
          16000000000000,
          17000000000000,
          18000000000000,
          19000000000000,
          20000000000000,
          21000000000000,
          22000000000000,
          23000000000000,
          24000000000000,
          25000000000000,
          26000000000000,
          27000000000000,
          28000000000000,
          29000000000000,
          30000000000000,
          31000000000000,
          32000000000000,
          33000000000000,
          34000000000000,
          35000000000000
         ],
         "y": {
          "bdata": "AAAAAAAAMD1gVtBZWE09QHAI8rok9T5AcPuGgFe3P0CYPc9lqglAQGjdoFWZGUBAGJfTk60fQEB41ZDiKiFAQDAootDRIUBAcH4+p8shQEDouMYXDyJAQMh0K0QPIkBAmDCQcA8iQEDItzFvByJAQDDV1hn7IUBAaHwPA/EhQEB4KYCO7SFAQJjW8BnqIUBAsINhpeYhQEDofiFj5CFAQPgxdoXiIUBAGOXKp+AhQEB40EQU4CFAQEj8hVDjIUBA+CfHjOYhQEDoUwjJ6SFAQGh63vjtIUBAcGGwePIhQEB4SIL49iFAQGgfH5b6IUBAmNMnl/shQED4hzCY/CFAQEg8OZn9IUBAmPSEi/shQEBw48p8+CFAQEjSEG71IUBA",
          "dtype": "f8"
         }
        },
        {
         "legendgroup": "094",
         "line": {
          "color": "rgb(165, 0, 0)"
         },
         "name": "094",
         "opacity": 0.4,
         "type": "scatter",
         "x": [
          0,
          1000000000000,
          2000000000000,
          3000000000000,
          4000000000000,
          5000000000000,
          6000000000000,
          7000000000000,
          8000000000000,
          9000000000000,
          10000000000000,
          11000000000000,
          12000000000000,
          13000000000000,
          14000000000000,
          15000000000000,
          16000000000000,
          17000000000000,
          18000000000000,
          19000000000000,
          20000000000000,
          21000000000000,
          22000000000000,
          23000000000000,
          24000000000000,
          25000000000000,
          26000000000000,
          27000000000000,
          28000000000000,
          29000000000000,
          30000000000000,
          31000000000000,
          32000000000000,
          33000000000000,
          34000000000000,
          35000000000000
         ],
         "y": {
          "bdata": "gGuYZ7FhKMDIQoK6LXxDwPhLQoyHX0HAiBoX++4lQcDY0lZ6+BVBwNhzlIXqD0HAaGB+6ToOQcBIY137UA1BwFidKvmjDUHAyCtHuUMNQcBIHRGyEQ1BwLiCdGV+DUHAOOjXGOsNQcA4Zfjs6A1BwFDhHxWsDUHAGJ5L2HkNQcCYb/nzZg1BwBhBpw9UDUHAmBJVK0ENQcA4UZbJKA1BwNAmWpoODUHAaPwda/QMQcBopZyS5wxBwFg4sCYCDUHASMvDuhwNQcAoXtdONw1BwLiH94NKDUHAmKV8TVsNQcCIwwEXbA1BwDgIFqB9DUHA0IFWX5ENQcBY+5YepQ1BwOh01924DUHAEA+s0qoNQcBYQgWvkQ1BwKh1Xot4DUHA",
          "dtype": "f8"
         }
        },
        {
         "legendgroup": "095",
         "line": {
          "color": "rgb(159, 0, 0)"
         },
         "name": "095",
         "opacity": 0.4,
         "type": "scatter",
         "x": [
          0,
          1000000000000,
          2000000000000,
          3000000000000,
          4000000000000,
          5000000000000,
          6000000000000,
          7000000000000,
          8000000000000,
          9000000000000,
          10000000000000,
          11000000000000,
          12000000000000,
          13000000000000,
          14000000000000,
          15000000000000,
          16000000000000,
          17000000000000,
          18000000000000,
          19000000000000,
          20000000000000,
          21000000000000,
          22000000000000,
          23000000000000,
          24000000000000,
          25000000000000,
          26000000000000,
          27000000000000,
          28000000000000,
          29000000000000,
          30000000000000,
          31000000000000,
          32000000000000,
          33000000000000,
          34000000000000,
          35000000000000
         ],
         "y": {
          "bdata": "AAAAAAAAQD1o6Z25JMhNQHhmEoy5bk1A4LM/lY2gTUBAJ9CWMb9NQPg8h90Qx01AsCWjHSbJTUAIemmDTMlNQOj7/stuyU1AqDhmoqjJTUDgdXP5xMlNQPCygFDhyU1AqLi0he3JTUB4SvIk88lNQEjcL8T4yU1AeIizV/vJTUBoDNp38slNQGCQAJjpyU1AQBQnuODJTUCgfDo31clNQKCEh6PIyU1AoIzUD7zJTUB4MrxDsMlNQKABDGanyU1AsNBbiJ7JTUDIn6uqlclNQADOWO2QyU1A+KJF343JTUD4dzLRislNQIBC0HyIyU1A6HDLAorJTUA4YDNljclNQGAQCKSSyU1AaKm6G5jJTUAoPpTUnclNQCiQLVGkyU1A",
          "dtype": "f8"
         }
        },
        {
         "legendgroup": "095",
         "line": {
          "color": "rgb(159, 0, 0)"
         },
         "name": "095",
         "opacity": 0.4,
         "type": "scatter",
         "x": [
          0,
          1000000000000,
          2000000000000,
          3000000000000,
          4000000000000,
          5000000000000,
          6000000000000,
          7000000000000,
          8000000000000,
          9000000000000,
          10000000000000,
          11000000000000,
          12000000000000,
          13000000000000,
          14000000000000,
          15000000000000,
          16000000000000,
          17000000000000,
          18000000000000,
          19000000000000,
          20000000000000,
          21000000000000,
          22000000000000,
          23000000000000,
          24000000000000,
          25000000000000,
          26000000000000,
          27000000000000,
          28000000000000,
          29000000000000,
          30000000000000,
          31000000000000,
          32000000000000,
          33000000000000,
          34000000000000,
          35000000000000
         ],
         "y": {
          "bdata": "4I4C9J5lKMBIpnj9si5OwHiJyhMDrUzAkPvYRS1MTMAIAkw7cTZMwMgbuAHrNUzAoEMeGNE1TMCY0xiLwTVMwBDscI24NUzAUBuGRsI1TMAQybb6zDVMwMh2567XNUzAaApWW941TMDokZBi4zVMwGAZy2noNUzAkDKhTuw1TMBoB77v6zVMwFDc2pDrNUzAILH3Mes1TMCQE0Gt6DVMwBCvFEjlNUzAkEro4uE1TMAICcOD3jVMwNAqRzvbNUzAoEzL8tc1TMCIbk+q1DVMwKAqS5rSNUzAaIvWCdE1TMBI7GF5zzVMwGgYPCbONUzA6Lm+GM41TMBIOI2ozjVMwIiTp9XPNUzASGqGUNE1TMCIy7sa0zVMwKgFCU3VNUzA",
          "dtype": "f8"
         }
        },
        {
         "legendgroup": "096",
         "line": {
          "color": "rgb(152, 0, 0)"
         },
         "name": "096",
         "opacity": 0.4,
         "type": "scatter",
         "x": [
          0,
          1000000000000,
          2000000000000,
          3000000000000,
          4000000000000,
          5000000000000,
          6000000000000,
          7000000000000,
          8000000000000,
          9000000000000,
          10000000000000,
          11000000000000,
          12000000000000,
          13000000000000,
          14000000000000,
          15000000000000,
          16000000000000,
          17000000000000,
          18000000000000,
          19000000000000,
          20000000000000,
          21000000000000,
          22000000000000,
          23000000000000,
          24000000000000,
          25000000000000,
          26000000000000,
          27000000000000,
          28000000000000,
          29000000000000,
          30000000000000,
          31000000000000,
          32000000000000,
          33000000000000,
          34000000000000,
          35000000000000
         ],
         "y": {
          "bdata": "AAAAAAAAXD3I3aVzP6dHQEjoUiXH90hA4CNMD61gSUCYpPvncnxJQBh+iE0shElA+FdBoxaGSUBokF6MiYZJQPjR0IWZhklAMIcVLZmGSUAIxmvsk4ZJQPgEwquOhklA8CSf/ouGSUBAqq0Ii4ZJQIgvvBKKhklAiOfOM4mGSUDAo2kjiYZJQPBfBBOJhklAKByfAomGSUD4Fzb4iIZJQEBvyfGIhklAcMZc64iGSUBwbrfkiIZJQPhxFdyIhklAcHVz04iGSUDweNHKiIZJQCjJF8SIhklAwESjvoiGSUBIwC65iIZJQHipx7OIhklAeBHZroiGSUB4eeqpiIZJQIjh+6SIhklAKKq4o4iGSUDo/+akiIZJQKhVFaaIhklA",
          "dtype": "f8"
         }
        },
        {
         "legendgroup": "096",
         "line": {
          "color": "rgb(152, 0, 0)"
         },
         "name": "096",
         "opacity": 0.4,
         "type": "scatter",
         "x": [
          0,
          1000000000000,
          2000000000000,
          3000000000000,
          4000000000000,
          5000000000000,
          6000000000000,
          7000000000000,
          8000000000000,
          9000000000000,
          10000000000000,
          11000000000000,
          12000000000000,
          13000000000000,
          14000000000000,
          15000000000000,
          16000000000000,
          17000000000000,
          18000000000000,
          19000000000000,
          20000000000000,
          21000000000000,
          22000000000000,
          23000000000000,
          24000000000000,
          25000000000000,
          26000000000000,
          27000000000000,
          28000000000000,
          29000000000000,
          30000000000000,
          31000000000000,
          32000000000000,
          33000000000000,
          34000000000000,
          35000000000000
         ],
         "y": {
          "bdata": "wACojz1fKMDY++2ILhJJwJgYFPMgeUjAyIQ1emBaSMDIqCEKV1JIwLh+0TlFUEjAaPJIu8JPSMDIYLi8o09IwEiJzVKfT0jAyImzlZ9PSMC4ZiMCoU9IwGhDk26iT0jAuJMZJ6NPSMCYMNFno09IwGjNiKijT0jAmMwH5KNPSMCACa3wo09IwGhGUv2jT0jAaIP3CaRPSMDIGXUQpE9IwOht2RKkT0jA6ME9FaRPSMBoBHYXpE9IwGjXIhikT0jAaKrPGKRPSMBofXwZpE9IwEjkIBqkT0jAaK+/GqRPSMCYel4bpE9IwLiqAhykT0jASEPXHKRPSMDo26sdpE9IwJh0gB6kT0jAmMXRHqRPSMC4qssepE9IwMCPxR6kT0jA",
          "dtype": "f8"
         }
        },
        {
         "legendgroup": "097",
         "line": {
          "color": "rgb(146, 0, 0)"
         },
         "name": "097",
         "opacity": 0.4,
         "type": "scatter",
         "x": [
          0,
          1000000000000,
          2000000000000,
          3000000000000,
          4000000000000,
          5000000000000,
          6000000000000,
          7000000000000,
          8000000000000,
          9000000000000,
          10000000000000,
          11000000000000,
          12000000000000,
          13000000000000,
          14000000000000,
          15000000000000,
          16000000000000,
          17000000000000,
          18000000000000,
          19000000000000,
          20000000000000,
          21000000000000,
          22000000000000,
          23000000000000,
          24000000000000,
          25000000000000,
          26000000000000,
          27000000000000,
          28000000000000,
          29000000000000,
          30000000000000,
          31000000000000,
          32000000000000,
          33000000000000,
          34000000000000,
          35000000000000
         ],
         "y": {
          "bdata": "AAAAAAAASD0gKdT/jNk9QMDkfdyfBkBAYKK6NhsaQECw8o0JY6JAQIieGXUyQ0FA8PSYHMoYUEBoa7BAyaNNQIAkDr9Qg0tAYDmTL758S0CAUxKJJoJLQECcyfkLhUtAgNcgQAKGS0A4ZligIYZLQACKldk9hktAeP7wM0mGS0D4ckyOVIZLQEhf0FFZhktAQG23sVyGS0A4e54RYIZLQICb0mhhhktAeJ/yil6GS0B4oxKtW4ZLQHinMs9YhktAuF2vJlSGS0Bo7nsdT4ZLQBB/SBRKhktAaLehbEWGS0CQfMOOQYZLQMhB5bA9hktA+AYH0zmGS0DYPXflN4ZLQDiHiGA2hktAiNCZ2zSGS0CQ0d7SM4ZLQIA5Ik80hktA",
          "dtype": "f8"
         }
        },
        {
         "legendgroup": "097",
         "line": {
          "color": "rgb(146, 0, 0)"
         },
         "name": "097",
         "opacity": 0.4,
         "type": "scatter",
         "x": [
          0,
          1000000000000,
          2000000000000,
          3000000000000,
          4000000000000,
          5000000000000,
          6000000000000,
          7000000000000,
          8000000000000,
          9000000000000,
          10000000000000,
          11000000000000,
          12000000000000,
          13000000000000,
          14000000000000,
          15000000000000,
          16000000000000,
          17000000000000,
          18000000000000,
          19000000000000,
          20000000000000,
          21000000000000,
          22000000000000,
          23000000000000,
          24000000000000,
          25000000000000,
          26000000000000,
          27000000000000,
          28000000000000,
          29000000000000,
          30000000000000,
          31000000000000,
          32000000000000,
          33000000000000,
          34000000000000,
          35000000000000
         ],
         "y": {
          "bdata": "YNbSEGVcKMB4Hsw+KitFwMC6hjaeeEPAAPmOaNQAQ8DI+IFsUNtBwNDN0ICT/0HAcMRg0SMaT8AIDOBvlEtNwCAzHx88wkrASNwRgPJuSsCITBsQEmJKwLi0rIByYErACFVHPiBgSsDQ77uaD2BKwGgjpOIBYErAOGseqPxfSsAYs5ht919KwJht1AH2X0rAuJGOY/VfSsDQtUjF9F9KwBjzPfb0X0rA6LDc0/ZfSsCYbnux+F9KwGgsGo/6X0rAOMDdj/xfSsC4AAqY/l9KwDhBNqAAYErAuNKyZQJgSsAIMj6hA2BKwDiRydwEYErAiPBUGAZgSsDop0OiBmBKwJjdwAYHYErAaBM+awdgSsAIMu6oB2BKwBBvGG0HYErA",
          "dtype": "f8"
         }
        },
        {
         "legendgroup": "098",
         "line": {
          "color": "rgb(140, 0, 0)"
         },
         "name": "098",
         "opacity": 0.4,
         "type": "scatter",
         "x": [
          0,
          1000000000000,
          2000000000000,
          3000000000000,
          4000000000000,
          5000000000000,
          6000000000000,
          7000000000000,
          8000000000000,
          9000000000000,
          10000000000000,
          11000000000000,
          12000000000000,
          13000000000000,
          14000000000000,
          15000000000000,
          16000000000000,
          17000000000000,
          18000000000000,
          19000000000000,
          20000000000000,
          21000000000000,
          22000000000000,
          23000000000000,
          24000000000000,
          25000000000000,
          26000000000000,
          27000000000000,
          28000000000000,
          29000000000000,
          30000000000000,
          31000000000000,
          32000000000000,
          33000000000000,
          34000000000000,
          35000000000000
         ],
         "y": {
          "bdata": "AAAAAAAAMD3gNBZY7kc9QIDdojbfDD9AcBLcfiwDQEBg1O88RhVAQJBqmdvfGUBA8DeRxuIdQECoOdLpMx9AQPCnN1GDH0BAkJWCstIfQEDw466r6R9AQFDiqW7lH0BAcGa4Qd4fQEAQ6PcR/B9AQPAqwWruH0BAEED6ce8fQEAQiJ5P7h9AQNCdmM7sH0BAGIGr9uwfQEAgAc4W7h9AQGCBM+3mH0BA0CpTu/IfQECQqsdi7x9AQBDmbk3uH0BAKFmMQegfQEBwnUOs7R9AQCCuMVsEIEBAIGxSK+ofQEAQVpiZ7B9AQCBZkBPuH0BAICjrEO0fQEDIWCLy5B9AQCjYV/btH0BASIMH1+sfQEAYOKK54h9AQJBl6j3nH0BA",
          "dtype": "f8"
         }
        },
        {
         "legendgroup": "098",
         "line": {
          "color": "rgb(140, 0, 0)"
         },
         "name": "098",
         "opacity": 0.4,
         "type": "scatter",
         "x": [
          0,
          1000000000000,
          2000000000000,
          3000000000000,
          4000000000000,
          5000000000000,
          6000000000000,
          7000000000000,
          8000000000000,
          9000000000000,
          10000000000000,
          11000000000000,
          12000000000000,
          13000000000000,
          14000000000000,
          15000000000000,
          16000000000000,
          17000000000000,
          18000000000000,
          19000000000000,
          20000000000000,
          21000000000000,
          22000000000000,
          23000000000000,
          24000000000000,
          25000000000000,
          26000000000000,
          27000000000000,
          28000000000000,
          29000000000000,
          30000000000000,
          31000000000000,
          32000000000000,
          33000000000000,
          34000000000000,
          35000000000000
         ],
         "y": {
          "bdata": "QGoLTLdbKMAY+GNRPM5CwDA03zVEjkHAID9ff/XBQMDYtQdj0tZAwGhqzRYa1EDAGA7LhQPKQMAYIbeRdspAwAhNrrywyUDAWN/GcCfJQMCgQTM298hAwJikEM3eyEDAWMv9sQPKQMAILS8bx8lAwCiuZYoYykDAyM/j6QjKQMAgr+5SDspAwBilswUXykDA+Bh79BLKQMDYHf+vIMpAwMDtlEM/ykDAWO4skf7JQMAI5Y/zGMpAwCAoENsDykDA2L7R8UDKQMBA1EmG68lAwJh0UEJ0yUDAWPmUKBbKQMCYxuvsEspAwKAhNW8ZykDAMKp2XxfKQMCIYTRWW8pAwCAwS3DeyUDAKA3ZGBLKQMDwHFmXtMpAwDiTUgS/ykDA",
          "dtype": "f8"
         }
        },
        {
         "legendgroup": "099",
         "line": {
          "color": "rgb(134, 0, 0)"
         },
         "name": "099",
         "opacity": 0.4,
         "type": "scatter",
         "x": [
          0,
          1000000000000,
          2000000000000,
          3000000000000,
          4000000000000,
          5000000000000,
          6000000000000,
          7000000000000,
          8000000000000,
          9000000000000,
          10000000000000,
          11000000000000,
          12000000000000,
          13000000000000,
          14000000000000,
          15000000000000,
          16000000000000,
          17000000000000,
          18000000000000,
          19000000000000,
          20000000000000,
          21000000000000,
          22000000000000,
          23000000000000,
          24000000000000,
          25000000000000,
          26000000000000,
          27000000000000,
          28000000000000,
          29000000000000,
          30000000000000,
          31000000000000,
          32000000000000,
          33000000000000,
          34000000000000,
          35000000000000
         ],
         "y": {
          "bdata": "AAAAAAAAMD34eVpzDBxMQFCJmvdwiExA8NnAuUm+TECwP0jmaM1MQLg+3Roy0UxAgOmGt0HSTEAIeB5bc9JMQEA/R1hb0kxAQOsRojLSTED4fUsTEtJMQJCNWgYB0kxA0CL1SPXRTEBIEKBq8tFMQMj9Sozv0UxAQOv1rezRTECQBqWK8NFMQAhGrF710UxAeIWzMvrRTED407vx/9FMQLizVDkH0kxAUJPtgA7STEAQc4bIFdJMQHD0bpoc0kxAmHByWyPSTEDQ7HUcKtJMQJCteq8v0kxAwAoHSjPSTED4Z5PkNtJMQDjFH3860kxAODN9ajvSTEC47DTzO9JMQDim7Hs80kxAyP01VTzSTEAwwEBjOtJMQMj2dn830kxA",
          "dtype": "f8"
         }
        },
        {
         "legendgroup": "099",
         "line": {
          "color": "rgb(134, 0, 0)"
         },
         "name": "099",
         "opacity": 0.4,
         "type": "scatter",
         "x": [
          0,
          1000000000000,
          2000000000000,
          3000000000000,
          4000000000000,
          5000000000000,
          6000000000000,
          7000000000000,
          8000000000000,
          9000000000000,
          10000000000000,
          11000000000000,
          12000000000000,
          13000000000000,
          14000000000000,
          15000000000000,
          16000000000000,
          17000000000000,
          18000000000000,
          19000000000000,
          20000000000000,
          21000000000000,
          22000000000000,
          23000000000000,
          24000000000000,
          25000000000000,
          26000000000000,
          27000000000000,
          28000000000000,
          29000000000000,
          30000000000000,
          31000000000000,
          32000000000000,
          33000000000000,
          34000000000000,
          35000000000000
         ],
         "y": {
          "bdata": "oN2Z9GtfKMDYrI063xROwHiNZLYI8kvAsMfs/GKOS8B4jxmYE3VLwPj32EQdb0vAQPdRFbBtS8BIdQOVcW1LwFgB6hpHbUvAuHE+FCltS8D435lnEG1LwHAUcugBbUvASMJawfdsS8DIyevb9GxLwEjRfPbxbEvAyNgNEe9sS8C4v2t68mxLwLDlmMv2bEvAmAvGHPtsS8CAwHRwAG1LwAhX9nMHbUvAiO13dw5tS8AYhPl6FW1LwLCKhiocbUvAcD4GziJtS8Aw8oVxKW1LwHiVCPYubUvASC4kmzJtS8A4xz9ANm1LwAhgW+U5bUvAOMfl4TptS8AYnr18O21LwAh1lRc8bUvA2NlUBzxtS8BIQi83Om1LwLgoL3s3bUvA",
          "dtype": "f8"
         }
        }
       ],
       "layout": {
        "showlegend": false,
        "template": {
         "data": {
          "bar": [
           {
            "error_x": {
             "color": "#2a3f5f"
            },
            "error_y": {
             "color": "#2a3f5f"
            },
            "marker": {
             "line": {
              "color": "#E5ECF6",
              "width": 0.5
             },
             "pattern": {
              "fillmode": "overlay",
              "size": 10,
              "solidity": 0.2
             }
            },
            "type": "bar"
           }
          ],
          "barpolar": [
           {
            "marker": {
             "line": {
              "color": "#E5ECF6",
              "width": 0.5
             },
             "pattern": {
              "fillmode": "overlay",
              "size": 10,
              "solidity": 0.2
             }
            },
            "type": "barpolar"
           }
          ],
          "carpet": [
           {
            "aaxis": {
             "endlinecolor": "#2a3f5f",
             "gridcolor": "white",
             "linecolor": "white",
             "minorgridcolor": "white",
             "startlinecolor": "#2a3f5f"
            },
            "baxis": {
             "endlinecolor": "#2a3f5f",
             "gridcolor": "white",
             "linecolor": "white",
             "minorgridcolor": "white",
             "startlinecolor": "#2a3f5f"
            },
            "type": "carpet"
           }
          ],
          "choropleth": [
           {
            "colorbar": {
             "outlinewidth": 0,
             "ticks": ""
            },
            "type": "choropleth"
           }
          ],
          "contour": [
           {
            "colorbar": {
             "outlinewidth": 0,
             "ticks": ""
            },
            "colorscale": [
             [
              0,
              "#0d0887"
             ],
             [
              0.1111111111111111,
              "#46039f"
             ],
             [
              0.2222222222222222,
              "#7201a8"
             ],
             [
              0.3333333333333333,
              "#9c179e"
             ],
             [
              0.4444444444444444,
              "#bd3786"
             ],
             [
              0.5555555555555556,
              "#d8576b"
             ],
             [
              0.6666666666666666,
              "#ed7953"
             ],
             [
              0.7777777777777778,
              "#fb9f3a"
             ],
             [
              0.8888888888888888,
              "#fdca26"
             ],
             [
              1,
              "#f0f921"
             ]
            ],
            "type": "contour"
           }
          ],
          "contourcarpet": [
           {
            "colorbar": {
             "outlinewidth": 0,
             "ticks": ""
            },
            "type": "contourcarpet"
           }
          ],
          "heatmap": [
           {
            "colorbar": {
             "outlinewidth": 0,
             "ticks": ""
            },
            "colorscale": [
             [
              0,
              "#0d0887"
             ],
             [
              0.1111111111111111,
              "#46039f"
             ],
             [
              0.2222222222222222,
              "#7201a8"
             ],
             [
              0.3333333333333333,
              "#9c179e"
             ],
             [
              0.4444444444444444,
              "#bd3786"
             ],
             [
              0.5555555555555556,
              "#d8576b"
             ],
             [
              0.6666666666666666,
              "#ed7953"
             ],
             [
              0.7777777777777778,
              "#fb9f3a"
             ],
             [
              0.8888888888888888,
              "#fdca26"
             ],
             [
              1,
              "#f0f921"
             ]
            ],
            "type": "heatmap"
           }
          ],
          "histogram": [
           {
            "marker": {
             "pattern": {
              "fillmode": "overlay",
              "size": 10,
              "solidity": 0.2
             }
            },
            "type": "histogram"
           }
          ],
          "histogram2d": [
           {
            "colorbar": {
             "outlinewidth": 0,
             "ticks": ""
            },
            "colorscale": [
             [
              0,
              "#0d0887"
             ],
             [
              0.1111111111111111,
              "#46039f"
             ],
             [
              0.2222222222222222,
              "#7201a8"
             ],
             [
              0.3333333333333333,
              "#9c179e"
             ],
             [
              0.4444444444444444,
              "#bd3786"
             ],
             [
              0.5555555555555556,
              "#d8576b"
             ],
             [
              0.6666666666666666,
              "#ed7953"
             ],
             [
              0.7777777777777778,
              "#fb9f3a"
             ],
             [
              0.8888888888888888,
              "#fdca26"
             ],
             [
              1,
              "#f0f921"
             ]
            ],
            "type": "histogram2d"
           }
          ],
          "histogram2dcontour": [
           {
            "colorbar": {
             "outlinewidth": 0,
             "ticks": ""
            },
            "colorscale": [
             [
              0,
              "#0d0887"
             ],
             [
              0.1111111111111111,
              "#46039f"
             ],
             [
              0.2222222222222222,
              "#7201a8"
             ],
             [
              0.3333333333333333,
              "#9c179e"
             ],
             [
              0.4444444444444444,
              "#bd3786"
             ],
             [
              0.5555555555555556,
              "#d8576b"
             ],
             [
              0.6666666666666666,
              "#ed7953"
             ],
             [
              0.7777777777777778,
              "#fb9f3a"
             ],
             [
              0.8888888888888888,
              "#fdca26"
             ],
             [
              1,
              "#f0f921"
             ]
            ],
            "type": "histogram2dcontour"
           }
          ],
          "mesh3d": [
           {
            "colorbar": {
             "outlinewidth": 0,
             "ticks": ""
            },
            "type": "mesh3d"
           }
          ],
          "parcoords": [
           {
            "line": {
             "colorbar": {
              "outlinewidth": 0,
              "ticks": ""
             }
            },
            "type": "parcoords"
           }
          ],
          "pie": [
           {
            "automargin": true,
            "type": "pie"
           }
          ],
          "scatter": [
           {
            "fillpattern": {
             "fillmode": "overlay",
             "size": 10,
             "solidity": 0.2
            },
            "type": "scatter"
           }
          ],
          "scatter3d": [
           {
            "line": {
             "colorbar": {
              "outlinewidth": 0,
              "ticks": ""
             }
            },
            "marker": {
             "colorbar": {
              "outlinewidth": 0,
              "ticks": ""
             }
            },
            "type": "scatter3d"
           }
          ],
          "scattercarpet": [
           {
            "marker": {
             "colorbar": {
              "outlinewidth": 0,
              "ticks": ""
             }
            },
            "type": "scattercarpet"
           }
          ],
          "scattergeo": [
           {
            "marker": {
             "colorbar": {
              "outlinewidth": 0,
              "ticks": ""
             }
            },
            "type": "scattergeo"
           }
          ],
          "scattergl": [
           {
            "marker": {
             "colorbar": {
              "outlinewidth": 0,
              "ticks": ""
             }
            },
            "type": "scattergl"
           }
          ],
          "scattermap": [
           {
            "marker": {
             "colorbar": {
              "outlinewidth": 0,
              "ticks": ""
             }
            },
            "type": "scattermap"
           }
          ],
          "scattermapbox": [
           {
            "marker": {
             "colorbar": {
              "outlinewidth": 0,
              "ticks": ""
             }
            },
            "type": "scattermapbox"
           }
          ],
          "scatterpolar": [
           {
            "marker": {
             "colorbar": {
              "outlinewidth": 0,
              "ticks": ""
             }
            },
            "type": "scatterpolar"
           }
          ],
          "scatterpolargl": [
           {
            "marker": {
             "colorbar": {
              "outlinewidth": 0,
              "ticks": ""
             }
            },
            "type": "scatterpolargl"
           }
          ],
          "scatterternary": [
           {
            "marker": {
             "colorbar": {
              "outlinewidth": 0,
              "ticks": ""
             }
            },
            "type": "scatterternary"
           }
          ],
          "surface": [
           {
            "colorbar": {
             "outlinewidth": 0,
             "ticks": ""
            },
            "colorscale": [
             [
              0,
              "#0d0887"
             ],
             [
              0.1111111111111111,
              "#46039f"
             ],
             [
              0.2222222222222222,
              "#7201a8"
             ],
             [
              0.3333333333333333,
              "#9c179e"
             ],
             [
              0.4444444444444444,
              "#bd3786"
             ],
             [
              0.5555555555555556,
              "#d8576b"
             ],
             [
              0.6666666666666666,
              "#ed7953"
             ],
             [
              0.7777777777777778,
              "#fb9f3a"
             ],
             [
              0.8888888888888888,
              "#fdca26"
             ],
             [
              1,
              "#f0f921"
             ]
            ],
            "type": "surface"
           }
          ],
          "table": [
           {
            "cells": {
             "fill": {
              "color": "#EBF0F8"
             },
             "line": {
              "color": "white"
             }
            },
            "header": {
             "fill": {
              "color": "#C8D4E3"
             },
             "line": {
              "color": "white"
             }
            },
            "type": "table"
           }
          ]
         },
         "layout": {
          "annotationdefaults": {
           "arrowcolor": "#2a3f5f",
           "arrowhead": 0,
           "arrowwidth": 1
          },
          "autotypenumbers": "strict",
          "coloraxis": {
           "colorbar": {
            "outlinewidth": 0,
            "ticks": ""
           }
          },
          "colorscale": {
           "diverging": [
            [
             0,
             "#8e0152"
            ],
            [
             0.1,
             "#c51b7d"
            ],
            [
             0.2,
             "#de77ae"
            ],
            [
             0.3,
             "#f1b6da"
            ],
            [
             0.4,
             "#fde0ef"
            ],
            [
             0.5,
             "#f7f7f7"
            ],
            [
             0.6,
             "#e6f5d0"
            ],
            [
             0.7,
             "#b8e186"
            ],
            [
             0.8,
             "#7fbc41"
            ],
            [
             0.9,
             "#4d9221"
            ],
            [
             1,
             "#276419"
            ]
           ],
           "sequential": [
            [
             0,
             "#0d0887"
            ],
            [
             0.1111111111111111,
             "#46039f"
            ],
            [
             0.2222222222222222,
             "#7201a8"
            ],
            [
             0.3333333333333333,
             "#9c179e"
            ],
            [
             0.4444444444444444,
             "#bd3786"
            ],
            [
             0.5555555555555556,
             "#d8576b"
            ],
            [
             0.6666666666666666,
             "#ed7953"
            ],
            [
             0.7777777777777778,
             "#fb9f3a"
            ],
            [
             0.8888888888888888,
             "#fdca26"
            ],
            [
             1,
             "#f0f921"
            ]
           ],
           "sequentialminus": [
            [
             0,
             "#0d0887"
            ],
            [
             0.1111111111111111,
             "#46039f"
            ],
            [
             0.2222222222222222,
             "#7201a8"
            ],
            [
             0.3333333333333333,
             "#9c179e"
            ],
            [
             0.4444444444444444,
             "#bd3786"
            ],
            [
             0.5555555555555556,
             "#d8576b"
            ],
            [
             0.6666666666666666,
             "#ed7953"
            ],
            [
             0.7777777777777778,
             "#fb9f3a"
            ],
            [
             0.8888888888888888,
             "#fdca26"
            ],
            [
             1,
             "#f0f921"
            ]
           ]
          },
          "colorway": [
           "#636efa",
           "#EF553B",
           "#00cc96",
           "#ab63fa",
           "#FFA15A",
           "#19d3f3",
           "#FF6692",
           "#B6E880",
           "#FF97FF",
           "#FECB52"
          ],
          "font": {
           "color": "#2a3f5f"
          },
          "geo": {
           "bgcolor": "white",
           "lakecolor": "white",
           "landcolor": "#E5ECF6",
           "showlakes": true,
           "showland": true,
           "subunitcolor": "white"
          },
          "hoverlabel": {
           "align": "left"
          },
          "hovermode": "closest",
          "mapbox": {
           "style": "light"
          },
          "paper_bgcolor": "white",
          "plot_bgcolor": "#E5ECF6",
          "polar": {
           "angularaxis": {
            "gridcolor": "white",
            "linecolor": "white",
            "ticks": ""
           },
           "bgcolor": "#E5ECF6",
           "radialaxis": {
            "gridcolor": "white",
            "linecolor": "white",
            "ticks": ""
           }
          },
          "scene": {
           "xaxis": {
            "backgroundcolor": "#E5ECF6",
            "gridcolor": "white",
            "gridwidth": 2,
            "linecolor": "white",
            "showbackground": true,
            "ticks": "",
            "zerolinecolor": "white"
           },
           "yaxis": {
            "backgroundcolor": "#E5ECF6",
            "gridcolor": "white",
            "gridwidth": 2,
            "linecolor": "white",
            "showbackground": true,
            "ticks": "",
            "zerolinecolor": "white"
           },
           "zaxis": {
            "backgroundcolor": "#E5ECF6",
            "gridcolor": "white",
            "gridwidth": 2,
            "linecolor": "white",
            "showbackground": true,
            "ticks": "",
            "zerolinecolor": "white"
           }
          },
          "shapedefaults": {
           "line": {
            "color": "#2a3f5f"
           }
          },
          "ternary": {
           "aaxis": {
            "gridcolor": "white",
            "linecolor": "white",
            "ticks": ""
           },
           "baxis": {
            "gridcolor": "white",
            "linecolor": "white",
            "ticks": ""
           },
           "bgcolor": "#E5ECF6",
           "caxis": {
            "gridcolor": "white",
            "linecolor": "white",
            "ticks": ""
           }
          },
          "title": {
           "x": 0.05
          },
          "xaxis": {
           "automargin": true,
           "gridcolor": "white",
           "linecolor": "white",
           "ticks": "",
           "title": {
            "standoff": 15
           },
           "zerolinecolor": "white",
           "zerolinewidth": 2
          },
          "yaxis": {
           "automargin": true,
           "gridcolor": "white",
           "linecolor": "white",
           "ticks": "",
           "title": {
            "standoff": 15
           },
           "zerolinecolor": "white",
           "zerolinewidth": 2
          }
         }
        },
        "title": {
         "text": "Temperature Difference (T-T0) - Training Snapshots - Parameter Space 03"
        },
        "xaxis": {
         "tickformat": ".2e",
         "title": {
          "text": "Time [s]"
         }
        },
        "yaxis": {
         "tickformat": ".2f",
         "title": {
          "text": "Temperature [K]"
         }
        }
       }
      }
     },
     "metadata": {},
     "output_type": "display_data"
    }
   ],
   "source": [
    "N_SNAPS = len(temperatures_diff)\n",
    "colors = px.colors.sample_colorscale(\"jet\", [n/(N_SNAPS) for n in range(N_SNAPS)])\n",
    "\n",
    "fig = go.Figure()\n",
    "for idx_snap, temperature_array in enumerate(temperatures_diff):\n",
    "# customdata=np.stack(([t_h] * len(comsol_data.times), [host_k] * len(comsol_data.times)) , axis=-1),\n",
    "    input_args = {'x' : list(comsol_data.times.values()),\n",
    "                #   'customdata' : customdata,\n",
    "                #   'hovertemplate' : \"Time: %{x:.2e}<br>Temperature: %{y:.2f}<br>T_h: %{customdata[0]:.2f}<br><br>host_k: %{customdata[1]:.2e}<br>\",\n",
    "                    'legendgroup' : f\"{idx_snap:03d}\",\n",
    "                    'name' : f\"{idx_snap:03d}\",\n",
    "                    'line' : dict(color=colors[idx_snap]),\n",
    "                    'opacity': 0.4}\n",
    "    fig.add_trace(go.Scatter(y=np.max(temperature_array, axis=1), **input_args)) \n",
    "    fig.add_trace(go.Scatter(y=np.min(temperature_array, axis=1), **input_args)) \n",
    "\n",
    "fig.update_layout(\n",
    "    xaxis_tickformat='.2e',  # Format x-axis numbers to 2 decimal places\n",
    "    yaxis_tickformat='.2f',  # Format y-axis numbers to 2 decimal places\n",
    "    showlegend=False,        # Hide the legend\n",
    "    title_text=f'Temperature Difference (T-T0) - {DATA_TYPE} Snapshots - Parameter Space {PARAMETER_SPACE}', # title of plot\n",
    "    xaxis_title=\"Time [s]\",    # Optional: label for x-axis\n",
    "    yaxis_title=\"Temperature [K]\"     # Optional: label for y-axis\n",
    ")\n",
    "fig.write_image(export_folder / f\"{DATA_TYPE}_MinMaxTemperatures.png\")\n",
    "fig.show()\n"
   ]
  },
  {
   "cell_type": "markdown",
   "metadata": {},
   "source": [
    "### Simulation Time"
   ]
  },
  {
   "cell_type": "code",
   "execution_count": 21,
   "metadata": {},
   "outputs": [
    {
     "data": {
      "application/vnd.plotly.v1+json": {
       "config": {
        "plotlyServerURL": "https://plot.ly"
       },
       "data": [
        {
         "histnorm": "percent",
         "marker": {
          "color": "#EB89B5"
         },
         "name": "control",
         "opacity": 0.75,
         "texttemplate": "%{x}",
         "type": "histogram",
         "x": {
          "bdata": "ZmZmdNqcNUAzMzMwop0wQM3MzLPrJjFAZmZm5b/XPEBmZmYVIbI1QCIiIgcKDzJAREREoL9aM0AzMzPT+1MvQERERGvGrjlAiYiIkPEAN0AiIiKQ16s2QO/u7tnwIDhAERERgMBVPkCamZnUmrNBQJqZmWTmfjxAd3d3hY6YM0CamZkl5HExQAAAAPCXDjNA3t3dIyCENUCJiIjCiSw7QERERBlxbDRAIiIieQ2POkAzMzM5fKE2QImIiAo08zJARERE3oE3P0AAAABET00xQFVVVX01bzZA7+7uvxhnNEB3d3cBndw0QJqZmbK8fjNA7+7utGpxNkDe3d0zaUQyQFVVVfVNnjpAVVVVAyJdNkBVVVV91I40QM3MzPz51i9AzczMGfaPMkAAAAB68Xs0QERERJ13QDRAzczMLZ7hPkARERHMCs80QBERETnF9DRAMzMzTcH6MUB3d3dtJawvQKuqqjIsQkBAzczM1pmMM0BERESrpKg3QO/u7hEp/zdAZmZmwBw0NEAiIqIOU31BQHd3d9drFTRAiYiIFg7DM0BVVVUWAIY0QHd3d3rHnDhAAAAAyksvQUAzMzMC0/EzQLy7u9PrbzFAZmZm1jl+N0CJiIjkCYk6QM3MzIPqzDRAREREk9tFOUCamZkBiYcvQDMzM1opJjVAd3d3pSwuMkDe3d11tbQ2QAAAAEv6GjlAvLu7XML+NEDv7u7mtjY3QBEREYAEwzRA3t3dGHKFMUBVVVVbmmwyQCIiInxjOzlAVVVVCNoQPEARERGXddc9QERERP5RuS9A3t3dNjxkOUCrqqpUvNYyQGZmZhuW8DJAq6qqY90tN0BERET/uGkwQN7d3bHldTFAd3d3wV8xM0AzMzOaiHszQFVVVe9QEDJAd3d3M6cxMkAAAAAAvDgzQImIiCbihDRAAAAAzjcZMECrqqoTppAwQFVVVWAjHTFAd3d3EKe8NECamZm3xm09QCIiIoV5TzlAzczMdnAdMEAzMzNyl9k2QFVVVZfjUDdAMzMzCfWXNUBmZiZdKBZQQHd3dwm64z1AiYiIyjyhNkA=",
          "dtype": "f8",
          "shape": "100, 1"
         },
         "xbins": {
          "size": 2
         }
        }
       ],
       "layout": {
        "bargroupgap": 0.1,
        "template": {
         "data": {
          "bar": [
           {
            "error_x": {
             "color": "#2a3f5f"
            },
            "error_y": {
             "color": "#2a3f5f"
            },
            "marker": {
             "line": {
              "color": "#E5ECF6",
              "width": 0.5
             },
             "pattern": {
              "fillmode": "overlay",
              "size": 10,
              "solidity": 0.2
             }
            },
            "type": "bar"
           }
          ],
          "barpolar": [
           {
            "marker": {
             "line": {
              "color": "#E5ECF6",
              "width": 0.5
             },
             "pattern": {
              "fillmode": "overlay",
              "size": 10,
              "solidity": 0.2
             }
            },
            "type": "barpolar"
           }
          ],
          "carpet": [
           {
            "aaxis": {
             "endlinecolor": "#2a3f5f",
             "gridcolor": "white",
             "linecolor": "white",
             "minorgridcolor": "white",
             "startlinecolor": "#2a3f5f"
            },
            "baxis": {
             "endlinecolor": "#2a3f5f",
             "gridcolor": "white",
             "linecolor": "white",
             "minorgridcolor": "white",
             "startlinecolor": "#2a3f5f"
            },
            "type": "carpet"
           }
          ],
          "choropleth": [
           {
            "colorbar": {
             "outlinewidth": 0,
             "ticks": ""
            },
            "type": "choropleth"
           }
          ],
          "contour": [
           {
            "colorbar": {
             "outlinewidth": 0,
             "ticks": ""
            },
            "colorscale": [
             [
              0,
              "#0d0887"
             ],
             [
              0.1111111111111111,
              "#46039f"
             ],
             [
              0.2222222222222222,
              "#7201a8"
             ],
             [
              0.3333333333333333,
              "#9c179e"
             ],
             [
              0.4444444444444444,
              "#bd3786"
             ],
             [
              0.5555555555555556,
              "#d8576b"
             ],
             [
              0.6666666666666666,
              "#ed7953"
             ],
             [
              0.7777777777777778,
              "#fb9f3a"
             ],
             [
              0.8888888888888888,
              "#fdca26"
             ],
             [
              1,
              "#f0f921"
             ]
            ],
            "type": "contour"
           }
          ],
          "contourcarpet": [
           {
            "colorbar": {
             "outlinewidth": 0,
             "ticks": ""
            },
            "type": "contourcarpet"
           }
          ],
          "heatmap": [
           {
            "colorbar": {
             "outlinewidth": 0,
             "ticks": ""
            },
            "colorscale": [
             [
              0,
              "#0d0887"
             ],
             [
              0.1111111111111111,
              "#46039f"
             ],
             [
              0.2222222222222222,
              "#7201a8"
             ],
             [
              0.3333333333333333,
              "#9c179e"
             ],
             [
              0.4444444444444444,
              "#bd3786"
             ],
             [
              0.5555555555555556,
              "#d8576b"
             ],
             [
              0.6666666666666666,
              "#ed7953"
             ],
             [
              0.7777777777777778,
              "#fb9f3a"
             ],
             [
              0.8888888888888888,
              "#fdca26"
             ],
             [
              1,
              "#f0f921"
             ]
            ],
            "type": "heatmap"
           }
          ],
          "histogram": [
           {
            "marker": {
             "pattern": {
              "fillmode": "overlay",
              "size": 10,
              "solidity": 0.2
             }
            },
            "type": "histogram"
           }
          ],
          "histogram2d": [
           {
            "colorbar": {
             "outlinewidth": 0,
             "ticks": ""
            },
            "colorscale": [
             [
              0,
              "#0d0887"
             ],
             [
              0.1111111111111111,
              "#46039f"
             ],
             [
              0.2222222222222222,
              "#7201a8"
             ],
             [
              0.3333333333333333,
              "#9c179e"
             ],
             [
              0.4444444444444444,
              "#bd3786"
             ],
             [
              0.5555555555555556,
              "#d8576b"
             ],
             [
              0.6666666666666666,
              "#ed7953"
             ],
             [
              0.7777777777777778,
              "#fb9f3a"
             ],
             [
              0.8888888888888888,
              "#fdca26"
             ],
             [
              1,
              "#f0f921"
             ]
            ],
            "type": "histogram2d"
           }
          ],
          "histogram2dcontour": [
           {
            "colorbar": {
             "outlinewidth": 0,
             "ticks": ""
            },
            "colorscale": [
             [
              0,
              "#0d0887"
             ],
             [
              0.1111111111111111,
              "#46039f"
             ],
             [
              0.2222222222222222,
              "#7201a8"
             ],
             [
              0.3333333333333333,
              "#9c179e"
             ],
             [
              0.4444444444444444,
              "#bd3786"
             ],
             [
              0.5555555555555556,
              "#d8576b"
             ],
             [
              0.6666666666666666,
              "#ed7953"
             ],
             [
              0.7777777777777778,
              "#fb9f3a"
             ],
             [
              0.8888888888888888,
              "#fdca26"
             ],
             [
              1,
              "#f0f921"
             ]
            ],
            "type": "histogram2dcontour"
           }
          ],
          "mesh3d": [
           {
            "colorbar": {
             "outlinewidth": 0,
             "ticks": ""
            },
            "type": "mesh3d"
           }
          ],
          "parcoords": [
           {
            "line": {
             "colorbar": {
              "outlinewidth": 0,
              "ticks": ""
             }
            },
            "type": "parcoords"
           }
          ],
          "pie": [
           {
            "automargin": true,
            "type": "pie"
           }
          ],
          "scatter": [
           {
            "fillpattern": {
             "fillmode": "overlay",
             "size": 10,
             "solidity": 0.2
            },
            "type": "scatter"
           }
          ],
          "scatter3d": [
           {
            "line": {
             "colorbar": {
              "outlinewidth": 0,
              "ticks": ""
             }
            },
            "marker": {
             "colorbar": {
              "outlinewidth": 0,
              "ticks": ""
             }
            },
            "type": "scatter3d"
           }
          ],
          "scattercarpet": [
           {
            "marker": {
             "colorbar": {
              "outlinewidth": 0,
              "ticks": ""
             }
            },
            "type": "scattercarpet"
           }
          ],
          "scattergeo": [
           {
            "marker": {
             "colorbar": {
              "outlinewidth": 0,
              "ticks": ""
             }
            },
            "type": "scattergeo"
           }
          ],
          "scattergl": [
           {
            "marker": {
             "colorbar": {
              "outlinewidth": 0,
              "ticks": ""
             }
            },
            "type": "scattergl"
           }
          ],
          "scattermap": [
           {
            "marker": {
             "colorbar": {
              "outlinewidth": 0,
              "ticks": ""
             }
            },
            "type": "scattermap"
           }
          ],
          "scattermapbox": [
           {
            "marker": {
             "colorbar": {
              "outlinewidth": 0,
              "ticks": ""
             }
            },
            "type": "scattermapbox"
           }
          ],
          "scatterpolar": [
           {
            "marker": {
             "colorbar": {
              "outlinewidth": 0,
              "ticks": ""
             }
            },
            "type": "scatterpolar"
           }
          ],
          "scatterpolargl": [
           {
            "marker": {
             "colorbar": {
              "outlinewidth": 0,
              "ticks": ""
             }
            },
            "type": "scatterpolargl"
           }
          ],
          "scatterternary": [
           {
            "marker": {
             "colorbar": {
              "outlinewidth": 0,
              "ticks": ""
             }
            },
            "type": "scatterternary"
           }
          ],
          "surface": [
           {
            "colorbar": {
             "outlinewidth": 0,
             "ticks": ""
            },
            "colorscale": [
             [
              0,
              "#0d0887"
             ],
             [
              0.1111111111111111,
              "#46039f"
             ],
             [
              0.2222222222222222,
              "#7201a8"
             ],
             [
              0.3333333333333333,
              "#9c179e"
             ],
             [
              0.4444444444444444,
              "#bd3786"
             ],
             [
              0.5555555555555556,
              "#d8576b"
             ],
             [
              0.6666666666666666,
              "#ed7953"
             ],
             [
              0.7777777777777778,
              "#fb9f3a"
             ],
             [
              0.8888888888888888,
              "#fdca26"
             ],
             [
              1,
              "#f0f921"
             ]
            ],
            "type": "surface"
           }
          ],
          "table": [
           {
            "cells": {
             "fill": {
              "color": "#EBF0F8"
             },
             "line": {
              "color": "white"
             }
            },
            "header": {
             "fill": {
              "color": "#C8D4E3"
             },
             "line": {
              "color": "white"
             }
            },
            "type": "table"
           }
          ]
         },
         "layout": {
          "annotationdefaults": {
           "arrowcolor": "#2a3f5f",
           "arrowhead": 0,
           "arrowwidth": 1
          },
          "autotypenumbers": "strict",
          "coloraxis": {
           "colorbar": {
            "outlinewidth": 0,
            "ticks": ""
           }
          },
          "colorscale": {
           "diverging": [
            [
             0,
             "#8e0152"
            ],
            [
             0.1,
             "#c51b7d"
            ],
            [
             0.2,
             "#de77ae"
            ],
            [
             0.3,
             "#f1b6da"
            ],
            [
             0.4,
             "#fde0ef"
            ],
            [
             0.5,
             "#f7f7f7"
            ],
            [
             0.6,
             "#e6f5d0"
            ],
            [
             0.7,
             "#b8e186"
            ],
            [
             0.8,
             "#7fbc41"
            ],
            [
             0.9,
             "#4d9221"
            ],
            [
             1,
             "#276419"
            ]
           ],
           "sequential": [
            [
             0,
             "#0d0887"
            ],
            [
             0.1111111111111111,
             "#46039f"
            ],
            [
             0.2222222222222222,
             "#7201a8"
            ],
            [
             0.3333333333333333,
             "#9c179e"
            ],
            [
             0.4444444444444444,
             "#bd3786"
            ],
            [
             0.5555555555555556,
             "#d8576b"
            ],
            [
             0.6666666666666666,
             "#ed7953"
            ],
            [
             0.7777777777777778,
             "#fb9f3a"
            ],
            [
             0.8888888888888888,
             "#fdca26"
            ],
            [
             1,
             "#f0f921"
            ]
           ],
           "sequentialminus": [
            [
             0,
             "#0d0887"
            ],
            [
             0.1111111111111111,
             "#46039f"
            ],
            [
             0.2222222222222222,
             "#7201a8"
            ],
            [
             0.3333333333333333,
             "#9c179e"
            ],
            [
             0.4444444444444444,
             "#bd3786"
            ],
            [
             0.5555555555555556,
             "#d8576b"
            ],
            [
             0.6666666666666666,
             "#ed7953"
            ],
            [
             0.7777777777777778,
             "#fb9f3a"
            ],
            [
             0.8888888888888888,
             "#fdca26"
            ],
            [
             1,
             "#f0f921"
            ]
           ]
          },
          "colorway": [
           "#636efa",
           "#EF553B",
           "#00cc96",
           "#ab63fa",
           "#FFA15A",
           "#19d3f3",
           "#FF6692",
           "#B6E880",
           "#FF97FF",
           "#FECB52"
          ],
          "font": {
           "color": "#2a3f5f"
          },
          "geo": {
           "bgcolor": "white",
           "lakecolor": "white",
           "landcolor": "#E5ECF6",
           "showlakes": true,
           "showland": true,
           "subunitcolor": "white"
          },
          "hoverlabel": {
           "align": "left"
          },
          "hovermode": "closest",
          "mapbox": {
           "style": "light"
          },
          "paper_bgcolor": "white",
          "plot_bgcolor": "#E5ECF6",
          "polar": {
           "angularaxis": {
            "gridcolor": "white",
            "linecolor": "white",
            "ticks": ""
           },
           "bgcolor": "#E5ECF6",
           "radialaxis": {
            "gridcolor": "white",
            "linecolor": "white",
            "ticks": ""
           }
          },
          "scene": {
           "xaxis": {
            "backgroundcolor": "#E5ECF6",
            "gridcolor": "white",
            "gridwidth": 2,
            "linecolor": "white",
            "showbackground": true,
            "ticks": "",
            "zerolinecolor": "white"
           },
           "yaxis": {
            "backgroundcolor": "#E5ECF6",
            "gridcolor": "white",
            "gridwidth": 2,
            "linecolor": "white",
            "showbackground": true,
            "ticks": "",
            "zerolinecolor": "white"
           },
           "zaxis": {
            "backgroundcolor": "#E5ECF6",
            "gridcolor": "white",
            "gridwidth": 2,
            "linecolor": "white",
            "showbackground": true,
            "ticks": "",
            "zerolinecolor": "white"
           }
          },
          "shapedefaults": {
           "line": {
            "color": "#2a3f5f"
           }
          },
          "ternary": {
           "aaxis": {
            "gridcolor": "white",
            "linecolor": "white",
            "ticks": ""
           },
           "baxis": {
            "gridcolor": "white",
            "linecolor": "white",
            "ticks": ""
           },
           "bgcolor": "#E5ECF6",
           "caxis": {
            "gridcolor": "white",
            "linecolor": "white",
            "ticks": ""
           }
          },
          "title": {
           "x": 0.05
          },
          "xaxis": {
           "automargin": true,
           "gridcolor": "white",
           "linecolor": "white",
           "ticks": "",
           "title": {
            "standoff": 15
           },
           "zerolinecolor": "white",
           "zerolinewidth": 2
          },
          "yaxis": {
           "automargin": true,
           "gridcolor": "white",
           "linecolor": "white",
           "ticks": "",
           "title": {
            "standoff": 15
           },
           "zerolinecolor": "white",
           "zerolinewidth": 2
          }
         }
        },
        "title": {
         "text": "Simulation Time - Training Snapshots - Parameter Space 03"
        },
        "xaxis": {
         "title": {
          "text": "Time [min]"
         }
        },
        "yaxis": {
         "title": {
          "text": "Count"
         }
        }
       }
      }
     },
     "metadata": {},
     "output_type": "display_data"
    }
   ],
   "source": [
    "fig = go.Figure(data=[go.Histogram(\n",
    "    x=sim_times / 60,\n",
    "    histnorm='percent',\n",
    "    name='control', # name used in legend and hover labels\n",
    "    xbins=dict( # bins used for histogram\n",
    "        # start=-4.0,\n",
    "        # end=3.0,\n",
    "        size=2,\n",
    "        ),\n",
    "    marker_color='#EB89B5',\n",
    "    opacity=0.75,\n",
    "     texttemplate=\"%{x}\"\n",
    "    )])\n",
    "\n",
    "fig.update_layout(\n",
    "    title_text=f'Simulation Time - {DATA_TYPE} Snapshots - Parameter Space {PARAMETER_SPACE}', # title of plot\n",
    "    xaxis_title_text='Time [min]', # xaxis label\n",
    "    yaxis_title_text='Count', # yaxis label\n",
    "    bargroupgap=0.1, # gap between bars of the same location coordinates\n",
    ")\n",
    "fig.write_image(export_folder / f\"{DATA_TYPE}_SimulationTime.png\")\n",
    "fig.show()\n"
   ]
  },
  {
   "cell_type": "markdown",
   "metadata": {},
   "source": [
    "## Calculate Entropy\n"
   ]
  },
  {
   "cell_type": "code",
   "execution_count": 29,
   "metadata": {},
   "outputs": [],
   "source": [
    "IS_LOAD_VTU = True"
   ]
  },
  {
   "cell_type": "code",
   "execution_count": 21,
   "metadata": {},
   "outputs": [
    {
     "data": {
      "text/plain": [
       "[PosixPath('/Users/thomassimader/Documents/NIRB/data/03/Exports/Training_000_parameters.csv'),\n",
       " PosixPath('/Users/thomassimader/Documents/NIRB/data/03/Exports/Training_001_parameters.csv'),\n",
       " PosixPath('/Users/thomassimader/Documents/NIRB/data/03/Exports/Training_002_parameters.csv'),\n",
       " PosixPath('/Users/thomassimader/Documents/NIRB/data/03/Exports/Training_003_parameters.csv'),\n",
       " PosixPath('/Users/thomassimader/Documents/NIRB/data/03/Exports/Training_004_parameters.csv'),\n",
       " PosixPath('/Users/thomassimader/Documents/NIRB/data/03/Exports/Training_005_parameters.csv'),\n",
       " PosixPath('/Users/thomassimader/Documents/NIRB/data/03/Exports/Training_006_parameters.csv'),\n",
       " PosixPath('/Users/thomassimader/Documents/NIRB/data/03/Exports/Training_007_parameters.csv'),\n",
       " PosixPath('/Users/thomassimader/Documents/NIRB/data/03/Exports/Training_008_parameters.csv'),\n",
       " PosixPath('/Users/thomassimader/Documents/NIRB/data/03/Exports/Training_009_parameters.csv'),\n",
       " PosixPath('/Users/thomassimader/Documents/NIRB/data/03/Exports/Training_010_parameters.csv'),\n",
       " PosixPath('/Users/thomassimader/Documents/NIRB/data/03/Exports/Training_011_parameters.csv'),\n",
       " PosixPath('/Users/thomassimader/Documents/NIRB/data/03/Exports/Training_012_parameters.csv'),\n",
       " PosixPath('/Users/thomassimader/Documents/NIRB/data/03/Exports/Training_013_parameters.csv'),\n",
       " PosixPath('/Users/thomassimader/Documents/NIRB/data/03/Exports/Training_014_parameters.csv'),\n",
       " PosixPath('/Users/thomassimader/Documents/NIRB/data/03/Exports/Training_015_parameters.csv'),\n",
       " PosixPath('/Users/thomassimader/Documents/NIRB/data/03/Exports/Training_016_parameters.csv'),\n",
       " PosixPath('/Users/thomassimader/Documents/NIRB/data/03/Exports/Training_017_parameters.csv'),\n",
       " PosixPath('/Users/thomassimader/Documents/NIRB/data/03/Exports/Training_018_parameters.csv'),\n",
       " PosixPath('/Users/thomassimader/Documents/NIRB/data/03/Exports/Training_019_parameters.csv'),\n",
       " PosixPath('/Users/thomassimader/Documents/NIRB/data/03/Exports/Training_020_parameters.csv'),\n",
       " PosixPath('/Users/thomassimader/Documents/NIRB/data/03/Exports/Training_021_parameters.csv'),\n",
       " PosixPath('/Users/thomassimader/Documents/NIRB/data/03/Exports/Training_022_parameters.csv'),\n",
       " PosixPath('/Users/thomassimader/Documents/NIRB/data/03/Exports/Training_023_parameters.csv'),\n",
       " PosixPath('/Users/thomassimader/Documents/NIRB/data/03/Exports/Training_024_parameters.csv'),\n",
       " PosixPath('/Users/thomassimader/Documents/NIRB/data/03/Exports/Training_025_parameters.csv'),\n",
       " PosixPath('/Users/thomassimader/Documents/NIRB/data/03/Exports/Training_026_parameters.csv'),\n",
       " PosixPath('/Users/thomassimader/Documents/NIRB/data/03/Exports/Training_027_parameters.csv'),\n",
       " PosixPath('/Users/thomassimader/Documents/NIRB/data/03/Exports/Training_028_parameters.csv'),\n",
       " PosixPath('/Users/thomassimader/Documents/NIRB/data/03/Exports/Training_029_parameters.csv'),\n",
       " PosixPath('/Users/thomassimader/Documents/NIRB/data/03/Exports/Training_030_parameters.csv'),\n",
       " PosixPath('/Users/thomassimader/Documents/NIRB/data/03/Exports/Training_031_parameters.csv'),\n",
       " PosixPath('/Users/thomassimader/Documents/NIRB/data/03/Exports/Training_032_parameters.csv'),\n",
       " PosixPath('/Users/thomassimader/Documents/NIRB/data/03/Exports/Training_033_parameters.csv'),\n",
       " PosixPath('/Users/thomassimader/Documents/NIRB/data/03/Exports/Training_034_parameters.csv'),\n",
       " PosixPath('/Users/thomassimader/Documents/NIRB/data/03/Exports/Training_035_parameters.csv'),\n",
       " PosixPath('/Users/thomassimader/Documents/NIRB/data/03/Exports/Training_036_parameters.csv'),\n",
       " PosixPath('/Users/thomassimader/Documents/NIRB/data/03/Exports/Training_037_parameters.csv'),\n",
       " PosixPath('/Users/thomassimader/Documents/NIRB/data/03/Exports/Training_038_parameters.csv'),\n",
       " PosixPath('/Users/thomassimader/Documents/NIRB/data/03/Exports/Training_039_parameters.csv'),\n",
       " PosixPath('/Users/thomassimader/Documents/NIRB/data/03/Exports/Training_040_parameters.csv'),\n",
       " PosixPath('/Users/thomassimader/Documents/NIRB/data/03/Exports/Training_041_parameters.csv'),\n",
       " PosixPath('/Users/thomassimader/Documents/NIRB/data/03/Exports/Training_042_parameters.csv'),\n",
       " PosixPath('/Users/thomassimader/Documents/NIRB/data/03/Exports/Training_043_parameters.csv'),\n",
       " PosixPath('/Users/thomassimader/Documents/NIRB/data/03/Exports/Training_044_parameters.csv'),\n",
       " PosixPath('/Users/thomassimader/Documents/NIRB/data/03/Exports/Training_045_parameters.csv'),\n",
       " PosixPath('/Users/thomassimader/Documents/NIRB/data/03/Exports/Training_046_parameters.csv'),\n",
       " PosixPath('/Users/thomassimader/Documents/NIRB/data/03/Exports/Training_047_parameters.csv'),\n",
       " PosixPath('/Users/thomassimader/Documents/NIRB/data/03/Exports/Training_048_parameters.csv'),\n",
       " PosixPath('/Users/thomassimader/Documents/NIRB/data/03/Exports/Training_049_parameters.csv'),\n",
       " PosixPath('/Users/thomassimader/Documents/NIRB/data/03/Exports/Training_050_parameters.csv'),\n",
       " PosixPath('/Users/thomassimader/Documents/NIRB/data/03/Exports/Training_051_parameters.csv'),\n",
       " PosixPath('/Users/thomassimader/Documents/NIRB/data/03/Exports/Training_052_parameters.csv'),\n",
       " PosixPath('/Users/thomassimader/Documents/NIRB/data/03/Exports/Training_053_parameters.csv'),\n",
       " PosixPath('/Users/thomassimader/Documents/NIRB/data/03/Exports/Training_054_parameters.csv'),\n",
       " PosixPath('/Users/thomassimader/Documents/NIRB/data/03/Exports/Training_055_parameters.csv'),\n",
       " PosixPath('/Users/thomassimader/Documents/NIRB/data/03/Exports/Training_056_parameters.csv'),\n",
       " PosixPath('/Users/thomassimader/Documents/NIRB/data/03/Exports/Training_057_parameters.csv'),\n",
       " PosixPath('/Users/thomassimader/Documents/NIRB/data/03/Exports/Training_058_parameters.csv'),\n",
       " PosixPath('/Users/thomassimader/Documents/NIRB/data/03/Exports/Training_059_parameters.csv'),\n",
       " PosixPath('/Users/thomassimader/Documents/NIRB/data/03/Exports/Training_060_parameters.csv'),\n",
       " PosixPath('/Users/thomassimader/Documents/NIRB/data/03/Exports/Training_061_parameters.csv'),\n",
       " PosixPath('/Users/thomassimader/Documents/NIRB/data/03/Exports/Training_062_parameters.csv'),\n",
       " PosixPath('/Users/thomassimader/Documents/NIRB/data/03/Exports/Training_063_parameters.csv'),\n",
       " PosixPath('/Users/thomassimader/Documents/NIRB/data/03/Exports/Training_064_parameters.csv'),\n",
       " PosixPath('/Users/thomassimader/Documents/NIRB/data/03/Exports/Training_065_parameters.csv'),\n",
       " PosixPath('/Users/thomassimader/Documents/NIRB/data/03/Exports/Training_066_parameters.csv'),\n",
       " PosixPath('/Users/thomassimader/Documents/NIRB/data/03/Exports/Training_067_parameters.csv'),\n",
       " PosixPath('/Users/thomassimader/Documents/NIRB/data/03/Exports/Training_068_parameters.csv'),\n",
       " PosixPath('/Users/thomassimader/Documents/NIRB/data/03/Exports/Training_069_parameters.csv'),\n",
       " PosixPath('/Users/thomassimader/Documents/NIRB/data/03/Exports/Training_070_parameters.csv'),\n",
       " PosixPath('/Users/thomassimader/Documents/NIRB/data/03/Exports/Training_071_parameters.csv'),\n",
       " PosixPath('/Users/thomassimader/Documents/NIRB/data/03/Exports/Training_072_parameters.csv'),\n",
       " PosixPath('/Users/thomassimader/Documents/NIRB/data/03/Exports/Training_073_parameters.csv'),\n",
       " PosixPath('/Users/thomassimader/Documents/NIRB/data/03/Exports/Training_074_parameters.csv'),\n",
       " PosixPath('/Users/thomassimader/Documents/NIRB/data/03/Exports/Training_075_parameters.csv'),\n",
       " PosixPath('/Users/thomassimader/Documents/NIRB/data/03/Exports/Training_076_parameters.csv'),\n",
       " PosixPath('/Users/thomassimader/Documents/NIRB/data/03/Exports/Training_077_parameters.csv'),\n",
       " PosixPath('/Users/thomassimader/Documents/NIRB/data/03/Exports/Training_078_parameters.csv'),\n",
       " PosixPath('/Users/thomassimader/Documents/NIRB/data/03/Exports/Training_079_parameters.csv'),\n",
       " PosixPath('/Users/thomassimader/Documents/NIRB/data/03/Exports/Training_080_parameters.csv'),\n",
       " PosixPath('/Users/thomassimader/Documents/NIRB/data/03/Exports/Training_081_parameters.csv'),\n",
       " PosixPath('/Users/thomassimader/Documents/NIRB/data/03/Exports/Training_082_parameters.csv'),\n",
       " PosixPath('/Users/thomassimader/Documents/NIRB/data/03/Exports/Training_083_parameters.csv'),\n",
       " PosixPath('/Users/thomassimader/Documents/NIRB/data/03/Exports/Training_084_parameters.csv'),\n",
       " PosixPath('/Users/thomassimader/Documents/NIRB/data/03/Exports/Training_085_parameters.csv'),\n",
       " PosixPath('/Users/thomassimader/Documents/NIRB/data/03/Exports/Training_086_parameters.csv'),\n",
       " PosixPath('/Users/thomassimader/Documents/NIRB/data/03/Exports/Training_087_parameters.csv'),\n",
       " PosixPath('/Users/thomassimader/Documents/NIRB/data/03/Exports/Training_088_parameters.csv'),\n",
       " PosixPath('/Users/thomassimader/Documents/NIRB/data/03/Exports/Training_089_parameters.csv'),\n",
       " PosixPath('/Users/thomassimader/Documents/NIRB/data/03/Exports/Training_090_parameters.csv'),\n",
       " PosixPath('/Users/thomassimader/Documents/NIRB/data/03/Exports/Training_091_parameters.csv'),\n",
       " PosixPath('/Users/thomassimader/Documents/NIRB/data/03/Exports/Training_092_parameters.csv'),\n",
       " PosixPath('/Users/thomassimader/Documents/NIRB/data/03/Exports/Training_093_parameters.csv'),\n",
       " PosixPath('/Users/thomassimader/Documents/NIRB/data/03/Exports/Training_094_parameters.csv'),\n",
       " PosixPath('/Users/thomassimader/Documents/NIRB/data/03/Exports/Training_095_parameters.csv'),\n",
       " PosixPath('/Users/thomassimader/Documents/NIRB/data/03/Exports/Training_096_parameters.csv'),\n",
       " PosixPath('/Users/thomassimader/Documents/NIRB/data/03/Exports/Training_097_parameters.csv'),\n",
       " PosixPath('/Users/thomassimader/Documents/NIRB/data/03/Exports/Training_098_parameters.csv'),\n",
       " PosixPath('/Users/thomassimader/Documents/NIRB/data/03/Exports/Training_099_parameters.csv')]"
      ]
     },
     "execution_count": 21,
     "metadata": {},
     "output_type": "execute_result"
    }
   ],
   "source": [
    "param_folder = ROOT / \"data\" / PARAMETER_SPACE / \"Exports\"\n",
    "param_files = sorted([path for path in param_folder.rglob(f\"{DATA_TYPE}*.csv\")])\n",
    "param_files"
   ]
  },
  {
   "cell_type": "code",
   "execution_count": 22,
   "metadata": {},
   "outputs": [
    {
     "data": {
      "text/plain": [
       "Index(['quantity'], dtype='object')"
      ]
     },
     "execution_count": 22,
     "metadata": {},
     "output_type": "execute_result"
    }
   ],
   "source": [
    "df = pd.read_csv(param_files[0], index_col = 0)\n",
    "df.columns"
   ]
  },
  {
   "cell_type": "code",
   "execution_count": 23,
   "metadata": {},
   "outputs": [
    {
     "data": {
      "application/vnd.microsoft.datawrangler.viewer.v0+json": {
       "columns": [
        {
         "name": "index",
         "rawType": "object",
         "type": "string"
        },
        {
         "name": "quantity",
         "rawType": "object",
         "type": "string"
        },
        {
         "name": "quantity_pint",
         "rawType": "object",
         "type": "unknown"
        }
       ],
       "conversionMethod": "pd.DataFrame",
       "ref": "41c57c45-ce67-48ba-bc24-24e9f3f4bad1",
       "rows": [
        [
         "aspect_ratio_dip",
         "1.0 dimensionless",
         "1.0 dimensionless"
        ],
        [
         "aspect_ratio_strike",
         "1.25 dimensionless",
         "1.25 dimensionless"
        ],
        [
         "beta",
         "0.00059 / kelvin",
         "0.00059 / kelvin"
        ],
        [
         "dip",
         "1.1135200627723822 radian",
         "1.1135200627723822 radian"
        ],
        [
         "fault_Cp",
         "800.0 meter ** 2 / kelvin / second ** 2",
         "800.0 meter ** 2 / kelvin / second ** 2"
        ],
        [
         "fault_k_long",
         "1.5e-13 meter ** 2",
         "1.5e-13 meter ** 2"
        ],
        [
         "fault_k_trans",
         "1.5e-13 meter ** 2",
         "1.5e-13 meter ** 2"
        ],
        [
         "fault_lambda",
         "2.0 kilogram * meter / kelvin / second ** 3",
         "2.0 kilogram * meter / kelvin / second ** 3"
        ],
        [
         "fault_phi",
         "0.3 dimensionless",
         "0.3 dimensionless"
        ],
        [
         "fault_rho",
         "2500.0 kilogram / meter ** 3",
         "2500.0 kilogram / meter ** 3"
        ],
        [
         "fault_width",
         "50.0 meter",
         "50.0 meter"
        ],
        [
         "H",
         "4000.0 meter",
         "4000.0 meter"
        ],
        [
         "host_alpha",
         "0.7 dimensionless",
         "0.7 dimensionless"
        ],
        [
         "host_Cp",
         "800.0 meter ** 2 / kelvin / second ** 2",
         "800.0 meter ** 2 / kelvin / second ** 2"
        ],
        [
         "host_E",
         "30000000000.0 kilogram / meter / second ** 2",
         "30000000000.0 kilogram / meter / second ** 2"
        ],
        [
         "host_heat_gen_rate",
         "5e-07 kilogram / meter / second ** 3",
         "5e-07 kilogram / meter / second ** 3"
        ],
        [
         "host_k",
         "1e-18 meter ** 2",
         "1e-18 meter ** 2"
        ],
        [
         "host_lambda",
         "2.0 kilogram * meter / kelvin / second ** 3",
         "2.0 kilogram * meter / kelvin / second ** 3"
        ],
        [
         "host_phi",
         "0.001 dimensionless",
         "0.001 dimensionless"
        ],
        [
         "host_poisson",
         "0.25 dimensionless",
         "0.25 dimensionless"
        ],
        [
         "host_rho",
         "2500.0 kilogram / meter ** 3",
         "2500.0 kilogram / meter ** 3"
        ],
        [
         "lambda_ref",
         "4.1 kilogram * meter / kelvin / second ** 3",
         "4.1 kilogram * meter / kelvin / second ** 3"
        ],
        [
         "max_size_fault",
         "80.0 meter",
         "80.0 meter"
        ],
        [
         "max_t_step",
         "500000000000.0 second",
         "500000000000.0 second"
        ],
        [
         "mu0",
         "0.00117 kilogram / meter / second",
         "0.00117 kilogram / meter / second"
        ],
        [
         "rho0",
         "1022.38 kilogram / meter ** 3",
         "1022.38 kilogram / meter ** 3"
        ],
        [
         "SH_dir",
         "0.0 radian",
         "0.0 radian"
        ],
        [
         "Sh_grad",
         "15000.0 kilogram / meter ** 2 / second ** 2",
         "15000.0 kilogram / meter ** 2 / second ** 2"
        ],
        [
         "SH_grad",
         "20000.0 kilogram / meter ** 2 / second ** 2",
         "20000.0 kilogram / meter ** 2 / second ** 2"
        ],
        [
         "strike",
         "1.5707963267948966 radian",
         "1.5707963267948966 radian"
        ],
        [
         "Sv_grad",
         "host_rho*g_const",
         null
        ],
        [
         "T_c",
         "293.15 kelvin",
         "293.15 kelvin"
        ],
        [
         "t_end",
         "35000000000000.0 second",
         "35000000000000.0 second"
        ],
        [
         "T_h",
         "493.15 kelvin",
         "493.15 kelvin"
        ],
        [
         "T_v",
         "62.1 kelvin",
         "62.1 kelvin"
        ],
        [
         "Tgrad",
         "(T_h-T_c)/H",
         null
        ],
        [
         "theta0",
         "1.0 dimensionless",
         "1.0 dimensionless"
        ]
       ],
       "shape": {
        "columns": 2,
        "rows": 37
       }
      },
      "text/html": [
       "<div>\n",
       "<style scoped>\n",
       "    .dataframe tbody tr th:only-of-type {\n",
       "        vertical-align: middle;\n",
       "    }\n",
       "\n",
       "    .dataframe tbody tr th {\n",
       "        vertical-align: top;\n",
       "    }\n",
       "\n",
       "    .dataframe thead th {\n",
       "        text-align: right;\n",
       "    }\n",
       "</style>\n",
       "<table border=\"1\" class=\"dataframe\">\n",
       "  <thead>\n",
       "    <tr style=\"text-align: right;\">\n",
       "      <th></th>\n",
       "      <th>quantity</th>\n",
       "      <th>quantity_pint</th>\n",
       "    </tr>\n",
       "  </thead>\n",
       "  <tbody>\n",
       "    <tr>\n",
       "      <th>aspect_ratio_dip</th>\n",
       "      <td>1.0 dimensionless</td>\n",
       "      <td>1.0 dimensionless</td>\n",
       "    </tr>\n",
       "    <tr>\n",
       "      <th>aspect_ratio_strike</th>\n",
       "      <td>1.25 dimensionless</td>\n",
       "      <td>1.25 dimensionless</td>\n",
       "    </tr>\n",
       "    <tr>\n",
       "      <th>beta</th>\n",
       "      <td>0.00059 / kelvin</td>\n",
       "      <td>0.00059 / kelvin</td>\n",
       "    </tr>\n",
       "    <tr>\n",
       "      <th>dip</th>\n",
       "      <td>1.1135200627723822 radian</td>\n",
       "      <td>1.1135200627723822 radian</td>\n",
       "    </tr>\n",
       "    <tr>\n",
       "      <th>fault_Cp</th>\n",
       "      <td>800.0 meter ** 2 / kelvin / second ** 2</td>\n",
       "      <td>800.0 meter ** 2 / kelvin / second ** 2</td>\n",
       "    </tr>\n",
       "    <tr>\n",
       "      <th>fault_k_long</th>\n",
       "      <td>1.5e-13 meter ** 2</td>\n",
       "      <td>1.5e-13 meter ** 2</td>\n",
       "    </tr>\n",
       "    <tr>\n",
       "      <th>fault_k_trans</th>\n",
       "      <td>1.5e-13 meter ** 2</td>\n",
       "      <td>1.5e-13 meter ** 2</td>\n",
       "    </tr>\n",
       "    <tr>\n",
       "      <th>fault_lambda</th>\n",
       "      <td>2.0 kilogram * meter / kelvin / second ** 3</td>\n",
       "      <td>2.0 kilogram * meter / kelvin / second ** 3</td>\n",
       "    </tr>\n",
       "    <tr>\n",
       "      <th>fault_phi</th>\n",
       "      <td>0.3 dimensionless</td>\n",
       "      <td>0.3 dimensionless</td>\n",
       "    </tr>\n",
       "    <tr>\n",
       "      <th>fault_rho</th>\n",
       "      <td>2500.0 kilogram / meter ** 3</td>\n",
       "      <td>2500.0 kilogram / meter ** 3</td>\n",
       "    </tr>\n",
       "    <tr>\n",
       "      <th>fault_width</th>\n",
       "      <td>50.0 meter</td>\n",
       "      <td>50.0 meter</td>\n",
       "    </tr>\n",
       "    <tr>\n",
       "      <th>H</th>\n",
       "      <td>4000.0 meter</td>\n",
       "      <td>4000.0 meter</td>\n",
       "    </tr>\n",
       "    <tr>\n",
       "      <th>host_alpha</th>\n",
       "      <td>0.7 dimensionless</td>\n",
       "      <td>0.7 dimensionless</td>\n",
       "    </tr>\n",
       "    <tr>\n",
       "      <th>host_Cp</th>\n",
       "      <td>800.0 meter ** 2 / kelvin / second ** 2</td>\n",
       "      <td>800.0 meter ** 2 / kelvin / second ** 2</td>\n",
       "    </tr>\n",
       "    <tr>\n",
       "      <th>host_E</th>\n",
       "      <td>30000000000.0 kilogram / meter / second ** 2</td>\n",
       "      <td>30000000000.0 kilogram / meter / second ** 2</td>\n",
       "    </tr>\n",
       "    <tr>\n",
       "      <th>host_heat_gen_rate</th>\n",
       "      <td>5e-07 kilogram / meter / second ** 3</td>\n",
       "      <td>5e-07 kilogram / meter / second ** 3</td>\n",
       "    </tr>\n",
       "    <tr>\n",
       "      <th>host_k</th>\n",
       "      <td>1e-18 meter ** 2</td>\n",
       "      <td>1e-18 meter ** 2</td>\n",
       "    </tr>\n",
       "    <tr>\n",
       "      <th>host_lambda</th>\n",
       "      <td>2.0 kilogram * meter / kelvin / second ** 3</td>\n",
       "      <td>2.0 kilogram * meter / kelvin / second ** 3</td>\n",
       "    </tr>\n",
       "    <tr>\n",
       "      <th>host_phi</th>\n",
       "      <td>0.001 dimensionless</td>\n",
       "      <td>0.001 dimensionless</td>\n",
       "    </tr>\n",
       "    <tr>\n",
       "      <th>host_poisson</th>\n",
       "      <td>0.25 dimensionless</td>\n",
       "      <td>0.25 dimensionless</td>\n",
       "    </tr>\n",
       "    <tr>\n",
       "      <th>host_rho</th>\n",
       "      <td>2500.0 kilogram / meter ** 3</td>\n",
       "      <td>2500.0 kilogram / meter ** 3</td>\n",
       "    </tr>\n",
       "    <tr>\n",
       "      <th>lambda_ref</th>\n",
       "      <td>4.1 kilogram * meter / kelvin / second ** 3</td>\n",
       "      <td>4.1 kilogram * meter / kelvin / second ** 3</td>\n",
       "    </tr>\n",
       "    <tr>\n",
       "      <th>max_size_fault</th>\n",
       "      <td>80.0 meter</td>\n",
       "      <td>80.0 meter</td>\n",
       "    </tr>\n",
       "    <tr>\n",
       "      <th>max_t_step</th>\n",
       "      <td>500000000000.0 second</td>\n",
       "      <td>500000000000.0 second</td>\n",
       "    </tr>\n",
       "    <tr>\n",
       "      <th>mu0</th>\n",
       "      <td>0.00117 kilogram / meter / second</td>\n",
       "      <td>0.00117 kilogram / meter / second</td>\n",
       "    </tr>\n",
       "    <tr>\n",
       "      <th>rho0</th>\n",
       "      <td>1022.38 kilogram / meter ** 3</td>\n",
       "      <td>1022.38 kilogram / meter ** 3</td>\n",
       "    </tr>\n",
       "    <tr>\n",
       "      <th>SH_dir</th>\n",
       "      <td>0.0 radian</td>\n",
       "      <td>0.0 radian</td>\n",
       "    </tr>\n",
       "    <tr>\n",
       "      <th>Sh_grad</th>\n",
       "      <td>15000.0 kilogram / meter ** 2 / second ** 2</td>\n",
       "      <td>15000.0 kilogram / meter ** 2 / second ** 2</td>\n",
       "    </tr>\n",
       "    <tr>\n",
       "      <th>SH_grad</th>\n",
       "      <td>20000.0 kilogram / meter ** 2 / second ** 2</td>\n",
       "      <td>20000.0 kilogram / meter ** 2 / second ** 2</td>\n",
       "    </tr>\n",
       "    <tr>\n",
       "      <th>strike</th>\n",
       "      <td>1.5707963267948966 radian</td>\n",
       "      <td>1.5707963267948966 radian</td>\n",
       "    </tr>\n",
       "    <tr>\n",
       "      <th>Sv_grad</th>\n",
       "      <td>host_rho*g_const</td>\n",
       "      <td>NaN</td>\n",
       "    </tr>\n",
       "    <tr>\n",
       "      <th>T_c</th>\n",
       "      <td>293.15 kelvin</td>\n",
       "      <td>293.15 kelvin</td>\n",
       "    </tr>\n",
       "    <tr>\n",
       "      <th>t_end</th>\n",
       "      <td>35000000000000.0 second</td>\n",
       "      <td>35000000000000.0 second</td>\n",
       "    </tr>\n",
       "    <tr>\n",
       "      <th>T_h</th>\n",
       "      <td>493.15 kelvin</td>\n",
       "      <td>493.15 kelvin</td>\n",
       "    </tr>\n",
       "    <tr>\n",
       "      <th>T_v</th>\n",
       "      <td>62.1 kelvin</td>\n",
       "      <td>62.1 kelvin</td>\n",
       "    </tr>\n",
       "    <tr>\n",
       "      <th>Tgrad</th>\n",
       "      <td>(T_h-T_c)/H</td>\n",
       "      <td>NaN</td>\n",
       "    </tr>\n",
       "    <tr>\n",
       "      <th>theta0</th>\n",
       "      <td>1.0 dimensionless</td>\n",
       "      <td>1.0 dimensionless</td>\n",
       "    </tr>\n",
       "  </tbody>\n",
       "</table>\n",
       "</div>"
      ],
      "text/plain": [
       "                                                         quantity  \\\n",
       "aspect_ratio_dip                                1.0 dimensionless   \n",
       "aspect_ratio_strike                            1.25 dimensionless   \n",
       "beta                                             0.00059 / kelvin   \n",
       "dip                                     1.1135200627723822 radian   \n",
       "fault_Cp                  800.0 meter ** 2 / kelvin / second ** 2   \n",
       "fault_k_long                                   1.5e-13 meter ** 2   \n",
       "fault_k_trans                                  1.5e-13 meter ** 2   \n",
       "fault_lambda          2.0 kilogram * meter / kelvin / second ** 3   \n",
       "fault_phi                                       0.3 dimensionless   \n",
       "fault_rho                            2500.0 kilogram / meter ** 3   \n",
       "fault_width                                            50.0 meter   \n",
       "H                                                    4000.0 meter   \n",
       "host_alpha                                      0.7 dimensionless   \n",
       "host_Cp                   800.0 meter ** 2 / kelvin / second ** 2   \n",
       "host_E               30000000000.0 kilogram / meter / second ** 2   \n",
       "host_heat_gen_rate           5e-07 kilogram / meter / second ** 3   \n",
       "host_k                                           1e-18 meter ** 2   \n",
       "host_lambda           2.0 kilogram * meter / kelvin / second ** 3   \n",
       "host_phi                                      0.001 dimensionless   \n",
       "host_poisson                                   0.25 dimensionless   \n",
       "host_rho                             2500.0 kilogram / meter ** 3   \n",
       "lambda_ref            4.1 kilogram * meter / kelvin / second ** 3   \n",
       "max_size_fault                                         80.0 meter   \n",
       "max_t_step                                  500000000000.0 second   \n",
       "mu0                             0.00117 kilogram / meter / second   \n",
       "rho0                                1022.38 kilogram / meter ** 3   \n",
       "SH_dir                                                 0.0 radian   \n",
       "Sh_grad               15000.0 kilogram / meter ** 2 / second ** 2   \n",
       "SH_grad               20000.0 kilogram / meter ** 2 / second ** 2   \n",
       "strike                                  1.5707963267948966 radian   \n",
       "Sv_grad                                          host_rho*g_const   \n",
       "T_c                                                 293.15 kelvin   \n",
       "t_end                                     35000000000000.0 second   \n",
       "T_h                                                 493.15 kelvin   \n",
       "T_v                                                   62.1 kelvin   \n",
       "Tgrad                                                 (T_h-T_c)/H   \n",
       "theta0                                          1.0 dimensionless   \n",
       "\n",
       "                                                    quantity_pint  \n",
       "aspect_ratio_dip                                1.0 dimensionless  \n",
       "aspect_ratio_strike                            1.25 dimensionless  \n",
       "beta                                             0.00059 / kelvin  \n",
       "dip                                     1.1135200627723822 radian  \n",
       "fault_Cp                  800.0 meter ** 2 / kelvin / second ** 2  \n",
       "fault_k_long                                   1.5e-13 meter ** 2  \n",
       "fault_k_trans                                  1.5e-13 meter ** 2  \n",
       "fault_lambda          2.0 kilogram * meter / kelvin / second ** 3  \n",
       "fault_phi                                       0.3 dimensionless  \n",
       "fault_rho                            2500.0 kilogram / meter ** 3  \n",
       "fault_width                                            50.0 meter  \n",
       "H                                                    4000.0 meter  \n",
       "host_alpha                                      0.7 dimensionless  \n",
       "host_Cp                   800.0 meter ** 2 / kelvin / second ** 2  \n",
       "host_E               30000000000.0 kilogram / meter / second ** 2  \n",
       "host_heat_gen_rate           5e-07 kilogram / meter / second ** 3  \n",
       "host_k                                           1e-18 meter ** 2  \n",
       "host_lambda           2.0 kilogram * meter / kelvin / second ** 3  \n",
       "host_phi                                      0.001 dimensionless  \n",
       "host_poisson                                   0.25 dimensionless  \n",
       "host_rho                             2500.0 kilogram / meter ** 3  \n",
       "lambda_ref            4.1 kilogram * meter / kelvin / second ** 3  \n",
       "max_size_fault                                         80.0 meter  \n",
       "max_t_step                                  500000000000.0 second  \n",
       "mu0                             0.00117 kilogram / meter / second  \n",
       "rho0                                1022.38 kilogram / meter ** 3  \n",
       "SH_dir                                                 0.0 radian  \n",
       "Sh_grad               15000.0 kilogram / meter ** 2 / second ** 2  \n",
       "SH_grad               20000.0 kilogram / meter ** 2 / second ** 2  \n",
       "strike                                  1.5707963267948966 radian  \n",
       "Sv_grad                                                       NaN  \n",
       "T_c                                                 293.15 kelvin  \n",
       "t_end                                     35000000000000.0 second  \n",
       "T_h                                                 493.15 kelvin  \n",
       "T_v                                                   62.1 kelvin  \n",
       "Tgrad                                                         NaN  \n",
       "theta0                                          1.0 dimensionless  "
      ]
     },
     "execution_count": 23,
     "metadata": {},
     "output_type": "execute_result"
    }
   ],
   "source": [
    "ureg = pint.UnitRegistry()\n",
    "df['quantity_pint'] = df[df.columns[-1]].apply(lambda x : safe_parse_quantity(x, ureg))\n",
    "df"
   ]
  },
  {
   "cell_type": "code",
   "execution_count": 24,
   "metadata": {},
   "outputs": [
    {
     "name": "stdout",
     "output_type": "stream",
     "text": [
      "lambda_therm=2.0022\n",
      "T0=<Quantity(393.15, 'kelvin')>\n",
      "delta_T=<Quantity(200.0, 'kelvin')>\n"
     ]
    }
   ],
   "source": [
    "lambda_therm = (1 - df.loc['host_phi', \"quantity_pint\"]).magnitude * df.loc['host_lambda', \"quantity_pint\"].magnitude + \\\n",
    "                df.loc['host_phi', \"quantity_pint\"].magnitude * (4.2)\n",
    "T0 = 0.5 * (df.loc[\"T_h\", \"quantity_pint\"] + (20 + 273.15) * ureg.kelvin)\n",
    "delta_T = (df.loc['T_h', \"quantity_pint\"] - (20 + 273.15) * ureg.kelvin)\n",
    "print(f\"{lambda_therm=}\")\n",
    "print(f\"{T0=}\")\n",
    "print(f\"{delta_T=}\")"
   ]
  },
  {
   "cell_type": "code",
   "execution_count": 27,
   "metadata": {},
   "outputs": [
    {
     "data": {
      "text/plain": [
       "array([[493.15      , 493.15      , 493.15      , ..., 317.55592015,\n",
       "        293.15      , 293.15      ],\n",
       "       [493.15      , 493.15      , 493.15      , ..., 319.10988491,\n",
       "        293.15      , 293.15      ],\n",
       "       [493.15      , 493.15      , 493.15      , ..., 320.25638182,\n",
       "        293.15      , 293.15      ],\n",
       "       ...,\n",
       "       [493.15      , 493.15      , 493.15      , ..., 320.69927982,\n",
       "        293.15      , 293.15      ],\n",
       "       [493.15      , 493.15      , 493.15      , ..., 320.69927981,\n",
       "        293.15      , 293.15      ],\n",
       "       [493.15      , 493.15      , 493.15      , ..., 320.69927981,\n",
       "        293.15      , 293.15      ]], shape=(36, 19505))"
      ]
     },
     "execution_count": 27,
     "metadata": {},
     "output_type": "execute_result"
    }
   ],
   "source": [
    "temperatures[0]"
   ]
  },
  {
   "cell_type": "code",
   "execution_count": null,
   "metadata": {},
   "outputs": [
    {
     "name": "stderr",
     "output_type": "stream",
     "text": [
      "  1%|          | 1/100 [00:00<01:24,  1.17it/s]\n"
     ]
    },
    {
     "ename": "ValueError",
     "evalue": "Invalid array shape. Array 'temp_field' has length (19610) but a length of (19505) was expected.",
     "output_type": "error",
     "traceback": [
      "\u001b[31m---------------------------------------------------------------------------\u001b[39m",
      "\u001b[31mValueError\u001b[39m                                Traceback (most recent call last)",
      "\u001b[36mCell\u001b[39m\u001b[36m \u001b[39m\u001b[32mIn[28]\u001b[39m\u001b[32m, line 17\u001b[39m\n\u001b[32m     15\u001b[39m \u001b[38;5;28;01melse\u001b[39;00m: \u001b[38;5;66;03m#IS_LOAD_JOBLIB:\u001b[39;00m\n\u001b[32m     16\u001b[39m     temp_data = temperatures[idx_snap][idx_time, :]\n\u001b[32m---> \u001b[39m\u001b[32m17\u001b[39m \u001b[43mcomsol_data\u001b[49m\u001b[43m.\u001b[49m\u001b[43mmesh\u001b[49m\u001b[43m.\u001b[49m\u001b[43mpoint_data\u001b[49m\u001b[43m[\u001b[49m\u001b[33;43m\"\u001b[39;49m\u001b[33;43mtemp_field\u001b[39;49m\u001b[33;43m\"\u001b[39;49m\u001b[43m]\u001b[49m = temp_data\n\u001b[32m     18\u001b[39m cell_mesh = comsol_data.mesh.point_data_to_cell_data()\n\u001b[32m     19\u001b[39m cell_mesh.cell_data.keys()\n",
      "\u001b[36mFile \u001b[39m\u001b[32m~/Documents/NIRB/.venv/lib/python3.12/site-packages/pyvista/core/datasetattributes.py:257\u001b[39m, in \u001b[36mDataSetAttributes.__setitem__\u001b[39m\u001b[34m(self, key, value)\u001b[39m\n\u001b[32m    254\u001b[39m     \u001b[38;5;28;01mraise\u001b[39;00m \u001b[38;5;167;01mTypeError\u001b[39;00m(msg)\n\u001b[32m    256\u001b[39m has_arr = key \u001b[38;5;129;01min\u001b[39;00m \u001b[38;5;28mself\u001b[39m\n\u001b[32m--> \u001b[39m\u001b[32m257\u001b[39m \u001b[38;5;28;43mself\u001b[39;49m\u001b[43m.\u001b[49m\u001b[43mset_array\u001b[49m\u001b[43m(\u001b[49m\u001b[43mvalue\u001b[49m\u001b[43m,\u001b[49m\u001b[43m \u001b[49m\u001b[43mname\u001b[49m\u001b[43m=\u001b[49m\u001b[43mkey\u001b[49m\u001b[43m)\u001b[49m\n\u001b[32m    259\u001b[39m \u001b[38;5;66;03m# do not make array active if it already exists.  This covers\u001b[39;00m\n\u001b[32m    260\u001b[39m \u001b[38;5;66;03m# an inplace update like self.point_data[key] += 1\u001b[39;00m\n\u001b[32m    261\u001b[39m \u001b[38;5;28;01mif\u001b[39;00m has_arr:\n",
      "\u001b[36mFile \u001b[39m\u001b[32m~/Documents/NIRB/.venv/lib/python3.12/site-packages/pyvista/core/datasetattributes.py:622\u001b[39m, in \u001b[36mDataSetAttributes.set_array\u001b[39m\u001b[34m(self, data, name, deep_copy)\u001b[39m\n\u001b[32m    619\u001b[39m     msg = \u001b[33m'\u001b[39m\u001b[33m`name` must be a string\u001b[39m\u001b[33m'\u001b[39m  \u001b[38;5;66;03m# type: ignore[unreachable]\u001b[39;00m\n\u001b[32m    620\u001b[39m     \u001b[38;5;28;01mraise\u001b[39;00m \u001b[38;5;167;01mTypeError\u001b[39;00m(msg)\n\u001b[32m--> \u001b[39m\u001b[32m622\u001b[39m vtk_arr = \u001b[38;5;28;43mself\u001b[39;49m\u001b[43m.\u001b[49m\u001b[43m_prepare_array\u001b[49m\u001b[43m(\u001b[49m\u001b[43mdata\u001b[49m\u001b[43m,\u001b[49m\u001b[43m \u001b[49m\u001b[43mname\u001b[49m\u001b[43m,\u001b[49m\u001b[43m \u001b[49m\u001b[43mdeep_copy\u001b[49m\u001b[43m)\u001b[49m\n\u001b[32m    623\u001b[39m \u001b[38;5;28mself\u001b[39m.VTKObject.AddArray(vtk_arr)\n\u001b[32m    624\u001b[39m \u001b[38;5;28mself\u001b[39m.VTKObject.Modified()\n",
      "\u001b[36mFile \u001b[39m\u001b[32m~/Documents/NIRB/.venv/lib/python3.12/site-packages/pyvista/core/datasetattributes.py:796\u001b[39m, in \u001b[36mDataSetAttributes._prepare_array\u001b[39m\u001b[34m(self, data, name, deep_copy)\u001b[39m\n\u001b[32m    794\u001b[39m \u001b[38;5;28;01mif\u001b[39;00m data.shape[\u001b[32m0\u001b[39m] != array_len:\n\u001b[32m    795\u001b[39m     msg = \u001b[33mf\u001b[39m\u001b[33m\"\u001b[39m\u001b[33mInvalid array shape. Array \u001b[39m\u001b[33m'\u001b[39m\u001b[38;5;132;01m{\u001b[39;00mname\u001b[38;5;132;01m}\u001b[39;00m\u001b[33m'\u001b[39m\u001b[33m has length (\u001b[39m\u001b[38;5;132;01m{\u001b[39;00mdata.shape[\u001b[32m0\u001b[39m]\u001b[38;5;132;01m}\u001b[39;00m\u001b[33m) but a length of (\u001b[39m\u001b[38;5;132;01m{\u001b[39;00marray_len\u001b[38;5;132;01m}\u001b[39;00m\u001b[33m) was expected.\u001b[39m\u001b[33m\"\u001b[39m\n\u001b[32m--> \u001b[39m\u001b[32m796\u001b[39m     \u001b[38;5;28;01mraise\u001b[39;00m \u001b[38;5;167;01mValueError\u001b[39;00m(msg)\n\u001b[32m    797\u001b[39m \u001b[38;5;28;01mif\u001b[39;00m \u001b[38;5;28many\u001b[39m(data.shape) \u001b[38;5;129;01mand\u001b[39;00m data.size == \u001b[32m0\u001b[39m:\n\u001b[32m    798\u001b[39m     msg = \u001b[33mf\u001b[39m\u001b[33m\"\u001b[39m\u001b[33mInvalid array shape. Empty arrays are not allowed. Array \u001b[39m\u001b[33m'\u001b[39m\u001b[38;5;132;01m{\u001b[39;00mname\u001b[38;5;132;01m}\u001b[39;00m\u001b[33m'\u001b[39m\u001b[33m cannot have shape \u001b[39m\u001b[38;5;132;01m{\u001b[39;00mdata.shape\u001b[38;5;132;01m}\u001b[39;00m\u001b[33m.\u001b[39m\u001b[33m\"\u001b[39m\n",
      "\u001b[31mValueError\u001b[39m: Invalid array shape. Array 'temp_field' has length (19610) but a length of (19505) was expected."
     ]
    }
   ],
   "source": [
    "comsol_data_ref  = COMSOL_VTU( ROOT / \"data\" / PARAMETER_SPACE / \"Training_Original\" / f\"{DATA_TYPE}_000.vtu\")\n",
    "comsol_data  = comsol_data_ref #COMSOL_VTU(import_folder / \"Training_000_s50_50_50_b50_3950_50_4950_-3950_0.vti\")\n",
    "\n",
    "if not IS_LOAD_VTU:\n",
    "    N_SNAPS = len(temperatures_diff)\n",
    "    N_TIME_STEPS = len(comsol_data_ref.times)\n",
    "    entropy_gen_unit = np.zeros((N_SNAPS, N_TIME_STEPS))\n",
    "    entropy_gen_number = np.zeros_like(entropy_gen_unit)\n",
    "    comsol_data.mesh.clear_point_data()\n",
    "\n",
    "    for idx_snap in tqdm(range(N_SNAPS), total = N_SNAPS):\n",
    "        for idx_time in range(N_TIME_STEPS):\n",
    "            comsol_data.mesh.point_data[\"temp_field\"] = temperatures[idx_snap, idx_time, :]\n",
    "            cell_mesh = comsol_data.mesh.point_data_to_cell_data()\n",
    "            cell_mesh.cell_data.keys()\n",
    "            temp_grad = cell_mesh.compute_derivative(\"temp_field\").cell_data[\"gradient\"]\n",
    "            s0 = calculate_S_therm(lambda_therm,\n",
    "                            T0.magnitude,\n",
    "                            temp_grad)\n",
    "            s0_total = np.sum(s0 * comsol_data.mesh.compute_cell_sizes()[\"Volume\"])\n",
    "            L = comsol_data.mesh.bounds.z_max - comsol_data.mesh.bounds.z_min\n",
    "            s0_characteristic = (lambda_therm * delta_T.magnitude**2) / (L**2 * T0.magnitude**2)\n",
    "            entropy_number = s0_total / s0_characteristic / comsol_data.mesh.volume \n",
    "            entropy_gen_unit[idx_snap, idx_time] = s0_total\n",
    "            entropy_gen_number[idx_snap, idx_time] = entropy_number"
   ]
  },
  {
   "cell_type": "code",
   "execution_count": 31,
   "metadata": {},
   "outputs": [
    {
     "name": "stderr",
     "output_type": "stream",
     "text": [
      "100%|██████████| 100/100 [01:50<00:00,  1.11s/it]\n"
     ]
    }
   ],
   "source": [
    "if IS_LOAD_VTU:\n",
    "    vtu_files = sorted([path for path in import_folder.iterdir() if (path.suffix in [\".vtu\"] and DATA_TYPE.lower() in path.stem.lower())])\n",
    "    N_SNAPS = len(vtu_files)\n",
    "    N_TIME_STEPS = len(COMSOL_VTU( vtu_files[0]).times)\n",
    "    entropy_gen_unit = np.zeros((N_SNAPS, N_TIME_STEPS))\n",
    "    entropy_gen_number = np.zeros_like(entropy_gen_unit)\n",
    "    comsol_data.mesh.clear_point_data()\n",
    "\n",
    "    for idx_snap, vtu_file in tqdm(enumerate(vtu_files), total = len(vtu_files)): # TODO: Include TQDM\n",
    "            comsol_data = COMSOL_VTU(vtu_file)\n",
    "            comsol_data = delete_comsol_fields(comsol_data, fields_2_keep=[\"Temperature\"])\n",
    "            cell_mesh = comsol_data.mesh.point_data_to_cell_data()\n",
    "            for idx_time, time_key in enumerate(comsol_data.times.keys()):\n",
    "                field_name = comsol_data.format_field(field_name=\"Temperature\", time=time_key)\n",
    "                temp_grad = cell_mesh.compute_derivative(field_name).cell_data[\"gradient\"]\n",
    "                s0 = calculate_S_therm(lambda_therm,\n",
    "                                    T0.magnitude,\n",
    "                                    temp_grad)\n",
    "                s0_total = np.sum(s0 * comsol_data.mesh.compute_cell_sizes()[\"Volume\"])\n",
    "                L = comsol_data.mesh.bounds.z_max - comsol_data.mesh.bounds.z_min\n",
    "                s0_characteristic = (lambda_therm * delta_T.magnitude**2) / (L**2 * T0.magnitude**2)\n",
    "                entropy_number = s0_total / s0_characteristic / comsol_data.mesh.volume \n",
    "                entropy_gen_unit[idx_snap, idx_time] = s0_total\n",
    "                entropy_gen_number[idx_snap, idx_time] = entropy_number"
   ]
  },
  {
   "cell_type": "code",
   "execution_count": 32,
   "metadata": {},
   "outputs": [],
   "source": [
    "np.save(export_folder / \"entropy_gen_unit.npy\", entropy_gen_unit)\n",
    "np.save(export_folder / \"entropy_gen_number.npy\", entropy_gen_number)"
   ]
  },
  {
   "cell_type": "markdown",
   "metadata": {},
   "source": [
    "### Plot entropy generation"
   ]
  },
  {
   "cell_type": "code",
   "execution_count": 33,
   "metadata": {},
   "outputs": [
    {
     "data": {
      "application/vnd.plotly.v1+json": {
       "config": {
        "plotlyServerURL": "https://plot.ly"
       },
       "data": [
        {
         "line": {
          "color": "rgb(0, 0, 131)"
         },
         "mode": "lines",
         "name": "000",
         "opacity": 0.4,
         "type": "scatter",
         "x": [
          0,
          1000000000000,
          2000000000000,
          3000000000000,
          4000000000000,
          5000000000000,
          6000000000000,
          7000000000000,
          8000000000000,
          9000000000000,
          10000000000000,
          11000000000000,
          12000000000000,
          13000000000000,
          14000000000000,
          15000000000000,
          16000000000000,
          17000000000000,
          18000000000000,
          19000000000000,
          20000000000000,
          21000000000000,
          22000000000000,
          23000000000000,
          24000000000000,
          25000000000000,
          26000000000000,
          27000000000000,
          28000000000000,
          29000000000000,
          30000000000000,
          31000000000000,
          32000000000000,
          33000000000000,
          34000000000000,
          35000000000000
         ],
         "y": {
          "bdata": "yj+F7YY5o0CcGlV4mEenQMV2oo8MX6dAoi1nO3lrp0DG3Pffkm+nQDVGTVzJcKdAegvZQSZxp0AQ8NRxPXGnQKZyLdJDcadARDyY70Nxp0C7v3rfQ3GnQJ53KtZDcadALp/H2ENxp0AMx2TbQ3GnQDnvAd5DcadA7Z7q3UNxp0D8hWXdQ3GnQDRt4NxDcadA+qJ53ENxp0Bt/kfcQ3GnQBBaFtxDcadA4bXk20Nxp0D2LIDbQ3GnQI+SE9tDcadARPim2kNxp0BEIWPaQ3GnQOLFZtpDcadAi2pq2kNxp0BCD27aQ3GnQBNoi9pDcadAGdSs2kNxp0AmQM7aQ3GnQC0V8dpDcadANmMW20Nxp0BCsTvbQ3GnQFL/YNtDcadA",
          "dtype": "f8"
         }
        },
        {
         "line": {
          "color": "rgb(0, 3, 133)"
         },
         "mode": "lines",
         "name": "001",
         "opacity": 0.4,
         "type": "scatter",
         "x": [
          0,
          1000000000000,
          2000000000000,
          3000000000000,
          4000000000000,
          5000000000000,
          6000000000000,
          7000000000000,
          8000000000000,
          9000000000000,
          10000000000000,
          11000000000000,
          12000000000000,
          13000000000000,
          14000000000000,
          15000000000000,
          16000000000000,
          17000000000000,
          18000000000000,
          19000000000000,
          20000000000000,
          21000000000000,
          22000000000000,
          23000000000000,
          24000000000000,
          25000000000000,
          26000000000000,
          27000000000000,
          28000000000000,
          29000000000000,
          30000000000000,
          31000000000000,
          32000000000000,
          33000000000000,
          34000000000000,
          35000000000000
         ],
         "y": {
          "bdata": "6rKrfgsvo0Cc51ZuIhCnQGhrr4pIJqdArEq1K40xp0A9r436KzWnQHLZgRVDNqdAjh4TnZU2p0BqYvbJqjanQKqyBCWwNqdAQH0CUrA2p0BuC7pNsDanQKB97UywNqdA2KujTrA2p0A65VlQsDanQEB68FGwNqdALjcgUrA2p0Ds9E9SsDanQHuzf1KwNqdAkCZpUrA2p0BR9B9SsDanQJLJ1lGwNqdA7RGOUbA2p0BAI0pRsDanQFA6BlGwNqdAHVfCULA2p0BFQ6ZQsDanQC/fplCwNqdARnynULA2p0A046pQsDanQE7SzVCwNqdAa8HwULA2p0COsBNRsDanQLgtOFGwNqdA7dNeUbA2p0DUy4ZRsDanQKgHr1GwNqdA",
          "dtype": "f8"
         }
        },
        {
         "line": {
          "color": "rgb(0, 6, 135)"
         },
         "mode": "lines",
         "name": "002",
         "opacity": 0.4,
         "type": "scatter",
         "x": [
          0,
          1000000000000,
          2000000000000,
          3000000000000,
          4000000000000,
          5000000000000,
          6000000000000,
          7000000000000,
          8000000000000,
          9000000000000,
          10000000000000,
          11000000000000,
          12000000000000,
          13000000000000,
          14000000000000,
          15000000000000,
          16000000000000,
          17000000000000,
          18000000000000,
          19000000000000,
          20000000000000,
          21000000000000,
          22000000000000,
          23000000000000,
          24000000000000,
          25000000000000,
          26000000000000,
          27000000000000,
          28000000000000,
          29000000000000,
          30000000000000,
          31000000000000,
          32000000000000,
          33000000000000,
          34000000000000,
          35000000000000
         ],
         "y": {
          "bdata": "ogWx98FMo0BQ7Rg+ItyoQDoKMtNN/qhAYpGLNYgJqUAqyS+biAypQMD5xQRPDalATjkAoX0NqUD4Hb+viA2pQCk6LsmLDalAClJNF4sNqUA2xW8sig2pQGm7k0GJDalAOMBC8YgNqUAIC7O+iA2pQE9kI4yIDalAaqW4aYgNqUBGqNhmiA2pQCOt+GOIDalA/rMYYYgNqUA8VRNhiA2pQAWimmGIDalAZO8hYogNqUANS39iiA2pQKCyimKIDalAXBqWYogNqUA/gqFiiA2pQK9fpGKIDalAJpilYogNqUCe0KZiiA2pQOpenGKIDalA2iJ7YogNqUDW5lliiA2pQN2qOGKIDalAjhgqYogNqUAxHh9iiA2pQOcjFGKIDalA",
          "dtype": "f8"
         }
        },
        {
         "line": {
          "color": "rgb(0, 9, 137)"
         },
         "mode": "lines",
         "name": "003",
         "opacity": 0.4,
         "type": "scatter",
         "x": [
          0,
          1000000000000,
          2000000000000,
          3000000000000,
          4000000000000,
          5000000000000,
          6000000000000,
          7000000000000,
          8000000000000,
          9000000000000,
          10000000000000,
          11000000000000,
          12000000000000,
          13000000000000,
          14000000000000,
          15000000000000,
          16000000000000,
          17000000000000,
          18000000000000,
          19000000000000,
          20000000000000,
          21000000000000,
          22000000000000,
          23000000000000,
          24000000000000,
          25000000000000,
          26000000000000,
          27000000000000,
          28000000000000,
          29000000000000,
          30000000000000,
          31000000000000,
          32000000000000,
          33000000000000,
          34000000000000,
          35000000000000
         ],
         "y": {
          "bdata": "rWqpL+4Ho0A3zYeWprSoQB1cwhguCKlA2vL0pyUZqUBUVq00Dx+pQGlb3p7aIKlA6z4y+WkhqUB6QpPFjSGpQBv/WIiYIalAr3ALDpohqUA3+5PTmiGpQNqLikSbIalAAvKanZshqUDepqy7myGpQKzDztmbIalAcEgB+JshqUArq1vtmyGpQBPe4NybIalAhfdxzJshqUDRMOK1myGpQH61HpWbIalA00qCdJshqUDX8AxUmyGpQO5I8TSbIalAyyokFpshqUDPM3n3miGpQNiyD9+aIalAsL/y0JohqUB1sN7CmiGpQC6F07SaIalArNCmsZohqUA7egmwmiGpQEtFbK6aIalAYfdCr5ohqUBlqIe2miGpQJbHM8GaIalA",
          "dtype": "f8"
         }
        },
        {
         "line": {
          "color": "rgb(0, 12, 139)"
         },
         "mode": "lines",
         "name": "004",
         "opacity": 0.4,
         "type": "scatter",
         "x": [
          0,
          1000000000000,
          2000000000000,
          3000000000000,
          4000000000000,
          5000000000000,
          6000000000000,
          7000000000000,
          8000000000000,
          9000000000000,
          10000000000000,
          11000000000000,
          12000000000000,
          13000000000000,
          14000000000000,
          15000000000000,
          16000000000000,
          17000000000000,
          18000000000000,
          19000000000000,
          20000000000000,
          21000000000000,
          22000000000000,
          23000000000000,
          24000000000000,
          25000000000000,
          26000000000000,
          27000000000000,
          28000000000000,
          29000000000000,
          30000000000000,
          31000000000000,
          32000000000000,
          33000000000000,
          34000000000000,
          35000000000000
         ],
         "y": {
          "bdata": "fguQWT0uo0CmRGM6Y8qmQCpxDNhY3qZADQrqiN/npkBs47xP/+qmQFSFoZPn66ZAwV0mVyzspkAGXTXxPeymQCsGU0BC7KZAMbs9/ELspkDnt46aQuymQHDLE0NC7KZAq7WEHULspkAUV/b3QeymQK2vaNJB7KZA6yrnwkHspkBwB0a+QeymQJvtpLlB7KZA+N0ZtkHspkA7sd+3QeymQGOKpblB7KZAbWlru0HspkB4RcG8QeymQMPf371B7KZA6X3+vkHspkAyg/O/QeymQAHbHMBB7KZAqDhGwEHspkApnG/AQeymQMh7Z8BB7KZACu9GwEHspkBEZibAQeymQAPLF8BB7KZAZuJgwEHspkBZ/anAQeymQNwb88BB7KZA",
          "dtype": "f8"
         }
        },
        {
         "line": {
          "color": "rgb(0, 15, 141)"
         },
         "mode": "lines",
         "name": "005",
         "opacity": 0.4,
         "type": "scatter",
         "x": [
          0,
          1000000000000,
          2000000000000,
          3000000000000,
          4000000000000,
          5000000000000,
          6000000000000,
          7000000000000,
          8000000000000,
          9000000000000,
          10000000000000,
          11000000000000,
          12000000000000,
          13000000000000,
          14000000000000,
          15000000000000,
          16000000000000,
          17000000000000,
          18000000000000,
          19000000000000,
          20000000000000,
          21000000000000,
          22000000000000,
          23000000000000,
          24000000000000,
          25000000000000,
          26000000000000,
          27000000000000,
          28000000000000,
          29000000000000,
          30000000000000,
          31000000000000,
          32000000000000,
          33000000000000,
          34000000000000,
          35000000000000
         ],
         "y": {
          "bdata": "YPrd89c9o0AbHNpfoq2lQBK1rSKUsaVAe88ha7G1pUBpabMfULelQNPRvgrat6VAfGwg4ga4pUBKS83yFbilQJoW+e8YuKVAkwQ/8hm4pUC67CakHbilQDLt1OgguKVAwbHZSRm4pUDzevAdGrilQGxSKOMYuKVAfAYYLBm4pUCyqo0nG7ilQMRILQ4duKVANTZ7Ch24pUDk8uWfGrilQDTeZMMYuKVAX27xohm4pUCuH2DkGbilQALD4hQZuKVA8F5h/Bi4pUCjdtJcGbilQGJvaqcZuKVAffUPphm4pUClbMrdGbilQFSGsfAZuKVABCPezxm4pUByPwOkGbilQMKQJlAZuKVANoGB4Ri4pUBknR5zGLilQAcphAUZuKVA",
          "dtype": "f8"
         }
        },
        {
         "line": {
          "color": "rgb(0, 18, 143)"
         },
         "mode": "lines",
         "name": "006",
         "opacity": 0.4,
         "type": "scatter",
         "x": [
          0,
          1000000000000,
          2000000000000,
          3000000000000,
          4000000000000,
          5000000000000,
          6000000000000,
          7000000000000,
          8000000000000,
          9000000000000,
          10000000000000,
          11000000000000,
          12000000000000,
          13000000000000,
          14000000000000,
          15000000000000,
          16000000000000,
          17000000000000,
          18000000000000,
          19000000000000,
          20000000000000,
          21000000000000,
          22000000000000,
          23000000000000,
          24000000000000,
          25000000000000,
          26000000000000,
          27000000000000,
          28000000000000,
          29000000000000,
          30000000000000,
          31000000000000,
          32000000000000,
          33000000000000,
          34000000000000,
          35000000000000
         ],
         "y": {
          "bdata": "0DOCpRg8o0D+RSPGWVqrQL8E3uIWbKtASmnpVkx0q0As5m9x33arQNFMAImld6tAZ7jqGc53q0BMSPcc4XerQHayT4fnd6tANdysweR3q0Crnjb04XerQISItJfid6tALuwakON3q0DIgImJ5HerQFjWbJ3ld6tA2OPpzuZ3q0C4PXjQ53erQCCfpnLod6tAKZULKel3q0DPH6fz6XerQBDDCGXqd6tADL2L0up3q0BOE1BI63erQC3MZ7Trd6tAS/lm+Ot3q0DSCSMl7HerQBraFzrsd6tAWihHGOx3q0CcI5zP63erQBQZtGfrd6tAGtM63up3q0AY8FUr6nerQJwr7V3pd6tAoEtyfOh3q0CQ1LSn53erQO0c9dDmd6tA",
          "dtype": "f8"
         }
        },
        {
         "line": {
          "color": "rgb(0, 21, 145)"
         },
         "mode": "lines",
         "name": "007",
         "opacity": 0.4,
         "type": "scatter",
         "x": [
          0,
          1000000000000,
          2000000000000,
          3000000000000,
          4000000000000,
          5000000000000,
          6000000000000,
          7000000000000,
          8000000000000,
          9000000000000,
          10000000000000,
          11000000000000,
          12000000000000,
          13000000000000,
          14000000000000,
          15000000000000,
          16000000000000,
          17000000000000,
          18000000000000,
          19000000000000,
          20000000000000,
          21000000000000,
          22000000000000,
          23000000000000,
          24000000000000,
          25000000000000,
          26000000000000,
          27000000000000,
          28000000000000,
          29000000000000,
          30000000000000,
          31000000000000,
          32000000000000,
          33000000000000,
          34000000000000,
          35000000000000
         ],
         "y": {
          "bdata": "ZeMjP7JBo0AeM9BJrOmoQHGIcoDMCqlAegJrZowVqUBEX3scdxipQGmxsSEtGalAaejsjFwZqUBqYZsjZRmpQGiUH01mGalAJRon2WUZqUBe45ZVZRmpQOMs3QFlGalAp5Ks5GQZqUCrAHzHZBmpQO52S6pkGalAnWAUrGQZqUCVfuquZBmpQM85wbFkGalAduuDtWQZqUBWoVO6ZBmpQPYEJL9kGalAVBb1w2QZqUAuOgvEZBmpQFmY+MNkGalAwjnmw2QZqUAQSJXEZBmpQIW9IMZkGalA9k6sx2QZqUBg/DfJZBmpQAC7ucdkGalAJiohxmQZqUB3pIjEZBmpQEeLvMNkGalAYonZw2QZqUD9k/bDZBmpQAyrE8RkGalA",
          "dtype": "f8"
         }
        },
        {
         "line": {
          "color": "rgb(0, 24, 147)"
         },
         "mode": "lines",
         "name": "008",
         "opacity": 0.4,
         "type": "scatter",
         "x": [
          0,
          1000000000000,
          2000000000000,
          3000000000000,
          4000000000000,
          5000000000000,
          6000000000000,
          7000000000000,
          8000000000000,
          9000000000000,
          10000000000000,
          11000000000000,
          12000000000000,
          13000000000000,
          14000000000000,
          15000000000000,
          16000000000000,
          17000000000000,
          18000000000000,
          19000000000000,
          20000000000000,
          21000000000000,
          22000000000000,
          23000000000000,
          24000000000000,
          25000000000000,
          26000000000000,
          27000000000000,
          28000000000000,
          29000000000000,
          30000000000000,
          31000000000000,
          32000000000000,
          33000000000000,
          34000000000000,
          35000000000000
         ],
         "y": {
          "bdata": "EG2YreIXo0CCptzM2PWmQPqXFdnjBqdATs2Cn0wTp0B+fJOvghenQKX9BsvRGKdAFLQRuTAZp0A74WvgTRmnQITh4yJUGadAwnXSQFUZp0DMGgBNVRmnQNzJ2QRVGadAIrGzvFQZp0Cn5EyfVBmnQDg43Y5UGadAG45tflQZp0CyexJyVBmnQLEH53BUGadAvpO7b1QZp0DYH5BuVBmnQKBAZG5UGadAPuaFblQZp0Ddi6duVBmnQBgnvm5UGadAD362blQZp0AK1a5uVBmnQAAsp25UGadAfC+qblQZp0DAb7BuVBmnQAWwtm5UGadArmu5blQZp0BwgrJuVBmnQDKZq25UGadA9q+kblQZp0DyZqZuVBmnQLC7qm5UGadA",
          "dtype": "f8"
         }
        },
        {
         "line": {
          "color": "rgb(0, 27, 149)"
         },
         "mode": "lines",
         "name": "009",
         "opacity": 0.4,
         "type": "scatter",
         "x": [
          0,
          1000000000000,
          2000000000000,
          3000000000000,
          4000000000000,
          5000000000000,
          6000000000000,
          7000000000000,
          8000000000000,
          9000000000000,
          10000000000000,
          11000000000000,
          12000000000000,
          13000000000000,
          14000000000000,
          15000000000000,
          16000000000000,
          17000000000000,
          18000000000000,
          19000000000000,
          20000000000000,
          21000000000000,
          22000000000000,
          23000000000000,
          24000000000000,
          25000000000000,
          26000000000000,
          27000000000000,
          28000000000000,
          29000000000000,
          30000000000000,
          31000000000000,
          32000000000000,
          33000000000000,
          34000000000000,
          35000000000000
         ],
         "y": {
          "bdata": "b+hKw7JGo0Dx6L7zv9upQOYjwAnI+alAj8ZkyVEEqkDnGr/9JQeqQJ1QSAbYB6pALyH97wcIqkBI104vEAiqQEy99YERCKpAyh13gBEIqkB/LVc9EQiqQLao4BERCKpAUgUJAhEIqkCPT3/yEAiqQG+HQ+MQCKpAQIli4RAIqkCn+lrgEAiqQFhZXt8QCKpAndyw2xAIqkAGTcPUEAiqQM5BF84QCKpA8rqsxxAIqkCSaMq8EAiqQBrO2rEQCKpArtQnpxAIqkBQERCfEAiqQJZREJoQCKpAtsselRAIqkCtfzuQEAiqQNSihI4QCKpA0Bf/jBAIqkAMlXmLEAiqQEyUIIsQCKpA8DM/jRAIqkCmy8KQEAiqQOzrtZUQCKpA",
          "dtype": "f8"
         }
        },
        {
         "line": {
          "color": "rgb(0, 30, 150)"
         },
         "mode": "lines",
         "name": "010",
         "opacity": 0.4,
         "type": "scatter",
         "x": [
          0,
          1000000000000,
          2000000000000,
          3000000000000,
          4000000000000,
          5000000000000,
          6000000000000,
          7000000000000,
          8000000000000,
          9000000000000,
          10000000000000,
          11000000000000,
          12000000000000,
          13000000000000,
          14000000000000,
          15000000000000,
          16000000000000,
          17000000000000,
          18000000000000,
          19000000000000,
          20000000000000,
          21000000000000,
          22000000000000,
          23000000000000,
          24000000000000,
          25000000000000,
          26000000000000,
          27000000000000,
          28000000000000,
          29000000000000,
          30000000000000,
          31000000000000,
          32000000000000,
          33000000000000,
          34000000000000,
          35000000000000
         ],
         "y": {
          "bdata": "a5KDJ/9No0B+C4eKIdyoQBU079To/KhA4Kd75ikIqUAbP3ToPwupQHwBCmQFDKlAXB2T+jcMqUC1rinsQAypQKSfeM1CDKlAWz8YJ0IMqUB5sYCAQQypQNsOwUZBDKlAlXpgH0EMqUDT/f/3QAypQMOA4d5ADKlACF2a30AMqUCA6FPgQAypQDAjDuFADKlAPbjl40AMqUB5dRnnQAypQNUaTupADKlAQ2KG7EAMqUACT/TsQAypQK7HYu1ADKlATMzR7UAMqUC/57TuQAypQKSoq+9ADKlA7YWi8EAMqUD85S/xQAypQETu/fBADKlACPjL8EAMqUBOA5rwQAypQBPZS/BADKlABgP570AMqUAmRqbvQAypQFSFiu9ADKlA",
          "dtype": "f8"
         }
        },
        {
         "line": {
          "color": "rgb(0, 33, 152)"
         },
         "mode": "lines",
         "name": "011",
         "opacity": 0.4,
         "type": "scatter",
         "x": [
          0,
          1000000000000,
          2000000000000,
          3000000000000,
          4000000000000,
          5000000000000,
          6000000000000,
          7000000000000,
          8000000000000,
          9000000000000,
          10000000000000,
          11000000000000,
          12000000000000,
          13000000000000,
          14000000000000,
          15000000000000,
          16000000000000,
          17000000000000,
          18000000000000,
          19000000000000,
          20000000000000,
          21000000000000,
          22000000000000,
          23000000000000,
          24000000000000,
          25000000000000,
          26000000000000,
          27000000000000,
          28000000000000,
          29000000000000,
          30000000000000,
          31000000000000,
          32000000000000,
          33000000000000,
          34000000000000,
          35000000000000
         ],
         "y": {
          "bdata": "zwPIBNsuo0C8VHbngW+lQOFbrwa3baVABfrNqKlvpUCdCvor0HClQNWSGH88caVADr/7FUpxpUDvummfWHGlQLI8Qt5ccaVAUcBqI15xpUDybZgKXnGlQE4IvNhecaVAhsoqCl9xpUCR3B9qX3GlQOQUsI9fcaVA+GQ3jl9xpUA521csX3GlQJrc0P9ecaVAfFWBCl9xpUBj5HtFX3GlQHTpnC5fcaVAZsXYAl9xpUASmIjoXnGlQFLxkSRfcaVA6lw7Kl9xpUDQKEP6XnGlQJXOndJecaVA9zdY/V5xpUBGoTUjX3GlQIzLbPZecaVAmpjwtV5xpUDuWkI7X3GlQKX0iN5fcaVADP+nIF5xpUB/A5g6X3GlQBaCOS1fcaVA",
          "dtype": "f8"
         }
        },
        {
         "line": {
          "color": "rgb(0, 36, 154)"
         },
         "mode": "lines",
         "name": "012",
         "opacity": 0.4,
         "type": "scatter",
         "x": [
          0,
          1000000000000,
          2000000000000,
          3000000000000,
          4000000000000,
          5000000000000,
          6000000000000,
          7000000000000,
          8000000000000,
          9000000000000,
          10000000000000,
          11000000000000,
          12000000000000,
          13000000000000,
          14000000000000,
          15000000000000,
          16000000000000,
          17000000000000,
          18000000000000,
          19000000000000,
          20000000000000,
          21000000000000,
          22000000000000,
          23000000000000,
          24000000000000,
          25000000000000,
          26000000000000,
          27000000000000,
          28000000000000,
          29000000000000,
          30000000000000,
          31000000000000,
          32000000000000,
          33000000000000,
          34000000000000,
          35000000000000
         ],
         "y": {
          "bdata": "Yno969sAo0DW045wq16mQGORDa+Z9aVAu7yhd1H9pUAsErjOFwGmQFLulW2EAqZApW6yzQUDpkA1bIl/MAOmQMy1Pfs8A6ZAoBk2LUEDpkBRUTiIQQOmQB67I5hBA6ZA5gdPpUEDpkC+04SqQQOmQHWkuq9BA6ZAEHrwtEEDpkByTfa3QQOmQM9WSLpBA6ZA62OavEEDpkBoN3S+QQOmQFpe8r5BA6ZAE4Zwv0EDpkCMru6/QQOmQGt+MsBBA6ZAqZJjwEEDpkASp5TAQQOmQNQWq8BBA6ZA/3t0wEEDpkBX4T3AQQOmQOJGB8BBA6ZAzJ/dv0EDpkA8Ibi/QQOmQMqikr9BA6ZAxCR4v0EDpkBNdn2/QQOmQNnHgr9BA6ZA",
          "dtype": "f8"
         }
        },
        {
         "line": {
          "color": "rgb(0, 39, 156)"
         },
         "mode": "lines",
         "name": "013",
         "opacity": 0.4,
         "type": "scatter",
         "x": [
          0,
          1000000000000,
          2000000000000,
          3000000000000,
          4000000000000,
          5000000000000,
          6000000000000,
          7000000000000,
          8000000000000,
          9000000000000,
          10000000000000,
          11000000000000,
          12000000000000,
          13000000000000,
          14000000000000,
          15000000000000,
          16000000000000,
          17000000000000,
          18000000000000,
          19000000000000,
          20000000000000,
          21000000000000,
          22000000000000,
          23000000000000,
          24000000000000,
          25000000000000,
          26000000000000,
          27000000000000,
          28000000000000,
          29000000000000,
          30000000000000,
          31000000000000,
          32000000000000,
          33000000000000,
          34000000000000,
          35000000000000
         ],
         "y": {
          "bdata": "JYbP5M42o0Bm2DBFuaarQH/dhUI/pqtAiSunKK+lq0B7mES0TqOrQCGoAf4LoKtAHeU+9lnIq0Ch5JtKvcmrQLB7+DJGyqtAdnAVhm3Kq0Cn3sqJUMqrQKy25wpNyqtA95B49V7Kq0Dm658sXMqrQJ+SARtdyqtAODSYtk/Kq0BQ3BAsTsqrQPg9tRlKyqtAzmlS/UTKq0DOf3ucQcqrQNdP/AVAyqtA+lC+3z/Kq0CcN+vcP8qrQKL/zktAyqtAnop4tkHKq0C6+q1kQ8qrQKFORyNFyqtATG+m70TKq0Amx5MARcqrQClWD1ZFyqtA4thtK0XKq0CnC7inRMqrQHCnPVNEyqtAjSibJkTKq0DecJTKQ8qrQLr6F4ZDyqtA",
          "dtype": "f8"
         }
        },
        {
         "line": {
          "color": "rgb(0, 42, 158)"
         },
         "mode": "lines",
         "name": "014",
         "opacity": 0.4,
         "type": "scatter",
         "x": [
          0,
          1000000000000,
          2000000000000,
          3000000000000,
          4000000000000,
          5000000000000,
          6000000000000,
          7000000000000,
          8000000000000,
          9000000000000,
          10000000000000,
          11000000000000,
          12000000000000,
          13000000000000,
          14000000000000,
          15000000000000,
          16000000000000,
          17000000000000,
          18000000000000,
          19000000000000,
          20000000000000,
          21000000000000,
          22000000000000,
          23000000000000,
          24000000000000,
          25000000000000,
          26000000000000,
          27000000000000,
          28000000000000,
          29000000000000,
          30000000000000,
          31000000000000,
          32000000000000,
          33000000000000,
          34000000000000,
          35000000000000
         ],
         "y": {
          "bdata": "Dp5P/UfmokDMyu+tSwioQEarRYZ+MqhAMPJPog5KqECMsudk8lCoQIahGKg8U6hAInCITAlUqECUo817QlSoQPgOwxdYVKhAjtzCuVtUqEBwmPSbWlSoQIwJlflaVKhA2o3BNVtUqEC1Yn10W1SoQHAb8KdbVKhAhSA0xVtUqEBsT/HiW1SoQCSoJwFcVKhANYXVAFxUqECAPwX8W1SoQAi7NfdbVKhAyrFC7ltUqEAoKnXeW1SoQLjc085bVKhAdclev1tUqEDhtXWvW1SoQKkxp59bVKhAXgMLkFtUqEAIYAGDW1SoQIbGFXpbVKhAnPY+cVtUqEBG8HxoW1SoQFbsjmRbVKhAqOVVYVtUqEBsUh9eW1SoQM9ZSlxbVKhA",
          "dtype": "f8"
         }
        },
        {
         "line": {
          "color": "rgb(0, 45, 160)"
         },
         "mode": "lines",
         "name": "015",
         "opacity": 0.4,
         "type": "scatter",
         "x": [
          0,
          1000000000000,
          2000000000000,
          3000000000000,
          4000000000000,
          5000000000000,
          6000000000000,
          7000000000000,
          8000000000000,
          9000000000000,
          10000000000000,
          11000000000000,
          12000000000000,
          13000000000000,
          14000000000000,
          15000000000000,
          16000000000000,
          17000000000000,
          18000000000000,
          19000000000000,
          20000000000000,
          21000000000000,
          22000000000000,
          23000000000000,
          24000000000000,
          25000000000000,
          26000000000000,
          27000000000000,
          28000000000000,
          29000000000000,
          30000000000000,
          31000000000000,
          32000000000000,
          33000000000000,
          34000000000000,
          35000000000000
         ],
         "y": {
          "bdata": "cNtpXpsvo0ApmVVC1LmlQGSC1qAYv6VAEw/0WJvDpUAQucS0UMWlQHc8/DnfxaVAi7U5ARPGpUCxRXG7I8alQDl6nG4mxqVACjFasyTGpUDDhjyEJMalQP49QNQlxqVALKG9JyTGpUAmv4ANIsalQL7PgmEhxqVAmsvGLSPGpUCruVOfIcalQA7qu5AjxqVALHZ2NiXGpUAE7iGTJcalQI7ixnslxqVAQiaicyXGpUBCqVVzJcalQIhgiGglxqVAqqhqPSXGpUCrXRltJcalQLJzC2QlxqVAbhqQYCXGpUAKSedhJcalQEyY32QlxqVAQ4RRXCXGpUBSsphnJcalQNVlO3QlxqVA+rmhOyXGpUBgl6/qJMalQN/jZpskxqVA",
          "dtype": "f8"
         }
        },
        {
         "line": {
          "color": "rgb(0, 48, 162)"
         },
         "mode": "lines",
         "name": "016",
         "opacity": 0.4,
         "type": "scatter",
         "x": [
          0,
          1000000000000,
          2000000000000,
          3000000000000,
          4000000000000,
          5000000000000,
          6000000000000,
          7000000000000,
          8000000000000,
          9000000000000,
          10000000000000,
          11000000000000,
          12000000000000,
          13000000000000,
          14000000000000,
          15000000000000,
          16000000000000,
          17000000000000,
          18000000000000,
          19000000000000,
          20000000000000,
          21000000000000,
          22000000000000,
          23000000000000,
          24000000000000,
          25000000000000,
          26000000000000,
          27000000000000,
          28000000000000,
          29000000000000,
          30000000000000,
          31000000000000,
          32000000000000,
          33000000000000,
          34000000000000,
          35000000000000
         ],
         "y": {
          "bdata": "rF6HYTcZo0CCq4OU/EimQJ8g5AxYVKZAZU3wBZpdpkCap71zO2GmQInjfuiEYqZALdL8YO9ipkCSU5S5EWOmQEEmSXEcY6ZA8te/mh5jpkDU5eU0H2OmQDMzYhcfY6ZAHCS84h5jpkDWNhauHmOmQDpfY54eY6ZAnzdykh5jpkD/EYGGHmOmQGIT034eY6ZAzS9WfR5jpkBZTNl7HmOmQARpXHoeY6ZA8qQWeh5jpkB3gvB5HmOmQPxfynkeY6ZAcpe0eR5jpkDEj7Z5HmOmQBqIuHkeY6ZAcIC6eR5jpkDLE7J5HmOmQJ+YqHkeY6ZAcx2feR5jpkDjipl5HmOmQOalmXkeY6ZA7cCZeR5jpkDu25l5HmOmQGM2mHkeY6ZA",
          "dtype": "f8"
         }
        },
        {
         "line": {
          "color": "rgb(0, 51, 164)"
         },
         "mode": "lines",
         "name": "017",
         "opacity": 0.4,
         "type": "scatter",
         "x": [
          0,
          1000000000000,
          2000000000000,
          3000000000000,
          4000000000000,
          5000000000000,
          6000000000000,
          7000000000000,
          8000000000000,
          9000000000000,
          10000000000000,
          11000000000000,
          12000000000000,
          13000000000000,
          14000000000000,
          15000000000000,
          16000000000000,
          17000000000000,
          18000000000000,
          19000000000000,
          20000000000000,
          21000000000000,
          22000000000000,
          23000000000000,
          24000000000000,
          25000000000000,
          26000000000000,
          27000000000000,
          28000000000000,
          29000000000000,
          30000000000000,
          31000000000000,
          32000000000000,
          33000000000000,
          34000000000000,
          35000000000000
         ],
         "y": {
          "bdata": "4vpx8s43o0CDZUsvUHmoQP/XIxACmqhAm/GT9aOlqEAfWvYK46ioQGS2ZX62qahA1+yqY+2pqEAYhkGa+KmoQIfY8iv6qahAxESQGvqpqECTBgWs+amoQMOtej35qahAa5ZpJfmpqEALhoYN+amoQNaFo/X4qahAhngp6vipqEC48jLr+KmoQPasPOz4qahAOadG7fipqEC23+nv+KmoQGYdjvL4qahA34Yy9fipqECwWGL2+KmoQP5dGvb4qahAe2vS9fipqEAkgYr1+KmoQPMgSvb4qahAP00K9/ipqED5ecr3+KmoQKzarvf4qahAA6C19vipqEB0bLz1+KmoQPo/w/T4qahAshzV9PipqEARi+f0+KmoQCz9+fT4qahA",
          "dtype": "f8"
         }
        },
        {
         "line": {
          "color": "rgb(0, 54, 166)"
         },
         "mode": "lines",
         "name": "018",
         "opacity": 0.4,
         "type": "scatter",
         "x": [
          0,
          1000000000000,
          2000000000000,
          3000000000000,
          4000000000000,
          5000000000000,
          6000000000000,
          7000000000000,
          8000000000000,
          9000000000000,
          10000000000000,
          11000000000000,
          12000000000000,
          13000000000000,
          14000000000000,
          15000000000000,
          16000000000000,
          17000000000000,
          18000000000000,
          19000000000000,
          20000000000000,
          21000000000000,
          22000000000000,
          23000000000000,
          24000000000000,
          25000000000000,
          26000000000000,
          27000000000000,
          28000000000000,
          29000000000000,
          30000000000000,
          31000000000000,
          32000000000000,
          33000000000000,
          34000000000000,
          35000000000000
         ],
         "y": {
          "bdata": "2MAm3Vr2okB8aHiuZLulQN5WlCTfvqVA5Vb+KYvFpUAT5wZCfsilQFIrGMiTyaVAUA9Yk/DJpUAcg8CMEcqlQE0to5YayqVAYD6Fhh3KpUDyZgKsH8qlQEuq+p0gyqVA0B3+MyDKpUCylgvKH8qlQCIWMWIfyqVApKLpFh/KpUDIuaTLHsqlQJBbYoAeyqVAbPELXB7KpUBIKWlVHsqlQGBxxk4eyqVATjAiSR7KpUDa+UxRHsqlQKPOd1keyqVAqq6iYR7KpUDAo1tnHsqlQNXYNmseyqVAfQ8Sbx7KpUCkA6lyHsqlQHBki3IeyqVAlcVtch7KpUAUJ1ByHsqlQAbLRXEeyqVAJL6Gbx7KpUDTscdtHsqlQOTtFGweyqVA",
          "dtype": "f8"
         }
        },
        {
         "line": {
          "color": "rgb(0, 57, 168)"
         },
         "mode": "lines",
         "name": "019",
         "opacity": 0.4,
         "type": "scatter",
         "x": [
          0,
          1000000000000,
          2000000000000,
          3000000000000,
          4000000000000,
          5000000000000,
          6000000000000,
          7000000000000,
          8000000000000,
          9000000000000,
          10000000000000,
          11000000000000,
          12000000000000,
          13000000000000,
          14000000000000,
          15000000000000,
          16000000000000,
          17000000000000,
          18000000000000,
          19000000000000,
          20000000000000,
          21000000000000,
          22000000000000,
          23000000000000,
          24000000000000,
          25000000000000,
          26000000000000,
          27000000000000,
          28000000000000,
          29000000000000,
          30000000000000,
          31000000000000,
          32000000000000,
          33000000000000,
          34000000000000,
          35000000000000
         ],
         "y": {
          "bdata": "BLnQlpYuo0C8oxA635aqQIXWrjcReapAQGSw5kmAqkBHKjLTGoKqQO6bv3QPg6pADpZ85l6CqkDmUfg/nIKqQMQDccyvgqpAGPsbk6GCqkCFl6/bk4KqQCiNwJ6dgqpAv1HJY6eCqkBM5ckqsYKqQIA7RcmxgqpAsPmv8qmCqkBkPqodooKqQMHuQ5CagqpAICsafKCCqkAqawdppoKqQOCuC1esgqpAUmtM4q2CqkBC1G1gq4KqQPYuDN+ogqpAqtQFd6aCqkDOYBzXqIKqQGS5RDergqpAcN5+l62CqkDvQql6rYKqQL76lBGrgqpApXuUqKiCqkBNKrpQpoKqQO6jFUGngqpAZ+p+MaiCqkC+/fUhqYKqQMBIdhapgqpA",
          "dtype": "f8"
         }
        },
        {
         "line": {
          "color": "rgb(0, 60, 170)"
         },
         "mode": "lines",
         "name": "020",
         "opacity": 0.4,
         "type": "scatter",
         "x": [
          0,
          1000000000000,
          2000000000000,
          3000000000000,
          4000000000000,
          5000000000000,
          6000000000000,
          7000000000000,
          8000000000000,
          9000000000000,
          10000000000000,
          11000000000000,
          12000000000000,
          13000000000000,
          14000000000000,
          15000000000000,
          16000000000000,
          17000000000000,
          18000000000000,
          19000000000000,
          20000000000000,
          21000000000000,
          22000000000000,
          23000000000000,
          24000000000000,
          25000000000000,
          26000000000000,
          27000000000000,
          28000000000000,
          29000000000000,
          30000000000000,
          31000000000000,
          32000000000000,
          33000000000000,
          34000000000000,
          35000000000000
         ],
         "y": {
          "bdata": "wwHWdRpSo0B2pn/jqWemQNaWgZjMc6ZABpH4aBt7pkCRdGxnn32mQJgNOqNkfqZAvK/Oop1+pkA0l4Cir36mQNcoVoCyfqZAVnth/bJ+pkAO4y3rsn6mQIoGjOKyfqZArjW+z7J+pkAXJsyxsn6mQOLSQZSyfqZAEjwfd7J+pkBLkaZmsn6mQLJDFFeyfqZAKJwOSLJ+pkCSpllSsn6mQCQNmXiyfqZAEBP/nrJ+pkBauIvFsn6mQDRzWKWyfqZAhmpEg7J+pkCVh1lhsn6mQOBamFCyfqZASxkEU7J+pkCbtphVsn6mQNQyVliyfqZAomKOaLJ+pkDQ2FB5sn6mQGiIO4qyfqZAQnSXjrJ+pkB0kNWEsn6mQLBpKXuyfqZA",
          "dtype": "f8"
         }
        },
        {
         "line": {
          "color": "rgb(0, 70, 174)"
         },
         "mode": "lines",
         "name": "021",
         "opacity": 0.4,
         "type": "scatter",
         "x": [
          0,
          1000000000000,
          2000000000000,
          3000000000000,
          4000000000000,
          5000000000000,
          6000000000000,
          7000000000000,
          8000000000000,
          9000000000000,
          10000000000000,
          11000000000000,
          12000000000000,
          13000000000000,
          14000000000000,
          15000000000000,
          16000000000000,
          17000000000000,
          18000000000000,
          19000000000000,
          20000000000000,
          21000000000000,
          22000000000000,
          23000000000000,
          24000000000000,
          25000000000000,
          26000000000000,
          27000000000000,
          28000000000000,
          29000000000000,
          30000000000000,
          31000000000000,
          32000000000000,
          33000000000000,
          34000000000000,
          35000000000000
         ],
         "y": {
          "bdata": "CPLQbmFGo0CjFJTtP2uoQOpiy1PgiKhAAl2j8YOVqEAluTSTFpmoQEKSc+kGmqhAtyPbb0WaqEBNQMX5UpqoQFK8dF1UmqhAfgJEWlSaqEA+dIzrU5qoQP+U1nxTmqhAnAWrSVOaqEDWFHgxU5qoQGwoRRlTmqhAKJduBVOaqEDr2GYEU5qoQApaXwNTmqhAhxpYAlOaqEAkwZcCU5qoQNygawNTmqhAgr4/BFOaqED4vbQEU5qoQE6bjgNTmqhApYxoAlOaqEAAkkIBU5qoQLQzRwFTmqhAOBrTAVOaqEA2BV8CU5qoQP5atgJTmqhAudgqAlOaqEByWp8BU5qoQCTgEwFTmqhAtzpnAVOaqEDQiR8CU5qoQI7c1wJTmqhA",
          "dtype": "f8"
         }
        },
        {
         "line": {
          "color": "rgb(0, 79, 178)"
         },
         "mode": "lines",
         "name": "022",
         "opacity": 0.4,
         "type": "scatter",
         "x": [
          0,
          1000000000000,
          2000000000000,
          3000000000000,
          4000000000000,
          5000000000000,
          6000000000000,
          7000000000000,
          8000000000000,
          9000000000000,
          10000000000000,
          11000000000000,
          12000000000000,
          13000000000000,
          14000000000000,
          15000000000000,
          16000000000000,
          17000000000000,
          18000000000000,
          19000000000000,
          20000000000000,
          21000000000000,
          22000000000000,
          23000000000000,
          24000000000000,
          25000000000000,
          26000000000000,
          27000000000000,
          28000000000000,
          29000000000000,
          30000000000000,
          31000000000000,
          32000000000000,
          33000000000000,
          34000000000000,
          35000000000000
         ],
         "y": {
          "bdata": "IsfFAujjokBdwtrVNA2oQF37zRD4IahAKphQOKMwqEC+gKdS6DWoQCCNN9uPN6hAimg/1Qo4qEDVj8SmLzioQNItvMA5OKhAs+zAvjs4qEBn/ngmPDioQF9nx+w7OKhAwUMgszs4qEA0pn+bOzioQFRWfo47OKhAApV+gTs4qEBGrYx3OzioQJ3NMHY7OKhAdvrUdDs4qEDWM3lzOzioQLeJC3M7OKhAGMvocjs4qEAEtMZyOzioQC5EoXI7OKhAmDJxcjs4qEAawUFyOzioQLjvEnI7OKhASE/6cTs4qEBCu+hxOzioQPds13E7OKhAK+TNcTs4qEDyntlxOzioQNlr5XE7OKhA4UrxcTs4qEB8BvlxOzioQA4x/XE7OKhA",
          "dtype": "f8"
         }
        },
        {
         "line": {
          "color": "rgb(1, 89, 183)"
         },
         "mode": "lines",
         "name": "023",
         "opacity": 0.4,
         "type": "scatter",
         "x": [
          0,
          1000000000000,
          2000000000000,
          3000000000000,
          4000000000000,
          5000000000000,
          6000000000000,
          7000000000000,
          8000000000000,
          9000000000000,
          10000000000000,
          11000000000000,
          12000000000000,
          13000000000000,
          14000000000000,
          15000000000000,
          16000000000000,
          17000000000000,
          18000000000000,
          19000000000000,
          20000000000000,
          21000000000000,
          22000000000000,
          23000000000000,
          24000000000000,
          25000000000000,
          26000000000000,
          27000000000000,
          28000000000000,
          29000000000000,
          30000000000000,
          31000000000000,
          32000000000000,
          33000000000000,
          34000000000000,
          35000000000000
         ],
         "y": {
          "bdata": "uCgb2HYCo0CHuVCP+uGlQAVhy43h5qVAamA3CZDtpUAkFAw3c/ClQFdm2d5/8aVAr9cWsdjxpUCM6x459/GlQASkzxYA8qVAsnOoyQLypUBkS9x8A/KlQIrqFFMD8qVAQeVOKQPypUAMZ4kSA/KlQNAnjvwC8qVAHsH88ALypUAKudTrAvKlQEG1rOYC8qVAX15A4gLypUBMEEPjAvKlQKnDReQC8qVAcXhI5QLypUD8SwTmAvKlQFt4lOYC8qVA4KQk5wLypUD0x53nAvKlQGAnbOcC8qVAZIc65wLypUAG6AjnAvKlQEqL4+YC8qVA47vF5gLypUBQ7afmAvKlQLTAiuYC8qVAID9y5gLypUD/vVnmAvKlQFg9QeYC8qVA",
          "dtype": "f8"
         }
        },
        {
         "line": {
          "color": "rgb(1, 99, 187)"
         },
         "mode": "lines",
         "name": "024",
         "opacity": 0.4,
         "type": "scatter",
         "x": [
          0,
          1000000000000,
          2000000000000,
          3000000000000,
          4000000000000,
          5000000000000,
          6000000000000,
          7000000000000,
          8000000000000,
          9000000000000,
          10000000000000,
          11000000000000,
          12000000000000,
          13000000000000,
          14000000000000,
          15000000000000,
          16000000000000,
          17000000000000,
          18000000000000,
          19000000000000,
          20000000000000,
          21000000000000,
          22000000000000,
          23000000000000,
          24000000000000,
          25000000000000,
          26000000000000,
          27000000000000,
          28000000000000,
          29000000000000,
          30000000000000,
          31000000000000,
          32000000000000,
          33000000000000,
          34000000000000,
          35000000000000
         ],
         "y": {
          "bdata": "36ePaSdIo0AtWWpawjWlQEgZMleaHKpA5vu4LQQsqkArnr8/JjCqQAveJFg1MapAkhdtnWcxqkAXcRVFgTGqQAg5U8h9MapAMQUcG3oxqkCGDqI7fDGqQJOgAxp9MapAqn+5Yn0xqkDky/+CfTGqQCqFGsd9MapAvaRT9H0xqkB1TUP4fTGqQFic2wR+MapAd2wPGn4xqkByVQUufjGqQGw3HUJ+MapAYRJXVn4xqkBTQb1lfjGqQIg9AXJ+MapAiZxpgH4xqkCs4o6QfjGqQPI4LHd+MapAp/i7YH4xqkDLIT5NfjGqQCWQ/TR+MapA8r0UF34xqkAOypD6fTGqQNrvi999MapA/mt70H0xqkCtqZjBfTGqQOCo47J9MapA",
          "dtype": "f8"
         }
        },
        {
         "line": {
          "color": "rgb(1, 109, 191)"
         },
         "mode": "lines",
         "name": "025",
         "opacity": 0.4,
         "type": "scatter",
         "x": [
          0,
          1000000000000,
          2000000000000,
          3000000000000,
          4000000000000,
          5000000000000,
          6000000000000,
          7000000000000,
          8000000000000,
          9000000000000,
          10000000000000,
          11000000000000,
          12000000000000,
          13000000000000,
          14000000000000,
          15000000000000,
          16000000000000,
          17000000000000,
          18000000000000,
          19000000000000,
          20000000000000,
          21000000000000,
          22000000000000,
          23000000000000,
          24000000000000,
          25000000000000,
          26000000000000,
          27000000000000,
          28000000000000,
          29000000000000,
          30000000000000,
          31000000000000,
          32000000000000,
          33000000000000,
          34000000000000,
          35000000000000
         ],
         "y": {
          "bdata": "3oNcOuw+o0DkvGZE1DiqQBOiBeSdT6pAGSzCOEZZqkAW9h+F6VuqQKsmfvSNXKpAWs3UXrhcqkBg65dAv1yqQGdOSdTBXKpA/H80AcNcqkDjy2H/w1yqQP1+wKLEXKpA/A/78MRcqkCSBPU/xVyqQLJid4vFXKpAuyLsU8VcqkAMc7ccxVyqQKlT2eXEXKpAZfDXjsRcqkC2syMcxFyqQKcZnarDXKpAFmzROsNcqkA2vDTdwlyqQIh6VYDCXKpAD6czJMJcqkAr/KjdwVyqQDd62KnBXKpAPeU2dsFcqkA2JRxEwVyqQJptCTzBXKpAhPX2M8FcqkD0vOQrwVyqQLBPljHBXKpAXc5VTcFcqkBoFBl2wVyqQNjZkavBXKpA",
          "dtype": "f8"
         }
        },
        {
         "line": {
          "color": "rgb(2, 118, 195)"
         },
         "mode": "lines",
         "name": "026",
         "opacity": 0.4,
         "type": "scatter",
         "x": [
          0,
          1000000000000,
          2000000000000,
          3000000000000,
          4000000000000,
          5000000000000,
          6000000000000,
          7000000000000,
          8000000000000,
          9000000000000,
          10000000000000,
          11000000000000,
          12000000000000,
          13000000000000,
          14000000000000,
          15000000000000,
          16000000000000,
          17000000000000,
          18000000000000,
          19000000000000,
          20000000000000,
          21000000000000,
          22000000000000,
          23000000000000,
          24000000000000,
          25000000000000,
          26000000000000,
          27000000000000,
          28000000000000,
          29000000000000,
          30000000000000,
          31000000000000,
          32000000000000,
          33000000000000,
          34000000000000,
          35000000000000
         ],
         "y": {
          "bdata": "B/s1ups5o0DAdSNhU2urQLxl1i76d6tAMrITku57q0BC83zMi3yrQNWvbEAyfKtAUi/rqeZ7q0AWl+NJqHurQLA7ec7Ie6tAVabkApJ7q0ASOiFTlnurQD2BqgR4e6tABOXpLHx7q0B+H0Lcg3urQIj7oKN+e6tAMEZEf3l7q0B+/ytvdHurQPFJa11te6tAwA1b6WV7q0AKBkN7XnurQIq2xmtee6tAdZ6z7GV7q0AYzVRubXurQGhCqvB0e6tAYTQv9XB7q0Dwdo/obHurQGdIrN9oe6tAPtIBmWh7q0BHL+cxbHurQDZvJ9Fve6tAFpLCdnN7q0AC1WC6dnurQLht8AR6e6tAPAIwV317q0CIOEfGfnurQO3T8UF+e6tA",
          "dtype": "f8"
         }
        },
        {
         "line": {
          "color": "rgb(2, 128, 200)"
         },
         "mode": "lines",
         "name": "027",
         "opacity": 0.4,
         "type": "scatter",
         "x": [
          0,
          1000000000000,
          2000000000000,
          3000000000000,
          4000000000000,
          5000000000000,
          6000000000000,
          7000000000000,
          8000000000000,
          9000000000000,
          10000000000000,
          11000000000000,
          12000000000000,
          13000000000000,
          14000000000000,
          15000000000000,
          16000000000000,
          17000000000000,
          18000000000000,
          19000000000000,
          20000000000000,
          21000000000000,
          22000000000000,
          23000000000000,
          24000000000000,
          25000000000000,
          26000000000000,
          27000000000000,
          28000000000000,
          29000000000000,
          30000000000000,
          31000000000000,
          32000000000000,
          33000000000000,
          34000000000000,
          35000000000000
         ],
         "y": {
          "bdata": "vuBvfU8/o0BfH/ErzkqqQFX4bAP9ZapA0LTVpqNuqkAMtiCeh3CqQJJlp6MBcapAxOwMvxtxqkCLodc/HnGqQHNaDxYccapARNfBTBlxqkASeXKRF3GqQErLCUEWcapAPdFE9hRxqkDoWr3qE3GqQHaHp7ITcapA+yu4ehNxqkCBSO9CE3GqQMCHEX8TcapAYHMO6hNxqkDHChhWFHGqQLClWNMUcapAMIhjjRVxqkDSijNKFnGqQJOtyAkXcapAYrhr0RdxqkAII9edGHGqQMOj7mwZcapApMOpMhpxqkAIVpDOGnGqQAgizWsbcapAridgChxxqkCxWX5sHHGqQCaUgrYccapArzPKAB1xqkBv0PA9HXGqQFWrSjYdcapA",
          "dtype": "f8"
         }
        },
        {
         "line": {
          "color": "rgb(2, 138, 204)"
         },
         "mode": "lines",
         "name": "028",
         "opacity": 0.4,
         "type": "scatter",
         "x": [
          0,
          1000000000000,
          2000000000000,
          3000000000000,
          4000000000000,
          5000000000000,
          6000000000000,
          7000000000000,
          8000000000000,
          9000000000000,
          10000000000000,
          11000000000000,
          12000000000000,
          13000000000000,
          14000000000000,
          15000000000000,
          16000000000000,
          17000000000000,
          18000000000000,
          19000000000000,
          20000000000000,
          21000000000000,
          22000000000000,
          23000000000000,
          24000000000000,
          25000000000000,
          26000000000000,
          27000000000000,
          28000000000000,
          29000000000000,
          30000000000000,
          31000000000000,
          32000000000000,
          33000000000000,
          34000000000000,
          35000000000000
         ],
         "y": {
          "bdata": "dCMZ9Fz3okDwF528xaeoQKn8wC6IuqhAlqdfXSzJqEC6RAJc3c2oQKxKgBdFz6hAs7M5zqfPqEDMNh31wc+oQA2Q/z7Jz6hAZgwD2cnPqEA1gAXdyc+oQIBVTKPJz6hAgiGCd8nPqED3dshLyc+oQEMX3i3Jz6hABueMK8nPqEDjwUQpyc+oQOCnBSfJz6hAUe32KMnPqEBB2b8ryc+oQAhaii7Jz6hA84BKMMnPqEBoGvIvyc+oQN24mS/Jz6hAVFxBL8nPqEDvbN0tyc+oQOwLRCzJz6hALPaqKsnPqECqcOooyc+oQOul2ibJz6hAnkTLJMnPqEDJTLwiyc+oQB9iAyHJz6hA/ARcH8nPqEBbA7Udyc+oQMZrTBzJz6hA",
          "dtype": "f8"
         }
        },
        {
         "line": {
          "color": "rgb(2, 148, 208)"
         },
         "mode": "lines",
         "name": "029",
         "opacity": 0.4,
         "type": "scatter",
         "x": [
          0,
          1000000000000,
          2000000000000,
          3000000000000,
          4000000000000,
          5000000000000,
          6000000000000,
          7000000000000,
          8000000000000,
          9000000000000,
          10000000000000,
          11000000000000,
          12000000000000,
          13000000000000,
          14000000000000,
          15000000000000,
          16000000000000,
          17000000000000,
          18000000000000,
          19000000000000,
          20000000000000,
          21000000000000,
          22000000000000,
          23000000000000,
          24000000000000,
          25000000000000,
          26000000000000,
          27000000000000,
          28000000000000,
          29000000000000,
          30000000000000,
          31000000000000,
          32000000000000,
          33000000000000,
          34000000000000,
          35000000000000
         ],
         "y": {
          "bdata": "WArm511Lo0CIjPpWFOGoQD3WFlsCAqlAUQdPMr8MqUDsaQFWng+pQOizAGpXEKlAwKCxHIUQqUBeNZbYjxCpQLEOsFiREKlAoDd/MpEQqUAg4GGikBCpQGoWRhKQEKlAubDFyY8QqUCuhGikjxCpQPCvC3+PEKlAo3j9Xo8QqUCErrBYjxCpQJUCZFKPEKlA3nQXTI8QqUDtWVRIjxCpQLP8z0WPEKlAILpLQ48QqUDc8eZAjxCpQFWLGj+PEKlASzlOPY8QqUC5+4E7jxCpQBqAmTqPEKlA9scgOo8QqUDZF6g5jxCpQDADUjmPEKlAvcijOY8QqUAIkPU5jxCpQAVZRzqPEKlAfzT6Oo8QqUBGqxY8jxCpQDiLeD2PEKlA",
          "dtype": "f8"
         }
        },
        {
         "line": {
          "color": "rgb(2, 157, 212)"
         },
         "mode": "lines",
         "name": "030",
         "opacity": 0.4,
         "type": "scatter",
         "x": [
          0,
          1000000000000,
          2000000000000,
          3000000000000,
          4000000000000,
          5000000000000,
          6000000000000,
          7000000000000,
          8000000000000,
          9000000000000,
          10000000000000,
          11000000000000,
          12000000000000,
          13000000000000,
          14000000000000,
          15000000000000,
          16000000000000,
          17000000000000,
          18000000000000,
          19000000000000,
          20000000000000,
          21000000000000,
          22000000000000,
          23000000000000,
          24000000000000,
          25000000000000,
          26000000000000,
          27000000000000,
          28000000000000,
          29000000000000,
          30000000000000,
          31000000000000,
          32000000000000,
          33000000000000,
          34000000000000,
          35000000000000
         ],
         "y": {
          "bdata": "aswSBKoto0BZWfyfTL+lQJBtSwA4waVAFYXxGdLFpUBXfk1soMelQAOP31M+yKVAlk1P8G/IpUBYY5HYgcilQODQh32HyKVAjZQZMorIpUD9PofpisilQPT9c9eJyKVAVgr6mInIpUDS0q5iicilQJ8wtC+JyKVAzBeS/ojIpUD+Zhz1icilQIS7lSOLyKVAzWJwXIzIpUAfE+ztjMilQO1eEYOMyKVABZm1T4zIpUAjoVMfjMilQL85kfGLyKVAoeAy9YvIpUBDyB0UjMilQLP3uS6MyKVA7JiYMYzIpUBTU5Y0jMilQMXANCmMyKVAlV9V74vIpUBKX421i8ilQOO/3HuLyKVAMw0KaYvIpUDH1+1gi8ilQLB6C1mLyKVA",
          "dtype": "f8"
         }
        },
        {
         "line": {
          "color": "rgb(3, 167, 217)"
         },
         "mode": "lines",
         "name": "031",
         "opacity": 0.4,
         "type": "scatter",
         "x": [
          0,
          1000000000000,
          2000000000000,
          3000000000000,
          4000000000000,
          5000000000000,
          6000000000000,
          7000000000000,
          8000000000000,
          9000000000000,
          10000000000000,
          11000000000000,
          12000000000000,
          13000000000000,
          14000000000000,
          15000000000000,
          16000000000000,
          17000000000000,
          18000000000000,
          19000000000000,
          20000000000000,
          21000000000000,
          22000000000000,
          23000000000000,
          24000000000000,
          25000000000000,
          26000000000000,
          27000000000000,
          28000000000000,
          29000000000000,
          30000000000000,
          31000000000000,
          32000000000000,
          33000000000000,
          34000000000000,
          35000000000000
         ],
         "y": {
          "bdata": "Z2db7Hhao0BYsP0JsnWmQOpHd1CGgqZAOITGQpuJpkBMhDfd/4umQJGnxHC9jKZAenOx//WMpkDMl30TBY2mQF4zfIcEjaZAm2zG0AeNpkDDJ11ZCY2mQMCwsyUKjaZAWKOJPAqNpkAmKXRTCo2mQFb4C2kKjaZA7GPj9AmNpkAxlMSACY2mQB+JrwwJjaZAKLAUxAiNpkCmHjalCI2mQF/rWIYIjaZAy8f2ZwiNpkAGv0J4CI2mQCzQjogIjaZAPfvamAiNpkBpc4ijCI2mQHYU0KgIjaZAUMoXrgiNpkBdGVezCI2mQBWFVbUIjaZArvRTtwiNpkAtaFK5CI2mQNR62LkIjaZAMhD1uAiNpkAXrRG4CI2mQD5DLrcIjaZA",
          "dtype": "f8"
         }
        },
        {
         "line": {
          "color": "rgb(3, 177, 221)"
         },
         "mode": "lines",
         "name": "032",
         "opacity": 0.4,
         "type": "scatter",
         "x": [
          0,
          1000000000000,
          2000000000000,
          3000000000000,
          4000000000000,
          5000000000000,
          6000000000000,
          7000000000000,
          8000000000000,
          9000000000000,
          10000000000000,
          11000000000000,
          12000000000000,
          13000000000000,
          14000000000000,
          15000000000000,
          16000000000000,
          17000000000000,
          18000000000000,
          19000000000000,
          20000000000000,
          21000000000000,
          22000000000000,
          23000000000000,
          24000000000000,
          25000000000000,
          26000000000000,
          27000000000000,
          28000000000000,
          29000000000000,
          30000000000000,
          31000000000000,
          32000000000000,
          33000000000000,
          34000000000000,
          35000000000000
         ],
         "y": {
          "bdata": "W1ZcChY8o0CgxCOef3+rQOYluJgii6tAKjqyL4+Oq0DgMQChL46rQB9noEwXjatAksjE94aMq0CGkABYG4yrQADR2Jnmi6tAjvAw8ciLq0AckB0Ys4urQPIBRzWqi6tAbgbxeK6Lq0BO5uPJvIurQNSS98i7i6tAelvJ/rKLq0AnQO/2qYurQKSQ4IGgi6tAea7Jh5uLq0CvxjHYlourQKT3BBOVi6tAWiCsYZOLq0DHk9GMk4urQMskwxGVi6tASg4BvpaLq0DSKbvomIurQMVJGyibi6tAKm4hfJ2Lq0D5QWRCn4urQLvOgM6gi6tAJcFlZaKLq0DuPevjo4urQHQ9tNmki6tAMmZq0qWLq0AtuA3OpourQOHC3U+ni6tA",
          "dtype": "f8"
         }
        },
        {
         "line": {
          "color": "rgb(3, 187, 225)"
         },
         "mode": "lines",
         "name": "033",
         "opacity": 0.4,
         "type": "scatter",
         "x": [
          0,
          1000000000000,
          2000000000000,
          3000000000000,
          4000000000000,
          5000000000000,
          6000000000000,
          7000000000000,
          8000000000000,
          9000000000000,
          10000000000000,
          11000000000000,
          12000000000000,
          13000000000000,
          14000000000000,
          15000000000000,
          16000000000000,
          17000000000000,
          18000000000000,
          19000000000000,
          20000000000000,
          21000000000000,
          22000000000000,
          23000000000000,
          24000000000000,
          25000000000000,
          26000000000000,
          27000000000000,
          28000000000000,
          29000000000000,
          30000000000000,
          31000000000000,
          32000000000000,
          33000000000000,
          34000000000000,
          35000000000000
         ],
         "y": {
          "bdata": "iAWjRZJFo0APiz9mvjeqQIduT/W3TapAaOUYhARWqkC2eRPP1VeqQFtWm+e/WqpArgA0PuRZqkDYEF9tNVqqQH/L1cxYWqpAbiv93VBaqkCkhR0lS1qqQAqTQMVNWqpAM9f231BaqkDK6iifUVqqQItvFcFQWqpAqt6Ark9aqkBeqvWbTlqqQLgs0v1NWqpAnjdMvk1aqkDgEcd+TVqqQN5qE0hNWqpAIRF4s01aqkBU394eTlqqQHjVR4pOWqpAWqxG+E5aqkC7DF9oT1qqQIlZeNhPWqpAdFHmRVBaqkBuIC+CUFqqQMIyeL5QWqpAbYjB+lBaqkAq79oSUVqqQIIBiQ1RWqpA3Es3CFFaqkCG1usAUVqqQMrL8MlQWqpA",
          "dtype": "f8"
         }
        },
        {
         "line": {
          "color": "rgb(4, 196, 230)"
         },
         "mode": "lines",
         "name": "034",
         "opacity": 0.4,
         "type": "scatter",
         "x": [
          0,
          1000000000000,
          2000000000000,
          3000000000000,
          4000000000000,
          5000000000000,
          6000000000000,
          7000000000000,
          8000000000000,
          9000000000000,
          10000000000000,
          11000000000000,
          12000000000000,
          13000000000000,
          14000000000000,
          15000000000000,
          16000000000000,
          17000000000000,
          18000000000000,
          19000000000000,
          20000000000000,
          21000000000000,
          22000000000000,
          23000000000000,
          24000000000000,
          25000000000000,
          26000000000000,
          27000000000000,
          28000000000000,
          29000000000000,
          30000000000000,
          31000000000000,
          32000000000000,
          33000000000000,
          34000000000000,
          35000000000000
         ],
         "y": {
          "bdata": "MhaBBUTLokB22T5ypaynQDJV9SV4wKdAGxOUVBrOp0AdkjF9StOnQB8OKSUE1adA/mdq75HVp0BBOgsLvtWnQIvulvjI1adAek0uAszVp0AyrE3ey9WnQH4ooLnL1adARzadpcvVp0D9UBuXy9WnQB3IB43L1adAXlQCg8vVp0DacLl5y9WnQBhZ+HzL1adAvKA3gMvVp0C+R3eDy9WnQMJuaInL1adAuH2PkcvVp0CKEb6Zy9WnQOs+8aHL1adAXtT2qcvVp0CQxASyy9WnQHwPG7rL1adA3a8ewcvVp0Dka0LHy9WnQD+Ya83L1adACrd308vVp0Dexw7Xy9WnQDkAqNrL1adAGmBD3svVp0AUAJ3gy9WnQChKD+HL1adA",
          "dtype": "f8"
         }
        },
        {
         "line": {
          "color": "rgb(4, 206, 234)"
         },
         "mode": "lines",
         "name": "035",
         "opacity": 0.4,
         "type": "scatter",
         "x": [
          0,
          1000000000000,
          2000000000000,
          3000000000000,
          4000000000000,
          5000000000000,
          6000000000000,
          7000000000000,
          8000000000000,
          9000000000000,
          10000000000000,
          11000000000000,
          12000000000000,
          13000000000000,
          14000000000000,
          15000000000000,
          16000000000000,
          17000000000000,
          18000000000000,
          19000000000000,
          20000000000000,
          21000000000000,
          22000000000000,
          23000000000000,
          24000000000000,
          25000000000000,
          26000000000000,
          27000000000000,
          28000000000000,
          29000000000000,
          30000000000000,
          31000000000000,
          32000000000000,
          33000000000000,
          34000000000000,
          35000000000000
         ],
         "y": {
          "bdata": "WsI0uCI1o0BH3x1NcRGoQMslzlRmMahAXAh1lAY9qECyA8KSSECoQK8mzv8vQahAfKoY6GhBqEDWgCM3d0GoQFR/NKB4QahAfl4YDXlBqECC1903eUGoQO8C8lF5QahA1DMGbHlBqEBchcB1eUGoQPHJfXp5QahA2Q47f3lBqECEDtmCeUGoQGlOX4N5QahAcI7lg3lBqECdzmuEeUGoQFnag4R5QahA7EZ6hHlBqECRs3CEeUGoQJBAd4R5QahAnD+qhHlBqECpPt2EeUGoQLw9EIV5QahA/iAjhXlBqECEOCyFeUGoQApQNYV5QahAB+8+hXlBqEBkA0qFeUGoQL8XVYV5QahAHSxghXlBqEAelmCFeUGoQCC/XYV5QahA",
          "dtype": "f8"
         }
        },
        {
         "line": {
          "color": "rgb(4, 216, 238)"
         },
         "mode": "lines",
         "name": "036",
         "opacity": 0.4,
         "type": "scatter",
         "x": [
          0,
          1000000000000,
          2000000000000,
          3000000000000,
          4000000000000,
          5000000000000,
          6000000000000,
          7000000000000,
          8000000000000,
          9000000000000,
          10000000000000,
          11000000000000,
          12000000000000,
          13000000000000,
          14000000000000,
          15000000000000,
          16000000000000,
          17000000000000,
          18000000000000,
          19000000000000,
          20000000000000,
          21000000000000,
          22000000000000,
          23000000000000,
          24000000000000,
          25000000000000,
          26000000000000,
          27000000000000,
          28000000000000,
          29000000000000,
          30000000000000,
          31000000000000,
          32000000000000,
          33000000000000,
          34000000000000,
          35000000000000
         ],
         "y": {
          "bdata": "DlbOh4tQo0CfQWCFcvioQLXZvtuLGalAlw66LVQkqUBuaOpdOCepQCjaaLbwJ6lAOFwmXR4oqUCglCxfJyipQLLpDNcoKKlA/L6vPigoqUBCsbyBJyipQCZlycgmKKlAcHGamiYoqUCdGmxsJiipQK1gPj4mKKlAhv2JJiYoqUDmR+0iJiipQPtYUR8mKKlAKmLTGyYoqUBYAUwcJiipQFXwxBwmKKlALC8+HSYoqUD/gW4dJiipQIqCXR0mKKlAgZxMHSYoqUB0yj8dJiipQHI5vR0mKKlAxak6HiYoqUBxG7geJiipQLvSLB8mKKlAc32THyYoqUD6CvIfJiipQF5iSSAmKKlAzES9ICYoqUAIsTkhJiipQH3HviEmKKlA",
          "dtype": "f8"
         }
        },
        {
         "line": {
          "color": "rgb(4, 226, 242)"
         },
         "mode": "lines",
         "name": "037",
         "opacity": 0.4,
         "type": "scatter",
         "x": [
          0,
          1000000000000,
          2000000000000,
          3000000000000,
          4000000000000,
          5000000000000,
          6000000000000,
          7000000000000,
          8000000000000,
          9000000000000,
          10000000000000,
          11000000000000,
          12000000000000,
          13000000000000,
          14000000000000,
          15000000000000,
          16000000000000,
          17000000000000,
          18000000000000,
          19000000000000,
          20000000000000,
          21000000000000,
          22000000000000,
          23000000000000,
          24000000000000,
          25000000000000,
          26000000000000,
          27000000000000,
          28000000000000,
          29000000000000,
          30000000000000,
          31000000000000,
          32000000000000,
          33000000000000,
          34000000000000,
          35000000000000
         ],
         "y": {
          "bdata": "1HQvPmPqokAdwapsFUOoQN1Yc9U7UqhAH1ybDsdfqEAlvnWkaWSoQEp7Vk3bZahAN31KPkdmqEDrQGD0Y2aoQOub/CdsZqhA2omQ+2xmqEChjn+3bGaoQLJrDmxsZqhAvraWSWxmqEB0NaM1bGaoQC+RvSFsZqhATGCzGGxmqEA9Nq8TbGaoQEi/qw5sZqhA0VTUCmxmqECU8ewKbGaoQHdeBgtsZqhAeZsgC2xmqEC68QcMbGaoQAKHPA1sZqhA1IlyDmxmqEB7xZgPbGaoQFJLhhBsZqhAXtl0EWxmqECkb2QSbGaoQNMxRRNsZqhAMpwgFGxmqEAAgPwUbGaoQKQHxBVsZqhAmrYnFmxmqECOnloWbGaoQLe2XBZsZqhA",
          "dtype": "f8"
         }
        },
        {
         "line": {
          "color": "rgb(4, 235, 246)"
         },
         "mode": "lines",
         "name": "038",
         "opacity": 0.4,
         "type": "scatter",
         "x": [
          0,
          1000000000000,
          2000000000000,
          3000000000000,
          4000000000000,
          5000000000000,
          6000000000000,
          7000000000000,
          8000000000000,
          9000000000000,
          10000000000000,
          11000000000000,
          12000000000000,
          13000000000000,
          14000000000000,
          15000000000000,
          16000000000000,
          17000000000000,
          18000000000000,
          19000000000000,
          20000000000000,
          21000000000000,
          22000000000000,
          23000000000000,
          24000000000000,
          25000000000000,
          26000000000000,
          27000000000000,
          28000000000000,
          29000000000000,
          30000000000000,
          31000000000000,
          32000000000000,
          33000000000000,
          34000000000000,
          35000000000000
         ],
         "y": {
          "bdata": "2qHh67gLo0ChZNg3NbmlQADJ5W70uaVAckVwHf6/pUAZmO2gp8KlQOLyjzyow6VAIjHc1ADEpUBwlqXUH8SlQBJ15ugpxKVALNPTfSvEpUBOjdXyLMSlQNCMV9gtxKVAtgRIqy3EpUA4lER+LcSlQHLoLUYtxKVAFbc6Ci3EpUBwWEvOLMSlQF1Y7Z4sxKVAgmgGlyzEpUB/vx+PLMSlQFVdOYcsxKVAttMziSzEpUBesqCOLMSlQKTCDZQsxKVAGObLmCzEpUAPrGObLMSlQPh9+50sxKVA11uToCzEpUCAaj2hLMSlQIYxO6EsxKVAt/04oSzEpUAwFuOgLMSlQJUGhp8sxKVAK/oonizEpUDy8MucLMSlQPGGU5wsxKVA",
          "dtype": "f8"
         }
        },
        {
         "line": {
          "color": "rgb(5, 245, 251)"
         },
         "mode": "lines",
         "name": "039",
         "opacity": 0.4,
         "type": "scatter",
         "x": [
          0,
          1000000000000,
          2000000000000,
          3000000000000,
          4000000000000,
          5000000000000,
          6000000000000,
          7000000000000,
          8000000000000,
          9000000000000,
          10000000000000,
          11000000000000,
          12000000000000,
          13000000000000,
          14000000000000,
          15000000000000,
          16000000000000,
          17000000000000,
          18000000000000,
          19000000000000,
          20000000000000,
          21000000000000,
          22000000000000,
          23000000000000,
          24000000000000,
          25000000000000,
          26000000000000,
          27000000000000,
          28000000000000,
          29000000000000,
          30000000000000,
          31000000000000,
          32000000000000,
          33000000000000,
          34000000000000,
          35000000000000
         ],
         "y": {
          "bdata": "fzdjXcFco0DGsawalJirQDCenkoFuKtAcBVNbQu+q0D15TLDFr+rQHXtCQMuv6tAJviofQK/q0BjGKNc9b6rQBLbCfjlvqtAPnxGCt2+q0ASjRfv1r6rQDJJXjLSvqtA3PzcwM6+q0C1ckeKz76rQLBB17zQvqtAxDr+XNG+q0BpR2EO0r6rQHPtzMXSvqtAQeubZdO+q0CYWD4S1L6rQHg1tMvUvqtAI+JKU9W+q0BOWHnK1b6rQEkeG0bWvqtA7tq8s9a+q0BMNRLp1r6rQGzquR7XvqtAUPqzVNe+q0A4dhdh176rQAjafkjXvqtA08jMF9e+q0CoBbbM1r6rQEh1RVjWvqtA3nu2x9W+q0AbVdQd1b6rQBA+u33UvqtA",
          "dtype": "f8"
         }
        },
        {
         "line": {
          "color": "rgb(5, 255, 255)"
         },
         "mode": "lines",
         "name": "040",
         "opacity": 0.4,
         "type": "scatter",
         "x": [
          0,
          1000000000000,
          2000000000000,
          3000000000000,
          4000000000000,
          5000000000000,
          6000000000000,
          7000000000000,
          8000000000000,
          9000000000000,
          10000000000000,
          11000000000000,
          12000000000000,
          13000000000000,
          14000000000000,
          15000000000000,
          16000000000000,
          17000000000000,
          18000000000000,
          19000000000000,
          20000000000000,
          21000000000000,
          22000000000000,
          23000000000000,
          24000000000000,
          25000000000000,
          26000000000000,
          27000000000000,
          28000000000000,
          29000000000000,
          30000000000000,
          31000000000000,
          32000000000000,
          33000000000000,
          34000000000000,
          35000000000000
         ],
         "y": {
          "bdata": "ao2Sy+Q4o0BRzvXrnCCoQLB7HxpcPKhAcdCNjmlIqEB9wjNP3UuoQCLlTpvPTKhAW3EnEwtNqEAjCTvKGk2oQO9LvMccTahAECebKR1NqEBbRsSlHE2oQI0n3yYcTahA2/GqsRtNqED7tDaXG02oQBZ9wnwbTahAKUpOYhtNqEBIEblWG02oQBV3M1UbTahA6+KtUxtNqEDs91JSG02oQBRwh1IbTahA3eu7UhtNqEBCa/BSG02oQKGmDlMbTahA0dAdUxtNqEAl/CxTG02oQJ0WOlMbTahARs0zUxtNqED4gy1TG02oQLY6J1MbTahAZacbUxtNqEAhgAxTG02oQBBZ/VIbTahAXgzuUhtNqEBI5txSG02oQBfnylIbTahA",
          "dtype": "f8"
         }
        },
        {
         "line": {
          "color": "rgb(17, 255, 242)"
         },
         "mode": "lines",
         "name": "041",
         "opacity": 0.4,
         "type": "scatter",
         "x": [
          0,
          1000000000000,
          2000000000000,
          3000000000000,
          4000000000000,
          5000000000000,
          6000000000000,
          7000000000000,
          8000000000000,
          9000000000000,
          10000000000000,
          11000000000000,
          12000000000000,
          13000000000000,
          14000000000000,
          15000000000000,
          16000000000000,
          17000000000000,
          18000000000000,
          19000000000000,
          20000000000000,
          21000000000000,
          22000000000000,
          23000000000000,
          24000000000000,
          25000000000000,
          26000000000000,
          27000000000000,
          28000000000000,
          29000000000000,
          30000000000000,
          31000000000000,
          32000000000000,
          33000000000000,
          34000000000000,
          35000000000000
         ],
         "y": {
          "bdata": "iRXXGdk9o0ARCpAijMKnQJYaZTfR3KdAE7ayRenop0DcP8h1fuynQDOmoz2E7adAWnQC2cjtp0BE7XSi2u2nQA5HNovc7adATt58q9ztp0DKBGu+3O2nQG7A2Mnc7adAlpKNztztp0CGZULT3O2nQMT9Gdfc7adAPxRQ2Nztp0AAK4bZ3O2nQAhCvNrc7adAN+A229ztp0A9FnLb3O2nQJ5Mrdvc7adAQrjo29ztp0BGxSTc3O2nQHvSYNzc7adA5t+c3Nztp0Dgjazc3O2nQM85rdzc7adAzuWt3Nztp0BIaqzc3O2nQKBfpNzc7adA/1Sc3Nztp0BcSpTc3O2nQIDXhtzc7adAcpZ03Nztp0Ax7V7c3O2nQNdaR9zc7adA",
          "dtype": "f8"
         }
        },
        {
         "line": {
          "color": "rgb(30, 255, 230)"
         },
         "mode": "lines",
         "name": "042",
         "opacity": 0.4,
         "type": "scatter",
         "x": [
          0,
          1000000000000,
          2000000000000,
          3000000000000,
          4000000000000,
          5000000000000,
          6000000000000,
          7000000000000,
          8000000000000,
          9000000000000,
          10000000000000,
          11000000000000,
          12000000000000,
          13000000000000,
          14000000000000,
          15000000000000,
          16000000000000,
          17000000000000,
          18000000000000,
          19000000000000,
          20000000000000,
          21000000000000,
          22000000000000,
          23000000000000,
          24000000000000,
          25000000000000,
          26000000000000,
          27000000000000,
          28000000000000,
          29000000000000,
          30000000000000,
          31000000000000,
          32000000000000,
          33000000000000,
          34000000000000,
          35000000000000
         ],
         "y": {
          "bdata": "e2n/6CBBo0AJURMUYXmoQAwpCrbsmKhADDTMEGikqEDXuvDLi6eoQNoAVRBjqKhAlFRDLZWoqEBA2JJtoKioQB0WhbOhqKhAQJPGM6KoqECwKw1aoqioQFfQU4CiqKhAmIHgm6KoqEDqntijoqioQDO90KuiqKhAdNzIs6KoqEDiRsi1oqioQMwywraiqKhA/h68t6KoqEAbtWe4oqioQLJLhLiiqKhAXOKguKKoqEAaeb24oqioQBgzA7miqKhAifZPuaKoqED8uZy5oqioQJZMyLmiqKhA30i3uaKoqEAvRaa5oqioQIFBlbmiqKhARhKIuaKoqEDFinu5oqioQEYDb7miqKhAFq5guaKoqEASDk+5oqioQBRuPbmiqKhA",
          "dtype": "f8"
         }
        },
        {
         "line": {
          "color": "rgb(42, 255, 217)"
         },
         "mode": "lines",
         "name": "043",
         "opacity": 0.4,
         "type": "scatter",
         "x": [
          0,
          1000000000000,
          2000000000000,
          3000000000000,
          4000000000000,
          5000000000000,
          6000000000000,
          7000000000000,
          8000000000000,
          9000000000000,
          10000000000000,
          11000000000000,
          12000000000000,
          13000000000000,
          14000000000000,
          15000000000000,
          16000000000000,
          17000000000000,
          18000000000000,
          19000000000000,
          20000000000000,
          21000000000000,
          22000000000000,
          23000000000000,
          24000000000000,
          25000000000000,
          26000000000000,
          27000000000000,
          28000000000000,
          29000000000000,
          30000000000000,
          31000000000000,
          32000000000000,
          33000000000000,
          34000000000000,
          35000000000000
         ],
         "y": {
          "bdata": "5a/wHMdJo0BuI0Uu37umQG1gfEbwzaZAysAoZNfWpkCU3jjQvtmmQNM6ztWl2qZAVZNCRunapkC3aFQK/NqmQPA0g48B26ZARoBZOQPbpkDvPnkcA9umQHdC5KgC26ZAohRQNQLbpkAezHvTAdumQNcGM70B26ZAoHDqpgHbpkB8CaKQAdumQHg/CogB26ZA0U+XhQHbpkC6cSSDAdumQM8NE4EB26ZApleggAHbpkDNoS2AAdumQD3sun8B26ZAjBV5fwHbpkC/LU1/AdumQCxGIX8B26ZAyPPvfgHbpkB3kad+AdumQLgvX34B26ZAiM4WfgHbpkBQxOZ9AdumQJOmwX0B26ZAHomcfQHbpkAX5np9AdumQGwQaH0B26ZA",
          "dtype": "f8"
         }
        },
        {
         "line": {
          "color": "rgb(55, 255, 204)"
         },
         "mode": "lines",
         "name": "044",
         "opacity": 0.4,
         "type": "scatter",
         "x": [
          0,
          1000000000000,
          2000000000000,
          3000000000000,
          4000000000000,
          5000000000000,
          6000000000000,
          7000000000000,
          8000000000000,
          9000000000000,
          10000000000000,
          11000000000000,
          12000000000000,
          13000000000000,
          14000000000000,
          15000000000000,
          16000000000000,
          17000000000000,
          18000000000000,
          19000000000000,
          20000000000000,
          21000000000000,
          22000000000000,
          23000000000000,
          24000000000000,
          25000000000000,
          26000000000000,
          27000000000000,
          28000000000000,
          29000000000000,
          30000000000000,
          31000000000000,
          32000000000000,
          33000000000000,
          34000000000000,
          35000000000000
         ],
         "y": {
          "bdata": "orhyQ/5Ho0Dp7K47pF6lQPHh/bH816pAyMyxPsSiqkB12BVOOaSqQOHa9dDXpKpAAXCcNBClqkCCZHZgA6WqQDxB72b3pKpAjiQmJ++kqkBywHKd6qSqQAQ2CHvnpKpATPrh3eSkqkDniYPB4qSqQA2+JbLgpKpAvJbIr96kqkCgtYus3aSqQJUoQLPcpKpAB3Jku9ukqkAyziZN26SqQMOjQHvbpKpA6iDpqdukqkCgRSDZ26SqQGB13irdpKpAcaYLEd+kqkA68C6J4aSqQLKAgZfkpKpAUCTxPuikqkDMYsKG7KSqQO/7hXXxpKpApFEztvWkqkBaBev2+aSqQHHr+kH+pKpAcdXHcwGlqkAQoE1gA6WqQLpS4VQFpapA",
          "dtype": "f8"
         }
        },
        {
         "line": {
          "color": "rgb(67, 255, 191)"
         },
         "mode": "lines",
         "name": "045",
         "opacity": 0.4,
         "type": "scatter",
         "x": [
          0,
          1000000000000,
          2000000000000,
          3000000000000,
          4000000000000,
          5000000000000,
          6000000000000,
          7000000000000,
          8000000000000,
          9000000000000,
          10000000000000,
          11000000000000,
          12000000000000,
          13000000000000,
          14000000000000,
          15000000000000,
          16000000000000,
          17000000000000,
          18000000000000,
          19000000000000,
          20000000000000,
          21000000000000,
          22000000000000,
          23000000000000,
          24000000000000,
          25000000000000,
          26000000000000,
          27000000000000,
          28000000000000,
          29000000000000,
          30000000000000,
          31000000000000,
          32000000000000,
          33000000000000,
          34000000000000,
          35000000000000
         ],
         "y": {
          "bdata": "zhOu2IpDo0C/HCaESHGoQGHmGiNOkqhAtpyAXj2eqEAmVXI2h6GoQDIG+/1poqhAqGWkDqCiqEC/v1tprqKoQI2+29CxoqhAmz9BcrGiqEA4O+GQsKKoQMTUgq+voqhA+E+MTK+iqEB/B0obr6KoQGzzB+quoqhAlsSq366iqEC6PCvWrqKoQGHxq8yuoqhA+C04x66iqEBIBy7GrqKoQOH4I8WuoqhAxwIaxK6iqEDWAXTDrqKoQHhB0MKuoqhAAIkswq6iqEAYN3LBrqKoQEU3n8CuoqhAAjjMv66iqEBLOfm+rqKoQPhx076uoqhACIaxvq6iqEBum4++rqKoQAjTm76uoqhAzDn+vq6iqECoJ5G/rqKoQIahVMCuoqhA",
          "dtype": "f8"
         }
        },
        {
         "line": {
          "color": "rgb(80, 255, 179)"
         },
         "mode": "lines",
         "name": "046",
         "opacity": 0.4,
         "type": "scatter",
         "x": [
          0,
          1000000000000,
          2000000000000,
          3000000000000,
          4000000000000,
          5000000000000,
          6000000000000,
          7000000000000,
          8000000000000,
          9000000000000,
          10000000000000,
          11000000000000,
          12000000000000,
          13000000000000,
          14000000000000,
          15000000000000,
          16000000000000,
          17000000000000,
          18000000000000,
          19000000000000,
          20000000000000,
          21000000000000,
          22000000000000,
          23000000000000,
          24000000000000,
          25000000000000,
          26000000000000,
          27000000000000,
          28000000000000,
          29000000000000,
          30000000000000,
          31000000000000,
          32000000000000,
          33000000000000,
          34000000000000,
          35000000000000
         ],
         "y": {
          "bdata": "SxyBvF1Fo0C6tXOL/uSoQNUgmxhnA6lA7e9JRfgOqUAecvydDhKpQK8gIrLYEqlArfZX1AgTqUAV/hLxExOpQIYGjyEXE6lAgtCSGhYTqUBkjjwKFROpQIFoSgoUE6lAqune0hMTqUAfkXSbExOpQLDszHkTE6lAjpKGeBMTqUD4fEN3ExOpQO+rA3YTE6lAR1EeexMTqUCKZ+uAExOpQBRruoYTE6lAdpRgixMTqUDfVkuOExOpQL/lNpETE6lAEEEjlBMTqUBllzeUExOpQGfT/JMTE6lA9CXCkxMTqUDIs9WSExOpQG3CQZATE6lAQFjLjBMTqUDe3HKIExOpQDIa8YMTE6lAArH6fhMTqUAO6IB5ExOpQP4tGXQTE6lA",
          "dtype": "f8"
         }
        },
        {
         "line": {
          "color": "rgb(92, 255, 166)"
         },
         "mode": "lines",
         "name": "047",
         "opacity": 0.4,
         "type": "scatter",
         "x": [
          0,
          1000000000000,
          2000000000000,
          3000000000000,
          4000000000000,
          5000000000000,
          6000000000000,
          7000000000000,
          8000000000000,
          9000000000000,
          10000000000000,
          11000000000000,
          12000000000000,
          13000000000000,
          14000000000000,
          15000000000000,
          16000000000000,
          17000000000000,
          18000000000000,
          19000000000000,
          20000000000000,
          21000000000000,
          22000000000000,
          23000000000000,
          24000000000000,
          25000000000000,
          26000000000000,
          27000000000000,
          28000000000000,
          29000000000000,
          30000000000000,
          31000000000000,
          32000000000000,
          33000000000000,
          34000000000000,
          35000000000000
         ],
         "y": {
          "bdata": "xBcfyzL8okCwZGgrdDOmQJSJ+JPqO6ZAZbSi3nBFpkAdEyAaU0mmQJjjdVqwSqZA8lKDqSFLpkDqnFYhRUumQP9fyk5QS6ZAtKUG/VJLpkDG83dlU0umQC/tRWJTS6ZAHFGjOFNLpkC2ywAPU0umQBHHUfVSS6ZAVs4w7FJLpkBt1w/jUkumQFni7tlSS6ZA663Y2FJLpkBvx9XXUkumQAHh0tZSS6ZAhus51lJLpkDC6Q7WUkumQATo49VSS6ZASOa41VJLpkAhZK/VUkumQGIyptVSS6ZApgCd1VJLpkCoQJPVUkumQAPtiNVSS6ZAXpl+1VJLpkC4RXTVUkumQFHGdtVSS6ZAtWV51VJLpkAbBXzVUkumQD6jftVSS6ZA",
          "dtype": "f8"
         }
        },
        {
         "line": {
          "color": "rgb(105, 255, 153)"
         },
         "mode": "lines",
         "name": "048",
         "opacity": 0.4,
         "type": "scatter",
         "x": [
          0,
          1000000000000,
          2000000000000,
          3000000000000,
          4000000000000,
          5000000000000,
          6000000000000,
          7000000000000,
          8000000000000,
          9000000000000,
          10000000000000,
          11000000000000,
          12000000000000,
          13000000000000,
          14000000000000,
          15000000000000,
          16000000000000,
          17000000000000,
          18000000000000,
          19000000000000,
          20000000000000,
          21000000000000,
          22000000000000,
          23000000000000,
          24000000000000,
          25000000000000,
          26000000000000,
          27000000000000,
          28000000000000,
          29000000000000,
          30000000000000,
          31000000000000,
          32000000000000,
          33000000000000,
          34000000000000,
          35000000000000
         ],
         "y": {
          "bdata": "Rv1jGwPbokC/vQFgXaenQGkM6txsuqdAOumWUcTIp0CF3RR2EM6nQFgzcBPCz6dAJI7AJ0PQp0D+PixIatCnQDfXXXh10KdAYHtLn3fQp0CBvK00eNCnQIrqy/x30KdAw33rxHfQp0ClfpKnd9CnQHygy5p30KdAldgEjnfQp0Cw2HCCd9CnQDKxCYB30KdAy5WifXfQp0B2hjt7d9CnQA5KfHl30KdAu/UleHfQp0CzvM92d9CnQFUhgXV30KdANR5sdHfQp0DcLFdzd9CnQEJNQnJ30KdAcJOFcXfQp0DK5v9wd9CnQNs+enB30KdAWqQBcHfQp0Cw3exvd9CnQDIX2G930KdA3FDDb3fQp0AOW+pvd9CnQKjqXHB30KdA",
          "dtype": "f8"
         }
        },
        {
         "line": {
          "color": "rgb(117, 255, 140)"
         },
         "mode": "lines",
         "name": "049",
         "opacity": 0.4,
         "type": "scatter",
         "x": [
          0,
          1000000000000,
          2000000000000,
          3000000000000,
          4000000000000,
          5000000000000,
          6000000000000,
          7000000000000,
          8000000000000,
          9000000000000,
          10000000000000,
          11000000000000,
          12000000000000,
          13000000000000,
          14000000000000,
          15000000000000,
          16000000000000,
          17000000000000,
          18000000000000,
          19000000000000,
          20000000000000,
          21000000000000,
          22000000000000,
          23000000000000,
          24000000000000,
          25000000000000,
          26000000000000,
          27000000000000,
          28000000000000,
          29000000000000,
          30000000000000,
          31000000000000,
          32000000000000,
          33000000000000,
          34000000000000,
          35000000000000
         ],
         "y": {
          "bdata": "wGB+vgA8o0C6NRegiU6qQEwtLt0HvKhAFAp34pTOqECp9BCbu9SoQHDiSShp1qhAmuI8EN7WqEC3eazO+taoQJQmBX4A16hA7vkudQHXqEDYQEgyAdeoQObJeggB16hAGNFW+gDXqEDA3jLsANeoQN7yDt4A16hA/M9n2gDXqEDkjwPXANeoQK9Xn9MA16hA3lZv0QDXqECcBZPQANeoQB24ts8A16hAXG7azgDXqEDtvmHOANeoQOyK680A16hAbVd1zQDXqEDpZk3NANeoQJO3e80A16hAVgiqzQDXqEA4WdjNANeoQKxwKM4A16hAJWB5zgDXqEBUUMrOANeoQLyCFM8A16hADkdXzwDXqEA0DJrPANeoQCrS3M8A16hA",
          "dtype": "f8"
         }
        },
        {
         "line": {
          "color": "rgb(130, 255, 128)"
         },
         "mode": "lines",
         "name": "050",
         "opacity": 0.4,
         "type": "scatter",
         "x": [
          0,
          1000000000000,
          2000000000000,
          3000000000000,
          4000000000000,
          5000000000000,
          6000000000000,
          7000000000000,
          8000000000000,
          9000000000000,
          10000000000000,
          11000000000000,
          12000000000000,
          13000000000000,
          14000000000000,
          15000000000000,
          16000000000000,
          17000000000000,
          18000000000000,
          19000000000000,
          20000000000000,
          21000000000000,
          22000000000000,
          23000000000000,
          24000000000000,
          25000000000000,
          26000000000000,
          27000000000000,
          28000000000000,
          29000000000000,
          30000000000000,
          31000000000000,
          32000000000000,
          33000000000000,
          34000000000000,
          35000000000000
         ],
         "y": {
          "bdata": "4zg204ZNo0A3CS0ATXyrQEst9Mv5iKtATEr2u92Lq0AaBHifKourQJMvAC9EiqtA5Aj91MaJq0CssXfnfomrQEFR5WxbiatA5wWzQUGJq0CbmR1IO4mrQAwPkJBDiatAZh+VUFKJq0DDo2hHWYmrQBixVQBYiatAUICuNk2Jq0DEGfzBQImrQLYnT241iatANs65ZyqJq0BCDTyuH4mrQE9HvU0XiatAaE5zDhGJq0Den/vtComrQJjNrvQEiatAlE+fOgKJq0BdjgSF/4irQPaJ3tP8iKtA3iz05fuIq0Cq6oem/IirQCZrpWf9iKtA2gsjLv6Iq0CaeeZZAYmrQBzDmKMFiatAbFtVFguJq0CWvd06EYmrQBomTrwXiatA",
          "dtype": "f8"
         }
        },
        {
         "line": {
          "color": "rgb(142, 255, 115)"
         },
         "mode": "lines",
         "name": "051",
         "opacity": 0.4,
         "type": "scatter",
         "x": [
          0,
          1000000000000,
          2000000000000,
          3000000000000,
          4000000000000,
          5000000000000,
          6000000000000,
          7000000000000,
          8000000000000,
          9000000000000,
          10000000000000,
          11000000000000,
          12000000000000,
          13000000000000,
          14000000000000,
          15000000000000,
          16000000000000,
          17000000000000,
          18000000000000,
          19000000000000,
          20000000000000,
          21000000000000,
          22000000000000,
          23000000000000,
          24000000000000,
          25000000000000,
          26000000000000,
          27000000000000,
          28000000000000,
          29000000000000,
          30000000000000,
          31000000000000,
          32000000000000,
          33000000000000,
          34000000000000,
          35000000000000
         ],
         "y": {
          "bdata": "38vL8lrXokAJLrJhTtOnQMbValhj6qdAzKxk7OT4p0AYqj0OP/6nQJP2NeL0/6dAr1FFhncAqEBTp0TmngCoQI7oeXyqAKhAnzMqgawAqECimN8KrQCoQNrwas+sAKhANB1Rk6wAqEAhG6dtrACoQDKdvWGsAKhAcSbUVawAqEDetupJrACoQEqG2EisAKhAMj0pSKwAqEDL93lHrACoQCUVLEesAKhAUvtNR6wAqEC4529HrACoQFXakUesAKhAPBuSR6wAqEBILZFHrACoQABEkEesAKhA4DeIR6wAqEAc+HdHrACoQDi6Z0esAKhANX5XR6wAqECtrzBHrACoQKUTCUesAKhAEXjhRqwAqEAWyrZGrACoQLokhkasAKhA",
          "dtype": "f8"
         }
        },
        {
         "line": {
          "color": "rgb(155, 255, 102)"
         },
         "mode": "lines",
         "name": "052",
         "opacity": 0.4,
         "type": "scatter",
         "x": [
          0,
          1000000000000,
          2000000000000,
          3000000000000,
          4000000000000,
          5000000000000,
          6000000000000,
          7000000000000,
          8000000000000,
          9000000000000,
          10000000000000,
          11000000000000,
          12000000000000,
          13000000000000,
          14000000000000,
          15000000000000,
          16000000000000,
          17000000000000,
          18000000000000,
          19000000000000,
          20000000000000,
          21000000000000,
          22000000000000,
          23000000000000,
          24000000000000,
          25000000000000,
          26000000000000,
          27000000000000,
          28000000000000,
          29000000000000,
          30000000000000,
          31000000000000,
          32000000000000,
          33000000000000,
          34000000000000,
          35000000000000
         ],
         "y": {
          "bdata": "2TERw+/2okDAs77O2TWpQGNABdFiS6lAvQbbjVtYqUAsDp+TE1ypQKIjn5oQXalABJ5NaFVdqUBgB/D0Zl2pQGYDSotqXalAs13qLmtdqUDwcWvxal2pQKKRjrZqXalAez1epWpdqUAC+1+Ual2pQDXKk4NqXalAZzsMe2pdqUDx7XR5al2pQMSo3XdqXalAbVIxdmpdqUA82Yhyal2pQKeQ7G5qXalAtHhca2pdqUBsva9mal2pQFACFGFqXalAaW6HW2pdqUAithtWal2pQEE6alJqXalAsvu+TmpdqUB3+hlLal2pQGiKIkhqXalAVyC9RWpdqUDT61lDal2pQCCyBEFqXalAvXUnQGpdqUBHA/M/al2pQNcrZ0BqXalA",
          "dtype": "f8"
         }
        },
        {
         "line": {
          "color": "rgb(167, 255, 89)"
         },
         "mode": "lines",
         "name": "053",
         "opacity": 0.4,
         "type": "scatter",
         "x": [
          0,
          1000000000000,
          2000000000000,
          3000000000000,
          4000000000000,
          5000000000000,
          6000000000000,
          7000000000000,
          8000000000000,
          9000000000000,
          10000000000000,
          11000000000000,
          12000000000000,
          13000000000000,
          14000000000000,
          15000000000000,
          16000000000000,
          17000000000000,
          18000000000000,
          19000000000000,
          20000000000000,
          21000000000000,
          22000000000000,
          23000000000000,
          24000000000000,
          25000000000000,
          26000000000000,
          27000000000000,
          28000000000000,
          29000000000000,
          30000000000000,
          31000000000000,
          32000000000000,
          33000000000000,
          34000000000000,
          35000000000000
         ],
         "y": {
          "bdata": "yz7rD5tLo0B3neyJGGKrQGhE9ENSaqtAPoULeVtuq0DipNCw/W6rQOY09k+ebqtAzGpcv0puq0Bqn2v/G26rQPuraZ0EbqtANBZ7x+Btq0CkyhHb2G2rQKviqjzcbatARE/lqORtq0DmSNHl7G2rQJSmJoT0batAalZadfhtq0BGmvt3/G2rQClyCowAbqtA8POzoABuq0AjO1QC/m2rQPVQ7mn7batAPXEY0fhtq0DaysMX9m2rQPCIsYnzbatAcqvhJvFtq0AEW2tY7W2rQAwbHLrobatAXy70YuRtq0D9ZR9H4G2rQOa1JP7bbatAo9yA7tdtq0A62jMY1G2rQOqcc3TRbatAarxrls9tq0ABcN3PzW2rQETW6DrMbatA",
          "dtype": "f8"
         }
        },
        {
         "line": {
          "color": "rgb(180, 255, 77)"
         },
         "mode": "lines",
         "name": "054",
         "opacity": 0.4,
         "type": "scatter",
         "x": [
          0,
          1000000000000,
          2000000000000,
          3000000000000,
          4000000000000,
          5000000000000,
          6000000000000,
          7000000000000,
          8000000000000,
          9000000000000,
          10000000000000,
          11000000000000,
          12000000000000,
          13000000000000,
          14000000000000,
          15000000000000,
          16000000000000,
          17000000000000,
          18000000000000,
          19000000000000,
          20000000000000,
          21000000000000,
          22000000000000,
          23000000000000,
          24000000000000,
          25000000000000,
          26000000000000,
          27000000000000,
          28000000000000,
          29000000000000,
          30000000000000,
          31000000000000,
          32000000000000,
          33000000000000,
          34000000000000,
          35000000000000
         ],
         "y": {
          "bdata": "Kayzz44To0Azdc3aMDalQMpUrDx0oKlASNWkwYarqUDr97bYHrOpQCLvaNBrtalAFv8D2Q+2qUCmXZ9TMLapQD+piA0/tqlAVGnIeT22qUDR0c60O7apQAfrEmo8tqlA/sx0bT22qUAhEhOuPbapQDOfD/g9tqlAqVE+PD62qUBcidNDPrapQB1KaE8+tqlA7ZP8Xj62qUCczk9pPrapQCbsW3A+tqlA9t3Qdz62qUC9G2Z9PrapQG7XK3k+tqlArj8RdT62qUB5VBZxPrapQFjZ+mM+tqlAxqchUz62qUDtq91CPrapQBvvEjI+tqlAkuf2HD62qUBFZmgIPrapQC5rZ/Q9tqlAyFv45T22qUB0phbaPbapQABWZc49tqlA",
          "dtype": "f8"
         }
        },
        {
         "line": {
          "color": "rgb(192, 255, 64)"
         },
         "mode": "lines",
         "name": "055",
         "opacity": 0.4,
         "type": "scatter",
         "x": [
          0,
          1000000000000,
          2000000000000,
          3000000000000,
          4000000000000,
          5000000000000,
          6000000000000,
          7000000000000,
          8000000000000,
          9000000000000,
          10000000000000,
          11000000000000,
          12000000000000,
          13000000000000,
          14000000000000,
          15000000000000,
          16000000000000,
          17000000000000,
          18000000000000,
          19000000000000,
          20000000000000,
          21000000000000,
          22000000000000,
          23000000000000,
          24000000000000,
          25000000000000,
          26000000000000,
          27000000000000,
          28000000000000,
          29000000000000,
          30000000000000,
          31000000000000,
          32000000000000,
          33000000000000,
          34000000000000,
          35000000000000
         ],
         "y": {
          "bdata": "So1XxUISo0BDvvYjwrelQC464cm9vKVAs7oSdgzCpUDwV0qJLsSlQEZcUH/oxKVAg5yo5iTFpUDhx+WeOMWlQKIHOb49xaVARJ3lZD/FpUDgmEw2P8WlQGTgKAU/xaVAzDPvAj/FpUCK3vQXP8WlQEAcqRo/xaVANr/BDD/FpUC1jiX/PsWlQDAQfvI+xaVAFfJi/j7FpUBXyGMKP8WlQPySgBY/xaVAKDkyHT/FpUBV4/EeP8WlQCrGsSA/xaVAsIxDIj/FpUBEjjAdP8WlQK79Ihg/xaVA5toaEz/FpUCwzLATP8WlQCAtVBk/xaVAaED8Hj/FpUAdgnkkP8WlQKaWJiM/xaVApjXVIT/FpUAYX4UgP8WlQBysciA/xaVA",
          "dtype": "f8"
         }
        },
        {
         "line": {
          "color": "rgb(205, 255, 51)"
         },
         "mode": "lines",
         "name": "056",
         "opacity": 0.4,
         "type": "scatter",
         "x": [
          0,
          1000000000000,
          2000000000000,
          3000000000000,
          4000000000000,
          5000000000000,
          6000000000000,
          7000000000000,
          8000000000000,
          9000000000000,
          10000000000000,
          11000000000000,
          12000000000000,
          13000000000000,
          14000000000000,
          15000000000000,
          16000000000000,
          17000000000000,
          18000000000000,
          19000000000000,
          20000000000000,
          21000000000000,
          22000000000000,
          23000000000000,
          24000000000000,
          25000000000000,
          26000000000000,
          27000000000000,
          28000000000000,
          29000000000000,
          30000000000000,
          31000000000000,
          32000000000000,
          33000000000000,
          34000000000000,
          35000000000000
         ],
         "y": {
          "bdata": "3TOq/Q9ro0Dd6yn0+dWoQJZCE4k196hAmKIJa6QCqUBwC/FexQWpQD6Y2ZGSBqlAqgRiL8UGqUC7UiHb0AapQFTN5FPRBqlA3vt3I9EGqUDwarrN0AapQPQfs4PQBqlA6H23RNAGqUCZQso10AapQIQM3SbQBqlAoNvvF9AGqUDrhYwT0AapQD8F9xPQBqlAl4dhFNAGqUAPuPIU0AapQDgpLBbQBqlAsJtlF9AGqUB1D58Y0AapQDfC2RjQBqlAZ1OgGNAGqUDo5GYY0AapQAb0PhjQBqlAChxjGNAGqUBbRIcY0AapQPhsqxjQBqlAvtt1GNAGqUDBYxcY0AapQAHsuBfQBqlA1qVlF9AGqUDsEkMX0AapQB6AIBfQBqlA",
          "dtype": "f8"
         }
        },
        {
         "line": {
          "color": "rgb(217, 255, 38)"
         },
         "mode": "lines",
         "name": "057",
         "opacity": 0.4,
         "type": "scatter",
         "x": [
          0,
          1000000000000,
          2000000000000,
          3000000000000,
          4000000000000,
          5000000000000,
          6000000000000,
          7000000000000,
          8000000000000,
          9000000000000,
          10000000000000,
          11000000000000,
          12000000000000,
          13000000000000,
          14000000000000,
          15000000000000,
          16000000000000,
          17000000000000,
          18000000000000,
          19000000000000,
          20000000000000,
          21000000000000,
          22000000000000,
          23000000000000,
          24000000000000,
          25000000000000,
          26000000000000,
          27000000000000,
          28000000000000,
          29000000000000,
          30000000000000,
          31000000000000,
          32000000000000,
          33000000000000,
          34000000000000,
          35000000000000
         ],
         "y": {
          "bdata": "G36JO8Q3o0DYDL36KsumQLqoT1gV3KZAdOu/BKLlpkDYWCbYxeimQAq3sE676aZA0PXKfgDqpkDP3nOgFOqmQNe5qz4Y6qZApAPkqRjqpkArvyq/GOqmQGcSHYEY6qZAgvwQQxjqpkD9hHYbGOqmQK+c0v4X6qZAktQv4hfqpkCKOifJF+qmQJhGdcEX6qZAfGfDuRfqpkA2nRGyF+qmQCtrA7AX6qZAnUC2sBfqpkBPGWmxF+qmQBmNMrIX6qZAceBosxfqpkDMNJ+0F+qmQC6K1bUX6qZA9pfPthfqpkBoNay3F+qmQLvTiLgX6qZAyv00uRfqpkDgqfe4F+qmQHBWurgX6qZAegN9uBfqpkApq4K4F+qmQI0KqbgX6qZA",
          "dtype": "f8"
         }
        },
        {
         "line": {
          "color": "rgb(230, 255, 26)"
         },
         "mode": "lines",
         "name": "058",
         "opacity": 0.4,
         "type": "scatter",
         "x": [
          0,
          1000000000000,
          2000000000000,
          3000000000000,
          4000000000000,
          5000000000000,
          6000000000000,
          7000000000000,
          8000000000000,
          9000000000000,
          10000000000000,
          11000000000000,
          12000000000000,
          13000000000000,
          14000000000000,
          15000000000000,
          16000000000000,
          17000000000000,
          18000000000000,
          19000000000000,
          20000000000000,
          21000000000000,
          22000000000000,
          23000000000000,
          24000000000000,
          25000000000000,
          26000000000000,
          27000000000000,
          28000000000000,
          29000000000000,
          30000000000000,
          31000000000000,
          32000000000000,
          33000000000000,
          34000000000000,
          35000000000000
         ],
         "y": {
          "bdata": "0ajD7BwWo0Dy0k+FryeoQBt6PaHgOKhAvllofTVIqEB0Kjb2I02oQFRQvzKaTqhAAf58j/1OqECuqdc4Gk+oQK1thbwfT6hAk6/GZSBPqECR3bhSIE+oQJEXfQ4gT6hAoFdCyh9PqEANik6qH0+oQAr7eZwfT6hA2G+ljh9PqED9UxiDH0+oQOuM7IIfT6hA+QPBgh9PqEAsuZWCH0+oQJ4ANYMfT6hAd5c5hB9PqEDOaD6FH0+oQOKcFIYfT6hAZRABhh9PqEALm+2FH0+oQNU82oUfT6hAGNP6hR9PqEAIWjWGH0+oQHHlb4YfT6hA1Rmchh9PqECwPmWGH0+oQGx7/4UfT6hAJttqhR9PqEDAItiEH0+oQOszTIQfT6hA",
          "dtype": "f8"
         }
        },
        {
         "line": {
          "color": "rgb(242, 255, 13)"
         },
         "mode": "lines",
         "name": "059",
         "opacity": 0.4,
         "type": "scatter",
         "x": [
          0,
          1000000000000,
          2000000000000,
          3000000000000,
          4000000000000,
          5000000000000,
          6000000000000,
          7000000000000,
          8000000000000,
          9000000000000,
          10000000000000,
          11000000000000,
          12000000000000,
          13000000000000,
          14000000000000,
          15000000000000,
          16000000000000,
          17000000000000,
          18000000000000,
          19000000000000,
          20000000000000,
          21000000000000,
          22000000000000,
          23000000000000,
          24000000000000,
          25000000000000,
          26000000000000,
          27000000000000,
          28000000000000,
          29000000000000,
          30000000000000,
          31000000000000,
          32000000000000,
          33000000000000,
          34000000000000,
          35000000000000
         ],
         "y": {
          "bdata": "1HPbqBr6okCn3uM7HE+qQPlCsug6U6pA7lMxr+VaqkBrwDxK+VyqQBOiLTW8XapABNQ/Zh9eqkBY97/bHF6qQFiuJmEEXqpAc/Mc9/ldqkDGO/sr812qQGRDiXzuXapArJUH8OtdqkAezG1x612qQIo7HSvqXapABPktWuldqkDgPDvm6F2qQNbu61/oXapA8i/g8eddqkD+sAOZ512qQCiZpjHnXapA+AwwwOZdqkDAobZh5l2qQMI95fTlXapAWl0UmeRdqkCX/rNi412qQH8hxFHiXapA2mz4GuFdqkDItVbZ312qQIi82LzeXapAJ04dyt1dqkD60Xoa3V2qQJQj+oLcXapA8kKbA9xdqkBih4WF212qQNTL0AjbXapA",
          "dtype": "f8"
         }
        },
        {
         "line": {
          "color": "rgb(255, 255, 0)"
         },
         "mode": "lines",
         "name": "060",
         "opacity": 0.4,
         "type": "scatter",
         "x": [
          0,
          1000000000000,
          2000000000000,
          3000000000000,
          4000000000000,
          5000000000000,
          6000000000000,
          7000000000000,
          8000000000000,
          9000000000000,
          10000000000000,
          11000000000000,
          12000000000000,
          13000000000000,
          14000000000000,
          15000000000000,
          16000000000000,
          17000000000000,
          18000000000000,
          19000000000000,
          20000000000000,
          21000000000000,
          22000000000000,
          23000000000000,
          24000000000000,
          25000000000000,
          26000000000000,
          27000000000000,
          28000000000000,
          29000000000000,
          30000000000000,
          31000000000000,
          32000000000000,
          33000000000000,
          34000000000000,
          35000000000000
         ],
         "y": {
          "bdata": "wvd7iVtDo0CJNSSHqC6rQJhWfdmKMatAqttjT+g3q0BlRzxagDmrQHb1YnzaOatAENKAHvA5q0CRrNln8jmrQNeADnnyOatAhp2DufE5q0AqdcQA8TmrQCDQAF3wOatAMGqTy+85q0Ao2RE87zmrQEEYcrDuOatAm/Fliu45q0Axfctk7jmrQP66oj/uOatA9LoWLu45q0BcM2cu7jmrQL7nty7uOatA/3dmL+45q0B2+uJC7jmrQEAfhlbuOatAWOZPau45q0DhVd+E7jmrQHoCzqXuOatAxCYBx+45q0AMkWzo7jmrQKZFpwfvOatA9RcdJ+85q0D4B85G7zmrQHsPVV/vOatAGeodce85q0CWz/eC7zmrQDtPnZTvOatA",
          "dtype": "f8"
         }
        },
        {
         "line": {
          "color": "rgb(255, 242, 0)"
         },
         "mode": "lines",
         "name": "061",
         "opacity": 0.4,
         "type": "scatter",
         "x": [
          0,
          1000000000000,
          2000000000000,
          3000000000000,
          4000000000000,
          5000000000000,
          6000000000000,
          7000000000000,
          8000000000000,
          9000000000000,
          10000000000000,
          11000000000000,
          12000000000000,
          13000000000000,
          14000000000000,
          15000000000000,
          16000000000000,
          17000000000000,
          18000000000000,
          19000000000000,
          20000000000000,
          21000000000000,
          22000000000000,
          23000000000000,
          24000000000000,
          25000000000000,
          26000000000000,
          27000000000000,
          28000000000000,
          29000000000000,
          30000000000000,
          31000000000000,
          32000000000000,
          33000000000000,
          34000000000000,
          35000000000000
         ],
         "y": {
          "bdata": "0vkxiz41o0BmI3ygbLOpQDiHh0cG0alAqfjvqNDaqUAZjkUIbd2pQJ+5jZUW3qlAcAtJWD7eqUD4v/1oR96pQNqmltJJ3qlAQxKUDEneqUDmEe00SN6pQGOzTl1H3qlAe1aJF0feqUBtfT3zRt6pQEt88s5G3qlAxzV+ukbeqUDX7cLIRt6pQO3fDddG3qlACwxf5UbeqUBzac30Rt6pQC5kgQRH3qlAbuM6FEfeqUBwbJciR96pQIT27i1H3qlAUItJOUfeqUDPKqdER96pQDa3wktH3qlAQFzkUUfeqUD8ygZYR96pQPvYlFxH3qlAZN/tW0feqUCh1KBYR96pQEMxrlJH3qlAjmpqSkfeqUCst8E/R96pQLoxpzJH3qlA",
          "dtype": "f8"
         }
        },
        {
         "line": {
          "color": "rgb(254, 230, 0)"
         },
         "mode": "lines",
         "name": "062",
         "opacity": 0.4,
         "type": "scatter",
         "x": [
          0,
          1000000000000,
          2000000000000,
          3000000000000,
          4000000000000,
          5000000000000,
          6000000000000,
          7000000000000,
          8000000000000,
          9000000000000,
          10000000000000,
          11000000000000,
          12000000000000,
          13000000000000,
          14000000000000,
          15000000000000,
          16000000000000,
          17000000000000,
          18000000000000,
          19000000000000,
          20000000000000,
          21000000000000,
          22000000000000,
          23000000000000,
          24000000000000,
          25000000000000,
          26000000000000,
          27000000000000,
          28000000000000,
          29000000000000,
          30000000000000,
          31000000000000,
          32000000000000,
          33000000000000,
          34000000000000,
          35000000000000
         ],
         "y": {
          "bdata": "+JBM3L9Do0BsuLG3D6ylQCt7fjmCrKVAY3xQzwywpUCC3EPVfLGlQGpVma77saVAhdwfuSGypUBugKW4MLKlQK3Mtdk4sqVAErJNfDmypUAIuUKFOLKlQKgXJJE4sqVAhyKqaDiypUBK8nqUN7KlQIANNuw1sqVASAk9nTWypUC4O0EXNrKlQEIcEic2sqVAjFlNIzaypUDrWyMhNrKlQDu+5SI2sqVAekY8JjaypUBIw2IfNrKlQBjlihg2sqVA6qu0ETaypUAlvQoSNrKlQCNEsBY2sqVAjh5gGzaypUC45ZwfNrKlQP7ogCA2sqVAYiBwITaypUDji2oiNrKlQBI90R02sqVAbDn3FTaypUCxgzoONrKlQJ6qMAQ2sqVA",
          "dtype": "f8"
         }
        },
        {
         "line": {
          "color": "rgb(254, 217, 0)"
         },
         "mode": "lines",
         "name": "063",
         "opacity": 0.4,
         "type": "scatter",
         "x": [
          0,
          1000000000000,
          2000000000000,
          3000000000000,
          4000000000000,
          5000000000000,
          6000000000000,
          7000000000000,
          8000000000000,
          9000000000000,
          10000000000000,
          11000000000000,
          12000000000000,
          13000000000000,
          14000000000000,
          15000000000000,
          16000000000000,
          17000000000000,
          18000000000000,
          19000000000000,
          20000000000000,
          21000000000000,
          22000000000000,
          23000000000000,
          24000000000000,
          25000000000000,
          26000000000000,
          27000000000000,
          28000000000000,
          29000000000000,
          30000000000000,
          31000000000000,
          32000000000000,
          33000000000000,
          34000000000000,
          35000000000000
         ],
         "y": {
          "bdata": "ZjgiZFRJo0Ah7R2bh6KrQPMKQMCGr6tAD6XBHZ60q0BRDJZMvLWrQMF727TstatAi4PAfPG1q0CnsQdO6rWrQPjiARzitatAX7n4hd+1q0BjwcZ64LWrQF4TEU7jtatA8M7o8+O1q0AaFQGd5LWrQIGZysrktatAflIbzuO1q0CEpK/c4rWrQEDvuIDhtatAR9Mwu9+1q0AXNqEX3rWrQLgXCpbctatAdNVa59q1q0Ae3v5e2bWrQNLcnv/XtatA6BuYvda1q0BrPrGP1bWrQNpzU4DUtatANbx+j9O1q0CzJZ/Y0rWrQA5s2C/StatA3tkBlNG1q0Dwh6Eo0bWrQK4DWurQtatA7Ur7rdC1q0C0XYVz0LWrQFbzwZLQtatA",
          "dtype": "f8"
         }
        },
        {
         "line": {
          "color": "rgb(254, 204, 0)"
         },
         "mode": "lines",
         "name": "064",
         "opacity": 0.4,
         "type": "scatter",
         "x": [
          0,
          1000000000000,
          2000000000000,
          3000000000000,
          4000000000000,
          5000000000000,
          6000000000000,
          7000000000000,
          8000000000000,
          9000000000000,
          10000000000000,
          11000000000000,
          12000000000000,
          13000000000000,
          14000000000000,
          15000000000000,
          16000000000000,
          17000000000000,
          18000000000000,
          19000000000000,
          20000000000000,
          21000000000000,
          22000000000000,
          23000000000000,
          24000000000000,
          25000000000000,
          26000000000000,
          27000000000000,
          28000000000000,
          29000000000000,
          30000000000000,
          31000000000000,
          32000000000000,
          33000000000000,
          34000000000000,
          35000000000000
         ],
         "y": {
          "bdata": "ppiWjHIZo0C/5pMNpSyoQHJUKBfrR6hANjeJ8c9WqEB0LUcNbFuoQJhlhuS3XKhACsM5RhFdqEDeEO5JKV2oQJAKvZwtXahA8bHTcy5dqEBSg/oLLl2oQKTCIqQtXahAACU8iy1dqEB7+ptyLV2oQJLb+1ktXahAJbS4TC1dqEAgX/tKLV2oQNBRPkktXahAMoyBRy1dqECkcFtILV2oQBrWN0ktXahAxG0USi1dqECET4lKLV2oQMDwlEotXahACaagSi1dqEBZb6xKLV2oQKrHHUstXahAhnyPSy1dqEBdMwFMLV2oQPRYWkwtXahAmA2ITC1dqEAwBp1MLV2oQNlMmUwtXahAk0u6TC1dqEBoPd5MLV2oQIQGBU0tXahA",
          "dtype": "f8"
         }
        },
        {
         "line": {
          "color": "rgb(254, 191, 0)"
         },
         "mode": "lines",
         "name": "065",
         "opacity": 0.4,
         "type": "scatter",
         "x": [
          0,
          1000000000000,
          2000000000000,
          3000000000000,
          4000000000000,
          5000000000000,
          6000000000000,
          7000000000000,
          8000000000000,
          9000000000000,
          10000000000000,
          11000000000000,
          12000000000000,
          13000000000000,
          14000000000000,
          15000000000000,
          16000000000000,
          17000000000000,
          18000000000000,
          19000000000000,
          20000000000000,
          21000000000000,
          22000000000000,
          23000000000000,
          24000000000000,
          25000000000000,
          26000000000000,
          27000000000000,
          28000000000000,
          29000000000000,
          30000000000000,
          31000000000000,
          32000000000000,
          33000000000000,
          34000000000000,
          35000000000000
         ],
         "y": {
          "bdata": "81HPbPg4o0AiGMogcSamQD48mMIfL6ZA67fo3Bo2pkDhuqIgzjimQMRrz+G1OaZAtkrtMwE6pkBUsFciFjqmQGFcj7UdOqZAWXoxNB46pkDj1uAXHjqmQBs25G8eOqZAbZOCsB46pkASkGWnHjqmQAJjnp4eOqZANAwtlh46pkBbdS1/HjqmQPbuGWMeOqZAEZQMRx46pkAONwA1HjqmQBnkAkIeOqZAau0LTx46pkD+UhtcHjqmQEbFbFseOqZAgTj/VR46pkCc/JJQHjqmQFqu1EweOqZA/MlLTh46pkDI/MJPHjqmQL5GOlEeOqZA+PYuUx46pkD2G09VHjqmQE90b1ceOqZApe/TWB46pkAQtu9XHjqmQJKNC1ceOqZA",
          "dtype": "f8"
         }
        },
        {
         "line": {
          "color": "rgb(254, 179, 0)"
         },
         "mode": "lines",
         "name": "066",
         "opacity": 0.4,
         "type": "scatter",
         "x": [
          0,
          1000000000000,
          2000000000000,
          3000000000000,
          4000000000000,
          5000000000000,
          6000000000000,
          7000000000000,
          8000000000000,
          9000000000000,
          10000000000000,
          11000000000000,
          12000000000000,
          13000000000000,
          14000000000000,
          15000000000000,
          16000000000000,
          17000000000000,
          18000000000000,
          19000000000000,
          20000000000000,
          21000000000000,
          22000000000000,
          23000000000000,
          24000000000000,
          25000000000000,
          26000000000000,
          27000000000000,
          28000000000000,
          29000000000000,
          30000000000000,
          31000000000000,
          32000000000000,
          33000000000000,
          34000000000000,
          35000000000000
         ],
         "y": {
          "bdata": "5th6/u7qokAUtHvyr1OoQCaHrkspZahAcNYmonxzqEBkn4pvPnioQMwjUdO3eahAPQliiSJ6qEC3I4JQQnqoQOpxi4pJeqhAY59rVkt6qECcU51CS3qoQAbQrQlLeqhAZd2W6Ep6qECx8V/ZSnqoQP1ZPMpKeqhAPzztu0p6qEAauOG3SnqoQECn1rNKeqhAsAnMr0p6qEA7SvCrSnqoQGZzPahKeqhANsORpEp6qEASSvagSnqoQNSq3J1KeqhA8t7Jmkp6qEBk5r2XSnqoQDSpC5VKeqhAnumbkkp6qEBk5S6QSnqoQMyI641KeqhA+ny5jUp6qECaLYiNSnqoQK6aV41KeqhAhesNjkp6qEBgU3OPSnqoQDw42ZBKeqhA",
          "dtype": "f8"
         }
        },
        {
         "line": {
          "color": "rgb(253, 166, 0)"
         },
         "mode": "lines",
         "name": "067",
         "opacity": 0.4,
         "type": "scatter",
         "x": [
          0,
          1000000000000,
          2000000000000,
          3000000000000,
          4000000000000,
          5000000000000,
          6000000000000,
          7000000000000,
          8000000000000,
          9000000000000,
          10000000000000,
          11000000000000,
          12000000000000,
          13000000000000,
          14000000000000,
          15000000000000,
          16000000000000,
          17000000000000,
          18000000000000,
          19000000000000,
          20000000000000,
          21000000000000,
          22000000000000,
          23000000000000,
          24000000000000,
          25000000000000,
          26000000000000,
          27000000000000,
          28000000000000,
          29000000000000,
          30000000000000,
          31000000000000,
          32000000000000,
          33000000000000,
          34000000000000,
          35000000000000
         ],
         "y": {
          "bdata": "kHftzHsoo0BHLH1ztxSrQEfjRLwUHqtAL+YH8kQnq0AJvIWacCmrQP0dPb14J6tA+Jy9SOosq0CG2zIuyi2rQDMLEuhILqtAwFklKscuq0BEPsnHKS+rQLshtr2BL6tAM0wDOLUvq0DFBw/8uC+rQLbotbKvL6tApyp2oK8vq0DzhGQTsi+rQGMcCYa2L6tAHGYSUbUvq0BcZWR0tC+rQO7ddBS0L6tAq2y8IbUvq0DqQHOUti+rQO5Jix24L6tAKj7ur7gvq0CVOdyPuS+rQCg8Vb26L6tA0F4kBbwvq0CUppdlvS+rQEPUDfC+L6tAztUHh8Avq0CmyW27wS+rQHEu+f7CL6tAOQSqUcQvq0DfH81fxS+rQBk0HBzGL6tA",
          "dtype": "f8"
         }
        },
        {
         "line": {
          "color": "rgb(253, 153, 0)"
         },
         "mode": "lines",
         "name": "068",
         "opacity": 0.4,
         "type": "scatter",
         "x": [
          0,
          1000000000000,
          2000000000000,
          3000000000000,
          4000000000000,
          5000000000000,
          6000000000000,
          7000000000000,
          8000000000000,
          9000000000000,
          10000000000000,
          11000000000000,
          12000000000000,
          13000000000000,
          14000000000000,
          15000000000000,
          16000000000000,
          17000000000000,
          18000000000000,
          19000000000000,
          20000000000000,
          21000000000000,
          22000000000000,
          23000000000000,
          24000000000000,
          25000000000000,
          26000000000000,
          27000000000000,
          28000000000000,
          29000000000000,
          30000000000000,
          31000000000000,
          32000000000000,
          33000000000000,
          34000000000000,
          35000000000000
         ],
         "y": {
          "bdata": "QSNB1Sg4o0BaPILvYoOnQGZCFxCsnKdAktef/jipp0CYcADZJq2nQFTlODlDrqdAiUB4vpWup0B+4KB8qa6nQPskQUaurqdAMM1VXK6up0BKUUQlrq6nQGwIvhCurqdAxQ2h/62up0BKwAz9ra6nQB10ePqtrqdAPCnk962up0C1nX72ra6nQIbBDPatrqdAnOWa9a2up0AXvC71ra6nQMhFJvWtrqdAgM8d9a2up0BBWRX1ra6nQDzYBfWtrqdAHqzw9K2up0AAgNv0ra6nQBaKxvStrqdA7Ei19K2up0DQB6T0ra6nQL7GkvStrqdA18iA9K2up0DzMm70ra6nQBudW/StrqdAJV9J9K2up0CwIj30ra6nQD7mMPStrqdA",
          "dtype": "f8"
         }
        },
        {
         "line": {
          "color": "rgb(253, 140, 0)"
         },
         "mode": "lines",
         "name": "069",
         "opacity": 0.4,
         "type": "scatter",
         "x": [
          0,
          1000000000000,
          2000000000000,
          3000000000000,
          4000000000000,
          5000000000000,
          6000000000000,
          7000000000000,
          8000000000000,
          9000000000000,
          10000000000000,
          11000000000000,
          12000000000000,
          13000000000000,
          14000000000000,
          15000000000000,
          16000000000000,
          17000000000000,
          18000000000000,
          19000000000000,
          20000000000000,
          21000000000000,
          22000000000000,
          23000000000000,
          24000000000000,
          25000000000000,
          26000000000000,
          27000000000000,
          28000000000000,
          29000000000000,
          30000000000000,
          31000000000000,
          32000000000000,
          33000000000000,
          34000000000000,
          35000000000000
         ],
         "y": {
          "bdata": "0qHo6MhJo0DsLx+/GRKqQICJXQmuLapAuK/d8WI2qkCoOeaPoDiqQGPZVoM1OapAYmoiRFc5qkBfv+7IXTmqQKiIfjxeOapAe30ARF45qkCFPIVFXjmqQAfqDkdeOapABYadSF45qkDYew9MXjmqQIhag09eOapAS0f4Ul45qkD2tZ9WXjmqQEjde1peOapAqY5bXl45qkAjyj5iXjmqQIlnh2heOapAngzVbl45qkCjoyZ1XjmqQBTxgXpeOapABH/kfl45qkDSF0qDXjmqQHq7sodeOapABreMil45qkANDGeNXjmqQBdxQpBeOapAyIXtkV45qkCadWWSXjmqQGqW3ZJeOapAO+hVk145qkCOU/2RXjmqQKpM1Y9eOapA",
          "dtype": "f8"
         }
        },
        {
         "line": {
          "color": "rgb(252, 128, 0)"
         },
         "mode": "lines",
         "name": "070",
         "opacity": 0.4,
         "type": "scatter",
         "x": [
          0,
          1000000000000,
          2000000000000,
          3000000000000,
          4000000000000,
          5000000000000,
          6000000000000,
          7000000000000,
          8000000000000,
          9000000000000,
          10000000000000,
          11000000000000,
          12000000000000,
          13000000000000,
          14000000000000,
          15000000000000,
          16000000000000,
          17000000000000,
          18000000000000,
          19000000000000,
          20000000000000,
          21000000000000,
          22000000000000,
          23000000000000,
          24000000000000,
          25000000000000,
          26000000000000,
          27000000000000,
          28000000000000,
          29000000000000,
          30000000000000,
          31000000000000,
          32000000000000,
          33000000000000,
          34000000000000,
          35000000000000
         ],
         "y": {
          "bdata": "2AswDGRIo0DakIBoP4+nQMr4VnWxqqdA9ZF6Glq1p0ChLH/whrinQMrCQ19juadAbcCxDaC5p0AEugnfrbmnQEoVIG2wuadAhtw2iLC5p0D0v48TsLmnQFIeAaWvuadA4h8ui6+5p0D7YVtxr7mnQJPkiFevuadAVbW7TK+5p0BirGZNr7mnQLgqEk6vuadAx9jPTq+5p0Coh4NQr7mnQJBdN1KvuadAjFrrU6+5p0CneMxUr7mnQK6GDFWvuadA/5pMVa+5p0D/+4tVr7mnQHZJwVWvuadAOpf2Va+5p0BM5StWr7mnQLzsOVavuadA2k8PVq+5p0AouMJVr7mnQMT/U1WvuadAIp6/VK+5p0DloQdUr7mnQM4QLFOvuadA",
          "dtype": "f8"
         }
        },
        {
         "line": {
          "color": "rgb(252, 115, 0)"
         },
         "mode": "lines",
         "name": "071",
         "opacity": 0.4,
         "type": "scatter",
         "x": [
          0,
          1000000000000,
          2000000000000,
          3000000000000,
          4000000000000,
          5000000000000,
          6000000000000,
          7000000000000,
          8000000000000,
          9000000000000,
          10000000000000,
          11000000000000,
          12000000000000,
          13000000000000,
          14000000000000,
          15000000000000,
          16000000000000,
          17000000000000,
          18000000000000,
          19000000000000,
          20000000000000,
          21000000000000,
          22000000000000,
          23000000000000,
          24000000000000,
          25000000000000,
          26000000000000,
          27000000000000,
          28000000000000,
          29000000000000,
          30000000000000,
          31000000000000,
          32000000000000,
          33000000000000,
          34000000000000,
          35000000000000
         ],
         "y": {
          "bdata": "Q76mxnxQo0DDW730ktqoQN9cgbeM/KhAsLPc7bQHqUCYiLG5tAqpQNgYoeF3C6lAvNpbt6ULqUCeN10WsAupQM5igiCzC6lAvHu4MrILqUD8W10wsQupQDcNBS6wC6lAiKzi4a8LqUA2bb6vrwupQMqTmn2vC6lARs09X68LqUDe9tFhrwupQKU8Z2SvC6lAnJ79Zq8LqUCwhS1rrwupQCximG+vC6lAuuoDdK8LqUBGx7d3rwupQKEDOXqvC6lAtIi6fK8LqUB6Vjx/rwupQCLXM4CvC6lA4RvzgK8LqUBKarKBrwupQK5E5IGvC6lAQamkgK8LqUAQgaJ+rwupQGLu3XuvC6lAfeeheK8LqUDcINN0rwupQOKgaXCvC6lA",
          "dtype": "f8"
         }
        },
        {
         "line": {
          "color": "rgb(252, 102, 0)"
         },
         "mode": "lines",
         "name": "072",
         "opacity": 0.4,
         "type": "scatter",
         "x": [
          0,
          1000000000000,
          2000000000000,
          3000000000000,
          4000000000000,
          5000000000000,
          6000000000000,
          7000000000000,
          8000000000000,
          9000000000000,
          10000000000000,
          11000000000000,
          12000000000000,
          13000000000000,
          14000000000000,
          15000000000000,
          16000000000000,
          17000000000000,
          18000000000000,
          19000000000000,
          20000000000000,
          21000000000000,
          22000000000000,
          23000000000000,
          24000000000000,
          25000000000000,
          26000000000000,
          27000000000000,
          28000000000000,
          29000000000000,
          30000000000000,
          31000000000000,
          32000000000000,
          33000000000000,
          34000000000000,
          35000000000000
         ],
         "y": {
          "bdata": "8Ecsp6b/okBCcotpcrCqQKg+1KlWsapAym5Gv+24qkAEi3lpd7uqQNYDZOMivKpARqMkz0K8qkBFscU8QryqQHz8PHw6vKpAG9RfoDK8qkA3Z36vMLyqQPioFacwvKpAjPTZ5jC8qkBiHPvUMLyqQA63J94vvKpAylMwHi68qkDOphQ/LbyqQMQBnzosvKpAq+cwNCu8qkAh1MDhKryqQJEOgt8qvKpAJu6BHSu8qkBqXC3gKryqQChxeqYqvKpAVixpcCq8qkAdnvnPKbyqQOboZfcovKpARRYsMyi8qkBNJWhzJ7yqQJGzgUAmvKpAGxjzLSW8qkDrUrw7JLyqQKJShAgjvKpAXdivtCG8qkC2du6AILyqQHZx+GYfvKpA",
          "dtype": "f8"
         }
        },
        {
         "line": {
          "color": "rgb(252, 89, 0)"
         },
         "mode": "lines",
         "name": "073",
         "opacity": 0.4,
         "type": "scatter",
         "x": [
          0,
          1000000000000,
          2000000000000,
          3000000000000,
          4000000000000,
          5000000000000,
          6000000000000,
          7000000000000,
          8000000000000,
          9000000000000,
          10000000000000,
          11000000000000,
          12000000000000,
          13000000000000,
          14000000000000,
          15000000000000,
          16000000000000,
          17000000000000,
          18000000000000,
          19000000000000,
          20000000000000,
          21000000000000,
          22000000000000,
          23000000000000,
          24000000000000,
          25000000000000,
          26000000000000,
          27000000000000,
          28000000000000,
          29000000000000,
          30000000000000,
          31000000000000,
          32000000000000,
          33000000000000,
          34000000000000,
          35000000000000
         ],
         "y": {
          "bdata": "FhxkT34eo0AHmWK9jRClQKRkE10XDqVAeh2q3DIPpUB4158whw+lQOvrhi3xD6VAHv5cYOIPpUAUELsG7g+lQH5izJrqD6VACYoa2PgPpUBUI0GM9A+lQLRZnrjoD6VA2HKECu4PpUDkcNZO9Q+lQPAk6s/yD6VAPJePt+4PpUDA7IzB7w+lQNZh4XzxD6VAA17bqvAPpUCg1IZ/8A+lQLrjmm3wD6VAsVLNIfAPpUCQu/408A+lQEbFnHPwD6VA8p/jfPAPpUD+HpGO8A+lQDpe957wD6VAPJd2jfAPpUAzdmHX8A+lQM7+hJLwD6VAFBCOhPAPpUDaE3yT8A+lQG2gwX7wD6VAU65uZPAPpUDFt8qU8A+lQG/J8QrwD6VA",
          "dtype": "f8"
         }
        },
        {
         "line": {
          "color": "rgb(251, 77, 0)"
         },
         "mode": "lines",
         "name": "074",
         "opacity": 0.4,
         "type": "scatter",
         "x": [
          0,
          1000000000000,
          2000000000000,
          3000000000000,
          4000000000000,
          5000000000000,
          6000000000000,
          7000000000000,
          8000000000000,
          9000000000000,
          10000000000000,
          11000000000000,
          12000000000000,
          13000000000000,
          14000000000000,
          15000000000000,
          16000000000000,
          17000000000000,
          18000000000000,
          19000000000000,
          20000000000000,
          21000000000000,
          22000000000000,
          23000000000000,
          24000000000000,
          25000000000000,
          26000000000000,
          27000000000000,
          28000000000000,
          29000000000000,
          30000000000000,
          31000000000000,
          32000000000000,
          33000000000000,
          34000000000000,
          35000000000000
         ],
         "y": {
          "bdata": "xBSJnFhao0AuwXglRP6oQOxIBli8IKlAzsSUVrkrqUAyrcgprC6pQDOW42xqL6lAcMNr3ZkvqUAQWF1Loy+pQLZ8mKmjL6lAzvLraKMvqUCUhMAVoy+pQPTdlcKiL6lACyIkk6IvqUCXj0SDoi+pQA4LZXOiL6lAVyAJZKIvqUBSZtRkoi+pQHO/n2WiL6lAvitrZqIvqUCdc2lnoi+pQOuzlGiiL6lATwvAaaIvqUDqTthqoi+pQPQdlmmiL6lAjfhTaKIvqUC43hFnoi+pQPuOR2aiL6lAYBznZaIvqUAAsIZloi+pQIhOIGWiL6lASuf9Y6IvqUDBgNtioi+pQO4auWGiL6lAUvRJYaIvqUC7Onlhoi+pQPSBqGGiL6lA",
          "dtype": "f8"
         }
        },
        {
         "line": {
          "color": "rgb(251, 64, 0)"
         },
         "mode": "lines",
         "name": "075",
         "opacity": 0.4,
         "type": "scatter",
         "x": [
          0,
          1000000000000,
          2000000000000,
          3000000000000,
          4000000000000,
          5000000000000,
          6000000000000,
          7000000000000,
          8000000000000,
          9000000000000,
          10000000000000,
          11000000000000,
          12000000000000,
          13000000000000,
          14000000000000,
          15000000000000,
          16000000000000,
          17000000000000,
          18000000000000,
          19000000000000,
          20000000000000,
          21000000000000,
          22000000000000,
          23000000000000,
          24000000000000,
          25000000000000,
          26000000000000,
          27000000000000,
          28000000000000,
          29000000000000,
          30000000000000,
          31000000000000,
          32000000000000,
          33000000000000,
          34000000000000,
          35000000000000
         ],
         "y": {
          "bdata": "JWlv73Ito0B8lISLnfqmQEEP7qVjEKdACBL37gUcp0CBrknyDSCnQBfSPZhJIadAP7wEYaghp0BezV3RwSGnQNJiybPHIadA35btacghp0Au7IOdyCGnQHBu38DIIadAiPhTycghp0CQg8jRyCGnQIoPPdrIIadAJt1C3cghp0AUVMTeyCGnQC3LReDIIadAQpNY4cghp0BKJ1HhyCGnQGC7SeHIIadAe09C4cghp0AWY2zhyCGnQPRIpOHIIadA1y7c4cghp0CCtwjiyCGnQMdGGOLIIadADNYn4sghp0BWZTfiyCGnQBdgSeLIIadA1gdc4sghp0Cbr27iyCGnQIQPfuLIIadAIRKF4sghp0C+FIziyCGnQF0Xk+LIIadA",
          "dtype": "f8"
         }
        },
        {
         "line": {
          "color": "rgb(251, 51, 0)"
         },
         "mode": "lines",
         "name": "076",
         "opacity": 0.4,
         "type": "scatter",
         "x": [
          0,
          1000000000000,
          2000000000000,
          3000000000000,
          4000000000000,
          5000000000000,
          6000000000000,
          7000000000000,
          8000000000000,
          9000000000000,
          10000000000000,
          11000000000000,
          12000000000000,
          13000000000000,
          14000000000000,
          15000000000000,
          16000000000000,
          17000000000000,
          18000000000000,
          19000000000000,
          20000000000000,
          21000000000000,
          22000000000000,
          23000000000000,
          24000000000000,
          25000000000000,
          26000000000000,
          27000000000000,
          28000000000000,
          29000000000000,
          30000000000000,
          31000000000000,
          32000000000000,
          33000000000000,
          34000000000000,
          35000000000000
         ],
         "y": {
          "bdata": "TeZ8T7Uuo0DmLnVFZ3SqQF5X2ih1hqpAcnLsIwqPqkASeN7SV5GqQHDoXjXwkapAvqjcPxeSqkBv42p9HpKqQNi7WeYfkqpAJNZinh+SqkCmnwpVH5KqQFANwEIfkqpAQP8QMh+SqkClR2IhH5KqQKTZ4BYfkqpAbIdKEx+SqkC6O7QPH5KqQJH2HQwfkqpAOCprCx+SqkAa8c0KH5KqQBm4MAofkqpApGjGCR+SqkB+JZUJH5KqQNvnYwkfkqpAu68yCR+SqkBKdLAJH5KqQMxhMwofkqpAjF22Ch+SqkCakzwLH5KqQABoxgsfkqpA7k1QDB+SqkBmRdoMH5KqQPZQVA0fkqpALfXNDR+SqkBxqUcOH5KqQLRprQ4fkqpA",
          "dtype": "f8"
         }
        },
        {
         "line": {
          "color": "rgb(251, 38, 0)"
         },
         "mode": "lines",
         "name": "077",
         "opacity": 0.4,
         "type": "scatter",
         "x": [
          0,
          1000000000000,
          2000000000000,
          3000000000000,
          4000000000000,
          5000000000000,
          6000000000000,
          7000000000000,
          8000000000000,
          9000000000000,
          10000000000000,
          11000000000000,
          12000000000000,
          13000000000000,
          14000000000000,
          15000000000000,
          16000000000000,
          17000000000000,
          18000000000000,
          19000000000000,
          20000000000000,
          21000000000000,
          22000000000000,
          23000000000000,
          24000000000000,
          25000000000000,
          26000000000000,
          27000000000000,
          28000000000000,
          29000000000000,
          30000000000000,
          31000000000000,
          32000000000000,
          33000000000000,
          34000000000000,
          35000000000000
         ],
         "y": {
          "bdata": "GGOnxmRSo0BkYaKdkZ2oQJSXeaXBuqhAN8bpIQrGqEAQoalOLsmoQMwrXzoCyqhAX+6KBDbKqEDal4heQMqoQAj9LupByqhA4B21i0HKqEATwUFWQcqoQGhNZjdByqhASE5TLkHKqEDFwnMpQcqoQBE7lCRByqhAbr38IEHKqEDSyOYfQcqoQDjU0B5ByqhAot+6HUHKqECSjmcdQcqoQE7HOR1ByqhAWgAMHUHKqEBSu+ccQcqoQEcO1hxByqhA4mHEHEHKqEAitrIcQcqoQD7XuxxByqhA/CPKHEHKqEBYcdgcQcqoQLDD5BxByqhArTXtHEHKqEDyp/UcQcqoQIAa/hxByqhApK7/HEHKqECs7/8cQcqoQMUwAB1ByqhA",
          "dtype": "f8"
         }
        },
        {
         "line": {
          "color": "rgb(250, 26, 0)"
         },
         "mode": "lines",
         "name": "078",
         "opacity": 0.4,
         "type": "scatter",
         "x": [
          0,
          1000000000000,
          2000000000000,
          3000000000000,
          4000000000000,
          5000000000000,
          6000000000000,
          7000000000000,
          8000000000000,
          9000000000000,
          10000000000000,
          11000000000000,
          12000000000000,
          13000000000000,
          14000000000000,
          15000000000000,
          16000000000000,
          17000000000000,
          18000000000000,
          19000000000000,
          20000000000000,
          21000000000000,
          22000000000000,
          23000000000000,
          24000000000000,
          25000000000000,
          26000000000000,
          27000000000000,
          28000000000000,
          29000000000000,
          30000000000000,
          31000000000000,
          32000000000000,
          33000000000000,
          34000000000000,
          35000000000000
         ],
         "y": {
          "bdata": "c/IqSnowo0Ay3MJJynqrQJmlibphg6tArtw84z2Iq0DKdNUzaYmrQOrqD62iiatAmkwh0auJq0BRaHpsrYmrQLEK6NWriatAAicXkaqJq0DByMhRqYmrQApPdhioiatAALkpe6aJq0CNpn7ipImrQLIXdU6jiatAaq5aoqKJq0AG1va2oomrQO6/wcuiiatAfdRk4aKJq0ANcwsGo4mrQCZg4yqjiatAxJvsT6OJq0DZJsuJo4mrQA0nq9WjiatAZaVIIqSJq0BiFc5upImrQItoZqmkiatArlbH5KSJq0DI3/AgpYmrQIgNF12liatA0KkMmaWJq0AiombVpYmrQLkJpRCmiatAr4yEKqaJq0Brb3hEpomrQOexgF6miatA",
          "dtype": "f8"
         }
        },
        {
         "line": {
          "color": "rgb(250, 13, 0)"
         },
         "mode": "lines",
         "name": "079",
         "opacity": 0.4,
         "type": "scatter",
         "x": [
          0,
          1000000000000,
          2000000000000,
          3000000000000,
          4000000000000,
          5000000000000,
          6000000000000,
          7000000000000,
          8000000000000,
          9000000000000,
          10000000000000,
          11000000000000,
          12000000000000,
          13000000000000,
          14000000000000,
          15000000000000,
          16000000000000,
          17000000000000,
          18000000000000,
          19000000000000,
          20000000000000,
          21000000000000,
          22000000000000,
          23000000000000,
          24000000000000,
          25000000000000,
          26000000000000,
          27000000000000,
          28000000000000,
          29000000000000,
          30000000000000,
          31000000000000,
          32000000000000,
          33000000000000,
          34000000000000,
          35000000000000
         ],
         "y": {
          "bdata": "ka6B1Bc+o0CaBXELlcqpQEjCoEPT56lArsVsNWDxqUDMhS8e1POpQGB3AHR69KlAusyoXJ70qUAUQ92UpvSpQOR40n+m9KlAK0ChYKb0qUBY0kA2pvSpQJUeriam9KlA52XIG6b0qUC7HQARpvSpQM9flgym9KlA6O0kDab0qUCGqLQNpvSpQFojqw6m9KlA2QANFqb0qUDxzYYdpvSpQKKKGCWm9KlAgrTlK6b0qUC6FSEypvSpQNAnejim9KlA7L7aPqb0qUCVFfFDpvSpQPRRHUmm9KlAAXRfTqb0qUCHuLBRpvSpQF5TcVOm9KlAen03Vab0qUAfPuhWpvSpQCvD6lam9KlAcUvtVqb0qUDx1u9WpvSpQOJ+SVam9KlA",
          "dtype": "f8"
         }
        },
        {
         "line": {
          "color": "rgb(250, 0, 0)"
         },
         "mode": "lines",
         "name": "080",
         "opacity": 0.4,
         "type": "scatter",
         "x": [
          0,
          1000000000000,
          2000000000000,
          3000000000000,
          4000000000000,
          5000000000000,
          6000000000000,
          7000000000000,
          8000000000000,
          9000000000000,
          10000000000000,
          11000000000000,
          12000000000000,
          13000000000000,
          14000000000000,
          15000000000000,
          16000000000000,
          17000000000000,
          18000000000000,
          19000000000000,
          20000000000000,
          21000000000000,
          22000000000000,
          23000000000000,
          24000000000000,
          25000000000000,
          26000000000000,
          27000000000000,
          28000000000000,
          29000000000000,
          30000000000000,
          31000000000000,
          32000000000000,
          33000000000000,
          34000000000000,
          35000000000000
         ],
         "y": {
          "bdata": "6M4FGcg4o0BuvlRMnqunQHJkEyqSxqdA+lgWQODRp0BJpbM0NtWnQEIhyVss1qdASCpKI2zWp0CoaCLDe9anQAfyTtB91qdA/Z6gRn7Wp0Cur3xtftanQKd/UIN+1qdACo+ein7Wp0C2o+yRftanQIOBGZd+1qdAA8iimH7Wp0CaDiyaftanQE9VtZt+1qdAD/sOnH7Wp0Bk7zqcftanQAnkZpx+1qdA8cSznH7Wp0A25jidftanQK4Hvp1+1qdAXylDnn7Wp0DGPmyeftanQO15h55+1qdAIbWinn7Wp0CLw7WeftanQDDaup5+1qdA0vC/nn7Wp0B3B8WeftanQEb3tZ5+1qdAm/OZnn7Wp0A2U3OeftanQBtLSJ5+1qdA",
          "dtype": "f8"
         }
        },
        {
         "line": {
          "color": "rgb(244, 0, 0)"
         },
         "mode": "lines",
         "name": "081",
         "opacity": 0.4,
         "type": "scatter",
         "x": [
          0,
          1000000000000,
          2000000000000,
          3000000000000,
          4000000000000,
          5000000000000,
          6000000000000,
          7000000000000,
          8000000000000,
          9000000000000,
          10000000000000,
          11000000000000,
          12000000000000,
          13000000000000,
          14000000000000,
          15000000000000,
          16000000000000,
          17000000000000,
          18000000000000,
          19000000000000,
          20000000000000,
          21000000000000,
          22000000000000,
          23000000000000,
          24000000000000,
          25000000000000,
          26000000000000,
          27000000000000,
          28000000000000,
          29000000000000,
          30000000000000,
          31000000000000,
          32000000000000,
          33000000000000,
          34000000000000,
          35000000000000
         ],
         "y": {
          "bdata": "Zu5pZEPhokBw2mAYIumnQLgOdjDA/adANHsOD9sLqEAniFYK/hCoQNveuIOaEqhAYjtikxQTqECKOFyxOROoQLS90LxDE6hAkKMMy0UTqEB9hhM4RhOoQKQtWPlFE6hA5QGeukUTqEBxlKWfRROoQIEwJ5FFE6hAh+SogkUTqECCrl53RROoQL2GJnZFE6hAdGXudEUTqECnSrZzRROoQCIifnNFE6hAs1ifc0UTqEAaosBzRROoQD2c2HNFE6hAVyXTc0UTqEAwu81zRROoQMNdyHNFE6hAGeTQc0UTqEBPQ95zRROoQNal63NFE6hArv/zc0UTqEDVfOxzRROoQCX65HNFE6hAl3fdc0UTqEA9N9tzRROoQKy33XNFE6hA",
          "dtype": "f8"
         }
        },
        {
         "line": {
          "color": "rgb(238, 0, 0)"
         },
         "mode": "lines",
         "name": "082",
         "opacity": 0.4,
         "type": "scatter",
         "x": [
          0,
          1000000000000,
          2000000000000,
          3000000000000,
          4000000000000,
          5000000000000,
          6000000000000,
          7000000000000,
          8000000000000,
          9000000000000,
          10000000000000,
          11000000000000,
          12000000000000,
          13000000000000,
          14000000000000,
          15000000000000,
          16000000000000,
          17000000000000,
          18000000000000,
          19000000000000,
          20000000000000,
          21000000000000,
          22000000000000,
          23000000000000,
          24000000000000,
          25000000000000,
          26000000000000,
          27000000000000,
          28000000000000,
          29000000000000,
          30000000000000,
          31000000000000,
          32000000000000,
          33000000000000,
          34000000000000,
          35000000000000
         ],
         "y": {
          "bdata": "uEr5S48wo0AWTG5mT4KmQMHju8XRkaZA1Kji+kOapkCGQN+BMZ2mQFa3KosanqZADss9TmCepkAq0LPvc56mQBDNzV55nqZApXHaAHmepkDR097PeJ6mQBEh1Lh4nqZA+D03v3iepkBaTJvFeJ6mQDJMAMx4nqZAENuH1niepkDPUDLheJ6mQIcJ3et4nqZA9MZO9HiepkAbVzr6eJ6mQHsBJgB5nqZAE8YRBnmepkCupcEGeZ6mQPzCRQd5nqZAH/7JB3mepkAM7FYHeZ6mQHr+ygV5nqZA4Bs/BHmepkBFRLMCeZ6mQIUzyAB5nqZACAna/niepkA44+v8eJ6mQIqeOvt4nqZA2XnO+XiepkB+W2L4eJ6mQHhD9vZ4nqZA",
          "dtype": "f8"
         }
        },
        {
         "line": {
          "color": "rgb(232, 0, 0)"
         },
         "mode": "lines",
         "name": "083",
         "opacity": 0.4,
         "type": "scatter",
         "x": [
          0,
          1000000000000,
          2000000000000,
          3000000000000,
          4000000000000,
          5000000000000,
          6000000000000,
          7000000000000,
          8000000000000,
          9000000000000,
          10000000000000,
          11000000000000,
          12000000000000,
          13000000000000,
          14000000000000,
          15000000000000,
          16000000000000,
          17000000000000,
          18000000000000,
          19000000000000,
          20000000000000,
          21000000000000,
          22000000000000,
          23000000000000,
          24000000000000,
          25000000000000,
          26000000000000,
          27000000000000,
          28000000000000,
          29000000000000,
          30000000000000,
          31000000000000,
          32000000000000,
          33000000000000,
          34000000000000,
          35000000000000
         ],
         "y": {
          "bdata": "tQYcEyQQo0AsVjcqyb+mQLw0369h0qZALIx1BYPcpkB8KHvl/N+mQHF8T3UN4aZA18pKqF7hpkAGm4ybduGmQGqOGdB74aZAZDkjSX3hpkBv2ZbwfOGmQGDXCph84aZA6tNLc3zhpkBQmx9efOGmQOJm80h84aZAVF8aOXzhpkD+h7w3fOGmQMmwXjZ84aZAtdkANXzhpkCOMhs1fOGmQKCkpjV84aZAsRYyNnzhpkDeb5I2fOGmQHaUfTZ84aZADbloNnzhpkCk3VM2fOGmQEI+cTZ84aZALLmdNnzhpkAUNMo2fOGmQPKi4jZ84aZA7IzENnzhpkDodqY2fOGmQORgiDZ84aZAoLOVNnzhpkBaE7A2fOGmQBRzyjZ84aZA",
          "dtype": "f8"
         }
        },
        {
         "line": {
          "color": "rgb(226, 0, 0)"
         },
         "mode": "lines",
         "name": "084",
         "opacity": 0.4,
         "type": "scatter",
         "x": [
          0,
          1000000000000,
          2000000000000,
          3000000000000,
          4000000000000,
          5000000000000,
          6000000000000,
          7000000000000,
          8000000000000,
          9000000000000,
          10000000000000,
          11000000000000,
          12000000000000,
          13000000000000,
          14000000000000,
          15000000000000,
          16000000000000,
          17000000000000,
          18000000000000,
          19000000000000,
          20000000000000,
          21000000000000,
          22000000000000,
          23000000000000,
          24000000000000,
          25000000000000,
          26000000000000,
          27000000000000,
          28000000000000,
          29000000000000,
          30000000000000,
          31000000000000,
          32000000000000,
          33000000000000,
          34000000000000,
          35000000000000
         ],
         "y": {
          "bdata": "gLgcFVM6o0AOpafTpralQIyjloscu6VAZwpSbzm/pUDHvjCd0MClQC6HrZ1ZwaVAGFEwIIPBpUBkgJVhlMGlQAPEB+CZwaVASDknpp7BpUD6FZoLncGlQOW2uG6awaVAn+LERJnBpUBBJDFcmcGlQGO+PQuawaVAMF6vG5rBpUB87nJCmsGlQAwjqpGawaVAkwe/15rBpUBQNioEm8GlQF+0ejubwaVA9g72XZrBpUDoEPtXmcGlQPh4oqiYwaVAt2ta0ZjBpUADo1CwmMGlQFTb/4mYwaVAIvPXs5fBpUAF69qmmMGlQL5s+x+ZwaVACwcXKJnBpUCikuUgmcGlQK1geAGZwaVABhBb8ZjBpUDHXErhmMGlQHFUVdGYwaVA",
          "dtype": "f8"
         }
        },
        {
         "line": {
          "color": "rgb(220, 0, 0)"
         },
         "mode": "lines",
         "name": "085",
         "opacity": 0.4,
         "type": "scatter",
         "x": [
          0,
          1000000000000,
          2000000000000,
          3000000000000,
          4000000000000,
          5000000000000,
          6000000000000,
          7000000000000,
          8000000000000,
          9000000000000,
          10000000000000,
          11000000000000,
          12000000000000,
          13000000000000,
          14000000000000,
          15000000000000,
          16000000000000,
          17000000000000,
          18000000000000,
          19000000000000,
          20000000000000,
          21000000000000,
          22000000000000,
          23000000000000,
          24000000000000,
          25000000000000,
          26000000000000,
          27000000000000,
          28000000000000,
          29000000000000,
          30000000000000,
          31000000000000,
          32000000000000,
          33000000000000,
          34000000000000,
          35000000000000
         ],
         "y": {
          "bdata": "0lQcjsYVo0DWnZquCm2mQPZCWIQxeqZATrwqmt6DpkALxeMqh4emQPs9x2i7iKZAZrJ01B6JpkAxpO1zPYmmQOJE+HdFiaZAIAoG1EeJpkBvEYa8R4mmQI2jGqdHiaZALIP6okeJpkBKM3GfR4mmQNg2saBHiaZAN0TxoUeJpkBjWzGjR4mmQCYC1KJHiaZAIcFtoUeJpkBigAegR4mmQPUFqp5HiaZAJOeTnUeJpkCGyn2cR4mmQBywZ5tHiaZAt1WKmkeJpkDVV9GZR4mmQLpbGJlHiaZAiLpvmEeJpkCJDkyYR4mmQPZiKJhHiaZAzbcEmEeJpkAaxxeYR4mmQLTmTZhHiaZAVAaEmEeJpkCfOrqYR4mmQM0W8ZhHiaZA",
          "dtype": "f8"
         }
        },
        {
         "line": {
          "color": "rgb(213, 0, 0)"
         },
         "mode": "lines",
         "name": "086",
         "opacity": 0.4,
         "type": "scatter",
         "x": [
          0,
          1000000000000,
          2000000000000,
          3000000000000,
          4000000000000,
          5000000000000,
          6000000000000,
          7000000000000,
          8000000000000,
          9000000000000,
          10000000000000,
          11000000000000,
          12000000000000,
          13000000000000,
          14000000000000,
          15000000000000,
          16000000000000,
          17000000000000,
          18000000000000,
          19000000000000,
          20000000000000,
          21000000000000,
          22000000000000,
          23000000000000,
          24000000000000,
          25000000000000,
          26000000000000,
          27000000000000,
          28000000000000,
          29000000000000,
          30000000000000,
          31000000000000,
          32000000000000,
          33000000000000,
          34000000000000,
          35000000000000
         ],
         "y": {
          "bdata": "KO3T1YlCo0DKLFngqzOqQIjkZesaTqpAqnMTo/xXqkCHQ2dmflqqQP5RyUoUW6pANif9XDlbqkANltVTQFuqQBJskOlAW6pAK8Y8ekBbqkCQrXg2QFuqQEQZ1fU/W6pAcYyN6z9bqkAgNVjhP1uqQFATNdc/W6pASrALzj9bqkAwTMPFP1uqQB04kb0/W6pAXXZWtT9bqkDDMJWpP1uqQIb1/50/W6pArMSWkj9bqkASFLeJP1uqQHKxBoM/W6pABNJrfD9bqkDyRBB2P1uqQNA6r3Q/W6pACLtQcz9bqkCZxfRxP1uqQNrXJHI/W6pABKHJdD9bqkDKgeF4P1uqQBCQYn4/W6pAqn7zgj9bqkDileyHP1uqQMgZUo0/W6pA",
          "dtype": "f8"
         }
        },
        {
         "line": {
          "color": "rgb(207, 0, 0)"
         },
         "mode": "lines",
         "name": "087",
         "opacity": 0.4,
         "type": "scatter",
         "x": [
          0,
          1000000000000,
          2000000000000,
          3000000000000,
          4000000000000,
          5000000000000,
          6000000000000,
          7000000000000,
          8000000000000,
          9000000000000,
          10000000000000,
          11000000000000,
          12000000000000,
          13000000000000,
          14000000000000,
          15000000000000,
          16000000000000,
          17000000000000,
          18000000000000,
          19000000000000,
          20000000000000,
          21000000000000,
          22000000000000,
          23000000000000,
          24000000000000,
          25000000000000,
          26000000000000,
          27000000000000,
          28000000000000,
          29000000000000,
          30000000000000,
          31000000000000,
          32000000000000,
          33000000000000,
          34000000000000,
          35000000000000
         ],
         "y": {
          "bdata": "210qOJZRo0AQdLYBMtmpQKzLFGGE9KlAkEFG0Yf9qUALEJi+2P+pQJ7ppN91AKpAzi7XEpgAqkD+3ERMnwCqQG074H6fAKpAgl6mXZ8AqkC4Q7VXnwCqQH930VGfAKpA2Pn6S58AqkBbCRhOnwCqQOTtcFGfAKpA3vbJVJ8AqkBQ7CNanwCqQPyA/WKfAKpAztzda58AqkDL/8R0nwCqQEw7232fAKpA+Oz/hp8AqkAY6CyQnwCqQNuQ1ZifAKpAHoGQoJ8AqkByPFGonwCqQOLCF7CfAKpAZlIutp8AqkBEwAO8nwCqQHH+28GfAKpAyrG1xp8AqkCypNjInwCqQCARj8mfAKpAscDYyJ8AqkCAMm3GnwCqQKT3ZsKfAKpA",
          "dtype": "f8"
         }
        },
        {
         "line": {
          "color": "rgb(201, 0, 0)"
         },
         "mode": "lines",
         "name": "088",
         "opacity": 0.4,
         "type": "scatter",
         "x": [
          0,
          1000000000000,
          2000000000000,
          3000000000000,
          4000000000000,
          5000000000000,
          6000000000000,
          7000000000000,
          8000000000000,
          9000000000000,
          10000000000000,
          11000000000000,
          12000000000000,
          13000000000000,
          14000000000000,
          15000000000000,
          16000000000000,
          17000000000000,
          18000000000000,
          19000000000000,
          20000000000000,
          21000000000000,
          22000000000000,
          23000000000000,
          24000000000000,
          25000000000000,
          26000000000000,
          27000000000000,
          28000000000000,
          29000000000000,
          30000000000000,
          31000000000000,
          32000000000000,
          33000000000000,
          34000000000000,
          35000000000000
         ],
         "y": {
          "bdata": "awSQ2NJMo0BbzrMQCbaoQGPotDZ016hAuIg+MMDiqED9MzqR1uWoQAQeaUqi5qhALg54GdbmqEB6pMO34OaoQIIOgojh5qhASHGIaOHmqECqH8EL4eaoQDIN+q7g5qhA6fD4fuDmqEC9YEBq4OaoQBLTh1Xg5qhA2tw6Q+DmqEBlsXNC4OaoQBmGrEHg5qhA9FrlQODmqEA8KRFB4OaoQJkH0UHg5qhAGuaQQuDmqEBLyCFD4OaoQGJ8XkLg5qhAjTCbQeDmqEDC5NdA4OaoQEv0yEDg5qhAhusnQeDmqEDC4oZB4OaoQNAd0UHg5qhATTmFQeDmqEDJVDlB4OaoQEhw7UDg5qhA7Q39QODmqEDibkRB4OaoQNvPi0Hg5qhA",
          "dtype": "f8"
         }
        },
        {
         "line": {
          "color": "rgb(195, 0, 0)"
         },
         "mode": "lines",
         "name": "089",
         "opacity": 0.4,
         "type": "scatter",
         "x": [
          0,
          1000000000000,
          2000000000000,
          3000000000000,
          4000000000000,
          5000000000000,
          6000000000000,
          7000000000000,
          8000000000000,
          9000000000000,
          10000000000000,
          11000000000000,
          12000000000000,
          13000000000000,
          14000000000000,
          15000000000000,
          16000000000000,
          17000000000000,
          18000000000000,
          19000000000000,
          20000000000000,
          21000000000000,
          22000000000000,
          23000000000000,
          24000000000000,
          25000000000000,
          26000000000000,
          27000000000000,
          28000000000000,
          29000000000000,
          30000000000000,
          31000000000000,
          32000000000000,
          33000000000000,
          34000000000000,
          35000000000000
         ],
         "y": {
          "bdata": "ZvlZcw8xo0DaUVZrcVaoQLzdJiTnd6hArkDEIKuDqECOfSjE54aoQM3gVDzFh6hAbeXYpvqHqEBIttVPCYioQDngnNUMiKhAFJmFhgyIqEDC/yecC4ioQNodzLEKiKhAfOJHMwqIqECwcIoCCoioQFxpzdEJiKhAFxjRwAmIqEAQ6fa5CYioQOZFHbMJiKhAUlBbrgmIqECg4puvCYioQN2o3LAJiKhABqMdsgmIqEBS3CezCYioQFefILQJiKhAp3AZtQmIqECCsMK1CYioQBkWh7UJiKhA6XtLtQmIqEDw4Q+1CYioQEQIlLQJiKhAJLIDtAmIqEBRYHOzCYioQN4bzbIJiKhAWULLsQmIqEBGNJywCYioQNz7P68JiKhA",
          "dtype": "f8"
         }
        },
        {
         "line": {
          "color": "rgb(189, 0, 0)"
         },
         "mode": "lines",
         "name": "090",
         "opacity": 0.4,
         "type": "scatter",
         "x": [
          0,
          1000000000000,
          2000000000000,
          3000000000000,
          4000000000000,
          5000000000000,
          6000000000000,
          7000000000000,
          8000000000000,
          9000000000000,
          10000000000000,
          11000000000000,
          12000000000000,
          13000000000000,
          14000000000000,
          15000000000000,
          16000000000000,
          17000000000000,
          18000000000000,
          19000000000000,
          20000000000000,
          21000000000000,
          22000000000000,
          23000000000000,
          24000000000000,
          25000000000000,
          26000000000000,
          27000000000000,
          28000000000000,
          29000000000000,
          30000000000000,
          31000000000000,
          32000000000000,
          33000000000000,
          34000000000000,
          35000000000000
         ],
         "y": {
          "bdata": "Ok9CeLT9okCMwC9yx6OqQGpLaSwLpKpAgdzCw3+rqkBCH68Q+a2qQAQ9vd6rrqpAQSqm39muqkDAjU+v5q6qQOksiszprqpAdbSRdOquqkDSWFm+6q6qQNyg/r7qrqpARPZQwequqkAlyaDH6q6qQHw0wt/qrqpAuFC4+OquqkDhHYMS666qQE6B7inrrqpAWOHDP+uuqkBT+9hV666qQNpirmrrrqpApCLhdOuuqkD7XRh/666qQNoUVInrrqpAZA6gj+uuqkBwdQ6R666qQLncgo/rrqpAsIPCiuuuqkAgcvR/666qQED5DHHrrqpAzwVCXuuuqkBHTkpH666qQEBaCSzrrqpAVXbJDOuuqkCaH93q6q6qQFU/QdDqrqpA",
          "dtype": "f8"
         }
        },
        {
         "line": {
          "color": "rgb(183, 0, 0)"
         },
         "mode": "lines",
         "name": "091",
         "opacity": 0.4,
         "type": "scatter",
         "x": [
          0,
          1000000000000,
          2000000000000,
          3000000000000,
          4000000000000,
          5000000000000,
          6000000000000,
          7000000000000,
          8000000000000,
          9000000000000,
          10000000000000,
          11000000000000,
          12000000000000,
          13000000000000,
          14000000000000,
          15000000000000,
          16000000000000,
          17000000000000,
          18000000000000,
          19000000000000,
          20000000000000,
          21000000000000,
          22000000000000,
          23000000000000,
          24000000000000,
          25000000000000,
          26000000000000,
          27000000000000,
          28000000000000,
          29000000000000,
          30000000000000,
          31000000000000,
          32000000000000,
          33000000000000,
          34000000000000,
          35000000000000
         ],
         "y": {
          "bdata": "p0xk6FEOo0CqaMXyM5+mQIagvIxprKZAGtFHwHe4pkDsfJMcWL2mQMpqa5H9vqZA+zOo/36/pkCNxN1Zpr+mQJ+Akumxv6ZAKWlCGrS/pkCGOi6dtL+mQJhCKG+0v6ZAPsfhMrS/pkDHc5v2s7+mQNpDoeezv6ZAABXW2bO/pkDY6grMs7+mQChiRMSzv6ZAkc0nw7O/pkCeOQvCs7+mQEym7sCzv6ZAPYj+wLO/pkDuQxbBs7+mQKT/LcGzv6ZA+tI/wbO/pkCeG0vBs7+mQExkVsGzv6ZABq1hwbO/pkDI01nBs7+mQJh6UcGzv6ZAaiFJwbO/pkBNQ0DBs7+mQPrRNsGzv6ZApmAtwbO/pkBS7yPBs7+mQONVH8Gzv6ZA",
          "dtype": "f8"
         }
        },
        {
         "line": {
          "color": "rgb(177, 0, 0)"
         },
         "mode": "lines",
         "name": "092",
         "opacity": 0.4,
         "type": "scatter",
         "x": [
          0,
          1000000000000,
          2000000000000,
          3000000000000,
          4000000000000,
          5000000000000,
          6000000000000,
          7000000000000,
          8000000000000,
          9000000000000,
          10000000000000,
          11000000000000,
          12000000000000,
          13000000000000,
          14000000000000,
          15000000000000,
          16000000000000,
          17000000000000,
          18000000000000,
          19000000000000,
          20000000000000,
          21000000000000,
          22000000000000,
          23000000000000,
          24000000000000,
          25000000000000,
          26000000000000,
          27000000000000,
          28000000000000,
          29000000000000,
          30000000000000,
          31000000000000,
          32000000000000,
          33000000000000,
          34000000000000,
          35000000000000
         ],
         "y": {
          "bdata": "gFo0fRVMo0BDBVv3VF6qQBxhLwpNdKpAiOaR/lV8qkB2tyCvOn6qQMkudTijfqpAdAWWub1+qkAnSwGpw36qQOoORObBfqpAGzJY4L5+qkCZtybXvH6qQKQKl9e6fqpADmxTV7p+qkBGQcXZuX6qQB3m1ly5fqpAgRkbV7l+qkC05S7LuX6qQBgo3T+6fqpAsOAltbp+qkBibYNlu36qQHmpzxe8fqpA6sO4y7x+qkCAUYRgvX6qQHRH7NS9fqpAjWQ1Sr5+qkDFqF/Avn6qQHEDQfm+fqpAgxD+Mb9+qkDXD+5qv36qQORU9Y6/fqpAUK+Bjb9+qkDlqb12v36qQNQEy0q/fqpAbHdPEr9+qkAoycDIvn6qQL99Rm6+fqpA",
          "dtype": "f8"
         }
        },
        {
         "line": {
          "color": "rgb(171, 0, 0)"
         },
         "mode": "lines",
         "name": "093",
         "opacity": 0.4,
         "type": "scatter",
         "x": [
          0,
          1000000000000,
          2000000000000,
          3000000000000,
          4000000000000,
          5000000000000,
          6000000000000,
          7000000000000,
          8000000000000,
          9000000000000,
          10000000000000,
          11000000000000,
          12000000000000,
          13000000000000,
          14000000000000,
          15000000000000,
          16000000000000,
          17000000000000,
          18000000000000,
          19000000000000,
          20000000000000,
          21000000000000,
          22000000000000,
          23000000000000,
          24000000000000,
          25000000000000,
          26000000000000,
          27000000000000,
          28000000000000,
          29000000000000,
          30000000000000,
          31000000000000,
          32000000000000,
          33000000000000,
          34000000000000,
          35000000000000
         ],
         "y": {
          "bdata": "pafTL19Co0AlvkEuXtGoQJW3VY0t8qhAkan42wn9qEDD44fS8/+oQPT6P+iyAKlAEMMF+eAAqUDDNeIn6wCpQLT8oDHrAKlAlNJRleoAqUAgRNtS6gCpQGM68RrqAKlAmkiCEeoAqUD/XBMI6gCpQIx3pP7pAKlAytgg+ekAqUAarLX26QCpQEuPSvTpAKlAanT18ekAqUDkOQDx6QCpQEsMC/DpAKlAoesV7+kAqUCDqETu6QCpQJW2j+3pAKlAwMra7OkAqUDCICzs6QCpQAxp4evpAKlAhLKW6+kAqUAo/Uvr6QCpQJgZJ+vpAKlAzRI66+kAqUCVZ27r6QCpQMNbxOvpAKlAahhB7OkAqUAcruHs6QCpQEUipu3pAKlA",
          "dtype": "f8"
         }
        },
        {
         "line": {
          "color": "rgb(165, 0, 0)"
         },
         "mode": "lines",
         "name": "094",
         "opacity": 0.4,
         "type": "scatter",
         "x": [
          0,
          1000000000000,
          2000000000000,
          3000000000000,
          4000000000000,
          5000000000000,
          6000000000000,
          7000000000000,
          8000000000000,
          9000000000000,
          10000000000000,
          11000000000000,
          12000000000000,
          13000000000000,
          14000000000000,
          15000000000000,
          16000000000000,
          17000000000000,
          18000000000000,
          19000000000000,
          20000000000000,
          21000000000000,
          22000000000000,
          23000000000000,
          24000000000000,
          25000000000000,
          26000000000000,
          27000000000000,
          28000000000000,
          29000000000000,
          30000000000000,
          31000000000000,
          32000000000000,
          33000000000000,
          34000000000000,
          35000000000000
         ],
         "y": {
          "bdata": "9Ay8BJAeo0DgGm7iFYWlQJ5DnwXKhqVAsaeMrDKLpUCoumkkSY2lQCrLUXkTjqVAf9GM/leOpUBgwkqabY6lQGzg5Xl2jqVABjXwQ3mOpUBdYptveI6lQPGOqnR4jqVAKX91e3iOpUA3SPmfeI6lQNEuM9R4jqVA71hz+3iOpUDGiqf6eI6lQMqGJPp4jqVAA03q+XiOpUDQ+Un7eI6lQNKQLf14jqVAVhof/3iOpUDe40YAeY6lQFeH/v54jqVA1S/D/XiOpUBb3ZT8eI6lQLDcwvp4jqVAPYrw+HiOpUDEOF73eI6lQP0SQfV4jqVACVbo8HiOpUBU+JXseI6lQOf5Seh4jqVAty9x6niOpUAL9L3ueI6lQNSbFPN4jqVA",
          "dtype": "f8"
         }
        },
        {
         "line": {
          "color": "rgb(159, 0, 0)"
         },
         "mode": "lines",
         "name": "095",
         "opacity": 0.4,
         "type": "scatter",
         "x": [
          0,
          1000000000000,
          2000000000000,
          3000000000000,
          4000000000000,
          5000000000000,
          6000000000000,
          7000000000000,
          8000000000000,
          9000000000000,
          10000000000000,
          11000000000000,
          12000000000000,
          13000000000000,
          14000000000000,
          15000000000000,
          16000000000000,
          17000000000000,
          18000000000000,
          19000000000000,
          20000000000000,
          21000000000000,
          22000000000000,
          23000000000000,
          24000000000000,
          25000000000000,
          26000000000000,
          27000000000000,
          28000000000000,
          29000000000000,
          30000000000000,
          31000000000000,
          32000000000000,
          33000000000000,
          34000000000000,
          35000000000000
         ],
         "y": {
          "bdata": "7QZRSuQwo0DcDYrHdgOqQCi/klIAJKpAiKnDS20uqkD5R0tNSDGqQDtolxvrMapAJCXlURcyqkCSaCk4HTKqQIqoqw0eMqpAgEtghR0yqkB6B1+2HDKqQC6+vOsbMqpAD0b1mhsyqkCguPl6GzKqQPeHOlsbMqpA47CzRxsyqkBSqZVhGzKqQARD5nsbMqpA+32llhsyqkBSHVW1GzKqQNB6JdYbMqpAWoyz9xsyqkA44JwWHDKqQC2JTikcMqpAM79aPBwyqkBKgsFPHDKqQGdgVVgcMqpAXU9vXBwyqkCi4JNgHDKqQG03AmMcMqpAgqomXBwyqkCaL9hQHDKqQMyCLEEcMqpAa2opMRwyqkC3EMIgHDKqQGmfzg4cMqpA",
          "dtype": "f8"
         }
        },
        {
         "line": {
          "color": "rgb(152, 0, 0)"
         },
         "mode": "lines",
         "name": "096",
         "opacity": 0.4,
         "type": "scatter",
         "x": [
          0,
          1000000000000,
          2000000000000,
          3000000000000,
          4000000000000,
          5000000000000,
          6000000000000,
          7000000000000,
          8000000000000,
          9000000000000,
          10000000000000,
          11000000000000,
          12000000000000,
          13000000000000,
          14000000000000,
          15000000000000,
          16000000000000,
          17000000000000,
          18000000000000,
          19000000000000,
          20000000000000,
          21000000000000,
          22000000000000,
          23000000000000,
          24000000000000,
          25000000000000,
          26000000000000,
          27000000000000,
          28000000000000,
          29000000000000,
          30000000000000,
          31000000000000,
          32000000000000,
          33000000000000,
          34000000000000,
          35000000000000
         ],
         "y": {
          "bdata": "QoGnYyxPo0BOLbFgTn2oQMzAHs9KnKhAseHa9A+oqECklAUwWauoQLbfN2U2rKhAC2YGL22sqEDbpEExeqyoQLVFkxV8rKhANEIGB3ysqEC4CU1le6yoQKSclMN6rKhAWnctbnqsqECCR5hLeqyoQCYkAyl6rKhATDi9CXqsqEC3JikIeqyoQNgVlQZ6rKhAsgUBBXqsqEC4p6EEeqyoQLXaDwV6rKhAyw1+BXqsqEDYnt8FeqyoQD7TzwV6rKhA3wfABXqsqEC2PLAFeqyoQIymqgV6rKhAdNyrBXqsqECBEq0FeqyoQKuqqwV6rKhAssaSBXqsqEDI4nkFeqyoQO7+YAV6rKhA+EJYBXqsqEAqSVoFeqyoQFtPXAV6rKhA",
          "dtype": "f8"
         }
        },
        {
         "line": {
          "color": "rgb(146, 0, 0)"
         },
         "mode": "lines",
         "name": "097",
         "opacity": 0.4,
         "type": "scatter",
         "x": [
          0,
          1000000000000,
          2000000000000,
          3000000000000,
          4000000000000,
          5000000000000,
          6000000000000,
          7000000000000,
          8000000000000,
          9000000000000,
          10000000000000,
          11000000000000,
          12000000000000,
          13000000000000,
          14000000000000,
          15000000000000,
          16000000000000,
          17000000000000,
          18000000000000,
          19000000000000,
          20000000000000,
          21000000000000,
          22000000000000,
          23000000000000,
          24000000000000,
          25000000000000,
          26000000000000,
          27000000000000,
          28000000000000,
          29000000000000,
          30000000000000,
          31000000000000,
          32000000000000,
          33000000000000,
          34000000000000,
          35000000000000
         ],
         "y": {
          "bdata": "PGsAdPQso0CbjBPr9nylQGlbZXjQhKVA+/n+3caHpUAWZXRNUoqlQKppaP21hqVABpFsRFQDq0CK0dBqod+oQKTyo3PBTalAxEIvdYZUqUDorrMLQVapQEJud/qxVqlAPgvT28tWqUCy3Eo30VapQEI+lH3TVqlAYXrBTtNWqUCw4psi01apQGvjKPfSVqlAf7Oty9JWqUBoL12g0lapQGwfknfSVqlAF1XNU9JWqUAXSC4w0lapQG74tAzSVqlAl4qC5dFWqUD5btG90VapQIrGdpbRVqlA8u2rctFWqUC3eMdV0VapQOc3EDnRVqlAiyuGHNFWqUA7AL0P0VapQMAIRgbRVqlAXjTV/NBWqUA98V/30FapQLKkU/7QVqlA",
          "dtype": "f8"
         }
        },
        {
         "line": {
          "color": "rgb(140, 0, 0)"
         },
         "mode": "lines",
         "name": "098",
         "opacity": 0.4,
         "type": "scatter",
         "x": [
          0,
          1000000000000,
          2000000000000,
          3000000000000,
          4000000000000,
          5000000000000,
          6000000000000,
          7000000000000,
          8000000000000,
          9000000000000,
          10000000000000,
          11000000000000,
          12000000000000,
          13000000000000,
          14000000000000,
          15000000000000,
          16000000000000,
          17000000000000,
          18000000000000,
          19000000000000,
          20000000000000,
          21000000000000,
          22000000000000,
          23000000000000,
          24000000000000,
          25000000000000,
          26000000000000,
          27000000000000,
          28000000000000,
          29000000000000,
          30000000000000,
          31000000000000,
          32000000000000,
          33000000000000,
          34000000000000,
          35000000000000
         ],
         "y": {
          "bdata": "1dHO/Ew3o0DZzaZKSXulQAXCOe0ffqVAuyegod2BpUD0oVxDCIOlQOwP9SZ9g6VAgAel4aiDpUCeN7jJuYOlQFSWie29g6VAAynvPMCDpUCo2vCxwIOlQB9z3K3Ag6VAHKiR7cGDpUBQ42vqwYOlQNxjmtrBg6VAQQN88cGDpUB5SpjrwYOlQGx00urBg6VATXo/6cGDpUBFfWzpwYOlQGl/VeXBg6VAyMDz3MGDpUBPYKfxwYOlQFqEPO/Bg6VA2UC488GDpUASMITowYOlQDD1uBTCg6VAbbXF/sGDpUBF7rj3wYOlQGxAYeDBg6VAsmlf3sGDpUAK/UTfwYOlQHQnhO/Bg6VARQb74MGDpUCxHMrAwYOlQH25ubvBg6VA",
          "dtype": "f8"
         }
        },
        {
         "line": {
          "color": "rgb(134, 0, 0)"
         },
         "mode": "lines",
         "name": "099",
         "opacity": 0.4,
         "type": "scatter",
         "x": [
          0,
          1000000000000,
          2000000000000,
          3000000000000,
          4000000000000,
          5000000000000,
          6000000000000,
          7000000000000,
          8000000000000,
          9000000000000,
          10000000000000,
          11000000000000,
          12000000000000,
          13000000000000,
          14000000000000,
          15000000000000,
          16000000000000,
          17000000000000,
          18000000000000,
          19000000000000,
          20000000000000,
          21000000000000,
          22000000000000,
          23000000000000,
          24000000000000,
          25000000000000,
          26000000000000,
          27000000000000,
          28000000000000,
          29000000000000,
          30000000000000,
          31000000000000,
          32000000000000,
          33000000000000,
          34000000000000,
          35000000000000
         ],
         "y": {
          "bdata": "n4eGWBM9o0D0k5Bh3KKpQDfVWg4O0alAEFcGiErdqUAa7Sx/kOCpQD4V7Klm4alAjSx5QZzhqUDkr2czpuGpQJP0m66o4alAHMmNZ6jhqUAxYp8qqOGpQH5R1vqn4alAxJ9L2afhqUDTW5jOp+GpQM4D6sOn4alAvpdAuafhqUBiX2Gqp+GpQP0c/pqn4alAqXqzi6fhqUCWo1B6p+GpQNNtcmWn4alAEC/LUKfhqUBO51o8p+GpQNbomyin4alA56EdFafhqUBq/c0Bp+GpQJRrxPGm4alAO4D85qbhqUBFrUHcpuGpQLPyk9Gm4alAYycN0KbhqUBL1tXPpuGpQMy7ns+m4alAnxnT0abhqUCXf1/apuGpQMgAS+am4alA",
          "dtype": "f8"
         }
        }
       ],
       "layout": {
        "showlegend": false,
        "template": {
         "data": {
          "bar": [
           {
            "error_x": {
             "color": "#2a3f5f"
            },
            "error_y": {
             "color": "#2a3f5f"
            },
            "marker": {
             "line": {
              "color": "#E5ECF6",
              "width": 0.5
             },
             "pattern": {
              "fillmode": "overlay",
              "size": 10,
              "solidity": 0.2
             }
            },
            "type": "bar"
           }
          ],
          "barpolar": [
           {
            "marker": {
             "line": {
              "color": "#E5ECF6",
              "width": 0.5
             },
             "pattern": {
              "fillmode": "overlay",
              "size": 10,
              "solidity": 0.2
             }
            },
            "type": "barpolar"
           }
          ],
          "carpet": [
           {
            "aaxis": {
             "endlinecolor": "#2a3f5f",
             "gridcolor": "white",
             "linecolor": "white",
             "minorgridcolor": "white",
             "startlinecolor": "#2a3f5f"
            },
            "baxis": {
             "endlinecolor": "#2a3f5f",
             "gridcolor": "white",
             "linecolor": "white",
             "minorgridcolor": "white",
             "startlinecolor": "#2a3f5f"
            },
            "type": "carpet"
           }
          ],
          "choropleth": [
           {
            "colorbar": {
             "outlinewidth": 0,
             "ticks": ""
            },
            "type": "choropleth"
           }
          ],
          "contour": [
           {
            "colorbar": {
             "outlinewidth": 0,
             "ticks": ""
            },
            "colorscale": [
             [
              0,
              "#0d0887"
             ],
             [
              0.1111111111111111,
              "#46039f"
             ],
             [
              0.2222222222222222,
              "#7201a8"
             ],
             [
              0.3333333333333333,
              "#9c179e"
             ],
             [
              0.4444444444444444,
              "#bd3786"
             ],
             [
              0.5555555555555556,
              "#d8576b"
             ],
             [
              0.6666666666666666,
              "#ed7953"
             ],
             [
              0.7777777777777778,
              "#fb9f3a"
             ],
             [
              0.8888888888888888,
              "#fdca26"
             ],
             [
              1,
              "#f0f921"
             ]
            ],
            "type": "contour"
           }
          ],
          "contourcarpet": [
           {
            "colorbar": {
             "outlinewidth": 0,
             "ticks": ""
            },
            "type": "contourcarpet"
           }
          ],
          "heatmap": [
           {
            "colorbar": {
             "outlinewidth": 0,
             "ticks": ""
            },
            "colorscale": [
             [
              0,
              "#0d0887"
             ],
             [
              0.1111111111111111,
              "#46039f"
             ],
             [
              0.2222222222222222,
              "#7201a8"
             ],
             [
              0.3333333333333333,
              "#9c179e"
             ],
             [
              0.4444444444444444,
              "#bd3786"
             ],
             [
              0.5555555555555556,
              "#d8576b"
             ],
             [
              0.6666666666666666,
              "#ed7953"
             ],
             [
              0.7777777777777778,
              "#fb9f3a"
             ],
             [
              0.8888888888888888,
              "#fdca26"
             ],
             [
              1,
              "#f0f921"
             ]
            ],
            "type": "heatmap"
           }
          ],
          "histogram": [
           {
            "marker": {
             "pattern": {
              "fillmode": "overlay",
              "size": 10,
              "solidity": 0.2
             }
            },
            "type": "histogram"
           }
          ],
          "histogram2d": [
           {
            "colorbar": {
             "outlinewidth": 0,
             "ticks": ""
            },
            "colorscale": [
             [
              0,
              "#0d0887"
             ],
             [
              0.1111111111111111,
              "#46039f"
             ],
             [
              0.2222222222222222,
              "#7201a8"
             ],
             [
              0.3333333333333333,
              "#9c179e"
             ],
             [
              0.4444444444444444,
              "#bd3786"
             ],
             [
              0.5555555555555556,
              "#d8576b"
             ],
             [
              0.6666666666666666,
              "#ed7953"
             ],
             [
              0.7777777777777778,
              "#fb9f3a"
             ],
             [
              0.8888888888888888,
              "#fdca26"
             ],
             [
              1,
              "#f0f921"
             ]
            ],
            "type": "histogram2d"
           }
          ],
          "histogram2dcontour": [
           {
            "colorbar": {
             "outlinewidth": 0,
             "ticks": ""
            },
            "colorscale": [
             [
              0,
              "#0d0887"
             ],
             [
              0.1111111111111111,
              "#46039f"
             ],
             [
              0.2222222222222222,
              "#7201a8"
             ],
             [
              0.3333333333333333,
              "#9c179e"
             ],
             [
              0.4444444444444444,
              "#bd3786"
             ],
             [
              0.5555555555555556,
              "#d8576b"
             ],
             [
              0.6666666666666666,
              "#ed7953"
             ],
             [
              0.7777777777777778,
              "#fb9f3a"
             ],
             [
              0.8888888888888888,
              "#fdca26"
             ],
             [
              1,
              "#f0f921"
             ]
            ],
            "type": "histogram2dcontour"
           }
          ],
          "mesh3d": [
           {
            "colorbar": {
             "outlinewidth": 0,
             "ticks": ""
            },
            "type": "mesh3d"
           }
          ],
          "parcoords": [
           {
            "line": {
             "colorbar": {
              "outlinewidth": 0,
              "ticks": ""
             }
            },
            "type": "parcoords"
           }
          ],
          "pie": [
           {
            "automargin": true,
            "type": "pie"
           }
          ],
          "scatter": [
           {
            "fillpattern": {
             "fillmode": "overlay",
             "size": 10,
             "solidity": 0.2
            },
            "type": "scatter"
           }
          ],
          "scatter3d": [
           {
            "line": {
             "colorbar": {
              "outlinewidth": 0,
              "ticks": ""
             }
            },
            "marker": {
             "colorbar": {
              "outlinewidth": 0,
              "ticks": ""
             }
            },
            "type": "scatter3d"
           }
          ],
          "scattercarpet": [
           {
            "marker": {
             "colorbar": {
              "outlinewidth": 0,
              "ticks": ""
             }
            },
            "type": "scattercarpet"
           }
          ],
          "scattergeo": [
           {
            "marker": {
             "colorbar": {
              "outlinewidth": 0,
              "ticks": ""
             }
            },
            "type": "scattergeo"
           }
          ],
          "scattergl": [
           {
            "marker": {
             "colorbar": {
              "outlinewidth": 0,
              "ticks": ""
             }
            },
            "type": "scattergl"
           }
          ],
          "scattermap": [
           {
            "marker": {
             "colorbar": {
              "outlinewidth": 0,
              "ticks": ""
             }
            },
            "type": "scattermap"
           }
          ],
          "scattermapbox": [
           {
            "marker": {
             "colorbar": {
              "outlinewidth": 0,
              "ticks": ""
             }
            },
            "type": "scattermapbox"
           }
          ],
          "scatterpolar": [
           {
            "marker": {
             "colorbar": {
              "outlinewidth": 0,
              "ticks": ""
             }
            },
            "type": "scatterpolar"
           }
          ],
          "scatterpolargl": [
           {
            "marker": {
             "colorbar": {
              "outlinewidth": 0,
              "ticks": ""
             }
            },
            "type": "scatterpolargl"
           }
          ],
          "scatterternary": [
           {
            "marker": {
             "colorbar": {
              "outlinewidth": 0,
              "ticks": ""
             }
            },
            "type": "scatterternary"
           }
          ],
          "surface": [
           {
            "colorbar": {
             "outlinewidth": 0,
             "ticks": ""
            },
            "colorscale": [
             [
              0,
              "#0d0887"
             ],
             [
              0.1111111111111111,
              "#46039f"
             ],
             [
              0.2222222222222222,
              "#7201a8"
             ],
             [
              0.3333333333333333,
              "#9c179e"
             ],
             [
              0.4444444444444444,
              "#bd3786"
             ],
             [
              0.5555555555555556,
              "#d8576b"
             ],
             [
              0.6666666666666666,
              "#ed7953"
             ],
             [
              0.7777777777777778,
              "#fb9f3a"
             ],
             [
              0.8888888888888888,
              "#fdca26"
             ],
             [
              1,
              "#f0f921"
             ]
            ],
            "type": "surface"
           }
          ],
          "table": [
           {
            "cells": {
             "fill": {
              "color": "#EBF0F8"
             },
             "line": {
              "color": "white"
             }
            },
            "header": {
             "fill": {
              "color": "#C8D4E3"
             },
             "line": {
              "color": "white"
             }
            },
            "type": "table"
           }
          ]
         },
         "layout": {
          "annotationdefaults": {
           "arrowcolor": "#2a3f5f",
           "arrowhead": 0,
           "arrowwidth": 1
          },
          "autotypenumbers": "strict",
          "coloraxis": {
           "colorbar": {
            "outlinewidth": 0,
            "ticks": ""
           }
          },
          "colorscale": {
           "diverging": [
            [
             0,
             "#8e0152"
            ],
            [
             0.1,
             "#c51b7d"
            ],
            [
             0.2,
             "#de77ae"
            ],
            [
             0.3,
             "#f1b6da"
            ],
            [
             0.4,
             "#fde0ef"
            ],
            [
             0.5,
             "#f7f7f7"
            ],
            [
             0.6,
             "#e6f5d0"
            ],
            [
             0.7,
             "#b8e186"
            ],
            [
             0.8,
             "#7fbc41"
            ],
            [
             0.9,
             "#4d9221"
            ],
            [
             1,
             "#276419"
            ]
           ],
           "sequential": [
            [
             0,
             "#0d0887"
            ],
            [
             0.1111111111111111,
             "#46039f"
            ],
            [
             0.2222222222222222,
             "#7201a8"
            ],
            [
             0.3333333333333333,
             "#9c179e"
            ],
            [
             0.4444444444444444,
             "#bd3786"
            ],
            [
             0.5555555555555556,
             "#d8576b"
            ],
            [
             0.6666666666666666,
             "#ed7953"
            ],
            [
             0.7777777777777778,
             "#fb9f3a"
            ],
            [
             0.8888888888888888,
             "#fdca26"
            ],
            [
             1,
             "#f0f921"
            ]
           ],
           "sequentialminus": [
            [
             0,
             "#0d0887"
            ],
            [
             0.1111111111111111,
             "#46039f"
            ],
            [
             0.2222222222222222,
             "#7201a8"
            ],
            [
             0.3333333333333333,
             "#9c179e"
            ],
            [
             0.4444444444444444,
             "#bd3786"
            ],
            [
             0.5555555555555556,
             "#d8576b"
            ],
            [
             0.6666666666666666,
             "#ed7953"
            ],
            [
             0.7777777777777778,
             "#fb9f3a"
            ],
            [
             0.8888888888888888,
             "#fdca26"
            ],
            [
             1,
             "#f0f921"
            ]
           ]
          },
          "colorway": [
           "#636efa",
           "#EF553B",
           "#00cc96",
           "#ab63fa",
           "#FFA15A",
           "#19d3f3",
           "#FF6692",
           "#B6E880",
           "#FF97FF",
           "#FECB52"
          ],
          "font": {
           "color": "#2a3f5f"
          },
          "geo": {
           "bgcolor": "white",
           "lakecolor": "white",
           "landcolor": "#E5ECF6",
           "showlakes": true,
           "showland": true,
           "subunitcolor": "white"
          },
          "hoverlabel": {
           "align": "left"
          },
          "hovermode": "closest",
          "mapbox": {
           "style": "light"
          },
          "paper_bgcolor": "white",
          "plot_bgcolor": "#E5ECF6",
          "polar": {
           "angularaxis": {
            "gridcolor": "white",
            "linecolor": "white",
            "ticks": ""
           },
           "bgcolor": "#E5ECF6",
           "radialaxis": {
            "gridcolor": "white",
            "linecolor": "white",
            "ticks": ""
           }
          },
          "scene": {
           "xaxis": {
            "backgroundcolor": "#E5ECF6",
            "gridcolor": "white",
            "gridwidth": 2,
            "linecolor": "white",
            "showbackground": true,
            "ticks": "",
            "zerolinecolor": "white"
           },
           "yaxis": {
            "backgroundcolor": "#E5ECF6",
            "gridcolor": "white",
            "gridwidth": 2,
            "linecolor": "white",
            "showbackground": true,
            "ticks": "",
            "zerolinecolor": "white"
           },
           "zaxis": {
            "backgroundcolor": "#E5ECF6",
            "gridcolor": "white",
            "gridwidth": 2,
            "linecolor": "white",
            "showbackground": true,
            "ticks": "",
            "zerolinecolor": "white"
           }
          },
          "shapedefaults": {
           "line": {
            "color": "#2a3f5f"
           }
          },
          "ternary": {
           "aaxis": {
            "gridcolor": "white",
            "linecolor": "white",
            "ticks": ""
           },
           "baxis": {
            "gridcolor": "white",
            "linecolor": "white",
            "ticks": ""
           },
           "bgcolor": "#E5ECF6",
           "caxis": {
            "gridcolor": "white",
            "linecolor": "white",
            "ticks": ""
           }
          },
          "title": {
           "x": 0.05
          },
          "xaxis": {
           "automargin": true,
           "gridcolor": "white",
           "linecolor": "white",
           "ticks": "",
           "title": {
            "standoff": 15
           },
           "zerolinecolor": "white",
           "zerolinewidth": 2
          },
          "yaxis": {
           "automargin": true,
           "gridcolor": "white",
           "linecolor": "white",
           "ticks": "",
           "title": {
            "standoff": 15
           },
           "zerolinecolor": "white",
           "zerolinewidth": 2
          }
         }
        },
        "title": {
         "text": "Entropy generation - Training Snapshots - Parameter Space 03"
        },
        "xaxis": {
         "tickformat": ".2e",
         "title": {
          "text": "Time [s]"
         }
        },
        "yaxis": {
         "tickformat": ".2f",
         "title": {
          "text": "Entropy [W/K]"
         }
        }
       }
      }
     },
     "metadata": {},
     "output_type": "display_data"
    }
   ],
   "source": [
    "comsol_data_ref  = COMSOL_VTU( ROOT / \"data\" / PARAMETER_SPACE / \"Training_Original\" / f\"{DATA_TYPE}_000.vtu\")\n",
    "fig = go.Figure()\n",
    "\n",
    "for idx_snap, entropies in enumerate(entropy_gen_unit):\n",
    "    fig.add_trace(go.Scatter(x=list(comsol_data_ref.times.values()),\n",
    "                             y=entropies,\n",
    "                                mode='lines',\n",
    "                                name=f\"{idx_snap:03d}\",\n",
    "                                opacity=0.4,\n",
    "                            line=dict(color=colors[idx_snap])\n",
    "                ))\n",
    "    \n",
    "fig.update_layout(\n",
    "    xaxis_tickformat='.2e',  # Format x-axis numbers to 2 decimal places\n",
    "    yaxis_tickformat='.2f',  # Format y-axis numbers to 2 decimal places\n",
    "    showlegend=False,        # Hide the legend\n",
    "    title=f\"Entropy generation - {DATA_TYPE} Snapshots - Parameter Space {PARAMETER_SPACE}\",       # Optional: add a title\n",
    "    xaxis_title=\"Time [s]\",    # Optional: label for x-axis\n",
    "    yaxis_title=\"Entropy [W/K]\"     # Optional: label for y-axis\n",
    ")\n",
    "\n",
    "fig.write_image(export_folder / f\"{DATA_TYPE}_EntropyGeneration.png\")\n",
    "fig.show()"
   ]
  },
  {
   "cell_type": "markdown",
   "metadata": {},
   "source": [
    "### Plot entropy generation number"
   ]
  },
  {
   "cell_type": "code",
   "execution_count": 34,
   "metadata": {},
   "outputs": [
    {
     "data": {
      "application/vnd.plotly.v1+json": {
       "config": {
        "plotlyServerURL": "https://plot.ly"
       },
       "data": [
        {
         "line": {
          "color": "rgb(0, 0, 131)"
         },
         "mode": "lines",
         "name": "000",
         "opacity": 0.4,
         "type": "scatter",
         "x": [
          0,
          1000000000000,
          2000000000000,
          3000000000000,
          4000000000000,
          5000000000000,
          6000000000000,
          7000000000000,
          8000000000000,
          9000000000000,
          10000000000000,
          11000000000000,
          12000000000000,
          13000000000000,
          14000000000000,
          15000000000000,
          16000000000000,
          17000000000000,
          18000000000000,
          19000000000000,
          20000000000000,
          21000000000000,
          22000000000000,
          23000000000000,
          24000000000000,
          25000000000000,
          26000000000000,
          27000000000000,
          28000000000000,
          29000000000000,
          30000000000000,
          31000000000000,
          32000000000000,
          33000000000000,
          34000000000000,
          35000000000000
         ],
         "y": {
          "bdata": "VWYWIhBl7j9KjrJkI2fyP2RPsbStefI/bnBdEYCD8j8kCgDTvYbyPxfMZ0Szh/I/lVEHtPyH8j8OZYAID4jyP0Nn5BIUiPI/5ZYlKhSI8j+jVmgdFIjyP1aICxYUiPI/C4IcGBSI8j/+ey0aFIjyPy92PhwUiPI/KggsHBSI8j8P0cIbFIjyPxWaWRsUiPI/V1gIGxSI8j8QGuEaFIjyP/DbuRoUiPI/852SGhSI8j+UJEMaFIjyP2xK7RkUiPI/V3CXGRSI8j+Az2EZFIjyP8CwZBkUiPI/B5JnGRSI8j9ac2oZFIjyP1SmgRkUiPI/+xGcGRSI8j+mfbYZFIjyP60G0hkUiPI/G4TvGRSI8j+KAQ0aFIjyP/5+KhoUiPI/",
          "dtype": "f8"
         }
        },
        {
         "line": {
          "color": "rgb(0, 3, 133)"
         },
         "mode": "lines",
         "name": "001",
         "opacity": 0.4,
         "type": "scatter",
         "x": [
          0,
          1000000000000,
          2000000000000,
          3000000000000,
          4000000000000,
          5000000000000,
          6000000000000,
          7000000000000,
          8000000000000,
          9000000000000,
          10000000000000,
          11000000000000,
          12000000000000,
          13000000000000,
          14000000000000,
          15000000000000,
          16000000000000,
          17000000000000,
          18000000000000,
          19000000000000,
          20000000000000,
          21000000000000,
          22000000000000,
          23000000000000,
          24000000000000,
          25000000000000,
          26000000000000,
          27000000000000,
          28000000000000,
          29000000000000,
          30000000000000,
          31000000000000,
          32000000000000,
          33000000000000,
          34000000000000,
          35000000000000
         ],
         "y": {
          "bdata": "AT8tjn1U7j+HgWWoSzvyPzouWfTNTPI/GnSbSrZV8j9sU/3xkljyPygr55RvWfI/tHqF0rBZ8j+p182PwVnyP5lGpMvFWfI/kD0178VZ8j+XfNLrxVnyP7zIMOvFWfI/7CuL7MVZ8j/vl+XtxVnyP4IAJ+/FWfI/UL1M78VZ8j/CenLvxVnyP9k4mO/FWfI/SGWG78VZ8j91iEzvxVnyP46xEu/FWfI/pTXZ7sVZ8j8WgqPuxVnyPxHTbe7FWfI/lig47sVZ8j+A9iHuxVnyP8FxIu7FWfI/7u0i7sVZ8j9qniXuxVnyPw08Qe7FWfI/tNlc7sVZ8j9ed3juxVnyP65Ple7FWfI/Lt2z7sVZ8j+iddPuxVnyP8hD8+7FWfI/",
          "dtype": "f8"
         }
        },
        {
         "line": {
          "color": "rgb(0, 6, 135)"
         },
         "mode": "lines",
         "name": "002",
         "opacity": 0.4,
         "type": "scatter",
         "x": [
          0,
          1000000000000,
          2000000000000,
          3000000000000,
          4000000000000,
          5000000000000,
          6000000000000,
          7000000000000,
          8000000000000,
          9000000000000,
          10000000000000,
          11000000000000,
          12000000000000,
          13000000000000,
          14000000000000,
          15000000000000,
          16000000000000,
          17000000000000,
          18000000000000,
          19000000000000,
          20000000000000,
          21000000000000,
          22000000000000,
          23000000000000,
          24000000000000,
          25000000000000,
          26000000000000,
          27000000000000,
          28000000000000,
          29000000000000,
          30000000000000,
          31000000000000,
          32000000000000,
          33000000000000,
          34000000000000,
          35000000000000
         ],
         "y": {
          "bdata": "TlV2lneD7j8QwzhU7qbzPwyqRGjxwfM/ngVFpdHK8z/iXdASMc3zP037zuvNzfM/P/RjxPLN8z/kxSGC+83zPwwWWvX9zfM/15C8aP3N8z81iBKv/M3zP4WxafX7zfM/CPjrtfvN8z9xzPON+83zP0ms+2X7zfM/zqnGSvvN8z/A2oBI+83zP0kNO0b7zfM/ZEH1Q/vN8z+hAvFD+83zP3X3W0T7zfM/wezGRPvN8z+/uRBF+83zP7W9GUX7zfM/zMEiRfvN8z8BxitF+83zP8wJLkX7zfM/zgAvRfvN8z/Q9y9F+83zPzi2J0X7zfM/fHANRfvN8z/JKvNE+83zPx/l2ET7zfM/RGDNRPvN8z+jssRE+83zPxAFvET7zfM/",
          "dtype": "f8"
         }
        },
        {
         "line": {
          "color": "rgb(0, 9, 137)"
         },
         "mode": "lines",
         "name": "003",
         "opacity": 0.4,
         "type": "scatter",
         "x": [
          0,
          1000000000000,
          2000000000000,
          3000000000000,
          4000000000000,
          5000000000000,
          6000000000000,
          7000000000000,
          8000000000000,
          9000000000000,
          10000000000000,
          11000000000000,
          12000000000000,
          13000000000000,
          14000000000000,
          15000000000000,
          16000000000000,
          17000000000000,
          18000000000000,
          19000000000000,
          20000000000000,
          21000000000000,
          22000000000000,
          23000000000000,
          24000000000000,
          25000000000000,
          26000000000000,
          27000000000000,
          28000000000000,
          29000000000000,
          30000000000000,
          31000000000000,
          32000000000000,
          33000000000000,
          34000000000000,
          35000000000000
         ],
         "y": {
          "bdata": "+ZukQKYW7j8UuYoYuIfzP9AHBwrAyfM/Xv/9rSnX8z9USxUp1tvzP9hNelVB3fM/xFr8p7Ld8z98FIz0zt3zPyAWO3bX3fM/WppKqtjd8z8ysnFG2d3zPy4zvp/Z3fM/rTYm5tnd8z/pWev92d3zP0R1vRXa3fM/vIicLdrd8z995jEl2t3zPwPiKhja3fM/3UUtC9rd8z9Bclf52d3zP0QIcd/Z3fM/7n+pxdnd8z9E2QCs2d3zP3x5aZPZ3fM/lC8Qe9nd8z9B5dFi2d3zP7+UhU/Z3fM/OX9dRNnd8z/XcDw52d3zP6NpIi7Z3fM/aPWfK9nd8z+1NVkq2d3zP36QEinZ3fM/vki8Kdnd8z9hL3sv2d3zP5D26jfZ3fM/",
          "dtype": "f8"
         }
        },
        {
         "line": {
          "color": "rgb(0, 12, 139)"
         },
         "mode": "lines",
         "name": "004",
         "opacity": 0.4,
         "type": "scatter",
         "x": [
          0,
          1000000000000,
          2000000000000,
          3000000000000,
          4000000000000,
          5000000000000,
          6000000000000,
          7000000000000,
          8000000000000,
          9000000000000,
          10000000000000,
          11000000000000,
          12000000000000,
          13000000000000,
          14000000000000,
          15000000000000,
          16000000000000,
          17000000000000,
          18000000000000,
          19000000000000,
          20000000000000,
          21000000000000,
          22000000000000,
          23000000000000,
          24000000000000,
          25000000000000,
          26000000000000,
          27000000000000,
          28000000000000,
          29000000000000,
          30000000000000,
          31000000000000,
          32000000000000,
          33000000000000,
          34000000000000,
          35000000000000
         ],
         "y": {
          "bdata": "uDWDojdT7j+HBOjiKATyP43RwRrwE/I/WCXr63cb8j+kZMwn8B3yPwwfn8OnHvI/sfpuH94e8j8sIYgJ7B7yP38sj3HvHvI/rCccBvAe8j/FyOO47x7yP99NvHPvHvI/JnQLVu8e8j87K1s47x7yPyBzqxrvHvI/TX5pDu8e8j80oMAK7x7yP73JFwfvHvI/kL5KBO8e8j/Kf7EF7x7yP6xFGAfvHvI/NhB/CO8e8j/KTo0J7x7yP/bebwrvHvI/MHJSC+8e8j9ZIxQM7x7yP/zRNAzvHvI/PoVVDO8e8j8hPXYM7x7yP5DQbwzvHvI/bBVWDO8e8j9qXTwM7x7yP3zRMAzvHvI/FZlqDO8e8j9+Y6QM7x7yP7kw3gzvHvI/",
          "dtype": "f8"
         }
        },
        {
         "line": {
          "color": "rgb(0, 15, 141)"
         },
         "mode": "lines",
         "name": "005",
         "opacity": 0.4,
         "type": "scatter",
         "x": [
          0,
          1000000000000,
          2000000000000,
          3000000000000,
          4000000000000,
          5000000000000,
          6000000000000,
          7000000000000,
          8000000000000,
          9000000000000,
          10000000000000,
          11000000000000,
          12000000000000,
          13000000000000,
          14000000000000,
          15000000000000,
          16000000000000,
          17000000000000,
          18000000000000,
          19000000000000,
          20000000000000,
          21000000000000,
          22000000000000,
          23000000000000,
          24000000000000,
          25000000000000,
          26000000000000,
          27000000000000,
          28000000000000,
          29000000000000,
          30000000000000,
          31000000000000,
          32000000000000,
          33000000000000,
          34000000000000,
          35000000000000
         ],
         "y": {
          "bdata": "KhXNNONr7j/4sVr4DiPxPwa6DjMtJvE/eNRc1W0p8T/KvNeptSrxPxLyhbAiK/E/A88fI0Yr8T8rYuALUivxP68VwWhUK/E/OyzsNFUr8T8VbKwgWCvxP4ZrFLZaK/E/ULDNr1Qr8T9XbXZXVSvxP5WYn15UK/E/XdJHmFQr8T+lF28pVivxP02/HapXK/E/Vt0xp1cr8T+JYDK+VSvxP0aTg0VUK/E/wYA79lQr8T8AJfUpVSvxP9gs74VUK/E/RfqPclQr8T84B82+VCvxP7+kxPlUK/E/57+y+FQr8T/Ak8AkVSvxPwLzsTNVK/E/EPa+GVUr8T9p9RP3VCvxPzevyLRUK/E/fVpRXVQr8T/WVA4GVCvxPzzSyHlUK/E/",
          "dtype": "f8"
         }
        },
        {
         "line": {
          "color": "rgb(0, 18, 143)"
         },
         "mode": "lines",
         "name": "006",
         "opacity": 0.4,
         "type": "scatter",
         "x": [
          0,
          1000000000000,
          2000000000000,
          3000000000000,
          4000000000000,
          5000000000000,
          6000000000000,
          7000000000000,
          8000000000000,
          9000000000000,
          10000000000000,
          11000000000000,
          12000000000000,
          13000000000000,
          14000000000000,
          15000000000000,
          16000000000000,
          17000000000000,
          18000000000000,
          19000000000000,
          20000000000000,
          21000000000000,
          22000000000000,
          23000000000000,
          24000000000000,
          25000000000000,
          26000000000000,
          27000000000000,
          28000000000000,
          29000000000000,
          30000000000000,
          31000000000000,
          32000000000000,
          33000000000000,
          34000000000000,
          35000000000000
         ],
         "y": {
          "bdata": "3NLtACBp7j9FFr4lc5/1P+/gvvR4rfU/Ss6uLvaz9T+usl42/7X1P0NJhs6btvU/jK3v37u29T/C9Wbnyrb1P0+bsvnPtvU/mZi4yM229T9u3o6Ry7b1P1TvzBLMtvU/JPgp18y29T+v2Veczbb1P4eub3bOtvU/fMztZ8+29T8BxIcz0Lb1P6OWvLPQtvU/H/zrQ9G29T9w9BXk0bb1P+AZtz3StvU/3R1JlNK29T91xWHx0rb1Py2h1EbTtvU/5jqVfNO29T+lPPKf07b1PzQxg7DTtvU/TfbHldO29T9cCFZc07b1Py1aMgrTtvU/AZyFndK29T9KkhoQ0rb1P/6fuW3RtvU/+O96u9C29T/cb04T0Lb1P9Npi2nPtvU/",
          "dtype": "f8"
         }
        },
        {
         "line": {
          "color": "rgb(0, 21, 145)"
         },
         "mode": "lines",
         "name": "007",
         "opacity": 0.4,
         "type": "scatter",
         "x": [
          0,
          1000000000000,
          2000000000000,
          3000000000000,
          4000000000000,
          5000000000000,
          6000000000000,
          7000000000000,
          8000000000000,
          9000000000000,
          10000000000000,
          11000000000000,
          12000000000000,
          13000000000000,
          14000000000000,
          15000000000000,
          16000000000000,
          17000000000000,
          18000000000000,
          19000000000000,
          20000000000000,
          21000000000000,
          22000000000000,
          23000000000000,
          24000000000000,
          25000000000000,
          26000000000000,
          27000000000000,
          28000000000000,
          29000000000000,
          30000000000000,
          31000000000000,
          32000000000000,
          33000000000000,
          34000000000000,
          35000000000000
         ],
         "y": {
          "bdata": "3sEbkPpx7j9EepNIorHzP44vzADSy/M/a9QralHU8z9s8B6zn9bzP2uX05Yv1/M/djIME1XX8z/kVyLdW9fzP5EjU8hc1/M/VAKmbFzX8z8GXKUEXNfzP6q6dcJb1/M/Bopiq1vX8z/pX0+UW9fzP1A8PH1b1/M/YW6lflvX8z+rb+OAW9fzP0XtIYNb1/M/8fIahlvX8z/ZoeiJW9fzPxvato1b1/M/tJuFkVvX8z83HJeRW9fzP5phiJFb1/M/Jdx5kVvX8z9vPgSSW9fzP/jbPJNb1/M/oI91lFvX8z9lWa6VW9fzP9wrgJRb1/M/2DE9k1vX8z+oQPqRW9fzP/3oWJFb1/M/QtRvkVvX8z9pyYaRW9fzP2nInZFb1/M/",
          "dtype": "f8"
         }
        },
        {
         "line": {
          "color": "rgb(0, 24, 147)"
         },
         "mode": "lines",
         "name": "008",
         "opacity": 0.4,
         "type": "scatter",
         "x": [
          0,
          1000000000000,
          2000000000000,
          3000000000000,
          4000000000000,
          5000000000000,
          6000000000000,
          7000000000000,
          8000000000000,
          9000000000000,
          10000000000000,
          11000000000000,
          12000000000000,
          13000000000000,
          14000000000000,
          15000000000000,
          16000000000000,
          17000000000000,
          18000000000000,
          19000000000000,
          20000000000000,
          21000000000000,
          22000000000000,
          23000000000000,
          24000000000000,
          25000000000000,
          26000000000000,
          27000000000000,
          28000000000000,
          29000000000000,
          30000000000000,
          31000000000000,
          32000000000000,
          33000000000000,
          34000000000000,
          35000000000000
         ],
         "y": {
          "bdata": "ZFXr8N8v7j9sy/HLgybyP+BwzNf8M/I/RikPIMw98j9lgRJZIEHyP8WoLEEpQvI/kaFBTHRC8j/FSSJYi0LyP+cM6EqQQvI/CHzwLJFC8j/9BZE2kULyPzX/h/2QQvI/3CR/xJBC8j9yHEGtkELyP+DjQqCQQvI/I61Ek5BC8j8COoCJkELyP0aBk4iQQvI/lMimh5BC8j/uD7qGkELyP4Fhl4aQQvI/rvqxhpBC8j/ck8yGkELyP75y3oaQQvI/hWTYhpBC8j9PVtKGkELyPxRIzIaQQvI/86nOhpBC8j/6mtOGkELyPwOM2IaQQvI/G7XahpBC8j9/PtWGkELyP+PHz4aQQvI/SFHKhpBC8j9OrMuGkELyP8cYz4aQQvI/",
          "dtype": "f8"
         }
        },
        {
         "line": {
          "color": "rgb(0, 27, 149)"
         },
         "mode": "lines",
         "name": "009",
         "opacity": 0.4,
         "type": "scatter",
         "x": [
          0,
          1000000000000,
          2000000000000,
          3000000000000,
          4000000000000,
          5000000000000,
          6000000000000,
          7000000000000,
          8000000000000,
          9000000000000,
          10000000000000,
          11000000000000,
          12000000000000,
          13000000000000,
          14000000000000,
          15000000000000,
          16000000000000,
          17000000000000,
          18000000000000,
          19000000000000,
          20000000000000,
          21000000000000,
          22000000000000,
          23000000000000,
          24000000000000,
          25000000000000,
          26000000000000,
          27000000000000,
          28000000000000,
          29000000000000,
          30000000000000,
          31000000000000,
          32000000000000,
          33000000000000,
          34000000000000,
          35000000000000
         ],
         "y": {
          "bdata": "ojmyF+N57j+LTbqx/3D0Pz8wDDq9iPQ/KO0R1RGR9D+szE9TTpP0P4PUKBDbk/Q/F1pc8ACU9D+e3GJ1B5T0PxtQGIEIlPQ/KNjpfwiU9D9Tt9lKCJT0P70OfigIlPQ/wgX4GwiU9D85l68PCJT0PyLDpAMIlPQ/84coAgiU9D+PL1gBCJT0P3d6kAAIlPQ/bTio/QeU9D+EMi74B5T0P2L35/IHlPQ/BofV7QeU9D9U5zrlB5T0P9HHldwHlPQ/5JUg1AeU9D9k1LrNB5T0P98rx8kHlPQ/SsLexQeU9D+glwHCB5T0P2SqpsAHlPQ/C7pyvweU9D840D6+B5T0P5N0+L0HlPQ/C2ilvweU9D/Ri2zCB5T0P9M5VsYHlPQ/",
          "dtype": "f8"
         }
        },
        {
         "line": {
          "color": "rgb(0, 30, 150)"
         },
         "mode": "lines",
         "name": "010",
         "opacity": 0.4,
         "type": "scatter",
         "x": [
          0,
          1000000000000,
          2000000000000,
          3000000000000,
          4000000000000,
          5000000000000,
          6000000000000,
          7000000000000,
          8000000000000,
          9000000000000,
          10000000000000,
          11000000000000,
          12000000000000,
          13000000000000,
          14000000000000,
          15000000000000,
          16000000000000,
          17000000000000,
          18000000000000,
          19000000000000,
          20000000000000,
          21000000000000,
          22000000000000,
          23000000000000,
          24000000000000,
          25000000000000,
          26000000000000,
          27000000000000,
          28000000000000,
          29000000000000,
          30000000000000,
          31000000000000,
          32000000000000,
          33000000000000,
          34000000000000,
          35000000000000
         ],
         "y": {
          "bdata": "WGuBEW2F7j8M+ETG7abzP75REjPXwPM/Y0/MuLzJ8z+eprg7LczzP2mLkljJzPM/y+MjVvHM8z987hZo+MzzPz70keT5zPM/qh8MYfnM8z+frFrd+MzzP24EtK/4zPM/BzCTkPjM8z83bnJx+MzzP5ULl134zPM/Ci4pXvjM8z/92rte+MzzP3QST1/4zPM/PzyOYfjM8z/6PxZk+MzzPzP7nmb4zPM/lzZgaPjM8z84HLdo+MzzP3ZwDmn4zPM/VTNmafjM8z9Suxlq+MzzPyrL3Gr4zPM/cfGfa/jM8z+9sw9s+MzzP7cz6Gv4zPM/37TAa/jM8z82N5lr+MzzP91sW2v4zPM/NPEZa/jM8z9yidhq+MzzP/2Ywmr4zPM/",
          "dtype": "f8"
         }
        },
        {
         "line": {
          "color": "rgb(0, 33, 152)"
         },
         "mode": "lines",
         "name": "011",
         "opacity": 0.4,
         "type": "scatter",
         "x": [
          0,
          1000000000000,
          2000000000000,
          3000000000000,
          4000000000000,
          5000000000000,
          6000000000000,
          7000000000000,
          8000000000000,
          9000000000000,
          10000000000000,
          11000000000000,
          12000000000000,
          13000000000000,
          14000000000000,
          15000000000000,
          16000000000000,
          17000000000000,
          18000000000000,
          19000000000000,
          20000000000000,
          21000000000000,
          22000000000000,
          23000000000000,
          24000000000000,
          25000000000000,
          26000000000000,
          27000000000000,
          28000000000000,
          29000000000000,
          30000000000000,
          31000000000000,
          32000000000000,
          33000000000000,
          34000000000000,
          35000000000000
         ],
         "y": {
          "bdata": "FyfR6TBU7j9IYUNH8vHwP7cTf4eH8PA/G+CVtBHy8D9GgXSF+vLwP01/RCdQ8/A/F6Ff5Vrz8D8KXDZjZvPwP5HLYL5p8/A/o4Jrv2rz8D/5VcyravPwP2n6wE5r8/A//LrUdWvz8D9qva/Ba/PwP9N8Yd9r8/A/ILY33mvz8D8c+9iQa/PwPzTtpW1r8/A/xSQZdmvz8D9awLika/PwPxxQpJJr8/A/B0sLcGvz8D/LQT5ba/PwP5jts4pr8/A/u7Ytj2vz8D9kDUJpa/PwP0Db6klr8/A/XdCxa2vz8D8XlaCJa/PwP/96OWZr8/A/g4g/M2vz8D/fjaOca/PwP//ktR1s8/A/r888vWrz8D+g5Ryca/PwP5Jci5Fr8/A/",
          "dtype": "f8"
         }
        },
        {
         "line": {
          "color": "rgb(0, 36, 154)"
         },
         "mode": "lines",
         "name": "012",
         "opacity": 0.4,
         "type": "scatter",
         "x": [
          0,
          1000000000000,
          2000000000000,
          3000000000000,
          4000000000000,
          5000000000000,
          6000000000000,
          7000000000000,
          8000000000000,
          9000000000000,
          10000000000000,
          11000000000000,
          12000000000000,
          13000000000000,
          14000000000000,
          15000000000000,
          16000000000000,
          17000000000000,
          18000000000000,
          19000000000000,
          20000000000000,
          21000000000000,
          22000000000000,
          23000000000000,
          24000000000000,
          25000000000000,
          26000000000000,
          27000000000000,
          28000000000000,
          29000000000000,
          30000000000000,
          31000000000000,
          32000000000000,
          33000000000000,
          34000000000000,
          35000000000000
         ],
         "y": {
          "bdata": "lKsvLHgL7j/jZG7dAa/xP0OoT9byW/E/0LFIuAxi8T9Zk9mfCGXxPxlXm9woZvE/Jux8Io9m8T/nVqvisGbxPwRR6sC6ZvE/6iDnEb5m8T+crNhZvmbxP31Xbma+ZvE/AGbXcL5m8T8myPV0vmbxPycuFHm+ZvE/BJgyfb5m8T8rUJZ/vmbxPyboa4G+ZvE/GINBg75m8T/tE7iEvmbxP4HNG4W+ZvE/sod/hb5m8T97QuOFvmbxP6/dGIa+ZvE/4qk/hr5m8T82dmaGvmbxP7oyeIa+ZvE/RwhNhr5m8T/33SGGvmbxP9Cz9oW+ZvE/gcbVhb5m8T+3IriFvmbxPwV/moW+ZvE/vo2Fhb5m8T8OwomFvmbxP1/2jYW+ZvE/",
          "dtype": "f8"
         }
        },
        {
         "line": {
          "color": "rgb(0, 39, 156)"
         },
         "mode": "lines",
         "name": "013",
         "opacity": 0.4,
         "type": "scatter",
         "x": [
          0,
          1000000000000,
          2000000000000,
          3000000000000,
          4000000000000,
          5000000000000,
          6000000000000,
          7000000000000,
          8000000000000,
          9000000000000,
          10000000000000,
          11000000000000,
          12000000000000,
          13000000000000,
          14000000000000,
          15000000000000,
          16000000000000,
          17000000000000,
          18000000000000,
          19000000000000,
          20000000000000,
          21000000000000,
          22000000000000,
          23000000000000,
          24000000000000,
          25000000000000,
          26000000000000,
          27000000000000,
          28000000000000,
          29000000000000,
          30000000000000,
          31000000000000,
          32000000000000,
          33000000000000,
          34000000000000,
          35000000000000
         ],
         "y": {
          "bdata": "Bntmr8Ng7j/2ZGjc0tv1Px+L/mhy2/U/T9YRfwDb9T9GPEmBH9n1P7tpgKeL1vU/L+XvJGj29T8bunQJgff1P3jupEPt9/U/Dy/UWQz49T8H1f1v9ff1P+ZGkqzy9/U/oslP1gD49T+QIMyi/vf1P+GzPV//9/U//WwJyfT39T+zHyiR8/f1P93AKFnw9/U/kOfcTuz39T/XKjKj6ff1P1Hb2mHo9/U/t7yfQ+j39T8tHmRB6Pf1P8MHDZno9/U/93u9t+n39T9HaNML6/f1P3g83mzs9/U/LyAOROz39T+vsG9R7Pf1P/PtApXs9/U/ZaxPc+z39T9pTzEL7Pf1P2ldacjr9/U/FZIgpev39T+oGGFc6/f1P8p0PSbr9/U/",
          "dtype": "f8"
         }
        },
        {
         "line": {
          "color": "rgb(0, 42, 158)"
         },
         "mode": "lines",
         "name": "014",
         "opacity": 0.4,
         "type": "scatter",
         "x": [
          0,
          1000000000000,
          2000000000000,
          3000000000000,
          4000000000000,
          5000000000000,
          6000000000000,
          7000000000000,
          8000000000000,
          9000000000000,
          10000000000000,
          11000000000000,
          12000000000000,
          13000000000000,
          14000000000000,
          15000000000000,
          16000000000000,
          17000000000000,
          18000000000000,
          19000000000000,
          20000000000000,
          21000000000000,
          22000000000000,
          23000000000000,
          24000000000000,
          25000000000000,
          26000000000000,
          27000000000000,
          28000000000000,
          29000000000000,
          30000000000000,
          31000000000000,
          32000000000000,
          33000000000000,
          34000000000000,
          35000000000000
         ],
         "y": {
          "bdata": "3mJz+3Lh7T8ImgxceP/yP3xEXibUIPM/G6yBnHQz8z9HgQXj5jjzP2M8v1W2OvM/IM99G1g78z/mrQZQhTvzPwedHGWWO/M/v89JRJk78z/X61pimDvzP7pJXqyYO/M/kMLv25g78z9PRIcNmTvzP/7kMjaZO/M/J29VTZk78z9NwddkmTvzP3HbuXyZO/M/YO14fJk78z/GzKp4mTvzP+xE3XSZO/M/3CzKbZk78z+KIUxhmTvzP44M8VSZO/M/5+24SJk78z/tGyU8mTvzP+9Ipi+ZO/M/bkBPI5k78z8fzgAZmTvzP/yW8xGZO/M/o872Cpk78z8QdQoEmTvzP2Aw7wCZO/M/u/5i/pg78z8Yvdj7mDvzP8UCZvqYO/M/",
          "dtype": "f8"
         }
        },
        {
         "line": {
          "color": "rgb(0, 45, 160)"
         },
         "mode": "lines",
         "name": "015",
         "opacity": 0.4,
         "type": "scatter",
         "x": [
          0,
          1000000000000,
          2000000000000,
          3000000000000,
          4000000000000,
          5000000000000,
          6000000000000,
          7000000000000,
          8000000000000,
          9000000000000,
          10000000000000,
          11000000000000,
          12000000000000,
          13000000000000,
          14000000000000,
          15000000000000,
          16000000000000,
          17000000000000,
          18000000000000,
          19000000000000,
          20000000000000,
          21000000000000,
          22000000000000,
          23000000000000,
          24000000000000,
          25000000000000,
          26000000000000,
          27000000000000,
          28000000000000,
          29000000000000,
          30000000000000,
          31000000000000,
          32000000000000,
          33000000000000,
          34000000000000,
          35000000000000
         ],
         "y": {
          "bdata": "BCQgBmFV7j8DhV7csizxP7Ehp8PcMPE/i/u7lW008T+pMJhSxzXxP1a2ovw3NvE/C4cT62A28T9RkDkkbjbxP9JRmkZwNvE/m2kz6G428T8rgvTCbjbxPwM4lMxvNvE/5AfWeW428T/lHVrQbDbxP43gY0hsNvE/fnA8tG028T+wrUF5bDbxP+6ZdgJuNvE/MGjYT2828T9qHhqZbzbxPxGbo4ZvNvE/U5gzgG828T9KIfd/bzbxPwQjbXdvNvE/Gq1XVW828T/dPAl7bzbxP33l4HNvNvE/DUYgcW828T9FkC9ybzbxPyeZiHRvNvE/D1DFbW828T+Nqq92bzbxP2W9rIBvNvE/FHfuU2828T+mWPETbzbxP96JRNVuNvE/",
          "dtype": "f8"
         }
        },
        {
         "line": {
          "color": "rgb(0, 48, 162)"
         },
         "mode": "lines",
         "name": "016",
         "opacity": 0.4,
         "type": "scatter",
         "x": [
          0,
          1000000000000,
          2000000000000,
          3000000000000,
          4000000000000,
          5000000000000,
          6000000000000,
          7000000000000,
          8000000000000,
          9000000000000,
          10000000000000,
          11000000000000,
          12000000000000,
          13000000000000,
          14000000000000,
          15000000000000,
          16000000000000,
          17000000000000,
          18000000000000,
          19000000000000,
          20000000000000,
          21000000000000,
          22000000000000,
          23000000000000,
          24000000000000,
          25000000000000,
          26000000000000,
          27000000000000,
          28000000000000,
          29000000000000,
          30000000000000,
          31000000000000,
          32000000000000,
          33000000000000,
          34000000000000,
          35000000000000
         ],
         "y": {
          "bdata": "1Ffqmfox7j94Y4DW3Z3xPw2LKzvYpvE/Au/EuSmu8T/CQI1zCLHxPyKDBeQMsvE/eIeiDmGy8T97MEs1fLLxP4i9Oq6EsvE/1uy/Y4ay8T/zMZvdhrLxPzVRRsaGsvE/P7ynnIay8T8GQglzhrLxP4FPoGaGsvE//JYvXYay8T8H4L5ThrLxPw67rE2GsvE/CaJ/TIay8T8eiVJLhrLxP0xwJUqGsvE/rknuSYay8T9PJNBJhrLxP/H+sUmGsvE/ncagSYay8T9JVaJJhrLxP/jjo0mGsvE/p3KlSYay8T/MyZ5JhrLxPxZLl0mGsvE/YMyPSYay8T+pZItJhrLxPwN6i0mGsvE/YI+LSYay8T+5pItJhrLxP31XikmGsvE/",
          "dtype": "f8"
         }
        },
        {
         "line": {
          "color": "rgb(0, 51, 164)"
         },
         "mode": "lines",
         "name": "017",
         "opacity": 0.4,
         "type": "scatter",
         "x": [
          0,
          1000000000000,
          2000000000000,
          3000000000000,
          4000000000000,
          5000000000000,
          6000000000000,
          7000000000000,
          8000000000000,
          9000000000000,
          10000000000000,
          11000000000000,
          12000000000000,
          13000000000000,
          14000000000000,
          15000000000000,
          16000000000000,
          17000000000000,
          18000000000000,
          19000000000000,
          20000000000000,
          21000000000000,
          22000000000000,
          23000000000000,
          24000000000000,
          25000000000000,
          26000000000000,
          27000000000000,
          28000000000000,
          29000000000000,
          30000000000000,
          31000000000000,
          32000000000000,
          33000000000000,
          34000000000000,
          35000000000000
         ],
         "y": {
          "bdata": "vFQWg1hi7j/nWSfiz1jzP4y8tWGocvM/BkuWctp78z+PAhVua37zP3B9sJUSf/M/bML7+j1/8z80lDjYRn/zPziqwxVIf/M/6WwFCEh/8z/2gKKwR3/zP1hKQFlHf/M/BN45Rkd/8z9H1FczR3/zP1LXdSBHf/M/xkVjF0d/8z/HIjUYR3/zP2oyBxlHf/M/qHTZGUd/8z/4Oe8bR3/zP8TNBR5Hf/M/LYQcIEd/8z+OsAwhR3/zPwPK0yBHf/M/8emaIEd/8z9SEGIgR3/zP5WL+SBHf/M/5nWRIUd/8z+OYCkiR3/zP5mKEyJHf/M/w4VOIUd/8z+KhokgR3/zP+mMxB9Hf/M/tavSH0d/8z+kPeEfR3/zP4fS7x9Hf/M/",
          "dtype": "f8"
         }
        },
        {
         "line": {
          "color": "rgb(0, 54, 166)"
         },
         "mode": "lines",
         "name": "018",
         "opacity": 0.4,
         "type": "scatter",
         "x": [
          0,
          1000000000000,
          2000000000000,
          3000000000000,
          4000000000000,
          5000000000000,
          6000000000000,
          7000000000000,
          8000000000000,
          9000000000000,
          10000000000000,
          11000000000000,
          12000000000000,
          13000000000000,
          14000000000000,
          15000000000000,
          16000000000000,
          17000000000000,
          18000000000000,
          19000000000000,
          20000000000000,
          21000000000000,
          22000000000000,
          23000000000000,
          24000000000000,
          25000000000000,
          26000000000000,
          27000000000000,
          28000000000000,
          29000000000000,
          30000000000000,
          31000000000000,
          32000000000000,
          33000000000000,
          34000000000000,
          35000000000000
         ],
         "y": {
          "bdata": "5Q7NtNz67T8xMmRm7y3xP0cQQlKvMPE/T/bMiPU18T+/0SpySjjxP3RFA9UlOfE/UifZL2858T9ERuRAiTnxP2FiDGaQOfE/uPlruJI58T/4yMxqlDnxP/+IFCqVOfE/h+ZL1pQ58T8CMIuClDnxP7g1cjCUOfE/K+Dv9JM58T/0jG+5kznxPxQ88X2TOfE/5I03YZM58T8hpfhbkznxPzPJuVaTOfE/iRVEUpM58T/64LhYkznxP061LV+TOfE/hZKiZZM58T/qoyhqkznxP2YKNW2TOfE/IHJBcJM58T8I5BdzkznxP2h5AHOTOfE/EA/pcpM58T/+pNFykznxP3IV/3GTOfE/RK+dcJM58T+KSTxvkznxP3yZ5G2TOfE/",
          "dtype": "f8"
         }
        },
        {
         "line": {
          "color": "rgb(0, 57, 168)"
         },
         "mode": "lines",
         "name": "019",
         "opacity": 0.4,
         "type": "scatter",
         "x": [
          0,
          1000000000000,
          2000000000000,
          3000000000000,
          4000000000000,
          5000000000000,
          6000000000000,
          7000000000000,
          8000000000000,
          9000000000000,
          10000000000000,
          11000000000000,
          12000000000000,
          13000000000000,
          14000000000000,
          15000000000000,
          16000000000000,
          17000000000000,
          18000000000000,
          19000000000000,
          20000000000000,
          21000000000000,
          22000000000000,
          23000000000000,
          24000000000000,
          25000000000000,
          26000000000000,
          27000000000000,
          28000000000000,
          29000000000000,
          30000000000000,
          31000000000000,
          32000000000000,
          33000000000000,
          34000000000000,
          35000000000000
         ],
         "y": {
          "bdata": "iF10ucRT7j8Z+gHc6wT1P4f0vDxc7fQ/BolVpRHz9D+e+5ksgfT0P8h5645C9fQ/X0wa/bb09D90In585/T0P43Fl/D29PQ/+3gSsuv09D96/D7a4PT0P11kypHo9PQ/pBDkSvD09D9PAYwF+PT0P2wt1IL49PQ/aEOZUPL09D/mLZof7PT0Pyp8OSfm9PQ/CG+D1er09D9o8qmE7/T0P0sGrTT09PQ/weEgbfX09D8m47hx8/T0P7Wps3bx9PQ/+uO5j+/09D+Ifm1w8fT0PwMrL1Hz9PQ/cOn+MfX09D+XpzMb9fT0P+h/ZDPz9PQ/QPykS/H09D/69nNx7/T0P41mdS/w9PQ/4r6B7fD09D///5ir8fT0Pwr2gaLx9PQ/",
          "dtype": "f8"
         }
        },
        {
         "line": {
          "color": "rgb(0, 60, 170)"
         },
         "mode": "lines",
         "name": "020",
         "opacity": 0.4,
         "type": "scatter",
         "x": [
          0,
          1000000000000,
          2000000000000,
          3000000000000,
          4000000000000,
          5000000000000,
          6000000000000,
          7000000000000,
          8000000000000,
          9000000000000,
          10000000000000,
          11000000000000,
          12000000000000,
          13000000000000,
          14000000000000,
          15000000000000,
          16000000000000,
          17000000000000,
          18000000000000,
          19000000000000,
          20000000000000,
          21000000000000,
          22000000000000,
          23000000000000,
          24000000000000,
          25000000000000,
          26000000000000,
          27000000000000,
          28000000000000,
          29000000000000,
          30000000000000,
          31000000000000,
          32000000000000,
          33000000000000,
          34000000000000,
          35000000000000
         ],
         "y": {
          "bdata": "WpfoNeuL7j+pCSP7HbbxP4UWot+1v/E/Ly7ZxnzF8T++/sXcecfxP3lDNMcVyPE/9xkK1kLI8T+9iXsQUcjxP7WQllRTyPE/Ju9vt1PI8T+odgypU8jxPweKOaJTyPE/oCdck1PI8T+MCLB7U8jxP6LqVWRTyPE/5s1NTVPI8T9LeUhAU8jxP8I/+TNTyPE/fDUZKFPI8T84PjwwU8jxPyx5eE5TyPE/NTzTbFPI8T9Vh0yLU8jxP6Ud2HFTyPE/JafnVlPI8T+ztxc8U8jxP6QR2S5TyPE/CfzCMFPI8T98Nc0yU8jxP/+99zRTyPE/oBnKQVPI8T8hxAlPU8jxP+E6aVxTyPE/YGHbX1PI8T8KxCRYU8jxP+9Vf1BTyPE/",
          "dtype": "f8"
         }
        },
        {
         "line": {
          "color": "rgb(0, 70, 174)"
         },
         "mode": "lines",
         "name": "021",
         "opacity": 0.4,
         "type": "scatter",
         "x": [
          0,
          1000000000000,
          2000000000000,
          3000000000000,
          4000000000000,
          5000000000000,
          6000000000000,
          7000000000000,
          8000000000000,
          9000000000000,
          10000000000000,
          11000000000000,
          12000000000000,
          13000000000000,
          14000000000000,
          15000000000000,
          16000000000000,
          17000000000000,
          18000000000000,
          19000000000000,
          20000000000000,
          21000000000000,
          22000000000000,
          23000000000000,
          24000000000000,
          25000000000000,
          26000000000000,
          27000000000000,
          28000000000000,
          29000000000000,
          30000000000000,
          31000000000000,
          32000000000000,
          33000000000000,
          34000000000000,
          35000000000000
         ],
         "y": {
          "bdata": "D3b6gWJ57j8b0lnVsU3zPz9jdWYdZfM/piCMMhtv8z/sWq457nHzP/Sa+zascvM/tkZBpN1y8z/kEBtY6HLzPwqeR3HpcvM/HvzBbuly8z+LCDwX6XLzP7Bpt7/ocvM/DApEl+hy8z+V2yKE6HLzP5CwAXHocvM/BgRTYehy8z/5hYJg6HLzPwI6sl/ocvM/JCDiXuhy8z8+cRRf6HLzP3Puu1/ocvM/nZxjYOhy8z+iGcBg6HLzPw6V11/ocvM/SiDvXuhy8z9ZuwZe6HLzP6lkCl7ocvM/gfx4Xuhy8z/jl+de6HLzPwGiLF/ocvM/aFm+Xuhy8z/3E1Be6HLzP6rR4V3ocvM/FrYjXuhy8z/yaLVe6HLzP68eR1/ocvM/",
          "dtype": "f8"
         }
        },
        {
         "line": {
          "color": "rgb(0, 79, 178)"
         },
         "mode": "lines",
         "name": "022",
         "opacity": 0.4,
         "type": "scatter",
         "x": [
          0,
          1000000000000,
          2000000000000,
          3000000000000,
          4000000000000,
          5000000000000,
          6000000000000,
          7000000000000,
          8000000000000,
          9000000000000,
          10000000000000,
          11000000000000,
          12000000000000,
          13000000000000,
          14000000000000,
          15000000000000,
          16000000000000,
          17000000000000,
          18000000000000,
          19000000000000,
          20000000000000,
          21000000000000,
          22000000000000,
          23000000000000,
          24000000000000,
          25000000000000,
          26000000000000,
          27000000000000,
          28000000000000,
          29000000000000,
          30000000000000,
          31000000000000,
          32000000000000,
          33000000000000,
          34000000000000,
          35000000000000
         ],
         "y": {
          "bdata": "bbaGwLHd7T9+s2MoWgPzP0extOrDE/M/MwBaalwf8z8EOR/mhiPzP0UmKLXVJPM/1yQd7DYl8z8rXBwHVCXzPycKWgNcJfM/wC2Hll0l8z/I74ToXSXzP/Nh6bpdJfM/EBdWjV0l8z+alKh6XSXzPz+3YHBdJfM/8hQaZl0l8z+tgj1eXSXzPwODKl1dJfM/PI0XXF0l8z9coQRbXSXzP2fwrVpdJfM/FnmSWl0l8z84hndaXSXzPxLuWVpdJfM/WO4zWl0l8z8tbQ5aXSXzP5Jq6VldJfM/1fLVWV0l8z+BDchZXSXzP0xfulldJfM/0dWyWV0l8z+NG7xZXSXzP51vxVldJfM/AtLOWV0l8z/q7tRZXSXzPw062FldJfM/",
          "dtype": "f8"
         }
        },
        {
         "line": {
          "color": "rgb(1, 89, 183)"
         },
         "mode": "lines",
         "name": "023",
         "opacity": 0.4,
         "type": "scatter",
         "x": [
          0,
          1000000000000,
          2000000000000,
          3000000000000,
          4000000000000,
          5000000000000,
          6000000000000,
          7000000000000,
          8000000000000,
          9000000000000,
          10000000000000,
          11000000000000,
          12000000000000,
          13000000000000,
          14000000000000,
          15000000000000,
          16000000000000,
          17000000000000,
          18000000000000,
          19000000000000,
          20000000000000,
          21000000000000,
          22000000000000,
          23000000000000,
          24000000000000,
          25000000000000,
          26000000000000,
          27000000000000,
          28000000000000,
          29000000000000,
          30000000000000,
          31000000000000,
          32000000000000,
          33000000000000,
          34000000000000,
          35000000000000
         ],
         "y": {
          "bdata": "1tYu2wEO7j/psvD9b0zxP3SoxxRQUPE/wxVaPZhV8T+jEgKS4FfxP0baLfK0WPE/hiMOKftY8T9H+7pLE1nxPz5F800aWfE/kuQScBxZ8T+uWLz9HFnxP4yCtdwcWfE/LL+vuxxZ8T/RdK+pHFnxP0ALT5gcWfE/ggQqjxxZ8T/ygxaLHFnxP8UGA4ccWfE/ueWDgxxZ8T8uZlCEHFnxP8fnHIUcWfE/f2rphRxZ8T8r5X2GHFnxP7jd74YcWfE/YtZhhxxZ8T8MmcGHHFnxP+ldmoccWfE/PyNzhxxZ8T8S6UuHHFnxPwVgLoccWfE/TM8WhxxZ8T87P/+GHFnxPzIv6IYcWfE/2c/UhhxZ8T/ccMGGHFnxPz8SroYcWfE/",
          "dtype": "f8"
         }
        },
        {
         "line": {
          "color": "rgb(1, 99, 187)"
         },
         "mode": "lines",
         "name": "024",
         "opacity": 0.4,
         "type": "scatter",
         "x": [
          0,
          1000000000000,
          2000000000000,
          3000000000000,
          4000000000000,
          5000000000000,
          6000000000000,
          7000000000000,
          8000000000000,
          9000000000000,
          10000000000000,
          11000000000000,
          12000000000000,
          13000000000000,
          14000000000000,
          15000000000000,
          16000000000000,
          17000000000000,
          18000000000000,
          19000000000000,
          20000000000000,
          21000000000000,
          22000000000000,
          23000000000000,
          24000000000000,
          25000000000000,
          26000000000000,
          27000000000000,
          28000000000000,
          29000000000000,
          30000000000000,
          31000000000000,
          32000000000000,
          33000000000000,
          34000000000000,
          35000000000000
         ],
         "y": {
          "bdata": "7anaQjB87j9Jrx+wS8TwP+h2dxlEpPQ/+4IFVnOw9D/UWSjBt7P0PxH0Ew+OtPQ/e+1pzLW09D9cpzsUyrT0P+fgflLHtPQ/Nc1zasS09D/IxecYxrT0P7dXs8jGtPQ/+dktAse09D9QTrEbx7T0P9uuh1HHtPQ/6oxHdce09D89HmR4x7T0P9P5WILHtPQ/p7sbk8e09D8LL+Oix7T0P4Z9xbLHtPQ/FqfCwse09D8NAO/Ox7T0PxYzodjHtPQ/t+cE5Me09D/yT8jwx7T0P8EIt9zHtPQ/6CD6yse09D9mmJG7x7T0P++jZajHtPQ/utLAkMe09D91HTZ6x7T0P7lA2mTHtPQ/kKDxWMe09D8eLC1Nx7T0P1zjjEHHtPQ/",
          "dtype": "f8"
         }
        },
        {
         "line": {
          "color": "rgb(1, 109, 191)"
         },
         "mode": "lines",
         "name": "025",
         "opacity": 0.4,
         "type": "scatter",
         "x": [
          0,
          1000000000000,
          2000000000000,
          3000000000000,
          4000000000000,
          5000000000000,
          6000000000000,
          7000000000000,
          8000000000000,
          9000000000000,
          10000000000000,
          11000000000000,
          12000000000000,
          13000000000000,
          14000000000000,
          15000000000000,
          16000000000000,
          17000000000000,
          18000000000000,
          19000000000000,
          20000000000000,
          21000000000000,
          22000000000000,
          23000000000000,
          24000000000000,
          25000000000000,
          26000000000000,
          27000000000000,
          28000000000000,
          29000000000000,
          30000000000000,
          31000000000000,
          32000000000000,
          33000000000000,
          34000000000000,
          35000000000000
         ],
         "y": {
          "bdata": "VRU9AZht7j8yrPhJlLr0P0k/OtiXzPQ//n0vQTrU9D8o0jYWUNb0Pz8uJxPS1vQ/KcfPmvPW9D8C94EL+db0P/HoABX71vQ/8TziAvzW9D8zXtDL/Nb0P07C9Uz91vQ/iwXNiv3W9D9wlDvJ/db0PwJ97AT+1vQ/PvwD2f3W9D946V+t/db0P7NEAIL91vQ/Md04Pf3W9D/0DIzi/Nb0PwyvzYj81vQ/OnRtMPzW9D81Dm3m+9b0P3tnAp371vQ/EYAtVPvW9D8r42kc+9b0P+EedPP61vQ/AHOjyvrW9D9KvAej+tb0P/D3pZz61vQ/zmVElvrW9D/iBeOP+tb0P+9AY5T61vQ/wqhSqvrW9D8l4YvK+tb0PzwI0fT61vQ/",
          "dtype": "f8"
         }
        },
        {
         "line": {
          "color": "rgb(2, 118, 195)"
         },
         "mode": "lines",
         "name": "026",
         "opacity": 0.4,
         "type": "scatter",
         "x": [
          0,
          1000000000000,
          2000000000000,
          3000000000000,
          4000000000000,
          5000000000000,
          6000000000000,
          7000000000000,
          8000000000000,
          9000000000000,
          10000000000000,
          11000000000000,
          12000000000000,
          13000000000000,
          14000000000000,
          15000000000000,
          16000000000000,
          17000000000000,
          18000000000000,
          19000000000000,
          20000000000000,
          21000000000000,
          22000000000000,
          23000000000000,
          24000000000000,
          25000000000000,
          26000000000000,
          27000000000000,
          28000000000000,
          29000000000000,
          30000000000000,
          31000000000000,
          32000000000000,
          33000000000000,
          34000000000000,
          35000000000000
         ],
         "y": {
          "bdata": "me6PBDFl7j/6y8dn3qz1P8xG0LjetvU/gWkRB/+59T+KYYtRe7r1Py+9xYc0uvU/Xcfxxvi59T9gFgJ4x7n1P/97syzhufU/WSC327W59T9S+6BEubn1Pxc2dk+hufU/qW/DmKS59T+un/mrqrn1P3MeWoumufU/OCPAeqK59T8Brit6nrn1P12SieOYufU/kTQw/5K59T+s544fjbn1P84QURONufU/1VTVAZO59T+cG+jwmLn1PxhlieCeufU/9bafupu59T+uuCiHmLn1P2LmpVaVufU/SSfJHpW59T/LG8T2l7n1P3ojxdOaufU/YD7MtZ259T9WbV1KoLn1PwCea+SiufU/KoaNhKW59T+HKL6mprn1P9eiIT6mufU/",
          "dtype": "f8"
         }
        },
        {
         "line": {
          "color": "rgb(2, 128, 200)"
         },
         "mode": "lines",
         "name": "027",
         "opacity": 0.4,
         "type": "scatter",
         "x": [
          0,
          1000000000000,
          2000000000000,
          3000000000000,
          4000000000000,
          5000000000000,
          6000000000000,
          7000000000000,
          8000000000000,
          9000000000000,
          10000000000000,
          11000000000000,
          12000000000000,
          13000000000000,
          14000000000000,
          15000000000000,
          16000000000000,
          17000000000000,
          18000000000000,
          19000000000000,
          20000000000000,
          21000000000000,
          22000000000000,
          23000000000000,
          24000000000000,
          25000000000000,
          26000000000000,
          27000000000000,
          28000000000000,
          29000000000000,
          30000000000000,
          31000000000000,
          32000000000000,
          33000000000000,
          34000000000000,
          35000000000000
         ],
         "y": {
          "bdata": "eFrQ8DRu7j/ChpQnysj0Pyt3wzVH3vQ/zv4a6R3l9D9MePR9nOb0P2C+oPP85vQ/CrnwlhHn9D+loH6RE+f0PyjzuNsR5/Q/a+fYpw/n9D/Ep2dJDuf0P+IheD8N5/Q/8N/9OQzn9D/fo4FmC+f0P0eXKzoL5/Q/oPPzDQvn9D/zuNrhCuf0P3sTZBEL5/Q/OmD3ZQvn9D9KEF+7C+f0P6iNYh4M5/Q/iTp0sQzn9D8aerZGDef0P1lMKd4N5/Q/YxX6ew7n9D+2wJIdD+f0P4AzSMEP5/Q/+UeXXRDn9D80HNXYEOf0P/p4IVUR5/Q/Ul580hHn9D9hoQwgEuf0P+Rzj1oS5/Q/MY1HlRLn9D8xup7FEuf0P8PJkr8S5/Q/",
          "dtype": "f8"
         }
        },
        {
         "line": {
          "color": "rgb(2, 138, 204)"
         },
         "mode": "lines",
         "name": "028",
         "opacity": 0.4,
         "type": "scatter",
         "x": [
          0,
          1000000000000,
          2000000000000,
          3000000000000,
          4000000000000,
          5000000000000,
          6000000000000,
          7000000000000,
          8000000000000,
          9000000000000,
          10000000000000,
          11000000000000,
          12000000000000,
          13000000000000,
          14000000000000,
          15000000000000,
          16000000000000,
          17000000000000,
          18000000000000,
          19000000000000,
          20000000000000,
          21000000000000,
          22000000000000,
          23000000000000,
          24000000000000,
          25000000000000,
          26000000000000,
          27000000000000,
          28000000000000,
          29000000000000,
          30000000000000,
          31000000000000,
          32000000000000,
          33000000000000,
          34000000000000,
          35000000000000
         ],
         "y": {
          "bdata": "OTmywHT87T/+60/kiX3zPyNmwUlejPM/XQdsRvGX8z8tD1WtppvzP9eB3AzDnPM/eguzFRGd8z9psxjCJZ3zP10yGoUrnfM/ziPa/iud8z9bkAUCLJ3zPzAFZNQrnfM/RTXGsSud8z/0dzWPK53zP4Rsj3crnfM/LIC6dSud8z/zuexzK53zP9wZJnIrnfM/UTOvcyud8z86xuJ1K53zPyyZF3grnfM/Td55eSud8z+P/DN5K53zP8Ue7ngrnfM/8USoeCud8z/f5Y53K53zP01HS3YrnfM/OuQHdSud8z9SVKVzK53zP1gaBHIrnfM/uzNjcCud8z98oMJuK53zP5YTZm0rnfM/4WYXbCud8z+DAslqK53zPwD1q2krnfM/",
          "dtype": "f8"
         }
        },
        {
         "line": {
          "color": "rgb(2, 148, 208)"
         },
         "mode": "lines",
         "name": "029",
         "opacity": 0.4,
         "type": "scatter",
         "x": [
          0,
          1000000000000,
          2000000000000,
          3000000000000,
          4000000000000,
          5000000000000,
          6000000000000,
          7000000000000,
          8000000000000,
          9000000000000,
          10000000000000,
          11000000000000,
          12000000000000,
          13000000000000,
          14000000000000,
          15000000000000,
          16000000000000,
          17000000000000,
          18000000000000,
          19000000000000,
          20000000000000,
          21000000000000,
          22000000000000,
          23000000000000,
          24000000000000,
          25000000000000,
          26000000000000,
          27000000000000,
          28000000000000,
          29000000000000,
          30000000000000,
          31000000000000,
          32000000000000,
          33000000000000,
          34000000000000,
          35000000000000
         ],
         "y": {
          "bdata": "FuYXpUSB7j9sfQQy16rzP85ouzvfxPM/w6dUOlzN8z+Jin1doc/zP6h0/6sz0PM/K1n3y1fQ8z8+IzZIYNDzP1Ur2Xdh0PM/BnOoWWHQ8z+0x7vnYNDzP9dW0HVg0PM/PBqAPGDQ8z94tfYeYNDzP7iVbQFg0PM/uHYW6F/Q8z9UiBvjX9DzP82xIN5f0PM/KfMl2V/Q8z9AmizWX9DzP2g5L9Rf0PM/ou0x0l/Q8z8OhE3QX9DzPy+Q4c5f0PM/g6x1zV/Q8z8F2QnMX9DzPyQRUstf0PM/BKPyyl/Q8z88O5PKX9DzP/cuT8pf0PM/NtOPyl/Q8z/WeNDKX9DzP8wfEctf0PM/ZYOey1/Q8z/BYn/MX9DzP98gl81f0PM/",
          "dtype": "f8"
         }
        },
        {
         "line": {
          "color": "rgb(2, 157, 212)"
         },
         "mode": "lines",
         "name": "030",
         "opacity": 0.4,
         "type": "scatter",
         "x": [
          0,
          1000000000000,
          2000000000000,
          3000000000000,
          4000000000000,
          5000000000000,
          6000000000000,
          7000000000000,
          8000000000000,
          9000000000000,
          10000000000000,
          11000000000000,
          12000000000000,
          13000000000000,
          14000000000000,
          15000000000000,
          16000000000000,
          17000000000000,
          18000000000000,
          19000000000000,
          20000000000000,
          21000000000000,
          22000000000000,
          23000000000000,
          24000000000000,
          25000000000000,
          26000000000000,
          27000000000000,
          28000000000000,
          29000000000000,
          30000000000000,
          31000000000000,
          32000000000000,
          33000000000000,
          34000000000000,
          35000000000000
         ],
         "y": {
          "bdata": "5+kssk5S7j9ZD0reBTHxP+MzwU6KMvE/0YJ6nC028T9pwiUVmzfxP687gugXOPE/v7BeID848T8GMUlITTjxPwQ5jL5ROPE/nmwI4lM48T+/EglzVDjxP28aYJpTOPE/4az8aFM48T+gKRE+UzjxP093xBVTOPE/31Dt7lI48T++ANKxUzjxPyoQ7qBUOPE/rsU+mFU48T8vZUALVjjxP+EkyLZVOPE/UagujlU48T83Y+9nVTjxP4L/wkNVOPE/auahRlU48T9gvBJfVTjxP4DbG3RVOPE/hJdgdlU48T/z6L14VTjxP1yxvm9VOPE/AvH+QVU48T/Lq1EUVTjxP7fhtuZUOPE/TqPV11Q48T8oXmzRVDjxPzDTMMtUOPE/",
          "dtype": "f8"
         }
        },
        {
         "line": {
          "color": "rgb(3, 167, 217)"
         },
         "mode": "lines",
         "name": "031",
         "opacity": 0.4,
         "type": "scatter",
         "x": [
          0,
          1000000000000,
          2000000000000,
          3000000000000,
          4000000000000,
          5000000000000,
          6000000000000,
          7000000000000,
          8000000000000,
          9000000000000,
          10000000000000,
          11000000000000,
          12000000000000,
          13000000000000,
          14000000000000,
          15000000000000,
          16000000000000,
          17000000000000,
          18000000000000,
          19000000000000,
          20000000000000,
          21000000000000,
          22000000000000,
          23000000000000,
          24000000000000,
          25000000000000,
          26000000000000,
          27000000000000,
          28000000000000,
          29000000000000,
          30000000000000,
          31000000000000,
          32000000000000,
          33000000000000,
          34000000000000,
          35000000000000
         ],
         "y": {
          "bdata": "8SkmgCaZ7j8FvnKfNcHxP//AquJZy/E/MUcZC/PQ8T/Ip3NQ19LxP/4fRy1t0/E/07EO45nT8T+jGkfOpdPxP8IDml+l0/E/Q/6m+KfT8T9yt/8uqdPxP/bgh9Cp0/E/RC2V4qnT8T9evbL0qdPxP5iLxAWq0/E/3WPxqanT8T/z9CVOqdPxP9g+YvKo0/E/dBn9uKjT8T8KBJagqNPxP3oDMIio0/E/AksrcKjT8T9XSQ19qNPxPylc74mo0/E/eYPRlqjT8T9cW0KfqNPxP17WbqOo0/E/0GGbp6jT8T8GScGrqNPxP5DHVK2o0/E/LEnorqjT8T/dzXuwqNPxP13K5bCo0/E/xwMysKjT8T8jQ36vqNPxPyp9yq6o0/E/",
          "dtype": "f8"
         }
        },
        {
         "line": {
          "color": "rgb(3, 177, 221)"
         },
         "mode": "lines",
         "name": "032",
         "opacity": 0.4,
         "type": "scatter",
         "x": [
          0,
          1000000000000,
          2000000000000,
          3000000000000,
          4000000000000,
          5000000000000,
          6000000000000,
          7000000000000,
          8000000000000,
          9000000000000,
          10000000000000,
          11000000000000,
          12000000000000,
          13000000000000,
          14000000000000,
          15000000000000,
          16000000000000,
          17000000000000,
          18000000000000,
          19000000000000,
          20000000000000,
          21000000000000,
          22000000000000,
          23000000000000,
          24000000000000,
          25000000000000,
          26000000000000,
          27000000000000,
          28000000000000,
          29000000000000,
          30000000000000,
          31000000000000,
          32000000000000,
          33000000000000,
          34000000000000,
          35000000000000
         ],
         "y": {
          "bdata": "XJQm4htp7j87CqXN0Lz1P8Qjm7kDxvU/4pZBrrjI9T/y7iwkbcj1Py3Hf4mPx/U/+pfxcB3H9T9nd+lcyMb1PxcaSKuexvU/KB4wOYfG9T+T2cnzdcb1P5zLf+1uxvU/WFZ5THLG9T/W86mdfcb1P4gRkNJ8xvU/JQDE33XG9T8RZje8bsb1P3DBVkJnxvU/gJEnU2PG9T8ZPdyeX8b1P5aYnjhexvU/hJIN4lzG9T9NJSkEXcb1P7QwoDdexvU/0REoil/G9T+76qxAYcb1PxduhAdjxvU/6Juu3mTG9T9tB8hFZsb1P+Om6X5nxvU/oWeRwGjG9T+LyPTuacb1P8SnQLFqxvU/tr/cdWvG9T9lEMk8bMb1P39tZ6NsxvU/",
          "dtype": "f8"
         }
        },
        {
         "line": {
          "color": "rgb(3, 187, 225)"
         },
         "mode": "lines",
         "name": "033",
         "opacity": 0.4,
         "type": "scatter",
         "x": [
          0,
          1000000000000,
          2000000000000,
          3000000000000,
          4000000000000,
          5000000000000,
          6000000000000,
          7000000000000,
          8000000000000,
          9000000000000,
          10000000000000,
          11000000000000,
          12000000000000,
          13000000000000,
          14000000000000,
          15000000000000,
          16000000000000,
          17000000000000,
          18000000000000,
          19000000000000,
          20000000000000,
          21000000000000,
          22000000000000,
          23000000000000,
          24000000000000,
          25000000000000,
          26000000000000,
          27000000000000,
          28000000000000,
          29000000000000,
          30000000000000,
          31000000000000,
          32000000000000,
          33000000000000,
          34000000000000,
          35000000000000
         ],
         "y": {
          "bdata": "TnAi+xp47j8kNX6huLn0P4Q+a7UXy/Q/HpQJM6fR9D91bvwEF9P0P29VZ9Fk1fQ/1J8pLLfU9D88ZYdZ99T0P2PP/U8T1fQ/bLqUCg3V9D8yR5SECNX0P46I6ZcK1fQ/vXckDA3V9D87+0ijDdX0P0oku/MM1fQ/9fKrGgzV9D8mKKRBC9X0P4ltocQK1fQ/SSNqkgrV9D/1fDNgCtX0P/Jq9TQK1fQ/e7faiQrV9D9VuMHeCtX0P4BtqjML1fQ/ylueigvV9D8vODvjC9X0P3vP2DsM1fQ/CjhakgzV9D9NDgLCDNX0P84ZqvEM1fQ/i1pSIQ3V9D+cWF80DdX0P1W5KjAN1fQ/VUb2Kw3V9D9EBjImDdX0Pw+Fu/oM1fQ/",
          "dtype": "f8"
         }
        },
        {
         "line": {
          "color": "rgb(4, 196, 230)"
         },
         "mode": "lines",
         "name": "034",
         "opacity": 0.4,
         "type": "scatter",
         "x": [
          0,
          1000000000000,
          2000000000000,
          3000000000000,
          4000000000000,
          5000000000000,
          6000000000000,
          7000000000000,
          8000000000000,
          9000000000000,
          10000000000000,
          11000000000000,
          12000000000000,
          13000000000000,
          14000000000000,
          15000000000000,
          16000000000000,
          17000000000000,
          18000000000000,
          19000000000000,
          20000000000000,
          21000000000000,
          22000000000000,
          23000000000000,
          24000000000000,
          25000000000000,
          26000000000000,
          27000000000000,
          28000000000000,
          29000000000000,
          30000000000000,
          31000000000000,
          32000000000000,
          33000000000000,
          34000000000000,
          35000000000000
         ],
         "y": {
          "bdata": "b57qp7y27T/kqUooBbfyPzXgk8awxvI/h8Jvz3fR8j8DnbG8kdXyP+j9PN/u1vI/Stl79V7X8j9X36nTgdfyP6j4KHeK1/I/Yivb3YzX8j9tmX7BjNfyP7kQgKSM1/I/NU+ulIzX8j8jbTaJjNfyPzlFP4GM1/I/OD9TeYzX8j8KSfxxjNfyP9ogjXSM1/I/E0Qed4zX8j+wsq95jNfyP1owYn6M1/I/LgnUhIzX8j+j00uLjNfyP/hAx5GM1/I/faMemIzX8j+3oHyejNfyP6E44aSM1/I//K9sqozX8j8CKkevjNfyP7DwJbSM1/I/4b/tuIzX8j9zSMS7jNfyPwOFnL6M1/I/j3V2wYzX8j80DVLDjNfyPxlmrMOM1/I/",
          "dtype": "f8"
         }
        },
        {
         "line": {
          "color": "rgb(4, 206, 234)"
         },
         "mode": "lines",
         "name": "035",
         "opacity": 0.4,
         "type": "scatter",
         "x": [
          0,
          1000000000000,
          2000000000000,
          3000000000000,
          4000000000000,
          5000000000000,
          6000000000000,
          7000000000000,
          8000000000000,
          9000000000000,
          10000000000000,
          11000000000000,
          12000000000000,
          13000000000000,
          14000000000000,
          15000000000000,
          16000000000000,
          17000000000000,
          18000000000000,
          19000000000000,
          20000000000000,
          21000000000000,
          22000000000000,
          23000000000000,
          24000000000000,
          25000000000000,
          26000000000000,
          27000000000000,
          28000000000000,
          29000000000000,
          30000000000000,
          31000000000000,
          32000000000000,
          33000000000000,
          34000000000000,
          35000000000000
         ],
         "y": {
          "bdata": "XVwBux5e7j+ujDVxswbzP9pZSaf2H/M/wYG8aicp8z+18BizuivzP6IOFaVxLPM/KsOBoZ4s8z/okzDxqSzzP4sRng6rLPM/SU+yZKss8z/YAoKGqyzzP0ucH5urLPM/EDq9r6ss8z8s2223qyzzP9X1LLurLPM/vxDsvqss8z9bFMjBqyzzP6A0MsKrLPM/AFWcwqss8z9+dQbDqyzzP653GcOrLPM/zOURw6ss8z/4UwrDqyzzP6eBD8OrLPM/19E3w6ss8z8HImDDqyzzPzxyiMOrLPM/kmCXw6ss8z+CkJ7DqyzzP3LApcOrLPM/eVutw6ss8z+nHbbDqyzzP9TfvsOrLPM/BKLHw6ss8z/Q9cfDqyzzPx63xcOrLPM/",
          "dtype": "f8"
         }
        },
        {
         "line": {
          "color": "rgb(4, 216, 238)"
         },
         "mode": "lines",
         "name": "036",
         "opacity": 0.4,
         "type": "scatter",
         "x": [
          0,
          1000000000000,
          2000000000000,
          3000000000000,
          4000000000000,
          5000000000000,
          6000000000000,
          7000000000000,
          8000000000000,
          9000000000000,
          10000000000000,
          11000000000000,
          12000000000000,
          13000000000000,
          14000000000000,
          15000000000000,
          16000000000000,
          17000000000000,
          18000000000000,
          19000000000000,
          20000000000000,
          21000000000000,
          22000000000000,
          23000000000000,
          24000000000000,
          25000000000000,
          26000000000000,
          27000000000000,
          28000000000000,
          29000000000000,
          30000000000000,
          31000000000000,
          32000000000000,
          33000000000000,
          34000000000000,
          35000000000000
         ],
         "y": {
          "bdata": "Gtv7fXSJ7j9mmRkwUL3zP5Qvz3h61/M/UZ2JigDg8z8b3G2rSeLzP496tmXb4vM/tNw7fP/i8z+4Gy2bBuPzP5OzT8QH4/M/YJvdSwfj8z8KqH+2BuPzP6j/SiQG4/M/68zI/wXj8z81FkfbBePzP4PbxbYF4/M/yrcIpAXj8z8WuS2hBePzP3dXU54F4/M/vaaQmwXj8z8iAfCbBePzP5+aT5wF4/M/OnOvnAXj8z+HptWcBePzP6U2yJwF4/M/29q6nAXj8z9auLCcBePzP4PgE50F4/M/uQl3nQXj8z8BNNqdBePzP/h3Np4F4/M/zqCHngXj8z+XX9KeBePzP/tqF58F4/M/rwZznwXj8z9KYtWfBePzP26XPqAF4/M/",
          "dtype": "f8"
         }
        },
        {
         "line": {
          "color": "rgb(4, 226, 242)"
         },
         "mode": "lines",
         "name": "037",
         "opacity": 0.4,
         "type": "scatter",
         "x": [
          0,
          1000000000000,
          2000000000000,
          3000000000000,
          4000000000000,
          5000000000000,
          6000000000000,
          7000000000000,
          8000000000000,
          9000000000000,
          10000000000000,
          11000000000000,
          12000000000000,
          13000000000000,
          14000000000000,
          15000000000000,
          16000000000000,
          17000000000000,
          18000000000000,
          19000000000000,
          20000000000000,
          21000000000000,
          22000000000000,
          23000000000000,
          24000000000000,
          25000000000000,
          26000000000000,
          27000000000000,
          28000000000000,
          29000000000000,
          30000000000000,
          31000000000000,
          32000000000000,
          33000000000000,
          34000000000000,
          35000000000000
         ],
         "y": {
          "bdata": "TLmXCvHn7T9eJD5h8S3zP2/rKVDrOfM/mYjPMqBE8z80v7A1SkjzP5XTN25uSfM/eM9twsNJ8z+0bMR02knzP0l8ifDgSfM/tcfKl+FJ8z+9Gvxh4UnzP0bRWCbhSfM/048ZC+FJ8z8lA1T74EnzPwNsmevgSfM/EQZ05OBJ8z8C4Hzg4EnzP4hHhtzgSfM/VuB82eBJ8z8rVZDZ4EnzP4dupNngSfM/aiy52eBJ8z9hDHDa4EnzP8P8Y9vgSfM/HA5Z3OBJ8z9xpkHd4EnzP0Fq/d3gSfM/7P653uBJ8z94ZHff4EnzPygRKeDgSfM/koTW4OBJ8z/6V4Th4EnzPxoTIuLgSfM/LeBw4uBJ8z8aHpni4EnzP/LFmuLgSfM/",
          "dtype": "f8"
         }
        },
        {
         "line": {
          "color": "rgb(4, 235, 246)"
         },
         "mode": "lines",
         "name": "038",
         "opacity": 0.4,
         "type": "scatter",
         "x": [
          0,
          1000000000000,
          2000000000000,
          3000000000000,
          4000000000000,
          5000000000000,
          6000000000000,
          7000000000000,
          8000000000000,
          9000000000000,
          10000000000000,
          11000000000000,
          12000000000000,
          13000000000000,
          14000000000000,
          15000000000000,
          16000000000000,
          17000000000000,
          18000000000000,
          19000000000000,
          20000000000000,
          21000000000000,
          22000000000000,
          23000000000000,
          24000000000000,
          25000000000000,
          26000000000000,
          27000000000000,
          28000000000000,
          29000000000000,
          30000000000000,
          31000000000000,
          32000000000000,
          33000000000000,
          34000000000000,
          35000000000000
         ],
         "y": {
          "bdata": "/nijAqUc7j88eQgjNSzxP73sekvMLPE/JKUwLZIx8T95twXsrDPxPw9LHsZ3NPE/tb0wz7008T9EmIhQ1jTxPxL0QUjeNPE/yJ5biN808T+Wfzmv4DTxP2NNp2ThNPE/TFAIQeE08T9T4nId4TTxP7gqHPHgNPE/ngK4weA08T804FaS4DTxPy0d5WzgNPE/tPSlZuA08T87BGdg4DTxP8NLKFrgNPE/P6m4W+A08T+xlAJg4DTxP1unTGTgNPE/NHIMaOA08T/mKhlq4DTxPwrtJWzgNPE/o7gybuA08T9aJ7lu4DTxP5Jlt27gNPE/36e1buA08T9Iv3Fu4DTxP1jPXW3gNPE/7uFJbOA08T8K9zVr4DTxP67G1mrgNPE/",
          "dtype": "f8"
         }
        },
        {
         "line": {
          "color": "rgb(5, 245, 251)"
         },
         "mode": "lines",
         "name": "039",
         "opacity": 0.4,
         "type": "scatter",
         "x": [
          0,
          1000000000000,
          2000000000000,
          3000000000000,
          4000000000000,
          5000000000000,
          6000000000000,
          7000000000000,
          8000000000000,
          9000000000000,
          10000000000000,
          11000000000000,
          12000000000000,
          13000000000000,
          14000000000000,
          15000000000000,
          16000000000000,
          17000000000000,
          18000000000000,
          19000000000000,
          20000000000000,
          21000000000000,
          22000000000000,
          23000000000000,
          24000000000000,
          25000000000000,
          26000000000000,
          27000000000000,
          28000000000000,
          29000000000000,
          30000000000000,
          31000000000000,
          32000000000000,
          33000000000000,
          34000000000000,
          35000000000000
         ],
         "y": {
          "bdata": "LISWhMKc7j/ZeyVIpND1P+1vB0V/6fU/c2oQWULu9T/XCh6uFe/1PzfrHw8o7/U/ABW4pwXv9T9YVslG++71P24WsRvv7vU/Oh3EDOju9T9GmAw54+71P/oQYHrf7vU/WLKIwdzu9T/1fsFg3e71P53PGFPe7vU/DAmz0d7u9T9WEO1d3+71Pz4e7O7f7vU/vMpAbeDu9T+IELn14O71P6LvVIjh7vU/ny2E8+Hu9T/eGLtR4u71PyyodrPi7vU/L/0gCuPu9T+jJEo04+71P0lmtF7j7vU/JMJfiePu9T+i2yqT4+71PyhOuX/j7vU/VLc6WePu9T/93t4d4+71P7fP0sHi7vU/cFCMT+Lu9T/ex0DJ4e71P/KHsUrh7vU/",
          "dtype": "f8"
         }
        },
        {
         "line": {
          "color": "rgb(5, 255, 255)"
         },
         "mode": "lines",
         "name": "040",
         "opacity": 0.4,
         "type": "scatter",
         "x": [
          0,
          1000000000000,
          2000000000000,
          3000000000000,
          4000000000000,
          5000000000000,
          6000000000000,
          7000000000000,
          8000000000000,
          9000000000000,
          10000000000000,
          11000000000000,
          12000000000000,
          13000000000000,
          14000000000000,
          15000000000000,
          16000000000000,
          17000000000000,
          18000000000000,
          19000000000000,
          20000000000000,
          21000000000000,
          22000000000000,
          23000000000000,
          24000000000000,
          25000000000000,
          26000000000000,
          27000000000000,
          28000000000000,
          29000000000000,
          30000000000000,
          31000000000000,
          32000000000000,
          33000000000000,
          34000000000000,
          35000000000000
         ],
         "y": {
          "bdata": "4BMZzA9k7j821bh+sRLzP3KA5qagKPM/YLuMvicy8z+0ub1c4jTzPzEpxeahNfM/xWBr6dA18z/YzLZV3TXzP7T/e+jeNfM/rzDaNd818z8NrqHN3jXzP3TEUWneNfM/EwyrDN418z8vgcH33TXzPzr61+LdNfM/M3fuzd018z8wa8bE3TXzP9ZuksPdNfM/Qndewt018z8BOUzB3TXzP02zdcHdNfM/dzCfwd018z97sMjB3TXzP46W4MHdNfM/epPswd018z9MkfjB3TXzPw3tAsLdNfM/2PT9wd018z+r/PjB3TXzP4cE9MHdNfM//d3qwd018z9h497B3TXzP+zo0sHdNfM/utDGwd018z9OQrnB3TXzP0IIq8HdNfM/",
          "dtype": "f8"
         }
        },
        {
         "line": {
          "color": "rgb(17, 255, 242)"
         },
         "mode": "lines",
         "name": "041",
         "opacity": 0.4,
         "type": "scatter",
         "x": [
          0,
          1000000000000,
          2000000000000,
          3000000000000,
          4000000000000,
          5000000000000,
          6000000000000,
          7000000000000,
          8000000000000,
          9000000000000,
          10000000000000,
          11000000000000,
          12000000000000,
          13000000000000,
          14000000000000,
          15000000000000,
          16000000000000,
          17000000000000,
          18000000000000,
          19000000000000,
          20000000000000,
          21000000000000,
          22000000000000,
          23000000000000,
          24000000000000,
          25000000000000,
          26000000000000,
          27000000000000,
          28000000000000,
          29000000000000,
          30000000000000,
          31000000000000,
          32000000000000,
          33000000000000,
          34000000000000,
          35000000000000
         ],
         "y": {
          "bdata": "NImUBeVr7j+7VnNRVcjyP1k3PJUZ3fI/tWo8Dqnm8j+u/sUafunyP85UrwtN6vI/nEPCR4Pq8j8UgVFXkeryP4ORr9mS6vI/KEEz85Lq8j8iMyoCk+ryP6gHMwuT6vI/5XTrDpPq8j++4qMSk+ryPyFurRWT6vI/BY+iFpPq8j8fsJcXk+ryP3LRjBiT6vI/zL/tGJPq8j9qjhwZk+ryP09dSxmT6vI/UFZ6GZPq8j/hzqkZk+ryP5pH2RmT6vI/fcAIGpPq8j+XJRUak+ryP4KtFRqT6vI/eTUWGpPq8j90CRUak+ryPw+uDhqT6vI/sFIIGpPq8j9O9wEak+ryP69V9xmT6vI/kufoGZPq8j/5x9cZk+ryP74lxRmT6vI/",
          "dtype": "f8"
         }
        },
        {
         "line": {
          "color": "rgb(30, 255, 230)"
         },
         "mode": "lines",
         "name": "042",
         "opacity": 0.4,
         "type": "scatter",
         "x": [
          0,
          1000000000000,
          2000000000000,
          3000000000000,
          4000000000000,
          5000000000000,
          6000000000000,
          7000000000000,
          8000000000000,
          9000000000000,
          10000000000000,
          11000000000000,
          12000000000000,
          13000000000000,
          14000000000000,
          15000000000000,
          16000000000000,
          17000000000000,
          18000000000000,
          19000000000000,
          20000000000000,
          21000000000000,
          22000000000000,
          23000000000000,
          24000000000000,
          25000000000000,
          26000000000000,
          27000000000000,
          28000000000000,
          29000000000000,
          30000000000000,
          31000000000000,
          32000000000000,
          33000000000000,
          34000000000000,
          35000000000000
         ],
         "y": {
          "bdata": "slM5yBRx7j+fGfM83VjzP2L4niHNcfM/FzbCuuB68z961OMWXH3zP1Bay0IGfvM/aWg74C1+8z9qvyfFNn7zP1ru0cY3fvM/wDs1LDh+8z+5JndKOH7zP1sbuWg4fvM/OVqAfjh+8z/zFs2EOH7zP3HUGYs4fvM/s5JmkTh+8z+Y2vqSOH7zP41rwJM4fvM/vPyFlDh+8z/moA2VOH7zP1Y6JJU4fvM/19M6lTh+8z9mbVGVOH7zPw6MiJU4fvM/xjrFlTh+8z+B6QGWOH7zP1xbJJY4fvM/HOgWljh+8z/idAmWOH7zP6kB/JU4fvM/f5XxlTh+8z/treeVOH7zP1vG3ZU4fvM/0XHSlTh+8z8Cg8SVOH7zPziUtpU4fvM/",
          "dtype": "f8"
         }
        },
        {
         "line": {
          "color": "rgb(42, 255, 217)"
         },
         "mode": "lines",
         "name": "043",
         "opacity": 0.4,
         "type": "scatter",
         "x": [
          0,
          1000000000000,
          2000000000000,
          3000000000000,
          4000000000000,
          5000000000000,
          6000000000000,
          7000000000000,
          8000000000000,
          9000000000000,
          10000000000000,
          11000000000000,
          12000000000000,
          13000000000000,
          14000000000000,
          15000000000000,
          16000000000000,
          17000000000000,
          18000000000000,
          19000000000000,
          20000000000000,
          21000000000000,
          22000000000000,
          23000000000000,
          24000000000000,
          25000000000000,
          26000000000000,
          27000000000000,
          28000000000000,
          29000000000000,
          30000000000000,
          31000000000000,
          32000000000000,
          33000000000000,
          34000000000000,
          35000000000000
         ],
         "y": {
          "bdata": "dBOtfsF+7j94tWVNr/jxP0eHBoD3BvI/bwDJKwEO8j/MPR/bTBDyPxY3UXsDEfI/lyQYyzgR8j97MsagRxHyPwro6f1LEfI/viGLTk0R8j8Wdbc3TRHyPw76WNxMEfI/XyL7gEwR8j8BTaUzTBHyP+KaByJMEfI/+A1qEEwR8j9Dpsz+SxHyP/mvAfhLEfI/EBYS9ksR8j8IiiL0SxHyP5oMgPJLEfI/RF4l8ksR8j8usMrxSxHyP1ICcPFLEfI/ePY78UsR8j9CQRnxSxHyPzqM9vBLEfI/5o7P8EsR8j9xVpbwSxHyP3AeXfBLEfI/3+Yj8EsR8j/47P3vSxHyP7iV4O9LEfI/sj7D70sR8j+Qp6jvSxHyP/nDme9LEfI/",
          "dtype": "f8"
         }
        },
        {
         "line": {
          "color": "rgb(55, 255, 204)"
         },
         "mode": "lines",
         "name": "044",
         "opacity": 0.4,
         "type": "scatter",
         "x": [
          0,
          1000000000000,
          2000000000000,
          3000000000000,
          4000000000000,
          5000000000000,
          6000000000000,
          7000000000000,
          8000000000000,
          9000000000000,
          10000000000000,
          11000000000000,
          12000000000000,
          13000000000000,
          14000000000000,
          15000000000000,
          16000000000000,
          17000000000000,
          18000000000000,
          19000000000000,
          20000000000000,
          21000000000000,
          22000000000000,
          23000000000000,
          24000000000000,
          25000000000000,
          26000000000000,
          27000000000000,
          28000000000000,
          29000000000000,
          30000000000000,
          31000000000000,
          32000000000000,
          33000000000000,
          34000000000000,
          35000000000000
         ],
         "y": {
          "bdata": "rFolNO977j8vEVwaneTwPzNq0EplOPU/JjFs/FIO9T/tJBrleQ/1P/7KOzP3D/U/uOPNxiMQ9T+fTqSiGRD1P/lLTSsQEPU/KmbopQkQ9T/vc5EPBhD1P+doP5UDEPU/A8FGhAEQ9T8VkhvZ/w/1PxS5Nzj+D/U/+zWbofwP9T/h56zU+w/1P1C3mg/7D/U/l06rS/oP9T9Cu4X0+Q/1P1489xj6D/U/r4LZPfoP9T8wjixj+g/1P3ELKm77D/U/mD5+7vwP9T8V1TTi/g/1P61+pEwBEPU/IvUdMAQQ9T92/l+SBxD1PyFCm3gLEPU//k441Q4Q9T/gjd0xEhD1P+s7sJYVEPU/3ZwrHRgQ9T96FISiGRD1P96COi4bEPU/",
          "dtype": "f8"
         }
        },
        {
         "line": {
          "color": "rgb(67, 255, 191)"
         },
         "mode": "lines",
         "name": "045",
         "opacity": 0.4,
         "type": "scatter",
         "x": [
          0,
          1000000000000,
          2000000000000,
          3000000000000,
          4000000000000,
          5000000000000,
          6000000000000,
          7000000000000,
          8000000000000,
          9000000000000,
          10000000000000,
          11000000000000,
          12000000000000,
          13000000000000,
          14000000000000,
          15000000000000,
          16000000000000,
          17000000000000,
          18000000000000,
          19000000000000,
          20000000000000,
          21000000000000,
          22000000000000,
          23000000000000,
          24000000000000,
          25000000000000,
          26000000000000,
          27000000000000,
          28000000000000,
          29000000000000,
          30000000000000,
          31000000000000,
          32000000000000,
          33000000000000,
          34000000000000,
          35000000000000
         ],
         "y": {
          "bdata": "KVtpweV07j9Hh73ZdlLzP4lHZ4yRbPM/UpPTvwB28z+ERtY8mnjzP0jzfoJNefM/8ky4P3h58z9rk6GYg3nzP7wzkEmGefM/EyrH/oV58z9NtZ1MhXnzP8CHdZqEefM/CUM6TIR58z8Lq0klhHnzP3o8Wf6DefM/RNwn9oN58z8ftKXug3nzP8+7I+eDefM/Tl3U4oN58z/x9wHig3nzP8elL+GDefM/02Zd4IN58z9wLNrfg3nzP9a5WN+DefM/fE3X3oN58z+qA0Teg3nzP3M3nd2DefM/rWv23IN58z9WoE/cg3nzPwjDMdyDefM/RPIW3IN58z+OIvzbg3nzP/fKBdyDefM/mJRT3IN58z/Xusfcg3nzP5hBYt2DefM/",
          "dtype": "f8"
         }
        },
        {
         "line": {
          "color": "rgb(80, 255, 179)"
         },
         "mode": "lines",
         "name": "046",
         "opacity": 0.4,
         "type": "scatter",
         "x": [
          0,
          1000000000000,
          2000000000000,
          3000000000000,
          4000000000000,
          5000000000000,
          6000000000000,
          7000000000000,
          8000000000000,
          9000000000000,
          10000000000000,
          11000000000000,
          12000000000000,
          13000000000000,
          14000000000000,
          15000000000000,
          16000000000000,
          17000000000000,
          18000000000000,
          19000000000000,
          20000000000000,
          21000000000000,
          22000000000000,
          23000000000000,
          24000000000000,
          25000000000000,
          26000000000000,
          27000000000000,
          28000000000000,
          29000000000000,
          30000000000000,
          31000000000000,
          32000000000000,
          33000000000000,
          34000000000000,
          35000000000000
         ],
         "y": {
          "bdata": "GE2068d37j+815Zz763zPxRcvz35xfM/Nb+hFh7P8z95/hzejtHzP65dDZ0u0vM/GK3rqVTS8z+ho7dyXdLzP3+1KPhf0vM/JwpEKF/S8z882PpQXtLzP8+6poZd0vM/OVTXWl3S8z9I1ggvXdLzPyIPbhRd0vM/0xJsE13S8z/Qq2wSXdLzPxvabxFd0vM/y8V4FV3S8z/ZwA4aXdLzP9ZBph5d0vM/dRhTIl3S8z8qa6EkXdLzP4Ff8CZd0vM/dvU/KV3S8z8iCVApXdLzP6mUISld0vM/AjLzKF3S8z8eSDgoXdLzP5qWLiZd0vM/qN1xI13S8z8vbwIgXdLzPyBfchxd0vM/XRiGGF3S8z8/9zEUXdLzP5Yc7A9d0vM/",
          "dtype": "f8"
         }
        },
        {
         "line": {
          "color": "rgb(92, 255, 166)"
         },
         "mode": "lines",
         "name": "047",
         "opacity": 0.4,
         "type": "scatter",
         "x": [
          0,
          1000000000000,
          2000000000000,
          3000000000000,
          4000000000000,
          5000000000000,
          6000000000000,
          7000000000000,
          8000000000000,
          9000000000000,
          10000000000000,
          11000000000000,
          12000000000000,
          13000000000000,
          14000000000000,
          15000000000000,
          16000000000000,
          17000000000000,
          18000000000000,
          19000000000000,
          20000000000000,
          21000000000000,
          22000000000000,
          23000000000000,
          24000000000000,
          25000000000000,
          26000000000000,
          27000000000000,
          28000000000000,
          29000000000000,
          30000000000000,
          31000000000000,
          32000000000000,
          33000000000000,
          34000000000000,
          35000000000000
         ],
         "y": {
          "bdata": "4HRezxkE7j8d0oo02IzxP5N3iseIk/E/xELpRxCb8T/vBA88Ip7xP7pahFI2n/E/5av45I+f8T8RK7Huq5/xP1QbtcS0n/E/Zn8v47af8T/ar781t5/xP+AGOTO3n/E/rEFPEref8T9jjmXxtp/xPxrrF922n/E/AoPg1baf8T9bHKnOtp/xPya3cce2n/E/d8qVxraf8T91IMnFtp/xP312/MS2n/E//YuDxLaf8T+hjGHEtp/xP0iNP8S2n/E/8Y0dxLaf8T+2CRbEtp/xPwvFDsS2n/E/Y4AHxLaf8T9Gy//Dtp/xP3Ch98O2n/E/mnfvw7af8T/ETefDtp/xPypI6cO2n/E/6Vrrw7af8T+obe3Dtp/xP2l/78O2n/E/",
          "dtype": "f8"
         }
        },
        {
         "line": {
          "color": "rgb(105, 255, 153)"
         },
         "mode": "lines",
         "name": "048",
         "opacity": 0.4,
         "type": "scatter",
         "x": [
          0,
          1000000000000,
          2000000000000,
          3000000000000,
          4000000000000,
          5000000000000,
          6000000000000,
          7000000000000,
          8000000000000,
          9000000000000,
          10000000000000,
          11000000000000,
          12000000000000,
          13000000000000,
          14000000000000,
          15000000000000,
          16000000000000,
          17000000000000,
          18000000000000,
          19000000000000,
          20000000000000,
          21000000000000,
          22000000000000,
          23000000000000,
          24000000000000,
          25000000000000,
          26000000000000,
          27000000000000,
          28000000000000,
          29000000000000,
          30000000000000,
          31000000000000,
          32000000000000,
          33000000000000,
          34000000000000,
          35000000000000
         ],
         "y": {
          "bdata": "wg5U6KHP7T/OnM9T2LLyPwkWXKDpwfI/jurP9T/N8j97LDUCcNHyPzjhZMnG0vI/9jpb0yzT8j/fyHfBS9PyP/GHpplU0/I/jKEqTVbT8j8hokHDVtPyPwOyFJdW0/I/Q9zoalbT8j8FvbVTVtPyPxcTnElW0/I/wnqCP1bT8j8qZls2VtPyP5EcdTRW0/I/h9yOMlbT8j8GpqgwVtPyP0gaRy9W0/I/n3w4LlbT8j+J9CktVtPyP69xISxW0/I/WXZGK1bT8j8SiWsqVtPyP9KpkClW0/I/HHn7KFbT8j8+zZEoVtPyPxklKChW0/I/Zs7IJ1bT8j/tYbgnVtPyP5f1pydW0/I/X4mXJ1bT8j/qZbYnVtPyP8X1EChW0/I/",
          "dtype": "f8"
         }
        },
        {
         "line": {
          "color": "rgb(117, 255, 140)"
         },
         "mode": "lines",
         "name": "049",
         "opacity": 0.4,
         "type": "scatter",
         "x": [
          0,
          1000000000000,
          2000000000000,
          3000000000000,
          4000000000000,
          5000000000000,
          6000000000000,
          7000000000000,
          8000000000000,
          9000000000000,
          10000000000000,
          11000000000000,
          12000000000000,
          13000000000000,
          14000000000000,
          15000000000000,
          16000000000000,
          17000000000000,
          18000000000000,
          19000000000000,
          20000000000000,
          21000000000000,
          22000000000000,
          23000000000000,
          24000000000000,
          25000000000000,
          26000000000000,
          27000000000000,
          28000000000000,
          29000000000000,
          30000000000000,
          31000000000000,
          32000000000000,
          33000000000000,
          34000000000000,
          35000000000000
         ],
         "y": {
          "bdata": "2TebNvpo7j/Z6Qh0vcv0P5NG3peNjfM/WgyUwTec8z+XkQKYFKHzP7bf9ChoovM/Uk5kk8Si8z8/5lRM26LzP1hPzcrfovM/vBgwjuCi8z+2Mk1Z4KLzP+OMQTjgovM/S+oTLeCi8z/PTOYh4KLzP260uBbgovM/pXfVE+Ci8z+mGicR4KLzP+PDeA7govM/SRO+DOCi8z9b6Q8M4KLzP2XCYQvgovM/ZZ6zCuCi8z8mN1QK4KLzPznG9gngovM/sVWZCeCi8z8Vw3kJ4KLzP+5fngngovM/2/zCCeCi8z/gmecJ4KLzPyDqJgrgovM/I+VmCuCi8z+34KYK4KLzPwuI4QrgovM/vk8WC+Ci8z8aGEsL4KLzPxrhfwvgovM/",
          "dtype": "f8"
         }
        },
        {
         "line": {
          "color": "rgb(130, 255, 128)"
         },
         "mode": "lines",
         "name": "050",
         "opacity": 0.4,
         "type": "scatter",
         "x": [
          0,
          1000000000000,
          2000000000000,
          3000000000000,
          4000000000000,
          5000000000000,
          6000000000000,
          7000000000000,
          8000000000000,
          9000000000000,
          10000000000000,
          11000000000000,
          12000000000000,
          13000000000000,
          14000000000000,
          15000000000000,
          16000000000000,
          17000000000000,
          18000000000000,
          19000000000000,
          20000000000000,
          21000000000000,
          22000000000000,
          23000000000000,
          24000000000000,
          25000000000000,
          26000000000000,
          27000000000000,
          28000000000000,
          29000000000000,
          30000000000000,
          31000000000000,
          32000000000000,
          33000000000000,
          34000000000000,
          35000000000000
         ],
         "y": {
          "bdata": "4hsZ066E7j8bagKtSbr1P3ODwLpOxPU/5XDoqJfG9T8ikOkRCsb1P5pDmOdTxfU/yjUF0PDE9T8oK+Tzt8T1Py7f/+ebxPU/uHMyOIfE9T8wigp/gsT1P3JHSAuJxPU/LH5GtJTE9T86cZ81msT1P2kIETOZxPU/AZPxq5DE9T8xsDzThsT1PydvAd99xPU/Q223J3XE9T+Gql6tbMT1P5tHHg5mxPU/lwTcHWHE9T9LIvdFXMT1P0OdCI1XxPU/nCo1ZVXE9T+MfOdAU8T1PxSTHyBRxPU/J0wMZFDE9T9KY0j8UMT1PzJh8ZRRxPU/jDfaMVLE9T+L3o+zVMT1PzQtThdYxPU/N+zcZVzE9T+1fvhAYcT1P16mhWVmxPU/",
          "dtype": "f8"
         }
        },
        {
         "line": {
          "color": "rgb(142, 255, 115)"
         },
         "mode": "lines",
         "name": "051",
         "opacity": 0.4,
         "type": "scatter",
         "x": [
          0,
          1000000000000,
          2000000000000,
          3000000000000,
          4000000000000,
          5000000000000,
          6000000000000,
          7000000000000,
          8000000000000,
          9000000000000,
          10000000000000,
          11000000000000,
          12000000000000,
          13000000000000,
          14000000000000,
          15000000000000,
          16000000000000,
          17000000000000,
          18000000000000,
          19000000000000,
          20000000000000,
          21000000000000,
          22000000000000,
          23000000000000,
          24000000000000,
          25000000000000,
          26000000000000,
          27000000000000,
          28000000000000,
          29000000000000,
          30000000000000,
          31000000000000,
          32000000000000,
          33000000000000,
          34000000000000,
          35000000000000
         ],
         "y": {
          "bdata": "rcz70NnJ7T+rJHHQlNXyPw9GZ+3T5/I/7DMyj0vz8j8AObOqhvfyP95Si8bg+PI/xtSCDEj58j+lfuEsZ/nyPxMDtVVw+fI/Yv0n7nH58j9fQgRbcvnyP9IhBCxy+fI/UW+B/HH58j8jTbvecfnyP1ijUNVx+fI/Ov/ly3H58j/JYHvCcfnyP6KgosFx+fI/3g8YwXH58j8Fgo3AcfnyP0LwT8Bx+fI/eLxqwHH58j+ZjYXAcfnyP6RjoMBx+fI/8pagwHH58j/Y2p/AcfnyP28in8Bx+fI/4MWYwHH58j+H7YvAcfnyP6kWf8Bx+fI/R0FywHH58j/mk1PAcfnyPxNENMBx+fI/m/QUwHH58j95N/O/cfnyP+7CzL9x+fI/",
          "dtype": "f8"
         }
        },
        {
         "line": {
          "color": "rgb(155, 255, 102)"
         },
         "mode": "lines",
         "name": "052",
         "opacity": 0.4,
         "type": "scatter",
         "x": [
          0,
          1000000000000,
          2000000000000,
          3000000000000,
          4000000000000,
          5000000000000,
          6000000000000,
          7000000000000,
          8000000000000,
          9000000000000,
          10000000000000,
          11000000000000,
          12000000000000,
          13000000000000,
          14000000000000,
          15000000000000,
          16000000000000,
          17000000000000,
          18000000000000,
          19000000000000,
          20000000000000,
          21000000000000,
          22000000000000,
          23000000000000,
          24000000000000,
          25000000000000,
          26000000000000,
          27000000000000,
          28000000000000,
          29000000000000,
          30000000000000,
          31000000000000,
          32000000000000,
          33000000000000,
          34000000000000,
          35000000000000
         ],
         "y": {
          "bdata": "tRI5Hsj77T8UMlJ92u3zP4/JXJjg/vM/otWDriEJ9D9XqZhEEgz0P03OFEraDPQ/2kntrRAN9D/fxWmNHg30P/LNYWMhDfQ/XBi75CEN9D86HB60IQ30P2/3lYUhDfQ/+3L/dyEN9D8Rg5BqIQ30P7EnSV0hDfQ/JgaLViEN9D/HC0lVIQ30P/UXB1QhDfQ/xHy0UiEN9D9hMdBPIQ30P+CI9UwhDfQ/RoMkSiEN9D8Ye3JGIQ30P02EA0IhDfQ/EYigPSEN9D9VhVc5IQ30P3oabDYhDfQ/VZ6FMyEN9D/jEKQwIQ30P3S4Sy4hDfQ/+M5mLCEN9D+QpIMqIQ30P0GHqyghDfQ/c6P8JyEN9D+oLdMnIQ30P8wALyghDfQ/",
          "dtype": "f8"
         }
        },
        {
         "line": {
          "color": "rgb(167, 255, 89)"
         },
         "mode": "lines",
         "name": "053",
         "opacity": 0.4,
         "type": "scatter",
         "x": [
          0,
          1000000000000,
          2000000000000,
          3000000000000,
          4000000000000,
          5000000000000,
          6000000000000,
          7000000000000,
          8000000000000,
          9000000000000,
          10000000000000,
          11000000000000,
          12000000000000,
          13000000000000,
          14000000000000,
          15000000000000,
          16000000000000,
          17000000000000,
          18000000000000,
          19000000000000,
          20000000000000,
          21000000000000,
          22000000000000,
          23000000000000,
          24000000000000,
          25000000000000,
          26000000000000,
          27000000000000,
          28000000000000,
          29000000000000,
          30000000000000,
          31000000000000,
          32000000000000,
          33000000000000,
          34000000000000,
          35000000000000
         ],
         "y": {
          "bdata": "LcirVaWB7j/IwYaMkqX1P2X7RScTrPU/9lPY6kOv9T/qIRcnxK/1PyWeP8F4r/U/PSoesjav9T/k4029Ea/1PzF1SUH/rvU/8nks7eKu9T8hJbCp3K71P0di9FXfrvU/GDJ7/uWu9T//iZyB7K71P6EmYIfyrvU/SbMppfWu9T+LL7rQ+K71P2ebEQr8rvU/DghnGvyu9T8Nj3YI+q71Py1rP/v3rvU/+cWv7fWu9T/aBnDG8671P3e7YsHxrvU/xuOH3u+u9T/vqjTc7K71PwsWkzXprvU/GvUwx+Wu9T+EdrSH4q71PxdLhyTfrvU/JPCt7tuu9T+uZSjm2K71P/LE98/WrvU/vwkUVtWu9T8K9b7u0671P5aSn67SrvU/",
          "dtype": "f8"
         }
        },
        {
         "line": {
          "color": "rgb(180, 255, 77)"
         },
         "mode": "lines",
         "name": "054",
         "opacity": 0.4,
         "type": "scatter",
         "x": [
          0,
          1000000000000,
          2000000000000,
          3000000000000,
          4000000000000,
          5000000000000,
          6000000000000,
          7000000000000,
          8000000000000,
          9000000000000,
          10000000000000,
          11000000000000,
          12000000000000,
          13000000000000,
          14000000000000,
          15000000000000,
          16000000000000,
          17000000000000,
          18000000000000,
          19000000000000,
          20000000000000,
          21000000000000,
          22000000000000,
          23000000000000,
          24000000000000,
          25000000000000,
          26000000000000,
          27000000000000,
          28000000000000,
          29000000000000,
          30000000000000,
          31000000000000,
          32000000000000,
          33000000000000,
          34000000000000,
          35000000000000
         ],
         "y": {
          "bdata": "4FPvXwgp7j+wunYKo8TwPwUBUO4fQvQ/ng3Up+BK9D+WjPd74VD0Py9BIBKzUvQ/bXzUvTRT9D9BsqJqTlP0Pwe7zA5aU/Q/8xmhz1hT9D9G8otpV1P0Pz7+1vhXU/Q/w4zixVhT9D9Bbvf4WFP0PxwvdDNZU/Q/sllaaVlT9D+D6FhvWVP0P5CVgHhZU/Q/2WDRhFlT9D+24vqMWVP0P/kPjZJZU/Q/qhtymFlT9D8o8ducWVP0P1xlhJlZU/Q/e+NFlllT9D+FayCTWVP0P0/ew4hZU/Q/fztye1lT9D99jJZuWVP0PypXUGFZU/Q/cmKgUFlT9D8yTmBAWVP0P2cakDBZU/Q/GRwnJVlT9D99mcIbWVP0P3JYhBJZU/Q/",
          "dtype": "f8"
         }
        },
        {
         "line": {
          "color": "rgb(192, 255, 64)"
         },
         "mode": "lines",
         "name": "055",
         "opacity": 0.4,
         "type": "scatter",
         "x": [
          0,
          1000000000000,
          2000000000000,
          3000000000000,
          4000000000000,
          5000000000000,
          6000000000000,
          7000000000000,
          8000000000000,
          9000000000000,
          10000000000000,
          11000000000000,
          12000000000000,
          13000000000000,
          14000000000000,
          15000000000000,
          16000000000000,
          17000000000000,
          18000000000000,
          19000000000000,
          20000000000000,
          21000000000000,
          22000000000000,
          23000000000000,
          24000000000000,
          25000000000000,
          26000000000000,
          27000000000000,
          28000000000000,
          29000000000000,
          30000000000000,
          31000000000000,
          32000000000000,
          33000000000000,
          34000000000000,
          35000000000000
         ],
         "y": {
          "bdata": "3AH7aPsm7j/a34vLDyvxP+aNLDYAL/E/SgKWQjIz8T9Ml4jw4TTxP62/t/F0NfE/SquxsaQ18T8El2RItDXxP6A8A1W4NfE/RWAko7k18T/9VE5+uTXxP/fldVe5NfE/OpCzVbk18T9t11FmuTXxPy4RdWi5NfE/AVh3Xbk18T/iC7VSuTXxPxMvtEi5NfE/CDQbUrk18T8wUphbuTXxP4+JK2W5NfE/CjN2ark18T+PFdhruTXxP90kOm25NfE/tcB3brk18T+T4XRquTXxPyBNdma5NfE/VgN8Yrk18T/Ni/JiuTXxP+WNZ2e5NfE/2Ubga7k18T+JJjdwuTXxP+E6K2+5NfE/Docgbrk18T8LCxdtuTXxP99CCG25NfE/",
          "dtype": "f8"
         }
        },
        {
         "line": {
          "color": "rgb(205, 255, 51)"
         },
         "mode": "lines",
         "name": "056",
         "opacity": 0.4,
         "type": "scatter",
         "x": [
          0,
          1000000000000,
          2000000000000,
          3000000000000,
          4000000000000,
          5000000000000,
          6000000000000,
          7000000000000,
          8000000000000,
          9000000000000,
          10000000000000,
          11000000000000,
          12000000000000,
          13000000000000,
          14000000000000,
          15000000000000,
          16000000000000,
          17000000000000,
          18000000000000,
          19000000000000,
          20000000000000,
          21000000000000,
          22000000000000,
          23000000000000,
          24000000000000,
          25000000000000,
          26000000000000,
          27000000000000,
          28000000000000,
          29000000000000,
          30000000000000,
          31000000000000,
          32000000000000,
          33000000000000,
          34000000000000,
          35000000000000
         ],
         "y": {
          "bdata": "7py+OWGz7j8PEYhAEKLzPyWSTptVvPM/ZHd/WF/F8z8kvmKC2MfzPwt/wbh6yPM/MObau6LI8z9hWLX1q8jzP4ZvLFWsyPM/tZbkLqzI8z9rKx3rq8jzP7nsl7CryPM/YPvNfqvI8z+RPwFzq8jzP+WHNGeryPM/VNRnW6vI8z+N0e9Xq8jzP5EBRFiryPM/+DOYWKvI8z8h+gpZq8jzP9HBAlqryPM/ior6WqvI8z9JVPJbq8jzPyO7IFyryPM/X1TzW6vI8z/a7cVbq8jzP/NapluryPM/9O/CW6vI8z8xhd9bq8jzP6oa/FuryPM/LsLRW6vI8z9rFIdbq8jzP9lmPFuryPM/j5L6WqvI8z/LPd9aq8jzPx7pw1qryPM/",
          "dtype": "f8"
         }
        },
        {
         "line": {
          "color": "rgb(217, 255, 38)"
         },
         "mode": "lines",
         "name": "057",
         "opacity": 0.4,
         "type": "scatter",
         "x": [
          0,
          1000000000000,
          2000000000000,
          3000000000000,
          4000000000000,
          5000000000000,
          6000000000000,
          7000000000000,
          8000000000000,
          9000000000000,
          10000000000000,
          11000000000000,
          12000000000000,
          13000000000000,
          14000000000000,
          15000000000000,
          16000000000000,
          17000000000000,
          18000000000000,
          19000000000000,
          20000000000000,
          21000000000000,
          22000000000000,
          23000000000000,
          24000000000000,
          25000000000000,
          26000000000000,
          27000000000000,
          28000000000000,
          29000000000000,
          30000000000000,
          31000000000000,
          32000000000000,
          33000000000000,
          34000000000000,
          35000000000000
         ],
         "y": {
          "bdata": "80l6kkdi7j95QNzKxgTyP7m1xAAmEvI/tYKojLIZ8j8WI/f7LRzyP6FLpwbwHPI/i1xNuCYd8j+/cVaiNh3yP6J3hn45HfI/vbJI0zkd8j9XaRrkOR3yP+eTDLM5HfI/GgAAgjkd8j/kaLFiOR3yP+ZwDUw5HfI/uVxqNTkd8j9cR6AhOR3yP1UBixs5HfI/x8t1FTkd8j+ypmAPOR3yP86vwA05HfI/ow5ODjkd8j8KcNsOOR3yPzaweg85HfI/NwFwEDkd8j8EU2UROR3yP6GlWhI5HfI/XFEgEzkd8j+Ft84TOR3yP18efRQ5HfI/fjcFFTkd8j+CvNQUOR3yP+ZBpBQ5HfI/qsdzFDkd8j8TQHgUOR3yP5iVlhQ5HfI/",
          "dtype": "f8"
         }
        },
        {
         "line": {
          "color": "rgb(230, 255, 26)"
         },
         "mode": "lines",
         "name": "058",
         "opacity": 0.4,
         "type": "scatter",
         "x": [
          0,
          1000000000000,
          2000000000000,
          3000000000000,
          4000000000000,
          5000000000000,
          6000000000000,
          7000000000000,
          8000000000000,
          9000000000000,
          10000000000000,
          11000000000000,
          12000000000000,
          13000000000000,
          14000000000000,
          15000000000000,
          16000000000000,
          17000000000000,
          18000000000000,
          19000000000000,
          20000000000000,
          21000000000000,
          22000000000000,
          23000000000000,
          24000000000000,
          25000000000000,
          26000000000000,
          27000000000000,
          28000000000000,
          29000000000000,
          30000000000000,
          31000000000000,
          32000000000000,
          33000000000000,
          34000000000000,
          35000000000000
         ],
         "y": {
          "bdata": "71WbixIt7j9TsxbMSBjzP9g+eO7fJfM/oWqvlf4x8z9A4NKV5DXzPxPvj2wMN/M/R32j+Fo38z9Lv+mgcTfzP2EV3fx1N/M/nm2pgnY38z+JcplzdjfzP63xqD12N/M/+j+5B3Y38z82AnfudTfzP5YmiON1N/M/+k2Z2HU38z/hq3fPdTfzP4sQVc91N/M/UqYyz3U38z85bRDPdTfzP75Wjs91N/M/i1Zc0HU38z+UhCrRdTfzPzfZ09F1N/M/GmXE0XU38z9HA7XRdTfzP7+zpdF1N/M/ana/0XU38z+fuu3RdTfzP14CHNJ1N/M/H/Q+0nU38z/UlhPSdTfzP/ckw9F1N/M/T6dN0XU38z9Sq9nQdTfzP+cMa9B1N/M/",
          "dtype": "f8"
         }
        },
        {
         "line": {
          "color": "rgb(242, 255, 13)"
         },
         "mode": "lines",
         "name": "059",
         "opacity": 0.4,
         "type": "scatter",
         "x": [
          0,
          1000000000000,
          2000000000000,
          3000000000000,
          4000000000000,
          5000000000000,
          6000000000000,
          7000000000000,
          8000000000000,
          9000000000000,
          10000000000000,
          11000000000000,
          12000000000000,
          13000000000000,
          14000000000000,
          15000000000000,
          16000000000000,
          17000000000000,
          18000000000000,
          19000000000000,
          20000000000000,
          21000000000000,
          22000000000000,
          23000000000000,
          24000000000000,
          25000000000000,
          26000000000000,
          27000000000000,
          28000000000000,
          29000000000000,
          30000000000000,
          31000000000000,
          32000000000000,
          33000000000000,
          34000000000000,
          35000000000000
         ],
         "y": {
          "bdata": "33AcK8oA7j+ixGlZMcz0Px5yaxVzz/Q/HTbrroLV9D/+YqvsJtf0P4JWbwLB1/Q/mV39aw/Y9D+o6cJpDdj0PwLf7g/61/Q/Rypl1PHX9D+QvJZ17Nf0PydlacHo1/Q/dcOYvebX9D8aZ4RZ5tf0P9+nj1fl1/Q/+0ZlsuTX9D/mr7xW5Nf0PyQ8kOzj1/Q//hmSlePX9D81HlNP49f0Px5Hnf3i1/Q/H5rro+LX9D9OtjxZ4tf0P50UNwPi1/Q/YRpD8ODX9D+gzef639f0P2EuJSPf1/Q/AQh1Ld7X9D+X/TMv3df0P6PxTk7c1/Q/LelsjtvX9D91epUD29f0Pzmu0Yva1/Q/eIQhJ9rX9D8yjHXD2df0PwOh4GDZ1/Q/",
          "dtype": "f8"
         }
        },
        {
         "line": {
          "color": "rgb(255, 255, 0)"
         },
         "mode": "lines",
         "name": "060",
         "opacity": 0.4,
         "type": "scatter",
         "x": [
          0,
          1000000000000,
          2000000000000,
          3000000000000,
          4000000000000,
          5000000000000,
          6000000000000,
          7000000000000,
          8000000000000,
          9000000000000,
          10000000000000,
          11000000000000,
          12000000000000,
          13000000000000,
          14000000000000,
          15000000000000,
          16000000000000,
          17000000000000,
          18000000000000,
          19000000000000,
          20000000000000,
          21000000000000,
          22000000000000,
          23000000000000,
          24000000000000,
          25000000000000,
          26000000000000,
          27000000000000,
          28000000000000,
          29000000000000,
          30000000000000,
          31000000000000,
          32000000000000,
          33000000000000,
          34000000000000,
          35000000000000
         ],
         "y": {
          "bdata": "BVZL9Zp07j/96mkQ6Xz1P/vkkLcwf/U/Rqyx0ziE9T9SC8dje4X1P+sbMqTChfU/yD0mvtOF9T9LuN+M1YX1P4TLeZrVhfU/IhMPA9WF9T9RogNx1IX1P9Jxju/ThfU/UR6YfNOF9T9zlyYL04X1P9yvxpzShfU/YPiyftKF9T/AIflg0oX1P/krmUPShfU/2S+6NdKF9T+8zPk10oX1PwqZOTbShfU/sJfDNtKF9T8bEytG0oX1P/UYsVXShfU/OKlVZdKF9T8wtFR60oX1PxhDXZTShfU/3vGbrtKF9T/EHAfJ0oX1PxgIt+HShfU/0K6V+tKF9T/sEKMT04X1P464BifThfU/wM8VNdOF9T/bXzJD04X1PyOEJVHThfU/",
          "dtype": "f8"
         }
        },
        {
         "line": {
          "color": "rgb(255, 242, 0)"
         },
         "mode": "lines",
         "name": "061",
         "opacity": 0.4,
         "type": "scatter",
         "x": [
          0,
          1000000000000,
          2000000000000,
          3000000000000,
          4000000000000,
          5000000000000,
          6000000000000,
          7000000000000,
          8000000000000,
          9000000000000,
          10000000000000,
          11000000000000,
          12000000000000,
          13000000000000,
          14000000000000,
          15000000000000,
          16000000000000,
          17000000000000,
          18000000000000,
          19000000000000,
          20000000000000,
          21000000000000,
          22000000000000,
          23000000000000,
          24000000000000,
          25000000000000,
          26000000000000,
          27000000000000,
          28000000000000,
          29000000000000,
          30000000000000,
          31000000000000,
          32000000000000,
          33000000000000,
          34000000000000,
          35000000000000
         ],
         "y": {
          "bdata": "ti+juEpe7j/7U3v4HlH0P1PcPDSFaPQ/LKvWh0Jw9D9XHEPjUnL0P5WHtOvYcvQ/oTAgWvhy9D9LkayE/3L0P3GP5GwBc/Q/V/5c0ABz9D8II+MlAHP0P6UacHv/cvQ/jXZIRP9y9D/FIpcn/3L0P6155gr/cvQ/jiG7+v5y9D85pwIG/3L0P/wYTxH/cvQ/2nagHP9y9D+ER9Mo/3L0PysgPTX/cvQ/cVWrQf9y9D/TrgVN/3L0PwD4/FX/cvQ/w6j2Xv9y9D8ZwfJn/3L0P5IhkW3/cvQ/rvRpcv9y9D88Z0N3/3L0P0sv3Xr/cvQ/VzBZev9y9D8LLL13/3L0P7aBCXP/cvQ/O/WAbP9y9D/I4hNk/3L0P2UXuFn/cvQ/",
          "dtype": "f8"
         }
        },
        {
         "line": {
          "color": "rgb(254, 230, 0)"
         },
         "mode": "lines",
         "name": "062",
         "opacity": 0.4,
         "type": "scatter",
         "x": [
          0,
          1000000000000,
          2000000000000,
          3000000000000,
          4000000000000,
          5000000000000,
          6000000000000,
          7000000000000,
          8000000000000,
          9000000000000,
          10000000000000,
          11000000000000,
          12000000000000,
          13000000000000,
          14000000000000,
          15000000000000,
          16000000000000,
          17000000000000,
          18000000000000,
          19000000000000,
          20000000000000,
          21000000000000,
          22000000000000,
          23000000000000,
          24000000000000,
          25000000000000,
          26000000000000,
          27000000000000,
          28000000000000,
          29000000000000,
          30000000000000,
          31000000000000,
          32000000000000,
          33000000000000,
          34000000000000,
          35000000000000
         ],
         "y": {
          "bdata": "OxB/kjl17j9jMiSq0CHxP1dkFS8rIvE/tL712fck8T9R9lHHGibxP4ZR6g1/JvE/WtpYIJ0m8T9dGor7qCbxPx7DpWivJvE/Ff8t6a8m8T9qmeMlrybxP3zXRy+vJvE/K5RID68m8T/GjIxnribxPwyjKBitJvE/KtK62awm8T93cS86rSbxPzAisEatJvE/SXq1Q60m8T9viv9BrSbxP0GTY0OtJvE/GBgHRq0m8T9o65xArSbxP4kLNDutJvE/eXjMNa0m8T8IghA2rSbxP0fYvDmtJvE/L1hxPa0m8T8r4MpArSbxP2wff0GtJvE/9jk8Qq0m8T/ILwJDrSbxP2aCXz+tJvE/G5EqOa0m8T8tygwzrSbxP5VKHSutJvE/",
          "dtype": "f8"
         }
        },
        {
         "line": {
          "color": "rgb(254, 217, 0)"
         },
         "mode": "lines",
         "name": "063",
         "opacity": 0.4,
         "type": "scatter",
         "x": [
          0,
          1000000000000,
          2000000000000,
          3000000000000,
          4000000000000,
          5000000000000,
          6000000000000,
          7000000000000,
          8000000000000,
          9000000000000,
          10000000000000,
          11000000000000,
          12000000000000,
          13000000000000,
          14000000000000,
          15000000000000,
          16000000000000,
          17000000000000,
          18000000000000,
          19000000000000,
          20000000000000,
          21000000000000,
          22000000000000,
          23000000000000,
          24000000000000,
          25000000000000,
          26000000000000,
          27000000000000,
          28000000000000,
          29000000000000,
          30000000000000,
          31000000000000,
          32000000000000,
          33000000000000,
          34000000000000,
          35000000000000
         ],
         "y": {
          "bdata": "4iPTHQx+7j/wa4Edgtj1PzLUVUTI4vU/Tq8emM7m9T9xTVjTsOf1P0nwmBfX5/U/IyYa39rn9T8tgpEx1ef1P0jUDbfO5/U/8MC0q8zn9T+qOzptzef1Pwp4/6jP5/U/6EcZLNDn9T9KOsWx0Of1P4g999XQ5/U//xk3DtDn9T8IfF5Pz+f1P8qZTDzO5/U/qsjG1czn9T8DqRuKy+f1P9s6S1nK5/U/egHVBMnn9T+hvKrOx+f1PxiA5rjG5/U/ZJZVusXn9T9KT63LxOf1P/iHKPXD5/U/cEDHNsPn9T/L6jamwuf1P5JvyyDC5/U/cUGapcHn9T8OYbhQwef1PxvSfB/B5/U/PanD78Dn9T985ozBwOf1PxNOPtrA5/U/",
          "dtype": "f8"
         }
        },
        {
         "line": {
          "color": "rgb(254, 204, 0)"
         },
         "mode": "lines",
         "name": "064",
         "opacity": 0.4,
         "type": "scatter",
         "x": [
          0,
          1000000000000,
          2000000000000,
          3000000000000,
          4000000000000,
          5000000000000,
          6000000000000,
          7000000000000,
          8000000000000,
          9000000000000,
          10000000000000,
          11000000000000,
          12000000000000,
          13000000000000,
          14000000000000,
          15000000000000,
          16000000000000,
          17000000000000,
          18000000000000,
          19000000000000,
          20000000000000,
          21000000000000,
          22000000000000,
          23000000000000,
          24000000000000,
          25000000000000,
          26000000000000,
          27000000000000,
          28000000000000,
          29000000000000,
          30000000000000,
          31000000000000,
          32000000000000,
          33000000000000,
          34000000000000,
          35000000000000
         ],
         "y": {
          "bdata": "xwnQJVgy7j9/rAxhNBzzPygcYMXDMfM/2PCV4Yk98z/b/bTFLkHzP8Bdxxg1QvM/Z/kPwXtC8z8lL+e8jkLzPxGD2SeSQvM/jkLh0ZJC8z9pU8l/kkLzP4yFsi2SQvM/9E0DGpJC8z9dx4sGkkLzP/NJFPORQvM/D2CY6JFC8z+ZVTjnkULzP9OD2OWRQvM/uup45JFC8z/lKSXlkULzP81j0+WRQvM/Y8WB5pFC8z/sKt7mkULzP3hc5+aRQvM/3J3w5pFC8z8W7/nmkULzP92IU+eRQvM/zGut55FC8z9MUAfokULzPxDJTeiRQvM/kupx6JFC8z+EfoLokULzP+OMf+iRQvM/IqKZ6JFC8z9ODLbokULzP2W11OiRQvM/",
          "dtype": "f8"
         }
        },
        {
         "line": {
          "color": "rgb(254, 191, 0)"
         },
         "mode": "lines",
         "name": "065",
         "opacity": 0.4,
         "type": "scatter",
         "x": [
          0,
          1000000000000,
          2000000000000,
          3000000000000,
          4000000000000,
          5000000000000,
          6000000000000,
          7000000000000,
          8000000000000,
          9000000000000,
          10000000000000,
          11000000000000,
          12000000000000,
          13000000000000,
          14000000000000,
          15000000000000,
          16000000000000,
          17000000000000,
          18000000000000,
          19000000000000,
          20000000000000,
          21000000000000,
          22000000000000,
          23000000000000,
          24000000000000,
          25000000000000,
          26000000000000,
          27000000000000,
          28000000000000,
          29000000000000,
          30000000000000,
          31000000000000,
          32000000000000,
          33000000000000,
          34000000000000,
          35000000000000
         ],
         "y": {
          "bdata": "vzMh1S5k7j/tAjD5joLxP0B7O/5rifE//iaiuPCO8T+OFcYsE5HxPwIhQ2HKkfE/6hMH7AWS8T+X3ux3FpLxP1Hs5nQckvE/X94B2RyS8T+fuZ/CHJLxP70RMwgdkvE/WgZIOx2S8T9YvxM0HZLxP01TIy0dkvE/M8J2Jh2S8T/TikgUHZLxP7S1Fv4ckvE/M8Hp5xyS8T8LTKXZHJLxP2097uMckvE/+zU87hyS8T+yNY/4HJLxPw05BfgckvE/+MO68xyS8T8wWXHvHJLxP5PLe+wckvE/rVKk7RyS8T8V7MzuHJLxP8+X9e8ckvE/ymSB8RyS8T8MjC/zHJLxP+bb3fQckvE/man39RyS8T9qP0P1HJLxP73ijvQckvE/",
          "dtype": "f8"
         }
        },
        {
         "line": {
          "color": "rgb(254, 179, 0)"
         },
         "mode": "lines",
         "name": "066",
         "opacity": 0.4,
         "type": "scatter",
         "x": [
          0,
          1000000000000,
          2000000000000,
          3000000000000,
          4000000000000,
          5000000000000,
          6000000000000,
          7000000000000,
          8000000000000,
          9000000000000,
          10000000000000,
          11000000000000,
          12000000000000,
          13000000000000,
          14000000000000,
          15000000000000,
          16000000000000,
          17000000000000,
          18000000000000,
          19000000000000,
          20000000000000,
          21000000000000,
          22000000000000,
          23000000000000,
          24000000000000,
          25000000000000,
          26000000000000,
          27000000000000,
          28000000000000,
          29000000000000,
          30000000000000,
          31000000000000,
          32000000000000,
          33000000000000,
          34000000000000,
          35000000000000
         ],
         "y": {
          "bdata": "np/Z/c3o7T8phkF5ETvzP4UXz7bhSPM/MvrlyjRU8z+EQDF791fzP0qAENAhWfM/6lhaK3ZZ8z+VpEZKj1nzPz7+wACVWfM/RKhKbJZZ8z+ghaJcllnzPzVjoC+WWfM/Fv53FZZZ8z+7AXEJllnzP9VMef2VWfM/E48p8pVZ8z9E+PbulVnzP5m8xOuVWfM/EtyS6JVZ8z8zCIbllVnzPxSLmeKVWfM/GrWy35VZ8z+WsNjclVnzPzlSZdqVWfM/LFn315VZ8z9oxY7VlVnzP84gbdOVWfM/AQyA0ZVZ8z8OIJXPlVnzP9ohy82VWfM/8JGjzZVZ8z//lnzNlVnzPwYxVs2VWfM/hFDmzZVZ8z8w2QDPlVnzP63EG9CVWfM/",
          "dtype": "f8"
         }
        },
        {
         "line": {
          "color": "rgb(253, 166, 0)"
         },
         "mode": "lines",
         "name": "067",
         "opacity": 0.4,
         "type": "scatter",
         "x": [
          0,
          1000000000000,
          2000000000000,
          3000000000000,
          4000000000000,
          5000000000000,
          6000000000000,
          7000000000000,
          8000000000000,
          9000000000000,
          10000000000000,
          11000000000000,
          12000000000000,
          13000000000000,
          14000000000000,
          15000000000000,
          16000000000000,
          17000000000000,
          18000000000000,
          19000000000000,
          20000000000000,
          21000000000000,
          22000000000000,
          23000000000000,
          24000000000000,
          25000000000000,
          26000000000000,
          27000000000000,
          28000000000000,
          29000000000000,
          30000000000000,
          31000000000000,
          32000000000000,
          33000000000000,
          34000000000000,
          35000000000000
         ],
         "y": {
          "bdata": "dU8s6h1K7j/jRME0Z2j1P+UBaUrOb/U/fApSvhF39T8DDZ3/yHj1P+LQ5a86d/U/1b12TYh79T/4/KlLOXz1P3NTY3mdfPU/1U1pSAF99T9KjGs9T331P1l1IsaUffU/1hXBd7199T/8VthxwH31P5AxhRq5ffU/wB4YDLl99T9KAbH7un31Pwa2zX++ffU/hE6Qi7199T/7Dh3dvH31P/ttRpG8ffU/tOMkZr199T8s0TKLvn31P8/B8cG/ffU/yDKqNcB99T8QI6/mwH31P6OSANXBffU/NL8j2MJ99T+Ql8Huw331PylTlSbFffU/qblNaMZ99T/+sRhcx331P1PV3FvIffU/sSOaZ8l99T8iKCY9yn31P7R7AtLKffU/",
          "dtype": "f8"
         }
        },
        {
         "line": {
          "color": "rgb(253, 153, 0)"
         },
         "mode": "lines",
         "name": "068",
         "opacity": 0.4,
         "type": "scatter",
         "x": [
          0,
          1000000000000,
          2000000000000,
          3000000000000,
          4000000000000,
          5000000000000,
          6000000000000,
          7000000000000,
          8000000000000,
          9000000000000,
          10000000000000,
          11000000000000,
          12000000000000,
          13000000000000,
          14000000000000,
          15000000000000,
          16000000000000,
          17000000000000,
          18000000000000,
          19000000000000,
          20000000000000,
          21000000000000,
          22000000000000,
          23000000000000,
          24000000000000,
          25000000000000,
          26000000000000,
          27000000000000,
          28000000000000,
          29000000000000,
          30000000000000,
          31000000000000,
          32000000000000,
          33000000000000,
          34000000000000,
          35000000000000
         ],
         "y": {
          "bdata": "tUvHn+Zi7j/SWcNaZ5byP0+lQXJkqvI/XjSXT1C08j+h+mxza7fyP2XB80BMuPI/05G8fI248j9Qeh0YnbjyP6gS/eCguPI/fJJx8qC48j+lU+nGoLjyP/u+r7aguPI/VYYoqaC48j/+ix6noLjyP7CSFKWguPI/Z5oKo6C48j+J9e+hoLjyP4PzlaGguPI/tfE7oaC48j/HcOagoLjyP0nA36CguPI/zw/ZoKC48j9dX9KgoLjyP80dxqCguPI/IWG1oKC48j90pKSgoLjyP6ESlKCguPI/zm6GoKC48j8Fy3igoLjyP0Una6CguPI/Pu5coKC48j8RPU6goLjyP+6LP6CguPI/RCAxoKC48j8FdCegoLjyP8fHHaCguPI/",
          "dtype": "f8"
         }
        },
        {
         "line": {
          "color": "rgb(253, 140, 0)"
         },
         "mode": "lines",
         "name": "069",
         "opacity": 0.4,
         "type": "scatter",
         "x": [
          0,
          1000000000000,
          2000000000000,
          3000000000000,
          4000000000000,
          5000000000000,
          6000000000000,
          7000000000000,
          8000000000000,
          9000000000000,
          10000000000000,
          11000000000000,
          12000000000000,
          13000000000000,
          14000000000000,
          15000000000000,
          16000000000000,
          17000000000000,
          18000000000000,
          19000000000000,
          20000000000000,
          21000000000000,
          22000000000000,
          23000000000000,
          24000000000000,
          25000000000000,
          26000000000000,
          27000000000000,
          28000000000000,
          29000000000000,
          30000000000000,
          31000000000000,
          32000000000000,
          33000000000000,
          34000000000000,
          35000000000000
         ],
         "y": {
          "bdata": "MvvlVcR+7j/x/RC79pv0P5OZefvDsfQ/RSyi9qW49D/S6ldqa7r0P0XTvinhuvQ/BjJo2Pu69D+bIZ3/ALv0P1GA91oBu/Q/ONXmYAG79D9RJBpiAbv0P2tZUWMBu/Q/h3SMZAG79D8DqEVnAbv0P/NdAGoBu/Q/Y+m7bAG79D8VYp9vAbv0Pw6IrHIBu/Q/SXq8dQG79D/LOM94Abv0P1jaxn0Bu/Q/1HXCggG79D+vL8GHAbv0PwU4/YsBu/Q/4Jx0jwG79D9vae6SAbv0P7CdapYBu/Q/Qa2rmAG79D+NA+2aAbv0P+EwL50Bu/Q/zs2AngG79D+Tnd+eAbv0PxOUPp8Bu/Q/ULGdnwG79D8KTI2eAbv0P5zp2JwBu/Q/",
          "dtype": "f8"
         }
        },
        {
         "line": {
          "color": "rgb(252, 128, 0)"
         },
         "mode": "lines",
         "name": "070",
         "opacity": 0.4,
         "type": "scatter",
         "x": [
          0,
          1000000000000,
          2000000000000,
          3000000000000,
          4000000000000,
          5000000000000,
          6000000000000,
          7000000000000,
          8000000000000,
          9000000000000,
          10000000000000,
          11000000000000,
          12000000000000,
          13000000000000,
          14000000000000,
          15000000000000,
          16000000000000,
          17000000000000,
          18000000000000,
          19000000000000,
          20000000000000,
          21000000000000,
          22000000000000,
          23000000000000,
          24000000000000,
          25000000000000,
          26000000000000,
          27000000000000,
          28000000000000,
          29000000000000,
          30000000000000,
          31000000000000,
          32000000000000,
          33000000000000,
          34000000000000,
          35000000000000
         ],
         "y": {
          "bdata": "zmCIIJB87j8/tdK5x5/yP7hHEOl5tfI/bGCl8Oa98j93X11/acDyP2r0n8AXwfI/LG3LuEfB8j8pbhylUsHyPxT3LKpUwfI/gf+Wv1TB8j9Z0V9jVMHyP643+gtUwfI/7yOQ91PB8j8zQybjU8HyP3SVvM5TwfI/VasyxlPB8j/B0bnGU8HyPyFjQcdTwfI/6FTXx1PB8j+wvi/JU8HyP1JHiMpTwfI/2O7gy1PB8j8y5JLMU8HyPw2HxcxTwfI/4C74zFPB8j/0SCrNU8HyP99rVM1TwfI/B49+zVPB8j9tsqjNU8HyP4HJs81TwfI/5BmSzVPB8j/AjVXNU8HyPyMH/sxTwfI//7qIzFPB8j+kSffLU8HyP5+3SctTwfI/",
          "dtype": "f8"
         }
        },
        {
         "line": {
          "color": "rgb(252, 115, 0)"
         },
         "mode": "lines",
         "name": "071",
         "opacity": 0.4,
         "type": "scatter",
         "x": [
          0,
          1000000000000,
          2000000000000,
          3000000000000,
          4000000000000,
          5000000000000,
          6000000000000,
          7000000000000,
          8000000000000,
          9000000000000,
          10000000000000,
          11000000000000,
          12000000000000,
          13000000000000,
          14000000000000,
          15000000000000,
          16000000000000,
          17000000000000,
          18000000000000,
          19000000000000,
          20000000000000,
          21000000000000,
          22000000000000,
          23000000000000,
          24000000000000,
          25000000000000,
          26000000000000,
          27000000000000,
          28000000000000,
          29000000000000,
          30000000000000,
          31000000000000,
          32000000000000,
          33000000000000,
          34000000000000,
          35000000000000
         ],
         "y": {
          "bdata": "JBg0Kl2J7j+ARxCwsqXzPzy6pGGOwPM/VgEvQWDJ8z+blyM1v8vzP18nH3tZzPM/7NDJtn3M8z+m0prphczzPzQdvVCIzPM/dn/DlIfM8z/Dp4fIhszzPwMKTvyFzPM/AqQewIXM8z9Ua3uYhczzPzKD2HCFzPM/JgjYWIXM8z8f5uFahczzP76k7FyFzPM/BET4XoXM8z9nnkdihczzP1KUxWWFzPM/QxJEaYXM8z9HXjFshczzPwZGLG6FzPM/QWcncIXM8z/0wSJyhczzP2Fp5nKFzPM/qJx9c4XM8z+Q1xR0hczzP2dAPHSFzPM/FJk/c4XM8z9uJqlxhczzP5EDeW+FzPM/o3LqbIXM8z/t3+dphczzP4L9amaFzPM/",
          "dtype": "f8"
         }
        },
        {
         "line": {
          "color": "rgb(252, 102, 0)"
         },
         "mode": "lines",
         "name": "072",
         "opacity": 0.4,
         "type": "scatter",
         "x": [
          0,
          1000000000000,
          2000000000000,
          3000000000000,
          4000000000000,
          5000000000000,
          6000000000000,
          7000000000000,
          8000000000000,
          9000000000000,
          10000000000000,
          11000000000000,
          12000000000000,
          13000000000000,
          14000000000000,
          15000000000000,
          16000000000000,
          17000000000000,
          18000000000000,
          19000000000000,
          20000000000000,
          21000000000000,
          22000000000000,
          23000000000000,
          24000000000000,
          25000000000000,
          26000000000000,
          27000000000000,
          28000000000000,
          29000000000000,
          30000000000000,
          31000000000000,
          32000000000000,
          33000000000000,
          34000000000000,
          35000000000000
         ],
         "y": {
          "bdata": "yLkTN48J7j/n78F+Ixn1PxQaPu7XGfU/j7i59tcf9T9chkaI2SH1P+nyJhZhIvU/dIEHUnoi9T+7O1LeeSL1PxZphb1zIvU/Hs0dh20i9T8uaVP+ayL1P6WjrfdrIvU/SDUWKmwi9T/au/UbbCL1P2BF11hrIvU/ELe39mki9T/EBllGaSL1P+t5c3hoIvU/YCX/qGci9T//GNRnZyL1P6u7DWZnIvU/FKgQl2ci9T+1JpVmZyL1P+yL+DhnIvU/sNc6Dmci9T+fPWePZiL1P7VDMuRlIvU/RcUTSWUi9T/t8nuxZCL1P60l4L5jIvU/NarV5WIi9T+DgFwmYiL1P386gDNhIvU/CWDcJmAi9T8sgJMzXyL1P16rrlReIvU/",
          "dtype": "f8"
         }
        },
        {
         "line": {
          "color": "rgb(252, 89, 0)"
         },
         "mode": "lines",
         "name": "073",
         "opacity": 0.4,
         "type": "scatter",
         "x": [
          0,
          1000000000000,
          2000000000000,
          3000000000000,
          4000000000000,
          5000000000000,
          6000000000000,
          7000000000000,
          8000000000000,
          9000000000000,
          10000000000000,
          11000000000000,
          12000000000000,
          13000000000000,
          14000000000000,
          15000000000000,
          16000000000000,
          17000000000000,
          18000000000000,
          19000000000000,
          20000000000000,
          21000000000000,
          22000000000000,
          23000000000000,
          24000000000000,
          25000000000000,
          26000000000000,
          27000000000000,
          28000000000000,
          29000000000000,
          30000000000000,
          31000000000000,
          32000000000000,
          33000000000000,
          34000000000000,
          35000000000000
         ],
         "y": {
          "bdata": "kjefdFI67j+q7URb4qbwP/+hLwnwpPA/2l8jJdCl8D/j6rPOEqbwPwcCnpdmpvA/B9M75Fqm8D9cjNUZZKbwP8TwZWVhpvA/ZkkPp2ym8D8LUZ1BaabwP1ePOuhfpvA/RdzTHGSm8D9TYm/baabwPxerW+JnpvA/ZOmepWSm8D80leN3ZabwP8/aWNZmpvA/4R1SMGam8D9HUhEOZqbwP3l+5v9lpvA/zyP6w2Wm8D8lQSbTZabwP4g1pgRmpvA/+Y/7C2am8D/CBvUZZqbwP6rL6yZmpvA/uK4VGWam8D+gdYRTZqbwPx/tFB1mpvA/NOUKEmam8D96P9gdZqbwP9xtdQ1mpvA/VTSm+GWm8D8XyeAeZqbwP4xs6LFlpvA/",
          "dtype": "f8"
         }
        },
        {
         "line": {
          "color": "rgb(251, 77, 0)"
         },
         "mode": "lines",
         "name": "074",
         "opacity": 0.4,
         "type": "scatter",
         "x": [
          0,
          1000000000000,
          2000000000000,
          3000000000000,
          4000000000000,
          5000000000000,
          6000000000000,
          7000000000000,
          8000000000000,
          9000000000000,
          10000000000000,
          11000000000000,
          12000000000000,
          13000000000000,
          14000000000000,
          15000000000000,
          16000000000000,
          17000000000000,
          18000000000000,
          19000000000000,
          20000000000000,
          21000000000000,
          22000000000000,
          23000000000000,
          24000000000000,
          25000000000000,
          26000000000000,
          27000000000000,
          28000000000000,
          29000000000000,
          30000000000000,
          31000000000000,
          32000000000000,
          33000000000000,
          34000000000000,
          35000000000000
         ],
         "y": {
          "bdata": "48suavOY7j9FXZjB6cHzPzyMVWYp3fM/8qjLG9nl8z+WKMDOLejzP9+vWjbE6PM/Hf3Dtuno8z9EBgUr8ejzP0WvgnXx6PM/NoZiQvHo8z+zXqMA8ejzP/rU5L7w6PM/aXhjmfDo8z/ZKdeM8OjzP0rmSoDw6PM/+qomdPDo8z+uW8d08OjzP4UbaHXw6PM/g+oIdvDo8z+n7dF28OjzP4R9vnfw6PM/oh+rePDo8z8OrYh58OjzP8b6iXjw6PM/olGLd/Do8z+ksYx28OjzP5jD7HXw6PM/WYWgdfDo8z8HTFR18OjzPxldA3Xw6PM/y8sddPDo8z8MOzhz8OjzP9yqUnLw6PM/H836cfDo8z88LCBy8OjzP/2LRXLw6PM/",
          "dtype": "f8"
         }
        },
        {
         "line": {
          "color": "rgb(251, 64, 0)"
         },
         "mode": "lines",
         "name": "075",
         "opacity": 0.4,
         "type": "scatter",
         "x": [
          0,
          1000000000000,
          2000000000000,
          3000000000000,
          4000000000000,
          5000000000000,
          6000000000000,
          7000000000000,
          8000000000000,
          9000000000000,
          10000000000000,
          11000000000000,
          12000000000000,
          13000000000000,
          14000000000000,
          15000000000000,
          16000000000000,
          17000000000000,
          18000000000000,
          19000000000000,
          20000000000000,
          21000000000000,
          22000000000000,
          23000000000000,
          24000000000000,
          25000000000000,
          26000000000000,
          27000000000000,
          28000000000000,
          29000000000000,
          30000000000000,
          31000000000000,
          32000000000000,
          33000000000000,
          34000000000000,
          35000000000000
         ],
         "y": {
          "bdata": "I5OynPdR7j9OkLTPSCryP1enejZ/O/I/CNoWlrFE8j8EffJn4UfyP9ZFHO7aSPI/2+i72yVJ8j+XidT3OUnyP4/VrJ4+SfI/7QmpLj9J8j9j0XBXP0nyP24nZHM/SfI/MUATej9J8j+yWcKAP0nyP/NzcYc/SfI/iSfViT9J8j+F3gWLP0nyP6SVNow/SfI/j80PjT9J8j+b7wmNP0nyP7MRBI0/SfI/zzP+jD9J8j/ndh+NP0nyPwqnS40/SfI/Mdd3jT9J8j+RC5uNP0nyP2VYp40/SfI/OaWzjT9J8j8Q8r+NP0nyP5oozo0/SfI/5OfcjT9J8j80p+uNP0nyP5fO940/SfI/QVn9jT9J8j/r4wKOP0nyP5duCI4/SfI/",
          "dtype": "f8"
         }
        },
        {
         "line": {
          "color": "rgb(251, 51, 0)"
         },
         "mode": "lines",
         "name": "076",
         "opacity": 0.4,
         "type": "scatter",
         "x": [
          0,
          1000000000000,
          2000000000000,
          3000000000000,
          4000000000000,
          5000000000000,
          6000000000000,
          7000000000000,
          8000000000000,
          9000000000000,
          10000000000000,
          11000000000000,
          12000000000000,
          13000000000000,
          14000000000000,
          15000000000000,
          16000000000000,
          17000000000000,
          18000000000000,
          19000000000000,
          20000000000000,
          21000000000000,
          22000000000000,
          23000000000000,
          24000000000000,
          25000000000000,
          26000000000000,
          27000000000000,
          28000000000000,
          29000000000000,
          30000000000000,
          31000000000000,
          32000000000000,
          33000000000000,
          34000000000000,
          35000000000000
         ],
         "y": {
          "bdata": "SSW1S/VT7j/rzjxorOn0PxoN/xHy9/Q/0Jrzz7r+9D9+5/j2jAD1P7G6SG0FAfU/EmQPSiQB9T/k7lEDKgH1P8ttpCArAfU/POPA5yoB9T+5C8atKgH1P2RpUJ8qAfU/PxYgkioB9T9yB/CEKgH1P+//oXwqAfU/Cg7MeSoB9T9OIfZ2KgH1P7w5IHQqAfU/GeKScyoB9T+lmBZzKgH1P0dPmnIqAfU/GkVGcioB9T/TUx9yKgH1P+dm+HEqAfU/V37RcSoB9T8k6jRyKgH1PyxqnHIqAfU/dfUDcyoB9T/zDW5zKgH1P7oC23MqAfU/XQVIdCoB9T/eFbV0KgH1P1CQFXUqAfU/D7l1dSoB9T9+7tV1KgH1P/xdJnYqAfU/",
          "dtype": "f8"
         }
        },
        {
         "line": {
          "color": "rgb(251, 38, 0)"
         },
         "mode": "lines",
         "name": "077",
         "opacity": 0.4,
         "type": "scatter",
         "x": [
          0,
          1000000000000,
          2000000000000,
          3000000000000,
          4000000000000,
          5000000000000,
          6000000000000,
          7000000000000,
          8000000000000,
          9000000000000,
          10000000000000,
          11000000000000,
          12000000000000,
          13000000000000,
          14000000000000,
          15000000000000,
          16000000000000,
          17000000000000,
          18000000000000,
          19000000000000,
          20000000000000,
          21000000000000,
          22000000000000,
          23000000000000,
          24000000000000,
          25000000000000,
          26000000000000,
          27000000000000,
          28000000000000,
          29000000000000,
          30000000000000,
          31000000000000,
          32000000000000,
          33000000000000,
          34000000000000,
          35000000000000
         ],
         "y": {
          "bdata": "pK6ktGCM7j82dtz5eHXzPwndxbaLjPM/TbKYGXeV8z8OEYnP8pfzP3qWOFaamPM/y4P6RsOY8z9CvdR1y5jzP531mK7MmPM/JrbpY8yY8z+i1ag5zJjzP+o2RCHMmPM/+NoXGsyY8z+cpz0WzJjzP0R3YxLMmPM/rZiMD8yY8z9y3rAOzJjzPzkk1Q3MmPM/A2r5DMyY8z8bjbcMzJjzP+BckwzMmPM/5CxvDMyY8z/zgFIMzJjzP9iHRAzMmPM/QI82DMyY8z8rlygMzJjzP6/OLwzMmPM/jRw7DMyY8z/nakYMzJjzP3MoUAzMmPM/iNVWDMyY8z/Vgl0MzJjzP1wwZAzMmPM/129lDMyY8z8/o2UMzJjzP7XWZQzMmPM/",
          "dtype": "f8"
         }
        },
        {
         "line": {
          "color": "rgb(250, 26, 0)"
         },
         "mode": "lines",
         "name": "078",
         "opacity": 0.4,
         "type": "scatter",
         "x": [
          0,
          1000000000000,
          2000000000000,
          3000000000000,
          4000000000000,
          5000000000000,
          6000000000000,
          7000000000000,
          8000000000000,
          9000000000000,
          10000000000000,
          11000000000000,
          12000000000000,
          13000000000000,
          14000000000000,
          15000000000000,
          16000000000000,
          17000000000000,
          18000000000000,
          19000000000000,
          20000000000000,
          21000000000000,
          22000000000000,
          23000000000000,
          24000000000000,
          25000000000000,
          26000000000000,
          27000000000000,
          28000000000000,
          29000000000000,
          30000000000000,
          31000000000000,
          32000000000000,
          33000000000000,
          34000000000000,
          35000000000000
         ],
         "y": {
          "bdata": "o9+8d8FW7j8awXf5F7n1P263Nqniv/U/mkRYL7rD9T8MFBfMpsT1P0XwFjvUxPU/OKLxdNvE9T/ysh663MT1P0Y6uHjbxPU/8sfyd9rE9T+xXoh72cT1P6Pw2IPYxPU/6AchPdfE9T9ASRL61cT1P6q0rLrUxPU/lPSfMtTE9T8f0+pC1MT1P1ioWlPUxPU/fl91ZNTE9T/UdG6B1MT1P3GEjp7UxPU/Uo7Vu9TE9T9rpZTp1MT1P6aSjyXVxPU/xksgYtXE9T+kAJ6e1cT1P5v078zVxPU/WH3g+9XE9T/cmm8r1sT1PwwR/FrWxPU/aSJiitbE9T+siRe61sT1P23H7OjWxPU/ZMBg/dbE9T9+1OQR18T1P7cDeSbXxPU/",
          "dtype": "f8"
         }
        },
        {
         "line": {
          "color": "rgb(250, 13, 0)"
         },
         "mode": "lines",
         "name": "079",
         "opacity": 0.4,
         "type": "scatter",
         "x": [
          0,
          1000000000000,
          2000000000000,
          3000000000000,
          4000000000000,
          5000000000000,
          6000000000000,
          7000000000000,
          8000000000000,
          9000000000000,
          10000000000000,
          11000000000000,
          12000000000000,
          13000000000000,
          14000000000000,
          15000000000000,
          16000000000000,
          17000000000000,
          18000000000000,
          19000000000000,
          20000000000000,
          21000000000000,
          22000000000000,
          23000000000000,
          24000000000000,
          25000000000000,
          26000000000000,
          27000000000000,
          28000000000000,
          29000000000000,
          30000000000000,
          31000000000000,
          32000000000000,
          33000000000000,
          34000000000000,
          35000000000000
         ],
         "y": {
          "bdata": "OXnAMkhs7j87YmJ2bWP0P56AtmqLevQ/MnVuLRiC9D/eZkSMCIT0P4LzvwmMhPQ/EnSqbKiE9D/7PRHsroT0PxHqbtuuhPQ/A37Gwq6E9D/PqkahroT0P4Mg95SuhPQ/1NBZjK6E9D/bxtODroT0P3izVoCuhPQ/h2THgK6E9D8nAzmBroT0P5vb+4GuhPQ/LdLRh66E9D+ytLqNroT0PymDtpOuhPQ/yOwWma6E9D/uFwSeroT0P6y7CKOuhPQ/KlETqK6E9D8q1RisroT0P46oL7CuhPQ/T8tXtK6E9D/AJve2roT0P4THWbiuhPQ/Zs3Aua6E9D8b5ha7roT0PwfkGLuuhPQ/fuQau66E9D+D5xy7roT0P0JombquhPQ/",
          "dtype": "f8"
         }
        },
        {
         "line": {
          "color": "rgb(250, 0, 0)"
         },
         "mode": "lines",
         "name": "080",
         "opacity": 0.4,
         "type": "scatter",
         "x": [
          0,
          1000000000000,
          2000000000000,
          3000000000000,
          4000000000000,
          5000000000000,
          6000000000000,
          7000000000000,
          8000000000000,
          9000000000000,
          10000000000000,
          11000000000000,
          12000000000000,
          13000000000000,
          14000000000000,
          15000000000000,
          16000000000000,
          17000000000000,
          18000000000000,
          19000000000000,
          20000000000000,
          21000000000000,
          22000000000000,
          23000000000000,
          24000000000000,
          25000000000000,
          26000000000000,
          27000000000000,
          28000000000000,
          29000000000000,
          30000000000000,
          31000000000000,
          32000000000000,
          33000000000000,
          34000000000000,
          35000000000000
         ],
         "y": {
          "bdata": "wrUCbeJj7j/vuqciNbbyP5Lc4JGDy/I/1Nz1YXPU8j9VYBdyFtfyP3/dVgjZ1/I/9t5xcwvY8j/y1V/NF9jyPxMAiGwZ2PI/kWIQyhnY8j/vdcjoGdjyPxCzCfoZ2PI/pQHQ/xnY8j9oVJYFGtjyP2inrQka2PI/FYvkChrY8j/SbhsMGtjyP6hSUg0a2PI/vDCZDRrY8j/a77sNGtjyPzav3g0a2PI/OnUbDhrY8j/rsoQOGtjyP8Pw7Q4a2PI/yS5XDxrY8j/uqHcPGtjyP7cvjQ8a2PI/jLaiDxrY8j/+xrEPGtjyP8HMtQ8a2PI/gNK5DxrY8j9C2L0PGtjyP+PvsQ8a2PI/l8qbDxrY8j+wQX0PGtjyP1A9Ww8a2PI/",
          "dtype": "f8"
         }
        },
        {
         "line": {
          "color": "rgb(244, 0, 0)"
         },
         "mode": "lines",
         "name": "081",
         "opacity": 0.4,
         "type": "scatter",
         "x": [
          0,
          1000000000000,
          2000000000000,
          3000000000000,
          4000000000000,
          5000000000000,
          6000000000000,
          7000000000000,
          8000000000000,
          9000000000000,
          10000000000000,
          11000000000000,
          12000000000000,
          13000000000000,
          14000000000000,
          15000000000000,
          16000000000000,
          17000000000000,
          18000000000000,
          19000000000000,
          20000000000000,
          21000000000000,
          22000000000000,
          23000000000000,
          24000000000000,
          25000000000000,
          26000000000000,
          27000000000000,
          28000000000000,
          29000000000000,
          30000000000000,
          31000000000000,
          32000000000000,
          33000000000000,
          34000000000000,
          35000000000000
         ],
         "y": {
          "bdata": "QBgYAITZ7T99tZP51ebyP/Qnl2Ai9/I/Bzgf0UgC8z8X+LZTWAbzP555qmSeB/M/vd9Z4v4H8z8orMk5HAjzP/WEjiokCPM/1jKNyiUI8z+NHr0gJgjzP9X+Je8lCPM/JM2PvSUI8z/Uwj2oJQjzPyCmyJwlCPM/XZxTkSUI8z933GaIJQjzPysZcIclCPM//lp5hiUI8z/yoYKFJQjzPx49VoUlCPM/gn5whSUI8z/KzoqFJQjzPxHDnYUlCPM/OHGZhSUI8z9yKZWFJQjzP7zrkIUlCPM/56iXhSUI8z//OqKFJQjzP7bPrIUlCPM/tGmzhSUI8z+rea2FJQjzP8GJp4UlCPM/85mhhSUI8z9X0p+FJQjzP5zMoYUlCPM/",
          "dtype": "f8"
         }
        },
        {
         "line": {
          "color": "rgb(238, 0, 0)"
         },
         "mode": "lines",
         "name": "082",
         "opacity": 0.4,
         "type": "scatter",
         "x": [
          0,
          1000000000000,
          2000000000000,
          3000000000000,
          4000000000000,
          5000000000000,
          6000000000000,
          7000000000000,
          8000000000000,
          9000000000000,
          10000000000000,
          11000000000000,
          12000000000000,
          13000000000000,
          14000000000000,
          15000000000000,
          16000000000000,
          17000000000000,
          18000000000000,
          19000000000000,
          20000000000000,
          21000000000000,
          22000000000000,
          23000000000000,
          24000000000000,
          25000000000000,
          26000000000000,
          27000000000000,
          28000000000000,
          29000000000000,
          30000000000000,
          31000000000000,
          32000000000000,
          33000000000000,
          34000000000000,
          35000000000000
         ],
         "y": {
          "bdata": "pJYwruJW7j9PPZt5LsvxPxFvMhtx1/E/xpQRXB7e8T/hzerebuDxP036yRYn4fE/J/eePF7h8T9PSVDBbeHxPxxg/wxy4fE/jHa6wnHh8T9zuwGcceHxP++7yolx4fE/8E/XjnHh8T/VouSTceHxP5u08phx4fE/VJRFoXHh8T8wC7SpceHxP/22IrJx4fE/OJnPuHHh8T/Dq329ceHxPwrTK8Jx4fE/Cw/axnHh8T/KFmXHceHxP/mGzcdx4fE/vg42yHHh8T+/F9vHceHxP0MbosZx4fE/cydpxXHh8T9UPDDEceHxP8EKrMJx4fE/uGUlwXHh8T9ixJ6/ceHxP0xDSL5x4fE/H2covXHh8T/0jwi8ceHxP8u96Lpx4fE/",
          "dtype": "f8"
         }
        },
        {
         "line": {
          "color": "rgb(232, 0, 0)"
         },
         "mode": "lines",
         "name": "083",
         "opacity": 0.4,
         "type": "scatter",
         "x": [
          0,
          1000000000000,
          2000000000000,
          3000000000000,
          4000000000000,
          5000000000000,
          6000000000000,
          7000000000000,
          8000000000000,
          9000000000000,
          10000000000000,
          11000000000000,
          12000000000000,
          13000000000000,
          14000000000000,
          15000000000000,
          16000000000000,
          17000000000000,
          18000000000000,
          19000000000000,
          20000000000000,
          21000000000000,
          22000000000000,
          23000000000000,
          24000000000000,
          25000000000000,
          26000000000000,
          27000000000000,
          28000000000000,
          29000000000000,
          30000000000000,
          31000000000000,
          32000000000000,
          33000000000000,
          34000000000000,
          35000000000000
         ],
         "y": {
          "bdata": "XRemZKEj7j+Nk0hix/vxP8WzjqN6CvI/AQEftHwS8j9GhlcpPBXyPwgxDKATFvI/E7Jt0FMW8j8cdUS/ZhbyP0OEqtxqFvI/Uii4BmwW8j++grjAaxbyP2UnuXprFvI/Y8msXWsW8j/wB/BMaxbyP8hJMzxrFvI/QCesL2sW8j9tmZcuaxbyP7MLgy1rFvI/FH5uLGsW8j/4UYMsaxbyP8KN8SxrFvI/jMlfLWsW8j+x86staxbyP9J2my1rFvI/8vmKLWsW8j8TfXotaxbyPzi2kS1rFvI/ud+0LWsW8j85CdgtaxbyP8dZ6y1rFvI/OpHTLWsW8j+vyLstaxbyPyMApC1rFvI/XoiuLWsW8j+yYcMtaxbyPwY72C1rFvI/",
          "dtype": "f8"
         }
        },
        {
         "line": {
          "color": "rgb(226, 0, 0)"
         },
         "mode": "lines",
         "name": "084",
         "opacity": 0.4,
         "type": "scatter",
         "x": [
          0,
          1000000000000,
          2000000000000,
          3000000000000,
          4000000000000,
          5000000000000,
          6000000000000,
          7000000000000,
          8000000000000,
          9000000000000,
          10000000000000,
          11000000000000,
          12000000000000,
          13000000000000,
          14000000000000,
          15000000000000,
          16000000000000,
          17000000000000,
          18000000000000,
          19000000000000,
          20000000000000,
          21000000000000,
          22000000000000,
          23000000000000,
          24000000000000,
          25000000000000,
          26000000000000,
          27000000000000,
          28000000000000,
          29000000000000,
          30000000000000,
          31000000000000,
          32000000000000,
          33000000000000,
          34000000000000,
          35000000000000
         ],
         "y": {
          "bdata": "aWsx6FJm7j+cNPjULyrxPzZoFGC2LfE/4F3DsvYw8T8voymUODLxPwA0bOGkMvE//onRscUy8T+VxdNV0zLxP/M2pK3XMvE/wd6+c9sy8T/ICzMv2jLxP47TcB7YMvE/K8nnMtcy8T+o52tF1zLxP1razM/XMvE/r53M3Ncy8T+jUnH71zLxP8NMEDrYMvE/Z892cdgy8T/z4JOU2DLxP+PuTcDYMvE/uAExEdgy8T8MrBdC1zLxP92merfWMvE/Ueuq19Yy8T8r7oy91jLxPyL2Qp/WMvE/KPL39dUy8T+whxK21jLxPwAp0xXXMvE/hvM7HNcy8T/ZQYwW1zLxP9xstP3WMvE/Sk/38NYy8T+cKkTk1jLxPxDlptfWMvE/",
          "dtype": "f8"
         }
        },
        {
         "line": {
          "color": "rgb(220, 0, 0)"
         },
         "mode": "lines",
         "name": "085",
         "opacity": 0.4,
         "type": "scatter",
         "x": [
          0,
          1000000000000,
          2000000000000,
          3000000000000,
          4000000000000,
          5000000000000,
          6000000000000,
          7000000000000,
          8000000000000,
          9000000000000,
          10000000000000,
          11000000000000,
          12000000000000,
          13000000000000,
          14000000000000,
          15000000000000,
          16000000000000,
          17000000000000,
          18000000000000,
          19000000000000,
          20000000000000,
          21000000000000,
          22000000000000,
          23000000000000,
          24000000000000,
          25000000000000,
          26000000000000,
          27000000000000,
          28000000000000,
          29000000000000,
          30000000000000,
          31000000000000,
          32000000000000,
          33000000000000,
          34000000000000,
          35000000000000
         ],
         "y": {
          "bdata": "7MQV/oks7j+dXKtaXrrxPyWdl+HDxPE/GyGsDGrM8T8H16hqTs/xP4Rf9RVC0PE/fqzXrZDQ8T/GRwzjqNDxPyuwNjmv0PE/Qt65FrHQ8T8BKiYEsdDxPwpxN/Ow0PE/TI/077DQ8T8U5ijtsNDxP7nfJe6w0PE/H+Ei77DQ8T9G6h/wsNDxPzIf1u+w0PE/2uq67rDQ8T+6tp/tsNDxP1hyi+yw0PE/wJav67DQ8T/lvNPqsNDxP8fk9+mw0PE/QelI6bDQ8T86rLbosNDxP5twJOiw0PE/yyKf57DQ8T/V74LnsNDxPzS9Zuew0PE/5opK57DQ8T8NnFnnsNDxPxZlhOew0PE/JC6v57DQ8T+IB9rnsNDxP6NlBeiw0PE/",
          "dtype": "f8"
         }
        },
        {
         "line": {
          "color": "rgb(213, 0, 0)"
         },
         "mode": "lines",
         "name": "086",
         "opacity": 0.4,
         "type": "scatter",
         "x": [
          0,
          1000000000000,
          2000000000000,
          3000000000000,
          4000000000000,
          5000000000000,
          6000000000000,
          7000000000000,
          8000000000000,
          9000000000000,
          10000000000000,
          11000000000000,
          12000000000000,
          13000000000000,
          14000000000000,
          15000000000000,
          16000000000000,
          17000000000000,
          18000000000000,
          19000000000000,
          20000000000000,
          21000000000000,
          22000000000000,
          23000000000000,
          24000000000000,
          25000000000000,
          26000000000000,
          27000000000000,
          28000000000000,
          29000000000000,
          30000000000000,
          31000000000000,
          32000000000000,
          33000000000000,
          34000000000000,
          35000000000000
         ],
         "y": {
          "bdata": "aH0Hak9z7j8q17KAgLb0Pw68WPBly/Q/G52vtjXT9D8HCCEJMdX0PyTr/4an1fQ/v/wg1cTV9D+m0n1WytX0P5vZ2szK1fQ/aYHZdMrV9D/Pm0c/ytX0P+GHLgzK1fQ/i0EOBMrV9D8vYPz7ydX0P87j+PPJ1fQ/ttS67MnV9D9Toi7mydX0P14TtN/J1fQ/Jagy2cnV9D+9yefPydX0P927v8bJ1fQ/iX66vcnV9D+Zsba2ydX0P+MHbbHJ1fQ/r180rMnV9D/8xS2nydX0P+OwFqbJ1fQ/550BpcnV9D8Hje6jydX0P0eNFKTJ1fQ/VY8rpsnV9D/T62epydX0P1bMwa3J1fQ/sNpdscnV9D/EP0y1ydX0P95akLnJ1fQ/",
          "dtype": "f8"
         }
        },
        {
         "line": {
          "color": "rgb(207, 0, 0)"
         },
         "mode": "lines",
         "name": "087",
         "opacity": 0.4,
         "type": "scatter",
         "x": [
          0,
          1000000000000,
          2000000000000,
          3000000000000,
          4000000000000,
          5000000000000,
          6000000000000,
          7000000000000,
          8000000000000,
          9000000000000,
          10000000000000,
          11000000000000,
          12000000000000,
          13000000000000,
          14000000000000,
          15000000000000,
          16000000000000,
          17000000000000,
          18000000000000,
          19000000000000,
          20000000000000,
          21000000000000,
          22000000000000,
          23000000000000,
          24000000000000,
          25000000000000,
          26000000000000,
          27000000000000,
          28000000000000,
          29000000000000,
          30000000000000,
          31000000000000,
          32000000000000,
          33000000000000,
          34000000000000,
          35000000000000
         ],
         "y": {
          "bdata": "TrleIhqL7j89OOi9+m70PxSegeKThPQ/25Hl8bOL9D+nzlapiI30PxVyxN8EjvQ/lVbd6B+O9D8wqtyeJY70P6cN3sYljvQ/sw6arCWO9D+0muenJY70P6SrP6MljvQ/hEGiniWO9D+t+E2gJY70PzVb86IljvQ/jdqYpSWO9D/10tOpJY70P5bL0rAljvQ/3x/XtyWO9D/Vz+C+JY70P6G6D8YljvQ/CRRKzSWO9D97+orUJY70P8tGY9sljvQ/QKd/4SWO9D8XnKDnJY70P1klxu0ljvQ/XTWW8iWO9D+iyDL3JY70P1KV0fsljvQ/8imn/yWO9D+4iFcBJo70PwW+5wEmjvQ/2Z5XASaO9D+V2m3/JY70P5BxP/wljvQ/",
          "dtype": "f8"
         }
        },
        {
         "line": {
          "color": "rgb(201, 0, 0)"
         },
         "mode": "lines",
         "name": "088",
         "opacity": 0.4,
         "type": "scatter",
         "x": [
          0,
          1000000000000,
          2000000000000,
          3000000000000,
          4000000000000,
          5000000000000,
          6000000000000,
          7000000000000,
          8000000000000,
          9000000000000,
          10000000000000,
          11000000000000,
          12000000000000,
          13000000000000,
          14000000000000,
          15000000000000,
          16000000000000,
          17000000000000,
          18000000000000,
          19000000000000,
          20000000000000,
          21000000000000,
          22000000000000,
          23000000000000,
          24000000000000,
          25000000000000,
          26000000000000,
          27000000000000,
          28000000000000,
          29000000000000,
          30000000000000,
          31000000000000,
          32000000000000,
          33000000000000,
          34000000000000,
          35000000000000
         ],
         "y": {
          "bdata": "wlffRZKD7j/k3pNQ0IjzPwkRgUU7o/M/oaBVaims8z8Arl04mq7zP/ivI0Q7r/M/4q/COGSv8z+Uw5udbK/zP4CHn0Jtr/M/ubFYKW2v8z9R9wDgbK/zP9NuqZZsr/M/+Lq2cGyv8z9eZ1VgbK/zP78V9E9sr/M/t498QWyv8z92Hd9AbK/zP1arQUBsr/M/VTmkP2yv8z9d2sY/bK/zPxOHXkBsr/M/5TP2QGyv8z8tvGhBbK/zP8FZzkBsr/M/ZfczQGyv8z8RlZk/bK/zP8fFjT9sr/M/INjYP2yv8z956iNAbK/zP6OYXkBsr/M/JJoiQGyv8z+mm+Y/bK/zPymdqj9sr/M/WvW2P2yv8z9dYu8/bK/zP2PPJ0Bsr/M/",
          "dtype": "f8"
         }
        },
        {
         "line": {
          "color": "rgb(195, 0, 0)"
         },
         "mode": "lines",
         "name": "089",
         "opacity": 0.4,
         "type": "scatter",
         "x": [
          0,
          1000000000000,
          2000000000000,
          3000000000000,
          4000000000000,
          5000000000000,
          6000000000000,
          7000000000000,
          8000000000000,
          9000000000000,
          10000000000000,
          11000000000000,
          12000000000000,
          13000000000000,
          14000000000000,
          15000000000000,
          16000000000000,
          17000000000000,
          18000000000000,
          19000000000000,
          20000000000000,
          21000000000000,
          22000000000000,
          23000000000000,
          24000000000000,
          25000000000000,
          26000000000000,
          27000000000000,
          28000000000000,
          29000000000000,
          30000000000000,
          31000000000000,
          32000000000000,
          33000000000000,
          34000000000000,
          35000000000000
         ],
         "y": {
          "bdata": "wRWDS61X7j/g0pcoPz3zPyPgSXmyV/M/t/wcff9g8z+5r8CJjmPzP0270Zw9ZPM/nOiz1mdk8z+rD31tc2TzP2gWWzZ2ZPM/e1nV93Vk8z+BdpA+dWTzP+PuTIV0ZPM/vJxJIXRk8z92B8L6c2TzP1zGOtRzZPM/fl/NxnNk8z/5qmLBc2TzPwRl+LtzZPM/85Q1uHNk8z9w/zK5c2TzP/uSMLpzZPM/kU8uu3Nk8z+kwwC8c2TzP+ZpxbxzZPM/dRuKvXNk8z+x5g++c2TzP7jI4L1zZPM/7aqxvXNk8z9MjYK9c2TzP42lIL1zZPM//ouuvHNk8z/WdTy8c2TzPxUGubtzZPM/sTDtunNk8z8Mn/25c2TzPzlZ6rhzZPM/",
          "dtype": "f8"
         }
        },
        {
         "line": {
          "color": "rgb(189, 0, 0)"
         },
         "mode": "lines",
         "name": "090",
         "opacity": 0.4,
         "type": "scatter",
         "x": [
          0,
          1000000000000,
          2000000000000,
          3000000000000,
          4000000000000,
          5000000000000,
          6000000000000,
          7000000000000,
          8000000000000,
          9000000000000,
          10000000000000,
          11000000000000,
          12000000000000,
          13000000000000,
          14000000000000,
          15000000000000,
          16000000000000,
          17000000000000,
          18000000000000,
          19000000000000,
          20000000000000,
          21000000000000,
          22000000000000,
          23000000000000,
          24000000000000,
          25000000000000,
          26000000000000,
          27000000000000,
          28000000000000,
          29000000000000,
          30000000000000,
          31000000000000,
          32000000000000,
          33000000000000,
          34000000000000,
          35000000000000
         ],
         "y": {
          "bdata": "IcYKk3sG7j8tkU7jHw/1P2Z9Zm1VD/U/HaSTMToV9T8q3HLTLhf1P0occCy8F/U//Tw9iuAX9T/4ytqq6hf1Pz0ZEyHtF/U/72/npe0X9T+EXTrg7Rf1P70FveDtF/U/1dmS4u0X9T9ELpDn7Rf1P++Co/rtF/U/K/peDu4X9T/+k8Ii7hf1P9ICRjXuF/U/NXyIRu4X9T/6Vf1X7hf1Pzd2dWjuF/U/DEuFcO4X9T8Hq5h47hf1PyeWr4DuF/U/qN+phe4X9T8IhcuG7hf1P6DLkoXuF/U/r0HRge4X9T+npEZ57hf1P2d2fm3uF/U/xlejXu4X9T+JWXtM7hf1Pxv67zbuF/U/hfU7Hu4X9T8r4GoD7hf1P6H/Ye7tF/U/",
          "dtype": "f8"
         }
        },
        {
         "line": {
          "color": "rgb(183, 0, 0)"
         },
         "mode": "lines",
         "name": "091",
         "opacity": 0.4,
         "type": "scatter",
         "x": [
          0,
          1000000000000,
          2000000000000,
          3000000000000,
          4000000000000,
          5000000000000,
          6000000000000,
          7000000000000,
          8000000000000,
          9000000000000,
          10000000000000,
          11000000000000,
          12000000000000,
          13000000000000,
          14000000000000,
          15000000000000,
          16000000000000,
          17000000000000,
          18000000000000,
          19000000000000,
          20000000000000,
          21000000000000,
          22000000000000,
          23000000000000,
          24000000000000,
          25000000000000,
          26000000000000,
          27000000000000,
          28000000000000,
          29000000000000,
          30000000000000,
          31000000000000,
          32000000000000,
          33000000000000,
          34000000000000,
          35000000000000
         ],
         "y": {
          "bdata": "l7cDX8Ag7j/K0AmLBeLxP7BGR7527PE/Oj8Bbf718T8lhGhF2fnxP1y1HHAm+/E/zgIpwYz78T/tUPTcq/vxPysCpAC1+/E/dAXfu7b78T+xtl0jt/vxP9np+/62+/E/b+pVz7b78T+NCrCftvvxP+sQ2ZO2+/E/pp7xiLb78T8YMAp+tvvxPw+l5He2+/E/Iq4Dd7b78T+3tyJ2tvvxP8vBQXW2+/E/+U9Odbb78T/jEmF1tvvxP9HVc3W2+/E/Me2Bdbb78T+z2Ip1tvvxPz3Ek3W2+/E/0K+cdbb78T98e5Z1tvvxPwLij3W2+/E/ikiJdbb78T/8RYJ1tvvxPw/PenW2+/E/IVhzdbb78T8z4Wt1tvvxP2w+aHW2+/E/",
          "dtype": "f8"
         }
        },
        {
         "line": {
          "color": "rgb(177, 0, 0)"
         },
         "mode": "lines",
         "name": "092",
         "opacity": 0.4,
         "type": "scatter",
         "x": [
          0,
          1000000000000,
          2000000000000,
          3000000000000,
          4000000000000,
          5000000000000,
          6000000000000,
          7000000000000,
          8000000000000,
          9000000000000,
          10000000000000,
          11000000000000,
          12000000000000,
          13000000000000,
          14000000000000,
          15000000000000,
          16000000000000,
          17000000000000,
          18000000000000,
          19000000000000,
          20000000000000,
          21000000000000,
          22000000000000,
          23000000000000,
          24000000000000,
          25000000000000,
          26000000000000,
          27000000000000,
          28000000000000,
          29000000000000,
          30000000000000,
          31000000000000,
          32000000000000,
          33000000000000,
          34000000000000,
          35000000000000
         ],
         "y": {
          "bdata": "3TYQ5WaC7j+8KGHEOdj0Pz4GuquX6fQ/5W1ouPHv9D+BNbbfcPH0Pw6h5ILD8fQ/kC+gdtjx9D9VEL8n3fH0PzhdbsPb8fQ/DtyiX9nx9D8URqDD1/H0P/jvOi/W8fQ/Y/PVydXx9D+xJZVm1fH0Pyyt0gPV8fQ/qFxK/9Tx9D+xFg1b1fH0P1jrSbfV8fQ/odoAFNbx9D/YKWyf1vH0PyqHXizX8fQ/QEWXutfx9D8zJDcw2PH0P29mPIzY8fQ/KqXz6Njx9D9f4FxG2fH0P0DRU3PZ8fQ/aw8uoNnx9D+okzDN2fH0Py+xq+nZ8fQ/huaF6Nnx9D8GxobW2fH0P9/9yLPZ8fQ/w4Yih9nx9D+EoPxM2fH0P72HdgXZ8fQ/",
          "dtype": "f8"
         }
        },
        {
         "line": {
          "color": "rgb(171, 0, 0)"
         },
         "mode": "lines",
         "name": "093",
         "opacity": 0.4,
         "type": "scatter",
         "x": [
          0,
          1000000000000,
          2000000000000,
          3000000000000,
          4000000000000,
          5000000000000,
          6000000000000,
          7000000000000,
          8000000000000,
          9000000000000,
          10000000000000,
          11000000000000,
          12000000000000,
          13000000000000,
          14000000000000,
          15000000000000,
          16000000000000,
          17000000000000,
          18000000000000,
          19000000000000,
          20000000000000,
          21000000000000,
          22000000000000,
          23000000000000,
          24000000000000,
          25000000000000,
          26000000000000,
          27000000000000,
          28000000000000,
          29000000000000,
          30000000000000,
          31000000000000,
          32000000000000,
          33000000000000,
          34000000000000,
          35000000000000
         ],
         "y": {
          "bdata": "QU1i/Atz7j8zlEOga57zPzCzYHBbuPM/p4vjTvHA8z/4pHMAP8PzP79ojA7Ww/M/I7LjePrD8z8+sqWFAsTzP6bZWY0CxPM/21bJEQLE8z8fHD/dAcTzP/OsC7EBxPM/YaGWqQHE8z+ymiGiAcTzP+GYrJoBxPM/aLFQlgHE8z83OmeUAcTzP5TPfZIBxPM/osqlkAHE8z9k7+OPAcTzP14eIo8BxPM/kFdgjgHE8z/l6rqNAcTzP83gK40BxPM/iNucjAHE8z+KyBKMAcTzP9S314sBxPM/D6iciwHE8z82mWGLAcTzP/RvRIsBxPM/o29TiwHE8z/4zXyLAcTzP4/AwIsBxPM/vVsjjAHE8z99TaKMAcTzPxqaPY0BxPM/",
          "dtype": "f8"
         }
        },
        {
         "line": {
          "color": "rgb(165, 0, 0)"
         },
         "mode": "lines",
         "name": "094",
         "opacity": 0.4,
         "type": "scatter",
         "x": [
          0,
          1000000000000,
          2000000000000,
          3000000000000,
          4000000000000,
          5000000000000,
          6000000000000,
          7000000000000,
          8000000000000,
          9000000000000,
          10000000000000,
          11000000000000,
          12000000000000,
          13000000000000,
          14000000000000,
          15000000000000,
          16000000000000,
          17000000000000,
          18000000000000,
          19000000000000,
          20000000000000,
          21000000000000,
          22000000000000,
          23000000000000,
          24000000000000,
          25000000000000,
          26000000000000,
          27000000000000,
          28000000000000,
          29000000000000,
          30000000000000,
          31000000000000,
          32000000000000,
          33000000000000,
          34000000000000,
          35000000000000
         ],
         "y": {
          "bdata": "f+X0c2467j/W0JwOAQPxP2sSV9RZBPE/tdgtC9YH8T96lDuMfAnxP1BhXX4cCvE/utvvqFIK8T+V79m9YwrxP8/jlcFqCvE/6DIL9mwK8T9gazFObArxP4NFMVJsCvE/z+yPV2wK8T+9eG10bArxP5aNtp1sCvE/MMK9vGwK8T/VpRy8bArxPwkUtbtsCvE/0wyHu2wK8T/EDZ28bArxP4BWG75sCvE/xaWkv2wK8T+heI7AbArxP6/lir9sCvE/iJ2RvmwK8T8woKK9bArxP50+MrxsCvE/Y5zBumwK8T+ykoO5bArxP/DJ17dsCvE/oCdotGwK8T/Wjv2wbArxP5n/l61sCvE/wLxLr2wK8T9v6LGybArxP0TlH7ZsCvE/",
          "dtype": "f8"
         }
        },
        {
         "line": {
          "color": "rgb(159, 0, 0)"
         },
         "mode": "lines",
         "name": "095",
         "opacity": 0.4,
         "type": "scatter",
         "x": [
          0,
          1000000000000,
          2000000000000,
          3000000000000,
          4000000000000,
          5000000000000,
          6000000000000,
          7000000000000,
          8000000000000,
          9000000000000,
          10000000000000,
          11000000000000,
          12000000000000,
          13000000000000,
          14000000000000,
          15000000000000,
          16000000000000,
          17000000000000,
          18000000000000,
          19000000000000,
          20000000000000,
          21000000000000,
          22000000000000,
          23000000000000,
          24000000000000,
          25000000000000,
          26000000000000,
          27000000000000,
          28000000000000,
          29000000000000,
          30000000000000,
          31000000000000,
          32000000000000,
          33000000000000,
          34000000000000,
          35000000000000
         ],
         "y": {
          "bdata": "KOOyDmlX7j+DY0e0ZJD0PxJfJVEdqvQ/00fkLFuy9D8FeY4LnbT0P12zy74dtfQ/eBIQskC19D9gxfJbRbX0PxjVugRGtfQ/1sD8mEW19D814lj1RLX0P/OUKVVEtfQ/4jBOFUS19D/a0gX8Q7X0P3As7eJDtfQ/a4Z900O19D/9cPPnQ7X0P+TPwPxDtfQ/H6PlEUS19D8GnCcqRLX0P0E1GEREtfQ//8SeXkS19D/GWw53RLX0Pz181YVEtfQ/pDHklES19D/6ezqkRLX0P6tYAqtEtfQ/HVVArkS19D+VuYaxRLX0PyuxcrNEtfQ/DugGrkS19D83yBalRLX0PyKAs5hEtfQ/tRwLjES19D+AeBN/RLX0P5e24nBEtfQ/",
          "dtype": "f8"
         }
        },
        {
         "line": {
          "color": "rgb(152, 0, 0)"
         },
         "mode": "lines",
         "name": "096",
         "opacity": 0.4,
         "type": "scatter",
         "x": [
          0,
          1000000000000,
          2000000000000,
          3000000000000,
          4000000000000,
          5000000000000,
          6000000000000,
          7000000000000,
          8000000000000,
          9000000000000,
          10000000000000,
          11000000000000,
          12000000000000,
          13000000000000,
          14000000000000,
          15000000000000,
          16000000000000,
          17000000000000,
          18000000000000,
          19000000000000,
          20000000000000,
          21000000000000,
          22000000000000,
          23000000000000,
          24000000000000,
          25000000000000,
          26000000000000,
          27000000000000,
          28000000000000,
          29000000000000,
          30000000000000,
          31000000000000,
          32000000000000,
          33000000000000,
          34000000000000,
          35000000000000
         ],
         "y": {
          "bdata": "jwAkVEmH7j9xkrjw91vzP3KtjKF2dPM/qmFAkMR98z920lORXYDzP8yncm8MgfM/+hIIvzeB8z9vf58HQoHzPzHCe4ZDgfM/Jxb7ekOB8z9Q4SL7QoHzP0ZNS3tCgfM/AjPIN0KB8z+ko3EcQoHzPyYeGwFCgfM/D1Vi6EGB8z8j6SLnQYHzP8Z94+VBgfM//BKk5EGB8z9qr1jkQYHzP5PMr+RBgfM/zukG5UGB8z99ClTlQYHzP/iNR+VBgfM/oRE75UGB8z92lS7lQYHzP+YqKuVBgfM/4h8r5UGB8z/8FCzlQYHzP4b4KuVBgfM/ZksX5UGB8z9RngPlQYHzP0nx7+RBgfM/uwnp5EGB8z9eo+rkQYHzPwE97ORBgfM/",
          "dtype": "f8"
         }
        },
        {
         "line": {
          "color": "rgb(146, 0, 0)"
         },
         "mode": "lines",
         "name": "097",
         "opacity": 0.4,
         "type": "scatter",
         "x": [
          0,
          1000000000000,
          2000000000000,
          3000000000000,
          4000000000000,
          5000000000000,
          6000000000000,
          7000000000000,
          8000000000000,
          9000000000000,
          10000000000000,
          11000000000000,
          12000000000000,
          13000000000000,
          14000000000000,
          15000000000000,
          16000000000000,
          17000000000000,
          18000000000000,
          19000000000000,
          20000000000000,
          21000000000000,
          22000000000000,
          23000000000000,
          24000000000000,
          25000000000000,
          26000000000000,
          27000000000000,
          28000000000000,
          29000000000000,
          30000000000000,
          31000000000000,
          32000000000000,
          33000000000000,
          34000000000000,
          35000000000000
         ],
         "y": {
          "bdata": "HVT3oy9R7j8iKWqblfzwPxkLKy/KAvE/y1v3tCEF8T/2zNKsJAfxPxFwa/5JBPE/1setfKha9T+Yw+35sanzPy/e8yXAAPQ/Yj64HBoG9D+Zatf7dwf0P0bVLULRB/Q/rG+ct+UH9D+8Rcbz6Qf0P+BnFMDrB/Q/DbYQm+sH9D+Ipyp46wf0P5rH0VXrB/Q/Pm5yM+sH9D9R0DQR6wf0P7Fv9fDqB/Q/r9+u1OoH9D8VJYa46gf0P+Y/e5zqB/Q/9eZ+feoH9D/baR5e6gf0P79DAj/qB/Q/Peq2IuoH9D8T698L6gf0Pw6oLPXpB/Q/OCGd3ukH9D+OpYHU6Qf0P4NCBs3pB/Q/crmPxekH9D+bKz/B6Qf0PxkMvsbpB/Q/",
          "dtype": "f8"
         }
        },
        {
         "line": {
          "color": "rgb(140, 0, 0)"
         },
         "mode": "lines",
         "name": "098",
         "opacity": 0.4,
         "type": "scatter",
         "x": [
          0,
          1000000000000,
          2000000000000,
          3000000000000,
          4000000000000,
          5000000000000,
          6000000000000,
          7000000000000,
          8000000000000,
          9000000000000,
          10000000000000,
          11000000000000,
          12000000000000,
          13000000000000,
          14000000000000,
          15000000000000,
          16000000000000,
          17000000000000,
          18000000000000,
          19000000000000,
          20000000000000,
          21000000000000,
          22000000000000,
          23000000000000,
          24000000000000,
          25000000000000,
          26000000000000,
          27000000000000,
          28000000000000,
          29000000000000,
          30000000000000,
          31000000000000,
          32000000000000,
          33000000000000,
          34000000000000,
          35000000000000
         ],
         "y": {
          "bdata": "8JrrCoth7j+i1kn7QfvwP81zZ2WA/fA/5ZJkeXUA8T+ww+iLYQHxPwsd5/K9AfE/2BZzhOAB8T/Vc9nh7QHxP0s4pifxAfE/P/sn+/IB8T+rxKZX8wHxPyInbVTzAfE/BNwoUfQB8T+C46tO9AHxPyq1KkL0AfE/KDxBVPQB8T92XJlP9AHxPxn4/E70AfE/F2m+TfQB8T8m/uFN9AHxPwpVpkr0AfE/zRcGRPQB8T+wg2NU9AHxP1BMelL0AfE/QpkFVvQB8T/4WipN9AHxP/doHHD0AfE/9VHCXvQB8T+cni9Z9AHxP2DEu0b0AfE/IZIlRfQB8T+mDdtF9AHxP53tslL0AfE/mFM1R/QB8T8Jx8It9AHxP1n3wSn0AfE/",
          "dtype": "f8"
         }
        },
        {
         "line": {
          "color": "rgb(134, 0, 0)"
         },
         "mode": "lines",
         "name": "099",
         "opacity": 0.4,
         "type": "scatter",
         "x": [
          0,
          1000000000000,
          2000000000000,
          3000000000000,
          4000000000000,
          5000000000000,
          6000000000000,
          7000000000000,
          8000000000000,
          9000000000000,
          10000000000000,
          11000000000000,
          12000000000000,
          13000000000000,
          14000000000000,
          15000000000000,
          16000000000000,
          17000000000000,
          18000000000000,
          19000000000000,
          20000000000000,
          21000000000000,
          22000000000000,
          23000000000000,
          24000000000000,
          25000000000000,
          26000000000000,
          27000000000000,
          28000000000000,
          29000000000000,
          30000000000000,
          31000000000000,
          32000000000000,
          33000000000000,
          34000000000000,
          35000000000000
         ],
         "y": {
          "bdata": "ryyiXaxq7j8y7TkAB0T0P/PhAlqLaPQ/LmRBnTdy9D8xInMJznT0P9fHtVZ3dfQ/MNcxtKF19D8neMmQqXX0Px+Y7IardfQ/8AbBTqt19D9KSZYeq3X0P2Pjz/iqdfQ/f/5L3qp19D+qkdbVqnX0P9IIZc2qdfQ//GP3xKp19D+1uzW5qnX0P3yyC62qdfQ/tCD1oKp19D8wrjaTqnX0P/KXt4KqdfQ/A/Vjcqp19D9lxTtiqnX0P3G7n1KqdfQ/Vto2Q6p19D+81vIzqnX0PxFVRSeqdfQ/eJS/Hqp19D/7LUQWqnX0P5kh0w2qdfQ/DTSeDKp19D+FeXIMqnX0PyfqRgyqdfQ/ww0FDqp19D/hAscUqnX0P/1DMx6qdfQ/",
          "dtype": "f8"
         }
        }
       ],
       "layout": {
        "showlegend": false,
        "template": {
         "data": {
          "bar": [
           {
            "error_x": {
             "color": "#2a3f5f"
            },
            "error_y": {
             "color": "#2a3f5f"
            },
            "marker": {
             "line": {
              "color": "#E5ECF6",
              "width": 0.5
             },
             "pattern": {
              "fillmode": "overlay",
              "size": 10,
              "solidity": 0.2
             }
            },
            "type": "bar"
           }
          ],
          "barpolar": [
           {
            "marker": {
             "line": {
              "color": "#E5ECF6",
              "width": 0.5
             },
             "pattern": {
              "fillmode": "overlay",
              "size": 10,
              "solidity": 0.2
             }
            },
            "type": "barpolar"
           }
          ],
          "carpet": [
           {
            "aaxis": {
             "endlinecolor": "#2a3f5f",
             "gridcolor": "white",
             "linecolor": "white",
             "minorgridcolor": "white",
             "startlinecolor": "#2a3f5f"
            },
            "baxis": {
             "endlinecolor": "#2a3f5f",
             "gridcolor": "white",
             "linecolor": "white",
             "minorgridcolor": "white",
             "startlinecolor": "#2a3f5f"
            },
            "type": "carpet"
           }
          ],
          "choropleth": [
           {
            "colorbar": {
             "outlinewidth": 0,
             "ticks": ""
            },
            "type": "choropleth"
           }
          ],
          "contour": [
           {
            "colorbar": {
             "outlinewidth": 0,
             "ticks": ""
            },
            "colorscale": [
             [
              0,
              "#0d0887"
             ],
             [
              0.1111111111111111,
              "#46039f"
             ],
             [
              0.2222222222222222,
              "#7201a8"
             ],
             [
              0.3333333333333333,
              "#9c179e"
             ],
             [
              0.4444444444444444,
              "#bd3786"
             ],
             [
              0.5555555555555556,
              "#d8576b"
             ],
             [
              0.6666666666666666,
              "#ed7953"
             ],
             [
              0.7777777777777778,
              "#fb9f3a"
             ],
             [
              0.8888888888888888,
              "#fdca26"
             ],
             [
              1,
              "#f0f921"
             ]
            ],
            "type": "contour"
           }
          ],
          "contourcarpet": [
           {
            "colorbar": {
             "outlinewidth": 0,
             "ticks": ""
            },
            "type": "contourcarpet"
           }
          ],
          "heatmap": [
           {
            "colorbar": {
             "outlinewidth": 0,
             "ticks": ""
            },
            "colorscale": [
             [
              0,
              "#0d0887"
             ],
             [
              0.1111111111111111,
              "#46039f"
             ],
             [
              0.2222222222222222,
              "#7201a8"
             ],
             [
              0.3333333333333333,
              "#9c179e"
             ],
             [
              0.4444444444444444,
              "#bd3786"
             ],
             [
              0.5555555555555556,
              "#d8576b"
             ],
             [
              0.6666666666666666,
              "#ed7953"
             ],
             [
              0.7777777777777778,
              "#fb9f3a"
             ],
             [
              0.8888888888888888,
              "#fdca26"
             ],
             [
              1,
              "#f0f921"
             ]
            ],
            "type": "heatmap"
           }
          ],
          "histogram": [
           {
            "marker": {
             "pattern": {
              "fillmode": "overlay",
              "size": 10,
              "solidity": 0.2
             }
            },
            "type": "histogram"
           }
          ],
          "histogram2d": [
           {
            "colorbar": {
             "outlinewidth": 0,
             "ticks": ""
            },
            "colorscale": [
             [
              0,
              "#0d0887"
             ],
             [
              0.1111111111111111,
              "#46039f"
             ],
             [
              0.2222222222222222,
              "#7201a8"
             ],
             [
              0.3333333333333333,
              "#9c179e"
             ],
             [
              0.4444444444444444,
              "#bd3786"
             ],
             [
              0.5555555555555556,
              "#d8576b"
             ],
             [
              0.6666666666666666,
              "#ed7953"
             ],
             [
              0.7777777777777778,
              "#fb9f3a"
             ],
             [
              0.8888888888888888,
              "#fdca26"
             ],
             [
              1,
              "#f0f921"
             ]
            ],
            "type": "histogram2d"
           }
          ],
          "histogram2dcontour": [
           {
            "colorbar": {
             "outlinewidth": 0,
             "ticks": ""
            },
            "colorscale": [
             [
              0,
              "#0d0887"
             ],
             [
              0.1111111111111111,
              "#46039f"
             ],
             [
              0.2222222222222222,
              "#7201a8"
             ],
             [
              0.3333333333333333,
              "#9c179e"
             ],
             [
              0.4444444444444444,
              "#bd3786"
             ],
             [
              0.5555555555555556,
              "#d8576b"
             ],
             [
              0.6666666666666666,
              "#ed7953"
             ],
             [
              0.7777777777777778,
              "#fb9f3a"
             ],
             [
              0.8888888888888888,
              "#fdca26"
             ],
             [
              1,
              "#f0f921"
             ]
            ],
            "type": "histogram2dcontour"
           }
          ],
          "mesh3d": [
           {
            "colorbar": {
             "outlinewidth": 0,
             "ticks": ""
            },
            "type": "mesh3d"
           }
          ],
          "parcoords": [
           {
            "line": {
             "colorbar": {
              "outlinewidth": 0,
              "ticks": ""
             }
            },
            "type": "parcoords"
           }
          ],
          "pie": [
           {
            "automargin": true,
            "type": "pie"
           }
          ],
          "scatter": [
           {
            "fillpattern": {
             "fillmode": "overlay",
             "size": 10,
             "solidity": 0.2
            },
            "type": "scatter"
           }
          ],
          "scatter3d": [
           {
            "line": {
             "colorbar": {
              "outlinewidth": 0,
              "ticks": ""
             }
            },
            "marker": {
             "colorbar": {
              "outlinewidth": 0,
              "ticks": ""
             }
            },
            "type": "scatter3d"
           }
          ],
          "scattercarpet": [
           {
            "marker": {
             "colorbar": {
              "outlinewidth": 0,
              "ticks": ""
             }
            },
            "type": "scattercarpet"
           }
          ],
          "scattergeo": [
           {
            "marker": {
             "colorbar": {
              "outlinewidth": 0,
              "ticks": ""
             }
            },
            "type": "scattergeo"
           }
          ],
          "scattergl": [
           {
            "marker": {
             "colorbar": {
              "outlinewidth": 0,
              "ticks": ""
             }
            },
            "type": "scattergl"
           }
          ],
          "scattermap": [
           {
            "marker": {
             "colorbar": {
              "outlinewidth": 0,
              "ticks": ""
             }
            },
            "type": "scattermap"
           }
          ],
          "scattermapbox": [
           {
            "marker": {
             "colorbar": {
              "outlinewidth": 0,
              "ticks": ""
             }
            },
            "type": "scattermapbox"
           }
          ],
          "scatterpolar": [
           {
            "marker": {
             "colorbar": {
              "outlinewidth": 0,
              "ticks": ""
             }
            },
            "type": "scatterpolar"
           }
          ],
          "scatterpolargl": [
           {
            "marker": {
             "colorbar": {
              "outlinewidth": 0,
              "ticks": ""
             }
            },
            "type": "scatterpolargl"
           }
          ],
          "scatterternary": [
           {
            "marker": {
             "colorbar": {
              "outlinewidth": 0,
              "ticks": ""
             }
            },
            "type": "scatterternary"
           }
          ],
          "surface": [
           {
            "colorbar": {
             "outlinewidth": 0,
             "ticks": ""
            },
            "colorscale": [
             [
              0,
              "#0d0887"
             ],
             [
              0.1111111111111111,
              "#46039f"
             ],
             [
              0.2222222222222222,
              "#7201a8"
             ],
             [
              0.3333333333333333,
              "#9c179e"
             ],
             [
              0.4444444444444444,
              "#bd3786"
             ],
             [
              0.5555555555555556,
              "#d8576b"
             ],
             [
              0.6666666666666666,
              "#ed7953"
             ],
             [
              0.7777777777777778,
              "#fb9f3a"
             ],
             [
              0.8888888888888888,
              "#fdca26"
             ],
             [
              1,
              "#f0f921"
             ]
            ],
            "type": "surface"
           }
          ],
          "table": [
           {
            "cells": {
             "fill": {
              "color": "#EBF0F8"
             },
             "line": {
              "color": "white"
             }
            },
            "header": {
             "fill": {
              "color": "#C8D4E3"
             },
             "line": {
              "color": "white"
             }
            },
            "type": "table"
           }
          ]
         },
         "layout": {
          "annotationdefaults": {
           "arrowcolor": "#2a3f5f",
           "arrowhead": 0,
           "arrowwidth": 1
          },
          "autotypenumbers": "strict",
          "coloraxis": {
           "colorbar": {
            "outlinewidth": 0,
            "ticks": ""
           }
          },
          "colorscale": {
           "diverging": [
            [
             0,
             "#8e0152"
            ],
            [
             0.1,
             "#c51b7d"
            ],
            [
             0.2,
             "#de77ae"
            ],
            [
             0.3,
             "#f1b6da"
            ],
            [
             0.4,
             "#fde0ef"
            ],
            [
             0.5,
             "#f7f7f7"
            ],
            [
             0.6,
             "#e6f5d0"
            ],
            [
             0.7,
             "#b8e186"
            ],
            [
             0.8,
             "#7fbc41"
            ],
            [
             0.9,
             "#4d9221"
            ],
            [
             1,
             "#276419"
            ]
           ],
           "sequential": [
            [
             0,
             "#0d0887"
            ],
            [
             0.1111111111111111,
             "#46039f"
            ],
            [
             0.2222222222222222,
             "#7201a8"
            ],
            [
             0.3333333333333333,
             "#9c179e"
            ],
            [
             0.4444444444444444,
             "#bd3786"
            ],
            [
             0.5555555555555556,
             "#d8576b"
            ],
            [
             0.6666666666666666,
             "#ed7953"
            ],
            [
             0.7777777777777778,
             "#fb9f3a"
            ],
            [
             0.8888888888888888,
             "#fdca26"
            ],
            [
             1,
             "#f0f921"
            ]
           ],
           "sequentialminus": [
            [
             0,
             "#0d0887"
            ],
            [
             0.1111111111111111,
             "#46039f"
            ],
            [
             0.2222222222222222,
             "#7201a8"
            ],
            [
             0.3333333333333333,
             "#9c179e"
            ],
            [
             0.4444444444444444,
             "#bd3786"
            ],
            [
             0.5555555555555556,
             "#d8576b"
            ],
            [
             0.6666666666666666,
             "#ed7953"
            ],
            [
             0.7777777777777778,
             "#fb9f3a"
            ],
            [
             0.8888888888888888,
             "#fdca26"
            ],
            [
             1,
             "#f0f921"
            ]
           ]
          },
          "colorway": [
           "#636efa",
           "#EF553B",
           "#00cc96",
           "#ab63fa",
           "#FFA15A",
           "#19d3f3",
           "#FF6692",
           "#B6E880",
           "#FF97FF",
           "#FECB52"
          ],
          "font": {
           "color": "#2a3f5f"
          },
          "geo": {
           "bgcolor": "white",
           "lakecolor": "white",
           "landcolor": "#E5ECF6",
           "showlakes": true,
           "showland": true,
           "subunitcolor": "white"
          },
          "hoverlabel": {
           "align": "left"
          },
          "hovermode": "closest",
          "mapbox": {
           "style": "light"
          },
          "paper_bgcolor": "white",
          "plot_bgcolor": "#E5ECF6",
          "polar": {
           "angularaxis": {
            "gridcolor": "white",
            "linecolor": "white",
            "ticks": ""
           },
           "bgcolor": "#E5ECF6",
           "radialaxis": {
            "gridcolor": "white",
            "linecolor": "white",
            "ticks": ""
           }
          },
          "scene": {
           "xaxis": {
            "backgroundcolor": "#E5ECF6",
            "gridcolor": "white",
            "gridwidth": 2,
            "linecolor": "white",
            "showbackground": true,
            "ticks": "",
            "zerolinecolor": "white"
           },
           "yaxis": {
            "backgroundcolor": "#E5ECF6",
            "gridcolor": "white",
            "gridwidth": 2,
            "linecolor": "white",
            "showbackground": true,
            "ticks": "",
            "zerolinecolor": "white"
           },
           "zaxis": {
            "backgroundcolor": "#E5ECF6",
            "gridcolor": "white",
            "gridwidth": 2,
            "linecolor": "white",
            "showbackground": true,
            "ticks": "",
            "zerolinecolor": "white"
           }
          },
          "shapedefaults": {
           "line": {
            "color": "#2a3f5f"
           }
          },
          "ternary": {
           "aaxis": {
            "gridcolor": "white",
            "linecolor": "white",
            "ticks": ""
           },
           "baxis": {
            "gridcolor": "white",
            "linecolor": "white",
            "ticks": ""
           },
           "bgcolor": "#E5ECF6",
           "caxis": {
            "gridcolor": "white",
            "linecolor": "white",
            "ticks": ""
           }
          },
          "title": {
           "x": 0.05
          },
          "xaxis": {
           "automargin": true,
           "gridcolor": "white",
           "linecolor": "white",
           "ticks": "",
           "title": {
            "standoff": 15
           },
           "zerolinecolor": "white",
           "zerolinewidth": 2
          },
          "yaxis": {
           "automargin": true,
           "gridcolor": "white",
           "linecolor": "white",
           "ticks": "",
           "title": {
            "standoff": 15
           },
           "zerolinecolor": "white",
           "zerolinewidth": 2
          }
         }
        },
        "title": {
         "text": "Entropy generation number - Training Snapshots - Parameter Space 03"
        },
        "xaxis": {
         "tickformat": ".2e",
         "title": {
          "text": "Time [s]"
         }
        },
        "yaxis": {
         "tickformat": ".2f",
         "title": {
          "text": "Entropy [-]"
         }
        }
       }
      }
     },
     "metadata": {},
     "output_type": "display_data"
    }
   ],
   "source": [
    "comsol_data_ref  = COMSOL_VTU( ROOT / \"data\" / PARAMETER_SPACE / \"Training_Original\" / f\"{DATA_TYPE}_000.vtu\")\n",
    "\n",
    "\n",
    "fig = go.Figure()\n",
    "\n",
    "for idx_snap, entropies in enumerate(entropy_gen_number):\n",
    "    fig.add_trace(go.Scatter(x=list(comsol_data_ref.times.values()),\n",
    "                             y=entropies,\n",
    "                                mode='lines',\n",
    "                                name=f\"{idx_snap:03d}\",\n",
    "                                opacity=0.4,\n",
    "                            line=dict(color=colors[idx_snap])\n",
    "                ))\n",
    "    \n",
    "fig.update_layout(\n",
    "    xaxis_tickformat='.2e',  # Format x-axis numbers to 2 decimal places\n",
    "    yaxis_tickformat='.2f',  # Format y-axis numbers to 2 decimal places\n",
    "    showlegend=False,        # Hide the legend\n",
    "    title=f\"Entropy generation number - {DATA_TYPE} Snapshots - Parameter Space {PARAMETER_SPACE}\",       # Optional: add a title\n",
    "    xaxis_title=\"Time [s]\",    # Optional: label for x-axis\n",
    "    yaxis_title=\"Entropy [-]\"     # Optional: label for y-axis\n",
    ")\n",
    "\n",
    "fig.write_image(export_folder/ f\"{DATA_TYPE}_EntropyGenerationNumber.png\")\n",
    "fig.show()"
   ]
  },
  {
   "cell_type": "markdown",
   "metadata": {},
   "source": [
    "## Difference Plots"
   ]
  }
 ],
 "metadata": {
  "kernelspec": {
   "display_name": ".venv",
   "language": "python",
   "name": "python3"
  },
  "language_info": {
   "codemirror_mode": {
    "name": "ipython",
    "version": 3
   },
   "file_extension": ".py",
   "mimetype": "text/x-python",
   "name": "python",
   "nbconvert_exporter": "python",
   "pygments_lexer": "ipython3",
   "version": "3.12.4"
  }
 },
 "nbformat": 4,
 "nbformat_minor": 2
}
