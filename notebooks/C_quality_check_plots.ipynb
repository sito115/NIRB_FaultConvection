{
 "cells": [
  {
   "cell_type": "markdown",
   "metadata": {},
   "source": [
    "### Add venv modules"
   ]
  },
  {
   "cell_type": "code",
   "execution_count": 1,
   "metadata": {},
   "outputs": [],
   "source": [
    "import numpy as np\n",
    "import plotly.express as px\n",
    "import plotly.graph_objects as go\n",
    "from pathlib import Path\n",
    "import pandas as pd\n",
    "import pint\n",
    "import sys\n",
    "from tqdm import tqdm\n",
    "from joblib import dump, load"
   ]
  },
  {
   "cell_type": "code",
   "execution_count": 2,
   "metadata": {},
   "outputs": [],
   "source": [
    "sys.path.append(str(Path.cwd().parent))"
   ]
  },
  {
   "cell_type": "markdown",
   "metadata": {},
   "source": [
    "### Add local modules"
   ]
  },
  {
   "cell_type": "code",
   "execution_count": 3,
   "metadata": {},
   "outputs": [],
   "source": [
    "from src.utils import safe_parse_quantity , calculate_thermal_entropy_generation\n",
    "from comsol_module.comsol_classes import COMSOL_VTU\n",
    "from comsol_module.entropy import calculate_S_therm"
   ]
  },
  {
   "cell_type": "markdown",
   "metadata": {},
   "source": [
    "### Import "
   ]
  },
  {
   "cell_type": "code",
   "execution_count": 4,
   "metadata": {},
   "outputs": [
    {
     "data": {
      "text/plain": [
       "PosixPath('/Users/thomassimader/Library/CloudStorage/OneDrive-geomeconGmbH/PhD/NIRB')"
      ]
     },
     "execution_count": 4,
     "metadata": {},
     "output_type": "execute_result"
    }
   ],
   "source": [
    "ROOT = Path().cwd().parent\n",
    "PARAMETER_SPACE = \"07\"\n",
    "DATA_TYPE = \"Test\"\n",
    "IS_LOAD_NPY : bool = True\n",
    "EXPORT_FIELD = \"Temperature\"\n",
    "IS_LOAD_JOBLIB : bool = False\n",
    "IS_EXPORT = True\n",
    "IS_LOAD_VTU = False # For entropy\n",
    "assert IS_LOAD_NPY != IS_LOAD_JOBLIB\n",
    "ROOT"
   ]
  },
  {
   "cell_type": "code",
   "execution_count": 5,
   "metadata": {},
   "outputs": [],
   "source": [
    "# export_folder = ROOT / \"data\" / PARAMETER_SPACE / f\"{DATA_TYPE}Mapped\" / \"s100_100_100_b0_4000_0_5000_-4000_-0\" / \"Exports\"\n",
    "export_folder = ROOT / \"data\" / PARAMETER_SPACE / \"Exports\" / \"VNC\"\n",
    "assert export_folder.exists()\n",
    "import_folder = ROOT / \"data\" / PARAMETER_SPACE / f\"{DATA_TYPE}OriginalVNC\" #export_folder #ROOT / \"data\" / PARAMETER_SPACE / \"\"\n",
    "# import_folder = export_folder\n",
    "assert import_folder.exists()\n"
   ]
  },
  {
   "cell_type": "code",
   "execution_count": 6,
   "metadata": {},
   "outputs": [],
   "source": [
    "if IS_LOAD_NPY:\n",
    "    try:\n",
    "        temperatures      = np.load(import_folder  / f\"{DATA_TYPE}_{EXPORT_FIELD}.npy\" )\n",
    "    except FileNotFoundError:\n",
    "        temperatures = None\n",
    "    try:\n",
    "        temperatures_diff = np.load(import_folder  / f\"{DATA_TYPE}_{EXPORT_FIELD}_minus_tgrad.npy\" )\n",
    "    except FileNotFoundError:\n",
    "        temperatures_diff = None\n",
    "    try:\n",
    "        sim_times_path = import_folder  / f\"{DATA_TYPE}_sim_times.npy\"\n",
    "        sim_times = np.load(sim_times_path)\n",
    "    except FileNotFoundError:\n",
    "        sim_times = None\n",
    "if IS_LOAD_JOBLIB:\n",
    "    temperatures      = load(import_folder / f\"{DATA_TYPE}_temperatures.joblib\" )\n",
    "    temperatures_diff = load(import_folder / f\"{DATA_TYPE}_temperatures_diff.joblib\" )"
   ]
  },
  {
   "cell_type": "code",
   "execution_count": 7,
   "metadata": {},
   "outputs": [],
   "source": [
    "N_SNAPS = len(temperatures_diff)\n",
    "colors = px.colors.sample_colorscale(\"jet\", [n/(N_SNAPS) for n in range(N_SNAPS)])"
   ]
  },
  {
   "cell_type": "code",
   "execution_count": 8,
   "metadata": {},
   "outputs": [],
   "source": [
    "# comsol_data  = COMSOL_VTU( ROOT / \"data\" / PARAMETER_SPACE / \"Training\" / f\"{DATA_TYPE}_000.vtu\")\n",
    "# comsol_data  = COMSOL_VTU(import_folder / \"Training_000_s50_50_50_b50_3950_50_4950_-3950_0.vti\")\n",
    "# comsol_data = COMSOL_VTU(\"/Users/thomassimader/Documents/NIRB/data/01/TrainingMapped/s100_100_100_b0_4000_0_5000_-4000_0/Training_000_s100_100_100_b0_4000_0_5000_-4000_0.vtu\")\n",
    "# comsol_data = COMSOL_VTU(ROOT / f\"data/{PARAMETER_SPACE}/TrainingOriginal/Training_100.vtu\")\n",
    "comsol_data = COMSOL_VTU(import_folder / \"Test_000.vtu\")\n"
   ]
  },
  {
   "cell_type": "markdown",
   "metadata": {},
   "source": [
    "## Plot"
   ]
  },
  {
   "cell_type": "markdown",
   "metadata": {},
   "source": [
    "### Min max temperature difference"
   ]
  },
  {
   "cell_type": "code",
   "execution_count": 9,
   "metadata": {},
   "outputs": [
    {
     "data": {
      "application/vnd.plotly.v1+json": {
       "config": {
        "plotlyServerURL": "https://plot.ly"
       },
       "data": [
        {
         "legendgroup": "000",
         "line": {
          "color": "rgb(0, 0, 131)"
         },
         "name": "000",
         "opacity": 0.4,
         "type": "scatter",
         "x": [
          0,
          17500000000000,
          35000000000000
         ],
         "y": {
          "bdata": "AAAAAAAAVD0gm4b3W6M2QJCvwsvGczZA",
          "dtype": "f8"
         }
        },
        {
         "legendgroup": "000",
         "line": {
          "color": "rgb(0, 0, 131)"
         },
         "name": "000",
         "opacity": 0.4,
         "type": "scatter",
         "x": [
          0,
          17500000000000,
          35000000000000
         ],
         "y": {
          "bdata": "gMB69zfvGcBQWMow0is5wNByzgIW7DjA",
          "dtype": "f8"
         }
        },
        {
         "legendgroup": "001",
         "line": {
          "color": "rgb(0, 15, 141)"
         },
         "name": "001",
         "opacity": 0.4,
         "type": "scatter",
         "x": [
          0,
          17500000000000,
          35000000000000
         ],
         "y": {
          "bdata": "AAAAAAAAMD3w8a0Z+HlCQIDjYfD3eUJA",
          "dtype": "f8"
         }
        },
        {
         "legendgroup": "001",
         "line": {
          "color": "rgb(0, 15, 141)"
         },
         "name": "001",
         "opacity": 0.4,
         "type": "scatter",
         "x": [
          0,
          17500000000000,
          35000000000000
         ],
         "y": {
          "bdata": "oNy6o6AWJ8CIxd2bKatCwGjWY6gpq0LA",
          "dtype": "f8"
         }
        },
        {
         "legendgroup": "002",
         "line": {
          "color": "rgb(0, 30, 150)"
         },
         "name": "002",
         "opacity": 0.4,
         "type": "scatter",
         "x": [
          0,
          17500000000000,
          35000000000000
         ],
         "y": {
          "bdata": "AAAAAAAAUD1YK/FSmvFAQMg4ne2a8UBA",
          "dtype": "f8"
         }
        },
        {
         "legendgroup": "002",
         "line": {
          "color": "rgb(0, 30, 150)"
         },
         "name": "002",
         "opacity": 0.4,
         "type": "scatter",
         "x": [
          0,
          17500000000000,
          35000000000000
         ],
         "y": {
          "bdata": "oFiNvErxI8CwM5Dk3mNBwAD0zTTfY0HA",
          "dtype": "f8"
         }
        },
        {
         "legendgroup": "003",
         "line": {
          "color": "rgb(0, 45, 160)"
         },
         "name": "003",
         "opacity": 0.4,
         "type": "scatter",
         "x": [
          0,
          17500000000000,
          35000000000000
         ],
         "y": {
          "bdata": "AAAAAAAAMD0gCax2U+o5QAD7GZcanTlA",
          "dtype": "f8"
         }
        },
        {
         "legendgroup": "003",
         "line": {
          "color": "rgb(0, 45, 160)"
         },
         "name": "003",
         "opacity": 0.4,
         "type": "scatter",
         "x": [
          0,
          17500000000000,
          35000000000000
         ],
         "y": {
          "bdata": "wPb6ZmATG8AgH9S4NO07wGBd3emEejvA",
          "dtype": "f8"
         }
        },
        {
         "legendgroup": "004",
         "line": {
          "color": "rgb(0, 60, 170)"
         },
         "name": "004",
         "opacity": 0.4,
         "type": "scatter",
         "x": [
          0,
          17500000000000,
          35000000000000
         ],
         "y": {
          "bdata": "AAAAAAAAVD3A+JrMxVQyQDBuEihkUzJA",
          "dtype": "f8"
         }
        },
        {
         "legendgroup": "004",
         "line": {
          "color": "rgb(0, 60, 170)"
         },
         "name": "004",
         "opacity": 0.4,
         "type": "scatter",
         "x": [
          0,
          17500000000000,
          35000000000000
         ],
         "y": {
          "bdata": "wKPHJ4A2HMDQ8oZGGwQ2wHA1PYZg8zXA",
          "dtype": "f8"
         }
        },
        {
         "legendgroup": "005",
         "line": {
          "color": "rgb(1, 109, 191)"
         },
         "name": "005",
         "opacity": 0.4,
         "type": "scatter",
         "x": [
          0,
          17500000000000,
          35000000000000
         ],
         "y": {
          "bdata": "AAAAAAAAUD3wNzqUd6AwQJC1X7mZoDBA",
          "dtype": "f8"
         }
        },
        {
         "legendgroup": "005",
         "line": {
          "color": "rgb(1, 109, 191)"
         },
         "name": "005",
         "opacity": 0.4,
         "type": "scatter",
         "x": [
          0,
          17500000000000,
          35000000000000
         ],
         "y": {
          "bdata": "gDGspcwbFcBwazp0k+4ywIDmj0/N8DLA",
          "dtype": "f8"
         }
        },
        {
         "legendgroup": "006",
         "line": {
          "color": "rgb(2, 157, 212)"
         },
         "name": "006",
         "opacity": 0.4,
         "type": "scatter",
         "x": [
          0,
          17500000000000,
          35000000000000
         ],
         "y": {
          "bdata": "AAAAAAAAVD2QfzoVXbM5QMAe9ud3aDlA",
          "dtype": "f8"
         }
        },
        {
         "legendgroup": "006",
         "line": {
          "color": "rgb(2, 157, 212)"
         },
         "name": "006",
         "opacity": 0.4,
         "type": "scatter",
         "x": [
          0,
          17500000000000,
          35000000000000
         ],
         "y": {
          "bdata": "QItg8R3/GsCA0PKhLrs7wMCH3kONTjvA",
          "dtype": "f8"
         }
        },
        {
         "legendgroup": "007",
         "line": {
          "color": "rgb(4, 206, 234)"
         },
         "name": "007",
         "opacity": 0.4,
         "type": "scatter",
         "x": [
          0,
          17500000000000,
          35000000000000
         ],
         "y": {
          "bdata": "AAAAAAAASD3wZVCj4M87QBDvEbRFaTtA",
          "dtype": "f8"
         }
        },
        {
         "legendgroup": "007",
         "line": {
          "color": "rgb(4, 206, 234)"
         },
         "name": "007",
         "opacity": 0.4,
         "type": "scatter",
         "x": [
          0,
          17500000000000,
          35000000000000
         ],
         "y": {
          "bdata": "QF5eh6LCG8AQ3vXljpE9wOABNjBn7DzA",
          "dtype": "f8"
         }
        },
        {
         "legendgroup": "008",
         "line": {
          "color": "rgb(5, 255, 255)"
         },
         "name": "008",
         "opacity": 0.4,
         "type": "scatter",
         "x": [
          0,
          17500000000000,
          35000000000000
         ],
         "y": {
          "bdata": "AAAAAAAASD3Alhza3kZCQMD6A/3eRkJA",
          "dtype": "f8"
         }
        },
        {
         "legendgroup": "008",
         "line": {
          "color": "rgb(5, 255, 255)"
         },
         "name": "008",
         "opacity": 0.4,
         "type": "scatter",
         "x": [
          0,
          17500000000000,
          35000000000000
         ],
         "y": {
          "bdata": "INGP9OCjJMCoaDbcpnhCwGDlAMumeELA",
          "dtype": "f8"
         }
        },
        {
         "legendgroup": "009",
         "line": {
          "color": "rgb(67, 255, 191)"
         },
         "name": "009",
         "opacity": 0.4,
         "type": "scatter",
         "x": [
          0,
          17500000000000,
          35000000000000
         ],
         "y": {
          "bdata": "AAAAAAAAQD1gVk33/3MuQMD2ip7Bcy5A",
          "dtype": "f8"
         }
        },
        {
         "legendgroup": "009",
         "line": {
          "color": "rgb(67, 255, 191)"
         },
         "name": "009",
         "opacity": 0.4,
         "type": "scatter",
         "x": [
          0,
          17500000000000,
          35000000000000
         ],
         "y": {
          "bdata": "wKXdkyzWFMBwA9IWIfcxwIB8tZMn9zHA",
          "dtype": "f8"
         }
        },
        {
         "legendgroup": "010",
         "line": {
          "color": "rgb(130, 255, 128)"
         },
         "name": "010",
         "opacity": 0.4,
         "type": "scatter",
         "x": [
          0,
          17500000000000,
          35000000000000
         ],
         "y": {
          "bdata": "AAAAAAAAUD0ACuWX1W0xQKDSjin1oDFA",
          "dtype": "f8"
         }
        },
        {
         "legendgroup": "010",
         "line": {
          "color": "rgb(130, 255, 128)"
         },
         "name": "010",
         "opacity": 0.4,
         "type": "scatter",
         "x": [
          0,
          17500000000000,
          35000000000000
         ],
         "y": {
          "bdata": "wHwZaCQUGMCg4tLj73E0wNBA+pHAgTTA",
          "dtype": "f8"
         }
        },
        {
         "legendgroup": "011",
         "line": {
          "color": "rgb(192, 255, 64)"
         },
         "name": "011",
         "opacity": 0.4,
         "type": "scatter",
         "x": [
          0,
          17500000000000,
          35000000000000
         ],
         "y": {
          "bdata": "AAAAAAAASD0QFq1IvZtOQGhNYMXInE5A",
          "dtype": "f8"
         }
        },
        {
         "legendgroup": "011",
         "line": {
          "color": "rgb(192, 255, 64)"
         },
         "name": "011",
         "opacity": 0.4,
         "type": "scatter",
         "x": [
          0,
          17500000000000,
          35000000000000
         ],
         "y": {
          "bdata": "IFJHbaIpJsDgEbc9NtpMwMA50Vhh1UzA",
          "dtype": "f8"
         }
        },
        {
         "legendgroup": "012",
         "line": {
          "color": "rgb(255, 255, 0)"
         },
         "name": "012",
         "opacity": 0.4,
         "type": "scatter",
         "x": [
          0,
          17500000000000,
          35000000000000
         ],
         "y": {
          "bdata": "AAAAAAAAVD0AAAAAAABUPQAAAAAAAFQ9",
          "dtype": "f8"
         }
        },
        {
         "legendgroup": "012",
         "line": {
          "color": "rgb(255, 255, 0)"
         },
         "name": "012",
         "opacity": 0.4,
         "type": "scatter",
         "x": [
          0,
          17500000000000,
          35000000000000
         ],
         "y": {
          "bdata": "QK0MZNXSEsCAIh12l/gSwIAH7OGe+BLA",
          "dtype": "f8"
         }
        },
        {
         "legendgroup": "013",
         "line": {
          "color": "rgb(254, 191, 0)"
         },
         "name": "013",
         "opacity": 0.4,
         "type": "scatter",
         "x": [
          0,
          17500000000000,
          35000000000000
         ],
         "y": {
          "bdata": "AAAAAAAAQD1AEK87zt0wQEA6P2tS2zNA",
          "dtype": "f8"
         }
        },
        {
         "legendgroup": "013",
         "line": {
          "color": "rgb(254, 191, 0)"
         },
         "name": "013",
         "opacity": 0.4,
         "type": "scatter",
         "x": [
          0,
          17500000000000,
          35000000000000
         ],
         "y": {
          "bdata": "wCLB5EWvF8BQGunroKUzwEC4hxwytjTA",
          "dtype": "f8"
         }
        },
        {
         "legendgroup": "014",
         "line": {
          "color": "rgb(252, 128, 0)"
         },
         "name": "014",
         "opacity": 0.4,
         "type": "scatter",
         "x": [
          0,
          17500000000000,
          35000000000000
         ],
         "y": {
          "bdata": "AAAAAAAAUD3QvzckYVM5QCBW3CNHUzlA",
          "dtype": "f8"
         }
        },
        {
         "legendgroup": "014",
         "line": {
          "color": "rgb(252, 128, 0)"
         },
         "name": "014",
         "opacity": 0.4,
         "type": "scatter",
         "x": [
          0,
          17500000000000,
          35000000000000
         ],
         "y": {
          "bdata": "oHa0s+LXI8AQqXA2Ljg8wFBD8vYlODzA",
          "dtype": "f8"
         }
        },
        {
         "legendgroup": "015",
         "line": {
          "color": "rgb(251, 64, 0)"
         },
         "name": "015",
         "opacity": 0.4,
         "type": "scatter",
         "x": [
          0,
          17500000000000,
          35000000000000
         ],
         "y": {
          "bdata": "AAAAAAAAVD1AXA5sQl9EQEi9bExCX0RA",
          "dtype": "f8"
         }
        },
        {
         "legendgroup": "015",
         "line": {
          "color": "rgb(251, 64, 0)"
         },
         "name": "015",
         "opacity": 0.4,
         "type": "scatter",
         "x": [
          0,
          17500000000000,
          35000000000000
         ],
         "y": {
          "bdata": "gPBCcYYyKMCosha3x2VEwOi/7bDHZUTA",
          "dtype": "f8"
         }
        },
        {
         "legendgroup": "016",
         "line": {
          "color": "rgb(250, 0, 0)"
         },
         "name": "016",
         "opacity": 0.4,
         "type": "scatter",
         "x": [
          0,
          17500000000000,
          35000000000000
         ],
         "y": {
          "bdata": "AAAAAAAAQD0AAAAAAABAPQAAAAAAAEA9",
          "dtype": "f8"
         }
        },
        {
         "legendgroup": "016",
         "line": {
          "color": "rgb(250, 0, 0)"
         },
         "name": "016",
         "opacity": 0.4,
         "type": "scatter",
         "x": [
          0,
          17500000000000,
          35000000000000
         ],
         "y": {
          "bdata": "ABGqthNxEMCA+7gxIJIQwIDbHnogkhDA",
          "dtype": "f8"
         }
        },
        {
         "legendgroup": "017",
         "line": {
          "color": "rgb(220, 0, 0)"
         },
         "name": "017",
         "opacity": 0.4,
         "type": "scatter",
         "x": [
          0,
          17500000000000,
          35000000000000
         ],
         "y": {
          "bdata": "AAAAAAAAQD0ABdsn4tU7QKBuev7a1TtA",
          "dtype": "f8"
         }
        },
        {
         "legendgroup": "017",
         "line": {
          "color": "rgb(220, 0, 0)"
         },
         "name": "017",
         "opacity": 0.4,
         "type": "scatter",
         "x": [
          0,
          17500000000000,
          35000000000000
         ],
         "y": {
          "bdata": "oHR7uWB1JMAwcATGewc+wDAgvr51Bz7A",
          "dtype": "f8"
         }
        },
        {
         "legendgroup": "018",
         "line": {
          "color": "rgb(189, 0, 0)"
         },
         "name": "018",
         "opacity": 0.4,
         "type": "scatter",
         "x": [
          0,
          17500000000000,
          35000000000000
         ],
         "y": {
          "bdata": "AAAAAAAAUD0AAAAAAABQPYCYLTqI7RdA",
          "dtype": "f8"
         }
        },
        {
         "legendgroup": "018",
         "line": {
          "color": "rgb(189, 0, 0)"
         },
         "name": "018",
         "opacity": 0.4,
         "type": "scatter",
         "x": [
          0,
          17500000000000,
          35000000000000
         ],
         "y": {
          "bdata": "wEF/4V50E8CA+TgbUiQWwKDmlWDtjyfA",
          "dtype": "f8"
         }
        },
        {
         "legendgroup": "019",
         "line": {
          "color": "rgb(159, 0, 0)"
         },
         "name": "019",
         "opacity": 0.4,
         "type": "scatter",
         "x": [
          0,
          17500000000000,
          35000000000000
         ],
         "y": {
          "bdata": "AAAAAAAAUD2AQlXxfqE4QAAtr+d/oThA",
          "dtype": "f8"
         }
        },
        {
         "legendgroup": "019",
         "line": {
          "color": "rgb(159, 0, 0)"
         },
         "name": "019",
         "opacity": 0.4,
         "type": "scatter",
         "x": [
          0,
          17500000000000,
          35000000000000
         ],
         "y": {
          "bdata": "gClU1QimI8CQZ5sEHq87wPAXFeYerzvA",
          "dtype": "f8"
         }
        }
       ],
       "layout": {
        "showlegend": false,
        "template": {
         "data": {
          "bar": [
           {
            "error_x": {
             "color": "#2a3f5f"
            },
            "error_y": {
             "color": "#2a3f5f"
            },
            "marker": {
             "line": {
              "color": "#E5ECF6",
              "width": 0.5
             },
             "pattern": {
              "fillmode": "overlay",
              "size": 10,
              "solidity": 0.2
             }
            },
            "type": "bar"
           }
          ],
          "barpolar": [
           {
            "marker": {
             "line": {
              "color": "#E5ECF6",
              "width": 0.5
             },
             "pattern": {
              "fillmode": "overlay",
              "size": 10,
              "solidity": 0.2
             }
            },
            "type": "barpolar"
           }
          ],
          "carpet": [
           {
            "aaxis": {
             "endlinecolor": "#2a3f5f",
             "gridcolor": "white",
             "linecolor": "white",
             "minorgridcolor": "white",
             "startlinecolor": "#2a3f5f"
            },
            "baxis": {
             "endlinecolor": "#2a3f5f",
             "gridcolor": "white",
             "linecolor": "white",
             "minorgridcolor": "white",
             "startlinecolor": "#2a3f5f"
            },
            "type": "carpet"
           }
          ],
          "choropleth": [
           {
            "colorbar": {
             "outlinewidth": 0,
             "ticks": ""
            },
            "type": "choropleth"
           }
          ],
          "contour": [
           {
            "colorbar": {
             "outlinewidth": 0,
             "ticks": ""
            },
            "colorscale": [
             [
              0,
              "#0d0887"
             ],
             [
              0.1111111111111111,
              "#46039f"
             ],
             [
              0.2222222222222222,
              "#7201a8"
             ],
             [
              0.3333333333333333,
              "#9c179e"
             ],
             [
              0.4444444444444444,
              "#bd3786"
             ],
             [
              0.5555555555555556,
              "#d8576b"
             ],
             [
              0.6666666666666666,
              "#ed7953"
             ],
             [
              0.7777777777777778,
              "#fb9f3a"
             ],
             [
              0.8888888888888888,
              "#fdca26"
             ],
             [
              1,
              "#f0f921"
             ]
            ],
            "type": "contour"
           }
          ],
          "contourcarpet": [
           {
            "colorbar": {
             "outlinewidth": 0,
             "ticks": ""
            },
            "type": "contourcarpet"
           }
          ],
          "heatmap": [
           {
            "colorbar": {
             "outlinewidth": 0,
             "ticks": ""
            },
            "colorscale": [
             [
              0,
              "#0d0887"
             ],
             [
              0.1111111111111111,
              "#46039f"
             ],
             [
              0.2222222222222222,
              "#7201a8"
             ],
             [
              0.3333333333333333,
              "#9c179e"
             ],
             [
              0.4444444444444444,
              "#bd3786"
             ],
             [
              0.5555555555555556,
              "#d8576b"
             ],
             [
              0.6666666666666666,
              "#ed7953"
             ],
             [
              0.7777777777777778,
              "#fb9f3a"
             ],
             [
              0.8888888888888888,
              "#fdca26"
             ],
             [
              1,
              "#f0f921"
             ]
            ],
            "type": "heatmap"
           }
          ],
          "histogram": [
           {
            "marker": {
             "pattern": {
              "fillmode": "overlay",
              "size": 10,
              "solidity": 0.2
             }
            },
            "type": "histogram"
           }
          ],
          "histogram2d": [
           {
            "colorbar": {
             "outlinewidth": 0,
             "ticks": ""
            },
            "colorscale": [
             [
              0,
              "#0d0887"
             ],
             [
              0.1111111111111111,
              "#46039f"
             ],
             [
              0.2222222222222222,
              "#7201a8"
             ],
             [
              0.3333333333333333,
              "#9c179e"
             ],
             [
              0.4444444444444444,
              "#bd3786"
             ],
             [
              0.5555555555555556,
              "#d8576b"
             ],
             [
              0.6666666666666666,
              "#ed7953"
             ],
             [
              0.7777777777777778,
              "#fb9f3a"
             ],
             [
              0.8888888888888888,
              "#fdca26"
             ],
             [
              1,
              "#f0f921"
             ]
            ],
            "type": "histogram2d"
           }
          ],
          "histogram2dcontour": [
           {
            "colorbar": {
             "outlinewidth": 0,
             "ticks": ""
            },
            "colorscale": [
             [
              0,
              "#0d0887"
             ],
             [
              0.1111111111111111,
              "#46039f"
             ],
             [
              0.2222222222222222,
              "#7201a8"
             ],
             [
              0.3333333333333333,
              "#9c179e"
             ],
             [
              0.4444444444444444,
              "#bd3786"
             ],
             [
              0.5555555555555556,
              "#d8576b"
             ],
             [
              0.6666666666666666,
              "#ed7953"
             ],
             [
              0.7777777777777778,
              "#fb9f3a"
             ],
             [
              0.8888888888888888,
              "#fdca26"
             ],
             [
              1,
              "#f0f921"
             ]
            ],
            "type": "histogram2dcontour"
           }
          ],
          "mesh3d": [
           {
            "colorbar": {
             "outlinewidth": 0,
             "ticks": ""
            },
            "type": "mesh3d"
           }
          ],
          "parcoords": [
           {
            "line": {
             "colorbar": {
              "outlinewidth": 0,
              "ticks": ""
             }
            },
            "type": "parcoords"
           }
          ],
          "pie": [
           {
            "automargin": true,
            "type": "pie"
           }
          ],
          "scatter": [
           {
            "fillpattern": {
             "fillmode": "overlay",
             "size": 10,
             "solidity": 0.2
            },
            "type": "scatter"
           }
          ],
          "scatter3d": [
           {
            "line": {
             "colorbar": {
              "outlinewidth": 0,
              "ticks": ""
             }
            },
            "marker": {
             "colorbar": {
              "outlinewidth": 0,
              "ticks": ""
             }
            },
            "type": "scatter3d"
           }
          ],
          "scattercarpet": [
           {
            "marker": {
             "colorbar": {
              "outlinewidth": 0,
              "ticks": ""
             }
            },
            "type": "scattercarpet"
           }
          ],
          "scattergeo": [
           {
            "marker": {
             "colorbar": {
              "outlinewidth": 0,
              "ticks": ""
             }
            },
            "type": "scattergeo"
           }
          ],
          "scattergl": [
           {
            "marker": {
             "colorbar": {
              "outlinewidth": 0,
              "ticks": ""
             }
            },
            "type": "scattergl"
           }
          ],
          "scattermap": [
           {
            "marker": {
             "colorbar": {
              "outlinewidth": 0,
              "ticks": ""
             }
            },
            "type": "scattermap"
           }
          ],
          "scattermapbox": [
           {
            "marker": {
             "colorbar": {
              "outlinewidth": 0,
              "ticks": ""
             }
            },
            "type": "scattermapbox"
           }
          ],
          "scatterpolar": [
           {
            "marker": {
             "colorbar": {
              "outlinewidth": 0,
              "ticks": ""
             }
            },
            "type": "scatterpolar"
           }
          ],
          "scatterpolargl": [
           {
            "marker": {
             "colorbar": {
              "outlinewidth": 0,
              "ticks": ""
             }
            },
            "type": "scatterpolargl"
           }
          ],
          "scatterternary": [
           {
            "marker": {
             "colorbar": {
              "outlinewidth": 0,
              "ticks": ""
             }
            },
            "type": "scatterternary"
           }
          ],
          "surface": [
           {
            "colorbar": {
             "outlinewidth": 0,
             "ticks": ""
            },
            "colorscale": [
             [
              0,
              "#0d0887"
             ],
             [
              0.1111111111111111,
              "#46039f"
             ],
             [
              0.2222222222222222,
              "#7201a8"
             ],
             [
              0.3333333333333333,
              "#9c179e"
             ],
             [
              0.4444444444444444,
              "#bd3786"
             ],
             [
              0.5555555555555556,
              "#d8576b"
             ],
             [
              0.6666666666666666,
              "#ed7953"
             ],
             [
              0.7777777777777778,
              "#fb9f3a"
             ],
             [
              0.8888888888888888,
              "#fdca26"
             ],
             [
              1,
              "#f0f921"
             ]
            ],
            "type": "surface"
           }
          ],
          "table": [
           {
            "cells": {
             "fill": {
              "color": "#EBF0F8"
             },
             "line": {
              "color": "white"
             }
            },
            "header": {
             "fill": {
              "color": "#C8D4E3"
             },
             "line": {
              "color": "white"
             }
            },
            "type": "table"
           }
          ]
         },
         "layout": {
          "annotationdefaults": {
           "arrowcolor": "#2a3f5f",
           "arrowhead": 0,
           "arrowwidth": 1
          },
          "autotypenumbers": "strict",
          "coloraxis": {
           "colorbar": {
            "outlinewidth": 0,
            "ticks": ""
           }
          },
          "colorscale": {
           "diverging": [
            [
             0,
             "#8e0152"
            ],
            [
             0.1,
             "#c51b7d"
            ],
            [
             0.2,
             "#de77ae"
            ],
            [
             0.3,
             "#f1b6da"
            ],
            [
             0.4,
             "#fde0ef"
            ],
            [
             0.5,
             "#f7f7f7"
            ],
            [
             0.6,
             "#e6f5d0"
            ],
            [
             0.7,
             "#b8e186"
            ],
            [
             0.8,
             "#7fbc41"
            ],
            [
             0.9,
             "#4d9221"
            ],
            [
             1,
             "#276419"
            ]
           ],
           "sequential": [
            [
             0,
             "#0d0887"
            ],
            [
             0.1111111111111111,
             "#46039f"
            ],
            [
             0.2222222222222222,
             "#7201a8"
            ],
            [
             0.3333333333333333,
             "#9c179e"
            ],
            [
             0.4444444444444444,
             "#bd3786"
            ],
            [
             0.5555555555555556,
             "#d8576b"
            ],
            [
             0.6666666666666666,
             "#ed7953"
            ],
            [
             0.7777777777777778,
             "#fb9f3a"
            ],
            [
             0.8888888888888888,
             "#fdca26"
            ],
            [
             1,
             "#f0f921"
            ]
           ],
           "sequentialminus": [
            [
             0,
             "#0d0887"
            ],
            [
             0.1111111111111111,
             "#46039f"
            ],
            [
             0.2222222222222222,
             "#7201a8"
            ],
            [
             0.3333333333333333,
             "#9c179e"
            ],
            [
             0.4444444444444444,
             "#bd3786"
            ],
            [
             0.5555555555555556,
             "#d8576b"
            ],
            [
             0.6666666666666666,
             "#ed7953"
            ],
            [
             0.7777777777777778,
             "#fb9f3a"
            ],
            [
             0.8888888888888888,
             "#fdca26"
            ],
            [
             1,
             "#f0f921"
            ]
           ]
          },
          "colorway": [
           "#636efa",
           "#EF553B",
           "#00cc96",
           "#ab63fa",
           "#FFA15A",
           "#19d3f3",
           "#FF6692",
           "#B6E880",
           "#FF97FF",
           "#FECB52"
          ],
          "font": {
           "color": "#2a3f5f"
          },
          "geo": {
           "bgcolor": "white",
           "lakecolor": "white",
           "landcolor": "#E5ECF6",
           "showlakes": true,
           "showland": true,
           "subunitcolor": "white"
          },
          "hoverlabel": {
           "align": "left"
          },
          "hovermode": "closest",
          "mapbox": {
           "style": "light"
          },
          "paper_bgcolor": "white",
          "plot_bgcolor": "#E5ECF6",
          "polar": {
           "angularaxis": {
            "gridcolor": "white",
            "linecolor": "white",
            "ticks": ""
           },
           "bgcolor": "#E5ECF6",
           "radialaxis": {
            "gridcolor": "white",
            "linecolor": "white",
            "ticks": ""
           }
          },
          "scene": {
           "xaxis": {
            "backgroundcolor": "#E5ECF6",
            "gridcolor": "white",
            "gridwidth": 2,
            "linecolor": "white",
            "showbackground": true,
            "ticks": "",
            "zerolinecolor": "white"
           },
           "yaxis": {
            "backgroundcolor": "#E5ECF6",
            "gridcolor": "white",
            "gridwidth": 2,
            "linecolor": "white",
            "showbackground": true,
            "ticks": "",
            "zerolinecolor": "white"
           },
           "zaxis": {
            "backgroundcolor": "#E5ECF6",
            "gridcolor": "white",
            "gridwidth": 2,
            "linecolor": "white",
            "showbackground": true,
            "ticks": "",
            "zerolinecolor": "white"
           }
          },
          "shapedefaults": {
           "line": {
            "color": "#2a3f5f"
           }
          },
          "ternary": {
           "aaxis": {
            "gridcolor": "white",
            "linecolor": "white",
            "ticks": ""
           },
           "baxis": {
            "gridcolor": "white",
            "linecolor": "white",
            "ticks": ""
           },
           "bgcolor": "#E5ECF6",
           "caxis": {
            "gridcolor": "white",
            "linecolor": "white",
            "ticks": ""
           }
          },
          "title": {
           "x": 0.05
          },
          "xaxis": {
           "automargin": true,
           "gridcolor": "white",
           "linecolor": "white",
           "ticks": "",
           "title": {
            "standoff": 15
           },
           "zerolinecolor": "white",
           "zerolinewidth": 2
          },
          "yaxis": {
           "automargin": true,
           "gridcolor": "white",
           "linecolor": "white",
           "ticks": "",
           "title": {
            "standoff": 15
           },
           "zerolinecolor": "white",
           "zerolinewidth": 2
          }
         }
        },
        "title": {
         "text": "Temperature Difference (T-T0) - Test Snapshots - Parameter Space 07"
        },
        "xaxis": {
         "tickformat": ".2e",
         "title": {
          "text": "Time [s]"
         }
        },
        "yaxis": {
         "tickformat": ".2f",
         "title": {
          "text": "Temperature [K]"
         }
        }
       }
      }
     },
     "metadata": {},
     "output_type": "display_data"
    }
   ],
   "source": [
    "if temperatures_diff is not None:\n",
    "    fig = go.Figure()\n",
    "    for idx_snap, temperature_array in enumerate(temperatures_diff):\n",
    "    # customdata=np.stack(([t_h] * len(comsol_data.times), [host_k] * len(comsol_data.times)) , axis=-1),\n",
    "        input_args = {'x' : list(comsol_data.times.values()),\n",
    "                    #   'customdata' : customdata,\n",
    "                    #   'hovertemplate' : \"Time: %{x:.2e}<br>Temperature: %{y:.2f}<br>T_h: %{customdata[0]:.2f}<br><br>host_k: %{customdata[1]:.2e}<br>\",\n",
    "                        'legendgroup' : f\"{idx_snap:03d}\",\n",
    "                        'name' : f\"{idx_snap:03d}\",\n",
    "                        'line' : dict(color=colors[idx_snap]),\n",
    "                        'opacity': 0.4}\n",
    "        fig.add_trace(go.Scatter(y=np.max(temperature_array, axis=1), **input_args)) \n",
    "        fig.add_trace(go.Scatter(y=np.min(temperature_array, axis=1), **input_args)) \n",
    "\n",
    "    fig.update_layout(\n",
    "        xaxis_tickformat='.2e',  # Format x-axis numbers to 2 decimal places\n",
    "        yaxis_tickformat='.2f',  # Format y-axis numbers to 2 decimal places\n",
    "        showlegend=False,        # Hide the legend\n",
    "        title_text=f'Temperature Difference (T-T0) - {DATA_TYPE} Snapshots - Parameter Space {PARAMETER_SPACE}', # title of plot\n",
    "        xaxis_title=\"Time [s]\",    # Optional: label for x-axis\n",
    "        yaxis_title=\"Temperature [K]\"     # Optional: label for y-axis\n",
    "    )\n",
    "    if IS_EXPORT:\n",
    "        fig.write_html(export_folder / f\"{DATA_TYPE}_MinMaxTemperatures.html\")\n",
    "        fig.write_image(export_folder / f\"{DATA_TYPE}_MinMaxTemperatures.png\")\n",
    "    fig.show()\n"
   ]
  },
  {
   "cell_type": "markdown",
   "metadata": {},
   "source": [
    "### Simulation Time"
   ]
  },
  {
   "cell_type": "code",
   "execution_count": 10,
   "metadata": {},
   "outputs": [
    {
     "data": {
      "application/vnd.plotly.v1+json": {
       "config": {
        "plotlyServerURL": "https://plot.ly"
       },
       "data": [
        {
         "histnorm": "percent",
         "marker": {
          "color": "#EB89B5"
         },
         "name": "control",
         "opacity": 0.75,
         "texttemplate": "%{x}",
         "type": "histogram",
         "x": {
          "bdata": "AAAAWFLuM0BVVVX1/WwrQKuqqkpozzBA7+7uh0LLMkCrqqrW91crQDMzM98CtyVAd3d3C2QAJ0De3d3ZmvYrQAAAADp03StAmpmZdyEyKUCrqqpwstUrQHd3d1nr8jlAVVVVXFHpMUDv7u78OP81QAAAAGtNeztAMzMzVXgBPkCrqqoV26kwQJqZmTuovC5AIiIi+HaqJEB3d3dNIQ0qQA==",
          "dtype": "f8"
         },
         "xbins": {
          "size": 2
         }
        }
       ],
       "layout": {
        "bargroupgap": 0.1,
        "template": {
         "data": {
          "bar": [
           {
            "error_x": {
             "color": "#2a3f5f"
            },
            "error_y": {
             "color": "#2a3f5f"
            },
            "marker": {
             "line": {
              "color": "#E5ECF6",
              "width": 0.5
             },
             "pattern": {
              "fillmode": "overlay",
              "size": 10,
              "solidity": 0.2
             }
            },
            "type": "bar"
           }
          ],
          "barpolar": [
           {
            "marker": {
             "line": {
              "color": "#E5ECF6",
              "width": 0.5
             },
             "pattern": {
              "fillmode": "overlay",
              "size": 10,
              "solidity": 0.2
             }
            },
            "type": "barpolar"
           }
          ],
          "carpet": [
           {
            "aaxis": {
             "endlinecolor": "#2a3f5f",
             "gridcolor": "white",
             "linecolor": "white",
             "minorgridcolor": "white",
             "startlinecolor": "#2a3f5f"
            },
            "baxis": {
             "endlinecolor": "#2a3f5f",
             "gridcolor": "white",
             "linecolor": "white",
             "minorgridcolor": "white",
             "startlinecolor": "#2a3f5f"
            },
            "type": "carpet"
           }
          ],
          "choropleth": [
           {
            "colorbar": {
             "outlinewidth": 0,
             "ticks": ""
            },
            "type": "choropleth"
           }
          ],
          "contour": [
           {
            "colorbar": {
             "outlinewidth": 0,
             "ticks": ""
            },
            "colorscale": [
             [
              0,
              "#0d0887"
             ],
             [
              0.1111111111111111,
              "#46039f"
             ],
             [
              0.2222222222222222,
              "#7201a8"
             ],
             [
              0.3333333333333333,
              "#9c179e"
             ],
             [
              0.4444444444444444,
              "#bd3786"
             ],
             [
              0.5555555555555556,
              "#d8576b"
             ],
             [
              0.6666666666666666,
              "#ed7953"
             ],
             [
              0.7777777777777778,
              "#fb9f3a"
             ],
             [
              0.8888888888888888,
              "#fdca26"
             ],
             [
              1,
              "#f0f921"
             ]
            ],
            "type": "contour"
           }
          ],
          "contourcarpet": [
           {
            "colorbar": {
             "outlinewidth": 0,
             "ticks": ""
            },
            "type": "contourcarpet"
           }
          ],
          "heatmap": [
           {
            "colorbar": {
             "outlinewidth": 0,
             "ticks": ""
            },
            "colorscale": [
             [
              0,
              "#0d0887"
             ],
             [
              0.1111111111111111,
              "#46039f"
             ],
             [
              0.2222222222222222,
              "#7201a8"
             ],
             [
              0.3333333333333333,
              "#9c179e"
             ],
             [
              0.4444444444444444,
              "#bd3786"
             ],
             [
              0.5555555555555556,
              "#d8576b"
             ],
             [
              0.6666666666666666,
              "#ed7953"
             ],
             [
              0.7777777777777778,
              "#fb9f3a"
             ],
             [
              0.8888888888888888,
              "#fdca26"
             ],
             [
              1,
              "#f0f921"
             ]
            ],
            "type": "heatmap"
           }
          ],
          "histogram": [
           {
            "marker": {
             "pattern": {
              "fillmode": "overlay",
              "size": 10,
              "solidity": 0.2
             }
            },
            "type": "histogram"
           }
          ],
          "histogram2d": [
           {
            "colorbar": {
             "outlinewidth": 0,
             "ticks": ""
            },
            "colorscale": [
             [
              0,
              "#0d0887"
             ],
             [
              0.1111111111111111,
              "#46039f"
             ],
             [
              0.2222222222222222,
              "#7201a8"
             ],
             [
              0.3333333333333333,
              "#9c179e"
             ],
             [
              0.4444444444444444,
              "#bd3786"
             ],
             [
              0.5555555555555556,
              "#d8576b"
             ],
             [
              0.6666666666666666,
              "#ed7953"
             ],
             [
              0.7777777777777778,
              "#fb9f3a"
             ],
             [
              0.8888888888888888,
              "#fdca26"
             ],
             [
              1,
              "#f0f921"
             ]
            ],
            "type": "histogram2d"
           }
          ],
          "histogram2dcontour": [
           {
            "colorbar": {
             "outlinewidth": 0,
             "ticks": ""
            },
            "colorscale": [
             [
              0,
              "#0d0887"
             ],
             [
              0.1111111111111111,
              "#46039f"
             ],
             [
              0.2222222222222222,
              "#7201a8"
             ],
             [
              0.3333333333333333,
              "#9c179e"
             ],
             [
              0.4444444444444444,
              "#bd3786"
             ],
             [
              0.5555555555555556,
              "#d8576b"
             ],
             [
              0.6666666666666666,
              "#ed7953"
             ],
             [
              0.7777777777777778,
              "#fb9f3a"
             ],
             [
              0.8888888888888888,
              "#fdca26"
             ],
             [
              1,
              "#f0f921"
             ]
            ],
            "type": "histogram2dcontour"
           }
          ],
          "mesh3d": [
           {
            "colorbar": {
             "outlinewidth": 0,
             "ticks": ""
            },
            "type": "mesh3d"
           }
          ],
          "parcoords": [
           {
            "line": {
             "colorbar": {
              "outlinewidth": 0,
              "ticks": ""
             }
            },
            "type": "parcoords"
           }
          ],
          "pie": [
           {
            "automargin": true,
            "type": "pie"
           }
          ],
          "scatter": [
           {
            "fillpattern": {
             "fillmode": "overlay",
             "size": 10,
             "solidity": 0.2
            },
            "type": "scatter"
           }
          ],
          "scatter3d": [
           {
            "line": {
             "colorbar": {
              "outlinewidth": 0,
              "ticks": ""
             }
            },
            "marker": {
             "colorbar": {
              "outlinewidth": 0,
              "ticks": ""
             }
            },
            "type": "scatter3d"
           }
          ],
          "scattercarpet": [
           {
            "marker": {
             "colorbar": {
              "outlinewidth": 0,
              "ticks": ""
             }
            },
            "type": "scattercarpet"
           }
          ],
          "scattergeo": [
           {
            "marker": {
             "colorbar": {
              "outlinewidth": 0,
              "ticks": ""
             }
            },
            "type": "scattergeo"
           }
          ],
          "scattergl": [
           {
            "marker": {
             "colorbar": {
              "outlinewidth": 0,
              "ticks": ""
             }
            },
            "type": "scattergl"
           }
          ],
          "scattermap": [
           {
            "marker": {
             "colorbar": {
              "outlinewidth": 0,
              "ticks": ""
             }
            },
            "type": "scattermap"
           }
          ],
          "scattermapbox": [
           {
            "marker": {
             "colorbar": {
              "outlinewidth": 0,
              "ticks": ""
             }
            },
            "type": "scattermapbox"
           }
          ],
          "scatterpolar": [
           {
            "marker": {
             "colorbar": {
              "outlinewidth": 0,
              "ticks": ""
             }
            },
            "type": "scatterpolar"
           }
          ],
          "scatterpolargl": [
           {
            "marker": {
             "colorbar": {
              "outlinewidth": 0,
              "ticks": ""
             }
            },
            "type": "scatterpolargl"
           }
          ],
          "scatterternary": [
           {
            "marker": {
             "colorbar": {
              "outlinewidth": 0,
              "ticks": ""
             }
            },
            "type": "scatterternary"
           }
          ],
          "surface": [
           {
            "colorbar": {
             "outlinewidth": 0,
             "ticks": ""
            },
            "colorscale": [
             [
              0,
              "#0d0887"
             ],
             [
              0.1111111111111111,
              "#46039f"
             ],
             [
              0.2222222222222222,
              "#7201a8"
             ],
             [
              0.3333333333333333,
              "#9c179e"
             ],
             [
              0.4444444444444444,
              "#bd3786"
             ],
             [
              0.5555555555555556,
              "#d8576b"
             ],
             [
              0.6666666666666666,
              "#ed7953"
             ],
             [
              0.7777777777777778,
              "#fb9f3a"
             ],
             [
              0.8888888888888888,
              "#fdca26"
             ],
             [
              1,
              "#f0f921"
             ]
            ],
            "type": "surface"
           }
          ],
          "table": [
           {
            "cells": {
             "fill": {
              "color": "#EBF0F8"
             },
             "line": {
              "color": "white"
             }
            },
            "header": {
             "fill": {
              "color": "#C8D4E3"
             },
             "line": {
              "color": "white"
             }
            },
            "type": "table"
           }
          ]
         },
         "layout": {
          "annotationdefaults": {
           "arrowcolor": "#2a3f5f",
           "arrowhead": 0,
           "arrowwidth": 1
          },
          "autotypenumbers": "strict",
          "coloraxis": {
           "colorbar": {
            "outlinewidth": 0,
            "ticks": ""
           }
          },
          "colorscale": {
           "diverging": [
            [
             0,
             "#8e0152"
            ],
            [
             0.1,
             "#c51b7d"
            ],
            [
             0.2,
             "#de77ae"
            ],
            [
             0.3,
             "#f1b6da"
            ],
            [
             0.4,
             "#fde0ef"
            ],
            [
             0.5,
             "#f7f7f7"
            ],
            [
             0.6,
             "#e6f5d0"
            ],
            [
             0.7,
             "#b8e186"
            ],
            [
             0.8,
             "#7fbc41"
            ],
            [
             0.9,
             "#4d9221"
            ],
            [
             1,
             "#276419"
            ]
           ],
           "sequential": [
            [
             0,
             "#0d0887"
            ],
            [
             0.1111111111111111,
             "#46039f"
            ],
            [
             0.2222222222222222,
             "#7201a8"
            ],
            [
             0.3333333333333333,
             "#9c179e"
            ],
            [
             0.4444444444444444,
             "#bd3786"
            ],
            [
             0.5555555555555556,
             "#d8576b"
            ],
            [
             0.6666666666666666,
             "#ed7953"
            ],
            [
             0.7777777777777778,
             "#fb9f3a"
            ],
            [
             0.8888888888888888,
             "#fdca26"
            ],
            [
             1,
             "#f0f921"
            ]
           ],
           "sequentialminus": [
            [
             0,
             "#0d0887"
            ],
            [
             0.1111111111111111,
             "#46039f"
            ],
            [
             0.2222222222222222,
             "#7201a8"
            ],
            [
             0.3333333333333333,
             "#9c179e"
            ],
            [
             0.4444444444444444,
             "#bd3786"
            ],
            [
             0.5555555555555556,
             "#d8576b"
            ],
            [
             0.6666666666666666,
             "#ed7953"
            ],
            [
             0.7777777777777778,
             "#fb9f3a"
            ],
            [
             0.8888888888888888,
             "#fdca26"
            ],
            [
             1,
             "#f0f921"
            ]
           ]
          },
          "colorway": [
           "#636efa",
           "#EF553B",
           "#00cc96",
           "#ab63fa",
           "#FFA15A",
           "#19d3f3",
           "#FF6692",
           "#B6E880",
           "#FF97FF",
           "#FECB52"
          ],
          "font": {
           "color": "#2a3f5f"
          },
          "geo": {
           "bgcolor": "white",
           "lakecolor": "white",
           "landcolor": "#E5ECF6",
           "showlakes": true,
           "showland": true,
           "subunitcolor": "white"
          },
          "hoverlabel": {
           "align": "left"
          },
          "hovermode": "closest",
          "mapbox": {
           "style": "light"
          },
          "paper_bgcolor": "white",
          "plot_bgcolor": "#E5ECF6",
          "polar": {
           "angularaxis": {
            "gridcolor": "white",
            "linecolor": "white",
            "ticks": ""
           },
           "bgcolor": "#E5ECF6",
           "radialaxis": {
            "gridcolor": "white",
            "linecolor": "white",
            "ticks": ""
           }
          },
          "scene": {
           "xaxis": {
            "backgroundcolor": "#E5ECF6",
            "gridcolor": "white",
            "gridwidth": 2,
            "linecolor": "white",
            "showbackground": true,
            "ticks": "",
            "zerolinecolor": "white"
           },
           "yaxis": {
            "backgroundcolor": "#E5ECF6",
            "gridcolor": "white",
            "gridwidth": 2,
            "linecolor": "white",
            "showbackground": true,
            "ticks": "",
            "zerolinecolor": "white"
           },
           "zaxis": {
            "backgroundcolor": "#E5ECF6",
            "gridcolor": "white",
            "gridwidth": 2,
            "linecolor": "white",
            "showbackground": true,
            "ticks": "",
            "zerolinecolor": "white"
           }
          },
          "shapedefaults": {
           "line": {
            "color": "#2a3f5f"
           }
          },
          "ternary": {
           "aaxis": {
            "gridcolor": "white",
            "linecolor": "white",
            "ticks": ""
           },
           "baxis": {
            "gridcolor": "white",
            "linecolor": "white",
            "ticks": ""
           },
           "bgcolor": "#E5ECF6",
           "caxis": {
            "gridcolor": "white",
            "linecolor": "white",
            "ticks": ""
           }
          },
          "title": {
           "x": 0.05
          },
          "xaxis": {
           "automargin": true,
           "gridcolor": "white",
           "linecolor": "white",
           "ticks": "",
           "title": {
            "standoff": 15
           },
           "zerolinecolor": "white",
           "zerolinewidth": 2
          },
          "yaxis": {
           "automargin": true,
           "gridcolor": "white",
           "linecolor": "white",
           "ticks": "",
           "title": {
            "standoff": 15
           },
           "zerolinecolor": "white",
           "zerolinewidth": 2
          }
         }
        },
        "title": {
         "text": "Simulation Time - Test Snapshots - Parameter Space 07"
        },
        "xaxis": {
         "title": {
          "text": "Time [min]"
         }
        },
        "yaxis": {
         "title": {
          "text": "Count"
         }
        }
       }
      }
     },
     "metadata": {},
     "output_type": "display_data"
    }
   ],
   "source": [
    "fig = go.Figure(data=[go.Histogram(\n",
    "    x=sim_times / 60,\n",
    "    histnorm='percent',\n",
    "    name='control', # name used in legend and hover labels\n",
    "    xbins=dict( # bins used for histogram\n",
    "        # start=-4.0,\n",
    "        # end=3.0,\n",
    "        size=2,\n",
    "        ),\n",
    "    marker_color='#EB89B5',\n",
    "    opacity=0.75,\n",
    "     texttemplate=\"%{x}\"\n",
    "    )])\n",
    "\n",
    "fig.update_layout(\n",
    "    title_text=f'Simulation Time - {DATA_TYPE} Snapshots - Parameter Space {PARAMETER_SPACE}', # title of plot\n",
    "    xaxis_title_text='Time [min]', # xaxis label\n",
    "    yaxis_title_text='Count', # yaxis label\n",
    "    bargroupgap=0.1, # gap between bars of the same location coordinates\n",
    ")\n",
    "if IS_EXPORT:\n",
    "    fig.write_html(export_folder / f\"{DATA_TYPE}_SimulationTime.html\")\n",
    "    fig.write_image(export_folder / f\"{DATA_TYPE}_SimulationTime.png\")\n",
    "fig.show()\n"
   ]
  },
  {
   "cell_type": "markdown",
   "metadata": {},
   "source": [
    "## Calculate Entropy\n"
   ]
  },
  {
   "cell_type": "code",
   "execution_count": 11,
   "metadata": {},
   "outputs": [],
   "source": [
    "param_folder = ROOT / \"data\" / PARAMETER_SPACE / \"Exports\"\n",
    "param_files = sorted([path for path in param_folder.rglob(f\"{DATA_TYPE}*.csv\")])\n",
    "assert len(param_files) == N_SNAPS\n",
    "ureg = pint.get_application_registry()"
   ]
  },
  {
   "cell_type": "code",
   "execution_count": 12,
   "metadata": {},
   "outputs": [],
   "source": [
    "IS_USE_TGRAD = False\n",
    "if PARAMETER_SPACE == \"03\":\n",
    "    IS_USE_TGRAD = True"
   ]
  },
  {
   "cell_type": "code",
   "execution_count": 13,
   "metadata": {},
   "outputs": [
    {
     "name": "stderr",
     "output_type": "stream",
     "text": [
      "  0%|          | 0/20 [00:00<?, ?it/s]"
     ]
    },
    {
     "name": "stderr",
     "output_type": "stream",
     "text": [
      "100%|██████████| 20/20 [00:02<00:00,  7.75it/s]\n"
     ]
    }
   ],
   "source": [
    "comsol_data_ref = comsol_data\n",
    "\n",
    "if not IS_LOAD_VTU:\n",
    "    N_SNAPS = len(temperatures)\n",
    "    N_TIME_STEPS = len(comsol_data_ref.times)\n",
    "    entropy_gen_unit = np.zeros((N_SNAPS, N_TIME_STEPS))\n",
    "    entropy_gen_number = np.zeros_like(entropy_gen_unit)\n",
    "    comsol_data.mesh.clear_point_data()\n",
    "\n",
    "    for idx_snap in tqdm(range(N_SNAPS), total = N_SNAPS):\n",
    "        param_df = pd.read_csv(param_files[idx_snap], index_col = 0)\n",
    "        param_df['quantity_pint'] = param_df[param_df.columns[-1]].apply(lambda x : safe_parse_quantity(x))\n",
    "        lambda_therm = (1 - param_df.loc['host_phi', \"quantity_pint\"]) * param_df.loc['host_lambda', \"quantity_pint\"] + \\\n",
    "                            param_df.loc['host_phi', \"quantity_pint\"] * (4.2 * ureg.watt / (ureg.meter * ureg.kelvin))\n",
    "        t0      = 0.5 * (param_df.loc[\"T_h\", \"quantity_pint\"] + param_df.loc[\"T_c\", \"quantity_pint\"])\n",
    "        delta_T = (param_df.loc['T_h', \"quantity_pint\"]  - param_df.loc[\"T_c\", \"quantity_pint\"])\n",
    "                    \n",
    "        for idx_time in range(N_TIME_STEPS):\n",
    "            \n",
    "            if IS_USE_TGRAD:\n",
    "                z_points = comsol_data.mesh.points[:, -1] * ureg.meter\n",
    "                tgrad = (param_df.loc[\"T_c\", \"quantity_pint\"] - (delta_T / param_df.loc[\"H\", \"quantity_pint\"] * z_points)).to('K').magnitude\n",
    "                temp_data = temperatures_diff[idx_snap, idx_time, :]\n",
    "            else:\n",
    "                temp_data = temperatures[idx_snap, idx_time, :]\n",
    "            \n",
    "            entrop_gener , entrpy_num = calculate_thermal_entropy_generation(comsol_data.mesh,\n",
    "                                                                            temp_data,\n",
    "                                                                            lambda_therm, t0, delta_T)\n",
    "            entropy_gen_unit[idx_snap, idx_time] = entrop_gener.magnitude\n",
    "            entropy_gen_number[idx_snap, idx_time] = entrpy_num.magnitude"
   ]
  },
  {
   "cell_type": "code",
   "execution_count": 14,
   "metadata": {},
   "outputs": [],
   "source": [
    "if IS_LOAD_VTU:\n",
    "    vtu_files = sorted([path for path in import_folder.iterdir() if (path.suffix in [\".vtu\"] and DATA_TYPE.lower() in path.stem.lower())])\n",
    "    N_SNAPS = len(vtu_files)\n",
    "    N_TIME_STEPS = len(COMSOL_VTU( vtu_files[0]).times)\n",
    "    entropy_gen_unit = np.zeros((N_SNAPS, N_TIME_STEPS))\n",
    "    entropy_gen_number = np.zeros_like(entropy_gen_unit)\n",
    "    comsol_data.mesh.clear_point_data()\n",
    "\n",
    "    for idx_snap, vtu_file in tqdm(enumerate(vtu_files), total = len(vtu_files)): # TODO: Include TQDM\n",
    "            comsol_data = COMSOL_VTU(vtu_file)\n",
    "            temperatures = comsol_data.get_array(\"Temperature\")\n",
    "            comsol_data.mesh.clear_data()\n",
    "            param_df = pd.read_csv(param_files[idx_snap], index_col = 0)\n",
    "            ureg = pint.UnitRegistry()\n",
    "            param_df['quantity_pint'] = param_df[param_df.columns[-1]].apply(lambda x : safe_parse_quantity(x, ureg))\n",
    "            lambda_therm = (1 - param_df.loc['host_phi', \"quantity_pint\"]) * param_df.loc['host_lambda', \"quantity_pint\"] + \\\n",
    "                                param_df.loc['host_phi', \"quantity_pint\"] * (4.2 * ureg.watt / (ureg.meter * ureg.kelvin))\n",
    "            t0      = 0.5 * (param_df.loc[\"T_h\", \"quantity_pint\"] + param_df.loc[\"T_c\", \"quantity_pint\"])\n",
    "            delta_T = (param_df.loc['T_h', \"quantity_pint\"]  - param_df.loc[\"T_c\", \"quantity_pint\"])\n",
    "            \n",
    "\n",
    "            for idx_time, time_key in enumerate(comsol_data.times.keys()):\n",
    "                entrop_gener , entrpy_num = calculate_thermal_entropy_generation(comsol_data.mesh,\n",
    "                                                                                temperatures[idx_time, :],\n",
    "                                                                                lambda_therm, t0, delta_T, ureg = ureg)\n",
    "                entropy_gen_unit[idx_snap, idx_time] = entrop_gener.magnitude\n",
    "                entropy_gen_number[idx_snap, idx_time] = entrpy_num.magnitude"
   ]
  },
  {
   "cell_type": "code",
   "execution_count": 15,
   "metadata": {},
   "outputs": [],
   "source": [
    "np.save(export_folder / f\"{DATA_TYPE}_entropy_gen_unit.npy\", entropy_gen_unit)\n",
    "np.save(export_folder / f\"{DATA_TYPE}_entropy_gen_number.npy\", entropy_gen_number)"
   ]
  },
  {
   "cell_type": "markdown",
   "metadata": {},
   "source": [
    "### Plot entropy generation"
   ]
  },
  {
   "cell_type": "code",
   "execution_count": 16,
   "metadata": {},
   "outputs": [
    {
     "data": {
      "application/vnd.plotly.v1+json": {
       "config": {
        "plotlyServerURL": "https://plot.ly"
       },
       "data": [
        {
         "line": {
          "color": "rgb(0, 0, 131)"
         },
         "mode": "lines",
         "name": "000",
         "opacity": 0.4,
         "type": "scatter",
         "x": [
          0,
          17500000000000,
          35000000000000
         ],
         "y": {
          "bdata": "VzSUHxajlkDVgTjF2ZyYQGzTgX/fnJhA",
          "dtype": "f8"
         }
        },
        {
         "line": {
          "color": "rgb(0, 15, 141)"
         },
         "mode": "lines",
         "name": "001",
         "opacity": 0.4,
         "type": "scatter",
         "x": [
          0,
          17500000000000,
          35000000000000
         ],
         "y": {
          "bdata": "z1RBHVFKokAS+D0tsU+lQOQ5YiyxT6VA",
          "dtype": "f8"
         }
        },
        {
         "line": {
          "color": "rgb(0, 30, 150)"
         },
         "mode": "lines",
         "name": "002",
         "opacity": 0.4,
         "type": "scatter",
         "x": [
          0,
          17500000000000,
          35000000000000
         ],
         "y": {
          "bdata": "nKNtunY8oEAs1JMKzcKiQMwdxAvNwqJA",
          "dtype": "f8"
         }
        },
        {
         "line": {
          "color": "rgb(0, 45, 160)"
         },
         "mode": "lines",
         "name": "003",
         "opacity": 0.4,
         "type": "scatter",
         "x": [
          0,
          17500000000000,
          35000000000000
         ],
         "y": {
          "bdata": "AhUxu617l0BCbI/cGP+ZQKH/O9FA/5lA",
          "dtype": "f8"
         }
        },
        {
         "line": {
          "color": "rgb(0, 60, 170)"
         },
         "mode": "lines",
         "name": "004",
         "opacity": 0.4,
         "type": "scatter",
         "x": [
          0,
          17500000000000,
          35000000000000
         ],
         "y": {
          "bdata": "bzCBX29RmEDmVHfYteGZQGO43Hy84ZlA",
          "dtype": "f8"
         }
        },
        {
         "line": {
          "color": "rgb(1, 109, 191)"
         },
         "mode": "lines",
         "name": "005",
         "opacity": 0.4,
         "type": "scatter",
         "x": [
          0,
          17500000000000,
          35000000000000
         ],
         "y": {
          "bdata": "+RQRyYD2kkBrV5KMH+CTQN4nBE8e4JNA",
          "dtype": "f8"
         }
        },
        {
         "line": {
          "color": "rgb(2, 157, 212)"
         },
         "mode": "lines",
         "name": "006",
         "opacity": 0.4,
         "type": "scatter",
         "x": [
          0,
          17500000000000,
          35000000000000
         ],
         "y": {
          "bdata": "hU/ZHbpsl0A0fDYPQ+aZQOIerZBo5plA",
          "dtype": "f8"
         }
        },
        {
         "line": {
          "color": "rgb(4, 206, 234)"
         },
         "mode": "lines",
         "name": "007",
         "opacity": 0.4,
         "type": "scatter",
         "x": [
          0,
          17500000000000,
          35000000000000
         ],
         "y": {
          "bdata": "7NH0upr8l0C60QxRXdeaQB1s6iTM15pA",
          "dtype": "f8"
         }
        },
        {
         "line": {
          "color": "rgb(5, 255, 255)"
         },
         "mode": "lines",
         "name": "008",
         "opacity": 0.4,
         "type": "scatter",
         "x": [
          0,
          17500000000000,
          35000000000000
         ],
         "y": {
          "bdata": "lf4TiACzoEBhtlW3+pijQCYwCLf6mKNA",
          "dtype": "f8"
         }
        },
        {
         "line": {
          "color": "rgb(67, 255, 191)"
         },
         "mode": "lines",
         "name": "009",
         "opacity": 0.4,
         "type": "scatter",
         "x": [
          0,
          17500000000000,
          35000000000000
         ],
         "y": {
          "bdata": "LHU7OjnAkkDmIRLcRYqTQDJ3rfZEipNA",
          "dtype": "f8"
         }
        },
        {
         "line": {
          "color": "rgb(130, 255, 128)"
         },
         "mode": "lines",
         "name": "010",
         "opacity": 0.4,
         "type": "scatter",
         "x": [
          0,
          17500000000000,
          35000000000000
         ],
         "y": {
          "bdata": "EwPgSkM+lUCPz9lWEXCWQJb9pRUgcJZA",
          "dtype": "f8"
         }
        },
        {
         "line": {
          "color": "rgb(192, 255, 64)"
         },
         "mode": "lines",
         "name": "011",
         "opacity": 0.4,
         "type": "scatter",
         "x": [
          0,
          17500000000000,
          35000000000000
         ],
         "y": {
          "bdata": "2lfn9dexoUDsreY6s2GoQPSgCFetYahA",
          "dtype": "f8"
         }
        },
        {
         "line": {
          "color": "rgb(255, 255, 0)"
         },
         "mode": "lines",
         "name": "012",
         "opacity": 0.4,
         "type": "scatter",
         "x": [
          0,
          17500000000000,
          35000000000000
         ],
         "y": {
          "bdata": "Dk7opeUpkUBKUp3ZSiqRQMDYONpKKpFA",
          "dtype": "f8"
         }
        },
        {
         "line": {
          "color": "rgb(254, 191, 0)"
         },
         "mode": "lines",
         "name": "013",
         "opacity": 0.4,
         "type": "scatter",
         "x": [
          0,
          17500000000000,
          35000000000000
         ],
         "y": {
          "bdata": "9LsPIL3xlEDk8jYDev2VQPnBg+Nc/5VA",
          "dtype": "f8"
         }
        },
        {
         "line": {
          "color": "rgb(252, 128, 0)"
         },
         "mode": "lines",
         "name": "014",
         "opacity": 0.4,
         "type": "scatter",
         "x": [
          0,
          17500000000000,
          35000000000000
         ],
         "y": {
          "bdata": "UCnqwoEroECYiNvuWrihQA7jselauKFA",
          "dtype": "f8"
         }
        },
        {
         "line": {
          "color": "rgb(251, 64, 0)"
         },
         "mode": "lines",
         "name": "015",
         "opacity": 0.4,
         "type": "scatter",
         "x": [
          0,
          17500000000000,
          35000000000000
         ],
         "y": {
          "bdata": "OaQlRZr+okDWlwllU6CmQC0QH2NToKZA",
          "dtype": "f8"
         }
        },
        {
         "line": {
          "color": "rgb(250, 0, 0)"
         },
         "mode": "lines",
         "name": "016",
         "opacity": 0.4,
         "type": "scatter",
         "x": [
          0,
          17500000000000,
          35000000000000
         ],
         "y": {
          "bdata": "cgCuODB8jkCo2mcmz3yOQPFOeyfPfI5A",
          "dtype": "f8"
         }
        },
        {
         "line": {
          "color": "rgb(220, 0, 0)"
         },
         "mode": "lines",
         "name": "017",
         "opacity": 0.4,
         "type": "scatter",
         "x": [
          0,
          17500000000000,
          35000000000000
         ],
         "y": {
          "bdata": "n/JIDj+UoED3bimS/GCiQLrcaF/8YKJA",
          "dtype": "f8"
         }
        },
        {
         "line": {
          "color": "rgb(189, 0, 0)"
         },
         "mode": "lines",
         "name": "018",
         "opacity": 0.4,
         "type": "scatter",
         "x": [
          0,
          17500000000000,
          35000000000000
         ],
         "y": {
          "bdata": "B4b2lCWqkUBoLuvlGquRQPNTZEQR4JFA",
          "dtype": "f8"
         }
        },
        {
         "line": {
          "color": "rgb(159, 0, 0)"
         },
         "mode": "lines",
         "name": "019",
         "opacity": 0.4,
         "type": "scatter",
         "x": [
          0,
          17500000000000,
          35000000000000
         ],
         "y": {
          "bdata": "Frz/oSoKoECyAt/vJoShQHtWs+8mhKFA",
          "dtype": "f8"
         }
        }
       ],
       "layout": {
        "showlegend": false,
        "template": {
         "data": {
          "bar": [
           {
            "error_x": {
             "color": "#2a3f5f"
            },
            "error_y": {
             "color": "#2a3f5f"
            },
            "marker": {
             "line": {
              "color": "#E5ECF6",
              "width": 0.5
             },
             "pattern": {
              "fillmode": "overlay",
              "size": 10,
              "solidity": 0.2
             }
            },
            "type": "bar"
           }
          ],
          "barpolar": [
           {
            "marker": {
             "line": {
              "color": "#E5ECF6",
              "width": 0.5
             },
             "pattern": {
              "fillmode": "overlay",
              "size": 10,
              "solidity": 0.2
             }
            },
            "type": "barpolar"
           }
          ],
          "carpet": [
           {
            "aaxis": {
             "endlinecolor": "#2a3f5f",
             "gridcolor": "white",
             "linecolor": "white",
             "minorgridcolor": "white",
             "startlinecolor": "#2a3f5f"
            },
            "baxis": {
             "endlinecolor": "#2a3f5f",
             "gridcolor": "white",
             "linecolor": "white",
             "minorgridcolor": "white",
             "startlinecolor": "#2a3f5f"
            },
            "type": "carpet"
           }
          ],
          "choropleth": [
           {
            "colorbar": {
             "outlinewidth": 0,
             "ticks": ""
            },
            "type": "choropleth"
           }
          ],
          "contour": [
           {
            "colorbar": {
             "outlinewidth": 0,
             "ticks": ""
            },
            "colorscale": [
             [
              0,
              "#0d0887"
             ],
             [
              0.1111111111111111,
              "#46039f"
             ],
             [
              0.2222222222222222,
              "#7201a8"
             ],
             [
              0.3333333333333333,
              "#9c179e"
             ],
             [
              0.4444444444444444,
              "#bd3786"
             ],
             [
              0.5555555555555556,
              "#d8576b"
             ],
             [
              0.6666666666666666,
              "#ed7953"
             ],
             [
              0.7777777777777778,
              "#fb9f3a"
             ],
             [
              0.8888888888888888,
              "#fdca26"
             ],
             [
              1,
              "#f0f921"
             ]
            ],
            "type": "contour"
           }
          ],
          "contourcarpet": [
           {
            "colorbar": {
             "outlinewidth": 0,
             "ticks": ""
            },
            "type": "contourcarpet"
           }
          ],
          "heatmap": [
           {
            "colorbar": {
             "outlinewidth": 0,
             "ticks": ""
            },
            "colorscale": [
             [
              0,
              "#0d0887"
             ],
             [
              0.1111111111111111,
              "#46039f"
             ],
             [
              0.2222222222222222,
              "#7201a8"
             ],
             [
              0.3333333333333333,
              "#9c179e"
             ],
             [
              0.4444444444444444,
              "#bd3786"
             ],
             [
              0.5555555555555556,
              "#d8576b"
             ],
             [
              0.6666666666666666,
              "#ed7953"
             ],
             [
              0.7777777777777778,
              "#fb9f3a"
             ],
             [
              0.8888888888888888,
              "#fdca26"
             ],
             [
              1,
              "#f0f921"
             ]
            ],
            "type": "heatmap"
           }
          ],
          "histogram": [
           {
            "marker": {
             "pattern": {
              "fillmode": "overlay",
              "size": 10,
              "solidity": 0.2
             }
            },
            "type": "histogram"
           }
          ],
          "histogram2d": [
           {
            "colorbar": {
             "outlinewidth": 0,
             "ticks": ""
            },
            "colorscale": [
             [
              0,
              "#0d0887"
             ],
             [
              0.1111111111111111,
              "#46039f"
             ],
             [
              0.2222222222222222,
              "#7201a8"
             ],
             [
              0.3333333333333333,
              "#9c179e"
             ],
             [
              0.4444444444444444,
              "#bd3786"
             ],
             [
              0.5555555555555556,
              "#d8576b"
             ],
             [
              0.6666666666666666,
              "#ed7953"
             ],
             [
              0.7777777777777778,
              "#fb9f3a"
             ],
             [
              0.8888888888888888,
              "#fdca26"
             ],
             [
              1,
              "#f0f921"
             ]
            ],
            "type": "histogram2d"
           }
          ],
          "histogram2dcontour": [
           {
            "colorbar": {
             "outlinewidth": 0,
             "ticks": ""
            },
            "colorscale": [
             [
              0,
              "#0d0887"
             ],
             [
              0.1111111111111111,
              "#46039f"
             ],
             [
              0.2222222222222222,
              "#7201a8"
             ],
             [
              0.3333333333333333,
              "#9c179e"
             ],
             [
              0.4444444444444444,
              "#bd3786"
             ],
             [
              0.5555555555555556,
              "#d8576b"
             ],
             [
              0.6666666666666666,
              "#ed7953"
             ],
             [
              0.7777777777777778,
              "#fb9f3a"
             ],
             [
              0.8888888888888888,
              "#fdca26"
             ],
             [
              1,
              "#f0f921"
             ]
            ],
            "type": "histogram2dcontour"
           }
          ],
          "mesh3d": [
           {
            "colorbar": {
             "outlinewidth": 0,
             "ticks": ""
            },
            "type": "mesh3d"
           }
          ],
          "parcoords": [
           {
            "line": {
             "colorbar": {
              "outlinewidth": 0,
              "ticks": ""
             }
            },
            "type": "parcoords"
           }
          ],
          "pie": [
           {
            "automargin": true,
            "type": "pie"
           }
          ],
          "scatter": [
           {
            "fillpattern": {
             "fillmode": "overlay",
             "size": 10,
             "solidity": 0.2
            },
            "type": "scatter"
           }
          ],
          "scatter3d": [
           {
            "line": {
             "colorbar": {
              "outlinewidth": 0,
              "ticks": ""
             }
            },
            "marker": {
             "colorbar": {
              "outlinewidth": 0,
              "ticks": ""
             }
            },
            "type": "scatter3d"
           }
          ],
          "scattercarpet": [
           {
            "marker": {
             "colorbar": {
              "outlinewidth": 0,
              "ticks": ""
             }
            },
            "type": "scattercarpet"
           }
          ],
          "scattergeo": [
           {
            "marker": {
             "colorbar": {
              "outlinewidth": 0,
              "ticks": ""
             }
            },
            "type": "scattergeo"
           }
          ],
          "scattergl": [
           {
            "marker": {
             "colorbar": {
              "outlinewidth": 0,
              "ticks": ""
             }
            },
            "type": "scattergl"
           }
          ],
          "scattermap": [
           {
            "marker": {
             "colorbar": {
              "outlinewidth": 0,
              "ticks": ""
             }
            },
            "type": "scattermap"
           }
          ],
          "scattermapbox": [
           {
            "marker": {
             "colorbar": {
              "outlinewidth": 0,
              "ticks": ""
             }
            },
            "type": "scattermapbox"
           }
          ],
          "scatterpolar": [
           {
            "marker": {
             "colorbar": {
              "outlinewidth": 0,
              "ticks": ""
             }
            },
            "type": "scatterpolar"
           }
          ],
          "scatterpolargl": [
           {
            "marker": {
             "colorbar": {
              "outlinewidth": 0,
              "ticks": ""
             }
            },
            "type": "scatterpolargl"
           }
          ],
          "scatterternary": [
           {
            "marker": {
             "colorbar": {
              "outlinewidth": 0,
              "ticks": ""
             }
            },
            "type": "scatterternary"
           }
          ],
          "surface": [
           {
            "colorbar": {
             "outlinewidth": 0,
             "ticks": ""
            },
            "colorscale": [
             [
              0,
              "#0d0887"
             ],
             [
              0.1111111111111111,
              "#46039f"
             ],
             [
              0.2222222222222222,
              "#7201a8"
             ],
             [
              0.3333333333333333,
              "#9c179e"
             ],
             [
              0.4444444444444444,
              "#bd3786"
             ],
             [
              0.5555555555555556,
              "#d8576b"
             ],
             [
              0.6666666666666666,
              "#ed7953"
             ],
             [
              0.7777777777777778,
              "#fb9f3a"
             ],
             [
              0.8888888888888888,
              "#fdca26"
             ],
             [
              1,
              "#f0f921"
             ]
            ],
            "type": "surface"
           }
          ],
          "table": [
           {
            "cells": {
             "fill": {
              "color": "#EBF0F8"
             },
             "line": {
              "color": "white"
             }
            },
            "header": {
             "fill": {
              "color": "#C8D4E3"
             },
             "line": {
              "color": "white"
             }
            },
            "type": "table"
           }
          ]
         },
         "layout": {
          "annotationdefaults": {
           "arrowcolor": "#2a3f5f",
           "arrowhead": 0,
           "arrowwidth": 1
          },
          "autotypenumbers": "strict",
          "coloraxis": {
           "colorbar": {
            "outlinewidth": 0,
            "ticks": ""
           }
          },
          "colorscale": {
           "diverging": [
            [
             0,
             "#8e0152"
            ],
            [
             0.1,
             "#c51b7d"
            ],
            [
             0.2,
             "#de77ae"
            ],
            [
             0.3,
             "#f1b6da"
            ],
            [
             0.4,
             "#fde0ef"
            ],
            [
             0.5,
             "#f7f7f7"
            ],
            [
             0.6,
             "#e6f5d0"
            ],
            [
             0.7,
             "#b8e186"
            ],
            [
             0.8,
             "#7fbc41"
            ],
            [
             0.9,
             "#4d9221"
            ],
            [
             1,
             "#276419"
            ]
           ],
           "sequential": [
            [
             0,
             "#0d0887"
            ],
            [
             0.1111111111111111,
             "#46039f"
            ],
            [
             0.2222222222222222,
             "#7201a8"
            ],
            [
             0.3333333333333333,
             "#9c179e"
            ],
            [
             0.4444444444444444,
             "#bd3786"
            ],
            [
             0.5555555555555556,
             "#d8576b"
            ],
            [
             0.6666666666666666,
             "#ed7953"
            ],
            [
             0.7777777777777778,
             "#fb9f3a"
            ],
            [
             0.8888888888888888,
             "#fdca26"
            ],
            [
             1,
             "#f0f921"
            ]
           ],
           "sequentialminus": [
            [
             0,
             "#0d0887"
            ],
            [
             0.1111111111111111,
             "#46039f"
            ],
            [
             0.2222222222222222,
             "#7201a8"
            ],
            [
             0.3333333333333333,
             "#9c179e"
            ],
            [
             0.4444444444444444,
             "#bd3786"
            ],
            [
             0.5555555555555556,
             "#d8576b"
            ],
            [
             0.6666666666666666,
             "#ed7953"
            ],
            [
             0.7777777777777778,
             "#fb9f3a"
            ],
            [
             0.8888888888888888,
             "#fdca26"
            ],
            [
             1,
             "#f0f921"
            ]
           ]
          },
          "colorway": [
           "#636efa",
           "#EF553B",
           "#00cc96",
           "#ab63fa",
           "#FFA15A",
           "#19d3f3",
           "#FF6692",
           "#B6E880",
           "#FF97FF",
           "#FECB52"
          ],
          "font": {
           "color": "#2a3f5f"
          },
          "geo": {
           "bgcolor": "white",
           "lakecolor": "white",
           "landcolor": "#E5ECF6",
           "showlakes": true,
           "showland": true,
           "subunitcolor": "white"
          },
          "hoverlabel": {
           "align": "left"
          },
          "hovermode": "closest",
          "mapbox": {
           "style": "light"
          },
          "paper_bgcolor": "white",
          "plot_bgcolor": "#E5ECF6",
          "polar": {
           "angularaxis": {
            "gridcolor": "white",
            "linecolor": "white",
            "ticks": ""
           },
           "bgcolor": "#E5ECF6",
           "radialaxis": {
            "gridcolor": "white",
            "linecolor": "white",
            "ticks": ""
           }
          },
          "scene": {
           "xaxis": {
            "backgroundcolor": "#E5ECF6",
            "gridcolor": "white",
            "gridwidth": 2,
            "linecolor": "white",
            "showbackground": true,
            "ticks": "",
            "zerolinecolor": "white"
           },
           "yaxis": {
            "backgroundcolor": "#E5ECF6",
            "gridcolor": "white",
            "gridwidth": 2,
            "linecolor": "white",
            "showbackground": true,
            "ticks": "",
            "zerolinecolor": "white"
           },
           "zaxis": {
            "backgroundcolor": "#E5ECF6",
            "gridcolor": "white",
            "gridwidth": 2,
            "linecolor": "white",
            "showbackground": true,
            "ticks": "",
            "zerolinecolor": "white"
           }
          },
          "shapedefaults": {
           "line": {
            "color": "#2a3f5f"
           }
          },
          "ternary": {
           "aaxis": {
            "gridcolor": "white",
            "linecolor": "white",
            "ticks": ""
           },
           "baxis": {
            "gridcolor": "white",
            "linecolor": "white",
            "ticks": ""
           },
           "bgcolor": "#E5ECF6",
           "caxis": {
            "gridcolor": "white",
            "linecolor": "white",
            "ticks": ""
           }
          },
          "title": {
           "x": 0.05
          },
          "xaxis": {
           "automargin": true,
           "gridcolor": "white",
           "linecolor": "white",
           "ticks": "",
           "title": {
            "standoff": 15
           },
           "zerolinecolor": "white",
           "zerolinewidth": 2
          },
          "yaxis": {
           "automargin": true,
           "gridcolor": "white",
           "linecolor": "white",
           "ticks": "",
           "title": {
            "standoff": 15
           },
           "zerolinecolor": "white",
           "zerolinewidth": 2
          }
         }
        },
        "title": {
         "text": "Entropy generation - Test Snapshots - Parameter Space 07"
        },
        "xaxis": {
         "tickformat": ".2e",
         "title": {
          "text": "Time [s]"
         }
        },
        "yaxis": {
         "tickformat": ".2f",
         "title": {
          "text": "Entropy [W/K]"
         }
        }
       }
      }
     },
     "metadata": {},
     "output_type": "display_data"
    }
   ],
   "source": [
    "# comsol_data_ref  = COMSOL_VTU( ROOT / \"data\" / PARAMETER_SPACE / \"Training\" / f\"{DATA_TYPE}_000.vtu\")\n",
    "fig = go.Figure()\n",
    "\n",
    "for idx_snap, entropies in enumerate(entropy_gen_unit):\n",
    "    fig.add_trace(go.Scatter(x=list(comsol_data_ref.times.values()),\n",
    "                             y=entropies,\n",
    "                                mode='lines',\n",
    "                                name=f\"{idx_snap:03d}\",\n",
    "                                opacity=0.4,\n",
    "                            line=dict(color=colors[idx_snap])\n",
    "                ))\n",
    "    \n",
    "fig.update_layout(\n",
    "    xaxis_tickformat='.2e',  # Format x-axis numbers to 2 decimal places\n",
    "    yaxis_tickformat='.2f',  # Format y-axis numbers to 2 decimal places\n",
    "    showlegend=False,        # Hide the legend\n",
    "    title=f\"Entropy generation - {DATA_TYPE} Snapshots - Parameter Space {PARAMETER_SPACE}\",       # Optional: add a title\n",
    "    xaxis_title=\"Time [s]\",    # Optional: label for x-axis\n",
    "    yaxis_title=\"Entropy [W/K]\"     # Optional: label for y-axis\n",
    ")\n",
    "if IS_EXPORT:\n",
    "    fig.write_image(export_folder / f\"{DATA_TYPE}_EntropyGeneration.png\")\n",
    "    fig.write_html(export_folder / f\"{DATA_TYPE}_EntropyGeneration.html\")\n",
    "fig.show()"
   ]
  },
  {
   "cell_type": "markdown",
   "metadata": {},
   "source": [
    "### Plot entropy generation number"
   ]
  },
  {
   "cell_type": "code",
   "execution_count": 17,
   "metadata": {},
   "outputs": [
    {
     "data": {
      "application/vnd.plotly.v1+json": {
       "config": {
        "plotlyServerURL": "https://plot.ly"
       },
       "data": [
        {
         "line": {
          "color": "rgb(0, 0, 131)"
         },
         "mode": "lines",
         "name": "000",
         "opacity": 0.4,
         "type": "scatter",
         "x": [
          0,
          17500000000000,
          35000000000000
         ],
         "y": {
          "bdata": "VojOtcb87T/5Vu/UYU3wP3IGIqBlTfA/",
          "dtype": "f8"
         }
        },
        {
         "line": {
          "color": "rgb(0, 15, 141)"
         },
         "mode": "lines",
         "name": "001",
         "opacity": 0.4,
         "type": "scatter",
         "x": [
          0,
          17500000000000,
          35000000000000
         ],
         "y": {
          "bdata": "FNBqt1Ug7j81QiKNFo3xP4hJbYwWjfE/",
          "dtype": "f8"
         }
        },
        {
         "line": {
          "color": "rgb(0, 30, 150)"
         },
         "mode": "lines",
         "name": "002",
         "opacity": 0.4,
         "type": "scatter",
         "x": [
          0,
          17500000000000,
          35000000000000
         ],
         "y": {
          "bdata": "NadKuIwV7j+uwtesk2HxP0qr8a2TYfE/",
          "dtype": "f8"
         }
        },
        {
         "line": {
          "color": "rgb(0, 45, 160)"
         },
         "mode": "lines",
         "name": "003",
         "opacity": 0.4,
         "type": "scatter",
         "x": [
          0,
          17500000000000,
          35000000000000
         ],
         "y": {
          "bdata": "DciUZNn+7T8Jst7SWZrwP5BlhldzmvA/",
          "dtype": "f8"
         }
        },
        {
         "line": {
          "color": "rgb(0, 60, 170)"
         },
         "mode": "lines",
         "name": "004",
         "opacity": 0.4,
         "type": "scatter",
         "x": [
          0,
          17500000000000,
          35000000000000
         ],
         "y": {
          "bdata": "1BLR4ecA7j+e+eBbw+7vPxNQ0Y3L7u8/",
          "dtype": "f8"
         }
        },
        {
         "line": {
          "color": "rgb(1, 109, 191)"
         },
         "mode": "lines",
         "name": "005",
         "opacity": 0.4,
         "type": "scatter",
         "x": [
          0,
          17500000000000,
          35000000000000
         ],
         "y": {
          "bdata": "Expe4+bz7T+We8pP6mTvPzy6MlroZO8/",
          "dtype": "f8"
         }
        },
        {
         "line": {
          "color": "rgb(2, 157, 212)"
         },
         "mode": "lines",
         "name": "006",
         "opacity": 0.4,
         "type": "scatter",
         "x": [
          0,
          17500000000000,
          35000000000000
         ],
         "y": {
          "bdata": "SOA8q7T+7T9adTLZ95TwPx+Rc9wPlfA/",
          "dtype": "f8"
         }
        },
        {
         "line": {
          "color": "rgb(4, 206, 234)"
         },
         "mode": "lines",
         "name": "007",
         "opacity": 0.4,
         "type": "scatter",
         "x": [
          0,
          17500000000000,
          35000000000000
         ],
         "y": {
          "bdata": "Gws8nRYA7j9Gk27sBsnwP6CJ2zpMyfA/",
          "dtype": "f8"
         }
        },
        {
         "line": {
          "color": "rgb(5, 255, 255)"
         },
         "mode": "lines",
         "name": "008",
         "opacity": 0.4,
         "type": "scatter",
         "x": [
          0,
          17500000000000,
          35000000000000
         ],
         "y": {
          "bdata": "8xuUVvUX7j/CYpMriajxP16ITSuJqPE/",
          "dtype": "f8"
         }
        },
        {
         "line": {
          "color": "rgb(67, 255, 191)"
         },
         "mode": "lines",
         "name": "009",
         "opacity": 0.4,
         "type": "scatter",
         "x": [
          0,
          17500000000000,
          35000000000000
         ],
         "y": {
          "bdata": "8m8La2Xz7T9NDdQpITbvPxkna7sfNu8/",
          "dtype": "f8"
         }
        },
        {
         "line": {
          "color": "rgb(130, 255, 128)"
         },
         "mode": "lines",
         "name": "010",
         "opacity": 0.4,
         "type": "scatter",
         "x": [
          0,
          17500000000000,
          35000000000000
         ],
         "y": {
          "bdata": "ww7xlGL57T8UMZEj4KjvP8bLzfH0qO8/",
          "dtype": "f8"
         }
        },
        {
         "line": {
          "color": "rgb(192, 255, 64)"
         },
         "mode": "lines",
         "name": "011",
         "opacity": 0.4,
         "type": "scatter",
         "x": [
          0,
          17500000000000,
          35000000000000
         ],
         "y": {
          "bdata": "1wreWC4d7j9uTma/Q7/0PyB1Trw+v/Q/",
          "dtype": "f8"
         }
        },
        {
         "line": {
          "color": "rgb(255, 255, 0)"
         },
         "mode": "lines",
         "name": "012",
         "opacity": 0.4,
         "type": "scatter",
         "x": [
          0,
          17500000000000,
          35000000000000
         ],
         "y": {
          "bdata": "H/nZ7qHv7T9+A+FxUvDtPwpG8HJS8O0/",
          "dtype": "f8"
         }
        },
        {
         "line": {
          "color": "rgb(254, 191, 0)"
         },
         "mode": "lines",
         "name": "013",
         "opacity": 0.4,
         "type": "scatter",
         "x": [
          0,
          17500000000000,
          35000000000000
         ],
         "y": {
          "bdata": "ZmDCZqn47T+14ZOVy3fvP0S10JR+eu8/",
          "dtype": "f8"
         }
        },
        {
         "line": {
          "color": "rgb(252, 128, 0)"
         },
         "mode": "lines",
         "name": "014",
         "opacity": 0.4,
         "type": "scatter",
         "x": [
          0,
          17500000000000,
          35000000000000
         ],
         "y": {
          "bdata": "9E1lyTQV7j+sjO0wwXvwP5skICzBe/A/",
          "dtype": "f8"
         }
        },
        {
         "line": {
          "color": "rgb(251, 64, 0)"
         },
         "mode": "lines",
         "name": "015",
         "opacity": 0.4,
         "type": "scatter",
         "x": [
          0,
          17500000000000,
          35000000000000
         ],
         "y": {
          "bdata": "UjLhjBck7j8+RSsCs/PxPwsUpgCz8/E/",
          "dtype": "f8"
         }
        },
        {
         "line": {
          "color": "rgb(250, 0, 0)"
         },
         "mode": "lines",
         "name": "016",
         "opacity": 0.4,
         "type": "scatter",
         "x": [
          0,
          17500000000000,
          35000000000000
         ],
         "y": {
          "bdata": "h2DYUCHr7T/NG1ZKvevtP2FxZEu96+0/",
          "dtype": "f8"
         }
        },
        {
         "line": {
          "color": "rgb(220, 0, 0)"
         },
         "mode": "lines",
         "name": "017",
         "opacity": 0.4,
         "type": "scatter",
         "x": [
          0,
          17500000000000,
          35000000000000
         ],
         "y": {
          "bdata": "2ix8B1UX7j9ga1kMyq3wP2SfSt7JrfA/",
          "dtype": "f8"
         }
        },
        {
         "line": {
          "color": "rgb(189, 0, 0)"
         },
         "mode": "lines",
         "name": "018",
         "opacity": 0.4,
         "type": "scatter",
         "x": [
          0,
          17500000000000,
          35000000000000
         ],
         "y": {
          "bdata": "GSNr89Dw7T+1YfK/cPLtP4a+kYQ1TO4/",
          "dtype": "f8"
         }
        },
        {
         "line": {
          "color": "rgb(159, 0, 0)"
         },
         "mode": "lines",
         "name": "019",
         "opacity": 0.4,
         "type": "scatter",
         "x": [
          0,
          17500000000000,
          35000000000000
         ],
         "y": {
          "bdata": "0ZETGIgU7j9DyjvlsWzwP9DWEuWxbPA/",
          "dtype": "f8"
         }
        }
       ],
       "layout": {
        "showlegend": false,
        "template": {
         "data": {
          "bar": [
           {
            "error_x": {
             "color": "#2a3f5f"
            },
            "error_y": {
             "color": "#2a3f5f"
            },
            "marker": {
             "line": {
              "color": "#E5ECF6",
              "width": 0.5
             },
             "pattern": {
              "fillmode": "overlay",
              "size": 10,
              "solidity": 0.2
             }
            },
            "type": "bar"
           }
          ],
          "barpolar": [
           {
            "marker": {
             "line": {
              "color": "#E5ECF6",
              "width": 0.5
             },
             "pattern": {
              "fillmode": "overlay",
              "size": 10,
              "solidity": 0.2
             }
            },
            "type": "barpolar"
           }
          ],
          "carpet": [
           {
            "aaxis": {
             "endlinecolor": "#2a3f5f",
             "gridcolor": "white",
             "linecolor": "white",
             "minorgridcolor": "white",
             "startlinecolor": "#2a3f5f"
            },
            "baxis": {
             "endlinecolor": "#2a3f5f",
             "gridcolor": "white",
             "linecolor": "white",
             "minorgridcolor": "white",
             "startlinecolor": "#2a3f5f"
            },
            "type": "carpet"
           }
          ],
          "choropleth": [
           {
            "colorbar": {
             "outlinewidth": 0,
             "ticks": ""
            },
            "type": "choropleth"
           }
          ],
          "contour": [
           {
            "colorbar": {
             "outlinewidth": 0,
             "ticks": ""
            },
            "colorscale": [
             [
              0,
              "#0d0887"
             ],
             [
              0.1111111111111111,
              "#46039f"
             ],
             [
              0.2222222222222222,
              "#7201a8"
             ],
             [
              0.3333333333333333,
              "#9c179e"
             ],
             [
              0.4444444444444444,
              "#bd3786"
             ],
             [
              0.5555555555555556,
              "#d8576b"
             ],
             [
              0.6666666666666666,
              "#ed7953"
             ],
             [
              0.7777777777777778,
              "#fb9f3a"
             ],
             [
              0.8888888888888888,
              "#fdca26"
             ],
             [
              1,
              "#f0f921"
             ]
            ],
            "type": "contour"
           }
          ],
          "contourcarpet": [
           {
            "colorbar": {
             "outlinewidth": 0,
             "ticks": ""
            },
            "type": "contourcarpet"
           }
          ],
          "heatmap": [
           {
            "colorbar": {
             "outlinewidth": 0,
             "ticks": ""
            },
            "colorscale": [
             [
              0,
              "#0d0887"
             ],
             [
              0.1111111111111111,
              "#46039f"
             ],
             [
              0.2222222222222222,
              "#7201a8"
             ],
             [
              0.3333333333333333,
              "#9c179e"
             ],
             [
              0.4444444444444444,
              "#bd3786"
             ],
             [
              0.5555555555555556,
              "#d8576b"
             ],
             [
              0.6666666666666666,
              "#ed7953"
             ],
             [
              0.7777777777777778,
              "#fb9f3a"
             ],
             [
              0.8888888888888888,
              "#fdca26"
             ],
             [
              1,
              "#f0f921"
             ]
            ],
            "type": "heatmap"
           }
          ],
          "histogram": [
           {
            "marker": {
             "pattern": {
              "fillmode": "overlay",
              "size": 10,
              "solidity": 0.2
             }
            },
            "type": "histogram"
           }
          ],
          "histogram2d": [
           {
            "colorbar": {
             "outlinewidth": 0,
             "ticks": ""
            },
            "colorscale": [
             [
              0,
              "#0d0887"
             ],
             [
              0.1111111111111111,
              "#46039f"
             ],
             [
              0.2222222222222222,
              "#7201a8"
             ],
             [
              0.3333333333333333,
              "#9c179e"
             ],
             [
              0.4444444444444444,
              "#bd3786"
             ],
             [
              0.5555555555555556,
              "#d8576b"
             ],
             [
              0.6666666666666666,
              "#ed7953"
             ],
             [
              0.7777777777777778,
              "#fb9f3a"
             ],
             [
              0.8888888888888888,
              "#fdca26"
             ],
             [
              1,
              "#f0f921"
             ]
            ],
            "type": "histogram2d"
           }
          ],
          "histogram2dcontour": [
           {
            "colorbar": {
             "outlinewidth": 0,
             "ticks": ""
            },
            "colorscale": [
             [
              0,
              "#0d0887"
             ],
             [
              0.1111111111111111,
              "#46039f"
             ],
             [
              0.2222222222222222,
              "#7201a8"
             ],
             [
              0.3333333333333333,
              "#9c179e"
             ],
             [
              0.4444444444444444,
              "#bd3786"
             ],
             [
              0.5555555555555556,
              "#d8576b"
             ],
             [
              0.6666666666666666,
              "#ed7953"
             ],
             [
              0.7777777777777778,
              "#fb9f3a"
             ],
             [
              0.8888888888888888,
              "#fdca26"
             ],
             [
              1,
              "#f0f921"
             ]
            ],
            "type": "histogram2dcontour"
           }
          ],
          "mesh3d": [
           {
            "colorbar": {
             "outlinewidth": 0,
             "ticks": ""
            },
            "type": "mesh3d"
           }
          ],
          "parcoords": [
           {
            "line": {
             "colorbar": {
              "outlinewidth": 0,
              "ticks": ""
             }
            },
            "type": "parcoords"
           }
          ],
          "pie": [
           {
            "automargin": true,
            "type": "pie"
           }
          ],
          "scatter": [
           {
            "fillpattern": {
             "fillmode": "overlay",
             "size": 10,
             "solidity": 0.2
            },
            "type": "scatter"
           }
          ],
          "scatter3d": [
           {
            "line": {
             "colorbar": {
              "outlinewidth": 0,
              "ticks": ""
             }
            },
            "marker": {
             "colorbar": {
              "outlinewidth": 0,
              "ticks": ""
             }
            },
            "type": "scatter3d"
           }
          ],
          "scattercarpet": [
           {
            "marker": {
             "colorbar": {
              "outlinewidth": 0,
              "ticks": ""
             }
            },
            "type": "scattercarpet"
           }
          ],
          "scattergeo": [
           {
            "marker": {
             "colorbar": {
              "outlinewidth": 0,
              "ticks": ""
             }
            },
            "type": "scattergeo"
           }
          ],
          "scattergl": [
           {
            "marker": {
             "colorbar": {
              "outlinewidth": 0,
              "ticks": ""
             }
            },
            "type": "scattergl"
           }
          ],
          "scattermap": [
           {
            "marker": {
             "colorbar": {
              "outlinewidth": 0,
              "ticks": ""
             }
            },
            "type": "scattermap"
           }
          ],
          "scattermapbox": [
           {
            "marker": {
             "colorbar": {
              "outlinewidth": 0,
              "ticks": ""
             }
            },
            "type": "scattermapbox"
           }
          ],
          "scatterpolar": [
           {
            "marker": {
             "colorbar": {
              "outlinewidth": 0,
              "ticks": ""
             }
            },
            "type": "scatterpolar"
           }
          ],
          "scatterpolargl": [
           {
            "marker": {
             "colorbar": {
              "outlinewidth": 0,
              "ticks": ""
             }
            },
            "type": "scatterpolargl"
           }
          ],
          "scatterternary": [
           {
            "marker": {
             "colorbar": {
              "outlinewidth": 0,
              "ticks": ""
             }
            },
            "type": "scatterternary"
           }
          ],
          "surface": [
           {
            "colorbar": {
             "outlinewidth": 0,
             "ticks": ""
            },
            "colorscale": [
             [
              0,
              "#0d0887"
             ],
             [
              0.1111111111111111,
              "#46039f"
             ],
             [
              0.2222222222222222,
              "#7201a8"
             ],
             [
              0.3333333333333333,
              "#9c179e"
             ],
             [
              0.4444444444444444,
              "#bd3786"
             ],
             [
              0.5555555555555556,
              "#d8576b"
             ],
             [
              0.6666666666666666,
              "#ed7953"
             ],
             [
              0.7777777777777778,
              "#fb9f3a"
             ],
             [
              0.8888888888888888,
              "#fdca26"
             ],
             [
              1,
              "#f0f921"
             ]
            ],
            "type": "surface"
           }
          ],
          "table": [
           {
            "cells": {
             "fill": {
              "color": "#EBF0F8"
             },
             "line": {
              "color": "white"
             }
            },
            "header": {
             "fill": {
              "color": "#C8D4E3"
             },
             "line": {
              "color": "white"
             }
            },
            "type": "table"
           }
          ]
         },
         "layout": {
          "annotationdefaults": {
           "arrowcolor": "#2a3f5f",
           "arrowhead": 0,
           "arrowwidth": 1
          },
          "autotypenumbers": "strict",
          "coloraxis": {
           "colorbar": {
            "outlinewidth": 0,
            "ticks": ""
           }
          },
          "colorscale": {
           "diverging": [
            [
             0,
             "#8e0152"
            ],
            [
             0.1,
             "#c51b7d"
            ],
            [
             0.2,
             "#de77ae"
            ],
            [
             0.3,
             "#f1b6da"
            ],
            [
             0.4,
             "#fde0ef"
            ],
            [
             0.5,
             "#f7f7f7"
            ],
            [
             0.6,
             "#e6f5d0"
            ],
            [
             0.7,
             "#b8e186"
            ],
            [
             0.8,
             "#7fbc41"
            ],
            [
             0.9,
             "#4d9221"
            ],
            [
             1,
             "#276419"
            ]
           ],
           "sequential": [
            [
             0,
             "#0d0887"
            ],
            [
             0.1111111111111111,
             "#46039f"
            ],
            [
             0.2222222222222222,
             "#7201a8"
            ],
            [
             0.3333333333333333,
             "#9c179e"
            ],
            [
             0.4444444444444444,
             "#bd3786"
            ],
            [
             0.5555555555555556,
             "#d8576b"
            ],
            [
             0.6666666666666666,
             "#ed7953"
            ],
            [
             0.7777777777777778,
             "#fb9f3a"
            ],
            [
             0.8888888888888888,
             "#fdca26"
            ],
            [
             1,
             "#f0f921"
            ]
           ],
           "sequentialminus": [
            [
             0,
             "#0d0887"
            ],
            [
             0.1111111111111111,
             "#46039f"
            ],
            [
             0.2222222222222222,
             "#7201a8"
            ],
            [
             0.3333333333333333,
             "#9c179e"
            ],
            [
             0.4444444444444444,
             "#bd3786"
            ],
            [
             0.5555555555555556,
             "#d8576b"
            ],
            [
             0.6666666666666666,
             "#ed7953"
            ],
            [
             0.7777777777777778,
             "#fb9f3a"
            ],
            [
             0.8888888888888888,
             "#fdca26"
            ],
            [
             1,
             "#f0f921"
            ]
           ]
          },
          "colorway": [
           "#636efa",
           "#EF553B",
           "#00cc96",
           "#ab63fa",
           "#FFA15A",
           "#19d3f3",
           "#FF6692",
           "#B6E880",
           "#FF97FF",
           "#FECB52"
          ],
          "font": {
           "color": "#2a3f5f"
          },
          "geo": {
           "bgcolor": "white",
           "lakecolor": "white",
           "landcolor": "#E5ECF6",
           "showlakes": true,
           "showland": true,
           "subunitcolor": "white"
          },
          "hoverlabel": {
           "align": "left"
          },
          "hovermode": "closest",
          "mapbox": {
           "style": "light"
          },
          "paper_bgcolor": "white",
          "plot_bgcolor": "#E5ECF6",
          "polar": {
           "angularaxis": {
            "gridcolor": "white",
            "linecolor": "white",
            "ticks": ""
           },
           "bgcolor": "#E5ECF6",
           "radialaxis": {
            "gridcolor": "white",
            "linecolor": "white",
            "ticks": ""
           }
          },
          "scene": {
           "xaxis": {
            "backgroundcolor": "#E5ECF6",
            "gridcolor": "white",
            "gridwidth": 2,
            "linecolor": "white",
            "showbackground": true,
            "ticks": "",
            "zerolinecolor": "white"
           },
           "yaxis": {
            "backgroundcolor": "#E5ECF6",
            "gridcolor": "white",
            "gridwidth": 2,
            "linecolor": "white",
            "showbackground": true,
            "ticks": "",
            "zerolinecolor": "white"
           },
           "zaxis": {
            "backgroundcolor": "#E5ECF6",
            "gridcolor": "white",
            "gridwidth": 2,
            "linecolor": "white",
            "showbackground": true,
            "ticks": "",
            "zerolinecolor": "white"
           }
          },
          "shapedefaults": {
           "line": {
            "color": "#2a3f5f"
           }
          },
          "ternary": {
           "aaxis": {
            "gridcolor": "white",
            "linecolor": "white",
            "ticks": ""
           },
           "baxis": {
            "gridcolor": "white",
            "linecolor": "white",
            "ticks": ""
           },
           "bgcolor": "#E5ECF6",
           "caxis": {
            "gridcolor": "white",
            "linecolor": "white",
            "ticks": ""
           }
          },
          "title": {
           "x": 0.05
          },
          "xaxis": {
           "automargin": true,
           "gridcolor": "white",
           "linecolor": "white",
           "ticks": "",
           "title": {
            "standoff": 15
           },
           "zerolinecolor": "white",
           "zerolinewidth": 2
          },
          "yaxis": {
           "automargin": true,
           "gridcolor": "white",
           "linecolor": "white",
           "ticks": "",
           "title": {
            "standoff": 15
           },
           "zerolinecolor": "white",
           "zerolinewidth": 2
          }
         }
        },
        "title": {
         "text": "Entropy generation number - Test Snapshots - Parameter Space 07"
        },
        "xaxis": {
         "tickformat": ".2e",
         "title": {
          "text": "Time [s]"
         }
        },
        "yaxis": {
         "tickformat": ".2f",
         "title": {
          "text": "Entropy [-]"
         }
        }
       }
      }
     },
     "metadata": {},
     "output_type": "display_data"
    }
   ],
   "source": [
    "fig = go.Figure()\n",
    "\n",
    "for idx_snap, entropies in enumerate(entropy_gen_number):\n",
    "    fig.add_trace(go.Scatter(x=list(comsol_data_ref.times.values()),\n",
    "                             y=entropies,\n",
    "                                mode='lines',\n",
    "                                name=f\"{idx_snap:03d}\",\n",
    "                                opacity=0.4,\n",
    "                            line=dict(color=colors[idx_snap])\n",
    "                ))\n",
    "    \n",
    "fig.update_layout(\n",
    "    xaxis_tickformat='.2e',  # Format x-axis numbers to 2 decimal places\n",
    "    yaxis_tickformat='.2f',  # Format y-axis numbers to 2 decimal places\n",
    "    showlegend=False,        # Hide the legend\n",
    "    title=f\"Entropy generation number - {DATA_TYPE} Snapshots - Parameter Space {PARAMETER_SPACE}\",       # Optional: add a title\n",
    "    xaxis_title=\"Time [s]\",    # Optional: label for x-axis\n",
    "    yaxis_title=\"Entropy [-]\"     # Optional: label for y-axis\n",
    ")\n",
    "if IS_EXPORT:\n",
    "    fig.write_image(export_folder/ f\"{DATA_TYPE}_EntropyGenerationNumber.png\")\n",
    "    fig.write_html(export_folder/ f\"{DATA_TYPE}_EntropyGenerationNumber.html\")\n",
    "fig.show()"
   ]
  }
 ],
 "metadata": {
  "kernelspec": {
   "display_name": ".venv",
   "language": "python",
   "name": "python3"
  },
  "language_info": {
   "codemirror_mode": {
    "name": "ipython",
    "version": 3
   },
   "file_extension": ".py",
   "mimetype": "text/x-python",
   "name": "python",
   "nbconvert_exporter": "python",
   "pygments_lexer": "ipython3",
   "version": "3.12.4"
  }
 },
 "nbformat": 4,
 "nbformat_minor": 2
}
