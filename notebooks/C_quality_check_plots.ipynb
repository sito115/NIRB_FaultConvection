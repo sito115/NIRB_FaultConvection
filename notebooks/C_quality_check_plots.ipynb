{
 "cells": [
  {
   "cell_type": "markdown",
   "metadata": {},
   "source": [
    "### Add venv modules"
   ]
  },
  {
   "cell_type": "code",
   "execution_count": 23,
   "metadata": {},
   "outputs": [],
   "source": [
    "import numpy as np\n",
    "import plotly.express as px\n",
    "import plotly.graph_objects as go\n",
    "from pathlib import Path\n",
    "import pandas as pd\n",
    "import pint\n",
    "import sys\n",
    "from tqdm import tqdm\n",
    "from joblib import dump, load"
   ]
  },
  {
   "cell_type": "code",
   "execution_count": 24,
   "metadata": {},
   "outputs": [],
   "source": [
    "sys.path.append(str(Path.cwd().parent))"
   ]
  },
  {
   "cell_type": "markdown",
   "metadata": {},
   "source": [
    "### Add local modules"
   ]
  },
  {
   "cell_type": "code",
   "execution_count": 25,
   "metadata": {},
   "outputs": [],
   "source": [
    "from src.utils import safe_parse_quantity , calculate_thermal_entropy_generation\n",
    "from comsol_module.comsol_classes import COMSOL_VTU\n",
    "from comsol_module.entropy import calculate_S_therm"
   ]
  },
  {
   "cell_type": "markdown",
   "metadata": {},
   "source": [
    "### Import "
   ]
  },
  {
   "cell_type": "code",
   "execution_count": 26,
   "metadata": {},
   "outputs": [
    {
     "data": {
      "text/plain": [
       "PosixPath('/Users/thomassimader/Library/CloudStorage/OneDrive-geomeconGmbH/PhD/NIRB')"
      ]
     },
     "execution_count": 26,
     "metadata": {},
     "output_type": "execute_result"
    }
   ],
   "source": [
    "ROOT = Path().cwd().parent\n",
    "PARAMETER_SPACE = \"03\"\n",
    "DATA_TYPE = \"Training\"\n",
    "IS_LOAD_NPY : bool = True\n",
    "IS_LOAD_JOBLIB : bool = False\n",
    "IS_EXPORT = True\n",
    "IS_LOAD_VTU = False # For entropy\n",
    "assert IS_LOAD_NPY != IS_LOAD_JOBLIB\n",
    "ROOT"
   ]
  },
  {
   "cell_type": "code",
   "execution_count": 27,
   "metadata": {},
   "outputs": [],
   "source": [
    "export_folder = ROOT / \"data\" / PARAMETER_SPACE / f\"{DATA_TYPE}Mapped\" / \"s100_100_100_b0_4000_0_5000_-4000_-0\" / \"Exports\"\n",
    "# export_folder = ROOT / \"data\" / PARAMETER_SPACE / \"Exports\"\n",
    "assert export_folder.exists()\n",
    "# import_folder = ROOT / \"data\" / PARAMETER_SPACE / f\"{DATA_TYPE}Original\" #export_folder #ROOT / \"data\" / PARAMETER_SPACE / \"\"\n",
    "import_folder = export_folder\n",
    "assert import_folder.exists()\n"
   ]
  },
  {
   "cell_type": "code",
   "execution_count": 28,
   "metadata": {},
   "outputs": [],
   "source": [
    "if IS_LOAD_NPY:\n",
    "    try:\n",
    "        temperatures      = np.load(import_folder  / f\"{DATA_TYPE}_temperatures.npy\" )\n",
    "    except FileNotFoundError:\n",
    "        temperatures = None\n",
    "    try:\n",
    "        temperatures_diff = np.load(import_folder  / f\"{DATA_TYPE}_temperatures_minus_tgrad.npy\" )\n",
    "    except FileNotFoundError:\n",
    "        temperatures_diff = None\n",
    "    try:\n",
    "        sim_times_path = import_folder  / f\"{DATA_TYPE}_sim_times.npy\"\n",
    "        sim_times = np.load(sim_times_path)\n",
    "    except FileNotFoundError:\n",
    "        sim_times = None\n",
    "if IS_LOAD_JOBLIB:\n",
    "    temperatures      = load(import_folder / f\"{DATA_TYPE}_temperatures.joblib\" )\n",
    "    temperatures_diff = load(import_folder / f\"{DATA_TYPE}_temperatures_diff.joblib\" )"
   ]
  },
  {
   "cell_type": "code",
   "execution_count": null,
   "metadata": {},
   "outputs": [
    {
     "ename": "TypeError",
     "evalue": "object of type 'NoneType' has no len()",
     "output_type": "error",
     "traceback": [
      "\u001b[31m---------------------------------------------------------------------------\u001b[39m",
      "\u001b[31mTypeError\u001b[39m                                 Traceback (most recent call last)",
      "\u001b[36mCell\u001b[39m\u001b[36m \u001b[39m\u001b[32mIn[29]\u001b[39m\u001b[32m, line 1\u001b[39m\n\u001b[32m----> \u001b[39m\u001b[32m1\u001b[39m N_SNAPS = \u001b[38;5;28;43mlen\u001b[39;49m\u001b[43m(\u001b[49m\u001b[43mtemperatures\u001b[49m\u001b[43m)\u001b[49m\n\u001b[32m      2\u001b[39m colors = px.colors.sample_colorscale(\u001b[33m\"\u001b[39m\u001b[33mjet\u001b[39m\u001b[33m\"\u001b[39m, [n/(N_SNAPS) \u001b[38;5;28;01mfor\u001b[39;00m n \u001b[38;5;129;01min\u001b[39;00m \u001b[38;5;28mrange\u001b[39m(N_SNAPS)])\n",
      "\u001b[31mTypeError\u001b[39m: object of type 'NoneType' has no len()"
     ]
    }
   ],
   "source": [
    "N_SNAPS = len(temperatures_diff)\n",
    "colors = px.colors.sample_colorscale(\"jet\", [n/(N_SNAPS) for n in range(N_SNAPS)])"
   ]
  },
  {
   "cell_type": "code",
   "execution_count": null,
   "metadata": {},
   "outputs": [],
   "source": [
    "# comsol_data  = COMSOL_VTU( ROOT / \"data\" / PARAMETER_SPACE / \"Training\" / f\"{DATA_TYPE}_000.vtu\")\n",
    "# comsol_data  = COMSOL_VTU(import_folder / \"Training_000_s50_50_50_b50_3950_50_4950_-3950_0.vti\")\n",
    "# comsol_data = COMSOL_VTU(\"/Users/thomassimader/Documents/NIRB/data/01/TrainingMapped/s100_100_100_b0_4000_0_5000_-4000_0/Training_000_s100_100_100_b0_4000_0_5000_-4000_0.vtu\")\n",
    "comsol_data = COMSOL_VTU(ROOT / f\"data/{PARAMETER_SPACE}/TrainingOriginal/Training_100.vtu\")\n"
   ]
  },
  {
   "cell_type": "markdown",
   "metadata": {},
   "source": [
    "## Plot"
   ]
  },
  {
   "cell_type": "markdown",
   "metadata": {},
   "source": [
    "### Min max temperature difference"
   ]
  },
  {
   "cell_type": "code",
   "execution_count": null,
   "metadata": {},
   "outputs": [
    {
     "data": {
      "application/vnd.plotly.v1+json": {
       "config": {
        "plotlyServerURL": "https://plot.ly"
       },
       "data": [
        {
         "legendgroup": "000",
         "line": {
          "color": "rgb(0, 0, 131)"
         },
         "name": "000",
         "opacity": 0.4,
         "type": "scatter",
         "x": [
          0,
          1000000000000,
          2000000000000,
          3000000000000,
          4000000000000,
          5000000000000,
          6000000000000,
          7000000000000,
          8000000000000,
          9000000000000,
          10000000000000,
          11000000000000,
          12000000000000,
          13000000000000,
          14000000000000,
          15000000000000,
          16000000000000,
          17000000000000,
          18000000000000,
          19000000000000,
          20000000000000,
          21000000000000,
          22000000000000,
          23000000000000,
          24000000000000,
          25000000000000,
          26000000000000,
          27000000000000,
          28000000000000,
          29000000000000,
          30000000000000,
          31000000000000,
          32000000000000,
          33000000000000,
          34000000000000,
          35000000000000,
          36000000000000,
          37000000000000,
          38000000000000,
          39000000000000,
          40000000000000
         ],
         "y": {
          "bdata": "AAAAAAAAVD0QKlHA6Xo+QJAiUST+gT1AMNeQ4PLzPkAAZKVzz3o+QBAT/sVqcj5AADDArE55PkAgf0EOHn8+QJBFYk/TgD5AECCuYkaAPkAQPZj/hn8+QJA0UbhWfz5A8KZwDE1/PkDQf5QQcH8+QPBqFY6Pfz5AYOCKoa1/PkDQVQC1y38+QHDfEbLkfz5AYCazBOt/PkAgbVRX8X8+QBC09an3fz5A8NG5bvt/PkCAKXvU9X8+QBCBPDrwfz5AkNj9n+p/PkDw4wMS5X8+QHAXDbHffz5AAEsWUNp/PkCQfh/v1H8+QPDfKlzQfz5AkFoNvc5/PkBw1e8dzX8+QDBQ0n7Lfz5AsPNXPcp/PkBgMWtTyn8+QPBufmnKfz5AYKyRf8p/PkDwwxewyn8+QHDyp0HLfz5A8CA408t/PkBwT8hkzH8+QA==",
          "dtype": "f8"
         }
        },
        {
         "legendgroup": "000",
         "line": {
          "color": "rgb(0, 0, 131)"
         },
         "name": "000",
         "opacity": 0.4,
         "type": "scatter",
         "x": [
          0,
          1000000000000,
          2000000000000,
          3000000000000,
          4000000000000,
          5000000000000,
          6000000000000,
          7000000000000,
          8000000000000,
          9000000000000,
          10000000000000,
          11000000000000,
          12000000000000,
          13000000000000,
          14000000000000,
          15000000000000,
          16000000000000,
          17000000000000,
          18000000000000,
          19000000000000,
          20000000000000,
          21000000000000,
          22000000000000,
          23000000000000,
          24000000000000,
          25000000000000,
          26000000000000,
          27000000000000,
          28000000000000,
          29000000000000,
          30000000000000,
          31000000000000,
          32000000000000,
          33000000000000,
          34000000000000,
          35000000000000,
          36000000000000,
          37000000000000,
          38000000000000,
          39000000000000,
          40000000000000
         ],
         "y": {
          "bdata": "wPWs/oFlIsAgrFvC5uxBwLAfBlAj3T/AkDd/+xyFP8CQHivKZLg+wDB60sGdnT7AYAYoOpiCPsBgB61ySJA+wKCmHpZhkj7AkAhUF92PPsCQvQdUGI4+wPAATqnrjT7AkIANyvONPsCwl+8GOY4+wPAIA4tgjj7AoNY3I3yOPsBApGy7l44+wJBnK32sjj7AkO+DKKiOPsCwd9zTo44+wLD/NH+fjj7A8J/nkZqOPsBAXIp0k44+wGAYLVeMjj7AkNTPOYWOPsCQjQ5Rf44+wKD+lNR9jj7AsG8bWHyOPsCw4KHbeo4+wKD8v+55jj7A8Gy0EHuOPsCQ3agyfI4+wLBNnVR9jj7A8Go/ZH6OPsCQ2Kgwf44+wGBGEv1/jj7AsLN7yYCOPsBgJzh9gY4+wJDEa9aBjj7A8GGfL4KOPsCQ/9KIgo4+wA==",
          "dtype": "f8"
         }
        },
        {
         "legendgroup": "001",
         "line": {
          "color": "rgb(0, 8, 136)"
         },
         "name": "001",
         "opacity": 0.4,
         "type": "scatter",
         "x": [
          0,
          1000000000000,
          2000000000000,
          3000000000000,
          4000000000000,
          5000000000000,
          6000000000000,
          7000000000000,
          8000000000000,
          9000000000000,
          10000000000000,
          11000000000000,
          12000000000000,
          13000000000000,
          14000000000000,
          15000000000000,
          16000000000000,
          17000000000000,
          18000000000000,
          19000000000000,
          20000000000000,
          21000000000000,
          22000000000000,
          23000000000000,
          24000000000000,
          25000000000000,
          26000000000000,
          27000000000000,
          28000000000000,
          29000000000000,
          30000000000000,
          31000000000000,
          32000000000000,
          33000000000000,
          34000000000000,
          35000000000000,
          36000000000000,
          37000000000000,
          38000000000000,
          39000000000000,
          40000000000000
         ],
         "y": {
          "bdata": "AAAAAAAAUD1wLV2GDN4+QODZbVomTz9A6APiuf0FQEBInZV/XA1AQIi2fPYKDUBAeOXhHsMNQEBI+U8+Dw9AQEhd8ZamD0BAyMxzX+gPQEBINvdQ6Q9AQAgZz3PTD0BAaC/cvbwPQEB4pIxdpw9AQHhiDpCcD0BAiCCQwpEPQECQ3hH1hg9AQPh0kFx9D0BAwEkvVH0PQECIHs5LfQ9AQEjzbEN9D0BAWD3SlX0PQEC4FG+3gA9AQADsC9mDD0BAWMOo+oYPQECY9DD4iQ9AQEiv2teLD0BACGqEt40PQEC4JC6Xjw9AQJigklKRD0BAQJ2X7pEPQEDomZyKkg9AQIiWoSaTD0BASOb/rZMPQEA4mb+Rkw9AQBhMf3WTD0BACP8+WZMPQED4pZ8ukw9AQEgDI5KSD0BAsGCm9ZEPQED4vSlZkQ9AQA==",
          "dtype": "f8"
         }
        },
        {
         "legendgroup": "001",
         "line": {
          "color": "rgb(0, 8, 136)"
         },
         "name": "001",
         "opacity": 0.4,
         "type": "scatter",
         "x": [
          0,
          1000000000000,
          2000000000000,
          3000000000000,
          4000000000000,
          5000000000000,
          6000000000000,
          7000000000000,
          8000000000000,
          9000000000000,
          10000000000000,
          11000000000000,
          12000000000000,
          13000000000000,
          14000000000000,
          15000000000000,
          16000000000000,
          17000000000000,
          18000000000000,
          19000000000000,
          20000000000000,
          21000000000000,
          22000000000000,
          23000000000000,
          24000000000000,
          25000000000000,
          26000000000000,
          27000000000000,
          28000000000000,
          29000000000000,
          30000000000000,
          31000000000000,
          32000000000000,
          33000000000000,
          34000000000000,
          35000000000000,
          36000000000000,
          37000000000000,
          38000000000000,
          39000000000000,
          40000000000000
         ],
         "y": {
          "bdata": "APKEalrcIsBgS4TBiY1DwDhOI5l4f0DAuAN1qik/QMC4olH1CRJAwLB6vMiz/z/AcHSijlD5P8AAc8e05fs/wLATNnpO/T/AUL9J8Nv9P8AgiRAN0P0/wHCePRGv/T/AIO3jTI39P8BQiZyHbv0/wACd4X9n/T/AcLAmeGD9P8BQxGtwWf0/wHA/g6pT/T/AcKNq2lf9P8BQB1IKXP0/wFBrOTpg/T/AUFF7TGT9P8BQQ9lzZ/0/wFA1N5tq/T/AUCeVwm39P8BQacSbcP0/wCA5gglx/T/AcAhAd3H9P8BQ2P3kcf0/wLC9ST9y/T/AYFuF/3H9P8Ag+cC/cf0/wHCW/H9x/T/AcC/4PXH9P8Bw9h/qcP0/wHC9R5Zw/T/AcIRvQnD9P8CwZI7vb/0/wHAKU6Rv/T/AYLAXWW/9P8BQVtwNb/0/wA==",
          "dtype": "f8"
         }
        },
        {
         "legendgroup": "002",
         "line": {
          "color": "rgb(0, 15, 141)"
         },
         "name": "002",
         "opacity": 0.4,
         "type": "scatter",
         "x": [
          0,
          1000000000000,
          2000000000000,
          3000000000000,
          4000000000000,
          5000000000000,
          6000000000000,
          7000000000000,
          8000000000000,
          9000000000000,
          10000000000000,
          11000000000000,
          12000000000000,
          13000000000000,
          14000000000000,
          15000000000000,
          16000000000000,
          17000000000000,
          18000000000000,
          19000000000000,
          20000000000000,
          21000000000000,
          22000000000000,
          23000000000000,
          24000000000000,
          25000000000000,
          26000000000000,
          27000000000000,
          28000000000000,
          29000000000000,
          30000000000000,
          31000000000000,
          32000000000000,
          33000000000000,
          34000000000000,
          35000000000000,
          36000000000000,
          37000000000000,
          38000000000000,
          39000000000000,
          40000000000000
         ],
         "y": {
          "bdata": "AAAAAAAAUD0AAAAAAABQPQAAAAAAAFA9AAAAAAAAUD0AAAAAAABQPQAAAAAAAFA9AAAAAAAAUD0AAAAAAABQPQAAAAAAAFA9AAAAAAAAUD0AAAAAAABQPQAAAAAAAFA9AAAAAAAAUD0AAAAAAABQPQAAAAAAAFA9AAAAAAAAUD0AAAAAAABQPQAAAAAAAFA9AAAAAAAAUD0AAAAAAABQPQAAAAAAAFA9AAAAAAAAUD0AAAAAAABQPQAAAAAAAFA9AAAAAAAAUD0AAAAAAABQPQAAAAAAAFA9AAAAAAAAUD0AAAAAAABQPQAAAAAAAFA9AAAAAAAAUD0AAAAAAABQPQAAAAAAAFA9AAAAAAAAUD0AAAAAAABQPQAAAAAAAFA9AAAAAAAAUD0AAAAAAABQPQAAAAAAAFA9AAAAAAAAUD0AAAAAAABQPQ==",
          "dtype": "f8"
         }
        },
        {
         "legendgroup": "002",
         "line": {
          "color": "rgb(0, 15, 141)"
         },
         "name": "002",
         "opacity": 0.4,
         "type": "scatter",
         "x": [
          0,
          1000000000000,
          2000000000000,
          3000000000000,
          4000000000000,
          5000000000000,
          6000000000000,
          7000000000000,
          8000000000000,
          9000000000000,
          10000000000000,
          11000000000000,
          12000000000000,
          13000000000000,
          14000000000000,
          15000000000000,
          16000000000000,
          17000000000000,
          18000000000000,
          19000000000000,
          20000000000000,
          21000000000000,
          22000000000000,
          23000000000000,
          24000000000000,
          25000000000000,
          26000000000000,
          27000000000000,
          28000000000000,
          29000000000000,
          30000000000000,
          31000000000000,
          32000000000000,
          33000000000000,
          34000000000000,
          35000000000000,
          36000000000000,
          37000000000000,
          38000000000000,
          39000000000000,
          40000000000000
         ],
         "y": {
          "bdata": "AHWJbD4JEcCA3a+wlR0RwACk/vmAJBHAgKowL2knEcCAodq59CgRwMBATIPxKRHAAFDl2TsqEcDAXn4whioRwIBuF4fQKhHAAGmICwArEcDAwAcJDisRwAAYhwYcKxHAwG4GBCorEcAAIPj1MisRwADNbJk1KxHAAHnhPDgrEcCAJVbgOisRwIC+YpA8KxHAwP4qED0rEcAAQPOPPSsRwMCAuw8+KxHAAP2CYT4rEcCAFsl5PisRwAAxD5I+KxHAwElVqj4rEcCAWuG5PisRwMDJhL4+KxHAgDkowz4rEcCAqcvHPisRwMAAxco+KxHAALSpyz4rEcAAaI7MPisRwMAbc80+KxHAgPEFzj4rEcAAdDLOPisRwMD1Xs4+KxHAwHiLzj4rEcBAGajOPisRwADhsM4+KxHAAKi5zj4rEcAAcMLOPisRwA==",
          "dtype": "f8"
         }
        },
        {
         "legendgroup": "003",
         "line": {
          "color": "rgb(0, 22, 146)"
         },
         "name": "003",
         "opacity": 0.4,
         "type": "scatter",
         "x": [
          0,
          1000000000000,
          2000000000000,
          3000000000000,
          4000000000000,
          5000000000000,
          6000000000000,
          7000000000000,
          8000000000000,
          9000000000000,
          10000000000000,
          11000000000000,
          12000000000000,
          13000000000000,
          14000000000000,
          15000000000000,
          16000000000000,
          17000000000000,
          18000000000000,
          19000000000000,
          20000000000000,
          21000000000000,
          22000000000000,
          23000000000000,
          24000000000000,
          25000000000000,
          26000000000000,
          27000000000000,
          28000000000000,
          29000000000000,
          30000000000000,
          31000000000000,
          32000000000000,
          33000000000000,
          34000000000000,
          35000000000000,
          36000000000000,
          37000000000000,
          38000000000000,
          39000000000000,
          40000000000000
         ],
         "y": {
          "bdata": "AAAAAAAAWD0AAAAAAABYPQAAAAAAAFg9AAAAAAAAWD0ASmLXgn7hP0Dp82gIJx1AINa+1TpcLEAgsOvNXYUwQOA2eAVpADFAAF1LEiogMUAAFdiCXSgxQGAzx5pEKzFA0JfmzykrMUAAlRb0CCsxQBBvNnb6KjFAEOHtCvIqMUCQz8sy7SoxQKCQC4frKjFA4FFL2+kqMUAAE4sv6CoxQGD8CxbnKjFA0IphfuYqMUAgGbfm5SoxQKCnDE/lKjFAIBvu8uQqMUCgnavL5CoxQCAgaaTkKjFAwKImfeQqMUAg7Ztm5CoxQABl6F7kKjFAoNw0V+QqMUBQVIFP5CoxQJDu3k7kKjFAgIKCVOQqMUCAFiZa5CoxQICqyV/kKjFA4Km2aOQqMUDAl4505CoxQKCFZoDkKjFAkHM+jOQqMUAgv22a5CoxQA==",
          "dtype": "f8"
         }
        },
        {
         "legendgroup": "003",
         "line": {
          "color": "rgb(0, 22, 146)"
         },
         "name": "003",
         "opacity": 0.4,
         "type": "scatter",
         "x": [
          0,
          1000000000000,
          2000000000000,
          3000000000000,
          4000000000000,
          5000000000000,
          6000000000000,
          7000000000000,
          8000000000000,
          9000000000000,
          10000000000000,
          11000000000000,
          12000000000000,
          13000000000000,
          14000000000000,
          15000000000000,
          16000000000000,
          17000000000000,
          18000000000000,
          19000000000000,
          20000000000000,
          21000000000000,
          22000000000000,
          23000000000000,
          24000000000000,
          25000000000000,
          26000000000000,
          27000000000000,
          28000000000000,
          29000000000000,
          30000000000000,
          31000000000000,
          32000000000000,
          33000000000000,
          34000000000000,
          35000000000000,
          36000000000000,
          37000000000000,
          38000000000000,
          39000000000000,
          40000000000000
         ],
         "y": {
          "bdata": "wEOYmZAYFMAAKGYqJy0UwAC10Z+S3xTAwHU8XG1/F8DgHTTubBIgwOBTHZ4MlynAIMtTQ4BaMcBgA9cWNNUywMCH4K7HATPAIAvRK74AM8AgSNJwe/0ywNAqYPsO/DLA4CIG/vn7MsDAkhP85/sywCAJM2vi+zLAsFRl9+D7MsDQBNtn4PsywLAC8qLg+zLAIAAJ3uD7MsDQ/R8Z4fsywFAzuDjh+zLAwA7oP+H7MsAg6hdH4fsywLDFR07h+zLAIIq4VOH7MsCwrH9a4fsywGDPRmDh+zLAIPINZuH7MsBQm91q4fsywFCV0W7h+zLAII/FcuH7MsAgibl24fsywLCHHXvh+zLAIPbkf+H7MsDQZKyE4fsywGDTc4nh+zLAMOzFjuH7MsDQHJOU4fsywGBNYJrh+zLAIH4toOH7MsCwuKqm4fsywA==",
          "dtype": "f8"
         }
        },
        {
         "legendgroup": "004",
         "line": {
          "color": "rgb(0, 30, 150)"
         },
         "name": "004",
         "opacity": 0.4,
         "type": "scatter",
         "x": [
          0,
          1000000000000,
          2000000000000,
          3000000000000,
          4000000000000,
          5000000000000,
          6000000000000,
          7000000000000,
          8000000000000,
          9000000000000,
          10000000000000,
          11000000000000,
          12000000000000,
          13000000000000,
          14000000000000,
          15000000000000,
          16000000000000,
          17000000000000,
          18000000000000,
          19000000000000,
          20000000000000,
          21000000000000,
          22000000000000,
          23000000000000,
          24000000000000,
          25000000000000,
          26000000000000,
          27000000000000,
          28000000000000,
          29000000000000,
          30000000000000,
          31000000000000,
          32000000000000,
          33000000000000,
          34000000000000,
          35000000000000,
          36000000000000,
          37000000000000,
          38000000000000,
          39000000000000,
          40000000000000
         ],
         "y": {
          "bdata": "AAAAAAAAQD0AAAAAAABAPQAAAAAAAEA9AAAAAAAAQD0AAAAAAABAPQAAAAAAAEA9AAAAAAAAQD0AAAAAAABAPQAAAAAAAEA9AAAAAAAAQD0AAAAAAABAPQAAAAAAAEA9AAAAAAAAQD0AAAAAAABAPQAAAAAAAEA9AAAAAAAAQD0AAAAAAABAPQAAAAAAAEA9AAAAAAAAQD0AAAAAAABAPQAAAAAAAEA9AAAAAAAAQD0AAAAAAABAPQAAAAAAAEA9AAAAAAAAQD0AAAAAAABAPQAAAAAAAEA9AAAAAAAAQD0AAAAAAABAPQAAAAAAAEA9AAAAAAAAQD0AAAAAAABAPQAAAAAAAEA9AAAAAAAAQD0AAAAAAABAPQAAAAAAAEA9AAAAAAAAQD0AAAAAAABAPQAAAAAAAEA9AAAAAAAAQD0AAAAAAABAPQ==",
          "dtype": "f8"
         }
        },
        {
         "legendgroup": "004",
         "line": {
          "color": "rgb(0, 30, 150)"
         },
         "name": "004",
         "opacity": 0.4,
         "type": "scatter",
         "x": [
          0,
          1000000000000,
          2000000000000,
          3000000000000,
          4000000000000,
          5000000000000,
          6000000000000,
          7000000000000,
          8000000000000,
          9000000000000,
          10000000000000,
          11000000000000,
          12000000000000,
          13000000000000,
          14000000000000,
          15000000000000,
          16000000000000,
          17000000000000,
          18000000000000,
          19000000000000,
          20000000000000,
          21000000000000,
          22000000000000,
          23000000000000,
          24000000000000,
          25000000000000,
          26000000000000,
          27000000000000,
          28000000000000,
          29000000000000,
          30000000000000,
          31000000000000,
          32000000000000,
          33000000000000,
          34000000000000,
          35000000000000,
          36000000000000,
          37000000000000,
          38000000000000,
          39000000000000,
          40000000000000
         ],
         "y": {
          "bdata": "AA33luEJEMAA7vDyhBwQwACio9gaIxDAgPZW0kwmEMAAngjThicQwABFutPAKBDAwExxrhwpEMDALk9vWikQwEASLTCYKRDAAPUK8dUpEMDAdXaW5SkQwADNhfzuKRDAgCOVYvgpEMDAeqTIASoQwIBXXjMDKhDAAFo5iQMqEMCAWxTfAyoQwABe7zQEKhDAAI50HAUqEMCAirYXBioQwICG+BIHKhDAwII6DggqEMCA870zCCoQwMAOSzwIKhDAgCrYRAgqEMCARmVNCCoQwMB6kGUIKhDAAG7ZfwgqEMCAXyKaCCoQwABSa7QIKhDAQEJLuAgqEMAA1iG5CCoQwABq+LkIKhDAAP7OuggqEMDAZFW9CCoQwABOFsAIKhDAwDbXwggqEMAAIZjFCCoQwABm/sUIKhDAQAITxggqEMCAnifGCCoQwA==",
          "dtype": "f8"
         }
        },
        {
         "legendgroup": "005",
         "line": {
          "color": "rgb(0, 38, 155)"
         },
         "name": "005",
         "opacity": 0.4,
         "type": "scatter",
         "x": [
          0,
          1000000000000,
          2000000000000,
          3000000000000,
          4000000000000,
          5000000000000,
          6000000000000,
          7000000000000,
          8000000000000,
          9000000000000,
          10000000000000,
          11000000000000,
          12000000000000,
          13000000000000,
          14000000000000,
          15000000000000,
          16000000000000,
          17000000000000,
          18000000000000,
          19000000000000,
          20000000000000,
          21000000000000,
          22000000000000,
          23000000000000,
          24000000000000,
          25000000000000,
          26000000000000,
          27000000000000,
          28000000000000,
          29000000000000,
          30000000000000,
          31000000000000,
          32000000000000,
          33000000000000,
          34000000000000,
          35000000000000,
          36000000000000,
          37000000000000,
          38000000000000,
          39000000000000,
          40000000000000
         ],
         "y": {
          "bdata": "AAAAAAAAUD0gSU2vGNAyQPDfI8s1Vj5A8MX0Pzj8PkAAqYZfX9M/QNgM7/xWXUBAgHjmYpkNQUBgS7fFkK5EQFAlv8m370NAyBAbFtuvQ0CI4TjSnpdDQBCwfOtFj0NAgOfsxCSMQ0DoeuN1NItDQDAnIwEhi0NA+BM0/R6LQ0DIAEX5HItDQKBsFTQbi0NAgEwjeRmLQ0BwLDG+F4tDQGAMPwMWi0NAIBoybBWLQ0AgzMcEFYtDQCB+XZ0Ui0NAIDDzNRSLQ0B4pMwFFItDQEDqqt4Ti0NAEDCJtxOLQ0DodWeQE4tDQAB0m4ITi0NACN/xeBOLQ0AQSkhvE4tDQCC1nmUTi0NAIMrnYROLQ0A4XClfE4tDQEDualwTi0NAYICsWROLQ0B4PLpYE4tDQCARE1gTi0NAwOVrVxOLQ0BousRWE4tDQA==",
          "dtype": "f8"
         }
        },
        {
         "legendgroup": "005",
         "line": {
          "color": "rgb(0, 38, 155)"
         },
         "name": "005",
         "opacity": 0.4,
         "type": "scatter",
         "x": [
          0,
          1000000000000,
          2000000000000,
          3000000000000,
          4000000000000,
          5000000000000,
          6000000000000,
          7000000000000,
          8000000000000,
          9000000000000,
          10000000000000,
          11000000000000,
          12000000000000,
          13000000000000,
          14000000000000,
          15000000000000,
          16000000000000,
          17000000000000,
          18000000000000,
          19000000000000,
          20000000000000,
          21000000000000,
          22000000000000,
          23000000000000,
          24000000000000,
          25000000000000,
          26000000000000,
          27000000000000,
          28000000000000,
          29000000000000,
          30000000000000,
          31000000000000,
          32000000000000,
          33000000000000,
          34000000000000,
          35000000000000,
          36000000000000,
          37000000000000,
          38000000000000,
          39000000000000,
          40000000000000
         ],
         "y": {
          "bdata": "gMkgoNZMG8BAjHa6vSQ4wMA1PGXDtD7AAB+2a+5rPsDwxILT+nw+wABWQ6XGxz7AIGzRiE1FP8AYpYbm+p9BwNA00uRRukHAINbkPv66QcDYVdq11rtBwAg38WklvEHA0P96TTi8QcCIS0nbObxBwOiwZu02vEHAaLhKHza8QcAIwC5RNbxBwKC1gRg1vEHACJ03+DS8QcCIhO3XNLxBwOhro7c0vEHAwDWYrzS8QcBI64GrNLxBwNiga6c0vEHAiFZVozS8QcCIfkuiNLxBwMgDwaE0vEHA2Ig2oTS8QcAYDqygNLxBwBjcjaA0vEHA2FWBoDS8QcDAz3SgNLxBwIhJaKA0vEHAINFloDS8QcDA/GSgNLxBwEgoZKA0vEHA2FNjoDS8QcBobmOgNLxBwAiwY6A0vEHAoPFjoDS8QcBIM2SgNLxBwA==",
          "dtype": "f8"
         }
        },
        {
         "legendgroup": "006",
         "line": {
          "color": "rgb(0, 45, 160)"
         },
         "name": "006",
         "opacity": 0.4,
         "type": "scatter",
         "x": [
          0,
          1000000000000,
          2000000000000,
          3000000000000,
          4000000000000,
          5000000000000,
          6000000000000,
          7000000000000,
          8000000000000,
          9000000000000,
          10000000000000,
          11000000000000,
          12000000000000,
          13000000000000,
          14000000000000,
          15000000000000,
          16000000000000,
          17000000000000,
          18000000000000,
          19000000000000,
          20000000000000,
          21000000000000,
          22000000000000,
          23000000000000,
          24000000000000,
          25000000000000,
          26000000000000,
          27000000000000,
          28000000000000,
          29000000000000,
          30000000000000,
          31000000000000,
          32000000000000,
          33000000000000,
          34000000000000,
          35000000000000,
          36000000000000,
          37000000000000,
          38000000000000,
          39000000000000,
          40000000000000
         ],
         "y": {
          "bdata": "AAAAAAAASD0AAAAAAABIPQAAAAAAAEg9AAAAAAAAUD0AAAAAAABQPQAAAAAAAFA9AAAAAAAAUD0AAAAAAABQPQAAAAAAAEg9AAAAAAAASD0AAAAAAABIPQAAAAAAAEg9AAAAAAAASD0AAAAAAABIPQAAAAAAAEg9AAAAAAAASD0AAAAAAABIPQAAAAAAAEg9AAAAAAAASD0AAAAAAABIPQAAAAAAAEg9AAAAAAAASD0AAAAAAABIPQAAAAAAAEg9AAAAAAAASD0AAAAAAABIPQAAAAAAAEg9AAAAAAAASD0AAAAAAABIPQAAAAAAAEg9AAAAAAAASD0AAAAAAABIPQAAAAAAAEg9AAAAAAAASD0AAAAAAABIPQAAAAAAAEg9AAAAAAAASD0AAAAAAABIPQAAAAAAAEg9AAAAAAAASD0AAAAAAABIPQ==",
          "dtype": "f8"
         }
        },
        {
         "legendgroup": "006",
         "line": {
          "color": "rgb(0, 45, 160)"
         },
         "name": "006",
         "opacity": 0.4,
         "type": "scatter",
         "x": [
          0,
          1000000000000,
          2000000000000,
          3000000000000,
          4000000000000,
          5000000000000,
          6000000000000,
          7000000000000,
          8000000000000,
          9000000000000,
          10000000000000,
          11000000000000,
          12000000000000,
          13000000000000,
          14000000000000,
          15000000000000,
          16000000000000,
          17000000000000,
          18000000000000,
          19000000000000,
          20000000000000,
          21000000000000,
          22000000000000,
          23000000000000,
          24000000000000,
          25000000000000,
          26000000000000,
          27000000000000,
          28000000000000,
          29000000000000,
          30000000000000,
          31000000000000,
          32000000000000,
          33000000000000,
          34000000000000,
          35000000000000,
          36000000000000,
          37000000000000,
          38000000000000,
          39000000000000,
          40000000000000
         ],
         "y": {
          "bdata": "gLbQuw3sD8DADJFXWggQwMDVbSbrDhDAQGR6KhgSEMBA0wgZXhMQwMBBlwekFBDAQMSCD/kUEMBACCM3ORUQwEBMw155FRDAQJBjhrkVEMAAB4OlxxUQwEDLqm7RFRDAQJDSN9sVEMDAVPoA5RUQwEAH6hzmFRDAQNdceOYVEMDApc/T5hUQwMB0Qi/nFRDAQIg5J+gVEMDA3MAs6RUQwMAxSDLqFRDAAIjPN+sVEMBAgxlV6xUQwIBYQ17rFRDAwC1tZ+sVEMBABJdw6xUQwMBhg4rrFRDAgJDjpesVEMBAv0PB6xUQwMDso9zrFRDAwJ2m3+sVEMDAxYzg6xUQwMDtcuHrFRDAQBdZ4usVEMDA8A/l6xUQwMAQ7+frFRDAQDDO6usVEMBAUK3t6xUQwAAZ/O3rFRDAAAIS7usVEMBA7Cfu6xUQwA==",
          "dtype": "f8"
         }
        },
        {
         "legendgroup": "007",
         "line": {
          "color": "rgb(0, 52, 165)"
         },
         "name": "007",
         "opacity": 0.4,
         "type": "scatter",
         "x": [
          0,
          1000000000000,
          2000000000000,
          3000000000000,
          4000000000000,
          5000000000000,
          6000000000000,
          7000000000000,
          8000000000000,
          9000000000000,
          10000000000000,
          11000000000000,
          12000000000000,
          13000000000000,
          14000000000000,
          15000000000000,
          16000000000000,
          17000000000000,
          18000000000000,
          19000000000000,
          20000000000000,
          21000000000000,
          22000000000000,
          23000000000000,
          24000000000000,
          25000000000000,
          26000000000000,
          27000000000000,
          28000000000000,
          29000000000000,
          30000000000000,
          31000000000000,
          32000000000000,
          33000000000000,
          34000000000000,
          35000000000000,
          36000000000000,
          37000000000000,
          38000000000000,
          39000000000000,
          40000000000000
         ],
         "y": {
          "bdata": "AAAAAAAAUD1wHiRU6iw2QKCkDjP+nTdAwJWO/EBtOECAtHWz7YM4QKApp50FejhAgGdXqYOAOEDgI1LEaog4QOCq8kUdiThAACHypyOIOEBAfaXsdIc4QODOtxMthzhAAPKUPiOHOEAgFXJpGYc4QKAFFZwThzhAgBruuSCHOEBAL8fXLYc4QABEoPU6hzhAgFYyQEaHOEBQ0lX5SIc4QCBOebJLhzhAEMqca06HOECA9QJzUIc4QIDYFjhPhzhAkLsq/U2HOECQnj7CTIc4QID3gp5LhzhAEHeh50qHOECg9r8wSoc4QEB23nlJhzhAwLRG5kiHOECA+FP4SIc4QEA8YQpJhzhAAIBuHEmHOEBQsfY6SYc4QJAYFJRJhzhAoH8x7UmHOEAA505GSoc4QIDCUJNKhzhAgCN9p0qHOEBghKm7Soc4QA==",
          "dtype": "f8"
         }
        },
        {
         "legendgroup": "007",
         "line": {
          "color": "rgb(0, 52, 165)"
         },
         "name": "007",
         "opacity": 0.4,
         "type": "scatter",
         "x": [
          0,
          1000000000000,
          2000000000000,
          3000000000000,
          4000000000000,
          5000000000000,
          6000000000000,
          7000000000000,
          8000000000000,
          9000000000000,
          10000000000000,
          11000000000000,
          12000000000000,
          13000000000000,
          14000000000000,
          15000000000000,
          16000000000000,
          17000000000000,
          18000000000000,
          19000000000000,
          20000000000000,
          21000000000000,
          22000000000000,
          23000000000000,
          24000000000000,
          25000000000000,
          26000000000000,
          27000000000000,
          28000000000000,
          29000000000000,
          30000000000000,
          31000000000000,
          32000000000000,
          33000000000000,
          34000000000000,
          35000000000000,
          36000000000000,
          37000000000000,
          38000000000000,
          39000000000000,
          40000000000000
         ],
         "y": {
          "bdata": "YOUHWQiLIcBA/cqJwZk9wBCmFXdsMjzAwA0dV8OtO8DQJ0yJqWw7wGD5gAiDbzvAINYlMAlnO8AQDWEdFV87wIBcO01mXzvAINEvjrZgO8CgH4nvYGE7wIApvPWhYTvAoAi6eqNhO8Dg57f/pGE7wKD6iTijYTvAoELD9pFhO8DAivy0gGE7wMDSNXNvYTvAgG9dWWBhO8AATlJeW2E7wGAsR2NWYTvAwAo8aFFhO8DA3v6FTWE7wBBP38lOYTvAYL+/DVBhO8CQL6BRUWE7wACNcYdSYTvAAJ5Ee1NhO8AQrxdvVGE7wCDA6mJVYTvAICL9TFZhO8CA6UcJV2E7wMCwksVXYTvAIHjdgVhhO8DgJbUaWWE7wJCvJQ1ZYTvAYDmW/1hhO8AAwwbyWGE7wBAF8eVYYTvAwFLI4FhhO8CAoJ/bWGE7wA==",
          "dtype": "f8"
         }
        },
        {
         "legendgroup": "008",
         "line": {
          "color": "rgb(0, 60, 170)"
         },
         "name": "008",
         "opacity": 0.4,
         "type": "scatter",
         "x": [
          0,
          1000000000000,
          2000000000000,
          3000000000000,
          4000000000000,
          5000000000000,
          6000000000000,
          7000000000000,
          8000000000000,
          9000000000000,
          10000000000000,
          11000000000000,
          12000000000000,
          13000000000000,
          14000000000000,
          15000000000000,
          16000000000000,
          17000000000000,
          18000000000000,
          19000000000000,
          20000000000000,
          21000000000000,
          22000000000000,
          23000000000000,
          24000000000000,
          25000000000000,
          26000000000000,
          27000000000000,
          28000000000000,
          29000000000000,
          30000000000000,
          31000000000000,
          32000000000000,
          33000000000000,
          34000000000000,
          35000000000000,
          36000000000000,
          37000000000000,
          38000000000000,
          39000000000000,
          40000000000000
         ],
         "y": {
          "bdata": "AAAAAAAAUD0wuATgVQ02QPAGuhfBiTdAYIV7/95IOEAwlP7JN1o4QMAXmFmBSDhA8CupMIdOOEBA7U8NhFY4QKBybe9iWDhAMDBYb9JXOECgxM3xZFc4QDA+xrM+VzhAwLe+dRhXOECwN4yo8lY4QKDitDf7VjhAgI3dxgNXOEBgOAZWDFc4QOBNQN0UVzhAoIElIhpXOEAwtQpnH1c4QODo76skVzhAoIyQ4ylXOEAgg5qnKVc4QKB5pGspVzhA8G+uLylXOEBgi0PyKFc4QGB3pRsoVzhAcGMHRSdXOECAT2luJlc4QID5DpolVzhAQFbpsyVXOEAgs8PNJVc4QOAPnuclVzhAwGKDASZXOECgq+kfJlc4QHD0Tz4mVzhAQD22XCZXOEAgxDB7Jlc4QOB2/KEmVzhAoCnIyCZXOEBw3JPvJlc4QA==",
          "dtype": "f8"
         }
        },
        {
         "legendgroup": "008",
         "line": {
          "color": "rgb(0, 60, 170)"
         },
         "name": "008",
         "opacity": 0.4,
         "type": "scatter",
         "x": [
          0,
          1000000000000,
          2000000000000,
          3000000000000,
          4000000000000,
          5000000000000,
          6000000000000,
          7000000000000,
          8000000000000,
          9000000000000,
          10000000000000,
          11000000000000,
          12000000000000,
          13000000000000,
          14000000000000,
          15000000000000,
          16000000000000,
          17000000000000,
          18000000000000,
          19000000000000,
          20000000000000,
          21000000000000,
          22000000000000,
          23000000000000,
          24000000000000,
          25000000000000,
          26000000000000,
          27000000000000,
          28000000000000,
          29000000000000,
          30000000000000,
          31000000000000,
          32000000000000,
          33000000000000,
          34000000000000,
          35000000000000,
          36000000000000,
          37000000000000,
          38000000000000,
          39000000000000,
          40000000000000
         ],
         "y": {
          "bdata": "wL+LrKN5IcBQJq2/Eoc9wEA/ZQXkITzAMMTPnYSGO8BAqh2n8D87wOA+TDuHRDvAANgaMQc7O8CAgeJjXjM7wKDz5NC0MjvAwKsn0n4zO8BgYGTHDzQ7wMDNY9wuNDvAQDtj8U00O8Dw8cecbDQ7wHA6FORfNDvA4IJgK1M0O8Bgy6xyRjQ7wGB8osc5NDvAcHWeuTI0O8CAbpqrKzQ7wIBnlp0kNDvAwMiuoB00O8AAd5yrHTQ7wGAlirYdNDvAgNN3wR00O8DA4pnNHTQ7wHAEcVgeNDvAQCZI4x40O8AASB9uHzQ7wABDTPkfNDvA4Fa/pyA0O8CAajJWITQ7wGB+pQQiNDvAQHvusSI0O8DApLzkIjQ7wGDOihcjNDvAAPhYSiM0O8AAvP98IzQ7wKCBdp8jNDvAYEftwSM0O8AADWTkIzQ7wA==",
          "dtype": "f8"
         }
        },
        {
         "legendgroup": "009",
         "line": {
          "color": "rgb(1, 84, 181)"
         },
         "name": "009",
         "opacity": 0.4,
         "type": "scatter",
         "x": [
          0,
          1000000000000,
          2000000000000,
          3000000000000,
          4000000000000,
          5000000000000,
          6000000000000,
          7000000000000,
          8000000000000,
          9000000000000,
          10000000000000,
          11000000000000,
          12000000000000,
          13000000000000,
          14000000000000,
          15000000000000,
          16000000000000,
          17000000000000,
          18000000000000,
          19000000000000,
          20000000000000,
          21000000000000,
          22000000000000,
          23000000000000,
          24000000000000,
          25000000000000,
          26000000000000,
          27000000000000,
          28000000000000,
          29000000000000,
          30000000000000,
          31000000000000,
          32000000000000,
          33000000000000,
          34000000000000,
          35000000000000,
          36000000000000,
          37000000000000,
          38000000000000,
          39000000000000,
          40000000000000
         ],
         "y": {
          "bdata": "AAAAAAAAUD1Q9okIJd0xQCDaEkaE0jNAILniZ45ENEBg/l0bEtczQDC8Pn7OmjNA0GEQHX7UM0Dg44DHR9AzQDDWI0jLozNAMOKkMfuiM0AgGWCQkKIzQPBTUOaxojNAkC9/yeuiM0CAumqa8qIzQLAwrX7/ojNAgHEw1wujM0CAfR1tEaMzQCAbxSIPozNAwNK58gOjM0CAz3o8/qIzQHDsImL5ojNAMAnLh/SiM0AwN67276IzQED4S4zrojNAgLnpIeeiM0AwMpDN5KIzQCD/mBblojNAEMyhX+WiM0AAmaqo5aIzQPC5ka3mojNAMJz0neiiM0CAfleO6qIzQKBgun7sojNAQAwj5+2iM0AA6hql7qIzQKDHEmPvojNAgKUKIfCiM0BAUSI78KIzQEAU0YfvojNAQNd/1O6iM0BAmi4h7qIzQA==",
          "dtype": "f8"
         }
        },
        {
         "legendgroup": "009",
         "line": {
          "color": "rgb(1, 84, 181)"
         },
         "name": "009",
         "opacity": 0.4,
         "type": "scatter",
         "x": [
          0,
          1000000000000,
          2000000000000,
          3000000000000,
          4000000000000,
          5000000000000,
          6000000000000,
          7000000000000,
          8000000000000,
          9000000000000,
          10000000000000,
          11000000000000,
          12000000000000,
          13000000000000,
          14000000000000,
          15000000000000,
          16000000000000,
          17000000000000,
          18000000000000,
          19000000000000,
          20000000000000,
          21000000000000,
          22000000000000,
          23000000000000,
          24000000000000,
          25000000000000,
          26000000000000,
          27000000000000,
          28000000000000,
          29000000000000,
          30000000000000,
          31000000000000,
          32000000000000,
          33000000000000,
          34000000000000,
          35000000000000,
          36000000000000,
          37000000000000,
          38000000000000,
          39000000000000,
          40000000000000
         ],
         "y": {
          "bdata": "QJp8hhrGHMBgrseFAqQ3wCCU9qj8ejjAUK6dGoqzN8AAJjHQOAw3wPC3vxlRMzfAcK6/IyA/N8BQe7uCAiE3wPD34gpo+DbAEMzXDJj1NsBgI7TOHfs2wFBlZij88jbA8OKrJmvtNsDQ/dZhL/c2wHCNFFXp9zbAcD+8DXX4NsDQ/C9KxPY2wFBQmY009TbAUBQ7IMrzNsBwTU77UfM2wNBwR9j/8jbAEJRAta3yNsBQHCegk/I2wLAfKDCX8jbA8CIpwJryNsCwEXDhofI2wNCddHut8jbA8Cl5FbnyNsAwtn2vxPI2wNAk8yTM8jbAMHINac7yNsBwvyet0PI2wNAMQvHS8jbAcJmO+9PyNsCw8IR80/I2wPBHe/3S8jbAUJ9xftLyNsDwaXcL0vI2wHAqm6fR8jbA8Oq+Q9HyNsBwq+Lf0PI2wA==",
          "dtype": "f8"
         }
        },
        {
         "legendgroup": "010",
         "line": {
          "color": "rgb(1, 109, 191)"
         },
         "name": "010",
         "opacity": 0.4,
         "type": "scatter",
         "x": [
          0,
          1000000000000,
          2000000000000,
          3000000000000,
          4000000000000,
          5000000000000,
          6000000000000,
          7000000000000,
          8000000000000,
          9000000000000,
          10000000000000,
          11000000000000,
          12000000000000,
          13000000000000,
          14000000000000,
          15000000000000,
          16000000000000,
          17000000000000,
          18000000000000,
          19000000000000,
          20000000000000,
          21000000000000,
          22000000000000,
          23000000000000,
          24000000000000,
          25000000000000,
          26000000000000,
          27000000000000,
          28000000000000,
          29000000000000,
          30000000000000,
          31000000000000,
          32000000000000,
          33000000000000,
          34000000000000,
          35000000000000,
          36000000000000,
          37000000000000,
          38000000000000,
          39000000000000,
          40000000000000
         ],
         "y": {
          "bdata": "AAAAAAAAUD0AAAAAAABQPQAISALAdsE/sHJt7S1mMUCw5XLrQ5s4QDAWmQq6XTlAQCVfcOprOUDQmEJ6Ano5QNCkqNaLfzlA0KVJnd+AOUDwKV5RO4E5QMA+Cek3gTlAEDsUgA2BOUBwNx8X44A5QNAzKq64gDlA8DzC0ZyAOUBQBPnUlIA5QJDLL9iMgDlA4JJm24SAOUDwtfm8f4A5QKD9qYl+gDlAUEVaVn2AOUDwjAojfIA5QFCYSnd7gDlAYOW2hHuAOUBwMiOSe4A5QHB/j597gDlA0GAXunuAOUAQ4Ibme4A5QEBf9hJ8gDlAcN5lP3yAOUAQbOt4fIA5QEAMUcR8gDlAYKy2D32AOUCQTBxbfYA5QGBvIKt9gDlA8NdzAX6AOUBwQMdXfoA5QPCoGq5+gDlAMKBvCH+AOUBAeD1of4A5QA==",
          "dtype": "f8"
         }
        },
        {
         "legendgroup": "010",
         "line": {
          "color": "rgb(1, 109, 191)"
         },
         "name": "010",
         "opacity": 0.4,
         "type": "scatter",
         "x": [
          0,
          1000000000000,
          2000000000000,
          3000000000000,
          4000000000000,
          5000000000000,
          6000000000000,
          7000000000000,
          8000000000000,
          9000000000000,
          10000000000000,
          11000000000000,
          12000000000000,
          13000000000000,
          14000000000000,
          15000000000000,
          16000000000000,
          17000000000000,
          18000000000000,
          19000000000000,
          20000000000000,
          21000000000000,
          22000000000000,
          23000000000000,
          24000000000000,
          25000000000000,
          26000000000000,
          27000000000000,
          28000000000000,
          29000000000000,
          30000000000000,
          31000000000000,
          32000000000000,
          33000000000000,
          34000000000000,
          35000000000000,
          36000000000000,
          37000000000000,
          38000000000000,
          39000000000000,
          40000000000000
         ],
         "y": {
          "bdata": "AFrEwoqRFcAAlsO/mBIWwMBVYVV+4x7AcM4QlaYHM8CQuKwAl5A4wJC+t28ivjjAEIzwHpWnOMBAi2RRO584wEDkQ33anDjAEOljW8KcOMCAI8Bm45w4wDDE3Tb6nDjAkI3xgA2dOMCwVgXLIJ04wBAgGRU0nTjAsHm5p0CdOMCwfaINRJ04wJCBi3NHnTjAkIV02UqdOMCQ6VYcTZ04wEAMsdFNnTjAQC8Lh06dOMAQUmU8T504wDCqXbxPnTjAsPZq80+dOMCQQ3gqUJ04wECQhWFQnTjAEIO5kFCdOMAQwDS1UJ04wND8r9lQnTjAsDkr/lCdOMBArmUjUZ04wJBUpUlRnTjAEPvkb1GdOMCAoSSWUZ04wEDEf71RnTjAsCJe5lGdOMBAgTwPUp04wLDfGjhSnTjAkLjJYlKdOMCQB/OPUp04wA==",
          "dtype": "f8"
         }
        },
        {
         "legendgroup": "011",
         "line": {
          "color": "rgb(2, 133, 202)"
         },
         "name": "011",
         "opacity": 0.4,
         "type": "scatter",
         "x": [
          0,
          1000000000000,
          2000000000000,
          3000000000000,
          4000000000000,
          5000000000000,
          6000000000000,
          7000000000000,
          8000000000000,
          9000000000000,
          10000000000000,
          11000000000000,
          12000000000000,
          13000000000000,
          14000000000000,
          15000000000000,
          16000000000000,
          17000000000000,
          18000000000000,
          19000000000000,
          20000000000000,
          21000000000000,
          22000000000000,
          23000000000000,
          24000000000000,
          25000000000000,
          26000000000000,
          27000000000000,
          28000000000000,
          29000000000000,
          30000000000000,
          31000000000000,
          32000000000000,
          33000000000000,
          34000000000000,
          35000000000000,
          36000000000000,
          37000000000000,
          38000000000000,
          39000000000000,
          40000000000000
         ],
         "y": {
          "bdata": "AAAAAAAAQD0AAAAAAABAPQAAAAAAAEA9AAAAAAAAQD0AAAAAAABAPQAAAAAAAEA9AAAAAAAAQD0AAAAAAABAPQAAAAAAAEA9AAAAAAAAQD0AAAAAAABAPQAAAAAAAEA9AAAAAAAAQD0AAAAAAABAPQAAAAAAAEA9AAAAAAAAQD0AAAAAAABAPQAAAAAAAEA9AAAAAAAAQD0AAAAAAABAPQAAAAAAAEA9AAAAAAAAQD0AAAAAAABAPQAAAAAAAEA9AAAAAAAAQD0AAAAAAABAPQAAAAAAAEA9AAAAAAAAQD0AAAAAAABAPQAAAAAAAEA9AAAAAAAAQD0AAAAAAABAPQAAAAAAAEA9AAAAAAAAQD0AAAAAAABAPQAAAAAAAEA9AAAAAAAAQD0AAAAAAABAPQAAAAAAAEA9AAAAAAAAQD0AAAAAAABAPQ==",
          "dtype": "f8"
         }
        },
        {
         "legendgroup": "011",
         "line": {
          "color": "rgb(2, 133, 202)"
         },
         "name": "011",
         "opacity": 0.4,
         "type": "scatter",
         "x": [
          0,
          1000000000000,
          2000000000000,
          3000000000000,
          4000000000000,
          5000000000000,
          6000000000000,
          7000000000000,
          8000000000000,
          9000000000000,
          10000000000000,
          11000000000000,
          12000000000000,
          13000000000000,
          14000000000000,
          15000000000000,
          16000000000000,
          17000000000000,
          18000000000000,
          19000000000000,
          20000000000000,
          21000000000000,
          22000000000000,
          23000000000000,
          24000000000000,
          25000000000000,
          26000000000000,
          27000000000000,
          28000000000000,
          29000000000000,
          30000000000000,
          31000000000000,
          32000000000000,
          33000000000000,
          34000000000000,
          35000000000000,
          36000000000000,
          37000000000000,
          38000000000000,
          39000000000000,
          40000000000000
         ],
         "y": {
          "bdata": "AGLadowsEsCAieqHPUESwMAx95qLSBLAgK1tb4VLEsDAsS06ME0SwEAR5d4/ThLAgDUDWH5OEsCAWSHRvE4SwAB+P0r7ThLAgMl9+x9PEsBAidPqIU8SwIBJKdojTxLAQAl/ySVPEsAAmnXOJE8SwMA5K+UfTxLAgNng+xpPEsCAeZYSFk8SwIAxz6oRTxLAAGaj8Q1PEsAAm3c4Ck8SwIDQS38GTxLAAAa6bgNPEsCA+XZBAU8SwIDsMxT/ThLAAN/w5vxOEsAAj/gl+04SwIDd//b5ThLAACsHyPhOEsCAeQ6Z904SwIAorab2ThLAAC/8BfZOEsAANktl9U4SwIA9msT0ThLAACpkRPROEsCALfjv804SwIAxjJvzThLAgDQgR/NOEsAAn9cD804SwAAbqtfyThLAAJd8q/JOEsBAFE9/8k4SwA==",
          "dtype": "f8"
         }
        },
        {
         "legendgroup": "012",
         "line": {
          "color": "rgb(2, 157, 212)"
         },
         "name": "012",
         "opacity": 0.4,
         "type": "scatter",
         "x": [
          0,
          1000000000000,
          2000000000000,
          3000000000000,
          4000000000000,
          5000000000000,
          6000000000000,
          7000000000000,
          8000000000000,
          9000000000000,
          10000000000000,
          11000000000000,
          12000000000000,
          13000000000000,
          14000000000000,
          15000000000000,
          16000000000000,
          17000000000000,
          18000000000000,
          19000000000000,
          20000000000000,
          21000000000000,
          22000000000000,
          23000000000000,
          24000000000000,
          25000000000000,
          26000000000000,
          27000000000000,
          28000000000000,
          29000000000000,
          30000000000000,
          31000000000000,
          32000000000000,
          33000000000000,
          34000000000000,
          35000000000000,
          36000000000000,
          37000000000000,
          38000000000000,
          39000000000000,
          40000000000000
         ],
         "y": {
          "bdata": "AAAAAAAAUD2AX2eiFzk5QFjmYqcpcURAaAYwajWRQ0AQGxQM7HBDQNhG8qxXbkNAWCoRmf5lQ0DA8KIQilpDQAhBpGqjTUNAQG89EnZAQ0CQ4CNMkjNDQKjf28HzKENAULG0nRAiQ0CYCA9RZR5DQNiknAkJG0NAGK0QeDcYQ0B4FYZp4RVDQFgP2QreE0NAIL7w+zUSQ0AgdGcstBBDQKhV0mNoD0NAEJ3znj0OQ0CYV6lwOQ1DQBjeI8ZQDENAENTqm4ULQ0CYaAYmzwpDQJCWOrgwCkNA+F2HUqoJQ0DQJxVnNwlDQBBJwBvRCENAqBWdK30IQ0DwjauWOwhDQDjWMrADCENAGFRY688HQ0CYIjK6pgdDQPhBwByIB0NAuHCfaWoHQ0CQcyZkTAdDQJgJykIyB0NA2DKKBRwHQ0AYhoPsBAdDQA==",
          "dtype": "f8"
         }
        },
        {
         "legendgroup": "012",
         "line": {
          "color": "rgb(2, 157, 212)"
         },
         "name": "012",
         "opacity": 0.4,
         "type": "scatter",
         "x": [
          0,
          1000000000000,
          2000000000000,
          3000000000000,
          4000000000000,
          5000000000000,
          6000000000000,
          7000000000000,
          8000000000000,
          9000000000000,
          10000000000000,
          11000000000000,
          12000000000000,
          13000000000000,
          14000000000000,
          15000000000000,
          16000000000000,
          17000000000000,
          18000000000000,
          19000000000000,
          20000000000000,
          21000000000000,
          22000000000000,
          23000000000000,
          24000000000000,
          25000000000000,
          26000000000000,
          27000000000000,
          28000000000000,
          29000000000000,
          30000000000000,
          31000000000000,
          32000000000000,
          33000000000000,
          34000000000000,
          35000000000000,
          36000000000000,
          37000000000000,
          38000000000000,
          39000000000000,
          40000000000000
         ],
         "y": {
          "bdata": "oIe71t4IIMAwO5vGC+VCwOAWtd/3BEXAAIAhxnlERMA4Ra2v7OtDwGBX8LWqs0PAcPJrp8WIQ8C4EPlcYGRDwBidKLxTREPACKpseCQoQ8CwxCq9ng9DwKDse15S+kLAQDF7BTLoQsAAAeTcrthCwFg6eXTQy0LA2GbrLvTAQsAwJ4stOrhCwDCrILnDsELAiMgW582qQsAw++J5j6VCwIgO1htBoULAOF+NuWqdQsC45EqmLJpCwPDWgr9Kl0LAmHNU8dGUQsBYK63Om5JCwNgkPuC2kELACGAHJiOPQsBIyLalzo1CwAgtmFKejELAAHcqzKiLQsA4pm0S7opCwIADLIROikLASL6r5LWJQsDIx3q0O4lCwCDTMl8liULAUIn2Wk+JQsBw7P6neYlCwCAOX3WeiULAKO4Ww72JQsBQhuUe3olCwA==",
          "dtype": "f8"
         }
        },
        {
         "legendgroup": "013",
         "line": {
          "color": "rgb(3, 182, 223)"
         },
         "name": "013",
         "opacity": 0.4,
         "type": "scatter",
         "x": [
          0,
          1000000000000,
          2000000000000,
          3000000000000,
          4000000000000,
          5000000000000,
          6000000000000,
          7000000000000,
          8000000000000,
          9000000000000,
          10000000000000,
          11000000000000,
          12000000000000,
          13000000000000,
          14000000000000,
          15000000000000,
          16000000000000,
          17000000000000,
          18000000000000,
          19000000000000,
          20000000000000,
          21000000000000,
          22000000000000,
          23000000000000,
          24000000000000,
          25000000000000,
          26000000000000,
          27000000000000,
          28000000000000,
          29000000000000,
          30000000000000,
          31000000000000,
          32000000000000,
          33000000000000,
          34000000000000,
          35000000000000,
          36000000000000,
          37000000000000,
          38000000000000,
          39000000000000,
          40000000000000
         ],
         "y": {
          "bdata": "AAAAAAAASD0AAAAAAABIPQAAAAAAAEg9AAAAAAAASD0AAAAAAABIPQAAAAAAAEg9AAAAAAAASD0AAAAAAABIPQAAAAAAAEg9AAAAAAAASD0AAAAAAABIPQAAAAAAAEg9AAAAAAAASD0AAAAAAABIPQAAAAAAAEg9AAAAAAAASD0AAAAAAABIPQAAAAAAAEg9AAAAAAAASD0AAAAAAABIPQAAAAAAAEg9AAAAAAAASD0AAAAAAABIPQAAAAAAAEg9AAAAAAAASD0AAAAAAABIPQAAAAAAAEg9AAAAAAAASD0AAAAAAABIPQAAAAAAAEg9AAAAAAAASD0AAAAAAABIPQAAAAAAAEg9AAAAAAAASD0AAAAAAABIPQAAAAAAAEg9AAAAAAAASD0AAAAAAABIPQAAAAAAAEg9AAAAAAAASD0AAAAAAABIPQ==",
          "dtype": "f8"
         }
        },
        {
         "legendgroup": "013",
         "line": {
          "color": "rgb(3, 182, 223)"
         },
         "name": "013",
         "opacity": 0.4,
         "type": "scatter",
         "x": [
          0,
          1000000000000,
          2000000000000,
          3000000000000,
          4000000000000,
          5000000000000,
          6000000000000,
          7000000000000,
          8000000000000,
          9000000000000,
          10000000000000,
          11000000000000,
          12000000000000,
          13000000000000,
          14000000000000,
          15000000000000,
          16000000000000,
          17000000000000,
          18000000000000,
          19000000000000,
          20000000000000,
          21000000000000,
          22000000000000,
          23000000000000,
          24000000000000,
          25000000000000,
          26000000000000,
          27000000000000,
          28000000000000,
          29000000000000,
          30000000000000,
          31000000000000,
          32000000000000,
          33000000000000,
          34000000000000,
          35000000000000,
          36000000000000,
          37000000000000,
          38000000000000,
          39000000000000,
          40000000000000
         ],
         "y": {
          "bdata": "gKnqJhmrEcCAFofSP78RwAAjwM1txhHAANdn4YzJEcCAlQVRK8sRwEA/3kNlzBHAgB0zD7DMEcAA+4fa+swRwEDZ3KVFzRHAAGcmH37NEcCA7mT+is0RwAB0o92XzRHAAPvhvKTNEcBAYhJjrs0RwMD2rF2wzRHAAItHWLLNEcAAIOJStM0RwEAmkse1zRHAwJaL/bXNEcAAB4Uzts0RwAB4fmm2zRHAgMETjrbNEcBAJ0WJts0RwICOdoS2zRHAAPSnf7bNEcCAHml6ts0RwIApH3S2zRHAQDTVbbbNEcBAP4tnts0RwADsMWK2zRHAAEgVX7bNEcAApPhbts0RwED/21i2zRHAgJZKVrbNEcCAiQRVts0RwEB7vlO2zRHAgG54UrbNEcAAKG5Rts0RwAAo8lC2zRHAACd2ULbNEcAAJ/pPts0RwA==",
          "dtype": "f8"
         }
        },
        {
         "legendgroup": "014",
         "line": {
          "color": "rgb(4, 206, 234)"
         },
         "name": "014",
         "opacity": 0.4,
         "type": "scatter",
         "x": [
          0,
          1000000000000,
          2000000000000,
          3000000000000,
          4000000000000,
          5000000000000,
          6000000000000,
          7000000000000,
          8000000000000,
          9000000000000,
          10000000000000,
          11000000000000,
          12000000000000,
          13000000000000,
          14000000000000,
          15000000000000,
          16000000000000,
          17000000000000,
          18000000000000,
          19000000000000,
          20000000000000,
          21000000000000,
          22000000000000,
          23000000000000,
          24000000000000,
          25000000000000,
          26000000000000,
          27000000000000,
          28000000000000,
          29000000000000,
          30000000000000,
          31000000000000,
          32000000000000,
          33000000000000,
          34000000000000,
          35000000000000,
          36000000000000,
          37000000000000,
          38000000000000,
          39000000000000,
          40000000000000
         ],
         "y": {
          "bdata": "AAAAAAAAUD0AAAAAAABQPQAAAAAAAFA9AAAAAAAAUD0AAAAAAABQPQAAAAAAAFA9AAAAAAAAUD0AAAAAAABQPQAAAAAAAFA9AAAAAAAAUD0AAAAAAABQPQAAAAAAAFA9AAAAAAAAUD0AAAAAAABQPQAAAAAAAFA9AAAAAAAAUD0AAAAAAABQPQAAAAAAAFA9AAAAAAAAUD0AAAAAAABQPQAAAAAAAFA9AAAAAAAAUD0AAAAAAABQPQAAAAAAAFA9AAAAAAAAUD0AAAAAAABQPQAAAAAAAFA9AAAAAAAAUD0AAAAAAABQPQAAAAAAAFA9AAAAAAAAUD0AAAAAAABQPQAAAAAAAFA9AAAAAAAAUD0AAAAAAABQPQAAAAAAAFA9AAAAAAAAUD0AAAAAAABQPQAAAAAAAFA9AAAAAAAAUD0AAAAAAABQPQ==",
          "dtype": "f8"
         }
        },
        {
         "legendgroup": "014",
         "line": {
          "color": "rgb(4, 206, 234)"
         },
         "name": "014",
         "opacity": 0.4,
         "type": "scatter",
         "x": [
          0,
          1000000000000,
          2000000000000,
          3000000000000,
          4000000000000,
          5000000000000,
          6000000000000,
          7000000000000,
          8000000000000,
          9000000000000,
          10000000000000,
          11000000000000,
          12000000000000,
          13000000000000,
          14000000000000,
          15000000000000,
          16000000000000,
          17000000000000,
          18000000000000,
          19000000000000,
          20000000000000,
          21000000000000,
          22000000000000,
          23000000000000,
          24000000000000,
          25000000000000,
          26000000000000,
          27000000000000,
          28000000000000,
          29000000000000,
          30000000000000,
          31000000000000,
          32000000000000,
          33000000000000,
          34000000000000,
          35000000000000,
          36000000000000,
          37000000000000,
          38000000000000,
          39000000000000,
          40000000000000
         ],
         "y": {
          "bdata": "wBJzB9aaEMAAofC4R64QwAAXhpIytRDAwKlIpt+3EMAAdSgvsLkQwADmM3SPuhDAQJST2Oa6EMDAQfM8PrsQwEDwUqGVuxDAAFq4pb+7EMCA+SEc0LsQwACZi5LguxDAQDj1CPG7EMDAzTz0+LsQwMDRvw/8uxDAANZCK/+7EMDA2sVGArwQwACOrcUDvBDAwC41XAS8EMBA0LzyBLwQwEBwRIkFvBDAwD3J0QW8EMDAtV7uBbwQwMAt9AoGvBDAgKWJJwa8EMAA2VI1BrwQwMCJxjoGvBDAwDo6QAa8EMAA7K1FBrwQwEAFUEgGvBDAwLlbSQa8EMDAbmdKBrwQwAAlc0sGvBDAQKz0Swa8EMBAYShMBrwQwMAWXEwGvBDAAM2PTAa8EMAA36hMBrwQwADyskwGvBDAQAW9TAa8EMBAGMdMBrwQwA==",
          "dtype": "f8"
         }
        },
        {
         "legendgroup": "015",
         "line": {
          "color": "rgb(4, 231, 244)"
         },
         "name": "015",
         "opacity": 0.4,
         "type": "scatter",
         "x": [
          0,
          1000000000000,
          2000000000000,
          3000000000000,
          4000000000000,
          5000000000000,
          6000000000000,
          7000000000000,
          8000000000000,
          9000000000000,
          10000000000000,
          11000000000000,
          12000000000000,
          13000000000000,
          14000000000000,
          15000000000000,
          16000000000000,
          17000000000000,
          18000000000000,
          19000000000000,
          20000000000000,
          21000000000000,
          22000000000000,
          23000000000000,
          24000000000000,
          25000000000000,
          26000000000000,
          27000000000000,
          28000000000000,
          29000000000000,
          30000000000000,
          31000000000000,
          32000000000000,
          33000000000000,
          34000000000000,
          35000000000000,
          36000000000000,
          37000000000000,
          38000000000000,
          39000000000000,
          40000000000000
         ],
         "y": {
          "bdata": "AAAAAAAAUD1AeZqFy8IzQICbVRhRbjVA4GU2AxyoNUDQIePOIdQ1QNC45pWbVjVAsJ91zP9INUCQpCbR2XQ1QDB1ki2lgjVAwJvszBF2NUBA3ACmK281QABaww0ecTVA4CUGyWp0NUCQnNxOnXQ1QDBuwKOmdDVAYCJALGF0NUDgsbdHDHQ1QHDK4HbpczVAUC8q7NpzNUAwlHNhzHM1QDD5vNa9czVAEFGXBL1zNUCwx4bAwXM1QHA+dnzGczVAMLVlOMtzNUCAr0+UzXM1QNB1EPrOczVAMDzRX9BzNUCQApLF0XM1QJCoKrfRczVAkNcXEtFzNUCQBgVt0HM1QLA18sfPczVAUNM4hM9zNUCQBulnz3M1QNA5mUvPczVAEG1JL89zNUCwi10Wz3M1QBAM0f7OczVAcIxE585zNUDgDLjPznM1QA==",
          "dtype": "f8"
         }
        },
        {
         "legendgroup": "015",
         "line": {
          "color": "rgb(4, 231, 244)"
         },
         "name": "015",
         "opacity": 0.4,
         "type": "scatter",
         "x": [
          0,
          1000000000000,
          2000000000000,
          3000000000000,
          4000000000000,
          5000000000000,
          6000000000000,
          7000000000000,
          8000000000000,
          9000000000000,
          10000000000000,
          11000000000000,
          12000000000000,
          13000000000000,
          14000000000000,
          15000000000000,
          16000000000000,
          17000000000000,
          18000000000000,
          19000000000000,
          20000000000000,
          21000000000000,
          22000000000000,
          23000000000000,
          24000000000000,
          25000000000000,
          26000000000000,
          27000000000000,
          28000000000000,
          29000000000000,
          30000000000000,
          31000000000000,
          32000000000000,
          33000000000000,
          34000000000000,
          35000000000000,
          36000000000000,
          37000000000000,
          38000000000000,
          39000000000000,
          40000000000000
         ],
         "y": {
          "bdata": "INvYjEe8IMAgEJmI5F87wABEPXvdbDvA8EnaWaeWOcCQEII/8jk5wDDk1/10ITnAcFi6R3AWOcDQheeQ1fw4wMC6ouTKAznAEJLt4SgSOcBQJlhdYRA5wFARk7PrCTnAMHO/WVcHOcDAJoHVnwg5wBAuOvz8CTnAEHCEUKkKOcDwxkIHMws5wEBxGARXCznAEOm20VELOcDQYFWfTAs5wHDY82xHCznAkNylRzsLOcBQyCJSLAs5wDC0n1wdCznA0J8cZw4LOcBws9EkBws5wDD9lQADCznA8EZa3P4KOcCwkB64+go5wLBjbfT4CjnAcEgbJ/gKOcAwLclZ9wo5wPARd4z2CjnAUFgYT/cKOcBQvKWz+Ao5wHAgMxj6CjnAkITAfPsKOcBwj4/2/Ao5wNCv+Xj+CjnAMNBj+/8KOcCQ8M19AQs5wA==",
          "dtype": "f8"
         }
        },
        {
         "legendgroup": "016",
         "line": {
          "color": "rgb(5, 255, 255)"
         },
         "name": "016",
         "opacity": 0.4,
         "type": "scatter",
         "x": [
          0,
          1000000000000,
          2000000000000,
          3000000000000,
          4000000000000,
          5000000000000,
          6000000000000,
          7000000000000,
          8000000000000,
          9000000000000,
          10000000000000,
          11000000000000,
          12000000000000,
          13000000000000,
          14000000000000,
          15000000000000,
          16000000000000,
          17000000000000,
          18000000000000,
          19000000000000,
          20000000000000,
          21000000000000,
          22000000000000,
          23000000000000,
          24000000000000,
          25000000000000,
          26000000000000,
          27000000000000,
          28000000000000,
          29000000000000,
          30000000000000,
          31000000000000,
          32000000000000,
          33000000000000,
          34000000000000,
          35000000000000,
          36000000000000,
          37000000000000,
          38000000000000,
          39000000000000,
          40000000000000
         ],
         "y": {
          "bdata": "AAAAAAAASD0AAAAAAABQPQAAAAAAAEg9AAAAAAAASD0AAAAAAABIPQAAAAAAAEg9AAAAAAAASD0AAAAAAABIPQAAAAAAAEg9AAAAAAAASD0AAAAAAABIPQAAAAAAAEg9AAAAAAAASD0AAAAAAABIPQAAAAAAAEg9AAAAAAAASD0AAAAAAABIPQAAAAAAAEg9AAAAAAAASD0AAAAAAABIPQAAAAAAAEg9AAAAAAAASD0AAAAAAABIPQAAAAAAAEg9AAAAAAAASD0AAAAAAABIPQAAAAAAAEg9AAAAAAAASD0AAAAAAABIPQAAAAAAAEg9AAAAAAAASD0AAAAAAABIPQAAAAAAAEg9AAAAAAAASD0AAAAAAABIPQAAAAAAAEg9AAAAAAAASD0AAAAAAABIPQAAAAAAAEg9AAAAAAAASD0AAAAAAABIPQ==",
          "dtype": "f8"
         }
        },
        {
         "legendgroup": "016",
         "line": {
          "color": "rgb(5, 255, 255)"
         },
         "name": "016",
         "opacity": 0.4,
         "type": "scatter",
         "x": [
          0,
          1000000000000,
          2000000000000,
          3000000000000,
          4000000000000,
          5000000000000,
          6000000000000,
          7000000000000,
          8000000000000,
          9000000000000,
          10000000000000,
          11000000000000,
          12000000000000,
          13000000000000,
          14000000000000,
          15000000000000,
          16000000000000,
          17000000000000,
          18000000000000,
          19000000000000,
          20000000000000,
          21000000000000,
          22000000000000,
          23000000000000,
          24000000000000,
          25000000000000,
          26000000000000,
          27000000000000,
          28000000000000,
          29000000000000,
          30000000000000,
          31000000000000,
          32000000000000,
          33000000000000,
          34000000000000,
          35000000000000,
          36000000000000,
          37000000000000,
          38000000000000,
          39000000000000,
          40000000000000
         ],
         "y": {
          "bdata": "QDuZqgDdEMDAj4OUyfIQwMD41EXV+hDAAGC7eeT8EMAAEkG2x/0QwMB/nsQb/hDAAFgRoWn+EMBAKyZ8ef4QwAD9OleJ/hDAwM9PMpn+EMBAXm3ip/4QwMDDNOKq/hDAQCr84a3+EMDAkMPhsP4QwECOCqmz/hDAQN7LOrT+EMBAL43MtP4QwIB/Tl61/hDAQPdY5bX+EMBAYiYBtv4QwMDM8xy2/hDAwDfBOLb+EMDAM4RStv4QwMAo2le2/hDAQB4wXbb+EMBAE4Zitv4QwMDzd2e2/hDAQCqAaLb+EMDAX4hptv4QwACVkGq2/hDAwHuFa7b+EMAAF7lrtv4QwACy7Gu2/hDAAEwgbLb+EMAAJFBstv4QwMBXWmy2/hDAwItkbLb+EMCAv25stv4QwAA1eGy2/hDAAEB6bLb+EMDAS3xstv4QwA==",
          "dtype": "f8"
         }
        },
        {
         "legendgroup": "017",
         "line": {
          "color": "rgb(36, 255, 223)"
         },
         "name": "017",
         "opacity": 0.4,
         "type": "scatter",
         "x": [
          0,
          1000000000000,
          2000000000000,
          3000000000000,
          4000000000000,
          5000000000000,
          6000000000000,
          7000000000000,
          8000000000000,
          9000000000000,
          10000000000000,
          11000000000000,
          12000000000000,
          13000000000000,
          14000000000000,
          15000000000000,
          16000000000000,
          17000000000000,
          18000000000000,
          19000000000000,
          20000000000000,
          21000000000000,
          22000000000000,
          23000000000000,
          24000000000000,
          25000000000000,
          26000000000000,
          27000000000000,
          28000000000000,
          29000000000000,
          30000000000000,
          31000000000000,
          32000000000000,
          33000000000000,
          34000000000000,
          35000000000000,
          36000000000000,
          37000000000000,
          38000000000000,
          39000000000000,
          40000000000000
         ],
         "y": {
          "bdata": "AAAAAAAAWD2AoIckfwQoQFB+Tx6aFkFAQPJ2G/0lRECY7XP2M7pDQBA732WZmENAyEHvp1WMQ0Dg9OspJodDQEDi0GNAhUNAACVXogeFQ0AoRDnR7YRDQCAAtgjdhENAwEEbi/GEQ0BY+6u49YRDQAC1POb5hENAoG7NE/6EQ0DAyteLAYVDQHAr+noChUNAGIwcagOFQ0DI7D5ZBIVDQGjpTxoFhUNAgHayNgWFQ0CQAxVTBYVDQKiQd28FhUNACCvUiwWFQ0AYghuoBYVDQDDZYsQFhUNAQDCq4AWFQ0DYjWf3BYVDQHADWPoFhUNACHlI/QWFQ0Cg7jgABoVDQOBMGQMGhUNAkCXABQaFQ0BA/mYIBoVDQOjWDQsGhUNA8JUuDQaFQ0AA9W8NBoVDQABUsQ0GhUNAALPyDQaFQ0DQCDIOBoVDQA==",
          "dtype": "f8"
         }
        },
        {
         "legendgroup": "017",
         "line": {
          "color": "rgb(36, 255, 223)"
         },
         "name": "017",
         "opacity": 0.4,
         "type": "scatter",
         "x": [
          0,
          1000000000000,
          2000000000000,
          3000000000000,
          4000000000000,
          5000000000000,
          6000000000000,
          7000000000000,
          8000000000000,
          9000000000000,
          10000000000000,
          11000000000000,
          12000000000000,
          13000000000000,
          14000000000000,
          15000000000000,
          16000000000000,
          17000000000000,
          18000000000000,
          19000000000000,
          20000000000000,
          21000000000000,
          22000000000000,
          23000000000000,
          24000000000000,
          25000000000000,
          26000000000000,
          27000000000000,
          28000000000000,
          29000000000000,
          30000000000000,
          31000000000000,
          32000000000000,
          33000000000000,
          34000000000000,
          35000000000000,
          36000000000000,
          37000000000000,
          38000000000000,
          39000000000000,
          40000000000000
         ],
         "y": {
          "bdata": "AOsZIQKiG8BQqajLnSAzwMBfGFZSSUDA0IcRPGzaQcDwUewxftBBwHin9lRvykHAQGJ4XmLJQcAoIQLvF8lBwIjZuFQJyUHAMA4qeA3JQcBAMZAyE8lBwMDuiYwVyUHAQPaJtBfJQcDAlZ0PGMlBwFA1sWoYyUHA0NTExRjJQcC4mAkRGclBwAjayyMZyUHAQBuONhnJQcCQXFBJGclBwCgG11gZyUHAiD/PXBnJQcAAecdgGclBwGCyv2QZyUHACGnpZxnJQcA45jBoGclBwHBjeGgZyUHAkOC/aBnJQcAABf9oGclBwPBSIGkZyUHA8KBBaRnJQcDg7mJpGclBwBD3fGkZyUHAwP98aRnJQcCQCH1pGclBwEARfWkZyUHAqE99aRnJQcAwTX5pGclBwMBKf2kZyUHAcEiAaRnJQcDwCoFpGclBwA==",
          "dtype": "f8"
         }
        },
        {
         "legendgroup": "018",
         "line": {
          "color": "rgb(67, 255, 191)"
         },
         "name": "018",
         "opacity": 0.4,
         "type": "scatter",
         "x": [
          0,
          1000000000000,
          2000000000000,
          3000000000000,
          4000000000000,
          5000000000000,
          6000000000000,
          7000000000000,
          8000000000000,
          9000000000000,
          10000000000000,
          11000000000000,
          12000000000000,
          13000000000000,
          14000000000000,
          15000000000000,
          16000000000000,
          17000000000000,
          18000000000000,
          19000000000000,
          20000000000000,
          21000000000000,
          22000000000000,
          23000000000000,
          24000000000000,
          25000000000000,
          26000000000000,
          27000000000000,
          28000000000000,
          29000000000000,
          30000000000000,
          31000000000000,
          32000000000000,
          33000000000000,
          34000000000000,
          35000000000000,
          36000000000000,
          37000000000000,
          38000000000000,
          39000000000000,
          40000000000000
         ],
         "y": {
          "bdata": "AAAAAAAAUD0AAAAAAABQPaDAZJuRvyNAIM2UsNDqOEBAaHYSDN07QIAPKI5JJjxAQIOky8s1PECwaGtzNjs8QEBxzKLjPDxAYGWkbDk9PECg6Ho4Yj08QLDyIQR3PTxAoG5k4IM9PEBwUw6xjz08QGAcCTSUPTxAUOUDt5g9PEBArv45nT08QBCSj1ehPTxAAKKNsKI9PEAAsosJpD08QODBiWKlPTxA0MOHnqY9PEDwKuYPpz08QACSRIGnPTxAIPmi8qc9PEDQYwxlqD08QOBrv96oPTxAAHRyWKk9PEAQfCXSqT08QIAf/0WqPTxAQIf6kKo9PEAA7/Xbqj08QMBW8SarPTxAsOgWdKs9PECgaFzQqz08QJDooSysPTxAgGjniKw9PEBwS7nirD08QDASaiutPTxA8NgadK09PECgn8u8rT08QA==",
          "dtype": "f8"
         }
        },
        {
         "legendgroup": "018",
         "line": {
          "color": "rgb(67, 255, 191)"
         },
         "name": "018",
         "opacity": 0.4,
         "type": "scatter",
         "x": [
          0,
          1000000000000,
          2000000000000,
          3000000000000,
          4000000000000,
          5000000000000,
          6000000000000,
          7000000000000,
          8000000000000,
          9000000000000,
          10000000000000,
          11000000000000,
          12000000000000,
          13000000000000,
          14000000000000,
          15000000000000,
          16000000000000,
          17000000000000,
          18000000000000,
          19000000000000,
          20000000000000,
          21000000000000,
          22000000000000,
          23000000000000,
          24000000000000,
          25000000000000,
          26000000000000,
          27000000000000,
          28000000000000,
          29000000000000,
          30000000000000,
          31000000000000,
          32000000000000,
          33000000000000,
          34000000000000,
          35000000000000,
          36000000000000,
          37000000000000,
          38000000000000,
          39000000000000,
          40000000000000
         ],
         "y": {
          "bdata": "AJjHgaCgFsBAI0tiP9EXwAAX4D7UqyrA0FJlDwE0OMDABH0nOOk6wED8LO+q0DrAwPxCOfS9OsDwz8VKxLg6wGA79KYutzrA8HVNrpi3OsDANMRfz7c6wGD9zUXltzrAwDGUAu63OsDA0Vvb9bc6wPBBJnv3tzrAQLLwGvm3OsBgIru6+rc6wEDbYzD8tzrAQCqtf/y3OsBAefbO/Lc6wEDIPx79tzrAUHKaaP23OsBgEH+Q/bc6wMCuY7j9tzrAwExI4P23OsBAsI4I/rc6wDAygDP+tzrA8LNxXv63OsDwNWOJ/rc6wIADPrT+tzrAQC563v63OsDwWLYI/7c6wGCD8jL/tzrAQBkLXf+3OsBgEyuG/7c6wGANS6//tzrAwAdr2P+3OsDwZbkBALg6wPDmSywAuDrA8GfeVgC4OsDA6HCBALg6wA==",
          "dtype": "f8"
         }
        },
        {
         "legendgroup": "019",
         "line": {
          "color": "rgb(99, 255, 159)"
         },
         "name": "019",
         "opacity": 0.4,
         "type": "scatter",
         "x": [
          0,
          1000000000000,
          2000000000000,
          3000000000000,
          4000000000000,
          5000000000000,
          6000000000000,
          7000000000000,
          8000000000000,
          9000000000000,
          10000000000000,
          11000000000000,
          12000000000000,
          13000000000000,
          14000000000000,
          15000000000000,
          16000000000000,
          17000000000000,
          18000000000000,
          19000000000000,
          20000000000000,
          21000000000000,
          22000000000000,
          23000000000000,
          24000000000000,
          25000000000000,
          26000000000000,
          27000000000000,
          28000000000000,
          29000000000000,
          30000000000000,
          31000000000000,
          32000000000000,
          33000000000000,
          34000000000000,
          35000000000000,
          36000000000000,
          37000000000000,
          38000000000000,
          39000000000000,
          40000000000000
         ],
         "y": {
          "bdata": "AAAAAAAASD0AAAAAAABIPQAAAAAAAEg9ACqwxgM4EEBw7iyiBnUzQPCfp7tTsjZAkFrE2JUeN0AQIFXvMTo3QOAoq3wdQzdAEE5K/8BFN0BwD9B4EkU3QPBy9BL3QjdAkJrFpQxBN0CQavFrmz83QPDSV/d7PjdA4FhG2Vs+N0BgKtziWz43QOB6mZFXPjdAwJro/Fc+N0AwqhkTWj43QOAqgrxbPjdA8DwMp14+N0Dgtbr3Xz43QNDhxbJgPjdAwMOf+WA+N0DQW0jMYD43QGCL4XdhPjdAMFA1NWI+N0DwFInyYj43QNDZ3K9jPjdAYIJIz2M+N0Dg9KbkYz43QFBnBfpjPjdA0NljD2Q+N0DQ4l4VZD43QAAoXxpkPjdAYG1fH2Q+N0DAsl8kZD43QODpkidkPjdAwMeoKmQ+N0CQpb4tZD43QA==",
          "dtype": "f8"
         }
        },
        {
         "legendgroup": "019",
         "line": {
          "color": "rgb(99, 255, 159)"
         },
         "name": "019",
         "opacity": 0.4,
         "type": "scatter",
         "x": [
          0,
          1000000000000,
          2000000000000,
          3000000000000,
          4000000000000,
          5000000000000,
          6000000000000,
          7000000000000,
          8000000000000,
          9000000000000,
          10000000000000,
          11000000000000,
          12000000000000,
          13000000000000,
          14000000000000,
          15000000000000,
          16000000000000,
          17000000000000,
          18000000000000,
          19000000000000,
          20000000000000,
          21000000000000,
          22000000000000,
          23000000000000,
          24000000000000,
          25000000000000,
          26000000000000,
          27000000000000,
          28000000000000,
          29000000000000,
          30000000000000,
          31000000000000,
          32000000000000,
          33000000000000,
          34000000000000,
          35000000000000,
          36000000000000,
          37000000000000,
          38000000000000,
          39000000000000,
          40000000000000
         ],
         "y": {
          "bdata": "gC8PZhdxFsCAuMaItosWwEBvhRCGcBjAQMBSQRw5J8AQEcYWso81wCCNQkQiujfAICT1zje3N8AgML4PPJk3wHB/zObXiTfAcI2idOSAN8AQ6DMwLXs3wFDNE5dzdzfAwLTc/a50N8AwZcr2jnI3wDBajk7icDfA0IOGZo5vN8AQvZs7l243wPAvmR3TbTfAwJsFm1ZtN8BwtmN5Am03wJBUC2DFbDfAwOMf4N1sN8CQHNuP/Ww3wDDIX10UbTfAQHvvNyBtN8DwNYofIW03wEAtEo4abTfAgBRg4RNtN8DA+600DW03wADj+4cGbTfAYEJObgNtN8AwjN+OAG03wPDVcK/9bDfA4B8C0PpsN8BAdPdj+Ww3wGDikA/4bDfAYFAqu/ZsN8BAvsNm9Ww3wBCW1r70bDfA4AfkIfRsN8CAefGE82w3wA==",
          "dtype": "f8"
         }
        },
        {
         "legendgroup": "020",
         "line": {
          "color": "rgb(130, 255, 128)"
         },
         "name": "020",
         "opacity": 0.4,
         "type": "scatter",
         "x": [
          0,
          1000000000000,
          2000000000000,
          3000000000000,
          4000000000000,
          5000000000000,
          6000000000000,
          7000000000000,
          8000000000000,
          9000000000000,
          10000000000000,
          11000000000000,
          12000000000000,
          13000000000000,
          14000000000000,
          15000000000000,
          16000000000000,
          17000000000000,
          18000000000000,
          19000000000000,
          20000000000000,
          21000000000000,
          22000000000000,
          23000000000000,
          24000000000000,
          25000000000000,
          26000000000000,
          27000000000000,
          28000000000000,
          29000000000000,
          30000000000000,
          31000000000000,
          32000000000000,
          33000000000000,
          34000000000000,
          35000000000000,
          36000000000000,
          37000000000000,
          38000000000000,
          39000000000000,
          40000000000000
         ],
         "y": {
          "bdata": "AAAAAAAAQD3AjGf17mQoQMDrQs6x1DdAkNZxzYYpOEAQBnB5RFc4QKD6o+SsbThAoK/fjB2AOEAAqMgNDJU4QPCIBc7irjhAgJ8Cn1fOOEDwpe124fM4QKBpmmWlIDlAoGBO0VpVOUAAWoujeZY5QICDA2qx6TlAcInBIlVSOkAAipU44NE6QHC3L7sddDtAUFcMBUVWPEAgHBdNvpU9QIDJQLIOsz9AACv/TNQRREBI/2j66VJDQEAKH/9gD0NAKBc8Dy7yQkAAgq7tTOZCQKgFkNBe4UJAmADOc+7eQkCAz5HrPN5CQMALrjMW3kJASD74+wveQkDgcELEAd5CQJgzppP63UJACLmbp/fdQkCAPpG79N1CQADEhs/x3UJACO/l2e/dQkCoEJw/791CQEgyUqXu3UJA4FMIC+7dQkAYi9Wu7d1CQA==",
          "dtype": "f8"
         }
        },
        {
         "legendgroup": "020",
         "line": {
          "color": "rgb(130, 255, 128)"
         },
         "name": "020",
         "opacity": 0.4,
         "type": "scatter",
         "x": [
          0,
          1000000000000,
          2000000000000,
          3000000000000,
          4000000000000,
          5000000000000,
          6000000000000,
          7000000000000,
          8000000000000,
          9000000000000,
          10000000000000,
          11000000000000,
          12000000000000,
          13000000000000,
          14000000000000,
          15000000000000,
          16000000000000,
          17000000000000,
          18000000000000,
          19000000000000,
          20000000000000,
          21000000000000,
          22000000000000,
          23000000000000,
          24000000000000,
          25000000000000,
          26000000000000,
          27000000000000,
          28000000000000,
          29000000000000,
          30000000000000,
          31000000000000,
          32000000000000,
          33000000000000,
          34000000000000,
          35000000000000,
          36000000000000,
          37000000000000,
          38000000000000,
          39000000000000,
          40000000000000
         ],
         "y": {
          "bdata": "ADa7LLjkGMBQUSL4bxQxwDCIVzovoTnAsKSYMfUIOcDwv9VfHuU4wODXHQyD3zjAEHjQ6pjkOMAA83o0au44wDDxdgG4+jjAYHDvkSsJOcCg+rnPOBo5wPD/3Vh+LjnA8DJg5mJGOcAw3sH28WM5wBDsrPGYhznA8GwqvAyzOcBAzU8oje05wBAT2ZnbRDrAkNu83xG1OsDQ76S7B1I7wPCyMEYqbjzAEMGuSRmhQMAYE4oNvd1AwGD69Ieh2kDAkKSP7lfZQMBYyBBYAtlAwJjRDKTv2EDAEHJa9+XYQMCQx9mb4dhAwEALg0Tg2EDAUKUa2d/YQMBQP7Jt39hAwNCUJCTf2EDA0GlPCt/YQMDQPnrw3thAwNATpdbe2EDAUKDCxd7YQMCgIn3B3thAwBilN73e2EDAkCfyuN7YQMAgYVO23thAwA==",
          "dtype": "f8"
         }
        },
        {
         "legendgroup": "021",
         "line": {
          "color": "rgb(161, 255, 96)"
         },
         "name": "021",
         "opacity": 0.4,
         "type": "scatter",
         "x": [
          0,
          1000000000000,
          2000000000000,
          3000000000000,
          4000000000000,
          5000000000000,
          6000000000000,
          7000000000000,
          8000000000000,
          9000000000000,
          10000000000000,
          11000000000000,
          12000000000000,
          13000000000000,
          14000000000000,
          15000000000000,
          16000000000000,
          17000000000000,
          18000000000000,
          19000000000000,
          20000000000000,
          21000000000000,
          22000000000000,
          23000000000000,
          24000000000000,
          25000000000000,
          26000000000000,
          27000000000000,
          28000000000000,
          29000000000000,
          30000000000000,
          31000000000000,
          32000000000000,
          33000000000000,
          34000000000000,
          35000000000000,
          36000000000000,
          37000000000000,
          38000000000000,
          39000000000000,
          40000000000000
         ],
         "y": {
          "bdata": "AAAAAAAAUD0AAAAAAABQPRC6PVvlNTBAQPObqFRPMkCAEIIK1aMyQHD5ty+a0DJAQH6Aat3tMkCARcE3MgczQOD5cL+sIjNAUOIwO29CM0DgdxGpdWozQACThilYmDNAADPytOvNM0CgiCPj0ww0QEApbdB/WDRAgMf5pmOzNECAg31/lyw1QLCWR4gwyzVAcH9qfZmoNkCQJ//KJAo4QEA/pcUOfzpAUIhC7E3MPEDgp/aEaME8QNDLElpZuTxA0OwNFtW1PEBAh6KezbM8QMBb6nvRsjxAgGkUXCiyPEBg5c+/vrE8QGCtSlqUsTxAUHXF9GmxPEBQPUCPP7E8QLBEnV4lsTxAEGxCTxuxPEBgk+c/EbE8QOC6jDAHsTxAwAmU9gCxPEBAgVqN/rA8QOD4ICT8sDxAYHDnuvmwPEBA7+pR+LA8QA==",
          "dtype": "f8"
         }
        },
        {
         "legendgroup": "021",
         "line": {
          "color": "rgb(161, 255, 96)"
         },
         "name": "021",
         "opacity": 0.4,
         "type": "scatter",
         "x": [
          0,
          1000000000000,
          2000000000000,
          3000000000000,
          4000000000000,
          5000000000000,
          6000000000000,
          7000000000000,
          8000000000000,
          9000000000000,
          10000000000000,
          11000000000000,
          12000000000000,
          13000000000000,
          14000000000000,
          15000000000000,
          16000000000000,
          17000000000000,
          18000000000000,
          19000000000000,
          20000000000000,
          21000000000000,
          22000000000000,
          23000000000000,
          24000000000000,
          25000000000000,
          26000000000000,
          27000000000000,
          28000000000000,
          29000000000000,
          30000000000000,
          31000000000000,
          32000000000000,
          33000000000000,
          34000000000000,
          35000000000000,
          36000000000000,
          37000000000000,
          38000000000000,
          39000000000000,
          40000000000000
         ],
         "y": {
          "bdata": "QF2/02UfGMDATKLeJsQawLAF/KU9djTAMPw6pHRoNcAQC/Lv1Bc1wLC6u32dBjXAUHaEMVAHNcCw5F+Exw81wFCG9IAeGzXAwPBnfEEoNcAwlrFXVjc1wOBqG9qjSDXAMLM9KsNcNcDAXt8CUXQ1wLAXA56KkDXAQP+Nuw6yNcBwispnwd01wAB7sma2JDbAUM2CrCt9NsBwK8e1iwU3wNDpVJq1TDnAECOHgjiJO8AQW8x2oH87wIDGPIZNejvAUDo9Z5F4O8CAlnJrxnc7wIBim795dzvAwAez+E93O8BQBZp+N3c7wFCpYzwwdzvAUE0t+ih3O8Bw8fa3IXc7wPDDKXEddzvAMGoqIhx3O8CAECvTGnc7wNC2K4QZdzvA0G2hvhh3O8DA8+WBGHc7wJB5KkUYdzvAgP9uCBh3O8BQRuTjF3c7wA==",
          "dtype": "f8"
         }
        },
        {
         "legendgroup": "022",
         "line": {
          "color": "rgb(192, 255, 64)"
         },
         "name": "022",
         "opacity": 0.4,
         "type": "scatter",
         "x": [
          0,
          1000000000000,
          2000000000000,
          3000000000000,
          4000000000000,
          5000000000000,
          6000000000000,
          7000000000000,
          8000000000000,
          9000000000000,
          10000000000000,
          11000000000000,
          12000000000000,
          13000000000000,
          14000000000000,
          15000000000000,
          16000000000000,
          17000000000000,
          18000000000000,
          19000000000000,
          20000000000000,
          21000000000000,
          22000000000000,
          23000000000000,
          24000000000000,
          25000000000000,
          26000000000000,
          27000000000000,
          28000000000000,
          29000000000000,
          30000000000000,
          31000000000000,
          32000000000000,
          33000000000000,
          34000000000000,
          35000000000000,
          36000000000000,
          37000000000000,
          38000000000000,
          39000000000000,
          40000000000000
         ],
         "y": {
          "bdata": "AAAAAAAAXD1QEr/j3ZMxQGAn2n8g+TJA4BTqr5PcMkDAtzWs/QA0QHBgO/pplzNAQPRW00bfMkDgwsdnTgUzQLDJ6s65OTNAkMaJCt3wMkBwYEqcD8syQLAmeFxuxjJAACTQ5LTJMkAwNJ/tJ8gyQFCPb+luyDJA0Brftx/IMkAgopJR58cyQLASiXSyxzJA4AqTtGjHMkAw9GguIMcyQLC0gtEUxzJA0DSpsBnHMkBgdT1rJscyQPDNfMMwxzJA8Mi2PDnHMkAgIyJFQMcyQFDjuC5DxzJAoKNPGEbHMkCwEQhYR8cyQDBZ31BIxzJAsKC2SUnHMkBA6I1CSscyQHBB0CFKxzJAsCI10knHMkDAA5qCSccyQNDk/jJJxzJAMA/vQUjHMkCwAQA2R8cyQDD0ECpGxzJAsOYhHkXHMkDAQgM8RMcyQA==",
          "dtype": "f8"
         }
        },
        {
         "legendgroup": "022",
         "line": {
          "color": "rgb(192, 255, 64)"
         },
         "name": "022",
         "opacity": 0.4,
         "type": "scatter",
         "x": [
          0,
          1000000000000,
          2000000000000,
          3000000000000,
          4000000000000,
          5000000000000,
          6000000000000,
          7000000000000,
          8000000000000,
          9000000000000,
          10000000000000,
          11000000000000,
          12000000000000,
          13000000000000,
          14000000000000,
          15000000000000,
          16000000000000,
          17000000000000,
          18000000000000,
          19000000000000,
          20000000000000,
          21000000000000,
          22000000000000,
          23000000000000,
          24000000000000,
          25000000000000,
          26000000000000,
          27000000000000,
          28000000000000,
          29000000000000,
          30000000000000,
          31000000000000,
          32000000000000,
          33000000000000,
          34000000000000,
          35000000000000,
          36000000000000,
          37000000000000,
          38000000000000,
          39000000000000,
          40000000000000
         ],
         "y": {
          "bdata": "wP7weW5oHMBg9/r/Iw42wOAiQJyvGDfAgPw5gVabN8Dgj017hWc3wHAFtL7eqzbA8EmdHESHNsBwrjufUso2wFBvA9LcqzbAcP4kQbtfNsBgCnW1jFM2wIDyTls3ajbA4EzQfpJaNsCASzeHVjo2wFB5MGhvTzbAEN888qFXNsBQUOHXjFI2wOAzfl6LRzbA0NJox6c8NsBQjymi9zc2wDBMQRbmODbAUBiBZd47NsAwqsJEXD42wPDBANqXPzbAcNJeFzhANsDwhOFeqEA2wPA9UnqPQDbA8PbClXZANsBwlcLYX0A2wPCqjndJQDbAcMBaFjNANsBQ1ia1HEA2wFDPfikTQDbAkGarwAtANsAQ/tdXBEA2wHCVBO/8PzbAYA4zu/s/NsBgA9mP+z82wFD4fmT7PzbAUO0kOfs/NsBwuHRI/D82wA==",
          "dtype": "f8"
         }
        },
        {
         "legendgroup": "023",
         "line": {
          "color": "rgb(224, 255, 32)"
         },
         "name": "023",
         "opacity": 0.4,
         "type": "scatter",
         "x": [
          0,
          1000000000000,
          2000000000000,
          3000000000000,
          4000000000000,
          5000000000000,
          6000000000000,
          7000000000000,
          8000000000000,
          9000000000000,
          10000000000000,
          11000000000000,
          12000000000000,
          13000000000000,
          14000000000000,
          15000000000000,
          16000000000000,
          17000000000000,
          18000000000000,
          19000000000000,
          20000000000000,
          21000000000000,
          22000000000000,
          23000000000000,
          24000000000000,
          25000000000000,
          26000000000000,
          27000000000000,
          28000000000000,
          29000000000000,
          30000000000000,
          31000000000000,
          32000000000000,
          33000000000000,
          34000000000000,
          35000000000000,
          36000000000000,
          37000000000000,
          38000000000000,
          39000000000000,
          40000000000000
         ],
         "y": {
          "bdata": "AAAAAAAAQD0AAAAAAABAPQAAAAAAAEA9AAAAAAAAQD0AAAAAAABAPQAAAAAAAEA9AAAAAAAAQD0AAAAAAABAPQAAAAAAAEA9AAAAAAAAQD0AAAAAAABAPQAAAAAAAEA9AAAAAAAAQD0AAAAAAABAPQAAAAAAAEA9AAAAAAAAQD0AAAAAAABAPQAAAAAAAEA9AAAAAAAAQD0AAAAAAABAPQAAAAAAAEA9AAAAAAAAQD0AAAAAAABAPQAAAAAAAEA9AAAAAAAAQD0AAAAAAABAPQAAAAAAAEA9AAAAAAAAQD0AAAAAAABAPQAAAAAAAEA9AAAAAAAAQD0AAAAAAABAPQAAAAAAAEA9AAAAAAAAQD0AAAAAAABAPQAAAAAAAEA9AAAAAAAAQD0AAAAAAABAPQAAAAAAAEA9AAAAAAAAQD0AAAAAAABAPQ==",
          "dtype": "f8"
         }
        },
        {
         "legendgroup": "023",
         "line": {
          "color": "rgb(224, 255, 32)"
         },
         "name": "023",
         "opacity": 0.4,
         "type": "scatter",
         "x": [
          0,
          1000000000000,
          2000000000000,
          3000000000000,
          4000000000000,
          5000000000000,
          6000000000000,
          7000000000000,
          8000000000000,
          9000000000000,
          10000000000000,
          11000000000000,
          12000000000000,
          13000000000000,
          14000000000000,
          15000000000000,
          16000000000000,
          17000000000000,
          18000000000000,
          19000000000000,
          20000000000000,
          21000000000000,
          22000000000000,
          23000000000000,
          24000000000000,
          25000000000000,
          26000000000000,
          27000000000000,
          28000000000000,
          29000000000000,
          30000000000000,
          31000000000000,
          32000000000000,
          33000000000000,
          34000000000000,
          35000000000000,
          36000000000000,
          37000000000000,
          38000000000000,
          39000000000000,
          40000000000000
         ],
         "y": {
          "bdata": "AK2E08wQEcDAiwEU4SMRwEBG6NC2KhHAwIdaDoctEcBAOV3xLC8RwEDWLcY3MBHAQIrjToEwEcCAPpnXyjARwMDzTmAUMRHAQDFOLUIxEcDAeJBnTTERwMC/0qFYMRHAgAYV3GMxEcDAyKOHajERwMCzv4RrMRHAQJ3bgWwxEcDAh/d+bTERwECqLeptMRHAQFKCn20xEcBA+tZUbTERwECiKwptMRHAQMaXw2wxEcBAvh2CbDERwEC1o0BsMRHAQK0p/2sxEcDA/MfLazERwECR+KlrMRHAwCcpiGsxEcBAvVlmazERwEBxyExrMRHAwLB9PWsxEcCA8DIuazERwMAv6B5rMRHAQBp/E2sxEcBAxewMazERwMBwWgZrMRHAQBrI/2oxEcBAMej6ajERwMDYJfhqMRHAwH9j9WoxEcBAJqHyajERwA==",
          "dtype": "f8"
         }
        },
        {
         "legendgroup": "024",
         "line": {
          "color": "rgb(255, 255, 0)"
         },
         "name": "024",
         "opacity": 0.4,
         "type": "scatter",
         "x": [
          0,
          1000000000000,
          2000000000000,
          3000000000000,
          4000000000000,
          5000000000000,
          6000000000000,
          7000000000000,
          8000000000000,
          9000000000000,
          10000000000000,
          11000000000000,
          12000000000000,
          13000000000000,
          14000000000000,
          15000000000000,
          16000000000000,
          17000000000000,
          18000000000000,
          19000000000000,
          20000000000000,
          21000000000000,
          22000000000000,
          23000000000000,
          24000000000000,
          25000000000000,
          26000000000000,
          27000000000000,
          28000000000000,
          29000000000000,
          30000000000000,
          31000000000000,
          32000000000000,
          33000000000000,
          34000000000000,
          35000000000000,
          36000000000000,
          37000000000000,
          38000000000000,
          39000000000000,
          40000000000000
         ],
         "y": {
          "bdata": "AAAAAAAASD1AiRWoQWBDQGBqYxrVLERA6ECtp8aJRECI8OIEAqZEQFjlnhT/rERAUNi5WJCvREDoZ/YO1q9EQDBoZiCxr0RAUOyubJSvREBYUnmNj69EQFhHFNaQr0RAWDyvHpKvRECwJZCfk69EQFjLAIKYr0RA8HBxZJ2vRECwFuJGoq9EQJBijuamr0RAWGpCg6evREAIcvYfqK9EQLh5qryor0RAOMEuTamvRECQ5kAiqa9EQOgLU/eor0RAUDFlzKivREAoJoOcqK9EQFiTbiCor0RAkABapKevREDYbUUop69EQLBiHLKmr0RAWFACl6avREDgPeh7pq9EQGgrzmCmr0RAcBfCQ6avREDY+8kIpq9EQCjg0c2lr0RAaMTZkqWvREAQ+lVdpa9EQDiBt3ulr0RAaAgZmqWvRECQj3q4pa9EQA==",
          "dtype": "f8"
         }
        },
        {
         "legendgroup": "024",
         "line": {
          "color": "rgb(255, 255, 0)"
         },
         "name": "024",
         "opacity": 0.4,
         "type": "scatter",
         "x": [
          0,
          1000000000000,
          2000000000000,
          3000000000000,
          4000000000000,
          5000000000000,
          6000000000000,
          7000000000000,
          8000000000000,
          9000000000000,
          10000000000000,
          11000000000000,
          12000000000000,
          13000000000000,
          14000000000000,
          15000000000000,
          16000000000000,
          17000000000000,
          18000000000000,
          19000000000000,
          20000000000000,
          21000000000000,
          22000000000000,
          23000000000000,
          24000000000000,
          25000000000000,
          26000000000000,
          27000000000000,
          28000000000000,
          29000000000000,
          30000000000000,
          31000000000000,
          32000000000000,
          33000000000000,
          34000000000000,
          35000000000000,
          36000000000000,
          37000000000000,
          38000000000000,
          39000000000000,
          40000000000000
         ],
         "y": {
          "bdata": "YDuAZk6QJ8BgnDof3hNFwOjMPvJLyEPAoG0r2buhQ8BgUu8HypRDwABajUvokUPAIBhRbAyRQ8CgOPfBtZBDwIAqr6qykEPA4B9q3LGQQ8Aw4BYysZBDwOCHDJGwkEPAgC8C8K+QQ8CAe3Rzr5BDwGDqHiixkEPAAFnJ3LKQQ8Dgx3ORtJBDwCAzQjK2kEPAYGCZobaQQ8CAjfAQt5BDwMC6R4C3kEPA4B5/57eQQ8CggMDRt5BDwGDiAby3kEPAIERDpreQQ8AAV+CNt5BDwIDZ2ky3kEPAIFzVC7eQQ8DA3s/KtpBDwKCG2ou2kEPA4M2gbLaQQ8AgFWdNtpBDwEBcLS62kEPAAAoKDraQQ8Bgot3ftZBDwKA6sbG1kEPAANOEg7WQQ8DADC1ZtZBDwMC/wGm1kEPAwHJUerWQQ8DAJeiKtZBDwA==",
          "dtype": "f8"
         }
        },
        {
         "legendgroup": "025",
         "line": {
          "color": "rgb(254, 223, 0)"
         },
         "name": "025",
         "opacity": 0.4,
         "type": "scatter",
         "x": [
          0,
          1000000000000,
          2000000000000,
          3000000000000,
          4000000000000,
          5000000000000,
          6000000000000,
          7000000000000,
          8000000000000,
          9000000000000,
          10000000000000,
          11000000000000,
          12000000000000,
          13000000000000,
          14000000000000,
          15000000000000,
          16000000000000,
          17000000000000,
          18000000000000,
          19000000000000,
          20000000000000,
          21000000000000,
          22000000000000,
          23000000000000,
          24000000000000,
          25000000000000,
          26000000000000,
          27000000000000,
          28000000000000,
          29000000000000,
          30000000000000,
          31000000000000,
          32000000000000,
          33000000000000,
          34000000000000,
          35000000000000,
          36000000000000,
          37000000000000,
          38000000000000,
          39000000000000,
          40000000000000
         ],
         "y": {
          "bdata": "AAAAAAAASD0AAAAAAABIPQAAAAAAAEg9AAAAAAAASD0AAAAAAABIPQAAAAAAAEg9AAAAAAAASD0AAAAAAABIPQAAAAAAAEg9AAAAAAAASD0AAAAAAABIPQAAAAAAAEg9AAAAAAAASD0AAAAAAABIPQAAAAAAAEg9AAAAAAAASD0AAAAAAABIPQAAAAAAAEg9AAAAAAAASD0AAAAAAABIPQAAAAAAAEg9AAAAAAAASD0AAAAAAABIPQAAAAAAAEg9AAAAAAAASD0AAAAAAABIPQAAAAAAAEg9AAAAAAAASD0AAAAAAABIPQAAAAAAAEg9AAAAAAAASD0AAAAAAABIPQAAAAAAAEg9AAAAAAAASD0AAAAAAABIPQAAAAAAAEg9AAAAAAAASD0AAAAAAABIPQAAAAAAAEg9AAAAAAAASD0AAAAAAABIPQ==",
          "dtype": "f8"
         }
        },
        {
         "legendgroup": "025",
         "line": {
          "color": "rgb(254, 223, 0)"
         },
         "name": "025",
         "opacity": 0.4,
         "type": "scatter",
         "x": [
          0,
          1000000000000,
          2000000000000,
          3000000000000,
          4000000000000,
          5000000000000,
          6000000000000,
          7000000000000,
          8000000000000,
          9000000000000,
          10000000000000,
          11000000000000,
          12000000000000,
          13000000000000,
          14000000000000,
          15000000000000,
          16000000000000,
          17000000000000,
          18000000000000,
          19000000000000,
          20000000000000,
          21000000000000,
          22000000000000,
          23000000000000,
          24000000000000,
          25000000000000,
          26000000000000,
          27000000000000,
          28000000000000,
          29000000000000,
          30000000000000,
          31000000000000,
          32000000000000,
          33000000000000,
          34000000000000,
          35000000000000,
          36000000000000,
          37000000000000,
          38000000000000,
          39000000000000,
          40000000000000
         ],
         "y": {
          "bdata": "gErqSo/hEcCAJS7EdPYRwEAeM9zH/RHAgOI2pqUAEsAAHFzqdQISwICVXTtgAxLAQKcZi7QDEsCAutXaCAQSwIDNkSpdBBLAAMziZIcEEsCA2korlgQSwADosvGkBBLAgPYauLMEEsCArrQAuwQSwECiP2a9BBLAgJXKy78EEsBAiVUxwgQSwEBxrlTDBBLAgC3ZpcMEEsBA6gP3wwQSwICmLkjEBBLAAJdIasQEEsCApa5txAQSwACzFHHEBBLAgMF6dMQEEsCAXrtzxAQSwACPR3DEBBLAgMHTbMQEEsCA8l9pxAQSwEDWxGbEBBLAABS3ZMQEEsDAUqlixAQSwICRm2DEBBLAgL5FX8QEEsAA52dexAQSwEAPil3EBBLAADisXMQEEsAAAyJcxAQSwEBczlvEBBLAgLZ6W8QEEsAADydbxAQSwA==",
          "dtype": "f8"
         }
        },
        {
         "legendgroup": "026",
         "line": {
          "color": "rgb(254, 191, 0)"
         },
         "name": "026",
         "opacity": 0.4,
         "type": "scatter",
         "x": [
          0,
          1000000000000,
          2000000000000,
          3000000000000,
          4000000000000,
          5000000000000,
          6000000000000,
          7000000000000,
          8000000000000,
          9000000000000,
          10000000000000,
          11000000000000,
          12000000000000,
          13000000000000,
          14000000000000,
          15000000000000,
          16000000000000,
          17000000000000,
          18000000000000,
          19000000000000,
          20000000000000,
          21000000000000,
          22000000000000,
          23000000000000,
          24000000000000,
          25000000000000,
          26000000000000,
          27000000000000,
          28000000000000,
          29000000000000,
          30000000000000,
          31000000000000,
          32000000000000,
          33000000000000,
          34000000000000,
          35000000000000,
          36000000000000,
          37000000000000,
          38000000000000,
          39000000000000,
          40000000000000
         ],
         "y": {
          "bdata": "AAAAAAAAQD2ABGxnjBQmQCADTVkwmTVAUADpcg1BNkAQXapQ3Iw2QEBotqeaojZAYJQx6mKoNkAgBLJcqqc2QHDubeITpTZAYPvxoEmiNkBg18hOq582QPCX7NpAnTZAgFgQZ9aaNkDQXDmNfZg2QIBs4k9mljZAYHyLEk+UNkAAjDTVN5I2QGDGbvAukDZA0MNnhVuONkBgwWAaiIw2QJC+Wa+0ijZAYNjh3u2INkBgL6IJVoc2QGCGYjS+hTZAcN0iXyaENkBgqzetkoI2QHCKrwgUgTZAAHBqrp5/NkAgXGieMn42QKDO3HLQfDZA8JgVonp7NkCQX8J1L3o2QKAMpYz1eDZAkGHoU+p3NkBAemKYRng2QOACnumvejZAQMT4pf98NkBgsmt9N382QNCXq1VegTZAENXYYm+DNkBAavOkaoU2QA==",
          "dtype": "f8"
         }
        },
        {
         "legendgroup": "026",
         "line": {
          "color": "rgb(254, 191, 0)"
         },
         "name": "026",
         "opacity": 0.4,
         "type": "scatter",
         "x": [
          0,
          1000000000000,
          2000000000000,
          3000000000000,
          4000000000000,
          5000000000000,
          6000000000000,
          7000000000000,
          8000000000000,
          9000000000000,
          10000000000000,
          11000000000000,
          12000000000000,
          13000000000000,
          14000000000000,
          15000000000000,
          16000000000000,
          17000000000000,
          18000000000000,
          19000000000000,
          20000000000000,
          21000000000000,
          22000000000000,
          23000000000000,
          24000000000000,
          25000000000000,
          26000000000000,
          27000000000000,
          28000000000000,
          29000000000000,
          30000000000000,
          31000000000000,
          32000000000000,
          33000000000000,
          34000000000000,
          35000000000000,
          36000000000000,
          37000000000000,
          38000000000000,
          39000000000000,
          40000000000000
         ],
         "y": {
          "bdata": "QIJx6vLzGcDgBDBLh70wwHC4aSKR9TnAkLdrUF5OOcCwEJ6Vqh05wFCI0Mh8CznAQIpKoZcBOcDwk4iHP/s4wLCVt4TO9TjAwJDePr3wOMCQUBbD6es4wHCitDlf5zjAUPRSsNTiOMAAlIocbd44wFBHANmH2jjAwPp1laLWOMAwrutRvdI4wHAItrr2zjjAwAyaeaLLOMAQEX44Tsg4wFAVYvf5xDjAsCApcb/BOMAAhQLU5L44wFDp2zYKvDjAsM9/ckS5OMDAEsp2mrY4wKCYgu8YtDjAIF5hQqmxOMBgY2ZvS684wODzJxYArTjAMMT3wsmqOMCgRTawpqg4wEB4492WpjjAoJp0wJmkOMCgSg8VTqU4wGBMkRRYpjjAwENVWVenOMDwmqyGTKg4wDAeKTg6qTjAMFaQnR6qOMBwQuK2+ao4wA==",
          "dtype": "f8"
         }
        },
        {
         "legendgroup": "027",
         "line": {
          "color": "rgb(253, 159, 0)"
         },
         "name": "027",
         "opacity": 0.4,
         "type": "scatter",
         "x": [
          0,
          1000000000000,
          2000000000000,
          3000000000000,
          4000000000000,
          5000000000000,
          6000000000000,
          7000000000000,
          8000000000000,
          9000000000000,
          10000000000000,
          11000000000000,
          12000000000000,
          13000000000000,
          14000000000000,
          15000000000000,
          16000000000000,
          17000000000000,
          18000000000000,
          19000000000000,
          20000000000000,
          21000000000000,
          22000000000000,
          23000000000000,
          24000000000000,
          25000000000000,
          26000000000000,
          27000000000000,
          28000000000000,
          29000000000000,
          30000000000000,
          31000000000000,
          32000000000000,
          33000000000000,
          34000000000000,
          35000000000000,
          36000000000000,
          37000000000000,
          38000000000000,
          39000000000000,
          40000000000000
         ],
         "y": {
          "bdata": "AAAAAAAAXD0wal8nzVA9QEBiIVvWGT5AoFZ0fCrdPkAw6vZNNiU/QFDezqv2OT9AMAnqQ3I/P0BQAduCFUE/QLBM+AWSQT9A0PIOTsBBP0BwMIH0uUE/QDBu85qzQT9AMDo+Oq9BP0Dg3vizq0E/QNCDsy2oQT9AsChup6RBP0BQ38CBokE/QNASo/SgQT9AUEaFZ59BP0DgeWfanUE/QFC0bDWdQT9AsNbi9JxBP0AQ+Vi0nEE/QFAbz3OcQT9AUE8ed5xBP0BQxMiXnEE/QLA5c7icQT9AsK4d2ZxBP0Aw9i4BnUE/QKAXdCydQT9A4Di5V51BP0BQWv6CnUE/QBDZE6udQT9A0G7I0Z1BP0CwBH34nUE/QFCaMR+eQT9AULiCMp5BP0AQPnA9nkE/QLDDXUieQT9AQElLU55BP0Dghk5TnkE/QA==",
          "dtype": "f8"
         }
        },
        {
         "legendgroup": "027",
         "line": {
          "color": "rgb(253, 159, 0)"
         },
         "name": "027",
         "opacity": 0.4,
         "type": "scatter",
         "x": [
          0,
          1000000000000,
          2000000000000,
          3000000000000,
          4000000000000,
          5000000000000,
          6000000000000,
          7000000000000,
          8000000000000,
          9000000000000,
          10000000000000,
          11000000000000,
          12000000000000,
          13000000000000,
          14000000000000,
          15000000000000,
          16000000000000,
          17000000000000,
          18000000000000,
          19000000000000,
          20000000000000,
          21000000000000,
          22000000000000,
          23000000000000,
          24000000000000,
          25000000000000,
          26000000000000,
          27000000000000,
          28000000000000,
          29000000000000,
          30000000000000,
          31000000000000,
          32000000000000,
          33000000000000,
          34000000000000,
          35000000000000,
          36000000000000,
          37000000000000,
          38000000000000,
          39000000000000,
          40000000000000
         ],
         "y": {
          "bdata": "QMyl0zZDI8BwavyhW81BwCDBpJV0tEDAMOAzOhR0QMAAW7sbO1NAwGD+DRpWTUDA4MfBfzdNQMBw/2dSIU1AwBBxF8PkTEDAcNwDX8VMQMDw7mSoxUxAwHgBxvHFTEDA8HHjB8hMQMDw0lrlykxAwPAz0sLNTEDA4JRJoNBMQMA4usuU0kxAwOADgiTUTEDAcE04tNVMQMAAl+5D10xAwJBLWtzXTEDAkHzGCdhMQMCArTI32ExAwIDenmTYTEDAIHXUVthMQMBgN2sv2ExAwJD5AQjYTEDAwLuY4NdMQMDQMt6p10xAwDD/gmzXTEDAgMsnL9dMQMDQl8zx1kxAwNBGAcHWTEDAEGmlldZMQMBQi0lq1kxAwJCt7T7WTEDAwJBfKNZMQMBAzdEa1kxAwNAJRA3WTEDAYEa2/9VMQMBQuJkA1kxAwA==",
          "dtype": "f8"
         }
        },
        {
         "legendgroup": "028",
         "line": {
          "color": "rgb(252, 128, 0)"
         },
         "name": "028",
         "opacity": 0.4,
         "type": "scatter",
         "x": [
          0,
          1000000000000,
          2000000000000,
          3000000000000,
          4000000000000,
          5000000000000,
          6000000000000,
          7000000000000,
          8000000000000,
          9000000000000,
          10000000000000,
          11000000000000,
          12000000000000,
          13000000000000,
          14000000000000,
          15000000000000,
          16000000000000,
          17000000000000,
          18000000000000,
          19000000000000,
          20000000000000,
          21000000000000,
          22000000000000,
          23000000000000,
          24000000000000,
          25000000000000,
          26000000000000,
          27000000000000,
          28000000000000,
          29000000000000,
          30000000000000,
          31000000000000,
          32000000000000,
          33000000000000,
          34000000000000,
          35000000000000,
          36000000000000,
          37000000000000,
          38000000000000,
          39000000000000,
          40000000000000
         ],
         "y": {
          "bdata": "AAAAAAAAMD0YwIlKkz1LQKiKdYq980tAgCCZU9AjTEBoZFmExypMQMDBJAWhJExA6F+vUUQcTEDAHDGkWhRMQOiKX6GLDUxAaN+2EzMITECgvPnsFgRMQIhk8df7AExAAPApZej+S0AAWHhWZ/1LQIBMIden/EtACDOqigL8S0AImKqttvtLQOi+9rdg+0tA2G0j+Af7S0C44JmcmfpLQGDpaXcb+ktACPI5Up35S0Co+gktH/lLQMBRasye+EtAGKJ2MR34S0Bo8oKWm/dLQLhCj/sZ90tAmEBj2an2S0BYVYtTQ/ZLQABqs83c9UtAqH7bR3b1S0B4RBCnIvVLQMCH+GrZ9EtAGMvgLpD0S0BgDsnyRvRLQOBsHeYL9EtAiKOIcODzS0CosopyvvNLQGCaI+yl80tAGCEbo5fzS0Co/werk/NLQA==",
          "dtype": "f8"
         }
        },
        {
         "legendgroup": "028",
         "line": {
          "color": "rgb(252, 128, 0)"
         },
         "name": "028",
         "opacity": 0.4,
         "type": "scatter",
         "x": [
          0,
          1000000000000,
          2000000000000,
          3000000000000,
          4000000000000,
          5000000000000,
          6000000000000,
          7000000000000,
          8000000000000,
          9000000000000,
          10000000000000,
          11000000000000,
          12000000000000,
          13000000000000,
          14000000000000,
          15000000000000,
          16000000000000,
          17000000000000,
          18000000000000,
          19000000000000,
          20000000000000,
          21000000000000,
          22000000000000,
          23000000000000,
          24000000000000,
          25000000000000,
          26000000000000,
          27000000000000,
          28000000000000,
          29000000000000,
          30000000000000,
          31000000000000,
          32000000000000,
          33000000000000,
          34000000000000,
          35000000000000,
          36000000000000,
          37000000000000,
          38000000000000,
          39000000000000,
          40000000000000
         ],
         "y": {
          "bdata": "oClHHh7eI8AYV14l6AdLwJjiGWQpekrAyKkomVZLSsC4r1GyajZKwDjKYCs+K0rAuMdPEyUjSsDgKTZtqRxKwEhOoOh5F0rAGLNMulETSsDgmWE9KRBKwJgpuH3SDUrAOAH7rk4MSsCAju4rLwtKwBgBYvWgCkrAgBXvciQKSsBoJ67a6QlKwLj68FqnCUrAmHIOX2IJSsA4jXvzCwlKwBgLeDOpCErAEIl0c0YISsAAB3Gz4wdKwEj25EaAB0rAmDtxexwHSsAIgf2vuAZKwIDGieRUBkrAENl0Qf0FSsCAAmNOrAVKwNgrUVtbBUrAOFU/aAoFSsDIBXz4xwRKwOCVY4SNBErA6CVLEFMESsAItjKcGARKwJDJbEXpA0rAmIvIJcYDSsCYuhdxqgNKwMhWWieWA0rAAIGFL4oDSsBIJ3mghgNKwA==",
          "dtype": "f8"
         }
        },
        {
         "legendgroup": "029",
         "line": {
          "color": "rgb(252, 96, 0)"
         },
         "name": "029",
         "opacity": 0.4,
         "type": "scatter",
         "x": [
          0,
          1000000000000,
          2000000000000,
          3000000000000,
          4000000000000,
          5000000000000,
          6000000000000,
          7000000000000,
          8000000000000,
          9000000000000,
          10000000000000,
          11000000000000,
          12000000000000,
          13000000000000,
          14000000000000,
          15000000000000,
          16000000000000,
          17000000000000,
          18000000000000,
          19000000000000,
          20000000000000,
          21000000000000,
          22000000000000,
          23000000000000,
          24000000000000,
          25000000000000,
          26000000000000,
          27000000000000,
          28000000000000,
          29000000000000,
          30000000000000,
          31000000000000,
          32000000000000,
          33000000000000,
          34000000000000,
          35000000000000,
          36000000000000,
          37000000000000,
          38000000000000,
          39000000000000,
          40000000000000
         ],
         "y": {
          "bdata": "AAAAAAAAQD3g5/EQ+Mg7QIBBn1d9VTtAkGNDjffzOkAw13Z+Gic7QODT+N6SJDtAoC3h2X0gO0CAEgV4/iE7QCCOUD+FJDtAkF/wRAAlO0Cg02BPCCU7QHA/9JfNJDtAgMgKhaEkO0CAUSFydSQ7QIBEmtBTJDtAoPyMM1EkO0CwtH+WTiQ7QPBscvlLJDtAQAY8j0skO0Ag5cOsUSQ7QCDES8pXJDtAAKPT510kO0CAMXEgYyQ7QPBkIrFlJDtAMJjTQWgkO0Cgy4TSaiQ7QHDZp8VsJDtAQJXS5GwkO0AgUf0DbSQ7QCANKCNtJDtAgLHnL20kO0CglvIFbSQ7QOB7/dtsJDtAAGEIsmwkO0DwEetkbCQ7QABkYa9rJDtAELbX+WokO0AgCE5EaiQ7QHC0wcJpJDtAAMOg22kkO0Cg0X/0aSQ7QA==",
          "dtype": "f8"
         }
        },
        {
         "legendgroup": "029",
         "line": {
          "color": "rgb(252, 96, 0)"
         },
         "name": "029",
         "opacity": 0.4,
         "type": "scatter",
         "x": [
          0,
          1000000000000,
          2000000000000,
          3000000000000,
          4000000000000,
          5000000000000,
          6000000000000,
          7000000000000,
          8000000000000,
          9000000000000,
          10000000000000,
          11000000000000,
          12000000000000,
          13000000000000,
          14000000000000,
          15000000000000,
          16000000000000,
          17000000000000,
          18000000000000,
          19000000000000,
          20000000000000,
          21000000000000,
          22000000000000,
          23000000000000,
          24000000000000,
          25000000000000,
          26000000000000,
          27000000000000,
          28000000000000,
          29000000000000,
          30000000000000,
          31000000000000,
          32000000000000,
          33000000000000,
          34000000000000,
          35000000000000,
          36000000000000,
          37000000000000,
          38000000000000,
          39000000000000,
          40000000000000
         ],
         "y": {
          "bdata": "gK5mgX37IcBwpva9sotAwCCZA2nDij/AkLvrPSUpPcCwy+0gPRU9wFCyVyRY3zzAEA7aWsflPMAQWHDfYeA8wDDGK9ub1zzAcJwZA8TWPMCQZNOcAdc8wNB+Vy3S1zzAEM8TWzjYPMBwH9CIntg8wPBh/Abq2DzAECgUQubYPMAw7it94tg8wFC0Q7je2DzAMFHw89fYPMAAuTpIyNg8wLAghZy42DzAcIjP8KjYPMBwFgNBnNg8wDCULW6Y2DzAMBJYm5TYPMAQkILIkNg8wBAoTP2N2DzAAKsXQY7YPMAALuOEjtg8wACxrsiO2DzAgDEGKY/YPMDQ2yfej9g8wDCGSZOQ2DzAgDBrSJHYPMDwygIoktg8wJA9uIWT2DzAMLBt45TYPMAAIyNBltg8wNDF0EiX2DzA0F73UJfYPMDw9x1Zl9g8wA==",
          "dtype": "f8"
         }
        },
        {
         "legendgroup": "030",
         "line": {
          "color": "rgb(251, 64, 0)"
         },
         "name": "030",
         "opacity": 0.4,
         "type": "scatter",
         "x": [
          0,
          1000000000000,
          2000000000000,
          3000000000000,
          4000000000000,
          5000000000000,
          6000000000000,
          7000000000000,
          8000000000000,
          9000000000000,
          10000000000000,
          11000000000000,
          12000000000000,
          13000000000000,
          14000000000000,
          15000000000000,
          16000000000000,
          17000000000000,
          18000000000000,
          19000000000000,
          20000000000000,
          21000000000000,
          22000000000000,
          23000000000000,
          24000000000000,
          25000000000000,
          26000000000000,
          27000000000000,
          28000000000000,
          29000000000000,
          30000000000000,
          31000000000000,
          32000000000000,
          33000000000000,
          34000000000000,
          35000000000000,
          36000000000000,
          37000000000000,
          38000000000000,
          39000000000000,
          40000000000000
         ],
         "y": {
          "bdata": "AAAAAAAAQD0AAAAAAABAPQAAAAAAAEA9AAAAAAAAQD0AAAAAAABAPQAAAAAAAEA9AAAAAAAAQD2AnLwzWvMAQADeSg52QBdA4EilbQg2IkDgeysfW90lQGDd0XigSidAICIL2m3DJ0CAfkf7E+4nQCCBVDtU/ydAgN8lUucBKEAAPRlluAIoQADJzftrAyhAgIk8254DKEAgpII0wwMoQMC+yI3nAyhAgNkO5wsEKECgaBz2FQQoQKAXvQ0dBChAwMZdJSQEKEDgdf48KwQoQEA6vQgtBChAoDl9Oy4EKEAAOT1uLwQoQEA4/aAwBChAQARnETEEKEBAGONrMQQoQIAsX8YxBChAgEDbIDIEKEDAUVQ5MgQoQOCIWkoyBChAAMBgWzIEKEAg92ZsMgQoQOCbIXIyBChAQPmVdjIEKECAVgp7MgQoQA==",
          "dtype": "f8"
         }
        },
        {
         "legendgroup": "030",
         "line": {
          "color": "rgb(251, 64, 0)"
         },
         "name": "030",
         "opacity": 0.4,
         "type": "scatter",
         "x": [
          0,
          1000000000000,
          2000000000000,
          3000000000000,
          4000000000000,
          5000000000000,
          6000000000000,
          7000000000000,
          8000000000000,
          9000000000000,
          10000000000000,
          11000000000000,
          12000000000000,
          13000000000000,
          14000000000000,
          15000000000000,
          16000000000000,
          17000000000000,
          18000000000000,
          19000000000000,
          20000000000000,
          21000000000000,
          22000000000000,
          23000000000000,
          24000000000000,
          25000000000000,
          26000000000000,
          27000000000000,
          28000000000000,
          29000000000000,
          30000000000000,
          31000000000000,
          32000000000000,
          33000000000000,
          34000000000000,
          35000000000000,
          36000000000000,
          37000000000000,
          38000000000000,
          39000000000000,
          40000000000000
         ],
         "y": {
          "bdata": "APeL7QkLFMDAGL00TyEUwMD6OZ9iKhTAABZ1yirPFMAAJTQDJ+wVwEAoUOUIjxjAAMsZ7zROHcAgc5HPZaAiwEAmgCWNuCfA4L6AGagNLMDg+E2q7WcuwOCSbrjvOi/A4Jx7QoBvL8AAP4dLWXovwODG877UfS/AAEzRCfl9L8Ag+8kbAn4vwKBbcu0Kfi/A4I6p3A1+L8BA1+QhEH4vwOAfIGcSfi/AIGhbrBR+L8AAkB5IFX4vwOBg37MVfi/A4DGgHxZ+L8DgAmGLFn4vwOAISI4Wfi/AIEhahRZ+L8Cgh2x8Fn4vwODGfnMWfi/A4C3vhxZ+L8Ag6q+fFn4vwGCmcLcWfi/AAGMxzxZ+L8BgIgLXFn4vwCCBBt0Wfi/AAOAK4xZ+L8DgPg/pFn4vwKDxzusWfi/A4Dsw7hZ+L8DghZHwFn4vwA==",
          "dtype": "f8"
         }
        },
        {
         "legendgroup": "031",
         "line": {
          "color": "rgb(251, 32, 0)"
         },
         "name": "031",
         "opacity": 0.4,
         "type": "scatter",
         "x": [
          0,
          1000000000000,
          2000000000000,
          3000000000000,
          4000000000000,
          5000000000000,
          6000000000000,
          7000000000000,
          8000000000000,
          9000000000000,
          10000000000000,
          11000000000000,
          12000000000000,
          13000000000000,
          14000000000000,
          15000000000000,
          16000000000000,
          17000000000000,
          18000000000000,
          19000000000000,
          20000000000000,
          21000000000000,
          22000000000000,
          23000000000000,
          24000000000000,
          25000000000000,
          26000000000000,
          27000000000000,
          28000000000000,
          29000000000000,
          30000000000000,
          31000000000000,
          32000000000000,
          33000000000000,
          34000000000000,
          35000000000000,
          36000000000000,
          37000000000000,
          38000000000000,
          39000000000000,
          40000000000000
         ],
         "y": {
          "bdata": "AAAAAAAASD0AAAAAAABIPQAAAAAAAEg9AAAAAAAASD0AAAAAAABIPQAAAAAAAEg9AAAAAAAASD0AAAAAAABIPQAAAAAAAEg9AAAAAAAASD0AAAAAAABIPQAAAAAAAEg9AAAAAAAASD0AAAAAAABIPQAAAAAAAEg9AAAAAAAASD0AAAAAAABIPQAAAAAAAEg9AAAAAAAASD0AAAAAAABIPQAAAAAAAEg9AAAAAAAASD0AAAAAAABIPQAAAAAAAEg9AAAAAAAASD0AAAAAAABIPQAAAAAAAEg9AAAAAAAASD0AAAAAAABIPQAAAAAAAEg9AAAAAAAASD0AAAAAAABIPQAAAAAAAEg9AAAAAAAASD0AAAAAAABIPQAAAAAAAEg9AAAAAAAASD0AAAAAAABIPQAAAAAAAEg9AAAAAAAASD0AAAAAAABIPQ==",
          "dtype": "f8"
         }
        },
        {
         "legendgroup": "031",
         "line": {
          "color": "rgb(251, 32, 0)"
         },
         "name": "031",
         "opacity": 0.4,
         "type": "scatter",
         "x": [
          0,
          1000000000000,
          2000000000000,
          3000000000000,
          4000000000000,
          5000000000000,
          6000000000000,
          7000000000000,
          8000000000000,
          9000000000000,
          10000000000000,
          11000000000000,
          12000000000000,
          13000000000000,
          14000000000000,
          15000000000000,
          16000000000000,
          17000000000000,
          18000000000000,
          19000000000000,
          20000000000000,
          21000000000000,
          22000000000000,
          23000000000000,
          24000000000000,
          25000000000000,
          26000000000000,
          27000000000000,
          28000000000000,
          29000000000000,
          30000000000000,
          31000000000000,
          32000000000000,
          33000000000000,
          34000000000000,
          35000000000000,
          36000000000000,
          37000000000000,
          38000000000000,
          39000000000000,
          40000000000000
         ],
         "y": {
          "bdata": "gI29kHTEEcBATKkmB9kRwADXmplN4BHAAN13tELjEcBAfJsSB+URwEAJ1MET5hHAADo0j2bmEcBAbJRcueYRwECd9CkM5xHAwJKIKT3nEcDAWrfzS+cRwMAi5r1a5xHAwOoUiGnnEcDAZa84cucRwADeA7105xHAwFZYQXfnEcBA0KzFeecRwECRtzp75xHAQDQ5nXvnEcDA1rr/e+cRwMB5PGJ85xHAQHw+mXznEcAAjzukfOcRwMChOK985xHAQLU1unznEcDALoa/fOcRwECsGL985xHAQCmrvnznEcAApj2+fOcRwEC5k7185xHAAKmsvHznEcBAmMW7fOcRwMCG3rp85xHAQFkyunznEcDAwcG5fOcRwMAqUbl85xHAQJTguHznEcDAKpK4fOcRwMBZZrh85xHAQIk6uHznEcBAuA64fOcRwA==",
          "dtype": "f8"
         }
        },
        {
         "legendgroup": "032",
         "line": {
          "color": "rgb(250, 0, 0)"
         },
         "name": "032",
         "opacity": 0.4,
         "type": "scatter",
         "x": [
          0,
          1000000000000,
          2000000000000,
          3000000000000,
          4000000000000,
          5000000000000,
          6000000000000,
          7000000000000,
          8000000000000,
          9000000000000,
          10000000000000,
          11000000000000,
          12000000000000,
          13000000000000,
          14000000000000,
          15000000000000,
          16000000000000,
          17000000000000,
          18000000000000,
          19000000000000,
          20000000000000,
          21000000000000,
          22000000000000,
          23000000000000,
          24000000000000,
          25000000000000,
          26000000000000,
          27000000000000,
          28000000000000,
          29000000000000,
          30000000000000,
          31000000000000,
          32000000000000,
          33000000000000,
          34000000000000,
          35000000000000,
          36000000000000,
          37000000000000,
          38000000000000,
          39000000000000,
          40000000000000
         ],
         "y": {
          "bdata": "AAAAAAAAVD3AiKSVg7M0QJCMgKc43jZAcHdtjhdUNkDgaWais542QPAikBFWeTZAwIQX9tSNNkBAfRvHY4A2QDAI61mUeTZAsC+vmMN8NkDQ+RPmh342QIDG2X32fjZAwKLC1QV/NkCAAlYWBH82QDD6DP/sfjZAwPHD59V+NkBw6XrQvn42QFCnEcWwfjZA0BSxBa5+NkCAglBGq342QBDw74aofjZAkFkx96d+NkDwfE8iqn42QFCgbU2sfjZAsMOLeK5+NkAw6wwzsH42QLDO7GCxfjZAMLLMjrJ+NkDAlay8s342QHBXQkq0fjZAEDOtD7R+NkCwDhjVs342QEDqgpqzfjZAAJlfTrN+NkDwAlDssn42QABtQIqyfjZA8NYwKLJ+NkCQHRLMsX42QLCfXnexfjZA0CGrIrF+NkDwo/fNsH42QA==",
          "dtype": "f8"
         }
        },
        {
         "legendgroup": "032",
         "line": {
          "color": "rgb(250, 0, 0)"
         },
         "name": "032",
         "opacity": 0.4,
         "type": "scatter",
         "x": [
          0,
          1000000000000,
          2000000000000,
          3000000000000,
          4000000000000,
          5000000000000,
          6000000000000,
          7000000000000,
          8000000000000,
          9000000000000,
          10000000000000,
          11000000000000,
          12000000000000,
          13000000000000,
          14000000000000,
          15000000000000,
          16000000000000,
          17000000000000,
          18000000000000,
          19000000000000,
          20000000000000,
          21000000000000,
          22000000000000,
          23000000000000,
          24000000000000,
          25000000000000,
          26000000000000,
          27000000000000,
          28000000000000,
          29000000000000,
          30000000000000,
          31000000000000,
          32000000000000,
          33000000000000,
          34000000000000,
          35000000000000,
          36000000000000,
          37000000000000,
          38000000000000,
          39000000000000,
          40000000000000
         ],
         "y": {
          "bdata": "YHjqHvgHIcAAIYs3xyM/wPAAsyBvCzzAUA8y1KfmOcDQsNWUXrg6wKAWq4Jh3DnAkN2KiKq2OcAwB3ng+7c5wJDzx6iLyTnAsArV7oTFOcAwqgxB4MI5wDBC9l4fwjnAsBcKsubBOcAwvdlQ0ME5wBA5rsPkwTnA8LSCNvnBOcCwMFepDcI5wPDxPmobwjnAMO3SziDCOcBw6GYzJsI5wLDj+pcrwjnAcGb/JC7COcDQdnIlLcI5wCCH5SUswjnAkJdYJivCOcDwFYKNKsI5wNC573QqwjnAsF1dXCrCOcCwActDKsI5wFAgaNMpwjnAINxb9SjCOcDwl08XKMI5wLBTQzknwjnAkI29qybCOcCQ5MaCJsI5wJA70FkmwjnAkJLZMCbCOcDwlYgNJsI5wPDvRPElwjnA8EkB1SXCOcDwo724JcI5wA==",
          "dtype": "f8"
         }
        },
        {
         "legendgroup": "033",
         "line": {
          "color": "rgb(235, 0, 0)"
         },
         "name": "033",
         "opacity": 0.4,
         "type": "scatter",
         "x": [
          0,
          1000000000000,
          2000000000000,
          3000000000000,
          4000000000000,
          5000000000000,
          6000000000000,
          7000000000000,
          8000000000000,
          9000000000000,
          10000000000000,
          11000000000000,
          12000000000000,
          13000000000000,
          14000000000000,
          15000000000000,
          16000000000000,
          17000000000000,
          18000000000000,
          19000000000000,
          20000000000000,
          21000000000000,
          22000000000000,
          23000000000000,
          24000000000000,
          25000000000000,
          26000000000000,
          27000000000000,
          28000000000000,
          29000000000000,
          30000000000000,
          31000000000000,
          32000000000000,
          33000000000000,
          34000000000000,
          35000000000000,
          36000000000000,
          37000000000000,
          38000000000000,
          39000000000000,
          40000000000000
         ],
         "y": {
          "bdata": "AAAAAAAAQD3g+WrkRmc6QHBMPmnbtzpAwJnZMrEAOkDgLFUr7ys5QLByC078HzlA8O26ZSIkOUAQIDmI+SU5QAAnkc7LKjlA8F8ZxyMtOUCArqzzGy45QJDiGjtbLjlAAFHRGE4uOUAQwAhLQC45QHC7Wp4vLjlAwLas8R4uOUAQsv5EDi45QPDIzcsCLjlAQEjPG/wtOUCQx9Br9S05QPBG0rvuLTlAcOn7OOstOUAAxWOi6i05QJCgywvqLTlAIHwzdektOUAAr4qj6S05QACaGIfqLTlAEIWmaustOUAQcDRO7C05QEC2pRftLTlA4PgPye0tOUBgO3p67i05QPB95CvvLTlAgCk7me8tOUCQee3H7y05QKDJn/bvLTlA4BlSJfAtOUAgJWMz8C05QKDBbSPwLTlAQF54E/AtOUDg+oID8C05QA==",
          "dtype": "f8"
         }
        },
        {
         "legendgroup": "033",
         "line": {
          "color": "rgb(235, 0, 0)"
         },
         "name": "033",
         "opacity": 0.4,
         "type": "scatter",
         "x": [
          0,
          1000000000000,
          2000000000000,
          3000000000000,
          4000000000000,
          5000000000000,
          6000000000000,
          7000000000000,
          8000000000000,
          9000000000000,
          10000000000000,
          11000000000000,
          12000000000000,
          13000000000000,
          14000000000000,
          15000000000000,
          16000000000000,
          17000000000000,
          18000000000000,
          19000000000000,
          20000000000000,
          21000000000000,
          22000000000000,
          23000000000000,
          24000000000000,
          25000000000000,
          26000000000000,
          27000000000000,
          28000000000000,
          29000000000000,
          30000000000000,
          31000000000000,
          32000000000000,
          33000000000000,
          34000000000000,
          35000000000000,
          36000000000000,
          37000000000000,
          38000000000000,
          39000000000000,
          40000000000000
         ],
         "y": {
          "bdata": "gDjLj7cVH8AgpPNcjs4/wOAhjMTtjD3AUG2WEoUMPMBw/4zOojs7wFCMJOz0WzvA0CXPfilZO8CwrUWEekc7wND8LCExODvAsE6G/NUwO8DAtrJm3S07wNCSSRRBLTvAEB2/ho0tO8DQcBfq1i07wEBQoTETLjvAsC8reU8uO8AQD7XAiy47wEAHx/WzLjvAwF2UsskuO8BAtGFv3y47wNAKLyz1LjvAwFFPhgAvO8DQBwBSAi87wDC+sB0ELzvAcHRh6QUvO8Aw5n5UBS87wBAano8CLzvA0E29yv8uO8DQgdwF/S47wNAMbJz6LjvAEEMfh/guO8BQedJx9i47wLCvhVz0LjvAQJsmDfMuO8AwT+hz8i47wBADqtrxLjvA8LZrQfEuO8BwmbgU8S47wHBv5kvxLjvAUEUUg/EuO8BQG0K68S47wA==",
          "dtype": "f8"
         }
        },
        {
         "legendgroup": "034",
         "line": {
          "color": "rgb(220, 0, 0)"
         },
         "name": "034",
         "opacity": 0.4,
         "type": "scatter",
         "x": [
          0,
          1000000000000,
          2000000000000,
          3000000000000,
          4000000000000,
          5000000000000,
          6000000000000,
          7000000000000,
          8000000000000,
          9000000000000,
          10000000000000,
          11000000000000,
          12000000000000,
          13000000000000,
          14000000000000,
          15000000000000,
          16000000000000,
          17000000000000,
          18000000000000,
          19000000000000,
          20000000000000,
          21000000000000,
          22000000000000,
          23000000000000,
          24000000000000,
          25000000000000,
          26000000000000,
          27000000000000,
          28000000000000,
          29000000000000,
          30000000000000,
          31000000000000,
          32000000000000,
          33000000000000,
          34000000000000,
          35000000000000,
          36000000000000,
          37000000000000,
          38000000000000,
          39000000000000,
          40000000000000
         ],
         "y": {
          "bdata": "AAAAAAAAMD0AAAAAAAAwPQAAAAAAADA9AAAAAAAAMD0AqtZ/gcbjP+Aqok9lNiBAAJWMlp1iLUCg7GChp5swQKBGlv2dAjFAsHrELhAdMUBgZadUCCUxQDCs2ObOJzFA4DFxEjwoMUDguFLdiSgxQPARXImxKDFAkHsyA8koMUCw1kc30igxQNAxXWvbKDFAEI1yn+QoMUDgI8Ts6CgxQNDo3wrrKDFAsK37KO0oMUCQchdH7ygxQHDhxD3wKDFA8C/IsPAoMUBwfssj8SgxQBDNzpbxKDFA0Mui1fEoMUCQ9DT98SgxQGAdxyTyKDFAEEZZTPIoMUCQbzpg8igxQND6VGvyKDFAEIZvdvIoMUBQEYqB8igxQDAeh4fyKDFAIJE8i/IoMUAQBPKO8igxQBB3p5LyKDFAMBCQlPIoMUBwRquV8igxQA==",
          "dtype": "f8"
         }
        },
        {
         "legendgroup": "034",
         "line": {
          "color": "rgb(220, 0, 0)"
         },
         "name": "034",
         "opacity": 0.4,
         "type": "scatter",
         "x": [
          0,
          1000000000000,
          2000000000000,
          3000000000000,
          4000000000000,
          5000000000000,
          6000000000000,
          7000000000000,
          8000000000000,
          9000000000000,
          10000000000000,
          11000000000000,
          12000000000000,
          13000000000000,
          14000000000000,
          15000000000000,
          16000000000000,
          17000000000000,
          18000000000000,
          19000000000000,
          20000000000000,
          21000000000000,
          22000000000000,
          23000000000000,
          24000000000000,
          25000000000000,
          26000000000000,
          27000000000000,
          28000000000000,
          29000000000000,
          30000000000000,
          31000000000000,
          32000000000000,
          33000000000000,
          34000000000000,
          35000000000000,
          36000000000000,
          37000000000000,
          38000000000000,
          39000000000000,
          40000000000000
         ],
         "y": {
          "bdata": "QEQtquU+FcBA0AuonFcVwEBHxoxayxXAAKMjkX1jGMBgXPnKc4QgwADYf2ySrCrAICWmUiz0McBglMmG2zIzwNA1ifCBTjPAINlp3IRLM8CwR2iuSkgzwGC7D4xzRzPAID1S5lNHM8Bg5YiyPkczwOASTS82RzPAsBGsazFHM8DA76z1L0czwMDNrX8uRzPAwKuuCS1HM8Bg1uFlLEczwLCbwh8sRzPA0GCj2StHM8AgJoSTK0czwGB7dHIrRzPAwCHpYStHM8AgyF1RK0czwGBu0kArRzPAUFNLOytHM8BgHa06K0czwLDnDjorRzPA0LFwOStHM8Bg4ec4K0czwNCZaDgrRzPAYFLpNytHM8DQCmo3K0czwGBOTTcrRzPA0HxcNytHM8Bgq2s3K0czwODZejcrRzPAIKZ+NytHM8BQX303K0czwA==",
          "dtype": "f8"
         }
        },
        {
         "legendgroup": "035",
         "line": {
          "color": "rgb(204, 0, 0)"
         },
         "name": "035",
         "opacity": 0.4,
         "type": "scatter",
         "x": [
          0,
          1000000000000,
          2000000000000,
          3000000000000,
          4000000000000,
          5000000000000,
          6000000000000,
          7000000000000,
          8000000000000,
          9000000000000,
          10000000000000,
          11000000000000,
          12000000000000,
          13000000000000,
          14000000000000,
          15000000000000,
          16000000000000,
          17000000000000,
          18000000000000,
          19000000000000,
          20000000000000,
          21000000000000,
          22000000000000,
          23000000000000,
          24000000000000,
          25000000000000,
          26000000000000,
          27000000000000,
          28000000000000,
          29000000000000,
          30000000000000,
          31000000000000,
          32000000000000,
          33000000000000,
          34000000000000,
          35000000000000,
          36000000000000,
          37000000000000,
          38000000000000,
          39000000000000,
          40000000000000
         ],
         "y": {
          "bdata": "AAAAAAAASD0wp7EWAdI5QEC0uMn4jztAwNnTkZtYPEBg24qKB5E8QOAFt3KPoDxAQHGJtb2lPEBAJzwBWac8QEDl20GmpzxA0BVAJmanPEDQAOu7K6c8QMB9jAr8pjxAAE4OBu2mPECAHpAB3qY8QODuEf3OpjxAQPos58OmPEDgfr7MxKY8QMADULLFpjxAYIjhl8amPEAAu0f0x6Y8QECHzLrKpjxAQFNRgc2mPEBgH9ZH0KY8QNBTcUPSpjxAoOOz1NGmPEBAc/Zl0aY8QPACOffQpjxAYD9O6NCmPEDQJWX90aY8QFAMfBLTpjxA0PKSJ9SmPEBQghib1KY8QMBlQyLTpjxAQEluqdGmPEDALJkw0KY8QGDJ4lXPpjxA4GwFXdCmPEBgEChk0aY8QOCzSmvSpjxAQB4n2dKmPEDAv+5z0aY8QA==",
          "dtype": "f8"
         }
        },
        {
         "legendgroup": "035",
         "line": {
          "color": "rgb(204, 0, 0)"
         },
         "name": "035",
         "opacity": 0.4,
         "type": "scatter",
         "x": [
          0,
          1000000000000,
          2000000000000,
          3000000000000,
          4000000000000,
          5000000000000,
          6000000000000,
          7000000000000,
          8000000000000,
          9000000000000,
          10000000000000,
          11000000000000,
          12000000000000,
          13000000000000,
          14000000000000,
          15000000000000,
          16000000000000,
          17000000000000,
          18000000000000,
          19000000000000,
          20000000000000,
          21000000000000,
          22000000000000,
          23000000000000,
          24000000000000,
          25000000000000,
          26000000000000,
          27000000000000,
          28000000000000,
          29000000000000,
          30000000000000,
          31000000000000,
          32000000000000,
          33000000000000,
          34000000000000,
          35000000000000,
          36000000000000,
          37000000000000,
          38000000000000,
          39000000000000,
          40000000000000
         ],
         "y": {
          "bdata": "AKUWsNuTIsDINJ4g+IhAwKBxyeYVHj/AUMBqgzTNPsBQm0LlHZk+wFANZ7nfiT7AwBpmFQOJPsCgqQjcC4o+wBBS+FIDij7A8AN3FOWJPsDw6BCU1Yk+wPCCpXfJiT7AEJJEsMeJPsAQoePoxYk+wFCwgiHEiT7AwAC7fMOJPsBQ8oFNxok+wBDkSB7JiT7A8NUP78uJPsDwm487zok+wMBJ9vTOiT7AoPdcrs+JPsBQpcNn0Ik+wPD4FALRiT7AEGytPdGJPsCg30V50Yk+wPBS3rTRiT7A8Fa809GJPsAQyQ6b0Yk+wKA7YWLRiT7A8K2zKdGJPsAARMT50Ik+wBBCeeTQiT7AgEAuz9CJPsDwPuO50Ik+wBCYc6rQiT7AUAPdrNCJPsDAbkav0Ik+wPDZr7HQiT7A8HzxstCJPsBQxa2w0Ik+wA==",
          "dtype": "f8"
         }
        },
        {
         "legendgroup": "036",
         "line": {
          "color": "rgb(189, 0, 0)"
         },
         "name": "036",
         "opacity": 0.4,
         "type": "scatter",
         "x": [
          0,
          1000000000000,
          2000000000000,
          3000000000000,
          4000000000000,
          5000000000000,
          6000000000000,
          7000000000000,
          8000000000000,
          9000000000000,
          10000000000000,
          11000000000000,
          12000000000000,
          13000000000000,
          14000000000000,
          15000000000000,
          16000000000000,
          17000000000000,
          18000000000000,
          19000000000000,
          20000000000000,
          21000000000000,
          22000000000000,
          23000000000000,
          24000000000000,
          25000000000000,
          26000000000000,
          27000000000000,
          28000000000000,
          29000000000000,
          30000000000000,
          31000000000000,
          32000000000000,
          33000000000000,
          34000000000000,
          35000000000000,
          36000000000000,
          37000000000000,
          38000000000000,
          39000000000000,
          40000000000000
         ],
         "y": {
          "bdata": "AAAAAAAAQD0IbPEKXRRFQMiKK0JwsUVACBQDHasRRkDQKzQr3i1GQNDIojzjNUZA0CUqGMU3RkBw+QdiIjhGQAgglU0MOEZAGCrX7OQ3RkBINBmMvTdGQBj7XcyrN0ZAiMl5K6M3RkDwl5WKmjdGQGBmsemRN0ZAEFqyBY83RkAYMRqNjjdGQEgIghSON0ZAaN/pm403RkCItrzqjTdGQGitpo2ON0ZAOKSQMI83RkAQm3rTjzdGQKghxzeQN0ZAKGKsgZA3RkCYopHLkDdGQBjjdhWRN0ZA6NYUlZE3RkCAA1orkjdGQAgwn8GSN0ZAkFzkV5M3RkA4aNCHkzdGQBj+k4yTN0ZACJRXkZM3RkDwKRuWkzdGQOiLOb+TN0ZAaGis95M3RkAARR8wlDdGQIghkmiUN0ZAAPD5PJQ3RkAAGzLnkzdGQA==",
          "dtype": "f8"
         }
        },
        {
         "legendgroup": "036",
         "line": {
          "color": "rgb(189, 0, 0)"
         },
         "name": "036",
         "opacity": 0.4,
         "type": "scatter",
         "x": [
          0,
          1000000000000,
          2000000000000,
          3000000000000,
          4000000000000,
          5000000000000,
          6000000000000,
          7000000000000,
          8000000000000,
          9000000000000,
          10000000000000,
          11000000000000,
          12000000000000,
          13000000000000,
          14000000000000,
          15000000000000,
          16000000000000,
          17000000000000,
          18000000000000,
          19000000000000,
          20000000000000,
          21000000000000,
          22000000000000,
          23000000000000,
          24000000000000,
          25000000000000,
          26000000000000,
          27000000000000,
          28000000000000,
          29000000000000,
          30000000000000,
          31000000000000,
          32000000000000,
          33000000000000,
          34000000000000,
          35000000000000,
          36000000000000,
          37000000000000,
          38000000000000,
          39000000000000,
          40000000000000
         ],
         "y": {
          "bdata": "4Lcm+KK8JsAQjlVxwGFHwNhkYXZwE0bACNxrGezcRcCIsJ/tBtJFwLjjJiyjzkXA6CqbNcHNRcB4QF1mkM1FwFiXGUqgzUXAmKZCCrjNRcDYtWvKz81FwHhNpFbbzUXAOF2QveHNRcAIbXwk6M1FwLh8aIvuzUXAKIqP3vDNRcBY6JN58c1FwIhGmBTyzUXAqKScr/LNRcDY8TdT8s1FwChZf47xzUXAiMDGyfDNRcDgJw4F8M1FwNiWgDHvzUXAoOuxV+7NRcB4QON97c1FwFiVFKTszUXA4F7ixOvNRcD4bmrj6s1FwBh/8gHqzUXAKI96IOnNRcCI0uyh6M1FwHjrFE3ozUXAeAQ9+OfNRcBoHWWj581FwGjBk2/nzUXAYH+vSefNRcBgPcsj581FwFj75v3mzUXAaPVCLefNRcCYwJGA581FwA==",
          "dtype": "f8"
         }
        },
        {
         "legendgroup": "037",
         "line": {
          "color": "rgb(174, 0, 0)"
         },
         "name": "037",
         "opacity": 0.4,
         "type": "scatter",
         "x": [
          0,
          1000000000000,
          2000000000000,
          3000000000000,
          4000000000000,
          5000000000000,
          6000000000000,
          7000000000000,
          8000000000000,
          9000000000000,
          10000000000000,
          11000000000000,
          12000000000000,
          13000000000000,
          14000000000000,
          15000000000000,
          16000000000000,
          17000000000000,
          18000000000000,
          19000000000000,
          20000000000000,
          21000000000000,
          22000000000000,
          23000000000000,
          24000000000000,
          25000000000000,
          26000000000000,
          27000000000000,
          28000000000000,
          29000000000000,
          30000000000000,
          31000000000000,
          32000000000000,
          33000000000000,
          34000000000000,
          35000000000000,
          36000000000000,
          37000000000000,
          38000000000000,
          39000000000000,
          40000000000000
         ],
         "y": {
          "bdata": "AAAAAAAAUD0gt11DhuE0QEDcGeX1qDpAcHU9uf5nO0CwFRcyEr87QHB4yf7k4DtAsGlklDLuO0CQVND+K/M7QLDQ/Vt09TtAELhHgND2O0Cw4cScXvc7QIALQrns9ztAMDW/1Xr4O0DwC+JM8Pg7QID8qC1l+TtAAO1vDtr5O0BQoLXtPvo7QJBC+t2h+jtAEOU+zgT7O0CAh4O+Z/s7QJAN2CK6+ztAMEZyhwr8O0CwfgzsWvw7QHC3plCr/DtAEAqXwu38O0DQmCuFLv07QHAnwEdv/TtAMLZUCrD9O0CA/TIv6/07QDAlIDcj/jtAkNtKrFj+O0CQILOOi/47QHD9asi7/jtAcIQ4Y+n+O0BwSDdhFP87QJBJZ8I8/ztAEC+gqGP/O0AQH7SSiP87QJCSx2Sr/ztAkInaHsz/O0AQjxMR6/87QA==",
          "dtype": "f8"
         }
        },
        {
         "legendgroup": "037",
         "line": {
          "color": "rgb(174, 0, 0)"
         },
         "name": "037",
         "opacity": 0.4,
         "type": "scatter",
         "x": [
          0,
          1000000000000,
          2000000000000,
          3000000000000,
          4000000000000,
          5000000000000,
          6000000000000,
          7000000000000,
          8000000000000,
          9000000000000,
          10000000000000,
          11000000000000,
          12000000000000,
          13000000000000,
          14000000000000,
          15000000000000,
          16000000000000,
          17000000000000,
          18000000000000,
          19000000000000,
          20000000000000,
          21000000000000,
          22000000000000,
          23000000000000,
          24000000000000,
          25000000000000,
          26000000000000,
          27000000000000,
          28000000000000,
          29000000000000,
          30000000000000,
          31000000000000,
          32000000000000,
          33000000000000,
          34000000000000,
          35000000000000,
          36000000000000,
          37000000000000,
          38000000000000,
          39000000000000,
          40000000000000
         ],
         "y": {
          "bdata": "QGFvZ/M0GsBg45rcx3g4wIA4ZCcGhz3AwORESbkWPcCQvJFlZf08wMC0n8HE9zzAsO/rbMz3PMBQSW80Q/k8wODiGHuo+jzAMBjMUbL7PMAA2S+IaPw8wMCZk74e/TzAgFr39NT9PMBg2f0rYP48wDD3slzq/jzAABVojXT/PMBgNlmW5f88wKCWU5VTAD3A4PZNlMEAPcAgV0iTLwE9wECKdkqKAT3AoExereIBPcAAD0YQOwI9wGDRLXOTAj3A0BChbtwCPcBQc6+NIwM9wNDVvaxqAz3AUDjMy7EDPcCQ/j/I8gM9wBC/GF4wBD3AMPFKJGsEPcAAldYaowQ9wACosg3YBD3A0CsQFAoFPcCwce8yOQU9wNB5UGplBT3A4OKg4I8FPcAQmqcSuAU9wGBDGOTdBT3AsN7yVAEGPcCwOhInIwY9wA==",
          "dtype": "f8"
         }
        },
        {
         "legendgroup": "038",
         "line": {
          "color": "rgb(159, 0, 0)"
         },
         "name": "038",
         "opacity": 0.4,
         "type": "scatter",
         "x": [
          0,
          1000000000000,
          2000000000000,
          3000000000000,
          4000000000000,
          5000000000000,
          6000000000000,
          7000000000000,
          8000000000000,
          9000000000000,
          10000000000000,
          11000000000000,
          12000000000000,
          13000000000000,
          14000000000000,
          15000000000000,
          16000000000000,
          17000000000000,
          18000000000000,
          19000000000000,
          20000000000000,
          21000000000000,
          22000000000000,
          23000000000000,
          24000000000000,
          25000000000000,
          26000000000000,
          27000000000000,
          28000000000000,
          29000000000000,
          30000000000000,
          31000000000000,
          32000000000000,
          33000000000000,
          34000000000000,
          35000000000000,
          36000000000000,
          37000000000000,
          38000000000000,
          39000000000000,
          40000000000000
         ],
         "y": {
          "bdata": "AAAAAAAAMD2AYwnNmgEjQCCl/gsmCj1AgDq9332FPUCwjfEFHQY+QAAknsLubz5AAAz52XXnPkCQAfdngYo/QDB8a+b+TkBAkCjsQPkIRECgvOI2GIpDQEBdMQaMMUNAMOoZwQ4TQ0BIqbGOywdDQMiaU37SA0NAeAWa+h0DQ0DwT33rLQNDQAj2zyQvA0NAwGFBPy4DQ0BIJPF1LgNDQGhPIg8wA0NAkHpTqDEDQ0C4pYRBMwNDQFBraZczA0NAmE8XWjIDQ0DYM8UcMQNDQBgYc98vA0NAKBRTty8DQ0AYPOroMANDQBhkgRoyA0NAEIwYTDMDQ0Aw2/2CMwNDQLA7OYEyA0NAKJx0fzEDQ0Co/K99MANDQPgqRFMwA0NA8GhsNTEDQ0DwppQXMgNDQOjkvPkyA0NAEIAHITMDQ0BAg0NfMgNDQA==",
          "dtype": "f8"
         }
        },
        {
         "legendgroup": "038",
         "line": {
          "color": "rgb(159, 0, 0)"
         },
         "name": "038",
         "opacity": 0.4,
         "type": "scatter",
         "x": [
          0,
          1000000000000,
          2000000000000,
          3000000000000,
          4000000000000,
          5000000000000,
          6000000000000,
          7000000000000,
          8000000000000,
          9000000000000,
          10000000000000,
          11000000000000,
          12000000000000,
          13000000000000,
          14000000000000,
          15000000000000,
          16000000000000,
          17000000000000,
          18000000000000,
          19000000000000,
          20000000000000,
          21000000000000,
          22000000000000,
          23000000000000,
          24000000000000,
          25000000000000,
          26000000000000,
          27000000000000,
          28000000000000,
          29000000000000,
          30000000000000,
          31000000000000,
          32000000000000,
          33000000000000,
          34000000000000,
          35000000000000,
          36000000000000,
          37000000000000,
          38000000000000,
          39000000000000,
          40000000000000
         ],
         "y": {
          "bdata": "wOIARU8WG8AgIC41K8EwwMAZpfd9Cj7A0A7KlK5pPcDAzyR/YVg9wHBy+WOsbj3AYKx91sOhPcBgsjhgSvA9wKCxI9nCVT7A8PCWKUSjQMCQV+MifllBwBCDwI7wWEHAoOvd3ptZQcCQJDIGClpBwBAL3ywoWkHAwHf+oC5aQcCAN3vTKlpBwIgMmZYpWkHAIH9UuChaQcDYLh45KFpBwFhGdTAoWkHA2F3MJyhaQcBYdSMfKFpBwMCpVA4oWkHA+F5c8ydaQcAQFGTYJ1pBwEjJa70nWkHAWIIfrydaQcAAIqGwJ1pBwKDBIrInWkHAWGGksydaQcAQybeyJ1pBwIgqw64nWkHAAIzOqidaQcB47dmmJ1pBwNhBD6UnWkHAkHf3pSdaQcBIrd+mJ1pBwADjx6cnWkHAWMrjpydaQcDY4gCnJ1pBwA==",
          "dtype": "f8"
         }
        },
        {
         "legendgroup": "039",
         "line": {
          "color": "rgb(143, 0, 0)"
         },
         "name": "039",
         "opacity": 0.4,
         "type": "scatter",
         "x": [
          0,
          1000000000000,
          2000000000000,
          3000000000000,
          4000000000000,
          5000000000000,
          6000000000000,
          7000000000000,
          8000000000000,
          9000000000000,
          10000000000000,
          11000000000000,
          12000000000000,
          13000000000000,
          14000000000000,
          15000000000000,
          16000000000000,
          17000000000000,
          18000000000000,
          19000000000000,
          20000000000000,
          21000000000000,
          22000000000000,
          23000000000000,
          24000000000000,
          25000000000000,
          26000000000000,
          27000000000000,
          28000000000000,
          29000000000000,
          30000000000000,
          31000000000000,
          32000000000000,
          33000000000000,
          34000000000000,
          35000000000000,
          36000000000000,
          37000000000000,
          38000000000000,
          39000000000000,
          40000000000000
         ],
         "y": {
          "bdata": "AAAAAAAAQD0AAAAAAABAPcDYC0SSzzBA8E2U6BKFPUDwHaEZ3Jw+QCD0OdzD3D5A0ClnrQH1PkBgib26Af0+QPAN7nLx/T5AUEYB9OH8PkDwCNndQ/s+QHCdgxWJ+T5AINTARvT3PkCwWdWWtfY+QFAvkM7H9T5AsNp19BT1PkBQb+pBkPQ+QOBzygkg9D5AIP7q+MvzPkCAG4ptj/M+QEAbM0Vd8z5AoEb/sXjzPkCws7d1ivM+QNC9Wyud8z5AEAoplqbzPkAwzOREqvM+QFCdA0Cw8z5A0ESUeLPzPkDQwpbus/M+QHCT4FSy8z5AUGGWOrHzPkAwL0wgsPM+QPD8AQav8z5AcCJ5D67zPkCwhMthrfM+QNDmHbSs8z5AEElwBqzzPkDwi7h9q/M+QHC6UECr8z5AEOnoAqvzPkBwF4HFqvM+QA==",
          "dtype": "f8"
         }
        },
        {
         "legendgroup": "039",
         "line": {
          "color": "rgb(143, 0, 0)"
         },
         "name": "039",
         "opacity": 0.4,
         "type": "scatter",
         "x": [
          0,
          1000000000000,
          2000000000000,
          3000000000000,
          4000000000000,
          5000000000000,
          6000000000000,
          7000000000000,
          8000000000000,
          9000000000000,
          10000000000000,
          11000000000000,
          12000000000000,
          13000000000000,
          14000000000000,
          15000000000000,
          16000000000000,
          17000000000000,
          18000000000000,
          19000000000000,
          20000000000000,
          21000000000000,
          22000000000000,
          23000000000000,
          24000000000000,
          25000000000000,
          26000000000000,
          27000000000000,
          28000000000000,
          29000000000000,
          30000000000000,
          31000000000000,
          32000000000000,
          33000000000000,
          34000000000000,
          35000000000000,
          36000000000000,
          37000000000000,
          38000000000000,
          39000000000000,
          40000000000000
         ],
         "y": {
          "bdata": "QMW+nXNBF8DAJgN7QZYYwFDjljPN+zPA0MUZVwfUPMCgvUvE2Hk9wNCoOJa8OD3AMDINFxcQPcDA4GamoPc8wMA+iqc55zzAoIlWU5TaPMDgrBlxstA8wKCAkRoeyTzAwPd5qmLDPMAgoJvJIb88wPChNWTluzzAICR6VX65PMBg0ifrtrc8wHC5faM2tjzAIOI4HRm1PMDgouEOTrQ8wMAqwwd0tDzAsMpbmtq0PMCgmk8/ErU8wLCjOShLtTzA8AMjoWe1PMCwByOScrU8wCAkkpuEtTzAkL6dO461PMDA1kVyj7U8wLD0raCJtTzAILtpzIO1PMBwgSX4fbU8wOBH4SN4tTzAsBloX3O1PMCgG8DEcLU8wHAdGCputTzAQB9wj2u1PMCg7YtnabU8wEA/gSlotTzAEJF262a1PMDA4mutZbU8wA==",
          "dtype": "f8"
         }
        }
       ],
       "layout": {
        "showlegend": false,
        "template": {
         "data": {
          "bar": [
           {
            "error_x": {
             "color": "#2a3f5f"
            },
            "error_y": {
             "color": "#2a3f5f"
            },
            "marker": {
             "line": {
              "color": "#E5ECF6",
              "width": 0.5
             },
             "pattern": {
              "fillmode": "overlay",
              "size": 10,
              "solidity": 0.2
             }
            },
            "type": "bar"
           }
          ],
          "barpolar": [
           {
            "marker": {
             "line": {
              "color": "#E5ECF6",
              "width": 0.5
             },
             "pattern": {
              "fillmode": "overlay",
              "size": 10,
              "solidity": 0.2
             }
            },
            "type": "barpolar"
           }
          ],
          "carpet": [
           {
            "aaxis": {
             "endlinecolor": "#2a3f5f",
             "gridcolor": "white",
             "linecolor": "white",
             "minorgridcolor": "white",
             "startlinecolor": "#2a3f5f"
            },
            "baxis": {
             "endlinecolor": "#2a3f5f",
             "gridcolor": "white",
             "linecolor": "white",
             "minorgridcolor": "white",
             "startlinecolor": "#2a3f5f"
            },
            "type": "carpet"
           }
          ],
          "choropleth": [
           {
            "colorbar": {
             "outlinewidth": 0,
             "ticks": ""
            },
            "type": "choropleth"
           }
          ],
          "contour": [
           {
            "colorbar": {
             "outlinewidth": 0,
             "ticks": ""
            },
            "colorscale": [
             [
              0,
              "#0d0887"
             ],
             [
              0.1111111111111111,
              "#46039f"
             ],
             [
              0.2222222222222222,
              "#7201a8"
             ],
             [
              0.3333333333333333,
              "#9c179e"
             ],
             [
              0.4444444444444444,
              "#bd3786"
             ],
             [
              0.5555555555555556,
              "#d8576b"
             ],
             [
              0.6666666666666666,
              "#ed7953"
             ],
             [
              0.7777777777777778,
              "#fb9f3a"
             ],
             [
              0.8888888888888888,
              "#fdca26"
             ],
             [
              1,
              "#f0f921"
             ]
            ],
            "type": "contour"
           }
          ],
          "contourcarpet": [
           {
            "colorbar": {
             "outlinewidth": 0,
             "ticks": ""
            },
            "type": "contourcarpet"
           }
          ],
          "heatmap": [
           {
            "colorbar": {
             "outlinewidth": 0,
             "ticks": ""
            },
            "colorscale": [
             [
              0,
              "#0d0887"
             ],
             [
              0.1111111111111111,
              "#46039f"
             ],
             [
              0.2222222222222222,
              "#7201a8"
             ],
             [
              0.3333333333333333,
              "#9c179e"
             ],
             [
              0.4444444444444444,
              "#bd3786"
             ],
             [
              0.5555555555555556,
              "#d8576b"
             ],
             [
              0.6666666666666666,
              "#ed7953"
             ],
             [
              0.7777777777777778,
              "#fb9f3a"
             ],
             [
              0.8888888888888888,
              "#fdca26"
             ],
             [
              1,
              "#f0f921"
             ]
            ],
            "type": "heatmap"
           }
          ],
          "histogram": [
           {
            "marker": {
             "pattern": {
              "fillmode": "overlay",
              "size": 10,
              "solidity": 0.2
             }
            },
            "type": "histogram"
           }
          ],
          "histogram2d": [
           {
            "colorbar": {
             "outlinewidth": 0,
             "ticks": ""
            },
            "colorscale": [
             [
              0,
              "#0d0887"
             ],
             [
              0.1111111111111111,
              "#46039f"
             ],
             [
              0.2222222222222222,
              "#7201a8"
             ],
             [
              0.3333333333333333,
              "#9c179e"
             ],
             [
              0.4444444444444444,
              "#bd3786"
             ],
             [
              0.5555555555555556,
              "#d8576b"
             ],
             [
              0.6666666666666666,
              "#ed7953"
             ],
             [
              0.7777777777777778,
              "#fb9f3a"
             ],
             [
              0.8888888888888888,
              "#fdca26"
             ],
             [
              1,
              "#f0f921"
             ]
            ],
            "type": "histogram2d"
           }
          ],
          "histogram2dcontour": [
           {
            "colorbar": {
             "outlinewidth": 0,
             "ticks": ""
            },
            "colorscale": [
             [
              0,
              "#0d0887"
             ],
             [
              0.1111111111111111,
              "#46039f"
             ],
             [
              0.2222222222222222,
              "#7201a8"
             ],
             [
              0.3333333333333333,
              "#9c179e"
             ],
             [
              0.4444444444444444,
              "#bd3786"
             ],
             [
              0.5555555555555556,
              "#d8576b"
             ],
             [
              0.6666666666666666,
              "#ed7953"
             ],
             [
              0.7777777777777778,
              "#fb9f3a"
             ],
             [
              0.8888888888888888,
              "#fdca26"
             ],
             [
              1,
              "#f0f921"
             ]
            ],
            "type": "histogram2dcontour"
           }
          ],
          "mesh3d": [
           {
            "colorbar": {
             "outlinewidth": 0,
             "ticks": ""
            },
            "type": "mesh3d"
           }
          ],
          "parcoords": [
           {
            "line": {
             "colorbar": {
              "outlinewidth": 0,
              "ticks": ""
             }
            },
            "type": "parcoords"
           }
          ],
          "pie": [
           {
            "automargin": true,
            "type": "pie"
           }
          ],
          "scatter": [
           {
            "fillpattern": {
             "fillmode": "overlay",
             "size": 10,
             "solidity": 0.2
            },
            "type": "scatter"
           }
          ],
          "scatter3d": [
           {
            "line": {
             "colorbar": {
              "outlinewidth": 0,
              "ticks": ""
             }
            },
            "marker": {
             "colorbar": {
              "outlinewidth": 0,
              "ticks": ""
             }
            },
            "type": "scatter3d"
           }
          ],
          "scattercarpet": [
           {
            "marker": {
             "colorbar": {
              "outlinewidth": 0,
              "ticks": ""
             }
            },
            "type": "scattercarpet"
           }
          ],
          "scattergeo": [
           {
            "marker": {
             "colorbar": {
              "outlinewidth": 0,
              "ticks": ""
             }
            },
            "type": "scattergeo"
           }
          ],
          "scattergl": [
           {
            "marker": {
             "colorbar": {
              "outlinewidth": 0,
              "ticks": ""
             }
            },
            "type": "scattergl"
           }
          ],
          "scattermap": [
           {
            "marker": {
             "colorbar": {
              "outlinewidth": 0,
              "ticks": ""
             }
            },
            "type": "scattermap"
           }
          ],
          "scattermapbox": [
           {
            "marker": {
             "colorbar": {
              "outlinewidth": 0,
              "ticks": ""
             }
            },
            "type": "scattermapbox"
           }
          ],
          "scatterpolar": [
           {
            "marker": {
             "colorbar": {
              "outlinewidth": 0,
              "ticks": ""
             }
            },
            "type": "scatterpolar"
           }
          ],
          "scatterpolargl": [
           {
            "marker": {
             "colorbar": {
              "outlinewidth": 0,
              "ticks": ""
             }
            },
            "type": "scatterpolargl"
           }
          ],
          "scatterternary": [
           {
            "marker": {
             "colorbar": {
              "outlinewidth": 0,
              "ticks": ""
             }
            },
            "type": "scatterternary"
           }
          ],
          "surface": [
           {
            "colorbar": {
             "outlinewidth": 0,
             "ticks": ""
            },
            "colorscale": [
             [
              0,
              "#0d0887"
             ],
             [
              0.1111111111111111,
              "#46039f"
             ],
             [
              0.2222222222222222,
              "#7201a8"
             ],
             [
              0.3333333333333333,
              "#9c179e"
             ],
             [
              0.4444444444444444,
              "#bd3786"
             ],
             [
              0.5555555555555556,
              "#d8576b"
             ],
             [
              0.6666666666666666,
              "#ed7953"
             ],
             [
              0.7777777777777778,
              "#fb9f3a"
             ],
             [
              0.8888888888888888,
              "#fdca26"
             ],
             [
              1,
              "#f0f921"
             ]
            ],
            "type": "surface"
           }
          ],
          "table": [
           {
            "cells": {
             "fill": {
              "color": "#EBF0F8"
             },
             "line": {
              "color": "white"
             }
            },
            "header": {
             "fill": {
              "color": "#C8D4E3"
             },
             "line": {
              "color": "white"
             }
            },
            "type": "table"
           }
          ]
         },
         "layout": {
          "annotationdefaults": {
           "arrowcolor": "#2a3f5f",
           "arrowhead": 0,
           "arrowwidth": 1
          },
          "autotypenumbers": "strict",
          "coloraxis": {
           "colorbar": {
            "outlinewidth": 0,
            "ticks": ""
           }
          },
          "colorscale": {
           "diverging": [
            [
             0,
             "#8e0152"
            ],
            [
             0.1,
             "#c51b7d"
            ],
            [
             0.2,
             "#de77ae"
            ],
            [
             0.3,
             "#f1b6da"
            ],
            [
             0.4,
             "#fde0ef"
            ],
            [
             0.5,
             "#f7f7f7"
            ],
            [
             0.6,
             "#e6f5d0"
            ],
            [
             0.7,
             "#b8e186"
            ],
            [
             0.8,
             "#7fbc41"
            ],
            [
             0.9,
             "#4d9221"
            ],
            [
             1,
             "#276419"
            ]
           ],
           "sequential": [
            [
             0,
             "#0d0887"
            ],
            [
             0.1111111111111111,
             "#46039f"
            ],
            [
             0.2222222222222222,
             "#7201a8"
            ],
            [
             0.3333333333333333,
             "#9c179e"
            ],
            [
             0.4444444444444444,
             "#bd3786"
            ],
            [
             0.5555555555555556,
             "#d8576b"
            ],
            [
             0.6666666666666666,
             "#ed7953"
            ],
            [
             0.7777777777777778,
             "#fb9f3a"
            ],
            [
             0.8888888888888888,
             "#fdca26"
            ],
            [
             1,
             "#f0f921"
            ]
           ],
           "sequentialminus": [
            [
             0,
             "#0d0887"
            ],
            [
             0.1111111111111111,
             "#46039f"
            ],
            [
             0.2222222222222222,
             "#7201a8"
            ],
            [
             0.3333333333333333,
             "#9c179e"
            ],
            [
             0.4444444444444444,
             "#bd3786"
            ],
            [
             0.5555555555555556,
             "#d8576b"
            ],
            [
             0.6666666666666666,
             "#ed7953"
            ],
            [
             0.7777777777777778,
             "#fb9f3a"
            ],
            [
             0.8888888888888888,
             "#fdca26"
            ],
            [
             1,
             "#f0f921"
            ]
           ]
          },
          "colorway": [
           "#636efa",
           "#EF553B",
           "#00cc96",
           "#ab63fa",
           "#FFA15A",
           "#19d3f3",
           "#FF6692",
           "#B6E880",
           "#FF97FF",
           "#FECB52"
          ],
          "font": {
           "color": "#2a3f5f"
          },
          "geo": {
           "bgcolor": "white",
           "lakecolor": "white",
           "landcolor": "#E5ECF6",
           "showlakes": true,
           "showland": true,
           "subunitcolor": "white"
          },
          "hoverlabel": {
           "align": "left"
          },
          "hovermode": "closest",
          "mapbox": {
           "style": "light"
          },
          "paper_bgcolor": "white",
          "plot_bgcolor": "#E5ECF6",
          "polar": {
           "angularaxis": {
            "gridcolor": "white",
            "linecolor": "white",
            "ticks": ""
           },
           "bgcolor": "#E5ECF6",
           "radialaxis": {
            "gridcolor": "white",
            "linecolor": "white",
            "ticks": ""
           }
          },
          "scene": {
           "xaxis": {
            "backgroundcolor": "#E5ECF6",
            "gridcolor": "white",
            "gridwidth": 2,
            "linecolor": "white",
            "showbackground": true,
            "ticks": "",
            "zerolinecolor": "white"
           },
           "yaxis": {
            "backgroundcolor": "#E5ECF6",
            "gridcolor": "white",
            "gridwidth": 2,
            "linecolor": "white",
            "showbackground": true,
            "ticks": "",
            "zerolinecolor": "white"
           },
           "zaxis": {
            "backgroundcolor": "#E5ECF6",
            "gridcolor": "white",
            "gridwidth": 2,
            "linecolor": "white",
            "showbackground": true,
            "ticks": "",
            "zerolinecolor": "white"
           }
          },
          "shapedefaults": {
           "line": {
            "color": "#2a3f5f"
           }
          },
          "ternary": {
           "aaxis": {
            "gridcolor": "white",
            "linecolor": "white",
            "ticks": ""
           },
           "baxis": {
            "gridcolor": "white",
            "linecolor": "white",
            "ticks": ""
           },
           "bgcolor": "#E5ECF6",
           "caxis": {
            "gridcolor": "white",
            "linecolor": "white",
            "ticks": ""
           }
          },
          "title": {
           "x": 0.05
          },
          "xaxis": {
           "automargin": true,
           "gridcolor": "white",
           "linecolor": "white",
           "ticks": "",
           "title": {
            "standoff": 15
           },
           "zerolinecolor": "white",
           "zerolinewidth": 2
          },
          "yaxis": {
           "automargin": true,
           "gridcolor": "white",
           "linecolor": "white",
           "ticks": "",
           "title": {
            "standoff": 15
           },
           "zerolinecolor": "white",
           "zerolinewidth": 2
          }
         }
        },
        "title": {
         "text": "Temperature Difference (T-T0) - Test Snapshots - Parameter Space 01"
        },
        "xaxis": {
         "tickformat": ".2e",
         "title": {
          "text": "Time [s]"
         }
        },
        "yaxis": {
         "tickformat": ".2f",
         "title": {
          "text": "Temperature [K]"
         }
        }
       }
      }
     },
     "metadata": {},
     "output_type": "display_data"
    }
   ],
   "source": [
    "if temperatures_diff is not None:\n",
    "    fig = go.Figure()\n",
    "    for idx_snap, temperature_array in enumerate(temperatures_diff):\n",
    "    # customdata=np.stack(([t_h] * len(comsol_data.times), [host_k] * len(comsol_data.times)) , axis=-1),\n",
    "        input_args = {'x' : list(comsol_data.times.values()),\n",
    "                    #   'customdata' : customdata,\n",
    "                    #   'hovertemplate' : \"Time: %{x:.2e}<br>Temperature: %{y:.2f}<br>T_h: %{customdata[0]:.2f}<br><br>host_k: %{customdata[1]:.2e}<br>\",\n",
    "                        'legendgroup' : f\"{idx_snap:03d}\",\n",
    "                        'name' : f\"{idx_snap:03d}\",\n",
    "                        'line' : dict(color=colors[idx_snap]),\n",
    "                        'opacity': 0.4}\n",
    "        fig.add_trace(go.Scatter(y=np.max(temperature_array, axis=1), **input_args)) \n",
    "        fig.add_trace(go.Scatter(y=np.min(temperature_array, axis=1), **input_args)) \n",
    "\n",
    "    fig.update_layout(\n",
    "        xaxis_tickformat='.2e',  # Format x-axis numbers to 2 decimal places\n",
    "        yaxis_tickformat='.2f',  # Format y-axis numbers to 2 decimal places\n",
    "        showlegend=False,        # Hide the legend\n",
    "        title_text=f'Temperature Difference (T-T0) - {DATA_TYPE} Snapshots - Parameter Space {PARAMETER_SPACE}', # title of plot\n",
    "        xaxis_title=\"Time [s]\",    # Optional: label for x-axis\n",
    "        yaxis_title=\"Temperature [K]\"     # Optional: label for y-axis\n",
    "    )\n",
    "    if IS_EXPORT:\n",
    "        fig.write_html(export_folder / f\"{DATA_TYPE}_MinMaxTemperatures.html\")\n",
    "        fig.write_image(export_folder / f\"{DATA_TYPE}_MinMaxTemperatures.png\")\n",
    "    fig.show()\n"
   ]
  },
  {
   "cell_type": "markdown",
   "metadata": {},
   "source": [
    "### Simulation Time"
   ]
  },
  {
   "cell_type": "code",
   "execution_count": null,
   "metadata": {},
   "outputs": [
    {
     "data": {
      "application/vnd.plotly.v1+json": {
       "config": {
        "plotlyServerURL": "https://plot.ly"
       },
       "data": [
        {
         "histnorm": "percent",
         "marker": {
          "color": "#EB89B5"
         },
         "name": "control",
         "opacity": 0.75,
         "texttemplate": "%{x}",
         "type": "histogram",
         "x": {
          "bdata": "ZmZmEhOwIUC8u7tzGhskQJqZmSF+RyNAd3d3wzAdIEDe3d0F3wAZQM3MzHqMoCZAmpmZxQ/5GUBVVVWjrFkhQKuqqro4niJAiYiILsijIEBmZmZWzw4gQCIiIvpIkRlAzczMcqN3JUAzMzP/eDwZQImIiOSWrhlAMzMz04WlIUDNzMzgpncZQFVVVT969iNAVVVVvVDPIEAiIiLI6C4hQBEREc82pS5AERERiRpsLEDNzMzcn8wnQLy7u3GvTCJAVVVV/rcAMUBERESaH2cjQJqZmTHfDihA7+7uiIWNK0BVVVVlA70vQLy7uy9yPDBA7+7u7OsKKEB3d3e33v8lQHd3d5Mk0S5AERERYfZPLUCrqqpw2lgpQDMzM3/V0ixAZmZmbLX1MUARERHzchIsQImIiDM+HDFAZmZmIAapLEA=",
          "dtype": "f8"
         },
         "xbins": {
          "size": 2
         }
        }
       ],
       "layout": {
        "bargroupgap": 0.1,
        "template": {
         "data": {
          "bar": [
           {
            "error_x": {
             "color": "#2a3f5f"
            },
            "error_y": {
             "color": "#2a3f5f"
            },
            "marker": {
             "line": {
              "color": "#E5ECF6",
              "width": 0.5
             },
             "pattern": {
              "fillmode": "overlay",
              "size": 10,
              "solidity": 0.2
             }
            },
            "type": "bar"
           }
          ],
          "barpolar": [
           {
            "marker": {
             "line": {
              "color": "#E5ECF6",
              "width": 0.5
             },
             "pattern": {
              "fillmode": "overlay",
              "size": 10,
              "solidity": 0.2
             }
            },
            "type": "barpolar"
           }
          ],
          "carpet": [
           {
            "aaxis": {
             "endlinecolor": "#2a3f5f",
             "gridcolor": "white",
             "linecolor": "white",
             "minorgridcolor": "white",
             "startlinecolor": "#2a3f5f"
            },
            "baxis": {
             "endlinecolor": "#2a3f5f",
             "gridcolor": "white",
             "linecolor": "white",
             "minorgridcolor": "white",
             "startlinecolor": "#2a3f5f"
            },
            "type": "carpet"
           }
          ],
          "choropleth": [
           {
            "colorbar": {
             "outlinewidth": 0,
             "ticks": ""
            },
            "type": "choropleth"
           }
          ],
          "contour": [
           {
            "colorbar": {
             "outlinewidth": 0,
             "ticks": ""
            },
            "colorscale": [
             [
              0,
              "#0d0887"
             ],
             [
              0.1111111111111111,
              "#46039f"
             ],
             [
              0.2222222222222222,
              "#7201a8"
             ],
             [
              0.3333333333333333,
              "#9c179e"
             ],
             [
              0.4444444444444444,
              "#bd3786"
             ],
             [
              0.5555555555555556,
              "#d8576b"
             ],
             [
              0.6666666666666666,
              "#ed7953"
             ],
             [
              0.7777777777777778,
              "#fb9f3a"
             ],
             [
              0.8888888888888888,
              "#fdca26"
             ],
             [
              1,
              "#f0f921"
             ]
            ],
            "type": "contour"
           }
          ],
          "contourcarpet": [
           {
            "colorbar": {
             "outlinewidth": 0,
             "ticks": ""
            },
            "type": "contourcarpet"
           }
          ],
          "heatmap": [
           {
            "colorbar": {
             "outlinewidth": 0,
             "ticks": ""
            },
            "colorscale": [
             [
              0,
              "#0d0887"
             ],
             [
              0.1111111111111111,
              "#46039f"
             ],
             [
              0.2222222222222222,
              "#7201a8"
             ],
             [
              0.3333333333333333,
              "#9c179e"
             ],
             [
              0.4444444444444444,
              "#bd3786"
             ],
             [
              0.5555555555555556,
              "#d8576b"
             ],
             [
              0.6666666666666666,
              "#ed7953"
             ],
             [
              0.7777777777777778,
              "#fb9f3a"
             ],
             [
              0.8888888888888888,
              "#fdca26"
             ],
             [
              1,
              "#f0f921"
             ]
            ],
            "type": "heatmap"
           }
          ],
          "histogram": [
           {
            "marker": {
             "pattern": {
              "fillmode": "overlay",
              "size": 10,
              "solidity": 0.2
             }
            },
            "type": "histogram"
           }
          ],
          "histogram2d": [
           {
            "colorbar": {
             "outlinewidth": 0,
             "ticks": ""
            },
            "colorscale": [
             [
              0,
              "#0d0887"
             ],
             [
              0.1111111111111111,
              "#46039f"
             ],
             [
              0.2222222222222222,
              "#7201a8"
             ],
             [
              0.3333333333333333,
              "#9c179e"
             ],
             [
              0.4444444444444444,
              "#bd3786"
             ],
             [
              0.5555555555555556,
              "#d8576b"
             ],
             [
              0.6666666666666666,
              "#ed7953"
             ],
             [
              0.7777777777777778,
              "#fb9f3a"
             ],
             [
              0.8888888888888888,
              "#fdca26"
             ],
             [
              1,
              "#f0f921"
             ]
            ],
            "type": "histogram2d"
           }
          ],
          "histogram2dcontour": [
           {
            "colorbar": {
             "outlinewidth": 0,
             "ticks": ""
            },
            "colorscale": [
             [
              0,
              "#0d0887"
             ],
             [
              0.1111111111111111,
              "#46039f"
             ],
             [
              0.2222222222222222,
              "#7201a8"
             ],
             [
              0.3333333333333333,
              "#9c179e"
             ],
             [
              0.4444444444444444,
              "#bd3786"
             ],
             [
              0.5555555555555556,
              "#d8576b"
             ],
             [
              0.6666666666666666,
              "#ed7953"
             ],
             [
              0.7777777777777778,
              "#fb9f3a"
             ],
             [
              0.8888888888888888,
              "#fdca26"
             ],
             [
              1,
              "#f0f921"
             ]
            ],
            "type": "histogram2dcontour"
           }
          ],
          "mesh3d": [
           {
            "colorbar": {
             "outlinewidth": 0,
             "ticks": ""
            },
            "type": "mesh3d"
           }
          ],
          "parcoords": [
           {
            "line": {
             "colorbar": {
              "outlinewidth": 0,
              "ticks": ""
             }
            },
            "type": "parcoords"
           }
          ],
          "pie": [
           {
            "automargin": true,
            "type": "pie"
           }
          ],
          "scatter": [
           {
            "fillpattern": {
             "fillmode": "overlay",
             "size": 10,
             "solidity": 0.2
            },
            "type": "scatter"
           }
          ],
          "scatter3d": [
           {
            "line": {
             "colorbar": {
              "outlinewidth": 0,
              "ticks": ""
             }
            },
            "marker": {
             "colorbar": {
              "outlinewidth": 0,
              "ticks": ""
             }
            },
            "type": "scatter3d"
           }
          ],
          "scattercarpet": [
           {
            "marker": {
             "colorbar": {
              "outlinewidth": 0,
              "ticks": ""
             }
            },
            "type": "scattercarpet"
           }
          ],
          "scattergeo": [
           {
            "marker": {
             "colorbar": {
              "outlinewidth": 0,
              "ticks": ""
             }
            },
            "type": "scattergeo"
           }
          ],
          "scattergl": [
           {
            "marker": {
             "colorbar": {
              "outlinewidth": 0,
              "ticks": ""
             }
            },
            "type": "scattergl"
           }
          ],
          "scattermap": [
           {
            "marker": {
             "colorbar": {
              "outlinewidth": 0,
              "ticks": ""
             }
            },
            "type": "scattermap"
           }
          ],
          "scattermapbox": [
           {
            "marker": {
             "colorbar": {
              "outlinewidth": 0,
              "ticks": ""
             }
            },
            "type": "scattermapbox"
           }
          ],
          "scatterpolar": [
           {
            "marker": {
             "colorbar": {
              "outlinewidth": 0,
              "ticks": ""
             }
            },
            "type": "scatterpolar"
           }
          ],
          "scatterpolargl": [
           {
            "marker": {
             "colorbar": {
              "outlinewidth": 0,
              "ticks": ""
             }
            },
            "type": "scatterpolargl"
           }
          ],
          "scatterternary": [
           {
            "marker": {
             "colorbar": {
              "outlinewidth": 0,
              "ticks": ""
             }
            },
            "type": "scatterternary"
           }
          ],
          "surface": [
           {
            "colorbar": {
             "outlinewidth": 0,
             "ticks": ""
            },
            "colorscale": [
             [
              0,
              "#0d0887"
             ],
             [
              0.1111111111111111,
              "#46039f"
             ],
             [
              0.2222222222222222,
              "#7201a8"
             ],
             [
              0.3333333333333333,
              "#9c179e"
             ],
             [
              0.4444444444444444,
              "#bd3786"
             ],
             [
              0.5555555555555556,
              "#d8576b"
             ],
             [
              0.6666666666666666,
              "#ed7953"
             ],
             [
              0.7777777777777778,
              "#fb9f3a"
             ],
             [
              0.8888888888888888,
              "#fdca26"
             ],
             [
              1,
              "#f0f921"
             ]
            ],
            "type": "surface"
           }
          ],
          "table": [
           {
            "cells": {
             "fill": {
              "color": "#EBF0F8"
             },
             "line": {
              "color": "white"
             }
            },
            "header": {
             "fill": {
              "color": "#C8D4E3"
             },
             "line": {
              "color": "white"
             }
            },
            "type": "table"
           }
          ]
         },
         "layout": {
          "annotationdefaults": {
           "arrowcolor": "#2a3f5f",
           "arrowhead": 0,
           "arrowwidth": 1
          },
          "autotypenumbers": "strict",
          "coloraxis": {
           "colorbar": {
            "outlinewidth": 0,
            "ticks": ""
           }
          },
          "colorscale": {
           "diverging": [
            [
             0,
             "#8e0152"
            ],
            [
             0.1,
             "#c51b7d"
            ],
            [
             0.2,
             "#de77ae"
            ],
            [
             0.3,
             "#f1b6da"
            ],
            [
             0.4,
             "#fde0ef"
            ],
            [
             0.5,
             "#f7f7f7"
            ],
            [
             0.6,
             "#e6f5d0"
            ],
            [
             0.7,
             "#b8e186"
            ],
            [
             0.8,
             "#7fbc41"
            ],
            [
             0.9,
             "#4d9221"
            ],
            [
             1,
             "#276419"
            ]
           ],
           "sequential": [
            [
             0,
             "#0d0887"
            ],
            [
             0.1111111111111111,
             "#46039f"
            ],
            [
             0.2222222222222222,
             "#7201a8"
            ],
            [
             0.3333333333333333,
             "#9c179e"
            ],
            [
             0.4444444444444444,
             "#bd3786"
            ],
            [
             0.5555555555555556,
             "#d8576b"
            ],
            [
             0.6666666666666666,
             "#ed7953"
            ],
            [
             0.7777777777777778,
             "#fb9f3a"
            ],
            [
             0.8888888888888888,
             "#fdca26"
            ],
            [
             1,
             "#f0f921"
            ]
           ],
           "sequentialminus": [
            [
             0,
             "#0d0887"
            ],
            [
             0.1111111111111111,
             "#46039f"
            ],
            [
             0.2222222222222222,
             "#7201a8"
            ],
            [
             0.3333333333333333,
             "#9c179e"
            ],
            [
             0.4444444444444444,
             "#bd3786"
            ],
            [
             0.5555555555555556,
             "#d8576b"
            ],
            [
             0.6666666666666666,
             "#ed7953"
            ],
            [
             0.7777777777777778,
             "#fb9f3a"
            ],
            [
             0.8888888888888888,
             "#fdca26"
            ],
            [
             1,
             "#f0f921"
            ]
           ]
          },
          "colorway": [
           "#636efa",
           "#EF553B",
           "#00cc96",
           "#ab63fa",
           "#FFA15A",
           "#19d3f3",
           "#FF6692",
           "#B6E880",
           "#FF97FF",
           "#FECB52"
          ],
          "font": {
           "color": "#2a3f5f"
          },
          "geo": {
           "bgcolor": "white",
           "lakecolor": "white",
           "landcolor": "#E5ECF6",
           "showlakes": true,
           "showland": true,
           "subunitcolor": "white"
          },
          "hoverlabel": {
           "align": "left"
          },
          "hovermode": "closest",
          "mapbox": {
           "style": "light"
          },
          "paper_bgcolor": "white",
          "plot_bgcolor": "#E5ECF6",
          "polar": {
           "angularaxis": {
            "gridcolor": "white",
            "linecolor": "white",
            "ticks": ""
           },
           "bgcolor": "#E5ECF6",
           "radialaxis": {
            "gridcolor": "white",
            "linecolor": "white",
            "ticks": ""
           }
          },
          "scene": {
           "xaxis": {
            "backgroundcolor": "#E5ECF6",
            "gridcolor": "white",
            "gridwidth": 2,
            "linecolor": "white",
            "showbackground": true,
            "ticks": "",
            "zerolinecolor": "white"
           },
           "yaxis": {
            "backgroundcolor": "#E5ECF6",
            "gridcolor": "white",
            "gridwidth": 2,
            "linecolor": "white",
            "showbackground": true,
            "ticks": "",
            "zerolinecolor": "white"
           },
           "zaxis": {
            "backgroundcolor": "#E5ECF6",
            "gridcolor": "white",
            "gridwidth": 2,
            "linecolor": "white",
            "showbackground": true,
            "ticks": "",
            "zerolinecolor": "white"
           }
          },
          "shapedefaults": {
           "line": {
            "color": "#2a3f5f"
           }
          },
          "ternary": {
           "aaxis": {
            "gridcolor": "white",
            "linecolor": "white",
            "ticks": ""
           },
           "baxis": {
            "gridcolor": "white",
            "linecolor": "white",
            "ticks": ""
           },
           "bgcolor": "#E5ECF6",
           "caxis": {
            "gridcolor": "white",
            "linecolor": "white",
            "ticks": ""
           }
          },
          "title": {
           "x": 0.05
          },
          "xaxis": {
           "automargin": true,
           "gridcolor": "white",
           "linecolor": "white",
           "ticks": "",
           "title": {
            "standoff": 15
           },
           "zerolinecolor": "white",
           "zerolinewidth": 2
          },
          "yaxis": {
           "automargin": true,
           "gridcolor": "white",
           "linecolor": "white",
           "ticks": "",
           "title": {
            "standoff": 15
           },
           "zerolinecolor": "white",
           "zerolinewidth": 2
          }
         }
        },
        "title": {
         "text": "Simulation Time - Test Snapshots - Parameter Space 01"
        },
        "xaxis": {
         "title": {
          "text": "Time [min]"
         }
        },
        "yaxis": {
         "title": {
          "text": "Count"
         }
        }
       }
      }
     },
     "metadata": {},
     "output_type": "display_data"
    }
   ],
   "source": [
    "fig = go.Figure(data=[go.Histogram(\n",
    "    x=sim_times / 60,\n",
    "    histnorm='percent',\n",
    "    name='control', # name used in legend and hover labels\n",
    "    xbins=dict( # bins used for histogram\n",
    "        # start=-4.0,\n",
    "        # end=3.0,\n",
    "        size=2,\n",
    "        ),\n",
    "    marker_color='#EB89B5',\n",
    "    opacity=0.75,\n",
    "     texttemplate=\"%{x}\"\n",
    "    )])\n",
    "\n",
    "fig.update_layout(\n",
    "    title_text=f'Simulation Time - {DATA_TYPE} Snapshots - Parameter Space {PARAMETER_SPACE}', # title of plot\n",
    "    xaxis_title_text='Time [min]', # xaxis label\n",
    "    yaxis_title_text='Count', # yaxis label\n",
    "    bargroupgap=0.1, # gap between bars of the same location coordinates\n",
    ")\n",
    "if IS_EXPORT:\n",
    "    fig.write_html(export_folder / f\"{DATA_TYPE}_SimulationTime.html\")\n",
    "    fig.write_image(export_folder / f\"{DATA_TYPE}_SimulationTime.png\")\n",
    "fig.show()\n"
   ]
  },
  {
   "cell_type": "markdown",
   "metadata": {},
   "source": [
    "## Calculate Entropy\n"
   ]
  },
  {
   "cell_type": "code",
   "execution_count": null,
   "metadata": {},
   "outputs": [],
   "source": [
    "param_folder = ROOT / \"data\" / PARAMETER_SPACE / \"Exports\"\n",
    "param_files = sorted([path for path in param_folder.rglob(f\"{DATA_TYPE}*.csv\")])\n",
    "assert len(param_files) == N_SNAPS\n",
    "ureg = pint.get_application_registry()"
   ]
  },
  {
   "cell_type": "code",
   "execution_count": null,
   "metadata": {},
   "outputs": [
    {
     "ename": "SyntaxError",
     "evalue": "incomplete input (3374897189.py, line 2)",
     "output_type": "error",
     "traceback": [
      "  \u001b[36mCell\u001b[39m\u001b[36m \u001b[39m\u001b[32mIn[22]\u001b[39m\u001b[32m, line 2\u001b[39m\n\u001b[31m    \u001b[39m\u001b[31mif PARAMETER_SPACE == \"03\":\u001b[39m\n                               ^\n\u001b[31mSyntaxError\u001b[39m\u001b[31m:\u001b[39m incomplete input\n"
     ]
    }
   ],
   "source": [
    "IS_USE_TGRAD = False\n",
    "if PARAMETER_SPACE == \"03\":\n",
    "    IS_USE_TGRAD = True"
   ]
  },
  {
   "cell_type": "code",
   "execution_count": null,
   "metadata": {},
   "outputs": [
    {
     "name": "stderr",
     "output_type": "stream",
     "text": [
      "100%|██████████| 40/40 [00:42<00:00,  1.05s/it]\n"
     ]
    }
   ],
   "source": [
    "comsol_data_ref = comsol_data\n",
    "\n",
    "if not IS_LOAD_VTU:\n",
    "    N_SNAPS = len(temperatures)\n",
    "    N_TIME_STEPS = len(comsol_data_ref.times)\n",
    "    entropy_gen_unit = np.zeros((N_SNAPS, N_TIME_STEPS))\n",
    "    entropy_gen_number = np.zeros_like(entropy_gen_unit)\n",
    "    comsol_data.mesh.clear_point_data()\n",
    "\n",
    "    for idx_snap in tqdm(range(N_SNAPS), total = N_SNAPS):\n",
    "        param_df = pd.read_csv(param_files[idx_snap], index_col = 0)\n",
    "        param_df['quantity_pint'] = param_df[param_df.columns[-1]].apply(lambda x : safe_parse_quantity(x))\n",
    "        lambda_therm = (1 - param_df.loc['host_phi', \"quantity_pint\"]) * param_df.loc['host_lambda', \"quantity_pint\"] + \\\n",
    "                            param_df.loc['host_phi', \"quantity_pint\"] * (4.2 * ureg.watt / (ureg.meter * ureg.kelvin))\n",
    "        t0      = 0.5 * (param_df.loc[\"T_h\", \"quantity_pint\"] + param_df.loc[\"T_c\", \"quantity_pint\"])\n",
    "        delta_T = (param_df.loc['T_h', \"quantity_pint\"]  - param_df.loc[\"T_c\", \"quantity_pint\"])\n",
    "                    \n",
    "        for idx_time in range(N_TIME_STEPS):\n",
    "            \n",
    "            if IS_USE_TGRAD:\n",
    "                z_points = comsol_data.mesh.points[:, -1] * ureg.meter\n",
    "                tgrad = (param_df.loc[\"T_c\", \"quantity_pint\"] - (delta_T / param_df.loc[\"H\", \"quantity_pint\"] * z_points)).to('K').magnitude\n",
    "                temp_data = temperatures_diff[idx_snap, idx_time, :]\n",
    "            else:\n",
    "                temp_data = temperatures[idx_snap, idx_time, :]\n",
    "            \n",
    "            entrop_gener , entrpy_num = calculate_thermal_entropy_generation(comsol_data.mesh,\n",
    "                                                                            temp_data,\n",
    "                                                                            lambda_therm, t0, delta_T)\n",
    "            entropy_gen_unit[idx_snap, idx_time] = entrop_gener.magnitude\n",
    "            entropy_gen_number[idx_snap, idx_time] = entrpy_num.magnitude"
   ]
  },
  {
   "cell_type": "code",
   "execution_count": null,
   "metadata": {},
   "outputs": [],
   "source": [
    "if IS_LOAD_VTU:\n",
    "    vtu_files = sorted([path for path in import_folder.iterdir() if (path.suffix in [\".vtu\"] and DATA_TYPE.lower() in path.stem.lower())])\n",
    "    N_SNAPS = len(vtu_files)\n",
    "    N_TIME_STEPS = len(COMSOL_VTU( vtu_files[0]).times)\n",
    "    entropy_gen_unit = np.zeros((N_SNAPS, N_TIME_STEPS))\n",
    "    entropy_gen_number = np.zeros_like(entropy_gen_unit)\n",
    "    comsol_data.mesh.clear_point_data()\n",
    "\n",
    "    for idx_snap, vtu_file in tqdm(enumerate(vtu_files), total = len(vtu_files)): # TODO: Include TQDM\n",
    "            comsol_data = COMSOL_VTU(vtu_file)\n",
    "            temperatures = comsol_data.get_array(\"Temperature\")\n",
    "            comsol_data.mesh.clear_data()\n",
    "            param_df = pd.read_csv(param_files[idx_snap], index_col = 0)\n",
    "            ureg = pint.UnitRegistry()\n",
    "            param_df['quantity_pint'] = param_df[param_df.columns[-1]].apply(lambda x : safe_parse_quantity(x, ureg))\n",
    "            lambda_therm = (1 - param_df.loc['host_phi', \"quantity_pint\"]) * param_df.loc['host_lambda', \"quantity_pint\"] + \\\n",
    "                                param_df.loc['host_phi', \"quantity_pint\"] * (4.2 * ureg.watt / (ureg.meter * ureg.kelvin))\n",
    "            t0      = 0.5 * (param_df.loc[\"T_h\", \"quantity_pint\"] + param_df.loc[\"T_c\", \"quantity_pint\"])\n",
    "            delta_T = (param_df.loc['T_h', \"quantity_pint\"]  - param_df.loc[\"T_c\", \"quantity_pint\"])\n",
    "            \n",
    "\n",
    "            for idx_time, time_key in enumerate(comsol_data.times.keys()):\n",
    "                entrop_gener , entrpy_num = calculate_thermal_entropy_generation(comsol_data.mesh,\n",
    "                                                                                temperatures[idx_time, :],\n",
    "                                                                                lambda_therm, t0, delta_T, ureg = ureg)\n",
    "                entropy_gen_unit[idx_snap, idx_time] = entrop_gener.magnitude\n",
    "                entropy_gen_number[idx_snap, idx_time] = entrpy_num.magnitude"
   ]
  },
  {
   "cell_type": "code",
   "execution_count": null,
   "metadata": {},
   "outputs": [],
   "source": [
    "np.save(export_folder / f\"{DATA_TYPE}_entropy_gen_unit.npy\", entropy_gen_unit)\n",
    "np.save(export_folder / f\"{DATA_TYPE}_entropy_gen_number.npy\", entropy_gen_number)"
   ]
  },
  {
   "cell_type": "markdown",
   "metadata": {},
   "source": [
    "### Plot entropy generation"
   ]
  },
  {
   "cell_type": "code",
   "execution_count": null,
   "metadata": {},
   "outputs": [
    {
     "data": {
      "application/vnd.plotly.v1+json": {
       "config": {
        "plotlyServerURL": "https://plot.ly"
       },
       "data": [
        {
         "line": {
          "color": "rgb(0, 0, 131)"
         },
         "mode": "lines",
         "name": "000",
         "opacity": 0.4,
         "type": "scatter",
         "x": [
          0,
          1000000000000,
          2000000000000,
          3000000000000,
          4000000000000,
          5000000000000,
          6000000000000,
          7000000000000,
          8000000000000,
          9000000000000,
          10000000000000,
          11000000000000,
          12000000000000,
          13000000000000,
          14000000000000,
          15000000000000,
          16000000000000,
          17000000000000,
          18000000000000,
          19000000000000,
          20000000000000,
          21000000000000,
          22000000000000,
          23000000000000,
          24000000000000,
          25000000000000,
          26000000000000,
          27000000000000,
          28000000000000,
          29000000000000,
          30000000000000,
          31000000000000,
          32000000000000,
          33000000000000,
          34000000000000,
          35000000000000,
          36000000000000,
          37000000000000,
          38000000000000,
          39000000000000,
          40000000000000
         ],
         "y": {
          "bdata": "vyDwr1h2nkDMMfBL21WhQJ3ZaXEURaFA4/YbIoJDoUCkSQTsUkOhQIkeQ6VDQ6FA0LG7wz1DoUBSptyPP0OhQMcLIPg+Q6FALuimuj1DoUBm/55fPUOhQNU5AWQ9Q6FAvbPyiD1DoUCWQdzTPUOhQPNL+w8+Q6FAPJw5Rj5DoUDwLGV9PkOhQFsC2as+Q6FAhrxKtz5DoUBk7MHCPkOhQPKRPs4+Q6FAAys11D5DoUBM3NzFPkOhQC48kLc+Q6FAp0pPqT5DoUBcFl+bPkOhQCb4c44+Q6FAkgCOgT5DoUCbL610PkOhQBzB1Gk+Q6FAEPtgZj5DoUAboO1iPkOhQESwel8+Q6FAA/u/XD5DoUDd4KdcPkOhQMDZj1w+Q6FAqeV3XD5DoUBqIMxcPkOhQMoXrV4+Q6FAaCiOYD5DoUBCUm9iPkOhQA==",
          "dtype": "f8"
         }
        },
        {
         "line": {
          "color": "rgb(0, 8, 136)"
         },
         "mode": "lines",
         "name": "001",
         "opacity": 0.4,
         "type": "scatter",
         "x": [
          0,
          1000000000000,
          2000000000000,
          3000000000000,
          4000000000000,
          5000000000000,
          6000000000000,
          7000000000000,
          8000000000000,
          9000000000000,
          10000000000000,
          11000000000000,
          12000000000000,
          13000000000000,
          14000000000000,
          15000000000000,
          16000000000000,
          17000000000000,
          18000000000000,
          19000000000000,
          20000000000000,
          21000000000000,
          22000000000000,
          23000000000000,
          24000000000000,
          25000000000000,
          26000000000000,
          27000000000000,
          28000000000000,
          29000000000000,
          30000000000000,
          31000000000000,
          32000000000000,
          33000000000000,
          34000000000000,
          35000000000000,
          36000000000000,
          37000000000000,
          38000000000000,
          39000000000000,
          40000000000000
         ],
         "y": {
          "bdata": "hCCP/K4Yn0DbQdsGMdGhQO1gB1ur0KFA/wdjDb/OoUDOTWbP0s6hQI6sY3/MzqFA7XbXnM7OoUA/jeMP0M6hQI9YV77QzqFAXQFR7dDOoUBeciuH0M6hQFUC6i/QzqFAJ+Ru2s/OoUDszrKLz86hQFSJJmnPzqFAQNDJRs/OoUCpo5wkz86hQBXE6wbPzqFAvD1iC8/OoUDOX9oPz86hQEcqVBTPzqFAK4HPGc/OoUANDzonz86hQA4WqjTPzqFAMJYfQs/OoUDxANtOz86hQPvfq1XPzqFAzhJ+XM/OoUBqmVFjz86hQHzprGnPzqFABPBFbM/OoUB1Id9uz86hQNF9eHHPzqFA5Ymnc8/OoUAOBYtyz86hQKyHbnHPzqFAuxFScM/OoUDUQQ9vz86hQMNznGzPzqFAIs0pas/OoUDuTbdnz86hQA==",
          "dtype": "f8"
         }
        },
        {
         "line": {
          "color": "rgb(0, 15, 141)"
         },
         "mode": "lines",
         "name": "002",
         "opacity": 0.4,
         "type": "scatter",
         "x": [
          0,
          1000000000000,
          2000000000000,
          3000000000000,
          4000000000000,
          5000000000000,
          6000000000000,
          7000000000000,
          8000000000000,
          9000000000000,
          10000000000000,
          11000000000000,
          12000000000000,
          13000000000000,
          14000000000000,
          15000000000000,
          16000000000000,
          17000000000000,
          18000000000000,
          19000000000000,
          20000000000000,
          21000000000000,
          22000000000000,
          23000000000000,
          24000000000000,
          25000000000000,
          26000000000000,
          27000000000000,
          28000000000000,
          29000000000000,
          30000000000000,
          31000000000000,
          32000000000000,
          33000000000000,
          34000000000000,
          35000000000000,
          36000000000000,
          37000000000000,
          38000000000000,
          39000000000000,
          40000000000000
         ],
         "y": {
          "bdata": "hoDR6IOOj0ClFSz59o6PQC2zJ3UTj49AcezpJx+Pj0DLVapNJY+PQC70vjopj49AhfwyYCqPj0Beaq6FK4+PQLk9Massj49AeWqrZi2Pj0DAy5KdLY+PQNxwetQtj49AxFliCy6Pj0AD63QuLo+PQI1fvDguj49AiNYDQy6Pj0D6T0tNLo+PQHJA3FMuj49AnPrIVS6Pj0DXtLVXLo+PQDJvolkuj49A5ybdWi6Pj0CWWTlbLo+PQEqMlVsuj49A/L7xWy6Pj0BPoixcLo+PQBPiPVwuj49A1CFPXC6Pj0CWYWBcLo+PQNRla1wuj49AoZ9uXC6Pj0Bu2XFcLo+PQDoTdVwuj49AnCJ3XC6Pj0D5vHdcLo+PQFBXeFwuj49Ar/F4XC6Pj0A8VHlcLo+PQBZxeVwuj49A6o15XC6Pj0DCqnlcLo+PQA==",
          "dtype": "f8"
         }
        },
        {
         "line": {
          "color": "rgb(0, 22, 146)"
         },
         "mode": "lines",
         "name": "003",
         "opacity": 0.4,
         "type": "scatter",
         "x": [
          0,
          1000000000000,
          2000000000000,
          3000000000000,
          4000000000000,
          5000000000000,
          6000000000000,
          7000000000000,
          8000000000000,
          9000000000000,
          10000000000000,
          11000000000000,
          12000000000000,
          13000000000000,
          14000000000000,
          15000000000000,
          16000000000000,
          17000000000000,
          18000000000000,
          19000000000000,
          20000000000000,
          21000000000000,
          22000000000000,
          23000000000000,
          24000000000000,
          25000000000000,
          26000000000000,
          27000000000000,
          28000000000000,
          29000000000000,
          30000000000000,
          31000000000000,
          32000000000000,
          33000000000000,
          34000000000000,
          35000000000000,
          36000000000000,
          37000000000000,
          38000000000000,
          39000000000000,
          40000000000000
         ],
         "y": {
          "bdata": "H+tJH246kkC9TtM0uDqSQAP/+B/YOpJAutJP3607kkBkTLY08ESSQEOqCobdgZJACFLTP1b2kkC50i07RSiTQObESe7EMJNATR/QLhUyk0BiEDphMzKTQE8KPh05MpNAky48rzYyk0CqK/82NDKTQFW85VszMpNATGVhCTMyk0CIg8bhMjKTQG/tQuAyMpNAF12/3jIyk0B60jvdMjKTQHqZv9syMpNAQNxJ2jIyk0BxH9TYMjKTQBJjXtcyMpNAkSPd1jIyk0A47DTXMjKTQOW0jNcyMpNAoX3k1zIyk0DBqEXYMjKTQHoor9gyMpNAL6gY2TIyk0DqJ4LZMjKTQCy/BdoyMpNA4n+g2jIyk0CYQDvbMjKTQFAB1tsyMpNA6k6E3DIyk0Bh90PdMjKTQNqfA94yMpNAUUjD3jIyk0BZeZrfMjKTQA==",
          "dtype": "f8"
         }
        },
        {
         "line": {
          "color": "rgb(0, 30, 150)"
         },
         "mode": "lines",
         "name": "004",
         "opacity": 0.4,
         "type": "scatter",
         "x": [
          0,
          1000000000000,
          2000000000000,
          3000000000000,
          4000000000000,
          5000000000000,
          6000000000000,
          7000000000000,
          8000000000000,
          9000000000000,
          10000000000000,
          11000000000000,
          12000000000000,
          13000000000000,
          14000000000000,
          15000000000000,
          16000000000000,
          17000000000000,
          18000000000000,
          19000000000000,
          20000000000000,
          21000000000000,
          22000000000000,
          23000000000000,
          24000000000000,
          25000000000000,
          26000000000000,
          27000000000000,
          28000000000000,
          29000000000000,
          30000000000000,
          31000000000000,
          32000000000000,
          33000000000000,
          34000000000000,
          35000000000000,
          36000000000000,
          37000000000000,
          38000000000000,
          39000000000000,
          40000000000000
         ],
         "y": {
          "bdata": "zuF1QajsjUAACRvpDO2NQD37kBUn7Y1AiJp+YTPtjUD2aiUBOO2NQBtWS6E87Y1Ab4XT+T3tjUB4LJLgPu2NQEizVcc/7Y1A3BkerkDtjUCXduXnQO2NQOtrOwpB7Y1Ai32RLEHtjUCJq+dOQe2NQMEB91NB7Y1A4ckOVUHtjUAPkiZWQe2NQD9aPldB7Y1A4XGHWkHtjUB5mBxeQe2NQFy/sWFB7Y1AiuZGZUHtjUBgR85lQe2NQBq662VB7Y1A0SwJZkHtjUCInyZmQe2NQAA2fWZB7Y1AgYrbZkHtjUAK3zlnQe2NQJEzmGdB7Y1AouymZ0HtjUBP3KpnQe2NQPjLrmdB7Y1AoruyZ0HtjUDnSbtnQe2NQGl4xGdB7Y1A76bNZ0HtjUBy1dZnQe2NQNCm2GdB7Y1AvXjZZ0HtjUCxStpnQe2NQA==",
          "dtype": "f8"
         }
        },
        {
         "line": {
          "color": "rgb(0, 38, 155)"
         },
         "mode": "lines",
         "name": "005",
         "opacity": 0.4,
         "type": "scatter",
         "x": [
          0,
          1000000000000,
          2000000000000,
          3000000000000,
          4000000000000,
          5000000000000,
          6000000000000,
          7000000000000,
          8000000000000,
          9000000000000,
          10000000000000,
          11000000000000,
          12000000000000,
          13000000000000,
          14000000000000,
          15000000000000,
          16000000000000,
          17000000000000,
          18000000000000,
          19000000000000,
          20000000000000,
          21000000000000,
          22000000000000,
          23000000000000,
          24000000000000,
          25000000000000,
          26000000000000,
          27000000000000,
          28000000000000,
          29000000000000,
          30000000000000,
          31000000000000,
          32000000000000,
          33000000000000,
          34000000000000,
          35000000000000,
          36000000000000,
          37000000000000,
          38000000000000,
          39000000000000,
          40000000000000
         ],
         "y": {
          "bdata": "IbawhMK3l0CFG/uoBiOZQD+FFz/sh5pA8X9850JtmkBCy/90oWaaQEbnZR/yWZpALtf5aT80mkB8kcPYFSScQOKf5SfJHJxA7zAjBSMbnEBZwcPL9BqcQAQNSg70GpxAfhXVCPQanEDE22Cb8xqcQOmUhn7zGpxAoKvgefManED/wDx18xqcQBhR63XzGpxAZSR4d/ManEByEwV58xqcQDYeknrzGpxA6tSAe/ManEBStFV88xqcQLiVKn3zGpxAGnn/ffManEAPCFd+8xqcQAMjmn7zGpxAGz7dfvManEBaWSB/8xqcQKofOH/zGpxAotNIf/ManECjh1l/8xqcQKg7an/zGpxAl8tvf/ManEAWinN/8xqcQJNId3/zGpxAFAd7f/ManED2OHx/8xqcQFoAfX/zGpxAuMd9f/ManEAZj35/8xqcQA==",
          "dtype": "f8"
         }
        },
        {
         "line": {
          "color": "rgb(0, 45, 160)"
         },
         "mode": "lines",
         "name": "006",
         "opacity": 0.4,
         "type": "scatter",
         "x": [
          0,
          1000000000000,
          2000000000000,
          3000000000000,
          4000000000000,
          5000000000000,
          6000000000000,
          7000000000000,
          8000000000000,
          9000000000000,
          10000000000000,
          11000000000000,
          12000000000000,
          13000000000000,
          14000000000000,
          15000000000000,
          16000000000000,
          17000000000000,
          18000000000000,
          19000000000000,
          20000000000000,
          21000000000000,
          22000000000000,
          23000000000000,
          24000000000000,
          25000000000000,
          26000000000000,
          27000000000000,
          28000000000000,
          29000000000000,
          30000000000000,
          31000000000000,
          32000000000000,
          33000000000000,
          34000000000000,
          35000000000000,
          36000000000000,
          37000000000000,
          38000000000000,
          39000000000000,
          40000000000000
         ],
         "y": {
          "bdata": "kq6NU/nLjUBZjTeAXMyNQPR5dbd2zI1AuEFj9YLMjUCJDk7Ah8yNQEBfwouMzI1ANkSEyY3MjUCRg2+4jsyNQKMIYKePzI1Ab9NVlpDMjUD8KgbKkMyNQDrWe+2QzI1AG6DxEJHMjUCViGc0kcyNQHYnQziRzI1ACK1hOZHMjUCoMoA6kcyNQEy4njuRzI1AGuccP5HMjUD6vs9CkcyNQC2XgkaRzI1At281SpHMjUAjBJ1KkcyNQAaFu0qRzI1A4wXaSpHMjUDEhvhKkcyNQMBeVEuRzI1Ah4e1S5HMjUBQsBZMkcyNQB7Zd0yRzI1AaXyDTJHMjUBwtodMkcyNQHHwi0yRzI1AfCqQTJHMjUDcHZlMkcyNQAd6okyRzI1AL9arTJHMjUBaMrVMkcyNQAbLtkyRzI1AeLe3TJHMjUDoo7hMkcyNQA==",
          "dtype": "f8"
         }
        },
        {
         "line": {
          "color": "rgb(0, 52, 165)"
         },
         "mode": "lines",
         "name": "007",
         "opacity": 0.4,
         "type": "scatter",
         "x": [
          0,
          1000000000000,
          2000000000000,
          3000000000000,
          4000000000000,
          5000000000000,
          6000000000000,
          7000000000000,
          8000000000000,
          9000000000000,
          10000000000000,
          11000000000000,
          12000000000000,
          13000000000000,
          14000000000000,
          15000000000000,
          16000000000000,
          17000000000000,
          18000000000000,
          19000000000000,
          20000000000000,
          21000000000000,
          22000000000000,
          23000000000000,
          24000000000000,
          25000000000000,
          26000000000000,
          27000000000000,
          28000000000000,
          29000000000000,
          30000000000000,
          31000000000000,
          32000000000000,
          33000000000000,
          34000000000000,
          35000000000000,
          36000000000000,
          37000000000000,
          38000000000000,
          39000000000000,
          40000000000000
         ],
         "y": {
          "bdata": "yoSY6hBJnUC7wuVYTxugQNlVNA1KDqBA/gOH9qEMoEBMvo6+RQygQGsE274sDKBAPydjKCUMoECkpwDAIwygQLFNbn8jDKBA7SZ6MSMMoEA/e6UlIwygQMdMzCEjDKBA3cVqISMMoEB0sAshIwygQK/ZTyIjDKBAdkFAKyMMoEAbIjw0IwygQKB7Qz0jDKBAWnaRRSMMoEAsrkhKIwygQG7AAE8jDKBAIK25UyMMoEAe05RXIwygQAtXW1cjDKBAGvIhVyMMoEBPpOhWIwygQBzHl1YjDKBASvXXVSMMoEBBLhhVIwygQAVyWFQjDKBAMp+eUyMMoECDXwBTIwygQCsiYlIjDKBAK+fDUSMMoEA5hzpRIwygQJIDE1EjDKBAy4DrUCMMoEDf/sNQIwygQAQgqFAjDKBAnd3CUCMMoECIm91QIwygQA==",
          "dtype": "f8"
         }
        },
        {
         "line": {
          "color": "rgb(0, 60, 170)"
         },
         "mode": "lines",
         "name": "008",
         "opacity": 0.4,
         "type": "scatter",
         "x": [
          0,
          1000000000000,
          2000000000000,
          3000000000000,
          4000000000000,
          5000000000000,
          6000000000000,
          7000000000000,
          8000000000000,
          9000000000000,
          10000000000000,
          11000000000000,
          12000000000000,
          13000000000000,
          14000000000000,
          15000000000000,
          16000000000000,
          17000000000000,
          18000000000000,
          19000000000000,
          20000000000000,
          21000000000000,
          22000000000000,
          23000000000000,
          24000000000000,
          25000000000000,
          26000000000000,
          27000000000000,
          28000000000000,
          29000000000000,
          30000000000000,
          31000000000000,
          32000000000000,
          33000000000000,
          34000000000000,
          35000000000000,
          36000000000000,
          37000000000000,
          38000000000000,
          39000000000000,
          40000000000000
         ],
         "y": {
          "bdata": "Ei/nF+swnUDsvWCWHAugQBgKZyyf+p9AtjtRPtv2n0AgMRsUB/afQL57LkLJ9Z9A7xhbhbX1n0Bn8+tEs/WfQBW8/1mx9Z9ACimG27D1n0D47OKCsPWfQLGMXWSw9Z9AmM0zRrD1n0AS3roosPWfQB8UdS6w9Z9ARO06NLD1n0CBaQw6sPWfQBA78j+w9Z9APA5ySbD1n0Do5PRSsPWfQBu/elyw9Z9ANu/vZbD1n0CFzlBnsPWfQB3BsWiw9Z9AAscSarD1n0DzCm9rsPWfQPH/zmqw9Z9ABwAvarD1n0AmC49psPWfQOUh7miw9Z9A10nkZ7D1n0B8ddpmsPWfQMmk0GWw9Z9AQqHHZLD1n0B2ahFksPWfQDg1W2Ow9Z9AkwGlYrD1n0DZVvBhsPWfQDl73GGw9Z9ABaDIYbD1n0A8xbRhsPWfQA==",
          "dtype": "f8"
         }
        },
        {
         "line": {
          "color": "rgb(1, 84, 181)"
         },
         "mode": "lines",
         "name": "009",
         "opacity": 0.4,
         "type": "scatter",
         "x": [
          0,
          1000000000000,
          2000000000000,
          3000000000000,
          4000000000000,
          5000000000000,
          6000000000000,
          7000000000000,
          8000000000000,
          9000000000000,
          10000000000000,
          11000000000000,
          12000000000000,
          13000000000000,
          14000000000000,
          15000000000000,
          16000000000000,
          17000000000000,
          18000000000000,
          19000000000000,
          20000000000000,
          21000000000000,
          22000000000000,
          23000000000000,
          24000000000000,
          25000000000000,
          26000000000000,
          27000000000000,
          28000000000000,
          29000000000000,
          30000000000000,
          31000000000000,
          32000000000000,
          33000000000000,
          34000000000000,
          35000000000000,
          36000000000000,
          37000000000000,
          38000000000000,
          39000000000000,
          40000000000000
         ],
         "y": {
          "bdata": "4Za76WLMmECCSbsmwYiaQI23hnr8k5pAGGIj60eOmkDUwJbTOYyaQBnrEWaSi5pAGOLL4HuLmkASqiTGcYuaQIFrvClri5pA5GX/13CLmkA4uL7ud4uaQGihpYR1i5pAEknhrHCLmkBenoF+bYuaQEoo4vRsi5pAYaFE3WyLmkBN4KsVbYuaQC8UXxRti5pAJpwVyWyLmkDtZxf/bIuaQJIwoEhti5pAwk1MlW2LmkARB1OwbYuaQLo3BLBti5pA3FTBr22LmkDGZEeabYuaQOcYMWpti5pAVj0kOm2LmkAK0iAKbYuaQCr5me5si5pAVFm47GyLmkB4mNfqbIuaQJi29+hsi5pADnIJ6GyLmkBSNEnobIuaQF3/iOhsi5pAJNPI6GyLmkBgEe/obIuaQFs69ehsi5pA+mn76GyLmkA/oAHpbIuaQA==",
          "dtype": "f8"
         }
        },
        {
         "line": {
          "color": "rgb(1, 109, 191)"
         },
         "mode": "lines",
         "name": "010",
         "opacity": 0.4,
         "type": "scatter",
         "x": [
          0,
          1000000000000,
          2000000000000,
          3000000000000,
          4000000000000,
          5000000000000,
          6000000000000,
          7000000000000,
          8000000000000,
          9000000000000,
          10000000000000,
          11000000000000,
          12000000000000,
          13000000000000,
          14000000000000,
          15000000000000,
          16000000000000,
          17000000000000,
          18000000000000,
          19000000000000,
          20000000000000,
          21000000000000,
          22000000000000,
          23000000000000,
          24000000000000,
          25000000000000,
          26000000000000,
          27000000000000,
          28000000000000,
          29000000000000,
          30000000000000,
          31000000000000,
          32000000000000,
          33000000000000,
          34000000000000,
          35000000000000,
          36000000000000,
          37000000000000,
          38000000000000,
          39000000000000,
          40000000000000
         ],
         "y": {
          "bdata": "ARVYxmVhk0Ckv10ewWGTQNwEFYhpaJNAjr062XhelECeiOuirkeVQDi78uuVVZVAirf1l4pVlUB3sE78jlWVQBp7T1ujVZVACq+s/LBVlUD+CP/VtlWVQKFXb1q3VZVA4Ym3hLZVlUBW0hGvtVWVQP0wftm0VZVAen0iS7RVlUA7/fsdtFWVQIAb1vCzVZVARtiww7NVlUCQUxuos1WVQEkzgqSzVZVA5xfpoLNVlUBiAVCds1WVQAuf9JyzVZVA75AGobNVlUD3ghils1WVQCF1KqmzVZVA7blHrbNVlUAbdnSxs1WVQFkyobWzVZVAre7NubNVlUBM8L2+s1WVQMStuMSzVZVAU2uzyrNVlUD+KK7Qs1WVQH4sBNezVZVA9dzW3bNVlUCWjanks1WVQFg+fOuzVZVAU2m88rNVlUA1H5L6s1WVQA==",
          "dtype": "f8"
         }
        },
        {
         "line": {
          "color": "rgb(2, 133, 202)"
         },
         "mode": "lines",
         "name": "011",
         "opacity": 0.4,
         "type": "scatter",
         "x": [
          0,
          1000000000000,
          2000000000000,
          3000000000000,
          4000000000000,
          5000000000000,
          6000000000000,
          7000000000000,
          8000000000000,
          9000000000000,
          10000000000000,
          11000000000000,
          12000000000000,
          13000000000000,
          14000000000000,
          15000000000000,
          16000000000000,
          17000000000000,
          18000000000000,
          19000000000000,
          20000000000000,
          21000000000000,
          22000000000000,
          23000000000000,
          24000000000000,
          25000000000000,
          26000000000000,
          27000000000000,
          28000000000000,
          29000000000000,
          30000000000000,
          31000000000000,
          32000000000000,
          33000000000000,
          34000000000000,
          35000000000000,
          36000000000000,
          37000000000000,
          38000000000000,
          39000000000000,
          40000000000000
         ],
         "y": {
          "bdata": "2l85BdeykEBdu+avFbOQQB/1rkYms5BAsPyz/iyzkECcRIHQMLOQQFB14E0zs5BAW88r/zOzkEAup6ewNLOQQMj8U2I1s5BAgAKL1TWzkEBGc2L0NbOQQD3mRRM2s5BAcFs1MjazkECs1+xFNrOQQLnoeUo2s5BAXDMKTzazkECNt51TNrOQQBSWVlY2s5BA5b2MVjazkEDoxcNWNrOQQCKu+1Y2s5BAv7r7VjazkEBMtq9WNrOQQN3uY1Y2s5BAc2QYVjazkEAvLNRVNrOQQLadmVU2s5BA0x9fVTazkECKsiRVNrOQQLGo9FQ2s5BA7JHSVDazkECpf7BUNrOQQOhxjlQ2s5BAywxzVDazkEDrnWBUNrOQQEkwTlQ2s5BA48M7VDazkEB6Cy1UNrOQQBxQI1Q2s5BAGJUZVDazkEBk2g9UNrOQQA==",
          "dtype": "f8"
         }
        },
        {
         "line": {
          "color": "rgb(2, 157, 212)"
         },
         "mode": "lines",
         "name": "012",
         "opacity": 0.4,
         "type": "scatter",
         "x": [
          0,
          1000000000000,
          2000000000000,
          3000000000000,
          4000000000000,
          5000000000000,
          6000000000000,
          7000000000000,
          8000000000000,
          9000000000000,
          10000000000000,
          11000000000000,
          12000000000000,
          13000000000000,
          14000000000000,
          15000000000000,
          16000000000000,
          17000000000000,
          18000000000000,
          19000000000000,
          20000000000000,
          21000000000000,
          22000000000000,
          23000000000000,
          24000000000000,
          25000000000000,
          26000000000000,
          27000000000000,
          28000000000000,
          29000000000000,
          30000000000000,
          31000000000000,
          32000000000000,
          33000000000000,
          34000000000000,
          35000000000000,
          36000000000000,
          37000000000000,
          38000000000000,
          39000000000000,
          40000000000000
         ],
         "y": {
          "bdata": "cMGK1Rkrm0AaocweA6GdQEduqTRhRaBAa3oiOVU+oECSErUyDECgQAszqWuGQaBAsVBNIGpCoED8fGROEEOgQI5ukbaFQ6BALLAYQuVDoED4dJ+VFkSgQJJlVsE8RKBAf9/hWjFEoEBGHxy1OESgQH6/UAkwRKBAKCiuZT5EoECWt/UgSESgQAU4v/NVRKBAQkdiLltEoEDPYlObXkSgQFQ0sdZaRKBAyCHUtVlEoEC5gIiwVkSgQKzZkRtWRKBAjX8ikFVEoEC+yjGMVUSgQKylukdVRKBAr6cUaFREoEAeDaNlU0SgQOsUID5TRKBA41aA3FJEoEDblLMhUkSgQF5B1XxRRKBARDB+PVFEoEDox5D4UESgQBI3KKZQRKBAuoUvYVBEoEAPj6MtUESgQD7xtvtPRKBAfjSByU9EoECY+6WaT0SgQA==",
          "dtype": "f8"
         }
        },
        {
         "line": {
          "color": "rgb(3, 182, 223)"
         },
         "mode": "lines",
         "name": "013",
         "opacity": 0.4,
         "type": "scatter",
         "x": [
          0,
          1000000000000,
          2000000000000,
          3000000000000,
          4000000000000,
          5000000000000,
          6000000000000,
          7000000000000,
          8000000000000,
          9000000000000,
          10000000000000,
          11000000000000,
          12000000000000,
          13000000000000,
          14000000000000,
          15000000000000,
          16000000000000,
          17000000000000,
          18000000000000,
          19000000000000,
          20000000000000,
          21000000000000,
          22000000000000,
          23000000000000,
          24000000000000,
          25000000000000,
          26000000000000,
          27000000000000,
          28000000000000,
          29000000000000,
          30000000000000,
          31000000000000,
          32000000000000,
          33000000000000,
          34000000000000,
          35000000000000,
          36000000000000,
          37000000000000,
          38000000000000,
          39000000000000,
          40000000000000
         ],
         "y": {
          "bdata": "0g84dIFKkECOiOT5vEqQQAuRBb7MSpBA7PWnbNNKkEAVj1Db1kqQQNdzbXbZSpBAcj/uGNpKkEBKv3a72kqQQFnzBl7bSpBAoSdn2dtKkED2g3T320qQQCh1ghXcSpBANvuQM9xKkEDADVxK3EqQQECY3E/cSpBAwTFdVdxKkEA+2t1a3EqQQIggCF/cSpBA8W4DYNxKkEASv/5g3EqQQO0Q+mHcSpBAsKa3YtxKkEBCTOJi3EqQQAnyDGPcSpBABZg3Y9xKkEA5hldj3EqQQPjxXWPcSpBAvV1kY9xKkECNyWpj3EqQQEqAb2PcSpBAySZwY9xKkEBLzXBj3EqQQMxzcWPcSpBAleNxY9xKkEAc0XFj3EqQQKS+cWPcSpBAKKxxY9xKkED8mHFj3EqQQB6EcWPcSpBAPW9xY9xKkEBgWnFj3EqQQA==",
          "dtype": "f8"
         }
        },
        {
         "line": {
          "color": "rgb(4, 206, 234)"
         },
         "mode": "lines",
         "name": "014",
         "opacity": 0.4,
         "type": "scatter",
         "x": [
          0,
          1000000000000,
          2000000000000,
          3000000000000,
          4000000000000,
          5000000000000,
          6000000000000,
          7000000000000,
          8000000000000,
          9000000000000,
          10000000000000,
          11000000000000,
          12000000000000,
          13000000000000,
          14000000000000,
          15000000000000,
          16000000000000,
          17000000000000,
          18000000000000,
          19000000000000,
          20000000000000,
          21000000000000,
          22000000000000,
          23000000000000,
          24000000000000,
          25000000000000,
          26000000000000,
          27000000000000,
          28000000000000,
          29000000000000,
          30000000000000,
          31000000000000,
          32000000000000,
          33000000000000,
          34000000000000,
          35000000000000,
          36000000000000,
          37000000000000,
          38000000000000,
          39000000000000,
          40000000000000
         ],
         "y": {
          "bdata": "ZPvky2rajkA/3di81tqOQFAbhQHz2o5AQhXzmv3ajkDgJNqxBNuOQMKVbxcI245AMtc8aAnbjkCR/RO5CtuOQN4I9QkM245A+j2SqwzbjkCP5nbqDNuOQDDoWykN245A40JBaA3bjkBi8XCGDduOQMSLNJIN245AUCn4nQ3bjkD9ybupDduOQLw2Ya8N245AKpGUsQ3bjkC268ezDduOQFxG+7UN245ApKsJtw3bjkA7E3O3DduOQNR63LcN245AbeJFuA3bjkDheXi4DduOQJkyjLgN245AVuufuA3bjkANpLO4DduOQEobvbgN245A48vAuA3bjkB8fMS4DduOQBMtyLgN245Ac/LJuA3bjkAmo8q4DduOQNxTy7gN245AlgTMuA3bjkBiWcy4DduOQHF6zLgN245Af5vMuA3bjkCLvMy4DduOQA==",
          "dtype": "f8"
         }
        },
        {
         "line": {
          "color": "rgb(4, 231, 244)"
         },
         "mode": "lines",
         "name": "015",
         "opacity": 0.4,
         "type": "scatter",
         "x": [
          0,
          1000000000000,
          2000000000000,
          3000000000000,
          4000000000000,
          5000000000000,
          6000000000000,
          7000000000000,
          8000000000000,
          9000000000000,
          10000000000000,
          11000000000000,
          12000000000000,
          13000000000000,
          14000000000000,
          15000000000000,
          16000000000000,
          17000000000000,
          18000000000000,
          19000000000000,
          20000000000000,
          21000000000000,
          22000000000000,
          23000000000000,
          24000000000000,
          25000000000000,
          26000000000000,
          27000000000000,
          28000000000000,
          29000000000000,
          30000000000000,
          31000000000000,
          32000000000000,
          33000000000000,
          34000000000000,
          35000000000000,
          36000000000000,
          37000000000000,
          38000000000000,
          39000000000000,
          40000000000000
         ],
         "y": {
          "bdata": "2KkfQW8onEDsGDYvnoaeQHVXIqlUY55ATLOVMrVcnkCy/WAu7VueQP8VbAqKW55AEe4uQFtbnkCzxe3TSFueQOFSqQRAW55AQHwnsUJbnkAXXgNyRVueQJwNzVBGW55AcL0BnEVbnkC3ZUQxRVueQMH5Xd5EW55A/O5cnERbnkDduLhgRFueQHxU7UxEW55AM30bSERbnkBFilJDRFueQLF7kj5EW55AoKEERURbnkCwOAdQRFueQLbqFVtEW55AsbcwZkRbnkASmjZtRFueQFJEk3JEW55A/xLxd0RbnkAYBlB9RFueQODd2n9EW55A+E1AgURbnkCEzaWCRFueQIBcC4REW55AVvCQg0RbnkCWP1SCRFueQA+kF4FEW55Avx3bf0RbnkAAbj5+RFueQFzdenxEW55AI2O3ekRbnkBM//N4RFueQA==",
          "dtype": "f8"
         }
        },
        {
         "line": {
          "color": "rgb(5, 255, 255)"
         },
         "mode": "lines",
         "name": "016",
         "opacity": 0.4,
         "type": "scatter",
         "x": [
          0,
          1000000000000,
          2000000000000,
          3000000000000,
          4000000000000,
          5000000000000,
          6000000000000,
          7000000000000,
          8000000000000,
          9000000000000,
          10000000000000,
          11000000000000,
          12000000000000,
          13000000000000,
          14000000000000,
          15000000000000,
          16000000000000,
          17000000000000,
          18000000000000,
          19000000000000,
          20000000000000,
          21000000000000,
          22000000000000,
          23000000000000,
          24000000000000,
          25000000000000,
          26000000000000,
          27000000000000,
          28000000000000,
          29000000000000,
          30000000000000,
          31000000000000,
          32000000000000,
          33000000000000,
          34000000000000,
          35000000000000,
          36000000000000,
          37000000000000,
          38000000000000,
          39000000000000,
          40000000000000
         ],
         "y": {
          "bdata": "X7ILa3NGj0DlnG1S7EaPQE8K7sILR49A7bsuwRNHj0AuYm40F0ePQLNBRXoYR49AztYWqBlHj0AgSSTlGUePQE4PMiIaR49AYSlAXxpHj0Bzq8yXGkePQObIO6MaR49AUOmqrhpHj0C1DBq6GkePQEQYscQaR49AfCnVxhpHj0DIOvnIGkePQDBMHcsaR49A/+YYzRpHj0AGgn/NGkePQAYd5s0aR49ABbhMzhpHj0Cqv6vOGkePQCH0vs4aR49AlijSzhpHj0AOXeXOGkePQIMm984aR49Anb76zhpHj0C2Vv7OGkePQNTuAc8aR49A/EIFzxpHj0Am7wXPGkePQEybBs8aR49AdEcHzxpHj0Dn5gfPGkePQBUHCM8aR49AUCcIzxpHj0CCRwjPGkePQFdlCM8aR49AWGsIzxpHj0BecQjPGkePQA==",
          "dtype": "f8"
         }
        },
        {
         "line": {
          "color": "rgb(36, 255, 223)"
         },
         "mode": "lines",
         "name": "017",
         "opacity": 0.4,
         "type": "scatter",
         "x": [
          0,
          1000000000000,
          2000000000000,
          3000000000000,
          4000000000000,
          5000000000000,
          6000000000000,
          7000000000000,
          8000000000000,
          9000000000000,
          10000000000000,
          11000000000000,
          12000000000000,
          13000000000000,
          14000000000000,
          15000000000000,
          16000000000000,
          17000000000000,
          18000000000000,
          19000000000000,
          20000000000000,
          21000000000000,
          22000000000000,
          23000000000000,
          24000000000000,
          25000000000000,
          26000000000000,
          27000000000000,
          28000000000000,
          29000000000000,
          30000000000000,
          31000000000000,
          32000000000000,
          33000000000000,
          34000000000000,
          35000000000000,
          36000000000000,
          37000000000000,
          38000000000000,
          39000000000000,
          40000000000000
         ],
         "y": {
          "bdata": "Ct9PJoL2l0Dv2MhVLKOYQP402baFkZpADBfHhOVanECf9J603FScQIkad9mKVJxApCt848FUnEA2UwMg1FScQIGmPZfWVJxAJA8sYNVUnEAcgD1M1FScQGLsFQ7UVJxAtZX309NUnEC0tt+901ScQLViyafTVJxAtZm0kdNUnECC/eR/01ScQP1VVH3TVJxAY7/DetNUnEC2OTN401ScQCcRMnbTVJxAYDAxdtNUnEAjUDB201ScQGtwL3bTVJxASOccdtNUnECcOct101ScQACMeXXTVJxAdd4nddNUnEAexeZ001ScQHzv4HTTVJxA2BnbdNNUnEA3RNV001ScQMBqz3TTVJxAn4PJdNNUnEB9nMN001ScQFm1vXTTVJxAngO5dNNUnEDro7h001ScQDdEuHTTVJxAhuS3dNNUnEAVkbd001ScQA==",
          "dtype": "f8"
         }
        },
        {
         "line": {
          "color": "rgb(67, 255, 191)"
         },
         "mode": "lines",
         "name": "018",
         "opacity": 0.4,
         "type": "scatter",
         "x": [
          0,
          1000000000000,
          2000000000000,
          3000000000000,
          4000000000000,
          5000000000000,
          6000000000000,
          7000000000000,
          8000000000000,
          9000000000000,
          10000000000000,
          11000000000000,
          12000000000000,
          13000000000000,
          14000000000000,
          15000000000000,
          16000000000000,
          17000000000000,
          18000000000000,
          19000000000000,
          20000000000000,
          21000000000000,
          22000000000000,
          23000000000000,
          24000000000000,
          25000000000000,
          26000000000000,
          27000000000000,
          28000000000000,
          29000000000000,
          30000000000000,
          31000000000000,
          32000000000000,
          33000000000000,
          34000000000000,
          35000000000000,
          36000000000000,
          37000000000000,
          38000000000000,
          39000000000000,
          40000000000000
         ],
         "y": {
          "bdata": "VUVbHO8ylECp3FntcjOUQL5PI9z0cJRAuR7mhnYGlkALkbPojYyWQMtiMmbLjpZA6NvIIoaOlkB4D6DTqI6WQJhiz8LAjpZANpZjaseOlkDaba7kyY6WQMmsZ3rKjpZA5DfjgsqOlkBlCUWKyo6WQINswYnKjpZAAU4+icqOlkDZrbuIyo6WQPJ2xYjKjpZAahShjMqOlkCOuHyQyo6WQGFjWJTKjpZADka5mMqOlkDAx7ygyo6WQMpJwKjKjpZAKMzDsMqOlkBSsbO4yo6WQKWJGsDKjpZAK2KBx8qOlkDtOujOyo6WQPy6gdbKjpZAzSN938qOlkDSjHjoyo6WQAf2c/HKjpZAGLhn+sqOlkBbACYDy46WQNBI5AvLjpZAd5GiFMuOlkAp5Xgdy46WQJY09ybLjpZAQ4R1MMuOlkAm1PM5y46WQA==",
          "dtype": "f8"
         }
        },
        {
         "line": {
          "color": "rgb(99, 255, 159)"
         },
         "mode": "lines",
         "name": "019",
         "opacity": 0.4,
         "type": "scatter",
         "x": [
          0,
          1000000000000,
          2000000000000,
          3000000000000,
          4000000000000,
          5000000000000,
          6000000000000,
          7000000000000,
          8000000000000,
          9000000000000,
          10000000000000,
          11000000000000,
          12000000000000,
          13000000000000,
          14000000000000,
          15000000000000,
          16000000000000,
          17000000000000,
          18000000000000,
          19000000000000,
          20000000000000,
          21000000000000,
          22000000000000,
          23000000000000,
          24000000000000,
          25000000000000,
          26000000000000,
          27000000000000,
          28000000000000,
          29000000000000,
          30000000000000,
          31000000000000,
          32000000000000,
          33000000000000,
          34000000000000,
          35000000000000,
          36000000000000,
          37000000000000,
          38000000000000,
          39000000000000,
          40000000000000
         ],
         "y": {
          "bdata": "dse2wFcOlEAhA/DGsQ6UQGG3sTYsD5RAOEOL9YQylEA4GUoIn02VQBeyQ7unq5VASS2Wtz+xlUA9OPoRkLGVQLRtV0PQsZVA3lqQA/qxlUDX0QfuDbKVQB+co8MRspVAevBZXhCylUD7hbjtDrKVQLZ+qpQNspVAKhkW8QyylUAe8psRDLKVQK4qq6cLspVAj7IfCAuylUDy/Il9CrKVQCsWZ0cKspVAAIf+JAqylUCzFmgGCrKVQEvt4e8JspVACKQl4QmylUD6MMDZCbKVQKtvH+sJspVAD1Te/QmylUDbPKgQCrKVQAgqfSMKspVAqiXcJwqylUCCc1ErCrKVQDQryS4KspVAwUxDMgqylUDAcI4zCrKVQBRntjQKspVAmt3eNQqylUBU1Ac3CrKVQI/tjjcKspVAYc0LOAqylUCXxog4CrKVQA==",
          "dtype": "f8"
         }
        },
        {
         "line": {
          "color": "rgb(130, 255, 128)"
         },
         "mode": "lines",
         "name": "020",
         "opacity": 0.4,
         "type": "scatter",
         "x": [
          0,
          1000000000000,
          2000000000000,
          3000000000000,
          4000000000000,
          5000000000000,
          6000000000000,
          7000000000000,
          8000000000000,
          9000000000000,
          10000000000000,
          11000000000000,
          12000000000000,
          13000000000000,
          14000000000000,
          15000000000000,
          16000000000000,
          17000000000000,
          18000000000000,
          19000000000000,
          20000000000000,
          21000000000000,
          22000000000000,
          23000000000000,
          24000000000000,
          25000000000000,
          26000000000000,
          27000000000000,
          28000000000000,
          29000000000000,
          30000000000000,
          31000000000000,
          32000000000000,
          33000000000000,
          34000000000000,
          35000000000000,
          36000000000000,
          37000000000000,
          38000000000000,
          39000000000000,
          40000000000000
         ],
         "y": {
          "bdata": "4JdzxaXslUCQkQdgUZOWQMUs6nkKNJhACheRbbQkmEBb4K/YzSOYQJzBymadI5hA/KPZBZAjmEAo++xXkCOYQDfz/2yRI5hA+rfkG5QjmEDs4/92lSOYQN5FCBqPI5hArhWtKJYjmEDn5We2dCOYQKZTNfSKI5hAUlVNdlgjmED6d2uF8iKYQD4AOFHBIphAvh028u4gmECgBs6zAR2YQF/QOm8BEZhAHr/tFsgQmkDSXs0egRaaQPiDg0stFJpARyeXF8QTmkAv204X0xOaQANJmibkE5pA0vTXZOsTmkCw4AK96xOaQNxvx0jrE5pAulfaI+sTmkCT2fP+6hOaQJ3wfOfqE5pAm1Xv4uoTmkDdJGLe6hOaQFpe1dnqE5pAx7uP1+oTmkDmon/Y6hOaQKSPb9nqE5pA94Ff2uoTmkAM7wbb6hOaQA==",
          "dtype": "f8"
         }
        },
        {
         "line": {
          "color": "rgb(161, 255, 96)"
         },
         "mode": "lines",
         "name": "021",
         "opacity": 0.4,
         "type": "scatter",
         "x": [
          0,
          1000000000000,
          2000000000000,
          3000000000000,
          4000000000000,
          5000000000000,
          6000000000000,
          7000000000000,
          8000000000000,
          9000000000000,
          10000000000000,
          11000000000000,
          12000000000000,
          13000000000000,
          14000000000000,
          15000000000000,
          16000000000000,
          17000000000000,
          18000000000000,
          19000000000000,
          20000000000000,
          21000000000000,
          22000000000000,
          23000000000000,
          24000000000000,
          25000000000000,
          26000000000000,
          27000000000000,
          28000000000000,
          29000000000000,
          30000000000000,
          31000000000000,
          32000000000000,
          33000000000000,
          34000000000000,
          35000000000000,
          36000000000000,
          37000000000000,
          38000000000000,
          39000000000000,
          40000000000000
         ],
         "y": {
          "bdata": "2urN5nlXlUAVVPd/4FiVQOs0OQ7abZZAKp0bSpqUlkBbsOF2zI+WQNiq3X84j5ZA4NeBvgePlkARgn0UBI+WQLToABYPj5ZA/vrecx+PlkCKOJ7QMY+WQI7LLUhHj5ZA0qCm/1uPlkATK/YGbY+WQIe0zHx3j5ZAXXXBUZyPlkBdgT7Wxo+WQG3YRU2cj5ZAov5hEm+OlkBS2/UNJIuWQMXgrHtNWZdAByAhK/K+l0BitZwugL6XQDLxJZBLvpdAR1RwC0i+l0DzNPfhSb6XQAVPYKJLvpdAMnyKB02+l0Dc2MrkTb6XQOEfyDhOvpdAZsDqjE6+l0BwujLhTr6XQGLShhNPvpdAcaz1I0++l0Bcb2Y0T76XQBob2URPvpdAC9KlTk++l0DuRNNRT76XQOrQAFVPvpdAAnYuWE++l0DpFPRZT76XQA==",
          "dtype": "f8"
         }
        },
        {
         "line": {
          "color": "rgb(192, 255, 64)"
         },
         "mode": "lines",
         "name": "022",
         "opacity": 0.4,
         "type": "scatter",
         "x": [
          0,
          1000000000000,
          2000000000000,
          3000000000000,
          4000000000000,
          5000000000000,
          6000000000000,
          7000000000000,
          8000000000000,
          9000000000000,
          10000000000000,
          11000000000000,
          12000000000000,
          13000000000000,
          14000000000000,
          15000000000000,
          16000000000000,
          17000000000000,
          18000000000000,
          19000000000000,
          20000000000000,
          21000000000000,
          22000000000000,
          23000000000000,
          24000000000000,
          25000000000000,
          26000000000000,
          27000000000000,
          28000000000000,
          29000000000000,
          30000000000000,
          31000000000000,
          32000000000000,
          33000000000000,
          34000000000000,
          35000000000000,
          36000000000000,
          37000000000000,
          38000000000000,
          39000000000000,
          40000000000000
         ],
         "y": {
          "bdata": "0O19wDqImEAgHrLR5ZiZQPBvpQ8uMJpAfgZ1aAEomkA67XEj/ieaQLkkAzk8JppAaIJSH70kmkDAzjg7ySSaQBSTKnHcJJpAKiFnf7AkmkCOd4JytiSaQIa5SyjGJJpAzIQsR8MkmkAzEb86sCSaQHJ7Um6kJJpA3GrIBaMkmkD/lD6QoySaQMhkX0ikJJpAppNABqgkmkCnzLiyqiSaQHZu0durJJpAHr4kd6okmkBkpZcYqSSaQDbiy2eoJJpAURyv/qckmkAlEC63pySaQN32SbGnJJpAmIKsq6ckmkAoZierpySaQG5Hl6unJJpAY3AsrKckmkAD4easpySaQKsxTrKnJJpAbAp/uKckmkCdNra+pySaQDq288SnJJpAj7I1yKckmkAXQvjKpySaQBYXu82nJJpAizF+0KckmkBRYTXQpySaQA==",
          "dtype": "f8"
         }
        },
        {
         "line": {
          "color": "rgb(224, 255, 32)"
         },
         "mode": "lines",
         "name": "023",
         "opacity": 0.4,
         "type": "scatter",
         "x": [
          0,
          1000000000000,
          2000000000000,
          3000000000000,
          4000000000000,
          5000000000000,
          6000000000000,
          7000000000000,
          8000000000000,
          9000000000000,
          10000000000000,
          11000000000000,
          12000000000000,
          13000000000000,
          14000000000000,
          15000000000000,
          16000000000000,
          17000000000000,
          18000000000000,
          19000000000000,
          20000000000000,
          21000000000000,
          22000000000000,
          23000000000000,
          24000000000000,
          25000000000000,
          26000000000000,
          27000000000000,
          28000000000000,
          29000000000000,
          30000000000000,
          31000000000000,
          32000000000000,
          33000000000000,
          34000000000000,
          35000000000000,
          36000000000000,
          37000000000000,
          38000000000000,
          39000000000000,
          40000000000000
         ],
         "y": {
          "bdata": "OfP7CxWbj0DBX+T1hZuPQBf6G8mjm49AyD6pw6+bj0CSd1W5tpuPQPBt3ie7m49AMs1Sbrybj0BhYuO0vZuPQIAtkPu+m49Ay6tLy7+bj0CGNqcGwJuPQDo3BkLAm49A661ofcCbj0Dm2QOjwJuPQHu0da3Am49A8RXot8Cbj0BA/lrCwJuPQCLw58jAm49AFVeYysCbj0Db00jMwJuPQGBm+c3Am49Au74Az8Cbj0CyDTXPwJuPQDtgac/Am49ATradz8Cbj0Af/rnPwJuPQNJFuM/Am49AHI62z8Cbj0D31rTPwJuPQCqssc/Am49AjbGsz8Cbj0AKt6fPwJuPQJi8os/Am49Ahriez8Cbj0Bq55vPwJuPQFIWmc/Am49AR0WWz8Cbj0AsIpTPwJuPQOvXks/Am49ArI2Rz8Cbj0BuQ5DPwJuPQA==",
          "dtype": "f8"
         }
        },
        {
         "line": {
          "color": "rgb(255, 255, 0)"
         },
         "mode": "lines",
         "name": "024",
         "opacity": 0.4,
         "type": "scatter",
         "x": [
          0,
          1000000000000,
          2000000000000,
          3000000000000,
          4000000000000,
          5000000000000,
          6000000000000,
          7000000000000,
          8000000000000,
          9000000000000,
          10000000000000,
          11000000000000,
          12000000000000,
          13000000000000,
          14000000000000,
          15000000000000,
          16000000000000,
          17000000000000,
          18000000000000,
          19000000000000,
          20000000000000,
          21000000000000,
          22000000000000,
          23000000000000,
          24000000000000,
          25000000000000,
          26000000000000,
          27000000000000,
          28000000000000,
          29000000000000,
          30000000000000,
          31000000000000,
          32000000000000,
          33000000000000,
          34000000000000,
          35000000000000,
          36000000000000,
          37000000000000,
          38000000000000,
          39000000000000,
          40000000000000
         ],
         "y": {
          "bdata": "WjqGpmumokCIvnd7W1mmQCdnvPLGUKZA2G8W4MpRpkC2Dd+5Y1KmQP4TKNWUUqZAjR1ro6BSpkDmKiH7olKmQG5ueJSjUqZA6ikOuqNSpkAccRO9o1KmQG8RCrejUqZAL3sIsaNSpkCw5o+qo1KmQGaTgZyjUqZAcgV8jqNSpkDMPH+Ao1KmQPgsFXOjUqZAMjv5baNSpkAjg91oo1KmQM8EwmOjUqZAj/DxXqNSpkAdfKZeo1KmQBYLW16jUqZAep0PXqNSpkC1NOFdo1KmQCoDcV+jUqZAzu8AYaNSpkCf+pBio1KmQPXeJGSjUqZArkDyZaNSpkC3sr9no1KmQBQ1jWmjUqZAqEREa6NSpkBgGaFro1KmQG7y/WujUqZAzc9abKNSpkA2Y69so1KmQLw3hGyjUqZA0AxZbKNSpkBt4i1so1KmQA==",
          "dtype": "f8"
         }
        },
        {
         "line": {
          "color": "rgb(254, 223, 0)"
         },
         "mode": "lines",
         "name": "025",
         "opacity": 0.4,
         "type": "scatter",
         "x": [
          0,
          1000000000000,
          2000000000000,
          3000000000000,
          4000000000000,
          5000000000000,
          6000000000000,
          7000000000000,
          8000000000000,
          9000000000000,
          10000000000000,
          11000000000000,
          12000000000000,
          13000000000000,
          14000000000000,
          15000000000000,
          16000000000000,
          17000000000000,
          18000000000000,
          19000000000000,
          20000000000000,
          21000000000000,
          22000000000000,
          23000000000000,
          24000000000000,
          25000000000000,
          26000000000000,
          27000000000000,
          28000000000000,
          29000000000000,
          30000000000000,
          31000000000000,
          32000000000000,
          33000000000000,
          34000000000000,
          35000000000000,
          36000000000000,
          37000000000000,
          38000000000000,
          39000000000000,
          40000000000000
         ],
         "y": {
          "bdata": "8x7wRJx2kEBXnWUF2naQQEFMJwjqdpBAqk6mLPB2kEAITjEK9HaQQG/MKwD2dpBAmIfOt/Z2kECex3lv93aQQICMLSf4dpBA2v1ahPh2kEAZhHem+HaQQAualMj4dpBArD+y6vh2kEBeWfn7+HaQQOpMRAL5dpBAFE2PCPl2kEDeWdoO+XaQQIO8BxL5dpBAqcEsE/l2kEAeyFEU+XaQQN3PdhX5dpBAIrEJFvl2kEAIOz0W+XaQQBPFcBb5dpBAQ0+kFvl2kED30L0W+XaQQBxXxhb5dpBARd3OFvl2kEB0Y9cW+XaQQNx82xb5dpBATbPcFvl2kEC+6d0W+XaQQDAg3xb5dpBAyqnfFvl2kECqwt8W+XaQQIjb3xb5dpBAZvTfFvl2kEA9+t8W+XaQQKnz3xb5dpBAGO3fFvl2kECF5t8W+XaQQA==",
          "dtype": "f8"
         }
        },
        {
         "line": {
          "color": "rgb(254, 191, 0)"
         },
         "mode": "lines",
         "name": "026",
         "opacity": 0.4,
         "type": "scatter",
         "x": [
          0,
          1000000000000,
          2000000000000,
          3000000000000,
          4000000000000,
          5000000000000,
          6000000000000,
          7000000000000,
          8000000000000,
          9000000000000,
          10000000000000,
          11000000000000,
          12000000000000,
          13000000000000,
          14000000000000,
          15000000000000,
          16000000000000,
          17000000000000,
          18000000000000,
          19000000000000,
          20000000000000,
          21000000000000,
          22000000000000,
          23000000000000,
          24000000000000,
          25000000000000,
          26000000000000,
          27000000000000,
          28000000000000,
          29000000000000,
          30000000000000,
          31000000000000,
          32000000000000,
          33000000000000,
          34000000000000,
          35000000000000,
          36000000000000,
          37000000000000,
          38000000000000,
          39000000000000,
          40000000000000
         ],
         "y": {
          "bdata": "ZAU/SAi4lkDM6dSU8EaXQOQ9sRVIwphAxNgNAo21mEAtYSzcY7WYQFgfCFFVtZhAYhQQY0u1mEC8TQ4xSbWYQCQ1rklJtZhAuykCyki1mEBAuRZQSLWYQGzLa1pHtZhAbswdh0e1mEBCW2QjSLWYQI4lRhZHtZhAjuAU2ka1mEBAjNBuR7WYQNcDijRItZhAMntYU0e1mEDGFS4IR7WYQIzTClNHtZhAKxa8xEe1mEA9pvUUR7WYQGff8dFGtZhAqcGw+0a1mEAGRmJmR7WYQHAD0FVHtZhAXT53Oke1mECMW0IMR7WYQD7wHNRGtZhAS/W6zka1mEB5luXERrWYQA45Xq9GtZhAoteVkUa1mEBoPtCPRrWYQHZVcYZGtZhA3IiRb0a1mEBsYT1QRrWYQPpTjE9GtZhAPpa2Ska1mEDwdE49RrWYQA==",
          "dtype": "f8"
         }
        },
        {
         "line": {
          "color": "rgb(253, 159, 0)"
         },
         "mode": "lines",
         "name": "027",
         "opacity": 0.4,
         "type": "scatter",
         "x": [
          0,
          1000000000000,
          2000000000000,
          3000000000000,
          4000000000000,
          5000000000000,
          6000000000000,
          7000000000000,
          8000000000000,
          9000000000000,
          10000000000000,
          11000000000000,
          12000000000000,
          13000000000000,
          14000000000000,
          15000000000000,
          16000000000000,
          17000000000000,
          18000000000000,
          19000000000000,
          20000000000000,
          21000000000000,
          22000000000000,
          23000000000000,
          24000000000000,
          25000000000000,
          26000000000000,
          27000000000000,
          28000000000000,
          29000000000000,
          30000000000000,
          31000000000000,
          32000000000000,
          33000000000000,
          34000000000000,
          35000000000000,
          36000000000000,
          37000000000000,
          38000000000000,
          39000000000000,
          40000000000000
         ],
         "y": {
          "bdata": "5FfNKZmkn0DXmkCekfuhQFZb/nda+KFAOvvcssj6oUAnfqVbwPuhQFPc/n0V/KFAlDLVJTL8oUB+GjMBO/yhQKh7lOA8/KFAIDKaXD38oUBvezQ4PfyhQJ74zxM9/KFAut8hBT38oUBC1tn/PPyhQLNtk/o8/KFADKZO9Tz8oUAffb7zPPyhQL6+yPM8/KFAuIDT8zz8oUALw97zPPyhQHwqw/M8/KFAPp+W8zz8oUCNFWrzPPyhQGeNPfM8/KFASJ4K8zz8oUB269TyPPyhQN06n/I8/KFAgoxp8jz8oUA9WzjyPPyhQCIdCfI8/KFAHeLZ8Tz8oUAtqqrxPPyhQBu5kPE8/KFAB/1/8Tz8oUA/Qm/xPPyhQL+IXvE8/KFAE5Vc8Tz8oUB4BWHxPPyhQP91ZfE8/KFArOZp8Tz8oUCAGnXxPPyhQA==",
          "dtype": "f8"
         }
        },
        {
         "line": {
          "color": "rgb(252, 128, 0)"
         },
         "mode": "lines",
         "name": "028",
         "opacity": 0.4,
         "type": "scatter",
         "x": [
          0,
          1000000000000,
          2000000000000,
          3000000000000,
          4000000000000,
          5000000000000,
          6000000000000,
          7000000000000,
          8000000000000,
          9000000000000,
          10000000000000,
          11000000000000,
          12000000000000,
          13000000000000,
          14000000000000,
          15000000000000,
          16000000000000,
          17000000000000,
          18000000000000,
          19000000000000,
          20000000000000,
          21000000000000,
          22000000000000,
          23000000000000,
          24000000000000,
          25000000000000,
          26000000000000,
          27000000000000,
          28000000000000,
          29000000000000,
          30000000000000,
          31000000000000,
          32000000000000,
          33000000000000,
          34000000000000,
          35000000000000,
          36000000000000,
          37000000000000,
          38000000000000,
          39000000000000,
          40000000000000
         ],
         "y": {
          "bdata": "8UXsO7Y6oECpcGWbp9+lQIfq6+zS1KVA0QL6/jfYpUBHXmJkX9mlQGZrbbCv2aVAJl4xOcbZpUBj6vyly9mlQFQYYbnM2aVAhKxHhc/ZpUDxsrWZyNmlQEaln3jJ2aVAMmKy37/ZpUD2BzLOvtmlQP4nrmG62aVA/NMrRLjZpUAyekiwtdmlQPkGeTK02aVAaSnlt7PZpUCryxIQs9mlQDvvuzWy2aVATuell7HZpUDps9A1sdmlQL7Evb+w2aVALMF7WLDZpUBWmhEssNmlQDZQfzqw2aVAjri3BLDZpUAYSi2yr9mlQNao8ISv2aVAyNQBfa/ZpUBOX/1qr9mlQObf+lSv2aVA+HPCUa/ZpUCDG1Rhr9mlQMJS0Xyv2aVAfccWmq/ZpUBKsEW2r9mlQNiyDc6v2aVAbVDU1q/ZpUAF/5zOr9mlQA==",
          "dtype": "f8"
         }
        },
        {
         "line": {
          "color": "rgb(252, 96, 0)"
         },
         "mode": "lines",
         "name": "029",
         "opacity": 0.4,
         "type": "scatter",
         "x": [
          0,
          1000000000000,
          2000000000000,
          3000000000000,
          4000000000000,
          5000000000000,
          6000000000000,
          7000000000000,
          8000000000000,
          9000000000000,
          10000000000000,
          11000000000000,
          12000000000000,
          13000000000000,
          14000000000000,
          15000000000000,
          16000000000000,
          17000000000000,
          18000000000000,
          19000000000000,
          20000000000000,
          21000000000000,
          22000000000000,
          23000000000000,
          24000000000000,
          25000000000000,
          26000000000000,
          27000000000000,
          28000000000000,
          29000000000000,
          30000000000000,
          31000000000000,
          32000000000000,
          33000000000000,
          34000000000000,
          35000000000000,
          36000000000000,
          37000000000000,
          38000000000000,
          39000000000000,
          40000000000000
         ],
         "y": {
          "bdata": "rJyFMd/knUCv7YATvaSgQOFgiFh3n6BAzFW47CGdoEDgkYIIs5ygQLYZ14SdnKBAFMFGcaGcoEDMfaWSn5ygQPrdVTednKBATJieA52coEBmSinenJygQKxA1cecnKBA7lRLyJycoEA75mbKnJygQP8Y68ycnKBATJNkzJycoEDNouXLnJygQIJHbsucnKBAc2f6ypycoECscILKnJygQOHfEsqcnKBAELWryZycoEACvGXJnJygQOHebMmcnKBADIR0yZycoEB8q3zJnJygQMlQjsmcnKBA6N+6yZycoEBsgOfJnJygQFIyFMqcnKBAJmMvypycoEChbRbKnJygQDp//cmcnKBA95fkyZycoEBs38vJnJygQHyls8mcnKBAp3WbyZycoEDsT4PJnJygQLWjacmcnKBAqlZLyZycoECKCy3JnJygQA==",
          "dtype": "f8"
         }
        },
        {
         "line": {
          "color": "rgb(251, 64, 0)"
         },
         "mode": "lines",
         "name": "030",
         "opacity": 0.4,
         "type": "scatter",
         "x": [
          0,
          1000000000000,
          2000000000000,
          3000000000000,
          4000000000000,
          5000000000000,
          6000000000000,
          7000000000000,
          8000000000000,
          9000000000000,
          10000000000000,
          11000000000000,
          12000000000000,
          13000000000000,
          14000000000000,
          15000000000000,
          16000000000000,
          17000000000000,
          18000000000000,
          19000000000000,
          20000000000000,
          21000000000000,
          22000000000000,
          23000000000000,
          24000000000000,
          25000000000000,
          26000000000000,
          27000000000000,
          28000000000000,
          29000000000000,
          30000000000000,
          31000000000000,
          32000000000000,
          33000000000000,
          34000000000000,
          35000000000000,
          36000000000000,
          37000000000000,
          38000000000000,
          39000000000000,
          40000000000000
         ],
         "y": {
          "bdata": "kGEYYOwvkkCc7rOHNjCSQJN44KNJMJJA6h+DvlowkkBm9aXklDCSQEHArg2/MZJA1KxK1ic2kkCVaOd1hkSSQJ4Z2u1/ZZJAOY25UPqOkkAJtjhilaqSQHzOhf+TtZJAkeklX9S4kkAEQp1fvrmSQKGjSakXupJA6zuIRCK6kkCJazWKJbqSQMY8OmAoupJAigazMSm6kkAicuHIKbqSQPL/EWAqupJA+69E9yq6kkARibQhK7qSQEqa3j8rupJAYsIIXiu6kkBbATN8K7qSQNvqS4MrupJA/nrKhyu6kkD+C0mMK7qSQNadx5ArupJAHPpMkyu6kkCjVJmVK7qSQDev5ZcrupJA2wkymiu6kkD0FOWaK7qSQHjwaZsrupJA/cvumyu6kkCCp3OcK7qSQFcBqZwrupJAhWLVnCu6kkCuwwGdK7qSQA==",
          "dtype": "f8"
         }
        },
        {
         "line": {
          "color": "rgb(251, 32, 0)"
         },
         "mode": "lines",
         "name": "031",
         "opacity": 0.4,
         "type": "scatter",
         "x": [
          0,
          1000000000000,
          2000000000000,
          3000000000000,
          4000000000000,
          5000000000000,
          6000000000000,
          7000000000000,
          8000000000000,
          9000000000000,
          10000000000000,
          11000000000000,
          12000000000000,
          13000000000000,
          14000000000000,
          15000000000000,
          16000000000000,
          17000000000000,
          18000000000000,
          19000000000000,
          20000000000000,
          21000000000000,
          22000000000000,
          23000000000000,
          24000000000000,
          25000000000000,
          26000000000000,
          27000000000000,
          28000000000000,
          29000000000000,
          30000000000000,
          31000000000000,
          32000000000000,
          33000000000000,
          34000000000000,
          35000000000000,
          36000000000000,
          37000000000000,
          38000000000000,
          39000000000000,
          40000000000000
         ],
         "y": {
          "bdata": "YoJGyCBfkEDHEyhbXV+QQCfQE0FtX5BAF0vjkHNfkEBY16tNd1+QQFzdXYd5X5BAaj3iOHpfkEDD2W3qel+QQGWyAJx7X5BAcoa9BXxfkED//cImfF+QQETgyEd8X5BAQC3PaHxfkECqC3Z8fF+QQLc0lIJ8X5BA1WWyiHxfkEABn9COfF+QQOvscpJ8X5BAIK2Rk3xfkEAQbrCUfF+QQLYvz5V8X5BAAQh5lnxfkEAfkKyWfF+QQFUY4JZ8X5BAmKATl3xfkEB8/DGXfF+QQA/rOpd8X5BAp9lDl3xfkEA8yEyXfF+QQDj9UZd8X5BAMG1Tl3xfkEAi3VSXfF+QQBpNVpd8X5BAsR5Xl3xfkEACUFeXfF+QQFOBV5d8X5BAo7JXl3xfkEDjzFeXfF+QQMvPV5d8X5BAsdJXl3xfkECY1VeXfF+QQA==",
          "dtype": "f8"
         }
        },
        {
         "line": {
          "color": "rgb(250, 0, 0)"
         },
         "mode": "lines",
         "name": "032",
         "opacity": 0.4,
         "type": "scatter",
         "x": [
          0,
          1000000000000,
          2000000000000,
          3000000000000,
          4000000000000,
          5000000000000,
          6000000000000,
          7000000000000,
          8000000000000,
          9000000000000,
          10000000000000,
          11000000000000,
          12000000000000,
          13000000000000,
          14000000000000,
          15000000000000,
          16000000000000,
          17000000000000,
          18000000000000,
          19000000000000,
          20000000000000,
          21000000000000,
          22000000000000,
          23000000000000,
          24000000000000,
          25000000000000,
          26000000000000,
          27000000000000,
          28000000000000,
          29000000000000,
          30000000000000,
          31000000000000,
          32000000000000,
          33000000000000,
          34000000000000,
          35000000000000,
          36000000000000,
          37000000000000,
          38000000000000,
          39000000000000,
          40000000000000
         ],
         "y": {
          "bdata": "7B8yAcCSnEDKaVUhAB6fQJ36r8ia+55AwfVw6tj8nkAu6Db1IfueQBWvCMK3+p5AQb1WSXr6nkBGbwcgcPqeQBa6N0dz+p5AgAyrQHH6nkBrK3E6cPqeQOb0+PBv+p5Aptmq1W/6nkAEBKbGb/qeQCzYc8Zv+p5AOq5rxm/6nkArho3Gb/qeQNJ0e8Zv+p5AxecBxm/6nkBAUIvFb/qeQEuuF8Vv+p5AFodZxG/6nkC5tzvDb/qeQJJKHsJv+p5Amj8BwW/6nkCGwTHAb/qeQL/Mwr9v+p5AAO9Tv2/6nkBMKOW+b/qeQBOeub5v+p5AFPjhvm/6nkBnVwq/b/qeQAu8Mr9v+p5AoANpv2/6nkC6oLC/b/qeQIFC+L9v+p5A8ug/wG/6nkCyGXPAb/qeQA+6jMBv+p5ArVumwG/6nkCT/r/Ab/qeQA==",
          "dtype": "f8"
         }
        },
        {
         "line": {
          "color": "rgb(235, 0, 0)"
         },
         "mode": "lines",
         "name": "033",
         "opacity": 0.4,
         "type": "scatter",
         "x": [
          0,
          1000000000000,
          2000000000000,
          3000000000000,
          4000000000000,
          5000000000000,
          6000000000000,
          7000000000000,
          8000000000000,
          9000000000000,
          10000000000000,
          11000000000000,
          12000000000000,
          13000000000000,
          14000000000000,
          15000000000000,
          16000000000000,
          17000000000000,
          18000000000000,
          19000000000000,
          20000000000000,
          21000000000000,
          22000000000000,
          23000000000000,
          24000000000000,
          25000000000000,
          26000000000000,
          27000000000000,
          28000000000000,
          29000000000000,
          30000000000000,
          31000000000000,
          32000000000000,
          33000000000000,
          34000000000000,
          35000000000000,
          36000000000000,
          37000000000000,
          38000000000000,
          39000000000000,
          40000000000000
         ],
         "y": {
          "bdata": "Juxlir53mkD08N+jbXydQDmiaZReNZ1AKHbcqe8unUCd64QXHC2dQP+D1T57LJ1Ax8+Y9WwsnUA7VkK5byydQNufaFF0LJ1Aq3o/RXYsnUCzEB1LdyydQGUE7lx3LJ1AfkD1OHcsnUCMvL4YdyydQNZvVAJ3LJ1A1ohH7XYsnUCXB5jZdiydQHp3rcx2LJ1AWBE6xXYsnUC9XP69diydQKdZ+rZ2LJ1AR8FDs3YsnUC6k3GydiydQDvqn7F2LJ1A1MTOsHYsnUBOsOCwdiydQBb9w7F2LJ1AdFSosnYsnUBpto2zdiydQDpAWLR2LJ1AI9YJtXYsnUAFBry1diydQNbPbrZ2LJ1AXdHrtnYsnUAu9ja3diydQCongrd2LJ1AT2TNt3YsnUAgGeS3diydQG1wyrd2LJ1Atsmwt3YsnUD+JJe3diydQA==",
          "dtype": "f8"
         }
        },
        {
         "line": {
          "color": "rgb(220, 0, 0)"
         },
         "mode": "lines",
         "name": "034",
         "opacity": 0.4,
         "type": "scatter",
         "x": [
          0,
          1000000000000,
          2000000000000,
          3000000000000,
          4000000000000,
          5000000000000,
          6000000000000,
          7000000000000,
          8000000000000,
          9000000000000,
          10000000000000,
          11000000000000,
          12000000000000,
          13000000000000,
          14000000000000,
          15000000000000,
          16000000000000,
          17000000000000,
          18000000000000,
          19000000000000,
          20000000000000,
          21000000000000,
          22000000000000,
          23000000000000,
          24000000000000,
          25000000000000,
          26000000000000,
          27000000000000,
          28000000000000,
          29000000000000,
          30000000000000,
          31000000000000,
          32000000000000,
          33000000000000,
          34000000000000,
          35000000000000,
          36000000000000,
          37000000000000,
          38000000000000,
          39000000000000,
          40000000000000
         ],
         "y": {
          "bdata": "d84sL0Ihk0A42tRbmCGTQNqvFJ+yIZNAvi3aRG8ik0BFDVDdnCuTQIi9p3cYcJNAaZdyRofmk0AaOTwbog6UQLLHDcCZFJRAZ4LVM34VlEDQ1+hbkhWUQE0V7xKaFZRAGWXK+poVlECicOmqmxWUQJohJhecFZRAc3DfV5wVlEBCZDxynBWUQL2tmYycFZRA20z3ppwVlEDy/ZOynBWUQNhWnbecFZRATrSmvJwVlEBZFrDBnBWUQKAtgsOcFZRAP1nlw5wVlEAchUjEnBWUQDSxq8ScFZRAESAoxZwVlEDr0K/FnBWUQM6BN8acFZRAtjK/xpwVlEAVgfTGnBWUQAgYBcecFZRA/a4Vx5wVlEDxRSbHnBWUQIbGMsecFZRAw3Q9x5wVlED/IkjHnBWUQD3RUsecFZRAbx1Xx5wVlEBikVjHnBWUQA==",
          "dtype": "f8"
         }
        },
        {
         "line": {
          "color": "rgb(204, 0, 0)"
         },
         "mode": "lines",
         "name": "035",
         "opacity": 0.4,
         "type": "scatter",
         "x": [
          0,
          1000000000000,
          2000000000000,
          3000000000000,
          4000000000000,
          5000000000000,
          6000000000000,
          7000000000000,
          8000000000000,
          9000000000000,
          10000000000000,
          11000000000000,
          12000000000000,
          13000000000000,
          14000000000000,
          15000000000000,
          16000000000000,
          17000000000000,
          18000000000000,
          19000000000000,
          20000000000000,
          21000000000000,
          22000000000000,
          23000000000000,
          24000000000000,
          25000000000000,
          26000000000000,
          27000000000000,
          28000000000000,
          29000000000000,
          30000000000000,
          31000000000000,
          32000000000000,
          33000000000000,
          34000000000000,
          35000000000000,
          36000000000000,
          37000000000000,
          38000000000000,
          39000000000000,
          40000000000000
         ],
         "y": {
          "bdata": "loYlJg22nkCNta1qWEChQFrulHMtNaFAWBxDx7M0oUAvb3OqtTShQM+cVoa7NKFAKmvCNr40oUAnXHP2vjShQG5aEae+NKFAQNMler40oUAt1JNlvjShQCA8sFS+NKFA0gfcTb40oUBXIw1HvjShQK6OQ0C+NKFADbn3O740oUCQdDU/vjShQIWxc0K+NKFA8G+yRb40oUBEjg9JvjShQPsZyEy+NKFAMv6AUL40oUDnOjpUvjShQJ6POFe+NKFAJ2r8V740oUAUS8BYvjShQGUyhFm+NKFAUkMyWr40oUBCuJ1avjShQNYuCVu+NKFADqd0W740oUDz2XVbvjShQLszM1q+NKFAFpPwWL40oUAI+K1XvjShQJgbsFa+NKFAfK6DVr40oUDnQldWvjShQNfYKla+NKFADqnlVb40oUB2+FRVvjShQA==",
          "dtype": "f8"
         }
        },
        {
         "line": {
          "color": "rgb(189, 0, 0)"
         },
         "mode": "lines",
         "name": "036",
         "opacity": 0.4,
         "type": "scatter",
         "x": [
          0,
          1000000000000,
          2000000000000,
          3000000000000,
          4000000000000,
          5000000000000,
          6000000000000,
          7000000000000,
          8000000000000,
          9000000000000,
          10000000000000,
          11000000000000,
          12000000000000,
          13000000000000,
          14000000000000,
          15000000000000,
          16000000000000,
          17000000000000,
          18000000000000,
          19000000000000,
          20000000000000,
          21000000000000,
          22000000000000,
          23000000000000,
          24000000000000,
          25000000000000,
          26000000000000,
          27000000000000,
          28000000000000,
          29000000000000,
          30000000000000,
          31000000000000,
          32000000000000,
          33000000000000,
          34000000000000,
          35000000000000,
          36000000000000,
          37000000000000,
          38000000000000,
          39000000000000,
          40000000000000
         ],
         "y": {
          "bdata": "OGS/x1weokAMnm3TFEGmQNiVt8FlR6ZAmHS7d3VNpkDDtYt5TE+mQO8QZUXXT6ZAe3mIdPZPpkCyeqq0+0+mQItQ5ZH6T6ZAlBNzafhPpkAmyEZB9k+mQMo890z1T6ZAy1xu2vRPpkAMB+9n9E+mQI07efXzT6ZALHUB1PNPpkDDO67U80+mQBEVW9XzT6ZAGAEI1vNPpkAp2Fva80+mQJYqOuDzT6ZALM0Y5vNPpkDwv/fr80+mQFCXqOrzT6ZAHKpS5vNPpkCuN/3h80+mQAZAqN3zT6ZApN2J3fNPpkC/kDLf80+mQOS72+DzT6ZAEl+F4vNPpkCQTiXh80+mQIQ9fd7zT6ZAc0DV2/NPpkBdVy3Z80+mQE6kW9nzT6ZACSq82vNPpkBotBzc80+mQGpDfd3zT6ZAvYQE3fNPpkDbPcTb80+mQA==",
          "dtype": "f8"
         }
        },
        {
         "line": {
          "color": "rgb(174, 0, 0)"
         },
         "mode": "lines",
         "name": "037",
         "opacity": 0.4,
         "type": "scatter",
         "x": [
          0,
          1000000000000,
          2000000000000,
          3000000000000,
          4000000000000,
          5000000000000,
          6000000000000,
          7000000000000,
          8000000000000,
          9000000000000,
          10000000000000,
          11000000000000,
          12000000000000,
          13000000000000,
          14000000000000,
          15000000000000,
          16000000000000,
          17000000000000,
          18000000000000,
          19000000000000,
          20000000000000,
          21000000000000,
          22000000000000,
          23000000000000,
          24000000000000,
          25000000000000,
          26000000000000,
          27000000000000,
          28000000000000,
          29000000000000,
          30000000000000,
          31000000000000,
          32000000000000,
          33000000000000,
          34000000000000,
          35000000000000,
          36000000000000,
          37000000000000,
          38000000000000,
          39000000000000,
          40000000000000
         ],
         "y": {
          "bdata": "egsD0n7olkCelPYPic+YQEL8Iqyzp5lAaIKakxegmUBObrCLOqCZQGp8ScZcoJlAIiNU23KgmUD8e+q2fqCZQHkxVbuEoJlAKrC2i4egmUDRQQX7h6CZQIxsqnOIoJlAUTCm9YigmUAeK4RIiaCZQC5ZyZ+JoJlA6VLD/ImgmUCxdec+iqCZQArU9ICKoJlANqS+xoqgmUA55kQQi6CZQHAyPUaLoJlAMLrme4ugmUD52P+zi6CZQMqOiO6LoJlAl10YG4ygmUAnXE1HjKCZQKYyF3WMoJlAE+F1pIygmUAu5HnPjKCZQH6gdPiMoJlAOhDLH42gmUDISFVFjaCZQJYI/miNoJlAeiaZio2gmUCZlgKqjaCZQOLmGceNoJlAp/Ao5I2gmUBiWwkAjqCZQBJsaRqOoJlAlJ8zM46gmUBVtQpKjqCZQA==",
          "dtype": "f8"
         }
        },
        {
         "line": {
          "color": "rgb(159, 0, 0)"
         },
         "mode": "lines",
         "name": "038",
         "opacity": 0.4,
         "type": "scatter",
         "x": [
          0,
          1000000000000,
          2000000000000,
          3000000000000,
          4000000000000,
          5000000000000,
          6000000000000,
          7000000000000,
          8000000000000,
          9000000000000,
          10000000000000,
          11000000000000,
          12000000000000,
          13000000000000,
          14000000000000,
          15000000000000,
          16000000000000,
          17000000000000,
          18000000000000,
          19000000000000,
          20000000000000,
          21000000000000,
          22000000000000,
          23000000000000,
          24000000000000,
          25000000000000,
          26000000000000,
          27000000000000,
          28000000000000,
          29000000000000,
          30000000000000,
          31000000000000,
          32000000000000,
          33000000000000,
          34000000000000,
          35000000000000,
          36000000000000,
          37000000000000,
          38000000000000,
          39000000000000,
          40000000000000
         ],
         "y": {
          "bdata": "p13SIrKPl0DwduAyQASYQKlCvqu1NZpAFwNs/WYhmkA7RurEXh+aQAVOpk16HJpAGi43hOkXmkA/KxID/w6aQPC1sKoC+JlA5TTT+wCQm0CuaXLkE7ubQM/YGaelt5tAOSI3cUu3m0BWwUSeRLebQF9DYhREt5tAAXNecUO3m0CgAJh6Q7ebQMTo/31Dt5tAwCeRgEO3m0DgHACFQ7ebQEepwotDt5tA/jeFkkO3m0D+yEeZQ7ebQDNMF5xDt5tAmNX5mUO3m0AMYtyXQ7ebQIXxvpVDt5tAvZvolUO3m0C/gemYQ7ebQAtp6ptDt5tAmFHrnkO3m0A8AL+fQ7ebQOa2251Dt5tAjG74m0O3m0AsJxWaQ7ebQMMbyZlDt5tAyvV4m0O3m0B10CidQ7ebQMir2J5Dt5tAfhE2n0O3m0BiV+2dQ7ebQA==",
          "dtype": "f8"
         }
        },
        {
         "line": {
          "color": "rgb(143, 0, 0)"
         },
         "mode": "lines",
         "name": "039",
         "opacity": 0.4,
         "type": "scatter",
         "x": [
          0,
          1000000000000,
          2000000000000,
          3000000000000,
          4000000000000,
          5000000000000,
          6000000000000,
          7000000000000,
          8000000000000,
          9000000000000,
          10000000000000,
          11000000000000,
          12000000000000,
          13000000000000,
          14000000000000,
          15000000000000,
          16000000000000,
          17000000000000,
          18000000000000,
          19000000000000,
          20000000000000,
          21000000000000,
          22000000000000,
          23000000000000,
          24000000000000,
          25000000000000,
          26000000000000,
          27000000000000,
          28000000000000,
          29000000000000,
          30000000000000,
          31000000000000,
          32000000000000,
          33000000000000,
          34000000000000,
          35000000000000,
          36000000000000,
          37000000000000,
          38000000000000,
          39000000000000,
          40000000000000
         ],
         "y": {
          "bdata": "1t/LnHCulEB3+rlKF6+UQECD+sBjl5VA+e9iCmtkl0DfS3BOAoOXQKJJ+9kahJdA/HdnB+SEl0Ahf9u1bIWXQJ6qRLWwhZdA2wqb2tSFl0AaXTC94oWXQBzmUGPnhZdAQOJ9QeWFl0BMOCv14YWXQEMZQs3ghZdAjT1Dr9+Fl0AO+j3b3oWXQIwRy5LehZdAbgGeLt6Fl0DH5d+l3YWXQJonB3HdhZdAJjLLId2Fl0Dk92vI3IWXQKXu063chZdAZxE/oNyFl0D9692a3IWXQEDVi5bchZdAuIB3l9yFl0A6hXSd3IWXQC8iL6rchZdAfuAVvNyFl0DB+gHO3IWXQPBw89/chZdAno5T79yFl0BGEnD53IWXQFYGjgPdhZdAy2qtDd2Fl0Ap4NkW3YWXQIcYFR7dhZdAIKdQJd2Fl0D3i4ws3YWXQA==",
          "dtype": "f8"
         }
        }
       ],
       "layout": {
        "showlegend": false,
        "template": {
         "data": {
          "bar": [
           {
            "error_x": {
             "color": "#2a3f5f"
            },
            "error_y": {
             "color": "#2a3f5f"
            },
            "marker": {
             "line": {
              "color": "#E5ECF6",
              "width": 0.5
             },
             "pattern": {
              "fillmode": "overlay",
              "size": 10,
              "solidity": 0.2
             }
            },
            "type": "bar"
           }
          ],
          "barpolar": [
           {
            "marker": {
             "line": {
              "color": "#E5ECF6",
              "width": 0.5
             },
             "pattern": {
              "fillmode": "overlay",
              "size": 10,
              "solidity": 0.2
             }
            },
            "type": "barpolar"
           }
          ],
          "carpet": [
           {
            "aaxis": {
             "endlinecolor": "#2a3f5f",
             "gridcolor": "white",
             "linecolor": "white",
             "minorgridcolor": "white",
             "startlinecolor": "#2a3f5f"
            },
            "baxis": {
             "endlinecolor": "#2a3f5f",
             "gridcolor": "white",
             "linecolor": "white",
             "minorgridcolor": "white",
             "startlinecolor": "#2a3f5f"
            },
            "type": "carpet"
           }
          ],
          "choropleth": [
           {
            "colorbar": {
             "outlinewidth": 0,
             "ticks": ""
            },
            "type": "choropleth"
           }
          ],
          "contour": [
           {
            "colorbar": {
             "outlinewidth": 0,
             "ticks": ""
            },
            "colorscale": [
             [
              0,
              "#0d0887"
             ],
             [
              0.1111111111111111,
              "#46039f"
             ],
             [
              0.2222222222222222,
              "#7201a8"
             ],
             [
              0.3333333333333333,
              "#9c179e"
             ],
             [
              0.4444444444444444,
              "#bd3786"
             ],
             [
              0.5555555555555556,
              "#d8576b"
             ],
             [
              0.6666666666666666,
              "#ed7953"
             ],
             [
              0.7777777777777778,
              "#fb9f3a"
             ],
             [
              0.8888888888888888,
              "#fdca26"
             ],
             [
              1,
              "#f0f921"
             ]
            ],
            "type": "contour"
           }
          ],
          "contourcarpet": [
           {
            "colorbar": {
             "outlinewidth": 0,
             "ticks": ""
            },
            "type": "contourcarpet"
           }
          ],
          "heatmap": [
           {
            "colorbar": {
             "outlinewidth": 0,
             "ticks": ""
            },
            "colorscale": [
             [
              0,
              "#0d0887"
             ],
             [
              0.1111111111111111,
              "#46039f"
             ],
             [
              0.2222222222222222,
              "#7201a8"
             ],
             [
              0.3333333333333333,
              "#9c179e"
             ],
             [
              0.4444444444444444,
              "#bd3786"
             ],
             [
              0.5555555555555556,
              "#d8576b"
             ],
             [
              0.6666666666666666,
              "#ed7953"
             ],
             [
              0.7777777777777778,
              "#fb9f3a"
             ],
             [
              0.8888888888888888,
              "#fdca26"
             ],
             [
              1,
              "#f0f921"
             ]
            ],
            "type": "heatmap"
           }
          ],
          "histogram": [
           {
            "marker": {
             "pattern": {
              "fillmode": "overlay",
              "size": 10,
              "solidity": 0.2
             }
            },
            "type": "histogram"
           }
          ],
          "histogram2d": [
           {
            "colorbar": {
             "outlinewidth": 0,
             "ticks": ""
            },
            "colorscale": [
             [
              0,
              "#0d0887"
             ],
             [
              0.1111111111111111,
              "#46039f"
             ],
             [
              0.2222222222222222,
              "#7201a8"
             ],
             [
              0.3333333333333333,
              "#9c179e"
             ],
             [
              0.4444444444444444,
              "#bd3786"
             ],
             [
              0.5555555555555556,
              "#d8576b"
             ],
             [
              0.6666666666666666,
              "#ed7953"
             ],
             [
              0.7777777777777778,
              "#fb9f3a"
             ],
             [
              0.8888888888888888,
              "#fdca26"
             ],
             [
              1,
              "#f0f921"
             ]
            ],
            "type": "histogram2d"
           }
          ],
          "histogram2dcontour": [
           {
            "colorbar": {
             "outlinewidth": 0,
             "ticks": ""
            },
            "colorscale": [
             [
              0,
              "#0d0887"
             ],
             [
              0.1111111111111111,
              "#46039f"
             ],
             [
              0.2222222222222222,
              "#7201a8"
             ],
             [
              0.3333333333333333,
              "#9c179e"
             ],
             [
              0.4444444444444444,
              "#bd3786"
             ],
             [
              0.5555555555555556,
              "#d8576b"
             ],
             [
              0.6666666666666666,
              "#ed7953"
             ],
             [
              0.7777777777777778,
              "#fb9f3a"
             ],
             [
              0.8888888888888888,
              "#fdca26"
             ],
             [
              1,
              "#f0f921"
             ]
            ],
            "type": "histogram2dcontour"
           }
          ],
          "mesh3d": [
           {
            "colorbar": {
             "outlinewidth": 0,
             "ticks": ""
            },
            "type": "mesh3d"
           }
          ],
          "parcoords": [
           {
            "line": {
             "colorbar": {
              "outlinewidth": 0,
              "ticks": ""
             }
            },
            "type": "parcoords"
           }
          ],
          "pie": [
           {
            "automargin": true,
            "type": "pie"
           }
          ],
          "scatter": [
           {
            "fillpattern": {
             "fillmode": "overlay",
             "size": 10,
             "solidity": 0.2
            },
            "type": "scatter"
           }
          ],
          "scatter3d": [
           {
            "line": {
             "colorbar": {
              "outlinewidth": 0,
              "ticks": ""
             }
            },
            "marker": {
             "colorbar": {
              "outlinewidth": 0,
              "ticks": ""
             }
            },
            "type": "scatter3d"
           }
          ],
          "scattercarpet": [
           {
            "marker": {
             "colorbar": {
              "outlinewidth": 0,
              "ticks": ""
             }
            },
            "type": "scattercarpet"
           }
          ],
          "scattergeo": [
           {
            "marker": {
             "colorbar": {
              "outlinewidth": 0,
              "ticks": ""
             }
            },
            "type": "scattergeo"
           }
          ],
          "scattergl": [
           {
            "marker": {
             "colorbar": {
              "outlinewidth": 0,
              "ticks": ""
             }
            },
            "type": "scattergl"
           }
          ],
          "scattermap": [
           {
            "marker": {
             "colorbar": {
              "outlinewidth": 0,
              "ticks": ""
             }
            },
            "type": "scattermap"
           }
          ],
          "scattermapbox": [
           {
            "marker": {
             "colorbar": {
              "outlinewidth": 0,
              "ticks": ""
             }
            },
            "type": "scattermapbox"
           }
          ],
          "scatterpolar": [
           {
            "marker": {
             "colorbar": {
              "outlinewidth": 0,
              "ticks": ""
             }
            },
            "type": "scatterpolar"
           }
          ],
          "scatterpolargl": [
           {
            "marker": {
             "colorbar": {
              "outlinewidth": 0,
              "ticks": ""
             }
            },
            "type": "scatterpolargl"
           }
          ],
          "scatterternary": [
           {
            "marker": {
             "colorbar": {
              "outlinewidth": 0,
              "ticks": ""
             }
            },
            "type": "scatterternary"
           }
          ],
          "surface": [
           {
            "colorbar": {
             "outlinewidth": 0,
             "ticks": ""
            },
            "colorscale": [
             [
              0,
              "#0d0887"
             ],
             [
              0.1111111111111111,
              "#46039f"
             ],
             [
              0.2222222222222222,
              "#7201a8"
             ],
             [
              0.3333333333333333,
              "#9c179e"
             ],
             [
              0.4444444444444444,
              "#bd3786"
             ],
             [
              0.5555555555555556,
              "#d8576b"
             ],
             [
              0.6666666666666666,
              "#ed7953"
             ],
             [
              0.7777777777777778,
              "#fb9f3a"
             ],
             [
              0.8888888888888888,
              "#fdca26"
             ],
             [
              1,
              "#f0f921"
             ]
            ],
            "type": "surface"
           }
          ],
          "table": [
           {
            "cells": {
             "fill": {
              "color": "#EBF0F8"
             },
             "line": {
              "color": "white"
             }
            },
            "header": {
             "fill": {
              "color": "#C8D4E3"
             },
             "line": {
              "color": "white"
             }
            },
            "type": "table"
           }
          ]
         },
         "layout": {
          "annotationdefaults": {
           "arrowcolor": "#2a3f5f",
           "arrowhead": 0,
           "arrowwidth": 1
          },
          "autotypenumbers": "strict",
          "coloraxis": {
           "colorbar": {
            "outlinewidth": 0,
            "ticks": ""
           }
          },
          "colorscale": {
           "diverging": [
            [
             0,
             "#8e0152"
            ],
            [
             0.1,
             "#c51b7d"
            ],
            [
             0.2,
             "#de77ae"
            ],
            [
             0.3,
             "#f1b6da"
            ],
            [
             0.4,
             "#fde0ef"
            ],
            [
             0.5,
             "#f7f7f7"
            ],
            [
             0.6,
             "#e6f5d0"
            ],
            [
             0.7,
             "#b8e186"
            ],
            [
             0.8,
             "#7fbc41"
            ],
            [
             0.9,
             "#4d9221"
            ],
            [
             1,
             "#276419"
            ]
           ],
           "sequential": [
            [
             0,
             "#0d0887"
            ],
            [
             0.1111111111111111,
             "#46039f"
            ],
            [
             0.2222222222222222,
             "#7201a8"
            ],
            [
             0.3333333333333333,
             "#9c179e"
            ],
            [
             0.4444444444444444,
             "#bd3786"
            ],
            [
             0.5555555555555556,
             "#d8576b"
            ],
            [
             0.6666666666666666,
             "#ed7953"
            ],
            [
             0.7777777777777778,
             "#fb9f3a"
            ],
            [
             0.8888888888888888,
             "#fdca26"
            ],
            [
             1,
             "#f0f921"
            ]
           ],
           "sequentialminus": [
            [
             0,
             "#0d0887"
            ],
            [
             0.1111111111111111,
             "#46039f"
            ],
            [
             0.2222222222222222,
             "#7201a8"
            ],
            [
             0.3333333333333333,
             "#9c179e"
            ],
            [
             0.4444444444444444,
             "#bd3786"
            ],
            [
             0.5555555555555556,
             "#d8576b"
            ],
            [
             0.6666666666666666,
             "#ed7953"
            ],
            [
             0.7777777777777778,
             "#fb9f3a"
            ],
            [
             0.8888888888888888,
             "#fdca26"
            ],
            [
             1,
             "#f0f921"
            ]
           ]
          },
          "colorway": [
           "#636efa",
           "#EF553B",
           "#00cc96",
           "#ab63fa",
           "#FFA15A",
           "#19d3f3",
           "#FF6692",
           "#B6E880",
           "#FF97FF",
           "#FECB52"
          ],
          "font": {
           "color": "#2a3f5f"
          },
          "geo": {
           "bgcolor": "white",
           "lakecolor": "white",
           "landcolor": "#E5ECF6",
           "showlakes": true,
           "showland": true,
           "subunitcolor": "white"
          },
          "hoverlabel": {
           "align": "left"
          },
          "hovermode": "closest",
          "mapbox": {
           "style": "light"
          },
          "paper_bgcolor": "white",
          "plot_bgcolor": "#E5ECF6",
          "polar": {
           "angularaxis": {
            "gridcolor": "white",
            "linecolor": "white",
            "ticks": ""
           },
           "bgcolor": "#E5ECF6",
           "radialaxis": {
            "gridcolor": "white",
            "linecolor": "white",
            "ticks": ""
           }
          },
          "scene": {
           "xaxis": {
            "backgroundcolor": "#E5ECF6",
            "gridcolor": "white",
            "gridwidth": 2,
            "linecolor": "white",
            "showbackground": true,
            "ticks": "",
            "zerolinecolor": "white"
           },
           "yaxis": {
            "backgroundcolor": "#E5ECF6",
            "gridcolor": "white",
            "gridwidth": 2,
            "linecolor": "white",
            "showbackground": true,
            "ticks": "",
            "zerolinecolor": "white"
           },
           "zaxis": {
            "backgroundcolor": "#E5ECF6",
            "gridcolor": "white",
            "gridwidth": 2,
            "linecolor": "white",
            "showbackground": true,
            "ticks": "",
            "zerolinecolor": "white"
           }
          },
          "shapedefaults": {
           "line": {
            "color": "#2a3f5f"
           }
          },
          "ternary": {
           "aaxis": {
            "gridcolor": "white",
            "linecolor": "white",
            "ticks": ""
           },
           "baxis": {
            "gridcolor": "white",
            "linecolor": "white",
            "ticks": ""
           },
           "bgcolor": "#E5ECF6",
           "caxis": {
            "gridcolor": "white",
            "linecolor": "white",
            "ticks": ""
           }
          },
          "title": {
           "x": 0.05
          },
          "xaxis": {
           "automargin": true,
           "gridcolor": "white",
           "linecolor": "white",
           "ticks": "",
           "title": {
            "standoff": 15
           },
           "zerolinecolor": "white",
           "zerolinewidth": 2
          },
          "yaxis": {
           "automargin": true,
           "gridcolor": "white",
           "linecolor": "white",
           "ticks": "",
           "title": {
            "standoff": 15
           },
           "zerolinecolor": "white",
           "zerolinewidth": 2
          }
         }
        },
        "title": {
         "text": "Entropy generation - Test Snapshots - Parameter Space 01"
        },
        "xaxis": {
         "tickformat": ".2e",
         "title": {
          "text": "Time [s]"
         }
        },
        "yaxis": {
         "tickformat": ".2f",
         "title": {
          "text": "Entropy [W/K]"
         }
        }
       }
      }
     },
     "metadata": {},
     "output_type": "display_data"
    }
   ],
   "source": [
    "# comsol_data_ref  = COMSOL_VTU( ROOT / \"data\" / PARAMETER_SPACE / \"Training\" / f\"{DATA_TYPE}_000.vtu\")\n",
    "fig = go.Figure()\n",
    "\n",
    "for idx_snap, entropies in enumerate(entropy_gen_unit):\n",
    "    fig.add_trace(go.Scatter(x=list(comsol_data_ref.times.values()),\n",
    "                             y=entropies,\n",
    "                                mode='lines',\n",
    "                                name=f\"{idx_snap:03d}\",\n",
    "                                opacity=0.4,\n",
    "                            line=dict(color=colors[idx_snap])\n",
    "                ))\n",
    "    \n",
    "fig.update_layout(\n",
    "    xaxis_tickformat='.2e',  # Format x-axis numbers to 2 decimal places\n",
    "    yaxis_tickformat='.2f',  # Format y-axis numbers to 2 decimal places\n",
    "    showlegend=False,        # Hide the legend\n",
    "    title=f\"Entropy generation - {DATA_TYPE} Snapshots - Parameter Space {PARAMETER_SPACE}\",       # Optional: add a title\n",
    "    xaxis_title=\"Time [s]\",    # Optional: label for x-axis\n",
    "    yaxis_title=\"Entropy [W/K]\"     # Optional: label for y-axis\n",
    ")\n",
    "if IS_EXPORT:\n",
    "    fig.write_image(export_folder / f\"{DATA_TYPE}_EntropyGeneration.png\")\n",
    "    fig.write_html(export_folder / f\"{DATA_TYPE}_EntropyGeneration.html\")\n",
    "fig.show()"
   ]
  },
  {
   "cell_type": "markdown",
   "metadata": {},
   "source": [
    "### Plot entropy generation number"
   ]
  },
  {
   "cell_type": "code",
   "execution_count": null,
   "metadata": {},
   "outputs": [
    {
     "data": {
      "application/vnd.plotly.v1+json": {
       "config": {
        "plotlyServerURL": "https://plot.ly"
       },
       "data": [
        {
         "line": {
          "color": "rgb(0, 0, 131)"
         },
         "mode": "lines",
         "name": "000",
         "opacity": 0.4,
         "type": "scatter",
         "x": [
          0,
          1000000000000,
          2000000000000,
          3000000000000,
          4000000000000,
          5000000000000,
          6000000000000,
          7000000000000,
          8000000000000,
          9000000000000,
          10000000000000,
          11000000000000,
          12000000000000,
          13000000000000,
          14000000000000,
          15000000000000,
          16000000000000,
          17000000000000,
          18000000000000,
          19000000000000,
          20000000000000,
          21000000000000,
          22000000000000,
          23000000000000,
          24000000000000,
          25000000000000,
          26000000000000,
          27000000000000,
          28000000000000,
          29000000000000,
          30000000000000,
          31000000000000,
          32000000000000,
          33000000000000,
          34000000000000,
          35000000000000,
          36000000000000,
          37000000000000,
          38000000000000,
          39000000000000,
          40000000000000
         ],
         "y": {
          "bdata": "xka81MAw7j8qzpm1QC7xP5GN9i6gHfE/IlrDdhEc8T9ULoes4hvxPytmrIjTG/E/XnWUtM0b8T/ON5p8zxvxP2tEOObOG/E/32qUq80b8T93eVxRzRvxPxewtFXNG/E/v8NRes0b8T8oLZDEzRvxP6PdJQDOG/E/r0HoNc4b8T8kyJVszhvxP9l9n5rOG/E/2hL3pc4b8T8WEVSxzhvxP4h4trzOG/E/+3Gfws4b8T/n6Ge0zhvxP73zO6bOG/E/eJIbmM4b8T/8NUuKzhvxPx2bfX3OG/E/Ghu1cM4b8T/wtfFjzhvxP2QOMlnOG/E/YyvGVc4b8T+DslpSzhvxP86j707OG/E/zCo7TM4b8T+2RyNMzhvxP313C0zOG/E/ILrzS84b8T90NEdMzhvxPwfhI07OG/E/nqYAUM4b8T84hd1RzhvxPw==",
          "dtype": "f8"
         }
        },
        {
         "line": {
          "color": "rgb(0, 8, 136)"
         },
         "mode": "lines",
         "name": "001",
         "opacity": 0.4,
         "type": "scatter",
         "x": [
          0,
          1000000000000,
          2000000000000,
          3000000000000,
          4000000000000,
          5000000000000,
          6000000000000,
          7000000000000,
          8000000000000,
          9000000000000,
          10000000000000,
          11000000000000,
          12000000000000,
          13000000000000,
          14000000000000,
          15000000000000,
          16000000000000,
          17000000000000,
          18000000000000,
          19000000000000,
          20000000000000,
          21000000000000,
          22000000000000,
          23000000000000,
          24000000000000,
          25000000000000,
          26000000000000,
          27000000000000,
          28000000000000,
          29000000000000,
          30000000000000,
          31000000000000,
          32000000000000,
          33000000000000,
          34000000000000,
          35000000000000,
          36000000000000,
          37000000000000,
          38000000000000,
          39000000000000,
          40000000000000
         ],
         "y": {
          "bdata": "utSFPGMy7j/hoO50PU3xP0EvDqe7TPE/SWRYl91K8T/2swjH8ErxPwwHxqXqSvE/K+WPs+xK8T+BDuAb7krxP2XhR8XuSvE/yqXl8u5K8T/nkrSP7krxP+tW+TruSvE/Kkj35+1K8T8rTIKb7UrxPxDi9XntSvE/VKSXWO1K8T/ykmc37UrxP2mWkhrtSvE/DAPoHu1K8T/SCz8j7UrxP7iwlyftSvE/q27qLO1K8T+0oPE57UrxP1Qj/kbtSvE/jPYPVO1K8T+AFm1g7UrxP0J7C2ftSvE/+Smrbe1K8T+kIkx07UrxPwxfeHrtSvE/fSj+fO1K8T+aG4R/7UrxP2Q4CoLtSvE/PhgphO1K8T+CzhSD7UrxPwWMAILtSvE/wVDsgO1K8T+O17J/7UrxP4YrUn3tSvE/yaXxeu1K8T9VRpF47UrxPw==",
          "dtype": "f8"
         }
        },
        {
         "line": {
          "color": "rgb(0, 15, 141)"
         },
         "mode": "lines",
         "name": "002",
         "opacity": 0.4,
         "type": "scatter",
         "x": [
          0,
          1000000000000,
          2000000000000,
          3000000000000,
          4000000000000,
          5000000000000,
          6000000000000,
          7000000000000,
          8000000000000,
          9000000000000,
          10000000000000,
          11000000000000,
          12000000000000,
          13000000000000,
          14000000000000,
          15000000000000,
          16000000000000,
          17000000000000,
          18000000000000,
          19000000000000,
          20000000000000,
          21000000000000,
          22000000000000,
          23000000000000,
          24000000000000,
          25000000000000,
          26000000000000,
          27000000000000,
          28000000000000,
          29000000000000,
          30000000000000,
          31000000000000,
          32000000000000,
          33000000000000,
          34000000000000,
          35000000000000,
          36000000000000,
          37000000000000,
          38000000000000,
          39000000000000,
          40000000000000
         ],
         "y": {
          "bdata": "zip/+5cM7j9gRq6MBQ3uP5jVUKwgDe4/Q8IC0CsN7j9bB5WqMQ3uP5oMpmc1De4/JU4VfzYN7j+/mouWNw3uP2TyCK44De4/BWCOYDkN7j+BT9aUOQ3uP5Z/Hsk5De4/OfBm/TkN7j9ilsweOg3uP6JVlig6De4/NBdgMjoN7j8g2yk8Og3uP5p+akI6De4/+a4/RDoN7j9p3xRGOg3uP/gP6kc6De4/2b4VSToN7j//iW1JOg3uPypVxUk6De4/VSAdSjoN7j99M1VKOg3uP02gZUo6De4/HA12SjoN7j/seYZKOg3uP3D3kEo6De4/ywmUSjoN7j8kHJdKOg3uP30umko6De4/rSScSjoN7j+qt5xKOg3uP6JKnUo6De4/od2dSjoN7j95O55KOg3uP/FWnko6De4/ZXKeSjoN7j/djZ5KOg3uPw==",
          "dtype": "f8"
         }
        },
        {
         "line": {
          "color": "rgb(0, 22, 146)"
         },
         "mode": "lines",
         "name": "003",
         "opacity": 0.4,
         "type": "scatter",
         "x": [
          0,
          1000000000000,
          2000000000000,
          3000000000000,
          4000000000000,
          5000000000000,
          6000000000000,
          7000000000000,
          8000000000000,
          9000000000000,
          10000000000000,
          11000000000000,
          12000000000000,
          13000000000000,
          14000000000000,
          15000000000000,
          16000000000000,
          17000000000000,
          18000000000000,
          19000000000000,
          20000000000000,
          21000000000000,
          22000000000000,
          23000000000000,
          24000000000000,
          25000000000000,
          26000000000000,
          27000000000000,
          28000000000000,
          29000000000000,
          30000000000000,
          31000000000000,
          32000000000000,
          33000000000000,
          34000000000000,
          35000000000000,
          36000000000000,
          37000000000000,
          38000000000000,
          39000000000000,
          40000000000000
         ],
         "y": {
          "bdata": "8D0SrWYS7j/jWUvl4BLuPy8eko0VE+4/LZtOLnYU7j+jHwuevCPuPy8MzCZAiO4/TKygBmZI7z9YQYmixprvP8dSzPnLqO8/CRtetPaq7z+LUIyFKKvvP6m7ZPsxq+8/hRw++S2r7z/OkDbmKavvP7uGwXwoq+8/Qdaf9Cer7z/XTkmzJ6vvPxPkybAnq+8/z4JKrier7z/+KsurJ6vvPyfmV6knq+8/hFPvpier7z+PwYakJ6vvP1UwHqInq+8/hPZIoSer7z+TyNmhJ6vvP6yaaqInq+8/3Wz7oier7z9gupujJ6vvPx7GSaQnq+8/19H3pCer7z+b3aWlJ6vvP9r0fqYnq+8/KkJ+pyer7z96j32oJ6vvP8zcfKknq+8/42qcqier7z+LmtirJ6vvPzbKFK0nq+8/4PlQrier7z+B/LOvJ6vvPw==",
          "dtype": "f8"
         }
        },
        {
         "line": {
          "color": "rgb(0, 30, 150)"
         },
         "mode": "lines",
         "name": "004",
         "opacity": 0.4,
         "type": "scatter",
         "x": [
          0,
          1000000000000,
          2000000000000,
          3000000000000,
          4000000000000,
          5000000000000,
          6000000000000,
          7000000000000,
          8000000000000,
          9000000000000,
          10000000000000,
          11000000000000,
          12000000000000,
          13000000000000,
          14000000000000,
          15000000000000,
          16000000000000,
          17000000000000,
          18000000000000,
          19000000000000,
          20000000000000,
          21000000000000,
          22000000000000,
          23000000000000,
          24000000000000,
          25000000000000,
          26000000000000,
          27000000000000,
          28000000000000,
          29000000000000,
          30000000000000,
          31000000000000,
          32000000000000,
          33000000000000,
          34000000000000,
          35000000000000,
          36000000000000,
          37000000000000,
          38000000000000,
          39000000000000,
          40000000000000
         ],
         "y": {
          "bdata": "GyOb6a0K7j9XBjz2EgvuPz9M9DwtC+4/BB84lTkL7j8cc4I5PgvuP3BhTN5CC+4/xzguOEQL7j88X9QfRQvuP1tqfwdGC+4/I1ov70YL7j+ArjApRwvuP3kWqUtHC+4/2pohbkcL7j+1O5qQRwvuP32lrpVHC+4/T4bHlkcL7j8wZ+CXRwvuPxFI+ZhHC+4/iatFnEcL7j9Gat6fRwvuP08pd6NHC+4/o+gPp0cL7j9J0ZenRwvuP5BhtadHC+4/0fHSp0cL7j8VgvCnRwvuP2xvR6hHC+4/jyKmqEcL7j+71QSpRwvuP+aIY6lHC+4/vFByqUcL7j9cRHapRwvuP/k3eqlHC+4/lSt+qUcL7j9vwoapRwvuPyj6j6lHC+4/5DGZqUcL7j+daaKpRwvuP848pKlHC+4/jQ+lqUcL7j9U4qWpRwvuPw==",
          "dtype": "f8"
         }
        },
        {
         "line": {
          "color": "rgb(0, 38, 155)"
         },
         "mode": "lines",
         "name": "005",
         "opacity": 0.4,
         "type": "scatter",
         "x": [
          0,
          1000000000000,
          2000000000000,
          3000000000000,
          4000000000000,
          5000000000000,
          6000000000000,
          7000000000000,
          8000000000000,
          9000000000000,
          10000000000000,
          11000000000000,
          12000000000000,
          13000000000000,
          14000000000000,
          15000000000000,
          16000000000000,
          17000000000000,
          18000000000000,
          19000000000000,
          20000000000000,
          21000000000000,
          22000000000000,
          23000000000000,
          24000000000000,
          25000000000000,
          26000000000000,
          27000000000000,
          28000000000000,
          29000000000000,
          30000000000000,
          31000000000000,
          32000000000000,
          33000000000000,
          34000000000000,
          35000000000000,
          36000000000000,
          37000000000000,
          38000000000000,
          39000000000000,
          40000000000000
         ],
         "y": {
          "bdata": "PInnLb4f7j9zZwiXIO3vP87JGQQ22fA/4N8AlUfI8D+wJTueEcTwPxJy8GUDvPA/EZcPtxKk8D/ZoSJv9N7xP1QVzLhR2vE/JcT+pEXZ8T+3CTZKKNnxP8t84tEn2fE/9VdrzifZ8T8EGemIJ9nxPzVxlnYn2fE/+8micyfZ8T8MZ7BwJ9nxPzpCH3En2fE/P0MbcifZ8T/lVRdzJ9nxPyN6E3Qn2fE/fhKrdCfZ8T/NQTJ1J9nxP2FyuXUn2fE/OKRAdifZ8T/WPnh2J9nxP1XconYn2fE/6nnNdifZ8T+ZF/h2J9nxP7UwB3cn2fE/KswRdyfZ8T+kZxx3J9nxPyEDJ3cn2fE/ZYsqdyfZ8T8X7Cx3J9nxP8dML3cn2fE/eq0xdyfZ8T+6bzJ3J9nxP1ruMncn2fE/9WwzdyfZ8T+S6zN3J9nxPw==",
          "dtype": "f8"
         }
        },
        {
         "line": {
          "color": "rgb(0, 45, 160)"
         },
         "mode": "lines",
         "name": "006",
         "opacity": 0.4,
         "type": "scatter",
         "x": [
          0,
          1000000000000,
          2000000000000,
          3000000000000,
          4000000000000,
          5000000000000,
          6000000000000,
          7000000000000,
          8000000000000,
          9000000000000,
          10000000000000,
          11000000000000,
          12000000000000,
          13000000000000,
          14000000000000,
          15000000000000,
          16000000000000,
          17000000000000,
          18000000000000,
          19000000000000,
          20000000000000,
          21000000000000,
          22000000000000,
          23000000000000,
          24000000000000,
          25000000000000,
          26000000000000,
          27000000000000,
          28000000000000,
          29000000000000,
          30000000000000,
          31000000000000,
          32000000000000,
          33000000000000,
          34000000000000,
          35000000000000,
          36000000000000,
          37000000000000,
          38000000000000,
          39000000000000,
          40000000000000
         ],
         "y": {
          "bdata": "2SrbsIcK7j9zprqt6wruPwBUAhwGC+4/JY+jcxIL7j9BLp5IFwvuP/hxIx4cC+4/l3KAXh0L7j+lSWFPHgvuP3lxR0AfC+4/GeoyMSAL7j/5xU9lIAvuPxvjD4kgC+4/Hx/QrCAL7j//eZDQIAvuP1AydNQgC+4/ahGV1SAL7j+S8LXWIAvuP77P1tcgC+4/0VNc2yAL7j+E7xbfIAvuP4uL0eIgC+4/7CeM5iAL7j/MlfTmIAvuP7pWE+cgC+4/ohcy5yAL7j+M2FDnIAvuP1pxrecgC+4/HGYP6CAL7j/fWnHoIAvuP6hP0+ggC+4/Ygvf6CAL7j9HTuPoIAvuPymR5+ggC+4/E9Tr6CAL7j8+2vToIAvuPxBK/uggC+4/3rkH6SAL7j+vKRHpIAvuP7XFEukgC+4/F7QT6SAL7j94ohTpIAvuPw==",
          "dtype": "f8"
         }
        },
        {
         "line": {
          "color": "rgb(0, 52, 165)"
         },
         "mode": "lines",
         "name": "007",
         "opacity": 0.4,
         "type": "scatter",
         "x": [
          0,
          1000000000000,
          2000000000000,
          3000000000000,
          4000000000000,
          5000000000000,
          6000000000000,
          7000000000000,
          8000000000000,
          9000000000000,
          10000000000000,
          11000000000000,
          12000000000000,
          13000000000000,
          14000000000000,
          15000000000000,
          16000000000000,
          17000000000000,
          18000000000000,
          19000000000000,
          20000000000000,
          21000000000000,
          22000000000000,
          23000000000000,
          24000000000000,
          25000000000000,
          26000000000000,
          27000000000000,
          28000000000000,
          29000000000000,
          30000000000000,
          31000000000000,
          32000000000000,
          33000000000000,
          34000000000000,
          35000000000000,
          36000000000000,
          37000000000000,
          38000000000000,
          39000000000000,
          40000000000000
         ],
         "y": {
          "bdata": "EEL7Z7wt7j+urVp4E5nwP+vuOIGoi/A/kUYge/OJ8D+lbBVzlInwPx/HLrB6ifA/MIB33nKJ8D+4ABdrcYnwP4B0jChxifA/uJ032HCJ8D82kQbMcInwPyFWD8hwifA/stWqx3CJ8D/Y2UjHcInwPznmlshwifA/mhrN0XCJ8D9tIQ/bcInwP7X6XORwifA/ws3r7HCJ8D/s18fxcInwPzDDpPZwifA/jo+C+3CJ8D+E0Xv/cInwP5aUQP9wifA/fW8F/3CJ8D8/Ysr+cInwP6MNd/5wifA/B2Kx/XCJ8D+Iwev8cInwPyssJvxwifA/YK5m+3CJ8D8Jm8P6cInwPxqKIPpwifA/l3t9+XCJ8D/76u/4cInwP8kyx/hwifA/f3ue+HCJ8D8WxXX4cInwP5wMWfhwifA/AZt0+HCJ8D+7KZD4cInwPw==",
          "dtype": "f8"
         }
        },
        {
         "line": {
          "color": "rgb(0, 60, 170)"
         },
         "mode": "lines",
         "name": "008",
         "opacity": 0.4,
         "type": "scatter",
         "x": [
          0,
          1000000000000,
          2000000000000,
          3000000000000,
          4000000000000,
          5000000000000,
          6000000000000,
          7000000000000,
          8000000000000,
          9000000000000,
          10000000000000,
          11000000000000,
          12000000000000,
          13000000000000,
          14000000000000,
          15000000000000,
          16000000000000,
          17000000000000,
          18000000000000,
          19000000000000,
          20000000000000,
          21000000000000,
          22000000000000,
          23000000000000,
          24000000000000,
          25000000000000,
          26000000000000,
          27000000000000,
          28000000000000,
          29000000000000,
          30000000000000,
          31000000000000,
          32000000000000,
          33000000000000,
          34000000000000,
          35000000000000,
          36000000000000,
          37000000000000,
          38000000000000,
          39000000000000,
          40000000000000
         ],
         "y": {
          "bdata": "Mu3duX4t7j+n/Rp87ZXwP23kihKph/A/h8xI0baF8D/HK0wmSYXwP/iw4jEphfA/HiQV/h6F8D/ywh/UHYXwP9DKXdYchfA/Xdf9lByF8D8PwSxnHIXwPzIGZlcchfA/VajORxyF8D8xr5I4HIXwP2+RiDschfA/kXeEPhyF8D+XYYZBHIXwPz/OkkQchfA/jNB7SRyF8D+jYWZOHIXwP4eBUlMchfA/RwQ2WByF8D+NauxYHIXwP8vaolkchfA/AlVZWhyF8D+rWQ1bHIXwP8efulochfA/n+tnWhyF8D8rPRVaHIXwP2YQwlkchfA/QaY4WRyF8D8IPq9YHIXwP7LXJVgchfA/aducVxyF8D+1qz5XHIXwP8584FYchfA/u06CVhyF8D/B6yRWHIXwPwioGlYchfA/hmQQVhyF8D89IQZWHIXwPw==",
          "dtype": "f8"
         }
        },
        {
         "line": {
          "color": "rgb(1, 84, 181)"
         },
         "mode": "lines",
         "name": "009",
         "opacity": 0.4,
         "type": "scatter",
         "x": [
          0,
          1000000000000,
          2000000000000,
          3000000000000,
          4000000000000,
          5000000000000,
          6000000000000,
          7000000000000,
          8000000000000,
          9000000000000,
          10000000000000,
          11000000000000,
          12000000000000,
          13000000000000,
          14000000000000,
          15000000000000,
          16000000000000,
          17000000000000,
          18000000000000,
          19000000000000,
          20000000000000,
          21000000000000,
          22000000000000,
          23000000000000,
          24000000000000,
          25000000000000,
          26000000000000,
          27000000000000,
          28000000000000,
          29000000000000,
          30000000000000,
          31000000000000,
          32000000000000,
          33000000000000,
          34000000000000,
          35000000000000,
          36000000000000,
          37000000000000,
          38000000000000,
          39000000000000,
          40000000000000
         ],
         "y": {
          "bdata": "ercoImwi7j8oLORYNB/wP/9gel0HJvA/7VjO8Y8i8D/SVPZLUCHwP5XSw5HqIPA/gMfY4twg8D/2Yjm/1iDwP+eO77rSIPA/HIyHLtYg8D97giZ92iDwP+zJmQXZIPA/sehUFNYg8D+V6IYl1CDwP++m6NHTIPA/enSPw9Mg8D/SldTl0yDwP5NhCuXTIPA/bQdMt9Mg8D8MbxzY0yDwP3ArygTUIPA/GABgM9Qg8D8TvstD1CDwP8Lbm0PUIPA/FjhzQ9Qg8D80u2Y21CDwP7UgLxnUIPA/VEL9+9Mg8D8NINHe0yDwP2iJF87TIPA/MOjyzNMg8D9xzs7L0yDwPy48q8rTIPA/V3caytMg8D+SNEHK0yDwPyT3Z8rTIPA/A7+OytMg8D90+6XK0yDwP5y5qcrTIPA/zXutytMg8D8IQrHK0yDwPw==",
          "dtype": "f8"
         }
        },
        {
         "line": {
          "color": "rgb(1, 109, 191)"
         },
         "mode": "lines",
         "name": "010",
         "opacity": 0.4,
         "type": "scatter",
         "x": [
          0,
          1000000000000,
          2000000000000,
          3000000000000,
          4000000000000,
          5000000000000,
          6000000000000,
          7000000000000,
          8000000000000,
          9000000000000,
          10000000000000,
          11000000000000,
          12000000000000,
          13000000000000,
          14000000000000,
          15000000000000,
          16000000000000,
          17000000000000,
          18000000000000,
          19000000000000,
          20000000000000,
          21000000000000,
          22000000000000,
          23000000000000,
          24000000000000,
          25000000000000,
          26000000000000,
          27000000000000,
          28000000000000,
          29000000000000,
          30000000000000,
          31000000000000,
          32000000000000,
          33000000000000,
          34000000000000,
          35000000000000,
          36000000000000,
          37000000000000,
          38000000000000,
          39000000000000,
          40000000000000
         ],
         "y": {
          "bdata": "7V7V7ikV7j+oyua3txXuP2ScJFYNIO4/EySdgf2d7z9YIqHO/YPwP3GcsjLIjvA/bx3+Z7+O8D+irZvQwo7wPxrwA6DSjvA/j80jNN2O8D8qQjm+4Y7wP1WsAiXijvA/K2Mkf+GO8D+LI1TZ4I7wP3PtkTPgjvA/AasVxd+O8D/vBAui347wP+TZAH/fjvA/3Cn3W9+O8D8OqY5G347wP0vEw0PfjvA/VOP4QN+O8D8iBi4+347wP5cZ5z3fjvA/FsMPQd+O8D+xbDhE347wP2YWYUffjvA/womSSt+O8D8H/s9N347wP1lyDVHfjvA/u+ZKVN+O8D856B9Y347wP2Dtw1zfjvA/mvJnYd+O8D/o9wtm347wP6LT9mrfjvA/YXJCcN+O8D9AEY51347wPzmw2XrfjvA/lkZ6gN+O8D+e7I6G347wPw==",
          "dtype": "f8"
         }
        },
        {
         "line": {
          "color": "rgb(2, 133, 202)"
         },
         "mode": "lines",
         "name": "011",
         "opacity": 0.4,
         "type": "scatter",
         "x": [
          0,
          1000000000000,
          2000000000000,
          3000000000000,
          4000000000000,
          5000000000000,
          6000000000000,
          7000000000000,
          8000000000000,
          9000000000000,
          10000000000000,
          11000000000000,
          12000000000000,
          13000000000000,
          14000000000000,
          15000000000000,
          16000000000000,
          17000000000000,
          18000000000000,
          19000000000000,
          20000000000000,
          21000000000000,
          22000000000000,
          23000000000000,
          24000000000000,
          25000000000000,
          26000000000000,
          27000000000000,
          28000000000000,
          29000000000000,
          30000000000000,
          31000000000000,
          32000000000000,
          33000000000000,
          34000000000000,
          35000000000000,
          36000000000000,
          37000000000000,
          38000000000000,
          39000000000000,
          40000000000000
         ],
         "y": {
          "bdata": "7z/6r8MO7j8AX/58NA/uP4nwQFlSD+4/oGdPcV4P7j9Nll1RZQ/uP/mIpMxpD+4/dlPGC2sP7j/nZj9LbA/uP07DD4ttD+4/ZipzWm4P7j89DveRbg/uP6ePkMluD+4/u64/AW8P7j/WN70kbw/uPzFa7ixvD+4/nUolNW8P7j8LCWI9bw/uP5doSEJvD+4/oOOpQm8P7j848gxDbw/uP2iUcUNvD+4/HKtxQ28P7j8P1uhCbw/uP9duYEJvD+4/dnXYQW8P7j+RqV1Bbw/uP4hC9EBvD+4/WfmKQG8P7j8NziFAbw/uP8dVyz9vD+4/fPmNP28P7j9OpVA/bw/uPz1ZEz9vD+4/jQniPm8P7j+E28A+bw/uP7ivnz5vD+4/JoZ+Pm8P7j/3BmQ+bw/uP3iCUj5vD+4/nP5APm8P7j9Qey8+bw/uPw==",
          "dtype": "f8"
         }
        },
        {
         "line": {
          "color": "rgb(2, 157, 212)"
         },
         "mode": "lines",
         "name": "012",
         "opacity": 0.4,
         "type": "scatter",
         "x": [
          0,
          1000000000000,
          2000000000000,
          3000000000000,
          4000000000000,
          5000000000000,
          6000000000000,
          7000000000000,
          8000000000000,
          9000000000000,
          10000000000000,
          11000000000000,
          12000000000000,
          13000000000000,
          14000000000000,
          15000000000000,
          16000000000000,
          17000000000000,
          18000000000000,
          19000000000000,
          20000000000000,
          21000000000000,
          22000000000000,
          23000000000000,
          24000000000000,
          25000000000000,
          26000000000000,
          27000000000000,
          28000000000000,
          29000000000000,
          30000000000000,
          31000000000000,
          32000000000000,
          33000000000000,
          34000000000000,
          35000000000000,
          36000000000000,
          37000000000000,
          38000000000000,
          39000000000000,
          40000000000000
         ],
         "y": {
          "bdata": "Fr/ASFwo7j9V7Zk8ynHwP8nLKbqwD/I/TUhPQd4H8j/KQp+HxQnyP91nFV5pC/I/+SGUIGYM8j8/WoOXHg3yPw3EueqgDfI/jAWA+QoO8j9uLmq6QQ7yPx/9SxlsDvI/lHK6cV8O8j9g+Q2bZw7yPwr5BPtdDvI/VKzj620O8j9D3Ue5eA7yP3J2bxGIDvI/V1Fc340O8j9vg8qskQ7yP340BX6NDvI/259fPYwO8j/XWP7iiA7yP2XLoz2IDvI/Zu/coocO8j8MPn2ehw7yP4ucfVKHDvI/4ws8WoYO8j88x1o7hQ7yP5rffg+FDvI/iVMho4QO8j+f68bTgw7yP6uxxByDDvI/1YF11oIO8j/jmfKJgg7yP6XPeC6CDvI/2WDp4YEO8j9ze7GogQ7yPxyiRnGBDvI/N56KOYEO8j87lIcFgQ7yPw==",
          "dtype": "f8"
         }
        },
        {
         "line": {
          "color": "rgb(3, 182, 223)"
         },
         "mode": "lines",
         "name": "013",
         "opacity": 0.4,
         "type": "scatter",
         "x": [
          0,
          1000000000000,
          2000000000000,
          3000000000000,
          4000000000000,
          5000000000000,
          6000000000000,
          7000000000000,
          8000000000000,
          9000000000000,
          10000000000000,
          11000000000000,
          12000000000000,
          13000000000000,
          14000000000000,
          15000000000000,
          16000000000000,
          17000000000000,
          18000000000000,
          19000000000000,
          20000000000000,
          21000000000000,
          22000000000000,
          23000000000000,
          24000000000000,
          25000000000000,
          26000000000000,
          27000000000000,
          28000000000000,
          29000000000000,
          30000000000000,
          31000000000000,
          32000000000000,
          33000000000000,
          34000000000000,
          35000000000000,
          36000000000000,
          37000000000000,
          38000000000000,
          39000000000000,
          40000000000000
         ],
         "y": {
          "bdata": "1p3AK80N7j9zq2f6Og7uP7uCThBYDu4/cEMbZGQO7j+nIhG5ag7uP2/hw4dvDu4/X42Ns3AO7j+5b2XfcQ7uP2+ISwtzDu4/lXjm7nMO7j+fR1cmdA7uP0opyV10Du4/kR08lXQO7j8Mu0i/dA7uP5E5b8l0Du4/xdOV03QO7j+cibzddA7uP0Oda+V0Du4/Mjo753QO7j9L2grpdA7uP5V92up0Du4/Rj047HQO7j8m6obsdA7uP2eX1ex0Du4/CUUk7XQO7j/oLF/tdA7uP1EFa+10Du4/w9127XQO7j9JtoLtdA7uP35oi+10Du4/pZuM7XQO7j/Szo3tdA7uP/4Bj+10Du4/NtCP7XQO7j8iro/tdA7uPxCMj+10Du4/92mP7XQO7j+XRo/tdA7uPxkgj+10Du4/lPmO7XQO7j8X047tdA7uPw==",
          "dtype": "f8"
         }
        },
        {
         "line": {
          "color": "rgb(4, 206, 234)"
         },
         "mode": "lines",
         "name": "014",
         "opacity": 0.4,
         "type": "scatter",
         "x": [
          0,
          1000000000000,
          2000000000000,
          3000000000000,
          4000000000000,
          5000000000000,
          6000000000000,
          7000000000000,
          8000000000000,
          9000000000000,
          10000000000000,
          11000000000000,
          12000000000000,
          13000000000000,
          14000000000000,
          15000000000000,
          16000000000000,
          17000000000000,
          18000000000000,
          19000000000000,
          20000000000000,
          21000000000000,
          22000000000000,
          23000000000000,
          24000000000000,
          25000000000000,
          26000000000000,
          27000000000000,
          28000000000000,
          29000000000000,
          30000000000000,
          31000000000000,
          32000000000000,
          33000000000000,
          34000000000000,
          35000000000000,
          36000000000000,
          37000000000000,
          38000000000000,
          39000000000000,
          40000000000000
         ],
         "y": {
          "bdata": "FRcVccQL7j9Nzg+PLQzuP/zzZRZJDO4/IM7VaFMM7j8370BQWgzuP1AKFp9dDO4/W3MT514M7j8QfxovYAzuP20tK3dhDO4/TuuNFGIM7j82VM1RYgzuP9UTDY9iDO4/MypNzGIM7j/mqbLpYgzuPwp5J/ViDO4/QkucAGMM7j+IIBEMYwzuPwy8kBFjDO4/Olm1E2MM7j+E9tkVYwzuP+iT/hdjDO4/IOYFGWMM7j+6i2wZYwzuP1gx0xljDO4/9NY5GmMM7j+OG2saYwzuPy5QfhpjDO4/1ISRGmMM7j90uaQaYwzuP0rxrRpjDO4/K4mxGmMM7j8PIbUaYwzuP++4uBpjDO4/c3K6GmMM7j+GHrsaYwzuP5zKuxpjDO4/tna8GmMM7j9KybwaYwzuP3zpvBpjDO4/rAm9GmMM7j/bKb0aYwzuPw==",
          "dtype": "f8"
         }
        },
        {
         "line": {
          "color": "rgb(4, 231, 244)"
         },
         "mode": "lines",
         "name": "015",
         "opacity": 0.4,
         "type": "scatter",
         "x": [
          0,
          1000000000000,
          2000000000000,
          3000000000000,
          4000000000000,
          5000000000000,
          6000000000000,
          7000000000000,
          8000000000000,
          9000000000000,
          10000000000000,
          11000000000000,
          12000000000000,
          13000000000000,
          14000000000000,
          15000000000000,
          16000000000000,
          17000000000000,
          18000000000000,
          19000000000000,
          20000000000000,
          21000000000000,
          22000000000000,
          23000000000000,
          24000000000000,
          25000000000000,
          26000000000000,
          27000000000000,
          28000000000000,
          29000000000000,
          30000000000000,
          31000000000000,
          32000000000000,
          33000000000000,
          34000000000000,
          35000000000000,
          36000000000000,
          37000000000000,
          38000000000000,
          39000000000000,
          40000000000000
         ],
         "y": {
          "bdata": "qJDFZN0q7j/N7dx6J1rwPywZEWFAR/A/uN4zJrRD8D9XKQEBSUPwPwDHZ+UTQ/A/Hkff1PpC8D9zAnX28ELwP5OJWT7sQvA/pkUFre1C8D/b55km70LwP6ra8Z3vQvA/O7EYPe9C8D/e++oD70LwP+WAgtfuQvA/rQ0ntO5C8D+zIzSU7kLwP0agmYnuQvA/1a0Eh+5C8D/MfnSE7kLwPykT6YHuQvA/xwddhe5C8D9b5kKL7kLwP/5AL5HuQvA/sBcil+5C8D8OMOWa7kLwPxmAxJ3uQvA/yWykoO5C8D8f9oSj7kLwP0mb4aTuQvA/bRShpe5C8D/alWCm7kLwP4ofIKfuQvA/Kovepu5C8D/o5TSm7kLwPwZMi6XuQvA/gL3hpO5C8D/aqwSk7kLwP5vGEqPuQvA/YO0gou5C8D8hIC+h7kLwPw==",
          "dtype": "f8"
         }
        },
        {
         "line": {
          "color": "rgb(5, 255, 255)"
         },
         "mode": "lines",
         "name": "016",
         "opacity": 0.4,
         "type": "scatter",
         "x": [
          0,
          1000000000000,
          2000000000000,
          3000000000000,
          4000000000000,
          5000000000000,
          6000000000000,
          7000000000000,
          8000000000000,
          9000000000000,
          10000000000000,
          11000000000000,
          12000000000000,
          13000000000000,
          14000000000000,
          15000000000000,
          16000000000000,
          17000000000000,
          18000000000000,
          19000000000000,
          20000000000000,
          21000000000000,
          22000000000000,
          23000000000000,
          24000000000000,
          25000000000000,
          26000000000000,
          27000000000000,
          28000000000000,
          29000000000000,
          30000000000000,
          31000000000000,
          32000000000000,
          33000000000000,
          34000000000000,
          35000000000000,
          36000000000000,
          37000000000000,
          38000000000000,
          39000000000000,
          40000000000000
         ],
         "y": {
          "bdata": "Rj5SR0MM7j/6JB1wtwzuP0f+xqTVDO4/2DO7Ut0M7j9Dz1Gj4AzuP+dTX9zhDO4/Zd1Y/uIM7j+X+wA54wzuP1xqqXPjDO4/uylSruMM7j8Blqbk4wzuP+bVou/jDO4/pRif+uMM7j9AXpsF5AzuP+AGyA/kDO4/QZbWEeQM7j+2JeUT5AzuP0a18xXkDO4/uWTbF+QM7j/8+D0Y5AzuPziNoBjkDO4/cyEDGeQM7j9ubl4Z5AzuP/bhcBnkDO4/flWDGeQM7j8IyZUZ5AzuP8zfphnkDO4/zFOqGeQM7j/Kx60Z5AzuP8s7sRnkDO4/hG60GeQM7j/rE7UZ5AzuP1C5tRnkDO4/tl62GeQM7j/o97YZ5AzuP9MWtxnkDO4/yjW3GeQM7j+4VLcZ5AzuP2FxtxnkDO4/J3e3GeQM7j/wfLcZ5AzuPw==",
          "dtype": "f8"
         }
        },
        {
         "line": {
          "color": "rgb(36, 255, 223)"
         },
         "mode": "lines",
         "name": "017",
         "opacity": 0.4,
         "type": "scatter",
         "x": [
          0,
          1000000000000,
          2000000000000,
          3000000000000,
          4000000000000,
          5000000000000,
          6000000000000,
          7000000000000,
          8000000000000,
          9000000000000,
          10000000000000,
          11000000000000,
          12000000000000,
          13000000000000,
          14000000000000,
          15000000000000,
          16000000000000,
          17000000000000,
          18000000000000,
          19000000000000,
          20000000000000,
          21000000000000,
          22000000000000,
          23000000000000,
          24000000000000,
          25000000000000,
          26000000000000,
          27000000000000,
          28000000000000,
          29000000000000,
          30000000000000,
          31000000000000,
          32000000000000,
          33000000000000,
          34000000000000,
          35000000000000,
          36000000000000,
          37000000000000,
          38000000000000,
          39000000000000,
          40000000000000
         ],
         "y": {
          "bdata": "67mOYlkg7j9prr+ybPnuP9tq/0R2s/A/yKZCGPjS8T/kawEFLc/xP1F6hJD5zvE/4UuOKRzP8T/LrzWgJ8/xP5h5AC0pz/E/kYF2aSjP8T8M2QK8J8/xP5rF8JQnz/E/hjFocCfP8T9c5IRiJ8/xP4CPolQnz/E/7zLBRifP8T/fAo87J8/xP2I88jknz/E/hoBVOCfP8T9Oz7g2J8/xP4w8djUnz/E/QK91NSfP8T9LInU1J8/xP6qVdDUnz/E/2u5oNSfP8T/1ljU1J8/xPxk/AjUnz/E/SOfONCfP8T9k+6U0J8/xP31QojQnz/E/lKWeNCfP8T+t+po0J8/xP11NlzQnz/E/d5eTNCfP8T+P4Y80J8/xP6crjDQnz/E/PTiJNCfP8T8V/Ig0J8/xP+y/iDQnz/E/xYOINCfP8T9ST4g0J8/xPw==",
          "dtype": "f8"
         }
        },
        {
         "line": {
          "color": "rgb(67, 255, 191)"
         },
         "mode": "lines",
         "name": "018",
         "opacity": 0.4,
         "type": "scatter",
         "x": [
          0,
          1000000000000,
          2000000000000,
          3000000000000,
          4000000000000,
          5000000000000,
          6000000000000,
          7000000000000,
          8000000000000,
          9000000000000,
          10000000000000,
          11000000000000,
          12000000000000,
          13000000000000,
          14000000000000,
          15000000000000,
          16000000000000,
          17000000000000,
          18000000000000,
          19000000000000,
          20000000000000,
          21000000000000,
          22000000000000,
          23000000000000,
          24000000000000,
          25000000000000,
          26000000000000,
          27000000000000,
          28000000000000,
          29000000000000,
          30000000000000,
          31000000000000,
          32000000000000,
          33000000000000,
          34000000000000,
          35000000000000,
          36000000000000,
          37000000000000,
          38000000000000,
          39000000000000,
          40000000000000
         ],
         "y": {
          "bdata": "MdeTdiMX7j85xHvU5xfuPwBsUIqIc+4//Qu04c5n8D+IUTqgr8vwP+ylO8pazfA/Rm3+MifN8D9y6eIJQc3wP78JuN1SzfA/chyh0lfN8D9P9hSrWc3wP3B+mhpazfA/tPfrIFrN8D81mWsmWs3wPxGRCSZazfA/D+enJVrN8D8qm0YlWs3wPxblTSVazfA/EoUtKFrN8D8HKg0rWs3wP/XT7C1azfA/I7gvMVrN8D+byCc3Ws3wP1XZHz1azfA/TOoXQ1rN8D86XwFJWs3wPzi/hE5azfA/Wx8IVFrN8D+rf4tZWs3wP62aNF9azfA/pFHlZVrN8D/ACJZsWs3wPwLARnNazfA//8PxeVrN8D8j83SAWs3wP2wi+IZazfA/2lF7jVrN8D/eaRCUWs3wPzShIptazfA/udg0olrN8D9nEEepWs3wPw==",
          "dtype": "f8"
         }
        },
        {
         "line": {
          "color": "rgb(99, 255, 159)"
         },
         "mode": "lines",
         "name": "019",
         "opacity": 0.4,
         "type": "scatter",
         "x": [
          0,
          1000000000000,
          2000000000000,
          3000000000000,
          4000000000000,
          5000000000000,
          6000000000000,
          7000000000000,
          8000000000000,
          9000000000000,
          10000000000000,
          11000000000000,
          12000000000000,
          13000000000000,
          14000000000000,
          15000000000000,
          16000000000000,
          17000000000000,
          18000000000000,
          19000000000000,
          20000000000000,
          21000000000000,
          22000000000000,
          23000000000000,
          24000000000000,
          25000000000000,
          26000000000000,
          27000000000000,
          28000000000000,
          29000000000000,
          30000000000000,
          31000000000000,
          32000000000000,
          33000000000000,
          34000000000000,
          35000000000000,
          36000000000000,
          37000000000000,
          38000000000000,
          39000000000000,
          40000000000000
         ],
         "y": {
          "bdata": "Yt4Z/8oW7j8ZJy0OUhfuP1cynr0JGO4/9u7XHBFN7j8Vae5FyvXvPxloo6huQfA/JCmI06BF8D/n+uIZ3UXwP/LI9EANRvA/0jh0kixG8D9GXPCCO0bwPzR/RGM+RvA/iNpBVz1G8D8mCr1CPEbwP5iE5z87RvA/aAEzxTpG8D9BRJAdOkbwPw9OGM45RvA/351qVjlG8D+h6nXuOEbwP7kD2sU4RvA/h38KrDhG8D+qsRiVOEbwP8laM4Q4RvA/lKsleThG8D/tWJlzOEbwP7lVoYA4RvA/ARqxjjhG8D/xIcmcOEbwP4Rt6ao4RvA/6s0wrjhG8D+F5MiwOEbwP5fKYrM4RvA/IYD+tThG8D+v5fa2OEbwP97n1Lc4RvA/NkqzuDhG8D+5DJK5OEbwP/Rj97k4RvA/zQ9VujhG8D+xzrK6OEbwPw==",
          "dtype": "f8"
         }
        },
        {
         "line": {
          "color": "rgb(130, 255, 128)"
         },
         "mode": "lines",
         "name": "020",
         "opacity": 0.4,
         "type": "scatter",
         "x": [
          0,
          1000000000000,
          2000000000000,
          3000000000000,
          4000000000000,
          5000000000000,
          6000000000000,
          7000000000000,
          8000000000000,
          9000000000000,
          10000000000000,
          11000000000000,
          12000000000000,
          13000000000000,
          14000000000000,
          15000000000000,
          16000000000000,
          17000000000000,
          18000000000000,
          19000000000000,
          20000000000000,
          21000000000000,
          22000000000000,
          23000000000000,
          24000000000000,
          25000000000000,
          26000000000000,
          27000000000000,
          28000000000000,
          29000000000000,
          30000000000000,
          31000000000000,
          32000000000000,
          33000000000000,
          34000000000000,
          35000000000000,
          36000000000000,
          37000000000000,
          38000000000000,
          39000000000000,
          40000000000000
         ],
         "y": {
          "bdata": "hVdcP1wb7j8fNDn0OwDvP1QViuk9nvA/cm0ZQ7aT8D/S7nzxF5PwP+A8RK72kvA/buWtfu2S8D8zawi37ZLwP+cURnXukvA/OT3mTPCS8D+uhTk78ZLwP7Dlw9zskvA/i/M3tfGS8D8Q7k6+2pLwPzLBtQPqkvA/dvKyWMeS8D9BGWlagZLwP0H8xpFfkvA/fFYjWx+R8D92mSwmbY7wPwqEyLUvhvA/Y8+eOJPl8T/WoesegenxP/MN8wXo5/E/U/9Qyp/n8T+//bAWqufxP0TeTc215/E/MCBwxrrn8T9yd/kCu+fxPy0wK7O65/E/5aHQmbrn8T/4m3qAuufxP9Y5XnC65/E/5Ok9bbrn8T/o4h1quufxP90k/ma65/E/I8puZbrn8T8oghNmuufxPwk+uGa65/E/wP1cZ7rn8T9y8s9nuufxPw==",
          "dtype": "f8"
         }
        },
        {
         "line": {
          "color": "rgb(161, 255, 96)"
         },
         "mode": "lines",
         "name": "021",
         "opacity": 0.4,
         "type": "scatter",
         "x": [
          0,
          1000000000000,
          2000000000000,
          3000000000000,
          4000000000000,
          5000000000000,
          6000000000000,
          7000000000000,
          8000000000000,
          9000000000000,
          10000000000000,
          11000000000000,
          12000000000000,
          13000000000000,
          14000000000000,
          15000000000000,
          16000000000000,
          17000000000000,
          18000000000000,
          19000000000000,
          20000000000000,
          21000000000000,
          22000000000000,
          23000000000000,
          24000000000000,
          25000000000000,
          26000000000000,
          27000000000000,
          28000000000000,
          29000000000000,
          30000000000000,
          31000000000000,
          32000000000000,
          33000000000000,
          34000000000000,
          35000000000000,
          36000000000000,
          37000000000000,
          38000000000000,
          39000000000000,
          40000000000000
         ],
         "y": {
          "bdata": "zGk+FvAZ7j8LCtLe6RvuP5Cm+lKSou8/eT0jRzrZ7z/MfxGtc9LvP2qdw/qi0e8/6nl7Nl7R7z8HzHULWdHvPyUMaZFo0e8/ZO/9pn/R7z8HPCSNmdHvP0RDVdS30e8///mXDNXR7z9ncCoR7dHvP8mQHNL70e8/zfskxS/S7z8QiyC9a9LvP2FW0r4v0u8/KPpv4IbQ7z85PK7Y4cvvP00rQsdUd/A/Zb/ZKQO/8D9SVBTHsr7wPxQWZquNvvA/p6IyMIu+8D+yLgZ8jL7wP0TqQLiNvvA/oGUitI6+8D9DeypQj77wPyOtZYuPvvA//zW7xo++8D/dFSsCkL7wP4I+qSWQvvA/QANAMZC+8D/AINg8kL7wP/uWcUiQvvA//spaT5C+8D+pdJhRkL7wPwcw1lOQvvA/Gv0TVpC+8D935FNXkL7wPw==",
          "dtype": "f8"
         }
        },
        {
         "line": {
          "color": "rgb(192, 255, 64)"
         },
         "mode": "lines",
         "name": "022",
         "opacity": 0.4,
         "type": "scatter",
         "x": [
          0,
          1000000000000,
          2000000000000,
          3000000000000,
          4000000000000,
          5000000000000,
          6000000000000,
          7000000000000,
          8000000000000,
          9000000000000,
          10000000000000,
          11000000000000,
          12000000000000,
          13000000000000,
          14000000000000,
          15000000000000,
          16000000000000,
          17000000000000,
          18000000000000,
          19000000000000,
          20000000000000,
          21000000000000,
          22000000000000,
          23000000000000,
          24000000000000,
          25000000000000,
          26000000000000,
          27000000000000,
          28000000000000,
          29000000000000,
          30000000000000,
          31000000000000,
          32000000000000,
          33000000000000,
          34000000000000,
          35000000000000,
          36000000000000,
          37000000000000,
          38000000000000,
          39000000000000,
          40000000000000
         ],
         "y": {
          "bdata": "Es3V78kh7j+q96uhsnDvPxRQpJhBFfA/OuX1bTwQ8D/8i+xrOhDwP6ODFB0mD/A/eoPR1joO8D8odJFGQg7wP4W31hJODvA/C679FTMO8D8RcmG9Ng7wP0aGSmNADvA/PbaZnj4O8D8apdPrMg7wP0Ws4qwrDvA/X2l3zyoO8D+dD4AkKw7wP7hRlJUrDvA/1TbY4S0O8D9mJDOGLw7wPyECqDwwDvA/6VqcYS8O8D9faVOKLg7wPybpvx0uDvA/VFoy3S0O8D/On0ixLQ7wP5Nzqq0tDvA/8ak3qi0O8D986uWpLQ7wPwegKqotDvA/qDqGqi0O8D9euviqLQ7wP1xESq4tDvA/wJIXsi0O8D+ww+i1LQ7wPyvXvbktDvA/tQS+uy0O8D+/8G+9LQ7wP3IHIr8tDvA/zUjUwC0O8D86kafALQ7wPw==",
          "dtype": "f8"
         }
        },
        {
         "line": {
          "color": "rgb(224, 255, 32)"
         },
         "mode": "lines",
         "name": "023",
         "opacity": 0.4,
         "type": "scatter",
         "x": [
          0,
          1000000000000,
          2000000000000,
          3000000000000,
          4000000000000,
          5000000000000,
          6000000000000,
          7000000000000,
          8000000000000,
          9000000000000,
          10000000000000,
          11000000000000,
          12000000000000,
          13000000000000,
          14000000000000,
          15000000000000,
          16000000000000,
          17000000000000,
          18000000000000,
          19000000000000,
          20000000000000,
          21000000000000,
          22000000000000,
          23000000000000,
          24000000000000,
          25000000000000,
          26000000000000,
          27000000000000,
          28000000000000,
          29000000000000,
          30000000000000,
          31000000000000,
          32000000000000,
          33000000000000,
          34000000000000,
          35000000000000,
          36000000000000,
          37000000000000,
          38000000000000,
          39000000000000,
          40000000000000
         ],
         "y": {
          "bdata": "axetAKwM7j8T2jxbFw3uPz7efbYzDe4/nV8LGj8N7j8Qhfy3RQ3uP1D5p+5JDe4/qi8JJUsN7j9SOIVbTA3uP1ATHJJNDe4/ivmcV04N7j8oRwyQTg3uPyDffshODe4/dsH0AE8N7j8N4bUkTw3uPxASpC5PDe4/UsOSOE8N7j/I9IFCTw3uP8FTvEhPDe4/AnBXSk8N7j8DofJLTw3uP7HmjU1PDe4/bEeITk8N7j8CA7pOTw3uP/vB605PDe4/U4QdT08N7j+nZzhPTw3uPwfFNk9PDe4/+SI1T08N7j9zgTNPTw3uP5N+ME9PDe4/ucIrT08N7j/3BidPTw3uP0dLIk9PDe4/1HkeT08N7j87zBtPTw3uP6QeGU9PDe4/GnEWT08N7j/xaBRPTw3uP/IuE09PDe4/9/QRT08N7j/7uhBPTw3uPw==",
          "dtype": "f8"
         }
        },
        {
         "line": {
          "color": "rgb(255, 255, 0)"
         },
         "mode": "lines",
         "name": "024",
         "opacity": 0.4,
         "type": "scatter",
         "x": [
          0,
          1000000000000,
          2000000000000,
          3000000000000,
          4000000000000,
          5000000000000,
          6000000000000,
          7000000000000,
          8000000000000,
          9000000000000,
          10000000000000,
          11000000000000,
          12000000000000,
          13000000000000,
          14000000000000,
          15000000000000,
          16000000000000,
          17000000000000,
          18000000000000,
          19000000000000,
          20000000000000,
          21000000000000,
          22000000000000,
          23000000000000,
          24000000000000,
          25000000000000,
          26000000000000,
          27000000000000,
          28000000000000,
          29000000000000,
          30000000000000,
          31000000000000,
          32000000000000,
          33000000000000,
          34000000000000,
          35000000000000,
          36000000000000,
          37000000000000,
          38000000000000,
          39000000000000,
          40000000000000
         ],
         "y": {
          "bdata": "sluHQrxC7j9Ys7kEmCHyPyXsfwaiGvI/ap/U5XQb8j/K4tfm8BvyP42onL0YHPI/sUt/USIc8j9EIgc4JBzyPwvybbQkHPI/2NDr0iQc8j8tKF/VJBzyPxhvedAkHPI/OweayyQc8j8bFlrGJBzyP+3a8rokHPI/Vb2SryQc8j9MvTmkJBzyP2rFV5kkHPI/K6sylSQc8j++vw2RJBzyPyYD6YwkHPI/GXUBiSQc8j8mPsSIJBzyP/kJh4gkHPI/k9hJiCQc8j8BMiSIJBzyP12MaIkkHPI/Nv+siiQc8j+KivGLJBzyP2U1OY0kHPI/GISvjiQc8j8I4CWQJBzyPzhJnJEkHPI/LnwAkyQc8j/my0uTJBzyPyMfl5MkHPI/4XXikyQc8j8gEyeUJBzyP1cNBJQkHPI/AAjhkyQc8j8ZA76TJBzyPw==",
          "dtype": "f8"
         }
        },
        {
         "line": {
          "color": "rgb(254, 223, 0)"
         },
         "mode": "lines",
         "name": "025",
         "opacity": 0.4,
         "type": "scatter",
         "x": [
          0,
          1000000000000,
          2000000000000,
          3000000000000,
          4000000000000,
          5000000000000,
          6000000000000,
          7000000000000,
          8000000000000,
          9000000000000,
          10000000000000,
          11000000000000,
          12000000000000,
          13000000000000,
          14000000000000,
          15000000000000,
          16000000000000,
          17000000000000,
          18000000000000,
          19000000000000,
          20000000000000,
          21000000000000,
          22000000000000,
          23000000000000,
          24000000000000,
          25000000000000,
          26000000000000,
          27000000000000,
          28000000000000,
          29000000000000,
          30000000000000,
          31000000000000,
          32000000000000,
          33000000000000,
          34000000000000,
          35000000000000,
          36000000000000,
          37000000000000,
          38000000000000,
          39000000000000,
          40000000000000
         ],
         "y": {
          "bdata": "Cl9lsjoO7j9HnXRuqw7uP/1WLqnIDu4/fI3x39MO7j/NNXbu2g7uPxvH4ILeDu4/tvkf0t8O7j+5uW4h4Q7uPyMHzXDiDu4/WxToGuMO7j9tQC5Z4w7uP9dydZfjDu4/j6u91eMO7j8/hUj14w7uP7l8xQDkDu4/QItCDOQO7j/QsL8X5A7uPy6djB3kDu4/1Y2jH+QO7j/ggLoh5A7uP0V20SPkDu4/eZvdJOQO7j9esjsl5A7uP4fJmSXkDu4/9OD3JeQO7j+jcSYm5A7uP18BNibkDu4/JpFFJuQO7j/2IFUm5A7uP8OcXCbkDu4/g9NeJuQO7j9ACmEm5A7uPwJBYybkDu4/NzxkJuQO7j+faWQm5A7uPwWXZCbkDu4/a8RkJuQO7j8Vz2Qm5A7uPxLDZCbkDu4/FrdkJuQO7j8Uq2Qm5A7uPw==",
          "dtype": "f8"
         }
        },
        {
         "line": {
          "color": "rgb(254, 191, 0)"
         },
         "mode": "lines",
         "name": "026",
         "opacity": 0.4,
         "type": "scatter",
         "x": [
          0,
          1000000000000,
          2000000000000,
          3000000000000,
          4000000000000,
          5000000000000,
          6000000000000,
          7000000000000,
          8000000000000,
          9000000000000,
          10000000000000,
          11000000000000,
          12000000000000,
          13000000000000,
          14000000000000,
          15000000000000,
          16000000000000,
          17000000000000,
          18000000000000,
          19000000000000,
          20000000000000,
          21000000000000,
          22000000000000,
          23000000000000,
          24000000000000,
          25000000000000,
          26000000000000,
          27000000000000,
          28000000000000,
          29000000000000,
          30000000000000,
          31000000000000,
          32000000000000,
          33000000000000,
          34000000000000,
          35000000000000,
          36000000000000,
          37000000000000,
          38000000000000,
          39000000000000,
          40000000000000
         ],
         "y": {
          "bdata": "7Oxv204d7j/1KJFVvNruP91zwyDIaPA/GhGAIVhg8D8nSwfcPGDwP6xQdzgzYPA/tOi9oyxg8D/GnkMvK2DwPyKelT8rYPA/WtP36ipg8D/BBSqaKmDwP6c1WPcpYPA/Yo33FCpg8D9lcIp8KmDwP+jeLcopYPA/TitJoilg8D+WVdwEKmDwP5q+54cqYPA/uLyn8ilg8D9ClNbAKWDwPzZFdPIpYPA/wCzOPSpg8D9D2k7JKWDwPzqh5JwpYPA/pYGPuClg8D+r6EX/KWDwPy5LSvQpYPA/W3Aq4ilg8D9Ur4rDKWDwP9SBVJ4pYPA/azvDmilg8D+Uzz6UKWDwP00U+oUpYPA/COs8cilg8D8eShBxKWDwPyph2mopYPA/mF6xWylg8D9v5+1GKWDwP2KPeEYpYPA//TpEQylg8D8zimE6KWDwPw==",
          "dtype": "f8"
         }
        },
        {
         "line": {
          "color": "rgb(253, 159, 0)"
         },
         "mode": "lines",
         "name": "027",
         "opacity": 0.4,
         "type": "scatter",
         "x": [
          0,
          1000000000000,
          2000000000000,
          3000000000000,
          4000000000000,
          5000000000000,
          6000000000000,
          7000000000000,
          8000000000000,
          9000000000000,
          10000000000000,
          11000000000000,
          12000000000000,
          13000000000000,
          14000000000000,
          15000000000000,
          16000000000000,
          17000000000000,
          18000000000000,
          19000000000000,
          20000000000000,
          21000000000000,
          22000000000000,
          23000000000000,
          24000000000000,
          25000000000000,
          26000000000000,
          27000000000000,
          28000000000000,
          29000000000000,
          30000000000000,
          31000000000000,
          32000000000000,
          33000000000000,
          34000000000000,
          35000000000000,
          36000000000000,
          37000000000000,
          38000000000000,
          39000000000000,
          40000000000000
         ],
         "y": {
          "bdata": "nPVj4tUz7j8aw6Q/ACrxP93iQZLuJvE/Wzi+eUAp8T8GkFbcLCrxP0GHix5+KvE/HAJveJkq8T/LU5XsoSrxP5ESJLajKvE/K3KELKQq8T/b5sYJpCrxP2eBCuejKvE/3nwH2aMq8T/b//zToyrxP8YQ9M6jKvE/n6/syaMq8T8avm7IoyrxPzOIeMijKvE/zsyCyKMq8T/ri43IoyrxP/Y0c8ijKvE/07BIyKMq8T8sLh7IoyrxP/6s88ejKvE/cw/Dx6Mq8T9tzo/HoyrxP4aPXMejKvE/wlIpx6Mq8T/FXvrGoyrxPzlHzcajKvE/nzKgxqMq8T/3IHPGoyrxPzdeWsajKvE/KWVKxqMq8T9YbTrGoyrxP8B2KsajKvE/05koxqMq8T981izGoyrxP0cTMcajKvE/NVA1xqMq8T97AUDGoyrxPw==",
          "dtype": "f8"
         }
        },
        {
         "line": {
          "color": "rgb(252, 128, 0)"
         },
         "mode": "lines",
         "name": "028",
         "opacity": 0.4,
         "type": "scatter",
         "x": [
          0,
          1000000000000,
          2000000000000,
          3000000000000,
          4000000000000,
          5000000000000,
          6000000000000,
          7000000000000,
          8000000000000,
          9000000000000,
          10000000000000,
          11000000000000,
          12000000000000,
          13000000000000,
          14000000000000,
          15000000000000,
          16000000000000,
          17000000000000,
          18000000000000,
          19000000000000,
          20000000000000,
          21000000000000,
          22000000000000,
          23000000000000,
          24000000000000,
          25000000000000,
          26000000000000,
          27000000000000,
          28000000000000,
          29000000000000,
          30000000000000,
          31000000000000,
          32000000000000,
          33000000000000,
          34000000000000,
          35000000000000,
          36000000000000,
          37000000000000,
          38000000000000,
          39000000000000,
          40000000000000
         ],
         "y": {
          "bdata": "w1HGRfQ17j/G3Say2Vv0P7hJWwnFUfQ/FClo6+1U9D9uiKbbAFb0P1uAFZhLVvQ/UlNVkWBW9D8WhfKdZVb0P8s0RJ5mVvQ/dF+WOGlW9D80FbXHYlb0P7rsLpdjVvQ/ADxpqFpW9D8Y3tmpWVb0PwmvxItVVvQ/nu3Ck1NW9D8A7ZItUVb0P+ezNMpPVvQ/IA0eWE9W9D+zC+u7Tlb0P40vs/BNVvQ/muiPXU1W9D/gNoECTVb0P9alm5RMVvQ/nFKANExW9D+BnCkLTFb0P4ODlxhMVvQ/hGWJ5ktW9D+jWraZS1b0P769m29LVvQ/1o45aEtW9D/9iHRXS1b0PztB+EJLVvQ/t+34P0tW9D9tjnZOS1b0P9NoDGhLVvQ/4+dKg0tW9D90JYadS1b0P+iHqLNLVvQ/l47Tu0tW9D+E5y20S1b0Pw==",
          "dtype": "f8"
         }
        },
        {
         "line": {
          "color": "rgb(252, 96, 0)"
         },
         "mode": "lines",
         "name": "029",
         "opacity": 0.4,
         "type": "scatter",
         "x": [
          0,
          1000000000000,
          2000000000000,
          3000000000000,
          4000000000000,
          5000000000000,
          6000000000000,
          7000000000000,
          8000000000000,
          9000000000000,
          10000000000000,
          11000000000000,
          12000000000000,
          13000000000000,
          14000000000000,
          15000000000000,
          16000000000000,
          17000000000000,
          18000000000000,
          19000000000000,
          20000000000000,
          21000000000000,
          22000000000000,
          23000000000000,
          24000000000000,
          25000000000000,
          26000000000000,
          27000000000000,
          28000000000000,
          29000000000000,
          30000000000000,
          31000000000000,
          32000000000000,
          33000000000000,
          34000000000000,
          35000000000000,
          36000000000000,
          37000000000000,
          38000000000000,
          39000000000000,
          40000000000000
         ],
         "y": {
          "bdata": "e1kfnFMv7j/l3Ov3MM7wP80HSBveyPA/6J2E34LG8D/uhx7nEsbwP7yI3S39xfA/ANwSJAHG8D+OgslA/8XwP/lDm9/8xfA/QzBjq/zF8D8Gl5CF/MXwP87wBG/8xfA/Jyt8b/zF8D9Q/Jxx/MXwP4hzJ3T8xfA/yp6fc/zF8D8ich9z/MXwP5LtpnL8xfA/6ewxcvzF8D9Zy7hx/MXwP68kSHH8xfA/7PjfcPzF8D+XUZlw/MXwPzyGoHD8xfA/cT6ocPzF8D8werBw/MXwP3BLwnD8xfA/iknvcPzF8D80WRxx/MXwP2x6SXH8xfA/+O5kcfzF8D9Ku0tx/MXwP8qOMnH8xfA/gWkZcfzF8D9kcwBx/MXwPx3953D8xfA/C5HPcPzF8D8sL7dw/MXwPwNDnXD8xfA/gap+cPzF8D/uE2Bw/MXwPw==",
          "dtype": "f8"
         }
        },
        {
         "line": {
          "color": "rgb(251, 64, 0)"
         },
         "mode": "lines",
         "name": "030",
         "opacity": 0.4,
         "type": "scatter",
         "x": [
          0,
          1000000000000,
          2000000000000,
          3000000000000,
          4000000000000,
          5000000000000,
          6000000000000,
          7000000000000,
          8000000000000,
          9000000000000,
          10000000000000,
          11000000000000,
          12000000000000,
          13000000000000,
          14000000000000,
          15000000000000,
          16000000000000,
          17000000000000,
          18000000000000,
          19000000000000,
          20000000000000,
          21000000000000,
          22000000000000,
          23000000000000,
          24000000000000,
          25000000000000,
          26000000000000,
          27000000000000,
          28000000000000,
          29000000000000,
          30000000000000,
          31000000000000,
          32000000000000,
          33000000000000,
          34000000000000,
          35000000000000,
          36000000000000,
          37000000000000,
          38000000000000,
          39000000000000,
          40000000000000
         ],
         "y": {
          "bdata": "jNGvX1MS7j8owhb8zRLuPzPrCpXtEu4/ex3j3AkT7j+HnFUCahPuP5JSZgBXFe4/W8HgYqEc7j86VTjMYzTuP7VgClPpau4/lWlARX6v7j/F/l5MI93uP9z/tx1R7+4/Ccj1ZrH07j/dc9xPNPbuPxYL1PHH9u4/KdJXe9n27j+7t2Xk3vbuPy/b1JTj9u4/XKMu7+T27j++ECfp5fbuP0YFI+Pm9u4/9oAi3ef27j/gTk0j6PbuP6VXLVXo9u4/PIYNh+j27j+o2u246PbuP/MFqsTo9u4/RWsYzOj27j8G0obT6PbuPys69dro9u4/BUwg3+j27j/gG+3i6PbuP9Druebo9u4/27uG6uj27j/Kxa7r6PbuPw1yiuzo9u4/Uh5m7ej27j+WykHu6PbuPxoBmu7o9u4/N2Lj7uj27j9Nwyzv6PbuPw==",
          "dtype": "f8"
         }
        },
        {
         "line": {
          "color": "rgb(251, 32, 0)"
         },
         "mode": "lines",
         "name": "031",
         "opacity": 0.4,
         "type": "scatter",
         "x": [
          0,
          1000000000000,
          2000000000000,
          3000000000000,
          4000000000000,
          5000000000000,
          6000000000000,
          7000000000000,
          8000000000000,
          9000000000000,
          10000000000000,
          11000000000000,
          12000000000000,
          13000000000000,
          14000000000000,
          15000000000000,
          16000000000000,
          17000000000000,
          18000000000000,
          19000000000000,
          20000000000000,
          21000000000000,
          22000000000000,
          23000000000000,
          24000000000000,
          25000000000000,
          26000000000000,
          27000000000000,
          28000000000000,
          29000000000000,
          30000000000000,
          31000000000000,
          32000000000000,
          33000000000000,
          34000000000000,
          35000000000000,
          36000000000000,
          37000000000000,
          38000000000000,
          39000000000000,
          40000000000000
         ],
         "y": {
          "bdata": "qLFKOAMO7j+525lrcg7uP7BmGpuPDu4/Q35iMZsO7j+8e9UNog7uP+grrCOmDu4/NU2OaacO7j/utn2vqA7uPwxpevWpDu4/1PmWt6oO7j+dujX0qg7uP08/1TCrDu4/64d1basO7j+iIImRqw7uPxtDxJyrDu4/YXT/p6sO7j9xtDqzqw7uP1CL5rmrDu4/DPX0u6sO7j8dYAO+qw7uP37MEcCrDu4//ZhJwasO7j/jMqjBqw7uP/XMBsKrDu4/IGdlwqsO7j+mIp3Cqw7uP0+IrcKrDu4/Ae69wqsO7j+tU87Cqw7uP8Hi18KrDu4/RIbawqsO7j+7Kd3Cqw7uPz/N38KrDu4/Ak7hwqsO7j+KqOHCqw7uPxMD4sKrDu4/mV3iwqsO7j/KjeLCqw7uPyCT4sKrDu4/cpjiwqsO7j/GneLCqw7uPw==",
          "dtype": "f8"
         }
        },
        {
         "line": {
          "color": "rgb(250, 0, 0)"
         },
         "mode": "lines",
         "name": "032",
         "opacity": 0.4,
         "type": "scatter",
         "x": [
          0,
          1000000000000,
          2000000000000,
          3000000000000,
          4000000000000,
          5000000000000,
          6000000000000,
          7000000000000,
          8000000000000,
          9000000000000,
          10000000000000,
          11000000000000,
          12000000000000,
          13000000000000,
          14000000000000,
          15000000000000,
          16000000000000,
          17000000000000,
          18000000000000,
          19000000000000,
          20000000000000,
          21000000000000,
          22000000000000,
          23000000000000,
          24000000000000,
          25000000000000,
          26000000000000,
          27000000000000,
          28000000000000,
          29000000000000,
          30000000000000,
          31000000000000,
          32000000000000,
          33000000000000,
          34000000000000,
          35000000000000,
          36000000000000,
          37000000000000,
          38000000000000,
          39000000000000,
          40000000000000
         ],
         "y": {
          "bdata": "4AlVr/Mr7j/asj480W3wP5vujESoW/A/6HlvO1Bc8D+pKaF5aFvwP9kdlmcwW/A/ok4R8w9b8D/DxaaVClvwPynb0j8MW/A/EWcLLgtb8D/ExZijClvwP9SUznwKW/A/AAJkbgpb8D/yC3ZmClvwP8SOW2YKW/A/Vj9XZgpb8D+lHWlmClvwP5mTX2YKW/A/smYfZgpb8D/AyeBlClvwP8a8o2UKW/A/kVc/ZQpb8D9RcahkClvwP+2+EWQKW/A/XkB7Ywpb8D+Qsw1jClvwP6oe02IKW/A/7JWYYgpb8D9aGV5iClvwP3gcR2IKW/A/aWpcYgpb8D8qu3FiClvwP7kOh2IKW/A/MLejYgpb8D+IhsliClvwP1hY72IKW/A/oCwVYwpb8D+NMzBjClvwPzy7PWMKW/A/k0NLYwpb8D+ZzFhjClvwPw==",
          "dtype": "f8"
         }
        },
        {
         "line": {
          "color": "rgb(235, 0, 0)"
         },
         "mode": "lines",
         "name": "033",
         "opacity": 0.4,
         "type": "scatter",
         "x": [
          0,
          1000000000000,
          2000000000000,
          3000000000000,
          4000000000000,
          5000000000000,
          6000000000000,
          7000000000000,
          8000000000000,
          9000000000000,
          10000000000000,
          11000000000000,
          12000000000000,
          13000000000000,
          14000000000000,
          15000000000000,
          16000000000000,
          17000000000000,
          18000000000000,
          19000000000000,
          20000000000000,
          21000000000000,
          22000000000000,
          23000000000000,
          24000000000000,
          25000000000000,
          26000000000000,
          27000000000000,
          28000000000000,
          29000000000000,
          30000000000000,
          31000000000000,
          32000000000000,
          33000000000000,
          34000000000000,
          35000000000000,
          36000000000000,
          37000000000000,
          38000000000000,
          39000000000000,
          40000000000000
         ],
         "y": {
          "bdata": "lwCGUKAm7j83jHutasvwP5JBYnTxovA/hz9maEef8D+UdOMWPZ7wPxm2kHnhnfA/eQN8Vtmd8D/clY3p2p3wP1QwdofdnfA/MbQopN6d8D8O0k85353wPyGjdUPfnfA/kIf4Lt+d8D95f58c353wPxgX2w/fnfA//7DdA9+d8D82Taf43p3wP/z0S/HenfA/hIsN7d6d8D/S2u7o3p3wP+Pi7+TenfA/y3LS4t6d8D9ZvFri3p3wPx9R4+HenfA/IDFs4d6d8D8NZnbh3p3wPxbd9+HenfA/9+t54t6d8D+vkvzi3p3wPy/vb+PenfA/RxXV496d8D8Rkzrk3p3wP4looOTenfA/5Zvn5N6d8D/BaBLl3p3wP4w8PeXenfA/RBdo5d6d8D8eBnXl3p3wP7toZuXenfA/esxX5d6d8D9cMUnl3p3wPw==",
          "dtype": "f8"
         }
        },
        {
         "line": {
          "color": "rgb(220, 0, 0)"
         },
         "mode": "lines",
         "name": "034",
         "opacity": 0.4,
         "type": "scatter",
         "x": [
          0,
          1000000000000,
          2000000000000,
          3000000000000,
          4000000000000,
          5000000000000,
          6000000000000,
          7000000000000,
          8000000000000,
          9000000000000,
          10000000000000,
          11000000000000,
          12000000000000,
          13000000000000,
          14000000000000,
          15000000000000,
          16000000000000,
          17000000000000,
          18000000000000,
          19000000000000,
          20000000000000,
          21000000000000,
          22000000000000,
          23000000000000,
          24000000000000,
          25000000000000,
          26000000000000,
          27000000000000,
          28000000000000,
          29000000000000,
          30000000000000,
          31000000000000,
          32000000000000,
          33000000000000,
          34000000000000,
          35000000000000,
          36000000000000,
          37000000000000,
          38000000000000,
          39000000000000,
          40000000000000
         ],
         "y": {
          "bdata": "iZkduJUU7j90/OY4HRXuP9XCuYRGFe4/sDUwJ28W7j82Rd643STuP7/4UuaMkO4/3QE3CMdK7z855a/h1onvP2T4sv04k+8/4qk2N6CU7z+9Hw/pv5TvPzFepArMlO8/eU04d82U7z+GayiMzpTvPz9VWjbPlO8/FF8gnM+U7z9knJTFz5TvP2lgCe/PlO8/F6t+GNCU7z/XAsEq0JTvP5pqrDLQlO8/idmXOtCU7z+tT4NC0JTvP5w0YEXQlO8/zyT8RdCU7z9iFZhG0JTvP1MGNEfQlO8/zK/3R9CU7z/8DM1I0JTvPzlqoknQlO8/f8d3StCU7z9umctK0JTvP3Ov5UrQlO8/e8X/StCU7z+D2xlL0JTvPzGELUvQlO8/lU8+S9CU7z/5Gk9L0JTvP17mX0vQlO8/WahmS9CU7z818WhL0JTvPw==",
          "dtype": "f8"
         }
        },
        {
         "line": {
          "color": "rgb(204, 0, 0)"
         },
         "mode": "lines",
         "name": "035",
         "opacity": 0.4,
         "type": "scatter",
         "x": [
          0,
          1000000000000,
          2000000000000,
          3000000000000,
          4000000000000,
          5000000000000,
          6000000000000,
          7000000000000,
          8000000000000,
          9000000000000,
          10000000000000,
          11000000000000,
          12000000000000,
          13000000000000,
          14000000000000,
          15000000000000,
          16000000000000,
          17000000000000,
          18000000000000,
          19000000000000,
          20000000000000,
          21000000000000,
          22000000000000,
          23000000000000,
          24000000000000,
          25000000000000,
          26000000000000,
          27000000000000,
          28000000000000,
          29000000000000,
          30000000000000,
          31000000000000,
          32000000000000,
          33000000000000,
          34000000000000,
          35000000000000,
          36000000000000,
          37000000000000,
          38000000000000,
          39000000000000,
          40000000000000
         ],
         "y": {
          "bdata": "EkrobW0x7j/7Ude82PXwP+ll/P/d6vA/oWsaYWbq8D+JICQ8aOrwP3Iluv5t6vA/yA2Jo3Dq8D+zMP5fcerwPyT+8hFx6vA/4HLJ5XDq8D+jSJDRcOrwP7mf9cBw6vA/6+g+unDq8D//ao2zcOrwP/Ul4axw6vA/492nqHDq8D9BmtercOrwP+PVB69w6vA/zJA4snDq8D9yKIe1cOrwP6iiL7lw6vA/4HPYvHDq8D8YnIHAcOrwP3cDc8Nw6vA/OJAzxHDq8D9CI/TEcOrwP5S8tMVw6vA/0N1fxnDq8D+0gsnGcOrwPzYpM8dw6vA/VNGcx3Dq8D8M/53HcOrwPyvKYMZw6vA/xJojxXDq8D/dcObDcOrwP7Tc7MJw6vA/cy/BwnDq8D+xg5XCcOrwP27ZacJw6vA/a9QlwnDq8D+plJfBcOrwPw==",
          "dtype": "f8"
         }
        },
        {
         "line": {
          "color": "rgb(189, 0, 0)"
         },
         "mode": "lines",
         "name": "036",
         "opacity": 0.4,
         "type": "scatter",
         "x": [
          0,
          1000000000000,
          2000000000000,
          3000000000000,
          4000000000000,
          5000000000000,
          6000000000000,
          7000000000000,
          8000000000000,
          9000000000000,
          10000000000000,
          11000000000000,
          12000000000000,
          13000000000000,
          14000000000000,
          15000000000000,
          16000000000000,
          17000000000000,
          18000000000000,
          19000000000000,
          20000000000000,
          21000000000000,
          22000000000000,
          23000000000000,
          24000000000000,
          25000000000000,
          26000000000000,
          27000000000000,
          28000000000000,
          29000000000000,
          30000000000000,
          31000000000000,
          32000000000000,
          33000000000000,
          34000000000000,
          35000000000000,
          36000000000000,
          37000000000000,
          38000000000000,
          39000000000000,
          40000000000000
         ],
         "y": {
          "bdata": "y+fPH+Y/7j/iHjaHu5PyP8gCrkkBmfI/roqomhCe8j89mvnImZ/yP79/xaUNoPI/K+bTrSeg8j/jYN0PLKDyP426Ix0roPI/mNj5Tymg8j+TWQqDJ6DyP34YGbcmoPI/HAN9Vyag8j9v5Oj3JaDyP3e8XJgloPI/GaVsfCWg8j9Q3/x8JaDyPyYpjX0loPI/nYIdfiWg8j9JTLqBJaDyP9FioIYloPI/RbyGiyWg8j+mWG2QJaDyPymRVY8loPI/nAm3iyWg8j+M6BiIJaDyP/gte4QloPI/1tBhhCWg8j8+V8SFJaDyP9lBJ4cloPI/qZCKiCWg8j9nrGSHJaDyPwb6LIUloPI/U1j1giWg8j9Nx72AJaDyP75t5IAloPI/2rMKgiWg8j/W/TCDJaDyP7FLV4QloPI/foDygyWg8j9BJeeCJaDyPw==",
          "dtype": "f8"
         }
        },
        {
         "line": {
          "color": "rgb(174, 0, 0)"
         },
         "mode": "lines",
         "name": "037",
         "opacity": 0.4,
         "type": "scatter",
         "x": [
          0,
          1000000000000,
          2000000000000,
          3000000000000,
          4000000000000,
          5000000000000,
          6000000000000,
          7000000000000,
          8000000000000,
          9000000000000,
          10000000000000,
          11000000000000,
          12000000000000,
          13000000000000,
          14000000000000,
          15000000000000,
          16000000000000,
          17000000000000,
          18000000000000,
          19000000000000,
          20000000000000,
          21000000000000,
          22000000000000,
          23000000000000,
          24000000000000,
          25000000000000,
          26000000000000,
          27000000000000,
          28000000000000,
          29000000000000,
          30000000000000,
          31000000000000,
          32000000000000,
          33000000000000,
          34000000000000,
          35000000000000,
          36000000000000,
          37000000000000,
          38000000000000,
          39000000000000,
          40000000000000
         ],
         "y": {
          "bdata": "rgdSBsYd7j+FQUjsB0/wP6Xxq3Ef3fA/MwvV6B7Y8D/R6EXlNdjwP7efKGVM2PA/9yMN6VrY8D/QK2y0YtjwP16d+qhm2PA/PROBgmjY8D+mTavLaNjwPy3v+Bpp2PA/y/dpcGnY8D9DeeKmadjwP+/qP+Bp2PA/vpRdHWrY8D+2hNdIatjwP399QnRq2PA/gCgiomrY8D+8hXbSatjwP2tW8PVq2PA/eGA2GWvY8D9zURY+a9jwP1spkGRr2PA/JtDagWvY8D9Exemea9jwP6HXAr1r2PA/Pgcm3GvY8D9Qg2z4a9jwP0xZXBNs2PA/POk3LWzY8D8o9uRFbNjwPy+HVV1s2PA/IZVsc2zY8D9JbhKIbNjwP9y+MZts2PA/4J5LrmzY8D8kk57AbNjwP2zi9NFs2PA/u2hA4mzY8D8A2kPxbNjwPw==",
          "dtype": "f8"
         }
        },
        {
         "line": {
          "color": "rgb(159, 0, 0)"
         },
         "mode": "lines",
         "name": "038",
         "opacity": 0.4,
         "type": "scatter",
         "x": [
          0,
          1000000000000,
          2000000000000,
          3000000000000,
          4000000000000,
          5000000000000,
          6000000000000,
          7000000000000,
          8000000000000,
          9000000000000,
          10000000000000,
          11000000000000,
          12000000000000,
          13000000000000,
          14000000000000,
          15000000000000,
          16000000000000,
          17000000000000,
          18000000000000,
          19000000000000,
          20000000000000,
          21000000000000,
          22000000000000,
          23000000000000,
          24000000000000,
          25000000000000,
          26000000000000,
          27000000000000,
          28000000000000,
          29000000000000,
          30000000000000,
          31000000000000,
          32000000000000,
          33000000000000,
          34000000000000,
          35000000000000,
          36000000000000,
          37000000000000,
          38000000000000,
          39000000000000,
          40000000000000
         ],
         "y": {
          "bdata": "My80N2If7j8EhyN9ZbTuP7vgXrQawfA/JwkFgh+08D9QQHr20rLwP8Ko6KD5sPA/Zte8fg6u8D8XvzNuW6jwPxBOSu6pmfA/YHsBCHie8T8PBOvaALrxPy2yW3PPt/E/3dzbyJW38T9qryRskbfxP0WIABSRt/E/6fPLq5C38T9hjLGxkLfxP5rn3rOQt/E/pwqDtZC38T/TjFi4kLfxP37IqryQt/E/pAX9wJC38T9ARE/FkLfxP+g0G8eQt/E/IBXBxZC38T9L92bEkLfxP2XbDMOQt/E/p30nw5C38T8TABPFkLfxP1GD/saQt/E/XQfqyJC38T8bWHHJkLfxP6xoPMiQt/E/3nkHx5C38T+vi9LFkLfxP1/vocWQt/E/wf21xpC38T+MDMrHkLfxP8Mb3siQt/E/xM8ZyZC38T85rUfIkLfxPw==",
          "dtype": "f8"
         }
        },
        {
         "line": {
          "color": "rgb(143, 0, 0)"
         },
         "mode": "lines",
         "name": "039",
         "opacity": 0.4,
         "type": "scatter",
         "x": [
          0,
          1000000000000,
          2000000000000,
          3000000000000,
          4000000000000,
          5000000000000,
          6000000000000,
          7000000000000,
          8000000000000,
          9000000000000,
          10000000000000,
          11000000000000,
          12000000000000,
          13000000000000,
          14000000000000,
          15000000000000,
          16000000000000,
          17000000000000,
          18000000000000,
          19000000000000,
          20000000000000,
          21000000000000,
          22000000000000,
          23000000000000,
          24000000000000,
          25000000000000,
          26000000000000,
          27000000000000,
          28000000000000,
          29000000000000,
          30000000000000,
          31000000000000,
          32000000000000,
          33000000000000,
          34000000000000,
          35000000000000,
          36000000000000,
          37000000000000,
          38000000000000,
          39000000000000,
          40000000000000
         ],
         "y": {
          "bdata": "TS+FAlUY7j+eErOORxnuP3MppIZQa+8/JrEfexgF8T8d1KNoWhvxP4tynIcmHPE/uWph57gc8T/mZ/tZHB3xP/agY9NNHfE/gXT/H2gd8T8/SEQ6ch3xP7UUMJx1HfE/sZkND3Qd8T/YFLyocR3xP+wWb9FwHfE/rOdYAXAd8T8weBVnbx3xP5H6XjJvHfE/YfZ76W4d8T9/+P2Fbh3xP9qhil9uHfE/NknkJW4d8T/dp93kbR3xP3U3hNFtHfE/wn6ix20d8T9dgLjDbR3xP7m5k8BtHfE/HzI/wW0d8T9+mZrFbR3xPz2G3c5tHfE/hd7j220d8T8FHe7obR3xP7dB/PVtHfE/sB8sAW4d8T9JfocIbh3xP/Do4w9uHfE/oF9BF24d8T/hFO4dbh3xP2QBMSNuHfE/pSx0KG4d8T+llrctbh3xPw==",
          "dtype": "f8"
         }
        }
       ],
       "layout": {
        "showlegend": false,
        "template": {
         "data": {
          "bar": [
           {
            "error_x": {
             "color": "#2a3f5f"
            },
            "error_y": {
             "color": "#2a3f5f"
            },
            "marker": {
             "line": {
              "color": "#E5ECF6",
              "width": 0.5
             },
             "pattern": {
              "fillmode": "overlay",
              "size": 10,
              "solidity": 0.2
             }
            },
            "type": "bar"
           }
          ],
          "barpolar": [
           {
            "marker": {
             "line": {
              "color": "#E5ECF6",
              "width": 0.5
             },
             "pattern": {
              "fillmode": "overlay",
              "size": 10,
              "solidity": 0.2
             }
            },
            "type": "barpolar"
           }
          ],
          "carpet": [
           {
            "aaxis": {
             "endlinecolor": "#2a3f5f",
             "gridcolor": "white",
             "linecolor": "white",
             "minorgridcolor": "white",
             "startlinecolor": "#2a3f5f"
            },
            "baxis": {
             "endlinecolor": "#2a3f5f",
             "gridcolor": "white",
             "linecolor": "white",
             "minorgridcolor": "white",
             "startlinecolor": "#2a3f5f"
            },
            "type": "carpet"
           }
          ],
          "choropleth": [
           {
            "colorbar": {
             "outlinewidth": 0,
             "ticks": ""
            },
            "type": "choropleth"
           }
          ],
          "contour": [
           {
            "colorbar": {
             "outlinewidth": 0,
             "ticks": ""
            },
            "colorscale": [
             [
              0,
              "#0d0887"
             ],
             [
              0.1111111111111111,
              "#46039f"
             ],
             [
              0.2222222222222222,
              "#7201a8"
             ],
             [
              0.3333333333333333,
              "#9c179e"
             ],
             [
              0.4444444444444444,
              "#bd3786"
             ],
             [
              0.5555555555555556,
              "#d8576b"
             ],
             [
              0.6666666666666666,
              "#ed7953"
             ],
             [
              0.7777777777777778,
              "#fb9f3a"
             ],
             [
              0.8888888888888888,
              "#fdca26"
             ],
             [
              1,
              "#f0f921"
             ]
            ],
            "type": "contour"
           }
          ],
          "contourcarpet": [
           {
            "colorbar": {
             "outlinewidth": 0,
             "ticks": ""
            },
            "type": "contourcarpet"
           }
          ],
          "heatmap": [
           {
            "colorbar": {
             "outlinewidth": 0,
             "ticks": ""
            },
            "colorscale": [
             [
              0,
              "#0d0887"
             ],
             [
              0.1111111111111111,
              "#46039f"
             ],
             [
              0.2222222222222222,
              "#7201a8"
             ],
             [
              0.3333333333333333,
              "#9c179e"
             ],
             [
              0.4444444444444444,
              "#bd3786"
             ],
             [
              0.5555555555555556,
              "#d8576b"
             ],
             [
              0.6666666666666666,
              "#ed7953"
             ],
             [
              0.7777777777777778,
              "#fb9f3a"
             ],
             [
              0.8888888888888888,
              "#fdca26"
             ],
             [
              1,
              "#f0f921"
             ]
            ],
            "type": "heatmap"
           }
          ],
          "histogram": [
           {
            "marker": {
             "pattern": {
              "fillmode": "overlay",
              "size": 10,
              "solidity": 0.2
             }
            },
            "type": "histogram"
           }
          ],
          "histogram2d": [
           {
            "colorbar": {
             "outlinewidth": 0,
             "ticks": ""
            },
            "colorscale": [
             [
              0,
              "#0d0887"
             ],
             [
              0.1111111111111111,
              "#46039f"
             ],
             [
              0.2222222222222222,
              "#7201a8"
             ],
             [
              0.3333333333333333,
              "#9c179e"
             ],
             [
              0.4444444444444444,
              "#bd3786"
             ],
             [
              0.5555555555555556,
              "#d8576b"
             ],
             [
              0.6666666666666666,
              "#ed7953"
             ],
             [
              0.7777777777777778,
              "#fb9f3a"
             ],
             [
              0.8888888888888888,
              "#fdca26"
             ],
             [
              1,
              "#f0f921"
             ]
            ],
            "type": "histogram2d"
           }
          ],
          "histogram2dcontour": [
           {
            "colorbar": {
             "outlinewidth": 0,
             "ticks": ""
            },
            "colorscale": [
             [
              0,
              "#0d0887"
             ],
             [
              0.1111111111111111,
              "#46039f"
             ],
             [
              0.2222222222222222,
              "#7201a8"
             ],
             [
              0.3333333333333333,
              "#9c179e"
             ],
             [
              0.4444444444444444,
              "#bd3786"
             ],
             [
              0.5555555555555556,
              "#d8576b"
             ],
             [
              0.6666666666666666,
              "#ed7953"
             ],
             [
              0.7777777777777778,
              "#fb9f3a"
             ],
             [
              0.8888888888888888,
              "#fdca26"
             ],
             [
              1,
              "#f0f921"
             ]
            ],
            "type": "histogram2dcontour"
           }
          ],
          "mesh3d": [
           {
            "colorbar": {
             "outlinewidth": 0,
             "ticks": ""
            },
            "type": "mesh3d"
           }
          ],
          "parcoords": [
           {
            "line": {
             "colorbar": {
              "outlinewidth": 0,
              "ticks": ""
             }
            },
            "type": "parcoords"
           }
          ],
          "pie": [
           {
            "automargin": true,
            "type": "pie"
           }
          ],
          "scatter": [
           {
            "fillpattern": {
             "fillmode": "overlay",
             "size": 10,
             "solidity": 0.2
            },
            "type": "scatter"
           }
          ],
          "scatter3d": [
           {
            "line": {
             "colorbar": {
              "outlinewidth": 0,
              "ticks": ""
             }
            },
            "marker": {
             "colorbar": {
              "outlinewidth": 0,
              "ticks": ""
             }
            },
            "type": "scatter3d"
           }
          ],
          "scattercarpet": [
           {
            "marker": {
             "colorbar": {
              "outlinewidth": 0,
              "ticks": ""
             }
            },
            "type": "scattercarpet"
           }
          ],
          "scattergeo": [
           {
            "marker": {
             "colorbar": {
              "outlinewidth": 0,
              "ticks": ""
             }
            },
            "type": "scattergeo"
           }
          ],
          "scattergl": [
           {
            "marker": {
             "colorbar": {
              "outlinewidth": 0,
              "ticks": ""
             }
            },
            "type": "scattergl"
           }
          ],
          "scattermap": [
           {
            "marker": {
             "colorbar": {
              "outlinewidth": 0,
              "ticks": ""
             }
            },
            "type": "scattermap"
           }
          ],
          "scattermapbox": [
           {
            "marker": {
             "colorbar": {
              "outlinewidth": 0,
              "ticks": ""
             }
            },
            "type": "scattermapbox"
           }
          ],
          "scatterpolar": [
           {
            "marker": {
             "colorbar": {
              "outlinewidth": 0,
              "ticks": ""
             }
            },
            "type": "scatterpolar"
           }
          ],
          "scatterpolargl": [
           {
            "marker": {
             "colorbar": {
              "outlinewidth": 0,
              "ticks": ""
             }
            },
            "type": "scatterpolargl"
           }
          ],
          "scatterternary": [
           {
            "marker": {
             "colorbar": {
              "outlinewidth": 0,
              "ticks": ""
             }
            },
            "type": "scatterternary"
           }
          ],
          "surface": [
           {
            "colorbar": {
             "outlinewidth": 0,
             "ticks": ""
            },
            "colorscale": [
             [
              0,
              "#0d0887"
             ],
             [
              0.1111111111111111,
              "#46039f"
             ],
             [
              0.2222222222222222,
              "#7201a8"
             ],
             [
              0.3333333333333333,
              "#9c179e"
             ],
             [
              0.4444444444444444,
              "#bd3786"
             ],
             [
              0.5555555555555556,
              "#d8576b"
             ],
             [
              0.6666666666666666,
              "#ed7953"
             ],
             [
              0.7777777777777778,
              "#fb9f3a"
             ],
             [
              0.8888888888888888,
              "#fdca26"
             ],
             [
              1,
              "#f0f921"
             ]
            ],
            "type": "surface"
           }
          ],
          "table": [
           {
            "cells": {
             "fill": {
              "color": "#EBF0F8"
             },
             "line": {
              "color": "white"
             }
            },
            "header": {
             "fill": {
              "color": "#C8D4E3"
             },
             "line": {
              "color": "white"
             }
            },
            "type": "table"
           }
          ]
         },
         "layout": {
          "annotationdefaults": {
           "arrowcolor": "#2a3f5f",
           "arrowhead": 0,
           "arrowwidth": 1
          },
          "autotypenumbers": "strict",
          "coloraxis": {
           "colorbar": {
            "outlinewidth": 0,
            "ticks": ""
           }
          },
          "colorscale": {
           "diverging": [
            [
             0,
             "#8e0152"
            ],
            [
             0.1,
             "#c51b7d"
            ],
            [
             0.2,
             "#de77ae"
            ],
            [
             0.3,
             "#f1b6da"
            ],
            [
             0.4,
             "#fde0ef"
            ],
            [
             0.5,
             "#f7f7f7"
            ],
            [
             0.6,
             "#e6f5d0"
            ],
            [
             0.7,
             "#b8e186"
            ],
            [
             0.8,
             "#7fbc41"
            ],
            [
             0.9,
             "#4d9221"
            ],
            [
             1,
             "#276419"
            ]
           ],
           "sequential": [
            [
             0,
             "#0d0887"
            ],
            [
             0.1111111111111111,
             "#46039f"
            ],
            [
             0.2222222222222222,
             "#7201a8"
            ],
            [
             0.3333333333333333,
             "#9c179e"
            ],
            [
             0.4444444444444444,
             "#bd3786"
            ],
            [
             0.5555555555555556,
             "#d8576b"
            ],
            [
             0.6666666666666666,
             "#ed7953"
            ],
            [
             0.7777777777777778,
             "#fb9f3a"
            ],
            [
             0.8888888888888888,
             "#fdca26"
            ],
            [
             1,
             "#f0f921"
            ]
           ],
           "sequentialminus": [
            [
             0,
             "#0d0887"
            ],
            [
             0.1111111111111111,
             "#46039f"
            ],
            [
             0.2222222222222222,
             "#7201a8"
            ],
            [
             0.3333333333333333,
             "#9c179e"
            ],
            [
             0.4444444444444444,
             "#bd3786"
            ],
            [
             0.5555555555555556,
             "#d8576b"
            ],
            [
             0.6666666666666666,
             "#ed7953"
            ],
            [
             0.7777777777777778,
             "#fb9f3a"
            ],
            [
             0.8888888888888888,
             "#fdca26"
            ],
            [
             1,
             "#f0f921"
            ]
           ]
          },
          "colorway": [
           "#636efa",
           "#EF553B",
           "#00cc96",
           "#ab63fa",
           "#FFA15A",
           "#19d3f3",
           "#FF6692",
           "#B6E880",
           "#FF97FF",
           "#FECB52"
          ],
          "font": {
           "color": "#2a3f5f"
          },
          "geo": {
           "bgcolor": "white",
           "lakecolor": "white",
           "landcolor": "#E5ECF6",
           "showlakes": true,
           "showland": true,
           "subunitcolor": "white"
          },
          "hoverlabel": {
           "align": "left"
          },
          "hovermode": "closest",
          "mapbox": {
           "style": "light"
          },
          "paper_bgcolor": "white",
          "plot_bgcolor": "#E5ECF6",
          "polar": {
           "angularaxis": {
            "gridcolor": "white",
            "linecolor": "white",
            "ticks": ""
           },
           "bgcolor": "#E5ECF6",
           "radialaxis": {
            "gridcolor": "white",
            "linecolor": "white",
            "ticks": ""
           }
          },
          "scene": {
           "xaxis": {
            "backgroundcolor": "#E5ECF6",
            "gridcolor": "white",
            "gridwidth": 2,
            "linecolor": "white",
            "showbackground": true,
            "ticks": "",
            "zerolinecolor": "white"
           },
           "yaxis": {
            "backgroundcolor": "#E5ECF6",
            "gridcolor": "white",
            "gridwidth": 2,
            "linecolor": "white",
            "showbackground": true,
            "ticks": "",
            "zerolinecolor": "white"
           },
           "zaxis": {
            "backgroundcolor": "#E5ECF6",
            "gridcolor": "white",
            "gridwidth": 2,
            "linecolor": "white",
            "showbackground": true,
            "ticks": "",
            "zerolinecolor": "white"
           }
          },
          "shapedefaults": {
           "line": {
            "color": "#2a3f5f"
           }
          },
          "ternary": {
           "aaxis": {
            "gridcolor": "white",
            "linecolor": "white",
            "ticks": ""
           },
           "baxis": {
            "gridcolor": "white",
            "linecolor": "white",
            "ticks": ""
           },
           "bgcolor": "#E5ECF6",
           "caxis": {
            "gridcolor": "white",
            "linecolor": "white",
            "ticks": ""
           }
          },
          "title": {
           "x": 0.05
          },
          "xaxis": {
           "automargin": true,
           "gridcolor": "white",
           "linecolor": "white",
           "ticks": "",
           "title": {
            "standoff": 15
           },
           "zerolinecolor": "white",
           "zerolinewidth": 2
          },
          "yaxis": {
           "automargin": true,
           "gridcolor": "white",
           "linecolor": "white",
           "ticks": "",
           "title": {
            "standoff": 15
           },
           "zerolinecolor": "white",
           "zerolinewidth": 2
          }
         }
        },
        "title": {
         "text": "Entropy generation number - Test Snapshots - Parameter Space 01"
        },
        "xaxis": {
         "tickformat": ".2e",
         "title": {
          "text": "Time [s]"
         }
        },
        "yaxis": {
         "tickformat": ".2f",
         "title": {
          "text": "Entropy [-]"
         }
        }
       }
      }
     },
     "metadata": {},
     "output_type": "display_data"
    }
   ],
   "source": [
    "fig = go.Figure()\n",
    "\n",
    "for idx_snap, entropies in enumerate(entropy_gen_number):\n",
    "    fig.add_trace(go.Scatter(x=list(comsol_data_ref.times.values()),\n",
    "                             y=entropies,\n",
    "                                mode='lines',\n",
    "                                name=f\"{idx_snap:03d}\",\n",
    "                                opacity=0.4,\n",
    "                            line=dict(color=colors[idx_snap])\n",
    "                ))\n",
    "    \n",
    "fig.update_layout(\n",
    "    xaxis_tickformat='.2e',  # Format x-axis numbers to 2 decimal places\n",
    "    yaxis_tickformat='.2f',  # Format y-axis numbers to 2 decimal places\n",
    "    showlegend=False,        # Hide the legend\n",
    "    title=f\"Entropy generation number - {DATA_TYPE} Snapshots - Parameter Space {PARAMETER_SPACE}\",       # Optional: add a title\n",
    "    xaxis_title=\"Time [s]\",    # Optional: label for x-axis\n",
    "    yaxis_title=\"Entropy [-]\"     # Optional: label for y-axis\n",
    ")\n",
    "if IS_EXPORT:\n",
    "    fig.write_image(export_folder/ f\"{DATA_TYPE}_EntropyGenerationNumber.png\")\n",
    "    fig.write_html(export_folder/ f\"{DATA_TYPE}_EntropyGenerationNumber.html\")\n",
    "fig.show()"
   ]
  }
 ],
 "metadata": {
  "kernelspec": {
   "display_name": ".venv",
   "language": "python",
   "name": "python3"
  },
  "language_info": {
   "codemirror_mode": {
    "name": "ipython",
    "version": 3
   },
   "file_extension": ".py",
   "mimetype": "text/x-python",
   "name": "python",
   "nbconvert_exporter": "python",
   "pygments_lexer": "ipython3",
   "version": "3.12.4"
  }
 },
 "nbformat": 4,
 "nbformat_minor": 2
}
