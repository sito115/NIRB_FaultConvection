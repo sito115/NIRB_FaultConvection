{
 "cells": [
  {
   "cell_type": "code",
   "execution_count": 1,
   "metadata": {},
   "outputs": [],
   "source": [
    "import numpy as np\n",
    "import torch\n",
    "import random \n",
    "import plotly.express as px\n",
    "from pathlib import Path\n",
    "import pyvista as pv\n",
    "import sys\n",
    "import pandas as pd\n",
    "import pint"
   ]
  },
  {
   "cell_type": "code",
   "execution_count": 2,
   "metadata": {},
   "outputs": [],
   "source": [
    "sys.path.append(str(Path.cwd().parent))"
   ]
  },
  {
   "cell_type": "code",
   "execution_count": 3,
   "metadata": {},
   "outputs": [],
   "source": [
    "from scr.offline_stage import NirbModule\n",
    "from scr.comsol_module.comsol_classes import COMSOL_VTU\n",
    "from scr.comsol_module.helper import calculate_normal\n",
    "from scr.utils import load_pint_data, inverse_min_max_scaler, standardize, safe_parse_quantity"
   ]
  },
  {
   "cell_type": "code",
   "execution_count": 4,
   "metadata": {},
   "outputs": [
    {
     "data": {
      "text/plain": [
       "True"
      ]
     },
     "execution_count": 4,
     "metadata": {},
     "output_type": "execute_result"
    }
   ],
   "source": [
    "PARAMETER_SPACE = \"01\"\n",
    "ACCURACY = 1e-4\n",
    "ROOT = Path.cwd().parent / \"data\" / PARAMETER_SPACE\n",
    "ROOT.exists()"
   ]
  },
  {
   "cell_type": "code",
   "execution_count": 5,
   "metadata": {},
   "outputs": [],
   "source": [
    "comsol_data = COMSOL_VTU(ROOT / \"Training/Training_000.vtu\")"
   ]
  },
  {
   "cell_type": "markdown",
   "metadata": {},
   "source": [
    "### Load checkpoints from different trainings"
   ]
  },
  {
   "cell_type": "code",
   "execution_count": 6,
   "metadata": {},
   "outputs": [
    {
     "name": "stdout",
     "output_type": "stream",
     "text": [
      "00 (version_0): epoch=149999-step=300000.ckpt\n"
     ]
    }
   ],
   "source": [
    "chk_pt_paths = [path for path in (ROOT / f\"nn_logs_{ACCURACY:.1e}\").rglob(\"*.ckpt\")]\n",
    "chk_pt_paths = sorted(chk_pt_paths, key = lambda p: p.parent.parent.stem)\n",
    "\n",
    "for idx, path in enumerate(chk_pt_paths):\n",
    "    print(f\"{idx:02d} ({path.parent.parent.stem}): {path.name}\")"
   ]
  },
  {
   "cell_type": "code",
   "execution_count": 7,
   "metadata": {},
   "outputs": [],
   "source": [
    "# ckpt = torch.load(chk_pt_paths[10], map_location=\"cpu\")\n",
    "# for key in ckpt['state_dict'].keys():\n",
    "#     print(key)\n",
    "# for k, v in ckpt['state_dict'].items():\n",
    "#     print(k, v.shape)\n",
    "# print(ckpt.get(\"hyper_parameters\", {}))\n",
    "# print(ckpt.get(\"hyper_parameters\", {}))"
   ]
  },
  {
   "cell_type": "markdown",
   "metadata": {},
   "source": [
    "### Load checkpoint"
   ]
  },
  {
   "cell_type": "code",
   "execution_count": 8,
   "metadata": {},
   "outputs": [],
   "source": [
    "# Select checkpoint\n",
    "chk_pt_path = chk_pt_paths[0]"
   ]
  },
  {
   "cell_type": "code",
   "execution_count": 9,
   "metadata": {},
   "outputs": [
    {
     "data": {
      "text/plain": [
       "NirbModule(\n",
       "  (loss): MSELoss()\n",
       "  (activation): Sigmoid()\n",
       "  (model): NIRB_NN(\n",
       "    (layers): Sequential(\n",
       "      (0): Linear(in_features=2, out_features=24, bias=True)\n",
       "      (1): Sigmoid()\n",
       "      (2): Linear(in_features=24, out_features=193, bias=True)\n",
       "      (3): Sigmoid()\n",
       "      (4): Linear(in_features=193, out_features=193, bias=True)\n",
       "      (5): Sigmoid()\n",
       "      (6): Linear(in_features=193, out_features=101, bias=True)\n",
       "      (7): Sigmoid()\n",
       "      (8): Linear(in_features=101, out_features=96, bias=True)\n",
       "      (9): Sigmoid()\n",
       "      (10): Linear(in_features=96, out_features=11, bias=True)\n",
       "    )\n",
       "  )\n",
       "  (msa_metric): MeanAbsoluteError()\n",
       ")"
      ]
     },
     "execution_count": 9,
     "metadata": {},
     "output_type": "execute_result"
    }
   ],
   "source": [
    "trained_model = NirbModule.load_from_checkpoint(chk_pt_path)\n",
    "trained_model = trained_model.to('cpu')\n",
    "trained_model.eval()"
   ]
  },
  {
   "cell_type": "code",
   "execution_count": 10,
   "metadata": {},
   "outputs": [],
   "source": [
    "basis_functions             = np.load(ROOT / \"BasisFunctions\" / f\"basis_fts_matrix_{ACCURACY:.1e}.npy\")\n",
    "training_snapshots_npy      = np.load(ROOT / \"Exports\" / \"Training_temperatures.npy\")\n",
    "training_parameters     = load_pint_data(ROOT / \"training_samples.csv\", is_numpy = True)\n",
    "min_max                     = np.load(ROOT / \"BasisFunctions\" / \"min_max.npy\")\n",
    "\n",
    "test_snapshots_npy            = np.load(ROOT / \"Test\" / \"Test_temperatures.npy\")\n",
    "test_parameters               = load_pint_data(ROOT / \"test_samples.csv\", is_numpy = True)\n",
    "test_parameters_pint           = load_pint_data(ROOT / \"test_samples.csv\")"
   ]
  },
  {
   "cell_type": "code",
   "execution_count": 11,
   "metadata": {},
   "outputs": [],
   "source": [
    "param_folder = ROOT / \"Exports\"\n",
    "param_files = sorted([file for file in param_folder.rglob(\"*.csv\") if \"test\" in file.stem.lower()])\n",
    "assert len(param_files) > 0"
   ]
  },
  {
   "cell_type": "code",
   "execution_count": 12,
   "metadata": {},
   "outputs": [],
   "source": [
    "# Prepare data\n",
    "mean = np.mean(test_parameters, axis=0)\n",
    "var  = np.var(test_parameters, axis=0)\n",
    "test_parameters_scaled = standardize(test_parameters, mean, var)\n",
    "training_snapshots  = training_snapshots_npy[:, -1, :] # last time step\n",
    "test_snapshots      = test_snapshots_npy[:, -1, :]"
   ]
  },
  {
   "cell_type": "markdown",
   "metadata": {},
   "source": [
    "### Prepare Plot"
   ]
  },
  {
   "cell_type": "code",
   "execution_count": 13,
   "metadata": {},
   "outputs": [],
   "source": [
    "N = 5\n",
    "random.seed(3123)\n",
    "samples = random.sample(range(len(test_snapshots)), N)\n",
    "colors = px.colors.sample_colorscale(\"thermal\", [n/(N -1) for n in range(N)])"
   ]
  },
  {
   "cell_type": "markdown",
   "metadata": {},
   "source": [
    "### Plot training vs original"
   ]
  },
  {
   "cell_type": "code",
   "execution_count": 14,
   "metadata": {},
   "outputs": [
    {
     "data": {
      "application/vnd.jupyter.widget-view+json": {
       "model_id": "ddf0d24ee16b48768e951b0266cc521c",
       "version_major": 2,
       "version_minor": 0
      },
      "text/plain": [
       "Widget(value='<iframe src=\"http://localhost:62516/index.html?ui=P_0x3124bad80_0&reconnect=auto\" class=\"pyvista…"
      ]
     },
     "metadata": {},
     "output_type": "display_data"
    }
   ],
   "source": [
    "# Initialize the figure\n",
    "n_cols = 2  # number of columns \n",
    "plotter = pv.Plotter(shape=(N, n_cols), window_size=(1300, 1200))\n",
    "counter = 0\n",
    "differences = np.zeros((N, len(comsol_data.mesh.points)))\n",
    "# Loop through the samples and plot\n",
    "for i in range(N):\n",
    "    sample_idx = samples[i]\n",
    "    parameters_df_file = param_files[sample_idx]\n",
    "    param_df = pd.read_csv(param_files[idx], index_col = 0)\n",
    "    ureg = pint.UnitRegistry()\n",
    "    param_df['quantity_pint'] = param_df[param_df.columns[-1]].apply(lambda x : safe_parse_quantity(x, ureg))\n",
    "    dip = param_df.loc['dip', 'quantity_pint', ]\n",
    "    strike = param_df.loc['strike', 'quantity_pint']\n",
    "    normal = calculate_normal(dip.to('deg').magnitude, strike.to('deg').magnitude)\n",
    "    \n",
    "    plotter.subplot(i, 0)\n",
    "    counter += 1\n",
    "    field_name = f\"Test Sample {sample_idx}\"\n",
    "    param_string =  \"\\n\".join([f\"{col} = {para.magnitude:.2e} {para.units:~P}\" for col, para in test_parameters_pint.loc[sample_idx].items()])\n",
    "\n",
    "    \n",
    "    # Predict \n",
    "    param = test_parameters_scaled[sample_idx]\n",
    "    param_t = torch.from_numpy(param.astype(np.float32)).view(1, -1)\n",
    "    res = trained_model(param_t)\n",
    "    res_np = res.detach().numpy()\n",
    "    my_sol = np.matmul(res_np.flatten(), basis_functions)\n",
    "    my_sol = inverse_min_max_scaler(my_sol, min_max[0], min_max[1])\n",
    "    \n",
    "    comsol_data.mesh.point_data[field_name] = my_sol\n",
    "    clipped = comsol_data.mesh.clip(normal=-np.array(normal), origin = comsol_data.mesh.center)\n",
    "    \n",
    "    plotter.add_mesh(clipped, scalars=field_name,\n",
    "                        cmap='jet',\n",
    "                        scalar_bar_args={'title': f'Temperature [K] ({counter})',\n",
    "                                        'label_font_size': 10,\n",
    "                                        'title_font_size': 8,})\n",
    "    plotter.add_text(f\"NIRB (Sample {sample_idx:03d})\",\n",
    "                     font_size=13)\n",
    "    plotter.add_text(param_string,\n",
    "                    position=\"left_edge\",\n",
    "                    font_size=9,)\n",
    "    plotter.add_axes(line_width=1.)\n",
    "    plotter.add_bounding_box()\n",
    "    plotter.show_grid(\n",
    "        font_size=6,\n",
    "        n_xlabels=3,  # number of labels (ticks) on x-axis\n",
    "        n_ylabels=3,  # number of labels (ticks) on y-axis\n",
    "        n_zlabels=3,  # number of labels (ticks) on z-axis\n",
    "        color='gray',\n",
    "        xtitle='',\n",
    "        ytitle='',\n",
    "        ztitle='',\n",
    "                        )\n",
    "    plotter.subplot(i, 1)\n",
    "    counter += 1\n",
    "    comsol_data.mesh.point_data[f\"Test{sample_idx}\"] = test_snapshots[sample_idx, :]\n",
    "    clipped = comsol_data.mesh.clip(normal=-np.array(normal), origin = comsol_data.mesh.center)\n",
    "    plotter.add_mesh(clipped, scalars=f\"Test{sample_idx}\",\n",
    "                    cmap='jet',\n",
    "                    scalar_bar_args={'title': f'Temperature [K] ({counter})',\n",
    "                                    'label_font_size': 10,\n",
    "                                    'title_font_size': 8,})\n",
    "    plotter.add_text(f\"Original (Sample {sample_idx:03d})\",\n",
    "                     font_size=13)\n",
    "    plotter.add_text(param_string,\n",
    "                     position=\"left_edge\",\n",
    "                     font_size=9,)\n",
    "    plotter.add_axes(line_width=1.)\n",
    "    plotter.add_bounding_box()\n",
    "    plotter.show_grid(\n",
    "        font_size=6,\n",
    "        n_xlabels=3,  # number of labels (ticks) on x-axis\n",
    "        n_ylabels=3,  # number of labels (ticks) on y-axis\n",
    "        n_zlabels=3,  # number of labels (ticks) on z-axis\n",
    "        color='gray',\n",
    "        xtitle='',\n",
    "        ytitle='',\n",
    "        ztitle='',\n",
    "                        )\n",
    "    \n",
    "    \n",
    "    differences[i, :] = test_snapshots[sample_idx, :] - my_sol\n",
    "    \n",
    "plotter.show(screenshot=ROOT / f\"ComparisonNirbOriginal_{ACCURACY:.1e}_PS{PARAMETER_SPACE}_{chk_pt_path.parents[1].stem}.png\")\n"
   ]
  },
  {
   "cell_type": "markdown",
   "metadata": {},
   "source": [
    "### Difference Plots"
   ]
  },
  {
   "cell_type": "code",
   "execution_count": 17,
   "metadata": {},
   "outputs": [
    {
     "data": {
      "application/vnd.jupyter.widget-view+json": {
       "model_id": "0a253750ff654d318ed6be3e95c15672",
       "version_major": 2,
       "version_minor": 0
      },
      "text/plain": [
       "Widget(value='<iframe src=\"http://localhost:61243/index.html?ui=P_0x3ae2b7b30_3&reconnect=auto\" class=\"pyvista…"
      ]
     },
     "metadata": {},
     "output_type": "display_data"
    }
   ],
   "source": [
    "# Initialize the figure\n",
    "plotter = pv.Plotter(shape=(N, 1), window_size=(1300, 1200))\n",
    "counter = 0\n",
    "# Loop through the samples and plot\n",
    "for i in range(N):\n",
    "    sample_idx = samples[i]\n",
    "    plotter.subplot(i, 0)\n",
    "    counter += 1\n",
    "    param_string =  \"\\n\".join([f\"{col} = {para.magnitude:.2e} {para.units:~P}\" for col, para in test_parameters_pint.loc[sample_idx].items()])\n",
    "\n",
    "    field_name = f\"Difference (Reduced vs Full Solution) Sample {sample_idx}\"\n",
    "    \n",
    "    comsol_data.mesh.point_data['diff'] = differences[i, :]\n",
    "    clipped = comsol_data.mesh.clip(normal=-np.array(normal), origin = comsol_data.mesh.center)\n",
    "    \n",
    "    plotter.add_mesh(clipped, scalars='diff',\n",
    "                        cmap='jet',\n",
    "                        scalar_bar_args={'title': f'Diff Temperature [K] ({counter})',\n",
    "                                        'label_font_size': 10,\n",
    "                                        'title_font_size': 8,})\n",
    "    plotter.add_text(f\"Difference (Sample {sample_idx:03d})\",\n",
    "                     font_size=13)\n",
    "    plotter.add_text(param_string,\n",
    "                    position=\"left_edge\",\n",
    "                    font_size=9,)\n",
    "    plotter.add_axes(line_width=1.)\n",
    "    plotter.add_bounding_box()\n",
    "    plotter.show_grid(\n",
    "        font_size=6,\n",
    "        n_xlabels=3,  # number of labels (ticks) on x-axis\n",
    "        n_ylabels=3,  # number of labels (ticks) on y-axis\n",
    "        n_zlabels=3,  # number of labels (ticks) on z-axis\n",
    "        color='gray',\n",
    "        xtitle='',\n",
    "        ytitle='',\n",
    "        ztitle='',\n",
    "                        )\n",
    "\n",
    "    \n",
    "plotter.show(screenshot=ROOT / f\"ComparisonNirbOriginal_Diff_{ACCURACY:.1e}_PS_{PARAMETER_SPACE}_{chk_pt_path.parents[1].stem}.png\")\n"
   ]
  }
 ],
 "metadata": {
  "kernelspec": {
   "display_name": ".venv",
   "language": "python",
   "name": "python3"
  },
  "language_info": {
   "codemirror_mode": {
    "name": "ipython",
    "version": 3
   },
   "file_extension": ".py",
   "mimetype": "text/x-python",
   "name": "python",
   "nbconvert_exporter": "python",
   "pygments_lexer": "ipython3",
   "version": "3.12.4"
  }
 },
 "nbformat": 4,
 "nbformat_minor": 2
}
