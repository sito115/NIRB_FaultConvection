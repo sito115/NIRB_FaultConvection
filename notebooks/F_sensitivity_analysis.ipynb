{
 "cells": [
  {
   "cell_type": "code",
   "execution_count": 21,
   "id": "445a6276",
   "metadata": {},
   "outputs": [],
   "source": [
    "import numpy as np\n",
    "import pyvista as pv\n",
    "import SALib.sample.sobol as sobol_sample\n",
    "import SALib.sample.morris as morris_sample\n",
    "from SALib.analyze import sobol, morris\n",
    "import sys\n",
    "from pathlib import Path\n",
    "import pint\n",
    "import pandas as pd\n",
    "from pint_pandas import PintArray, PintType\n",
    "import torch"
   ]
  },
  {
   "cell_type": "code",
   "execution_count": 2,
   "id": "f98f8f9f",
   "metadata": {},
   "outputs": [],
   "source": [
    "sys.path.append(str(Path.cwd().parent))"
   ]
  },
  {
   "cell_type": "code",
   "execution_count": null,
   "id": "e1212a84",
   "metadata": {},
   "outputs": [],
   "source": [
    "from src.offline_stage import NirbModule,Normalizations\n",
    "from src.pod import MeanNormalizer, MinMaxNormalizer, Standardizer\n",
    "from src.utils import (load_pint_data,\n",
    "                       safe_parse_quantity,\n",
    "                       format_quantity)"
   ]
  },
  {
   "cell_type": "markdown",
   "id": "ce23f3b9",
   "metadata": {},
   "source": [
    "### Meta Data"
   ]
  },
  {
   "cell_type": "code",
   "execution_count": 4,
   "id": "e2cc2071",
   "metadata": {},
   "outputs": [],
   "source": [
    "PARAMETER_SPACE = \"01\"\n",
    "ACCURACY = 1e-5\n",
    "ROOT = Path.cwd().parent / \"data\" / PARAMETER_SPACE\n",
    "ROOT.exists()\n",
    "IS_SAVE_PNG = True\n",
    "SUFFIX = \"mean\"\n",
    "ureg = pint.get_application_registry()"
   ]
  },
  {
   "cell_type": "code",
   "execution_count": 5,
   "id": "6b3718c4",
   "metadata": {},
   "outputs": [],
   "source": [
    "# choose normalizer form SUFFIX\n",
    "if \"mean\" in SUFFIX.lower():\n",
    "    scaling = Normalizations.Mean\n",
    "elif \"min_max\" in SUFFIX.lower():\n",
    "    scaling = Normalizations.MinMax\n",
    "else:\n",
    "    raise ValueError(\"Invalid suffix.\")"
   ]
  },
  {
   "cell_type": "markdown",
   "id": "b658f44e",
   "metadata": {},
   "source": [
    "### Import Neural Network"
   ]
  },
  {
   "cell_type": "code",
   "execution_count": 6,
   "id": "2896975a",
   "metadata": {},
   "outputs": [
    {
     "name": "stdout",
     "output_type": "stream",
     "text": [
      "Please choose checkpoint by index in the next cell.\n",
      "00 (version_0): epoch=199999-step=200000.ckpt\n",
      "01 (version_1): epoch=399999-step=400000.ckpt\n",
      "02 (version_10): epoch=99999-step=200000.ckpt\n",
      "03 (version_11): epoch=24999-step=50000.ckpt\n",
      "04 (version_12): epoch=599-step=1200.ckpt\n",
      "05 (version_13): epoch=6999-step=49000.ckpt\n",
      "06 (version_14): epoch=6999-step=49000.ckpt\n",
      "07 (version_15): epoch=14999-step=60000.ckpt\n",
      "08 (version_16): epoch=7399-step=29600.ckpt\n",
      "09 (version_17): epoch=7499-step=30000.ckpt\n",
      "10 (version_18): epoch=17499-step=70000.ckpt\n",
      "11 (version_19): epoch=22499-step=90000.ckpt\n",
      "12 (version_2): epoch=16147-step=16148.ckpt\n",
      "13 (version_20): epoch=9999-step=50000.ckpt\n",
      "14 (version_3): epoch=199999-step=200000.ckpt\n",
      "15 (version_4): epoch=34328-step=34329.ckpt\n",
      "16 (version_5): epoch=399999-step=400000.ckpt\n",
      "17 (version_6): epoch=599999-step=600000.ckpt\n",
      "18 (version_7): epoch=99999-step=100000.ckpt\n",
      "19 (version_8): epoch=149999-step=150000.ckpt\n"
     ]
    }
   ],
   "source": [
    "chk_pt_paths = [path for path in (ROOT / f\"nn_logs_{ACCURACY:.1e}{SUFFIX}\").rglob(\"*.ckpt\")]\n",
    "chk_pt_paths = sorted(chk_pt_paths, key = lambda p: p.parent.parent.stem)\n",
    "print(\"Please choose checkpoint by index in the next cell.\")\n",
    "for idx, path in enumerate(chk_pt_paths):\n",
    "    print(f\"{idx:02d} ({path.parent.parent.stem}): {path.name}\")"
   ]
  },
  {
   "cell_type": "code",
   "execution_count": 7,
   "id": "530852e7",
   "metadata": {},
   "outputs": [
    {
     "name": "stdout",
     "output_type": "stream",
     "text": [
      "Selected following checkpoint:\n",
      "version_18/checkpoints/epoch=17499-step=70000.ckpt\n"
     ]
    }
   ],
   "source": [
    "chk_pt_path = chk_pt_paths[10]\n",
    "print(\"Selected following checkpoint:\")\n",
    "print(chk_pt_path.relative_to(chk_pt_path.parents[2]))"
   ]
  },
  {
   "cell_type": "code",
   "execution_count": 19,
   "id": "62ef1b79",
   "metadata": {},
   "outputs": [
    {
     "data": {
      "text/plain": [
       "NirbModule(\n",
       "  (loss): MSELoss()\n",
       "  (activation): Sigmoid()\n",
       "  (model): NIRB_NN(\n",
       "    (layers): Sequential(\n",
       "      (0): Linear(in_features=2, out_features=95, bias=True)\n",
       "      (1): Sigmoid()\n",
       "      (2): Linear(in_features=95, out_features=228, bias=True)\n",
       "      (3): Sigmoid()\n",
       "      (4): Linear(in_features=228, out_features=204, bias=True)\n",
       "      (5): Sigmoid()\n",
       "      (6): Linear(in_features=204, out_features=106, bias=True)\n",
       "      (7): Sigmoid()\n",
       "      (8): Linear(in_features=106, out_features=92, bias=True)\n",
       "      (9): Sigmoid()\n",
       "      (10): Linear(in_features=92, out_features=23, bias=True)\n",
       "    )\n",
       "  )\n",
       "  (msa_metric): MeanAbsoluteError()\n",
       ")"
      ]
     },
     "execution_count": 19,
     "metadata": {},
     "output_type": "execute_result"
    }
   ],
   "source": [
    "coefficient_model = NirbModule.load_from_checkpoint(chk_pt_path)\n",
    "coefficient_model = coefficient_model.to('cpu')\n",
    "coefficient_model.eval()"
   ]
  },
  {
   "cell_type": "markdown",
   "id": "9b611f51",
   "metadata": {},
   "source": [
    "### Import Parameters and Training Snapshots"
   ]
  },
  {
   "cell_type": "code",
   "execution_count": 8,
   "id": "8ff4b955",
   "metadata": {},
   "outputs": [
    {
     "name": "stdout",
     "output_type": "stream",
     "text": [
      "Following Parameters can be varied:\n",
      "            host_k    T_h\n",
      "unit    meter ** 2 kelvin\n",
      "min   1.035142e-18  403.6\n",
      "max   9.660509e-16  492.7\n",
      "\n",
      "Defined problem for SA\n",
      "{'num_vars': 2, 'names': ['host_k', 'T_h']}\n",
      "     host_k  T_h\n",
      "min     0.0  0.0\n",
      "max     0.0  0.0\n"
     ]
    }
   ],
   "source": [
    "parameters = load_pint_data(ROOT / \"Training_samples.csv\")\n",
    "print(\"Following Parameters can be varied:\")\n",
    "min_max_data = parameters.pint.dequantify().agg([\"min\", \"max\"])\n",
    "print(min_max_data)\n",
    "problem = dict(\n",
    "    num_vars = len(parameters.columns),\n",
    "    names = list(parameters.columns)\n",
    ")\n",
    "\n",
    "df_problem = pd.DataFrame(\n",
    "    {col_name : PintArray(pd.Series([0, 0]), dtype=unit) for col_name, unit in zip(parameters.columns, parameters.dtypes)},\n",
    "    index=[\"min\", \"max\"])\n",
    "# df_problem.index = parameters.columns\n",
    "print(\"\\nDefined problem for SA\")\n",
    "print(problem)\n",
    "print(df_problem)"
   ]
  },
  {
   "cell_type": "code",
   "execution_count": 9,
   "id": "a093ef66",
   "metadata": {},
   "outputs": [
    {
     "name": "stdout",
     "output_type": "stream",
     "text": [
      "host_k\n",
      "pint[meter ** 2][float64]\n",
      "T_h\n",
      "pint[kelvin][float64]\n"
     ]
    },
    {
     "data": {
      "application/vnd.microsoft.datawrangler.viewer.v0+json": {
       "columns": [
        {
         "name": "index",
         "rawType": "int64",
         "type": "integer"
        },
        {
         "name": "host_k",
         "rawType": "pint[meter ** 2][float64]",
         "type": "unknown"
        },
        {
         "name": "T_h",
         "rawType": "pint[kelvin][float64]",
         "type": "unknown"
        }
       ],
       "conversionMethod": "pd.DataFrame",
       "ref": "7195bbfb-0318-4a61-bea7-dbd968eb426d",
       "rows": [
        [
         "0",
         "0.0 meter ** 2",
         "0.0 kelvin"
        ],
        [
         "1",
         "0.0 meter ** 2",
         "0.0 kelvin"
        ]
       ],
       "shape": {
        "columns": 2,
        "rows": 2
       }
      },
      "text/html": [
       "<div>\n",
       "<style scoped>\n",
       "    .dataframe tbody tr th:only-of-type {\n",
       "        vertical-align: middle;\n",
       "    }\n",
       "\n",
       "    .dataframe tbody tr th {\n",
       "        vertical-align: top;\n",
       "    }\n",
       "\n",
       "    .dataframe thead th {\n",
       "        text-align: right;\n",
       "    }\n",
       "</style>\n",
       "<table border=\"1\" class=\"dataframe\">\n",
       "  <thead>\n",
       "    <tr style=\"text-align: right;\">\n",
       "      <th></th>\n",
       "      <th>host_k</th>\n",
       "      <th>T_h</th>\n",
       "    </tr>\n",
       "  </thead>\n",
       "  <tbody>\n",
       "    <tr>\n",
       "      <th>0</th>\n",
       "      <td>0.0</td>\n",
       "      <td>0.0</td>\n",
       "    </tr>\n",
       "    <tr>\n",
       "      <th>1</th>\n",
       "      <td>0.0</td>\n",
       "      <td>0.0</td>\n",
       "    </tr>\n",
       "  </tbody>\n",
       "</table>\n",
       "</div>"
      ],
      "text/plain": [
       "   host_k  T_h\n",
       "0     0.0  0.0\n",
       "1     0.0  0.0"
      ]
     },
     "execution_count": 9,
     "metadata": {},
     "output_type": "execute_result"
    }
   ],
   "source": [
    "for col_name, dytpe in zip(parameters.columns, parameters.dtypes):\n",
    "    print(col_name)\n",
    "    print(dytpe)\n",
    "df_problem = pd.DataFrame(\n",
    "    {col_name : PintArray(pd.Series([0, 0]), dtype=unit) for col_name, unit in zip(parameters.columns, parameters.dtypes)}\n",
    "    )#\n",
    "df_problem"
   ]
  },
  {
   "cell_type": "code",
   "execution_count": 10,
   "id": "b92ca5fc",
   "metadata": {},
   "outputs": [],
   "source": [
    "control_mesh_suffix =  \"s100_100_100_b0_4000_0_5000_-4000_0\"\n",
    "parameters = parameters.pint.dequantify().to_numpy()\n",
    "basis_functions             = np.load(ROOT / \"TrainingMapped\" / control_mesh_suffix / \"BasisFunctions\" / f\"basis_fts_matrix_{ACCURACY:.1e}{SUFFIX}.npy\")\n",
    "training_snapshots_npy      = np.load(ROOT / \"TrainingMapped\" / control_mesh_suffix / \"Exports\" / \"Training_temperatures.npy\")\n",
    "training_snapshots_npy      = training_snapshots_npy[:, -1, :] #! last time step"
   ]
  },
  {
   "cell_type": "code",
   "execution_count": 11,
   "id": "aee8f363",
   "metadata": {},
   "outputs": [
    {
     "name": "stdout",
     "output_type": "stream",
     "text": [
      "(23, 20161)\n",
      "(200, 2)\n",
      "(160, 20161)\n"
     ]
    }
   ],
   "source": [
    "print(basis_functions.shape)\n",
    "print(parameters.shape)\n",
    "print(training_snapshots_npy.shape)"
   ]
  },
  {
   "cell_type": "markdown",
   "id": "0d7749f3",
   "metadata": {},
   "source": [
    "## Define the problem"
   ]
  },
  {
   "cell_type": "code",
   "execution_count": 12,
   "id": "50600a81",
   "metadata": {},
   "outputs": [
    {
     "name": "stdout",
     "output_type": "stream",
     "text": [
      "{'num_vars': 2, 'names': ['host_k', 'T_h']}\n",
      "            host_k    T_h\n",
      "unit    meter ** 2 kelvin\n",
      "min   1.035142e-18  403.6\n",
      "max   9.660509e-16  492.7\n"
     ]
    }
   ],
   "source": [
    "print(problem)\n",
    "print(min_max_data)"
   ]
  },
  {
   "cell_type": "code",
   "execution_count": 13,
   "id": "af4fc39a",
   "metadata": {},
   "outputs": [
    {
     "data": {
      "application/vnd.microsoft.datawrangler.viewer.v0+json": {
       "columns": [
        {
         "name": "index",
         "rawType": "object",
         "type": "unknown"
        },
        {
         "name": "host_k",
         "rawType": "pint[meter ** 2][float64]",
         "type": "unknown"
        },
        {
         "name": "T_h",
         "rawType": "pint[kelvin][float64]",
         "type": "unknown"
        }
       ],
       "conversionMethod": "pd.DataFrame",
       "ref": "9cec5d95-b1d2-47c9-8b2e-9bf7a149eed6",
       "rows": [
        [
         "0",
         "0.0 meter ** 2",
         "0.0 kelvin"
        ],
        [
         "1",
         "0.0 meter ** 2",
         "0.0 kelvin"
        ],
        [
         "min",
         "1e-17 meter ** 2",
         "413.15 kelvin"
        ],
        [
         "max",
         "9e-16 meter ** 2",
         "483.15 kelvin"
        ]
       ],
       "shape": {
        "columns": 2,
        "rows": 4
       }
      },
      "text/html": [
       "<div>\n",
       "<style scoped>\n",
       "    .dataframe tbody tr th:only-of-type {\n",
       "        vertical-align: middle;\n",
       "    }\n",
       "\n",
       "    .dataframe tbody tr th {\n",
       "        vertical-align: top;\n",
       "    }\n",
       "\n",
       "    .dataframe thead th {\n",
       "        text-align: right;\n",
       "    }\n",
       "</style>\n",
       "<table border=\"1\" class=\"dataframe\">\n",
       "  <thead>\n",
       "    <tr style=\"text-align: right;\">\n",
       "      <th></th>\n",
       "      <th>host_k</th>\n",
       "      <th>T_h</th>\n",
       "    </tr>\n",
       "  </thead>\n",
       "  <tbody>\n",
       "    <tr>\n",
       "      <th>0</th>\n",
       "      <td>0.0</td>\n",
       "      <td>0.0</td>\n",
       "    </tr>\n",
       "    <tr>\n",
       "      <th>1</th>\n",
       "      <td>0.0</td>\n",
       "      <td>0.0</td>\n",
       "    </tr>\n",
       "    <tr>\n",
       "      <th>min</th>\n",
       "      <td>1e-17</td>\n",
       "      <td>413.15</td>\n",
       "    </tr>\n",
       "    <tr>\n",
       "      <th>max</th>\n",
       "      <td>9e-16</td>\n",
       "      <td>483.15</td>\n",
       "    </tr>\n",
       "  </tbody>\n",
       "</table>\n",
       "</div>"
      ],
      "text/plain": [
       "     host_k     T_h\n",
       "0       0.0     0.0\n",
       "1       0.0     0.0\n",
       "min   1e-17  413.15\n",
       "max   9e-16  483.15"
      ]
     },
     "execution_count": 13,
     "metadata": {},
     "output_type": "execute_result"
    }
   ],
   "source": [
    "df_problem.loc[\"min\", \"host_k\"] = 1e-17\n",
    "df_problem.loc[\"max\", \"host_k\"] = 9e-16\n",
    "df_problem.loc[\"min\", \"T_h\"] = ureg.Quantity(140, ureg.degC)\n",
    "df_problem.loc[\"max\", \"T_h\"] = ureg.Quantity(210, ureg.degC)\n",
    "df_problem"
   ]
  },
  {
   "cell_type": "code",
   "execution_count": 14,
   "id": "70156a02",
   "metadata": {},
   "outputs": [
    {
     "data": {
      "text/plain": [
       "{'num_vars': 2,\n",
       " 'names': ['host_k', 'T_h'],\n",
       " 'bounds': [[np.float64(1e-17), np.float64(9e-16)],\n",
       "  [np.float64(413.15), np.float64(483.15)]]}"
      ]
     },
     "execution_count": 14,
     "metadata": {},
     "output_type": "execute_result"
    }
   ],
   "source": [
    "def get_min_max(col):\n",
    "    min_val = df_problem.loc['min', col].magnitude\n",
    "    max_val = df_problem.loc['max', col].magnitude\n",
    "    assert min_val <= max_val, f\"{col}: min {min_val} > max {max_val}\"\n",
    "    return [min_val, max_val]\n",
    "\n",
    "problem[\"bounds\"] = [get_min_max(col) for col in df_problem.columns]\n",
    "problem"
   ]
  },
  {
   "cell_type": "markdown",
   "id": "17ee7cea",
   "metadata": {},
   "source": [
    "## Sobol"
   ]
  },
  {
   "cell_type": "code",
   "execution_count": 15,
   "id": "91536224",
   "metadata": {},
   "outputs": [
    {
     "data": {
      "text/plain": [
       "array([[5.81726210e-16, 4.49980815e+02],\n",
       "       [8.33303515e-16, 4.49980815e+02],\n",
       "       [5.81726210e-16, 4.67610615e+02],\n",
       "       ...,\n",
       "       [5.81720908e-16, 4.76451295e+02],\n",
       "       [1.78921551e-16, 4.33580675e+02],\n",
       "       [1.78921551e-16, 4.76451295e+02]], shape=(786432, 2))"
      ]
     },
     "execution_count": 15,
     "metadata": {},
     "output_type": "execute_result"
    }
   ],
   "source": [
    "param_values = sobol_sample.sample(problem, 131072) #2**17=131072\n",
    "param_values"
   ]
  },
  {
   "cell_type": "code",
   "execution_count": 17,
   "id": "ffdac0da",
   "metadata": {},
   "outputs": [],
   "source": [
    "standaridzer = Standardizer()\n",
    "param_values = standaridzer.normalize(np.asarray(param_values))"
   ]
  },
  {
   "cell_type": "code",
   "execution_count": null,
   "id": "1dfdafba",
   "metadata": {},
   "outputs": [
    {
     "data": {
      "text/plain": [
       "tensor([[ 0.4932,  0.0906],\n",
       "        [ 1.4725,  0.0906],\n",
       "        [ 0.4932,  0.9631],\n",
       "        ...,\n",
       "        [ 0.4932,  1.4006],\n",
       "        [-1.0746, -0.7210],\n",
       "        [-1.0746,  1.4006]])"
      ]
     },
     "execution_count": 23,
     "metadata": {},
     "output_type": "execute_result"
    }
   ],
   "source": [
    "Y_0 = np.zeros(len(param_values))\n",
    "param_t = torch.from_numpy(param_values.astype(np.float32))\n",
    "param_t"
   ]
  },
  {
   "cell_type": "code",
   "execution_count": null,
   "id": "803dad17",
   "metadata": {},
   "outputs": [],
   "source": [
    "Y_0 = np.zeros(len(param_values))\n",
    "RB_ouptuts = coefficient_model(param_t).detach().numpy()\n",
    "for i in range(len(param_values)):\n",
    "    RB_full_metric=np.mean(np.matmul(RB_ouptuts[i,:], basis_functions))\n",
    "    Y_0[i]=RB_full_metric   \n"
   ]
  },
  {
   "cell_type": "code",
   "execution_count": 32,
   "id": "82e457a8",
   "metadata": {},
   "outputs": [
    {
     "data": {
      "text/plain": [
       "array([ 0.00260833,  0.00238769,  0.06223905, ...,  0.09744677,\n",
       "       -0.03782518,  0.08723523], shape=(786432,))"
      ]
     },
     "execution_count": 32,
     "metadata": {},
     "output_type": "execute_result"
    }
   ],
   "source": [
    "Y_0"
   ]
  }
 ],
 "metadata": {
  "kernelspec": {
   "display_name": ".venv",
   "language": "python",
   "name": "python3"
  },
  "language_info": {
   "codemirror_mode": {
    "name": "ipython",
    "version": 3
   },
   "file_extension": ".py",
   "mimetype": "text/x-python",
   "name": "python",
   "nbconvert_exporter": "python",
   "pygments_lexer": "ipython3",
   "version": "3.12.4"
  }
 },
 "nbformat": 4,
 "nbformat_minor": 5
}
