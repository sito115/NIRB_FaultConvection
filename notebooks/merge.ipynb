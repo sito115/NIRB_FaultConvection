{
 "cells": [
  {
   "cell_type": "code",
   "execution_count": 1,
   "metadata": {},
   "outputs": [],
   "source": [
    "import sys\n",
    "import os\n",
    "import numpy as np\n",
    "import pyvista as pv\n",
    "from pathlib import Path\n",
    "import pandas as pd\n",
    "from matplotlib import pyplot as plt\n",
    "from helpers import safe_parse_quantity, delete_pyvista_fields, map_on_control_mesh\n",
    "import pint\n",
    "import vtk\n",
    "from tqdm import tqdm"
   ]
  },
  {
   "cell_type": "code",
   "execution_count": 2,
   "metadata": {},
   "outputs": [],
   "source": [
    "# Add it to sys.path\n",
    "parent_dir = os.path.abspath(os.path.join(os.getcwd(), \"..\"))\n",
    "sys.path.insert(0, parent_dir)\n",
    "from ComsolClasses.comsol_classes import COMSOL_VTU\n",
    "from ComsolClasses.helper import calculate_normal"
   ]
  },
  {
   "cell_type": "code",
   "execution_count": 3,
   "metadata": {},
   "outputs": [
    {
     "name": "stdout",
     "output_type": "stream",
     "text": [
      "/Users/thomassimader/Documents/NIRB/Snapshots\n",
      "True\n"
     ]
    }
   ],
   "source": [
    "my_cmap = plt.get_cmap(\"coolwarm\", 15)\n",
    "root = Path().cwd().parent / \"Snapshots\"\n",
    "print(root)\n",
    "print(root.exists())"
   ]
  },
  {
   "cell_type": "code",
   "execution_count": 4,
   "metadata": {},
   "outputs": [
    {
     "name": "stdout",
     "output_type": "stream",
     "text": [
      "alpha_1 = 11.309932474020215\n",
      "alpha_2 = 21.80140948635181\n",
      "alpha_3 = 5.710593137499643\n",
      "alpha_2 - alpha_1 = 10.491477012331599\n",
      "alpha_1 - alpha_3 = 5.599339336520571\n"
     ]
    }
   ],
   "source": [
    "dx = 50\n",
    "dy = 10\n",
    "\n",
    "alpha_1 = np.arctan(dy / dx)\n",
    "alpha_2 = np.arctan(2*dy / dx)\n",
    "alpha_3 = np.arctan(dy / (2 * dx))\n",
    "\n",
    "print(f\"alpha_1 = {np.rad2deg(alpha_1)}\")\n",
    "print(f\"alpha_2 = {np.rad2deg(alpha_2)}\")\n",
    "print(f\"alpha_3 = {np.rad2deg(alpha_3)}\")\n",
    "print(f\"alpha_2 - alpha_1 = {np.rad2deg(alpha_2 - alpha_1)}\")\n",
    "print(f\"alpha_1 - alpha_3 = {np.rad2deg(alpha_1 - alpha_3)}\")\n"
   ]
  },
  {
   "cell_type": "code",
   "execution_count": 5,
   "metadata": {},
   "outputs": [],
   "source": [
    "PARAMETER_SPACE = \"01\"\n",
    "DATA_TYPE = \"Test\""
   ]
  },
  {
   "cell_type": "code",
   "execution_count": 6,
   "metadata": {},
   "outputs": [
    {
     "name": "stdout",
     "output_type": "stream",
     "text": [
      "(0.0, 4000.0000000000005, 0.0, 5000.000000000002, -4000.000000000001, 0.0)\n"
     ]
    }
   ],
   "source": [
    "\n",
    "path_domain_3d = root / PARAMETER_SPACE / \"Training\" / \"Training_001.vtu\"\n",
    "domain_3d = COMSOL_VTU(path_domain_3d)\n",
    "print(domain_3d.mesh.bounds)"
   ]
  },
  {
   "cell_type": "code",
   "execution_count": 7,
   "metadata": {},
   "outputs": [
    {
     "name": "stdout",
     "output_type": "stream",
     "text": [
      "(0.0, 4000.0000000000005, 0.0, 5000.000000000002, -4000.000000000001, 0.0)\n",
      "(0.0, 4000.0, 0.0, 5000.0, -4000.0, 0.0)\n"
     ]
    }
   ],
   "source": [
    "def create_smooth_bounds(mesh: pv.DataSet, val_old : float, val_new: float, axis: int = 2) -> pv.DataSet:\n",
    "    mesh.points[:, axis] = np.where(mesh.points[:, axis] == val_old, val_new, mesh.points[:, axis])\n",
    "    return mesh\n",
    "\n",
    "print(domain_3d.mesh.bounds)#\n",
    "bound_indices = [1, 3, 4]\n",
    "for i_axis, i_bound in enumerate(bound_indices):\n",
    "    while np.abs(domain_3d.mesh.bounds[i_bound]) > int(np.abs(domain_3d.mesh.bounds[i_bound])):\n",
    "        domain_3d.mesh = create_smooth_bounds(domain_3d.mesh,\n",
    "                                              domain_3d.mesh.bounds[i_bound],\n",
    "                                              int(domain_3d.mesh.bounds[i_bound]) , axis=i_axis)\n",
    "print(domain_3d.mesh.bounds)"
   ]
  },
  {
   "cell_type": "code",
   "execution_count": 8,
   "metadata": {},
   "outputs": [],
   "source": [
    "\n",
    "# destination_mesh = domain_3d.mesh\n",
    "# data_folder = Path(root / VERSION / DATA_TYPE)\n",
    "# assert data_folder.exists(), f\"Data folder {data_folder} does not exist.\"\n",
    "# export_folder =  data_folder.parent / \"Truncated\"\n",
    "# export_folder.mkdir(exist_ok=True)\n",
    "# assert export_folder.exists(), f\"Export folder {export_folder} does not exist.\"\n",
    "# vtu_files = sorted([path for path in data_folder.iterdir() if path.suffix == \".vtu\"])\n",
    "# for idx, vtu_file in tqdm(enumerate(vtu_files), total=len(vtu_files), desc=\"Reading COMSOL files\"):\n",
    "#     temp_data = COMSOL_VTU(vtu_file)\n",
    "#     temp_data = delete_pyvista_fields(temp_data, [\"Temperature\"])\n",
    "#     mapped = map_on_control_mesh(temp_data.mesh, destination_mesh)\n",
    "#     mapped.save(export_folder / vtu_file.name)\n",
    "# destination_mesh.points.shape"
   ]
  },
  {
   "cell_type": "code",
   "execution_count": 9,
   "metadata": {},
   "outputs": [
    {
     "name": "stdout",
     "output_type": "stream",
     "text": [
      "(0.0, 4000.0, 0.0, 5000.0, -4000.0, 0.0)\n",
      "97.5609756097561\n"
     ]
    }
   ],
   "source": [
    "bounds = domain_3d.mesh.bounds  # (xmin, xmax, ymin, ymax, zmin, zmax)\n",
    "\n",
    "# Grid resolution\n",
    "nx, ny, nz = 100, 100, 100  # You can increase this for more resolution\n",
    "\n",
    "dx, dy, dz = 100, 100, 100  # You can increase this for more resolution\n",
    "# Compute the number of points needed\n",
    "nx = int((bounds[1] - bounds[0]) / dx) + 1\n",
    "ny = int((bounds[3] - bounds[2]) / dy) + 1\n",
    "nz = int((bounds[5] - bounds[4]) / dz) + 1\n",
    "\n",
    "\n",
    "image = vtk.vtkImageData()\n",
    "image.SetDimensions(nx, ny, nz)\n",
    "image.SetOrigin(bounds[0], bounds[2], bounds[4])\n",
    "image.SetSpacing(dx, dy, dz)\n",
    "# image.SetSpacing(\n",
    "#     (bounds[1] - bounds[0]) / (nx - 1),\n",
    "#     (bounds[3] - bounds[2]) / (ny - 1),\n",
    "#     (bounds[5] - bounds[4]) / (nz - 1),\n",
    "# )\n",
    "\n",
    "interpolated_vtk = map_on_control_mesh(domain_3d.mesh, image)\n",
    "print(bounds)\n",
    "print(f\"{(bounds[1] - bounds[0]) / (nx)}\" )\n",
    "# pv_data = pv.wrap(image).save(\"interpolated_output.vti\")"
   ]
  },
  {
   "cell_type": "code",
   "execution_count": 14,
   "metadata": {},
   "outputs": [],
   "source": [
    "\n",
    "path_domain_parameters = root /  PARAMETER_SPACE / \"Exports\" / f\"{path_domain_3d.stem}_parameters.csv\"\n",
    "assert path_domain_parameters.exists()\n",
    "df = pd.read_csv(path_domain_parameters, index_col = 0)\n",
    "ureg = pint.UnitRegistry()\n",
    "df['quantity_pint'] = df[df.columns[-1]].apply(lambda x : safe_parse_quantity(x, ureg))\n",
    "# df"
   ]
  },
  {
   "cell_type": "code",
   "execution_count": 13,
   "metadata": {},
   "outputs": [
    {
     "name": "stdout",
     "output_type": "stream",
     "text": [
      "self.vtu_path=PosixPath('/Users/thomassimader/Documents/NIRB/Snapshots/01/Training/Training_001.vtu')\n",
      "41 timesteps from 0.000e+00 s to 4.000e+13 s\n",
      "self.mesh.bounds=(0.0, 4000.0, 0.0, 5000.0, -4000.0, 0.0)\n",
      "Availabe fields in vtu dataset:\n",
      "\t 1: Dynamic_viscosity\n",
      "\t 2: Fluid_density\n",
      "\t 3: Permeability,_XX-component\n",
      "\t 4: Permeability,_XY-component\n",
      "\t 5: Permeability,_XZ-component\n",
      "\t 6: Permeability,_YY-component\n",
      "\t 7: Permeability,_ZZ-component\n",
      "\t 8: Pressure\n",
      "\t 9: Temperature\n",
      "\t 10: Total_Darcy_velocity_magnitude\n"
     ]
    }
   ],
   "source": [
    "domain_3d.info()\n",
    "fields = domain_3d.exported_fields.copy()\n",
    "fields.remove(\"Temperature\")\n",
    "for field in fields:\n",
    "    domain_3d.delete_field(field)"
   ]
  },
  {
   "cell_type": "code",
   "execution_count": 15,
   "metadata": {},
   "outputs": [
    {
     "name": "stdout",
     "output_type": "stream",
     "text": [
      "59.99999999999999 degree\n",
      "90.0 degree\n",
      "60.0\n",
      "90.0\n"
     ]
    }
   ],
   "source": [
    "dip    = df.loc[\"dip\", \"quantity_pint\"].to(\"deg\")\n",
    "strike = df.loc[\"strike\", \"quantity_pint\"].to(\"deg\")\n",
    "print(dip)\n",
    "print(strike)\n",
    "print(np.round(dip.magnitude))\n",
    "print(np.round(strike.magnitude))"
   ]
  },
  {
   "cell_type": "markdown",
   "metadata": {},
   "source": [
    "### Original Data"
   ]
  },
  {
   "cell_type": "code",
   "execution_count": 16,
   "metadata": {},
   "outputs": [],
   "source": [
    "field_name = domain_3d.format_field(\"Temperature\", -1)\n",
    "normal_vector = calculate_normal(np.round(dip.magnitude), np.round(strike.magnitude))\n",
    "clip_original = domain_3d.mesh.clip(normal = -normal_vector, origin=domain_3d.mesh.center)\n",
    "# clip_original.plot(scalars = field_name, cmap=my_cmap)\n"
   ]
  },
  {
   "cell_type": "markdown",
   "metadata": {},
   "source": [
    "### Control Mesh"
   ]
  },
  {
   "cell_type": "code",
   "execution_count": 33,
   "metadata": {},
   "outputs": [
    {
     "data": {
      "application/vnd.jupyter.widget-view+json": {
       "model_id": "4dedcc088db0481aa96184b726f6f944",
       "version_major": 2,
       "version_minor": 0
      },
      "text/plain": [
       "Widget(value='<iframe src=\"http://localhost:53960/index.html?ui=P_0x32d069550_10&reconnect=auto\" class=\"pyvist…"
      ]
     },
     "metadata": {},
     "output_type": "display_data"
    },
    {
     "name": "stdout",
     "output_type": "stream",
     "text": [
      "(0.0, 4000.0, 0.0, 5000.0, -4000.0, 0.0)\n",
      "(0.0, 4000.0, 0.0, 5000.0, -4000.0, 0.0)\n",
      "ImageData (0x34755ce20)\n",
      "  N Cells:      80000\n",
      "  N Points:     85731\n",
      "  X Bounds:     0.000e+00, 4.000e+03\n",
      "  Y Bounds:     0.000e+00, 5.000e+03\n",
      "  Z Bounds:     -4.000e+03, 0.000e+00\n",
      "  Dimensions:   41, 51, 41\n",
      "  Spacing:      1.000e+02, 1.000e+02, 1.000e+02\n",
      "  N Arrays:     0\n"
     ]
    }
   ],
   "source": [
    "bounds = domain_3d.mesh.bounds\n",
    "dx, dy, dz = (100, 100, 100)  # You can increase this for more resolution\n",
    "# Compute the number of points needed (+ 1 as spacing is an interval)\n",
    "nx = int(np.abs((bounds[1] - bounds[0])) / dx) + 1\n",
    "ny = int(np.abs((bounds[3] - bounds[2])) / dy) + 1\n",
    "nz = int(np.abs((bounds[5] - bounds[4])) / dz) + 1\n",
    "grid = pv.ImageData() \n",
    "grid.origin = (bounds[0], bounds[2], bounds[4])\n",
    "grid.dimensions = np.array((nx, ny, nz))\n",
    "grid.spacing = (dx, dy, dz)\n",
    "grid.plot(show_edges=True)\n",
    "# grid.slice_orthogonal().plot()\n",
    "print(grid.bounds)\n",
    "print(domain_3d.mesh.bounds)\n",
    "print(grid)"
   ]
  },
  {
   "cell_type": "markdown",
   "metadata": {},
   "source": [
    "### Add plane"
   ]
  },
  {
   "cell_type": "code",
   "execution_count": 18,
   "metadata": {},
   "outputs": [
    {
     "data": {
      "application/vnd.jupyter.widget-view+json": {
       "model_id": "2c81f01217094ead82de21f038be72b5",
       "version_major": 2,
       "version_minor": 0
      },
      "text/plain": [
       "Widget(value='<iframe src=\"http://localhost:53960/index.html?ui=P_0x3115abbf0_1&reconnect=auto\" class=\"pyvista…"
      ]
     },
     "metadata": {},
     "output_type": "display_data"
    }
   ],
   "source": [
    "control_mesh = grid  #pv.merge([grid, clipped_plane])\n",
    "control_mesh.clip(normal = -normal_vector, origin=domain_3d.mesh.center).plot()\n",
    "control_mesh_cell = control_mesh.copy()\n"
   ]
  },
  {
   "cell_type": "markdown",
   "metadata": {},
   "source": [
    "### pv.interpolate()"
   ]
  },
  {
   "cell_type": "markdown",
   "metadata": {},
   "source": [
    "vtkGaussianKernel is an interpolation kernel that simply returns the weights for all points found in the sphere defined by radius R. The weights are computed as: $e^{-(\\frac{s*r}{R})^2}$ where r is the distance from the point to be interpolated to a neighboring point within R. The sharpness s simply affects the rate of fall off of the Gaussian. (A more general Gaussian kernel is available from vtkEllipsoidalGaussianKernel.)\n",
    "\n",
    "https://vtk.org/doc/nightly/html/classvtkGaussianKernel.html\n",
    "\n",
    "Examples\n",
    "https://examples.vtk.org/site/Cxx/Meshes/InterpolateFieldDataDemo/"
   ]
  },
  {
   "cell_type": "code",
   "execution_count": 19,
   "metadata": {},
   "outputs": [],
   "source": [
    "result              = control_mesh.interpolate(domain_3d.mesh, radius=500, sharpness=2, strategy=\"mask_points\")\n",
    "clip_interpolate = result.clip(normal = -normal_vector, origin=domain_3d.mesh.center)\n",
    "\n",
    "# Visualize\n",
    "# clip_interpolate.plot(scalars=field_name, cmap=my_cmap, show_edges=False)\n",
    "# result.plot(scalars=field_name, cmap=\"coolwarm\", show_edges=True)"
   ]
  },
  {
   "cell_type": "markdown",
   "metadata": {},
   "source": [
    "### pv.Sample()"
   ]
  },
  {
   "cell_type": "code",
   "execution_count": 20,
   "metadata": {},
   "outputs": [],
   "source": [
    "cell_mesh = domain_3d.mesh.point_data_to_cell_data(pass_point_data=False)\n",
    "# control_mesh_cell.plot()\n",
    "# Visualize\n",
    "# clip.plot(scalars=field_name, cmap=my_cmap, show_edges=False)\n",
    "# result.plot(scalars=field_name, cmap=\"coolwarm\", show_edges=True)"
   ]
  },
  {
   "cell_type": "code",
   "execution_count": 21,
   "metadata": {},
   "outputs": [],
   "source": [
    "result_cell              = control_mesh_cell.sample(domain_3d.mesh)\n",
    "clip_sample = result_cell.clip(normal = -normal_vector, origin=domain_3d.mesh.center)"
   ]
  },
  {
   "cell_type": "markdown",
   "metadata": {},
   "source": [
    "### vtkProbeFilter"
   ]
  },
  {
   "cell_type": "code",
   "execution_count": 32,
   "metadata": {},
   "outputs": [
    {
     "data": {
      "application/vnd.jupyter.widget-view+json": {
       "model_id": "b4c018a69ddc4c449d675222a654d7dc",
       "version_major": 2,
       "version_minor": 0
      },
      "text/plain": [
       "Widget(value='<iframe src=\"http://localhost:53960/index.html?ui=P_0x34a44b9b0_9&reconnect=auto\" class=\"pyvista…"
      ]
     },
     "metadata": {},
     "output_type": "display_data"
    },
    {
     "name": "stdout",
     "output_type": "stream",
     "text": [
      "(0.0, 4000.0, 0.0, 5000.0, -3975.0, 0.0)\n"
     ]
    }
   ],
   "source": [
    "bounds = domain_3d.mesh.GetBounds()  # (xmin, xmax, ymin, ymax, zmin, zmax)\n",
    "\n",
    "dx, dy, dz = 50, 50, 25  # You can increase this for more resolution\n",
    "# Compute the number of points needed\n",
    "zmin = bounds[4] + dz\n",
    "zmax = bounds[5] \n",
    "\n",
    "nx = int((bounds[1] - bounds[0]) / dx) + 1\n",
    "ny = int((bounds[3] - bounds[2]) / dy) + 1\n",
    "# nz = int((bounds[5] - bounds[4]) / dz) + 1\n",
    "nz = int(np.abs((zmax - zmin)) / dz) + 1  # New z-range\n",
    "\n",
    "\n",
    "\n",
    "image = vtk.vtkImageData()\n",
    "image.SetDimensions(nx, ny, nz)\n",
    "image.SetOrigin(bounds[0], bounds[2], zmin)\n",
    "image.SetSpacing(dx, dy, dz)\n",
    "\n",
    "interpolated_vtk = map_on_control_mesh(domain_3d.mesh, image)\n",
    "# interpolated_vtk = map_on_control_mesh(interpolated_vtk, image)\n",
    "# print(bounds)\n",
    "# print(interpolated_vtk.bounds)\n",
    "clip_vtk = interpolated_vtk.clip(normal = -normal_vector, origin=domain_3d.mesh.center)\n",
    "clip_vtk.plot(scalars = field_name)\n",
    "print(interpolated_vtk.bounds)\n"
   ]
  },
  {
   "cell_type": "code",
   "execution_count": null,
   "metadata": {},
   "outputs": [],
   "source": [
    "\n",
    "producer = vtk.vtkTrivialProducer()\n",
    "producer.SetOutput(domain_3d.mesh)  # .mesh is already a vtkDataSet\n",
    "\n",
    "resample = vtk.vtkResampleToImage()\n",
    "resample.SetInputConnection(producer.GetOutputPort())\n",
    "resample.SetSamplingDimensions(nx, ny, nz)\n",
    "resample.SetUseInputBounds(True)\n",
    "resample.Update()\n",
    "\n",
    "interpolated = pv.wrap(resample.GetOutput())\n",
    "clip_vtk = interpolated.clip(normal = -normal_vector, origin=domain_3d.mesh.center)\n"
   ]
  },
  {
   "cell_type": "markdown",
   "metadata": {},
   "source": [
    "## Plot"
   ]
  },
  {
   "cell_type": "code",
   "execution_count": 25,
   "metadata": {},
   "outputs": [
    {
     "data": {
      "application/vnd.jupyter.widget-view+json": {
       "model_id": "894d0f09c4a44a18b68e801ce6f023a0",
       "version_major": 2,
       "version_minor": 0
      },
      "text/plain": [
       "Widget(value='<iframe src=\"http://localhost:53960/index.html?ui=P_0x312e06420_3&reconnect=auto\" class=\"pyvista…"
      ]
     },
     "metadata": {},
     "output_type": "display_data"
    }
   ],
   "source": [
    "\n",
    "# Loop through the samples and plot\n",
    "clips = [clip_original, clip_interpolate, clip_sample, clip_vtk]\n",
    "labels = [\"Original\", \"pv.Interpolate()\", \"pv.Sample()\", \"vtkProbeFilter\"]\n",
    "plotter = pv.Plotter(shape=(1, len(clips)), window_size=(1200, 500))\n",
    "for i, (clip, label) in enumerate(zip(clips, labels)):\n",
    "    plotter.subplot(0, i)\n",
    "    plotter.add_mesh(clip, scalars = field_name,\n",
    "                     cmap = my_cmap,\n",
    "                    scalar_bar_args={'title': f'{field_name} ({i})',\n",
    "                    'label_font_size': 10,\n",
    "                    'title_font_size': 8,}\n",
    "                    )\n",
    "    \n",
    "\n",
    "    plotter.add_text(label)\n",
    "\n",
    "plotter.show()"
   ]
  },
  {
   "cell_type": "code",
   "execution_count": null,
   "metadata": {},
   "outputs": [],
   "source": []
  },
  {
   "cell_type": "code",
   "execution_count": null,
   "metadata": {},
   "outputs": [],
   "source": []
  }
 ],
 "metadata": {
  "kernelspec": {
   "display_name": ".venv",
   "language": "python",
   "name": "python3"
  },
  "language_info": {
   "codemirror_mode": {
    "name": "ipython",
    "version": 3
   },
   "file_extension": ".py",
   "mimetype": "text/x-python",
   "name": "python",
   "nbconvert_exporter": "python",
   "pygments_lexer": "ipython3",
   "version": "3.12.4"
  }
 },
 "nbformat": 4,
 "nbformat_minor": 2
}
