{
 "cells": [
  {
   "cell_type": "code",
   "execution_count": null,
   "metadata": {},
   "outputs": [],
   "source": [
    "import sys\n",
    "import numpy as np\n",
    "import pyvista as pv\n",
    "from pathlib import Path\n",
    "import pandas as pd\n",
    "from matplotlib import pyplot as plt\n",
    "import pint\n",
    "import pint_pandas\n",
    "import vtk\n",
    "import yaml\n"
   ]
  },
  {
   "cell_type": "code",
   "execution_count": 3,
   "metadata": {},
   "outputs": [],
   "source": [
    "sys.path.append(str(Path.cwd().parent))"
   ]
  },
  {
   "cell_type": "code",
   "execution_count": 4,
   "metadata": {},
   "outputs": [],
   "source": [
    "from comsol_module.comsol_classes import COMSOL_VTU\n",
    "from comsol_module.helper import calculate_normal\n",
    "from src.utils import safe_parse_quantity, delete_comsol_fields, map_on_control_mesh, load_pint_data\n",
    "from scripts.C_map_on_control_mesh import handle_invalid_point_mask\n"
   ]
  },
  {
   "cell_type": "code",
   "execution_count": 5,
   "metadata": {},
   "outputs": [],
   "source": [
    "comsol_data = COMSOL_VTU(\"/Users/thomassimader/Library/CloudStorage/OneDrive-geomeconGmbH/PhD/NIRB/data/07/TrainingOriginal/Training_000.vtu\")\n",
    "entropy = np.load(\"/Users/thomassimader/Library/CloudStorage/OneDrive-geomeconGmbH/PhD/NIRB/data/07/TrainingOriginal/Training_entropy_gen_per_vol_thermal.npy\")"
   ]
  },
  {
   "cell_type": "code",
   "execution_count": null,
   "metadata": {},
   "outputs": [
    {
     "name": "stdout",
     "output_type": "stream",
     "text": [
      "Updated scalers in: /Users/thomassimader/Library/CloudStorage/OneDrive-geomeconGmbH/PhD/NIRB/data/07/optuna_logs/trial_54/hparams.yaml\n",
      "Updated scalers in: /Users/thomassimader/Library/CloudStorage/OneDrive-geomeconGmbH/PhD/NIRB/data/07/optuna_logs/trial_98/hparams.yaml\n",
      "Updated scalers in: /Users/thomassimader/Library/CloudStorage/OneDrive-geomeconGmbH/PhD/NIRB/data/07/optuna_logs/trial_53/hparams.yaml\n",
      "Updated scalers in: /Users/thomassimader/Library/CloudStorage/OneDrive-geomeconGmbH/PhD/NIRB/data/07/optuna_logs/trial_65/hparams.yaml\n",
      "Updated scalers in: /Users/thomassimader/Library/CloudStorage/OneDrive-geomeconGmbH/PhD/NIRB/data/07/optuna_logs/trial_91/hparams.yaml\n",
      "Updated scalers in: /Users/thomassimader/Library/CloudStorage/OneDrive-geomeconGmbH/PhD/NIRB/data/07/optuna_logs/trial_96/hparams.yaml\n",
      "Updated scalers in: /Users/thomassimader/Library/CloudStorage/OneDrive-geomeconGmbH/PhD/NIRB/data/07/optuna_logs/trial_62/hparams.yaml\n",
      "Updated scalers in: /Users/thomassimader/Library/CloudStorage/OneDrive-geomeconGmbH/PhD/NIRB/data/07/optuna_logs/trial_36/hparams.yaml\n",
      "Updated scalers in: /Users/thomassimader/Library/CloudStorage/OneDrive-geomeconGmbH/PhD/NIRB/data/07/optuna_logs/trial_31/hparams.yaml\n",
      "Updated scalers in: /Users/thomassimader/Library/CloudStorage/OneDrive-geomeconGmbH/PhD/NIRB/data/07/optuna_logs/trial_38/hparams.yaml\n",
      "Updated scalers in: /Users/thomassimader/Library/CloudStorage/OneDrive-geomeconGmbH/PhD/NIRB/data/07/optuna_logs/trial_63/hparams.yaml\n",
      "Updated scalers in: /Users/thomassimader/Library/CloudStorage/OneDrive-geomeconGmbH/PhD/NIRB/data/07/optuna_logs/trial_97/hparams.yaml\n",
      "Updated scalers in: /Users/thomassimader/Library/CloudStorage/OneDrive-geomeconGmbH/PhD/NIRB/data/07/optuna_logs/trial_90/hparams.yaml\n",
      "Updated scalers in: /Users/thomassimader/Library/CloudStorage/OneDrive-geomeconGmbH/PhD/NIRB/data/07/optuna_logs/trial_64/hparams.yaml\n",
      "Updated scalers in: /Users/thomassimader/Library/CloudStorage/OneDrive-geomeconGmbH/PhD/NIRB/data/07/optuna_logs/trial_99/hparams.yaml\n",
      "Updated scalers in: /Users/thomassimader/Library/CloudStorage/OneDrive-geomeconGmbH/PhD/NIRB/data/07/optuna_logs/trial_52/hparams.yaml\n",
      "Updated scalers in: /Users/thomassimader/Library/CloudStorage/OneDrive-geomeconGmbH/PhD/NIRB/data/07/optuna_logs/trial_55/hparams.yaml\n",
      "Updated scalers in: /Users/thomassimader/Library/CloudStorage/OneDrive-geomeconGmbH/PhD/NIRB/data/07/optuna_logs/trial_39/hparams.yaml\n",
      "Updated scalers in: /Users/thomassimader/Library/CloudStorage/OneDrive-geomeconGmbH/PhD/NIRB/data/07/optuna_logs/trial_30/hparams.yaml\n",
      "Updated scalers in: /Users/thomassimader/Library/CloudStorage/OneDrive-geomeconGmbH/PhD/NIRB/data/07/optuna_logs/trial_37/hparams.yaml\n",
      "Updated scalers in: /Users/thomassimader/Library/CloudStorage/OneDrive-geomeconGmbH/PhD/NIRB/data/07/optuna_logs/trial_148/hparams.yaml\n",
      "Updated scalers in: /Users/thomassimader/Library/CloudStorage/OneDrive-geomeconGmbH/PhD/NIRB/data/07/optuna_logs/trial_141/hparams.yaml\n",
      "Updated scalers in: /Users/thomassimader/Library/CloudStorage/OneDrive-geomeconGmbH/PhD/NIRB/data/07/optuna_logs/trial_146/hparams.yaml\n",
      "Updated scalers in: /Users/thomassimader/Library/CloudStorage/OneDrive-geomeconGmbH/PhD/NIRB/data/07/optuna_logs/trial_112/hparams.yaml\n",
      "Updated scalers in: /Users/thomassimader/Library/CloudStorage/OneDrive-geomeconGmbH/PhD/NIRB/data/07/optuna_logs/trial_115/hparams.yaml\n",
      "Updated scalers in: /Users/thomassimader/Library/CloudStorage/OneDrive-geomeconGmbH/PhD/NIRB/data/07/optuna_logs/trial_123/hparams.yaml\n",
      "Updated scalers in: /Users/thomassimader/Library/CloudStorage/OneDrive-geomeconGmbH/PhD/NIRB/data/07/optuna_logs/trial_124/hparams.yaml\n",
      "Updated scalers in: /Users/thomassimader/Library/CloudStorage/OneDrive-geomeconGmbH/PhD/NIRB/data/07/optuna_logs/trial_147/hparams.yaml\n",
      "Updated scalers in: /Users/thomassimader/Library/CloudStorage/OneDrive-geomeconGmbH/PhD/NIRB/data/07/optuna_logs/trial_140/hparams.yaml\n",
      "Updated scalers in: /Users/thomassimader/Library/CloudStorage/OneDrive-geomeconGmbH/PhD/NIRB/data/07/optuna_logs/trial_149/hparams.yaml\n",
      "Updated scalers in: /Users/thomassimader/Library/CloudStorage/OneDrive-geomeconGmbH/PhD/NIRB/data/07/optuna_logs/trial_125/hparams.yaml\n",
      "Updated scalers in: /Users/thomassimader/Library/CloudStorage/OneDrive-geomeconGmbH/PhD/NIRB/data/07/optuna_logs/trial_122/hparams.yaml\n",
      "Updated scalers in: /Users/thomassimader/Library/CloudStorage/OneDrive-geomeconGmbH/PhD/NIRB/data/07/optuna_logs/trial_114/hparams.yaml\n",
      "Updated scalers in: /Users/thomassimader/Library/CloudStorage/OneDrive-geomeconGmbH/PhD/NIRB/data/07/optuna_logs/trial_113/hparams.yaml\n",
      "Updated scalers in: /Users/thomassimader/Library/CloudStorage/OneDrive-geomeconGmbH/PhD/NIRB/data/07/optuna_logs/trial_131/hparams.yaml\n",
      "Updated scalers in: /Users/thomassimader/Library/CloudStorage/OneDrive-geomeconGmbH/PhD/NIRB/data/07/optuna_logs/trial_136/hparams.yaml\n",
      "Updated scalers in: /Users/thomassimader/Library/CloudStorage/OneDrive-geomeconGmbH/PhD/NIRB/data/07/optuna_logs/trial_109/hparams.yaml\n",
      "Updated scalers in: /Users/thomassimader/Library/CloudStorage/OneDrive-geomeconGmbH/PhD/NIRB/data/07/optuna_logs/trial_100/hparams.yaml\n",
      "Updated scalers in: /Users/thomassimader/Library/CloudStorage/OneDrive-geomeconGmbH/PhD/NIRB/data/07/optuna_logs/trial_107/hparams.yaml\n",
      "Updated scalers in: /Users/thomassimader/Library/CloudStorage/OneDrive-geomeconGmbH/PhD/NIRB/data/07/optuna_logs/trial_138/hparams.yaml\n",
      "Updated scalers in: /Users/thomassimader/Library/CloudStorage/OneDrive-geomeconGmbH/PhD/NIRB/data/07/optuna_logs/trial_106/hparams.yaml\n",
      "Updated scalers in: /Users/thomassimader/Library/CloudStorage/OneDrive-geomeconGmbH/PhD/NIRB/data/07/optuna_logs/trial_139/hparams.yaml\n",
      "Updated scalers in: /Users/thomassimader/Library/CloudStorage/OneDrive-geomeconGmbH/PhD/NIRB/data/07/optuna_logs/trial_101/hparams.yaml\n",
      "Updated scalers in: /Users/thomassimader/Library/CloudStorage/OneDrive-geomeconGmbH/PhD/NIRB/data/07/optuna_logs/trial_137/hparams.yaml\n",
      "Updated scalers in: /Users/thomassimader/Library/CloudStorage/OneDrive-geomeconGmbH/PhD/NIRB/data/07/optuna_logs/trial_108/hparams.yaml\n",
      "Updated scalers in: /Users/thomassimader/Library/CloudStorage/OneDrive-geomeconGmbH/PhD/NIRB/data/07/optuna_logs/trial_130/hparams.yaml\n",
      "Updated scalers in: /Users/thomassimader/Library/CloudStorage/OneDrive-geomeconGmbH/PhD/NIRB/data/07/optuna_logs/trial_15/hparams.yaml\n",
      "Updated scalers in: /Users/thomassimader/Library/CloudStorage/OneDrive-geomeconGmbH/PhD/NIRB/data/07/optuna_logs/trial_12/hparams.yaml\n",
      "Updated scalers in: /Users/thomassimader/Library/CloudStorage/OneDrive-geomeconGmbH/PhD/NIRB/data/07/optuna_logs/trial_24/hparams.yaml\n",
      "Updated scalers in: /Users/thomassimader/Library/CloudStorage/OneDrive-geomeconGmbH/PhD/NIRB/data/07/optuna_logs/trial_23/hparams.yaml\n",
      "Updated scalers in: /Users/thomassimader/Library/CloudStorage/OneDrive-geomeconGmbH/PhD/NIRB/data/07/optuna_logs/trial_77/hparams.yaml\n",
      "Updated scalers in: /Users/thomassimader/Library/CloudStorage/OneDrive-geomeconGmbH/PhD/NIRB/data/07/optuna_logs/trial_83/hparams.yaml\n",
      "Updated scalers in: /Users/thomassimader/Library/CloudStorage/OneDrive-geomeconGmbH/PhD/NIRB/data/07/optuna_logs/trial_5/hparams.yaml\n",
      "Updated scalers in: /Users/thomassimader/Library/CloudStorage/OneDrive-geomeconGmbH/PhD/NIRB/data/07/optuna_logs/trial_48/hparams.yaml\n",
      "Updated scalers in: /Users/thomassimader/Library/CloudStorage/OneDrive-geomeconGmbH/PhD/NIRB/data/07/optuna_logs/trial_84/hparams.yaml\n",
      "Updated scalers in: /Users/thomassimader/Library/CloudStorage/OneDrive-geomeconGmbH/PhD/NIRB/data/07/optuna_logs/trial_70/hparams.yaml\n",
      "Updated scalers in: /Users/thomassimader/Library/CloudStorage/OneDrive-geomeconGmbH/PhD/NIRB/data/07/optuna_logs/trial_2/hparams.yaml\n",
      "Updated scalers in: /Users/thomassimader/Library/CloudStorage/OneDrive-geomeconGmbH/PhD/NIRB/data/07/optuna_logs/trial_46/hparams.yaml\n",
      "Updated scalers in: /Users/thomassimader/Library/CloudStorage/OneDrive-geomeconGmbH/PhD/NIRB/data/07/optuna_logs/trial_79/hparams.yaml\n",
      "Updated scalers in: /Users/thomassimader/Library/CloudStorage/OneDrive-geomeconGmbH/PhD/NIRB/data/07/optuna_logs/trial_41/hparams.yaml\n",
      "Updated scalers in: /Users/thomassimader/Library/CloudStorage/OneDrive-geomeconGmbH/PhD/NIRB/data/07/optuna_logs/trial_22/hparams.yaml\n",
      "Updated scalers in: /Users/thomassimader/Library/CloudStorage/OneDrive-geomeconGmbH/PhD/NIRB/data/07/optuna_logs/trial_25/hparams.yaml\n",
      "Updated scalers in: /Users/thomassimader/Library/CloudStorage/OneDrive-geomeconGmbH/PhD/NIRB/data/07/optuna_logs/trial_13/hparams.yaml\n",
      "Updated scalers in: /Users/thomassimader/Library/CloudStorage/OneDrive-geomeconGmbH/PhD/NIRB/data/07/optuna_logs/trial_14/hparams.yaml\n",
      "Updated scalers in: /Users/thomassimader/Library/CloudStorage/OneDrive-geomeconGmbH/PhD/NIRB/data/07/optuna_logs/trial_40/hparams.yaml\n",
      "Updated scalers in: /Users/thomassimader/Library/CloudStorage/OneDrive-geomeconGmbH/PhD/NIRB/data/07/optuna_logs/trial_47/hparams.yaml\n",
      "Updated scalers in: /Users/thomassimader/Library/CloudStorage/OneDrive-geomeconGmbH/PhD/NIRB/data/07/optuna_logs/trial_78/hparams.yaml\n",
      "Updated scalers in: /Users/thomassimader/Library/CloudStorage/OneDrive-geomeconGmbH/PhD/NIRB/data/07/optuna_logs/trial_71/hparams.yaml\n",
      "Updated scalers in: /Users/thomassimader/Library/CloudStorage/OneDrive-geomeconGmbH/PhD/NIRB/data/07/optuna_logs/trial_85/hparams.yaml\n",
      "Updated scalers in: /Users/thomassimader/Library/CloudStorage/OneDrive-geomeconGmbH/PhD/NIRB/data/07/optuna_logs/trial_3/hparams.yaml\n",
      "Updated scalers in: /Users/thomassimader/Library/CloudStorage/OneDrive-geomeconGmbH/PhD/NIRB/data/07/optuna_logs/trial_82/hparams.yaml\n",
      "Updated scalers in: /Users/thomassimader/Library/CloudStorage/OneDrive-geomeconGmbH/PhD/NIRB/data/07/optuna_logs/trial_76/hparams.yaml\n",
      "Updated scalers in: /Users/thomassimader/Library/CloudStorage/OneDrive-geomeconGmbH/PhD/NIRB/data/07/optuna_logs/trial_4/hparams.yaml\n",
      "Updated scalers in: /Users/thomassimader/Library/CloudStorage/OneDrive-geomeconGmbH/PhD/NIRB/data/07/optuna_logs/trial_49/hparams.yaml\n",
      "Updated scalers in: /Users/thomassimader/Library/CloudStorage/OneDrive-geomeconGmbH/PhD/NIRB/data/07/optuna_logs/trial_32/hparams.yaml\n",
      "Updated scalers in: /Users/thomassimader/Library/CloudStorage/OneDrive-geomeconGmbH/PhD/NIRB/data/07/optuna_logs/trial_35/hparams.yaml\n",
      "Updated scalers in: /Users/thomassimader/Library/CloudStorage/OneDrive-geomeconGmbH/PhD/NIRB/data/07/optuna_logs/trial_50/hparams.yaml\n",
      "Updated scalers in: /Users/thomassimader/Library/CloudStorage/OneDrive-geomeconGmbH/PhD/NIRB/data/07/optuna_logs/trial_68/hparams.yaml\n",
      "Updated scalers in: /Users/thomassimader/Library/CloudStorage/OneDrive-geomeconGmbH/PhD/NIRB/data/07/optuna_logs/trial_57/hparams.yaml\n",
      "Updated scalers in: /Users/thomassimader/Library/CloudStorage/OneDrive-geomeconGmbH/PhD/NIRB/data/07/optuna_logs/trial_95/hparams.yaml\n",
      "Updated scalers in: /Users/thomassimader/Library/CloudStorage/OneDrive-geomeconGmbH/PhD/NIRB/data/07/optuna_logs/trial_61/hparams.yaml\n",
      "Updated scalers in: /Users/thomassimader/Library/CloudStorage/OneDrive-geomeconGmbH/PhD/NIRB/data/07/optuna_logs/trial_59/hparams.yaml\n",
      "Updated scalers in: /Users/thomassimader/Library/CloudStorage/OneDrive-geomeconGmbH/PhD/NIRB/data/07/optuna_logs/trial_66/hparams.yaml\n",
      "Updated scalers in: /Users/thomassimader/Library/CloudStorage/OneDrive-geomeconGmbH/PhD/NIRB/data/07/optuna_logs/trial_92/hparams.yaml\n",
      "Updated scalers in: /Users/thomassimader/Library/CloudStorage/OneDrive-geomeconGmbH/PhD/NIRB/data/07/optuna_logs/trial_34/hparams.yaml\n",
      "Updated scalers in: /Users/thomassimader/Library/CloudStorage/OneDrive-geomeconGmbH/PhD/NIRB/data/07/optuna_logs/trial_33/hparams.yaml\n",
      "Updated scalers in: /Users/thomassimader/Library/CloudStorage/OneDrive-geomeconGmbH/PhD/NIRB/data/07/optuna_logs/trial_58/hparams.yaml\n",
      "Updated scalers in: /Users/thomassimader/Library/CloudStorage/OneDrive-geomeconGmbH/PhD/NIRB/data/07/optuna_logs/trial_93/hparams.yaml\n",
      "Updated scalers in: /Users/thomassimader/Library/CloudStorage/OneDrive-geomeconGmbH/PhD/NIRB/data/07/optuna_logs/trial_67/hparams.yaml\n",
      "Updated scalers in: /Users/thomassimader/Library/CloudStorage/OneDrive-geomeconGmbH/PhD/NIRB/data/07/optuna_logs/trial_60/hparams.yaml\n",
      "Updated scalers in: /Users/thomassimader/Library/CloudStorage/OneDrive-geomeconGmbH/PhD/NIRB/data/07/optuna_logs/trial_94/hparams.yaml\n",
      "Updated scalers in: /Users/thomassimader/Library/CloudStorage/OneDrive-geomeconGmbH/PhD/NIRB/data/07/optuna_logs/trial_69/hparams.yaml\n",
      "Updated scalers in: /Users/thomassimader/Library/CloudStorage/OneDrive-geomeconGmbH/PhD/NIRB/data/07/optuna_logs/trial_56/hparams.yaml\n",
      "Updated scalers in: /Users/thomassimader/Library/CloudStorage/OneDrive-geomeconGmbH/PhD/NIRB/data/07/optuna_logs/trial_51/hparams.yaml\n",
      "Updated scalers in: /Users/thomassimader/Library/CloudStorage/OneDrive-geomeconGmbH/PhD/NIRB/data/07/optuna_logs/trial_129/hparams.yaml\n",
      "Updated scalers in: /Users/thomassimader/Library/CloudStorage/OneDrive-geomeconGmbH/PhD/NIRB/data/07/optuna_logs/trial_116/hparams.yaml\n",
      "Updated scalers in: /Users/thomassimader/Library/CloudStorage/OneDrive-geomeconGmbH/PhD/NIRB/data/07/optuna_logs/trial_111/hparams.yaml\n",
      "Updated scalers in: /Users/thomassimader/Library/CloudStorage/OneDrive-geomeconGmbH/PhD/NIRB/data/07/optuna_logs/trial_118/hparams.yaml\n",
      "Updated scalers in: /Users/thomassimader/Library/CloudStorage/OneDrive-geomeconGmbH/PhD/NIRB/data/07/optuna_logs/trial_127/hparams.yaml\n",
      "Updated scalers in: /Users/thomassimader/Library/CloudStorage/OneDrive-geomeconGmbH/PhD/NIRB/data/07/optuna_logs/trial_120/hparams.yaml\n",
      "Updated scalers in: /Users/thomassimader/Library/CloudStorage/OneDrive-geomeconGmbH/PhD/NIRB/data/07/optuna_logs/trial_145/hparams.yaml\n",
      "Updated scalers in: /Users/thomassimader/Library/CloudStorage/OneDrive-geomeconGmbH/PhD/NIRB/data/07/optuna_logs/trial_142/hparams.yaml\n",
      "Updated scalers in: /Users/thomassimader/Library/CloudStorage/OneDrive-geomeconGmbH/PhD/NIRB/data/07/optuna_logs/trial_121/hparams.yaml\n",
      "Updated scalers in: /Users/thomassimader/Library/CloudStorage/OneDrive-geomeconGmbH/PhD/NIRB/data/07/optuna_logs/trial_119/hparams.yaml\n",
      "Updated scalers in: /Users/thomassimader/Library/CloudStorage/OneDrive-geomeconGmbH/PhD/NIRB/data/07/optuna_logs/trial_126/hparams.yaml\n",
      "Updated scalers in: /Users/thomassimader/Library/CloudStorage/OneDrive-geomeconGmbH/PhD/NIRB/data/07/optuna_logs/trial_110/hparams.yaml\n",
      "Updated scalers in: /Users/thomassimader/Library/CloudStorage/OneDrive-geomeconGmbH/PhD/NIRB/data/07/optuna_logs/trial_128/hparams.yaml\n",
      "Updated scalers in: /Users/thomassimader/Library/CloudStorage/OneDrive-geomeconGmbH/PhD/NIRB/data/07/optuna_logs/trial_117/hparams.yaml\n",
      "Updated scalers in: /Users/thomassimader/Library/CloudStorage/OneDrive-geomeconGmbH/PhD/NIRB/data/07/optuna_logs/trial_143/hparams.yaml\n",
      "Updated scalers in: /Users/thomassimader/Library/CloudStorage/OneDrive-geomeconGmbH/PhD/NIRB/data/07/optuna_logs/trial_144/hparams.yaml\n",
      "Updated scalers in: /Users/thomassimader/Library/CloudStorage/OneDrive-geomeconGmbH/PhD/NIRB/data/07/optuna_logs/trial_135/hparams.yaml\n",
      "Updated scalers in: /Users/thomassimader/Library/CloudStorage/OneDrive-geomeconGmbH/PhD/NIRB/data/07/optuna_logs/trial_132/hparams.yaml\n",
      "Updated scalers in: /Users/thomassimader/Library/CloudStorage/OneDrive-geomeconGmbH/PhD/NIRB/data/07/optuna_logs/trial_104/hparams.yaml\n",
      "Updated scalers in: /Users/thomassimader/Library/CloudStorage/OneDrive-geomeconGmbH/PhD/NIRB/data/07/optuna_logs/trial_103/hparams.yaml\n",
      "Updated scalers in: /Users/thomassimader/Library/CloudStorage/OneDrive-geomeconGmbH/PhD/NIRB/data/07/optuna_logs/trial_102/hparams.yaml\n",
      "Updated scalers in: /Users/thomassimader/Library/CloudStorage/OneDrive-geomeconGmbH/PhD/NIRB/data/07/optuna_logs/trial_105/hparams.yaml\n",
      "Updated scalers in: /Users/thomassimader/Library/CloudStorage/OneDrive-geomeconGmbH/PhD/NIRB/data/07/optuna_logs/trial_133/hparams.yaml\n",
      "Updated scalers in: /Users/thomassimader/Library/CloudStorage/OneDrive-geomeconGmbH/PhD/NIRB/data/07/optuna_logs/trial_134/hparams.yaml\n",
      "Updated scalers in: /Users/thomassimader/Library/CloudStorage/OneDrive-geomeconGmbH/PhD/NIRB/data/07/optuna_logs/trial_87/hparams.yaml\n",
      "Updated scalers in: /Users/thomassimader/Library/CloudStorage/OneDrive-geomeconGmbH/PhD/NIRB/data/07/optuna_logs/trial_73/hparams.yaml\n",
      "Updated scalers in: /Users/thomassimader/Library/CloudStorage/OneDrive-geomeconGmbH/PhD/NIRB/data/07/optuna_logs/trial_1/hparams.yaml\n",
      "Updated scalers in: /Users/thomassimader/Library/CloudStorage/OneDrive-geomeconGmbH/PhD/NIRB/data/07/optuna_logs/trial_74/hparams.yaml\n",
      "Updated scalers in: /Users/thomassimader/Library/CloudStorage/OneDrive-geomeconGmbH/PhD/NIRB/data/07/optuna_logs/trial_80/hparams.yaml\n",
      "Updated scalers in: /Users/thomassimader/Library/CloudStorage/OneDrive-geomeconGmbH/PhD/NIRB/data/07/optuna_logs/trial_6/hparams.yaml\n",
      "Updated scalers in: /Users/thomassimader/Library/CloudStorage/OneDrive-geomeconGmbH/PhD/NIRB/data/07/optuna_logs/trial_42/hparams.yaml\n",
      "Updated scalers in: /Users/thomassimader/Library/CloudStorage/OneDrive-geomeconGmbH/PhD/NIRB/data/07/optuna_logs/trial_89/hparams.yaml\n",
      "Updated scalers in: /Users/thomassimader/Library/CloudStorage/OneDrive-geomeconGmbH/PhD/NIRB/data/07/optuna_logs/trial_45/hparams.yaml\n",
      "Updated scalers in: /Users/thomassimader/Library/CloudStorage/OneDrive-geomeconGmbH/PhD/NIRB/data/07/optuna_logs/trial_8/hparams.yaml\n",
      "Updated scalers in: /Users/thomassimader/Library/CloudStorage/OneDrive-geomeconGmbH/PhD/NIRB/data/07/optuna_logs/trial_11/hparams.yaml\n",
      "Updated scalers in: /Users/thomassimader/Library/CloudStorage/OneDrive-geomeconGmbH/PhD/NIRB/data/07/optuna_logs/trial_29/hparams.yaml\n",
      "Updated scalers in: /Users/thomassimader/Library/CloudStorage/OneDrive-geomeconGmbH/PhD/NIRB/data/07/optuna_logs/trial_16/hparams.yaml\n",
      "Updated scalers in: /Users/thomassimader/Library/CloudStorage/OneDrive-geomeconGmbH/PhD/NIRB/data/07/optuna_logs/trial_20/hparams.yaml\n",
      "Updated scalers in: /Users/thomassimader/Library/CloudStorage/OneDrive-geomeconGmbH/PhD/NIRB/data/07/optuna_logs/trial_18/hparams.yaml\n",
      "Updated scalers in: /Users/thomassimader/Library/CloudStorage/OneDrive-geomeconGmbH/PhD/NIRB/data/07/optuna_logs/trial_27/hparams.yaml\n",
      "Updated scalers in: /Users/thomassimader/Library/CloudStorage/OneDrive-geomeconGmbH/PhD/NIRB/data/07/optuna_logs/trial_44/hparams.yaml\n",
      "Updated scalers in: /Users/thomassimader/Library/CloudStorage/OneDrive-geomeconGmbH/PhD/NIRB/data/07/optuna_logs/trial_9/hparams.yaml\n",
      "Updated scalers in: /Users/thomassimader/Library/CloudStorage/OneDrive-geomeconGmbH/PhD/NIRB/data/07/optuna_logs/trial_43/hparams.yaml\n",
      "Updated scalers in: /Users/thomassimader/Library/CloudStorage/OneDrive-geomeconGmbH/PhD/NIRB/data/07/optuna_logs/trial_88/hparams.yaml\n",
      "Updated scalers in: /Users/thomassimader/Library/CloudStorage/OneDrive-geomeconGmbH/PhD/NIRB/data/07/optuna_logs/trial_81/hparams.yaml\n",
      "Updated scalers in: /Users/thomassimader/Library/CloudStorage/OneDrive-geomeconGmbH/PhD/NIRB/data/07/optuna_logs/trial_75/hparams.yaml\n",
      "Updated scalers in: /Users/thomassimader/Library/CloudStorage/OneDrive-geomeconGmbH/PhD/NIRB/data/07/optuna_logs/trial_7/hparams.yaml\n",
      "Updated scalers in: /Users/thomassimader/Library/CloudStorage/OneDrive-geomeconGmbH/PhD/NIRB/data/07/optuna_logs/trial_72/hparams.yaml\n",
      "Updated scalers in: /Users/thomassimader/Library/CloudStorage/OneDrive-geomeconGmbH/PhD/NIRB/data/07/optuna_logs/trial_86/hparams.yaml\n",
      "Updated scalers in: /Users/thomassimader/Library/CloudStorage/OneDrive-geomeconGmbH/PhD/NIRB/data/07/optuna_logs/trial_0/hparams.yaml\n",
      "Updated scalers in: /Users/thomassimader/Library/CloudStorage/OneDrive-geomeconGmbH/PhD/NIRB/data/07/optuna_logs/trial_19/hparams.yaml\n",
      "Updated scalers in: /Users/thomassimader/Library/CloudStorage/OneDrive-geomeconGmbH/PhD/NIRB/data/07/optuna_logs/trial_26/hparams.yaml\n",
      "Updated scalers in: /Users/thomassimader/Library/CloudStorage/OneDrive-geomeconGmbH/PhD/NIRB/data/07/optuna_logs/trial_21/hparams.yaml\n",
      "Updated scalers in: /Users/thomassimader/Library/CloudStorage/OneDrive-geomeconGmbH/PhD/NIRB/data/07/optuna_logs/trial_28/hparams.yaml\n",
      "Updated scalers in: /Users/thomassimader/Library/CloudStorage/OneDrive-geomeconGmbH/PhD/NIRB/data/07/optuna_logs/trial_17/hparams.yaml\n",
      "Updated scalers in: /Users/thomassimader/Library/CloudStorage/OneDrive-geomeconGmbH/PhD/NIRB/data/07/optuna_logs/trial_10/hparams.yaml\n"
     ]
    }
   ],
   "source": [
    "# class QuotedStr(str): \n",
    "#     pass\n",
    "    \n",
    "# def quoted_presenter(dumper, data):\n",
    "#     return dumper.represent_scalar('tag:yaml.org,2002:str', data, style='\"')\n",
    "\n",
    "# yaml.add_representer(QuotedStr, quoted_presenter)\n",
    "\n",
    "\n",
    "# def quote_scalers_in_yaml(file_path):\n",
    "#     with open(file_path, 'r') as f:\n",
    "#         data = yaml.unsafe_load(f)\n",
    "\n",
    "\n",
    "#     for key in ['scaler_features', 'scaler_outputs']:\n",
    "#         if key in data:\n",
    "#             data[key] = QuotedStr(str(data[key]))\n",
    "\n",
    "#     with open(file_path, 'w') as f:\n",
    "#         yaml.dump(data, f, default_flow_style=False, sort_keys=False)\n",
    "\n",
    "#     print(f'Updated scalers in: {file_path}')\n",
    "\n",
    "# log_folder = Path(\"/Users/thomassimader/Library/CloudStorage/OneDrive-geomeconGmbH/PhD/NIRB/data/07/optuna_logs\")\n",
    "# for path in log_folder.rglob(\"*.yaml\"):\n",
    "#     quote_scalers_in_yaml(path)"
   ]
  },
  {
   "cell_type": "markdown",
   "metadata": {},
   "source": [
    "### Merge CSV"
   ]
  },
  {
   "cell_type": "code",
   "execution_count": 4,
   "metadata": {},
   "outputs": [],
   "source": [
    "ureg = pint.get_application_registry()\n",
    "pint_pandas.PintType.ureg = ureg\n",
    "folder = Path(\"/Users/thomassimader/Documents/NIRB/data/03\")\n",
    "names = [\"test_samples0.csv\",\n",
    "         \"test_samples1.csv\",]\n",
    "dfs = []\n",
    "for file in names:\n",
    "    df = load_pint_data(folder / file) \n",
    "    dfs.append(df)\n",
    "merged = pd.concat(dfs, ignore_index=True)\n",
    "merged_dq = merged.pint.dequantify()\n",
    "merged_dq.to_csv(folder / \"merged.csv\", index = False)"
   ]
  },
  {
   "cell_type": "code",
   "execution_count": null,
   "metadata": {},
   "outputs": [],
   "source": [
    "merged"
   ]
  },
  {
   "cell_type": "code",
   "execution_count": null,
   "metadata": {},
   "outputs": [],
   "source": [
    "path = Path.home() / \"documents\" / \"NIRB\" / \"data\" / \"03\"\n",
    "df = pd.read_csv(path / \"training_samples.csv\", header=[0, 1])\n",
    "df.describe()"
   ]
  },
  {
   "cell_type": "markdown",
   "metadata": {},
   "source": [
    "### Delte Comsol Fields"
   ]
  },
  {
   "cell_type": "code",
   "execution_count": 12,
   "metadata": {},
   "outputs": [],
   "source": [
    "root = \"/Users/thomassimader/Documents/NIRB/data/01/TestOriginal\"\n",
    "assert Path(root).exists()\n",
    "for file in Path(root).iterdir():\n",
    "    if file.suffix != \".vtu\":\n",
    "        continue\n",
    "    if int(file.stem.split(\"_\")[-1]) < -1:\n",
    "        continue\n",
    "    comsol_data = COMSOL_VTU(file)\n",
    "    comsol_data = delete_comsol_fields(comsol_data, [\"Temperature\", \"Pressure\"])\n",
    "    comsol_data.mesh.save(file)"
   ]
  },
  {
   "cell_type": "markdown",
   "metadata": {},
   "source": [
    "### Plot Denise Datasets"
   ]
  },
  {
   "cell_type": "code",
   "execution_count": 2,
   "metadata": {},
   "outputs": [
    {
     "data": {
      "text/plain": [
       "PosixPath('/Users/thomassimader/Library/CloudStorage/OneDrive-geomeconGmbH/KarboEx2/DATA/OpenSourceData/BenchmarkExamplePerspectivePBML/Data/Hydrology/TrainingSnapshotsPressure_scaled.npy')"
      ]
     },
     "execution_count": 2,
     "metadata": {},
     "output_type": "execute_result"
    }
   ],
   "source": [
    "### Geomechanics Data\n",
    "# file1 = Path(\"/Users/thomassimader/Library/CloudStorage/OneDrive-geomeconGmbH/KarboEx2/DATA/OpenSourceData/NI-RBGeomechanics/Data/Benchmark/Case1_BoundaryCondition/TrainingDataBoundaryConditionsStressXX_scaled_borehole.npy\")\n",
    "# file2 = Path(\"/Users/thomassimader/Library/CloudStorage/OneDrive-geomeconGmbH/KarboEx2/DATA/OpenSourceData/NI-RBGeomechanics/Data/Benchmark/Case1_BoundaryCondition/TrainingsParametersBoundaryConditions.npy\")\n",
    "# file_min = Path(\"/Users/thomassimader/Library/CloudStorage/OneDrive-geomeconGmbH/KarboEx2/DATA/OpenSourceData/NI-RBGeomechanics/Data/Benchmark/Case1_BoundaryCondition/BoundaryConditionsStressXXMax.npy\")\n",
    "# file_max = Path(\"/Users/thomassimader/Library/CloudStorage/OneDrive-geomeconGmbH/KarboEx2/DATA/OpenSourceData/NI-RBGeomechanics/Data/Benchmark/Case1_BoundaryCondition/BoundaryConditionsStressXXMax.npy\")\n",
    "\n",
    "### Geodynamic Data\n",
    "# file1 = Path(\"/Users/thomassimader/Library/CloudStorage/OneDrive-geomeconGmbH/KarboEx2/DATA/OpenSourceData/BenchmarkExamplePerspectivePBML/Data/Geodynamic/TrainingParametersTemperature.npy\")\n",
    "# file2 = Path(\"/Users/thomassimader/Library/CloudStorage/OneDrive-geomeconGmbH/KarboEx2/DATA/OpenSourceData/BenchmarkExamplePerspectivePBML/Data/Geodynamic/TrainingSnapshotsTemperature_scaled.npy\")\n",
    "\n",
    "# ## Geothermal Data\n",
    "file2 = Path(\"/Users/thomassimader/Library/CloudStorage/OneDrive-geomeconGmbH/KarboEx2/DATA/OpenSourceData/BenchmarkExamplePerspectivePBML/Data/Geothermal/TrainingSnapshots.npy\")\n",
    "file1 = Path(\"/Users/thomassimader/Library/CloudStorage/OneDrive-geomeconGmbH/KarboEx2/DATA/OpenSourceData/BenchmarkExamplePerspectivePBML/Data/Geothermal/ValidationParameters.npy\")\n",
    "\n",
    "### Hydrological Data\n",
    "Path(\"/Users/thomassimader/Library/CloudStorage/OneDrive-geomeconGmbH/KarboEx2/DATA/OpenSourceData/BenchmarkExamplePerspectivePBML/Data/Hydrology/TrainingParametersPressure.npy\")\n",
    "Path(\"/Users/thomassimader/Library/CloudStorage/OneDrive-geomeconGmbH/KarboEx2/DATA/OpenSourceData/BenchmarkExamplePerspectivePBML/Data/Hydrology/TrainingSnapshotsPressure_scaled.npy\")"
   ]
  },
  {
   "cell_type": "code",
   "execution_count": null,
   "metadata": {},
   "outputs": [
    {
     "name": "stdout",
     "output_type": "stream",
     "text": [
      "Min: 0.9999999999751581, Max: 5.973412071285284e-10\n"
     ]
    }
   ],
   "source": [
    "min_val = np.min(np.load(file1))\n",
    "max_val = np.max(np.load(file1))\n",
    "print(f\"Min: {min_val}, Max: {max_val}\")"
   ]
  },
  {
   "cell_type": "code",
   "execution_count": null,
   "metadata": {},
   "outputs": [],
   "source": [
    "# ## Geothermal Data\n",
    "file2 = Path(\"/Users/thomassimader/Library/CloudStorage/OneDrive-geomeconGmbH/KarboEx2/DATA/OpenSourceData/BenchmarkExamplePerspectivePBML/Data/Geothermal/TrainingSnapshots.npy\")\n",
    "file1 = Path(\"/Users/thomassimader/Library/CloudStorage/OneDrive-geomeconGmbH/KarboEx2/DATA/OpenSourceData/BenchmarkExamplePerspectivePBML/Data/Geothermal/ValidationParameters.npy\")\n",
    "\n",
    "\n",
    "### Geodynamic Data\n",
    "file1 = Path(\"/Users/thomassimader/Library/CloudStorage/OneDrive-geomeconGmbH/KarboEx2/DATA/OpenSourceData/BenchmarkExamplePerspectivePBML/Data/Geodynamic/TrainingParametersTemperature.npy\")\n",
    "file2 = Path(\"/Users/thomassimader/Library/CloudStorage/OneDrive-geomeconGmbH/KarboEx2/DATA/OpenSourceData/BenchmarkExamplePerspectivePBML/Data/Geodynamic/TrainingSnapshotsTemperature_scaled.npy\")\n",
    "\n",
    "data1 = np.load(file2)\n",
    "fig, (ax1) = plt.subplots(figsize=(10, 5))\n",
    "for d1 in data1:\n",
    "    ax1.plot(d1, label=file1.stem)\n",
    "fig.legend()\n"
   ]
  },
  {
   "cell_type": "markdown",
   "metadata": {},
   "source": [
    "### Rest"
   ]
  },
  {
   "cell_type": "code",
   "execution_count": null,
   "metadata": {},
   "outputs": [],
   "source": [
    "my_cmap = plt.get_cmap(\"coolwarm\", 15)\n",
    "root = Path().cwd().parent / \"data\"\n",
    "print(root)\n",
    "print(root.exists())"
   ]
  },
  {
   "cell_type": "code",
   "execution_count": null,
   "metadata": {},
   "outputs": [],
   "source": [
    "dx = 50\n",
    "dy = 10\n",
    "\n",
    "alpha_1 = np.arctan(dy / dx)\n",
    "alpha_2 = np.arctan(2*dy / dx)\n",
    "alpha_3 = np.arctan(dy / (2 * dx))\n",
    "\n",
    "print(f\"alpha_1 = {np.rad2deg(alpha_1)}\")\n",
    "print(f\"alpha_2 = {np.rad2deg(alpha_2)}\")\n",
    "print(f\"alpha_3 = {np.rad2deg(alpha_3)}\")\n",
    "print(f\"alpha_2 - alpha_1 = {np.rad2deg(alpha_2 - alpha_1)}\")\n",
    "print(f\"alpha_1 - alpha_3 = {np.rad2deg(alpha_1 - alpha_3)}\")\n"
   ]
  },
  {
   "cell_type": "code",
   "execution_count": null,
   "metadata": {},
   "outputs": [],
   "source": [
    "PARAMETER_SPACE = \"01\"\n",
    "DATA_TYPE = \"Test\""
   ]
  },
  {
   "cell_type": "code",
   "execution_count": null,
   "metadata": {},
   "outputs": [],
   "source": [
    "\n",
    "path_domain_3d = root / PARAMETER_SPACE / \"Training\" / \"Training_001.vtu\"\n",
    "domain_3d = COMSOL_VTU(path_domain_3d)\n",
    "print(domain_3d.mesh.bounds)"
   ]
  },
  {
   "cell_type": "code",
   "execution_count": null,
   "metadata": {},
   "outputs": [],
   "source": [
    "def create_smooth_bounds(mesh: pv.DataSet, val_old : float, val_new: float, axis: int = 2) -> pv.DataSet:\n",
    "    mesh.points[:, axis] = np.where(mesh.points[:, axis] == val_old, val_new, mesh.points[:, axis])\n",
    "    return mesh\n",
    "\n",
    "print(domain_3d.mesh.bounds)#\n",
    "# bound_indices = [1, 3, 4]\n",
    "# for i_axis, i_bound in enumerate(bound_indices):\n",
    "#     while np.abs(domain_3d.mesh.bounds[i_bound]) > int(np.abs(domain_3d.mesh.bounds[i_bound])):\n",
    "#         domain_3d.mesh = create_smooth_bounds(domain_3d.mesh,\n",
    "#                                               domain_3d.mesh.bounds[i_bound],\n",
    "#                                               int(domain_3d.mesh.bounds[i_bound]) , axis=i_axis)\n",
    "# print(domain_3d.mesh.bounds)\n",
    "\n",
    "\n",
    "# Get the points of the mesh\n",
    "points = domain_3d.mesh.points\n",
    "domain_3d.original_bounds = domain_3d.mesh.bounds\n",
    "\n",
    "# # Find the minimum Z value (bottom of the box)\n",
    "# z_min = np.min(points[:, 2])\n",
    "\n",
    "# # Identify points that are at the minimum Z value (i.e., the bottom of the mesh)\n",
    "# # You can add a small tolerance to ensure you select points near the boundary (if needed)\n",
    "# bottom_boundary_points = points[points[:, 2] == z_min]\n",
    "\n",
    "\n",
    "# points[points[:, 2] == z_min, 2] -= 20  # Modify only Z-coordinate\n",
    "# # Update the mesh with the new points\n",
    "# domain_3d.mesh.points = points\n",
    "\n",
    "# Optionally, visualize the updated mesh\n",
    "domain_3d.mesh.plot()\n",
    "print(domain_3d.mesh.bounds)"
   ]
  },
  {
   "cell_type": "code",
   "execution_count": null,
   "metadata": {},
   "outputs": [],
   "source": [
    "\n",
    "# destination_mesh = domain_3d.mesh\n",
    "# data_folder = Path(root / VERSION / DATA_TYPE)\n",
    "# assert data_folder.exists(), f\"Data folder {data_folder} does not exist.\"\n",
    "# export_folder =  data_folder.parent / \"Truncated\"\n",
    "# export_folder.mkdir(exist_ok=True)\n",
    "# assert export_folder.exists(), f\"Export folder {export_folder} does not exist.\"\n",
    "# vtu_files = sorted([path for path in data_folder.iterdir() if path.suffix == \".vtu\"])\n",
    "# for idx, vtu_file in tqdm(enumerate(vtu_files), total=len(vtu_files), desc=\"Reading COMSOL files\"):\n",
    "#     temp_data = COMSOL_VTU(vtu_file)\n",
    "#     temp_data = delete_pyvista_fields(temp_data, [\"Temperature\"])\n",
    "#     mapped = map_on_control_mesh(temp_data.mesh, destination_mesh)\n",
    "#     mapped.save(export_folder / vtu_file.name)\n",
    "# destination_mesh.points.shape"
   ]
  },
  {
   "cell_type": "code",
   "execution_count": null,
   "metadata": {},
   "outputs": [],
   "source": [
    "bounds = domain_3d.original_bounds  # (xmin, xmax, ymin, ymax, zmin, zmax)\n",
    "\n",
    "# Grid resolution\n",
    "nx, ny, nz = 100, 100, 100  # You can increase this for more resolution\n",
    "\n",
    "dx, dy, dz = 100, 100, 100  # You can increase this for more resolution\n",
    "# Compute the number of points needed\n",
    "nx = int((bounds[1] - bounds[0]) / dx) + 1\n",
    "ny = int((bounds[3] - bounds[2]) / dy) + 1\n",
    "nz = int((bounds[5] - bounds[4]) / dz) + 1\n",
    "\n",
    "\n",
    "image = vtk.vtkImageData()\n",
    "image.SetDimensions(nx, ny, nz)\n",
    "image.SetOrigin(bounds[0], bounds[2], bounds[4])\n",
    "image.SetSpacing(dx, dy, dz)\n",
    "# image.SetSpacing(\n",
    "#     (bounds[1] - bounds[0]) / (nx - 1),\n",
    "#     (bounds[3] - bounds[2]) / (ny - 1),\n",
    "#     (bounds[5] - bounds[4]) / (nz - 1),\n",
    "# )\n",
    "\n",
    "interpolated_vtk = map_on_control_mesh(domain_3d.mesh, image)\n",
    "print(bounds)\n",
    "print(f\"{(bounds[1] - bounds[0]) / (nx)}\" )\n",
    "# pv_data = pv.wrap(image).save(\"interpolated_output.vti\")"
   ]
  },
  {
   "cell_type": "code",
   "execution_count": null,
   "metadata": {},
   "outputs": [],
   "source": [
    "path_domain_parameters = root /  PARAMETER_SPACE / \"Exports\" / f\"{path_domain_3d.stem}_parameters.csv\"\n",
    "assert path_domain_parameters.exists()\n",
    "df = pd.read_csv(path_domain_parameters, index_col = 0)\n",
    "ureg = pint.UnitRegistry()\n",
    "df['quantity_pint'] = df[df.columns[-1]].apply(lambda x : safe_parse_quantity(x, ureg))\n",
    "# df"
   ]
  },
  {
   "cell_type": "code",
   "execution_count": null,
   "metadata": {},
   "outputs": [],
   "source": [
    "domain_3d.info()\n",
    "fields = domain_3d.exported_fields.copy()\n",
    "fields.remove(\"Temperature\")\n",
    "for field in fields:\n",
    "    domain_3d.delete_field(field)"
   ]
  },
  {
   "cell_type": "code",
   "execution_count": null,
   "metadata": {},
   "outputs": [],
   "source": [
    "dip    = df.loc[\"dip\", \"quantity_pint\"].to(\"deg\")\n",
    "strike = df.loc[\"strike\", \"quantity_pint\"].to(\"deg\")\n",
    "print(dip)\n",
    "print(strike)\n",
    "print(np.round(dip.magnitude))\n",
    "print(np.round(strike.magnitude))"
   ]
  },
  {
   "cell_type": "markdown",
   "metadata": {},
   "source": [
    "### Original Data"
   ]
  },
  {
   "cell_type": "code",
   "execution_count": null,
   "metadata": {},
   "outputs": [],
   "source": [
    "field_name = domain_3d.format_field(\"Temperature\", -1)\n",
    "normal_vector = calculate_normal(np.round(dip.magnitude), np.round(strike.magnitude))\n",
    "clip_original = domain_3d.mesh.clip(normal = -normal_vector, origin=domain_3d.mesh.center)\n",
    "clip_original.plot(scalars = field_name, cmap=my_cmap)\n"
   ]
  },
  {
   "cell_type": "markdown",
   "metadata": {},
   "source": [
    "### Control Mesh"
   ]
  },
  {
   "cell_type": "code",
   "execution_count": null,
   "metadata": {},
   "outputs": [],
   "source": [
    "bounds = domain_3d.original_bounds\n",
    "dx, dy, dz = (100, 100, 100)  # You can increase this for more resolution\n",
    "# Compute the number of points needed (+ 1 as spacing is an interval)\n",
    "nx = int(np.abs((bounds[1] - bounds[0])) / dx) + 1\n",
    "ny = int(np.abs((bounds[3] - bounds[2])) / dy) + 1\n",
    "nz = int(np.abs((bounds[5] - bounds[4])) / dz) + 1\n",
    "grid = pv.ImageData() \n",
    "grid.origin = (bounds[0], bounds[2], bounds[4])\n",
    "grid.dimensions = np.array((nx, ny, nz))\n",
    "grid.spacing = (dx, dy, dz)\n",
    "bbox = pv.Box(bounds=bounds)\n",
    "grid = grid.clip_box(bbox, invert=False)\n",
    "grid.plot(show_edges=True)\n",
    "# grid.slice_orthogonal().plot()\n",
    "print(grid.bounds)\n",
    "print(domain_3d.mesh.bounds)\n",
    "print(grid)"
   ]
  },
  {
   "cell_type": "markdown",
   "metadata": {},
   "source": [
    "### Add plane"
   ]
  },
  {
   "cell_type": "code",
   "execution_count": null,
   "metadata": {},
   "outputs": [],
   "source": [
    "control_mesh = grid  #pv.merge([grid, clipped_plane])\n",
    "control_mesh.clip(normal = -normal_vector, origin=domain_3d.mesh.center).plot()\n",
    "control_mesh_cell = control_mesh.copy()\n"
   ]
  },
  {
   "cell_type": "markdown",
   "metadata": {},
   "source": [
    "### pv.interpolate()"
   ]
  },
  {
   "cell_type": "markdown",
   "metadata": {},
   "source": [
    "vtkGaussianKernel is an interpolation kernel that simply returns the weights for all points found in the sphere defined by radius R. The weights are computed as: $e^{-(\\frac{s*r}{R})^2}$ where r is the distance from the point to be interpolated to a neighboring point within R. The sharpness s simply affects the rate of fall off of the Gaussian. (A more general Gaussian kernel is available from vtkEllipsoidalGaussianKernel.)\n",
    "\n",
    "https://vtk.org/doc/nightly/html/classvtkGaussianKernel.html\n",
    "\n",
    "Examples\n",
    "https://examples.vtk.org/site/Cxx/Meshes/InterpolateFieldDataDemo/"
   ]
  },
  {
   "cell_type": "code",
   "execution_count": null,
   "metadata": {},
   "outputs": [],
   "source": [
    "result              = control_mesh.interpolate(domain_3d.mesh, radius=500, sharpness=2, strategy=\"mask_points\")\n",
    "clip_interpolate = result.clip(normal = -normal_vector, origin=domain_3d.mesh.center)\n",
    "\n",
    "# Visualize\n",
    "# clip_interpolate.plot(scalars=field_name, cmap=my_cmap, show_edges=False)\n",
    "# result.plot(scalars=field_name, cmap=\"coolwarm\", show_edges=True)"
   ]
  },
  {
   "cell_type": "markdown",
   "metadata": {},
   "source": [
    "### pv.Sample()"
   ]
  },
  {
   "cell_type": "code",
   "execution_count": null,
   "metadata": {},
   "outputs": [],
   "source": [
    "cell_mesh = domain_3d.mesh.point_data_to_cell_data(pass_point_data=False)\n",
    "# control_mesh_cell.plot()\n",
    "# Visualize\n",
    "# clip.plot(scalars=field_name, cmap=my_cmap, show_edges=False)\n",
    "# result.plot(scalars=field_name, cmap=\"coolwarm\", show_edges=True)"
   ]
  },
  {
   "cell_type": "code",
   "execution_count": null,
   "metadata": {},
   "outputs": [],
   "source": [
    "result_cell              = control_mesh_cell.sample(domain_3d.mesh, snap_to_closest_point=True, tolerance=5)\n",
    "clip_sample = result_cell.clip(normal = -normal_vector, origin=domain_3d.mesh.center)\n",
    "clip_sample.plot(scalars = field_name)"
   ]
  },
  {
   "cell_type": "code",
   "execution_count": null,
   "metadata": {},
   "outputs": [],
   "source": [
    "print(np.sum(result_cell.point_data[\"vtkGhostType\"] ))\n",
    "print(np.sum(result_cell.point_data[\"vtkValidPointMask\"] == 0 ))"
   ]
  },
  {
   "cell_type": "code",
   "execution_count": null,
   "metadata": {},
   "outputs": [],
   "source": [
    "def round_towards_zero(values, decimals = 1):\n",
    "    factor = 10 ** decimals\n",
    "    return np.trunc(values * factor) / factor"
   ]
  },
  {
   "cell_type": "markdown",
   "metadata": {},
   "source": [
    "### vtkProbeFilter"
   ]
  },
  {
   "cell_type": "code",
   "execution_count": null,
   "metadata": {},
   "outputs": [],
   "source": [
    "bounds = domain_3d.original_bounds  # (xmin, xmax, ymin, ymax, zmin, zmax)\n",
    "\n",
    "dx, dy, dz = 50, 50, 100  # You can increase this for more resolution\n",
    "# Compute the number of points needed\n",
    "zmin = bounds[4] # + dz\n",
    "zmax = bounds[5] \n",
    "\n",
    "nx = int((bounds[1] - bounds[0]) / dx) + 1\n",
    "ny = int((bounds[3] - bounds[2]) / dy) + 1\n",
    "# nz = int((bounds[5] - bounds[4]) / dz) + 1\n",
    "nz = int(np.abs((zmax - zmin)) / dz) + 1  # New z-range\n",
    "\n",
    "\n",
    "\n",
    "image = vtk.vtkImageData()\n",
    "image.SetDimensions(nx, ny, nz)\n",
    "image.SetOrigin(bounds[0], bounds[2], zmin)\n",
    "image.SetSpacing(dx, dy, dz)\n",
    "image_grid = pv.wrap(image)\n",
    "bbox = pv.Box(bounds=np.trunc(bounds))\n",
    "image = image_grid.clip_box(bbox, invert=False)\n",
    "\n",
    "# interpolated_vtk = map_on_control_mesh(domain_3d.mesh, image)\n",
    "# domain_3d.mesh.point_data_to_cell_data()\n",
    "probe = vtk.vtkProbeFilter()\n",
    "probe.SetInputData(image)        # The grid where you want data\n",
    "probe.SetSourceData(domain_3d.mesh)        # The mesh with the data to interpolate\n",
    "# probe.PassCellArraysOn()\n",
    "probe.Update()\n",
    "interpolated = probe.GetOutput()\n",
    "interpolated_vtk = pv.wrap(interpolated)\n",
    "\n",
    "\n",
    "validity_array = interpolated_vtk.point_data['vtkValidPointMask']  # Replace with your actual array name\n",
    "invalid_mask = validity_array == 0  # This assumes NaN marks invalid points\n",
    "invalid_points = interpolated_vtk.extract_points(invalid_mask)\n",
    "\n",
    "print(\"invalid_mask\")\n",
    "print(np.sum(invalid_mask))\n",
    "for idx_inavalid, is_invalid in enumerate(invalid_mask):\n",
    "    if not is_invalid:\n",
    "        continue\n",
    "    invalid_point = interpolated_vtk.points[idx_inavalid]\n",
    "    interpolated_value = handle_invalid_point_mask(invalid_point, domain_3d.mesh, field_name)\n",
    "    interpolated_vtk.point_data[field_name][idx_inavalid] = interpolated_value\n",
    "    \n",
    "clip_vtk = interpolated_vtk.clip(normal = -normal_vector, origin=domain_3d.mesh.center)\n",
    "clip_vtk.plot(scalars = field_name)\n",
    "print(interpolated_vtk.bounds)\n"
   ]
  },
  {
   "cell_type": "code",
   "execution_count": null,
   "metadata": {},
   "outputs": [],
   "source": [
    "print(interpolated_vtk.bounds)\n",
    "print(domain_3d.mesh.bounds)"
   ]
  },
  {
   "cell_type": "code",
   "execution_count": null,
   "metadata": {},
   "outputs": [],
   "source": [
    "\n",
    "producer = vtk.vtkTrivialProducer()\n",
    "producer.SetOutput(domain_3d.mesh)  # .mesh is already a vtkDataSet\n",
    "\n",
    "resample = vtk.vtkResampleToImage()\n",
    "resample.SetInputConnection(producer.GetOutputPort())\n",
    "resample.SetSamplingDimensions(nx, ny, nz)\n",
    "resample.SetUseInputBounds(True)\n",
    "resample.Update()\n",
    "\n",
    "interpolated = pv.wrap(resample.GetOutput())\n",
    "clip_vtk = interpolated.clip(normal = -normal_vector, origin=domain_3d.mesh.center)\n"
   ]
  },
  {
   "cell_type": "markdown",
   "metadata": {},
   "source": [
    "## Plot"
   ]
  },
  {
   "cell_type": "code",
   "execution_count": null,
   "metadata": {},
   "outputs": [],
   "source": [
    "\n",
    "# Loop through the samples and plot\n",
    "clips = [clip_original, clip_interpolate, clip_sample, clip_vtk]\n",
    "labels = [\"Original\", \"pv.Interpolate()\", \"pv.Sample()\", \"vtkProbeFilter\"]\n",
    "plotter = pv.Plotter(shape=(1, len(clips)), window_size=(1200, 500))\n",
    "for i, (clip, label) in enumerate(zip(clips, labels)):\n",
    "    plotter.subplot(0, i)\n",
    "    plotter.add_mesh(clip, scalars = field_name,\n",
    "                     cmap = my_cmap,\n",
    "                    scalar_bar_args={'title': f'{field_name} ({i})',\n",
    "                    'label_font_size': 10,\n",
    "                    'title_font_size': 8,}\n",
    "                    )\n",
    "    \n",
    "\n",
    "    plotter.add_text(label)\n",
    "\n",
    "plotter.show(screenshot=\"ComparisonInterpolation\")"
   ]
  }
 ],
 "metadata": {
  "kernelspec": {
   "display_name": "nirb",
   "language": "python",
   "name": "python3"
  },
  "language_info": {
   "codemirror_mode": {
    "name": "ipython",
    "version": 3
   },
   "file_extension": ".py",
   "mimetype": "text/x-python",
   "name": "python",
   "nbconvert_exporter": "python",
   "pygments_lexer": "ipython3",
   "version": "3.12.4"
  }
 },
 "nbformat": 4,
 "nbformat_minor": 2
}
