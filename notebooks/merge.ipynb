{
 "cells": [
  {
   "cell_type": "code",
   "execution_count": 2,
   "metadata": {},
   "outputs": [],
   "source": [
    "import sys\n",
    "import numpy as np\n",
    "import pyvista as pv\n",
    "from pathlib import Path\n",
    "import pandas as pd\n",
    "from matplotlib import pyplot as plt\n",
    "import pint\n",
    "import pint_pandas\n",
    "import vtk\n",
    "from tqdm import tqdm"
   ]
  },
  {
   "cell_type": "code",
   "execution_count": 3,
   "metadata": {},
   "outputs": [],
   "source": [
    "sys.path.append(str(Path.cwd().parent))"
   ]
  },
  {
   "cell_type": "code",
   "execution_count": 4,
   "metadata": {},
   "outputs": [],
   "source": [
    "from comsol_module.comsol_classes import COMSOL_VTU\n",
    "from comsol_module.helper import calculate_normal\n",
    "from src.utils import safe_parse_quantity, delete_comsol_fields, map_on_control_mesh, load_pint_data\n",
    "from scripts.C_map_on_control_mesh import handle_invalid_point_mask\n"
   ]
  },
  {
   "cell_type": "code",
   "execution_count": 9,
   "metadata": {},
   "outputs": [],
   "source": [
    "ureg = pint.UnitRegistry()\n",
    "pint_pandas.PintType.ureg = ureg\n",
    "folder = Path(\"/Users/thomassimader/Documents/NIRB/data/01\")\n",
    "names = [\"training_samples0.csv\",\n",
    "         \"training_samples1.csv\",\n",
    "         \"training_samples2.csv\",\n",
    "         \"training_samples3.csv\",\n",
    "         \"training_samples4.csv\", \n",
    "         \"training_samples5.csv\",\n",
    "         \"training_samples6.csv\"]\n",
    "dfs = []\n",
    "for file in names:\n",
    "    df = load_pint_data(folder / file) \n",
    "    dfs.append(df)\n",
    "merged = pd.concat(dfs, ignore_index=True)\n",
    "merged_dq = merged.pint.dequantify()\n",
    "merged_dq.to_csv(\"test.csv\", index = False)"
   ]
  },
  {
   "cell_type": "code",
   "execution_count": 10,
   "metadata": {},
   "outputs": [
    {
     "data": {
      "application/vnd.microsoft.datawrangler.viewer.v0+json": {
       "columns": [
        {
         "name": "index",
         "rawType": "int64",
         "type": "integer"
        },
        {
         "name": "host_k",
         "rawType": "pint[meter ** 2][float64]",
         "type": "unknown"
        },
        {
         "name": "T_h",
         "rawType": "pint[kelvin][float64]",
         "type": "unknown"
        }
       ],
       "conversionMethod": "pd.DataFrame",
       "ref": "642ae964-0fd5-49da-a877-d03ac4ff0d1b",
       "rows": [
        [
         "0",
         "5.0699070827470246e-18 meter ** 2",
         "419.7999999999999 kelvin"
        ],
        [
         "1",
         "1.4288939585111065e-17 meter ** 2",
         "485.5 kelvin"
        ],
        [
         "2",
         "2.8510182675038976e-17 meter ** 2",
         "421.6 kelvin"
        ],
        [
         "3",
         "7.673614893618217e-18 meter ** 2",
         "487.2999999999999 kelvin"
        ],
        [
         "4",
         "3.3496543915782656e-18 meter ** 2",
         "473.7999999999999 kelvin"
        ],
        [
         "5",
         "1.9275249131909365e-18 meter ** 2",
         "463.9 kelvin"
        ],
        [
         "6",
         "1.9724227361148535e-16 meter ** 2",
         "445.9 kelvin"
        ],
        [
         "7",
         "1.083926914021204e-17 meter ** 2",
         "427.0 kelvin"
        ],
        [
         "8",
         "4.954501908047906e-17 meter ** 2",
         "447.7 kelvin"
        ],
        [
         "9",
         "1.1350108156723144e-16 meter ** 2",
         "435.1 kelvin"
        ],
        [
         "10",
         "3.4276778654645053e-16 meter ** 2",
         "418.9 kelvin"
        ],
        [
         "11",
         "7.85235634610071e-16 meter ** 2",
         "409.9 kelvin"
        ],
        [
         "12",
         "1.7579236139586966e-17 meter ** 2",
         "454.0 kelvin"
        ],
        [
         "13",
         "4.841723675840999e-16 meter ** 2",
         "471.1 kelvin"
        ],
        [
         "14",
         "3.58921934645005e-18 meter ** 2",
         "486.4 kelvin"
        ],
        [
         "15",
         "5.432503314924325e-18 meter ** 2",
         "416.2 kelvin"
        ],
        [
         "16",
         "1.678804018122566e-18 meter ** 2",
         "490.0 kelvin"
        ],
        [
         "17",
         "2.7861211686297724e-16 meter ** 2",
         "443.2 kelvin"
        ],
        [
         "18",
         "2.426610095082414e-16 meter ** 2",
         "404.5 kelvin"
        ],
        [
         "19",
         "8.609937521845982e-17 meter ** 2",
         "412.6 kelvin"
        ],
        [
         "20",
         "3.845917820453543e-18 meter ** 2",
         "422.5 kelvin"
        ],
        [
         "21",
         "6.2373483548242175e-18 meter ** 2",
         "437.7999999999999 kelvin"
        ],
        [
         "22",
         "1.8407720014689582e-16 meter ** 2",
         "472.0 kelvin"
        ],
        [
         "23",
         "1.7988709151287837e-18 meter ** 2",
         "491.7999999999999 kelvin"
        ],
        [
         "24",
         "2.985382618917957e-16 meter ** 2",
         "430.6 kelvin"
        ],
        [
         "25",
         "3.7583740428844347e-17 meter ** 2",
         "465.7 kelvin"
        ],
        [
         "26",
         "2.9174270140011662e-18 meter ** 2",
         "458.5 kelvin"
        ],
        [
         "27",
         "9.88553094656941e-17 meter ** 2",
         "436.0 kelvin"
        ],
        [
         "28",
         "3.507518739525694e-17 meter ** 2",
         "455.7999999999999 kelvin"
        ],
        [
         "29",
         "4.315190768277668e-17 meter ** 2",
         "463.0 kelvin"
        ],
        [
         "30",
         "9.01571137605957e-16 meter ** 2",
         "482.7999999999999 kelvin"
        ],
        [
         "31",
         "7.328245331389045e-16 meter ** 2",
         "481.9 kelvin"
        ],
        [
         "32",
         "1.6405897731995386e-17 meter ** 2",
         "467.5 kelvin"
        ],
        [
         "33",
         "9.440608762859265e-18 meter ** 2",
         "417.1 kelvin"
        ],
        [
         "34",
         "2.0653801558105354e-18 meter ** 2",
         "407.2 kelvin"
        ],
        [
         "35",
         "1.0351421666793452e-18 meter ** 2",
         "424.2999999999999 kelvin"
        ],
        [
         "36",
         "1.2161860006463704e-16 meter ** 2",
         "438.7 kelvin"
        ],
        [
         "37",
         "4.623810213992594e-17 meter ** 2",
         "480.1 kelvin"
        ],
        [
         "38",
         "9.225714271547628e-17 meter ** 2",
         "410.7999999999999 kelvin"
        ],
        [
         "39",
         "6.839116472814307e-16 meter ** 2",
         "423.4 kelvin"
        ],
        [
         "40",
         "3.935500754557764e-16 meter ** 2",
         "479.2 kelvin"
        ],
        [
         "41",
         "3.05492111321551e-17 meter ** 2",
         "454.9 kelvin"
        ],
        [
         "42",
         "2.1627185237270244e-17 meter ** 2",
         "403.6 kelvin"
        ],
        [
         "43",
         "5.559042572704048e-16 meter ** 2",
         "460.2999999999999 kelvin"
        ],
        [
         "44",
         "1.7179083871575858e-16 meter ** 2",
         "456.7 kelvin"
        ],
        [
         "45",
         "1.244514611771382e-17 meter ** 2",
         "449.5 kelvin"
        ],
        [
         "46",
         "1.1885022274370165e-18 meter ** 2",
         "420.7 kelvin"
        ],
        [
         "47",
         "1.1614486138403461e-17 meter ** 2",
         "431.5 kelvin"
        ],
        [
         "48",
         "4.120975190973287e-18 meter ** 2",
         "464.7999999999999 kelvin"
        ],
        [
         "49",
         "1.6032453906900414e-16 meter ** 2",
         "446.7999999999999 kelvin"
        ]
       ],
       "shape": {
        "columns": 2,
        "rows": 200
       }
      },
      "text/html": [
       "<div>\n",
       "<style scoped>\n",
       "    .dataframe tbody tr th:only-of-type {\n",
       "        vertical-align: middle;\n",
       "    }\n",
       "\n",
       "    .dataframe tbody tr th {\n",
       "        vertical-align: top;\n",
       "    }\n",
       "\n",
       "    .dataframe thead th {\n",
       "        text-align: right;\n",
       "    }\n",
       "</style>\n",
       "<table border=\"1\" class=\"dataframe\">\n",
       "  <thead>\n",
       "    <tr style=\"text-align: right;\">\n",
       "      <th></th>\n",
       "      <th>host_k</th>\n",
       "      <th>T_h</th>\n",
       "    </tr>\n",
       "  </thead>\n",
       "  <tbody>\n",
       "    <tr>\n",
       "      <th>0</th>\n",
       "      <td>5.0699070827470246e-18</td>\n",
       "      <td>419.7999999999999</td>\n",
       "    </tr>\n",
       "    <tr>\n",
       "      <th>1</th>\n",
       "      <td>1.4288939585111065e-17</td>\n",
       "      <td>485.5</td>\n",
       "    </tr>\n",
       "    <tr>\n",
       "      <th>2</th>\n",
       "      <td>2.8510182675038976e-17</td>\n",
       "      <td>421.6</td>\n",
       "    </tr>\n",
       "    <tr>\n",
       "      <th>3</th>\n",
       "      <td>7.673614893618217e-18</td>\n",
       "      <td>487.2999999999999</td>\n",
       "    </tr>\n",
       "    <tr>\n",
       "      <th>4</th>\n",
       "      <td>3.3496543915782656e-18</td>\n",
       "      <td>473.7999999999999</td>\n",
       "    </tr>\n",
       "    <tr>\n",
       "      <th>...</th>\n",
       "      <td>...</td>\n",
       "      <td>...</td>\n",
       "    </tr>\n",
       "    <tr>\n",
       "      <th>195</th>\n",
       "      <td>4.466835921509617e-17</td>\n",
       "      <td>479.4</td>\n",
       "    </tr>\n",
       "    <tr>\n",
       "      <th>196</th>\n",
       "      <td>2.238721138568347e-17</td>\n",
       "      <td>471.9</td>\n",
       "    </tr>\n",
       "    <tr>\n",
       "      <th>197</th>\n",
       "      <td>7.079457843841373e-16</td>\n",
       "      <td>491.9</td>\n",
       "    </tr>\n",
       "    <tr>\n",
       "      <th>198</th>\n",
       "      <td>2.818382931264449e-18</td>\n",
       "      <td>469.4</td>\n",
       "    </tr>\n",
       "    <tr>\n",
       "      <th>199</th>\n",
       "      <td>3.54813389233576e-16</td>\n",
       "      <td>481.9</td>\n",
       "    </tr>\n",
       "  </tbody>\n",
       "</table>\n",
       "<p>200 rows × 2 columns</p>\n",
       "</div>"
      ],
      "text/plain": [
       "                     host_k                T_h\n",
       "0    5.0699070827470246e-18  419.7999999999999\n",
       "1    1.4288939585111065e-17              485.5\n",
       "2    2.8510182675038976e-17              421.6\n",
       "3     7.673614893618217e-18  487.2999999999999\n",
       "4    3.3496543915782656e-18  473.7999999999999\n",
       "..                      ...                ...\n",
       "195   4.466835921509617e-17              479.4\n",
       "196   2.238721138568347e-17              471.9\n",
       "197   7.079457843841373e-16              491.9\n",
       "198   2.818382931264449e-18              469.4\n",
       "199    3.54813389233576e-16              481.9\n",
       "\n",
       "[200 rows x 2 columns]"
      ]
     },
     "execution_count": 10,
     "metadata": {},
     "output_type": "execute_result"
    }
   ],
   "source": [
    "merged"
   ]
  },
  {
   "cell_type": "code",
   "execution_count": null,
   "metadata": {},
   "outputs": [],
   "source": [
    "\n"
   ]
  },
  {
   "cell_type": "code",
   "execution_count": null,
   "metadata": {},
   "outputs": [],
   "source": []
  },
  {
   "cell_type": "code",
   "execution_count": 4,
   "metadata": {},
   "outputs": [
    {
     "name": "stdout",
     "output_type": "stream",
     "text": [
      "/Users/thomassimader/Documents/NIRB/data\n",
      "True\n"
     ]
    }
   ],
   "source": [
    "my_cmap = plt.get_cmap(\"coolwarm\", 15)\n",
    "root = Path().cwd().parent / \"data\"\n",
    "print(root)\n",
    "print(root.exists())"
   ]
  },
  {
   "cell_type": "code",
   "execution_count": 5,
   "metadata": {},
   "outputs": [
    {
     "name": "stdout",
     "output_type": "stream",
     "text": [
      "alpha_1 = 11.309932474020215\n",
      "alpha_2 = 21.80140948635181\n",
      "alpha_3 = 5.710593137499643\n",
      "alpha_2 - alpha_1 = 10.491477012331599\n",
      "alpha_1 - alpha_3 = 5.599339336520571\n"
     ]
    }
   ],
   "source": [
    "dx = 50\n",
    "dy = 10\n",
    "\n",
    "alpha_1 = np.arctan(dy / dx)\n",
    "alpha_2 = np.arctan(2*dy / dx)\n",
    "alpha_3 = np.arctan(dy / (2 * dx))\n",
    "\n",
    "print(f\"alpha_1 = {np.rad2deg(alpha_1)}\")\n",
    "print(f\"alpha_2 = {np.rad2deg(alpha_2)}\")\n",
    "print(f\"alpha_3 = {np.rad2deg(alpha_3)}\")\n",
    "print(f\"alpha_2 - alpha_1 = {np.rad2deg(alpha_2 - alpha_1)}\")\n",
    "print(f\"alpha_1 - alpha_3 = {np.rad2deg(alpha_1 - alpha_3)}\")\n"
   ]
  },
  {
   "cell_type": "code",
   "execution_count": 6,
   "metadata": {},
   "outputs": [],
   "source": [
    "PARAMETER_SPACE = \"01\"\n",
    "DATA_TYPE = \"Test\""
   ]
  },
  {
   "cell_type": "code",
   "execution_count": 7,
   "metadata": {},
   "outputs": [
    {
     "name": "stdout",
     "output_type": "stream",
     "text": [
      "BoundsTuple(x_min=0.0, x_max=4000.0000000000005, y_min=0.0, y_max=5000.000000000002, z_min=-4000.000000000001, z_max=0.0)\n"
     ]
    }
   ],
   "source": [
    "\n",
    "path_domain_3d = root / PARAMETER_SPACE / \"Training\" / \"Training_001.vtu\"\n",
    "domain_3d = COMSOL_VTU(path_domain_3d)\n",
    "print(domain_3d.mesh.bounds)"
   ]
  },
  {
   "cell_type": "code",
   "execution_count": 8,
   "metadata": {},
   "outputs": [
    {
     "name": "stdout",
     "output_type": "stream",
     "text": [
      "BoundsTuple(x_min=0.0, x_max=4000.0000000000005, y_min=0.0, y_max=5000.000000000002, z_min=-4000.000000000001, z_max=0.0)\n"
     ]
    },
    {
     "data": {
      "application/vnd.jupyter.widget-view+json": {
       "model_id": "39ae5531564f4a63838ae995fd839a51",
       "version_major": 2,
       "version_minor": 0
      },
      "text/plain": [
       "Widget(value='<iframe src=\"http://localhost:54946/index.html?ui=P_0x106a896a0_0&reconnect=auto\" class=\"pyvista…"
      ]
     },
     "metadata": {},
     "output_type": "display_data"
    },
    {
     "name": "stdout",
     "output_type": "stream",
     "text": [
      "BoundsTuple(x_min=0.0, x_max=4000.0000000000005, y_min=0.0, y_max=5000.000000000002, z_min=-4000.000000000001, z_max=0.0)\n"
     ]
    }
   ],
   "source": [
    "def create_smooth_bounds(mesh: pv.DataSet, val_old : float, val_new: float, axis: int = 2) -> pv.DataSet:\n",
    "    mesh.points[:, axis] = np.where(mesh.points[:, axis] == val_old, val_new, mesh.points[:, axis])\n",
    "    return mesh\n",
    "\n",
    "print(domain_3d.mesh.bounds)#\n",
    "# bound_indices = [1, 3, 4]\n",
    "# for i_axis, i_bound in enumerate(bound_indices):\n",
    "#     while np.abs(domain_3d.mesh.bounds[i_bound]) > int(np.abs(domain_3d.mesh.bounds[i_bound])):\n",
    "#         domain_3d.mesh = create_smooth_bounds(domain_3d.mesh,\n",
    "#                                               domain_3d.mesh.bounds[i_bound],\n",
    "#                                               int(domain_3d.mesh.bounds[i_bound]) , axis=i_axis)\n",
    "# print(domain_3d.mesh.bounds)\n",
    "\n",
    "\n",
    "# Get the points of the mesh\n",
    "points = domain_3d.mesh.points\n",
    "domain_3d.original_bounds = domain_3d.mesh.bounds\n",
    "\n",
    "# # Find the minimum Z value (bottom of the box)\n",
    "# z_min = np.min(points[:, 2])\n",
    "\n",
    "# # Identify points that are at the minimum Z value (i.e., the bottom of the mesh)\n",
    "# # You can add a small tolerance to ensure you select points near the boundary (if needed)\n",
    "# bottom_boundary_points = points[points[:, 2] == z_min]\n",
    "\n",
    "\n",
    "# points[points[:, 2] == z_min, 2] -= 20  # Modify only Z-coordinate\n",
    "# # Update the mesh with the new points\n",
    "# domain_3d.mesh.points = points\n",
    "\n",
    "# Optionally, visualize the updated mesh\n",
    "domain_3d.mesh.plot()\n",
    "print(domain_3d.mesh.bounds)"
   ]
  },
  {
   "cell_type": "code",
   "execution_count": 9,
   "metadata": {},
   "outputs": [],
   "source": [
    "\n",
    "# destination_mesh = domain_3d.mesh\n",
    "# data_folder = Path(root / VERSION / DATA_TYPE)\n",
    "# assert data_folder.exists(), f\"Data folder {data_folder} does not exist.\"\n",
    "# export_folder =  data_folder.parent / \"Truncated\"\n",
    "# export_folder.mkdir(exist_ok=True)\n",
    "# assert export_folder.exists(), f\"Export folder {export_folder} does not exist.\"\n",
    "# vtu_files = sorted([path for path in data_folder.iterdir() if path.suffix == \".vtu\"])\n",
    "# for idx, vtu_file in tqdm(enumerate(vtu_files), total=len(vtu_files), desc=\"Reading COMSOL files\"):\n",
    "#     temp_data = COMSOL_VTU(vtu_file)\n",
    "#     temp_data = delete_pyvista_fields(temp_data, [\"Temperature\"])\n",
    "#     mapped = map_on_control_mesh(temp_data.mesh, destination_mesh)\n",
    "#     mapped.save(export_folder / vtu_file.name)\n",
    "# destination_mesh.points.shape"
   ]
  },
  {
   "cell_type": "code",
   "execution_count": 10,
   "metadata": {},
   "outputs": [
    {
     "name": "stdout",
     "output_type": "stream",
     "text": [
      "BoundsTuple(x_min=0.0, x_max=4000.0000000000005, y_min=0.0, y_max=5000.000000000002, z_min=-4000.000000000001, z_max=0.0)\n",
      "97.56097560975611\n"
     ]
    }
   ],
   "source": [
    "bounds = domain_3d.original_bounds  # (xmin, xmax, ymin, ymax, zmin, zmax)\n",
    "\n",
    "# Grid resolution\n",
    "nx, ny, nz = 100, 100, 100  # You can increase this for more resolution\n",
    "\n",
    "dx, dy, dz = 100, 100, 100  # You can increase this for more resolution\n",
    "# Compute the number of points needed\n",
    "nx = int((bounds[1] - bounds[0]) / dx) + 1\n",
    "ny = int((bounds[3] - bounds[2]) / dy) + 1\n",
    "nz = int((bounds[5] - bounds[4]) / dz) + 1\n",
    "\n",
    "\n",
    "image = vtk.vtkImageData()\n",
    "image.SetDimensions(nx, ny, nz)\n",
    "image.SetOrigin(bounds[0], bounds[2], bounds[4])\n",
    "image.SetSpacing(dx, dy, dz)\n",
    "# image.SetSpacing(\n",
    "#     (bounds[1] - bounds[0]) / (nx - 1),\n",
    "#     (bounds[3] - bounds[2]) / (ny - 1),\n",
    "#     (bounds[5] - bounds[4]) / (nz - 1),\n",
    "# )\n",
    "\n",
    "interpolated_vtk = map_on_control_mesh(domain_3d.mesh, image)\n",
    "print(bounds)\n",
    "print(f\"{(bounds[1] - bounds[0]) / (nx)}\" )\n",
    "# pv_data = pv.wrap(image).save(\"interpolated_output.vti\")"
   ]
  },
  {
   "cell_type": "code",
   "execution_count": 11,
   "metadata": {},
   "outputs": [],
   "source": [
    "path_domain_parameters = root /  PARAMETER_SPACE / \"Exports\" / f\"{path_domain_3d.stem}_parameters.csv\"\n",
    "assert path_domain_parameters.exists()\n",
    "df = pd.read_csv(path_domain_parameters, index_col = 0)\n",
    "ureg = pint.UnitRegistry()\n",
    "df['quantity_pint'] = df[df.columns[-1]].apply(lambda x : safe_parse_quantity(x, ureg))\n",
    "# df"
   ]
  },
  {
   "cell_type": "code",
   "execution_count": 12,
   "metadata": {},
   "outputs": [
    {
     "name": "stdout",
     "output_type": "stream",
     "text": [
      "self.vtu_path=PosixPath('/Users/thomassimader/Documents/NIRB/data/01/Training/Training_001.vtu')\n",
      "41 timesteps from 0.000e+00 s to 4.000e+13 s\n",
      "self.mesh.bounds=BoundsTuple(x_min=0.0, x_max=4000.0000000000005, y_min=0.0, y_max=5000.000000000002, z_min=-4000.000000000001, z_max=0.0)\n",
      "Availabe fields in vtu dataset:\n",
      "\t 1: Dynamic_viscosity\n",
      "\t 2: Fluid_density\n",
      "\t 3: Permeability,_XX-component\n",
      "\t 4: Permeability,_XY-component\n",
      "\t 5: Permeability,_XZ-component\n",
      "\t 6: Permeability,_YY-component\n",
      "\t 7: Permeability,_ZZ-component\n",
      "\t 8: Pressure\n",
      "\t 9: Temperature\n",
      "\t 10: Total_Darcy_velocity_magnitude\n"
     ]
    }
   ],
   "source": [
    "domain_3d.info()\n",
    "fields = domain_3d.exported_fields.copy()\n",
    "fields.remove(\"Temperature\")\n",
    "for field in fields:\n",
    "    domain_3d.delete_field(field)"
   ]
  },
  {
   "cell_type": "code",
   "execution_count": 13,
   "metadata": {},
   "outputs": [
    {
     "name": "stdout",
     "output_type": "stream",
     "text": [
      "59.99999999999999 degree\n",
      "90.0 degree\n",
      "60.0\n",
      "90.0\n"
     ]
    }
   ],
   "source": [
    "dip    = df.loc[\"dip\", \"quantity_pint\"].to(\"deg\")\n",
    "strike = df.loc[\"strike\", \"quantity_pint\"].to(\"deg\")\n",
    "print(dip)\n",
    "print(strike)\n",
    "print(np.round(dip.magnitude))\n",
    "print(np.round(strike.magnitude))"
   ]
  },
  {
   "cell_type": "markdown",
   "metadata": {},
   "source": [
    "### Original Data"
   ]
  },
  {
   "cell_type": "code",
   "execution_count": 14,
   "metadata": {},
   "outputs": [
    {
     "data": {
      "application/vnd.jupyter.widget-view+json": {
       "model_id": "cc9aee26e4544770be85f8a3ae2c12df",
       "version_major": 2,
       "version_minor": 0
      },
      "text/plain": [
       "Widget(value='<iframe src=\"http://localhost:54946/index.html?ui=P_0x15ef21df0_1&reconnect=auto\" class=\"pyvista…"
      ]
     },
     "metadata": {},
     "output_type": "display_data"
    }
   ],
   "source": [
    "field_name = domain_3d.format_field(\"Temperature\", -1)\n",
    "normal_vector = calculate_normal(np.round(dip.magnitude), np.round(strike.magnitude))\n",
    "clip_original = domain_3d.mesh.clip(normal = -normal_vector, origin=domain_3d.mesh.center)\n",
    "clip_original.plot(scalars = field_name, cmap=my_cmap)\n"
   ]
  },
  {
   "cell_type": "markdown",
   "metadata": {},
   "source": [
    "### Control Mesh"
   ]
  },
  {
   "cell_type": "code",
   "execution_count": 15,
   "metadata": {},
   "outputs": [
    {
     "data": {
      "application/vnd.jupyter.widget-view+json": {
       "model_id": "577d9d366779464f82d7b50104b9bac7",
       "version_major": 2,
       "version_minor": 0
      },
      "text/plain": [
       "Widget(value='<iframe src=\"http://localhost:54946/index.html?ui=P_0x313653da0_2&reconnect=auto\" class=\"pyvista…"
      ]
     },
     "metadata": {},
     "output_type": "display_data"
    },
    {
     "name": "stdout",
     "output_type": "stream",
     "text": [
      "BoundsTuple(x_min=0.0, x_max=4000.0, y_min=0.0, y_max=5000.0, z_min=-4000.0, z_max=-9.094947017729282e-13)\n",
      "BoundsTuple(x_min=0.0, x_max=4000.0000000000005, y_min=0.0, y_max=5000.000000000002, z_min=-4000.000000000001, z_max=0.0)\n",
      "UnstructuredGrid (0x3137ad6c0)\n",
      "  N Cells:    480000\n",
      "  N Points:   85731\n",
      "  X Bounds:   0.000e+00, 4.000e+03\n",
      "  Y Bounds:   0.000e+00, 5.000e+03\n",
      "  Z Bounds:   -4.000e+03, -9.095e-13\n",
      "  N Arrays:   0\n"
     ]
    }
   ],
   "source": [
    "bounds = domain_3d.original_bounds\n",
    "dx, dy, dz = (100, 100, 100)  # You can increase this for more resolution\n",
    "# Compute the number of points needed (+ 1 as spacing is an interval)\n",
    "nx = int(np.abs((bounds[1] - bounds[0])) / dx) + 1\n",
    "ny = int(np.abs((bounds[3] - bounds[2])) / dy) + 1\n",
    "nz = int(np.abs((bounds[5] - bounds[4])) / dz) + 1\n",
    "grid = pv.ImageData() \n",
    "grid.origin = (bounds[0], bounds[2], bounds[4])\n",
    "grid.dimensions = np.array((nx, ny, nz))\n",
    "grid.spacing = (dx, dy, dz)\n",
    "bbox = pv.Box(bounds=bounds)\n",
    "grid = grid.clip_box(bbox, invert=False)\n",
    "grid.plot(show_edges=True)\n",
    "# grid.slice_orthogonal().plot()\n",
    "print(grid.bounds)\n",
    "print(domain_3d.mesh.bounds)\n",
    "print(grid)"
   ]
  },
  {
   "cell_type": "markdown",
   "metadata": {},
   "source": [
    "### Add plane"
   ]
  },
  {
   "cell_type": "code",
   "execution_count": 16,
   "metadata": {},
   "outputs": [
    {
     "data": {
      "application/vnd.jupyter.widget-view+json": {
       "model_id": "e2d7640ffd9a43ad8d52f69c545ae75d",
       "version_major": 2,
       "version_minor": 0
      },
      "text/plain": [
       "Widget(value='<iframe src=\"http://localhost:54946/index.html?ui=P_0x31363c9b0_3&reconnect=auto\" class=\"pyvista…"
      ]
     },
     "metadata": {},
     "output_type": "display_data"
    }
   ],
   "source": [
    "control_mesh = grid  #pv.merge([grid, clipped_plane])\n",
    "control_mesh.clip(normal = -normal_vector, origin=domain_3d.mesh.center).plot()\n",
    "control_mesh_cell = control_mesh.copy()\n"
   ]
  },
  {
   "cell_type": "markdown",
   "metadata": {},
   "source": [
    "### pv.interpolate()"
   ]
  },
  {
   "cell_type": "markdown",
   "metadata": {},
   "source": [
    "vtkGaussianKernel is an interpolation kernel that simply returns the weights for all points found in the sphere defined by radius R. The weights are computed as: $e^{-(\\frac{s*r}{R})^2}$ where r is the distance from the point to be interpolated to a neighboring point within R. The sharpness s simply affects the rate of fall off of the Gaussian. (A more general Gaussian kernel is available from vtkEllipsoidalGaussianKernel.)\n",
    "\n",
    "https://vtk.org/doc/nightly/html/classvtkGaussianKernel.html\n",
    "\n",
    "Examples\n",
    "https://examples.vtk.org/site/Cxx/Meshes/InterpolateFieldDataDemo/"
   ]
  },
  {
   "cell_type": "code",
   "execution_count": 17,
   "metadata": {},
   "outputs": [],
   "source": [
    "result              = control_mesh.interpolate(domain_3d.mesh, radius=500, sharpness=2, strategy=\"mask_points\")\n",
    "clip_interpolate = result.clip(normal = -normal_vector, origin=domain_3d.mesh.center)\n",
    "\n",
    "# Visualize\n",
    "# clip_interpolate.plot(scalars=field_name, cmap=my_cmap, show_edges=False)\n",
    "# result.plot(scalars=field_name, cmap=\"coolwarm\", show_edges=True)"
   ]
  },
  {
   "cell_type": "markdown",
   "metadata": {},
   "source": [
    "### pv.Sample()"
   ]
  },
  {
   "cell_type": "code",
   "execution_count": 18,
   "metadata": {},
   "outputs": [],
   "source": [
    "cell_mesh = domain_3d.mesh.point_data_to_cell_data(pass_point_data=False)\n",
    "# control_mesh_cell.plot()\n",
    "# Visualize\n",
    "# clip.plot(scalars=field_name, cmap=my_cmap, show_edges=False)\n",
    "# result.plot(scalars=field_name, cmap=\"coolwarm\", show_edges=True)"
   ]
  },
  {
   "cell_type": "code",
   "execution_count": 19,
   "metadata": {},
   "outputs": [
    {
     "data": {
      "application/vnd.jupyter.widget-view+json": {
       "model_id": "537da260c8ee49a3b70025e10b2428b4",
       "version_major": 2,
       "version_minor": 0
      },
      "text/plain": [
       "Widget(value='<iframe src=\"http://localhost:54946/index.html?ui=P_0x15f2ff950_4&reconnect=auto\" class=\"pyvista…"
      ]
     },
     "metadata": {},
     "output_type": "display_data"
    }
   ],
   "source": [
    "result_cell              = control_mesh_cell.sample(domain_3d.mesh, snap_to_closest_point=True, tolerance=5)\n",
    "clip_sample = result_cell.clip(normal = -normal_vector, origin=domain_3d.mesh.center)\n",
    "clip_sample.plot(scalars = field_name)"
   ]
  },
  {
   "cell_type": "code",
   "execution_count": 20,
   "metadata": {},
   "outputs": [
    {
     "name": "stdout",
     "output_type": "stream",
     "text": [
      "0\n",
      "0\n"
     ]
    }
   ],
   "source": [
    "print(np.sum(result_cell.point_data[\"vtkGhostType\"] ))\n",
    "print(np.sum(result_cell.point_data[\"vtkValidPointMask\"] == 0 ))"
   ]
  },
  {
   "cell_type": "code",
   "execution_count": 21,
   "metadata": {},
   "outputs": [],
   "source": [
    "def round_towards_zero(values, decimals = 1):\n",
    "    factor = 10 ** decimals\n",
    "    return np.trunc(values * factor) / factor"
   ]
  },
  {
   "cell_type": "markdown",
   "metadata": {},
   "source": [
    "### vtkProbeFilter"
   ]
  },
  {
   "cell_type": "code",
   "execution_count": 27,
   "metadata": {},
   "outputs": [
    {
     "name": "stdout",
     "output_type": "stream",
     "text": [
      "invalid_mask\n",
      "6\n"
     ]
    },
    {
     "data": {
      "application/vnd.jupyter.widget-view+json": {
       "model_id": "8538090316ea48d1af866b211f486c13",
       "version_major": 2,
       "version_minor": 0
      },
      "text/plain": [
       "Widget(value='<iframe src=\"http://localhost:54946/index.html?ui=P_0x31367d850_8&reconnect=auto\" class=\"pyvista…"
      ]
     },
     "metadata": {},
     "output_type": "display_data"
    },
    {
     "name": "stdout",
     "output_type": "stream",
     "text": [
      "BoundsTuple(x_min=0.0, x_max=4000.0, y_min=0.0, y_max=5000.0, z_min=-4000.0, z_max=-9.094947017729282e-13)\n"
     ]
    }
   ],
   "source": [
    "bounds = domain_3d.original_bounds  # (xmin, xmax, ymin, ymax, zmin, zmax)\n",
    "\n",
    "dx, dy, dz = 50, 50, 100  # You can increase this for more resolution\n",
    "# Compute the number of points needed\n",
    "zmin = bounds[4] # + dz\n",
    "zmax = bounds[5] \n",
    "\n",
    "nx = int((bounds[1] - bounds[0]) / dx) + 1\n",
    "ny = int((bounds[3] - bounds[2]) / dy) + 1\n",
    "# nz = int((bounds[5] - bounds[4]) / dz) + 1\n",
    "nz = int(np.abs((zmax - zmin)) / dz) + 1  # New z-range\n",
    "\n",
    "\n",
    "\n",
    "image = vtk.vtkImageData()\n",
    "image.SetDimensions(nx, ny, nz)\n",
    "image.SetOrigin(bounds[0], bounds[2], zmin)\n",
    "image.SetSpacing(dx, dy, dz)\n",
    "image_grid = pv.wrap(image)\n",
    "bbox = pv.Box(bounds=np.trunc(bounds))\n",
    "image = image_grid.clip_box(bbox, invert=False)\n",
    "\n",
    "# interpolated_vtk = map_on_control_mesh(domain_3d.mesh, image)\n",
    "# domain_3d.mesh.point_data_to_cell_data()\n",
    "probe = vtk.vtkProbeFilter()\n",
    "probe.SetInputData(image)        # The grid where you want data\n",
    "probe.SetSourceData(domain_3d.mesh)        # The mesh with the data to interpolate\n",
    "# probe.PassCellArraysOn()\n",
    "probe.Update()\n",
    "interpolated = probe.GetOutput()\n",
    "interpolated_vtk = pv.wrap(interpolated)\n",
    "\n",
    "\n",
    "validity_array = interpolated_vtk.point_data['vtkValidPointMask']  # Replace with your actual array name\n",
    "invalid_mask = validity_array == 0  # This assumes NaN marks invalid points\n",
    "invalid_points = interpolated_vtk.extract_points(invalid_mask)\n",
    "\n",
    "print(\"invalid_mask\")\n",
    "print(np.sum(invalid_mask))\n",
    "for idx_inavalid, is_invalid in enumerate(invalid_mask):\n",
    "    if not is_invalid:\n",
    "        continue\n",
    "    invalid_point = interpolated_vtk.points[idx_inavalid]\n",
    "    interpolated_value = handle_invalid_point_mask(invalid_point, domain_3d.mesh, field_name)\n",
    "    interpolated_vtk.point_data[field_name][idx_inavalid] = interpolated_value\n",
    "    \n",
    "clip_vtk = interpolated_vtk.clip(normal = -normal_vector, origin=domain_3d.mesh.center)\n",
    "clip_vtk.plot(scalars = field_name)\n",
    "print(interpolated_vtk.bounds)\n"
   ]
  },
  {
   "cell_type": "code",
   "execution_count": 23,
   "metadata": {},
   "outputs": [
    {
     "name": "stdout",
     "output_type": "stream",
     "text": [
      "BoundsTuple(x_min=0.0, x_max=4000.0, y_min=0.0, y_max=5000.0, z_min=-4000.0, z_max=-9.094947017729282e-13)\n",
      "BoundsTuple(x_min=0.0, x_max=4000.0000000000005, y_min=0.0, y_max=5000.000000000002, z_min=-4000.000000000001, z_max=0.0)\n"
     ]
    }
   ],
   "source": [
    "print(interpolated_vtk.bounds)\n",
    "print(domain_3d.mesh.bounds)"
   ]
  },
  {
   "cell_type": "code",
   "execution_count": 24,
   "metadata": {},
   "outputs": [],
   "source": [
    "\n",
    "producer = vtk.vtkTrivialProducer()\n",
    "producer.SetOutput(domain_3d.mesh)  # .mesh is already a vtkDataSet\n",
    "\n",
    "resample = vtk.vtkResampleToImage()\n",
    "resample.SetInputConnection(producer.GetOutputPort())\n",
    "resample.SetSamplingDimensions(nx, ny, nz)\n",
    "resample.SetUseInputBounds(True)\n",
    "resample.Update()\n",
    "\n",
    "interpolated = pv.wrap(resample.GetOutput())\n",
    "clip_vtk = interpolated.clip(normal = -normal_vector, origin=domain_3d.mesh.center)\n"
   ]
  },
  {
   "cell_type": "markdown",
   "metadata": {},
   "source": [
    "## Plot"
   ]
  },
  {
   "cell_type": "code",
   "execution_count": 25,
   "metadata": {},
   "outputs": [
    {
     "data": {
      "application/vnd.jupyter.widget-view+json": {
       "model_id": "50d7cf129c194e109d844d0ab1d690d0",
       "version_major": 2,
       "version_minor": 0
      },
      "text/plain": [
       "Widget(value='<iframe src=\"http://localhost:54946/index.html?ui=P_0x3280d3e90_6&reconnect=auto\" class=\"pyvista…"
      ]
     },
     "metadata": {},
     "output_type": "display_data"
    }
   ],
   "source": [
    "\n",
    "# Loop through the samples and plot\n",
    "clips = [clip_original, clip_interpolate, clip_sample, clip_vtk]\n",
    "labels = [\"Original\", \"pv.Interpolate()\", \"pv.Sample()\", \"vtkProbeFilter\"]\n",
    "plotter = pv.Plotter(shape=(1, len(clips)), window_size=(1200, 500))\n",
    "for i, (clip, label) in enumerate(zip(clips, labels)):\n",
    "    plotter.subplot(0, i)\n",
    "    plotter.add_mesh(clip, scalars = field_name,\n",
    "                     cmap = my_cmap,\n",
    "                    scalar_bar_args={'title': f'{field_name} ({i})',\n",
    "                    'label_font_size': 10,\n",
    "                    'title_font_size': 8,}\n",
    "                    )\n",
    "    \n",
    "\n",
    "    plotter.add_text(label)\n",
    "\n",
    "plotter.show(screenshot=\"ComparisonInterpolation\")"
   ]
  },
  {
   "cell_type": "code",
   "execution_count": null,
   "metadata": {},
   "outputs": [],
   "source": []
  },
  {
   "cell_type": "code",
   "execution_count": null,
   "metadata": {},
   "outputs": [],
   "source": []
  }
 ],
 "metadata": {
  "kernelspec": {
   "display_name": ".venv",
   "language": "python",
   "name": "python3"
  },
  "language_info": {
   "codemirror_mode": {
    "name": "ipython",
    "version": 3
   },
   "file_extension": ".py",
   "mimetype": "text/x-python",
   "name": "python",
   "nbconvert_exporter": "python",
   "pygments_lexer": "ipython3",
   "version": "3.12.4"
  }
 },
 "nbformat": 4,
 "nbformat_minor": 2
}
