{
 "cells": [
  {
   "cell_type": "code",
   "execution_count": 1,
   "metadata": {},
   "outputs": [],
   "source": [
    "import sys\n",
    "import os\n",
    "import numpy as np\n",
    "import pyvista as pv\n",
    "from pathlib import Path\n",
    "import pandas as pd\n",
    "from matplotlib import pyplot as plt\n",
    "from helpers import safe_parse_quantity, delete_pyvista_fields, map_on_control_mesh\n",
    "import pint\n",
    "import vtk\n",
    "from tqdm import tqdm"
   ]
  },
  {
   "cell_type": "code",
   "execution_count": 2,
   "metadata": {},
   "outputs": [],
   "source": [
    "# Add it to sys.path\n",
    "parent_dir = os.path.abspath(os.path.join(os.getcwd(), \"..\"))\n",
    "sys.path.insert(0, parent_dir)\n",
    "from ComsolClasses.comsol_classes import COMSOL_VTU\n",
    "from ComsolClasses.helper import calculate_normal"
   ]
  },
  {
   "cell_type": "code",
   "execution_count": 3,
   "metadata": {},
   "outputs": [
    {
     "name": "stdout",
     "output_type": "stream",
     "text": [
      "/Users/thomassimader/Documents/NIRB/Snapshots\n",
      "True\n"
     ]
    }
   ],
   "source": [
    "my_cmap = plt.get_cmap(\"coolwarm\", 15)\n",
    "root = Path().cwd().parent / \"Snapshots\"\n",
    "print(root)\n",
    "print(root.exists())"
   ]
  },
  {
   "cell_type": "code",
   "execution_count": null,
   "metadata": {},
   "outputs": [],
   "source": [
    "PARAMETER_SPACE = \"01\"\n",
    "DATA_TYPE = \"Test\""
   ]
  },
  {
   "cell_type": "code",
   "execution_count": null,
   "metadata": {},
   "outputs": [],
   "source": [
    "path_domain_3d = root / PARAMETER_SPACE / \"Training\" / \"Training_001.vtu\"\n",
    "domain_3d = COMSOL_VTU(path_domain_3d)"
   ]
  },
  {
   "cell_type": "code",
   "execution_count": 6,
   "metadata": {},
   "outputs": [
    {
     "name": "stderr",
     "output_type": "stream",
     "text": [
      "Reading COMSOL files: 100%|██████████| 20/20 [00:07<00:00,  2.56it/s]\n"
     ]
    }
   ],
   "source": [
    "\n",
    "# destination_mesh = domain_3d.mesh\n",
    "# data_folder = Path(root / VERSION / DATA_TYPE)\n",
    "# assert data_folder.exists(), f\"Data folder {data_folder} does not exist.\"\n",
    "# export_folder =  data_folder.parent / \"Truncated\"\n",
    "# export_folder.mkdir(exist_ok=True)\n",
    "# assert export_folder.exists(), f\"Export folder {export_folder} does not exist.\"\n",
    "# vtu_files = sorted([path for path in data_folder.iterdir() if path.suffix == \".vtu\"])\n",
    "# for idx, vtu_file in tqdm(enumerate(vtu_files), total=len(vtu_files), desc=\"Reading COMSOL files\"):\n",
    "#     temp_data = COMSOL_VTU(vtu_file)\n",
    "#     temp_data = delete_pyvista_fields(temp_data, [\"Temperature\"])\n",
    "#     mapped = map_on_control_mesh(temp_data.mesh, destination_mesh)\n",
    "#     mapped.save(export_folder / vtu_file.name)"
   ]
  },
  {
   "cell_type": "code",
   "execution_count": 7,
   "metadata": {},
   "outputs": [
    {
     "data": {
      "text/plain": [
       "COMSOL_VTU(vtu_path=PosixPath('/Users/thomassimader/Documents/NIRB/Snapshots/01/Truncated/Test_019.vtu'), optional_vtu_paths=None, name='')"
      ]
     },
     "execution_count": 7,
     "metadata": {},
     "output_type": "execute_result"
    }
   ],
   "source": [
    "COMSOL_VTU(export_folder / vtu_file.name)"
   ]
  },
  {
   "cell_type": "code",
   "execution_count": 8,
   "metadata": {},
   "outputs": [
    {
     "data": {
      "text/plain": [
       "(20113, 3)"
      ]
     },
     "execution_count": 8,
     "metadata": {},
     "output_type": "execute_result"
    }
   ],
   "source": [
    "mapped.points.shape"
   ]
  },
  {
   "cell_type": "code",
   "execution_count": 9,
   "metadata": {},
   "outputs": [
    {
     "data": {
      "text/plain": [
       "(20113, 3)"
      ]
     },
     "execution_count": 9,
     "metadata": {},
     "output_type": "execute_result"
    }
   ],
   "source": [
    "destination_mesh.points.shape"
   ]
  },
  {
   "cell_type": "code",
   "execution_count": null,
   "metadata": {},
   "outputs": [],
   "source": [
    "bounds = domain_3d.mesh.GetBounds()  # (xmin, xmax, ymin, ymax, zmin, zmax)\n",
    "\n",
    "# Grid resolution\n",
    "nx, ny, nz = 100, 100, 100  # You can increase this for more resolution\n",
    "\n",
    "dx, dy, dz = 100, 100, 100  # You can increase this for more resolution\n",
    "# Compute the number of points needed\n",
    "nx = int((bounds[1] - bounds[0]) / dx) + 1\n",
    "ny = int((bounds[3] - bounds[2]) / dy) + 1\n",
    "nz = int((bounds[5] - bounds[4]) / dz) + 1\n",
    "\n",
    "\n",
    "image = vtk.vtkImageData()\n",
    "image.SetDimensions(nx, ny, nz)\n",
    "image.SetOrigin(bounds[0], bounds[2], bounds[4])\n",
    "image.SetSpacing(dx, dy, dz)\n",
    "# image.SetSpacing(\n",
    "#     (bounds[1] - bounds[0]) / (nx - 1),\n",
    "#     (bounds[3] - bounds[2]) / (ny - 1),\n",
    "#     (bounds[5] - bounds[4]) / (nz - 1),\n",
    "# )\n",
    "\n",
    "interpolated_vtk = map_on_control_mesh(domain_3d.mesh, image)\n",
    "print(bounds)\n",
    "print(f\"{(bounds[1] - bounds[0]) / (nx)}\" )\n",
    "# pv_data = pv.wrap(image).save(\"interpolated_output.vti\")"
   ]
  },
  {
   "cell_type": "code",
   "execution_count": null,
   "metadata": {},
   "outputs": [],
   "source": [
    "path_domain_parameters = root /  PARAMETER_SPACE / \"Exports\" / f\"{path_domain_3d.stem}_parameters.csv\"\n",
    "assert path_domain_parameters.exists()\n",
    "df = pd.read_csv(path_domain_parameters, index_col = 0)\n",
    "ureg = pint.UnitRegistry()\n",
    "df['quantity_pint'] = df[df.columns[-1]].apply(lambda x : safe_parse_quantity(x, ureg))"
   ]
  },
  {
   "cell_type": "code",
   "execution_count": 27,
   "metadata": {},
   "outputs": [
    {
     "data": {
      "application/vnd.microsoft.datawrangler.viewer.v0+json": {
       "columns": [
        {
         "name": "index",
         "rawType": "object",
         "type": "string"
        },
        {
         "name": "quantity",
         "rawType": "object",
         "type": "string"
        },
        {
         "name": "quantity_pint",
         "rawType": "object",
         "type": "unknown"
        }
       ],
       "conversionMethod": "pd.DataFrame",
       "ref": "85a9a4dc-7724-472b-bfe3-5569753db43d",
       "rows": [
        [
         "aspect_ratio_dip",
         "1.0 dimensionless",
         "1.0 dimensionless"
        ],
        [
         "aspect_ratio_strike",
         "1.25 dimensionless",
         "1.25 dimensionless"
        ],
        [
         "beta",
         "0.00059 / kelvin",
         "0.00059 / kelvin"
        ],
        [
         "dip",
         "1.0471975511965976 radian",
         "1.0471975511965976 radian"
        ],
        [
         "faul_k_long",
         "1.349373702338712e-15 meter ** 2",
         "1.349373702338712e-15 meter ** 2"
        ],
        [
         "faul_k_trans",
         "1.359969119986057e-18 meter ** 2",
         "1.359969119986057e-18 meter ** 2"
        ],
        [
         "fault_Cp",
         "800.0 meter ** 2 / kelvin / second ** 2",
         "800.0 meter ** 2 / kelvin / second ** 2"
        ],
        [
         "fault_k_long",
         "1.5e-13 meter ** 2",
         "1.5e-13 meter ** 2"
        ],
        [
         "fault_k_trans",
         "1.5e-13 meter ** 2",
         "1.5e-13 meter ** 2"
        ],
        [
         "fault_lambda",
         "2.0 kilogram * meter / kelvin / second ** 3",
         "2.0 kilogram * meter / kelvin / second ** 3"
        ],
        [
         "fault_phi",
         "0.3 dimensionless",
         "0.3 dimensionless"
        ],
        [
         "fault_rho",
         "2500.0 kilogram / meter ** 3",
         "2500.0 kilogram / meter ** 3"
        ],
        [
         "fault_width",
         "50.0 meter",
         "50.0 meter"
        ],
        [
         "H",
         "4000.0 meter",
         "4000.0 meter"
        ],
        [
         "host_alpha",
         "0.7 dimensionless",
         "0.7 dimensionless"
        ],
        [
         "host_Cp",
         "800.0 meter ** 2 / kelvin / second ** 2",
         "800.0 meter ** 2 / kelvin / second ** 2"
        ],
        [
         "host_E",
         "30000000000.0 kilogram / meter / second ** 2",
         "30000000000.0 kilogram / meter / second ** 2"
        ],
        [
         "host_heat_gen_rate",
         "5e-07 kilogram / meter / second ** 3",
         "5e-07 kilogram / meter / second ** 3"
        ],
        [
         "host_k",
         "4.914308423088482e-16 meter ** 2",
         "4.914308423088482e-16 meter ** 2"
        ],
        [
         "host_lambda",
         "2.0 kilogram * meter / kelvin / second ** 3",
         "2.0 kilogram * meter / kelvin / second ** 3"
        ],
        [
         "host_phi",
         "0.001 dimensionless",
         "0.001 dimensionless"
        ],
        [
         "host_poisson",
         "0.25 dimensionless",
         "0.25 dimensionless"
        ],
        [
         "host_rho",
         "2500.0 kilogram / meter ** 3",
         "2500.0 kilogram / meter ** 3"
        ],
        [
         "lambda_ref",
         "4.1 kilogram * meter / kelvin / second ** 3",
         "4.1 kilogram * meter / kelvin / second ** 3"
        ],
        [
         "max_size_fault",
         "80.0 meter",
         "80.0 meter"
        ],
        [
         "max_t_step",
         "500000000000.0 second",
         "500000000000.0 second"
        ],
        [
         "mu0",
         "0.00117 kilogram / meter / second",
         "0.00117 kilogram / meter / second"
        ],
        [
         "rho0",
         "1022.38 kilogram / meter ** 3",
         "1022.38 kilogram / meter ** 3"
        ],
        [
         "SH_dir",
         "0.0 radian",
         "0.0 radian"
        ],
        [
         "Sh_grad",
         "15000.0 kilogram / meter ** 2 / second ** 2",
         "15000.0 kilogram / meter ** 2 / second ** 2"
        ],
        [
         "SH_grad",
         "20000.0 kilogram / meter ** 2 / second ** 2",
         "20000.0 kilogram / meter ** 2 / second ** 2"
        ],
        [
         "strike",
         "1.5707963267948966 radian",
         "1.5707963267948966 radian"
        ],
        [
         "Sv_grad",
         "host_rho*g_const",
         null
        ],
        [
         "T_c",
         "293.15 kelvin",
         "293.15 kelvin"
        ],
        [
         "t_end",
         "40000000000000.0 second",
         "40000000000000.0 second"
        ],
        [
         "T_h",
         "467.7782498216176 kelvin",
         "467.7782498216176 kelvin"
        ],
        [
         "T_v",
         "62.1 kelvin",
         "62.1 kelvin"
        ],
        [
         "Tgrad",
         "(T_h-T_c)/H",
         null
        ],
        [
         "theta0",
         "1.0 dimensionless",
         "1.0 dimensionless"
        ]
       ],
       "shape": {
        "columns": 2,
        "rows": 39
       }
      },
      "text/html": [
       "<div>\n",
       "<style scoped>\n",
       "    .dataframe tbody tr th:only-of-type {\n",
       "        vertical-align: middle;\n",
       "    }\n",
       "\n",
       "    .dataframe tbody tr th {\n",
       "        vertical-align: top;\n",
       "    }\n",
       "\n",
       "    .dataframe thead th {\n",
       "        text-align: right;\n",
       "    }\n",
       "</style>\n",
       "<table border=\"1\" class=\"dataframe\">\n",
       "  <thead>\n",
       "    <tr style=\"text-align: right;\">\n",
       "      <th></th>\n",
       "      <th>quantity</th>\n",
       "      <th>quantity_pint</th>\n",
       "    </tr>\n",
       "  </thead>\n",
       "  <tbody>\n",
       "    <tr>\n",
       "      <th>aspect_ratio_dip</th>\n",
       "      <td>1.0 dimensionless</td>\n",
       "      <td>1.0 dimensionless</td>\n",
       "    </tr>\n",
       "    <tr>\n",
       "      <th>aspect_ratio_strike</th>\n",
       "      <td>1.25 dimensionless</td>\n",
       "      <td>1.25 dimensionless</td>\n",
       "    </tr>\n",
       "    <tr>\n",
       "      <th>beta</th>\n",
       "      <td>0.00059 / kelvin</td>\n",
       "      <td>0.00059 / kelvin</td>\n",
       "    </tr>\n",
       "    <tr>\n",
       "      <th>dip</th>\n",
       "      <td>1.0471975511965976 radian</td>\n",
       "      <td>1.0471975511965976 radian</td>\n",
       "    </tr>\n",
       "    <tr>\n",
       "      <th>faul_k_long</th>\n",
       "      <td>1.349373702338712e-15 meter ** 2</td>\n",
       "      <td>1.349373702338712e-15 meter ** 2</td>\n",
       "    </tr>\n",
       "    <tr>\n",
       "      <th>faul_k_trans</th>\n",
       "      <td>1.359969119986057e-18 meter ** 2</td>\n",
       "      <td>1.359969119986057e-18 meter ** 2</td>\n",
       "    </tr>\n",
       "    <tr>\n",
       "      <th>fault_Cp</th>\n",
       "      <td>800.0 meter ** 2 / kelvin / second ** 2</td>\n",
       "      <td>800.0 meter ** 2 / kelvin / second ** 2</td>\n",
       "    </tr>\n",
       "    <tr>\n",
       "      <th>fault_k_long</th>\n",
       "      <td>1.5e-13 meter ** 2</td>\n",
       "      <td>1.5e-13 meter ** 2</td>\n",
       "    </tr>\n",
       "    <tr>\n",
       "      <th>fault_k_trans</th>\n",
       "      <td>1.5e-13 meter ** 2</td>\n",
       "      <td>1.5e-13 meter ** 2</td>\n",
       "    </tr>\n",
       "    <tr>\n",
       "      <th>fault_lambda</th>\n",
       "      <td>2.0 kilogram * meter / kelvin / second ** 3</td>\n",
       "      <td>2.0 kilogram * meter / kelvin / second ** 3</td>\n",
       "    </tr>\n",
       "    <tr>\n",
       "      <th>fault_phi</th>\n",
       "      <td>0.3 dimensionless</td>\n",
       "      <td>0.3 dimensionless</td>\n",
       "    </tr>\n",
       "    <tr>\n",
       "      <th>fault_rho</th>\n",
       "      <td>2500.0 kilogram / meter ** 3</td>\n",
       "      <td>2500.0 kilogram / meter ** 3</td>\n",
       "    </tr>\n",
       "    <tr>\n",
       "      <th>fault_width</th>\n",
       "      <td>50.0 meter</td>\n",
       "      <td>50.0 meter</td>\n",
       "    </tr>\n",
       "    <tr>\n",
       "      <th>H</th>\n",
       "      <td>4000.0 meter</td>\n",
       "      <td>4000.0 meter</td>\n",
       "    </tr>\n",
       "    <tr>\n",
       "      <th>host_alpha</th>\n",
       "      <td>0.7 dimensionless</td>\n",
       "      <td>0.7 dimensionless</td>\n",
       "    </tr>\n",
       "    <tr>\n",
       "      <th>host_Cp</th>\n",
       "      <td>800.0 meter ** 2 / kelvin / second ** 2</td>\n",
       "      <td>800.0 meter ** 2 / kelvin / second ** 2</td>\n",
       "    </tr>\n",
       "    <tr>\n",
       "      <th>host_E</th>\n",
       "      <td>30000000000.0 kilogram / meter / second ** 2</td>\n",
       "      <td>30000000000.0 kilogram / meter / second ** 2</td>\n",
       "    </tr>\n",
       "    <tr>\n",
       "      <th>host_heat_gen_rate</th>\n",
       "      <td>5e-07 kilogram / meter / second ** 3</td>\n",
       "      <td>5e-07 kilogram / meter / second ** 3</td>\n",
       "    </tr>\n",
       "    <tr>\n",
       "      <th>host_k</th>\n",
       "      <td>4.914308423088482e-16 meter ** 2</td>\n",
       "      <td>4.914308423088482e-16 meter ** 2</td>\n",
       "    </tr>\n",
       "    <tr>\n",
       "      <th>host_lambda</th>\n",
       "      <td>2.0 kilogram * meter / kelvin / second ** 3</td>\n",
       "      <td>2.0 kilogram * meter / kelvin / second ** 3</td>\n",
       "    </tr>\n",
       "    <tr>\n",
       "      <th>host_phi</th>\n",
       "      <td>0.001 dimensionless</td>\n",
       "      <td>0.001 dimensionless</td>\n",
       "    </tr>\n",
       "    <tr>\n",
       "      <th>host_poisson</th>\n",
       "      <td>0.25 dimensionless</td>\n",
       "      <td>0.25 dimensionless</td>\n",
       "    </tr>\n",
       "    <tr>\n",
       "      <th>host_rho</th>\n",
       "      <td>2500.0 kilogram / meter ** 3</td>\n",
       "      <td>2500.0 kilogram / meter ** 3</td>\n",
       "    </tr>\n",
       "    <tr>\n",
       "      <th>lambda_ref</th>\n",
       "      <td>4.1 kilogram * meter / kelvin / second ** 3</td>\n",
       "      <td>4.1 kilogram * meter / kelvin / second ** 3</td>\n",
       "    </tr>\n",
       "    <tr>\n",
       "      <th>max_size_fault</th>\n",
       "      <td>80.0 meter</td>\n",
       "      <td>80.0 meter</td>\n",
       "    </tr>\n",
       "    <tr>\n",
       "      <th>max_t_step</th>\n",
       "      <td>500000000000.0 second</td>\n",
       "      <td>500000000000.0 second</td>\n",
       "    </tr>\n",
       "    <tr>\n",
       "      <th>mu0</th>\n",
       "      <td>0.00117 kilogram / meter / second</td>\n",
       "      <td>0.00117 kilogram / meter / second</td>\n",
       "    </tr>\n",
       "    <tr>\n",
       "      <th>rho0</th>\n",
       "      <td>1022.38 kilogram / meter ** 3</td>\n",
       "      <td>1022.38 kilogram / meter ** 3</td>\n",
       "    </tr>\n",
       "    <tr>\n",
       "      <th>SH_dir</th>\n",
       "      <td>0.0 radian</td>\n",
       "      <td>0.0 radian</td>\n",
       "    </tr>\n",
       "    <tr>\n",
       "      <th>Sh_grad</th>\n",
       "      <td>15000.0 kilogram / meter ** 2 / second ** 2</td>\n",
       "      <td>15000.0 kilogram / meter ** 2 / second ** 2</td>\n",
       "    </tr>\n",
       "    <tr>\n",
       "      <th>SH_grad</th>\n",
       "      <td>20000.0 kilogram / meter ** 2 / second ** 2</td>\n",
       "      <td>20000.0 kilogram / meter ** 2 / second ** 2</td>\n",
       "    </tr>\n",
       "    <tr>\n",
       "      <th>strike</th>\n",
       "      <td>1.5707963267948966 radian</td>\n",
       "      <td>1.5707963267948966 radian</td>\n",
       "    </tr>\n",
       "    <tr>\n",
       "      <th>Sv_grad</th>\n",
       "      <td>host_rho*g_const</td>\n",
       "      <td>NaN</td>\n",
       "    </tr>\n",
       "    <tr>\n",
       "      <th>T_c</th>\n",
       "      <td>293.15 kelvin</td>\n",
       "      <td>293.15 kelvin</td>\n",
       "    </tr>\n",
       "    <tr>\n",
       "      <th>t_end</th>\n",
       "      <td>40000000000000.0 second</td>\n",
       "      <td>40000000000000.0 second</td>\n",
       "    </tr>\n",
       "    <tr>\n",
       "      <th>T_h</th>\n",
       "      <td>467.7782498216176 kelvin</td>\n",
       "      <td>467.7782498216176 kelvin</td>\n",
       "    </tr>\n",
       "    <tr>\n",
       "      <th>T_v</th>\n",
       "      <td>62.1 kelvin</td>\n",
       "      <td>62.1 kelvin</td>\n",
       "    </tr>\n",
       "    <tr>\n",
       "      <th>Tgrad</th>\n",
       "      <td>(T_h-T_c)/H</td>\n",
       "      <td>NaN</td>\n",
       "    </tr>\n",
       "    <tr>\n",
       "      <th>theta0</th>\n",
       "      <td>1.0 dimensionless</td>\n",
       "      <td>1.0 dimensionless</td>\n",
       "    </tr>\n",
       "  </tbody>\n",
       "</table>\n",
       "</div>"
      ],
      "text/plain": [
       "                                                         quantity  \\\n",
       "aspect_ratio_dip                                1.0 dimensionless   \n",
       "aspect_ratio_strike                            1.25 dimensionless   \n",
       "beta                                             0.00059 / kelvin   \n",
       "dip                                     1.0471975511965976 radian   \n",
       "faul_k_long                      1.349373702338712e-15 meter ** 2   \n",
       "faul_k_trans                     1.359969119986057e-18 meter ** 2   \n",
       "fault_Cp                  800.0 meter ** 2 / kelvin / second ** 2   \n",
       "fault_k_long                                   1.5e-13 meter ** 2   \n",
       "fault_k_trans                                  1.5e-13 meter ** 2   \n",
       "fault_lambda          2.0 kilogram * meter / kelvin / second ** 3   \n",
       "fault_phi                                       0.3 dimensionless   \n",
       "fault_rho                            2500.0 kilogram / meter ** 3   \n",
       "fault_width                                            50.0 meter   \n",
       "H                                                    4000.0 meter   \n",
       "host_alpha                                      0.7 dimensionless   \n",
       "host_Cp                   800.0 meter ** 2 / kelvin / second ** 2   \n",
       "host_E               30000000000.0 kilogram / meter / second ** 2   \n",
       "host_heat_gen_rate           5e-07 kilogram / meter / second ** 3   \n",
       "host_k                           4.914308423088482e-16 meter ** 2   \n",
       "host_lambda           2.0 kilogram * meter / kelvin / second ** 3   \n",
       "host_phi                                      0.001 dimensionless   \n",
       "host_poisson                                   0.25 dimensionless   \n",
       "host_rho                             2500.0 kilogram / meter ** 3   \n",
       "lambda_ref            4.1 kilogram * meter / kelvin / second ** 3   \n",
       "max_size_fault                                         80.0 meter   \n",
       "max_t_step                                  500000000000.0 second   \n",
       "mu0                             0.00117 kilogram / meter / second   \n",
       "rho0                                1022.38 kilogram / meter ** 3   \n",
       "SH_dir                                                 0.0 radian   \n",
       "Sh_grad               15000.0 kilogram / meter ** 2 / second ** 2   \n",
       "SH_grad               20000.0 kilogram / meter ** 2 / second ** 2   \n",
       "strike                                  1.5707963267948966 radian   \n",
       "Sv_grad                                          host_rho*g_const   \n",
       "T_c                                                 293.15 kelvin   \n",
       "t_end                                     40000000000000.0 second   \n",
       "T_h                                      467.7782498216176 kelvin   \n",
       "T_v                                                   62.1 kelvin   \n",
       "Tgrad                                                 (T_h-T_c)/H   \n",
       "theta0                                          1.0 dimensionless   \n",
       "\n",
       "                                                    quantity_pint  \n",
       "aspect_ratio_dip                                1.0 dimensionless  \n",
       "aspect_ratio_strike                            1.25 dimensionless  \n",
       "beta                                             0.00059 / kelvin  \n",
       "dip                                     1.0471975511965976 radian  \n",
       "faul_k_long                      1.349373702338712e-15 meter ** 2  \n",
       "faul_k_trans                     1.359969119986057e-18 meter ** 2  \n",
       "fault_Cp                  800.0 meter ** 2 / kelvin / second ** 2  \n",
       "fault_k_long                                   1.5e-13 meter ** 2  \n",
       "fault_k_trans                                  1.5e-13 meter ** 2  \n",
       "fault_lambda          2.0 kilogram * meter / kelvin / second ** 3  \n",
       "fault_phi                                       0.3 dimensionless  \n",
       "fault_rho                            2500.0 kilogram / meter ** 3  \n",
       "fault_width                                            50.0 meter  \n",
       "H                                                    4000.0 meter  \n",
       "host_alpha                                      0.7 dimensionless  \n",
       "host_Cp                   800.0 meter ** 2 / kelvin / second ** 2  \n",
       "host_E               30000000000.0 kilogram / meter / second ** 2  \n",
       "host_heat_gen_rate           5e-07 kilogram / meter / second ** 3  \n",
       "host_k                           4.914308423088482e-16 meter ** 2  \n",
       "host_lambda           2.0 kilogram * meter / kelvin / second ** 3  \n",
       "host_phi                                      0.001 dimensionless  \n",
       "host_poisson                                   0.25 dimensionless  \n",
       "host_rho                             2500.0 kilogram / meter ** 3  \n",
       "lambda_ref            4.1 kilogram * meter / kelvin / second ** 3  \n",
       "max_size_fault                                         80.0 meter  \n",
       "max_t_step                                  500000000000.0 second  \n",
       "mu0                             0.00117 kilogram / meter / second  \n",
       "rho0                                1022.38 kilogram / meter ** 3  \n",
       "SH_dir                                                 0.0 radian  \n",
       "Sh_grad               15000.0 kilogram / meter ** 2 / second ** 2  \n",
       "SH_grad               20000.0 kilogram / meter ** 2 / second ** 2  \n",
       "strike                                  1.5707963267948966 radian  \n",
       "Sv_grad                                                       NaN  \n",
       "T_c                                                 293.15 kelvin  \n",
       "t_end                                     40000000000000.0 second  \n",
       "T_h                                      467.7782498216176 kelvin  \n",
       "T_v                                                   62.1 kelvin  \n",
       "Tgrad                                                         NaN  \n",
       "theta0                                          1.0 dimensionless  "
      ]
     },
     "execution_count": 27,
     "metadata": {},
     "output_type": "execute_result"
    }
   ],
   "source": [
    "df"
   ]
  },
  {
   "cell_type": "code",
   "execution_count": 28,
   "metadata": {},
   "outputs": [
    {
     "name": "stdout",
     "output_type": "stream",
     "text": [
      "(0.0, 4000.0, 0.0, 5000.0, -4000.0, 0.0)\n"
     ]
    }
   ],
   "source": [
    "def create_smooth_bounds(mesh: pv.DataSet, val_old : float, val_new: float, axis: str = 'z') -> pv.DataSet:\n",
    "    map_axis_dict = {'x': 0, 'y': 1, 'z': 2}\n",
    "    axis = map_axis_dict[axis]\n",
    "    mesh.points[:, axis] = np.where(mesh.points[:, axis] == val_old, val_new, mesh.points[:, axis])\n",
    "    return mesh\n",
    "\n",
    "print(domain_3d.mesh.bounds)\n",
    "# while domain_3d.mesh.bounds[-1] > 0.:\n",
    "#     domain_3d.mesh = create_smooth_bounds(domain_3d.mesh, domain_3d.mesh.bounds[-1], 0. , axis='z')\n",
    "# print(domain_3d.mesh.bounds)"
   ]
  },
  {
   "cell_type": "code",
   "execution_count": 29,
   "metadata": {},
   "outputs": [
    {
     "name": "stdout",
     "output_type": "stream",
     "text": [
      "self.vtu_path=PosixPath('/Users/thomassimader/Documents/NIRB/Snapshots/01/Test/Test_001.vtu')\n",
      "41 timesteps from 0.000e+00 s to 4.000e+13 s\n",
      "self.mesh.bounds=(0.0, 4000.0, 0.0, 5000.0, -4000.0, 0.0)\n",
      "Availabe fields in vtu dataset:\n",
      "\t 1: Temperature\n"
     ]
    }
   ],
   "source": [
    "domain_3d.info()"
   ]
  },
  {
   "cell_type": "code",
   "execution_count": 30,
   "metadata": {},
   "outputs": [
    {
     "name": "stdout",
     "output_type": "stream",
     "text": [
      "59.99999999999999 degree\n",
      "90.0 degree\n",
      "60.0\n",
      "90.0\n"
     ]
    }
   ],
   "source": [
    "dip    = df.loc[\"dip\", \"quantity_pint\"].to(\"deg\")\n",
    "strike = df.loc[\"strike\", \"quantity_pint\"].to(\"deg\")\n",
    "print(dip)\n",
    "print(strike)\n",
    "print(np.round(dip.magnitude))\n",
    "print(np.round(strike.magnitude))"
   ]
  },
  {
   "cell_type": "markdown",
   "metadata": {},
   "source": [
    "### Original Data"
   ]
  },
  {
   "cell_type": "code",
   "execution_count": 31,
   "metadata": {},
   "outputs": [],
   "source": [
    "field_name = domain_3d.format_field(\"Temperature\", -1)\n",
    "normal_vector = calculate_normal(np.round(dip.magnitude), np.round(strike.magnitude))\n",
    "clip_original = domain_3d.mesh.clip(normal = -normal_vector, origin=domain_3d.mesh.center)\n",
    "# clip_original.plot(scalars = field_name, cmap=my_cmap)\n"
   ]
  },
  {
   "cell_type": "markdown",
   "metadata": {},
   "source": [
    "### Control Mesh"
   ]
  },
  {
   "cell_type": "code",
   "execution_count": 32,
   "metadata": {},
   "outputs": [
    {
     "data": {
      "application/vnd.jupyter.widget-view+json": {
       "model_id": "f80b86699cc94f089695924c08a70f89",
       "version_major": 2,
       "version_minor": 0
      },
      "text/plain": [
       "Widget(value='<iframe src=\"http://localhost:58760/index.html?ui=P_0x17f8acda0_0&reconnect=auto\" class=\"pyvista…"
      ]
     },
     "metadata": {},
     "output_type": "display_data"
    },
    {
     "name": "stdout",
     "output_type": "stream",
     "text": [
      "(0.0, 4000.0, 0.0, 5000.0, -4000.0, 0.0)\n",
      "(0.0, 4000.0, 0.0, 5000.0, -4000.0, 0.0)\n"
     ]
    }
   ],
   "source": [
    "bounds = domain_3d.mesh.bounds\n",
    "xrng = np.arange(bounds[0], bounds[1] + 1e-6, 200)\n",
    "yrng = np.arange(bounds[2], bounds[3] + 1e-6, 200)\n",
    "zrng = np.arange(bounds[4], bounds[5] + 1e-6, 100)\n",
    "grid = pv.RectilinearGrid(xrng, yrng, zrng)\n",
    "grid.plot(show_edges=True)\n",
    "print(grid.bounds)\n",
    "print(domain_3d.mesh.bounds)"
   ]
  },
  {
   "cell_type": "markdown",
   "metadata": {},
   "source": [
    "### Add plane"
   ]
  },
  {
   "cell_type": "code",
   "execution_count": 33,
   "metadata": {},
   "outputs": [
    {
     "data": {
      "application/vnd.jupyter.widget-view+json": {
       "model_id": "85cae4f1d8c741b5b1e78dbd000e252c",
       "version_major": 2,
       "version_minor": 0
      },
      "text/plain": [
       "Widget(value='<iframe src=\"http://localhost:58760/index.html?ui=P_0x30379f830_1&reconnect=auto\" class=\"pyvista…"
      ]
     },
     "metadata": {},
     "output_type": "display_data"
    }
   ],
   "source": [
    "control_mesh = grid  #pv.merge([grid, clipped_plane])\n",
    "control_mesh.clip(normal = -normal_vector, origin=domain_3d.mesh.center).plot()\n",
    "control_mesh_cell = control_mesh.copy()\n"
   ]
  },
  {
   "cell_type": "markdown",
   "metadata": {},
   "source": [
    "### pv.interpolate()"
   ]
  },
  {
   "cell_type": "markdown",
   "metadata": {},
   "source": [
    "vtkGaussianKernel is an interpolation kernel that simply returns the weights for all points found in the sphere defined by radius R. The weights are computed as: $e^{-(\\frac{s*r}{R})^2}$ where r is the distance from the point to be interpolated to a neighboring point within R. The sharpness s simply affects the rate of fall off of the Gaussian. (A more general Gaussian kernel is available from vtkEllipsoidalGaussianKernel.)\n",
    "\n",
    "https://vtk.org/doc/nightly/html/classvtkGaussianKernel.html\n",
    "\n",
    "Examples\n",
    "https://examples.vtk.org/site/Cxx/Meshes/InterpolateFieldDataDemo/"
   ]
  },
  {
   "cell_type": "code",
   "execution_count": 34,
   "metadata": {},
   "outputs": [],
   "source": [
    "result              = control_mesh.interpolate(domain_3d.mesh, radius=120, sharpness=1, strategy=\"mask_points\")\n",
    "clip_interpolate = result.clip(normal = -normal_vector, origin=domain_3d.mesh.center)\n",
    "\n",
    "# Visualize\n",
    "# clip_interpolate.plot(scalars=field_name, cmap=my_cmap, show_edges=False)\n",
    "# result.plot(scalars=field_name, cmap=\"coolwarm\", show_edges=True)"
   ]
  },
  {
   "cell_type": "markdown",
   "metadata": {},
   "source": [
    "### pv.Sample()"
   ]
  },
  {
   "cell_type": "code",
   "execution_count": 35,
   "metadata": {},
   "outputs": [],
   "source": [
    "cell_mesh = domain_3d.mesh.point_data_to_cell_data(pass_point_data=False)\n",
    "# control_mesh_cell.plot()\n",
    "# Visualize\n",
    "# clip.plot(scalars=field_name, cmap=my_cmap, show_edges=False)\n",
    "# result.plot(scalars=field_name, cmap=\"coolwarm\", show_edges=True)"
   ]
  },
  {
   "cell_type": "code",
   "execution_count": 36,
   "metadata": {},
   "outputs": [],
   "source": [
    "result_cell              = control_mesh_cell.sample(domain_3d.mesh)\n",
    "clip_sample = result_cell.clip(normal = -normal_vector, origin=domain_3d.mesh.center)"
   ]
  },
  {
   "cell_type": "markdown",
   "metadata": {},
   "source": [
    "### vtkProbeFilter"
   ]
  },
  {
   "cell_type": "code",
   "execution_count": 39,
   "metadata": {},
   "outputs": [
    {
     "name": "stdout",
     "output_type": "stream",
     "text": [
      "(0.0, 4000.0, 0.0, 5000.0, -4000.0, 0.0)\n",
      "97.5609756097561\n"
     ]
    }
   ],
   "source": [
    "bounds = domain_3d.mesh.GetBounds()  # (xmin, xmax, ymin, ymax, zmin, zmax)\n",
    "\n",
    "# Grid resolution\n",
    "nx, ny, nz = 100, 100, 100  # You can increase this for more resolution\n",
    "\n",
    "dx, dy, dz = 100, 100, 100  # You can increase this for more resolution\n",
    "# Compute the number of points needed\n",
    "nx = int((bounds[1] - bounds[0]) / dx) + 1\n",
    "ny = int((bounds[3] - bounds[2]) / dy) + 1\n",
    "nz = int((bounds[5] - bounds[4]) / dz) + 1\n",
    "\n",
    "\n",
    "image = vtk.vtkImageData()\n",
    "image.SetDimensions(nx, ny, nz)\n",
    "image.SetOrigin(bounds[0], bounds[2], bounds[4])\n",
    "image.SetSpacing(dx, dy, dz)\n",
    "# image.SetSpacing(\n",
    "#     (bounds[1] - bounds[0]) / (nx - 1),\n",
    "#     (bounds[3] - bounds[2]) / (ny - 1),\n",
    "#     (bounds[5] - bounds[4]) / (nz - 1),\n",
    "# )\n",
    "\n",
    "interpolated_vtk = map_on_control_mesh(domain_3d.mesh, image)\n",
    "print(bounds)\n",
    "print(f\"{(bounds[1] - bounds[0]) / (nx)}\" )\n",
    "# pv_data = pv.wrap(image).save(\"interpolated_output.vti\")\n",
    "clip_vtk = interpolated_vtk.clip(normal = -normal_vector, origin=domain_3d.mesh.center)"
   ]
  },
  {
   "cell_type": "markdown",
   "metadata": {},
   "source": [
    "## Plot"
   ]
  },
  {
   "cell_type": "code",
   "execution_count": 40,
   "metadata": {},
   "outputs": [
    {
     "data": {
      "application/vnd.jupyter.widget-view+json": {
       "model_id": "09f66e44bd55421a83bc598fe043dffe",
       "version_major": 2,
       "version_minor": 0
      },
      "text/plain": [
       "Widget(value='<iframe src=\"http://localhost:58760/index.html?ui=P_0x3383982c0_3&reconnect=auto\" class=\"pyvista…"
      ]
     },
     "metadata": {},
     "output_type": "display_data"
    }
   ],
   "source": [
    "\n",
    "# Loop through the samples and plot\n",
    "clips = [clip_original, clip_interpolate, clip_sample, clip_vtk]\n",
    "labels = [\"Original\", \"pv.Interpolate()\", \"pv.Sample()\", \"vtkProbeFilter\"]\n",
    "plotter = pv.Plotter(shape=(1, len(clips)), window_size=(1200, 500))\n",
    "for i, (clip, label) in enumerate(zip(clips, labels)):\n",
    "    plotter.subplot(0, i)\n",
    "    plotter.add_mesh(clip, scalars = field_name,\n",
    "                     cmap = my_cmap,\n",
    "                    scalar_bar_args={'title': f'{field_name} ({i})',\n",
    "                    'label_font_size': 10,\n",
    "                    'title_font_size': 8,}\n",
    "                    )\n",
    "    \n",
    "\n",
    "    plotter.add_text(label)\n",
    "\n",
    "plotter.show()"
   ]
  },
  {
   "cell_type": "code",
   "execution_count": null,
   "metadata": {},
   "outputs": [],
   "source": []
  }
 ],
 "metadata": {
  "kernelspec": {
   "display_name": ".venv",
   "language": "python",
   "name": "python3"
  },
  "language_info": {
   "codemirror_mode": {
    "name": "ipython",
    "version": 3
   },
   "file_extension": ".py",
   "mimetype": "text/x-python",
   "name": "python",
   "nbconvert_exporter": "python",
   "pygments_lexer": "ipython3",
   "version": "3.12.4"
  }
 },
 "nbformat": 4,
 "nbformat_minor": 2
}
